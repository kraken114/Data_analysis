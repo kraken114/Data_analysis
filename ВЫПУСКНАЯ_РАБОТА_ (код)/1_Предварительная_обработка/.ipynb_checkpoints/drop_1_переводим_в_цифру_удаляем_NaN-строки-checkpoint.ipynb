{
 "cells": [
  {
   "cell_type": "code",
   "execution_count": 33,
   "id": "476ef4a5",
   "metadata": {},
   "outputs": [],
   "source": [
    "import pandas as pd # пакет (строится поверх numpy)\n",
    "import numpy as np # библиотека\n",
    "from pandas import read_csv"
   ]
  },
  {
   "cell_type": "code",
   "execution_count": 34,
   "id": "4110daa5",
   "metadata": {},
   "outputs": [],
   "source": [
    "df=read_csv('D:\\Политех\\Класиффикация\\Сегментация_клиентов\\Train.csv')"
   ]
  },
  {
   "cell_type": "code",
   "execution_count": 35,
   "id": "459abf80",
   "metadata": {},
   "outputs": [
    {
     "data": {
      "text/html": [
       "<div>\n",
       "<style scoped>\n",
       "    .dataframe tbody tr th:only-of-type {\n",
       "        vertical-align: middle;\n",
       "    }\n",
       "\n",
       "    .dataframe tbody tr th {\n",
       "        vertical-align: top;\n",
       "    }\n",
       "\n",
       "    .dataframe thead th {\n",
       "        text-align: right;\n",
       "    }\n",
       "</style>\n",
       "<table border=\"1\" class=\"dataframe\">\n",
       "  <thead>\n",
       "    <tr style=\"text-align: right;\">\n",
       "      <th></th>\n",
       "      <th>Gender</th>\n",
       "      <th>Ever_Married</th>\n",
       "      <th>Age</th>\n",
       "      <th>Graduated</th>\n",
       "      <th>Profession</th>\n",
       "      <th>Work_Experience</th>\n",
       "      <th>Spending_Score</th>\n",
       "      <th>Family_Size</th>\n",
       "      <th>Var_1</th>\n",
       "      <th>Segmentation</th>\n",
       "    </tr>\n",
       "  </thead>\n",
       "  <tbody>\n",
       "    <tr>\n",
       "      <th>0</th>\n",
       "      <td>Male</td>\n",
       "      <td>No</td>\n",
       "      <td>22</td>\n",
       "      <td>No</td>\n",
       "      <td>Healthcare</td>\n",
       "      <td>1.0</td>\n",
       "      <td>Low</td>\n",
       "      <td>4.0</td>\n",
       "      <td>Cat_4</td>\n",
       "      <td>D</td>\n",
       "    </tr>\n",
       "    <tr>\n",
       "      <th>1</th>\n",
       "      <td>Female</td>\n",
       "      <td>Yes</td>\n",
       "      <td>38</td>\n",
       "      <td>Yes</td>\n",
       "      <td>Engineer</td>\n",
       "      <td>NaN</td>\n",
       "      <td>Average</td>\n",
       "      <td>3.0</td>\n",
       "      <td>Cat_4</td>\n",
       "      <td>A</td>\n",
       "    </tr>\n",
       "    <tr>\n",
       "      <th>2</th>\n",
       "      <td>Female</td>\n",
       "      <td>Yes</td>\n",
       "      <td>67</td>\n",
       "      <td>Yes</td>\n",
       "      <td>Engineer</td>\n",
       "      <td>1.0</td>\n",
       "      <td>Low</td>\n",
       "      <td>1.0</td>\n",
       "      <td>Cat_6</td>\n",
       "      <td>B</td>\n",
       "    </tr>\n",
       "    <tr>\n",
       "      <th>3</th>\n",
       "      <td>Male</td>\n",
       "      <td>Yes</td>\n",
       "      <td>67</td>\n",
       "      <td>Yes</td>\n",
       "      <td>Lawyer</td>\n",
       "      <td>0.0</td>\n",
       "      <td>High</td>\n",
       "      <td>2.0</td>\n",
       "      <td>Cat_6</td>\n",
       "      <td>B</td>\n",
       "    </tr>\n",
       "    <tr>\n",
       "      <th>4</th>\n",
       "      <td>Female</td>\n",
       "      <td>Yes</td>\n",
       "      <td>40</td>\n",
       "      <td>Yes</td>\n",
       "      <td>Entertainment</td>\n",
       "      <td>NaN</td>\n",
       "      <td>High</td>\n",
       "      <td>6.0</td>\n",
       "      <td>Cat_6</td>\n",
       "      <td>A</td>\n",
       "    </tr>\n",
       "    <tr>\n",
       "      <th>...</th>\n",
       "      <td>...</td>\n",
       "      <td>...</td>\n",
       "      <td>...</td>\n",
       "      <td>...</td>\n",
       "      <td>...</td>\n",
       "      <td>...</td>\n",
       "      <td>...</td>\n",
       "      <td>...</td>\n",
       "      <td>...</td>\n",
       "      <td>...</td>\n",
       "    </tr>\n",
       "    <tr>\n",
       "      <th>8063</th>\n",
       "      <td>Male</td>\n",
       "      <td>No</td>\n",
       "      <td>22</td>\n",
       "      <td>No</td>\n",
       "      <td>NaN</td>\n",
       "      <td>0.0</td>\n",
       "      <td>Low</td>\n",
       "      <td>7.0</td>\n",
       "      <td>Cat_1</td>\n",
       "      <td>D</td>\n",
       "    </tr>\n",
       "    <tr>\n",
       "      <th>8064</th>\n",
       "      <td>Male</td>\n",
       "      <td>No</td>\n",
       "      <td>35</td>\n",
       "      <td>No</td>\n",
       "      <td>Executive</td>\n",
       "      <td>3.0</td>\n",
       "      <td>Low</td>\n",
       "      <td>4.0</td>\n",
       "      <td>Cat_4</td>\n",
       "      <td>D</td>\n",
       "    </tr>\n",
       "    <tr>\n",
       "      <th>8065</th>\n",
       "      <td>Female</td>\n",
       "      <td>No</td>\n",
       "      <td>33</td>\n",
       "      <td>Yes</td>\n",
       "      <td>Healthcare</td>\n",
       "      <td>1.0</td>\n",
       "      <td>Low</td>\n",
       "      <td>1.0</td>\n",
       "      <td>Cat_6</td>\n",
       "      <td>D</td>\n",
       "    </tr>\n",
       "    <tr>\n",
       "      <th>8066</th>\n",
       "      <td>Female</td>\n",
       "      <td>No</td>\n",
       "      <td>27</td>\n",
       "      <td>Yes</td>\n",
       "      <td>Healthcare</td>\n",
       "      <td>1.0</td>\n",
       "      <td>Low</td>\n",
       "      <td>4.0</td>\n",
       "      <td>Cat_6</td>\n",
       "      <td>B</td>\n",
       "    </tr>\n",
       "    <tr>\n",
       "      <th>8067</th>\n",
       "      <td>Male</td>\n",
       "      <td>Yes</td>\n",
       "      <td>37</td>\n",
       "      <td>Yes</td>\n",
       "      <td>Executive</td>\n",
       "      <td>0.0</td>\n",
       "      <td>Average</td>\n",
       "      <td>3.0</td>\n",
       "      <td>Cat_4</td>\n",
       "      <td>B</td>\n",
       "    </tr>\n",
       "  </tbody>\n",
       "</table>\n",
       "<p>8068 rows × 10 columns</p>\n",
       "</div>"
      ],
      "text/plain": [
       "      Gender Ever_Married  Age Graduated     Profession  Work_Experience  \\\n",
       "0       Male           No   22        No     Healthcare              1.0   \n",
       "1     Female          Yes   38       Yes       Engineer              NaN   \n",
       "2     Female          Yes   67       Yes       Engineer              1.0   \n",
       "3       Male          Yes   67       Yes         Lawyer              0.0   \n",
       "4     Female          Yes   40       Yes  Entertainment              NaN   \n",
       "...      ...          ...  ...       ...            ...              ...   \n",
       "8063    Male           No   22        No            NaN              0.0   \n",
       "8064    Male           No   35        No      Executive              3.0   \n",
       "8065  Female           No   33       Yes     Healthcare              1.0   \n",
       "8066  Female           No   27       Yes     Healthcare              1.0   \n",
       "8067    Male          Yes   37       Yes      Executive              0.0   \n",
       "\n",
       "     Spending_Score  Family_Size  Var_1 Segmentation  \n",
       "0               Low          4.0  Cat_4            D  \n",
       "1           Average          3.0  Cat_4            A  \n",
       "2               Low          1.0  Cat_6            B  \n",
       "3              High          2.0  Cat_6            B  \n",
       "4              High          6.0  Cat_6            A  \n",
       "...             ...          ...    ...          ...  \n",
       "8063            Low          7.0  Cat_1            D  \n",
       "8064            Low          4.0  Cat_4            D  \n",
       "8065            Low          1.0  Cat_6            D  \n",
       "8066            Low          4.0  Cat_6            B  \n",
       "8067        Average          3.0  Cat_4            B  \n",
       "\n",
       "[8068 rows x 10 columns]"
      ]
     },
     "execution_count": 35,
     "metadata": {},
     "output_type": "execute_result"
    }
   ],
   "source": [
    "df.drop('ID',axis=1)"
   ]
  },
  {
   "cell_type": "code",
   "execution_count": 36,
   "id": "f03a80bf",
   "metadata": {},
   "outputs": [
    {
     "data": {
      "text/plain": [
       "ID                   int64\n",
       "Gender              object\n",
       "Ever_Married        object\n",
       "Age                  int64\n",
       "Graduated           object\n",
       "Profession          object\n",
       "Work_Experience    float64\n",
       "Spending_Score      object\n",
       "Family_Size        float64\n",
       "Var_1               object\n",
       "Segmentation        object\n",
       "dtype: object"
      ]
     },
     "execution_count": 36,
     "metadata": {},
     "output_type": "execute_result"
    }
   ],
   "source": [
    "df.dtypes"
   ]
  },
  {
   "cell_type": "markdown",
   "id": "e97d1f50",
   "metadata": {},
   "source": [
    "# **1.1 Кодирование данных**"
   ]
  },
  {
   "cell_type": "markdown",
   "id": "5d96fb43",
   "metadata": {},
   "source": [
    "**1. Удаляем ненужный столбец 'ID'**"
   ]
  },
  {
   "cell_type": "code",
   "execution_count": 37,
   "id": "3d979a88",
   "metadata": {},
   "outputs": [],
   "source": [
    "df.drop('ID',axis=1,inplace=True)"
   ]
  },
  {
   "cell_type": "markdown",
   "id": "1d039181",
   "metadata": {},
   "source": [
    "**2. Переименовываем столбцы на русский язык**"
   ]
  },
  {
   "cell_type": "code",
   "execution_count": 38,
   "id": "2ed141a4",
   "metadata": {},
   "outputs": [],
   "source": [
    "df.rename(columns={'Gender': 'Пол', 'Ever_Married': 'Семейное_положение',\n",
    "                   'Age': 'Возраст', 'Graduated': 'Высшее_образование',\n",
    "                   'Profession': 'Профессия', 'Work_Experience': 'Опыт_работы',\n",
    "                   'Spending_Score': 'Уровень_расходов', 'Family_Size': 'Размер_семьи',\n",
    "                   'Var_1': 'Анонимная_категория', 'Segmentation': 'Целевая_категория'\n",
    "                  },inplace=True)"
   ]
  },
  {
   "cell_type": "code",
   "execution_count": 39,
   "id": "e918af0c",
   "metadata": {},
   "outputs": [
    {
     "data": {
      "text/html": [
       "<div>\n",
       "<style scoped>\n",
       "    .dataframe tbody tr th:only-of-type {\n",
       "        vertical-align: middle;\n",
       "    }\n",
       "\n",
       "    .dataframe tbody tr th {\n",
       "        vertical-align: top;\n",
       "    }\n",
       "\n",
       "    .dataframe thead th {\n",
       "        text-align: right;\n",
       "    }\n",
       "</style>\n",
       "<table border=\"1\" class=\"dataframe\">\n",
       "  <thead>\n",
       "    <tr style=\"text-align: right;\">\n",
       "      <th></th>\n",
       "      <th>Пол</th>\n",
       "      <th>Семейное_положение</th>\n",
       "      <th>Возраст</th>\n",
       "      <th>Высшее_образование</th>\n",
       "      <th>Профессия</th>\n",
       "      <th>Опыт_работы</th>\n",
       "      <th>Уровень_расходов</th>\n",
       "      <th>Размер_семьи</th>\n",
       "      <th>Анонимная_категория</th>\n",
       "      <th>Целевая_категория</th>\n",
       "    </tr>\n",
       "  </thead>\n",
       "  <tbody>\n",
       "    <tr>\n",
       "      <th>0</th>\n",
       "      <td>Male</td>\n",
       "      <td>No</td>\n",
       "      <td>22</td>\n",
       "      <td>No</td>\n",
       "      <td>Healthcare</td>\n",
       "      <td>1.0</td>\n",
       "      <td>Low</td>\n",
       "      <td>4.0</td>\n",
       "      <td>Cat_4</td>\n",
       "      <td>D</td>\n",
       "    </tr>\n",
       "    <tr>\n",
       "      <th>1</th>\n",
       "      <td>Female</td>\n",
       "      <td>Yes</td>\n",
       "      <td>38</td>\n",
       "      <td>Yes</td>\n",
       "      <td>Engineer</td>\n",
       "      <td>NaN</td>\n",
       "      <td>Average</td>\n",
       "      <td>3.0</td>\n",
       "      <td>Cat_4</td>\n",
       "      <td>A</td>\n",
       "    </tr>\n",
       "    <tr>\n",
       "      <th>2</th>\n",
       "      <td>Female</td>\n",
       "      <td>Yes</td>\n",
       "      <td>67</td>\n",
       "      <td>Yes</td>\n",
       "      <td>Engineer</td>\n",
       "      <td>1.0</td>\n",
       "      <td>Low</td>\n",
       "      <td>1.0</td>\n",
       "      <td>Cat_6</td>\n",
       "      <td>B</td>\n",
       "    </tr>\n",
       "    <tr>\n",
       "      <th>3</th>\n",
       "      <td>Male</td>\n",
       "      <td>Yes</td>\n",
       "      <td>67</td>\n",
       "      <td>Yes</td>\n",
       "      <td>Lawyer</td>\n",
       "      <td>0.0</td>\n",
       "      <td>High</td>\n",
       "      <td>2.0</td>\n",
       "      <td>Cat_6</td>\n",
       "      <td>B</td>\n",
       "    </tr>\n",
       "    <tr>\n",
       "      <th>4</th>\n",
       "      <td>Female</td>\n",
       "      <td>Yes</td>\n",
       "      <td>40</td>\n",
       "      <td>Yes</td>\n",
       "      <td>Entertainment</td>\n",
       "      <td>NaN</td>\n",
       "      <td>High</td>\n",
       "      <td>6.0</td>\n",
       "      <td>Cat_6</td>\n",
       "      <td>A</td>\n",
       "    </tr>\n",
       "  </tbody>\n",
       "</table>\n",
       "</div>"
      ],
      "text/plain": [
       "      Пол Семейное_положение  Возраст Высшее_образование      Профессия  \\\n",
       "0    Male                 No       22                 No     Healthcare   \n",
       "1  Female                Yes       38                Yes       Engineer   \n",
       "2  Female                Yes       67                Yes       Engineer   \n",
       "3    Male                Yes       67                Yes         Lawyer   \n",
       "4  Female                Yes       40                Yes  Entertainment   \n",
       "\n",
       "   Опыт_работы Уровень_расходов  Размер_семьи Анонимная_категория  \\\n",
       "0          1.0              Low           4.0               Cat_4   \n",
       "1          NaN          Average           3.0               Cat_4   \n",
       "2          1.0              Low           1.0               Cat_6   \n",
       "3          0.0             High           2.0               Cat_6   \n",
       "4          NaN             High           6.0               Cat_6   \n",
       "\n",
       "  Целевая_категория  \n",
       "0                 D  \n",
       "1                 A  \n",
       "2                 B  \n",
       "3                 B  \n",
       "4                 A  "
      ]
     },
     "execution_count": 39,
     "metadata": {},
     "output_type": "execute_result"
    }
   ],
   "source": [
    "df.head(5)"
   ]
  },
  {
   "cell_type": "markdown",
   "id": "e35580e5",
   "metadata": {},
   "source": [
    "**3. Исследуем данные**"
   ]
  },
  {
   "cell_type": "code",
   "execution_count": 10,
   "id": "68db3c16",
   "metadata": {
    "collapsed": true
   },
   "outputs": [
    {
     "data": {
      "text/plain": [
       "Пол                     2\n",
       "Семейное_положение      2\n",
       "Возраст                67\n",
       "Высшее_образование      2\n",
       "Профессия               9\n",
       "Опыт_работы            15\n",
       "Уровень_расходов        3\n",
       "Размер_семьи            9\n",
       "Анонимная_категория     7\n",
       "Целевая_категория       4\n",
       "dtype: int64"
      ]
     },
     "execution_count": 10,
     "metadata": {},
     "output_type": "execute_result"
    }
   ],
   "source": [
    "df.nunique()"
   ]
  },
  {
   "cell_type": "code",
   "execution_count": 23,
   "id": "29582507",
   "metadata": {
    "collapsed": true
   },
   "outputs": [
    {
     "data": {
      "text/plain": [
       "Пол                      0\n",
       "Семейное_положение     140\n",
       "Возраст                  0\n",
       "Высшее_образование      78\n",
       "Профессия              124\n",
       "Опыт_работы            829\n",
       "Уровень_расходов         0\n",
       "Размер_семьи           335\n",
       "Анонимная_категория     76\n",
       "Целевая_категория        0\n",
       "dtype: int64"
      ]
     },
     "execution_count": 23,
     "metadata": {},
     "output_type": "execute_result"
    }
   ],
   "source": [
    "df.isna().sum()"
   ]
  },
  {
   "cell_type": "code",
   "execution_count": 24,
   "id": "01a527c0",
   "metadata": {
    "collapsed": true
   },
   "outputs": [
    {
     "data": {
      "text/plain": [
       "Пол                     object\n",
       "Семейное_положение      object\n",
       "Возраст                  int64\n",
       "Высшее_образование      object\n",
       "Профессия               object\n",
       "Опыт_работы            float64\n",
       "Уровень_расходов        object\n",
       "Размер_семьи           float64\n",
       "Анонимная_категория     object\n",
       "Целевая_категория       object\n",
       "dtype: object"
      ]
     },
     "execution_count": 24,
     "metadata": {},
     "output_type": "execute_result"
    }
   ],
   "source": [
    "df.dtypes"
   ]
  },
  {
   "cell_type": "markdown",
   "id": "bf31baea",
   "metadata": {},
   "source": [
    "**4. Кодируем столбцы адресно (т.е. каждому значению в столбце присваиваем конкретное число)**"
   ]
  },
  {
   "cell_type": "markdown",
   "id": "a7f9ad1b",
   "metadata": {},
   "source": [
    "**Пол**"
   ]
  },
  {
   "cell_type": "code",
   "execution_count": 40,
   "id": "b64b8432",
   "metadata": {},
   "outputs": [
    {
     "data": {
      "text/plain": [
       "array(['Male', 'Female'], dtype=object)"
      ]
     },
     "execution_count": 40,
     "metadata": {},
     "output_type": "execute_result"
    }
   ],
   "source": [
    "df['Пол'].unique()"
   ]
  },
  {
   "cell_type": "code",
   "execution_count": 41,
   "id": "bd957c9f",
   "metadata": {},
   "outputs": [],
   "source": [
    "df['Пол']=np.where(df['Пол']=='Male',1,0)"
   ]
  },
  {
   "cell_type": "markdown",
   "id": "95d9506b",
   "metadata": {},
   "source": [
    "**Семейное_положение**"
   ]
  },
  {
   "cell_type": "code",
   "execution_count": 42,
   "id": "13afe4aa",
   "metadata": {},
   "outputs": [
    {
     "data": {
      "text/plain": [
       "array(['No', 'Yes', nan], dtype=object)"
      ]
     },
     "execution_count": 42,
     "metadata": {},
     "output_type": "execute_result"
    }
   ],
   "source": [
    "df['Семейное_положение'].unique()"
   ]
  },
  {
   "cell_type": "code",
   "execution_count": 43,
   "id": "29738f9d",
   "metadata": {},
   "outputs": [],
   "source": [
    "df['Семейное_положение']=np.where(df['Семейное_положение']=='Yes',1,\n",
    "                          (np.where(df['Семейное_положение']=='No',0,np.nan)))"
   ]
  },
  {
   "cell_type": "markdown",
   "id": "3e8bcaf2",
   "metadata": {},
   "source": [
    "**Анонимная_категория**"
   ]
  },
  {
   "cell_type": "code",
   "execution_count": 50,
   "id": "09bfbb44",
   "metadata": {},
   "outputs": [
    {
     "data": {
      "text/plain": [
       "array(['Cat_4', 'Cat_6', 'Cat_7', 'Cat_3', 'Cat_1', 'Cat_2', nan, 'Cat_5'],\n",
       "      dtype=object)"
      ]
     },
     "execution_count": 50,
     "metadata": {},
     "output_type": "execute_result"
    }
   ],
   "source": [
    "df['Анонимная_категория'].unique()"
   ]
  },
  {
   "cell_type": "code",
   "execution_count": 51,
   "id": "6d003b9e",
   "metadata": {},
   "outputs": [],
   "source": [
    "df['Анонимная_категория']= np.where(df['Анонимная_категория']=='Cat_1',1,\n",
    "                          (np.where(df['Анонимная_категория']=='Cat_2',2,\n",
    "                          (np.where(df['Анонимная_категория']=='Cat_3',3,\n",
    "                          (np.where(df['Анонимная_категория']=='Cat_4',4,\n",
    "                          (np.where(df['Анонимная_категория']=='Cat_5',5,\n",
    "                          (np.where(df['Анонимная_категория']=='Cat_6',6,\n",
    "                          (np.where(df['Анонимная_категория']=='Cat_7',7,np.nan)))))))))))))"
   ]
  },
  {
   "cell_type": "code",
   "execution_count": 54,
   "id": "dbf9b1e6",
   "metadata": {},
   "outputs": [
    {
     "data": {
      "text/html": [
       "<div>\n",
       "<style scoped>\n",
       "    .dataframe tbody tr th:only-of-type {\n",
       "        vertical-align: middle;\n",
       "    }\n",
       "\n",
       "    .dataframe tbody tr th {\n",
       "        vertical-align: top;\n",
       "    }\n",
       "\n",
       "    .dataframe thead th {\n",
       "        text-align: right;\n",
       "    }\n",
       "</style>\n",
       "<table border=\"1\" class=\"dataframe\">\n",
       "  <thead>\n",
       "    <tr style=\"text-align: right;\">\n",
       "      <th></th>\n",
       "      <th>Пол</th>\n",
       "      <th>Семейное_положение</th>\n",
       "      <th>Возраст</th>\n",
       "      <th>Высшее_образование</th>\n",
       "      <th>Профессия</th>\n",
       "      <th>Опыт_работы</th>\n",
       "      <th>Уровень_расходов</th>\n",
       "      <th>Размер_семьи</th>\n",
       "      <th>Анонимная_категория</th>\n",
       "      <th>Целевая_категория</th>\n",
       "    </tr>\n",
       "  </thead>\n",
       "  <tbody>\n",
       "    <tr>\n",
       "      <th>0</th>\n",
       "      <td>1</td>\n",
       "      <td>0.0</td>\n",
       "      <td>22</td>\n",
       "      <td>0.0</td>\n",
       "      <td>2.0</td>\n",
       "      <td>1.0</td>\n",
       "      <td>3</td>\n",
       "      <td>4.0</td>\n",
       "      <td>4.0</td>\n",
       "      <td>4</td>\n",
       "    </tr>\n",
       "    <tr>\n",
       "      <th>1</th>\n",
       "      <td>0</td>\n",
       "      <td>1.0</td>\n",
       "      <td>38</td>\n",
       "      <td>1.0</td>\n",
       "      <td>4.0</td>\n",
       "      <td>NaN</td>\n",
       "      <td>2</td>\n",
       "      <td>3.0</td>\n",
       "      <td>4.0</td>\n",
       "      <td>1</td>\n",
       "    </tr>\n",
       "    <tr>\n",
       "      <th>2</th>\n",
       "      <td>0</td>\n",
       "      <td>1.0</td>\n",
       "      <td>67</td>\n",
       "      <td>1.0</td>\n",
       "      <td>4.0</td>\n",
       "      <td>1.0</td>\n",
       "      <td>3</td>\n",
       "      <td>1.0</td>\n",
       "      <td>6.0</td>\n",
       "      <td>2</td>\n",
       "    </tr>\n",
       "    <tr>\n",
       "      <th>3</th>\n",
       "      <td>1</td>\n",
       "      <td>1.0</td>\n",
       "      <td>67</td>\n",
       "      <td>1.0</td>\n",
       "      <td>6.0</td>\n",
       "      <td>0.0</td>\n",
       "      <td>1</td>\n",
       "      <td>2.0</td>\n",
       "      <td>6.0</td>\n",
       "      <td>2</td>\n",
       "    </tr>\n",
       "    <tr>\n",
       "      <th>4</th>\n",
       "      <td>0</td>\n",
       "      <td>1.0</td>\n",
       "      <td>40</td>\n",
       "      <td>1.0</td>\n",
       "      <td>3.0</td>\n",
       "      <td>NaN</td>\n",
       "      <td>1</td>\n",
       "      <td>6.0</td>\n",
       "      <td>6.0</td>\n",
       "      <td>1</td>\n",
       "    </tr>\n",
       "    <tr>\n",
       "      <th>...</th>\n",
       "      <td>...</td>\n",
       "      <td>...</td>\n",
       "      <td>...</td>\n",
       "      <td>...</td>\n",
       "      <td>...</td>\n",
       "      <td>...</td>\n",
       "      <td>...</td>\n",
       "      <td>...</td>\n",
       "      <td>...</td>\n",
       "      <td>...</td>\n",
       "    </tr>\n",
       "    <tr>\n",
       "      <th>8063</th>\n",
       "      <td>1</td>\n",
       "      <td>0.0</td>\n",
       "      <td>22</td>\n",
       "      <td>0.0</td>\n",
       "      <td>NaN</td>\n",
       "      <td>0.0</td>\n",
       "      <td>3</td>\n",
       "      <td>7.0</td>\n",
       "      <td>1.0</td>\n",
       "      <td>4</td>\n",
       "    </tr>\n",
       "    <tr>\n",
       "      <th>8064</th>\n",
       "      <td>1</td>\n",
       "      <td>0.0</td>\n",
       "      <td>35</td>\n",
       "      <td>0.0</td>\n",
       "      <td>7.0</td>\n",
       "      <td>3.0</td>\n",
       "      <td>3</td>\n",
       "      <td>4.0</td>\n",
       "      <td>4.0</td>\n",
       "      <td>4</td>\n",
       "    </tr>\n",
       "    <tr>\n",
       "      <th>8065</th>\n",
       "      <td>0</td>\n",
       "      <td>0.0</td>\n",
       "      <td>33</td>\n",
       "      <td>1.0</td>\n",
       "      <td>2.0</td>\n",
       "      <td>1.0</td>\n",
       "      <td>3</td>\n",
       "      <td>1.0</td>\n",
       "      <td>6.0</td>\n",
       "      <td>4</td>\n",
       "    </tr>\n",
       "    <tr>\n",
       "      <th>8066</th>\n",
       "      <td>0</td>\n",
       "      <td>0.0</td>\n",
       "      <td>27</td>\n",
       "      <td>1.0</td>\n",
       "      <td>2.0</td>\n",
       "      <td>1.0</td>\n",
       "      <td>3</td>\n",
       "      <td>4.0</td>\n",
       "      <td>6.0</td>\n",
       "      <td>2</td>\n",
       "    </tr>\n",
       "    <tr>\n",
       "      <th>8067</th>\n",
       "      <td>1</td>\n",
       "      <td>1.0</td>\n",
       "      <td>37</td>\n",
       "      <td>1.0</td>\n",
       "      <td>7.0</td>\n",
       "      <td>0.0</td>\n",
       "      <td>2</td>\n",
       "      <td>3.0</td>\n",
       "      <td>4.0</td>\n",
       "      <td>2</td>\n",
       "    </tr>\n",
       "  </tbody>\n",
       "</table>\n",
       "<p>8068 rows × 10 columns</p>\n",
       "</div>"
      ],
      "text/plain": [
       "      Пол  Семейное_положение  Возраст  Высшее_образование  Профессия  \\\n",
       "0       1                 0.0       22                 0.0        2.0   \n",
       "1       0                 1.0       38                 1.0        4.0   \n",
       "2       0                 1.0       67                 1.0        4.0   \n",
       "3       1                 1.0       67                 1.0        6.0   \n",
       "4       0                 1.0       40                 1.0        3.0   \n",
       "...   ...                 ...      ...                 ...        ...   \n",
       "8063    1                 0.0       22                 0.0        NaN   \n",
       "8064    1                 0.0       35                 0.0        7.0   \n",
       "8065    0                 0.0       33                 1.0        2.0   \n",
       "8066    0                 0.0       27                 1.0        2.0   \n",
       "8067    1                 1.0       37                 1.0        7.0   \n",
       "\n",
       "      Опыт_работы  Уровень_расходов  Размер_семьи  Анонимная_категория  \\\n",
       "0             1.0                 3           4.0                  4.0   \n",
       "1             NaN                 2           3.0                  4.0   \n",
       "2             1.0                 3           1.0                  6.0   \n",
       "3             0.0                 1           2.0                  6.0   \n",
       "4             NaN                 1           6.0                  6.0   \n",
       "...           ...               ...           ...                  ...   \n",
       "8063          0.0                 3           7.0                  1.0   \n",
       "8064          3.0                 3           4.0                  4.0   \n",
       "8065          1.0                 3           1.0                  6.0   \n",
       "8066          1.0                 3           4.0                  6.0   \n",
       "8067          0.0                 2           3.0                  4.0   \n",
       "\n",
       "      Целевая_категория  \n",
       "0                     4  \n",
       "1                     1  \n",
       "2                     2  \n",
       "3                     2  \n",
       "4                     1  \n",
       "...                 ...  \n",
       "8063                  4  \n",
       "8064                  4  \n",
       "8065                  4  \n",
       "8066                  2  \n",
       "8067                  2  \n",
       "\n",
       "[8068 rows x 10 columns]"
      ]
     },
     "execution_count": 54,
     "metadata": {},
     "output_type": "execute_result"
    }
   ],
   "source": [
    "df"
   ]
  },
  {
   "cell_type": "code",
   "execution_count": 55,
   "id": "370d9c3b",
   "metadata": {},
   "outputs": [
    {
     "data": {
      "text/plain": [
       "<AxesSubplot:>"
      ]
     },
     "execution_count": 55,
     "metadata": {},
     "output_type": "execute_result"
    },
    {
     "data": {
      "image/png": "[encoded data removed]",
      "text/plain": [
       "<Figure size 864x720 with 2 Axes>"
      ]
     },
     "metadata": {
      "needs_background": "light"
     },
     "output_type": "display_data"
    }
   ],
   "source": [
    "import pandas as pd\n",
    "import matplotlib.pyplot as plt\n",
    "import seaborn as sns\n",
    "plt.figure(figsize=(12, 10))\n",
    "\n",
    "sns.heatmap(df.corr(), vmin = -1, vmax = +1, annot = True, cmap = 'coolwarm')"
   ]
  },
  {
   "cell_type": "markdown",
   "id": "259688f9",
   "metadata": {},
   "source": [
    "# **1.2 Визуализация пропусков**"
   ]
  },
  {
   "cell_type": "code",
   "execution_count": 25,
   "id": "3f766f35",
   "metadata": {},
   "outputs": [
    {
     "data": {
      "image/png": "[encoded data removed]",
      "text/plain": [
       "<Figure size 1800x720 with 2 Axes>"
      ]
     },
     "metadata": {
      "needs_background": "light"
     },
     "output_type": "display_data"
    }
   ],
   "source": [
    "import missingno as msno # \n",
    "ах= msno.matrix(df.sample(500))"
   ]
  },
  {
   "cell_type": "code",
   "execution_count": 14,
   "id": "99893408",
   "metadata": {},
   "outputs": [],
   "source": [
    "df.to_csv('Train_codes.csv')"
   ]
  },
  {
   "cell_type": "code",
   "execution_count": 46,
   "id": "9d4584d5",
   "metadata": {},
   "outputs": [
    {
     "data": {
      "text/plain": [
       "(8068, 10)"
      ]
     },
     "execution_count": 46,
     "metadata": {},
     "output_type": "execute_result"
    }
   ],
   "source": [
    "df.shape"
   ]
  },
  {
   "cell_type": "markdown",
   "id": "4b14d786",
   "metadata": {},
   "source": [
    "# **1.3 Удаление строк с пропусками и сохранение данных в файл.**"
   ]
  },
  {
   "cell_type": "markdown",
   "id": "59938df9",
   "metadata": {},
   "source": [
    "**1. Удаляем строки с NaN (просто удаляем и все)**"
   ]
  },
  {
   "cell_type": "code",
   "execution_count": 47,
   "id": "0702e45b",
   "metadata": {},
   "outputs": [],
   "source": [
    "df_dropna = df.dropna()"
   ]
  },
  {
   "cell_type": "code",
   "execution_count": 110,
   "id": "fbdfabea",
   "metadata": {},
   "outputs": [],
   "source": [
    "df_dropna=read_csv('D:\\Политех\\Класиффикация\\Сегментация_клиентов\\Train_cleared_dropna.csv')"
   ]
  },
  {
   "cell_type": "code",
   "execution_count": 111,
   "id": "0db49fba",
   "metadata": {},
   "outputs": [],
   "source": [
    "df_dropna=df_dropna.filter(regex='^(?!.*Unnamed).*$')"
   ]
  },
  {
   "cell_type": "code",
   "execution_count": 138,
   "id": "2e2ef548",
   "metadata": {},
   "outputs": [],
   "source": [
    "d = df_dropna.drop_duplicates(keep = False)"
   ]
  },
  {
   "cell_type": "markdown",
   "id": "beda5d8e",
   "metadata": {},
   "source": [
    "**2. Визуализация распределения результативного признака**"
   ]
  },
  {
   "cell_type": "code",
   "execution_count": 140,
   "id": "cb9030f4",
   "metadata": {},
   "outputs": [
    {
     "data": {
      "image/png": "[encoded data removed]",
      "text/plain": [
       "<Figure size 720x432 with 1 Axes>"
      ]
     },
     "metadata": {},
     "output_type": "display_data"
    }
   ],
   "source": [
    "import matplotlib.pyplot as plt\n",
    "import seaborn as sns\n",
    "pie, ax = plt.subplots(figsize=[10,6])\n",
    "# Инициализация данных\n",
    "data = d.Целевая_категория.value_counts()\n",
    "labels = ['группа_C', 'группа_D', 'группа_A', 'группа_B']\n",
    "# Настройка цветовой гаммы\n",
    "colors = ['tab:blue', 'tab:cyan', 'tab:gray', 'tab:orange', 'tab:red'] \n",
    "# Рендеринг круговой диаграммы\n",
    "g = plt.pie(data, colors = colors, autopct='%.0f%%',explode=[0.05]*4, \n",
    "        labels=labels, pctdistance=0.5, shadow =True, startangle = 290)\n",
    "# Название рисунка\n",
    "plt.figtext(0.05, -0.1, 'Рисунок 1 — Распределение групп в результативном признаке \\n после удаления пропусков', \\\n",
    "            fontsize=16, color='black',fontweight='bold')\n",
    "plt.show()"
   ]
  },
  {
   "cell_type": "markdown",
   "id": "99f2caf9",
   "metadata": {},
   "source": [
    "**Сохраняем в файл:**"
   ]
  },
  {
   "cell_type": "code",
   "execution_count": 53,
   "id": "ba78d8e3",
   "metadata": {},
   "outputs": [],
   "source": [
    "df_dropna.to_csv('Train_cleared_dropna.csv')"
   ]
  },
  {
   "cell_type": "markdown",
   "id": "a8542b58",
   "metadata": {},
   "source": [
    "# **1.4 Заполнение пропущенных значений и сохранение данных в файл.**"
   ]
  },
  {
   "cell_type": "markdown",
   "id": "042d694d",
   "metadata": {},
   "source": [
    "**1. Заполняем NaN значения соседними значениями**"
   ]
  },
  {
   "cell_type": "code",
   "execution_count": 57,
   "id": "cd1cf632",
   "metadata": {},
   "outputs": [],
   "source": [
    "df_fillna = df"
   ]
  },
  {
   "cell_type": "code",
   "execution_count": 58,
   "id": "32cfd88b",
   "metadata": {},
   "outputs": [],
   "source": [
    "df_fillna = df_fillna.sort_values(by=['Целевая_категория','Возраст',])"
   ]
  },
  {
   "cell_type": "code",
   "execution_count": 60,
   "id": "c91030e1",
   "metadata": {},
   "outputs": [],
   "source": [
    "df_fillna['Семейное_положение'].fillna(method='ffill', inplace=True)"
   ]
  },
  {
   "cell_type": "code",
   "execution_count": 62,
   "id": "640c0106",
   "metadata": {},
   "outputs": [],
   "source": [
    "df_fillna = df_fillna.sort_values(by=['Целевая_категория','Возраст','Семейное_положение'])"
   ]
  },
  {
   "cell_type": "code",
   "execution_count": 63,
   "id": "20a4f832",
   "metadata": {},
   "outputs": [],
   "source": [
    "df_fillna['Высшее_образование'].fillna(method='ffill', inplace=True)"
   ]
  },
  {
   "cell_type": "code",
   "execution_count": 65,
   "id": "63d35355",
   "metadata": {},
   "outputs": [],
   "source": [
    "df_fillna['Профессия'].fillna(method='ffill', inplace=True)"
   ]
  },
  {
   "cell_type": "code",
   "execution_count": 67,
   "id": "b540446a",
   "metadata": {},
   "outputs": [],
   "source": [
    "df_fillna['Размер_семьи'].fillna(method='ffill', inplace=True)"
   ]
  },
  {
   "cell_type": "code",
   "execution_count": 69,
   "id": "3a33f28f",
   "metadata": {},
   "outputs": [],
   "source": [
    "df_fillna['Анонимная_категория'].fillna(method='ffill', inplace=True)"
   ]
  },
  {
   "cell_type": "code",
   "execution_count": 71,
   "id": "30e7ea76",
   "metadata": {},
   "outputs": [],
   "source": [
    "df_fillna['Опыт_работы'].fillna(method='ffill', inplace=True)"
   ]
  },
  {
   "cell_type": "code",
   "execution_count": null,
   "id": "003aa366",
   "metadata": {},
   "outputs": [],
   "source": [
    "df_fillna = df_fillna.sort_values(by=['Целевая_категория','Возраст'])"
   ]
  },
  {
   "cell_type": "code",
   "execution_count": 72,
   "id": "7d5f9609",
   "metadata": {
    "collapsed": true
   },
   "outputs": [
    {
     "data": {
      "image/png": "[encoded data removed]",
      "text/plain": [
       "<Figure size 1800x720 with 2 Axes>"
      ]
     },
     "metadata": {
      "needs_background": "light"
     },
     "output_type": "display_data"
    }
   ],
   "source": [
    "import missingno as msno # \n",
    "ах= msno.matrix(df_fillna.sample(500))"
   ]
  },
  {
   "cell_type": "code",
   "execution_count": 79,
   "id": "243abad3",
   "metadata": {
    "collapsed": true
   },
   "outputs": [
    {
     "data": {
      "text/plain": [
       "Пол                    0\n",
       "Семейное_положение     0\n",
       "Возраст                0\n",
       "Высшее_образование     0\n",
       "Профессия              0\n",
       "Опыт_работы            0\n",
       "Уровень_расходов       0\n",
       "Размер_семьи           0\n",
       "Анонимная_категория    0\n",
       "Целевая_категория      0\n",
       "dtype: int64"
      ]
     },
     "execution_count": 79,
     "metadata": {},
     "output_type": "execute_result"
    }
   ],
   "source": [
    "df_fillna.isna().sum()"
   ]
  },
  {
   "cell_type": "code",
   "execution_count": 78,
   "id": "e484dc59",
   "metadata": {},
   "outputs": [],
   "source": [
    "df_fillna = df_fillna.dropna()"
   ]
  },
  {
   "cell_type": "markdown",
   "id": "2479b355",
   "metadata": {},
   "source": [
    "**2. Сохраняем в файл:**"
   ]
  },
  {
   "cell_type": "code",
   "execution_count": 81,
   "id": "4df9c9db",
   "metadata": {},
   "outputs": [],
   "source": [
    "df_fillna.to_csv('Train_cleared_fillna.csv')"
   ]
  },
  {
   "cell_type": "code",
   "execution_count": 120,
   "id": "cff98dbd",
   "metadata": {},
   "outputs": [],
   "source": [
    "df_T=read_csv('D:\\Политех\\Класиффикация\\Сегментация_клиентов\\Train_cleared_fillna.csv')"
   ]
  },
  {
   "cell_type": "code",
   "execution_count": 121,
   "id": "000d88c3",
   "metadata": {},
   "outputs": [],
   "source": [
    "df_T=df_T.filter(regex='^(?!.*Unnamed).*$')"
   ]
  },
  {
   "cell_type": "markdown",
   "id": "568748e3",
   "metadata": {},
   "source": [
    "**3. Визуализация распределения результативного признака**"
   ]
  },
  {
   "cell_type": "code",
   "execution_count": 122,
   "id": "9d4fb8ad",
   "metadata": {},
   "outputs": [
    {
     "data": {
      "image/png": "[encoded data removed]",
      "text/plain": [
       "<Figure size 720x432 with 1 Axes>"
      ]
     },
     "metadata": {},
     "output_type": "display_data"
    }
   ],
   "source": [
    "pie, ax = plt.subplots(figsize=[10,6])\n",
    "# Инициализация данных\n",
    "data = df_T.Целевая_категория.value_counts()\n",
    "labels = ['группа_C', 'группа_D', 'группа_A', 'группа_B']\n",
    "# Настройка цветовой гаммы\n",
    "colors = ['tab:blue', 'tab:cyan', 'tab:gray', 'tab:orange', 'tab:red'] \n",
    "# Рендеринг круговой диаграммы\n",
    "g = plt.pie(data, colors = colors, autopct='%.0f%%',explode=[0.05]*4, \n",
    "        labels=labels, pctdistance=0.5, shadow =True, startangle = 290       )\n",
    "# Название рисунка\n",
    "plt.figtext(0.05, -0.1, 'Рисунок 1 — Распределение групп в результативном признаке \\n после удаления пропусков', \\\n",
    "            fontsize=16, color='black',fontweight='bold')\n",
    "plt.show()"
   ]
  },
  {
   "cell_type": "markdown",
   "id": "24d1ef33",
   "metadata": {},
   "source": [
    "# **1.5 Удаление дубликатов и сохранение в файл.**"
   ]
  },
  {
   "cell_type": "code",
   "execution_count": null,
   "id": "44c5aef3",
   "metadata": {},
   "outputs": [],
   "source": [
    "df=read_csv('D:\\Политех\\Класиффикация\\Сегментация_клиентов\\Train_cleared_dropna.csv')"
   ]
  },
  {
   "cell_type": "code",
   "execution_count": 5,
   "id": "d477d479",
   "metadata": {},
   "outputs": [],
   "source": [
    "df=df.filter(regex='^(?!.*Unnamed).*$')"
   ]
  },
  {
   "cell_type": "code",
   "execution_count": null,
   "id": "972e7d4b",
   "metadata": {},
   "outputs": [],
   "source": [
    "df = df.drop_duplicates(keep = False)"
   ]
  },
  {
   "cell_type": "code",
   "execution_count": 55,
   "id": "eecb87b4",
   "metadata": {},
   "outputs": [],
   "source": [
    "df_clear.to_csv('Test_cleared_!!!!!!!!.csv')"
   ]
  },
  {
   "cell_type": "markdown",
   "id": "b8ddd842",
   "metadata": {},
   "source": [
    "# **1.6 Удаление противоречивые данные и сохранение в файл.**"
   ]
  },
  {
   "cell_type": "code",
   "execution_count": 31,
   "id": "087dd9aa",
   "metadata": {
    "scrolled": true
   },
   "outputs": [],
   "source": [
    "df=read_csv('D:\\Политех\\Класиффикация\\Сегментация_клиентов\\Test_cleared_!!!!!!!!.csv')"
   ]
  },
  {
   "cell_type": "code",
   "execution_count": 32,
   "id": "dc9a454a",
   "metadata": {},
   "outputs": [],
   "source": [
    "df=df.filter(regex='^(?!.*Unnamed).*$')"
   ]
  },
  {
   "cell_type": "code",
   "execution_count": 33,
   "id": "8c1cf487",
   "metadata": {},
   "outputs": [],
   "source": [
    "array = df.values\n",
    "array\n",
    "X = array[:,0:9]\n",
    "Y = array[:,9]"
   ]
  },
  {
   "cell_type": "code",
   "execution_count": 36,
   "id": "b98c6235",
   "metadata": {},
   "outputs": [],
   "source": [
    "df = df.dropna(how='any')"
   ]
  },
  {
   "cell_type": "code",
   "execution_count": 38,
   "id": "24f6141f",
   "metadata": {},
   "outputs": [],
   "source": [
    "d = df.drop_duplicates()"
   ]
  },
  {
   "cell_type": "code",
   "execution_count": 41,
   "id": "13ff73f4",
   "metadata": {},
   "outputs": [],
   "source": [
    "df_ = df.drop(columns='Целевая_категория') "
   ]
  },
  {
   "cell_type": "code",
   "execution_count": 42,
   "id": "cdb9f390",
   "metadata": {},
   "outputs": [
    {
     "data": {
      "text/plain": [
       "(2154, 9)"
      ]
     },
     "execution_count": 42,
     "metadata": {},
     "output_type": "execute_result"
    }
   ],
   "source": [
    "df_.shape"
   ]
  },
  {
   "cell_type": "code",
   "execution_count": 43,
   "id": "7e3a8e97",
   "metadata": {},
   "outputs": [],
   "source": [
    "df_ = df_.drop_duplicates()"
   ]
  },
  {
   "cell_type": "code",
   "execution_count": 46,
   "id": "b804cf80",
   "metadata": {},
   "outputs": [],
   "source": [
    "df_L=df.drop(columns='Целевая_категория')"
   ]
  },
  {
   "cell_type": "code",
   "execution_count": 47,
   "id": "27650856",
   "metadata": {},
   "outputs": [],
   "source": [
    "df_R = df['Целевая_категория']"
   ]
  },
  {
   "cell_type": "code",
   "execution_count": 49,
   "id": "4afa33a2",
   "metadata": {},
   "outputs": [
    {
     "data": {
      "text/plain": [
       "(2154, 9)"
      ]
     },
     "execution_count": 49,
     "metadata": {},
     "output_type": "execute_result"
    }
   ],
   "source": [
    "df_L.shape"
   ]
  },
  {
   "cell_type": "code",
   "execution_count": 50,
   "id": "579b8438",
   "metadata": {},
   "outputs": [],
   "source": [
    "df_L = df_L.drop_duplicates()"
   ]
  },
  {
   "cell_type": "code",
   "execution_count": 51,
   "id": "6302bb37",
   "metadata": {},
   "outputs": [
    {
     "data": {
      "text/plain": [
       "(2085, 9)"
      ]
     },
     "execution_count": 51,
     "metadata": {},
     "output_type": "execute_result"
    }
   ],
   "source": [
    "df_L.shape"
   ]
  },
  {
   "cell_type": "code",
   "execution_count": 52,
   "id": "f5d4322c",
   "metadata": {},
   "outputs": [],
   "source": [
    "df_clear = pd.merge(df_L, df_R, left_index=True, right_index=True)"
   ]
  },
  {
   "cell_type": "code",
   "execution_count": 54,
   "id": "ae320288",
   "metadata": {
    "collapsed": true
   },
   "outputs": [
    {
     "data": {
      "text/html": [
       "<div>\n",
       "<style scoped>\n",
       "    .dataframe tbody tr th:only-of-type {\n",
       "        vertical-align: middle;\n",
       "    }\n",
       "\n",
       "    .dataframe tbody tr th {\n",
       "        vertical-align: top;\n",
       "    }\n",
       "\n",
       "    .dataframe thead th {\n",
       "        text-align: right;\n",
       "    }\n",
       "</style>\n",
       "<table border=\"1\" class=\"dataframe\">\n",
       "  <thead>\n",
       "    <tr style=\"text-align: right;\">\n",
       "      <th></th>\n",
       "      <th>Пол</th>\n",
       "      <th>Семейное_положение</th>\n",
       "      <th>Возраст</th>\n",
       "      <th>Высшее_образование</th>\n",
       "      <th>Профессия</th>\n",
       "      <th>Опыт_работы</th>\n",
       "      <th>Уровень_расходов</th>\n",
       "      <th>Размер_семьи</th>\n",
       "      <th>Анонимная_категория</th>\n",
       "      <th>Целевая_категория</th>\n",
       "    </tr>\n",
       "  </thead>\n",
       "  <tbody>\n",
       "    <tr>\n",
       "      <th>0</th>\n",
       "      <td>0</td>\n",
       "      <td>1.0</td>\n",
       "      <td>36</td>\n",
       "      <td>1.0</td>\n",
       "      <td>4.0</td>\n",
       "      <td>0.0</td>\n",
       "      <td>3</td>\n",
       "      <td>1.0</td>\n",
       "      <td>6.0</td>\n",
       "      <td>2</td>\n",
       "    </tr>\n",
       "    <tr>\n",
       "      <th>1</th>\n",
       "      <td>1</td>\n",
       "      <td>1.0</td>\n",
       "      <td>37</td>\n",
       "      <td>1.0</td>\n",
       "      <td>2.0</td>\n",
       "      <td>8.0</td>\n",
       "      <td>2</td>\n",
       "      <td>4.0</td>\n",
       "      <td>6.0</td>\n",
       "      <td>1</td>\n",
       "    </tr>\n",
       "    <tr>\n",
       "      <th>3</th>\n",
       "      <td>1</td>\n",
       "      <td>1.0</td>\n",
       "      <td>59</td>\n",
       "      <td>0.0</td>\n",
       "      <td>7.0</td>\n",
       "      <td>11.0</td>\n",
       "      <td>1</td>\n",
       "      <td>2.0</td>\n",
       "      <td>6.0</td>\n",
       "      <td>2</td>\n",
       "    </tr>\n",
       "    <tr>\n",
       "      <th>5</th>\n",
       "      <td>1</td>\n",
       "      <td>1.0</td>\n",
       "      <td>47</td>\n",
       "      <td>1.0</td>\n",
       "      <td>5.0</td>\n",
       "      <td>0.0</td>\n",
       "      <td>1</td>\n",
       "      <td>5.0</td>\n",
       "      <td>4.0</td>\n",
       "      <td>3</td>\n",
       "    </tr>\n",
       "    <tr>\n",
       "      <th>6</th>\n",
       "      <td>1</td>\n",
       "      <td>1.0</td>\n",
       "      <td>61</td>\n",
       "      <td>1.0</td>\n",
       "      <td>5.0</td>\n",
       "      <td>5.0</td>\n",
       "      <td>3</td>\n",
       "      <td>3.0</td>\n",
       "      <td>6.0</td>\n",
       "      <td>4</td>\n",
       "    </tr>\n",
       "    <tr>\n",
       "      <th>...</th>\n",
       "      <td>...</td>\n",
       "      <td>...</td>\n",
       "      <td>...</td>\n",
       "      <td>...</td>\n",
       "      <td>...</td>\n",
       "      <td>...</td>\n",
       "      <td>...</td>\n",
       "      <td>...</td>\n",
       "      <td>...</td>\n",
       "      <td>...</td>\n",
       "    </tr>\n",
       "    <tr>\n",
       "      <th>2621</th>\n",
       "      <td>0</td>\n",
       "      <td>0.0</td>\n",
       "      <td>35</td>\n",
       "      <td>1.0</td>\n",
       "      <td>3.0</td>\n",
       "      <td>1.0</td>\n",
       "      <td>3</td>\n",
       "      <td>2.0</td>\n",
       "      <td>6.0</td>\n",
       "      <td>4</td>\n",
       "    </tr>\n",
       "    <tr>\n",
       "      <th>2622</th>\n",
       "      <td>1</td>\n",
       "      <td>0.0</td>\n",
       "      <td>29</td>\n",
       "      <td>0.0</td>\n",
       "      <td>2.0</td>\n",
       "      <td>9.0</td>\n",
       "      <td>3</td>\n",
       "      <td>4.0</td>\n",
       "      <td>6.0</td>\n",
       "      <td>2</td>\n",
       "    </tr>\n",
       "    <tr>\n",
       "      <th>2623</th>\n",
       "      <td>0</td>\n",
       "      <td>0.0</td>\n",
       "      <td>35</td>\n",
       "      <td>1.0</td>\n",
       "      <td>5.0</td>\n",
       "      <td>1.0</td>\n",
       "      <td>3</td>\n",
       "      <td>1.0</td>\n",
       "      <td>6.0</td>\n",
       "      <td>1</td>\n",
       "    </tr>\n",
       "    <tr>\n",
       "      <th>2625</th>\n",
       "      <td>1</td>\n",
       "      <td>1.0</td>\n",
       "      <td>47</td>\n",
       "      <td>1.0</td>\n",
       "      <td>7.0</td>\n",
       "      <td>1.0</td>\n",
       "      <td>1</td>\n",
       "      <td>5.0</td>\n",
       "      <td>4.0</td>\n",
       "      <td>3</td>\n",
       "    </tr>\n",
       "    <tr>\n",
       "      <th>2626</th>\n",
       "      <td>0</td>\n",
       "      <td>0.0</td>\n",
       "      <td>43</td>\n",
       "      <td>1.0</td>\n",
       "      <td>2.0</td>\n",
       "      <td>9.0</td>\n",
       "      <td>3</td>\n",
       "      <td>3.0</td>\n",
       "      <td>7.0</td>\n",
       "      <td>1</td>\n",
       "    </tr>\n",
       "  </tbody>\n",
       "</table>\n",
       "<p>2085 rows × 10 columns</p>\n",
       "</div>"
      ],
      "text/plain": [
       "      Пол  Семейное_положение  Возраст  Высшее_образование  Профессия  \\\n",
       "0       0                 1.0       36                 1.0        4.0   \n",
       "1       1                 1.0       37                 1.0        2.0   \n",
       "3       1                 1.0       59                 0.0        7.0   \n",
       "5       1                 1.0       47                 1.0        5.0   \n",
       "6       1                 1.0       61                 1.0        5.0   \n",
       "...   ...                 ...      ...                 ...        ...   \n",
       "2621    0                 0.0       35                 1.0        3.0   \n",
       "2622    1                 0.0       29                 0.0        2.0   \n",
       "2623    0                 0.0       35                 1.0        5.0   \n",
       "2625    1                 1.0       47                 1.0        7.0   \n",
       "2626    0                 0.0       43                 1.0        2.0   \n",
       "\n",
       "      Опыт_работы  Уровень_расходов  Размер_семьи  Анонимная_категория  \\\n",
       "0             0.0                 3           1.0                  6.0   \n",
       "1             8.0                 2           4.0                  6.0   \n",
       "3            11.0                 1           2.0                  6.0   \n",
       "5             0.0                 1           5.0                  4.0   \n",
       "6             5.0                 3           3.0                  6.0   \n",
       "...           ...               ...           ...                  ...   \n",
       "2621          1.0                 3           2.0                  6.0   \n",
       "2622          9.0                 3           4.0                  6.0   \n",
       "2623          1.0                 3           1.0                  6.0   \n",
       "2625          1.0                 1           5.0                  4.0   \n",
       "2626          9.0                 3           3.0                  7.0   \n",
       "\n",
       "      Целевая_категория  \n",
       "0                     2  \n",
       "1                     1  \n",
       "3                     2  \n",
       "5                     3  \n",
       "6                     4  \n",
       "...                 ...  \n",
       "2621                  4  \n",
       "2622                  2  \n",
       "2623                  1  \n",
       "2625                  3  \n",
       "2626                  1  \n",
       "\n",
       "[2085 rows x 10 columns]"
      ]
     },
     "execution_count": 54,
     "metadata": {},
     "output_type": "execute_result"
    }
   ],
   "source": [
    "df_clear"
   ]
  },
  {
   "cell_type": "code",
   "execution_count": 55,
   "id": "8fbcc2a5",
   "metadata": {},
   "outputs": [],
   "source": [
    "df_clear.to_csv('Test_cleared.csv')"
   ]
  },
  {
   "cell_type": "code",
   "execution_count": null,
   "id": "1f4f9f72",
   "metadata": {},
   "outputs": [],
   "source": [
    "++++++++++++++++++++++++++++++++++++++++++++++++++++++++++++++++++++++++++++++++++++++++++++++++++++++++++++++"
   ]
  }
 ],
 "metadata": {
  "kernelspec": {
   "display_name": "Python 3 (ipykernel)",
   "language": "python",
   "name": "python3"
  },
  "language_info": {
   "codemirror_mode": {
    "name": "ipython",
    "version": 3
   },
   "file_extension": ".py",
   "mimetype": "text/x-python",
   "name": "python",
   "nbconvert_exporter": "python",
   "pygments_lexer": "ipython3",
   "version": "3.9.7"
  }
 },
 "nbformat": 4,
 "nbformat_minor": 5
}
