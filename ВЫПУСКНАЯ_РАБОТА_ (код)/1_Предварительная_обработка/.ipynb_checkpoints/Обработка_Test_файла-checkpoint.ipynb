{
 "cells": [
  {
   "cell_type": "markdown",
   "id": "b0b02698",
   "metadata": {},
   "source": [
    "# **1. Загрузка пакетов, библиотек и файлика**"
   ]
  },
  {
   "cell_type": "code",
   "execution_count": 1,
   "id": "476ef4a5",
   "metadata": {},
   "outputs": [],
   "source": [
    "import pandas as pd # пакет (строится поверх numpy)\n",
    "import numpy as np # библиотека\n",
    "from pandas import read_csv"
   ]
  },
  {
   "cell_type": "code",
   "execution_count": 2,
   "id": "4110daa5",
   "metadata": {},
   "outputs": [],
   "source": [
    "df=read_csv('D:\\Политех\\Класиффикация\\Сегментация_клиентов\\Test.csv')"
   ]
  },
  {
   "cell_type": "code",
   "execution_count": 3,
   "id": "459abf80",
   "metadata": {},
   "outputs": [
    {
     "data": {
      "text/html": [
       "<div>\n",
       "<style scoped>\n",
       "    .dataframe tbody tr th:only-of-type {\n",
       "        vertical-align: middle;\n",
       "    }\n",
       "\n",
       "    .dataframe tbody tr th {\n",
       "        vertical-align: top;\n",
       "    }\n",
       "\n",
       "    .dataframe thead th {\n",
       "        text-align: right;\n",
       "    }\n",
       "</style>\n",
       "<table border=\"1\" class=\"dataframe\">\n",
       "  <thead>\n",
       "    <tr style=\"text-align: right;\">\n",
       "      <th></th>\n",
       "      <th>ID</th>\n",
       "      <th>Gender</th>\n",
       "      <th>Ever_Married</th>\n",
       "      <th>Age</th>\n",
       "      <th>Graduated</th>\n",
       "      <th>Profession</th>\n",
       "      <th>Work_Experience</th>\n",
       "      <th>Spending_Score</th>\n",
       "      <th>Family_Size</th>\n",
       "      <th>Var_1</th>\n",
       "      <th>Segmentation</th>\n",
       "    </tr>\n",
       "  </thead>\n",
       "  <tbody>\n",
       "    <tr>\n",
       "      <th>0</th>\n",
       "      <td>458989</td>\n",
       "      <td>Female</td>\n",
       "      <td>Yes</td>\n",
       "      <td>36</td>\n",
       "      <td>Yes</td>\n",
       "      <td>Engineer</td>\n",
       "      <td>0.0</td>\n",
       "      <td>Low</td>\n",
       "      <td>1.0</td>\n",
       "      <td>Cat_6</td>\n",
       "      <td>B</td>\n",
       "    </tr>\n",
       "    <tr>\n",
       "      <th>1</th>\n",
       "      <td>458994</td>\n",
       "      <td>Male</td>\n",
       "      <td>Yes</td>\n",
       "      <td>37</td>\n",
       "      <td>Yes</td>\n",
       "      <td>Healthcare</td>\n",
       "      <td>8.0</td>\n",
       "      <td>Average</td>\n",
       "      <td>4.0</td>\n",
       "      <td>Cat_6</td>\n",
       "      <td>A</td>\n",
       "    </tr>\n",
       "    <tr>\n",
       "      <th>2</th>\n",
       "      <td>458996</td>\n",
       "      <td>Female</td>\n",
       "      <td>Yes</td>\n",
       "      <td>69</td>\n",
       "      <td>No</td>\n",
       "      <td>NaN</td>\n",
       "      <td>0.0</td>\n",
       "      <td>Low</td>\n",
       "      <td>1.0</td>\n",
       "      <td>Cat_6</td>\n",
       "      <td>A</td>\n",
       "    </tr>\n",
       "    <tr>\n",
       "      <th>3</th>\n",
       "      <td>459000</td>\n",
       "      <td>Male</td>\n",
       "      <td>Yes</td>\n",
       "      <td>59</td>\n",
       "      <td>No</td>\n",
       "      <td>Executive</td>\n",
       "      <td>11.0</td>\n",
       "      <td>High</td>\n",
       "      <td>2.0</td>\n",
       "      <td>Cat_6</td>\n",
       "      <td>B</td>\n",
       "    </tr>\n",
       "    <tr>\n",
       "      <th>4</th>\n",
       "      <td>459001</td>\n",
       "      <td>Female</td>\n",
       "      <td>No</td>\n",
       "      <td>19</td>\n",
       "      <td>No</td>\n",
       "      <td>Marketing</td>\n",
       "      <td>NaN</td>\n",
       "      <td>Low</td>\n",
       "      <td>4.0</td>\n",
       "      <td>Cat_6</td>\n",
       "      <td>A</td>\n",
       "    </tr>\n",
       "    <tr>\n",
       "      <th>...</th>\n",
       "      <td>...</td>\n",
       "      <td>...</td>\n",
       "      <td>...</td>\n",
       "      <td>...</td>\n",
       "      <td>...</td>\n",
       "      <td>...</td>\n",
       "      <td>...</td>\n",
       "      <td>...</td>\n",
       "      <td>...</td>\n",
       "      <td>...</td>\n",
       "      <td>...</td>\n",
       "    </tr>\n",
       "    <tr>\n",
       "      <th>2622</th>\n",
       "      <td>467954</td>\n",
       "      <td>Male</td>\n",
       "      <td>No</td>\n",
       "      <td>29</td>\n",
       "      <td>No</td>\n",
       "      <td>Healthcare</td>\n",
       "      <td>9.0</td>\n",
       "      <td>Low</td>\n",
       "      <td>4.0</td>\n",
       "      <td>Cat_6</td>\n",
       "      <td>B</td>\n",
       "    </tr>\n",
       "    <tr>\n",
       "      <th>2623</th>\n",
       "      <td>467958</td>\n",
       "      <td>Female</td>\n",
       "      <td>No</td>\n",
       "      <td>35</td>\n",
       "      <td>Yes</td>\n",
       "      <td>Doctor</td>\n",
       "      <td>1.0</td>\n",
       "      <td>Low</td>\n",
       "      <td>1.0</td>\n",
       "      <td>Cat_6</td>\n",
       "      <td>A</td>\n",
       "    </tr>\n",
       "    <tr>\n",
       "      <th>2624</th>\n",
       "      <td>467960</td>\n",
       "      <td>Female</td>\n",
       "      <td>No</td>\n",
       "      <td>53</td>\n",
       "      <td>Yes</td>\n",
       "      <td>Entertainment</td>\n",
       "      <td>NaN</td>\n",
       "      <td>Low</td>\n",
       "      <td>2.0</td>\n",
       "      <td>Cat_6</td>\n",
       "      <td>C</td>\n",
       "    </tr>\n",
       "    <tr>\n",
       "      <th>2625</th>\n",
       "      <td>467961</td>\n",
       "      <td>Male</td>\n",
       "      <td>Yes</td>\n",
       "      <td>47</td>\n",
       "      <td>Yes</td>\n",
       "      <td>Executive</td>\n",
       "      <td>1.0</td>\n",
       "      <td>High</td>\n",
       "      <td>5.0</td>\n",
       "      <td>Cat_4</td>\n",
       "      <td>C</td>\n",
       "    </tr>\n",
       "    <tr>\n",
       "      <th>2626</th>\n",
       "      <td>467968</td>\n",
       "      <td>Female</td>\n",
       "      <td>No</td>\n",
       "      <td>43</td>\n",
       "      <td>Yes</td>\n",
       "      <td>Healthcare</td>\n",
       "      <td>9.0</td>\n",
       "      <td>Low</td>\n",
       "      <td>3.0</td>\n",
       "      <td>Cat_7</td>\n",
       "      <td>A</td>\n",
       "    </tr>\n",
       "  </tbody>\n",
       "</table>\n",
       "<p>2627 rows × 11 columns</p>\n",
       "</div>"
      ],
      "text/plain": [
       "          ID  Gender Ever_Married  Age Graduated     Profession  \\\n",
       "0     458989  Female          Yes   36       Yes       Engineer   \n",
       "1     458994    Male          Yes   37       Yes     Healthcare   \n",
       "2     458996  Female          Yes   69        No            NaN   \n",
       "3     459000    Male          Yes   59        No      Executive   \n",
       "4     459001  Female           No   19        No      Marketing   \n",
       "...      ...     ...          ...  ...       ...            ...   \n",
       "2622  467954    Male           No   29        No     Healthcare   \n",
       "2623  467958  Female           No   35       Yes         Doctor   \n",
       "2624  467960  Female           No   53       Yes  Entertainment   \n",
       "2625  467961    Male          Yes   47       Yes      Executive   \n",
       "2626  467968  Female           No   43       Yes     Healthcare   \n",
       "\n",
       "      Work_Experience Spending_Score  Family_Size  Var_1 Segmentation  \n",
       "0                 0.0            Low          1.0  Cat_6            B  \n",
       "1                 8.0        Average          4.0  Cat_6            A  \n",
       "2                 0.0            Low          1.0  Cat_6            A  \n",
       "3                11.0           High          2.0  Cat_6            B  \n",
       "4                 NaN            Low          4.0  Cat_6            A  \n",
       "...               ...            ...          ...    ...          ...  \n",
       "2622              9.0            Low          4.0  Cat_6            B  \n",
       "2623              1.0            Low          1.0  Cat_6            A  \n",
       "2624              NaN            Low          2.0  Cat_6            C  \n",
       "2625              1.0           High          5.0  Cat_4            C  \n",
       "2626              9.0            Low          3.0  Cat_7            A  \n",
       "\n",
       "[2627 rows x 11 columns]"
      ]
     },
     "execution_count": 3,
     "metadata": {},
     "output_type": "execute_result"
    }
   ],
   "source": [
    "df"
   ]
  },
  {
   "cell_type": "markdown",
   "id": "e97d1f50",
   "metadata": {},
   "source": [
    "# **2. Кодируем данные**"
   ]
  },
  {
   "cell_type": "markdown",
   "id": "5d96fb43",
   "metadata": {},
   "source": [
    "**1. Удаляем ненужный столбец 'ID'**"
   ]
  },
  {
   "cell_type": "code",
   "execution_count": 4,
   "id": "3d979a88",
   "metadata": {},
   "outputs": [],
   "source": [
    "df.drop('ID',axis=1,inplace=True)"
   ]
  },
  {
   "cell_type": "markdown",
   "id": "1d039181",
   "metadata": {},
   "source": [
    "**2. Переименовываем столбцы на русский язык**"
   ]
  },
  {
   "cell_type": "code",
   "execution_count": 5,
   "id": "2ed141a4",
   "metadata": {},
   "outputs": [],
   "source": [
    "df.rename(columns={'Gender': 'Пол', 'Ever_Married': 'Семейное_положение',\n",
    "                   'Age': 'Возраст', 'Graduated': 'Высшее_образование',\n",
    "                   'Profession': 'Профессия', 'Work_Experience': 'Опыт_работы',\n",
    "                   'Spending_Score': 'Уровень_расходов', 'Family_Size': 'Размер_семьи',\n",
    "                   'Var_1': 'Анонимная_категория', 'Segmentation': 'Целевая_категория'\n",
    "                  },inplace=True)"
   ]
  },
  {
   "cell_type": "code",
   "execution_count": 6,
   "id": "e918af0c",
   "metadata": {},
   "outputs": [
    {
     "data": {
      "text/html": [
       "<div>\n",
       "<style scoped>\n",
       "    .dataframe tbody tr th:only-of-type {\n",
       "        vertical-align: middle;\n",
       "    }\n",
       "\n",
       "    .dataframe tbody tr th {\n",
       "        vertical-align: top;\n",
       "    }\n",
       "\n",
       "    .dataframe thead th {\n",
       "        text-align: right;\n",
       "    }\n",
       "</style>\n",
       "<table border=\"1\" class=\"dataframe\">\n",
       "  <thead>\n",
       "    <tr style=\"text-align: right;\">\n",
       "      <th></th>\n",
       "      <th>Пол</th>\n",
       "      <th>Семейное_положение</th>\n",
       "      <th>Возраст</th>\n",
       "      <th>Высшее_образование</th>\n",
       "      <th>Профессия</th>\n",
       "      <th>Опыт_работы</th>\n",
       "      <th>Уровень_расходов</th>\n",
       "      <th>Размер_семьи</th>\n",
       "      <th>Анонимная_категория</th>\n",
       "      <th>Целевая_категория</th>\n",
       "    </tr>\n",
       "  </thead>\n",
       "  <tbody>\n",
       "    <tr>\n",
       "      <th>0</th>\n",
       "      <td>Female</td>\n",
       "      <td>Yes</td>\n",
       "      <td>36</td>\n",
       "      <td>Yes</td>\n",
       "      <td>Engineer</td>\n",
       "      <td>0.0</td>\n",
       "      <td>Low</td>\n",
       "      <td>1.0</td>\n",
       "      <td>Cat_6</td>\n",
       "      <td>B</td>\n",
       "    </tr>\n",
       "    <tr>\n",
       "      <th>1</th>\n",
       "      <td>Male</td>\n",
       "      <td>Yes</td>\n",
       "      <td>37</td>\n",
       "      <td>Yes</td>\n",
       "      <td>Healthcare</td>\n",
       "      <td>8.0</td>\n",
       "      <td>Average</td>\n",
       "      <td>4.0</td>\n",
       "      <td>Cat_6</td>\n",
       "      <td>A</td>\n",
       "    </tr>\n",
       "    <tr>\n",
       "      <th>2</th>\n",
       "      <td>Female</td>\n",
       "      <td>Yes</td>\n",
       "      <td>69</td>\n",
       "      <td>No</td>\n",
       "      <td>NaN</td>\n",
       "      <td>0.0</td>\n",
       "      <td>Low</td>\n",
       "      <td>1.0</td>\n",
       "      <td>Cat_6</td>\n",
       "      <td>A</td>\n",
       "    </tr>\n",
       "    <tr>\n",
       "      <th>3</th>\n",
       "      <td>Male</td>\n",
       "      <td>Yes</td>\n",
       "      <td>59</td>\n",
       "      <td>No</td>\n",
       "      <td>Executive</td>\n",
       "      <td>11.0</td>\n",
       "      <td>High</td>\n",
       "      <td>2.0</td>\n",
       "      <td>Cat_6</td>\n",
       "      <td>B</td>\n",
       "    </tr>\n",
       "    <tr>\n",
       "      <th>4</th>\n",
       "      <td>Female</td>\n",
       "      <td>No</td>\n",
       "      <td>19</td>\n",
       "      <td>No</td>\n",
       "      <td>Marketing</td>\n",
       "      <td>NaN</td>\n",
       "      <td>Low</td>\n",
       "      <td>4.0</td>\n",
       "      <td>Cat_6</td>\n",
       "      <td>A</td>\n",
       "    </tr>\n",
       "    <tr>\n",
       "      <th>...</th>\n",
       "      <td>...</td>\n",
       "      <td>...</td>\n",
       "      <td>...</td>\n",
       "      <td>...</td>\n",
       "      <td>...</td>\n",
       "      <td>...</td>\n",
       "      <td>...</td>\n",
       "      <td>...</td>\n",
       "      <td>...</td>\n",
       "      <td>...</td>\n",
       "    </tr>\n",
       "    <tr>\n",
       "      <th>2622</th>\n",
       "      <td>Male</td>\n",
       "      <td>No</td>\n",
       "      <td>29</td>\n",
       "      <td>No</td>\n",
       "      <td>Healthcare</td>\n",
       "      <td>9.0</td>\n",
       "      <td>Low</td>\n",
       "      <td>4.0</td>\n",
       "      <td>Cat_6</td>\n",
       "      <td>B</td>\n",
       "    </tr>\n",
       "    <tr>\n",
       "      <th>2623</th>\n",
       "      <td>Female</td>\n",
       "      <td>No</td>\n",
       "      <td>35</td>\n",
       "      <td>Yes</td>\n",
       "      <td>Doctor</td>\n",
       "      <td>1.0</td>\n",
       "      <td>Low</td>\n",
       "      <td>1.0</td>\n",
       "      <td>Cat_6</td>\n",
       "      <td>A</td>\n",
       "    </tr>\n",
       "    <tr>\n",
       "      <th>2624</th>\n",
       "      <td>Female</td>\n",
       "      <td>No</td>\n",
       "      <td>53</td>\n",
       "      <td>Yes</td>\n",
       "      <td>Entertainment</td>\n",
       "      <td>NaN</td>\n",
       "      <td>Low</td>\n",
       "      <td>2.0</td>\n",
       "      <td>Cat_6</td>\n",
       "      <td>C</td>\n",
       "    </tr>\n",
       "    <tr>\n",
       "      <th>2625</th>\n",
       "      <td>Male</td>\n",
       "      <td>Yes</td>\n",
       "      <td>47</td>\n",
       "      <td>Yes</td>\n",
       "      <td>Executive</td>\n",
       "      <td>1.0</td>\n",
       "      <td>High</td>\n",
       "      <td>5.0</td>\n",
       "      <td>Cat_4</td>\n",
       "      <td>C</td>\n",
       "    </tr>\n",
       "    <tr>\n",
       "      <th>2626</th>\n",
       "      <td>Female</td>\n",
       "      <td>No</td>\n",
       "      <td>43</td>\n",
       "      <td>Yes</td>\n",
       "      <td>Healthcare</td>\n",
       "      <td>9.0</td>\n",
       "      <td>Low</td>\n",
       "      <td>3.0</td>\n",
       "      <td>Cat_7</td>\n",
       "      <td>A</td>\n",
       "    </tr>\n",
       "  </tbody>\n",
       "</table>\n",
       "<p>2627 rows × 10 columns</p>\n",
       "</div>"
      ],
      "text/plain": [
       "         Пол Семейное_положение  Возраст Высшее_образование      Профессия  \\\n",
       "0     Female                Yes       36                Yes       Engineer   \n",
       "1       Male                Yes       37                Yes     Healthcare   \n",
       "2     Female                Yes       69                 No            NaN   \n",
       "3       Male                Yes       59                 No      Executive   \n",
       "4     Female                 No       19                 No      Marketing   \n",
       "...      ...                ...      ...                ...            ...   \n",
       "2622    Male                 No       29                 No     Healthcare   \n",
       "2623  Female                 No       35                Yes         Doctor   \n",
       "2624  Female                 No       53                Yes  Entertainment   \n",
       "2625    Male                Yes       47                Yes      Executive   \n",
       "2626  Female                 No       43                Yes     Healthcare   \n",
       "\n",
       "      Опыт_работы Уровень_расходов  Размер_семьи Анонимная_категория  \\\n",
       "0             0.0              Low           1.0               Cat_6   \n",
       "1             8.0          Average           4.0               Cat_6   \n",
       "2             0.0              Low           1.0               Cat_6   \n",
       "3            11.0             High           2.0               Cat_6   \n",
       "4             NaN              Low           4.0               Cat_6   \n",
       "...           ...              ...           ...                 ...   \n",
       "2622          9.0              Low           4.0               Cat_6   \n",
       "2623          1.0              Low           1.0               Cat_6   \n",
       "2624          NaN              Low           2.0               Cat_6   \n",
       "2625          1.0             High           5.0               Cat_4   \n",
       "2626          9.0              Low           3.0               Cat_7   \n",
       "\n",
       "     Целевая_категория  \n",
       "0                    B  \n",
       "1                    A  \n",
       "2                    A  \n",
       "3                    B  \n",
       "4                    A  \n",
       "...                ...  \n",
       "2622                 B  \n",
       "2623                 A  \n",
       "2624                 C  \n",
       "2625                 C  \n",
       "2626                 A  \n",
       "\n",
       "[2627 rows x 10 columns]"
      ]
     },
     "execution_count": 6,
     "metadata": {},
     "output_type": "execute_result"
    }
   ],
   "source": [
    "df"
   ]
  },
  {
   "cell_type": "markdown",
   "id": "e35580e5",
   "metadata": {},
   "source": [
    "**3. Исследуем данные**"
   ]
  },
  {
   "cell_type": "code",
   "execution_count": 7,
   "id": "68db3c16",
   "metadata": {},
   "outputs": [
    {
     "data": {
      "text/plain": [
       "Пол                     2\n",
       "Семейное_положение      2\n",
       "Возраст                67\n",
       "Высшее_образование      2\n",
       "Профессия               9\n",
       "Опыт_работы            15\n",
       "Уровень_расходов        3\n",
       "Размер_семьи            9\n",
       "Анонимная_категория     7\n",
       "Целевая_категория       4\n",
       "dtype: int64"
      ]
     },
     "execution_count": 7,
     "metadata": {},
     "output_type": "execute_result"
    }
   ],
   "source": [
    "df.nunique()"
   ]
  },
  {
   "cell_type": "code",
   "execution_count": 8,
   "id": "29582507",
   "metadata": {},
   "outputs": [
    {
     "data": {
      "text/plain": [
       "Пол                      0\n",
       "Семейное_положение      50\n",
       "Возраст                  0\n",
       "Высшее_образование      24\n",
       "Профессия               38\n",
       "Опыт_работы            269\n",
       "Уровень_расходов         0\n",
       "Размер_семьи           113\n",
       "Анонимная_категория     32\n",
       "Целевая_категория        0\n",
       "dtype: int64"
      ]
     },
     "execution_count": 8,
     "metadata": {},
     "output_type": "execute_result"
    }
   ],
   "source": [
    "df.isna().sum()"
   ]
  },
  {
   "cell_type": "code",
   "execution_count": 9,
   "id": "01a527c0",
   "metadata": {},
   "outputs": [
    {
     "data": {
      "text/plain": [
       "Пол                     object\n",
       "Семейное_положение      object\n",
       "Возраст                  int64\n",
       "Высшее_образование      object\n",
       "Профессия               object\n",
       "Опыт_работы            float64\n",
       "Уровень_расходов        object\n",
       "Размер_семьи           float64\n",
       "Анонимная_категория     object\n",
       "Целевая_категория       object\n",
       "dtype: object"
      ]
     },
     "execution_count": 9,
     "metadata": {},
     "output_type": "execute_result"
    }
   ],
   "source": [
    "df.dtypes"
   ]
  },
  {
   "cell_type": "markdown",
   "id": "bf31baea",
   "metadata": {},
   "source": [
    "**4. Кодируем столбцы адресно (т.е. каждому значению в столбце присваиваем конкретное число)**"
   ]
  },
  {
   "cell_type": "markdown",
   "id": "a7f9ad1b",
   "metadata": {},
   "source": [
    "**Пол**"
   ]
  },
  {
   "cell_type": "code",
   "execution_count": 26,
   "id": "b64b8432",
   "metadata": {},
   "outputs": [
    {
     "data": {
      "text/plain": [
       "array(['Male', 'Female'], dtype=object)"
      ]
     },
     "execution_count": 26,
     "metadata": {},
     "output_type": "execute_result"
    }
   ],
   "source": [
    "df['Пол'].unique()"
   ]
  },
  {
   "cell_type": "code",
   "execution_count": 10,
   "id": "bd957c9f",
   "metadata": {},
   "outputs": [],
   "source": [
    "df['Пол']=np.where(df['Пол']=='Male',1,0)"
   ]
  },
  {
   "cell_type": "markdown",
   "id": "95d9506b",
   "metadata": {},
   "source": [
    "**Семейное_положение**"
   ]
  },
  {
   "cell_type": "code",
   "execution_count": 31,
   "id": "13afe4aa",
   "metadata": {},
   "outputs": [
    {
     "data": {
      "text/plain": [
       "array(['No', 'Yes', nan], dtype=object)"
      ]
     },
     "execution_count": 31,
     "metadata": {},
     "output_type": "execute_result"
    }
   ],
   "source": [
    "df['Семейное_положение'].unique()"
   ]
  },
  {
   "cell_type": "code",
   "execution_count": 32,
   "id": "29738f9d",
   "metadata": {},
   "outputs": [],
   "source": [
    "df['Семейное_положение']=np.where(df['Семейное_положение']=='Yes',1,\n",
    "                          (np.where(df['Семейное_положение']=='No',0,np.nan)))"
   ]
  },
  {
   "cell_type": "markdown",
   "id": "8a1fc20c",
   "metadata": {},
   "source": [
    "**Высшее_образование**"
   ]
  },
  {
   "cell_type": "code",
   "execution_count": 33,
   "id": "f004b0d7",
   "metadata": {},
   "outputs": [
    {
     "data": {
      "text/plain": [
       "array(['No', 'Yes', nan], dtype=object)"
      ]
     },
     "execution_count": 33,
     "metadata": {},
     "output_type": "execute_result"
    }
   ],
   "source": [
    "df['Высшее_образование'].unique()"
   ]
  },
  {
   "cell_type": "code",
   "execution_count": 34,
   "id": "7b82e0e9",
   "metadata": {},
   "outputs": [],
   "source": [
    "df['Высшее_образование']=np.where(df['Высшее_образование']=='Yes',1,\n",
    "                        (np.where(df['Высшее_образование']=='No',0,np.nan)))"
   ]
  },
  {
   "cell_type": "markdown",
   "id": "bfc8d983",
   "metadata": {},
   "source": [
    "**Профессия**"
   ]
  },
  {
   "cell_type": "code",
   "execution_count": 35,
   "id": "d9d6a92b",
   "metadata": {},
   "outputs": [
    {
     "data": {
      "text/plain": [
       "array(['Healthcare', 'Engineer', 'Lawyer', 'Entertainment', 'Artist',\n",
       "       'Executive', 'Doctor', 'Homemaker', 'Marketing', nan], dtype=object)"
      ]
     },
     "execution_count": 35,
     "metadata": {},
     "output_type": "execute_result"
    }
   ],
   "source": [
    "df['Профессия'].unique()"
   ]
  },
  {
   "cell_type": "code",
   "execution_count": 36,
   "id": "6b519be3",
   "metadata": {},
   "outputs": [],
   "source": [
    "df['Профессия']= np.where(df['Профессия']=='Artist',1,\n",
    "                (np.where(df['Профессия']=='Healthcare',2,\n",
    "                (np.where(df['Профессия']=='Entertainment',3,\n",
    "                (np.where(df['Профессия']=='Engineer',4,\n",
    "                (np.where(df['Профессия']=='Doctor',5,\n",
    "                (np.where(df['Профессия']=='Lawyer',6,\n",
    "                (np.where(df['Профессия']=='Executive',7,\n",
    "                (np.where(df['Профессия']=='Marketing',8,\n",
    "                (np.where(df['Профессия']=='Homemaker',9,np.nan)))))))))))))))))"
   ]
  },
  {
   "cell_type": "markdown",
   "id": "d6ba041b",
   "metadata": {},
   "source": [
    "**Уровень_расходов**"
   ]
  },
  {
   "cell_type": "code",
   "execution_count": 37,
   "id": "c7ee7f4d",
   "metadata": {},
   "outputs": [
    {
     "data": {
      "text/plain": [
       "array(['Low', 'Average', 'High'], dtype=object)"
      ]
     },
     "execution_count": 37,
     "metadata": {},
     "output_type": "execute_result"
    }
   ],
   "source": [
    "df['Уровень_расходов'].unique()"
   ]
  },
  {
   "cell_type": "code",
   "execution_count": 38,
   "id": "5320c073",
   "metadata": {},
   "outputs": [],
   "source": [
    "df['Уровень_расходов']= np.where(df['Уровень_расходов']=='High',1,\n",
    "                       (np.where(df['Уровень_расходов']=='Average',2,3)))"
   ]
  },
  {
   "cell_type": "markdown",
   "id": "3e8bcaf2",
   "metadata": {},
   "source": [
    "**Анонимная_категория**"
   ]
  },
  {
   "cell_type": "code",
   "execution_count": 39,
   "id": "09bfbb44",
   "metadata": {},
   "outputs": [
    {
     "data": {
      "text/plain": [
       "array(['Cat_4', 'Cat_6', 'Cat_7', 'Cat_3', 'Cat_1', 'Cat_2', nan, 'Cat_5'],\n",
       "      dtype=object)"
      ]
     },
     "execution_count": 39,
     "metadata": {},
     "output_type": "execute_result"
    }
   ],
   "source": [
    "df['Анонимная_категория'].unique()"
   ]
  },
  {
   "cell_type": "code",
   "execution_count": 40,
   "id": "6d003b9e",
   "metadata": {},
   "outputs": [],
   "source": [
    "df['Анонимная_категория']= np.where(df['Анонимная_категория']=='Cat_1',1,\n",
    "                          (np.where(df['Анонимная_категория']=='Cat_2',2,\n",
    "                          (np.where(df['Анонимная_категория']=='Cat_3',3,\n",
    "                          (np.where(df['Анонимная_категория']=='Cat_4',4,\n",
    "                          (np.where(df['Анонимная_категория']=='Cat_5',5,\n",
    "                          (np.where(df['Анонимная_категория']=='Cat_6',6,\n",
    "                          (np.where(df['Анонимная_категория']=='Cat_7',7,np.nan)))))))))))))"
   ]
  },
  {
   "cell_type": "markdown",
   "id": "fa9a2ed6",
   "metadata": {},
   "source": [
    "**Целевая_категория**"
   ]
  },
  {
   "cell_type": "code",
   "execution_count": 41,
   "id": "ece191ee",
   "metadata": {},
   "outputs": [
    {
     "data": {
      "text/plain": [
       "array(['D', 'A', 'B', 'C'], dtype=object)"
      ]
     },
     "execution_count": 41,
     "metadata": {},
     "output_type": "execute_result"
    }
   ],
   "source": [
    "df['Целевая_категория'].unique()"
   ]
  },
  {
   "cell_type": "code",
   "execution_count": 42,
   "id": "694adac7",
   "metadata": {},
   "outputs": [],
   "source": [
    "df['Целевая_категория']= np.where(df['Целевая_категория']=='A',1,\n",
    "                        (np.where(df['Целевая_категория']=='B',2,\n",
    "                        (np.where(df['Целевая_категория']=='C',3,4)))))"
   ]
  },
  {
   "cell_type": "markdown",
   "id": "259688f9",
   "metadata": {},
   "source": [
    "# **3. Визуализация пропусков**"
   ]
  },
  {
   "cell_type": "code",
   "execution_count": 45,
   "id": "3f766f35",
   "metadata": {},
   "outputs": [
    {
     "data": {
      "image/png": "[encoded data removed]",
      "text/plain": [
       "<Figure size 1800x720 with 2 Axes>"
      ]
     },
     "metadata": {
      "needs_background": "light"
     },
     "output_type": "display_data"
    }
   ],
   "source": [
    "import missingno as msno # \n",
    "ах= msno.matrix(df.sample(500))"
   ]
  },
  {
   "cell_type": "code",
   "execution_count": 46,
   "id": "9d4584d5",
   "metadata": {},
   "outputs": [
    {
     "data": {
      "text/plain": [
       "(8068, 10)"
      ]
     },
     "execution_count": 46,
     "metadata": {},
     "output_type": "execute_result"
    }
   ],
   "source": [
    "df.shape"
   ]
  },
  {
   "cell_type": "markdown",
   "id": "4b14d786",
   "metadata": {},
   "source": [
    "# **4. Сохраняем данные в файл (будут 2 файла dropna и fillna)**"
   ]
  },
  {
   "cell_type": "markdown",
   "id": "59938df9",
   "metadata": {},
   "source": [
    "**1. Удаляем строки с NaN (просто удаляем и все)**"
   ]
  },
  {
   "cell_type": "code",
   "execution_count": 47,
   "id": "0702e45b",
   "metadata": {},
   "outputs": [],
   "source": [
    "df_dropna = df.dropna()"
   ]
  },
  {
   "cell_type": "code",
   "execution_count": 48,
   "id": "f845d7d9",
   "metadata": {},
   "outputs": [
    {
     "data": {
      "image/png": "[encoded data removed]",
      "text/plain": [
       "<Figure size 1800x720 with 2 Axes>"
      ]
     },
     "metadata": {
      "needs_background": "light"
     },
     "output_type": "display_data"
    }
   ],
   "source": [
    "import missingno as msno # \n",
    "ах= msno.matrix(df_dropna.sample(500))"
   ]
  },
  {
   "cell_type": "code",
   "execution_count": 50,
   "id": "c11ae8be",
   "metadata": {},
   "outputs": [
    {
     "data": {
      "text/plain": [
       "(6665, 10)"
      ]
     },
     "execution_count": 50,
     "metadata": {},
     "output_type": "execute_result"
    }
   ],
   "source": [
    "df_dropna.shape"
   ]
  },
  {
   "cell_type": "code",
   "execution_count": 51,
   "id": "21132e97",
   "metadata": {},
   "outputs": [
    {
     "data": {
      "text/plain": [
       "4    1757\n",
       "3    1720\n",
       "1    1616\n",
       "2    1572\n",
       "Name: Целевая_категория, dtype: int64"
      ]
     },
     "execution_count": 51,
     "metadata": {},
     "output_type": "execute_result"
    }
   ],
   "source": [
    "df_dropna.Целевая_категория.value_counts()"
   ]
  },
  {
   "cell_type": "code",
   "execution_count": 52,
   "id": "c8ec2e3a",
   "metadata": {},
   "outputs": [
    {
     "data": {
      "text/plain": [
       "185"
      ]
     },
     "execution_count": 52,
     "metadata": {},
     "output_type": "execute_result"
    }
   ],
   "source": [
    "1757-1572"
   ]
  },
  {
   "cell_type": "markdown",
   "id": "99f2caf9",
   "metadata": {},
   "source": [
    "**Сохраняем в файл:**"
   ]
  },
  {
   "cell_type": "code",
   "execution_count": 53,
   "id": "ba78d8e3",
   "metadata": {},
   "outputs": [],
   "source": [
    "df_dropna.to_csv('Train_cleared_dropna.csv')"
   ]
  },
  {
   "cell_type": "markdown",
   "id": "042d694d",
   "metadata": {},
   "source": [
    "**2. Заполняем NaN значения соседними значениями**"
   ]
  },
  {
   "cell_type": "code",
   "execution_count": 57,
   "id": "cd1cf632",
   "metadata": {},
   "outputs": [],
   "source": [
    "df_fillna = df"
   ]
  },
  {
   "cell_type": "code",
   "execution_count": 58,
   "id": "32cfd88b",
   "metadata": {},
   "outputs": [],
   "source": [
    "df_fillna = df_fillna.sort_values(by=['Целевая_категория','Возраст',])"
   ]
  },
  {
   "cell_type": "code",
   "execution_count": 60,
   "id": "c91030e1",
   "metadata": {},
   "outputs": [],
   "source": [
    "df_fillna['Семейное_положение'].fillna(method='ffill', inplace=True)"
   ]
  },
  {
   "cell_type": "code",
   "execution_count": 62,
   "id": "640c0106",
   "metadata": {},
   "outputs": [],
   "source": [
    "df_fillna = df_fillna.sort_values(by=['Целевая_категория','Возраст','Семейное_положение'])"
   ]
  },
  {
   "cell_type": "code",
   "execution_count": 63,
   "id": "20a4f832",
   "metadata": {},
   "outputs": [],
   "source": [
    "df_fillna['Высшее_образование'].fillna(method='ffill', inplace=True)"
   ]
  },
  {
   "cell_type": "code",
   "execution_count": 65,
   "id": "63d35355",
   "metadata": {},
   "outputs": [],
   "source": [
    "df_fillna['Профессия'].fillna(method='ffill', inplace=True)"
   ]
  },
  {
   "cell_type": "code",
   "execution_count": 67,
   "id": "b540446a",
   "metadata": {},
   "outputs": [],
   "source": [
    "df_fillna['Размер_семьи'].fillna(method='ffill', inplace=True)"
   ]
  },
  {
   "cell_type": "code",
   "execution_count": 69,
   "id": "3a33f28f",
   "metadata": {},
   "outputs": [],
   "source": [
    "df_fillna['Анонимная_категория'].fillna(method='ffill', inplace=True)"
   ]
  },
  {
   "cell_type": "code",
   "execution_count": 71,
   "id": "30e7ea76",
   "metadata": {},
   "outputs": [],
   "source": [
    "df_fillna['Опыт_работы'].fillna(method='ffill', inplace=True)"
   ]
  },
  {
   "cell_type": "code",
   "execution_count": null,
   "id": "003aa366",
   "metadata": {},
   "outputs": [],
   "source": [
    "df_fillna = df_fillna.sort_values(by=['Целевая_категория','Возраст'])"
   ]
  },
  {
   "cell_type": "code",
   "execution_count": 72,
   "id": "7d5f9609",
   "metadata": {},
   "outputs": [
    {
     "data": {
      "image/png": "[encoded data removed]",
      "text/plain": [
       "<Figure size 1800x720 with 2 Axes>"
      ]
     },
     "metadata": {
      "needs_background": "light"
     },
     "output_type": "display_data"
    }
   ],
   "source": [
    "import missingno as msno # \n",
    "ах= msno.matrix(df_fillna.sample(500))"
   ]
  },
  {
   "cell_type": "code",
   "execution_count": 80,
   "id": "7ca16a43",
   "metadata": {},
   "outputs": [
    {
     "data": {
      "text/plain": [
       "(8067, 10)"
      ]
     },
     "execution_count": 80,
     "metadata": {},
     "output_type": "execute_result"
    }
   ],
   "source": [
    "df_fillna.shape"
   ]
  },
  {
   "cell_type": "code",
   "execution_count": 79,
   "id": "243abad3",
   "metadata": {
    "collapsed": true
   },
   "outputs": [
    {
     "data": {
      "text/plain": [
       "Пол                    0\n",
       "Семейное_положение     0\n",
       "Возраст                0\n",
       "Высшее_образование     0\n",
       "Профессия              0\n",
       "Опыт_работы            0\n",
       "Уровень_расходов       0\n",
       "Размер_семьи           0\n",
       "Анонимная_категория    0\n",
       "Целевая_категория      0\n",
       "dtype: int64"
      ]
     },
     "execution_count": 79,
     "metadata": {},
     "output_type": "execute_result"
    }
   ],
   "source": [
    "df_fillna.isna().sum()"
   ]
  },
  {
   "cell_type": "code",
   "execution_count": 78,
   "id": "e484dc59",
   "metadata": {},
   "outputs": [],
   "source": [
    "df_fillna = df_fillna.dropna()"
   ]
  },
  {
   "cell_type": "markdown",
   "id": "2479b355",
   "metadata": {},
   "source": [
    "**Сохраняем в файл:**"
   ]
  },
  {
   "cell_type": "code",
   "execution_count": 81,
   "id": "4df9c9db",
   "metadata": {},
   "outputs": [],
   "source": [
    "df_fillna.to_csv('Train_cleared_fillna.csv')"
   ]
  }
 ],
 "metadata": {
  "kernelspec": {
   "display_name": "Python 3 (ipykernel)",
   "language": "python",
   "name": "python3"
  },
  "language_info": {
   "codemirror_mode": {
    "name": "ipython",
    "version": 3
   },
   "file_extension": ".py",
   "mimetype": "text/x-python",
   "name": "python",
   "nbconvert_exporter": "python",
   "pygments_lexer": "ipython3",
   "version": "3.9.7"
  }
 },
 "nbformat": 4,
 "nbformat_minor": 5
}
