{
 "cells": [
  {
   "cell_type": "code",
   "execution_count": 59,
   "id": "a850e069",
   "metadata": {},
   "outputs": [],
   "source": [
    "import pandas as pd\n",
    "import numpy as np\n",
    "from pandas import read_csv"
   ]
  },
  {
   "cell_type": "code",
   "execution_count": 60,
   "id": "fbdfabea",
   "metadata": {},
   "outputs": [],
   "source": [
    "df=read_csv('D:\\Политех\\Класиффикация\\Сегментация_клиентов\\Train_cleared_dropna.csv')"
   ]
  },
  {
   "cell_type": "code",
   "execution_count": 61,
   "id": "cff98dbd",
   "metadata": {},
   "outputs": [],
   "source": [
    "df_T=read_csv('D:\\Политех\\Класиффикация\\Сегментация_клиентов\\TEST_cleared_dropna.csv')"
   ]
  },
  {
   "cell_type": "code",
   "execution_count": 62,
   "id": "0db49fba",
   "metadata": {},
   "outputs": [],
   "source": [
    "df=df.filter(regex='^(?!.*Unnamed).*$')"
   ]
  },
  {
   "cell_type": "code",
   "execution_count": 63,
   "id": "000d88c3",
   "metadata": {},
   "outputs": [],
   "source": [
    "df_T=df_T.filter(regex='^(?!.*Unnamed).*$')"
   ]
  },
  {
   "cell_type": "markdown",
   "id": "541c61dc",
   "metadata": {},
   "source": [
    "================================================================"
   ]
  },
  {
   "cell_type": "markdown",
   "id": "94e3fda3",
   "metadata": {},
   "source": [
    "**Обучающий_набор**"
   ]
  },
  {
   "cell_type": "code",
   "execution_count": 64,
   "id": "4033d57d",
   "metadata": {},
   "outputs": [
    {
     "data": {
      "text/plain": [
       "array([[ 1.,  0., 22., ...,  4.,  4.,  4.],\n",
       "       [ 0.,  1., 67., ...,  1.,  6.,  2.],\n",
       "       [ 1.,  1., 67., ...,  2.,  6.,  2.],\n",
       "       ...,\n",
       "       [ 0.,  0., 33., ...,  1.,  6.,  4.],\n",
       "       [ 0.,  0., 27., ...,  4.,  6.,  2.],\n",
       "       [ 1.,  1., 37., ...,  3.,  4.,  2.]])"
      ]
     },
     "execution_count": 64,
     "metadata": {},
     "output_type": "execute_result"
    }
   ],
   "source": [
    "array = df.values\n",
    "array"
   ]
  },
  {
   "cell_type": "code",
   "execution_count": 65,
   "id": "72b6ec77",
   "metadata": {},
   "outputs": [],
   "source": [
    "X = array[:,0:9]\n",
    "Y = array[:,9]"
   ]
  },
  {
   "cell_type": "code",
   "execution_count": 66,
   "id": "e6efa435",
   "metadata": {},
   "outputs": [
    {
     "data": {
      "text/plain": [
       "array([[ 1.,  0., 22., ...,  3.,  4.,  4.],\n",
       "       [ 0.,  1., 67., ...,  3.,  1.,  6.],\n",
       "       [ 1.,  1., 67., ...,  1.,  2.,  6.],\n",
       "       ...,\n",
       "       [ 0.,  0., 33., ...,  3.,  1.,  6.],\n",
       "       [ 0.,  0., 27., ...,  3.,  4.,  6.],\n",
       "       [ 1.,  1., 37., ...,  2.,  3.,  4.]])"
      ]
     },
     "execution_count": 66,
     "metadata": {},
     "output_type": "execute_result"
    }
   ],
   "source": [
    "X"
   ]
  },
  {
   "cell_type": "code",
   "execution_count": 67,
   "id": "2c33499e",
   "metadata": {},
   "outputs": [
    {
     "data": {
      "text/plain": [
       "array([4., 2., 2., ..., 4., 2., 2.])"
      ]
     },
     "execution_count": 67,
     "metadata": {},
     "output_type": "execute_result"
    }
   ],
   "source": [
    "Y"
   ]
  },
  {
   "cell_type": "markdown",
   "id": "aa170ea5",
   "metadata": {},
   "source": [
    "=============================================================="
   ]
  },
  {
   "cell_type": "markdown",
   "id": "43aa6084",
   "metadata": {},
   "source": [
    "**Тестовый_набор**"
   ]
  },
  {
   "cell_type": "code",
   "execution_count": 68,
   "id": "e29494f4",
   "metadata": {},
   "outputs": [
    {
     "data": {
      "text/plain": [
       "array([[ 1.,  0., 22., ...,  4.,  4.,  4.],\n",
       "       [ 0.,  1., 67., ...,  1.,  6.,  2.],\n",
       "       [ 1.,  1., 67., ...,  2.,  6.,  2.],\n",
       "       ...,\n",
       "       [ 0.,  0., 33., ...,  1.,  6.,  4.],\n",
       "       [ 0.,  0., 27., ...,  4.,  6.,  2.],\n",
       "       [ 1.,  1., 37., ...,  3.,  4.,  2.]])"
      ]
     },
     "execution_count": 68,
     "metadata": {},
     "output_type": "execute_result"
    }
   ],
   "source": [
    "array_T = df.values\n",
    "array_T"
   ]
  },
  {
   "cell_type": "code",
   "execution_count": 69,
   "id": "d6ad4032",
   "metadata": {},
   "outputs": [],
   "source": [
    "XX = array_T[:,0:9]\n",
    "YY = array_T[:,9]"
   ]
  },
  {
   "cell_type": "code",
   "execution_count": 70,
   "id": "6510fcb4",
   "metadata": {},
   "outputs": [
    {
     "data": {
      "text/plain": [
       "array([[ 1.,  0., 22., ...,  3.,  4.,  4.],\n",
       "       [ 0.,  1., 67., ...,  3.,  1.,  6.],\n",
       "       [ 1.,  1., 67., ...,  1.,  2.,  6.],\n",
       "       ...,\n",
       "       [ 0.,  0., 33., ...,  3.,  1.,  6.],\n",
       "       [ 0.,  0., 27., ...,  3.,  4.,  6.],\n",
       "       [ 1.,  1., 37., ...,  2.,  3.,  4.]])"
      ]
     },
     "execution_count": 70,
     "metadata": {},
     "output_type": "execute_result"
    }
   ],
   "source": [
    "XX"
   ]
  },
  {
   "cell_type": "code",
   "execution_count": 13,
   "id": "88d44c87",
   "metadata": {
    "collapsed": true
   },
   "outputs": [
    {
     "data": {
      "text/plain": [
       "array([4., 2., 2., ..., 4., 2., 2.])"
      ]
     },
     "execution_count": 13,
     "metadata": {},
     "output_type": "execute_result"
    }
   ],
   "source": [
    "YY"
   ]
  },
  {
   "cell_type": "markdown",
   "id": "2d4e5423",
   "metadata": {},
   "source": [
    "====================================================="
   ]
  },
  {
   "cell_type": "code",
   "execution_count": 71,
   "id": "f4ddb5b9",
   "metadata": {},
   "outputs": [],
   "source": [
    "from sklearn.model_selection import KFold\n",
    "from sklearn.model_selection import cross_val_score\n",
    "# отбор признаков:\n",
    "from sklearn.feature_selection import SelectKBest\n",
    "from sklearn.feature_selection import f_classif\n",
    "# ансамблевые функции:\n",
    "from sklearn.ensemble import BaggingClassifier\n",
    "from sklearn.tree import DecisionTreeClassifier\n",
    "from sklearn.ensemble import RandomForestClassifier\n",
    "from sklearn.ensemble import ExtraTreesClassifier\n",
    "from sklearn.ensemble import AdaBoostClassifier\n",
    "from sklearn.ensemble import GradientBoostingClassifier\n",
    "from xgboost import XGBClassifier\n",
    "from sklearn.linear_model import LogisticRegression\n",
    "from sklearn.svm import SVC\n",
    "from sklearn.ensemble import VotingClassifier\n",
    "import numpy as np\n",
    "from sklearn.linear_model import RidgeClassifier\n",
    "from sklearn.model_selection import GridSearchCV\n",
    "from scipy.stats import uniform\n",
    "from sklearn.model_selection import RandomizedSearchCV\n",
    "from sklearn.model_selection import train_test_split\n",
    "# сохраняет параметры после перезагрузки:\n",
    "import pickle\n",
    "import joblib"
   ]
  },
  {
   "cell_type": "code",
   "execution_count": 18,
   "id": "566d4ce7",
   "metadata": {
    "collapsed": true
   },
   "outputs": [
    {
     "ename": "SyntaxError",
     "evalue": "invalid syntax (Temp/ipykernel_17880/441078461.py, line 1)",
     "output_type": "error",
     "traceback": [
      "\u001b[1;36m  File \u001b[1;32m\"C:\\Users\\D9F8~1\\AppData\\Local\\Temp/ipykernel_17880/441078461.py\"\u001b[1;36m, line \u001b[1;32m1\u001b[0m\n\u001b[1;33m    +++++++++++++++++++++++++++++++++++++++++++++++++++++\u001b[0m\n\u001b[1;37m                                                         ^\u001b[0m\n\u001b[1;31mSyntaxError\u001b[0m\u001b[1;31m:\u001b[0m invalid syntax\n"
     ]
    }
   ],
   "source": [
    "+++++++++++++++++++++++++++++++++++++++++++++++++++++"
   ]
  },
  {
   "cell_type": "markdown",
   "id": "46e9ecc7",
   "metadata": {},
   "source": [
    "**Выделяем 3 выборки: обучающую, валидационную и тестовую**"
   ]
  },
  {
   "cell_type": "code",
   "execution_count": 88,
   "id": "7805bb93",
   "metadata": {},
   "outputs": [],
   "source": [
    "X_train_test, X_val, Y_train_test, Y_val = train_test_split(X, Y, test_size=0.25, random_state= 7, shuffle=True)"
   ]
  },
  {
   "cell_type": "code",
   "execution_count": 89,
   "id": "3efbf109",
   "metadata": {},
   "outputs": [],
   "source": [
    "X_train, X_test, Y_train, Y_test = train_test_split(X_train_test, Y_train_test, test_size=0.25, shuffle=True, random_state=7) "
   ]
  },
  {
   "cell_type": "code",
   "execution_count": 48,
   "id": "d0df224b",
   "metadata": {},
   "outputs": [],
   "source": [
    "alphas = np.array([7,5,3,1,0.1,0.01,0.001,0.0001,0])"
   ]
  },
  {
   "cell_type": "code",
   "execution_count": 49,
   "id": "7948e485",
   "metadata": {},
   "outputs": [],
   "source": [
    "param_grid = dict(alpha=alphas)"
   ]
  },
  {
   "cell_type": "code",
   "execution_count": null,
   "id": "032617ba",
   "metadata": {},
   "outputs": [],
   "source": []
  },
  {
   "cell_type": "code",
   "execution_count": 50,
   "id": "6a554f85",
   "metadata": {},
   "outputs": [],
   "source": [
    "model = RidgeClassifier()"
   ]
  },
  {
   "cell_type": "code",
   "execution_count": 51,
   "id": "cba6cc59",
   "metadata": {},
   "outputs": [],
   "source": [
    "grid = GridSearchCV(estimator = model, param_grid = param_grid, cv = 3)"
   ]
  },
  {
   "cell_type": "code",
   "execution_count": 52,
   "id": "15ed2b05",
   "metadata": {},
   "outputs": [
    {
     "data": {
      "text/plain": [
       "GridSearchCV(cv=3, estimator=RidgeClassifier(),\n",
       "             param_grid={'alpha': array([7.e+00, 5.e+00, 3.e+00, 1.e+00, 1.e-01, 1.e-02, 1.e-03, 1.e-04,\n",
       "       0.e+00])})"
      ]
     },
     "execution_count": 52,
     "metadata": {},
     "output_type": "execute_result"
    }
   ],
   "source": [
    "grid.fit(X_val, Y_val)"
   ]
  },
  {
   "cell_type": "code",
   "execution_count": 53,
   "id": "3f0e3878",
   "metadata": {},
   "outputs": [
    {
     "data": {
      "text/plain": [
       "0.44030613347160114"
      ]
     },
     "execution_count": 53,
     "metadata": {},
     "output_type": "execute_result"
    }
   ],
   "source": [
    "grid.best_score_"
   ]
  },
  {
   "cell_type": "code",
   "execution_count": 54,
   "id": "de645163",
   "metadata": {},
   "outputs": [
    {
     "data": {
      "text/plain": [
       "3.0"
      ]
     },
     "execution_count": 54,
     "metadata": {},
     "output_type": "execute_result"
    }
   ],
   "source": [
    "grid.best_estimator_.alpha"
   ]
  },
  {
   "cell_type": "code",
   "execution_count": 55,
   "id": "36ca6686",
   "metadata": {},
   "outputs": [],
   "source": [
    "model = RidgeClassifier(alpha=grid.best_estimator_.alpha)"
   ]
  },
  {
   "cell_type": "code",
   "execution_count": 56,
   "id": "1121821c",
   "metadata": {},
   "outputs": [
    {
     "data": {
      "text/plain": [
       "RidgeClassifier(alpha=3.0)"
      ]
     },
     "execution_count": 56,
     "metadata": {},
     "output_type": "execute_result"
    }
   ],
   "source": [
    "model.fit(X_test, Y_test)"
   ]
  },
  {
   "cell_type": "code",
   "execution_count": 58,
   "id": "fe9df6b7",
   "metadata": {},
   "outputs": [
    {
     "data": {
      "text/plain": [
       "0.4912"
      ]
     },
     "execution_count": 58,
     "metadata": {},
     "output_type": "execute_result"
    }
   ],
   "source": [
    "model.score(X_test, Y_test)"
   ]
  },
  {
   "cell_type": "code",
   "execution_count": null,
   "id": "321bd0d3",
   "metadata": {},
   "outputs": [],
   "source": []
  },
  {
   "cell_type": "code",
   "execution_count": null,
   "id": "3bc7353a",
   "metadata": {},
   "outputs": [],
   "source": []
  },
  {
   "cell_type": "code",
   "execution_count": null,
   "id": "96c57615",
   "metadata": {},
   "outputs": [],
   "source": []
  },
  {
   "cell_type": "code",
   "execution_count": null,
   "id": "a347a532",
   "metadata": {},
   "outputs": [],
   "source": []
  },
  {
   "cell_type": "code",
   "execution_count": null,
   "id": "74a0c8dc",
   "metadata": {},
   "outputs": [],
   "source": []
  },
  {
   "cell_type": "code",
   "execution_count": null,
   "id": "b6fd76fb",
   "metadata": {},
   "outputs": [],
   "source": []
  },
  {
   "cell_type": "code",
   "execution_count": null,
   "id": "74d7f63a",
   "metadata": {},
   "outputs": [],
   "source": []
  },
  {
   "cell_type": "code",
   "execution_count": null,
   "id": "58669c28",
   "metadata": {},
   "outputs": [],
   "source": []
  },
  {
   "cell_type": "code",
   "execution_count": 71,
   "id": "1d1b0ec9",
   "metadata": {},
   "outputs": [],
   "source": [
    "kfold = KFold(n_splits= 3, random_state = 7, shuffle=True)"
   ]
  },
  {
   "cell_type": "code",
   "execution_count": 72,
   "id": "622e4f55",
   "metadata": {},
   "outputs": [],
   "source": [
    "estimators = []"
   ]
  },
  {
   "cell_type": "code",
   "execution_count": 73,
   "id": "f39c65ae",
   "metadata": {},
   "outputs": [],
   "source": [
    "estimators.append(('logistic', LogisticRegression()))"
   ]
  },
  {
   "cell_type": "code",
   "execution_count": 74,
   "id": "545c8f0a",
   "metadata": {},
   "outputs": [],
   "source": [
    "estimators.append(('cart', DecisionTreeClassifier()))"
   ]
  },
  {
   "cell_type": "code",
   "execution_count": 75,
   "id": "e71361ef",
   "metadata": {},
   "outputs": [],
   "source": [
    "estimators.append(('svm', SVC()))"
   ]
  },
  {
   "cell_type": "code",
   "execution_count": 76,
   "id": "605ac3ca",
   "metadata": {},
   "outputs": [
    {
     "data": {
      "text/plain": [
       "[('logistic', LogisticRegression()),\n",
       " ('cart', DecisionTreeClassifier()),\n",
       " ('svm', SVC())]"
      ]
     },
     "execution_count": 76,
     "metadata": {},
     "output_type": "execute_result"
    }
   ],
   "source": [
    "estimators"
   ]
  },
  {
   "cell_type": "code",
   "execution_count": 83,
   "id": "d5c4841c",
   "metadata": {},
   "outputs": [],
   "source": [
    "from sklearn.preprocessing import StandardScaler\n",
    "scaler=StandardScaler().fit(X)\n",
    "rescaledX=scaler.transform(X)"
   ]
  },
  {
   "cell_type": "code",
   "execution_count": 84,
   "id": "7b4f1131",
   "metadata": {},
   "outputs": [],
   "source": [
    "ensemble = VotingClassifier(estimators)"
   ]
  },
  {
   "cell_type": "code",
   "execution_count": 85,
   "id": "acec5922",
   "metadata": {},
   "outputs": [],
   "source": [
    "results = cross_val_score(ensemble, rescaledX, Y, cv=kfold)"
   ]
  },
  {
   "cell_type": "code",
   "execution_count": 86,
   "id": "57d6f733",
   "metadata": {},
   "outputs": [
    {
     "data": {
      "text/plain": [
       "(0.5077266168760054, 0.008761881023465708)"
      ]
     },
     "execution_count": 86,
     "metadata": {},
     "output_type": "execute_result"
    }
   ],
   "source": [
    "results.mean(), results.std()"
   ]
  },
  {
   "cell_type": "code",
   "execution_count": null,
   "id": "858b4756",
   "metadata": {},
   "outputs": [],
   "source": []
  },
  {
   "cell_type": "code",
   "execution_count": null,
   "id": "ae0adb2b",
   "metadata": {},
   "outputs": [],
   "source": []
  },
  {
   "cell_type": "code",
   "execution_count": null,
   "id": "b95b241a",
   "metadata": {},
   "outputs": [],
   "source": []
  },
  {
   "cell_type": "code",
   "execution_count": null,
   "id": "35c7f0a8",
   "metadata": {},
   "outputs": [],
   "source": []
  },
  {
   "cell_type": "code",
   "execution_count": null,
   "id": "6319daf2",
   "metadata": {},
   "outputs": [],
   "source": []
  },
  {
   "cell_type": "code",
   "execution_count": 90,
   "id": "416df0f3",
   "metadata": {},
   "outputs": [],
   "source": [
    "X_train_test, X_val, Y_train_test, Y_val = train_test_split(X, Y, test_size=0.25, random_state= 7)"
   ]
  },
  {
   "cell_type": "code",
   "execution_count": 91,
   "id": "f9e06192",
   "metadata": {},
   "outputs": [],
   "source": [
    "param_grid = {'alpha':uniform()}"
   ]
  },
  {
   "cell_type": "code",
   "execution_count": 92,
   "id": "40257004",
   "metadata": {},
   "outputs": [],
   "source": [
    "model = RidgeClassifier()"
   ]
  },
  {
   "cell_type": "code",
   "execution_count": 93,
   "id": "efa73907",
   "metadata": {},
   "outputs": [],
   "source": [
    "rsearch = RandomizedSearchCV(estimator = model, param_distributions = param_grid, n_iter = 100, cv = 3, random_state = 7)"
   ]
  },
  {
   "cell_type": "code",
   "execution_count": 94,
   "id": "118a0942",
   "metadata": {},
   "outputs": [
    {
     "data": {
      "text/plain": [
       "RandomizedSearchCV(cv=3, estimator=RidgeClassifier(), n_iter=100,\n",
       "                   param_distributions={'alpha': <scipy.stats._distn_infrastructure.rv_frozen object at 0x00000174EB969190>},\n",
       "                   random_state=7)"
      ]
     },
     "execution_count": 94,
     "metadata": {},
     "output_type": "execute_result"
    }
   ],
   "source": [
    "rsearch.fit(X_val,Y_val)"
   ]
  },
  {
   "cell_type": "code",
   "execution_count": 95,
   "id": "c44a603a",
   "metadata": {},
   "outputs": [
    {
     "data": {
      "text/plain": [
       "0.43910709270421505"
      ]
     },
     "execution_count": 95,
     "metadata": {},
     "output_type": "execute_result"
    }
   ],
   "source": [
    "rsearch.best_score_"
   ]
  },
  {
   "cell_type": "code",
   "execution_count": 96,
   "id": "9ecd0aaa",
   "metadata": {},
   "outputs": [
    {
     "data": {
      "text/plain": [
       "0.07630828937395717"
      ]
     },
     "execution_count": 96,
     "metadata": {},
     "output_type": "execute_result"
    }
   ],
   "source": [
    "rsearch.best_estimator_.alpha"
   ]
  },
  {
   "cell_type": "code",
   "execution_count": 97,
   "id": "d5d9d865",
   "metadata": {},
   "outputs": [],
   "source": [
    "model = RidgeClassifier(alpha=rsearch.best_estimator_.alpha)"
   ]
  },
  {
   "cell_type": "code",
   "execution_count": 98,
   "id": "a9168fef",
   "metadata": {},
   "outputs": [
    {
     "data": {
      "text/plain": [
       "RidgeClassifier(alpha=0.07630828937395717)"
      ]
     },
     "execution_count": 98,
     "metadata": {},
     "output_type": "execute_result"
    }
   ],
   "source": [
    "model.fit(X_test, Y_test)"
   ]
  },
  {
   "cell_type": "code",
   "execution_count": 99,
   "id": "de66f2ae",
   "metadata": {},
   "outputs": [
    {
     "data": {
      "text/plain": [
       "0.4912"
      ]
     },
     "execution_count": 99,
     "metadata": {},
     "output_type": "execute_result"
    }
   ],
   "source": [
    "model.score(X_test, Y_test)"
   ]
  },
  {
   "cell_type": "code",
   "execution_count": null,
   "id": "fe8e5b0f",
   "metadata": {},
   "outputs": [],
   "source": []
  }
 ],
 "metadata": {
  "kernelspec": {
   "display_name": "Python 3 (ipykernel)",
   "language": "python",
   "name": "python3"
  },
  "language_info": {
   "codemirror_mode": {
    "name": "ipython",
    "version": 3
   },
   "file_extension": ".py",
   "mimetype": "text/x-python",
   "name": "python",
   "nbconvert_exporter": "python",
   "pygments_lexer": "ipython3",
   "version": "3.9.7"
  }
 },
 "nbformat": 4,
 "nbformat_minor": 5
}
