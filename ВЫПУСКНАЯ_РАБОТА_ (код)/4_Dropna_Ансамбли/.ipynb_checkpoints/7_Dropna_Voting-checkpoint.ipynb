{
 "cells": [
  {
   "cell_type": "code",
   "execution_count": 1,
   "id": "a850e069",
   "metadata": {},
   "outputs": [],
   "source": [
    "import pandas as pd\n",
    "import numpy as np\n",
    "from pandas import read_csv"
   ]
  },
  {
   "cell_type": "code",
   "execution_count": 2,
   "id": "fbdfabea",
   "metadata": {},
   "outputs": [],
   "source": [
    "df=read_csv('D:\\Политех\\Класиффикация\\Сегментация_клиентов\\Train_cleared_dropna.csv')"
   ]
  },
  {
   "cell_type": "code",
   "execution_count": 3,
   "id": "cff98dbd",
   "metadata": {},
   "outputs": [],
   "source": [
    "df_T=read_csv('D:\\Политех\\Класиффикация\\Сегментация_клиентов\\TEST_cleared_dropna.csv')"
   ]
  },
  {
   "cell_type": "code",
   "execution_count": 4,
   "id": "0db49fba",
   "metadata": {},
   "outputs": [],
   "source": [
    "df=df.filter(regex='^(?!.*Unnamed).*$')"
   ]
  },
  {
   "cell_type": "code",
   "execution_count": 5,
   "id": "000d88c3",
   "metadata": {},
   "outputs": [],
   "source": [
    "df_T=df_T.filter(regex='^(?!.*Unnamed).*$')"
   ]
  },
  {
   "cell_type": "markdown",
   "id": "541c61dc",
   "metadata": {},
   "source": [
    "================================================================"
   ]
  },
  {
   "cell_type": "markdown",
   "id": "94e3fda3",
   "metadata": {},
   "source": [
    "**Обучающий_набор**"
   ]
  },
  {
   "cell_type": "code",
   "execution_count": 6,
   "id": "4033d57d",
   "metadata": {},
   "outputs": [
    {
     "data": {
      "text/plain": [
       "array([[ 1.,  0., 22., ...,  4.,  4.,  4.],\n",
       "       [ 0.,  1., 67., ...,  1.,  6.,  2.],\n",
       "       [ 1.,  1., 67., ...,  2.,  6.,  2.],\n",
       "       ...,\n",
       "       [ 0.,  0., 33., ...,  1.,  6.,  4.],\n",
       "       [ 0.,  0., 27., ...,  4.,  6.,  2.],\n",
       "       [ 1.,  1., 37., ...,  3.,  4.,  2.]])"
      ]
     },
     "execution_count": 6,
     "metadata": {},
     "output_type": "execute_result"
    }
   ],
   "source": [
    "array = df.values\n",
    "array"
   ]
  },
  {
   "cell_type": "code",
   "execution_count": 7,
   "id": "72b6ec77",
   "metadata": {},
   "outputs": [],
   "source": [
    "X = array[:,0:9]\n",
    "Y = array[:,9]"
   ]
  },
  {
   "cell_type": "code",
   "execution_count": 8,
   "id": "e6efa435",
   "metadata": {
    "collapsed": true
   },
   "outputs": [
    {
     "data": {
      "text/plain": [
       "array([[ 1.,  0., 22., ...,  3.,  4.,  4.],\n",
       "       [ 0.,  1., 67., ...,  3.,  1.,  6.],\n",
       "       [ 1.,  1., 67., ...,  1.,  2.,  6.],\n",
       "       ...,\n",
       "       [ 0.,  0., 33., ...,  3.,  1.,  6.],\n",
       "       [ 0.,  0., 27., ...,  3.,  4.,  6.],\n",
       "       [ 1.,  1., 37., ...,  2.,  3.,  4.]])"
      ]
     },
     "execution_count": 8,
     "metadata": {},
     "output_type": "execute_result"
    }
   ],
   "source": [
    "X"
   ]
  },
  {
   "cell_type": "code",
   "execution_count": 9,
   "id": "2c33499e",
   "metadata": {},
   "outputs": [
    {
     "data": {
      "text/plain": [
       "array([4., 2., 2., ..., 4., 2., 2.])"
      ]
     },
     "execution_count": 9,
     "metadata": {},
     "output_type": "execute_result"
    }
   ],
   "source": [
    "Y"
   ]
  },
  {
   "cell_type": "markdown",
   "id": "aa170ea5",
   "metadata": {},
   "source": [
    "=============================================================="
   ]
  },
  {
   "cell_type": "markdown",
   "id": "43aa6084",
   "metadata": {},
   "source": [
    "**Тестовый_набор**"
   ]
  },
  {
   "cell_type": "code",
   "execution_count": 9,
   "id": "e29494f4",
   "metadata": {},
   "outputs": [
    {
     "data": {
      "text/plain": [
       "array([[ 0.,  1., 36., ...,  1.,  6.,  2.],\n",
       "       [ 1.,  1., 37., ...,  4.,  6.,  1.],\n",
       "       [ 1.,  1., 59., ...,  2.,  6.,  2.],\n",
       "       ...,\n",
       "       [ 0.,  0., 35., ...,  1.,  6.,  1.],\n",
       "       [ 1.,  1., 47., ...,  5.,  4.,  3.],\n",
       "       [ 0.,  0., 43., ...,  3.,  7.,  1.]])"
      ]
     },
     "execution_count": 9,
     "metadata": {},
     "output_type": "execute_result"
    }
   ],
   "source": [
    "array_T = df_T.values\n",
    "array_T"
   ]
  },
  {
   "cell_type": "code",
   "execution_count": 10,
   "id": "d6ad4032",
   "metadata": {},
   "outputs": [],
   "source": [
    "XX = array_T[:,0:9]\n",
    "YY = array_T[:,9]"
   ]
  },
  {
   "cell_type": "code",
   "execution_count": 12,
   "id": "6510fcb4",
   "metadata": {
    "collapsed": true
   },
   "outputs": [
    {
     "data": {
      "text/plain": [
       "array([[ 1.,  0., 22., ...,  3.,  4.,  4.],\n",
       "       [ 0.,  1., 67., ...,  3.,  1.,  6.],\n",
       "       [ 1.,  1., 67., ...,  1.,  2.,  6.],\n",
       "       ...,\n",
       "       [ 0.,  0., 33., ...,  3.,  1.,  6.],\n",
       "       [ 0.,  0., 27., ...,  3.,  4.,  6.],\n",
       "       [ 1.,  1., 37., ...,  2.,  3.,  4.]])"
      ]
     },
     "execution_count": 12,
     "metadata": {},
     "output_type": "execute_result"
    }
   ],
   "source": [
    "XX"
   ]
  },
  {
   "cell_type": "code",
   "execution_count": 13,
   "id": "88d44c87",
   "metadata": {
    "collapsed": true
   },
   "outputs": [
    {
     "data": {
      "text/plain": [
       "array([4., 2., 2., ..., 4., 2., 2.])"
      ]
     },
     "execution_count": 13,
     "metadata": {},
     "output_type": "execute_result"
    }
   ],
   "source": [
    "YY"
   ]
  },
  {
   "cell_type": "markdown",
   "id": "2d4e5423",
   "metadata": {},
   "source": [
    "====================================================="
   ]
  },
  {
   "cell_type": "code",
   "execution_count": 18,
   "id": "f4ddb5b9",
   "metadata": {},
   "outputs": [],
   "source": [
    "from sklearn.model_selection import KFold\n",
    "from sklearn.model_selection import cross_val_score\n",
    "# отбор признаков:\n",
    "from sklearn.feature_selection import SelectKBest\n",
    "from sklearn.feature_selection import f_classif\n",
    "# ансамблевые функции:\n",
    "from sklearn.ensemble import BaggingClassifier\n",
    "from sklearn.tree import DecisionTreeClassifier\n",
    "from sklearn.ensemble import RandomForestClassifier\n",
    "from sklearn.ensemble import ExtraTreesClassifier\n",
    "from sklearn.ensemble import AdaBoostClassifier\n",
    "from sklearn.ensemble import GradientBoostingClassifier\n",
    "from xgboost import XGBClassifier\n",
    "from sklearn.linear_model import LogisticRegression\n",
    "from sklearn.svm import SVC\n",
    "from sklearn.ensemble import VotingClassifier\n",
    "import numpy as np\n",
    "from sklearn.neighbors import KNeighborsClassifier\n",
    "from sklearn.linear_model import RidgeClassifier\n",
    "from sklearn.model_selection import GridSearchCV\n",
    "from scipy.stats import uniform\n",
    "from sklearn.model_selection import RandomizedSearchCV\n",
    "from sklearn.model_selection import train_test_split\n",
    "# сохраняет параметры после перезагрузки:\n",
    "import pickle\n",
    "import joblib"
   ]
  },
  {
   "cell_type": "code",
   "execution_count": 18,
   "id": "566d4ce7",
   "metadata": {
    "collapsed": true
   },
   "outputs": [
    {
     "ename": "SyntaxError",
     "evalue": "invalid syntax (Temp/ipykernel_17880/441078461.py, line 1)",
     "output_type": "error",
     "traceback": [
      "\u001b[1;36m  File \u001b[1;32m\"C:\\Users\\D9F8~1\\AppData\\Local\\Temp/ipykernel_17880/441078461.py\"\u001b[1;36m, line \u001b[1;32m1\u001b[0m\n\u001b[1;33m    +++++++++++++++++++++++++++++++++++++++++++++++++++++\u001b[0m\n\u001b[1;37m                                                         ^\u001b[0m\n\u001b[1;31mSyntaxError\u001b[0m\u001b[1;31m:\u001b[0m invalid syntax\n"
     ]
    }
   ],
   "source": [
    "+++++++++++++++++++++++++++++++++++++++++++++++++++++"
   ]
  },
  {
   "cell_type": "code",
   "execution_count": 19,
   "id": "1d1b0ec9",
   "metadata": {},
   "outputs": [],
   "source": [
    "kfold = KFold(n_splits= 3, random_state = 7, shuffle=True)"
   ]
  },
  {
   "cell_type": "code",
   "execution_count": 20,
   "id": "622e4f55",
   "metadata": {},
   "outputs": [],
   "source": [
    "estimators = []"
   ]
  },
  {
   "cell_type": "code",
   "execution_count": 21,
   "id": "f39c65ae",
   "metadata": {},
   "outputs": [],
   "source": [
    "estimators.append(('logistic', LogisticRegression(C=0.01, max_iter=5000)))"
   ]
  },
  {
   "cell_type": "code",
   "execution_count": 22,
   "id": "545c8f0a",
   "metadata": {},
   "outputs": [],
   "source": [
    "estimators.append(('cart', DecisionTreeClassifier(criterion='entropy', max_depth=5)))"
   ]
  },
  {
   "cell_type": "code",
   "execution_count": 23,
   "id": "e71361ef",
   "metadata": {},
   "outputs": [],
   "source": [
    "estimators.append(('svm', SVC(C=100, gamma=0.001)))"
   ]
  },
  {
   "cell_type": "code",
   "execution_count": 24,
   "id": "7a5e403a",
   "metadata": {},
   "outputs": [],
   "source": [
    "estimators.append(('KNN', KNeighborsClassifier(metric='manhattan', n_neighbors=50)))"
   ]
  },
  {
   "cell_type": "code",
   "execution_count": null,
   "id": "a4247b95",
   "metadata": {},
   "outputs": [],
   "source": []
  },
  {
   "cell_type": "code",
   "execution_count": null,
   "id": "ebb28002",
   "metadata": {},
   "outputs": [],
   "source": []
  },
  {
   "cell_type": "code",
   "execution_count": 25,
   "id": "605ac3ca",
   "metadata": {},
   "outputs": [
    {
     "data": {
      "text/plain": [
       "[('logistic', LogisticRegression(C=0.01, max_iter=5000)),\n",
       " ('cart', DecisionTreeClassifier(criterion='entropy', max_depth=5)),\n",
       " ('svm', SVC(C=100, gamma=0.001)),\n",
       " ('KNN', KNeighborsClassifier(metric='manhattan', n_neighbors=50))]"
      ]
     },
     "execution_count": 25,
     "metadata": {},
     "output_type": "execute_result"
    }
   ],
   "source": [
    "estimators"
   ]
  },
  {
   "cell_type": "code",
   "execution_count": 26,
   "id": "d5c4841c",
   "metadata": {},
   "outputs": [],
   "source": [
    "from sklearn.preprocessing import StandardScaler\n",
    "scaler=StandardScaler().fit(X)\n",
    "rescaledX=scaler.transform(X)"
   ]
  },
  {
   "cell_type": "code",
   "execution_count": 27,
   "id": "7b4f1131",
   "metadata": {},
   "outputs": [],
   "source": [
    "ensemble = VotingClassifier(estimators)"
   ]
  },
  {
   "cell_type": "code",
   "execution_count": 28,
   "id": "acec5922",
   "metadata": {},
   "outputs": [],
   "source": [
    "results = cross_val_score(ensemble, rescaledX, Y, cv=kfold)"
   ]
  },
  {
   "cell_type": "code",
   "execution_count": 86,
   "id": "57d6f733",
   "metadata": {},
   "outputs": [
    {
     "data": {
      "text/plain": [
       "(0.5077266168760054, 0.008761881023465708)"
      ]
     },
     "execution_count": 86,
     "metadata": {},
     "output_type": "execute_result"
    }
   ],
   "source": [
    "results.mean(), results.std()"
   ]
  },
  {
   "cell_type": "code",
   "execution_count": 29,
   "id": "858b4756",
   "metadata": {},
   "outputs": [
    {
     "data": {
      "text/plain": [
       "(0.500524883645501, 0.0031628796847189148)"
      ]
     },
     "execution_count": 29,
     "metadata": {},
     "output_type": "execute_result"
    }
   ],
   "source": [
    "results.mean(), results.std()"
   ]
  },
  {
   "cell_type": "code",
   "execution_count": null,
   "id": "ae0adb2b",
   "metadata": {},
   "outputs": [],
   "source": []
  },
  {
   "cell_type": "code",
   "execution_count": null,
   "id": "b95b241a",
   "metadata": {},
   "outputs": [],
   "source": []
  },
  {
   "cell_type": "code",
   "execution_count": null,
   "id": "35c7f0a8",
   "metadata": {},
   "outputs": [],
   "source": []
  },
  {
   "cell_type": "code",
   "execution_count": null,
   "id": "6319daf2",
   "metadata": {},
   "outputs": [],
   "source": []
  },
  {
   "cell_type": "code",
   "execution_count": null,
   "id": "416df0f3",
   "metadata": {},
   "outputs": [],
   "source": []
  }
 ],
 "metadata": {
  "kernelspec": {
   "display_name": "Python 3 (ipykernel)",
   "language": "python",
   "name": "python3"
  },
  "language_info": {
   "codemirror_mode": {
    "name": "ipython",
    "version": 3
   },
   "file_extension": ".py",
   "mimetype": "text/x-python",
   "name": "python",
   "nbconvert_exporter": "python",
   "pygments_lexer": "ipython3",
   "version": "3.9.7"
  }
 },
 "nbformat": 4,
 "nbformat_minor": 5
}
