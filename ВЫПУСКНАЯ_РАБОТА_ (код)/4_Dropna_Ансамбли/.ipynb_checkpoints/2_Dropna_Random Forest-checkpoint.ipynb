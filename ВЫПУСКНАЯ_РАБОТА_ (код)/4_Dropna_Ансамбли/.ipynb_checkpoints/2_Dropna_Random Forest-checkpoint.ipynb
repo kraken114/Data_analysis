{
 "cells": [
  {
   "cell_type": "code",
   "execution_count": 1,
   "id": "a850e069",
   "metadata": {},
   "outputs": [],
   "source": [
    "import pandas as pd\n",
    "import numpy as np\n",
    "from pandas import read_csv"
   ]
  },
  {
   "cell_type": "code",
   "execution_count": 2,
   "id": "fbdfabea",
   "metadata": {},
   "outputs": [],
   "source": [
    "df=read_csv('D:\\Политех\\Класиффикация\\Сегментация_клиентов\\Train_cleared_dropna.csv')"
   ]
  },
  {
   "cell_type": "code",
   "execution_count": 3,
   "id": "cff98dbd",
   "metadata": {},
   "outputs": [],
   "source": [
    "df_T=read_csv('D:\\Политех\\Класиффикация\\Сегментация_клиентов\\TEST_cleared_dropna.csv')"
   ]
  },
  {
   "cell_type": "code",
   "execution_count": 6,
   "id": "0db49fba",
   "metadata": {},
   "outputs": [],
   "source": [
    "df=df.filter(regex='^(?!.*Unnamed).*$')"
   ]
  },
  {
   "cell_type": "code",
   "execution_count": 7,
   "id": "000d88c3",
   "metadata": {},
   "outputs": [],
   "source": [
    "df_T=df_T.filter(regex='^(?!.*Unnamed).*$')"
   ]
  },
  {
   "cell_type": "markdown",
   "id": "541c61dc",
   "metadata": {},
   "source": [
    "================================================================"
   ]
  },
  {
   "cell_type": "markdown",
   "id": "94e3fda3",
   "metadata": {},
   "source": [
    "**Обучающий_набор**"
   ]
  },
  {
   "cell_type": "code",
   "execution_count": 8,
   "id": "4033d57d",
   "metadata": {},
   "outputs": [
    {
     "data": {
      "text/plain": [
       "array([[ 1.,  0., 22., ...,  4.,  4.,  4.],\n",
       "       [ 0.,  1., 67., ...,  1.,  6.,  2.],\n",
       "       [ 1.,  1., 67., ...,  2.,  6.,  2.],\n",
       "       ...,\n",
       "       [ 0.,  0., 33., ...,  1.,  6.,  4.],\n",
       "       [ 0.,  0., 27., ...,  4.,  6.,  2.],\n",
       "       [ 1.,  1., 37., ...,  3.,  4.,  2.]])"
      ]
     },
     "execution_count": 8,
     "metadata": {},
     "output_type": "execute_result"
    }
   ],
   "source": [
    "array = df.values\n",
    "array"
   ]
  },
  {
   "cell_type": "code",
   "execution_count": 9,
   "id": "72b6ec77",
   "metadata": {},
   "outputs": [],
   "source": [
    "X = array[:,0:9]\n",
    "Y = array[:,9]"
   ]
  },
  {
   "cell_type": "code",
   "execution_count": 8,
   "id": "e6efa435",
   "metadata": {
    "collapsed": true
   },
   "outputs": [
    {
     "data": {
      "text/plain": [
       "array([[ 1.,  0., 22., ...,  3.,  4.,  4.],\n",
       "       [ 0.,  1., 67., ...,  3.,  1.,  6.],\n",
       "       [ 1.,  1., 67., ...,  1.,  2.,  6.],\n",
       "       ...,\n",
       "       [ 0.,  0., 33., ...,  3.,  1.,  6.],\n",
       "       [ 0.,  0., 27., ...,  3.,  4.,  6.],\n",
       "       [ 1.,  1., 37., ...,  2.,  3.,  4.]])"
      ]
     },
     "execution_count": 8,
     "metadata": {},
     "output_type": "execute_result"
    }
   ],
   "source": [
    "X"
   ]
  },
  {
   "cell_type": "code",
   "execution_count": 9,
   "id": "2c33499e",
   "metadata": {},
   "outputs": [
    {
     "data": {
      "text/plain": [
       "array([4., 2., 2., ..., 4., 2., 2.])"
      ]
     },
     "execution_count": 9,
     "metadata": {},
     "output_type": "execute_result"
    }
   ],
   "source": [
    "Y"
   ]
  },
  {
   "cell_type": "markdown",
   "id": "aa170ea5",
   "metadata": {},
   "source": [
    "=============================================================="
   ]
  },
  {
   "cell_type": "markdown",
   "id": "43aa6084",
   "metadata": {},
   "source": [
    "**Тестовый_набор**"
   ]
  },
  {
   "cell_type": "code",
   "execution_count": 10,
   "id": "e29494f4",
   "metadata": {},
   "outputs": [
    {
     "data": {
      "text/plain": [
       "array([[ 1.,  0., 22., ...,  4.,  4.,  4.],\n",
       "       [ 0.,  1., 67., ...,  1.,  6.,  2.],\n",
       "       [ 1.,  1., 67., ...,  2.,  6.,  2.],\n",
       "       ...,\n",
       "       [ 0.,  0., 33., ...,  1.,  6.,  4.],\n",
       "       [ 0.,  0., 27., ...,  4.,  6.,  2.],\n",
       "       [ 1.,  1., 37., ...,  3.,  4.,  2.]])"
      ]
     },
     "execution_count": 10,
     "metadata": {},
     "output_type": "execute_result"
    }
   ],
   "source": [
    "array_T = df.values\n",
    "array_T"
   ]
  },
  {
   "cell_type": "code",
   "execution_count": 11,
   "id": "d6ad4032",
   "metadata": {},
   "outputs": [],
   "source": [
    "XX = array_T[:,0:9]\n",
    "YY = array_T[:,9]"
   ]
  },
  {
   "cell_type": "code",
   "execution_count": 12,
   "id": "6510fcb4",
   "metadata": {
    "collapsed": true
   },
   "outputs": [
    {
     "data": {
      "text/plain": [
       "array([[ 1.,  0., 22., ...,  3.,  4.,  4.],\n",
       "       [ 0.,  1., 67., ...,  3.,  1.,  6.],\n",
       "       [ 1.,  1., 67., ...,  1.,  2.,  6.],\n",
       "       ...,\n",
       "       [ 0.,  0., 33., ...,  3.,  1.,  6.],\n",
       "       [ 0.,  0., 27., ...,  3.,  4.,  6.],\n",
       "       [ 1.,  1., 37., ...,  2.,  3.,  4.]])"
      ]
     },
     "execution_count": 12,
     "metadata": {},
     "output_type": "execute_result"
    }
   ],
   "source": [
    "XX"
   ]
  },
  {
   "cell_type": "code",
   "execution_count": 13,
   "id": "88d44c87",
   "metadata": {},
   "outputs": [
    {
     "data": {
      "text/plain": [
       "array([4., 2., 2., ..., 4., 2., 2.])"
      ]
     },
     "execution_count": 13,
     "metadata": {},
     "output_type": "execute_result"
    }
   ],
   "source": [
    "YY"
   ]
  },
  {
   "cell_type": "markdown",
   "id": "2d4e5423",
   "metadata": {},
   "source": [
    "====================================================="
   ]
  },
  {
   "cell_type": "code",
   "execution_count": 12,
   "id": "f4ddb5b9",
   "metadata": {},
   "outputs": [],
   "source": [
    "from sklearn.model_selection import KFold\n",
    "from sklearn.model_selection import cross_val_score\n",
    "# отбор признаков:\n",
    "from sklearn.feature_selection import SelectKBest\n",
    "from sklearn.feature_selection import f_classif\n",
    "# ансамблевые функции:\n",
    "from sklearn.ensemble import BaggingClassifier\n",
    "from sklearn.tree import DecisionTreeClassifier\n",
    "from sklearn.ensemble import RandomForestClassifier\n",
    "from sklearn.ensemble import ExtraTreesClassifier\n",
    "from sklearn.ensemble import AdaBoostClassifier\n",
    "from sklearn.ensemble import GradientBoostingClassifier\n",
    "from xgboost import XGBClassifier\n",
    "from sklearn.linear_model import LogisticRegression\n",
    "from sklearn.svm import SVC\n",
    "from sklearn.ensemble import VotingClassifier\n",
    "import numpy as np\n",
    "from sklearn.linear_model import RidgeClassifier\n",
    "from sklearn.model_selection import GridSearchCV\n",
    "from scipy.stats import uniform\n",
    "from sklearn.model_selection import RandomizedSearchCV\n",
    "from sklearn.model_selection import train_test_split\n",
    "# сохраняет параметры после перезагрузки:\n",
    "import pickle\n",
    "import joblib"
   ]
  },
  {
   "cell_type": "code",
   "execution_count": 18,
   "id": "566d4ce7",
   "metadata": {
    "collapsed": true
   },
   "outputs": [
    {
     "ename": "SyntaxError",
     "evalue": "invalid syntax (Temp/ipykernel_17880/441078461.py, line 1)",
     "output_type": "error",
     "traceback": [
      "\u001b[1;36m  File \u001b[1;32m\"C:\\Users\\D9F8~1\\AppData\\Local\\Temp/ipykernel_17880/441078461.py\"\u001b[1;36m, line \u001b[1;32m1\u001b[0m\n\u001b[1;33m    +++++++++++++++++++++++++++++++++++++++++++++++++++++\u001b[0m\n\u001b[1;37m                                                         ^\u001b[0m\n\u001b[1;31mSyntaxError\u001b[0m\u001b[1;31m:\u001b[0m invalid syntax\n"
     ]
    }
   ],
   "source": [
    "+++++++++++++++++++++++++++++++++++++++++++++++++++++"
   ]
  },
  {
   "cell_type": "code",
   "execution_count": 11,
   "id": "df20eafd",
   "metadata": {},
   "outputs": [],
   "source": [
    "kfold = KFold(n_splits= 10, random_state = 7, shuffle=True)"
   ]
  },
  {
   "cell_type": "code",
   "execution_count": 12,
   "id": "474d136e",
   "metadata": {},
   "outputs": [],
   "source": [
    "cart = DecisionTreeClassifier() # модель решающего дерева"
   ]
  },
  {
   "cell_type": "markdown",
   "id": "0400e516",
   "metadata": {},
   "source": [
    "**случайный_лес (Random Forest)**"
   ]
  },
  {
   "cell_type": "code",
   "execution_count": 16,
   "id": "50f3bbfe",
   "metadata": {},
   "outputs": [],
   "source": [
    "model = RandomForestClassifier(n_estimators = 100, max_features = 3)"
   ]
  },
  {
   "cell_type": "code",
   "execution_count": 17,
   "id": "e249aa3e",
   "metadata": {},
   "outputs": [],
   "source": [
    "results = cross_val_score(model, X, Y, cv=kfold)"
   ]
  },
  {
   "cell_type": "code",
   "execution_count": 18,
   "id": "ed3cba04",
   "metadata": {},
   "outputs": [
    {
     "data": {
      "text/plain": [
       "(0.49392083237660456, 0.01948562805393034)"
      ]
     },
     "execution_count": 18,
     "metadata": {},
     "output_type": "execute_result"
    }
   ],
   "source": [
    "results.mean(), results.std()"
   ]
  },
  {
   "cell_type": "markdown",
   "id": "bc52c12f",
   "metadata": {},
   "source": [
    "================================================="
   ]
  },
  {
   "cell_type": "markdown",
   "id": "73dbfa7a",
   "metadata": {},
   "source": [
    "# **GridSearchCV**"
   ]
  },
  {
   "cell_type": "markdown",
   "id": "fabf782b",
   "metadata": {},
   "source": [
    "**Поиск_лучших_параметров**"
   ]
  },
  {
   "cell_type": "code",
   "execution_count": 13,
   "id": "30df4dc7",
   "metadata": {
    "collapsed": true
   },
   "outputs": [
    {
     "data": {
      "text/plain": [
       "Index(['Пол', 'Семейное_положение', 'Возраст', 'Высшее_образование',\n",
       "       'Профессия', 'Опыт_работы', 'Уровень_расходов', 'Размер_семьи',\n",
       "       'Анонимная_категория', 'Целевая_категория'],\n",
       "      dtype='object')"
      ]
     },
     "execution_count": 13,
     "metadata": {},
     "output_type": "execute_result"
    }
   ],
   "source": [
    "df.columns"
   ]
  },
  {
   "cell_type": "code",
   "execution_count": 14,
   "id": "efeec0ab",
   "metadata": {},
   "outputs": [],
   "source": [
    "from sklearn.model_selection import GridSearchCV"
   ]
  },
  {
   "cell_type": "code",
   "execution_count": 18,
   "id": "32c33eae",
   "metadata": {},
   "outputs": [],
   "source": [
    "clf = RandomForestClassifier()"
   ]
  },
  {
   "cell_type": "code",
   "execution_count": 19,
   "id": "d7081694",
   "metadata": {},
   "outputs": [],
   "source": [
    "X_train = df.drop('Целевая_категория', axis=1)\n",
    "y_train = df['Целевая_категория']"
   ]
  },
  {
   "cell_type": "code",
   "execution_count": 20,
   "id": "545c8f0a",
   "metadata": {},
   "outputs": [],
   "source": [
    "parametrs = { 'n_estimators': range (10, 250, 10),\n",
    "              'max_depth': range (1,13, 2),\n",
    "              'min_samples_leaf': range (1,8),\n",
    "              'min_samples_split': range (2,10,2) }"
   ]
  },
  {
   "cell_type": "code",
   "execution_count": 21,
   "id": "605ac3ca",
   "metadata": {},
   "outputs": [
    {
     "data": {
      "text/plain": [
       "GridSearchCV(cv=5, estimator=RandomForestClassifier(),\n",
       "             param_grid={'max_depth': range(1, 13, 2),\n",
       "                         'min_samples_leaf': range(1, 8),\n",
       "                         'min_samples_split': range(2, 10, 2),\n",
       "                         'n_estimators': range(10, 51, 10)})"
      ]
     },
     "execution_count": 21,
     "metadata": {},
     "output_type": "execute_result"
    }
   ],
   "source": [
    "grid = GridSearchCV(clf, parametrs, cv=5)\n",
    "grid.fit(X_train, y_train)"
   ]
  },
  {
   "cell_type": "markdown",
   "id": "bc1aa479",
   "metadata": {},
   "source": [
    "**Лучшие_параметры:**"
   ]
  },
  {
   "cell_type": "code",
   "execution_count": 32,
   "id": "15dd50d3",
   "metadata": {},
   "outputs": [
    {
     "data": {
      "text/plain": [
       "{'max_depth': 9,\n",
       " 'min_samples_leaf': 2,\n",
       " 'min_samples_split': 2,\n",
       " 'n_estimators': 90}"
      ]
     },
     "execution_count": 32,
     "metadata": {},
     "output_type": "execute_result"
    }
   ],
   "source": [
    "grid.best_params_"
   ]
  },
  {
   "cell_type": "markdown",
   "id": "0316d8bd",
   "metadata": {},
   "source": [
    "================================================="
   ]
  },
  {
   "cell_type": "code",
   "execution_count": 33,
   "id": "54d46135",
   "metadata": {},
   "outputs": [],
   "source": [
    "lst_1 = list(range(6,10))\n",
    "lst_2 = list(range(3,4))\n",
    "lst_3 = list(range(100,200))\n",
    "k = []"
   ]
  },
  {
   "cell_type": "code",
   "execution_count": 34,
   "id": "af270af5",
   "metadata": {},
   "outputs": [
    {
     "name": "stdout",
     "output_type": "stream",
     "text": [
      "n_splits: 3 KBest: 6 0.5203278770020181\n",
      "n_splits: 3 KBest: 7 0.5260301356565192\n",
      "n_splits: 3 KBest: 8 0.5345825442517237\n",
      "n_splits: 3 KBest: 9 0.5333824242397225\n",
      "n_splits = 3 max = 0.5345825442517237\n"
     ]
    }
   ],
   "source": [
    "model = RandomForestClassifier(max_depth = 9, min_samples_leaf = 2, min_samples_split = 2, n_estimators= 90)\n",
    "for i in lst_2:\n",
    "   kfold=KFold(n_splits=i,random_state=7,shuffle=True)\n",
    "   for j in lst_1:\n",
    "      test=SelectKBest(score_func=f_classif, k=j)\n",
    "      fit=test.fit(X,Y)\n",
    "      features=fit.transform(X)\n",
    "      results=cross_val_score(model, features, Y, cv=kfold)\n",
    "      res = results.mean()\n",
    "      k.append(res)\n",
    "      print(f'n_splits: {i} KBest: {j} {res}')\n",
    "   print(f'n_splits = {i} max = {max(k)}')"
   ]
  },
  {
   "cell_type": "code",
   "execution_count": null,
   "id": "57d6f733",
   "metadata": {},
   "outputs": [],
   "source": []
  },
  {
   "cell_type": "code",
   "execution_count": null,
   "id": "858b4756",
   "metadata": {},
   "outputs": [],
   "source": []
  },
  {
   "cell_type": "code",
   "execution_count": null,
   "id": "ae0adb2b",
   "metadata": {},
   "outputs": [],
   "source": []
  },
  {
   "cell_type": "code",
   "execution_count": null,
   "id": "b95b241a",
   "metadata": {},
   "outputs": [],
   "source": []
  },
  {
   "cell_type": "code",
   "execution_count": null,
   "id": "35c7f0a8",
   "metadata": {},
   "outputs": [],
   "source": []
  },
  {
   "cell_type": "code",
   "execution_count": null,
   "id": "6319daf2",
   "metadata": {},
   "outputs": [],
   "source": []
  },
  {
   "cell_type": "code",
   "execution_count": null,
   "id": "416df0f3",
   "metadata": {},
   "outputs": [],
   "source": []
  },
  {
   "cell_type": "code",
   "execution_count": 24,
   "id": "81646b72",
   "metadata": {
    "collapsed": true
   },
   "outputs": [
    {
     "name": "stderr",
     "output_type": "stream",
     "text": [
      "D:\\Programs\\lib\\site-packages\\xgboost\\sklearn.py:1224: UserWarning: The use of label encoder in XGBClassifier is deprecated and will be removed in a future release. To remove this warning, do the following: 1) Pass option use_label_encoder=False when constructing XGBClassifier object; and 2) Encode your labels (y) as integers starting with 0, i.e. 0, 1, 2, ..., [num_class - 1].\n",
      "  warnings.warn(label_encoder_deprecation_msg, UserWarning)\n"
     ]
    },
    {
     "name": "stdout",
     "output_type": "stream",
     "text": [
      "n_estimators = 50 max_depth = [ 0.  1. 38.  0.  3.  4.  3.  1.  6.]\n",
      "[[ 777  241  337  261]\n",
      " [ 397  410  601  164]\n",
      " [ 178  207 1133  202]\n",
      " [ 355   97   74 1231]]\n",
      "n_estimators = 50 max_depth = [ 1.  1. 48.  1.  1.  0.  2.  2.  6.]\n",
      "[[ 777  241  337  261]\n",
      " [ 397  410  601  164]\n",
      " [ 178  207 1133  202]\n",
      " [ 355   97   74 1231]]\n",
      "n_estimators = 50 max_depth = [ 0.  1. 51.  1.  1.  3.  3.  4.  6.]\n",
      "[[ 777  241  337  261]\n",
      " [ 397  410  601  164]\n",
      " [ 178  207 1133  202]\n",
      " [ 355   97   74 1231]]\n",
      "n_estimators = 50 max_depth = [ 1.  1. 73.  1.  1.  1.  1.  2.  2.]\n",
      "[[ 777  241  337  261]\n",
      " [ 397  410  601  164]\n",
      " [ 178  207 1133  202]\n",
      " [ 355   97   74 1231]]\n",
      "n_estimators = 50 max_depth = [ 1.  0. 30.  1.  2.  1.  3.  4.  6.]\n",
      "[[ 777  241  337  261]\n",
      " [ 397  410  601  164]\n",
      " [ 178  207 1133  202]\n",
      " [ 355   97   74 1231]]\n",
      "n_estimators = 50 max_depth = [ 0.  1. 65.  1.  6.  1.  2.  2.  6.]\n",
      "[[ 777  241  337  261]\n",
      " [ 397  410  601  164]\n",
      " [ 178  207 1133  202]\n",
      " [ 355   97   74 1231]]\n",
      "n_estimators = 50 max_depth = [ 0.  0. 36.  0.  1.  0.  3.  1.  5.]\n",
      "[[ 777  241  337  261]\n",
      " [ 397  410  601  164]\n",
      " [ 178  207 1133  202]\n",
      " [ 355   97   74 1231]]\n",
      "n_estimators = 50 max_depth = [ 0.  0. 25.  1.  2.  0.  3.  3.  5.]\n",
      "[[ 777  241  337  261]\n",
      " [ 397  410  601  164]\n",
      " [ 178  207 1133  202]\n",
      " [ 355   97   74 1231]]\n",
      "n_estimators = 50 max_depth = [ 1.  1. 43.  1.  7.  0.  1.  4.  6.]\n",
      "[[ 777  241  337  261]\n",
      " [ 397  410  601  164]\n",
      " [ 178  207 1133  202]\n",
      " [ 355   97   74 1231]]\n",
      "n_estimators = 50 max_depth = [ 0.  1. 33.  1.  9.  0.  1.  2.  3.]\n",
      "[[ 777  241  337  261]\n",
      " [ 397  410  601  164]\n",
      " [ 178  207 1133  202]\n",
      " [ 355   97   74 1231]]\n",
      "n_estimators = 50 max_depth = [ 1.  0. 30.  1.  3. 14.  3.  1.  6.]\n",
      "[[ 777  241  337  261]\n",
      " [ 397  410  601  164]\n",
      " [ 178  207 1133  202]\n",
      " [ 355   97   74 1231]]\n",
      "n_estimators = 50 max_depth = [ 0.  0. 25.  1.  4.  8.  3.  2.  6.]\n",
      "[[ 777  241  337  261]\n",
      " [ 397  410  601  164]\n",
      " [ 178  207 1133  202]\n",
      " [ 355   97   74 1231]]\n",
      "n_estimators = 50 max_depth = [ 1.  1. 49.  1.  1.  4.  2.  4.  6.]\n",
      "[[ 777  241  337  261]\n",
      " [ 397  410  601  164]\n",
      " [ 178  207 1133  202]\n",
      " [ 355   97   74 1231]]\n",
      "n_estimators = 50 max_depth = [ 0.  0. 31.  1.  1.  9.  3.  1.  6.]\n",
      "[[ 777  241  337  261]\n",
      " [ 397  410  601  164]\n",
      " [ 178  207 1133  202]\n",
      " [ 355   97   74 1231]]\n",
      "n_estimators = 50 max_depth = [ 0.  0. 27.  1.  5. 14.  3.  8.  6.]\n",
      "[[ 777  241  337  261]\n",
      " [ 397  410  601  164]\n",
      " [ 178  207 1133  202]\n",
      " [ 355   97   74 1231]]\n",
      "n_estimators = 50 max_depth = [ 0.  0. 33.  1.  3. 11.  3.  3.  6.]\n",
      "[[ 777  241  337  261]\n",
      " [ 397  410  601  164]\n",
      " [ 178  207 1133  202]\n",
      " [ 355   97   74 1231]]\n",
      "n_estimators = 50 max_depth = [ 1.  1. 35.  1.  1.  1.  2.  2.  6.]\n",
      "[[ 777  241  337  261]\n",
      " [ 397  410  601  164]\n",
      " [ 178  207 1133  202]\n",
      " [ 355   97   74 1231]]\n",
      "n_estimators = 50 max_depth = [ 1.  0. 19.  0.  2.  1.  3.  5.  3.]\n",
      "[[ 777  241  337  261]\n",
      " [ 397  410  601  164]\n",
      " [ 178  207 1133  202]\n",
      " [ 355   97   74 1231]]\n",
      "n_estimators = 50 max_depth = [ 0.  1. 25.  0.  8.  0.  1.  5.  4.]\n",
      "[[ 777  241  337  261]\n",
      " [ 397  410  601  164]\n",
      " [ 178  207 1133  202]\n",
      " [ 355   97   74 1231]]\n",
      "n_estimators = 50 max_depth = [ 1.  1. 57.  0.  7.  4.  1.  4.  6.]\n",
      "[[ 777  241  337  261]\n",
      " [ 397  410  601  164]\n",
      " [ 178  207 1133  202]\n",
      " [ 355   97   74 1231]]\n"
     ]
    },
    {
     "name": "stderr",
     "output_type": "stream",
     "text": [
      "D:\\Programs\\lib\\site-packages\\xgboost\\sklearn.py:1224: UserWarning: The use of label encoder in XGBClassifier is deprecated and will be removed in a future release. To remove this warning, do the following: 1) Pass option use_label_encoder=False when constructing XGBClassifier object; and 2) Encode your labels (y) as integers starting with 0, i.e. 0, 1, 2, ..., [num_class - 1].\n",
      "  warnings.warn(label_encoder_deprecation_msg, UserWarning)\n"
     ]
    },
    {
     "name": "stdout",
     "output_type": "stream",
     "text": [
      "n_estimators = 50 max_depth = [ 0.  1. 38.  0.  3.  4.  3.  1.  6.]\n",
      "[[ 877  267  203  269]\n",
      " [ 368  586  446  172]\n",
      " [ 153  273 1088  206]\n",
      " [ 310   95   49 1303]]\n",
      "n_estimators = 50 max_depth = [ 1.  1. 48.  1.  1.  0.  2.  2.  6.]\n",
      "[[ 877  267  203  269]\n",
      " [ 368  586  446  172]\n",
      " [ 153  273 1088  206]\n",
      " [ 310   95   49 1303]]\n",
      "n_estimators = 50 max_depth = [ 0.  1. 51.  1.  1.  3.  3.  4.  6.]\n",
      "[[ 877  267  203  269]\n",
      " [ 368  586  446  172]\n",
      " [ 153  273 1088  206]\n",
      " [ 310   95   49 1303]]\n",
      "n_estimators = 50 max_depth = [ 1.  1. 73.  1.  1.  1.  1.  2.  2.]\n",
      "[[ 877  267  203  269]\n",
      " [ 368  586  446  172]\n",
      " [ 153  273 1088  206]\n",
      " [ 310   95   49 1303]]\n",
      "n_estimators = 50 max_depth = [ 1.  0. 30.  1.  2.  1.  3.  4.  6.]\n",
      "[[ 877  267  203  269]\n",
      " [ 368  586  446  172]\n",
      " [ 153  273 1088  206]\n",
      " [ 310   95   49 1303]]\n",
      "n_estimators = 50 max_depth = [ 0.  1. 65.  1.  6.  1.  2.  2.  6.]\n",
      "[[ 877  267  203  269]\n",
      " [ 368  586  446  172]\n",
      " [ 153  273 1088  206]\n",
      " [ 310   95   49 1303]]\n",
      "n_estimators = 50 max_depth = [ 0.  0. 36.  0.  1.  0.  3.  1.  5.]\n",
      "[[ 877  267  203  269]\n",
      " [ 368  586  446  172]\n",
      " [ 153  273 1088  206]\n",
      " [ 310   95   49 1303]]\n",
      "n_estimators = 50 max_depth = [ 0.  0. 25.  1.  2.  0.  3.  3.  5.]\n",
      "[[ 877  267  203  269]\n",
      " [ 368  586  446  172]\n",
      " [ 153  273 1088  206]\n",
      " [ 310   95   49 1303]]\n",
      "n_estimators = 50 max_depth = [ 1.  1. 43.  1.  7.  0.  1.  4.  6.]\n",
      "[[ 877  267  203  269]\n",
      " [ 368  586  446  172]\n",
      " [ 153  273 1088  206]\n",
      " [ 310   95   49 1303]]\n",
      "n_estimators = 50 max_depth = [ 0.  1. 33.  1.  9.  0.  1.  2.  3.]\n",
      "[[ 877  267  203  269]\n",
      " [ 368  586  446  172]\n",
      " [ 153  273 1088  206]\n",
      " [ 310   95   49 1303]]\n",
      "n_estimators = 50 max_depth = [ 1.  0. 30.  1.  3. 14.  3.  1.  6.]\n",
      "[[ 877  267  203  269]\n",
      " [ 368  586  446  172]\n",
      " [ 153  273 1088  206]\n",
      " [ 310   95   49 1303]]\n",
      "n_estimators = 50 max_depth = [ 0.  0. 25.  1.  4.  8.  3.  2.  6.]\n",
      "[[ 877  267  203  269]\n",
      " [ 368  586  446  172]\n",
      " [ 153  273 1088  206]\n",
      " [ 310   95   49 1303]]\n",
      "n_estimators = 50 max_depth = [ 1.  1. 49.  1.  1.  4.  2.  4.  6.]\n",
      "[[ 877  267  203  269]\n",
      " [ 368  586  446  172]\n",
      " [ 153  273 1088  206]\n",
      " [ 310   95   49 1303]]\n",
      "n_estimators = 50 max_depth = [ 0.  0. 31.  1.  1.  9.  3.  1.  6.]\n",
      "[[ 877  267  203  269]\n",
      " [ 368  586  446  172]\n",
      " [ 153  273 1088  206]\n",
      " [ 310   95   49 1303]]\n",
      "n_estimators = 50 max_depth = [ 0.  0. 27.  1.  5. 14.  3.  8.  6.]\n",
      "[[ 877  267  203  269]\n",
      " [ 368  586  446  172]\n",
      " [ 153  273 1088  206]\n",
      " [ 310   95   49 1303]]\n",
      "n_estimators = 50 max_depth = [ 0.  0. 33.  1.  3. 11.  3.  3.  6.]\n",
      "[[ 877  267  203  269]\n",
      " [ 368  586  446  172]\n",
      " [ 153  273 1088  206]\n",
      " [ 310   95   49 1303]]\n",
      "n_estimators = 50 max_depth = [ 1.  1. 35.  1.  1.  1.  2.  2.  6.]\n",
      "[[ 877  267  203  269]\n",
      " [ 368  586  446  172]\n",
      " [ 153  273 1088  206]\n",
      " [ 310   95   49 1303]]\n",
      "n_estimators = 50 max_depth = [ 1.  0. 19.  0.  2.  1.  3.  5.  3.]\n",
      "[[ 877  267  203  269]\n",
      " [ 368  586  446  172]\n",
      " [ 153  273 1088  206]\n",
      " [ 310   95   49 1303]]\n",
      "n_estimators = 50 max_depth = [ 0.  1. 25.  0.  8.  0.  1.  5.  4.]\n",
      "[[ 877  267  203  269]\n",
      " [ 368  586  446  172]\n",
      " [ 153  273 1088  206]\n",
      " [ 310   95   49 1303]]\n",
      "n_estimators = 50 max_depth = [ 1.  1. 57.  0.  7.  4.  1.  4.  6.]\n",
      "[[ 877  267  203  269]\n",
      " [ 368  586  446  172]\n",
      " [ 153  273 1088  206]\n",
      " [ 310   95   49 1303]]\n"
     ]
    },
    {
     "name": "stderr",
     "output_type": "stream",
     "text": [
      "D:\\Programs\\lib\\site-packages\\xgboost\\sklearn.py:1224: UserWarning: The use of label encoder in XGBClassifier is deprecated and will be removed in a future release. To remove this warning, do the following: 1) Pass option use_label_encoder=False when constructing XGBClassifier object; and 2) Encode your labels (y) as integers starting with 0, i.e. 0, 1, 2, ..., [num_class - 1].\n",
      "  warnings.warn(label_encoder_deprecation_msg, UserWarning)\n"
     ]
    },
    {
     "name": "stdout",
     "output_type": "stream",
     "text": [
      "n_estimators = 50 max_depth = [ 0.  1. 38.  0.  3.  4.  3.  1.  6.]\n",
      "[[ 932  268  170  246]\n",
      " [ 300  721  377  174]\n",
      " [ 145  257 1130  188]\n",
      " [ 268   83   44 1362]]\n",
      "n_estimators = 50 max_depth = [ 1.  1. 48.  1.  1.  0.  2.  2.  6.]\n",
      "[[ 932  268  170  246]\n",
      " [ 300  721  377  174]\n",
      " [ 145  257 1130  188]\n",
      " [ 268   83   44 1362]]\n",
      "n_estimators = 50 max_depth = [ 0.  1. 51.  1.  1.  3.  3.  4.  6.]\n",
      "[[ 932  268  170  246]\n",
      " [ 300  721  377  174]\n",
      " [ 145  257 1130  188]\n",
      " [ 268   83   44 1362]]\n",
      "n_estimators = 50 max_depth = [ 1.  1. 73.  1.  1.  1.  1.  2.  2.]\n",
      "[[ 932  268  170  246]\n",
      " [ 300  721  377  174]\n",
      " [ 145  257 1130  188]\n",
      " [ 268   83   44 1362]]\n",
      "n_estimators = 50 max_depth = [ 1.  0. 30.  1.  2.  1.  3.  4.  6.]\n",
      "[[ 932  268  170  246]\n",
      " [ 300  721  377  174]\n",
      " [ 145  257 1130  188]\n",
      " [ 268   83   44 1362]]\n",
      "n_estimators = 50 max_depth = [ 0.  1. 65.  1.  6.  1.  2.  2.  6.]\n",
      "[[ 932  268  170  246]\n",
      " [ 300  721  377  174]\n",
      " [ 145  257 1130  188]\n",
      " [ 268   83   44 1362]]\n",
      "n_estimators = 50 max_depth = [ 0.  0. 36.  0.  1.  0.  3.  1.  5.]\n",
      "[[ 932  268  170  246]\n",
      " [ 300  721  377  174]\n",
      " [ 145  257 1130  188]\n",
      " [ 268   83   44 1362]]\n",
      "n_estimators = 50 max_depth = [ 0.  0. 25.  1.  2.  0.  3.  3.  5.]\n",
      "[[ 932  268  170  246]\n",
      " [ 300  721  377  174]\n",
      " [ 145  257 1130  188]\n",
      " [ 268   83   44 1362]]\n",
      "n_estimators = 50 max_depth = [ 1.  1. 43.  1.  7.  0.  1.  4.  6.]\n",
      "[[ 932  268  170  246]\n",
      " [ 300  721  377  174]\n",
      " [ 145  257 1130  188]\n",
      " [ 268   83   44 1362]]\n",
      "n_estimators = 50 max_depth = [ 0.  1. 33.  1.  9.  0.  1.  2.  3.]\n",
      "[[ 932  268  170  246]\n",
      " [ 300  721  377  174]\n",
      " [ 145  257 1130  188]\n",
      " [ 268   83   44 1362]]\n",
      "n_estimators = 50 max_depth = [ 1.  0. 30.  1.  3. 14.  3.  1.  6.]\n",
      "[[ 932  268  170  246]\n",
      " [ 300  721  377  174]\n",
      " [ 145  257 1130  188]\n",
      " [ 268   83   44 1362]]\n",
      "n_estimators = 50 max_depth = [ 0.  0. 25.  1.  4.  8.  3.  2.  6.]\n",
      "[[ 932  268  170  246]\n",
      " [ 300  721  377  174]\n",
      " [ 145  257 1130  188]\n",
      " [ 268   83   44 1362]]\n",
      "n_estimators = 50 max_depth = [ 1.  1. 49.  1.  1.  4.  2.  4.  6.]\n",
      "[[ 932  268  170  246]\n",
      " [ 300  721  377  174]\n",
      " [ 145  257 1130  188]\n",
      " [ 268   83   44 1362]]\n",
      "n_estimators = 50 max_depth = [ 0.  0. 31.  1.  1.  9.  3.  1.  6.]\n",
      "[[ 932  268  170  246]\n",
      " [ 300  721  377  174]\n",
      " [ 145  257 1130  188]\n",
      " [ 268   83   44 1362]]\n",
      "n_estimators = 50 max_depth = [ 0.  0. 27.  1.  5. 14.  3.  8.  6.]\n",
      "[[ 932  268  170  246]\n",
      " [ 300  721  377  174]\n",
      " [ 145  257 1130  188]\n",
      " [ 268   83   44 1362]]\n",
      "n_estimators = 50 max_depth = [ 0.  0. 33.  1.  3. 11.  3.  3.  6.]\n",
      "[[ 932  268  170  246]\n",
      " [ 300  721  377  174]\n",
      " [ 145  257 1130  188]\n",
      " [ 268   83   44 1362]]\n",
      "n_estimators = 50 max_depth = [ 1.  1. 35.  1.  1.  1.  2.  2.  6.]\n",
      "[[ 932  268  170  246]\n",
      " [ 300  721  377  174]\n",
      " [ 145  257 1130  188]\n",
      " [ 268   83   44 1362]]\n",
      "n_estimators = 50 max_depth = [ 1.  0. 19.  0.  2.  1.  3.  5.  3.]\n",
      "[[ 932  268  170  246]\n",
      " [ 300  721  377  174]\n",
      " [ 145  257 1130  188]\n",
      " [ 268   83   44 1362]]\n",
      "n_estimators = 50 max_depth = [ 0.  1. 25.  0.  8.  0.  1.  5.  4.]\n",
      "[[ 932  268  170  246]\n",
      " [ 300  721  377  174]\n",
      " [ 145  257 1130  188]\n",
      " [ 268   83   44 1362]]\n",
      "n_estimators = 50 max_depth = [ 1.  1. 57.  0.  7.  4.  1.  4.  6.]\n",
      "[[ 932  268  170  246]\n",
      " [ 300  721  377  174]\n",
      " [ 145  257 1130  188]\n",
      " [ 268   83   44 1362]]\n"
     ]
    },
    {
     "name": "stderr",
     "output_type": "stream",
     "text": [
      "D:\\Programs\\lib\\site-packages\\xgboost\\sklearn.py:1224: UserWarning: The use of label encoder in XGBClassifier is deprecated and will be removed in a future release. To remove this warning, do the following: 1) Pass option use_label_encoder=False when constructing XGBClassifier object; and 2) Encode your labels (y) as integers starting with 0, i.e. 0, 1, 2, ..., [num_class - 1].\n",
      "  warnings.warn(label_encoder_deprecation_msg, UserWarning)\n"
     ]
    },
    {
     "name": "stdout",
     "output_type": "stream",
     "text": [
      "n_estimators = 50 max_depth = [ 0.  1. 38.  0.  3.  4.  3.  1.  6.]\n",
      "[[1067  209  154  186]\n",
      " [ 242  855  332  143]\n",
      " [ 125  218 1231  146]\n",
      " [ 203   56   41 1457]]\n",
      "n_estimators = 50 max_depth = [ 1.  1. 48.  1.  1.  0.  2.  2.  6.]\n",
      "[[1067  209  154  186]\n",
      " [ 242  855  332  143]\n",
      " [ 125  218 1231  146]\n",
      " [ 203   56   41 1457]]\n",
      "n_estimators = 50 max_depth = [ 0.  1. 51.  1.  1.  3.  3.  4.  6.]\n",
      "[[1067  209  154  186]\n",
      " [ 242  855  332  143]\n",
      " [ 125  218 1231  146]\n",
      " [ 203   56   41 1457]]\n",
      "n_estimators = 50 max_depth = [ 1.  1. 73.  1.  1.  1.  1.  2.  2.]\n",
      "[[1067  209  154  186]\n",
      " [ 242  855  332  143]\n",
      " [ 125  218 1231  146]\n",
      " [ 203   56   41 1457]]\n",
      "n_estimators = 50 max_depth = [ 1.  0. 30.  1.  2.  1.  3.  4.  6.]\n",
      "[[1067  209  154  186]\n",
      " [ 242  855  332  143]\n",
      " [ 125  218 1231  146]\n",
      " [ 203   56   41 1457]]\n",
      "n_estimators = 50 max_depth = [ 0.  1. 65.  1.  6.  1.  2.  2.  6.]\n",
      "[[1067  209  154  186]\n",
      " [ 242  855  332  143]\n",
      " [ 125  218 1231  146]\n",
      " [ 203   56   41 1457]]\n",
      "n_estimators = 50 max_depth = [ 0.  0. 36.  0.  1.  0.  3.  1.  5.]\n",
      "[[1067  209  154  186]\n",
      " [ 242  855  332  143]\n",
      " [ 125  218 1231  146]\n",
      " [ 203   56   41 1457]]\n",
      "n_estimators = 50 max_depth = [ 0.  0. 25.  1.  2.  0.  3.  3.  5.]\n",
      "[[1067  209  154  186]\n",
      " [ 242  855  332  143]\n",
      " [ 125  218 1231  146]\n",
      " [ 203   56   41 1457]]\n",
      "n_estimators = 50 max_depth = [ 1.  1. 43.  1.  7.  0.  1.  4.  6.]\n",
      "[[1067  209  154  186]\n",
      " [ 242  855  332  143]\n",
      " [ 125  218 1231  146]\n",
      " [ 203   56   41 1457]]\n",
      "n_estimators = 50 max_depth = [ 0.  1. 33.  1.  9.  0.  1.  2.  3.]\n",
      "[[1067  209  154  186]\n",
      " [ 242  855  332  143]\n",
      " [ 125  218 1231  146]\n",
      " [ 203   56   41 1457]]\n",
      "n_estimators = 50 max_depth = [ 1.  0. 30.  1.  3. 14.  3.  1.  6.]\n",
      "[[1067  209  154  186]\n",
      " [ 242  855  332  143]\n",
      " [ 125  218 1231  146]\n",
      " [ 203   56   41 1457]]\n",
      "n_estimators = 50 max_depth = [ 0.  0. 25.  1.  4.  8.  3.  2.  6.]\n",
      "[[1067  209  154  186]\n",
      " [ 242  855  332  143]\n",
      " [ 125  218 1231  146]\n",
      " [ 203   56   41 1457]]\n",
      "n_estimators = 50 max_depth = [ 1.  1. 49.  1.  1.  4.  2.  4.  6.]\n",
      "[[1067  209  154  186]\n",
      " [ 242  855  332  143]\n",
      " [ 125  218 1231  146]\n",
      " [ 203   56   41 1457]]\n",
      "n_estimators = 50 max_depth = [ 0.  0. 31.  1.  1.  9.  3.  1.  6.]\n",
      "[[1067  209  154  186]\n",
      " [ 242  855  332  143]\n",
      " [ 125  218 1231  146]\n",
      " [ 203   56   41 1457]]\n",
      "n_estimators = 50 max_depth = [ 0.  0. 27.  1.  5. 14.  3.  8.  6.]\n",
      "[[1067  209  154  186]\n",
      " [ 242  855  332  143]\n",
      " [ 125  218 1231  146]\n",
      " [ 203   56   41 1457]]\n",
      "n_estimators = 50 max_depth = [ 0.  0. 33.  1.  3. 11.  3.  3.  6.]\n",
      "[[1067  209  154  186]\n",
      " [ 242  855  332  143]\n",
      " [ 125  218 1231  146]\n",
      " [ 203   56   41 1457]]\n",
      "n_estimators = 50 max_depth = [ 1.  1. 35.  1.  1.  1.  2.  2.  6.]\n",
      "[[1067  209  154  186]\n",
      " [ 242  855  332  143]\n",
      " [ 125  218 1231  146]\n",
      " [ 203   56   41 1457]]\n",
      "n_estimators = 50 max_depth = [ 1.  0. 19.  0.  2.  1.  3.  5.  3.]\n",
      "[[1067  209  154  186]\n",
      " [ 242  855  332  143]\n",
      " [ 125  218 1231  146]\n",
      " [ 203   56   41 1457]]\n",
      "n_estimators = 50 max_depth = [ 0.  1. 25.  0.  8.  0.  1.  5.  4.]\n",
      "[[1067  209  154  186]\n",
      " [ 242  855  332  143]\n",
      " [ 125  218 1231  146]\n",
      " [ 203   56   41 1457]]\n",
      "n_estimators = 50 max_depth = [ 1.  1. 57.  0.  7.  4.  1.  4.  6.]\n",
      "[[1067  209  154  186]\n",
      " [ 242  855  332  143]\n",
      " [ 125  218 1231  146]\n",
      " [ 203   56   41 1457]]\n"
     ]
    },
    {
     "name": "stderr",
     "output_type": "stream",
     "text": [
      "D:\\Programs\\lib\\site-packages\\xgboost\\sklearn.py:1224: UserWarning: The use of label encoder in XGBClassifier is deprecated and will be removed in a future release. To remove this warning, do the following: 1) Pass option use_label_encoder=False when constructing XGBClassifier object; and 2) Encode your labels (y) as integers starting with 0, i.e. 0, 1, 2, ..., [num_class - 1].\n",
      "  warnings.warn(label_encoder_deprecation_msg, UserWarning)\n"
     ]
    },
    {
     "name": "stdout",
     "output_type": "stream",
     "text": [
      "n_estimators = 50 max_depth = [ 0.  1. 38.  0.  3.  4.  3.  1.  6.]\n",
      "[[1174  171  141  130]\n",
      " [ 166 1034  279   93]\n",
      " [  93  168 1344  115]\n",
      " [ 145   50   36 1526]]\n",
      "n_estimators = 50 max_depth = [ 1.  1. 48.  1.  1.  0.  2.  2.  6.]\n",
      "[[1174  171  141  130]\n",
      " [ 166 1034  279   93]\n",
      " [  93  168 1344  115]\n",
      " [ 145   50   36 1526]]\n",
      "n_estimators = 50 max_depth = [ 0.  1. 51.  1.  1.  3.  3.  4.  6.]\n",
      "[[1174  171  141  130]\n",
      " [ 166 1034  279   93]\n",
      " [  93  168 1344  115]\n",
      " [ 145   50   36 1526]]\n",
      "n_estimators = 50 max_depth = [ 1.  1. 73.  1.  1.  1.  1.  2.  2.]\n",
      "[[1174  171  141  130]\n",
      " [ 166 1034  279   93]\n",
      " [  93  168 1344  115]\n",
      " [ 145   50   36 1526]]\n",
      "n_estimators = 50 max_depth = [ 1.  0. 30.  1.  2.  1.  3.  4.  6.]\n",
      "[[1174  171  141  130]\n",
      " [ 166 1034  279   93]\n",
      " [  93  168 1344  115]\n",
      " [ 145   50   36 1526]]\n",
      "n_estimators = 50 max_depth = [ 0.  1. 65.  1.  6.  1.  2.  2.  6.]\n",
      "[[1174  171  141  130]\n",
      " [ 166 1034  279   93]\n",
      " [  93  168 1344  115]\n",
      " [ 145   50   36 1526]]\n",
      "n_estimators = 50 max_depth = [ 0.  0. 36.  0.  1.  0.  3.  1.  5.]\n",
      "[[1174  171  141  130]\n",
      " [ 166 1034  279   93]\n",
      " [  93  168 1344  115]\n",
      " [ 145   50   36 1526]]\n",
      "n_estimators = 50 max_depth = [ 0.  0. 25.  1.  2.  0.  3.  3.  5.]\n",
      "[[1174  171  141  130]\n",
      " [ 166 1034  279   93]\n",
      " [  93  168 1344  115]\n",
      " [ 145   50   36 1526]]\n",
      "n_estimators = 50 max_depth = [ 1.  1. 43.  1.  7.  0.  1.  4.  6.]\n",
      "[[1174  171  141  130]\n",
      " [ 166 1034  279   93]\n",
      " [  93  168 1344  115]\n",
      " [ 145   50   36 1526]]\n",
      "n_estimators = 50 max_depth = [ 0.  1. 33.  1.  9.  0.  1.  2.  3.]\n",
      "[[1174  171  141  130]\n",
      " [ 166 1034  279   93]\n",
      " [  93  168 1344  115]\n",
      " [ 145   50   36 1526]]\n",
      "n_estimators = 50 max_depth = [ 1.  0. 30.  1.  3. 14.  3.  1.  6.]\n",
      "[[1174  171  141  130]\n",
      " [ 166 1034  279   93]\n",
      " [  93  168 1344  115]\n",
      " [ 145   50   36 1526]]\n",
      "n_estimators = 50 max_depth = [ 0.  0. 25.  1.  4.  8.  3.  2.  6.]\n",
      "[[1174  171  141  130]\n",
      " [ 166 1034  279   93]\n",
      " [  93  168 1344  115]\n",
      " [ 145   50   36 1526]]\n",
      "n_estimators = 50 max_depth = [ 1.  1. 49.  1.  1.  4.  2.  4.  6.]\n",
      "[[1174  171  141  130]\n",
      " [ 166 1034  279   93]\n",
      " [  93  168 1344  115]\n",
      " [ 145   50   36 1526]]\n",
      "n_estimators = 50 max_depth = [ 0.  0. 31.  1.  1.  9.  3.  1.  6.]\n",
      "[[1174  171  141  130]\n",
      " [ 166 1034  279   93]\n",
      " [  93  168 1344  115]\n",
      " [ 145   50   36 1526]]\n",
      "n_estimators = 50 max_depth = [ 0.  0. 27.  1.  5. 14.  3.  8.  6.]\n",
      "[[1174  171  141  130]\n",
      " [ 166 1034  279   93]\n",
      " [  93  168 1344  115]\n",
      " [ 145   50   36 1526]]\n",
      "n_estimators = 50 max_depth = [ 0.  0. 33.  1.  3. 11.  3.  3.  6.]\n",
      "[[1174  171  141  130]\n",
      " [ 166 1034  279   93]\n",
      " [  93  168 1344  115]\n",
      " [ 145   50   36 1526]]\n",
      "n_estimators = 50 max_depth = [ 1.  1. 35.  1.  1.  1.  2.  2.  6.]\n",
      "[[1174  171  141  130]\n",
      " [ 166 1034  279   93]\n",
      " [  93  168 1344  115]\n",
      " [ 145   50   36 1526]]\n",
      "n_estimators = 50 max_depth = [ 1.  0. 19.  0.  2.  1.  3.  5.  3.]\n",
      "[[1174  171  141  130]\n",
      " [ 166 1034  279   93]\n",
      " [  93  168 1344  115]\n",
      " [ 145   50   36 1526]]\n",
      "n_estimators = 50 max_depth = [ 0.  1. 25.  0.  8.  0.  1.  5.  4.]\n",
      "[[1174  171  141  130]\n",
      " [ 166 1034  279   93]\n",
      " [  93  168 1344  115]\n",
      " [ 145   50   36 1526]]\n",
      "n_estimators = 50 max_depth = [ 1.  1. 57.  0.  7.  4.  1.  4.  6.]\n",
      "[[1174  171  141  130]\n",
      " [ 166 1034  279   93]\n",
      " [  93  168 1344  115]\n",
      " [ 145   50   36 1526]]\n"
     ]
    },
    {
     "name": "stderr",
     "output_type": "stream",
     "text": [
      "D:\\Programs\\lib\\site-packages\\xgboost\\sklearn.py:1224: UserWarning: The use of label encoder in XGBClassifier is deprecated and will be removed in a future release. To remove this warning, do the following: 1) Pass option use_label_encoder=False when constructing XGBClassifier object; and 2) Encode your labels (y) as integers starting with 0, i.e. 0, 1, 2, ..., [num_class - 1].\n",
      "  warnings.warn(label_encoder_deprecation_msg, UserWarning)\n"
     ]
    },
    {
     "name": "stdout",
     "output_type": "stream",
     "text": [
      "n_estimators = 50 max_depth = [ 0.  1. 38.  0.  3.  4.  3.  1.  6.]\n",
      "[[1334  124   99   59]\n",
      " [ 113 1171  226   62]\n",
      " [  64  119 1471   66]\n",
      " [  76   33   27 1621]]\n",
      "n_estimators = 50 max_depth = [ 1.  1. 48.  1.  1.  0.  2.  2.  6.]\n",
      "[[1334  124   99   59]\n",
      " [ 113 1171  226   62]\n",
      " [  64  119 1471   66]\n",
      " [  76   33   27 1621]]\n",
      "n_estimators = 50 max_depth = [ 0.  1. 51.  1.  1.  3.  3.  4.  6.]\n",
      "[[1334  124   99   59]\n",
      " [ 113 1171  226   62]\n",
      " [  64  119 1471   66]\n",
      " [  76   33   27 1621]]\n",
      "n_estimators = 50 max_depth = [ 1.  1. 73.  1.  1.  1.  1.  2.  2.]\n",
      "[[1334  124   99   59]\n",
      " [ 113 1171  226   62]\n",
      " [  64  119 1471   66]\n",
      " [  76   33   27 1621]]\n",
      "n_estimators = 50 max_depth = [ 1.  0. 30.  1.  2.  1.  3.  4.  6.]\n",
      "[[1334  124   99   59]\n",
      " [ 113 1171  226   62]\n",
      " [  64  119 1471   66]\n",
      " [  76   33   27 1621]]\n",
      "n_estimators = 50 max_depth = [ 0.  1. 65.  1.  6.  1.  2.  2.  6.]\n",
      "[[1334  124   99   59]\n",
      " [ 113 1171  226   62]\n",
      " [  64  119 1471   66]\n",
      " [  76   33   27 1621]]\n",
      "n_estimators = 50 max_depth = [ 0.  0. 36.  0.  1.  0.  3.  1.  5.]\n",
      "[[1334  124   99   59]\n",
      " [ 113 1171  226   62]\n",
      " [  64  119 1471   66]\n",
      " [  76   33   27 1621]]\n",
      "n_estimators = 50 max_depth = [ 0.  0. 25.  1.  2.  0.  3.  3.  5.]\n",
      "[[1334  124   99   59]\n",
      " [ 113 1171  226   62]\n",
      " [  64  119 1471   66]\n",
      " [  76   33   27 1621]]\n",
      "n_estimators = 50 max_depth = [ 1.  1. 43.  1.  7.  0.  1.  4.  6.]\n",
      "[[1334  124   99   59]\n",
      " [ 113 1171  226   62]\n",
      " [  64  119 1471   66]\n",
      " [  76   33   27 1621]]\n",
      "n_estimators = 50 max_depth = [ 0.  1. 33.  1.  9.  0.  1.  2.  3.]\n",
      "[[1334  124   99   59]\n",
      " [ 113 1171  226   62]\n",
      " [  64  119 1471   66]\n",
      " [  76   33   27 1621]]\n",
      "n_estimators = 50 max_depth = [ 1.  0. 30.  1.  3. 14.  3.  1.  6.]\n",
      "[[1334  124   99   59]\n",
      " [ 113 1171  226   62]\n",
      " [  64  119 1471   66]\n",
      " [  76   33   27 1621]]\n",
      "n_estimators = 50 max_depth = [ 0.  0. 25.  1.  4.  8.  3.  2.  6.]\n",
      "[[1334  124   99   59]\n",
      " [ 113 1171  226   62]\n",
      " [  64  119 1471   66]\n",
      " [  76   33   27 1621]]\n",
      "n_estimators = 50 max_depth = [ 1.  1. 49.  1.  1.  4.  2.  4.  6.]\n",
      "[[1334  124   99   59]\n",
      " [ 113 1171  226   62]\n",
      " [  64  119 1471   66]\n",
      " [  76   33   27 1621]]\n",
      "n_estimators = 50 max_depth = [ 0.  0. 31.  1.  1.  9.  3.  1.  6.]\n",
      "[[1334  124   99   59]\n",
      " [ 113 1171  226   62]\n",
      " [  64  119 1471   66]\n",
      " [  76   33   27 1621]]\n",
      "n_estimators = 50 max_depth = [ 0.  0. 27.  1.  5. 14.  3.  8.  6.]\n",
      "[[1334  124   99   59]\n",
      " [ 113 1171  226   62]\n",
      " [  64  119 1471   66]\n",
      " [  76   33   27 1621]]\n",
      "n_estimators = 50 max_depth = [ 0.  0. 33.  1.  3. 11.  3.  3.  6.]\n",
      "[[1334  124   99   59]\n",
      " [ 113 1171  226   62]\n",
      " [  64  119 1471   66]\n",
      " [  76   33   27 1621]]\n",
      "n_estimators = 50 max_depth = [ 1.  1. 35.  1.  1.  1.  2.  2.  6.]\n",
      "[[1334  124   99   59]\n",
      " [ 113 1171  226   62]\n",
      " [  64  119 1471   66]\n",
      " [  76   33   27 1621]]\n",
      "n_estimators = 50 max_depth = [ 1.  0. 19.  0.  2.  1.  3.  5.  3.]\n",
      "[[1334  124   99   59]\n",
      " [ 113 1171  226   62]\n",
      " [  64  119 1471   66]\n",
      " [  76   33   27 1621]]\n",
      "n_estimators = 50 max_depth = [ 0.  1. 25.  0.  8.  0.  1.  5.  4.]\n",
      "[[1334  124   99   59]\n",
      " [ 113 1171  226   62]\n",
      " [  64  119 1471   66]\n",
      " [  76   33   27 1621]]\n",
      "n_estimators = 50 max_depth = [ 1.  1. 57.  0.  7.  4.  1.  4.  6.]\n",
      "[[1334  124   99   59]\n",
      " [ 113 1171  226   62]\n",
      " [  64  119 1471   66]\n",
      " [  76   33   27 1621]]\n"
     ]
    },
    {
     "name": "stderr",
     "output_type": "stream",
     "text": [
      "D:\\Programs\\lib\\site-packages\\xgboost\\sklearn.py:1224: UserWarning: The use of label encoder in XGBClassifier is deprecated and will be removed in a future release. To remove this warning, do the following: 1) Pass option use_label_encoder=False when constructing XGBClassifier object; and 2) Encode your labels (y) as integers starting with 0, i.e. 0, 1, 2, ..., [num_class - 1].\n",
      "  warnings.warn(label_encoder_deprecation_msg, UserWarning)\n"
     ]
    },
    {
     "name": "stdout",
     "output_type": "stream",
     "text": [
      "n_estimators = 50 max_depth = [ 0.  1. 38.  0.  3.  4.  3.  1.  6.]\n",
      "[[1436   91   60   29]\n",
      " [  67 1305  166   34]\n",
      " [  30   88 1564   38]\n",
      " [  33   15   20 1689]]\n",
      "n_estimators = 50 max_depth = [ 1.  1. 48.  1.  1.  0.  2.  2.  6.]\n",
      "[[1436   91   60   29]\n",
      " [  67 1305  166   34]\n",
      " [  30   88 1564   38]\n",
      " [  33   15   20 1689]]\n",
      "n_estimators = 50 max_depth = [ 0.  1. 51.  1.  1.  3.  3.  4.  6.]\n",
      "[[1436   91   60   29]\n",
      " [  67 1305  166   34]\n",
      " [  30   88 1564   38]\n",
      " [  33   15   20 1689]]\n",
      "n_estimators = 50 max_depth = [ 1.  1. 73.  1.  1.  1.  1.  2.  2.]\n",
      "[[1436   91   60   29]\n",
      " [  67 1305  166   34]\n",
      " [  30   88 1564   38]\n",
      " [  33   15   20 1689]]\n",
      "n_estimators = 50 max_depth = [ 1.  0. 30.  1.  2.  1.  3.  4.  6.]\n",
      "[[1436   91   60   29]\n",
      " [  67 1305  166   34]\n",
      " [  30   88 1564   38]\n",
      " [  33   15   20 1689]]\n",
      "n_estimators = 50 max_depth = [ 0.  1. 65.  1.  6.  1.  2.  2.  6.]\n",
      "[[1436   91   60   29]\n",
      " [  67 1305  166   34]\n",
      " [  30   88 1564   38]\n",
      " [  33   15   20 1689]]\n",
      "n_estimators = 50 max_depth = [ 0.  0. 36.  0.  1.  0.  3.  1.  5.]\n",
      "[[1436   91   60   29]\n",
      " [  67 1305  166   34]\n",
      " [  30   88 1564   38]\n",
      " [  33   15   20 1689]]\n",
      "n_estimators = 50 max_depth = [ 0.  0. 25.  1.  2.  0.  3.  3.  5.]\n",
      "[[1436   91   60   29]\n",
      " [  67 1305  166   34]\n",
      " [  30   88 1564   38]\n",
      " [  33   15   20 1689]]\n",
      "n_estimators = 50 max_depth = [ 1.  1. 43.  1.  7.  0.  1.  4.  6.]\n",
      "[[1436   91   60   29]\n",
      " [  67 1305  166   34]\n",
      " [  30   88 1564   38]\n",
      " [  33   15   20 1689]]\n",
      "n_estimators = 50 max_depth = [ 0.  1. 33.  1.  9.  0.  1.  2.  3.]\n",
      "[[1436   91   60   29]\n",
      " [  67 1305  166   34]\n",
      " [  30   88 1564   38]\n",
      " [  33   15   20 1689]]\n",
      "n_estimators = 50 max_depth = [ 1.  0. 30.  1.  3. 14.  3.  1.  6.]\n",
      "[[1436   91   60   29]\n",
      " [  67 1305  166   34]\n",
      " [  30   88 1564   38]\n",
      " [  33   15   20 1689]]\n",
      "n_estimators = 50 max_depth = [ 0.  0. 25.  1.  4.  8.  3.  2.  6.]\n",
      "[[1436   91   60   29]\n",
      " [  67 1305  166   34]\n",
      " [  30   88 1564   38]\n",
      " [  33   15   20 1689]]\n",
      "n_estimators = 50 max_depth = [ 1.  1. 49.  1.  1.  4.  2.  4.  6.]\n",
      "[[1436   91   60   29]\n",
      " [  67 1305  166   34]\n",
      " [  30   88 1564   38]\n",
      " [  33   15   20 1689]]\n",
      "n_estimators = 50 max_depth = [ 0.  0. 31.  1.  1.  9.  3.  1.  6.]\n",
      "[[1436   91   60   29]\n",
      " [  67 1305  166   34]\n",
      " [  30   88 1564   38]\n",
      " [  33   15   20 1689]]\n",
      "n_estimators = 50 max_depth = [ 0.  0. 27.  1.  5. 14.  3.  8.  6.]\n",
      "[[1436   91   60   29]\n",
      " [  67 1305  166   34]\n",
      " [  30   88 1564   38]\n",
      " [  33   15   20 1689]]\n",
      "n_estimators = 50 max_depth = [ 0.  0. 33.  1.  3. 11.  3.  3.  6.]\n",
      "[[1436   91   60   29]\n",
      " [  67 1305  166   34]\n",
      " [  30   88 1564   38]\n",
      " [  33   15   20 1689]]\n",
      "n_estimators = 50 max_depth = [ 1.  1. 35.  1.  1.  1.  2.  2.  6.]\n",
      "[[1436   91   60   29]\n",
      " [  67 1305  166   34]\n",
      " [  30   88 1564   38]\n",
      " [  33   15   20 1689]]\n",
      "n_estimators = 50 max_depth = [ 1.  0. 19.  0.  2.  1.  3.  5.  3.]\n",
      "[[1436   91   60   29]\n",
      " [  67 1305  166   34]\n",
      " [  30   88 1564   38]\n",
      " [  33   15   20 1689]]\n",
      "n_estimators = 50 max_depth = [ 0.  1. 25.  0.  8.  0.  1.  5.  4.]\n",
      "[[1436   91   60   29]\n",
      " [  67 1305  166   34]\n",
      " [  30   88 1564   38]\n",
      " [  33   15   20 1689]]\n",
      "n_estimators = 50 max_depth = [ 1.  1. 57.  0.  7.  4.  1.  4.  6.]\n",
      "[[1436   91   60   29]\n",
      " [  67 1305  166   34]\n",
      " [  30   88 1564   38]\n",
      " [  33   15   20 1689]]\n"
     ]
    },
    {
     "name": "stderr",
     "output_type": "stream",
     "text": [
      "D:\\Programs\\lib\\site-packages\\xgboost\\sklearn.py:1224: UserWarning: The use of label encoder in XGBClassifier is deprecated and will be removed in a future release. To remove this warning, do the following: 1) Pass option use_label_encoder=False when constructing XGBClassifier object; and 2) Encode your labels (y) as integers starting with 0, i.e. 0, 1, 2, ..., [num_class - 1].\n",
      "  warnings.warn(label_encoder_deprecation_msg, UserWarning)\n"
     ]
    },
    {
     "name": "stdout",
     "output_type": "stream",
     "text": [
      "n_estimators = 50 max_depth = [ 0.  1. 38.  0.  3.  4.  3.  1.  6.]\n",
      "[[1512   50   41   13]\n",
      " [  54 1382  119   17]\n",
      " [  20   57 1615   28]\n",
      " [  18   11   12 1716]]\n",
      "n_estimators = 50 max_depth = [ 1.  1. 48.  1.  1.  0.  2.  2.  6.]\n",
      "[[1512   50   41   13]\n",
      " [  54 1382  119   17]\n",
      " [  20   57 1615   28]\n",
      " [  18   11   12 1716]]\n",
      "n_estimators = 50 max_depth = [ 0.  1. 51.  1.  1.  3.  3.  4.  6.]\n",
      "[[1512   50   41   13]\n",
      " [  54 1382  119   17]\n",
      " [  20   57 1615   28]\n",
      " [  18   11   12 1716]]\n",
      "n_estimators = 50 max_depth = [ 1.  1. 73.  1.  1.  1.  1.  2.  2.]\n",
      "[[1512   50   41   13]\n",
      " [  54 1382  119   17]\n",
      " [  20   57 1615   28]\n",
      " [  18   11   12 1716]]\n",
      "n_estimators = 50 max_depth = [ 1.  0. 30.  1.  2.  1.  3.  4.  6.]\n",
      "[[1512   50   41   13]\n",
      " [  54 1382  119   17]\n",
      " [  20   57 1615   28]\n",
      " [  18   11   12 1716]]\n",
      "n_estimators = 50 max_depth = [ 0.  1. 65.  1.  6.  1.  2.  2.  6.]\n",
      "[[1512   50   41   13]\n",
      " [  54 1382  119   17]\n",
      " [  20   57 1615   28]\n",
      " [  18   11   12 1716]]\n",
      "n_estimators = 50 max_depth = [ 0.  0. 36.  0.  1.  0.  3.  1.  5.]\n",
      "[[1512   50   41   13]\n",
      " [  54 1382  119   17]\n",
      " [  20   57 1615   28]\n",
      " [  18   11   12 1716]]\n",
      "n_estimators = 50 max_depth = [ 0.  0. 25.  1.  2.  0.  3.  3.  5.]\n",
      "[[1512   50   41   13]\n",
      " [  54 1382  119   17]\n",
      " [  20   57 1615   28]\n",
      " [  18   11   12 1716]]\n",
      "n_estimators = 50 max_depth = [ 1.  1. 43.  1.  7.  0.  1.  4.  6.]\n",
      "[[1512   50   41   13]\n",
      " [  54 1382  119   17]\n",
      " [  20   57 1615   28]\n",
      " [  18   11   12 1716]]\n",
      "n_estimators = 50 max_depth = [ 0.  1. 33.  1.  9.  0.  1.  2.  3.]\n",
      "[[1512   50   41   13]\n",
      " [  54 1382  119   17]\n",
      " [  20   57 1615   28]\n",
      " [  18   11   12 1716]]\n",
      "n_estimators = 50 max_depth = [ 1.  0. 30.  1.  3. 14.  3.  1.  6.]\n",
      "[[1512   50   41   13]\n",
      " [  54 1382  119   17]\n",
      " [  20   57 1615   28]\n",
      " [  18   11   12 1716]]\n",
      "n_estimators = 50 max_depth = [ 0.  0. 25.  1.  4.  8.  3.  2.  6.]\n",
      "[[1512   50   41   13]\n",
      " [  54 1382  119   17]\n",
      " [  20   57 1615   28]\n",
      " [  18   11   12 1716]]\n",
      "n_estimators = 50 max_depth = [ 1.  1. 49.  1.  1.  4.  2.  4.  6.]\n",
      "[[1512   50   41   13]\n",
      " [  54 1382  119   17]\n",
      " [  20   57 1615   28]\n",
      " [  18   11   12 1716]]\n",
      "n_estimators = 50 max_depth = [ 0.  0. 31.  1.  1.  9.  3.  1.  6.]\n",
      "[[1512   50   41   13]\n",
      " [  54 1382  119   17]\n",
      " [  20   57 1615   28]\n",
      " [  18   11   12 1716]]\n",
      "n_estimators = 50 max_depth = [ 0.  0. 27.  1.  5. 14.  3.  8.  6.]\n",
      "[[1512   50   41   13]\n",
      " [  54 1382  119   17]\n",
      " [  20   57 1615   28]\n",
      " [  18   11   12 1716]]\n",
      "n_estimators = 50 max_depth = [ 0.  0. 33.  1.  3. 11.  3.  3.  6.]\n",
      "[[1512   50   41   13]\n",
      " [  54 1382  119   17]\n",
      " [  20   57 1615   28]\n",
      " [  18   11   12 1716]]\n",
      "n_estimators = 50 max_depth = [ 1.  1. 35.  1.  1.  1.  2.  2.  6.]\n",
      "[[1512   50   41   13]\n",
      " [  54 1382  119   17]\n",
      " [  20   57 1615   28]\n",
      " [  18   11   12 1716]]\n",
      "n_estimators = 50 max_depth = [ 1.  0. 19.  0.  2.  1.  3.  5.  3.]\n",
      "[[1512   50   41   13]\n",
      " [  54 1382  119   17]\n",
      " [  20   57 1615   28]\n",
      " [  18   11   12 1716]]\n",
      "n_estimators = 50 max_depth = [ 0.  1. 25.  0.  8.  0.  1.  5.  4.]\n",
      "[[1512   50   41   13]\n",
      " [  54 1382  119   17]\n",
      " [  20   57 1615   28]\n",
      " [  18   11   12 1716]]\n",
      "n_estimators = 50 max_depth = [ 1.  1. 57.  0.  7.  4.  1.  4.  6.]\n",
      "[[1512   50   41   13]\n",
      " [  54 1382  119   17]\n",
      " [  20   57 1615   28]\n",
      " [  18   11   12 1716]]\n"
     ]
    },
    {
     "name": "stderr",
     "output_type": "stream",
     "text": [
      "D:\\Programs\\lib\\site-packages\\xgboost\\sklearn.py:1224: UserWarning: The use of label encoder in XGBClassifier is deprecated and will be removed in a future release. To remove this warning, do the following: 1) Pass option use_label_encoder=False when constructing XGBClassifier object; and 2) Encode your labels (y) as integers starting with 0, i.e. 0, 1, 2, ..., [num_class - 1].\n",
      "  warnings.warn(label_encoder_deprecation_msg, UserWarning)\n"
     ]
    },
    {
     "name": "stdout",
     "output_type": "stream",
     "text": [
      "n_estimators = 50 max_depth = [ 0.  1. 38.  0.  3.  4.  3.  1.  6.]\n",
      "[[1520   51   32   13]\n",
      " [  29 1447   85   11]\n",
      " [  10   48 1640   22]\n",
      " [  11    7   16 1723]]\n",
      "n_estimators = 50 max_depth = [ 1.  1. 48.  1.  1.  0.  2.  2.  6.]\n",
      "[[1520   51   32   13]\n",
      " [  29 1447   85   11]\n",
      " [  10   48 1640   22]\n",
      " [  11    7   16 1723]]\n",
      "n_estimators = 50 max_depth = [ 0.  1. 51.  1.  1.  3.  3.  4.  6.]\n",
      "[[1520   51   32   13]\n",
      " [  29 1447   85   11]\n",
      " [  10   48 1640   22]\n",
      " [  11    7   16 1723]]\n",
      "n_estimators = 50 max_depth = [ 1.  1. 73.  1.  1.  1.  1.  2.  2.]\n",
      "[[1520   51   32   13]\n",
      " [  29 1447   85   11]\n",
      " [  10   48 1640   22]\n",
      " [  11    7   16 1723]]\n",
      "n_estimators = 50 max_depth = [ 1.  0. 30.  1.  2.  1.  3.  4.  6.]\n",
      "[[1520   51   32   13]\n",
      " [  29 1447   85   11]\n",
      " [  10   48 1640   22]\n",
      " [  11    7   16 1723]]\n",
      "n_estimators = 50 max_depth = [ 0.  1. 65.  1.  6.  1.  2.  2.  6.]\n",
      "[[1520   51   32   13]\n",
      " [  29 1447   85   11]\n",
      " [  10   48 1640   22]\n",
      " [  11    7   16 1723]]\n",
      "n_estimators = 50 max_depth = [ 0.  0. 36.  0.  1.  0.  3.  1.  5.]\n",
      "[[1520   51   32   13]\n",
      " [  29 1447   85   11]\n",
      " [  10   48 1640   22]\n",
      " [  11    7   16 1723]]\n",
      "n_estimators = 50 max_depth = [ 0.  0. 25.  1.  2.  0.  3.  3.  5.]\n",
      "[[1520   51   32   13]\n",
      " [  29 1447   85   11]\n",
      " [  10   48 1640   22]\n",
      " [  11    7   16 1723]]\n",
      "n_estimators = 50 max_depth = [ 1.  1. 43.  1.  7.  0.  1.  4.  6.]\n",
      "[[1520   51   32   13]\n",
      " [  29 1447   85   11]\n",
      " [  10   48 1640   22]\n",
      " [  11    7   16 1723]]\n",
      "n_estimators = 50 max_depth = [ 0.  1. 33.  1.  9.  0.  1.  2.  3.]\n",
      "[[1520   51   32   13]\n",
      " [  29 1447   85   11]\n",
      " [  10   48 1640   22]\n",
      " [  11    7   16 1723]]\n",
      "n_estimators = 50 max_depth = [ 1.  0. 30.  1.  3. 14.  3.  1.  6.]\n",
      "[[1520   51   32   13]\n",
      " [  29 1447   85   11]\n",
      " [  10   48 1640   22]\n",
      " [  11    7   16 1723]]\n",
      "n_estimators = 50 max_depth = [ 0.  0. 25.  1.  4.  8.  3.  2.  6.]\n",
      "[[1520   51   32   13]\n",
      " [  29 1447   85   11]\n",
      " [  10   48 1640   22]\n",
      " [  11    7   16 1723]]\n",
      "n_estimators = 50 max_depth = [ 1.  1. 49.  1.  1.  4.  2.  4.  6.]\n",
      "[[1520   51   32   13]\n",
      " [  29 1447   85   11]\n",
      " [  10   48 1640   22]\n",
      " [  11    7   16 1723]]\n",
      "n_estimators = 50 max_depth = [ 0.  0. 31.  1.  1.  9.  3.  1.  6.]\n",
      "[[1520   51   32   13]\n",
      " [  29 1447   85   11]\n",
      " [  10   48 1640   22]\n",
      " [  11    7   16 1723]]\n",
      "n_estimators = 50 max_depth = [ 0.  0. 27.  1.  5. 14.  3.  8.  6.]\n",
      "[[1520   51   32   13]\n",
      " [  29 1447   85   11]\n",
      " [  10   48 1640   22]\n",
      " [  11    7   16 1723]]\n",
      "n_estimators = 50 max_depth = [ 0.  0. 33.  1.  3. 11.  3.  3.  6.]\n",
      "[[1520   51   32   13]\n",
      " [  29 1447   85   11]\n",
      " [  10   48 1640   22]\n",
      " [  11    7   16 1723]]\n",
      "n_estimators = 50 max_depth = [ 1.  1. 35.  1.  1.  1.  2.  2.  6.]\n",
      "[[1520   51   32   13]\n",
      " [  29 1447   85   11]\n",
      " [  10   48 1640   22]\n",
      " [  11    7   16 1723]]\n",
      "n_estimators = 50 max_depth = [ 1.  0. 19.  0.  2.  1.  3.  5.  3.]\n",
      "[[1520   51   32   13]\n",
      " [  29 1447   85   11]\n",
      " [  10   48 1640   22]\n",
      " [  11    7   16 1723]]\n",
      "n_estimators = 50 max_depth = [ 0.  1. 25.  0.  8.  0.  1.  5.  4.]\n",
      "[[1520   51   32   13]\n",
      " [  29 1447   85   11]\n",
      " [  10   48 1640   22]\n",
      " [  11    7   16 1723]]\n",
      "n_estimators = 50 max_depth = [ 1.  1. 57.  0.  7.  4.  1.  4.  6.]\n",
      "[[1520   51   32   13]\n",
      " [  29 1447   85   11]\n",
      " [  10   48 1640   22]\n",
      " [  11    7   16 1723]]\n"
     ]
    },
    {
     "name": "stderr",
     "output_type": "stream",
     "text": [
      "D:\\Programs\\lib\\site-packages\\xgboost\\sklearn.py:1224: UserWarning: The use of label encoder in XGBClassifier is deprecated and will be removed in a future release. To remove this warning, do the following: 1) Pass option use_label_encoder=False when constructing XGBClassifier object; and 2) Encode your labels (y) as integers starting with 0, i.e. 0, 1, 2, ..., [num_class - 1].\n",
      "  warnings.warn(label_encoder_deprecation_msg, UserWarning)\n"
     ]
    },
    {
     "name": "stdout",
     "output_type": "stream",
     "text": [
      "n_estimators = 50 max_depth = [ 0.  1. 38.  0.  3.  4.  3.  1.  6.]\n",
      "[[1534   44   27   11]\n",
      " [  37 1455   69   11]\n",
      " [  14   50 1635   21]\n",
      " [  12    7   15 1723]]\n",
      "n_estimators = 50 max_depth = [ 1.  1. 48.  1.  1.  0.  2.  2.  6.]\n",
      "[[1534   44   27   11]\n",
      " [  37 1455   69   11]\n",
      " [  14   50 1635   21]\n",
      " [  12    7   15 1723]]\n",
      "n_estimators = 50 max_depth = [ 0.  1. 51.  1.  1.  3.  3.  4.  6.]\n",
      "[[1534   44   27   11]\n",
      " [  37 1455   69   11]\n",
      " [  14   50 1635   21]\n",
      " [  12    7   15 1723]]\n",
      "n_estimators = 50 max_depth = [ 1.  1. 73.  1.  1.  1.  1.  2.  2.]\n",
      "[[1534   44   27   11]\n",
      " [  37 1455   69   11]\n",
      " [  14   50 1635   21]\n",
      " [  12    7   15 1723]]\n",
      "n_estimators = 50 max_depth = [ 1.  0. 30.  1.  2.  1.  3.  4.  6.]\n",
      "[[1534   44   27   11]\n",
      " [  37 1455   69   11]\n",
      " [  14   50 1635   21]\n",
      " [  12    7   15 1723]]\n",
      "n_estimators = 50 max_depth = [ 0.  1. 65.  1.  6.  1.  2.  2.  6.]\n",
      "[[1534   44   27   11]\n",
      " [  37 1455   69   11]\n",
      " [  14   50 1635   21]\n",
      " [  12    7   15 1723]]\n",
      "n_estimators = 50 max_depth = [ 0.  0. 36.  0.  1.  0.  3.  1.  5.]\n",
      "[[1534   44   27   11]\n",
      " [  37 1455   69   11]\n",
      " [  14   50 1635   21]\n",
      " [  12    7   15 1723]]\n",
      "n_estimators = 50 max_depth = [ 0.  0. 25.  1.  2.  0.  3.  3.  5.]\n",
      "[[1534   44   27   11]\n",
      " [  37 1455   69   11]\n",
      " [  14   50 1635   21]\n",
      " [  12    7   15 1723]]\n",
      "n_estimators = 50 max_depth = [ 1.  1. 43.  1.  7.  0.  1.  4.  6.]\n",
      "[[1534   44   27   11]\n",
      " [  37 1455   69   11]\n",
      " [  14   50 1635   21]\n",
      " [  12    7   15 1723]]\n",
      "n_estimators = 50 max_depth = [ 0.  1. 33.  1.  9.  0.  1.  2.  3.]\n",
      "[[1534   44   27   11]\n",
      " [  37 1455   69   11]\n",
      " [  14   50 1635   21]\n",
      " [  12    7   15 1723]]\n",
      "n_estimators = 50 max_depth = [ 1.  0. 30.  1.  3. 14.  3.  1.  6.]\n",
      "[[1534   44   27   11]\n",
      " [  37 1455   69   11]\n",
      " [  14   50 1635   21]\n",
      " [  12    7   15 1723]]\n",
      "n_estimators = 50 max_depth = [ 0.  0. 25.  1.  4.  8.  3.  2.  6.]\n",
      "[[1534   44   27   11]\n",
      " [  37 1455   69   11]\n",
      " [  14   50 1635   21]\n",
      " [  12    7   15 1723]]\n",
      "n_estimators = 50 max_depth = [ 1.  1. 49.  1.  1.  4.  2.  4.  6.]\n",
      "[[1534   44   27   11]\n",
      " [  37 1455   69   11]\n",
      " [  14   50 1635   21]\n",
      " [  12    7   15 1723]]\n",
      "n_estimators = 50 max_depth = [ 0.  0. 31.  1.  1.  9.  3.  1.  6.]\n",
      "[[1534   44   27   11]\n",
      " [  37 1455   69   11]\n",
      " [  14   50 1635   21]\n",
      " [  12    7   15 1723]]\n",
      "n_estimators = 50 max_depth = [ 0.  0. 27.  1.  5. 14.  3.  8.  6.]\n",
      "[[1534   44   27   11]\n",
      " [  37 1455   69   11]\n",
      " [  14   50 1635   21]\n",
      " [  12    7   15 1723]]\n",
      "n_estimators = 50 max_depth = [ 0.  0. 33.  1.  3. 11.  3.  3.  6.]\n",
      "[[1534   44   27   11]\n",
      " [  37 1455   69   11]\n",
      " [  14   50 1635   21]\n",
      " [  12    7   15 1723]]\n",
      "n_estimators = 50 max_depth = [ 1.  1. 35.  1.  1.  1.  2.  2.  6.]\n",
      "[[1534   44   27   11]\n",
      " [  37 1455   69   11]\n",
      " [  14   50 1635   21]\n",
      " [  12    7   15 1723]]\n",
      "n_estimators = 50 max_depth = [ 1.  0. 19.  0.  2.  1.  3.  5.  3.]\n",
      "[[1534   44   27   11]\n",
      " [  37 1455   69   11]\n",
      " [  14   50 1635   21]\n",
      " [  12    7   15 1723]]\n",
      "n_estimators = 50 max_depth = [ 0.  1. 25.  0.  8.  0.  1.  5.  4.]\n",
      "[[1534   44   27   11]\n",
      " [  37 1455   69   11]\n",
      " [  14   50 1635   21]\n",
      " [  12    7   15 1723]]\n",
      "n_estimators = 50 max_depth = [ 1.  1. 57.  0.  7.  4.  1.  4.  6.]\n",
      "[[1534   44   27   11]\n",
      " [  37 1455   69   11]\n",
      " [  14   50 1635   21]\n",
      " [  12    7   15 1723]]\n"
     ]
    },
    {
     "name": "stderr",
     "output_type": "stream",
     "text": [
      "D:\\Programs\\lib\\site-packages\\xgboost\\sklearn.py:1224: UserWarning: The use of label encoder in XGBClassifier is deprecated and will be removed in a future release. To remove this warning, do the following: 1) Pass option use_label_encoder=False when constructing XGBClassifier object; and 2) Encode your labels (y) as integers starting with 0, i.e. 0, 1, 2, ..., [num_class - 1].\n",
      "  warnings.warn(label_encoder_deprecation_msg, UserWarning)\n"
     ]
    },
    {
     "name": "stdout",
     "output_type": "stream",
     "text": [
      "n_estimators = 50 max_depth = [ 0.  1. 38.  0.  3.  4.  3.  1.  6.]\n",
      "[[1534   46   26   10]\n",
      " [  33 1457   74    8]\n",
      " [  14   43 1644   19]\n",
      " [  13    7   17 1720]]\n",
      "n_estimators = 50 max_depth = [ 1.  1. 48.  1.  1.  0.  2.  2.  6.]\n",
      "[[1534   46   26   10]\n",
      " [  33 1457   74    8]\n",
      " [  14   43 1644   19]\n",
      " [  13    7   17 1720]]\n",
      "n_estimators = 50 max_depth = [ 0.  1. 51.  1.  1.  3.  3.  4.  6.]\n",
      "[[1534   46   26   10]\n",
      " [  33 1457   74    8]\n",
      " [  14   43 1644   19]\n",
      " [  13    7   17 1720]]\n",
      "n_estimators = 50 max_depth = [ 1.  1. 73.  1.  1.  1.  1.  2.  2.]\n",
      "[[1534   46   26   10]\n",
      " [  33 1457   74    8]\n",
      " [  14   43 1644   19]\n",
      " [  13    7   17 1720]]\n",
      "n_estimators = 50 max_depth = [ 1.  0. 30.  1.  2.  1.  3.  4.  6.]\n",
      "[[1534   46   26   10]\n",
      " [  33 1457   74    8]\n",
      " [  14   43 1644   19]\n",
      " [  13    7   17 1720]]\n",
      "n_estimators = 50 max_depth = [ 0.  1. 65.  1.  6.  1.  2.  2.  6.]\n",
      "[[1534   46   26   10]\n",
      " [  33 1457   74    8]\n",
      " [  14   43 1644   19]\n",
      " [  13    7   17 1720]]\n",
      "n_estimators = 50 max_depth = [ 0.  0. 36.  0.  1.  0.  3.  1.  5.]\n",
      "[[1534   46   26   10]\n",
      " [  33 1457   74    8]\n",
      " [  14   43 1644   19]\n",
      " [  13    7   17 1720]]\n",
      "n_estimators = 50 max_depth = [ 0.  0. 25.  1.  2.  0.  3.  3.  5.]\n",
      "[[1534   46   26   10]\n",
      " [  33 1457   74    8]\n",
      " [  14   43 1644   19]\n",
      " [  13    7   17 1720]]\n",
      "n_estimators = 50 max_depth = [ 1.  1. 43.  1.  7.  0.  1.  4.  6.]\n",
      "[[1534   46   26   10]\n",
      " [  33 1457   74    8]\n",
      " [  14   43 1644   19]\n",
      " [  13    7   17 1720]]\n",
      "n_estimators = 50 max_depth = [ 0.  1. 33.  1.  9.  0.  1.  2.  3.]\n",
      "[[1534   46   26   10]\n",
      " [  33 1457   74    8]\n",
      " [  14   43 1644   19]\n",
      " [  13    7   17 1720]]\n",
      "n_estimators = 50 max_depth = [ 1.  0. 30.  1.  3. 14.  3.  1.  6.]\n",
      "[[1534   46   26   10]\n",
      " [  33 1457   74    8]\n",
      " [  14   43 1644   19]\n",
      " [  13    7   17 1720]]\n",
      "n_estimators = 50 max_depth = [ 0.  0. 25.  1.  4.  8.  3.  2.  6.]\n",
      "[[1534   46   26   10]\n",
      " [  33 1457   74    8]\n",
      " [  14   43 1644   19]\n",
      " [  13    7   17 1720]]\n",
      "n_estimators = 50 max_depth = [ 1.  1. 49.  1.  1.  4.  2.  4.  6.]\n",
      "[[1534   46   26   10]\n",
      " [  33 1457   74    8]\n",
      " [  14   43 1644   19]\n",
      " [  13    7   17 1720]]\n",
      "n_estimators = 50 max_depth = [ 0.  0. 31.  1.  1.  9.  3.  1.  6.]\n",
      "[[1534   46   26   10]\n",
      " [  33 1457   74    8]\n",
      " [  14   43 1644   19]\n",
      " [  13    7   17 1720]]\n",
      "n_estimators = 50 max_depth = [ 0.  0. 27.  1.  5. 14.  3.  8.  6.]\n",
      "[[1534   46   26   10]\n",
      " [  33 1457   74    8]\n",
      " [  14   43 1644   19]\n",
      " [  13    7   17 1720]]\n",
      "n_estimators = 50 max_depth = [ 0.  0. 33.  1.  3. 11.  3.  3.  6.]\n",
      "[[1534   46   26   10]\n",
      " [  33 1457   74    8]\n",
      " [  14   43 1644   19]\n",
      " [  13    7   17 1720]]\n",
      "n_estimators = 50 max_depth = [ 1.  1. 35.  1.  1.  1.  2.  2.  6.]\n",
      "[[1534   46   26   10]\n",
      " [  33 1457   74    8]\n",
      " [  14   43 1644   19]\n",
      " [  13    7   17 1720]]\n",
      "n_estimators = 50 max_depth = [ 1.  0. 19.  0.  2.  1.  3.  5.  3.]\n",
      "[[1534   46   26   10]\n",
      " [  33 1457   74    8]\n",
      " [  14   43 1644   19]\n",
      " [  13    7   17 1720]]\n",
      "n_estimators = 50 max_depth = [ 0.  1. 25.  0.  8.  0.  1.  5.  4.]\n",
      "[[1534   46   26   10]\n",
      " [  33 1457   74    8]\n",
      " [  14   43 1644   19]\n",
      " [  13    7   17 1720]]\n",
      "n_estimators = 50 max_depth = [ 1.  1. 57.  0.  7.  4.  1.  4.  6.]\n",
      "[[1534   46   26   10]\n",
      " [  33 1457   74    8]\n",
      " [  14   43 1644   19]\n",
      " [  13    7   17 1720]]\n"
     ]
    },
    {
     "name": "stderr",
     "output_type": "stream",
     "text": [
      "D:\\Programs\\lib\\site-packages\\xgboost\\sklearn.py:1224: UserWarning: The use of label encoder in XGBClassifier is deprecated and will be removed in a future release. To remove this warning, do the following: 1) Pass option use_label_encoder=False when constructing XGBClassifier object; and 2) Encode your labels (y) as integers starting with 0, i.e. 0, 1, 2, ..., [num_class - 1].\n",
      "  warnings.warn(label_encoder_deprecation_msg, UserWarning)\n"
     ]
    },
    {
     "name": "stdout",
     "output_type": "stream",
     "text": [
      "n_estimators = 50 max_depth = [ 0.  1. 38.  0.  3.  4.  3.  1.  6.]\n",
      "[[1526   52   26   12]\n",
      " [  26 1466   69   11]\n",
      " [  12   48 1637   23]\n",
      " [  11    7   12 1727]]\n",
      "n_estimators = 50 max_depth = [ 1.  1. 48.  1.  1.  0.  2.  2.  6.]\n",
      "[[1526   52   26   12]\n",
      " [  26 1466   69   11]\n",
      " [  12   48 1637   23]\n",
      " [  11    7   12 1727]]\n",
      "n_estimators = 50 max_depth = [ 0.  1. 51.  1.  1.  3.  3.  4.  6.]\n",
      "[[1526   52   26   12]\n",
      " [  26 1466   69   11]\n",
      " [  12   48 1637   23]\n",
      " [  11    7   12 1727]]\n",
      "n_estimators = 50 max_depth = [ 1.  1. 73.  1.  1.  1.  1.  2.  2.]\n",
      "[[1526   52   26   12]\n",
      " [  26 1466   69   11]\n",
      " [  12   48 1637   23]\n",
      " [  11    7   12 1727]]\n",
      "n_estimators = 50 max_depth = [ 1.  0. 30.  1.  2.  1.  3.  4.  6.]\n",
      "[[1526   52   26   12]\n",
      " [  26 1466   69   11]\n",
      " [  12   48 1637   23]\n",
      " [  11    7   12 1727]]\n",
      "n_estimators = 50 max_depth = [ 0.  1. 65.  1.  6.  1.  2.  2.  6.]\n",
      "[[1526   52   26   12]\n",
      " [  26 1466   69   11]\n",
      " [  12   48 1637   23]\n",
      " [  11    7   12 1727]]\n",
      "n_estimators = 50 max_depth = [ 0.  0. 36.  0.  1.  0.  3.  1.  5.]\n",
      "[[1526   52   26   12]\n",
      " [  26 1466   69   11]\n",
      " [  12   48 1637   23]\n",
      " [  11    7   12 1727]]\n",
      "n_estimators = 50 max_depth = [ 0.  0. 25.  1.  2.  0.  3.  3.  5.]\n",
      "[[1526   52   26   12]\n",
      " [  26 1466   69   11]\n",
      " [  12   48 1637   23]\n",
      " [  11    7   12 1727]]\n",
      "n_estimators = 50 max_depth = [ 1.  1. 43.  1.  7.  0.  1.  4.  6.]\n",
      "[[1526   52   26   12]\n",
      " [  26 1466   69   11]\n",
      " [  12   48 1637   23]\n",
      " [  11    7   12 1727]]\n",
      "n_estimators = 50 max_depth = [ 0.  1. 33.  1.  9.  0.  1.  2.  3.]\n",
      "[[1526   52   26   12]\n",
      " [  26 1466   69   11]\n",
      " [  12   48 1637   23]\n",
      " [  11    7   12 1727]]\n",
      "n_estimators = 50 max_depth = [ 1.  0. 30.  1.  3. 14.  3.  1.  6.]\n",
      "[[1526   52   26   12]\n",
      " [  26 1466   69   11]\n",
      " [  12   48 1637   23]\n",
      " [  11    7   12 1727]]\n",
      "n_estimators = 50 max_depth = [ 0.  0. 25.  1.  4.  8.  3.  2.  6.]\n",
      "[[1526   52   26   12]\n",
      " [  26 1466   69   11]\n",
      " [  12   48 1637   23]\n",
      " [  11    7   12 1727]]\n",
      "n_estimators = 50 max_depth = [ 1.  1. 49.  1.  1.  4.  2.  4.  6.]\n",
      "[[1526   52   26   12]\n",
      " [  26 1466   69   11]\n",
      " [  12   48 1637   23]\n",
      " [  11    7   12 1727]]\n",
      "n_estimators = 50 max_depth = [ 0.  0. 31.  1.  1.  9.  3.  1.  6.]\n",
      "[[1526   52   26   12]\n",
      " [  26 1466   69   11]\n",
      " [  12   48 1637   23]\n",
      " [  11    7   12 1727]]\n",
      "n_estimators = 50 max_depth = [ 0.  0. 27.  1.  5. 14.  3.  8.  6.]\n",
      "[[1526   52   26   12]\n",
      " [  26 1466   69   11]\n",
      " [  12   48 1637   23]\n",
      " [  11    7   12 1727]]\n",
      "n_estimators = 50 max_depth = [ 0.  0. 33.  1.  3. 11.  3.  3.  6.]\n",
      "[[1526   52   26   12]\n",
      " [  26 1466   69   11]\n",
      " [  12   48 1637   23]\n",
      " [  11    7   12 1727]]\n",
      "n_estimators = 50 max_depth = [ 1.  1. 35.  1.  1.  1.  2.  2.  6.]\n",
      "[[1526   52   26   12]\n",
      " [  26 1466   69   11]\n",
      " [  12   48 1637   23]\n",
      " [  11    7   12 1727]]\n",
      "n_estimators = 50 max_depth = [ 1.  0. 19.  0.  2.  1.  3.  5.  3.]\n",
      "[[1526   52   26   12]\n",
      " [  26 1466   69   11]\n",
      " [  12   48 1637   23]\n",
      " [  11    7   12 1727]]\n",
      "n_estimators = 50 max_depth = [ 0.  1. 25.  0.  8.  0.  1.  5.  4.]\n",
      "[[1526   52   26   12]\n",
      " [  26 1466   69   11]\n",
      " [  12   48 1637   23]\n",
      " [  11    7   12 1727]]\n",
      "n_estimators = 50 max_depth = [ 1.  1. 57.  0.  7.  4.  1.  4.  6.]\n",
      "[[1526   52   26   12]\n",
      " [  26 1466   69   11]\n",
      " [  12   48 1637   23]\n",
      " [  11    7   12 1727]]\n"
     ]
    },
    {
     "name": "stderr",
     "output_type": "stream",
     "text": [
      "D:\\Programs\\lib\\site-packages\\xgboost\\sklearn.py:1224: UserWarning: The use of label encoder in XGBClassifier is deprecated and will be removed in a future release. To remove this warning, do the following: 1) Pass option use_label_encoder=False when constructing XGBClassifier object; and 2) Encode your labels (y) as integers starting with 0, i.e. 0, 1, 2, ..., [num_class - 1].\n",
      "  warnings.warn(label_encoder_deprecation_msg, UserWarning)\n"
     ]
    },
    {
     "ename": "KeyboardInterrupt",
     "evalue": "",
     "output_type": "error",
     "traceback": [
      "\u001b[1;31m---------------------------------------------------------------------------\u001b[0m",
      "\u001b[1;31mKeyboardInterrupt\u001b[0m                         Traceback (most recent call last)",
      "\u001b[1;32mC:\\Users\\D9F8~1\\AppData\\Local\\Temp/ipykernel_10300/1393392749.py\u001b[0m in \u001b[0;36m<module>\u001b[1;34m\u001b[0m\n\u001b[0;32m      7\u001b[0m  \u001b[1;32mfor\u001b[0m \u001b[0mj\u001b[0m \u001b[1;32min\u001b[0m \u001b[0mlst_1\u001b[0m\u001b[1;33m:\u001b[0m\u001b[1;33m\u001b[0m\u001b[1;33m\u001b[0m\u001b[0m\n\u001b[0;32m      8\u001b[0m   \u001b[0mmodel\u001b[0m\u001b[1;33m=\u001b[0m\u001b[0mXGBClassifier\u001b[0m\u001b[1;33m(\u001b[0m\u001b[0mseed\u001b[0m \u001b[1;33m=\u001b[0m \u001b[1;36m7\u001b[0m\u001b[1;33m,\u001b[0m \u001b[0mn_estimators\u001b[0m \u001b[1;33m=\u001b[0m \u001b[0mi\u001b[0m\u001b[1;33m,\u001b[0m \u001b[0mmax_depth\u001b[0m \u001b[1;33m=\u001b[0m \u001b[0mj\u001b[0m\u001b[1;33m,\u001b[0m \u001b[0mlearning_rate\u001b[0m \u001b[1;33m=\u001b[0m \u001b[1;36m1\u001b[0m\u001b[1;33m,\u001b[0m\u001b[0meval_metric\u001b[0m\u001b[1;33m=\u001b[0m\u001b[1;34m'mlogloss'\u001b[0m\u001b[1;33m)\u001b[0m\u001b[1;33m\u001b[0m\u001b[1;33m\u001b[0m\u001b[0m\n\u001b[1;32m----> 9\u001b[1;33m   \u001b[0mmodel\u001b[0m\u001b[1;33m.\u001b[0m\u001b[0mfit\u001b[0m\u001b[1;33m(\u001b[0m\u001b[0mX\u001b[0m\u001b[1;33m,\u001b[0m\u001b[0mY\u001b[0m\u001b[1;33m)\u001b[0m\u001b[1;33m\u001b[0m\u001b[1;33m\u001b[0m\u001b[0m\n\u001b[0m\u001b[0;32m     10\u001b[0m   \u001b[1;32mfor\u001b[0m \u001b[0mk\u001b[0m \u001b[1;32min\u001b[0m \u001b[0mx_new\u001b[0m\u001b[1;33m:\u001b[0m\u001b[1;33m\u001b[0m\u001b[1;33m\u001b[0m\u001b[0m\n\u001b[0;32m     11\u001b[0m       \u001b[0mpredictions\u001b[0m \u001b[1;33m=\u001b[0m \u001b[0mmodel\u001b[0m\u001b[1;33m.\u001b[0m\u001b[0mpredict\u001b[0m\u001b[1;33m(\u001b[0m\u001b[0mXX\u001b[0m\u001b[1;33m)\u001b[0m\u001b[1;33m\u001b[0m\u001b[1;33m\u001b[0m\u001b[0m\n",
      "\u001b[1;32mD:\\Programs\\lib\\site-packages\\xgboost\\core.py\u001b[0m in \u001b[0;36minner_f\u001b[1;34m(*args, **kwargs)\u001b[0m\n\u001b[0;32m    504\u001b[0m         \u001b[1;32mfor\u001b[0m \u001b[0mk\u001b[0m\u001b[1;33m,\u001b[0m \u001b[0marg\u001b[0m \u001b[1;32min\u001b[0m \u001b[0mzip\u001b[0m\u001b[1;33m(\u001b[0m\u001b[0msig\u001b[0m\u001b[1;33m.\u001b[0m\u001b[0mparameters\u001b[0m\u001b[1;33m,\u001b[0m \u001b[0margs\u001b[0m\u001b[1;33m)\u001b[0m\u001b[1;33m:\u001b[0m\u001b[1;33m\u001b[0m\u001b[1;33m\u001b[0m\u001b[0m\n\u001b[0;32m    505\u001b[0m             \u001b[0mkwargs\u001b[0m\u001b[1;33m[\u001b[0m\u001b[0mk\u001b[0m\u001b[1;33m]\u001b[0m \u001b[1;33m=\u001b[0m \u001b[0marg\u001b[0m\u001b[1;33m\u001b[0m\u001b[1;33m\u001b[0m\u001b[0m\n\u001b[1;32m--> 506\u001b[1;33m         \u001b[1;32mreturn\u001b[0m \u001b[0mf\u001b[0m\u001b[1;33m(\u001b[0m\u001b[1;33m**\u001b[0m\u001b[0mkwargs\u001b[0m\u001b[1;33m)\u001b[0m\u001b[1;33m\u001b[0m\u001b[1;33m\u001b[0m\u001b[0m\n\u001b[0m\u001b[0;32m    507\u001b[0m \u001b[1;33m\u001b[0m\u001b[0m\n\u001b[0;32m    508\u001b[0m     \u001b[1;32mreturn\u001b[0m \u001b[0minner_f\u001b[0m\u001b[1;33m\u001b[0m\u001b[1;33m\u001b[0m\u001b[0m\n",
      "\u001b[1;32mD:\\Programs\\lib\\site-packages\\xgboost\\sklearn.py\u001b[0m in \u001b[0;36mfit\u001b[1;34m(self, X, y, sample_weight, base_margin, eval_set, eval_metric, early_stopping_rounds, verbose, xgb_model, sample_weight_eval_set, base_margin_eval_set, feature_weights, callbacks)\u001b[0m\n\u001b[0;32m   1248\u001b[0m         )\n\u001b[0;32m   1249\u001b[0m \u001b[1;33m\u001b[0m\u001b[0m\n\u001b[1;32m-> 1250\u001b[1;33m         self._Booster = train(\n\u001b[0m\u001b[0;32m   1251\u001b[0m             \u001b[0mparams\u001b[0m\u001b[1;33m,\u001b[0m\u001b[1;33m\u001b[0m\u001b[1;33m\u001b[0m\u001b[0m\n\u001b[0;32m   1252\u001b[0m             \u001b[0mtrain_dmatrix\u001b[0m\u001b[1;33m,\u001b[0m\u001b[1;33m\u001b[0m\u001b[1;33m\u001b[0m\u001b[0m\n",
      "\u001b[1;32mD:\\Programs\\lib\\site-packages\\xgboost\\training.py\u001b[0m in \u001b[0;36mtrain\u001b[1;34m(params, dtrain, num_boost_round, evals, obj, feval, maximize, early_stopping_rounds, evals_result, verbose_eval, xgb_model, callbacks)\u001b[0m\n\u001b[0;32m    186\u001b[0m     \u001b[0mBooster\u001b[0m \u001b[1;33m:\u001b[0m \u001b[0ma\u001b[0m \u001b[0mtrained\u001b[0m \u001b[0mbooster\u001b[0m \u001b[0mmodel\u001b[0m\u001b[1;33m\u001b[0m\u001b[1;33m\u001b[0m\u001b[0m\n\u001b[0;32m    187\u001b[0m     \"\"\"\n\u001b[1;32m--> 188\u001b[1;33m     bst = _train_internal(params, dtrain,\n\u001b[0m\u001b[0;32m    189\u001b[0m                           \u001b[0mnum_boost_round\u001b[0m\u001b[1;33m=\u001b[0m\u001b[0mnum_boost_round\u001b[0m\u001b[1;33m,\u001b[0m\u001b[1;33m\u001b[0m\u001b[1;33m\u001b[0m\u001b[0m\n\u001b[0;32m    190\u001b[0m                           \u001b[0mevals\u001b[0m\u001b[1;33m=\u001b[0m\u001b[0mevals\u001b[0m\u001b[1;33m,\u001b[0m\u001b[1;33m\u001b[0m\u001b[1;33m\u001b[0m\u001b[0m\n",
      "\u001b[1;32mD:\\Programs\\lib\\site-packages\\xgboost\\training.py\u001b[0m in \u001b[0;36m_train_internal\u001b[1;34m(params, dtrain, num_boost_round, evals, obj, feval, xgb_model, callbacks, evals_result, maximize, verbose_eval, early_stopping_rounds)\u001b[0m\n\u001b[0;32m     79\u001b[0m         \u001b[1;32mif\u001b[0m \u001b[0mcallbacks\u001b[0m\u001b[1;33m.\u001b[0m\u001b[0mbefore_iteration\u001b[0m\u001b[1;33m(\u001b[0m\u001b[0mbst\u001b[0m\u001b[1;33m,\u001b[0m \u001b[0mi\u001b[0m\u001b[1;33m,\u001b[0m \u001b[0mdtrain\u001b[0m\u001b[1;33m,\u001b[0m \u001b[0mevals\u001b[0m\u001b[1;33m)\u001b[0m\u001b[1;33m:\u001b[0m\u001b[1;33m\u001b[0m\u001b[1;33m\u001b[0m\u001b[0m\n\u001b[0;32m     80\u001b[0m             \u001b[1;32mbreak\u001b[0m\u001b[1;33m\u001b[0m\u001b[1;33m\u001b[0m\u001b[0m\n\u001b[1;32m---> 81\u001b[1;33m         \u001b[0mbst\u001b[0m\u001b[1;33m.\u001b[0m\u001b[0mupdate\u001b[0m\u001b[1;33m(\u001b[0m\u001b[0mdtrain\u001b[0m\u001b[1;33m,\u001b[0m \u001b[0mi\u001b[0m\u001b[1;33m,\u001b[0m \u001b[0mobj\u001b[0m\u001b[1;33m)\u001b[0m\u001b[1;33m\u001b[0m\u001b[1;33m\u001b[0m\u001b[0m\n\u001b[0m\u001b[0;32m     82\u001b[0m         \u001b[1;32mif\u001b[0m \u001b[0mcallbacks\u001b[0m\u001b[1;33m.\u001b[0m\u001b[0mafter_iteration\u001b[0m\u001b[1;33m(\u001b[0m\u001b[0mbst\u001b[0m\u001b[1;33m,\u001b[0m \u001b[0mi\u001b[0m\u001b[1;33m,\u001b[0m \u001b[0mdtrain\u001b[0m\u001b[1;33m,\u001b[0m \u001b[0mevals\u001b[0m\u001b[1;33m)\u001b[0m\u001b[1;33m:\u001b[0m\u001b[1;33m\u001b[0m\u001b[1;33m\u001b[0m\u001b[0m\n\u001b[0;32m     83\u001b[0m             \u001b[1;32mbreak\u001b[0m\u001b[1;33m\u001b[0m\u001b[1;33m\u001b[0m\u001b[0m\n",
      "\u001b[1;32mD:\\Programs\\lib\\site-packages\\xgboost\\core.py\u001b[0m in \u001b[0;36mupdate\u001b[1;34m(self, dtrain, iteration, fobj)\u001b[0m\n\u001b[0;32m   1678\u001b[0m \u001b[1;33m\u001b[0m\u001b[0m\n\u001b[0;32m   1679\u001b[0m         \u001b[1;32mif\u001b[0m \u001b[0mfobj\u001b[0m \u001b[1;32mis\u001b[0m \u001b[1;32mNone\u001b[0m\u001b[1;33m:\u001b[0m\u001b[1;33m\u001b[0m\u001b[1;33m\u001b[0m\u001b[0m\n\u001b[1;32m-> 1680\u001b[1;33m             _check_call(_LIB.XGBoosterUpdateOneIter(self.handle,\n\u001b[0m\u001b[0;32m   1681\u001b[0m                                                     \u001b[0mctypes\u001b[0m\u001b[1;33m.\u001b[0m\u001b[0mc_int\u001b[0m\u001b[1;33m(\u001b[0m\u001b[0miteration\u001b[0m\u001b[1;33m)\u001b[0m\u001b[1;33m,\u001b[0m\u001b[1;33m\u001b[0m\u001b[1;33m\u001b[0m\u001b[0m\n\u001b[0;32m   1682\u001b[0m                                                     dtrain.handle))\n",
      "\u001b[1;31mKeyboardInterrupt\u001b[0m: "
     ]
    }
   ],
   "source": [
    "from sklearn.metrics import classification_report\n",
    "from sklearn.metrics import confusion_matrix\n",
    "x_new = XX[1000:1020]\n",
    "lst_1 = list(range(1,20))\n",
    "lst_3 = list(range(50,200))\n",
    "for i in lst_3:\n",
    " for j in lst_1:\n",
    "  model=XGBClassifier(seed = 7, n_estimators = i, max_depth = j, learning_rate = 1,eval_metric='mlogloss')\n",
    "  model.fit(X,Y)\n",
    "  for k in x_new:\n",
    "      predictions = model.predict(XX)\n",
    "      print (f'n_estimators = {i} max_depth = {k}')\n",
    "      print(confusion_matrix(YY, predictions))\n"
   ]
  },
  {
   "cell_type": "code",
   "execution_count": 35,
   "id": "875a1d6f",
   "metadata": {},
   "outputs": [
    {
     "data": {
      "text/plain": [
       "array([2., 3., 2., 3., 3., 2., 2., 2., 2., 3., 4., 1., 3., 2., 3., 1., 1.,\n",
       "       4., 4., 3.])"
      ]
     },
     "execution_count": 35,
     "metadata": {},
     "output_type": "execute_result"
    }
   ],
   "source": [
    "YY[1000:1020]"
   ]
  },
  {
   "cell_type": "code",
   "execution_count": 36,
   "id": "de71b8e9",
   "metadata": {},
   "outputs": [
    {
     "name": "stdout",
     "output_type": "stream",
     "text": [
      "n_estimators:50 глубина: 1 предсказание: [1. 3. 3. 3. 4. 3. 2. 4. 2. 1. 4. 4. 3. 1. 4. 4. 3. 4. 4. 2.]\n",
      "n_estimators:50 глубина: 2 предсказание: [1. 3. 3. 3. 4. 3. 2. 2. 2. 3. 4. 4. 3. 1. 4. 4. 3. 4. 4. 2.]\n",
      "n_estimators:50 глубина: 3 предсказание: [1. 3. 3. 3. 4. 3. 1. 2. 2. 3. 4. 4. 3. 1. 4. 4. 3. 4. 4. 2.]\n",
      "n_estimators:50 глубина: 4 предсказание: [1. 3. 2. 3. 4. 3. 2. 2. 2. 3. 4. 4. 3. 1. 4. 4. 3. 4. 4. 3.]\n",
      "n_estimators:50 глубина: 5 предсказание: [1. 3. 3. 3. 4. 3. 2. 4. 2. 1. 4. 4. 3. 1. 4. 4. 3. 4. 4. 2.]\n",
      "n_estimators:50 глубина: 6 предсказание: [1. 3. 3. 3. 4. 3. 2. 4. 2. 3. 4. 4. 3. 1. 4. 4. 3. 4. 4. 2.]\n",
      "n_estimators:50 глубина: 7 предсказание: [1. 3. 3. 3. 4. 3. 2. 4. 2. 1. 4. 4. 3. 1. 4. 4. 3. 4. 4. 2.]\n",
      "n_estimators:50 глубина: 8 предсказание: [1. 3. 3. 3. 4. 3. 1. 4. 2. 3. 4. 4. 3. 1. 4. 4. 3. 4. 4. 2.]\n",
      "n_estimators:50 глубина: 9 предсказание: [1. 3. 3. 3. 4. 3. 2. 2. 2. 1. 4. 4. 3. 1. 4. 4. 3. 4. 4. 2.]\n",
      "n_estimators:50 глубина: 10 предсказание: [1. 3. 3. 3. 4. 3. 2. 4. 2. 3. 4. 4. 3. 1. 4. 4. 3. 4. 4. 2.]\n",
      "n_estimators:50 глубина: 11 предсказание: [1. 3. 3. 3. 4. 3. 2. 2. 2. 1. 4. 4. 3. 1. 4. 4. 3. 4. 4. 3.]\n",
      "n_estimators:50 глубина: 12 предсказание: [1. 3. 3. 3. 4. 3. 2. 4. 2. 1. 4. 4. 3. 1. 4. 4. 3. 4. 4. 2.]\n",
      "n_estimators:50 глубина: 13 предсказание: [1. 3. 3. 3. 4. 3. 2. 4. 2. 3. 4. 4. 3. 1. 4. 4. 3. 4. 4. 2.]\n",
      "n_estimators:50 глубина: 14 предсказание: [1. 3. 3. 3. 4. 3. 2. 4. 2. 3. 4. 4. 3. 1. 4. 4. 3. 4. 4. 2.]\n",
      "n_estimators:50 глубина: 15 предсказание: [1. 3. 3. 3. 4. 3. 2. 4. 2. 1. 4. 4. 3. 1. 4. 4. 3. 4. 4. 2.]\n",
      "n_estimators:50 глубина: 16 предсказание: [1. 3. 3. 3. 4. 3. 2. 4. 2. 3. 4. 4. 3. 1. 4. 4. 3. 4. 4. 2.]\n",
      "n_estimators:50 глубина: 17 предсказание: [1. 3. 3. 3. 4. 3. 2. 4. 2. 3. 4. 4. 3. 1. 4. 4. 3. 4. 4. 2.]\n",
      "n_estimators:50 глубина: 18 предсказание: [1. 3. 3. 3. 4. 3. 2. 4. 2. 3. 4. 4. 3. 1. 4. 4. 3. 4. 4. 3.]\n",
      "n_estimators:50 глубина: 19 предсказание: [1. 3. 3. 3. 4. 3. 2. 4. 2. 3. 4. 4. 3. 1. 4. 4. 3. 4. 4. 2.]\n",
      "n_estimators:51 глубина: 1 предсказание: [1. 3. 3. 3. 4. 3. 2. 4. 2. 1. 4. 4. 3. 1. 4. 4. 3. 4. 4. 2.]\n",
      "n_estimators:51 глубина: 2 предсказание: [1. 3. 3. 3. 4. 3. 2. 4. 2. 3. 4. 4. 3. 1. 4. 4. 3. 4. 4. 2.]\n",
      "n_estimators:51 глубина: 3 предсказание: [1. 3. 3. 3. 4. 3. 2. 2. 2. 3. 4. 4. 3. 1. 4. 4. 3. 4. 4. 2.]\n",
      "n_estimators:51 глубина: 4 предсказание: [1. 3. 3. 3. 4. 3. 2. 4. 2. 3. 4. 4. 3. 1. 4. 4. 3. 4. 4. 2.]\n",
      "n_estimators:51 глубина: 5 предсказание: [1. 3. 3. 3. 4. 3. 2. 4. 2. 1. 4. 4. 3. 1. 4. 4. 3. 4. 4. 2.]\n",
      "n_estimators:51 глубина: 6 предсказание: [1. 3. 3. 3. 4. 3. 1. 4. 2. 1. 4. 4. 3. 1. 4. 1. 3. 4. 4. 2.]\n",
      "n_estimators:51 глубина: 7 предсказание: [1. 3. 3. 3. 4. 3. 2. 4. 2. 3. 4. 4. 3. 1. 4. 4. 3. 4. 4. 2.]\n",
      "n_estimators:51 глубина: 8 предсказание: [1. 3. 3. 3. 4. 3. 2. 4. 2. 3. 4. 4. 3. 1. 4. 4. 3. 4. 4. 2.]\n",
      "n_estimators:51 глубина: 9 предсказание: [1. 3. 3. 3. 4. 3. 2. 2. 2. 3. 4. 4. 3. 1. 4. 4. 3. 4. 4. 2.]\n",
      "n_estimators:51 глубина: 10 предсказание: [1. 3. 3. 3. 4. 3. 1. 4. 2. 3. 4. 4. 3. 1. 4. 4. 3. 4. 4. 2.]\n",
      "n_estimators:51 глубина: 11 предсказание: [1. 3. 3. 3. 4. 3. 2. 4. 2. 1. 4. 4. 3. 1. 4. 4. 3. 4. 4. 2.]\n",
      "n_estimators:51 глубина: 12 предсказание: [1. 3. 3. 3. 4. 3. 2. 4. 2. 3. 4. 4. 3. 1. 4. 4. 3. 4. 4. 2.]\n",
      "n_estimators:51 глубина: 13 предсказание: [1. 3. 3. 3. 4. 3. 2. 4. 2. 1. 4. 4. 3. 1. 4. 4. 3. 4. 4. 2.]\n",
      "n_estimators:51 глубина: 14 предсказание: [1. 3. 3. 3. 4. 3. 2. 4. 2. 1. 4. 4. 3. 1. 4. 4. 3. 4. 4. 2.]\n",
      "n_estimators:51 глубина: 15 предсказание: [1. 3. 3. 3. 4. 3. 2. 2. 2. 1. 4. 4. 3. 1. 4. 4. 3. 4. 4. 2.]\n",
      "n_estimators:51 глубина: 16 предсказание: [1. 3. 3. 3. 4. 3. 2. 4. 2. 1. 4. 4. 3. 1. 4. 4. 3. 4. 4. 2.]\n",
      "n_estimators:51 глубина: 17 предсказание: [1. 3. 3. 3. 4. 3. 1. 4. 2. 3. 4. 4. 3. 1. 4. 4. 3. 4. 4. 2.]\n",
      "n_estimators:51 глубина: 18 предсказание: [1. 3. 3. 3. 4. 3. 4. 2. 2. 3. 4. 4. 3. 1. 4. 4. 3. 4. 4. 2.]\n",
      "n_estimators:51 глубина: 19 предсказание: [1. 3. 3. 3. 4. 3. 1. 4. 2. 3. 4. 4. 3. 1. 4. 4. 3. 4. 4. 2.]\n",
      "n_estimators:52 глубина: 1 предсказание: [1. 3. 3. 3. 4. 3. 2. 2. 2. 1. 4. 4. 3. 1. 4. 4. 3. 4. 4. 2.]\n",
      "n_estimators:52 глубина: 2 предсказание: [1. 3. 2. 3. 4. 3. 2. 4. 2. 3. 4. 4. 3. 1. 4. 1. 3. 4. 4. 2.]\n",
      "n_estimators:52 глубина: 3 предсказание: [1. 3. 3. 3. 4. 3. 1. 4. 2. 3. 4. 4. 3. 1. 4. 4. 3. 4. 4. 2.]\n",
      "n_estimators:52 глубина: 4 предсказание: [1. 3. 3. 3. 4. 3. 2. 4. 2. 3. 4. 4. 3. 1. 4. 4. 3. 4. 4. 2.]\n",
      "n_estimators:52 глубина: 5 предсказание: [1. 3. 3. 3. 4. 3. 2. 4. 2. 3. 4. 4. 3. 1. 4. 4. 3. 4. 4. 2.]\n",
      "n_estimators:52 глубина: 6 предсказание: [1. 3. 3. 3. 4. 3. 2. 4. 2. 3. 4. 4. 3. 1. 4. 4. 3. 4. 4. 2.]\n",
      "n_estimators:52 глубина: 7 предсказание: [1. 3. 3. 3. 4. 3. 2. 4. 2. 3. 4. 4. 3. 1. 4. 4. 3. 4. 4. 2.]\n",
      "n_estimators:52 глубина: 8 предсказание: [1. 3. 3. 3. 4. 3. 2. 4. 2. 3. 4. 4. 3. 1. 4. 4. 3. 4. 4. 2.]\n",
      "n_estimators:52 глубина: 9 предсказание: [1. 3. 3. 3. 4. 3. 2. 2. 2. 3. 4. 4. 3. 1. 4. 4. 3. 4. 4. 2.]\n",
      "n_estimators:52 глубина: 10 предсказание: [1. 3. 3. 3. 4. 3. 1. 4. 2. 3. 4. 4. 3. 1. 4. 4. 3. 4. 4. 2.]\n",
      "n_estimators:52 глубина: 11 предсказание: [1. 3. 3. 3. 4. 3. 2. 4. 2. 1. 4. 4. 3. 1. 4. 4. 3. 4. 4. 2.]\n",
      "n_estimators:52 глубина: 12 предсказание: [1. 3. 3. 3. 4. 3. 1. 2. 2. 3. 4. 4. 3. 1. 4. 4. 3. 4. 4. 2.]\n",
      "n_estimators:52 глубина: 13 предсказание: [1. 3. 3. 3. 4. 3. 2. 4. 2. 1. 4. 4. 3. 1. 4. 1. 3. 4. 4. 2.]\n",
      "n_estimators:52 глубина: 14 предсказание: [1. 3. 3. 3. 4. 3. 2. 2. 2. 3. 4. 4. 3. 1. 4. 4. 3. 4. 4. 2.]\n",
      "n_estimators:52 глубина: 15 предсказание: [1. 3. 3. 3. 4. 3. 2. 4. 2. 3. 4. 4. 3. 1. 4. 4. 3. 4. 4. 2.]\n",
      "n_estimators:52 глубина: 16 предсказание: [1. 3. 3. 3. 4. 3. 2. 4. 2. 1. 4. 4. 3. 1. 4. 4. 3. 4. 4. 2.]\n",
      "n_estimators:52 глубина: 17 предсказание: [1. 3. 3. 3. 4. 3. 2. 4. 2. 1. 4. 4. 3. 1. 4. 4. 3. 4. 4. 2.]\n",
      "n_estimators:52 глубина: 18 предсказание: [1. 3. 3. 3. 4. 3. 2. 4. 2. 3. 4. 4. 3. 1. 4. 4. 3. 4. 4. 2.]\n",
      "n_estimators:52 глубина: 19 предсказание: [1. 3. 2. 3. 4. 3. 1. 4. 2. 3. 4. 4. 3. 1. 4. 4. 3. 4. 4. 2.]\n",
      "n_estimators:53 глубина: 1 предсказание: [1. 3. 3. 3. 4. 3. 2. 2. 2. 1. 4. 4. 3. 1. 4. 4. 3. 4. 4. 2.]\n",
      "n_estimators:53 глубина: 2 предсказание: [1. 3. 3. 3. 4. 3. 1. 4. 2. 3. 4. 4. 3. 1. 4. 4. 3. 4. 4. 2.]\n",
      "n_estimators:53 глубина: 3 предсказание: [1. 3. 3. 3. 4. 3. 2. 4. 2. 3. 4. 4. 3. 1. 4. 4. 3. 4. 4. 2.]\n",
      "n_estimators:53 глубина: 4 предсказание: [1. 3. 3. 3. 4. 3. 2. 4. 2. 3. 4. 4. 3. 1. 4. 4. 3. 4. 4. 2.]\n",
      "n_estimators:53 глубина: 5 предсказание: [1. 3. 3. 3. 4. 3. 2. 4. 2. 1. 4. 4. 3. 1. 4. 4. 3. 4. 4. 2.]\n",
      "n_estimators:53 глубина: 6 предсказание: [1. 3. 3. 3. 4. 3. 1. 4. 2. 1. 4. 4. 3. 1. 4. 4. 3. 4. 4. 2.]\n",
      "n_estimators:53 глубина: 7 предсказание: [1. 3. 3. 3. 4. 3. 2. 4. 2. 3. 4. 4. 3. 1. 4. 4. 3. 4. 4. 2.]\n",
      "n_estimators:53 глубина: 8 предсказание: [1. 3. 3. 3. 4. 3. 2. 4. 2. 1. 4. 4. 3. 1. 4. 4. 3. 4. 4. 2.]\n"
     ]
    },
    {
     "ename": "KeyboardInterrupt",
     "evalue": "",
     "output_type": "error",
     "traceback": [
      "\u001b[1;31m---------------------------------------------------------------------------\u001b[0m",
      "\u001b[1;31mKeyboardInterrupt\u001b[0m                         Traceback (most recent call last)",
      "\u001b[1;32mC:\\Users\\D9F8~1\\AppData\\Local\\Temp/ipykernel_21960/3705405243.py\u001b[0m in \u001b[0;36m<module>\u001b[1;34m\u001b[0m\n\u001b[0;32m      7\u001b[0m  \u001b[1;32mfor\u001b[0m \u001b[0mj\u001b[0m \u001b[1;32min\u001b[0m \u001b[0mlst_1\u001b[0m\u001b[1;33m:\u001b[0m\u001b[1;33m\u001b[0m\u001b[1;33m\u001b[0m\u001b[0m\n\u001b[0;32m      8\u001b[0m   \u001b[0mmodel\u001b[0m\u001b[1;33m=\u001b[0m\u001b[0mRandomForestClassifier\u001b[0m\u001b[1;33m(\u001b[0m\u001b[0mmax_depth\u001b[0m \u001b[1;33m=\u001b[0m \u001b[1;36m9\u001b[0m\u001b[1;33m,\u001b[0m \u001b[0mmin_samples_leaf\u001b[0m \u001b[1;33m=\u001b[0m \u001b[1;36m2\u001b[0m\u001b[1;33m,\u001b[0m \u001b[0mmin_samples_split\u001b[0m \u001b[1;33m=\u001b[0m \u001b[1;36m2\u001b[0m\u001b[1;33m,\u001b[0m \u001b[0mn_estimators\u001b[0m\u001b[1;33m=\u001b[0m \u001b[1;36m90\u001b[0m\u001b[1;33m)\u001b[0m\u001b[1;33m\u001b[0m\u001b[1;33m\u001b[0m\u001b[0m\n\u001b[1;32m----> 9\u001b[1;33m   \u001b[0mmodel\u001b[0m\u001b[1;33m.\u001b[0m\u001b[0mfit\u001b[0m\u001b[1;33m(\u001b[0m\u001b[0mX\u001b[0m\u001b[1;33m,\u001b[0m\u001b[0mY\u001b[0m\u001b[1;33m)\u001b[0m\u001b[1;33m\u001b[0m\u001b[1;33m\u001b[0m\u001b[0m\n\u001b[0m\u001b[0;32m     10\u001b[0m   \u001b[0mres\u001b[0m \u001b[1;33m=\u001b[0m \u001b[0mmodel\u001b[0m\u001b[1;33m.\u001b[0m\u001b[0mpredict\u001b[0m\u001b[1;33m(\u001b[0m\u001b[0mx_new\u001b[0m\u001b[1;33m)\u001b[0m\u001b[1;33m\u001b[0m\u001b[1;33m\u001b[0m\u001b[0m\n\u001b[0;32m     11\u001b[0m   \u001b[0mprint\u001b[0m\u001b[1;33m(\u001b[0m\u001b[1;34mf'n_estimators:{i} глубина: {j} предсказание: {res}'\u001b[0m\u001b[1;33m)\u001b[0m\u001b[1;33m\u001b[0m\u001b[1;33m\u001b[0m\u001b[0m\n",
      "\u001b[1;32mD:\\Programs\\lib\\site-packages\\sklearn\\ensemble\\_forest.py\u001b[0m in \u001b[0;36mfit\u001b[1;34m(self, X, y, sample_weight)\u001b[0m\n\u001b[0;32m    385\u001b[0m             \u001b[1;31m# parallel_backend contexts set at a higher level,\u001b[0m\u001b[1;33m\u001b[0m\u001b[1;33m\u001b[0m\u001b[0m\n\u001b[0;32m    386\u001b[0m             \u001b[1;31m# since correctness does not rely on using threads.\u001b[0m\u001b[1;33m\u001b[0m\u001b[1;33m\u001b[0m\u001b[0m\n\u001b[1;32m--> 387\u001b[1;33m             trees = Parallel(n_jobs=self.n_jobs, verbose=self.verbose,\n\u001b[0m\u001b[0;32m    388\u001b[0m                              \u001b[1;33m**\u001b[0m\u001b[0m_joblib_parallel_args\u001b[0m\u001b[1;33m(\u001b[0m\u001b[0mprefer\u001b[0m\u001b[1;33m=\u001b[0m\u001b[1;34m'threads'\u001b[0m\u001b[1;33m)\u001b[0m\u001b[1;33m)\u001b[0m\u001b[1;33m(\u001b[0m\u001b[1;33m\u001b[0m\u001b[1;33m\u001b[0m\u001b[0m\n\u001b[0;32m    389\u001b[0m                 delayed(_parallel_build_trees)(\n",
      "\u001b[1;32mD:\\Programs\\lib\\site-packages\\joblib\\parallel.py\u001b[0m in \u001b[0;36m__call__\u001b[1;34m(self, iterable)\u001b[0m\n\u001b[0;32m   1041\u001b[0m             \u001b[1;31m# remaining jobs.\u001b[0m\u001b[1;33m\u001b[0m\u001b[1;33m\u001b[0m\u001b[0m\n\u001b[0;32m   1042\u001b[0m             \u001b[0mself\u001b[0m\u001b[1;33m.\u001b[0m\u001b[0m_iterating\u001b[0m \u001b[1;33m=\u001b[0m \u001b[1;32mFalse\u001b[0m\u001b[1;33m\u001b[0m\u001b[1;33m\u001b[0m\u001b[0m\n\u001b[1;32m-> 1043\u001b[1;33m             \u001b[1;32mif\u001b[0m \u001b[0mself\u001b[0m\u001b[1;33m.\u001b[0m\u001b[0mdispatch_one_batch\u001b[0m\u001b[1;33m(\u001b[0m\u001b[0miterator\u001b[0m\u001b[1;33m)\u001b[0m\u001b[1;33m:\u001b[0m\u001b[1;33m\u001b[0m\u001b[1;33m\u001b[0m\u001b[0m\n\u001b[0m\u001b[0;32m   1044\u001b[0m                 \u001b[0mself\u001b[0m\u001b[1;33m.\u001b[0m\u001b[0m_iterating\u001b[0m \u001b[1;33m=\u001b[0m \u001b[0mself\u001b[0m\u001b[1;33m.\u001b[0m\u001b[0m_original_iterator\u001b[0m \u001b[1;32mis\u001b[0m \u001b[1;32mnot\u001b[0m \u001b[1;32mNone\u001b[0m\u001b[1;33m\u001b[0m\u001b[1;33m\u001b[0m\u001b[0m\n\u001b[0;32m   1045\u001b[0m \u001b[1;33m\u001b[0m\u001b[0m\n",
      "\u001b[1;32mD:\\Programs\\lib\\site-packages\\joblib\\parallel.py\u001b[0m in \u001b[0;36mdispatch_one_batch\u001b[1;34m(self, iterator)\u001b[0m\n\u001b[0;32m    859\u001b[0m                 \u001b[1;32mreturn\u001b[0m \u001b[1;32mFalse\u001b[0m\u001b[1;33m\u001b[0m\u001b[1;33m\u001b[0m\u001b[0m\n\u001b[0;32m    860\u001b[0m             \u001b[1;32melse\u001b[0m\u001b[1;33m:\u001b[0m\u001b[1;33m\u001b[0m\u001b[1;33m\u001b[0m\u001b[0m\n\u001b[1;32m--> 861\u001b[1;33m                 \u001b[0mself\u001b[0m\u001b[1;33m.\u001b[0m\u001b[0m_dispatch\u001b[0m\u001b[1;33m(\u001b[0m\u001b[0mtasks\u001b[0m\u001b[1;33m)\u001b[0m\u001b[1;33m\u001b[0m\u001b[1;33m\u001b[0m\u001b[0m\n\u001b[0m\u001b[0;32m    862\u001b[0m                 \u001b[1;32mreturn\u001b[0m \u001b[1;32mTrue\u001b[0m\u001b[1;33m\u001b[0m\u001b[1;33m\u001b[0m\u001b[0m\n\u001b[0;32m    863\u001b[0m \u001b[1;33m\u001b[0m\u001b[0m\n",
      "\u001b[1;32mD:\\Programs\\lib\\site-packages\\joblib\\parallel.py\u001b[0m in \u001b[0;36m_dispatch\u001b[1;34m(self, batch)\u001b[0m\n\u001b[0;32m    777\u001b[0m         \u001b[1;32mwith\u001b[0m \u001b[0mself\u001b[0m\u001b[1;33m.\u001b[0m\u001b[0m_lock\u001b[0m\u001b[1;33m:\u001b[0m\u001b[1;33m\u001b[0m\u001b[1;33m\u001b[0m\u001b[0m\n\u001b[0;32m    778\u001b[0m             \u001b[0mjob_idx\u001b[0m \u001b[1;33m=\u001b[0m \u001b[0mlen\u001b[0m\u001b[1;33m(\u001b[0m\u001b[0mself\u001b[0m\u001b[1;33m.\u001b[0m\u001b[0m_jobs\u001b[0m\u001b[1;33m)\u001b[0m\u001b[1;33m\u001b[0m\u001b[1;33m\u001b[0m\u001b[0m\n\u001b[1;32m--> 779\u001b[1;33m             \u001b[0mjob\u001b[0m \u001b[1;33m=\u001b[0m \u001b[0mself\u001b[0m\u001b[1;33m.\u001b[0m\u001b[0m_backend\u001b[0m\u001b[1;33m.\u001b[0m\u001b[0mapply_async\u001b[0m\u001b[1;33m(\u001b[0m\u001b[0mbatch\u001b[0m\u001b[1;33m,\u001b[0m \u001b[0mcallback\u001b[0m\u001b[1;33m=\u001b[0m\u001b[0mcb\u001b[0m\u001b[1;33m)\u001b[0m\u001b[1;33m\u001b[0m\u001b[1;33m\u001b[0m\u001b[0m\n\u001b[0m\u001b[0;32m    780\u001b[0m             \u001b[1;31m# A job can complete so quickly than its callback is\u001b[0m\u001b[1;33m\u001b[0m\u001b[1;33m\u001b[0m\u001b[0m\n\u001b[0;32m    781\u001b[0m             \u001b[1;31m# called before we get here, causing self._jobs to\u001b[0m\u001b[1;33m\u001b[0m\u001b[1;33m\u001b[0m\u001b[0m\n",
      "\u001b[1;32mD:\\Programs\\lib\\site-packages\\joblib\\_parallel_backends.py\u001b[0m in \u001b[0;36mapply_async\u001b[1;34m(self, func, callback)\u001b[0m\n\u001b[0;32m    206\u001b[0m     \u001b[1;32mdef\u001b[0m \u001b[0mapply_async\u001b[0m\u001b[1;33m(\u001b[0m\u001b[0mself\u001b[0m\u001b[1;33m,\u001b[0m \u001b[0mfunc\u001b[0m\u001b[1;33m,\u001b[0m \u001b[0mcallback\u001b[0m\u001b[1;33m=\u001b[0m\u001b[1;32mNone\u001b[0m\u001b[1;33m)\u001b[0m\u001b[1;33m:\u001b[0m\u001b[1;33m\u001b[0m\u001b[1;33m\u001b[0m\u001b[0m\n\u001b[0;32m    207\u001b[0m         \u001b[1;34m\"\"\"Schedule a func to be run\"\"\"\u001b[0m\u001b[1;33m\u001b[0m\u001b[1;33m\u001b[0m\u001b[0m\n\u001b[1;32m--> 208\u001b[1;33m         \u001b[0mresult\u001b[0m \u001b[1;33m=\u001b[0m \u001b[0mImmediateResult\u001b[0m\u001b[1;33m(\u001b[0m\u001b[0mfunc\u001b[0m\u001b[1;33m)\u001b[0m\u001b[1;33m\u001b[0m\u001b[1;33m\u001b[0m\u001b[0m\n\u001b[0m\u001b[0;32m    209\u001b[0m         \u001b[1;32mif\u001b[0m \u001b[0mcallback\u001b[0m\u001b[1;33m:\u001b[0m\u001b[1;33m\u001b[0m\u001b[1;33m\u001b[0m\u001b[0m\n\u001b[0;32m    210\u001b[0m             \u001b[0mcallback\u001b[0m\u001b[1;33m(\u001b[0m\u001b[0mresult\u001b[0m\u001b[1;33m)\u001b[0m\u001b[1;33m\u001b[0m\u001b[1;33m\u001b[0m\u001b[0m\n",
      "\u001b[1;32mD:\\Programs\\lib\\site-packages\\joblib\\_parallel_backends.py\u001b[0m in \u001b[0;36m__init__\u001b[1;34m(self, batch)\u001b[0m\n\u001b[0;32m    570\u001b[0m         \u001b[1;31m# Don't delay the application, to avoid keeping the input\u001b[0m\u001b[1;33m\u001b[0m\u001b[1;33m\u001b[0m\u001b[0m\n\u001b[0;32m    571\u001b[0m         \u001b[1;31m# arguments in memory\u001b[0m\u001b[1;33m\u001b[0m\u001b[1;33m\u001b[0m\u001b[0m\n\u001b[1;32m--> 572\u001b[1;33m         \u001b[0mself\u001b[0m\u001b[1;33m.\u001b[0m\u001b[0mresults\u001b[0m \u001b[1;33m=\u001b[0m \u001b[0mbatch\u001b[0m\u001b[1;33m(\u001b[0m\u001b[1;33m)\u001b[0m\u001b[1;33m\u001b[0m\u001b[1;33m\u001b[0m\u001b[0m\n\u001b[0m\u001b[0;32m    573\u001b[0m \u001b[1;33m\u001b[0m\u001b[0m\n\u001b[0;32m    574\u001b[0m     \u001b[1;32mdef\u001b[0m \u001b[0mget\u001b[0m\u001b[1;33m(\u001b[0m\u001b[0mself\u001b[0m\u001b[1;33m)\u001b[0m\u001b[1;33m:\u001b[0m\u001b[1;33m\u001b[0m\u001b[1;33m\u001b[0m\u001b[0m\n",
      "\u001b[1;32mD:\\Programs\\lib\\site-packages\\joblib\\parallel.py\u001b[0m in \u001b[0;36m__call__\u001b[1;34m(self)\u001b[0m\n\u001b[0;32m    260\u001b[0m         \u001b[1;31m# change the default number of processes to -1\u001b[0m\u001b[1;33m\u001b[0m\u001b[1;33m\u001b[0m\u001b[0m\n\u001b[0;32m    261\u001b[0m         \u001b[1;32mwith\u001b[0m \u001b[0mparallel_backend\u001b[0m\u001b[1;33m(\u001b[0m\u001b[0mself\u001b[0m\u001b[1;33m.\u001b[0m\u001b[0m_backend\u001b[0m\u001b[1;33m,\u001b[0m \u001b[0mn_jobs\u001b[0m\u001b[1;33m=\u001b[0m\u001b[0mself\u001b[0m\u001b[1;33m.\u001b[0m\u001b[0m_n_jobs\u001b[0m\u001b[1;33m)\u001b[0m\u001b[1;33m:\u001b[0m\u001b[1;33m\u001b[0m\u001b[1;33m\u001b[0m\u001b[0m\n\u001b[1;32m--> 262\u001b[1;33m             return [func(*args, **kwargs)\n\u001b[0m\u001b[0;32m    263\u001b[0m                     for func, args, kwargs in self.items]\n\u001b[0;32m    264\u001b[0m \u001b[1;33m\u001b[0m\u001b[0m\n",
      "\u001b[1;32mD:\\Programs\\lib\\site-packages\\joblib\\parallel.py\u001b[0m in \u001b[0;36m<listcomp>\u001b[1;34m(.0)\u001b[0m\n\u001b[0;32m    260\u001b[0m         \u001b[1;31m# change the default number of processes to -1\u001b[0m\u001b[1;33m\u001b[0m\u001b[1;33m\u001b[0m\u001b[0m\n\u001b[0;32m    261\u001b[0m         \u001b[1;32mwith\u001b[0m \u001b[0mparallel_backend\u001b[0m\u001b[1;33m(\u001b[0m\u001b[0mself\u001b[0m\u001b[1;33m.\u001b[0m\u001b[0m_backend\u001b[0m\u001b[1;33m,\u001b[0m \u001b[0mn_jobs\u001b[0m\u001b[1;33m=\u001b[0m\u001b[0mself\u001b[0m\u001b[1;33m.\u001b[0m\u001b[0m_n_jobs\u001b[0m\u001b[1;33m)\u001b[0m\u001b[1;33m:\u001b[0m\u001b[1;33m\u001b[0m\u001b[1;33m\u001b[0m\u001b[0m\n\u001b[1;32m--> 262\u001b[1;33m             return [func(*args, **kwargs)\n\u001b[0m\u001b[0;32m    263\u001b[0m                     for func, args, kwargs in self.items]\n\u001b[0;32m    264\u001b[0m \u001b[1;33m\u001b[0m\u001b[0m\n",
      "\u001b[1;32mD:\\Programs\\lib\\site-packages\\sklearn\\utils\\fixes.py\u001b[0m in \u001b[0;36m__call__\u001b[1;34m(self, *args, **kwargs)\u001b[0m\n\u001b[0;32m    220\u001b[0m     \u001b[1;32mdef\u001b[0m \u001b[0m__call__\u001b[0m\u001b[1;33m(\u001b[0m\u001b[0mself\u001b[0m\u001b[1;33m,\u001b[0m \u001b[1;33m*\u001b[0m\u001b[0margs\u001b[0m\u001b[1;33m,\u001b[0m \u001b[1;33m**\u001b[0m\u001b[0mkwargs\u001b[0m\u001b[1;33m)\u001b[0m\u001b[1;33m:\u001b[0m\u001b[1;33m\u001b[0m\u001b[1;33m\u001b[0m\u001b[0m\n\u001b[0;32m    221\u001b[0m         \u001b[1;32mwith\u001b[0m \u001b[0mconfig_context\u001b[0m\u001b[1;33m(\u001b[0m\u001b[1;33m**\u001b[0m\u001b[0mself\u001b[0m\u001b[1;33m.\u001b[0m\u001b[0mconfig\u001b[0m\u001b[1;33m)\u001b[0m\u001b[1;33m:\u001b[0m\u001b[1;33m\u001b[0m\u001b[1;33m\u001b[0m\u001b[0m\n\u001b[1;32m--> 222\u001b[1;33m             \u001b[1;32mreturn\u001b[0m \u001b[0mself\u001b[0m\u001b[1;33m.\u001b[0m\u001b[0mfunction\u001b[0m\u001b[1;33m(\u001b[0m\u001b[1;33m*\u001b[0m\u001b[0margs\u001b[0m\u001b[1;33m,\u001b[0m \u001b[1;33m**\u001b[0m\u001b[0mkwargs\u001b[0m\u001b[1;33m)\u001b[0m\u001b[1;33m\u001b[0m\u001b[1;33m\u001b[0m\u001b[0m\n\u001b[0m",
      "\u001b[1;32mD:\\Programs\\lib\\site-packages\\sklearn\\ensemble\\_forest.py\u001b[0m in \u001b[0;36m_parallel_build_trees\u001b[1;34m(tree, forest, X, y, sample_weight, tree_idx, n_trees, verbose, class_weight, n_samples_bootstrap)\u001b[0m\n\u001b[0;32m    153\u001b[0m             \u001b[0mcurr_sample_weight\u001b[0m \u001b[1;33m=\u001b[0m \u001b[0msample_weight\u001b[0m\u001b[1;33m.\u001b[0m\u001b[0mcopy\u001b[0m\u001b[1;33m(\u001b[0m\u001b[1;33m)\u001b[0m\u001b[1;33m\u001b[0m\u001b[1;33m\u001b[0m\u001b[0m\n\u001b[0;32m    154\u001b[0m \u001b[1;33m\u001b[0m\u001b[0m\n\u001b[1;32m--> 155\u001b[1;33m         indices = _generate_sample_indices(tree.random_state, n_samples,\n\u001b[0m\u001b[0;32m    156\u001b[0m                                            n_samples_bootstrap)\n\u001b[0;32m    157\u001b[0m         \u001b[0msample_counts\u001b[0m \u001b[1;33m=\u001b[0m \u001b[0mnp\u001b[0m\u001b[1;33m.\u001b[0m\u001b[0mbincount\u001b[0m\u001b[1;33m(\u001b[0m\u001b[0mindices\u001b[0m\u001b[1;33m,\u001b[0m \u001b[0mminlength\u001b[0m\u001b[1;33m=\u001b[0m\u001b[0mn_samples\u001b[0m\u001b[1;33m)\u001b[0m\u001b[1;33m\u001b[0m\u001b[1;33m\u001b[0m\u001b[0m\n",
      "\u001b[1;32mD:\\Programs\\lib\\site-packages\\sklearn\\ensemble\\_forest.py\u001b[0m in \u001b[0;36m_generate_sample_indices\u001b[1;34m(random_state, n_samples, n_samples_bootstrap)\u001b[0m\n\u001b[0;32m    120\u001b[0m \u001b[1;33m\u001b[0m\u001b[0m\n\u001b[0;32m    121\u001b[0m     \u001b[0mrandom_instance\u001b[0m \u001b[1;33m=\u001b[0m \u001b[0mcheck_random_state\u001b[0m\u001b[1;33m(\u001b[0m\u001b[0mrandom_state\u001b[0m\u001b[1;33m)\u001b[0m\u001b[1;33m\u001b[0m\u001b[1;33m\u001b[0m\u001b[0m\n\u001b[1;32m--> 122\u001b[1;33m     \u001b[0msample_indices\u001b[0m \u001b[1;33m=\u001b[0m \u001b[0mrandom_instance\u001b[0m\u001b[1;33m.\u001b[0m\u001b[0mrandint\u001b[0m\u001b[1;33m(\u001b[0m\u001b[1;36m0\u001b[0m\u001b[1;33m,\u001b[0m \u001b[0mn_samples\u001b[0m\u001b[1;33m,\u001b[0m \u001b[0mn_samples_bootstrap\u001b[0m\u001b[1;33m)\u001b[0m\u001b[1;33m\u001b[0m\u001b[1;33m\u001b[0m\u001b[0m\n\u001b[0m\u001b[0;32m    123\u001b[0m \u001b[1;33m\u001b[0m\u001b[0m\n\u001b[0;32m    124\u001b[0m     \u001b[1;32mreturn\u001b[0m \u001b[0msample_indices\u001b[0m\u001b[1;33m\u001b[0m\u001b[1;33m\u001b[0m\u001b[0m\n",
      "\u001b[1;31mKeyboardInterrupt\u001b[0m: "
     ]
    }
   ],
   "source": [
    "x_new = XX[1000:1020]\n",
    "lst_1 = list(range(1,20))\n",
    "lst_3 = list(range(50,200))\n",
    "\n",
    "#k = []\n",
    "for i in lst_3:\n",
    " for j in lst_1:\n",
    "  model=RandomForestClassifier(max_depth = 9, min_samples_leaf = 2, min_samples_split = 2, n_estimators= 90)\n",
    "  model.fit(X,Y)\n",
    "  res = model.predict(x_new)\n",
    "  print(f'n_estimators:{i} глубина: {j} предсказание: {res}')\n",
    "#  k.append(res)"
   ]
  },
  {
   "cell_type": "code",
   "execution_count": null,
   "id": "4adf92af",
   "metadata": {},
   "outputs": [],
   "source": []
  },
  {
   "cell_type": "code",
   "execution_count": null,
   "id": "2fc65524",
   "metadata": {},
   "outputs": [],
   "source": []
  },
  {
   "cell_type": "code",
   "execution_count": 32,
   "id": "60cd3dae",
   "metadata": {
    "collapsed": true
   },
   "outputs": [
    {
     "name": "stderr",
     "output_type": "stream",
     "text": [
      "D:\\Programs\\lib\\site-packages\\xgboost\\sklearn.py:1224: UserWarning: The use of label encoder in XGBClassifier is deprecated and will be removed in a future release. To remove this warning, do the following: 1) Pass option use_label_encoder=False when constructing XGBClassifier object; and 2) Encode your labels (y) as integers starting with 0, i.e. 0, 1, 2, ..., [num_class - 1].\n",
      "  warnings.warn(label_encoder_deprecation_msg, UserWarning)\n",
      "D:\\Programs\\lib\\site-packages\\xgboost\\sklearn.py:1224: UserWarning: The use of label encoder in XGBClassifier is deprecated and will be removed in a future release. To remove this warning, do the following: 1) Pass option use_label_encoder=False when constructing XGBClassifier object; and 2) Encode your labels (y) as integers starting with 0, i.e. 0, 1, 2, ..., [num_class - 1].\n",
      "  warnings.warn(label_encoder_deprecation_msg, UserWarning)\n",
      "D:\\Programs\\lib\\site-packages\\xgboost\\sklearn.py:1224: UserWarning: The use of label encoder in XGBClassifier is deprecated and will be removed in a future release. To remove this warning, do the following: 1) Pass option use_label_encoder=False when constructing XGBClassifier object; and 2) Encode your labels (y) as integers starting with 0, i.e. 0, 1, 2, ..., [num_class - 1].\n",
      "  warnings.warn(label_encoder_deprecation_msg, UserWarning)\n",
      "D:\\Programs\\lib\\site-packages\\xgboost\\sklearn.py:1224: UserWarning: The use of label encoder in XGBClassifier is deprecated and will be removed in a future release. To remove this warning, do the following: 1) Pass option use_label_encoder=False when constructing XGBClassifier object; and 2) Encode your labels (y) as integers starting with 0, i.e. 0, 1, 2, ..., [num_class - 1].\n",
      "  warnings.warn(label_encoder_deprecation_msg, UserWarning)\n"
     ]
    },
    {
     "ename": "KeyboardInterrupt",
     "evalue": "",
     "output_type": "error",
     "traceback": [
      "\u001b[1;31m---------------------------------------------------------------------------\u001b[0m",
      "\u001b[1;31mKeyboardInterrupt\u001b[0m                         Traceback (most recent call last)",
      "\u001b[1;32mC:\\Users\\D9F8~1\\AppData\\Local\\Temp/ipykernel_10300/3403117368.py\u001b[0m in \u001b[0;36m<module>\u001b[1;34m\u001b[0m\n\u001b[0;32m      5\u001b[0m \u001b[0mresults\u001b[0m\u001b[1;33m=\u001b[0m\u001b[0mcross_val_score\u001b[0m\u001b[1;33m(\u001b[0m\u001b[0mmodel\u001b[0m\u001b[1;33m,\u001b[0m \u001b[0mX\u001b[0m\u001b[1;33m,\u001b[0m \u001b[0mY\u001b[0m\u001b[1;33m,\u001b[0m \u001b[0mcv\u001b[0m\u001b[1;33m=\u001b[0m\u001b[0mkfold\u001b[0m\u001b[1;33m)\u001b[0m\u001b[1;33m\u001b[0m\u001b[1;33m\u001b[0m\u001b[0m\n\u001b[0;32m      6\u001b[0m \u001b[1;33m\u001b[0m\u001b[0m\n\u001b[1;32m----> 7\u001b[1;33m \u001b[0mmodel\u001b[0m\u001b[1;33m.\u001b[0m\u001b[0mfit\u001b[0m\u001b[1;33m(\u001b[0m\u001b[0mX\u001b[0m\u001b[1;33m,\u001b[0m\u001b[0mY\u001b[0m\u001b[1;33m)\u001b[0m\u001b[1;33m\u001b[0m\u001b[1;33m\u001b[0m\u001b[0m\n\u001b[0m\u001b[0;32m      8\u001b[0m \u001b[1;33m\u001b[0m\u001b[0m\n\u001b[0;32m      9\u001b[0m \u001b[0mresults\u001b[0m\u001b[1;33m.\u001b[0m\u001b[0mmean\u001b[0m\u001b[1;33m(\u001b[0m\u001b[1;33m)\u001b[0m\u001b[1;33m,\u001b[0m\u001b[0mresults\u001b[0m\u001b[1;33m.\u001b[0m\u001b[0mstd\u001b[0m\u001b[1;33m(\u001b[0m\u001b[1;33m)\u001b[0m\u001b[1;33m\u001b[0m\u001b[1;33m\u001b[0m\u001b[0m\n",
      "\u001b[1;32mD:\\Programs\\lib\\site-packages\\xgboost\\core.py\u001b[0m in \u001b[0;36minner_f\u001b[1;34m(*args, **kwargs)\u001b[0m\n\u001b[0;32m    504\u001b[0m         \u001b[1;32mfor\u001b[0m \u001b[0mk\u001b[0m\u001b[1;33m,\u001b[0m \u001b[0marg\u001b[0m \u001b[1;32min\u001b[0m \u001b[0mzip\u001b[0m\u001b[1;33m(\u001b[0m\u001b[0msig\u001b[0m\u001b[1;33m.\u001b[0m\u001b[0mparameters\u001b[0m\u001b[1;33m,\u001b[0m \u001b[0margs\u001b[0m\u001b[1;33m)\u001b[0m\u001b[1;33m:\u001b[0m\u001b[1;33m\u001b[0m\u001b[1;33m\u001b[0m\u001b[0m\n\u001b[0;32m    505\u001b[0m             \u001b[0mkwargs\u001b[0m\u001b[1;33m[\u001b[0m\u001b[0mk\u001b[0m\u001b[1;33m]\u001b[0m \u001b[1;33m=\u001b[0m \u001b[0marg\u001b[0m\u001b[1;33m\u001b[0m\u001b[1;33m\u001b[0m\u001b[0m\n\u001b[1;32m--> 506\u001b[1;33m         \u001b[1;32mreturn\u001b[0m \u001b[0mf\u001b[0m\u001b[1;33m(\u001b[0m\u001b[1;33m**\u001b[0m\u001b[0mkwargs\u001b[0m\u001b[1;33m)\u001b[0m\u001b[1;33m\u001b[0m\u001b[1;33m\u001b[0m\u001b[0m\n\u001b[0m\u001b[0;32m    507\u001b[0m \u001b[1;33m\u001b[0m\u001b[0m\n\u001b[0;32m    508\u001b[0m     \u001b[1;32mreturn\u001b[0m \u001b[0minner_f\u001b[0m\u001b[1;33m\u001b[0m\u001b[1;33m\u001b[0m\u001b[0m\n",
      "\u001b[1;32mD:\\Programs\\lib\\site-packages\\xgboost\\sklearn.py\u001b[0m in \u001b[0;36mfit\u001b[1;34m(self, X, y, sample_weight, base_margin, eval_set, eval_metric, early_stopping_rounds, verbose, xgb_model, sample_weight_eval_set, base_margin_eval_set, feature_weights, callbacks)\u001b[0m\n\u001b[0;32m   1248\u001b[0m         )\n\u001b[0;32m   1249\u001b[0m \u001b[1;33m\u001b[0m\u001b[0m\n\u001b[1;32m-> 1250\u001b[1;33m         self._Booster = train(\n\u001b[0m\u001b[0;32m   1251\u001b[0m             \u001b[0mparams\u001b[0m\u001b[1;33m,\u001b[0m\u001b[1;33m\u001b[0m\u001b[1;33m\u001b[0m\u001b[0m\n\u001b[0;32m   1252\u001b[0m             \u001b[0mtrain_dmatrix\u001b[0m\u001b[1;33m,\u001b[0m\u001b[1;33m\u001b[0m\u001b[1;33m\u001b[0m\u001b[0m\n",
      "\u001b[1;32mD:\\Programs\\lib\\site-packages\\xgboost\\training.py\u001b[0m in \u001b[0;36mtrain\u001b[1;34m(params, dtrain, num_boost_round, evals, obj, feval, maximize, early_stopping_rounds, evals_result, verbose_eval, xgb_model, callbacks)\u001b[0m\n\u001b[0;32m    186\u001b[0m     \u001b[0mBooster\u001b[0m \u001b[1;33m:\u001b[0m \u001b[0ma\u001b[0m \u001b[0mtrained\u001b[0m \u001b[0mbooster\u001b[0m \u001b[0mmodel\u001b[0m\u001b[1;33m\u001b[0m\u001b[1;33m\u001b[0m\u001b[0m\n\u001b[0;32m    187\u001b[0m     \"\"\"\n\u001b[1;32m--> 188\u001b[1;33m     bst = _train_internal(params, dtrain,\n\u001b[0m\u001b[0;32m    189\u001b[0m                           \u001b[0mnum_boost_round\u001b[0m\u001b[1;33m=\u001b[0m\u001b[0mnum_boost_round\u001b[0m\u001b[1;33m,\u001b[0m\u001b[1;33m\u001b[0m\u001b[1;33m\u001b[0m\u001b[0m\n\u001b[0;32m    190\u001b[0m                           \u001b[0mevals\u001b[0m\u001b[1;33m=\u001b[0m\u001b[0mevals\u001b[0m\u001b[1;33m,\u001b[0m\u001b[1;33m\u001b[0m\u001b[1;33m\u001b[0m\u001b[0m\n",
      "\u001b[1;32mD:\\Programs\\lib\\site-packages\\xgboost\\training.py\u001b[0m in \u001b[0;36m_train_internal\u001b[1;34m(params, dtrain, num_boost_round, evals, obj, feval, xgb_model, callbacks, evals_result, maximize, verbose_eval, early_stopping_rounds)\u001b[0m\n\u001b[0;32m     79\u001b[0m         \u001b[1;32mif\u001b[0m \u001b[0mcallbacks\u001b[0m\u001b[1;33m.\u001b[0m\u001b[0mbefore_iteration\u001b[0m\u001b[1;33m(\u001b[0m\u001b[0mbst\u001b[0m\u001b[1;33m,\u001b[0m \u001b[0mi\u001b[0m\u001b[1;33m,\u001b[0m \u001b[0mdtrain\u001b[0m\u001b[1;33m,\u001b[0m \u001b[0mevals\u001b[0m\u001b[1;33m)\u001b[0m\u001b[1;33m:\u001b[0m\u001b[1;33m\u001b[0m\u001b[1;33m\u001b[0m\u001b[0m\n\u001b[0;32m     80\u001b[0m             \u001b[1;32mbreak\u001b[0m\u001b[1;33m\u001b[0m\u001b[1;33m\u001b[0m\u001b[0m\n\u001b[1;32m---> 81\u001b[1;33m         \u001b[0mbst\u001b[0m\u001b[1;33m.\u001b[0m\u001b[0mupdate\u001b[0m\u001b[1;33m(\u001b[0m\u001b[0mdtrain\u001b[0m\u001b[1;33m,\u001b[0m \u001b[0mi\u001b[0m\u001b[1;33m,\u001b[0m \u001b[0mobj\u001b[0m\u001b[1;33m)\u001b[0m\u001b[1;33m\u001b[0m\u001b[1;33m\u001b[0m\u001b[0m\n\u001b[0m\u001b[0;32m     82\u001b[0m         \u001b[1;32mif\u001b[0m \u001b[0mcallbacks\u001b[0m\u001b[1;33m.\u001b[0m\u001b[0mafter_iteration\u001b[0m\u001b[1;33m(\u001b[0m\u001b[0mbst\u001b[0m\u001b[1;33m,\u001b[0m \u001b[0mi\u001b[0m\u001b[1;33m,\u001b[0m \u001b[0mdtrain\u001b[0m\u001b[1;33m,\u001b[0m \u001b[0mevals\u001b[0m\u001b[1;33m)\u001b[0m\u001b[1;33m:\u001b[0m\u001b[1;33m\u001b[0m\u001b[1;33m\u001b[0m\u001b[0m\n\u001b[0;32m     83\u001b[0m             \u001b[1;32mbreak\u001b[0m\u001b[1;33m\u001b[0m\u001b[1;33m\u001b[0m\u001b[0m\n",
      "\u001b[1;32mD:\\Programs\\lib\\site-packages\\xgboost\\core.py\u001b[0m in \u001b[0;36mupdate\u001b[1;34m(self, dtrain, iteration, fobj)\u001b[0m\n\u001b[0;32m   1678\u001b[0m \u001b[1;33m\u001b[0m\u001b[0m\n\u001b[0;32m   1679\u001b[0m         \u001b[1;32mif\u001b[0m \u001b[0mfobj\u001b[0m \u001b[1;32mis\u001b[0m \u001b[1;32mNone\u001b[0m\u001b[1;33m:\u001b[0m\u001b[1;33m\u001b[0m\u001b[1;33m\u001b[0m\u001b[0m\n\u001b[1;32m-> 1680\u001b[1;33m             _check_call(_LIB.XGBoosterUpdateOneIter(self.handle,\n\u001b[0m\u001b[0;32m   1681\u001b[0m                                                     \u001b[0mctypes\u001b[0m\u001b[1;33m.\u001b[0m\u001b[0mc_int\u001b[0m\u001b[1;33m(\u001b[0m\u001b[0miteration\u001b[0m\u001b[1;33m)\u001b[0m\u001b[1;33m,\u001b[0m\u001b[1;33m\u001b[0m\u001b[1;33m\u001b[0m\u001b[0m\n\u001b[0;32m   1682\u001b[0m                                                     dtrain.handle))\n",
      "\u001b[1;31mKeyboardInterrupt\u001b[0m: "
     ]
    }
   ],
   "source": [
    "kfold=KFold(n_splits=3,random_state=7,shuffle=True)\n",
    "\n",
    "model=XGBClassifier(seed = 7, n_estimators = 50, max_depth = 12, learning_rate = 0.3,eval_metric='mlogloss')\n",
    "\n",
    "results=cross_val_score(model, X, Y, cv=kfold)\n",
    "\n",
    "model.fit(X,Y)\n",
    "\n",
    "results.mean(),results.std()"
   ]
  },
  {
   "cell_type": "code",
   "execution_count": null,
   "id": "712325f1",
   "metadata": {},
   "outputs": [],
   "source": []
  },
  {
   "cell_type": "code",
   "execution_count": null,
   "id": "f39c65ae",
   "metadata": {},
   "outputs": [],
   "source": [
    "============================================================================================================="
   ]
  },
  {
   "cell_type": "code",
   "execution_count": 1,
   "id": "cc76e7f4",
   "metadata": {},
   "outputs": [],
   "source": [
    "import pandas as pd\n",
    "import numpy as np\n",
    "from pandas import read_csv"
   ]
  },
  {
   "cell_type": "code",
   "execution_count": 2,
   "id": "087dd9aa",
   "metadata": {
    "scrolled": true
   },
   "outputs": [],
   "source": [
    "df=read_csv('D:\\Политех\\Класиффикация\\Сегментация_клиентов\\Train_cleared_!!!!!!!!.csv')"
   ]
  },
  {
   "cell_type": "code",
   "execution_count": 3,
   "id": "dc9a454a",
   "metadata": {},
   "outputs": [],
   "source": [
    "df=df.filter(regex='^(?!.*Unnamed).*$')"
   ]
  },
  {
   "cell_type": "code",
   "execution_count": 4,
   "id": "1b91896f",
   "metadata": {},
   "outputs": [],
   "source": [
    "df_T=read_csv('D:\\Политех\\Класиффикация\\Сегментация_клиентов\\Test_cleared_!!!!!!!!.csv')"
   ]
  },
  {
   "cell_type": "code",
   "execution_count": 5,
   "id": "9735e536",
   "metadata": {},
   "outputs": [],
   "source": [
    "df_T=df_T.filter(regex='^(?!.*Unnamed).*$')"
   ]
  },
  {
   "cell_type": "markdown",
   "id": "375b0add",
   "metadata": {},
   "source": [
    "**Обучающий_набор**"
   ]
  },
  {
   "cell_type": "code",
   "execution_count": 6,
   "id": "8c1cf487",
   "metadata": {},
   "outputs": [],
   "source": [
    "array = df.values\n",
    "array\n",
    "X = array[:,0:9]\n",
    "Y = array[:,9]"
   ]
  },
  {
   "cell_type": "markdown",
   "id": "d04b2067",
   "metadata": {},
   "source": [
    "**Тестовый_набор**"
   ]
  },
  {
   "cell_type": "code",
   "execution_count": 7,
   "id": "132abcb0",
   "metadata": {},
   "outputs": [],
   "source": [
    "array_T = df_T.values\n",
    "array_T\n",
    "XX = array_T[:,0:9]\n",
    "YY = array_T[:,9]"
   ]
  },
  {
   "cell_type": "code",
   "execution_count": 8,
   "id": "34be40c2",
   "metadata": {},
   "outputs": [],
   "source": [
    "from sklearn.model_selection import KFold\n",
    "from sklearn.model_selection import cross_val_score\n",
    "# отбор признаков:\n",
    "from sklearn.feature_selection import SelectKBest\n",
    "from sklearn.feature_selection import f_classif\n",
    "# ансамблевые функции:\n",
    "from sklearn.ensemble import BaggingClassifier\n",
    "from sklearn.tree import DecisionTreeClassifier\n",
    "from sklearn.ensemble import RandomForestClassifier\n",
    "from sklearn.ensemble import ExtraTreesClassifier\n",
    "from sklearn.ensemble import AdaBoostClassifier\n",
    "from sklearn.ensemble import GradientBoostingClassifier\n",
    "from xgboost import XGBClassifier\n",
    "from sklearn.linear_model import LogisticRegression\n",
    "from sklearn.svm import SVC\n",
    "from sklearn.ensemble import VotingClassifier\n",
    "import numpy as np\n",
    "from sklearn.linear_model import RidgeClassifier\n",
    "from sklearn.model_selection import GridSearchCV\n",
    "from scipy.stats import uniform\n",
    "from sklearn.model_selection import RandomizedSearchCV\n",
    "from sklearn.model_selection import train_test_split\n",
    "# сохраняет параметры после перезагрузки:\n",
    "import pickle\n",
    "import joblib"
   ]
  },
  {
   "cell_type": "code",
   "execution_count": null,
   "id": "61a5f110",
   "metadata": {},
   "outputs": [],
   "source": [
    "========================================================================================================================"
   ]
  },
  {
   "cell_type": "markdown",
   "id": "792c29cd",
   "metadata": {},
   "source": [
    "# **GrideSearchCV**"
   ]
  },
  {
   "cell_type": "code",
   "execution_count": 10,
   "id": "dd8e968c",
   "metadata": {},
   "outputs": [],
   "source": [
    "from sklearn.model_selection import GridSearchCV\n",
    "from sklearn import linear_model\n",
    "from sklearn.linear_model import LinearRegression\n",
    "from sklearn.neighbors import KNeighborsRegressor"
   ]
  },
  {
   "cell_type": "code",
   "execution_count": 11,
   "id": "2ec35d69",
   "metadata": {},
   "outputs": [],
   "source": [
    "X_train, X_test, Y_train, Y_test = train_test_split(X, Y, test_size=0.25, shuffle=True, random_state=7) "
   ]
  },
  {
   "cell_type": "code",
   "execution_count": 12,
   "id": "fa700e64",
   "metadata": {},
   "outputs": [],
   "source": [
    "clf = RandomForestClassifier()"
   ]
  },
  {
   "cell_type": "code",
   "execution_count": 13,
   "id": "f0617c81",
   "metadata": {},
   "outputs": [],
   "source": [
    "params = {'n_estimators': range (10, 250, 10),\n",
    "          'max_depth': range (1,13, 2),\n",
    "          'min_samples_leaf': range (1,8),\n",
    "          'min_samples_split': range (2,10,2) }"
   ]
  },
  {
   "cell_type": "code",
   "execution_count": 14,
   "id": "a38a4dab",
   "metadata": {},
   "outputs": [],
   "source": [
    "grid = GridSearchCV(clf, param_grid = params, cv=3,verbose=1,n_jobs=-1)"
   ]
  },
  {
   "cell_type": "code",
   "execution_count": 15,
   "id": "5ca47e0d",
   "metadata": {},
   "outputs": [
    {
     "name": "stdout",
     "output_type": "stream",
     "text": [
      "Fitting 3 folds for each of 4032 candidates, totalling 12096 fits\n"
     ]
    },
    {
     "data": {
      "text/plain": [
       "GridSearchCV(cv=3, estimator=RandomForestClassifier(), n_jobs=-1,\n",
       "             param_grid={'max_depth': range(1, 13, 2),\n",
       "                         'min_samples_leaf': range(1, 8),\n",
       "                         'min_samples_split': range(2, 10, 2),\n",
       "                         'n_estimators': range(10, 250, 10)},\n",
       "             verbose=1)"
      ]
     },
     "execution_count": 15,
     "metadata": {},
     "output_type": "execute_result"
    }
   ],
   "source": [
    "grid.fit(X_train,Y_train)"
   ]
  },
  {
   "cell_type": "code",
   "execution_count": 16,
   "id": "8f66e506",
   "metadata": {},
   "outputs": [
    {
     "name": "stdout",
     "output_type": "stream",
     "text": [
      "{'max_depth': 7, 'min_samples_leaf': 3, 'min_samples_split': 2, 'n_estimators': 60}\n",
      "RandomForestClassifier(max_depth=7, min_samples_leaf=3, n_estimators=60)\n"
     ]
    }
   ],
   "source": [
    "print(grid.best_params_)\n",
    "print(grid.best_estimator_)"
   ]
  },
  {
   "cell_type": "code",
   "execution_count": 17,
   "id": "f1888e46",
   "metadata": {},
   "outputs": [],
   "source": [
    "from sklearn.metrics import classification_report, confusion_matrix"
   ]
  },
  {
   "cell_type": "code",
   "execution_count": 18,
   "id": "452e1d46",
   "metadata": {},
   "outputs": [
    {
     "name": "stdout",
     "output_type": "stream",
     "text": [
      "              precision    recall  f1-score   support\n",
      "\n",
      "         1.0       0.46      0.48      0.47       351\n",
      "         2.0       0.40      0.34      0.37       347\n",
      "         3.0       0.56      0.53      0.55       361\n",
      "         4.0       0.59      0.68      0.63       373\n",
      "\n",
      "    accuracy                           0.51      1432\n",
      "   macro avg       0.50      0.51      0.50      1432\n",
      "weighted avg       0.51      0.51      0.51      1432\n",
      "\n"
     ]
    }
   ],
   "source": [
    "grid_predictions = grid.predict(X_test)\n",
    "print(classification_report(Y_test, grid_predictions))"
   ]
  },
  {
   "cell_type": "code",
   "execution_count": 19,
   "id": "dc608d2b",
   "metadata": {},
   "outputs": [
    {
     "name": "stdout",
     "output_type": "stream",
     "text": [
      "[[169  73  39  70]\n",
      " [ 78 119 103  47]\n",
      " [ 32  78 192  59]\n",
      " [ 85  29   7 252]]\n"
     ]
    }
   ],
   "source": [
    "print(confusion_matrix(Y_test, grid_predictions))"
   ]
  },
  {
   "cell_type": "code",
   "execution_count": null,
   "id": "67a47e3c",
   "metadata": {},
   "outputs": [],
   "source": [
    "================================================================================================================"
   ]
  },
  {
   "cell_type": "code",
   "execution_count": 20,
   "id": "f9ab744b",
   "metadata": {},
   "outputs": [],
   "source": [
    "model = RandomForestClassifier(max_depth=7, min_samples_leaf=3, n_estimators=60)"
   ]
  },
  {
   "cell_type": "code",
   "execution_count": 21,
   "id": "651f6f90",
   "metadata": {},
   "outputs": [
    {
     "data": {
      "text/plain": [
       "RandomForestClassifier(max_depth=7, min_samples_leaf=3, n_estimators=60)"
      ]
     },
     "execution_count": 21,
     "metadata": {},
     "output_type": "execute_result"
    }
   ],
   "source": [
    "model.fit(X_train,Y_train)"
   ]
  },
  {
   "cell_type": "code",
   "execution_count": 22,
   "id": "8bc76cdc",
   "metadata": {},
   "outputs": [],
   "source": [
    "new_predictions = model.predict(X_test)"
   ]
  },
  {
   "cell_type": "code",
   "execution_count": 23,
   "id": "a9d6f551",
   "metadata": {},
   "outputs": [
    {
     "name": "stdout",
     "output_type": "stream",
     "text": [
      "              precision    recall  f1-score   support\n",
      "\n",
      "         1.0       0.48      0.46      0.47       351\n",
      "         2.0       0.41      0.37      0.39       347\n",
      "         3.0       0.58      0.53      0.56       361\n",
      "         4.0       0.58      0.69      0.63       373\n",
      "\n",
      "    accuracy                           0.52      1432\n",
      "   macro avg       0.51      0.52      0.51      1432\n",
      "weighted avg       0.52      0.52      0.52      1432\n",
      "\n",
      "[[163  72  39  77]\n",
      " [ 75 130  93  49]\n",
      " [ 27  83 193  58]\n",
      " [ 77  31   7 258]]\n"
     ]
    }
   ],
   "source": [
    "print(classification_report(Y_test, new_predictions))\n",
    "print(confusion_matrix(Y_test, new_predictions))"
   ]
  },
  {
   "cell_type": "code",
   "execution_count": null,
   "id": "162a842c",
   "metadata": {},
   "outputs": [],
   "source": [
    "================================================================================================================"
   ]
  },
  {
   "cell_type": "code",
   "execution_count": 24,
   "id": "957714f8",
   "metadata": {},
   "outputs": [
    {
     "data": {
      "text/plain": [
       "0.5112624410686224"
      ]
     },
     "execution_count": 24,
     "metadata": {},
     "output_type": "execute_result"
    }
   ],
   "source": [
    "kfold=KFold(n_splits=3,random_state=7,shuffle=True)\n",
    "results=cross_val_score(model, X, Y, cv=3)\n",
    "results.mean()"
   ]
  }
 ],
 "metadata": {
  "kernelspec": {
   "display_name": "Python 3 (ipykernel)",
   "language": "python",
   "name": "python3"
  },
  "language_info": {
   "codemirror_mode": {
    "name": "ipython",
    "version": 3
   },
   "file_extension": ".py",
   "mimetype": "text/x-python",
   "name": "python",
   "nbconvert_exporter": "python",
   "pygments_lexer": "ipython3",
   "version": "3.9.7"
  }
 },
 "nbformat": 4,
 "nbformat_minor": 5
}
