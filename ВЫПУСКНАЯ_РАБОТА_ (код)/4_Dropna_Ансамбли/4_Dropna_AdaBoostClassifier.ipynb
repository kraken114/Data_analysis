{
 "cells": [
  {
   "cell_type": "code",
   "execution_count": 8,
   "id": "a850e069",
   "metadata": {},
   "outputs": [],
   "source": [
    "import pandas as pd\n",
    "import numpy as np\n",
    "from pandas import read_csv"
   ]
  },
  {
   "cell_type": "code",
   "execution_count": 9,
   "id": "fbdfabea",
   "metadata": {},
   "outputs": [],
   "source": [
    "df=read_csv('D:\\Политех\\Класиффикация\\Сегментация_клиентов\\Train_cleared_dropna.csv')"
   ]
  },
  {
   "cell_type": "code",
   "execution_count": 10,
   "id": "cff98dbd",
   "metadata": {},
   "outputs": [],
   "source": [
    "df_T=read_csv('D:\\Политех\\Класиффикация\\Сегментация_клиентов\\TEST_cleared_dropna.csv')"
   ]
  },
  {
   "cell_type": "code",
   "execution_count": 11,
   "id": "0db49fba",
   "metadata": {},
   "outputs": [],
   "source": [
    "df=df.filter(regex='^(?!.*Unnamed).*$')"
   ]
  },
  {
   "cell_type": "code",
   "execution_count": 12,
   "id": "000d88c3",
   "metadata": {},
   "outputs": [],
   "source": [
    "df_T=df_T.filter(regex='^(?!.*Unnamed).*$')"
   ]
  },
  {
   "cell_type": "markdown",
   "id": "541c61dc",
   "metadata": {},
   "source": [
    "================================================================"
   ]
  },
  {
   "cell_type": "markdown",
   "id": "94e3fda3",
   "metadata": {},
   "source": [
    "**Обучающий_набор**"
   ]
  },
  {
   "cell_type": "code",
   "execution_count": 13,
   "id": "4033d57d",
   "metadata": {},
   "outputs": [
    {
     "data": {
      "text/plain": [
       "array([[ 1.,  0., 22., ...,  4.,  4.,  4.],\n",
       "       [ 0.,  1., 67., ...,  1.,  6.,  2.],\n",
       "       [ 1.,  1., 67., ...,  2.,  6.,  2.],\n",
       "       ...,\n",
       "       [ 0.,  0., 33., ...,  1.,  6.,  4.],\n",
       "       [ 0.,  0., 27., ...,  4.,  6.,  2.],\n",
       "       [ 1.,  1., 37., ...,  3.,  4.,  2.]])"
      ]
     },
     "execution_count": 13,
     "metadata": {},
     "output_type": "execute_result"
    }
   ],
   "source": [
    "array = df.values\n",
    "array"
   ]
  },
  {
   "cell_type": "code",
   "execution_count": 14,
   "id": "72b6ec77",
   "metadata": {},
   "outputs": [],
   "source": [
    "X = array[:,0:9]\n",
    "Y = array[:,9]"
   ]
  },
  {
   "cell_type": "code",
   "execution_count": 15,
   "id": "e6efa435",
   "metadata": {},
   "outputs": [
    {
     "data": {
      "text/plain": [
       "array([[ 1.,  0., 22., ...,  3.,  4.,  4.],\n",
       "       [ 0.,  1., 67., ...,  3.,  1.,  6.],\n",
       "       [ 1.,  1., 67., ...,  1.,  2.,  6.],\n",
       "       ...,\n",
       "       [ 0.,  0., 33., ...,  3.,  1.,  6.],\n",
       "       [ 0.,  0., 27., ...,  3.,  4.,  6.],\n",
       "       [ 1.,  1., 37., ...,  2.,  3.,  4.]])"
      ]
     },
     "execution_count": 15,
     "metadata": {},
     "output_type": "execute_result"
    }
   ],
   "source": [
    "X"
   ]
  },
  {
   "cell_type": "code",
   "execution_count": 16,
   "id": "2c33499e",
   "metadata": {},
   "outputs": [
    {
     "data": {
      "text/plain": [
       "array([4., 2., 2., ..., 4., 2., 2.])"
      ]
     },
     "execution_count": 16,
     "metadata": {},
     "output_type": "execute_result"
    }
   ],
   "source": [
    "Y"
   ]
  },
  {
   "cell_type": "markdown",
   "id": "aa170ea5",
   "metadata": {},
   "source": [
    "=============================================================="
   ]
  },
  {
   "cell_type": "markdown",
   "id": "43aa6084",
   "metadata": {},
   "source": [
    "**Тестовый_набор**"
   ]
  },
  {
   "cell_type": "code",
   "execution_count": 17,
   "id": "e29494f4",
   "metadata": {},
   "outputs": [
    {
     "data": {
      "text/plain": [
       "array([[ 1.,  0., 22., ...,  4.,  4.,  4.],\n",
       "       [ 0.,  1., 67., ...,  1.,  6.,  2.],\n",
       "       [ 1.,  1., 67., ...,  2.,  6.,  2.],\n",
       "       ...,\n",
       "       [ 0.,  0., 33., ...,  1.,  6.,  4.],\n",
       "       [ 0.,  0., 27., ...,  4.,  6.,  2.],\n",
       "       [ 1.,  1., 37., ...,  3.,  4.,  2.]])"
      ]
     },
     "execution_count": 17,
     "metadata": {},
     "output_type": "execute_result"
    }
   ],
   "source": [
    "array_T = df.values\n",
    "array_T"
   ]
  },
  {
   "cell_type": "code",
   "execution_count": 18,
   "id": "d6ad4032",
   "metadata": {},
   "outputs": [],
   "source": [
    "XX = array_T[:,0:9]\n",
    "YY = array_T[:,9]"
   ]
  },
  {
   "cell_type": "code",
   "execution_count": 19,
   "id": "6510fcb4",
   "metadata": {},
   "outputs": [
    {
     "data": {
      "text/plain": [
       "array([[ 1.,  0., 22., ...,  3.,  4.,  4.],\n",
       "       [ 0.,  1., 67., ...,  3.,  1.,  6.],\n",
       "       [ 1.,  1., 67., ...,  1.,  2.,  6.],\n",
       "       ...,\n",
       "       [ 0.,  0., 33., ...,  3.,  1.,  6.],\n",
       "       [ 0.,  0., 27., ...,  3.,  4.,  6.],\n",
       "       [ 1.,  1., 37., ...,  2.,  3.,  4.]])"
      ]
     },
     "execution_count": 19,
     "metadata": {},
     "output_type": "execute_result"
    }
   ],
   "source": [
    "XX"
   ]
  },
  {
   "cell_type": "code",
   "execution_count": 20,
   "id": "88d44c87",
   "metadata": {},
   "outputs": [
    {
     "data": {
      "text/plain": [
       "array([4., 2., 2., ..., 4., 2., 2.])"
      ]
     },
     "execution_count": 20,
     "metadata": {},
     "output_type": "execute_result"
    }
   ],
   "source": [
    "YY"
   ]
  },
  {
   "cell_type": "markdown",
   "id": "2d4e5423",
   "metadata": {},
   "source": [
    "====================================================="
   ]
  },
  {
   "cell_type": "code",
   "execution_count": 5,
   "id": "f4ddb5b9",
   "metadata": {},
   "outputs": [],
   "source": [
    "from sklearn.model_selection import KFold\n",
    "from sklearn.model_selection import cross_val_score\n",
    "# отбор признаков:\n",
    "from sklearn.feature_selection import SelectKBest\n",
    "from sklearn.feature_selection import f_classif\n",
    "# ансамблевые функции:\n",
    "from sklearn.ensemble import BaggingClassifier\n",
    "from sklearn.tree import DecisionTreeClassifier\n",
    "from sklearn.ensemble import RandomForestClassifier\n",
    "from sklearn.ensemble import ExtraTreesClassifier\n",
    "from sklearn.ensemble import AdaBoostClassifier\n",
    "from sklearn.ensemble import GradientBoostingClassifier\n",
    "from xgboost import XGBClassifier\n",
    "from sklearn.linear_model import LogisticRegression\n",
    "from sklearn.svm import SVC\n",
    "from sklearn.ensemble import VotingClassifier\n",
    "import numpy as np\n",
    "from sklearn.linear_model import RidgeClassifier\n",
    "from sklearn.model_selection import GridSearchCV\n",
    "from scipy.stats import uniform\n",
    "from sklearn.model_selection import RandomizedSearchCV\n",
    "from sklearn.model_selection import train_test_split\n",
    "# сохраняет параметры после перезагрузки:\n",
    "import pickle\n",
    "import joblib"
   ]
  },
  {
   "cell_type": "code",
   "execution_count": null,
   "id": "566d4ce7",
   "metadata": {},
   "outputs": [],
   "source": [
    "+++++++++++++++++++++++++++++++++++++++++++++++++++++"
   ]
  },
  {
   "cell_type": "code",
   "execution_count": 34,
   "id": "54d46135",
   "metadata": {},
   "outputs": [],
   "source": [
    "lst_1 = list(range(6,10))\n",
    "lst_2 = list(range(2,9))\n",
    "lst_3 = list(range(100,200))\n",
    "k = []"
   ]
  },
  {
   "cell_type": "code",
   "execution_count": 35,
   "id": "af270af5",
   "metadata": {
    "scrolled": true
   },
   "outputs": [
    {
     "name": "stdout",
     "output_type": "stream",
     "text": [
      "n_splits: 2 KBest: 6 0.5032254575997815\n",
      "n_splits: 2 KBest: 7 0.5084765229224003\n",
      "n_splits: 2 KBest: 8 0.510577093123478\n",
      "n_splits: 2 KBest: 9 0.5057763429404165\n",
      "n_estimators = 100 n_splits = 2 max = 0.510577093123478\n",
      "n_splits: 3 KBest: 6 0.5147783351050098\n",
      "n_splits: 3 KBest: 7 0.5108767292758092\n",
      "n_splits: 3 KBest: 8 0.5168784775821121\n",
      "n_splits: 3 KBest: 9 0.5176290929408114\n",
      "n_estimators = 100 n_splits = 3 max = 0.5176290929408114\n",
      "n_splits: 4 KBest: 6 0.5074281062154916\n",
      "n_splits: 4 KBest: 7 0.5105797267917365\n",
      "n_splits: 4 KBest: 8 0.5141801771698482\n",
      "n_splits: 4 KBest: 9 0.5099791266236549\n",
      "n_estimators = 100 n_splits = 4 max = 0.5176290929408114\n",
      "n_splits: 5 KBest: 6 0.5135783945986496\n",
      "n_splits: 5 KBest: 7 0.5090772693173293\n",
      "n_splits: 5 KBest: 8 0.5149287321830458\n",
      "n_splits: 5 KBest: 9 0.5101275318829709\n",
      "n_estimators = 100 n_splits = 5 max = 0.5176290929408114\n",
      "n_splits: 6 KBest: 6 0.5129756218865128\n",
      "n_splits: 6 KBest: 7 0.5128268232228628\n",
      "n_splits: 6 KBest: 8 0.5162775737033163\n",
      "n_splits: 6 KBest: 9 0.5161278289991161\n",
      "n_estimators = 100 n_splits = 6 max = 0.5176290929408114\n",
      "n_splits: 7 KBest: 6 0.5122294983050933\n",
      "n_splits: 7 KBest: 7 0.5102799776783746\n",
      "n_splits: 7 KBest: 8 0.5128300533224832\n",
      "n_splits: 7 KBest: 9 0.5096798950430119\n",
      "n_estimators = 100 n_splits = 7 max = 0.5176290929408114\n",
      "n_splits: 8 KBest: 6 0.5101295914049073\n",
      "n_splits: 8 KBest: 7 0.5105804911892815\n",
      "n_splits: 8 KBest: 8 0.5144811521730994\n",
      "n_splits: 8 KBest: 9 0.5126804318849842\n",
      "n_estimators = 100 n_splits = 8 max = 0.5176290929408114\n",
      "n_splits: 2 KBest: 6 0.5045758627483397\n",
      "n_splits: 2 KBest: 7 0.5078763278488714\n",
      "n_splits: 2 KBest: 8 0.5099774833425719\n",
      "n_splits: 2 KBest: 9 0.5041261779239148\n",
      "n_estimators = 101 n_splits = 2 max = 0.5176290929408114\n",
      "n_splits: 3 KBest: 6 0.5161285376624111\n",
      "n_splits: 3 KBest: 7 0.5107265791865094\n",
      "n_splits: 3 KBest: 8 0.5186793330391121\n",
      "n_splits: 3 KBest: 9 0.5176291604847112\n",
      "n_estimators = 101 n_splits = 3 max = 0.5186793330391121\n",
      "n_splits: 4 KBest: 6 0.5071278961494616\n",
      "n_splits: 4 KBest: 7 0.5092297266837149\n",
      "n_splits: 4 KBest: 8 0.5144802972178675\n",
      "n_splits: 4 KBest: 9 0.5105792767016825\n",
      "n_estimators = 101 n_splits = 4 max = 0.5186793330391121\n"
     ]
    },
    {
     "ename": "KeyboardInterrupt",
     "evalue": "",
     "output_type": "error",
     "traceback": [
      "\u001b[1;31m---------------------------------------------------------------------------\u001b[0m",
      "\u001b[1;31mKeyboardInterrupt\u001b[0m                         Traceback (most recent call last)",
      "\u001b[1;32mC:\\Users\\D9F8~1\\AppData\\Local\\Temp/ipykernel_20744/3976688359.py\u001b[0m in \u001b[0;36m<module>\u001b[1;34m\u001b[0m\n\u001b[0;32m      7\u001b[0m       \u001b[0mfit\u001b[0m\u001b[1;33m=\u001b[0m\u001b[0mtest\u001b[0m\u001b[1;33m.\u001b[0m\u001b[0mfit\u001b[0m\u001b[1;33m(\u001b[0m\u001b[0mX\u001b[0m\u001b[1;33m,\u001b[0m\u001b[0mY\u001b[0m\u001b[1;33m)\u001b[0m\u001b[1;33m\u001b[0m\u001b[1;33m\u001b[0m\u001b[0m\n\u001b[0;32m      8\u001b[0m       \u001b[0mfeatures\u001b[0m\u001b[1;33m=\u001b[0m\u001b[0mfit\u001b[0m\u001b[1;33m.\u001b[0m\u001b[0mtransform\u001b[0m\u001b[1;33m(\u001b[0m\u001b[0mX\u001b[0m\u001b[1;33m)\u001b[0m\u001b[1;33m\u001b[0m\u001b[1;33m\u001b[0m\u001b[0m\n\u001b[1;32m----> 9\u001b[1;33m       \u001b[0mresults\u001b[0m\u001b[1;33m=\u001b[0m\u001b[0mcross_val_score\u001b[0m\u001b[1;33m(\u001b[0m\u001b[0mmodel\u001b[0m\u001b[1;33m,\u001b[0m \u001b[0mfeatures\u001b[0m\u001b[1;33m,\u001b[0m \u001b[0mY\u001b[0m\u001b[1;33m,\u001b[0m \u001b[0mcv\u001b[0m\u001b[1;33m=\u001b[0m\u001b[0mkfold\u001b[0m\u001b[1;33m)\u001b[0m\u001b[1;33m\u001b[0m\u001b[1;33m\u001b[0m\u001b[0m\n\u001b[0m\u001b[0;32m     10\u001b[0m       \u001b[0mres\u001b[0m \u001b[1;33m=\u001b[0m \u001b[0mresults\u001b[0m\u001b[1;33m.\u001b[0m\u001b[0mmean\u001b[0m\u001b[1;33m(\u001b[0m\u001b[1;33m)\u001b[0m\u001b[1;33m\u001b[0m\u001b[1;33m\u001b[0m\u001b[0m\n\u001b[0;32m     11\u001b[0m       \u001b[0mk\u001b[0m\u001b[1;33m.\u001b[0m\u001b[0mappend\u001b[0m\u001b[1;33m(\u001b[0m\u001b[0mres\u001b[0m\u001b[1;33m)\u001b[0m\u001b[1;33m\u001b[0m\u001b[1;33m\u001b[0m\u001b[0m\n",
      "\u001b[1;32mD:\\Programs\\lib\\site-packages\\sklearn\\utils\\validation.py\u001b[0m in \u001b[0;36minner_f\u001b[1;34m(*args, **kwargs)\u001b[0m\n\u001b[0;32m     61\u001b[0m             \u001b[0mextra_args\u001b[0m \u001b[1;33m=\u001b[0m \u001b[0mlen\u001b[0m\u001b[1;33m(\u001b[0m\u001b[0margs\u001b[0m\u001b[1;33m)\u001b[0m \u001b[1;33m-\u001b[0m \u001b[0mlen\u001b[0m\u001b[1;33m(\u001b[0m\u001b[0mall_args\u001b[0m\u001b[1;33m)\u001b[0m\u001b[1;33m\u001b[0m\u001b[1;33m\u001b[0m\u001b[0m\n\u001b[0;32m     62\u001b[0m             \u001b[1;32mif\u001b[0m \u001b[0mextra_args\u001b[0m \u001b[1;33m<=\u001b[0m \u001b[1;36m0\u001b[0m\u001b[1;33m:\u001b[0m\u001b[1;33m\u001b[0m\u001b[1;33m\u001b[0m\u001b[0m\n\u001b[1;32m---> 63\u001b[1;33m                 \u001b[1;32mreturn\u001b[0m \u001b[0mf\u001b[0m\u001b[1;33m(\u001b[0m\u001b[1;33m*\u001b[0m\u001b[0margs\u001b[0m\u001b[1;33m,\u001b[0m \u001b[1;33m**\u001b[0m\u001b[0mkwargs\u001b[0m\u001b[1;33m)\u001b[0m\u001b[1;33m\u001b[0m\u001b[1;33m\u001b[0m\u001b[0m\n\u001b[0m\u001b[0;32m     64\u001b[0m \u001b[1;33m\u001b[0m\u001b[0m\n\u001b[0;32m     65\u001b[0m             \u001b[1;31m# extra_args > 0\u001b[0m\u001b[1;33m\u001b[0m\u001b[1;33m\u001b[0m\u001b[0m\n",
      "\u001b[1;32mD:\\Programs\\lib\\site-packages\\sklearn\\model_selection\\_validation.py\u001b[0m in \u001b[0;36mcross_val_score\u001b[1;34m(estimator, X, y, groups, scoring, cv, n_jobs, verbose, fit_params, pre_dispatch, error_score)\u001b[0m\n\u001b[0;32m    443\u001b[0m     \u001b[0mscorer\u001b[0m \u001b[1;33m=\u001b[0m \u001b[0mcheck_scoring\u001b[0m\u001b[1;33m(\u001b[0m\u001b[0mestimator\u001b[0m\u001b[1;33m,\u001b[0m \u001b[0mscoring\u001b[0m\u001b[1;33m=\u001b[0m\u001b[0mscoring\u001b[0m\u001b[1;33m)\u001b[0m\u001b[1;33m\u001b[0m\u001b[1;33m\u001b[0m\u001b[0m\n\u001b[0;32m    444\u001b[0m \u001b[1;33m\u001b[0m\u001b[0m\n\u001b[1;32m--> 445\u001b[1;33m     cv_results = cross_validate(estimator=estimator, X=X, y=y, groups=groups,\n\u001b[0m\u001b[0;32m    446\u001b[0m                                 \u001b[0mscoring\u001b[0m\u001b[1;33m=\u001b[0m\u001b[1;33m{\u001b[0m\u001b[1;34m'score'\u001b[0m\u001b[1;33m:\u001b[0m \u001b[0mscorer\u001b[0m\u001b[1;33m}\u001b[0m\u001b[1;33m,\u001b[0m \u001b[0mcv\u001b[0m\u001b[1;33m=\u001b[0m\u001b[0mcv\u001b[0m\u001b[1;33m,\u001b[0m\u001b[1;33m\u001b[0m\u001b[1;33m\u001b[0m\u001b[0m\n\u001b[0;32m    447\u001b[0m                                 \u001b[0mn_jobs\u001b[0m\u001b[1;33m=\u001b[0m\u001b[0mn_jobs\u001b[0m\u001b[1;33m,\u001b[0m \u001b[0mverbose\u001b[0m\u001b[1;33m=\u001b[0m\u001b[0mverbose\u001b[0m\u001b[1;33m,\u001b[0m\u001b[1;33m\u001b[0m\u001b[1;33m\u001b[0m\u001b[0m\n",
      "\u001b[1;32mD:\\Programs\\lib\\site-packages\\sklearn\\utils\\validation.py\u001b[0m in \u001b[0;36minner_f\u001b[1;34m(*args, **kwargs)\u001b[0m\n\u001b[0;32m     61\u001b[0m             \u001b[0mextra_args\u001b[0m \u001b[1;33m=\u001b[0m \u001b[0mlen\u001b[0m\u001b[1;33m(\u001b[0m\u001b[0margs\u001b[0m\u001b[1;33m)\u001b[0m \u001b[1;33m-\u001b[0m \u001b[0mlen\u001b[0m\u001b[1;33m(\u001b[0m\u001b[0mall_args\u001b[0m\u001b[1;33m)\u001b[0m\u001b[1;33m\u001b[0m\u001b[1;33m\u001b[0m\u001b[0m\n\u001b[0;32m     62\u001b[0m             \u001b[1;32mif\u001b[0m \u001b[0mextra_args\u001b[0m \u001b[1;33m<=\u001b[0m \u001b[1;36m0\u001b[0m\u001b[1;33m:\u001b[0m\u001b[1;33m\u001b[0m\u001b[1;33m\u001b[0m\u001b[0m\n\u001b[1;32m---> 63\u001b[1;33m                 \u001b[1;32mreturn\u001b[0m \u001b[0mf\u001b[0m\u001b[1;33m(\u001b[0m\u001b[1;33m*\u001b[0m\u001b[0margs\u001b[0m\u001b[1;33m,\u001b[0m \u001b[1;33m**\u001b[0m\u001b[0mkwargs\u001b[0m\u001b[1;33m)\u001b[0m\u001b[1;33m\u001b[0m\u001b[1;33m\u001b[0m\u001b[0m\n\u001b[0m\u001b[0;32m     64\u001b[0m \u001b[1;33m\u001b[0m\u001b[0m\n\u001b[0;32m     65\u001b[0m             \u001b[1;31m# extra_args > 0\u001b[0m\u001b[1;33m\u001b[0m\u001b[1;33m\u001b[0m\u001b[0m\n",
      "\u001b[1;32mD:\\Programs\\lib\\site-packages\\sklearn\\model_selection\\_validation.py\u001b[0m in \u001b[0;36mcross_validate\u001b[1;34m(estimator, X, y, groups, scoring, cv, n_jobs, verbose, fit_params, pre_dispatch, return_train_score, return_estimator, error_score)\u001b[0m\n\u001b[0;32m    248\u001b[0m     parallel = Parallel(n_jobs=n_jobs, verbose=verbose,\n\u001b[0;32m    249\u001b[0m                         pre_dispatch=pre_dispatch)\n\u001b[1;32m--> 250\u001b[1;33m     results = parallel(\n\u001b[0m\u001b[0;32m    251\u001b[0m         delayed(_fit_and_score)(\n\u001b[0;32m    252\u001b[0m             \u001b[0mclone\u001b[0m\u001b[1;33m(\u001b[0m\u001b[0mestimator\u001b[0m\u001b[1;33m)\u001b[0m\u001b[1;33m,\u001b[0m \u001b[0mX\u001b[0m\u001b[1;33m,\u001b[0m \u001b[0my\u001b[0m\u001b[1;33m,\u001b[0m \u001b[0mscorers\u001b[0m\u001b[1;33m,\u001b[0m \u001b[0mtrain\u001b[0m\u001b[1;33m,\u001b[0m \u001b[0mtest\u001b[0m\u001b[1;33m,\u001b[0m \u001b[0mverbose\u001b[0m\u001b[1;33m,\u001b[0m \u001b[1;32mNone\u001b[0m\u001b[1;33m,\u001b[0m\u001b[1;33m\u001b[0m\u001b[1;33m\u001b[0m\u001b[0m\n",
      "\u001b[1;32mD:\\Programs\\lib\\site-packages\\joblib\\parallel.py\u001b[0m in \u001b[0;36m__call__\u001b[1;34m(self, iterable)\u001b[0m\n\u001b[0;32m   1044\u001b[0m                 \u001b[0mself\u001b[0m\u001b[1;33m.\u001b[0m\u001b[0m_iterating\u001b[0m \u001b[1;33m=\u001b[0m \u001b[0mself\u001b[0m\u001b[1;33m.\u001b[0m\u001b[0m_original_iterator\u001b[0m \u001b[1;32mis\u001b[0m \u001b[1;32mnot\u001b[0m \u001b[1;32mNone\u001b[0m\u001b[1;33m\u001b[0m\u001b[1;33m\u001b[0m\u001b[0m\n\u001b[0;32m   1045\u001b[0m \u001b[1;33m\u001b[0m\u001b[0m\n\u001b[1;32m-> 1046\u001b[1;33m             \u001b[1;32mwhile\u001b[0m \u001b[0mself\u001b[0m\u001b[1;33m.\u001b[0m\u001b[0mdispatch_one_batch\u001b[0m\u001b[1;33m(\u001b[0m\u001b[0miterator\u001b[0m\u001b[1;33m)\u001b[0m\u001b[1;33m:\u001b[0m\u001b[1;33m\u001b[0m\u001b[1;33m\u001b[0m\u001b[0m\n\u001b[0m\u001b[0;32m   1047\u001b[0m                 \u001b[1;32mpass\u001b[0m\u001b[1;33m\u001b[0m\u001b[1;33m\u001b[0m\u001b[0m\n\u001b[0;32m   1048\u001b[0m \u001b[1;33m\u001b[0m\u001b[0m\n",
      "\u001b[1;32mD:\\Programs\\lib\\site-packages\\joblib\\parallel.py\u001b[0m in \u001b[0;36mdispatch_one_batch\u001b[1;34m(self, iterator)\u001b[0m\n\u001b[0;32m    859\u001b[0m                 \u001b[1;32mreturn\u001b[0m \u001b[1;32mFalse\u001b[0m\u001b[1;33m\u001b[0m\u001b[1;33m\u001b[0m\u001b[0m\n\u001b[0;32m    860\u001b[0m             \u001b[1;32melse\u001b[0m\u001b[1;33m:\u001b[0m\u001b[1;33m\u001b[0m\u001b[1;33m\u001b[0m\u001b[0m\n\u001b[1;32m--> 861\u001b[1;33m                 \u001b[0mself\u001b[0m\u001b[1;33m.\u001b[0m\u001b[0m_dispatch\u001b[0m\u001b[1;33m(\u001b[0m\u001b[0mtasks\u001b[0m\u001b[1;33m)\u001b[0m\u001b[1;33m\u001b[0m\u001b[1;33m\u001b[0m\u001b[0m\n\u001b[0m\u001b[0;32m    862\u001b[0m                 \u001b[1;32mreturn\u001b[0m \u001b[1;32mTrue\u001b[0m\u001b[1;33m\u001b[0m\u001b[1;33m\u001b[0m\u001b[0m\n\u001b[0;32m    863\u001b[0m \u001b[1;33m\u001b[0m\u001b[0m\n",
      "\u001b[1;32mD:\\Programs\\lib\\site-packages\\joblib\\parallel.py\u001b[0m in \u001b[0;36m_dispatch\u001b[1;34m(self, batch)\u001b[0m\n\u001b[0;32m    777\u001b[0m         \u001b[1;32mwith\u001b[0m \u001b[0mself\u001b[0m\u001b[1;33m.\u001b[0m\u001b[0m_lock\u001b[0m\u001b[1;33m:\u001b[0m\u001b[1;33m\u001b[0m\u001b[1;33m\u001b[0m\u001b[0m\n\u001b[0;32m    778\u001b[0m             \u001b[0mjob_idx\u001b[0m \u001b[1;33m=\u001b[0m \u001b[0mlen\u001b[0m\u001b[1;33m(\u001b[0m\u001b[0mself\u001b[0m\u001b[1;33m.\u001b[0m\u001b[0m_jobs\u001b[0m\u001b[1;33m)\u001b[0m\u001b[1;33m\u001b[0m\u001b[1;33m\u001b[0m\u001b[0m\n\u001b[1;32m--> 779\u001b[1;33m             \u001b[0mjob\u001b[0m \u001b[1;33m=\u001b[0m \u001b[0mself\u001b[0m\u001b[1;33m.\u001b[0m\u001b[0m_backend\u001b[0m\u001b[1;33m.\u001b[0m\u001b[0mapply_async\u001b[0m\u001b[1;33m(\u001b[0m\u001b[0mbatch\u001b[0m\u001b[1;33m,\u001b[0m \u001b[0mcallback\u001b[0m\u001b[1;33m=\u001b[0m\u001b[0mcb\u001b[0m\u001b[1;33m)\u001b[0m\u001b[1;33m\u001b[0m\u001b[1;33m\u001b[0m\u001b[0m\n\u001b[0m\u001b[0;32m    780\u001b[0m             \u001b[1;31m# A job can complete so quickly than its callback is\u001b[0m\u001b[1;33m\u001b[0m\u001b[1;33m\u001b[0m\u001b[0m\n\u001b[0;32m    781\u001b[0m             \u001b[1;31m# called before we get here, causing self._jobs to\u001b[0m\u001b[1;33m\u001b[0m\u001b[1;33m\u001b[0m\u001b[0m\n",
      "\u001b[1;32mD:\\Programs\\lib\\site-packages\\joblib\\_parallel_backends.py\u001b[0m in \u001b[0;36mapply_async\u001b[1;34m(self, func, callback)\u001b[0m\n\u001b[0;32m    206\u001b[0m     \u001b[1;32mdef\u001b[0m \u001b[0mapply_async\u001b[0m\u001b[1;33m(\u001b[0m\u001b[0mself\u001b[0m\u001b[1;33m,\u001b[0m \u001b[0mfunc\u001b[0m\u001b[1;33m,\u001b[0m \u001b[0mcallback\u001b[0m\u001b[1;33m=\u001b[0m\u001b[1;32mNone\u001b[0m\u001b[1;33m)\u001b[0m\u001b[1;33m:\u001b[0m\u001b[1;33m\u001b[0m\u001b[1;33m\u001b[0m\u001b[0m\n\u001b[0;32m    207\u001b[0m         \u001b[1;34m\"\"\"Schedule a func to be run\"\"\"\u001b[0m\u001b[1;33m\u001b[0m\u001b[1;33m\u001b[0m\u001b[0m\n\u001b[1;32m--> 208\u001b[1;33m         \u001b[0mresult\u001b[0m \u001b[1;33m=\u001b[0m \u001b[0mImmediateResult\u001b[0m\u001b[1;33m(\u001b[0m\u001b[0mfunc\u001b[0m\u001b[1;33m)\u001b[0m\u001b[1;33m\u001b[0m\u001b[1;33m\u001b[0m\u001b[0m\n\u001b[0m\u001b[0;32m    209\u001b[0m         \u001b[1;32mif\u001b[0m \u001b[0mcallback\u001b[0m\u001b[1;33m:\u001b[0m\u001b[1;33m\u001b[0m\u001b[1;33m\u001b[0m\u001b[0m\n\u001b[0;32m    210\u001b[0m             \u001b[0mcallback\u001b[0m\u001b[1;33m(\u001b[0m\u001b[0mresult\u001b[0m\u001b[1;33m)\u001b[0m\u001b[1;33m\u001b[0m\u001b[1;33m\u001b[0m\u001b[0m\n",
      "\u001b[1;32mD:\\Programs\\lib\\site-packages\\joblib\\_parallel_backends.py\u001b[0m in \u001b[0;36m__init__\u001b[1;34m(self, batch)\u001b[0m\n\u001b[0;32m    570\u001b[0m         \u001b[1;31m# Don't delay the application, to avoid keeping the input\u001b[0m\u001b[1;33m\u001b[0m\u001b[1;33m\u001b[0m\u001b[0m\n\u001b[0;32m    571\u001b[0m         \u001b[1;31m# arguments in memory\u001b[0m\u001b[1;33m\u001b[0m\u001b[1;33m\u001b[0m\u001b[0m\n\u001b[1;32m--> 572\u001b[1;33m         \u001b[0mself\u001b[0m\u001b[1;33m.\u001b[0m\u001b[0mresults\u001b[0m \u001b[1;33m=\u001b[0m \u001b[0mbatch\u001b[0m\u001b[1;33m(\u001b[0m\u001b[1;33m)\u001b[0m\u001b[1;33m\u001b[0m\u001b[1;33m\u001b[0m\u001b[0m\n\u001b[0m\u001b[0;32m    573\u001b[0m \u001b[1;33m\u001b[0m\u001b[0m\n\u001b[0;32m    574\u001b[0m     \u001b[1;32mdef\u001b[0m \u001b[0mget\u001b[0m\u001b[1;33m(\u001b[0m\u001b[0mself\u001b[0m\u001b[1;33m)\u001b[0m\u001b[1;33m:\u001b[0m\u001b[1;33m\u001b[0m\u001b[1;33m\u001b[0m\u001b[0m\n",
      "\u001b[1;32mD:\\Programs\\lib\\site-packages\\joblib\\parallel.py\u001b[0m in \u001b[0;36m__call__\u001b[1;34m(self)\u001b[0m\n\u001b[0;32m    260\u001b[0m         \u001b[1;31m# change the default number of processes to -1\u001b[0m\u001b[1;33m\u001b[0m\u001b[1;33m\u001b[0m\u001b[0m\n\u001b[0;32m    261\u001b[0m         \u001b[1;32mwith\u001b[0m \u001b[0mparallel_backend\u001b[0m\u001b[1;33m(\u001b[0m\u001b[0mself\u001b[0m\u001b[1;33m.\u001b[0m\u001b[0m_backend\u001b[0m\u001b[1;33m,\u001b[0m \u001b[0mn_jobs\u001b[0m\u001b[1;33m=\u001b[0m\u001b[0mself\u001b[0m\u001b[1;33m.\u001b[0m\u001b[0m_n_jobs\u001b[0m\u001b[1;33m)\u001b[0m\u001b[1;33m:\u001b[0m\u001b[1;33m\u001b[0m\u001b[1;33m\u001b[0m\u001b[0m\n\u001b[1;32m--> 262\u001b[1;33m             return [func(*args, **kwargs)\n\u001b[0m\u001b[0;32m    263\u001b[0m                     for func, args, kwargs in self.items]\n\u001b[0;32m    264\u001b[0m \u001b[1;33m\u001b[0m\u001b[0m\n",
      "\u001b[1;32mD:\\Programs\\lib\\site-packages\\joblib\\parallel.py\u001b[0m in \u001b[0;36m<listcomp>\u001b[1;34m(.0)\u001b[0m\n\u001b[0;32m    260\u001b[0m         \u001b[1;31m# change the default number of processes to -1\u001b[0m\u001b[1;33m\u001b[0m\u001b[1;33m\u001b[0m\u001b[0m\n\u001b[0;32m    261\u001b[0m         \u001b[1;32mwith\u001b[0m \u001b[0mparallel_backend\u001b[0m\u001b[1;33m(\u001b[0m\u001b[0mself\u001b[0m\u001b[1;33m.\u001b[0m\u001b[0m_backend\u001b[0m\u001b[1;33m,\u001b[0m \u001b[0mn_jobs\u001b[0m\u001b[1;33m=\u001b[0m\u001b[0mself\u001b[0m\u001b[1;33m.\u001b[0m\u001b[0m_n_jobs\u001b[0m\u001b[1;33m)\u001b[0m\u001b[1;33m:\u001b[0m\u001b[1;33m\u001b[0m\u001b[1;33m\u001b[0m\u001b[0m\n\u001b[1;32m--> 262\u001b[1;33m             return [func(*args, **kwargs)\n\u001b[0m\u001b[0;32m    263\u001b[0m                     for func, args, kwargs in self.items]\n\u001b[0;32m    264\u001b[0m \u001b[1;33m\u001b[0m\u001b[0m\n",
      "\u001b[1;32mD:\\Programs\\lib\\site-packages\\sklearn\\utils\\fixes.py\u001b[0m in \u001b[0;36m__call__\u001b[1;34m(self, *args, **kwargs)\u001b[0m\n\u001b[0;32m    220\u001b[0m     \u001b[1;32mdef\u001b[0m \u001b[0m__call__\u001b[0m\u001b[1;33m(\u001b[0m\u001b[0mself\u001b[0m\u001b[1;33m,\u001b[0m \u001b[1;33m*\u001b[0m\u001b[0margs\u001b[0m\u001b[1;33m,\u001b[0m \u001b[1;33m**\u001b[0m\u001b[0mkwargs\u001b[0m\u001b[1;33m)\u001b[0m\u001b[1;33m:\u001b[0m\u001b[1;33m\u001b[0m\u001b[1;33m\u001b[0m\u001b[0m\n\u001b[0;32m    221\u001b[0m         \u001b[1;32mwith\u001b[0m \u001b[0mconfig_context\u001b[0m\u001b[1;33m(\u001b[0m\u001b[1;33m**\u001b[0m\u001b[0mself\u001b[0m\u001b[1;33m.\u001b[0m\u001b[0mconfig\u001b[0m\u001b[1;33m)\u001b[0m\u001b[1;33m:\u001b[0m\u001b[1;33m\u001b[0m\u001b[1;33m\u001b[0m\u001b[0m\n\u001b[1;32m--> 222\u001b[1;33m             \u001b[1;32mreturn\u001b[0m \u001b[0mself\u001b[0m\u001b[1;33m.\u001b[0m\u001b[0mfunction\u001b[0m\u001b[1;33m(\u001b[0m\u001b[1;33m*\u001b[0m\u001b[0margs\u001b[0m\u001b[1;33m,\u001b[0m \u001b[1;33m**\u001b[0m\u001b[0mkwargs\u001b[0m\u001b[1;33m)\u001b[0m\u001b[1;33m\u001b[0m\u001b[1;33m\u001b[0m\u001b[0m\n\u001b[0m",
      "\u001b[1;32mD:\\Programs\\lib\\site-packages\\sklearn\\model_selection\\_validation.py\u001b[0m in \u001b[0;36m_fit_and_score\u001b[1;34m(estimator, X, y, scorer, train, test, verbose, parameters, fit_params, return_train_score, return_parameters, return_n_test_samples, return_times, return_estimator, split_progress, candidate_progress, error_score)\u001b[0m\n\u001b[0;32m    596\u001b[0m             \u001b[0mestimator\u001b[0m\u001b[1;33m.\u001b[0m\u001b[0mfit\u001b[0m\u001b[1;33m(\u001b[0m\u001b[0mX_train\u001b[0m\u001b[1;33m,\u001b[0m \u001b[1;33m**\u001b[0m\u001b[0mfit_params\u001b[0m\u001b[1;33m)\u001b[0m\u001b[1;33m\u001b[0m\u001b[1;33m\u001b[0m\u001b[0m\n\u001b[0;32m    597\u001b[0m         \u001b[1;32melse\u001b[0m\u001b[1;33m:\u001b[0m\u001b[1;33m\u001b[0m\u001b[1;33m\u001b[0m\u001b[0m\n\u001b[1;32m--> 598\u001b[1;33m             \u001b[0mestimator\u001b[0m\u001b[1;33m.\u001b[0m\u001b[0mfit\u001b[0m\u001b[1;33m(\u001b[0m\u001b[0mX_train\u001b[0m\u001b[1;33m,\u001b[0m \u001b[0my_train\u001b[0m\u001b[1;33m,\u001b[0m \u001b[1;33m**\u001b[0m\u001b[0mfit_params\u001b[0m\u001b[1;33m)\u001b[0m\u001b[1;33m\u001b[0m\u001b[1;33m\u001b[0m\u001b[0m\n\u001b[0m\u001b[0;32m    599\u001b[0m \u001b[1;33m\u001b[0m\u001b[0m\n\u001b[0;32m    600\u001b[0m     \u001b[1;32mexcept\u001b[0m \u001b[0mException\u001b[0m \u001b[1;32mas\u001b[0m \u001b[0me\u001b[0m\u001b[1;33m:\u001b[0m\u001b[1;33m\u001b[0m\u001b[1;33m\u001b[0m\u001b[0m\n",
      "\u001b[1;32mD:\\Programs\\lib\\site-packages\\sklearn\\ensemble\\_weight_boosting.py\u001b[0m in \u001b[0;36mfit\u001b[1;34m(self, X, y, sample_weight)\u001b[0m\n\u001b[0;32m    441\u001b[0m \u001b[1;33m\u001b[0m\u001b[0m\n\u001b[0;32m    442\u001b[0m         \u001b[1;31m# Fit\u001b[0m\u001b[1;33m\u001b[0m\u001b[1;33m\u001b[0m\u001b[0m\n\u001b[1;32m--> 443\u001b[1;33m         \u001b[1;32mreturn\u001b[0m \u001b[0msuper\u001b[0m\u001b[1;33m(\u001b[0m\u001b[1;33m)\u001b[0m\u001b[1;33m.\u001b[0m\u001b[0mfit\u001b[0m\u001b[1;33m(\u001b[0m\u001b[0mX\u001b[0m\u001b[1;33m,\u001b[0m \u001b[0my\u001b[0m\u001b[1;33m,\u001b[0m \u001b[0msample_weight\u001b[0m\u001b[1;33m)\u001b[0m\u001b[1;33m\u001b[0m\u001b[1;33m\u001b[0m\u001b[0m\n\u001b[0m\u001b[0;32m    444\u001b[0m \u001b[1;33m\u001b[0m\u001b[0m\n\u001b[0;32m    445\u001b[0m     \u001b[1;32mdef\u001b[0m \u001b[0m_validate_estimator\u001b[0m\u001b[1;33m(\u001b[0m\u001b[0mself\u001b[0m\u001b[1;33m)\u001b[0m\u001b[1;33m:\u001b[0m\u001b[1;33m\u001b[0m\u001b[1;33m\u001b[0m\u001b[0m\n",
      "\u001b[1;32mD:\\Programs\\lib\\site-packages\\sklearn\\ensemble\\_weight_boosting.py\u001b[0m in \u001b[0;36mfit\u001b[1;34m(self, X, y, sample_weight)\u001b[0m\n\u001b[0;32m    128\u001b[0m         \u001b[1;32mfor\u001b[0m \u001b[0miboost\u001b[0m \u001b[1;32min\u001b[0m \u001b[0mrange\u001b[0m\u001b[1;33m(\u001b[0m\u001b[0mself\u001b[0m\u001b[1;33m.\u001b[0m\u001b[0mn_estimators\u001b[0m\u001b[1;33m)\u001b[0m\u001b[1;33m:\u001b[0m\u001b[1;33m\u001b[0m\u001b[1;33m\u001b[0m\u001b[0m\n\u001b[0;32m    129\u001b[0m             \u001b[1;31m# Boosting step\u001b[0m\u001b[1;33m\u001b[0m\u001b[1;33m\u001b[0m\u001b[0m\n\u001b[1;32m--> 130\u001b[1;33m             sample_weight, estimator_weight, estimator_error = self._boost(\n\u001b[0m\u001b[0;32m    131\u001b[0m                 \u001b[0miboost\u001b[0m\u001b[1;33m,\u001b[0m\u001b[1;33m\u001b[0m\u001b[1;33m\u001b[0m\u001b[0m\n\u001b[0;32m    132\u001b[0m                 \u001b[0mX\u001b[0m\u001b[1;33m,\u001b[0m \u001b[0my\u001b[0m\u001b[1;33m,\u001b[0m\u001b[1;33m\u001b[0m\u001b[1;33m\u001b[0m\u001b[0m\n",
      "\u001b[1;32mD:\\Programs\\lib\\site-packages\\sklearn\\ensemble\\_weight_boosting.py\u001b[0m in \u001b[0;36m_boost\u001b[1;34m(self, iboost, X, y, sample_weight, random_state)\u001b[0m\n\u001b[0;32m    501\u001b[0m         \"\"\"\n\u001b[0;32m    502\u001b[0m         \u001b[1;32mif\u001b[0m \u001b[0mself\u001b[0m\u001b[1;33m.\u001b[0m\u001b[0malgorithm\u001b[0m \u001b[1;33m==\u001b[0m \u001b[1;34m'SAMME.R'\u001b[0m\u001b[1;33m:\u001b[0m\u001b[1;33m\u001b[0m\u001b[1;33m\u001b[0m\u001b[0m\n\u001b[1;32m--> 503\u001b[1;33m             \u001b[1;32mreturn\u001b[0m \u001b[0mself\u001b[0m\u001b[1;33m.\u001b[0m\u001b[0m_boost_real\u001b[0m\u001b[1;33m(\u001b[0m\u001b[0miboost\u001b[0m\u001b[1;33m,\u001b[0m \u001b[0mX\u001b[0m\u001b[1;33m,\u001b[0m \u001b[0my\u001b[0m\u001b[1;33m,\u001b[0m \u001b[0msample_weight\u001b[0m\u001b[1;33m,\u001b[0m \u001b[0mrandom_state\u001b[0m\u001b[1;33m)\u001b[0m\u001b[1;33m\u001b[0m\u001b[1;33m\u001b[0m\u001b[0m\n\u001b[0m\u001b[0;32m    504\u001b[0m \u001b[1;33m\u001b[0m\u001b[0m\n\u001b[0;32m    505\u001b[0m         \u001b[1;32melse\u001b[0m\u001b[1;33m:\u001b[0m  \u001b[1;31m# elif self.algorithm == \"SAMME\":\u001b[0m\u001b[1;33m\u001b[0m\u001b[1;33m\u001b[0m\u001b[0m\n",
      "\u001b[1;32mD:\\Programs\\lib\\site-packages\\sklearn\\ensemble\\_weight_boosting.py\u001b[0m in \u001b[0;36m_boost_real\u001b[1;34m(self, iboost, X, y, sample_weight, random_state)\u001b[0m\n\u001b[0;32m    527\u001b[0m         \u001b[1;31m# Error fraction\u001b[0m\u001b[1;33m\u001b[0m\u001b[1;33m\u001b[0m\u001b[0m\n\u001b[0;32m    528\u001b[0m         estimator_error = np.mean(\n\u001b[1;32m--> 529\u001b[1;33m             np.average(incorrect, weights=sample_weight, axis=0))\n\u001b[0m\u001b[0;32m    530\u001b[0m \u001b[1;33m\u001b[0m\u001b[0m\n\u001b[0;32m    531\u001b[0m         \u001b[1;31m# Stop if classification is perfect\u001b[0m\u001b[1;33m\u001b[0m\u001b[1;33m\u001b[0m\u001b[0m\n",
      "\u001b[1;32m<__array_function__ internals>\u001b[0m in \u001b[0;36maverage\u001b[1;34m(*args, **kwargs)\u001b[0m\n",
      "\u001b[1;32mD:\\Programs\\lib\\site-packages\\numpy\\lib\\function_base.py\u001b[0m in \u001b[0;36maverage\u001b[1;34m(a, axis, weights, returned)\u001b[0m\n\u001b[0;32m    410\u001b[0m                 \"Weights sum to zero, can't be normalized\")\n\u001b[0;32m    411\u001b[0m \u001b[1;33m\u001b[0m\u001b[0m\n\u001b[1;32m--> 412\u001b[1;33m         \u001b[0mavg\u001b[0m \u001b[1;33m=\u001b[0m \u001b[0mnp\u001b[0m\u001b[1;33m.\u001b[0m\u001b[0mmultiply\u001b[0m\u001b[1;33m(\u001b[0m\u001b[0ma\u001b[0m\u001b[1;33m,\u001b[0m \u001b[0mwgt\u001b[0m\u001b[1;33m,\u001b[0m \u001b[0mdtype\u001b[0m\u001b[1;33m=\u001b[0m\u001b[0mresult_dtype\u001b[0m\u001b[1;33m)\u001b[0m\u001b[1;33m.\u001b[0m\u001b[0msum\u001b[0m\u001b[1;33m(\u001b[0m\u001b[0maxis\u001b[0m\u001b[1;33m)\u001b[0m\u001b[1;33m/\u001b[0m\u001b[0mscl\u001b[0m\u001b[1;33m\u001b[0m\u001b[1;33m\u001b[0m\u001b[0m\n\u001b[0m\u001b[0;32m    413\u001b[0m \u001b[1;33m\u001b[0m\u001b[0m\n\u001b[0;32m    414\u001b[0m     \u001b[1;32mif\u001b[0m \u001b[0mreturned\u001b[0m\u001b[1;33m:\u001b[0m\u001b[1;33m\u001b[0m\u001b[1;33m\u001b[0m\u001b[0m\n",
      "\u001b[1;31mKeyboardInterrupt\u001b[0m: "
     ]
    }
   ],
   "source": [
    "for s in lst_3:\n",
    " model=AdaBoostClassifier(n_estimators = s, random_state = 7)\n",
    " for i in lst_2:\n",
    "   kfold=KFold(n_splits=i,random_state=7,shuffle=True)\n",
    "   for j in lst_1:\n",
    "      test=SelectKBest(score_func=f_classif, k=j)\n",
    "      fit=test.fit(X,Y)\n",
    "      features=fit.transform(X)\n",
    "      results=cross_val_score(model, features, Y, cv=kfold)\n",
    "      res = results.mean()\n",
    "      k.append(res)\n",
    "      print(f'n_splits: {i} KBest: {j} {res}')\n",
    "   print(f'n_estimators = {s} n_splits = {i} max = {max(k)}')"
   ]
  },
  {
   "cell_type": "code",
   "execution_count": null,
   "id": "81646b72",
   "metadata": {},
   "outputs": [],
   "source": [
    "from sklearn.metrics import classification_report\n",
    "from sklearn.metrics import confusion_matrix\n",
    "x_new = XX[1000:1020]\n",
    "for s in lst_3:\n",
    " model=AdaBoostClassifier(n_estimators = s, random_state = 7)\n",
    " model.fit(X,Y)\n",
    " for j in x_new:\n",
    "      predictions = model.predict(XX)\n",
    "      print(confusion_matrix(YY, predictions))\n"
   ]
  },
  {
   "cell_type": "code",
   "execution_count": null,
   "id": "6b57b59e",
   "metadata": {},
   "outputs": [],
   "source": [
    "predictions = model.predict(XX)\n",
    "from sklearn.metrics import classification_report\n",
    "from sklearn.metrics import confusion_matrix\n",
    "print(confusion_matrix(YY, predictions))"
   ]
  },
  {
   "cell_type": "code",
   "execution_count": 40,
   "id": "875a1d6f",
   "metadata": {},
   "outputs": [
    {
     "data": {
      "text/plain": [
       "array([2., 3., 2., 3., 3., 2., 2., 2., 2., 3., 4., 1., 3., 2., 3., 1., 1.,\n",
       "       4., 4., 3.])"
      ]
     },
     "execution_count": 40,
     "metadata": {},
     "output_type": "execute_result"
    }
   ],
   "source": [
    "YY[1000:1020]"
   ]
  },
  {
   "cell_type": "code",
   "execution_count": 49,
   "id": "de71b8e9",
   "metadata": {},
   "outputs": [
    {
     "name": "stdout",
     "output_type": "stream",
     "text": [
      "n_estimators:1 предсказание: [3. 3. 3. 3. 4. 3. 3. 4. 3. 4. 4. 4. 3. 4. 4. 4. 3. 4. 4. 3.]\n",
      "n_estimators:2 предсказание: [1. 3. 3. 3. 4. 1. 3. 4. 1. 4. 4. 4. 3. 1. 4. 4. 3. 4. 4. 1.]\n",
      "n_estimators:3 предсказание: [1. 3. 3. 3. 4. 3. 1. 4. 3. 4. 4. 4. 3. 4. 4. 4. 3. 4. 4. 3.]\n",
      "n_estimators:4 предсказание: [1. 3. 3. 3. 4. 3. 1. 4. 3. 4. 4. 4. 3. 4. 4. 4. 3. 4. 4. 3.]\n",
      "n_estimators:5 предсказание: [4. 3. 3. 3. 4. 3. 1. 4. 3. 4. 4. 4. 3. 4. 4. 4. 3. 4. 4. 2.]\n",
      "n_estimators:6 предсказание: [4. 3. 3. 3. 4. 3. 1. 4. 3. 4. 4. 4. 3. 1. 4. 4. 3. 4. 4. 2.]\n",
      "n_estimators:7 предсказание: [4. 3. 3. 3. 4. 3. 1. 4. 2. 4. 4. 4. 3. 1. 4. 4. 3. 4. 4. 2.]\n",
      "n_estimators:8 предсказание: [1. 3. 3. 3. 4. 3. 1. 4. 2. 4. 4. 4. 3. 4. 4. 4. 3. 4. 4. 2.]\n",
      "n_estimators:9 предсказание: [1. 3. 3. 3. 4. 3. 1. 4. 2. 1. 4. 4. 3. 4. 4. 4. 3. 4. 4. 2.]\n",
      "n_estimators:10 предсказание: [1. 3. 3. 3. 4. 2. 1. 4. 2. 1. 4. 4. 3. 1. 4. 4. 3. 4. 4. 2.]\n",
      "n_estimators:11 предсказание: [1. 3. 3. 3. 4. 3. 1. 4. 2. 1. 4. 4. 3. 1. 4. 4. 3. 4. 4. 2.]\n",
      "n_estimators:12 предсказание: [1. 3. 3. 3. 4. 3. 1. 4. 2. 1. 4. 4. 3. 1. 4. 4. 3. 4. 4. 2.]\n",
      "n_estimators:13 предсказание: [1. 3. 3. 3. 4. 3. 1. 4. 2. 1. 4. 4. 3. 1. 4. 4. 3. 4. 4. 2.]\n",
      "n_estimators:14 предсказание: [4. 3. 3. 3. 4. 3. 1. 4. 2. 1. 4. 4. 3. 1. 4. 4. 3. 4. 4. 3.]\n",
      "n_estimators:15 предсказание: [1. 3. 3. 3. 4. 3. 1. 4. 3. 1. 4. 4. 3. 1. 4. 4. 3. 4. 4. 3.]\n",
      "n_estimators:16 предсказание: [4. 3. 3. 3. 4. 2. 1. 4. 2. 1. 4. 4. 3. 1. 4. 4. 3. 4. 4. 3.]\n",
      "n_estimators:17 предсказание: [4. 3. 3. 3. 4. 3. 1. 4. 3. 1. 4. 4. 3. 1. 4. 4. 3. 4. 4. 3.]\n",
      "n_estimators:18 предсказание: [4. 3. 3. 3. 4. 3. 1. 4. 2. 1. 4. 4. 3. 1. 4. 4. 3. 4. 4. 3.]\n",
      "n_estimators:19 предсказание: [1. 3. 3. 3. 4. 2. 1. 4. 2. 1. 4. 4. 3. 1. 4. 4. 3. 4. 4. 3.]\n",
      "n_estimators:20 предсказание: [1. 3. 3. 3. 4. 3. 1. 4. 3. 1. 4. 1. 3. 1. 4. 1. 3. 4. 4. 3.]\n",
      "n_estimators:21 предсказание: [1. 3. 3. 3. 4. 3. 1. 4. 3. 4. 4. 1. 3. 1. 4. 1. 3. 4. 4. 3.]\n",
      "n_estimators:22 предсказание: [1. 3. 3. 3. 4. 3. 1. 4. 3. 4. 4. 1. 3. 1. 4. 1. 3. 4. 4. 3.]\n",
      "n_estimators:23 предсказание: [1. 3. 3. 3. 4. 3. 1. 4. 3. 4. 4. 1. 3. 1. 4. 1. 3. 4. 4. 3.]\n",
      "n_estimators:24 предсказание: [1. 3. 3. 3. 4. 3. 1. 4. 3. 4. 4. 1. 3. 1. 4. 1. 3. 4. 4. 3.]\n",
      "n_estimators:25 предсказание: [1. 3. 3. 3. 4. 3. 1. 4. 3. 4. 4. 1. 3. 1. 4. 1. 3. 4. 4. 3.]\n",
      "n_estimators:26 предсказание: [1. 3. 3. 3. 4. 3. 1. 4. 2. 4. 4. 1. 3. 1. 4. 1. 3. 4. 4. 3.]\n",
      "n_estimators:27 предсказание: [1. 3. 3. 3. 4. 3. 1. 4. 2. 1. 4. 1. 3. 1. 4. 1. 3. 4. 4. 3.]\n",
      "n_estimators:28 предсказание: [1. 3. 3. 3. 4. 3. 1. 4. 2. 4. 4. 4. 3. 1. 4. 4. 3. 4. 4. 3.]\n",
      "n_estimators:29 предсказание: [1. 3. 3. 3. 4. 3. 1. 4. 2. 1. 4. 1. 3. 1. 4. 4. 3. 4. 4. 3.]\n",
      "n_estimators:30 предсказание: [1. 3. 3. 3. 4. 3. 1. 4. 2. 1. 4. 1. 3. 1. 4. 4. 3. 4. 4. 3.]\n",
      "n_estimators:31 предсказание: [1. 3. 3. 3. 4. 3. 1. 4. 2. 1. 4. 1. 3. 1. 4. 4. 3. 4. 4. 3.]\n",
      "n_estimators:32 предсказание: [1. 3. 3. 3. 4. 3. 1. 4. 2. 1. 4. 1. 3. 1. 4. 4. 3. 4. 4. 3.]\n",
      "n_estimators:33 предсказание: [1. 3. 3. 3. 4. 3. 1. 4. 2. 1. 4. 1. 3. 1. 4. 4. 3. 4. 4. 3.]\n",
      "n_estimators:34 предсказание: [1. 3. 3. 3. 4. 3. 1. 4. 2. 1. 4. 1. 3. 1. 4. 4. 3. 4. 4. 3.]\n",
      "n_estimators:35 предсказание: [1. 3. 3. 3. 4. 3. 1. 4. 2. 1. 4. 1. 3. 1. 4. 4. 3. 4. 4. 3.]\n",
      "n_estimators:36 предсказание: [1. 3. 3. 3. 4. 3. 1. 4. 2. 1. 4. 1. 3. 1. 4. 4. 3. 4. 4. 3.]\n",
      "n_estimators:37 предсказание: [1. 3. 3. 3. 4. 3. 1. 4. 2. 1. 4. 1. 3. 1. 4. 4. 3. 4. 4. 3.]\n",
      "n_estimators:38 предсказание: [1. 3. 3. 3. 4. 3. 1. 4. 2. 1. 4. 1. 3. 1. 4. 4. 3. 4. 4. 3.]\n",
      "n_estimators:39 предсказание: [1. 3. 3. 3. 4. 3. 1. 4. 2. 1. 4. 1. 3. 1. 4. 4. 3. 4. 4. 3.]\n",
      "n_estimators:40 предсказание: [1. 3. 3. 3. 4. 3. 1. 4. 2. 2. 4. 1. 3. 1. 4. 4. 3. 4. 4. 3.]\n",
      "n_estimators:41 предсказание: [1. 3. 3. 3. 4. 3. 1. 4. 2. 2. 4. 1. 3. 1. 4. 4. 3. 4. 4. 3.]\n",
      "n_estimators:42 предсказание: [1. 3. 3. 3. 4. 3. 1. 4. 2. 2. 4. 1. 3. 1. 1. 1. 3. 4. 4. 3.]\n",
      "n_estimators:43 предсказание: [1. 3. 3. 3. 4. 3. 1. 4. 2. 2. 4. 1. 3. 1. 1. 1. 3. 4. 4. 3.]\n",
      "n_estimators:44 предсказание: [1. 3. 3. 3. 4. 3. 1. 4. 2. 2. 4. 1. 3. 1. 1. 1. 3. 4. 4. 3.]\n",
      "n_estimators:45 предсказание: [1. 3. 3. 3. 4. 3. 1. 4. 2. 2. 4. 1. 3. 1. 1. 1. 3. 4. 4. 3.]\n",
      "n_estimators:46 предсказание: [1. 3. 3. 3. 4. 3. 1. 4. 2. 2. 4. 1. 3. 1. 1. 4. 3. 4. 4. 3.]\n",
      "n_estimators:47 предсказание: [1. 3. 3. 3. 4. 3. 1. 4. 2. 2. 4. 1. 3. 1. 1. 4. 3. 4. 4. 3.]\n",
      "n_estimators:48 предсказание: [1. 3. 3. 3. 4. 3. 1. 4. 2. 2. 4. 1. 3. 1. 1. 4. 3. 4. 4. 3.]\n",
      "n_estimators:49 предсказание: [1. 3. 3. 3. 4. 3. 1. 4. 2. 1. 4. 1. 3. 1. 1. 4. 3. 4. 4. 3.]\n",
      "n_estimators:50 предсказание: [1. 3. 3. 3. 4. 3. 1. 4. 2. 1. 4. 1. 3. 1. 1. 4. 3. 4. 4. 3.]\n",
      "n_estimators:51 предсказание: [1. 3. 3. 3. 4. 3. 1. 4. 2. 1. 4. 1. 3. 1. 1. 4. 3. 4. 4. 3.]\n",
      "n_estimators:52 предсказание: [1. 3. 3. 3. 4. 3. 1. 4. 2. 1. 4. 1. 3. 1. 1. 4. 3. 4. 4. 3.]\n",
      "n_estimators:53 предсказание: [1. 3. 3. 3. 4. 3. 1. 4. 2. 1. 4. 1. 3. 1. 1. 1. 3. 4. 4. 3.]\n",
      "n_estimators:54 предсказание: [1. 3. 3. 3. 4. 3. 1. 4. 2. 1. 4. 1. 3. 1. 1. 4. 3. 4. 4. 3.]\n",
      "n_estimators:55 предсказание: [1. 3. 3. 3. 4. 3. 1. 4. 2. 1. 4. 1. 3. 1. 1. 1. 3. 4. 4. 3.]\n",
      "n_estimators:56 предсказание: [1. 3. 3. 3. 4. 3. 1. 4. 2. 1. 4. 1. 3. 1. 1. 1. 3. 4. 4. 3.]\n",
      "n_estimators:57 предсказание: [1. 3. 3. 3. 4. 3. 1. 4. 2. 1. 4. 1. 3. 1. 1. 4. 3. 4. 4. 3.]\n",
      "n_estimators:58 предсказание: [1. 3. 3. 3. 4. 3. 1. 4. 2. 1. 4. 1. 3. 1. 1. 4. 3. 4. 4. 3.]\n",
      "n_estimators:59 предсказание: [1. 3. 3. 3. 4. 3. 1. 4. 2. 1. 4. 1. 3. 1. 1. 1. 3. 4. 4. 3.]\n",
      "n_estimators:60 предсказание: [1. 3. 3. 3. 4. 3. 1. 4. 2. 1. 4. 1. 3. 1. 1. 1. 3. 4. 4. 3.]\n",
      "n_estimators:61 предсказание: [1. 3. 3. 3. 4. 3. 1. 4. 2. 1. 4. 1. 3. 1. 1. 1. 3. 4. 4. 3.]\n",
      "n_estimators:62 предсказание: [1. 3. 3. 3. 4. 3. 1. 4. 2. 1. 4. 1. 3. 1. 1. 1. 3. 4. 4. 3.]\n",
      "n_estimators:63 предсказание: [1. 3. 3. 3. 4. 3. 1. 4. 2. 1. 4. 1. 3. 1. 1. 1. 3. 4. 4. 3.]\n",
      "n_estimators:64 предсказание: [1. 3. 3. 3. 4. 3. 1. 4. 2. 1. 4. 1. 3. 1. 1. 1. 3. 4. 4. 3.]\n",
      "n_estimators:65 предсказание: [1. 3. 3. 3. 4. 3. 1. 4. 2. 1. 4. 1. 3. 1. 1. 1. 3. 4. 4. 3.]\n",
      "n_estimators:66 предсказание: [1. 3. 3. 3. 4. 3. 1. 4. 2. 1. 4. 1. 3. 1. 1. 1. 3. 4. 4. 3.]\n",
      "n_estimators:67 предсказание: [1. 3. 3. 3. 4. 3. 1. 4. 2. 1. 4. 1. 3. 1. 1. 1. 3. 4. 4. 3.]\n",
      "n_estimators:68 предсказание: [1. 3. 3. 3. 4. 3. 1. 4. 2. 1. 4. 1. 3. 1. 1. 1. 3. 4. 4. 3.]\n",
      "n_estimators:69 предсказание: [1. 3. 3. 3. 4. 3. 1. 4. 2. 1. 4. 1. 3. 1. 1. 1. 3. 4. 4. 3.]\n",
      "n_estimators:70 предсказание: [1. 3. 3. 3. 4. 3. 1. 4. 2. 1. 4. 1. 3. 1. 1. 1. 3. 4. 4. 3.]\n",
      "n_estimators:71 предсказание: [1. 3. 3. 3. 4. 3. 1. 4. 2. 1. 4. 1. 3. 1. 1. 1. 3. 4. 4. 3.]\n",
      "n_estimators:72 предсказание: [1. 3. 3. 3. 4. 3. 1. 4. 2. 1. 4. 1. 3. 1. 1. 1. 3. 4. 4. 3.]\n",
      "n_estimators:73 предсказание: [1. 3. 3. 3. 4. 3. 1. 4. 2. 1. 4. 1. 3. 1. 1. 1. 3. 4. 4. 3.]\n",
      "n_estimators:74 предсказание: [1. 3. 3. 3. 4. 3. 1. 4. 2. 1. 4. 1. 3. 1. 1. 1. 3. 4. 4. 3.]\n",
      "n_estimators:75 предсказание: [1. 3. 3. 3. 4. 3. 1. 4. 2. 1. 4. 1. 3. 1. 1. 1. 3. 4. 4. 3.]\n",
      "n_estimators:76 предсказание: [1. 3. 3. 3. 4. 3. 1. 4. 2. 1. 4. 1. 3. 1. 1. 1. 3. 4. 4. 3.]\n",
      "n_estimators:77 предсказание: [1. 3. 3. 3. 4. 3. 1. 4. 2. 1. 4. 1. 3. 1. 1. 1. 3. 4. 4. 3.]\n",
      "n_estimators:78 предсказание: [1. 3. 3. 3. 4. 3. 1. 4. 2. 1. 4. 1. 3. 1. 1. 1. 3. 4. 4. 3.]\n",
      "n_estimators:79 предсказание: [1. 3. 3. 3. 4. 3. 1. 4. 2. 1. 4. 1. 3. 1. 1. 1. 3. 4. 4. 3.]\n",
      "n_estimators:80 предсказание: [1. 3. 3. 3. 4. 3. 1. 4. 2. 1. 4. 1. 3. 1. 1. 1. 3. 4. 4. 3.]\n",
      "n_estimators:81 предсказание: [1. 3. 3. 3. 4. 3. 1. 4. 2. 1. 4. 1. 3. 1. 1. 1. 3. 4. 4. 3.]\n",
      "n_estimators:82 предсказание: [1. 3. 3. 3. 4. 3. 1. 4. 2. 1. 4. 1. 3. 1. 1. 1. 3. 4. 4. 3.]\n",
      "n_estimators:83 предсказание: [1. 3. 3. 3. 4. 3. 1. 4. 2. 1. 4. 1. 3. 1. 1. 1. 3. 4. 4. 3.]\n",
      "n_estimators:84 предсказание: [1. 3. 3. 3. 4. 3. 1. 4. 2. 1. 4. 1. 3. 1. 1. 1. 3. 4. 4. 3.]\n",
      "n_estimators:85 предсказание: [1. 3. 3. 3. 4. 3. 1. 4. 2. 1. 4. 1. 3. 1. 1. 4. 3. 4. 4. 3.]\n",
      "n_estimators:86 предсказание: [1. 3. 3. 3. 4. 3. 1. 4. 2. 1. 4. 1. 3. 1. 1. 4. 3. 4. 4. 3.]\n",
      "n_estimators:87 предсказание: [1. 3. 3. 3. 4. 3. 1. 4. 2. 1. 4. 1. 3. 1. 1. 4. 3. 4. 4. 3.]\n",
      "n_estimators:88 предсказание: [1. 3. 3. 3. 4. 3. 1. 4. 2. 1. 4. 1. 3. 1. 1. 4. 3. 4. 4. 3.]\n",
      "n_estimators:89 предсказание: [1. 3. 3. 3. 4. 3. 1. 4. 2. 1. 4. 1. 3. 1. 1. 4. 3. 4. 4. 3.]\n",
      "n_estimators:90 предсказание: [1. 3. 3. 3. 4. 3. 1. 4. 2. 1. 4. 1. 3. 1. 1. 4. 3. 4. 4. 3.]\n"
     ]
    },
    {
     "name": "stdout",
     "output_type": "stream",
     "text": [
      "n_estimators:91 предсказание: [1. 3. 3. 3. 4. 3. 1. 4. 2. 1. 4. 1. 3. 1. 1. 1. 3. 4. 4. 3.]\n",
      "n_estimators:92 предсказание: [1. 3. 3. 3. 4. 3. 1. 4. 2. 1. 4. 1. 3. 1. 1. 4. 3. 4. 4. 3.]\n",
      "n_estimators:93 предсказание: [1. 3. 3. 3. 4. 3. 1. 4. 2. 1. 4. 1. 3. 1. 1. 1. 3. 4. 4. 3.]\n",
      "n_estimators:94 предсказание: [1. 3. 3. 3. 4. 3. 1. 4. 2. 1. 4. 1. 3. 1. 1. 4. 3. 4. 4. 3.]\n",
      "n_estimators:95 предсказание: [1. 3. 3. 3. 4. 3. 1. 4. 2. 1. 4. 1. 3. 1. 1. 4. 3. 4. 4. 3.]\n"
     ]
    },
    {
     "ename": "KeyboardInterrupt",
     "evalue": "",
     "output_type": "error",
     "traceback": [
      "\u001b[1;31m---------------------------------------------------------------------------\u001b[0m",
      "\u001b[1;31mKeyboardInterrupt\u001b[0m                         Traceback (most recent call last)",
      "\u001b[1;32mC:\\Users\\D9F8~1\\AppData\\Local\\Temp/ipykernel_20744/542412702.py\u001b[0m in \u001b[0;36m<module>\u001b[1;34m\u001b[0m\n\u001b[0;32m      4\u001b[0m \u001b[1;32mfor\u001b[0m \u001b[0mi\u001b[0m \u001b[1;32min\u001b[0m \u001b[0mlst_3\u001b[0m\u001b[1;33m:\u001b[0m\u001b[1;33m\u001b[0m\u001b[1;33m\u001b[0m\u001b[0m\n\u001b[0;32m      5\u001b[0m   \u001b[0mmodel\u001b[0m\u001b[1;33m=\u001b[0m\u001b[0mAdaBoostClassifier\u001b[0m\u001b[1;33m(\u001b[0m\u001b[0mn_estimators\u001b[0m \u001b[1;33m=\u001b[0m \u001b[0mi\u001b[0m\u001b[1;33m,\u001b[0m \u001b[0mrandom_state\u001b[0m \u001b[1;33m=\u001b[0m \u001b[1;36m7\u001b[0m\u001b[1;33m)\u001b[0m\u001b[1;33m\u001b[0m\u001b[1;33m\u001b[0m\u001b[0m\n\u001b[1;32m----> 6\u001b[1;33m   \u001b[0mmodel\u001b[0m\u001b[1;33m.\u001b[0m\u001b[0mfit\u001b[0m\u001b[1;33m(\u001b[0m\u001b[0mX\u001b[0m\u001b[1;33m,\u001b[0m\u001b[0mY\u001b[0m\u001b[1;33m)\u001b[0m\u001b[1;33m\u001b[0m\u001b[1;33m\u001b[0m\u001b[0m\n\u001b[0m\u001b[0;32m      7\u001b[0m   \u001b[0mres\u001b[0m \u001b[1;33m=\u001b[0m \u001b[0mmodel\u001b[0m\u001b[1;33m.\u001b[0m\u001b[0mpredict\u001b[0m\u001b[1;33m(\u001b[0m\u001b[0mx_new\u001b[0m\u001b[1;33m)\u001b[0m\u001b[1;33m\u001b[0m\u001b[1;33m\u001b[0m\u001b[0m\n\u001b[0;32m      8\u001b[0m   \u001b[0mprint\u001b[0m\u001b[1;33m(\u001b[0m\u001b[1;34mf'n_estimators:{i} предсказание: {res}'\u001b[0m\u001b[1;33m)\u001b[0m\u001b[1;33m\u001b[0m\u001b[1;33m\u001b[0m\u001b[0m\n",
      "\u001b[1;32mD:\\Programs\\lib\\site-packages\\sklearn\\ensemble\\_weight_boosting.py\u001b[0m in \u001b[0;36mfit\u001b[1;34m(self, X, y, sample_weight)\u001b[0m\n\u001b[0;32m    441\u001b[0m \u001b[1;33m\u001b[0m\u001b[0m\n\u001b[0;32m    442\u001b[0m         \u001b[1;31m# Fit\u001b[0m\u001b[1;33m\u001b[0m\u001b[1;33m\u001b[0m\u001b[0m\n\u001b[1;32m--> 443\u001b[1;33m         \u001b[1;32mreturn\u001b[0m \u001b[0msuper\u001b[0m\u001b[1;33m(\u001b[0m\u001b[1;33m)\u001b[0m\u001b[1;33m.\u001b[0m\u001b[0mfit\u001b[0m\u001b[1;33m(\u001b[0m\u001b[0mX\u001b[0m\u001b[1;33m,\u001b[0m \u001b[0my\u001b[0m\u001b[1;33m,\u001b[0m \u001b[0msample_weight\u001b[0m\u001b[1;33m)\u001b[0m\u001b[1;33m\u001b[0m\u001b[1;33m\u001b[0m\u001b[0m\n\u001b[0m\u001b[0;32m    444\u001b[0m \u001b[1;33m\u001b[0m\u001b[0m\n\u001b[0;32m    445\u001b[0m     \u001b[1;32mdef\u001b[0m \u001b[0m_validate_estimator\u001b[0m\u001b[1;33m(\u001b[0m\u001b[0mself\u001b[0m\u001b[1;33m)\u001b[0m\u001b[1;33m:\u001b[0m\u001b[1;33m\u001b[0m\u001b[1;33m\u001b[0m\u001b[0m\n",
      "\u001b[1;32mD:\\Programs\\lib\\site-packages\\sklearn\\ensemble\\_weight_boosting.py\u001b[0m in \u001b[0;36mfit\u001b[1;34m(self, X, y, sample_weight)\u001b[0m\n\u001b[0;32m    128\u001b[0m         \u001b[1;32mfor\u001b[0m \u001b[0miboost\u001b[0m \u001b[1;32min\u001b[0m \u001b[0mrange\u001b[0m\u001b[1;33m(\u001b[0m\u001b[0mself\u001b[0m\u001b[1;33m.\u001b[0m\u001b[0mn_estimators\u001b[0m\u001b[1;33m)\u001b[0m\u001b[1;33m:\u001b[0m\u001b[1;33m\u001b[0m\u001b[1;33m\u001b[0m\u001b[0m\n\u001b[0;32m    129\u001b[0m             \u001b[1;31m# Boosting step\u001b[0m\u001b[1;33m\u001b[0m\u001b[1;33m\u001b[0m\u001b[0m\n\u001b[1;32m--> 130\u001b[1;33m             sample_weight, estimator_weight, estimator_error = self._boost(\n\u001b[0m\u001b[0;32m    131\u001b[0m                 \u001b[0miboost\u001b[0m\u001b[1;33m,\u001b[0m\u001b[1;33m\u001b[0m\u001b[1;33m\u001b[0m\u001b[0m\n\u001b[0;32m    132\u001b[0m                 \u001b[0mX\u001b[0m\u001b[1;33m,\u001b[0m \u001b[0my\u001b[0m\u001b[1;33m,\u001b[0m\u001b[1;33m\u001b[0m\u001b[1;33m\u001b[0m\u001b[0m\n",
      "\u001b[1;32mD:\\Programs\\lib\\site-packages\\sklearn\\ensemble\\_weight_boosting.py\u001b[0m in \u001b[0;36m_boost\u001b[1;34m(self, iboost, X, y, sample_weight, random_state)\u001b[0m\n\u001b[0;32m    501\u001b[0m         \"\"\"\n\u001b[0;32m    502\u001b[0m         \u001b[1;32mif\u001b[0m \u001b[0mself\u001b[0m\u001b[1;33m.\u001b[0m\u001b[0malgorithm\u001b[0m \u001b[1;33m==\u001b[0m \u001b[1;34m'SAMME.R'\u001b[0m\u001b[1;33m:\u001b[0m\u001b[1;33m\u001b[0m\u001b[1;33m\u001b[0m\u001b[0m\n\u001b[1;32m--> 503\u001b[1;33m             \u001b[1;32mreturn\u001b[0m \u001b[0mself\u001b[0m\u001b[1;33m.\u001b[0m\u001b[0m_boost_real\u001b[0m\u001b[1;33m(\u001b[0m\u001b[0miboost\u001b[0m\u001b[1;33m,\u001b[0m \u001b[0mX\u001b[0m\u001b[1;33m,\u001b[0m \u001b[0my\u001b[0m\u001b[1;33m,\u001b[0m \u001b[0msample_weight\u001b[0m\u001b[1;33m,\u001b[0m \u001b[0mrandom_state\u001b[0m\u001b[1;33m)\u001b[0m\u001b[1;33m\u001b[0m\u001b[1;33m\u001b[0m\u001b[0m\n\u001b[0m\u001b[0;32m    504\u001b[0m \u001b[1;33m\u001b[0m\u001b[0m\n\u001b[0;32m    505\u001b[0m         \u001b[1;32melse\u001b[0m\u001b[1;33m:\u001b[0m  \u001b[1;31m# elif self.algorithm == \"SAMME\":\u001b[0m\u001b[1;33m\u001b[0m\u001b[1;33m\u001b[0m\u001b[0m\n",
      "\u001b[1;32mD:\\Programs\\lib\\site-packages\\sklearn\\ensemble\\_weight_boosting.py\u001b[0m in \u001b[0;36m_boost_real\u001b[1;34m(self, iboost, X, y, sample_weight, random_state)\u001b[0m\n\u001b[0;32m    527\u001b[0m         \u001b[1;31m# Error fraction\u001b[0m\u001b[1;33m\u001b[0m\u001b[1;33m\u001b[0m\u001b[0m\n\u001b[0;32m    528\u001b[0m         estimator_error = np.mean(\n\u001b[1;32m--> 529\u001b[1;33m             np.average(incorrect, weights=sample_weight, axis=0))\n\u001b[0m\u001b[0;32m    530\u001b[0m \u001b[1;33m\u001b[0m\u001b[0m\n\u001b[0;32m    531\u001b[0m         \u001b[1;31m# Stop if classification is perfect\u001b[0m\u001b[1;33m\u001b[0m\u001b[1;33m\u001b[0m\u001b[0m\n",
      "\u001b[1;32m<__array_function__ internals>\u001b[0m in \u001b[0;36maverage\u001b[1;34m(*args, **kwargs)\u001b[0m\n",
      "\u001b[1;32mD:\\Programs\\lib\\site-packages\\numpy\\lib\\function_base.py\u001b[0m in \u001b[0;36maverage\u001b[1;34m(a, axis, weights, returned)\u001b[0m\n\u001b[0;32m    410\u001b[0m                 \"Weights sum to zero, can't be normalized\")\n\u001b[0;32m    411\u001b[0m \u001b[1;33m\u001b[0m\u001b[0m\n\u001b[1;32m--> 412\u001b[1;33m         \u001b[0mavg\u001b[0m \u001b[1;33m=\u001b[0m \u001b[0mnp\u001b[0m\u001b[1;33m.\u001b[0m\u001b[0mmultiply\u001b[0m\u001b[1;33m(\u001b[0m\u001b[0ma\u001b[0m\u001b[1;33m,\u001b[0m \u001b[0mwgt\u001b[0m\u001b[1;33m,\u001b[0m \u001b[0mdtype\u001b[0m\u001b[1;33m=\u001b[0m\u001b[0mresult_dtype\u001b[0m\u001b[1;33m)\u001b[0m\u001b[1;33m.\u001b[0m\u001b[0msum\u001b[0m\u001b[1;33m(\u001b[0m\u001b[0maxis\u001b[0m\u001b[1;33m)\u001b[0m\u001b[1;33m/\u001b[0m\u001b[0mscl\u001b[0m\u001b[1;33m\u001b[0m\u001b[1;33m\u001b[0m\u001b[0m\n\u001b[0m\u001b[0;32m    413\u001b[0m \u001b[1;33m\u001b[0m\u001b[0m\n\u001b[0;32m    414\u001b[0m     \u001b[1;32mif\u001b[0m \u001b[0mreturned\u001b[0m\u001b[1;33m:\u001b[0m\u001b[1;33m\u001b[0m\u001b[1;33m\u001b[0m\u001b[0m\n",
      "\u001b[1;31mKeyboardInterrupt\u001b[0m: "
     ]
    }
   ],
   "source": [
    "x_new = XX[1000:1020]\n",
    "lst_3 = list(range(1,200))\n",
    "k = []\n",
    "for i in lst_3:\n",
    "  model=AdaBoostClassifier(n_estimators = i, random_state = 7)\n",
    "  model.fit(X,Y)\n",
    "  res = model.predict(x_new)\n",
    "  print(f'n_estimators:{i} предсказание: {res}')\n",
    "  k.append(res)"
   ]
  },
  {
   "cell_type": "code",
   "execution_count": null,
   "id": "4adf92af",
   "metadata": {},
   "outputs": [],
   "source": []
  },
  {
   "cell_type": "code",
   "execution_count": null,
   "id": "2fc65524",
   "metadata": {},
   "outputs": [],
   "source": []
  },
  {
   "cell_type": "code",
   "execution_count": null,
   "id": "60cd3dae",
   "metadata": {},
   "outputs": [],
   "source": []
  },
  {
   "cell_type": "code",
   "execution_count": null,
   "id": "712325f1",
   "metadata": {},
   "outputs": [],
   "source": []
  },
  {
   "cell_type": "code",
   "execution_count": null,
   "id": "f39c65ae",
   "metadata": {},
   "outputs": [],
   "source": [
    "============================================================================================================="
   ]
  },
  {
   "cell_type": "code",
   "execution_count": 1,
   "id": "cc76e7f4",
   "metadata": {},
   "outputs": [],
   "source": [
    "import pandas as pd\n",
    "import numpy as np\n",
    "from pandas import read_csv"
   ]
  },
  {
   "cell_type": "code",
   "execution_count": 2,
   "id": "087dd9aa",
   "metadata": {
    "scrolled": true
   },
   "outputs": [],
   "source": [
    "df=read_csv('D:\\Политех\\Класиффикация\\Сегментация_клиентов\\Train_cleared_!!!!!!!!.csv')"
   ]
  },
  {
   "cell_type": "code",
   "execution_count": 3,
   "id": "dc9a454a",
   "metadata": {},
   "outputs": [],
   "source": [
    "df=df.filter(regex='^(?!.*Unnamed).*$')"
   ]
  },
  {
   "cell_type": "code",
   "execution_count": 4,
   "id": "1b91896f",
   "metadata": {},
   "outputs": [],
   "source": [
    "df_T=read_csv('D:\\Политех\\Класиффикация\\Сегментация_клиентов\\Test_cleared_!!!!!!!!.csv')"
   ]
  },
  {
   "cell_type": "code",
   "execution_count": 5,
   "id": "9735e536",
   "metadata": {},
   "outputs": [],
   "source": [
    "df_T=df_T.filter(regex='^(?!.*Unnamed).*$')"
   ]
  },
  {
   "cell_type": "markdown",
   "id": "375b0add",
   "metadata": {},
   "source": [
    "**Обучающий_набор**"
   ]
  },
  {
   "cell_type": "code",
   "execution_count": 6,
   "id": "8c1cf487",
   "metadata": {},
   "outputs": [],
   "source": [
    "array = df.values\n",
    "array\n",
    "X = array[:,0:9]\n",
    "Y = array[:,9]"
   ]
  },
  {
   "cell_type": "markdown",
   "id": "d04b2067",
   "metadata": {},
   "source": [
    "**Тестовый_набор**"
   ]
  },
  {
   "cell_type": "code",
   "execution_count": 7,
   "id": "132abcb0",
   "metadata": {},
   "outputs": [],
   "source": [
    "array_T = df_T.values\n",
    "array_T\n",
    "XX = array_T[:,0:9]\n",
    "YY = array_T[:,9]"
   ]
  },
  {
   "cell_type": "code",
   "execution_count": 8,
   "id": "34be40c2",
   "metadata": {},
   "outputs": [],
   "source": [
    "from sklearn.model_selection import KFold\n",
    "from sklearn.model_selection import cross_val_score\n",
    "# отбор признаков:\n",
    "from sklearn.feature_selection import SelectKBest\n",
    "from sklearn.feature_selection import f_classif\n",
    "# ансамблевые функции:\n",
    "from sklearn.ensemble import BaggingClassifier\n",
    "from sklearn.tree import DecisionTreeClassifier\n",
    "from sklearn.ensemble import RandomForestClassifier\n",
    "from sklearn.ensemble import ExtraTreesClassifier\n",
    "from sklearn.ensemble import AdaBoostClassifier\n",
    "from sklearn.ensemble import GradientBoostingClassifier\n",
    "from xgboost import XGBClassifier\n",
    "from sklearn.linear_model import LogisticRegression\n",
    "from sklearn.svm import SVC\n",
    "from sklearn.ensemble import VotingClassifier\n",
    "import numpy as np\n",
    "from sklearn.linear_model import RidgeClassifier\n",
    "from sklearn.model_selection import GridSearchCV\n",
    "from scipy.stats import uniform\n",
    "from sklearn.model_selection import RandomizedSearchCV\n",
    "from sklearn.model_selection import train_test_split\n",
    "# сохраняет параметры после перезагрузки:\n",
    "import pickle\n",
    "import joblib"
   ]
  },
  {
   "cell_type": "code",
   "execution_count": null,
   "id": "fea260a3",
   "metadata": {},
   "outputs": [],
   "source": [
    "========================================================================================================================"
   ]
  },
  {
   "cell_type": "markdown",
   "id": "792c29cd",
   "metadata": {},
   "source": [
    "# **GrideSearchCV**"
   ]
  },
  {
   "cell_type": "code",
   "execution_count": 9,
   "id": "dd8e968c",
   "metadata": {},
   "outputs": [],
   "source": [
    "from sklearn.model_selection import GridSearchCV\n",
    "from sklearn import linear_model\n",
    "from sklearn.linear_model import LinearRegression\n",
    "from sklearn.neighbors import KNeighborsClassifier"
   ]
  },
  {
   "cell_type": "code",
   "execution_count": 10,
   "id": "2ec35d69",
   "metadata": {},
   "outputs": [],
   "source": [
    "X_train, X_test, Y_train, Y_test = train_test_split(X, Y, test_size=0.25, shuffle=True, random_state=7) "
   ]
  },
  {
   "cell_type": "code",
   "execution_count": 11,
   "id": "fa700e64",
   "metadata": {},
   "outputs": [],
   "source": [
    "clf = AdaBoostClassifier()"
   ]
  },
  {
   "cell_type": "code",
   "execution_count": 128,
   "id": "f0617c81",
   "metadata": {},
   "outputs": [],
   "source": [
    "params = {'n_estimators':range(10,200,25),'learning_rate':np.linspace(0,1,10)}"
   ]
  },
  {
   "cell_type": "code",
   "execution_count": 129,
   "id": "a38a4dab",
   "metadata": {},
   "outputs": [],
   "source": [
    "grid = GridSearchCV(clf, param_grid = params, cv=3,verbose=1,n_jobs=-1)"
   ]
  },
  {
   "cell_type": "code",
   "execution_count": 130,
   "id": "5ca47e0d",
   "metadata": {},
   "outputs": [
    {
     "name": "stdout",
     "output_type": "stream",
     "text": [
      "Fitting 3 folds for each of 80 candidates, totalling 240 fits\n"
     ]
    },
    {
     "name": "stderr",
     "output_type": "stream",
     "text": [
      "D:\\Programs\\lib\\site-packages\\sklearn\\model_selection\\_search.py:922: UserWarning: One or more of the test scores are non-finite: [       nan        nan        nan        nan        nan        nan\n",
      "        nan        nan 0.46821951 0.48335214 0.48404639 0.47845883\n",
      " 0.47776294 0.47962677 0.47753082 0.48195468 0.47962628 0.47799344\n",
      " 0.48102309 0.48381671 0.48032444 0.47962547 0.48079031 0.47659858\n",
      " 0.48381704 0.47776294 0.48055721 0.48055803 0.47822833 0.47869388\n",
      " 0.47450247 0.47706364 0.47264255 0.4789273  0.4793922  0.47939285\n",
      " 0.47613401 0.47566716 0.47450328 0.4738048  0.48358345 0.48079162\n",
      " 0.47822687 0.47659874 0.47915845 0.47450215 0.47217505 0.46844935\n",
      " 0.47589961 0.47916105 0.47590156 0.48009134 0.47566765 0.47427051\n",
      " 0.47427083 0.4735717  0.47869437 0.47706641 0.48125473 0.47659858\n",
      " 0.48009118 0.47846013 0.47566781 0.47729625 0.47915829 0.48032379\n",
      " 0.47497062 0.47357202 0.47753017 0.47543389 0.47403757 0.4733386\n",
      " 0.47496607 0.47310582 0.47636662 0.47240994 0.47124509 0.47496981\n",
      " 0.47217456 0.47031123]\n",
      "  warnings.warn(\n"
     ]
    },
    {
     "data": {
      "text/plain": [
       "GridSearchCV(cv=3, estimator=AdaBoostClassifier(), n_jobs=-1,\n",
       "             param_grid={'learning_rate': array([0.        , 0.11111111, 0.22222222, 0.33333333, 0.44444444,\n",
       "       0.55555556, 0.66666667, 0.77777778, 0.88888889, 1.        ]),\n",
       "                         'n_estimators': range(10, 200, 25)},\n",
       "             verbose=1)"
      ]
     },
     "execution_count": 130,
     "metadata": {},
     "output_type": "execute_result"
    }
   ],
   "source": [
    "grid.fit(X_train,Y_train)"
   ]
  },
  {
   "cell_type": "code",
   "execution_count": 131,
   "id": "8f66e506",
   "metadata": {},
   "outputs": [
    {
     "name": "stdout",
     "output_type": "stream",
     "text": [
      "{'learning_rate': 0.1111111111111111, 'n_estimators': 60}\n",
      "AdaBoostClassifier(learning_rate=0.1111111111111111, n_estimators=60)\n"
     ]
    }
   ],
   "source": [
    "print(grid.best_params_)\n",
    "print(grid.best_estimator_)"
   ]
  },
  {
   "cell_type": "code",
   "execution_count": 132,
   "id": "f1888e46",
   "metadata": {},
   "outputs": [],
   "source": [
    "from sklearn.metrics import classification_report, confusion_matrix"
   ]
  },
  {
   "cell_type": "code",
   "execution_count": 133,
   "id": "452e1d46",
   "metadata": {},
   "outputs": [
    {
     "name": "stdout",
     "output_type": "stream",
     "text": [
      "              precision    recall  f1-score   support\n",
      "\n",
      "         1.0       0.45      0.49      0.47       351\n",
      "         2.0       0.42      0.25      0.32       347\n",
      "         3.0       0.50      0.61      0.55       361\n",
      "         4.0       0.60      0.64      0.62       373\n",
      "\n",
      "    accuracy                           0.50      1432\n",
      "   macro avg       0.49      0.50      0.49      1432\n",
      "weighted avg       0.49      0.50      0.49      1432\n",
      "\n"
     ]
    }
   ],
   "source": [
    "grid_predictions = grid.predict(X_test)\n",
    "print(classification_report(Y_test, grid_predictions))"
   ]
  },
  {
   "cell_type": "code",
   "execution_count": 134,
   "id": "dc608d2b",
   "metadata": {},
   "outputs": [
    {
     "name": "stdout",
     "output_type": "stream",
     "text": [
      "[[171  51  67  62]\n",
      " [ 78  88 139  42]\n",
      " [ 38  48 220  55]\n",
      " [ 97  23  14 239]]\n"
     ]
    }
   ],
   "source": [
    "print(confusion_matrix(Y_test, grid_predictions))"
   ]
  },
  {
   "cell_type": "code",
   "execution_count": null,
   "id": "67a47e3c",
   "metadata": {},
   "outputs": [],
   "source": [
    "================================================================================================================"
   ]
  },
  {
   "cell_type": "code",
   "execution_count": 140,
   "id": "f9ab744b",
   "metadata": {},
   "outputs": [],
   "source": [
    "model = AdaBoostClassifier()"
   ]
  },
  {
   "cell_type": "code",
   "execution_count": 141,
   "id": "651f6f90",
   "metadata": {},
   "outputs": [
    {
     "data": {
      "text/plain": [
       "AdaBoostClassifier()"
      ]
     },
     "execution_count": 141,
     "metadata": {},
     "output_type": "execute_result"
    }
   ],
   "source": [
    "model.fit(X_train,Y_train)"
   ]
  },
  {
   "cell_type": "code",
   "execution_count": 142,
   "id": "8bc76cdc",
   "metadata": {},
   "outputs": [],
   "source": [
    "new_predictions = model.predict(X_test)"
   ]
  },
  {
   "cell_type": "code",
   "execution_count": 143,
   "id": "a9d6f551",
   "metadata": {},
   "outputs": [
    {
     "name": "stdout",
     "output_type": "stream",
     "text": [
      "              precision    recall  f1-score   support\n",
      "\n",
      "         1.0       0.42      0.44      0.43       351\n",
      "         2.0       0.40      0.36      0.38       347\n",
      "         3.0       0.49      0.49      0.49       361\n",
      "         4.0       0.61      0.64      0.62       373\n",
      "\n",
      "    accuracy                           0.48      1432\n",
      "   macro avg       0.48      0.48      0.48      1432\n",
      "weighted avg       0.48      0.48      0.48      1432\n",
      "\n",
      "[[153  80  58  60]\n",
      " [ 79 125 106  37]\n",
      " [ 46  81 178  56]\n",
      " [ 90  24  22 237]]\n"
     ]
    }
   ],
   "source": [
    "print(classification_report(Y_test, new_predictions))\n",
    "print(confusion_matrix(Y_test, new_predictions))"
   ]
  },
  {
   "cell_type": "code",
   "execution_count": null,
   "id": "bde45587",
   "metadata": {},
   "outputs": [],
   "source": [
    "================================================================================================================"
   ]
  },
  {
   "cell_type": "code",
   "execution_count": 144,
   "id": "545c8f0a",
   "metadata": {},
   "outputs": [
    {
     "data": {
      "text/plain": [
       "0.4857691636109656"
      ]
     },
     "execution_count": 144,
     "metadata": {},
     "output_type": "execute_result"
    }
   ],
   "source": [
    "kfold=KFold(n_splits=3,random_state=7,shuffle=True)\n",
    "results=cross_val_score(model, X, Y, cv=3)\n",
    "results.mean()"
   ]
  },
  {
   "cell_type": "code",
   "execution_count": null,
   "id": "9f15dcd3",
   "metadata": {},
   "outputs": [],
   "source": []
  }
 ],
 "metadata": {
  "kernelspec": {
   "display_name": "Python 3 (ipykernel)",
   "language": "python",
   "name": "python3"
  },
  "language_info": {
   "codemirror_mode": {
    "name": "ipython",
    "version": 3
   },
   "file_extension": ".py",
   "mimetype": "text/x-python",
   "name": "python",
   "nbconvert_exporter": "python",
   "pygments_lexer": "ipython3",
   "version": "3.9.7"
  }
 },
 "nbformat": 4,
 "nbformat_minor": 5
}
