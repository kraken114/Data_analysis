{
 "cells": [
  {
   "cell_type": "markdown",
   "id": "2d4e5423",
   "metadata": {},
   "source": [
    "====================================================="
   ]
  },
  {
   "cell_type": "code",
   "execution_count": 3,
   "id": "f4ddb5b9",
   "metadata": {},
   "outputs": [],
   "source": [
    "from sklearn.model_selection import KFold\n",
    "from sklearn.model_selection import cross_val_score\n",
    "# отбор признаков:\n",
    "from sklearn.feature_selection import SelectKBest\n",
    "from sklearn.feature_selection import f_classif\n",
    "# ансамблевые функции:\n",
    "from sklearn.ensemble import BaggingClassifier\n",
    "from sklearn.tree import DecisionTreeClassifier\n",
    "from sklearn.ensemble import RandomForestClassifier\n",
    "from sklearn.ensemble import ExtraTreesClassifier\n",
    "from sklearn.ensemble import AdaBoostClassifier\n",
    "from sklearn.ensemble import GradientBoostingClassifier\n",
    "from xgboost import XGBClassifier\n",
    "from sklearn.linear_model import LogisticRegression\n",
    "from sklearn.svm import SVC\n",
    "from sklearn.ensemble import VotingClassifier\n",
    "import numpy as np\n",
    "from sklearn.linear_model import RidgeClassifier\n",
    "from sklearn.model_selection import GridSearchCV\n",
    "from scipy.stats import uniform\n",
    "from sklearn.model_selection import RandomizedSearchCV\n",
    "from sklearn.model_selection import train_test_split\n",
    "# сохраняет параметры после перезагрузки:\n",
    "import pickle\n",
    "import joblib"
   ]
  },
  {
   "cell_type": "code",
   "execution_count": 18,
   "id": "566d4ce7",
   "metadata": {
    "collapsed": true
   },
   "outputs": [
    {
     "ename": "SyntaxError",
     "evalue": "invalid syntax (Temp/ipykernel_17880/441078461.py, line 1)",
     "output_type": "error",
     "traceback": [
      "\u001b[1;36m  File \u001b[1;32m\"C:\\Users\\D9F8~1\\AppData\\Local\\Temp/ipykernel_17880/441078461.py\"\u001b[1;36m, line \u001b[1;32m1\u001b[0m\n\u001b[1;33m    +++++++++++++++++++++++++++++++++++++++++++++++++++++\u001b[0m\n\u001b[1;37m                                                         ^\u001b[0m\n\u001b[1;31mSyntaxError\u001b[0m\u001b[1;31m:\u001b[0m invalid syntax\n"
     ]
    }
   ],
   "source": [
    "+++++++++++++++++++++++++++++++++++++++++++++++++++++"
   ]
  },
  {
   "cell_type": "code",
   "execution_count": 11,
   "id": "df20eafd",
   "metadata": {},
   "outputs": [],
   "source": [
    "kfold = KFold(n_splits= 10, random_state = 7, shuffle=True)"
   ]
  },
  {
   "cell_type": "code",
   "execution_count": 12,
   "id": "474d136e",
   "metadata": {},
   "outputs": [],
   "source": [
    "cart = DecisionTreeClassifier() # модель решающего дерева"
   ]
  },
  {
   "cell_type": "markdown",
   "id": "e3f7b628",
   "metadata": {},
   "source": [
    "**деревья_решенией (Bagged Decision Trees)**"
   ]
  },
  {
   "cell_type": "code",
   "execution_count": 13,
   "id": "16383b42",
   "metadata": {},
   "outputs": [],
   "source": [
    "model = BaggingClassifier(base_estimator=cart, n_estimators = 100, random_state=7)"
   ]
  },
  {
   "cell_type": "code",
   "execution_count": 14,
   "id": "bb66efa5",
   "metadata": {},
   "outputs": [],
   "source": [
    "results = cross_val_score(model, X, Y, cv=kfold)"
   ]
  },
  {
   "cell_type": "code",
   "execution_count": 15,
   "id": "c5b131f0",
   "metadata": {},
   "outputs": [
    {
     "data": {
      "text/plain": [
       "(0.4903143023083053, 0.02540988443186073)"
      ]
     },
     "execution_count": 15,
     "metadata": {},
     "output_type": "execute_result"
    }
   ],
   "source": [
    "results.mean(), results.std()"
   ]
  },
  {
   "cell_type": "code",
   "execution_count": null,
   "id": "f39c65ae",
   "metadata": {},
   "outputs": [],
   "source": [
    "============================================================================================================="
   ]
  },
  {
   "cell_type": "code",
   "execution_count": 1,
   "id": "cc76e7f4",
   "metadata": {},
   "outputs": [],
   "source": [
    "import pandas as pd\n",
    "import numpy as np\n",
    "from pandas import read_csv"
   ]
  },
  {
   "cell_type": "code",
   "execution_count": 2,
   "id": "087dd9aa",
   "metadata": {
    "scrolled": true
   },
   "outputs": [],
   "source": [
    "df=read_csv('D:\\Политех\\Класиффикация\\Сегментация_клиентов\\Train_cleared_!!!!!!!!.csv')"
   ]
  },
  {
   "cell_type": "code",
   "execution_count": 3,
   "id": "dc9a454a",
   "metadata": {},
   "outputs": [],
   "source": [
    "df=df.filter(regex='^(?!.*Unnamed).*$')"
   ]
  },
  {
   "cell_type": "code",
   "execution_count": 4,
   "id": "1b91896f",
   "metadata": {},
   "outputs": [],
   "source": [
    "df_T=read_csv('D:\\Политех\\Класиффикация\\Сегментация_клиентов\\Test_cleared_!!!!!!!!.csv')"
   ]
  },
  {
   "cell_type": "code",
   "execution_count": 5,
   "id": "9735e536",
   "metadata": {},
   "outputs": [],
   "source": [
    "df_T=df_T.filter(regex='^(?!.*Unnamed).*$')"
   ]
  },
  {
   "cell_type": "markdown",
   "id": "375b0add",
   "metadata": {},
   "source": [
    "**Обучающий_набор**"
   ]
  },
  {
   "cell_type": "code",
   "execution_count": 6,
   "id": "8c1cf487",
   "metadata": {},
   "outputs": [],
   "source": [
    "array = df.values\n",
    "array\n",
    "X = array[:,0:9]\n",
    "Y = array[:,9]"
   ]
  },
  {
   "cell_type": "markdown",
   "id": "d04b2067",
   "metadata": {},
   "source": [
    "**Тестовый_набор**"
   ]
  },
  {
   "cell_type": "code",
   "execution_count": 7,
   "id": "132abcb0",
   "metadata": {},
   "outputs": [],
   "source": [
    "array_T = df_T.values\n",
    "array_T\n",
    "XX = array_T[:,0:9]\n",
    "YY = array_T[:,9]"
   ]
  },
  {
   "cell_type": "code",
   "execution_count": 8,
   "id": "34be40c2",
   "metadata": {},
   "outputs": [],
   "source": [
    "from sklearn.model_selection import KFold\n",
    "from sklearn.model_selection import cross_val_score\n",
    "# отбор признаков:\n",
    "from sklearn.feature_selection import SelectKBest\n",
    "from sklearn.feature_selection import f_classif\n",
    "# ансамблевые функции:\n",
    "from sklearn.ensemble import BaggingClassifier\n",
    "from sklearn.tree import DecisionTreeClassifier\n",
    "from sklearn.ensemble import RandomForestClassifier\n",
    "from sklearn.ensemble import ExtraTreesClassifier\n",
    "from sklearn.ensemble import AdaBoostClassifier\n",
    "from sklearn.ensemble import GradientBoostingClassifier\n",
    "from xgboost import XGBClassifier\n",
    "from sklearn.linear_model import LogisticRegression\n",
    "from sklearn.svm import SVC\n",
    "from sklearn.ensemble import VotingClassifier\n",
    "import numpy as np\n",
    "from sklearn.linear_model import RidgeClassifier\n",
    "from sklearn.model_selection import GridSearchCV\n",
    "from scipy.stats import uniform\n",
    "from sklearn.model_selection import RandomizedSearchCV\n",
    "from sklearn.model_selection import train_test_split\n",
    "# сохраняет параметры после перезагрузки:\n",
    "import pickle\n",
    "import joblib"
   ]
  },
  {
   "cell_type": "code",
   "execution_count": 9,
   "id": "daad7d15",
   "metadata": {
    "collapsed": true
   },
   "outputs": [
    {
     "ename": "SyntaxError",
     "evalue": "invalid syntax (Temp/ipykernel_16424/549940349.py, line 1)",
     "output_type": "error",
     "traceback": [
      "\u001b[1;36m  File \u001b[1;32m\"C:\\Users\\D9F8~1\\AppData\\Local\\Temp/ipykernel_16424/549940349.py\"\u001b[1;36m, line \u001b[1;32m1\u001b[0m\n\u001b[1;33m    ========================================================================================================================\u001b[0m\n\u001b[1;37m    ^\u001b[0m\n\u001b[1;31mSyntaxError\u001b[0m\u001b[1;31m:\u001b[0m invalid syntax\n"
     ]
    }
   ],
   "source": [
    "========================================================================================================================"
   ]
  },
  {
   "cell_type": "markdown",
   "id": "792c29cd",
   "metadata": {},
   "source": [
    "# **GrideSearchCV**"
   ]
  },
  {
   "cell_type": "code",
   "execution_count": 14,
   "id": "dd8e968c",
   "metadata": {},
   "outputs": [],
   "source": [
    "from sklearn.model_selection import GridSearchCV\n",
    "from sklearn import linear_model\n",
    "from sklearn.linear_model import LinearRegression\n",
    "from sklearn.neighbors import KNeighborsClassifier"
   ]
  },
  {
   "cell_type": "code",
   "execution_count": 15,
   "id": "2ec35d69",
   "metadata": {},
   "outputs": [],
   "source": [
    "X_train, X_test, Y_train, Y_test = train_test_split(X, Y, test_size=0.25, shuffle=True, random_state=7) "
   ]
  },
  {
   "cell_type": "code",
   "execution_count": 16,
   "id": "fa700e64",
   "metadata": {},
   "outputs": [],
   "source": [
    "clf = BaggingClassifier()"
   ]
  },
  {
   "cell_type": "code",
   "execution_count": 17,
   "id": "f0617c81",
   "metadata": {},
   "outputs": [],
   "source": [
    "params = {\n",
    "          'bootstrap': [True, False],\n",
    "          'bootstrap_features': [True, False],    \n",
    "          'n_estimators': [5, 10, 15,100,1000],\n",
    "          'max_samples' : [0.6, 0.8, 1.0],\n",
    "          'base_estimator' : [DecisionTreeClassifier(criterion='entropy', max_depth=5), \n",
    "                              KNeighborsClassifier(metric='manhattan', n_neighbors=50)]\n",
    "}"
   ]
  },
  {
   "cell_type": "code",
   "execution_count": 18,
   "id": "a38a4dab",
   "metadata": {},
   "outputs": [],
   "source": [
    "grid = GridSearchCV(clf, param_grid = params, cv=3,verbose=1,n_jobs=-1)"
   ]
  },
  {
   "cell_type": "code",
   "execution_count": 19,
   "id": "5ca47e0d",
   "metadata": {},
   "outputs": [
    {
     "name": "stdout",
     "output_type": "stream",
     "text": [
      "Fitting 3 folds for each of 120 candidates, totalling 360 fits\n"
     ]
    },
    {
     "data": {
      "text/plain": [
       "GridSearchCV(cv=3, estimator=BaggingClassifier(), n_jobs=-1,\n",
       "             param_grid={'base_estimator': [DecisionTreeClassifier(criterion='entropy',\n",
       "                                                                   max_depth=5),\n",
       "                                            KNeighborsClassifier(metric='manhattan',\n",
       "                                                                 n_neighbors=50)],\n",
       "                         'bootstrap': [True, False],\n",
       "                         'bootstrap_features': [True, False],\n",
       "                         'max_samples': [0.6, 0.8, 1.0],\n",
       "                         'n_estimators': [5, 10, 15, 100, 1000]},\n",
       "             verbose=1)"
      ]
     },
     "execution_count": 19,
     "metadata": {},
     "output_type": "execute_result"
    }
   ],
   "source": [
    "grid.fit(X_train,Y_train)"
   ]
  },
  {
   "cell_type": "code",
   "execution_count": 20,
   "id": "8f66e506",
   "metadata": {
    "scrolled": false
   },
   "outputs": [
    {
     "name": "stdout",
     "output_type": "stream",
     "text": [
      "BaggingClassifier(base_estimator=DecisionTreeClassifier(criterion='entropy',\n",
      "                                                        max_depth=5),\n",
      "                  bootstrap=False, bootstrap_features=True, n_estimators=100)\n"
     ]
    }
   ],
   "source": [
    "print(grid.best_params_)\n",
    "print(grid.best_estimator_)"
   ]
  },
  {
   "cell_type": "code",
   "execution_count": 21,
   "id": "f1888e46",
   "metadata": {},
   "outputs": [],
   "source": [
    "from sklearn.metrics import classification_report, confusion_matrix"
   ]
  },
  {
   "cell_type": "code",
   "execution_count": 22,
   "id": "452e1d46",
   "metadata": {},
   "outputs": [
    {
     "name": "stdout",
     "output_type": "stream",
     "text": [
      "              precision    recall  f1-score   support\n",
      "\n",
      "         1.0       0.46      0.48      0.47       351\n",
      "         2.0       0.42      0.28      0.34       347\n",
      "         3.0       0.54      0.57      0.55       361\n",
      "         4.0       0.59      0.71      0.64       373\n",
      "\n",
      "    accuracy                           0.51      1432\n",
      "   macro avg       0.50      0.51      0.50      1432\n",
      "weighted avg       0.50      0.51      0.50      1432\n",
      "\n"
     ]
    }
   ],
   "source": [
    "grid_predictions = grid.predict(X_test)\n",
    "print(classification_report(Y_test, grid_predictions))"
   ]
  },
  {
   "cell_type": "code",
   "execution_count": 23,
   "id": "dc608d2b",
   "metadata": {
    "scrolled": true
   },
   "outputs": [
    {
     "name": "stdout",
     "output_type": "stream",
     "text": [
      "[[169  56  48  78]\n",
      " [ 86  97 118  46]\n",
      " [ 37  56 205  63]\n",
      " [ 77  22  10 264]]\n"
     ]
    }
   ],
   "source": [
    "print(confusion_matrix(Y_test, grid_predictions))"
   ]
  },
  {
   "cell_type": "code",
   "execution_count": 132,
   "id": "545c8f0a",
   "metadata": {},
   "outputs": [
    {
     "data": {
      "text/plain": [
       "0.5105639951108784"
      ]
     },
     "execution_count": 132,
     "metadata": {},
     "output_type": "execute_result"
    }
   ],
   "source": [
    "kfold=KFold(n_splits=3,random_state=7,shuffle=True)\n",
    "results=cross_val_score(model, X, Y, cv=3)\n",
    "results.mean()"
   ]
  },
  {
   "cell_type": "code",
   "execution_count": null,
   "id": "67a47e3c",
   "metadata": {},
   "outputs": [],
   "source": [
    "================================================================================================================"
   ]
  },
  {
   "cell_type": "code",
   "execution_count": 128,
   "id": "f9ab744b",
   "metadata": {},
   "outputs": [],
   "source": [
    "model = BaggingClassifier(base_estimator=DecisionTreeClassifier(criterion='entropy',max_depth=5),\n",
    "                          bootstrap=False, \n",
    "                          bootstrap_features=True, \n",
    "                          max_samples=0.8,\n",
    "                          n_estimators=100)"
   ]
  },
  {
   "cell_type": "code",
   "execution_count": 116,
   "id": "a6598752",
   "metadata": {},
   "outputs": [],
   "source": [
    "# model = BaggingClassifier(bootstrap_features=True, max_samples=0.6, n_estimators=1000)"
   ]
  },
  {
   "cell_type": "code",
   "execution_count": 129,
   "id": "651f6f90",
   "metadata": {},
   "outputs": [
    {
     "data": {
      "text/plain": [
       "BaggingClassifier(base_estimator=DecisionTreeClassifier(criterion='entropy',\n",
       "                                                        max_depth=5),\n",
       "                  bootstrap=False, bootstrap_features=True, max_samples=0.8,\n",
       "                  n_estimators=100)"
      ]
     },
     "execution_count": 129,
     "metadata": {},
     "output_type": "execute_result"
    }
   ],
   "source": [
    "model.fit(X_train,Y_train)"
   ]
  },
  {
   "cell_type": "code",
   "execution_count": 130,
   "id": "8bc76cdc",
   "metadata": {},
   "outputs": [],
   "source": [
    "new_predictions = model.predict(X_test)"
   ]
  },
  {
   "cell_type": "code",
   "execution_count": 131,
   "id": "a9d6f551",
   "metadata": {},
   "outputs": [
    {
     "name": "stdout",
     "output_type": "stream",
     "text": [
      "              precision    recall  f1-score   support\n",
      "\n",
      "         1.0       0.47      0.49      0.48       351\n",
      "         2.0       0.41      0.31      0.35       347\n",
      "         3.0       0.56      0.55      0.56       361\n",
      "         4.0       0.59      0.71      0.65       373\n",
      "\n",
      "    accuracy                           0.52      1432\n",
      "   macro avg       0.51      0.52      0.51      1432\n",
      "weighted avg       0.51      0.52      0.51      1432\n",
      "\n",
      "[[172  61  40  78]\n",
      " [ 88 106 109  44]\n",
      " [ 39  59 200  63]\n",
      " [ 68  31   8 266]]\n"
     ]
    }
   ],
   "source": [
    "print(classification_report(Y_test, new_predictions))\n",
    "print(confusion_matrix(Y_test, new_predictions))"
   ]
  },
  {
   "cell_type": "code",
   "execution_count": null,
   "id": "162a842c",
   "metadata": {},
   "outputs": [],
   "source": [
    "================================================================================================================"
   ]
  },
  {
   "cell_type": "code",
   "execution_count": null,
   "id": "e559197e",
   "metadata": {},
   "outputs": [],
   "source": []
  },
  {
   "cell_type": "code",
   "execution_count": null,
   "id": "f7a1c2e1",
   "metadata": {},
   "outputs": [],
   "source": []
  },
  {
   "cell_type": "code",
   "execution_count": null,
   "id": "39c7ebd6",
   "metadata": {},
   "outputs": [],
   "source": []
  },
  {
   "cell_type": "code",
   "execution_count": null,
   "id": "bd9882dc",
   "metadata": {},
   "outputs": [],
   "source": []
  },
  {
   "cell_type": "code",
   "execution_count": null,
   "id": "a142ad9b",
   "metadata": {},
   "outputs": [],
   "source": []
  },
  {
   "cell_type": "markdown",
   "id": "661aca83",
   "metadata": {},
   "source": [
    "# **Random Forest**"
   ]
  },
  {
   "cell_type": "markdown",
   "id": "73dbfa7a",
   "metadata": {},
   "source": [
    " **GridSearchCV**"
   ]
  },
  {
   "cell_type": "markdown",
   "id": "fabf782b",
   "metadata": {},
   "source": [
    "**Поиск_лучших_параметров**"
   ]
  },
  {
   "cell_type": "code",
   "execution_count": 13,
   "id": "30df4dc7",
   "metadata": {
    "collapsed": true
   },
   "outputs": [
    {
     "data": {
      "text/plain": [
       "Index(['Пол', 'Семейное_положение', 'Возраст', 'Высшее_образование',\n",
       "       'Профессия', 'Опыт_работы', 'Уровень_расходов', 'Размер_семьи',\n",
       "       'Анонимная_категория', 'Целевая_категория'],\n",
       "      dtype='object')"
      ]
     },
     "execution_count": 13,
     "metadata": {},
     "output_type": "execute_result"
    }
   ],
   "source": [
    "df.columns"
   ]
  },
  {
   "cell_type": "code",
   "execution_count": 14,
   "id": "efeec0ab",
   "metadata": {},
   "outputs": [],
   "source": [
    "from sklearn.model_selection import GridSearchCV"
   ]
  },
  {
   "cell_type": "code",
   "execution_count": 18,
   "id": "32c33eae",
   "metadata": {},
   "outputs": [],
   "source": [
    "clf = RandomForestClassifier()"
   ]
  },
  {
   "cell_type": "code",
   "execution_count": 19,
   "id": "d7081694",
   "metadata": {},
   "outputs": [],
   "source": [
    "X_train = df.drop('Целевая_категория', axis=1)\n",
    "y_train = df['Целевая_категория']"
   ]
  },
  {
   "cell_type": "code",
   "execution_count": 20,
   "id": "e7808afb",
   "metadata": {},
   "outputs": [],
   "source": [
    "parametrs = { 'n_estimators': range (10, 250, 10),\n",
    "              'max_depth': range (1,13, 2),\n",
    "              'min_samples_leaf': range (1,8),\n",
    "              'min_samples_split': range (2,10,2) }"
   ]
  },
  {
   "cell_type": "code",
   "execution_count": 21,
   "id": "605ac3ca",
   "metadata": {},
   "outputs": [
    {
     "data": {
      "text/plain": [
       "GridSearchCV(cv=5, estimator=RandomForestClassifier(),\n",
       "             param_grid={'max_depth': range(1, 13, 2),\n",
       "                         'min_samples_leaf': range(1, 8),\n",
       "                         'min_samples_split': range(2, 10, 2),\n",
       "                         'n_estimators': range(10, 51, 10)})"
      ]
     },
     "execution_count": 21,
     "metadata": {},
     "output_type": "execute_result"
    }
   ],
   "source": [
    "grid = GridSearchCV(clf, parametrs, cv=5)\n",
    "grid.fit(X_train, y_train)"
   ]
  },
  {
   "cell_type": "markdown",
   "id": "bc1aa479",
   "metadata": {},
   "source": [
    "**Лучшие_параметры:**"
   ]
  },
  {
   "cell_type": "code",
   "execution_count": 32,
   "id": "15dd50d3",
   "metadata": {},
   "outputs": [
    {
     "data": {
      "text/plain": [
       "{'max_depth': 9,\n",
       " 'min_samples_leaf': 2,\n",
       " 'min_samples_split': 2,\n",
       " 'n_estimators': 90}"
      ]
     },
     "execution_count": 32,
     "metadata": {},
     "output_type": "execute_result"
    }
   ],
   "source": [
    "grid.best_params_"
   ]
  },
  {
   "cell_type": "markdown",
   "id": "0316d8bd",
   "metadata": {},
   "source": [
    "================================================="
   ]
  },
  {
   "cell_type": "code",
   "execution_count": 33,
   "id": "54d46135",
   "metadata": {},
   "outputs": [],
   "source": [
    "lst_1 = list(range(6,10))\n",
    "lst_2 = list(range(3,4))\n",
    "lst_3 = list(range(100,200))\n",
    "k = []"
   ]
  },
  {
   "cell_type": "code",
   "execution_count": 34,
   "id": "af270af5",
   "metadata": {},
   "outputs": [
    {
     "name": "stdout",
     "output_type": "stream",
     "text": [
      "n_splits: 3 KBest: 6 0.5203278770020181\n",
      "n_splits: 3 KBest: 7 0.5260301356565192\n",
      "n_splits: 3 KBest: 8 0.5345825442517237\n",
      "n_splits: 3 KBest: 9 0.5333824242397225\n",
      "n_splits = 3 max = 0.5345825442517237\n"
     ]
    }
   ],
   "source": [
    "model = RandomForestClassifier(max_depth = 9, min_samples_leaf = 2, min_samples_split = 2, n_estimators= 90)\n",
    "for i in lst_2:\n",
    "   kfold=KFold(n_splits=i,random_state=7,shuffle=True)\n",
    "   for j in lst_1:\n",
    "      test=SelectKBest(score_func=f_classif, k=j)\n",
    "      fit=test.fit(X,Y)\n",
    "      features=fit.transform(X)\n",
    "      results=cross_val_score(model, features, Y, cv=kfold)\n",
    "      res = results.mean()\n",
    "      k.append(res)\n",
    "      print(f'n_splits: {i} KBest: {j} {res}')\n",
    "   print(f'n_splits = {i} max = {max(k)}')"
   ]
  },
  {
   "cell_type": "code",
   "execution_count": null,
   "id": "57d6f733",
   "metadata": {},
   "outputs": [],
   "source": []
  },
  {
   "cell_type": "code",
   "execution_count": null,
   "id": "858b4756",
   "metadata": {},
   "outputs": [],
   "source": []
  },
  {
   "cell_type": "code",
   "execution_count": null,
   "id": "ae0adb2b",
   "metadata": {},
   "outputs": [],
   "source": []
  },
  {
   "cell_type": "code",
   "execution_count": null,
   "id": "b95b241a",
   "metadata": {},
   "outputs": [],
   "source": []
  },
  {
   "cell_type": "code",
   "execution_count": null,
   "id": "35c7f0a8",
   "metadata": {},
   "outputs": [],
   "source": []
  },
  {
   "cell_type": "code",
   "execution_count": null,
   "id": "6319daf2",
   "metadata": {},
   "outputs": [],
   "source": []
  },
  {
   "cell_type": "code",
   "execution_count": null,
   "id": "416df0f3",
   "metadata": {},
   "outputs": [],
   "source": []
  },
  {
   "cell_type": "code",
   "execution_count": 24,
   "id": "81646b72",
   "metadata": {
    "collapsed": true
   },
   "outputs": [
    {
     "name": "stderr",
     "output_type": "stream",
     "text": [
      "D:\\Programs\\lib\\site-packages\\xgboost\\sklearn.py:1224: UserWarning: The use of label encoder in XGBClassifier is deprecated and will be removed in a future release. To remove this warning, do the following: 1) Pass option use_label_encoder=False when constructing XGBClassifier object; and 2) Encode your labels (y) as integers starting with 0, i.e. 0, 1, 2, ..., [num_class - 1].\n",
      "  warnings.warn(label_encoder_deprecation_msg, UserWarning)\n"
     ]
    },
    {
     "name": "stdout",
     "output_type": "stream",
     "text": [
      "n_estimators = 50 max_depth = [ 0.  1. 38.  0.  3.  4.  3.  1.  6.]\n",
      "[[ 777  241  337  261]\n",
      " [ 397  410  601  164]\n",
      " [ 178  207 1133  202]\n",
      " [ 355   97   74 1231]]\n",
      "n_estimators = 50 max_depth = [ 1.  1. 48.  1.  1.  0.  2.  2.  6.]\n",
      "[[ 777  241  337  261]\n",
      " [ 397  410  601  164]\n",
      " [ 178  207 1133  202]\n",
      " [ 355   97   74 1231]]\n",
      "n_estimators = 50 max_depth = [ 0.  1. 51.  1.  1.  3.  3.  4.  6.]\n",
      "[[ 777  241  337  261]\n",
      " [ 397  410  601  164]\n",
      " [ 178  207 1133  202]\n",
      " [ 355   97   74 1231]]\n",
      "n_estimators = 50 max_depth = [ 1.  1. 73.  1.  1.  1.  1.  2.  2.]\n",
      "[[ 777  241  337  261]\n",
      " [ 397  410  601  164]\n",
      " [ 178  207 1133  202]\n",
      " [ 355   97   74 1231]]\n",
      "n_estimators = 50 max_depth = [ 1.  0. 30.  1.  2.  1.  3.  4.  6.]\n",
      "[[ 777  241  337  261]\n",
      " [ 397  410  601  164]\n",
      " [ 178  207 1133  202]\n",
      " [ 355   97   74 1231]]\n",
      "n_estimators = 50 max_depth = [ 0.  1. 65.  1.  6.  1.  2.  2.  6.]\n",
      "[[ 777  241  337  261]\n",
      " [ 397  410  601  164]\n",
      " [ 178  207 1133  202]\n",
      " [ 355   97   74 1231]]\n",
      "n_estimators = 50 max_depth = [ 0.  0. 36.  0.  1.  0.  3.  1.  5.]\n",
      "[[ 777  241  337  261]\n",
      " [ 397  410  601  164]\n",
      " [ 178  207 1133  202]\n",
      " [ 355   97   74 1231]]\n",
      "n_estimators = 50 max_depth = [ 0.  0. 25.  1.  2.  0.  3.  3.  5.]\n",
      "[[ 777  241  337  261]\n",
      " [ 397  410  601  164]\n",
      " [ 178  207 1133  202]\n",
      " [ 355   97   74 1231]]\n",
      "n_estimators = 50 max_depth = [ 1.  1. 43.  1.  7.  0.  1.  4.  6.]\n",
      "[[ 777  241  337  261]\n",
      " [ 397  410  601  164]\n",
      " [ 178  207 1133  202]\n",
      " [ 355   97   74 1231]]\n",
      "n_estimators = 50 max_depth = [ 0.  1. 33.  1.  9.  0.  1.  2.  3.]\n",
      "[[ 777  241  337  261]\n",
      " [ 397  410  601  164]\n",
      " [ 178  207 1133  202]\n",
      " [ 355   97   74 1231]]\n",
      "n_estimators = 50 max_depth = [ 1.  0. 30.  1.  3. 14.  3.  1.  6.]\n",
      "[[ 777  241  337  261]\n",
      " [ 397  410  601  164]\n",
      " [ 178  207 1133  202]\n",
      " [ 355   97   74 1231]]\n",
      "n_estimators = 50 max_depth = [ 0.  0. 25.  1.  4.  8.  3.  2.  6.]\n",
      "[[ 777  241  337  261]\n",
      " [ 397  410  601  164]\n",
      " [ 178  207 1133  202]\n",
      " [ 355   97   74 1231]]\n",
      "n_estimators = 50 max_depth = [ 1.  1. 49.  1.  1.  4.  2.  4.  6.]\n",
      "[[ 777  241  337  261]\n",
      " [ 397  410  601  164]\n",
      " [ 178  207 1133  202]\n",
      " [ 355   97   74 1231]]\n",
      "n_estimators = 50 max_depth = [ 0.  0. 31.  1.  1.  9.  3.  1.  6.]\n",
      "[[ 777  241  337  261]\n",
      " [ 397  410  601  164]\n",
      " [ 178  207 1133  202]\n",
      " [ 355   97   74 1231]]\n",
      "n_estimators = 50 max_depth = [ 0.  0. 27.  1.  5. 14.  3.  8.  6.]\n",
      "[[ 777  241  337  261]\n",
      " [ 397  410  601  164]\n",
      " [ 178  207 1133  202]\n",
      " [ 355   97   74 1231]]\n",
      "n_estimators = 50 max_depth = [ 0.  0. 33.  1.  3. 11.  3.  3.  6.]\n",
      "[[ 777  241  337  261]\n",
      " [ 397  410  601  164]\n",
      " [ 178  207 1133  202]\n",
      " [ 355   97   74 1231]]\n",
      "n_estimators = 50 max_depth = [ 1.  1. 35.  1.  1.  1.  2.  2.  6.]\n",
      "[[ 777  241  337  261]\n",
      " [ 397  410  601  164]\n",
      " [ 178  207 1133  202]\n",
      " [ 355   97   74 1231]]\n",
      "n_estimators = 50 max_depth = [ 1.  0. 19.  0.  2.  1.  3.  5.  3.]\n",
      "[[ 777  241  337  261]\n",
      " [ 397  410  601  164]\n",
      " [ 178  207 1133  202]\n",
      " [ 355   97   74 1231]]\n",
      "n_estimators = 50 max_depth = [ 0.  1. 25.  0.  8.  0.  1.  5.  4.]\n",
      "[[ 777  241  337  261]\n",
      " [ 397  410  601  164]\n",
      " [ 178  207 1133  202]\n",
      " [ 355   97   74 1231]]\n",
      "n_estimators = 50 max_depth = [ 1.  1. 57.  0.  7.  4.  1.  4.  6.]\n",
      "[[ 777  241  337  261]\n",
      " [ 397  410  601  164]\n",
      " [ 178  207 1133  202]\n",
      " [ 355   97   74 1231]]\n"
     ]
    },
    {
     "name": "stderr",
     "output_type": "stream",
     "text": [
      "D:\\Programs\\lib\\site-packages\\xgboost\\sklearn.py:1224: UserWarning: The use of label encoder in XGBClassifier is deprecated and will be removed in a future release. To remove this warning, do the following: 1) Pass option use_label_encoder=False when constructing XGBClassifier object; and 2) Encode your labels (y) as integers starting with 0, i.e. 0, 1, 2, ..., [num_class - 1].\n",
      "  warnings.warn(label_encoder_deprecation_msg, UserWarning)\n"
     ]
    },
    {
     "name": "stdout",
     "output_type": "stream",
     "text": [
      "n_estimators = 50 max_depth = [ 0.  1. 38.  0.  3.  4.  3.  1.  6.]\n",
      "[[ 877  267  203  269]\n",
      " [ 368  586  446  172]\n",
      " [ 153  273 1088  206]\n",
      " [ 310   95   49 1303]]\n",
      "n_estimators = 50 max_depth = [ 1.  1. 48.  1.  1.  0.  2.  2.  6.]\n",
      "[[ 877  267  203  269]\n",
      " [ 368  586  446  172]\n",
      " [ 153  273 1088  206]\n",
      " [ 310   95   49 1303]]\n",
      "n_estimators = 50 max_depth = [ 0.  1. 51.  1.  1.  3.  3.  4.  6.]\n",
      "[[ 877  267  203  269]\n",
      " [ 368  586  446  172]\n",
      " [ 153  273 1088  206]\n",
      " [ 310   95   49 1303]]\n",
      "n_estimators = 50 max_depth = [ 1.  1. 73.  1.  1.  1.  1.  2.  2.]\n",
      "[[ 877  267  203  269]\n",
      " [ 368  586  446  172]\n",
      " [ 153  273 1088  206]\n",
      " [ 310   95   49 1303]]\n",
      "n_estimators = 50 max_depth = [ 1.  0. 30.  1.  2.  1.  3.  4.  6.]\n",
      "[[ 877  267  203  269]\n",
      " [ 368  586  446  172]\n",
      " [ 153  273 1088  206]\n",
      " [ 310   95   49 1303]]\n",
      "n_estimators = 50 max_depth = [ 0.  1. 65.  1.  6.  1.  2.  2.  6.]\n",
      "[[ 877  267  203  269]\n",
      " [ 368  586  446  172]\n",
      " [ 153  273 1088  206]\n",
      " [ 310   95   49 1303]]\n",
      "n_estimators = 50 max_depth = [ 0.  0. 36.  0.  1.  0.  3.  1.  5.]\n",
      "[[ 877  267  203  269]\n",
      " [ 368  586  446  172]\n",
      " [ 153  273 1088  206]\n",
      " [ 310   95   49 1303]]\n",
      "n_estimators = 50 max_depth = [ 0.  0. 25.  1.  2.  0.  3.  3.  5.]\n",
      "[[ 877  267  203  269]\n",
      " [ 368  586  446  172]\n",
      " [ 153  273 1088  206]\n",
      " [ 310   95   49 1303]]\n",
      "n_estimators = 50 max_depth = [ 1.  1. 43.  1.  7.  0.  1.  4.  6.]\n",
      "[[ 877  267  203  269]\n",
      " [ 368  586  446  172]\n",
      " [ 153  273 1088  206]\n",
      " [ 310   95   49 1303]]\n",
      "n_estimators = 50 max_depth = [ 0.  1. 33.  1.  9.  0.  1.  2.  3.]\n",
      "[[ 877  267  203  269]\n",
      " [ 368  586  446  172]\n",
      " [ 153  273 1088  206]\n",
      " [ 310   95   49 1303]]\n",
      "n_estimators = 50 max_depth = [ 1.  0. 30.  1.  3. 14.  3.  1.  6.]\n",
      "[[ 877  267  203  269]\n",
      " [ 368  586  446  172]\n",
      " [ 153  273 1088  206]\n",
      " [ 310   95   49 1303]]\n",
      "n_estimators = 50 max_depth = [ 0.  0. 25.  1.  4.  8.  3.  2.  6.]\n",
      "[[ 877  267  203  269]\n",
      " [ 368  586  446  172]\n",
      " [ 153  273 1088  206]\n",
      " [ 310   95   49 1303]]\n",
      "n_estimators = 50 max_depth = [ 1.  1. 49.  1.  1.  4.  2.  4.  6.]\n",
      "[[ 877  267  203  269]\n",
      " [ 368  586  446  172]\n",
      " [ 153  273 1088  206]\n",
      " [ 310   95   49 1303]]\n",
      "n_estimators = 50 max_depth = [ 0.  0. 31.  1.  1.  9.  3.  1.  6.]\n",
      "[[ 877  267  203  269]\n",
      " [ 368  586  446  172]\n",
      " [ 153  273 1088  206]\n",
      " [ 310   95   49 1303]]\n",
      "n_estimators = 50 max_depth = [ 0.  0. 27.  1.  5. 14.  3.  8.  6.]\n",
      "[[ 877  267  203  269]\n",
      " [ 368  586  446  172]\n",
      " [ 153  273 1088  206]\n",
      " [ 310   95   49 1303]]\n",
      "n_estimators = 50 max_depth = [ 0.  0. 33.  1.  3. 11.  3.  3.  6.]\n",
      "[[ 877  267  203  269]\n",
      " [ 368  586  446  172]\n",
      " [ 153  273 1088  206]\n",
      " [ 310   95   49 1303]]\n",
      "n_estimators = 50 max_depth = [ 1.  1. 35.  1.  1.  1.  2.  2.  6.]\n",
      "[[ 877  267  203  269]\n",
      " [ 368  586  446  172]\n",
      " [ 153  273 1088  206]\n",
      " [ 310   95   49 1303]]\n",
      "n_estimators = 50 max_depth = [ 1.  0. 19.  0.  2.  1.  3.  5.  3.]\n",
      "[[ 877  267  203  269]\n",
      " [ 368  586  446  172]\n",
      " [ 153  273 1088  206]\n",
      " [ 310   95   49 1303]]\n",
      "n_estimators = 50 max_depth = [ 0.  1. 25.  0.  8.  0.  1.  5.  4.]\n",
      "[[ 877  267  203  269]\n",
      " [ 368  586  446  172]\n",
      " [ 153  273 1088  206]\n",
      " [ 310   95   49 1303]]\n",
      "n_estimators = 50 max_depth = [ 1.  1. 57.  0.  7.  4.  1.  4.  6.]\n",
      "[[ 877  267  203  269]\n",
      " [ 368  586  446  172]\n",
      " [ 153  273 1088  206]\n",
      " [ 310   95   49 1303]]\n"
     ]
    },
    {
     "name": "stderr",
     "output_type": "stream",
     "text": [
      "D:\\Programs\\lib\\site-packages\\xgboost\\sklearn.py:1224: UserWarning: The use of label encoder in XGBClassifier is deprecated and will be removed in a future release. To remove this warning, do the following: 1) Pass option use_label_encoder=False when constructing XGBClassifier object; and 2) Encode your labels (y) as integers starting with 0, i.e. 0, 1, 2, ..., [num_class - 1].\n",
      "  warnings.warn(label_encoder_deprecation_msg, UserWarning)\n"
     ]
    },
    {
     "name": "stdout",
     "output_type": "stream",
     "text": [
      "n_estimators = 50 max_depth = [ 0.  1. 38.  0.  3.  4.  3.  1.  6.]\n",
      "[[ 932  268  170  246]\n",
      " [ 300  721  377  174]\n",
      " [ 145  257 1130  188]\n",
      " [ 268   83   44 1362]]\n",
      "n_estimators = 50 max_depth = [ 1.  1. 48.  1.  1.  0.  2.  2.  6.]\n",
      "[[ 932  268  170  246]\n",
      " [ 300  721  377  174]\n",
      " [ 145  257 1130  188]\n",
      " [ 268   83   44 1362]]\n",
      "n_estimators = 50 max_depth = [ 0.  1. 51.  1.  1.  3.  3.  4.  6.]\n",
      "[[ 932  268  170  246]\n",
      " [ 300  721  377  174]\n",
      " [ 145  257 1130  188]\n",
      " [ 268   83   44 1362]]\n",
      "n_estimators = 50 max_depth = [ 1.  1. 73.  1.  1.  1.  1.  2.  2.]\n",
      "[[ 932  268  170  246]\n",
      " [ 300  721  377  174]\n",
      " [ 145  257 1130  188]\n",
      " [ 268   83   44 1362]]\n",
      "n_estimators = 50 max_depth = [ 1.  0. 30.  1.  2.  1.  3.  4.  6.]\n",
      "[[ 932  268  170  246]\n",
      " [ 300  721  377  174]\n",
      " [ 145  257 1130  188]\n",
      " [ 268   83   44 1362]]\n",
      "n_estimators = 50 max_depth = [ 0.  1. 65.  1.  6.  1.  2.  2.  6.]\n",
      "[[ 932  268  170  246]\n",
      " [ 300  721  377  174]\n",
      " [ 145  257 1130  188]\n",
      " [ 268   83   44 1362]]\n",
      "n_estimators = 50 max_depth = [ 0.  0. 36.  0.  1.  0.  3.  1.  5.]\n",
      "[[ 932  268  170  246]\n",
      " [ 300  721  377  174]\n",
      " [ 145  257 1130  188]\n",
      " [ 268   83   44 1362]]\n",
      "n_estimators = 50 max_depth = [ 0.  0. 25.  1.  2.  0.  3.  3.  5.]\n",
      "[[ 932  268  170  246]\n",
      " [ 300  721  377  174]\n",
      " [ 145  257 1130  188]\n",
      " [ 268   83   44 1362]]\n",
      "n_estimators = 50 max_depth = [ 1.  1. 43.  1.  7.  0.  1.  4.  6.]\n",
      "[[ 932  268  170  246]\n",
      " [ 300  721  377  174]\n",
      " [ 145  257 1130  188]\n",
      " [ 268   83   44 1362]]\n",
      "n_estimators = 50 max_depth = [ 0.  1. 33.  1.  9.  0.  1.  2.  3.]\n",
      "[[ 932  268  170  246]\n",
      " [ 300  721  377  174]\n",
      " [ 145  257 1130  188]\n",
      " [ 268   83   44 1362]]\n",
      "n_estimators = 50 max_depth = [ 1.  0. 30.  1.  3. 14.  3.  1.  6.]\n",
      "[[ 932  268  170  246]\n",
      " [ 300  721  377  174]\n",
      " [ 145  257 1130  188]\n",
      " [ 268   83   44 1362]]\n",
      "n_estimators = 50 max_depth = [ 0.  0. 25.  1.  4.  8.  3.  2.  6.]\n",
      "[[ 932  268  170  246]\n",
      " [ 300  721  377  174]\n",
      " [ 145  257 1130  188]\n",
      " [ 268   83   44 1362]]\n",
      "n_estimators = 50 max_depth = [ 1.  1. 49.  1.  1.  4.  2.  4.  6.]\n",
      "[[ 932  268  170  246]\n",
      " [ 300  721  377  174]\n",
      " [ 145  257 1130  188]\n",
      " [ 268   83   44 1362]]\n",
      "n_estimators = 50 max_depth = [ 0.  0. 31.  1.  1.  9.  3.  1.  6.]\n",
      "[[ 932  268  170  246]\n",
      " [ 300  721  377  174]\n",
      " [ 145  257 1130  188]\n",
      " [ 268   83   44 1362]]\n",
      "n_estimators = 50 max_depth = [ 0.  0. 27.  1.  5. 14.  3.  8.  6.]\n",
      "[[ 932  268  170  246]\n",
      " [ 300  721  377  174]\n",
      " [ 145  257 1130  188]\n",
      " [ 268   83   44 1362]]\n",
      "n_estimators = 50 max_depth = [ 0.  0. 33.  1.  3. 11.  3.  3.  6.]\n",
      "[[ 932  268  170  246]\n",
      " [ 300  721  377  174]\n",
      " [ 145  257 1130  188]\n",
      " [ 268   83   44 1362]]\n",
      "n_estimators = 50 max_depth = [ 1.  1. 35.  1.  1.  1.  2.  2.  6.]\n",
      "[[ 932  268  170  246]\n",
      " [ 300  721  377  174]\n",
      " [ 145  257 1130  188]\n",
      " [ 268   83   44 1362]]\n",
      "n_estimators = 50 max_depth = [ 1.  0. 19.  0.  2.  1.  3.  5.  3.]\n",
      "[[ 932  268  170  246]\n",
      " [ 300  721  377  174]\n",
      " [ 145  257 1130  188]\n",
      " [ 268   83   44 1362]]\n",
      "n_estimators = 50 max_depth = [ 0.  1. 25.  0.  8.  0.  1.  5.  4.]\n",
      "[[ 932  268  170  246]\n",
      " [ 300  721  377  174]\n",
      " [ 145  257 1130  188]\n",
      " [ 268   83   44 1362]]\n",
      "n_estimators = 50 max_depth = [ 1.  1. 57.  0.  7.  4.  1.  4.  6.]\n",
      "[[ 932  268  170  246]\n",
      " [ 300  721  377  174]\n",
      " [ 145  257 1130  188]\n",
      " [ 268   83   44 1362]]\n"
     ]
    },
    {
     "name": "stderr",
     "output_type": "stream",
     "text": [
      "D:\\Programs\\lib\\site-packages\\xgboost\\sklearn.py:1224: UserWarning: The use of label encoder in XGBClassifier is deprecated and will be removed in a future release. To remove this warning, do the following: 1) Pass option use_label_encoder=False when constructing XGBClassifier object; and 2) Encode your labels (y) as integers starting with 0, i.e. 0, 1, 2, ..., [num_class - 1].\n",
      "  warnings.warn(label_encoder_deprecation_msg, UserWarning)\n"
     ]
    },
    {
     "name": "stdout",
     "output_type": "stream",
     "text": [
      "n_estimators = 50 max_depth = [ 0.  1. 38.  0.  3.  4.  3.  1.  6.]\n",
      "[[1067  209  154  186]\n",
      " [ 242  855  332  143]\n",
      " [ 125  218 1231  146]\n",
      " [ 203   56   41 1457]]\n",
      "n_estimators = 50 max_depth = [ 1.  1. 48.  1.  1.  0.  2.  2.  6.]\n",
      "[[1067  209  154  186]\n",
      " [ 242  855  332  143]\n",
      " [ 125  218 1231  146]\n",
      " [ 203   56   41 1457]]\n",
      "n_estimators = 50 max_depth = [ 0.  1. 51.  1.  1.  3.  3.  4.  6.]\n",
      "[[1067  209  154  186]\n",
      " [ 242  855  332  143]\n",
      " [ 125  218 1231  146]\n",
      " [ 203   56   41 1457]]\n",
      "n_estimators = 50 max_depth = [ 1.  1. 73.  1.  1.  1.  1.  2.  2.]\n",
      "[[1067  209  154  186]\n",
      " [ 242  855  332  143]\n",
      " [ 125  218 1231  146]\n",
      " [ 203   56   41 1457]]\n",
      "n_estimators = 50 max_depth = [ 1.  0. 30.  1.  2.  1.  3.  4.  6.]\n",
      "[[1067  209  154  186]\n",
      " [ 242  855  332  143]\n",
      " [ 125  218 1231  146]\n",
      " [ 203   56   41 1457]]\n",
      "n_estimators = 50 max_depth = [ 0.  1. 65.  1.  6.  1.  2.  2.  6.]\n",
      "[[1067  209  154  186]\n",
      " [ 242  855  332  143]\n",
      " [ 125  218 1231  146]\n",
      " [ 203   56   41 1457]]\n",
      "n_estimators = 50 max_depth = [ 0.  0. 36.  0.  1.  0.  3.  1.  5.]\n",
      "[[1067  209  154  186]\n",
      " [ 242  855  332  143]\n",
      " [ 125  218 1231  146]\n",
      " [ 203   56   41 1457]]\n",
      "n_estimators = 50 max_depth = [ 0.  0. 25.  1.  2.  0.  3.  3.  5.]\n",
      "[[1067  209  154  186]\n",
      " [ 242  855  332  143]\n",
      " [ 125  218 1231  146]\n",
      " [ 203   56   41 1457]]\n",
      "n_estimators = 50 max_depth = [ 1.  1. 43.  1.  7.  0.  1.  4.  6.]\n",
      "[[1067  209  154  186]\n",
      " [ 242  855  332  143]\n",
      " [ 125  218 1231  146]\n",
      " [ 203   56   41 1457]]\n",
      "n_estimators = 50 max_depth = [ 0.  1. 33.  1.  9.  0.  1.  2.  3.]\n",
      "[[1067  209  154  186]\n",
      " [ 242  855  332  143]\n",
      " [ 125  218 1231  146]\n",
      " [ 203   56   41 1457]]\n",
      "n_estimators = 50 max_depth = [ 1.  0. 30.  1.  3. 14.  3.  1.  6.]\n",
      "[[1067  209  154  186]\n",
      " [ 242  855  332  143]\n",
      " [ 125  218 1231  146]\n",
      " [ 203   56   41 1457]]\n",
      "n_estimators = 50 max_depth = [ 0.  0. 25.  1.  4.  8.  3.  2.  6.]\n",
      "[[1067  209  154  186]\n",
      " [ 242  855  332  143]\n",
      " [ 125  218 1231  146]\n",
      " [ 203   56   41 1457]]\n",
      "n_estimators = 50 max_depth = [ 1.  1. 49.  1.  1.  4.  2.  4.  6.]\n",
      "[[1067  209  154  186]\n",
      " [ 242  855  332  143]\n",
      " [ 125  218 1231  146]\n",
      " [ 203   56   41 1457]]\n",
      "n_estimators = 50 max_depth = [ 0.  0. 31.  1.  1.  9.  3.  1.  6.]\n",
      "[[1067  209  154  186]\n",
      " [ 242  855  332  143]\n",
      " [ 125  218 1231  146]\n",
      " [ 203   56   41 1457]]\n",
      "n_estimators = 50 max_depth = [ 0.  0. 27.  1.  5. 14.  3.  8.  6.]\n",
      "[[1067  209  154  186]\n",
      " [ 242  855  332  143]\n",
      " [ 125  218 1231  146]\n",
      " [ 203   56   41 1457]]\n",
      "n_estimators = 50 max_depth = [ 0.  0. 33.  1.  3. 11.  3.  3.  6.]\n",
      "[[1067  209  154  186]\n",
      " [ 242  855  332  143]\n",
      " [ 125  218 1231  146]\n",
      " [ 203   56   41 1457]]\n",
      "n_estimators = 50 max_depth = [ 1.  1. 35.  1.  1.  1.  2.  2.  6.]\n",
      "[[1067  209  154  186]\n",
      " [ 242  855  332  143]\n",
      " [ 125  218 1231  146]\n",
      " [ 203   56   41 1457]]\n",
      "n_estimators = 50 max_depth = [ 1.  0. 19.  0.  2.  1.  3.  5.  3.]\n",
      "[[1067  209  154  186]\n",
      " [ 242  855  332  143]\n",
      " [ 125  218 1231  146]\n",
      " [ 203   56   41 1457]]\n",
      "n_estimators = 50 max_depth = [ 0.  1. 25.  0.  8.  0.  1.  5.  4.]\n",
      "[[1067  209  154  186]\n",
      " [ 242  855  332  143]\n",
      " [ 125  218 1231  146]\n",
      " [ 203   56   41 1457]]\n",
      "n_estimators = 50 max_depth = [ 1.  1. 57.  0.  7.  4.  1.  4.  6.]\n",
      "[[1067  209  154  186]\n",
      " [ 242  855  332  143]\n",
      " [ 125  218 1231  146]\n",
      " [ 203   56   41 1457]]\n"
     ]
    },
    {
     "name": "stderr",
     "output_type": "stream",
     "text": [
      "D:\\Programs\\lib\\site-packages\\xgboost\\sklearn.py:1224: UserWarning: The use of label encoder in XGBClassifier is deprecated and will be removed in a future release. To remove this warning, do the following: 1) Pass option use_label_encoder=False when constructing XGBClassifier object; and 2) Encode your labels (y) as integers starting with 0, i.e. 0, 1, 2, ..., [num_class - 1].\n",
      "  warnings.warn(label_encoder_deprecation_msg, UserWarning)\n"
     ]
    },
    {
     "name": "stdout",
     "output_type": "stream",
     "text": [
      "n_estimators = 50 max_depth = [ 0.  1. 38.  0.  3.  4.  3.  1.  6.]\n",
      "[[1174  171  141  130]\n",
      " [ 166 1034  279   93]\n",
      " [  93  168 1344  115]\n",
      " [ 145   50   36 1526]]\n",
      "n_estimators = 50 max_depth = [ 1.  1. 48.  1.  1.  0.  2.  2.  6.]\n",
      "[[1174  171  141  130]\n",
      " [ 166 1034  279   93]\n",
      " [  93  168 1344  115]\n",
      " [ 145   50   36 1526]]\n",
      "n_estimators = 50 max_depth = [ 0.  1. 51.  1.  1.  3.  3.  4.  6.]\n",
      "[[1174  171  141  130]\n",
      " [ 166 1034  279   93]\n",
      " [  93  168 1344  115]\n",
      " [ 145   50   36 1526]]\n",
      "n_estimators = 50 max_depth = [ 1.  1. 73.  1.  1.  1.  1.  2.  2.]\n",
      "[[1174  171  141  130]\n",
      " [ 166 1034  279   93]\n",
      " [  93  168 1344  115]\n",
      " [ 145   50   36 1526]]\n",
      "n_estimators = 50 max_depth = [ 1.  0. 30.  1.  2.  1.  3.  4.  6.]\n",
      "[[1174  171  141  130]\n",
      " [ 166 1034  279   93]\n",
      " [  93  168 1344  115]\n",
      " [ 145   50   36 1526]]\n",
      "n_estimators = 50 max_depth = [ 0.  1. 65.  1.  6.  1.  2.  2.  6.]\n",
      "[[1174  171  141  130]\n",
      " [ 166 1034  279   93]\n",
      " [  93  168 1344  115]\n",
      " [ 145   50   36 1526]]\n",
      "n_estimators = 50 max_depth = [ 0.  0. 36.  0.  1.  0.  3.  1.  5.]\n",
      "[[1174  171  141  130]\n",
      " [ 166 1034  279   93]\n",
      " [  93  168 1344  115]\n",
      " [ 145   50   36 1526]]\n",
      "n_estimators = 50 max_depth = [ 0.  0. 25.  1.  2.  0.  3.  3.  5.]\n",
      "[[1174  171  141  130]\n",
      " [ 166 1034  279   93]\n",
      " [  93  168 1344  115]\n",
      " [ 145   50   36 1526]]\n",
      "n_estimators = 50 max_depth = [ 1.  1. 43.  1.  7.  0.  1.  4.  6.]\n",
      "[[1174  171  141  130]\n",
      " [ 166 1034  279   93]\n",
      " [  93  168 1344  115]\n",
      " [ 145   50   36 1526]]\n",
      "n_estimators = 50 max_depth = [ 0.  1. 33.  1.  9.  0.  1.  2.  3.]\n",
      "[[1174  171  141  130]\n",
      " [ 166 1034  279   93]\n",
      " [  93  168 1344  115]\n",
      " [ 145   50   36 1526]]\n",
      "n_estimators = 50 max_depth = [ 1.  0. 30.  1.  3. 14.  3.  1.  6.]\n",
      "[[1174  171  141  130]\n",
      " [ 166 1034  279   93]\n",
      " [  93  168 1344  115]\n",
      " [ 145   50   36 1526]]\n",
      "n_estimators = 50 max_depth = [ 0.  0. 25.  1.  4.  8.  3.  2.  6.]\n",
      "[[1174  171  141  130]\n",
      " [ 166 1034  279   93]\n",
      " [  93  168 1344  115]\n",
      " [ 145   50   36 1526]]\n",
      "n_estimators = 50 max_depth = [ 1.  1. 49.  1.  1.  4.  2.  4.  6.]\n",
      "[[1174  171  141  130]\n",
      " [ 166 1034  279   93]\n",
      " [  93  168 1344  115]\n",
      " [ 145   50   36 1526]]\n",
      "n_estimators = 50 max_depth = [ 0.  0. 31.  1.  1.  9.  3.  1.  6.]\n",
      "[[1174  171  141  130]\n",
      " [ 166 1034  279   93]\n",
      " [  93  168 1344  115]\n",
      " [ 145   50   36 1526]]\n",
      "n_estimators = 50 max_depth = [ 0.  0. 27.  1.  5. 14.  3.  8.  6.]\n",
      "[[1174  171  141  130]\n",
      " [ 166 1034  279   93]\n",
      " [  93  168 1344  115]\n",
      " [ 145   50   36 1526]]\n",
      "n_estimators = 50 max_depth = [ 0.  0. 33.  1.  3. 11.  3.  3.  6.]\n",
      "[[1174  171  141  130]\n",
      " [ 166 1034  279   93]\n",
      " [  93  168 1344  115]\n",
      " [ 145   50   36 1526]]\n",
      "n_estimators = 50 max_depth = [ 1.  1. 35.  1.  1.  1.  2.  2.  6.]\n",
      "[[1174  171  141  130]\n",
      " [ 166 1034  279   93]\n",
      " [  93  168 1344  115]\n",
      " [ 145   50   36 1526]]\n",
      "n_estimators = 50 max_depth = [ 1.  0. 19.  0.  2.  1.  3.  5.  3.]\n",
      "[[1174  171  141  130]\n",
      " [ 166 1034  279   93]\n",
      " [  93  168 1344  115]\n",
      " [ 145   50   36 1526]]\n",
      "n_estimators = 50 max_depth = [ 0.  1. 25.  0.  8.  0.  1.  5.  4.]\n",
      "[[1174  171  141  130]\n",
      " [ 166 1034  279   93]\n",
      " [  93  168 1344  115]\n",
      " [ 145   50   36 1526]]\n",
      "n_estimators = 50 max_depth = [ 1.  1. 57.  0.  7.  4.  1.  4.  6.]\n",
      "[[1174  171  141  130]\n",
      " [ 166 1034  279   93]\n",
      " [  93  168 1344  115]\n",
      " [ 145   50   36 1526]]\n"
     ]
    },
    {
     "name": "stderr",
     "output_type": "stream",
     "text": [
      "D:\\Programs\\lib\\site-packages\\xgboost\\sklearn.py:1224: UserWarning: The use of label encoder in XGBClassifier is deprecated and will be removed in a future release. To remove this warning, do the following: 1) Pass option use_label_encoder=False when constructing XGBClassifier object; and 2) Encode your labels (y) as integers starting with 0, i.e. 0, 1, 2, ..., [num_class - 1].\n",
      "  warnings.warn(label_encoder_deprecation_msg, UserWarning)\n"
     ]
    },
    {
     "name": "stdout",
     "output_type": "stream",
     "text": [
      "n_estimators = 50 max_depth = [ 0.  1. 38.  0.  3.  4.  3.  1.  6.]\n",
      "[[1334  124   99   59]\n",
      " [ 113 1171  226   62]\n",
      " [  64  119 1471   66]\n",
      " [  76   33   27 1621]]\n",
      "n_estimators = 50 max_depth = [ 1.  1. 48.  1.  1.  0.  2.  2.  6.]\n",
      "[[1334  124   99   59]\n",
      " [ 113 1171  226   62]\n",
      " [  64  119 1471   66]\n",
      " [  76   33   27 1621]]\n",
      "n_estimators = 50 max_depth = [ 0.  1. 51.  1.  1.  3.  3.  4.  6.]\n",
      "[[1334  124   99   59]\n",
      " [ 113 1171  226   62]\n",
      " [  64  119 1471   66]\n",
      " [  76   33   27 1621]]\n",
      "n_estimators = 50 max_depth = [ 1.  1. 73.  1.  1.  1.  1.  2.  2.]\n",
      "[[1334  124   99   59]\n",
      " [ 113 1171  226   62]\n",
      " [  64  119 1471   66]\n",
      " [  76   33   27 1621]]\n",
      "n_estimators = 50 max_depth = [ 1.  0. 30.  1.  2.  1.  3.  4.  6.]\n",
      "[[1334  124   99   59]\n",
      " [ 113 1171  226   62]\n",
      " [  64  119 1471   66]\n",
      " [  76   33   27 1621]]\n",
      "n_estimators = 50 max_depth = [ 0.  1. 65.  1.  6.  1.  2.  2.  6.]\n",
      "[[1334  124   99   59]\n",
      " [ 113 1171  226   62]\n",
      " [  64  119 1471   66]\n",
      " [  76   33   27 1621]]\n",
      "n_estimators = 50 max_depth = [ 0.  0. 36.  0.  1.  0.  3.  1.  5.]\n",
      "[[1334  124   99   59]\n",
      " [ 113 1171  226   62]\n",
      " [  64  119 1471   66]\n",
      " [  76   33   27 1621]]\n",
      "n_estimators = 50 max_depth = [ 0.  0. 25.  1.  2.  0.  3.  3.  5.]\n",
      "[[1334  124   99   59]\n",
      " [ 113 1171  226   62]\n",
      " [  64  119 1471   66]\n",
      " [  76   33   27 1621]]\n",
      "n_estimators = 50 max_depth = [ 1.  1. 43.  1.  7.  0.  1.  4.  6.]\n",
      "[[1334  124   99   59]\n",
      " [ 113 1171  226   62]\n",
      " [  64  119 1471   66]\n",
      " [  76   33   27 1621]]\n",
      "n_estimators = 50 max_depth = [ 0.  1. 33.  1.  9.  0.  1.  2.  3.]\n",
      "[[1334  124   99   59]\n",
      " [ 113 1171  226   62]\n",
      " [  64  119 1471   66]\n",
      " [  76   33   27 1621]]\n",
      "n_estimators = 50 max_depth = [ 1.  0. 30.  1.  3. 14.  3.  1.  6.]\n",
      "[[1334  124   99   59]\n",
      " [ 113 1171  226   62]\n",
      " [  64  119 1471   66]\n",
      " [  76   33   27 1621]]\n",
      "n_estimators = 50 max_depth = [ 0.  0. 25.  1.  4.  8.  3.  2.  6.]\n",
      "[[1334  124   99   59]\n",
      " [ 113 1171  226   62]\n",
      " [  64  119 1471   66]\n",
      " [  76   33   27 1621]]\n",
      "n_estimators = 50 max_depth = [ 1.  1. 49.  1.  1.  4.  2.  4.  6.]\n",
      "[[1334  124   99   59]\n",
      " [ 113 1171  226   62]\n",
      " [  64  119 1471   66]\n",
      " [  76   33   27 1621]]\n",
      "n_estimators = 50 max_depth = [ 0.  0. 31.  1.  1.  9.  3.  1.  6.]\n",
      "[[1334  124   99   59]\n",
      " [ 113 1171  226   62]\n",
      " [  64  119 1471   66]\n",
      " [  76   33   27 1621]]\n",
      "n_estimators = 50 max_depth = [ 0.  0. 27.  1.  5. 14.  3.  8.  6.]\n",
      "[[1334  124   99   59]\n",
      " [ 113 1171  226   62]\n",
      " [  64  119 1471   66]\n",
      " [  76   33   27 1621]]\n",
      "n_estimators = 50 max_depth = [ 0.  0. 33.  1.  3. 11.  3.  3.  6.]\n",
      "[[1334  124   99   59]\n",
      " [ 113 1171  226   62]\n",
      " [  64  119 1471   66]\n",
      " [  76   33   27 1621]]\n",
      "n_estimators = 50 max_depth = [ 1.  1. 35.  1.  1.  1.  2.  2.  6.]\n",
      "[[1334  124   99   59]\n",
      " [ 113 1171  226   62]\n",
      " [  64  119 1471   66]\n",
      " [  76   33   27 1621]]\n",
      "n_estimators = 50 max_depth = [ 1.  0. 19.  0.  2.  1.  3.  5.  3.]\n",
      "[[1334  124   99   59]\n",
      " [ 113 1171  226   62]\n",
      " [  64  119 1471   66]\n",
      " [  76   33   27 1621]]\n",
      "n_estimators = 50 max_depth = [ 0.  1. 25.  0.  8.  0.  1.  5.  4.]\n",
      "[[1334  124   99   59]\n",
      " [ 113 1171  226   62]\n",
      " [  64  119 1471   66]\n",
      " [  76   33   27 1621]]\n",
      "n_estimators = 50 max_depth = [ 1.  1. 57.  0.  7.  4.  1.  4.  6.]\n",
      "[[1334  124   99   59]\n",
      " [ 113 1171  226   62]\n",
      " [  64  119 1471   66]\n",
      " [  76   33   27 1621]]\n"
     ]
    },
    {
     "name": "stderr",
     "output_type": "stream",
     "text": [
      "D:\\Programs\\lib\\site-packages\\xgboost\\sklearn.py:1224: UserWarning: The use of label encoder in XGBClassifier is deprecated and will be removed in a future release. To remove this warning, do the following: 1) Pass option use_label_encoder=False when constructing XGBClassifier object; and 2) Encode your labels (y) as integers starting with 0, i.e. 0, 1, 2, ..., [num_class - 1].\n",
      "  warnings.warn(label_encoder_deprecation_msg, UserWarning)\n"
     ]
    },
    {
     "name": "stdout",
     "output_type": "stream",
     "text": [
      "n_estimators = 50 max_depth = [ 0.  1. 38.  0.  3.  4.  3.  1.  6.]\n",
      "[[1436   91   60   29]\n",
      " [  67 1305  166   34]\n",
      " [  30   88 1564   38]\n",
      " [  33   15   20 1689]]\n",
      "n_estimators = 50 max_depth = [ 1.  1. 48.  1.  1.  0.  2.  2.  6.]\n",
      "[[1436   91   60   29]\n",
      " [  67 1305  166   34]\n",
      " [  30   88 1564   38]\n",
      " [  33   15   20 1689]]\n",
      "n_estimators = 50 max_depth = [ 0.  1. 51.  1.  1.  3.  3.  4.  6.]\n",
      "[[1436   91   60   29]\n",
      " [  67 1305  166   34]\n",
      " [  30   88 1564   38]\n",
      " [  33   15   20 1689]]\n",
      "n_estimators = 50 max_depth = [ 1.  1. 73.  1.  1.  1.  1.  2.  2.]\n",
      "[[1436   91   60   29]\n",
      " [  67 1305  166   34]\n",
      " [  30   88 1564   38]\n",
      " [  33   15   20 1689]]\n",
      "n_estimators = 50 max_depth = [ 1.  0. 30.  1.  2.  1.  3.  4.  6.]\n",
      "[[1436   91   60   29]\n",
      " [  67 1305  166   34]\n",
      " [  30   88 1564   38]\n",
      " [  33   15   20 1689]]\n",
      "n_estimators = 50 max_depth = [ 0.  1. 65.  1.  6.  1.  2.  2.  6.]\n",
      "[[1436   91   60   29]\n",
      " [  67 1305  166   34]\n",
      " [  30   88 1564   38]\n",
      " [  33   15   20 1689]]\n",
      "n_estimators = 50 max_depth = [ 0.  0. 36.  0.  1.  0.  3.  1.  5.]\n",
      "[[1436   91   60   29]\n",
      " [  67 1305  166   34]\n",
      " [  30   88 1564   38]\n",
      " [  33   15   20 1689]]\n",
      "n_estimators = 50 max_depth = [ 0.  0. 25.  1.  2.  0.  3.  3.  5.]\n",
      "[[1436   91   60   29]\n",
      " [  67 1305  166   34]\n",
      " [  30   88 1564   38]\n",
      " [  33   15   20 1689]]\n",
      "n_estimators = 50 max_depth = [ 1.  1. 43.  1.  7.  0.  1.  4.  6.]\n",
      "[[1436   91   60   29]\n",
      " [  67 1305  166   34]\n",
      " [  30   88 1564   38]\n",
      " [  33   15   20 1689]]\n",
      "n_estimators = 50 max_depth = [ 0.  1. 33.  1.  9.  0.  1.  2.  3.]\n",
      "[[1436   91   60   29]\n",
      " [  67 1305  166   34]\n",
      " [  30   88 1564   38]\n",
      " [  33   15   20 1689]]\n",
      "n_estimators = 50 max_depth = [ 1.  0. 30.  1.  3. 14.  3.  1.  6.]\n",
      "[[1436   91   60   29]\n",
      " [  67 1305  166   34]\n",
      " [  30   88 1564   38]\n",
      " [  33   15   20 1689]]\n",
      "n_estimators = 50 max_depth = [ 0.  0. 25.  1.  4.  8.  3.  2.  6.]\n",
      "[[1436   91   60   29]\n",
      " [  67 1305  166   34]\n",
      " [  30   88 1564   38]\n",
      " [  33   15   20 1689]]\n",
      "n_estimators = 50 max_depth = [ 1.  1. 49.  1.  1.  4.  2.  4.  6.]\n",
      "[[1436   91   60   29]\n",
      " [  67 1305  166   34]\n",
      " [  30   88 1564   38]\n",
      " [  33   15   20 1689]]\n",
      "n_estimators = 50 max_depth = [ 0.  0. 31.  1.  1.  9.  3.  1.  6.]\n",
      "[[1436   91   60   29]\n",
      " [  67 1305  166   34]\n",
      " [  30   88 1564   38]\n",
      " [  33   15   20 1689]]\n",
      "n_estimators = 50 max_depth = [ 0.  0. 27.  1.  5. 14.  3.  8.  6.]\n",
      "[[1436   91   60   29]\n",
      " [  67 1305  166   34]\n",
      " [  30   88 1564   38]\n",
      " [  33   15   20 1689]]\n",
      "n_estimators = 50 max_depth = [ 0.  0. 33.  1.  3. 11.  3.  3.  6.]\n",
      "[[1436   91   60   29]\n",
      " [  67 1305  166   34]\n",
      " [  30   88 1564   38]\n",
      " [  33   15   20 1689]]\n",
      "n_estimators = 50 max_depth = [ 1.  1. 35.  1.  1.  1.  2.  2.  6.]\n",
      "[[1436   91   60   29]\n",
      " [  67 1305  166   34]\n",
      " [  30   88 1564   38]\n",
      " [  33   15   20 1689]]\n",
      "n_estimators = 50 max_depth = [ 1.  0. 19.  0.  2.  1.  3.  5.  3.]\n",
      "[[1436   91   60   29]\n",
      " [  67 1305  166   34]\n",
      " [  30   88 1564   38]\n",
      " [  33   15   20 1689]]\n",
      "n_estimators = 50 max_depth = [ 0.  1. 25.  0.  8.  0.  1.  5.  4.]\n",
      "[[1436   91   60   29]\n",
      " [  67 1305  166   34]\n",
      " [  30   88 1564   38]\n",
      " [  33   15   20 1689]]\n",
      "n_estimators = 50 max_depth = [ 1.  1. 57.  0.  7.  4.  1.  4.  6.]\n",
      "[[1436   91   60   29]\n",
      " [  67 1305  166   34]\n",
      " [  30   88 1564   38]\n",
      " [  33   15   20 1689]]\n"
     ]
    },
    {
     "name": "stderr",
     "output_type": "stream",
     "text": [
      "D:\\Programs\\lib\\site-packages\\xgboost\\sklearn.py:1224: UserWarning: The use of label encoder in XGBClassifier is deprecated and will be removed in a future release. To remove this warning, do the following: 1) Pass option use_label_encoder=False when constructing XGBClassifier object; and 2) Encode your labels (y) as integers starting with 0, i.e. 0, 1, 2, ..., [num_class - 1].\n",
      "  warnings.warn(label_encoder_deprecation_msg, UserWarning)\n"
     ]
    },
    {
     "name": "stdout",
     "output_type": "stream",
     "text": [
      "n_estimators = 50 max_depth = [ 0.  1. 38.  0.  3.  4.  3.  1.  6.]\n",
      "[[1512   50   41   13]\n",
      " [  54 1382  119   17]\n",
      " [  20   57 1615   28]\n",
      " [  18   11   12 1716]]\n",
      "n_estimators = 50 max_depth = [ 1.  1. 48.  1.  1.  0.  2.  2.  6.]\n",
      "[[1512   50   41   13]\n",
      " [  54 1382  119   17]\n",
      " [  20   57 1615   28]\n",
      " [  18   11   12 1716]]\n",
      "n_estimators = 50 max_depth = [ 0.  1. 51.  1.  1.  3.  3.  4.  6.]\n",
      "[[1512   50   41   13]\n",
      " [  54 1382  119   17]\n",
      " [  20   57 1615   28]\n",
      " [  18   11   12 1716]]\n",
      "n_estimators = 50 max_depth = [ 1.  1. 73.  1.  1.  1.  1.  2.  2.]\n",
      "[[1512   50   41   13]\n",
      " [  54 1382  119   17]\n",
      " [  20   57 1615   28]\n",
      " [  18   11   12 1716]]\n",
      "n_estimators = 50 max_depth = [ 1.  0. 30.  1.  2.  1.  3.  4.  6.]\n",
      "[[1512   50   41   13]\n",
      " [  54 1382  119   17]\n",
      " [  20   57 1615   28]\n",
      " [  18   11   12 1716]]\n",
      "n_estimators = 50 max_depth = [ 0.  1. 65.  1.  6.  1.  2.  2.  6.]\n",
      "[[1512   50   41   13]\n",
      " [  54 1382  119   17]\n",
      " [  20   57 1615   28]\n",
      " [  18   11   12 1716]]\n",
      "n_estimators = 50 max_depth = [ 0.  0. 36.  0.  1.  0.  3.  1.  5.]\n",
      "[[1512   50   41   13]\n",
      " [  54 1382  119   17]\n",
      " [  20   57 1615   28]\n",
      " [  18   11   12 1716]]\n",
      "n_estimators = 50 max_depth = [ 0.  0. 25.  1.  2.  0.  3.  3.  5.]\n",
      "[[1512   50   41   13]\n",
      " [  54 1382  119   17]\n",
      " [  20   57 1615   28]\n",
      " [  18   11   12 1716]]\n",
      "n_estimators = 50 max_depth = [ 1.  1. 43.  1.  7.  0.  1.  4.  6.]\n",
      "[[1512   50   41   13]\n",
      " [  54 1382  119   17]\n",
      " [  20   57 1615   28]\n",
      " [  18   11   12 1716]]\n",
      "n_estimators = 50 max_depth = [ 0.  1. 33.  1.  9.  0.  1.  2.  3.]\n",
      "[[1512   50   41   13]\n",
      " [  54 1382  119   17]\n",
      " [  20   57 1615   28]\n",
      " [  18   11   12 1716]]\n",
      "n_estimators = 50 max_depth = [ 1.  0. 30.  1.  3. 14.  3.  1.  6.]\n",
      "[[1512   50   41   13]\n",
      " [  54 1382  119   17]\n",
      " [  20   57 1615   28]\n",
      " [  18   11   12 1716]]\n",
      "n_estimators = 50 max_depth = [ 0.  0. 25.  1.  4.  8.  3.  2.  6.]\n",
      "[[1512   50   41   13]\n",
      " [  54 1382  119   17]\n",
      " [  20   57 1615   28]\n",
      " [  18   11   12 1716]]\n",
      "n_estimators = 50 max_depth = [ 1.  1. 49.  1.  1.  4.  2.  4.  6.]\n",
      "[[1512   50   41   13]\n",
      " [  54 1382  119   17]\n",
      " [  20   57 1615   28]\n",
      " [  18   11   12 1716]]\n",
      "n_estimators = 50 max_depth = [ 0.  0. 31.  1.  1.  9.  3.  1.  6.]\n",
      "[[1512   50   41   13]\n",
      " [  54 1382  119   17]\n",
      " [  20   57 1615   28]\n",
      " [  18   11   12 1716]]\n",
      "n_estimators = 50 max_depth = [ 0.  0. 27.  1.  5. 14.  3.  8.  6.]\n",
      "[[1512   50   41   13]\n",
      " [  54 1382  119   17]\n",
      " [  20   57 1615   28]\n",
      " [  18   11   12 1716]]\n",
      "n_estimators = 50 max_depth = [ 0.  0. 33.  1.  3. 11.  3.  3.  6.]\n",
      "[[1512   50   41   13]\n",
      " [  54 1382  119   17]\n",
      " [  20   57 1615   28]\n",
      " [  18   11   12 1716]]\n",
      "n_estimators = 50 max_depth = [ 1.  1. 35.  1.  1.  1.  2.  2.  6.]\n",
      "[[1512   50   41   13]\n",
      " [  54 1382  119   17]\n",
      " [  20   57 1615   28]\n",
      " [  18   11   12 1716]]\n",
      "n_estimators = 50 max_depth = [ 1.  0. 19.  0.  2.  1.  3.  5.  3.]\n",
      "[[1512   50   41   13]\n",
      " [  54 1382  119   17]\n",
      " [  20   57 1615   28]\n",
      " [  18   11   12 1716]]\n",
      "n_estimators = 50 max_depth = [ 0.  1. 25.  0.  8.  0.  1.  5.  4.]\n",
      "[[1512   50   41   13]\n",
      " [  54 1382  119   17]\n",
      " [  20   57 1615   28]\n",
      " [  18   11   12 1716]]\n",
      "n_estimators = 50 max_depth = [ 1.  1. 57.  0.  7.  4.  1.  4.  6.]\n",
      "[[1512   50   41   13]\n",
      " [  54 1382  119   17]\n",
      " [  20   57 1615   28]\n",
      " [  18   11   12 1716]]\n"
     ]
    },
    {
     "name": "stderr",
     "output_type": "stream",
     "text": [
      "D:\\Programs\\lib\\site-packages\\xgboost\\sklearn.py:1224: UserWarning: The use of label encoder in XGBClassifier is deprecated and will be removed in a future release. To remove this warning, do the following: 1) Pass option use_label_encoder=False when constructing XGBClassifier object; and 2) Encode your labels (y) as integers starting with 0, i.e. 0, 1, 2, ..., [num_class - 1].\n",
      "  warnings.warn(label_encoder_deprecation_msg, UserWarning)\n"
     ]
    },
    {
     "name": "stdout",
     "output_type": "stream",
     "text": [
      "n_estimators = 50 max_depth = [ 0.  1. 38.  0.  3.  4.  3.  1.  6.]\n",
      "[[1520   51   32   13]\n",
      " [  29 1447   85   11]\n",
      " [  10   48 1640   22]\n",
      " [  11    7   16 1723]]\n",
      "n_estimators = 50 max_depth = [ 1.  1. 48.  1.  1.  0.  2.  2.  6.]\n",
      "[[1520   51   32   13]\n",
      " [  29 1447   85   11]\n",
      " [  10   48 1640   22]\n",
      " [  11    7   16 1723]]\n",
      "n_estimators = 50 max_depth = [ 0.  1. 51.  1.  1.  3.  3.  4.  6.]\n",
      "[[1520   51   32   13]\n",
      " [  29 1447   85   11]\n",
      " [  10   48 1640   22]\n",
      " [  11    7   16 1723]]\n",
      "n_estimators = 50 max_depth = [ 1.  1. 73.  1.  1.  1.  1.  2.  2.]\n",
      "[[1520   51   32   13]\n",
      " [  29 1447   85   11]\n",
      " [  10   48 1640   22]\n",
      " [  11    7   16 1723]]\n",
      "n_estimators = 50 max_depth = [ 1.  0. 30.  1.  2.  1.  3.  4.  6.]\n",
      "[[1520   51   32   13]\n",
      " [  29 1447   85   11]\n",
      " [  10   48 1640   22]\n",
      " [  11    7   16 1723]]\n",
      "n_estimators = 50 max_depth = [ 0.  1. 65.  1.  6.  1.  2.  2.  6.]\n",
      "[[1520   51   32   13]\n",
      " [  29 1447   85   11]\n",
      " [  10   48 1640   22]\n",
      " [  11    7   16 1723]]\n",
      "n_estimators = 50 max_depth = [ 0.  0. 36.  0.  1.  0.  3.  1.  5.]\n",
      "[[1520   51   32   13]\n",
      " [  29 1447   85   11]\n",
      " [  10   48 1640   22]\n",
      " [  11    7   16 1723]]\n",
      "n_estimators = 50 max_depth = [ 0.  0. 25.  1.  2.  0.  3.  3.  5.]\n",
      "[[1520   51   32   13]\n",
      " [  29 1447   85   11]\n",
      " [  10   48 1640   22]\n",
      " [  11    7   16 1723]]\n",
      "n_estimators = 50 max_depth = [ 1.  1. 43.  1.  7.  0.  1.  4.  6.]\n",
      "[[1520   51   32   13]\n",
      " [  29 1447   85   11]\n",
      " [  10   48 1640   22]\n",
      " [  11    7   16 1723]]\n",
      "n_estimators = 50 max_depth = [ 0.  1. 33.  1.  9.  0.  1.  2.  3.]\n",
      "[[1520   51   32   13]\n",
      " [  29 1447   85   11]\n",
      " [  10   48 1640   22]\n",
      " [  11    7   16 1723]]\n",
      "n_estimators = 50 max_depth = [ 1.  0. 30.  1.  3. 14.  3.  1.  6.]\n",
      "[[1520   51   32   13]\n",
      " [  29 1447   85   11]\n",
      " [  10   48 1640   22]\n",
      " [  11    7   16 1723]]\n",
      "n_estimators = 50 max_depth = [ 0.  0. 25.  1.  4.  8.  3.  2.  6.]\n",
      "[[1520   51   32   13]\n",
      " [  29 1447   85   11]\n",
      " [  10   48 1640   22]\n",
      " [  11    7   16 1723]]\n",
      "n_estimators = 50 max_depth = [ 1.  1. 49.  1.  1.  4.  2.  4.  6.]\n",
      "[[1520   51   32   13]\n",
      " [  29 1447   85   11]\n",
      " [  10   48 1640   22]\n",
      " [  11    7   16 1723]]\n",
      "n_estimators = 50 max_depth = [ 0.  0. 31.  1.  1.  9.  3.  1.  6.]\n",
      "[[1520   51   32   13]\n",
      " [  29 1447   85   11]\n",
      " [  10   48 1640   22]\n",
      " [  11    7   16 1723]]\n",
      "n_estimators = 50 max_depth = [ 0.  0. 27.  1.  5. 14.  3.  8.  6.]\n",
      "[[1520   51   32   13]\n",
      " [  29 1447   85   11]\n",
      " [  10   48 1640   22]\n",
      " [  11    7   16 1723]]\n",
      "n_estimators = 50 max_depth = [ 0.  0. 33.  1.  3. 11.  3.  3.  6.]\n",
      "[[1520   51   32   13]\n",
      " [  29 1447   85   11]\n",
      " [  10   48 1640   22]\n",
      " [  11    7   16 1723]]\n",
      "n_estimators = 50 max_depth = [ 1.  1. 35.  1.  1.  1.  2.  2.  6.]\n",
      "[[1520   51   32   13]\n",
      " [  29 1447   85   11]\n",
      " [  10   48 1640   22]\n",
      " [  11    7   16 1723]]\n",
      "n_estimators = 50 max_depth = [ 1.  0. 19.  0.  2.  1.  3.  5.  3.]\n",
      "[[1520   51   32   13]\n",
      " [  29 1447   85   11]\n",
      " [  10   48 1640   22]\n",
      " [  11    7   16 1723]]\n",
      "n_estimators = 50 max_depth = [ 0.  1. 25.  0.  8.  0.  1.  5.  4.]\n",
      "[[1520   51   32   13]\n",
      " [  29 1447   85   11]\n",
      " [  10   48 1640   22]\n",
      " [  11    7   16 1723]]\n",
      "n_estimators = 50 max_depth = [ 1.  1. 57.  0.  7.  4.  1.  4.  6.]\n",
      "[[1520   51   32   13]\n",
      " [  29 1447   85   11]\n",
      " [  10   48 1640   22]\n",
      " [  11    7   16 1723]]\n"
     ]
    },
    {
     "name": "stderr",
     "output_type": "stream",
     "text": [
      "D:\\Programs\\lib\\site-packages\\xgboost\\sklearn.py:1224: UserWarning: The use of label encoder in XGBClassifier is deprecated and will be removed in a future release. To remove this warning, do the following: 1) Pass option use_label_encoder=False when constructing XGBClassifier object; and 2) Encode your labels (y) as integers starting with 0, i.e. 0, 1, 2, ..., [num_class - 1].\n",
      "  warnings.warn(label_encoder_deprecation_msg, UserWarning)\n"
     ]
    },
    {
     "name": "stdout",
     "output_type": "stream",
     "text": [
      "n_estimators = 50 max_depth = [ 0.  1. 38.  0.  3.  4.  3.  1.  6.]\n",
      "[[1534   44   27   11]\n",
      " [  37 1455   69   11]\n",
      " [  14   50 1635   21]\n",
      " [  12    7   15 1723]]\n",
      "n_estimators = 50 max_depth = [ 1.  1. 48.  1.  1.  0.  2.  2.  6.]\n",
      "[[1534   44   27   11]\n",
      " [  37 1455   69   11]\n",
      " [  14   50 1635   21]\n",
      " [  12    7   15 1723]]\n",
      "n_estimators = 50 max_depth = [ 0.  1. 51.  1.  1.  3.  3.  4.  6.]\n",
      "[[1534   44   27   11]\n",
      " [  37 1455   69   11]\n",
      " [  14   50 1635   21]\n",
      " [  12    7   15 1723]]\n",
      "n_estimators = 50 max_depth = [ 1.  1. 73.  1.  1.  1.  1.  2.  2.]\n",
      "[[1534   44   27   11]\n",
      " [  37 1455   69   11]\n",
      " [  14   50 1635   21]\n",
      " [  12    7   15 1723]]\n",
      "n_estimators = 50 max_depth = [ 1.  0. 30.  1.  2.  1.  3.  4.  6.]\n",
      "[[1534   44   27   11]\n",
      " [  37 1455   69   11]\n",
      " [  14   50 1635   21]\n",
      " [  12    7   15 1723]]\n",
      "n_estimators = 50 max_depth = [ 0.  1. 65.  1.  6.  1.  2.  2.  6.]\n",
      "[[1534   44   27   11]\n",
      " [  37 1455   69   11]\n",
      " [  14   50 1635   21]\n",
      " [  12    7   15 1723]]\n",
      "n_estimators = 50 max_depth = [ 0.  0. 36.  0.  1.  0.  3.  1.  5.]\n",
      "[[1534   44   27   11]\n",
      " [  37 1455   69   11]\n",
      " [  14   50 1635   21]\n",
      " [  12    7   15 1723]]\n",
      "n_estimators = 50 max_depth = [ 0.  0. 25.  1.  2.  0.  3.  3.  5.]\n",
      "[[1534   44   27   11]\n",
      " [  37 1455   69   11]\n",
      " [  14   50 1635   21]\n",
      " [  12    7   15 1723]]\n",
      "n_estimators = 50 max_depth = [ 1.  1. 43.  1.  7.  0.  1.  4.  6.]\n",
      "[[1534   44   27   11]\n",
      " [  37 1455   69   11]\n",
      " [  14   50 1635   21]\n",
      " [  12    7   15 1723]]\n",
      "n_estimators = 50 max_depth = [ 0.  1. 33.  1.  9.  0.  1.  2.  3.]\n",
      "[[1534   44   27   11]\n",
      " [  37 1455   69   11]\n",
      " [  14   50 1635   21]\n",
      " [  12    7   15 1723]]\n",
      "n_estimators = 50 max_depth = [ 1.  0. 30.  1.  3. 14.  3.  1.  6.]\n",
      "[[1534   44   27   11]\n",
      " [  37 1455   69   11]\n",
      " [  14   50 1635   21]\n",
      " [  12    7   15 1723]]\n",
      "n_estimators = 50 max_depth = [ 0.  0. 25.  1.  4.  8.  3.  2.  6.]\n",
      "[[1534   44   27   11]\n",
      " [  37 1455   69   11]\n",
      " [  14   50 1635   21]\n",
      " [  12    7   15 1723]]\n",
      "n_estimators = 50 max_depth = [ 1.  1. 49.  1.  1.  4.  2.  4.  6.]\n",
      "[[1534   44   27   11]\n",
      " [  37 1455   69   11]\n",
      " [  14   50 1635   21]\n",
      " [  12    7   15 1723]]\n",
      "n_estimators = 50 max_depth = [ 0.  0. 31.  1.  1.  9.  3.  1.  6.]\n",
      "[[1534   44   27   11]\n",
      " [  37 1455   69   11]\n",
      " [  14   50 1635   21]\n",
      " [  12    7   15 1723]]\n",
      "n_estimators = 50 max_depth = [ 0.  0. 27.  1.  5. 14.  3.  8.  6.]\n",
      "[[1534   44   27   11]\n",
      " [  37 1455   69   11]\n",
      " [  14   50 1635   21]\n",
      " [  12    7   15 1723]]\n",
      "n_estimators = 50 max_depth = [ 0.  0. 33.  1.  3. 11.  3.  3.  6.]\n",
      "[[1534   44   27   11]\n",
      " [  37 1455   69   11]\n",
      " [  14   50 1635   21]\n",
      " [  12    7   15 1723]]\n",
      "n_estimators = 50 max_depth = [ 1.  1. 35.  1.  1.  1.  2.  2.  6.]\n",
      "[[1534   44   27   11]\n",
      " [  37 1455   69   11]\n",
      " [  14   50 1635   21]\n",
      " [  12    7   15 1723]]\n",
      "n_estimators = 50 max_depth = [ 1.  0. 19.  0.  2.  1.  3.  5.  3.]\n",
      "[[1534   44   27   11]\n",
      " [  37 1455   69   11]\n",
      " [  14   50 1635   21]\n",
      " [  12    7   15 1723]]\n",
      "n_estimators = 50 max_depth = [ 0.  1. 25.  0.  8.  0.  1.  5.  4.]\n",
      "[[1534   44   27   11]\n",
      " [  37 1455   69   11]\n",
      " [  14   50 1635   21]\n",
      " [  12    7   15 1723]]\n",
      "n_estimators = 50 max_depth = [ 1.  1. 57.  0.  7.  4.  1.  4.  6.]\n",
      "[[1534   44   27   11]\n",
      " [  37 1455   69   11]\n",
      " [  14   50 1635   21]\n",
      " [  12    7   15 1723]]\n"
     ]
    },
    {
     "name": "stderr",
     "output_type": "stream",
     "text": [
      "D:\\Programs\\lib\\site-packages\\xgboost\\sklearn.py:1224: UserWarning: The use of label encoder in XGBClassifier is deprecated and will be removed in a future release. To remove this warning, do the following: 1) Pass option use_label_encoder=False when constructing XGBClassifier object; and 2) Encode your labels (y) as integers starting with 0, i.e. 0, 1, 2, ..., [num_class - 1].\n",
      "  warnings.warn(label_encoder_deprecation_msg, UserWarning)\n"
     ]
    },
    {
     "name": "stdout",
     "output_type": "stream",
     "text": [
      "n_estimators = 50 max_depth = [ 0.  1. 38.  0.  3.  4.  3.  1.  6.]\n",
      "[[1534   46   26   10]\n",
      " [  33 1457   74    8]\n",
      " [  14   43 1644   19]\n",
      " [  13    7   17 1720]]\n",
      "n_estimators = 50 max_depth = [ 1.  1. 48.  1.  1.  0.  2.  2.  6.]\n",
      "[[1534   46   26   10]\n",
      " [  33 1457   74    8]\n",
      " [  14   43 1644   19]\n",
      " [  13    7   17 1720]]\n",
      "n_estimators = 50 max_depth = [ 0.  1. 51.  1.  1.  3.  3.  4.  6.]\n",
      "[[1534   46   26   10]\n",
      " [  33 1457   74    8]\n",
      " [  14   43 1644   19]\n",
      " [  13    7   17 1720]]\n",
      "n_estimators = 50 max_depth = [ 1.  1. 73.  1.  1.  1.  1.  2.  2.]\n",
      "[[1534   46   26   10]\n",
      " [  33 1457   74    8]\n",
      " [  14   43 1644   19]\n",
      " [  13    7   17 1720]]\n",
      "n_estimators = 50 max_depth = [ 1.  0. 30.  1.  2.  1.  3.  4.  6.]\n",
      "[[1534   46   26   10]\n",
      " [  33 1457   74    8]\n",
      " [  14   43 1644   19]\n",
      " [  13    7   17 1720]]\n",
      "n_estimators = 50 max_depth = [ 0.  1. 65.  1.  6.  1.  2.  2.  6.]\n",
      "[[1534   46   26   10]\n",
      " [  33 1457   74    8]\n",
      " [  14   43 1644   19]\n",
      " [  13    7   17 1720]]\n",
      "n_estimators = 50 max_depth = [ 0.  0. 36.  0.  1.  0.  3.  1.  5.]\n",
      "[[1534   46   26   10]\n",
      " [  33 1457   74    8]\n",
      " [  14   43 1644   19]\n",
      " [  13    7   17 1720]]\n",
      "n_estimators = 50 max_depth = [ 0.  0. 25.  1.  2.  0.  3.  3.  5.]\n",
      "[[1534   46   26   10]\n",
      " [  33 1457   74    8]\n",
      " [  14   43 1644   19]\n",
      " [  13    7   17 1720]]\n",
      "n_estimators = 50 max_depth = [ 1.  1. 43.  1.  7.  0.  1.  4.  6.]\n",
      "[[1534   46   26   10]\n",
      " [  33 1457   74    8]\n",
      " [  14   43 1644   19]\n",
      " [  13    7   17 1720]]\n",
      "n_estimators = 50 max_depth = [ 0.  1. 33.  1.  9.  0.  1.  2.  3.]\n",
      "[[1534   46   26   10]\n",
      " [  33 1457   74    8]\n",
      " [  14   43 1644   19]\n",
      " [  13    7   17 1720]]\n",
      "n_estimators = 50 max_depth = [ 1.  0. 30.  1.  3. 14.  3.  1.  6.]\n",
      "[[1534   46   26   10]\n",
      " [  33 1457   74    8]\n",
      " [  14   43 1644   19]\n",
      " [  13    7   17 1720]]\n",
      "n_estimators = 50 max_depth = [ 0.  0. 25.  1.  4.  8.  3.  2.  6.]\n",
      "[[1534   46   26   10]\n",
      " [  33 1457   74    8]\n",
      " [  14   43 1644   19]\n",
      " [  13    7   17 1720]]\n",
      "n_estimators = 50 max_depth = [ 1.  1. 49.  1.  1.  4.  2.  4.  6.]\n",
      "[[1534   46   26   10]\n",
      " [  33 1457   74    8]\n",
      " [  14   43 1644   19]\n",
      " [  13    7   17 1720]]\n",
      "n_estimators = 50 max_depth = [ 0.  0. 31.  1.  1.  9.  3.  1.  6.]\n",
      "[[1534   46   26   10]\n",
      " [  33 1457   74    8]\n",
      " [  14   43 1644   19]\n",
      " [  13    7   17 1720]]\n",
      "n_estimators = 50 max_depth = [ 0.  0. 27.  1.  5. 14.  3.  8.  6.]\n",
      "[[1534   46   26   10]\n",
      " [  33 1457   74    8]\n",
      " [  14   43 1644   19]\n",
      " [  13    7   17 1720]]\n",
      "n_estimators = 50 max_depth = [ 0.  0. 33.  1.  3. 11.  3.  3.  6.]\n",
      "[[1534   46   26   10]\n",
      " [  33 1457   74    8]\n",
      " [  14   43 1644   19]\n",
      " [  13    7   17 1720]]\n",
      "n_estimators = 50 max_depth = [ 1.  1. 35.  1.  1.  1.  2.  2.  6.]\n",
      "[[1534   46   26   10]\n",
      " [  33 1457   74    8]\n",
      " [  14   43 1644   19]\n",
      " [  13    7   17 1720]]\n",
      "n_estimators = 50 max_depth = [ 1.  0. 19.  0.  2.  1.  3.  5.  3.]\n",
      "[[1534   46   26   10]\n",
      " [  33 1457   74    8]\n",
      " [  14   43 1644   19]\n",
      " [  13    7   17 1720]]\n",
      "n_estimators = 50 max_depth = [ 0.  1. 25.  0.  8.  0.  1.  5.  4.]\n",
      "[[1534   46   26   10]\n",
      " [  33 1457   74    8]\n",
      " [  14   43 1644   19]\n",
      " [  13    7   17 1720]]\n",
      "n_estimators = 50 max_depth = [ 1.  1. 57.  0.  7.  4.  1.  4.  6.]\n",
      "[[1534   46   26   10]\n",
      " [  33 1457   74    8]\n",
      " [  14   43 1644   19]\n",
      " [  13    7   17 1720]]\n"
     ]
    },
    {
     "name": "stderr",
     "output_type": "stream",
     "text": [
      "D:\\Programs\\lib\\site-packages\\xgboost\\sklearn.py:1224: UserWarning: The use of label encoder in XGBClassifier is deprecated and will be removed in a future release. To remove this warning, do the following: 1) Pass option use_label_encoder=False when constructing XGBClassifier object; and 2) Encode your labels (y) as integers starting with 0, i.e. 0, 1, 2, ..., [num_class - 1].\n",
      "  warnings.warn(label_encoder_deprecation_msg, UserWarning)\n"
     ]
    },
    {
     "name": "stdout",
     "output_type": "stream",
     "text": [
      "n_estimators = 50 max_depth = [ 0.  1. 38.  0.  3.  4.  3.  1.  6.]\n",
      "[[1526   52   26   12]\n",
      " [  26 1466   69   11]\n",
      " [  12   48 1637   23]\n",
      " [  11    7   12 1727]]\n",
      "n_estimators = 50 max_depth = [ 1.  1. 48.  1.  1.  0.  2.  2.  6.]\n",
      "[[1526   52   26   12]\n",
      " [  26 1466   69   11]\n",
      " [  12   48 1637   23]\n",
      " [  11    7   12 1727]]\n",
      "n_estimators = 50 max_depth = [ 0.  1. 51.  1.  1.  3.  3.  4.  6.]\n",
      "[[1526   52   26   12]\n",
      " [  26 1466   69   11]\n",
      " [  12   48 1637   23]\n",
      " [  11    7   12 1727]]\n",
      "n_estimators = 50 max_depth = [ 1.  1. 73.  1.  1.  1.  1.  2.  2.]\n",
      "[[1526   52   26   12]\n",
      " [  26 1466   69   11]\n",
      " [  12   48 1637   23]\n",
      " [  11    7   12 1727]]\n",
      "n_estimators = 50 max_depth = [ 1.  0. 30.  1.  2.  1.  3.  4.  6.]\n",
      "[[1526   52   26   12]\n",
      " [  26 1466   69   11]\n",
      " [  12   48 1637   23]\n",
      " [  11    7   12 1727]]\n",
      "n_estimators = 50 max_depth = [ 0.  1. 65.  1.  6.  1.  2.  2.  6.]\n",
      "[[1526   52   26   12]\n",
      " [  26 1466   69   11]\n",
      " [  12   48 1637   23]\n",
      " [  11    7   12 1727]]\n",
      "n_estimators = 50 max_depth = [ 0.  0. 36.  0.  1.  0.  3.  1.  5.]\n",
      "[[1526   52   26   12]\n",
      " [  26 1466   69   11]\n",
      " [  12   48 1637   23]\n",
      " [  11    7   12 1727]]\n",
      "n_estimators = 50 max_depth = [ 0.  0. 25.  1.  2.  0.  3.  3.  5.]\n",
      "[[1526   52   26   12]\n",
      " [  26 1466   69   11]\n",
      " [  12   48 1637   23]\n",
      " [  11    7   12 1727]]\n",
      "n_estimators = 50 max_depth = [ 1.  1. 43.  1.  7.  0.  1.  4.  6.]\n",
      "[[1526   52   26   12]\n",
      " [  26 1466   69   11]\n",
      " [  12   48 1637   23]\n",
      " [  11    7   12 1727]]\n",
      "n_estimators = 50 max_depth = [ 0.  1. 33.  1.  9.  0.  1.  2.  3.]\n",
      "[[1526   52   26   12]\n",
      " [  26 1466   69   11]\n",
      " [  12   48 1637   23]\n",
      " [  11    7   12 1727]]\n",
      "n_estimators = 50 max_depth = [ 1.  0. 30.  1.  3. 14.  3.  1.  6.]\n",
      "[[1526   52   26   12]\n",
      " [  26 1466   69   11]\n",
      " [  12   48 1637   23]\n",
      " [  11    7   12 1727]]\n",
      "n_estimators = 50 max_depth = [ 0.  0. 25.  1.  4.  8.  3.  2.  6.]\n",
      "[[1526   52   26   12]\n",
      " [  26 1466   69   11]\n",
      " [  12   48 1637   23]\n",
      " [  11    7   12 1727]]\n",
      "n_estimators = 50 max_depth = [ 1.  1. 49.  1.  1.  4.  2.  4.  6.]\n",
      "[[1526   52   26   12]\n",
      " [  26 1466   69   11]\n",
      " [  12   48 1637   23]\n",
      " [  11    7   12 1727]]\n",
      "n_estimators = 50 max_depth = [ 0.  0. 31.  1.  1.  9.  3.  1.  6.]\n",
      "[[1526   52   26   12]\n",
      " [  26 1466   69   11]\n",
      " [  12   48 1637   23]\n",
      " [  11    7   12 1727]]\n",
      "n_estimators = 50 max_depth = [ 0.  0. 27.  1.  5. 14.  3.  8.  6.]\n",
      "[[1526   52   26   12]\n",
      " [  26 1466   69   11]\n",
      " [  12   48 1637   23]\n",
      " [  11    7   12 1727]]\n",
      "n_estimators = 50 max_depth = [ 0.  0. 33.  1.  3. 11.  3.  3.  6.]\n",
      "[[1526   52   26   12]\n",
      " [  26 1466   69   11]\n",
      " [  12   48 1637   23]\n",
      " [  11    7   12 1727]]\n",
      "n_estimators = 50 max_depth = [ 1.  1. 35.  1.  1.  1.  2.  2.  6.]\n",
      "[[1526   52   26   12]\n",
      " [  26 1466   69   11]\n",
      " [  12   48 1637   23]\n",
      " [  11    7   12 1727]]\n",
      "n_estimators = 50 max_depth = [ 1.  0. 19.  0.  2.  1.  3.  5.  3.]\n",
      "[[1526   52   26   12]\n",
      " [  26 1466   69   11]\n",
      " [  12   48 1637   23]\n",
      " [  11    7   12 1727]]\n",
      "n_estimators = 50 max_depth = [ 0.  1. 25.  0.  8.  0.  1.  5.  4.]\n",
      "[[1526   52   26   12]\n",
      " [  26 1466   69   11]\n",
      " [  12   48 1637   23]\n",
      " [  11    7   12 1727]]\n",
      "n_estimators = 50 max_depth = [ 1.  1. 57.  0.  7.  4.  1.  4.  6.]\n",
      "[[1526   52   26   12]\n",
      " [  26 1466   69   11]\n",
      " [  12   48 1637   23]\n",
      " [  11    7   12 1727]]\n"
     ]
    },
    {
     "name": "stderr",
     "output_type": "stream",
     "text": [
      "D:\\Programs\\lib\\site-packages\\xgboost\\sklearn.py:1224: UserWarning: The use of label encoder in XGBClassifier is deprecated and will be removed in a future release. To remove this warning, do the following: 1) Pass option use_label_encoder=False when constructing XGBClassifier object; and 2) Encode your labels (y) as integers starting with 0, i.e. 0, 1, 2, ..., [num_class - 1].\n",
      "  warnings.warn(label_encoder_deprecation_msg, UserWarning)\n"
     ]
    },
    {
     "ename": "KeyboardInterrupt",
     "evalue": "",
     "output_type": "error",
     "traceback": [
      "\u001b[1;31m---------------------------------------------------------------------------\u001b[0m",
      "\u001b[1;31mKeyboardInterrupt\u001b[0m                         Traceback (most recent call last)",
      "\u001b[1;32mC:\\Users\\D9F8~1\\AppData\\Local\\Temp/ipykernel_10300/1393392749.py\u001b[0m in \u001b[0;36m<module>\u001b[1;34m\u001b[0m\n\u001b[0;32m      7\u001b[0m  \u001b[1;32mfor\u001b[0m \u001b[0mj\u001b[0m \u001b[1;32min\u001b[0m \u001b[0mlst_1\u001b[0m\u001b[1;33m:\u001b[0m\u001b[1;33m\u001b[0m\u001b[1;33m\u001b[0m\u001b[0m\n\u001b[0;32m      8\u001b[0m   \u001b[0mmodel\u001b[0m\u001b[1;33m=\u001b[0m\u001b[0mXGBClassifier\u001b[0m\u001b[1;33m(\u001b[0m\u001b[0mseed\u001b[0m \u001b[1;33m=\u001b[0m \u001b[1;36m7\u001b[0m\u001b[1;33m,\u001b[0m \u001b[0mn_estimators\u001b[0m \u001b[1;33m=\u001b[0m \u001b[0mi\u001b[0m\u001b[1;33m,\u001b[0m \u001b[0mmax_depth\u001b[0m \u001b[1;33m=\u001b[0m \u001b[0mj\u001b[0m\u001b[1;33m,\u001b[0m \u001b[0mlearning_rate\u001b[0m \u001b[1;33m=\u001b[0m \u001b[1;36m1\u001b[0m\u001b[1;33m,\u001b[0m\u001b[0meval_metric\u001b[0m\u001b[1;33m=\u001b[0m\u001b[1;34m'mlogloss'\u001b[0m\u001b[1;33m)\u001b[0m\u001b[1;33m\u001b[0m\u001b[1;33m\u001b[0m\u001b[0m\n\u001b[1;32m----> 9\u001b[1;33m   \u001b[0mmodel\u001b[0m\u001b[1;33m.\u001b[0m\u001b[0mfit\u001b[0m\u001b[1;33m(\u001b[0m\u001b[0mX\u001b[0m\u001b[1;33m,\u001b[0m\u001b[0mY\u001b[0m\u001b[1;33m)\u001b[0m\u001b[1;33m\u001b[0m\u001b[1;33m\u001b[0m\u001b[0m\n\u001b[0m\u001b[0;32m     10\u001b[0m   \u001b[1;32mfor\u001b[0m \u001b[0mk\u001b[0m \u001b[1;32min\u001b[0m \u001b[0mx_new\u001b[0m\u001b[1;33m:\u001b[0m\u001b[1;33m\u001b[0m\u001b[1;33m\u001b[0m\u001b[0m\n\u001b[0;32m     11\u001b[0m       \u001b[0mpredictions\u001b[0m \u001b[1;33m=\u001b[0m \u001b[0mmodel\u001b[0m\u001b[1;33m.\u001b[0m\u001b[0mpredict\u001b[0m\u001b[1;33m(\u001b[0m\u001b[0mXX\u001b[0m\u001b[1;33m)\u001b[0m\u001b[1;33m\u001b[0m\u001b[1;33m\u001b[0m\u001b[0m\n",
      "\u001b[1;32mD:\\Programs\\lib\\site-packages\\xgboost\\core.py\u001b[0m in \u001b[0;36minner_f\u001b[1;34m(*args, **kwargs)\u001b[0m\n\u001b[0;32m    504\u001b[0m         \u001b[1;32mfor\u001b[0m \u001b[0mk\u001b[0m\u001b[1;33m,\u001b[0m \u001b[0marg\u001b[0m \u001b[1;32min\u001b[0m \u001b[0mzip\u001b[0m\u001b[1;33m(\u001b[0m\u001b[0msig\u001b[0m\u001b[1;33m.\u001b[0m\u001b[0mparameters\u001b[0m\u001b[1;33m,\u001b[0m \u001b[0margs\u001b[0m\u001b[1;33m)\u001b[0m\u001b[1;33m:\u001b[0m\u001b[1;33m\u001b[0m\u001b[1;33m\u001b[0m\u001b[0m\n\u001b[0;32m    505\u001b[0m             \u001b[0mkwargs\u001b[0m\u001b[1;33m[\u001b[0m\u001b[0mk\u001b[0m\u001b[1;33m]\u001b[0m \u001b[1;33m=\u001b[0m \u001b[0marg\u001b[0m\u001b[1;33m\u001b[0m\u001b[1;33m\u001b[0m\u001b[0m\n\u001b[1;32m--> 506\u001b[1;33m         \u001b[1;32mreturn\u001b[0m \u001b[0mf\u001b[0m\u001b[1;33m(\u001b[0m\u001b[1;33m**\u001b[0m\u001b[0mkwargs\u001b[0m\u001b[1;33m)\u001b[0m\u001b[1;33m\u001b[0m\u001b[1;33m\u001b[0m\u001b[0m\n\u001b[0m\u001b[0;32m    507\u001b[0m \u001b[1;33m\u001b[0m\u001b[0m\n\u001b[0;32m    508\u001b[0m     \u001b[1;32mreturn\u001b[0m \u001b[0minner_f\u001b[0m\u001b[1;33m\u001b[0m\u001b[1;33m\u001b[0m\u001b[0m\n",
      "\u001b[1;32mD:\\Programs\\lib\\site-packages\\xgboost\\sklearn.py\u001b[0m in \u001b[0;36mfit\u001b[1;34m(self, X, y, sample_weight, base_margin, eval_set, eval_metric, early_stopping_rounds, verbose, xgb_model, sample_weight_eval_set, base_margin_eval_set, feature_weights, callbacks)\u001b[0m\n\u001b[0;32m   1248\u001b[0m         )\n\u001b[0;32m   1249\u001b[0m \u001b[1;33m\u001b[0m\u001b[0m\n\u001b[1;32m-> 1250\u001b[1;33m         self._Booster = train(\n\u001b[0m\u001b[0;32m   1251\u001b[0m             \u001b[0mparams\u001b[0m\u001b[1;33m,\u001b[0m\u001b[1;33m\u001b[0m\u001b[1;33m\u001b[0m\u001b[0m\n\u001b[0;32m   1252\u001b[0m             \u001b[0mtrain_dmatrix\u001b[0m\u001b[1;33m,\u001b[0m\u001b[1;33m\u001b[0m\u001b[1;33m\u001b[0m\u001b[0m\n",
      "\u001b[1;32mD:\\Programs\\lib\\site-packages\\xgboost\\training.py\u001b[0m in \u001b[0;36mtrain\u001b[1;34m(params, dtrain, num_boost_round, evals, obj, feval, maximize, early_stopping_rounds, evals_result, verbose_eval, xgb_model, callbacks)\u001b[0m\n\u001b[0;32m    186\u001b[0m     \u001b[0mBooster\u001b[0m \u001b[1;33m:\u001b[0m \u001b[0ma\u001b[0m \u001b[0mtrained\u001b[0m \u001b[0mbooster\u001b[0m \u001b[0mmodel\u001b[0m\u001b[1;33m\u001b[0m\u001b[1;33m\u001b[0m\u001b[0m\n\u001b[0;32m    187\u001b[0m     \"\"\"\n\u001b[1;32m--> 188\u001b[1;33m     bst = _train_internal(params, dtrain,\n\u001b[0m\u001b[0;32m    189\u001b[0m                           \u001b[0mnum_boost_round\u001b[0m\u001b[1;33m=\u001b[0m\u001b[0mnum_boost_round\u001b[0m\u001b[1;33m,\u001b[0m\u001b[1;33m\u001b[0m\u001b[1;33m\u001b[0m\u001b[0m\n\u001b[0;32m    190\u001b[0m                           \u001b[0mevals\u001b[0m\u001b[1;33m=\u001b[0m\u001b[0mevals\u001b[0m\u001b[1;33m,\u001b[0m\u001b[1;33m\u001b[0m\u001b[1;33m\u001b[0m\u001b[0m\n",
      "\u001b[1;32mD:\\Programs\\lib\\site-packages\\xgboost\\training.py\u001b[0m in \u001b[0;36m_train_internal\u001b[1;34m(params, dtrain, num_boost_round, evals, obj, feval, xgb_model, callbacks, evals_result, maximize, verbose_eval, early_stopping_rounds)\u001b[0m\n\u001b[0;32m     79\u001b[0m         \u001b[1;32mif\u001b[0m \u001b[0mcallbacks\u001b[0m\u001b[1;33m.\u001b[0m\u001b[0mbefore_iteration\u001b[0m\u001b[1;33m(\u001b[0m\u001b[0mbst\u001b[0m\u001b[1;33m,\u001b[0m \u001b[0mi\u001b[0m\u001b[1;33m,\u001b[0m \u001b[0mdtrain\u001b[0m\u001b[1;33m,\u001b[0m \u001b[0mevals\u001b[0m\u001b[1;33m)\u001b[0m\u001b[1;33m:\u001b[0m\u001b[1;33m\u001b[0m\u001b[1;33m\u001b[0m\u001b[0m\n\u001b[0;32m     80\u001b[0m             \u001b[1;32mbreak\u001b[0m\u001b[1;33m\u001b[0m\u001b[1;33m\u001b[0m\u001b[0m\n\u001b[1;32m---> 81\u001b[1;33m         \u001b[0mbst\u001b[0m\u001b[1;33m.\u001b[0m\u001b[0mupdate\u001b[0m\u001b[1;33m(\u001b[0m\u001b[0mdtrain\u001b[0m\u001b[1;33m,\u001b[0m \u001b[0mi\u001b[0m\u001b[1;33m,\u001b[0m \u001b[0mobj\u001b[0m\u001b[1;33m)\u001b[0m\u001b[1;33m\u001b[0m\u001b[1;33m\u001b[0m\u001b[0m\n\u001b[0m\u001b[0;32m     82\u001b[0m         \u001b[1;32mif\u001b[0m \u001b[0mcallbacks\u001b[0m\u001b[1;33m.\u001b[0m\u001b[0mafter_iteration\u001b[0m\u001b[1;33m(\u001b[0m\u001b[0mbst\u001b[0m\u001b[1;33m,\u001b[0m \u001b[0mi\u001b[0m\u001b[1;33m,\u001b[0m \u001b[0mdtrain\u001b[0m\u001b[1;33m,\u001b[0m \u001b[0mevals\u001b[0m\u001b[1;33m)\u001b[0m\u001b[1;33m:\u001b[0m\u001b[1;33m\u001b[0m\u001b[1;33m\u001b[0m\u001b[0m\n\u001b[0;32m     83\u001b[0m             \u001b[1;32mbreak\u001b[0m\u001b[1;33m\u001b[0m\u001b[1;33m\u001b[0m\u001b[0m\n",
      "\u001b[1;32mD:\\Programs\\lib\\site-packages\\xgboost\\core.py\u001b[0m in \u001b[0;36mupdate\u001b[1;34m(self, dtrain, iteration, fobj)\u001b[0m\n\u001b[0;32m   1678\u001b[0m \u001b[1;33m\u001b[0m\u001b[0m\n\u001b[0;32m   1679\u001b[0m         \u001b[1;32mif\u001b[0m \u001b[0mfobj\u001b[0m \u001b[1;32mis\u001b[0m \u001b[1;32mNone\u001b[0m\u001b[1;33m:\u001b[0m\u001b[1;33m\u001b[0m\u001b[1;33m\u001b[0m\u001b[0m\n\u001b[1;32m-> 1680\u001b[1;33m             _check_call(_LIB.XGBoosterUpdateOneIter(self.handle,\n\u001b[0m\u001b[0;32m   1681\u001b[0m                                                     \u001b[0mctypes\u001b[0m\u001b[1;33m.\u001b[0m\u001b[0mc_int\u001b[0m\u001b[1;33m(\u001b[0m\u001b[0miteration\u001b[0m\u001b[1;33m)\u001b[0m\u001b[1;33m,\u001b[0m\u001b[1;33m\u001b[0m\u001b[1;33m\u001b[0m\u001b[0m\n\u001b[0;32m   1682\u001b[0m                                                     dtrain.handle))\n",
      "\u001b[1;31mKeyboardInterrupt\u001b[0m: "
     ]
    }
   ],
   "source": [
    "from sklearn.metrics import classification_report\n",
    "from sklearn.metrics import confusion_matrix\n",
    "x_new = XX[1000:1020]\n",
    "lst_1 = list(range(1,20))\n",
    "lst_3 = list(range(50,200))\n",
    "for i in lst_3:\n",
    " for j in lst_1:\n",
    "  model=XGBClassifier(seed = 7, n_estimators = i, max_depth = j, learning_rate = 1,eval_metric='mlogloss')\n",
    "  model.fit(X,Y)\n",
    "  for k in x_new:\n",
    "      predictions = model.predict(XX)\n",
    "      print (f'n_estimators = {i} max_depth = {k}')\n",
    "      print(confusion_matrix(YY, predictions))\n"
   ]
  },
  {
   "cell_type": "code",
   "execution_count": 35,
   "id": "875a1d6f",
   "metadata": {},
   "outputs": [
    {
     "data": {
      "text/plain": [
       "array([2., 3., 2., 3., 3., 2., 2., 2., 2., 3., 4., 1., 3., 2., 3., 1., 1.,\n",
       "       4., 4., 3.])"
      ]
     },
     "execution_count": 35,
     "metadata": {},
     "output_type": "execute_result"
    }
   ],
   "source": [
    "YY[1000:1020]"
   ]
  },
  {
   "cell_type": "code",
   "execution_count": 36,
   "id": "de71b8e9",
   "metadata": {
    "scrolled": true
   },
   "outputs": [
    {
     "name": "stdout",
     "output_type": "stream",
     "text": [
      "n_estimators:50 глубина: 1 предсказание: [1. 3. 3. 3. 4. 3. 2. 4. 2. 1. 4. 4. 3. 1. 4. 4. 3. 4. 4. 2.]\n",
      "n_estimators:50 глубина: 2 предсказание: [1. 3. 3. 3. 4. 3. 2. 2. 2. 3. 4. 4. 3. 1. 4. 4. 3. 4. 4. 2.]\n",
      "n_estimators:50 глубина: 3 предсказание: [1. 3. 3. 3. 4. 3. 1. 2. 2. 3. 4. 4. 3. 1. 4. 4. 3. 4. 4. 2.]\n",
      "n_estimators:50 глубина: 4 предсказание: [1. 3. 2. 3. 4. 3. 2. 2. 2. 3. 4. 4. 3. 1. 4. 4. 3. 4. 4. 3.]\n",
      "n_estimators:50 глубина: 5 предсказание: [1. 3. 3. 3. 4. 3. 2. 4. 2. 1. 4. 4. 3. 1. 4. 4. 3. 4. 4. 2.]\n",
      "n_estimators:50 глубина: 6 предсказание: [1. 3. 3. 3. 4. 3. 2. 4. 2. 3. 4. 4. 3. 1. 4. 4. 3. 4. 4. 2.]\n",
      "n_estimators:50 глубина: 7 предсказание: [1. 3. 3. 3. 4. 3. 2. 4. 2. 1. 4. 4. 3. 1. 4. 4. 3. 4. 4. 2.]\n",
      "n_estimators:50 глубина: 8 предсказание: [1. 3. 3. 3. 4. 3. 1. 4. 2. 3. 4. 4. 3. 1. 4. 4. 3. 4. 4. 2.]\n",
      "n_estimators:50 глубина: 9 предсказание: [1. 3. 3. 3. 4. 3. 2. 2. 2. 1. 4. 4. 3. 1. 4. 4. 3. 4. 4. 2.]\n",
      "n_estimators:50 глубина: 10 предсказание: [1. 3. 3. 3. 4. 3. 2. 4. 2. 3. 4. 4. 3. 1. 4. 4. 3. 4. 4. 2.]\n",
      "n_estimators:50 глубина: 11 предсказание: [1. 3. 3. 3. 4. 3. 2. 2. 2. 1. 4. 4. 3. 1. 4. 4. 3. 4. 4. 3.]\n",
      "n_estimators:50 глубина: 12 предсказание: [1. 3. 3. 3. 4. 3. 2. 4. 2. 1. 4. 4. 3. 1. 4. 4. 3. 4. 4. 2.]\n",
      "n_estimators:50 глубина: 13 предсказание: [1. 3. 3. 3. 4. 3. 2. 4. 2. 3. 4. 4. 3. 1. 4. 4. 3. 4. 4. 2.]\n",
      "n_estimators:50 глубина: 14 предсказание: [1. 3. 3. 3. 4. 3. 2. 4. 2. 3. 4. 4. 3. 1. 4. 4. 3. 4. 4. 2.]\n",
      "n_estimators:50 глубина: 15 предсказание: [1. 3. 3. 3. 4. 3. 2. 4. 2. 1. 4. 4. 3. 1. 4. 4. 3. 4. 4. 2.]\n",
      "n_estimators:50 глубина: 16 предсказание: [1. 3. 3. 3. 4. 3. 2. 4. 2. 3. 4. 4. 3. 1. 4. 4. 3. 4. 4. 2.]\n",
      "n_estimators:50 глубина: 17 предсказание: [1. 3. 3. 3. 4. 3. 2. 4. 2. 3. 4. 4. 3. 1. 4. 4. 3. 4. 4. 2.]\n",
      "n_estimators:50 глубина: 18 предсказание: [1. 3. 3. 3. 4. 3. 2. 4. 2. 3. 4. 4. 3. 1. 4. 4. 3. 4. 4. 3.]\n",
      "n_estimators:50 глубина: 19 предсказание: [1. 3. 3. 3. 4. 3. 2. 4. 2. 3. 4. 4. 3. 1. 4. 4. 3. 4. 4. 2.]\n",
      "n_estimators:51 глубина: 1 предсказание: [1. 3. 3. 3. 4. 3. 2. 4. 2. 1. 4. 4. 3. 1. 4. 4. 3. 4. 4. 2.]\n",
      "n_estimators:51 глубина: 2 предсказание: [1. 3. 3. 3. 4. 3. 2. 4. 2. 3. 4. 4. 3. 1. 4. 4. 3. 4. 4. 2.]\n",
      "n_estimators:51 глубина: 3 предсказание: [1. 3. 3. 3. 4. 3. 2. 2. 2. 3. 4. 4. 3. 1. 4. 4. 3. 4. 4. 2.]\n",
      "n_estimators:51 глубина: 4 предсказание: [1. 3. 3. 3. 4. 3. 2. 4. 2. 3. 4. 4. 3. 1. 4. 4. 3. 4. 4. 2.]\n",
      "n_estimators:51 глубина: 5 предсказание: [1. 3. 3. 3. 4. 3. 2. 4. 2. 1. 4. 4. 3. 1. 4. 4. 3. 4. 4. 2.]\n",
      "n_estimators:51 глубина: 6 предсказание: [1. 3. 3. 3. 4. 3. 1. 4. 2. 1. 4. 4. 3. 1. 4. 1. 3. 4. 4. 2.]\n",
      "n_estimators:51 глубина: 7 предсказание: [1. 3. 3. 3. 4. 3. 2. 4. 2. 3. 4. 4. 3. 1. 4. 4. 3. 4. 4. 2.]\n",
      "n_estimators:51 глубина: 8 предсказание: [1. 3. 3. 3. 4. 3. 2. 4. 2. 3. 4. 4. 3. 1. 4. 4. 3. 4. 4. 2.]\n",
      "n_estimators:51 глубина: 9 предсказание: [1. 3. 3. 3. 4. 3. 2. 2. 2. 3. 4. 4. 3. 1. 4. 4. 3. 4. 4. 2.]\n",
      "n_estimators:51 глубина: 10 предсказание: [1. 3. 3. 3. 4. 3. 1. 4. 2. 3. 4. 4. 3. 1. 4. 4. 3. 4. 4. 2.]\n",
      "n_estimators:51 глубина: 11 предсказание: [1. 3. 3. 3. 4. 3. 2. 4. 2. 1. 4. 4. 3. 1. 4. 4. 3. 4. 4. 2.]\n",
      "n_estimators:51 глубина: 12 предсказание: [1. 3. 3. 3. 4. 3. 2. 4. 2. 3. 4. 4. 3. 1. 4. 4. 3. 4. 4. 2.]\n",
      "n_estimators:51 глубина: 13 предсказание: [1. 3. 3. 3. 4. 3. 2. 4. 2. 1. 4. 4. 3. 1. 4. 4. 3. 4. 4. 2.]\n",
      "n_estimators:51 глубина: 14 предсказание: [1. 3. 3. 3. 4. 3. 2. 4. 2. 1. 4. 4. 3. 1. 4. 4. 3. 4. 4. 2.]\n",
      "n_estimators:51 глубина: 15 предсказание: [1. 3. 3. 3. 4. 3. 2. 2. 2. 1. 4. 4. 3. 1. 4. 4. 3. 4. 4. 2.]\n",
      "n_estimators:51 глубина: 16 предсказание: [1. 3. 3. 3. 4. 3. 2. 4. 2. 1. 4. 4. 3. 1. 4. 4. 3. 4. 4. 2.]\n",
      "n_estimators:51 глубина: 17 предсказание: [1. 3. 3. 3. 4. 3. 1. 4. 2. 3. 4. 4. 3. 1. 4. 4. 3. 4. 4. 2.]\n",
      "n_estimators:51 глубина: 18 предсказание: [1. 3. 3. 3. 4. 3. 4. 2. 2. 3. 4. 4. 3. 1. 4. 4. 3. 4. 4. 2.]\n",
      "n_estimators:51 глубина: 19 предсказание: [1. 3. 3. 3. 4. 3. 1. 4. 2. 3. 4. 4. 3. 1. 4. 4. 3. 4. 4. 2.]\n",
      "n_estimators:52 глубина: 1 предсказание: [1. 3. 3. 3. 4. 3. 2. 2. 2. 1. 4. 4. 3. 1. 4. 4. 3. 4. 4. 2.]\n",
      "n_estimators:52 глубина: 2 предсказание: [1. 3. 2. 3. 4. 3. 2. 4. 2. 3. 4. 4. 3. 1. 4. 1. 3. 4. 4. 2.]\n",
      "n_estimators:52 глубина: 3 предсказание: [1. 3. 3. 3. 4. 3. 1. 4. 2. 3. 4. 4. 3. 1. 4. 4. 3. 4. 4. 2.]\n",
      "n_estimators:52 глубина: 4 предсказание: [1. 3. 3. 3. 4. 3. 2. 4. 2. 3. 4. 4. 3. 1. 4. 4. 3. 4. 4. 2.]\n",
      "n_estimators:52 глубина: 5 предсказание: [1. 3. 3. 3. 4. 3. 2. 4. 2. 3. 4. 4. 3. 1. 4. 4. 3. 4. 4. 2.]\n",
      "n_estimators:52 глубина: 6 предсказание: [1. 3. 3. 3. 4. 3. 2. 4. 2. 3. 4. 4. 3. 1. 4. 4. 3. 4. 4. 2.]\n",
      "n_estimators:52 глубина: 7 предсказание: [1. 3. 3. 3. 4. 3. 2. 4. 2. 3. 4. 4. 3. 1. 4. 4. 3. 4. 4. 2.]\n",
      "n_estimators:52 глубина: 8 предсказание: [1. 3. 3. 3. 4. 3. 2. 4. 2. 3. 4. 4. 3. 1. 4. 4. 3. 4. 4. 2.]\n",
      "n_estimators:52 глубина: 9 предсказание: [1. 3. 3. 3. 4. 3. 2. 2. 2. 3. 4. 4. 3. 1. 4. 4. 3. 4. 4. 2.]\n",
      "n_estimators:52 глубина: 10 предсказание: [1. 3. 3. 3. 4. 3. 1. 4. 2. 3. 4. 4. 3. 1. 4. 4. 3. 4. 4. 2.]\n",
      "n_estimators:52 глубина: 11 предсказание: [1. 3. 3. 3. 4. 3. 2. 4. 2. 1. 4. 4. 3. 1. 4. 4. 3. 4. 4. 2.]\n",
      "n_estimators:52 глубина: 12 предсказание: [1. 3. 3. 3. 4. 3. 1. 2. 2. 3. 4. 4. 3. 1. 4. 4. 3. 4. 4. 2.]\n",
      "n_estimators:52 глубина: 13 предсказание: [1. 3. 3. 3. 4. 3. 2. 4. 2. 1. 4. 4. 3. 1. 4. 1. 3. 4. 4. 2.]\n",
      "n_estimators:52 глубина: 14 предсказание: [1. 3. 3. 3. 4. 3. 2. 2. 2. 3. 4. 4. 3. 1. 4. 4. 3. 4. 4. 2.]\n",
      "n_estimators:52 глубина: 15 предсказание: [1. 3. 3. 3. 4. 3. 2. 4. 2. 3. 4. 4. 3. 1. 4. 4. 3. 4. 4. 2.]\n",
      "n_estimators:52 глубина: 16 предсказание: [1. 3. 3. 3. 4. 3. 2. 4. 2. 1. 4. 4. 3. 1. 4. 4. 3. 4. 4. 2.]\n",
      "n_estimators:52 глубина: 17 предсказание: [1. 3. 3. 3. 4. 3. 2. 4. 2. 1. 4. 4. 3. 1. 4. 4. 3. 4. 4. 2.]\n",
      "n_estimators:52 глубина: 18 предсказание: [1. 3. 3. 3. 4. 3. 2. 4. 2. 3. 4. 4. 3. 1. 4. 4. 3. 4. 4. 2.]\n",
      "n_estimators:52 глубина: 19 предсказание: [1. 3. 2. 3. 4. 3. 1. 4. 2. 3. 4. 4. 3. 1. 4. 4. 3. 4. 4. 2.]\n",
      "n_estimators:53 глубина: 1 предсказание: [1. 3. 3. 3. 4. 3. 2. 2. 2. 1. 4. 4. 3. 1. 4. 4. 3. 4. 4. 2.]\n",
      "n_estimators:53 глубина: 2 предсказание: [1. 3. 3. 3. 4. 3. 1. 4. 2. 3. 4. 4. 3. 1. 4. 4. 3. 4. 4. 2.]\n",
      "n_estimators:53 глубина: 3 предсказание: [1. 3. 3. 3. 4. 3. 2. 4. 2. 3. 4. 4. 3. 1. 4. 4. 3. 4. 4. 2.]\n",
      "n_estimators:53 глубина: 4 предсказание: [1. 3. 3. 3. 4. 3. 2. 4. 2. 3. 4. 4. 3. 1. 4. 4. 3. 4. 4. 2.]\n",
      "n_estimators:53 глубина: 5 предсказание: [1. 3. 3. 3. 4. 3. 2. 4. 2. 1. 4. 4. 3. 1. 4. 4. 3. 4. 4. 2.]\n",
      "n_estimators:53 глубина: 6 предсказание: [1. 3. 3. 3. 4. 3. 1. 4. 2. 1. 4. 4. 3. 1. 4. 4. 3. 4. 4. 2.]\n",
      "n_estimators:53 глубина: 7 предсказание: [1. 3. 3. 3. 4. 3. 2. 4. 2. 3. 4. 4. 3. 1. 4. 4. 3. 4. 4. 2.]\n",
      "n_estimators:53 глубина: 8 предсказание: [1. 3. 3. 3. 4. 3. 2. 4. 2. 1. 4. 4. 3. 1. 4. 4. 3. 4. 4. 2.]\n"
     ]
    },
    {
     "ename": "KeyboardInterrupt",
     "evalue": "",
     "output_type": "error",
     "traceback": [
      "\u001b[1;31m---------------------------------------------------------------------------\u001b[0m",
      "\u001b[1;31mKeyboardInterrupt\u001b[0m                         Traceback (most recent call last)",
      "\u001b[1;32mC:\\Users\\D9F8~1\\AppData\\Local\\Temp/ipykernel_21960/3705405243.py\u001b[0m in \u001b[0;36m<module>\u001b[1;34m\u001b[0m\n\u001b[0;32m      7\u001b[0m  \u001b[1;32mfor\u001b[0m \u001b[0mj\u001b[0m \u001b[1;32min\u001b[0m \u001b[0mlst_1\u001b[0m\u001b[1;33m:\u001b[0m\u001b[1;33m\u001b[0m\u001b[1;33m\u001b[0m\u001b[0m\n\u001b[0;32m      8\u001b[0m   \u001b[0mmodel\u001b[0m\u001b[1;33m=\u001b[0m\u001b[0mRandomForestClassifier\u001b[0m\u001b[1;33m(\u001b[0m\u001b[0mmax_depth\u001b[0m \u001b[1;33m=\u001b[0m \u001b[1;36m9\u001b[0m\u001b[1;33m,\u001b[0m \u001b[0mmin_samples_leaf\u001b[0m \u001b[1;33m=\u001b[0m \u001b[1;36m2\u001b[0m\u001b[1;33m,\u001b[0m \u001b[0mmin_samples_split\u001b[0m \u001b[1;33m=\u001b[0m \u001b[1;36m2\u001b[0m\u001b[1;33m,\u001b[0m \u001b[0mn_estimators\u001b[0m\u001b[1;33m=\u001b[0m \u001b[1;36m90\u001b[0m\u001b[1;33m)\u001b[0m\u001b[1;33m\u001b[0m\u001b[1;33m\u001b[0m\u001b[0m\n\u001b[1;32m----> 9\u001b[1;33m   \u001b[0mmodel\u001b[0m\u001b[1;33m.\u001b[0m\u001b[0mfit\u001b[0m\u001b[1;33m(\u001b[0m\u001b[0mX\u001b[0m\u001b[1;33m,\u001b[0m\u001b[0mY\u001b[0m\u001b[1;33m)\u001b[0m\u001b[1;33m\u001b[0m\u001b[1;33m\u001b[0m\u001b[0m\n\u001b[0m\u001b[0;32m     10\u001b[0m   \u001b[0mres\u001b[0m \u001b[1;33m=\u001b[0m \u001b[0mmodel\u001b[0m\u001b[1;33m.\u001b[0m\u001b[0mpredict\u001b[0m\u001b[1;33m(\u001b[0m\u001b[0mx_new\u001b[0m\u001b[1;33m)\u001b[0m\u001b[1;33m\u001b[0m\u001b[1;33m\u001b[0m\u001b[0m\n\u001b[0;32m     11\u001b[0m   \u001b[0mprint\u001b[0m\u001b[1;33m(\u001b[0m\u001b[1;34mf'n_estimators:{i} глубина: {j} предсказание: {res}'\u001b[0m\u001b[1;33m)\u001b[0m\u001b[1;33m\u001b[0m\u001b[1;33m\u001b[0m\u001b[0m\n",
      "\u001b[1;32mD:\\Programs\\lib\\site-packages\\sklearn\\ensemble\\_forest.py\u001b[0m in \u001b[0;36mfit\u001b[1;34m(self, X, y, sample_weight)\u001b[0m\n\u001b[0;32m    385\u001b[0m             \u001b[1;31m# parallel_backend contexts set at a higher level,\u001b[0m\u001b[1;33m\u001b[0m\u001b[1;33m\u001b[0m\u001b[0m\n\u001b[0;32m    386\u001b[0m             \u001b[1;31m# since correctness does not rely on using threads.\u001b[0m\u001b[1;33m\u001b[0m\u001b[1;33m\u001b[0m\u001b[0m\n\u001b[1;32m--> 387\u001b[1;33m             trees = Parallel(n_jobs=self.n_jobs, verbose=self.verbose,\n\u001b[0m\u001b[0;32m    388\u001b[0m                              \u001b[1;33m**\u001b[0m\u001b[0m_joblib_parallel_args\u001b[0m\u001b[1;33m(\u001b[0m\u001b[0mprefer\u001b[0m\u001b[1;33m=\u001b[0m\u001b[1;34m'threads'\u001b[0m\u001b[1;33m)\u001b[0m\u001b[1;33m)\u001b[0m\u001b[1;33m(\u001b[0m\u001b[1;33m\u001b[0m\u001b[1;33m\u001b[0m\u001b[0m\n\u001b[0;32m    389\u001b[0m                 delayed(_parallel_build_trees)(\n",
      "\u001b[1;32mD:\\Programs\\lib\\site-packages\\joblib\\parallel.py\u001b[0m in \u001b[0;36m__call__\u001b[1;34m(self, iterable)\u001b[0m\n\u001b[0;32m   1041\u001b[0m             \u001b[1;31m# remaining jobs.\u001b[0m\u001b[1;33m\u001b[0m\u001b[1;33m\u001b[0m\u001b[0m\n\u001b[0;32m   1042\u001b[0m             \u001b[0mself\u001b[0m\u001b[1;33m.\u001b[0m\u001b[0m_iterating\u001b[0m \u001b[1;33m=\u001b[0m \u001b[1;32mFalse\u001b[0m\u001b[1;33m\u001b[0m\u001b[1;33m\u001b[0m\u001b[0m\n\u001b[1;32m-> 1043\u001b[1;33m             \u001b[1;32mif\u001b[0m \u001b[0mself\u001b[0m\u001b[1;33m.\u001b[0m\u001b[0mdispatch_one_batch\u001b[0m\u001b[1;33m(\u001b[0m\u001b[0miterator\u001b[0m\u001b[1;33m)\u001b[0m\u001b[1;33m:\u001b[0m\u001b[1;33m\u001b[0m\u001b[1;33m\u001b[0m\u001b[0m\n\u001b[0m\u001b[0;32m   1044\u001b[0m                 \u001b[0mself\u001b[0m\u001b[1;33m.\u001b[0m\u001b[0m_iterating\u001b[0m \u001b[1;33m=\u001b[0m \u001b[0mself\u001b[0m\u001b[1;33m.\u001b[0m\u001b[0m_original_iterator\u001b[0m \u001b[1;32mis\u001b[0m \u001b[1;32mnot\u001b[0m \u001b[1;32mNone\u001b[0m\u001b[1;33m\u001b[0m\u001b[1;33m\u001b[0m\u001b[0m\n\u001b[0;32m   1045\u001b[0m \u001b[1;33m\u001b[0m\u001b[0m\n",
      "\u001b[1;32mD:\\Programs\\lib\\site-packages\\joblib\\parallel.py\u001b[0m in \u001b[0;36mdispatch_one_batch\u001b[1;34m(self, iterator)\u001b[0m\n\u001b[0;32m    859\u001b[0m                 \u001b[1;32mreturn\u001b[0m \u001b[1;32mFalse\u001b[0m\u001b[1;33m\u001b[0m\u001b[1;33m\u001b[0m\u001b[0m\n\u001b[0;32m    860\u001b[0m             \u001b[1;32melse\u001b[0m\u001b[1;33m:\u001b[0m\u001b[1;33m\u001b[0m\u001b[1;33m\u001b[0m\u001b[0m\n\u001b[1;32m--> 861\u001b[1;33m                 \u001b[0mself\u001b[0m\u001b[1;33m.\u001b[0m\u001b[0m_dispatch\u001b[0m\u001b[1;33m(\u001b[0m\u001b[0mtasks\u001b[0m\u001b[1;33m)\u001b[0m\u001b[1;33m\u001b[0m\u001b[1;33m\u001b[0m\u001b[0m\n\u001b[0m\u001b[0;32m    862\u001b[0m                 \u001b[1;32mreturn\u001b[0m \u001b[1;32mTrue\u001b[0m\u001b[1;33m\u001b[0m\u001b[1;33m\u001b[0m\u001b[0m\n\u001b[0;32m    863\u001b[0m \u001b[1;33m\u001b[0m\u001b[0m\n",
      "\u001b[1;32mD:\\Programs\\lib\\site-packages\\joblib\\parallel.py\u001b[0m in \u001b[0;36m_dispatch\u001b[1;34m(self, batch)\u001b[0m\n\u001b[0;32m    777\u001b[0m         \u001b[1;32mwith\u001b[0m \u001b[0mself\u001b[0m\u001b[1;33m.\u001b[0m\u001b[0m_lock\u001b[0m\u001b[1;33m:\u001b[0m\u001b[1;33m\u001b[0m\u001b[1;33m\u001b[0m\u001b[0m\n\u001b[0;32m    778\u001b[0m             \u001b[0mjob_idx\u001b[0m \u001b[1;33m=\u001b[0m \u001b[0mlen\u001b[0m\u001b[1;33m(\u001b[0m\u001b[0mself\u001b[0m\u001b[1;33m.\u001b[0m\u001b[0m_jobs\u001b[0m\u001b[1;33m)\u001b[0m\u001b[1;33m\u001b[0m\u001b[1;33m\u001b[0m\u001b[0m\n\u001b[1;32m--> 779\u001b[1;33m             \u001b[0mjob\u001b[0m \u001b[1;33m=\u001b[0m \u001b[0mself\u001b[0m\u001b[1;33m.\u001b[0m\u001b[0m_backend\u001b[0m\u001b[1;33m.\u001b[0m\u001b[0mapply_async\u001b[0m\u001b[1;33m(\u001b[0m\u001b[0mbatch\u001b[0m\u001b[1;33m,\u001b[0m \u001b[0mcallback\u001b[0m\u001b[1;33m=\u001b[0m\u001b[0mcb\u001b[0m\u001b[1;33m)\u001b[0m\u001b[1;33m\u001b[0m\u001b[1;33m\u001b[0m\u001b[0m\n\u001b[0m\u001b[0;32m    780\u001b[0m             \u001b[1;31m# A job can complete so quickly than its callback is\u001b[0m\u001b[1;33m\u001b[0m\u001b[1;33m\u001b[0m\u001b[0m\n\u001b[0;32m    781\u001b[0m             \u001b[1;31m# called before we get here, causing self._jobs to\u001b[0m\u001b[1;33m\u001b[0m\u001b[1;33m\u001b[0m\u001b[0m\n",
      "\u001b[1;32mD:\\Programs\\lib\\site-packages\\joblib\\_parallel_backends.py\u001b[0m in \u001b[0;36mapply_async\u001b[1;34m(self, func, callback)\u001b[0m\n\u001b[0;32m    206\u001b[0m     \u001b[1;32mdef\u001b[0m \u001b[0mapply_async\u001b[0m\u001b[1;33m(\u001b[0m\u001b[0mself\u001b[0m\u001b[1;33m,\u001b[0m \u001b[0mfunc\u001b[0m\u001b[1;33m,\u001b[0m \u001b[0mcallback\u001b[0m\u001b[1;33m=\u001b[0m\u001b[1;32mNone\u001b[0m\u001b[1;33m)\u001b[0m\u001b[1;33m:\u001b[0m\u001b[1;33m\u001b[0m\u001b[1;33m\u001b[0m\u001b[0m\n\u001b[0;32m    207\u001b[0m         \u001b[1;34m\"\"\"Schedule a func to be run\"\"\"\u001b[0m\u001b[1;33m\u001b[0m\u001b[1;33m\u001b[0m\u001b[0m\n\u001b[1;32m--> 208\u001b[1;33m         \u001b[0mresult\u001b[0m \u001b[1;33m=\u001b[0m \u001b[0mImmediateResult\u001b[0m\u001b[1;33m(\u001b[0m\u001b[0mfunc\u001b[0m\u001b[1;33m)\u001b[0m\u001b[1;33m\u001b[0m\u001b[1;33m\u001b[0m\u001b[0m\n\u001b[0m\u001b[0;32m    209\u001b[0m         \u001b[1;32mif\u001b[0m \u001b[0mcallback\u001b[0m\u001b[1;33m:\u001b[0m\u001b[1;33m\u001b[0m\u001b[1;33m\u001b[0m\u001b[0m\n\u001b[0;32m    210\u001b[0m             \u001b[0mcallback\u001b[0m\u001b[1;33m(\u001b[0m\u001b[0mresult\u001b[0m\u001b[1;33m)\u001b[0m\u001b[1;33m\u001b[0m\u001b[1;33m\u001b[0m\u001b[0m\n",
      "\u001b[1;32mD:\\Programs\\lib\\site-packages\\joblib\\_parallel_backends.py\u001b[0m in \u001b[0;36m__init__\u001b[1;34m(self, batch)\u001b[0m\n\u001b[0;32m    570\u001b[0m         \u001b[1;31m# Don't delay the application, to avoid keeping the input\u001b[0m\u001b[1;33m\u001b[0m\u001b[1;33m\u001b[0m\u001b[0m\n\u001b[0;32m    571\u001b[0m         \u001b[1;31m# arguments in memory\u001b[0m\u001b[1;33m\u001b[0m\u001b[1;33m\u001b[0m\u001b[0m\n\u001b[1;32m--> 572\u001b[1;33m         \u001b[0mself\u001b[0m\u001b[1;33m.\u001b[0m\u001b[0mresults\u001b[0m \u001b[1;33m=\u001b[0m \u001b[0mbatch\u001b[0m\u001b[1;33m(\u001b[0m\u001b[1;33m)\u001b[0m\u001b[1;33m\u001b[0m\u001b[1;33m\u001b[0m\u001b[0m\n\u001b[0m\u001b[0;32m    573\u001b[0m \u001b[1;33m\u001b[0m\u001b[0m\n\u001b[0;32m    574\u001b[0m     \u001b[1;32mdef\u001b[0m \u001b[0mget\u001b[0m\u001b[1;33m(\u001b[0m\u001b[0mself\u001b[0m\u001b[1;33m)\u001b[0m\u001b[1;33m:\u001b[0m\u001b[1;33m\u001b[0m\u001b[1;33m\u001b[0m\u001b[0m\n",
      "\u001b[1;32mD:\\Programs\\lib\\site-packages\\joblib\\parallel.py\u001b[0m in \u001b[0;36m__call__\u001b[1;34m(self)\u001b[0m\n\u001b[0;32m    260\u001b[0m         \u001b[1;31m# change the default number of processes to -1\u001b[0m\u001b[1;33m\u001b[0m\u001b[1;33m\u001b[0m\u001b[0m\n\u001b[0;32m    261\u001b[0m         \u001b[1;32mwith\u001b[0m \u001b[0mparallel_backend\u001b[0m\u001b[1;33m(\u001b[0m\u001b[0mself\u001b[0m\u001b[1;33m.\u001b[0m\u001b[0m_backend\u001b[0m\u001b[1;33m,\u001b[0m \u001b[0mn_jobs\u001b[0m\u001b[1;33m=\u001b[0m\u001b[0mself\u001b[0m\u001b[1;33m.\u001b[0m\u001b[0m_n_jobs\u001b[0m\u001b[1;33m)\u001b[0m\u001b[1;33m:\u001b[0m\u001b[1;33m\u001b[0m\u001b[1;33m\u001b[0m\u001b[0m\n\u001b[1;32m--> 262\u001b[1;33m             return [func(*args, **kwargs)\n\u001b[0m\u001b[0;32m    263\u001b[0m                     for func, args, kwargs in self.items]\n\u001b[0;32m    264\u001b[0m \u001b[1;33m\u001b[0m\u001b[0m\n",
      "\u001b[1;32mD:\\Programs\\lib\\site-packages\\joblib\\parallel.py\u001b[0m in \u001b[0;36m<listcomp>\u001b[1;34m(.0)\u001b[0m\n\u001b[0;32m    260\u001b[0m         \u001b[1;31m# change the default number of processes to -1\u001b[0m\u001b[1;33m\u001b[0m\u001b[1;33m\u001b[0m\u001b[0m\n\u001b[0;32m    261\u001b[0m         \u001b[1;32mwith\u001b[0m \u001b[0mparallel_backend\u001b[0m\u001b[1;33m(\u001b[0m\u001b[0mself\u001b[0m\u001b[1;33m.\u001b[0m\u001b[0m_backend\u001b[0m\u001b[1;33m,\u001b[0m \u001b[0mn_jobs\u001b[0m\u001b[1;33m=\u001b[0m\u001b[0mself\u001b[0m\u001b[1;33m.\u001b[0m\u001b[0m_n_jobs\u001b[0m\u001b[1;33m)\u001b[0m\u001b[1;33m:\u001b[0m\u001b[1;33m\u001b[0m\u001b[1;33m\u001b[0m\u001b[0m\n\u001b[1;32m--> 262\u001b[1;33m             return [func(*args, **kwargs)\n\u001b[0m\u001b[0;32m    263\u001b[0m                     for func, args, kwargs in self.items]\n\u001b[0;32m    264\u001b[0m \u001b[1;33m\u001b[0m\u001b[0m\n",
      "\u001b[1;32mD:\\Programs\\lib\\site-packages\\sklearn\\utils\\fixes.py\u001b[0m in \u001b[0;36m__call__\u001b[1;34m(self, *args, **kwargs)\u001b[0m\n\u001b[0;32m    220\u001b[0m     \u001b[1;32mdef\u001b[0m \u001b[0m__call__\u001b[0m\u001b[1;33m(\u001b[0m\u001b[0mself\u001b[0m\u001b[1;33m,\u001b[0m \u001b[1;33m*\u001b[0m\u001b[0margs\u001b[0m\u001b[1;33m,\u001b[0m \u001b[1;33m**\u001b[0m\u001b[0mkwargs\u001b[0m\u001b[1;33m)\u001b[0m\u001b[1;33m:\u001b[0m\u001b[1;33m\u001b[0m\u001b[1;33m\u001b[0m\u001b[0m\n\u001b[0;32m    221\u001b[0m         \u001b[1;32mwith\u001b[0m \u001b[0mconfig_context\u001b[0m\u001b[1;33m(\u001b[0m\u001b[1;33m**\u001b[0m\u001b[0mself\u001b[0m\u001b[1;33m.\u001b[0m\u001b[0mconfig\u001b[0m\u001b[1;33m)\u001b[0m\u001b[1;33m:\u001b[0m\u001b[1;33m\u001b[0m\u001b[1;33m\u001b[0m\u001b[0m\n\u001b[1;32m--> 222\u001b[1;33m             \u001b[1;32mreturn\u001b[0m \u001b[0mself\u001b[0m\u001b[1;33m.\u001b[0m\u001b[0mfunction\u001b[0m\u001b[1;33m(\u001b[0m\u001b[1;33m*\u001b[0m\u001b[0margs\u001b[0m\u001b[1;33m,\u001b[0m \u001b[1;33m**\u001b[0m\u001b[0mkwargs\u001b[0m\u001b[1;33m)\u001b[0m\u001b[1;33m\u001b[0m\u001b[1;33m\u001b[0m\u001b[0m\n\u001b[0m",
      "\u001b[1;32mD:\\Programs\\lib\\site-packages\\sklearn\\ensemble\\_forest.py\u001b[0m in \u001b[0;36m_parallel_build_trees\u001b[1;34m(tree, forest, X, y, sample_weight, tree_idx, n_trees, verbose, class_weight, n_samples_bootstrap)\u001b[0m\n\u001b[0;32m    153\u001b[0m             \u001b[0mcurr_sample_weight\u001b[0m \u001b[1;33m=\u001b[0m \u001b[0msample_weight\u001b[0m\u001b[1;33m.\u001b[0m\u001b[0mcopy\u001b[0m\u001b[1;33m(\u001b[0m\u001b[1;33m)\u001b[0m\u001b[1;33m\u001b[0m\u001b[1;33m\u001b[0m\u001b[0m\n\u001b[0;32m    154\u001b[0m \u001b[1;33m\u001b[0m\u001b[0m\n\u001b[1;32m--> 155\u001b[1;33m         indices = _generate_sample_indices(tree.random_state, n_samples,\n\u001b[0m\u001b[0;32m    156\u001b[0m                                            n_samples_bootstrap)\n\u001b[0;32m    157\u001b[0m         \u001b[0msample_counts\u001b[0m \u001b[1;33m=\u001b[0m \u001b[0mnp\u001b[0m\u001b[1;33m.\u001b[0m\u001b[0mbincount\u001b[0m\u001b[1;33m(\u001b[0m\u001b[0mindices\u001b[0m\u001b[1;33m,\u001b[0m \u001b[0mminlength\u001b[0m\u001b[1;33m=\u001b[0m\u001b[0mn_samples\u001b[0m\u001b[1;33m)\u001b[0m\u001b[1;33m\u001b[0m\u001b[1;33m\u001b[0m\u001b[0m\n",
      "\u001b[1;32mD:\\Programs\\lib\\site-packages\\sklearn\\ensemble\\_forest.py\u001b[0m in \u001b[0;36m_generate_sample_indices\u001b[1;34m(random_state, n_samples, n_samples_bootstrap)\u001b[0m\n\u001b[0;32m    120\u001b[0m \u001b[1;33m\u001b[0m\u001b[0m\n\u001b[0;32m    121\u001b[0m     \u001b[0mrandom_instance\u001b[0m \u001b[1;33m=\u001b[0m \u001b[0mcheck_random_state\u001b[0m\u001b[1;33m(\u001b[0m\u001b[0mrandom_state\u001b[0m\u001b[1;33m)\u001b[0m\u001b[1;33m\u001b[0m\u001b[1;33m\u001b[0m\u001b[0m\n\u001b[1;32m--> 122\u001b[1;33m     \u001b[0msample_indices\u001b[0m \u001b[1;33m=\u001b[0m \u001b[0mrandom_instance\u001b[0m\u001b[1;33m.\u001b[0m\u001b[0mrandint\u001b[0m\u001b[1;33m(\u001b[0m\u001b[1;36m0\u001b[0m\u001b[1;33m,\u001b[0m \u001b[0mn_samples\u001b[0m\u001b[1;33m,\u001b[0m \u001b[0mn_samples_bootstrap\u001b[0m\u001b[1;33m)\u001b[0m\u001b[1;33m\u001b[0m\u001b[1;33m\u001b[0m\u001b[0m\n\u001b[0m\u001b[0;32m    123\u001b[0m \u001b[1;33m\u001b[0m\u001b[0m\n\u001b[0;32m    124\u001b[0m     \u001b[1;32mreturn\u001b[0m \u001b[0msample_indices\u001b[0m\u001b[1;33m\u001b[0m\u001b[1;33m\u001b[0m\u001b[0m\n",
      "\u001b[1;31mKeyboardInterrupt\u001b[0m: "
     ]
    }
   ],
   "source": [
    "x_new = XX[1000:1020]\n",
    "lst_1 = list(range(1,20))\n",
    "lst_3 = list(range(50,200))\n",
    "\n",
    "#k = []\n",
    "for i in lst_3:\n",
    " for j in lst_1:\n",
    "  model=RandomForestClassifier(max_depth = 9, min_samples_leaf = 2, min_samples_split = 2, n_estimators= 90)\n",
    "  model.fit(X,Y)\n",
    "  res = model.predict(x_new)\n",
    "  print(f'n_estimators:{i} глубина: {j} предсказание: {res}')\n",
    "#  k.append(res)"
   ]
  },
  {
   "cell_type": "code",
   "execution_count": null,
   "id": "4adf92af",
   "metadata": {},
   "outputs": [],
   "source": []
  },
  {
   "cell_type": "code",
   "execution_count": null,
   "id": "2fc65524",
   "metadata": {},
   "outputs": [],
   "source": []
  },
  {
   "cell_type": "code",
   "execution_count": 32,
   "id": "60cd3dae",
   "metadata": {
    "collapsed": true
   },
   "outputs": [
    {
     "name": "stderr",
     "output_type": "stream",
     "text": [
      "D:\\Programs\\lib\\site-packages\\xgboost\\sklearn.py:1224: UserWarning: The use of label encoder in XGBClassifier is deprecated and will be removed in a future release. To remove this warning, do the following: 1) Pass option use_label_encoder=False when constructing XGBClassifier object; and 2) Encode your labels (y) as integers starting with 0, i.e. 0, 1, 2, ..., [num_class - 1].\n",
      "  warnings.warn(label_encoder_deprecation_msg, UserWarning)\n",
      "D:\\Programs\\lib\\site-packages\\xgboost\\sklearn.py:1224: UserWarning: The use of label encoder in XGBClassifier is deprecated and will be removed in a future release. To remove this warning, do the following: 1) Pass option use_label_encoder=False when constructing XGBClassifier object; and 2) Encode your labels (y) as integers starting with 0, i.e. 0, 1, 2, ..., [num_class - 1].\n",
      "  warnings.warn(label_encoder_deprecation_msg, UserWarning)\n",
      "D:\\Programs\\lib\\site-packages\\xgboost\\sklearn.py:1224: UserWarning: The use of label encoder in XGBClassifier is deprecated and will be removed in a future release. To remove this warning, do the following: 1) Pass option use_label_encoder=False when constructing XGBClassifier object; and 2) Encode your labels (y) as integers starting with 0, i.e. 0, 1, 2, ..., [num_class - 1].\n",
      "  warnings.warn(label_encoder_deprecation_msg, UserWarning)\n",
      "D:\\Programs\\lib\\site-packages\\xgboost\\sklearn.py:1224: UserWarning: The use of label encoder in XGBClassifier is deprecated and will be removed in a future release. To remove this warning, do the following: 1) Pass option use_label_encoder=False when constructing XGBClassifier object; and 2) Encode your labels (y) as integers starting with 0, i.e. 0, 1, 2, ..., [num_class - 1].\n",
      "  warnings.warn(label_encoder_deprecation_msg, UserWarning)\n"
     ]
    },
    {
     "ename": "KeyboardInterrupt",
     "evalue": "",
     "output_type": "error",
     "traceback": [
      "\u001b[1;31m---------------------------------------------------------------------------\u001b[0m",
      "\u001b[1;31mKeyboardInterrupt\u001b[0m                         Traceback (most recent call last)",
      "\u001b[1;32mC:\\Users\\D9F8~1\\AppData\\Local\\Temp/ipykernel_10300/3403117368.py\u001b[0m in \u001b[0;36m<module>\u001b[1;34m\u001b[0m\n\u001b[0;32m      5\u001b[0m \u001b[0mresults\u001b[0m\u001b[1;33m=\u001b[0m\u001b[0mcross_val_score\u001b[0m\u001b[1;33m(\u001b[0m\u001b[0mmodel\u001b[0m\u001b[1;33m,\u001b[0m \u001b[0mX\u001b[0m\u001b[1;33m,\u001b[0m \u001b[0mY\u001b[0m\u001b[1;33m,\u001b[0m \u001b[0mcv\u001b[0m\u001b[1;33m=\u001b[0m\u001b[0mkfold\u001b[0m\u001b[1;33m)\u001b[0m\u001b[1;33m\u001b[0m\u001b[1;33m\u001b[0m\u001b[0m\n\u001b[0;32m      6\u001b[0m \u001b[1;33m\u001b[0m\u001b[0m\n\u001b[1;32m----> 7\u001b[1;33m \u001b[0mmodel\u001b[0m\u001b[1;33m.\u001b[0m\u001b[0mfit\u001b[0m\u001b[1;33m(\u001b[0m\u001b[0mX\u001b[0m\u001b[1;33m,\u001b[0m\u001b[0mY\u001b[0m\u001b[1;33m)\u001b[0m\u001b[1;33m\u001b[0m\u001b[1;33m\u001b[0m\u001b[0m\n\u001b[0m\u001b[0;32m      8\u001b[0m \u001b[1;33m\u001b[0m\u001b[0m\n\u001b[0;32m      9\u001b[0m \u001b[0mresults\u001b[0m\u001b[1;33m.\u001b[0m\u001b[0mmean\u001b[0m\u001b[1;33m(\u001b[0m\u001b[1;33m)\u001b[0m\u001b[1;33m,\u001b[0m\u001b[0mresults\u001b[0m\u001b[1;33m.\u001b[0m\u001b[0mstd\u001b[0m\u001b[1;33m(\u001b[0m\u001b[1;33m)\u001b[0m\u001b[1;33m\u001b[0m\u001b[1;33m\u001b[0m\u001b[0m\n",
      "\u001b[1;32mD:\\Programs\\lib\\site-packages\\xgboost\\core.py\u001b[0m in \u001b[0;36minner_f\u001b[1;34m(*args, **kwargs)\u001b[0m\n\u001b[0;32m    504\u001b[0m         \u001b[1;32mfor\u001b[0m \u001b[0mk\u001b[0m\u001b[1;33m,\u001b[0m \u001b[0marg\u001b[0m \u001b[1;32min\u001b[0m \u001b[0mzip\u001b[0m\u001b[1;33m(\u001b[0m\u001b[0msig\u001b[0m\u001b[1;33m.\u001b[0m\u001b[0mparameters\u001b[0m\u001b[1;33m,\u001b[0m \u001b[0margs\u001b[0m\u001b[1;33m)\u001b[0m\u001b[1;33m:\u001b[0m\u001b[1;33m\u001b[0m\u001b[1;33m\u001b[0m\u001b[0m\n\u001b[0;32m    505\u001b[0m             \u001b[0mkwargs\u001b[0m\u001b[1;33m[\u001b[0m\u001b[0mk\u001b[0m\u001b[1;33m]\u001b[0m \u001b[1;33m=\u001b[0m \u001b[0marg\u001b[0m\u001b[1;33m\u001b[0m\u001b[1;33m\u001b[0m\u001b[0m\n\u001b[1;32m--> 506\u001b[1;33m         \u001b[1;32mreturn\u001b[0m \u001b[0mf\u001b[0m\u001b[1;33m(\u001b[0m\u001b[1;33m**\u001b[0m\u001b[0mkwargs\u001b[0m\u001b[1;33m)\u001b[0m\u001b[1;33m\u001b[0m\u001b[1;33m\u001b[0m\u001b[0m\n\u001b[0m\u001b[0;32m    507\u001b[0m \u001b[1;33m\u001b[0m\u001b[0m\n\u001b[0;32m    508\u001b[0m     \u001b[1;32mreturn\u001b[0m \u001b[0minner_f\u001b[0m\u001b[1;33m\u001b[0m\u001b[1;33m\u001b[0m\u001b[0m\n",
      "\u001b[1;32mD:\\Programs\\lib\\site-packages\\xgboost\\sklearn.py\u001b[0m in \u001b[0;36mfit\u001b[1;34m(self, X, y, sample_weight, base_margin, eval_set, eval_metric, early_stopping_rounds, verbose, xgb_model, sample_weight_eval_set, base_margin_eval_set, feature_weights, callbacks)\u001b[0m\n\u001b[0;32m   1248\u001b[0m         )\n\u001b[0;32m   1249\u001b[0m \u001b[1;33m\u001b[0m\u001b[0m\n\u001b[1;32m-> 1250\u001b[1;33m         self._Booster = train(\n\u001b[0m\u001b[0;32m   1251\u001b[0m             \u001b[0mparams\u001b[0m\u001b[1;33m,\u001b[0m\u001b[1;33m\u001b[0m\u001b[1;33m\u001b[0m\u001b[0m\n\u001b[0;32m   1252\u001b[0m             \u001b[0mtrain_dmatrix\u001b[0m\u001b[1;33m,\u001b[0m\u001b[1;33m\u001b[0m\u001b[1;33m\u001b[0m\u001b[0m\n",
      "\u001b[1;32mD:\\Programs\\lib\\site-packages\\xgboost\\training.py\u001b[0m in \u001b[0;36mtrain\u001b[1;34m(params, dtrain, num_boost_round, evals, obj, feval, maximize, early_stopping_rounds, evals_result, verbose_eval, xgb_model, callbacks)\u001b[0m\n\u001b[0;32m    186\u001b[0m     \u001b[0mBooster\u001b[0m \u001b[1;33m:\u001b[0m \u001b[0ma\u001b[0m \u001b[0mtrained\u001b[0m \u001b[0mbooster\u001b[0m \u001b[0mmodel\u001b[0m\u001b[1;33m\u001b[0m\u001b[1;33m\u001b[0m\u001b[0m\n\u001b[0;32m    187\u001b[0m     \"\"\"\n\u001b[1;32m--> 188\u001b[1;33m     bst = _train_internal(params, dtrain,\n\u001b[0m\u001b[0;32m    189\u001b[0m                           \u001b[0mnum_boost_round\u001b[0m\u001b[1;33m=\u001b[0m\u001b[0mnum_boost_round\u001b[0m\u001b[1;33m,\u001b[0m\u001b[1;33m\u001b[0m\u001b[1;33m\u001b[0m\u001b[0m\n\u001b[0;32m    190\u001b[0m                           \u001b[0mevals\u001b[0m\u001b[1;33m=\u001b[0m\u001b[0mevals\u001b[0m\u001b[1;33m,\u001b[0m\u001b[1;33m\u001b[0m\u001b[1;33m\u001b[0m\u001b[0m\n",
      "\u001b[1;32mD:\\Programs\\lib\\site-packages\\xgboost\\training.py\u001b[0m in \u001b[0;36m_train_internal\u001b[1;34m(params, dtrain, num_boost_round, evals, obj, feval, xgb_model, callbacks, evals_result, maximize, verbose_eval, early_stopping_rounds)\u001b[0m\n\u001b[0;32m     79\u001b[0m         \u001b[1;32mif\u001b[0m \u001b[0mcallbacks\u001b[0m\u001b[1;33m.\u001b[0m\u001b[0mbefore_iteration\u001b[0m\u001b[1;33m(\u001b[0m\u001b[0mbst\u001b[0m\u001b[1;33m,\u001b[0m \u001b[0mi\u001b[0m\u001b[1;33m,\u001b[0m \u001b[0mdtrain\u001b[0m\u001b[1;33m,\u001b[0m \u001b[0mevals\u001b[0m\u001b[1;33m)\u001b[0m\u001b[1;33m:\u001b[0m\u001b[1;33m\u001b[0m\u001b[1;33m\u001b[0m\u001b[0m\n\u001b[0;32m     80\u001b[0m             \u001b[1;32mbreak\u001b[0m\u001b[1;33m\u001b[0m\u001b[1;33m\u001b[0m\u001b[0m\n\u001b[1;32m---> 81\u001b[1;33m         \u001b[0mbst\u001b[0m\u001b[1;33m.\u001b[0m\u001b[0mupdate\u001b[0m\u001b[1;33m(\u001b[0m\u001b[0mdtrain\u001b[0m\u001b[1;33m,\u001b[0m \u001b[0mi\u001b[0m\u001b[1;33m,\u001b[0m \u001b[0mobj\u001b[0m\u001b[1;33m)\u001b[0m\u001b[1;33m\u001b[0m\u001b[1;33m\u001b[0m\u001b[0m\n\u001b[0m\u001b[0;32m     82\u001b[0m         \u001b[1;32mif\u001b[0m \u001b[0mcallbacks\u001b[0m\u001b[1;33m.\u001b[0m\u001b[0mafter_iteration\u001b[0m\u001b[1;33m(\u001b[0m\u001b[0mbst\u001b[0m\u001b[1;33m,\u001b[0m \u001b[0mi\u001b[0m\u001b[1;33m,\u001b[0m \u001b[0mdtrain\u001b[0m\u001b[1;33m,\u001b[0m \u001b[0mevals\u001b[0m\u001b[1;33m)\u001b[0m\u001b[1;33m:\u001b[0m\u001b[1;33m\u001b[0m\u001b[1;33m\u001b[0m\u001b[0m\n\u001b[0;32m     83\u001b[0m             \u001b[1;32mbreak\u001b[0m\u001b[1;33m\u001b[0m\u001b[1;33m\u001b[0m\u001b[0m\n",
      "\u001b[1;32mD:\\Programs\\lib\\site-packages\\xgboost\\core.py\u001b[0m in \u001b[0;36mupdate\u001b[1;34m(self, dtrain, iteration, fobj)\u001b[0m\n\u001b[0;32m   1678\u001b[0m \u001b[1;33m\u001b[0m\u001b[0m\n\u001b[0;32m   1679\u001b[0m         \u001b[1;32mif\u001b[0m \u001b[0mfobj\u001b[0m \u001b[1;32mis\u001b[0m \u001b[1;32mNone\u001b[0m\u001b[1;33m:\u001b[0m\u001b[1;33m\u001b[0m\u001b[1;33m\u001b[0m\u001b[0m\n\u001b[1;32m-> 1680\u001b[1;33m             _check_call(_LIB.XGBoosterUpdateOneIter(self.handle,\n\u001b[0m\u001b[0;32m   1681\u001b[0m                                                     \u001b[0mctypes\u001b[0m\u001b[1;33m.\u001b[0m\u001b[0mc_int\u001b[0m\u001b[1;33m(\u001b[0m\u001b[0miteration\u001b[0m\u001b[1;33m)\u001b[0m\u001b[1;33m,\u001b[0m\u001b[1;33m\u001b[0m\u001b[1;33m\u001b[0m\u001b[0m\n\u001b[0;32m   1682\u001b[0m                                                     dtrain.handle))\n",
      "\u001b[1;31mKeyboardInterrupt\u001b[0m: "
     ]
    }
   ],
   "source": [
    "kfold=KFold(n_splits=3,random_state=7,shuffle=True)\n",
    "\n",
    "model=XGBClassifier(seed = 7, n_estimators = 50, max_depth = 12, learning_rate = 0.3,eval_metric='mlogloss')\n",
    "\n",
    "results=cross_val_score(model, X, Y, cv=kfold)\n",
    "\n",
    "model.fit(X,Y)\n",
    "\n",
    "results.mean(),results.std()"
   ]
  },
  {
   "cell_type": "code",
   "execution_count": null,
   "id": "712325f1",
   "metadata": {},
   "outputs": [],
   "source": []
  },
  {
   "cell_type": "code",
   "execution_count": null,
   "id": "f39c65ae",
   "metadata": {},
   "outputs": [],
   "source": [
    "============================================================================================================="
   ]
  },
  {
   "cell_type": "code",
   "execution_count": 1,
   "id": "cc76e7f4",
   "metadata": {},
   "outputs": [],
   "source": [
    "import pandas as pd\n",
    "import numpy as np\n",
    "from pandas import read_csv"
   ]
  },
  {
   "cell_type": "code",
   "execution_count": 2,
   "id": "087dd9aa",
   "metadata": {
    "scrolled": true
   },
   "outputs": [],
   "source": [
    "df=read_csv('D:\\Политех\\Класиффикация\\Сегментация_клиентов\\Train_cleared_!!!!!!!!.csv')"
   ]
  },
  {
   "cell_type": "code",
   "execution_count": 3,
   "id": "dc9a454a",
   "metadata": {},
   "outputs": [],
   "source": [
    "df=df.filter(regex='^(?!.*Unnamed).*$')"
   ]
  },
  {
   "cell_type": "code",
   "execution_count": 4,
   "id": "1b91896f",
   "metadata": {},
   "outputs": [],
   "source": [
    "df_T=read_csv('D:\\Политех\\Класиффикация\\Сегментация_клиентов\\Test_cleared_!!!!!!!!.csv')"
   ]
  },
  {
   "cell_type": "code",
   "execution_count": 5,
   "id": "9735e536",
   "metadata": {},
   "outputs": [],
   "source": [
    "df_T=df_T.filter(regex='^(?!.*Unnamed).*$')"
   ]
  },
  {
   "cell_type": "markdown",
   "id": "375b0add",
   "metadata": {},
   "source": [
    "**Обучающий_набор**"
   ]
  },
  {
   "cell_type": "code",
   "execution_count": 6,
   "id": "8c1cf487",
   "metadata": {},
   "outputs": [],
   "source": [
    "array = df.values\n",
    "array\n",
    "X = array[:,0:9]\n",
    "Y = array[:,9]"
   ]
  },
  {
   "cell_type": "markdown",
   "id": "d04b2067",
   "metadata": {},
   "source": [
    "**Тестовый_набор**"
   ]
  },
  {
   "cell_type": "code",
   "execution_count": 7,
   "id": "132abcb0",
   "metadata": {},
   "outputs": [],
   "source": [
    "array_T = df_T.values\n",
    "array_T\n",
    "XX = array_T[:,0:9]\n",
    "YY = array_T[:,9]"
   ]
  },
  {
   "cell_type": "code",
   "execution_count": 8,
   "id": "34be40c2",
   "metadata": {},
   "outputs": [],
   "source": [
    "from sklearn.model_selection import KFold\n",
    "from sklearn.model_selection import cross_val_score\n",
    "# отбор признаков:\n",
    "from sklearn.feature_selection import SelectKBest\n",
    "from sklearn.feature_selection import f_classif\n",
    "# ансамблевые функции:\n",
    "from sklearn.ensemble import BaggingClassifier\n",
    "from sklearn.tree import DecisionTreeClassifier\n",
    "from sklearn.ensemble import RandomForestClassifier\n",
    "from sklearn.ensemble import ExtraTreesClassifier\n",
    "from sklearn.ensemble import AdaBoostClassifier\n",
    "from sklearn.ensemble import GradientBoostingClassifier\n",
    "from xgboost import XGBClassifier\n",
    "from sklearn.linear_model import LogisticRegression\n",
    "from sklearn.svm import SVC\n",
    "from sklearn.ensemble import VotingClassifier\n",
    "import numpy as np\n",
    "from sklearn.linear_model import RidgeClassifier\n",
    "from sklearn.model_selection import GridSearchCV\n",
    "from scipy.stats import uniform\n",
    "from sklearn.model_selection import RandomizedSearchCV\n",
    "from sklearn.model_selection import train_test_split\n",
    "# сохраняет параметры после перезагрузки:\n",
    "import pickle\n",
    "import joblib"
   ]
  },
  {
   "cell_type": "code",
   "execution_count": null,
   "id": "61a5f110",
   "metadata": {},
   "outputs": [],
   "source": [
    "========================================================================================================================"
   ]
  },
  {
   "cell_type": "markdown",
   "id": "792c29cd",
   "metadata": {},
   "source": [
    "# **GrideSearchCV**"
   ]
  },
  {
   "cell_type": "code",
   "execution_count": 10,
   "id": "dd8e968c",
   "metadata": {},
   "outputs": [],
   "source": [
    "from sklearn.model_selection import GridSearchCV\n",
    "from sklearn import linear_model\n",
    "from sklearn.linear_model import LinearRegression\n",
    "from sklearn.neighbors import KNeighborsRegressor"
   ]
  },
  {
   "cell_type": "code",
   "execution_count": 11,
   "id": "2ec35d69",
   "metadata": {},
   "outputs": [],
   "source": [
    "X_train, X_test, Y_train, Y_test = train_test_split(X, Y, test_size=0.25, shuffle=True, random_state=7) "
   ]
  },
  {
   "cell_type": "code",
   "execution_count": 12,
   "id": "fa700e64",
   "metadata": {},
   "outputs": [],
   "source": [
    "clf = RandomForestClassifier()"
   ]
  },
  {
   "cell_type": "code",
   "execution_count": 13,
   "id": "f0617c81",
   "metadata": {},
   "outputs": [],
   "source": [
    "params = {'n_estimators': range (10, 250, 10),\n",
    "          'max_depth': range (1,13, 2),\n",
    "          'min_samples_leaf': range (1,8),\n",
    "          'min_samples_split': range (2,10,2) }"
   ]
  },
  {
   "cell_type": "code",
   "execution_count": 14,
   "id": "a38a4dab",
   "metadata": {},
   "outputs": [],
   "source": [
    "grid = GridSearchCV(clf, param_grid = params, cv=3,verbose=1,n_jobs=-1)"
   ]
  },
  {
   "cell_type": "code",
   "execution_count": 15,
   "id": "5ca47e0d",
   "metadata": {},
   "outputs": [
    {
     "name": "stdout",
     "output_type": "stream",
     "text": [
      "Fitting 3 folds for each of 4032 candidates, totalling 12096 fits\n"
     ]
    },
    {
     "data": {
      "text/plain": [
       "GridSearchCV(cv=3, estimator=RandomForestClassifier(), n_jobs=-1,\n",
       "             param_grid={'max_depth': range(1, 13, 2),\n",
       "                         'min_samples_leaf': range(1, 8),\n",
       "                         'min_samples_split': range(2, 10, 2),\n",
       "                         'n_estimators': range(10, 250, 10)},\n",
       "             verbose=1)"
      ]
     },
     "execution_count": 15,
     "metadata": {},
     "output_type": "execute_result"
    }
   ],
   "source": [
    "grid.fit(X_train,Y_train)"
   ]
  },
  {
   "cell_type": "code",
   "execution_count": 16,
   "id": "8f66e506",
   "metadata": {},
   "outputs": [
    {
     "name": "stdout",
     "output_type": "stream",
     "text": [
      "{'max_depth': 7, 'min_samples_leaf': 3, 'min_samples_split': 2, 'n_estimators': 60}\n",
      "RandomForestClassifier(max_depth=7, min_samples_leaf=3, n_estimators=60)\n"
     ]
    }
   ],
   "source": [
    "print(grid.best_params_)\n",
    "print(grid.best_estimator_)"
   ]
  },
  {
   "cell_type": "code",
   "execution_count": 17,
   "id": "f1888e46",
   "metadata": {},
   "outputs": [],
   "source": [
    "from sklearn.metrics import classification_report, confusion_matrix"
   ]
  },
  {
   "cell_type": "code",
   "execution_count": 18,
   "id": "452e1d46",
   "metadata": {},
   "outputs": [
    {
     "name": "stdout",
     "output_type": "stream",
     "text": [
      "              precision    recall  f1-score   support\n",
      "\n",
      "         1.0       0.46      0.48      0.47       351\n",
      "         2.0       0.40      0.34      0.37       347\n",
      "         3.0       0.56      0.53      0.55       361\n",
      "         4.0       0.59      0.68      0.63       373\n",
      "\n",
      "    accuracy                           0.51      1432\n",
      "   macro avg       0.50      0.51      0.50      1432\n",
      "weighted avg       0.51      0.51      0.51      1432\n",
      "\n"
     ]
    }
   ],
   "source": [
    "grid_predictions = grid.predict(X_test)\n",
    "print(classification_report(Y_test, grid_predictions))"
   ]
  },
  {
   "cell_type": "code",
   "execution_count": 19,
   "id": "dc608d2b",
   "metadata": {},
   "outputs": [
    {
     "name": "stdout",
     "output_type": "stream",
     "text": [
      "[[169  73  39  70]\n",
      " [ 78 119 103  47]\n",
      " [ 32  78 192  59]\n",
      " [ 85  29   7 252]]\n"
     ]
    }
   ],
   "source": [
    "print(confusion_matrix(Y_test, grid_predictions))"
   ]
  },
  {
   "cell_type": "code",
   "execution_count": null,
   "id": "67a47e3c",
   "metadata": {},
   "outputs": [],
   "source": [
    "================================================================================================================"
   ]
  },
  {
   "cell_type": "code",
   "execution_count": 20,
   "id": "f9ab744b",
   "metadata": {},
   "outputs": [],
   "source": [
    "model = RandomForestClassifier(max_depth=7, min_samples_leaf=3, n_estimators=60)"
   ]
  },
  {
   "cell_type": "code",
   "execution_count": 21,
   "id": "651f6f90",
   "metadata": {},
   "outputs": [
    {
     "data": {
      "text/plain": [
       "RandomForestClassifier(max_depth=7, min_samples_leaf=3, n_estimators=60)"
      ]
     },
     "execution_count": 21,
     "metadata": {},
     "output_type": "execute_result"
    }
   ],
   "source": [
    "model.fit(X_train,Y_train)"
   ]
  },
  {
   "cell_type": "code",
   "execution_count": 22,
   "id": "8bc76cdc",
   "metadata": {},
   "outputs": [],
   "source": [
    "new_predictions = model.predict(X_test)"
   ]
  },
  {
   "cell_type": "code",
   "execution_count": 23,
   "id": "a9d6f551",
   "metadata": {},
   "outputs": [
    {
     "name": "stdout",
     "output_type": "stream",
     "text": [
      "              precision    recall  f1-score   support\n",
      "\n",
      "         1.0       0.48      0.46      0.47       351\n",
      "         2.0       0.41      0.37      0.39       347\n",
      "         3.0       0.58      0.53      0.56       361\n",
      "         4.0       0.58      0.69      0.63       373\n",
      "\n",
      "    accuracy                           0.52      1432\n",
      "   macro avg       0.51      0.52      0.51      1432\n",
      "weighted avg       0.52      0.52      0.52      1432\n",
      "\n",
      "[[163  72  39  77]\n",
      " [ 75 130  93  49]\n",
      " [ 27  83 193  58]\n",
      " [ 77  31   7 258]]\n"
     ]
    }
   ],
   "source": [
    "print(classification_report(Y_test, new_predictions))\n",
    "print(confusion_matrix(Y_test, new_predictions))"
   ]
  },
  {
   "cell_type": "code",
   "execution_count": null,
   "id": "162a842c",
   "metadata": {},
   "outputs": [],
   "source": [
    "================================================================================================================"
   ]
  },
  {
   "cell_type": "code",
   "execution_count": 24,
   "id": "957714f8",
   "metadata": {},
   "outputs": [
    {
     "data": {
      "text/plain": [
       "0.5112624410686224"
      ]
     },
     "execution_count": 24,
     "metadata": {},
     "output_type": "execute_result"
    }
   ],
   "source": [
    "kfold=KFold(n_splits=3,random_state=7,shuffle=True)\n",
    "results=cross_val_score(model, X, Y, cv=3)\n",
    "results.mean()"
   ]
  },
  {
   "cell_type": "code",
   "execution_count": null,
   "id": "1cd52abb",
   "metadata": {},
   "outputs": [],
   "source": []
  },
  {
   "cell_type": "markdown",
   "id": "aee403f8",
   "metadata": {},
   "source": [
    "# **Extra Trees**"
   ]
  },
  {
   "cell_type": "code",
   "execution_count": 22,
   "id": "54d46135",
   "metadata": {},
   "outputs": [],
   "source": [
    "lst_1 = list(range(6,10))\n",
    "lst_2 = list(range(3,4))\n",
    "lst_3 = list(range(100,200))\n",
    "k = []"
   ]
  },
  {
   "cell_type": "code",
   "execution_count": 29,
   "id": "af270af5",
   "metadata": {
    "collapsed": true
   },
   "outputs": [
    {
     "name": "stdout",
     "output_type": "stream",
     "text": [
      "n_splits: 3 KBest: 6 0.5344321239868246\n",
      "n_splits: 3 KBest: 7 0.5353330245226233\n"
     ]
    },
    {
     "ename": "KeyboardInterrupt",
     "evalue": "",
     "output_type": "error",
     "traceback": [
      "\u001b[1;31m---------------------------------------------------------------------------\u001b[0m",
      "\u001b[1;31mKeyboardInterrupt\u001b[0m                         Traceback (most recent call last)",
      "\u001b[1;32mC:\\Users\\D9F8~1\\AppData\\Local\\Temp/ipykernel_17880/3359340500.py\u001b[0m in \u001b[0;36m<module>\u001b[1;34m\u001b[0m\n\u001b[0;32m      7\u001b[0m       \u001b[0mfit\u001b[0m\u001b[1;33m=\u001b[0m\u001b[0mtest\u001b[0m\u001b[1;33m.\u001b[0m\u001b[0mfit\u001b[0m\u001b[1;33m(\u001b[0m\u001b[0mX\u001b[0m\u001b[1;33m,\u001b[0m\u001b[0mY\u001b[0m\u001b[1;33m)\u001b[0m\u001b[1;33m\u001b[0m\u001b[1;33m\u001b[0m\u001b[0m\n\u001b[0;32m      8\u001b[0m       \u001b[0mfeatures\u001b[0m\u001b[1;33m=\u001b[0m\u001b[0mfit\u001b[0m\u001b[1;33m.\u001b[0m\u001b[0mtransform\u001b[0m\u001b[1;33m(\u001b[0m\u001b[0mX\u001b[0m\u001b[1;33m)\u001b[0m\u001b[1;33m\u001b[0m\u001b[1;33m\u001b[0m\u001b[0m\n\u001b[1;32m----> 9\u001b[1;33m       \u001b[0mresults\u001b[0m\u001b[1;33m=\u001b[0m\u001b[0mcross_val_score\u001b[0m\u001b[1;33m(\u001b[0m\u001b[0mmodel\u001b[0m\u001b[1;33m,\u001b[0m \u001b[0mfeatures\u001b[0m\u001b[1;33m,\u001b[0m \u001b[0mY\u001b[0m\u001b[1;33m,\u001b[0m \u001b[0mcv\u001b[0m\u001b[1;33m=\u001b[0m\u001b[0mkfold\u001b[0m\u001b[1;33m)\u001b[0m\u001b[1;33m\u001b[0m\u001b[1;33m\u001b[0m\u001b[0m\n\u001b[0m\u001b[0;32m     10\u001b[0m       \u001b[0mres\u001b[0m \u001b[1;33m=\u001b[0m \u001b[0mresults\u001b[0m\u001b[1;33m.\u001b[0m\u001b[0mmean\u001b[0m\u001b[1;33m(\u001b[0m\u001b[1;33m)\u001b[0m\u001b[1;33m\u001b[0m\u001b[1;33m\u001b[0m\u001b[0m\n\u001b[0;32m     11\u001b[0m       \u001b[0mk\u001b[0m\u001b[1;33m.\u001b[0m\u001b[0mappend\u001b[0m\u001b[1;33m(\u001b[0m\u001b[0mres\u001b[0m\u001b[1;33m)\u001b[0m\u001b[1;33m\u001b[0m\u001b[1;33m\u001b[0m\u001b[0m\n",
      "\u001b[1;32mD:\\Programs\\lib\\site-packages\\sklearn\\utils\\validation.py\u001b[0m in \u001b[0;36minner_f\u001b[1;34m(*args, **kwargs)\u001b[0m\n\u001b[0;32m     61\u001b[0m             \u001b[0mextra_args\u001b[0m \u001b[1;33m=\u001b[0m \u001b[0mlen\u001b[0m\u001b[1;33m(\u001b[0m\u001b[0margs\u001b[0m\u001b[1;33m)\u001b[0m \u001b[1;33m-\u001b[0m \u001b[0mlen\u001b[0m\u001b[1;33m(\u001b[0m\u001b[0mall_args\u001b[0m\u001b[1;33m)\u001b[0m\u001b[1;33m\u001b[0m\u001b[1;33m\u001b[0m\u001b[0m\n\u001b[0;32m     62\u001b[0m             \u001b[1;32mif\u001b[0m \u001b[0mextra_args\u001b[0m \u001b[1;33m<=\u001b[0m \u001b[1;36m0\u001b[0m\u001b[1;33m:\u001b[0m\u001b[1;33m\u001b[0m\u001b[1;33m\u001b[0m\u001b[0m\n\u001b[1;32m---> 63\u001b[1;33m                 \u001b[1;32mreturn\u001b[0m \u001b[0mf\u001b[0m\u001b[1;33m(\u001b[0m\u001b[1;33m*\u001b[0m\u001b[0margs\u001b[0m\u001b[1;33m,\u001b[0m \u001b[1;33m**\u001b[0m\u001b[0mkwargs\u001b[0m\u001b[1;33m)\u001b[0m\u001b[1;33m\u001b[0m\u001b[1;33m\u001b[0m\u001b[0m\n\u001b[0m\u001b[0;32m     64\u001b[0m \u001b[1;33m\u001b[0m\u001b[0m\n\u001b[0;32m     65\u001b[0m             \u001b[1;31m# extra_args > 0\u001b[0m\u001b[1;33m\u001b[0m\u001b[1;33m\u001b[0m\u001b[0m\n",
      "\u001b[1;32mD:\\Programs\\lib\\site-packages\\sklearn\\model_selection\\_validation.py\u001b[0m in \u001b[0;36mcross_val_score\u001b[1;34m(estimator, X, y, groups, scoring, cv, n_jobs, verbose, fit_params, pre_dispatch, error_score)\u001b[0m\n\u001b[0;32m    443\u001b[0m     \u001b[0mscorer\u001b[0m \u001b[1;33m=\u001b[0m \u001b[0mcheck_scoring\u001b[0m\u001b[1;33m(\u001b[0m\u001b[0mestimator\u001b[0m\u001b[1;33m,\u001b[0m \u001b[0mscoring\u001b[0m\u001b[1;33m=\u001b[0m\u001b[0mscoring\u001b[0m\u001b[1;33m)\u001b[0m\u001b[1;33m\u001b[0m\u001b[1;33m\u001b[0m\u001b[0m\n\u001b[0;32m    444\u001b[0m \u001b[1;33m\u001b[0m\u001b[0m\n\u001b[1;32m--> 445\u001b[1;33m     cv_results = cross_validate(estimator=estimator, X=X, y=y, groups=groups,\n\u001b[0m\u001b[0;32m    446\u001b[0m                                 \u001b[0mscoring\u001b[0m\u001b[1;33m=\u001b[0m\u001b[1;33m{\u001b[0m\u001b[1;34m'score'\u001b[0m\u001b[1;33m:\u001b[0m \u001b[0mscorer\u001b[0m\u001b[1;33m}\u001b[0m\u001b[1;33m,\u001b[0m \u001b[0mcv\u001b[0m\u001b[1;33m=\u001b[0m\u001b[0mcv\u001b[0m\u001b[1;33m,\u001b[0m\u001b[1;33m\u001b[0m\u001b[1;33m\u001b[0m\u001b[0m\n\u001b[0;32m    447\u001b[0m                                 \u001b[0mn_jobs\u001b[0m\u001b[1;33m=\u001b[0m\u001b[0mn_jobs\u001b[0m\u001b[1;33m,\u001b[0m \u001b[0mverbose\u001b[0m\u001b[1;33m=\u001b[0m\u001b[0mverbose\u001b[0m\u001b[1;33m,\u001b[0m\u001b[1;33m\u001b[0m\u001b[1;33m\u001b[0m\u001b[0m\n",
      "\u001b[1;32mD:\\Programs\\lib\\site-packages\\sklearn\\utils\\validation.py\u001b[0m in \u001b[0;36minner_f\u001b[1;34m(*args, **kwargs)\u001b[0m\n\u001b[0;32m     61\u001b[0m             \u001b[0mextra_args\u001b[0m \u001b[1;33m=\u001b[0m \u001b[0mlen\u001b[0m\u001b[1;33m(\u001b[0m\u001b[0margs\u001b[0m\u001b[1;33m)\u001b[0m \u001b[1;33m-\u001b[0m \u001b[0mlen\u001b[0m\u001b[1;33m(\u001b[0m\u001b[0mall_args\u001b[0m\u001b[1;33m)\u001b[0m\u001b[1;33m\u001b[0m\u001b[1;33m\u001b[0m\u001b[0m\n\u001b[0;32m     62\u001b[0m             \u001b[1;32mif\u001b[0m \u001b[0mextra_args\u001b[0m \u001b[1;33m<=\u001b[0m \u001b[1;36m0\u001b[0m\u001b[1;33m:\u001b[0m\u001b[1;33m\u001b[0m\u001b[1;33m\u001b[0m\u001b[0m\n\u001b[1;32m---> 63\u001b[1;33m                 \u001b[1;32mreturn\u001b[0m \u001b[0mf\u001b[0m\u001b[1;33m(\u001b[0m\u001b[1;33m*\u001b[0m\u001b[0margs\u001b[0m\u001b[1;33m,\u001b[0m \u001b[1;33m**\u001b[0m\u001b[0mkwargs\u001b[0m\u001b[1;33m)\u001b[0m\u001b[1;33m\u001b[0m\u001b[1;33m\u001b[0m\u001b[0m\n\u001b[0m\u001b[0;32m     64\u001b[0m \u001b[1;33m\u001b[0m\u001b[0m\n\u001b[0;32m     65\u001b[0m             \u001b[1;31m# extra_args > 0\u001b[0m\u001b[1;33m\u001b[0m\u001b[1;33m\u001b[0m\u001b[0m\n",
      "\u001b[1;32mD:\\Programs\\lib\\site-packages\\sklearn\\model_selection\\_validation.py\u001b[0m in \u001b[0;36mcross_validate\u001b[1;34m(estimator, X, y, groups, scoring, cv, n_jobs, verbose, fit_params, pre_dispatch, return_train_score, return_estimator, error_score)\u001b[0m\n\u001b[0;32m    248\u001b[0m     parallel = Parallel(n_jobs=n_jobs, verbose=verbose,\n\u001b[0;32m    249\u001b[0m                         pre_dispatch=pre_dispatch)\n\u001b[1;32m--> 250\u001b[1;33m     results = parallel(\n\u001b[0m\u001b[0;32m    251\u001b[0m         delayed(_fit_and_score)(\n\u001b[0;32m    252\u001b[0m             \u001b[0mclone\u001b[0m\u001b[1;33m(\u001b[0m\u001b[0mestimator\u001b[0m\u001b[1;33m)\u001b[0m\u001b[1;33m,\u001b[0m \u001b[0mX\u001b[0m\u001b[1;33m,\u001b[0m \u001b[0my\u001b[0m\u001b[1;33m,\u001b[0m \u001b[0mscorers\u001b[0m\u001b[1;33m,\u001b[0m \u001b[0mtrain\u001b[0m\u001b[1;33m,\u001b[0m \u001b[0mtest\u001b[0m\u001b[1;33m,\u001b[0m \u001b[0mverbose\u001b[0m\u001b[1;33m,\u001b[0m \u001b[1;32mNone\u001b[0m\u001b[1;33m,\u001b[0m\u001b[1;33m\u001b[0m\u001b[1;33m\u001b[0m\u001b[0m\n",
      "\u001b[1;32mD:\\Programs\\lib\\site-packages\\joblib\\parallel.py\u001b[0m in \u001b[0;36m__call__\u001b[1;34m(self, iterable)\u001b[0m\n\u001b[0;32m   1041\u001b[0m             \u001b[1;31m# remaining jobs.\u001b[0m\u001b[1;33m\u001b[0m\u001b[1;33m\u001b[0m\u001b[0m\n\u001b[0;32m   1042\u001b[0m             \u001b[0mself\u001b[0m\u001b[1;33m.\u001b[0m\u001b[0m_iterating\u001b[0m \u001b[1;33m=\u001b[0m \u001b[1;32mFalse\u001b[0m\u001b[1;33m\u001b[0m\u001b[1;33m\u001b[0m\u001b[0m\n\u001b[1;32m-> 1043\u001b[1;33m             \u001b[1;32mif\u001b[0m \u001b[0mself\u001b[0m\u001b[1;33m.\u001b[0m\u001b[0mdispatch_one_batch\u001b[0m\u001b[1;33m(\u001b[0m\u001b[0miterator\u001b[0m\u001b[1;33m)\u001b[0m\u001b[1;33m:\u001b[0m\u001b[1;33m\u001b[0m\u001b[1;33m\u001b[0m\u001b[0m\n\u001b[0m\u001b[0;32m   1044\u001b[0m                 \u001b[0mself\u001b[0m\u001b[1;33m.\u001b[0m\u001b[0m_iterating\u001b[0m \u001b[1;33m=\u001b[0m \u001b[0mself\u001b[0m\u001b[1;33m.\u001b[0m\u001b[0m_original_iterator\u001b[0m \u001b[1;32mis\u001b[0m \u001b[1;32mnot\u001b[0m \u001b[1;32mNone\u001b[0m\u001b[1;33m\u001b[0m\u001b[1;33m\u001b[0m\u001b[0m\n\u001b[0;32m   1045\u001b[0m \u001b[1;33m\u001b[0m\u001b[0m\n",
      "\u001b[1;32mD:\\Programs\\lib\\site-packages\\joblib\\parallel.py\u001b[0m in \u001b[0;36mdispatch_one_batch\u001b[1;34m(self, iterator)\u001b[0m\n\u001b[0;32m    859\u001b[0m                 \u001b[1;32mreturn\u001b[0m \u001b[1;32mFalse\u001b[0m\u001b[1;33m\u001b[0m\u001b[1;33m\u001b[0m\u001b[0m\n\u001b[0;32m    860\u001b[0m             \u001b[1;32melse\u001b[0m\u001b[1;33m:\u001b[0m\u001b[1;33m\u001b[0m\u001b[1;33m\u001b[0m\u001b[0m\n\u001b[1;32m--> 861\u001b[1;33m                 \u001b[0mself\u001b[0m\u001b[1;33m.\u001b[0m\u001b[0m_dispatch\u001b[0m\u001b[1;33m(\u001b[0m\u001b[0mtasks\u001b[0m\u001b[1;33m)\u001b[0m\u001b[1;33m\u001b[0m\u001b[1;33m\u001b[0m\u001b[0m\n\u001b[0m\u001b[0;32m    862\u001b[0m                 \u001b[1;32mreturn\u001b[0m \u001b[1;32mTrue\u001b[0m\u001b[1;33m\u001b[0m\u001b[1;33m\u001b[0m\u001b[0m\n\u001b[0;32m    863\u001b[0m \u001b[1;33m\u001b[0m\u001b[0m\n",
      "\u001b[1;32mD:\\Programs\\lib\\site-packages\\joblib\\parallel.py\u001b[0m in \u001b[0;36m_dispatch\u001b[1;34m(self, batch)\u001b[0m\n\u001b[0;32m    777\u001b[0m         \u001b[1;32mwith\u001b[0m \u001b[0mself\u001b[0m\u001b[1;33m.\u001b[0m\u001b[0m_lock\u001b[0m\u001b[1;33m:\u001b[0m\u001b[1;33m\u001b[0m\u001b[1;33m\u001b[0m\u001b[0m\n\u001b[0;32m    778\u001b[0m             \u001b[0mjob_idx\u001b[0m \u001b[1;33m=\u001b[0m \u001b[0mlen\u001b[0m\u001b[1;33m(\u001b[0m\u001b[0mself\u001b[0m\u001b[1;33m.\u001b[0m\u001b[0m_jobs\u001b[0m\u001b[1;33m)\u001b[0m\u001b[1;33m\u001b[0m\u001b[1;33m\u001b[0m\u001b[0m\n\u001b[1;32m--> 779\u001b[1;33m             \u001b[0mjob\u001b[0m \u001b[1;33m=\u001b[0m \u001b[0mself\u001b[0m\u001b[1;33m.\u001b[0m\u001b[0m_backend\u001b[0m\u001b[1;33m.\u001b[0m\u001b[0mapply_async\u001b[0m\u001b[1;33m(\u001b[0m\u001b[0mbatch\u001b[0m\u001b[1;33m,\u001b[0m \u001b[0mcallback\u001b[0m\u001b[1;33m=\u001b[0m\u001b[0mcb\u001b[0m\u001b[1;33m)\u001b[0m\u001b[1;33m\u001b[0m\u001b[1;33m\u001b[0m\u001b[0m\n\u001b[0m\u001b[0;32m    780\u001b[0m             \u001b[1;31m# A job can complete so quickly than its callback is\u001b[0m\u001b[1;33m\u001b[0m\u001b[1;33m\u001b[0m\u001b[0m\n\u001b[0;32m    781\u001b[0m             \u001b[1;31m# called before we get here, causing self._jobs to\u001b[0m\u001b[1;33m\u001b[0m\u001b[1;33m\u001b[0m\u001b[0m\n",
      "\u001b[1;32mD:\\Programs\\lib\\site-packages\\joblib\\_parallel_backends.py\u001b[0m in \u001b[0;36mapply_async\u001b[1;34m(self, func, callback)\u001b[0m\n\u001b[0;32m    206\u001b[0m     \u001b[1;32mdef\u001b[0m \u001b[0mapply_async\u001b[0m\u001b[1;33m(\u001b[0m\u001b[0mself\u001b[0m\u001b[1;33m,\u001b[0m \u001b[0mfunc\u001b[0m\u001b[1;33m,\u001b[0m \u001b[0mcallback\u001b[0m\u001b[1;33m=\u001b[0m\u001b[1;32mNone\u001b[0m\u001b[1;33m)\u001b[0m\u001b[1;33m:\u001b[0m\u001b[1;33m\u001b[0m\u001b[1;33m\u001b[0m\u001b[0m\n\u001b[0;32m    207\u001b[0m         \u001b[1;34m\"\"\"Schedule a func to be run\"\"\"\u001b[0m\u001b[1;33m\u001b[0m\u001b[1;33m\u001b[0m\u001b[0m\n\u001b[1;32m--> 208\u001b[1;33m         \u001b[0mresult\u001b[0m \u001b[1;33m=\u001b[0m \u001b[0mImmediateResult\u001b[0m\u001b[1;33m(\u001b[0m\u001b[0mfunc\u001b[0m\u001b[1;33m)\u001b[0m\u001b[1;33m\u001b[0m\u001b[1;33m\u001b[0m\u001b[0m\n\u001b[0m\u001b[0;32m    209\u001b[0m         \u001b[1;32mif\u001b[0m \u001b[0mcallback\u001b[0m\u001b[1;33m:\u001b[0m\u001b[1;33m\u001b[0m\u001b[1;33m\u001b[0m\u001b[0m\n\u001b[0;32m    210\u001b[0m             \u001b[0mcallback\u001b[0m\u001b[1;33m(\u001b[0m\u001b[0mresult\u001b[0m\u001b[1;33m)\u001b[0m\u001b[1;33m\u001b[0m\u001b[1;33m\u001b[0m\u001b[0m\n",
      "\u001b[1;32mD:\\Programs\\lib\\site-packages\\joblib\\_parallel_backends.py\u001b[0m in \u001b[0;36m__init__\u001b[1;34m(self, batch)\u001b[0m\n\u001b[0;32m    570\u001b[0m         \u001b[1;31m# Don't delay the application, to avoid keeping the input\u001b[0m\u001b[1;33m\u001b[0m\u001b[1;33m\u001b[0m\u001b[0m\n\u001b[0;32m    571\u001b[0m         \u001b[1;31m# arguments in memory\u001b[0m\u001b[1;33m\u001b[0m\u001b[1;33m\u001b[0m\u001b[0m\n\u001b[1;32m--> 572\u001b[1;33m         \u001b[0mself\u001b[0m\u001b[1;33m.\u001b[0m\u001b[0mresults\u001b[0m \u001b[1;33m=\u001b[0m \u001b[0mbatch\u001b[0m\u001b[1;33m(\u001b[0m\u001b[1;33m)\u001b[0m\u001b[1;33m\u001b[0m\u001b[1;33m\u001b[0m\u001b[0m\n\u001b[0m\u001b[0;32m    573\u001b[0m \u001b[1;33m\u001b[0m\u001b[0m\n\u001b[0;32m    574\u001b[0m     \u001b[1;32mdef\u001b[0m \u001b[0mget\u001b[0m\u001b[1;33m(\u001b[0m\u001b[0mself\u001b[0m\u001b[1;33m)\u001b[0m\u001b[1;33m:\u001b[0m\u001b[1;33m\u001b[0m\u001b[1;33m\u001b[0m\u001b[0m\n",
      "\u001b[1;32mD:\\Programs\\lib\\site-packages\\joblib\\parallel.py\u001b[0m in \u001b[0;36m__call__\u001b[1;34m(self)\u001b[0m\n\u001b[0;32m    260\u001b[0m         \u001b[1;31m# change the default number of processes to -1\u001b[0m\u001b[1;33m\u001b[0m\u001b[1;33m\u001b[0m\u001b[0m\n\u001b[0;32m    261\u001b[0m         \u001b[1;32mwith\u001b[0m \u001b[0mparallel_backend\u001b[0m\u001b[1;33m(\u001b[0m\u001b[0mself\u001b[0m\u001b[1;33m.\u001b[0m\u001b[0m_backend\u001b[0m\u001b[1;33m,\u001b[0m \u001b[0mn_jobs\u001b[0m\u001b[1;33m=\u001b[0m\u001b[0mself\u001b[0m\u001b[1;33m.\u001b[0m\u001b[0m_n_jobs\u001b[0m\u001b[1;33m)\u001b[0m\u001b[1;33m:\u001b[0m\u001b[1;33m\u001b[0m\u001b[1;33m\u001b[0m\u001b[0m\n\u001b[1;32m--> 262\u001b[1;33m             return [func(*args, **kwargs)\n\u001b[0m\u001b[0;32m    263\u001b[0m                     for func, args, kwargs in self.items]\n\u001b[0;32m    264\u001b[0m \u001b[1;33m\u001b[0m\u001b[0m\n",
      "\u001b[1;32mD:\\Programs\\lib\\site-packages\\joblib\\parallel.py\u001b[0m in \u001b[0;36m<listcomp>\u001b[1;34m(.0)\u001b[0m\n\u001b[0;32m    260\u001b[0m         \u001b[1;31m# change the default number of processes to -1\u001b[0m\u001b[1;33m\u001b[0m\u001b[1;33m\u001b[0m\u001b[0m\n\u001b[0;32m    261\u001b[0m         \u001b[1;32mwith\u001b[0m \u001b[0mparallel_backend\u001b[0m\u001b[1;33m(\u001b[0m\u001b[0mself\u001b[0m\u001b[1;33m.\u001b[0m\u001b[0m_backend\u001b[0m\u001b[1;33m,\u001b[0m \u001b[0mn_jobs\u001b[0m\u001b[1;33m=\u001b[0m\u001b[0mself\u001b[0m\u001b[1;33m.\u001b[0m\u001b[0m_n_jobs\u001b[0m\u001b[1;33m)\u001b[0m\u001b[1;33m:\u001b[0m\u001b[1;33m\u001b[0m\u001b[1;33m\u001b[0m\u001b[0m\n\u001b[1;32m--> 262\u001b[1;33m             return [func(*args, **kwargs)\n\u001b[0m\u001b[0;32m    263\u001b[0m                     for func, args, kwargs in self.items]\n\u001b[0;32m    264\u001b[0m \u001b[1;33m\u001b[0m\u001b[0m\n",
      "\u001b[1;32mD:\\Programs\\lib\\site-packages\\sklearn\\utils\\fixes.py\u001b[0m in \u001b[0;36m__call__\u001b[1;34m(self, *args, **kwargs)\u001b[0m\n\u001b[0;32m    220\u001b[0m     \u001b[1;32mdef\u001b[0m \u001b[0m__call__\u001b[0m\u001b[1;33m(\u001b[0m\u001b[0mself\u001b[0m\u001b[1;33m,\u001b[0m \u001b[1;33m*\u001b[0m\u001b[0margs\u001b[0m\u001b[1;33m,\u001b[0m \u001b[1;33m**\u001b[0m\u001b[0mkwargs\u001b[0m\u001b[1;33m)\u001b[0m\u001b[1;33m:\u001b[0m\u001b[1;33m\u001b[0m\u001b[1;33m\u001b[0m\u001b[0m\n\u001b[0;32m    221\u001b[0m         \u001b[1;32mwith\u001b[0m \u001b[0mconfig_context\u001b[0m\u001b[1;33m(\u001b[0m\u001b[1;33m**\u001b[0m\u001b[0mself\u001b[0m\u001b[1;33m.\u001b[0m\u001b[0mconfig\u001b[0m\u001b[1;33m)\u001b[0m\u001b[1;33m:\u001b[0m\u001b[1;33m\u001b[0m\u001b[1;33m\u001b[0m\u001b[0m\n\u001b[1;32m--> 222\u001b[1;33m             \u001b[1;32mreturn\u001b[0m \u001b[0mself\u001b[0m\u001b[1;33m.\u001b[0m\u001b[0mfunction\u001b[0m\u001b[1;33m(\u001b[0m\u001b[1;33m*\u001b[0m\u001b[0margs\u001b[0m\u001b[1;33m,\u001b[0m \u001b[1;33m**\u001b[0m\u001b[0mkwargs\u001b[0m\u001b[1;33m)\u001b[0m\u001b[1;33m\u001b[0m\u001b[1;33m\u001b[0m\u001b[0m\n\u001b[0m",
      "\u001b[1;32mD:\\Programs\\lib\\site-packages\\sklearn\\model_selection\\_validation.py\u001b[0m in \u001b[0;36m_fit_and_score\u001b[1;34m(estimator, X, y, scorer, train, test, verbose, parameters, fit_params, return_train_score, return_parameters, return_n_test_samples, return_times, return_estimator, split_progress, candidate_progress, error_score)\u001b[0m\n\u001b[0;32m    596\u001b[0m             \u001b[0mestimator\u001b[0m\u001b[1;33m.\u001b[0m\u001b[0mfit\u001b[0m\u001b[1;33m(\u001b[0m\u001b[0mX_train\u001b[0m\u001b[1;33m,\u001b[0m \u001b[1;33m**\u001b[0m\u001b[0mfit_params\u001b[0m\u001b[1;33m)\u001b[0m\u001b[1;33m\u001b[0m\u001b[1;33m\u001b[0m\u001b[0m\n\u001b[0;32m    597\u001b[0m         \u001b[1;32melse\u001b[0m\u001b[1;33m:\u001b[0m\u001b[1;33m\u001b[0m\u001b[1;33m\u001b[0m\u001b[0m\n\u001b[1;32m--> 598\u001b[1;33m             \u001b[0mestimator\u001b[0m\u001b[1;33m.\u001b[0m\u001b[0mfit\u001b[0m\u001b[1;33m(\u001b[0m\u001b[0mX_train\u001b[0m\u001b[1;33m,\u001b[0m \u001b[0my_train\u001b[0m\u001b[1;33m,\u001b[0m \u001b[1;33m**\u001b[0m\u001b[0mfit_params\u001b[0m\u001b[1;33m)\u001b[0m\u001b[1;33m\u001b[0m\u001b[1;33m\u001b[0m\u001b[0m\n\u001b[0m\u001b[0;32m    599\u001b[0m \u001b[1;33m\u001b[0m\u001b[0m\n\u001b[0;32m    600\u001b[0m     \u001b[1;32mexcept\u001b[0m \u001b[0mException\u001b[0m \u001b[1;32mas\u001b[0m \u001b[0me\u001b[0m\u001b[1;33m:\u001b[0m\u001b[1;33m\u001b[0m\u001b[1;33m\u001b[0m\u001b[0m\n",
      "\u001b[1;32mD:\\Programs\\lib\\site-packages\\sklearn\\ensemble\\_gb.py\u001b[0m in \u001b[0;36mfit\u001b[1;34m(self, X, y, sample_weight, monitor)\u001b[0m\n\u001b[0;32m    502\u001b[0m \u001b[1;33m\u001b[0m\u001b[0m\n\u001b[0;32m    503\u001b[0m         \u001b[1;31m# fit the boosting stages\u001b[0m\u001b[1;33m\u001b[0m\u001b[1;33m\u001b[0m\u001b[0m\n\u001b[1;32m--> 504\u001b[1;33m         n_stages = self._fit_stages(\n\u001b[0m\u001b[0;32m    505\u001b[0m             \u001b[0mX\u001b[0m\u001b[1;33m,\u001b[0m \u001b[0my\u001b[0m\u001b[1;33m,\u001b[0m \u001b[0mraw_predictions\u001b[0m\u001b[1;33m,\u001b[0m \u001b[0msample_weight\u001b[0m\u001b[1;33m,\u001b[0m \u001b[0mself\u001b[0m\u001b[1;33m.\u001b[0m\u001b[0m_rng\u001b[0m\u001b[1;33m,\u001b[0m \u001b[0mX_val\u001b[0m\u001b[1;33m,\u001b[0m \u001b[0my_val\u001b[0m\u001b[1;33m,\u001b[0m\u001b[1;33m\u001b[0m\u001b[1;33m\u001b[0m\u001b[0m\n\u001b[0;32m    506\u001b[0m             sample_weight_val, begin_at_stage, monitor)\n",
      "\u001b[1;32mD:\\Programs\\lib\\site-packages\\sklearn\\ensemble\\_gb.py\u001b[0m in \u001b[0;36m_fit_stages\u001b[1;34m(self, X, y, raw_predictions, sample_weight, random_state, X_val, y_val, sample_weight_val, begin_at_stage, monitor)\u001b[0m\n\u001b[0;32m    559\u001b[0m \u001b[1;33m\u001b[0m\u001b[0m\n\u001b[0;32m    560\u001b[0m             \u001b[1;31m# fit next stage of trees\u001b[0m\u001b[1;33m\u001b[0m\u001b[1;33m\u001b[0m\u001b[0m\n\u001b[1;32m--> 561\u001b[1;33m             raw_predictions = self._fit_stage(\n\u001b[0m\u001b[0;32m    562\u001b[0m                 \u001b[0mi\u001b[0m\u001b[1;33m,\u001b[0m \u001b[0mX\u001b[0m\u001b[1;33m,\u001b[0m \u001b[0my\u001b[0m\u001b[1;33m,\u001b[0m \u001b[0mraw_predictions\u001b[0m\u001b[1;33m,\u001b[0m \u001b[0msample_weight\u001b[0m\u001b[1;33m,\u001b[0m \u001b[0msample_mask\u001b[0m\u001b[1;33m,\u001b[0m\u001b[1;33m\u001b[0m\u001b[1;33m\u001b[0m\u001b[0m\n\u001b[0;32m    563\u001b[0m                 random_state, X_csc, X_csr)\n",
      "\u001b[1;32mD:\\Programs\\lib\\site-packages\\sklearn\\ensemble\\_gb.py\u001b[0m in \u001b[0;36m_fit_stage\u001b[1;34m(self, i, X, y, raw_predictions, sample_weight, sample_mask, random_state, X_csc, X_csr)\u001b[0m\n\u001b[0;32m    189\u001b[0m                 \u001b[0my\u001b[0m \u001b[1;33m=\u001b[0m \u001b[0mnp\u001b[0m\u001b[1;33m.\u001b[0m\u001b[0marray\u001b[0m\u001b[1;33m(\u001b[0m\u001b[0moriginal_y\u001b[0m \u001b[1;33m==\u001b[0m \u001b[0mk\u001b[0m\u001b[1;33m,\u001b[0m \u001b[0mdtype\u001b[0m\u001b[1;33m=\u001b[0m\u001b[0mnp\u001b[0m\u001b[1;33m.\u001b[0m\u001b[0mfloat64\u001b[0m\u001b[1;33m)\u001b[0m\u001b[1;33m\u001b[0m\u001b[1;33m\u001b[0m\u001b[0m\n\u001b[0;32m    190\u001b[0m \u001b[1;33m\u001b[0m\u001b[0m\n\u001b[1;32m--> 191\u001b[1;33m             residual = loss.negative_gradient(y, raw_predictions_copy, k=k,\n\u001b[0m\u001b[0;32m    192\u001b[0m                                               sample_weight=sample_weight)\n\u001b[0;32m    193\u001b[0m \u001b[1;33m\u001b[0m\u001b[0m\n",
      "\u001b[1;32mD:\\Programs\\lib\\site-packages\\sklearn\\ensemble\\_gb_losses.py\u001b[0m in \u001b[0;36mnegative_gradient\u001b[1;34m(self, y, raw_predictions, k, **kwargs)\u001b[0m\n\u001b[0;32m    718\u001b[0m         \"\"\"\n\u001b[0;32m    719\u001b[0m         return y - np.nan_to_num(np.exp(raw_predictions[:, k] -\n\u001b[1;32m--> 720\u001b[1;33m                                         logsumexp(raw_predictions, axis=1)))\n\u001b[0m\u001b[0;32m    721\u001b[0m \u001b[1;33m\u001b[0m\u001b[0m\n\u001b[0;32m    722\u001b[0m     def _update_terminal_region(self, tree, terminal_regions, leaf, X, y,\n",
      "\u001b[1;32mD:\\Programs\\lib\\site-packages\\scipy\\special\\_logsumexp.py\u001b[0m in \u001b[0;36mlogsumexp\u001b[1;34m(a, axis, b, keepdims, return_sign)\u001b[0m\n\u001b[0;32m     97\u001b[0m             \u001b[0ma\u001b[0m\u001b[1;33m[\u001b[0m\u001b[0mb\u001b[0m \u001b[1;33m==\u001b[0m \u001b[1;36m0\u001b[0m\u001b[1;33m]\u001b[0m \u001b[1;33m=\u001b[0m \u001b[1;33m-\u001b[0m\u001b[0mnp\u001b[0m\u001b[1;33m.\u001b[0m\u001b[0minf\u001b[0m\u001b[1;33m\u001b[0m\u001b[1;33m\u001b[0m\u001b[0m\n\u001b[0;32m     98\u001b[0m \u001b[1;33m\u001b[0m\u001b[0m\n\u001b[1;32m---> 99\u001b[1;33m     \u001b[0ma_max\u001b[0m \u001b[1;33m=\u001b[0m \u001b[0mnp\u001b[0m\u001b[1;33m.\u001b[0m\u001b[0mamax\u001b[0m\u001b[1;33m(\u001b[0m\u001b[0ma\u001b[0m\u001b[1;33m,\u001b[0m \u001b[0maxis\u001b[0m\u001b[1;33m=\u001b[0m\u001b[0maxis\u001b[0m\u001b[1;33m,\u001b[0m \u001b[0mkeepdims\u001b[0m\u001b[1;33m=\u001b[0m\u001b[1;32mTrue\u001b[0m\u001b[1;33m)\u001b[0m\u001b[1;33m\u001b[0m\u001b[1;33m\u001b[0m\u001b[0m\n\u001b[0m\u001b[0;32m    100\u001b[0m \u001b[1;33m\u001b[0m\u001b[0m\n\u001b[0;32m    101\u001b[0m     \u001b[1;32mif\u001b[0m \u001b[0ma_max\u001b[0m\u001b[1;33m.\u001b[0m\u001b[0mndim\u001b[0m \u001b[1;33m>\u001b[0m \u001b[1;36m0\u001b[0m\u001b[1;33m:\u001b[0m\u001b[1;33m\u001b[0m\u001b[1;33m\u001b[0m\u001b[0m\n",
      "\u001b[1;32m<__array_function__ internals>\u001b[0m in \u001b[0;36mamax\u001b[1;34m(*args, **kwargs)\u001b[0m\n",
      "\u001b[1;32mD:\\Programs\\lib\\site-packages\\numpy\\core\\fromnumeric.py\u001b[0m in \u001b[0;36mamax\u001b[1;34m(a, axis, out, keepdims, initial, where)\u001b[0m\n\u001b[0;32m   2731\u001b[0m     \u001b[1;36m5\u001b[0m\u001b[1;33m\u001b[0m\u001b[1;33m\u001b[0m\u001b[0m\n\u001b[0;32m   2732\u001b[0m     \"\"\"\n\u001b[1;32m-> 2733\u001b[1;33m     return _wrapreduction(a, np.maximum, 'max', axis, None, out,\n\u001b[0m\u001b[0;32m   2734\u001b[0m                           keepdims=keepdims, initial=initial, where=where)\n\u001b[0;32m   2735\u001b[0m \u001b[1;33m\u001b[0m\u001b[0m\n",
      "\u001b[1;32mD:\\Programs\\lib\\site-packages\\numpy\\core\\fromnumeric.py\u001b[0m in \u001b[0;36m_wrapreduction\u001b[1;34m(obj, ufunc, method, axis, dtype, out, **kwargs)\u001b[0m\n\u001b[0;32m     85\u001b[0m                 \u001b[1;32mreturn\u001b[0m \u001b[0mreduction\u001b[0m\u001b[1;33m(\u001b[0m\u001b[0maxis\u001b[0m\u001b[1;33m=\u001b[0m\u001b[0maxis\u001b[0m\u001b[1;33m,\u001b[0m \u001b[0mout\u001b[0m\u001b[1;33m=\u001b[0m\u001b[0mout\u001b[0m\u001b[1;33m,\u001b[0m \u001b[1;33m**\u001b[0m\u001b[0mpasskwargs\u001b[0m\u001b[1;33m)\u001b[0m\u001b[1;33m\u001b[0m\u001b[1;33m\u001b[0m\u001b[0m\n\u001b[0;32m     86\u001b[0m \u001b[1;33m\u001b[0m\u001b[0m\n\u001b[1;32m---> 87\u001b[1;33m     \u001b[1;32mreturn\u001b[0m \u001b[0mufunc\u001b[0m\u001b[1;33m.\u001b[0m\u001b[0mreduce\u001b[0m\u001b[1;33m(\u001b[0m\u001b[0mobj\u001b[0m\u001b[1;33m,\u001b[0m \u001b[0maxis\u001b[0m\u001b[1;33m,\u001b[0m \u001b[0mdtype\u001b[0m\u001b[1;33m,\u001b[0m \u001b[0mout\u001b[0m\u001b[1;33m,\u001b[0m \u001b[1;33m**\u001b[0m\u001b[0mpasskwargs\u001b[0m\u001b[1;33m)\u001b[0m\u001b[1;33m\u001b[0m\u001b[1;33m\u001b[0m\u001b[0m\n\u001b[0m\u001b[0;32m     88\u001b[0m \u001b[1;33m\u001b[0m\u001b[0m\n\u001b[0;32m     89\u001b[0m \u001b[1;33m\u001b[0m\u001b[0m\n",
      "\u001b[1;31mKeyboardInterrupt\u001b[0m: "
     ]
    }
   ],
   "source": [
    "for s in lst_3:\n",
    " model = GradientBoostingClassifier(n_estimators = s, random_state = 7)\n",
    " for i in lst_2:\n",
    "   kfold=KFold(n_splits=i,random_state=7,shuffle=True)\n",
    "   for j in lst_1:\n",
    "      test=SelectKBest(score_func=f_classif, k=j)\n",
    "      fit=test.fit(X,Y)\n",
    "      features=fit.transform(X)\n",
    "      results=cross_val_score(model, features, Y, cv=kfold)\n",
    "      res = results.mean()\n",
    "      k.append(res)\n",
    "      print(f'n_splits: {i} KBest: {j} {res}')\n",
    "   print(f'n_estimators = {s} n_splits = {i} max = {max(k)}')"
   ]
  },
  {
   "cell_type": "code",
   "execution_count": null,
   "id": "712325f1",
   "metadata": {},
   "outputs": [],
   "source": []
  },
  {
   "cell_type": "code",
   "execution_count": null,
   "id": "bef9c5f3",
   "metadata": {},
   "outputs": [],
   "source": [
    "============================================================================================================="
   ]
  },
  {
   "cell_type": "code",
   "execution_count": 1,
   "id": "cc76e7f4",
   "metadata": {},
   "outputs": [],
   "source": [
    "import pandas as pd\n",
    "import numpy as np\n",
    "from pandas import read_csv"
   ]
  },
  {
   "cell_type": "code",
   "execution_count": 2,
   "id": "087dd9aa",
   "metadata": {
    "scrolled": true
   },
   "outputs": [],
   "source": [
    "df=read_csv('D:\\Политех\\Класиффикация\\Сегментация_клиентов\\Train_cleared_!!!!!!!!.csv')"
   ]
  },
  {
   "cell_type": "code",
   "execution_count": 3,
   "id": "dc9a454a",
   "metadata": {},
   "outputs": [],
   "source": [
    "df=df.filter(regex='^(?!.*Unnamed).*$')"
   ]
  },
  {
   "cell_type": "code",
   "execution_count": 4,
   "id": "1b91896f",
   "metadata": {},
   "outputs": [],
   "source": [
    "df_T=read_csv('D:\\Политех\\Класиффикация\\Сегментация_клиентов\\Test_cleared_!!!!!!!!.csv')"
   ]
  },
  {
   "cell_type": "code",
   "execution_count": 5,
   "id": "9735e536",
   "metadata": {},
   "outputs": [],
   "source": [
    "df_T=df_T.filter(regex='^(?!.*Unnamed).*$')"
   ]
  },
  {
   "cell_type": "markdown",
   "id": "375b0add",
   "metadata": {},
   "source": [
    "**Обучающий_набор**"
   ]
  },
  {
   "cell_type": "code",
   "execution_count": 6,
   "id": "8c1cf487",
   "metadata": {},
   "outputs": [],
   "source": [
    "array = df.values\n",
    "array\n",
    "X = array[:,0:9]\n",
    "Y = array[:,9]"
   ]
  },
  {
   "cell_type": "markdown",
   "id": "d04b2067",
   "metadata": {},
   "source": [
    "**Тестовый_набор**"
   ]
  },
  {
   "cell_type": "code",
   "execution_count": 7,
   "id": "132abcb0",
   "metadata": {},
   "outputs": [],
   "source": [
    "array_T = df_T.values\n",
    "array_T\n",
    "XX = array_T[:,0:9]\n",
    "YY = array_T[:,9]"
   ]
  },
  {
   "cell_type": "code",
   "execution_count": null,
   "id": "c9fa204d",
   "metadata": {},
   "outputs": [],
   "source": [
    "========================================================================================================================"
   ]
  },
  {
   "cell_type": "markdown",
   "id": "792c29cd",
   "metadata": {},
   "source": [
    "# **GrideSearchCV**"
   ]
  },
  {
   "cell_type": "code",
   "execution_count": 9,
   "id": "dd8e968c",
   "metadata": {},
   "outputs": [],
   "source": [
    "from sklearn.model_selection import GridSearchCV\n",
    "from sklearn import linear_model\n",
    "from sklearn.linear_model import LinearRegression\n",
    "from sklearn.neighbors import KNeighborsRegressor"
   ]
  },
  {
   "cell_type": "code",
   "execution_count": 10,
   "id": "2ec35d69",
   "metadata": {},
   "outputs": [],
   "source": [
    "X_train, X_test, Y_train, Y_test = train_test_split(X, Y, test_size=0.25, shuffle=True, random_state=7) "
   ]
  },
  {
   "cell_type": "code",
   "execution_count": 11,
   "id": "fa700e64",
   "metadata": {},
   "outputs": [],
   "source": [
    "clf = ExtraTreesClassifier()"
   ]
  },
  {
   "cell_type": "code",
   "execution_count": 55,
   "id": "f0617c81",
   "metadata": {},
   "outputs": [],
   "source": [
    "params = { 'n_estimators': np.arange(40,80,4),\n",
    "           'max_depth' : np.arange(1,40,4),\n",
    "           'min_weight_fraction_leaf' : [0.001,0.0001]}"
   ]
  },
  {
   "cell_type": "code",
   "execution_count": 56,
   "id": "a38a4dab",
   "metadata": {},
   "outputs": [],
   "source": [
    "grid = GridSearchCV(clf, param_grid = params, cv=3,verbose=1,n_jobs=-1)"
   ]
  },
  {
   "cell_type": "code",
   "execution_count": 57,
   "id": "5ca47e0d",
   "metadata": {},
   "outputs": [
    {
     "name": "stdout",
     "output_type": "stream",
     "text": [
      "Fitting 3 folds for each of 200 candidates, totalling 600 fits\n"
     ]
    },
    {
     "data": {
      "text/plain": [
       "GridSearchCV(cv=3, estimator=ExtraTreesClassifier(), n_jobs=-1,\n",
       "             param_grid={'max_depth': array([ 1,  5,  9, 13, 17, 21, 25, 29, 33, 37]),\n",
       "                         'min_weight_fraction_leaf': [0.001, 0.0001],\n",
       "                         'n_estimators': array([40, 44, 48, 52, 56, 60, 64, 68, 72, 76])},\n",
       "             verbose=1)"
      ]
     },
     "execution_count": 57,
     "metadata": {},
     "output_type": "execute_result"
    }
   ],
   "source": [
    "grid.fit(X_train,Y_train)"
   ]
  },
  {
   "cell_type": "code",
   "execution_count": 58,
   "id": "8f66e506",
   "metadata": {},
   "outputs": [
    {
     "name": "stdout",
     "output_type": "stream",
     "text": [
      "{'max_depth': 37, 'min_weight_fraction_leaf': 0.001, 'n_estimators': 52}\n",
      "ExtraTreesClassifier(max_depth=37, min_weight_fraction_leaf=0.001,\n",
      "                     n_estimators=52)\n"
     ]
    }
   ],
   "source": [
    "print(grid.best_params_)\n",
    "print(grid.best_estimator_)"
   ]
  },
  {
   "cell_type": "code",
   "execution_count": 47,
   "id": "f1888e46",
   "metadata": {},
   "outputs": [],
   "source": [
    "from sklearn.metrics import classification_report, confusion_matrix"
   ]
  },
  {
   "cell_type": "code",
   "execution_count": 48,
   "id": "452e1d46",
   "metadata": {},
   "outputs": [
    {
     "name": "stdout",
     "output_type": "stream",
     "text": [
      "              precision    recall  f1-score   support\n",
      "\n",
      "         1.0       0.47      0.48      0.47       351\n",
      "         2.0       0.40      0.31      0.35       347\n",
      "         3.0       0.52      0.54      0.53       361\n",
      "         4.0       0.58      0.68      0.62       373\n",
      "\n",
      "    accuracy                           0.50      1432\n",
      "   macro avg       0.49      0.50      0.49      1432\n",
      "weighted avg       0.49      0.50      0.50      1432\n",
      "\n"
     ]
    }
   ],
   "source": [
    "grid_predictions = grid.predict(X_test)\n",
    "print(classification_report(Y_test, grid_predictions))"
   ]
  },
  {
   "cell_type": "code",
   "execution_count": 49,
   "id": "dc608d2b",
   "metadata": {},
   "outputs": [
    {
     "name": "stdout",
     "output_type": "stream",
     "text": [
      "[[167  63  47  74]\n",
      " [ 79 106 117  45]\n",
      " [ 32  68 195  66]\n",
      " [ 80  27  13 253]]\n"
     ]
    }
   ],
   "source": [
    "print(confusion_matrix(Y_test, grid_predictions))"
   ]
  },
  {
   "cell_type": "code",
   "execution_count": null,
   "id": "67a47e3c",
   "metadata": {},
   "outputs": [],
   "source": [
    "================================================================================================================"
   ]
  },
  {
   "cell_type": "code",
   "execution_count": 59,
   "id": "f9ab744b",
   "metadata": {},
   "outputs": [],
   "source": [
    "model = ExtraTreesClassifier(max_depth=37, \n",
    "                             min_weight_fraction_leaf=0.001,\n",
    "                             n_estimators=52)"
   ]
  },
  {
   "cell_type": "code",
   "execution_count": 60,
   "id": "651f6f90",
   "metadata": {},
   "outputs": [
    {
     "data": {
      "text/plain": [
       "ExtraTreesClassifier(max_depth=37, min_weight_fraction_leaf=0.001,\n",
       "                     n_estimators=52)"
      ]
     },
     "execution_count": 60,
     "metadata": {},
     "output_type": "execute_result"
    }
   ],
   "source": [
    "model.fit(X_train,Y_train)"
   ]
  },
  {
   "cell_type": "code",
   "execution_count": 61,
   "id": "8bc76cdc",
   "metadata": {},
   "outputs": [],
   "source": [
    "new_predictions = model.predict(X_test)"
   ]
  },
  {
   "cell_type": "code",
   "execution_count": 62,
   "id": "a9d6f551",
   "metadata": {},
   "outputs": [
    {
     "name": "stdout",
     "output_type": "stream",
     "text": [
      "              precision    recall  f1-score   support\n",
      "\n",
      "         1.0       0.49      0.47      0.48       351\n",
      "         2.0       0.41      0.34      0.37       347\n",
      "         3.0       0.54      0.54      0.54       361\n",
      "         4.0       0.58      0.69      0.63       373\n",
      "\n",
      "    accuracy                           0.51      1432\n",
      "   macro avg       0.50      0.51      0.51      1432\n",
      "weighted avg       0.51      0.51      0.51      1432\n",
      "\n",
      "[[164  66  47  74]\n",
      " [ 69 119 111  48]\n",
      " [ 27  74 196  64]\n",
      " [ 77  29  10 257]]\n"
     ]
    }
   ],
   "source": [
    "print(classification_report(Y_test, new_predictions))\n",
    "print(confusion_matrix(Y_test, new_predictions))"
   ]
  },
  {
   "cell_type": "code",
   "execution_count": null,
   "id": "2f92b097",
   "metadata": {},
   "outputs": [],
   "source": [
    "================================================================================================================"
   ]
  },
  {
   "cell_type": "code",
   "execution_count": 63,
   "id": "10fa3ea4",
   "metadata": {},
   "outputs": [
    {
     "data": {
      "text/plain": [
       "0.4964204644665619"
      ]
     },
     "execution_count": 63,
     "metadata": {},
     "output_type": "execute_result"
    }
   ],
   "source": [
    "kfold=KFold(n_splits=3,random_state=7,shuffle=True)\n",
    "results=cross_val_score(model, X, Y, cv=3)\n",
    "results.mean()"
   ]
  },
  {
   "cell_type": "code",
   "execution_count": null,
   "id": "d43f5583",
   "metadata": {},
   "outputs": [],
   "source": []
  },
  {
   "cell_type": "markdown",
   "id": "77417370",
   "metadata": {},
   "source": [
    "# **AdaBoostClassifier**"
   ]
  },
  {
   "cell_type": "code",
   "execution_count": null,
   "id": "566d4ce7",
   "metadata": {},
   "outputs": [],
   "source": [
    "+++++++++++++++++++++++++++++++++++++++++++++++++++++"
   ]
  },
  {
   "cell_type": "code",
   "execution_count": 34,
   "id": "54d46135",
   "metadata": {},
   "outputs": [],
   "source": [
    "lst_1 = list(range(6,10))\n",
    "lst_2 = list(range(2,9))\n",
    "lst_3 = list(range(100,200))\n",
    "k = []"
   ]
  },
  {
   "cell_type": "code",
   "execution_count": 35,
   "id": "af270af5",
   "metadata": {
    "collapsed": true
   },
   "outputs": [
    {
     "name": "stdout",
     "output_type": "stream",
     "text": [
      "n_splits: 2 KBest: 6 0.5032254575997815\n",
      "n_splits: 2 KBest: 7 0.5084765229224003\n",
      "n_splits: 2 KBest: 8 0.510577093123478\n",
      "n_splits: 2 KBest: 9 0.5057763429404165\n",
      "n_estimators = 100 n_splits = 2 max = 0.510577093123478\n",
      "n_splits: 3 KBest: 6 0.5147783351050098\n",
      "n_splits: 3 KBest: 7 0.5108767292758092\n",
      "n_splits: 3 KBest: 8 0.5168784775821121\n",
      "n_splits: 3 KBest: 9 0.5176290929408114\n",
      "n_estimators = 100 n_splits = 3 max = 0.5176290929408114\n",
      "n_splits: 4 KBest: 6 0.5074281062154916\n",
      "n_splits: 4 KBest: 7 0.5105797267917365\n",
      "n_splits: 4 KBest: 8 0.5141801771698482\n",
      "n_splits: 4 KBest: 9 0.5099791266236549\n",
      "n_estimators = 100 n_splits = 4 max = 0.5176290929408114\n",
      "n_splits: 5 KBest: 6 0.5135783945986496\n",
      "n_splits: 5 KBest: 7 0.5090772693173293\n",
      "n_splits: 5 KBest: 8 0.5149287321830458\n",
      "n_splits: 5 KBest: 9 0.5101275318829709\n",
      "n_estimators = 100 n_splits = 5 max = 0.5176290929408114\n",
      "n_splits: 6 KBest: 6 0.5129756218865128\n",
      "n_splits: 6 KBest: 7 0.5128268232228628\n",
      "n_splits: 6 KBest: 8 0.5162775737033163\n",
      "n_splits: 6 KBest: 9 0.5161278289991161\n",
      "n_estimators = 100 n_splits = 6 max = 0.5176290929408114\n",
      "n_splits: 7 KBest: 6 0.5122294983050933\n",
      "n_splits: 7 KBest: 7 0.5102799776783746\n",
      "n_splits: 7 KBest: 8 0.5128300533224832\n",
      "n_splits: 7 KBest: 9 0.5096798950430119\n",
      "n_estimators = 100 n_splits = 7 max = 0.5176290929408114\n",
      "n_splits: 8 KBest: 6 0.5101295914049073\n",
      "n_splits: 8 KBest: 7 0.5105804911892815\n",
      "n_splits: 8 KBest: 8 0.5144811521730994\n",
      "n_splits: 8 KBest: 9 0.5126804318849842\n",
      "n_estimators = 100 n_splits = 8 max = 0.5176290929408114\n",
      "n_splits: 2 KBest: 6 0.5045758627483397\n",
      "n_splits: 2 KBest: 7 0.5078763278488714\n",
      "n_splits: 2 KBest: 8 0.5099774833425719\n",
      "n_splits: 2 KBest: 9 0.5041261779239148\n",
      "n_estimators = 101 n_splits = 2 max = 0.5176290929408114\n",
      "n_splits: 3 KBest: 6 0.5161285376624111\n",
      "n_splits: 3 KBest: 7 0.5107265791865094\n",
      "n_splits: 3 KBest: 8 0.5186793330391121\n",
      "n_splits: 3 KBest: 9 0.5176291604847112\n",
      "n_estimators = 101 n_splits = 3 max = 0.5186793330391121\n",
      "n_splits: 4 KBest: 6 0.5071278961494616\n",
      "n_splits: 4 KBest: 7 0.5092297266837149\n",
      "n_splits: 4 KBest: 8 0.5144802972178675\n",
      "n_splits: 4 KBest: 9 0.5105792767016825\n",
      "n_estimators = 101 n_splits = 4 max = 0.5186793330391121\n"
     ]
    },
    {
     "ename": "KeyboardInterrupt",
     "evalue": "",
     "output_type": "error",
     "traceback": [
      "\u001b[1;31m---------------------------------------------------------------------------\u001b[0m",
      "\u001b[1;31mKeyboardInterrupt\u001b[0m                         Traceback (most recent call last)",
      "\u001b[1;32mC:\\Users\\D9F8~1\\AppData\\Local\\Temp/ipykernel_20744/3976688359.py\u001b[0m in \u001b[0;36m<module>\u001b[1;34m\u001b[0m\n\u001b[0;32m      7\u001b[0m       \u001b[0mfit\u001b[0m\u001b[1;33m=\u001b[0m\u001b[0mtest\u001b[0m\u001b[1;33m.\u001b[0m\u001b[0mfit\u001b[0m\u001b[1;33m(\u001b[0m\u001b[0mX\u001b[0m\u001b[1;33m,\u001b[0m\u001b[0mY\u001b[0m\u001b[1;33m)\u001b[0m\u001b[1;33m\u001b[0m\u001b[1;33m\u001b[0m\u001b[0m\n\u001b[0;32m      8\u001b[0m       \u001b[0mfeatures\u001b[0m\u001b[1;33m=\u001b[0m\u001b[0mfit\u001b[0m\u001b[1;33m.\u001b[0m\u001b[0mtransform\u001b[0m\u001b[1;33m(\u001b[0m\u001b[0mX\u001b[0m\u001b[1;33m)\u001b[0m\u001b[1;33m\u001b[0m\u001b[1;33m\u001b[0m\u001b[0m\n\u001b[1;32m----> 9\u001b[1;33m       \u001b[0mresults\u001b[0m\u001b[1;33m=\u001b[0m\u001b[0mcross_val_score\u001b[0m\u001b[1;33m(\u001b[0m\u001b[0mmodel\u001b[0m\u001b[1;33m,\u001b[0m \u001b[0mfeatures\u001b[0m\u001b[1;33m,\u001b[0m \u001b[0mY\u001b[0m\u001b[1;33m,\u001b[0m \u001b[0mcv\u001b[0m\u001b[1;33m=\u001b[0m\u001b[0mkfold\u001b[0m\u001b[1;33m)\u001b[0m\u001b[1;33m\u001b[0m\u001b[1;33m\u001b[0m\u001b[0m\n\u001b[0m\u001b[0;32m     10\u001b[0m       \u001b[0mres\u001b[0m \u001b[1;33m=\u001b[0m \u001b[0mresults\u001b[0m\u001b[1;33m.\u001b[0m\u001b[0mmean\u001b[0m\u001b[1;33m(\u001b[0m\u001b[1;33m)\u001b[0m\u001b[1;33m\u001b[0m\u001b[1;33m\u001b[0m\u001b[0m\n\u001b[0;32m     11\u001b[0m       \u001b[0mk\u001b[0m\u001b[1;33m.\u001b[0m\u001b[0mappend\u001b[0m\u001b[1;33m(\u001b[0m\u001b[0mres\u001b[0m\u001b[1;33m)\u001b[0m\u001b[1;33m\u001b[0m\u001b[1;33m\u001b[0m\u001b[0m\n",
      "\u001b[1;32mD:\\Programs\\lib\\site-packages\\sklearn\\utils\\validation.py\u001b[0m in \u001b[0;36minner_f\u001b[1;34m(*args, **kwargs)\u001b[0m\n\u001b[0;32m     61\u001b[0m             \u001b[0mextra_args\u001b[0m \u001b[1;33m=\u001b[0m \u001b[0mlen\u001b[0m\u001b[1;33m(\u001b[0m\u001b[0margs\u001b[0m\u001b[1;33m)\u001b[0m \u001b[1;33m-\u001b[0m \u001b[0mlen\u001b[0m\u001b[1;33m(\u001b[0m\u001b[0mall_args\u001b[0m\u001b[1;33m)\u001b[0m\u001b[1;33m\u001b[0m\u001b[1;33m\u001b[0m\u001b[0m\n\u001b[0;32m     62\u001b[0m             \u001b[1;32mif\u001b[0m \u001b[0mextra_args\u001b[0m \u001b[1;33m<=\u001b[0m \u001b[1;36m0\u001b[0m\u001b[1;33m:\u001b[0m\u001b[1;33m\u001b[0m\u001b[1;33m\u001b[0m\u001b[0m\n\u001b[1;32m---> 63\u001b[1;33m                 \u001b[1;32mreturn\u001b[0m \u001b[0mf\u001b[0m\u001b[1;33m(\u001b[0m\u001b[1;33m*\u001b[0m\u001b[0margs\u001b[0m\u001b[1;33m,\u001b[0m \u001b[1;33m**\u001b[0m\u001b[0mkwargs\u001b[0m\u001b[1;33m)\u001b[0m\u001b[1;33m\u001b[0m\u001b[1;33m\u001b[0m\u001b[0m\n\u001b[0m\u001b[0;32m     64\u001b[0m \u001b[1;33m\u001b[0m\u001b[0m\n\u001b[0;32m     65\u001b[0m             \u001b[1;31m# extra_args > 0\u001b[0m\u001b[1;33m\u001b[0m\u001b[1;33m\u001b[0m\u001b[0m\n",
      "\u001b[1;32mD:\\Programs\\lib\\site-packages\\sklearn\\model_selection\\_validation.py\u001b[0m in \u001b[0;36mcross_val_score\u001b[1;34m(estimator, X, y, groups, scoring, cv, n_jobs, verbose, fit_params, pre_dispatch, error_score)\u001b[0m\n\u001b[0;32m    443\u001b[0m     \u001b[0mscorer\u001b[0m \u001b[1;33m=\u001b[0m \u001b[0mcheck_scoring\u001b[0m\u001b[1;33m(\u001b[0m\u001b[0mestimator\u001b[0m\u001b[1;33m,\u001b[0m \u001b[0mscoring\u001b[0m\u001b[1;33m=\u001b[0m\u001b[0mscoring\u001b[0m\u001b[1;33m)\u001b[0m\u001b[1;33m\u001b[0m\u001b[1;33m\u001b[0m\u001b[0m\n\u001b[0;32m    444\u001b[0m \u001b[1;33m\u001b[0m\u001b[0m\n\u001b[1;32m--> 445\u001b[1;33m     cv_results = cross_validate(estimator=estimator, X=X, y=y, groups=groups,\n\u001b[0m\u001b[0;32m    446\u001b[0m                                 \u001b[0mscoring\u001b[0m\u001b[1;33m=\u001b[0m\u001b[1;33m{\u001b[0m\u001b[1;34m'score'\u001b[0m\u001b[1;33m:\u001b[0m \u001b[0mscorer\u001b[0m\u001b[1;33m}\u001b[0m\u001b[1;33m,\u001b[0m \u001b[0mcv\u001b[0m\u001b[1;33m=\u001b[0m\u001b[0mcv\u001b[0m\u001b[1;33m,\u001b[0m\u001b[1;33m\u001b[0m\u001b[1;33m\u001b[0m\u001b[0m\n\u001b[0;32m    447\u001b[0m                                 \u001b[0mn_jobs\u001b[0m\u001b[1;33m=\u001b[0m\u001b[0mn_jobs\u001b[0m\u001b[1;33m,\u001b[0m \u001b[0mverbose\u001b[0m\u001b[1;33m=\u001b[0m\u001b[0mverbose\u001b[0m\u001b[1;33m,\u001b[0m\u001b[1;33m\u001b[0m\u001b[1;33m\u001b[0m\u001b[0m\n",
      "\u001b[1;32mD:\\Programs\\lib\\site-packages\\sklearn\\utils\\validation.py\u001b[0m in \u001b[0;36minner_f\u001b[1;34m(*args, **kwargs)\u001b[0m\n\u001b[0;32m     61\u001b[0m             \u001b[0mextra_args\u001b[0m \u001b[1;33m=\u001b[0m \u001b[0mlen\u001b[0m\u001b[1;33m(\u001b[0m\u001b[0margs\u001b[0m\u001b[1;33m)\u001b[0m \u001b[1;33m-\u001b[0m \u001b[0mlen\u001b[0m\u001b[1;33m(\u001b[0m\u001b[0mall_args\u001b[0m\u001b[1;33m)\u001b[0m\u001b[1;33m\u001b[0m\u001b[1;33m\u001b[0m\u001b[0m\n\u001b[0;32m     62\u001b[0m             \u001b[1;32mif\u001b[0m \u001b[0mextra_args\u001b[0m \u001b[1;33m<=\u001b[0m \u001b[1;36m0\u001b[0m\u001b[1;33m:\u001b[0m\u001b[1;33m\u001b[0m\u001b[1;33m\u001b[0m\u001b[0m\n\u001b[1;32m---> 63\u001b[1;33m                 \u001b[1;32mreturn\u001b[0m \u001b[0mf\u001b[0m\u001b[1;33m(\u001b[0m\u001b[1;33m*\u001b[0m\u001b[0margs\u001b[0m\u001b[1;33m,\u001b[0m \u001b[1;33m**\u001b[0m\u001b[0mkwargs\u001b[0m\u001b[1;33m)\u001b[0m\u001b[1;33m\u001b[0m\u001b[1;33m\u001b[0m\u001b[0m\n\u001b[0m\u001b[0;32m     64\u001b[0m \u001b[1;33m\u001b[0m\u001b[0m\n\u001b[0;32m     65\u001b[0m             \u001b[1;31m# extra_args > 0\u001b[0m\u001b[1;33m\u001b[0m\u001b[1;33m\u001b[0m\u001b[0m\n",
      "\u001b[1;32mD:\\Programs\\lib\\site-packages\\sklearn\\model_selection\\_validation.py\u001b[0m in \u001b[0;36mcross_validate\u001b[1;34m(estimator, X, y, groups, scoring, cv, n_jobs, verbose, fit_params, pre_dispatch, return_train_score, return_estimator, error_score)\u001b[0m\n\u001b[0;32m    248\u001b[0m     parallel = Parallel(n_jobs=n_jobs, verbose=verbose,\n\u001b[0;32m    249\u001b[0m                         pre_dispatch=pre_dispatch)\n\u001b[1;32m--> 250\u001b[1;33m     results = parallel(\n\u001b[0m\u001b[0;32m    251\u001b[0m         delayed(_fit_and_score)(\n\u001b[0;32m    252\u001b[0m             \u001b[0mclone\u001b[0m\u001b[1;33m(\u001b[0m\u001b[0mestimator\u001b[0m\u001b[1;33m)\u001b[0m\u001b[1;33m,\u001b[0m \u001b[0mX\u001b[0m\u001b[1;33m,\u001b[0m \u001b[0my\u001b[0m\u001b[1;33m,\u001b[0m \u001b[0mscorers\u001b[0m\u001b[1;33m,\u001b[0m \u001b[0mtrain\u001b[0m\u001b[1;33m,\u001b[0m \u001b[0mtest\u001b[0m\u001b[1;33m,\u001b[0m \u001b[0mverbose\u001b[0m\u001b[1;33m,\u001b[0m \u001b[1;32mNone\u001b[0m\u001b[1;33m,\u001b[0m\u001b[1;33m\u001b[0m\u001b[1;33m\u001b[0m\u001b[0m\n",
      "\u001b[1;32mD:\\Programs\\lib\\site-packages\\joblib\\parallel.py\u001b[0m in \u001b[0;36m__call__\u001b[1;34m(self, iterable)\u001b[0m\n\u001b[0;32m   1044\u001b[0m                 \u001b[0mself\u001b[0m\u001b[1;33m.\u001b[0m\u001b[0m_iterating\u001b[0m \u001b[1;33m=\u001b[0m \u001b[0mself\u001b[0m\u001b[1;33m.\u001b[0m\u001b[0m_original_iterator\u001b[0m \u001b[1;32mis\u001b[0m \u001b[1;32mnot\u001b[0m \u001b[1;32mNone\u001b[0m\u001b[1;33m\u001b[0m\u001b[1;33m\u001b[0m\u001b[0m\n\u001b[0;32m   1045\u001b[0m \u001b[1;33m\u001b[0m\u001b[0m\n\u001b[1;32m-> 1046\u001b[1;33m             \u001b[1;32mwhile\u001b[0m \u001b[0mself\u001b[0m\u001b[1;33m.\u001b[0m\u001b[0mdispatch_one_batch\u001b[0m\u001b[1;33m(\u001b[0m\u001b[0miterator\u001b[0m\u001b[1;33m)\u001b[0m\u001b[1;33m:\u001b[0m\u001b[1;33m\u001b[0m\u001b[1;33m\u001b[0m\u001b[0m\n\u001b[0m\u001b[0;32m   1047\u001b[0m                 \u001b[1;32mpass\u001b[0m\u001b[1;33m\u001b[0m\u001b[1;33m\u001b[0m\u001b[0m\n\u001b[0;32m   1048\u001b[0m \u001b[1;33m\u001b[0m\u001b[0m\n",
      "\u001b[1;32mD:\\Programs\\lib\\site-packages\\joblib\\parallel.py\u001b[0m in \u001b[0;36mdispatch_one_batch\u001b[1;34m(self, iterator)\u001b[0m\n\u001b[0;32m    859\u001b[0m                 \u001b[1;32mreturn\u001b[0m \u001b[1;32mFalse\u001b[0m\u001b[1;33m\u001b[0m\u001b[1;33m\u001b[0m\u001b[0m\n\u001b[0;32m    860\u001b[0m             \u001b[1;32melse\u001b[0m\u001b[1;33m:\u001b[0m\u001b[1;33m\u001b[0m\u001b[1;33m\u001b[0m\u001b[0m\n\u001b[1;32m--> 861\u001b[1;33m                 \u001b[0mself\u001b[0m\u001b[1;33m.\u001b[0m\u001b[0m_dispatch\u001b[0m\u001b[1;33m(\u001b[0m\u001b[0mtasks\u001b[0m\u001b[1;33m)\u001b[0m\u001b[1;33m\u001b[0m\u001b[1;33m\u001b[0m\u001b[0m\n\u001b[0m\u001b[0;32m    862\u001b[0m                 \u001b[1;32mreturn\u001b[0m \u001b[1;32mTrue\u001b[0m\u001b[1;33m\u001b[0m\u001b[1;33m\u001b[0m\u001b[0m\n\u001b[0;32m    863\u001b[0m \u001b[1;33m\u001b[0m\u001b[0m\n",
      "\u001b[1;32mD:\\Programs\\lib\\site-packages\\joblib\\parallel.py\u001b[0m in \u001b[0;36m_dispatch\u001b[1;34m(self, batch)\u001b[0m\n\u001b[0;32m    777\u001b[0m         \u001b[1;32mwith\u001b[0m \u001b[0mself\u001b[0m\u001b[1;33m.\u001b[0m\u001b[0m_lock\u001b[0m\u001b[1;33m:\u001b[0m\u001b[1;33m\u001b[0m\u001b[1;33m\u001b[0m\u001b[0m\n\u001b[0;32m    778\u001b[0m             \u001b[0mjob_idx\u001b[0m \u001b[1;33m=\u001b[0m \u001b[0mlen\u001b[0m\u001b[1;33m(\u001b[0m\u001b[0mself\u001b[0m\u001b[1;33m.\u001b[0m\u001b[0m_jobs\u001b[0m\u001b[1;33m)\u001b[0m\u001b[1;33m\u001b[0m\u001b[1;33m\u001b[0m\u001b[0m\n\u001b[1;32m--> 779\u001b[1;33m             \u001b[0mjob\u001b[0m \u001b[1;33m=\u001b[0m \u001b[0mself\u001b[0m\u001b[1;33m.\u001b[0m\u001b[0m_backend\u001b[0m\u001b[1;33m.\u001b[0m\u001b[0mapply_async\u001b[0m\u001b[1;33m(\u001b[0m\u001b[0mbatch\u001b[0m\u001b[1;33m,\u001b[0m \u001b[0mcallback\u001b[0m\u001b[1;33m=\u001b[0m\u001b[0mcb\u001b[0m\u001b[1;33m)\u001b[0m\u001b[1;33m\u001b[0m\u001b[1;33m\u001b[0m\u001b[0m\n\u001b[0m\u001b[0;32m    780\u001b[0m             \u001b[1;31m# A job can complete so quickly than its callback is\u001b[0m\u001b[1;33m\u001b[0m\u001b[1;33m\u001b[0m\u001b[0m\n\u001b[0;32m    781\u001b[0m             \u001b[1;31m# called before we get here, causing self._jobs to\u001b[0m\u001b[1;33m\u001b[0m\u001b[1;33m\u001b[0m\u001b[0m\n",
      "\u001b[1;32mD:\\Programs\\lib\\site-packages\\joblib\\_parallel_backends.py\u001b[0m in \u001b[0;36mapply_async\u001b[1;34m(self, func, callback)\u001b[0m\n\u001b[0;32m    206\u001b[0m     \u001b[1;32mdef\u001b[0m \u001b[0mapply_async\u001b[0m\u001b[1;33m(\u001b[0m\u001b[0mself\u001b[0m\u001b[1;33m,\u001b[0m \u001b[0mfunc\u001b[0m\u001b[1;33m,\u001b[0m \u001b[0mcallback\u001b[0m\u001b[1;33m=\u001b[0m\u001b[1;32mNone\u001b[0m\u001b[1;33m)\u001b[0m\u001b[1;33m:\u001b[0m\u001b[1;33m\u001b[0m\u001b[1;33m\u001b[0m\u001b[0m\n\u001b[0;32m    207\u001b[0m         \u001b[1;34m\"\"\"Schedule a func to be run\"\"\"\u001b[0m\u001b[1;33m\u001b[0m\u001b[1;33m\u001b[0m\u001b[0m\n\u001b[1;32m--> 208\u001b[1;33m         \u001b[0mresult\u001b[0m \u001b[1;33m=\u001b[0m \u001b[0mImmediateResult\u001b[0m\u001b[1;33m(\u001b[0m\u001b[0mfunc\u001b[0m\u001b[1;33m)\u001b[0m\u001b[1;33m\u001b[0m\u001b[1;33m\u001b[0m\u001b[0m\n\u001b[0m\u001b[0;32m    209\u001b[0m         \u001b[1;32mif\u001b[0m \u001b[0mcallback\u001b[0m\u001b[1;33m:\u001b[0m\u001b[1;33m\u001b[0m\u001b[1;33m\u001b[0m\u001b[0m\n\u001b[0;32m    210\u001b[0m             \u001b[0mcallback\u001b[0m\u001b[1;33m(\u001b[0m\u001b[0mresult\u001b[0m\u001b[1;33m)\u001b[0m\u001b[1;33m\u001b[0m\u001b[1;33m\u001b[0m\u001b[0m\n",
      "\u001b[1;32mD:\\Programs\\lib\\site-packages\\joblib\\_parallel_backends.py\u001b[0m in \u001b[0;36m__init__\u001b[1;34m(self, batch)\u001b[0m\n\u001b[0;32m    570\u001b[0m         \u001b[1;31m# Don't delay the application, to avoid keeping the input\u001b[0m\u001b[1;33m\u001b[0m\u001b[1;33m\u001b[0m\u001b[0m\n\u001b[0;32m    571\u001b[0m         \u001b[1;31m# arguments in memory\u001b[0m\u001b[1;33m\u001b[0m\u001b[1;33m\u001b[0m\u001b[0m\n\u001b[1;32m--> 572\u001b[1;33m         \u001b[0mself\u001b[0m\u001b[1;33m.\u001b[0m\u001b[0mresults\u001b[0m \u001b[1;33m=\u001b[0m \u001b[0mbatch\u001b[0m\u001b[1;33m(\u001b[0m\u001b[1;33m)\u001b[0m\u001b[1;33m\u001b[0m\u001b[1;33m\u001b[0m\u001b[0m\n\u001b[0m\u001b[0;32m    573\u001b[0m \u001b[1;33m\u001b[0m\u001b[0m\n\u001b[0;32m    574\u001b[0m     \u001b[1;32mdef\u001b[0m \u001b[0mget\u001b[0m\u001b[1;33m(\u001b[0m\u001b[0mself\u001b[0m\u001b[1;33m)\u001b[0m\u001b[1;33m:\u001b[0m\u001b[1;33m\u001b[0m\u001b[1;33m\u001b[0m\u001b[0m\n",
      "\u001b[1;32mD:\\Programs\\lib\\site-packages\\joblib\\parallel.py\u001b[0m in \u001b[0;36m__call__\u001b[1;34m(self)\u001b[0m\n\u001b[0;32m    260\u001b[0m         \u001b[1;31m# change the default number of processes to -1\u001b[0m\u001b[1;33m\u001b[0m\u001b[1;33m\u001b[0m\u001b[0m\n\u001b[0;32m    261\u001b[0m         \u001b[1;32mwith\u001b[0m \u001b[0mparallel_backend\u001b[0m\u001b[1;33m(\u001b[0m\u001b[0mself\u001b[0m\u001b[1;33m.\u001b[0m\u001b[0m_backend\u001b[0m\u001b[1;33m,\u001b[0m \u001b[0mn_jobs\u001b[0m\u001b[1;33m=\u001b[0m\u001b[0mself\u001b[0m\u001b[1;33m.\u001b[0m\u001b[0m_n_jobs\u001b[0m\u001b[1;33m)\u001b[0m\u001b[1;33m:\u001b[0m\u001b[1;33m\u001b[0m\u001b[1;33m\u001b[0m\u001b[0m\n\u001b[1;32m--> 262\u001b[1;33m             return [func(*args, **kwargs)\n\u001b[0m\u001b[0;32m    263\u001b[0m                     for func, args, kwargs in self.items]\n\u001b[0;32m    264\u001b[0m \u001b[1;33m\u001b[0m\u001b[0m\n",
      "\u001b[1;32mD:\\Programs\\lib\\site-packages\\joblib\\parallel.py\u001b[0m in \u001b[0;36m<listcomp>\u001b[1;34m(.0)\u001b[0m\n\u001b[0;32m    260\u001b[0m         \u001b[1;31m# change the default number of processes to -1\u001b[0m\u001b[1;33m\u001b[0m\u001b[1;33m\u001b[0m\u001b[0m\n\u001b[0;32m    261\u001b[0m         \u001b[1;32mwith\u001b[0m \u001b[0mparallel_backend\u001b[0m\u001b[1;33m(\u001b[0m\u001b[0mself\u001b[0m\u001b[1;33m.\u001b[0m\u001b[0m_backend\u001b[0m\u001b[1;33m,\u001b[0m \u001b[0mn_jobs\u001b[0m\u001b[1;33m=\u001b[0m\u001b[0mself\u001b[0m\u001b[1;33m.\u001b[0m\u001b[0m_n_jobs\u001b[0m\u001b[1;33m)\u001b[0m\u001b[1;33m:\u001b[0m\u001b[1;33m\u001b[0m\u001b[1;33m\u001b[0m\u001b[0m\n\u001b[1;32m--> 262\u001b[1;33m             return [func(*args, **kwargs)\n\u001b[0m\u001b[0;32m    263\u001b[0m                     for func, args, kwargs in self.items]\n\u001b[0;32m    264\u001b[0m \u001b[1;33m\u001b[0m\u001b[0m\n",
      "\u001b[1;32mD:\\Programs\\lib\\site-packages\\sklearn\\utils\\fixes.py\u001b[0m in \u001b[0;36m__call__\u001b[1;34m(self, *args, **kwargs)\u001b[0m\n\u001b[0;32m    220\u001b[0m     \u001b[1;32mdef\u001b[0m \u001b[0m__call__\u001b[0m\u001b[1;33m(\u001b[0m\u001b[0mself\u001b[0m\u001b[1;33m,\u001b[0m \u001b[1;33m*\u001b[0m\u001b[0margs\u001b[0m\u001b[1;33m,\u001b[0m \u001b[1;33m**\u001b[0m\u001b[0mkwargs\u001b[0m\u001b[1;33m)\u001b[0m\u001b[1;33m:\u001b[0m\u001b[1;33m\u001b[0m\u001b[1;33m\u001b[0m\u001b[0m\n\u001b[0;32m    221\u001b[0m         \u001b[1;32mwith\u001b[0m \u001b[0mconfig_context\u001b[0m\u001b[1;33m(\u001b[0m\u001b[1;33m**\u001b[0m\u001b[0mself\u001b[0m\u001b[1;33m.\u001b[0m\u001b[0mconfig\u001b[0m\u001b[1;33m)\u001b[0m\u001b[1;33m:\u001b[0m\u001b[1;33m\u001b[0m\u001b[1;33m\u001b[0m\u001b[0m\n\u001b[1;32m--> 222\u001b[1;33m             \u001b[1;32mreturn\u001b[0m \u001b[0mself\u001b[0m\u001b[1;33m.\u001b[0m\u001b[0mfunction\u001b[0m\u001b[1;33m(\u001b[0m\u001b[1;33m*\u001b[0m\u001b[0margs\u001b[0m\u001b[1;33m,\u001b[0m \u001b[1;33m**\u001b[0m\u001b[0mkwargs\u001b[0m\u001b[1;33m)\u001b[0m\u001b[1;33m\u001b[0m\u001b[1;33m\u001b[0m\u001b[0m\n\u001b[0m",
      "\u001b[1;32mD:\\Programs\\lib\\site-packages\\sklearn\\model_selection\\_validation.py\u001b[0m in \u001b[0;36m_fit_and_score\u001b[1;34m(estimator, X, y, scorer, train, test, verbose, parameters, fit_params, return_train_score, return_parameters, return_n_test_samples, return_times, return_estimator, split_progress, candidate_progress, error_score)\u001b[0m\n\u001b[0;32m    596\u001b[0m             \u001b[0mestimator\u001b[0m\u001b[1;33m.\u001b[0m\u001b[0mfit\u001b[0m\u001b[1;33m(\u001b[0m\u001b[0mX_train\u001b[0m\u001b[1;33m,\u001b[0m \u001b[1;33m**\u001b[0m\u001b[0mfit_params\u001b[0m\u001b[1;33m)\u001b[0m\u001b[1;33m\u001b[0m\u001b[1;33m\u001b[0m\u001b[0m\n\u001b[0;32m    597\u001b[0m         \u001b[1;32melse\u001b[0m\u001b[1;33m:\u001b[0m\u001b[1;33m\u001b[0m\u001b[1;33m\u001b[0m\u001b[0m\n\u001b[1;32m--> 598\u001b[1;33m             \u001b[0mestimator\u001b[0m\u001b[1;33m.\u001b[0m\u001b[0mfit\u001b[0m\u001b[1;33m(\u001b[0m\u001b[0mX_train\u001b[0m\u001b[1;33m,\u001b[0m \u001b[0my_train\u001b[0m\u001b[1;33m,\u001b[0m \u001b[1;33m**\u001b[0m\u001b[0mfit_params\u001b[0m\u001b[1;33m)\u001b[0m\u001b[1;33m\u001b[0m\u001b[1;33m\u001b[0m\u001b[0m\n\u001b[0m\u001b[0;32m    599\u001b[0m \u001b[1;33m\u001b[0m\u001b[0m\n\u001b[0;32m    600\u001b[0m     \u001b[1;32mexcept\u001b[0m \u001b[0mException\u001b[0m \u001b[1;32mas\u001b[0m \u001b[0me\u001b[0m\u001b[1;33m:\u001b[0m\u001b[1;33m\u001b[0m\u001b[1;33m\u001b[0m\u001b[0m\n",
      "\u001b[1;32mD:\\Programs\\lib\\site-packages\\sklearn\\ensemble\\_weight_boosting.py\u001b[0m in \u001b[0;36mfit\u001b[1;34m(self, X, y, sample_weight)\u001b[0m\n\u001b[0;32m    441\u001b[0m \u001b[1;33m\u001b[0m\u001b[0m\n\u001b[0;32m    442\u001b[0m         \u001b[1;31m# Fit\u001b[0m\u001b[1;33m\u001b[0m\u001b[1;33m\u001b[0m\u001b[0m\n\u001b[1;32m--> 443\u001b[1;33m         \u001b[1;32mreturn\u001b[0m \u001b[0msuper\u001b[0m\u001b[1;33m(\u001b[0m\u001b[1;33m)\u001b[0m\u001b[1;33m.\u001b[0m\u001b[0mfit\u001b[0m\u001b[1;33m(\u001b[0m\u001b[0mX\u001b[0m\u001b[1;33m,\u001b[0m \u001b[0my\u001b[0m\u001b[1;33m,\u001b[0m \u001b[0msample_weight\u001b[0m\u001b[1;33m)\u001b[0m\u001b[1;33m\u001b[0m\u001b[1;33m\u001b[0m\u001b[0m\n\u001b[0m\u001b[0;32m    444\u001b[0m \u001b[1;33m\u001b[0m\u001b[0m\n\u001b[0;32m    445\u001b[0m     \u001b[1;32mdef\u001b[0m \u001b[0m_validate_estimator\u001b[0m\u001b[1;33m(\u001b[0m\u001b[0mself\u001b[0m\u001b[1;33m)\u001b[0m\u001b[1;33m:\u001b[0m\u001b[1;33m\u001b[0m\u001b[1;33m\u001b[0m\u001b[0m\n",
      "\u001b[1;32mD:\\Programs\\lib\\site-packages\\sklearn\\ensemble\\_weight_boosting.py\u001b[0m in \u001b[0;36mfit\u001b[1;34m(self, X, y, sample_weight)\u001b[0m\n\u001b[0;32m    128\u001b[0m         \u001b[1;32mfor\u001b[0m \u001b[0miboost\u001b[0m \u001b[1;32min\u001b[0m \u001b[0mrange\u001b[0m\u001b[1;33m(\u001b[0m\u001b[0mself\u001b[0m\u001b[1;33m.\u001b[0m\u001b[0mn_estimators\u001b[0m\u001b[1;33m)\u001b[0m\u001b[1;33m:\u001b[0m\u001b[1;33m\u001b[0m\u001b[1;33m\u001b[0m\u001b[0m\n\u001b[0;32m    129\u001b[0m             \u001b[1;31m# Boosting step\u001b[0m\u001b[1;33m\u001b[0m\u001b[1;33m\u001b[0m\u001b[0m\n\u001b[1;32m--> 130\u001b[1;33m             sample_weight, estimator_weight, estimator_error = self._boost(\n\u001b[0m\u001b[0;32m    131\u001b[0m                 \u001b[0miboost\u001b[0m\u001b[1;33m,\u001b[0m\u001b[1;33m\u001b[0m\u001b[1;33m\u001b[0m\u001b[0m\n\u001b[0;32m    132\u001b[0m                 \u001b[0mX\u001b[0m\u001b[1;33m,\u001b[0m \u001b[0my\u001b[0m\u001b[1;33m,\u001b[0m\u001b[1;33m\u001b[0m\u001b[1;33m\u001b[0m\u001b[0m\n",
      "\u001b[1;32mD:\\Programs\\lib\\site-packages\\sklearn\\ensemble\\_weight_boosting.py\u001b[0m in \u001b[0;36m_boost\u001b[1;34m(self, iboost, X, y, sample_weight, random_state)\u001b[0m\n\u001b[0;32m    501\u001b[0m         \"\"\"\n\u001b[0;32m    502\u001b[0m         \u001b[1;32mif\u001b[0m \u001b[0mself\u001b[0m\u001b[1;33m.\u001b[0m\u001b[0malgorithm\u001b[0m \u001b[1;33m==\u001b[0m \u001b[1;34m'SAMME.R'\u001b[0m\u001b[1;33m:\u001b[0m\u001b[1;33m\u001b[0m\u001b[1;33m\u001b[0m\u001b[0m\n\u001b[1;32m--> 503\u001b[1;33m             \u001b[1;32mreturn\u001b[0m \u001b[0mself\u001b[0m\u001b[1;33m.\u001b[0m\u001b[0m_boost_real\u001b[0m\u001b[1;33m(\u001b[0m\u001b[0miboost\u001b[0m\u001b[1;33m,\u001b[0m \u001b[0mX\u001b[0m\u001b[1;33m,\u001b[0m \u001b[0my\u001b[0m\u001b[1;33m,\u001b[0m \u001b[0msample_weight\u001b[0m\u001b[1;33m,\u001b[0m \u001b[0mrandom_state\u001b[0m\u001b[1;33m)\u001b[0m\u001b[1;33m\u001b[0m\u001b[1;33m\u001b[0m\u001b[0m\n\u001b[0m\u001b[0;32m    504\u001b[0m \u001b[1;33m\u001b[0m\u001b[0m\n\u001b[0;32m    505\u001b[0m         \u001b[1;32melse\u001b[0m\u001b[1;33m:\u001b[0m  \u001b[1;31m# elif self.algorithm == \"SAMME\":\u001b[0m\u001b[1;33m\u001b[0m\u001b[1;33m\u001b[0m\u001b[0m\n",
      "\u001b[1;32mD:\\Programs\\lib\\site-packages\\sklearn\\ensemble\\_weight_boosting.py\u001b[0m in \u001b[0;36m_boost_real\u001b[1;34m(self, iboost, X, y, sample_weight, random_state)\u001b[0m\n\u001b[0;32m    527\u001b[0m         \u001b[1;31m# Error fraction\u001b[0m\u001b[1;33m\u001b[0m\u001b[1;33m\u001b[0m\u001b[0m\n\u001b[0;32m    528\u001b[0m         estimator_error = np.mean(\n\u001b[1;32m--> 529\u001b[1;33m             np.average(incorrect, weights=sample_weight, axis=0))\n\u001b[0m\u001b[0;32m    530\u001b[0m \u001b[1;33m\u001b[0m\u001b[0m\n\u001b[0;32m    531\u001b[0m         \u001b[1;31m# Stop if classification is perfect\u001b[0m\u001b[1;33m\u001b[0m\u001b[1;33m\u001b[0m\u001b[0m\n",
      "\u001b[1;32m<__array_function__ internals>\u001b[0m in \u001b[0;36maverage\u001b[1;34m(*args, **kwargs)\u001b[0m\n",
      "\u001b[1;32mD:\\Programs\\lib\\site-packages\\numpy\\lib\\function_base.py\u001b[0m in \u001b[0;36maverage\u001b[1;34m(a, axis, weights, returned)\u001b[0m\n\u001b[0;32m    410\u001b[0m                 \"Weights sum to zero, can't be normalized\")\n\u001b[0;32m    411\u001b[0m \u001b[1;33m\u001b[0m\u001b[0m\n\u001b[1;32m--> 412\u001b[1;33m         \u001b[0mavg\u001b[0m \u001b[1;33m=\u001b[0m \u001b[0mnp\u001b[0m\u001b[1;33m.\u001b[0m\u001b[0mmultiply\u001b[0m\u001b[1;33m(\u001b[0m\u001b[0ma\u001b[0m\u001b[1;33m,\u001b[0m \u001b[0mwgt\u001b[0m\u001b[1;33m,\u001b[0m \u001b[0mdtype\u001b[0m\u001b[1;33m=\u001b[0m\u001b[0mresult_dtype\u001b[0m\u001b[1;33m)\u001b[0m\u001b[1;33m.\u001b[0m\u001b[0msum\u001b[0m\u001b[1;33m(\u001b[0m\u001b[0maxis\u001b[0m\u001b[1;33m)\u001b[0m\u001b[1;33m/\u001b[0m\u001b[0mscl\u001b[0m\u001b[1;33m\u001b[0m\u001b[1;33m\u001b[0m\u001b[0m\n\u001b[0m\u001b[0;32m    413\u001b[0m \u001b[1;33m\u001b[0m\u001b[0m\n\u001b[0;32m    414\u001b[0m     \u001b[1;32mif\u001b[0m \u001b[0mreturned\u001b[0m\u001b[1;33m:\u001b[0m\u001b[1;33m\u001b[0m\u001b[1;33m\u001b[0m\u001b[0m\n",
      "\u001b[1;31mKeyboardInterrupt\u001b[0m: "
     ]
    }
   ],
   "source": [
    "for s in lst_3:\n",
    " model=AdaBoostClassifier(n_estimators = s, random_state = 7)\n",
    " for i in lst_2:\n",
    "   kfold=KFold(n_splits=i,random_state=7,shuffle=True)\n",
    "   for j in lst_1:\n",
    "      test=SelectKBest(score_func=f_classif, k=j)\n",
    "      fit=test.fit(X,Y)\n",
    "      features=fit.transform(X)\n",
    "      results=cross_val_score(model, features, Y, cv=kfold)\n",
    "      res = results.mean()\n",
    "      k.append(res)\n",
    "      print(f'n_splits: {i} KBest: {j} {res}')\n",
    "   print(f'n_estimators = {s} n_splits = {i} max = {max(k)}')"
   ]
  },
  {
   "cell_type": "code",
   "execution_count": null,
   "id": "81646b72",
   "metadata": {},
   "outputs": [],
   "source": [
    "from sklearn.metrics import classification_report\n",
    "from sklearn.metrics import confusion_matrix\n",
    "x_new = XX[1000:1020]\n",
    "for s in lst_3:\n",
    " model=AdaBoostClassifier(n_estimators = s, random_state = 7)\n",
    " model.fit(X,Y)\n",
    " for j in x_new:\n",
    "      predictions = model.predict(XX)\n",
    "      print(confusion_matrix(YY, predictions))\n"
   ]
  },
  {
   "cell_type": "markdown",
   "id": "792c29cd",
   "metadata": {},
   "source": [
    "# **GrideSearchCV**"
   ]
  },
  {
   "cell_type": "code",
   "execution_count": 9,
   "id": "dd8e968c",
   "metadata": {},
   "outputs": [],
   "source": [
    "from sklearn.model_selection import GridSearchCV\n",
    "from sklearn import linear_model\n",
    "from sklearn.linear_model import LinearRegression\n",
    "from sklearn.neighbors import KNeighborsClassifier"
   ]
  },
  {
   "cell_type": "code",
   "execution_count": 10,
   "id": "2ec35d69",
   "metadata": {},
   "outputs": [],
   "source": [
    "X_train, X_test, Y_train, Y_test = train_test_split(X, Y, test_size=0.25, shuffle=True, random_state=7) "
   ]
  },
  {
   "cell_type": "code",
   "execution_count": 11,
   "id": "fa700e64",
   "metadata": {},
   "outputs": [],
   "source": [
    "clf = AdaBoostClassifier()"
   ]
  },
  {
   "cell_type": "code",
   "execution_count": 128,
   "id": "f0617c81",
   "metadata": {},
   "outputs": [],
   "source": [
    "params = {'n_estimators':range(10,200,25),'learning_rate':np.linspace(0,1,10)}"
   ]
  },
  {
   "cell_type": "code",
   "execution_count": 129,
   "id": "a38a4dab",
   "metadata": {},
   "outputs": [],
   "source": [
    "grid = GridSearchCV(clf, param_grid = params, cv=3,verbose=1,n_jobs=-1)"
   ]
  },
  {
   "cell_type": "code",
   "execution_count": 130,
   "id": "5ca47e0d",
   "metadata": {
    "collapsed": true
   },
   "outputs": [
    {
     "name": "stdout",
     "output_type": "stream",
     "text": [
      "Fitting 3 folds for each of 80 candidates, totalling 240 fits\n"
     ]
    },
    {
     "name": "stderr",
     "output_type": "stream",
     "text": [
      "D:\\Programs\\lib\\site-packages\\sklearn\\model_selection\\_search.py:922: UserWarning: One or more of the test scores are non-finite: [       nan        nan        nan        nan        nan        nan\n",
      "        nan        nan 0.46821951 0.48335214 0.48404639 0.47845883\n",
      " 0.47776294 0.47962677 0.47753082 0.48195468 0.47962628 0.47799344\n",
      " 0.48102309 0.48381671 0.48032444 0.47962547 0.48079031 0.47659858\n",
      " 0.48381704 0.47776294 0.48055721 0.48055803 0.47822833 0.47869388\n",
      " 0.47450247 0.47706364 0.47264255 0.4789273  0.4793922  0.47939285\n",
      " 0.47613401 0.47566716 0.47450328 0.4738048  0.48358345 0.48079162\n",
      " 0.47822687 0.47659874 0.47915845 0.47450215 0.47217505 0.46844935\n",
      " 0.47589961 0.47916105 0.47590156 0.48009134 0.47566765 0.47427051\n",
      " 0.47427083 0.4735717  0.47869437 0.47706641 0.48125473 0.47659858\n",
      " 0.48009118 0.47846013 0.47566781 0.47729625 0.47915829 0.48032379\n",
      " 0.47497062 0.47357202 0.47753017 0.47543389 0.47403757 0.4733386\n",
      " 0.47496607 0.47310582 0.47636662 0.47240994 0.47124509 0.47496981\n",
      " 0.47217456 0.47031123]\n",
      "  warnings.warn(\n"
     ]
    },
    {
     "data": {
      "text/plain": [
       "GridSearchCV(cv=3, estimator=AdaBoostClassifier(), n_jobs=-1,\n",
       "             param_grid={'learning_rate': array([0.        , 0.11111111, 0.22222222, 0.33333333, 0.44444444,\n",
       "       0.55555556, 0.66666667, 0.77777778, 0.88888889, 1.        ]),\n",
       "                         'n_estimators': range(10, 200, 25)},\n",
       "             verbose=1)"
      ]
     },
     "execution_count": 130,
     "metadata": {},
     "output_type": "execute_result"
    }
   ],
   "source": [
    "grid.fit(X_train,Y_train)"
   ]
  },
  {
   "cell_type": "code",
   "execution_count": 131,
   "id": "8f66e506",
   "metadata": {},
   "outputs": [
    {
     "name": "stdout",
     "output_type": "stream",
     "text": [
      "{'learning_rate': 0.1111111111111111, 'n_estimators': 60}\n",
      "AdaBoostClassifier(learning_rate=0.1111111111111111, n_estimators=60)\n"
     ]
    }
   ],
   "source": [
    "print(grid.best_params_)\n",
    "print(grid.best_estimator_)"
   ]
  },
  {
   "cell_type": "code",
   "execution_count": 132,
   "id": "f1888e46",
   "metadata": {},
   "outputs": [],
   "source": [
    "from sklearn.metrics import classification_report, confusion_matrix"
   ]
  },
  {
   "cell_type": "code",
   "execution_count": 133,
   "id": "452e1d46",
   "metadata": {},
   "outputs": [
    {
     "name": "stdout",
     "output_type": "stream",
     "text": [
      "              precision    recall  f1-score   support\n",
      "\n",
      "         1.0       0.45      0.49      0.47       351\n",
      "         2.0       0.42      0.25      0.32       347\n",
      "         3.0       0.50      0.61      0.55       361\n",
      "         4.0       0.60      0.64      0.62       373\n",
      "\n",
      "    accuracy                           0.50      1432\n",
      "   macro avg       0.49      0.50      0.49      1432\n",
      "weighted avg       0.49      0.50      0.49      1432\n",
      "\n"
     ]
    }
   ],
   "source": [
    "grid_predictions = grid.predict(X_test)\n",
    "print(classification_report(Y_test, grid_predictions))"
   ]
  },
  {
   "cell_type": "code",
   "execution_count": 134,
   "id": "dc608d2b",
   "metadata": {},
   "outputs": [
    {
     "name": "stdout",
     "output_type": "stream",
     "text": [
      "[[171  51  67  62]\n",
      " [ 78  88 139  42]\n",
      " [ 38  48 220  55]\n",
      " [ 97  23  14 239]]\n"
     ]
    }
   ],
   "source": [
    "print(confusion_matrix(Y_test, grid_predictions))"
   ]
  },
  {
   "cell_type": "code",
   "execution_count": null,
   "id": "67a47e3c",
   "metadata": {},
   "outputs": [],
   "source": [
    "================================================================================================================"
   ]
  },
  {
   "cell_type": "code",
   "execution_count": 140,
   "id": "f9ab744b",
   "metadata": {},
   "outputs": [],
   "source": [
    "model = AdaBoostClassifier()"
   ]
  },
  {
   "cell_type": "code",
   "execution_count": 141,
   "id": "651f6f90",
   "metadata": {},
   "outputs": [
    {
     "data": {
      "text/plain": [
       "AdaBoostClassifier()"
      ]
     },
     "execution_count": 141,
     "metadata": {},
     "output_type": "execute_result"
    }
   ],
   "source": [
    "model.fit(X_train,Y_train)"
   ]
  },
  {
   "cell_type": "code",
   "execution_count": 142,
   "id": "8bc76cdc",
   "metadata": {},
   "outputs": [],
   "source": [
    "new_predictions = model.predict(X_test)"
   ]
  },
  {
   "cell_type": "code",
   "execution_count": 143,
   "id": "a9d6f551",
   "metadata": {},
   "outputs": [
    {
     "name": "stdout",
     "output_type": "stream",
     "text": [
      "              precision    recall  f1-score   support\n",
      "\n",
      "         1.0       0.42      0.44      0.43       351\n",
      "         2.0       0.40      0.36      0.38       347\n",
      "         3.0       0.49      0.49      0.49       361\n",
      "         4.0       0.61      0.64      0.62       373\n",
      "\n",
      "    accuracy                           0.48      1432\n",
      "   macro avg       0.48      0.48      0.48      1432\n",
      "weighted avg       0.48      0.48      0.48      1432\n",
      "\n",
      "[[153  80  58  60]\n",
      " [ 79 125 106  37]\n",
      " [ 46  81 178  56]\n",
      " [ 90  24  22 237]]\n"
     ]
    }
   ],
   "source": [
    "print(classification_report(Y_test, new_predictions))\n",
    "print(confusion_matrix(Y_test, new_predictions))"
   ]
  },
  {
   "cell_type": "code",
   "execution_count": null,
   "id": "bde45587",
   "metadata": {},
   "outputs": [],
   "source": [
    "================================================================================================================"
   ]
  },
  {
   "cell_type": "code",
   "execution_count": 144,
   "id": "545c8f0a",
   "metadata": {},
   "outputs": [
    {
     "data": {
      "text/plain": [
       "0.4857691636109656"
      ]
     },
     "execution_count": 144,
     "metadata": {},
     "output_type": "execute_result"
    }
   ],
   "source": [
    "kfold=KFold(n_splits=3,random_state=7,shuffle=True)\n",
    "results=cross_val_score(model, X, Y, cv=3)\n",
    "results.mean()"
   ]
  },
  {
   "cell_type": "code",
   "execution_count": null,
   "id": "ca397dd4",
   "metadata": {},
   "outputs": [],
   "source": []
  },
  {
   "cell_type": "markdown",
   "id": "cdf131b1",
   "metadata": {},
   "source": [
    "# **GradientBoostingClassifier**"
   ]
  },
  {
   "cell_type": "markdown",
   "id": "792c29cd",
   "metadata": {},
   "source": [
    "**GrideSearchCV**"
   ]
  },
  {
   "cell_type": "code",
   "execution_count": 9,
   "id": "dd8e968c",
   "metadata": {},
   "outputs": [],
   "source": [
    "from sklearn.model_selection import GridSearchCV\n",
    "from sklearn import linear_model\n",
    "from sklearn.linear_model import LinearRegression\n",
    "from sklearn.neighbors import KNeighborsClassifier"
   ]
  },
  {
   "cell_type": "code",
   "execution_count": 10,
   "id": "2ec35d69",
   "metadata": {},
   "outputs": [],
   "source": [
    "X_train, X_test, Y_train, Y_test = train_test_split(X, Y, test_size=0.25, shuffle=True, random_state=7) "
   ]
  },
  {
   "cell_type": "code",
   "execution_count": 11,
   "id": "fa700e64",
   "metadata": {},
   "outputs": [],
   "source": [
    "clf = GradientBoostingClassifier()"
   ]
  },
  {
   "cell_type": "code",
   "execution_count": 15,
   "id": "f0617c81",
   "metadata": {},
   "outputs": [],
   "source": [
    "params = {\n",
    "            \"loss\":[\"deviance\"],\n",
    "            \"learning_rate\": [0.01,  0.05,  0.1,  0.2],\n",
    "            \"min_samples_split\": np.linspace(0.1, 0.5, 6),\n",
    "            \"min_samples_leaf\": np.linspace(0.1, 0.5, 6),\n",
    "            \"max_depth\":[3,5,8],\n",
    "            \"max_features\":[\"log2\",\"sqrt\"],\n",
    "            \"criterion\": [\"friedman_mse\",  \"mae\"],\n",
    "            \"subsample\":[0.5,  0.8,  0.9,  1.0],\n",
    "            \"n_estimators\":[10]\n",
    "            }"
   ]
  },
  {
   "cell_type": "code",
   "execution_count": 16,
   "id": "a38a4dab",
   "metadata": {},
   "outputs": [],
   "source": [
    "grid = GridSearchCV(clf, param_grid = params, cv=3,verbose=1,n_jobs=-1)"
   ]
  },
  {
   "cell_type": "code",
   "execution_count": 17,
   "id": "5ca47e0d",
   "metadata": {},
   "outputs": [
    {
     "name": "stdout",
     "output_type": "stream",
     "text": [
      "Fitting 3 folds for each of 6912 candidates, totalling 20736 fits\n"
     ]
    },
    {
     "data": {
      "text/plain": [
       "GridSearchCV(cv=3, estimator=GradientBoostingClassifier(), n_jobs=-1,\n",
       "             param_grid={'criterion': ['friedman_mse', 'mae'],\n",
       "                         'learning_rate': [0.01, 0.05, 0.1, 0.2],\n",
       "                         'loss': ['deviance'], 'max_depth': [3, 5, 8],\n",
       "                         'max_features': ['log2', 'sqrt'],\n",
       "                         'min_samples_leaf': array([0.1 , 0.18, 0.26, 0.34, 0.42, 0.5 ]),\n",
       "                         'min_samples_split': array([0.1 , 0.18, 0.26, 0.34, 0.42, 0.5 ]),\n",
       "                         'n_estimators': [10],\n",
       "                         'subsample': [0.5, 0.8, 0.9, 1.0]},\n",
       "             verbose=1)"
      ]
     },
     "execution_count": 17,
     "metadata": {},
     "output_type": "execute_result"
    }
   ],
   "source": [
    "grid.fit(X_train,Y_train)"
   ]
  },
  {
   "cell_type": "code",
   "execution_count": 18,
   "id": "8f66e506",
   "metadata": {},
   "outputs": [
    {
     "name": "stdout",
     "output_type": "stream",
     "text": [
      "{'criterion': 'friedman_mse', 'learning_rate': 0.2, 'loss': 'deviance', 'max_depth': 5, 'max_features': 'log2', 'min_samples_leaf': 0.1, 'min_samples_split': 0.1, 'n_estimators': 10, 'subsample': 1.0}\n",
      "GradientBoostingClassifier(learning_rate=0.2, max_depth=5, max_features='log2',\n",
      "                           min_samples_leaf=0.1, min_samples_split=0.1,\n",
      "                           n_estimators=10)\n"
     ]
    }
   ],
   "source": [
    "print(grid.best_params_)\n",
    "print(grid.best_estimator_)"
   ]
  },
  {
   "cell_type": "code",
   "execution_count": 19,
   "id": "f1888e46",
   "metadata": {},
   "outputs": [],
   "source": [
    "from sklearn.metrics import classification_report, confusion_matrix"
   ]
  },
  {
   "cell_type": "code",
   "execution_count": 20,
   "id": "452e1d46",
   "metadata": {},
   "outputs": [
    {
     "name": "stdout",
     "output_type": "stream",
     "text": [
      "              precision    recall  f1-score   support\n",
      "\n",
      "         1.0       0.48      0.47      0.48       351\n",
      "         2.0       0.41      0.36      0.38       347\n",
      "         3.0       0.54      0.53      0.54       361\n",
      "         4.0       0.60      0.70      0.64       373\n",
      "\n",
      "    accuracy                           0.52      1432\n",
      "   macro avg       0.51      0.51      0.51      1432\n",
      "weighted avg       0.51      0.52      0.51      1432\n",
      "\n"
     ]
    }
   ],
   "source": [
    "grid_predictions = grid.predict(X_test)\n",
    "print(classification_report(Y_test, grid_predictions))"
   ]
  },
  {
   "cell_type": "code",
   "execution_count": 21,
   "id": "dc608d2b",
   "metadata": {},
   "outputs": [
    {
     "name": "stdout",
     "output_type": "stream",
     "text": [
      "[[166  69  45  71]\n",
      " [ 73 124 106  44]\n",
      " [ 35  73 191  62]\n",
      " [ 69  34   9 261]]\n"
     ]
    }
   ],
   "source": [
    "print(confusion_matrix(Y_test, grid_predictions))"
   ]
  },
  {
   "cell_type": "code",
   "execution_count": null,
   "id": "67a47e3c",
   "metadata": {},
   "outputs": [],
   "source": [
    "================================================================================================================"
   ]
  },
  {
   "cell_type": "code",
   "execution_count": 23,
   "id": "f9ab744b",
   "metadata": {},
   "outputs": [],
   "source": [
    "model = GradientBoostingClassifier(learning_rate=0.2, max_depth=5, max_features='log2',\n",
    "                           min_samples_leaf=0.1, min_samples_split=0.1,\n",
    "                           n_estimators=10)"
   ]
  },
  {
   "cell_type": "code",
   "execution_count": 28,
   "id": "74d8e4be",
   "metadata": {},
   "outputs": [],
   "source": [
    "model = GradientBoostingClassifier()"
   ]
  },
  {
   "cell_type": "code",
   "execution_count": 29,
   "id": "651f6f90",
   "metadata": {},
   "outputs": [
    {
     "data": {
      "text/plain": [
       "GradientBoostingClassifier()"
      ]
     },
     "execution_count": 29,
     "metadata": {},
     "output_type": "execute_result"
    }
   ],
   "source": [
    "model.fit(X_train,Y_train)"
   ]
  },
  {
   "cell_type": "code",
   "execution_count": 30,
   "id": "8bc76cdc",
   "metadata": {},
   "outputs": [],
   "source": [
    "new_predictions = model.predict(X_test)"
   ]
  },
  {
   "cell_type": "code",
   "execution_count": 31,
   "id": "a9d6f551",
   "metadata": {},
   "outputs": [
    {
     "name": "stdout",
     "output_type": "stream",
     "text": [
      "              precision    recall  f1-score   support\n",
      "\n",
      "         1.0       0.46      0.45      0.45       351\n",
      "         2.0       0.41      0.38      0.39       347\n",
      "         3.0       0.56      0.53      0.55       361\n",
      "         4.0       0.60      0.69      0.64       373\n",
      "\n",
      "    accuracy                           0.51      1432\n",
      "   macro avg       0.51      0.51      0.51      1432\n",
      "weighted avg       0.51      0.51      0.51      1432\n",
      "\n",
      "[[157  83  40  71]\n",
      " [ 75 131  96  45]\n",
      " [ 38  73 193  57]\n",
      " [ 70  30  17 256]]\n"
     ]
    }
   ],
   "source": [
    "print(classification_report(Y_test, new_predictions))\n",
    "print(confusion_matrix(Y_test, new_predictions))"
   ]
  },
  {
   "cell_type": "code",
   "execution_count": null,
   "id": "bde45587",
   "metadata": {},
   "outputs": [],
   "source": [
    "================================================================================================================"
   ]
  },
  {
   "cell_type": "code",
   "execution_count": 32,
   "id": "545c8f0a",
   "metadata": {},
   "outputs": [
    {
     "data": {
      "text/plain": [
       "0.5128339444735462"
      ]
     },
     "execution_count": 32,
     "metadata": {},
     "output_type": "execute_result"
    }
   ],
   "source": [
    "kfold=KFold(n_splits=3,random_state=7,shuffle=True)\n",
    "results=cross_val_score(model, X, Y, cv=3)\n",
    "results.mean()"
   ]
  },
  {
   "cell_type": "code",
   "execution_count": 1,
   "id": "e7c30f9e",
   "metadata": {},
   "outputs": [
    {
     "data": {
      "text/plain": [
       "-4"
      ]
     },
     "execution_count": 1,
     "metadata": {},
     "output_type": "execute_result"
    }
   ],
   "source": [
    "(-2**2)"
   ]
  },
  {
   "cell_type": "code",
   "execution_count": null,
   "id": "e3f4d900",
   "metadata": {},
   "outputs": [],
   "source": []
  },
  {
   "cell_type": "code",
   "execution_count": null,
   "id": "0459eef4",
   "metadata": {},
   "outputs": [],
   "source": []
  },
  {
   "cell_type": "markdown",
   "id": "ec47a9f7",
   "metadata": {},
   "source": [
    "# **XGBClassifier**"
   ]
  },
  {
   "cell_type": "markdown",
   "id": "792c29cd",
   "metadata": {},
   "source": [
    "**GrideSearchCV**"
   ]
  },
  {
   "cell_type": "code",
   "execution_count": 9,
   "id": "dd8e968c",
   "metadata": {},
   "outputs": [],
   "source": [
    "from sklearn.model_selection import GridSearchCV\n",
    "from sklearn import linear_model\n",
    "from sklearn.linear_model import LinearRegression\n",
    "from sklearn.neighbors import KNeighborsClassifier"
   ]
  },
  {
   "cell_type": "code",
   "execution_count": 10,
   "id": "2ec35d69",
   "metadata": {},
   "outputs": [],
   "source": [
    "X_train, X_test, Y_train, Y_test = train_test_split(X, Y, test_size=0.25, shuffle=True, random_state=7) "
   ]
  },
  {
   "cell_type": "code",
   "execution_count": 11,
   "id": "fa700e64",
   "metadata": {},
   "outputs": [],
   "source": [
    "clf = XGBClassifier()"
   ]
  },
  {
   "cell_type": "code",
   "execution_count": 17,
   "id": "f0617c81",
   "metadata": {},
   "outputs": [],
   "source": [
    "params = {\n",
    "            'max_depth': [3, 4, 5],\n",
    "            'learning_rate': [0.1, 0.2, 0.3],\n",
    "            'n_estimators': [50, 100, 150],\n",
    "            'gamma': [0, 0.1, 0.2],\n",
    "            'min_child_weight': [0, 0.5, 1],\n",
    "            'max_delta_step': [0],\n",
    "            'subsample': [0.7, 0.8, 0.9, 1],\n",
    "            'colsample_bytree': [0.6, 0.8, 1],\n",
    "            'colsample_bylevel': [1],\n",
    "            'reg_alpha': [0,  1, 10],\n",
    "            'reg_lambda': [0, 0.01, 1],\n",
    "            'base_score': [0.5]\n",
    "            }"
   ]
  },
  {
   "cell_type": "code",
   "execution_count": 20,
   "id": "8fb9b3f3",
   "metadata": {},
   "outputs": [],
   "source": [
    "params = {\n",
    "            'max_depth': [3, 5],\n",
    "            'learning_rate': [0.1, 0.3],\n",
    "            'n_estimators': [50, 1150],\n",
    "            'gamma': [0.1, 0.2],\n",
    "            'min_child_weight': [0.5, 1],\n",
    "            'max_delta_step': [0],\n",
    "            'subsample': [0.7,  1],\n",
    "            'colsample_bytree': [0.6,  1],\n",
    "            'colsample_bylevel': [1],\n",
    "            'reg_alpha': [0,  1, 10],\n",
    "            'reg_lambda': [0.01, 1],\n",
    "            'base_score': [0.5]\n",
    "            }"
   ]
  },
  {
   "cell_type": "code",
   "execution_count": 21,
   "id": "a38a4dab",
   "metadata": {},
   "outputs": [],
   "source": [
    "grid = GridSearchCV(clf, param_grid = params, cv=3,verbose=1,n_jobs=-1)"
   ]
  },
  {
   "cell_type": "code",
   "execution_count": 22,
   "id": "5ca47e0d",
   "metadata": {
    "collapsed": true
   },
   "outputs": [
    {
     "name": "stdout",
     "output_type": "stream",
     "text": [
      "Fitting 3 folds for each of 768 candidates, totalling 2304 fits\n"
     ]
    },
    {
     "ename": "KeyboardInterrupt",
     "evalue": "",
     "output_type": "error",
     "traceback": [
      "\u001b[1;31m---------------------------------------------------------------------------\u001b[0m",
      "\u001b[1;31mKeyboardInterrupt\u001b[0m                         Traceback (most recent call last)",
      "\u001b[1;32mC:\\Users\\D9F8~1\\AppData\\Local\\Temp/ipykernel_1848/4064381900.py\u001b[0m in \u001b[0;36m<module>\u001b[1;34m\u001b[0m\n\u001b[1;32m----> 1\u001b[1;33m \u001b[0mgrid\u001b[0m\u001b[1;33m.\u001b[0m\u001b[0mfit\u001b[0m\u001b[1;33m(\u001b[0m\u001b[0mX_train\u001b[0m\u001b[1;33m,\u001b[0m\u001b[0mY_train\u001b[0m\u001b[1;33m)\u001b[0m\u001b[1;33m\u001b[0m\u001b[1;33m\u001b[0m\u001b[0m\n\u001b[0m",
      "\u001b[1;32mD:\\Programs\\lib\\site-packages\\sklearn\\utils\\validation.py\u001b[0m in \u001b[0;36minner_f\u001b[1;34m(*args, **kwargs)\u001b[0m\n\u001b[0;32m     61\u001b[0m             \u001b[0mextra_args\u001b[0m \u001b[1;33m=\u001b[0m \u001b[0mlen\u001b[0m\u001b[1;33m(\u001b[0m\u001b[0margs\u001b[0m\u001b[1;33m)\u001b[0m \u001b[1;33m-\u001b[0m \u001b[0mlen\u001b[0m\u001b[1;33m(\u001b[0m\u001b[0mall_args\u001b[0m\u001b[1;33m)\u001b[0m\u001b[1;33m\u001b[0m\u001b[1;33m\u001b[0m\u001b[0m\n\u001b[0;32m     62\u001b[0m             \u001b[1;32mif\u001b[0m \u001b[0mextra_args\u001b[0m \u001b[1;33m<=\u001b[0m \u001b[1;36m0\u001b[0m\u001b[1;33m:\u001b[0m\u001b[1;33m\u001b[0m\u001b[1;33m\u001b[0m\u001b[0m\n\u001b[1;32m---> 63\u001b[1;33m                 \u001b[1;32mreturn\u001b[0m \u001b[0mf\u001b[0m\u001b[1;33m(\u001b[0m\u001b[1;33m*\u001b[0m\u001b[0margs\u001b[0m\u001b[1;33m,\u001b[0m \u001b[1;33m**\u001b[0m\u001b[0mkwargs\u001b[0m\u001b[1;33m)\u001b[0m\u001b[1;33m\u001b[0m\u001b[1;33m\u001b[0m\u001b[0m\n\u001b[0m\u001b[0;32m     64\u001b[0m \u001b[1;33m\u001b[0m\u001b[0m\n\u001b[0;32m     65\u001b[0m             \u001b[1;31m# extra_args > 0\u001b[0m\u001b[1;33m\u001b[0m\u001b[1;33m\u001b[0m\u001b[0m\n",
      "\u001b[1;32mD:\\Programs\\lib\\site-packages\\sklearn\\model_selection\\_search.py\u001b[0m in \u001b[0;36mfit\u001b[1;34m(self, X, y, groups, **fit_params)\u001b[0m\n\u001b[0;32m    839\u001b[0m                 \u001b[1;32mreturn\u001b[0m \u001b[0mresults\u001b[0m\u001b[1;33m\u001b[0m\u001b[1;33m\u001b[0m\u001b[0m\n\u001b[0;32m    840\u001b[0m \u001b[1;33m\u001b[0m\u001b[0m\n\u001b[1;32m--> 841\u001b[1;33m             \u001b[0mself\u001b[0m\u001b[1;33m.\u001b[0m\u001b[0m_run_search\u001b[0m\u001b[1;33m(\u001b[0m\u001b[0mevaluate_candidates\u001b[0m\u001b[1;33m)\u001b[0m\u001b[1;33m\u001b[0m\u001b[1;33m\u001b[0m\u001b[0m\n\u001b[0m\u001b[0;32m    842\u001b[0m \u001b[1;33m\u001b[0m\u001b[0m\n\u001b[0;32m    843\u001b[0m             \u001b[1;31m# multimetric is determined here because in the case of a callable\u001b[0m\u001b[1;33m\u001b[0m\u001b[1;33m\u001b[0m\u001b[0m\n",
      "\u001b[1;32mD:\\Programs\\lib\\site-packages\\sklearn\\model_selection\\_search.py\u001b[0m in \u001b[0;36m_run_search\u001b[1;34m(self, evaluate_candidates)\u001b[0m\n\u001b[0;32m   1294\u001b[0m     \u001b[1;32mdef\u001b[0m \u001b[0m_run_search\u001b[0m\u001b[1;33m(\u001b[0m\u001b[0mself\u001b[0m\u001b[1;33m,\u001b[0m \u001b[0mevaluate_candidates\u001b[0m\u001b[1;33m)\u001b[0m\u001b[1;33m:\u001b[0m\u001b[1;33m\u001b[0m\u001b[1;33m\u001b[0m\u001b[0m\n\u001b[0;32m   1295\u001b[0m         \u001b[1;34m\"\"\"Search all candidates in param_grid\"\"\"\u001b[0m\u001b[1;33m\u001b[0m\u001b[1;33m\u001b[0m\u001b[0m\n\u001b[1;32m-> 1296\u001b[1;33m         \u001b[0mevaluate_candidates\u001b[0m\u001b[1;33m(\u001b[0m\u001b[0mParameterGrid\u001b[0m\u001b[1;33m(\u001b[0m\u001b[0mself\u001b[0m\u001b[1;33m.\u001b[0m\u001b[0mparam_grid\u001b[0m\u001b[1;33m)\u001b[0m\u001b[1;33m)\u001b[0m\u001b[1;33m\u001b[0m\u001b[1;33m\u001b[0m\u001b[0m\n\u001b[0m\u001b[0;32m   1297\u001b[0m \u001b[1;33m\u001b[0m\u001b[0m\n\u001b[0;32m   1298\u001b[0m \u001b[1;33m\u001b[0m\u001b[0m\n",
      "\u001b[1;32mD:\\Programs\\lib\\site-packages\\sklearn\\model_selection\\_search.py\u001b[0m in \u001b[0;36mevaluate_candidates\u001b[1;34m(candidate_params, cv, more_results)\u001b[0m\n\u001b[0;32m    793\u001b[0m                               n_splits, n_candidates, n_candidates * n_splits))\n\u001b[0;32m    794\u001b[0m \u001b[1;33m\u001b[0m\u001b[0m\n\u001b[1;32m--> 795\u001b[1;33m                 out = parallel(delayed(_fit_and_score)(clone(base_estimator),\n\u001b[0m\u001b[0;32m    796\u001b[0m                                                        \u001b[0mX\u001b[0m\u001b[1;33m,\u001b[0m \u001b[0my\u001b[0m\u001b[1;33m,\u001b[0m\u001b[1;33m\u001b[0m\u001b[1;33m\u001b[0m\u001b[0m\n\u001b[0;32m    797\u001b[0m                                                        \u001b[0mtrain\u001b[0m\u001b[1;33m=\u001b[0m\u001b[0mtrain\u001b[0m\u001b[1;33m,\u001b[0m \u001b[0mtest\u001b[0m\u001b[1;33m=\u001b[0m\u001b[0mtest\u001b[0m\u001b[1;33m,\u001b[0m\u001b[1;33m\u001b[0m\u001b[1;33m\u001b[0m\u001b[0m\n",
      "\u001b[1;32mD:\\Programs\\lib\\site-packages\\joblib\\parallel.py\u001b[0m in \u001b[0;36m__call__\u001b[1;34m(self, iterable)\u001b[0m\n\u001b[0;32m   1054\u001b[0m \u001b[1;33m\u001b[0m\u001b[0m\n\u001b[0;32m   1055\u001b[0m             \u001b[1;32mwith\u001b[0m \u001b[0mself\u001b[0m\u001b[1;33m.\u001b[0m\u001b[0m_backend\u001b[0m\u001b[1;33m.\u001b[0m\u001b[0mretrieval_context\u001b[0m\u001b[1;33m(\u001b[0m\u001b[1;33m)\u001b[0m\u001b[1;33m:\u001b[0m\u001b[1;33m\u001b[0m\u001b[1;33m\u001b[0m\u001b[0m\n\u001b[1;32m-> 1056\u001b[1;33m                 \u001b[0mself\u001b[0m\u001b[1;33m.\u001b[0m\u001b[0mretrieve\u001b[0m\u001b[1;33m(\u001b[0m\u001b[1;33m)\u001b[0m\u001b[1;33m\u001b[0m\u001b[1;33m\u001b[0m\u001b[0m\n\u001b[0m\u001b[0;32m   1057\u001b[0m             \u001b[1;31m# Make sure that we get a last message telling us we are done\u001b[0m\u001b[1;33m\u001b[0m\u001b[1;33m\u001b[0m\u001b[0m\n\u001b[0;32m   1058\u001b[0m             \u001b[0melapsed_time\u001b[0m \u001b[1;33m=\u001b[0m \u001b[0mtime\u001b[0m\u001b[1;33m.\u001b[0m\u001b[0mtime\u001b[0m\u001b[1;33m(\u001b[0m\u001b[1;33m)\u001b[0m \u001b[1;33m-\u001b[0m \u001b[0mself\u001b[0m\u001b[1;33m.\u001b[0m\u001b[0m_start_time\u001b[0m\u001b[1;33m\u001b[0m\u001b[1;33m\u001b[0m\u001b[0m\n",
      "\u001b[1;32mD:\\Programs\\lib\\site-packages\\joblib\\parallel.py\u001b[0m in \u001b[0;36mretrieve\u001b[1;34m(self)\u001b[0m\n\u001b[0;32m    933\u001b[0m             \u001b[1;32mtry\u001b[0m\u001b[1;33m:\u001b[0m\u001b[1;33m\u001b[0m\u001b[1;33m\u001b[0m\u001b[0m\n\u001b[0;32m    934\u001b[0m                 \u001b[1;32mif\u001b[0m \u001b[0mgetattr\u001b[0m\u001b[1;33m(\u001b[0m\u001b[0mself\u001b[0m\u001b[1;33m.\u001b[0m\u001b[0m_backend\u001b[0m\u001b[1;33m,\u001b[0m \u001b[1;34m'supports_timeout'\u001b[0m\u001b[1;33m,\u001b[0m \u001b[1;32mFalse\u001b[0m\u001b[1;33m)\u001b[0m\u001b[1;33m:\u001b[0m\u001b[1;33m\u001b[0m\u001b[1;33m\u001b[0m\u001b[0m\n\u001b[1;32m--> 935\u001b[1;33m                     \u001b[0mself\u001b[0m\u001b[1;33m.\u001b[0m\u001b[0m_output\u001b[0m\u001b[1;33m.\u001b[0m\u001b[0mextend\u001b[0m\u001b[1;33m(\u001b[0m\u001b[0mjob\u001b[0m\u001b[1;33m.\u001b[0m\u001b[0mget\u001b[0m\u001b[1;33m(\u001b[0m\u001b[0mtimeout\u001b[0m\u001b[1;33m=\u001b[0m\u001b[0mself\u001b[0m\u001b[1;33m.\u001b[0m\u001b[0mtimeout\u001b[0m\u001b[1;33m)\u001b[0m\u001b[1;33m)\u001b[0m\u001b[1;33m\u001b[0m\u001b[1;33m\u001b[0m\u001b[0m\n\u001b[0m\u001b[0;32m    936\u001b[0m                 \u001b[1;32melse\u001b[0m\u001b[1;33m:\u001b[0m\u001b[1;33m\u001b[0m\u001b[1;33m\u001b[0m\u001b[0m\n\u001b[0;32m    937\u001b[0m                     \u001b[0mself\u001b[0m\u001b[1;33m.\u001b[0m\u001b[0m_output\u001b[0m\u001b[1;33m.\u001b[0m\u001b[0mextend\u001b[0m\u001b[1;33m(\u001b[0m\u001b[0mjob\u001b[0m\u001b[1;33m.\u001b[0m\u001b[0mget\u001b[0m\u001b[1;33m(\u001b[0m\u001b[1;33m)\u001b[0m\u001b[1;33m)\u001b[0m\u001b[1;33m\u001b[0m\u001b[1;33m\u001b[0m\u001b[0m\n",
      "\u001b[1;32mD:\\Programs\\lib\\site-packages\\joblib\\_parallel_backends.py\u001b[0m in \u001b[0;36mwrap_future_result\u001b[1;34m(future, timeout)\u001b[0m\n\u001b[0;32m    540\u001b[0m         AsyncResults.get from multiprocessing.\"\"\"\n\u001b[0;32m    541\u001b[0m         \u001b[1;32mtry\u001b[0m\u001b[1;33m:\u001b[0m\u001b[1;33m\u001b[0m\u001b[1;33m\u001b[0m\u001b[0m\n\u001b[1;32m--> 542\u001b[1;33m             \u001b[1;32mreturn\u001b[0m \u001b[0mfuture\u001b[0m\u001b[1;33m.\u001b[0m\u001b[0mresult\u001b[0m\u001b[1;33m(\u001b[0m\u001b[0mtimeout\u001b[0m\u001b[1;33m=\u001b[0m\u001b[0mtimeout\u001b[0m\u001b[1;33m)\u001b[0m\u001b[1;33m\u001b[0m\u001b[1;33m\u001b[0m\u001b[0m\n\u001b[0m\u001b[0;32m    543\u001b[0m         \u001b[1;32mexcept\u001b[0m \u001b[0mCfTimeoutError\u001b[0m \u001b[1;32mas\u001b[0m \u001b[0me\u001b[0m\u001b[1;33m:\u001b[0m\u001b[1;33m\u001b[0m\u001b[1;33m\u001b[0m\u001b[0m\n\u001b[0;32m    544\u001b[0m             \u001b[1;32mraise\u001b[0m \u001b[0mTimeoutError\u001b[0m \u001b[1;32mfrom\u001b[0m \u001b[0me\u001b[0m\u001b[1;33m\u001b[0m\u001b[1;33m\u001b[0m\u001b[0m\n",
      "\u001b[1;32mD:\\Programs\\lib\\concurrent\\futures\\_base.py\u001b[0m in \u001b[0;36mresult\u001b[1;34m(self, timeout)\u001b[0m\n\u001b[0;32m    438\u001b[0m                     \u001b[1;32mreturn\u001b[0m \u001b[0mself\u001b[0m\u001b[1;33m.\u001b[0m\u001b[0m__get_result\u001b[0m\u001b[1;33m(\u001b[0m\u001b[1;33m)\u001b[0m\u001b[1;33m\u001b[0m\u001b[1;33m\u001b[0m\u001b[0m\n\u001b[0;32m    439\u001b[0m \u001b[1;33m\u001b[0m\u001b[0m\n\u001b[1;32m--> 440\u001b[1;33m                 \u001b[0mself\u001b[0m\u001b[1;33m.\u001b[0m\u001b[0m_condition\u001b[0m\u001b[1;33m.\u001b[0m\u001b[0mwait\u001b[0m\u001b[1;33m(\u001b[0m\u001b[0mtimeout\u001b[0m\u001b[1;33m)\u001b[0m\u001b[1;33m\u001b[0m\u001b[1;33m\u001b[0m\u001b[0m\n\u001b[0m\u001b[0;32m    441\u001b[0m \u001b[1;33m\u001b[0m\u001b[0m\n\u001b[0;32m    442\u001b[0m                 \u001b[1;32mif\u001b[0m \u001b[0mself\u001b[0m\u001b[1;33m.\u001b[0m\u001b[0m_state\u001b[0m \u001b[1;32min\u001b[0m \u001b[1;33m[\u001b[0m\u001b[0mCANCELLED\u001b[0m\u001b[1;33m,\u001b[0m \u001b[0mCANCELLED_AND_NOTIFIED\u001b[0m\u001b[1;33m]\u001b[0m\u001b[1;33m:\u001b[0m\u001b[1;33m\u001b[0m\u001b[1;33m\u001b[0m\u001b[0m\n",
      "\u001b[1;32mD:\\Programs\\lib\\threading.py\u001b[0m in \u001b[0;36mwait\u001b[1;34m(self, timeout)\u001b[0m\n\u001b[0;32m    310\u001b[0m         \u001b[1;32mtry\u001b[0m\u001b[1;33m:\u001b[0m    \u001b[1;31m# restore state no matter what (e.g., KeyboardInterrupt)\u001b[0m\u001b[1;33m\u001b[0m\u001b[1;33m\u001b[0m\u001b[0m\n\u001b[0;32m    311\u001b[0m             \u001b[1;32mif\u001b[0m \u001b[0mtimeout\u001b[0m \u001b[1;32mis\u001b[0m \u001b[1;32mNone\u001b[0m\u001b[1;33m:\u001b[0m\u001b[1;33m\u001b[0m\u001b[1;33m\u001b[0m\u001b[0m\n\u001b[1;32m--> 312\u001b[1;33m                 \u001b[0mwaiter\u001b[0m\u001b[1;33m.\u001b[0m\u001b[0macquire\u001b[0m\u001b[1;33m(\u001b[0m\u001b[1;33m)\u001b[0m\u001b[1;33m\u001b[0m\u001b[1;33m\u001b[0m\u001b[0m\n\u001b[0m\u001b[0;32m    313\u001b[0m                 \u001b[0mgotit\u001b[0m \u001b[1;33m=\u001b[0m \u001b[1;32mTrue\u001b[0m\u001b[1;33m\u001b[0m\u001b[1;33m\u001b[0m\u001b[0m\n\u001b[0;32m    314\u001b[0m             \u001b[1;32melse\u001b[0m\u001b[1;33m:\u001b[0m\u001b[1;33m\u001b[0m\u001b[1;33m\u001b[0m\u001b[0m\n",
      "\u001b[1;31mKeyboardInterrupt\u001b[0m: "
     ]
    }
   ],
   "source": [
    "grid.fit(X_train,Y_train)"
   ]
  },
  {
   "cell_type": "code",
   "execution_count": 18,
   "id": "8f66e506",
   "metadata": {},
   "outputs": [
    {
     "name": "stdout",
     "output_type": "stream",
     "text": [
      "{'criterion': 'friedman_mse', 'learning_rate': 0.2, 'loss': 'deviance', 'max_depth': 5, 'max_features': 'log2', 'min_samples_leaf': 0.1, 'min_samples_split': 0.1, 'n_estimators': 10, 'subsample': 1.0}\n",
      "GradientBoostingClassifier(learning_rate=0.2, max_depth=5, max_features='log2',\n",
      "                           min_samples_leaf=0.1, min_samples_split=0.1,\n",
      "                           n_estimators=10)\n"
     ]
    }
   ],
   "source": [
    "print(grid.best_params_)\n",
    "print(grid.best_estimator_)"
   ]
  },
  {
   "cell_type": "code",
   "execution_count": 31,
   "id": "f1888e46",
   "metadata": {},
   "outputs": [],
   "source": [
    "from sklearn.metrics import classification_report, confusion_matrix"
   ]
  },
  {
   "cell_type": "code",
   "execution_count": 20,
   "id": "452e1d46",
   "metadata": {},
   "outputs": [
    {
     "name": "stdout",
     "output_type": "stream",
     "text": [
      "              precision    recall  f1-score   support\n",
      "\n",
      "         1.0       0.48      0.47      0.48       351\n",
      "         2.0       0.41      0.36      0.38       347\n",
      "         3.0       0.54      0.53      0.54       361\n",
      "         4.0       0.60      0.70      0.64       373\n",
      "\n",
      "    accuracy                           0.52      1432\n",
      "   macro avg       0.51      0.51      0.51      1432\n",
      "weighted avg       0.51      0.52      0.51      1432\n",
      "\n"
     ]
    }
   ],
   "source": [
    "grid_predictions = grid.predict(X_test)\n",
    "print(classification_report(Y_test, grid_predictions))"
   ]
  },
  {
   "cell_type": "code",
   "execution_count": 21,
   "id": "dc608d2b",
   "metadata": {},
   "outputs": [
    {
     "name": "stdout",
     "output_type": "stream",
     "text": [
      "[[166  69  45  71]\n",
      " [ 73 124 106  44]\n",
      " [ 35  73 191  62]\n",
      " [ 69  34   9 261]]\n"
     ]
    }
   ],
   "source": [
    "print(confusion_matrix(Y_test, grid_predictions))"
   ]
  },
  {
   "cell_type": "code",
   "execution_count": null,
   "id": "67a47e3c",
   "metadata": {},
   "outputs": [],
   "source": [
    "================================================================================================================"
   ]
  },
  {
   "cell_type": "code",
   "execution_count": 27,
   "id": "f9ab744b",
   "metadata": {},
   "outputs": [],
   "source": [
    "model = XGBClassifier(n_estimators = 50, random_state = 7)"
   ]
  },
  {
   "cell_type": "code",
   "execution_count": 28,
   "id": "651f6f90",
   "metadata": {},
   "outputs": [
    {
     "name": "stdout",
     "output_type": "stream",
     "text": [
      "[20:43:10] WARNING: D:\\bld\\xgboost-split_1645118015404\\work\\src\\learner.cc:1115: Starting in XGBoost 1.3.0, the default evaluation metric used with the objective 'multi:softprob' was changed from 'merror' to 'mlogloss'. Explicitly set eval_metric if you'd like to restore the old behavior.\n"
     ]
    },
    {
     "data": {
      "text/plain": [
       "XGBClassifier(base_score=0.5, booster='gbtree', colsample_bylevel=1,\n",
       "              colsample_bynode=1, colsample_bytree=1, enable_categorical=False,\n",
       "              gamma=0, gpu_id=-1, importance_type=None,\n",
       "              interaction_constraints='', learning_rate=0.300000012,\n",
       "              max_delta_step=0, max_depth=6, min_child_weight=1, missing=nan,\n",
       "              monotone_constraints='()', n_estimators=50, n_jobs=12,\n",
       "              num_parallel_tree=1, objective='multi:softprob', predictor='auto',\n",
       "              random_state=7, reg_alpha=0, reg_lambda=1, scale_pos_weight=None,\n",
       "              subsample=1, tree_method='exact', validate_parameters=1,\n",
       "              verbosity=None)"
      ]
     },
     "execution_count": 28,
     "metadata": {},
     "output_type": "execute_result"
    }
   ],
   "source": [
    "model.fit(X_train,Y_train)"
   ]
  },
  {
   "cell_type": "code",
   "execution_count": 29,
   "id": "8bc76cdc",
   "metadata": {},
   "outputs": [],
   "source": [
    "new_predictions = model.predict(X_test)"
   ]
  },
  {
   "cell_type": "code",
   "execution_count": 32,
   "id": "a9d6f551",
   "metadata": {},
   "outputs": [
    {
     "name": "stdout",
     "output_type": "stream",
     "text": [
      "              precision    recall  f1-score   support\n",
      "\n",
      "         1.0       0.45      0.45      0.45       351\n",
      "         2.0       0.38      0.37      0.38       347\n",
      "         3.0       0.54      0.49      0.52       361\n",
      "         4.0       0.60      0.67      0.63       373\n",
      "\n",
      "    accuracy                           0.50      1432\n",
      "   macro avg       0.49      0.50      0.49      1432\n",
      "weighted avg       0.50      0.50      0.50      1432\n",
      "\n",
      "[[157  87  45  62]\n",
      " [ 78 130  94  45]\n",
      " [ 33  94 178  56]\n",
      " [ 82  30  12 249]]\n"
     ]
    }
   ],
   "source": [
    "print(classification_report(Y_test, new_predictions))\n",
    "print(confusion_matrix(Y_test, new_predictions))"
   ]
  },
  {
   "cell_type": "code",
   "execution_count": null,
   "id": "bde45587",
   "metadata": {},
   "outputs": [],
   "source": [
    "================================================================================================================"
   ]
  },
  {
   "cell_type": "markdown",
   "id": "abfd017a",
   "metadata": {},
   "source": [
    "# **Voting(ансамбль)**"
   ]
  },
  {
   "cell_type": "code",
   "execution_count": 19,
   "id": "1d1b0ec9",
   "metadata": {},
   "outputs": [],
   "source": [
    "kfold = KFold(n_splits= 3, random_state = 7, shuffle=True)"
   ]
  },
  {
   "cell_type": "code",
   "execution_count": 20,
   "id": "622e4f55",
   "metadata": {},
   "outputs": [],
   "source": [
    "estimators = []"
   ]
  },
  {
   "cell_type": "code",
   "execution_count": 21,
   "id": "f39c65ae",
   "metadata": {},
   "outputs": [],
   "source": [
    "estimators.append(('logistic', LogisticRegression(C=0.01, max_iter=5000)))"
   ]
  },
  {
   "cell_type": "code",
   "execution_count": 22,
   "id": "545c8f0a",
   "metadata": {},
   "outputs": [],
   "source": [
    "estimators.append(('cart', DecisionTreeClassifier(criterion='entropy', max_depth=5)))"
   ]
  },
  {
   "cell_type": "code",
   "execution_count": 23,
   "id": "e71361ef",
   "metadata": {},
   "outputs": [],
   "source": [
    "estimators.append(('svm', SVC(C=100, gamma=0.001)))"
   ]
  },
  {
   "cell_type": "code",
   "execution_count": 24,
   "id": "7a5e403a",
   "metadata": {},
   "outputs": [],
   "source": [
    "estimators.append(('KNN', KNeighborsClassifier(metric='manhattan', n_neighbors=50)))"
   ]
  },
  {
   "cell_type": "code",
   "execution_count": null,
   "id": "a4247b95",
   "metadata": {},
   "outputs": [],
   "source": []
  },
  {
   "cell_type": "code",
   "execution_count": null,
   "id": "ebb28002",
   "metadata": {},
   "outputs": [],
   "source": []
  },
  {
   "cell_type": "code",
   "execution_count": 25,
   "id": "605ac3ca",
   "metadata": {},
   "outputs": [
    {
     "data": {
      "text/plain": [
       "[('logistic', LogisticRegression(C=0.01, max_iter=5000)),\n",
       " ('cart', DecisionTreeClassifier(criterion='entropy', max_depth=5)),\n",
       " ('svm', SVC(C=100, gamma=0.001)),\n",
       " ('KNN', KNeighborsClassifier(metric='manhattan', n_neighbors=50))]"
      ]
     },
     "execution_count": 25,
     "metadata": {},
     "output_type": "execute_result"
    }
   ],
   "source": [
    "estimators"
   ]
  },
  {
   "cell_type": "code",
   "execution_count": 26,
   "id": "d5c4841c",
   "metadata": {},
   "outputs": [],
   "source": [
    "from sklearn.preprocessing import StandardScaler\n",
    "scaler=StandardScaler().fit(X)\n",
    "rescaledX=scaler.transform(X)"
   ]
  },
  {
   "cell_type": "code",
   "execution_count": 27,
   "id": "7b4f1131",
   "metadata": {},
   "outputs": [],
   "source": [
    "ensemble = VotingClassifier(estimators)"
   ]
  },
  {
   "cell_type": "code",
   "execution_count": 28,
   "id": "acec5922",
   "metadata": {},
   "outputs": [],
   "source": [
    "results = cross_val_score(ensemble, rescaledX, Y, cv=kfold)"
   ]
  },
  {
   "cell_type": "code",
   "execution_count": 86,
   "id": "57d6f733",
   "metadata": {},
   "outputs": [
    {
     "data": {
      "text/plain": [
       "(0.5077266168760054, 0.008761881023465708)"
      ]
     },
     "execution_count": 86,
     "metadata": {},
     "output_type": "execute_result"
    }
   ],
   "source": [
    "results.mean(), results.std()"
   ]
  },
  {
   "cell_type": "code",
   "execution_count": 29,
   "id": "858b4756",
   "metadata": {},
   "outputs": [
    {
     "data": {
      "text/plain": [
       "(0.500524883645501, 0.0031628796847189148)"
      ]
     },
     "execution_count": 29,
     "metadata": {},
     "output_type": "execute_result"
    }
   ],
   "source": [
    "results.mean(), results.std()"
   ]
  },
  {
   "cell_type": "markdown",
   "id": "e9b210a5",
   "metadata": {},
   "source": [
    "# **Настройка_алгоритмов**"
   ]
  },
  {
   "cell_type": "code",
   "execution_count": 90,
   "id": "416df0f3",
   "metadata": {},
   "outputs": [],
   "source": [
    "X_train_test, X_val, Y_train_test, Y_val = train_test_split(X, Y, test_size=0.25, random_state= 7)"
   ]
  },
  {
   "cell_type": "code",
   "execution_count": 91,
   "id": "f9e06192",
   "metadata": {},
   "outputs": [],
   "source": [
    "param_grid = {'alpha':uniform()}"
   ]
  },
  {
   "cell_type": "code",
   "execution_count": 92,
   "id": "40257004",
   "metadata": {},
   "outputs": [],
   "source": [
    "model = RidgeClassifier()"
   ]
  },
  {
   "cell_type": "code",
   "execution_count": 93,
   "id": "efa73907",
   "metadata": {},
   "outputs": [],
   "source": [
    "rsearch = RandomizedSearchCV(estimator = model, param_distributions = param_grid, n_iter = 100, cv = 3, random_state = 7)"
   ]
  },
  {
   "cell_type": "code",
   "execution_count": 94,
   "id": "118a0942",
   "metadata": {},
   "outputs": [
    {
     "data": {
      "text/plain": [
       "RandomizedSearchCV(cv=3, estimator=RidgeClassifier(), n_iter=100,\n",
       "                   param_distributions={'alpha': <scipy.stats._distn_infrastructure.rv_frozen object at 0x00000174EB969190>},\n",
       "                   random_state=7)"
      ]
     },
     "execution_count": 94,
     "metadata": {},
     "output_type": "execute_result"
    }
   ],
   "source": [
    "rsearch.fit(X_val,Y_val)"
   ]
  },
  {
   "cell_type": "code",
   "execution_count": 95,
   "id": "c44a603a",
   "metadata": {},
   "outputs": [
    {
     "data": {
      "text/plain": [
       "0.43910709270421505"
      ]
     },
     "execution_count": 95,
     "metadata": {},
     "output_type": "execute_result"
    }
   ],
   "source": [
    "rsearch.best_score_"
   ]
  },
  {
   "cell_type": "code",
   "execution_count": 96,
   "id": "9ecd0aaa",
   "metadata": {},
   "outputs": [
    {
     "data": {
      "text/plain": [
       "0.07630828937395717"
      ]
     },
     "execution_count": 96,
     "metadata": {},
     "output_type": "execute_result"
    }
   ],
   "source": [
    "rsearch.best_estimator_.alpha"
   ]
  },
  {
   "cell_type": "code",
   "execution_count": 97,
   "id": "d5d9d865",
   "metadata": {},
   "outputs": [],
   "source": [
    "model = RidgeClassifier(alpha=rsearch.best_estimator_.alpha)"
   ]
  },
  {
   "cell_type": "code",
   "execution_count": 98,
   "id": "a9168fef",
   "metadata": {},
   "outputs": [
    {
     "data": {
      "text/plain": [
       "RidgeClassifier(alpha=0.07630828937395717)"
      ]
     },
     "execution_count": 98,
     "metadata": {},
     "output_type": "execute_result"
    }
   ],
   "source": [
    "model.fit(X_test, Y_test)"
   ]
  },
  {
   "cell_type": "code",
   "execution_count": 99,
   "id": "de66f2ae",
   "metadata": {},
   "outputs": [
    {
     "data": {
      "text/plain": [
       "0.4912"
      ]
     },
     "execution_count": 99,
     "metadata": {},
     "output_type": "execute_result"
    }
   ],
   "source": [
    "model.score(X_test, Y_test)"
   ]
  },
  {
   "cell_type": "code",
   "execution_count": null,
   "id": "28896cab",
   "metadata": {},
   "outputs": [],
   "source": []
  }
 ],
 "metadata": {
  "kernelspec": {
   "display_name": "Python 3 (ipykernel)",
   "language": "python",
   "name": "python3"
  },
  "language_info": {
   "codemirror_mode": {
    "name": "ipython",
    "version": 3
   },
   "file_extension": ".py",
   "mimetype": "text/x-python",
   "name": "python",
   "nbconvert_exporter": "python",
   "pygments_lexer": "ipython3",
   "version": "3.9.7"
  }
 },
 "nbformat": 4,
 "nbformat_minor": 5
}
