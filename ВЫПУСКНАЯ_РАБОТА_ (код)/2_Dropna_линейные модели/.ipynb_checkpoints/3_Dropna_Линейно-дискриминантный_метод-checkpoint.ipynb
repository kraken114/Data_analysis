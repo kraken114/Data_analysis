{
 "cells": [
  {
   "cell_type": "markdown",
   "id": "0bae628b",
   "metadata": {},
   "source": [
    "# **1. Загрузка пакетов, библиотек и файлика**"
   ]
  },
  {
   "cell_type": "code",
   "execution_count": 6,
   "id": "a850e069",
   "metadata": {},
   "outputs": [],
   "source": [
    "import pandas as pd\n",
    "import numpy as np\n",
    "from pandas import read_csv"
   ]
  },
  {
   "cell_type": "code",
   "execution_count": 7,
   "id": "fbdfabea",
   "metadata": {},
   "outputs": [],
   "source": [
    "df=read_csv('D:\\Политех\\Класиффикация\\Сегментация_клиентов\\Train_cleared_dropna.csv')"
   ]
  },
  {
   "cell_type": "code",
   "execution_count": 8,
   "id": "0db49fba",
   "metadata": {},
   "outputs": [],
   "source": [
    "df=df.filter(regex='^(?!.*Unnamed).*$')"
   ]
  },
  {
   "cell_type": "markdown",
   "id": "a2ecc719",
   "metadata": {},
   "source": [
    "# **2. Разбиваем на фолды**"
   ]
  },
  {
   "cell_type": "code",
   "execution_count": 9,
   "id": "fe9ffcb0",
   "metadata": {},
   "outputs": [
    {
     "data": {
      "text/html": [
       "<div>\n",
       "<style scoped>\n",
       "    .dataframe tbody tr th:only-of-type {\n",
       "        vertical-align: middle;\n",
       "    }\n",
       "\n",
       "    .dataframe tbody tr th {\n",
       "        vertical-align: top;\n",
       "    }\n",
       "\n",
       "    .dataframe thead th {\n",
       "        text-align: right;\n",
       "    }\n",
       "</style>\n",
       "<table border=\"1\" class=\"dataframe\">\n",
       "  <thead>\n",
       "    <tr style=\"text-align: right;\">\n",
       "      <th></th>\n",
       "      <th>Пол</th>\n",
       "      <th>Семейное_положение</th>\n",
       "      <th>Возраст</th>\n",
       "      <th>Высшее_образование</th>\n",
       "      <th>Профессия</th>\n",
       "      <th>Опыт_работы</th>\n",
       "      <th>Уровень_расходов</th>\n",
       "      <th>Размер_семьи</th>\n",
       "      <th>Анонимная_категория</th>\n",
       "      <th>Целевая_категория</th>\n",
       "    </tr>\n",
       "  </thead>\n",
       "  <tbody>\n",
       "    <tr>\n",
       "      <th>0</th>\n",
       "      <td>1</td>\n",
       "      <td>0.0</td>\n",
       "      <td>22</td>\n",
       "      <td>0.0</td>\n",
       "      <td>2.0</td>\n",
       "      <td>1.0</td>\n",
       "      <td>3</td>\n",
       "      <td>4.0</td>\n",
       "      <td>4.0</td>\n",
       "      <td>4</td>\n",
       "    </tr>\n",
       "    <tr>\n",
       "      <th>1</th>\n",
       "      <td>0</td>\n",
       "      <td>1.0</td>\n",
       "      <td>67</td>\n",
       "      <td>1.0</td>\n",
       "      <td>4.0</td>\n",
       "      <td>1.0</td>\n",
       "      <td>3</td>\n",
       "      <td>1.0</td>\n",
       "      <td>6.0</td>\n",
       "      <td>2</td>\n",
       "    </tr>\n",
       "    <tr>\n",
       "      <th>2</th>\n",
       "      <td>1</td>\n",
       "      <td>1.0</td>\n",
       "      <td>67</td>\n",
       "      <td>1.0</td>\n",
       "      <td>6.0</td>\n",
       "      <td>0.0</td>\n",
       "      <td>1</td>\n",
       "      <td>2.0</td>\n",
       "      <td>6.0</td>\n",
       "      <td>2</td>\n",
       "    </tr>\n",
       "    <tr>\n",
       "      <th>3</th>\n",
       "      <td>1</td>\n",
       "      <td>1.0</td>\n",
       "      <td>56</td>\n",
       "      <td>0.0</td>\n",
       "      <td>1.0</td>\n",
       "      <td>0.0</td>\n",
       "      <td>2</td>\n",
       "      <td>2.0</td>\n",
       "      <td>6.0</td>\n",
       "      <td>3</td>\n",
       "    </tr>\n",
       "    <tr>\n",
       "      <th>4</th>\n",
       "      <td>1</td>\n",
       "      <td>0.0</td>\n",
       "      <td>32</td>\n",
       "      <td>1.0</td>\n",
       "      <td>2.0</td>\n",
       "      <td>1.0</td>\n",
       "      <td>3</td>\n",
       "      <td>3.0</td>\n",
       "      <td>6.0</td>\n",
       "      <td>3</td>\n",
       "    </tr>\n",
       "  </tbody>\n",
       "</table>\n",
       "</div>"
      ],
      "text/plain": [
       "   Пол  Семейное_положение  Возраст  Высшее_образование  Профессия  \\\n",
       "0    1                 0.0       22                 0.0        2.0   \n",
       "1    0                 1.0       67                 1.0        4.0   \n",
       "2    1                 1.0       67                 1.0        6.0   \n",
       "3    1                 1.0       56                 0.0        1.0   \n",
       "4    1                 0.0       32                 1.0        2.0   \n",
       "\n",
       "   Опыт_работы  Уровень_расходов  Размер_семьи  Анонимная_категория  \\\n",
       "0          1.0                 3           4.0                  4.0   \n",
       "1          1.0                 3           1.0                  6.0   \n",
       "2          0.0                 1           2.0                  6.0   \n",
       "3          0.0                 2           2.0                  6.0   \n",
       "4          1.0                 3           3.0                  6.0   \n",
       "\n",
       "   Целевая_категория  \n",
       "0                  4  \n",
       "1                  2  \n",
       "2                  2  \n",
       "3                  3  \n",
       "4                  3  "
      ]
     },
     "execution_count": 9,
     "metadata": {},
     "output_type": "execute_result"
    }
   ],
   "source": [
    "df.head(5)"
   ]
  },
  {
   "cell_type": "code",
   "execution_count": 10,
   "id": "4033d57d",
   "metadata": {},
   "outputs": [
    {
     "data": {
      "text/plain": [
       "array([[ 1.,  0., 22., ...,  4.,  4.,  4.],\n",
       "       [ 0.,  1., 67., ...,  1.,  6.,  2.],\n",
       "       [ 1.,  1., 67., ...,  2.,  6.,  2.],\n",
       "       ...,\n",
       "       [ 0.,  0., 33., ...,  1.,  6.,  4.],\n",
       "       [ 0.,  0., 27., ...,  4.,  6.,  2.],\n",
       "       [ 1.,  1., 37., ...,  3.,  4.,  2.]])"
      ]
     },
     "execution_count": 10,
     "metadata": {},
     "output_type": "execute_result"
    }
   ],
   "source": [
    "array = df.values\n",
    "array"
   ]
  },
  {
   "cell_type": "code",
   "execution_count": 11,
   "id": "72b6ec77",
   "metadata": {},
   "outputs": [],
   "source": [
    "X = array[:,0:9]\n",
    "Y = array[:,9]"
   ]
  },
  {
   "cell_type": "code",
   "execution_count": 12,
   "id": "e6efa435",
   "metadata": {},
   "outputs": [
    {
     "data": {
      "text/plain": [
       "array([[ 1.,  0., 22., ...,  3.,  4.,  4.],\n",
       "       [ 0.,  1., 67., ...,  3.,  1.,  6.],\n",
       "       [ 1.,  1., 67., ...,  1.,  2.,  6.],\n",
       "       ...,\n",
       "       [ 0.,  0., 33., ...,  3.,  1.,  6.],\n",
       "       [ 0.,  0., 27., ...,  3.,  4.,  6.],\n",
       "       [ 1.,  1., 37., ...,  2.,  3.,  4.]])"
      ]
     },
     "execution_count": 12,
     "metadata": {},
     "output_type": "execute_result"
    }
   ],
   "source": [
    "X"
   ]
  },
  {
   "cell_type": "code",
   "execution_count": 13,
   "id": "2c33499e",
   "metadata": {},
   "outputs": [
    {
     "data": {
      "text/plain": [
       "array([4., 2., 2., ..., 4., 2., 2.])"
      ]
     },
     "execution_count": 13,
     "metadata": {},
     "output_type": "execute_result"
    }
   ],
   "source": [
    "Y"
   ]
  },
  {
   "cell_type": "markdown",
   "id": "e8b8fe40",
   "metadata": {},
   "source": [
    "# **3.1. LinearDiscriminantAnalysis() + SelectKBest**"
   ]
  },
  {
   "cell_type": "markdown",
   "id": "00c49521",
   "metadata": {},
   "source": [
    "# **0.4814    7_признаков**"
   ]
  },
  {
   "cell_type": "code",
   "execution_count": 20,
   "id": "2a26a3ce",
   "metadata": {},
   "outputs": [],
   "source": [
    "from sklearn.feature_selection import SelectKBest\n",
    "from sklearn.feature_selection import f_classif\n",
    "from sklearn.discriminant_analysis import LinearDiscriminantAnalysis\n",
    "from sklearn.model_selection import KFold\n",
    "from sklearn.model_selection import cross_val_score"
   ]
  },
  {
   "cell_type": "code",
   "execution_count": 21,
   "id": "2690ac65",
   "metadata": {},
   "outputs": [],
   "source": [
    "lst_1 = list(range(1,10))\n",
    "lst_2 = list(range(2,9))\n",
    "k = []"
   ]
  },
  {
   "cell_type": "code",
   "execution_count": 22,
   "id": "6e545026",
   "metadata": {
    "collapsed": true
   },
   "outputs": [
    {
     "name": "stdout",
     "output_type": "stream",
     "text": [
      "n_splits: 2 KBest: 1 0.4006002491005403\n",
      "n_splits: 2 KBest: 2 0.40330074424009027\n",
      "n_splits: 2 KBest: 3 0.4364580215524554\n",
      "n_splits: 2 KBest: 4 0.4673650738423182\n",
      "n_splits: 2 KBest: 5 0.4631648338903518\n",
      "n_splits: 2 KBest: 6 0.4792190503564162\n",
      "n_splits: 2 KBest: 7 0.47936911038042584\n",
      "n_splits: 2 KBest: 8 0.47606815003229014\n",
      "n_splits: 2 KBest: 9 0.4771181199752629\n",
      "i 2 max: 0.47936911038042584\n",
      "n_splits: 3 KBest: 1 0.40060151895423673\n",
      "n_splits: 3 KBest: 2 0.4033022617885382\n",
      "n_splits: 3 KBest: 3 0.43675871414246337\n",
      "n_splits: 3 KBest: 4 0.4630157973023777\n",
      "n_splits: 3 KBest: 5 0.4616653245693772\n",
      "n_splits: 3 KBest: 6 0.477118625865288\n",
      "n_splits: 3 KBest: 7 0.48027002159918825\n",
      "n_splits: 3 KBest: 8 0.4780199316644857\n",
      "n_splits: 3 KBest: 9 0.47891927869058853\n",
      "i 3 max: 0.48027002159918825\n",
      "n_splits: 4 KBest: 1 0.4006041828849116\n",
      "n_splits: 4 KBest: 2 0.4024049031730269\n",
      "n_splits: 4 KBest: 3 0.43601114711031386\n",
      "n_splits: 4 KBest: 4 0.46406931098774246\n",
      "n_splits: 4 KBest: 5 0.4640680507355912\n",
      "n_splits: 4 KBest: 6 0.4786225227943607\n",
      "n_splits: 4 KBest: 7 0.47892273286039067\n",
      "n_splits: 4 KBest: 8 0.47622192248225026\n",
      "n_splits: 4 KBest: 9 0.4778718626022695\n",
      "i 4 max: 0.48027002159918825\n",
      "n_splits: 5 KBest: 1 0.4006001500375094\n",
      "n_splits: 5 KBest: 2 0.40270067516879215\n",
      "n_splits: 5 KBest: 3 0.4360090022505626\n",
      "n_splits: 5 KBest: 4 0.46346586646661664\n",
      "n_splits: 5 KBest: 5 0.46271567891972987\n",
      "n_splits: 5 KBest: 6 0.47786946736684166\n",
      "n_splits: 5 KBest: 7 0.48087021755438863\n",
      "n_splits: 5 KBest: 8 0.47876969242310574\n",
      "n_splits: 5 KBest: 9 0.48042010502625654\n",
      "i 5 max: 0.48087021755438863\n",
      "n_splits: 6 KBest: 1 0.40059951941140065\n",
      "n_splits: 6 KBest: 2 0.40239956428075246\n",
      "n_splits: 6 KBest: 3 0.43585642348018583\n",
      "n_splits: 6 KBest: 4 0.46076404937791077\n",
      "n_splits: 6 KBest: 5 0.4642143944124142\n",
      "n_splits: 6 KBest: 6 0.47696958885077695\n",
      "n_splits: 6 KBest: 7 0.4787697688687787\n",
      "n_splits: 6 KBest: 8 0.4774193635579775\n",
      "n_splits: 6 KBest: 9 0.4784683873792785\n",
      "i 6 max: 0.48087021755438863\n",
      "n_splits: 7 KBest: 1 0.4006059401725013\n",
      "n_splits: 7 KBest: 2 0.40300690055665495\n",
      "n_splits: 7 KBest: 3 0.436012390265655\n",
      "n_splits: 7 KBest: 4 0.4618186204177369\n",
      "n_splits: 7 KBest: 5 0.4615185003697177\n",
      "n_splits: 7 KBest: 6 0.4793737536987513\n",
      "n_splits: 7 KBest: 7 0.4805739189694766\n",
      "n_splits: 7 KBest: 8 0.4778723661552764\n",
      "n_splits: 7 KBest: 9 0.47937406862010284\n",
      "i 7 max: 0.48087021755438863\n",
      "n_splits: 8 KBest: 1 0.40060592582356686\n",
      "n_splits: 8 KBest: 2 0.4024066461116821\n",
      "n_splits: 8 KBest: 3 0.436461814941804\n",
      "n_splits: 8 KBest: 4 0.4612175805574028\n",
      "n_splits: 8 KBest: 5 0.46166866026986336\n",
      "n_splits: 8 KBest: 6 0.4787733438699221\n",
      "n_splits: 8 KBest: 7 0.48147352466166327\n",
      "n_splits: 8 KBest: 8 0.4790722044213369\n",
      "n_splits: 8 KBest: 9 0.4799734642058262\n",
      "i 8 max: 0.48147352466166327\n"
     ]
    }
   ],
   "source": [
    "model=LinearDiscriminantAnalysis()   # максимальное значение: n_splits: 8 KBest: 7 0.48147352466166327167\n",
    "for i in lst_2:\n",
    "   kfold=KFold(n_splits=i,random_state=7,shuffle=True)\n",
    "   for j in lst_1:\n",
    "      test=SelectKBest(score_func=f_classif, k=j)\n",
    "      fit=test.fit(X,Y)\n",
    "      features=fit.transform(X)\n",
    "      results=cross_val_score(model, features, Y, cv=kfold)\n",
    "      res = results.mean()\n",
    "      k.append(res)\n",
    "      print(f'n_splits: {i} KBest: {j} {res}')\n",
    "   print(f'i {i} max: {max(k)}')"
   ]
  },
  {
   "cell_type": "markdown",
   "id": "319b84e7",
   "metadata": {},
   "source": [
    "**Вывод: отбор показал, что лучший результат дает выбор 7 лучших признаков**"
   ]
  },
  {
   "cell_type": "markdown",
   "id": "e374d896",
   "metadata": {},
   "source": [
    "Вывод:\n",
    "лучшими 7-ю признаками будут: **'Семейное_положение', 'Возраст', 'Высшее_образование', 'Профессия', 'Уровень_расходов', 'Размер_семьи', 'Анонимная_категория'**"
   ]
  },
  {
   "cell_type": "code",
   "execution_count": null,
   "id": "3bfe9c26",
   "metadata": {},
   "outputs": [],
   "source": []
  }
 ],
 "metadata": {
  "kernelspec": {
   "display_name": "Python 3 (ipykernel)",
   "language": "python",
   "name": "python3"
  },
  "language_info": {
   "codemirror_mode": {
    "name": "ipython",
    "version": 3
   },
   "file_extension": ".py",
   "mimetype": "text/x-python",
   "name": "python",
   "nbconvert_exporter": "python",
   "pygments_lexer": "ipython3",
   "version": "3.9.7"
  }
 },
 "nbformat": 4,
 "nbformat_minor": 5
}
