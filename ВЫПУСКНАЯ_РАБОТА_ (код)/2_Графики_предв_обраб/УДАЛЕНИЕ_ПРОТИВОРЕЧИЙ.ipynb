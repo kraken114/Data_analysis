{
 "cells": [
  {
   "cell_type": "markdown",
   "id": "a8c9a2a0",
   "metadata": {},
   "source": [
    "# **Проверка наличия противоречивых даных:**"
   ]
  },
  {
   "cell_type": "code",
   "execution_count": 2,
   "id": "8ec418f2",
   "metadata": {},
   "outputs": [],
   "source": [
    "import pandas as pd # пакет (строится поверх numpy)\n",
    "import numpy as np # библиотека\n",
    "from pandas import read_csv"
   ]
  },
  {
   "cell_type": "code",
   "execution_count": 4,
   "id": "087dd9aa",
   "metadata": {
    "scrolled": true
   },
   "outputs": [],
   "source": [
    "df=read_csv('D:\\Политех\\Класиффикация\\Сегментация_клиентов\\Train_cleared_fillna.csv')"
   ]
  },
  {
   "cell_type": "code",
   "execution_count": 5,
   "id": "dc9a454a",
   "metadata": {},
   "outputs": [],
   "source": [
    "df=df.filter(regex='^(?!.*Unnamed).*$')"
   ]
  },
  {
   "cell_type": "code",
   "execution_count": 6,
   "id": "8c1cf487",
   "metadata": {},
   "outputs": [],
   "source": [
    "array = df.values\n",
    "array\n",
    "X = array[:,0:9]\n",
    "Y = array[:,9]"
   ]
  },
  {
   "cell_type": "code",
   "execution_count": 7,
   "id": "8860eab1",
   "metadata": {},
   "outputs": [
    {
     "data": {
      "text/plain": [
       "array([[ 1.,  0., 18., ...,  3.,  2.,  6.],\n",
       "       [ 1.,  1., 18., ...,  1.,  4.,  6.],\n",
       "       [ 0.,  0., 19., ...,  3.,  3.,  4.],\n",
       "       ...,\n",
       "       [ 0.,  1., 89., ...,  1.,  1.,  6.],\n",
       "       [ 1.,  1., 89., ...,  1.,  2.,  6.],\n",
       "       [ 0.,  1., 89., ...,  1.,  2.,  6.]])"
      ]
     },
     "execution_count": 7,
     "metadata": {},
     "output_type": "execute_result"
    }
   ],
   "source": [
    "X"
   ]
  },
  {
   "cell_type": "code",
   "execution_count": 8,
   "id": "ba2c7c91",
   "metadata": {},
   "outputs": [
    {
     "data": {
      "text/plain": [
       "array([1., 1., 1., ..., 4., 4., 4.])"
      ]
     },
     "execution_count": 8,
     "metadata": {},
     "output_type": "execute_result"
    }
   ],
   "source": [
    "Y"
   ]
  },
  {
   "cell_type": "code",
   "execution_count": 9,
   "id": "e76725c1",
   "metadata": {},
   "outputs": [
    {
     "data": {
      "text/plain": [
       "4    2268\n",
       "1    1971\n",
       "3    1970\n",
       "2    1858\n",
       "Name: Целевая_категория, dtype: int64"
      ]
     },
     "execution_count": 9,
     "metadata": {},
     "output_type": "execute_result"
    }
   ],
   "source": [
    "df.Целевая_категория.value_counts()"
   ]
  },
  {
   "cell_type": "code",
   "execution_count": 10,
   "id": "5e1ba02c",
   "metadata": {},
   "outputs": [
    {
     "data": {
      "text/plain": [
       "Пол                    0\n",
       "Семейное_положение     0\n",
       "Возраст                0\n",
       "Высшее_образование     0\n",
       "Профессия              0\n",
       "Опыт_работы            0\n",
       "Уровень_расходов       0\n",
       "Размер_семьи           0\n",
       "Анонимная_категория    0\n",
       "Целевая_категория      0\n",
       "dtype: int64"
      ]
     },
     "execution_count": 10,
     "metadata": {},
     "output_type": "execute_result"
    }
   ],
   "source": [
    "df.isna().sum()"
   ]
  },
  {
   "cell_type": "code",
   "execution_count": 36,
   "id": "b98c6235",
   "metadata": {},
   "outputs": [],
   "source": [
    "df = df.dropna(how='any')"
   ]
  },
  {
   "cell_type": "code",
   "execution_count": 37,
   "id": "c21c6fb2",
   "metadata": {},
   "outputs": [
    {
     "data": {
      "text/plain": [
       "1    692\n",
       "4    631\n",
       "2    450\n",
       "3    381\n",
       "Name: Целевая_категория, dtype: int64"
      ]
     },
     "execution_count": 37,
     "metadata": {},
     "output_type": "execute_result"
    }
   ],
   "source": [
    "df.Целевая_категория.value_counts()"
   ]
  },
  {
   "cell_type": "code",
   "execution_count": null,
   "id": "46698315",
   "metadata": {},
   "outputs": [],
   "source": []
  },
  {
   "cell_type": "code",
   "execution_count": 11,
   "id": "1a41a3ef",
   "metadata": {},
   "outputs": [
    {
     "data": {
      "text/plain": [
       "Index(['Пол', 'Семейное_положение', 'Возраст', 'Высшее_образование',\n",
       "       'Профессия', 'Опыт_работы', 'Уровень_расходов', 'Размер_семьи',\n",
       "       'Анонимная_категория', 'Целевая_категория'],\n",
       "      dtype='object')"
      ]
     },
     "execution_count": 11,
     "metadata": {},
     "output_type": "execute_result"
    }
   ],
   "source": [
    "df.columns"
   ]
  },
  {
   "cell_type": "code",
   "execution_count": 38,
   "id": "24f6141f",
   "metadata": {},
   "outputs": [],
   "source": [
    "d = df.drop_duplicates()"
   ]
  },
  {
   "cell_type": "code",
   "execution_count": 39,
   "id": "5d423949",
   "metadata": {},
   "outputs": [
    {
     "data": {
      "text/plain": [
       "1    686\n",
       "4    621\n",
       "2    450\n",
       "3    377\n",
       "Name: Целевая_категория, dtype: int64"
      ]
     },
     "execution_count": 39,
     "metadata": {},
     "output_type": "execute_result"
    }
   ],
   "source": [
    "d.Целевая_категория.value_counts()"
   ]
  },
  {
   "cell_type": "code",
   "execution_count": 12,
   "id": "002d55c9",
   "metadata": {},
   "outputs": [
    {
     "data": {
      "text/plain": [
       "(8067, 10)"
      ]
     },
     "execution_count": 12,
     "metadata": {},
     "output_type": "execute_result"
    }
   ],
   "source": [
    "df.shape"
   ]
  },
  {
   "cell_type": "code",
   "execution_count": 41,
   "id": "13ff73f4",
   "metadata": {},
   "outputs": [],
   "source": [
    "df_ = df.drop(columns='Целевая_категория') "
   ]
  },
  {
   "cell_type": "code",
   "execution_count": 42,
   "id": "cdb9f390",
   "metadata": {},
   "outputs": [
    {
     "data": {
      "text/plain": [
       "(2154, 9)"
      ]
     },
     "execution_count": 42,
     "metadata": {},
     "output_type": "execute_result"
    }
   ],
   "source": [
    "df_.shape"
   ]
  },
  {
   "cell_type": "code",
   "execution_count": 43,
   "id": "7e3a8e97",
   "metadata": {},
   "outputs": [],
   "source": [
    "df_ = df_.drop_duplicates()"
   ]
  },
  {
   "cell_type": "code",
   "execution_count": 44,
   "id": "f3e57ba0",
   "metadata": {},
   "outputs": [
    {
     "data": {
      "text/plain": [
       "(2085, 9)"
      ]
     },
     "execution_count": 44,
     "metadata": {},
     "output_type": "execute_result"
    }
   ],
   "source": [
    "df_.shape"
   ]
  },
  {
   "cell_type": "code",
   "execution_count": 45,
   "id": "af33921f",
   "metadata": {},
   "outputs": [
    {
     "data": {
      "text/plain": [
       "69"
      ]
     },
     "execution_count": 45,
     "metadata": {},
     "output_type": "execute_result"
    }
   ],
   "source": [
    "df.shape[0] - df_.shape[0]"
   ]
  },
  {
   "cell_type": "code",
   "execution_count": 13,
   "id": "b804cf80",
   "metadata": {},
   "outputs": [],
   "source": [
    "df_L=df.drop(columns='Целевая_категория')"
   ]
  },
  {
   "cell_type": "code",
   "execution_count": 14,
   "id": "27650856",
   "metadata": {},
   "outputs": [],
   "source": [
    "df_R = df['Целевая_категория']"
   ]
  },
  {
   "cell_type": "code",
   "execution_count": 15,
   "id": "647f5715",
   "metadata": {},
   "outputs": [
    {
     "data": {
      "text/plain": [
       "0       1\n",
       "1       1\n",
       "2       1\n",
       "3       1\n",
       "4       1\n",
       "       ..\n",
       "8062    4\n",
       "8063    4\n",
       "8064    4\n",
       "8065    4\n",
       "8066    4\n",
       "Name: Целевая_категория, Length: 8067, dtype: int64"
      ]
     },
     "execution_count": 15,
     "metadata": {},
     "output_type": "execute_result"
    }
   ],
   "source": [
    "df_R"
   ]
  },
  {
   "cell_type": "code",
   "execution_count": 16,
   "id": "4afa33a2",
   "metadata": {},
   "outputs": [
    {
     "data": {
      "text/plain": [
       "(8067, 9)"
      ]
     },
     "execution_count": 16,
     "metadata": {},
     "output_type": "execute_result"
    }
   ],
   "source": [
    "df_L.shape"
   ]
  },
  {
   "cell_type": "code",
   "execution_count": 17,
   "id": "579b8438",
   "metadata": {},
   "outputs": [],
   "source": [
    "df_L = df_L.drop_duplicates()"
   ]
  },
  {
   "cell_type": "code",
   "execution_count": 18,
   "id": "6302bb37",
   "metadata": {},
   "outputs": [
    {
     "data": {
      "text/plain": [
       "(7150, 9)"
      ]
     },
     "execution_count": 18,
     "metadata": {},
     "output_type": "execute_result"
    }
   ],
   "source": [
    "df_L.shape"
   ]
  },
  {
   "cell_type": "code",
   "execution_count": 19,
   "id": "f5d4322c",
   "metadata": {},
   "outputs": [],
   "source": [
    "df_clear = pd.merge(df_L, df_R, left_index=True, right_index=True)"
   ]
  },
  {
   "cell_type": "code",
   "execution_count": 20,
   "id": "ae320288",
   "metadata": {},
   "outputs": [
    {
     "data": {
      "text/html": [
       "<div>\n",
       "<style scoped>\n",
       "    .dataframe tbody tr th:only-of-type {\n",
       "        vertical-align: middle;\n",
       "    }\n",
       "\n",
       "    .dataframe tbody tr th {\n",
       "        vertical-align: top;\n",
       "    }\n",
       "\n",
       "    .dataframe thead th {\n",
       "        text-align: right;\n",
       "    }\n",
       "</style>\n",
       "<table border=\"1\" class=\"dataframe\">\n",
       "  <thead>\n",
       "    <tr style=\"text-align: right;\">\n",
       "      <th></th>\n",
       "      <th>Пол</th>\n",
       "      <th>Семейное_положение</th>\n",
       "      <th>Возраст</th>\n",
       "      <th>Высшее_образование</th>\n",
       "      <th>Профессия</th>\n",
       "      <th>Опыт_работы</th>\n",
       "      <th>Уровень_расходов</th>\n",
       "      <th>Размер_семьи</th>\n",
       "      <th>Анонимная_категория</th>\n",
       "      <th>Целевая_категория</th>\n",
       "    </tr>\n",
       "  </thead>\n",
       "  <tbody>\n",
       "    <tr>\n",
       "      <th>0</th>\n",
       "      <td>1</td>\n",
       "      <td>0.0</td>\n",
       "      <td>18</td>\n",
       "      <td>0.0</td>\n",
       "      <td>5.0</td>\n",
       "      <td>4.0</td>\n",
       "      <td>3</td>\n",
       "      <td>2.0</td>\n",
       "      <td>6.0</td>\n",
       "      <td>1</td>\n",
       "    </tr>\n",
       "    <tr>\n",
       "      <th>1</th>\n",
       "      <td>1</td>\n",
       "      <td>1.0</td>\n",
       "      <td>18</td>\n",
       "      <td>0.0</td>\n",
       "      <td>7.0</td>\n",
       "      <td>0.0</td>\n",
       "      <td>1</td>\n",
       "      <td>4.0</td>\n",
       "      <td>6.0</td>\n",
       "      <td>1</td>\n",
       "    </tr>\n",
       "    <tr>\n",
       "      <th>2</th>\n",
       "      <td>0</td>\n",
       "      <td>0.0</td>\n",
       "      <td>19</td>\n",
       "      <td>0.0</td>\n",
       "      <td>8.0</td>\n",
       "      <td>1.0</td>\n",
       "      <td>3</td>\n",
       "      <td>3.0</td>\n",
       "      <td>4.0</td>\n",
       "      <td>1</td>\n",
       "    </tr>\n",
       "    <tr>\n",
       "      <th>3</th>\n",
       "      <td>1</td>\n",
       "      <td>0.0</td>\n",
       "      <td>19</td>\n",
       "      <td>0.0</td>\n",
       "      <td>8.0</td>\n",
       "      <td>0.0</td>\n",
       "      <td>3</td>\n",
       "      <td>5.0</td>\n",
       "      <td>6.0</td>\n",
       "      <td>1</td>\n",
       "    </tr>\n",
       "    <tr>\n",
       "      <th>4</th>\n",
       "      <td>1</td>\n",
       "      <td>0.0</td>\n",
       "      <td>19</td>\n",
       "      <td>0.0</td>\n",
       "      <td>3.0</td>\n",
       "      <td>0.0</td>\n",
       "      <td>3</td>\n",
       "      <td>6.0</td>\n",
       "      <td>4.0</td>\n",
       "      <td>1</td>\n",
       "    </tr>\n",
       "    <tr>\n",
       "      <th>...</th>\n",
       "      <td>...</td>\n",
       "      <td>...</td>\n",
       "      <td>...</td>\n",
       "      <td>...</td>\n",
       "      <td>...</td>\n",
       "      <td>...</td>\n",
       "      <td>...</td>\n",
       "      <td>...</td>\n",
       "      <td>...</td>\n",
       "      <td>...</td>\n",
       "    </tr>\n",
       "    <tr>\n",
       "      <th>8057</th>\n",
       "      <td>0</td>\n",
       "      <td>1.0</td>\n",
       "      <td>88</td>\n",
       "      <td>1.0</td>\n",
       "      <td>6.0</td>\n",
       "      <td>0.0</td>\n",
       "      <td>3</td>\n",
       "      <td>1.0</td>\n",
       "      <td>6.0</td>\n",
       "      <td>4</td>\n",
       "    </tr>\n",
       "    <tr>\n",
       "      <th>8059</th>\n",
       "      <td>1</td>\n",
       "      <td>1.0</td>\n",
       "      <td>88</td>\n",
       "      <td>0.0</td>\n",
       "      <td>1.0</td>\n",
       "      <td>7.0</td>\n",
       "      <td>3</td>\n",
       "      <td>1.0</td>\n",
       "      <td>6.0</td>\n",
       "      <td>4</td>\n",
       "    </tr>\n",
       "    <tr>\n",
       "      <th>8062</th>\n",
       "      <td>0</td>\n",
       "      <td>0.0</td>\n",
       "      <td>89</td>\n",
       "      <td>1.0</td>\n",
       "      <td>6.0</td>\n",
       "      <td>1.0</td>\n",
       "      <td>3</td>\n",
       "      <td>1.0</td>\n",
       "      <td>6.0</td>\n",
       "      <td>4</td>\n",
       "    </tr>\n",
       "    <tr>\n",
       "      <th>8063</th>\n",
       "      <td>0</td>\n",
       "      <td>0.0</td>\n",
       "      <td>89</td>\n",
       "      <td>1.0</td>\n",
       "      <td>6.0</td>\n",
       "      <td>2.0</td>\n",
       "      <td>3</td>\n",
       "      <td>1.0</td>\n",
       "      <td>6.0</td>\n",
       "      <td>4</td>\n",
       "    </tr>\n",
       "    <tr>\n",
       "      <th>8064</th>\n",
       "      <td>0</td>\n",
       "      <td>1.0</td>\n",
       "      <td>89</td>\n",
       "      <td>0.0</td>\n",
       "      <td>6.0</td>\n",
       "      <td>3.0</td>\n",
       "      <td>1</td>\n",
       "      <td>1.0</td>\n",
       "      <td>6.0</td>\n",
       "      <td>4</td>\n",
       "    </tr>\n",
       "  </tbody>\n",
       "</table>\n",
       "<p>7150 rows × 10 columns</p>\n",
       "</div>"
      ],
      "text/plain": [
       "      Пол  Семейное_положение  Возраст  Высшее_образование  Профессия  \\\n",
       "0       1                 0.0       18                 0.0        5.0   \n",
       "1       1                 1.0       18                 0.0        7.0   \n",
       "2       0                 0.0       19                 0.0        8.0   \n",
       "3       1                 0.0       19                 0.0        8.0   \n",
       "4       1                 0.0       19                 0.0        3.0   \n",
       "...   ...                 ...      ...                 ...        ...   \n",
       "8057    0                 1.0       88                 1.0        6.0   \n",
       "8059    1                 1.0       88                 0.0        1.0   \n",
       "8062    0                 0.0       89                 1.0        6.0   \n",
       "8063    0                 0.0       89                 1.0        6.0   \n",
       "8064    0                 1.0       89                 0.0        6.0   \n",
       "\n",
       "      Опыт_работы  Уровень_расходов  Размер_семьи  Анонимная_категория  \\\n",
       "0             4.0                 3           2.0                  6.0   \n",
       "1             0.0                 1           4.0                  6.0   \n",
       "2             1.0                 3           3.0                  4.0   \n",
       "3             0.0                 3           5.0                  6.0   \n",
       "4             0.0                 3           6.0                  4.0   \n",
       "...           ...               ...           ...                  ...   \n",
       "8057          0.0                 3           1.0                  6.0   \n",
       "8059          7.0                 3           1.0                  6.0   \n",
       "8062          1.0                 3           1.0                  6.0   \n",
       "8063          2.0                 3           1.0                  6.0   \n",
       "8064          3.0                 1           1.0                  6.0   \n",
       "\n",
       "      Целевая_категория  \n",
       "0                     1  \n",
       "1                     1  \n",
       "2                     1  \n",
       "3                     1  \n",
       "4                     1  \n",
       "...                 ...  \n",
       "8057                  4  \n",
       "8059                  4  \n",
       "8062                  4  \n",
       "8063                  4  \n",
       "8064                  4  \n",
       "\n",
       "[7150 rows x 10 columns]"
      ]
     },
     "execution_count": 20,
     "metadata": {},
     "output_type": "execute_result"
    }
   ],
   "source": [
    "df_clear"
   ]
  },
  {
   "cell_type": "code",
   "execution_count": 21,
   "id": "eecb87b4",
   "metadata": {},
   "outputs": [],
   "source": [
    "df_clear.to_csv('Test_FILLNA_DROP_ALL_DUPLICATE.csv')"
   ]
  },
  {
   "cell_type": "code",
   "execution_count": null,
   "id": "1f4f9f72",
   "metadata": {},
   "outputs": [],
   "source": [
    "++++++++++++++++++++++++++++++++++++++++++++++++++++++++++++++++++++++++++++++++++++++++++++++++++++++++++++++"
   ]
  },
  {
   "cell_type": "code",
   "execution_count": null,
   "id": "9b988154",
   "metadata": {},
   "outputs": [],
   "source": []
  }
 ],
 "metadata": {
  "kernelspec": {
   "display_name": "Python 3 (ipykernel)",
   "language": "python",
   "name": "python3"
  },
  "language_info": {
   "codemirror_mode": {
    "name": "ipython",
    "version": 3
   },
   "file_extension": ".py",
   "mimetype": "text/x-python",
   "name": "python",
   "nbconvert_exporter": "python",
   "pygments_lexer": "ipython3",
   "version": "3.9.7"
  }
 },
 "nbformat": 4,
 "nbformat_minor": 5
}
