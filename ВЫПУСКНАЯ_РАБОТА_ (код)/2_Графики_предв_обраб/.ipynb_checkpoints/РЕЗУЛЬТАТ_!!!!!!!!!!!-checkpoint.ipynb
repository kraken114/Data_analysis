{
 "cells": [
  {
   "cell_type": "markdown",
   "id": "74bd4e2a",
   "metadata": {},
   "source": [
    "# **1. Предварительная загрузка данных и модулей**"
   ]
  },
  {
   "cell_type": "code",
   "execution_count": 1,
   "id": "a850e069",
   "metadata": {},
   "outputs": [],
   "source": [
    "import pandas as pd\n",
    "import numpy as np\n",
    "from pandas import read_csv"
   ]
  },
  {
   "cell_type": "markdown",
   "id": "2c11681d",
   "metadata": {},
   "source": [
    "**1.1_Загрузка_данных**"
   ]
  },
  {
   "cell_type": "code",
   "execution_count": 2,
   "id": "775c9ceb",
   "metadata": {},
   "outputs": [],
   "source": [
    "# 1.1.1 Исходный данные без очистки."
   ]
  },
  {
   "cell_type": "code",
   "execution_count": 3,
   "id": "fbdfabea",
   "metadata": {},
   "outputs": [],
   "source": [
    "df_1=read_csv('D:\\_ДАННЫЕ\\Train_full_dropduplicate.csv')"
   ]
  },
  {
   "cell_type": "code",
   "execution_count": 4,
   "id": "0db49fba",
   "metadata": {},
   "outputs": [],
   "source": [
    "df_1=df_1.filter(regex='^(?!.*Unnamed).*$')"
   ]
  },
  {
   "cell_type": "code",
   "execution_count": 5,
   "id": "c1287b51",
   "metadata": {},
   "outputs": [
    {
     "data": {
      "text/plain": [
       "(7528, 10)"
      ]
     },
     "execution_count": 5,
     "metadata": {},
     "output_type": "execute_result"
    }
   ],
   "source": [
    "df_1.shape"
   ]
  },
  {
   "cell_type": "code",
   "execution_count": 6,
   "id": "4e4f124d",
   "metadata": {},
   "outputs": [],
   "source": [
    "# 1.1.2 Данные с заполнением NaN соседними данными после группировки (fillna) без удаления строк."
   ]
  },
  {
   "cell_type": "code",
   "execution_count": 7,
   "id": "9b07a868",
   "metadata": {},
   "outputs": [],
   "source": [
    "df_2=read_csv('D:\\_ДАННЫЕ\\Train_cleared_fillna.csv')"
   ]
  },
  {
   "cell_type": "code",
   "execution_count": 8,
   "id": "2e8c00c6",
   "metadata": {},
   "outputs": [],
   "source": [
    "df_2=df_2.filter(regex='^(?!.*Unnamed).*$')"
   ]
  },
  {
   "cell_type": "code",
   "execution_count": 9,
   "id": "6f919ba6",
   "metadata": {},
   "outputs": [
    {
     "data": {
      "text/plain": [
       "(8067, 10)"
      ]
     },
     "execution_count": 9,
     "metadata": {},
     "output_type": "execute_result"
    }
   ],
   "source": [
    "df_2.shape"
   ]
  },
  {
   "cell_type": "code",
   "execution_count": null,
   "id": "cd9b11ea",
   "metadata": {},
   "outputs": [],
   "source": []
  },
  {
   "cell_type": "code",
   "execution_count": 10,
   "id": "0a6f439d",
   "metadata": {},
   "outputs": [],
   "source": [
    "# 1.1.3 Строки с NaN удаляются (dropna)."
   ]
  },
  {
   "cell_type": "code",
   "execution_count": 11,
   "id": "8a9eb62a",
   "metadata": {},
   "outputs": [],
   "source": [
    "df_3=read_csv('D:\\_ДАННЫЕ\\Train_cleared_dropna.csv')"
   ]
  },
  {
   "cell_type": "code",
   "execution_count": 12,
   "id": "8f238021",
   "metadata": {},
   "outputs": [],
   "source": [
    "df_3=df_3.filter(regex='^(?!.*Unnamed).*$')"
   ]
  },
  {
   "cell_type": "code",
   "execution_count": null,
   "id": "5fe3911d",
   "metadata": {},
   "outputs": [],
   "source": []
  },
  {
   "cell_type": "code",
   "execution_count": 13,
   "id": "26874565",
   "metadata": {},
   "outputs": [],
   "source": [
    "# 1.1.4 Удаляются строки с NaN (dropna) и дубликаты (dropduplicate)."
   ]
  },
  {
   "cell_type": "code",
   "execution_count": 14,
   "id": "85bf0f77",
   "metadata": {},
   "outputs": [],
   "source": [
    "df_4=read_csv('D:\\_ДАННЫЕ\\Train_cleared_dropna_drop_duplicates.csv')"
   ]
  },
  {
   "cell_type": "code",
   "execution_count": 15,
   "id": "e3000b42",
   "metadata": {},
   "outputs": [],
   "source": [
    "df_4=df_4.filter(regex='^(?!.*Unnamed).*$')"
   ]
  },
  {
   "cell_type": "code",
   "execution_count": null,
   "id": "a7013468",
   "metadata": {},
   "outputs": [],
   "source": []
  },
  {
   "cell_type": "code",
   "execution_count": 16,
   "id": "61d828fa",
   "metadata": {},
   "outputs": [],
   "source": [
    "# 1.1.5 Удаляются строки с NaN (dropna), дубликаты (dropduplicate) и противоречивые данные."
   ]
  },
  {
   "cell_type": "code",
   "execution_count": 17,
   "id": "b90d35d2",
   "metadata": {},
   "outputs": [],
   "source": [
    "df_5=read_csv('D:\\_ДАННЫЕ\\Train_cleared_!!!!!!!!.csv')"
   ]
  },
  {
   "cell_type": "code",
   "execution_count": 18,
   "id": "37c5145e",
   "metadata": {},
   "outputs": [],
   "source": [
    "df_5=df_5.filter(regex='^(?!.*Unnamed).*$')"
   ]
  },
  {
   "cell_type": "code",
   "execution_count": null,
   "id": "aceff8eb",
   "metadata": {},
   "outputs": [],
   "source": []
  },
  {
   "cell_type": "code",
   "execution_count": 19,
   "id": "70d455c6",
   "metadata": {},
   "outputs": [],
   "source": [
    "# 1.1.6 Загружаем новых клиентов."
   ]
  },
  {
   "cell_type": "code",
   "execution_count": 20,
   "id": "80caa75a",
   "metadata": {},
   "outputs": [],
   "source": [
    "df_test=read_csv('D:\\_ДАННЫЕ\\TEST_cleared_dropna.csv')"
   ]
  },
  {
   "cell_type": "code",
   "execution_count": 21,
   "id": "11ababee",
   "metadata": {},
   "outputs": [],
   "source": [
    "df_test=df_test.filter(regex='^(?!.*Unnamed).*$')"
   ]
  },
  {
   "cell_type": "code",
   "execution_count": 22,
   "id": "db3a87bb",
   "metadata": {},
   "outputs": [],
   "source": [
    "def to_array(x):\n",
    "    array = x.values\n",
    "    X = array[:,0:9]\n",
    "    Y = array[:,9]\n",
    "    return [X,Y]\n"
   ]
  },
  {
   "cell_type": "code",
   "execution_count": 23,
   "id": "830f9969",
   "metadata": {},
   "outputs": [],
   "source": [
    "X_new_clients = to_array(df_test)[0]\n",
    "Y_new_clients = to_array(df_test)[1]"
   ]
  },
  {
   "cell_type": "markdown",
   "id": "106b29c6",
   "metadata": {},
   "source": [
    "**1.2_Загрузка_SelectKBest**"
   ]
  },
  {
   "cell_type": "code",
   "execution_count": 24,
   "id": "dc9d70d3",
   "metadata": {},
   "outputs": [],
   "source": [
    "from sklearn.feature_selection import SelectKBest\n",
    "from sklearn.feature_selection import f_classif"
   ]
  },
  {
   "cell_type": "code",
   "execution_count": null,
   "id": "bba69b15",
   "metadata": {},
   "outputs": [],
   "source": []
  },
  {
   "cell_type": "markdown",
   "id": "cf1f4c2f",
   "metadata": {},
   "source": [
    "**1.3_Загрузка_KNN**"
   ]
  },
  {
   "cell_type": "code",
   "execution_count": 25,
   "id": "af515473",
   "metadata": {},
   "outputs": [],
   "source": [
    "from sklearn.neighbors import KNeighborsClassifier\n",
    "from sklearn.model_selection import KFold\n",
    "from sklearn.model_selection import cross_val_score\n",
    "from sklearn.model_selection import train_test_split\n",
    "from sklearn.linear_model import LogisticRegression\n",
    "from sklearn.ensemble import AdaBoostClassifier\n",
    "from sklearn.tree import DecisionTreeClassifier"
   ]
  },
  {
   "cell_type": "code",
   "execution_count": 31,
   "id": "424bc7f2",
   "metadata": {
    "collapsed": true
   },
   "outputs": [
    {
     "ename": "NameError",
     "evalue": "name 'X' is not defined",
     "output_type": "error",
     "traceback": [
      "\u001b[1;31m---------------------------------------------------------------------------\u001b[0m",
      "\u001b[1;31mNameError\u001b[0m                                 Traceback (most recent call last)",
      "\u001b[1;32mC:\\Users\\D9F8~1\\AppData\\Local\\Temp/ipykernel_17284/3251820764.py\u001b[0m in \u001b[0;36m<module>\u001b[1;34m\u001b[0m\n\u001b[1;32m----> 1\u001b[1;33m \u001b[0mX_train\u001b[0m\u001b[1;33m,\u001b[0m \u001b[0mX_test\u001b[0m\u001b[1;33m,\u001b[0m \u001b[0mY_train\u001b[0m\u001b[1;33m,\u001b[0m \u001b[0mY_test\u001b[0m \u001b[1;33m=\u001b[0m \u001b[0mtrain_test_split\u001b[0m\u001b[1;33m(\u001b[0m\u001b[0mX\u001b[0m\u001b[1;33m,\u001b[0m \u001b[0mY\u001b[0m\u001b[1;33m,\u001b[0m \u001b[0mtest_size\u001b[0m\u001b[1;33m=\u001b[0m\u001b[1;36m0.25\u001b[0m\u001b[1;33m,\u001b[0m \u001b[0mshuffle\u001b[0m\u001b[1;33m=\u001b[0m\u001b[1;32mTrue\u001b[0m\u001b[1;33m,\u001b[0m \u001b[0mrandom_state\u001b[0m\u001b[1;33m=\u001b[0m\u001b[1;36m7\u001b[0m\u001b[1;33m)\u001b[0m\u001b[1;33m\u001b[0m\u001b[1;33m\u001b[0m\u001b[0m\n\u001b[0m",
      "\u001b[1;31mNameError\u001b[0m: name 'X' is not defined"
     ]
    }
   ],
   "source": [
    "X_train, X_test, Y_train, Y_test = train_test_split(X, Y, test_size=0.25, shuffle=True, random_state=7) "
   ]
  },
  {
   "cell_type": "code",
   "execution_count": null,
   "id": "12c4268d",
   "metadata": {},
   "outputs": [],
   "source": [
    "model=KNeighborsClassifier()"
   ]
  },
  {
   "cell_type": "code",
   "execution_count": null,
   "id": "9449629e",
   "metadata": {},
   "outputs": [],
   "source": [
    "model.fit(X_train,Y_train)"
   ]
  },
  {
   "cell_type": "code",
   "execution_count": null,
   "id": "f1956c33",
   "metadata": {},
   "outputs": [],
   "source": [
    "result=model.score(X_test,Y_test)\n",
    "results"
   ]
  },
  {
   "cell_type": "code",
   "execution_count": null,
   "id": "a47c7fd4",
   "metadata": {},
   "outputs": [],
   "source": []
  },
  {
   "cell_type": "markdown",
   "id": "45056869",
   "metadata": {},
   "source": [
    "**1.4_Загрузка_графической_части**"
   ]
  },
  {
   "cell_type": "code",
   "execution_count": null,
   "id": "155add90",
   "metadata": {},
   "outputs": [],
   "source": [
    "import matplotlib.pyplot as plt \n",
    "plt.title('ПРОБА')\n",
    "plt.xlabel('x') # надпись оси\n",
    "plt.ylabel('y') # надпись оси\n",
    "plt.grid()  # сетка\n",
    "plt.plot(x,y1,'r--',x,y2)  # данные для абциссы и ординаты с заданием"
   ]
  },
  {
   "cell_type": "markdown",
   "id": "8bde3967",
   "metadata": {},
   "source": [
    "# **2. Готовим списки**"
   ]
  },
  {
   "cell_type": "code",
   "execution_count": 26,
   "id": "51a7bae4",
   "metadata": {},
   "outputs": [],
   "source": [
    "lst_1 = list(range(2,10))\n",
    "lst_2 = [df_1, df_2, df_3, df_4, df_5]\n",
    "res_test = []\n",
    "res_new_clients = []"
   ]
  },
  {
   "cell_type": "code",
   "execution_count": 27,
   "id": "7d783c5a",
   "metadata": {},
   "outputs": [],
   "source": [
    "def to_array(x):\n",
    "    array = x.values\n",
    "    X = array[:,0:9]\n",
    "    Y = array[:,9]\n",
    "    return [X,Y]\n"
   ]
  },
  {
   "cell_type": "code",
   "execution_count": 32,
   "id": "7616b010",
   "metadata": {},
   "outputs": [
    {
     "data": {
      "text/plain": [
       "[0.3937300743889479,\n",
       " 0.43133366385721367,\n",
       " 0.4331133773245351,\n",
       " 0.37935656836461124,\n",
       " 0.41410614525139666,\n",
       " 0.40170031880977686,\n",
       " 0.42786316311353495,\n",
       " 0.4379124175164967,\n",
       " 0.3873994638069705,\n",
       " 0.40712290502793297,\n",
       " 0.39213602550478216,\n",
       " 0.43232523549826474,\n",
       " 0.4301139772045591,\n",
       " 0.3947721179624665,\n",
       " 0.40782122905027934]"
      ]
     },
     "execution_count": 32,
     "metadata": {},
     "output_type": "execute_result"
    }
   ],
   "source": [
    "#model=AdaBoostClassifier()\n",
    "#model=LogisticRegression()\n",
    "model = DecisionTreeClassifier()\n",
    "for i in lst_2:\n",
    "    sign = to_array(i)[0]\n",
    "    meaning = to_array(i)[1]\n",
    "    X_train, X_test, Y_train, Y_test = train_test_split(sign, meaning, test_size=0.25, shuffle=True, random_state=7)\n",
    "    model.fit(X_train,Y_train)\n",
    "    result=model.score(X_test,Y_test)\n",
    "    res_test.append(result)\n",
    "res_test"
   ]
  },
  {
   "cell_type": "code",
   "execution_count": 33,
   "id": "ccefcb2e",
   "metadata": {},
   "outputs": [
    {
     "data": {
      "text/plain": [
       "[0.3073351903435469,\n",
       " 0.3147632311977716,\n",
       " 0.3245125348189415,\n",
       " 0.31708449396471683,\n",
       " 0.3147632311977716,\n",
       " 0.30547818012999073,\n",
       " 0.3115134633240483,\n",
       " 0.318941504178273,\n",
       " 0.3147632311977716,\n",
       " 0.31708449396471683,\n",
       " 0.3096564531104921,\n",
       " 0.3152274837511606,\n",
       " 0.3254410399257196,\n",
       " 0.31429897864438255,\n",
       " 0.31847725162488394]"
      ]
     },
     "execution_count": 33,
     "metadata": {},
     "output_type": "execute_result"
    }
   ],
   "source": [
    "#model=AdaBoostClassifier()\n",
    "#model=LogisticRegression()\n",
    "model = DecisionTreeClassifier()\n",
    "for i in lst_2:\n",
    "    sign = to_array(i)[0]\n",
    "    meaning = to_array(i)[1]\n",
    "#    X_train, X_test, Y_train, Y_test = train_test_split(sign, meaning, test_size=0.25, shuffle=True, random_state=7)\n",
    "    model.fit(sign,meaning)\n",
    "    result=model.score(X_new_clients,Y_new_clients)\n",
    "    res_new_clients.append(result)\n",
    "res_new_clients"
   ]
  },
  {
   "cell_type": "code",
   "execution_count": null,
   "id": "29378088",
   "metadata": {},
   "outputs": [],
   "source": [
    "=================================================================="
   ]
  },
  {
   "cell_type": "code",
   "execution_count": 34,
   "id": "1c9c9c20",
   "metadata": {},
   "outputs": [],
   "source": [
    "def to_array(x):\n",
    "    array = x.values\n",
    "    X = array[:,0:9]\n",
    "    Y = array[:,9]\n",
    "    return [X,Y]"
   ]
  },
  {
   "cell_type": "code",
   "execution_count": 35,
   "id": "2797bddd",
   "metadata": {},
   "outputs": [
    {
     "data": {
      "text/plain": [
       "DecisionTreeClassifier()"
      ]
     },
     "execution_count": 35,
     "metadata": {},
     "output_type": "execute_result"
    }
   ],
   "source": [
    "X = to_array(df_5)[0]\n",
    "Y = to_array(df_5)[1]\n",
    "model = DecisionTreeClassifier()\n",
    "model.fit(X,Y)\n",
    "#result=model.score(X,Y)\n",
    "#result"
   ]
  },
  {
   "cell_type": "code",
   "execution_count": 36,
   "id": "c9c67c75",
   "metadata": {},
   "outputs": [],
   "source": [
    "from sklearn.metrics import classification_report, confusion_matrix"
   ]
  },
  {
   "cell_type": "code",
   "execution_count": 37,
   "id": "8bc76cdc",
   "metadata": {},
   "outputs": [],
   "source": [
    "new_predictions = model.predict(X_new_clients)"
   ]
  },
  {
   "cell_type": "code",
   "execution_count": 38,
   "id": "a9d6f551",
   "metadata": {},
   "outputs": [
    {
     "name": "stdout",
     "output_type": "stream",
     "text": [
      "              precision    recall  f1-score   support\n",
      "\n",
      "         1.0       0.37      0.28      0.32       692\n",
      "         2.0       0.24      0.29      0.27       450\n",
      "         3.0       0.24      0.34      0.28       381\n",
      "         4.0       0.42      0.38      0.40       631\n",
      "\n",
      "    accuracy                           0.32      2154\n",
      "   macro avg       0.32      0.32      0.32      2154\n",
      "weighted avg       0.34      0.32      0.32      2154\n",
      "\n",
      "[[193 168 168 163]\n",
      " [120 132 102  96]\n",
      " [ 77 114 128  62]\n",
      " [135 131 128 237]]\n"
     ]
    }
   ],
   "source": [
    "print(classification_report(Y_new_clients, new_predictions))\n",
    "print(confusion_matrix(Y_new_clients, new_predictions))"
   ]
  },
  {
   "cell_type": "code",
   "execution_count": 39,
   "id": "8165c63c",
   "metadata": {},
   "outputs": [
    {
     "data": {
      "text/plain": [
       "0.4176706827309237"
      ]
     },
     "execution_count": 39,
     "metadata": {},
     "output_type": "execute_result"
    }
   ],
   "source": [
    "kfold=KFold(n_splits=3,random_state=7,shuffle=True)\n",
    "results=cross_val_score(model, X, Y, cv=3)\n",
    "results.mean()"
   ]
  },
  {
   "cell_type": "code",
   "execution_count": null,
   "id": "0d00607b",
   "metadata": {},
   "outputs": [],
   "source": []
  },
  {
   "cell_type": "code",
   "execution_count": null,
   "id": "5f647eb8",
   "metadata": {},
   "outputs": [],
   "source": []
  },
  {
   "cell_type": "code",
   "execution_count": null,
   "id": "6504afd7",
   "metadata": {},
   "outputs": [],
   "source": []
  },
  {
   "cell_type": "code",
   "execution_count": null,
   "id": "ddd4f9db",
   "metadata": {},
   "outputs": [],
   "source": []
  },
  {
   "cell_type": "code",
   "execution_count": null,
   "id": "518cf31c",
   "metadata": {},
   "outputs": [],
   "source": []
  },
  {
   "cell_type": "code",
   "execution_count": null,
   "id": "597d0abd",
   "metadata": {},
   "outputs": [],
   "source": []
  },
  {
   "cell_type": "code",
   "execution_count": null,
   "id": "5077fc04",
   "metadata": {},
   "outputs": [],
   "source": []
  },
  {
   "cell_type": "code",
   "execution_count": null,
   "id": "0e7e69f5",
   "metadata": {},
   "outputs": [],
   "source": []
  },
  {
   "cell_type": "code",
   "execution_count": null,
   "id": "b2913c44",
   "metadata": {},
   "outputs": [],
   "source": []
  },
  {
   "cell_type": "code",
   "execution_count": null,
   "id": "f4eb7d7b",
   "metadata": {},
   "outputs": [],
   "source": []
  },
  {
   "cell_type": "code",
   "execution_count": null,
   "id": "45d62c59",
   "metadata": {},
   "outputs": [],
   "source": []
  },
  {
   "cell_type": "code",
   "execution_count": null,
   "id": "7a67e3e0",
   "metadata": {},
   "outputs": [],
   "source": []
  },
  {
   "cell_type": "code",
   "execution_count": null,
   "id": "d9ba47e1",
   "metadata": {},
   "outputs": [],
   "source": []
  },
  {
   "cell_type": "code",
   "execution_count": null,
   "id": "70795ed7",
   "metadata": {},
   "outputs": [],
   "source": []
  },
  {
   "cell_type": "code",
   "execution_count": null,
   "id": "650b3ca4",
   "metadata": {},
   "outputs": [],
   "source": []
  },
  {
   "cell_type": "code",
   "execution_count": null,
   "id": "c80b469c",
   "metadata": {},
   "outputs": [],
   "source": []
  },
  {
   "cell_type": "code",
   "execution_count": null,
   "id": "a20d2773",
   "metadata": {},
   "outputs": [],
   "source": []
  },
  {
   "cell_type": "code",
   "execution_count": null,
   "id": "db034c01",
   "metadata": {},
   "outputs": [],
   "source": []
  },
  {
   "cell_type": "code",
   "execution_count": 101,
   "id": "fc8a5d8f",
   "metadata": {
    "collapsed": true
   },
   "outputs": [
    {
     "ename": "ValueError",
     "evalue": "X has 9 features, but DecisionTreeClassifier is expecting 2 features as input.",
     "output_type": "error",
     "traceback": [
      "\u001b[1;31m---------------------------------------------------------------------------\u001b[0m",
      "\u001b[1;31mValueError\u001b[0m                                Traceback (most recent call last)",
      "\u001b[1;32mC:\\Users\\D9F8~1\\AppData\\Local\\Temp/ipykernel_17284/2423974178.py\u001b[0m in \u001b[0;36m<module>\u001b[1;34m\u001b[0m\n\u001b[0;32m      9\u001b[0m \u001b[1;31m#                X_train, X_test, Y_train, Y_test = train_test_split(features, meaning, test_size=0.25, shuffle=True, random_state=7)\u001b[0m\u001b[1;33m\u001b[0m\u001b[1;33m\u001b[0m\u001b[0m\n\u001b[0;32m     10\u001b[0m                 \u001b[0mmodel\u001b[0m\u001b[1;33m.\u001b[0m\u001b[0mfit\u001b[0m\u001b[1;33m(\u001b[0m\u001b[0mfeatures\u001b[0m\u001b[1;33m,\u001b[0m\u001b[0mY\u001b[0m\u001b[1;33m)\u001b[0m\u001b[1;33m\u001b[0m\u001b[1;33m\u001b[0m\u001b[0m\n\u001b[1;32m---> 11\u001b[1;33m                 \u001b[0mresult\u001b[0m\u001b[1;33m=\u001b[0m\u001b[0mmodel\u001b[0m\u001b[1;33m.\u001b[0m\u001b[0mscore\u001b[0m\u001b[1;33m(\u001b[0m\u001b[0mX_new_clients\u001b[0m\u001b[1;33m,\u001b[0m\u001b[0mY_new_clients\u001b[0m\u001b[1;33m)\u001b[0m\u001b[1;33m\u001b[0m\u001b[1;33m\u001b[0m\u001b[0m\n\u001b[0m\u001b[0;32m     12\u001b[0m                 \u001b[0mres\u001b[0m\u001b[1;33m.\u001b[0m\u001b[0mappend\u001b[0m\u001b[1;33m(\u001b[0m\u001b[0mresult\u001b[0m\u001b[1;33m)\u001b[0m\u001b[1;33m\u001b[0m\u001b[1;33m\u001b[0m\u001b[0m\n\u001b[0;32m     13\u001b[0m \u001b[0mprint\u001b[0m\u001b[1;33m(\u001b[0m\u001b[0mres\u001b[0m\u001b[1;33m)\u001b[0m\u001b[1;33m\u001b[0m\u001b[1;33m\u001b[0m\u001b[0m\n",
      "\u001b[1;32mD:\\Programs\\lib\\site-packages\\sklearn\\base.py\u001b[0m in \u001b[0;36mscore\u001b[1;34m(self, X, y, sample_weight)\u001b[0m\n\u001b[0;32m    498\u001b[0m         \"\"\"\n\u001b[0;32m    499\u001b[0m         \u001b[1;32mfrom\u001b[0m \u001b[1;33m.\u001b[0m\u001b[0mmetrics\u001b[0m \u001b[1;32mimport\u001b[0m \u001b[0maccuracy_score\u001b[0m\u001b[1;33m\u001b[0m\u001b[1;33m\u001b[0m\u001b[0m\n\u001b[1;32m--> 500\u001b[1;33m         \u001b[1;32mreturn\u001b[0m \u001b[0maccuracy_score\u001b[0m\u001b[1;33m(\u001b[0m\u001b[0my\u001b[0m\u001b[1;33m,\u001b[0m \u001b[0mself\u001b[0m\u001b[1;33m.\u001b[0m\u001b[0mpredict\u001b[0m\u001b[1;33m(\u001b[0m\u001b[0mX\u001b[0m\u001b[1;33m)\u001b[0m\u001b[1;33m,\u001b[0m \u001b[0msample_weight\u001b[0m\u001b[1;33m=\u001b[0m\u001b[0msample_weight\u001b[0m\u001b[1;33m)\u001b[0m\u001b[1;33m\u001b[0m\u001b[1;33m\u001b[0m\u001b[0m\n\u001b[0m\u001b[0;32m    501\u001b[0m \u001b[1;33m\u001b[0m\u001b[0m\n\u001b[0;32m    502\u001b[0m     \u001b[1;32mdef\u001b[0m \u001b[0m_more_tags\u001b[0m\u001b[1;33m(\u001b[0m\u001b[0mself\u001b[0m\u001b[1;33m)\u001b[0m\u001b[1;33m:\u001b[0m\u001b[1;33m\u001b[0m\u001b[1;33m\u001b[0m\u001b[0m\n",
      "\u001b[1;32mD:\\Programs\\lib\\site-packages\\sklearn\\tree\\_classes.py\u001b[0m in \u001b[0;36mpredict\u001b[1;34m(self, X, check_input)\u001b[0m\n\u001b[0;32m    440\u001b[0m         \"\"\"\n\u001b[0;32m    441\u001b[0m         \u001b[0mcheck_is_fitted\u001b[0m\u001b[1;33m(\u001b[0m\u001b[0mself\u001b[0m\u001b[1;33m)\u001b[0m\u001b[1;33m\u001b[0m\u001b[1;33m\u001b[0m\u001b[0m\n\u001b[1;32m--> 442\u001b[1;33m         \u001b[0mX\u001b[0m \u001b[1;33m=\u001b[0m \u001b[0mself\u001b[0m\u001b[1;33m.\u001b[0m\u001b[0m_validate_X_predict\u001b[0m\u001b[1;33m(\u001b[0m\u001b[0mX\u001b[0m\u001b[1;33m,\u001b[0m \u001b[0mcheck_input\u001b[0m\u001b[1;33m)\u001b[0m\u001b[1;33m\u001b[0m\u001b[1;33m\u001b[0m\u001b[0m\n\u001b[0m\u001b[0;32m    443\u001b[0m         \u001b[0mproba\u001b[0m \u001b[1;33m=\u001b[0m \u001b[0mself\u001b[0m\u001b[1;33m.\u001b[0m\u001b[0mtree_\u001b[0m\u001b[1;33m.\u001b[0m\u001b[0mpredict\u001b[0m\u001b[1;33m(\u001b[0m\u001b[0mX\u001b[0m\u001b[1;33m)\u001b[0m\u001b[1;33m\u001b[0m\u001b[1;33m\u001b[0m\u001b[0m\n\u001b[0;32m    444\u001b[0m         \u001b[0mn_samples\u001b[0m \u001b[1;33m=\u001b[0m \u001b[0mX\u001b[0m\u001b[1;33m.\u001b[0m\u001b[0mshape\u001b[0m\u001b[1;33m[\u001b[0m\u001b[1;36m0\u001b[0m\u001b[1;33m]\u001b[0m\u001b[1;33m\u001b[0m\u001b[1;33m\u001b[0m\u001b[0m\n",
      "\u001b[1;32mD:\\Programs\\lib\\site-packages\\sklearn\\tree\\_classes.py\u001b[0m in \u001b[0;36m_validate_X_predict\u001b[1;34m(self, X, check_input)\u001b[0m\n\u001b[0;32m    405\u001b[0m         \u001b[1;34m\"\"\"Validate the training data on predict (probabilities).\"\"\"\u001b[0m\u001b[1;33m\u001b[0m\u001b[1;33m\u001b[0m\u001b[0m\n\u001b[0;32m    406\u001b[0m         \u001b[1;32mif\u001b[0m \u001b[0mcheck_input\u001b[0m\u001b[1;33m:\u001b[0m\u001b[1;33m\u001b[0m\u001b[1;33m\u001b[0m\u001b[0m\n\u001b[1;32m--> 407\u001b[1;33m             X = self._validate_data(X, dtype=DTYPE, accept_sparse=\"csr\",\n\u001b[0m\u001b[0;32m    408\u001b[0m                                     reset=False)\n\u001b[0;32m    409\u001b[0m             if issparse(X) and (X.indices.dtype != np.intc or\n",
      "\u001b[1;32mD:\\Programs\\lib\\site-packages\\sklearn\\base.py\u001b[0m in \u001b[0;36m_validate_data\u001b[1;34m(self, X, y, reset, validate_separately, **check_params)\u001b[0m\n\u001b[0;32m    435\u001b[0m \u001b[1;33m\u001b[0m\u001b[0m\n\u001b[0;32m    436\u001b[0m         \u001b[1;32mif\u001b[0m \u001b[0mcheck_params\u001b[0m\u001b[1;33m.\u001b[0m\u001b[0mget\u001b[0m\u001b[1;33m(\u001b[0m\u001b[1;34m'ensure_2d'\u001b[0m\u001b[1;33m,\u001b[0m \u001b[1;32mTrue\u001b[0m\u001b[1;33m)\u001b[0m\u001b[1;33m:\u001b[0m\u001b[1;33m\u001b[0m\u001b[1;33m\u001b[0m\u001b[0m\n\u001b[1;32m--> 437\u001b[1;33m             \u001b[0mself\u001b[0m\u001b[1;33m.\u001b[0m\u001b[0m_check_n_features\u001b[0m\u001b[1;33m(\u001b[0m\u001b[0mX\u001b[0m\u001b[1;33m,\u001b[0m \u001b[0mreset\u001b[0m\u001b[1;33m=\u001b[0m\u001b[0mreset\u001b[0m\u001b[1;33m)\u001b[0m\u001b[1;33m\u001b[0m\u001b[1;33m\u001b[0m\u001b[0m\n\u001b[0m\u001b[0;32m    438\u001b[0m \u001b[1;33m\u001b[0m\u001b[0m\n\u001b[0;32m    439\u001b[0m         \u001b[1;32mreturn\u001b[0m \u001b[0mout\u001b[0m\u001b[1;33m\u001b[0m\u001b[1;33m\u001b[0m\u001b[0m\n",
      "\u001b[1;32mD:\\Programs\\lib\\site-packages\\sklearn\\base.py\u001b[0m in \u001b[0;36m_check_n_features\u001b[1;34m(self, X, reset)\u001b[0m\n\u001b[0;32m    363\u001b[0m \u001b[1;33m\u001b[0m\u001b[0m\n\u001b[0;32m    364\u001b[0m         \u001b[1;32mif\u001b[0m \u001b[0mn_features\u001b[0m \u001b[1;33m!=\u001b[0m \u001b[0mself\u001b[0m\u001b[1;33m.\u001b[0m\u001b[0mn_features_in_\u001b[0m\u001b[1;33m:\u001b[0m\u001b[1;33m\u001b[0m\u001b[1;33m\u001b[0m\u001b[0m\n\u001b[1;32m--> 365\u001b[1;33m             raise ValueError(\n\u001b[0m\u001b[0;32m    366\u001b[0m                 \u001b[1;34mf\"X has {n_features} features, but {self.__class__.__name__} \"\u001b[0m\u001b[1;33m\u001b[0m\u001b[1;33m\u001b[0m\u001b[0m\n\u001b[0;32m    367\u001b[0m                 f\"is expecting {self.n_features_in_} features as input.\")\n",
      "\u001b[1;31mValueError\u001b[0m: X has 9 features, but DecisionTreeClassifier is expecting 2 features as input."
     ]
    }
   ],
   "source": [
    "model = DecisionTreeClassifier()\n",
    "#sign = to_array(k)[0]\n",
    "#meaning = to_array(k)[1]\n",
    "for j in lst_1:\n",
    "                test=SelectKBest(score_func=f_classif, k=j)\n",
    "                fit=test.fit(X,Y)\n",
    "                features=fit.transform(X)\n",
    "#                for i in lst_2:\n",
    "#                X_train, X_test, Y_train, Y_test = train_test_split(features, meaning, test_size=0.25, shuffle=True, random_state=7)\n",
    "                model.fit(features,Y)\n",
    "                tes=SelectKBest(score_func=f_classif, k=j)\n",
    "                fi=test.fit(X_new_clients,Y)\n",
    "                features=fit.transform(X)    \n",
    "                result=model.score(X_new_clients,Y_new_clients)\n",
    "                res.append(result)\n",
    "print(res)\n",
    "print('_________')"
   ]
  },
  {
   "cell_type": "code",
   "execution_count": null,
   "id": "ed94daf8",
   "metadata": {},
   "outputs": [],
   "source": []
  },
  {
   "cell_type": "code",
   "execution_count": null,
   "id": "bae9b21e",
   "metadata": {},
   "outputs": [],
   "source": []
  },
  {
   "cell_type": "code",
   "execution_count": null,
   "id": "1fa8b525",
   "metadata": {},
   "outputs": [],
   "source": []
  }
 ],
 "metadata": {
  "kernelspec": {
   "display_name": "Python 3 (ipykernel)",
   "language": "python",
   "name": "python3"
  },
  "language_info": {
   "codemirror_mode": {
    "name": "ipython",
    "version": 3
   },
   "file_extension": ".py",
   "mimetype": "text/x-python",
   "name": "python",
   "nbconvert_exporter": "python",
   "pygments_lexer": "ipython3",
   "version": "3.9.7"
  }
 },
 "nbformat": 4,
 "nbformat_minor": 5
}
