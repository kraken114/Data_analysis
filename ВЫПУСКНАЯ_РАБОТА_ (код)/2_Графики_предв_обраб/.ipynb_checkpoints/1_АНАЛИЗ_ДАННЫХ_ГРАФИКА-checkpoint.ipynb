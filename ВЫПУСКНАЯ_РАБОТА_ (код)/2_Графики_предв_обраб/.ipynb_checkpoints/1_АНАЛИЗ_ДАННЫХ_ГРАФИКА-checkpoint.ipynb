{
 "cells": [
  {
   "cell_type": "markdown",
   "id": "74bd4e2a",
   "metadata": {},
   "source": [
    "# **1. Предварительная загрузка данных и модулей**"
   ]
  },
  {
   "cell_type": "code",
   "execution_count": 1,
   "id": "a850e069",
   "metadata": {},
   "outputs": [],
   "source": [
    "import pandas as pd\n",
    "import numpy as np\n",
    "from pandas import read_csv"
   ]
  },
  {
   "cell_type": "markdown",
   "id": "2c11681d",
   "metadata": {},
   "source": [
    "**1.1_Загрузка_данных**"
   ]
  },
  {
   "cell_type": "code",
   "execution_count": 2,
   "id": "775c9ceb",
   "metadata": {},
   "outputs": [],
   "source": [
    "# 1.1.1 Исходный данные без очистки."
   ]
  },
  {
   "cell_type": "code",
   "execution_count": 3,
   "id": "fbdfabea",
   "metadata": {},
   "outputs": [],
   "source": [
    "df_1=read_csv('D:\\_ДАННЫЕ\\Train_full_dropduplicate.csv')"
   ]
  },
  {
   "cell_type": "code",
   "execution_count": 4,
   "id": "0db49fba",
   "metadata": {},
   "outputs": [],
   "source": [
    "df_1=df_1.filter(regex='^(?!.*Unnamed).*$')"
   ]
  },
  {
   "cell_type": "code",
   "execution_count": 5,
   "id": "c1287b51",
   "metadata": {},
   "outputs": [
    {
     "data": {
      "text/plain": [
       "(7528, 10)"
      ]
     },
     "execution_count": 5,
     "metadata": {},
     "output_type": "execute_result"
    }
   ],
   "source": [
    "df_1.shape"
   ]
  },
  {
   "cell_type": "code",
   "execution_count": 6,
   "id": "4e4f124d",
   "metadata": {},
   "outputs": [],
   "source": [
    "# 1.1.2 Данные с заполнением NaN соседними данными после группировки (fillna) без удаления строк."
   ]
  },
  {
   "cell_type": "code",
   "execution_count": 7,
   "id": "9b07a868",
   "metadata": {},
   "outputs": [],
   "source": [
    "df_2=read_csv('D:\\_ДАННЫЕ\\Train_cleared_fillna.csv')"
   ]
  },
  {
   "cell_type": "code",
   "execution_count": 8,
   "id": "2e8c00c6",
   "metadata": {},
   "outputs": [],
   "source": [
    "df_2=df_2.filter(regex='^(?!.*Unnamed).*$')"
   ]
  },
  {
   "cell_type": "code",
   "execution_count": 9,
   "id": "6f919ba6",
   "metadata": {},
   "outputs": [
    {
     "data": {
      "text/plain": [
       "(8067, 10)"
      ]
     },
     "execution_count": 9,
     "metadata": {},
     "output_type": "execute_result"
    }
   ],
   "source": [
    "df_2.shape"
   ]
  },
  {
   "cell_type": "code",
   "execution_count": null,
   "id": "cd9b11ea",
   "metadata": {},
   "outputs": [],
   "source": []
  },
  {
   "cell_type": "code",
   "execution_count": 10,
   "id": "0a6f439d",
   "metadata": {},
   "outputs": [],
   "source": [
    "# 1.1.3 Строки с NaN удаляются (dropna)."
   ]
  },
  {
   "cell_type": "code",
   "execution_count": 11,
   "id": "8a9eb62a",
   "metadata": {},
   "outputs": [],
   "source": [
    "df_3=read_csv('D:\\_ДАННЫЕ\\Train_cleared_dropna.csv')"
   ]
  },
  {
   "cell_type": "code",
   "execution_count": 12,
   "id": "8f238021",
   "metadata": {},
   "outputs": [],
   "source": [
    "df_3=df_3.filter(regex='^(?!.*Unnamed).*$')"
   ]
  },
  {
   "cell_type": "code",
   "execution_count": null,
   "id": "5fe3911d",
   "metadata": {},
   "outputs": [],
   "source": []
  },
  {
   "cell_type": "code",
   "execution_count": 13,
   "id": "26874565",
   "metadata": {},
   "outputs": [],
   "source": [
    "# 1.1.4 Удаляются строки с NaN (dropna) и дубликаты (dropduplicate)."
   ]
  },
  {
   "cell_type": "code",
   "execution_count": 14,
   "id": "85bf0f77",
   "metadata": {},
   "outputs": [],
   "source": [
    "df_4=read_csv('D:\\_ДАННЫЕ\\Train_cleared_dropna_drop_duplicates.csv')"
   ]
  },
  {
   "cell_type": "code",
   "execution_count": 15,
   "id": "e3000b42",
   "metadata": {},
   "outputs": [],
   "source": [
    "df_4=df_4.filter(regex='^(?!.*Unnamed).*$')"
   ]
  },
  {
   "cell_type": "code",
   "execution_count": null,
   "id": "a7013468",
   "metadata": {},
   "outputs": [],
   "source": []
  },
  {
   "cell_type": "code",
   "execution_count": 16,
   "id": "61d828fa",
   "metadata": {},
   "outputs": [],
   "source": [
    "# 1.1.5 Удаляются строки с NaN (dropna), дубликаты (dropduplicate) и противоречивые данные."
   ]
  },
  {
   "cell_type": "code",
   "execution_count": 17,
   "id": "b90d35d2",
   "metadata": {},
   "outputs": [],
   "source": [
    "df_5=read_csv('D:\\_ДАННЫЕ\\Train_cleared_!!!!!!!!.csv')"
   ]
  },
  {
   "cell_type": "code",
   "execution_count": 18,
   "id": "37c5145e",
   "metadata": {},
   "outputs": [],
   "source": [
    "df_5=df_5.filter(regex='^(?!.*Unnamed).*$')"
   ]
  },
  {
   "cell_type": "code",
   "execution_count": null,
   "id": "fbdd98bd",
   "metadata": {},
   "outputs": [],
   "source": []
  },
  {
   "cell_type": "code",
   "execution_count": 19,
   "id": "1ca7ed98",
   "metadata": {},
   "outputs": [],
   "source": [
    "# 1.1.6 Загружаем новых клиентов."
   ]
  },
  {
   "cell_type": "code",
   "execution_count": 21,
   "id": "8e067151",
   "metadata": {},
   "outputs": [],
   "source": [
    "df_test=read_csv('D:\\_ДАННЫЕ\\Test_CLEARED_END!!!!!!!!.csv')"
   ]
  },
  {
   "cell_type": "code",
   "execution_count": 22,
   "id": "4967b722",
   "metadata": {},
   "outputs": [],
   "source": [
    "df_test=df_test.filter(regex='^(?!.*Unnamed).*$')"
   ]
  },
  {
   "cell_type": "code",
   "execution_count": 23,
   "id": "3f0eddb0",
   "metadata": {},
   "outputs": [],
   "source": [
    "def to_array(x):\n",
    "    array = x.values\n",
    "    X = array[:,0:9]\n",
    "    Y = array[:,9]\n",
    "    return [X,Y]\n"
   ]
  },
  {
   "cell_type": "code",
   "execution_count": 24,
   "id": "4e2c4146",
   "metadata": {},
   "outputs": [],
   "source": [
    "X_new_clients = to_array(df_test)[0]\n",
    "Y_new_clients = to_array(df_test)[1]"
   ]
  },
  {
   "cell_type": "markdown",
   "id": "106b29c6",
   "metadata": {},
   "source": [
    "**1.2_Загрузка_SelectKBest**"
   ]
  },
  {
   "cell_type": "code",
   "execution_count": 25,
   "id": "dc9d70d3",
   "metadata": {},
   "outputs": [],
   "source": [
    "from sklearn.feature_selection import SelectKBest\n",
    "from sklearn.feature_selection import f_classif"
   ]
  },
  {
   "cell_type": "code",
   "execution_count": null,
   "id": "bba69b15",
   "metadata": {},
   "outputs": [],
   "source": []
  },
  {
   "cell_type": "markdown",
   "id": "cf1f4c2f",
   "metadata": {},
   "source": [
    "**1.3_Загрузка_KNN**"
   ]
  },
  {
   "cell_type": "code",
   "execution_count": 26,
   "id": "af515473",
   "metadata": {},
   "outputs": [],
   "source": [
    "from sklearn.neighbors import KNeighborsClassifier\n",
    "from sklearn.model_selection import KFold\n",
    "from sklearn.model_selection import cross_val_score\n",
    "from sklearn.model_selection import train_test_split\n",
    "from sklearn.linear_model import LogisticRegression\n",
    "from sklearn.ensemble import AdaBoostClassifier\n",
    "from sklearn.tree import DecisionTreeClassifier"
   ]
  },
  {
   "cell_type": "code",
   "execution_count": 31,
   "id": "424bc7f2",
   "metadata": {
    "collapsed": true
   },
   "outputs": [
    {
     "ename": "NameError",
     "evalue": "name 'X' is not defined",
     "output_type": "error",
     "traceback": [
      "\u001b[1;31m---------------------------------------------------------------------------\u001b[0m",
      "\u001b[1;31mNameError\u001b[0m                                 Traceback (most recent call last)",
      "\u001b[1;32mC:\\Users\\D9F8~1\\AppData\\Local\\Temp/ipykernel_17284/3251820764.py\u001b[0m in \u001b[0;36m<module>\u001b[1;34m\u001b[0m\n\u001b[1;32m----> 1\u001b[1;33m \u001b[0mX_train\u001b[0m\u001b[1;33m,\u001b[0m \u001b[0mX_test\u001b[0m\u001b[1;33m,\u001b[0m \u001b[0mY_train\u001b[0m\u001b[1;33m,\u001b[0m \u001b[0mY_test\u001b[0m \u001b[1;33m=\u001b[0m \u001b[0mtrain_test_split\u001b[0m\u001b[1;33m(\u001b[0m\u001b[0mX\u001b[0m\u001b[1;33m,\u001b[0m \u001b[0mY\u001b[0m\u001b[1;33m,\u001b[0m \u001b[0mtest_size\u001b[0m\u001b[1;33m=\u001b[0m\u001b[1;36m0.25\u001b[0m\u001b[1;33m,\u001b[0m \u001b[0mshuffle\u001b[0m\u001b[1;33m=\u001b[0m\u001b[1;32mTrue\u001b[0m\u001b[1;33m,\u001b[0m \u001b[0mrandom_state\u001b[0m\u001b[1;33m=\u001b[0m\u001b[1;36m7\u001b[0m\u001b[1;33m)\u001b[0m\u001b[1;33m\u001b[0m\u001b[1;33m\u001b[0m\u001b[0m\n\u001b[0m",
      "\u001b[1;31mNameError\u001b[0m: name 'X' is not defined"
     ]
    }
   ],
   "source": [
    "X_train, X_test, Y_train, Y_test = train_test_split(X, Y, test_size=0.25, shuffle=True, random_state=7) "
   ]
  },
  {
   "cell_type": "code",
   "execution_count": null,
   "id": "12c4268d",
   "metadata": {},
   "outputs": [],
   "source": [
    "model=KNeighborsClassifier()"
   ]
  },
  {
   "cell_type": "code",
   "execution_count": null,
   "id": "9449629e",
   "metadata": {},
   "outputs": [],
   "source": [
    "model.fit(X_train,Y_train)"
   ]
  },
  {
   "cell_type": "code",
   "execution_count": null,
   "id": "f1956c33",
   "metadata": {},
   "outputs": [],
   "source": [
    "result=model.score(X_test,Y_test)\n",
    "results"
   ]
  },
  {
   "cell_type": "code",
   "execution_count": null,
   "id": "a47c7fd4",
   "metadata": {},
   "outputs": [],
   "source": []
  },
  {
   "cell_type": "markdown",
   "id": "45056869",
   "metadata": {},
   "source": [
    "**1.4_Загрузка_графической_части**"
   ]
  },
  {
   "cell_type": "code",
   "execution_count": null,
   "id": "155add90",
   "metadata": {},
   "outputs": [],
   "source": [
    "import matplotlib.pyplot as plt \n",
    "plt.title('ПРОБА')\n",
    "plt.xlabel('x') # надпись оси\n",
    "plt.ylabel('y') # надпись оси\n",
    "plt.grid()  # сетка\n",
    "plt.plot(x,y1,'r--',x,y2)  # данные для абциссы и ординаты с заданием"
   ]
  },
  {
   "cell_type": "markdown",
   "id": "8bde3967",
   "metadata": {},
   "source": [
    "# **2. Готовим списки**"
   ]
  },
  {
   "cell_type": "code",
   "execution_count": 27,
   "id": "51a7bae4",
   "metadata": {},
   "outputs": [],
   "source": [
    "lst_1 = list(range(2,10))\n",
    "lst_2 = [df_1, df_2, df_3, df_4, df_5]\n",
    "res_test = []\n",
    "res_new_clients = []"
   ]
  },
  {
   "cell_type": "code",
   "execution_count": 28,
   "id": "7d783c5a",
   "metadata": {},
   "outputs": [],
   "source": [
    "def to_array(x):\n",
    "    array = x.values\n",
    "    X = array[:,0:9]\n",
    "    Y = array[:,9]\n",
    "    return [X,Y]\n"
   ]
  },
  {
   "cell_type": "code",
   "execution_count": 29,
   "id": "4ecdc98a",
   "metadata": {},
   "outputs": [
    {
     "data": {
      "text/plain": [
       "[0.48034006376195537,\n",
       " 0.5230540406544373,\n",
       " 0.5032993401319736,\n",
       " 0.49463806970509383,\n",
       " 0.48393854748603354]"
      ]
     },
     "execution_count": 29,
     "metadata": {},
     "output_type": "execute_result"
    }
   ],
   "source": [
    "model=AdaBoostClassifier()\n",
    "#model=LogisticRegression()\n",
    "#model = DecisionTreeClassifier()\n",
    "for i in lst_2:\n",
    "    sign = to_array(i)[0]\n",
    "    meaning = to_array(i)[1]\n",
    "    X_train, X_test, Y_train, Y_test = train_test_split(sign, meaning, test_size=0.25, shuffle=True, random_state=7)\n",
    "    model.fit(X_train,Y_train)\n",
    "    result=model.score(X_test,Y_test)\n",
    "    res_test.append(result)\n",
    "res_test"
   ]
  },
  {
   "cell_type": "code",
   "execution_count": 30,
   "id": "ccefcb2e",
   "metadata": {},
   "outputs": [
    {
     "data": {
      "text/plain": [
       "[0.32677165354330706,\n",
       " 0.3262795275590551,\n",
       " 0.32234251968503935,\n",
       " 0.32529527559055116,\n",
       " 0.3257874015748031]"
      ]
     },
     "execution_count": 30,
     "metadata": {},
     "output_type": "execute_result"
    }
   ],
   "source": [
    "model=AdaBoostClassifier()\n",
    "#model=LogisticRegression()\n",
    "#model = DecisionTreeClassifier()\n",
    "for i in lst_2:\n",
    "    sign = to_array(i)[0]\n",
    "    meaning = to_array(i)[1]\n",
    "#    X_train, X_test, Y_train, Y_test = train_test_split(sign, meaning, test_size=0.25, shuffle=True, random_state=7)\n",
    "    model.fit(sign,meaning)\n",
    "    result=model.score(X_new_clients,Y_new_clients)\n",
    "    res_new_clients.append(result)\n",
    "res_new_clients"
   ]
  },
  {
   "cell_type": "code",
   "execution_count": null,
   "id": "22486d6d",
   "metadata": {},
   "outputs": [],
   "source": [
    "=================================================================="
   ]
  },
  {
   "cell_type": "code",
   "execution_count": 31,
   "id": "ea6cb772",
   "metadata": {},
   "outputs": [],
   "source": [
    "import matplotlib.pyplot as plt\n",
    "import seaborn as sns"
   ]
  },
  {
   "cell_type": "code",
   "execution_count": 32,
   "id": "31f142c0",
   "metadata": {},
   "outputs": [],
   "source": [
    "x = 1,2,3,4,5"
   ]
  },
  {
   "cell_type": "code",
   "execution_count": 33,
   "id": "9fd005f5",
   "metadata": {
    "scrolled": false
   },
   "outputs": [
    {
     "data": {
      "image/png": "[encoded data removed]",
      "text/plain": [
       "<Figure size 864x504 with 1 Axes>"
      ]
     },
     "metadata": {
      "needs_background": "light"
     },
     "output_type": "display_data"
    }
   ],
   "source": [
    "plt.figure(figsize=(12, 7))\n",
    "\n",
    "plt.title('Доля правильных ответов после разных степеней очистки данных', alpha=0.5, color='g', fontsize=20, fontstyle='italic',\n",
    "fontweight='extra bold', linespacing=10)\n",
    "\n",
    "line1, = plt.plot(x, res_test, 'o-b',label='Исходный данные(тестовая выборка)')\n",
    "line2, = plt.plot(x, res_new_clients, 'o-.m', label='Новые клиенты')\n",
    "plt.text(0.5, 0.5, 'text')\n",
    "plt.grid()\n",
    "plt.legend(fontsize=15)\n",
    "plt.show()"
   ]
  },
  {
   "cell_type": "code",
   "execution_count": null,
   "id": "e5d9ad9d",
   "metadata": {},
   "outputs": [],
   "source": [
    "========================================================================================================"
   ]
  },
  {
   "cell_type": "code",
   "execution_count": 138,
   "id": "40563051",
   "metadata": {},
   "outputs": [
    {
     "data": {
      "text/html": [
       "<div>\n",
       "<style scoped>\n",
       "    .dataframe tbody tr th:only-of-type {\n",
       "        vertical-align: middle;\n",
       "    }\n",
       "\n",
       "    .dataframe tbody tr th {\n",
       "        vertical-align: top;\n",
       "    }\n",
       "\n",
       "    .dataframe thead th {\n",
       "        text-align: right;\n",
       "    }\n",
       "</style>\n",
       "<table border=\"1\" class=\"dataframe\">\n",
       "  <thead>\n",
       "    <tr style=\"text-align: right;\">\n",
       "      <th></th>\n",
       "      <th>Пол</th>\n",
       "      <th>Семейное_положение</th>\n",
       "      <th>Возраст</th>\n",
       "      <th>Высшее_образование</th>\n",
       "      <th>Профессия</th>\n",
       "      <th>Опыт_работы</th>\n",
       "      <th>Уровень_расходов</th>\n",
       "      <th>Размер_семьи</th>\n",
       "      <th>Анонимная_категория</th>\n",
       "      <th>Целевая_категория</th>\n",
       "    </tr>\n",
       "  </thead>\n",
       "  <tbody>\n",
       "    <tr>\n",
       "      <th>0</th>\n",
       "      <td>1</td>\n",
       "      <td>0.0</td>\n",
       "      <td>18</td>\n",
       "      <td>0.0</td>\n",
       "      <td>5.0</td>\n",
       "      <td>4.0</td>\n",
       "      <td>3</td>\n",
       "      <td>2.0</td>\n",
       "      <td>6.0</td>\n",
       "      <td>1</td>\n",
       "    </tr>\n",
       "    <tr>\n",
       "      <th>1</th>\n",
       "      <td>1</td>\n",
       "      <td>1.0</td>\n",
       "      <td>18</td>\n",
       "      <td>0.0</td>\n",
       "      <td>7.0</td>\n",
       "      <td>0.0</td>\n",
       "      <td>1</td>\n",
       "      <td>4.0</td>\n",
       "      <td>6.0</td>\n",
       "      <td>1</td>\n",
       "    </tr>\n",
       "  </tbody>\n",
       "</table>\n",
       "</div>"
      ],
      "text/plain": [
       "   Пол  Семейное_положение  Возраст  Высшее_образование  Профессия  \\\n",
       "0    1                 0.0       18                 0.0        5.0   \n",
       "1    1                 1.0       18                 0.0        7.0   \n",
       "\n",
       "   Опыт_работы  Уровень_расходов  Размер_семьи  Анонимная_категория  \\\n",
       "0          4.0                 3           2.0                  6.0   \n",
       "1          0.0                 1           4.0                  6.0   \n",
       "\n",
       "   Целевая_категория  \n",
       "0                  1  \n",
       "1                  1  "
      ]
     },
     "execution_count": 138,
     "metadata": {},
     "output_type": "execute_result"
    }
   ],
   "source": [
    "df_1.head(2)"
   ]
  },
  {
   "cell_type": "code",
   "execution_count": 250,
   "id": "a96edbf8",
   "metadata": {
    "scrolled": false
   },
   "outputs": [
    {
     "data": {
      "text/plain": [
       "<AxesSubplot:>"
      ]
     },
     "execution_count": 250,
     "metadata": {},
     "output_type": "execute_result"
    },
    {
     "data": {
      "image/png": "[encoded data removed]",
      "text/plain": [
       "<Figure size 864x504 with 1 Axes>"
      ]
     },
     "metadata": {
      "needs_background": "light"
     },
     "output_type": "display_data"
    }
   ],
   "source": [
    "plt.figure(figsize=(12, 7))\n",
    "df_1.Целевая_категория.hist(width = 0.3,alpha=0.5)\n",
    "df_2.Целевая_категория.hist(width = 0.2,alpha=0.5)\n",
    "df_3.Целевая_категория.hist(width = 0.4,alpha=0.5)\n",
    "df_4.Целевая_категория.hist(width = 0.5,alpha=0.5)\n",
    "df_5.Целевая_категория.hist(width = 0.6,alpha=0.5)\n"
   ]
  },
  {
   "cell_type": "code",
   "execution_count": null,
   "id": "877b6380",
   "metadata": {},
   "outputs": [],
   "source": []
  },
  {
   "cell_type": "code",
   "execution_count": null,
   "id": "52bdc4e5",
   "metadata": {},
   "outputs": [],
   "source": []
  },
  {
   "cell_type": "code",
   "execution_count": null,
   "id": "a179e511",
   "metadata": {},
   "outputs": [],
   "source": []
  },
  {
   "cell_type": "code",
   "execution_count": null,
   "id": "00d27859",
   "metadata": {},
   "outputs": [],
   "source": [
    "=================================================================="
   ]
  },
  {
   "cell_type": "code",
   "execution_count": 79,
   "id": "fb1a4529",
   "metadata": {},
   "outputs": [],
   "source": [
    "def to_array(x):\n",
    "    array = x.values\n",
    "    X = array[:,0:9]\n",
    "    Y = array[:,9]\n",
    "    return [X,Y]"
   ]
  },
  {
   "cell_type": "code",
   "execution_count": 91,
   "id": "fbfef4c1",
   "metadata": {},
   "outputs": [
    {
     "data": {
      "text/plain": [
       "DecisionTreeClassifier()"
      ]
     },
     "execution_count": 91,
     "metadata": {},
     "output_type": "execute_result"
    }
   ],
   "source": [
    "X = to_array(df_5)[0]\n",
    "Y = to_array(df_5)[1]\n",
    "model = DecisionTreeClassifier()\n",
    "model.fit(X,Y)\n",
    "#result=model.score(X,Y)\n",
    "#result"
   ]
  },
  {
   "cell_type": "code",
   "execution_count": 92,
   "id": "c7ea3224",
   "metadata": {},
   "outputs": [],
   "source": [
    "from sklearn.metrics import classification_report, confusion_matrix"
   ]
  },
  {
   "cell_type": "code",
   "execution_count": 93,
   "id": "8bc76cdc",
   "metadata": {},
   "outputs": [],
   "source": [
    "new_predictions = model.predict(X_new_clients)"
   ]
  },
  {
   "cell_type": "code",
   "execution_count": 94,
   "id": "a9d6f551",
   "metadata": {},
   "outputs": [
    {
     "name": "stdout",
     "output_type": "stream",
     "text": [
      "              precision    recall  f1-score   support\n",
      "\n",
      "         1.0       0.98      0.98      0.98       692\n",
      "         2.0       0.98      0.97      0.97       450\n",
      "         3.0       0.97      0.96      0.97       381\n",
      "         4.0       0.97      0.98      0.98       631\n",
      "\n",
      "    accuracy                           0.98      2154\n",
      "   macro avg       0.98      0.97      0.98      2154\n",
      "weighted avg       0.98      0.98      0.98      2154\n",
      "\n",
      "[[680   3   4   5]\n",
      " [  4 437   3   6]\n",
      " [  4   4 367   6]\n",
      " [  3   4   4 620]]\n"
     ]
    }
   ],
   "source": [
    "print(classification_report(Y_new_clients, new_predictions))\n",
    "print(confusion_matrix(Y_new_clients, new_predictions))"
   ]
  },
  {
   "cell_type": "code",
   "execution_count": 86,
   "id": "8165c63c",
   "metadata": {},
   "outputs": [
    {
     "data": {
      "text/plain": [
       "0.28729016786570744"
      ]
     },
     "execution_count": 86,
     "metadata": {},
     "output_type": "execute_result"
    }
   ],
   "source": [
    "kfold=KFold(n_splits=3,random_state=7,shuffle=True)\n",
    "results=cross_val_score(model, X, Y, cv=3)\n",
    "results.mean()"
   ]
  },
  {
   "cell_type": "code",
   "execution_count": null,
   "id": "b52b8ab3",
   "metadata": {},
   "outputs": [],
   "source": []
  },
  {
   "cell_type": "code",
   "execution_count": null,
   "id": "68a134cd",
   "metadata": {},
   "outputs": [],
   "source": []
  },
  {
   "cell_type": "code",
   "execution_count": null,
   "id": "dcea4045",
   "metadata": {},
   "outputs": [],
   "source": []
  },
  {
   "cell_type": "code",
   "execution_count": null,
   "id": "efdb41f2",
   "metadata": {},
   "outputs": [],
   "source": []
  },
  {
   "cell_type": "code",
   "execution_count": null,
   "id": "c8be4d2e",
   "metadata": {},
   "outputs": [],
   "source": []
  },
  {
   "cell_type": "code",
   "execution_count": null,
   "id": "accd26b5",
   "metadata": {},
   "outputs": [],
   "source": []
  },
  {
   "cell_type": "code",
   "execution_count": null,
   "id": "99f40ed8",
   "metadata": {},
   "outputs": [],
   "source": []
  },
  {
   "cell_type": "code",
   "execution_count": null,
   "id": "717ac7f2",
   "metadata": {},
   "outputs": [],
   "source": []
  },
  {
   "cell_type": "code",
   "execution_count": null,
   "id": "a424491c",
   "metadata": {},
   "outputs": [],
   "source": []
  },
  {
   "cell_type": "code",
   "execution_count": null,
   "id": "857f4792",
   "metadata": {},
   "outputs": [],
   "source": []
  },
  {
   "cell_type": "code",
   "execution_count": null,
   "id": "111c14e1",
   "metadata": {},
   "outputs": [],
   "source": []
  },
  {
   "cell_type": "code",
   "execution_count": null,
   "id": "c76875ce",
   "metadata": {},
   "outputs": [],
   "source": []
  },
  {
   "cell_type": "code",
   "execution_count": null,
   "id": "9b87d48c",
   "metadata": {},
   "outputs": [],
   "source": []
  },
  {
   "cell_type": "code",
   "execution_count": null,
   "id": "c0c8aca1",
   "metadata": {},
   "outputs": [],
   "source": []
  },
  {
   "cell_type": "code",
   "execution_count": null,
   "id": "90750e03",
   "metadata": {},
   "outputs": [],
   "source": []
  },
  {
   "cell_type": "code",
   "execution_count": null,
   "id": "f435e8bc",
   "metadata": {},
   "outputs": [],
   "source": []
  },
  {
   "cell_type": "code",
   "execution_count": null,
   "id": "916c9990",
   "metadata": {},
   "outputs": [],
   "source": []
  },
  {
   "cell_type": "code",
   "execution_count": null,
   "id": "2662ebca",
   "metadata": {},
   "outputs": [],
   "source": []
  },
  {
   "cell_type": "code",
   "execution_count": 101,
   "id": "fc8a5d8f",
   "metadata": {
    "collapsed": true
   },
   "outputs": [
    {
     "ename": "ValueError",
     "evalue": "X has 9 features, but DecisionTreeClassifier is expecting 2 features as input.",
     "output_type": "error",
     "traceback": [
      "\u001b[1;31m---------------------------------------------------------------------------\u001b[0m",
      "\u001b[1;31mValueError\u001b[0m                                Traceback (most recent call last)",
      "\u001b[1;32mC:\\Users\\D9F8~1\\AppData\\Local\\Temp/ipykernel_17284/2423974178.py\u001b[0m in \u001b[0;36m<module>\u001b[1;34m\u001b[0m\n\u001b[0;32m      9\u001b[0m \u001b[1;31m#                X_train, X_test, Y_train, Y_test = train_test_split(features, meaning, test_size=0.25, shuffle=True, random_state=7)\u001b[0m\u001b[1;33m\u001b[0m\u001b[1;33m\u001b[0m\u001b[0m\n\u001b[0;32m     10\u001b[0m                 \u001b[0mmodel\u001b[0m\u001b[1;33m.\u001b[0m\u001b[0mfit\u001b[0m\u001b[1;33m(\u001b[0m\u001b[0mfeatures\u001b[0m\u001b[1;33m,\u001b[0m\u001b[0mY\u001b[0m\u001b[1;33m)\u001b[0m\u001b[1;33m\u001b[0m\u001b[1;33m\u001b[0m\u001b[0m\n\u001b[1;32m---> 11\u001b[1;33m                 \u001b[0mresult\u001b[0m\u001b[1;33m=\u001b[0m\u001b[0mmodel\u001b[0m\u001b[1;33m.\u001b[0m\u001b[0mscore\u001b[0m\u001b[1;33m(\u001b[0m\u001b[0mX_new_clients\u001b[0m\u001b[1;33m,\u001b[0m\u001b[0mY_new_clients\u001b[0m\u001b[1;33m)\u001b[0m\u001b[1;33m\u001b[0m\u001b[1;33m\u001b[0m\u001b[0m\n\u001b[0m\u001b[0;32m     12\u001b[0m                 \u001b[0mres\u001b[0m\u001b[1;33m.\u001b[0m\u001b[0mappend\u001b[0m\u001b[1;33m(\u001b[0m\u001b[0mresult\u001b[0m\u001b[1;33m)\u001b[0m\u001b[1;33m\u001b[0m\u001b[1;33m\u001b[0m\u001b[0m\n\u001b[0;32m     13\u001b[0m \u001b[0mprint\u001b[0m\u001b[1;33m(\u001b[0m\u001b[0mres\u001b[0m\u001b[1;33m)\u001b[0m\u001b[1;33m\u001b[0m\u001b[1;33m\u001b[0m\u001b[0m\n",
      "\u001b[1;32mD:\\Programs\\lib\\site-packages\\sklearn\\base.py\u001b[0m in \u001b[0;36mscore\u001b[1;34m(self, X, y, sample_weight)\u001b[0m\n\u001b[0;32m    498\u001b[0m         \"\"\"\n\u001b[0;32m    499\u001b[0m         \u001b[1;32mfrom\u001b[0m \u001b[1;33m.\u001b[0m\u001b[0mmetrics\u001b[0m \u001b[1;32mimport\u001b[0m \u001b[0maccuracy_score\u001b[0m\u001b[1;33m\u001b[0m\u001b[1;33m\u001b[0m\u001b[0m\n\u001b[1;32m--> 500\u001b[1;33m         \u001b[1;32mreturn\u001b[0m \u001b[0maccuracy_score\u001b[0m\u001b[1;33m(\u001b[0m\u001b[0my\u001b[0m\u001b[1;33m,\u001b[0m \u001b[0mself\u001b[0m\u001b[1;33m.\u001b[0m\u001b[0mpredict\u001b[0m\u001b[1;33m(\u001b[0m\u001b[0mX\u001b[0m\u001b[1;33m)\u001b[0m\u001b[1;33m,\u001b[0m \u001b[0msample_weight\u001b[0m\u001b[1;33m=\u001b[0m\u001b[0msample_weight\u001b[0m\u001b[1;33m)\u001b[0m\u001b[1;33m\u001b[0m\u001b[1;33m\u001b[0m\u001b[0m\n\u001b[0m\u001b[0;32m    501\u001b[0m \u001b[1;33m\u001b[0m\u001b[0m\n\u001b[0;32m    502\u001b[0m     \u001b[1;32mdef\u001b[0m \u001b[0m_more_tags\u001b[0m\u001b[1;33m(\u001b[0m\u001b[0mself\u001b[0m\u001b[1;33m)\u001b[0m\u001b[1;33m:\u001b[0m\u001b[1;33m\u001b[0m\u001b[1;33m\u001b[0m\u001b[0m\n",
      "\u001b[1;32mD:\\Programs\\lib\\site-packages\\sklearn\\tree\\_classes.py\u001b[0m in \u001b[0;36mpredict\u001b[1;34m(self, X, check_input)\u001b[0m\n\u001b[0;32m    440\u001b[0m         \"\"\"\n\u001b[0;32m    441\u001b[0m         \u001b[0mcheck_is_fitted\u001b[0m\u001b[1;33m(\u001b[0m\u001b[0mself\u001b[0m\u001b[1;33m)\u001b[0m\u001b[1;33m\u001b[0m\u001b[1;33m\u001b[0m\u001b[0m\n\u001b[1;32m--> 442\u001b[1;33m         \u001b[0mX\u001b[0m \u001b[1;33m=\u001b[0m \u001b[0mself\u001b[0m\u001b[1;33m.\u001b[0m\u001b[0m_validate_X_predict\u001b[0m\u001b[1;33m(\u001b[0m\u001b[0mX\u001b[0m\u001b[1;33m,\u001b[0m \u001b[0mcheck_input\u001b[0m\u001b[1;33m)\u001b[0m\u001b[1;33m\u001b[0m\u001b[1;33m\u001b[0m\u001b[0m\n\u001b[0m\u001b[0;32m    443\u001b[0m         \u001b[0mproba\u001b[0m \u001b[1;33m=\u001b[0m \u001b[0mself\u001b[0m\u001b[1;33m.\u001b[0m\u001b[0mtree_\u001b[0m\u001b[1;33m.\u001b[0m\u001b[0mpredict\u001b[0m\u001b[1;33m(\u001b[0m\u001b[0mX\u001b[0m\u001b[1;33m)\u001b[0m\u001b[1;33m\u001b[0m\u001b[1;33m\u001b[0m\u001b[0m\n\u001b[0;32m    444\u001b[0m         \u001b[0mn_samples\u001b[0m \u001b[1;33m=\u001b[0m \u001b[0mX\u001b[0m\u001b[1;33m.\u001b[0m\u001b[0mshape\u001b[0m\u001b[1;33m[\u001b[0m\u001b[1;36m0\u001b[0m\u001b[1;33m]\u001b[0m\u001b[1;33m\u001b[0m\u001b[1;33m\u001b[0m\u001b[0m\n",
      "\u001b[1;32mD:\\Programs\\lib\\site-packages\\sklearn\\tree\\_classes.py\u001b[0m in \u001b[0;36m_validate_X_predict\u001b[1;34m(self, X, check_input)\u001b[0m\n\u001b[0;32m    405\u001b[0m         \u001b[1;34m\"\"\"Validate the training data on predict (probabilities).\"\"\"\u001b[0m\u001b[1;33m\u001b[0m\u001b[1;33m\u001b[0m\u001b[0m\n\u001b[0;32m    406\u001b[0m         \u001b[1;32mif\u001b[0m \u001b[0mcheck_input\u001b[0m\u001b[1;33m:\u001b[0m\u001b[1;33m\u001b[0m\u001b[1;33m\u001b[0m\u001b[0m\n\u001b[1;32m--> 407\u001b[1;33m             X = self._validate_data(X, dtype=DTYPE, accept_sparse=\"csr\",\n\u001b[0m\u001b[0;32m    408\u001b[0m                                     reset=False)\n\u001b[0;32m    409\u001b[0m             if issparse(X) and (X.indices.dtype != np.intc or\n",
      "\u001b[1;32mD:\\Programs\\lib\\site-packages\\sklearn\\base.py\u001b[0m in \u001b[0;36m_validate_data\u001b[1;34m(self, X, y, reset, validate_separately, **check_params)\u001b[0m\n\u001b[0;32m    435\u001b[0m \u001b[1;33m\u001b[0m\u001b[0m\n\u001b[0;32m    436\u001b[0m         \u001b[1;32mif\u001b[0m \u001b[0mcheck_params\u001b[0m\u001b[1;33m.\u001b[0m\u001b[0mget\u001b[0m\u001b[1;33m(\u001b[0m\u001b[1;34m'ensure_2d'\u001b[0m\u001b[1;33m,\u001b[0m \u001b[1;32mTrue\u001b[0m\u001b[1;33m)\u001b[0m\u001b[1;33m:\u001b[0m\u001b[1;33m\u001b[0m\u001b[1;33m\u001b[0m\u001b[0m\n\u001b[1;32m--> 437\u001b[1;33m             \u001b[0mself\u001b[0m\u001b[1;33m.\u001b[0m\u001b[0m_check_n_features\u001b[0m\u001b[1;33m(\u001b[0m\u001b[0mX\u001b[0m\u001b[1;33m,\u001b[0m \u001b[0mreset\u001b[0m\u001b[1;33m=\u001b[0m\u001b[0mreset\u001b[0m\u001b[1;33m)\u001b[0m\u001b[1;33m\u001b[0m\u001b[1;33m\u001b[0m\u001b[0m\n\u001b[0m\u001b[0;32m    438\u001b[0m \u001b[1;33m\u001b[0m\u001b[0m\n\u001b[0;32m    439\u001b[0m         \u001b[1;32mreturn\u001b[0m \u001b[0mout\u001b[0m\u001b[1;33m\u001b[0m\u001b[1;33m\u001b[0m\u001b[0m\n",
      "\u001b[1;32mD:\\Programs\\lib\\site-packages\\sklearn\\base.py\u001b[0m in \u001b[0;36m_check_n_features\u001b[1;34m(self, X, reset)\u001b[0m\n\u001b[0;32m    363\u001b[0m \u001b[1;33m\u001b[0m\u001b[0m\n\u001b[0;32m    364\u001b[0m         \u001b[1;32mif\u001b[0m \u001b[0mn_features\u001b[0m \u001b[1;33m!=\u001b[0m \u001b[0mself\u001b[0m\u001b[1;33m.\u001b[0m\u001b[0mn_features_in_\u001b[0m\u001b[1;33m:\u001b[0m\u001b[1;33m\u001b[0m\u001b[1;33m\u001b[0m\u001b[0m\n\u001b[1;32m--> 365\u001b[1;33m             raise ValueError(\n\u001b[0m\u001b[0;32m    366\u001b[0m                 \u001b[1;34mf\"X has {n_features} features, but {self.__class__.__name__} \"\u001b[0m\u001b[1;33m\u001b[0m\u001b[1;33m\u001b[0m\u001b[0m\n\u001b[0;32m    367\u001b[0m                 f\"is expecting {self.n_features_in_} features as input.\")\n",
      "\u001b[1;31mValueError\u001b[0m: X has 9 features, but DecisionTreeClassifier is expecting 2 features as input."
     ]
    }
   ],
   "source": [
    "model = DecisionTreeClassifier()\n",
    "#sign = to_array(k)[0]\n",
    "#meaning = to_array(k)[1]\n",
    "for j in lst_1:\n",
    "                test=SelectKBest(score_func=f_classif, k=j)\n",
    "                fit=test.fit(X,Y)\n",
    "                features=fit.transform(X)\n",
    "#                for i in lst_2:\n",
    "#                X_train, X_test, Y_train, Y_test = train_test_split(features, meaning, test_size=0.25, shuffle=True, random_state=7)\n",
    "                model.fit(features,Y)\n",
    "                tes=SelectKBest(score_func=f_classif, k=j)\n",
    "                fi=test.fit(X_new_clients,Y)\n",
    "                features=fit.transform(X)    \n",
    "                result=model.score(X_new_clients,Y_new_clients)\n",
    "                res.append(result)\n",
    "print(res)\n",
    "print('_________')"
   ]
  },
  {
   "cell_type": "code",
   "execution_count": null,
   "id": "ed94daf8",
   "metadata": {},
   "outputs": [],
   "source": []
  },
  {
   "cell_type": "code",
   "execution_count": null,
   "id": "bae9b21e",
   "metadata": {},
   "outputs": [],
   "source": []
  },
  {
   "cell_type": "code",
   "execution_count": null,
   "id": "1fa8b525",
   "metadata": {},
   "outputs": [],
   "source": []
  }
 ],
 "metadata": {
  "kernelspec": {
   "display_name": "Python 3 (ipykernel)",
   "language": "python",
   "name": "python3"
  },
  "language_info": {
   "codemirror_mode": {
    "name": "ipython",
    "version": 3
   },
   "file_extension": ".py",
   "mimetype": "text/x-python",
   "name": "python",
   "nbconvert_exporter": "python",
   "pygments_lexer": "ipython3",
   "version": "3.9.7"
  }
 },
 "nbformat": 4,
 "nbformat_minor": 5
}
