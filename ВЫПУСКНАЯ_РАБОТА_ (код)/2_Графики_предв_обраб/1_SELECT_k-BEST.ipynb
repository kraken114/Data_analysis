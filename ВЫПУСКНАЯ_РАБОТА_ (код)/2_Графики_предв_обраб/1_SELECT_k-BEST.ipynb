{
 "cells": [
  {
   "cell_type": "markdown",
   "id": "0bae628b",
   "metadata": {},
   "source": [
    "# **1. Загрузка пакетов, библиотек и файлика**"
   ]
  },
  {
   "cell_type": "code",
   "execution_count": 69,
   "id": "a850e069",
   "metadata": {},
   "outputs": [],
   "source": [
    "import pandas as pd\n",
    "import numpy as np\n",
    "from pandas import read_csv"
   ]
  },
  {
   "cell_type": "code",
   "execution_count": 70,
   "id": "8a9eb62a",
   "metadata": {},
   "outputs": [],
   "source": [
    "df = read_csv('D:\\_ДАННЫЕ\\Train_cleared_dropna.csv')"
   ]
  },
  {
   "cell_type": "code",
   "execution_count": 58,
   "id": "fcac2d92",
   "metadata": {},
   "outputs": [],
   "source": [
    "df = read_csv('D:\\_ДАННЫЕ\\Train_cleared_fillna.csv')"
   ]
  },
  {
   "cell_type": "code",
   "execution_count": 71,
   "id": "8f238021",
   "metadata": {},
   "outputs": [],
   "source": [
    "df = df.filter(regex='^(?!.*Unnamed).*$')"
   ]
  },
  {
   "cell_type": "code",
   "execution_count": 72,
   "id": "3f0eddb0",
   "metadata": {},
   "outputs": [],
   "source": [
    "def to_array(x):\n",
    "    array = x.values\n",
    "    X = array[:,0:9]\n",
    "    Y = array[:,9]\n",
    "    return [X,Y]\n"
   ]
  },
  {
   "cell_type": "code",
   "execution_count": 73,
   "id": "4e2c4146",
   "metadata": {},
   "outputs": [],
   "source": [
    "X = to_array(df)[0]\n",
    "Y = to_array(df)[1]"
   ]
  },
  {
   "cell_type": "code",
   "execution_count": 6,
   "id": "5fe3911d",
   "metadata": {
    "collapsed": true
   },
   "outputs": [
    {
     "data": {
      "text/plain": [
       "array([[ 1.,  0., 22., ...,  3.,  4.,  4.],\n",
       "       [ 0.,  1., 67., ...,  3.,  1.,  6.],\n",
       "       [ 1.,  1., 67., ...,  1.,  2.,  6.],\n",
       "       ...,\n",
       "       [ 0.,  0., 33., ...,  3.,  1.,  6.],\n",
       "       [ 0.,  0., 27., ...,  3.,  4.,  6.],\n",
       "       [ 1.,  1., 37., ...,  2.,  3.,  4.]])"
      ]
     },
     "execution_count": 6,
     "metadata": {},
     "output_type": "execute_result"
    }
   ],
   "source": [
    "X"
   ]
  },
  {
   "cell_type": "code",
   "execution_count": 7,
   "id": "27e5abf5",
   "metadata": {
    "collapsed": true
   },
   "outputs": [
    {
     "data": {
      "text/plain": [
       "array([4., 2., 2., ..., 4., 2., 2.])"
      ]
     },
     "execution_count": 7,
     "metadata": {},
     "output_type": "execute_result"
    }
   ],
   "source": [
    "Y"
   ]
  },
  {
   "cell_type": "code",
   "execution_count": 27,
   "id": "8e067151",
   "metadata": {},
   "outputs": [],
   "source": [
    "df_test=read_csv('D:\\_ДАННЫЕ\\TEST_cleared_dropna.csv')"
   ]
  },
  {
   "cell_type": "code",
   "execution_count": 28,
   "id": "4967b722",
   "metadata": {},
   "outputs": [],
   "source": [
    "df_test=df_test.filter(regex='^(?!.*Unnamed).*$')"
   ]
  },
  {
   "cell_type": "code",
   "execution_count": 29,
   "id": "7b3d7cb9",
   "metadata": {},
   "outputs": [],
   "source": [
    "X_new_clients = to_array(df_test)[0]\n",
    "Y_new_clients = to_array(df_test)[1]"
   ]
  },
  {
   "cell_type": "code",
   "execution_count": null,
   "id": "85bace2d",
   "metadata": {},
   "outputs": [],
   "source": []
  },
  {
   "cell_type": "code",
   "execution_count": null,
   "id": "547f22db",
   "metadata": {},
   "outputs": [],
   "source": [
    "========================================================================================="
   ]
  },
  {
   "cell_type": "markdown",
   "id": "e8b8fe40",
   "metadata": {},
   "source": [
    "# **2. LogisticRegression + SelectKBest**"
   ]
  },
  {
   "cell_type": "code",
   "execution_count": 74,
   "id": "2a26a3ce",
   "metadata": {},
   "outputs": [],
   "source": [
    "from sklearn.feature_selection import SelectKBest\n",
    "from sklearn.feature_selection import f_classif\n",
    "\n",
    "from sklearn.neighbors import KNeighborsClassifier\n",
    "from sklearn.model_selection import KFold\n",
    "from sklearn.model_selection import cross_val_score\n",
    "from sklearn.model_selection import train_test_split\n",
    "from sklearn.linear_model import LogisticRegression\n",
    "from sklearn.ensemble import AdaBoostClassifier\n",
    "from sklearn.tree import DecisionTreeClassifier\n",
    "from sklearn.model_selection import GridSearchCV\n",
    "from sklearn.ensemble import BaggingClassifier\n",
    "from sklearn.tree import DecisionTreeClassifier\n",
    "from sklearn.ensemble import RandomForestClassifier\n",
    "from sklearn.ensemble import ExtraTreesClassifier\n",
    "from sklearn.ensemble import AdaBoostClassifier\n",
    "from sklearn.ensemble import GradientBoostingClassifier\n",
    "from sklearn.neighbors import KNeighborsClassifier\n",
    "from xgboost import XGBClassifier\n",
    "from sklearn.svm import SVC"
   ]
  },
  {
   "cell_type": "code",
   "execution_count": 75,
   "id": "2690ac65",
   "metadata": {},
   "outputs": [],
   "source": [
    "lst_1 = list(range(1,10))\n",
    "lst_3 = [LogisticRegression(max_iter = 5000), DecisionTreeClassifier(), AdaBoostClassifier(),SVC(),\n",
    "         KNeighborsClassifier(),RandomForestClassifier(),ExtraTreesClassifier(),\n",
    "         XGBClassifier(seed = 7, n_estimators = 100, max_depth = 6, learning_rate = 0.3),\n",
    "        GradientBoostingClassifier(n_estimators=20, random_state=7),\n",
    "        BaggingClassifier()]\n",
    "k = []"
   ]
  },
  {
   "cell_type": "code",
   "execution_count": 76,
   "id": "6e545026",
   "metadata": {},
   "outputs": [
    {
     "name": "stdout",
     "output_type": "stream",
     "text": [
      "0.3737252549490102\n",
      "Модель: LogisticRegression(max_iter=5000) Количество  признаков = 1\n",
      "0.3869226154769046\n",
      "Модель: LogisticRegression(max_iter=5000) Количество  признаков = 2\n",
      "0.4295140971805639\n",
      "Модель: LogisticRegression(max_iter=5000) Количество  признаков = 3\n",
      "0.42651469706058787\n",
      "Модель: LogisticRegression(max_iter=5000) Количество  признаков = 4\n",
      "0.4475104979004199\n",
      "Модель: LogisticRegression(max_iter=5000) Количество  признаков = 5\n",
      "0.4595080983803239\n",
      "Модель: LogisticRegression(max_iter=5000) Количество  признаков = 6\n",
      "0.46550689862027594\n",
      "Модель: LogisticRegression(max_iter=5000) Количество  признаков = 7\n",
      "0.46550689862027594\n",
      "Модель: LogisticRegression(max_iter=5000) Количество  признаков = 8\n",
      "0.4631073785242951\n",
      "Модель: LogisticRegression(max_iter=5000) Количество  признаков = 9\n",
      "0.3737252549490102\n",
      "Модель: DecisionTreeClassifier() Количество  признаков = 1\n",
      "0.4403119376124775\n",
      "Модель: DecisionTreeClassifier() Количество  признаков = 2\n",
      "0.4505098980203959\n",
      "Модель: DecisionTreeClassifier() Количество  признаков = 3\n",
      "0.45410917816436713\n",
      "Модель: DecisionTreeClassifier() Количество  признаков = 4\n",
      "0.4319136172765447\n",
      "Модель: DecisionTreeClassifier() Количество  признаков = 5\n",
      "0.44631073785242953\n",
      "Модель: DecisionTreeClassifier() Количество  признаков = 6\n",
      "0.4325134973005399\n",
      "Модель: DecisionTreeClassifier() Количество  признаков = 7\n",
      "0.4403119376124775\n",
      "Модель: DecisionTreeClassifier() Количество  признаков = 8\n",
      "0.4319136172765447\n",
      "Модель: DecisionTreeClassifier() Количество  признаков = 9\n",
      "0.3737252549490102\n",
      "Модель: AdaBoostClassifier() Количество  признаков = 1\n",
      "0.4391121775644871\n",
      "Модель: AdaBoostClassifier() Количество  признаков = 2\n",
      "0.4559088182363527\n",
      "Модель: AdaBoostClassifier() Количество  признаков = 3\n",
      "0.4793041391721656\n",
      "Модель: AdaBoostClassifier() Количество  признаков = 4\n",
      "0.47690461907618475\n",
      "Модель: AdaBoostClassifier() Количество  признаков = 5\n",
      "0.5020995800839833\n",
      "Модель: AdaBoostClassifier() Количество  признаков = 6\n",
      "0.4979004199160168\n",
      "Модель: AdaBoostClassifier() Количество  признаков = 7\n",
      "0.5050989802039592\n",
      "Модель: AdaBoostClassifier() Количество  признаков = 8\n",
      "0.5032993401319736\n",
      "Модель: AdaBoostClassifier() Количество  признаков = 9\n",
      "0.3737252549490102\n",
      "Модель: SVC() Количество  признаков = 1\n",
      "0.4259148170365927\n",
      "Модель: SVC() Количество  признаков = 2\n",
      "0.4313137372525495\n",
      "Модель: SVC() Количество  признаков = 3\n",
      "0.4295140971805639\n",
      "Модель: SVC() Количество  признаков = 4\n",
      "0.4325134973005399\n",
      "Модель: SVC() Количество  признаков = 5\n",
      "0.4439112177564487\n",
      "Модель: SVC() Количество  признаков = 6\n",
      "0.4475104979004199\n",
      "Модель: SVC() Количество  признаков = 7\n",
      "0.44571085782843434\n",
      "Модель: SVC() Количество  признаков = 8\n",
      "0.4475104979004199\n",
      "Модель: SVC() Количество  признаков = 9\n",
      "0.36532693461307736\n",
      "Модель: KNeighborsClassifier() Количество  признаков = 1\n",
      "0.385122975404919\n",
      "Модель: KNeighborsClassifier() Количество  признаков = 2\n",
      "0.4295140971805639\n",
      "Модель: KNeighborsClassifier() Количество  признаков = 3\n",
      "0.4451109778044391\n",
      "Модель: KNeighborsClassifier() Количество  признаков = 4\n",
      "0.4361127774445111\n",
      "Модель: KNeighborsClassifier() Количество  признаков = 5\n",
      "0.46370725854829037\n",
      "Модель: KNeighborsClassifier() Количество  признаков = 6\n",
      "0.4391121775644871\n",
      "Модель: KNeighborsClassifier() Количество  признаков = 7\n",
      "0.4487102579484103\n",
      "Модель: KNeighborsClassifier() Количество  признаков = 8\n",
      "0.4409118176364727\n",
      "Модель: KNeighborsClassifier() Количество  признаков = 9\n",
      "0.3737252549490102\n",
      "Модель: RandomForestClassifier() Количество  признаков = 1\n",
      "0.44211157768446313\n",
      "Модель: RandomForestClassifier() Количество  признаков = 2\n",
      "0.4505098980203959\n",
      "Модель: RandomForestClassifier() Количество  признаков = 3\n",
      "0.46130773845230955\n",
      "Модель: RandomForestClassifier() Количество  признаков = 4\n",
      "0.4367126574685063\n",
      "Модель: RandomForestClassifier() Количество  признаков = 5\n",
      "0.46250749850029993\n",
      "Модель: RandomForestClassifier() Количество  признаков = 6\n",
      "0.45830833833233353\n",
      "Модель: RandomForestClassifier() Количество  признаков = 7\n",
      "0.4631073785242951\n",
      "Модель: RandomForestClassifier() Количество  признаков = 8\n",
      "0.489502099580084\n",
      "Модель: RandomForestClassifier() Количество  признаков = 9\n",
      "0.3737252549490102\n",
      "Модель: ExtraTreesClassifier() Количество  признаков = 1\n",
      "0.4415116976604679\n",
      "Модель: ExtraTreesClassifier() Количество  признаков = 2\n",
      "0.4505098980203959\n",
      "Модель: ExtraTreesClassifier() Количество  признаков = 3\n",
      "0.45350929814037194\n",
      "Модель: ExtraTreesClassifier() Количество  признаков = 4\n",
      "0.43431313737252547\n",
      "Модель: ExtraTreesClassifier() Количество  признаков = 5\n",
      "0.4631073785242951\n",
      "Модель: ExtraTreesClassifier() Количество  признаков = 6\n",
      "0.4589082183563287\n",
      "Модель: ExtraTreesClassifier() Количество  признаков = 7\n",
      "0.46610677864427114\n",
      "Модель: ExtraTreesClassifier() Количество  признаков = 8\n",
      "0.4709058188362327\n",
      "Модель: ExtraTreesClassifier() Количество  признаков = 9\n",
      "[17:51:07] WARNING: D:\\bld\\xgboost-split_1645118015404\\work\\src\\learner.cc:1115: Starting in XGBoost 1.3.0, the default evaluation metric used with the objective 'multi:softprob' was changed from 'merror' to 'mlogloss'. Explicitly set eval_metric if you'd like to restore the old behavior.\n",
      "0.3737252549490102\n"
     ]
    },
    {
     "name": "stderr",
     "output_type": "stream",
     "text": [
      "D:\\Programs\\lib\\site-packages\\xgboost\\sklearn.py:1224: UserWarning: The use of label encoder in XGBClassifier is deprecated and will be removed in a future release. To remove this warning, do the following: 1) Pass option use_label_encoder=False when constructing XGBClassifier object; and 2) Encode your labels (y) as integers starting with 0, i.e. 0, 1, 2, ..., [num_class - 1].\n",
      "  warnings.warn(label_encoder_deprecation_msg, UserWarning)\n",
      "D:\\Programs\\lib\\site-packages\\xgboost\\sklearn.py:1224: UserWarning: The use of label encoder in XGBClassifier is deprecated and will be removed in a future release. To remove this warning, do the following: 1) Pass option use_label_encoder=False when constructing XGBClassifier object; and 2) Encode your labels (y) as integers starting with 0, i.e. 0, 1, 2, ..., [num_class - 1].\n",
      "  warnings.warn(label_encoder_deprecation_msg, UserWarning)\n"
     ]
    },
    {
     "name": "stdout",
     "output_type": "stream",
     "text": [
      "Модель: XGBClassifier(base_score=0.5, booster='gbtree', colsample_bylevel=1,\n",
      "              colsample_bynode=1, colsample_bytree=1, enable_categorical=False,\n",
      "              gamma=0, gpu_id=-1, importance_type=None,\n",
      "              interaction_constraints='', learning_rate=0.3, max_delta_step=0,\n",
      "              max_depth=6, min_child_weight=1, missing=nan,\n",
      "              monotone_constraints='()', n_estimators=100, n_jobs=12,\n",
      "              num_parallel_tree=1, objective='multi:softprob', predictor='auto',\n",
      "              random_state=7, reg_alpha=0, reg_lambda=1, scale_pos_weight=None,\n",
      "              seed=7, subsample=1, tree_method='exact', validate_parameters=1,\n",
      "              verbosity=None) Количество  признаков = 1\n",
      "[17:51:07] WARNING: D:\\bld\\xgboost-split_1645118015404\\work\\src\\learner.cc:1115: Starting in XGBoost 1.3.0, the default evaluation metric used with the objective 'multi:softprob' was changed from 'merror' to 'mlogloss'. Explicitly set eval_metric if you'd like to restore the old behavior.\n",
      "0.4409118176364727\n",
      "Модель: XGBClassifier(base_score=0.5, booster='gbtree', colsample_bylevel=1,\n",
      "              colsample_bynode=1, colsample_bytree=1, enable_categorical=False,\n",
      "              gamma=0, gpu_id=-1, importance_type=None,\n",
      "              interaction_constraints='', learning_rate=0.3, max_delta_step=0,\n",
      "              max_depth=6, min_child_weight=1, missing=nan,\n",
      "              monotone_constraints='()', n_estimators=100, n_jobs=12,\n",
      "              num_parallel_tree=1, objective='multi:softprob', predictor='auto',\n",
      "              random_state=7, reg_alpha=0, reg_lambda=1, scale_pos_weight=None,\n",
      "              seed=7, subsample=1, tree_method='exact', validate_parameters=1,\n",
      "              verbosity=None) Количество  признаков = 2\n",
      "[17:51:07] WARNING: D:\\bld\\xgboost-split_1645118015404\\work\\src\\learner.cc:1115: Starting in XGBoost 1.3.0, the default evaluation metric used with the objective 'multi:softprob' was changed from 'merror' to 'mlogloss'. Explicitly set eval_metric if you'd like to restore the old behavior.\n"
     ]
    },
    {
     "name": "stderr",
     "output_type": "stream",
     "text": [
      "D:\\Programs\\lib\\site-packages\\xgboost\\sklearn.py:1224: UserWarning: The use of label encoder in XGBClassifier is deprecated and will be removed in a future release. To remove this warning, do the following: 1) Pass option use_label_encoder=False when constructing XGBClassifier object; and 2) Encode your labels (y) as integers starting with 0, i.e. 0, 1, 2, ..., [num_class - 1].\n",
      "  warnings.warn(label_encoder_deprecation_msg, UserWarning)\n"
     ]
    },
    {
     "name": "stdout",
     "output_type": "stream",
     "text": [
      "0.45410917816436713\n",
      "Модель: XGBClassifier(base_score=0.5, booster='gbtree', colsample_bylevel=1,\n",
      "              colsample_bynode=1, colsample_bytree=1, enable_categorical=False,\n",
      "              gamma=0, gpu_id=-1, importance_type=None,\n",
      "              interaction_constraints='', learning_rate=0.3, max_delta_step=0,\n",
      "              max_depth=6, min_child_weight=1, missing=nan,\n",
      "              monotone_constraints='()', n_estimators=100, n_jobs=12,\n",
      "              num_parallel_tree=1, objective='multi:softprob', predictor='auto',\n",
      "              random_state=7, reg_alpha=0, reg_lambda=1, scale_pos_weight=None,\n",
      "              seed=7, subsample=1, tree_method='exact', validate_parameters=1,\n",
      "              verbosity=None) Количество  признаков = 3\n",
      "[17:51:08] WARNING: D:\\bld\\xgboost-split_1645118015404\\work\\src\\learner.cc:1115: Starting in XGBoost 1.3.0, the default evaluation metric used with the objective 'multi:softprob' was changed from 'merror' to 'mlogloss'. Explicitly set eval_metric if you'd like to restore the old behavior.\n"
     ]
    },
    {
     "name": "stderr",
     "output_type": "stream",
     "text": [
      "D:\\Programs\\lib\\site-packages\\xgboost\\sklearn.py:1224: UserWarning: The use of label encoder in XGBClassifier is deprecated and will be removed in a future release. To remove this warning, do the following: 1) Pass option use_label_encoder=False when constructing XGBClassifier object; and 2) Encode your labels (y) as integers starting with 0, i.e. 0, 1, 2, ..., [num_class - 1].\n",
      "  warnings.warn(label_encoder_deprecation_msg, UserWarning)\n"
     ]
    },
    {
     "name": "stdout",
     "output_type": "stream",
     "text": [
      "0.4667066586682663\n",
      "Модель: XGBClassifier(base_score=0.5, booster='gbtree', colsample_bylevel=1,\n",
      "              colsample_bynode=1, colsample_bytree=1, enable_categorical=False,\n",
      "              gamma=0, gpu_id=-1, importance_type=None,\n",
      "              interaction_constraints='', learning_rate=0.3, max_delta_step=0,\n",
      "              max_depth=6, min_child_weight=1, missing=nan,\n",
      "              monotone_constraints='()', n_estimators=100, n_jobs=12,\n",
      "              num_parallel_tree=1, objective='multi:softprob', predictor='auto',\n",
      "              random_state=7, reg_alpha=0, reg_lambda=1, scale_pos_weight=None,\n",
      "              seed=7, subsample=1, tree_method='exact', validate_parameters=1,\n",
      "              verbosity=None) Количество  признаков = 4\n",
      "[17:51:08] WARNING: D:\\bld\\xgboost-split_1645118015404\\work\\src\\learner.cc:1115: Starting in XGBoost 1.3.0, the default evaluation metric used with the objective 'multi:softprob' was changed from 'merror' to 'mlogloss'. Explicitly set eval_metric if you'd like to restore the old behavior.\n"
     ]
    },
    {
     "name": "stderr",
     "output_type": "stream",
     "text": [
      "D:\\Programs\\lib\\site-packages\\xgboost\\sklearn.py:1224: UserWarning: The use of label encoder in XGBClassifier is deprecated and will be removed in a future release. To remove this warning, do the following: 1) Pass option use_label_encoder=False when constructing XGBClassifier object; and 2) Encode your labels (y) as integers starting with 0, i.e. 0, 1, 2, ..., [num_class - 1].\n",
      "  warnings.warn(label_encoder_deprecation_msg, UserWarning)\n"
     ]
    },
    {
     "name": "stdout",
     "output_type": "stream",
     "text": [
      "0.45710857828434315\n",
      "Модель: XGBClassifier(base_score=0.5, booster='gbtree', colsample_bylevel=1,\n",
      "              colsample_bynode=1, colsample_bytree=1, enable_categorical=False,\n",
      "              gamma=0, gpu_id=-1, importance_type=None,\n",
      "              interaction_constraints='', learning_rate=0.3, max_delta_step=0,\n",
      "              max_depth=6, min_child_weight=1, missing=nan,\n",
      "              monotone_constraints='()', n_estimators=100, n_jobs=12,\n",
      "              num_parallel_tree=1, objective='multi:softprob', predictor='auto',\n",
      "              random_state=7, reg_alpha=0, reg_lambda=1, scale_pos_weight=None,\n",
      "              seed=7, subsample=1, tree_method='exact', validate_parameters=1,\n",
      "              verbosity=None) Количество  признаков = 5\n",
      "[17:51:09] WARNING: D:\\bld\\xgboost-split_1645118015404\\work\\src\\learner.cc:1115: Starting in XGBoost 1.3.0, the default evaluation metric used with the objective 'multi:softprob' was changed from 'merror' to 'mlogloss'. Explicitly set eval_metric if you'd like to restore the old behavior.\n"
     ]
    },
    {
     "name": "stderr",
     "output_type": "stream",
     "text": [
      "D:\\Programs\\lib\\site-packages\\xgboost\\sklearn.py:1224: UserWarning: The use of label encoder in XGBClassifier is deprecated and will be removed in a future release. To remove this warning, do the following: 1) Pass option use_label_encoder=False when constructing XGBClassifier object; and 2) Encode your labels (y) as integers starting with 0, i.e. 0, 1, 2, ..., [num_class - 1].\n",
      "  warnings.warn(label_encoder_deprecation_msg, UserWarning)\n"
     ]
    },
    {
     "name": "stdout",
     "output_type": "stream",
     "text": [
      "0.5050989802039592\n",
      "Модель: XGBClassifier(base_score=0.5, booster='gbtree', colsample_bylevel=1,\n",
      "              colsample_bynode=1, colsample_bytree=1, enable_categorical=False,\n",
      "              gamma=0, gpu_id=-1, importance_type=None,\n",
      "              interaction_constraints='', learning_rate=0.3, max_delta_step=0,\n",
      "              max_depth=6, min_child_weight=1, missing=nan,\n",
      "              monotone_constraints='()', n_estimators=100, n_jobs=12,\n",
      "              num_parallel_tree=1, objective='multi:softprob', predictor='auto',\n",
      "              random_state=7, reg_alpha=0, reg_lambda=1, scale_pos_weight=None,\n",
      "              seed=7, subsample=1, tree_method='exact', validate_parameters=1,\n",
      "              verbosity=None) Количество  признаков = 6\n",
      "[17:51:09] WARNING: D:\\bld\\xgboost-split_1645118015404\\work\\src\\learner.cc:1115: Starting in XGBoost 1.3.0, the default evaluation metric used with the objective 'multi:softprob' was changed from 'merror' to 'mlogloss'. Explicitly set eval_metric if you'd like to restore the old behavior.\n"
     ]
    },
    {
     "name": "stderr",
     "output_type": "stream",
     "text": [
      "D:\\Programs\\lib\\site-packages\\xgboost\\sklearn.py:1224: UserWarning: The use of label encoder in XGBClassifier is deprecated and will be removed in a future release. To remove this warning, do the following: 1) Pass option use_label_encoder=False when constructing XGBClassifier object; and 2) Encode your labels (y) as integers starting with 0, i.e. 0, 1, 2, ..., [num_class - 1].\n",
      "  warnings.warn(label_encoder_deprecation_msg, UserWarning)\n"
     ]
    },
    {
     "name": "stdout",
     "output_type": "stream",
     "text": [
      "0.4967006598680264\n",
      "Модель: XGBClassifier(base_score=0.5, booster='gbtree', colsample_bylevel=1,\n",
      "              colsample_bynode=1, colsample_bytree=1, enable_categorical=False,\n",
      "              gamma=0, gpu_id=-1, importance_type=None,\n",
      "              interaction_constraints='', learning_rate=0.3, max_delta_step=0,\n",
      "              max_depth=6, min_child_weight=1, missing=nan,\n",
      "              monotone_constraints='()', n_estimators=100, n_jobs=12,\n",
      "              num_parallel_tree=1, objective='multi:softprob', predictor='auto',\n",
      "              random_state=7, reg_alpha=0, reg_lambda=1, scale_pos_weight=None,\n",
      "              seed=7, subsample=1, tree_method='exact', validate_parameters=1,\n",
      "              verbosity=None) Количество  признаков = 7\n",
      "[17:51:10] WARNING: D:\\bld\\xgboost-split_1645118015404\\work\\src\\learner.cc:1115: Starting in XGBoost 1.3.0, the default evaluation metric used with the objective 'multi:softprob' was changed from 'merror' to 'mlogloss'. Explicitly set eval_metric if you'd like to restore the old behavior.\n"
     ]
    },
    {
     "name": "stderr",
     "output_type": "stream",
     "text": [
      "D:\\Programs\\lib\\site-packages\\xgboost\\sklearn.py:1224: UserWarning: The use of label encoder in XGBClassifier is deprecated and will be removed in a future release. To remove this warning, do the following: 1) Pass option use_label_encoder=False when constructing XGBClassifier object; and 2) Encode your labels (y) as integers starting with 0, i.e. 0, 1, 2, ..., [num_class - 1].\n",
      "  warnings.warn(label_encoder_deprecation_msg, UserWarning)\n"
     ]
    },
    {
     "name": "stdout",
     "output_type": "stream",
     "text": [
      "0.4931013797240552\n",
      "Модель: XGBClassifier(base_score=0.5, booster='gbtree', colsample_bylevel=1,\n",
      "              colsample_bynode=1, colsample_bytree=1, enable_categorical=False,\n",
      "              gamma=0, gpu_id=-1, importance_type=None,\n",
      "              interaction_constraints='', learning_rate=0.3, max_delta_step=0,\n",
      "              max_depth=6, min_child_weight=1, missing=nan,\n",
      "              monotone_constraints='()', n_estimators=100, n_jobs=12,\n",
      "              num_parallel_tree=1, objective='multi:softprob', predictor='auto',\n",
      "              random_state=7, reg_alpha=0, reg_lambda=1, scale_pos_weight=None,\n",
      "              seed=7, subsample=1, tree_method='exact', validate_parameters=1,\n",
      "              verbosity=None) Количество  признаков = 8\n",
      "[17:51:11] WARNING: D:\\bld\\xgboost-split_1645118015404\\work\\src\\learner.cc:1115: Starting in XGBoost 1.3.0, the default evaluation metric used with the objective 'multi:softprob' was changed from 'merror' to 'mlogloss'. Explicitly set eval_metric if you'd like to restore the old behavior.\n"
     ]
    },
    {
     "name": "stderr",
     "output_type": "stream",
     "text": [
      "D:\\Programs\\lib\\site-packages\\xgboost\\sklearn.py:1224: UserWarning: The use of label encoder in XGBClassifier is deprecated and will be removed in a future release. To remove this warning, do the following: 1) Pass option use_label_encoder=False when constructing XGBClassifier object; and 2) Encode your labels (y) as integers starting with 0, i.e. 0, 1, 2, ..., [num_class - 1].\n",
      "  warnings.warn(label_encoder_deprecation_msg, UserWarning)\n"
     ]
    },
    {
     "name": "stdout",
     "output_type": "stream",
     "text": [
      "0.4991001799640072\n",
      "Модель: XGBClassifier(base_score=0.5, booster='gbtree', colsample_bylevel=1,\n",
      "              colsample_bynode=1, colsample_bytree=1, enable_categorical=False,\n",
      "              gamma=0, gpu_id=-1, importance_type=None,\n",
      "              interaction_constraints='', learning_rate=0.3, max_delta_step=0,\n",
      "              max_depth=6, min_child_weight=1, missing=nan,\n",
      "              monotone_constraints='()', n_estimators=100, n_jobs=12,\n",
      "              num_parallel_tree=1, objective='multi:softprob', predictor='auto',\n",
      "              random_state=7, reg_alpha=0, reg_lambda=1, scale_pos_weight=None,\n",
      "              seed=7, subsample=1, tree_method='exact', validate_parameters=1,\n",
      "              verbosity=None) Количество  признаков = 9\n",
      "0.3737252549490102\n",
      "Модель: GradientBoostingClassifier(n_estimators=20, random_state=7) Количество  признаков = 1\n",
      "0.4355128974205159\n",
      "Модель: GradientBoostingClassifier(n_estimators=20, random_state=7) Количество  признаков = 2\n",
      "0.4553089382123575\n",
      "Модель: GradientBoostingClassifier(n_estimators=20, random_state=7) Количество  признаков = 3\n",
      "0.48890221955608876\n",
      "Модель: GradientBoostingClassifier(n_estimators=20, random_state=7) Количество  признаков = 4\n",
      "0.4787042591481704\n",
      "Модель: GradientBoostingClassifier(n_estimators=20, random_state=7) Количество  признаков = 5\n",
      "0.5230953809238152\n",
      "Модель: GradientBoostingClassifier(n_estimators=20, random_state=7) Количество  признаков = 6\n",
      "0.5164967006598681\n",
      "Модель: GradientBoostingClassifier(n_estimators=20, random_state=7) Количество  признаков = 7\n",
      "0.5218956208758249\n",
      "Модель: GradientBoostingClassifier(n_estimators=20, random_state=7) Количество  признаков = 8\n",
      "0.5206958608278345\n",
      "Модель: GradientBoostingClassifier(n_estimators=20, random_state=7) Количество  признаков = 9\n",
      "0.3737252549490102\n",
      "Модель: BaggingClassifier() Количество  признаков = 1\n",
      "0.4331133773245351\n",
      "Модель: BaggingClassifier() Количество  признаков = 2\n",
      "0.4469106178764247\n",
      "Модель: BaggingClassifier() Количество  признаков = 3\n",
      "0.4595080983803239\n",
      "Модель: BaggingClassifier() Количество  признаков = 4\n",
      "0.4337132573485303\n",
      "Модель: BaggingClassifier() Количество  признаков = 5\n",
      "0.44991001799640074\n",
      "Модель: BaggingClassifier() Количество  признаков = 6\n",
      "0.4553089382123575\n",
      "Модель: BaggingClassifier() Количество  признаков = 7\n",
      "0.46250749850029993\n",
      "Модель: BaggingClassifier() Количество  признаков = 8\n",
      "0.4673065386922616\n",
      "Модель: BaggingClassifier() Количество  признаков = 9\n"
     ]
    }
   ],
   "source": [
    "for i in lst_3:\n",
    "   model = i\n",
    "   for j in lst_1:\n",
    "        test=SelectKBest(score_func=f_classif, k=j)\n",
    "        fit=test.fit(X,Y)\n",
    "        features=fit.transform(X)\n",
    "        X_train, X_test, Y_train, Y_test = train_test_split(features, Y, test_size=0.25, \n",
    "                                                            shuffle=True, random_state=7)\n",
    "        model.fit(X_train,Y_train)\n",
    "        result=model.score(X_test,Y_test)\n",
    "        k.append(result)\n",
    "        print(result)\n",
    "        print(f'Модель: {i} Количество  признаков = {j}')\n",
    "        \n",
    "    \n",
    "    \n",
    "    \n"
   ]
  },
  {
   "cell_type": "code",
   "execution_count": 77,
   "id": "7f1783ca",
   "metadata": {},
   "outputs": [
    {
     "name": "stdout",
     "output_type": "stream",
     "text": [
      "90\n"
     ]
    },
    {
     "data": {
      "text/plain": [
       "array([0.3737, 0.3869, 0.4295, 0.4265, 0.4475, 0.4595, 0.4655, 0.4655,\n",
       "       0.4631, 0.3737, 0.4403, 0.4505, 0.4541, 0.4319, 0.4463, 0.4325,\n",
       "       0.4403, 0.4319, 0.3737, 0.4391, 0.4559, 0.4793, 0.4769, 0.5021,\n",
       "       0.4979, 0.5051, 0.5033, 0.3737, 0.4259, 0.4313, 0.4295, 0.4325,\n",
       "       0.4439, 0.4475, 0.4457, 0.4475, 0.3653, 0.3851, 0.4295, 0.4451,\n",
       "       0.4361, 0.4637, 0.4391, 0.4487, 0.4409, 0.3737, 0.4421, 0.4505,\n",
       "       0.4613, 0.4367, 0.4625, 0.4583, 0.4631, 0.4895, 0.3737, 0.4415,\n",
       "       0.4505, 0.4535, 0.4343, 0.4631, 0.4589, 0.4661, 0.4709, 0.3737,\n",
       "       0.4409, 0.4541, 0.4667, 0.4571, 0.5051, 0.4967, 0.4931, 0.4991,\n",
       "       0.3737, 0.4355, 0.4553, 0.4889, 0.4787, 0.5231, 0.5165, 0.5219,\n",
       "       0.5207, 0.3737, 0.4331, 0.4469, 0.4595, 0.4337, 0.4499, 0.4553,\n",
       "       0.4625, 0.4673])"
      ]
     },
     "execution_count": 77,
     "metadata": {},
     "output_type": "execute_result"
    }
   ],
   "source": [
    "k = np.around(k,4)\n",
    "print(len(k))\n",
    "k"
   ]
  },
  {
   "cell_type": "code",
   "execution_count": 78,
   "id": "5fdb2a14",
   "metadata": {},
   "outputs": [
    {
     "data": {
      "image/png": "[encoded data removed]",
      "text/plain": [
       "<Figure size 1152x1152 with 1 Axes>"
      ]
     },
     "metadata": {
      "needs_background": "light"
     },
     "output_type": "display_data"
    }
   ],
   "source": [
    "import matplotlib.pyplot as plt\n",
    "import seaborn as sns\n",
    "x = 1,2,3,4,5,6,7,8,9\n",
    "plt.figure(figsize=(16, 16))\n",
    "\n",
    "line1, = plt.plot(x, k[:9], 'o-b',label='Логистическая регрессия')\n",
    "line2, = plt.plot(x, k[9:18], 'o-.m', label='Модель решающего дерева')\n",
    "line3, = plt.plot(x, k[18:27], 'o--g', label='AdaBoost(адаптивное усиление)')\n",
    "\n",
    "line4, = plt.plot(x, k[27:36], 'o:r', label='Метод опорных векторов')\n",
    "line5, = plt.plot(x, k[36:45], 'o-c', label='Метод KNN')\n",
    "line6, = plt.plot(x, k[45:54], 'o-.y', label='Случайный лес')\n",
    "line7, = plt.plot(x, k[54:63], 'o--k', label='Дополнительных деревьев')\n",
    "line8, = plt.plot(x, k[63:72], 'o:',color='orange', label='XGBClassifier')\n",
    "line9, = plt.plot(x, k[72:81], 'o:',color='brown', label='GradientBoostingClassifier')\n",
    "line10, = plt.plot(x, k[81:], 'o:',color='pink', label='BaggingClassifier')\n",
    "\n",
    "plt.text(0.5, 0.5, 'text')\n",
    "plt.grid()\n",
    "plt.legend(fontsize=10)\n",
    "plt.show()"
   ]
  },
  {
   "cell_type": "code",
   "execution_count": 44,
   "id": "49680424",
   "metadata": {},
   "outputs": [
    {
     "data": {
      "text/plain": [
       "array([0.3737, 0.4403, 0.4499, 0.4541, 0.4319, 0.4493, 0.4313, 0.4361,\n",
       "       0.4361])"
      ]
     },
     "execution_count": 44,
     "metadata": {},
     "output_type": "execute_result"
    }
   ],
   "source": [
    "k[9:18]"
   ]
  },
  {
   "cell_type": "code",
   "execution_count": null,
   "id": "eabe181a",
   "metadata": {},
   "outputs": [],
   "source": []
  },
  {
   "cell_type": "code",
   "execution_count": 63,
   "id": "b3b66b88",
   "metadata": {},
   "outputs": [],
   "source": [
    "lst_1 = list(range(1,10))\n",
    "lst_3 = [LogisticRegression(C=0.01, max_iter=5000), \n",
    "         DecisionTreeClassifier(criterion='entropy', max_depth=5), \n",
    "         AdaBoostClassifier(learning_rate=0.11, n_estimators=60),\n",
    "         SVC(C=100, gamma=0.001),\n",
    "         KNeighborsClassifier(metric='manhattan', n_neighbors=50),\n",
    "         RandomForestClassifier(max_depth=7, min_samples_leaf=3, n_estimators=60),\n",
    "         ExtraTreesClassifier(max_depth=37, \n",
    "                             min_weight_fraction_leaf=0.001,\n",
    "                             n_estimators=52),\n",
    "         XGBClassifier(learning_rate=0.2, max_depth=5, max_features='log2',\n",
    "                           min_samples_leaf=0.1, min_samples_split=0.1,\n",
    "                           n_estimators=10),\n",
    "         GradientBoostingClassifier(n_estimators=100, random_state=7),\n",
    "         BaggingClassifier(base_estimator=DecisionTreeClassifier(criterion='entropy',\n",
    "                                                        max_depth=5),\n",
    "                  bootstrap=False, bootstrap_features=True, max_samples=0.8,\n",
    "                  n_estimators=100)]\n",
    "k = []"
   ]
  },
  {
   "cell_type": "code",
   "execution_count": 64,
   "id": "2a782d3b",
   "metadata": {},
   "outputs": [
    {
     "name": "stdout",
     "output_type": "stream",
     "text": [
      "0.40109072880515617\n",
      "Модель: LogisticRegression(C=0.01, max_iter=5000) Количество  признаков = 1\n",
      "0.4258800198314328\n",
      "Модель: LogisticRegression(C=0.01, max_iter=5000) Количество  признаков = 2\n",
      "0.44719881011403073\n",
      "Модель: LogisticRegression(C=0.01, max_iter=5000) Количество  признаков = 3\n",
      "0.4516608824987605\n",
      "Модель: LogisticRegression(C=0.01, max_iter=5000) Количество  признаков = 4\n",
      "0.47000495785820523\n",
      "Модель: LogisticRegression(C=0.01, max_iter=5000) Количество  признаков = 5\n",
      "0.47992067426871593\n",
      "Модель: LogisticRegression(C=0.01, max_iter=5000) Количество  признаков = 6\n",
      "0.47892910262766486\n",
      "Модель: LogisticRegression(C=0.01, max_iter=5000) Количество  признаков = 7\n",
      "0.47992067426871593\n",
      "Модель: LogisticRegression(C=0.01, max_iter=5000) Количество  признаков = 8\n",
      "0.47645017352503716\n",
      "Модель: LogisticRegression(C=0.01, max_iter=5000) Количество  признаков = 9\n",
      "0.40109072880515617\n",
      "Модель: DecisionTreeClassifier(criterion='entropy', max_depth=5) Количество  признаков = 1\n",
      "0.4526524541398116\n",
      "Модель: DecisionTreeClassifier(criterion='entropy', max_depth=5) Количество  признаков = 2\n",
      "0.47645017352503716\n",
      "Модель: DecisionTreeClassifier(criterion='entropy', max_depth=5) Количество  признаков = 3\n",
      "0.4992563212692117\n",
      "Модель: DecisionTreeClassifier(criterion='entropy', max_depth=5) Количество  признаков = 4\n",
      "0.503222607833416\n",
      "Модель: DecisionTreeClassifier(criterion='entropy', max_depth=5) Количество  признаков = 5\n",
      "0.5270203272186416\n",
      "Модель: DecisionTreeClassifier(criterion='entropy', max_depth=5) Количество  признаков = 6\n",
      "0.5230540406544373\n",
      "Модель: DecisionTreeClassifier(criterion='entropy', max_depth=5) Количество  признаков = 7\n",
      "0.5230540406544373\n",
      "Модель: DecisionTreeClassifier(criterion='entropy', max_depth=5) Количество  признаков = 8\n",
      "0.5230540406544373\n",
      "Модель: DecisionTreeClassifier(criterion='entropy', max_depth=5) Количество  признаков = 9\n",
      "0.40109072880515617\n",
      "Модель: AdaBoostClassifier(learning_rate=0.11, n_estimators=60) Количество  признаков = 1\n",
      "0.4417451660882499\n",
      "Модель: AdaBoostClassifier(learning_rate=0.11, n_estimators=60) Количество  признаков = 2\n",
      "0.4645513138324244\n",
      "Модель: AdaBoostClassifier(learning_rate=0.11, n_estimators=60) Количество  признаков = 3\n",
      "0.4784333168071393\n",
      "Модель: AdaBoostClassifier(learning_rate=0.11, n_estimators=60) Количество  признаков = 4\n",
      "0.4784333168071393\n",
      "Модель: AdaBoostClassifier(learning_rate=0.11, n_estimators=60) Количество  признаков = 5\n",
      "0.5027268220128904\n",
      "Модель: AdaBoostClassifier(learning_rate=0.11, n_estimators=60) Количество  признаков = 6\n",
      "0.503222607833416\n",
      "Модель: AdaBoostClassifier(learning_rate=0.11, n_estimators=60) Количество  признаков = 7\n",
      "0.503222607833416\n",
      "Модель: AdaBoostClassifier(learning_rate=0.11, n_estimators=60) Количество  признаков = 8\n",
      "0.503222607833416\n",
      "Модель: AdaBoostClassifier(learning_rate=0.11, n_estimators=60) Количество  признаков = 9\n",
      "0.40109072880515617\n",
      "Модель: SVC(C=100, gamma=0.001) Количество  признаков = 1\n",
      "0.4452156668319286\n",
      "Модель: SVC(C=100, gamma=0.001) Количество  признаков = 2\n",
      "0.4630639563708478\n",
      "Модель: SVC(C=100, gamma=0.001) Количество  признаков = 3\n",
      "0.473475458601884\n",
      "Модель: SVC(C=100, gamma=0.001) Количество  признаков = 4\n",
      "0.47942488844819037\n",
      "Модель: SVC(C=100, gamma=0.001) Количество  признаков = 5\n",
      "0.4992563212692117\n",
      "Модель: SVC(C=100, gamma=0.001) Количество  признаков = 6\n",
      "0.5022310361923649\n",
      "Модель: SVC(C=100, gamma=0.001) Количество  признаков = 7\n",
      "0.5061973227565691\n",
      "Модель: SVC(C=100, gamma=0.001) Количество  признаков = 8\n",
      "0.5076846802181457\n",
      "Модель: SVC(C=100, gamma=0.001) Количество  признаков = 9\n",
      "0.40109072880515617\n",
      "Модель: KNeighborsClassifier(metric='manhattan', n_neighbors=50) Количество  признаков = 1\n",
      "0.43529995042141795\n",
      "Модель: KNeighborsClassifier(metric='manhattan', n_neighbors=50) Количество  признаков = 2\n",
      "0.4516608824987605\n",
      "Модель: KNeighborsClassifier(metric='manhattan', n_neighbors=50) Количество  признаков = 3\n",
      "0.47892910262766486\n",
      "Модель: KNeighborsClassifier(metric='manhattan', n_neighbors=50) Количество  признаков = 4\n",
      "0.480912245909767\n",
      "Модель: KNeighborsClassifier(metric='manhattan', n_neighbors=50) Количество  признаков = 5\n",
      "0.5076846802181457\n",
      "Модель: KNeighborsClassifier(metric='manhattan', n_neighbors=50) Количество  признаков = 6\n",
      "0.5086762518591968\n",
      "Модель: KNeighborsClassifier(metric='manhattan', n_neighbors=50) Количество  признаков = 7\n",
      "0.4923153197818542\n",
      "Модель: KNeighborsClassifier(metric='manhattan', n_neighbors=50) Количество  признаков = 8\n",
      "0.5022310361923649\n",
      "Модель: KNeighborsClassifier(metric='manhattan', n_neighbors=50) Количество  признаков = 9\n",
      "0.40109072880515617\n",
      "Модель: RandomForestClassifier(max_depth=7, min_samples_leaf=3, n_estimators=60) Количество  признаков = 1\n",
      "0.45017352503718394\n",
      "Модель: RandomForestClassifier(max_depth=7, min_samples_leaf=3, n_estimators=60) Количество  признаков = 2\n",
      "0.4749628160634606\n",
      "Модель: RandomForestClassifier(max_depth=7, min_samples_leaf=3, n_estimators=60) Количество  признаков = 3\n",
      "0.4898363906792266\n",
      "Модель: RandomForestClassifier(max_depth=7, min_samples_leaf=3, n_estimators=60) Количество  признаков = 4\n",
      "0.49876053544868615\n",
      "Модель: RandomForestClassifier(max_depth=7, min_samples_leaf=3, n_estimators=60) Количество  признаков = 5\n",
      "0.5319781854238969\n",
      "Модель: RandomForestClassifier(max_depth=7, min_samples_leaf=3, n_estimators=60) Количество  признаков = 6\n",
      "0.5349529003470501\n",
      "Модель: RandomForestClassifier(max_depth=7, min_samples_leaf=3, n_estimators=60) Количество  признаков = 7\n",
      "0.541398116013882\n",
      "Модель: RandomForestClassifier(max_depth=7, min_samples_leaf=3, n_estimators=60) Количество  признаков = 8\n",
      "0.5409023301933564\n",
      "Модель: RandomForestClassifier(max_depth=7, min_samples_leaf=3, n_estimators=60) Количество  признаков = 9\n",
      "0.40109072880515617\n",
      "Модель: ExtraTreesClassifier(max_depth=37, min_weight_fraction_leaf=0.001,\n",
      "                     n_estimators=52) Количество  признаков = 1\n",
      "0.4496777392166584\n",
      "Модель: ExtraTreesClassifier(max_depth=37, min_weight_fraction_leaf=0.001,\n",
      "                     n_estimators=52) Количество  признаков = 2\n",
      "0.4690133862171542\n",
      "Модель: ExtraTreesClassifier(max_depth=37, min_weight_fraction_leaf=0.001,\n",
      "                     n_estimators=52) Количество  признаков = 3\n",
      "0.48041646008924144\n",
      "Модель: ExtraTreesClassifier(max_depth=37, min_weight_fraction_leaf=0.001,\n",
      "                     n_estimators=52) Количество  признаков = 4\n",
      "0.4843827466534457\n",
      "Модель: ExtraTreesClassifier(max_depth=37, min_weight_fraction_leaf=0.001,\n",
      "                     n_estimators=52) Количество  признаков = 5\n",
      "0.5260287555775904\n",
      "Модель: ExtraTreesClassifier(max_depth=37, min_weight_fraction_leaf=0.001,\n",
      "                     n_estimators=52) Количество  признаков = 6\n",
      "0.5314823996033713\n",
      "Модель: ExtraTreesClassifier(max_depth=37, min_weight_fraction_leaf=0.001,\n",
      "                     n_estimators=52) Количество  признаков = 7\n",
      "0.5220624690133863\n",
      "Модель: ExtraTreesClassifier(max_depth=37, min_weight_fraction_leaf=0.001,\n",
      "                     n_estimators=52) Количество  признаков = 8\n",
      "0.5438770451165097\n",
      "Модель: ExtraTreesClassifier(max_depth=37, min_weight_fraction_leaf=0.001,\n",
      "                     n_estimators=52) Количество  признаков = 9\n",
      "[17:37:07] WARNING: D:\\bld\\xgboost-split_1645118015404\\work\\src\\learner.cc:576: \n",
      "Parameters: { \"max_features\", \"min_samples_leaf\", \"min_samples_split\" } might not be used.\n",
      "\n",
      "  This could be a false alarm, with some parameters getting used by language bindings but\n",
      "  then being mistakenly passed down to XGBoost core, or some parameter actually being used\n",
      "  but getting flagged wrongly here. Please open an issue if you find any such cases.\n",
      "\n",
      "\n",
      "[17:37:07] WARNING: D:\\bld\\xgboost-split_1645118015404\\work\\src\\learner.cc:1115: Starting in XGBoost 1.3.0, the default evaluation metric used with the objective 'multi:softprob' was changed from 'merror' to 'mlogloss'. Explicitly set eval_metric if you'd like to restore the old behavior.\n",
      "0.40109072880515617\n",
      "Модель: XGBClassifier(base_score=0.5, booster='gbtree', colsample_bylevel=1,\n",
      "              colsample_bynode=1, colsample_bytree=1, enable_categorical=False,\n",
      "              gamma=0, gpu_id=-1, importance_type=None,\n",
      "              interaction_constraints='', learning_rate=0.2, max_delta_step=0,\n",
      "              max_depth=5, max_features='log2', min_child_weight=1,\n",
      "              min_samples_leaf=0.1, min_samples_split=0.1, missing=nan,\n",
      "              monotone_constraints='()', n_estimators=10, n_jobs=12,\n",
      "              num_parallel_tree=1, objective='multi:softprob', predictor='auto',\n",
      "              random_state=0, reg_alpha=0, reg_lambda=1, scale_pos_weight=None,\n",
      "              subsample=1, tree_method='exact', ...) Количество  признаков = 1\n",
      "[17:37:07] WARNING: D:\\bld\\xgboost-split_1645118015404\\work\\src\\learner.cc:576: \n",
      "Parameters: { \"max_features\", \"min_samples_leaf\", \"min_samples_split\" } might not be used.\n",
      "\n",
      "  This could be a false alarm, with some parameters getting used by language bindings but\n",
      "  then being mistakenly passed down to XGBoost core, or some parameter actually being used\n",
      "  but getting flagged wrongly here. Please open an issue if you find any such cases.\n",
      "\n",
      "\n",
      "[17:37:07] WARNING: D:\\bld\\xgboost-split_1645118015404\\work\\src\\learner.cc:1115: Starting in XGBoost 1.3.0, the default evaluation metric used with the objective 'multi:softprob' was changed from 'merror' to 'mlogloss'. Explicitly set eval_metric if you'd like to restore the old behavior.\n",
      "0.451165096678235\n",
      "Модель: XGBClassifier(base_score=0.5, booster='gbtree', colsample_bylevel=1,\n",
      "              colsample_bynode=1, colsample_bytree=1, enable_categorical=False,\n",
      "              gamma=0, gpu_id=-1, importance_type=None,\n",
      "              interaction_constraints='', learning_rate=0.2, max_delta_step=0,\n",
      "              max_depth=5, max_features='log2', min_child_weight=1,\n",
      "              min_samples_leaf=0.1, min_samples_split=0.1, missing=nan,\n",
      "              monotone_constraints='()', n_estimators=10, n_jobs=12,\n",
      "              num_parallel_tree=1, objective='multi:softprob', predictor='auto',\n",
      "              random_state=0, reg_alpha=0, reg_lambda=1, scale_pos_weight=None,\n",
      "              subsample=1, tree_method='exact', ...) Количество  признаков = 2\n",
      "[17:37:07] WARNING: D:\\bld\\xgboost-split_1645118015404\\work\\src\\learner.cc:576: \n",
      "Parameters: { \"max_features\", \"min_samples_leaf\", \"min_samples_split\" } might not be used.\n",
      "\n",
      "  This could be a false alarm, with some parameters getting used by language bindings but\n",
      "  then being mistakenly passed down to XGBoost core, or some parameter actually being used\n",
      "  but getting flagged wrongly here. Please open an issue if you find any such cases.\n",
      "\n",
      "\n",
      "[17:37:07] WARNING: D:\\bld\\xgboost-split_1645118015404\\work\\src\\learner.cc:1115: Starting in XGBoost 1.3.0, the default evaluation metric used with the objective 'multi:softprob' was changed from 'merror' to 'mlogloss'. Explicitly set eval_metric if you'd like to restore the old behavior.\n",
      "0.47248388696083293\n",
      "Модель: XGBClassifier(base_score=0.5, booster='gbtree', colsample_bylevel=1,\n",
      "              colsample_bynode=1, colsample_bytree=1, enable_categorical=False,\n",
      "              gamma=0, gpu_id=-1, importance_type=None,\n",
      "              interaction_constraints='', learning_rate=0.2, max_delta_step=0,\n",
      "              max_depth=5, max_features='log2', min_child_weight=1,\n",
      "              min_samples_leaf=0.1, min_samples_split=0.1, missing=nan,\n",
      "              monotone_constraints='()', n_estimators=10, n_jobs=12,\n",
      "              num_parallel_tree=1, objective='multi:softprob', predictor='auto',\n",
      "              random_state=0, reg_alpha=0, reg_lambda=1, scale_pos_weight=None,\n",
      "              subsample=1, tree_method='exact', ...) Количество  признаков = 3\n"
     ]
    },
    {
     "name": "stderr",
     "output_type": "stream",
     "text": [
      "D:\\Programs\\lib\\site-packages\\xgboost\\sklearn.py:1224: UserWarning: The use of label encoder in XGBClassifier is deprecated and will be removed in a future release. To remove this warning, do the following: 1) Pass option use_label_encoder=False when constructing XGBClassifier object; and 2) Encode your labels (y) as integers starting with 0, i.e. 0, 1, 2, ..., [num_class - 1].\n",
      "  warnings.warn(label_encoder_deprecation_msg, UserWarning)\n",
      "D:\\Programs\\lib\\site-packages\\xgboost\\sklearn.py:1224: UserWarning: The use of label encoder in XGBClassifier is deprecated and will be removed in a future release. To remove this warning, do the following: 1) Pass option use_label_encoder=False when constructing XGBClassifier object; and 2) Encode your labels (y) as integers starting with 0, i.e. 0, 1, 2, ..., [num_class - 1].\n",
      "  warnings.warn(label_encoder_deprecation_msg, UserWarning)\n",
      "D:\\Programs\\lib\\site-packages\\xgboost\\sklearn.py:1224: UserWarning: The use of label encoder in XGBClassifier is deprecated and will be removed in a future release. To remove this warning, do the following: 1) Pass option use_label_encoder=False when constructing XGBClassifier object; and 2) Encode your labels (y) as integers starting with 0, i.e. 0, 1, 2, ..., [num_class - 1].\n",
      "  warnings.warn(label_encoder_deprecation_msg, UserWarning)\n",
      "D:\\Programs\\lib\\site-packages\\xgboost\\sklearn.py:1224: UserWarning: The use of label encoder in XGBClassifier is deprecated and will be removed in a future release. To remove this warning, do the following: 1) Pass option use_label_encoder=False when constructing XGBClassifier object; and 2) Encode your labels (y) as integers starting with 0, i.e. 0, 1, 2, ..., [num_class - 1].\n",
      "  warnings.warn(label_encoder_deprecation_msg, UserWarning)\n"
     ]
    },
    {
     "name": "stdout",
     "output_type": "stream",
     "text": [
      "[17:37:07] WARNING: D:\\bld\\xgboost-split_1645118015404\\work\\src\\learner.cc:576: \n",
      "Parameters: { \"max_features\", \"min_samples_leaf\", \"min_samples_split\" } might not be used.\n",
      "\n",
      "  This could be a false alarm, with some parameters getting used by language bindings but\n",
      "  then being mistakenly passed down to XGBoost core, or some parameter actually being used\n",
      "  but getting flagged wrongly here. Please open an issue if you find any such cases.\n",
      "\n",
      "\n",
      "[17:37:07] WARNING: D:\\bld\\xgboost-split_1645118015404\\work\\src\\learner.cc:1115: Starting in XGBoost 1.3.0, the default evaluation metric used with the objective 'multi:softprob' was changed from 'merror' to 'mlogloss'. Explicitly set eval_metric if you'd like to restore the old behavior.\n",
      "0.49429846306395636\n",
      "Модель: XGBClassifier(base_score=0.5, booster='gbtree', colsample_bylevel=1,\n",
      "              colsample_bynode=1, colsample_bytree=1, enable_categorical=False,\n",
      "              gamma=0, gpu_id=-1, importance_type=None,\n",
      "              interaction_constraints='', learning_rate=0.2, max_delta_step=0,\n",
      "              max_depth=5, max_features='log2', min_child_weight=1,\n",
      "              min_samples_leaf=0.1, min_samples_split=0.1, missing=nan,\n",
      "              monotone_constraints='()', n_estimators=10, n_jobs=12,\n",
      "              num_parallel_tree=1, objective='multi:softprob', predictor='auto',\n",
      "              random_state=0, reg_alpha=0, reg_lambda=1, scale_pos_weight=None,\n",
      "              subsample=1, tree_method='exact', ...) Количество  признаков = 4\n",
      "[17:37:07] WARNING: D:\\bld\\xgboost-split_1645118015404\\work\\src\\learner.cc:576: \n",
      "Parameters: { \"max_features\", \"min_samples_leaf\", \"min_samples_split\" } might not be used.\n",
      "\n",
      "  This could be a false alarm, with some parameters getting used by language bindings but\n",
      "  then being mistakenly passed down to XGBoost core, or some parameter actually being used\n",
      "  but getting flagged wrongly here. Please open an issue if you find any such cases.\n",
      "\n",
      "\n",
      "[17:37:07] WARNING: D:\\bld\\xgboost-split_1645118015404\\work\\src\\learner.cc:1115: Starting in XGBoost 1.3.0, the default evaluation metric used with the objective 'multi:softprob' was changed from 'merror' to 'mlogloss'. Explicitly set eval_metric if you'd like to restore the old behavior.\n",
      "0.4997521070897372\n",
      "Модель: XGBClassifier(base_score=0.5, booster='gbtree', colsample_bylevel=1,\n",
      "              colsample_bynode=1, colsample_bytree=1, enable_categorical=False,\n",
      "              gamma=0, gpu_id=-1, importance_type=None,\n",
      "              interaction_constraints='', learning_rate=0.2, max_delta_step=0,\n",
      "              max_depth=5, max_features='log2', min_child_weight=1,\n",
      "              min_samples_leaf=0.1, min_samples_split=0.1, missing=nan,\n",
      "              monotone_constraints='()', n_estimators=10, n_jobs=12,\n",
      "              num_parallel_tree=1, objective='multi:softprob', predictor='auto',\n",
      "              random_state=0, reg_alpha=0, reg_lambda=1, scale_pos_weight=None,\n",
      "              subsample=1, tree_method='exact', ...) Количество  признаков = 5\n",
      "[17:37:07] WARNING: D:\\bld\\xgboost-split_1645118015404\\work\\src\\learner.cc:576: \n",
      "Parameters: { \"max_features\", \"min_samples_leaf\", \"min_samples_split\" } might not be used.\n",
      "\n",
      "  This could be a false alarm, with some parameters getting used by language bindings but\n",
      "  then being mistakenly passed down to XGBoost core, or some parameter actually being used\n",
      "  but getting flagged wrongly here. Please open an issue if you find any such cases.\n",
      "\n",
      "\n",
      "[17:37:07] WARNING: D:\\bld\\xgboost-split_1645118015404\\work\\src\\learner.cc:1115: Starting in XGBoost 1.3.0, the default evaluation metric used with the objective 'multi:softprob' was changed from 'merror' to 'mlogloss'. Explicitly set eval_metric if you'd like to restore the old behavior.\n",
      "0.532969757064948\n"
     ]
    },
    {
     "name": "stderr",
     "output_type": "stream",
     "text": [
      "D:\\Programs\\lib\\site-packages\\xgboost\\sklearn.py:1224: UserWarning: The use of label encoder in XGBClassifier is deprecated and will be removed in a future release. To remove this warning, do the following: 1) Pass option use_label_encoder=False when constructing XGBClassifier object; and 2) Encode your labels (y) as integers starting with 0, i.e. 0, 1, 2, ..., [num_class - 1].\n",
      "  warnings.warn(label_encoder_deprecation_msg, UserWarning)\n",
      "D:\\Programs\\lib\\site-packages\\xgboost\\sklearn.py:1224: UserWarning: The use of label encoder in XGBClassifier is deprecated and will be removed in a future release. To remove this warning, do the following: 1) Pass option use_label_encoder=False when constructing XGBClassifier object; and 2) Encode your labels (y) as integers starting with 0, i.e. 0, 1, 2, ..., [num_class - 1].\n",
      "  warnings.warn(label_encoder_deprecation_msg, UserWarning)\n",
      "D:\\Programs\\lib\\site-packages\\xgboost\\sklearn.py:1224: UserWarning: The use of label encoder in XGBClassifier is deprecated and will be removed in a future release. To remove this warning, do the following: 1) Pass option use_label_encoder=False when constructing XGBClassifier object; and 2) Encode your labels (y) as integers starting with 0, i.e. 0, 1, 2, ..., [num_class - 1].\n",
      "  warnings.warn(label_encoder_deprecation_msg, UserWarning)\n"
     ]
    },
    {
     "name": "stdout",
     "output_type": "stream",
     "text": [
      "Модель: XGBClassifier(base_score=0.5, booster='gbtree', colsample_bylevel=1,\n",
      "              colsample_bynode=1, colsample_bytree=1, enable_categorical=False,\n",
      "              gamma=0, gpu_id=-1, importance_type=None,\n",
      "              interaction_constraints='', learning_rate=0.2, max_delta_step=0,\n",
      "              max_depth=5, max_features='log2', min_child_weight=1,\n",
      "              min_samples_leaf=0.1, min_samples_split=0.1, missing=nan,\n",
      "              monotone_constraints='()', n_estimators=10, n_jobs=12,\n",
      "              num_parallel_tree=1, objective='multi:softprob', predictor='auto',\n",
      "              random_state=0, reg_alpha=0, reg_lambda=1, scale_pos_weight=None,\n",
      "              subsample=1, tree_method='exact', ...) Количество  признаков = 6\n",
      "[17:37:07] WARNING: D:\\bld\\xgboost-split_1645118015404\\work\\src\\learner.cc:576: \n",
      "Parameters: { \"max_features\", \"min_samples_leaf\", \"min_samples_split\" } might not be used.\n",
      "\n",
      "  This could be a false alarm, with some parameters getting used by language bindings but\n",
      "  then being mistakenly passed down to XGBoost core, or some parameter actually being used\n",
      "  but getting flagged wrongly here. Please open an issue if you find any such cases.\n",
      "\n",
      "\n",
      "[17:37:07] WARNING: D:\\bld\\xgboost-split_1645118015404\\work\\src\\learner.cc:1115: Starting in XGBoost 1.3.0, the default evaluation metric used with the objective 'multi:softprob' was changed from 'merror' to 'mlogloss'. Explicitly set eval_metric if you'd like to restore the old behavior.\n",
      "0.5334655428854734\n",
      "Модель: XGBClassifier(base_score=0.5, booster='gbtree', colsample_bylevel=1,\n",
      "              colsample_bynode=1, colsample_bytree=1, enable_categorical=False,\n",
      "              gamma=0, gpu_id=-1, importance_type=None,\n",
      "              interaction_constraints='', learning_rate=0.2, max_delta_step=0,\n",
      "              max_depth=5, max_features='log2', min_child_weight=1,\n",
      "              min_samples_leaf=0.1, min_samples_split=0.1, missing=nan,\n",
      "              monotone_constraints='()', n_estimators=10, n_jobs=12,\n",
      "              num_parallel_tree=1, objective='multi:softprob', predictor='auto',\n",
      "              random_state=0, reg_alpha=0, reg_lambda=1, scale_pos_weight=None,\n",
      "              subsample=1, tree_method='exact', ...) Количество  признаков = 7\n",
      "[17:37:07] WARNING: D:\\bld\\xgboost-split_1645118015404\\work\\src\\learner.cc:576: \n",
      "Parameters: { \"max_features\", \"min_samples_leaf\", \"min_samples_split\" } might not be used.\n",
      "\n",
      "  This could be a false alarm, with some parameters getting used by language bindings but\n",
      "  then being mistakenly passed down to XGBoost core, or some parameter actually being used\n",
      "  but getting flagged wrongly here. Please open an issue if you find any such cases.\n",
      "\n",
      "\n",
      "[17:37:07] WARNING: D:\\bld\\xgboost-split_1645118015404\\work\\src\\learner.cc:1115: Starting in XGBoost 1.3.0, the default evaluation metric used with the objective 'multi:softprob' was changed from 'merror' to 'mlogloss'. Explicitly set eval_metric if you'd like to restore the old behavior.\n",
      "0.5359444719881011\n",
      "Модель: XGBClassifier(base_score=0.5, booster='gbtree', colsample_bylevel=1,\n",
      "              colsample_bynode=1, colsample_bytree=1, enable_categorical=False,\n",
      "              gamma=0, gpu_id=-1, importance_type=None,\n",
      "              interaction_constraints='', learning_rate=0.2, max_delta_step=0,\n",
      "              max_depth=5, max_features='log2', min_child_weight=1,\n",
      "              min_samples_leaf=0.1, min_samples_split=0.1, missing=nan,\n",
      "              monotone_constraints='()', n_estimators=10, n_jobs=12,\n",
      "              num_parallel_tree=1, objective='multi:softprob', predictor='auto',\n",
      "              random_state=0, reg_alpha=0, reg_lambda=1, scale_pos_weight=None,\n",
      "              subsample=1, tree_method='exact', ...) Количество  признаков = 8\n",
      "[17:37:07] WARNING: D:\\bld\\xgboost-split_1645118015404\\work\\src\\learner.cc:576: \n",
      "Parameters: { \"max_features\", \"min_samples_leaf\", \"min_samples_split\" } might not be used.\n",
      "\n",
      "  This could be a false alarm, with some parameters getting used by language bindings but\n",
      "  then being mistakenly passed down to XGBoost core, or some parameter actually being used\n",
      "  but getting flagged wrongly here. Please open an issue if you find any such cases.\n",
      "\n",
      "\n",
      "[17:37:07] WARNING: D:\\bld\\xgboost-split_1645118015404\\work\\src\\learner.cc:1115: Starting in XGBoost 1.3.0, the default evaluation metric used with the objective 'multi:softprob' was changed from 'merror' to 'mlogloss'. Explicitly set eval_metric if you'd like to restore the old behavior.\n"
     ]
    },
    {
     "name": "stderr",
     "output_type": "stream",
     "text": [
      "D:\\Programs\\lib\\site-packages\\xgboost\\sklearn.py:1224: UserWarning: The use of label encoder in XGBClassifier is deprecated and will be removed in a future release. To remove this warning, do the following: 1) Pass option use_label_encoder=False when constructing XGBClassifier object; and 2) Encode your labels (y) as integers starting with 0, i.e. 0, 1, 2, ..., [num_class - 1].\n",
      "  warnings.warn(label_encoder_deprecation_msg, UserWarning)\n",
      "D:\\Programs\\lib\\site-packages\\xgboost\\sklearn.py:1224: UserWarning: The use of label encoder in XGBClassifier is deprecated and will be removed in a future release. To remove this warning, do the following: 1) Pass option use_label_encoder=False when constructing XGBClassifier object; and 2) Encode your labels (y) as integers starting with 0, i.e. 0, 1, 2, ..., [num_class - 1].\n",
      "  warnings.warn(label_encoder_deprecation_msg, UserWarning)\n"
     ]
    },
    {
     "name": "stdout",
     "output_type": "stream",
     "text": [
      "0.5384234010907288\n",
      "Модель: XGBClassifier(base_score=0.5, booster='gbtree', colsample_bylevel=1,\n",
      "              colsample_bynode=1, colsample_bytree=1, enable_categorical=False,\n",
      "              gamma=0, gpu_id=-1, importance_type=None,\n",
      "              interaction_constraints='', learning_rate=0.2, max_delta_step=0,\n",
      "              max_depth=5, max_features='log2', min_child_weight=1,\n",
      "              min_samples_leaf=0.1, min_samples_split=0.1, missing=nan,\n",
      "              monotone_constraints='()', n_estimators=10, n_jobs=12,\n",
      "              num_parallel_tree=1, objective='multi:softprob', predictor='auto',\n",
      "              random_state=0, reg_alpha=0, reg_lambda=1, scale_pos_weight=None,\n",
      "              subsample=1, tree_method='exact', ...) Количество  признаков = 9\n",
      "0.40109072880515617\n",
      "Модель: GradientBoostingClassifier(random_state=7) Количество  признаков = 1\n",
      "0.45066931085770945\n",
      "Модель: GradientBoostingClassifier(random_state=7) Количество  признаков = 2\n",
      "0.4705007436787308\n",
      "Модель: GradientBoostingClassifier(random_state=7) Количество  признаков = 3\n",
      "0.4923153197818542\n",
      "Модель: GradientBoostingClassifier(random_state=7) Количество  признаков = 4\n",
      "0.4853743182944968\n",
      "Модель: GradientBoostingClassifier(random_state=7) Количество  признаков = 5\n",
      "0.5374318294496777\n",
      "Модель: GradientBoostingClassifier(random_state=7) Количество  признаков = 6\n",
      "0.5433812592959841\n",
      "Модель: GradientBoostingClassifier(random_state=7) Количество  признаков = 7\n",
      "0.540406544372831\n",
      "Модель: GradientBoostingClassifier(random_state=7) Количество  признаков = 8\n",
      "0.5458601883986118\n",
      "Модель: GradientBoostingClassifier(random_state=7) Количество  признаков = 9\n",
      "0.40109072880515617\n",
      "Модель: BaggingClassifier(base_estimator=DecisionTreeClassifier(criterion='entropy',\n",
      "                                                        max_depth=5),\n",
      "                  bootstrap=False, bootstrap_features=True, max_samples=0.8,\n",
      "                  n_estimators=100) Количество  признаков = 1\n",
      "0.4571145265245414\n",
      "Модель: BaggingClassifier(base_estimator=DecisionTreeClassifier(criterion='entropy',\n",
      "                                                        max_depth=5),\n",
      "                  bootstrap=False, bootstrap_features=True, max_samples=0.8,\n",
      "                  n_estimators=100) Количество  признаков = 2\n",
      "0.4779375309866138\n",
      "Модель: BaggingClassifier(base_estimator=DecisionTreeClassifier(criterion='entropy',\n",
      "                                                        max_depth=5),\n",
      "                  bootstrap=False, bootstrap_features=True, max_samples=0.8,\n",
      "                  n_estimators=100) Количество  признаков = 3\n",
      "0.48834903321765\n",
      "Модель: BaggingClassifier(base_estimator=DecisionTreeClassifier(criterion='entropy',\n",
      "                                                        max_depth=5),\n",
      "                  bootstrap=False, bootstrap_features=True, max_samples=0.8,\n",
      "                  n_estimators=100) Количество  признаков = 4\n",
      "0.4928111056023798\n",
      "Модель: BaggingClassifier(base_estimator=DecisionTreeClassifier(criterion='entropy',\n",
      "                                                        max_depth=5),\n",
      "                  bootstrap=False, bootstrap_features=True, max_samples=0.8,\n",
      "                  n_estimators=100) Количество  признаков = 5\n",
      "0.5334655428854734\n",
      "Модель: BaggingClassifier(base_estimator=DecisionTreeClassifier(criterion='entropy',\n",
      "                                                        max_depth=5),\n",
      "                  bootstrap=False, bootstrap_features=True, max_samples=0.8,\n",
      "                  n_estimators=100) Количество  признаков = 6\n",
      "0.5349529003470501\n",
      "Модель: BaggingClassifier(base_estimator=DecisionTreeClassifier(criterion='entropy',\n",
      "                                                        max_depth=5),\n",
      "                  bootstrap=False, bootstrap_features=True, max_samples=0.8,\n",
      "                  n_estimators=100) Количество  признаков = 7\n",
      "0.5349529003470501\n",
      "Модель: BaggingClassifier(base_estimator=DecisionTreeClassifier(criterion='entropy',\n",
      "                                                        max_depth=5),\n",
      "                  bootstrap=False, bootstrap_features=True, max_samples=0.8,\n",
      "                  n_estimators=100) Количество  признаков = 8\n",
      "0.5389191869112543\n",
      "Модель: BaggingClassifier(base_estimator=DecisionTreeClassifier(criterion='entropy',\n",
      "                                                        max_depth=5),\n",
      "                  bootstrap=False, bootstrap_features=True, max_samples=0.8,\n",
      "                  n_estimators=100) Количество  признаков = 9\n"
     ]
    }
   ],
   "source": [
    "for i in lst_3:\n",
    "   model = i\n",
    "   for j in lst_1:\n",
    "        test=SelectKBest(score_func=f_classif, k=j)\n",
    "        fit=test.fit(X,Y)\n",
    "        features=fit.transform(X)\n",
    "        X_train, X_test, Y_train, Y_test = train_test_split(features, Y, test_size=0.25, \n",
    "                                                            shuffle=True, random_state=7)\n",
    "        model.fit(X_train,Y_train)\n",
    "        result=model.score(X_test,Y_test)\n",
    "        k.append(result)\n",
    "        print(result)\n",
    "        print(f'Модель: {i} Количество  признаков = {j}')\n",
    "        \n",
    "    \n",
    "    \n",
    "    \n"
   ]
  },
  {
   "cell_type": "code",
   "execution_count": 68,
   "id": "9a30eeb2",
   "metadata": {},
   "outputs": [
    {
     "data": {
      "image/png": "[encoded data removed]",
      "text/plain": [
       "<Figure size 1152x1152 with 1 Axes>"
      ]
     },
     "metadata": {
      "needs_background": "light"
     },
     "output_type": "display_data"
    }
   ],
   "source": [
    "import matplotlib.pyplot as plt\n",
    "import seaborn as sns\n",
    "x = 1,2,3,4,5,6,7,8,9\n",
    "plt.figure(figsize=(16, 16))\n",
    "\n",
    "plt.title('Зависимость качества моделей от числа признаков', alpha=0.5, color='g', fontsize=20, fontstyle='italic',\n",
    "fontweight='extra bold', linespacing=10)\n",
    "\n",
    "line1, = plt.plot(x, k[:9], 'o-b',label='Логистическая регрессия')\n",
    "line2, = plt.plot(x, k[9:18], 'o-.m', label='Модель решающего дерева')\n",
    "line3, = plt.plot(x, k[18:27], 'o--g', label='AdaBoost(адаптивное усиление)')\n",
    "line4, = plt.plot(x, k[27:36], 'o:r', label='Метод опорных векторов')\n",
    "line5, = plt.plot(x, k[36:45], 'o-c', label='Метод KNN')\n",
    "line6, = plt.plot(x, k[45:54], 'o-.y', label='Случайный лес')\n",
    "line7, = plt.plot(x, k[54:63], 'o--k', label='Дополнительных деревьев')\n",
    "line8, = plt.plot(x, k[63:72], 'o:',color='orange', label='XGBClassifier')\n",
    "line9, = plt.plot(x, k[72:81], 'o:',color='brown', label='GradientBoostingClassifier')\n",
    "line10, = plt.plot(x, k[81:], 'o:',color='pink', label='BaggingClassifier')\n",
    "\n",
    "plt.text(0.5, 0.5, 'text')\n",
    "plt.grid()\n",
    "plt.legend(fontsize=10)\n",
    "plt.show()"
   ]
  },
  {
   "cell_type": "code",
   "execution_count": null,
   "id": "ceddf1e8",
   "metadata": {},
   "outputs": [],
   "source": []
  },
  {
   "cell_type": "code",
   "execution_count": null,
   "id": "5ca17803",
   "metadata": {},
   "outputs": [],
   "source": []
  },
  {
   "cell_type": "code",
   "execution_count": null,
   "id": "786b1b13",
   "metadata": {},
   "outputs": [],
   "source": []
  },
  {
   "cell_type": "code",
   "execution_count": null,
   "id": "1b5404a5",
   "metadata": {},
   "outputs": [],
   "source": []
  },
  {
   "cell_type": "code",
   "execution_count": null,
   "id": "b6e1af0b",
   "metadata": {},
   "outputs": [],
   "source": []
  },
  {
   "cell_type": "code",
   "execution_count": null,
   "id": "93a070bf",
   "metadata": {},
   "outputs": [],
   "source": []
  },
  {
   "cell_type": "code",
   "execution_count": null,
   "id": "0b19edce",
   "metadata": {},
   "outputs": [],
   "source": []
  },
  {
   "cell_type": "code",
   "execution_count": null,
   "id": "ebccc628",
   "metadata": {},
   "outputs": [],
   "source": []
  },
  {
   "cell_type": "code",
   "execution_count": null,
   "id": "ce6031d8",
   "metadata": {},
   "outputs": [],
   "source": []
  },
  {
   "cell_type": "code",
   "execution_count": null,
   "id": "0487ecc8",
   "metadata": {},
   "outputs": [],
   "source": []
  },
  {
   "cell_type": "code",
   "execution_count": null,
   "id": "ebb8ed12",
   "metadata": {},
   "outputs": [],
   "source": []
  },
  {
   "cell_type": "code",
   "execution_count": null,
   "id": "067bd873",
   "metadata": {},
   "outputs": [],
   "source": []
  },
  {
   "cell_type": "code",
   "execution_count": null,
   "id": "8e14f380",
   "metadata": {},
   "outputs": [],
   "source": []
  },
  {
   "cell_type": "code",
   "execution_count": null,
   "id": "6be30fc7",
   "metadata": {},
   "outputs": [],
   "source": []
  },
  {
   "cell_type": "markdown",
   "id": "319b84e7",
   "metadata": {},
   "source": [
    "**Вывод: отбор показал, что лучший результат дает выбор 7 лучших признаков**"
   ]
  },
  {
   "cell_type": "code",
   "execution_count": 54,
   "id": "3101c007",
   "metadata": {
    "collapsed": true
   },
   "outputs": [
    {
     "data": {
      "text/plain": [
       "array([  4.70368846, 496.43200214, 418.45793796, 354.51376472,\n",
       "        53.09011086,  20.75182914, 364.22358787,  92.0107774 ,\n",
       "        33.2485345 ])"
      ]
     },
     "execution_count": 54,
     "metadata": {},
     "output_type": "execute_result"
    }
   ],
   "source": [
    "test=SelectKBest(score_func=f_classif, k=7)\n",
    "fit=test.fit(X,Y)\n",
    "features=fit.transform(X)\n",
    "fit.scores_"
   ]
  },
  {
   "cell_type": "code",
   "execution_count": 55,
   "id": "9096a9aa",
   "metadata": {
    "collapsed": true
   },
   "outputs": [
    {
     "data": {
      "text/plain": [
       "array([[ 0., 22.,  0.,  2.,  3.,  4.,  4.],\n",
       "       [ 1., 67.,  1.,  4.,  3.,  1.,  6.]])"
      ]
     },
     "execution_count": 55,
     "metadata": {},
     "output_type": "execute_result"
    }
   ],
   "source": [
    "features[0:2]"
   ]
  },
  {
   "cell_type": "markdown",
   "id": "e374d896",
   "metadata": {},
   "source": [
    "Вывод:\n",
    "лучшими 7-ю признаками будут: **'Семейное_положение', 'Возраст', 'Высшее_образование', 'Профессия', 'Уровень_расходов', 'Размер_семьи', 'Анонимная_категория'**"
   ]
  },
  {
   "cell_type": "markdown",
   "id": "4e4e2920",
   "metadata": {},
   "source": [
    "# **4. LogisticRegression + рекурсивное_исключение**"
   ]
  },
  {
   "cell_type": "code",
   "execution_count": 10,
   "id": "511780be",
   "metadata": {},
   "outputs": [],
   "source": [
    "from sklearn.feature_selection import RFE"
   ]
  },
  {
   "cell_type": "code",
   "execution_count": 11,
   "id": "ddfc5764",
   "metadata": {},
   "outputs": [],
   "source": [
    "lst_1 = list(range(1,10))\n",
    "lst_2 = list(range(2,9))\n",
    "k = []"
   ]
  },
  {
   "cell_type": "code",
   "execution_count": 12,
   "id": "5de01bf5",
   "metadata": {
    "collapsed": true
   },
   "outputs": [
    {
     "name": "stdout",
     "output_type": "stream",
     "text": [
      "n_splits: 2 KBest: 1 0.4006002491005403\n",
      "n_splits: 2 KBest: 2 0.43991057268992206\n",
      "n_splits: 2 KBest: 3 0.44951130767338443\n",
      "n_splits: 2 KBest: 4 0.4520622380365288\n",
      "n_splits: 2 KBest: 5 0.463765344121447\n",
      "n_splits: 2 KBest: 6 0.46571634954611907\n",
      "n_splits: 2 KBest: 7 0.46481630455962764\n",
      "n_splits: 2 KBest: 8 0.46916655951309416\n",
      "n_splits: 2 KBest: 9 0.4778687802753865\n",
      "i 2 max: 0.4778687802753865\n",
      "n_splits: 3 KBest: 1 0.40060151895423673\n",
      "n_splits: 3 KBest: 2 0.43631035773545834\n",
      "n_splits: 3 KBest: 3 0.4504127810349698\n",
      "n_splits: 3 KBest: 4 0.4556639815264732\n",
      "n_splits: 3 KBest: 5 0.4660172455786777\n",
      "n_splits: 3 KBest: 6 0.46466596231887936\n",
      "n_splits: 3 KBest: 7 0.46961733543908196\n",
      "n_splits: 3 KBest: 8 0.4694669151741829\n",
      "n_splits: 3 KBest: 9 0.4798188283483909\n",
      "i 3 max: 0.4798188283483909\n",
      "n_splits: 4 KBest: 1 0.4006041828849116\n",
      "n_splits: 4 KBest: 2 0.43646195730841825\n",
      "n_splits: 4 KBest: 3 0.4501136387368385\n",
      "n_splits: 4 KBest: 4 0.45776327927691773\n",
      "n_splits: 4 KBest: 5 0.4643673606215131\n",
      "n_splits: 4 KBest: 6 0.4663168806814868\n",
      "n_splits: 4 KBest: 7 0.46856850118571725\n",
      "n_splits: 4 KBest: 8 0.4685684111677064\n",
      "n_splits: 4 KBest: 9 0.47532003203200895\n",
      "i 4 max: 0.4798188283483909\n",
      "n_splits: 5 KBest: 1 0.4006001500375094\n",
      "n_splits: 5 KBest: 2 0.4364591147786946\n",
      "n_splits: 5 KBest: 3 0.45011252813203295\n",
      "n_splits: 5 KBest: 4 0.4585146286571643\n",
      "n_splits: 5 KBest: 5 0.4649662415603902\n",
      "n_splits: 5 KBest: 6 0.4643660915228808\n",
      "n_splits: 5 KBest: 7 0.4661665416354088\n",
      "n_splits: 5 KBest: 8 0.4658664666166542\n",
      "n_splits: 5 KBest: 9 0.47651912978244565\n",
      "i 5 max: 0.4798188283483909\n",
      "n_splits: 6 KBest: 1 0.40059951941140065\n",
      "n_splits: 6 KBest: 2 0.43360660390363365\n",
      "n_splits: 6 KBest: 3 0.4471093055251471\n",
      "n_splits: 6 KBest: 4 0.45701340404310703\n",
      "n_splits: 6 KBest: 5 0.46571549046796573\n",
      "n_splits: 6 KBest: 6 0.46436616634636446\n"
     ]
    },
    {
     "ename": "KeyboardInterrupt",
     "evalue": "",
     "output_type": "error",
     "traceback": [
      "\u001b[1;31m---------------------------------------------------------------------------\u001b[0m",
      "\u001b[1;31mKeyboardInterrupt\u001b[0m                         Traceback (most recent call last)",
      "\u001b[1;32mC:\\Users\\D9F8~1\\AppData\\Local\\Temp/ipykernel_6224/3113922211.py\u001b[0m in \u001b[0;36m<module>\u001b[1;34m\u001b[0m\n\u001b[0;32m      6\u001b[0m       \u001b[0mfit\u001b[0m\u001b[1;33m=\u001b[0m\u001b[0mrfe\u001b[0m\u001b[1;33m.\u001b[0m\u001b[0mfit\u001b[0m\u001b[1;33m(\u001b[0m\u001b[0mX\u001b[0m\u001b[1;33m,\u001b[0m\u001b[0mY\u001b[0m\u001b[1;33m)\u001b[0m\u001b[1;33m\u001b[0m\u001b[1;33m\u001b[0m\u001b[0m\n\u001b[0;32m      7\u001b[0m       \u001b[0mfeatures\u001b[0m\u001b[1;33m=\u001b[0m\u001b[0mfit\u001b[0m\u001b[1;33m.\u001b[0m\u001b[0mtransform\u001b[0m\u001b[1;33m(\u001b[0m\u001b[0mX\u001b[0m\u001b[1;33m)\u001b[0m\u001b[1;33m\u001b[0m\u001b[1;33m\u001b[0m\u001b[0m\n\u001b[1;32m----> 8\u001b[1;33m       \u001b[0mresults\u001b[0m\u001b[1;33m=\u001b[0m\u001b[0mcross_val_score\u001b[0m\u001b[1;33m(\u001b[0m\u001b[0mmodel\u001b[0m\u001b[1;33m,\u001b[0m \u001b[0mfeatures\u001b[0m\u001b[1;33m,\u001b[0m \u001b[0mY\u001b[0m\u001b[1;33m,\u001b[0m \u001b[0mcv\u001b[0m\u001b[1;33m=\u001b[0m\u001b[0mkfold\u001b[0m\u001b[1;33m)\u001b[0m\u001b[1;33m\u001b[0m\u001b[1;33m\u001b[0m\u001b[0m\n\u001b[0m\u001b[0;32m      9\u001b[0m       \u001b[0mres\u001b[0m \u001b[1;33m=\u001b[0m \u001b[0mresults\u001b[0m\u001b[1;33m.\u001b[0m\u001b[0mmean\u001b[0m\u001b[1;33m(\u001b[0m\u001b[1;33m)\u001b[0m\u001b[1;33m\u001b[0m\u001b[1;33m\u001b[0m\u001b[0m\n\u001b[0;32m     10\u001b[0m       \u001b[0mk\u001b[0m\u001b[1;33m.\u001b[0m\u001b[0mappend\u001b[0m\u001b[1;33m(\u001b[0m\u001b[0mres\u001b[0m\u001b[1;33m)\u001b[0m\u001b[1;33m\u001b[0m\u001b[1;33m\u001b[0m\u001b[0m\n",
      "\u001b[1;32mD:\\Programs\\lib\\site-packages\\sklearn\\utils\\validation.py\u001b[0m in \u001b[0;36minner_f\u001b[1;34m(*args, **kwargs)\u001b[0m\n\u001b[0;32m     61\u001b[0m             \u001b[0mextra_args\u001b[0m \u001b[1;33m=\u001b[0m \u001b[0mlen\u001b[0m\u001b[1;33m(\u001b[0m\u001b[0margs\u001b[0m\u001b[1;33m)\u001b[0m \u001b[1;33m-\u001b[0m \u001b[0mlen\u001b[0m\u001b[1;33m(\u001b[0m\u001b[0mall_args\u001b[0m\u001b[1;33m)\u001b[0m\u001b[1;33m\u001b[0m\u001b[1;33m\u001b[0m\u001b[0m\n\u001b[0;32m     62\u001b[0m             \u001b[1;32mif\u001b[0m \u001b[0mextra_args\u001b[0m \u001b[1;33m<=\u001b[0m \u001b[1;36m0\u001b[0m\u001b[1;33m:\u001b[0m\u001b[1;33m\u001b[0m\u001b[1;33m\u001b[0m\u001b[0m\n\u001b[1;32m---> 63\u001b[1;33m                 \u001b[1;32mreturn\u001b[0m \u001b[0mf\u001b[0m\u001b[1;33m(\u001b[0m\u001b[1;33m*\u001b[0m\u001b[0margs\u001b[0m\u001b[1;33m,\u001b[0m \u001b[1;33m**\u001b[0m\u001b[0mkwargs\u001b[0m\u001b[1;33m)\u001b[0m\u001b[1;33m\u001b[0m\u001b[1;33m\u001b[0m\u001b[0m\n\u001b[0m\u001b[0;32m     64\u001b[0m \u001b[1;33m\u001b[0m\u001b[0m\n\u001b[0;32m     65\u001b[0m             \u001b[1;31m# extra_args > 0\u001b[0m\u001b[1;33m\u001b[0m\u001b[1;33m\u001b[0m\u001b[0m\n",
      "\u001b[1;32mD:\\Programs\\lib\\site-packages\\sklearn\\model_selection\\_validation.py\u001b[0m in \u001b[0;36mcross_val_score\u001b[1;34m(estimator, X, y, groups, scoring, cv, n_jobs, verbose, fit_params, pre_dispatch, error_score)\u001b[0m\n\u001b[0;32m    443\u001b[0m     \u001b[0mscorer\u001b[0m \u001b[1;33m=\u001b[0m \u001b[0mcheck_scoring\u001b[0m\u001b[1;33m(\u001b[0m\u001b[0mestimator\u001b[0m\u001b[1;33m,\u001b[0m \u001b[0mscoring\u001b[0m\u001b[1;33m=\u001b[0m\u001b[0mscoring\u001b[0m\u001b[1;33m)\u001b[0m\u001b[1;33m\u001b[0m\u001b[1;33m\u001b[0m\u001b[0m\n\u001b[0;32m    444\u001b[0m \u001b[1;33m\u001b[0m\u001b[0m\n\u001b[1;32m--> 445\u001b[1;33m     cv_results = cross_validate(estimator=estimator, X=X, y=y, groups=groups,\n\u001b[0m\u001b[0;32m    446\u001b[0m                                 \u001b[0mscoring\u001b[0m\u001b[1;33m=\u001b[0m\u001b[1;33m{\u001b[0m\u001b[1;34m'score'\u001b[0m\u001b[1;33m:\u001b[0m \u001b[0mscorer\u001b[0m\u001b[1;33m}\u001b[0m\u001b[1;33m,\u001b[0m \u001b[0mcv\u001b[0m\u001b[1;33m=\u001b[0m\u001b[0mcv\u001b[0m\u001b[1;33m,\u001b[0m\u001b[1;33m\u001b[0m\u001b[1;33m\u001b[0m\u001b[0m\n\u001b[0;32m    447\u001b[0m                                 \u001b[0mn_jobs\u001b[0m\u001b[1;33m=\u001b[0m\u001b[0mn_jobs\u001b[0m\u001b[1;33m,\u001b[0m \u001b[0mverbose\u001b[0m\u001b[1;33m=\u001b[0m\u001b[0mverbose\u001b[0m\u001b[1;33m,\u001b[0m\u001b[1;33m\u001b[0m\u001b[1;33m\u001b[0m\u001b[0m\n",
      "\u001b[1;32mD:\\Programs\\lib\\site-packages\\sklearn\\utils\\validation.py\u001b[0m in \u001b[0;36minner_f\u001b[1;34m(*args, **kwargs)\u001b[0m\n\u001b[0;32m     61\u001b[0m             \u001b[0mextra_args\u001b[0m \u001b[1;33m=\u001b[0m \u001b[0mlen\u001b[0m\u001b[1;33m(\u001b[0m\u001b[0margs\u001b[0m\u001b[1;33m)\u001b[0m \u001b[1;33m-\u001b[0m \u001b[0mlen\u001b[0m\u001b[1;33m(\u001b[0m\u001b[0mall_args\u001b[0m\u001b[1;33m)\u001b[0m\u001b[1;33m\u001b[0m\u001b[1;33m\u001b[0m\u001b[0m\n\u001b[0;32m     62\u001b[0m             \u001b[1;32mif\u001b[0m \u001b[0mextra_args\u001b[0m \u001b[1;33m<=\u001b[0m \u001b[1;36m0\u001b[0m\u001b[1;33m:\u001b[0m\u001b[1;33m\u001b[0m\u001b[1;33m\u001b[0m\u001b[0m\n\u001b[1;32m---> 63\u001b[1;33m                 \u001b[1;32mreturn\u001b[0m \u001b[0mf\u001b[0m\u001b[1;33m(\u001b[0m\u001b[1;33m*\u001b[0m\u001b[0margs\u001b[0m\u001b[1;33m,\u001b[0m \u001b[1;33m**\u001b[0m\u001b[0mkwargs\u001b[0m\u001b[1;33m)\u001b[0m\u001b[1;33m\u001b[0m\u001b[1;33m\u001b[0m\u001b[0m\n\u001b[0m\u001b[0;32m     64\u001b[0m \u001b[1;33m\u001b[0m\u001b[0m\n\u001b[0;32m     65\u001b[0m             \u001b[1;31m# extra_args > 0\u001b[0m\u001b[1;33m\u001b[0m\u001b[1;33m\u001b[0m\u001b[0m\n",
      "\u001b[1;32mD:\\Programs\\lib\\site-packages\\sklearn\\model_selection\\_validation.py\u001b[0m in \u001b[0;36mcross_validate\u001b[1;34m(estimator, X, y, groups, scoring, cv, n_jobs, verbose, fit_params, pre_dispatch, return_train_score, return_estimator, error_score)\u001b[0m\n\u001b[0;32m    248\u001b[0m     parallel = Parallel(n_jobs=n_jobs, verbose=verbose,\n\u001b[0;32m    249\u001b[0m                         pre_dispatch=pre_dispatch)\n\u001b[1;32m--> 250\u001b[1;33m     results = parallel(\n\u001b[0m\u001b[0;32m    251\u001b[0m         delayed(_fit_and_score)(\n\u001b[0;32m    252\u001b[0m             \u001b[0mclone\u001b[0m\u001b[1;33m(\u001b[0m\u001b[0mestimator\u001b[0m\u001b[1;33m)\u001b[0m\u001b[1;33m,\u001b[0m \u001b[0mX\u001b[0m\u001b[1;33m,\u001b[0m \u001b[0my\u001b[0m\u001b[1;33m,\u001b[0m \u001b[0mscorers\u001b[0m\u001b[1;33m,\u001b[0m \u001b[0mtrain\u001b[0m\u001b[1;33m,\u001b[0m \u001b[0mtest\u001b[0m\u001b[1;33m,\u001b[0m \u001b[0mverbose\u001b[0m\u001b[1;33m,\u001b[0m \u001b[1;32mNone\u001b[0m\u001b[1;33m,\u001b[0m\u001b[1;33m\u001b[0m\u001b[1;33m\u001b[0m\u001b[0m\n",
      "\u001b[1;32mD:\\Programs\\lib\\site-packages\\joblib\\parallel.py\u001b[0m in \u001b[0;36m__call__\u001b[1;34m(self, iterable)\u001b[0m\n\u001b[0;32m   1044\u001b[0m                 \u001b[0mself\u001b[0m\u001b[1;33m.\u001b[0m\u001b[0m_iterating\u001b[0m \u001b[1;33m=\u001b[0m \u001b[0mself\u001b[0m\u001b[1;33m.\u001b[0m\u001b[0m_original_iterator\u001b[0m \u001b[1;32mis\u001b[0m \u001b[1;32mnot\u001b[0m \u001b[1;32mNone\u001b[0m\u001b[1;33m\u001b[0m\u001b[1;33m\u001b[0m\u001b[0m\n\u001b[0;32m   1045\u001b[0m \u001b[1;33m\u001b[0m\u001b[0m\n\u001b[1;32m-> 1046\u001b[1;33m             \u001b[1;32mwhile\u001b[0m \u001b[0mself\u001b[0m\u001b[1;33m.\u001b[0m\u001b[0mdispatch_one_batch\u001b[0m\u001b[1;33m(\u001b[0m\u001b[0miterator\u001b[0m\u001b[1;33m)\u001b[0m\u001b[1;33m:\u001b[0m\u001b[1;33m\u001b[0m\u001b[1;33m\u001b[0m\u001b[0m\n\u001b[0m\u001b[0;32m   1047\u001b[0m                 \u001b[1;32mpass\u001b[0m\u001b[1;33m\u001b[0m\u001b[1;33m\u001b[0m\u001b[0m\n\u001b[0;32m   1048\u001b[0m \u001b[1;33m\u001b[0m\u001b[0m\n",
      "\u001b[1;32mD:\\Programs\\lib\\site-packages\\joblib\\parallel.py\u001b[0m in \u001b[0;36mdispatch_one_batch\u001b[1;34m(self, iterator)\u001b[0m\n\u001b[0;32m    859\u001b[0m                 \u001b[1;32mreturn\u001b[0m \u001b[1;32mFalse\u001b[0m\u001b[1;33m\u001b[0m\u001b[1;33m\u001b[0m\u001b[0m\n\u001b[0;32m    860\u001b[0m             \u001b[1;32melse\u001b[0m\u001b[1;33m:\u001b[0m\u001b[1;33m\u001b[0m\u001b[1;33m\u001b[0m\u001b[0m\n\u001b[1;32m--> 861\u001b[1;33m                 \u001b[0mself\u001b[0m\u001b[1;33m.\u001b[0m\u001b[0m_dispatch\u001b[0m\u001b[1;33m(\u001b[0m\u001b[0mtasks\u001b[0m\u001b[1;33m)\u001b[0m\u001b[1;33m\u001b[0m\u001b[1;33m\u001b[0m\u001b[0m\n\u001b[0m\u001b[0;32m    862\u001b[0m                 \u001b[1;32mreturn\u001b[0m \u001b[1;32mTrue\u001b[0m\u001b[1;33m\u001b[0m\u001b[1;33m\u001b[0m\u001b[0m\n\u001b[0;32m    863\u001b[0m \u001b[1;33m\u001b[0m\u001b[0m\n",
      "\u001b[1;32mD:\\Programs\\lib\\site-packages\\joblib\\parallel.py\u001b[0m in \u001b[0;36m_dispatch\u001b[1;34m(self, batch)\u001b[0m\n\u001b[0;32m    777\u001b[0m         \u001b[1;32mwith\u001b[0m \u001b[0mself\u001b[0m\u001b[1;33m.\u001b[0m\u001b[0m_lock\u001b[0m\u001b[1;33m:\u001b[0m\u001b[1;33m\u001b[0m\u001b[1;33m\u001b[0m\u001b[0m\n\u001b[0;32m    778\u001b[0m             \u001b[0mjob_idx\u001b[0m \u001b[1;33m=\u001b[0m \u001b[0mlen\u001b[0m\u001b[1;33m(\u001b[0m\u001b[0mself\u001b[0m\u001b[1;33m.\u001b[0m\u001b[0m_jobs\u001b[0m\u001b[1;33m)\u001b[0m\u001b[1;33m\u001b[0m\u001b[1;33m\u001b[0m\u001b[0m\n\u001b[1;32m--> 779\u001b[1;33m             \u001b[0mjob\u001b[0m \u001b[1;33m=\u001b[0m \u001b[0mself\u001b[0m\u001b[1;33m.\u001b[0m\u001b[0m_backend\u001b[0m\u001b[1;33m.\u001b[0m\u001b[0mapply_async\u001b[0m\u001b[1;33m(\u001b[0m\u001b[0mbatch\u001b[0m\u001b[1;33m,\u001b[0m \u001b[0mcallback\u001b[0m\u001b[1;33m=\u001b[0m\u001b[0mcb\u001b[0m\u001b[1;33m)\u001b[0m\u001b[1;33m\u001b[0m\u001b[1;33m\u001b[0m\u001b[0m\n\u001b[0m\u001b[0;32m    780\u001b[0m             \u001b[1;31m# A job can complete so quickly than its callback is\u001b[0m\u001b[1;33m\u001b[0m\u001b[1;33m\u001b[0m\u001b[0m\n\u001b[0;32m    781\u001b[0m             \u001b[1;31m# called before we get here, causing self._jobs to\u001b[0m\u001b[1;33m\u001b[0m\u001b[1;33m\u001b[0m\u001b[0m\n",
      "\u001b[1;32mD:\\Programs\\lib\\site-packages\\joblib\\_parallel_backends.py\u001b[0m in \u001b[0;36mapply_async\u001b[1;34m(self, func, callback)\u001b[0m\n\u001b[0;32m    206\u001b[0m     \u001b[1;32mdef\u001b[0m \u001b[0mapply_async\u001b[0m\u001b[1;33m(\u001b[0m\u001b[0mself\u001b[0m\u001b[1;33m,\u001b[0m \u001b[0mfunc\u001b[0m\u001b[1;33m,\u001b[0m \u001b[0mcallback\u001b[0m\u001b[1;33m=\u001b[0m\u001b[1;32mNone\u001b[0m\u001b[1;33m)\u001b[0m\u001b[1;33m:\u001b[0m\u001b[1;33m\u001b[0m\u001b[1;33m\u001b[0m\u001b[0m\n\u001b[0;32m    207\u001b[0m         \u001b[1;34m\"\"\"Schedule a func to be run\"\"\"\u001b[0m\u001b[1;33m\u001b[0m\u001b[1;33m\u001b[0m\u001b[0m\n\u001b[1;32m--> 208\u001b[1;33m         \u001b[0mresult\u001b[0m \u001b[1;33m=\u001b[0m \u001b[0mImmediateResult\u001b[0m\u001b[1;33m(\u001b[0m\u001b[0mfunc\u001b[0m\u001b[1;33m)\u001b[0m\u001b[1;33m\u001b[0m\u001b[1;33m\u001b[0m\u001b[0m\n\u001b[0m\u001b[0;32m    209\u001b[0m         \u001b[1;32mif\u001b[0m \u001b[0mcallback\u001b[0m\u001b[1;33m:\u001b[0m\u001b[1;33m\u001b[0m\u001b[1;33m\u001b[0m\u001b[0m\n\u001b[0;32m    210\u001b[0m             \u001b[0mcallback\u001b[0m\u001b[1;33m(\u001b[0m\u001b[0mresult\u001b[0m\u001b[1;33m)\u001b[0m\u001b[1;33m\u001b[0m\u001b[1;33m\u001b[0m\u001b[0m\n",
      "\u001b[1;32mD:\\Programs\\lib\\site-packages\\joblib\\_parallel_backends.py\u001b[0m in \u001b[0;36m__init__\u001b[1;34m(self, batch)\u001b[0m\n\u001b[0;32m    570\u001b[0m         \u001b[1;31m# Don't delay the application, to avoid keeping the input\u001b[0m\u001b[1;33m\u001b[0m\u001b[1;33m\u001b[0m\u001b[0m\n\u001b[0;32m    571\u001b[0m         \u001b[1;31m# arguments in memory\u001b[0m\u001b[1;33m\u001b[0m\u001b[1;33m\u001b[0m\u001b[0m\n\u001b[1;32m--> 572\u001b[1;33m         \u001b[0mself\u001b[0m\u001b[1;33m.\u001b[0m\u001b[0mresults\u001b[0m \u001b[1;33m=\u001b[0m \u001b[0mbatch\u001b[0m\u001b[1;33m(\u001b[0m\u001b[1;33m)\u001b[0m\u001b[1;33m\u001b[0m\u001b[1;33m\u001b[0m\u001b[0m\n\u001b[0m\u001b[0;32m    573\u001b[0m \u001b[1;33m\u001b[0m\u001b[0m\n\u001b[0;32m    574\u001b[0m     \u001b[1;32mdef\u001b[0m \u001b[0mget\u001b[0m\u001b[1;33m(\u001b[0m\u001b[0mself\u001b[0m\u001b[1;33m)\u001b[0m\u001b[1;33m:\u001b[0m\u001b[1;33m\u001b[0m\u001b[1;33m\u001b[0m\u001b[0m\n",
      "\u001b[1;32mD:\\Programs\\lib\\site-packages\\joblib\\parallel.py\u001b[0m in \u001b[0;36m__call__\u001b[1;34m(self)\u001b[0m\n\u001b[0;32m    260\u001b[0m         \u001b[1;31m# change the default number of processes to -1\u001b[0m\u001b[1;33m\u001b[0m\u001b[1;33m\u001b[0m\u001b[0m\n\u001b[0;32m    261\u001b[0m         \u001b[1;32mwith\u001b[0m \u001b[0mparallel_backend\u001b[0m\u001b[1;33m(\u001b[0m\u001b[0mself\u001b[0m\u001b[1;33m.\u001b[0m\u001b[0m_backend\u001b[0m\u001b[1;33m,\u001b[0m \u001b[0mn_jobs\u001b[0m\u001b[1;33m=\u001b[0m\u001b[0mself\u001b[0m\u001b[1;33m.\u001b[0m\u001b[0m_n_jobs\u001b[0m\u001b[1;33m)\u001b[0m\u001b[1;33m:\u001b[0m\u001b[1;33m\u001b[0m\u001b[1;33m\u001b[0m\u001b[0m\n\u001b[1;32m--> 262\u001b[1;33m             return [func(*args, **kwargs)\n\u001b[0m\u001b[0;32m    263\u001b[0m                     for func, args, kwargs in self.items]\n\u001b[0;32m    264\u001b[0m \u001b[1;33m\u001b[0m\u001b[0m\n",
      "\u001b[1;32mD:\\Programs\\lib\\site-packages\\joblib\\parallel.py\u001b[0m in \u001b[0;36m<listcomp>\u001b[1;34m(.0)\u001b[0m\n\u001b[0;32m    260\u001b[0m         \u001b[1;31m# change the default number of processes to -1\u001b[0m\u001b[1;33m\u001b[0m\u001b[1;33m\u001b[0m\u001b[0m\n\u001b[0;32m    261\u001b[0m         \u001b[1;32mwith\u001b[0m \u001b[0mparallel_backend\u001b[0m\u001b[1;33m(\u001b[0m\u001b[0mself\u001b[0m\u001b[1;33m.\u001b[0m\u001b[0m_backend\u001b[0m\u001b[1;33m,\u001b[0m \u001b[0mn_jobs\u001b[0m\u001b[1;33m=\u001b[0m\u001b[0mself\u001b[0m\u001b[1;33m.\u001b[0m\u001b[0m_n_jobs\u001b[0m\u001b[1;33m)\u001b[0m\u001b[1;33m:\u001b[0m\u001b[1;33m\u001b[0m\u001b[1;33m\u001b[0m\u001b[0m\n\u001b[1;32m--> 262\u001b[1;33m             return [func(*args, **kwargs)\n\u001b[0m\u001b[0;32m    263\u001b[0m                     for func, args, kwargs in self.items]\n\u001b[0;32m    264\u001b[0m \u001b[1;33m\u001b[0m\u001b[0m\n",
      "\u001b[1;32mD:\\Programs\\lib\\site-packages\\sklearn\\utils\\fixes.py\u001b[0m in \u001b[0;36m__call__\u001b[1;34m(self, *args, **kwargs)\u001b[0m\n\u001b[0;32m    220\u001b[0m     \u001b[1;32mdef\u001b[0m \u001b[0m__call__\u001b[0m\u001b[1;33m(\u001b[0m\u001b[0mself\u001b[0m\u001b[1;33m,\u001b[0m \u001b[1;33m*\u001b[0m\u001b[0margs\u001b[0m\u001b[1;33m,\u001b[0m \u001b[1;33m**\u001b[0m\u001b[0mkwargs\u001b[0m\u001b[1;33m)\u001b[0m\u001b[1;33m:\u001b[0m\u001b[1;33m\u001b[0m\u001b[1;33m\u001b[0m\u001b[0m\n\u001b[0;32m    221\u001b[0m         \u001b[1;32mwith\u001b[0m \u001b[0mconfig_context\u001b[0m\u001b[1;33m(\u001b[0m\u001b[1;33m**\u001b[0m\u001b[0mself\u001b[0m\u001b[1;33m.\u001b[0m\u001b[0mconfig\u001b[0m\u001b[1;33m)\u001b[0m\u001b[1;33m:\u001b[0m\u001b[1;33m\u001b[0m\u001b[1;33m\u001b[0m\u001b[0m\n\u001b[1;32m--> 222\u001b[1;33m             \u001b[1;32mreturn\u001b[0m \u001b[0mself\u001b[0m\u001b[1;33m.\u001b[0m\u001b[0mfunction\u001b[0m\u001b[1;33m(\u001b[0m\u001b[1;33m*\u001b[0m\u001b[0margs\u001b[0m\u001b[1;33m,\u001b[0m \u001b[1;33m**\u001b[0m\u001b[0mkwargs\u001b[0m\u001b[1;33m)\u001b[0m\u001b[1;33m\u001b[0m\u001b[1;33m\u001b[0m\u001b[0m\n\u001b[0m",
      "\u001b[1;32mD:\\Programs\\lib\\site-packages\\sklearn\\model_selection\\_validation.py\u001b[0m in \u001b[0;36m_fit_and_score\u001b[1;34m(estimator, X, y, scorer, train, test, verbose, parameters, fit_params, return_train_score, return_parameters, return_n_test_samples, return_times, return_estimator, split_progress, candidate_progress, error_score)\u001b[0m\n\u001b[0;32m    596\u001b[0m             \u001b[0mestimator\u001b[0m\u001b[1;33m.\u001b[0m\u001b[0mfit\u001b[0m\u001b[1;33m(\u001b[0m\u001b[0mX_train\u001b[0m\u001b[1;33m,\u001b[0m \u001b[1;33m**\u001b[0m\u001b[0mfit_params\u001b[0m\u001b[1;33m)\u001b[0m\u001b[1;33m\u001b[0m\u001b[1;33m\u001b[0m\u001b[0m\n\u001b[0;32m    597\u001b[0m         \u001b[1;32melse\u001b[0m\u001b[1;33m:\u001b[0m\u001b[1;33m\u001b[0m\u001b[1;33m\u001b[0m\u001b[0m\n\u001b[1;32m--> 598\u001b[1;33m             \u001b[0mestimator\u001b[0m\u001b[1;33m.\u001b[0m\u001b[0mfit\u001b[0m\u001b[1;33m(\u001b[0m\u001b[0mX_train\u001b[0m\u001b[1;33m,\u001b[0m \u001b[0my_train\u001b[0m\u001b[1;33m,\u001b[0m \u001b[1;33m**\u001b[0m\u001b[0mfit_params\u001b[0m\u001b[1;33m)\u001b[0m\u001b[1;33m\u001b[0m\u001b[1;33m\u001b[0m\u001b[0m\n\u001b[0m\u001b[0;32m    599\u001b[0m \u001b[1;33m\u001b[0m\u001b[0m\n\u001b[0;32m    600\u001b[0m     \u001b[1;32mexcept\u001b[0m \u001b[0mException\u001b[0m \u001b[1;32mas\u001b[0m \u001b[0me\u001b[0m\u001b[1;33m:\u001b[0m\u001b[1;33m\u001b[0m\u001b[1;33m\u001b[0m\u001b[0m\n",
      "\u001b[1;32mD:\\Programs\\lib\\site-packages\\sklearn\\linear_model\\_logistic.py\u001b[0m in \u001b[0;36mfit\u001b[1;34m(self, X, y, sample_weight)\u001b[0m\n\u001b[0;32m   1404\u001b[0m         \u001b[1;32melse\u001b[0m\u001b[1;33m:\u001b[0m\u001b[1;33m\u001b[0m\u001b[1;33m\u001b[0m\u001b[0m\n\u001b[0;32m   1405\u001b[0m             \u001b[0mprefer\u001b[0m \u001b[1;33m=\u001b[0m \u001b[1;34m'processes'\u001b[0m\u001b[1;33m\u001b[0m\u001b[1;33m\u001b[0m\u001b[0m\n\u001b[1;32m-> 1406\u001b[1;33m         fold_coefs_ = Parallel(n_jobs=self.n_jobs, verbose=self.verbose,\n\u001b[0m\u001b[0;32m   1407\u001b[0m                                \u001b[1;33m**\u001b[0m\u001b[0m_joblib_parallel_args\u001b[0m\u001b[1;33m(\u001b[0m\u001b[0mprefer\u001b[0m\u001b[1;33m=\u001b[0m\u001b[0mprefer\u001b[0m\u001b[1;33m)\u001b[0m\u001b[1;33m)\u001b[0m\u001b[1;33m(\u001b[0m\u001b[1;33m\u001b[0m\u001b[1;33m\u001b[0m\u001b[0m\n\u001b[0;32m   1408\u001b[0m             path_func(X, y, pos_class=class_, Cs=[C_],\n",
      "\u001b[1;32mD:\\Programs\\lib\\site-packages\\joblib\\parallel.py\u001b[0m in \u001b[0;36m__call__\u001b[1;34m(self, iterable)\u001b[0m\n\u001b[0;32m   1041\u001b[0m             \u001b[1;31m# remaining jobs.\u001b[0m\u001b[1;33m\u001b[0m\u001b[1;33m\u001b[0m\u001b[0m\n\u001b[0;32m   1042\u001b[0m             \u001b[0mself\u001b[0m\u001b[1;33m.\u001b[0m\u001b[0m_iterating\u001b[0m \u001b[1;33m=\u001b[0m \u001b[1;32mFalse\u001b[0m\u001b[1;33m\u001b[0m\u001b[1;33m\u001b[0m\u001b[0m\n\u001b[1;32m-> 1043\u001b[1;33m             \u001b[1;32mif\u001b[0m \u001b[0mself\u001b[0m\u001b[1;33m.\u001b[0m\u001b[0mdispatch_one_batch\u001b[0m\u001b[1;33m(\u001b[0m\u001b[0miterator\u001b[0m\u001b[1;33m)\u001b[0m\u001b[1;33m:\u001b[0m\u001b[1;33m\u001b[0m\u001b[1;33m\u001b[0m\u001b[0m\n\u001b[0m\u001b[0;32m   1044\u001b[0m                 \u001b[0mself\u001b[0m\u001b[1;33m.\u001b[0m\u001b[0m_iterating\u001b[0m \u001b[1;33m=\u001b[0m \u001b[0mself\u001b[0m\u001b[1;33m.\u001b[0m\u001b[0m_original_iterator\u001b[0m \u001b[1;32mis\u001b[0m \u001b[1;32mnot\u001b[0m \u001b[1;32mNone\u001b[0m\u001b[1;33m\u001b[0m\u001b[1;33m\u001b[0m\u001b[0m\n\u001b[0;32m   1045\u001b[0m \u001b[1;33m\u001b[0m\u001b[0m\n",
      "\u001b[1;32mD:\\Programs\\lib\\site-packages\\joblib\\parallel.py\u001b[0m in \u001b[0;36mdispatch_one_batch\u001b[1;34m(self, iterator)\u001b[0m\n\u001b[0;32m    859\u001b[0m                 \u001b[1;32mreturn\u001b[0m \u001b[1;32mFalse\u001b[0m\u001b[1;33m\u001b[0m\u001b[1;33m\u001b[0m\u001b[0m\n\u001b[0;32m    860\u001b[0m             \u001b[1;32melse\u001b[0m\u001b[1;33m:\u001b[0m\u001b[1;33m\u001b[0m\u001b[1;33m\u001b[0m\u001b[0m\n\u001b[1;32m--> 861\u001b[1;33m                 \u001b[0mself\u001b[0m\u001b[1;33m.\u001b[0m\u001b[0m_dispatch\u001b[0m\u001b[1;33m(\u001b[0m\u001b[0mtasks\u001b[0m\u001b[1;33m)\u001b[0m\u001b[1;33m\u001b[0m\u001b[1;33m\u001b[0m\u001b[0m\n\u001b[0m\u001b[0;32m    862\u001b[0m                 \u001b[1;32mreturn\u001b[0m \u001b[1;32mTrue\u001b[0m\u001b[1;33m\u001b[0m\u001b[1;33m\u001b[0m\u001b[0m\n\u001b[0;32m    863\u001b[0m \u001b[1;33m\u001b[0m\u001b[0m\n",
      "\u001b[1;32mD:\\Programs\\lib\\site-packages\\joblib\\parallel.py\u001b[0m in \u001b[0;36m_dispatch\u001b[1;34m(self, batch)\u001b[0m\n\u001b[0;32m    777\u001b[0m         \u001b[1;32mwith\u001b[0m \u001b[0mself\u001b[0m\u001b[1;33m.\u001b[0m\u001b[0m_lock\u001b[0m\u001b[1;33m:\u001b[0m\u001b[1;33m\u001b[0m\u001b[1;33m\u001b[0m\u001b[0m\n\u001b[0;32m    778\u001b[0m             \u001b[0mjob_idx\u001b[0m \u001b[1;33m=\u001b[0m \u001b[0mlen\u001b[0m\u001b[1;33m(\u001b[0m\u001b[0mself\u001b[0m\u001b[1;33m.\u001b[0m\u001b[0m_jobs\u001b[0m\u001b[1;33m)\u001b[0m\u001b[1;33m\u001b[0m\u001b[1;33m\u001b[0m\u001b[0m\n\u001b[1;32m--> 779\u001b[1;33m             \u001b[0mjob\u001b[0m \u001b[1;33m=\u001b[0m \u001b[0mself\u001b[0m\u001b[1;33m.\u001b[0m\u001b[0m_backend\u001b[0m\u001b[1;33m.\u001b[0m\u001b[0mapply_async\u001b[0m\u001b[1;33m(\u001b[0m\u001b[0mbatch\u001b[0m\u001b[1;33m,\u001b[0m \u001b[0mcallback\u001b[0m\u001b[1;33m=\u001b[0m\u001b[0mcb\u001b[0m\u001b[1;33m)\u001b[0m\u001b[1;33m\u001b[0m\u001b[1;33m\u001b[0m\u001b[0m\n\u001b[0m\u001b[0;32m    780\u001b[0m             \u001b[1;31m# A job can complete so quickly than its callback is\u001b[0m\u001b[1;33m\u001b[0m\u001b[1;33m\u001b[0m\u001b[0m\n\u001b[0;32m    781\u001b[0m             \u001b[1;31m# called before we get here, causing self._jobs to\u001b[0m\u001b[1;33m\u001b[0m\u001b[1;33m\u001b[0m\u001b[0m\n",
      "\u001b[1;32mD:\\Programs\\lib\\site-packages\\joblib\\_parallel_backends.py\u001b[0m in \u001b[0;36mapply_async\u001b[1;34m(self, func, callback)\u001b[0m\n\u001b[0;32m    206\u001b[0m     \u001b[1;32mdef\u001b[0m \u001b[0mapply_async\u001b[0m\u001b[1;33m(\u001b[0m\u001b[0mself\u001b[0m\u001b[1;33m,\u001b[0m \u001b[0mfunc\u001b[0m\u001b[1;33m,\u001b[0m \u001b[0mcallback\u001b[0m\u001b[1;33m=\u001b[0m\u001b[1;32mNone\u001b[0m\u001b[1;33m)\u001b[0m\u001b[1;33m:\u001b[0m\u001b[1;33m\u001b[0m\u001b[1;33m\u001b[0m\u001b[0m\n\u001b[0;32m    207\u001b[0m         \u001b[1;34m\"\"\"Schedule a func to be run\"\"\"\u001b[0m\u001b[1;33m\u001b[0m\u001b[1;33m\u001b[0m\u001b[0m\n\u001b[1;32m--> 208\u001b[1;33m         \u001b[0mresult\u001b[0m \u001b[1;33m=\u001b[0m \u001b[0mImmediateResult\u001b[0m\u001b[1;33m(\u001b[0m\u001b[0mfunc\u001b[0m\u001b[1;33m)\u001b[0m\u001b[1;33m\u001b[0m\u001b[1;33m\u001b[0m\u001b[0m\n\u001b[0m\u001b[0;32m    209\u001b[0m         \u001b[1;32mif\u001b[0m \u001b[0mcallback\u001b[0m\u001b[1;33m:\u001b[0m\u001b[1;33m\u001b[0m\u001b[1;33m\u001b[0m\u001b[0m\n\u001b[0;32m    210\u001b[0m             \u001b[0mcallback\u001b[0m\u001b[1;33m(\u001b[0m\u001b[0mresult\u001b[0m\u001b[1;33m)\u001b[0m\u001b[1;33m\u001b[0m\u001b[1;33m\u001b[0m\u001b[0m\n",
      "\u001b[1;32mD:\\Programs\\lib\\site-packages\\joblib\\_parallel_backends.py\u001b[0m in \u001b[0;36m__init__\u001b[1;34m(self, batch)\u001b[0m\n\u001b[0;32m    570\u001b[0m         \u001b[1;31m# Don't delay the application, to avoid keeping the input\u001b[0m\u001b[1;33m\u001b[0m\u001b[1;33m\u001b[0m\u001b[0m\n\u001b[0;32m    571\u001b[0m         \u001b[1;31m# arguments in memory\u001b[0m\u001b[1;33m\u001b[0m\u001b[1;33m\u001b[0m\u001b[0m\n\u001b[1;32m--> 572\u001b[1;33m         \u001b[0mself\u001b[0m\u001b[1;33m.\u001b[0m\u001b[0mresults\u001b[0m \u001b[1;33m=\u001b[0m \u001b[0mbatch\u001b[0m\u001b[1;33m(\u001b[0m\u001b[1;33m)\u001b[0m\u001b[1;33m\u001b[0m\u001b[1;33m\u001b[0m\u001b[0m\n\u001b[0m\u001b[0;32m    573\u001b[0m \u001b[1;33m\u001b[0m\u001b[0m\n\u001b[0;32m    574\u001b[0m     \u001b[1;32mdef\u001b[0m \u001b[0mget\u001b[0m\u001b[1;33m(\u001b[0m\u001b[0mself\u001b[0m\u001b[1;33m)\u001b[0m\u001b[1;33m:\u001b[0m\u001b[1;33m\u001b[0m\u001b[1;33m\u001b[0m\u001b[0m\n",
      "\u001b[1;32mD:\\Programs\\lib\\site-packages\\joblib\\parallel.py\u001b[0m in \u001b[0;36m__call__\u001b[1;34m(self)\u001b[0m\n\u001b[0;32m    260\u001b[0m         \u001b[1;31m# change the default number of processes to -1\u001b[0m\u001b[1;33m\u001b[0m\u001b[1;33m\u001b[0m\u001b[0m\n\u001b[0;32m    261\u001b[0m         \u001b[1;32mwith\u001b[0m \u001b[0mparallel_backend\u001b[0m\u001b[1;33m(\u001b[0m\u001b[0mself\u001b[0m\u001b[1;33m.\u001b[0m\u001b[0m_backend\u001b[0m\u001b[1;33m,\u001b[0m \u001b[0mn_jobs\u001b[0m\u001b[1;33m=\u001b[0m\u001b[0mself\u001b[0m\u001b[1;33m.\u001b[0m\u001b[0m_n_jobs\u001b[0m\u001b[1;33m)\u001b[0m\u001b[1;33m:\u001b[0m\u001b[1;33m\u001b[0m\u001b[1;33m\u001b[0m\u001b[0m\n\u001b[1;32m--> 262\u001b[1;33m             return [func(*args, **kwargs)\n\u001b[0m\u001b[0;32m    263\u001b[0m                     for func, args, kwargs in self.items]\n\u001b[0;32m    264\u001b[0m \u001b[1;33m\u001b[0m\u001b[0m\n",
      "\u001b[1;32mD:\\Programs\\lib\\site-packages\\joblib\\parallel.py\u001b[0m in \u001b[0;36m<listcomp>\u001b[1;34m(.0)\u001b[0m\n\u001b[0;32m    260\u001b[0m         \u001b[1;31m# change the default number of processes to -1\u001b[0m\u001b[1;33m\u001b[0m\u001b[1;33m\u001b[0m\u001b[0m\n\u001b[0;32m    261\u001b[0m         \u001b[1;32mwith\u001b[0m \u001b[0mparallel_backend\u001b[0m\u001b[1;33m(\u001b[0m\u001b[0mself\u001b[0m\u001b[1;33m.\u001b[0m\u001b[0m_backend\u001b[0m\u001b[1;33m,\u001b[0m \u001b[0mn_jobs\u001b[0m\u001b[1;33m=\u001b[0m\u001b[0mself\u001b[0m\u001b[1;33m.\u001b[0m\u001b[0m_n_jobs\u001b[0m\u001b[1;33m)\u001b[0m\u001b[1;33m:\u001b[0m\u001b[1;33m\u001b[0m\u001b[1;33m\u001b[0m\u001b[0m\n\u001b[1;32m--> 262\u001b[1;33m             return [func(*args, **kwargs)\n\u001b[0m\u001b[0;32m    263\u001b[0m                     for func, args, kwargs in self.items]\n\u001b[0;32m    264\u001b[0m \u001b[1;33m\u001b[0m\u001b[0m\n",
      "\u001b[1;32mD:\\Programs\\lib\\site-packages\\sklearn\\utils\\fixes.py\u001b[0m in \u001b[0;36m__call__\u001b[1;34m(self, *args, **kwargs)\u001b[0m\n\u001b[0;32m    220\u001b[0m     \u001b[1;32mdef\u001b[0m \u001b[0m__call__\u001b[0m\u001b[1;33m(\u001b[0m\u001b[0mself\u001b[0m\u001b[1;33m,\u001b[0m \u001b[1;33m*\u001b[0m\u001b[0margs\u001b[0m\u001b[1;33m,\u001b[0m \u001b[1;33m**\u001b[0m\u001b[0mkwargs\u001b[0m\u001b[1;33m)\u001b[0m\u001b[1;33m:\u001b[0m\u001b[1;33m\u001b[0m\u001b[1;33m\u001b[0m\u001b[0m\n\u001b[0;32m    221\u001b[0m         \u001b[1;32mwith\u001b[0m \u001b[0mconfig_context\u001b[0m\u001b[1;33m(\u001b[0m\u001b[1;33m**\u001b[0m\u001b[0mself\u001b[0m\u001b[1;33m.\u001b[0m\u001b[0mconfig\u001b[0m\u001b[1;33m)\u001b[0m\u001b[1;33m:\u001b[0m\u001b[1;33m\u001b[0m\u001b[1;33m\u001b[0m\u001b[0m\n\u001b[1;32m--> 222\u001b[1;33m             \u001b[1;32mreturn\u001b[0m \u001b[0mself\u001b[0m\u001b[1;33m.\u001b[0m\u001b[0mfunction\u001b[0m\u001b[1;33m(\u001b[0m\u001b[1;33m*\u001b[0m\u001b[0margs\u001b[0m\u001b[1;33m,\u001b[0m \u001b[1;33m**\u001b[0m\u001b[0mkwargs\u001b[0m\u001b[1;33m)\u001b[0m\u001b[1;33m\u001b[0m\u001b[1;33m\u001b[0m\u001b[0m\n\u001b[0m",
      "\u001b[1;32mD:\\Programs\\lib\\site-packages\\sklearn\\linear_model\\_logistic.py\u001b[0m in \u001b[0;36m_logistic_regression_path\u001b[1;34m(X, y, pos_class, Cs, fit_intercept, max_iter, tol, verbose, solver, coef, class_weight, dual, penalty, intercept_scaling, multi_class, random_state, check_input, max_squared_sum, sample_weight, l1_ratio)\u001b[0m\n\u001b[0;32m    767\u001b[0m         \u001b[1;32melif\u001b[0m \u001b[0msolver\u001b[0m \u001b[1;33m==\u001b[0m \u001b[1;34m'newton-cg'\u001b[0m\u001b[1;33m:\u001b[0m\u001b[1;33m\u001b[0m\u001b[1;33m\u001b[0m\u001b[0m\n\u001b[0;32m    768\u001b[0m             \u001b[0margs\u001b[0m \u001b[1;33m=\u001b[0m \u001b[1;33m(\u001b[0m\u001b[0mX\u001b[0m\u001b[1;33m,\u001b[0m \u001b[0mtarget\u001b[0m\u001b[1;33m,\u001b[0m \u001b[1;36m1.\u001b[0m \u001b[1;33m/\u001b[0m \u001b[0mC\u001b[0m\u001b[1;33m,\u001b[0m \u001b[0msample_weight\u001b[0m\u001b[1;33m)\u001b[0m\u001b[1;33m\u001b[0m\u001b[1;33m\u001b[0m\u001b[0m\n\u001b[1;32m--> 769\u001b[1;33m             w0, n_iter_i = _newton_cg(hess, func, grad, w0, args=args,\n\u001b[0m\u001b[0;32m    770\u001b[0m                                       maxiter=max_iter, tol=tol)\n\u001b[0;32m    771\u001b[0m         \u001b[1;32melif\u001b[0m \u001b[0msolver\u001b[0m \u001b[1;33m==\u001b[0m \u001b[1;34m'liblinear'\u001b[0m\u001b[1;33m:\u001b[0m\u001b[1;33m\u001b[0m\u001b[1;33m\u001b[0m\u001b[0m\n",
      "\u001b[1;32mD:\\Programs\\lib\\site-packages\\sklearn\\utils\\optimize.py\u001b[0m in \u001b[0;36m_newton_cg\u001b[1;34m(grad_hess, func, grad, x0, args, tol, maxiter, maxinner, line_search, warn)\u001b[0m\n\u001b[0;32m    171\u001b[0m         \u001b[1;31m# Compute a search direction pk by applying the CG method to\u001b[0m\u001b[1;33m\u001b[0m\u001b[1;33m\u001b[0m\u001b[0m\n\u001b[0;32m    172\u001b[0m         \u001b[1;31m#  del2 f(xk) p = - fgrad f(xk) starting from 0.\u001b[0m\u001b[1;33m\u001b[0m\u001b[1;33m\u001b[0m\u001b[0m\n\u001b[1;32m--> 173\u001b[1;33m         \u001b[0mfgrad\u001b[0m\u001b[1;33m,\u001b[0m \u001b[0mfhess_p\u001b[0m \u001b[1;33m=\u001b[0m \u001b[0mgrad_hess\u001b[0m\u001b[1;33m(\u001b[0m\u001b[0mxk\u001b[0m\u001b[1;33m,\u001b[0m \u001b[1;33m*\u001b[0m\u001b[0margs\u001b[0m\u001b[1;33m)\u001b[0m\u001b[1;33m\u001b[0m\u001b[1;33m\u001b[0m\u001b[0m\n\u001b[0m\u001b[0;32m    174\u001b[0m \u001b[1;33m\u001b[0m\u001b[0m\n\u001b[0;32m    175\u001b[0m         \u001b[0mabsgrad\u001b[0m \u001b[1;33m=\u001b[0m \u001b[0mnp\u001b[0m\u001b[1;33m.\u001b[0m\u001b[0mabs\u001b[0m\u001b[1;33m(\u001b[0m\u001b[0mfgrad\u001b[0m\u001b[1;33m)\u001b[0m\u001b[1;33m\u001b[0m\u001b[1;33m\u001b[0m\u001b[0m\n",
      "\u001b[1;32mD:\\Programs\\lib\\site-packages\\sklearn\\linear_model\\_logistic.py\u001b[0m in \u001b[0;36m_multinomial_grad_hess\u001b[1;34m(w, X, Y, alpha, sample_weight)\u001b[0m\n\u001b[0;32m    400\u001b[0m     \u001b[1;31m# `loss` is unused. Refactoring to avoid computing it does not\u001b[0m\u001b[1;33m\u001b[0m\u001b[1;33m\u001b[0m\u001b[0m\n\u001b[0;32m    401\u001b[0m     \u001b[1;31m# significantly speed up the computation and decreases readability\u001b[0m\u001b[1;33m\u001b[0m\u001b[1;33m\u001b[0m\u001b[0m\n\u001b[1;32m--> 402\u001b[1;33m     \u001b[0mloss\u001b[0m\u001b[1;33m,\u001b[0m \u001b[0mgrad\u001b[0m\u001b[1;33m,\u001b[0m \u001b[0mp\u001b[0m \u001b[1;33m=\u001b[0m \u001b[0m_multinomial_loss_grad\u001b[0m\u001b[1;33m(\u001b[0m\u001b[0mw\u001b[0m\u001b[1;33m,\u001b[0m \u001b[0mX\u001b[0m\u001b[1;33m,\u001b[0m \u001b[0mY\u001b[0m\u001b[1;33m,\u001b[0m \u001b[0malpha\u001b[0m\u001b[1;33m,\u001b[0m \u001b[0msample_weight\u001b[0m\u001b[1;33m)\u001b[0m\u001b[1;33m\u001b[0m\u001b[1;33m\u001b[0m\u001b[0m\n\u001b[0m\u001b[0;32m    403\u001b[0m     \u001b[0msample_weight\u001b[0m \u001b[1;33m=\u001b[0m \u001b[0msample_weight\u001b[0m\u001b[1;33m[\u001b[0m\u001b[1;33m:\u001b[0m\u001b[1;33m,\u001b[0m \u001b[0mnp\u001b[0m\u001b[1;33m.\u001b[0m\u001b[0mnewaxis\u001b[0m\u001b[1;33m]\u001b[0m\u001b[1;33m\u001b[0m\u001b[1;33m\u001b[0m\u001b[0m\n\u001b[0;32m    404\u001b[0m \u001b[1;33m\u001b[0m\u001b[0m\n",
      "\u001b[1;32mD:\\Programs\\lib\\site-packages\\sklearn\\linear_model\\_logistic.py\u001b[0m in \u001b[0;36m_multinomial_loss_grad\u001b[1;34m(w, X, Y, alpha, sample_weight)\u001b[0m\n\u001b[0;32m    346\u001b[0m     grad = np.zeros((n_classes, n_features + bool(fit_intercept)),\n\u001b[0;32m    347\u001b[0m                     dtype=X.dtype)\n\u001b[1;32m--> 348\u001b[1;33m     \u001b[0mloss\u001b[0m\u001b[1;33m,\u001b[0m \u001b[0mp\u001b[0m\u001b[1;33m,\u001b[0m \u001b[0mw\u001b[0m \u001b[1;33m=\u001b[0m \u001b[0m_multinomial_loss\u001b[0m\u001b[1;33m(\u001b[0m\u001b[0mw\u001b[0m\u001b[1;33m,\u001b[0m \u001b[0mX\u001b[0m\u001b[1;33m,\u001b[0m \u001b[0mY\u001b[0m\u001b[1;33m,\u001b[0m \u001b[0malpha\u001b[0m\u001b[1;33m,\u001b[0m \u001b[0msample_weight\u001b[0m\u001b[1;33m)\u001b[0m\u001b[1;33m\u001b[0m\u001b[1;33m\u001b[0m\u001b[0m\n\u001b[0m\u001b[0;32m    349\u001b[0m     \u001b[0msample_weight\u001b[0m \u001b[1;33m=\u001b[0m \u001b[0msample_weight\u001b[0m\u001b[1;33m[\u001b[0m\u001b[1;33m:\u001b[0m\u001b[1;33m,\u001b[0m \u001b[0mnp\u001b[0m\u001b[1;33m.\u001b[0m\u001b[0mnewaxis\u001b[0m\u001b[1;33m]\u001b[0m\u001b[1;33m\u001b[0m\u001b[1;33m\u001b[0m\u001b[0m\n\u001b[0;32m    350\u001b[0m     \u001b[0mdiff\u001b[0m \u001b[1;33m=\u001b[0m \u001b[0msample_weight\u001b[0m \u001b[1;33m*\u001b[0m \u001b[1;33m(\u001b[0m\u001b[0mp\u001b[0m \u001b[1;33m-\u001b[0m \u001b[0mY\u001b[0m\u001b[1;33m)\u001b[0m\u001b[1;33m\u001b[0m\u001b[1;33m\u001b[0m\u001b[0m\n",
      "\u001b[1;32mD:\\Programs\\lib\\site-packages\\sklearn\\linear_model\\_logistic.py\u001b[0m in \u001b[0;36m_multinomial_loss\u001b[1;34m(w, X, Y, alpha, sample_weight)\u001b[0m\n\u001b[0;32m    296\u001b[0m     \u001b[0mp\u001b[0m \u001b[1;33m=\u001b[0m \u001b[0msafe_sparse_dot\u001b[0m\u001b[1;33m(\u001b[0m\u001b[0mX\u001b[0m\u001b[1;33m,\u001b[0m \u001b[0mw\u001b[0m\u001b[1;33m.\u001b[0m\u001b[0mT\u001b[0m\u001b[1;33m)\u001b[0m\u001b[1;33m\u001b[0m\u001b[1;33m\u001b[0m\u001b[0m\n\u001b[0;32m    297\u001b[0m     \u001b[0mp\u001b[0m \u001b[1;33m+=\u001b[0m \u001b[0mintercept\u001b[0m\u001b[1;33m\u001b[0m\u001b[1;33m\u001b[0m\u001b[0m\n\u001b[1;32m--> 298\u001b[1;33m     \u001b[0mp\u001b[0m \u001b[1;33m-=\u001b[0m \u001b[0mlogsumexp\u001b[0m\u001b[1;33m(\u001b[0m\u001b[0mp\u001b[0m\u001b[1;33m,\u001b[0m \u001b[0maxis\u001b[0m\u001b[1;33m=\u001b[0m\u001b[1;36m1\u001b[0m\u001b[1;33m)\u001b[0m\u001b[1;33m[\u001b[0m\u001b[1;33m:\u001b[0m\u001b[1;33m,\u001b[0m \u001b[0mnp\u001b[0m\u001b[1;33m.\u001b[0m\u001b[0mnewaxis\u001b[0m\u001b[1;33m]\u001b[0m\u001b[1;33m\u001b[0m\u001b[1;33m\u001b[0m\u001b[0m\n\u001b[0m\u001b[0;32m    299\u001b[0m     \u001b[0mloss\u001b[0m \u001b[1;33m=\u001b[0m \u001b[1;33m-\u001b[0m\u001b[1;33m(\u001b[0m\u001b[0msample_weight\u001b[0m \u001b[1;33m*\u001b[0m \u001b[0mY\u001b[0m \u001b[1;33m*\u001b[0m \u001b[0mp\u001b[0m\u001b[1;33m)\u001b[0m\u001b[1;33m.\u001b[0m\u001b[0msum\u001b[0m\u001b[1;33m(\u001b[0m\u001b[1;33m)\u001b[0m\u001b[1;33m\u001b[0m\u001b[1;33m\u001b[0m\u001b[0m\n\u001b[0;32m    300\u001b[0m     \u001b[0mloss\u001b[0m \u001b[1;33m+=\u001b[0m \u001b[1;36m0.5\u001b[0m \u001b[1;33m*\u001b[0m \u001b[0malpha\u001b[0m \u001b[1;33m*\u001b[0m \u001b[0msquared_norm\u001b[0m\u001b[1;33m(\u001b[0m\u001b[0mw\u001b[0m\u001b[1;33m)\u001b[0m\u001b[1;33m\u001b[0m\u001b[1;33m\u001b[0m\u001b[0m\n",
      "\u001b[1;32mD:\\Programs\\lib\\site-packages\\scipy\\special\\_logsumexp.py\u001b[0m in \u001b[0;36mlogsumexp\u001b[1;34m(a, axis, b, keepdims, return_sign)\u001b[0m\n\u001b[0;32m    108\u001b[0m         \u001b[0mtmp\u001b[0m \u001b[1;33m=\u001b[0m \u001b[0mb\u001b[0m \u001b[1;33m*\u001b[0m \u001b[0mnp\u001b[0m\u001b[1;33m.\u001b[0m\u001b[0mexp\u001b[0m\u001b[1;33m(\u001b[0m\u001b[0ma\u001b[0m \u001b[1;33m-\u001b[0m \u001b[0ma_max\u001b[0m\u001b[1;33m)\u001b[0m\u001b[1;33m\u001b[0m\u001b[1;33m\u001b[0m\u001b[0m\n\u001b[0;32m    109\u001b[0m     \u001b[1;32melse\u001b[0m\u001b[1;33m:\u001b[0m\u001b[1;33m\u001b[0m\u001b[1;33m\u001b[0m\u001b[0m\n\u001b[1;32m--> 110\u001b[1;33m         \u001b[0mtmp\u001b[0m \u001b[1;33m=\u001b[0m \u001b[0mnp\u001b[0m\u001b[1;33m.\u001b[0m\u001b[0mexp\u001b[0m\u001b[1;33m(\u001b[0m\u001b[0ma\u001b[0m \u001b[1;33m-\u001b[0m \u001b[0ma_max\u001b[0m\u001b[1;33m)\u001b[0m\u001b[1;33m\u001b[0m\u001b[1;33m\u001b[0m\u001b[0m\n\u001b[0m\u001b[0;32m    111\u001b[0m \u001b[1;33m\u001b[0m\u001b[0m\n\u001b[0;32m    112\u001b[0m     \u001b[1;31m# suppress warnings about log of zero\u001b[0m\u001b[1;33m\u001b[0m\u001b[1;33m\u001b[0m\u001b[0m\n",
      "\u001b[1;31mKeyboardInterrupt\u001b[0m: "
     ]
    }
   ],
   "source": [
    "model=LogisticRegression(solver='newton-cg',class_weight= 'balanced')    # максимальное значение: n_splits: 3 KBest: 9 0.4798188283483909\n",
    "for i in lst_2:\n",
    "   kfold=KFold(n_splits=i,random_state=7,shuffle=True)\n",
    "   for j in lst_1:\n",
    "      rfe=RFE(model,n_features_to_select=j)  \n",
    "      fit=rfe.fit(X,Y)  \n",
    "      features=fit.transform(X)\n",
    "      results=cross_val_score(model, features, Y, cv=kfold)\n",
    "      res = results.mean()\n",
    "      k.append(res)\n",
    "      print(f'n_splits: {i} KBest: {j} {res}')\n",
    "   print(f'i {i} max: {max(k)}')"
   ]
  },
  {
   "cell_type": "markdown",
   "id": "8f82b8a3",
   "metadata": {},
   "source": [
    "**Вывод: отбор показал, что лучший результат дает выбор 9 лучших признаков**"
   ]
  },
  {
   "cell_type": "code",
   "execution_count": 69,
   "id": "e1bc8c09",
   "metadata": {},
   "outputs": [
    {
     "data": {
      "text/plain": [
       "7"
      ]
     },
     "execution_count": 69,
     "metadata": {},
     "output_type": "execute_result"
    }
   ],
   "source": [
    "model=LogisticRegression(solver='newton-cg',class_weight= 'balanced')\n",
    "rfe=RFE(model,n_features_to_select=7)\n",
    "fit=rfe.fit(X,Y)\n",
    "fit.n_features_"
   ]
  },
  {
   "cell_type": "code",
   "execution_count": 70,
   "id": "1e15e9f2",
   "metadata": {},
   "outputs": [
    {
     "data": {
      "text/plain": [
       "array([ True,  True, False,  True,  True, False,  True,  True,  True])"
      ]
     },
     "execution_count": 70,
     "metadata": {},
     "output_type": "execute_result"
    }
   ],
   "source": [
    "fit.support_"
   ]
  },
  {
   "cell_type": "code",
   "execution_count": 71,
   "id": "c975e034",
   "metadata": {},
   "outputs": [
    {
     "data": {
      "text/plain": [
       "array([1, 1, 3, 1, 1, 2, 1, 1, 1])"
      ]
     },
     "execution_count": 71,
     "metadata": {},
     "output_type": "execute_result"
    }
   ],
   "source": [
    "fit.ranking_"
   ]
  },
  {
   "cell_type": "markdown",
   "id": "e4ea0fa5",
   "metadata": {},
   "source": [
    "**Вывод:рекурсивное исключение показало, что лучший результат достигается когла учитываются все 9 признаков, 7 признаков на втором месте**"
   ]
  },
  {
   "cell_type": "markdown",
   "id": "d7f87e94",
   "metadata": {},
   "source": [
    "# **5. LogisticRegression + отбор_главных_компонент**"
   ]
  },
  {
   "cell_type": "code",
   "execution_count": 34,
   "id": "751e9313",
   "metadata": {},
   "outputs": [],
   "source": [
    "from sklearn.decomposition import PCA"
   ]
  },
  {
   "cell_type": "code",
   "execution_count": 77,
   "id": "2e0ae74c",
   "metadata": {},
   "outputs": [],
   "source": [
    "lst_1 = list(range(1,10))\n",
    "lst_2 = list(range(2,9))\n",
    "k = []"
   ]
  },
  {
   "cell_type": "code",
   "execution_count": 78,
   "id": "572ec3f6",
   "metadata": {
    "collapsed": true
   },
   "outputs": [
    {
     "name": "stdout",
     "output_type": "stream",
     "text": [
      "n_splits: 2 KBest: 1 0.40645159954170684\n",
      "n_splits: 2 KBest: 2 0.4009004591935784\n",
      "n_splits: 2 KBest: 3 0.42565667130938784\n",
      "n_splits: 2 KBest: 4 0.43690856180455984\n",
      "n_splits: 2 KBest: 5 0.4442601973282562\n",
      "n_splits: 2 KBest: 6 0.4721678950608146\n",
      "n_splits: 2 KBest: 7 0.4730689755650235\n",
      "n_splits: 2 KBest: 8 0.47561815005029917\n",
      "n_splits: 2 KBest: 9 0.4778687802753865\n",
      "i 2 max: 0.4778687802753865\n",
      "n_splits: 3 KBest: 1 0.4058504904970461\n",
      "n_splits: 3 KBest: 2 0.3971499581295365\n",
      "n_splits: 3 KBest: 3 0.4294077088933567\n",
      "n_splits: 3 KBest: 4 0.4334575060387624\n",
      "n_splits: 3 KBest: 5 0.4453103122108699\n",
      "n_splits: 3 KBest: 6 0.47096807834768173\n",
      "n_splits: 3 KBest: 7 0.4712687837896801\n",
      "n_splits: 3 KBest: 8 0.4789182655320912\n",
      "n_splits: 3 KBest: 9 0.4798188283483909\n",
      "i 3 max: 0.4798188283483909\n",
      "n_splits: 4 KBest: 1 0.40540313305886244\n",
      "n_splits: 4 KBest: 2 0.3998535226928204\n",
      "n_splits: 4 KBest: 3 0.42805922608995606\n",
      "n_splits: 4 KBest: 4 0.43435976670212173\n",
      "n_splits: 4 KBest: 5 0.44351252798659957\n",
      "n_splits: 4 KBest: 6 0.47067078181002453\n",
      "n_splits: 4 KBest: 7 0.4727717121641698\n",
      "n_splits: 4 KBest: 8 0.47592081223611227\n",
      "n_splits: 4 KBest: 9 0.47532003203200895\n",
      "i 4 max: 0.4798188283483909\n",
      "n_splits: 5 KBest: 1 0.40585146286571644\n",
      "n_splits: 5 KBest: 2 0.3992498124531133\n",
      "n_splits: 5 KBest: 3 0.4301575393848462\n",
      "n_splits: 5 KBest: 4 0.4321080270067517\n",
      "n_splits: 5 KBest: 5 0.44441110277569396\n",
      "n_splits: 5 KBest: 6 0.47201800450112524\n",
      "n_splits: 5 KBest: 7 0.4730682670667667\n",
      "n_splits: 5 KBest: 8 0.4753188297074269\n",
      "n_splits: 5 KBest: 9 0.47651912978244565\n",
      "i 5 max: 0.4798188283483909\n",
      "n_splits: 6 KBest: 1 0.40524971416060523\n",
      "n_splits: 6 KBest: 2 0.39549657668469546\n",
      "n_splits: 6 KBest: 3 0.42835770063492834\n",
      "n_splits: 6 KBest: 4 0.4354071893675853\n",
      "n_splits: 6 KBest: 5 0.4432085100401932\n",
      "n_splits: 6 KBest: 6 0.467967066976968\n",
      "n_splits: 6 KBest: 7 0.4708189737892708\n",
      "n_splits: 6 KBest: 8 0.4765172463192265\n",
      "n_splits: 6 KBest: 9 0.4745663755564746\n",
      "i 6 max: 0.4798188283483909\n",
      "n_splits: 7 KBest: 1 0.404806361159364\n",
      "n_splits: 7 KBest: 2 0.3973044621836142\n",
      "n_splits: 7 KBest: 3 0.42941384318680254\n",
      "n_splits: 7 KBest: 4 0.4334638892283041\n",
      "n_splits: 7 KBest: 5 0.443065526315458\n",
      "n_splits: 7 KBest: 6 0.46872122406150296\n",
      "n_splits: 7 KBest: 7 0.47067342151970976\n",
      "n_splits: 7 KBest: 8 0.476523872927975\n",
      "n_splits: 7 KBest: 9 0.4762232804979285\n",
      "i 7 max: 0.4798188283483909\n",
      "n_splits: 8 KBest: 1 0.406154908006368\n",
      "n_splits: 8 KBest: 2 0.39820370594280874\n",
      "n_splits: 8 KBest: 3 0.4289631320153961\n",
      "n_splits: 8 KBest: 4 0.4334625936705617\n",
      "n_splits: 8 KBest: 5 0.4427643359502074\n",
      "n_splits: 8 KBest: 6 0.46961986233342257\n",
      "n_splits: 8 KBest: 7 0.4702213619260654\n",
      "n_splits: 8 KBest: 8 0.4769719038694615\n",
      "n_splits: 8 KBest: 9 0.4760713637973175\n",
      "i 8 max: 0.4798188283483909\n"
     ]
    }
   ],
   "source": [
    "model=LogisticRegression(solver='newton-cg',class_weight= 'balanced')    # максимальное значение: n_splits: 3 KBest: 9 0.4798188283483909\n",
    "for i in lst_2:\n",
    "   kfold=KFold(n_splits=i,random_state=7,shuffle=True)\n",
    "   for j in lst_1:\n",
    "      pca=PCA(n_components=j)  \n",
    "      fit=pca.fit(X)  \n",
    "      features=pca.fit_transform(X)\n",
    "      results=cross_val_score(model, features, Y, cv=kfold)\n",
    "      res = results.mean()\n",
    "      k.append(res)\n",
    "      print(f'n_splits: {i} KBest: {j} {res}')\n",
    "   print(f'i {i} max: {max(k)}')"
   ]
  },
  {
   "cell_type": "markdown",
   "id": "9de4faf6",
   "metadata": {},
   "source": [
    "**Вывод: отбор показал, что лучший результат дает выбор 9 лучших признаков**"
   ]
  },
  {
   "cell_type": "code",
   "execution_count": null,
   "id": "6943ab3a",
   "metadata": {},
   "outputs": [],
   "source": []
  },
  {
   "cell_type": "code",
   "execution_count": null,
   "id": "a9dadabb",
   "metadata": {},
   "outputs": [],
   "source": []
  },
  {
   "cell_type": "code",
   "execution_count": null,
   "id": "5eaea0fb",
   "metadata": {},
   "outputs": [],
   "source": []
  },
  {
   "cell_type": "code",
   "execution_count": null,
   "id": "134e182f",
   "metadata": {},
   "outputs": [],
   "source": []
  },
  {
   "cell_type": "code",
   "execution_count": null,
   "id": "9deb2611",
   "metadata": {},
   "outputs": [],
   "source": [
    "++++++++++++++++++++++++++++++++++++++++++++++++++++++++++++++++++++++++++++++++++++++++++++++++++++++++++++++++++++++++"
   ]
  },
  {
   "cell_type": "code",
   "execution_count": 2,
   "id": "6f904bef",
   "metadata": {},
   "outputs": [],
   "source": [
    "import pandas as pd\n",
    "import numpy as np\n",
    "from pandas import read_csv"
   ]
  },
  {
   "cell_type": "code",
   "execution_count": 76,
   "id": "d01dd457",
   "metadata": {},
   "outputs": [],
   "source": [
    "df=read_csv('D:\\Политех\\Класиффикация\\Сегментация_клиентов\\Train_cleared_dropna.csv')"
   ]
  },
  {
   "cell_type": "code",
   "execution_count": 77,
   "id": "2e7b238e",
   "metadata": {},
   "outputs": [],
   "source": [
    "df=df.filter(regex='^(?!.*Unnamed).*$')"
   ]
  },
  {
   "cell_type": "code",
   "execution_count": 15,
   "id": "a7cce391",
   "metadata": {},
   "outputs": [],
   "source": [
    "df_T=read_csv('D:\\Политех\\Класиффикация\\Сегментация_клиентов\\TEST_cleared_dropna.csv')"
   ]
  },
  {
   "cell_type": "code",
   "execution_count": 17,
   "id": "9735e536",
   "metadata": {},
   "outputs": [],
   "source": [
    "df_T=df_T.filter(regex='^(?!.*Unnamed).*$')"
   ]
  },
  {
   "cell_type": "code",
   "execution_count": 6,
   "id": "527e3081",
   "metadata": {
    "collapsed": true
   },
   "outputs": [
    {
     "data": {
      "text/html": [
       "<div>\n",
       "<style scoped>\n",
       "    .dataframe tbody tr th:only-of-type {\n",
       "        vertical-align: middle;\n",
       "    }\n",
       "\n",
       "    .dataframe tbody tr th {\n",
       "        vertical-align: top;\n",
       "    }\n",
       "\n",
       "    .dataframe thead th {\n",
       "        text-align: right;\n",
       "    }\n",
       "</style>\n",
       "<table border=\"1\" class=\"dataframe\">\n",
       "  <thead>\n",
       "    <tr style=\"text-align: right;\">\n",
       "      <th></th>\n",
       "      <th>Пол</th>\n",
       "      <th>Семейное_положение</th>\n",
       "      <th>Возраст</th>\n",
       "      <th>Высшее_образование</th>\n",
       "      <th>Профессия</th>\n",
       "      <th>Опыт_работы</th>\n",
       "      <th>Уровень_расходов</th>\n",
       "      <th>Размер_семьи</th>\n",
       "      <th>Анонимная_категория</th>\n",
       "      <th>Целевая_категория</th>\n",
       "    </tr>\n",
       "  </thead>\n",
       "  <tbody>\n",
       "    <tr>\n",
       "      <th>0</th>\n",
       "      <td>1</td>\n",
       "      <td>0.0</td>\n",
       "      <td>22</td>\n",
       "      <td>0.0</td>\n",
       "      <td>2.0</td>\n",
       "      <td>1.0</td>\n",
       "      <td>3</td>\n",
       "      <td>4.0</td>\n",
       "      <td>4.0</td>\n",
       "      <td>4</td>\n",
       "    </tr>\n",
       "    <tr>\n",
       "      <th>1</th>\n",
       "      <td>0</td>\n",
       "      <td>1.0</td>\n",
       "      <td>67</td>\n",
       "      <td>1.0</td>\n",
       "      <td>4.0</td>\n",
       "      <td>1.0</td>\n",
       "      <td>3</td>\n",
       "      <td>1.0</td>\n",
       "      <td>6.0</td>\n",
       "      <td>2</td>\n",
       "    </tr>\n",
       "    <tr>\n",
       "      <th>2</th>\n",
       "      <td>1</td>\n",
       "      <td>1.0</td>\n",
       "      <td>67</td>\n",
       "      <td>1.0</td>\n",
       "      <td>6.0</td>\n",
       "      <td>0.0</td>\n",
       "      <td>1</td>\n",
       "      <td>2.0</td>\n",
       "      <td>6.0</td>\n",
       "      <td>2</td>\n",
       "    </tr>\n",
       "    <tr>\n",
       "      <th>3</th>\n",
       "      <td>1</td>\n",
       "      <td>1.0</td>\n",
       "      <td>56</td>\n",
       "      <td>0.0</td>\n",
       "      <td>1.0</td>\n",
       "      <td>0.0</td>\n",
       "      <td>2</td>\n",
       "      <td>2.0</td>\n",
       "      <td>6.0</td>\n",
       "      <td>3</td>\n",
       "    </tr>\n",
       "    <tr>\n",
       "      <th>4</th>\n",
       "      <td>1</td>\n",
       "      <td>0.0</td>\n",
       "      <td>32</td>\n",
       "      <td>1.0</td>\n",
       "      <td>2.0</td>\n",
       "      <td>1.0</td>\n",
       "      <td>3</td>\n",
       "      <td>3.0</td>\n",
       "      <td>6.0</td>\n",
       "      <td>3</td>\n",
       "    </tr>\n",
       "  </tbody>\n",
       "</table>\n",
       "</div>"
      ],
      "text/plain": [
       "   Пол  Семейное_положение  Возраст  Высшее_образование  Профессия  \\\n",
       "0    1                 0.0       22                 0.0        2.0   \n",
       "1    0                 1.0       67                 1.0        4.0   \n",
       "2    1                 1.0       67                 1.0        6.0   \n",
       "3    1                 1.0       56                 0.0        1.0   \n",
       "4    1                 0.0       32                 1.0        2.0   \n",
       "\n",
       "   Опыт_работы  Уровень_расходов  Размер_семьи  Анонимная_категория  \\\n",
       "0          1.0                 3           4.0                  4.0   \n",
       "1          1.0                 3           1.0                  6.0   \n",
       "2          0.0                 1           2.0                  6.0   \n",
       "3          0.0                 2           2.0                  6.0   \n",
       "4          1.0                 3           3.0                  6.0   \n",
       "\n",
       "   Целевая_категория  \n",
       "0                  4  \n",
       "1                  2  \n",
       "2                  2  \n",
       "3                  3  \n",
       "4                  3  "
      ]
     },
     "execution_count": 6,
     "metadata": {},
     "output_type": "execute_result"
    }
   ],
   "source": [
    "df.head(5)"
   ]
  },
  {
   "cell_type": "code",
   "execution_count": 7,
   "id": "129698b6",
   "metadata": {
    "collapsed": true
   },
   "outputs": [
    {
     "data": {
      "text/html": [
       "<div>\n",
       "<style scoped>\n",
       "    .dataframe tbody tr th:only-of-type {\n",
       "        vertical-align: middle;\n",
       "    }\n",
       "\n",
       "    .dataframe tbody tr th {\n",
       "        vertical-align: top;\n",
       "    }\n",
       "\n",
       "    .dataframe thead th {\n",
       "        text-align: right;\n",
       "    }\n",
       "</style>\n",
       "<table border=\"1\" class=\"dataframe\">\n",
       "  <thead>\n",
       "    <tr style=\"text-align: right;\">\n",
       "      <th></th>\n",
       "      <th>Пол</th>\n",
       "      <th>Семейное_положение</th>\n",
       "      <th>Возраст</th>\n",
       "      <th>Высшее_образование</th>\n",
       "      <th>Профессия</th>\n",
       "      <th>Опыт_работы</th>\n",
       "      <th>Уровень_расходов</th>\n",
       "      <th>Размер_семьи</th>\n",
       "      <th>Анонимная_категория</th>\n",
       "      <th>Целевая_категория</th>\n",
       "    </tr>\n",
       "  </thead>\n",
       "  <tbody>\n",
       "    <tr>\n",
       "      <th>0</th>\n",
       "      <td>0</td>\n",
       "      <td>1.0</td>\n",
       "      <td>36</td>\n",
       "      <td>1.0</td>\n",
       "      <td>4.0</td>\n",
       "      <td>0.0</td>\n",
       "      <td>3</td>\n",
       "      <td>1.0</td>\n",
       "      <td>6.0</td>\n",
       "      <td>2</td>\n",
       "    </tr>\n",
       "    <tr>\n",
       "      <th>1</th>\n",
       "      <td>1</td>\n",
       "      <td>1.0</td>\n",
       "      <td>37</td>\n",
       "      <td>1.0</td>\n",
       "      <td>2.0</td>\n",
       "      <td>8.0</td>\n",
       "      <td>2</td>\n",
       "      <td>4.0</td>\n",
       "      <td>6.0</td>\n",
       "      <td>1</td>\n",
       "    </tr>\n",
       "    <tr>\n",
       "      <th>2</th>\n",
       "      <td>1</td>\n",
       "      <td>1.0</td>\n",
       "      <td>59</td>\n",
       "      <td>0.0</td>\n",
       "      <td>7.0</td>\n",
       "      <td>11.0</td>\n",
       "      <td>1</td>\n",
       "      <td>2.0</td>\n",
       "      <td>6.0</td>\n",
       "      <td>2</td>\n",
       "    </tr>\n",
       "    <tr>\n",
       "      <th>3</th>\n",
       "      <td>1</td>\n",
       "      <td>1.0</td>\n",
       "      <td>47</td>\n",
       "      <td>1.0</td>\n",
       "      <td>5.0</td>\n",
       "      <td>0.0</td>\n",
       "      <td>1</td>\n",
       "      <td>5.0</td>\n",
       "      <td>4.0</td>\n",
       "      <td>3</td>\n",
       "    </tr>\n",
       "    <tr>\n",
       "      <th>4</th>\n",
       "      <td>1</td>\n",
       "      <td>1.0</td>\n",
       "      <td>61</td>\n",
       "      <td>1.0</td>\n",
       "      <td>5.0</td>\n",
       "      <td>5.0</td>\n",
       "      <td>3</td>\n",
       "      <td>3.0</td>\n",
       "      <td>6.0</td>\n",
       "      <td>4</td>\n",
       "    </tr>\n",
       "  </tbody>\n",
       "</table>\n",
       "</div>"
      ],
      "text/plain": [
       "   Пол  Семейное_положение  Возраст  Высшее_образование  Профессия  \\\n",
       "0    0                 1.0       36                 1.0        4.0   \n",
       "1    1                 1.0       37                 1.0        2.0   \n",
       "2    1                 1.0       59                 0.0        7.0   \n",
       "3    1                 1.0       47                 1.0        5.0   \n",
       "4    1                 1.0       61                 1.0        5.0   \n",
       "\n",
       "   Опыт_работы  Уровень_расходов  Размер_семьи  Анонимная_категория  \\\n",
       "0          0.0                 3           1.0                  6.0   \n",
       "1          8.0                 2           4.0                  6.0   \n",
       "2         11.0                 1           2.0                  6.0   \n",
       "3          0.0                 1           5.0                  4.0   \n",
       "4          5.0                 3           3.0                  6.0   \n",
       "\n",
       "   Целевая_категория  \n",
       "0                  2  \n",
       "1                  1  \n",
       "2                  2  \n",
       "3                  3  \n",
       "4                  4  "
      ]
     },
     "execution_count": 7,
     "metadata": {},
     "output_type": "execute_result"
    }
   ],
   "source": [
    "df_T.head(5)"
   ]
  },
  {
   "cell_type": "markdown",
   "id": "375b0add",
   "metadata": {},
   "source": [
    "**Обучающий_набор**"
   ]
  },
  {
   "cell_type": "code",
   "execution_count": 78,
   "id": "8c1cf487",
   "metadata": {},
   "outputs": [],
   "source": [
    "array = df.values\n",
    "array\n",
    "X = array[:,0:9]\n",
    "Y = array[:,9]"
   ]
  },
  {
   "cell_type": "code",
   "execution_count": 9,
   "id": "8860eab1",
   "metadata": {
    "collapsed": true
   },
   "outputs": [
    {
     "data": {
      "text/plain": [
       "array([[ 1.,  0., 22., ...,  3.,  4.,  4.],\n",
       "       [ 0.,  1., 67., ...,  3.,  1.,  6.],\n",
       "       [ 1.,  1., 67., ...,  1.,  2.,  6.],\n",
       "       ...,\n",
       "       [ 0.,  0., 33., ...,  3.,  1.,  6.],\n",
       "       [ 0.,  0., 27., ...,  3.,  4.,  6.],\n",
       "       [ 1.,  1., 37., ...,  2.,  3.,  4.]])"
      ]
     },
     "execution_count": 9,
     "metadata": {},
     "output_type": "execute_result"
    }
   ],
   "source": [
    "X"
   ]
  },
  {
   "cell_type": "code",
   "execution_count": null,
   "id": "ba2c7c91",
   "metadata": {},
   "outputs": [],
   "source": [
    "Y"
   ]
  },
  {
   "cell_type": "markdown",
   "id": "c3b2c4e6",
   "metadata": {},
   "source": [
    "=============================================================="
   ]
  },
  {
   "cell_type": "markdown",
   "id": "d04b2067",
   "metadata": {},
   "source": [
    "**Тестовый_набор**"
   ]
  },
  {
   "cell_type": "code",
   "execution_count": 19,
   "id": "132abcb0",
   "metadata": {},
   "outputs": [],
   "source": [
    "array_T = df.values\n",
    "array_T\n",
    "XX = array_T[:,0:9]\n",
    "YY = array_T[:,9]"
   ]
  },
  {
   "cell_type": "code",
   "execution_count": null,
   "id": "834e02e9",
   "metadata": {},
   "outputs": [],
   "source": [
    "XX"
   ]
  },
  {
   "cell_type": "code",
   "execution_count": null,
   "id": "90199654",
   "metadata": {},
   "outputs": [],
   "source": [
    "YY"
   ]
  },
  {
   "cell_type": "code",
   "execution_count": 21,
   "id": "693ba5fa",
   "metadata": {},
   "outputs": [],
   "source": [
    "d = df.drop_duplicates(keep = False)"
   ]
  },
  {
   "cell_type": "code",
   "execution_count": 24,
   "id": "c92be908",
   "metadata": {},
   "outputs": [],
   "source": [
    "d.to_csv('Train_cleared_dropna_drop_duplicates.csv')"
   ]
  },
  {
   "cell_type": "markdown",
   "id": "776d5c60",
   "metadata": {},
   "source": [
    "**Обучающий_набор**"
   ]
  },
  {
   "cell_type": "code",
   "execution_count": 18,
   "id": "1c681660",
   "metadata": {},
   "outputs": [],
   "source": [
    "array = df.values\n",
    "array\n",
    "X = array[:,0:9]\n",
    "Y = array[:,9]"
   ]
  },
  {
   "cell_type": "code",
   "execution_count": 23,
   "id": "223c201f",
   "metadata": {},
   "outputs": [
    {
     "data": {
      "text/plain": [
       "1    1519\n",
       "4    1505\n",
       "2    1489\n",
       "3    1454\n",
       "Name: Целевая_категория, dtype: int64"
      ]
     },
     "execution_count": 23,
     "metadata": {},
     "output_type": "execute_result"
    }
   ],
   "source": [
    "d.Целевая_категория.value_counts()"
   ]
  },
  {
   "cell_type": "markdown",
   "id": "2d4e5423",
   "metadata": {},
   "source": [
    "====================================================="
   ]
  },
  {
   "cell_type": "code",
   "execution_count": 1,
   "id": "087dd9aa",
   "metadata": {
    "collapsed": true
   },
   "outputs": [
    {
     "ename": "NameError",
     "evalue": "name 'read_csv' is not defined",
     "output_type": "error",
     "traceback": [
      "\u001b[1;31m---------------------------------------------------------------------------\u001b[0m",
      "\u001b[1;31mNameError\u001b[0m                                 Traceback (most recent call last)",
      "\u001b[1;32mC:\\Users\\D9F8~1\\AppData\\Local\\Temp/ipykernel_18672/1113895986.py\u001b[0m in \u001b[0;36m<module>\u001b[1;34m\u001b[0m\n\u001b[1;32m----> 1\u001b[1;33m \u001b[0mdf\u001b[0m\u001b[1;33m=\u001b[0m\u001b[0mread_csv\u001b[0m\u001b[1;33m(\u001b[0m\u001b[1;34m'D:\\Политех\\Класиффикация\\Сегментация_клиентов\\Train_cleared_!!!!!!!!.csv'\u001b[0m\u001b[1;33m)\u001b[0m\u001b[1;33m\u001b[0m\u001b[1;33m\u001b[0m\u001b[0m\n\u001b[0m",
      "\u001b[1;31mNameError\u001b[0m: name 'read_csv' is not defined"
     ]
    }
   ],
   "source": [
    "df=read_csv('D:\\Политех\\Класиффикация\\Сегментация_клиентов\\Train_cleared_!!!!!!!!.csv')"
   ]
  },
  {
   "cell_type": "code",
   "execution_count": 13,
   "id": "dc9a454a",
   "metadata": {},
   "outputs": [],
   "source": [
    "df=df.filter(regex='^(?!.*Unnamed).*$')"
   ]
  },
  {
   "cell_type": "code",
   "execution_count": 147,
   "id": "1b91896f",
   "metadata": {},
   "outputs": [],
   "source": [
    "df_T=read_csv('D:\\Политех\\Класиффикация\\Сегментация_клиентов\\Test_cleared_!!!!!!!!.csv')"
   ]
  },
  {
   "cell_type": "code",
   "execution_count": 148,
   "id": "c6cd3dfd",
   "metadata": {},
   "outputs": [],
   "source": [
    "df_T=df_T.filter(regex='^(?!.*Unnamed).*$')"
   ]
  },
  {
   "cell_type": "markdown",
   "id": "3596a055",
   "metadata": {},
   "source": [
    "**Обучающий_набор**"
   ]
  },
  {
   "cell_type": "code",
   "execution_count": 149,
   "id": "b828dfe3",
   "metadata": {},
   "outputs": [],
   "source": [
    "array = df.values\n",
    "array\n",
    "X = array[:,0:9]\n",
    "Y = array[:,9]"
   ]
  },
  {
   "cell_type": "code",
   "execution_count": 9,
   "id": "07b94152",
   "metadata": {
    "collapsed": true
   },
   "outputs": [
    {
     "data": {
      "text/plain": [
       "array([[ 1.,  0., 22., ...,  3.,  4.,  4.],\n",
       "       [ 0.,  1., 67., ...,  3.,  1.,  6.],\n",
       "       [ 1.,  1., 67., ...,  1.,  2.,  6.],\n",
       "       ...,\n",
       "       [ 0.,  0., 33., ...,  3.,  1.,  6.],\n",
       "       [ 0.,  0., 27., ...,  3.,  4.,  6.],\n",
       "       [ 1.,  1., 37., ...,  2.,  3.,  4.]])"
      ]
     },
     "execution_count": 9,
     "metadata": {},
     "output_type": "execute_result"
    }
   ],
   "source": [
    "X"
   ]
  },
  {
   "cell_type": "code",
   "execution_count": null,
   "id": "ff3bb99a",
   "metadata": {},
   "outputs": [],
   "source": [
    "Y"
   ]
  },
  {
   "cell_type": "markdown",
   "id": "7a28c815",
   "metadata": {},
   "source": [
    "=============================================================="
   ]
  },
  {
   "cell_type": "markdown",
   "id": "6f8eb30b",
   "metadata": {},
   "source": [
    "**Тестовый_набор**"
   ]
  },
  {
   "cell_type": "code",
   "execution_count": 150,
   "id": "e835689c",
   "metadata": {},
   "outputs": [],
   "source": [
    "array_T = df_T.values\n",
    "array_T\n",
    "XX = array_T[:,0:9]\n",
    "YY = array_T[:,9]"
   ]
  },
  {
   "cell_type": "code",
   "execution_count": 152,
   "id": "2c57d362",
   "metadata": {},
   "outputs": [
    {
     "data": {
      "text/plain": [
       "1    674\n",
       "4    611\n",
       "2    437\n",
       "3    363\n",
       "Name: Целевая_категория, dtype: int64"
      ]
     },
     "execution_count": 152,
     "metadata": {},
     "output_type": "execute_result"
    }
   ],
   "source": [
    "df_T.Целевая_категория.value_counts()"
   ]
  },
  {
   "cell_type": "code",
   "execution_count": 153,
   "id": "f4ddb5b9",
   "metadata": {},
   "outputs": [],
   "source": [
    "from sklearn.model_selection import KFold\n",
    "from sklearn.model_selection import cross_val_score\n",
    "# отбор признаков:\n",
    "from sklearn.feature_selection import SelectKBest\n",
    "from sklearn.feature_selection import f_classif\n",
    "# ансамблевые функции:\n",
    "from sklearn.ensemble import BaggingClassifier\n",
    "from sklearn.tree import DecisionTreeClassifier\n",
    "from sklearn.ensemble import RandomForestClassifier\n",
    "from sklearn.ensemble import ExtraTreesClassifier\n",
    "from sklearn.ensemble import AdaBoostClassifier\n",
    "from sklearn.ensemble import GradientBoostingClassifier\n",
    "from xgboost import XGBClassifier\n",
    "from sklearn.linear_model import LogisticRegression\n",
    "from sklearn.svm import SVC\n",
    "from sklearn.ensemble import VotingClassifier\n",
    "import numpy as np\n",
    "from sklearn.linear_model import RidgeClassifier\n",
    "from sklearn.model_selection import GridSearchCV\n",
    "from scipy.stats import uniform\n",
    "from sklearn.model_selection import RandomizedSearchCV\n",
    "from sklearn.model_selection import train_test_split\n",
    "# сохраняет параметры после перезагрузки:\n",
    "import pickle\n",
    "import joblib"
   ]
  },
  {
   "cell_type": "markdown",
   "id": "792c29cd",
   "metadata": {},
   "source": [
    "# **GrideSearchCV**"
   ]
  },
  {
   "cell_type": "code",
   "execution_count": 154,
   "id": "dd8e968c",
   "metadata": {},
   "outputs": [],
   "source": [
    "from sklearn.model_selection import GridSearchCV"
   ]
  },
  {
   "cell_type": "code",
   "execution_count": 142,
   "id": "2ec35d69",
   "metadata": {},
   "outputs": [],
   "source": [
    "# X_train, X_test, Y_train, Y_test = train_test_split(X, Y, test_size=0.25, shuffle=True, random_state=7) "
   ]
  },
  {
   "cell_type": "code",
   "execution_count": 155,
   "id": "231d881c",
   "metadata": {},
   "outputs": [],
   "source": [
    "clf = LogisticRegression(max_iter = 5000)"
   ]
  },
  {
   "cell_type": "code",
   "execution_count": 156,
   "id": "0fe5de04",
   "metadata": {},
   "outputs": [],
   "source": [
    "parametrs = {'penalty':['l1','l2','elasticnet', 'none'], \n",
    "             'C': [0.001, 0.01, 0.1, 1, 10, 100, 1000]}"
   ]
  },
  {
   "cell_type": "code",
   "execution_count": 157,
   "id": "a38a4dab",
   "metadata": {
    "collapsed": true
   },
   "outputs": [
    {
     "name": "stdout",
     "output_type": "stream",
     "text": [
      "Fitting 3 folds for each of 28 candidates, totalling 84 fits\n"
     ]
    },
    {
     "name": "stderr",
     "output_type": "stream",
     "text": [
      "D:\\Programs\\lib\\site-packages\\sklearn\\model_selection\\_search.py:922: UserWarning: One or more of the test scores are non-finite: [       nan 0.43384135        nan 0.44423967        nan 0.45010872\n",
      "        nan 0.44423967        nan 0.44423959        nan 0.44423967\n",
      "        nan 0.44474277        nan 0.44423967        nan 0.44423975\n",
      "        nan 0.44423967        nan 0.44440734        nan 0.44423967\n",
      "        nan 0.44390416        nan 0.44423967]\n",
      "  warnings.warn(\n"
     ]
    },
    {
     "data": {
      "text/plain": [
       "GridSearchCV(cv=3, estimator=LogisticRegression(max_iter=5000), n_jobs=-1,\n",
       "             param_grid={'C': [0.001, 0.01, 0.1, 1, 10, 100, 1000],\n",
       "                         'penalty': ['l1', 'l2', 'elasticnet', 'none']},\n",
       "             verbose=1)"
      ]
     },
     "execution_count": 157,
     "metadata": {},
     "output_type": "execute_result"
    }
   ],
   "source": [
    "grid = GridSearchCV(clf, param_grid=parametrs, cv=3,verbose=1,n_jobs=-1)\n",
    "grid.fit(X,Y)"
   ]
  },
  {
   "cell_type": "code",
   "execution_count": 158,
   "id": "8f66e506",
   "metadata": {},
   "outputs": [
    {
     "name": "stdout",
     "output_type": "stream",
     "text": [
      "{'C': 0.01, 'penalty': 'l2'}\n",
      "LogisticRegression(C=0.01, max_iter=5000)\n"
     ]
    }
   ],
   "source": [
    "print(grid.best_params_)\n",
    "print(grid.best_estimator_)"
   ]
  },
  {
   "cell_type": "code",
   "execution_count": 159,
   "id": "f1888e46",
   "metadata": {},
   "outputs": [],
   "source": [
    "from sklearn.metrics import classification_report, confusion_matrix"
   ]
  },
  {
   "cell_type": "code",
   "execution_count": 160,
   "id": "452e1d46",
   "metadata": {},
   "outputs": [
    {
     "name": "stdout",
     "output_type": "stream",
     "text": [
      "              precision    recall  f1-score   support\n",
      "\n",
      "         1.0       0.32      0.24      0.27       674\n",
      "         2.0       0.27      0.20      0.23       437\n",
      "         3.0       0.25      0.39      0.30       363\n",
      "         4.0       0.42      0.46      0.43       611\n",
      "\n",
      "    accuracy                           0.32      2085\n",
      "   macro avg       0.31      0.32      0.31      2085\n",
      "weighted avg       0.32      0.32      0.32      2085\n",
      "\n"
     ]
    }
   ],
   "source": [
    "grid_predictions = grid.predict(XX)\n",
    "print(classification_report(YY, grid_predictions))"
   ]
  },
  {
   "cell_type": "code",
   "execution_count": 161,
   "id": "dc608d2b",
   "metadata": {},
   "outputs": [
    {
     "name": "stdout",
     "output_type": "stream",
     "text": [
      "[[162 104 178 230]\n",
      " [130  89 118 100]\n",
      " [ 82  76 142  63]\n",
      " [139  59 134 279]]\n"
     ]
    }
   ],
   "source": [
    "print(confusion_matrix(YY, grid_predictions))"
   ]
  },
  {
   "cell_type": "code",
   "execution_count": null,
   "id": "67a47e3c",
   "metadata": {},
   "outputs": [],
   "source": [
    "================================================================================================================"
   ]
  },
  {
   "cell_type": "code",
   "execution_count": 162,
   "id": "a6598752",
   "metadata": {},
   "outputs": [],
   "source": [
    "model = LogisticRegression(C=0.01, max_iter=5000)"
   ]
  },
  {
   "cell_type": "code",
   "execution_count": 163,
   "id": "651f6f90",
   "metadata": {},
   "outputs": [
    {
     "data": {
      "text/plain": [
       "LogisticRegression(C=0.01, max_iter=5000)"
      ]
     },
     "execution_count": 163,
     "metadata": {},
     "output_type": "execute_result"
    }
   ],
   "source": [
    "model.fit(X,Y)"
   ]
  },
  {
   "cell_type": "code",
   "execution_count": 164,
   "id": "8bc76cdc",
   "metadata": {},
   "outputs": [],
   "source": [
    "new_predictions = model.predict(XX)"
   ]
  },
  {
   "cell_type": "code",
   "execution_count": 165,
   "id": "a9d6f551",
   "metadata": {},
   "outputs": [
    {
     "name": "stdout",
     "output_type": "stream",
     "text": [
      "              precision    recall  f1-score   support\n",
      "\n",
      "         1.0       0.32      0.24      0.27       674\n",
      "         2.0       0.27      0.20      0.23       437\n",
      "         3.0       0.25      0.39      0.30       363\n",
      "         4.0       0.42      0.46      0.43       611\n",
      "\n",
      "    accuracy                           0.32      2085\n",
      "   macro avg       0.31      0.32      0.31      2085\n",
      "weighted avg       0.32      0.32      0.32      2085\n",
      "\n",
      "[[162 104 178 230]\n",
      " [130  89 118 100]\n",
      " [ 82  76 142  63]\n",
      " [139  59 134 279]]\n"
     ]
    }
   ],
   "source": [
    "print(classification_report(YY, new_predictions))\n",
    "print(confusion_matrix(YY, new_predictions))"
   ]
  },
  {
   "cell_type": "code",
   "execution_count": null,
   "id": "73c8cc89",
   "metadata": {},
   "outputs": [],
   "source": []
  },
  {
   "cell_type": "code",
   "execution_count": null,
   "id": "c09d1c35",
   "metadata": {},
   "outputs": [],
   "source": [
    "================================================================================================================"
   ]
  },
  {
   "cell_type": "markdown",
   "id": "18e52f8b",
   "metadata": {},
   "source": [
    "# **Проверка наличия противоречивых даных:**"
   ]
  },
  {
   "cell_type": "code",
   "execution_count": 90,
   "id": "dd35ad82",
   "metadata": {
    "scrolled": true
   },
   "outputs": [],
   "source": [
    "df=read_csv('D:\\Политех\\Класиффикация\\Сегментация_клиентов\\Train_cleared_dropna_drop_duplicates.csv')"
   ]
  },
  {
   "cell_type": "code",
   "execution_count": 91,
   "id": "a1c891b8",
   "metadata": {},
   "outputs": [],
   "source": [
    "df=df.filter(regex='^(?!.*Unnamed).*$')"
   ]
  },
  {
   "cell_type": "code",
   "execution_count": 16,
   "id": "70556417",
   "metadata": {},
   "outputs": [],
   "source": [
    "array = df.values\n",
    "array\n",
    "X = array[:,0:9]\n",
    "Y = array[:,9]"
   ]
  },
  {
   "cell_type": "code",
   "execution_count": 9,
   "id": "056d7310",
   "metadata": {
    "collapsed": true
   },
   "outputs": [
    {
     "data": {
      "text/plain": [
       "array([[ 1.,  0., 22., ...,  3.,  4.,  4.],\n",
       "       [ 0.,  1., 67., ...,  3.,  1.,  6.],\n",
       "       [ 1.,  1., 67., ...,  1.,  2.,  6.],\n",
       "       ...,\n",
       "       [ 0.,  0., 33., ...,  3.,  1.,  6.],\n",
       "       [ 0.,  0., 27., ...,  3.,  4.,  6.],\n",
       "       [ 1.,  1., 37., ...,  2.,  3.,  4.]])"
      ]
     },
     "execution_count": 9,
     "metadata": {},
     "output_type": "execute_result"
    }
   ],
   "source": [
    "X"
   ]
  },
  {
   "cell_type": "code",
   "execution_count": null,
   "id": "61ac4ecb",
   "metadata": {},
   "outputs": [],
   "source": [
    "Y"
   ]
  },
  {
   "cell_type": "code",
   "execution_count": 92,
   "id": "adbb48f8",
   "metadata": {},
   "outputs": [
    {
     "data": {
      "text/plain": [
       "1    1519\n",
       "4    1505\n",
       "2    1489\n",
       "3    1454\n",
       "Name: Целевая_категория, dtype: int64"
      ]
     },
     "execution_count": 92,
     "metadata": {},
     "output_type": "execute_result"
    }
   ],
   "source": [
    "df.Целевая_категория.value_counts()"
   ]
  },
  {
   "cell_type": "code",
   "execution_count": 93,
   "id": "b25a1188",
   "metadata": {},
   "outputs": [
    {
     "data": {
      "text/plain": [
       "Index(['Пол', 'Семейное_положение', 'Возраст', 'Высшее_образование',\n",
       "       'Профессия', 'Опыт_работы', 'Уровень_расходов', 'Размер_семьи',\n",
       "       'Анонимная_категория', 'Целевая_категория'],\n",
       "      dtype='object')"
      ]
     },
     "execution_count": 93,
     "metadata": {},
     "output_type": "execute_result"
    }
   ],
   "source": [
    "df.columns"
   ]
  },
  {
   "cell_type": "code",
   "execution_count": 95,
   "id": "0073a35c",
   "metadata": {},
   "outputs": [],
   "source": [
    "d = df.drop_duplicates()"
   ]
  },
  {
   "cell_type": "code",
   "execution_count": 96,
   "id": "1dc19b5e",
   "metadata": {},
   "outputs": [
    {
     "data": {
      "text/plain": [
       "1    1519\n",
       "4    1505\n",
       "2    1489\n",
       "3    1454\n",
       "Name: Целевая_категория, dtype: int64"
      ]
     },
     "execution_count": 96,
     "metadata": {},
     "output_type": "execute_result"
    }
   ],
   "source": [
    "d.Целевая_категория.value_counts()"
   ]
  },
  {
   "cell_type": "code",
   "execution_count": 102,
   "id": "fe1c406d",
   "metadata": {},
   "outputs": [
    {
     "data": {
      "text/plain": [
       "(5963, 10)"
      ]
     },
     "execution_count": 102,
     "metadata": {},
     "output_type": "execute_result"
    }
   ],
   "source": [
    "df.shape"
   ]
  },
  {
   "cell_type": "code",
   "execution_count": 112,
   "id": "dd436802",
   "metadata": {},
   "outputs": [],
   "source": [
    "df_ = df.drop(columns='Целевая_категория') "
   ]
  },
  {
   "cell_type": "code",
   "execution_count": 114,
   "id": "53a8a2bd",
   "metadata": {},
   "outputs": [
    {
     "data": {
      "text/plain": [
       "(5963, 9)"
      ]
     },
     "execution_count": 114,
     "metadata": {},
     "output_type": "execute_result"
    }
   ],
   "source": [
    "df_.shape"
   ]
  },
  {
   "cell_type": "code",
   "execution_count": 115,
   "id": "17e119ef",
   "metadata": {},
   "outputs": [],
   "source": [
    "df_ = df_.drop_duplicates()"
   ]
  },
  {
   "cell_type": "code",
   "execution_count": 116,
   "id": "1899b1bd",
   "metadata": {},
   "outputs": [
    {
     "data": {
      "text/plain": [
       "(5727, 9)"
      ]
     },
     "execution_count": 116,
     "metadata": {},
     "output_type": "execute_result"
    }
   ],
   "source": [
    "df_.shape"
   ]
  },
  {
   "cell_type": "code",
   "execution_count": 117,
   "id": "44db279f",
   "metadata": {},
   "outputs": [
    {
     "data": {
      "text/plain": [
       "236"
      ]
     },
     "execution_count": 117,
     "metadata": {},
     "output_type": "execute_result"
    }
   ],
   "source": [
    "df.shape[0] - df_.shape[0]"
   ]
  },
  {
   "cell_type": "code",
   "execution_count": 120,
   "id": "61a85389",
   "metadata": {},
   "outputs": [],
   "source": [
    "df_L=df.drop(columns='Целевая_категория')"
   ]
  },
  {
   "cell_type": "code",
   "execution_count": 122,
   "id": "3e7c8f63",
   "metadata": {},
   "outputs": [],
   "source": [
    "df_R = df['Целевая_категория']"
   ]
  },
  {
   "cell_type": "code",
   "execution_count": 123,
   "id": "68cde498",
   "metadata": {},
   "outputs": [
    {
     "data": {
      "text/plain": [
       "0       2\n",
       "5       1\n",
       "6       4\n",
       "7       2\n",
       "8       3\n",
       "       ..\n",
       "5962    3\n",
       "5963    2\n",
       "5964    4\n",
       "5965    2\n",
       "5966    2\n",
       "Name: Целевая_категория, Length: 5963, dtype: int64"
      ]
     },
     "execution_count": 123,
     "metadata": {},
     "output_type": "execute_result"
    }
   ],
   "source": [
    "df_R"
   ]
  },
  {
   "cell_type": "code",
   "execution_count": 124,
   "id": "da3a09bd",
   "metadata": {},
   "outputs": [
    {
     "data": {
      "text/plain": [
       "(5963, 9)"
      ]
     },
     "execution_count": 124,
     "metadata": {},
     "output_type": "execute_result"
    }
   ],
   "source": [
    "df_L.shape"
   ]
  },
  {
   "cell_type": "code",
   "execution_count": 125,
   "id": "9949bbd0",
   "metadata": {},
   "outputs": [],
   "source": [
    "df_L = df_L.drop_duplicates()"
   ]
  },
  {
   "cell_type": "code",
   "execution_count": 126,
   "id": "b93d82ce",
   "metadata": {},
   "outputs": [
    {
     "data": {
      "text/plain": [
       "(5727, 9)"
      ]
     },
     "execution_count": 126,
     "metadata": {},
     "output_type": "execute_result"
    }
   ],
   "source": [
    "df_L.shape"
   ]
  },
  {
   "cell_type": "code",
   "execution_count": 127,
   "id": "2bf5b5f6",
   "metadata": {},
   "outputs": [],
   "source": [
    "df_clear = pd.merge(df_L, df_R, left_index=True, right_index=True)"
   ]
  },
  {
   "cell_type": "code",
   "execution_count": 129,
   "id": "1ea6b0fc",
   "metadata": {},
   "outputs": [
    {
     "data": {
      "text/html": [
       "<div>\n",
       "<style scoped>\n",
       "    .dataframe tbody tr th:only-of-type {\n",
       "        vertical-align: middle;\n",
       "    }\n",
       "\n",
       "    .dataframe tbody tr th {\n",
       "        vertical-align: top;\n",
       "    }\n",
       "\n",
       "    .dataframe thead th {\n",
       "        text-align: right;\n",
       "    }\n",
       "</style>\n",
       "<table border=\"1\" class=\"dataframe\">\n",
       "  <thead>\n",
       "    <tr style=\"text-align: right;\">\n",
       "      <th></th>\n",
       "      <th>Пол</th>\n",
       "      <th>Семейное_положение</th>\n",
       "      <th>Возраст</th>\n",
       "      <th>Высшее_образование</th>\n",
       "      <th>Профессия</th>\n",
       "      <th>Опыт_работы</th>\n",
       "      <th>Уровень_расходов</th>\n",
       "      <th>Размер_семьи</th>\n",
       "      <th>Анонимная_категория</th>\n",
       "      <th>Целевая_категория</th>\n",
       "    </tr>\n",
       "  </thead>\n",
       "  <tbody>\n",
       "    <tr>\n",
       "      <th>0</th>\n",
       "      <td>0</td>\n",
       "      <td>1.0</td>\n",
       "      <td>67</td>\n",
       "      <td>1.0</td>\n",
       "      <td>4.0</td>\n",
       "      <td>1.0</td>\n",
       "      <td>3</td>\n",
       "      <td>1.0</td>\n",
       "      <td>6.0</td>\n",
       "      <td>2</td>\n",
       "    </tr>\n",
       "    <tr>\n",
       "      <th>5</th>\n",
       "      <td>0</td>\n",
       "      <td>0.0</td>\n",
       "      <td>26</td>\n",
       "      <td>1.0</td>\n",
       "      <td>4.0</td>\n",
       "      <td>1.0</td>\n",
       "      <td>3</td>\n",
       "      <td>3.0</td>\n",
       "      <td>6.0</td>\n",
       "      <td>1</td>\n",
       "    </tr>\n",
       "    <tr>\n",
       "      <th>6</th>\n",
       "      <td>1</td>\n",
       "      <td>0.0</td>\n",
       "      <td>19</td>\n",
       "      <td>0.0</td>\n",
       "      <td>2.0</td>\n",
       "      <td>4.0</td>\n",
       "      <td>3</td>\n",
       "      <td>4.0</td>\n",
       "      <td>4.0</td>\n",
       "      <td>4</td>\n",
       "    </tr>\n",
       "    <tr>\n",
       "      <th>7</th>\n",
       "      <td>0</td>\n",
       "      <td>1.0</td>\n",
       "      <td>58</td>\n",
       "      <td>0.0</td>\n",
       "      <td>5.0</td>\n",
       "      <td>0.0</td>\n",
       "      <td>3</td>\n",
       "      <td>1.0</td>\n",
       "      <td>3.0</td>\n",
       "      <td>2</td>\n",
       "    </tr>\n",
       "    <tr>\n",
       "      <th>8</th>\n",
       "      <td>0</td>\n",
       "      <td>0.0</td>\n",
       "      <td>41</td>\n",
       "      <td>0.0</td>\n",
       "      <td>2.0</td>\n",
       "      <td>1.0</td>\n",
       "      <td>3</td>\n",
       "      <td>2.0</td>\n",
       "      <td>1.0</td>\n",
       "      <td>3</td>\n",
       "    </tr>\n",
       "    <tr>\n",
       "      <th>...</th>\n",
       "      <td>...</td>\n",
       "      <td>...</td>\n",
       "      <td>...</td>\n",
       "      <td>...</td>\n",
       "      <td>...</td>\n",
       "      <td>...</td>\n",
       "      <td>...</td>\n",
       "      <td>...</td>\n",
       "      <td>...</td>\n",
       "      <td>...</td>\n",
       "    </tr>\n",
       "    <tr>\n",
       "      <th>5962</th>\n",
       "      <td>1</td>\n",
       "      <td>1.0</td>\n",
       "      <td>65</td>\n",
       "      <td>0.0</td>\n",
       "      <td>1.0</td>\n",
       "      <td>0.0</td>\n",
       "      <td>2</td>\n",
       "      <td>2.0</td>\n",
       "      <td>6.0</td>\n",
       "      <td>3</td>\n",
       "    </tr>\n",
       "    <tr>\n",
       "      <th>5963</th>\n",
       "      <td>1</td>\n",
       "      <td>1.0</td>\n",
       "      <td>41</td>\n",
       "      <td>1.0</td>\n",
       "      <td>1.0</td>\n",
       "      <td>0.0</td>\n",
       "      <td>1</td>\n",
       "      <td>5.0</td>\n",
       "      <td>6.0</td>\n",
       "      <td>2</td>\n",
       "    </tr>\n",
       "    <tr>\n",
       "      <th>5964</th>\n",
       "      <td>1</td>\n",
       "      <td>0.0</td>\n",
       "      <td>35</td>\n",
       "      <td>0.0</td>\n",
       "      <td>7.0</td>\n",
       "      <td>3.0</td>\n",
       "      <td>3</td>\n",
       "      <td>4.0</td>\n",
       "      <td>4.0</td>\n",
       "      <td>4</td>\n",
       "    </tr>\n",
       "    <tr>\n",
       "      <th>5965</th>\n",
       "      <td>0</td>\n",
       "      <td>0.0</td>\n",
       "      <td>27</td>\n",
       "      <td>1.0</td>\n",
       "      <td>2.0</td>\n",
       "      <td>1.0</td>\n",
       "      <td>3</td>\n",
       "      <td>4.0</td>\n",
       "      <td>6.0</td>\n",
       "      <td>2</td>\n",
       "    </tr>\n",
       "    <tr>\n",
       "      <th>5966</th>\n",
       "      <td>1</td>\n",
       "      <td>1.0</td>\n",
       "      <td>37</td>\n",
       "      <td>1.0</td>\n",
       "      <td>7.0</td>\n",
       "      <td>0.0</td>\n",
       "      <td>2</td>\n",
       "      <td>3.0</td>\n",
       "      <td>4.0</td>\n",
       "      <td>2</td>\n",
       "    </tr>\n",
       "  </tbody>\n",
       "</table>\n",
       "<p>5963 rows × 10 columns</p>\n",
       "</div>"
      ],
      "text/plain": [
       "      Пол  Семейное_положение  Возраст  Высшее_образование  Профессия  \\\n",
       "0       0                 1.0       67                 1.0        4.0   \n",
       "5       0                 0.0       26                 1.0        4.0   \n",
       "6       1                 0.0       19                 0.0        2.0   \n",
       "7       0                 1.0       58                 0.0        5.0   \n",
       "8       0                 0.0       41                 0.0        2.0   \n",
       "...   ...                 ...      ...                 ...        ...   \n",
       "5962    1                 1.0       65                 0.0        1.0   \n",
       "5963    1                 1.0       41                 1.0        1.0   \n",
       "5964    1                 0.0       35                 0.0        7.0   \n",
       "5965    0                 0.0       27                 1.0        2.0   \n",
       "5966    1                 1.0       37                 1.0        7.0   \n",
       "\n",
       "      Опыт_работы  Уровень_расходов  Размер_семьи  Анонимная_категория  \\\n",
       "0             1.0                 3           1.0                  6.0   \n",
       "5             1.0                 3           3.0                  6.0   \n",
       "6             4.0                 3           4.0                  4.0   \n",
       "7             0.0                 3           1.0                  3.0   \n",
       "8             1.0                 3           2.0                  1.0   \n",
       "...           ...               ...           ...                  ...   \n",
       "5962          0.0                 2           2.0                  6.0   \n",
       "5963          0.0                 1           5.0                  6.0   \n",
       "5964          3.0                 3           4.0                  4.0   \n",
       "5965          1.0                 3           4.0                  6.0   \n",
       "5966          0.0                 2           3.0                  4.0   \n",
       "\n",
       "      Целевая_категория  \n",
       "0                     2  \n",
       "5                     1  \n",
       "6                     4  \n",
       "7                     2  \n",
       "8                     3  \n",
       "...                 ...  \n",
       "5962                  3  \n",
       "5963                  2  \n",
       "5964                  4  \n",
       "5965                  2  \n",
       "5966                  2  \n",
       "\n",
       "[5963 rows x 10 columns]"
      ]
     },
     "execution_count": 129,
     "metadata": {},
     "output_type": "execute_result"
    }
   ],
   "source": [
    "df"
   ]
  },
  {
   "cell_type": "code",
   "execution_count": 132,
   "id": "e5a53060",
   "metadata": {},
   "outputs": [
    {
     "data": {
      "text/plain": [
       "(5727, 10)"
      ]
     },
     "execution_count": 132,
     "metadata": {},
     "output_type": "execute_result"
    }
   ],
   "source": [
    "df_clear.shape"
   ]
  },
  {
   "cell_type": "code",
   "execution_count": 130,
   "id": "b152f880",
   "metadata": {
    "collapsed": true
   },
   "outputs": [
    {
     "data": {
      "text/plain": [
       "Пол                    0\n",
       "Семейное_положение     0\n",
       "Возраст                0\n",
       "Высшее_образование     0\n",
       "Профессия              0\n",
       "Опыт_работы            0\n",
       "Уровень_расходов       0\n",
       "Размер_семьи           0\n",
       "Анонимная_категория    0\n",
       "Целевая_категория      0\n",
       "dtype: int64"
      ]
     },
     "execution_count": 130,
     "metadata": {},
     "output_type": "execute_result"
    }
   ],
   "source": [
    "df_clear.isna().sum()"
   ]
  },
  {
   "cell_type": "code",
   "execution_count": 135,
   "id": "3f9908b6",
   "metadata": {},
   "outputs": [],
   "source": [
    "array = df_clear.values\n",
    "array\n",
    "X = array[:,0:9]\n",
    "Y = array[:,9]"
   ]
  },
  {
   "cell_type": "code",
   "execution_count": null,
   "id": "e9333b58",
   "metadata": {},
   "outputs": [],
   "source": []
  },
  {
   "cell_type": "code",
   "execution_count": 136,
   "id": "d69bda93",
   "metadata": {},
   "outputs": [],
   "source": [
    "from sklearn.model_selection import GridSearchCV"
   ]
  },
  {
   "cell_type": "code",
   "execution_count": 142,
   "id": "6c268e61",
   "metadata": {},
   "outputs": [],
   "source": [
    "# X_train, X_test, Y_train, Y_test = train_test_split(X, Y, test_size=0.25, shuffle=True, random_state=7) "
   ]
  },
  {
   "cell_type": "code",
   "execution_count": 137,
   "id": "916d5a18",
   "metadata": {},
   "outputs": [],
   "source": [
    "clf = LogisticRegression(max_iter = 5000)"
   ]
  },
  {
   "cell_type": "code",
   "execution_count": 138,
   "id": "b176d63b",
   "metadata": {},
   "outputs": [],
   "source": [
    "parametrs = {'penalty':['l1','l2','elasticnet', 'none'], \n",
    "             'C': [0.001, 0.01, 0.1, 1, 10, 100, 1000]}"
   ]
  },
  {
   "cell_type": "code",
   "execution_count": 139,
   "id": "b8260621",
   "metadata": {},
   "outputs": [
    {
     "name": "stdout",
     "output_type": "stream",
     "text": [
      "Fitting 3 folds for each of 28 candidates, totalling 84 fits\n"
     ]
    },
    {
     "name": "stderr",
     "output_type": "stream",
     "text": [
      "D:\\Programs\\lib\\site-packages\\sklearn\\model_selection\\_search.py:922: UserWarning: One or more of the test scores are non-finite: [       nan 0.43338572        nan 0.4468308         nan 0.45224376\n",
      "        nan 0.4468308         nan 0.44857692        nan 0.4468308\n",
      "        nan 0.44735464        nan 0.4468308         nan 0.44718002\n",
      "        nan 0.4468308         nan 0.4468308         nan 0.4468308\n",
      "        nan 0.44805308        nan 0.4468308 ]\n",
      "  warnings.warn(\n"
     ]
    },
    {
     "data": {
      "text/plain": [
       "GridSearchCV(cv=3, estimator=LogisticRegression(max_iter=5000), n_jobs=-1,\n",
       "             param_grid={'C': [0.001, 0.01, 0.1, 1, 10, 100, 1000],\n",
       "                         'penalty': ['l1', 'l2', 'elasticnet', 'none']},\n",
       "             verbose=1)"
      ]
     },
     "execution_count": 139,
     "metadata": {},
     "output_type": "execute_result"
    }
   ],
   "source": [
    "grid = GridSearchCV(clf, param_grid=parametrs, cv=3,verbose=1,n_jobs=-1)\n",
    "grid.fit(X,Y)"
   ]
  },
  {
   "cell_type": "code",
   "execution_count": 140,
   "id": "abcbeb8b",
   "metadata": {},
   "outputs": [
    {
     "name": "stdout",
     "output_type": "stream",
     "text": [
      "{'C': 0.01, 'penalty': 'l2'}\n",
      "LogisticRegression(C=0.01, max_iter=5000)\n"
     ]
    }
   ],
   "source": [
    "print(grid.best_params_)\n",
    "print(grid.best_estimator_)"
   ]
  },
  {
   "cell_type": "code",
   "execution_count": 83,
   "id": "27ab55a9",
   "metadata": {},
   "outputs": [],
   "source": [
    "from sklearn.metrics import classification_report, confusion_matrix"
   ]
  },
  {
   "cell_type": "code",
   "execution_count": 141,
   "id": "98288121",
   "metadata": {},
   "outputs": [
    {
     "name": "stdout",
     "output_type": "stream",
     "text": [
      "              precision    recall  f1-score   support\n",
      "\n",
      "         1.0       0.32      0.25      0.28       692\n",
      "         2.0       0.26      0.19      0.22       450\n",
      "         3.0       0.26      0.40      0.31       381\n",
      "         4.0       0.42      0.47      0.44       631\n",
      "\n",
      "    accuracy                           0.33      2154\n",
      "   macro avg       0.32      0.33      0.32      2154\n",
      "weighted avg       0.33      0.33      0.32      2154\n",
      "\n"
     ]
    }
   ],
   "source": [
    "grid_predictions = grid.predict(XX)\n",
    "print(classification_report(YY, grid_predictions))"
   ]
  },
  {
   "cell_type": "code",
   "execution_count": 64,
   "id": "3fdebaff",
   "metadata": {},
   "outputs": [
    {
     "name": "stdout",
     "output_type": "stream",
     "text": [
      "[[164 110 182 236]\n",
      " [133  91 121 105]\n",
      " [ 85  82 149  65]\n",
      " [140  60 141 290]]\n"
     ]
    }
   ],
   "source": [
    "print(confusion_matrix(YY, grid_predictions))"
   ]
  },
  {
   "cell_type": "code",
   "execution_count": null,
   "id": "67a47e3c",
   "metadata": {},
   "outputs": [],
   "source": [
    "================================================================================================================"
   ]
  },
  {
   "cell_type": "code",
   "execution_count": 142,
   "id": "a6598752",
   "metadata": {},
   "outputs": [],
   "source": [
    "model = LogisticRegression(C=0.01, max_iter=5000)"
   ]
  },
  {
   "cell_type": "code",
   "execution_count": 143,
   "id": "651f6f90",
   "metadata": {},
   "outputs": [
    {
     "data": {
      "text/plain": [
       "LogisticRegression(C=0.01, max_iter=5000)"
      ]
     },
     "execution_count": 143,
     "metadata": {},
     "output_type": "execute_result"
    }
   ],
   "source": [
    "model.fit(X,Y)"
   ]
  },
  {
   "cell_type": "code",
   "execution_count": 144,
   "id": "8bc76cdc",
   "metadata": {},
   "outputs": [],
   "source": [
    "new_predictions = model.predict(XX)"
   ]
  },
  {
   "cell_type": "code",
   "execution_count": 145,
   "id": "a9d6f551",
   "metadata": {},
   "outputs": [
    {
     "name": "stdout",
     "output_type": "stream",
     "text": [
      "              precision    recall  f1-score   support\n",
      "\n",
      "         1.0       0.32      0.25      0.28       692\n",
      "         2.0       0.26      0.19      0.22       450\n",
      "         3.0       0.26      0.40      0.31       381\n",
      "         4.0       0.42      0.47      0.44       631\n",
      "\n",
      "    accuracy                           0.33      2154\n",
      "   macro avg       0.32      0.33      0.32      2154\n",
      "weighted avg       0.33      0.33      0.32      2154\n",
      "\n",
      "[[175 104 177 236]\n",
      " [137  86 120 107]\n",
      " [ 90  74 152  65]\n",
      " [139  62 136 294]]\n"
     ]
    }
   ],
   "source": [
    "print(classification_report(YY, new_predictions))\n",
    "print(confusion_matrix(YY, new_predictions))"
   ]
  },
  {
   "cell_type": "code",
   "execution_count": null,
   "id": "73c8cc89",
   "metadata": {},
   "outputs": [],
   "source": []
  },
  {
   "cell_type": "code",
   "execution_count": null,
   "id": "c09d1c35",
   "metadata": {},
   "outputs": [],
   "source": [
    "================================================================================================================"
   ]
  },
  {
   "cell_type": "code",
   "execution_count": 146,
   "id": "9d7de696",
   "metadata": {},
   "outputs": [],
   "source": [
    "df_clear.to_csv('Train_cleared_!!!!!!!!.csv')"
   ]
  },
  {
   "cell_type": "code",
   "execution_count": null,
   "id": "40f0c315",
   "metadata": {},
   "outputs": [],
   "source": []
  }
 ],
 "metadata": {
  "kernelspec": {
   "display_name": "Python 3 (ipykernel)",
   "language": "python",
   "name": "python3"
  },
  "language_info": {
   "codemirror_mode": {
    "name": "ipython",
    "version": 3
   },
   "file_extension": ".py",
   "mimetype": "text/x-python",
   "name": "python",
   "nbconvert_exporter": "python",
   "pygments_lexer": "ipython3",
   "version": "3.9.7"
  }
 },
 "nbformat": 4,
 "nbformat_minor": 5
}
