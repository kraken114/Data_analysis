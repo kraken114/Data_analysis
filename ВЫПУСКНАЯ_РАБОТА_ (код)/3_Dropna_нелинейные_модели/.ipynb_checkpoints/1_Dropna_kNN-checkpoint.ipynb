{
 "cells": [
  {
   "cell_type": "markdown",
   "id": "e8b8fe40",
   "metadata": {},
   "source": [
    "# **3.1. KNeighborsClassifier() + SelectKBest**"
   ]
  },
  {
   "cell_type": "markdown",
   "id": "00c49521",
   "metadata": {},
   "source": [
    "# **0.4814    7_признаков**"
   ]
  },
  {
   "cell_type": "code",
   "execution_count": 100,
   "id": "2a26a3ce",
   "metadata": {},
   "outputs": [],
   "source": [
    "from sklearn.feature_selection import SelectKBest\n",
    "from sklearn.feature_selection import f_classif\n",
    "from sklearn.neighbors import KNeighborsClassifier\n",
    "from sklearn.model_selection import KFold\n",
    "from sklearn.model_selection import cross_val_score"
   ]
  },
  {
   "cell_type": "code",
   "execution_count": 52,
   "id": "2690ac65",
   "metadata": {},
   "outputs": [],
   "source": [
    "lst_1 = list(range(1,10))\n",
    "lst_2 = list(range(2,9))\n",
    "lst_3 = list(range(1,5))\n",
    "k = []"
   ]
  },
  {
   "cell_type": "code",
   "execution_count": 50,
   "id": "6e545026",
   "metadata": {
    "collapsed": true
   },
   "outputs": [
    {
     "name": "stdout",
     "output_type": "stream",
     "text": [
      "n_neighbors: 1 n_splits: 2 KBest: 1 0.2798250713426685\n",
      "n_neighbors: 1 n_splits: 2 KBest: 2 0.3465844933833119\n",
      "n_neighbors: 1 n_splits: 2 KBest: 3 0.36533767422360486\n",
      "n_neighbors: 1 n_splits: 2 KBest: 4 0.37643959473978605\n",
      "n_neighbors: 1 n_splits: 2 KBest: 5 0.38544774345381716\n",
      "n_neighbors: 1 n_splits: 2 KBest: 6 0.4276075416665316\n",
      "n_neighbors: 1 n_splits: 2 KBest: 7 0.4283582469891647\n",
      "n_neighbors: 1 n_splits: 2 KBest: 8 0.42115554592674154\n",
      "n_neighbors: 1 n_splits: 2 KBest: 9 0.4204056510092786\n",
      "i 2 max: 0.4283582469891647\n",
      "n_neighbors: 1 n_splits: 3 KBest: 1 0.27998243318253485\n",
      "n_neighbors: 1 n_splits: 3 KBest: 2 0.34793517622811354\n",
      "n_neighbors: 1 n_splits: 3 KBest: 3 0.3845441050183361\n",
      "n_neighbors: 1 n_splits: 3 KBest: 4 0.38649619126703305\n",
      "n_neighbors: 1 n_splits: 3 KBest: 5 0.39849995805523825\n",
      "n_neighbors: 1 n_splits: 3 KBest: 6 0.4255047521861597\n",
      "n_neighbors: 1 n_splits: 3 KBest: 7 0.42475562279325635\n",
      "n_neighbors: 1 n_splits: 3 KBest: 8 0.42730425676516326\n",
      "n_neighbors: 1 n_splits: 3 KBest: 9 0.4262540166668625\n",
      "i 3 max: 0.4283582469891647\n",
      "n_neighbors: 1 n_splits: 4 KBest: 1 0.2927344303048154\n",
      "n_neighbors: 1 n_splits: 4 KBest: 2 0.3683445183712357\n",
      "n_neighbors: 1 n_splits: 4 KBest: 3 0.38079544955354666\n",
      "n_neighbors: 1 n_splits: 4 KBest: 4 0.3860495307901205\n",
      "n_neighbors: 1 n_splits: 4 KBest: 5 0.3837949396915335\n",
      "n_neighbors: 1 n_splits: 4 KBest: 6 0.41800610466142063\n",
      "n_neighbors: 1 n_splits: 4 KBest: 7 0.4250572154476668\n",
      "n_neighbors: 1 n_splits: 4 KBest: 8 0.42775685559166676\n",
      "n_neighbors: 1 n_splits: 4 KBest: 9 0.42595685544763795\n",
      "i 4 max: 0.4283582469891647\n",
      "n_neighbors: 1 n_splits: 5 KBest: 1 0.3395348837209302\n",
      "n_neighbors: 1 n_splits: 5 KBest: 2 0.35123780945236305\n",
      "n_neighbors: 1 n_splits: 5 KBest: 3 0.3759939984996249\n",
      "n_neighbors: 1 n_splits: 5 KBest: 4 0.3870967741935484\n",
      "n_neighbors: 1 n_splits: 5 KBest: 5 0.3914478619654914\n",
      "n_neighbors: 1 n_splits: 5 KBest: 6 0.4319579894973744\n",
      "n_neighbors: 1 n_splits: 5 KBest: 7 0.43930982745686425\n",
      "n_neighbors: 1 n_splits: 5 KBest: 8 0.4306076519129783\n",
      "n_neighbors: 1 n_splits: 5 KBest: 9 0.4282070517629407\n",
      "i 5 max: 0.43930982745686425\n",
      "n_neighbors: 1 n_splits: 6 KBest: 1 0.3797358114189797\n",
      "n_neighbors: 1 n_splits: 6 KBest: 2 0.362038771444712\n",
      "n_neighbors: 1 n_splits: 6 KBest: 3 0.3846969832118347\n",
      "n_neighbors: 1 n_splits: 6 KBest: 4 0.3995484683603496\n",
      "n_neighbors: 1 n_splits: 6 KBest: 5 0.3888941596862389\n",
      "n_neighbors: 1 n_splits: 6 KBest: 6 0.4294028051453795\n",
      "n_neighbors: 1 n_splits: 6 KBest: 7 0.4346541410897847\n",
      "n_neighbors: 1 n_splits: 6 KBest: 8 0.4366042009606366\n",
      "n_neighbors: 1 n_splits: 6 KBest: 9 0.43600333006273595\n",
      "i 6 max: 0.43930982745686425\n",
      "n_neighbors: 1 n_splits: 7 KBest: 1 0.3396968441101519\n",
      "n_neighbors: 1 n_splits: 7 KBest: 2 0.3621919911721247\n",
      "n_neighbors: 1 n_splits: 7 KBest: 3 0.3816982196866155\n",
      "n_neighbors: 1 n_splits: 7 KBest: 4 0.39730320249820805\n",
      "n_neighbors: 1 n_splits: 7 KBest: 5 0.38889984115367027\n",
      "n_neighbors: 1 n_splits: 7 KBest: 6 0.4324082728579364\n",
      "n_neighbors: 1 n_splits: 7 KBest: 7 0.432559750028028\n",
      "n_neighbors: 1 n_splits: 7 KBest: 8 0.43165828765923997\n",
      "n_neighbors: 1 n_splits: 7 KBest: 9 0.42970860957184553\n",
      "i 7 max: 0.43930982745686425\n",
      "n_neighbors: 1 n_splits: 8 KBest: 1 0.3045831642009322\n",
      "n_neighbors: 1 n_splits: 8 KBest: 2 0.35334169639078655\n",
      "n_neighbors: 1 n_splits: 8 KBest: 3 0.36023941950881067\n",
      "n_neighbors: 1 n_splits: 8 KBest: 4 0.3789978221504429\n",
      "n_neighbors: 1 n_splits: 8 KBest: 5 0.38979818546123485\n",
      "n_neighbors: 1 n_splits: 8 KBest: 6 0.4360094757327391\n",
      "n_neighbors: 1 n_splits: 8 KBest: 7 0.4382637947265237\n",
      "n_neighbors: 1 n_splits: 8 KBest: 8 0.42685689383667136\n",
      "n_neighbors: 1 n_splits: 8 KBest: 9 0.42910653470021104\n",
      "i 8 max: 0.43930982745686425\n",
      "n_neighbors: 2 n_splits: 2 KBest: 1 0.2798250713426685\n",
      "n_neighbors: 2 n_splits: 2 KBest: 2 0.3138782965931647\n",
      "n_neighbors: 2 n_splits: 2 KBest: 3 0.3359326178716311\n",
      "n_neighbors: 2 n_splits: 2 KBest: 4 0.3579868491050786\n",
      "n_neighbors: 2 n_splits: 2 KBest: 5 0.3639908258532936\n",
      "n_neighbors: 2 n_splits: 2 KBest: 6 0.4210058010602981\n",
      "n_neighbors: 2 n_splits: 2 KBest: 7 0.4187559362178715\n",
      "n_neighbors: 2 n_splits: 2 KBest: 8 0.4139536102469791\n",
      "n_neighbors: 2 n_splits: 2 KBest: 9 0.4093031452004744\n",
      "i 2 max: 0.43930982745686425\n",
      "n_neighbors: 2 n_splits: 3 KBest: 1 0.28103253819303586\n",
      "n_neighbors: 2 n_splits: 3 KBest: 2 0.34103205457871316\n",
      "n_neighbors: 2 n_splits: 3 KBest: 3 0.3599395509114171\n",
      "n_neighbors: 2 n_splits: 3 KBest: 4 0.37014009820612864\n",
      "n_neighbors: 2 n_splits: 3 KBest: 5 0.3698417568006238\n",
      "n_neighbors: 2 n_splits: 3 KBest: 6 0.41875313150405535\n",
      "n_neighbors: 2 n_splits: 3 KBest: 7 0.4148531467284504\n",
      "n_neighbors: 2 n_splits: 3 KBest: 8 0.4187519832577585\n",
      "n_neighbors: 2 n_splits: 3 KBest: 9 0.415451315505256\n",
      "i 3 max: 0.43930982745686425\n",
      "n_neighbors: 2 n_splits: 4 KBest: 1 0.3006876115773244\n",
      "n_neighbors: 2 n_splits: 4 KBest: 2 0.3480877654001012\n",
      "n_neighbors: 2 n_splits: 4 KBest: 3 0.34313614467982756\n",
      "n_neighbors: 2 n_splits: 4 KBest: 4 0.35379130656461744\n",
      "n_neighbors: 2 n_splits: 4 KBest: 5 0.3647423576509188\n",
      "n_neighbors: 2 n_splits: 4 KBest: 6 0.4064527430648324\n",
      "n_neighbors: 2 n_splits: 4 KBest: 7 0.4121534936710137\n",
      "n_neighbors: 2 n_splits: 4 KBest: 8 0.41770373416313133\n",
      "n_neighbors: 2 n_splits: 4 KBest: 9 0.4141035538390522\n",
      "i 4 max: 0.43930982745686425\n",
      "n_neighbors: 2 n_splits: 5 KBest: 1 0.317629407351838\n",
      "n_neighbors: 2 n_splits: 5 KBest: 2 0.33893473368342086\n",
      "n_neighbors: 2 n_splits: 5 KBest: 3 0.349887471867967\n",
      "n_neighbors: 2 n_splits: 5 KBest: 4 0.36609152288072017\n",
      "n_neighbors: 2 n_splits: 5 KBest: 5 0.3735933983495874\n",
      "n_neighbors: 2 n_splits: 5 KBest: 6 0.41860465116279066\n",
      "n_neighbors: 2 n_splits: 5 KBest: 7 0.4199549887471868\n",
      "n_neighbors: 2 n_splits: 5 KBest: 8 0.4216054013503376\n",
      "n_neighbors: 2 n_splits: 5 KBest: 9 0.4150037509377344\n",
      "i 5 max: 0.43930982745686425\n",
      "n_neighbors: 2 n_splits: 6 KBest: 1 0.3521330511429521\n",
      "n_neighbors: 2 n_splits: 6 KBest: 2 0.35663647445825664\n",
      "n_neighbors: 2 n_splits: 6 KBest: 3 0.3605424055919106\n",
      "n_neighbors: 2 n_splits: 6 KBest: 4 0.3714926898095215\n",
      "n_neighbors: 2 n_splits: 6 KBest: 5 0.3708881698980709\n",
      "n_neighbors: 2 n_splits: 6 KBest: 6 0.41334809156591334\n",
      "n_neighbors: 2 n_splits: 6 KBest: 7 0.4195026259382695\n",
      "n_neighbors: 2 n_splits: 6 KBest: 8 0.42475085346372476\n",
      "n_neighbors: 2 n_splits: 6 KBest: 9 0.41994875163191997\n",
      "i 6 max: 0.43930982745686425\n",
      "n_neighbors: 2 n_splits: 7 KBest: 1 0.2933303436799694\n",
      "n_neighbors: 2 n_splits: 7 KBest: 2 0.3462865733911613\n",
      "n_neighbors: 2 n_splits: 7 KBest: 3 0.36399349876361875\n",
      "n_neighbors: 2 n_splits: 7 KBest: 4 0.37644596138560354\n",
      "n_neighbors: 2 n_splits: 7 KBest: 5 0.36954729425873184\n",
      "n_neighbors: 2 n_splits: 7 KBest: 6 0.41710514216179645\n",
      "n_neighbors: 2 n_splits: 7 KBest: 7 0.41620793123125427\n",
      "n_neighbors: 2 n_splits: 7 KBest: 8 0.4180050299238268\n",
      "n_neighbors: 2 n_splits: 7 KBest: 9 0.418304520129143\n",
      "i 7 max: 0.43930982745686425\n",
      "n_neighbors: 2 n_splits: 8 KBest: 1 0.28507680050437445\n",
      "n_neighbors: 2 n_splits: 8 KBest: 2 0.3404340153327518\n",
      "n_neighbors: 2 n_splits: 8 KBest: 3 0.34178635482970166\n",
      "n_neighbors: 2 n_splits: 8 KBest: 4 0.35589199708660446\n",
      "n_neighbors: 2 n_splits: 8 KBest: 5 0.3675929004695403\n",
      "n_neighbors: 2 n_splits: 8 KBest: 6 0.4247573129971413\n",
      "n_neighbors: 2 n_splits: 8 KBest: 7 0.4219085116060813\n",
      "n_neighbors: 2 n_splits: 8 KBest: 8 0.4186043122284885\n",
      "n_neighbors: 2 n_splits: 8 KBest: 9 0.41635377172451715\n",
      "i 8 max: 0.43930982745686425\n",
      "n_neighbors: 3 n_splits: 2 KBest: 1 0.32349253832946323\n",
      "n_neighbors: 3 n_splits: 2 KBest: 2 0.37524307652854116\n",
      "n_neighbors: 3 n_splits: 2 KBest: 3 0.396098133222686\n",
      "n_neighbors: 3 n_splits: 2 KBest: 4 0.40599984368184716\n",
      "n_neighbors: 3 n_splits: 2 KBest: 5 0.41320222958670416\n",
      "n_neighbors: 3 n_splits: 2 KBest: 6 0.4417102574603199\n",
      "n_neighbors: 3 n_splits: 2 KBest: 7 0.44036021249183743\n",
      "n_neighbors: 3 n_splits: 2 KBest: 8 0.4346589220746805\n",
      "n_neighbors: 3 n_splits: 2 KBest: 9 0.43120772161249743\n",
      "i 2 max: 0.4417102574603199\n",
      "n_neighbors: 3 n_splits: 3 KBest: 1 0.2963340683460512\n",
      "n_neighbors: 3 n_splits: 3 KBest: 2 0.3635382898938251\n",
      "n_neighbors: 3 n_splits: 3 KBest: 3 0.39534714389944176\n",
      "n_neighbors: 3 n_splits: 3 KBest: 4 0.4157518858594549\n",
      "n_neighbors: 3 n_splits: 3 KBest: 5 0.41230289170294787\n",
      "n_neighbors: 3 n_splits: 3 KBest: 6 0.44470849606347396\n",
      "n_neighbors: 3 n_splits: 3 KBest: 7 0.43720734072506756\n",
      "n_neighbors: 3 n_splits: 3 KBest: 8 0.44515962177037155\n"
     ]
    },
    {
     "name": "stdout",
     "output_type": "stream",
     "text": [
      "n_neighbors: 3 n_splits: 3 KBest: 9 0.43750777599146673\n",
      "i 3 max: 0.44515962177037155\n",
      "n_neighbors: 3 n_splits: 4 KBest: 1 0.3006876115773244\n",
      "n_neighbors: 3 n_splits: 4 KBest: 2 0.37539526908543863\n",
      "n_neighbors: 3 n_splits: 4 KBest: 3 0.3888994109941517\n",
      "n_neighbors: 3 n_splits: 4 KBest: 4 0.41470685454745787\n",
      "n_neighbors: 3 n_splits: 4 KBest: 5 0.40795343332293926\n",
      "n_neighbors: 3 n_splits: 4 KBest: 6 0.43345850637795613\n",
      "n_neighbors: 3 n_splits: 4 KBest: 7 0.44111156760244585\n",
      "n_neighbors: 3 n_splits: 4 KBest: 8 0.43825898685809056\n",
      "n_neighbors: 3 n_splits: 4 KBest: 9 0.4306074559397844\n",
      "i 4 max: 0.44515962177037155\n",
      "n_neighbors: 3 n_splits: 5 KBest: 1 0.32363090772693176\n",
      "n_neighbors: 3 n_splits: 5 KBest: 2 0.37704426106526634\n",
      "n_neighbors: 3 n_splits: 5 KBest: 3 0.39804951237809455\n",
      "n_neighbors: 3 n_splits: 5 KBest: 4 0.4103525881470368\n",
      "n_neighbors: 3 n_splits: 5 KBest: 5 0.40900225056264067\n",
      "n_neighbors: 3 n_splits: 5 KBest: 6 0.4468117029257314\n",
      "n_neighbors: 3 n_splits: 5 KBest: 7 0.4459114778694674\n",
      "n_neighbors: 3 n_splits: 5 KBest: 8 0.4378094523630908\n",
      "n_neighbors: 3 n_splits: 5 KBest: 9 0.4306076519129783\n",
      "i 5 max: 0.4468117029257314\n",
      "n_neighbors: 3 n_splits: 6 KBest: 1 0.36338417625546343\n",
      "n_neighbors: 3 n_splits: 6 KBest: 2 0.37254036214432257\n",
      "n_neighbors: 3 n_splits: 6 KBest: 3 0.3936954506261437\n",
      "n_neighbors: 3 n_splits: 6 KBest: 4 0.41455077940226465\n",
      "n_neighbors: 3 n_splits: 6 KBest: 5 0.40704894813805703\n",
      "n_neighbors: 3 n_splits: 6 KBest: 6 0.44650559650559646\n",
      "n_neighbors: 3 n_splits: 6 KBest: 7 0.45011041644705013\n",
      "n_neighbors: 3 n_splits: 6 KBest: 8 0.44155456086149153\n",
      "n_neighbors: 3 n_splits: 6 KBest: 9 0.4364544562564365\n",
      "i 6 max: 0.45011041644705013\n",
      "n_neighbors: 3 n_splits: 7 KBest: 1 0.31507377347581217\n",
      "n_neighbors: 3 n_splits: 7 KBest: 2 0.3852954088246001\n",
      "n_neighbors: 3 n_splits: 7 KBest: 3 0.40210307627773034\n",
      "n_neighbors: 3 n_splits: 7 KBest: 4 0.4163521652102604\n",
      "n_neighbors: 3 n_splits: 7 KBest: 5 0.4118557181529484\n",
      "n_neighbors: 3 n_splits: 7 KBest: 6 0.4429116872352298\n",
      "n_neighbors: 3 n_splits: 7 KBest: 7 0.4462147398308746\n",
      "n_neighbors: 3 n_splits: 7 KBest: 8 0.44096059200175347\n",
      "n_neighbors: 3 n_splits: 7 KBest: 9 0.435260043156822\n",
      "i 7 max: 0.45011041644705013\n",
      "n_neighbors: 3 n_splits: 8 KBest: 1 0.32617615391480337\n",
      "n_neighbors: 3 n_splits: 8 KBest: 2 0.35904127838185634\n",
      "n_neighbors: 3 n_splits: 8 KBest: 3 0.378848121982606\n",
      "n_neighbors: 3 n_splits: 8 KBest: 4 0.40285502690284747\n",
      "n_neighbors: 3 n_splits: 8 KBest: 5 0.4085540691096583\n",
      "n_neighbors: 3 n_splits: 8 KBest: 6 0.444861037940356\n",
      "n_neighbors: 3 n_splits: 8 KBest: 7 0.44651385734149773\n",
      "n_neighbors: 3 n_splits: 8 KBest: 8 0.4397597168363748\n",
      "n_neighbors: 3 n_splits: 8 KBest: 9 0.4342094751569693\n",
      "i 8 max: 0.45011041644705013\n",
      "n_neighbors: 4 n_splits: 2 KBest: 1 0.3180863254392666\n",
      "n_neighbors: 4 n_splits: 2 KBest: 2 0.3702935719742443\n",
      "n_neighbors: 4 n_splits: 2 KBest: 3 0.38934678281753743\n",
      "n_neighbors: 4 n_splits: 2 KBest: 4 0.4118524547532785\n",
      "n_neighbors: 4 n_splits: 2 KBest: 5 0.42355430020793194\n",
      "n_neighbors: 4 n_splits: 2 KBest: 6 0.44471069255785123\n",
      "n_neighbors: 4 n_splits: 2 KBest: 7 0.44381109779645433\n",
      "n_neighbors: 4 n_splits: 2 KBest: 8 0.43015757157948686\n",
      "n_neighbors: 4 n_splits: 2 KBest: 9 0.43450877200565197\n",
      "i 2 max: 0.45011041644705013\n",
      "n_neighbors: 4 n_splits: 3 KBest: 1 0.3350379387330899\n",
      "n_neighbors: 4 n_splits: 3 KBest: 2 0.37974240918013463\n",
      "n_neighbors: 4 n_splits: 3 KBest: 3 0.39849590542124896\n",
      "n_neighbors: 4 n_splits: 3 KBest: 4 0.4166522460440551\n",
      "n_neighbors: 4 n_splits: 3 KBest: 5 0.41800528544524873\n",
      "n_neighbors: 4 n_splits: 3 KBest: 6 0.4514608597284762\n",
      "n_neighbors: 4 n_splits: 3 KBest: 7 0.443059546837169\n",
      "n_neighbors: 4 n_splits: 3 KBest: 8 0.44770872854957716\n",
      "n_neighbors: 4 n_splits: 3 KBest: 9 0.43960845881976757\n",
      "i 3 max: 0.4514608597284762\n",
      "n_neighbors: 4 n_splits: 4 KBest: 1 0.3281448152146281\n",
      "n_neighbors: 4 n_splits: 4 KBest: 2 0.3818464998476895\n",
      "n_neighbors: 4 n_splits: 4 KBest: 3 0.39400163184649983\n",
      "n_neighbors: 4 n_splits: 4 KBest: 4 0.4036044831849957\n",
      "n_neighbors: 4 n_splits: 4 KBest: 5 0.41215601417531617\n",
      "n_neighbors: 4 n_splits: 4 KBest: 6 0.44771231828064156\n",
      "n_neighbors: 4 n_splits: 4 KBest: 7 0.4460619280705683\n",
      "n_neighbors: 4 n_splits: 4 KBest: 8 0.44441108777044114\n",
      "n_neighbors: 4 n_splits: 4 KBest: 9 0.4367587466900377\n",
      "i 4 max: 0.4514608597284762\n",
      "n_neighbors: 4 n_splits: 5 KBest: 1 0.29767441860465116\n",
      "n_neighbors: 4 n_splits: 5 KBest: 2 0.38019504876219057\n",
      "n_neighbors: 4 n_splits: 5 KBest: 3 0.3953488372093023\n",
      "n_neighbors: 4 n_splits: 5 KBest: 4 0.4133533383345836\n",
      "n_neighbors: 4 n_splits: 5 KBest: 5 0.41170292573143297\n",
      "n_neighbors: 4 n_splits: 5 KBest: 6 0.44831207801950484\n",
      "n_neighbors: 4 n_splits: 5 KBest: 7 0.4492123030757689\n",
      "n_neighbors: 4 n_splits: 5 KBest: 8 0.44666166541635405\n",
      "n_neighbors: 4 n_splits: 5 KBest: 9 0.44216054013503375\n",
      "i 5 max: 0.4514608597284762\n",
      "n_neighbors: 4 n_splits: 6 KBest: 1 0.36893473131096893\n",
      "n_neighbors: 4 n_splits: 6 KBest: 2 0.37494154820887493\n",
      "n_neighbors: 4 n_splits: 6 KBest: 3 0.3984968767146985\n",
      "n_neighbors: 4 n_splits: 6 KBest: 4 0.41170157556296166\n",
      "n_neighbors: 4 n_splits: 6 KBest: 5 0.40705124566510703\n",
      "n_neighbors: 4 n_splits: 6 KBest: 6 0.451908704383952\n",
      "n_neighbors: 4 n_splits: 6 KBest: 7 0.4538614672278039\n",
      "n_neighbors: 4 n_splits: 6 KBest: 8 0.45250889953860246\n",
      "n_neighbors: 4 n_splits: 6 KBest: 9 0.44725837448609723\n",
      "i 6 max: 0.4538614672278039\n",
      "n_neighbors: 4 n_splits: 7 KBest: 1 0.34043391753343516\n",
      "n_neighbors: 4 n_splits: 7 KBest: 2 0.3890456497394341\n",
      "n_neighbors: 4 n_splits: 7 KBest: 3 0.4039003324309786\n",
      "n_neighbors: 4 n_splits: 7 KBest: 4 0.4154562139651243\n",
      "n_neighbors: 4 n_splits: 7 KBest: 5 0.41365517875565755\n",
      "n_neighbors: 4 n_splits: 7 KBest: 6 0.44771187593610373\n",
      "n_neighbors: 4 n_splits: 7 KBest: 7 0.45206534869981574\n",
      "n_neighbors: 4 n_splits: 7 KBest: 8 0.4543137296891474\n",
      "n_neighbors: 4 n_splits: 7 KBest: 9 0.4459117854906915\n",
      "i 7 max: 0.4543137296891474\n",
      "n_neighbors: 4 n_splits: 8 KBest: 1 0.33007915396374377\n",
      "n_neighbors: 4 n_splits: 8 KBest: 2 0.3656431997259335\n",
      "n_neighbors: 4 n_splits: 8 KBest: 3 0.3807965632296084\n",
      "n_neighbors: 4 n_splits: 8 KBest: 4 0.40015700524814246\n",
      "n_neighbors: 4 n_splits: 8 KBest: 5 0.40690358877363897\n",
      "n_neighbors: 4 n_splits: 8 KBest: 6 0.4532627799321167\n",
      "n_neighbors: 4 n_splits: 8 KBest: 7 0.4567166794775464\n",
      "n_neighbors: 4 n_splits: 8 KBest: 8 0.4495127187565674\n",
      "n_neighbors: 4 n_splits: 8 KBest: 9 0.44726109868407793\n",
      "i 8 max: 0.4567166794775464\n"
     ]
    }
   ],
   "source": [
    "# максимальное значение: n_splits: 8 KBest: 7 0.48147352466166327167\n",
    "for t in lst_3:\n",
    "  model=KNeighborsClassifier(n_neighbors=t, weights='distance')\n",
    "  for i in lst_2:\n",
    "   kfold=KFold(n_splits=i,random_state=7,shuffle=True)\n",
    "   for j in lst_1:\n",
    "      test=SelectKBest(score_func=f_classif, k=j)\n",
    "      fit=test.fit(X,Y)\n",
    "      features=fit.transform(X)\n",
    "      results=cross_val_score(model, features, Y, cv=kfold)\n",
    "      res = results.mean()\n",
    "      k.append(res)\n",
    "      print(f'n_neighbors: {t} n_splits: {i} KBest: {j} {res}')\n",
    "   print(f'i {i} max: {max(k)}')"
   ]
  },
  {
   "cell_type": "markdown",
   "id": "319b84e7",
   "metadata": {},
   "source": [
    "**Вывод: отбор показал, что лучший результат дает выбор 7 лучших признаков**"
   ]
  },
  {
   "cell_type": "code",
   "execution_count": 53,
   "id": "0c1be316",
   "metadata": {},
   "outputs": [
    {
     "data": {
      "text/plain": [
       "array([  4.70368846, 496.43200214, 418.45793796, 354.51376472,\n",
       "        53.09011086,  20.75182914, 364.22358787,  92.0107774 ,\n",
       "        33.2485345 ])"
      ]
     },
     "execution_count": 53,
     "metadata": {},
     "output_type": "execute_result"
    }
   ],
   "source": [
    "test=SelectKBest(score_func=f_classif, k=6)\n",
    "fit=test.fit(X,Y)\n",
    "features=fit.transform(X)\n",
    "fit.scores_"
   ]
  },
  {
   "cell_type": "code",
   "execution_count": 54,
   "id": "5b57f2f1",
   "metadata": {},
   "outputs": [],
   "source": [
    "model=KNeighborsClassifier(n_neighbors=1)"
   ]
  },
  {
   "cell_type": "code",
   "execution_count": 55,
   "id": "a7c1a4e1",
   "metadata": {},
   "outputs": [
    {
     "data": {
      "text/plain": [
       "KNeighborsClassifier(n_neighbors=1)"
      ]
     },
     "execution_count": 55,
     "metadata": {},
     "output_type": "execute_result"
    }
   ],
   "source": [
    "model.fit(X,Y)"
   ]
  },
  {
   "cell_type": "code",
   "execution_count": 105,
   "id": "476206c5",
   "metadata": {},
   "outputs": [],
   "source": [
    "x_new=np.array([[0.0,22,0.0,2.0,3,4.0],[0.0,26,1.0,4.0,3,3.0]])"
   ]
  },
  {
   "cell_type": "code",
   "execution_count": 111,
   "id": "65de69c8",
   "metadata": {},
   "outputs": [],
   "source": [
    "x_new=np.array([[1,0.0,22,0.0,2.0,1.0,3,4.0,4.0\t],[0,0.0,26,1.0,4.0,1.0,3,3.0,6.0\t]])\n",
    "# первый = 4, второй = 1"
   ]
  },
  {
   "cell_type": "code",
   "execution_count": 112,
   "id": "b2927516",
   "metadata": {},
   "outputs": [
    {
     "data": {
      "text/plain": [
       "array([4., 1.])"
      ]
     },
     "execution_count": 112,
     "metadata": {},
     "output_type": "execute_result"
    }
   ],
   "source": [
    "model.predict(x_new)"
   ]
  },
  {
   "cell_type": "code",
   "execution_count": 113,
   "id": "2afe5dfa",
   "metadata": {},
   "outputs": [
    {
     "data": {
      "text/plain": [
       "array([[0., 0., 0., 1.],\n",
       "       [1., 0., 0., 0.]])"
      ]
     },
     "execution_count": 113,
     "metadata": {},
     "output_type": "execute_result"
    }
   ],
   "source": [
    "model.predict_proba(x_new)"
   ]
  },
  {
   "cell_type": "markdown",
   "id": "e374d896",
   "metadata": {},
   "source": [
    "Вывод:\n",
    "лучшими 7-ю признаками будут: **'Семейное_положение', 'Возраст', 'Высшее_образование', 'Профессия', 'Уровень_расходов', 'Размер_семьи', 'Анонимная_категория'**"
   ]
  },
  {
   "cell_type": "markdown",
   "id": "0359e00a",
   "metadata": {},
   "source": [
    "============================================================================================"
   ]
  },
  {
   "cell_type": "code",
   "execution_count": 101,
   "id": "fdefc332",
   "metadata": {},
   "outputs": [],
   "source": [
    "from sklearn.preprocessing import StandardScaler"
   ]
  },
  {
   "cell_type": "code",
   "execution_count": 36,
   "id": "fe9d2b1e",
   "metadata": {},
   "outputs": [],
   "source": [
    "scaler=StandardScaler().fit(X)"
   ]
  },
  {
   "cell_type": "code",
   "execution_count": 37,
   "id": "9f3b76e2",
   "metadata": {},
   "outputs": [],
   "source": [
    "rescaledX=scaler.transform(X)"
   ]
  },
  {
   "cell_type": "code",
   "execution_count": 38,
   "id": "fa9135c0",
   "metadata": {},
   "outputs": [],
   "source": [
    "X = rescaledX"
   ]
  },
  {
   "cell_type": "code",
   "execution_count": 102,
   "id": "a7b2f309",
   "metadata": {},
   "outputs": [],
   "source": [
    "from sklearn.model_selection import train_test_split"
   ]
  },
  {
   "cell_type": "code",
   "execution_count": 57,
   "id": "292ae61e",
   "metadata": {},
   "outputs": [],
   "source": [
    "x_train, x_test, y_train, y_test = train_test_split(X, Y, test_size = 0.3)"
   ]
  },
  {
   "cell_type": "code",
   "execution_count": 103,
   "id": "60ef0a46",
   "metadata": {},
   "outputs": [],
   "source": [
    "from sklearn.neighbors import KNeighborsClassifier"
   ]
  },
  {
   "cell_type": "code",
   "execution_count": 59,
   "id": "a39cbc5c",
   "metadata": {},
   "outputs": [],
   "source": [
    "model = KNeighborsClassifier(n_neighbors = 13, weights='distance')"
   ]
  },
  {
   "cell_type": "code",
   "execution_count": 60,
   "id": "1697a0d3",
   "metadata": {},
   "outputs": [
    {
     "data": {
      "text/plain": [
       "KNeighborsClassifier(n_neighbors=13, weights='distance')"
      ]
     },
     "execution_count": 60,
     "metadata": {},
     "output_type": "execute_result"
    }
   ],
   "source": [
    "model.fit(x_train, y_train)"
   ]
  },
  {
   "cell_type": "code",
   "execution_count": 61,
   "id": "3ebcaa12",
   "metadata": {},
   "outputs": [],
   "source": [
    "predictions = model.predict(x_test)"
   ]
  },
  {
   "cell_type": "code",
   "execution_count": 104,
   "id": "cbee3fef",
   "metadata": {},
   "outputs": [],
   "source": [
    "from sklearn.metrics import classification_report\n",
    "from sklearn.metrics import confusion_matrix"
   ]
  },
  {
   "cell_type": "code",
   "execution_count": 63,
   "id": "9ed95644",
   "metadata": {},
   "outputs": [
    {
     "name": "stdout",
     "output_type": "stream",
     "text": [
      "              precision    recall  f1-score   support\n",
      "\n",
      "         1.0       0.39      0.36      0.37       481\n",
      "         2.0       0.32      0.25      0.28       476\n",
      "         3.0       0.44      0.58      0.50       484\n",
      "         4.0       0.63      0.62      0.63       559\n",
      "\n",
      "    accuracy                           0.46      2000\n",
      "   macro avg       0.45      0.45      0.45      2000\n",
      "weighted avg       0.45      0.46      0.45      2000\n",
      "\n"
     ]
    }
   ],
   "source": [
    "print(classification_report(y_test, predictions))"
   ]
  },
  {
   "cell_type": "code",
   "execution_count": 16,
   "id": "d9fad2cd",
   "metadata": {},
   "outputs": [
    {
     "name": "stdout",
     "output_type": "stream",
     "text": [
      "[[177  98  90 133]\n",
      " [130 124 156  70]\n",
      " [ 61 113 264  57]\n",
      " [102  57  40 328]]\n"
     ]
    }
   ],
   "source": [
    "print(confusion_matrix(y_test, predictions))"
   ]
  },
  {
   "cell_type": "markdown",
   "id": "658e9336",
   "metadata": {},
   "source": [
    "   # **Выбираем количество соседей:**"
   ]
  },
  {
   "cell_type": "code",
   "execution_count": 17,
   "id": "c9411b95",
   "metadata": {},
   "outputs": [],
   "source": [
    "error_rates = []"
   ]
  },
  {
   "cell_type": "markdown",
   "id": "835b76aa",
   "metadata": {},
   "source": [
    "**Здесь создаем список ошибок, чем число меньше, тем меньше ошибка**"
   ]
  },
  {
   "cell_type": "code",
   "execution_count": 18,
   "id": "08d1f903",
   "metadata": {},
   "outputs": [],
   "source": [
    "for i in np.arange(1, 101):\n",
    "    new_model = KNeighborsClassifier(n_neighbors = i)\n",
    "    new_model.fit(x_train, y_train)\n",
    "    new_predictions = new_model.predict(x_test)\n",
    "    error_rates.append(np.mean(new_predictions != y_test))"
   ]
  },
  {
   "cell_type": "code",
   "execution_count": 19,
   "id": "accfa342",
   "metadata": {},
   "outputs": [
    {
     "data": {
      "text/plain": [
       "[<matplotlib.lines.Line2D at 0x15f2b34c250>]"
      ]
     },
     "execution_count": 19,
     "metadata": {},
     "output_type": "execute_result"
    },
    {
     "data": {
      "image/png": "[encoded data removed]",
      "text/plain": [
       "<Figure size 432x288 with 1 Axes>"
      ]
     },
     "metadata": {
      "needs_background": "light"
     },
     "output_type": "display_data"
    }
   ],
   "source": [
    "import matplotlib.pyplot as plt\n",
    "import seaborn as sns\n",
    "plt.plot(error_rates)"
   ]
  },
  {
   "cell_type": "code",
   "execution_count": 52,
   "id": "b2f073c8",
   "metadata": {
    "collapsed": true
   },
   "outputs": [
    {
     "data": {
      "text/plain": [
       "[0.556,\n",
       " 0.592,\n",
       " 0.5515,\n",
       " 0.552,\n",
       " 0.526,\n",
       " 0.532,\n",
       " 0.5295,\n",
       " 0.531,\n",
       " 0.531,\n",
       " 0.516,\n",
       " 0.521,\n",
       " 0.5205,\n",
       " 0.5045,\n",
       " 0.515,\n",
       " 0.517,\n",
       " 0.5215,\n",
       " 0.5145,\n",
       " 0.5175,\n",
       " 0.5115,\n",
       " 0.5125,\n",
       " 0.507,\n",
       " 0.5145,\n",
       " 0.516,\n",
       " 0.5225,\n",
       " 0.5195,\n",
       " 0.517,\n",
       " 0.5165,\n",
       " 0.5175,\n",
       " 0.5115,\n",
       " 0.5075,\n",
       " 0.5105,\n",
       " 0.511,\n",
       " 0.511,\n",
       " 0.505,\n",
       " 0.5065,\n",
       " 0.506,\n",
       " 0.5065,\n",
       " 0.51,\n",
       " 0.513,\n",
       " 0.512,\n",
       " 0.515,\n",
       " 0.5165,\n",
       " 0.5115,\n",
       " 0.512,\n",
       " 0.513,\n",
       " 0.514,\n",
       " 0.5145,\n",
       " 0.51,\n",
       " 0.512,\n",
       " 0.512,\n",
       " 0.5095,\n",
       " 0.5135,\n",
       " 0.5135,\n",
       " 0.518,\n",
       " 0.514,\n",
       " 0.519,\n",
       " 0.5155,\n",
       " 0.517,\n",
       " 0.517,\n",
       " 0.516,\n",
       " 0.5135,\n",
       " 0.5145,\n",
       " 0.5115,\n",
       " 0.5155,\n",
       " 0.5145,\n",
       " 0.5155,\n",
       " 0.5165,\n",
       " 0.5115,\n",
       " 0.5135,\n",
       " 0.516,\n",
       " 0.5155,\n",
       " 0.5145,\n",
       " 0.5165,\n",
       " 0.5125,\n",
       " 0.5165,\n",
       " 0.5165,\n",
       " 0.5165,\n",
       " 0.5165,\n",
       " 0.5175,\n",
       " 0.514,\n",
       " 0.509,\n",
       " 0.513,\n",
       " 0.5105,\n",
       " 0.513,\n",
       " 0.515,\n",
       " 0.5125,\n",
       " 0.5145,\n",
       " 0.517,\n",
       " 0.5165,\n",
       " 0.515,\n",
       " 0.518,\n",
       " 0.514,\n",
       " 0.517,\n",
       " 0.516,\n",
       " 0.5155,\n",
       " 0.517,\n",
       " 0.518,\n",
       " 0.517,\n",
       " 0.514,\n",
       " 0.512]"
      ]
     },
     "execution_count": 52,
     "metadata": {},
     "output_type": "execute_result"
    }
   ],
   "source": [
    "error_rates"
   ]
  },
  {
   "cell_type": "markdown",
   "id": "93f7ba4b",
   "metadata": {},
   "source": [
    "======================================================================="
   ]
  },
  {
   "cell_type": "code",
   "execution_count": 23,
   "id": "612ff7c8",
   "metadata": {},
   "outputs": [],
   "source": [
    "lst_1 = list(range(1,100))\n",
    "k = []"
   ]
  },
  {
   "cell_type": "code",
   "execution_count": 21,
   "id": "d329a232",
   "metadata": {},
   "outputs": [],
   "source": [
    "x_new=np.array([[1,1.0,36,0.0,7.0,1.0,1,6.0,4.0],[1,1.0,52,1.0,7.0,1.0,1,4.0,1.0],[1,1.0,60,1.0,7.0,0.0,1,3.0,6.0]]) # 4,3,2\n",
    "                "
   ]
  },
  {
   "cell_type": "code",
   "execution_count": 94,
   "id": "dd030a81",
   "metadata": {
    "collapsed": true
   },
   "outputs": [
    {
     "name": "stdout",
     "output_type": "stream",
     "text": [
      "[4. 3. 2.]\n",
      "[1. 3. 2.]\n",
      "[1. 3. 2.]\n",
      "[1. 3. 2.]\n",
      "[1. 3. 2.]\n",
      "[1. 3. 2.]\n",
      "[2. 3. 3.]\n",
      "[2. 2. 3.]\n",
      "[2. 3. 3.]\n",
      "[2. 2. 3.]\n",
      "[2. 3. 3.]\n",
      "[1. 3. 3.]\n",
      "[1. 2. 3.]\n",
      "[1. 2. 3.]\n",
      "[2. 2. 3.]\n",
      "[1. 2. 3.]\n",
      "[1. 2. 3.]\n",
      "[1. 2. 3.]\n",
      "[1. 2. 3.]\n",
      "[4. 2. 3.]\n",
      "[4. 2. 3.]\n",
      "[2. 2. 3.]\n",
      "[2. 2. 3.]\n",
      "[2. 2. 3.]\n",
      "[2. 2. 3.]\n",
      "[4. 2. 3.]\n",
      "[4. 2. 3.]\n",
      "[4. 2. 3.]\n",
      "[4. 2. 3.]\n",
      "[4. 2. 3.]\n",
      "[2. 2. 3.]\n",
      "[4. 2. 3.]\n",
      "[4. 2. 3.]\n",
      "[4. 2. 3.]\n",
      "[2. 2. 3.]\n",
      "[2. 2. 3.]\n",
      "[4. 2. 3.]\n",
      "[4. 2. 3.]\n",
      "[4. 2. 3.]\n",
      "[4. 2. 3.]\n",
      "[4. 2. 3.]\n",
      "[4. 2. 3.]\n",
      "[4. 2. 3.]\n",
      "[4. 2. 3.]\n",
      "[4. 2. 3.]\n",
      "[4. 2. 3.]\n",
      "[4. 2. 3.]\n",
      "[4. 2. 3.]\n",
      "[4. 2. 3.]\n",
      "[4. 2. 3.]\n",
      "[4. 2. 3.]\n",
      "[4. 2. 3.]\n",
      "[4. 2. 3.]\n",
      "[4. 2. 3.]\n",
      "[4. 2. 3.]\n",
      "[4. 2. 3.]\n",
      "[1. 2. 3.]\n",
      "[1. 2. 3.]\n",
      "[1. 2. 3.]\n",
      "[4. 2. 3.]\n",
      "[4. 2. 3.]\n",
      "[1. 2. 3.]\n",
      "[1. 2. 3.]\n",
      "[1. 2. 3.]\n",
      "[4. 2. 3.]\n",
      "[2. 2. 3.]\n",
      "[4. 2. 3.]\n",
      "[2. 2. 3.]\n",
      "[2. 2. 3.]\n",
      "[2. 2. 3.]\n",
      "[2. 2. 3.]\n",
      "[2. 2. 3.]\n",
      "[2. 2. 3.]\n",
      "[2. 2. 3.]\n",
      "[2. 2. 3.]\n",
      "[2. 2. 3.]\n",
      "[2. 2. 3.]\n",
      "[2. 2. 3.]\n",
      "[2. 2. 3.]\n",
      "[4. 2. 3.]\n",
      "[4. 2. 3.]\n",
      "[2. 2. 3.]\n",
      "[4. 2. 3.]\n",
      "[4. 2. 3.]\n",
      "[4. 2. 3.]\n",
      "[4. 2. 3.]\n",
      "[4. 2. 3.]\n",
      "[4. 2. 3.]\n",
      "[4. 2. 3.]\n",
      "[4. 2. 3.]\n",
      "[4. 2. 3.]\n",
      "[4. 2. 3.]\n",
      "[4. 2. 3.]\n",
      "[4. 2. 3.]\n",
      "[1. 2. 3.]\n",
      "[1. 2. 3.]\n",
      "[2. 2. 3.]\n",
      "[1. 2. 3.]\n",
      "[2. 2. 3.]\n"
     ]
    }
   ],
   "source": [
    "x_new=np.array([[1,1.0,36,0.0,7.0,1.0,1,6.0,4.0],[1,1.0,52,1.0,7.0,1.0,1,4.0,1.0],[1,1.0,60,1.0,7.0,0.0,1,3.0,6.0]])\n",
    "for t in lst_1:\n",
    "  model=KNeighborsClassifier(n_neighbors=t)\n",
    "  model.fit(X,Y)\n",
    "  res = model.predict(x_new)\n",
    "  print(res)\n",
    "  k.append(res)\n",
    "#print(k)"
   ]
  },
  {
   "cell_type": "code",
   "execution_count": 26,
   "id": "e72acba9",
   "metadata": {
    "collapsed": true
   },
   "outputs": [
    {
     "name": "stdout",
     "output_type": "stream",
     "text": [
      "[4. 3. 2.]\n",
      "[4. 3. 2.]\n",
      "[4. 3. 2.]\n",
      "[4. 3. 2.]\n",
      "[4. 3. 2.]\n",
      "[4. 3. 2.]\n",
      "[4. 3. 2.]\n",
      "[4. 3. 2.]\n",
      "[4. 3. 2.]\n",
      "[4. 3. 2.]\n",
      "[4. 3. 2.]\n",
      "[4. 3. 2.]\n",
      "[4. 3. 2.]\n",
      "[4. 3. 2.]\n",
      "[4. 3. 2.]\n",
      "[4. 3. 2.]\n",
      "[4. 3. 2.]\n",
      "[4. 3. 2.]\n",
      "[4. 3. 2.]\n",
      "[4. 3. 2.]\n",
      "[4. 3. 2.]\n",
      "[4. 3. 2.]\n",
      "[4. 3. 2.]\n",
      "[4. 3. 2.]\n",
      "[4. 3. 2.]\n",
      "[4. 3. 2.]\n",
      "[4. 3. 2.]\n",
      "[4. 3. 2.]\n",
      "[4. 3. 2.]\n",
      "[4. 3. 2.]\n",
      "[4. 3. 2.]\n",
      "[4. 3. 2.]\n",
      "[4. 3. 2.]\n",
      "[4. 3. 2.]\n",
      "[4. 3. 2.]\n",
      "[4. 3. 2.]\n",
      "[4. 3. 2.]\n",
      "[4. 3. 2.]\n",
      "[4. 3. 2.]\n",
      "[4. 3. 2.]\n",
      "[4. 3. 2.]\n",
      "[4. 3. 2.]\n",
      "[4. 3. 2.]\n",
      "[4. 3. 2.]\n",
      "[4. 3. 2.]\n",
      "[4. 3. 2.]\n",
      "[4. 3. 2.]\n",
      "[4. 3. 2.]\n",
      "[4. 3. 2.]\n",
      "[4. 3. 2.]\n",
      "[4. 3. 2.]\n",
      "[4. 3. 2.]\n",
      "[4. 3. 2.]\n",
      "[4. 3. 2.]\n",
      "[4. 3. 2.]\n",
      "[4. 3. 2.]\n",
      "[4. 3. 2.]\n",
      "[4. 3. 2.]\n",
      "[4. 3. 2.]\n",
      "[4. 3. 2.]\n",
      "[4. 3. 2.]\n",
      "[4. 3. 2.]\n",
      "[4. 3. 2.]\n",
      "[4. 3. 2.]\n",
      "[4. 3. 2.]\n",
      "[4. 3. 2.]\n",
      "[4. 3. 2.]\n",
      "[4. 3. 2.]\n",
      "[4. 3. 2.]\n",
      "[4. 3. 2.]\n",
      "[4. 3. 2.]\n",
      "[4. 3. 2.]\n",
      "[4. 3. 2.]\n",
      "[4. 3. 2.]\n",
      "[4. 3. 2.]\n",
      "[4. 3. 2.]\n",
      "[4. 3. 2.]\n",
      "[4. 3. 2.]\n",
      "[4. 3. 2.]\n",
      "[4. 3. 2.]\n",
      "[4. 3. 2.]\n",
      "[4. 3. 2.]\n",
      "[4. 3. 2.]\n",
      "[4. 3. 2.]\n",
      "[4. 3. 2.]\n",
      "[4. 3. 2.]\n",
      "[4. 3. 2.]\n",
      "[4. 3. 2.]\n",
      "[4. 3. 2.]\n",
      "[4. 3. 2.]\n",
      "[4. 3. 2.]\n",
      "[4. 3. 2.]\n",
      "[4. 3. 2.]\n",
      "[4. 3. 2.]\n",
      "[4. 3. 2.]\n",
      "[4. 3. 2.]\n",
      "[4. 3. 2.]\n",
      "[4. 3. 2.]\n",
      "[4. 3. 2.]\n"
     ]
    }
   ],
   "source": [
    "x_new=np.array([[1,1.0,36,0.0,7.0,1.0,1,6.0,4.0],[1,1.0,52,1.0,7.0,1.0,1,4.0,1.0],[1,1.0,60,1.0,7.0,0.0,1,3.0,6.0]])\n",
    "for t in lst_1:\n",
    "  model=KNeighborsClassifier(n_neighbors=t, weights='distance')\n",
    "  model.fit(X,Y)\n",
    "  res = model.predict(x_new)\n",
    "  print(res)\n",
    "  k.append(res)\n",
    "#print(k)"
   ]
  },
  {
   "cell_type": "code",
   "execution_count": null,
   "id": "6188ac71",
   "metadata": {},
   "outputs": [],
   "source": [
    "x_new=np.array([[1,0.0,22,0.0,2.0,1.0,3,4.0,4.0\t],[0,0.0,26,1.0,4.0,1.0,3,3.0,6.0\t]])\n",
    "# первый = 4, второй = 1"
   ]
  },
  {
   "cell_type": "code",
   "execution_count": 29,
   "id": "d8d193a7",
   "metadata": {
    "collapsed": true
   },
   "outputs": [
    {
     "name": "stdout",
     "output_type": "stream",
     "text": [
      "[4. 1.]\n",
      "[4. 1.]\n",
      "[4. 1.]\n",
      "[4. 1.]\n",
      "[4. 1.]\n",
      "[4. 1.]\n",
      "[4. 1.]\n",
      "[4. 1.]\n",
      "[4. 1.]\n",
      "[4. 1.]\n",
      "[4. 1.]\n",
      "[4. 1.]\n",
      "[4. 1.]\n",
      "[4. 1.]\n",
      "[4. 1.]\n",
      "[4. 1.]\n",
      "[4. 1.]\n",
      "[4. 1.]\n",
      "[4. 1.]\n",
      "[4. 1.]\n",
      "[4. 1.]\n",
      "[4. 1.]\n",
      "[4. 1.]\n",
      "[4. 1.]\n",
      "[4. 1.]\n",
      "[4. 1.]\n",
      "[4. 1.]\n",
      "[4. 1.]\n",
      "[4. 1.]\n",
      "[4. 1.]\n",
      "[4. 1.]\n",
      "[4. 1.]\n",
      "[4. 1.]\n",
      "[4. 1.]\n",
      "[4. 1.]\n",
      "[4. 1.]\n",
      "[4. 1.]\n",
      "[4. 1.]\n",
      "[4. 1.]\n",
      "[4. 1.]\n",
      "[4. 1.]\n",
      "[4. 1.]\n",
      "[4. 1.]\n",
      "[4. 1.]\n",
      "[4. 1.]\n",
      "[4. 1.]\n",
      "[4. 1.]\n",
      "[4. 1.]\n",
      "[4. 1.]\n",
      "[4. 1.]\n",
      "[4. 1.]\n",
      "[4. 1.]\n",
      "[4. 1.]\n",
      "[4. 1.]\n",
      "[4. 1.]\n",
      "[4. 1.]\n",
      "[4. 1.]\n",
      "[4. 1.]\n",
      "[4. 1.]\n",
      "[4. 1.]\n",
      "[4. 1.]\n",
      "[4. 1.]\n",
      "[4. 1.]\n",
      "[4. 1.]\n",
      "[4. 1.]\n",
      "[4. 1.]\n",
      "[4. 1.]\n",
      "[4. 1.]\n",
      "[4. 1.]\n",
      "[4. 1.]\n",
      "[4. 1.]\n",
      "[4. 1.]\n",
      "[4. 1.]\n",
      "[4. 1.]\n",
      "[4. 1.]\n",
      "[4. 1.]\n",
      "[4. 1.]\n",
      "[4. 1.]\n",
      "[4. 1.]\n",
      "[4. 1.]\n",
      "[4. 1.]\n",
      "[4. 1.]\n",
      "[4. 1.]\n",
      "[4. 1.]\n",
      "[4. 1.]\n",
      "[4. 1.]\n",
      "[4. 1.]\n",
      "[4. 1.]\n",
      "[4. 1.]\n",
      "[4. 1.]\n",
      "[4. 1.]\n",
      "[4. 1.]\n",
      "[4. 1.]\n",
      "[4. 1.]\n",
      "[4. 1.]\n",
      "[4. 1.]\n",
      "[4. 1.]\n",
      "[4. 1.]\n",
      "[4. 1.]\n"
     ]
    }
   ],
   "source": [
    "x_new=np.array([[1,0.0,22,0.0,2.0,1.0,3,4.0,4.0\t],[0,0.0,26,1.0,4.0,1.0,3,3.0,6.0\t]])\n",
    "for t in lst_1:\n",
    "  model=KNeighborsClassifier(n_neighbors=t, weights='distance')\n",
    "  model.fit(X,Y)\n",
    "  res = model.predict(x_new)\n",
    "  print(res)\n",
    "  k.append(res)\n",
    "#print(k)"
   ]
  },
  {
   "cell_type": "markdown",
   "id": "74bf927f",
   "metadata": {},
   "source": [
    "================================================================================================================"
   ]
  },
  {
   "cell_type": "code",
   "execution_count": null,
   "id": "678d37f3",
   "metadata": {},
   "outputs": [],
   "source": []
  },
  {
   "cell_type": "code",
   "execution_count": 33,
   "id": "3f21d343",
   "metadata": {},
   "outputs": [],
   "source": [
    "from sklearn.model_selection import train_test_split"
   ]
  },
  {
   "cell_type": "code",
   "execution_count": 34,
   "id": "1cb723f3",
   "metadata": {},
   "outputs": [],
   "source": [
    "x_train, x_test, y_train, y_test = train_test_split(X, Y, test_size = 0.3)"
   ]
  },
  {
   "cell_type": "code",
   "execution_count": 35,
   "id": "b67c46b5",
   "metadata": {},
   "outputs": [],
   "source": [
    "from sklearn.neighbors import KNeighborsClassifier"
   ]
  },
  {
   "cell_type": "code",
   "execution_count": 36,
   "id": "14070231",
   "metadata": {},
   "outputs": [],
   "source": [
    "model = KNeighborsClassifier(n_neighbors = 13, weights='distance')"
   ]
  },
  {
   "cell_type": "code",
   "execution_count": 37,
   "id": "214f4dcc",
   "metadata": {},
   "outputs": [
    {
     "data": {
      "text/plain": [
       "KNeighborsClassifier(n_neighbors=13, weights='distance')"
      ]
     },
     "execution_count": 37,
     "metadata": {},
     "output_type": "execute_result"
    }
   ],
   "source": [
    "model.fit(x_train, y_train)"
   ]
  },
  {
   "cell_type": "code",
   "execution_count": 38,
   "id": "29670e63",
   "metadata": {},
   "outputs": [],
   "source": [
    "predictions = model.predict(x_test)"
   ]
  },
  {
   "cell_type": "code",
   "execution_count": 39,
   "id": "ab7ae057",
   "metadata": {},
   "outputs": [],
   "source": [
    "from sklearn.metrics import classification_report\n",
    "from sklearn.metrics import confusion_matrix"
   ]
  },
  {
   "cell_type": "code",
   "execution_count": 105,
   "id": "1e5d2aed",
   "metadata": {},
   "outputs": [],
   "source": [
    "from sklearn.model_selection import KFold\n",
    "from sklearn.model_selection import cross_val_score"
   ]
  },
  {
   "cell_type": "code",
   "execution_count": 44,
   "id": "4e4464a6",
   "metadata": {},
   "outputs": [
    {
     "data": {
      "text/plain": [
       "0.4484957221089155"
      ]
     },
     "execution_count": 44,
     "metadata": {},
     "output_type": "execute_result"
    }
   ],
   "source": [
    "results=cross_val_score(model, x_test, y_test, cv=3)\n",
    "results.mean()\n",
    "\n"
   ]
  },
  {
   "cell_type": "code",
   "execution_count": 40,
   "id": "80781e37",
   "metadata": {
    "collapsed": true
   },
   "outputs": [
    {
     "name": "stdout",
     "output_type": "stream",
     "text": [
      "[[166 125  91 102]\n",
      " [104 118 177  55]\n",
      " [ 61 133 286  48]\n",
      " [ 89  43  45 357]]\n"
     ]
    }
   ],
   "source": [
    "print(confusion_matrix(y_test, predictions))"
   ]
  },
  {
   "cell_type": "markdown",
   "id": "a0700504",
   "metadata": {},
   "source": [
    "================================================================"
   ]
  },
  {
   "cell_type": "markdown",
   "id": "46de99b5",
   "metadata": {},
   "source": [
    "# **3. Учим, проверяем модель**"
   ]
  },
  {
   "cell_type": "code",
   "execution_count": 111,
   "id": "1a7fe891",
   "metadata": {},
   "outputs": [],
   "source": [
    "from sklearn.neighbors import KNeighborsClassifier"
   ]
  },
  {
   "cell_type": "code",
   "execution_count": 112,
   "id": "fbf1181a",
   "metadata": {},
   "outputs": [],
   "source": [
    "model = KNeighborsClassifier(n_neighbors = 13, weights='distance')"
   ]
  },
  {
   "cell_type": "code",
   "execution_count": 113,
   "id": "86ce5261",
   "metadata": {},
   "outputs": [
    {
     "data": {
      "text/plain": [
       "KNeighborsClassifier(n_neighbors=13, weights='distance')"
      ]
     },
     "execution_count": 113,
     "metadata": {},
     "output_type": "execute_result"
    }
   ],
   "source": [
    "model.fit(X,Y)"
   ]
  },
  {
   "cell_type": "code",
   "execution_count": 114,
   "id": "58c52acd",
   "metadata": {},
   "outputs": [],
   "source": [
    "predictions = model.predict(XX)"
   ]
  },
  {
   "cell_type": "code",
   "execution_count": 115,
   "id": "6442ed21",
   "metadata": {},
   "outputs": [],
   "source": [
    "from sklearn.metrics import classification_report\n",
    "from sklearn.metrics import confusion_matrix"
   ]
  },
  {
   "cell_type": "code",
   "execution_count": 116,
   "id": "fd3055a8",
   "metadata": {},
   "outputs": [
    {
     "name": "stdout",
     "output_type": "stream",
     "text": [
      "              precision    recall  f1-score   support\n",
      "\n",
      "         1.0       0.93      0.99      0.96      1616\n",
      "         2.0       0.93      0.94      0.93      1572\n",
      "         3.0       0.96      0.93      0.94      1720\n",
      "         4.0       0.99      0.96      0.98      1757\n",
      "\n",
      "    accuracy                           0.95      6665\n",
      "   macro avg       0.95      0.95      0.95      6665\n",
      "weighted avg       0.95      0.95      0.95      6665\n",
      "\n"
     ]
    }
   ],
   "source": [
    "print(classification_report(YY, predictions))"
   ]
  },
  {
   "cell_type": "code",
   "execution_count": 70,
   "id": "e68051da",
   "metadata": {},
   "outputs": [
    {
     "name": "stdout",
     "output_type": "stream",
     "text": [
      "[[1594   11    9    2]\n",
      " [  70 1475   24    3]\n",
      " [  37   85 1594    4]\n",
      " [  21   14   28 1694]]\n"
     ]
    }
   ],
   "source": [
    "print(confusion_matrix(YY, predictions))"
   ]
  },
  {
   "cell_type": "code",
   "execution_count": 27,
   "id": "12f8e639",
   "metadata": {},
   "outputs": [],
   "source": [
    "x_new = XX[1000:1020]"
   ]
  },
  {
   "cell_type": "code",
   "execution_count": 28,
   "id": "bae98a66",
   "metadata": {},
   "outputs": [
    {
     "data": {
      "text/plain": [
       "array([2., 3., 2., 3., 3., 2., 2., 2., 2., 3., 4., 1., 3., 2., 3., 1., 1.,\n",
       "       4., 4., 3.])"
      ]
     },
     "execution_count": 28,
     "metadata": {},
     "output_type": "execute_result"
    }
   ],
   "source": [
    "YY[1000:1020]"
   ]
  },
  {
   "cell_type": "markdown",
   "id": "f1f0ea18",
   "metadata": {},
   "source": [
    "=========================================="
   ]
  },
  {
   "cell_type": "code",
   "execution_count": 29,
   "id": "0329ddc2",
   "metadata": {},
   "outputs": [],
   "source": [
    "lst_1 = list(range(1,100))\n",
    "k = []"
   ]
  },
  {
   "cell_type": "code",
   "execution_count": 82,
   "id": "b91acf46",
   "metadata": {
    "collapsed": true
   },
   "outputs": [
    {
     "name": "stdout",
     "output_type": "stream",
     "text": [
      "[2. 3. 2. 3. 3. 2. 2. 2. 2. 3. 4. 1. 3. 2. 3. 1. 2. 4. 4. 3.]\n",
      "[2. 3. 2. 3. 3. 2. 2. 2. 2. 3. 4. 1. 3. 2. 3. 1. 1. 4. 4. 3.]\n",
      "[2. 3. 2. 3. 2. 2. 2. 2. 2. 3. 4. 1. 3. 2. 3. 1. 2. 4. 4. 3.]\n",
      "[2. 3. 2. 3. 2. 2. 2. 2. 2. 3. 4. 1. 3. 2. 3. 1. 2. 4. 4. 3.]\n",
      "[2. 3. 2. 3. 2. 2. 2. 2. 2. 3. 4. 1. 3. 2. 3. 1. 2. 4. 4. 3.]\n",
      "[2. 3. 2. 3. 2. 2. 2. 2. 2. 3. 4. 1. 3. 2. 3. 1. 2. 4. 4. 3.]\n",
      "[2. 3. 2. 3. 2. 2. 2. 2. 2. 3. 4. 1. 3. 2. 3. 1. 2. 4. 4. 3.]\n",
      "[2. 3. 2. 3. 2. 2. 2. 2. 2. 3. 4. 1. 3. 2. 3. 1. 2. 4. 4. 3.]\n",
      "[2. 3. 2. 3. 2. 2. 2. 2. 2. 3. 4. 1. 3. 2. 3. 1. 2. 4. 4. 3.]\n",
      "[2. 3. 2. 3. 2. 2. 2. 2. 2. 3. 4. 1. 3. 2. 3. 1. 2. 4. 4. 3.]\n",
      "[2. 3. 2. 3. 2. 2. 2. 2. 2. 3. 4. 1. 3. 2. 3. 1. 2. 4. 4. 3.]\n",
      "[2. 3. 2. 3. 2. 2. 2. 2. 2. 3. 4. 1. 3. 2. 3. 1. 2. 4. 4. 3.]\n",
      "[2. 3. 2. 3. 2. 2. 2. 2. 2. 3. 4. 1. 3. 2. 3. 1. 2. 4. 4. 3.]\n",
      "[2. 3. 2. 3. 2. 2. 2. 2. 2. 3. 4. 1. 3. 2. 3. 1. 2. 4. 4. 3.]\n",
      "[2. 3. 2. 3. 2. 2. 2. 2. 2. 3. 4. 1. 3. 2. 3. 1. 2. 4. 4. 3.]\n",
      "[2. 3. 2. 3. 2. 2. 2. 2. 2. 3. 4. 1. 3. 2. 3. 1. 2. 4. 4. 3.]\n",
      "[2. 3. 2. 3. 2. 2. 2. 2. 2. 3. 4. 1. 3. 2. 3. 1. 2. 4. 4. 3.]\n",
      "[2. 3. 2. 3. 2. 2. 2. 2. 2. 3. 4. 1. 3. 2. 3. 1. 2. 4. 4. 3.]\n",
      "[2. 3. 2. 3. 2. 2. 2. 2. 2. 3. 4. 1. 3. 2. 3. 1. 2. 4. 4. 3.]\n",
      "[2. 3. 2. 3. 2. 2. 2. 2. 2. 3. 4. 1. 3. 2. 3. 1. 2. 4. 4. 3.]\n",
      "[2. 3. 2. 3. 2. 2. 2. 2. 2. 3. 4. 1. 3. 2. 3. 1. 2. 4. 4. 3.]\n",
      "[2. 3. 2. 3. 2. 2. 2. 2. 2. 3. 4. 1. 3. 2. 3. 1. 2. 4. 4. 3.]\n",
      "[2. 3. 2. 3. 2. 2. 2. 2. 2. 3. 4. 1. 3. 2. 3. 1. 2. 4. 4. 3.]\n",
      "[2. 3. 2. 3. 2. 2. 2. 2. 2. 3. 4. 1. 3. 2. 3. 1. 2. 4. 4. 3.]\n",
      "[2. 3. 2. 3. 2. 2. 2. 2. 2. 3. 4. 1. 3. 2. 3. 1. 2. 4. 4. 3.]\n",
      "[2. 3. 2. 3. 2. 2. 2. 2. 2. 3. 4. 1. 3. 2. 3. 1. 2. 4. 4. 3.]\n",
      "[2. 3. 2. 3. 2. 2. 2. 2. 2. 3. 4. 1. 3. 2. 3. 1. 2. 4. 4. 3.]\n",
      "[2. 3. 2. 3. 2. 2. 2. 2. 2. 3. 4. 1. 3. 2. 3. 1. 2. 4. 4. 3.]\n",
      "[2. 3. 2. 3. 2. 2. 2. 2. 2. 3. 4. 1. 3. 2. 3. 1. 2. 4. 4. 3.]\n",
      "[2. 3. 2. 3. 2. 2. 2. 2. 2. 3. 4. 1. 3. 2. 3. 1. 2. 4. 4. 3.]\n",
      "[2. 3. 2. 3. 2. 2. 2. 2. 2. 3. 4. 1. 3. 2. 3. 1. 2. 4. 4. 3.]\n",
      "[2. 3. 2. 3. 2. 2. 2. 2. 2. 3. 4. 1. 3. 2. 3. 1. 2. 4. 4. 3.]\n",
      "[2. 3. 2. 3. 2. 2. 2. 2. 2. 3. 4. 1. 3. 2. 3. 1. 2. 4. 4. 3.]\n",
      "[2. 3. 2. 3. 2. 2. 2. 2. 2. 3. 4. 1. 3. 2. 3. 1. 2. 4. 4. 3.]\n",
      "[2. 3. 2. 3. 2. 2. 2. 2. 2. 3. 4. 1. 3. 2. 3. 1. 2. 4. 4. 3.]\n",
      "[2. 3. 2. 3. 2. 2. 2. 2. 2. 3. 4. 1. 3. 2. 3. 1. 2. 4. 4. 3.]\n",
      "[2. 3. 2. 3. 2. 2. 2. 2. 2. 3. 4. 1. 3. 2. 3. 1. 2. 4. 4. 3.]\n",
      "[2. 3. 2. 3. 2. 2. 2. 2. 2. 3. 4. 1. 3. 2. 3. 1. 2. 4. 4. 3.]\n",
      "[2. 3. 2. 3. 2. 2. 2. 2. 2. 3. 4. 1. 3. 2. 3. 1. 2. 4. 4. 3.]\n",
      "[2. 3. 2. 3. 2. 2. 2. 2. 2. 3. 4. 1. 3. 2. 3. 1. 2. 4. 4. 3.]\n",
      "[2. 3. 2. 3. 2. 2. 2. 2. 2. 3. 4. 1. 3. 2. 3. 1. 2. 4. 4. 3.]\n",
      "[2. 3. 2. 3. 2. 2. 2. 2. 2. 3. 4. 1. 3. 2. 3. 1. 2. 4. 4. 3.]\n",
      "[2. 3. 2. 3. 2. 2. 2. 2. 2. 3. 4. 1. 3. 2. 3. 1. 2. 4. 4. 3.]\n",
      "[2. 3. 2. 3. 2. 2. 2. 2. 2. 3. 4. 1. 3. 2. 3. 1. 2. 4. 4. 3.]\n",
      "[2. 3. 2. 3. 2. 2. 2. 2. 2. 3. 4. 1. 3. 2. 3. 1. 2. 4. 4. 3.]\n",
      "[2. 3. 2. 3. 2. 2. 2. 2. 2. 3. 4. 1. 3. 2. 3. 1. 2. 4. 4. 3.]\n",
      "[2. 3. 2. 3. 2. 2. 2. 2. 2. 3. 4. 1. 3. 2. 3. 1. 2. 4. 4. 3.]\n",
      "[2. 3. 2. 3. 2. 2. 2. 2. 2. 3. 4. 1. 3. 2. 3. 1. 2. 4. 4. 3.]\n",
      "[2. 3. 2. 3. 2. 2. 2. 2. 2. 3. 4. 1. 3. 2. 3. 1. 2. 4. 4. 3.]\n",
      "[2. 3. 2. 3. 2. 2. 2. 2. 2. 3. 4. 1. 3. 2. 3. 1. 2. 4. 4. 3.]\n",
      "[2. 3. 2. 3. 2. 2. 2. 2. 2. 3. 4. 1. 3. 2. 3. 1. 2. 4. 4. 3.]\n",
      "[2. 3. 2. 3. 2. 2. 2. 2. 2. 3. 4. 1. 3. 2. 3. 1. 2. 4. 4. 3.]\n",
      "[2. 3. 2. 3. 2. 2. 2. 2. 2. 3. 4. 1. 3. 2. 3. 1. 2. 4. 4. 3.]\n",
      "[2. 3. 2. 3. 2. 2. 2. 2. 2. 3. 4. 1. 3. 2. 3. 1. 2. 4. 4. 3.]\n",
      "[2. 3. 2. 3. 2. 2. 2. 2. 2. 3. 4. 1. 3. 2. 3. 1. 2. 4. 4. 3.]\n",
      "[2. 3. 2. 3. 2. 2. 2. 2. 2. 3. 4. 1. 3. 2. 3. 1. 2. 4. 4. 3.]\n",
      "[2. 3. 2. 3. 2. 2. 2. 2. 2. 3. 4. 1. 3. 2. 3. 1. 2. 4. 4. 3.]\n",
      "[2. 3. 2. 3. 2. 2. 2. 2. 2. 3. 4. 1. 3. 2. 3. 1. 2. 4. 4. 3.]\n",
      "[2. 3. 2. 3. 2. 2. 2. 2. 2. 3. 4. 1. 3. 2. 3. 1. 2. 4. 4. 3.]\n",
      "[2. 3. 2. 3. 2. 2. 2. 2. 2. 3. 4. 1. 3. 2. 3. 1. 2. 4. 4. 3.]\n",
      "[2. 3. 2. 3. 2. 2. 2. 2. 2. 3. 4. 1. 3. 2. 3. 1. 2. 4. 4. 3.]\n",
      "[2. 3. 2. 3. 2. 2. 2. 2. 2. 3. 4. 1. 3. 2. 3. 1. 2. 4. 4. 3.]\n",
      "[2. 3. 2. 3. 2. 2. 2. 2. 2. 3. 4. 1. 3. 2. 3. 1. 2. 4. 4. 3.]\n",
      "[2. 3. 2. 3. 2. 2. 2. 2. 2. 3. 4. 1. 3. 2. 3. 1. 2. 4. 4. 3.]\n",
      "[2. 3. 2. 3. 2. 2. 2. 2. 2. 3. 4. 1. 3. 2. 3. 1. 2. 4. 4. 3.]\n",
      "[2. 3. 2. 3. 2. 2. 2. 2. 2. 3. 4. 1. 3. 2. 3. 1. 2. 4. 4. 3.]\n",
      "[2. 3. 2. 3. 2. 2. 2. 2. 2. 3. 4. 1. 3. 2. 3. 1. 2. 4. 4. 3.]\n",
      "[2. 3. 2. 3. 2. 2. 2. 2. 2. 3. 4. 1. 3. 2. 3. 1. 2. 4. 4. 3.]\n",
      "[2. 3. 2. 3. 2. 2. 2. 2. 2. 3. 4. 1. 3. 2. 3. 1. 2. 4. 4. 3.]\n",
      "[2. 3. 2. 3. 2. 2. 2. 2. 2. 3. 4. 1. 3. 2. 3. 1. 2. 4. 4. 3.]\n",
      "[2. 3. 2. 3. 2. 2. 2. 2. 2. 3. 4. 1. 3. 2. 3. 1. 2. 4. 4. 3.]\n",
      "[2. 3. 2. 3. 2. 2. 2. 2. 2. 3. 4. 1. 3. 2. 3. 1. 2. 4. 4. 3.]\n",
      "[2. 3. 2. 3. 2. 2. 2. 2. 2. 3. 4. 1. 3. 2. 3. 1. 2. 4. 4. 3.]\n",
      "[2. 3. 2. 3. 2. 2. 2. 2. 2. 3. 4. 1. 3. 2. 3. 1. 2. 4. 4. 3.]\n",
      "[2. 3. 2. 3. 2. 2. 2. 2. 2. 3. 4. 1. 3. 2. 3. 1. 2. 4. 4. 3.]\n",
      "[2. 3. 2. 3. 2. 2. 2. 2. 2. 3. 4. 1. 3. 2. 3. 1. 2. 4. 4. 3.]\n",
      "[2. 3. 2. 3. 2. 2. 2. 2. 2. 3. 4. 1. 3. 2. 3. 1. 2. 4. 4. 3.]\n",
      "[2. 3. 2. 3. 2. 2. 2. 2. 2. 3. 4. 1. 3. 2. 3. 1. 2. 4. 4. 3.]\n",
      "[2. 3. 2. 3. 2. 2. 2. 2. 2. 3. 4. 1. 3. 2. 3. 1. 2. 4. 4. 3.]\n",
      "[2. 3. 2. 3. 2. 2. 2. 2. 2. 3. 4. 1. 3. 2. 3. 1. 2. 4. 4. 3.]\n",
      "[2. 3. 2. 3. 2. 2. 2. 2. 2. 3. 4. 1. 3. 2. 3. 1. 2. 4. 4. 3.]\n",
      "[2. 3. 2. 3. 2. 2. 2. 2. 2. 3. 4. 1. 3. 2. 3. 1. 2. 4. 4. 3.]\n",
      "[2. 3. 2. 3. 2. 2. 2. 2. 2. 3. 4. 1. 3. 2. 3. 1. 2. 4. 4. 3.]\n",
      "[2. 3. 2. 3. 2. 2. 2. 2. 2. 3. 4. 1. 3. 2. 3. 1. 2. 4. 4. 3.]\n",
      "[2. 3. 2. 3. 2. 2. 2. 2. 2. 3. 4. 1. 3. 2. 3. 1. 2. 4. 4. 3.]\n",
      "[2. 3. 2. 3. 2. 2. 2. 2. 2. 3. 4. 1. 3. 2. 3. 1. 2. 4. 4. 3.]\n",
      "[2. 3. 2. 3. 2. 2. 2. 2. 2. 3. 4. 1. 3. 2. 3. 1. 2. 4. 4. 3.]\n",
      "[2. 3. 2. 3. 2. 2. 2. 2. 2. 3. 4. 1. 3. 2. 3. 1. 2. 4. 4. 3.]\n",
      "[2. 3. 2. 3. 2. 2. 2. 2. 2. 3. 4. 1. 3. 2. 3. 1. 2. 4. 4. 3.]\n",
      "[2. 3. 2. 3. 2. 2. 2. 2. 2. 3. 4. 1. 3. 2. 3. 1. 2. 4. 4. 3.]\n",
      "[2. 3. 2. 3. 2. 2. 2. 2. 2. 3. 4. 1. 3. 2. 3. 1. 2. 4. 4. 3.]\n",
      "[2. 3. 2. 3. 2. 2. 2. 2. 2. 3. 4. 1. 3. 2. 3. 1. 2. 4. 4. 3.]\n",
      "[2. 3. 2. 3. 2. 2. 2. 2. 2. 3. 4. 1. 3. 2. 3. 1. 2. 4. 4. 3.]\n",
      "[2. 3. 2. 3. 2. 2. 2. 2. 2. 3. 4. 1. 3. 2. 3. 1. 2. 4. 4. 3.]\n",
      "[2. 3. 2. 3. 2. 2. 2. 2. 2. 3. 4. 1. 3. 2. 3. 1. 2. 4. 4. 3.]\n",
      "[2. 3. 2. 3. 2. 2. 2. 2. 2. 3. 4. 1. 3. 2. 3. 1. 2. 4. 4. 3.]\n",
      "[2. 3. 2. 3. 2. 2. 2. 2. 2. 3. 4. 1. 3. 2. 3. 1. 2. 4. 4. 3.]\n",
      "[2. 3. 2. 3. 2. 2. 2. 2. 2. 3. 4. 1. 3. 2. 3. 1. 2. 4. 4. 3.]\n",
      "[2. 3. 2. 3. 2. 2. 2. 2. 2. 3. 4. 1. 3. 2. 3. 1. 2. 4. 4. 3.]\n"
     ]
    }
   ],
   "source": [
    "for t in lst_1:\n",
    "  model=KNeighborsClassifier(n_neighbors=t, weights='distance')\n",
    "  model.fit(X,Y)\n",
    "  res = model.predict(x_new)\n",
    "  print(res)\n",
    "  k.append(res)\n",
    "#print(k)"
   ]
  },
  {
   "cell_type": "markdown",
   "id": "0afb3ab4",
   "metadata": {},
   "source": [
    "========================================="
   ]
  },
  {
   "cell_type": "code",
   "execution_count": 31,
   "id": "a09e1de3",
   "metadata": {},
   "outputs": [],
   "source": [
    "error_rates = []"
   ]
  },
  {
   "cell_type": "markdown",
   "id": "b5f4959f",
   "metadata": {},
   "source": [
    "**Здесь создаем список ошибок, чем число меньше, тем меньше ошибка**"
   ]
  },
  {
   "cell_type": "code",
   "execution_count": 32,
   "id": "4d643660",
   "metadata": {},
   "outputs": [],
   "source": [
    "for i in np.arange(1, 101):\n",
    "    new_model = KNeighborsClassifier(n_neighbors = i)\n",
    "    new_model.fit(X,Y)\n",
    "    new_predictions = new_model.predict(XX)\n",
    "    error_rates.append(np.mean(new_predictions != YY))"
   ]
  },
  {
   "cell_type": "code",
   "execution_count": 33,
   "id": "813fca88",
   "metadata": {},
   "outputs": [
    {
     "data": {
      "text/plain": [
       "[<matplotlib.lines.Line2D at 0x2448571cfa0>]"
      ]
     },
     "execution_count": 33,
     "metadata": {},
     "output_type": "execute_result"
    },
    {
     "data": {
      "image/png": "[encoded data removed]",
      "text/plain": [
       "<Figure size 432x288 with 1 Axes>"
      ]
     },
     "metadata": {
      "needs_background": "light"
     },
     "output_type": "display_data"
    }
   ],
   "source": [
    "import matplotlib.pyplot as plt\n",
    "import seaborn as sns\n",
    "plt.plot(error_rates)"
   ]
  },
  {
   "cell_type": "code",
   "execution_count": 67,
   "id": "1edb13ed",
   "metadata": {
    "collapsed": true
   },
   "outputs": [
    {
     "data": {
      "text/plain": [
       "[0.050112528132033006,\n",
       " 0.2871717929482371,\n",
       " 0.31822955738934733,\n",
       " 0.350337584396099,\n",
       " 0.3756939234808702,\n",
       " 0.3942985746436609,\n",
       " 0.3975993998499625,\n",
       " 0.4054013503375844,\n",
       " 0.41785446361590395,\n",
       " 0.4213053263315829,\n",
       " 0.4300075018754689,\n",
       " 0.43600900225056266,\n",
       " 0.44246061515378843,\n",
       " 0.44306076519129783,\n",
       " 0.445311327831958,\n",
       " 0.45731432858214555,\n",
       " 0.45731432858214555,\n",
       " 0.4579144786196549,\n",
       " 0.4601650412603151,\n",
       " 0.46001500375093773,\n",
       " 0.46511627906976744,\n",
       " 0.4687171792948237,\n",
       " 0.46886721680420107,\n",
       " 0.4703675918979745,\n",
       " 0.4706676669167292,\n",
       " 0.47231807951988,\n",
       " 0.4751687921980495,\n",
       " 0.47861965491372843,\n",
       " 0.4781695423855964,\n",
       " 0.4778694673668417,\n",
       " 0.4822205551387847,\n",
       " 0.48357089272318077,\n",
       " 0.48267066766691674,\n",
       " 0.4808702175543886,\n",
       " 0.48447111777944485,\n",
       " 0.48282070517629405,\n",
       " 0.486271567891973,\n",
       " 0.48582145536384097,\n",
       " 0.4847711927981995,\n",
       " 0.490622655663916,\n",
       " 0.49017254313578396,\n",
       " 0.4916729182295574,\n",
       " 0.4913728432108027,\n",
       " 0.4940735183795949,\n",
       " 0.49362340585146286,\n",
       " 0.4940735183795949,\n",
       " 0.49962490622655664,\n",
       " 0.49692423105776445,\n",
       " 0.4937734433608402,\n",
       " 0.4948237059264816,\n",
       " 0.49692423105776445,\n",
       " 0.4973743435858965,\n",
       " 0.49857464366091525,\n",
       " 0.49932483120780197,\n",
       " 0.5003750937734434,\n",
       " 0.5011252813203301,\n",
       " 0.4984246061515379,\n",
       " 0.5012753188297074,\n",
       " 0.5024756189047261,\n",
       " 0.499774943735934,\n",
       " 0.49932483120780197,\n",
       " 0.5026256564141035,\n",
       " 0.5014253563390848,\n",
       " 0.5027756939234809,\n",
       " 0.5054763690922731,\n",
       " 0.5059264816204051,\n",
       " 0.5063765941485371,\n",
       " 0.5042760690172543,\n",
       " 0.5057764441110277,\n",
       " 0.5078769692423106,\n",
       " 0.5096774193548387,\n",
       " 0.505026256564141,\n",
       " 0.5069767441860465,\n",
       " 0.5101275318829708,\n",
       " 0.5092273068267067,\n",
       " 0.5090772693173293,\n",
       " 0.5078769692423106,\n",
       " 0.5090772693173293,\n",
       " 0.5092273068267067,\n",
       " 0.5092273068267067,\n",
       " 0.5095273818454613,\n",
       " 0.5092273068267067,\n",
       " 0.5113278319579895,\n",
       " 0.5095273818454613,\n",
       " 0.5107276819204801,\n",
       " 0.5119279819954988,\n",
       " 0.5123780945236309,\n",
       " 0.5126781695423855,\n",
       " 0.5146286571642911,\n",
       " 0.5156789197299325,\n",
       " 0.5153788447111778,\n",
       " 0.515078769692423,\n",
       " 0.5134283570892724,\n",
       " 0.5161290322580645,\n",
       " 0.5179294823705927,\n",
       " 0.5153788447111778,\n",
       " 0.5189797449362341,\n",
       " 0.5164291072768192,\n",
       " 0.5177794448612153,\n",
       " 0.5183795948987246]"
      ]
     },
     "execution_count": 67,
     "metadata": {},
     "output_type": "execute_result"
    }
   ],
   "source": [
    "error_rates"
   ]
  },
  {
   "cell_type": "code",
   "execution_count": 68,
   "id": "26d4d1e0",
   "metadata": {},
   "outputs": [],
   "source": [
    "error_rates = []"
   ]
  },
  {
   "cell_type": "code",
   "execution_count": 69,
   "id": "bd55c6cf",
   "metadata": {},
   "outputs": [],
   "source": [
    "for i in np.arange(1, 101):\n",
    "    new_model = KNeighborsClassifier(n_neighbors = i,weights='distance')\n",
    "    new_model.fit(X,Y)\n",
    "    new_predictions = new_model.predict(XX)\n",
    "    error_rates.append(np.mean(new_predictions != YY))"
   ]
  },
  {
   "cell_type": "code",
   "execution_count": 70,
   "id": "0eea56ce",
   "metadata": {},
   "outputs": [
    {
     "data": {
      "text/plain": [
       "[<matplotlib.lines.Line2D at 0x23f7656f700>]"
      ]
     },
     "execution_count": 70,
     "metadata": {},
     "output_type": "execute_result"
    },
    {
     "data": {
      "image/png": "[encoded data removed]",
      "text/plain": [
       "<Figure size 432x288 with 1 Axes>"
      ]
     },
     "metadata": {
      "needs_background": "light"
     },
     "output_type": "display_data"
    }
   ],
   "source": [
    "import matplotlib.pyplot as plt\n",
    "import seaborn as sns\n",
    "plt.plot(error_rates)"
   ]
  },
  {
   "cell_type": "code",
   "execution_count": 71,
   "id": "2179b1fa",
   "metadata": {
    "collapsed": true
   },
   "outputs": [
    {
     "data": {
      "text/plain": [
       "[0.050112528132033006,\n",
       " 0.05161290322580645,\n",
       " 0.04666166541635409,\n",
       " 0.0463615903975994,\n",
       " 0.046211552888222054,\n",
       " 0.046211552888222054,\n",
       " 0.046211552888222054,\n",
       " 0.046211552888222054,\n",
       " 0.046211552888222054,\n",
       " 0.046211552888222054,\n",
       " 0.046211552888222054,\n",
       " 0.046211552888222054,\n",
       " 0.046211552888222054,\n",
       " 0.046211552888222054,\n",
       " 0.046211552888222054,\n",
       " 0.046211552888222054,\n",
       " 0.046211552888222054,\n",
       " 0.046211552888222054,\n",
       " 0.046211552888222054,\n",
       " 0.046211552888222054,\n",
       " 0.046211552888222054,\n",
       " 0.046211552888222054,\n",
       " 0.046211552888222054,\n",
       " 0.046211552888222054,\n",
       " 0.046211552888222054,\n",
       " 0.046211552888222054,\n",
       " 0.046211552888222054,\n",
       " 0.046211552888222054,\n",
       " 0.046211552888222054,\n",
       " 0.046211552888222054,\n",
       " 0.046211552888222054,\n",
       " 0.046211552888222054,\n",
       " 0.046211552888222054,\n",
       " 0.046211552888222054,\n",
       " 0.046211552888222054,\n",
       " 0.046211552888222054,\n",
       " 0.046211552888222054,\n",
       " 0.046211552888222054,\n",
       " 0.046211552888222054,\n",
       " 0.046211552888222054,\n",
       " 0.046211552888222054,\n",
       " 0.046211552888222054,\n",
       " 0.046211552888222054,\n",
       " 0.046211552888222054,\n",
       " 0.046211552888222054,\n",
       " 0.046211552888222054,\n",
       " 0.046211552888222054,\n",
       " 0.046211552888222054,\n",
       " 0.046211552888222054,\n",
       " 0.046211552888222054,\n",
       " 0.046211552888222054,\n",
       " 0.046211552888222054,\n",
       " 0.046211552888222054,\n",
       " 0.046211552888222054,\n",
       " 0.046211552888222054,\n",
       " 0.046211552888222054,\n",
       " 0.046211552888222054,\n",
       " 0.046211552888222054,\n",
       " 0.046211552888222054,\n",
       " 0.046211552888222054,\n",
       " 0.046211552888222054,\n",
       " 0.046211552888222054,\n",
       " 0.046211552888222054,\n",
       " 0.046211552888222054,\n",
       " 0.046211552888222054,\n",
       " 0.046211552888222054,\n",
       " 0.046211552888222054,\n",
       " 0.046211552888222054,\n",
       " 0.046211552888222054,\n",
       " 0.046211552888222054,\n",
       " 0.046211552888222054,\n",
       " 0.046211552888222054,\n",
       " 0.046211552888222054,\n",
       " 0.046211552888222054,\n",
       " 0.046211552888222054,\n",
       " 0.046211552888222054,\n",
       " 0.046211552888222054,\n",
       " 0.046211552888222054,\n",
       " 0.046211552888222054,\n",
       " 0.046211552888222054,\n",
       " 0.046211552888222054,\n",
       " 0.046211552888222054,\n",
       " 0.046211552888222054,\n",
       " 0.046211552888222054,\n",
       " 0.046211552888222054,\n",
       " 0.046211552888222054,\n",
       " 0.046211552888222054,\n",
       " 0.046211552888222054,\n",
       " 0.046211552888222054,\n",
       " 0.046211552888222054,\n",
       " 0.046211552888222054,\n",
       " 0.046211552888222054,\n",
       " 0.046211552888222054,\n",
       " 0.046211552888222054,\n",
       " 0.046211552888222054,\n",
       " 0.046211552888222054,\n",
       " 0.046211552888222054,\n",
       " 0.046211552888222054,\n",
       " 0.046211552888222054,\n",
       " 0.046211552888222054]"
      ]
     },
     "execution_count": 71,
     "metadata": {},
     "output_type": "execute_result"
    }
   ],
   "source": [
    "error_rates"
   ]
  },
  {
   "cell_type": "code",
   "execution_count": null,
   "id": "daad7d15",
   "metadata": {},
   "outputs": [],
   "source": [
    "========================================================================================================================"
   ]
  },
  {
   "cell_type": "markdown",
   "id": "792c29cd",
   "metadata": {},
   "source": [
    "# **GrideSearchCV**"
   ]
  },
  {
   "cell_type": "code",
   "execution_count": 141,
   "id": "dd8e968c",
   "metadata": {},
   "outputs": [],
   "source": [
    "from sklearn.model_selection import GridSearchCV"
   ]
  },
  {
   "cell_type": "code",
   "execution_count": 142,
   "id": "2ec35d69",
   "metadata": {},
   "outputs": [],
   "source": [
    "X_train, X_test, Y_train, Y_test = train_test_split(X, Y, test_size=0.25, shuffle=True, random_state=7) "
   ]
  },
  {
   "cell_type": "code",
   "execution_count": 143,
   "id": "fa700e64",
   "metadata": {},
   "outputs": [],
   "source": [
    "clf = KNeighborsClassifier()"
   ]
  },
  {
   "cell_type": "code",
   "execution_count": 144,
   "id": "138ad4e9",
   "metadata": {},
   "outputs": [],
   "source": [
    "grid_params = {\n",
    "               'n_neighbors':np.arange(2,120,3),\n",
    "               'weights':['uniform','distance'],\n",
    "               'metric':['euclidean','manhattan']}"
   ]
  },
  {
   "cell_type": "code",
   "execution_count": 145,
   "id": "a38a4dab",
   "metadata": {},
   "outputs": [
    {
     "name": "stdout",
     "output_type": "stream",
     "text": [
      "Fitting 3 folds for each of 160 candidates, totalling 480 fits\n"
     ]
    },
    {
     "data": {
      "text/plain": [
       "GridSearchCV(cv=3, estimator=KNeighborsClassifier(), n_jobs=-1,\n",
       "             param_grid={'metric': ['euclidean', 'manhattan'],\n",
       "                         'n_neighbors': array([  2,   5,   8,  11,  14,  17,  20,  23,  26,  29,  32,  35,  38,\n",
       "        41,  44,  47,  50,  53,  56,  59,  62,  65,  68,  71,  74,  77,\n",
       "        80,  83,  86,  89,  92,  95,  98, 101, 104, 107, 110, 113, 116,\n",
       "       119]),\n",
       "                         'weights': ['uniform', 'distance']},\n",
       "             verbose=1)"
      ]
     },
     "execution_count": 145,
     "metadata": {},
     "output_type": "execute_result"
    }
   ],
   "source": [
    "grid = GridSearchCV(clf, grid_params, cv=3,verbose=1,n_jobs=-1)\n",
    "grid.fit(X_train,Y_train)"
   ]
  },
  {
   "cell_type": "code",
   "execution_count": 146,
   "id": "8f66e506",
   "metadata": {},
   "outputs": [
    {
     "name": "stdout",
     "output_type": "stream",
     "text": [
      "{'metric': 'manhattan', 'n_neighbors': 62, 'weights': 'uniform'}\n",
      "KNeighborsClassifier(metric='manhattan', n_neighbors=62)\n"
     ]
    }
   ],
   "source": [
    "print(grid.best_params_)\n",
    "print(grid.best_estimator_)"
   ]
  },
  {
   "cell_type": "code",
   "execution_count": 147,
   "id": "f1888e46",
   "metadata": {},
   "outputs": [],
   "source": [
    "from sklearn.metrics import classification_report, confusion_matrix"
   ]
  },
  {
   "cell_type": "code",
   "execution_count": 148,
   "id": "452e1d46",
   "metadata": {},
   "outputs": [
    {
     "name": "stdout",
     "output_type": "stream",
     "text": [
      "              precision    recall  f1-score   support\n",
      "\n",
      "         1.0       0.37      0.26      0.31       692\n",
      "         2.0       0.29      0.17      0.22       450\n",
      "         3.0       0.26      0.48      0.34       381\n",
      "         4.0       0.44      0.49      0.47       631\n",
      "\n",
      "    accuracy                           0.35      2154\n",
      "   macro avg       0.34      0.35      0.33      2154\n",
      "weighted avg       0.36      0.35      0.34      2154\n",
      "\n"
     ]
    }
   ],
   "source": [
    "grid_predictions = grid.predict(XX)\n",
    "print(classification_report(YY, grid_predictions))"
   ]
  },
  {
   "cell_type": "code",
   "execution_count": 69,
   "id": "dc608d2b",
   "metadata": {},
   "outputs": [
    {
     "name": "stdout",
     "output_type": "stream",
     "text": [
      "[[ 687  236  306  387]\n",
      " [ 324  334  701  213]\n",
      " [ 165  168 1143  244]\n",
      " [ 309  107  104 1237]]\n"
     ]
    }
   ],
   "source": [
    "print(confusion_matrix(YY, grid_predictions))"
   ]
  },
  {
   "cell_type": "code",
   "execution_count": null,
   "id": "67a47e3c",
   "metadata": {},
   "outputs": [],
   "source": [
    "================================================================================================================"
   ]
  },
  {
   "cell_type": "code",
   "execution_count": 137,
   "id": "a6598752",
   "metadata": {},
   "outputs": [],
   "source": [
    "model = KNeighborsClassifier(metric='manhattan', n_neighbors=62)"
   ]
  },
  {
   "cell_type": "code",
   "execution_count": 138,
   "id": "651f6f90",
   "metadata": {},
   "outputs": [
    {
     "data": {
      "text/plain": [
       "KNeighborsClassifier(metric='manhattan', n_neighbors=62)"
      ]
     },
     "execution_count": 138,
     "metadata": {},
     "output_type": "execute_result"
    }
   ],
   "source": [
    "model.fit(X,Y)"
   ]
  },
  {
   "cell_type": "code",
   "execution_count": 139,
   "id": "8bc76cdc",
   "metadata": {},
   "outputs": [],
   "source": [
    "new_predictions = model.predict(XX)"
   ]
  },
  {
   "cell_type": "code",
   "execution_count": 140,
   "id": "a9d6f551",
   "metadata": {},
   "outputs": [
    {
     "name": "stdout",
     "output_type": "stream",
     "text": [
      "              precision    recall  f1-score   support\n",
      "\n",
      "         1.0       0.36      0.26      0.30       692\n",
      "         2.0       0.23      0.16      0.19       450\n",
      "         3.0       0.26      0.47      0.33       381\n",
      "         4.0       0.45      0.47      0.46       631\n",
      "\n",
      "    accuracy                           0.34      2154\n",
      "   macro avg       0.33      0.34      0.32      2154\n",
      "weighted avg       0.34      0.34      0.33      2154\n",
      "\n",
      "[[178 103 196 215]\n",
      " [108  71 180  91]\n",
      " [ 83  65 179  54]\n",
      " [130  67 136 298]]\n"
     ]
    }
   ],
   "source": [
    "print(classification_report(YY, new_predictions))\n",
    "print(confusion_matrix(YY, new_predictions))"
   ]
  },
  {
   "cell_type": "code",
   "execution_count": 54,
   "id": "f4ddb5b9",
   "metadata": {},
   "outputs": [],
   "source": [
    "from sklearn.model_selection import KFold\n",
    "from sklearn.model_selection import cross_val_score\n",
    "# отбор признаков:\n",
    "from sklearn.feature_selection import SelectKBest\n",
    "from sklearn.feature_selection import f_classif\n",
    "# ансамблевые функции:\n",
    "from sklearn.ensemble import BaggingClassifier\n",
    "from sklearn.tree import DecisionTreeClassifier\n",
    "from sklearn.ensemble import RandomForestClassifier\n",
    "from sklearn.ensemble import ExtraTreesClassifier\n",
    "from sklearn.ensemble import AdaBoostClassifier\n",
    "from sklearn.ensemble import GradientBoostingClassifier\n",
    "from xgboost import XGBClassifier\n",
    "from sklearn.linear_model import LogisticRegression\n",
    "from sklearn.svm import SVC\n",
    "from sklearn.ensemble import VotingClassifier\n",
    "import numpy as np\n",
    "from sklearn.linear_model import RidgeClassifier\n",
    "from sklearn.model_selection import GridSearchCV\n",
    "from scipy.stats import uniform\n",
    "from sklearn.model_selection import RandomizedSearchCV\n",
    "from sklearn.model_selection import train_test_split\n",
    "# сохраняет параметры после перезагрузки:\n",
    "import pickle\n",
    "import joblib"
   ]
  },
  {
   "cell_type": "code",
   "execution_count": null,
   "id": "3bfe9c26",
   "metadata": {},
   "outputs": [],
   "source": []
  },
  {
   "cell_type": "markdown",
   "id": "fe26df34",
   "metadata": {},
   "source": [
    "# **GrideSearchCV**"
   ]
  },
  {
   "cell_type": "code",
   "execution_count": 39,
   "id": "b9271c5b",
   "metadata": {},
   "outputs": [],
   "source": [
    "from sklearn.model_selection import GridSearchCV\n",
    "from sklearn.neighbors import KNeighborsClassifier"
   ]
  },
  {
   "cell_type": "code",
   "execution_count": 40,
   "id": "8ed4499d",
   "metadata": {},
   "outputs": [],
   "source": [
    "X_train, X_test, Y_train, Y_test = train_test_split(X, Y, test_size=0.25, shuffle=True, random_state=7) "
   ]
  },
  {
   "cell_type": "code",
   "execution_count": 41,
   "id": "cba126bd",
   "metadata": {},
   "outputs": [],
   "source": [
    "clf = KNeighborsClassifier()"
   ]
  },
  {
   "cell_type": "code",
   "execution_count": 42,
   "id": "f57725bc",
   "metadata": {},
   "outputs": [],
   "source": [
    "parametrs = {\n",
    "               'n_neighbors':np.arange(40,100,5),\n",
    "               'weights':['uniform','distance'],\n",
    "               'metric':['euclidean','manhattan']}"
   ]
  },
  {
   "cell_type": "code",
   "execution_count": 44,
   "id": "44ac13c5",
   "metadata": {},
   "outputs": [
    {
     "name": "stdout",
     "output_type": "stream",
     "text": [
      "Fitting 3 folds for each of 48 candidates, totalling 144 fits\n"
     ]
    },
    {
     "data": {
      "text/plain": [
       "GridSearchCV(cv=3, estimator=KNeighborsClassifier(), n_jobs=-1,\n",
       "             param_grid={'metric': ['euclidean', 'manhattan'],\n",
       "                         'n_neighbors': array([40, 45, 50, 55, 60, 65, 70, 75, 80, 85, 90, 95]),\n",
       "                         'weights': ['uniform', 'distance']},\n",
       "             verbose=1)"
      ]
     },
     "execution_count": 44,
     "metadata": {},
     "output_type": "execute_result"
    }
   ],
   "source": [
    "grid = GridSearchCV(clf, param_grid=parametrs, cv=3,verbose=1,n_jobs=-1)\n",
    "grid.fit(X_train,Y_train)"
   ]
  },
  {
   "cell_type": "code",
   "execution_count": 45,
   "id": "a2afcdd4",
   "metadata": {},
   "outputs": [
    {
     "name": "stdout",
     "output_type": "stream",
     "text": [
      "{'metric': 'manhattan', 'n_neighbors': 50, 'weights': 'uniform'}\n",
      "KNeighborsClassifier(metric='manhattan', n_neighbors=50)\n"
     ]
    }
   ],
   "source": [
    "print(grid.best_params_)\n",
    "print(grid.best_estimator_)"
   ]
  },
  {
   "cell_type": "code",
   "execution_count": 46,
   "id": "887e8a6e",
   "metadata": {},
   "outputs": [],
   "source": [
    "from sklearn.metrics import classification_report, confusion_matrix"
   ]
  },
  {
   "cell_type": "code",
   "execution_count": 47,
   "id": "60ff8813",
   "metadata": {},
   "outputs": [
    {
     "name": "stdout",
     "output_type": "stream",
     "text": [
      "              precision    recall  f1-score   support\n",
      "\n",
      "         1.0       0.41      0.42      0.42       351\n",
      "         2.0       0.34      0.28      0.31       347\n",
      "         3.0       0.50      0.52      0.51       361\n",
      "         4.0       0.58      0.65      0.61       373\n",
      "\n",
      "    accuracy                           0.47      1432\n",
      "   macro avg       0.46      0.47      0.46      1432\n",
      "weighted avg       0.46      0.47      0.47      1432\n",
      "\n"
     ]
    }
   ],
   "source": [
    "grid_predictions = grid.predict(X_test)\n",
    "print(classification_report(Y_test, grid_predictions))"
   ]
  },
  {
   "cell_type": "code",
   "execution_count": 48,
   "id": "430ad179",
   "metadata": {},
   "outputs": [
    {
     "name": "stdout",
     "output_type": "stream",
     "text": [
      "[[149  76  54  72]\n",
      " [ 88  97 119  43]\n",
      " [ 49  67 189  56]\n",
      " [ 77  42  13 241]]\n"
     ]
    }
   ],
   "source": [
    "print(confusion_matrix(Y_test, grid_predictions))"
   ]
  },
  {
   "cell_type": "code",
   "execution_count": null,
   "id": "9e490fc1",
   "metadata": {},
   "outputs": [],
   "source": [
    "================================================================================================================"
   ]
  },
  {
   "cell_type": "code",
   "execution_count": 49,
   "id": "d8912a93",
   "metadata": {},
   "outputs": [],
   "source": [
    "model = KNeighborsClassifier(metric='manhattan', n_neighbors=50)"
   ]
  },
  {
   "cell_type": "code",
   "execution_count": 50,
   "id": "cb5aeeba",
   "metadata": {},
   "outputs": [
    {
     "data": {
      "text/plain": [
       "KNeighborsClassifier(metric='manhattan', n_neighbors=50)"
      ]
     },
     "execution_count": 50,
     "metadata": {},
     "output_type": "execute_result"
    }
   ],
   "source": [
    "model.fit(X_train,Y_train)"
   ]
  },
  {
   "cell_type": "code",
   "execution_count": 51,
   "id": "8bc76cdc",
   "metadata": {},
   "outputs": [],
   "source": [
    "new_predictions = model.predict(X_test)"
   ]
  },
  {
   "cell_type": "code",
   "execution_count": 52,
   "id": "a9d6f551",
   "metadata": {},
   "outputs": [
    {
     "name": "stdout",
     "output_type": "stream",
     "text": [
      "              precision    recall  f1-score   support\n",
      "\n",
      "         1.0       0.41      0.42      0.42       351\n",
      "         2.0       0.34      0.28      0.31       347\n",
      "         3.0       0.50      0.52      0.51       361\n",
      "         4.0       0.58      0.65      0.61       373\n",
      "\n",
      "    accuracy                           0.47      1432\n",
      "   macro avg       0.46      0.47      0.46      1432\n",
      "weighted avg       0.46      0.47      0.47      1432\n",
      "\n",
      "[[149  76  54  72]\n",
      " [ 88  97 119  43]\n",
      " [ 49  67 189  56]\n",
      " [ 77  42  13 241]]\n"
     ]
    }
   ],
   "source": [
    "print(classification_report(Y_test, new_predictions))\n",
    "print(confusion_matrix(Y_test, new_predictions))"
   ]
  },
  {
   "cell_type": "code",
   "execution_count": null,
   "id": "73c8cc89",
   "metadata": {},
   "outputs": [],
   "source": []
  },
  {
   "cell_type": "code",
   "execution_count": null,
   "id": "c09d1c35",
   "metadata": {},
   "outputs": [],
   "source": [
    "================================================================================================================"
   ]
  },
  {
   "cell_type": "code",
   "execution_count": 57,
   "id": "771830a3",
   "metadata": {},
   "outputs": [
    {
     "data": {
      "text/plain": [
       "0.4651650078575171"
      ]
     },
     "execution_count": 57,
     "metadata": {},
     "output_type": "execute_result"
    }
   ],
   "source": [
    "kfold=KFold(n_splits=3,random_state=7,shuffle=True)\n",
    "results=cross_val_score(model, X, Y, cv=3)\n",
    "results.mean()"
   ]
  }
 ],
 "metadata": {
  "kernelspec": {
   "display_name": "Python 3 (ipykernel)",
   "language": "python",
   "name": "python3"
  },
  "language_info": {
   "codemirror_mode": {
    "name": "ipython",
    "version": 3
   },
   "file_extension": ".py",
   "mimetype": "text/x-python",
   "name": "python",
   "nbconvert_exporter": "python",
   "pygments_lexer": "ipython3",
   "version": "3.9.7"
  }
 },
 "nbformat": 4,
 "nbformat_minor": 5
}
