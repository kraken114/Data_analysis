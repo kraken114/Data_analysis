{
 "cells": [
  {
   "cell_type": "markdown",
   "id": "e8b8fe40",
   "metadata": {},
   "source": [
    "# **3.1. GaussianNB() + SelectKBest**"
   ]
  },
  {
   "cell_type": "markdown",
   "id": "00c49521",
   "metadata": {},
   "source": [
    "# **0.4814    7_признаков**"
   ]
  },
  {
   "cell_type": "code",
   "execution_count": 21,
   "id": "2a26a3ce",
   "metadata": {},
   "outputs": [],
   "source": [
    "from sklearn.feature_selection import SelectKBest\n",
    "from sklearn.feature_selection import f_classif\n",
    "from sklearn.naive_bayes import GaussianNB\n",
    "from sklearn.model_selection import KFold\n",
    "from sklearn.model_selection import cross_val_score"
   ]
  },
  {
   "cell_type": "code",
   "execution_count": 26,
   "id": "2690ac65",
   "metadata": {},
   "outputs": [],
   "source": [
    "lst_1 = list(range(1,10))\n",
    "lst_2 = list(range(2,9))\n",
    "lst_3 = list(range(1,5))\n",
    "k = []"
   ]
  },
  {
   "cell_type": "code",
   "execution_count": 27,
   "id": "6e545026",
   "metadata": {
    "collapsed": true
   },
   "outputs": [
    {
     "name": "stdout",
     "output_type": "stream",
     "text": [
      "n_splits: 2 KBest: 1 0.4006002491005403\n",
      "n_splits: 2 KBest: 2 0.40615179465125384\n",
      "n_splits: 2 KBest: 3 0.42265605612181867\n",
      "n_splits: 2 KBest: 4 0.4414108127499424\n",
      "n_splits: 2 KBest: 5 0.45731532937207287\n",
      "n_splits: 2 KBest: 6 0.4631668599032772\n",
      "n_splits: 2 KBest: 7 0.4657165296361569\n",
      "n_splits: 2 KBest: 8 0.4583649841574794\n",
      "n_splits: 2 KBest: 9 0.45881511920699874\n",
      "i 2 max: 0.4657165296361569\n",
      "n_splits: 3 KBest: 1 0.40060151895423673\n",
      "n_splits: 3 KBest: 2 0.406603875155638\n",
      "n_splits: 3 KBest: 3 0.42115647854744953\n",
      "n_splits: 3 KBest: 4 0.44411262377926225\n",
      "n_splits: 3 KBest: 5 0.4589666080520704\n",
      "n_splits: 3 KBest: 6 0.46301768853157266\n",
      "n_splits: 3 KBest: 7 0.46391690046987594\n",
      "n_splits: 3 KBest: 8 0.4612170357062721\n",
      "n_splits: 3 KBest: 9 0.4619668405381736\n",
      "i 3 max: 0.4657165296361569\n",
      "n_splits: 4 KBest: 1 0.4006041828849116\n",
      "n_splits: 4 KBest: 2 0.40555598364120693\n",
      "n_splits: 4 KBest: 3 0.4219093756278756\n",
      "n_splits: 4 KBest: 4 0.4436639382807712\n",
      "n_splits: 4 KBest: 5 0.4582167900153463\n",
      "n_splits: 4 KBest: 6 0.46076727031544473\n",
      "n_splits: 4 KBest: 7 0.4658693111317712\n",
      "n_splits: 4 KBest: 8 0.45986826044154916\n",
      "n_splits: 4 KBest: 9 0.46091805048354073\n",
      "i 4 max: 0.4658693111317712\n",
      "n_splits: 5 KBest: 1 0.4006001500375094\n",
      "n_splits: 5 KBest: 2 0.4063015753938485\n",
      "n_splits: 5 KBest: 3 0.4216054013503376\n",
      "n_splits: 5 KBest: 4 0.44426106526631665\n",
      "n_splits: 5 KBest: 5 0.459714928732183\n",
      "n_splits: 5 KBest: 6 0.4618154538634659\n",
      "n_splits: 5 KBest: 7 0.46271567891973\n",
      "n_splits: 5 KBest: 8 0.4604651162790698\n",
      "n_splits: 5 KBest: 9 0.458364591147787\n",
      "i 5 max: 0.4658693111317712\n",
      "n_splits: 6 KBest: 1 0.40059951941140065\n",
      "n_splits: 6 KBest: 2 0.4069012306636069\n",
      "n_splits: 6 KBest: 3 0.42280538864697276\n",
      "n_splits: 6 KBest: 4 0.44335933593359345\n",
      "n_splits: 6 KBest: 5 0.45941337376980945\n",
      "n_splits: 6 KBest: 6 0.46256409424726247\n",
      "n_splits: 6 KBest: 7 0.4639159861932139\n",
      "n_splits: 6 KBest: 8 0.4603141395220603\n",
      "n_splits: 6 KBest: 9 0.46031400437341036\n",
      "i 6 max: 0.4658693111317712\n",
      "n_splits: 7 KBest: 1 0.4006059401725013\n",
      "n_splits: 7 KBest: 2 0.40630759124216315\n",
      "n_splits: 7 KBest: 3 0.4225104522396576\n",
      "n_splits: 7 KBest: 4 0.44381566897483016\n",
      "n_splits: 7 KBest: 5 0.4586692494416445\n",
      "n_splits: 7 KBest: 6 0.46226864302908993\n",
      "n_splits: 7 KBest: 7 0.4649705107646417\n",
      "n_splits: 7 KBest: 8 0.4616702924611608\n",
      "n_splits: 7 KBest: 9 0.461220112389132\n",
      "i 7 max: 0.4658693111317712\n",
      "n_splits: 8 KBest: 1 0.40060592582356686\n",
      "n_splits: 8 KBest: 2 0.4066070672873466\n",
      "n_splits: 8 KBest: 3 0.4214604906710886\n",
      "n_splits: 8 KBest: 4 0.44306589542291736\n",
      "n_splits: 8 KBest: 5 0.45881913916645795\n",
      "n_splits: 8 KBest: 6 0.4612183002697482\n",
      "n_splits: 8 KBest: 7 0.46482046055832404\n",
      "n_splits: 8 KBest: 8 0.46181944000621833\n",
      "n_splits: 8 KBest: 9 0.46226980000633344\n",
      "i 8 max: 0.4658693111317712\n"
     ]
    }
   ],
   "source": [
    "# максимальное значение: n_splits: 4 KBest: 7 0.4658693111317712\n",
    "model=GaussianNB()\n",
    "for i in lst_2:\n",
    "   kfold=KFold(n_splits=i,random_state=7,shuffle=True)\n",
    "   for j in lst_1:\n",
    "      test=SelectKBest(score_func=f_classif, k=j)\n",
    "      fit=test.fit(X,Y)\n",
    "      features=fit.transform(X)\n",
    "      results=cross_val_score(model, features, Y, cv=kfold)\n",
    "      res = results.mean()\n",
    "      k.append(res)\n",
    "      print(f'n_splits: {i} KBest: {j} {res}')\n",
    "   print(f'i {i} max: {max(k)}')"
   ]
  },
  {
   "cell_type": "markdown",
   "id": "319b84e7",
   "metadata": {},
   "source": [
    "**Вывод: отбор показал, что лучший результат дает выбор 7 лучших признаков**"
   ]
  },
  {
   "cell_type": "code",
   "execution_count": 96,
   "id": "0c1be316",
   "metadata": {},
   "outputs": [
    {
     "data": {
      "text/plain": [
       "array([  4.70368846, 496.43200214, 418.45793796, 354.51376472,\n",
       "        53.09011086,  20.75182914, 364.22358787,  92.0107774 ,\n",
       "        33.2485345 ])"
      ]
     },
     "execution_count": 96,
     "metadata": {},
     "output_type": "execute_result"
    }
   ],
   "source": [
    "test=SelectKBest(score_func=f_classif, k=6)\n",
    "fit=test.fit(X,Y)\n",
    "features=fit.transform(X)\n",
    "fit.scores_"
   ]
  },
  {
   "cell_type": "code",
   "execution_count": 28,
   "id": "5b57f2f1",
   "metadata": {},
   "outputs": [],
   "source": [
    "model=model=GaussianNB()"
   ]
  },
  {
   "cell_type": "code",
   "execution_count": 29,
   "id": "a7c1a4e1",
   "metadata": {},
   "outputs": [
    {
     "data": {
      "text/plain": [
       "GaussianNB()"
      ]
     },
     "execution_count": 29,
     "metadata": {},
     "output_type": "execute_result"
    }
   ],
   "source": [
    "model.fit(X,Y)"
   ]
  },
  {
   "cell_type": "code",
   "execution_count": 30,
   "id": "65de69c8",
   "metadata": {},
   "outputs": [],
   "source": [
    "x_new=np.array([[1,0.0,22,0.0,2.0,1.0,3,4.0,4.0\t],[0,0.0,26,1.0,4.0,1.0,3,3.0,6.0\t]])\n",
    "# первый = 4, второй = 1"
   ]
  },
  {
   "cell_type": "code",
   "execution_count": 31,
   "id": "b2927516",
   "metadata": {},
   "outputs": [
    {
     "data": {
      "text/plain": [
       "array([4., 4.])"
      ]
     },
     "execution_count": 31,
     "metadata": {},
     "output_type": "execute_result"
    }
   ],
   "source": [
    "model.predict(x_new)"
   ]
  },
  {
   "cell_type": "code",
   "execution_count": 32,
   "id": "2afe5dfa",
   "metadata": {},
   "outputs": [
    {
     "data": {
      "text/plain": [
       "array([[0.05068993, 0.01073339, 0.00197263, 0.93660405],\n",
       "       [0.24733388, 0.09819985, 0.06405634, 0.59040993]])"
      ]
     },
     "execution_count": 32,
     "metadata": {},
     "output_type": "execute_result"
    }
   ],
   "source": [
    "model.predict_proba(x_new)"
   ]
  },
  {
   "cell_type": "markdown",
   "id": "e374d896",
   "metadata": {},
   "source": [
    "Вывод:\n",
    "лучшими 7-ю признаками будут: **'Семейное_положение', 'Возраст', 'Высшее_образование', 'Профессия', 'Уровень_расходов', 'Размер_семьи', 'Анонимная_категория'**"
   ]
  },
  {
   "cell_type": "markdown",
   "id": "0359e00a",
   "metadata": {},
   "source": [
    "============================================================================================"
   ]
  },
  {
   "cell_type": "code",
   "execution_count": 33,
   "id": "fdefc332",
   "metadata": {},
   "outputs": [],
   "source": [
    "from sklearn.preprocessing import StandardScaler"
   ]
  },
  {
   "cell_type": "code",
   "execution_count": 34,
   "id": "fe9d2b1e",
   "metadata": {},
   "outputs": [],
   "source": [
    "scaler=StandardScaler().fit(X)"
   ]
  },
  {
   "cell_type": "code",
   "execution_count": 35,
   "id": "9f3b76e2",
   "metadata": {},
   "outputs": [],
   "source": [
    "rescaledX=scaler.transform(X)"
   ]
  },
  {
   "cell_type": "code",
   "execution_count": 36,
   "id": "fa9135c0",
   "metadata": {},
   "outputs": [],
   "source": [
    "X = rescaledX"
   ]
  },
  {
   "cell_type": "code",
   "execution_count": 37,
   "id": "a7b2f309",
   "metadata": {},
   "outputs": [],
   "source": [
    "from sklearn.model_selection import train_test_split"
   ]
  },
  {
   "cell_type": "code",
   "execution_count": 38,
   "id": "292ae61e",
   "metadata": {},
   "outputs": [],
   "source": [
    "x_train, x_test, y_train, y_test = train_test_split(X, Y, test_size = 0.3)"
   ]
  },
  {
   "cell_type": "code",
   "execution_count": 23,
   "id": "60ef0a46",
   "metadata": {},
   "outputs": [],
   "source": [
    "from sklearn.naive_bayes import GaussianNB"
   ]
  },
  {
   "cell_type": "code",
   "execution_count": 39,
   "id": "a39cbc5c",
   "metadata": {},
   "outputs": [],
   "source": [
    "model = GaussianNB()"
   ]
  },
  {
   "cell_type": "code",
   "execution_count": 40,
   "id": "1697a0d3",
   "metadata": {},
   "outputs": [
    {
     "data": {
      "text/plain": [
       "GaussianNB()"
      ]
     },
     "execution_count": 40,
     "metadata": {},
     "output_type": "execute_result"
    }
   ],
   "source": [
    "model.fit(x_train, y_train)"
   ]
  },
  {
   "cell_type": "code",
   "execution_count": 41,
   "id": "3ebcaa12",
   "metadata": {},
   "outputs": [],
   "source": [
    "predictions = model.predict(x_test)"
   ]
  },
  {
   "cell_type": "code",
   "execution_count": 42,
   "id": "cbee3fef",
   "metadata": {},
   "outputs": [],
   "source": [
    "from sklearn.metrics import classification_report\n",
    "from sklearn.metrics import confusion_matrix"
   ]
  },
  {
   "cell_type": "code",
   "execution_count": 15,
   "id": "9ed95644",
   "metadata": {},
   "outputs": [
    {
     "name": "stdout",
     "output_type": "stream",
     "text": [
      "              precision    recall  f1-score   support\n",
      "\n",
      "         1.0       0.38      0.36      0.37       498\n",
      "         2.0       0.32      0.26      0.28       480\n",
      "         3.0       0.48      0.53      0.51       495\n",
      "         4.0       0.56      0.62      0.59       527\n",
      "\n",
      "    accuracy                           0.45      2000\n",
      "   macro avg       0.43      0.44      0.44      2000\n",
      "weighted avg       0.44      0.45      0.44      2000\n",
      "\n"
     ]
    }
   ],
   "source": [
    "print(classification_report(y_test, predictions))"
   ]
  },
  {
   "cell_type": "code",
   "execution_count": 43,
   "id": "d9fad2cd",
   "metadata": {},
   "outputs": [
    {
     "name": "stdout",
     "output_type": "stream",
     "text": [
      "[[135  68 128 120]\n",
      " [ 89  76 238  84]\n",
      " [ 41  45 348  89]\n",
      " [ 73  36  36 394]]\n"
     ]
    }
   ],
   "source": [
    "print(confusion_matrix(y_test, predictions))"
   ]
  },
  {
   "cell_type": "markdown",
   "id": "93f7ba4b",
   "metadata": {},
   "source": [
    "======================================================================="
   ]
  },
  {
   "cell_type": "markdown",
   "id": "b6fc1ff3",
   "metadata": {},
   "source": [
    "==========================================================================================================="
   ]
  },
  {
   "cell_type": "markdown",
   "id": "a0700504",
   "metadata": {},
   "source": [
    "================================================================"
   ]
  },
  {
   "cell_type": "markdown",
   "id": "46de99b5",
   "metadata": {},
   "source": [
    "# **3. Учим, проверяем модель**"
   ]
  },
  {
   "cell_type": "code",
   "execution_count": 76,
   "id": "fbf1181a",
   "metadata": {},
   "outputs": [],
   "source": [
    "model = GaussianNB()"
   ]
  },
  {
   "cell_type": "code",
   "execution_count": 77,
   "id": "86ce5261",
   "metadata": {},
   "outputs": [
    {
     "data": {
      "text/plain": [
       "GaussianNB()"
      ]
     },
     "execution_count": 77,
     "metadata": {},
     "output_type": "execute_result"
    }
   ],
   "source": [
    "model.fit(X,Y)"
   ]
  },
  {
   "cell_type": "code",
   "execution_count": 78,
   "id": "58c52acd",
   "metadata": {},
   "outputs": [],
   "source": [
    "predictions = model.predict(XX)"
   ]
  },
  {
   "cell_type": "code",
   "execution_count": 79,
   "id": "6442ed21",
   "metadata": {},
   "outputs": [],
   "source": [
    "from sklearn.metrics import classification_report\n",
    "from sklearn.metrics import confusion_matrix"
   ]
  },
  {
   "cell_type": "code",
   "execution_count": 80,
   "id": "fd3055a8",
   "metadata": {},
   "outputs": [
    {
     "name": "stdout",
     "output_type": "stream",
     "text": [
      "              precision    recall  f1-score   support\n",
      "\n",
      "         1.0       0.39      0.24      0.30      1616\n",
      "         2.0       0.34      0.17      0.23      1572\n",
      "         3.0       0.47      0.66      0.55      1720\n",
      "         4.0       0.52      0.74      0.62      1757\n",
      "\n",
      "    accuracy                           0.46      6665\n",
      "   macro avg       0.43      0.45      0.42      6665\n",
      "weighted avg       0.43      0.46      0.43      6665\n",
      "\n"
     ]
    }
   ],
   "source": [
    "print(classification_report(YY, predictions))"
   ]
  },
  {
   "cell_type": "code",
   "execution_count": 81,
   "id": "e68051da",
   "metadata": {},
   "outputs": [
    {
     "name": "stdout",
     "output_type": "stream",
     "text": [
      "[[ 383  226  423  584]\n",
      " [ 276  267  714  315]\n",
      " [ 125  175 1136  284]\n",
      " [ 196  117  137 1307]]\n"
     ]
    }
   ],
   "source": [
    "print(confusion_matrix(YY, predictions))"
   ]
  },
  {
   "cell_type": "code",
   "execution_count": 82,
   "id": "12f8e639",
   "metadata": {},
   "outputs": [],
   "source": [
    "x_new = XX[1000:1020]"
   ]
  },
  {
   "cell_type": "code",
   "execution_count": 83,
   "id": "bae98a66",
   "metadata": {},
   "outputs": [
    {
     "data": {
      "text/plain": [
       "array([2., 3., 2., 3., 3., 2., 2., 2., 2., 3., 4., 1., 3., 2., 3., 1., 1.,\n",
       "       4., 4., 3.])"
      ]
     },
     "execution_count": 83,
     "metadata": {},
     "output_type": "execute_result"
    }
   ],
   "source": [
    "YY[1000:1020]"
   ]
  },
  {
   "cell_type": "markdown",
   "id": "f1f0ea18",
   "metadata": {},
   "source": [
    "=========================================="
   ]
  },
  {
   "cell_type": "code",
   "execution_count": 84,
   "id": "36cf90f8",
   "metadata": {},
   "outputs": [
    {
     "name": "stdout",
     "output_type": "stream",
     "text": [
      "[1. 3. 3. 3. 4. 3. 4. 4. 3. 2. 4. 4. 3. 4. 4. 4. 3. 4. 2. 2.]\n"
     ]
    }
   ],
   "source": [
    "res = model.predict(x_new)\n",
    "print(res)"
   ]
  },
  {
   "cell_type": "code",
   "execution_count": null,
   "id": "daad7d15",
   "metadata": {},
   "outputs": [],
   "source": [
    "========================================================================================================================"
   ]
  },
  {
   "cell_type": "markdown",
   "id": "792c29cd",
   "metadata": {},
   "source": [
    "# **GrideSearchCV**"
   ]
  },
  {
   "cell_type": "code",
   "execution_count": 19,
   "id": "dd8e968c",
   "metadata": {},
   "outputs": [],
   "source": [
    "from sklearn.model_selection import GridSearchCV"
   ]
  },
  {
   "cell_type": "code",
   "execution_count": 20,
   "id": "2ec35d69",
   "metadata": {},
   "outputs": [],
   "source": [
    "X_train, X_test, Y_train, Y_test = train_test_split(X, Y, test_size=0.25, shuffle=True, random_state=7) "
   ]
  },
  {
   "cell_type": "code",
   "execution_count": 22,
   "id": "fa700e64",
   "metadata": {},
   "outputs": [],
   "source": [
    "clf = KNeighborsClassifier()"
   ]
  },
  {
   "cell_type": "code",
   "execution_count": 64,
   "id": "138ad4e9",
   "metadata": {},
   "outputs": [],
   "source": [
    "grid_params = {\n",
    "               'n_neighbors':np.arange(2,120,3),\n",
    "               'weights':['uniform','distance'],\n",
    "               'metric':['euclidean','manhattan']}"
   ]
  },
  {
   "cell_type": "code",
   "execution_count": 65,
   "id": "a38a4dab",
   "metadata": {},
   "outputs": [
    {
     "name": "stdout",
     "output_type": "stream",
     "text": [
      "Fitting 3 folds for each of 160 candidates, totalling 480 fits\n"
     ]
    },
    {
     "data": {
      "text/plain": [
       "GridSearchCV(cv=3, estimator=KNeighborsClassifier(), n_jobs=-1,\n",
       "             param_grid={'metric': ['euclidean', 'manhattan'],\n",
       "                         'n_neighbors': array([  2,   5,   8,  11,  14,  17,  20,  23,  26,  29,  32,  35,  38,\n",
       "        41,  44,  47,  50,  53,  56,  59,  62,  65,  68,  71,  74,  77,\n",
       "        80,  83,  86,  89,  92,  95,  98, 101, 104, 107, 110, 113, 116,\n",
       "       119]),\n",
       "                         'weights': ['uniform', 'distance']},\n",
       "             verbose=1)"
      ]
     },
     "execution_count": 65,
     "metadata": {},
     "output_type": "execute_result"
    }
   ],
   "source": [
    "grid = GridSearchCV(clf, grid_params, cv=3,verbose=1,n_jobs=-1)\n",
    "grid.fit(X_train,Y_train)"
   ]
  },
  {
   "cell_type": "code",
   "execution_count": 66,
   "id": "8f66e506",
   "metadata": {},
   "outputs": [
    {
     "name": "stdout",
     "output_type": "stream",
     "text": [
      "{'metric': 'manhattan', 'n_neighbors': 62, 'weights': 'uniform'}\n",
      "KNeighborsClassifier(metric='manhattan', n_neighbors=62)\n"
     ]
    }
   ],
   "source": [
    "print(grid.best_params_)\n",
    "print(grid.best_estimator_)"
   ]
  },
  {
   "cell_type": "code",
   "execution_count": 67,
   "id": "f1888e46",
   "metadata": {},
   "outputs": [],
   "source": [
    "from sklearn.metrics import classification_report, confusion_matrix"
   ]
  },
  {
   "cell_type": "code",
   "execution_count": 68,
   "id": "452e1d46",
   "metadata": {},
   "outputs": [
    {
     "name": "stdout",
     "output_type": "stream",
     "text": [
      "              precision    recall  f1-score   support\n",
      "\n",
      "         1.0       0.46      0.43      0.44      1616\n",
      "         2.0       0.40      0.21      0.28      1572\n",
      "         3.0       0.51      0.66      0.58      1720\n",
      "         4.0       0.59      0.70      0.64      1757\n",
      "\n",
      "    accuracy                           0.51      6665\n",
      "   macro avg       0.49      0.50      0.48      6665\n",
      "weighted avg       0.49      0.51      0.49      6665\n",
      "\n"
     ]
    }
   ],
   "source": [
    "grid_predictions = grid.predict(XX)\n",
    "print(classification_report(YY, grid_predictions))"
   ]
  },
  {
   "cell_type": "code",
   "execution_count": 69,
   "id": "dc608d2b",
   "metadata": {},
   "outputs": [
    {
     "name": "stdout",
     "output_type": "stream",
     "text": [
      "[[ 687  236  306  387]\n",
      " [ 324  334  701  213]\n",
      " [ 165  168 1143  244]\n",
      " [ 309  107  104 1237]]\n"
     ]
    }
   ],
   "source": [
    "print(confusion_matrix(YY, grid_predictions))"
   ]
  },
  {
   "cell_type": "code",
   "execution_count": null,
   "id": "67a47e3c",
   "metadata": {},
   "outputs": [],
   "source": [
    "================================================================================================================"
   ]
  },
  {
   "cell_type": "code",
   "execution_count": 117,
   "id": "b4a9dff0",
   "metadata": {},
   "outputs": [],
   "source": [
    "model = KNeighborsClassifier(n_neighbors = 2,weights='distance')"
   ]
  },
  {
   "cell_type": "code",
   "execution_count": 118,
   "id": "30af47d1",
   "metadata": {},
   "outputs": [
    {
     "data": {
      "text/plain": [
       "KNeighborsClassifier(n_neighbors=2, weights='distance')"
      ]
     },
     "execution_count": 118,
     "metadata": {},
     "output_type": "execute_result"
    }
   ],
   "source": [
    "model.fit(X,Y)"
   ]
  },
  {
   "cell_type": "code",
   "execution_count": 119,
   "id": "87bc840c",
   "metadata": {},
   "outputs": [],
   "source": [
    "new_predictions = model.predict(XX)"
   ]
  },
  {
   "cell_type": "code",
   "execution_count": 120,
   "id": "0b05dc37",
   "metadata": {},
   "outputs": [
    {
     "name": "stdout",
     "output_type": "stream",
     "text": [
      "              precision    recall  f1-score   support\n",
      "\n",
      "         1.0       0.91      0.99      0.95      1616\n",
      "         2.0       0.91      0.94      0.93      1572\n",
      "         3.0       0.97      0.90      0.94      1720\n",
      "         4.0       1.00      0.96      0.98      1757\n",
      "\n",
      "    accuracy                           0.95      6665\n",
      "   macro avg       0.95      0.95      0.95      6665\n",
      "weighted avg       0.95      0.95      0.95      6665\n",
      "\n",
      "[[1604    6    5    1]\n",
      " [  81 1483    7    1]\n",
      " [  47  119 1553    1]\n",
      " [  23   17   36 1681]]\n"
     ]
    }
   ],
   "source": [
    "print(classification_report(YY, new_predictions))\n",
    "print(confusion_matrix(YY, new_predictions))"
   ]
  },
  {
   "cell_type": "code",
   "execution_count": 9,
   "id": "f4ddb5b9",
   "metadata": {},
   "outputs": [],
   "source": [
    "from sklearn.model_selection import KFold\n",
    "from sklearn.model_selection import cross_val_score\n",
    "# отбор признаков:\n",
    "from sklearn.feature_selection import SelectKBest\n",
    "from sklearn.feature_selection import f_classif\n",
    "# ансамблевые функции:\n",
    "from sklearn.ensemble import BaggingClassifier\n",
    "from sklearn.tree import DecisionTreeClassifier\n",
    "from sklearn.ensemble import RandomForestClassifier\n",
    "from sklearn.ensemble import ExtraTreesClassifier\n",
    "from sklearn.ensemble import AdaBoostClassifier\n",
    "from sklearn.ensemble import GradientBoostingClassifier\n",
    "from xgboost import XGBClassifier\n",
    "from sklearn.linear_model import LogisticRegression\n",
    "from sklearn.svm import SVC\n",
    "from sklearn.ensemble import VotingClassifier\n",
    "import numpy as np\n",
    "from sklearn.linear_model import RidgeClassifier\n",
    "from sklearn.model_selection import GridSearchCV\n",
    "from scipy.stats import uniform\n",
    "from sklearn.model_selection import RandomizedSearchCV\n",
    "from sklearn.model_selection import train_test_split\n",
    "# сохраняет параметры после перезагрузки:\n",
    "import pickle\n",
    "import joblib"
   ]
  },
  {
   "cell_type": "code",
   "execution_count": null,
   "id": "3bfe9c26",
   "metadata": {},
   "outputs": [],
   "source": []
  },
  {
   "cell_type": "markdown",
   "id": "fe26df34",
   "metadata": {},
   "source": [
    "# **GrideSearchCV**"
   ]
  },
  {
   "cell_type": "code",
   "execution_count": 10,
   "id": "b9271c5b",
   "metadata": {},
   "outputs": [],
   "source": [
    "from sklearn.model_selection import GridSearchCV\n",
    "from sklearn.naive_bayes import GaussianNB"
   ]
  },
  {
   "cell_type": "code",
   "execution_count": 11,
   "id": "8ed4499d",
   "metadata": {},
   "outputs": [],
   "source": [
    "X_train, X_test, Y_train, Y_test = train_test_split(X, Y, test_size=0.25, shuffle=True, random_state=7) "
   ]
  },
  {
   "cell_type": "code",
   "execution_count": 12,
   "id": "e82ff55b",
   "metadata": {},
   "outputs": [],
   "source": [
    "clf = GaussianNB()"
   ]
  },
  {
   "cell_type": "code",
   "execution_count": 15,
   "id": "bae1a3e3",
   "metadata": {},
   "outputs": [],
   "source": [
    "parametrs = {\n",
    " 'var_smoothing': np.logspace(0,-9, num =100)\n",
    "}"
   ]
  },
  {
   "cell_type": "code",
   "execution_count": 16,
   "id": "9903e142",
   "metadata": {},
   "outputs": [
    {
     "name": "stdout",
     "output_type": "stream",
     "text": [
      "Fitting 3 folds for each of 100 candidates, totalling 300 fits\n"
     ]
    },
    {
     "data": {
      "text/plain": [
       "GridSearchCV(cv=3, estimator=GaussianNB(), n_jobs=-1,\n",
       "             param_grid={'var_smoothing': array([1.00000000e+00, 8.11130831e-01, 6.57933225e-01, 5.33669923e-01,\n",
       "       4.32876128e-01, 3.51119173e-01, 2.84803587e-01, 2.31012970e-01,\n",
       "       1.87381742e-01, 1.51991108e-01, 1.23284674e-01, 1.00000000e-01,\n",
       "       8.11130831e-02, 6.57933225e-02, 5.33669923e-02, 4.32876128e-02,\n",
       "       3.51119173e-02, 2.8480358...\n",
       "       1.23284674e-07, 1.00000000e-07, 8.11130831e-08, 6.57933225e-08,\n",
       "       5.33669923e-08, 4.32876128e-08, 3.51119173e-08, 2.84803587e-08,\n",
       "       2.31012970e-08, 1.87381742e-08, 1.51991108e-08, 1.23284674e-08,\n",
       "       1.00000000e-08, 8.11130831e-09, 6.57933225e-09, 5.33669923e-09,\n",
       "       4.32876128e-09, 3.51119173e-09, 2.84803587e-09, 2.31012970e-09,\n",
       "       1.87381742e-09, 1.51991108e-09, 1.23284674e-09, 1.00000000e-09])},\n",
       "             verbose=1)"
      ]
     },
     "execution_count": 16,
     "metadata": {},
     "output_type": "execute_result"
    }
   ],
   "source": [
    "grid = GridSearchCV(clf, param_grid=parametrs, cv=3,verbose=1,n_jobs=-1)\n",
    "grid.fit(X,Y)"
   ]
  },
  {
   "cell_type": "code",
   "execution_count": 17,
   "id": "0a17df64",
   "metadata": {},
   "outputs": [
    {
     "name": "stdout",
     "output_type": "stream",
     "text": [
      "{'var_smoothing': 3.511191734215127e-05}\n",
      "GaussianNB(var_smoothing=3.511191734215127e-05)\n"
     ]
    }
   ],
   "source": [
    "print(grid.best_params_)\n",
    "print(grid.best_estimator_)"
   ]
  },
  {
   "cell_type": "code",
   "execution_count": 21,
   "id": "815cd8e5",
   "metadata": {},
   "outputs": [],
   "source": [
    "from sklearn.metrics import classification_report, confusion_matrix"
   ]
  },
  {
   "cell_type": "code",
   "execution_count": 19,
   "id": "d114653e",
   "metadata": {},
   "outputs": [
    {
     "name": "stdout",
     "output_type": "stream",
     "text": [
      "              precision    recall  f1-score   support\n",
      "\n",
      "         1.0       0.41      0.28      0.33       351\n",
      "         2.0       0.33      0.20      0.25       347\n",
      "         3.0       0.45      0.59      0.51       361\n",
      "         4.0       0.52      0.72      0.61       373\n",
      "\n",
      "    accuracy                           0.45      1432\n",
      "   macro avg       0.43      0.45      0.42      1432\n",
      "weighted avg       0.43      0.45      0.43      1432\n",
      "\n"
     ]
    }
   ],
   "source": [
    "grid_predictions = grid.predict(X_test)\n",
    "print(classification_report(Y_test, grid_predictions))"
   ]
  },
  {
   "cell_type": "code",
   "execution_count": 22,
   "id": "0457bd96",
   "metadata": {},
   "outputs": [
    {
     "name": "stdout",
     "output_type": "stream",
     "text": [
      "[[ 97  55  85 114]\n",
      " [ 64  70 149  64]\n",
      " [ 38  43 212  68]\n",
      " [ 37  44  23 269]]\n"
     ]
    }
   ],
   "source": [
    "print(confusion_matrix(Y_test, grid_predictions))"
   ]
  },
  {
   "cell_type": "code",
   "execution_count": null,
   "id": "67a47e3c",
   "metadata": {},
   "outputs": [],
   "source": [
    "================================================================================================================"
   ]
  },
  {
   "cell_type": "code",
   "execution_count": 25,
   "id": "a6598752",
   "metadata": {},
   "outputs": [],
   "source": [
    "model = GaussianNB(var_smoothing=3.511191734215127e-05)"
   ]
  },
  {
   "cell_type": "code",
   "execution_count": 26,
   "id": "651f6f90",
   "metadata": {},
   "outputs": [
    {
     "data": {
      "text/plain": [
       "GaussianNB(var_smoothing=3.511191734215127e-05)"
      ]
     },
     "execution_count": 26,
     "metadata": {},
     "output_type": "execute_result"
    }
   ],
   "source": [
    "model.fit(X,Y)"
   ]
  },
  {
   "cell_type": "code",
   "execution_count": 27,
   "id": "8bc76cdc",
   "metadata": {},
   "outputs": [],
   "source": [
    "new_predictions = model.predict(X_test)"
   ]
  },
  {
   "cell_type": "code",
   "execution_count": 28,
   "id": "a9d6f551",
   "metadata": {},
   "outputs": [
    {
     "name": "stdout",
     "output_type": "stream",
     "text": [
      "              precision    recall  f1-score   support\n",
      "\n",
      "         1.0       0.41      0.28      0.33       351\n",
      "         2.0       0.33      0.20      0.25       347\n",
      "         3.0       0.45      0.59      0.51       361\n",
      "         4.0       0.52      0.72      0.61       373\n",
      "\n",
      "    accuracy                           0.45      1432\n",
      "   macro avg       0.43      0.45      0.42      1432\n",
      "weighted avg       0.43      0.45      0.43      1432\n",
      "\n",
      "[[ 97  55  85 114]\n",
      " [ 64  70 149  64]\n",
      " [ 38  43 212  68]\n",
      " [ 37  44  23 269]]\n"
     ]
    }
   ],
   "source": [
    "print(classification_report(Y_test, new_predictions))\n",
    "print(confusion_matrix(Y_test, new_predictions))"
   ]
  },
  {
   "cell_type": "code",
   "execution_count": 29,
   "id": "73c8cc89",
   "metadata": {},
   "outputs": [
    {
     "data": {
      "text/plain": [
       "0.44211629125196444"
      ]
     },
     "execution_count": 29,
     "metadata": {},
     "output_type": "execute_result"
    }
   ],
   "source": [
    "kfold=KFold(n_splits=3,random_state=7,shuffle=True)\n",
    "results=cross_val_score(model, X, Y, cv=3)\n",
    "results.mean()"
   ]
  },
  {
   "cell_type": "code",
   "execution_count": null,
   "id": "c09d1c35",
   "metadata": {},
   "outputs": [],
   "source": [
    "================================================================================================================"
   ]
  },
  {
   "cell_type": "markdown",
   "id": "0afb3ab4",
   "metadata": {},
   "source": [
    "========================================="
   ]
  }
 ],
 "metadata": {
  "kernelspec": {
   "display_name": "Python 3 (ipykernel)",
   "language": "python",
   "name": "python3"
  },
  "language_info": {
   "codemirror_mode": {
    "name": "ipython",
    "version": 3
   },
   "file_extension": ".py",
   "mimetype": "text/x-python",
   "name": "python",
   "nbconvert_exporter": "python",
   "pygments_lexer": "ipython3",
   "version": "3.9.7"
  }
 },
 "nbformat": 4,
 "nbformat_minor": 5
}
