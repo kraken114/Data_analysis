{
  "nbformat": 4,
  "nbformat_minor": 0,
  "metadata": {
    "colab": {
      "provenance": []
    },
    "kernelspec": {
      "name": "python3",
      "display_name": "Python 3"
    },
    "language_info": {
      "name": "python"
    }
  },
  "cells": [
    {
      "cell_type": "markdown",
      "source": [
        "# **ЗАДАНИЕ 8. НЕЛИНЕЙНЫЕ МОДЕЛИ ДЛЯ КЛАССИФИКАЦИИ. ВЫБОР ЛУЧШЕЙ МОДЕЛИ ДЛЯ КЛАССИФИКАЦИИ. ПОСТРОЕНИЕ ПРОГРАММНОГО КОНВЕЕРА**"
      ],
      "metadata": {
        "id": "_8a3J2sZEQPN"
      }
    },
    {
      "cell_type": "markdown",
      "source": [
        "Постройте нелинейные модели для классификации (модель ближайшего соседа, наивный байесовский классификатор, модель решающего дерева), оцените их качество, сравните с линейными моделями, выберите лучшую модель. Создайте программный конвеер для подготовки данных и моделирования, а также программный конвеер для отбора признаков и моделирования. Оцените целесообразность создания программного конвеера.\n",
        "Постарайтесь максимально автоматизировать все вычисления, использовать существующие модули среды программирования Python."
      ],
      "metadata": {
        "id": "OWmcK8AzEaZr"
      }
    },
    {
      "cell_type": "code",
      "source": [
        "from google.colab import drive\n",
        "drive.mount('/content/gdrive')\n",
        "\n",
        "import os\n",
        "import numpy as np\n",
        "import pandas as pd\n",
        "from pandas import read_csv\n",
        "from sklearn.model_selection import KFold\n",
        "from sklearn.model_selection import cross_val_score\n",
        "from sklearn.neighbors import KNeighborsClassifier\n",
        "from sklearn.naive_bayes import GaussianNB\n",
        "from sklearn.tree import DecisionTreeClassifier\n",
        "from matplotlib import pyplot\n",
        "from sklearn.linear_model import LogisticRegression\n",
        "from sklearn.discriminant_analysis import LinearDiscriminantAnalysis\n",
        "from sklearn.svm import SVC\n",
        "from sklearn.preprocessing import StandardScaler\n",
        "from sklearn.pipeline import Pipeline\n",
        "from sklearn.pipeline import FeatureUnion\n",
        "from sklearn.decomposition import PCA\n",
        "from sklearn.feature_selection import SelectKBest"
      ],
      "metadata": {
        "colab": {
          "base_uri": "https://localhost:8080/"
        },
        "id": "1Hwk-t9otZDE",
        "outputId": "0292cd72-e560-484d-9d16-e0095deecb00"
      },
      "execution_count": null,
      "outputs": [
        {
          "output_type": "stream",
          "name": "stdout",
          "text": [
            "Mounted at /content/gdrive\n"
          ]
        }
      ]
    },
    {
      "cell_type": "markdown",
      "source": [
        "**Методика выполнения задания:**\n",
        "\n",
        "# **Раздел 1. Нелинейные модели для классификации**\n",
        "\n"
      ],
      "metadata": {
        "id": "QgI2RtLgEdbJ"
      }
    },
    {
      "cell_type": "code",
      "source": [
        "os.chdir('/content/gdrive/MyDrive/Colab Notebooks/PDA-200/')"
      ],
      "metadata": {
        "id": "I04-LRZzy5OO"
      },
      "execution_count": null,
      "outputs": []
    },
    {
      "cell_type": "code",
      "source": [
        "filename='pima-indians-diabetes.data.csv'\n",
        "names=['preg','plas','pres','skin','test','mass','pedi','age','class']\n",
        "data=read_csv(filename,names=names)\n",
        "data.head(10)"
      ],
      "metadata": {
        "colab": {
          "base_uri": "https://localhost:8080/",
          "height": 363
        },
        "id": "HLtGvao_zk-a",
        "outputId": "471a968d-e159-47a0-aff1-4ca9644ad145"
      },
      "execution_count": null,
      "outputs": [
        {
          "output_type": "execute_result",
          "data": {
            "text/plain": [
              "   preg  plas  pres  skin  test  mass   pedi  age  class\n",
              "0     6   148    72    35     0  33.6  0.627   50      1\n",
              "1     1    85    66    29     0  26.6  0.351   31      0\n",
              "2     8   183    64     0     0  23.3  0.672   32      1\n",
              "3     1    89    66    23    94  28.1  0.167   21      0\n",
              "4     0   137    40    35   168  43.1  2.288   33      1\n",
              "5     5   116    74     0     0  25.6  0.201   30      0\n",
              "6     3    78    50    32    88  31.0  0.248   26      1\n",
              "7    10   115     0     0     0  35.3  0.134   29      0\n",
              "8     2   197    70    45   543  30.5  0.158   53      1\n",
              "9     8   125    96     0     0   0.0  0.232   54      1"
            ],
            "text/html": [
              "\n",
              "  <div id=\"df-2ecb4e92-01db-4428-bc14-c848523d7ccd\">\n",
              "    <div class=\"colab-df-container\">\n",
              "      <div>\n",
              "<style scoped>\n",
              "    .dataframe tbody tr th:only-of-type {\n",
              "        vertical-align: middle;\n",
              "    }\n",
              "\n",
              "    .dataframe tbody tr th {\n",
              "        vertical-align: top;\n",
              "    }\n",
              "\n",
              "    .dataframe thead th {\n",
              "        text-align: right;\n",
              "    }\n",
              "</style>\n",
              "<table border=\"1\" class=\"dataframe\">\n",
              "  <thead>\n",
              "    <tr style=\"text-align: right;\">\n",
              "      <th></th>\n",
              "      <th>preg</th>\n",
              "      <th>plas</th>\n",
              "      <th>pres</th>\n",
              "      <th>skin</th>\n",
              "      <th>test</th>\n",
              "      <th>mass</th>\n",
              "      <th>pedi</th>\n",
              "      <th>age</th>\n",
              "      <th>class</th>\n",
              "    </tr>\n",
              "  </thead>\n",
              "  <tbody>\n",
              "    <tr>\n",
              "      <th>0</th>\n",
              "      <td>6</td>\n",
              "      <td>148</td>\n",
              "      <td>72</td>\n",
              "      <td>35</td>\n",
              "      <td>0</td>\n",
              "      <td>33.6</td>\n",
              "      <td>0.627</td>\n",
              "      <td>50</td>\n",
              "      <td>1</td>\n",
              "    </tr>\n",
              "    <tr>\n",
              "      <th>1</th>\n",
              "      <td>1</td>\n",
              "      <td>85</td>\n",
              "      <td>66</td>\n",
              "      <td>29</td>\n",
              "      <td>0</td>\n",
              "      <td>26.6</td>\n",
              "      <td>0.351</td>\n",
              "      <td>31</td>\n",
              "      <td>0</td>\n",
              "    </tr>\n",
              "    <tr>\n",
              "      <th>2</th>\n",
              "      <td>8</td>\n",
              "      <td>183</td>\n",
              "      <td>64</td>\n",
              "      <td>0</td>\n",
              "      <td>0</td>\n",
              "      <td>23.3</td>\n",
              "      <td>0.672</td>\n",
              "      <td>32</td>\n",
              "      <td>1</td>\n",
              "    </tr>\n",
              "    <tr>\n",
              "      <th>3</th>\n",
              "      <td>1</td>\n",
              "      <td>89</td>\n",
              "      <td>66</td>\n",
              "      <td>23</td>\n",
              "      <td>94</td>\n",
              "      <td>28.1</td>\n",
              "      <td>0.167</td>\n",
              "      <td>21</td>\n",
              "      <td>0</td>\n",
              "    </tr>\n",
              "    <tr>\n",
              "      <th>4</th>\n",
              "      <td>0</td>\n",
              "      <td>137</td>\n",
              "      <td>40</td>\n",
              "      <td>35</td>\n",
              "      <td>168</td>\n",
              "      <td>43.1</td>\n",
              "      <td>2.288</td>\n",
              "      <td>33</td>\n",
              "      <td>1</td>\n",
              "    </tr>\n",
              "    <tr>\n",
              "      <th>5</th>\n",
              "      <td>5</td>\n",
              "      <td>116</td>\n",
              "      <td>74</td>\n",
              "      <td>0</td>\n",
              "      <td>0</td>\n",
              "      <td>25.6</td>\n",
              "      <td>0.201</td>\n",
              "      <td>30</td>\n",
              "      <td>0</td>\n",
              "    </tr>\n",
              "    <tr>\n",
              "      <th>6</th>\n",
              "      <td>3</td>\n",
              "      <td>78</td>\n",
              "      <td>50</td>\n",
              "      <td>32</td>\n",
              "      <td>88</td>\n",
              "      <td>31.0</td>\n",
              "      <td>0.248</td>\n",
              "      <td>26</td>\n",
              "      <td>1</td>\n",
              "    </tr>\n",
              "    <tr>\n",
              "      <th>7</th>\n",
              "      <td>10</td>\n",
              "      <td>115</td>\n",
              "      <td>0</td>\n",
              "      <td>0</td>\n",
              "      <td>0</td>\n",
              "      <td>35.3</td>\n",
              "      <td>0.134</td>\n",
              "      <td>29</td>\n",
              "      <td>0</td>\n",
              "    </tr>\n",
              "    <tr>\n",
              "      <th>8</th>\n",
              "      <td>2</td>\n",
              "      <td>197</td>\n",
              "      <td>70</td>\n",
              "      <td>45</td>\n",
              "      <td>543</td>\n",
              "      <td>30.5</td>\n",
              "      <td>0.158</td>\n",
              "      <td>53</td>\n",
              "      <td>1</td>\n",
              "    </tr>\n",
              "    <tr>\n",
              "      <th>9</th>\n",
              "      <td>8</td>\n",
              "      <td>125</td>\n",
              "      <td>96</td>\n",
              "      <td>0</td>\n",
              "      <td>0</td>\n",
              "      <td>0.0</td>\n",
              "      <td>0.232</td>\n",
              "      <td>54</td>\n",
              "      <td>1</td>\n",
              "    </tr>\n",
              "  </tbody>\n",
              "</table>\n",
              "</div>\n",
              "      <button class=\"colab-df-convert\" onclick=\"convertToInteractive('df-2ecb4e92-01db-4428-bc14-c848523d7ccd')\"\n",
              "              title=\"Convert this dataframe to an interactive table.\"\n",
              "              style=\"display:none;\">\n",
              "        \n",
              "  <svg xmlns=\"http://www.w3.org/2000/svg\" height=\"24px\"viewBox=\"0 0 24 24\"\n",
              "       width=\"24px\">\n",
              "    <path d=\"M0 0h24v24H0V0z\" fill=\"none\"/>\n",
              "    <path d=\"M18.56 5.44l.94 2.06.94-2.06 2.06-.94-2.06-.94-.94-2.06-.94 2.06-2.06.94zm-11 1L8.5 8.5l.94-2.06 2.06-.94-2.06-.94L8.5 2.5l-.94 2.06-2.06.94zm10 10l.94 2.06.94-2.06 2.06-.94-2.06-.94-.94-2.06-.94 2.06-2.06.94z\"/><path d=\"M17.41 7.96l-1.37-1.37c-.4-.4-.92-.59-1.43-.59-.52 0-1.04.2-1.43.59L10.3 9.45l-7.72 7.72c-.78.78-.78 2.05 0 2.83L4 21.41c.39.39.9.59 1.41.59.51 0 1.02-.2 1.41-.59l7.78-7.78 2.81-2.81c.8-.78.8-2.07 0-2.86zM5.41 20L4 18.59l7.72-7.72 1.47 1.35L5.41 20z\"/>\n",
              "  </svg>\n",
              "      </button>\n",
              "      \n",
              "  <style>\n",
              "    .colab-df-container {\n",
              "      display:flex;\n",
              "      flex-wrap:wrap;\n",
              "      gap: 12px;\n",
              "    }\n",
              "\n",
              "    .colab-df-convert {\n",
              "      background-color: #E8F0FE;\n",
              "      border: none;\n",
              "      border-radius: 50%;\n",
              "      cursor: pointer;\n",
              "      display: none;\n",
              "      fill: #1967D2;\n",
              "      height: 32px;\n",
              "      padding: 0 0 0 0;\n",
              "      width: 32px;\n",
              "    }\n",
              "\n",
              "    .colab-df-convert:hover {\n",
              "      background-color: #E2EBFA;\n",
              "      box-shadow: 0px 1px 2px rgba(60, 64, 67, 0.3), 0px 1px 3px 1px rgba(60, 64, 67, 0.15);\n",
              "      fill: #174EA6;\n",
              "    }\n",
              "\n",
              "    [theme=dark] .colab-df-convert {\n",
              "      background-color: #3B4455;\n",
              "      fill: #D2E3FC;\n",
              "    }\n",
              "\n",
              "    [theme=dark] .colab-df-convert:hover {\n",
              "      background-color: #434B5C;\n",
              "      box-shadow: 0px 1px 3px 1px rgba(0, 0, 0, 0.15);\n",
              "      filter: drop-shadow(0px 1px 2px rgba(0, 0, 0, 0.3));\n",
              "      fill: #FFFFFF;\n",
              "    }\n",
              "  </style>\n",
              "\n",
              "      <script>\n",
              "        const buttonEl =\n",
              "          document.querySelector('#df-2ecb4e92-01db-4428-bc14-c848523d7ccd button.colab-df-convert');\n",
              "        buttonEl.style.display =\n",
              "          google.colab.kernel.accessAllowed ? 'block' : 'none';\n",
              "\n",
              "        async function convertToInteractive(key) {\n",
              "          const element = document.querySelector('#df-2ecb4e92-01db-4428-bc14-c848523d7ccd');\n",
              "          const dataTable =\n",
              "            await google.colab.kernel.invokeFunction('convertToInteractive',\n",
              "                                                     [key], {});\n",
              "          if (!dataTable) return;\n",
              "\n",
              "          const docLinkHtml = 'Like what you see? Visit the ' +\n",
              "            '<a target=\"_blank\" href=https://colab.research.google.com/notebooks/data_table.ipynb>data table notebook</a>'\n",
              "            + ' to learn more about interactive tables.';\n",
              "          element.innerHTML = '';\n",
              "          dataTable['output_type'] = 'display_data';\n",
              "          await google.colab.output.renderOutput(dataTable, element);\n",
              "          const docLink = document.createElement('div');\n",
              "          docLink.innerHTML = docLinkHtml;\n",
              "          element.appendChild(docLink);\n",
              "        }\n",
              "      </script>\n",
              "    </div>\n",
              "  </div>\n",
              "  "
            ]
          },
          "metadata": {},
          "execution_count": 4
        }
      ]
    },
    {
      "cell_type": "code",
      "source": [
        "data['class'].value_counts()"
      ],
      "metadata": {
        "id": "3xzZukivRDd-"
      },
      "execution_count": null,
      "outputs": []
    },
    {
      "cell_type": "code",
      "source": [
        "data[data['skin'] == 0].plas.hist()"
      ],
      "metadata": {
        "id": "MLLmlPCPTnA7"
      },
      "execution_count": null,
      "outputs": []
    },
    {
      "cell_type": "markdown",
      "source": [
        "**3. Сохраните в переменную array значения признаков, обратившись к атрибуту values.**\n",
        "\n",
        "**4. Выделите в переменной array часть, которая относится к факторным признакам, назовите ее X, и часть, которая относится к результативному признаку, - Y. Прокомментируйте содержимое переменных X и Y.**\n"
      ],
      "metadata": {
        "id": "AG-z6ceGEyYB"
      }
    },
    {
      "cell_type": "code",
      "source": [
        "array = data.values\n",
        "array"
      ],
      "metadata": {
        "colab": {
          "base_uri": "https://localhost:8080/"
        },
        "id": "RFp0Zpru52tp",
        "outputId": "1d85a859-e618-486c-aa60-689b233d2f76"
      },
      "execution_count": null,
      "outputs": [
        {
          "output_type": "execute_result",
          "data": {
            "text/plain": [
              "array([[  6.   , 148.   ,  72.   , ...,   0.627,  50.   ,   1.   ],\n",
              "       [  1.   ,  85.   ,  66.   , ...,   0.351,  31.   ,   0.   ],\n",
              "       [  8.   , 183.   ,  64.   , ...,   0.672,  32.   ,   1.   ],\n",
              "       ...,\n",
              "       [  5.   , 121.   ,  72.   , ...,   0.245,  30.   ,   0.   ],\n",
              "       [  1.   , 126.   ,  60.   , ...,   0.349,  47.   ,   1.   ],\n",
              "       [  1.   ,  93.   ,  70.   , ...,   0.315,  23.   ,   0.   ]])"
            ]
          },
          "metadata": {},
          "execution_count": 5
        }
      ]
    },
    {
      "cell_type": "code",
      "source": [
        "X = array[:,0:8] # факторные признаки, т.е. параметры объекта\n",
        "Y = array[:,8] # результативные признак, т.е. сам объект\n",
        "# это обучение с учителем х - это данные, y - это ответ"
      ],
      "metadata": {
        "id": "hk4htyL46Bsl"
      },
      "execution_count": null,
      "outputs": []
    },
    {
      "cell_type": "markdown",
      "source": [
        "**5. Задайте разбиение на фолды с помощью функции KFold(n_splits= n_splits, random_state = random_state, shuffle=True) из модуля sklearn.model_selection. Результат запишите в переменную kfold. На вход данной функции подайте следующую информацию: 1) количество частей, на которые должна разбиваться выборка (n_splits), - пусть 10; 2) счетчик случайных чисел (random_state) – пусть 7; 3) необходимость перемешивания данных выборки при каждой оценке, задав параметр shuffle=True.**\n",
        "\n",
        "**6. Постройте модель ближайшего соседа, воспользовавшись функцией KNeighborsClassifier() из модуля sklearn.neighbors. Результат запишите в переменную model. По умолчанию k принимается равным** **5. Вы можете изменить настройки, задав другое значение параметра n_neighbors. Параметр weights отвечает за веса наблюдений. По умолчанию они одинаковые, взяты из равномерного распределения. Соответственно, вероятность каждого наблюдения равна 1/n, где n – число наблюдений.**\n",
        "\n",
        "**7. Проведите кросс-валидацию, воспользовавшись функцией cross_val_score(model, X, Y, cv=kfold) из модуля sklearn.model_selection. Результат запишите в переменную results.**\n",
        "\n",
        "**8. Выведите на экран среднюю долю правильных ответов (accuracy) и стандартное отклонение полученных оценок, воспользовавшись функциями mean() и std() соответственно.**\n"
      ],
      "metadata": {
        "id": "uLb3q7AMqSOx"
      }
    },
    {
      "cell_type": "code",
      "source": [
        "kfold=KFold(n_splits=10,random_state=7,shuffle=True)"
      ],
      "metadata": {
        "id": "IoSiCEgWqFLH"
      },
      "execution_count": null,
      "outputs": []
    },
    {
      "cell_type": "code",
      "source": [
        "model=KNeighborsClassifier() # по умолчанию k = 5"
      ],
      "metadata": {
        "id": "UZKRYQTsJm6y"
      },
      "execution_count": null,
      "outputs": []
    },
    {
      "cell_type": "code",
      "source": [
        "results=cross_val_score(model, X, Y, cv=kfold)"
      ],
      "metadata": {
        "id": "P-KsATdfKKT0"
      },
      "execution_count": null,
      "outputs": []
    },
    {
      "cell_type": "code",
      "source": [
        "model.fit(X,Y)"
      ],
      "metadata": {
        "colab": {
          "base_uri": "https://localhost:8080/"
        },
        "id": "qD_-X6DjLF02",
        "outputId": "41315960-04b6-4574-dda6-4bbc37840232"
      },
      "execution_count": null,
      "outputs": [
        {
          "output_type": "execute_result",
          "data": {
            "text/plain": [
              "KNeighborsClassifier()"
            ]
          },
          "metadata": {},
          "execution_count": 10
        }
      ]
    },
    {
      "cell_type": "code",
      "source": [
        "results.mean(),results.std()"
      ],
      "metadata": {
        "colab": {
          "base_uri": "https://localhost:8080/"
        },
        "id": "x-IuEjl6KVH_",
        "outputId": "b4c8f2bf-cf47-4095-9deb-fe1607ef73ac"
      },
      "execution_count": null,
      "outputs": [
        {
          "output_type": "execute_result",
          "data": {
            "text/plain": [
              "(0.7109876965140123, 0.0507915093681296)"
            ]
          },
          "metadata": {},
          "execution_count": 11
        }
      ]
    },
    {
      "cell_type": "markdown",
      "source": [
        "**9. Обучите модель kNN на всех данных, воспользовавшись функцией fit().**\n",
        "\n",
        "**10. Произвольно задайте значения факторных признаков для двух новых наблюдений. Поместите их в переменную x_new. Например, np.array([[0,136,42,34,136,43,2,32],[0,137,40,35,168,43.1,2.288,33]]).**\n",
        "\n",
        "**11. По обученной модели дайте прогноз классов для новых наблюдений, воспользовавшись функцией predict().**"
      ],
      "metadata": {
        "id": "m6o_JvTAKqrE"
      }
    },
    {
      "cell_type": "code",
      "source": [
        "x_new=np.array([[0,136,42,34,136,43,2,32],[0,137,40,35,168,43.1,2.288,33]])"
      ],
      "metadata": {
        "id": "-Zz1wMWNKhsZ"
      },
      "execution_count": null,
      "outputs": []
    },
    {
      "cell_type": "code",
      "source": [
        "model.predict(x_new)"
      ],
      "metadata": {
        "colab": {
          "base_uri": "https://localhost:8080/"
        },
        "id": "ZxMncsXoLBJ0",
        "outputId": "b43fbde4-20b2-4b85-b744-e5d6e2c997e1"
      },
      "execution_count": null,
      "outputs": [
        {
          "output_type": "execute_result",
          "data": {
            "text/plain": [
              "array([0., 1.])"
            ]
          },
          "metadata": {},
          "execution_count": 13
        }
      ]
    },
    {
      "cell_type": "markdown",
      "source": [
        "**12. По обученной модели дайте прогноз вероятности классов для новых наблюдений, воспользовавшись функцией predict_proba().**"
      ],
      "metadata": {
        "id": "wrX8sIE0LdQ1"
      }
    },
    {
      "cell_type": "code",
      "source": [
        "model.predict_proba(x_new)"
      ],
      "metadata": {
        "colab": {
          "base_uri": "https://localhost:8080/"
        },
        "id": "DLIk7opGLUG3",
        "outputId": "eb2b28d2-4ff0-4918-a946-79fa7eebcdeb"
      },
      "execution_count": null,
      "outputs": [
        {
          "output_type": "execute_result",
          "data": {
            "text/plain": [
              "array([[0.6, 0.4],\n",
              "       [0.4, 0.6]])"
            ]
          },
          "metadata": {},
          "execution_count": 14
        }
      ]
    },
    {
      "cell_type": "markdown",
      "source": [
        "**13. Опираясь на п.22 задания 7, сделайте вывод о нормальности распределения факторных признаков и возможности применения гауссовской функции плотности распределения для оценки вероятностей в формуле наивного байесовского классификатора. Воспользуйтесь документацией метода для подбора подходящей функции, если это нужно. Прокомментируйте результат.**"
      ],
      "metadata": {
        "id": "AACk4Iw0qYU9"
      }
    },
    {
      "cell_type": "code",
      "source": [],
      "metadata": {
        "id": "k1q1I5OzL3PO"
      },
      "execution_count": null,
      "outputs": []
    },
    {
      "cell_type": "markdown",
      "source": [
        "**14. Постройте модель наивного байесовского классификатора, воспользовавшись функцией GaussianNB() из модуля sklearn.naive_bayes. Результат запишите в переменную model. Можете воспользоваться другой функцией, исходя из ответа в п.13.**\n",
        "\n",
        "**15. Проведите кросс-валидацию, воспользовавшись функцией cross_val_score(model, X, Y, cv=kfold) из модуля sklearn.model_selection. Результат запишите в переменную results.**\n",
        "\n",
        "**16. Выведите на экран среднюю долю правильных ответов (accuracy) и стандартное отклонение полученных оценок, воспользовавшись, соответственно, функциями mean() и std().**"
      ],
      "metadata": {
        "id": "V6VXD0tgOQBa"
      }
    },
    {
      "cell_type": "code",
      "source": [
        "model=GaussianNB()"
      ],
      "metadata": {
        "id": "CS8wFySjqdia"
      },
      "execution_count": null,
      "outputs": []
    },
    {
      "cell_type": "code",
      "source": [
        "results=cross_val_score(model, X, Y, cv=kfold)"
      ],
      "metadata": {
        "id": "-yZMrqlHqjgG"
      },
      "execution_count": null,
      "outputs": []
    },
    {
      "cell_type": "code",
      "source": [
        "results.mean()"
      ],
      "metadata": {
        "colab": {
          "base_uri": "https://localhost:8080/"
        },
        "id": "Mpy9kr7lqts4",
        "outputId": "56cfcf27-a7cf-4dac-e466-b82fe264a97c"
      },
      "execution_count": null,
      "outputs": [
        {
          "output_type": "execute_result",
          "data": {
            "text/plain": [
              "0.7591421736158578"
            ]
          },
          "metadata": {},
          "execution_count": 21
        }
      ]
    },
    {
      "cell_type": "code",
      "source": [
        "results.std()"
      ],
      "metadata": {
        "colab": {
          "base_uri": "https://localhost:8080/"
        },
        "id": "vuQvFrgS0Lps",
        "outputId": "b21b58a1-75cc-4310-d047-7a3d887d03be"
      },
      "execution_count": null,
      "outputs": [
        {
          "output_type": "execute_result",
          "data": {
            "text/plain": [
              "0.03895993346035058"
            ]
          },
          "metadata": {},
          "execution_count": 22
        }
      ]
    },
    {
      "cell_type": "code",
      "source": [
        "model.fit(X,Y)"
      ],
      "metadata": {
        "colab": {
          "base_uri": "https://localhost:8080/"
        },
        "id": "Am9O2hzPO6mq",
        "outputId": "95f6c049-a5f5-4b31-c4dd-c2a1c66ec6e5"
      },
      "execution_count": null,
      "outputs": [
        {
          "output_type": "execute_result",
          "data": {
            "text/plain": [
              "GaussianNB()"
            ]
          },
          "metadata": {},
          "execution_count": 23
        }
      ]
    },
    {
      "cell_type": "code",
      "source": [
        "model.predict(x_new)"
      ],
      "metadata": {
        "colab": {
          "base_uri": "https://localhost:8080/"
        },
        "id": "0mrunsshO8WD",
        "outputId": "861d086d-d675-494f-c4bb-18d25341577f"
      },
      "execution_count": null,
      "outputs": [
        {
          "output_type": "execute_result",
          "data": {
            "text/plain": [
              "array([1., 1.])"
            ]
          },
          "metadata": {},
          "execution_count": 24
        }
      ]
    },
    {
      "cell_type": "code",
      "source": [
        "model.predict_proba(x_new)"
      ],
      "metadata": {
        "colab": {
          "base_uri": "https://localhost:8080/"
        },
        "id": "RZAh1e6ZPBFs",
        "outputId": "ade68003-0880-4d9e-bc60-8905ebf7dc60"
      },
      "execution_count": null,
      "outputs": [
        {
          "output_type": "execute_result",
          "data": {
            "text/plain": [
              "array([[2.78430103e-03, 9.97215699e-01],\n",
              "       [2.16502287e-04, 9.99783498e-01]])"
            ]
          },
          "metadata": {},
          "execution_count": 25
        }
      ]
    },
    {
      "cell_type": "markdown",
      "source": [
        "**20. Постройте модель решающего дерева, воспользовавшись функцией DecisionTreeClassifier() из модуля sklearn.tree. Результат запишите в переменную model.\n",
        "Проведите кросс-валидацию, воспользовавшись функцией cross_val_score(model, X, Y, cv=kfold) из модуля sklearn.model_selection. Результат запишите в переменную results.\n",
        "Выведите на экран среднюю долю правильных ответов (accuracy) и стандартное отклонение полученных оценок, воспользовавшись, соответственно, функциями mean() и std().**"
      ],
      "metadata": {
        "id": "AUC-SavLqeGj"
      }
    },
    {
      "cell_type": "code",
      "source": [
        "model=DecisionTreeClassifier()"
      ],
      "metadata": {
        "id": "Ep1a0xgmPf0H"
      },
      "execution_count": null,
      "outputs": []
    },
    {
      "cell_type": "code",
      "source": [
        "results=cross_val_score(model, X, Y, cv=kfold)"
      ],
      "metadata": {
        "id": "kVbGG-3LPwJG"
      },
      "execution_count": null,
      "outputs": []
    },
    {
      "cell_type": "code",
      "source": [
        "results.mean()"
      ],
      "metadata": {
        "colab": {
          "base_uri": "https://localhost:8080/"
        },
        "outputId": "93d1b618-0146-4146-9f0f-37c64a52bd65",
        "id": "Y7v4rOz9PwJN"
      },
      "execution_count": null,
      "outputs": [
        {
          "output_type": "execute_result",
          "data": {
            "text/plain": [
              "0.6824333561175666"
            ]
          },
          "metadata": {},
          "execution_count": 43
        }
      ]
    },
    {
      "cell_type": "code",
      "source": [
        "results.std()"
      ],
      "metadata": {
        "colab": {
          "base_uri": "https://localhost:8080/"
        },
        "outputId": "142ebc83-f234-47fe-dd43-b3c3a6dc709a",
        "id": "L_2CfEqvPwJN"
      },
      "execution_count": null,
      "outputs": [
        {
          "output_type": "execute_result",
          "data": {
            "text/plain": [
              "0.05385027032774458"
            ]
          },
          "metadata": {},
          "execution_count": 44
        }
      ]
    },
    {
      "cell_type": "code",
      "source": [
        "model.fit(X,Y)"
      ],
      "metadata": {
        "colab": {
          "base_uri": "https://localhost:8080/"
        },
        "outputId": "e0941c38-b75b-40ff-eb03-eed083ba4645",
        "id": "6LIfvB81PwJN"
      },
      "execution_count": null,
      "outputs": [
        {
          "output_type": "execute_result",
          "data": {
            "text/plain": [
              "DecisionTreeClassifier()"
            ]
          },
          "metadata": {},
          "execution_count": 45
        }
      ]
    },
    {
      "cell_type": "code",
      "source": [
        "model.predict(x_new)"
      ],
      "metadata": {
        "colab": {
          "base_uri": "https://localhost:8080/"
        },
        "outputId": "76e6b178-c84e-4fce-ae48-517c3925ecf6",
        "id": "Ras0iZ8lPwJN"
      },
      "execution_count": null,
      "outputs": [
        {
          "output_type": "execute_result",
          "data": {
            "text/plain": [
              "array([1., 1.])"
            ]
          },
          "metadata": {},
          "execution_count": 46
        }
      ]
    },
    {
      "cell_type": "code",
      "source": [
        "model.predict_proba(x_new)"
      ],
      "metadata": {
        "colab": {
          "base_uri": "https://localhost:8080/"
        },
        "outputId": "69c34931-aa47-478e-a53a-a300b2c1e9c2",
        "id": "D6fns-rOPwJO"
      },
      "execution_count": null,
      "outputs": [
        {
          "output_type": "execute_result",
          "data": {
            "text/plain": [
              "array([[0., 1.],\n",
              "       [0., 1.]])"
            ]
          },
          "metadata": {},
          "execution_count": 47
        }
      ]
    },
    {
      "cell_type": "code",
      "source": [],
      "metadata": {
        "id": "KKF57mjaYuKW"
      },
      "execution_count": null,
      "outputs": []
    },
    {
      "cell_type": "code",
      "source": [
        "models=[]"
      ],
      "metadata": {
        "id": "AXebJOtnlzN_"
      },
      "execution_count": null,
      "outputs": []
    },
    {
      "cell_type": "code",
      "source": [
        "models.append(('LR',LogisticRegression(solver='liblinear'))) # логистическоая регрессия"
      ],
      "metadata": {
        "id": "X_IN9fIIFuD0"
      },
      "execution_count": null,
      "outputs": []
    },
    {
      "cell_type": "code",
      "source": [
        "models.append(('SVM',SVC(kernel='linear'))) # метод опорных векторов"
      ],
      "metadata": {
        "id": "dm-NkljFGE50"
      },
      "execution_count": null,
      "outputs": []
    },
    {
      "cell_type": "code",
      "source": [
        "models.append(('LDA',LinearDiscriminantAnalysis())) # линейно-дискриминантный анализ"
      ],
      "metadata": {
        "id": "OjPen--FGO4c"
      },
      "execution_count": null,
      "outputs": []
    },
    {
      "cell_type": "code",
      "source": [
        "models.append(('KNN',KNeighborsClassifier())) # метод k-ближайщих соседей"
      ],
      "metadata": {
        "id": "YX4yqRo2GZZH"
      },
      "execution_count": null,
      "outputs": []
    },
    {
      "cell_type": "code",
      "source": [
        "models.append(('NB',GaussianNB())) # наивный байесовский классификатор"
      ],
      "metadata": {
        "id": "pp_KRVhPGgp1"
      },
      "execution_count": null,
      "outputs": []
    },
    {
      "cell_type": "code",
      "source": [
        "models.append(('CART',DecisionTreeClassifier())) # модель решающего дерева"
      ],
      "metadata": {
        "id": "jg1v106oGp9d"
      },
      "execution_count": null,
      "outputs": []
    },
    {
      "cell_type": "code",
      "source": [
        "models"
      ],
      "metadata": {
        "colab": {
          "base_uri": "https://localhost:8080/"
        },
        "id": "vPOtct4oGwdl",
        "outputId": "03dbc079-513f-488e-af40-aef7b8811820"
      },
      "execution_count": null,
      "outputs": [
        {
          "output_type": "execute_result",
          "data": {
            "text/plain": [
              "[('LR', LogisticRegression(solver='liblinear')),\n",
              " ('SVM', SVC(kernel='linear')),\n",
              " ('LDA', LinearDiscriminantAnalysis()),\n",
              " ('KNN', KNeighborsClassifier()),\n",
              " ('NB', GaussianNB()),\n",
              " ('CART', DecisionTreeClassifier())]"
            ]
          },
          "metadata": {},
          "execution_count": 55
        }
      ]
    },
    {
      "cell_type": "code",
      "source": [
        "results=[]\n",
        "names=[]"
      ],
      "metadata": {
        "id": "cwNWgnuJGxmQ"
      },
      "execution_count": null,
      "outputs": []
    },
    {
      "cell_type": "code",
      "source": [
        "scoring='accuracy'"
      ],
      "metadata": {
        "id": "nMSaownnHExX"
      },
      "execution_count": null,
      "outputs": []
    },
    {
      "cell_type": "code",
      "source": [
        "for name, model in models:\n",
        "  kfold=KFold(n_splits=10, random_state=7, shuffle=True)\n",
        "  cv_results=cross_val_score(model, X, Y, cv=kfold, scoring=scoring)\n",
        "  results.append(cv_results)\n",
        "  names.append(name)\n",
        "  print(name,cv_results.mean(),cv_results.std())"
      ],
      "metadata": {
        "colab": {
          "base_uri": "https://localhost:8080/"
        },
        "id": "kvNXM_a5HV6N",
        "outputId": "f6c56165-4b29-4df9-a50a-092d70a2aa93"
      },
      "execution_count": null,
      "outputs": [
        {
          "output_type": "stream",
          "name": "stdout",
          "text": [
            "LR 0.7708646616541353 0.05090500786917546\n",
            "SVM 0.7708133971291866 0.03832392703883875\n",
            "LDA 0.7669685577580315 0.04796563054016723\n",
            "KNN 0.7109876965140123 0.0507915093681296\n",
            "NB 0.7591421736158578 0.03895993346035058\n",
            "CART 0.6811517429938482 0.04815485609642808\n"
          ]
        }
      ]
    },
    {
      "cell_type": "code",
      "source": [
        "import matplotlib.pyplot as pyplot\n",
        "\n",
        "fig=pyplot.figure()\n",
        "fig.suptitle('Сравнение моделей')\n",
        "ax=fig.add_subplot(111)\n",
        "pyplot.boxplot(results)\n",
        "ax.set_xticklabels(names)\n",
        "pyplot.show()"
      ],
      "metadata": {
        "colab": {
          "base_uri": "https://localhost:8080/",
          "height": 511
        },
        "id": "jacLaPY1IvbL",
        "outputId": "a80414eb-a027-414f-a0e5-900675d5729a"
      },
      "execution_count": null,
      "outputs": [
        {
          "output_type": "error",
          "ename": "NameError",
          "evalue": "ignored",
          "traceback": [
            "\u001b[0;31m---------------------------------------------------------------------------\u001b[0m",
            "\u001b[0;31mNameError\u001b[0m                                 Traceback (most recent call last)",
            "\u001b[0;32m<ipython-input-3-3d6c14d7bf7c>\u001b[0m in \u001b[0;36m<module>\u001b[0;34m()\u001b[0m\n\u001b[1;32m      4\u001b[0m \u001b[0mfig\u001b[0m\u001b[0;34m.\u001b[0m\u001b[0msuptitle\u001b[0m\u001b[0;34m(\u001b[0m\u001b[0;34m'Сравнение моделей'\u001b[0m\u001b[0;34m)\u001b[0m\u001b[0;34m\u001b[0m\u001b[0;34m\u001b[0m\u001b[0m\n\u001b[1;32m      5\u001b[0m \u001b[0max\u001b[0m\u001b[0;34m=\u001b[0m\u001b[0mfig\u001b[0m\u001b[0;34m.\u001b[0m\u001b[0madd_subplot\u001b[0m\u001b[0;34m(\u001b[0m\u001b[0;36m111\u001b[0m\u001b[0;34m)\u001b[0m\u001b[0;34m\u001b[0m\u001b[0;34m\u001b[0m\u001b[0m\n\u001b[0;32m----> 6\u001b[0;31m \u001b[0mpyplot\u001b[0m\u001b[0;34m.\u001b[0m\u001b[0mboxplot\u001b[0m\u001b[0;34m(\u001b[0m\u001b[0mresults\u001b[0m\u001b[0;34m)\u001b[0m\u001b[0;34m\u001b[0m\u001b[0;34m\u001b[0m\u001b[0m\n\u001b[0m\u001b[1;32m      7\u001b[0m \u001b[0max\u001b[0m\u001b[0;34m.\u001b[0m\u001b[0mset_xticklabels\u001b[0m\u001b[0;34m(\u001b[0m\u001b[0mnames\u001b[0m\u001b[0;34m)\u001b[0m\u001b[0;34m\u001b[0m\u001b[0;34m\u001b[0m\u001b[0m\n\u001b[1;32m      8\u001b[0m \u001b[0mpyplot\u001b[0m\u001b[0;34m.\u001b[0m\u001b[0mshow\u001b[0m\u001b[0;34m(\u001b[0m\u001b[0;34m)\u001b[0m\u001b[0;34m\u001b[0m\u001b[0;34m\u001b[0m\u001b[0m\n",
            "\u001b[0;31mNameError\u001b[0m: name 'results' is not defined"
          ]
        },
        {
          "output_type": "display_data",
          "data": {
            "text/plain": [
              "<Figure size 432x288 with 1 Axes>"
            ],
            "image/png": "[encoded data removed]"
          },
          "metadata": {
            "needs_background": "light"
          }
        }
      ]
    },
    {
      "cell_type": "markdown",
      "source": [
        "Вывод: лучшими являются первые 3 модели."
      ],
      "metadata": {
        "id": "dbuWXdGxJ5Rv"
      }
    },
    {
      "cell_type": "code",
      "source": [],
      "metadata": {
        "id": "XlsFwozyKA2R"
      },
      "execution_count": null,
      "outputs": []
    }
  ]
}