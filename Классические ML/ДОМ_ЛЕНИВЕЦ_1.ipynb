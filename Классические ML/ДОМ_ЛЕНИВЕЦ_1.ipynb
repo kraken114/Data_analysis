{
  "nbformat": 4,
  "nbformat_minor": 0,
  "metadata": {
    "colab": {
      "provenance": []
    },
    "kernelspec": {
      "name": "python3",
      "display_name": "Python 3"
    },
    "language_info": {
      "name": "python"
    }
  },
  "cells": [
    {
      "cell_type": "code",
      "source": [
        "import os\n",
        "import pandas as pd\n",
        "import numpy as np\n",
        "from pandas import read_csv"
      ],
      "metadata": {
        "id": "Q_iVR6rP7pX8"
      },
      "execution_count": null,
      "outputs": []
    },
    {
      "cell_type": "code",
      "execution_count": null,
      "metadata": {
        "colab": {
          "base_uri": "https://localhost:8080/"
        },
        "id": "kVfTBgdONjI3",
        "outputId": "c4f7436b-4182-4433-ba8c-ab6e1ab574d9"
      },
      "outputs": [
        {
          "output_type": "stream",
          "name": "stdout",
          "text": [
            "Mounted at /content/gdrive\n"
          ]
        }
      ],
      "source": [
        "from google.colab import drive\n",
        "drive.mount('/content/gdrive')"
      ]
    },
    {
      "cell_type": "code",
      "source": [
        "os.chdir('/content/gdrive/MyDrive/Colab Notebooks/наборы данных')"
      ],
      "metadata": {
        "id": "tsxjU38T8nSB"
      },
      "execution_count": null,
      "outputs": []
    },
    {
      "cell_type": "code",
      "source": [
        "filename='sloth_data.csv'"
      ],
      "metadata": {
        "id": "Oz233Ibr8LC8"
      },
      "execution_count": null,
      "outputs": []
    },
    {
      "cell_type": "code",
      "source": [
        "df=read_csv(filename)"
      ],
      "metadata": {
        "id": "vBjspEEH8Mgt"
      },
      "execution_count": null,
      "outputs": []
    },
    {
      "cell_type": "code",
      "source": [
        "df"
      ],
      "metadata": {
        "colab": {
          "base_uri": "https://localhost:8080/",
          "height": 423
        },
        "id": "08OXPwcJ8pvT",
        "outputId": "aa611d13-c70a-43f5-bc57-fa1b6d2c6967"
      },
      "execution_count": null,
      "outputs": [
        {
          "output_type": "execute_result",
          "data": {
            "text/plain": [
              "      Unnamed: 0  claw_length_cm             endangered  size_cm      specie  \\\n",
              "0              0           6.825  critically_endangered   52.004  three_toed   \n",
              "1              1           8.260  critically_endangered   50.082  three_toed   \n",
              "2              2           8.662  critically_endangered   51.498  three_toed   \n",
              "3              3           8.467  critically_endangered   50.122  three_toed   \n",
              "4              4           7.104  critically_endangered   51.364  three_toed   \n",
              "...          ...             ...                    ...      ...         ...   \n",
              "4995        4995           3.919          least_concern   62.819    two_toed   \n",
              "4996        4996           5.881          least_concern   63.150    two_toed   \n",
              "4997        4997           4.941          least_concern   62.091    two_toed   \n",
              "4998        4998           6.176          least_concern   62.039    two_toed   \n",
              "4999        4999           3.494          least_concern   64.043    two_toed   \n",
              "\n",
              "                    sub_specie  tail_length_cm  weight_kg  \n",
              "0       Pygmy three-toed sloth           4.448      3.570  \n",
              "1       Pygmy three-toed sloth           6.286      2.844  \n",
              "2       Pygmy three-toed sloth           4.551      1.259  \n",
              "3       Pygmy three-toed sloth           6.983      2.392  \n",
              "4       Pygmy three-toed sloth           5.411      3.163  \n",
              "...                        ...             ...        ...  \n",
              "4995  Hoffman’s two-toed sloth           3.176      4.247  \n",
              "4996  Hoffman’s two-toed sloth           1.535      4.056  \n",
              "4997  Hoffman’s two-toed sloth           1.905      5.194  \n",
              "4998  Hoffman’s two-toed sloth           1.164      5.035  \n",
              "4999  Hoffman’s two-toed sloth           1.512      6.384  \n",
              "\n",
              "[5000 rows x 8 columns]"
            ],
            "text/html": [
              "\n",
              "  <div id=\"df-becadfd7-4e61-484b-a7de-e4c02668d63e\">\n",
              "    <div class=\"colab-df-container\">\n",
              "      <div>\n",
              "<style scoped>\n",
              "    .dataframe tbody tr th:only-of-type {\n",
              "        vertical-align: middle;\n",
              "    }\n",
              "\n",
              "    .dataframe tbody tr th {\n",
              "        vertical-align: top;\n",
              "    }\n",
              "\n",
              "    .dataframe thead th {\n",
              "        text-align: right;\n",
              "    }\n",
              "</style>\n",
              "<table border=\"1\" class=\"dataframe\">\n",
              "  <thead>\n",
              "    <tr style=\"text-align: right;\">\n",
              "      <th></th>\n",
              "      <th>Unnamed: 0</th>\n",
              "      <th>claw_length_cm</th>\n",
              "      <th>endangered</th>\n",
              "      <th>size_cm</th>\n",
              "      <th>specie</th>\n",
              "      <th>sub_specie</th>\n",
              "      <th>tail_length_cm</th>\n",
              "      <th>weight_kg</th>\n",
              "    </tr>\n",
              "  </thead>\n",
              "  <tbody>\n",
              "    <tr>\n",
              "      <th>0</th>\n",
              "      <td>0</td>\n",
              "      <td>6.825</td>\n",
              "      <td>critically_endangered</td>\n",
              "      <td>52.004</td>\n",
              "      <td>three_toed</td>\n",
              "      <td>Pygmy three-toed sloth</td>\n",
              "      <td>4.448</td>\n",
              "      <td>3.570</td>\n",
              "    </tr>\n",
              "    <tr>\n",
              "      <th>1</th>\n",
              "      <td>1</td>\n",
              "      <td>8.260</td>\n",
              "      <td>critically_endangered</td>\n",
              "      <td>50.082</td>\n",
              "      <td>three_toed</td>\n",
              "      <td>Pygmy three-toed sloth</td>\n",
              "      <td>6.286</td>\n",
              "      <td>2.844</td>\n",
              "    </tr>\n",
              "    <tr>\n",
              "      <th>2</th>\n",
              "      <td>2</td>\n",
              "      <td>8.662</td>\n",
              "      <td>critically_endangered</td>\n",
              "      <td>51.498</td>\n",
              "      <td>three_toed</td>\n",
              "      <td>Pygmy three-toed sloth</td>\n",
              "      <td>4.551</td>\n",
              "      <td>1.259</td>\n",
              "    </tr>\n",
              "    <tr>\n",
              "      <th>3</th>\n",
              "      <td>3</td>\n",
              "      <td>8.467</td>\n",
              "      <td>critically_endangered</td>\n",
              "      <td>50.122</td>\n",
              "      <td>three_toed</td>\n",
              "      <td>Pygmy three-toed sloth</td>\n",
              "      <td>6.983</td>\n",
              "      <td>2.392</td>\n",
              "    </tr>\n",
              "    <tr>\n",
              "      <th>4</th>\n",
              "      <td>4</td>\n",
              "      <td>7.104</td>\n",
              "      <td>critically_endangered</td>\n",
              "      <td>51.364</td>\n",
              "      <td>three_toed</td>\n",
              "      <td>Pygmy three-toed sloth</td>\n",
              "      <td>5.411</td>\n",
              "      <td>3.163</td>\n",
              "    </tr>\n",
              "    <tr>\n",
              "      <th>...</th>\n",
              "      <td>...</td>\n",
              "      <td>...</td>\n",
              "      <td>...</td>\n",
              "      <td>...</td>\n",
              "      <td>...</td>\n",
              "      <td>...</td>\n",
              "      <td>...</td>\n",
              "      <td>...</td>\n",
              "    </tr>\n",
              "    <tr>\n",
              "      <th>4995</th>\n",
              "      <td>4995</td>\n",
              "      <td>3.919</td>\n",
              "      <td>least_concern</td>\n",
              "      <td>62.819</td>\n",
              "      <td>two_toed</td>\n",
              "      <td>Hoffman’s two-toed sloth</td>\n",
              "      <td>3.176</td>\n",
              "      <td>4.247</td>\n",
              "    </tr>\n",
              "    <tr>\n",
              "      <th>4996</th>\n",
              "      <td>4996</td>\n",
              "      <td>5.881</td>\n",
              "      <td>least_concern</td>\n",
              "      <td>63.150</td>\n",
              "      <td>two_toed</td>\n",
              "      <td>Hoffman’s two-toed sloth</td>\n",
              "      <td>1.535</td>\n",
              "      <td>4.056</td>\n",
              "    </tr>\n",
              "    <tr>\n",
              "      <th>4997</th>\n",
              "      <td>4997</td>\n",
              "      <td>4.941</td>\n",
              "      <td>least_concern</td>\n",
              "      <td>62.091</td>\n",
              "      <td>two_toed</td>\n",
              "      <td>Hoffman’s two-toed sloth</td>\n",
              "      <td>1.905</td>\n",
              "      <td>5.194</td>\n",
              "    </tr>\n",
              "    <tr>\n",
              "      <th>4998</th>\n",
              "      <td>4998</td>\n",
              "      <td>6.176</td>\n",
              "      <td>least_concern</td>\n",
              "      <td>62.039</td>\n",
              "      <td>two_toed</td>\n",
              "      <td>Hoffman’s two-toed sloth</td>\n",
              "      <td>1.164</td>\n",
              "      <td>5.035</td>\n",
              "    </tr>\n",
              "    <tr>\n",
              "      <th>4999</th>\n",
              "      <td>4999</td>\n",
              "      <td>3.494</td>\n",
              "      <td>least_concern</td>\n",
              "      <td>64.043</td>\n",
              "      <td>two_toed</td>\n",
              "      <td>Hoffman’s two-toed sloth</td>\n",
              "      <td>1.512</td>\n",
              "      <td>6.384</td>\n",
              "    </tr>\n",
              "  </tbody>\n",
              "</table>\n",
              "<p>5000 rows × 8 columns</p>\n",
              "</div>\n",
              "      <button class=\"colab-df-convert\" onclick=\"convertToInteractive('df-becadfd7-4e61-484b-a7de-e4c02668d63e')\"\n",
              "              title=\"Convert this dataframe to an interactive table.\"\n",
              "              style=\"display:none;\">\n",
              "        \n",
              "  <svg xmlns=\"http://www.w3.org/2000/svg\" height=\"24px\"viewBox=\"0 0 24 24\"\n",
              "       width=\"24px\">\n",
              "    <path d=\"M0 0h24v24H0V0z\" fill=\"none\"/>\n",
              "    <path d=\"M18.56 5.44l.94 2.06.94-2.06 2.06-.94-2.06-.94-.94-2.06-.94 2.06-2.06.94zm-11 1L8.5 8.5l.94-2.06 2.06-.94-2.06-.94L8.5 2.5l-.94 2.06-2.06.94zm10 10l.94 2.06.94-2.06 2.06-.94-2.06-.94-.94-2.06-.94 2.06-2.06.94z\"/><path d=\"M17.41 7.96l-1.37-1.37c-.4-.4-.92-.59-1.43-.59-.52 0-1.04.2-1.43.59L10.3 9.45l-7.72 7.72c-.78.78-.78 2.05 0 2.83L4 21.41c.39.39.9.59 1.41.59.51 0 1.02-.2 1.41-.59l7.78-7.78 2.81-2.81c.8-.78.8-2.07 0-2.86zM5.41 20L4 18.59l7.72-7.72 1.47 1.35L5.41 20z\"/>\n",
              "  </svg>\n",
              "      </button>\n",
              "      \n",
              "  <style>\n",
              "    .colab-df-container {\n",
              "      display:flex;\n",
              "      flex-wrap:wrap;\n",
              "      gap: 12px;\n",
              "    }\n",
              "\n",
              "    .colab-df-convert {\n",
              "      background-color: #E8F0FE;\n",
              "      border: none;\n",
              "      border-radius: 50%;\n",
              "      cursor: pointer;\n",
              "      display: none;\n",
              "      fill: #1967D2;\n",
              "      height: 32px;\n",
              "      padding: 0 0 0 0;\n",
              "      width: 32px;\n",
              "    }\n",
              "\n",
              "    .colab-df-convert:hover {\n",
              "      background-color: #E2EBFA;\n",
              "      box-shadow: 0px 1px 2px rgba(60, 64, 67, 0.3), 0px 1px 3px 1px rgba(60, 64, 67, 0.15);\n",
              "      fill: #174EA6;\n",
              "    }\n",
              "\n",
              "    [theme=dark] .colab-df-convert {\n",
              "      background-color: #3B4455;\n",
              "      fill: #D2E3FC;\n",
              "    }\n",
              "\n",
              "    [theme=dark] .colab-df-convert:hover {\n",
              "      background-color: #434B5C;\n",
              "      box-shadow: 0px 1px 3px 1px rgba(0, 0, 0, 0.15);\n",
              "      filter: drop-shadow(0px 1px 2px rgba(0, 0, 0, 0.3));\n",
              "      fill: #FFFFFF;\n",
              "    }\n",
              "  </style>\n",
              "\n",
              "      <script>\n",
              "        const buttonEl =\n",
              "          document.querySelector('#df-becadfd7-4e61-484b-a7de-e4c02668d63e button.colab-df-convert');\n",
              "        buttonEl.style.display =\n",
              "          google.colab.kernel.accessAllowed ? 'block' : 'none';\n",
              "\n",
              "        async function convertToInteractive(key) {\n",
              "          const element = document.querySelector('#df-becadfd7-4e61-484b-a7de-e4c02668d63e');\n",
              "          const dataTable =\n",
              "            await google.colab.kernel.invokeFunction('convertToInteractive',\n",
              "                                                     [key], {});\n",
              "          if (!dataTable) return;\n",
              "\n",
              "          const docLinkHtml = 'Like what you see? Visit the ' +\n",
              "            '<a target=\"_blank\" href=https://colab.research.google.com/notebooks/data_table.ipynb>data table notebook</a>'\n",
              "            + ' to learn more about interactive tables.';\n",
              "          element.innerHTML = '';\n",
              "          dataTable['output_type'] = 'display_data';\n",
              "          await google.colab.output.renderOutput(dataTable, element);\n",
              "          const docLink = document.createElement('div');\n",
              "          docLink.innerHTML = docLinkHtml;\n",
              "          element.appendChild(docLink);\n",
              "        }\n",
              "      </script>\n",
              "    </div>\n",
              "  </div>\n",
              "  "
            ]
          },
          "metadata": {},
          "execution_count": 6
        }
      ]
    },
    {
      "cell_type": "code",
      "source": [
        "df.sub_specie.value_counts()"
      ],
      "metadata": {
        "colab": {
          "base_uri": "https://localhost:8080/"
        },
        "id": "9F5gKCX39Jff",
        "outputId": "d1423c1c-00a8-4f48-e3bb-5a22ca01d8d5"
      },
      "execution_count": null,
      "outputs": [
        {
          "output_type": "execute_result",
          "data": {
            "text/plain": [
              "Hoffman’s two-toed sloth     1198\n",
              "Linnaeus’s two-toed sloth    1140\n",
              "Pale-throated sloth          1050\n",
              "Brown-throated sloth         1002\n",
              "Maned three-toed sloth        537\n",
              "Pygmy three-toed sloth         73\n",
              "Name: sub_specie, dtype: int64"
            ]
          },
          "metadata": {},
          "execution_count": 7
        }
      ]
    },
    {
      "cell_type": "code",
      "source": [
        "df.specie.value_counts()"
      ],
      "metadata": {
        "colab": {
          "base_uri": "https://localhost:8080/"
        },
        "id": "S1WUPQkJCo1w",
        "outputId": "e02d180a-c391-4f57-f02f-b1c6bca2af61"
      },
      "execution_count": null,
      "outputs": [
        {
          "output_type": "execute_result",
          "data": {
            "text/plain": [
              "three_toed    2662\n",
              "two_toed      2338\n",
              "Name: specie, dtype: int64"
            ]
          },
          "metadata": {},
          "execution_count": 8
        }
      ]
    },
    {
      "cell_type": "code",
      "source": [
        "df.endangered.value_counts()"
      ],
      "metadata": {
        "colab": {
          "base_uri": "https://localhost:8080/"
        },
        "id": "hg1fDTgBDCJx",
        "outputId": "9ab71e7a-17e2-4117-f4b6-2e027220c9fc"
      },
      "execution_count": null,
      "outputs": [
        {
          "output_type": "execute_result",
          "data": {
            "text/plain": [
              "least_concern            4390\n",
              "vulnerable                537\n",
              "critically_endangered      73\n",
              "Name: endangered, dtype: int64"
            ]
          },
          "metadata": {},
          "execution_count": 9
        }
      ]
    },
    {
      "cell_type": "code",
      "source": [
        "df.isna().sum() # нет нулей"
      ],
      "metadata": {
        "id": "CDtkZLnyGIu9",
        "colab": {
          "base_uri": "https://localhost:8080/"
        },
        "outputId": "866cf1e9-3f33-4ae6-bbac-d5f7268a80f5"
      },
      "execution_count": null,
      "outputs": [
        {
          "output_type": "execute_result",
          "data": {
            "text/plain": [
              "Unnamed: 0        0\n",
              "claw_length_cm    0\n",
              "endangered        0\n",
              "size_cm           0\n",
              "specie            0\n",
              "sub_specie        0\n",
              "tail_length_cm    0\n",
              "weight_kg         0\n",
              "dtype: int64"
            ]
          },
          "metadata": {},
          "execution_count": 10
        }
      ]
    },
    {
      "cell_type": "code",
      "source": [
        "df.dtypes"
      ],
      "metadata": {
        "colab": {
          "base_uri": "https://localhost:8080/"
        },
        "id": "m42R0UBTGP2u",
        "outputId": "eb6ecd0c-9af5-4db4-cba1-6b1e1413f792"
      },
      "execution_count": null,
      "outputs": [
        {
          "output_type": "execute_result",
          "data": {
            "text/plain": [
              "Unnamed: 0          int64\n",
              "claw_length_cm    float64\n",
              "endangered         object\n",
              "size_cm           float64\n",
              "specie             object\n",
              "sub_specie         object\n",
              "tail_length_cm    float64\n",
              "weight_kg         float64\n",
              "dtype: object"
            ]
          },
          "metadata": {},
          "execution_count": 11
        }
      ]
    },
    {
      "cell_type": "markdown",
      "source": [
        "**переводим 'object' в число**"
      ],
      "metadata": {
        "id": "v4NK4oIhIQua"
      }
    },
    {
      "cell_type": "code",
      "source": [
        "# степень угрозы переводим в цифры от 0 до 3, чем больше число, тем выше угроза\n",
        "df['endangered_code']=np.where(df['endangered']=='least_concern',1,\n",
        "                     (np.where(df['endangered']=='vulnerable',2,3)))"
      ],
      "metadata": {
        "id": "-yXA4n4qIYTg"
      },
      "execution_count": null,
      "outputs": []
    },
    {
      "cell_type": "code",
      "source": [
        "# количество ног переводим в цифры, 2 -две ноги, 3 - три ноги\n",
        "df['specie_code']=np.where(df['specie']=='two_toed',2,3)"
      ],
      "metadata": {
        "id": "AWswQSepJ0Vc"
      },
      "execution_count": null,
      "outputs": []
    },
    {
      "cell_type": "code",
      "source": [
        "# пеевод подвида ленивца в цифры от 1 до 6\n",
        "df['sub_specie_code']=np.where(df['sub_specie']=='Hoffman’s two-toed sloth',1,\n",
        "                (np.where(df['sub_specie']=='Linnaeus’s two-toed sloth',2,\n",
        "                (np.where(df['sub_specie']=='Pale-throated sloth',3,\n",
        "                (np.where(df['sub_specie']=='Brown-throated sloth',4,\n",
        "                (np.where(df['sub_specie']=='Maned three-toed sloth',5,6)))))))))"
      ],
      "metadata": {
        "id": "up78pSKsKrCD"
      },
      "execution_count": null,
      "outputs": []
    },
    {
      "cell_type": "code",
      "source": [
        "df"
      ],
      "metadata": {
        "colab": {
          "base_uri": "https://localhost:8080/",
          "height": 423
        },
        "id": "ITQey6eWJapz",
        "outputId": "c0165b52-2940-4569-9cc1-3744d7082bad"
      },
      "execution_count": null,
      "outputs": [
        {
          "output_type": "execute_result",
          "data": {
            "text/plain": [
              "      Unnamed: 0  claw_length_cm             endangered  size_cm      specie  \\\n",
              "0              0           6.825  critically_endangered   52.004  three_toed   \n",
              "1              1           8.260  critically_endangered   50.082  three_toed   \n",
              "2              2           8.662  critically_endangered   51.498  three_toed   \n",
              "3              3           8.467  critically_endangered   50.122  three_toed   \n",
              "4              4           7.104  critically_endangered   51.364  three_toed   \n",
              "...          ...             ...                    ...      ...         ...   \n",
              "4995        4995           3.919          least_concern   62.819    two_toed   \n",
              "4996        4996           5.881          least_concern   63.150    two_toed   \n",
              "4997        4997           4.941          least_concern   62.091    two_toed   \n",
              "4998        4998           6.176          least_concern   62.039    two_toed   \n",
              "4999        4999           3.494          least_concern   64.043    two_toed   \n",
              "\n",
              "                    sub_specie  tail_length_cm  weight_kg  endangered_code  \\\n",
              "0       Pygmy three-toed sloth           4.448      3.570                3   \n",
              "1       Pygmy three-toed sloth           6.286      2.844                3   \n",
              "2       Pygmy three-toed sloth           4.551      1.259                3   \n",
              "3       Pygmy three-toed sloth           6.983      2.392                3   \n",
              "4       Pygmy three-toed sloth           5.411      3.163                3   \n",
              "...                        ...             ...        ...              ...   \n",
              "4995  Hoffman’s two-toed sloth           3.176      4.247                1   \n",
              "4996  Hoffman’s two-toed sloth           1.535      4.056                1   \n",
              "4997  Hoffman’s two-toed sloth           1.905      5.194                1   \n",
              "4998  Hoffman’s two-toed sloth           1.164      5.035                1   \n",
              "4999  Hoffman’s two-toed sloth           1.512      6.384                1   \n",
              "\n",
              "      specie_code  sub_specie_code  \n",
              "0               3                6  \n",
              "1               3                6  \n",
              "2               3                6  \n",
              "3               3                6  \n",
              "4               3                6  \n",
              "...           ...              ...  \n",
              "4995            2                1  \n",
              "4996            2                1  \n",
              "4997            2                1  \n",
              "4998            2                1  \n",
              "4999            2                1  \n",
              "\n",
              "[5000 rows x 11 columns]"
            ],
            "text/html": [
              "\n",
              "  <div id=\"df-3929ebd8-fda1-4f9d-ae61-3b19406fe093\">\n",
              "    <div class=\"colab-df-container\">\n",
              "      <div>\n",
              "<style scoped>\n",
              "    .dataframe tbody tr th:only-of-type {\n",
              "        vertical-align: middle;\n",
              "    }\n",
              "\n",
              "    .dataframe tbody tr th {\n",
              "        vertical-align: top;\n",
              "    }\n",
              "\n",
              "    .dataframe thead th {\n",
              "        text-align: right;\n",
              "    }\n",
              "</style>\n",
              "<table border=\"1\" class=\"dataframe\">\n",
              "  <thead>\n",
              "    <tr style=\"text-align: right;\">\n",
              "      <th></th>\n",
              "      <th>Unnamed: 0</th>\n",
              "      <th>claw_length_cm</th>\n",
              "      <th>endangered</th>\n",
              "      <th>size_cm</th>\n",
              "      <th>specie</th>\n",
              "      <th>sub_specie</th>\n",
              "      <th>tail_length_cm</th>\n",
              "      <th>weight_kg</th>\n",
              "      <th>endangered_code</th>\n",
              "      <th>specie_code</th>\n",
              "      <th>sub_specie_code</th>\n",
              "    </tr>\n",
              "  </thead>\n",
              "  <tbody>\n",
              "    <tr>\n",
              "      <th>0</th>\n",
              "      <td>0</td>\n",
              "      <td>6.825</td>\n",
              "      <td>critically_endangered</td>\n",
              "      <td>52.004</td>\n",
              "      <td>three_toed</td>\n",
              "      <td>Pygmy three-toed sloth</td>\n",
              "      <td>4.448</td>\n",
              "      <td>3.570</td>\n",
              "      <td>3</td>\n",
              "      <td>3</td>\n",
              "      <td>6</td>\n",
              "    </tr>\n",
              "    <tr>\n",
              "      <th>1</th>\n",
              "      <td>1</td>\n",
              "      <td>8.260</td>\n",
              "      <td>critically_endangered</td>\n",
              "      <td>50.082</td>\n",
              "      <td>three_toed</td>\n",
              "      <td>Pygmy three-toed sloth</td>\n",
              "      <td>6.286</td>\n",
              "      <td>2.844</td>\n",
              "      <td>3</td>\n",
              "      <td>3</td>\n",
              "      <td>6</td>\n",
              "    </tr>\n",
              "    <tr>\n",
              "      <th>2</th>\n",
              "      <td>2</td>\n",
              "      <td>8.662</td>\n",
              "      <td>critically_endangered</td>\n",
              "      <td>51.498</td>\n",
              "      <td>three_toed</td>\n",
              "      <td>Pygmy three-toed sloth</td>\n",
              "      <td>4.551</td>\n",
              "      <td>1.259</td>\n",
              "      <td>3</td>\n",
              "      <td>3</td>\n",
              "      <td>6</td>\n",
              "    </tr>\n",
              "    <tr>\n",
              "      <th>3</th>\n",
              "      <td>3</td>\n",
              "      <td>8.467</td>\n",
              "      <td>critically_endangered</td>\n",
              "      <td>50.122</td>\n",
              "      <td>three_toed</td>\n",
              "      <td>Pygmy three-toed sloth</td>\n",
              "      <td>6.983</td>\n",
              "      <td>2.392</td>\n",
              "      <td>3</td>\n",
              "      <td>3</td>\n",
              "      <td>6</td>\n",
              "    </tr>\n",
              "    <tr>\n",
              "      <th>4</th>\n",
              "      <td>4</td>\n",
              "      <td>7.104</td>\n",
              "      <td>critically_endangered</td>\n",
              "      <td>51.364</td>\n",
              "      <td>three_toed</td>\n",
              "      <td>Pygmy three-toed sloth</td>\n",
              "      <td>5.411</td>\n",
              "      <td>3.163</td>\n",
              "      <td>3</td>\n",
              "      <td>3</td>\n",
              "      <td>6</td>\n",
              "    </tr>\n",
              "    <tr>\n",
              "      <th>...</th>\n",
              "      <td>...</td>\n",
              "      <td>...</td>\n",
              "      <td>...</td>\n",
              "      <td>...</td>\n",
              "      <td>...</td>\n",
              "      <td>...</td>\n",
              "      <td>...</td>\n",
              "      <td>...</td>\n",
              "      <td>...</td>\n",
              "      <td>...</td>\n",
              "      <td>...</td>\n",
              "    </tr>\n",
              "    <tr>\n",
              "      <th>4995</th>\n",
              "      <td>4995</td>\n",
              "      <td>3.919</td>\n",
              "      <td>least_concern</td>\n",
              "      <td>62.819</td>\n",
              "      <td>two_toed</td>\n",
              "      <td>Hoffman’s two-toed sloth</td>\n",
              "      <td>3.176</td>\n",
              "      <td>4.247</td>\n",
              "      <td>1</td>\n",
              "      <td>2</td>\n",
              "      <td>1</td>\n",
              "    </tr>\n",
              "    <tr>\n",
              "      <th>4996</th>\n",
              "      <td>4996</td>\n",
              "      <td>5.881</td>\n",
              "      <td>least_concern</td>\n",
              "      <td>63.150</td>\n",
              "      <td>two_toed</td>\n",
              "      <td>Hoffman’s two-toed sloth</td>\n",
              "      <td>1.535</td>\n",
              "      <td>4.056</td>\n",
              "      <td>1</td>\n",
              "      <td>2</td>\n",
              "      <td>1</td>\n",
              "    </tr>\n",
              "    <tr>\n",
              "      <th>4997</th>\n",
              "      <td>4997</td>\n",
              "      <td>4.941</td>\n",
              "      <td>least_concern</td>\n",
              "      <td>62.091</td>\n",
              "      <td>two_toed</td>\n",
              "      <td>Hoffman’s two-toed sloth</td>\n",
              "      <td>1.905</td>\n",
              "      <td>5.194</td>\n",
              "      <td>1</td>\n",
              "      <td>2</td>\n",
              "      <td>1</td>\n",
              "    </tr>\n",
              "    <tr>\n",
              "      <th>4998</th>\n",
              "      <td>4998</td>\n",
              "      <td>6.176</td>\n",
              "      <td>least_concern</td>\n",
              "      <td>62.039</td>\n",
              "      <td>two_toed</td>\n",
              "      <td>Hoffman’s two-toed sloth</td>\n",
              "      <td>1.164</td>\n",
              "      <td>5.035</td>\n",
              "      <td>1</td>\n",
              "      <td>2</td>\n",
              "      <td>1</td>\n",
              "    </tr>\n",
              "    <tr>\n",
              "      <th>4999</th>\n",
              "      <td>4999</td>\n",
              "      <td>3.494</td>\n",
              "      <td>least_concern</td>\n",
              "      <td>64.043</td>\n",
              "      <td>two_toed</td>\n",
              "      <td>Hoffman’s two-toed sloth</td>\n",
              "      <td>1.512</td>\n",
              "      <td>6.384</td>\n",
              "      <td>1</td>\n",
              "      <td>2</td>\n",
              "      <td>1</td>\n",
              "    </tr>\n",
              "  </tbody>\n",
              "</table>\n",
              "<p>5000 rows × 11 columns</p>\n",
              "</div>\n",
              "      <button class=\"colab-df-convert\" onclick=\"convertToInteractive('df-3929ebd8-fda1-4f9d-ae61-3b19406fe093')\"\n",
              "              title=\"Convert this dataframe to an interactive table.\"\n",
              "              style=\"display:none;\">\n",
              "        \n",
              "  <svg xmlns=\"http://www.w3.org/2000/svg\" height=\"24px\"viewBox=\"0 0 24 24\"\n",
              "       width=\"24px\">\n",
              "    <path d=\"M0 0h24v24H0V0z\" fill=\"none\"/>\n",
              "    <path d=\"M18.56 5.44l.94 2.06.94-2.06 2.06-.94-2.06-.94-.94-2.06-.94 2.06-2.06.94zm-11 1L8.5 8.5l.94-2.06 2.06-.94-2.06-.94L8.5 2.5l-.94 2.06-2.06.94zm10 10l.94 2.06.94-2.06 2.06-.94-2.06-.94-.94-2.06-.94 2.06-2.06.94z\"/><path d=\"M17.41 7.96l-1.37-1.37c-.4-.4-.92-.59-1.43-.59-.52 0-1.04.2-1.43.59L10.3 9.45l-7.72 7.72c-.78.78-.78 2.05 0 2.83L4 21.41c.39.39.9.59 1.41.59.51 0 1.02-.2 1.41-.59l7.78-7.78 2.81-2.81c.8-.78.8-2.07 0-2.86zM5.41 20L4 18.59l7.72-7.72 1.47 1.35L5.41 20z\"/>\n",
              "  </svg>\n",
              "      </button>\n",
              "      \n",
              "  <style>\n",
              "    .colab-df-container {\n",
              "      display:flex;\n",
              "      flex-wrap:wrap;\n",
              "      gap: 12px;\n",
              "    }\n",
              "\n",
              "    .colab-df-convert {\n",
              "      background-color: #E8F0FE;\n",
              "      border: none;\n",
              "      border-radius: 50%;\n",
              "      cursor: pointer;\n",
              "      display: none;\n",
              "      fill: #1967D2;\n",
              "      height: 32px;\n",
              "      padding: 0 0 0 0;\n",
              "      width: 32px;\n",
              "    }\n",
              "\n",
              "    .colab-df-convert:hover {\n",
              "      background-color: #E2EBFA;\n",
              "      box-shadow: 0px 1px 2px rgba(60, 64, 67, 0.3), 0px 1px 3px 1px rgba(60, 64, 67, 0.15);\n",
              "      fill: #174EA6;\n",
              "    }\n",
              "\n",
              "    [theme=dark] .colab-df-convert {\n",
              "      background-color: #3B4455;\n",
              "      fill: #D2E3FC;\n",
              "    }\n",
              "\n",
              "    [theme=dark] .colab-df-convert:hover {\n",
              "      background-color: #434B5C;\n",
              "      box-shadow: 0px 1px 3px 1px rgba(0, 0, 0, 0.15);\n",
              "      filter: drop-shadow(0px 1px 2px rgba(0, 0, 0, 0.3));\n",
              "      fill: #FFFFFF;\n",
              "    }\n",
              "  </style>\n",
              "\n",
              "      <script>\n",
              "        const buttonEl =\n",
              "          document.querySelector('#df-3929ebd8-fda1-4f9d-ae61-3b19406fe093 button.colab-df-convert');\n",
              "        buttonEl.style.display =\n",
              "          google.colab.kernel.accessAllowed ? 'block' : 'none';\n",
              "\n",
              "        async function convertToInteractive(key) {\n",
              "          const element = document.querySelector('#df-3929ebd8-fda1-4f9d-ae61-3b19406fe093');\n",
              "          const dataTable =\n",
              "            await google.colab.kernel.invokeFunction('convertToInteractive',\n",
              "                                                     [key], {});\n",
              "          if (!dataTable) return;\n",
              "\n",
              "          const docLinkHtml = 'Like what you see? Visit the ' +\n",
              "            '<a target=\"_blank\" href=https://colab.research.google.com/notebooks/data_table.ipynb>data table notebook</a>'\n",
              "            + ' to learn more about interactive tables.';\n",
              "          element.innerHTML = '';\n",
              "          dataTable['output_type'] = 'display_data';\n",
              "          await google.colab.output.renderOutput(dataTable, element);\n",
              "          const docLink = document.createElement('div');\n",
              "          docLink.innerHTML = docLinkHtml;\n",
              "          element.appendChild(docLink);\n",
              "        }\n",
              "      </script>\n",
              "    </div>\n",
              "  </div>\n",
              "  "
            ]
          },
          "metadata": {},
          "execution_count": 15
        }
      ]
    },
    {
      "cell_type": "code",
      "source": [
        "data = df.iloc[:,1:8] # сохранили исходные данные в переменной data\n",
        "data"
      ],
      "metadata": {
        "id": "MfUQbDfhM07u"
      },
      "execution_count": null,
      "outputs": []
    },
    {
      "cell_type": "code",
      "source": [
        "df = df.drop(['Unnamed: 0', 'endangered','specie', 'sub_specie'], axis='columns')"
      ],
      "metadata": {
        "id": "0clcXb1PN14h"
      },
      "execution_count": null,
      "outputs": []
    },
    {
      "cell_type": "code",
      "source": [
        "df"
      ],
      "metadata": {
        "colab": {
          "base_uri": "https://localhost:8080/",
          "height": 423
        },
        "id": "ud0vvjgxOPR5",
        "outputId": "a435d28f-b379-4775-8a14-a974e855e0c2"
      },
      "execution_count": null,
      "outputs": [
        {
          "output_type": "execute_result",
          "data": {
            "text/plain": [
              "      claw_length_cm  size_cm  tail_length_cm  weight_kg  endangered_code  \\\n",
              "0              6.825   52.004           4.448      3.570                3   \n",
              "1              8.260   50.082           6.286      2.844                3   \n",
              "2              8.662   51.498           4.551      1.259                3   \n",
              "3              8.467   50.122           6.983      2.392                3   \n",
              "4              7.104   51.364           5.411      3.163                3   \n",
              "...              ...      ...             ...        ...              ...   \n",
              "4995           3.919   62.819           3.176      4.247                1   \n",
              "4996           5.881   63.150           1.535      4.056                1   \n",
              "4997           4.941   62.091           1.905      5.194                1   \n",
              "4998           6.176   62.039           1.164      5.035                1   \n",
              "4999           3.494   64.043           1.512      6.384                1   \n",
              "\n",
              "      specie_code  sub_specie_code  \n",
              "0               3                6  \n",
              "1               3                6  \n",
              "2               3                6  \n",
              "3               3                6  \n",
              "4               3                6  \n",
              "...           ...              ...  \n",
              "4995            2                1  \n",
              "4996            2                1  \n",
              "4997            2                1  \n",
              "4998            2                1  \n",
              "4999            2                1  \n",
              "\n",
              "[5000 rows x 7 columns]"
            ],
            "text/html": [
              "\n",
              "  <div id=\"df-8ead8f20-d9e9-4d02-aed1-0e78ca123ddc\">\n",
              "    <div class=\"colab-df-container\">\n",
              "      <div>\n",
              "<style scoped>\n",
              "    .dataframe tbody tr th:only-of-type {\n",
              "        vertical-align: middle;\n",
              "    }\n",
              "\n",
              "    .dataframe tbody tr th {\n",
              "        vertical-align: top;\n",
              "    }\n",
              "\n",
              "    .dataframe thead th {\n",
              "        text-align: right;\n",
              "    }\n",
              "</style>\n",
              "<table border=\"1\" class=\"dataframe\">\n",
              "  <thead>\n",
              "    <tr style=\"text-align: right;\">\n",
              "      <th></th>\n",
              "      <th>claw_length_cm</th>\n",
              "      <th>size_cm</th>\n",
              "      <th>tail_length_cm</th>\n",
              "      <th>weight_kg</th>\n",
              "      <th>endangered_code</th>\n",
              "      <th>specie_code</th>\n",
              "      <th>sub_specie_code</th>\n",
              "    </tr>\n",
              "  </thead>\n",
              "  <tbody>\n",
              "    <tr>\n",
              "      <th>0</th>\n",
              "      <td>6.825</td>\n",
              "      <td>52.004</td>\n",
              "      <td>4.448</td>\n",
              "      <td>3.570</td>\n",
              "      <td>3</td>\n",
              "      <td>3</td>\n",
              "      <td>6</td>\n",
              "    </tr>\n",
              "    <tr>\n",
              "      <th>1</th>\n",
              "      <td>8.260</td>\n",
              "      <td>50.082</td>\n",
              "      <td>6.286</td>\n",
              "      <td>2.844</td>\n",
              "      <td>3</td>\n",
              "      <td>3</td>\n",
              "      <td>6</td>\n",
              "    </tr>\n",
              "    <tr>\n",
              "      <th>2</th>\n",
              "      <td>8.662</td>\n",
              "      <td>51.498</td>\n",
              "      <td>4.551</td>\n",
              "      <td>1.259</td>\n",
              "      <td>3</td>\n",
              "      <td>3</td>\n",
              "      <td>6</td>\n",
              "    </tr>\n",
              "    <tr>\n",
              "      <th>3</th>\n",
              "      <td>8.467</td>\n",
              "      <td>50.122</td>\n",
              "      <td>6.983</td>\n",
              "      <td>2.392</td>\n",
              "      <td>3</td>\n",
              "      <td>3</td>\n",
              "      <td>6</td>\n",
              "    </tr>\n",
              "    <tr>\n",
              "      <th>4</th>\n",
              "      <td>7.104</td>\n",
              "      <td>51.364</td>\n",
              "      <td>5.411</td>\n",
              "      <td>3.163</td>\n",
              "      <td>3</td>\n",
              "      <td>3</td>\n",
              "      <td>6</td>\n",
              "    </tr>\n",
              "    <tr>\n",
              "      <th>...</th>\n",
              "      <td>...</td>\n",
              "      <td>...</td>\n",
              "      <td>...</td>\n",
              "      <td>...</td>\n",
              "      <td>...</td>\n",
              "      <td>...</td>\n",
              "      <td>...</td>\n",
              "    </tr>\n",
              "    <tr>\n",
              "      <th>4995</th>\n",
              "      <td>3.919</td>\n",
              "      <td>62.819</td>\n",
              "      <td>3.176</td>\n",
              "      <td>4.247</td>\n",
              "      <td>1</td>\n",
              "      <td>2</td>\n",
              "      <td>1</td>\n",
              "    </tr>\n",
              "    <tr>\n",
              "      <th>4996</th>\n",
              "      <td>5.881</td>\n",
              "      <td>63.150</td>\n",
              "      <td>1.535</td>\n",
              "      <td>4.056</td>\n",
              "      <td>1</td>\n",
              "      <td>2</td>\n",
              "      <td>1</td>\n",
              "    </tr>\n",
              "    <tr>\n",
              "      <th>4997</th>\n",
              "      <td>4.941</td>\n",
              "      <td>62.091</td>\n",
              "      <td>1.905</td>\n",
              "      <td>5.194</td>\n",
              "      <td>1</td>\n",
              "      <td>2</td>\n",
              "      <td>1</td>\n",
              "    </tr>\n",
              "    <tr>\n",
              "      <th>4998</th>\n",
              "      <td>6.176</td>\n",
              "      <td>62.039</td>\n",
              "      <td>1.164</td>\n",
              "      <td>5.035</td>\n",
              "      <td>1</td>\n",
              "      <td>2</td>\n",
              "      <td>1</td>\n",
              "    </tr>\n",
              "    <tr>\n",
              "      <th>4999</th>\n",
              "      <td>3.494</td>\n",
              "      <td>64.043</td>\n",
              "      <td>1.512</td>\n",
              "      <td>6.384</td>\n",
              "      <td>1</td>\n",
              "      <td>2</td>\n",
              "      <td>1</td>\n",
              "    </tr>\n",
              "  </tbody>\n",
              "</table>\n",
              "<p>5000 rows × 7 columns</p>\n",
              "</div>\n",
              "      <button class=\"colab-df-convert\" onclick=\"convertToInteractive('df-8ead8f20-d9e9-4d02-aed1-0e78ca123ddc')\"\n",
              "              title=\"Convert this dataframe to an interactive table.\"\n",
              "              style=\"display:none;\">\n",
              "        \n",
              "  <svg xmlns=\"http://www.w3.org/2000/svg\" height=\"24px\"viewBox=\"0 0 24 24\"\n",
              "       width=\"24px\">\n",
              "    <path d=\"M0 0h24v24H0V0z\" fill=\"none\"/>\n",
              "    <path d=\"M18.56 5.44l.94 2.06.94-2.06 2.06-.94-2.06-.94-.94-2.06-.94 2.06-2.06.94zm-11 1L8.5 8.5l.94-2.06 2.06-.94-2.06-.94L8.5 2.5l-.94 2.06-2.06.94zm10 10l.94 2.06.94-2.06 2.06-.94-2.06-.94-.94-2.06-.94 2.06-2.06.94z\"/><path d=\"M17.41 7.96l-1.37-1.37c-.4-.4-.92-.59-1.43-.59-.52 0-1.04.2-1.43.59L10.3 9.45l-7.72 7.72c-.78.78-.78 2.05 0 2.83L4 21.41c.39.39.9.59 1.41.59.51 0 1.02-.2 1.41-.59l7.78-7.78 2.81-2.81c.8-.78.8-2.07 0-2.86zM5.41 20L4 18.59l7.72-7.72 1.47 1.35L5.41 20z\"/>\n",
              "  </svg>\n",
              "      </button>\n",
              "      \n",
              "  <style>\n",
              "    .colab-df-container {\n",
              "      display:flex;\n",
              "      flex-wrap:wrap;\n",
              "      gap: 12px;\n",
              "    }\n",
              "\n",
              "    .colab-df-convert {\n",
              "      background-color: #E8F0FE;\n",
              "      border: none;\n",
              "      border-radius: 50%;\n",
              "      cursor: pointer;\n",
              "      display: none;\n",
              "      fill: #1967D2;\n",
              "      height: 32px;\n",
              "      padding: 0 0 0 0;\n",
              "      width: 32px;\n",
              "    }\n",
              "\n",
              "    .colab-df-convert:hover {\n",
              "      background-color: #E2EBFA;\n",
              "      box-shadow: 0px 1px 2px rgba(60, 64, 67, 0.3), 0px 1px 3px 1px rgba(60, 64, 67, 0.15);\n",
              "      fill: #174EA6;\n",
              "    }\n",
              "\n",
              "    [theme=dark] .colab-df-convert {\n",
              "      background-color: #3B4455;\n",
              "      fill: #D2E3FC;\n",
              "    }\n",
              "\n",
              "    [theme=dark] .colab-df-convert:hover {\n",
              "      background-color: #434B5C;\n",
              "      box-shadow: 0px 1px 3px 1px rgba(0, 0, 0, 0.15);\n",
              "      filter: drop-shadow(0px 1px 2px rgba(0, 0, 0, 0.3));\n",
              "      fill: #FFFFFF;\n",
              "    }\n",
              "  </style>\n",
              "\n",
              "      <script>\n",
              "        const buttonEl =\n",
              "          document.querySelector('#df-8ead8f20-d9e9-4d02-aed1-0e78ca123ddc button.colab-df-convert');\n",
              "        buttonEl.style.display =\n",
              "          google.colab.kernel.accessAllowed ? 'block' : 'none';\n",
              "\n",
              "        async function convertToInteractive(key) {\n",
              "          const element = document.querySelector('#df-8ead8f20-d9e9-4d02-aed1-0e78ca123ddc');\n",
              "          const dataTable =\n",
              "            await google.colab.kernel.invokeFunction('convertToInteractive',\n",
              "                                                     [key], {});\n",
              "          if (!dataTable) return;\n",
              "\n",
              "          const docLinkHtml = 'Like what you see? Visit the ' +\n",
              "            '<a target=\"_blank\" href=https://colab.research.google.com/notebooks/data_table.ipynb>data table notebook</a>'\n",
              "            + ' to learn more about interactive tables.';\n",
              "          element.innerHTML = '';\n",
              "          dataTable['output_type'] = 'display_data';\n",
              "          await google.colab.output.renderOutput(dataTable, element);\n",
              "          const docLink = document.createElement('div');\n",
              "          docLink.innerHTML = docLinkHtml;\n",
              "          element.appendChild(docLink);\n",
              "        }\n",
              "      </script>\n",
              "    </div>\n",
              "  </div>\n",
              "  "
            ]
          },
          "metadata": {},
          "execution_count": 18
        }
      ]
    },
    {
      "cell_type": "code",
      "source": [
        "import matplotlib.pyplot as plt\n",
        "df.plot(kind='box', subplots=True, layout=(4,4), sharex=False, sharey=False, figsize=(16,16))\n",
        "plt.show()"
      ],
      "metadata": {
        "colab": {
          "base_uri": "https://localhost:8080/",
          "height": 465
        },
        "id": "CtO1c-qEOejN",
        "outputId": "743248cf-ea2d-4eb3-91eb-717e3f798df9"
      },
      "execution_count": null,
      "outputs": [
        {
          "output_type": "display_data",
          "data": {
            "text/plain": [
              "<Figure size 1152x1152 with 16 Axes>"
            ],
            "image/png": "[encoded data removed]"
          },
          "metadata": {
            "needs_background": "light"
          }
        }
      ]
    },
    {
      "cell_type": "code",
      "source": [
        "df.hist(figsize=(16,16))\n",
        "plt.show()"
      ],
      "metadata": {
        "colab": {
          "base_uri": "https://localhost:8080/",
          "height": 934
        },
        "id": "K9iWzKinFN11",
        "outputId": "1d2eb36c-c38c-44ab-e92f-0a4a20933587"
      },
      "execution_count": null,
      "outputs": [
        {
          "output_type": "display_data",
          "data": {
            "text/plain": [
              "<Figure size 1152x1152 with 9 Axes>"
            ],
            "image/png": "[encoded data removed]"
          },
          "metadata": {
            "needs_background": "light"
          }
        }
      ]
    },
    {
      "cell_type": "code",
      "source": [
        "from pandas.plotting import scatter_matrix\n",
        "scatter_matrix(df, figsize=(16,16))\n",
        "plt.show()"
      ],
      "metadata": {
        "id": "RGR3hB4mRQlS"
      },
      "execution_count": null,
      "outputs": []
    },
    {
      "cell_type": "code",
      "source": [
        "df.columns"
      ],
      "metadata": {
        "colab": {
          "base_uri": "https://localhost:8080/"
        },
        "id": "bbSd7c86O0Rs",
        "outputId": "d61c764a-27e1-4a1c-af10-702a04c91470"
      },
      "execution_count": null,
      "outputs": [
        {
          "output_type": "execute_result",
          "data": {
            "text/plain": [
              "Index(['claw_length_cm', 'size_cm', 'tail_length_cm', 'weight_kg',\n",
              "       'endangered_code', 'specie_code', 'sub_specie_code'],\n",
              "      dtype='object')"
            ]
          },
          "metadata": {},
          "execution_count": 60
        }
      ]
    },
    {
      "cell_type": "code",
      "source": [
        "import seaborn as sns\n",
        "myBasicCorr = df.corr()\n",
        "sns.heatmap(myBasicCorr, annot = True)"
      ],
      "metadata": {
        "colab": {
          "base_uri": "https://localhost:8080/",
          "height": 366
        },
        "id": "dkkSGmqaTdYa",
        "outputId": "7c376e9e-5d79-4702-bfd3-14a89e711590"
      },
      "execution_count": null,
      "outputs": [
        {
          "output_type": "execute_result",
          "data": {
            "text/plain": [
              "<matplotlib.axes._subplots.AxesSubplot at 0x7f9560466e50>"
            ]
          },
          "metadata": {},
          "execution_count": 24
        },
        {
          "output_type": "display_data",
          "data": {
            "text/plain": [
              "<Figure size 432x288 with 2 Axes>"
            ],
            "image/png": "[encoded data removed]"
          },
          "metadata": {
            "needs_background": "light"
          }
        }
      ]
    },
    {
      "cell_type": "code",
      "source": [
        "plt.figure(figsize=(15,10))\n",
        "\n",
        "plt.hist(df['claw_length_cm'], alpha = 0.5, label='b')\n",
        "plt.hist(df['size_cm'], alpha = 0.5, label='b')\n",
        "plt.hist(df['tail_length_cm'], alpha = 0.5, label='b')\n",
        "plt.hist(df['weight_kg'], alpha = 0.5, label='b')\n",
        "plt.hist(df['endangered_code'], alpha = 0.5, label='b')\n",
        "plt.hist(df['specie_code'], alpha = 0.5, label='b')\n",
        "plt.show()"
      ],
      "metadata": {
        "colab": {
          "base_uri": "https://localhost:8080/",
          "height": 592
        },
        "id": "ZKgeTbgmOxcM",
        "outputId": "1f116db8-37e3-438c-9bed-a21fc17b63f6"
      },
      "execution_count": null,
      "outputs": [
        {
          "output_type": "display_data",
          "data": {
            "text/plain": [
              "<Figure size 1080x720 with 1 Axes>"
            ],
            "image/png": "[encoded data removed]"
          },
          "metadata": {
            "needs_background": "light"
          }
        }
      ]
    },
    {
      "cell_type": "code",
      "source": [
        "df.head(5)"
      ],
      "metadata": {
        "colab": {
          "base_uri": "https://localhost:8080/",
          "height": 206
        },
        "id": "OasWwLmbYTUf",
        "outputId": "6bec4077-52f4-40d0-bcfd-8acbf761cfc9"
      },
      "execution_count": null,
      "outputs": [
        {
          "output_type": "execute_result",
          "data": {
            "text/plain": [
              "   claw_length_cm  size_cm  tail_length_cm  weight_kg  endangered_code  \\\n",
              "0           6.825   52.004           4.448      3.570                3   \n",
              "1           8.260   50.082           6.286      2.844                3   \n",
              "2           8.662   51.498           4.551      1.259                3   \n",
              "3           8.467   50.122           6.983      2.392                3   \n",
              "4           7.104   51.364           5.411      3.163                3   \n",
              "\n",
              "   specie_code  sub_specie_code  \n",
              "0            3                6  \n",
              "1            3                6  \n",
              "2            3                6  \n",
              "3            3                6  \n",
              "4            3                6  "
            ],
            "text/html": [
              "\n",
              "  <div id=\"df-5e3a6b7c-e9f3-498e-9b84-bd9281425e75\">\n",
              "    <div class=\"colab-df-container\">\n",
              "      <div>\n",
              "<style scoped>\n",
              "    .dataframe tbody tr th:only-of-type {\n",
              "        vertical-align: middle;\n",
              "    }\n",
              "\n",
              "    .dataframe tbody tr th {\n",
              "        vertical-align: top;\n",
              "    }\n",
              "\n",
              "    .dataframe thead th {\n",
              "        text-align: right;\n",
              "    }\n",
              "</style>\n",
              "<table border=\"1\" class=\"dataframe\">\n",
              "  <thead>\n",
              "    <tr style=\"text-align: right;\">\n",
              "      <th></th>\n",
              "      <th>claw_length_cm</th>\n",
              "      <th>size_cm</th>\n",
              "      <th>tail_length_cm</th>\n",
              "      <th>weight_kg</th>\n",
              "      <th>endangered_code</th>\n",
              "      <th>specie_code</th>\n",
              "      <th>sub_specie_code</th>\n",
              "    </tr>\n",
              "  </thead>\n",
              "  <tbody>\n",
              "    <tr>\n",
              "      <th>0</th>\n",
              "      <td>6.825</td>\n",
              "      <td>52.004</td>\n",
              "      <td>4.448</td>\n",
              "      <td>3.570</td>\n",
              "      <td>3</td>\n",
              "      <td>3</td>\n",
              "      <td>6</td>\n",
              "    </tr>\n",
              "    <tr>\n",
              "      <th>1</th>\n",
              "      <td>8.260</td>\n",
              "      <td>50.082</td>\n",
              "      <td>6.286</td>\n",
              "      <td>2.844</td>\n",
              "      <td>3</td>\n",
              "      <td>3</td>\n",
              "      <td>6</td>\n",
              "    </tr>\n",
              "    <tr>\n",
              "      <th>2</th>\n",
              "      <td>8.662</td>\n",
              "      <td>51.498</td>\n",
              "      <td>4.551</td>\n",
              "      <td>1.259</td>\n",
              "      <td>3</td>\n",
              "      <td>3</td>\n",
              "      <td>6</td>\n",
              "    </tr>\n",
              "    <tr>\n",
              "      <th>3</th>\n",
              "      <td>8.467</td>\n",
              "      <td>50.122</td>\n",
              "      <td>6.983</td>\n",
              "      <td>2.392</td>\n",
              "      <td>3</td>\n",
              "      <td>3</td>\n",
              "      <td>6</td>\n",
              "    </tr>\n",
              "    <tr>\n",
              "      <th>4</th>\n",
              "      <td>7.104</td>\n",
              "      <td>51.364</td>\n",
              "      <td>5.411</td>\n",
              "      <td>3.163</td>\n",
              "      <td>3</td>\n",
              "      <td>3</td>\n",
              "      <td>6</td>\n",
              "    </tr>\n",
              "  </tbody>\n",
              "</table>\n",
              "</div>\n",
              "      <button class=\"colab-df-convert\" onclick=\"convertToInteractive('df-5e3a6b7c-e9f3-498e-9b84-bd9281425e75')\"\n",
              "              title=\"Convert this dataframe to an interactive table.\"\n",
              "              style=\"display:none;\">\n",
              "        \n",
              "  <svg xmlns=\"http://www.w3.org/2000/svg\" height=\"24px\"viewBox=\"0 0 24 24\"\n",
              "       width=\"24px\">\n",
              "    <path d=\"M0 0h24v24H0V0z\" fill=\"none\"/>\n",
              "    <path d=\"M18.56 5.44l.94 2.06.94-2.06 2.06-.94-2.06-.94-.94-2.06-.94 2.06-2.06.94zm-11 1L8.5 8.5l.94-2.06 2.06-.94-2.06-.94L8.5 2.5l-.94 2.06-2.06.94zm10 10l.94 2.06.94-2.06 2.06-.94-2.06-.94-.94-2.06-.94 2.06-2.06.94z\"/><path d=\"M17.41 7.96l-1.37-1.37c-.4-.4-.92-.59-1.43-.59-.52 0-1.04.2-1.43.59L10.3 9.45l-7.72 7.72c-.78.78-.78 2.05 0 2.83L4 21.41c.39.39.9.59 1.41.59.51 0 1.02-.2 1.41-.59l7.78-7.78 2.81-2.81c.8-.78.8-2.07 0-2.86zM5.41 20L4 18.59l7.72-7.72 1.47 1.35L5.41 20z\"/>\n",
              "  </svg>\n",
              "      </button>\n",
              "      \n",
              "  <style>\n",
              "    .colab-df-container {\n",
              "      display:flex;\n",
              "      flex-wrap:wrap;\n",
              "      gap: 12px;\n",
              "    }\n",
              "\n",
              "    .colab-df-convert {\n",
              "      background-color: #E8F0FE;\n",
              "      border: none;\n",
              "      border-radius: 50%;\n",
              "      cursor: pointer;\n",
              "      display: none;\n",
              "      fill: #1967D2;\n",
              "      height: 32px;\n",
              "      padding: 0 0 0 0;\n",
              "      width: 32px;\n",
              "    }\n",
              "\n",
              "    .colab-df-convert:hover {\n",
              "      background-color: #E2EBFA;\n",
              "      box-shadow: 0px 1px 2px rgba(60, 64, 67, 0.3), 0px 1px 3px 1px rgba(60, 64, 67, 0.15);\n",
              "      fill: #174EA6;\n",
              "    }\n",
              "\n",
              "    [theme=dark] .colab-df-convert {\n",
              "      background-color: #3B4455;\n",
              "      fill: #D2E3FC;\n",
              "    }\n",
              "\n",
              "    [theme=dark] .colab-df-convert:hover {\n",
              "      background-color: #434B5C;\n",
              "      box-shadow: 0px 1px 3px 1px rgba(0, 0, 0, 0.15);\n",
              "      filter: drop-shadow(0px 1px 2px rgba(0, 0, 0, 0.3));\n",
              "      fill: #FFFFFF;\n",
              "    }\n",
              "  </style>\n",
              "\n",
              "      <script>\n",
              "        const buttonEl =\n",
              "          document.querySelector('#df-5e3a6b7c-e9f3-498e-9b84-bd9281425e75 button.colab-df-convert');\n",
              "        buttonEl.style.display =\n",
              "          google.colab.kernel.accessAllowed ? 'block' : 'none';\n",
              "\n",
              "        async function convertToInteractive(key) {\n",
              "          const element = document.querySelector('#df-5e3a6b7c-e9f3-498e-9b84-bd9281425e75');\n",
              "          const dataTable =\n",
              "            await google.colab.kernel.invokeFunction('convertToInteractive',\n",
              "                                                     [key], {});\n",
              "          if (!dataTable) return;\n",
              "\n",
              "          const docLinkHtml = 'Like what you see? Visit the ' +\n",
              "            '<a target=\"_blank\" href=https://colab.research.google.com/notebooks/data_table.ipynb>data table notebook</a>'\n",
              "            + ' to learn more about interactive tables.';\n",
              "          element.innerHTML = '';\n",
              "          dataTable['output_type'] = 'display_data';\n",
              "          await google.colab.output.renderOutput(dataTable, element);\n",
              "          const docLink = document.createElement('div');\n",
              "          docLink.innerHTML = docLinkHtml;\n",
              "          element.appendChild(docLink);\n",
              "        }\n",
              "      </script>\n",
              "    </div>\n",
              "  </div>\n",
              "  "
            ]
          },
          "metadata": {},
          "execution_count": 26
        }
      ]
    },
    {
      "cell_type": "code",
      "source": [
        "X = df.iloc[:,:6].values\n",
        "X"
      ],
      "metadata": {
        "colab": {
          "base_uri": "https://localhost:8080/"
        },
        "id": "RFp0Zpru52tp",
        "outputId": "c0f55361-de29-464f-e1c4-70e33d554dfa"
      },
      "execution_count": null,
      "outputs": [
        {
          "output_type": "execute_result",
          "data": {
            "text/plain": [
              "array([[ 6.825, 52.004,  4.448,  3.57 ,  3.   ,  3.   ],\n",
              "       [ 8.26 , 50.082,  6.286,  2.844,  3.   ,  3.   ],\n",
              "       [ 8.662, 51.498,  4.551,  1.259,  3.   ,  3.   ],\n",
              "       ...,\n",
              "       [ 4.941, 62.091,  1.905,  5.194,  1.   ,  2.   ],\n",
              "       [ 6.176, 62.039,  1.164,  5.035,  1.   ,  2.   ],\n",
              "       [ 3.494, 64.043,  1.512,  6.384,  1.   ,  2.   ]])"
            ]
          },
          "metadata": {},
          "execution_count": 27
        }
      ]
    },
    {
      "cell_type": "code",
      "source": [
        "Y = df.iloc[:,6].values\n",
        "Y"
      ],
      "metadata": {
        "id": "hk4htyL46Bsl",
        "colab": {
          "base_uri": "https://localhost:8080/"
        },
        "outputId": "23970f8e-2152-482a-ebfe-12d99aa0b6ad"
      },
      "execution_count": null,
      "outputs": [
        {
          "output_type": "execute_result",
          "data": {
            "text/plain": [
              "array([6, 6, 6, ..., 1, 1, 1])"
            ]
          },
          "metadata": {},
          "execution_count": 28
        }
      ]
    },
    {
      "cell_type": "markdown",
      "source": [
        "**масштабирование:**"
      ],
      "metadata": {
        "id": "fUxXmel8SSdn"
      }
    },
    {
      "cell_type": "code",
      "source": [
        "from pandas.core.apply import FrameApply\n",
        "from sklearn.preprocessing import MinMaxScaler\n",
        "scaler=MinMaxScaler(feature_range=(0,1))"
      ],
      "metadata": {
        "id": "YadkjtW2RKvs"
      },
      "execution_count": null,
      "outputs": []
    },
    {
      "cell_type": "code",
      "source": [
        "rescaledX=scaler.fit_transform(X)\n",
        "rescaledX"
      ],
      "metadata": {
        "colab": {
          "base_uri": "https://localhost:8080/"
        },
        "id": "9L0X88KJTz-h",
        "outputId": "429de550-cca0-441c-b2f1-d9d5310905b6"
      },
      "execution_count": null,
      "outputs": [
        {
          "output_type": "execute_result",
          "data": {
            "text/plain": [
              "array([[0.48709585, 0.23250275, 0.64372822, 0.28991272, 1.        ,\n",
              "        1.        ],\n",
              "       [0.62477214, 0.14446684, 0.80383275, 0.20970059, 1.        ,\n",
              "        1.        ],\n",
              "       [0.66334069, 0.20932576, 0.65270035, 0.03458181, 1.        ,\n",
              "        1.        ],\n",
              "       ...,\n",
              "       [0.30634174, 0.69453096, 0.42221254, 0.4693404 , 0.        ,\n",
              "        0.        ],\n",
              "       [0.4248297 , 0.69214914, 0.35766551, 0.45177328, 0.        ,\n",
              "        0.        ],\n",
              "       [0.16751415, 0.783941  , 0.38797909, 0.60081759, 0.        ,\n",
              "        0.        ]])"
            ]
          },
          "metadata": {},
          "execution_count": 30
        }
      ]
    },
    {
      "cell_type": "code",
      "source": [
        "from numpy import set_printoptions\n",
        "set_printoptions(precision=3)"
      ],
      "metadata": {
        "id": "TPdfoeXmVnEI"
      },
      "execution_count": null,
      "outputs": []
    },
    {
      "cell_type": "code",
      "source": [
        "rescaledX"
      ],
      "metadata": {
        "colab": {
          "base_uri": "https://localhost:8080/"
        },
        "id": "6fE57QgQVu2F",
        "outputId": "560b38dd-cdc4-4d79-c9a4-ecc339e7a862"
      },
      "execution_count": null,
      "outputs": [
        {
          "output_type": "execute_result",
          "data": {
            "text/plain": [
              "array([[0.487, 0.233, 0.644, 0.29 , 1.   , 1.   ],\n",
              "       [0.625, 0.144, 0.804, 0.21 , 1.   , 1.   ],\n",
              "       [0.663, 0.209, 0.653, 0.035, 1.   , 1.   ],\n",
              "       ...,\n",
              "       [0.306, 0.695, 0.422, 0.469, 0.   , 0.   ],\n",
              "       [0.425, 0.692, 0.358, 0.452, 0.   , 0.   ],\n",
              "       [0.168, 0.784, 0.388, 0.601, 0.   , 0.   ]])"
            ]
          },
          "metadata": {},
          "execution_count": 32
        }
      ]
    },
    {
      "cell_type": "code",
      "source": [
        "from sklearn.preprocessing import StandardScaler"
      ],
      "metadata": {
        "id": "0rP0tsRotbq6"
      },
      "execution_count": null,
      "outputs": []
    },
    {
      "cell_type": "code",
      "source": [
        "scaler=StandardScaler().fit(X) # создаем объект и обучаем"
      ],
      "metadata": {
        "id": "f3bs1c3-V8CY"
      },
      "execution_count": null,
      "outputs": []
    },
    {
      "cell_type": "code",
      "source": [
        "rescaledX=scaler.transform(X) # преобразуем данные"
      ],
      "metadata": {
        "id": "yW6JOKyLWEfv"
      },
      "execution_count": null,
      "outputs": []
    },
    {
      "cell_type": "code",
      "source": [
        "rescaledX"
      ],
      "metadata": {
        "colab": {
          "base_uri": "https://localhost:8080/"
        },
        "id": "de4yVwAOXUec",
        "outputId": "718cc188-7bd8-4592-de1e-135d2ed4f685"
      },
      "execution_count": null,
      "outputs": [
        {
          "output_type": "execute_result",
          "data": {
            "text/plain": [
              "array([[-0.394, -1.416,  0.445, -1.327,  4.858,  0.937],\n",
              "       [ 0.55 , -1.74 ,  1.232, -1.9  ,  4.858,  0.937],\n",
              "       [ 0.815, -1.501,  0.489, -3.15 ,  4.858,  0.937],\n",
              "       ...,\n",
              "       [-1.633,  0.285, -0.645, -0.047, -0.356, -1.067],\n",
              "       [-0.821,  0.276, -0.963, -0.172, -0.356, -1.067],\n",
              "       [-2.585,  0.614, -0.814,  0.892, -0.356, -1.067]])"
            ]
          },
          "metadata": {},
          "execution_count": 36
        }
      ]
    },
    {
      "cell_type": "code",
      "source": [
        "import pandas as pd\n",
        "fg = pd.DataFrame(rescaledX, columns=('claw_length_cm',\t'size_cm',\t'tail_length_cm',\t'weight_kg',\t'endangered_code',\t'specie_code'))\n",
        "fg.head(15)"
      ],
      "metadata": {
        "colab": {
          "base_uri": "https://localhost:8080/",
          "height": 520
        },
        "id": "mdAuAonu24Kw",
        "outputId": "dc64bb82-44c4-4143-8731-b5d4cd5998df"
      },
      "execution_count": null,
      "outputs": [
        {
          "output_type": "execute_result",
          "data": {
            "text/plain": [
              "    claw_length_cm   size_cm  tail_length_cm  weight_kg  endangered_code  \\\n",
              "0        -0.393654 -1.415976        0.444677  -1.327407         4.857805   \n",
              "1         0.550189 -1.740125        1.232485  -1.899927         4.857805   \n",
              "2         0.814597 -1.501314        0.488825  -3.149852         4.857805   \n",
              "3         0.686339 -1.733379        1.531235  -2.256373         4.857805   \n",
              "4        -0.210147 -1.523913        0.857441  -1.648365         4.857805   \n",
              "5        -0.102279 -1.662882        0.112066  -1.536385         4.857805   \n",
              "6        -0.150293 -1.810958        0.329377  -1.892041         4.857805   \n",
              "7         0.020716 -1.586989        0.003196  -1.097925         4.857805   \n",
              "8        -0.427856 -2.025652        1.367501  -0.600321         4.857805   \n",
              "9         0.484416 -1.839123        0.277514  -3.382488         4.857805   \n",
              "10        0.004273 -1.812645        0.443820  -2.130986         4.857805   \n",
              "11       -0.074654 -1.738101        1.475514   0.189852         4.857805   \n",
              "12        0.961270 -1.836425        1.186623  -1.724859         4.857805   \n",
              "13       -0.251584 -1.623418        1.258203  -1.858132         4.857805   \n",
              "14        0.603465 -1.903042        0.907161  -2.215366         4.857805   \n",
              "\n",
              "    specie_code  \n",
              "0       0.93717  \n",
              "1       0.93717  \n",
              "2       0.93717  \n",
              "3       0.93717  \n",
              "4       0.93717  \n",
              "5       0.93717  \n",
              "6       0.93717  \n",
              "7       0.93717  \n",
              "8       0.93717  \n",
              "9       0.93717  \n",
              "10      0.93717  \n",
              "11      0.93717  \n",
              "12      0.93717  \n",
              "13      0.93717  \n",
              "14      0.93717  "
            ],
            "text/html": [
              "\n",
              "  <div id=\"df-cb7689f9-eb60-40a0-9291-197ef6c3b1e0\">\n",
              "    <div class=\"colab-df-container\">\n",
              "      <div>\n",
              "<style scoped>\n",
              "    .dataframe tbody tr th:only-of-type {\n",
              "        vertical-align: middle;\n",
              "    }\n",
              "\n",
              "    .dataframe tbody tr th {\n",
              "        vertical-align: top;\n",
              "    }\n",
              "\n",
              "    .dataframe thead th {\n",
              "        text-align: right;\n",
              "    }\n",
              "</style>\n",
              "<table border=\"1\" class=\"dataframe\">\n",
              "  <thead>\n",
              "    <tr style=\"text-align: right;\">\n",
              "      <th></th>\n",
              "      <th>claw_length_cm</th>\n",
              "      <th>size_cm</th>\n",
              "      <th>tail_length_cm</th>\n",
              "      <th>weight_kg</th>\n",
              "      <th>endangered_code</th>\n",
              "      <th>specie_code</th>\n",
              "    </tr>\n",
              "  </thead>\n",
              "  <tbody>\n",
              "    <tr>\n",
              "      <th>0</th>\n",
              "      <td>-0.393654</td>\n",
              "      <td>-1.415976</td>\n",
              "      <td>0.444677</td>\n",
              "      <td>-1.327407</td>\n",
              "      <td>4.857805</td>\n",
              "      <td>0.93717</td>\n",
              "    </tr>\n",
              "    <tr>\n",
              "      <th>1</th>\n",
              "      <td>0.550189</td>\n",
              "      <td>-1.740125</td>\n",
              "      <td>1.232485</td>\n",
              "      <td>-1.899927</td>\n",
              "      <td>4.857805</td>\n",
              "      <td>0.93717</td>\n",
              "    </tr>\n",
              "    <tr>\n",
              "      <th>2</th>\n",
              "      <td>0.814597</td>\n",
              "      <td>-1.501314</td>\n",
              "      <td>0.488825</td>\n",
              "      <td>-3.149852</td>\n",
              "      <td>4.857805</td>\n",
              "      <td>0.93717</td>\n",
              "    </tr>\n",
              "    <tr>\n",
              "      <th>3</th>\n",
              "      <td>0.686339</td>\n",
              "      <td>-1.733379</td>\n",
              "      <td>1.531235</td>\n",
              "      <td>-2.256373</td>\n",
              "      <td>4.857805</td>\n",
              "      <td>0.93717</td>\n",
              "    </tr>\n",
              "    <tr>\n",
              "      <th>4</th>\n",
              "      <td>-0.210147</td>\n",
              "      <td>-1.523913</td>\n",
              "      <td>0.857441</td>\n",
              "      <td>-1.648365</td>\n",
              "      <td>4.857805</td>\n",
              "      <td>0.93717</td>\n",
              "    </tr>\n",
              "    <tr>\n",
              "      <th>5</th>\n",
              "      <td>-0.102279</td>\n",
              "      <td>-1.662882</td>\n",
              "      <td>0.112066</td>\n",
              "      <td>-1.536385</td>\n",
              "      <td>4.857805</td>\n",
              "      <td>0.93717</td>\n",
              "    </tr>\n",
              "    <tr>\n",
              "      <th>6</th>\n",
              "      <td>-0.150293</td>\n",
              "      <td>-1.810958</td>\n",
              "      <td>0.329377</td>\n",
              "      <td>-1.892041</td>\n",
              "      <td>4.857805</td>\n",
              "      <td>0.93717</td>\n",
              "    </tr>\n",
              "    <tr>\n",
              "      <th>7</th>\n",
              "      <td>0.020716</td>\n",
              "      <td>-1.586989</td>\n",
              "      <td>0.003196</td>\n",
              "      <td>-1.097925</td>\n",
              "      <td>4.857805</td>\n",
              "      <td>0.93717</td>\n",
              "    </tr>\n",
              "    <tr>\n",
              "      <th>8</th>\n",
              "      <td>-0.427856</td>\n",
              "      <td>-2.025652</td>\n",
              "      <td>1.367501</td>\n",
              "      <td>-0.600321</td>\n",
              "      <td>4.857805</td>\n",
              "      <td>0.93717</td>\n",
              "    </tr>\n",
              "    <tr>\n",
              "      <th>9</th>\n",
              "      <td>0.484416</td>\n",
              "      <td>-1.839123</td>\n",
              "      <td>0.277514</td>\n",
              "      <td>-3.382488</td>\n",
              "      <td>4.857805</td>\n",
              "      <td>0.93717</td>\n",
              "    </tr>\n",
              "    <tr>\n",
              "      <th>10</th>\n",
              "      <td>0.004273</td>\n",
              "      <td>-1.812645</td>\n",
              "      <td>0.443820</td>\n",
              "      <td>-2.130986</td>\n",
              "      <td>4.857805</td>\n",
              "      <td>0.93717</td>\n",
              "    </tr>\n",
              "    <tr>\n",
              "      <th>11</th>\n",
              "      <td>-0.074654</td>\n",
              "      <td>-1.738101</td>\n",
              "      <td>1.475514</td>\n",
              "      <td>0.189852</td>\n",
              "      <td>4.857805</td>\n",
              "      <td>0.93717</td>\n",
              "    </tr>\n",
              "    <tr>\n",
              "      <th>12</th>\n",
              "      <td>0.961270</td>\n",
              "      <td>-1.836425</td>\n",
              "      <td>1.186623</td>\n",
              "      <td>-1.724859</td>\n",
              "      <td>4.857805</td>\n",
              "      <td>0.93717</td>\n",
              "    </tr>\n",
              "    <tr>\n",
              "      <th>13</th>\n",
              "      <td>-0.251584</td>\n",
              "      <td>-1.623418</td>\n",
              "      <td>1.258203</td>\n",
              "      <td>-1.858132</td>\n",
              "      <td>4.857805</td>\n",
              "      <td>0.93717</td>\n",
              "    </tr>\n",
              "    <tr>\n",
              "      <th>14</th>\n",
              "      <td>0.603465</td>\n",
              "      <td>-1.903042</td>\n",
              "      <td>0.907161</td>\n",
              "      <td>-2.215366</td>\n",
              "      <td>4.857805</td>\n",
              "      <td>0.93717</td>\n",
              "    </tr>\n",
              "  </tbody>\n",
              "</table>\n",
              "</div>\n",
              "      <button class=\"colab-df-convert\" onclick=\"convertToInteractive('df-cb7689f9-eb60-40a0-9291-197ef6c3b1e0')\"\n",
              "              title=\"Convert this dataframe to an interactive table.\"\n",
              "              style=\"display:none;\">\n",
              "        \n",
              "  <svg xmlns=\"http://www.w3.org/2000/svg\" height=\"24px\"viewBox=\"0 0 24 24\"\n",
              "       width=\"24px\">\n",
              "    <path d=\"M0 0h24v24H0V0z\" fill=\"none\"/>\n",
              "    <path d=\"M18.56 5.44l.94 2.06.94-2.06 2.06-.94-2.06-.94-.94-2.06-.94 2.06-2.06.94zm-11 1L8.5 8.5l.94-2.06 2.06-.94-2.06-.94L8.5 2.5l-.94 2.06-2.06.94zm10 10l.94 2.06.94-2.06 2.06-.94-2.06-.94-.94-2.06-.94 2.06-2.06.94z\"/><path d=\"M17.41 7.96l-1.37-1.37c-.4-.4-.92-.59-1.43-.59-.52 0-1.04.2-1.43.59L10.3 9.45l-7.72 7.72c-.78.78-.78 2.05 0 2.83L4 21.41c.39.39.9.59 1.41.59.51 0 1.02-.2 1.41-.59l7.78-7.78 2.81-2.81c.8-.78.8-2.07 0-2.86zM5.41 20L4 18.59l7.72-7.72 1.47 1.35L5.41 20z\"/>\n",
              "  </svg>\n",
              "      </button>\n",
              "      \n",
              "  <style>\n",
              "    .colab-df-container {\n",
              "      display:flex;\n",
              "      flex-wrap:wrap;\n",
              "      gap: 12px;\n",
              "    }\n",
              "\n",
              "    .colab-df-convert {\n",
              "      background-color: #E8F0FE;\n",
              "      border: none;\n",
              "      border-radius: 50%;\n",
              "      cursor: pointer;\n",
              "      display: none;\n",
              "      fill: #1967D2;\n",
              "      height: 32px;\n",
              "      padding: 0 0 0 0;\n",
              "      width: 32px;\n",
              "    }\n",
              "\n",
              "    .colab-df-convert:hover {\n",
              "      background-color: #E2EBFA;\n",
              "      box-shadow: 0px 1px 2px rgba(60, 64, 67, 0.3), 0px 1px 3px 1px rgba(60, 64, 67, 0.15);\n",
              "      fill: #174EA6;\n",
              "    }\n",
              "\n",
              "    [theme=dark] .colab-df-convert {\n",
              "      background-color: #3B4455;\n",
              "      fill: #D2E3FC;\n",
              "    }\n",
              "\n",
              "    [theme=dark] .colab-df-convert:hover {\n",
              "      background-color: #434B5C;\n",
              "      box-shadow: 0px 1px 3px 1px rgba(0, 0, 0, 0.15);\n",
              "      filter: drop-shadow(0px 1px 2px rgba(0, 0, 0, 0.3));\n",
              "      fill: #FFFFFF;\n",
              "    }\n",
              "  </style>\n",
              "\n",
              "      <script>\n",
              "        const buttonEl =\n",
              "          document.querySelector('#df-cb7689f9-eb60-40a0-9291-197ef6c3b1e0 button.colab-df-convert');\n",
              "        buttonEl.style.display =\n",
              "          google.colab.kernel.accessAllowed ? 'block' : 'none';\n",
              "\n",
              "        async function convertToInteractive(key) {\n",
              "          const element = document.querySelector('#df-cb7689f9-eb60-40a0-9291-197ef6c3b1e0');\n",
              "          const dataTable =\n",
              "            await google.colab.kernel.invokeFunction('convertToInteractive',\n",
              "                                                     [key], {});\n",
              "          if (!dataTable) return;\n",
              "\n",
              "          const docLinkHtml = 'Like what you see? Visit the ' +\n",
              "            '<a target=\"_blank\" href=https://colab.research.google.com/notebooks/data_table.ipynb>data table notebook</a>'\n",
              "            + ' to learn more about interactive tables.';\n",
              "          element.innerHTML = '';\n",
              "          dataTable['output_type'] = 'display_data';\n",
              "          await google.colab.output.renderOutput(dataTable, element);\n",
              "          const docLink = document.createElement('div');\n",
              "          docLink.innerHTML = docLinkHtml;\n",
              "          element.appendChild(docLink);\n",
              "        }\n",
              "      </script>\n",
              "    </div>\n",
              "  </div>\n",
              "  "
            ]
          },
          "metadata": {},
          "execution_count": 37
        }
      ]
    },
    {
      "cell_type": "code",
      "source": [
        "plt.figure(figsize=(15,10))\n",
        "\n",
        "plt.hist(fg['claw_length_cm'], alpha = 0.5, label='b')\n",
        "plt.hist(fg['size_cm'], alpha = 0.5, label='b')\n",
        "plt.hist(fg['tail_length_cm'], alpha = 0.5, label='b')\n",
        "plt.hist(fg['weight_kg'], alpha = 0.5, label='b')\n",
        "plt.hist(fg['endangered_code'], alpha = 0.5, label='b')\n",
        "plt.hist(fg['specie_code'], alpha = 0.5, label='b')\n",
        "plt.show()"
      ],
      "metadata": {
        "colab": {
          "base_uri": "https://localhost:8080/",
          "height": 592
        },
        "id": "YOPKCEo4trqa",
        "outputId": "0b85f095-5dd3-4fcb-ec68-2ac1a4b1e1b0"
      },
      "execution_count": null,
      "outputs": [
        {
          "output_type": "display_data",
          "data": {
            "text/plain": [
              "<Figure size 1080x720 with 1 Axes>"
            ],
            "image/png": "[encoded data removed]"
          },
          "metadata": {
            "needs_background": "light"
          }
        }
      ]
    },
    {
      "cell_type": "code",
      "source": [
        "plt.figure(figsize=(15,10))\n",
        "\n",
        "#plt.hist(fg['claw_length_cm'], alpha = 0.5, label='b')\n",
        "#plt.hist(fg['size_cm'], alpha = 0.5, label='b')\n",
        "#plt.hist(fg['tail_length_cm'], alpha = 0.5, label='b')\n",
        "#plt.hist(fg['weight_kg'], alpha = 0.5, label='b')\n",
        "plt.hist(fg['endangered_code'], alpha = 0.5, label='b')\n",
        "#plt.hist(fg['specie_code'], alpha = 0.5, label='b')\n",
        "plt.show()"
      ],
      "metadata": {
        "id": "GhCNq23tfRzz"
      },
      "execution_count": null,
      "outputs": []
    },
    {
      "cell_type": "markdown",
      "source": [
        "# **КРАСОТА!!!!!!!!!!!!!!!!!!!!!!!!!!!!!!!!!!!!!**"
      ],
      "metadata": {
        "id": "R6sB4KhDvT69"
      }
    },
    {
      "cell_type": "code",
      "source": [
        "fg"
      ],
      "metadata": {
        "colab": {
          "base_uri": "https://localhost:8080/",
          "height": 423
        },
        "id": "0KKrQxEzF-q9",
        "outputId": "33564713-0767-4940-9e32-b0399e5197c3"
      },
      "execution_count": null,
      "outputs": [
        {
          "output_type": "execute_result",
          "data": {
            "text/plain": [
              "      claw_length_cm   size_cm  tail_length_cm  weight_kg  endangered_code  \\\n",
              "0          -0.393654 -1.415976        0.444677  -1.327407         4.857805   \n",
              "1           0.550189 -1.740125        1.232485  -1.899927         4.857805   \n",
              "2           0.814597 -1.501314        0.488825  -3.149852         4.857805   \n",
              "3           0.686339 -1.733379        1.531235  -2.256373         4.857805   \n",
              "4          -0.210147 -1.523913        0.857441  -1.648365         4.857805   \n",
              "...              ...       ...             ...        ...              ...   \n",
              "4995       -2.305017  0.407994       -0.100531  -0.793527        -0.356110   \n",
              "4996       -1.014551  0.463818       -0.803901  -0.944149        -0.356110   \n",
              "4997       -1.632817  0.285215       -0.645310  -0.046727        -0.356110   \n",
              "4998       -0.820520  0.276445       -0.962920  -0.172114        -0.356110   \n",
              "4999       -2.584552  0.614424       -0.813759   0.891702        -0.356110   \n",
              "\n",
              "      specie_code  \n",
              "0        0.937170  \n",
              "1        0.937170  \n",
              "2        0.937170  \n",
              "3        0.937170  \n",
              "4        0.937170  \n",
              "...           ...  \n",
              "4995    -1.067043  \n",
              "4996    -1.067043  \n",
              "4997    -1.067043  \n",
              "4998    -1.067043  \n",
              "4999    -1.067043  \n",
              "\n",
              "[5000 rows x 6 columns]"
            ],
            "text/html": [
              "\n",
              "  <div id=\"df-8502f7bd-ab25-45e5-8d81-e45ec0886cd0\">\n",
              "    <div class=\"colab-df-container\">\n",
              "      <div>\n",
              "<style scoped>\n",
              "    .dataframe tbody tr th:only-of-type {\n",
              "        vertical-align: middle;\n",
              "    }\n",
              "\n",
              "    .dataframe tbody tr th {\n",
              "        vertical-align: top;\n",
              "    }\n",
              "\n",
              "    .dataframe thead th {\n",
              "        text-align: right;\n",
              "    }\n",
              "</style>\n",
              "<table border=\"1\" class=\"dataframe\">\n",
              "  <thead>\n",
              "    <tr style=\"text-align: right;\">\n",
              "      <th></th>\n",
              "      <th>claw_length_cm</th>\n",
              "      <th>size_cm</th>\n",
              "      <th>tail_length_cm</th>\n",
              "      <th>weight_kg</th>\n",
              "      <th>endangered_code</th>\n",
              "      <th>specie_code</th>\n",
              "    </tr>\n",
              "  </thead>\n",
              "  <tbody>\n",
              "    <tr>\n",
              "      <th>0</th>\n",
              "      <td>-0.393654</td>\n",
              "      <td>-1.415976</td>\n",
              "      <td>0.444677</td>\n",
              "      <td>-1.327407</td>\n",
              "      <td>4.857805</td>\n",
              "      <td>0.937170</td>\n",
              "    </tr>\n",
              "    <tr>\n",
              "      <th>1</th>\n",
              "      <td>0.550189</td>\n",
              "      <td>-1.740125</td>\n",
              "      <td>1.232485</td>\n",
              "      <td>-1.899927</td>\n",
              "      <td>4.857805</td>\n",
              "      <td>0.937170</td>\n",
              "    </tr>\n",
              "    <tr>\n",
              "      <th>2</th>\n",
              "      <td>0.814597</td>\n",
              "      <td>-1.501314</td>\n",
              "      <td>0.488825</td>\n",
              "      <td>-3.149852</td>\n",
              "      <td>4.857805</td>\n",
              "      <td>0.937170</td>\n",
              "    </tr>\n",
              "    <tr>\n",
              "      <th>3</th>\n",
              "      <td>0.686339</td>\n",
              "      <td>-1.733379</td>\n",
              "      <td>1.531235</td>\n",
              "      <td>-2.256373</td>\n",
              "      <td>4.857805</td>\n",
              "      <td>0.937170</td>\n",
              "    </tr>\n",
              "    <tr>\n",
              "      <th>4</th>\n",
              "      <td>-0.210147</td>\n",
              "      <td>-1.523913</td>\n",
              "      <td>0.857441</td>\n",
              "      <td>-1.648365</td>\n",
              "      <td>4.857805</td>\n",
              "      <td>0.937170</td>\n",
              "    </tr>\n",
              "    <tr>\n",
              "      <th>...</th>\n",
              "      <td>...</td>\n",
              "      <td>...</td>\n",
              "      <td>...</td>\n",
              "      <td>...</td>\n",
              "      <td>...</td>\n",
              "      <td>...</td>\n",
              "    </tr>\n",
              "    <tr>\n",
              "      <th>4995</th>\n",
              "      <td>-2.305017</td>\n",
              "      <td>0.407994</td>\n",
              "      <td>-0.100531</td>\n",
              "      <td>-0.793527</td>\n",
              "      <td>-0.356110</td>\n",
              "      <td>-1.067043</td>\n",
              "    </tr>\n",
              "    <tr>\n",
              "      <th>4996</th>\n",
              "      <td>-1.014551</td>\n",
              "      <td>0.463818</td>\n",
              "      <td>-0.803901</td>\n",
              "      <td>-0.944149</td>\n",
              "      <td>-0.356110</td>\n",
              "      <td>-1.067043</td>\n",
              "    </tr>\n",
              "    <tr>\n",
              "      <th>4997</th>\n",
              "      <td>-1.632817</td>\n",
              "      <td>0.285215</td>\n",
              "      <td>-0.645310</td>\n",
              "      <td>-0.046727</td>\n",
              "      <td>-0.356110</td>\n",
              "      <td>-1.067043</td>\n",
              "    </tr>\n",
              "    <tr>\n",
              "      <th>4998</th>\n",
              "      <td>-0.820520</td>\n",
              "      <td>0.276445</td>\n",
              "      <td>-0.962920</td>\n",
              "      <td>-0.172114</td>\n",
              "      <td>-0.356110</td>\n",
              "      <td>-1.067043</td>\n",
              "    </tr>\n",
              "    <tr>\n",
              "      <th>4999</th>\n",
              "      <td>-2.584552</td>\n",
              "      <td>0.614424</td>\n",
              "      <td>-0.813759</td>\n",
              "      <td>0.891702</td>\n",
              "      <td>-0.356110</td>\n",
              "      <td>-1.067043</td>\n",
              "    </tr>\n",
              "  </tbody>\n",
              "</table>\n",
              "<p>5000 rows × 6 columns</p>\n",
              "</div>\n",
              "      <button class=\"colab-df-convert\" onclick=\"convertToInteractive('df-8502f7bd-ab25-45e5-8d81-e45ec0886cd0')\"\n",
              "              title=\"Convert this dataframe to an interactive table.\"\n",
              "              style=\"display:none;\">\n",
              "        \n",
              "  <svg xmlns=\"http://www.w3.org/2000/svg\" height=\"24px\"viewBox=\"0 0 24 24\"\n",
              "       width=\"24px\">\n",
              "    <path d=\"M0 0h24v24H0V0z\" fill=\"none\"/>\n",
              "    <path d=\"M18.56 5.44l.94 2.06.94-2.06 2.06-.94-2.06-.94-.94-2.06-.94 2.06-2.06.94zm-11 1L8.5 8.5l.94-2.06 2.06-.94-2.06-.94L8.5 2.5l-.94 2.06-2.06.94zm10 10l.94 2.06.94-2.06 2.06-.94-2.06-.94-.94-2.06-.94 2.06-2.06.94z\"/><path d=\"M17.41 7.96l-1.37-1.37c-.4-.4-.92-.59-1.43-.59-.52 0-1.04.2-1.43.59L10.3 9.45l-7.72 7.72c-.78.78-.78 2.05 0 2.83L4 21.41c.39.39.9.59 1.41.59.51 0 1.02-.2 1.41-.59l7.78-7.78 2.81-2.81c.8-.78.8-2.07 0-2.86zM5.41 20L4 18.59l7.72-7.72 1.47 1.35L5.41 20z\"/>\n",
              "  </svg>\n",
              "      </button>\n",
              "      \n",
              "  <style>\n",
              "    .colab-df-container {\n",
              "      display:flex;\n",
              "      flex-wrap:wrap;\n",
              "      gap: 12px;\n",
              "    }\n",
              "\n",
              "    .colab-df-convert {\n",
              "      background-color: #E8F0FE;\n",
              "      border: none;\n",
              "      border-radius: 50%;\n",
              "      cursor: pointer;\n",
              "      display: none;\n",
              "      fill: #1967D2;\n",
              "      height: 32px;\n",
              "      padding: 0 0 0 0;\n",
              "      width: 32px;\n",
              "    }\n",
              "\n",
              "    .colab-df-convert:hover {\n",
              "      background-color: #E2EBFA;\n",
              "      box-shadow: 0px 1px 2px rgba(60, 64, 67, 0.3), 0px 1px 3px 1px rgba(60, 64, 67, 0.15);\n",
              "      fill: #174EA6;\n",
              "    }\n",
              "\n",
              "    [theme=dark] .colab-df-convert {\n",
              "      background-color: #3B4455;\n",
              "      fill: #D2E3FC;\n",
              "    }\n",
              "\n",
              "    [theme=dark] .colab-df-convert:hover {\n",
              "      background-color: #434B5C;\n",
              "      box-shadow: 0px 1px 3px 1px rgba(0, 0, 0, 0.15);\n",
              "      filter: drop-shadow(0px 1px 2px rgba(0, 0, 0, 0.3));\n",
              "      fill: #FFFFFF;\n",
              "    }\n",
              "  </style>\n",
              "\n",
              "      <script>\n",
              "        const buttonEl =\n",
              "          document.querySelector('#df-8502f7bd-ab25-45e5-8d81-e45ec0886cd0 button.colab-df-convert');\n",
              "        buttonEl.style.display =\n",
              "          google.colab.kernel.accessAllowed ? 'block' : 'none';\n",
              "\n",
              "        async function convertToInteractive(key) {\n",
              "          const element = document.querySelector('#df-8502f7bd-ab25-45e5-8d81-e45ec0886cd0');\n",
              "          const dataTable =\n",
              "            await google.colab.kernel.invokeFunction('convertToInteractive',\n",
              "                                                     [key], {});\n",
              "          if (!dataTable) return;\n",
              "\n",
              "          const docLinkHtml = 'Like what you see? Visit the ' +\n",
              "            '<a target=\"_blank\" href=https://colab.research.google.com/notebooks/data_table.ipynb>data table notebook</a>'\n",
              "            + ' to learn more about interactive tables.';\n",
              "          element.innerHTML = '';\n",
              "          dataTable['output_type'] = 'display_data';\n",
              "          await google.colab.output.renderOutput(dataTable, element);\n",
              "          const docLink = document.createElement('div');\n",
              "          docLink.innerHTML = docLinkHtml;\n",
              "          element.appendChild(docLink);\n",
              "        }\n",
              "      </script>\n",
              "    </div>\n",
              "  </div>\n",
              "  "
            ]
          },
          "metadata": {},
          "execution_count": 42
        }
      ]
    },
    {
      "cell_type": "code",
      "source": [
        "set_printoptions(precision=3)"
      ],
      "metadata": {
        "id": "jx1oeJcxGCz5"
      },
      "execution_count": null,
      "outputs": []
    },
    {
      "cell_type": "code",
      "source": [
        "df = round(fg,3)"
      ],
      "metadata": {
        "id": "jlaUM69pGFV-"
      },
      "execution_count": null,
      "outputs": []
    },
    {
      "cell_type": "code",
      "source": [
        "df"
      ],
      "metadata": {
        "colab": {
          "base_uri": "https://localhost:8080/",
          "height": 423
        },
        "id": "t4Mb0zvYGQus",
        "outputId": "d229a603-7a20-475c-c22c-b50e4a648d1d"
      },
      "execution_count": null,
      "outputs": [
        {
          "output_type": "execute_result",
          "data": {
            "text/plain": [
              "      claw_length_cm  size_cm  tail_length_cm  weight_kg  endangered_code  \\\n",
              "0             -0.394   -1.416           0.445     -1.327            4.858   \n",
              "1              0.550   -1.740           1.232     -1.900            4.858   \n",
              "2              0.815   -1.501           0.489     -3.150            4.858   \n",
              "3              0.686   -1.733           1.531     -2.256            4.858   \n",
              "4             -0.210   -1.524           0.857     -1.648            4.858   \n",
              "...              ...      ...             ...        ...              ...   \n",
              "4995          -2.305    0.408          -0.101     -0.794           -0.356   \n",
              "4996          -1.015    0.464          -0.804     -0.944           -0.356   \n",
              "4997          -1.633    0.285          -0.645     -0.047           -0.356   \n",
              "4998          -0.821    0.276          -0.963     -0.172           -0.356   \n",
              "4999          -2.585    0.614          -0.814      0.892           -0.356   \n",
              "\n",
              "      specie_code  \n",
              "0           0.937  \n",
              "1           0.937  \n",
              "2           0.937  \n",
              "3           0.937  \n",
              "4           0.937  \n",
              "...           ...  \n",
              "4995       -1.067  \n",
              "4996       -1.067  \n",
              "4997       -1.067  \n",
              "4998       -1.067  \n",
              "4999       -1.067  \n",
              "\n",
              "[5000 rows x 6 columns]"
            ],
            "text/html": [
              "\n",
              "  <div id=\"df-caa9ab28-65d1-4f6e-bb98-9d34294a3329\">\n",
              "    <div class=\"colab-df-container\">\n",
              "      <div>\n",
              "<style scoped>\n",
              "    .dataframe tbody tr th:only-of-type {\n",
              "        vertical-align: middle;\n",
              "    }\n",
              "\n",
              "    .dataframe tbody tr th {\n",
              "        vertical-align: top;\n",
              "    }\n",
              "\n",
              "    .dataframe thead th {\n",
              "        text-align: right;\n",
              "    }\n",
              "</style>\n",
              "<table border=\"1\" class=\"dataframe\">\n",
              "  <thead>\n",
              "    <tr style=\"text-align: right;\">\n",
              "      <th></th>\n",
              "      <th>claw_length_cm</th>\n",
              "      <th>size_cm</th>\n",
              "      <th>tail_length_cm</th>\n",
              "      <th>weight_kg</th>\n",
              "      <th>endangered_code</th>\n",
              "      <th>specie_code</th>\n",
              "    </tr>\n",
              "  </thead>\n",
              "  <tbody>\n",
              "    <tr>\n",
              "      <th>0</th>\n",
              "      <td>-0.394</td>\n",
              "      <td>-1.416</td>\n",
              "      <td>0.445</td>\n",
              "      <td>-1.327</td>\n",
              "      <td>4.858</td>\n",
              "      <td>0.937</td>\n",
              "    </tr>\n",
              "    <tr>\n",
              "      <th>1</th>\n",
              "      <td>0.550</td>\n",
              "      <td>-1.740</td>\n",
              "      <td>1.232</td>\n",
              "      <td>-1.900</td>\n",
              "      <td>4.858</td>\n",
              "      <td>0.937</td>\n",
              "    </tr>\n",
              "    <tr>\n",
              "      <th>2</th>\n",
              "      <td>0.815</td>\n",
              "      <td>-1.501</td>\n",
              "      <td>0.489</td>\n",
              "      <td>-3.150</td>\n",
              "      <td>4.858</td>\n",
              "      <td>0.937</td>\n",
              "    </tr>\n",
              "    <tr>\n",
              "      <th>3</th>\n",
              "      <td>0.686</td>\n",
              "      <td>-1.733</td>\n",
              "      <td>1.531</td>\n",
              "      <td>-2.256</td>\n",
              "      <td>4.858</td>\n",
              "      <td>0.937</td>\n",
              "    </tr>\n",
              "    <tr>\n",
              "      <th>4</th>\n",
              "      <td>-0.210</td>\n",
              "      <td>-1.524</td>\n",
              "      <td>0.857</td>\n",
              "      <td>-1.648</td>\n",
              "      <td>4.858</td>\n",
              "      <td>0.937</td>\n",
              "    </tr>\n",
              "    <tr>\n",
              "      <th>...</th>\n",
              "      <td>...</td>\n",
              "      <td>...</td>\n",
              "      <td>...</td>\n",
              "      <td>...</td>\n",
              "      <td>...</td>\n",
              "      <td>...</td>\n",
              "    </tr>\n",
              "    <tr>\n",
              "      <th>4995</th>\n",
              "      <td>-2.305</td>\n",
              "      <td>0.408</td>\n",
              "      <td>-0.101</td>\n",
              "      <td>-0.794</td>\n",
              "      <td>-0.356</td>\n",
              "      <td>-1.067</td>\n",
              "    </tr>\n",
              "    <tr>\n",
              "      <th>4996</th>\n",
              "      <td>-1.015</td>\n",
              "      <td>0.464</td>\n",
              "      <td>-0.804</td>\n",
              "      <td>-0.944</td>\n",
              "      <td>-0.356</td>\n",
              "      <td>-1.067</td>\n",
              "    </tr>\n",
              "    <tr>\n",
              "      <th>4997</th>\n",
              "      <td>-1.633</td>\n",
              "      <td>0.285</td>\n",
              "      <td>-0.645</td>\n",
              "      <td>-0.047</td>\n",
              "      <td>-0.356</td>\n",
              "      <td>-1.067</td>\n",
              "    </tr>\n",
              "    <tr>\n",
              "      <th>4998</th>\n",
              "      <td>-0.821</td>\n",
              "      <td>0.276</td>\n",
              "      <td>-0.963</td>\n",
              "      <td>-0.172</td>\n",
              "      <td>-0.356</td>\n",
              "      <td>-1.067</td>\n",
              "    </tr>\n",
              "    <tr>\n",
              "      <th>4999</th>\n",
              "      <td>-2.585</td>\n",
              "      <td>0.614</td>\n",
              "      <td>-0.814</td>\n",
              "      <td>0.892</td>\n",
              "      <td>-0.356</td>\n",
              "      <td>-1.067</td>\n",
              "    </tr>\n",
              "  </tbody>\n",
              "</table>\n",
              "<p>5000 rows × 6 columns</p>\n",
              "</div>\n",
              "      <button class=\"colab-df-convert\" onclick=\"convertToInteractive('df-caa9ab28-65d1-4f6e-bb98-9d34294a3329')\"\n",
              "              title=\"Convert this dataframe to an interactive table.\"\n",
              "              style=\"display:none;\">\n",
              "        \n",
              "  <svg xmlns=\"http://www.w3.org/2000/svg\" height=\"24px\"viewBox=\"0 0 24 24\"\n",
              "       width=\"24px\">\n",
              "    <path d=\"M0 0h24v24H0V0z\" fill=\"none\"/>\n",
              "    <path d=\"M18.56 5.44l.94 2.06.94-2.06 2.06-.94-2.06-.94-.94-2.06-.94 2.06-2.06.94zm-11 1L8.5 8.5l.94-2.06 2.06-.94-2.06-.94L8.5 2.5l-.94 2.06-2.06.94zm10 10l.94 2.06.94-2.06 2.06-.94-2.06-.94-.94-2.06-.94 2.06-2.06.94z\"/><path d=\"M17.41 7.96l-1.37-1.37c-.4-.4-.92-.59-1.43-.59-.52 0-1.04.2-1.43.59L10.3 9.45l-7.72 7.72c-.78.78-.78 2.05 0 2.83L4 21.41c.39.39.9.59 1.41.59.51 0 1.02-.2 1.41-.59l7.78-7.78 2.81-2.81c.8-.78.8-2.07 0-2.86zM5.41 20L4 18.59l7.72-7.72 1.47 1.35L5.41 20z\"/>\n",
              "  </svg>\n",
              "      </button>\n",
              "      \n",
              "  <style>\n",
              "    .colab-df-container {\n",
              "      display:flex;\n",
              "      flex-wrap:wrap;\n",
              "      gap: 12px;\n",
              "    }\n",
              "\n",
              "    .colab-df-convert {\n",
              "      background-color: #E8F0FE;\n",
              "      border: none;\n",
              "      border-radius: 50%;\n",
              "      cursor: pointer;\n",
              "      display: none;\n",
              "      fill: #1967D2;\n",
              "      height: 32px;\n",
              "      padding: 0 0 0 0;\n",
              "      width: 32px;\n",
              "    }\n",
              "\n",
              "    .colab-df-convert:hover {\n",
              "      background-color: #E2EBFA;\n",
              "      box-shadow: 0px 1px 2px rgba(60, 64, 67, 0.3), 0px 1px 3px 1px rgba(60, 64, 67, 0.15);\n",
              "      fill: #174EA6;\n",
              "    }\n",
              "\n",
              "    [theme=dark] .colab-df-convert {\n",
              "      background-color: #3B4455;\n",
              "      fill: #D2E3FC;\n",
              "    }\n",
              "\n",
              "    [theme=dark] .colab-df-convert:hover {\n",
              "      background-color: #434B5C;\n",
              "      box-shadow: 0px 1px 3px 1px rgba(0, 0, 0, 0.15);\n",
              "      filter: drop-shadow(0px 1px 2px rgba(0, 0, 0, 0.3));\n",
              "      fill: #FFFFFF;\n",
              "    }\n",
              "  </style>\n",
              "\n",
              "      <script>\n",
              "        const buttonEl =\n",
              "          document.querySelector('#df-caa9ab28-65d1-4f6e-bb98-9d34294a3329 button.colab-df-convert');\n",
              "        buttonEl.style.display =\n",
              "          google.colab.kernel.accessAllowed ? 'block' : 'none';\n",
              "\n",
              "        async function convertToInteractive(key) {\n",
              "          const element = document.querySelector('#df-caa9ab28-65d1-4f6e-bb98-9d34294a3329');\n",
              "          const dataTable =\n",
              "            await google.colab.kernel.invokeFunction('convertToInteractive',\n",
              "                                                     [key], {});\n",
              "          if (!dataTable) return;\n",
              "\n",
              "          const docLinkHtml = 'Like what you see? Visit the ' +\n",
              "            '<a target=\"_blank\" href=https://colab.research.google.com/notebooks/data_table.ipynb>data table notebook</a>'\n",
              "            + ' to learn more about interactive tables.';\n",
              "          element.innerHTML = '';\n",
              "          dataTable['output_type'] = 'display_data';\n",
              "          await google.colab.output.renderOutput(dataTable, element);\n",
              "          const docLink = document.createElement('div');\n",
              "          docLink.innerHTML = docLinkHtml;\n",
              "          element.appendChild(docLink);\n",
              "        }\n",
              "      </script>\n",
              "    </div>\n",
              "  </div>\n",
              "  "
            ]
          },
          "metadata": {},
          "execution_count": 48
        }
      ]
    },
    {
      "cell_type": "code",
      "source": [
        "df.shape"
      ],
      "metadata": {
        "colab": {
          "base_uri": "https://localhost:8080/"
        },
        "id": "FT_pfxSxKWPd",
        "outputId": "ebcf9ebb-8c4a-4795-bc09-50ed0d6165a6"
      },
      "execution_count": null,
      "outputs": [
        {
          "output_type": "execute_result",
          "data": {
            "text/plain": [
              "(5000, 6)"
            ]
          },
          "metadata": {},
          "execution_count": 68
        }
      ]
    },
    {
      "cell_type": "code",
      "source": [
        "Y.shape"
      ],
      "metadata": {
        "colab": {
          "base_uri": "https://localhost:8080/"
        },
        "id": "UpJoou0IKAhw",
        "outputId": "60143465-e3a4-4f74-e84a-c90a5654cf7b"
      },
      "execution_count": null,
      "outputs": [
        {
          "output_type": "execute_result",
          "data": {
            "text/plain": [
              "(5000,)"
            ]
          },
          "metadata": {},
          "execution_count": 69
        }
      ]
    },
    {
      "cell_type": "code",
      "source": [
        "df['df_result'] = pd.Series(Y)"
      ],
      "metadata": {
        "id": "w9fEa4qgJxg8"
      },
      "execution_count": null,
      "outputs": []
    },
    {
      "cell_type": "code",
      "source": [
        "X = df.iloc[:,:-1].values\n",
        "X"
      ],
      "metadata": {
        "colab": {
          "base_uri": "https://localhost:8080/"
        },
        "id": "U3bIMGCzGhkA",
        "outputId": "54a36821-a71c-4fbe-8ad9-402793f18afd"
      },
      "execution_count": null,
      "outputs": [
        {
          "output_type": "execute_result",
          "data": {
            "text/plain": [
              "array([[-0.394, -1.416,  0.445, -1.327,  4.858,  0.937],\n",
              "       [ 0.55 , -1.74 ,  1.232, -1.9  ,  4.858,  0.937],\n",
              "       [ 0.815, -1.501,  0.489, -3.15 ,  4.858,  0.937],\n",
              "       ...,\n",
              "       [-1.633,  0.285, -0.645, -0.047, -0.356, -1.067],\n",
              "       [-0.821,  0.276, -0.963, -0.172, -0.356, -1.067],\n",
              "       [-2.585,  0.614, -0.814,  0.892, -0.356, -1.067]])"
            ]
          },
          "metadata": {},
          "execution_count": 83
        }
      ]
    },
    {
      "cell_type": "code",
      "source": [
        "Y"
      ],
      "metadata": {
        "colab": {
          "base_uri": "https://localhost:8080/"
        },
        "id": "lZWCNuNoGk5O",
        "outputId": "cb7e34c9-8004-49fc-a95e-6309005692d7"
      },
      "execution_count": null,
      "outputs": [
        {
          "output_type": "execute_result",
          "data": {
            "text/plain": [
              "array([6, 6, 6, ..., 1, 1, 1])"
            ]
          },
          "metadata": {},
          "execution_count": 84
        }
      ]
    },
    {
      "cell_type": "markdown",
      "source": [
        "# **ОБУЧАЛКИ**"
      ],
      "metadata": {
        "id": "hROCSaqFG2Zw"
      }
    },
    {
      "cell_type": "code",
      "source": [
        "from sklearn.model_selection import KFold\n",
        "from sklearn.model_selection import cross_val_score\n",
        "from sklearn.neighbors import KNeighborsClassifier\n",
        "from sklearn.naive_bayes import GaussianNB\n",
        "from sklearn.tree import DecisionTreeClassifier\n",
        "from matplotlib import pyplot\n",
        "from sklearn.linear_model import LogisticRegression\n",
        "from sklearn.discriminant_analysis import LinearDiscriminantAnalysis\n",
        "from sklearn.svm import SVC\n",
        "from sklearn.preprocessing import StandardScaler\n",
        "from sklearn.pipeline import Pipeline\n",
        "from sklearn.pipeline import FeatureUnion\n",
        "from sklearn.decomposition import PCA\n",
        "from sklearn.feature_selection import SelectKBest"
      ],
      "metadata": {
        "id": "r5XlDAkEG1Vg"
      },
      "execution_count": null,
      "outputs": []
    },
    {
      "cell_type": "markdown",
      "source": [
        "# **k-ближайших соседей:**"
      ],
      "metadata": {
        "id": "PqUE5CHGIH9C"
      }
    },
    {
      "cell_type": "code",
      "source": [
        "kfold=KFold(n_splits=10,random_state=7,shuffle=True)"
      ],
      "metadata": {
        "id": "IoSiCEgWqFLH"
      },
      "execution_count": null,
      "outputs": []
    },
    {
      "cell_type": "code",
      "source": [
        "model=KNeighborsClassifier() # по умолчанию k = 5"
      ],
      "metadata": {
        "id": "UZKRYQTsJm6y"
      },
      "execution_count": null,
      "outputs": []
    },
    {
      "cell_type": "code",
      "source": [
        "results=cross_val_score(model, X, Y, cv=kfold)"
      ],
      "metadata": {
        "id": "P-KsATdfKKT0"
      },
      "execution_count": null,
      "outputs": []
    },
    {
      "cell_type": "code",
      "source": [
        "model.fit(X,Y)"
      ],
      "metadata": {
        "colab": {
          "base_uri": "https://localhost:8080/"
        },
        "id": "qD_-X6DjLF02",
        "outputId": "8ee0a576-608a-43fa-ac3b-2b8ad9eae985"
      },
      "execution_count": null,
      "outputs": [
        {
          "output_type": "execute_result",
          "data": {
            "text/plain": [
              "KNeighborsClassifier()"
            ]
          },
          "metadata": {},
          "execution_count": 57
        }
      ]
    },
    {
      "cell_type": "code",
      "source": [
        "results.mean(),results.std()"
      ],
      "metadata": {
        "colab": {
          "base_uri": "https://localhost:8080/"
        },
        "id": "x-IuEjl6KVH_",
        "outputId": "e3624983-f22a-43ec-ac17-64f187262eb3"
      },
      "execution_count": null,
      "outputs": [
        {
          "output_type": "execute_result",
          "data": {
            "text/plain": [
              "(0.9926, 0.0043863424398922655)"
            ]
          },
          "metadata": {},
          "execution_count": 58
        }
      ]
    },
    {
      "cell_type": "markdown",
      "source": [
        "**проверка:**"
      ],
      "metadata": {
        "id": "iQCRqjscIKtU"
      }
    },
    {
      "cell_type": "code",
      "source": [
        "df"
      ],
      "metadata": {
        "id": "t8k_D4DuKm2h"
      },
      "execution_count": null,
      "outputs": []
    },
    {
      "cell_type": "code",
      "source": [
        "3.919,\t62.819,\t3.176,\t4.247,\t1,\t2 # для 1-го\n",
        "7.104,\t51.364,\t5.411,\t3.163,\t3,\t3 # для 6-го"
      ],
      "metadata": {
        "id": "0NR9l5WBIrvw"
      },
      "execution_count": null,
      "outputs": []
    },
    {
      "cell_type": "code",
      "source": [
        "x_new=np.array([[0.686,\t-1.4,\t1.531,\t-2.0,\t4.858,\t0.937],[-1.015,\t0.464,\t-0.6,\t-0.6,\t-0.4,\t-1.08]])"
      ],
      "metadata": {
        "id": "-Zz1wMWNKhsZ"
      },
      "execution_count": null,
      "outputs": []
    },
    {
      "cell_type": "code",
      "source": [
        "model.predict(x_new)"
      ],
      "metadata": {
        "colab": {
          "base_uri": "https://localhost:8080/"
        },
        "id": "ZxMncsXoLBJ0",
        "outputId": "0766c3b1-e0bc-476b-c212-acca944a6a55"
      },
      "execution_count": null,
      "outputs": [
        {
          "output_type": "execute_result",
          "data": {
            "text/plain": [
              "array([6, 1])"
            ]
          },
          "metadata": {},
          "execution_count": 81
        }
      ]
    },
    {
      "cell_type": "code",
      "source": [
        "model.predict_proba(x_new)"
      ],
      "metadata": {
        "colab": {
          "base_uri": "https://localhost:8080/"
        },
        "id": "DLIk7opGLUG3",
        "outputId": "fdb2676b-6300-4569-f48f-15d19e5a5297"
      },
      "execution_count": null,
      "outputs": [
        {
          "output_type": "execute_result",
          "data": {
            "text/plain": [
              "array([[0., 0., 0., 0., 0., 1.],\n",
              "       [1., 0., 0., 0., 0., 0.]])"
            ]
          },
          "metadata": {},
          "execution_count": 82
        }
      ]
    },
    {
      "cell_type": "markdown",
      "source": [
        "# **Наивный байесовский классификатор:**"
      ],
      "metadata": {
        "id": "YBsvjR7pMZpV"
      }
    },
    {
      "cell_type": "code",
      "source": [
        "model=GaussianNB()"
      ],
      "metadata": {
        "id": "CS8wFySjqdia"
      },
      "execution_count": null,
      "outputs": []
    },
    {
      "cell_type": "code",
      "source": [
        "results=cross_val_score(model, X, Y, cv=kfold)"
      ],
      "metadata": {
        "id": "-yZMrqlHqjgG"
      },
      "execution_count": null,
      "outputs": []
    },
    {
      "cell_type": "code",
      "source": [
        "results.mean()"
      ],
      "metadata": {
        "colab": {
          "base_uri": "https://localhost:8080/"
        },
        "id": "Mpy9kr7lqts4",
        "outputId": "ad026dfe-3a81-4b43-807f-6f43fbf16bf0"
      },
      "execution_count": null,
      "outputs": [
        {
          "output_type": "execute_result",
          "data": {
            "text/plain": [
              "0.9942"
            ]
          },
          "metadata": {},
          "execution_count": 87
        }
      ]
    },
    {
      "cell_type": "code",
      "source": [
        "results.std()"
      ],
      "metadata": {
        "colab": {
          "base_uri": "https://localhost:8080/"
        },
        "id": "vuQvFrgS0Lps",
        "outputId": "6b7e25c1-601f-48fd-cc7e-bbbc5547823c"
      },
      "execution_count": null,
      "outputs": [
        {
          "output_type": "execute_result",
          "data": {
            "text/plain": [
              "0.003944616584663207"
            ]
          },
          "metadata": {},
          "execution_count": 88
        }
      ]
    },
    {
      "cell_type": "code",
      "source": [
        "model.fit(X,Y)"
      ],
      "metadata": {
        "colab": {
          "base_uri": "https://localhost:8080/"
        },
        "id": "Am9O2hzPO6mq",
        "outputId": "96cde289-38ba-4aea-915c-0bd386a85414"
      },
      "execution_count": null,
      "outputs": [
        {
          "output_type": "execute_result",
          "data": {
            "text/plain": [
              "GaussianNB()"
            ]
          },
          "metadata": {},
          "execution_count": 89
        }
      ]
    },
    {
      "cell_type": "code",
      "source": [
        "model.predict(x_new)"
      ],
      "metadata": {
        "colab": {
          "base_uri": "https://localhost:8080/"
        },
        "id": "0mrunsshO8WD",
        "outputId": "22c86ffb-1731-4c41-f7b5-7576948e7c22"
      },
      "execution_count": null,
      "outputs": [
        {
          "output_type": "execute_result",
          "data": {
            "text/plain": [
              "array([6, 1])"
            ]
          },
          "metadata": {},
          "execution_count": 90
        }
      ]
    },
    {
      "cell_type": "code",
      "source": [
        "model.predict_proba(x_new)"
      ],
      "metadata": {
        "colab": {
          "base_uri": "https://localhost:8080/"
        },
        "id": "RZAh1e6ZPBFs",
        "outputId": "f83b7be7-3305-4e0f-f946-78ebc146bff5"
      },
      "execution_count": null,
      "outputs": [
        {
          "output_type": "execute_result",
          "data": {
            "text/plain": [
              "array([[0.000e+00, 0.000e+00, 0.000e+00, 0.000e+00, 0.000e+00, 1.000e+00],\n",
              "       [1.000e+00, 1.401e-05, 0.000e+00, 0.000e+00, 0.000e+00, 0.000e+00]])"
            ]
          },
          "metadata": {},
          "execution_count": 91
        }
      ]
    },
    {
      "cell_type": "markdown",
      "source": [
        "# **Дерево решений:**"
      ],
      "metadata": {
        "id": "z-lzrYaHNQBN"
      }
    },
    {
      "cell_type": "code",
      "source": [
        "model=DecisionTreeClassifier()"
      ],
      "metadata": {
        "id": "Ep1a0xgmPf0H"
      },
      "execution_count": null,
      "outputs": []
    },
    {
      "cell_type": "code",
      "source": [
        "results=cross_val_score(model, X, Y, cv=kfold)"
      ],
      "metadata": {
        "id": "kVbGG-3LPwJG"
      },
      "execution_count": null,
      "outputs": []
    },
    {
      "cell_type": "code",
      "source": [
        "results.mean()"
      ],
      "metadata": {
        "colab": {
          "base_uri": "https://localhost:8080/"
        },
        "outputId": "4aa81494-1c6b-4a00-91ba-44bc23cfb834",
        "id": "Y7v4rOz9PwJN"
      },
      "execution_count": null,
      "outputs": [
        {
          "output_type": "execute_result",
          "data": {
            "text/plain": [
              "0.9911999999999999"
            ]
          },
          "metadata": {},
          "execution_count": 94
        }
      ]
    },
    {
      "cell_type": "code",
      "source": [
        "results.std()"
      ],
      "metadata": {
        "colab": {
          "base_uri": "https://localhost:8080/"
        },
        "outputId": "4dafca9c-8a20-48fe-a226-934383bdb3b6",
        "id": "L_2CfEqvPwJN"
      },
      "execution_count": null,
      "outputs": [
        {
          "output_type": "execute_result",
          "data": {
            "text/plain": [
              "0.004664761515876244"
            ]
          },
          "metadata": {},
          "execution_count": 95
        }
      ]
    },
    {
      "cell_type": "code",
      "source": [
        "model.fit(X,Y)"
      ],
      "metadata": {
        "colab": {
          "base_uri": "https://localhost:8080/"
        },
        "outputId": "5d960af9-d13e-4f53-e135-f77e2f6a42bb",
        "id": "6LIfvB81PwJN"
      },
      "execution_count": null,
      "outputs": [
        {
          "output_type": "execute_result",
          "data": {
            "text/plain": [
              "DecisionTreeClassifier()"
            ]
          },
          "metadata": {},
          "execution_count": 96
        }
      ]
    },
    {
      "cell_type": "code",
      "source": [
        "model.predict(x_new)"
      ],
      "metadata": {
        "colab": {
          "base_uri": "https://localhost:8080/"
        },
        "outputId": "676e5b47-151f-4f9d-cbcd-c102eed85002",
        "id": "Ras0iZ8lPwJN"
      },
      "execution_count": null,
      "outputs": [
        {
          "output_type": "execute_result",
          "data": {
            "text/plain": [
              "array([6, 1])"
            ]
          },
          "metadata": {},
          "execution_count": 97
        }
      ]
    },
    {
      "cell_type": "code",
      "source": [
        "model.predict_proba(x_new)"
      ],
      "metadata": {
        "colab": {
          "base_uri": "https://localhost:8080/"
        },
        "outputId": "4f41a709-db2a-45ef-899d-aee510ff1d89",
        "id": "D6fns-rOPwJO"
      },
      "execution_count": null,
      "outputs": [
        {
          "output_type": "execute_result",
          "data": {
            "text/plain": [
              "array([[0., 0., 0., 0., 0., 1.],\n",
              "       [1., 0., 0., 0., 0., 0.]])"
            ]
          },
          "metadata": {},
          "execution_count": 98
        }
      ]
    },
    {
      "cell_type": "code",
      "source": [],
      "metadata": {
        "id": "KKF57mjaYuKW"
      },
      "execution_count": null,
      "outputs": []
    },
    {
      "cell_type": "code",
      "source": [
        "models=[]"
      ],
      "metadata": {
        "id": "AXebJOtnlzN_"
      },
      "execution_count": null,
      "outputs": []
    },
    {
      "cell_type": "code",
      "source": [
        "models.append(('LR',LogisticRegression(solver='liblinear'))) # логистическоая регрессия"
      ],
      "metadata": {
        "id": "X_IN9fIIFuD0"
      },
      "execution_count": null,
      "outputs": []
    },
    {
      "cell_type": "code",
      "source": [
        "models.append(('SVM',SVC(kernel='linear'))) # метод опорных векторов"
      ],
      "metadata": {
        "id": "dm-NkljFGE50"
      },
      "execution_count": null,
      "outputs": []
    },
    {
      "cell_type": "code",
      "source": [
        "models.append(('LDA',LinearDiscriminantAnalysis())) # линейно-дискриминантный анализ"
      ],
      "metadata": {
        "id": "OjPen--FGO4c"
      },
      "execution_count": null,
      "outputs": []
    },
    {
      "cell_type": "code",
      "source": [
        "models.append(('KNN',KNeighborsClassifier())) # метод k-ближайщих соседей"
      ],
      "metadata": {
        "id": "YX4yqRo2GZZH"
      },
      "execution_count": null,
      "outputs": []
    },
    {
      "cell_type": "code",
      "source": [
        "models.append(('NB',GaussianNB())) # наивный байесовский классификатор"
      ],
      "metadata": {
        "id": "pp_KRVhPGgp1"
      },
      "execution_count": null,
      "outputs": []
    },
    {
      "cell_type": "code",
      "source": [
        "models.append(('CART',DecisionTreeClassifier())) # модель решающего дерева"
      ],
      "metadata": {
        "id": "jg1v106oGp9d"
      },
      "execution_count": null,
      "outputs": []
    },
    {
      "cell_type": "code",
      "source": [
        "models"
      ],
      "metadata": {
        "colab": {
          "base_uri": "https://localhost:8080/"
        },
        "id": "vPOtct4oGwdl",
        "outputId": "a603dacb-81d5-4c49-fc3d-b3aa57842ab0"
      },
      "execution_count": null,
      "outputs": [
        {
          "output_type": "execute_result",
          "data": {
            "text/plain": [
              "[('LR', LogisticRegression(solver='liblinear')),\n",
              " ('SVM', SVC(kernel='linear')),\n",
              " ('LDA', LinearDiscriminantAnalysis()),\n",
              " ('KNN', KNeighborsClassifier()),\n",
              " ('NB', GaussianNB()),\n",
              " ('CART', DecisionTreeClassifier())]"
            ]
          },
          "metadata": {},
          "execution_count": 106
        }
      ]
    },
    {
      "cell_type": "code",
      "source": [
        "results=[]\n",
        "names=[]"
      ],
      "metadata": {
        "id": "cwNWgnuJGxmQ"
      },
      "execution_count": null,
      "outputs": []
    },
    {
      "cell_type": "code",
      "source": [
        "scoring='accuracy'"
      ],
      "metadata": {
        "id": "nMSaownnHExX"
      },
      "execution_count": null,
      "outputs": []
    },
    {
      "cell_type": "code",
      "source": [
        "for name, model in models:\n",
        "  kfold=KFold(n_splits=10, random_state=7, shuffle=True)\n",
        "  cv_results=cross_val_score(model, X, Y, cv=kfold, scoring=scoring)\n",
        "  results.append(cv_results)\n",
        "  names.append(name)\n",
        "  print(name,cv_results.mean(),cv_results.std())"
      ],
      "metadata": {
        "colab": {
          "base_uri": "https://localhost:8080/"
        },
        "id": "kvNXM_a5HV6N",
        "outputId": "442069ce-86d2-4cdf-dd4a-484cdb9aa708"
      },
      "execution_count": null,
      "outputs": [
        {
          "output_type": "stream",
          "name": "stdout",
          "text": [
            "LR 0.9917999999999999 0.0041424630354416\n",
            "SVM 0.9934 0.0049839743177508495\n",
            "LDA 0.5688000000000001 0.018399999999999975\n",
            "KNN 0.9926 0.0043863424398922655\n",
            "NB 0.9942 0.003944616584663207\n",
            "CART 0.9924 0.0038781438859330666\n"
          ]
        }
      ]
    },
    {
      "cell_type": "code",
      "source": [
        "fig=pyplot.figure()\n",
        "fig.suptitle('Сравнение моделей')\n",
        "ax=fig.add_subplot(111)\n",
        "pyplot.boxplot(results)\n",
        "ax.set_xticklabels(names)\n",
        "pyplot.show()"
      ],
      "metadata": {
        "colab": {
          "base_uri": "https://localhost:8080/",
          "height": 294
        },
        "id": "jacLaPY1IvbL",
        "outputId": "6ced4053-4634-49bd-9999-054d7d1a31b0"
      },
      "execution_count": null,
      "outputs": [
        {
          "output_type": "display_data",
          "data": {
            "text/plain": [
              "<Figure size 432x288 with 1 Axes>"
            ],
            "image/png": "[encoded data removed]"
          },
          "metadata": {
            "needs_background": "light"
          }
        }
      ]
    },
    {
      "cell_type": "markdown",
      "source": [
        "Вывод: лучшими являются первые 3 модели."
      ],
      "metadata": {
        "id": "dbuWXdGxJ5Rv"
      }
    },
    {
      "cell_type": "code",
      "source": [],
      "metadata": {
        "id": "XlsFwozyKA2R"
      },
      "execution_count": null,
      "outputs": []
    }
  ]
}