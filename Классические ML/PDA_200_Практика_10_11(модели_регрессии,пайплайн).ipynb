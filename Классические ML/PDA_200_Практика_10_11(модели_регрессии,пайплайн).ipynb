{
  "nbformat": 4,
  "nbformat_minor": 0,
  "metadata": {
    "colab": {
      "provenance": []
    },
    "kernelspec": {
      "name": "python3",
      "display_name": "Python 3"
    },
    "language_info": {
      "name": "python"
    }
  },
  "cells": [
    {
      "cell_type": "markdown",
      "source": [
        "# **ЗАДАНИЕ 10. ЛИНЕЙНЫЕ МОДЕЛИ ДЛЯ РЕГРЕССИИ**"
      ],
      "metadata": {
        "id": "sH9_dLjZNmBu"
      }
    },
    {
      "cell_type": "markdown",
      "source": [
        "Постройте линейные модели для регрессии (линейная регрессия, гребневая регрессия, лассо регрессия, эластичная сеть), оцените их качество.\n",
        "Постарайтесь максимально автоматизировать все вычисления, использовать существующие модули среды программирования Python."
      ],
      "metadata": {
        "id": "vbkmQtHj3Y38"
      }
    },
    {
      "cell_type": "markdown",
      "source": [
        "**Методика выполнения задания:**"
      ],
      "metadata": {
        "id": "1LqKTGzq3glI"
      }
    },
    {
      "cell_type": "markdown",
      "source": [
        "# **Раздел 1. Линейная регрессия**\n",
        "\n",
        "**1. Укажите путь к рабочей папке, где хранятся данные, с помощью функции chdir() из модуля os.**\n",
        "\n",
        "**2. Загрузите данные файла housing.csv с помощью функции read_csv(filename, delim_whitespace=True, names=names) из модуля pandas. Названия столбцов укажите следующими: names = ['CRIM', 'ZN', 'INDUS', 'CHAS', 'NOX', 'RM', 'AGE', 'DIS', 'RAD', 'TAX', 'PTRATIO','B', 'LSTAT', 'MEDV']. Посмотрите на первые 5 наблюдений с помощью функции head().**"
      ],
      "metadata": {
        "id": "kceB6cVk3jy5"
      }
    },
    {
      "cell_type": "code",
      "execution_count": null,
      "metadata": {
        "colab": {
          "base_uri": "https://localhost:8080/"
        },
        "id": "kVfTBgdONjI3",
        "outputId": "f6c10f91-5f9d-4f51-cd00-f29edbdc15ab"
      },
      "outputs": [
        {
          "output_type": "stream",
          "name": "stdout",
          "text": [
            "Mounted at /content/gdrive\n"
          ]
        }
      ],
      "source": [
        "from google.colab import drive\n",
        "drive.mount('/content/gdrive')"
      ]
    },
    {
      "cell_type": "code",
      "source": [
        "import os\n",
        "from pandas import read_csv\n",
        "from sklearn.model_selection import KFold\n",
        "from sklearn.model_selection import cross_val_score\n",
        "from sklearn.linear_model import LinearRegression\n",
        "from sklearn.linear_model import Ridge\n",
        "from sklearn.linear_model import Lasso\n",
        "from sklearn.linear_model import ElasticNet"
      ],
      "metadata": {
        "id": "UkG4NuHKNupe"
      },
      "execution_count": null,
      "outputs": []
    },
    {
      "cell_type": "code",
      "source": [
        "os.chdir('/content/gdrive/MyDrive/Colab Notebooks/PDA-200')"
      ],
      "metadata": {
        "id": "5T8t3BqxOj-3"
      },
      "execution_count": null,
      "outputs": []
    },
    {
      "cell_type": "code",
      "source": [
        "dataframe=read_csv('housing.csv', delim_whitespace=True, names=['CRIM', 'ZN', 'INDUS', 'CHAS', 'NOX', 'RM', 'AGE', 'DIS', 'RAD', 'TAX', 'PTRATIO','B', 'LSTAT', 'MEDV'])\n",
        "dataframe.head()"
      ],
      "metadata": {
        "colab": {
          "base_uri": "https://localhost:8080/",
          "height": 206
        },
        "id": "F-5Y7twtO0zW",
        "outputId": "510a830e-bc96-4e76-9774-8532467f67bb"
      },
      "execution_count": null,
      "outputs": [
        {
          "output_type": "execute_result",
          "data": {
            "text/plain": [
              "      CRIM    ZN  INDUS  CHAS    NOX     RM   AGE     DIS  RAD    TAX  \\\n",
              "0  0.00632  18.0   2.31     0  0.538  6.575  65.2  4.0900    1  296.0   \n",
              "1  0.02731   0.0   7.07     0  0.469  6.421  78.9  4.9671    2  242.0   \n",
              "2  0.02729   0.0   7.07     0  0.469  7.185  61.1  4.9671    2  242.0   \n",
              "3  0.03237   0.0   2.18     0  0.458  6.998  45.8  6.0622    3  222.0   \n",
              "4  0.06905   0.0   2.18     0  0.458  7.147  54.2  6.0622    3  222.0   \n",
              "\n",
              "   PTRATIO       B  LSTAT  MEDV  \n",
              "0     15.3  396.90   4.98  24.0  \n",
              "1     17.8  396.90   9.14  21.6  \n",
              "2     17.8  392.83   4.03  34.7  \n",
              "3     18.7  394.63   2.94  33.4  \n",
              "4     18.7  396.90   5.33  36.2  "
            ],
            "text/html": [
              "\n",
              "  <div id=\"df-2a3acc34-f399-4644-bcdd-8d6209043654\">\n",
              "    <div class=\"colab-df-container\">\n",
              "      <div>\n",
              "<style scoped>\n",
              "    .dataframe tbody tr th:only-of-type {\n",
              "        vertical-align: middle;\n",
              "    }\n",
              "\n",
              "    .dataframe tbody tr th {\n",
              "        vertical-align: top;\n",
              "    }\n",
              "\n",
              "    .dataframe thead th {\n",
              "        text-align: right;\n",
              "    }\n",
              "</style>\n",
              "<table border=\"1\" class=\"dataframe\">\n",
              "  <thead>\n",
              "    <tr style=\"text-align: right;\">\n",
              "      <th></th>\n",
              "      <th>CRIM</th>\n",
              "      <th>ZN</th>\n",
              "      <th>INDUS</th>\n",
              "      <th>CHAS</th>\n",
              "      <th>NOX</th>\n",
              "      <th>RM</th>\n",
              "      <th>AGE</th>\n",
              "      <th>DIS</th>\n",
              "      <th>RAD</th>\n",
              "      <th>TAX</th>\n",
              "      <th>PTRATIO</th>\n",
              "      <th>B</th>\n",
              "      <th>LSTAT</th>\n",
              "      <th>MEDV</th>\n",
              "    </tr>\n",
              "  </thead>\n",
              "  <tbody>\n",
              "    <tr>\n",
              "      <th>0</th>\n",
              "      <td>0.00632</td>\n",
              "      <td>18.0</td>\n",
              "      <td>2.31</td>\n",
              "      <td>0</td>\n",
              "      <td>0.538</td>\n",
              "      <td>6.575</td>\n",
              "      <td>65.2</td>\n",
              "      <td>4.0900</td>\n",
              "      <td>1</td>\n",
              "      <td>296.0</td>\n",
              "      <td>15.3</td>\n",
              "      <td>396.90</td>\n",
              "      <td>4.98</td>\n",
              "      <td>24.0</td>\n",
              "    </tr>\n",
              "    <tr>\n",
              "      <th>1</th>\n",
              "      <td>0.02731</td>\n",
              "      <td>0.0</td>\n",
              "      <td>7.07</td>\n",
              "      <td>0</td>\n",
              "      <td>0.469</td>\n",
              "      <td>6.421</td>\n",
              "      <td>78.9</td>\n",
              "      <td>4.9671</td>\n",
              "      <td>2</td>\n",
              "      <td>242.0</td>\n",
              "      <td>17.8</td>\n",
              "      <td>396.90</td>\n",
              "      <td>9.14</td>\n",
              "      <td>21.6</td>\n",
              "    </tr>\n",
              "    <tr>\n",
              "      <th>2</th>\n",
              "      <td>0.02729</td>\n",
              "      <td>0.0</td>\n",
              "      <td>7.07</td>\n",
              "      <td>0</td>\n",
              "      <td>0.469</td>\n",
              "      <td>7.185</td>\n",
              "      <td>61.1</td>\n",
              "      <td>4.9671</td>\n",
              "      <td>2</td>\n",
              "      <td>242.0</td>\n",
              "      <td>17.8</td>\n",
              "      <td>392.83</td>\n",
              "      <td>4.03</td>\n",
              "      <td>34.7</td>\n",
              "    </tr>\n",
              "    <tr>\n",
              "      <th>3</th>\n",
              "      <td>0.03237</td>\n",
              "      <td>0.0</td>\n",
              "      <td>2.18</td>\n",
              "      <td>0</td>\n",
              "      <td>0.458</td>\n",
              "      <td>6.998</td>\n",
              "      <td>45.8</td>\n",
              "      <td>6.0622</td>\n",
              "      <td>3</td>\n",
              "      <td>222.0</td>\n",
              "      <td>18.7</td>\n",
              "      <td>394.63</td>\n",
              "      <td>2.94</td>\n",
              "      <td>33.4</td>\n",
              "    </tr>\n",
              "    <tr>\n",
              "      <th>4</th>\n",
              "      <td>0.06905</td>\n",
              "      <td>0.0</td>\n",
              "      <td>2.18</td>\n",
              "      <td>0</td>\n",
              "      <td>0.458</td>\n",
              "      <td>7.147</td>\n",
              "      <td>54.2</td>\n",
              "      <td>6.0622</td>\n",
              "      <td>3</td>\n",
              "      <td>222.0</td>\n",
              "      <td>18.7</td>\n",
              "      <td>396.90</td>\n",
              "      <td>5.33</td>\n",
              "      <td>36.2</td>\n",
              "    </tr>\n",
              "  </tbody>\n",
              "</table>\n",
              "</div>\n",
              "      <button class=\"colab-df-convert\" onclick=\"convertToInteractive('df-2a3acc34-f399-4644-bcdd-8d6209043654')\"\n",
              "              title=\"Convert this dataframe to an interactive table.\"\n",
              "              style=\"display:none;\">\n",
              "        \n",
              "  <svg xmlns=\"http://www.w3.org/2000/svg\" height=\"24px\"viewBox=\"0 0 24 24\"\n",
              "       width=\"24px\">\n",
              "    <path d=\"M0 0h24v24H0V0z\" fill=\"none\"/>\n",
              "    <path d=\"M18.56 5.44l.94 2.06.94-2.06 2.06-.94-2.06-.94-.94-2.06-.94 2.06-2.06.94zm-11 1L8.5 8.5l.94-2.06 2.06-.94-2.06-.94L8.5 2.5l-.94 2.06-2.06.94zm10 10l.94 2.06.94-2.06 2.06-.94-2.06-.94-.94-2.06-.94 2.06-2.06.94z\"/><path d=\"M17.41 7.96l-1.37-1.37c-.4-.4-.92-.59-1.43-.59-.52 0-1.04.2-1.43.59L10.3 9.45l-7.72 7.72c-.78.78-.78 2.05 0 2.83L4 21.41c.39.39.9.59 1.41.59.51 0 1.02-.2 1.41-.59l7.78-7.78 2.81-2.81c.8-.78.8-2.07 0-2.86zM5.41 20L4 18.59l7.72-7.72 1.47 1.35L5.41 20z\"/>\n",
              "  </svg>\n",
              "      </button>\n",
              "      \n",
              "  <style>\n",
              "    .colab-df-container {\n",
              "      display:flex;\n",
              "      flex-wrap:wrap;\n",
              "      gap: 12px;\n",
              "    }\n",
              "\n",
              "    .colab-df-convert {\n",
              "      background-color: #E8F0FE;\n",
              "      border: none;\n",
              "      border-radius: 50%;\n",
              "      cursor: pointer;\n",
              "      display: none;\n",
              "      fill: #1967D2;\n",
              "      height: 32px;\n",
              "      padding: 0 0 0 0;\n",
              "      width: 32px;\n",
              "    }\n",
              "\n",
              "    .colab-df-convert:hover {\n",
              "      background-color: #E2EBFA;\n",
              "      box-shadow: 0px 1px 2px rgba(60, 64, 67, 0.3), 0px 1px 3px 1px rgba(60, 64, 67, 0.15);\n",
              "      fill: #174EA6;\n",
              "    }\n",
              "\n",
              "    [theme=dark] .colab-df-convert {\n",
              "      background-color: #3B4455;\n",
              "      fill: #D2E3FC;\n",
              "    }\n",
              "\n",
              "    [theme=dark] .colab-df-convert:hover {\n",
              "      background-color: #434B5C;\n",
              "      box-shadow: 0px 1px 3px 1px rgba(0, 0, 0, 0.15);\n",
              "      filter: drop-shadow(0px 1px 2px rgba(0, 0, 0, 0.3));\n",
              "      fill: #FFFFFF;\n",
              "    }\n",
              "  </style>\n",
              "\n",
              "      <script>\n",
              "        const buttonEl =\n",
              "          document.querySelector('#df-2a3acc34-f399-4644-bcdd-8d6209043654 button.colab-df-convert');\n",
              "        buttonEl.style.display =\n",
              "          google.colab.kernel.accessAllowed ? 'block' : 'none';\n",
              "\n",
              "        async function convertToInteractive(key) {\n",
              "          const element = document.querySelector('#df-2a3acc34-f399-4644-bcdd-8d6209043654');\n",
              "          const dataTable =\n",
              "            await google.colab.kernel.invokeFunction('convertToInteractive',\n",
              "                                                     [key], {});\n",
              "          if (!dataTable) return;\n",
              "\n",
              "          const docLinkHtml = 'Like what you see? Visit the ' +\n",
              "            '<a target=\"_blank\" href=https://colab.research.google.com/notebooks/data_table.ipynb>data table notebook</a>'\n",
              "            + ' to learn more about interactive tables.';\n",
              "          element.innerHTML = '';\n",
              "          dataTable['output_type'] = 'display_data';\n",
              "          await google.colab.output.renderOutput(dataTable, element);\n",
              "          const docLink = document.createElement('div');\n",
              "          docLink.innerHTML = docLinkHtml;\n",
              "          element.appendChild(docLink);\n",
              "        }\n",
              "      </script>\n",
              "    </div>\n",
              "  </div>\n",
              "  "
            ]
          },
          "metadata": {},
          "execution_count": 4
        }
      ]
    },
    {
      "cell_type": "code",
      "source": [
        "dataframe.shape"
      ],
      "metadata": {
        "colab": {
          "base_uri": "https://localhost:8080/"
        },
        "id": "6f1TAagQPCGu",
        "outputId": "3c779634-f3a9-473c-c72d-06e77a5e6c0f"
      },
      "execution_count": null,
      "outputs": [
        {
          "output_type": "execute_result",
          "data": {
            "text/plain": [
              "(506, 14)"
            ]
          },
          "metadata": {},
          "execution_count": 5
        }
      ]
    },
    {
      "cell_type": "markdown",
      "source": [
        "**3. Сохраните в переменную array значения признаков, обратившись к атрибуту values.**\n",
        "\n",
        "**4. Выделите в переменной array часть, которая относится к факторным признакам, назовите ее X, и часть, которая относится к результативному признаку, - Y. Прокомментируйте содержимое переменных X и Y.**"
      ],
      "metadata": {
        "id": "OuHecF5Q4R_x"
      }
    },
    {
      "cell_type": "code",
      "source": [
        "array = dataframe.values"
      ],
      "metadata": {
        "id": "KMXx0V5IPyWU"
      },
      "execution_count": null,
      "outputs": []
    },
    {
      "cell_type": "code",
      "source": [
        "X=array[:,0:13]\n",
        "Y=array[:,13]"
      ],
      "metadata": {
        "id": "6VCwS8mPQHWv"
      },
      "execution_count": null,
      "outputs": []
    },
    {
      "cell_type": "markdown",
      "source": [
        "**5. Задайте разбиение на фолды с помощью функции KFold(n_splits= n_splits, random_state = random_state, shuffle=True) из модуля sklearn.model_selection. Результат запишите в переменную kfold. На вход данной функции подайте следующую информацию: 1) количество частей, на которые должна разбиваться выборка (n_splits), - пусть 10; 2) счетчик случайных чисел (random_state) – пусть 7; 3) необходимость перемешивания данных выборки, задав параметр shuffle=True.**\n",
        "\n",
        "**6. В переменную scoring запишите название метрики качества, которую Вы будете использовать для оценки качества моделей. Пусть это будет средняя квадратичная оценка, взятая с отрицательным знаком, - 'neg_mean_squared_error'.**\n",
        "\n",
        "**7. Постройте модель линейной регрессии, воспользовавшись функцией LinearRegression() из модуля sklearn.linear_model. Результат запишите в переменную model.**\n",
        "\n",
        "**8. Проведите кросс-валидацию, воспользовавшись функцией cross_val_score(model, X, Y, cv=kfold, scoring=scoring) из модуля sklearn.model_selection. Результат запишите в переменную results.**\n",
        "\n",
        "**9. Выведите на экран среднюю величину средней квадратичной ошибки (MSE), взятую с отрицательным знаком, и стандартное отклонение полученных оценок, воспользовавшись, соответственно, функциями mean() и std(). Прокомментируйте полученный результат.**"
      ],
      "metadata": {
        "id": "6UnqJHqJ4jbU"
      }
    },
    {
      "cell_type": "code",
      "source": [
        "kfold=KFold(n_splits= 10, random_state = 7, shuffle=True)"
      ],
      "metadata": {
        "id": "KptHjd8RQ77e"
      },
      "execution_count": null,
      "outputs": []
    },
    {
      "cell_type": "code",
      "source": [
        "scoring = 'neg_mean_squared_error'"
      ],
      "metadata": {
        "id": "uDowjUlARDTf"
      },
      "execution_count": null,
      "outputs": []
    },
    {
      "cell_type": "code",
      "source": [
        "model=LinearRegression()"
      ],
      "metadata": {
        "id": "honXJez8RRBH"
      },
      "execution_count": null,
      "outputs": []
    },
    {
      "cell_type": "code",
      "source": [
        "results=cross_val_score(model, X, Y, cv=kfold, scoring=scoring)"
      ],
      "metadata": {
        "id": "vgTUjXlnRVD_"
      },
      "execution_count": null,
      "outputs": []
    },
    {
      "cell_type": "code",
      "source": [
        "results.mean() # критерий не поддается интепретации, только в сравнении с другими"
      ],
      "metadata": {
        "colab": {
          "base_uri": "https://localhost:8080/"
        },
        "id": "Frd9MYnuRc14",
        "outputId": "7b332990-0876-46a2-a1c9-ad428958472e"
      },
      "execution_count": null,
      "outputs": [
        {
          "output_type": "execute_result",
          "data": {
            "text/plain": [
              "-23.746501811313365"
            ]
          },
          "metadata": {},
          "execution_count": 12
        }
      ]
    },
    {
      "cell_type": "code",
      "source": [
        "results.std()"
      ],
      "metadata": {
        "colab": {
          "base_uri": "https://localhost:8080/"
        },
        "id": "l-wn2VoQRfXx",
        "outputId": "bf1f697f-7425-4df4-dbf7-ea859964bcab"
      },
      "execution_count": null,
      "outputs": [
        {
          "output_type": "execute_result",
          "data": {
            "text/plain": [
              "11.143430110698096"
            ]
          },
          "metadata": {},
          "execution_count": 13
        }
      ]
    },
    {
      "cell_type": "markdown",
      "source": [
        "# **Раздел 2. Гребневая регрессия**\n",
        "\n",
        "**10. Постройте модель гребневой регрессии, воспользовавшись функцией Ridge() из модуля sklearn.linear_model. Результат запишите в переменную model.**\n",
        "\n",
        "**11. Проведите кросс-валидацию, воспользовавшись функцией cross_val_score(model, X, Y, cv=kfold, scoring=scoring) из модуля sklearn.model_selection. Результат запишите в переменную results.**\n",
        "\n",
        "**12. Выведите на экран среднюю величину средней квадратичной ошибки (MSE), взятую с отрицательным знаком, и стандартное отклонение полученных оценок, воспользовавшись, соответственно, функциями mean() и std(). Прокомментируйте полученный результат.**"
      ],
      "metadata": {
        "id": "octLGgLe5JRP"
      }
    },
    {
      "cell_type": "code",
      "source": [
        "model=Ridge()"
      ],
      "metadata": {
        "id": "-2kRQPxbRsMu"
      },
      "execution_count": null,
      "outputs": []
    },
    {
      "cell_type": "code",
      "source": [
        "results=cross_val_score(model, X, Y, cv=kfold, scoring=scoring)"
      ],
      "metadata": {
        "id": "twmuZ6d6RsMw"
      },
      "execution_count": null,
      "outputs": []
    },
    {
      "cell_type": "code",
      "source": [
        "results.mean()"
      ],
      "metadata": {
        "colab": {
          "base_uri": "https://localhost:8080/"
        },
        "outputId": "a2375638-e245-479e-89a3-58823f5ad65f",
        "id": "i8jWf8vMRsMw"
      },
      "execution_count": null,
      "outputs": [
        {
          "output_type": "execute_result",
          "data": {
            "text/plain": [
              "-23.88989018505344"
            ]
          },
          "metadata": {},
          "execution_count": 24
        }
      ]
    },
    {
      "cell_type": "code",
      "source": [
        "results.std()"
      ],
      "metadata": {
        "colab": {
          "base_uri": "https://localhost:8080/"
        },
        "outputId": "866c522b-7aff-420b-d03b-f72f90bef877",
        "id": "ucFFH9sCRsMy"
      },
      "execution_count": null,
      "outputs": [
        {
          "output_type": "execute_result",
          "data": {
            "text/plain": [
              "11.407334196736706"
            ]
          },
          "metadata": {},
          "execution_count": 25
        }
      ]
    },
    {
      "cell_type": "markdown",
      "source": [
        "# **Раздел 3. Лассо регрессия**\n",
        "\n",
        "**13. Постройте модель лассо регрессии, воспользовавшись функцией Lasso() из модуля sklearn.linear_model. Результат запишите в переменную model.**\n",
        "\n",
        "**14. Проведите кросс-валидацию, воспользовавшись функцией cross_val_score(model, X, Y, cv=kfold, scoring=scoring) из модуля sklearn.model_selection. Результат запишите в переменную results.**\n",
        "\n",
        "**15. Выведите на экран среднюю величину средней квадратичной ошибки (MSE), взятую с отрицательным знаком, и стандартное отклонение полученных оценок, воспользовавшись, соответственно, функциями mean() и std(). Прокомментируйте полученный результат.**"
      ],
      "metadata": {
        "id": "MYz6sxdV5lnt"
      }
    },
    {
      "cell_type": "code",
      "source": [
        "model=Lasso()"
      ],
      "metadata": {
        "id": "ZLk9oShAR7lw"
      },
      "execution_count": null,
      "outputs": []
    },
    {
      "cell_type": "code",
      "source": [
        "results=cross_val_score(model, X, Y, cv=kfold, scoring=scoring)"
      ],
      "metadata": {
        "id": "9tcuvkk9R7lx"
      },
      "execution_count": null,
      "outputs": []
    },
    {
      "cell_type": "code",
      "source": [
        "results.mean()"
      ],
      "metadata": {
        "colab": {
          "base_uri": "https://localhost:8080/"
        },
        "outputId": "5e9ed6d1-d129-468f-bc80-cd356fd436f5",
        "id": "60muq7K2R7ly"
      },
      "execution_count": null,
      "outputs": [
        {
          "output_type": "execute_result",
          "data": {
            "text/plain": [
              "-28.74589007585154"
            ]
          },
          "metadata": {},
          "execution_count": 28
        }
      ]
    },
    {
      "cell_type": "code",
      "source": [
        "results.std()"
      ],
      "metadata": {
        "colab": {
          "base_uri": "https://localhost:8080/"
        },
        "outputId": "f93c6ffd-7788-42a9-cc81-7c03950d0ba5",
        "id": "CySiTjcER7lz"
      },
      "execution_count": null,
      "outputs": [
        {
          "output_type": "execute_result",
          "data": {
            "text/plain": [
              "12.001844539883205"
            ]
          },
          "metadata": {},
          "execution_count": 29
        }
      ]
    },
    {
      "cell_type": "markdown",
      "source": [
        "# **Раздел 4. Эластичная сеть**\n",
        "\n",
        "**16. Постройте модель эластичной сети, воспользовавшись функцией ElasticNet() из модуля sklearn.linear_model. Результат запишите в переменную model.**\n",
        "\n",
        "**17. Проведите кросс-валидацию, воспользовавшись функцией cross_val_score(model, X, Y, cv=kfold, scoring=scoring) из модуля sklearn.model_selection. Результат запишите в переменную results.**\n",
        "\n",
        "**18. Выведите на экран среднюю величину средней квадратичной ошибки (MSE), взятую с отрицательным знаком, и стандартное отклонение полученных оценок, воспользовавшись, соответственно, функциями mean() и std(). Прокомментируйте полученный результат.**\n"
      ],
      "metadata": {
        "id": "mLYvehFF6EXT"
      }
    },
    {
      "cell_type": "code",
      "source": [
        "model=ElasticNet()"
      ],
      "metadata": {
        "id": "DyQaMbLZSHWl"
      },
      "execution_count": null,
      "outputs": []
    },
    {
      "cell_type": "code",
      "source": [
        "results=cross_val_score(model, X, Y, cv=kfold, scoring=scoring)"
      ],
      "metadata": {
        "id": "AStqjoLpSHWm"
      },
      "execution_count": null,
      "outputs": []
    },
    {
      "cell_type": "code",
      "source": [
        "results.mean() # чем больше значение, лучше"
      ],
      "metadata": {
        "colab": {
          "base_uri": "https://localhost:8080/"
        },
        "outputId": "5432a2b8-363b-461b-e285-2a1dde477b24",
        "id": "4q4C54gGSHWp"
      },
      "execution_count": null,
      "outputs": [
        {
          "output_type": "execute_result",
          "data": {
            "text/plain": [
              "-27.908420360231055"
            ]
          },
          "metadata": {},
          "execution_count": 32
        }
      ]
    },
    {
      "cell_type": "code",
      "source": [
        "results.std()"
      ],
      "metadata": {
        "colab": {
          "base_uri": "https://localhost:8080/"
        },
        "outputId": "e4196ef8-6b2f-4cfd-c584-2ec9d474396c",
        "id": "f2fyfMd6SHWq"
      },
      "execution_count": null,
      "outputs": [
        {
          "output_type": "execute_result",
          "data": {
            "text/plain": [
              "11.484450217983516"
            ]
          },
          "metadata": {},
          "execution_count": 33
        }
      ]
    },
    {
      "cell_type": "markdown",
      "source": [
        "**19. Сделайте вывод о лучшей линейной модели для задачи регрессии.**"
      ],
      "metadata": {
        "id": "I-VLSj906rN1"
      }
    },
    {
      "cell_type": "markdown",
      "source": [
        "# **ЗАДАНИЕ 11. НЕЛИНЕЙНЫЕ МОДЕЛИ ДЛЯ РЕГРЕССИИ. ВЫБОР ЛУЧШЕЙ МОДЕЛИ ДЛЯ РЕГРЕССИИ. ПОСТРОЕНИЕ ПРОГРАММНОГО КОНВЕЕРА**\n",
        "\n",
        "Постройте нелинейные модели для регрессии (модель ближайшего соседа, модель решающего дерева, модель опорных векторов), оцените их качество, сравните с линейными моделями, выберите лучшую модель. Создайте программный конвеер для подготовки данных и моделирования, а также программный конвеер для отбора признаков и моделирования. Оцените целесообразность создания программного конвеера.\n",
        "Постарайтесь максимально автоматизировать все вычисления, использовать существующие модули среды программирования Python.\n"
      ],
      "metadata": {
        "id": "bVxJuNcCSi-z"
      }
    },
    {
      "cell_type": "markdown",
      "source": [
        "**1. Укажите путь к рабочей папке, где хранятся данные, с помощью функции chdir() из модуля os.**\n",
        "\n",
        "**2. Загрузите данные файла housing.csv с помощью функции read_csv(filename, delim_whitespace=True, names=names) из модуля pandas. Названия столбцов укажите следующими: names = ['CRIM', 'ZN', 'INDUS', 'CHAS', 'NOX', 'RM', 'AGE', 'DIS', 'RAD', 'TAX', 'PTRATIO','B', 'LSTAT', 'MEDV']. Посмотрите на первые 5 наблюдений с помощью функции head().**"
      ],
      "metadata": {
        "id": "AtKQ3i7B_PnB"
      }
    },
    {
      "cell_type": "code",
      "source": [
        "import os\n",
        "from pandas import read_csv\n",
        "from sklearn.model_selection import KFold\n",
        "from sklearn.model_selection import cross_val_score\n",
        "from sklearn.neighbors import KNeighborsRegressor\n",
        "from sklearn.tree import DecisionTreeRegressor\n",
        "from sklearn.svm import SVR\n",
        "from matplotlib import pyplot\n",
        "from sklearn.linear_model import LinearRegression\n",
        "from sklearn.linear_model import Ridge\n",
        "from sklearn.linear_model import Lasso\n",
        "from sklearn.linear_model import ElasticNet\n",
        "from sklearn.preprocessing import StandardScaler\n",
        "from sklearn.pipeline import Pipeline\n",
        "from sklearn.pipeline import FeatureUnion\n",
        "from sklearn.decomposition import PCA\n",
        "from sklearn.feature_selection import SelectKBest"
      ],
      "metadata": {
        "id": "BiUV0_0aSlUC"
      },
      "execution_count": null,
      "outputs": []
    },
    {
      "cell_type": "code",
      "source": [
        "os.chdir('/content/gdrive/MyDrive/Colab Notebooks/PDA-200')"
      ],
      "metadata": {
        "id": "ogDgF-7JU59b"
      },
      "execution_count": null,
      "outputs": []
    },
    {
      "cell_type": "code",
      "source": [
        "dataframe=read_csv('housing.csv', delim_whitespace=True, names=['CRIM', 'ZN', 'INDUS', 'CHAS', 'NOX', 'RM', 'AGE', 'DIS', 'RAD', 'TAX', 'PTRATIO','B', 'LSTAT', 'MEDV'])\n",
        "dataframe.head()"
      ],
      "metadata": {
        "colab": {
          "base_uri": "https://localhost:8080/",
          "height": 206
        },
        "outputId": "9f01cb26-868e-4e37-ded8-bdc2fc1cfa7e",
        "id": "fhSoV_1QVOxo"
      },
      "execution_count": null,
      "outputs": [
        {
          "output_type": "execute_result",
          "data": {
            "text/plain": [
              "      CRIM    ZN  INDUS  CHAS    NOX     RM   AGE     DIS  RAD    TAX  \\\n",
              "0  0.00632  18.0   2.31     0  0.538  6.575  65.2  4.0900    1  296.0   \n",
              "1  0.02731   0.0   7.07     0  0.469  6.421  78.9  4.9671    2  242.0   \n",
              "2  0.02729   0.0   7.07     0  0.469  7.185  61.1  4.9671    2  242.0   \n",
              "3  0.03237   0.0   2.18     0  0.458  6.998  45.8  6.0622    3  222.0   \n",
              "4  0.06905   0.0   2.18     0  0.458  7.147  54.2  6.0622    3  222.0   \n",
              "\n",
              "   PTRATIO       B  LSTAT  MEDV  \n",
              "0     15.3  396.90   4.98  24.0  \n",
              "1     17.8  396.90   9.14  21.6  \n",
              "2     17.8  392.83   4.03  34.7  \n",
              "3     18.7  394.63   2.94  33.4  \n",
              "4     18.7  396.90   5.33  36.2  "
            ],
            "text/html": [
              "\n",
              "  <div id=\"df-431d3c99-aa90-4562-9967-4d5bb8a8fce9\">\n",
              "    <div class=\"colab-df-container\">\n",
              "      <div>\n",
              "<style scoped>\n",
              "    .dataframe tbody tr th:only-of-type {\n",
              "        vertical-align: middle;\n",
              "    }\n",
              "\n",
              "    .dataframe tbody tr th {\n",
              "        vertical-align: top;\n",
              "    }\n",
              "\n",
              "    .dataframe thead th {\n",
              "        text-align: right;\n",
              "    }\n",
              "</style>\n",
              "<table border=\"1\" class=\"dataframe\">\n",
              "  <thead>\n",
              "    <tr style=\"text-align: right;\">\n",
              "      <th></th>\n",
              "      <th>CRIM</th>\n",
              "      <th>ZN</th>\n",
              "      <th>INDUS</th>\n",
              "      <th>CHAS</th>\n",
              "      <th>NOX</th>\n",
              "      <th>RM</th>\n",
              "      <th>AGE</th>\n",
              "      <th>DIS</th>\n",
              "      <th>RAD</th>\n",
              "      <th>TAX</th>\n",
              "      <th>PTRATIO</th>\n",
              "      <th>B</th>\n",
              "      <th>LSTAT</th>\n",
              "      <th>MEDV</th>\n",
              "    </tr>\n",
              "  </thead>\n",
              "  <tbody>\n",
              "    <tr>\n",
              "      <th>0</th>\n",
              "      <td>0.00632</td>\n",
              "      <td>18.0</td>\n",
              "      <td>2.31</td>\n",
              "      <td>0</td>\n",
              "      <td>0.538</td>\n",
              "      <td>6.575</td>\n",
              "      <td>65.2</td>\n",
              "      <td>4.0900</td>\n",
              "      <td>1</td>\n",
              "      <td>296.0</td>\n",
              "      <td>15.3</td>\n",
              "      <td>396.90</td>\n",
              "      <td>4.98</td>\n",
              "      <td>24.0</td>\n",
              "    </tr>\n",
              "    <tr>\n",
              "      <th>1</th>\n",
              "      <td>0.02731</td>\n",
              "      <td>0.0</td>\n",
              "      <td>7.07</td>\n",
              "      <td>0</td>\n",
              "      <td>0.469</td>\n",
              "      <td>6.421</td>\n",
              "      <td>78.9</td>\n",
              "      <td>4.9671</td>\n",
              "      <td>2</td>\n",
              "      <td>242.0</td>\n",
              "      <td>17.8</td>\n",
              "      <td>396.90</td>\n",
              "      <td>9.14</td>\n",
              "      <td>21.6</td>\n",
              "    </tr>\n",
              "    <tr>\n",
              "      <th>2</th>\n",
              "      <td>0.02729</td>\n",
              "      <td>0.0</td>\n",
              "      <td>7.07</td>\n",
              "      <td>0</td>\n",
              "      <td>0.469</td>\n",
              "      <td>7.185</td>\n",
              "      <td>61.1</td>\n",
              "      <td>4.9671</td>\n",
              "      <td>2</td>\n",
              "      <td>242.0</td>\n",
              "      <td>17.8</td>\n",
              "      <td>392.83</td>\n",
              "      <td>4.03</td>\n",
              "      <td>34.7</td>\n",
              "    </tr>\n",
              "    <tr>\n",
              "      <th>3</th>\n",
              "      <td>0.03237</td>\n",
              "      <td>0.0</td>\n",
              "      <td>2.18</td>\n",
              "      <td>0</td>\n",
              "      <td>0.458</td>\n",
              "      <td>6.998</td>\n",
              "      <td>45.8</td>\n",
              "      <td>6.0622</td>\n",
              "      <td>3</td>\n",
              "      <td>222.0</td>\n",
              "      <td>18.7</td>\n",
              "      <td>394.63</td>\n",
              "      <td>2.94</td>\n",
              "      <td>33.4</td>\n",
              "    </tr>\n",
              "    <tr>\n",
              "      <th>4</th>\n",
              "      <td>0.06905</td>\n",
              "      <td>0.0</td>\n",
              "      <td>2.18</td>\n",
              "      <td>0</td>\n",
              "      <td>0.458</td>\n",
              "      <td>7.147</td>\n",
              "      <td>54.2</td>\n",
              "      <td>6.0622</td>\n",
              "      <td>3</td>\n",
              "      <td>222.0</td>\n",
              "      <td>18.7</td>\n",
              "      <td>396.90</td>\n",
              "      <td>5.33</td>\n",
              "      <td>36.2</td>\n",
              "    </tr>\n",
              "  </tbody>\n",
              "</table>\n",
              "</div>\n",
              "      <button class=\"colab-df-convert\" onclick=\"convertToInteractive('df-431d3c99-aa90-4562-9967-4d5bb8a8fce9')\"\n",
              "              title=\"Convert this dataframe to an interactive table.\"\n",
              "              style=\"display:none;\">\n",
              "        \n",
              "  <svg xmlns=\"http://www.w3.org/2000/svg\" height=\"24px\"viewBox=\"0 0 24 24\"\n",
              "       width=\"24px\">\n",
              "    <path d=\"M0 0h24v24H0V0z\" fill=\"none\"/>\n",
              "    <path d=\"M18.56 5.44l.94 2.06.94-2.06 2.06-.94-2.06-.94-.94-2.06-.94 2.06-2.06.94zm-11 1L8.5 8.5l.94-2.06 2.06-.94-2.06-.94L8.5 2.5l-.94 2.06-2.06.94zm10 10l.94 2.06.94-2.06 2.06-.94-2.06-.94-.94-2.06-.94 2.06-2.06.94z\"/><path d=\"M17.41 7.96l-1.37-1.37c-.4-.4-.92-.59-1.43-.59-.52 0-1.04.2-1.43.59L10.3 9.45l-7.72 7.72c-.78.78-.78 2.05 0 2.83L4 21.41c.39.39.9.59 1.41.59.51 0 1.02-.2 1.41-.59l7.78-7.78 2.81-2.81c.8-.78.8-2.07 0-2.86zM5.41 20L4 18.59l7.72-7.72 1.47 1.35L5.41 20z\"/>\n",
              "  </svg>\n",
              "      </button>\n",
              "      \n",
              "  <style>\n",
              "    .colab-df-container {\n",
              "      display:flex;\n",
              "      flex-wrap:wrap;\n",
              "      gap: 12px;\n",
              "    }\n",
              "\n",
              "    .colab-df-convert {\n",
              "      background-color: #E8F0FE;\n",
              "      border: none;\n",
              "      border-radius: 50%;\n",
              "      cursor: pointer;\n",
              "      display: none;\n",
              "      fill: #1967D2;\n",
              "      height: 32px;\n",
              "      padding: 0 0 0 0;\n",
              "      width: 32px;\n",
              "    }\n",
              "\n",
              "    .colab-df-convert:hover {\n",
              "      background-color: #E2EBFA;\n",
              "      box-shadow: 0px 1px 2px rgba(60, 64, 67, 0.3), 0px 1px 3px 1px rgba(60, 64, 67, 0.15);\n",
              "      fill: #174EA6;\n",
              "    }\n",
              "\n",
              "    [theme=dark] .colab-df-convert {\n",
              "      background-color: #3B4455;\n",
              "      fill: #D2E3FC;\n",
              "    }\n",
              "\n",
              "    [theme=dark] .colab-df-convert:hover {\n",
              "      background-color: #434B5C;\n",
              "      box-shadow: 0px 1px 3px 1px rgba(0, 0, 0, 0.15);\n",
              "      filter: drop-shadow(0px 1px 2px rgba(0, 0, 0, 0.3));\n",
              "      fill: #FFFFFF;\n",
              "    }\n",
              "  </style>\n",
              "\n",
              "      <script>\n",
              "        const buttonEl =\n",
              "          document.querySelector('#df-431d3c99-aa90-4562-9967-4d5bb8a8fce9 button.colab-df-convert');\n",
              "        buttonEl.style.display =\n",
              "          google.colab.kernel.accessAllowed ? 'block' : 'none';\n",
              "\n",
              "        async function convertToInteractive(key) {\n",
              "          const element = document.querySelector('#df-431d3c99-aa90-4562-9967-4d5bb8a8fce9');\n",
              "          const dataTable =\n",
              "            await google.colab.kernel.invokeFunction('convertToInteractive',\n",
              "                                                     [key], {});\n",
              "          if (!dataTable) return;\n",
              "\n",
              "          const docLinkHtml = 'Like what you see? Visit the ' +\n",
              "            '<a target=\"_blank\" href=https://colab.research.google.com/notebooks/data_table.ipynb>data table notebook</a>'\n",
              "            + ' to learn more about interactive tables.';\n",
              "          element.innerHTML = '';\n",
              "          dataTable['output_type'] = 'display_data';\n",
              "          await google.colab.output.renderOutput(dataTable, element);\n",
              "          const docLink = document.createElement('div');\n",
              "          docLink.innerHTML = docLinkHtml;\n",
              "          element.appendChild(docLink);\n",
              "        }\n",
              "      </script>\n",
              "    </div>\n",
              "  </div>\n",
              "  "
            ]
          },
          "metadata": {},
          "execution_count": 36
        }
      ]
    },
    {
      "cell_type": "markdown",
      "source": [
        "**3. Сохраните в переменную array значения признаков, обратившись к атрибуту values.**\n",
        "\n",
        "**4. Выделите в переменной array часть, которая относится к факторным признакам, назовите ее X, и часть, которая относится к результативному признаку, - Y. Прокомментируйте содержимое переменных X и Y.**"
      ],
      "metadata": {
        "id": "a11BtFLs_nHF"
      }
    },
    {
      "cell_type": "code",
      "source": [
        "array = dataframe.values"
      ],
      "metadata": {
        "id": "-UJ81oPsVOxq"
      },
      "execution_count": null,
      "outputs": []
    },
    {
      "cell_type": "code",
      "source": [
        "X=array[:,0:13]\n",
        "Y=array[:,13]"
      ],
      "metadata": {
        "id": "itWAEDP2VOxr"
      },
      "execution_count": null,
      "outputs": []
    },
    {
      "cell_type": "markdown",
      "source": [
        "**5. Задайте разбиение на фолды с помощью функции KFold(n_splits = n_splits, random_state = random_state, shuffle = True) из модуля sklearn.model_selection. Результат запишите в переменную kfold. На вход данной функции подайте следующую информацию: 1) количество частей, на которые должна разбиваться выборка (n_splits), - пусть 10; 2) счетчик случайных чисел (random_state) – пусть 7; 3) необходимость перемешивания данных выборки, задав параметр shuffle=True.**\n",
        "\n",
        "**6. В переменную scoring запишите название метрики качества, которую Вы будете использовать для оценки качества моделей. Пусть это будет средняя квадратичная оценка, взятая с отрицательным знаком, - 'neg_mean_squared_error'.**\n",
        "\n",
        "**7. Постройте модель ближайшего соседа, воспользовавшись функцией KNeighborsRegressor() из модуля sklearn.neighbors. Результат запишите в переменную model.**\n",
        "\n",
        "**8. Проведите кросс-валидацию, воспользовавшись функцией cross_val_score(model, X, Y, cv=kfold, scoring=scoring) из модуля sklearn.model_selection. Результат запишите в переменную results.**\n",
        "\n",
        "**9. Выведите на экран среднюю величину средней квадратичной ошибки (MSE), взятую с отрицательным знаком, и стандартное отклонение полученных оценок, воспользовавшись, соответственно, функциями mean() и std(). Прокомментируйте полученный результат.**"
      ],
      "metadata": {
        "id": "KKRwFQps_37V"
      }
    },
    {
      "cell_type": "code",
      "source": [
        "kfold=KFold(n_splits= 10, random_state = 7, shuffle=True)"
      ],
      "metadata": {
        "id": "6hn581U2VOxr"
      },
      "execution_count": null,
      "outputs": []
    },
    {
      "cell_type": "code",
      "source": [
        "scoring = 'neg_mean_squared_error'"
      ],
      "metadata": {
        "id": "o3aJuxCkVOxs"
      },
      "execution_count": null,
      "outputs": []
    },
    {
      "cell_type": "code",
      "source": [
        "model=KNeighborsRegressor()"
      ],
      "metadata": {
        "id": "t46ni1ZPVVOj"
      },
      "execution_count": null,
      "outputs": []
    },
    {
      "cell_type": "code",
      "source": [
        "results=cross_val_score(model, X, Y, cv=kfold, scoring=scoring)"
      ],
      "metadata": {
        "id": "mEK8JSxya9PO"
      },
      "execution_count": null,
      "outputs": []
    },
    {
      "cell_type": "code",
      "source": [
        "results.mean()"
      ],
      "metadata": {
        "colab": {
          "base_uri": "https://localhost:8080/"
        },
        "id": "eVZvrCiQbEsf",
        "outputId": "dde04f19-52c4-4df6-f322-99548c08ae2e"
      },
      "execution_count": null,
      "outputs": [
        {
          "output_type": "execute_result",
          "data": {
            "text/plain": [
              "-38.852320266666666"
            ]
          },
          "metadata": {},
          "execution_count": 43
        }
      ]
    },
    {
      "cell_type": "code",
      "source": [
        "results.std()"
      ],
      "metadata": {
        "colab": {
          "base_uri": "https://localhost:8080/"
        },
        "id": "JIAh3botbGt8",
        "outputId": "81ec1c3b-072a-4ec4-8895-94c65515e677"
      },
      "execution_count": null,
      "outputs": [
        {
          "output_type": "execute_result",
          "data": {
            "text/plain": [
              "14.660692658624528"
            ]
          },
          "metadata": {},
          "execution_count": 44
        }
      ]
    },
    {
      "cell_type": "markdown",
      "source": [
        "**10. Постройте модель решающего дерева, воспользовавшись функцией DecisionTreeRegressor() из модуля sklearn.tree. Результат запишите в переменную model.**\n",
        "\n",
        "**11. Проведите кросс-валидацию, воспользовавшись функцией cross_val_score(model, X, Y, cv=kfold, scoring=scoring) из модуля sklearn.model_selection. Результат запишите в переменную results.**\n",
        "\n",
        "**12. Выведите на экран среднюю величину средней квадратичной ошибки (MSE), взятую с отрицательным знаком, и стандартное отклонение полученных оценок, воспользовавшись, соответственно, функциями mean() и std(). Прокомментируйте полученный результат.**"
      ],
      "metadata": {
        "id": "ABoTE8bqAW30"
      }
    },
    {
      "cell_type": "code",
      "source": [
        "model=DecisionTreeRegressor()"
      ],
      "metadata": {
        "id": "XzdXFEBdblT9"
      },
      "execution_count": null,
      "outputs": []
    },
    {
      "cell_type": "code",
      "source": [
        "results=cross_val_score(model, X, Y, cv=kfold, scoring=scoring)"
      ],
      "metadata": {
        "id": "L1s0xsUGblUA"
      },
      "execution_count": null,
      "outputs": []
    },
    {
      "cell_type": "code",
      "source": [
        "results.mean()"
      ],
      "metadata": {
        "colab": {
          "base_uri": "https://localhost:8080/"
        },
        "outputId": "932cf06e-1dbf-4cb3-e111-21ce352f7e9f",
        "id": "TBYzv2cwblUB"
      },
      "execution_count": null,
      "outputs": [
        {
          "output_type": "execute_result",
          "data": {
            "text/plain": [
              "-21.067121960784316"
            ]
          },
          "metadata": {},
          "execution_count": 47
        }
      ]
    },
    {
      "cell_type": "code",
      "source": [
        "results.std()"
      ],
      "metadata": {
        "colab": {
          "base_uri": "https://localhost:8080/"
        },
        "outputId": "e0fe48ae-0bc9-47ef-fb65-f76814958f3c",
        "id": "ZuMCAajLblUC"
      },
      "execution_count": null,
      "outputs": [
        {
          "output_type": "execute_result",
          "data": {
            "text/plain": [
              "9.44746919014808"
            ]
          },
          "metadata": {},
          "execution_count": 48
        }
      ]
    },
    {
      "cell_type": "markdown",
      "source": [
        "**13. Постройте модель опорных векторов, воспользовавшись функцией SVR(gamma='auto') из модуля sklearn.svm. Результат запишите в переменную model.**\n",
        "\n",
        "**14. Проведите кросс-валидацию, воспользовавшись функцией cross_val_score(model, X, Y, cv=kfold, scoring=scoring) из модуля sklearn.model_selection. Результат запишите в переменную results.**\n",
        "\n",
        "**15. Выведите на экран среднюю величину средней квадратичной ошибки (MSE), взятую с отрицательным знаком, и стандартное отклонение полученных оценок, воспользовавшись, соответственно, функциями mean() и std(). Прокомментируйте полученный результат.**"
      ],
      "metadata": {
        "id": "1k7eV0hPCTBv"
      }
    },
    {
      "cell_type": "code",
      "source": [
        "model=SVR(gamma='auto')"
      ],
      "metadata": {
        "id": "NzTDXWojc09M"
      },
      "execution_count": null,
      "outputs": []
    },
    {
      "cell_type": "code",
      "source": [
        "results=cross_val_score(model, X, Y, cv=kfold, scoring=scoring)"
      ],
      "metadata": {
        "id": "sOlePrwSc09N"
      },
      "execution_count": null,
      "outputs": []
    },
    {
      "cell_type": "code",
      "source": [
        "results.mean()"
      ],
      "metadata": {
        "colab": {
          "base_uri": "https://localhost:8080/"
        },
        "outputId": "3da1001d-8ddd-46a5-9ad6-50f840be04f9",
        "id": "nml8fUBjc09N"
      },
      "execution_count": null,
      "outputs": [
        {
          "output_type": "execute_result",
          "data": {
            "text/plain": [
              "-83.73272794073159"
            ]
          },
          "metadata": {},
          "execution_count": 51
        }
      ]
    },
    {
      "cell_type": "code",
      "source": [
        "results.std()"
      ],
      "metadata": {
        "colab": {
          "base_uri": "https://localhost:8080/"
        },
        "outputId": "be083f35-0eef-4d57-db3f-adb95eb54aa7",
        "id": "KP2vKDdtc09P"
      },
      "execution_count": null,
      "outputs": [
        {
          "output_type": "execute_result",
          "data": {
            "text/plain": [
              "26.79488794617123"
            ]
          },
          "metadata": {},
          "execution_count": 52
        }
      ]
    },
    {
      "cell_type": "markdown",
      "source": [
        "# **Раздел 2. Выбор лучшего алгоритма машинного обучения для задачи регрессии**\n",
        "\n",
        "16. Создайте пустой список и запишите его в переменную models.\n",
        "\n",
        "**17. Добавьте с помощью функции append() в список models набор из кортежей, первый элемент которого содержит название модели, а второй – функцию для создания соответствующей модели. Включите все линейные и нелинейные модели для регрессии, рассмотренные в заданиях 10 и 11. Можно при этом воспользоваться следующими сокращениями:**\n",
        "\n",
        "- LinRegr – стандартная линейная регрессия – LinearRegression().\n",
        "\n",
        "- Ridge – гребневая регрессия – Ridge().\n",
        "\n",
        "- Lasso – лассо регрессия – Lasso().\n",
        "\n",
        "- ElasticNet – эластичная сеть – ElasticNet().\n",
        "\n",
        "- KNN – модель ближайшего соседа – KNeighborsRegressor().\n",
        "\n",
        "- DTree – модель решающего дерева – DecisionTreeRegressor().\n",
        "\n",
        "- SVM – метод опорных векторов – SVR().\n",
        "\n",
        "**18. Создайте пустые списки results и names.**\n",
        "\n",
        "**19. Задайте критерий оценки качества моделей регрессии в переменной scoring. Пусть – средняя квадратичная оценка, взятая с отрицательным знаком, - 'neg_mean_squared_error'.**\n",
        "\n",
        "**20. С помощью функции for, обращаясь к имени и объекту модели, которые содержатся в кортежах списка models, выполните следующее:**\n",
        "\n",
        "**a. Задайте разбиение выборки на фолды с помощью функции KFold(n_splits=10, random_state=7, shuffle=True). Результат запишите в переменную kfold.**\n",
        "\n",
        "**b. Проведите кросс-валидацию, воспользовавшись функцией cross_val_score(model, X, Y, cv=kfold, scoring=scoring). Результат запишите в переменную cv_results.**\n",
        "\n",
        "**c. Добавьте полученные результаты (cv_results) в список results, воспользовавшись функцией append().**\n",
        "\n",
        "**d. Добавьте в список names имя рассмотренной модели, воспользовавшись функцией append().**\n",
        "\n",
        "**e. С помощью функции print() выведите на экран список названий моделей с соответствующими значениями средней квадратичной оценки, взятой с отрицательным знаком (функция mean()), и стандартного отклонения (функция std()), рассчитанными на кросс-валидации.**"
      ],
      "metadata": {
        "id": "q4KqbYE0DNWg"
      }
    },
    {
      "cell_type": "code",
      "source": [
        "models=[]"
      ],
      "metadata": {
        "id": "doaYmybgdA1_"
      },
      "execution_count": null,
      "outputs": []
    },
    {
      "cell_type": "code",
      "source": [
        "models.append(('LinRegr',LinearRegression()))"
      ],
      "metadata": {
        "id": "dch0Lh0-dBrl"
      },
      "execution_count": null,
      "outputs": []
    },
    {
      "cell_type": "code",
      "source": [
        "models.append(('Ridge',Ridge()))"
      ],
      "metadata": {
        "id": "Tc3p--2HdQZX"
      },
      "execution_count": null,
      "outputs": []
    },
    {
      "cell_type": "code",
      "source": [
        "models.append(('Lasso',Lasso()))"
      ],
      "metadata": {
        "id": "8D7d_9bKdWwH"
      },
      "execution_count": null,
      "outputs": []
    },
    {
      "cell_type": "code",
      "source": [
        "models.append(('ElasticNet',ElasticNet()))"
      ],
      "metadata": {
        "id": "3lARRP6Kddfk"
      },
      "execution_count": null,
      "outputs": []
    },
    {
      "cell_type": "code",
      "source": [
        "models.append(('KNN',KNeighborsRegressor()))"
      ],
      "metadata": {
        "id": "Z7kAbQ64djMM"
      },
      "execution_count": null,
      "outputs": []
    },
    {
      "cell_type": "code",
      "source": [
        "models.append(('DTree',DecisionTreeRegressor()))"
      ],
      "metadata": {
        "id": "OZaOs3R1dqDE"
      },
      "execution_count": null,
      "outputs": []
    },
    {
      "cell_type": "code",
      "source": [
        "models.append(('SVM',SVR()))"
      ],
      "metadata": {
        "id": "0D7qZ4CGdwTS"
      },
      "execution_count": null,
      "outputs": []
    },
    {
      "cell_type": "code",
      "source": [
        "models"
      ],
      "metadata": {
        "colab": {
          "base_uri": "https://localhost:8080/"
        },
        "id": "bqmiwsyBd2Th",
        "outputId": "cc565c52-f780-46de-947c-a0e1315d701d"
      },
      "execution_count": null,
      "outputs": [
        {
          "output_type": "execute_result",
          "data": {
            "text/plain": [
              "[('Ridge', Ridge()),\n",
              " ('LinRegr', LinearRegression()),\n",
              " ('Lasso', Lasso()),\n",
              " ('ElasticNet', ElasticNet()),\n",
              " ('KNN', KNeighborsRegressor()),\n",
              " ('DTree', DecisionTreeRegressor()),\n",
              " ('SVM', SVR())]"
            ]
          },
          "metadata": {},
          "execution_count": 61
        }
      ]
    },
    {
      "cell_type": "code",
      "source": [
        "results =[]\n",
        "names=[]"
      ],
      "metadata": {
        "id": "iy1hJXQPd3V0"
      },
      "execution_count": null,
      "outputs": []
    },
    {
      "cell_type": "code",
      "source": [
        "scoring='neg_mean_squared_error'"
      ],
      "metadata": {
        "id": "Vz8dhEfUeM4a"
      },
      "execution_count": null,
      "outputs": []
    },
    {
      "cell_type": "markdown",
      "source": [
        "**21. Изобразите результаты предыдущих расчетов в виде ящика с усами, воспользовавшись следующими функциями из модуля matplotlib.pyplot: figure(), suptitle(), add_subplot(111), boxplot(), set_xticklabels(), show().**"
      ],
      "metadata": {
        "id": "OInvZHM0FoEX"
      }
    },
    {
      "cell_type": "markdown",
      "source": [
        "**22. Выберите лучшую модель. Обоснуйте свой выбор.**"
      ],
      "metadata": {
        "id": "6Te8n7xmF1Cn"
      }
    },
    {
      "cell_type": "code",
      "source": [
        "for name, model in models:\n",
        "  kfold=KFold(n_splits=10, random_state=7, shuffle=True)\n",
        "  cv_results=cross_val_score(model, X, Y, cv=kfold, scoring=scoring)\n",
        "  results.append(cv_results)\n",
        "  names.append(name)\n",
        "  print(name,cv_results.mean(),cv_results.std())"
      ],
      "metadata": {
        "colab": {
          "base_uri": "https://localhost:8080/"
        },
        "id": "kvNXM_a5HV6N",
        "outputId": "d86199e1-fc62-4851-a497-d7e073fa51ef"
      },
      "execution_count": null,
      "outputs": [
        {
          "output_type": "stream",
          "name": "stdout",
          "text": [
            "Ridge -23.88989018505344 11.407334196736706\n",
            "LinRegr -23.746501811313365 11.143430110698096\n",
            "Lasso -28.74589007585154 12.001844539883205\n",
            "ElasticNet -27.908420360231055 11.484450217983516\n",
            "KNN -38.852320266666666 14.660692658624528\n",
            "DTree -21.934539607843135 9.635008579404511\n",
            "SVM -67.64140705473743 26.524654546583477\n"
          ]
        }
      ]
    },
    {
      "cell_type": "code",
      "source": [
        "fig=pyplot.figure()\n",
        "fig.suptitle('Сравнение моделей')\n",
        "ax=fig.add_subplot(111)\n",
        "pyplot.boxplot(results)\n",
        "ax.set_xticklabels(names)\n",
        "pyplot.show()"
      ],
      "metadata": {
        "colab": {
          "base_uri": "https://localhost:8080/",
          "height": 294
        },
        "id": "jacLaPY1IvbL",
        "outputId": "509d6561-d33d-4074-cb5a-4ae2b491e08b"
      },
      "execution_count": null,
      "outputs": [
        {
          "output_type": "display_data",
          "data": {
            "text/plain": [
              "<Figure size 432x288 with 1 Axes>"
            ],
            "image/png": "[encoded data removed]"
          },
          "metadata": {
            "needs_background": "light"
          }
        }
      ]
    },
    {
      "cell_type": "markdown",
      "source": [
        "# **Раздел 3. Создание пайплайна (программного конвеера) для подготовки данных и моделирования**\n",
        "\n",
        "**23. Создайте пустой список в переменной estimators.**\n",
        "\n",
        "**24. Добавьте в него кортеж, в котором содержится название операции подготовки данных, пусть стандартизация ('standardize'), и соответствующая функция StandardScaler() из модуля sklearn.preprocessing.**\n",
        "\n",
        "**25. Также добавьте в список кортеж с названием лучшей модели для регрессии, выбранной в п. 20, и соответствующую ей функцию.**\n",
        "\n",
        "**26. На основе созданного списка создайте программный конвеер с помощью функции Pipeline() из модуля sklearn.pipeline. Результат запишите в переменную model.**\n",
        "\n",
        "**27. Задайте разбиение на фолды с помощью функции KFold(n_splits = n_splits, random_state = random_state, shuffle = True) из модуля sklearn.model_selection. Результат запишите в переменную kfold. На вход данной функции подайте следующую информацию: 1) количество частей, на которые должна разбиваться выборка (n_splits), - пусть 10; 2) счетчик случайных чисел (random_state) – пусть 7; 3) необходимость перемешивания данных выборки, задав параметр shuffle=True.**\n",
        "\n",
        "**28. Проведите кросс-валидацию, воспользовавшись функцией cross_val_score(model, X, Y, cv=kfold, scoring=scoring) из модуля sklearn.model_selection. На вход подайте созданный программный конвеер. Результат запишите в переменную results.**\n",
        "\n",
        "**29. Выведите на экран среднюю величину средней квадратичной ошибки (MSE), взятую с отрицательным знаком, и стандартное отклонение полученных оценок, воспользовавшись, соответственно, функциями mean() и std(). Прокомментируйте полученный результат.**"
      ],
      "metadata": {
        "id": "bfkYyPEyF8ZN"
      }
    },
    {
      "cell_type": "code",
      "source": [
        "# стандартизация данных, а потом разбивка плохо сказываются на модели, конвеер позволяеи избежать утечки стандартизируя\n",
        "# данные после разбивки"
      ],
      "metadata": {
        "id": "7mF_weOnHWfm"
      },
      "execution_count": null,
      "outputs": []
    },
    {
      "cell_type": "code",
      "source": [
        "estimators=[]"
      ],
      "metadata": {
        "id": "r993yJOZfu3j"
      },
      "execution_count": null,
      "outputs": []
    },
    {
      "cell_type": "code",
      "source": [
        "estimators.append(('standardize',StandardScaler())) # функция выполняющая стандартизацию"
      ],
      "metadata": {
        "id": "5kLAWTrkfv24"
      },
      "execution_count": null,
      "outputs": []
    },
    {
      "cell_type": "code",
      "source": [
        "estimators.append(('DTree',DecisionTreeRegressor()))"
      ],
      "metadata": {
        "id": "ca0mAl-Gf-kg"
      },
      "execution_count": null,
      "outputs": []
    },
    {
      "cell_type": "code",
      "source": [
        "# т.е. сначала стандартизируем данные обучающей выборки, потом обучит, затем стандартизирует данные на контрольной выборке,\n",
        "# а потом проверит"
      ],
      "metadata": {
        "id": "IR5vwIgvJygu"
      },
      "execution_count": null,
      "outputs": []
    },
    {
      "cell_type": "code",
      "source": [
        "model=Pipeline(estimators)"
      ],
      "metadata": {
        "id": "G57HkuIEgViy"
      },
      "execution_count": null,
      "outputs": []
    },
    {
      "cell_type": "code",
      "source": [
        "kfold=KFold(n_splits = 10, random_state = 7, shuffle = True)"
      ],
      "metadata": {
        "id": "BF56QV7sgdfy"
      },
      "execution_count": null,
      "outputs": []
    },
    {
      "cell_type": "code",
      "source": [
        "results=cross_val_score(model, X, Y, cv=kfold, scoring=scoring)"
      ],
      "metadata": {
        "id": "UmZgs7a7gmJC"
      },
      "execution_count": null,
      "outputs": []
    },
    {
      "cell_type": "code",
      "source": [
        "results.mean()"
      ],
      "metadata": {
        "colab": {
          "base_uri": "https://localhost:8080/"
        },
        "id": "vF3NhYYjgx67",
        "outputId": "fcf2ac42-6798-4c16-c0a2-e9a935e3f6c2"
      },
      "execution_count": null,
      "outputs": [
        {
          "output_type": "execute_result",
          "data": {
            "text/plain": [
              "-21.112361960784316"
            ]
          },
          "metadata": {},
          "execution_count": 64
        }
      ]
    },
    {
      "cell_type": "code",
      "source": [
        "results.std()"
      ],
      "metadata": {
        "colab": {
          "base_uri": "https://localhost:8080/"
        },
        "id": "oIWFYGcig0Eb",
        "outputId": "f266aed5-aac0-4b40-b896-eed028939145"
      },
      "execution_count": null,
      "outputs": [
        {
          "output_type": "execute_result",
          "data": {
            "text/plain": [
              "9.698027772659461"
            ]
          },
          "metadata": {},
          "execution_count": 65
        }
      ]
    },
    {
      "cell_type": "markdown",
      "source": [
        "**30. Сделайте вывод о целесообразности создания программного конвеера.**\n",
        "\n",
        "Дерево решений без конвеера имеет значение -21.9, а в конвеере -21.1, т.е. в конвеере результат улучшился"
      ],
      "metadata": {
        "id": "p4DS3atsKtyM"
      }
    },
    {
      "cell_type": "markdown",
      "source": [
        "# **Раздел 4. Создание пайплайна (программного конвеера) для отбора признаков и моделирования**\n",
        "\n",
        "**31. Создайте пустой список в переменной features. В нем в дальнейшем будут содержаться отобранные признаки.**\n",
        "\n",
        "**32. С помощью функции append() добавьте в него кортеж, в котором содержится название метода главных компонент ('pca') и соответствующая функция PCA(n_components=4) из модуля sklearn.decomposition.**\n",
        "\n",
        "**33. Также добавьте в список кортеж с названием 'select_best' и соответствующую ей функцию SelectKBest(k=6) из модуля sklearn.feature_selection для отбора 6 лучших признаков.**\n",
        "\n",
        "**34. На основе созданного списка создайте программный конвеер для отбора признаков с помощью функции FeatureUnion() из модуля sklearn.pipeline. Результат запишите в переменную feature_union.**\n",
        "\n",
        "**35. Создайте пустой список в переменной estimators.**\n",
        "\n",
        "**36. С помощью функции append() добавьте в него кортеж, в котором содержится название 'feature_union' и созданный ранее конвеер для отбора признаков.**\n",
        "\n",
        "**37. Также добавьте в список кортеж с названием линейной регрессии ('LinRegr') и соответствующую ей функцию LinearRegression().**\n",
        "\n",
        "**38. На основе созданного списка создайте программный конвеер с помощью функции Pipeline() из модуля sklearn.pipeline. Результат запишите в переменную model.**\n",
        "\n",
        "**39. Задайте разбиение на фолды с помощью функции KFold(n_splits = n_splits, random_state = random_state, shuffle = True) из модуля sklearn.model_selection. Результат запишите в переменную kfold. На вход данной функции подайте следующую информацию: 1) количество частей, на которые должна разбиваться выборка (n_splits), - пусть 10; 2) счетчик случайных чисел (random_state) – пусть 7; 3) необходимость перемешивания данных выборки, задав параметр shuffle = True.**\n",
        "\n",
        "**40. Проведите кросс-валидацию, воспользовавшись функцией cross_val_score(model, X, Y, cv = kfold, scoring = scoring)  из модуля sklearn.model_selection. На вход подайте созданный программный конвеер. Результат запишите в переменную results.**\n",
        "\n",
        "**41. Выведите на экран среднюю величину средней квадратичной ошибки (MSE), взятую с отрицательным знаком, и стандартное отклонение полученных оценок, воспользовавшись, соответственно, функциями mean() и std(). Прокомментируйте полученный результат.**\n",
        "\n",
        "**42. Сделайте вывод о целесообразности создания программного **"
      ],
      "metadata": {
        "id": "2rbTOHDkLiei"
      }
    },
    {
      "cell_type": "code",
      "source": [
        "features=[]"
      ],
      "metadata": {
        "id": "-7i3ruMGg4En"
      },
      "execution_count": null,
      "outputs": []
    },
    {
      "cell_type": "code",
      "source": [
        "features.append(('pca',PCA(n_components=4)))\n",
        "# добавляем метод главных компонентов, который сжимает пространство признаков до = 4."
      ],
      "metadata": {
        "id": "cKl0fLxMh2Sd"
      },
      "execution_count": null,
      "outputs": []
    },
    {
      "cell_type": "code",
      "source": [
        "features.append(('select_best',SelectKBest(k=6)))\n",
        "# отбирает на основе статистических процедур 6 лучших признаков"
      ],
      "metadata": {
        "id": "_94PP69MiSrn"
      },
      "execution_count": null,
      "outputs": []
    },
    {
      "cell_type": "markdown",
      "source": [
        "**выше добавили методы отбора признаков для исключения утечки данных**"
      ],
      "metadata": {
        "id": "jS9LvKrsN8zu"
      }
    },
    {
      "cell_type": "code",
      "source": [
        "feature_union=FeatureUnion(features)"
      ],
      "metadata": {
        "id": "6p3Jwgqmijg4"
      },
      "execution_count": null,
      "outputs": []
    },
    {
      "cell_type": "code",
      "source": [
        "estimators=[]"
      ],
      "metadata": {
        "id": "YrRySP5Ui0Mv"
      },
      "execution_count": null,
      "outputs": []
    },
    {
      "cell_type": "code",
      "source": [
        "estimators.append(('feature_union',feature_union))"
      ],
      "metadata": {
        "id": "gWwJsnJ1i1FI"
      },
      "execution_count": null,
      "outputs": []
    },
    {
      "cell_type": "code",
      "source": [
        "estimators.append(('LinRegr',LinearRegression()))"
      ],
      "metadata": {
        "id": "NZxaZ5RKjH7Q"
      },
      "execution_count": null,
      "outputs": []
    },
    {
      "cell_type": "code",
      "source": [
        "model=Pipeline(estimators)"
      ],
      "metadata": {
        "id": "T6yLSmnyjdI3"
      },
      "execution_count": null,
      "outputs": []
    },
    {
      "cell_type": "code",
      "source": [
        "kfold=KFold(n_splits = 10, random_state = 7, shuffle = True)"
      ],
      "metadata": {
        "id": "iZn1ap-vjkiX"
      },
      "execution_count": null,
      "outputs": []
    },
    {
      "cell_type": "code",
      "source": [
        "results=cross_val_score(model, X, Y, cv = kfold, scoring = scoring)"
      ],
      "metadata": {
        "id": "dE5UF07wjs8x"
      },
      "execution_count": null,
      "outputs": []
    },
    {
      "cell_type": "code",
      "source": [
        "results.mean()"
      ],
      "metadata": {
        "id": "FOq4ze34jveH",
        "outputId": "902096f6-f454-4136-b047-0039d1bda3d1",
        "colab": {
          "base_uri": "https://localhost:8080/"
        }
      },
      "execution_count": null,
      "outputs": [
        {
          "output_type": "execute_result",
          "data": {
            "text/plain": [
              "-29.052082888799056"
            ]
          },
          "metadata": {},
          "execution_count": 77
        }
      ]
    },
    {
      "cell_type": "code",
      "source": [
        "results.std()"
      ],
      "metadata": {
        "id": "Nfs4Q1shjx9V",
        "outputId": "dc700feb-25f3-4067-dd7c-8e9728e29e35",
        "colab": {
          "base_uri": "https://localhost:8080/"
        }
      },
      "execution_count": null,
      "outputs": [
        {
          "output_type": "execute_result",
          "data": {
            "text/plain": [
              "12.930344160014172"
            ]
          },
          "metadata": {},
          "execution_count": 78
        }
      ]
    },
    {
      "cell_type": "code",
      "source": [],
      "metadata": {
        "id": "34lI9u7ij0fW"
      },
      "execution_count": null,
      "outputs": []
    }
  ]
}