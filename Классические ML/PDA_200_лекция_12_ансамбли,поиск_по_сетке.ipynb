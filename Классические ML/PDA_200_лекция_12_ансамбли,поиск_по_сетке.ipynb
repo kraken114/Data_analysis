{
  "nbformat": 4,
  "nbformat_minor": 0,
  "metadata": {
    "colab": {
      "provenance": []
    },
    "kernelspec": {
      "name": "python3",
      "display_name": "Python 3"
    },
    "language_info": {
      "name": "python"
    }
  },
  "cells": [
    {
      "cell_type": "code",
      "execution_count": null,
      "metadata": {
        "colab": {
          "base_uri": "https://localhost:8080/"
        },
        "id": "l0wrs8AxShPW",
        "outputId": "df8bf1df-f467-44b2-f020-d82ab0d5a740"
      },
      "outputs": [
        {
          "output_type": "stream",
          "name": "stdout",
          "text": [
            "Mounted at /content/gdrive\n"
          ]
        }
      ],
      "source": [
        "from google.colab import drive\n",
        "drive.mount('/content/gdrive')"
      ]
    },
    {
      "cell_type": "code",
      "source": [
        "import os\n",
        "from pandas import read_csv\n",
        "from sklearn.model_selection import KFold\n",
        "from sklearn.model_selection import cross_val_score\n",
        "# ансамблевые функции:\n",
        "from sklearn.ensemble import BaggingClassifier\n",
        "from sklearn.tree import DecisionTreeClassifier\n",
        "from sklearn.ensemble import RandomForestClassifier\n",
        "from sklearn.ensemble import ExtraTreesClassifier\n",
        "from sklearn.ensemble import AdaBoostClassifier\n",
        "from sklearn.ensemble import GradientBoostingClassifier\n",
        "from xgboost import XGBClassifier\n",
        "from sklearn.linear_model import LogisticRegression\n",
        "from sklearn.svm import SVC\n",
        "from sklearn.ensemble import VotingClassifier\n",
        "import numpy as np\n",
        "from sklearn.linear_model import RidgeClassifier\n",
        "from sklearn.model_selection import GridSearchCV\n",
        "from scipy.stats import uniform\n",
        "from sklearn.model_selection import RandomizedSearchCV\n",
        "from sklearn.model_selection import train_test_split\n",
        "# сохраняет параметры после перезагрузки:\n",
        "import pickle\n",
        "import joblib"
      ],
      "metadata": {
        "id": "-iIv6GB9TAA8"
      },
      "execution_count": null,
      "outputs": []
    },
    {
      "cell_type": "code",
      "source": [
        "os.chdir('/content/gdrive/MyDrive/Colab Notebooks/PDA-200')"
      ],
      "metadata": {
        "id": "4OLo3qrNrhrf"
      },
      "execution_count": null,
      "outputs": []
    },
    {
      "cell_type": "code",
      "source": [
        "filename='pima-indians-diabetes.data.csv'\n",
        "names=['preg', 'plas', 'pres', 'skin', 'test', 'mass', 'pedi', 'age', 'class']\n",
        "df=read_csv(filename,names=names)\n",
        "df.sample(6)"
      ],
      "metadata": {
        "colab": {
          "base_uri": "https://localhost:8080/",
          "height": 238
        },
        "id": "YMJQzefnbEWk",
        "outputId": "ab0032e9-8b31-449c-fdf5-5ac0fabf8e09"
      },
      "execution_count": null,
      "outputs": [
        {
          "output_type": "execute_result",
          "data": {
            "text/plain": [
              "     preg  plas  pres  skin  test  mass   pedi  age  class\n",
              "541     3   128    72    25   190  32.4  0.549   27      1\n",
              "25     10   125    70    26   115  31.1  0.205   41      1\n",
              "518    13    76    60     0     0  32.8  0.180   41      0\n",
              "537     0    57    60     0     0  21.7  0.735   67      0\n",
              "258     1   193    50    16   375  25.9  0.655   24      0\n",
              "488     4    99    72    17     0  25.6  0.294   28      0"
            ],
            "text/html": [
              "\n",
              "  <div id=\"df-3ab183b9-ef6b-47a2-b3ac-0595599d2778\">\n",
              "    <div class=\"colab-df-container\">\n",
              "      <div>\n",
              "<style scoped>\n",
              "    .dataframe tbody tr th:only-of-type {\n",
              "        vertical-align: middle;\n",
              "    }\n",
              "\n",
              "    .dataframe tbody tr th {\n",
              "        vertical-align: top;\n",
              "    }\n",
              "\n",
              "    .dataframe thead th {\n",
              "        text-align: right;\n",
              "    }\n",
              "</style>\n",
              "<table border=\"1\" class=\"dataframe\">\n",
              "  <thead>\n",
              "    <tr style=\"text-align: right;\">\n",
              "      <th></th>\n",
              "      <th>preg</th>\n",
              "      <th>plas</th>\n",
              "      <th>pres</th>\n",
              "      <th>skin</th>\n",
              "      <th>test</th>\n",
              "      <th>mass</th>\n",
              "      <th>pedi</th>\n",
              "      <th>age</th>\n",
              "      <th>class</th>\n",
              "    </tr>\n",
              "  </thead>\n",
              "  <tbody>\n",
              "    <tr>\n",
              "      <th>541</th>\n",
              "      <td>3</td>\n",
              "      <td>128</td>\n",
              "      <td>72</td>\n",
              "      <td>25</td>\n",
              "      <td>190</td>\n",
              "      <td>32.4</td>\n",
              "      <td>0.549</td>\n",
              "      <td>27</td>\n",
              "      <td>1</td>\n",
              "    </tr>\n",
              "    <tr>\n",
              "      <th>25</th>\n",
              "      <td>10</td>\n",
              "      <td>125</td>\n",
              "      <td>70</td>\n",
              "      <td>26</td>\n",
              "      <td>115</td>\n",
              "      <td>31.1</td>\n",
              "      <td>0.205</td>\n",
              "      <td>41</td>\n",
              "      <td>1</td>\n",
              "    </tr>\n",
              "    <tr>\n",
              "      <th>518</th>\n",
              "      <td>13</td>\n",
              "      <td>76</td>\n",
              "      <td>60</td>\n",
              "      <td>0</td>\n",
              "      <td>0</td>\n",
              "      <td>32.8</td>\n",
              "      <td>0.180</td>\n",
              "      <td>41</td>\n",
              "      <td>0</td>\n",
              "    </tr>\n",
              "    <tr>\n",
              "      <th>537</th>\n",
              "      <td>0</td>\n",
              "      <td>57</td>\n",
              "      <td>60</td>\n",
              "      <td>0</td>\n",
              "      <td>0</td>\n",
              "      <td>21.7</td>\n",
              "      <td>0.735</td>\n",
              "      <td>67</td>\n",
              "      <td>0</td>\n",
              "    </tr>\n",
              "    <tr>\n",
              "      <th>258</th>\n",
              "      <td>1</td>\n",
              "      <td>193</td>\n",
              "      <td>50</td>\n",
              "      <td>16</td>\n",
              "      <td>375</td>\n",
              "      <td>25.9</td>\n",
              "      <td>0.655</td>\n",
              "      <td>24</td>\n",
              "      <td>0</td>\n",
              "    </tr>\n",
              "    <tr>\n",
              "      <th>488</th>\n",
              "      <td>4</td>\n",
              "      <td>99</td>\n",
              "      <td>72</td>\n",
              "      <td>17</td>\n",
              "      <td>0</td>\n",
              "      <td>25.6</td>\n",
              "      <td>0.294</td>\n",
              "      <td>28</td>\n",
              "      <td>0</td>\n",
              "    </tr>\n",
              "  </tbody>\n",
              "</table>\n",
              "</div>\n",
              "      <button class=\"colab-df-convert\" onclick=\"convertToInteractive('df-3ab183b9-ef6b-47a2-b3ac-0595599d2778')\"\n",
              "              title=\"Convert this dataframe to an interactive table.\"\n",
              "              style=\"display:none;\">\n",
              "        \n",
              "  <svg xmlns=\"http://www.w3.org/2000/svg\" height=\"24px\"viewBox=\"0 0 24 24\"\n",
              "       width=\"24px\">\n",
              "    <path d=\"M0 0h24v24H0V0z\" fill=\"none\"/>\n",
              "    <path d=\"M18.56 5.44l.94 2.06.94-2.06 2.06-.94-2.06-.94-.94-2.06-.94 2.06-2.06.94zm-11 1L8.5 8.5l.94-2.06 2.06-.94-2.06-.94L8.5 2.5l-.94 2.06-2.06.94zm10 10l.94 2.06.94-2.06 2.06-.94-2.06-.94-.94-2.06-.94 2.06-2.06.94z\"/><path d=\"M17.41 7.96l-1.37-1.37c-.4-.4-.92-.59-1.43-.59-.52 0-1.04.2-1.43.59L10.3 9.45l-7.72 7.72c-.78.78-.78 2.05 0 2.83L4 21.41c.39.39.9.59 1.41.59.51 0 1.02-.2 1.41-.59l7.78-7.78 2.81-2.81c.8-.78.8-2.07 0-2.86zM5.41 20L4 18.59l7.72-7.72 1.47 1.35L5.41 20z\"/>\n",
              "  </svg>\n",
              "      </button>\n",
              "      \n",
              "  <style>\n",
              "    .colab-df-container {\n",
              "      display:flex;\n",
              "      flex-wrap:wrap;\n",
              "      gap: 12px;\n",
              "    }\n",
              "\n",
              "    .colab-df-convert {\n",
              "      background-color: #E8F0FE;\n",
              "      border: none;\n",
              "      border-radius: 50%;\n",
              "      cursor: pointer;\n",
              "      display: none;\n",
              "      fill: #1967D2;\n",
              "      height: 32px;\n",
              "      padding: 0 0 0 0;\n",
              "      width: 32px;\n",
              "    }\n",
              "\n",
              "    .colab-df-convert:hover {\n",
              "      background-color: #E2EBFA;\n",
              "      box-shadow: 0px 1px 2px rgba(60, 64, 67, 0.3), 0px 1px 3px 1px rgba(60, 64, 67, 0.15);\n",
              "      fill: #174EA6;\n",
              "    }\n",
              "\n",
              "    [theme=dark] .colab-df-convert {\n",
              "      background-color: #3B4455;\n",
              "      fill: #D2E3FC;\n",
              "    }\n",
              "\n",
              "    [theme=dark] .colab-df-convert:hover {\n",
              "      background-color: #434B5C;\n",
              "      box-shadow: 0px 1px 3px 1px rgba(0, 0, 0, 0.15);\n",
              "      filter: drop-shadow(0px 1px 2px rgba(0, 0, 0, 0.3));\n",
              "      fill: #FFFFFF;\n",
              "    }\n",
              "  </style>\n",
              "\n",
              "      <script>\n",
              "        const buttonEl =\n",
              "          document.querySelector('#df-3ab183b9-ef6b-47a2-b3ac-0595599d2778 button.colab-df-convert');\n",
              "        buttonEl.style.display =\n",
              "          google.colab.kernel.accessAllowed ? 'block' : 'none';\n",
              "\n",
              "        async function convertToInteractive(key) {\n",
              "          const element = document.querySelector('#df-3ab183b9-ef6b-47a2-b3ac-0595599d2778');\n",
              "          const dataTable =\n",
              "            await google.colab.kernel.invokeFunction('convertToInteractive',\n",
              "                                                     [key], {});\n",
              "          if (!dataTable) return;\n",
              "\n",
              "          const docLinkHtml = 'Like what you see? Visit the ' +\n",
              "            '<a target=\"_blank\" href=https://colab.research.google.com/notebooks/data_table.ipynb>data table notebook</a>'\n",
              "            + ' to learn more about interactive tables.';\n",
              "          element.innerHTML = '';\n",
              "          dataTable['output_type'] = 'display_data';\n",
              "          await google.colab.output.renderOutput(dataTable, element);\n",
              "          const docLink = document.createElement('div');\n",
              "          docLink.innerHTML = docLinkHtml;\n",
              "          element.appendChild(docLink);\n",
              "        }\n",
              "      </script>\n",
              "    </div>\n",
              "  </div>\n",
              "  "
            ]
          },
          "metadata": {},
          "execution_count": 4
        }
      ]
    },
    {
      "cell_type": "code",
      "source": [
        "array = df.values\n",
        "array"
      ],
      "metadata": {
        "colab": {
          "base_uri": "https://localhost:8080/"
        },
        "id": "BeR0Zce7b8kp",
        "outputId": "b42f5c55-08bd-4c2c-fefe-ca48e9b4af1f"
      },
      "execution_count": null,
      "outputs": [
        {
          "output_type": "execute_result",
          "data": {
            "text/plain": [
              "array([[  6.   , 148.   ,  72.   , ...,   0.627,  50.   ,   1.   ],\n",
              "       [  1.   ,  85.   ,  66.   , ...,   0.351,  31.   ,   0.   ],\n",
              "       [  8.   , 183.   ,  64.   , ...,   0.672,  32.   ,   1.   ],\n",
              "       ...,\n",
              "       [  5.   , 121.   ,  72.   , ...,   0.245,  30.   ,   0.   ],\n",
              "       [  1.   , 126.   ,  60.   , ...,   0.349,  47.   ,   1.   ],\n",
              "       [  1.   ,  93.   ,  70.   , ...,   0.315,  23.   ,   0.   ]])"
            ]
          },
          "metadata": {},
          "execution_count": 5
        }
      ]
    },
    {
      "cell_type": "code",
      "source": [
        "X = array[:,:8]\n",
        "Y = array[:,8]"
      ],
      "metadata": {
        "id": "GSAE4tqGBkrY"
      },
      "execution_count": null,
      "outputs": []
    },
    {
      "cell_type": "code",
      "source": [
        "test_size = 0.2\n",
        "seed = 7"
      ],
      "metadata": {
        "id": "zw-0SWTOChTP"
      },
      "execution_count": null,
      "outputs": []
    },
    {
      "cell_type": "code",
      "source": [
        "X_train, X_test, Y_train, Y_test = train_test_split(X,Y, test_size=test_size,random_state=seed)"
      ],
      "metadata": {
        "id": "wXFxwLSgB_l4"
      },
      "execution_count": null,
      "outputs": []
    },
    {
      "cell_type": "code",
      "source": [],
      "metadata": {
        "id": "70e21oirdJGO"
      },
      "execution_count": null,
      "outputs": []
    },
    {
      "cell_type": "markdown",
      "source": [
        "**16. Постройте модель AdaBoost, воспользовавшись функцией AdaBoostClassifier(n_estimators = n_estimators, random_state = random_state) из модуля sklearn.ensemble. Результат запишите в переменную model. На вход данной функции подайте следующую информацию: 1) число моделей (n_estimators) – пусть 30; 2) счетчик случайных чисел (random_state) – пусть 7.**"
      ],
      "metadata": {
        "id": "sRXO-Fuid2f4"
      }
    },
    {
      "cell_type": "code",
      "source": [
        "models=[]"
      ],
      "metadata": {
        "id": "CK6bCewNDgUH"
      },
      "execution_count": null,
      "outputs": []
    },
    {
      "cell_type": "code",
      "source": [
        "kfold=KFold(n_splits=10,random_state=7,shuffle=True)"
      ],
      "metadata": {
        "id": "IoSiCEgWqFLH"
      },
      "execution_count": null,
      "outputs": []
    },
    {
      "cell_type": "code",
      "source": [
        "model=AdaBoostClassifier(n_estimators = 30, random_state = 7)"
      ],
      "metadata": {
        "id": "UZKRYQTsJm6y"
      },
      "execution_count": null,
      "outputs": []
    },
    {
      "cell_type": "code",
      "source": [
        "results=cross_val_score(model, X, Y, cv=kfold)"
      ],
      "metadata": {
        "id": "P-KsATdfKKT0"
      },
      "execution_count": null,
      "outputs": []
    },
    {
      "cell_type": "code",
      "source": [
        "model.fit(X,Y)"
      ],
      "metadata": {
        "colab": {
          "base_uri": "https://localhost:8080/"
        },
        "id": "qD_-X6DjLF02",
        "outputId": "d6034948-93ea-446e-da85-f4aa14bc590b"
      },
      "execution_count": null,
      "outputs": [
        {
          "output_type": "execute_result",
          "data": {
            "text/plain": [
              "AdaBoostClassifier(n_estimators=30, random_state=7)"
            ]
          },
          "metadata": {},
          "execution_count": 13
        }
      ]
    },
    {
      "cell_type": "code",
      "source": [
        "results.mean(),results.std()"
      ],
      "metadata": {
        "colab": {
          "base_uri": "https://localhost:8080/"
        },
        "id": "x-IuEjl6KVH_",
        "outputId": "deede686-12b7-4ef9-fdc5-8d8345732bd7"
      },
      "execution_count": null,
      "outputs": [
        {
          "output_type": "execute_result",
          "data": {
            "text/plain": [
              "(0.7552802460697198, 0.03714314031994427)"
            ]
          },
          "metadata": {},
          "execution_count": 14
        }
      ]
    },
    {
      "cell_type": "markdown",
      "source": [
        "**20. Постройте модель Gradient Boosting Machines, воспользовавшись функцией GradientBoostingClassifier(n_estimators = n_estimators, random_state = random_state) из модуля sklearn.ensemble. Результат запишите в переменную model. На вход данной функции подайте следующую информацию: 1) число моделей (n_estimators) – пусть 100; 2) счетчик случайных чисел (random_state) – пусть 7.**\n",
        "\n",
        "**21. Проведите кросс-валидацию, воспользовавшись функцией cross_val_score(model, X, Y, cv=kfold) из модуля sklearn.model_selection. Результат запишите в переменную results.**\n",
        "\n",
        "**22. Выведите на экран среднюю долю правильных ответов (accuracy) и стандартное отклонение полученных оценок, воспользовавшись функциями mean() и std() соответственно.**\n"
      ],
      "metadata": {
        "id": "3KM4Q-0JeUTy"
      }
    },
    {
      "cell_type": "code",
      "source": [],
      "metadata": {
        "id": "IsAgzH6QeekM"
      },
      "execution_count": null,
      "outputs": []
    },
    {
      "cell_type": "code",
      "source": [
        "kfold=KFold(n_splits=10,random_state=7,shuffle=True)"
      ],
      "metadata": {
        "id": "CiHxE_6DekI4"
      },
      "execution_count": null,
      "outputs": []
    },
    {
      "cell_type": "code",
      "source": [
        "model=GradientBoostingClassifier(n_estimators = 30, random_state = 7)"
      ],
      "metadata": {
        "id": "1P3cVaBBekI5"
      },
      "execution_count": null,
      "outputs": []
    },
    {
      "cell_type": "code",
      "source": [
        "results=cross_val_score(model, X, Y, cv=kfold)"
      ],
      "metadata": {
        "id": "YD4Zt-3FekI5"
      },
      "execution_count": null,
      "outputs": []
    },
    {
      "cell_type": "code",
      "source": [
        "model.fit(X,Y)"
      ],
      "metadata": {
        "colab": {
          "base_uri": "https://localhost:8080/"
        },
        "outputId": "8f9a9697-4663-48ea-ea8c-13a8bbb8fc1c",
        "id": "koXG5BwrekI5"
      },
      "execution_count": null,
      "outputs": [
        {
          "output_type": "execute_result",
          "data": {
            "text/plain": [
              "GradientBoostingClassifier(n_estimators=30, random_state=7)"
            ]
          },
          "metadata": {},
          "execution_count": 18
        }
      ]
    },
    {
      "cell_type": "code",
      "source": [
        "results.mean(),results.std()"
      ],
      "metadata": {
        "colab": {
          "base_uri": "https://localhost:8080/"
        },
        "outputId": "e86f25c5-9904-466d-96da-5bb718ee126d",
        "id": "T6nAdO1xekI6"
      },
      "execution_count": null,
      "outputs": [
        {
          "output_type": "execute_result",
          "data": {
            "text/plain": [
              "(0.760475051264525, 0.03827064937627645)"
            ]
          },
          "metadata": {},
          "execution_count": 19
        }
      ]
    },
    {
      "cell_type": "markdown",
      "source": [
        "Постройте модель XGBoost, воспользовавшись функцией XGBClassifier(seed = seed, n_estimators = n_estimators, max_depth = max_depth, learning_rate = learning_rate) из модуля xgboost. Результат запишите в переменную model. На вход данной функции подайте следующую информацию: 1) число моделей (n_estimators) – пусть 100; 2) счетчик случайных чисел (seed) – пусть 7; 3) максимальная глубина деревьев (max_depth) – пусть 6; 4) скорость обучения (learning_rate) – пусть 0,3.\n",
        "Проведите кросс-валидацию, воспользовавшись функцией cross_val_score(model, X, Y, cv=kfold) из модуля sklearn.model_selection. Результат запишите в переменную results.  \n",
        "Выведите на экран среднюю долю правильных ответов (accuracy) и стандартное отклонение полученных оценок, воспользовавшись функциями mean() и std() соответственно.\n"
      ],
      "metadata": {
        "id": "afIV14x1eu4R"
      }
    },
    {
      "cell_type": "code",
      "source": [],
      "metadata": {
        "id": "nPBLLLTOe0Ir"
      },
      "execution_count": null,
      "outputs": []
    },
    {
      "cell_type": "code",
      "source": [
        "model=XGBClassifier(seed = 7, n_estimators = 100, max_depth = 6, learning_rate = 0.3)"
      ],
      "metadata": {
        "id": "jqPl2EwWe14v"
      },
      "execution_count": null,
      "outputs": []
    },
    {
      "cell_type": "code",
      "source": [
        "results=cross_val_score(model, X, Y, cv=kfold)"
      ],
      "metadata": {
        "id": "Ag2gpb9ke14v"
      },
      "execution_count": null,
      "outputs": []
    },
    {
      "cell_type": "code",
      "source": [
        "model.fit(X,Y)"
      ],
      "metadata": {
        "colab": {
          "base_uri": "https://localhost:8080/"
        },
        "outputId": "7e214163-2d31-4d50-c221-8df4e80206bb",
        "id": "RFp30Q-Fe14w"
      },
      "execution_count": null,
      "outputs": [
        {
          "output_type": "execute_result",
          "data": {
            "text/plain": [
              "XGBClassifier(learning_rate=0.3, max_depth=6, seed=7)"
            ]
          },
          "metadata": {},
          "execution_count": 22
        }
      ]
    },
    {
      "cell_type": "code",
      "source": [
        "results.mean(),results.std()"
      ],
      "metadata": {
        "colab": {
          "base_uri": "https://localhost:8080/"
        },
        "outputId": "689ab220-a75e-4509-f0a4-7f1a78cd920a",
        "id": "pHlbU2nze14w"
      },
      "execution_count": null,
      "outputs": [
        {
          "output_type": "execute_result",
          "data": {
            "text/plain": [
              "(0.7252563226247437, 0.054698060316421986)"
            ]
          },
          "metadata": {},
          "execution_count": 23
        }
      ]
    },
    {
      "cell_type": "markdown",
      "source": [
        "**15. Добавьте в список models с помощью функции append() набор из кортежей, первый элемент которого содержит название модели, а второй – функцию для создания соответствующей модели. Включите все линейные и нелинейные модели для классификации, рассмотренные в заданиях 7 и 8. Можно при этом воспользоваться следующими сокращениями:**\n",
        "\n",
        "**LR – логистическая регрессия;**\n",
        "\n",
        "**SVM – линейный метод опорных векторов;**\n",
        "\n",
        "**LDA – линейный дискриминантный анализ;**\n",
        "\n",
        "**KNN - модель ближайшего соседа;**\n",
        "\n",
        "**NB - наивный байесовский классификатор;**\n",
        "\n",
        "**CART - модель решающего дерева.**"
      ],
      "metadata": {
        "id": "geQtBTe1Doeu"
      }
    },
    {
      "cell_type": "code",
      "source": [
        "estimators=[]"
      ],
      "metadata": {
        "id": "44NST3tBfh8D"
      },
      "execution_count": null,
      "outputs": []
    },
    {
      "cell_type": "code",
      "source": [
        "estimators.append(('LR',LogisticRegression()))"
      ],
      "metadata": {
        "id": "zbQy04TuF3mC"
      },
      "execution_count": null,
      "outputs": []
    },
    {
      "cell_type": "code",
      "source": [
        "estimators.append(('DTC',DecisionTreeClassifier()))"
      ],
      "metadata": {
        "id": "7P8nh28ggAYh"
      },
      "execution_count": null,
      "outputs": []
    },
    {
      "cell_type": "code",
      "source": [
        "estimators.append(('SVM',SVC()))"
      ],
      "metadata": {
        "id": "LOtGcWNQGU7j"
      },
      "execution_count": null,
      "outputs": []
    },
    {
      "cell_type": "code",
      "source": [
        "ensemble=VotingClassifier(estimators) #создаем ансамбль"
      ],
      "metadata": {
        "id": "_vjpmhvugV8u"
      },
      "execution_count": null,
      "outputs": []
    },
    {
      "cell_type": "code",
      "source": [
        "results=cross_val_score(ensemble, X, Y, cv=kfold)"
      ],
      "metadata": {
        "id": "Xx4L7dpGhSLp"
      },
      "execution_count": null,
      "outputs": []
    },
    {
      "cell_type": "code",
      "source": [
        "results.mean(),results.std()"
      ],
      "metadata": {
        "colab": {
          "base_uri": "https://localhost:8080/"
        },
        "outputId": "5a1fbbfc-8484-4fe0-a51f-ca4c238f7f70",
        "id": "K4RN5hSYhSLq"
      },
      "execution_count": null,
      "outputs": [
        {
          "output_type": "execute_result",
          "data": {
            "text/plain": [
              "(0.7721633629528367, 0.046794028857935085)"
            ]
          },
          "metadata": {},
          "execution_count": 30
        }
      ]
    },
    {
      "cell_type": "markdown",
      "source": [
        "**Раздел 2. Настройка алгоритмов**\n",
        "\n",
        "**Параграф 2.1. Grid Search Parameter Tuning (поиск по сетке параметра)**\n"
      ],
      "metadata": {
        "id": "o2FVmgA_nG2E"
      }
    },
    {
      "cell_type": "code",
      "source": [
        "----------------------------------------------------------"
      ],
      "metadata": {
        "id": "bw5C24j9nWw1"
      },
      "execution_count": null,
      "outputs": []
    },
    {
      "cell_type": "markdown",
      "source": [
        "делаем **тренировочную, тестовую и валидационную** выборки"
      ],
      "metadata": {
        "id": "sbaYExiyna1r"
      }
    },
    {
      "cell_type": "code",
      "source": [
        "X_train_test, X_val, Y_train_test, Y_val = train_test_split(X, Y, test_size=0.25, random_state= 7)"
      ],
      "metadata": {
        "id": "SOexrfCugWRz"
      },
      "execution_count": null,
      "outputs": []
    },
    {
      "cell_type": "code",
      "source": [
        "X_train, X_test, Y_train, Y_test = train_test_split(X_train_test, Y_train_test, test_size=0.25, shuffle=True, random_state=7)"
      ],
      "metadata": {
        "id": "UHdT9LB4lwea"
      },
      "execution_count": null,
      "outputs": []
    },
    {
      "cell_type": "code",
      "source": [
        "-----------------------------------------------------------"
      ],
      "metadata": {
        "id": "y_gNUAoFlwat"
      },
      "execution_count": null,
      "outputs": []
    },
    {
      "cell_type": "code",
      "source": [
        "alphas=np.array([1,0.1,0.01,0.001,0.0001,0])"
      ],
      "metadata": {
        "id": "Ymyf7xl4lwXh"
      },
      "execution_count": null,
      "outputs": []
    },
    {
      "cell_type": "code",
      "source": [
        "param_grid=dict(alpha=alphas)"
      ],
      "metadata": {
        "id": "C6YbW2cnlwSj"
      },
      "execution_count": null,
      "outputs": []
    },
    {
      "cell_type": "code",
      "source": [
        "model=RidgeClassifier()"
      ],
      "metadata": {
        "id": "qdPEDwC6owTF"
      },
      "execution_count": null,
      "outputs": []
    },
    {
      "cell_type": "code",
      "source": [
        "grid=GridSearchCV(estimator = model, param_grid = param_grid, cv = 3)"
      ],
      "metadata": {
        "id": "yIQlAcYwlwPx"
      },
      "execution_count": null,
      "outputs": []
    },
    {
      "cell_type": "code",
      "source": [
        "grid.fit(X_val, Y_val)"
      ],
      "metadata": {
        "colab": {
          "base_uri": "https://localhost:8080/"
        },
        "id": "29AYC5YulwMw",
        "outputId": "d8bc052e-7dc0-499b-f8ff-8e08d235d349"
      },
      "execution_count": null,
      "outputs": [
        {
          "output_type": "execute_result",
          "data": {
            "text/plain": [
              "GridSearchCV(cv=3, estimator=RidgeClassifier(),\n",
              "             param_grid={'alpha': array([1.e+00, 1.e-01, 1.e-02, 1.e-03, 1.e-04, 0.e+00])})"
            ]
          },
          "metadata": {},
          "execution_count": 37
        }
      ]
    },
    {
      "cell_type": "code",
      "source": [
        "grid.best_score_"
      ],
      "metadata": {
        "colab": {
          "base_uri": "https://localhost:8080/"
        },
        "id": "Nejc5aOHpZni",
        "outputId": "6e77df94-ca27-42ba-dac0-2394a8ed9e75"
      },
      "execution_count": null,
      "outputs": [
        {
          "output_type": "execute_result",
          "data": {
            "text/plain": [
              "0.7447916666666666"
            ]
          },
          "metadata": {},
          "execution_count": 38
        }
      ]
    },
    {
      "cell_type": "code",
      "source": [
        "grid.best_estimator_.alpha"
      ],
      "metadata": {
        "colab": {
          "base_uri": "https://localhost:8080/"
        },
        "id": "nfHrKeTMpZkF",
        "outputId": "dccb3cbf-5a54-491e-8c10-d8635b944da0"
      },
      "execution_count": null,
      "outputs": [
        {
          "output_type": "execute_result",
          "data": {
            "text/plain": [
              "1.0"
            ]
          },
          "metadata": {},
          "execution_count": 39
        }
      ]
    },
    {
      "cell_type": "markdown",
      "source": [
        "**Параграф 2.2. Random Search Parameter Tuning (случайный поиск по сетке)**"
      ],
      "metadata": {
        "id": "oMieftomrRgl"
      }
    },
    {
      "cell_type": "code",
      "source": [
        "X_train_test, X_val, Y_train_test, Y_val = train_test_split(X, Y, test_size=0.25, random_state= 7)"
      ],
      "metadata": {
        "id": "-Kj7SM9hrnjw"
      },
      "execution_count": null,
      "outputs": []
    },
    {
      "cell_type": "code",
      "source": [
        "param_grid = {'alpha':uniform()}"
      ],
      "metadata": {
        "id": "Yks1jul3FigP"
      },
      "execution_count": null,
      "outputs": []
    },
    {
      "cell_type": "code",
      "source": [
        "model=RidgeClassifier()"
      ],
      "metadata": {
        "id": "CvKnIqEmFic-"
      },
      "execution_count": null,
      "outputs": []
    },
    {
      "cell_type": "code",
      "source": [
        "rsearch=RandomizedSearchCV(estimator = model, param_distributions = param_grid, n_iter = 100, cv = 3, random_state= 7)"
      ],
      "metadata": {
        "id": "sFz_Vv9pFiZ0"
      },
      "execution_count": null,
      "outputs": []
    },
    {
      "cell_type": "code",
      "source": [
        "rsearch.fit(X_val, Y_val)"
      ],
      "metadata": {
        "colab": {
          "base_uri": "https://localhost:8080/"
        },
        "id": "kptFpxqYFiWY",
        "outputId": "0fcf9c21-baf5-4be1-e52e-64e45b299fd2"
      },
      "execution_count": null,
      "outputs": [
        {
          "output_type": "execute_result",
          "data": {
            "text/plain": [
              "RandomizedSearchCV(cv=3, estimator=RidgeClassifier(), n_iter=100,\n",
              "                   param_distributions={'alpha': <scipy.stats._distn_infrastructure.rv_frozen object at 0x7f7b1a8e8090>},\n",
              "                   random_state=7)"
            ]
          },
          "metadata": {},
          "execution_count": 46
        }
      ]
    },
    {
      "cell_type": "code",
      "source": [
        "rsearch.best_score_"
      ],
      "metadata": {
        "colab": {
          "base_uri": "https://localhost:8080/"
        },
        "outputId": "e5de8c1c-419d-40a1-f0ab-7a5f0cdd2bc1",
        "id": "wS4H-BQEGt4u"
      },
      "execution_count": null,
      "outputs": [
        {
          "output_type": "execute_result",
          "data": {
            "text/plain": [
              "0.7447916666666666"
            ]
          },
          "metadata": {},
          "execution_count": 47
        }
      ]
    },
    {
      "cell_type": "code",
      "source": [
        "rsearch.best_estimator_.alpha"
      ],
      "metadata": {
        "colab": {
          "base_uri": "https://localhost:8080/"
        },
        "outputId": "bd807613-8c20-4f97-e47f-5641d100f293",
        "id": "FRwLGYiAGt4u"
      },
      "execution_count": null,
      "outputs": [
        {
          "output_type": "execute_result",
          "data": {
            "text/plain": [
              "0.07630828937395717"
            ]
          },
          "metadata": {},
          "execution_count": 48
        }
      ]
    },
    {
      "cell_type": "code",
      "source": [
        "RidgeClassifier(alpha=grid.best_estimator_.alpha)"
      ],
      "metadata": {
        "colab": {
          "base_uri": "https://localhost:8080/"
        },
        "id": "NimdIYQ2GtV1",
        "outputId": "c4fd7ad0-aa15-4d61-d407-dc05527f22d1"
      },
      "execution_count": null,
      "outputs": [
        {
          "output_type": "execute_result",
          "data": {
            "text/plain": [
              "RidgeClassifier()"
            ]
          },
          "metadata": {},
          "execution_count": 49
        }
      ]
    },
    {
      "cell_type": "code",
      "source": [
        "kfold=KFold(n_splits=10, random_state=7, shuffle=True)"
      ],
      "metadata": {
        "id": "5Ej6ubzdGtSK"
      },
      "execution_count": null,
      "outputs": []
    },
    {
      "cell_type": "code",
      "source": [
        "results=cross_val_score(model, X_train_test, Y_train_test, cv=kfold)"
      ],
      "metadata": {
        "id": "ApJTicwLGtPL"
      },
      "execution_count": null,
      "outputs": []
    },
    {
      "cell_type": "code",
      "source": [
        "results.mean(),results.std()"
      ],
      "metadata": {
        "colab": {
          "base_uri": "https://localhost:8080/"
        },
        "id": "HpOEf3T2Ha5b",
        "outputId": "db7572d9-d8a0-4546-bb1b-5cd46507d214"
      },
      "execution_count": null,
      "outputs": [
        {
          "output_type": "execute_result",
          "data": {
            "text/plain": [
              "(0.7655172413793103, 0.03812039596415386)"
            ]
          },
          "metadata": {},
          "execution_count": 55
        }
      ]
    },
    {
      "cell_type": "code",
      "source": [],
      "metadata": {
        "id": "tacMLqfVHa29"
      },
      "execution_count": null,
      "outputs": []
    },
    {
      "cell_type": "markdown",
      "source": [
        "**Хрень какая-то:**"
      ],
      "metadata": {
        "id": "rr_qr__kKaEw"
      }
    },
    {
      "cell_type": "code",
      "source": [
        "for train_index,test_index in kfold.split(X_train_test):\n",
        "    model.fit(X[train_index],Y[train_index])\n",
        "    print('train',model.score(X[train_index],Y[train_index]),'test',model.score(X[test_index],Y[test_index]))\n",
        "#    print(train_index,test_index)"
      ],
      "metadata": {
        "colab": {
          "base_uri": "https://localhost:8080/"
        },
        "id": "OcXDAaZdILwg",
        "outputId": "21a5da2f-facc-4b02-c8a1-9b15ec3aa8da"
      },
      "execution_count": null,
      "outputs": [
        {
          "output_type": "stream",
          "name": "stdout",
          "text": [
            "train 0.7895752895752896 test 0.6724137931034483\n",
            "train 0.7799227799227799 test 0.8103448275862069\n",
            "train 0.7722007722007722 test 0.8103448275862069\n",
            "train 0.7741312741312741 test 0.8103448275862069\n",
            "train 0.7799227799227799 test 0.7413793103448276\n",
            "train 0.7644787644787645 test 0.8103448275862069\n",
            "train 0.7880539499036608 test 0.6842105263157895\n",
            "train 0.7745664739884393 test 0.8596491228070176\n",
            "train 0.7745664739884393 test 0.8070175438596491\n",
            "train 0.7784200385356455 test 0.7192982456140351\n"
          ]
        }
      ]
    },
    {
      "cell_type": "code",
      "source": [
        "----------------------------------------------------------"
      ],
      "metadata": {
        "id": "akSf77POMuIy"
      },
      "execution_count": null,
      "outputs": []
    },
    {
      "cell_type": "markdown",
      "source": [
        "\n",
        "**СОЗДАЕМ,СОХРАНЯЕМ МОДЕЛЬ:**\n"
      ],
      "metadata": {
        "id": "d4XeOSm-Ktn7"
      }
    },
    {
      "cell_type": "code",
      "source": [
        "X_train, X_test, Y_train, Y_test=train_test_split(X, Y, test_size = 0.33, random_state = 7)"
      ],
      "metadata": {
        "id": "fVjp6iCNILuT"
      },
      "execution_count": null,
      "outputs": []
    },
    {
      "cell_type": "code",
      "source": [
        "model=LogisticRegression(solver='liblinear').fit(X_train,Y_train)"
      ],
      "metadata": {
        "id": "n3e6_aQwILrc"
      },
      "execution_count": null,
      "outputs": []
    },
    {
      "cell_type": "code",
      "source": [
        "filename='/content/gdrive/MyDrive/Colab Notebooks/DOM/finalized_model.sav'"
      ],
      "metadata": {
        "id": "jSeTjD3zLitd"
      },
      "execution_count": null,
      "outputs": []
    },
    {
      "cell_type": "code",
      "source": [
        "pickle.dump(model, open(filename, 'wb'))"
      ],
      "metadata": {
        "id": "yUNy6ht4ILme"
      },
      "execution_count": null,
      "outputs": []
    },
    {
      "cell_type": "markdown",
      "source": [
        "**ЗАГРУЖАЕМ,ИСПОЛЬЗУЕМ МОДЕЛЬ:**"
      ],
      "metadata": {
        "id": "5UpTfdhMM-wU"
      }
    },
    {
      "cell_type": "code",
      "source": [
        "loaded_model=pickle.load(open(filename, 'rb'))"
      ],
      "metadata": {
        "id": "iUIpo4kYLMdw"
      },
      "execution_count": null,
      "outputs": []
    },
    {
      "cell_type": "code",
      "source": [
        "loaded_model.score(X_test,Y_test)"
      ],
      "metadata": {
        "colab": {
          "base_uri": "https://localhost:8080/"
        },
        "id": "E3FWP25SLMj_",
        "outputId": "0116ca98-76fe-40d6-f6a8-30a3ccc7cd7a"
      },
      "execution_count": null,
      "outputs": [
        {
          "output_type": "execute_result",
          "data": {
            "text/plain": [
              "0.7559055118110236"
            ]
          },
          "metadata": {},
          "execution_count": 67
        }
      ]
    },
    {
      "cell_type": "code",
      "source": [
        "------------------------------------------------------------\n",
        "------------------------------------------------------------"
      ],
      "metadata": {
        "id": "vHaiBRI7LMgw"
      },
      "execution_count": null,
      "outputs": []
    },
    {
      "cell_type": "code",
      "source": [
        "----------------------------------------------------------"
      ],
      "metadata": {
        "id": "JHqRjCb9NfrT"
      },
      "execution_count": null,
      "outputs": []
    },
    {
      "cell_type": "markdown",
      "source": [
        "\n",
        "**СОЗДАЕМ,СОХРАНЯЕМ МОДЕЛЬ(используем joblib):**\n"
      ],
      "metadata": {
        "id": "c6fuAmnqNfrY"
      }
    },
    {
      "cell_type": "code",
      "source": [
        "joblib.dump(model, filename)"
      ],
      "metadata": {
        "colab": {
          "base_uri": "https://localhost:8080/"
        },
        "id": "P9FqRuKiNqF_",
        "outputId": "8e80b7a0-8989-4bf1-8296-423e486f8d32"
      },
      "execution_count": null,
      "outputs": [
        {
          "output_type": "execute_result",
          "data": {
            "text/plain": [
              "['/content/gdrive/MyDrive/Colab Notebooks/DOM/finalized_model.sav']"
            ]
          },
          "metadata": {},
          "execution_count": 68
        }
      ]
    },
    {
      "cell_type": "markdown",
      "source": [
        "**ЗАГРУЖАЕМ,ИСПОЛЬЗУЕМ МОДЕЛЬ:**"
      ],
      "metadata": {
        "id": "mCYv2S97NfrZ"
      }
    },
    {
      "cell_type": "code",
      "source": [
        "loaded_model=joblib.load(filename)"
      ],
      "metadata": {
        "id": "K5_59FNENqC9"
      },
      "execution_count": null,
      "outputs": []
    },
    {
      "cell_type": "code",
      "source": [
        "loaded_model.score(X_test,Y_test)"
      ],
      "metadata": {
        "colab": {
          "base_uri": "https://localhost:8080/"
        },
        "id": "fhIUv322Np94",
        "outputId": "c9852375-4890-464e-ff23-31c571c6b74d"
      },
      "execution_count": null,
      "outputs": [
        {
          "output_type": "execute_result",
          "data": {
            "text/plain": [
              "0.7559055118110236"
            ]
          },
          "metadata": {},
          "execution_count": 70
        }
      ]
    },
    {
      "cell_type": "code",
      "source": [
        "------------------------------------------------------------"
      ],
      "metadata": {
        "id": "pVwuw9nbNfrZ"
      },
      "execution_count": null,
      "outputs": []
    }
  ]
}