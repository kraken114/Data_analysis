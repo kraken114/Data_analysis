{
  "nbformat": 4,
  "nbformat_minor": 0,
  "metadata": {
    "colab": {
      "provenance": []
    },
    "kernelspec": {
      "name": "python3",
      "display_name": "Python 3"
    },
    "language_info": {
      "name": "python"
    }
  },
  "cells": [
    {
      "cell_type": "markdown",
      "source": [
        "# **ЗАДАНИЕ 13. ПРОЕКТ ПОСТРОЕНИЯ МОДЕЛИ МАШИННОГО ОБУЧЕНИЯ ДЛЯ РЕГРЕССИИ**"
      ],
      "metadata": {
        "id": "-GHllJk95uKq"
      }
    },
    {
      "cell_type": "markdown",
      "source": [
        "Обобщите полученные знания в ходе проекта построения простой модели машинного обучения для задачи классификации.\n",
        "Постарайтесь максимально автоматизировать все вычисления, использовать существующие модули среды программирования Python."
      ],
      "metadata": {
        "id": "o2EcyV0459Ld"
      }
    },
    {
      "cell_type": "code",
      "execution_count": null,
      "metadata": {
        "id": "yQ8iWHEOSW0K"
      },
      "outputs": [],
      "source": [
        "from google.colab import drive"
      ]
    },
    {
      "cell_type": "code",
      "source": [
        "drive.mount('/content/gdrive')"
      ],
      "metadata": {
        "colab": {
          "base_uri": "https://localhost:8080/"
        },
        "id": "DPlQLwLOSssv",
        "outputId": "767244a1-87fb-4bbf-85b7-c5ffce5c042d"
      },
      "execution_count": null,
      "outputs": [
        {
          "output_type": "stream",
          "name": "stdout",
          "text": [
            "Mounted at /content/gdrive\n"
          ]
        }
      ]
    },
    {
      "cell_type": "markdown",
      "source": [
        "***Методика выполнения задания:***"
      ],
      "metadata": {
        "id": "osltEbBv6vZ-"
      }
    },
    {
      "cell_type": "markdown",
      "source": [
        "# **Раздел 1. Определение проблемы, загрузка библиотек и данных**"
      ],
      "metadata": {
        "id": "l9SbybPj61LO"
      }
    },
    {
      "cell_type": "markdown",
      "source": [
        "**1. Импортируйте следующие библиотеки:**"
      ],
      "metadata": {
        "id": "nZF9gcfo63fK"
      }
    },
    {
      "cell_type": "code",
      "source": [
        "import os\n",
        "import numpy\n",
        "import seaborn\n",
        "from numpy import arange\n",
        "from matplotlib import pyplot\n",
        "from pandas import read_csv\n",
        "from pandas import set_option\n",
        "from pandas.plotting import scatter_matrix\n",
        "from sklearn.preprocessing import StandardScaler\n",
        "from sklearn.model_selection import train_test_split\n",
        "from sklearn.model_selection import KFold\n",
        "from sklearn.model_selection import cross_val_score\n",
        "from sklearn.model_selection import GridSearchCV\n",
        "from sklearn.linear_model import LinearRegression\n",
        "from sklearn.linear_model import Lasso\n",
        "from sklearn.linear_model import Ridge\n",
        "from sklearn.linear_model import ElasticNet\n",
        "from sklearn.tree import DecisionTreeRegressor\n",
        "from sklearn.neighbors import KNeighborsRegressor\n",
        "from sklearn.svm import SVR\n",
        "from sklearn.pipeline import Pipeline\n",
        "from sklearn.ensemble import RandomForestRegressor\n",
        "from sklearn.ensemble import GradientBoostingRegressor\n",
        "from sklearn.ensemble import ExtraTreesRegressor\n",
        "from sklearn.ensemble import AdaBoostRegressor\n",
        "from sklearn.metrics import mean_squared_error"
      ],
      "metadata": {
        "id": "ogfhsrkGTgnO"
      },
      "execution_count": null,
      "outputs": []
    },
    {
      "cell_type": "markdown",
      "source": [
        "**2. Укажите путь к рабочей папке, где хранятся данные, с помощью функции chdir() из модуля os.**"
      ],
      "metadata": {
        "id": "yR-wIt2S9B9F"
      }
    },
    {
      "cell_type": "code",
      "source": [
        "os.chdir('/content/gdrive/MyDrive/Colab Notebooks/наборы данных')"
      ],
      "metadata": {
        "id": "4OLo3qrNrhrf"
      },
      "execution_count": null,
      "outputs": []
    },
    {
      "cell_type": "markdown",
      "source": [
        "**3. Загрузка данных о морских ушках.**\n",
        "\n",
        "**Предсказание возраста морского ушка по физическим измерениям.**\n",
        "\n",
        "Пол / номинальный / -- / M, F и I (младенец)\n",
        "\n",
        "Длина / непрерывная / мм / Измерение длины корпуса\n",
        "\n",
        "Диаметр / непрерывный / мм / перпендикулярный длине\n",
        "\n",
        "Высота / непрерывная / мм / с мясом в оболочке\n",
        "\n",
        "Весь вес / непрерывный / грамм / целое морское ушко\n",
        "\n",
        "Очищенный вес / непрерывный / грамм / вес мяса\n",
        "\n",
        "Вес внутренних органов / непрерывный / грамм / вес кишечника (после кровотечения)\n",
        "\n",
        "Вес скорлупы / непрерывный / грамм / после сушки\n",
        "\n",
        "Кольца / целое число / -- / +1.5 дает возраст в годах"
      ],
      "metadata": {
        "id": "irCtJuWV9joX"
      }
    },
    {
      "cell_type": "code",
      "source": [
        "filename='abalone.data'\n",
        "names=['Sex','Length','Diameter','Height','Whole weight','Shucked weight','Viscera weight','Shell weight','Rings']\n",
        "df=read_csv(filename,names=names)\n",
        "df.sample(2)"
      ],
      "metadata": {
        "colab": {
          "base_uri": "https://localhost:8080/",
          "height": 112
        },
        "id": "aXuJJVJN5kVn",
        "outputId": "cd40258a-eb75-4ff9-ca0e-e22147e0627b"
      },
      "execution_count": null,
      "outputs": [
        {
          "output_type": "execute_result",
          "data": {
            "text/plain": [
              "     Sex  Length  Diameter  Height  Whole weight  Shucked weight  \\\n",
              "4115   F   0.605     0.465   0.155        1.1000           0.547   \n",
              "1038   M   0.660     0.495   0.195        1.6275           0.594   \n",
              "\n",
              "      Viscera weight  Shell weight  Rings  \n",
              "4115          0.2665        0.2585     10  \n",
              "1038          0.3595        0.4850     10  "
            ],
            "text/html": [
              "\n",
              "  <div id=\"df-a979b093-6b6c-409f-afcb-4a6847716d23\">\n",
              "    <div class=\"colab-df-container\">\n",
              "      <div>\n",
              "<style scoped>\n",
              "    .dataframe tbody tr th:only-of-type {\n",
              "        vertical-align: middle;\n",
              "    }\n",
              "\n",
              "    .dataframe tbody tr th {\n",
              "        vertical-align: top;\n",
              "    }\n",
              "\n",
              "    .dataframe thead th {\n",
              "        text-align: right;\n",
              "    }\n",
              "</style>\n",
              "<table border=\"1\" class=\"dataframe\">\n",
              "  <thead>\n",
              "    <tr style=\"text-align: right;\">\n",
              "      <th></th>\n",
              "      <th>Sex</th>\n",
              "      <th>Length</th>\n",
              "      <th>Diameter</th>\n",
              "      <th>Height</th>\n",
              "      <th>Whole weight</th>\n",
              "      <th>Shucked weight</th>\n",
              "      <th>Viscera weight</th>\n",
              "      <th>Shell weight</th>\n",
              "      <th>Rings</th>\n",
              "    </tr>\n",
              "  </thead>\n",
              "  <tbody>\n",
              "    <tr>\n",
              "      <th>4115</th>\n",
              "      <td>F</td>\n",
              "      <td>0.605</td>\n",
              "      <td>0.465</td>\n",
              "      <td>0.155</td>\n",
              "      <td>1.1000</td>\n",
              "      <td>0.547</td>\n",
              "      <td>0.2665</td>\n",
              "      <td>0.2585</td>\n",
              "      <td>10</td>\n",
              "    </tr>\n",
              "    <tr>\n",
              "      <th>1038</th>\n",
              "      <td>M</td>\n",
              "      <td>0.660</td>\n",
              "      <td>0.495</td>\n",
              "      <td>0.195</td>\n",
              "      <td>1.6275</td>\n",
              "      <td>0.594</td>\n",
              "      <td>0.3595</td>\n",
              "      <td>0.4850</td>\n",
              "      <td>10</td>\n",
              "    </tr>\n",
              "  </tbody>\n",
              "</table>\n",
              "</div>\n",
              "      <button class=\"colab-df-convert\" onclick=\"convertToInteractive('df-a979b093-6b6c-409f-afcb-4a6847716d23')\"\n",
              "              title=\"Convert this dataframe to an interactive table.\"\n",
              "              style=\"display:none;\">\n",
              "        \n",
              "  <svg xmlns=\"http://www.w3.org/2000/svg\" height=\"24px\"viewBox=\"0 0 24 24\"\n",
              "       width=\"24px\">\n",
              "    <path d=\"M0 0h24v24H0V0z\" fill=\"none\"/>\n",
              "    <path d=\"M18.56 5.44l.94 2.06.94-2.06 2.06-.94-2.06-.94-.94-2.06-.94 2.06-2.06.94zm-11 1L8.5 8.5l.94-2.06 2.06-.94-2.06-.94L8.5 2.5l-.94 2.06-2.06.94zm10 10l.94 2.06.94-2.06 2.06-.94-2.06-.94-.94-2.06-.94 2.06-2.06.94z\"/><path d=\"M17.41 7.96l-1.37-1.37c-.4-.4-.92-.59-1.43-.59-.52 0-1.04.2-1.43.59L10.3 9.45l-7.72 7.72c-.78.78-.78 2.05 0 2.83L4 21.41c.39.39.9.59 1.41.59.51 0 1.02-.2 1.41-.59l7.78-7.78 2.81-2.81c.8-.78.8-2.07 0-2.86zM5.41 20L4 18.59l7.72-7.72 1.47 1.35L5.41 20z\"/>\n",
              "  </svg>\n",
              "      </button>\n",
              "      \n",
              "  <style>\n",
              "    .colab-df-container {\n",
              "      display:flex;\n",
              "      flex-wrap:wrap;\n",
              "      gap: 12px;\n",
              "    }\n",
              "\n",
              "    .colab-df-convert {\n",
              "      background-color: #E8F0FE;\n",
              "      border: none;\n",
              "      border-radius: 50%;\n",
              "      cursor: pointer;\n",
              "      display: none;\n",
              "      fill: #1967D2;\n",
              "      height: 32px;\n",
              "      padding: 0 0 0 0;\n",
              "      width: 32px;\n",
              "    }\n",
              "\n",
              "    .colab-df-convert:hover {\n",
              "      background-color: #E2EBFA;\n",
              "      box-shadow: 0px 1px 2px rgba(60, 64, 67, 0.3), 0px 1px 3px 1px rgba(60, 64, 67, 0.15);\n",
              "      fill: #174EA6;\n",
              "    }\n",
              "\n",
              "    [theme=dark] .colab-df-convert {\n",
              "      background-color: #3B4455;\n",
              "      fill: #D2E3FC;\n",
              "    }\n",
              "\n",
              "    [theme=dark] .colab-df-convert:hover {\n",
              "      background-color: #434B5C;\n",
              "      box-shadow: 0px 1px 3px 1px rgba(0, 0, 0, 0.15);\n",
              "      filter: drop-shadow(0px 1px 2px rgba(0, 0, 0, 0.3));\n",
              "      fill: #FFFFFF;\n",
              "    }\n",
              "  </style>\n",
              "\n",
              "      <script>\n",
              "        const buttonEl =\n",
              "          document.querySelector('#df-a979b093-6b6c-409f-afcb-4a6847716d23 button.colab-df-convert');\n",
              "        buttonEl.style.display =\n",
              "          google.colab.kernel.accessAllowed ? 'block' : 'none';\n",
              "\n",
              "        async function convertToInteractive(key) {\n",
              "          const element = document.querySelector('#df-a979b093-6b6c-409f-afcb-4a6847716d23');\n",
              "          const dataTable =\n",
              "            await google.colab.kernel.invokeFunction('convertToInteractive',\n",
              "                                                     [key], {});\n",
              "          if (!dataTable) return;\n",
              "\n",
              "          const docLinkHtml = 'Like what you see? Visit the ' +\n",
              "            '<a target=\"_blank\" href=https://colab.research.google.com/notebooks/data_table.ipynb>data table notebook</a>'\n",
              "            + ' to learn more about interactive tables.';\n",
              "          element.innerHTML = '';\n",
              "          dataTable['output_type'] = 'display_data';\n",
              "          await google.colab.output.renderOutput(dataTable, element);\n",
              "          const docLink = document.createElement('div');\n",
              "          docLink.innerHTML = docLinkHtml;\n",
              "          element.appendChild(docLink);\n",
              "        }\n",
              "      </script>\n",
              "    </div>\n",
              "  </div>\n",
              "  "
            ]
          },
          "metadata": {},
          "execution_count": 5
        }
      ]
    },
    {
      "cell_type": "code",
      "source": [
        "# заменяем пробельные символы на подчеркивания\n",
        "df=df.rename(columns=lambda x: x.replace(' ','_'))"
      ],
      "metadata": {
        "id": "uvi3YeHB8WqF"
      },
      "execution_count": null,
      "outputs": []
    },
    {
      "cell_type": "markdown",
      "source": [
        "# **Раздел 2. Анализ данных**\n",
        "**4. Посмотрите на первые 5 наблюдений с помощью функции head().**"
      ],
      "metadata": {
        "id": "zVJiScfo_mkq"
      }
    },
    {
      "cell_type": "code",
      "source": [
        "df.head(5)"
      ],
      "metadata": {
        "colab": {
          "base_uri": "https://localhost:8080/",
          "height": 206
        },
        "id": "RlIBybSa_yOS",
        "outputId": "33132767-5d3e-4da2-baa0-7caedb93d6ab"
      },
      "execution_count": null,
      "outputs": [
        {
          "output_type": "execute_result",
          "data": {
            "text/plain": [
              "  Sex  Length  Diameter  Height  Whole_weight  Shucked_weight  Viscera_weight  \\\n",
              "0   M   0.455     0.365   0.095        0.5140          0.2245          0.1010   \n",
              "1   M   0.350     0.265   0.090        0.2255          0.0995          0.0485   \n",
              "2   F   0.530     0.420   0.135        0.6770          0.2565          0.1415   \n",
              "3   M   0.440     0.365   0.125        0.5160          0.2155          0.1140   \n",
              "4   I   0.330     0.255   0.080        0.2050          0.0895          0.0395   \n",
              "\n",
              "   Shell_weight  Rings  \n",
              "0         0.150     15  \n",
              "1         0.070      7  \n",
              "2         0.210      9  \n",
              "3         0.155     10  \n",
              "4         0.055      7  "
            ],
            "text/html": [
              "\n",
              "  <div id=\"df-b9b0d849-3a67-48fd-a942-530fbd4966db\">\n",
              "    <div class=\"colab-df-container\">\n",
              "      <div>\n",
              "<style scoped>\n",
              "    .dataframe tbody tr th:only-of-type {\n",
              "        vertical-align: middle;\n",
              "    }\n",
              "\n",
              "    .dataframe tbody tr th {\n",
              "        vertical-align: top;\n",
              "    }\n",
              "\n",
              "    .dataframe thead th {\n",
              "        text-align: right;\n",
              "    }\n",
              "</style>\n",
              "<table border=\"1\" class=\"dataframe\">\n",
              "  <thead>\n",
              "    <tr style=\"text-align: right;\">\n",
              "      <th></th>\n",
              "      <th>Sex</th>\n",
              "      <th>Length</th>\n",
              "      <th>Diameter</th>\n",
              "      <th>Height</th>\n",
              "      <th>Whole_weight</th>\n",
              "      <th>Shucked_weight</th>\n",
              "      <th>Viscera_weight</th>\n",
              "      <th>Shell_weight</th>\n",
              "      <th>Rings</th>\n",
              "    </tr>\n",
              "  </thead>\n",
              "  <tbody>\n",
              "    <tr>\n",
              "      <th>0</th>\n",
              "      <td>M</td>\n",
              "      <td>0.455</td>\n",
              "      <td>0.365</td>\n",
              "      <td>0.095</td>\n",
              "      <td>0.5140</td>\n",
              "      <td>0.2245</td>\n",
              "      <td>0.1010</td>\n",
              "      <td>0.150</td>\n",
              "      <td>15</td>\n",
              "    </tr>\n",
              "    <tr>\n",
              "      <th>1</th>\n",
              "      <td>M</td>\n",
              "      <td>0.350</td>\n",
              "      <td>0.265</td>\n",
              "      <td>0.090</td>\n",
              "      <td>0.2255</td>\n",
              "      <td>0.0995</td>\n",
              "      <td>0.0485</td>\n",
              "      <td>0.070</td>\n",
              "      <td>7</td>\n",
              "    </tr>\n",
              "    <tr>\n",
              "      <th>2</th>\n",
              "      <td>F</td>\n",
              "      <td>0.530</td>\n",
              "      <td>0.420</td>\n",
              "      <td>0.135</td>\n",
              "      <td>0.6770</td>\n",
              "      <td>0.2565</td>\n",
              "      <td>0.1415</td>\n",
              "      <td>0.210</td>\n",
              "      <td>9</td>\n",
              "    </tr>\n",
              "    <tr>\n",
              "      <th>3</th>\n",
              "      <td>M</td>\n",
              "      <td>0.440</td>\n",
              "      <td>0.365</td>\n",
              "      <td>0.125</td>\n",
              "      <td>0.5160</td>\n",
              "      <td>0.2155</td>\n",
              "      <td>0.1140</td>\n",
              "      <td>0.155</td>\n",
              "      <td>10</td>\n",
              "    </tr>\n",
              "    <tr>\n",
              "      <th>4</th>\n",
              "      <td>I</td>\n",
              "      <td>0.330</td>\n",
              "      <td>0.255</td>\n",
              "      <td>0.080</td>\n",
              "      <td>0.2050</td>\n",
              "      <td>0.0895</td>\n",
              "      <td>0.0395</td>\n",
              "      <td>0.055</td>\n",
              "      <td>7</td>\n",
              "    </tr>\n",
              "  </tbody>\n",
              "</table>\n",
              "</div>\n",
              "      <button class=\"colab-df-convert\" onclick=\"convertToInteractive('df-b9b0d849-3a67-48fd-a942-530fbd4966db')\"\n",
              "              title=\"Convert this dataframe to an interactive table.\"\n",
              "              style=\"display:none;\">\n",
              "        \n",
              "  <svg xmlns=\"http://www.w3.org/2000/svg\" height=\"24px\"viewBox=\"0 0 24 24\"\n",
              "       width=\"24px\">\n",
              "    <path d=\"M0 0h24v24H0V0z\" fill=\"none\"/>\n",
              "    <path d=\"M18.56 5.44l.94 2.06.94-2.06 2.06-.94-2.06-.94-.94-2.06-.94 2.06-2.06.94zm-11 1L8.5 8.5l.94-2.06 2.06-.94-2.06-.94L8.5 2.5l-.94 2.06-2.06.94zm10 10l.94 2.06.94-2.06 2.06-.94-2.06-.94-.94-2.06-.94 2.06-2.06.94z\"/><path d=\"M17.41 7.96l-1.37-1.37c-.4-.4-.92-.59-1.43-.59-.52 0-1.04.2-1.43.59L10.3 9.45l-7.72 7.72c-.78.78-.78 2.05 0 2.83L4 21.41c.39.39.9.59 1.41.59.51 0 1.02-.2 1.41-.59l7.78-7.78 2.81-2.81c.8-.78.8-2.07 0-2.86zM5.41 20L4 18.59l7.72-7.72 1.47 1.35L5.41 20z\"/>\n",
              "  </svg>\n",
              "      </button>\n",
              "      \n",
              "  <style>\n",
              "    .colab-df-container {\n",
              "      display:flex;\n",
              "      flex-wrap:wrap;\n",
              "      gap: 12px;\n",
              "    }\n",
              "\n",
              "    .colab-df-convert {\n",
              "      background-color: #E8F0FE;\n",
              "      border: none;\n",
              "      border-radius: 50%;\n",
              "      cursor: pointer;\n",
              "      display: none;\n",
              "      fill: #1967D2;\n",
              "      height: 32px;\n",
              "      padding: 0 0 0 0;\n",
              "      width: 32px;\n",
              "    }\n",
              "\n",
              "    .colab-df-convert:hover {\n",
              "      background-color: #E2EBFA;\n",
              "      box-shadow: 0px 1px 2px rgba(60, 64, 67, 0.3), 0px 1px 3px 1px rgba(60, 64, 67, 0.15);\n",
              "      fill: #174EA6;\n",
              "    }\n",
              "\n",
              "    [theme=dark] .colab-df-convert {\n",
              "      background-color: #3B4455;\n",
              "      fill: #D2E3FC;\n",
              "    }\n",
              "\n",
              "    [theme=dark] .colab-df-convert:hover {\n",
              "      background-color: #434B5C;\n",
              "      box-shadow: 0px 1px 3px 1px rgba(0, 0, 0, 0.15);\n",
              "      filter: drop-shadow(0px 1px 2px rgba(0, 0, 0, 0.3));\n",
              "      fill: #FFFFFF;\n",
              "    }\n",
              "  </style>\n",
              "\n",
              "      <script>\n",
              "        const buttonEl =\n",
              "          document.querySelector('#df-b9b0d849-3a67-48fd-a942-530fbd4966db button.colab-df-convert');\n",
              "        buttonEl.style.display =\n",
              "          google.colab.kernel.accessAllowed ? 'block' : 'none';\n",
              "\n",
              "        async function convertToInteractive(key) {\n",
              "          const element = document.querySelector('#df-b9b0d849-3a67-48fd-a942-530fbd4966db');\n",
              "          const dataTable =\n",
              "            await google.colab.kernel.invokeFunction('convertToInteractive',\n",
              "                                                     [key], {});\n",
              "          if (!dataTable) return;\n",
              "\n",
              "          const docLinkHtml = 'Like what you see? Visit the ' +\n",
              "            '<a target=\"_blank\" href=https://colab.research.google.com/notebooks/data_table.ipynb>data table notebook</a>'\n",
              "            + ' to learn more about interactive tables.';\n",
              "          element.innerHTML = '';\n",
              "          dataTable['output_type'] = 'display_data';\n",
              "          await google.colab.output.renderOutput(dataTable, element);\n",
              "          const docLink = document.createElement('div');\n",
              "          docLink.innerHTML = docLinkHtml;\n",
              "          element.appendChild(docLink);\n",
              "        }\n",
              "      </script>\n",
              "    </div>\n",
              "  </div>\n",
              "  "
            ]
          },
          "metadata": {},
          "execution_count": 7
        }
      ]
    },
    {
      "cell_type": "markdown",
      "source": [
        "**5. Посмотрите на размерность данных, обратившись к атрибуту shape.**"
      ],
      "metadata": {
        "id": "-EtBl3GsAKqo"
      }
    },
    {
      "cell_type": "code",
      "source": [
        "df.shape"
      ],
      "metadata": {
        "colab": {
          "base_uri": "https://localhost:8080/"
        },
        "id": "gEneEIWRANif",
        "outputId": "eda69109-e5cd-4d40-afda-3d2ed87c39d3"
      },
      "execution_count": null,
      "outputs": [
        {
          "output_type": "execute_result",
          "data": {
            "text/plain": [
              "(4177, 9)"
            ]
          },
          "metadata": {},
          "execution_count": 8
        }
      ]
    },
    {
      "cell_type": "markdown",
      "source": [
        "**6. Посмотрите на типы данных, обратившись к атрибуту dtypes.**"
      ],
      "metadata": {
        "id": "ZmpYA_a-ASaP"
      }
    },
    {
      "cell_type": "code",
      "source": [
        "df.dtypes"
      ],
      "metadata": {
        "colab": {
          "base_uri": "https://localhost:8080/"
        },
        "id": "pyZjMKpgAVon",
        "outputId": "a2934881-ac7e-4fde-a38a-e5d26167e8b3"
      },
      "execution_count": null,
      "outputs": [
        {
          "output_type": "execute_result",
          "data": {
            "text/plain": [
              "Sex                object\n",
              "Length            float64\n",
              "Diameter          float64\n",
              "Height            float64\n",
              "Whole_weight      float64\n",
              "Shucked_weight    float64\n",
              "Viscera_weight    float64\n",
              "Shell_weight      float64\n",
              "Rings               int64\n",
              "dtype: object"
            ]
          },
          "metadata": {},
          "execution_count": 9
        }
      ]
    },
    {
      "cell_type": "code",
      "source": [
        "df[\"Sex\"] = df[\"Sex\"].astype('category').cat.codes # преобразуем 'object' в числовой столбец"
      ],
      "metadata": {
        "id": "4YtfvOIqFYUM"
      },
      "execution_count": null,
      "outputs": []
    },
    {
      "cell_type": "code",
      "source": [
        "df.sample(3)"
      ],
      "metadata": {
        "colab": {
          "base_uri": "https://localhost:8080/",
          "height": 143
        },
        "id": "gVCfGb_oFjF7",
        "outputId": "c5b6cd42-2cd1-4ee0-ed7f-66328cb2526d"
      },
      "execution_count": null,
      "outputs": [
        {
          "output_type": "execute_result",
          "data": {
            "text/plain": [
              "      Sex  Length  Diameter  Height  Whole_weight  Shucked_weight  \\\n",
              "3548    0   0.495     0.370   0.120         0.594          0.2800   \n",
              "2413    0   0.505     0.380   0.145         0.651          0.2935   \n",
              "2537    1   0.660     0.525   0.215         1.786          0.6725   \n",
              "\n",
              "      Viscera_weight  Shell_weight  Rings  \n",
              "3548          0.1100        0.1375      7  \n",
              "2413          0.1900        0.1700     12  \n",
              "2537          0.3615        0.4065     11  "
            ],
            "text/html": [
              "\n",
              "  <div id=\"df-d7932e59-e7d1-46ac-bf2b-d0896178ec63\">\n",
              "    <div class=\"colab-df-container\">\n",
              "      <div>\n",
              "<style scoped>\n",
              "    .dataframe tbody tr th:only-of-type {\n",
              "        vertical-align: middle;\n",
              "    }\n",
              "\n",
              "    .dataframe tbody tr th {\n",
              "        vertical-align: top;\n",
              "    }\n",
              "\n",
              "    .dataframe thead th {\n",
              "        text-align: right;\n",
              "    }\n",
              "</style>\n",
              "<table border=\"1\" class=\"dataframe\">\n",
              "  <thead>\n",
              "    <tr style=\"text-align: right;\">\n",
              "      <th></th>\n",
              "      <th>Sex</th>\n",
              "      <th>Length</th>\n",
              "      <th>Diameter</th>\n",
              "      <th>Height</th>\n",
              "      <th>Whole_weight</th>\n",
              "      <th>Shucked_weight</th>\n",
              "      <th>Viscera_weight</th>\n",
              "      <th>Shell_weight</th>\n",
              "      <th>Rings</th>\n",
              "    </tr>\n",
              "  </thead>\n",
              "  <tbody>\n",
              "    <tr>\n",
              "      <th>3548</th>\n",
              "      <td>0</td>\n",
              "      <td>0.495</td>\n",
              "      <td>0.370</td>\n",
              "      <td>0.120</td>\n",
              "      <td>0.594</td>\n",
              "      <td>0.2800</td>\n",
              "      <td>0.1100</td>\n",
              "      <td>0.1375</td>\n",
              "      <td>7</td>\n",
              "    </tr>\n",
              "    <tr>\n",
              "      <th>2413</th>\n",
              "      <td>0</td>\n",
              "      <td>0.505</td>\n",
              "      <td>0.380</td>\n",
              "      <td>0.145</td>\n",
              "      <td>0.651</td>\n",
              "      <td>0.2935</td>\n",
              "      <td>0.1900</td>\n",
              "      <td>0.1700</td>\n",
              "      <td>12</td>\n",
              "    </tr>\n",
              "    <tr>\n",
              "      <th>2537</th>\n",
              "      <td>1</td>\n",
              "      <td>0.660</td>\n",
              "      <td>0.525</td>\n",
              "      <td>0.215</td>\n",
              "      <td>1.786</td>\n",
              "      <td>0.6725</td>\n",
              "      <td>0.3615</td>\n",
              "      <td>0.4065</td>\n",
              "      <td>11</td>\n",
              "    </tr>\n",
              "  </tbody>\n",
              "</table>\n",
              "</div>\n",
              "      <button class=\"colab-df-convert\" onclick=\"convertToInteractive('df-d7932e59-e7d1-46ac-bf2b-d0896178ec63')\"\n",
              "              title=\"Convert this dataframe to an interactive table.\"\n",
              "              style=\"display:none;\">\n",
              "        \n",
              "  <svg xmlns=\"http://www.w3.org/2000/svg\" height=\"24px\"viewBox=\"0 0 24 24\"\n",
              "       width=\"24px\">\n",
              "    <path d=\"M0 0h24v24H0V0z\" fill=\"none\"/>\n",
              "    <path d=\"M18.56 5.44l.94 2.06.94-2.06 2.06-.94-2.06-.94-.94-2.06-.94 2.06-2.06.94zm-11 1L8.5 8.5l.94-2.06 2.06-.94-2.06-.94L8.5 2.5l-.94 2.06-2.06.94zm10 10l.94 2.06.94-2.06 2.06-.94-2.06-.94-.94-2.06-.94 2.06-2.06.94z\"/><path d=\"M17.41 7.96l-1.37-1.37c-.4-.4-.92-.59-1.43-.59-.52 0-1.04.2-1.43.59L10.3 9.45l-7.72 7.72c-.78.78-.78 2.05 0 2.83L4 21.41c.39.39.9.59 1.41.59.51 0 1.02-.2 1.41-.59l7.78-7.78 2.81-2.81c.8-.78.8-2.07 0-2.86zM5.41 20L4 18.59l7.72-7.72 1.47 1.35L5.41 20z\"/>\n",
              "  </svg>\n",
              "      </button>\n",
              "      \n",
              "  <style>\n",
              "    .colab-df-container {\n",
              "      display:flex;\n",
              "      flex-wrap:wrap;\n",
              "      gap: 12px;\n",
              "    }\n",
              "\n",
              "    .colab-df-convert {\n",
              "      background-color: #E8F0FE;\n",
              "      border: none;\n",
              "      border-radius: 50%;\n",
              "      cursor: pointer;\n",
              "      display: none;\n",
              "      fill: #1967D2;\n",
              "      height: 32px;\n",
              "      padding: 0 0 0 0;\n",
              "      width: 32px;\n",
              "    }\n",
              "\n",
              "    .colab-df-convert:hover {\n",
              "      background-color: #E2EBFA;\n",
              "      box-shadow: 0px 1px 2px rgba(60, 64, 67, 0.3), 0px 1px 3px 1px rgba(60, 64, 67, 0.15);\n",
              "      fill: #174EA6;\n",
              "    }\n",
              "\n",
              "    [theme=dark] .colab-df-convert {\n",
              "      background-color: #3B4455;\n",
              "      fill: #D2E3FC;\n",
              "    }\n",
              "\n",
              "    [theme=dark] .colab-df-convert:hover {\n",
              "      background-color: #434B5C;\n",
              "      box-shadow: 0px 1px 3px 1px rgba(0, 0, 0, 0.15);\n",
              "      filter: drop-shadow(0px 1px 2px rgba(0, 0, 0, 0.3));\n",
              "      fill: #FFFFFF;\n",
              "    }\n",
              "  </style>\n",
              "\n",
              "      <script>\n",
              "        const buttonEl =\n",
              "          document.querySelector('#df-d7932e59-e7d1-46ac-bf2b-d0896178ec63 button.colab-df-convert');\n",
              "        buttonEl.style.display =\n",
              "          google.colab.kernel.accessAllowed ? 'block' : 'none';\n",
              "\n",
              "        async function convertToInteractive(key) {\n",
              "          const element = document.querySelector('#df-d7932e59-e7d1-46ac-bf2b-d0896178ec63');\n",
              "          const dataTable =\n",
              "            await google.colab.kernel.invokeFunction('convertToInteractive',\n",
              "                                                     [key], {});\n",
              "          if (!dataTable) return;\n",
              "\n",
              "          const docLinkHtml = 'Like what you see? Visit the ' +\n",
              "            '<a target=\"_blank\" href=https://colab.research.google.com/notebooks/data_table.ipynb>data table notebook</a>'\n",
              "            + ' to learn more about interactive tables.';\n",
              "          element.innerHTML = '';\n",
              "          dataTable['output_type'] = 'display_data';\n",
              "          await google.colab.output.renderOutput(dataTable, element);\n",
              "          const docLink = document.createElement('div');\n",
              "          docLink.innerHTML = docLinkHtml;\n",
              "          element.appendChild(docLink);\n",
              "        }\n",
              "      </script>\n",
              "    </div>\n",
              "  </div>\n",
              "  "
            ]
          },
          "metadata": {},
          "execution_count": 11
        }
      ]
    },
    {
      "cell_type": "code",
      "source": [
        "df.dtypes"
      ],
      "metadata": {
        "colab": {
          "base_uri": "https://localhost:8080/"
        },
        "id": "55F7bBbXFq95",
        "outputId": "69008c47-0020-4eb3-84de-b1efbd2a8db6"
      },
      "execution_count": null,
      "outputs": [
        {
          "output_type": "execute_result",
          "data": {
            "text/plain": [
              "Sex                  int8\n",
              "Length            float64\n",
              "Diameter          float64\n",
              "Height            float64\n",
              "Whole_weight      float64\n",
              "Shucked_weight    float64\n",
              "Viscera_weight    float64\n",
              "Shell_weight      float64\n",
              "Rings               int64\n",
              "dtype: object"
            ]
          },
          "metadata": {},
          "execution_count": 12
        }
      ]
    },
    {
      "cell_type": "markdown",
      "source": [
        "**7. Выведите на экран общую информацию о наборе данных с помощью функции info(). Прокомментируйте результат.**"
      ],
      "metadata": {
        "id": "Qk7ES16VAw6k"
      }
    },
    {
      "cell_type": "code",
      "source": [
        "df.info()"
      ],
      "metadata": {
        "colab": {
          "base_uri": "https://localhost:8080/"
        },
        "id": "WVumtMDcAzrW",
        "outputId": "255d7c69-d4b4-42d0-d2d2-4def22a09920"
      },
      "execution_count": null,
      "outputs": [
        {
          "output_type": "stream",
          "name": "stdout",
          "text": [
            "<class 'pandas.core.frame.DataFrame'>\n",
            "RangeIndex: 4177 entries, 0 to 4176\n",
            "Data columns (total 9 columns):\n",
            " #   Column          Non-Null Count  Dtype  \n",
            "---  ------          --------------  -----  \n",
            " 0   Sex             4177 non-null   int8   \n",
            " 1   Length          4177 non-null   float64\n",
            " 2   Diameter        4177 non-null   float64\n",
            " 3   Height          4177 non-null   float64\n",
            " 4   Whole_weight    4177 non-null   float64\n",
            " 5   Shucked_weight  4177 non-null   float64\n",
            " 6   Viscera_weight  4177 non-null   float64\n",
            " 7   Shell_weight    4177 non-null   float64\n",
            " 8   Rings           4177 non-null   int64  \n",
            "dtypes: float64(7), int64(1), int8(1)\n",
            "memory usage: 265.3 KB\n"
          ]
        }
      ]
    },
    {
      "cell_type": "markdown",
      "source": [
        "**8. Установите точность вывода результатов до 3-х знаков после запятой с помощью функции set_option('precision', 3) из модуля pandas.**"
      ],
      "metadata": {
        "id": "YmyL_dIPA9K6"
      }
    },
    {
      "cell_type": "code",
      "source": [
        "import pandas as pd\n",
        "pd.set_option('precision', 3)"
      ],
      "metadata": {
        "id": "NBxEwDOSBGNx"
      },
      "execution_count": null,
      "outputs": []
    },
    {
      "cell_type": "code",
      "source": [
        "df.sample(5)"
      ],
      "metadata": {
        "colab": {
          "base_uri": "https://localhost:8080/",
          "height": 206
        },
        "id": "MgMpQuooCObQ",
        "outputId": "8a2406b0-a78a-4d75-c04e-86fc20395507"
      },
      "execution_count": null,
      "outputs": [
        {
          "output_type": "execute_result",
          "data": {
            "text/plain": [
              "      Sex  Length  Diameter  Height  Whole_weight  Shucked_weight  \\\n",
              "4016    0   0.640     0.525   0.175         1.382           0.646   \n",
              "1518    2   0.670     0.545   0.200         1.702           0.833   \n",
              "207     1   0.435     0.340   0.110         0.380           0.149   \n",
              "4141    0   0.650     0.505   0.165         1.357           0.573   \n",
              "825     1   0.395     0.290   0.095         0.319           0.138   \n",
              "\n",
              "      Viscera_weight  Shell_weight  Rings  \n",
              "4016           0.311         0.370      9  \n",
              "1518           0.374         0.410     11  \n",
              "207            0.085         0.120      8  \n",
              "4141           0.281         0.430     11  \n",
              "825            0.080         0.082      7  "
            ],
            "text/html": [
              "\n",
              "  <div id=\"df-ba5bcf2c-8606-4abe-8583-9516ed4de9c6\">\n",
              "    <div class=\"colab-df-container\">\n",
              "      <div>\n",
              "<style scoped>\n",
              "    .dataframe tbody tr th:only-of-type {\n",
              "        vertical-align: middle;\n",
              "    }\n",
              "\n",
              "    .dataframe tbody tr th {\n",
              "        vertical-align: top;\n",
              "    }\n",
              "\n",
              "    .dataframe thead th {\n",
              "        text-align: right;\n",
              "    }\n",
              "</style>\n",
              "<table border=\"1\" class=\"dataframe\">\n",
              "  <thead>\n",
              "    <tr style=\"text-align: right;\">\n",
              "      <th></th>\n",
              "      <th>Sex</th>\n",
              "      <th>Length</th>\n",
              "      <th>Diameter</th>\n",
              "      <th>Height</th>\n",
              "      <th>Whole_weight</th>\n",
              "      <th>Shucked_weight</th>\n",
              "      <th>Viscera_weight</th>\n",
              "      <th>Shell_weight</th>\n",
              "      <th>Rings</th>\n",
              "    </tr>\n",
              "  </thead>\n",
              "  <tbody>\n",
              "    <tr>\n",
              "      <th>4016</th>\n",
              "      <td>0</td>\n",
              "      <td>0.640</td>\n",
              "      <td>0.525</td>\n",
              "      <td>0.175</td>\n",
              "      <td>1.382</td>\n",
              "      <td>0.646</td>\n",
              "      <td>0.311</td>\n",
              "      <td>0.370</td>\n",
              "      <td>9</td>\n",
              "    </tr>\n",
              "    <tr>\n",
              "      <th>1518</th>\n",
              "      <td>2</td>\n",
              "      <td>0.670</td>\n",
              "      <td>0.545</td>\n",
              "      <td>0.200</td>\n",
              "      <td>1.702</td>\n",
              "      <td>0.833</td>\n",
              "      <td>0.374</td>\n",
              "      <td>0.410</td>\n",
              "      <td>11</td>\n",
              "    </tr>\n",
              "    <tr>\n",
              "      <th>207</th>\n",
              "      <td>1</td>\n",
              "      <td>0.435</td>\n",
              "      <td>0.340</td>\n",
              "      <td>0.110</td>\n",
              "      <td>0.380</td>\n",
              "      <td>0.149</td>\n",
              "      <td>0.085</td>\n",
              "      <td>0.120</td>\n",
              "      <td>8</td>\n",
              "    </tr>\n",
              "    <tr>\n",
              "      <th>4141</th>\n",
              "      <td>0</td>\n",
              "      <td>0.650</td>\n",
              "      <td>0.505</td>\n",
              "      <td>0.165</td>\n",
              "      <td>1.357</td>\n",
              "      <td>0.573</td>\n",
              "      <td>0.281</td>\n",
              "      <td>0.430</td>\n",
              "      <td>11</td>\n",
              "    </tr>\n",
              "    <tr>\n",
              "      <th>825</th>\n",
              "      <td>1</td>\n",
              "      <td>0.395</td>\n",
              "      <td>0.290</td>\n",
              "      <td>0.095</td>\n",
              "      <td>0.319</td>\n",
              "      <td>0.138</td>\n",
              "      <td>0.080</td>\n",
              "      <td>0.082</td>\n",
              "      <td>7</td>\n",
              "    </tr>\n",
              "  </tbody>\n",
              "</table>\n",
              "</div>\n",
              "      <button class=\"colab-df-convert\" onclick=\"convertToInteractive('df-ba5bcf2c-8606-4abe-8583-9516ed4de9c6')\"\n",
              "              title=\"Convert this dataframe to an interactive table.\"\n",
              "              style=\"display:none;\">\n",
              "        \n",
              "  <svg xmlns=\"http://www.w3.org/2000/svg\" height=\"24px\"viewBox=\"0 0 24 24\"\n",
              "       width=\"24px\">\n",
              "    <path d=\"M0 0h24v24H0V0z\" fill=\"none\"/>\n",
              "    <path d=\"M18.56 5.44l.94 2.06.94-2.06 2.06-.94-2.06-.94-.94-2.06-.94 2.06-2.06.94zm-11 1L8.5 8.5l.94-2.06 2.06-.94-2.06-.94L8.5 2.5l-.94 2.06-2.06.94zm10 10l.94 2.06.94-2.06 2.06-.94-2.06-.94-.94-2.06-.94 2.06-2.06.94z\"/><path d=\"M17.41 7.96l-1.37-1.37c-.4-.4-.92-.59-1.43-.59-.52 0-1.04.2-1.43.59L10.3 9.45l-7.72 7.72c-.78.78-.78 2.05 0 2.83L4 21.41c.39.39.9.59 1.41.59.51 0 1.02-.2 1.41-.59l7.78-7.78 2.81-2.81c.8-.78.8-2.07 0-2.86zM5.41 20L4 18.59l7.72-7.72 1.47 1.35L5.41 20z\"/>\n",
              "  </svg>\n",
              "      </button>\n",
              "      \n",
              "  <style>\n",
              "    .colab-df-container {\n",
              "      display:flex;\n",
              "      flex-wrap:wrap;\n",
              "      gap: 12px;\n",
              "    }\n",
              "\n",
              "    .colab-df-convert {\n",
              "      background-color: #E8F0FE;\n",
              "      border: none;\n",
              "      border-radius: 50%;\n",
              "      cursor: pointer;\n",
              "      display: none;\n",
              "      fill: #1967D2;\n",
              "      height: 32px;\n",
              "      padding: 0 0 0 0;\n",
              "      width: 32px;\n",
              "    }\n",
              "\n",
              "    .colab-df-convert:hover {\n",
              "      background-color: #E2EBFA;\n",
              "      box-shadow: 0px 1px 2px rgba(60, 64, 67, 0.3), 0px 1px 3px 1px rgba(60, 64, 67, 0.15);\n",
              "      fill: #174EA6;\n",
              "    }\n",
              "\n",
              "    [theme=dark] .colab-df-convert {\n",
              "      background-color: #3B4455;\n",
              "      fill: #D2E3FC;\n",
              "    }\n",
              "\n",
              "    [theme=dark] .colab-df-convert:hover {\n",
              "      background-color: #434B5C;\n",
              "      box-shadow: 0px 1px 3px 1px rgba(0, 0, 0, 0.15);\n",
              "      filter: drop-shadow(0px 1px 2px rgba(0, 0, 0, 0.3));\n",
              "      fill: #FFFFFF;\n",
              "    }\n",
              "  </style>\n",
              "\n",
              "      <script>\n",
              "        const buttonEl =\n",
              "          document.querySelector('#df-ba5bcf2c-8606-4abe-8583-9516ed4de9c6 button.colab-df-convert');\n",
              "        buttonEl.style.display =\n",
              "          google.colab.kernel.accessAllowed ? 'block' : 'none';\n",
              "\n",
              "        async function convertToInteractive(key) {\n",
              "          const element = document.querySelector('#df-ba5bcf2c-8606-4abe-8583-9516ed4de9c6');\n",
              "          const dataTable =\n",
              "            await google.colab.kernel.invokeFunction('convertToInteractive',\n",
              "                                                     [key], {});\n",
              "          if (!dataTable) return;\n",
              "\n",
              "          const docLinkHtml = 'Like what you see? Visit the ' +\n",
              "            '<a target=\"_blank\" href=https://colab.research.google.com/notebooks/data_table.ipynb>data table notebook</a>'\n",
              "            + ' to learn more about interactive tables.';\n",
              "          element.innerHTML = '';\n",
              "          dataTable['output_type'] = 'display_data';\n",
              "          await google.colab.output.renderOutput(dataTable, element);\n",
              "          const docLink = document.createElement('div');\n",
              "          docLink.innerHTML = docLinkHtml;\n",
              "          element.appendChild(docLink);\n",
              "        }\n",
              "      </script>\n",
              "    </div>\n",
              "  </div>\n",
              "  "
            ]
          },
          "metadata": {},
          "execution_count": 15
        }
      ]
    },
    {
      "cell_type": "markdown",
      "source": [
        "**9. Выведите на экран описательные статистики, воспользовавшись функцией describe(). Прокомментируйте результат.**"
      ],
      "metadata": {
        "id": "QgSiEFt5Ca7E"
      }
    },
    {
      "cell_type": "code",
      "source": [
        "df.describe()"
      ],
      "metadata": {
        "colab": {
          "base_uri": "https://localhost:8080/",
          "height": 300
        },
        "id": "vovcN8cGCVHb",
        "outputId": "ee2e03ba-78f6-4a2e-99a3-27e789f77bef"
      },
      "execution_count": null,
      "outputs": [
        {
          "output_type": "execute_result",
          "data": {
            "text/plain": [
              "            Sex    Length  Diameter    Height  Whole_weight  Shucked_weight  \\\n",
              "count  4177.000  4177.000  4177.000  4177.000      4177.000        4177.000   \n",
              "mean      1.053     0.524     0.408     0.140         0.829           0.359   \n",
              "std       0.822     0.120     0.099     0.042         0.490           0.222   \n",
              "min       0.000     0.075     0.055     0.000         0.002           0.001   \n",
              "25%       0.000     0.450     0.350     0.115         0.442           0.186   \n",
              "50%       1.000     0.545     0.425     0.140         0.799           0.336   \n",
              "75%       2.000     0.615     0.480     0.165         1.153           0.502   \n",
              "max       2.000     0.815     0.650     1.130         2.825           1.488   \n",
              "\n",
              "       Viscera_weight  Shell_weight     Rings  \n",
              "count       4.177e+03      4177.000  4177.000  \n",
              "mean        1.806e-01         0.239     9.934  \n",
              "std         1.096e-01         0.139     3.224  \n",
              "min         5.000e-04         0.002     1.000  \n",
              "25%         9.350e-02         0.130     8.000  \n",
              "50%         1.710e-01         0.234     9.000  \n",
              "75%         2.530e-01         0.329    11.000  \n",
              "max         7.600e-01         1.005    29.000  "
            ],
            "text/html": [
              "\n",
              "  <div id=\"df-47a5d053-47b2-4f59-85a7-f124aa5e7317\">\n",
              "    <div class=\"colab-df-container\">\n",
              "      <div>\n",
              "<style scoped>\n",
              "    .dataframe tbody tr th:only-of-type {\n",
              "        vertical-align: middle;\n",
              "    }\n",
              "\n",
              "    .dataframe tbody tr th {\n",
              "        vertical-align: top;\n",
              "    }\n",
              "\n",
              "    .dataframe thead th {\n",
              "        text-align: right;\n",
              "    }\n",
              "</style>\n",
              "<table border=\"1\" class=\"dataframe\">\n",
              "  <thead>\n",
              "    <tr style=\"text-align: right;\">\n",
              "      <th></th>\n",
              "      <th>Sex</th>\n",
              "      <th>Length</th>\n",
              "      <th>Diameter</th>\n",
              "      <th>Height</th>\n",
              "      <th>Whole_weight</th>\n",
              "      <th>Shucked_weight</th>\n",
              "      <th>Viscera_weight</th>\n",
              "      <th>Shell_weight</th>\n",
              "      <th>Rings</th>\n",
              "    </tr>\n",
              "  </thead>\n",
              "  <tbody>\n",
              "    <tr>\n",
              "      <th>count</th>\n",
              "      <td>4177.000</td>\n",
              "      <td>4177.000</td>\n",
              "      <td>4177.000</td>\n",
              "      <td>4177.000</td>\n",
              "      <td>4177.000</td>\n",
              "      <td>4177.000</td>\n",
              "      <td>4.177e+03</td>\n",
              "      <td>4177.000</td>\n",
              "      <td>4177.000</td>\n",
              "    </tr>\n",
              "    <tr>\n",
              "      <th>mean</th>\n",
              "      <td>1.053</td>\n",
              "      <td>0.524</td>\n",
              "      <td>0.408</td>\n",
              "      <td>0.140</td>\n",
              "      <td>0.829</td>\n",
              "      <td>0.359</td>\n",
              "      <td>1.806e-01</td>\n",
              "      <td>0.239</td>\n",
              "      <td>9.934</td>\n",
              "    </tr>\n",
              "    <tr>\n",
              "      <th>std</th>\n",
              "      <td>0.822</td>\n",
              "      <td>0.120</td>\n",
              "      <td>0.099</td>\n",
              "      <td>0.042</td>\n",
              "      <td>0.490</td>\n",
              "      <td>0.222</td>\n",
              "      <td>1.096e-01</td>\n",
              "      <td>0.139</td>\n",
              "      <td>3.224</td>\n",
              "    </tr>\n",
              "    <tr>\n",
              "      <th>min</th>\n",
              "      <td>0.000</td>\n",
              "      <td>0.075</td>\n",
              "      <td>0.055</td>\n",
              "      <td>0.000</td>\n",
              "      <td>0.002</td>\n",
              "      <td>0.001</td>\n",
              "      <td>5.000e-04</td>\n",
              "      <td>0.002</td>\n",
              "      <td>1.000</td>\n",
              "    </tr>\n",
              "    <tr>\n",
              "      <th>25%</th>\n",
              "      <td>0.000</td>\n",
              "      <td>0.450</td>\n",
              "      <td>0.350</td>\n",
              "      <td>0.115</td>\n",
              "      <td>0.442</td>\n",
              "      <td>0.186</td>\n",
              "      <td>9.350e-02</td>\n",
              "      <td>0.130</td>\n",
              "      <td>8.000</td>\n",
              "    </tr>\n",
              "    <tr>\n",
              "      <th>50%</th>\n",
              "      <td>1.000</td>\n",
              "      <td>0.545</td>\n",
              "      <td>0.425</td>\n",
              "      <td>0.140</td>\n",
              "      <td>0.799</td>\n",
              "      <td>0.336</td>\n",
              "      <td>1.710e-01</td>\n",
              "      <td>0.234</td>\n",
              "      <td>9.000</td>\n",
              "    </tr>\n",
              "    <tr>\n",
              "      <th>75%</th>\n",
              "      <td>2.000</td>\n",
              "      <td>0.615</td>\n",
              "      <td>0.480</td>\n",
              "      <td>0.165</td>\n",
              "      <td>1.153</td>\n",
              "      <td>0.502</td>\n",
              "      <td>2.530e-01</td>\n",
              "      <td>0.329</td>\n",
              "      <td>11.000</td>\n",
              "    </tr>\n",
              "    <tr>\n",
              "      <th>max</th>\n",
              "      <td>2.000</td>\n",
              "      <td>0.815</td>\n",
              "      <td>0.650</td>\n",
              "      <td>1.130</td>\n",
              "      <td>2.825</td>\n",
              "      <td>1.488</td>\n",
              "      <td>7.600e-01</td>\n",
              "      <td>1.005</td>\n",
              "      <td>29.000</td>\n",
              "    </tr>\n",
              "  </tbody>\n",
              "</table>\n",
              "</div>\n",
              "      <button class=\"colab-df-convert\" onclick=\"convertToInteractive('df-47a5d053-47b2-4f59-85a7-f124aa5e7317')\"\n",
              "              title=\"Convert this dataframe to an interactive table.\"\n",
              "              style=\"display:none;\">\n",
              "        \n",
              "  <svg xmlns=\"http://www.w3.org/2000/svg\" height=\"24px\"viewBox=\"0 0 24 24\"\n",
              "       width=\"24px\">\n",
              "    <path d=\"M0 0h24v24H0V0z\" fill=\"none\"/>\n",
              "    <path d=\"M18.56 5.44l.94 2.06.94-2.06 2.06-.94-2.06-.94-.94-2.06-.94 2.06-2.06.94zm-11 1L8.5 8.5l.94-2.06 2.06-.94-2.06-.94L8.5 2.5l-.94 2.06-2.06.94zm10 10l.94 2.06.94-2.06 2.06-.94-2.06-.94-.94-2.06-.94 2.06-2.06.94z\"/><path d=\"M17.41 7.96l-1.37-1.37c-.4-.4-.92-.59-1.43-.59-.52 0-1.04.2-1.43.59L10.3 9.45l-7.72 7.72c-.78.78-.78 2.05 0 2.83L4 21.41c.39.39.9.59 1.41.59.51 0 1.02-.2 1.41-.59l7.78-7.78 2.81-2.81c.8-.78.8-2.07 0-2.86zM5.41 20L4 18.59l7.72-7.72 1.47 1.35L5.41 20z\"/>\n",
              "  </svg>\n",
              "      </button>\n",
              "      \n",
              "  <style>\n",
              "    .colab-df-container {\n",
              "      display:flex;\n",
              "      flex-wrap:wrap;\n",
              "      gap: 12px;\n",
              "    }\n",
              "\n",
              "    .colab-df-convert {\n",
              "      background-color: #E8F0FE;\n",
              "      border: none;\n",
              "      border-radius: 50%;\n",
              "      cursor: pointer;\n",
              "      display: none;\n",
              "      fill: #1967D2;\n",
              "      height: 32px;\n",
              "      padding: 0 0 0 0;\n",
              "      width: 32px;\n",
              "    }\n",
              "\n",
              "    .colab-df-convert:hover {\n",
              "      background-color: #E2EBFA;\n",
              "      box-shadow: 0px 1px 2px rgba(60, 64, 67, 0.3), 0px 1px 3px 1px rgba(60, 64, 67, 0.15);\n",
              "      fill: #174EA6;\n",
              "    }\n",
              "\n",
              "    [theme=dark] .colab-df-convert {\n",
              "      background-color: #3B4455;\n",
              "      fill: #D2E3FC;\n",
              "    }\n",
              "\n",
              "    [theme=dark] .colab-df-convert:hover {\n",
              "      background-color: #434B5C;\n",
              "      box-shadow: 0px 1px 3px 1px rgba(0, 0, 0, 0.15);\n",
              "      filter: drop-shadow(0px 1px 2px rgba(0, 0, 0, 0.3));\n",
              "      fill: #FFFFFF;\n",
              "    }\n",
              "  </style>\n",
              "\n",
              "      <script>\n",
              "        const buttonEl =\n",
              "          document.querySelector('#df-47a5d053-47b2-4f59-85a7-f124aa5e7317 button.colab-df-convert');\n",
              "        buttonEl.style.display =\n",
              "          google.colab.kernel.accessAllowed ? 'block' : 'none';\n",
              "\n",
              "        async function convertToInteractive(key) {\n",
              "          const element = document.querySelector('#df-47a5d053-47b2-4f59-85a7-f124aa5e7317');\n",
              "          const dataTable =\n",
              "            await google.colab.kernel.invokeFunction('convertToInteractive',\n",
              "                                                     [key], {});\n",
              "          if (!dataTable) return;\n",
              "\n",
              "          const docLinkHtml = 'Like what you see? Visit the ' +\n",
              "            '<a target=\"_blank\" href=https://colab.research.google.com/notebooks/data_table.ipynb>data table notebook</a>'\n",
              "            + ' to learn more about interactive tables.';\n",
              "          element.innerHTML = '';\n",
              "          dataTable['output_type'] = 'display_data';\n",
              "          await google.colab.output.renderOutput(dataTable, element);\n",
              "          const docLink = document.createElement('div');\n",
              "          docLink.innerHTML = docLinkHtml;\n",
              "          element.appendChild(docLink);\n",
              "        }\n",
              "      </script>\n",
              "    </div>\n",
              "  </div>\n",
              "  "
            ]
          },
          "metadata": {},
          "execution_count": 16
        }
      ]
    },
    {
      "cell_type": "markdown",
      "source": [
        "**10.  Рассчитайте коэффициент корреляции Пирсона для каждой пары признаков (показателей), воспользуйтесь функцией corr(method='pearson'). Назовите пары показателей с наиболее сильной линейной связью.**"
      ],
      "metadata": {
        "id": "XcTHhbReC26X"
      }
    },
    {
      "cell_type": "code",
      "source": [
        "df.corr(method='pearson')\n",
        "# результативный признак средне коррелируется с остальными данными, факторные признаки отлично\n",
        "# коррелируются между собой"
      ],
      "metadata": {
        "colab": {
          "base_uri": "https://localhost:8080/",
          "height": 332
        },
        "id": "t_qCUU6UDYnq",
        "outputId": "879f6336-a1c1-4641-9677-21ffd06e9e49"
      },
      "execution_count": null,
      "outputs": [
        {
          "output_type": "execute_result",
          "data": {
            "text/plain": [
              "                  Sex  Length  Diameter  Height  Whole_weight  Shucked_weight  \\\n",
              "Sex             1.000  -0.036    -0.039  -0.042        -0.021          -0.001   \n",
              "Length         -0.036   1.000     0.987   0.828         0.925           0.898   \n",
              "Diameter       -0.039   0.987     1.000   0.834         0.925           0.893   \n",
              "Height         -0.042   0.828     0.834   1.000         0.819           0.775   \n",
              "Whole_weight   -0.021   0.925     0.925   0.819         1.000           0.969   \n",
              "Shucked_weight -0.001   0.898     0.893   0.775         0.969           1.000   \n",
              "Viscera_weight -0.032   0.903     0.900   0.798         0.966           0.932   \n",
              "Shell_weight   -0.035   0.898     0.905   0.817         0.955           0.883   \n",
              "Rings          -0.035   0.557     0.575   0.557         0.540           0.421   \n",
              "\n",
              "                Viscera_weight  Shell_weight  Rings  \n",
              "Sex                     -0.032        -0.035 -0.035  \n",
              "Length                   0.903         0.898  0.557  \n",
              "Diameter                 0.900         0.905  0.575  \n",
              "Height                   0.798         0.817  0.557  \n",
              "Whole_weight             0.966         0.955  0.540  \n",
              "Shucked_weight           0.932         0.883  0.421  \n",
              "Viscera_weight           1.000         0.908  0.504  \n",
              "Shell_weight             0.908         1.000  0.628  \n",
              "Rings                    0.504         0.628  1.000  "
            ],
            "text/html": [
              "\n",
              "  <div id=\"df-9d2bc993-8866-4277-9719-2fb418dd6773\">\n",
              "    <div class=\"colab-df-container\">\n",
              "      <div>\n",
              "<style scoped>\n",
              "    .dataframe tbody tr th:only-of-type {\n",
              "        vertical-align: middle;\n",
              "    }\n",
              "\n",
              "    .dataframe tbody tr th {\n",
              "        vertical-align: top;\n",
              "    }\n",
              "\n",
              "    .dataframe thead th {\n",
              "        text-align: right;\n",
              "    }\n",
              "</style>\n",
              "<table border=\"1\" class=\"dataframe\">\n",
              "  <thead>\n",
              "    <tr style=\"text-align: right;\">\n",
              "      <th></th>\n",
              "      <th>Sex</th>\n",
              "      <th>Length</th>\n",
              "      <th>Diameter</th>\n",
              "      <th>Height</th>\n",
              "      <th>Whole_weight</th>\n",
              "      <th>Shucked_weight</th>\n",
              "      <th>Viscera_weight</th>\n",
              "      <th>Shell_weight</th>\n",
              "      <th>Rings</th>\n",
              "    </tr>\n",
              "  </thead>\n",
              "  <tbody>\n",
              "    <tr>\n",
              "      <th>Sex</th>\n",
              "      <td>1.000</td>\n",
              "      <td>-0.036</td>\n",
              "      <td>-0.039</td>\n",
              "      <td>-0.042</td>\n",
              "      <td>-0.021</td>\n",
              "      <td>-0.001</td>\n",
              "      <td>-0.032</td>\n",
              "      <td>-0.035</td>\n",
              "      <td>-0.035</td>\n",
              "    </tr>\n",
              "    <tr>\n",
              "      <th>Length</th>\n",
              "      <td>-0.036</td>\n",
              "      <td>1.000</td>\n",
              "      <td>0.987</td>\n",
              "      <td>0.828</td>\n",
              "      <td>0.925</td>\n",
              "      <td>0.898</td>\n",
              "      <td>0.903</td>\n",
              "      <td>0.898</td>\n",
              "      <td>0.557</td>\n",
              "    </tr>\n",
              "    <tr>\n",
              "      <th>Diameter</th>\n",
              "      <td>-0.039</td>\n",
              "      <td>0.987</td>\n",
              "      <td>1.000</td>\n",
              "      <td>0.834</td>\n",
              "      <td>0.925</td>\n",
              "      <td>0.893</td>\n",
              "      <td>0.900</td>\n",
              "      <td>0.905</td>\n",
              "      <td>0.575</td>\n",
              "    </tr>\n",
              "    <tr>\n",
              "      <th>Height</th>\n",
              "      <td>-0.042</td>\n",
              "      <td>0.828</td>\n",
              "      <td>0.834</td>\n",
              "      <td>1.000</td>\n",
              "      <td>0.819</td>\n",
              "      <td>0.775</td>\n",
              "      <td>0.798</td>\n",
              "      <td>0.817</td>\n",
              "      <td>0.557</td>\n",
              "    </tr>\n",
              "    <tr>\n",
              "      <th>Whole_weight</th>\n",
              "      <td>-0.021</td>\n",
              "      <td>0.925</td>\n",
              "      <td>0.925</td>\n",
              "      <td>0.819</td>\n",
              "      <td>1.000</td>\n",
              "      <td>0.969</td>\n",
              "      <td>0.966</td>\n",
              "      <td>0.955</td>\n",
              "      <td>0.540</td>\n",
              "    </tr>\n",
              "    <tr>\n",
              "      <th>Shucked_weight</th>\n",
              "      <td>-0.001</td>\n",
              "      <td>0.898</td>\n",
              "      <td>0.893</td>\n",
              "      <td>0.775</td>\n",
              "      <td>0.969</td>\n",
              "      <td>1.000</td>\n",
              "      <td>0.932</td>\n",
              "      <td>0.883</td>\n",
              "      <td>0.421</td>\n",
              "    </tr>\n",
              "    <tr>\n",
              "      <th>Viscera_weight</th>\n",
              "      <td>-0.032</td>\n",
              "      <td>0.903</td>\n",
              "      <td>0.900</td>\n",
              "      <td>0.798</td>\n",
              "      <td>0.966</td>\n",
              "      <td>0.932</td>\n",
              "      <td>1.000</td>\n",
              "      <td>0.908</td>\n",
              "      <td>0.504</td>\n",
              "    </tr>\n",
              "    <tr>\n",
              "      <th>Shell_weight</th>\n",
              "      <td>-0.035</td>\n",
              "      <td>0.898</td>\n",
              "      <td>0.905</td>\n",
              "      <td>0.817</td>\n",
              "      <td>0.955</td>\n",
              "      <td>0.883</td>\n",
              "      <td>0.908</td>\n",
              "      <td>1.000</td>\n",
              "      <td>0.628</td>\n",
              "    </tr>\n",
              "    <tr>\n",
              "      <th>Rings</th>\n",
              "      <td>-0.035</td>\n",
              "      <td>0.557</td>\n",
              "      <td>0.575</td>\n",
              "      <td>0.557</td>\n",
              "      <td>0.540</td>\n",
              "      <td>0.421</td>\n",
              "      <td>0.504</td>\n",
              "      <td>0.628</td>\n",
              "      <td>1.000</td>\n",
              "    </tr>\n",
              "  </tbody>\n",
              "</table>\n",
              "</div>\n",
              "      <button class=\"colab-df-convert\" onclick=\"convertToInteractive('df-9d2bc993-8866-4277-9719-2fb418dd6773')\"\n",
              "              title=\"Convert this dataframe to an interactive table.\"\n",
              "              style=\"display:none;\">\n",
              "        \n",
              "  <svg xmlns=\"http://www.w3.org/2000/svg\" height=\"24px\"viewBox=\"0 0 24 24\"\n",
              "       width=\"24px\">\n",
              "    <path d=\"M0 0h24v24H0V0z\" fill=\"none\"/>\n",
              "    <path d=\"M18.56 5.44l.94 2.06.94-2.06 2.06-.94-2.06-.94-.94-2.06-.94 2.06-2.06.94zm-11 1L8.5 8.5l.94-2.06 2.06-.94-2.06-.94L8.5 2.5l-.94 2.06-2.06.94zm10 10l.94 2.06.94-2.06 2.06-.94-2.06-.94-.94-2.06-.94 2.06-2.06.94z\"/><path d=\"M17.41 7.96l-1.37-1.37c-.4-.4-.92-.59-1.43-.59-.52 0-1.04.2-1.43.59L10.3 9.45l-7.72 7.72c-.78.78-.78 2.05 0 2.83L4 21.41c.39.39.9.59 1.41.59.51 0 1.02-.2 1.41-.59l7.78-7.78 2.81-2.81c.8-.78.8-2.07 0-2.86zM5.41 20L4 18.59l7.72-7.72 1.47 1.35L5.41 20z\"/>\n",
              "  </svg>\n",
              "      </button>\n",
              "      \n",
              "  <style>\n",
              "    .colab-df-container {\n",
              "      display:flex;\n",
              "      flex-wrap:wrap;\n",
              "      gap: 12px;\n",
              "    }\n",
              "\n",
              "    .colab-df-convert {\n",
              "      background-color: #E8F0FE;\n",
              "      border: none;\n",
              "      border-radius: 50%;\n",
              "      cursor: pointer;\n",
              "      display: none;\n",
              "      fill: #1967D2;\n",
              "      height: 32px;\n",
              "      padding: 0 0 0 0;\n",
              "      width: 32px;\n",
              "    }\n",
              "\n",
              "    .colab-df-convert:hover {\n",
              "      background-color: #E2EBFA;\n",
              "      box-shadow: 0px 1px 2px rgba(60, 64, 67, 0.3), 0px 1px 3px 1px rgba(60, 64, 67, 0.15);\n",
              "      fill: #174EA6;\n",
              "    }\n",
              "\n",
              "    [theme=dark] .colab-df-convert {\n",
              "      background-color: #3B4455;\n",
              "      fill: #D2E3FC;\n",
              "    }\n",
              "\n",
              "    [theme=dark] .colab-df-convert:hover {\n",
              "      background-color: #434B5C;\n",
              "      box-shadow: 0px 1px 3px 1px rgba(0, 0, 0, 0.15);\n",
              "      filter: drop-shadow(0px 1px 2px rgba(0, 0, 0, 0.3));\n",
              "      fill: #FFFFFF;\n",
              "    }\n",
              "  </style>\n",
              "\n",
              "      <script>\n",
              "        const buttonEl =\n",
              "          document.querySelector('#df-9d2bc993-8866-4277-9719-2fb418dd6773 button.colab-df-convert');\n",
              "        buttonEl.style.display =\n",
              "          google.colab.kernel.accessAllowed ? 'block' : 'none';\n",
              "\n",
              "        async function convertToInteractive(key) {\n",
              "          const element = document.querySelector('#df-9d2bc993-8866-4277-9719-2fb418dd6773');\n",
              "          const dataTable =\n",
              "            await google.colab.kernel.invokeFunction('convertToInteractive',\n",
              "                                                     [key], {});\n",
              "          if (!dataTable) return;\n",
              "\n",
              "          const docLinkHtml = 'Like what you see? Visit the ' +\n",
              "            '<a target=\"_blank\" href=https://colab.research.google.com/notebooks/data_table.ipynb>data table notebook</a>'\n",
              "            + ' to learn more about interactive tables.';\n",
              "          element.innerHTML = '';\n",
              "          dataTable['output_type'] = 'display_data';\n",
              "          await google.colab.output.renderOutput(dataTable, element);\n",
              "          const docLink = document.createElement('div');\n",
              "          docLink.innerHTML = docLinkHtml;\n",
              "          element.appendChild(docLink);\n",
              "        }\n",
              "      </script>\n",
              "    </div>\n",
              "  </div>\n",
              "  "
            ]
          },
          "metadata": {},
          "execution_count": 17
        }
      ]
    },
    {
      "cell_type": "markdown",
      "source": [
        "**12. Постройте гистограмму для всех признаков, воспользовавшись функцией hist() и функцией show() из модуля matplotlib.pyplot. Прокомментируйте результат.**"
      ],
      "metadata": {
        "id": "ClPaqELFGSOk"
      }
    },
    {
      "cell_type": "code",
      "source": [
        "import matplotlib.pyplot as plt\n",
        "df.hist(figsize=(12,12))\n",
        "plt.show()"
      ],
      "metadata": {
        "colab": {
          "base_uri": "https://localhost:8080/",
          "height": 716
        },
        "id": "97fmiF9LGcGg",
        "outputId": "469d4758-81f7-4c6d-9b39-6c056d17da3e"
      },
      "execution_count": null,
      "outputs": [
        {
          "output_type": "display_data",
          "data": {
            "text/plain": [
              "<Figure size 864x864 with 9 Axes>"
            ],
            "image/png": "[encoded data removed]"
          },
          "metadata": {
            "needs_background": "light"
          }
        }
      ]
    },
    {
      "cell_type": "code",
      "source": [
        "df.skew()"
      ],
      "metadata": {
        "colab": {
          "base_uri": "https://localhost:8080/"
        },
        "id": "Djulu6IcILtM",
        "outputId": "77c94326-7e74-4047-f77f-645c11e96832"
      },
      "execution_count": null,
      "outputs": [
        {
          "output_type": "execute_result",
          "data": {
            "text/plain": [
              "Sex              -0.098\n",
              "Length           -0.640\n",
              "Diameter         -0.609\n",
              "Height            3.129\n",
              "Whole_weight      0.531\n",
              "Shucked_weight    0.719\n",
              "Viscera_weight    0.592\n",
              "Shell_weight      0.621\n",
              "Rings             1.114\n",
              "dtype: float64"
            ]
          },
          "metadata": {},
          "execution_count": 19
        }
      ]
    },
    {
      "cell_type": "code",
      "source": [
        "df.kurtosis()"
      ],
      "metadata": {
        "colab": {
          "base_uri": "https://localhost:8080/"
        },
        "id": "-8ZyWXCnKdq0",
        "outputId": "3a3ba92e-ed1f-45ba-dcf3-a134ef2391b4"
      },
      "execution_count": null,
      "outputs": [
        {
          "output_type": "execute_result",
          "data": {
            "text/plain": [
              "Sex               -1.514\n",
              "Length             0.065\n",
              "Diameter          -0.045\n",
              "Height            76.026\n",
              "Whole_weight      -0.024\n",
              "Shucked_weight     0.595\n",
              "Viscera_weight     0.084\n",
              "Shell_weight       0.532\n",
              "Rings              2.331\n",
              "dtype: float64"
            ]
          },
          "metadata": {},
          "execution_count": 20
        }
      ]
    },
    {
      "cell_type": "markdown",
      "source": [
        "**резюме:**\n",
        "\n",
        "Все признаки кроме признака 'Rings' имеют значительную асимметрию т.к. выходят за пределы стандартного отклонения, для 'Rings' асимметрия находится в пределах стандартного отклонения как и коэффициент эксцесса, т.е. можно считаль, что результирующий столбец 'Rings' распределен нормально."
      ],
      "metadata": {
        "id": "Zr4iWJeEIVK_"
      }
    },
    {
      "cell_type": "code",
      "source": [
        "df.describe()"
      ],
      "metadata": {
        "colab": {
          "base_uri": "https://localhost:8080/",
          "height": 300
        },
        "id": "GVFwinj4ISDC",
        "outputId": "49f20816-ab86-4c95-c51e-d2e2a8a874f2"
      },
      "execution_count": null,
      "outputs": [
        {
          "output_type": "execute_result",
          "data": {
            "text/plain": [
              "            Sex    Length  Diameter    Height  Whole_weight  Shucked_weight  \\\n",
              "count  4177.000  4177.000  4177.000  4177.000      4177.000        4177.000   \n",
              "mean      1.053     0.524     0.408     0.140         0.829           0.359   \n",
              "std       0.822     0.120     0.099     0.042         0.490           0.222   \n",
              "min       0.000     0.075     0.055     0.000         0.002           0.001   \n",
              "25%       0.000     0.450     0.350     0.115         0.442           0.186   \n",
              "50%       1.000     0.545     0.425     0.140         0.799           0.336   \n",
              "75%       2.000     0.615     0.480     0.165         1.153           0.502   \n",
              "max       2.000     0.815     0.650     1.130         2.825           1.488   \n",
              "\n",
              "       Viscera_weight  Shell_weight     Rings  \n",
              "count       4.177e+03      4177.000  4177.000  \n",
              "mean        1.806e-01         0.239     9.934  \n",
              "std         1.096e-01         0.139     3.224  \n",
              "min         5.000e-04         0.002     1.000  \n",
              "25%         9.350e-02         0.130     8.000  \n",
              "50%         1.710e-01         0.234     9.000  \n",
              "75%         2.530e-01         0.329    11.000  \n",
              "max         7.600e-01         1.005    29.000  "
            ],
            "text/html": [
              "\n",
              "  <div id=\"df-64fc7106-fe61-4f92-8ad2-dd2bdee21f19\">\n",
              "    <div class=\"colab-df-container\">\n",
              "      <div>\n",
              "<style scoped>\n",
              "    .dataframe tbody tr th:only-of-type {\n",
              "        vertical-align: middle;\n",
              "    }\n",
              "\n",
              "    .dataframe tbody tr th {\n",
              "        vertical-align: top;\n",
              "    }\n",
              "\n",
              "    .dataframe thead th {\n",
              "        text-align: right;\n",
              "    }\n",
              "</style>\n",
              "<table border=\"1\" class=\"dataframe\">\n",
              "  <thead>\n",
              "    <tr style=\"text-align: right;\">\n",
              "      <th></th>\n",
              "      <th>Sex</th>\n",
              "      <th>Length</th>\n",
              "      <th>Diameter</th>\n",
              "      <th>Height</th>\n",
              "      <th>Whole_weight</th>\n",
              "      <th>Shucked_weight</th>\n",
              "      <th>Viscera_weight</th>\n",
              "      <th>Shell_weight</th>\n",
              "      <th>Rings</th>\n",
              "    </tr>\n",
              "  </thead>\n",
              "  <tbody>\n",
              "    <tr>\n",
              "      <th>count</th>\n",
              "      <td>4177.000</td>\n",
              "      <td>4177.000</td>\n",
              "      <td>4177.000</td>\n",
              "      <td>4177.000</td>\n",
              "      <td>4177.000</td>\n",
              "      <td>4177.000</td>\n",
              "      <td>4.177e+03</td>\n",
              "      <td>4177.000</td>\n",
              "      <td>4177.000</td>\n",
              "    </tr>\n",
              "    <tr>\n",
              "      <th>mean</th>\n",
              "      <td>1.053</td>\n",
              "      <td>0.524</td>\n",
              "      <td>0.408</td>\n",
              "      <td>0.140</td>\n",
              "      <td>0.829</td>\n",
              "      <td>0.359</td>\n",
              "      <td>1.806e-01</td>\n",
              "      <td>0.239</td>\n",
              "      <td>9.934</td>\n",
              "    </tr>\n",
              "    <tr>\n",
              "      <th>std</th>\n",
              "      <td>0.822</td>\n",
              "      <td>0.120</td>\n",
              "      <td>0.099</td>\n",
              "      <td>0.042</td>\n",
              "      <td>0.490</td>\n",
              "      <td>0.222</td>\n",
              "      <td>1.096e-01</td>\n",
              "      <td>0.139</td>\n",
              "      <td>3.224</td>\n",
              "    </tr>\n",
              "    <tr>\n",
              "      <th>min</th>\n",
              "      <td>0.000</td>\n",
              "      <td>0.075</td>\n",
              "      <td>0.055</td>\n",
              "      <td>0.000</td>\n",
              "      <td>0.002</td>\n",
              "      <td>0.001</td>\n",
              "      <td>5.000e-04</td>\n",
              "      <td>0.002</td>\n",
              "      <td>1.000</td>\n",
              "    </tr>\n",
              "    <tr>\n",
              "      <th>25%</th>\n",
              "      <td>0.000</td>\n",
              "      <td>0.450</td>\n",
              "      <td>0.350</td>\n",
              "      <td>0.115</td>\n",
              "      <td>0.442</td>\n",
              "      <td>0.186</td>\n",
              "      <td>9.350e-02</td>\n",
              "      <td>0.130</td>\n",
              "      <td>8.000</td>\n",
              "    </tr>\n",
              "    <tr>\n",
              "      <th>50%</th>\n",
              "      <td>1.000</td>\n",
              "      <td>0.545</td>\n",
              "      <td>0.425</td>\n",
              "      <td>0.140</td>\n",
              "      <td>0.799</td>\n",
              "      <td>0.336</td>\n",
              "      <td>1.710e-01</td>\n",
              "      <td>0.234</td>\n",
              "      <td>9.000</td>\n",
              "    </tr>\n",
              "    <tr>\n",
              "      <th>75%</th>\n",
              "      <td>2.000</td>\n",
              "      <td>0.615</td>\n",
              "      <td>0.480</td>\n",
              "      <td>0.165</td>\n",
              "      <td>1.153</td>\n",
              "      <td>0.502</td>\n",
              "      <td>2.530e-01</td>\n",
              "      <td>0.329</td>\n",
              "      <td>11.000</td>\n",
              "    </tr>\n",
              "    <tr>\n",
              "      <th>max</th>\n",
              "      <td>2.000</td>\n",
              "      <td>0.815</td>\n",
              "      <td>0.650</td>\n",
              "      <td>1.130</td>\n",
              "      <td>2.825</td>\n",
              "      <td>1.488</td>\n",
              "      <td>7.600e-01</td>\n",
              "      <td>1.005</td>\n",
              "      <td>29.000</td>\n",
              "    </tr>\n",
              "  </tbody>\n",
              "</table>\n",
              "</div>\n",
              "      <button class=\"colab-df-convert\" onclick=\"convertToInteractive('df-64fc7106-fe61-4f92-8ad2-dd2bdee21f19')\"\n",
              "              title=\"Convert this dataframe to an interactive table.\"\n",
              "              style=\"display:none;\">\n",
              "        \n",
              "  <svg xmlns=\"http://www.w3.org/2000/svg\" height=\"24px\"viewBox=\"0 0 24 24\"\n",
              "       width=\"24px\">\n",
              "    <path d=\"M0 0h24v24H0V0z\" fill=\"none\"/>\n",
              "    <path d=\"M18.56 5.44l.94 2.06.94-2.06 2.06-.94-2.06-.94-.94-2.06-.94 2.06-2.06.94zm-11 1L8.5 8.5l.94-2.06 2.06-.94-2.06-.94L8.5 2.5l-.94 2.06-2.06.94zm10 10l.94 2.06.94-2.06 2.06-.94-2.06-.94-.94-2.06-.94 2.06-2.06.94z\"/><path d=\"M17.41 7.96l-1.37-1.37c-.4-.4-.92-.59-1.43-.59-.52 0-1.04.2-1.43.59L10.3 9.45l-7.72 7.72c-.78.78-.78 2.05 0 2.83L4 21.41c.39.39.9.59 1.41.59.51 0 1.02-.2 1.41-.59l7.78-7.78 2.81-2.81c.8-.78.8-2.07 0-2.86zM5.41 20L4 18.59l7.72-7.72 1.47 1.35L5.41 20z\"/>\n",
              "  </svg>\n",
              "      </button>\n",
              "      \n",
              "  <style>\n",
              "    .colab-df-container {\n",
              "      display:flex;\n",
              "      flex-wrap:wrap;\n",
              "      gap: 12px;\n",
              "    }\n",
              "\n",
              "    .colab-df-convert {\n",
              "      background-color: #E8F0FE;\n",
              "      border: none;\n",
              "      border-radius: 50%;\n",
              "      cursor: pointer;\n",
              "      display: none;\n",
              "      fill: #1967D2;\n",
              "      height: 32px;\n",
              "      padding: 0 0 0 0;\n",
              "      width: 32px;\n",
              "    }\n",
              "\n",
              "    .colab-df-convert:hover {\n",
              "      background-color: #E2EBFA;\n",
              "      box-shadow: 0px 1px 2px rgba(60, 64, 67, 0.3), 0px 1px 3px 1px rgba(60, 64, 67, 0.15);\n",
              "      fill: #174EA6;\n",
              "    }\n",
              "\n",
              "    [theme=dark] .colab-df-convert {\n",
              "      background-color: #3B4455;\n",
              "      fill: #D2E3FC;\n",
              "    }\n",
              "\n",
              "    [theme=dark] .colab-df-convert:hover {\n",
              "      background-color: #434B5C;\n",
              "      box-shadow: 0px 1px 3px 1px rgba(0, 0, 0, 0.15);\n",
              "      filter: drop-shadow(0px 1px 2px rgba(0, 0, 0, 0.3));\n",
              "      fill: #FFFFFF;\n",
              "    }\n",
              "  </style>\n",
              "\n",
              "      <script>\n",
              "        const buttonEl =\n",
              "          document.querySelector('#df-64fc7106-fe61-4f92-8ad2-dd2bdee21f19 button.colab-df-convert');\n",
              "        buttonEl.style.display =\n",
              "          google.colab.kernel.accessAllowed ? 'block' : 'none';\n",
              "\n",
              "        async function convertToInteractive(key) {\n",
              "          const element = document.querySelector('#df-64fc7106-fe61-4f92-8ad2-dd2bdee21f19');\n",
              "          const dataTable =\n",
              "            await google.colab.kernel.invokeFunction('convertToInteractive',\n",
              "                                                     [key], {});\n",
              "          if (!dataTable) return;\n",
              "\n",
              "          const docLinkHtml = 'Like what you see? Visit the ' +\n",
              "            '<a target=\"_blank\" href=https://colab.research.google.com/notebooks/data_table.ipynb>data table notebook</a>'\n",
              "            + ' to learn more about interactive tables.';\n",
              "          element.innerHTML = '';\n",
              "          dataTable['output_type'] = 'display_data';\n",
              "          await google.colab.output.renderOutput(dataTable, element);\n",
              "          const docLink = document.createElement('div');\n",
              "          docLink.innerHTML = docLinkHtml;\n",
              "          element.appendChild(docLink);\n",
              "        }\n",
              "      </script>\n",
              "    </div>\n",
              "  </div>\n",
              "  "
            ]
          },
          "metadata": {},
          "execution_count": 21
        }
      ]
    },
    {
      "cell_type": "markdown",
      "source": [
        "**13. Постройте ядерную функцию плотности для всех признаков, воспользовавшись функцией plot(kind='density') и функцией show() из модуля matplotlib.pyplot. Прокомментируйте результат.**"
      ],
      "metadata": {
        "id": "E9yd3RSlMGoe"
      }
    },
    {
      "cell_type": "code",
      "source": [
        "df.plot(kind='density',subplots=True, layout=(3,3),sharex=False,figsize=(14,14))\n",
        "plt.show()"
      ],
      "metadata": {
        "colab": {
          "base_uri": "https://localhost:8080/",
          "height": 809
        },
        "id": "C-paW2aRMQL7",
        "outputId": "23738f74-6524-433e-c82a-4921d596ef89"
      },
      "execution_count": null,
      "outputs": [
        {
          "output_type": "display_data",
          "data": {
            "text/plain": [
              "<Figure size 1008x1008 with 9 Axes>"
            ],
            "image/png": "[encoded data removed]"
          },
          "metadata": {
            "needs_background": "light"
          }
        }
      ]
    },
    {
      "cell_type": "markdown",
      "source": [
        "**14. Постройте ящики с усами для всех признаков, воспользовавшись функцией plot(kind='box', subplots=True, layout=(3,3), sharex=False, sharey=False) и функцией show() из модуля matplotlib.pyplot. Прокомментируйте результат.**"
      ],
      "metadata": {
        "id": "OGF6FW3nNLl3"
      }
    },
    {
      "cell_type": "code",
      "source": [
        "df.plot(kind='box', subplots=True, layout=(3,3), sharex=False, sharey=False, figsize=(12,12))\n",
        "plt.show()"
      ],
      "metadata": {
        "colab": {
          "base_uri": "https://localhost:8080/",
          "height": 701
        },
        "id": "-9ts90DpNQ6_",
        "outputId": "d4a516f8-97ca-4936-f2a8-8261e10464c0"
      },
      "execution_count": null,
      "outputs": [
        {
          "output_type": "display_data",
          "data": {
            "text/plain": [
              "<Figure size 864x864 with 9 Axes>"
            ],
            "image/png": "[encoded data removed]"
          },
          "metadata": {
            "needs_background": "light"
          }
        }
      ]
    },
    {
      "cell_type": "markdown",
      "source": [
        "**15. Постройте диаграмму рассеяния, воспользовавшись функцией scatter_matrix() из модуля pandas.plotting и функцией show() из модуля matplotlib.pyplot. Прокомментируйте результат.**"
      ],
      "metadata": {
        "id": "aPd0OccYN_af"
      }
    },
    {
      "cell_type": "code",
      "source": [
        "scatter_matrix(df,figsize=(12,12))\n",
        "plt.show()"
      ],
      "metadata": {
        "colab": {
          "base_uri": "https://localhost:8080/",
          "height": 724
        },
        "id": "yyQNIK13OH5m",
        "outputId": "417b098c-8925-487b-ed25-bdbce51b99f0"
      },
      "execution_count": null,
      "outputs": [
        {
          "output_type": "display_data",
          "data": {
            "text/plain": [
              "<Figure size 864x864 with 81 Axes>"
            ],
            "image/png": "[encoded data removed]"
          },
          "metadata": {
            "needs_background": "light"
          }
        }
      ]
    },
    {
      "cell_type": "markdown",
      "source": [
        "**16.  Постройте коррелограмму в виде тепловой карты, воспользовавшись функцией figure() из модуля matplotlib.pyplot, функцией heatmap(data.corr(), annot = True) из модуля seaborn и функцией show() из модуля matplotlib.pyplot. Прокомментируйте результат.**"
      ],
      "metadata": {
        "id": "uEC2CFDoOtem"
      }
    },
    {
      "cell_type": "code",
      "source": [],
      "metadata": {
        "id": "SmPMJtW4HrqD"
      },
      "execution_count": null,
      "outputs": []
    },
    {
      "cell_type": "code",
      "source": [
        "import seaborn as sns\n",
        "fig=plt.figure(figsize=(14,12))\n",
        "sns.heatmap(df.corr(), annot = True)\n",
        "plt.show()"
      ],
      "metadata": {
        "colab": {
          "base_uri": "https://localhost:8080/",
          "height": 775
        },
        "id": "71TZFNFGO0O7",
        "outputId": "61866ae0-fae1-4249-9fac-5c250c83ba3c"
      },
      "execution_count": null,
      "outputs": [
        {
          "output_type": "display_data",
          "data": {
            "text/plain": [
              "<Figure size 1008x864 with 2 Axes>"
            ],
            "image/png": "[encoded data removed]"
          },
          "metadata": {
            "needs_background": "light"
          }
        }
      ]
    },
    {
      "cell_type": "markdown",
      "source": [
        "# **Раздел 3. Разбивка выборки на тестовую и обучающую**"
      ],
      "metadata": {
        "id": "RP_ghMPHuAqT"
      }
    },
    {
      "cell_type": "markdown",
      "source": [
        "**17. Сохраните в переменную array значения признаков, обратившись к атрибуту values.**"
      ],
      "metadata": {
        "id": "HzWTJJV8uFbd"
      }
    },
    {
      "cell_type": "code",
      "source": [
        "# т.к. в последнем столбце указаны количество колец, каждое кольцо = 1.5 годам, нам нужно прогнозировать возраст\n",
        "# для этого создаем результирующий столбец с переводом колец в года и зададим его как результирующий\n",
        "df[\"year\"] = df[\"Rings\"]*1.5"
      ],
      "metadata": {
        "id": "he7EKgYbEraT"
      },
      "execution_count": null,
      "outputs": []
    },
    {
      "cell_type": "code",
      "source": [
        "array = df.values\n",
        "array"
      ],
      "metadata": {
        "colab": {
          "base_uri": "https://localhost:8080/"
        },
        "id": "kJPtKBL4ud27",
        "outputId": "d9f4075e-ca74-4677-be2d-b33c54c0757f"
      },
      "execution_count": null,
      "outputs": [
        {
          "output_type": "execute_result",
          "data": {
            "text/plain": [
              "array([[ 2.   ,  0.455,  0.365, ...,  0.15 , 15.   , 22.5  ],\n",
              "       [ 2.   ,  0.35 ,  0.265, ...,  0.07 ,  7.   , 10.5  ],\n",
              "       [ 0.   ,  0.53 ,  0.42 , ...,  0.21 ,  9.   , 13.5  ],\n",
              "       ...,\n",
              "       [ 2.   ,  0.6  ,  0.475, ...,  0.308,  9.   , 13.5  ],\n",
              "       [ 0.   ,  0.625,  0.485, ...,  0.296, 10.   , 15.   ],\n",
              "       [ 2.   ,  0.71 ,  0.555, ...,  0.495, 12.   , 18.   ]])"
            ]
          },
          "metadata": {},
          "execution_count": 27
        }
      ]
    },
    {
      "cell_type": "markdown",
      "source": [
        "**18. Выделите в переменной array часть, которая относится к факторным признакам, назовите ее X, и часть, которая относится к результативному признаку, - Y. Прокомментируйте содержимое переменных X и Y.**"
      ],
      "metadata": {
        "id": "vQA6eDXWumRQ"
      }
    },
    {
      "cell_type": "code",
      "source": [
        "df.head(2)"
      ],
      "metadata": {
        "colab": {
          "base_uri": "https://localhost:8080/",
          "height": 112
        },
        "id": "tmC7iGJ2wSIZ",
        "outputId": "8f66666b-39ec-4d30-944e-f1cd7db11f66"
      },
      "execution_count": null,
      "outputs": [
        {
          "output_type": "execute_result",
          "data": {
            "text/plain": [
              "   Sex  Length  Diameter  Height  Whole_weight  Shucked_weight  \\\n",
              "0    2   0.455     0.365   0.095         0.514           0.225   \n",
              "1    2   0.350     0.265   0.090         0.226           0.100   \n",
              "\n",
              "   Viscera_weight  Shell_weight  Rings  year  \n",
              "0           0.101          0.15     15  22.5  \n",
              "1           0.049          0.07      7  10.5  "
            ],
            "text/html": [
              "\n",
              "  <div id=\"df-4dcad412-de8c-4887-94e7-532eaad83d88\">\n",
              "    <div class=\"colab-df-container\">\n",
              "      <div>\n",
              "<style scoped>\n",
              "    .dataframe tbody tr th:only-of-type {\n",
              "        vertical-align: middle;\n",
              "    }\n",
              "\n",
              "    .dataframe tbody tr th {\n",
              "        vertical-align: top;\n",
              "    }\n",
              "\n",
              "    .dataframe thead th {\n",
              "        text-align: right;\n",
              "    }\n",
              "</style>\n",
              "<table border=\"1\" class=\"dataframe\">\n",
              "  <thead>\n",
              "    <tr style=\"text-align: right;\">\n",
              "      <th></th>\n",
              "      <th>Sex</th>\n",
              "      <th>Length</th>\n",
              "      <th>Diameter</th>\n",
              "      <th>Height</th>\n",
              "      <th>Whole_weight</th>\n",
              "      <th>Shucked_weight</th>\n",
              "      <th>Viscera_weight</th>\n",
              "      <th>Shell_weight</th>\n",
              "      <th>Rings</th>\n",
              "      <th>year</th>\n",
              "    </tr>\n",
              "  </thead>\n",
              "  <tbody>\n",
              "    <tr>\n",
              "      <th>0</th>\n",
              "      <td>2</td>\n",
              "      <td>0.455</td>\n",
              "      <td>0.365</td>\n",
              "      <td>0.095</td>\n",
              "      <td>0.514</td>\n",
              "      <td>0.225</td>\n",
              "      <td>0.101</td>\n",
              "      <td>0.15</td>\n",
              "      <td>15</td>\n",
              "      <td>22.5</td>\n",
              "    </tr>\n",
              "    <tr>\n",
              "      <th>1</th>\n",
              "      <td>2</td>\n",
              "      <td>0.350</td>\n",
              "      <td>0.265</td>\n",
              "      <td>0.090</td>\n",
              "      <td>0.226</td>\n",
              "      <td>0.100</td>\n",
              "      <td>0.049</td>\n",
              "      <td>0.07</td>\n",
              "      <td>7</td>\n",
              "      <td>10.5</td>\n",
              "    </tr>\n",
              "  </tbody>\n",
              "</table>\n",
              "</div>\n",
              "      <button class=\"colab-df-convert\" onclick=\"convertToInteractive('df-4dcad412-de8c-4887-94e7-532eaad83d88')\"\n",
              "              title=\"Convert this dataframe to an interactive table.\"\n",
              "              style=\"display:none;\">\n",
              "        \n",
              "  <svg xmlns=\"http://www.w3.org/2000/svg\" height=\"24px\"viewBox=\"0 0 24 24\"\n",
              "       width=\"24px\">\n",
              "    <path d=\"M0 0h24v24H0V0z\" fill=\"none\"/>\n",
              "    <path d=\"M18.56 5.44l.94 2.06.94-2.06 2.06-.94-2.06-.94-.94-2.06-.94 2.06-2.06.94zm-11 1L8.5 8.5l.94-2.06 2.06-.94-2.06-.94L8.5 2.5l-.94 2.06-2.06.94zm10 10l.94 2.06.94-2.06 2.06-.94-2.06-.94-.94-2.06-.94 2.06-2.06.94z\"/><path d=\"M17.41 7.96l-1.37-1.37c-.4-.4-.92-.59-1.43-.59-.52 0-1.04.2-1.43.59L10.3 9.45l-7.72 7.72c-.78.78-.78 2.05 0 2.83L4 21.41c.39.39.9.59 1.41.59.51 0 1.02-.2 1.41-.59l7.78-7.78 2.81-2.81c.8-.78.8-2.07 0-2.86zM5.41 20L4 18.59l7.72-7.72 1.47 1.35L5.41 20z\"/>\n",
              "  </svg>\n",
              "      </button>\n",
              "      \n",
              "  <style>\n",
              "    .colab-df-container {\n",
              "      display:flex;\n",
              "      flex-wrap:wrap;\n",
              "      gap: 12px;\n",
              "    }\n",
              "\n",
              "    .colab-df-convert {\n",
              "      background-color: #E8F0FE;\n",
              "      border: none;\n",
              "      border-radius: 50%;\n",
              "      cursor: pointer;\n",
              "      display: none;\n",
              "      fill: #1967D2;\n",
              "      height: 32px;\n",
              "      padding: 0 0 0 0;\n",
              "      width: 32px;\n",
              "    }\n",
              "\n",
              "    .colab-df-convert:hover {\n",
              "      background-color: #E2EBFA;\n",
              "      box-shadow: 0px 1px 2px rgba(60, 64, 67, 0.3), 0px 1px 3px 1px rgba(60, 64, 67, 0.15);\n",
              "      fill: #174EA6;\n",
              "    }\n",
              "\n",
              "    [theme=dark] .colab-df-convert {\n",
              "      background-color: #3B4455;\n",
              "      fill: #D2E3FC;\n",
              "    }\n",
              "\n",
              "    [theme=dark] .colab-df-convert:hover {\n",
              "      background-color: #434B5C;\n",
              "      box-shadow: 0px 1px 3px 1px rgba(0, 0, 0, 0.15);\n",
              "      filter: drop-shadow(0px 1px 2px rgba(0, 0, 0, 0.3));\n",
              "      fill: #FFFFFF;\n",
              "    }\n",
              "  </style>\n",
              "\n",
              "      <script>\n",
              "        const buttonEl =\n",
              "          document.querySelector('#df-4dcad412-de8c-4887-94e7-532eaad83d88 button.colab-df-convert');\n",
              "        buttonEl.style.display =\n",
              "          google.colab.kernel.accessAllowed ? 'block' : 'none';\n",
              "\n",
              "        async function convertToInteractive(key) {\n",
              "          const element = document.querySelector('#df-4dcad412-de8c-4887-94e7-532eaad83d88');\n",
              "          const dataTable =\n",
              "            await google.colab.kernel.invokeFunction('convertToInteractive',\n",
              "                                                     [key], {});\n",
              "          if (!dataTable) return;\n",
              "\n",
              "          const docLinkHtml = 'Like what you see? Visit the ' +\n",
              "            '<a target=\"_blank\" href=https://colab.research.google.com/notebooks/data_table.ipynb>data table notebook</a>'\n",
              "            + ' to learn more about interactive tables.';\n",
              "          element.innerHTML = '';\n",
              "          dataTable['output_type'] = 'display_data';\n",
              "          await google.colab.output.renderOutput(dataTable, element);\n",
              "          const docLink = document.createElement('div');\n",
              "          docLink.innerHTML = docLinkHtml;\n",
              "          element.appendChild(docLink);\n",
              "        }\n",
              "      </script>\n",
              "    </div>\n",
              "  </div>\n",
              "  "
            ]
          },
          "metadata": {},
          "execution_count": 28
        }
      ]
    },
    {
      "cell_type": "code",
      "source": [
        "X = array[:,:8]\n",
        "Y = array[:,9]"
      ],
      "metadata": {
        "id": "p0a3ZMElu1rW"
      },
      "execution_count": null,
      "outputs": []
    },
    {
      "cell_type": "code",
      "source": [
        "Y"
      ],
      "metadata": {
        "colab": {
          "base_uri": "https://localhost:8080/"
        },
        "id": "GOL5NMlkwZOB",
        "outputId": "e705ea09-4ae2-41e3-8996-a738a84005f8"
      },
      "execution_count": null,
      "outputs": [
        {
          "output_type": "execute_result",
          "data": {
            "text/plain": [
              "array([22.5, 10.5, 13.5, ..., 13.5, 15. , 18. ])"
            ]
          },
          "metadata": {},
          "execution_count": 30
        }
      ]
    },
    {
      "cell_type": "markdown",
      "source": [
        "**19. Разбейте выборку на обучающий и тестовый набор с помощью функции train_test_split() из модуля sklearn.model_selection. Пусть доля тестовой выборки - 0,2. Результат запишите в переменные X_train, X_test, Y_train, Y_test.**"
      ],
      "metadata": {
        "id": "y_yVGlhJutjI"
      }
    },
    {
      "cell_type": "code",
      "source": [
        "test_size = 0.2\n",
        "seed = 7"
      ],
      "metadata": {
        "id": "nvpKpw6dxDL_"
      },
      "execution_count": null,
      "outputs": []
    },
    {
      "cell_type": "code",
      "source": [
        "X_train, X_test, Y_train, Y_test = train_test_split(X,Y, test_size=test_size,random_state=seed)"
      ],
      "metadata": {
        "id": "3JmISJAsw3aT"
      },
      "execution_count": null,
      "outputs": []
    },
    {
      "cell_type": "markdown",
      "source": [
        "# **Раздел 4. Выбор лучшей модели по исходным данным**"
      ],
      "metadata": {
        "id": "DcM62Ipqxhaj"
      }
    },
    {
      "cell_type": "markdown",
      "source": [
        "**20. Создайте пустой список и запишите его в переменную models.**"
      ],
      "metadata": {
        "id": "PdXqNNymxlu9"
      }
    },
    {
      "cell_type": "code",
      "source": [
        "models=[]"
      ],
      "metadata": {
        "id": "pFZCwBXpxlRb"
      },
      "execution_count": null,
      "outputs": []
    },
    {
      "cell_type": "markdown",
      "source": [
        "**21.  Добавьте в список models с помощью функции append() набор из кортежей, первый элемент которого содержит название модели, а второй – функцию для создания соответствующей модели. Включите все линейные и нелинейные модели для регрессии, рассмотренные в заданиях 10 и 11.**"
      ],
      "metadata": {
        "id": "2nF8DnzS6xWn"
      }
    },
    {
      "cell_type": "code",
      "source": [
        "models.append(('LinRegr',LinearRegression())) # линейная регрессия"
      ],
      "metadata": {
        "id": "dch0Lh0-dBrl"
      },
      "execution_count": null,
      "outputs": []
    },
    {
      "cell_type": "code",
      "source": [
        "models.append(('Ridge',Ridge())) # гребневая регрессия"
      ],
      "metadata": {
        "id": "Tc3p--2HdQZX"
      },
      "execution_count": null,
      "outputs": []
    },
    {
      "cell_type": "code",
      "source": [
        "models.append(('Lasso',Lasso())) # лассо регрессия"
      ],
      "metadata": {
        "id": "8D7d_9bKdWwH"
      },
      "execution_count": null,
      "outputs": []
    },
    {
      "cell_type": "code",
      "source": [
        "models.append(('ElasticNet',ElasticNet())) # стремится объединить лучшее из гребневой регрессии и регрессии лассо"
      ],
      "metadata": {
        "id": "3lARRP6Kddfk"
      },
      "execution_count": null,
      "outputs": []
    },
    {
      "cell_type": "code",
      "source": [
        "models.append(('KNN',KNeighborsRegressor())) # модель ближайшего соседа"
      ],
      "metadata": {
        "id": "Z7kAbQ64djMM"
      },
      "execution_count": null,
      "outputs": []
    },
    {
      "cell_type": "code",
      "source": [
        "models.append(('DTree',DecisionTreeRegressor())) # модель решающего дерева"
      ],
      "metadata": {
        "id": "OZaOs3R1dqDE"
      },
      "execution_count": null,
      "outputs": []
    },
    {
      "cell_type": "code",
      "source": [
        "models.append(('SVM',SVR())) # модель опорных векторов"
      ],
      "metadata": {
        "id": "0D7qZ4CGdwTS"
      },
      "execution_count": null,
      "outputs": []
    },
    {
      "cell_type": "markdown",
      "source": [
        "**22. Выведите на экран список названий моделей с соответствующими значениями средней квадратичной оценки, взятой с отрицательным знаком, и стандартного отклонения, рассчитанными на кросс-валидации.**"
      ],
      "metadata": {
        "id": "Z5nP5ChB7CdG"
      }
    },
    {
      "cell_type": "markdown",
      "source": [
        "***Раздел 5. Выбор лучшей модели по стандартизированным данным**"
      ],
      "metadata": {
        "id": "5uvJDCIR7e36"
      }
    },
    {
      "cell_type": "code",
      "source": [
        "models"
      ],
      "metadata": {
        "colab": {
          "base_uri": "https://localhost:8080/"
        },
        "id": "bqmiwsyBd2Th",
        "outputId": "5c601f4d-73a8-4bfc-b2fd-c1c67a408462"
      },
      "execution_count": null,
      "outputs": [
        {
          "output_type": "execute_result",
          "data": {
            "text/plain": [
              "[('LinRegr', LinearRegression()),\n",
              " ('Ridge', Ridge()),\n",
              " ('Lasso', Lasso()),\n",
              " ('ElasticNet', ElasticNet()),\n",
              " ('KNN', KNeighborsRegressor()),\n",
              " ('DTree', DecisionTreeRegressor()),\n",
              " ('SVM', SVR())]"
            ]
          },
          "metadata": {},
          "execution_count": 41
        }
      ]
    },
    {
      "cell_type": "code",
      "source": [
        "results =[]\n",
        "names=[]"
      ],
      "metadata": {
        "id": "iy1hJXQPd3V0"
      },
      "execution_count": null,
      "outputs": []
    },
    {
      "cell_type": "code",
      "source": [
        "scoring='neg_mean_squared_error'"
      ],
      "metadata": {
        "id": "Vz8dhEfUeM4a"
      },
      "execution_count": null,
      "outputs": []
    },
    {
      "cell_type": "code",
      "source": [
        "for name, model in models:\n",
        "  kfold=KFold(n_splits=10, random_state=7, shuffle=True)\n",
        "  cv_results=cross_val_score(model, X, Y, cv=kfold, scoring=scoring)\n",
        "  results.append(cv_results)\n",
        "  names.append(name)\n",
        "  print(name,cv_results.mean(),cv_results.std())"
      ],
      "metadata": {
        "colab": {
          "base_uri": "https://localhost:8080/"
        },
        "id": "d97hooOWBzzH",
        "outputId": "72723425-32aa-4a3f-9eb9-388e3dbb07c6"
      },
      "execution_count": null,
      "outputs": [
        {
          "output_type": "stream",
          "name": "stdout",
          "text": [
            "LinRegr -11.395044774918976 1.3730907358901387\n",
            "Ridge -11.225939146078888 0.8978241090896703\n",
            "Lasso -20.732595943886494 1.8297673126237766\n",
            "ElasticNet -20.96088805957144 1.8152405022770481\n",
            "KNN -11.284511927300267 1.1240986318740132\n",
            "DTree -19.805305325117892 1.9514449070953857\n",
            "SVM -12.321523138783864 1.411749892118526\n"
          ]
        }
      ]
    },
    {
      "cell_type": "markdown",
      "source": [
        "**23. Изобразите результаты расчетов в виде ящика с усами.**"
      ],
      "metadata": {
        "id": "e1VPBHKFGm1m"
      }
    },
    {
      "cell_type": "code",
      "source": [
        "fig=pyplot.figure()\n",
        "fig.suptitle('Сравнение моделей')\n",
        "ax=fig.add_subplot(111)\n",
        "pyplot.boxplot(results)\n",
        "ax.set_xticklabels(names)\n",
        "pyplot.show()"
      ],
      "metadata": {
        "colab": {
          "base_uri": "https://localhost:8080/",
          "height": 294
        },
        "id": "HvRDguyeGwSd",
        "outputId": "6276e404-38d8-425f-d0e9-7924161d840b"
      },
      "execution_count": null,
      "outputs": [
        {
          "output_type": "display_data",
          "data": {
            "text/plain": [
              "<Figure size 432x288 with 1 Axes>"
            ],
            "image/png": "[encoded data removed]"
          },
          "metadata": {
            "needs_background": "light"
          }
        }
      ]
    },
    {
      "cell_type": "markdown",
      "source": [
        "**24. Выберите лучшую модель. Обоснуйте свой выбор.**"
      ],
      "metadata": {
        "id": "VUEKLgzsHBbe"
      }
    },
    {
      "cell_type": "markdown",
      "source": [
        "# **Раздел 5. Выбор лучшей модели по стандартизированным данным**"
      ],
      "metadata": {
        "id": "JK564OxhHGKy"
      }
    },
    {
      "cell_type": "markdown",
      "source": [
        "**25. Создайте пустой список в переменной pipelines.**"
      ],
      "metadata": {
        "id": "rvlW8yfnHKHc"
      }
    },
    {
      "cell_type": "code",
      "source": [
        "pipelines=[]"
      ],
      "metadata": {
        "id": "hynOg9duHRPK"
      },
      "execution_count": null,
      "outputs": []
    },
    {
      "cell_type": "markdown",
      "source": [
        "**26. Добавьте в него кортеж, в котором содержится название стандартизированной модели и конвеер, в котором происходит стандартизация соответствующей модели. Проделайте это для всех моделей. Напомним, что программный конвеер создается с помощью функции Pipeline() из модуля sklearn.pipeline.**\n"
      ],
      "metadata": {
        "id": "NnT2QTBUHvRX"
      }
    },
    {
      "cell_type": "code",
      "source": [
        "scaler=StandardScaler().fit(X) # стандартизуем факторные признаки\n",
        "rescaledX=scaler.transform(X)"
      ],
      "metadata": {
        "id": "yR8jJrGSB2KM"
      },
      "execution_count": null,
      "outputs": []
    },
    {
      "cell_type": "code",
      "source": [
        "rescaledX # просмотр стандартизованных факторных прихнаков"
      ],
      "metadata": {
        "colab": {
          "base_uri": "https://localhost:8080/"
        },
        "id": "vDtSs4YsERmT",
        "outputId": "ba07b8fa-cc86-4c6b-e209-863832dcc0dc"
      },
      "execution_count": null,
      "outputs": [
        {
          "output_type": "execute_result",
          "data": {
            "text/plain": [
              "array([[ 1.15198011, -0.57455813, -0.43214879, ..., -0.60768536,\n",
              "        -0.72621157, -0.63821689],\n",
              "       [ 1.15198011, -1.44898585, -1.439929  , ..., -1.17090984,\n",
              "        -1.20522124, -1.21298732],\n",
              "       [-1.28068972,  0.05003309,  0.12213032, ..., -0.4634999 ,\n",
              "        -0.35668983, -0.20713907],\n",
              "       ...,\n",
              "       [ 1.15198011,  0.6329849 ,  0.67640943, ...,  0.74855917,\n",
              "         0.97541324,  0.49695471],\n",
              "       [-1.28068972,  0.84118198,  0.77718745, ...,  0.77334105,\n",
              "         0.73362741,  0.41073914],\n",
              "       [ 1.15198011,  1.54905203,  1.48263359, ...,  2.64099341,\n",
              "         1.78744868,  1.84048058]])"
            ]
          },
          "metadata": {},
          "execution_count": 48
        }
      ]
    },
    {
      "cell_type": "code",
      "source": [
        "results =[] # пустые списки для цикла\n",
        "names=[]"
      ],
      "metadata": {
        "id": "7a6geZRVFFII"
      },
      "execution_count": null,
      "outputs": []
    },
    {
      "cell_type": "code",
      "source": [
        "for name, model in models:\n",
        "  kfold=KFold(n_splits=10, random_state=7, shuffle=True)\n",
        "  cv_results=cross_val_score(model, rescaledX, Y, cv=kfold, scoring=scoring)\n",
        "  results.append(cv_results)\n",
        "  names.append(name)\n",
        "  print(name,cv_results.mean(),cv_results.std())"
      ],
      "metadata": {
        "colab": {
          "base_uri": "https://localhost:8080/"
        },
        "id": "GyYh-3E1CKDz",
        "outputId": "46e9db2d-0d9a-4bb5-8043-3ea54c58c110"
      },
      "execution_count": null,
      "outputs": [
        {
          "output_type": "stream",
          "name": "stdout",
          "text": [
            "LinRegr -11.395044774918972 1.3730907358901254\n",
            "Ridge -11.395977016680735 1.3795123270985232\n",
            "Lasso -15.178528429668892 1.3632223955664133\n",
            "ElasticNet -15.23278300810124 1.5549831800134073\n",
            "KNN -11.849882637430724 1.2047890924424158\n",
            "DTree -19.49263837733641 1.703171066225241\n",
            "SVM -10.76909359509644 1.1871711997674954\n"
          ]
        }
      ]
    },
    {
      "cell_type": "markdown",
      "source": [
        "**результаты без стандартизации:**\n",
        "\n",
        "LinRegr -11.395044774918976 1.3730907358901387\n",
        "\n",
        "Ridge -11.225939146078888 0.8978241090896703\n",
        "\n",
        "Lasso -20.732595943886494 1.8297673126237766\n",
        "\n",
        "ElasticNet -20.96088805957144 1.8152405022770481\n",
        "\n",
        "KNN -11.284511927300267 1.1240986318740132\n",
        "\n",
        "DTree -19.607611614058037 1.7917741389496964\n",
        "\n",
        "SVM -12.321523138783864 1.411749892118526"
      ],
      "metadata": {
        "id": "QQ-COsMdFSmC"
      }
    },
    {
      "cell_type": "code",
      "source": [
        "pipelines.append(('standardize',StandardScaler())) # функция выполняющая стандартизацию"
      ],
      "metadata": {
        "id": "5kLAWTrkfv24"
      },
      "execution_count": null,
      "outputs": []
    },
    {
      "cell_type": "code",
      "source": [
        "pipelines.append(('Ridge',Ridge()))"
      ],
      "metadata": {
        "id": "ca0mAl-Gf-kg"
      },
      "execution_count": null,
      "outputs": []
    },
    {
      "cell_type": "code",
      "source": [
        "# т.е. сначала стандартизируем данные обучающей выборки, потом обучит, затем стандартизирует данные на контрольной выборке,\n",
        "# а потом проверит"
      ],
      "metadata": {
        "id": "IR5vwIgvJygu"
      },
      "execution_count": null,
      "outputs": []
    },
    {
      "cell_type": "code",
      "source": [
        "model=Pipeline(pipelines)"
      ],
      "metadata": {
        "id": "G57HkuIEgViy"
      },
      "execution_count": null,
      "outputs": []
    },
    {
      "cell_type": "markdown",
      "source": [
        "**27. Задайте разбиение на фолды с помощью функции KFold() из модуля sklearn.model_selection. На вход данной функции подайте следующую информацию: 1) количество частей, на которые должна разбиваться выборка, - пусть 10; 2) счетчик случайных чисел – пусть 7; 3) необходимость перемешивания данных выборки при каждой оценке, задав параметр shuffle=True.**"
      ],
      "metadata": {
        "id": "Q2cwWpA3JoVQ"
      }
    },
    {
      "cell_type": "code",
      "source": [
        "kfold=KFold(n_splits = 10, random_state = 7, shuffle = True)"
      ],
      "metadata": {
        "id": "BF56QV7sgdfy"
      },
      "execution_count": null,
      "outputs": []
    },
    {
      "cell_type": "markdown",
      "source": [
        "**28. Проведите кросс-валидацию, в ходе которой оцените среднюю величину средних квадратичных оценок, взятую с отрицательным знаком, и стандартное отклонение полученных оценок. Воспользуйтесь при этом функцией cross_val_score() из модуля sklearn.model_selection. На вход подайте созданный программный конвеер.**"
      ],
      "metadata": {
        "id": "58y_z32zJywA"
      }
    },
    {
      "cell_type": "code",
      "source": [
        "results=cross_val_score(model, X, Y, cv=kfold, scoring=scoring)"
      ],
      "metadata": {
        "id": "UmZgs7a7gmJC"
      },
      "execution_count": null,
      "outputs": []
    },
    {
      "cell_type": "markdown",
      "source": [
        "**29. Выведите на экран полученный результат.**"
      ],
      "metadata": {
        "id": "Z3_yg6eCJ69t"
      }
    },
    {
      "cell_type": "code",
      "source": [
        "results.mean()"
      ],
      "metadata": {
        "colab": {
          "base_uri": "https://localhost:8080/"
        },
        "id": "vF3NhYYjgx67",
        "outputId": "8472bb82-bf29-46ca-b70f-a93e83abad4e"
      },
      "execution_count": null,
      "outputs": [
        {
          "output_type": "execute_result",
          "data": {
            "text/plain": [
              "-11.396221906306762"
            ]
          },
          "metadata": {},
          "execution_count": 57
        }
      ]
    },
    {
      "cell_type": "code",
      "source": [
        "results.std()"
      ],
      "metadata": {
        "colab": {
          "base_uri": "https://localhost:8080/"
        },
        "id": "oIWFYGcig0Eb",
        "outputId": "8c3b9b09-d1f3-4186-e9b3-f0ee2208be31"
      },
      "execution_count": null,
      "outputs": [
        {
          "output_type": "execute_result",
          "data": {
            "text/plain": [
              "1.3800281275310229"
            ]
          },
          "metadata": {},
          "execution_count": 58
        }
      ]
    },
    {
      "cell_type": "markdown",
      "source": [
        "**30. Сделайте вывод о целесообразности создания программного**"
      ],
      "metadata": {
        "id": "RNSAv73iKED2"
      }
    },
    {
      "cell_type": "code",
      "source": [
        "# модель ухудшилась"
      ],
      "metadata": {
        "id": "c9U0PvtqNXr1"
      },
      "execution_count": null,
      "outputs": []
    },
    {
      "cell_type": "markdown",
      "source": [
        "# **Раздел 6. Настройка параметра k в методе kNN**"
      ],
      "metadata": {
        "id": "43eJ7slAKJfo"
      }
    },
    {
      "cell_type": "markdown",
      "source": [
        "**31. Стандартизируйте факторные признаки обучающего набора с помощью функций StandardScaler() из модуля sklearn.preprocessing, fit() и transform().**"
      ],
      "metadata": {
        "id": "EimdPlH5KR-3"
      }
    },
    {
      "cell_type": "code",
      "source": [
        "x = StandardScaler() # присваиваем переменную функции\n",
        "x.fit_transform(X_train) # стандартизируем данные\n",
        "#rescaledX_2 = x.transform(X_train) # заменяем нестандартизованные данные на стандартизованные"
      ],
      "metadata": {
        "id": "LQ8QmxoFTvSu",
        "colab": {
          "base_uri": "https://localhost:8080/"
        },
        "outputId": "d0c4b73d-a145-4350-9eda-8e491b19aa6a"
      },
      "execution_count": null,
      "outputs": [
        {
          "output_type": "execute_result",
          "data": {
            "text/plain": [
              "array([[-0.06266181,  0.20853113,  0.26347342, ..., -0.05977797,\n",
              "        -0.21011127, -0.24460191],\n",
              "       [-1.2798311 , -0.53864743, -0.79163838, ..., -0.68765273,\n",
              "        -0.00946558, -0.82457039],\n",
              "       [-0.06266181, -0.87072679, -0.99261206, ..., -1.06122696,\n",
              "        -1.19053907, -1.08949426],\n",
              "       ...,\n",
              "       [-0.06266181, -2.03300454, -1.89699361, ..., -1.32903018,\n",
              "        -1.43678605, -1.50478033],\n",
              "       [ 1.15450748, -1.9499847 , -1.79650677, ..., -1.43255075,\n",
              "        -1.42310567, -1.43317929],\n",
              "       [-0.06266181, -1.61790534, -1.59553309, ..., -1.16699798,\n",
              "        -1.29542204, -1.34725803]])"
            ]
          },
          "metadata": {},
          "execution_count": 59
        }
      ]
    },
    {
      "cell_type": "code",
      "source": [
        "x"
      ],
      "metadata": {
        "colab": {
          "base_uri": "https://localhost:8080/"
        },
        "id": "89brOlKfVukr",
        "outputId": "41c3cff7-8d69-4620-f456-d00c32e29bcc"
      },
      "execution_count": null,
      "outputs": [
        {
          "output_type": "execute_result",
          "data": {
            "text/plain": [
              "StandardScaler()"
            ]
          },
          "metadata": {},
          "execution_count": 60
        }
      ]
    },
    {
      "cell_type": "markdown",
      "source": [
        "**32. Создайте список возможных значений параметра k - пусть [1,3,5,7,9,11,13,15,17,19,21], воспользовавшись функцией array() из модуля numpy. На основе списка создайте словарь, воспользовавшись функцией dict().**"
      ],
      "metadata": {
        "id": "jkAld1qdKXe5"
      }
    },
    {
      "cell_type": "code",
      "source": [
        "import numpy as np\n",
        "val_= np.array([1,3,5,7,9,11,13,15,17,19,21])\n",
        "param_grid=dict(n_neigh=val_)\n",
        "param_grid"
      ],
      "metadata": {
        "colab": {
          "base_uri": "https://localhost:8080/"
        },
        "id": "olt6DJJnUBkA",
        "outputId": "c16bb69e-f8ad-497c-c8b2-fa9ace2f455b"
      },
      "execution_count": null,
      "outputs": [
        {
          "output_type": "execute_result",
          "data": {
            "text/plain": [
              "{'n_neigh': array([ 1,  3,  5,  7,  9, 11, 13, 15, 17, 19, 21])}"
            ]
          },
          "metadata": {},
          "execution_count": 61
        }
      ]
    },
    {
      "cell_type": "markdown",
      "source": [
        "**33. Создайте модель kNN, воспользовавшись функцией KNeighborsRegressor() из модуля sklearn.neighbors.**"
      ],
      "metadata": {
        "id": "oX_QegAUKdgD"
      }
    },
    {
      "cell_type": "code",
      "source": [
        "model=KNeighborsRegressor()"
      ],
      "metadata": {
        "id": "t46ni1ZPVVOj"
      },
      "execution_count": null,
      "outputs": []
    },
    {
      "cell_type": "markdown",
      "source": [
        "**34. Задайте разбиение на фолды с помощью функции KFold() из модуля sklearn.model_selection. На вход данной функции подайте следующую информацию: 1) количество частей, на которые должна разбиваться выборка, - пусть 10; 2) счетчик случайных чисел – пусть 7; 3) необходимость перемешивания данных выборки при каждой оценке, задав параметр shuffle=True.**"
      ],
      "metadata": {
        "id": "-DDthn5RKkcj"
      }
    },
    {
      "cell_type": "code",
      "source": [
        "kfold=KFold(n_splits= 10, random_state = 7, shuffle=True)\n",
        "kfold"
      ],
      "metadata": {
        "id": "6hn581U2VOxr",
        "colab": {
          "base_uri": "https://localhost:8080/"
        },
        "outputId": "176ec983-669b-4065-8d27-3b7b79b86a3b"
      },
      "execution_count": null,
      "outputs": [
        {
          "output_type": "execute_result",
          "data": {
            "text/plain": [
              "KFold(n_splits=10, random_state=7, shuffle=True)"
            ]
          },
          "metadata": {},
          "execution_count": 63
        }
      ]
    },
    {
      "cell_type": "markdown",
      "source": [
        "**35.  Создайте модель поиска по сетке для параметра альфа, воспользовавшись функцией GridSearchCV() из модуля sklearn.model_selection. На вход функции подайте следующую информацию: 1) модель (estimator) – пусть kNN; 2) параметры для перебора (param_grid) – словарь параметров, созданный в п. 32; 3) количество фолдов для кросс-валидации (cv) – из п. 34.**"
      ],
      "metadata": {
        "id": "JxVdtEvyKoIS"
      }
    },
    {
      "cell_type": "code",
      "source": [
        "grid = GridSearchCV(estimator=model,param_grid=param_grid,cv=kfold)"
      ],
      "metadata": {
        "id": "xFlavEu4LPkO"
      },
      "execution_count": null,
      "outputs": []
    },
    {
      "cell_type": "code",
      "source": [
        "scale = StandardScaler()"
      ],
      "metadata": {
        "id": "WbtTCWiiLNMt"
      },
      "execution_count": null,
      "outputs": []
    },
    {
      "cell_type": "code",
      "source": [
        "rescaledX_2 = scale.fit_transform(X_train)"
      ],
      "metadata": {
        "id": "-oNhxsqzOwrO"
      },
      "execution_count": null,
      "outputs": []
    },
    {
      "cell_type": "markdown",
      "source": [
        "**36.  Обучите модель на переменных rescaledX и Y_train, воспользовавшись функцией fit().**"
      ],
      "metadata": {
        "id": "FtR27LsNKulf"
      }
    },
    {
      "cell_type": "code",
      "source": [
        "grid.fit(rescaledX_2, Y_train)"
      ],
      "metadata": {
        "id": "XkEOVhUk7Y-g"
      },
      "execution_count": null,
      "outputs": []
    },
    {
      "cell_type": "markdown",
      "source": [
        "**37. Выведите на экран последовательность следующих данных для каждого значения параметра k: 1) среднюю величину среднего квадратичного отклонения, взятую с отрицательным знаком, обратившись к параметру cv_results_['mean_test_score']; 2) стандартное отклонение, обратившись к параметру cv_results_['std_test_score']; 3) значение параметра k, обратившись к параметру cv_results_['params']. При этом можете воспользоваться циклом for и функцией zip() для совместного представления результатов расчетов.**"
      ],
      "metadata": {
        "id": "_Sa_DAs6K6zi"
      }
    },
    {
      "cell_type": "code",
      "source": [
        "lst_k = [1,3,5,7,9,11,13,15,17,19,21]"
      ],
      "metadata": {
        "id": "TyKZ8igGPw4G"
      },
      "execution_count": null,
      "outputs": []
    },
    {
      "cell_type": "code",
      "source": [
        "results =[]\n",
        "names=[]"
      ],
      "metadata": {
        "id": "Ib6_MdHKP-ma"
      },
      "execution_count": null,
      "outputs": []
    },
    {
      "cell_type": "markdown",
      "source": [
        "цикл для поиска наилучшего параметра k:"
      ],
      "metadata": {
        "id": "76yk9vjURQQB"
      }
    },
    {
      "cell_type": "code",
      "source": [
        "for i in lst_k:\n",
        "  model=KNeighborsRegressor(n_neighbors=i)\n",
        "  kfold=KFold(n_splits=10, random_state=7, shuffle=True)\n",
        "  cv_results=cross_val_score(model, X, Y, cv=kfold, scoring=scoring)\n",
        "  print(i,cv_results.mean(),cv_results.std())"
      ],
      "metadata": {
        "colab": {
          "base_uri": "https://localhost:8080/"
        },
        "outputId": "539e316b-16cc-427e-a505-b3100adb7c66",
        "id": "Q9oMJe0bP-mb"
      },
      "execution_count": null,
      "outputs": [
        {
          "output_type": "stream",
          "name": "stdout",
          "text": [
            "1 -18.13181344876252 1.49171277831914\n",
            "3 -12.30031209482175 1.156143755570382\n",
            "5 -11.284511927300267 1.1240986318740132\n",
            "7 -10.894281994578147 1.2403391256566205\n",
            "9 -10.862975233848008 1.2554584445936767\n",
            "11 -10.801287600944592 1.2849101744510127\n",
            "13 -10.768862861354414 1.2653715218806518\n",
            "15 -10.712839603914954 1.266767697785445\n",
            "17 -10.719818304559016 1.2540083407785734\n",
            "19 -10.70780430460864 1.2683676460594557\n",
            "21 -10.750765127571803 1.2604954033027287\n"
          ]
        }
      ]
    },
    {
      "cell_type": "markdown",
      "source": [
        "# **Раздел 7. Ансамбли**"
      ],
      "metadata": {
        "id": "noEIl6O6LEdU"
      }
    },
    {
      "cell_type": "code",
      "source": [
        "import os\n",
        "from pandas import read_csv\n",
        "from sklearn.model_selection import KFold\n",
        "from sklearn.model_selection import cross_val_score\n",
        "from sklearn.ensemble import BaggingClassifier\n",
        "from sklearn.tree import DecisionTreeClassifier\n",
        "from sklearn.ensemble import RandomForestClassifier\n",
        "from sklearn.ensemble import ExtraTreesClassifier\n",
        "from sklearn.ensemble import AdaBoostClassifier\n",
        "from sklearn.ensemble import GradientBoostingClassifier\n",
        "from xgboost import XGBClassifier\n",
        "from sklearn.linear_model import LogisticRegression\n",
        "from sklearn.svm import SVC\n",
        "from sklearn.ensemble import VotingClassifier\n",
        "import numpy\n",
        "from sklearn.linear_model import RidgeClassifier\n",
        "from sklearn.model_selection import GridSearchCV\n",
        "from scipy.stats import uniform\n",
        "from sklearn.model_selection import RandomizedSearchCV\n",
        "from sklearn.model_selection import train_test_split\n",
        "import pickle\n",
        "import joblib"
      ],
      "metadata": {
        "id": "FNYz9VvIU6Z7"
      },
      "execution_count": null,
      "outputs": []
    },
    {
      "cell_type": "code",
      "source": [
        "import os\n",
        "from pandas import read_csv\n",
        "from sklearn.model_selection import KFold\n",
        "from sklearn.model_selection import cross_val_score\n",
        "from sklearn.neighbors import KNeighborsRegressor\n",
        "from sklearn.tree import DecisionTreeRegressor\n",
        "from sklearn.svm import SVR\n",
        "from matplotlib import pyplot\n",
        "from sklearn.linear_model import LinearRegression\n",
        "from sklearn.linear_model import Ridge\n",
        "from sklearn.linear_model import Lasso\n",
        "from sklearn.linear_model import ElasticNet\n",
        "from sklearn.preprocessing import StandardScaler\n",
        "from sklearn.pipeline import Pipeline\n",
        "from sklearn.pipeline import FeatureUnion\n",
        "from sklearn.decomposition import PCA\n",
        "from sklearn.feature_selection import SelectKBest"
      ],
      "metadata": {
        "id": "LqR3WExRsYvW"
      },
      "execution_count": null,
      "outputs": []
    },
    {
      "cell_type": "markdown",
      "source": [
        "**38.  Создайте пустой список в переменной ensembles.**\n",
        "\n",
        "**39.  Добавьте в него кортеж, в котором содержится название стандартизированной модели ансамбля и конвеер, в котором происходит стандартизация соответствующей модели. Проделайте это для следующих моделей: AdaBoost, GBM, Random Forest, Extra Trees. Напомним, что программный конвеер создается с помощью функции Pipeline() из модуля sklearn.pipeline.**\n",
        "\n",
        "**40. Задайте разбиение на фолды с помощью функции KFold() из модуля sklearn.model_selection. На вход данной функции подайте следующую информацию: 1) количество частей, на которые должна разбиваться выборка, - пусть 10; 2) счетчик случайных чисел – пусть 7; 3) необходимость перемешивания данных выборки при каждой оценке, задав параметр shuffle=True.**\n",
        "\n",
        "**41. Проведите кросс-валидацию, в ходе которой оцените среднюю величину средних квадратичных оценок, взятую с отрицательным знаком, и стандартное отклонение полученных оценок. Воспользуйтесь при этом функцией cross_val_score() из модуля sklearn.model_selection. На вход подайте созданный программный конвеер. Для охвата всех моделей удобно воспользоваться циклом for.**\n",
        "\n",
        "**42. Выведите на экран полученный результат.**"
      ],
      "metadata": {
        "id": "K24e7QgnTN_3"
      }
    },
    {
      "cell_type": "code",
      "source": [
        "ensembles = []\n",
        "ensembles"
      ],
      "metadata": {
        "colab": {
          "base_uri": "https://localhost:8080/"
        },
        "id": "P8uGY6VvTjmG",
        "outputId": "bcc3f224-f62f-4740-db0d-6dc090a883dc"
      },
      "execution_count": null,
      "outputs": [
        {
          "output_type": "execute_result",
          "data": {
            "text/plain": [
              "[]"
            ]
          },
          "metadata": {},
          "execution_count": 70
        }
      ]
    },
    {
      "cell_type": "code",
      "source": [
        "ensembles.append(('stsndardize',StandardScaler()))\n",
        "ensembles"
      ],
      "metadata": {
        "colab": {
          "base_uri": "https://localhost:8080/"
        },
        "id": "yuICZU35WZbQ",
        "outputId": "2e346e5a-7fa6-4fd6-af55-7947b095b51b"
      },
      "execution_count": null,
      "outputs": [
        {
          "output_type": "execute_result",
          "data": {
            "text/plain": [
              "[('stsndardize', StandardScaler())]"
            ]
          },
          "metadata": {},
          "execution_count": 71
        }
      ]
    },
    {
      "cell_type": "code",
      "source": [
        "ensembles.append(('AdaBoost',AdaBoostRegressor(n_estimators = 30, random_state = 7)))\n",
        "ensembles"
      ],
      "metadata": {
        "colab": {
          "base_uri": "https://localhost:8080/"
        },
        "id": "SLkjHuWUeOCS",
        "outputId": "c4f0ead8-d19a-4d8d-8f39-977c56086acb"
      },
      "execution_count": null,
      "outputs": [
        {
          "output_type": "execute_result",
          "data": {
            "text/plain": [
              "[('stsndardize', StandardScaler()),\n",
              " ('AdaBoost', AdaBoostRegressor(n_estimators=30, random_state=7))]"
            ]
          },
          "metadata": {},
          "execution_count": 72
        }
      ]
    },
    {
      "cell_type": "code",
      "source": [
        "model = Pipeline(ensembles)\n",
        "model"
      ],
      "metadata": {
        "colab": {
          "base_uri": "https://localhost:8080/"
        },
        "id": "ZOkD824SieKd",
        "outputId": "cd7c912a-2ab6-48f7-902e-67503047ef30"
      },
      "execution_count": null,
      "outputs": [
        {
          "output_type": "execute_result",
          "data": {
            "text/plain": [
              "Pipeline(steps=[('stsndardize', StandardScaler()),\n",
              "                ('AdaBoost',\n",
              "                 AdaBoostRegressor(n_estimators=30, random_state=7))])"
            ]
          },
          "metadata": {},
          "execution_count": 73
        }
      ]
    },
    {
      "cell_type": "code",
      "source": [
        "kfold=KFold(n_splits= 10, random_state = 7, shuffle=True)"
      ],
      "metadata": {
        "id": "y1A7lzjAcssE"
      },
      "execution_count": null,
      "outputs": []
    },
    {
      "cell_type": "code",
      "source": [
        "results_AdaBoost=cross_val_score(model, X, Y, cv=kfold,scoring=scoring)"
      ],
      "metadata": {
        "id": "DtHGx7r5dXGN"
      },
      "execution_count": null,
      "outputs": []
    },
    {
      "cell_type": "code",
      "source": [
        "results_AdaBoost.mean()"
      ],
      "metadata": {
        "colab": {
          "base_uri": "https://localhost:8080/"
        },
        "id": "eLWxsojqXfX7",
        "outputId": "3f875973-ba47-44dc-d885-c4f8985435c6"
      },
      "execution_count": null,
      "outputs": [
        {
          "output_type": "execute_result",
          "data": {
            "text/plain": [
              "-17.124149333983322"
            ]
          },
          "metadata": {},
          "execution_count": 76
        }
      ]
    },
    {
      "cell_type": "code",
      "source": [
        "results_AdaBoost.std()"
      ],
      "metadata": {
        "colab": {
          "base_uri": "https://localhost:8080/"
        },
        "id": "tRQIVdLYXfX8",
        "outputId": "560b8ecc-990a-434b-b4ec-44d03b7c68ee"
      },
      "execution_count": null,
      "outputs": [
        {
          "output_type": "execute_result",
          "data": {
            "text/plain": [
              "1.341530369683242"
            ]
          },
          "metadata": {},
          "execution_count": 77
        }
      ]
    },
    {
      "cell_type": "code",
      "source": [],
      "metadata": {
        "id": "ygWBGp5oXe5v"
      },
      "execution_count": null,
      "outputs": []
    },
    {
      "cell_type": "code",
      "source": [],
      "metadata": {
        "id": "n-pFBgmTXb1H"
      },
      "execution_count": null,
      "outputs": []
    },
    {
      "cell_type": "code",
      "source": [
        "ensembles.append(('Bagged Decision Trees',DecisionTreeClassifier(n_estimators = 100, random_state = 7)))"
      ],
      "metadata": {
        "id": "LOh2se6pz-iU"
      },
      "execution_count": null,
      "outputs": []
    },
    {
      "cell_type": "code",
      "source": [
        "ensembles.append(('GBM',GradientBoostingClassifier(n_estimators = 100, random_state = 7)))"
      ],
      "metadata": {
        "id": "qiZG7JbQnp7p"
      },
      "execution_count": null,
      "outputs": []
    },
    {
      "cell_type": "code",
      "source": [
        "ensembles.append(('Random Forest',RandomForestClassifier(n_estimators = 100, max_features = 3)))"
      ],
      "metadata": {
        "id": "sj1rFXNRn0X3"
      },
      "execution_count": null,
      "outputs": []
    },
    {
      "cell_type": "code",
      "source": [
        "ensembles.append(('Extra Trees',ExtraTreesClassifier(n_estimators = 100, max_features = 7)))"
      ],
      "metadata": {
        "id": "DZwgjjQqn1DW"
      },
      "execution_count": null,
      "outputs": []
    },
    {
      "cell_type": "code",
      "source": [
        "ensembles.append(('XGBoost',XGBClassifier(n_estimators = 100,seed=7,max_depth=6, learning_rate = 0.3)))"
      ],
      "metadata": {
        "id": "pj3d5Y510i2t"
      },
      "execution_count": null,
      "outputs": []
    },
    {
      "cell_type": "code",
      "source": [],
      "metadata": {
        "id": "lzRcmfc01AbT"
      },
      "execution_count": null,
      "outputs": []
    },
    {
      "cell_type": "markdown",
      "source": [
        "**43. Выведите на экран результаты кросс-валидации в виде ящика с усами.**"
      ],
      "metadata": {
        "id": "O1NCteoFTnfi"
      }
    },
    {
      "cell_type": "code",
      "source": [],
      "metadata": {
        "id": "VhJKydMvT6j4"
      },
      "execution_count": null,
      "outputs": []
    },
    {
      "cell_type": "markdown",
      "source": [
        "**44. Сделайте вывод о лучшей модели ансамбля.**"
      ],
      "metadata": {
        "id": "sF3XFAfNTptb"
      }
    },
    {
      "cell_type": "code",
      "source": [],
      "metadata": {
        "id": "id4w5G9HTsAB"
      },
      "execution_count": null,
      "outputs": []
    },
    {
      "cell_type": "markdown",
      "source": [
        "**45. Настройте параметры лучшей модели ансамбля по аналогии с разделом 6. Прокомментируйте полученный результат.**"
      ],
      "metadata": {
        "id": "ee9pbCghTsXf"
      }
    },
    {
      "cell_type": "code",
      "source": [],
      "metadata": {
        "id": "myuyLtyFT5c9"
      },
      "execution_count": null,
      "outputs": []
    },
    {
      "cell_type": "markdown",
      "source": [
        "# **Раздел 8. Прогноз по лучшей модели**"
      ],
      "metadata": {
        "id": "0gtQiUroT_Y4"
      }
    },
    {
      "cell_type": "markdown",
      "source": [
        "**46. Стандартизируйте факторные признаки обучающего набора с помощью функций StandardScaler() из модуля sklearn.preprocessing, fit() и transform().**\n",
        "\n",
        "**47. Создайте модель лучшего ансамбля, выявленную в п. 44.**\n",
        "\n",
        "**48. Обучите ее на основе переменных rescaledX и Y_train.**\n",
        "\n",
        "**49. Стандартизируйте факторные признаки тестового набора с помощью функций StandardScaler() из модуля sklearn.preprocessing, fit() и transform().**\n",
        "\n",
        "**50. Воспользуйтесь ими для нахождения расчетных значений по модели ансамбля, воспользовавшись функцией predict().**\n",
        "\n",
        "**51. Выведите на экран среднюю квадратичную ошибку на тестовом наборе, воспользовавшись функцией mean_squared_error() из модуля sklearn.metrics. На вход функции подайте фактическое и расчетное значение результативного признака на тестовом наборе. Прокомментируйте результат.**"
      ],
      "metadata": {
        "id": "k9b8WPt5UDmA"
      }
    },
    {
      "cell_type": "code",
      "source": [
        "scaler=StandardScaler().fit(X_train)\n",
        "rescaledX=scaler.transform(X_train)"
      ],
      "metadata": {
        "id": "wVsceYVwUCwk"
      },
      "execution_count": null,
      "outputs": []
    },
    {
      "cell_type": "code",
      "source": [
        "rescaledX"
      ],
      "metadata": {
        "colab": {
          "base_uri": "https://localhost:8080/"
        },
        "id": "Ixtc7SOVvyFX",
        "outputId": "adf78450-5ed9-431e-d0d8-5437e3b924a0"
      },
      "execution_count": null,
      "outputs": [
        {
          "output_type": "execute_result",
          "data": {
            "text/plain": [
              "array([[-0.06266181,  0.20853113,  0.26347342, ..., -0.05977797,\n",
              "        -0.21011127, -0.24460191],\n",
              "       [-1.2798311 , -0.53864743, -0.79163838, ..., -0.68765273,\n",
              "        -0.00946558, -0.82457039],\n",
              "       [-0.06266181, -0.87072679, -0.99261206, ..., -1.06122696,\n",
              "        -1.19053907, -1.08949426],\n",
              "       ...,\n",
              "       [-0.06266181, -2.03300454, -1.89699361, ..., -1.32903018,\n",
              "        -1.43678605, -1.50478033],\n",
              "       [ 1.15450748, -1.9499847 , -1.79650677, ..., -1.43255075,\n",
              "        -1.42310567, -1.43317929],\n",
              "       [-0.06266181, -1.61790534, -1.59553309, ..., -1.16699798,\n",
              "        -1.29542204, -1.34725803]])"
            ]
          },
          "metadata": {},
          "execution_count": 413
        }
      ]
    },
    {
      "cell_type": "code",
      "source": [
        "model=ExtraTreesClassifier(n_estimators = 100, max_features = 7)"
      ],
      "metadata": {
        "id": "uUG_IUO6eYDX"
      },
      "execution_count": null,
      "outputs": []
    },
    {
      "cell_type": "code",
      "source": [
        "kfold=KFold(n_splits= 10, random_state = 7, shuffle=True)"
      ],
      "metadata": {
        "id": "2RBQILYIwwdC"
      },
      "execution_count": null,
      "outputs": []
    },
    {
      "cell_type": "code",
      "source": [
        "results=cross_val_score(model, rescaledX, Y_train, cv=kfold)"
      ],
      "metadata": {
        "id": "-PJr3n2ceYDY",
        "colab": {
          "base_uri": "https://localhost:8080/"
        },
        "outputId": "c56a03ef-2901-45cc-c3fc-56b5f27b9813"
      },
      "execution_count": null,
      "outputs": [
        {
          "output_type": "stream",
          "name": "stderr",
          "text": [
            "/usr/local/lib/python3.7/dist-packages/sklearn/model_selection/_validation.py:372: FitFailedWarning: \n",
            "3 fits failed out of a total of 3.\n",
            "The score on these train-test partitions for these parameters will be set to nan.\n",
            "If these failures are not expected, you can try to debug them by setting error_score='raise'.\n",
            "\n",
            "Below are more details about the failures:\n",
            "--------------------------------------------------------------------------------\n",
            "3 fits failed with the following error:\n",
            "Traceback (most recent call last):\n",
            "  File \"/usr/local/lib/python3.7/dist-packages/sklearn/model_selection/_validation.py\", line 680, in _fit_and_score\n",
            "    estimator.fit(X_train, y_train, **fit_params)\n",
            "  File \"/usr/local/lib/python3.7/dist-packages/sklearn/ensemble/_forest.py\", line 367, in fit\n",
            "    y, expanded_class_weight = self._validate_y_class_weight(y)\n",
            "  File \"/usr/local/lib/python3.7/dist-packages/sklearn/ensemble/_forest.py\", line 734, in _validate_y_class_weight\n",
            "    check_classification_targets(y)\n",
            "  File \"/usr/local/lib/python3.7/dist-packages/sklearn/utils/multiclass.py\", line 197, in check_classification_targets\n",
            "    raise ValueError(\"Unknown label type: %r\" % y_type)\n",
            "ValueError: Unknown label type: 'continuous'\n",
            "\n",
            "  warnings.warn(some_fits_failed_message, FitFailedWarning)\n"
          ]
        }
      ]
    },
    {
      "cell_type": "code",
      "source": [
        "results.mean()"
      ],
      "metadata": {
        "id": "Gf9Gj8s6eYDZ"
      },
      "execution_count": null,
      "outputs": []
    },
    {
      "cell_type": "code",
      "source": [
        "results.std()"
      ],
      "metadata": {
        "id": "ozLRxfTVeYDa"
      },
      "execution_count": null,
      "outputs": []
    }
  ]
}