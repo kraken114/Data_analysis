{
  "nbformat": 4,
  "nbformat_minor": 0,
  "metadata": {
    "colab": {
      "provenance": []
    },
    "kernelspec": {
      "name": "python3",
      "display_name": "Python 3"
    },
    "language_info": {
      "name": "python"
    }
  },
  "cells": [
    {
      "cell_type": "markdown",
      "source": [
        "\n",
        "_______________________________________________________________________________\n"
      ],
      "metadata": {
        "id": "W0HvswV7EBbG"
      }
    },
    {
      "cell_type": "code",
      "execution_count": null,
      "metadata": {
        "colab": {
          "base_uri": "https://localhost:8080/"
        },
        "id": "kVfTBgdONjI3",
        "outputId": "dc99e2b1-6cc9-476f-a5f6-fa46de57ecc8"
      },
      "outputs": [
        {
          "output_type": "stream",
          "name": "stdout",
          "text": [
            "Mounted at /content/gdrive\n"
          ]
        }
      ],
      "source": [
        "from google.colab import drive\n",
        "drive.mount('/content/gdrive')"
      ]
    },
    {
      "cell_type": "code",
      "source": [
        "import os\n",
        "import pandas as pd\n",
        "import numpy as np\n",
        "from pandas import read_csv"
      ],
      "metadata": {
        "id": "UkG4NuHKNupe"
      },
      "execution_count": null,
      "outputs": []
    },
    {
      "cell_type": "code",
      "source": [
        "os.chdir('/content/gdrive/MyDrive/Colab Notebooks/УЛИТКА/Классификация/Сегментация_клиентов')"
      ],
      "metadata": {
        "id": "5T8t3BqxOj-3"
      },
      "execution_count": null,
      "outputs": []
    },
    {
      "cell_type": "code",
      "source": [
        "filename='Train_cleared.csv'\n",
        "df=read_csv(filename)\n",
        "df=df.filter(regex='^(?!.*Unnamed).*$')\n",
        "df = df.dropna()"
      ],
      "metadata": {
        "id": "RhCZq5x-Dobx"
      },
      "execution_count": null,
      "outputs": []
    },
    {
      "cell_type": "code",
      "source": [
        "df.head(2)"
      ],
      "metadata": {
        "id": "iA149PaCaZtU",
        "colab": {
          "base_uri": "https://localhost:8080/",
          "height": 173
        },
        "outputId": "cad38450-0065-43c1-9d16-f46890983f71"
      },
      "execution_count": null,
      "outputs": [
        {
          "output_type": "execute_result",
          "data": {
            "text/plain": [
              "   Пол  Женатость/замужность  Возраст  Высшее_образование  Профессия  \\\n",
              "0    1                   0.0       22                 0.0        2.0   \n",
              "2    0                   1.0       67                 1.0        4.0   \n",
              "\n",
              "   Опыт_работы  Уровень_расходов  Размер_семьи  Анонимная_категория  \\\n",
              "0          1.0                 3           4.0                  4.0   \n",
              "2          1.0                 3           1.0                  6.0   \n",
              "\n",
              "   Целевая_категория  \n",
              "0                  4  \n",
              "2                  2  "
            ],
            "text/html": [
              "\n",
              "  <div id=\"df-f226b219-4fd7-4a19-b59b-3dbea7d52b94\">\n",
              "    <div class=\"colab-df-container\">\n",
              "      <div>\n",
              "<style scoped>\n",
              "    .dataframe tbody tr th:only-of-type {\n",
              "        vertical-align: middle;\n",
              "    }\n",
              "\n",
              "    .dataframe tbody tr th {\n",
              "        vertical-align: top;\n",
              "    }\n",
              "\n",
              "    .dataframe thead th {\n",
              "        text-align: right;\n",
              "    }\n",
              "</style>\n",
              "<table border=\"1\" class=\"dataframe\">\n",
              "  <thead>\n",
              "    <tr style=\"text-align: right;\">\n",
              "      <th></th>\n",
              "      <th>Пол</th>\n",
              "      <th>Женатость/замужность</th>\n",
              "      <th>Возраст</th>\n",
              "      <th>Высшее_образование</th>\n",
              "      <th>Профессия</th>\n",
              "      <th>Опыт_работы</th>\n",
              "      <th>Уровень_расходов</th>\n",
              "      <th>Размер_семьи</th>\n",
              "      <th>Анонимная_категория</th>\n",
              "      <th>Целевая_категория</th>\n",
              "    </tr>\n",
              "  </thead>\n",
              "  <tbody>\n",
              "    <tr>\n",
              "      <th>0</th>\n",
              "      <td>1</td>\n",
              "      <td>0.0</td>\n",
              "      <td>22</td>\n",
              "      <td>0.0</td>\n",
              "      <td>2.0</td>\n",
              "      <td>1.0</td>\n",
              "      <td>3</td>\n",
              "      <td>4.0</td>\n",
              "      <td>4.0</td>\n",
              "      <td>4</td>\n",
              "    </tr>\n",
              "    <tr>\n",
              "      <th>2</th>\n",
              "      <td>0</td>\n",
              "      <td>1.0</td>\n",
              "      <td>67</td>\n",
              "      <td>1.0</td>\n",
              "      <td>4.0</td>\n",
              "      <td>1.0</td>\n",
              "      <td>3</td>\n",
              "      <td>1.0</td>\n",
              "      <td>6.0</td>\n",
              "      <td>2</td>\n",
              "    </tr>\n",
              "  </tbody>\n",
              "</table>\n",
              "</div>\n",
              "      <button class=\"colab-df-convert\" onclick=\"convertToInteractive('df-f226b219-4fd7-4a19-b59b-3dbea7d52b94')\"\n",
              "              title=\"Convert this dataframe to an interactive table.\"\n",
              "              style=\"display:none;\">\n",
              "        \n",
              "  <svg xmlns=\"http://www.w3.org/2000/svg\" height=\"24px\"viewBox=\"0 0 24 24\"\n",
              "       width=\"24px\">\n",
              "    <path d=\"M0 0h24v24H0V0z\" fill=\"none\"/>\n",
              "    <path d=\"M18.56 5.44l.94 2.06.94-2.06 2.06-.94-2.06-.94-.94-2.06-.94 2.06-2.06.94zm-11 1L8.5 8.5l.94-2.06 2.06-.94-2.06-.94L8.5 2.5l-.94 2.06-2.06.94zm10 10l.94 2.06.94-2.06 2.06-.94-2.06-.94-.94-2.06-.94 2.06-2.06.94z\"/><path d=\"M17.41 7.96l-1.37-1.37c-.4-.4-.92-.59-1.43-.59-.52 0-1.04.2-1.43.59L10.3 9.45l-7.72 7.72c-.78.78-.78 2.05 0 2.83L4 21.41c.39.39.9.59 1.41.59.51 0 1.02-.2 1.41-.59l7.78-7.78 2.81-2.81c.8-.78.8-2.07 0-2.86zM5.41 20L4 18.59l7.72-7.72 1.47 1.35L5.41 20z\"/>\n",
              "  </svg>\n",
              "      </button>\n",
              "      \n",
              "  <style>\n",
              "    .colab-df-container {\n",
              "      display:flex;\n",
              "      flex-wrap:wrap;\n",
              "      gap: 12px;\n",
              "    }\n",
              "\n",
              "    .colab-df-convert {\n",
              "      background-color: #E8F0FE;\n",
              "      border: none;\n",
              "      border-radius: 50%;\n",
              "      cursor: pointer;\n",
              "      display: none;\n",
              "      fill: #1967D2;\n",
              "      height: 32px;\n",
              "      padding: 0 0 0 0;\n",
              "      width: 32px;\n",
              "    }\n",
              "\n",
              "    .colab-df-convert:hover {\n",
              "      background-color: #E2EBFA;\n",
              "      box-shadow: 0px 1px 2px rgba(60, 64, 67, 0.3), 0px 1px 3px 1px rgba(60, 64, 67, 0.15);\n",
              "      fill: #174EA6;\n",
              "    }\n",
              "\n",
              "    [theme=dark] .colab-df-convert {\n",
              "      background-color: #3B4455;\n",
              "      fill: #D2E3FC;\n",
              "    }\n",
              "\n",
              "    [theme=dark] .colab-df-convert:hover {\n",
              "      background-color: #434B5C;\n",
              "      box-shadow: 0px 1px 3px 1px rgba(0, 0, 0, 0.15);\n",
              "      filter: drop-shadow(0px 1px 2px rgba(0, 0, 0, 0.3));\n",
              "      fill: #FFFFFF;\n",
              "    }\n",
              "  </style>\n",
              "\n",
              "      <script>\n",
              "        const buttonEl =\n",
              "          document.querySelector('#df-f226b219-4fd7-4a19-b59b-3dbea7d52b94 button.colab-df-convert');\n",
              "        buttonEl.style.display =\n",
              "          google.colab.kernel.accessAllowed ? 'block' : 'none';\n",
              "\n",
              "        async function convertToInteractive(key) {\n",
              "          const element = document.querySelector('#df-f226b219-4fd7-4a19-b59b-3dbea7d52b94');\n",
              "          const dataTable =\n",
              "            await google.colab.kernel.invokeFunction('convertToInteractive',\n",
              "                                                     [key], {});\n",
              "          if (!dataTable) return;\n",
              "\n",
              "          const docLinkHtml = 'Like what you see? Visit the ' +\n",
              "            '<a target=\"_blank\" href=https://colab.research.google.com/notebooks/data_table.ipynb>data table notebook</a>'\n",
              "            + ' to learn more about interactive tables.';\n",
              "          element.innerHTML = '';\n",
              "          dataTable['output_type'] = 'display_data';\n",
              "          await google.colab.output.renderOutput(dataTable, element);\n",
              "          const docLink = document.createElement('div');\n",
              "          docLink.innerHTML = docLinkHtml;\n",
              "          element.appendChild(docLink);\n",
              "        }\n",
              "      </script>\n",
              "    </div>\n",
              "  </div>\n",
              "  "
            ]
          },
          "metadata": {},
          "execution_count": 8
        }
      ]
    },
    {
      "cell_type": "markdown",
      "source": [
        "_______________________________________________________________________"
      ],
      "metadata": {
        "id": "SyBLvs6iD86f"
      }
    },
    {
      "cell_type": "code",
      "source": [
        "# функции для разбивки данных на обучающую и тестовую:\n",
        "from sklearn.model_selection import train_test_split # разбивка выборки начасти\n",
        "from sklearn.linear_model import LogisticRegression # логистическая регрессия\n",
        "from sklearn.model_selection import KFold # разбивка на фолды\n",
        "from sklearn.model_selection import cross_val_score # для кросс валидации\n",
        "from sklearn.model_selection import LeaveOneOut # оставляет одно значение для обученияб а остальные для тестов\n",
        "from sklearn.model_selection import ShuffleSplit # случайная разбивка выборки на k частей\n",
        "# функции для оценки качества данных:\n",
        "from sklearn.metrics import confusion_matrix # сопоставляются расчетные значения\n",
        "from sklearn.metrics import classification_report # тут разные показатели оценки\n",
        "from sklearn.linear_model import LinearRegression # для оценки качества регрессии"
      ],
      "metadata": {
        "id": "657Mytu7D_jo"
      },
      "execution_count": null,
      "outputs": []
    },
    {
      "cell_type": "code",
      "source": [
        "array = df.values\n",
        "array"
      ],
      "metadata": {
        "id": "RFp0Zpru52tp"
      },
      "execution_count": null,
      "outputs": []
    },
    {
      "cell_type": "code",
      "source": [
        "X = array[:,0:9]\n",
        "Y = array[:,9]"
      ],
      "metadata": {
        "id": "hk4htyL46Bsl"
      },
      "execution_count": null,
      "outputs": []
    },
    {
      "cell_type": "markdown",
      "source": [
        "__________________________________________"
      ],
      "metadata": {
        "id": "d9AxVVsYNp5k"
      }
    },
    {
      "cell_type": "code",
      "source": [
        "# стандартизация (при необходимости) (здесь не дала эффект)"
      ],
      "metadata": {
        "id": "v0lXGZWBN4HU"
      },
      "execution_count": null,
      "outputs": []
    },
    {
      "cell_type": "code",
      "source": [
        "from sklearn.preprocessing import StandardScaler"
      ],
      "metadata": {
        "id": "si05LXn7NtDe"
      },
      "execution_count": null,
      "outputs": []
    },
    {
      "cell_type": "code",
      "source": [
        "scaler=StandardScaler().fit(X) # создали объект и обучили его"
      ],
      "metadata": {
        "id": "1zmleKA3Fb6d"
      },
      "execution_count": null,
      "outputs": []
    },
    {
      "cell_type": "code",
      "source": [
        "rescaledX=scaler.transform(X) # делаем среднее =0, а стандартное отклонение = 1"
      ],
      "metadata": {
        "id": "TL939CYMFu1y"
      },
      "execution_count": null,
      "outputs": []
    },
    {
      "cell_type": "markdown",
      "source": [
        "___________________________________________"
      ],
      "metadata": {
        "id": "10FOhmQeNrrB"
      }
    },
    {
      "cell_type": "code",
      "source": [],
      "metadata": {
        "id": "_lNRe54SLiJ6"
      },
      "execution_count": null,
      "outputs": []
    },
    {
      "cell_type": "code",
      "source": [
        "test_size=0.33\n",
        "seed = 7 # задается любое число, но всегда одинаковое, чтобы разбивка была одна и та же"
      ],
      "metadata": {
        "id": "OnbeqpJcGy4H"
      },
      "execution_count": null,
      "outputs": []
    },
    {
      "cell_type": "code",
      "source": [
        "X_train, X_test, Y_train, Y_test = train_test_split(X,Y, test_size=test_size,random_state=seed)"
      ],
      "metadata": {
        "id": "jLRp9wWfGzl9"
      },
      "execution_count": null,
      "outputs": []
    },
    {
      "cell_type": "markdown",
      "source": [
        "solver (решатель){‘newton-cg’, ‘lbfgs’, ‘liblinear’, ‘sag’, ‘saga’}, default=’lbfgs’\n",
        "\n",
        "Алгоритм для использования в задаче оптимизации. По умолчанию используется ‘lbfgs’. Чтобы выбрать решатель, вы можете рассмотреть следующие аспекты:\n",
        "\n",
        "Для небольших наборов данных \"liblinear\" - хороший выбор, тогда как ‘sag’ и ‘saga’ быстрее для больших;\n",
        "\n",
        "Для многоклассовых задач только ‘newton-cg’, ‘sag’, ‘saga’ и ‘lbfgs’ обрабатывают многочленные потери;\n",
        "\n",
        "‘liblinear\" ограничен схемами \"один против другого\"."
      ],
      "metadata": {
        "id": "Nkxos8-ILYKq"
      }
    },
    {
      "cell_type": "markdown",
      "source": [
        "**1-й вариант:**"
      ],
      "metadata": {
        "id": "-HtcPOIGRykt"
      }
    },
    {
      "cell_type": "code",
      "source": [
        "model=LogisticRegression(solver='newton-cg',class_weight= 'balanced')\n",
        "model.fit(X_train,Y_train)\n",
        "result=model.score(X_test,Y_test)\n",
        "result"
      ],
      "metadata": {
        "colab": {
          "base_uri": "https://localhost:8080/"
        },
        "id": "MCMCarEWH_8q",
        "outputId": "b07207f8-3652-4225-854c-141f4e7e2c3e"
      },
      "execution_count": null,
      "outputs": [
        {
          "output_type": "execute_result",
          "data": {
            "text/plain": [
              "0.4740909090909091"
            ]
          },
          "metadata": {},
          "execution_count": 65
        }
      ]
    },
    {
      "cell_type": "markdown",
      "source": [
        "**2-й вариант:**"
      ],
      "metadata": {
        "id": "5Mfr0rmiR3-f"
      }
    },
    {
      "cell_type": "code",
      "source": [
        "from sklearn.model_selection import KFold\n",
        "from sklearn.model_selection import cross_val_score\n",
        "kfold=KFold(n_splits=10,random_state=7,shuffle=True)\n",
        "model=LogisticRegression(solver='liblinear')\n",
        "results=cross_val_score(model, X, Y, cv=kfold)\n",
        "results.mean(), results.std()"
      ],
      "metadata": {
        "colab": {
          "base_uri": "https://localhost:8080/"
        },
        "id": "C0WzveC9R8Kz",
        "outputId": "3a878290-9b45-433c-989c-d5d52e03f79a"
      },
      "execution_count": null,
      "outputs": [
        {
          "output_type": "execute_result",
          "data": {
            "text/plain": [
              "(0.47636429532981256, 0.02705725760997702)"
            ]
          },
          "metadata": {},
          "execution_count": 66
        }
      ]
    },
    {
      "cell_type": "code",
      "source": [
        "from sklearn.model_selection import KFold\n",
        "from sklearn.model_selection import cross_val_score\n",
        "kfold=KFold(n_splits=3,random_state=7,shuffle=True) # делим выборку на части\n",
        "model=LogisticRegression(solver='newton-cg',class_weight= 'balanced')\n",
        "results=cross_val_score(model, X, Y, cv=kfold) # это обучение выборки разбитой на фолды\n",
        "results.mean(), results.std()"
      ],
      "metadata": {
        "colab": {
          "base_uri": "https://localhost:8080/"
        },
        "id": "4svVplVnSf1u",
        "outputId": "55590fc4-9087-468e-c778-92d11cf53a0b"
      },
      "execution_count": null,
      "outputs": [
        {
          "output_type": "execute_result",
          "data": {
            "text/plain": [
              "(0.4798188283483909, 0.009518886933667982)"
            ]
          },
          "metadata": {},
          "execution_count": 83
        }
      ]
    },
    {
      "cell_type": "markdown",
      "source": [
        "**3-й вариант (циклы):**"
      ],
      "metadata": {
        "id": "O7GVqsSbTad7"
      }
    },
    {
      "cell_type": "code",
      "source": [
        "from sklearn.feature_selection import SelectKBest\n",
        "from sklearn.feature_selection import f_classif"
      ],
      "metadata": {
        "id": "9k0osDf5TohK"
      },
      "execution_count": null,
      "outputs": []
    },
    {
      "cell_type": "code",
      "source": [
        "lst_1 = list(range(1,8))\n",
        "lst_2 = list(range(2,8))\n",
        "k = []"
      ],
      "metadata": {
        "id": "MQRlZAc91KLJ"
      },
      "execution_count": null,
      "outputs": []
    },
    {
      "cell_type": "code",
      "source": [
        "# логистическая_регрессия\n",
        "from sklearn.linear_model import LogisticRegression\n",
        "model=LogisticRegression(solver='newton-cg',class_weight= 'balanced')    # максимальное значение: n_splits: 6 KBest: 7 0.4814692280038815\n",
        "for i in lst_2:\n",
        "   kfold=KFold(n_splits=i,random_state=7,shuffle=True)\n",
        "   for j in lst_1:\n",
        "      test=SelectKBest(score_func=f_classif, k=j)\n",
        "      fit=test.fit(X,Y)\n",
        "      features=fit.transform(X)\n",
        "      results=cross_val_score(model, features, Y, cv=kfold)\n",
        "      res = results.mean()\n",
        "      k.append(res)\n",
        "      print(f'n_splits: {i} KBest: {j} {res}')\n",
        "   print(f'i {i} max: {max(k)}')"
      ],
      "metadata": {
        "id": "bJbJfcCPTF4b"
      },
      "execution_count": null,
      "outputs": []
    },
    {
      "cell_type": "markdown",
      "source": [
        "**ShuffleSplit:**"
      ],
      "metadata": {
        "id": "9EKhLUEQZt4w"
      }
    },
    {
      "cell_type": "code",
      "source": [
        "# логистическая_регрессия\n",
        "from sklearn.linear_model import LogisticRegression\n",
        "from sklearn.model_selection import ShuffleSplit\n",
        "model=LogisticRegression(solver='newton-cg',class_weight= 'balanced')    # максимальное значение: n_splits: 5 KBest: 7 0.4807272727272728\n",
        "for i in lst_2:\n",
        "   kfold=ShuffleSplit(n_splits=i,random_state=7,test_size=0.33)\n",
        "   for j in lst_1:\n",
        "      test=SelectKBest(score_func=f_classif, k=j)\n",
        "      fit=test.fit(X,Y)\n",
        "      features=fit.transform(X)\n",
        "      results=cross_val_score(model, features, Y, cv=kfold)\n",
        "      res = results.mean()\n",
        "      k.append(res)\n",
        "      print(f'n_splits: {i} KBest: {j} {res}')\n",
        "   print(f'i {i} max: {max(k)}')"
      ],
      "metadata": {
        "id": "C8Xtt3kkY845"
      },
      "execution_count": null,
      "outputs": []
    },
    {
      "cell_type": "markdown",
      "source": [
        "____________________________________________________________"
      ],
      "metadata": {
        "id": "LufEwFvRevTl"
      }
    },
    {
      "cell_type": "markdown",
      "source": [
        "**Task_6_учебы:**\n",
        "\n",
        "**Матрица ошибок**"
      ],
      "metadata": {
        "id": "ad3KKoPjcpyk"
      }
    },
    {
      "cell_type": "code",
      "source": [
        "model = LogisticRegression(solver='newton-cg',class_weight= 'balanced').fit(X,Y)"
      ],
      "metadata": {
        "id": "0280-WSxcuYd"
      },
      "execution_count": null,
      "outputs": []
    },
    {
      "cell_type": "code",
      "source": [
        "predicted = model.predict(X)"
      ],
      "metadata": {
        "id": "h3L4jYK_eLG9"
      },
      "execution_count": null,
      "outputs": []
    },
    {
      "cell_type": "code",
      "source": [
        "from sklearn.metrics import confusion_matrix\n",
        "confusion_matrix(Y,predicted)"
      ],
      "metadata": {
        "colab": {
          "base_uri": "https://localhost:8080/"
        },
        "id": "sEA1mpgSbTge",
        "outputId": "40fe1c11-3607-428a-b40b-4de4d4f27ce9"
      },
      "execution_count": null,
      "outputs": [
        {
          "output_type": "execute_result",
          "data": {
            "text/plain": [
              "array([[ 633,  242,  321,  420],\n",
              "       [ 449,  299,  625,  199],\n",
              "       [ 196,  240, 1060,  224],\n",
              "       [ 345,  102,  103, 1207]])"
            ]
          },
          "metadata": {},
          "execution_count": 94
        }
      ]
    },
    {
      "cell_type": "code",
      "source": [
        "print(classification_report(Y,predicted))"
      ],
      "metadata": {
        "colab": {
          "base_uri": "https://localhost:8080/"
        },
        "id": "368RhB6OfIGo",
        "outputId": "7c0da20b-c4b7-4306-cea7-dbafe859e813"
      },
      "execution_count": null,
      "outputs": [
        {
          "output_type": "stream",
          "name": "stdout",
          "text": [
            "              precision    recall  f1-score   support\n",
            "\n",
            "         1.0       0.39      0.39      0.39      1616\n",
            "         2.0       0.34      0.19      0.24      1572\n",
            "         3.0       0.50      0.62      0.55      1720\n",
            "         4.0       0.59      0.69      0.63      1757\n",
            "\n",
            "    accuracy                           0.48      6665\n",
            "   macro avg       0.46      0.47      0.46      6665\n",
            "weighted avg       0.46      0.48      0.46      6665\n",
            "\n"
          ]
        }
      ]
    },
    {
      "cell_type": "markdown",
      "source": [
        "________________________________________________________"
      ],
      "metadata": {
        "id": "0XVgjqAnexbP"
      }
    }
  ]
}