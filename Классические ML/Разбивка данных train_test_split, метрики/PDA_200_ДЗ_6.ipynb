{
  "nbformat": 4,
  "nbformat_minor": 0,
  "metadata": {
    "colab": {
      "provenance": []
    },
    "kernelspec": {
      "name": "python3",
      "display_name": "Python 3"
    },
    "language_info": {
      "name": "python"
    }
  },
  "cells": [
    {
      "cell_type": "code",
      "execution_count": null,
      "metadata": {
        "colab": {
          "base_uri": "https://localhost:8080/"
        },
        "id": "YrBmDGDmvsAz",
        "outputId": "13d1d1db-6415-49a0-fd83-5ae8c68fe9d6"
      },
      "outputs": [
        {
          "output_type": "stream",
          "name": "stdout",
          "text": [
            "Mounted at /content/gdrive\n"
          ]
        }
      ],
      "source": [
        "from google.colab import drive\n",
        "drive.mount('/content/gdrive')\n",
        "\n",
        "import os # загрузка файлок\n",
        "from pandas import read_csv\n",
        "import pandas as pd\n",
        "# функции для разбивки данных на обучающую и тестовую:\n",
        "from sklearn.model_selection import train_test_split # разбивка выборки начасти\n",
        "from sklearn.linear_model import LogisticRegression # логистическая регрессия\n",
        "\n",
        "from sklearn.model_selection import KFold # разбивка на фолды\n",
        "from sklearn.model_selection import cross_val_score # для кросс валидации\n",
        "from sklearn.model_selection import LeaveOneOut # оставляет одно значение для обученияб а остальные для тестов\n",
        "from sklearn.model_selection import ShuffleSplit # случайная разбивка выборки на k частей\n",
        "# функции для оценки качества данных:\n",
        "from sklearn.metrics import confusion_matrix # сопоставляются расчетные значения\n",
        "from sklearn.metrics import classification_report # тут разные показатели оценки\n",
        "from sklearn.linear_model import LinearRegression # для оценки качества регрессии"
      ]
    },
    {
      "cell_type": "markdown",
      "source": [
        "# **ЗАДАНИЕ 6. ОЦЕНКА КАЧЕСТВА МОДЕЛЕЙ**\n"
      ],
      "metadata": {
        "id": "OdypfdWYzxyR"
      }
    },
    {
      "cell_type": "markdown",
      "source": [
        "Проведите разбиение выборки на тестовый и обучающий набор разными способами. Воспользуйтесь различными метриками качества для оценки моделей логистической регрессии и линейной регрессии.\n",
        "Постарайтесь максимально автоматизировать все вычисления, использовать существующие модули среды программирования Python."
      ],
      "metadata": {
        "id": "iF0QWugXz1Bf"
      }
    },
    {
      "cell_type": "markdown",
      "source": [
        "**Методика выполнения задания:**\n"
      ],
      "metadata": {
        "id": "xM1YG4Bwz_2A"
      }
    },
    {
      "cell_type": "markdown",
      "source": [
        "# **Раздел 1. Разбиение выборки на обучающий и тестовый набор**"
      ],
      "metadata": {
        "id": "JHWrD9Yx0Jpa"
      }
    },
    {
      "cell_type": "markdown",
      "source": [
        "# **Разбиение выборки на части (способ 1):**"
      ],
      "metadata": {
        "id": "5CHdDZxzBn0q"
      }
    },
    {
      "cell_type": "markdown",
      "source": [
        "**1. Укажите путь к рабочей папке, где хранятся данные, с помощью функции chdir() из модуля os.**"
      ],
      "metadata": {
        "id": "y9ZJYtgF0Owl"
      }
    },
    {
      "cell_type": "code",
      "source": [
        "os.chdir('/content/gdrive/MyDrive/Colab Notebooks/PDA-200/')"
      ],
      "metadata": {
        "id": "QG4hAdAl0oHa"
      },
      "execution_count": null,
      "outputs": []
    },
    {
      "cell_type": "code",
      "source": [
        "filename='pima-indians-diabetes.data.csv'\n",
        "names=['preg','plas','pres','skin','test','mass','pedi','age','class']\n",
        "data=read_csv(filename,names=names)\n",
        "data.head(5)"
      ],
      "metadata": {
        "colab": {
          "base_uri": "https://localhost:8080/",
          "height": 206
        },
        "id": "HLtGvao_zk-a",
        "outputId": "1e4ac67d-c790-4e76-a931-56701f08cff1"
      },
      "execution_count": null,
      "outputs": [
        {
          "output_type": "execute_result",
          "data": {
            "text/plain": [
              "   preg  plas  pres  skin  test  mass   pedi  age  class\n",
              "0     6   148    72    35     0  33.6  0.627   50      1\n",
              "1     1    85    66    29     0  26.6  0.351   31      0\n",
              "2     8   183    64     0     0  23.3  0.672   32      1\n",
              "3     1    89    66    23    94  28.1  0.167   21      0\n",
              "4     0   137    40    35   168  43.1  2.288   33      1"
            ],
            "text/html": [
              "\n",
              "  <div id=\"df-fd342aba-cb04-4819-a5e8-9fb34ba1daa7\">\n",
              "    <div class=\"colab-df-container\">\n",
              "      <div>\n",
              "<style scoped>\n",
              "    .dataframe tbody tr th:only-of-type {\n",
              "        vertical-align: middle;\n",
              "    }\n",
              "\n",
              "    .dataframe tbody tr th {\n",
              "        vertical-align: top;\n",
              "    }\n",
              "\n",
              "    .dataframe thead th {\n",
              "        text-align: right;\n",
              "    }\n",
              "</style>\n",
              "<table border=\"1\" class=\"dataframe\">\n",
              "  <thead>\n",
              "    <tr style=\"text-align: right;\">\n",
              "      <th></th>\n",
              "      <th>preg</th>\n",
              "      <th>plas</th>\n",
              "      <th>pres</th>\n",
              "      <th>skin</th>\n",
              "      <th>test</th>\n",
              "      <th>mass</th>\n",
              "      <th>pedi</th>\n",
              "      <th>age</th>\n",
              "      <th>class</th>\n",
              "    </tr>\n",
              "  </thead>\n",
              "  <tbody>\n",
              "    <tr>\n",
              "      <th>0</th>\n",
              "      <td>6</td>\n",
              "      <td>148</td>\n",
              "      <td>72</td>\n",
              "      <td>35</td>\n",
              "      <td>0</td>\n",
              "      <td>33.6</td>\n",
              "      <td>0.627</td>\n",
              "      <td>50</td>\n",
              "      <td>1</td>\n",
              "    </tr>\n",
              "    <tr>\n",
              "      <th>1</th>\n",
              "      <td>1</td>\n",
              "      <td>85</td>\n",
              "      <td>66</td>\n",
              "      <td>29</td>\n",
              "      <td>0</td>\n",
              "      <td>26.6</td>\n",
              "      <td>0.351</td>\n",
              "      <td>31</td>\n",
              "      <td>0</td>\n",
              "    </tr>\n",
              "    <tr>\n",
              "      <th>2</th>\n",
              "      <td>8</td>\n",
              "      <td>183</td>\n",
              "      <td>64</td>\n",
              "      <td>0</td>\n",
              "      <td>0</td>\n",
              "      <td>23.3</td>\n",
              "      <td>0.672</td>\n",
              "      <td>32</td>\n",
              "      <td>1</td>\n",
              "    </tr>\n",
              "    <tr>\n",
              "      <th>3</th>\n",
              "      <td>1</td>\n",
              "      <td>89</td>\n",
              "      <td>66</td>\n",
              "      <td>23</td>\n",
              "      <td>94</td>\n",
              "      <td>28.1</td>\n",
              "      <td>0.167</td>\n",
              "      <td>21</td>\n",
              "      <td>0</td>\n",
              "    </tr>\n",
              "    <tr>\n",
              "      <th>4</th>\n",
              "      <td>0</td>\n",
              "      <td>137</td>\n",
              "      <td>40</td>\n",
              "      <td>35</td>\n",
              "      <td>168</td>\n",
              "      <td>43.1</td>\n",
              "      <td>2.288</td>\n",
              "      <td>33</td>\n",
              "      <td>1</td>\n",
              "    </tr>\n",
              "  </tbody>\n",
              "</table>\n",
              "</div>\n",
              "      <button class=\"colab-df-convert\" onclick=\"convertToInteractive('df-fd342aba-cb04-4819-a5e8-9fb34ba1daa7')\"\n",
              "              title=\"Convert this dataframe to an interactive table.\"\n",
              "              style=\"display:none;\">\n",
              "        \n",
              "  <svg xmlns=\"http://www.w3.org/2000/svg\" height=\"24px\"viewBox=\"0 0 24 24\"\n",
              "       width=\"24px\">\n",
              "    <path d=\"M0 0h24v24H0V0z\" fill=\"none\"/>\n",
              "    <path d=\"M18.56 5.44l.94 2.06.94-2.06 2.06-.94-2.06-.94-.94-2.06-.94 2.06-2.06.94zm-11 1L8.5 8.5l.94-2.06 2.06-.94-2.06-.94L8.5 2.5l-.94 2.06-2.06.94zm10 10l.94 2.06.94-2.06 2.06-.94-2.06-.94-.94-2.06-.94 2.06-2.06.94z\"/><path d=\"M17.41 7.96l-1.37-1.37c-.4-.4-.92-.59-1.43-.59-.52 0-1.04.2-1.43.59L10.3 9.45l-7.72 7.72c-.78.78-.78 2.05 0 2.83L4 21.41c.39.39.9.59 1.41.59.51 0 1.02-.2 1.41-.59l7.78-7.78 2.81-2.81c.8-.78.8-2.07 0-2.86zM5.41 20L4 18.59l7.72-7.72 1.47 1.35L5.41 20z\"/>\n",
              "  </svg>\n",
              "      </button>\n",
              "      \n",
              "  <style>\n",
              "    .colab-df-container {\n",
              "      display:flex;\n",
              "      flex-wrap:wrap;\n",
              "      gap: 12px;\n",
              "    }\n",
              "\n",
              "    .colab-df-convert {\n",
              "      background-color: #E8F0FE;\n",
              "      border: none;\n",
              "      border-radius: 50%;\n",
              "      cursor: pointer;\n",
              "      display: none;\n",
              "      fill: #1967D2;\n",
              "      height: 32px;\n",
              "      padding: 0 0 0 0;\n",
              "      width: 32px;\n",
              "    }\n",
              "\n",
              "    .colab-df-convert:hover {\n",
              "      background-color: #E2EBFA;\n",
              "      box-shadow: 0px 1px 2px rgba(60, 64, 67, 0.3), 0px 1px 3px 1px rgba(60, 64, 67, 0.15);\n",
              "      fill: #174EA6;\n",
              "    }\n",
              "\n",
              "    [theme=dark] .colab-df-convert {\n",
              "      background-color: #3B4455;\n",
              "      fill: #D2E3FC;\n",
              "    }\n",
              "\n",
              "    [theme=dark] .colab-df-convert:hover {\n",
              "      background-color: #434B5C;\n",
              "      box-shadow: 0px 1px 3px 1px rgba(0, 0, 0, 0.15);\n",
              "      filter: drop-shadow(0px 1px 2px rgba(0, 0, 0, 0.3));\n",
              "      fill: #FFFFFF;\n",
              "    }\n",
              "  </style>\n",
              "\n",
              "      <script>\n",
              "        const buttonEl =\n",
              "          document.querySelector('#df-fd342aba-cb04-4819-a5e8-9fb34ba1daa7 button.colab-df-convert');\n",
              "        buttonEl.style.display =\n",
              "          google.colab.kernel.accessAllowed ? 'block' : 'none';\n",
              "\n",
              "        async function convertToInteractive(key) {\n",
              "          const element = document.querySelector('#df-fd342aba-cb04-4819-a5e8-9fb34ba1daa7');\n",
              "          const dataTable =\n",
              "            await google.colab.kernel.invokeFunction('convertToInteractive',\n",
              "                                                     [key], {});\n",
              "          if (!dataTable) return;\n",
              "\n",
              "          const docLinkHtml = 'Like what you see? Visit the ' +\n",
              "            '<a target=\"_blank\" href=https://colab.research.google.com/notebooks/data_table.ipynb>data table notebook</a>'\n",
              "            + ' to learn more about interactive tables.';\n",
              "          element.innerHTML = '';\n",
              "          dataTable['output_type'] = 'display_data';\n",
              "          await google.colab.output.renderOutput(dataTable, element);\n",
              "          const docLink = document.createElement('div');\n",
              "          docLink.innerHTML = docLinkHtml;\n",
              "          element.appendChild(docLink);\n",
              "        }\n",
              "      </script>\n",
              "    </div>\n",
              "  </div>\n",
              "  "
            ]
          },
          "metadata": {},
          "execution_count": 3
        }
      ]
    },
    {
      "cell_type": "code",
      "source": [
        "data.dtypes"
      ],
      "metadata": {
        "colab": {
          "base_uri": "https://localhost:8080/"
        },
        "id": "j7pxIGBaQm3s",
        "outputId": "fb021770-843e-489c-9edd-5d98a45ec602"
      },
      "execution_count": null,
      "outputs": [
        {
          "output_type": "execute_result",
          "data": {
            "text/plain": [
              "preg       int64\n",
              "plas       int64\n",
              "pres       int64\n",
              "skin       int64\n",
              "test       int64\n",
              "mass     float64\n",
              "pedi     float64\n",
              "age        int64\n",
              "class      int64\n",
              "dtype: object"
            ]
          },
          "metadata": {},
          "execution_count": 4
        }
      ]
    },
    {
      "cell_type": "code",
      "source": [
        "array = data.values\n",
        "array"
      ],
      "metadata": {
        "colab": {
          "base_uri": "https://localhost:8080/"
        },
        "id": "RFp0Zpru52tp",
        "outputId": "42e4ccaa-ef0a-474d-f6be-eafb3d0c246c"
      },
      "execution_count": null,
      "outputs": [
        {
          "output_type": "execute_result",
          "data": {
            "text/plain": [
              "array([[  6.   , 148.   ,  72.   , ...,   0.627,  50.   ,   1.   ],\n",
              "       [  1.   ,  85.   ,  66.   , ...,   0.351,  31.   ,   0.   ],\n",
              "       [  8.   , 183.   ,  64.   , ...,   0.672,  32.   ,   1.   ],\n",
              "       ...,\n",
              "       [  5.   , 121.   ,  72.   , ...,   0.245,  30.   ,   0.   ],\n",
              "       [  1.   , 126.   ,  60.   , ...,   0.349,  47.   ,   1.   ],\n",
              "       [  1.   ,  93.   ,  70.   , ...,   0.315,  23.   ,   0.   ]])"
            ]
          },
          "metadata": {},
          "execution_count": 5
        }
      ]
    },
    {
      "cell_type": "markdown",
      "source": [
        "**4. Выделите в переменной array часть, которая относится к факторным признакам, назовите ее X, и часть, которая относится к результативному признаку, - Y. Прокомментируйте содержимое переменных X и Y.**"
      ],
      "metadata": {
        "id": "rsAudT9-55Rw"
      }
    },
    {
      "cell_type": "code",
      "source": [
        "X = array[:,0:8] # факторные признаки, т.е. параметры объекта\n",
        "Y = array[:,8] # результативные признак, т.е. сам объект\n",
        "# это обучение с учителем х - это данные, y - это ответ"
      ],
      "metadata": {
        "id": "hk4htyL46Bsl"
      },
      "execution_count": null,
      "outputs": []
    },
    {
      "cell_type": "markdown",
      "source": [
        "**5. Запишите в переменную test_size долю отложенной (тестовой) выборки. Пусть она составляет 0,33.**"
      ],
      "metadata": {
        "id": "X64ndrwZ6Zfw"
      }
    },
    {
      "cell_type": "code",
      "source": [
        "test_size=0.33 # доля тестовой выборки в %"
      ],
      "metadata": {
        "id": "2zpAJQZN6chY"
      },
      "execution_count": null,
      "outputs": []
    },
    {
      "cell_type": "markdown",
      "source": [
        "**6. Задайте в переменной seed ядро случайных чисел для воспроизводимости результатов. Пусть будет = 7**"
      ],
      "metadata": {
        "id": "zsbZO19l6kLr"
      }
    },
    {
      "cell_type": "code",
      "source": [
        "seed = 7"
      ],
      "metadata": {
        "id": "tf0u7xX56v0d"
      },
      "execution_count": null,
      "outputs": []
    },
    {
      "cell_type": "markdown",
      "source": [
        "**7. Разбейте выборку на обучающую и отложенную с помощью функции train_test_split() из модуля sklearn.model_selection. Результат запишите в переменные X_train, X_test, Y_train, Y_test.**\n"
      ],
      "metadata": {
        "id": "JBZtfDS16wYi"
      }
    },
    {
      "cell_type": "code",
      "source": [
        "X_train, X_test, Y_train, Y_test = train_test_split(X,Y, test_size=test_size,random_state=seed)\n",
        "# первый важный способ разбиения выборки на части"
      ],
      "metadata": {
        "id": "rm-wyn-z636o"
      },
      "execution_count": null,
      "outputs": []
    },
    {
      "cell_type": "markdown",
      "source": [
        "**8. Создайте модель логистической регрессии с помощью функции LogisticRegression() из модуля sklearn.linear_model.**\n"
      ],
      "metadata": {
        "id": "H3mjfvcW64YK"
      }
    },
    {
      "cell_type": "code",
      "source": [
        "model=LogisticRegression(solver='liblinear') # создаем объект"
      ],
      "metadata": {
        "id": "TjfefWR-67_Q"
      },
      "execution_count": null,
      "outputs": []
    },
    {
      "cell_type": "markdown",
      "source": [
        "**9. Обучите ее на обучающей выборке с помощью функции fit().**\n"
      ],
      "metadata": {
        "id": "Unt30pId68d9"
      }
    },
    {
      "cell_type": "code",
      "source": [
        "model.fit(X_train,Y_train)# обучаем объект"
      ],
      "metadata": {
        "colab": {
          "base_uri": "https://localhost:8080/"
        },
        "id": "r5MXixE-7Bjc",
        "outputId": "b11cadcc-8c81-4856-bc28-a173e8cf41ef"
      },
      "execution_count": null,
      "outputs": [
        {
          "output_type": "execute_result",
          "data": {
            "text/plain": [
              "LogisticRegression(solver='liblinear')"
            ]
          },
          "metadata": {},
          "execution_count": 11
        }
      ]
    },
    {
      "cell_type": "markdown",
      "source": [
        "**10. Оцените качество построенной модели, рассчитав на тестовом наборе долю правильных ответов (accuracy) с помощью функции score(). Выведите на экран полученный результат.**"
      ],
      "metadata": {
        "id": "_AYi3HX67CPo"
      }
    },
    {
      "cell_type": "code",
      "source": [
        "result=model.score(X_test,Y_test) # смотрим долю правильных ответов на тестовой выборке\n",
        "result                            # т.е. мы уже обучили\n",
        "# довольно"
      ],
      "metadata": {
        "colab": {
          "base_uri": "https://localhost:8080/"
        },
        "id": "bbfNQb7e7GwQ",
        "outputId": "39dcd2e5-53ce-4e9a-8f70-6203a87de3be"
      },
      "execution_count": null,
      "outputs": [
        {
          "output_type": "execute_result",
          "data": {
            "text/plain": [
              "0.7559055118110236"
            ]
          },
          "metadata": {},
          "execution_count": 12
        }
      ]
    },
    {
      "cell_type": "markdown",
      "source": [
        "# **Разбиение выборки на части (способ 2):**"
      ],
      "metadata": {
        "id": "HriVM7v-BznK"
      }
    },
    {
      "cell_type": "markdown",
      "source": [
        "**11. Проведите кросс-валидацию, в ходе которой оцените среднюю долю правильных ответов (accuracy) и стандартное отклонение полученных оценок. Воспользуйтесь при этом функцией cross_val_score() из модуля sklearn.model_selection. Разбиение на фолды задайте с помощью функции KFold() из модуля sklearn.model_selection. На вход данной функции подайте следующую информацию: 1) количество частей, на которые должна разбиваться выборка, - пусть 10; 2) счетчик случайных чисел – пусть 7; 3) необходимость перемешивания данных выборки при каждой оценке, задав параметр shuffle=True.**"
      ],
      "metadata": {
        "id": "MM-LTa7K7HVy"
      }
    },
    {
      "cell_type": "code",
      "source": [
        "kfold=KFold(n_splits=10,random_state=7,shuffle=True) # разбили выборку на части"
      ],
      "metadata": {
        "id": "dZRY7BXb7MQK"
      },
      "execution_count": null,
      "outputs": []
    },
    {
      "cell_type": "markdown",
      "source": [
        "**12. Выведите на экран среднюю долю правильных ответов (accuracy) и стандартное отклонение полученных оценок.**\n"
      ],
      "metadata": {
        "id": "LxC6jMQY7M1l"
      }
    },
    {
      "cell_type": "code",
      "source": [
        "kfold"
      ],
      "metadata": {
        "colab": {
          "base_uri": "https://localhost:8080/"
        },
        "id": "RGU6-PQX7ReS",
        "outputId": "c39f3fbb-e935-4194-90cb-f7feafafb696"
      },
      "execution_count": null,
      "outputs": [
        {
          "output_type": "execute_result",
          "data": {
            "text/plain": [
              "KFold(n_splits=10, random_state=7, shuffle=True)"
            ]
          },
          "metadata": {},
          "execution_count": 16
        }
      ]
    },
    {
      "cell_type": "markdown",
      "source": [
        "**13. Проведите кросс-валидацию с одним наблюдением для тестирования результата (Leave One Out Cross-Validation), в ходе которой оцените среднюю долю правильных ответов (accuracy) и стандартное отклонение полученных оценок. Воспользуйтесь при этом функцией cross_val_score() из модуля sklearn.model_selection. Разбиение на фолды задайте с помощью функции LeaveOneOut() из модуля sklearn.model_selection.**\n"
      ],
      "metadata": {
        "id": "hfCcR2CD7R8r"
      }
    },
    {
      "cell_type": "code",
      "source": [
        "results=cross_val_score(model,X,Y,cv=kfold)"
      ],
      "metadata": {
        "id": "Sk9q22X47Wda"
      },
      "execution_count": null,
      "outputs": []
    },
    {
      "cell_type": "markdown",
      "source": [
        "**14. Выведите на экран среднюю долю правильных ответов (accuracy) и стандартное отклонение полученных оценок.**"
      ],
      "metadata": {
        "id": "Oxx-saah7WzS"
      }
    },
    {
      "cell_type": "code",
      "source": [
        "results"
      ],
      "metadata": {
        "colab": {
          "base_uri": "https://localhost:8080/"
        },
        "id": "87GrgvoY7bad",
        "outputId": "cc0a24a4-152f-4f42-9e93-8a776a9b17ec"
      },
      "execution_count": null,
      "outputs": [
        {
          "output_type": "execute_result",
          "data": {
            "text/plain": [
              "array([0.83116883, 0.71428571, 0.71428571, 0.77922078, 0.79220779,\n",
              "       0.76623377, 0.68831169, 0.85714286, 0.80263158, 0.76315789])"
            ]
          },
          "metadata": {},
          "execution_count": 18
        }
      ]
    },
    {
      "cell_type": "code",
      "source": [
        "results.mean(),results.std() # важно чтобы std  было небольшое"
      ],
      "metadata": {
        "colab": {
          "base_uri": "https://localhost:8080/"
        },
        "id": "-BfldaHtFKzM",
        "outputId": "332bb728-3f38-4dbd-f28e-64ad814d8181"
      },
      "execution_count": null,
      "outputs": [
        {
          "output_type": "execute_result",
          "data": {
            "text/plain": [
              "(0.7708646616541353, 0.05090500786917546)"
            ]
          },
          "metadata": {},
          "execution_count": 19
        }
      ]
    },
    {
      "cell_type": "markdown",
      "source": [
        "# **Разбиение выборки на части (способ 3):**"
      ],
      "metadata": {
        "id": "fbbrWSwxHiZP"
      }
    },
    {
      "cell_type": "markdown",
      "source": [
        "**15. Создайте объект разбиения на фолды в пропорции «1:прочее» с помощью функции LeaveOneOut() из модуля sklearn.model_selection. Результат запишите в переменную loocv.**\n"
      ],
      "metadata": {
        "id": "1q3xLTTn7b3D"
      }
    },
    {
      "cell_type": "code",
      "source": [
        "loocv=LeaveOneOut()"
      ],
      "metadata": {
        "id": "2QO22pFr7g0I"
      },
      "execution_count": null,
      "outputs": []
    },
    {
      "cell_type": "markdown",
      "source": [
        "**16. Проведите кросс-валидацию с одним наблюдением для тестирования результата (Leave One Out Cross-Validation), воспользовавшись функцией cross_val_score(model, X, Y, cv=loocv) из модуля sklearn.model_selection. Запишите результат в переменную results.**\n",
        "\n",
        "**Выведите на экран среднюю долю правильных ответов (accuracy) и стандартное отклонение полученных оценок, воспользовавшись, соответственно, функциями mean() и std().**\n"
      ],
      "metadata": {
        "id": "eCjRxzS57hOR"
      }
    },
    {
      "cell_type": "code",
      "source": [
        "results=cross_val_score(model,X,Y,cv=loocv)"
      ],
      "metadata": {
        "id": "DEpO9byY7l2x"
      },
      "execution_count": null,
      "outputs": []
    },
    {
      "cell_type": "code",
      "source": [
        "results.mean(),results.std()"
      ],
      "metadata": {
        "colab": {
          "base_uri": "https://localhost:8080/"
        },
        "id": "OukdlvO8HdW9",
        "outputId": "2ada5b23-6175-48e4-e7b9-62edaa5b4100"
      },
      "execution_count": null,
      "outputs": [
        {
          "output_type": "execute_result",
          "data": {
            "text/plain": [
              "(0.7682291666666666, 0.42196340380334596)"
            ]
          },
          "metadata": {},
          "execution_count": 28
        }
      ]
    },
    {
      "cell_type": "markdown",
      "source": [
        "# **Разбиение выборки на части (способ 4):**"
      ],
      "metadata": {
        "id": "cjSDO-NPH-T8"
      }
    },
    {
      "cell_type": "markdown",
      "source": [
        "**Создайте объект многократного случайного разбиения на фолды с помощью функции ShuffleSplit(n_splits=n_splits, test_size=test_size, random_state=seed) из модуля sklearn.model_selection. Результат запишите в переменную kfold. На вход данной функции подайте следующую информацию: 1) количество частей, на которые должна разбиваться выборка (n_splits), - пусть 10; 2) долю тестового набора (test_size) – пусть 0,33; 3) счетчик случайных чисел (random_state) – пусть 7.**\n",
        "\n",
        "**Проведите многократное случайное разбиение выборки на обучающую и тестовую, воспользовавшись функцией cross_val_score(model, X, Y, cv=kfold) из модуля sklearn.model_selection. Запишите результат в переменную results.**\n",
        "\n",
        "**Выведите на экран среднюю долю правильных ответов (accuracy) и стандартное отклонение полученных оценок, воспользовавшись, соответственно, функциями mean() и std().**"
      ],
      "metadata": {
        "id": "IICQALFzIKUY"
      }
    },
    {
      "cell_type": "code",
      "source": [
        "kfold=ShuffleSplit(n_splits=10, test_size=0.33, random_state=7)"
      ],
      "metadata": {
        "id": "lvNzfZNTITQ2"
      },
      "execution_count": null,
      "outputs": []
    },
    {
      "cell_type": "code",
      "source": [
        "results=cross_val_score(model,X,Y,cv=kfold)"
      ],
      "metadata": {
        "id": "JbU98vvJIwS1"
      },
      "execution_count": null,
      "outputs": []
    },
    {
      "cell_type": "code",
      "source": [
        "results.mean(),results.std()"
      ],
      "metadata": {
        "colab": {
          "base_uri": "https://localhost:8080/"
        },
        "id": "EWkO0iiQI2jd",
        "outputId": "0888c285-4209-46a4-f7b3-42ff11c8795f"
      },
      "execution_count": null,
      "outputs": [
        {
          "output_type": "execute_result",
          "data": {
            "text/plain": [
              "(0.7649606299212598, 0.016983980007970873)"
            ]
          },
          "metadata": {},
          "execution_count": 31
        }
      ]
    },
    {
      "cell_type": "markdown",
      "source": [
        "# **Раздел 2. Метрики качества моделей классификации**\n"
      ],
      "metadata": {
        "id": "hXNSDBPq7mPF"
      }
    },
    {
      "cell_type": "markdown",
      "source": [
        "**17. Наиболее популярной метрикой качества моделей классификации является доля правильных ответов (accuracy). Ее Вы использовали для оценки качества модели логистической регрессии. Запишите среднюю долю правильных ответов (accuracy) и стандартное отклонение полученных оценок на кросс-валидации, проведенной в п. 11.**\n"
      ],
      "metadata": {
        "id": "mZe3bNIV7qpi"
      }
    },
    {
      "cell_type": "code",
      "source": [],
      "metadata": {
        "id": "5YVGuEPh7wV9"
      },
      "execution_count": null,
      "outputs": []
    },
    {
      "cell_type": "markdown",
      "source": [
        "**Создайте объект разбиения на фолды с помощью функции KFold(n_splits= n_splits, random_state = random_state, shuffle=True) из модуля sklearn.model_selection. Результат запишите в переменную kfold. На вход данной функции подайте следующую информацию: 1) количество частей, на которые должна разбиваться выборка (n_splits), - пусть 10; 2) счетчик случайных чисел (random_state) – пусть 7; 3) необходимость перемешивания данных выборки при каждой оценке, задав параметр shuffle=True.**\n",
        "\n",
        "**Проведите кросс-валидацию, воспользовавшись функцией cross_val_score(model, X, Y, cv=kfold, scoring=scoring) из модуля sklearn.model_selection. В качестве оценочной функции (scoring) укажите 'neg_log_loss'. Запишите результат в переменную results.**"
      ],
      "metadata": {
        "id": "jdi0uuPY7wrf"
      }
    },
    {
      "cell_type": "code",
      "source": [
        "kfold=KFold(n_splits=10,random_state=7,shuffle=True)"
      ],
      "metadata": {
        "id": "6J1s7k0fKohT"
      },
      "execution_count": null,
      "outputs": []
    },
    {
      "cell_type": "code",
      "source": [
        "scoring ='neg_log_loss'"
      ],
      "metadata": {
        "id": "ss_aqqQeLJv8"
      },
      "execution_count": null,
      "outputs": []
    },
    {
      "cell_type": "code",
      "source": [
        "results=cross_val_score(model, X, Y, cv=kfold, scoring=scoring)"
      ],
      "metadata": {
        "id": "xlLdHYjt75jF"
      },
      "execution_count": null,
      "outputs": []
    },
    {
      "cell_type": "markdown",
      "source": [
        "**19. Выведите на экран среднее значение логистической функции потерь, взятое с отрицательным знаком, и стандартное отклонение полученных оценок.**\n"
      ],
      "metadata": {
        "id": "h2cmXyPU75_H"
      }
    },
    {
      "cell_type": "code",
      "source": [
        "results.mean() # логистическая функциия потерь = 0.49, выбираем ту модель в кот. она по модулю меньше\n",
        "\n",
        "#'neg_log_loss' - функция потерь, должна быть как можно меньше\n",
        "#'accuracy' (идет по умолчаниюб использовалась везде выше) - она показывает\n",
        "            # сколько ьочных результатов, чем боьше тем лучше"
      ],
      "metadata": {
        "colab": {
          "base_uri": "https://localhost:8080/"
        },
        "id": "_SLaLNrvMIuu",
        "outputId": "2f0a5e18-9b08-4c17-8600-55254411e425"
      },
      "execution_count": null,
      "outputs": [
        {
          "output_type": "execute_result",
          "data": {
            "text/plain": [
              "-0.4935803958173728"
            ]
          },
          "metadata": {},
          "execution_count": 38
        }
      ]
    },
    {
      "cell_type": "code",
      "source": [
        "results.std()"
      ],
      "metadata": {
        "colab": {
          "base_uri": "https://localhost:8080/"
        },
        "id": "XIAh9lZYMXCx",
        "outputId": "ca8baf8f-b757-4092-c1ce-d028a73c5f3b"
      },
      "execution_count": null,
      "outputs": [
        {
          "output_type": "execute_result",
          "data": {
            "text/plain": [
              "0.042047547865615785"
            ]
          },
          "metadata": {},
          "execution_count": 39
        }
      ]
    },
    {
      "cell_type": "markdown",
      "source": [
        "**20. Проведите кросс-валидацию, в ходе которой оцените среднюю площадь под ROC кривой и стандартное отклонение полученных оценок. Воспользуйтесь при этом функцией cross_val_score() из модуля sklearn.model_selection. В качестве оценочной функции укажите 'roc_auc'. Разбиение на фолды задайте с помощью функции KFold() из модуля sklearn.model_selection, как в п. 11.**"
      ],
      "metadata": {
        "id": "lp75iSgp79i5"
      }
    },
    {
      "cell_type": "code",
      "source": [
        "scoring='roc_auc'"
      ],
      "metadata": {
        "id": "I2M_BlSP8CIa"
      },
      "execution_count": null,
      "outputs": []
    },
    {
      "cell_type": "code",
      "source": [
        "results=cross_val_score(model, X, Y, cv=kfold, scoring=scoring)"
      ],
      "metadata": {
        "id": "5uBrQhjGNScD"
      },
      "execution_count": null,
      "outputs": []
    },
    {
      "cell_type": "markdown",
      "source": [
        "**21. Выведите на экран среднюю площадь под ROC кривой и стандартное отклонение полученных оценок.**"
      ],
      "metadata": {
        "id": "hWWGt5iz8CpD"
      }
    },
    {
      "cell_type": "code",
      "source": [
        "results.mean() # дает среднюю площадь под кривой"
      ],
      "metadata": {
        "colab": {
          "base_uri": "https://localhost:8080/"
        },
        "id": "lq-ABeKzNa49",
        "outputId": "0ccc84d0-37a8-499e-fd4e-d1f9684c7d72"
      },
      "execution_count": null,
      "outputs": [
        {
          "output_type": "execute_result",
          "data": {
            "text/plain": [
              "0.8257627921677674"
            ]
          },
          "metadata": {},
          "execution_count": 42
        }
      ]
    },
    {
      "cell_type": "code",
      "source": [
        "results.std()"
      ],
      "metadata": {
        "colab": {
          "base_uri": "https://localhost:8080/"
        },
        "id": "kmVPiuxCNbSX",
        "outputId": "601b1fab-8ea9-4996-9fff-efb0c6c21470"
      },
      "execution_count": null,
      "outputs": [
        {
          "output_type": "execute_result",
          "data": {
            "text/plain": [
              "0.05005520303752424"
            ]
          },
          "metadata": {},
          "execution_count": 43
        }
      ]
    },
    {
      "cell_type": "markdown",
      "source": [
        "**22.   Найдите расчетные значения по модели логистической регрессии на тестовой выборке с помощью функции predict(). Результат запишите в переменную predicted.**"
      ],
      "metadata": {
        "id": "R1ERIERN8HQm"
      }
    },
    {
      "cell_type": "code",
      "source": [
        "predicted=model.predict(X_test)\n",
        "predicted"
      ],
      "metadata": {
        "id": "ppfncFgM8MbB"
      },
      "execution_count": null,
      "outputs": []
    },
    {
      "cell_type": "markdown",
      "source": [
        "**Посмотрите на матрицу ошибок прогнозирования на тестовой выборке для модели логистической регрессии, построенной и обученной в пп. 7-9. Воспользуйтесь при этом функцией confusion_matrix() из модуля sklearn.metrics. На вход этой функции подайте фактические значения результативного признака на тестовом наборе (Y_test) и расчетные значения по модели (predicted). Выведите на экран полученный результат.**"
      ],
      "metadata": {
        "id": "1Tyt1f3d8WfA"
      }
    },
    {
      "cell_type": "code",
      "source": [
        "confusion_matrix(Y_test,predicted)\n",
        "# нулевой класс 0 - распознался верно 141 раз\n",
        "# первый класс 1 - распознался верно 51 раз\n",
        "# 21 и 41 - это кол-во ошибок распознания для каждого класса"
      ],
      "metadata": {
        "colab": {
          "base_uri": "https://localhost:8080/"
        },
        "id": "JRpEfm888bKg",
        "outputId": "87b1d306-11f4-4c66-fa96-994221895af8"
      },
      "execution_count": null,
      "outputs": [
        {
          "output_type": "execute_result",
          "data": {
            "text/plain": [
              "array([[141,  21],\n",
              "       [ 41,  51]])"
            ]
          },
          "metadata": {},
          "execution_count": 45
        }
      ]
    },
    {
      "cell_type": "markdown",
      "source": [
        "**Выведите на экран отчет о качестве классификации с помощью classification_report()**"
      ],
      "metadata": {
        "id": "fAGy9p5N8blR"
      }
    },
    {
      "cell_type": "code",
      "source": [
        "print(classification_report(Y_test,predicted))\n",
        "# precision - точность, показывает насколько можно доверять\n",
        "#             классификатору в случае срабатывания\n",
        "# recall - показывает на какой доле объекта алгоритм срабатывает\n",
        "# f1-score - ф-мера среднее гармоническое\n",
        "# support - число объектов каждого класса\n",
        "\n",
        "# желательно чтобы представителей каждого класса было одинаковое количество\n",
        "\n",
        "# accuracy - доля правильных ответов\n",
        "# macro avg  - среднее повсем классам\n",
        "# weighted avg - взвешенное среднее"
      ],
      "metadata": {
        "colab": {
          "base_uri": "https://localhost:8080/"
        },
        "id": "3vl8wkvh8f1c",
        "outputId": "a65b9d69-0afa-430c-da2e-3608a27cdc72"
      },
      "execution_count": null,
      "outputs": [
        {
          "output_type": "stream",
          "name": "stdout",
          "text": [
            "              precision    recall  f1-score   support\n",
            "\n",
            "         0.0       0.77      0.87      0.82       162\n",
            "         1.0       0.71      0.55      0.62        92\n",
            "\n",
            "    accuracy                           0.76       254\n",
            "   macro avg       0.74      0.71      0.72       254\n",
            "weighted avg       0.75      0.76      0.75       254\n",
            "\n"
          ]
        }
      ]
    },
    {
      "cell_type": "markdown",
      "source": [
        "# **Раздел 3. Метрики качества моделей регрессии**"
      ],
      "metadata": {
        "id": "WM6RUApf8gUp"
      }
    },
    {
      "cell_type": "markdown",
      "source": [
        "**26. Загрузите данные файла housing.csv с помощью функции read_csv(filename, delim_whitespace=True, names=names) из модуля pandas. Названия столбцов укажите следующими: names = ['CRIM', 'ZN', 'INDUS', 'CHAS', 'NOX', 'RM', 'AGE', 'DIS', 'RAD', 'TAX', 'PTRATIO','B', 'LSTAT', 'MEDV']. Посмотрите на первые 5 наблюдений с помощью функции head().**\n"
      ],
      "metadata": {
        "id": "_TEXj5O_8k8u"
      }
    },
    {
      "cell_type": "code",
      "source": [
        "filename='housing.csv'\n",
        "names=['CRIM', 'ZN', 'INDUS', 'CHAS', 'NOX', 'RM', 'AGE', 'DIS', 'RAD', 'TAX', 'PTRATIO','B', 'LSTAT', 'MEDV']\n",
        "data=read_csv(filename, delim_whitespace=True, names=names)\n",
        "data.head(6)"
      ],
      "metadata": {
        "colab": {
          "base_uri": "https://localhost:8080/",
          "height": 237
        },
        "id": "h8JUNe2z8px1",
        "outputId": "ac5fd22e-db1e-431f-d6f0-9e81ca461393"
      },
      "execution_count": null,
      "outputs": [
        {
          "output_type": "execute_result",
          "data": {
            "text/plain": [
              "      CRIM    ZN  INDUS  CHAS    NOX     RM   AGE     DIS  RAD    TAX  \\\n",
              "0  0.00632  18.0   2.31     0  0.538  6.575  65.2  4.0900    1  296.0   \n",
              "1  0.02731   0.0   7.07     0  0.469  6.421  78.9  4.9671    2  242.0   \n",
              "2  0.02729   0.0   7.07     0  0.469  7.185  61.1  4.9671    2  242.0   \n",
              "3  0.03237   0.0   2.18     0  0.458  6.998  45.8  6.0622    3  222.0   \n",
              "4  0.06905   0.0   2.18     0  0.458  7.147  54.2  6.0622    3  222.0   \n",
              "5  0.02985   0.0   2.18     0  0.458  6.430  58.7  6.0622    3  222.0   \n",
              "\n",
              "   PTRATIO       B  LSTAT  MEDV  \n",
              "0     15.3  396.90   4.98  24.0  \n",
              "1     17.8  396.90   9.14  21.6  \n",
              "2     17.8  392.83   4.03  34.7  \n",
              "3     18.7  394.63   2.94  33.4  \n",
              "4     18.7  396.90   5.33  36.2  \n",
              "5     18.7  394.12   5.21  28.7  "
            ],
            "text/html": [
              "\n",
              "  <div id=\"df-1151f32e-9dc6-4380-8ed9-d398a5c2269e\">\n",
              "    <div class=\"colab-df-container\">\n",
              "      <div>\n",
              "<style scoped>\n",
              "    .dataframe tbody tr th:only-of-type {\n",
              "        vertical-align: middle;\n",
              "    }\n",
              "\n",
              "    .dataframe tbody tr th {\n",
              "        vertical-align: top;\n",
              "    }\n",
              "\n",
              "    .dataframe thead th {\n",
              "        text-align: right;\n",
              "    }\n",
              "</style>\n",
              "<table border=\"1\" class=\"dataframe\">\n",
              "  <thead>\n",
              "    <tr style=\"text-align: right;\">\n",
              "      <th></th>\n",
              "      <th>CRIM</th>\n",
              "      <th>ZN</th>\n",
              "      <th>INDUS</th>\n",
              "      <th>CHAS</th>\n",
              "      <th>NOX</th>\n",
              "      <th>RM</th>\n",
              "      <th>AGE</th>\n",
              "      <th>DIS</th>\n",
              "      <th>RAD</th>\n",
              "      <th>TAX</th>\n",
              "      <th>PTRATIO</th>\n",
              "      <th>B</th>\n",
              "      <th>LSTAT</th>\n",
              "      <th>MEDV</th>\n",
              "    </tr>\n",
              "  </thead>\n",
              "  <tbody>\n",
              "    <tr>\n",
              "      <th>0</th>\n",
              "      <td>0.00632</td>\n",
              "      <td>18.0</td>\n",
              "      <td>2.31</td>\n",
              "      <td>0</td>\n",
              "      <td>0.538</td>\n",
              "      <td>6.575</td>\n",
              "      <td>65.2</td>\n",
              "      <td>4.0900</td>\n",
              "      <td>1</td>\n",
              "      <td>296.0</td>\n",
              "      <td>15.3</td>\n",
              "      <td>396.90</td>\n",
              "      <td>4.98</td>\n",
              "      <td>24.0</td>\n",
              "    </tr>\n",
              "    <tr>\n",
              "      <th>1</th>\n",
              "      <td>0.02731</td>\n",
              "      <td>0.0</td>\n",
              "      <td>7.07</td>\n",
              "      <td>0</td>\n",
              "      <td>0.469</td>\n",
              "      <td>6.421</td>\n",
              "      <td>78.9</td>\n",
              "      <td>4.9671</td>\n",
              "      <td>2</td>\n",
              "      <td>242.0</td>\n",
              "      <td>17.8</td>\n",
              "      <td>396.90</td>\n",
              "      <td>9.14</td>\n",
              "      <td>21.6</td>\n",
              "    </tr>\n",
              "    <tr>\n",
              "      <th>2</th>\n",
              "      <td>0.02729</td>\n",
              "      <td>0.0</td>\n",
              "      <td>7.07</td>\n",
              "      <td>0</td>\n",
              "      <td>0.469</td>\n",
              "      <td>7.185</td>\n",
              "      <td>61.1</td>\n",
              "      <td>4.9671</td>\n",
              "      <td>2</td>\n",
              "      <td>242.0</td>\n",
              "      <td>17.8</td>\n",
              "      <td>392.83</td>\n",
              "      <td>4.03</td>\n",
              "      <td>34.7</td>\n",
              "    </tr>\n",
              "    <tr>\n",
              "      <th>3</th>\n",
              "      <td>0.03237</td>\n",
              "      <td>0.0</td>\n",
              "      <td>2.18</td>\n",
              "      <td>0</td>\n",
              "      <td>0.458</td>\n",
              "      <td>6.998</td>\n",
              "      <td>45.8</td>\n",
              "      <td>6.0622</td>\n",
              "      <td>3</td>\n",
              "      <td>222.0</td>\n",
              "      <td>18.7</td>\n",
              "      <td>394.63</td>\n",
              "      <td>2.94</td>\n",
              "      <td>33.4</td>\n",
              "    </tr>\n",
              "    <tr>\n",
              "      <th>4</th>\n",
              "      <td>0.06905</td>\n",
              "      <td>0.0</td>\n",
              "      <td>2.18</td>\n",
              "      <td>0</td>\n",
              "      <td>0.458</td>\n",
              "      <td>7.147</td>\n",
              "      <td>54.2</td>\n",
              "      <td>6.0622</td>\n",
              "      <td>3</td>\n",
              "      <td>222.0</td>\n",
              "      <td>18.7</td>\n",
              "      <td>396.90</td>\n",
              "      <td>5.33</td>\n",
              "      <td>36.2</td>\n",
              "    </tr>\n",
              "    <tr>\n",
              "      <th>5</th>\n",
              "      <td>0.02985</td>\n",
              "      <td>0.0</td>\n",
              "      <td>2.18</td>\n",
              "      <td>0</td>\n",
              "      <td>0.458</td>\n",
              "      <td>6.430</td>\n",
              "      <td>58.7</td>\n",
              "      <td>6.0622</td>\n",
              "      <td>3</td>\n",
              "      <td>222.0</td>\n",
              "      <td>18.7</td>\n",
              "      <td>394.12</td>\n",
              "      <td>5.21</td>\n",
              "      <td>28.7</td>\n",
              "    </tr>\n",
              "  </tbody>\n",
              "</table>\n",
              "</div>\n",
              "      <button class=\"colab-df-convert\" onclick=\"convertToInteractive('df-1151f32e-9dc6-4380-8ed9-d398a5c2269e')\"\n",
              "              title=\"Convert this dataframe to an interactive table.\"\n",
              "              style=\"display:none;\">\n",
              "        \n",
              "  <svg xmlns=\"http://www.w3.org/2000/svg\" height=\"24px\"viewBox=\"0 0 24 24\"\n",
              "       width=\"24px\">\n",
              "    <path d=\"M0 0h24v24H0V0z\" fill=\"none\"/>\n",
              "    <path d=\"M18.56 5.44l.94 2.06.94-2.06 2.06-.94-2.06-.94-.94-2.06-.94 2.06-2.06.94zm-11 1L8.5 8.5l.94-2.06 2.06-.94-2.06-.94L8.5 2.5l-.94 2.06-2.06.94zm10 10l.94 2.06.94-2.06 2.06-.94-2.06-.94-.94-2.06-.94 2.06-2.06.94z\"/><path d=\"M17.41 7.96l-1.37-1.37c-.4-.4-.92-.59-1.43-.59-.52 0-1.04.2-1.43.59L10.3 9.45l-7.72 7.72c-.78.78-.78 2.05 0 2.83L4 21.41c.39.39.9.59 1.41.59.51 0 1.02-.2 1.41-.59l7.78-7.78 2.81-2.81c.8-.78.8-2.07 0-2.86zM5.41 20L4 18.59l7.72-7.72 1.47 1.35L5.41 20z\"/>\n",
              "  </svg>\n",
              "      </button>\n",
              "      \n",
              "  <style>\n",
              "    .colab-df-container {\n",
              "      display:flex;\n",
              "      flex-wrap:wrap;\n",
              "      gap: 12px;\n",
              "    }\n",
              "\n",
              "    .colab-df-convert {\n",
              "      background-color: #E8F0FE;\n",
              "      border: none;\n",
              "      border-radius: 50%;\n",
              "      cursor: pointer;\n",
              "      display: none;\n",
              "      fill: #1967D2;\n",
              "      height: 32px;\n",
              "      padding: 0 0 0 0;\n",
              "      width: 32px;\n",
              "    }\n",
              "\n",
              "    .colab-df-convert:hover {\n",
              "      background-color: #E2EBFA;\n",
              "      box-shadow: 0px 1px 2px rgba(60, 64, 67, 0.3), 0px 1px 3px 1px rgba(60, 64, 67, 0.15);\n",
              "      fill: #174EA6;\n",
              "    }\n",
              "\n",
              "    [theme=dark] .colab-df-convert {\n",
              "      background-color: #3B4455;\n",
              "      fill: #D2E3FC;\n",
              "    }\n",
              "\n",
              "    [theme=dark] .colab-df-convert:hover {\n",
              "      background-color: #434B5C;\n",
              "      box-shadow: 0px 1px 3px 1px rgba(0, 0, 0, 0.15);\n",
              "      filter: drop-shadow(0px 1px 2px rgba(0, 0, 0, 0.3));\n",
              "      fill: #FFFFFF;\n",
              "    }\n",
              "  </style>\n",
              "\n",
              "      <script>\n",
              "        const buttonEl =\n",
              "          document.querySelector('#df-1151f32e-9dc6-4380-8ed9-d398a5c2269e button.colab-df-convert');\n",
              "        buttonEl.style.display =\n",
              "          google.colab.kernel.accessAllowed ? 'block' : 'none';\n",
              "\n",
              "        async function convertToInteractive(key) {\n",
              "          const element = document.querySelector('#df-1151f32e-9dc6-4380-8ed9-d398a5c2269e');\n",
              "          const dataTable =\n",
              "            await google.colab.kernel.invokeFunction('convertToInteractive',\n",
              "                                                     [key], {});\n",
              "          if (!dataTable) return;\n",
              "\n",
              "          const docLinkHtml = 'Like what you see? Visit the ' +\n",
              "            '<a target=\"_blank\" href=https://colab.research.google.com/notebooks/data_table.ipynb>data table notebook</a>'\n",
              "            + ' to learn more about interactive tables.';\n",
              "          element.innerHTML = '';\n",
              "          dataTable['output_type'] = 'display_data';\n",
              "          await google.colab.output.renderOutput(dataTable, element);\n",
              "          const docLink = document.createElement('div');\n",
              "          docLink.innerHTML = docLinkHtml;\n",
              "          element.appendChild(docLink);\n",
              "        }\n",
              "      </script>\n",
              "    </div>\n",
              "  </div>\n",
              "  "
            ]
          },
          "metadata": {},
          "execution_count": 47
        }
      ]
    },
    {
      "cell_type": "markdown",
      "source": [
        "**27. Сохраните в переменную array значения признаков, обратившись к атрибуту values.**"
      ],
      "metadata": {
        "id": "Po0pgFgR8qRF"
      }
    },
    {
      "cell_type": "code",
      "source": [
        "array=data.values"
      ],
      "metadata": {
        "id": "ArLTPlM88tm7"
      },
      "execution_count": null,
      "outputs": []
    },
    {
      "cell_type": "markdown",
      "source": [
        "**28. Выделите в переменной array часть, которая относится к факторным признакам, назовите ее X, и часть, которая относится к результативному признаку, - Y. Прокомментируйте содержимое переменных X и Y.**\n"
      ],
      "metadata": {
        "id": "OsP0Dkt78uA1"
      }
    },
    {
      "cell_type": "code",
      "source": [
        "X = array[:,0:13] # факторные признаки, т.е. параметры объекта\n",
        "Y = array[:,13] # результативные признак, т.е. сам объект\n",
        "# это обучение с учителем х - это данные, y - это ответ"
      ],
      "metadata": {
        "id": "re2zx_HA8yzJ"
      },
      "execution_count": null,
      "outputs": []
    },
    {
      "cell_type": "markdown",
      "source": [
        "**29. Создайте модель линейной регрессии с помощью функции LinearRegression() из модуля sklearn.linear_model.**"
      ],
      "metadata": {
        "id": "kcJDh3nF8zOD"
      }
    },
    {
      "cell_type": "code",
      "source": [
        "model=LinearRegression()"
      ],
      "metadata": {
        "id": "4Rxn_tJT826d"
      },
      "execution_count": null,
      "outputs": []
    },
    {
      "cell_type": "markdown",
      "source": [
        "**30. Проведите кросс-валидацию, в ходе которой оцените среднюю величину средней абсолютной ошибки (MAE), взятую с отрицательным знаком, и стандартное отклонение полученных оценок. Воспользуйтесь при этом функцией cross_val_score() из модуля sklearn.model_selection. В качестве оценочной функции укажите 'neg_mean_absolute_error'. Разбиение на фолды задайте с помощью функции KFold() из модуля sklearn.model_selection. На вход данной функции подайте следующую информацию: 1) количество частей, на которые должна разбиваться выборка, - пусть 10; 2) счетчик случайных чисел – пусть 7; 3) необходимость перемешивания данных выборки при каждой оценке, задав параметр shuffle=True. Выведите на экран полученный результат, прокомментируйте его.**"
      ],
      "metadata": {
        "id": "YmMkNcrY83Xd"
      }
    },
    {
      "cell_type": "code",
      "source": [
        "kfold=KFold(n_splits=10,random_state=7,shuffle=True) # разбиение на фолды"
      ],
      "metadata": {
        "id": "DMtT9rHu873X"
      },
      "execution_count": null,
      "outputs": []
    },
    {
      "cell_type": "code",
      "source": [
        "scoring='neg_mean_absolute_error'"
      ],
      "metadata": {
        "id": "j9M3BTDpXhAx"
      },
      "execution_count": null,
      "outputs": []
    },
    {
      "cell_type": "code",
      "source": [
        "results=cross_val_score(model, X, Y, cv=kfold, scoring=scoring)"
      ],
      "metadata": {
        "id": "9qBsMafSXXew"
      },
      "execution_count": null,
      "outputs": []
    },
    {
      "cell_type": "markdown",
      "source": [
        "**31. Выведите на экран среднюю величину средней абсолютной ошибки (MAE), взятую с отрицательным знаком, и стандартное отклонение полученных оценок, воспользовавшись, соответственно, функциями mean() и std(). Прокомментируйте полученный результат.**"
      ],
      "metadata": {
        "id": "2HDFikJX88dP"
      }
    },
    {
      "cell_type": "markdown",
      "source": [
        "**средней абсолютной ошибки**"
      ],
      "metadata": {
        "id": "mdvwf0zyaMgY"
      }
    },
    {
      "cell_type": "code",
      "source": [
        "results.mean() # 3.3 доллара средняя абсолютная ошибка"
      ],
      "metadata": {
        "colab": {
          "base_uri": "https://localhost:8080/"
        },
        "id": "B2eLLFsdXlf7",
        "outputId": "913db45f-3e24-4ca8-ff57-c7a4631ba599"
      },
      "execution_count": null,
      "outputs": [
        {
          "output_type": "execute_result",
          "data": {
            "text/plain": [
              "-3.3870077451158886"
            ]
          },
          "metadata": {},
          "execution_count": 56
        }
      ]
    },
    {
      "cell_type": "code",
      "source": [
        "results.std() # 67 центов стандартное отклонение"
      ],
      "metadata": {
        "colab": {
          "base_uri": "https://localhost:8080/"
        },
        "id": "X5z0TFR1YFK5",
        "outputId": "d67cd5e6-8d2f-47c4-d5a0-b731d7dbb5af"
      },
      "execution_count": null,
      "outputs": [
        {
          "output_type": "execute_result",
          "data": {
            "text/plain": [
              "0.6666977115119672"
            ]
          },
          "metadata": {},
          "execution_count": 58
        }
      ]
    },
    {
      "cell_type": "markdown",
      "source": [
        "**средняя квадратичная ошибка**"
      ],
      "metadata": {
        "id": "WdMcesHGZilf"
      }
    },
    {
      "cell_type": "code",
      "source": [
        "kfold=KFold(n_splits=10,random_state=7,shuffle=True)"
      ],
      "metadata": {
        "id": "1q19YIMvZv12"
      },
      "execution_count": null,
      "outputs": []
    },
    {
      "cell_type": "code",
      "source": [
        "scoring='neg_mean_squared_error'"
      ],
      "metadata": {
        "id": "v5Bp6JlQ9FJL"
      },
      "execution_count": null,
      "outputs": []
    },
    {
      "cell_type": "code",
      "source": [
        "results=cross_val_score(model, X, Y, cv=kfold, scoring=scoring)"
      ],
      "metadata": {
        "id": "VVTbzoEaZuFl"
      },
      "execution_count": null,
      "outputs": []
    },
    {
      "cell_type": "code",
      "source": [
        "results.mean()"
      ],
      "metadata": {
        "colab": {
          "base_uri": "https://localhost:8080/"
        },
        "id": "to4s28BcZzVq",
        "outputId": "79d61cca-5509-41d7-de1c-e3deb8f0fed0"
      },
      "execution_count": null,
      "outputs": [
        {
          "output_type": "execute_result",
          "data": {
            "text/plain": [
              "-23.746501811313365"
            ]
          },
          "metadata": {},
          "execution_count": 62
        }
      ]
    },
    {
      "cell_type": "code",
      "source": [
        "results.std()"
      ],
      "metadata": {
        "colab": {
          "base_uri": "https://localhost:8080/"
        },
        "id": "Wnm6pBkcZ0RD",
        "outputId": "11749d82-50fd-4349-9eac-32e613455b69"
      },
      "execution_count": null,
      "outputs": [
        {
          "output_type": "execute_result",
          "data": {
            "text/plain": [
              "11.143430110698096"
            ]
          },
          "metadata": {},
          "execution_count": 63
        }
      ]
    },
    {
      "cell_type": "markdown",
      "source": [
        "**32. Проведите кросс-валидацию, воспользовавшись функцией cross_val_score(model, X, Y, cv=kfold, scoring=scoring) из модуля sklearn.model_selection. В качестве оценочной функции (scoring) укажите 'neg_mean_squared_error'. Разбиение на фолды (cv) задайте, как в п. 18. Результат запишите в переменную results.**"
      ],
      "metadata": {
        "id": "seLSpXfO9FrR"
      }
    },
    {
      "cell_type": "code",
      "source": [],
      "metadata": {
        "id": "45lBAI-X9J-w"
      },
      "execution_count": null,
      "outputs": []
    },
    {
      "cell_type": "markdown",
      "source": [
        "**33. Выведите на экран среднюю величину средней квадратичной ошибки (MSE), взятую с отрицательным знаком, и стандартное отклонение полученных оценок, воспользовавшись, соответственно, функциями mean() и std(). Прокомментируйте полученный результат.**"
      ],
      "metadata": {
        "id": "Q4DEp18rVgJn"
      }
    },
    {
      "cell_type": "code",
      "source": [],
      "metadata": {
        "id": "J3HUU8ELVkDo"
      },
      "execution_count": null,
      "outputs": []
    },
    {
      "cell_type": "markdown",
      "source": [
        "**34. Проведите кросс-валидацию, воспользовавшись функцией cross_val_score(model, X, Y, cv=kfold, scoring=scoring) из модуля sklearn.model_selection. В качестве оценочной функции (scoring) укажите 'r2'. Разбиение на фолды (cv) задайте, как в п. 18. Результат запишите в переменную results.**"
      ],
      "metadata": {
        "id": "EVlNOkCNVkg5"
      }
    },
    {
      "cell_type": "code",
      "source": [],
      "metadata": {
        "id": "v9xtNtauVpO6"
      },
      "execution_count": null,
      "outputs": []
    },
    {
      "cell_type": "markdown",
      "source": [
        "**35. Выведите на экран среднюю величину коэффициента детерминации (R^2) и стандартное отклонение полученных оценок, воспользовавшись, соответственно, функциями mean() и std(). Прокомментируйте полученный результат.**"
      ],
      "metadata": {
        "id": "9KpoOdPwVprF"
      }
    },
    {
      "cell_type": "code",
      "source": [
        "kfold=KFold(n_splits=10,random_state=7,shuffle=True)"
      ],
      "metadata": {
        "id": "oiW36z8xa8W0"
      },
      "execution_count": null,
      "outputs": []
    },
    {
      "cell_type": "code",
      "source": [
        "scoring='r2'"
      ],
      "metadata": {
        "id": "HO-c2t3Fa8W7"
      },
      "execution_count": null,
      "outputs": []
    },
    {
      "cell_type": "code",
      "source": [
        "results=cross_val_score(model, X, Y, cv=kfold, scoring=scoring)"
      ],
      "metadata": {
        "id": "gT9SJTvea8W7"
      },
      "execution_count": null,
      "outputs": []
    },
    {
      "cell_type": "code",
      "source": [
        "results.mean()"
      ],
      "metadata": {
        "colab": {
          "base_uri": "https://localhost:8080/"
        },
        "outputId": "9d700556-3c50-43ec-86fd-b1e09433d071",
        "id": "VdAuL8Z8a8W7"
      },
      "execution_count": null,
      "outputs": [
        {
          "output_type": "execute_result",
          "data": {
            "text/plain": [
              "0.7181683241114103"
            ]
          },
          "metadata": {},
          "execution_count": 67
        }
      ]
    },
    {
      "cell_type": "code",
      "source": [
        "results.std()"
      ],
      "metadata": {
        "colab": {
          "base_uri": "https://localhost:8080/"
        },
        "outputId": "3048e322-ffbc-4818-e0f1-b2f217af16cd",
        "id": "BU51Y-Zqa8W7"
      },
      "execution_count": null,
      "outputs": [
        {
          "output_type": "execute_result",
          "data": {
            "text/plain": [
              "0.09866585171842626"
            ]
          },
          "metadata": {},
          "execution_count": 68
        }
      ]
    },
    {
      "cell_type": "markdown",
      "source": [
        "# РЕЗЮМЕ:"
      ],
      "metadata": {
        "id": "OcPM8yurbfUu"
      }
    },
    {
      "cell_type": "markdown",
      "source": [
        "**Для оценки регресссии использовать:**\n",
        "- среднеквадратичную ошибку\n",
        "\n",
        "Среднее арифметическое (Mean) квадратов разностей между предсказанными и реальными значениями.\n",
        "- средняя абсолютная ошибка\n",
        "\n",
        "Средняя абсолютная ошибка (MAE) - еще одна функция потерь, используемая в регрессионных моделях. MAE - это сумма абсолютного значения разницы между целевым значением и прогнозируемым значением.\n",
        "- коэффициент детерминации\n",
        "\n",
        "Коэффициент детерминации — это доля дисперсии зависимой переменной, объясняемая рассматриваемой моделью зависимости, то есть объясняющими переменными."
      ],
      "metadata": {
        "id": "b_TyPaaUbkk_"
      }
    }
  ]
}