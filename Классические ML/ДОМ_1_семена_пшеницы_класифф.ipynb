{
  "nbformat": 4,
  "nbformat_minor": 0,
  "metadata": {
    "colab": {
      "provenance": []
    },
    "kernelspec": {
      "name": "python3",
      "display_name": "Python 3"
    },
    "language_info": {
      "name": "python"
    }
  },
  "cells": [
    {
      "cell_type": "code",
      "execution_count": null,
      "metadata": {
        "id": "yQ8iWHEOSW0K"
      },
      "outputs": [],
      "source": [
        "from google.colab import drive"
      ]
    },
    {
      "cell_type": "code",
      "source": [
        "drive.mount('/content/gdrive')"
      ],
      "metadata": {
        "colab": {
          "base_uri": "https://localhost:8080/"
        },
        "id": "DPlQLwLOSssv",
        "outputId": "1e29e0f1-942d-4921-c8c6-879670c43ef2"
      },
      "execution_count": null,
      "outputs": [
        {
          "output_type": "stream",
          "name": "stdout",
          "text": [
            "Drive already mounted at /content/gdrive; to attempt to forcibly remount, call drive.mount(\"/content/gdrive\", force_remount=True).\n"
          ]
        }
      ]
    },
    {
      "cell_type": "code",
      "source": [
        "import os"
      ],
      "metadata": {
        "id": "ogfhsrkGTgnO"
      },
      "execution_count": null,
      "outputs": []
    },
    {
      "cell_type": "code",
      "source": [
        "os.chdir('/content/gdrive/MyDrive/Colab Notebooks/наборы данных/')"
      ],
      "metadata": {
        "id": "4OLo3qrNrhrf"
      },
      "execution_count": null,
      "outputs": []
    },
    {
      "cell_type": "markdown",
      "source": [
        "___________________________________________________________________________"
      ],
      "metadata": {
        "id": "pJ9isQ29DhPI"
      }
    },
    {
      "cell_type": "markdown",
      "source": [
        "**загрузка модуля pingouin:**"
      ],
      "metadata": {
        "id": "NRv-5FxnDgZj"
      }
    },
    {
      "cell_type": "code",
      "source": [
        "!pip install pingouin"
      ],
      "metadata": {
        "colab": {
          "base_uri": "https://localhost:8080/",
          "height": 1000
        },
        "id": "nn7nOEKivjob",
        "outputId": "443b3483-f415-4e6d-e3c1-c749bf60e18d"
      },
      "execution_count": null,
      "outputs": [
        {
          "output_type": "stream",
          "name": "stdout",
          "text": [
            "Collecting pingouin\n",
            "  Downloading pingouin-0.5.1.tar.gz (183 kB)\n",
            "\u001b[?25l\r\u001b[K     |█▉                              | 10 kB 13.9 MB/s eta 0:00:01\r\u001b[K     |███▋                            | 20 kB 17.7 MB/s eta 0:00:01\r\u001b[K     |█████▍                          | 30 kB 15.7 MB/s eta 0:00:01\r\u001b[K     |███████▏                        | 40 kB 11.3 MB/s eta 0:00:01\r\u001b[K     |█████████                       | 51 kB 6.0 MB/s eta 0:00:01\r\u001b[K     |██████████▊                     | 61 kB 7.1 MB/s eta 0:00:01\r\u001b[K     |████████████▌                   | 71 kB 7.6 MB/s eta 0:00:01\r\u001b[K     |██████████████▎                 | 81 kB 7.0 MB/s eta 0:00:01\r\u001b[K     |████████████████                | 92 kB 7.7 MB/s eta 0:00:01\r\u001b[K     |██████████████████              | 102 kB 8.5 MB/s eta 0:00:01\r\u001b[K     |███████████████████▊            | 112 kB 8.5 MB/s eta 0:00:01\r\u001b[K     |█████████████████████▌          | 122 kB 8.5 MB/s eta 0:00:01\r\u001b[K     |███████████████████████▎        | 133 kB 8.5 MB/s eta 0:00:01\r\u001b[K     |█████████████████████████       | 143 kB 8.5 MB/s eta 0:00:01\r\u001b[K     |██████████████████████████▉     | 153 kB 8.5 MB/s eta 0:00:01\r\u001b[K     |████████████████████████████▋   | 163 kB 8.5 MB/s eta 0:00:01\r\u001b[K     |██████████████████████████████▍ | 174 kB 8.5 MB/s eta 0:00:01\r\u001b[K     |████████████████████████████████| 183 kB 8.5 MB/s \n",
            "\u001b[?25hRequirement already satisfied: numpy>=1.19 in /usr/local/lib/python3.7/dist-packages (from pingouin) (1.21.6)\n",
            "Collecting scipy>=1.7\n",
            "  Downloading scipy-1.7.3-cp37-cp37m-manylinux_2_12_x86_64.manylinux2010_x86_64.whl (38.1 MB)\n",
            "\u001b[K     |████████████████████████████████| 38.1 MB 240 kB/s \n",
            "\u001b[?25hRequirement already satisfied: pandas>=1.0 in /usr/local/lib/python3.7/dist-packages (from pingouin) (1.3.5)\n",
            "Requirement already satisfied: matplotlib>=3.0.2 in /usr/local/lib/python3.7/dist-packages (from pingouin) (3.2.2)\n",
            "Requirement already satisfied: seaborn>=0.11 in /usr/local/lib/python3.7/dist-packages (from pingouin) (0.11.2)\n",
            "Collecting statsmodels>=0.13\n",
            "  Downloading statsmodels-0.13.2-cp37-cp37m-manylinux_2_17_x86_64.manylinux2014_x86_64.whl (9.8 MB)\n",
            "\u001b[K     |████████████████████████████████| 9.8 MB 44.6 MB/s \n",
            "\u001b[?25hRequirement already satisfied: scikit-learn in /usr/local/lib/python3.7/dist-packages (from pingouin) (1.0.2)\n",
            "Collecting pandas_flavor>=0.2.0\n",
            "  Downloading pandas_flavor-0.3.0-py3-none-any.whl (6.3 kB)\n",
            "Collecting outdated\n",
            "  Downloading outdated-0.2.1-py3-none-any.whl (7.5 kB)\n",
            "Requirement already satisfied: tabulate in /usr/local/lib/python3.7/dist-packages (from pingouin) (0.8.9)\n",
            "Requirement already satisfied: python-dateutil>=2.1 in /usr/local/lib/python3.7/dist-packages (from matplotlib>=3.0.2->pingouin) (2.8.2)\n",
            "Requirement already satisfied: kiwisolver>=1.0.1 in /usr/local/lib/python3.7/dist-packages (from matplotlib>=3.0.2->pingouin) (1.4.2)\n",
            "Requirement already satisfied: pyparsing!=2.0.4,!=2.1.2,!=2.1.6,>=2.0.1 in /usr/local/lib/python3.7/dist-packages (from matplotlib>=3.0.2->pingouin) (3.0.8)\n",
            "Requirement already satisfied: cycler>=0.10 in /usr/local/lib/python3.7/dist-packages (from matplotlib>=3.0.2->pingouin) (0.11.0)\n",
            "Requirement already satisfied: typing-extensions in /usr/local/lib/python3.7/dist-packages (from kiwisolver>=1.0.1->matplotlib>=3.0.2->pingouin) (4.1.1)\n",
            "Requirement already satisfied: pytz>=2017.3 in /usr/local/lib/python3.7/dist-packages (from pandas>=1.0->pingouin) (2022.1)\n",
            "Collecting pandas_flavor>=0.2.0\n",
            "  Downloading pandas_flavor-0.2.0-py2.py3-none-any.whl (6.6 kB)\n",
            "Requirement already satisfied: xarray in /usr/local/lib/python3.7/dist-packages (from pandas_flavor>=0.2.0->pingouin) (0.18.2)\n",
            "Requirement already satisfied: six>=1.5 in /usr/local/lib/python3.7/dist-packages (from python-dateutil>=2.1->matplotlib>=3.0.2->pingouin) (1.15.0)\n",
            "Requirement already satisfied: patsy>=0.5.2 in /usr/local/lib/python3.7/dist-packages (from statsmodels>=0.13->pingouin) (0.5.2)\n",
            "Requirement already satisfied: packaging>=21.3 in /usr/local/lib/python3.7/dist-packages (from statsmodels>=0.13->pingouin) (21.3)\n",
            "Collecting littleutils\n",
            "  Downloading littleutils-0.2.2.tar.gz (6.6 kB)\n",
            "Requirement already satisfied: requests in /usr/local/lib/python3.7/dist-packages (from outdated->pingouin) (2.23.0)\n",
            "Requirement already satisfied: idna<3,>=2.5 in /usr/local/lib/python3.7/dist-packages (from requests->outdated->pingouin) (2.10)\n",
            "Requirement already satisfied: certifi>=2017.4.17 in /usr/local/lib/python3.7/dist-packages (from requests->outdated->pingouin) (2021.10.8)\n",
            "Requirement already satisfied: chardet<4,>=3.0.2 in /usr/local/lib/python3.7/dist-packages (from requests->outdated->pingouin) (3.0.4)\n",
            "Requirement already satisfied: urllib3!=1.25.0,!=1.25.1,<1.26,>=1.21.1 in /usr/local/lib/python3.7/dist-packages (from requests->outdated->pingouin) (1.24.3)\n",
            "Requirement already satisfied: threadpoolctl>=2.0.0 in /usr/local/lib/python3.7/dist-packages (from scikit-learn->pingouin) (3.1.0)\n",
            "Requirement already satisfied: joblib>=0.11 in /usr/local/lib/python3.7/dist-packages (from scikit-learn->pingouin) (1.1.0)\n",
            "Requirement already satisfied: setuptools>=40.4 in /usr/local/lib/python3.7/dist-packages (from xarray->pandas_flavor>=0.2.0->pingouin) (57.4.0)\n",
            "Building wheels for collected packages: pingouin, littleutils\n",
            "  Building wheel for pingouin (setup.py) ... \u001b[?25l\u001b[?25hdone\n",
            "  Created wheel for pingouin: filename=pingouin-0.5.1-py3-none-any.whl size=194002 sha256=e16f49e33c087cc8227609a3243b31f7a88c1d66ebb8af6df33953119f998483\n",
            "  Stored in directory: /root/.cache/pip/wheels/74/a7/b6/5b5f03b0395fdada1f45d3aed76e7da48873a02805545ef652\n",
            "  Building wheel for littleutils (setup.py) ... \u001b[?25l\u001b[?25hdone\n",
            "  Created wheel for littleutils: filename=littleutils-0.2.2-py3-none-any.whl size=7048 sha256=1485a9080fd2bf1a689adaea5097ab55496fac119a6ac357731f543059721727\n",
            "  Stored in directory: /root/.cache/pip/wheels/d6/64/cd/32819b511a488e4993f2fab909a95330289c3f4e0f6ef4676d\n",
            "Successfully built pingouin littleutils\n",
            "Installing collected packages: scipy, littleutils, statsmodels, pandas-flavor, outdated, pingouin\n",
            "  Attempting uninstall: scipy\n",
            "    Found existing installation: scipy 1.4.1\n",
            "    Uninstalling scipy-1.4.1:\n",
            "      Successfully uninstalled scipy-1.4.1\n",
            "  Attempting uninstall: statsmodels\n",
            "    Found existing installation: statsmodels 0.10.2\n",
            "    Uninstalling statsmodels-0.10.2:\n",
            "      Successfully uninstalled statsmodels-0.10.2\n",
            "\u001b[31mERROR: pip's dependency resolver does not currently take into account all the packages that are installed. This behaviour is the source of the following dependency conflicts.\n",
            "albumentations 0.1.12 requires imgaug<0.2.7,>=0.2.5, but you have imgaug 0.2.9 which is incompatible.\u001b[0m\n",
            "Successfully installed littleutils-0.2.2 outdated-0.2.1 pandas-flavor-0.2.0 pingouin-0.5.1 scipy-1.7.3 statsmodels-0.13.2\n"
          ]
        },
        {
          "output_type": "display_data",
          "data": {
            "application/vnd.colab-display-data+json": {
              "pip_warning": {
                "packages": [
                  "scipy",
                  "statsmodels"
                ]
              }
            }
          },
          "metadata": {}
        }
      ]
    },
    {
      "cell_type": "code",
      "source": [
        "exit() #!!!"
      ],
      "metadata": {
        "id": "fPgj8-m-DgZk"
      },
      "execution_count": null,
      "outputs": []
    },
    {
      "cell_type": "markdown",
      "source": [
        "**exit()** - это перезапустит среду выполнения без удаления файлов **и pingouin пойдет**. Время выполнения начнется автоматически. И если вы нажмете «Run all», запуск не прерывается и работает до конца."
      ],
      "metadata": {
        "id": "iiC1RnZeDgZk"
      }
    },
    {
      "cell_type": "markdown",
      "source": [
        "______________________________________________________________"
      ],
      "metadata": {
        "id": "vii5jPVNDrTZ"
      }
    },
    {
      "cell_type": "code",
      "source": [
        "from pandas import read_csv\n",
        "from pandas import set_option\n",
        "import numpy as np\n",
        "import matplotlib.pyplot as plt\n",
        "import seaborn as sns\n",
        "from pandas.plotting import scatter_matrix\n",
        "import pandas as pd"
      ],
      "metadata": {
        "id": "IyvdSb1IZmNs"
      },
      "execution_count": null,
      "outputs": []
    },
    {
      "cell_type": "markdown",
      "source": [
        "_______________________________________________________"
      ],
      "metadata": {
        "id": "zawT53_OUaGq"
      }
    },
    {
      "cell_type": "markdown",
      "source": [
        "# **ГОТОВЫЕ ДЛЯ МОДЕЛИ ДАНННЫЕ**"
      ],
      "metadata": {
        "id": "q1wN_7pClggW"
      }
    },
    {
      "cell_type": "code",
      "source": [
        "filename='seeds_dataset.txt'\n",
        "names=['area A','perimeter P','compactness','length of ker',\n",
        "       'width of ker', 'asymmetry coeff', 'length of ker groove','class']\n",
        "df=read_csv(filename,sep='\\t', error_bad_lines=False,names=names)"
      ],
      "metadata": {
        "colab": {
          "base_uri": "https://localhost:8080/"
        },
        "id": "iA149PaCaZtU",
        "outputId": "043d502c-3209-4e74-a771-048f1204c428"
      },
      "execution_count": null,
      "outputs": [
        {
          "output_type": "stream",
          "name": "stderr",
          "text": [
            "/usr/local/lib/python3.7/dist-packages/IPython/core/interactiveshell.py:2882: FutureWarning: The error_bad_lines argument has been deprecated and will be removed in a future version.\n",
            "\n",
            "\n",
            "  exec(code_obj, self.user_global_ns, self.user_ns)\n"
          ]
        }
      ]
    },
    {
      "cell_type": "code",
      "source": [
        "df=df.rename(columns=lambda x: x.replace(' ','_'))"
      ],
      "metadata": {
        "id": "c7Z2gilq8564"
      },
      "execution_count": null,
      "outputs": []
    },
    {
      "cell_type": "code",
      "source": [
        "df['class_name']=np.where(df['class']==1,'Кама',(np.where(df['class']==2,'Роза','Канадская')))"
      ],
      "metadata": {
        "id": "BisgrM2fMHl-"
      },
      "execution_count": null,
      "outputs": []
    },
    {
      "cell_type": "code",
      "source": [
        "df.class_name = df.class_name.astype('category')"
      ],
      "metadata": {
        "id": "6Xqg1bjKQPj3"
      },
      "execution_count": null,
      "outputs": []
    },
    {
      "cell_type": "code",
      "source": [
        "set_option('display.width',100) # задается ширина экрана с выводом\n",
        "set_option('precision',2)       # задается количество знаков после запятой"
      ],
      "metadata": {
        "id": "64T_PT-cca26"
      },
      "execution_count": null,
      "outputs": []
    },
    {
      "cell_type": "code",
      "source": [
        "df.dtypes"
      ],
      "metadata": {
        "colab": {
          "base_uri": "https://localhost:8080/"
        },
        "id": "DHiIrM8ahnji",
        "outputId": "757a40f5-d09e-43f1-b3e6-712a2e24f045"
      },
      "execution_count": null,
      "outputs": [
        {
          "output_type": "execute_result",
          "data": {
            "text/plain": [
              "area_A                   float64\n",
              "perimeter_P              float64\n",
              "compactness              float64\n",
              "length_of_ker            float64\n",
              "width_of_ker             float64\n",
              "asymmetry_coeff          float64\n",
              "length_of_ker_groove     float64\n",
              "class                      int64\n",
              "class_name              category\n",
              "dtype: object"
            ]
          },
          "metadata": {},
          "execution_count": 30
        }
      ]
    },
    {
      "cell_type": "code",
      "source": [
        "df.sample(4)"
      ],
      "metadata": {
        "colab": {
          "base_uri": "https://localhost:8080/",
          "height": 175
        },
        "id": "DF7Vc0cLc3xU",
        "outputId": "b753fde2-8e8e-4b04-e9a8-0d2674b133b8"
      },
      "execution_count": null,
      "outputs": [
        {
          "output_type": "execute_result",
          "data": {
            "text/plain": [
              "     area_A  perimeter_P  compactness  length_of_ker  width_of_ker  asymmetry_coeff  \\\n",
              "2     14.29        14.09         0.91           5.29          3.34             2.70   \n",
              "63    13.22        13.84         0.87           5.39          3.07             4.16   \n",
              "96    19.31        16.59         0.88           6.34          3.81             3.48   \n",
              "172   11.27        12.97         0.84           5.09          2.76             4.31   \n",
              "\n",
              "     length_of_ker_groove  class class_name  \n",
              "2                    4.83      1       Кама  \n",
              "63                   5.09      1       Кама  \n",
              "96                   6.24      2       Роза  \n",
              "172                  5.00      3  Канадская  "
            ],
            "text/html": [
              "\n",
              "  <div id=\"df-48a1fbf2-4d83-42f7-87a1-e6dae922f6a4\">\n",
              "    <div class=\"colab-df-container\">\n",
              "      <div>\n",
              "<style scoped>\n",
              "    .dataframe tbody tr th:only-of-type {\n",
              "        vertical-align: middle;\n",
              "    }\n",
              "\n",
              "    .dataframe tbody tr th {\n",
              "        vertical-align: top;\n",
              "    }\n",
              "\n",
              "    .dataframe thead th {\n",
              "        text-align: right;\n",
              "    }\n",
              "</style>\n",
              "<table border=\"1\" class=\"dataframe\">\n",
              "  <thead>\n",
              "    <tr style=\"text-align: right;\">\n",
              "      <th></th>\n",
              "      <th>area_A</th>\n",
              "      <th>perimeter_P</th>\n",
              "      <th>compactness</th>\n",
              "      <th>length_of_ker</th>\n",
              "      <th>width_of_ker</th>\n",
              "      <th>asymmetry_coeff</th>\n",
              "      <th>length_of_ker_groove</th>\n",
              "      <th>class</th>\n",
              "      <th>class_name</th>\n",
              "    </tr>\n",
              "  </thead>\n",
              "  <tbody>\n",
              "    <tr>\n",
              "      <th>2</th>\n",
              "      <td>14.29</td>\n",
              "      <td>14.09</td>\n",
              "      <td>0.91</td>\n",
              "      <td>5.29</td>\n",
              "      <td>3.34</td>\n",
              "      <td>2.70</td>\n",
              "      <td>4.83</td>\n",
              "      <td>1</td>\n",
              "      <td>Кама</td>\n",
              "    </tr>\n",
              "    <tr>\n",
              "      <th>63</th>\n",
              "      <td>13.22</td>\n",
              "      <td>13.84</td>\n",
              "      <td>0.87</td>\n",
              "      <td>5.39</td>\n",
              "      <td>3.07</td>\n",
              "      <td>4.16</td>\n",
              "      <td>5.09</td>\n",
              "      <td>1</td>\n",
              "      <td>Кама</td>\n",
              "    </tr>\n",
              "    <tr>\n",
              "      <th>96</th>\n",
              "      <td>19.31</td>\n",
              "      <td>16.59</td>\n",
              "      <td>0.88</td>\n",
              "      <td>6.34</td>\n",
              "      <td>3.81</td>\n",
              "      <td>3.48</td>\n",
              "      <td>6.24</td>\n",
              "      <td>2</td>\n",
              "      <td>Роза</td>\n",
              "    </tr>\n",
              "    <tr>\n",
              "      <th>172</th>\n",
              "      <td>11.27</td>\n",
              "      <td>12.97</td>\n",
              "      <td>0.84</td>\n",
              "      <td>5.09</td>\n",
              "      <td>2.76</td>\n",
              "      <td>4.31</td>\n",
              "      <td>5.00</td>\n",
              "      <td>3</td>\n",
              "      <td>Канадская</td>\n",
              "    </tr>\n",
              "  </tbody>\n",
              "</table>\n",
              "</div>\n",
              "      <button class=\"colab-df-convert\" onclick=\"convertToInteractive('df-48a1fbf2-4d83-42f7-87a1-e6dae922f6a4')\"\n",
              "              title=\"Convert this dataframe to an interactive table.\"\n",
              "              style=\"display:none;\">\n",
              "        \n",
              "  <svg xmlns=\"http://www.w3.org/2000/svg\" height=\"24px\"viewBox=\"0 0 24 24\"\n",
              "       width=\"24px\">\n",
              "    <path d=\"M0 0h24v24H0V0z\" fill=\"none\"/>\n",
              "    <path d=\"M18.56 5.44l.94 2.06.94-2.06 2.06-.94-2.06-.94-.94-2.06-.94 2.06-2.06.94zm-11 1L8.5 8.5l.94-2.06 2.06-.94-2.06-.94L8.5 2.5l-.94 2.06-2.06.94zm10 10l.94 2.06.94-2.06 2.06-.94-2.06-.94-.94-2.06-.94 2.06-2.06.94z\"/><path d=\"M17.41 7.96l-1.37-1.37c-.4-.4-.92-.59-1.43-.59-.52 0-1.04.2-1.43.59L10.3 9.45l-7.72 7.72c-.78.78-.78 2.05 0 2.83L4 21.41c.39.39.9.59 1.41.59.51 0 1.02-.2 1.41-.59l7.78-7.78 2.81-2.81c.8-.78.8-2.07 0-2.86zM5.41 20L4 18.59l7.72-7.72 1.47 1.35L5.41 20z\"/>\n",
              "  </svg>\n",
              "      </button>\n",
              "      \n",
              "  <style>\n",
              "    .colab-df-container {\n",
              "      display:flex;\n",
              "      flex-wrap:wrap;\n",
              "      gap: 12px;\n",
              "    }\n",
              "\n",
              "    .colab-df-convert {\n",
              "      background-color: #E8F0FE;\n",
              "      border: none;\n",
              "      border-radius: 50%;\n",
              "      cursor: pointer;\n",
              "      display: none;\n",
              "      fill: #1967D2;\n",
              "      height: 32px;\n",
              "      padding: 0 0 0 0;\n",
              "      width: 32px;\n",
              "    }\n",
              "\n",
              "    .colab-df-convert:hover {\n",
              "      background-color: #E2EBFA;\n",
              "      box-shadow: 0px 1px 2px rgba(60, 64, 67, 0.3), 0px 1px 3px 1px rgba(60, 64, 67, 0.15);\n",
              "      fill: #174EA6;\n",
              "    }\n",
              "\n",
              "    [theme=dark] .colab-df-convert {\n",
              "      background-color: #3B4455;\n",
              "      fill: #D2E3FC;\n",
              "    }\n",
              "\n",
              "    [theme=dark] .colab-df-convert:hover {\n",
              "      background-color: #434B5C;\n",
              "      box-shadow: 0px 1px 3px 1px rgba(0, 0, 0, 0.15);\n",
              "      filter: drop-shadow(0px 1px 2px rgba(0, 0, 0, 0.3));\n",
              "      fill: #FFFFFF;\n",
              "    }\n",
              "  </style>\n",
              "\n",
              "      <script>\n",
              "        const buttonEl =\n",
              "          document.querySelector('#df-48a1fbf2-4d83-42f7-87a1-e6dae922f6a4 button.colab-df-convert');\n",
              "        buttonEl.style.display =\n",
              "          google.colab.kernel.accessAllowed ? 'block' : 'none';\n",
              "\n",
              "        async function convertToInteractive(key) {\n",
              "          const element = document.querySelector('#df-48a1fbf2-4d83-42f7-87a1-e6dae922f6a4');\n",
              "          const dataTable =\n",
              "            await google.colab.kernel.invokeFunction('convertToInteractive',\n",
              "                                                     [key], {});\n",
              "          if (!dataTable) return;\n",
              "\n",
              "          const docLinkHtml = 'Like what you see? Visit the ' +\n",
              "            '<a target=\"_blank\" href=https://colab.research.google.com/notebooks/data_table.ipynb>data table notebook</a>'\n",
              "            + ' to learn more about interactive tables.';\n",
              "          element.innerHTML = '';\n",
              "          dataTable['output_type'] = 'display_data';\n",
              "          await google.colab.output.renderOutput(dataTable, element);\n",
              "          const docLink = document.createElement('div');\n",
              "          docLink.innerHTML = docLinkHtml;\n",
              "          element.appendChild(docLink);\n",
              "        }\n",
              "      </script>\n",
              "    </div>\n",
              "  </div>\n",
              "  "
            ]
          },
          "metadata": {},
          "execution_count": 31
        }
      ]
    },
    {
      "cell_type": "markdown",
      "source": [
        "______________________________________________________________"
      ],
      "metadata": {
        "id": "VVFXddpGUiAG"
      }
    },
    {
      "cell_type": "markdown",
      "source": [
        "# **СМОТРИМ ВЫБРОСЫ**"
      ],
      "metadata": {
        "id": "oV4Dc8OJUzYZ"
      }
    },
    {
      "cell_type": "code",
      "source": [
        "df.plot(kind='box', subplots=True, layout=(3,3), sharex=False, sharey=False, figsize=(8,8))\n",
        "plt.show()\n",
        "# ящик с усами 2 вершины не ловит"
      ],
      "metadata": {
        "colab": {
          "base_uri": "https://localhost:8080/",
          "height": 484
        },
        "id": "ntDnVCLyUAKI",
        "outputId": "127d6196-3620-49e8-c519-ddef67fc131c"
      },
      "execution_count": null,
      "outputs": [
        {
          "output_type": "display_data",
          "data": {
            "text/plain": [
              "<Figure size 576x576 with 9 Axes>"
            ],
            "image/png": "[encoded data removed]"
          },
          "metadata": {
            "needs_background": "light"
          }
        }
      ]
    },
    {
      "cell_type": "markdown",
      "source": [
        "_____________________________________________________________________"
      ],
      "metadata": {
        "id": "sR8luTHWU6eQ"
      }
    },
    {
      "cell_type": "markdown",
      "source": [
        "# **ЗАГРУЗКА НЕОБХОДИМЫХ МОДУЛЕЙ ДЛЯ ЛИНЕЙНЫХ МОДЕЛЕЙ КЛАССИФИКАЦИИ**"
      ],
      "metadata": {
        "id": "A0hFYqqhpnGN"
      }
    },
    {
      "cell_type": "markdown",
      "source": [
        "**загрузка модуля pingouin:**"
      ],
      "metadata": {
        "id": "zExjsXD_ZMLK"
      }
    },
    {
      "cell_type": "markdown",
      "source": [
        "**exit()** - это перезапустит среду выполнения без удаления файлов **и pingouin пойдет**. Время выполнения начнется автоматически. И если вы нажмете «Run all», запуск не прерывается и работает до конца."
      ],
      "metadata": {
        "id": "v4YDW0LYXDF-"
      }
    },
    {
      "cell_type": "code",
      "source": [
        "exit() #!!!"
      ],
      "metadata": {
        "id": "17NiWjkHX7T6"
      },
      "execution_count": null,
      "outputs": []
    },
    {
      "cell_type": "code",
      "source": [
        "import os\n",
        "import numpy as np\n",
        "import pandas as pd\n",
        "from pandas import read_csv\n",
        "from sklearn.model_selection import KFold\n",
        "from sklearn.model_selection import cross_val_score\n",
        "from sklearn.linear_model import LogisticRegression\n",
        "from sklearn.discriminant_analysis import LinearDiscriminantAnalysis\n",
        "from sklearn.svm import SVC\n",
        "import pingouin as pg"
      ],
      "metadata": {
        "id": "1Hwk-t9otZDE"
      },
      "execution_count": null,
      "outputs": []
    },
    {
      "cell_type": "markdown",
      "source": [
        "_________________________________________________________________________"
      ],
      "metadata": {
        "id": "8xo8Y6xqZtX5"
      }
    },
    {
      "cell_type": "markdown",
      "source": [
        "# **ЛОГИСТИЧЕСКАЯ РЕГРЕССИЯ**"
      ],
      "metadata": {
        "id": "3X-OUJdSZh4h"
      }
    },
    {
      "cell_type": "code",
      "source": [
        "df.sample(4)"
      ],
      "metadata": {
        "colab": {
          "base_uri": "https://localhost:8080/",
          "height": 175
        },
        "id": "FJLCgiHjaEjf",
        "outputId": "d30afb32-2df1-402a-de5f-de48d7804c60"
      },
      "execution_count": null,
      "outputs": [
        {
          "output_type": "execute_result",
          "data": {
            "text/plain": [
              "     area_A  perimeter_P  compactness  length_of_ker  width_of_ker  asymmetry_coeff  \\\n",
              "171   11.55        13.10         0.85           5.17          2.85             6.71   \n",
              "33    13.94        14.17         0.87           5.58          3.15             2.12   \n",
              "163   12.55        13.57         0.86           5.33          2.97             4.42   \n",
              "76    17.32        15.91         0.86           6.06          3.40             3.82   \n",
              "\n",
              "     length_of_ker_groove  class class_name  \n",
              "171                  4.96      3  Канадская  \n",
              "33                   5.01      1       Кама  \n",
              "163                  5.18      3  Канадская  \n",
              "76                   5.92      2       Роза  "
            ],
            "text/html": [
              "\n",
              "  <div id=\"df-4408b472-c59b-4c2d-90d5-40a48991ea5b\">\n",
              "    <div class=\"colab-df-container\">\n",
              "      <div>\n",
              "<style scoped>\n",
              "    .dataframe tbody tr th:only-of-type {\n",
              "        vertical-align: middle;\n",
              "    }\n",
              "\n",
              "    .dataframe tbody tr th {\n",
              "        vertical-align: top;\n",
              "    }\n",
              "\n",
              "    .dataframe thead th {\n",
              "        text-align: right;\n",
              "    }\n",
              "</style>\n",
              "<table border=\"1\" class=\"dataframe\">\n",
              "  <thead>\n",
              "    <tr style=\"text-align: right;\">\n",
              "      <th></th>\n",
              "      <th>area_A</th>\n",
              "      <th>perimeter_P</th>\n",
              "      <th>compactness</th>\n",
              "      <th>length_of_ker</th>\n",
              "      <th>width_of_ker</th>\n",
              "      <th>asymmetry_coeff</th>\n",
              "      <th>length_of_ker_groove</th>\n",
              "      <th>class</th>\n",
              "      <th>class_name</th>\n",
              "    </tr>\n",
              "  </thead>\n",
              "  <tbody>\n",
              "    <tr>\n",
              "      <th>171</th>\n",
              "      <td>11.55</td>\n",
              "      <td>13.10</td>\n",
              "      <td>0.85</td>\n",
              "      <td>5.17</td>\n",
              "      <td>2.85</td>\n",
              "      <td>6.71</td>\n",
              "      <td>4.96</td>\n",
              "      <td>3</td>\n",
              "      <td>Канадская</td>\n",
              "    </tr>\n",
              "    <tr>\n",
              "      <th>33</th>\n",
              "      <td>13.94</td>\n",
              "      <td>14.17</td>\n",
              "      <td>0.87</td>\n",
              "      <td>5.58</td>\n",
              "      <td>3.15</td>\n",
              "      <td>2.12</td>\n",
              "      <td>5.01</td>\n",
              "      <td>1</td>\n",
              "      <td>Кама</td>\n",
              "    </tr>\n",
              "    <tr>\n",
              "      <th>163</th>\n",
              "      <td>12.55</td>\n",
              "      <td>13.57</td>\n",
              "      <td>0.86</td>\n",
              "      <td>5.33</td>\n",
              "      <td>2.97</td>\n",
              "      <td>4.42</td>\n",
              "      <td>5.18</td>\n",
              "      <td>3</td>\n",
              "      <td>Канадская</td>\n",
              "    </tr>\n",
              "    <tr>\n",
              "      <th>76</th>\n",
              "      <td>17.32</td>\n",
              "      <td>15.91</td>\n",
              "      <td>0.86</td>\n",
              "      <td>6.06</td>\n",
              "      <td>3.40</td>\n",
              "      <td>3.82</td>\n",
              "      <td>5.92</td>\n",
              "      <td>2</td>\n",
              "      <td>Роза</td>\n",
              "    </tr>\n",
              "  </tbody>\n",
              "</table>\n",
              "</div>\n",
              "      <button class=\"colab-df-convert\" onclick=\"convertToInteractive('df-4408b472-c59b-4c2d-90d5-40a48991ea5b')\"\n",
              "              title=\"Convert this dataframe to an interactive table.\"\n",
              "              style=\"display:none;\">\n",
              "        \n",
              "  <svg xmlns=\"http://www.w3.org/2000/svg\" height=\"24px\"viewBox=\"0 0 24 24\"\n",
              "       width=\"24px\">\n",
              "    <path d=\"M0 0h24v24H0V0z\" fill=\"none\"/>\n",
              "    <path d=\"M18.56 5.44l.94 2.06.94-2.06 2.06-.94-2.06-.94-.94-2.06-.94 2.06-2.06.94zm-11 1L8.5 8.5l.94-2.06 2.06-.94-2.06-.94L8.5 2.5l-.94 2.06-2.06.94zm10 10l.94 2.06.94-2.06 2.06-.94-2.06-.94-.94-2.06-.94 2.06-2.06.94z\"/><path d=\"M17.41 7.96l-1.37-1.37c-.4-.4-.92-.59-1.43-.59-.52 0-1.04.2-1.43.59L10.3 9.45l-7.72 7.72c-.78.78-.78 2.05 0 2.83L4 21.41c.39.39.9.59 1.41.59.51 0 1.02-.2 1.41-.59l7.78-7.78 2.81-2.81c.8-.78.8-2.07 0-2.86zM5.41 20L4 18.59l7.72-7.72 1.47 1.35L5.41 20z\"/>\n",
              "  </svg>\n",
              "      </button>\n",
              "      \n",
              "  <style>\n",
              "    .colab-df-container {\n",
              "      display:flex;\n",
              "      flex-wrap:wrap;\n",
              "      gap: 12px;\n",
              "    }\n",
              "\n",
              "    .colab-df-convert {\n",
              "      background-color: #E8F0FE;\n",
              "      border: none;\n",
              "      border-radius: 50%;\n",
              "      cursor: pointer;\n",
              "      display: none;\n",
              "      fill: #1967D2;\n",
              "      height: 32px;\n",
              "      padding: 0 0 0 0;\n",
              "      width: 32px;\n",
              "    }\n",
              "\n",
              "    .colab-df-convert:hover {\n",
              "      background-color: #E2EBFA;\n",
              "      box-shadow: 0px 1px 2px rgba(60, 64, 67, 0.3), 0px 1px 3px 1px rgba(60, 64, 67, 0.15);\n",
              "      fill: #174EA6;\n",
              "    }\n",
              "\n",
              "    [theme=dark] .colab-df-convert {\n",
              "      background-color: #3B4455;\n",
              "      fill: #D2E3FC;\n",
              "    }\n",
              "\n",
              "    [theme=dark] .colab-df-convert:hover {\n",
              "      background-color: #434B5C;\n",
              "      box-shadow: 0px 1px 3px 1px rgba(0, 0, 0, 0.15);\n",
              "      filter: drop-shadow(0px 1px 2px rgba(0, 0, 0, 0.3));\n",
              "      fill: #FFFFFF;\n",
              "    }\n",
              "  </style>\n",
              "\n",
              "      <script>\n",
              "        const buttonEl =\n",
              "          document.querySelector('#df-4408b472-c59b-4c2d-90d5-40a48991ea5b button.colab-df-convert');\n",
              "        buttonEl.style.display =\n",
              "          google.colab.kernel.accessAllowed ? 'block' : 'none';\n",
              "\n",
              "        async function convertToInteractive(key) {\n",
              "          const element = document.querySelector('#df-4408b472-c59b-4c2d-90d5-40a48991ea5b');\n",
              "          const dataTable =\n",
              "            await google.colab.kernel.invokeFunction('convertToInteractive',\n",
              "                                                     [key], {});\n",
              "          if (!dataTable) return;\n",
              "\n",
              "          const docLinkHtml = 'Like what you see? Visit the ' +\n",
              "            '<a target=\"_blank\" href=https://colab.research.google.com/notebooks/data_table.ipynb>data table notebook</a>'\n",
              "            + ' to learn more about interactive tables.';\n",
              "          element.innerHTML = '';\n",
              "          dataTable['output_type'] = 'display_data';\n",
              "          await google.colab.output.renderOutput(dataTable, element);\n",
              "          const docLink = document.createElement('div');\n",
              "          docLink.innerHTML = docLinkHtml;\n",
              "          element.appendChild(docLink);\n",
              "        }\n",
              "      </script>\n",
              "    </div>\n",
              "  </div>\n",
              "  "
            ]
          },
          "metadata": {},
          "execution_count": 34
        }
      ]
    },
    {
      "cell_type": "code",
      "source": [
        "array = df.iloc[:,:8].values\n",
        "array"
      ],
      "metadata": {
        "colab": {
          "base_uri": "https://localhost:8080/"
        },
        "id": "RFp0Zpru52tp",
        "outputId": "73f32da6-305f-4387-c80f-c650f14bd118"
      },
      "execution_count": null,
      "outputs": [
        {
          "output_type": "execute_result",
          "data": {
            "text/plain": [
              "array([[15.26  , 14.84  ,  0.871 , ...,  2.221 ,  5.22  ,  1.    ],\n",
              "       [14.88  , 14.57  ,  0.8811, ...,  1.018 ,  4.956 ,  1.    ],\n",
              "       [14.29  , 14.09  ,  0.905 , ...,  2.699 ,  4.825 ,  1.    ],\n",
              "       ...,\n",
              "       [13.2   , 13.66  ,  0.8883, ...,  8.315 ,  5.056 ,  3.    ],\n",
              "       [11.84  , 13.21  ,  0.8521, ...,  3.598 ,  5.044 ,  3.    ],\n",
              "       [12.3   , 13.34  ,  0.8684, ...,  5.637 ,  5.063 ,  3.    ]])"
            ]
          },
          "metadata": {},
          "execution_count": 35
        }
      ]
    },
    {
      "cell_type": "code",
      "source": [
        "X = array[:,0:7] # факторные признаки, т.е. параметры объекта\n",
        "Y = array[:,7] # результативные признак, т.е. сам объект\n",
        "# это обучение с учителем х - это данные, y - это ответ"
      ],
      "metadata": {
        "id": "hk4htyL46Bsl"
      },
      "execution_count": null,
      "outputs": []
    },
    {
      "cell_type": "code",
      "source": [
        "X"
      ],
      "metadata": {
        "colab": {
          "base_uri": "https://localhost:8080/"
        },
        "id": "Dd7crAh7aiqk",
        "outputId": "e405ec4b-8bef-4070-c3dc-f58a4b52ed8d"
      },
      "execution_count": null,
      "outputs": [
        {
          "output_type": "execute_result",
          "data": {
            "text/plain": [
              "array([[15.26  , 14.84  ,  0.871 , ...,  3.312 ,  2.221 ,  5.22  ],\n",
              "       [14.88  , 14.57  ,  0.8811, ...,  3.333 ,  1.018 ,  4.956 ],\n",
              "       [14.29  , 14.09  ,  0.905 , ...,  3.337 ,  2.699 ,  4.825 ],\n",
              "       ...,\n",
              "       [13.2   , 13.66  ,  0.8883, ...,  3.232 ,  8.315 ,  5.056 ],\n",
              "       [11.84  , 13.21  ,  0.8521, ...,  2.836 ,  3.598 ,  5.044 ],\n",
              "       [12.3   , 13.34  ,  0.8684, ...,  2.974 ,  5.637 ,  5.063 ]])"
            ]
          },
          "metadata": {},
          "execution_count": 37
        }
      ]
    },
    {
      "cell_type": "code",
      "source": [
        "Y"
      ],
      "metadata": {
        "colab": {
          "base_uri": "https://localhost:8080/"
        },
        "id": "JiZZvpz2dcYv",
        "outputId": "419ec270-6f43-44ce-be36-5936b59200fb"
      },
      "execution_count": null,
      "outputs": [
        {
          "output_type": "execute_result",
          "data": {
            "text/plain": [
              "array([1., 1., 1., 1., 1., 1., 1., 1., 1., 1., 1., 1., 1., 1., 1., 1., 1.,\n",
              "       1., 1., 1., 1., 1., 1., 1., 1., 1., 1., 1., 1., 1., 1., 1., 1., 1.,\n",
              "       1., 1., 1., 1., 1., 1., 1., 1., 1., 1., 1., 1., 1., 1., 1., 1., 1.,\n",
              "       1., 1., 1., 1., 1., 1., 1., 1., 1., 1., 1., 1., 1., 1., 1., 1., 1.,\n",
              "       1., 1., 2., 2., 2., 2., 2., 2., 2., 2., 2., 2., 2., 2., 2., 2., 2.,\n",
              "       2., 2., 2., 2., 2., 2., 2., 2., 2., 2., 2., 2., 2., 2., 2., 2., 2.,\n",
              "       2., 2., 2., 2., 2., 2., 2., 2., 2., 2., 2., 2., 2., 2., 2., 2., 2.,\n",
              "       2., 2., 2., 2., 2., 2., 2., 2., 2., 2., 2., 2., 2., 2., 2., 2., 2.,\n",
              "       2., 2., 2., 2., 3., 3., 3., 3., 3., 3., 3., 3., 3., 3., 3., 3., 3.,\n",
              "       3., 3., 3., 3., 3., 3., 3., 3., 3., 3., 3., 3., 3., 3., 3., 3., 3.,\n",
              "       3., 3., 3., 3., 3., 3., 3., 3., 3., 3., 3., 3., 3., 3., 3., 3., 3.,\n",
              "       3., 3., 3., 3., 3., 3., 3., 3., 3., 3., 3., 3., 3., 3., 3., 3., 3.,\n",
              "       3., 3., 3., 3., 3., 3.])"
            ]
          },
          "metadata": {},
          "execution_count": 38
        }
      ]
    },
    {
      "cell_type": "markdown",
      "source": [
        "**5. Задайте разбиение на фолды с помощью функции KFold(n_splits= n_splits, random_state = random_state, shuffle=True) из модуля sklearn.model_selection. Результат запишите в переменную kfold. На вход данной функции подайте следующую информацию: 1) количество частей, на которые должна разбиваться выборка (n_splits), - пусть 10; 2) счетчик случайных чисел (random_state) – пусть 7; 3) необходимость перемешивания данных выборки при каждой оценке, задав параметр shuffle=True.**"
      ],
      "metadata": {
        "id": "uLb3q7AMqSOx"
      }
    },
    {
      "cell_type": "code",
      "source": [
        "kfold=KFold(n_splits=10,random_state=7,shuffle=True)"
      ],
      "metadata": {
        "id": "IoSiCEgWqFLH"
      },
      "execution_count": null,
      "outputs": []
    },
    {
      "cell_type": "markdown",
      "source": [
        "**6. Постройте модель логистической регрессии, воспользовавшись функцией LogisticRegression(solver='liblinear') из модуля sklearn.linear_model. Результат запишите в переменную model.**"
      ],
      "metadata": {
        "id": "AACk4Iw0qYU9"
      }
    },
    {
      "cell_type": "code",
      "source": [
        "model=LogisticRegression(solver='liblinear')"
      ],
      "metadata": {
        "id": "CS8wFySjqdia"
      },
      "execution_count": null,
      "outputs": []
    },
    {
      "cell_type": "markdown",
      "source": [
        "**7. Проведите кросс-валидацию, воспользовавшись функцией cross_val_score(model, X, Y, cv=kfold) из модуля sklearn.model_selection. Результат запишите в переменную results.**"
      ],
      "metadata": {
        "id": "AUC-SavLqeGj"
      }
    },
    {
      "cell_type": "code",
      "source": [
        "results=cross_val_score(model, X, Y, cv=kfold) # cv - это количество раз разбивки данных на обучающий и тестовый наборы,обучение на них, тестирование и вывод обобщенного лучшего варианта"
      ],
      "metadata": {
        "id": "-yZMrqlHqjgG"
      },
      "execution_count": null,
      "outputs": []
    },
    {
      "cell_type": "markdown",
      "source": [
        "**8. Выведите на экран среднюю долю правильных ответов (accuracy) и стандартное отклонение полученных оценок, воспользовавшись функциями mean() и std() соответственно.**"
      ],
      "metadata": {
        "id": "CXekZgkqqj4W"
      }
    },
    {
      "cell_type": "code",
      "source": [
        "results.mean()"
      ],
      "metadata": {
        "colab": {
          "base_uri": "https://localhost:8080/"
        },
        "id": "Mpy9kr7lqts4",
        "outputId": "75436f28-d255-44e1-917e-eb8938df1317"
      },
      "execution_count": null,
      "outputs": [
        {
          "output_type": "execute_result",
          "data": {
            "text/plain": [
              "0.9285714285714286"
            ]
          },
          "metadata": {},
          "execution_count": 42
        }
      ]
    },
    {
      "cell_type": "code",
      "source": [
        "results.std()"
      ],
      "metadata": {
        "colab": {
          "base_uri": "https://localhost:8080/"
        },
        "id": "vuQvFrgS0Lps",
        "outputId": "b32d872e-7886-4fa5-b8bb-51ad10761cc9"
      },
      "execution_count": null,
      "outputs": [
        {
          "output_type": "execute_result",
          "data": {
            "text/plain": [
              "0.048795003647426664"
            ]
          },
          "metadata": {},
          "execution_count": 43
        }
      ]
    },
    {
      "cell_type": "markdown",
      "source": [
        "**9. Обучите модель на всех данных с помощью функции fit().**\n",
        "\n",
        "**10. Выведите на экран свободный член и значения коэффициентов регрессии при факторных признаках, которая разделяет классы, обратившись, соответственно, к атрибутам intercept_shape и coef_shape. Запишите математически уравнение регрессии.**"
      ],
      "metadata": {
        "id": "r2Q1dkfLquEb"
      }
    },
    {
      "cell_type": "code",
      "source": [
        "model.fit(X,Y)"
      ],
      "metadata": {
        "colab": {
          "base_uri": "https://localhost:8080/"
        },
        "id": "R-AixqHDq2Qb",
        "outputId": "1201a9c1-4c5d-4f5c-a484-1f3ebf6e4216"
      },
      "execution_count": null,
      "outputs": [
        {
          "output_type": "execute_result",
          "data": {
            "text/plain": [
              "LogisticRegression(solver='liblinear')"
            ]
          },
          "metadata": {},
          "execution_count": 44
        }
      ]
    },
    {
      "cell_type": "code",
      "source": [
        "model.intercept_.shape"
      ],
      "metadata": {
        "colab": {
          "base_uri": "https://localhost:8080/"
        },
        "id": "UZ98TJPb118J",
        "outputId": "7fdf628c-c359-46e1-f6d5-4d966382ed65"
      },
      "execution_count": null,
      "outputs": [
        {
          "output_type": "execute_result",
          "data": {
            "text/plain": [
              "(3,)"
            ]
          },
          "metadata": {},
          "execution_count": 45
        }
      ]
    },
    {
      "cell_type": "code",
      "source": [
        "model.coef_.shape"
      ],
      "metadata": {
        "colab": {
          "base_uri": "https://localhost:8080/"
        },
        "id": "b1u4tlk-0o7S",
        "outputId": "d59940a7-57ab-4182-db69-c7ba1d560c5a"
      },
      "execution_count": null,
      "outputs": [
        {
          "output_type": "execute_result",
          "data": {
            "text/plain": [
              "(3, 7)"
            ]
          },
          "metadata": {},
          "execution_count": 46
        }
      ]
    },
    {
      "cell_type": "code",
      "source": [
        "model.intercept_"
      ],
      "metadata": {
        "colab": {
          "base_uri": "https://localhost:8080/"
        },
        "id": "PkI1nDTX2PsE",
        "outputId": "b81e8885-6816-477c-a61c-618cba33b51b"
      },
      "execution_count": null,
      "outputs": [
        {
          "output_type": "execute_result",
          "data": {
            "text/plain": [
              "array([ 0.2499078 , -0.59994468,  0.27914459])"
            ]
          },
          "metadata": {},
          "execution_count": 47
        }
      ]
    },
    {
      "cell_type": "code",
      "source": [
        "model.coef_"
      ],
      "metadata": {
        "colab": {
          "base_uri": "https://localhost:8080/"
        },
        "id": "WnBTBPV02SO9",
        "outputId": "e1a96133-a052-4bab-9745-fe45e0c9bc03"
      },
      "execution_count": null,
      "outputs": [
        {
          "output_type": "execute_result",
          "data": {
            "text/plain": [
              "array([[-0.66128635,  1.77130143,  0.41606293,  0.89480023,  1.2372489 ,\n",
              "        -0.85183437, -4.35821019],\n",
              "       [ 2.54208787, -2.49298656, -0.61396081, -1.21143766, -1.16176048,\n",
              "         0.40631744,  1.35077318],\n",
              "       [-2.38465529,  1.00942368,  0.20626987,  0.50622472,  0.06365746,\n",
              "         1.01201964,  1.95259137]])"
            ]
          },
          "metadata": {},
          "execution_count": 48
        }
      ]
    },
    {
      "cell_type": "markdown",
      "source": [
        "**11. Произвольно задайте значения факторных признаков для двух новых наблюдений. Поместите их в переменную x_new. Например, np.array([[0,136,42,34,136,43,2,32],[0,137,40,35,168,43.1,2.288,33]]).**\n",
        "\n",
        "**12. По обученной модели дайте прогноз классов для новых наблюдений, воспользовавшись функцией predict().**\n"
      ],
      "metadata": {
        "id": "WCte2ctPq3mH"
      }
    },
    {
      "cell_type": "code",
      "source": [
        "Y_pred = model.predict(X)\n",
        "# подставляем наши данные в обученную модель и смотрим что\n",
        "# исходя из параметров пациенты скорей всего заболеют, т.е.\n",
        "# их можно отнести к группе риска"
      ],
      "metadata": {
        "id": "8Ps8NB2n2y4H"
      },
      "execution_count": null,
      "outputs": []
    },
    {
      "cell_type": "code",
      "source": [
        "Y_pred"
      ],
      "metadata": {
        "colab": {
          "base_uri": "https://localhost:8080/"
        },
        "id": "0zL37iWqi4zE",
        "outputId": "b0c8fb84-bbfe-456b-dc03-1c5685967231"
      },
      "execution_count": null,
      "outputs": [
        {
          "output_type": "execute_result",
          "data": {
            "text/plain": [
              "array([1., 1., 1., 1., 1., 1., 1., 1., 2., 1., 2., 1., 1., 1., 1., 1., 1.,\n",
              "       1., 1., 3., 1., 1., 1., 1., 1., 1., 1., 1., 1., 1., 1., 1., 1., 1.,\n",
              "       1., 1., 1., 2., 1., 3., 1., 1., 1., 2., 1., 1., 1., 1., 1., 1., 1.,\n",
              "       2., 1., 1., 1., 1., 1., 1., 1., 1., 1., 1., 1., 3., 1., 1., 1., 1.,\n",
              "       1., 3., 2., 2., 2., 2., 2., 2., 2., 2., 2., 2., 2., 2., 2., 2., 2.,\n",
              "       2., 2., 2., 2., 2., 2., 2., 2., 2., 2., 2., 2., 2., 2., 2., 2., 2.,\n",
              "       2., 2., 2., 2., 2., 2., 2., 2., 2., 2., 2., 2., 2., 2., 2., 2., 2.,\n",
              "       2., 2., 2., 2., 2., 1., 2., 2., 2., 2., 2., 2., 2., 2., 2., 2., 2.,\n",
              "       2., 2., 1., 2., 3., 3., 3., 3., 3., 3., 3., 3., 3., 3., 3., 3., 3.,\n",
              "       3., 3., 3., 3., 3., 3., 3., 3., 3., 3., 3., 3., 1., 3., 3., 3., 3.,\n",
              "       3., 3., 3., 3., 3., 3., 3., 3., 3., 1., 3., 3., 3., 3., 3., 3., 3.,\n",
              "       3., 3., 3., 3., 3., 3., 3., 3., 3., 3., 3., 3., 1., 3., 1., 3., 3.,\n",
              "       3., 3., 3., 3., 3., 3.])"
            ]
          },
          "metadata": {},
          "execution_count": 50
        }
      ]
    },
    {
      "cell_type": "code",
      "source": [
        "Y"
      ],
      "metadata": {
        "colab": {
          "base_uri": "https://localhost:8080/"
        },
        "id": "MZERygo2jQuU",
        "outputId": "b8cae40a-2541-4a75-a5ec-7d8c5e06105d"
      },
      "execution_count": null,
      "outputs": [
        {
          "output_type": "execute_result",
          "data": {
            "text/plain": [
              "array([1., 1., 1., 1., 1., 1., 1., 1., 1., 1., 1., 1., 1., 1., 1., 1., 1.,\n",
              "       1., 1., 1., 1., 1., 1., 1., 1., 1., 1., 1., 1., 1., 1., 1., 1., 1.,\n",
              "       1., 1., 1., 1., 1., 1., 1., 1., 1., 1., 1., 1., 1., 1., 1., 1., 1.,\n",
              "       1., 1., 1., 1., 1., 1., 1., 1., 1., 1., 1., 1., 1., 1., 1., 1., 1.,\n",
              "       1., 1., 2., 2., 2., 2., 2., 2., 2., 2., 2., 2., 2., 2., 2., 2., 2.,\n",
              "       2., 2., 2., 2., 2., 2., 2., 2., 2., 2., 2., 2., 2., 2., 2., 2., 2.,\n",
              "       2., 2., 2., 2., 2., 2., 2., 2., 2., 2., 2., 2., 2., 2., 2., 2., 2.,\n",
              "       2., 2., 2., 2., 2., 2., 2., 2., 2., 2., 2., 2., 2., 2., 2., 2., 2.,\n",
              "       2., 2., 2., 2., 3., 3., 3., 3., 3., 3., 3., 3., 3., 3., 3., 3., 3.,\n",
              "       3., 3., 3., 3., 3., 3., 3., 3., 3., 3., 3., 3., 3., 3., 3., 3., 3.,\n",
              "       3., 3., 3., 3., 3., 3., 3., 3., 3., 3., 3., 3., 3., 3., 3., 3., 3.,\n",
              "       3., 3., 3., 3., 3., 3., 3., 3., 3., 3., 3., 3., 3., 3., 3., 3., 3.,\n",
              "       3., 3., 3., 3., 3., 3.])"
            ]
          },
          "metadata": {},
          "execution_count": 51
        }
      ]
    },
    {
      "cell_type": "code",
      "source": [
        "from sklearn.metrics import r2_score, mean_absolute_error, mean_squared_error\n",
        "R2=r2_score(Y, Y_pred)\n",
        "R2"
      ],
      "metadata": {
        "colab": {
          "base_uri": "https://localhost:8080/"
        },
        "id": "S4U85g7zgg_m",
        "outputId": "79743002-e962-465d-af12-3e20415cae57"
      },
      "execution_count": null,
      "outputs": [
        {
          "output_type": "execute_result",
          "data": {
            "text/plain": [
              "0.7214285714285714"
            ]
          },
          "metadata": {},
          "execution_count": 52
        }
      ]
    },
    {
      "cell_type": "markdown",
      "source": [
        "**вводим конкретные данные:**"
      ],
      "metadata": {
        "id": "gBXh5qyAkKd0"
      }
    },
    {
      "cell_type": "code",
      "source": [
        "x_new=np.array([[14.88,14.57,0.88,5.55,3.33,1.02,4.96\t],[11.23,12.88,0.85,5.14,2.79,4.33,5.00\t]])\n",
        "# это данные 2-х пациентов щас проверим заболеют или нет"
      ],
      "metadata": {
        "id": "6BgOPbAfq_o_"
      },
      "execution_count": null,
      "outputs": []
    },
    {
      "cell_type": "code",
      "source": [
        "model.predict(x_new) # сюда заносим конкретные данные и смотрим прогноз"
      ],
      "metadata": {
        "colab": {
          "base_uri": "https://localhost:8080/"
        },
        "id": "d96PpvpJgAd1",
        "outputId": "e69e6bc4-ef02-4b56-e24d-2dff25164230"
      },
      "execution_count": null,
      "outputs": [
        {
          "output_type": "execute_result",
          "data": {
            "text/plain": [
              "array([1., 3.])"
            ]
          },
          "metadata": {},
          "execution_count": 54
        }
      ]
    },
    {
      "cell_type": "markdown",
      "source": [
        "**13. По обученной модели дайте прогноз вероятности классов для новых наблюдений, воспользовавшись функцией predict_proba().**"
      ],
      "metadata": {
        "id": "pNOQ3aucrAP2"
      }
    },
    {
      "cell_type": "code",
      "source": [
        "model.predict_proba(x_new)\n",
        "# нулевой столбец - это нулевой класс\n",
        "# первый столбец - это первый класс\n",
        "# первая строка - это первые данные (здесь с вероятностью 96% относится к 1-ому типу)\n",
        "# вторая строка = это вторые данные (здесь с вероятностью 83% относится к 3-ему типу)"
      ],
      "metadata": {
        "colab": {
          "base_uri": "https://localhost:8080/"
        },
        "id": "c1PzYyw4rEom",
        "outputId": "e17ce810-3fda-4033-f2a5-a7248040e5b0"
      },
      "execution_count": null,
      "outputs": [
        {
          "output_type": "execute_result",
          "data": {
            "text/plain": [
              "array([[0.95628385, 0.0423319 , 0.00138425],\n",
              "       [0.1642972 , 0.00303227, 0.83267053]])"
            ]
          },
          "metadata": {},
          "execution_count": 55
        }
      ]
    },
    {
      "cell_type": "markdown",
      "source": [
        "# **ЛОГИСТИЧЕСКАЯ РЕГРЕССИЯ (на стандартизированных данных)**"
      ],
      "metadata": {
        "id": "LP41KIAmJkMy"
      }
    },
    {
      "cell_type": "markdown",
      "source": [
        "________________________________________________________________________________"
      ],
      "metadata": {
        "id": "R2D6YlxHLXx4"
      }
    },
    {
      "cell_type": "markdown",
      "source": [
        "# **НАЧАЛО**\n",
        "# **стандартизируем, удаляем выбросы:**"
      ],
      "metadata": {
        "id": "TKBk7ID_MBpF"
      }
    },
    {
      "cell_type": "markdown",
      "source": [
        "1. Масштабируем\n",
        "2. Стандартизируем\n",
        "3. Заменяем выбросы на NaN (больше 3-х стандартных отклонений)\n",
        "4. NaN были заменены на соседнее число **Текст, выделенный полужирным шрифтом**"
      ],
      "metadata": {
        "id": "YsyijO9qLb-c"
      }
    },
    {
      "cell_type": "markdown",
      "source": [
        "DataFrame.values Pandas DataFrame.values возвращает Numpy-представление данного DataFrame.\n",
        "Используйте атрибут DataFrame.values чтобы возвратить пустое представление данного DataFrame."
      ],
      "metadata": {
        "id": "JpXzUDnAQsI1"
      }
    },
    {
      "cell_type": "code",
      "source": [
        "X.shape"
      ],
      "metadata": {
        "colab": {
          "base_uri": "https://localhost:8080/"
        },
        "id": "vrHyScpFgr4c",
        "outputId": "f34c4655-e5c4-47e7-bfee-5add9c334446"
      },
      "execution_count": null,
      "outputs": [
        {
          "output_type": "execute_result",
          "data": {
            "text/plain": [
              "(210, 7)"
            ]
          },
          "metadata": {},
          "execution_count": 57
        }
      ]
    },
    {
      "cell_type": "markdown",
      "source": [
        "**масштабирование:**"
      ],
      "metadata": {
        "id": "fUxXmel8SSdn"
      }
    },
    {
      "cell_type": "code",
      "source": [
        "from sklearn.preprocessing import MinMaxScaler"
      ],
      "metadata": {
        "id": "bUPDhIHVKHm2"
      },
      "execution_count": null,
      "outputs": []
    },
    {
      "cell_type": "code",
      "source": [
        "from pandas.core.apply import FrameApply\n",
        "scaler=MinMaxScaler(feature_range=(0,1))"
      ],
      "metadata": {
        "id": "YadkjtW2RKvs"
      },
      "execution_count": null,
      "outputs": []
    },
    {
      "cell_type": "code",
      "source": [
        "rescaledX=scaler.fit_transform(X)\n",
        "rescaledX"
      ],
      "metadata": {
        "id": "9L0X88KJTz-h"
      },
      "execution_count": null,
      "outputs": []
    },
    {
      "cell_type": "code",
      "source": [
        "from numpy import set_printoptions"
      ],
      "metadata": {
        "id": "0Mi6MG06KQ1E"
      },
      "execution_count": null,
      "outputs": []
    },
    {
      "cell_type": "code",
      "source": [
        "set_printoptions(precision=4)"
      ],
      "metadata": {
        "id": "TPdfoeXmVnEI"
      },
      "execution_count": null,
      "outputs": []
    },
    {
      "cell_type": "code",
      "source": [
        "rescaledX"
      ],
      "metadata": {
        "id": "6fE57QgQVu2F"
      },
      "execution_count": null,
      "outputs": []
    },
    {
      "cell_type": "code",
      "source": [
        "from sklearn.preprocessing import StandardScaler"
      ],
      "metadata": {
        "id": "9ihM7_n0KimH"
      },
      "execution_count": null,
      "outputs": []
    },
    {
      "cell_type": "code",
      "source": [
        "scaler=StandardScaler().fit(X) # создаем объект и обучаем"
      ],
      "metadata": {
        "id": "f3bs1c3-V8CY"
      },
      "execution_count": null,
      "outputs": []
    },
    {
      "cell_type": "code",
      "source": [
        "rescaledX=scaler.transform(X) # преобразуем данные"
      ],
      "metadata": {
        "id": "yW6JOKyLWEfv"
      },
      "execution_count": null,
      "outputs": []
    },
    {
      "cell_type": "code",
      "source": [
        "rescaledX[:5,:]"
      ],
      "metadata": {
        "id": "de4yVwAOXUec"
      },
      "execution_count": null,
      "outputs": []
    },
    {
      "cell_type": "code",
      "source": [
        "import pandas as pd\n",
        "fg = pd.DataFrame(rescaledX)\n",
        "fg.head(15)"
      ],
      "metadata": {
        "id": "mdAuAonu24Kw"
      },
      "execution_count": null,
      "outputs": []
    },
    {
      "cell_type": "code",
      "source": [
        "import numpy as np"
      ],
      "metadata": {
        "id": "dh49U8BP_c6p"
      },
      "execution_count": null,
      "outputs": []
    },
    {
      "cell_type": "markdown",
      "source": [
        "**цикл который меняет выбросы (значения превышающие 3 стандартных отклонения) на NaN во всех столбцах:**"
      ],
      "metadata": {
        "id": "R7PMilLBCXCQ"
      }
    },
    {
      "cell_type": "code",
      "source": [
        "for i in fg:\n",
        "    fg[i] = np.where((fg[i] > 3) | (fg[i] < -3), np.nan, fg[i])\n",
        "fg.head(15)"
      ],
      "metadata": {
        "id": "nRTwgDUqAaFM"
      },
      "execution_count": null,
      "outputs": []
    },
    {
      "cell_type": "code",
      "source": [
        "fgY = pd.DataFrame(Y)\n",
        "fgY.head(5)"
      ],
      "metadata": {
        "id": "o6MLKHhkhS2q"
      },
      "execution_count": null,
      "outputs": []
    },
    {
      "cell_type": "code",
      "source": [
        "fg['end'] = fgY"
      ],
      "metadata": {
        "id": "JjV6YgxoifTL"
      },
      "execution_count": null,
      "outputs": []
    },
    {
      "cell_type": "code",
      "source": [
        "fg.head(5)"
      ],
      "metadata": {
        "id": "DIAsqSkXl5WJ"
      },
      "execution_count": null,
      "outputs": []
    },
    {
      "cell_type": "code",
      "source": [
        "fg_groupby = fg.sort_values(by=['end',3]) # упорядочиваем данные по результирующим признакаам"
      ],
      "metadata": {
        "id": "22-Y-JfDix9x"
      },
      "execution_count": null,
      "outputs": []
    },
    {
      "cell_type": "code",
      "source": [
        "fg_groupby.isna().sum()"
      ],
      "metadata": {
        "id": "6oGKvYh9mhq0"
      },
      "execution_count": null,
      "outputs": []
    },
    {
      "cell_type": "code",
      "source": [
        "fg_groupby['end'].value_counts()"
      ],
      "metadata": {
        "id": "Fl6uhp2ynwJn"
      },
      "execution_count": null,
      "outputs": []
    },
    {
      "cell_type": "code",
      "source": [
        "fg_groupby.head(20)"
      ],
      "metadata": {
        "id": "TxjUE-oQnOGz"
      },
      "execution_count": null,
      "outputs": []
    },
    {
      "cell_type": "code",
      "source": [
        "fg_groupby = fg_groupby.fillna(method ='pad') # заменяем NaN на предыдущее значение в столбце\n",
        "# методы Значение параметра метода: {‘pad’, ‘ffill’,‘backfill’, ‘bfill’, None}, default None\n",
        "#pad/ffill: использование предыдущий Не пропущенное значение, чтобы заполнить пропущенное значение\n",
        "#backfill/bfill: использование следующий Заполните пропущенное значение не пропущенным значением\n",
        "#None: Укажите значение для замены отсутствующего значения (по умолчанию это так)"
      ],
      "metadata": {
        "id": "lPADn_3xqV3u"
      },
      "execution_count": null,
      "outputs": []
    },
    {
      "cell_type": "code",
      "source": [
        "df"
      ],
      "metadata": {
        "colab": {
          "base_uri": "https://localhost:8080/",
          "height": 423
        },
        "id": "QEzcVLhXYyM3",
        "outputId": "0b5c29bf-a4a7-4c7f-a32f-32b39ddf48dc"
      },
      "execution_count": null,
      "outputs": [
        {
          "output_type": "execute_result",
          "data": {
            "text/plain": [
              "     area_A  perimeter_P  compactness  length_of_ker  width_of_ker  asymmetry_coeff  \\\n",
              "0     15.26        14.84         0.87           5.76          3.31             2.22   \n",
              "1     14.88        14.57         0.88           5.55          3.33             1.02   \n",
              "2     14.29        14.09         0.91           5.29          3.34             2.70   \n",
              "3     13.84        13.94         0.90           5.32          3.38             2.26   \n",
              "4     16.14        14.99         0.90           5.66          3.56             1.35   \n",
              "..      ...          ...          ...            ...           ...              ...   \n",
              "205   12.19        13.20         0.88           5.14          2.98             3.63   \n",
              "206   11.23        12.88         0.85           5.14          2.79             4.33   \n",
              "207   13.20        13.66         0.89           5.24          3.23             8.31   \n",
              "208   11.84        13.21         0.85           5.17          2.84             3.60   \n",
              "209   12.30        13.34         0.87           5.24          2.97             5.64   \n",
              "\n",
              "     length_of_ker_groove  class class_name  \n",
              "0                    5.22      1       Кама  \n",
              "1                    4.96      1       Кама  \n",
              "2                    4.83      1       Кама  \n",
              "3                    4.80      1       Кама  \n",
              "4                    5.17      1       Кама  \n",
              "..                    ...    ...        ...  \n",
              "205                  4.87      3  Канадская  \n",
              "206                  5.00      3  Канадская  \n",
              "207                  5.06      3  Канадская  \n",
              "208                  5.04      3  Канадская  \n",
              "209                  5.06      3  Канадская  \n",
              "\n",
              "[210 rows x 9 columns]"
            ],
            "text/html": [
              "\n",
              "  <div id=\"df-5f9434ca-6f89-429d-bca0-ed2714b5f962\">\n",
              "    <div class=\"colab-df-container\">\n",
              "      <div>\n",
              "<style scoped>\n",
              "    .dataframe tbody tr th:only-of-type {\n",
              "        vertical-align: middle;\n",
              "    }\n",
              "\n",
              "    .dataframe tbody tr th {\n",
              "        vertical-align: top;\n",
              "    }\n",
              "\n",
              "    .dataframe thead th {\n",
              "        text-align: right;\n",
              "    }\n",
              "</style>\n",
              "<table border=\"1\" class=\"dataframe\">\n",
              "  <thead>\n",
              "    <tr style=\"text-align: right;\">\n",
              "      <th></th>\n",
              "      <th>area_A</th>\n",
              "      <th>perimeter_P</th>\n",
              "      <th>compactness</th>\n",
              "      <th>length_of_ker</th>\n",
              "      <th>width_of_ker</th>\n",
              "      <th>asymmetry_coeff</th>\n",
              "      <th>length_of_ker_groove</th>\n",
              "      <th>class</th>\n",
              "      <th>class_name</th>\n",
              "    </tr>\n",
              "  </thead>\n",
              "  <tbody>\n",
              "    <tr>\n",
              "      <th>0</th>\n",
              "      <td>15.26</td>\n",
              "      <td>14.84</td>\n",
              "      <td>0.87</td>\n",
              "      <td>5.76</td>\n",
              "      <td>3.31</td>\n",
              "      <td>2.22</td>\n",
              "      <td>5.22</td>\n",
              "      <td>1</td>\n",
              "      <td>Кама</td>\n",
              "    </tr>\n",
              "    <tr>\n",
              "      <th>1</th>\n",
              "      <td>14.88</td>\n",
              "      <td>14.57</td>\n",
              "      <td>0.88</td>\n",
              "      <td>5.55</td>\n",
              "      <td>3.33</td>\n",
              "      <td>1.02</td>\n",
              "      <td>4.96</td>\n",
              "      <td>1</td>\n",
              "      <td>Кама</td>\n",
              "    </tr>\n",
              "    <tr>\n",
              "      <th>2</th>\n",
              "      <td>14.29</td>\n",
              "      <td>14.09</td>\n",
              "      <td>0.91</td>\n",
              "      <td>5.29</td>\n",
              "      <td>3.34</td>\n",
              "      <td>2.70</td>\n",
              "      <td>4.83</td>\n",
              "      <td>1</td>\n",
              "      <td>Кама</td>\n",
              "    </tr>\n",
              "    <tr>\n",
              "      <th>3</th>\n",
              "      <td>13.84</td>\n",
              "      <td>13.94</td>\n",
              "      <td>0.90</td>\n",
              "      <td>5.32</td>\n",
              "      <td>3.38</td>\n",
              "      <td>2.26</td>\n",
              "      <td>4.80</td>\n",
              "      <td>1</td>\n",
              "      <td>Кама</td>\n",
              "    </tr>\n",
              "    <tr>\n",
              "      <th>4</th>\n",
              "      <td>16.14</td>\n",
              "      <td>14.99</td>\n",
              "      <td>0.90</td>\n",
              "      <td>5.66</td>\n",
              "      <td>3.56</td>\n",
              "      <td>1.35</td>\n",
              "      <td>5.17</td>\n",
              "      <td>1</td>\n",
              "      <td>Кама</td>\n",
              "    </tr>\n",
              "    <tr>\n",
              "      <th>...</th>\n",
              "      <td>...</td>\n",
              "      <td>...</td>\n",
              "      <td>...</td>\n",
              "      <td>...</td>\n",
              "      <td>...</td>\n",
              "      <td>...</td>\n",
              "      <td>...</td>\n",
              "      <td>...</td>\n",
              "      <td>...</td>\n",
              "    </tr>\n",
              "    <tr>\n",
              "      <th>205</th>\n",
              "      <td>12.19</td>\n",
              "      <td>13.20</td>\n",
              "      <td>0.88</td>\n",
              "      <td>5.14</td>\n",
              "      <td>2.98</td>\n",
              "      <td>3.63</td>\n",
              "      <td>4.87</td>\n",
              "      <td>3</td>\n",
              "      <td>Канадская</td>\n",
              "    </tr>\n",
              "    <tr>\n",
              "      <th>206</th>\n",
              "      <td>11.23</td>\n",
              "      <td>12.88</td>\n",
              "      <td>0.85</td>\n",
              "      <td>5.14</td>\n",
              "      <td>2.79</td>\n",
              "      <td>4.33</td>\n",
              "      <td>5.00</td>\n",
              "      <td>3</td>\n",
              "      <td>Канадская</td>\n",
              "    </tr>\n",
              "    <tr>\n",
              "      <th>207</th>\n",
              "      <td>13.20</td>\n",
              "      <td>13.66</td>\n",
              "      <td>0.89</td>\n",
              "      <td>5.24</td>\n",
              "      <td>3.23</td>\n",
              "      <td>8.31</td>\n",
              "      <td>5.06</td>\n",
              "      <td>3</td>\n",
              "      <td>Канадская</td>\n",
              "    </tr>\n",
              "    <tr>\n",
              "      <th>208</th>\n",
              "      <td>11.84</td>\n",
              "      <td>13.21</td>\n",
              "      <td>0.85</td>\n",
              "      <td>5.17</td>\n",
              "      <td>2.84</td>\n",
              "      <td>3.60</td>\n",
              "      <td>5.04</td>\n",
              "      <td>3</td>\n",
              "      <td>Канадская</td>\n",
              "    </tr>\n",
              "    <tr>\n",
              "      <th>209</th>\n",
              "      <td>12.30</td>\n",
              "      <td>13.34</td>\n",
              "      <td>0.87</td>\n",
              "      <td>5.24</td>\n",
              "      <td>2.97</td>\n",
              "      <td>5.64</td>\n",
              "      <td>5.06</td>\n",
              "      <td>3</td>\n",
              "      <td>Канадская</td>\n",
              "    </tr>\n",
              "  </tbody>\n",
              "</table>\n",
              "<p>210 rows × 9 columns</p>\n",
              "</div>\n",
              "      <button class=\"colab-df-convert\" onclick=\"convertToInteractive('df-5f9434ca-6f89-429d-bca0-ed2714b5f962')\"\n",
              "              title=\"Convert this dataframe to an interactive table.\"\n",
              "              style=\"display:none;\">\n",
              "        \n",
              "  <svg xmlns=\"http://www.w3.org/2000/svg\" height=\"24px\"viewBox=\"0 0 24 24\"\n",
              "       width=\"24px\">\n",
              "    <path d=\"M0 0h24v24H0V0z\" fill=\"none\"/>\n",
              "    <path d=\"M18.56 5.44l.94 2.06.94-2.06 2.06-.94-2.06-.94-.94-2.06-.94 2.06-2.06.94zm-11 1L8.5 8.5l.94-2.06 2.06-.94-2.06-.94L8.5 2.5l-.94 2.06-2.06.94zm10 10l.94 2.06.94-2.06 2.06-.94-2.06-.94-.94-2.06-.94 2.06-2.06.94z\"/><path d=\"M17.41 7.96l-1.37-1.37c-.4-.4-.92-.59-1.43-.59-.52 0-1.04.2-1.43.59L10.3 9.45l-7.72 7.72c-.78.78-.78 2.05 0 2.83L4 21.41c.39.39.9.59 1.41.59.51 0 1.02-.2 1.41-.59l7.78-7.78 2.81-2.81c.8-.78.8-2.07 0-2.86zM5.41 20L4 18.59l7.72-7.72 1.47 1.35L5.41 20z\"/>\n",
              "  </svg>\n",
              "      </button>\n",
              "      \n",
              "  <style>\n",
              "    .colab-df-container {\n",
              "      display:flex;\n",
              "      flex-wrap:wrap;\n",
              "      gap: 12px;\n",
              "    }\n",
              "\n",
              "    .colab-df-convert {\n",
              "      background-color: #E8F0FE;\n",
              "      border: none;\n",
              "      border-radius: 50%;\n",
              "      cursor: pointer;\n",
              "      display: none;\n",
              "      fill: #1967D2;\n",
              "      height: 32px;\n",
              "      padding: 0 0 0 0;\n",
              "      width: 32px;\n",
              "    }\n",
              "\n",
              "    .colab-df-convert:hover {\n",
              "      background-color: #E2EBFA;\n",
              "      box-shadow: 0px 1px 2px rgba(60, 64, 67, 0.3), 0px 1px 3px 1px rgba(60, 64, 67, 0.15);\n",
              "      fill: #174EA6;\n",
              "    }\n",
              "\n",
              "    [theme=dark] .colab-df-convert {\n",
              "      background-color: #3B4455;\n",
              "      fill: #D2E3FC;\n",
              "    }\n",
              "\n",
              "    [theme=dark] .colab-df-convert:hover {\n",
              "      background-color: #434B5C;\n",
              "      box-shadow: 0px 1px 3px 1px rgba(0, 0, 0, 0.15);\n",
              "      filter: drop-shadow(0px 1px 2px rgba(0, 0, 0, 0.3));\n",
              "      fill: #FFFFFF;\n",
              "    }\n",
              "  </style>\n",
              "\n",
              "      <script>\n",
              "        const buttonEl =\n",
              "          document.querySelector('#df-5f9434ca-6f89-429d-bca0-ed2714b5f962 button.colab-df-convert');\n",
              "        buttonEl.style.display =\n",
              "          google.colab.kernel.accessAllowed ? 'block' : 'none';\n",
              "\n",
              "        async function convertToInteractive(key) {\n",
              "          const element = document.querySelector('#df-5f9434ca-6f89-429d-bca0-ed2714b5f962');\n",
              "          const dataTable =\n",
              "            await google.colab.kernel.invokeFunction('convertToInteractive',\n",
              "                                                     [key], {});\n",
              "          if (!dataTable) return;\n",
              "\n",
              "          const docLinkHtml = 'Like what you see? Visit the ' +\n",
              "            '<a target=\"_blank\" href=https://colab.research.google.com/notebooks/data_table.ipynb>data table notebook</a>'\n",
              "            + ' to learn more about interactive tables.';\n",
              "          element.innerHTML = '';\n",
              "          dataTable['output_type'] = 'display_data';\n",
              "          await google.colab.output.renderOutput(dataTable, element);\n",
              "          const docLink = document.createElement('div');\n",
              "          docLink.innerHTML = docLinkHtml;\n",
              "          element.appendChild(docLink);\n",
              "        }\n",
              "      </script>\n",
              "    </div>\n",
              "  </div>\n",
              "  "
            ]
          },
          "metadata": {},
          "execution_count": 124
        }
      ]
    },
    {
      "cell_type": "code",
      "source": [
        "fg_groupby.head(5)"
      ],
      "metadata": {
        "colab": {
          "base_uri": "https://localhost:8080/",
          "height": 206
        },
        "id": "R1BMknwCsh65",
        "outputId": "fd941a8b-68ca-4db8-fc42-22a6d3878aac"
      },
      "execution_count": null,
      "outputs": [
        {
          "output_type": "execute_result",
          "data": {
            "text/plain": [
              "      0         1         2     3     4     5     6  end\n",
              "0  0.14  2.15e-01  6.06e-05  0.30  0.14 -0.99 -0.38  1.0\n",
              "1  0.01  8.22e-03  4.29e-01 -0.17  0.20 -1.79 -0.92  1.0\n",
              "2 -0.19 -3.60e-01  1.44e+00 -0.76  0.21 -0.67 -1.19  1.0\n",
              "3 -0.35 -4.75e-01  1.04e+00 -0.69  0.32 -0.96 -1.23  1.0\n",
              "4  0.45  3.31e-01  1.37e+00  0.07  0.81 -1.56 -0.48  1.0"
            ],
            "text/html": [
              "\n",
              "  <div id=\"df-16f3a83f-021f-427a-abce-4bfd77414bc1\">\n",
              "    <div class=\"colab-df-container\">\n",
              "      <div>\n",
              "<style scoped>\n",
              "    .dataframe tbody tr th:only-of-type {\n",
              "        vertical-align: middle;\n",
              "    }\n",
              "\n",
              "    .dataframe tbody tr th {\n",
              "        vertical-align: top;\n",
              "    }\n",
              "\n",
              "    .dataframe thead th {\n",
              "        text-align: right;\n",
              "    }\n",
              "</style>\n",
              "<table border=\"1\" class=\"dataframe\">\n",
              "  <thead>\n",
              "    <tr style=\"text-align: right;\">\n",
              "      <th></th>\n",
              "      <th>0</th>\n",
              "      <th>1</th>\n",
              "      <th>2</th>\n",
              "      <th>3</th>\n",
              "      <th>4</th>\n",
              "      <th>5</th>\n",
              "      <th>6</th>\n",
              "      <th>end</th>\n",
              "    </tr>\n",
              "  </thead>\n",
              "  <tbody>\n",
              "    <tr>\n",
              "      <th>0</th>\n",
              "      <td>0.14</td>\n",
              "      <td>2.15e-01</td>\n",
              "      <td>6.06e-05</td>\n",
              "      <td>0.30</td>\n",
              "      <td>0.14</td>\n",
              "      <td>-0.99</td>\n",
              "      <td>-0.38</td>\n",
              "      <td>1.0</td>\n",
              "    </tr>\n",
              "    <tr>\n",
              "      <th>1</th>\n",
              "      <td>0.01</td>\n",
              "      <td>8.22e-03</td>\n",
              "      <td>4.29e-01</td>\n",
              "      <td>-0.17</td>\n",
              "      <td>0.20</td>\n",
              "      <td>-1.79</td>\n",
              "      <td>-0.92</td>\n",
              "      <td>1.0</td>\n",
              "    </tr>\n",
              "    <tr>\n",
              "      <th>2</th>\n",
              "      <td>-0.19</td>\n",
              "      <td>-3.60e-01</td>\n",
              "      <td>1.44e+00</td>\n",
              "      <td>-0.76</td>\n",
              "      <td>0.21</td>\n",
              "      <td>-0.67</td>\n",
              "      <td>-1.19</td>\n",
              "      <td>1.0</td>\n",
              "    </tr>\n",
              "    <tr>\n",
              "      <th>3</th>\n",
              "      <td>-0.35</td>\n",
              "      <td>-4.75e-01</td>\n",
              "      <td>1.04e+00</td>\n",
              "      <td>-0.69</td>\n",
              "      <td>0.32</td>\n",
              "      <td>-0.96</td>\n",
              "      <td>-1.23</td>\n",
              "      <td>1.0</td>\n",
              "    </tr>\n",
              "    <tr>\n",
              "      <th>4</th>\n",
              "      <td>0.45</td>\n",
              "      <td>3.31e-01</td>\n",
              "      <td>1.37e+00</td>\n",
              "      <td>0.07</td>\n",
              "      <td>0.81</td>\n",
              "      <td>-1.56</td>\n",
              "      <td>-0.48</td>\n",
              "      <td>1.0</td>\n",
              "    </tr>\n",
              "  </tbody>\n",
              "</table>\n",
              "</div>\n",
              "      <button class=\"colab-df-convert\" onclick=\"convertToInteractive('df-16f3a83f-021f-427a-abce-4bfd77414bc1')\"\n",
              "              title=\"Convert this dataframe to an interactive table.\"\n",
              "              style=\"display:none;\">\n",
              "        \n",
              "  <svg xmlns=\"http://www.w3.org/2000/svg\" height=\"24px\"viewBox=\"0 0 24 24\"\n",
              "       width=\"24px\">\n",
              "    <path d=\"M0 0h24v24H0V0z\" fill=\"none\"/>\n",
              "    <path d=\"M18.56 5.44l.94 2.06.94-2.06 2.06-.94-2.06-.94-.94-2.06-.94 2.06-2.06.94zm-11 1L8.5 8.5l.94-2.06 2.06-.94-2.06-.94L8.5 2.5l-.94 2.06-2.06.94zm10 10l.94 2.06.94-2.06 2.06-.94-2.06-.94-.94-2.06-.94 2.06-2.06.94z\"/><path d=\"M17.41 7.96l-1.37-1.37c-.4-.4-.92-.59-1.43-.59-.52 0-1.04.2-1.43.59L10.3 9.45l-7.72 7.72c-.78.78-.78 2.05 0 2.83L4 21.41c.39.39.9.59 1.41.59.51 0 1.02-.2 1.41-.59l7.78-7.78 2.81-2.81c.8-.78.8-2.07 0-2.86zM5.41 20L4 18.59l7.72-7.72 1.47 1.35L5.41 20z\"/>\n",
              "  </svg>\n",
              "      </button>\n",
              "      \n",
              "  <style>\n",
              "    .colab-df-container {\n",
              "      display:flex;\n",
              "      flex-wrap:wrap;\n",
              "      gap: 12px;\n",
              "    }\n",
              "\n",
              "    .colab-df-convert {\n",
              "      background-color: #E8F0FE;\n",
              "      border: none;\n",
              "      border-radius: 50%;\n",
              "      cursor: pointer;\n",
              "      display: none;\n",
              "      fill: #1967D2;\n",
              "      height: 32px;\n",
              "      padding: 0 0 0 0;\n",
              "      width: 32px;\n",
              "    }\n",
              "\n",
              "    .colab-df-convert:hover {\n",
              "      background-color: #E2EBFA;\n",
              "      box-shadow: 0px 1px 2px rgba(60, 64, 67, 0.3), 0px 1px 3px 1px rgba(60, 64, 67, 0.15);\n",
              "      fill: #174EA6;\n",
              "    }\n",
              "\n",
              "    [theme=dark] .colab-df-convert {\n",
              "      background-color: #3B4455;\n",
              "      fill: #D2E3FC;\n",
              "    }\n",
              "\n",
              "    [theme=dark] .colab-df-convert:hover {\n",
              "      background-color: #434B5C;\n",
              "      box-shadow: 0px 1px 3px 1px rgba(0, 0, 0, 0.15);\n",
              "      filter: drop-shadow(0px 1px 2px rgba(0, 0, 0, 0.3));\n",
              "      fill: #FFFFFF;\n",
              "    }\n",
              "  </style>\n",
              "\n",
              "      <script>\n",
              "        const buttonEl =\n",
              "          document.querySelector('#df-16f3a83f-021f-427a-abce-4bfd77414bc1 button.colab-df-convert');\n",
              "        buttonEl.style.display =\n",
              "          google.colab.kernel.accessAllowed ? 'block' : 'none';\n",
              "\n",
              "        async function convertToInteractive(key) {\n",
              "          const element = document.querySelector('#df-16f3a83f-021f-427a-abce-4bfd77414bc1');\n",
              "          const dataTable =\n",
              "            await google.colab.kernel.invokeFunction('convertToInteractive',\n",
              "                                                     [key], {});\n",
              "          if (!dataTable) return;\n",
              "\n",
              "          const docLinkHtml = 'Like what you see? Visit the ' +\n",
              "            '<a target=\"_blank\" href=https://colab.research.google.com/notebooks/data_table.ipynb>data table notebook</a>'\n",
              "            + ' to learn more about interactive tables.';\n",
              "          element.innerHTML = '';\n",
              "          dataTable['output_type'] = 'display_data';\n",
              "          await google.colab.output.renderOutput(dataTable, element);\n",
              "          const docLink = document.createElement('div');\n",
              "          docLink.innerHTML = docLinkHtml;\n",
              "          element.appendChild(docLink);\n",
              "        }\n",
              "      </script>\n",
              "    </div>\n",
              "  </div>\n",
              "  "
            ]
          },
          "metadata": {},
          "execution_count": 95
        }
      ]
    },
    {
      "cell_type": "code",
      "source": [
        "fg_groupby.isna().sum()"
      ],
      "metadata": {
        "id": "AzO7WQmeLQWU"
      },
      "execution_count": null,
      "outputs": []
    },
    {
      "cell_type": "code",
      "source": [
        "fg_groupby = fg_groupby.sort_index()"
      ],
      "metadata": {
        "id": "-2iaF646NfVB"
      },
      "execution_count": null,
      "outputs": []
    },
    {
      "cell_type": "code",
      "source": [
        "fg_groupby['end'] = fg_groupby['end'].astype('int')"
      ],
      "metadata": {
        "id": "gaOrnkzEN7Hp"
      },
      "execution_count": null,
      "outputs": []
    },
    {
      "cell_type": "code",
      "source": [
        "fg_groupby.dtypes"
      ],
      "metadata": {
        "colab": {
          "base_uri": "https://localhost:8080/"
        },
        "id": "7s6vj4ioOjx_",
        "outputId": "eba27ae0-f0e8-4fff-c0b9-f04835442a98"
      },
      "execution_count": null,
      "outputs": [
        {
          "output_type": "execute_result",
          "data": {
            "text/plain": [
              "0      float64\n",
              "1      float64\n",
              "2      float64\n",
              "3      float64\n",
              "4      float64\n",
              "5      float64\n",
              "6      float64\n",
              "end      int64\n",
              "dtype: object"
            ]
          },
          "metadata": {},
          "execution_count": 98
        }
      ]
    },
    {
      "cell_type": "markdown",
      "source": [
        "# **КОНЕЦ**\n",
        "**стандартизации и удаления выбросов**"
      ],
      "metadata": {
        "id": "Yrm1SoyZMOcB"
      }
    },
    {
      "cell_type": "markdown",
      "source": [
        "___________________________________________________________________________"
      ],
      "metadata": {
        "id": "APCPyKqTMMld"
      }
    },
    {
      "cell_type": "markdown",
      "source": [
        "# **Делаем модель на преобразованных данных**"
      ],
      "metadata": {
        "id": "SsT6r4ZCMuiY"
      }
    },
    {
      "cell_type": "code",
      "source": [
        "array = fg_groupby.iloc[:,:].values\n",
        "array"
      ],
      "metadata": {
        "colab": {
          "base_uri": "https://localhost:8080/"
        },
        "id": "kqjSLk5YNQK1",
        "outputId": "51432faa-5571-4fb8-88b3-bae012ba6f17"
      },
      "execution_count": null,
      "outputs": [
        {
          "output_type": "execute_result",
          "data": {
            "text/plain": [
              "array([[ 1.4210e-01,  2.1546e-01,  6.0602e-05, ..., -9.8615e-01,\n",
              "        -3.8358e-01,  1.0000e+00],\n",
              "       [ 1.1188e-02,  8.2238e-03,  4.2852e-01, ..., -1.7882e+00,\n",
              "        -9.2201e-01,  1.0000e+00],\n",
              "       [-1.9207e-01, -3.6020e-01,  1.4424e+00, ..., -6.6748e-01,\n",
              "        -1.1892e+00,  1.0000e+00],\n",
              "       ...,\n",
              "       [-5.6757e-01, -6.9025e-01,  7.3395e-01, ...,  2.8787e-01,\n",
              "        -7.1806e-01,  3.0000e+00],\n",
              "       [-1.0361e+00, -1.0356e+00, -8.0170e-01, ..., -6.8135e-02,\n",
              "        -7.4253e-01,  3.0000e+00],\n",
              "       [-8.7762e-01, -9.3586e-01, -1.1023e-01, ...,  1.2912e+00,\n",
              "        -7.0378e-01,  3.0000e+00]])"
            ]
          },
          "metadata": {},
          "execution_count": 99
        }
      ]
    },
    {
      "cell_type": "code",
      "source": [
        "X = array[:,0:7] # факторные признаки, т.е. параметры объекта\n",
        "Y = array[:,7] # результативные признак, т.е. сам объект\n",
        "# это обучение с учителем х - это данные, y - это ответ"
      ],
      "metadata": {
        "id": "f9bZn1CaNQbo"
      },
      "execution_count": null,
      "outputs": []
    },
    {
      "cell_type": "code",
      "source": [
        "X"
      ],
      "metadata": {
        "colab": {
          "base_uri": "https://localhost:8080/"
        },
        "outputId": "a1132e04-5e63-4b7f-89fa-202ea1f98519",
        "id": "rY5gZizQNQbp"
      },
      "execution_count": null,
      "outputs": [
        {
          "output_type": "execute_result",
          "data": {
            "text/plain": [
              "array([[ 1.4210e-01,  2.1546e-01,  6.0602e-05, ...,  1.4170e-01,\n",
              "        -9.8615e-01, -3.8358e-01],\n",
              "       [ 1.1188e-02,  8.2238e-03,  4.2852e-01, ...,  1.9743e-01,\n",
              "        -1.7882e+00, -9.2201e-01],\n",
              "       [-1.9207e-01, -3.6020e-01,  1.4424e+00, ...,  2.0805e-01,\n",
              "        -6.6748e-01, -1.1892e+00],\n",
              "       ...,\n",
              "       [-5.6757e-01, -6.9025e-01,  7.3395e-01, ..., -7.0604e-02,\n",
              "         2.8787e-01, -7.1806e-01],\n",
              "       [-1.0361e+00, -1.0356e+00, -8.0170e-01, ..., -1.1215e+00,\n",
              "        -6.8135e-02, -7.4253e-01],\n",
              "       [-8.7762e-01, -9.3586e-01, -1.1023e-01, ..., -7.5529e-01,\n",
              "         1.2912e+00, -7.0378e-01]])"
            ]
          },
          "metadata": {},
          "execution_count": 101
        }
      ]
    },
    {
      "cell_type": "code",
      "source": [
        "Y"
      ],
      "metadata": {
        "colab": {
          "base_uri": "https://localhost:8080/"
        },
        "outputId": "75b67f73-534e-4be1-bb07-cfa84b5f668b",
        "id": "hLv-P89TNQbp"
      },
      "execution_count": null,
      "outputs": [
        {
          "output_type": "execute_result",
          "data": {
            "text/plain": [
              "array([1., 1., 1., 1., 1., 1., 1., 1., 1., 1., 1., 1., 1., 1., 1., 1., 1.,\n",
              "       1., 1., 1., 1., 1., 1., 1., 1., 1., 1., 1., 1., 1., 1., 1., 1., 1.,\n",
              "       1., 1., 1., 1., 1., 1., 1., 1., 1., 1., 1., 1., 1., 1., 1., 1., 1.,\n",
              "       1., 1., 1., 1., 1., 1., 1., 1., 1., 1., 1., 1., 1., 1., 1., 1., 1.,\n",
              "       1., 1., 2., 2., 2., 2., 2., 2., 2., 2., 2., 2., 2., 2., 2., 2., 2.,\n",
              "       2., 2., 2., 2., 2., 2., 2., 2., 2., 2., 2., 2., 2., 2., 2., 2., 2.,\n",
              "       2., 2., 2., 2., 2., 2., 2., 2., 2., 2., 2., 2., 2., 2., 2., 2., 2.,\n",
              "       2., 2., 2., 2., 2., 2., 2., 2., 2., 2., 2., 2., 2., 2., 2., 2., 2.,\n",
              "       2., 2., 2., 2., 3., 3., 3., 3., 3., 3., 3., 3., 3., 3., 3., 3., 3.,\n",
              "       3., 3., 3., 3., 3., 3., 3., 3., 3., 3., 3., 3., 3., 3., 3., 3., 3.,\n",
              "       3., 3., 3., 3., 3., 3., 3., 3., 3., 3., 3., 3., 3., 3., 3., 3., 3.,\n",
              "       3., 3., 3., 3., 3., 3., 3., 3., 3., 3., 3., 3., 3., 3., 3., 3., 3.,\n",
              "       3., 3., 3., 3., 3., 3.])"
            ]
          },
          "metadata": {},
          "execution_count": 102
        }
      ]
    },
    {
      "cell_type": "markdown",
      "source": [
        "**5. Задайте разбиение на фолды с помощью функции KFold(n_splits= n_splits, random_state = random_state, shuffle=True) из модуля sklearn.model_selection. Результат запишите в переменную kfold. На вход данной функции подайте следующую информацию: 1) количество частей, на которые должна разбиваться выборка (n_splits), - пусть 10; 2) счетчик случайных чисел (random_state) – пусть 7; 3) необходимость перемешивания данных выборки при каждой оценке, задав параметр shuffle=True.**"
      ],
      "metadata": {
        "id": "uxrFsBNiNQbp"
      }
    },
    {
      "cell_type": "code",
      "source": [
        "kfold=KFold(n_splits=10,random_state=7,shuffle=True)"
      ],
      "metadata": {
        "id": "wZb1LT_JNQbp"
      },
      "execution_count": null,
      "outputs": []
    },
    {
      "cell_type": "markdown",
      "source": [
        "**6. Постройте модель логистической регрессии, воспользовавшись функцией LogisticRegression(solver='liblinear') из модуля sklearn.linear_model. Результат запишите в переменную model.**"
      ],
      "metadata": {
        "id": "OH4nOB1ONQbp"
      }
    },
    {
      "cell_type": "code",
      "source": [
        "model=LogisticRegression(solver='liblinear')"
      ],
      "metadata": {
        "id": "lpqClKOfNQbp"
      },
      "execution_count": null,
      "outputs": []
    },
    {
      "cell_type": "markdown",
      "source": [
        "**7. Проведите кросс-валидацию, воспользовавшись функцией cross_val_score(model, X, Y, cv=kfold) из модуля sklearn.model_selection. Результат запишите в переменную results.**"
      ],
      "metadata": {
        "id": "hmqdec25NQbp"
      }
    },
    {
      "cell_type": "code",
      "source": [
        "results=cross_val_score(model, X, Y, cv=kfold) # cv - это количество раз разбивки данных на обучающий и тестовый наборы,обучение на них, тестирование и вывод обобщенного лучшего варианта"
      ],
      "metadata": {
        "id": "5DyxJYiqNQbp"
      },
      "execution_count": null,
      "outputs": []
    },
    {
      "cell_type": "markdown",
      "source": [
        "**8. Выведите на экран среднюю долю правильных ответов (accuracy) и стандартное отклонение полученных оценок, воспользовавшись функциями mean() и std() соответственно.**"
      ],
      "metadata": {
        "id": "kAge9oQTNQbq"
      }
    },
    {
      "cell_type": "code",
      "source": [
        "results.mean()"
      ],
      "metadata": {
        "colab": {
          "base_uri": "https://localhost:8080/"
        },
        "outputId": "727cfd20-89b6-4d41-c62c-9a0c84623a1c",
        "id": "dWX6gHb-NQbq"
      },
      "execution_count": null,
      "outputs": [
        {
          "output_type": "execute_result",
          "data": {
            "text/plain": [
              "0.9380952380952381"
            ]
          },
          "metadata": {},
          "execution_count": 106
        }
      ]
    },
    {
      "cell_type": "code",
      "source": [
        "results.std()"
      ],
      "metadata": {
        "colab": {
          "base_uri": "https://localhost:8080/"
        },
        "outputId": "b0c959a3-e2ea-4f44-fff9-1c61786078b1",
        "id": "GV6zBmaONQbq"
      },
      "execution_count": null,
      "outputs": [
        {
          "output_type": "execute_result",
          "data": {
            "text/plain": [
              "0.0604217978116644"
            ]
          },
          "metadata": {},
          "execution_count": 107
        }
      ]
    },
    {
      "cell_type": "markdown",
      "source": [
        "**9. Обучите модель на всех данных с помощью функции fit().**\n",
        "\n",
        "**10. Выведите на экран свободный член и значения коэффициентов регрессии при факторных признаках, которая разделяет классы, обратившись, соответственно, к атрибутам intercept_shape и coef_shape. Запишите математически уравнение регрессии.**"
      ],
      "metadata": {
        "id": "XaJ3ivYtNQbq"
      }
    },
    {
      "cell_type": "code",
      "source": [
        "model.fit(X,Y)"
      ],
      "metadata": {
        "colab": {
          "base_uri": "https://localhost:8080/"
        },
        "outputId": "e2720fc0-a0c9-4195-8072-c7223fc91842",
        "id": "Ul2A990INQbq"
      },
      "execution_count": null,
      "outputs": [
        {
          "output_type": "execute_result",
          "data": {
            "text/plain": [
              "LogisticRegression(solver='liblinear')"
            ]
          },
          "metadata": {},
          "execution_count": 108
        }
      ]
    },
    {
      "cell_type": "code",
      "source": [
        "model.intercept_.shape"
      ],
      "metadata": {
        "colab": {
          "base_uri": "https://localhost:8080/"
        },
        "outputId": "add8df13-3c9c-423b-d0f1-5d56a8b64e23",
        "id": "S-q4OQOPNQbq"
      },
      "execution_count": null,
      "outputs": [
        {
          "output_type": "execute_result",
          "data": {
            "text/plain": [
              "(3,)"
            ]
          },
          "metadata": {},
          "execution_count": 109
        }
      ]
    },
    {
      "cell_type": "code",
      "source": [
        "model.coef_.shape"
      ],
      "metadata": {
        "colab": {
          "base_uri": "https://localhost:8080/"
        },
        "outputId": "58f299d3-99f1-4b71-86d6-bbf0194262e8",
        "id": "tZf8f5VANQbq"
      },
      "execution_count": null,
      "outputs": [
        {
          "output_type": "execute_result",
          "data": {
            "text/plain": [
              "(3, 7)"
            ]
          },
          "metadata": {},
          "execution_count": 110
        }
      ]
    },
    {
      "cell_type": "code",
      "source": [
        "model.intercept_"
      ],
      "metadata": {
        "colab": {
          "base_uri": "https://localhost:8080/"
        },
        "outputId": "d5f47973-458d-49e1-f397-a8110953be45",
        "id": "2G1oXhTKNQbq"
      },
      "execution_count": null,
      "outputs": [
        {
          "output_type": "execute_result",
          "data": {
            "text/plain": [
              "array([-1.1665, -1.6525, -2.0542])"
            ]
          },
          "metadata": {},
          "execution_count": 111
        }
      ]
    },
    {
      "cell_type": "code",
      "source": [
        "model.coef_"
      ],
      "metadata": {
        "colab": {
          "base_uri": "https://localhost:8080/"
        },
        "outputId": "ba2d8acb-d215-48a1-9de9-83de9ae831a0",
        "id": "X26GwgCdNQbq"
      },
      "execution_count": null,
      "outputs": [
        {
          "output_type": "execute_result",
          "data": {
            "text/plain": [
              "array([[-0.2324,  0.7073,  0.4595,  2.2141, -0.1117, -1.1601, -3.9337],\n",
              "       [ 1.0697,  1.0903, -0.028 , -0.1881,  0.8726,  0.7695,  2.1911],\n",
              "       [-1.192 , -1.368 , -0.5525, -1.4315, -0.9061,  1.3031,  1.488 ]])"
            ]
          },
          "metadata": {},
          "execution_count": 112
        }
      ]
    },
    {
      "cell_type": "markdown",
      "source": [
        "**11. Произвольно задайте значения факторных признаков для двух новых наблюдений. Поместите их в переменную x_new. Например, np.array([[0,136,42,34,136,43,2,32],[0,137,40,35,168,43.1,2.288,33]]).**\n",
        "\n",
        "**12. По обученной модели дайте прогноз классов для новых наблюдений, воспользовавшись функцией predict().**\n"
      ],
      "metadata": {
        "id": "jYv12fjkNQbr"
      }
    },
    {
      "cell_type": "code",
      "source": [
        "Y_pred = model.predict(X)\n",
        "# подставляем наши данные в обученную модель и смотрим что\n",
        "# исходя из параметров пациенты скорей всего заболеют, т.е.\n",
        "# их можно отнести к группе риска"
      ],
      "metadata": {
        "id": "RLcKD6ZENQbr"
      },
      "execution_count": null,
      "outputs": []
    },
    {
      "cell_type": "code",
      "source": [
        "Y_pred"
      ],
      "metadata": {
        "colab": {
          "base_uri": "https://localhost:8080/"
        },
        "outputId": "c8746f91-40b3-43d4-a501-232547a3bd07",
        "id": "vKRSzBB-NQbr"
      },
      "execution_count": null,
      "outputs": [
        {
          "output_type": "execute_result",
          "data": {
            "text/plain": [
              "array([1., 1., 1., 1., 1., 1., 1., 1., 2., 1., 1., 1., 1., 1., 1., 1., 1.,\n",
              "       1., 1., 3., 1., 1., 1., 1., 1., 1., 1., 1., 1., 1., 1., 1., 1., 1.,\n",
              "       1., 1., 2., 1., 1., 3., 1., 1., 1., 2., 1., 1., 1., 1., 1., 1., 1.,\n",
              "       1., 3., 1., 1., 1., 1., 1., 1., 1., 1., 1., 1., 3., 1., 1., 1., 1.,\n",
              "       1., 3., 2., 2., 2., 2., 2., 2., 2., 2., 2., 2., 2., 2., 2., 2., 2.,\n",
              "       2., 2., 2., 2., 2., 2., 2., 2., 2., 2., 2., 2., 2., 2., 2., 2., 2.,\n",
              "       2., 2., 2., 2., 2., 2., 2., 2., 2., 2., 2., 2., 2., 2., 2., 2., 2.,\n",
              "       2., 2., 2., 2., 2., 1., 2., 2., 2., 2., 2., 2., 2., 2., 2., 2., 2.,\n",
              "       2., 2., 2., 2., 3., 3., 3., 3., 3., 3., 3., 3., 3., 3., 3., 3., 3.,\n",
              "       3., 3., 3., 3., 3., 3., 3., 3., 3., 3., 3., 3., 3., 3., 3., 3., 3.,\n",
              "       3., 3., 3., 3., 3., 3., 3., 3., 3., 1., 3., 3., 3., 3., 3., 3., 3.,\n",
              "       3., 3., 3., 3., 3., 3., 3., 3., 3., 3., 3., 3., 1., 3., 1., 3., 3.,\n",
              "       3., 3., 3., 3., 3., 3.])"
            ]
          },
          "metadata": {},
          "execution_count": 142
        }
      ]
    },
    {
      "cell_type": "code",
      "source": [
        "Y"
      ],
      "metadata": {
        "colab": {
          "base_uri": "https://localhost:8080/"
        },
        "outputId": "481dc3e6-1310-4d6a-a8c1-443dd0d333f8",
        "id": "kKdqBLqjNQbr"
      },
      "execution_count": null,
      "outputs": [
        {
          "output_type": "execute_result",
          "data": {
            "text/plain": [
              "array([1., 1., 1., 1., 1., 1., 1., 1., 1., 1., 1., 1., 1., 1., 1., 1., 1.,\n",
              "       1., 1., 1., 1., 1., 1., 1., 1., 1., 1., 1., 1., 1., 1., 1., 1., 1.,\n",
              "       1., 1., 1., 1., 1., 1., 1., 1., 1., 1., 1., 1., 1., 1., 1., 1., 1.,\n",
              "       1., 1., 1., 1., 1., 1., 1., 1., 1., 1., 1., 1., 1., 1., 1., 1., 1.,\n",
              "       1., 1., 2., 2., 2., 2., 2., 2., 2., 2., 2., 2., 2., 2., 2., 2., 2.,\n",
              "       2., 2., 2., 2., 2., 2., 2., 2., 2., 2., 2., 2., 2., 2., 2., 2., 2.,\n",
              "       2., 2., 2., 2., 2., 2., 2., 2., 2., 2., 2., 2., 2., 2., 2., 2., 2.,\n",
              "       2., 2., 2., 2., 2., 2., 2., 2., 2., 2., 2., 2., 2., 2., 2., 2., 2.,\n",
              "       2., 2., 2., 2., 3., 3., 3., 3., 3., 3., 3., 3., 3., 3., 3., 3., 3.,\n",
              "       3., 3., 3., 3., 3., 3., 3., 3., 3., 3., 3., 3., 3., 3., 3., 3., 3.,\n",
              "       3., 3., 3., 3., 3., 3., 3., 3., 3., 3., 3., 3., 3., 3., 3., 3., 3.,\n",
              "       3., 3., 3., 3., 3., 3., 3., 3., 3., 3., 3., 3., 3., 3., 3., 3., 3.,\n",
              "       3., 3., 3., 3., 3., 3.])"
            ]
          },
          "metadata": {},
          "execution_count": 136
        }
      ]
    },
    {
      "cell_type": "code",
      "source": [
        "from sklearn.metrics import r2_score, mean_absolute_error, mean_squared_error\n",
        "R2=r2_score(Y, Y_pred)\n",
        "R2"
      ],
      "metadata": {
        "colab": {
          "base_uri": "https://localhost:8080/"
        },
        "outputId": "487f392f-829e-474d-aa9e-a9bfbec99cfb",
        "id": "CZ_JSIKnNQbr"
      },
      "execution_count": null,
      "outputs": [
        {
          "output_type": "execute_result",
          "data": {
            "text/plain": [
              "0.7428571428571429"
            ]
          },
          "metadata": {},
          "execution_count": 143
        }
      ]
    },
    {
      "cell_type": "markdown",
      "source": [
        "# **+: после стандартизации прогноз улучшился на 2 единицы с 0.72 до 0.74**\n",
        "# **-: не знаю как получить прогноз из исзодныз данных(бкз стандартизации), получается хрень**"
      ],
      "metadata": {
        "id": "d4snkCKsbhoM"
      }
    },
    {
      "cell_type": "markdown",
      "source": [
        "**вводим конкретные данные:**"
      ],
      "metadata": {
        "id": "I1-PL_ZuNQbr"
      }
    },
    {
      "cell_type": "code",
      "source": [
        "x_new=np.array([[14.88,14.57,0.88,5.55,3.33,1.02,4.96\t],[11.23,12.88,0.85,5.14,2.79,4.33,5.00\t]])\n",
        "# это данные 2-х пациентов щас проверим заболеют или нет"
      ],
      "metadata": {
        "id": "Swn_XCX_NQbr"
      },
      "execution_count": null,
      "outputs": []
    },
    {
      "cell_type": "code",
      "source": [
        "model.predict(x_new) # сюда заносим конкретные данные и смотрим прогноз"
      ],
      "metadata": {
        "colab": {
          "base_uri": "https://localhost:8080/"
        },
        "outputId": "2b372e39-77b1-4fb2-ec9b-a5ec77f5ac76",
        "id": "-dtZ_6c1NQbr"
      },
      "execution_count": null,
      "outputs": [
        {
          "output_type": "execute_result",
          "data": {
            "text/plain": [
              "array([2., 2.])"
            ]
          },
          "metadata": {},
          "execution_count": 122
        }
      ]
    },
    {
      "cell_type": "markdown",
      "source": [
        "**13. По обученной модели дайте прогноз вероятности классов для новых наблюдений, воспользовавшись функцией predict_proba().**"
      ],
      "metadata": {
        "id": "stMOw4YYNQbr"
      }
    },
    {
      "cell_type": "code",
      "source": [
        "model.predict_proba(x_new)\n",
        "# нулевой столбец - это нулевой класс\n",
        "# первый столбец - это первый класс\n",
        "# первая строка - это первые данные (здесь с вероятностью 96% относится к 1-ому типу)\n",
        "# вторая строка = это вторые данные (здесь с вероятностью 83% относится к 3-ему типу)"
      ],
      "metadata": {
        "colab": {
          "base_uri": "https://localhost:8080/"
        },
        "outputId": "3a231242-3da1-46a2-e058-6e2e5078f244",
        "id": "WE-aSRykNQbs"
      },
      "execution_count": null,
      "outputs": [
        {
          "output_type": "execute_result",
          "data": {
            "text/plain": [
              "array([[5.9672e-02, 9.4033e-01, 3.4078e-19],\n",
              "       [3.7134e-04, 9.9963e-01, 6.7033e-14]])"
            ]
          },
          "metadata": {},
          "execution_count": 123
        }
      ]
    }
  ]
}