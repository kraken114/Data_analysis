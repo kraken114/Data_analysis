{
  "nbformat": 4,
  "nbformat_minor": 0,
  "metadata": {
    "colab": {
      "provenance": []
    },
    "kernelspec": {
      "name": "python3",
      "display_name": "Python 3"
    },
    "language_info": {
      "name": "python"
    }
  },
  "cells": [
    {
      "cell_type": "code",
      "execution_count": null,
      "metadata": {
        "id": "Xe82gu7al8H2"
      },
      "outputs": [],
      "source": []
    },
    {
      "cell_type": "markdown",
      "source": [
        "# **____________________ВСТАВКА___________________________**"
      ],
      "metadata": {
        "id": "cJZgqVS-n45o"
      }
    },
    {
      "cell_type": "code",
      "source": [
        "coef=np.polyfit(x_train,y_train, deg=1)\n",
        "coef # в ответе первое число - значение при факторе, второе - свободный член\n",
        "array([ 0.35096728, 25.69587482])"
      ],
      "metadata": {
        "id": "Hcz0v5O1mZ6w"
      },
      "execution_count": null,
      "outputs": []
    },
    {
      "cell_type": "markdown",
      "source": [
        "**РАЗЪЯСНЕНИЕ:** значения coef - это значения свободных членов для уравнения прямой\n",
        "\n",
        "**у = 0.35096728 * х + 25.69587482**"
      ],
      "metadata": {
        "id": "miH-CEeUkjR1"
      }
    },
    {
      "cell_type": "markdown",
      "source": [
        "**в уравнении у = 0.35096728 * х + 25.69587482 находим Y через X методом numpy**"
      ],
      "metadata": {
        "id": "zCa3HocDl4K9"
      }
    },
    {
      "cell_type": "code",
      "source": [
        "predict = np.poly1d(coef)\n",
        "x_value = 38\n",
        "predict(x_test)"
      ],
      "metadata": {
        "colab": {
          "base_uri": "https://localhost:8080/"
        },
        "id": "_dSqc2QLl91T",
        "outputId": "78414dea-026e-45c3-ca51-143065700808"
      },
      "execution_count": null,
      "outputs": [
        {
          "output_type": "execute_result",
          "data": {
            "text/plain": [
              "array([39.38359886, 39.73456615, 40.08553343, 40.43650071, 40.78746799,\n",
              "       41.13843528, 41.48940256, 41.84036984, 42.19133713, 42.54230441])"
            ]
          },
          "metadata": {},
          "execution_count": 140
        }
      ]
    }
  ]
}