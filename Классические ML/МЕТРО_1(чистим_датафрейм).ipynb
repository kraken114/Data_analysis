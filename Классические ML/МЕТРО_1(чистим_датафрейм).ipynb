{
  "nbformat": 4,
  "nbformat_minor": 0,
  "metadata": {
    "colab": {
      "provenance": []
    },
    "kernelspec": {
      "name": "python3",
      "display_name": "Python 3"
    },
    "language_info": {
      "name": "python"
    }
  },
  "cells": [
    {
      "cell_type": "markdown",
      "source": [
        "# **ЗАГРУЗКА_ДАННЫХ**"
      ],
      "metadata": {
        "id": "B1q1etiv-JqM"
      }
    },
    {
      "cell_type": "markdown",
      "source": [
        "______________________________________________________________________"
      ],
      "metadata": {
        "id": "63FvgKOH-XbF"
      }
    },
    {
      "cell_type": "markdown",
      "source": [
        "# **НАЧАЛО:**"
      ],
      "metadata": {
        "id": "zPwgpuhS-QnX"
      }
    },
    {
      "cell_type": "code",
      "execution_count": null,
      "metadata": {
        "colab": {
          "base_uri": "https://localhost:8080/"
        },
        "id": "kVfTBgdONjI3",
        "outputId": "d5e21c39-dfbb-4212-9768-4b060bb53055"
      },
      "outputs": [
        {
          "output_type": "stream",
          "name": "stdout",
          "text": [
            "Mounted at /content/gdrive\n"
          ]
        }
      ],
      "source": [
        "from google.colab import drive\n",
        "drive.mount('/content/gdrive')"
      ]
    },
    {
      "cell_type": "code",
      "source": [
        "import os\n",
        "import pandas as pd\n",
        "import numpy as np\n",
        "from pandas import read_csv\n",
        "from sklearn.model_selection import KFold # делит выборку на фолды\n",
        "from sklearn.model_selection import cross_val_score # кросс валидация,\n",
        "from sklearn.linear_model import LinearRegression\n",
        "from sklearn.linear_model import Ridge\n",
        "from sklearn.linear_model import Lasso\n",
        "from sklearn.linear_model import ElasticNet"
      ],
      "metadata": {
        "id": "UkG4NuHKNupe"
      },
      "execution_count": null,
      "outputs": []
    },
    {
      "cell_type": "code",
      "source": [
        "os.chdir('/content/gdrive/MyDrive/Colab Notebooks/наборы данных')"
      ],
      "metadata": {
        "id": "5T8t3BqxOj-3"
      },
      "execution_count": null,
      "outputs": []
    },
    {
      "cell_type": "code",
      "source": [
        "df=read_csv('Metro_Interstate_Traffic_Volume.csv')"
      ],
      "metadata": {
        "id": "iA149PaCaZtU"
      },
      "execution_count": null,
      "outputs": []
    },
    {
      "cell_type": "code",
      "source": [
        "df.head(4)"
      ],
      "metadata": {
        "colab": {
          "base_uri": "https://localhost:8080/",
          "height": 175
        },
        "id": "tK-ttVDI0TRo",
        "outputId": "6dd83138-5c3a-4fcf-fd97-35d520e259b5"
      },
      "execution_count": null,
      "outputs": [
        {
          "output_type": "execute_result",
          "data": {
            "text/plain": [
              "  holiday    temp  rain_1h  snow_1h  clouds_all weather_main  \\\n",
              "0    None  288.28      0.0      0.0          40       Clouds   \n",
              "1    None  289.36      0.0      0.0          75       Clouds   \n",
              "2    None  289.58      0.0      0.0          90       Clouds   \n",
              "3    None  290.13      0.0      0.0          90       Clouds   \n",
              "\n",
              "  weather_description            date_time  traffic_volume  \n",
              "0    scattered clouds  2012-10-02 09:00:00            5545  \n",
              "1       broken clouds  2012-10-02 10:00:00            4516  \n",
              "2     overcast clouds  2012-10-02 11:00:00            4767  \n",
              "3     overcast clouds  2012-10-02 12:00:00            5026  "
            ],
            "text/html": [
              "\n",
              "  <div id=\"df-22f85816-860e-4328-8757-3918dfa6d292\">\n",
              "    <div class=\"colab-df-container\">\n",
              "      <div>\n",
              "<style scoped>\n",
              "    .dataframe tbody tr th:only-of-type {\n",
              "        vertical-align: middle;\n",
              "    }\n",
              "\n",
              "    .dataframe tbody tr th {\n",
              "        vertical-align: top;\n",
              "    }\n",
              "\n",
              "    .dataframe thead th {\n",
              "        text-align: right;\n",
              "    }\n",
              "</style>\n",
              "<table border=\"1\" class=\"dataframe\">\n",
              "  <thead>\n",
              "    <tr style=\"text-align: right;\">\n",
              "      <th></th>\n",
              "      <th>holiday</th>\n",
              "      <th>temp</th>\n",
              "      <th>rain_1h</th>\n",
              "      <th>snow_1h</th>\n",
              "      <th>clouds_all</th>\n",
              "      <th>weather_main</th>\n",
              "      <th>weather_description</th>\n",
              "      <th>date_time</th>\n",
              "      <th>traffic_volume</th>\n",
              "    </tr>\n",
              "  </thead>\n",
              "  <tbody>\n",
              "    <tr>\n",
              "      <th>0</th>\n",
              "      <td>None</td>\n",
              "      <td>288.28</td>\n",
              "      <td>0.0</td>\n",
              "      <td>0.0</td>\n",
              "      <td>40</td>\n",
              "      <td>Clouds</td>\n",
              "      <td>scattered clouds</td>\n",
              "      <td>2012-10-02 09:00:00</td>\n",
              "      <td>5545</td>\n",
              "    </tr>\n",
              "    <tr>\n",
              "      <th>1</th>\n",
              "      <td>None</td>\n",
              "      <td>289.36</td>\n",
              "      <td>0.0</td>\n",
              "      <td>0.0</td>\n",
              "      <td>75</td>\n",
              "      <td>Clouds</td>\n",
              "      <td>broken clouds</td>\n",
              "      <td>2012-10-02 10:00:00</td>\n",
              "      <td>4516</td>\n",
              "    </tr>\n",
              "    <tr>\n",
              "      <th>2</th>\n",
              "      <td>None</td>\n",
              "      <td>289.58</td>\n",
              "      <td>0.0</td>\n",
              "      <td>0.0</td>\n",
              "      <td>90</td>\n",
              "      <td>Clouds</td>\n",
              "      <td>overcast clouds</td>\n",
              "      <td>2012-10-02 11:00:00</td>\n",
              "      <td>4767</td>\n",
              "    </tr>\n",
              "    <tr>\n",
              "      <th>3</th>\n",
              "      <td>None</td>\n",
              "      <td>290.13</td>\n",
              "      <td>0.0</td>\n",
              "      <td>0.0</td>\n",
              "      <td>90</td>\n",
              "      <td>Clouds</td>\n",
              "      <td>overcast clouds</td>\n",
              "      <td>2012-10-02 12:00:00</td>\n",
              "      <td>5026</td>\n",
              "    </tr>\n",
              "  </tbody>\n",
              "</table>\n",
              "</div>\n",
              "      <button class=\"colab-df-convert\" onclick=\"convertToInteractive('df-22f85816-860e-4328-8757-3918dfa6d292')\"\n",
              "              title=\"Convert this dataframe to an interactive table.\"\n",
              "              style=\"display:none;\">\n",
              "        \n",
              "  <svg xmlns=\"http://www.w3.org/2000/svg\" height=\"24px\"viewBox=\"0 0 24 24\"\n",
              "       width=\"24px\">\n",
              "    <path d=\"M0 0h24v24H0V0z\" fill=\"none\"/>\n",
              "    <path d=\"M18.56 5.44l.94 2.06.94-2.06 2.06-.94-2.06-.94-.94-2.06-.94 2.06-2.06.94zm-11 1L8.5 8.5l.94-2.06 2.06-.94-2.06-.94L8.5 2.5l-.94 2.06-2.06.94zm10 10l.94 2.06.94-2.06 2.06-.94-2.06-.94-.94-2.06-.94 2.06-2.06.94z\"/><path d=\"M17.41 7.96l-1.37-1.37c-.4-.4-.92-.59-1.43-.59-.52 0-1.04.2-1.43.59L10.3 9.45l-7.72 7.72c-.78.78-.78 2.05 0 2.83L4 21.41c.39.39.9.59 1.41.59.51 0 1.02-.2 1.41-.59l7.78-7.78 2.81-2.81c.8-.78.8-2.07 0-2.86zM5.41 20L4 18.59l7.72-7.72 1.47 1.35L5.41 20z\"/>\n",
              "  </svg>\n",
              "      </button>\n",
              "      \n",
              "  <style>\n",
              "    .colab-df-container {\n",
              "      display:flex;\n",
              "      flex-wrap:wrap;\n",
              "      gap: 12px;\n",
              "    }\n",
              "\n",
              "    .colab-df-convert {\n",
              "      background-color: #E8F0FE;\n",
              "      border: none;\n",
              "      border-radius: 50%;\n",
              "      cursor: pointer;\n",
              "      display: none;\n",
              "      fill: #1967D2;\n",
              "      height: 32px;\n",
              "      padding: 0 0 0 0;\n",
              "      width: 32px;\n",
              "    }\n",
              "\n",
              "    .colab-df-convert:hover {\n",
              "      background-color: #E2EBFA;\n",
              "      box-shadow: 0px 1px 2px rgba(60, 64, 67, 0.3), 0px 1px 3px 1px rgba(60, 64, 67, 0.15);\n",
              "      fill: #174EA6;\n",
              "    }\n",
              "\n",
              "    [theme=dark] .colab-df-convert {\n",
              "      background-color: #3B4455;\n",
              "      fill: #D2E3FC;\n",
              "    }\n",
              "\n",
              "    [theme=dark] .colab-df-convert:hover {\n",
              "      background-color: #434B5C;\n",
              "      box-shadow: 0px 1px 3px 1px rgba(0, 0, 0, 0.15);\n",
              "      filter: drop-shadow(0px 1px 2px rgba(0, 0, 0, 0.3));\n",
              "      fill: #FFFFFF;\n",
              "    }\n",
              "  </style>\n",
              "\n",
              "      <script>\n",
              "        const buttonEl =\n",
              "          document.querySelector('#df-22f85816-860e-4328-8757-3918dfa6d292 button.colab-df-convert');\n",
              "        buttonEl.style.display =\n",
              "          google.colab.kernel.accessAllowed ? 'block' : 'none';\n",
              "\n",
              "        async function convertToInteractive(key) {\n",
              "          const element = document.querySelector('#df-22f85816-860e-4328-8757-3918dfa6d292');\n",
              "          const dataTable =\n",
              "            await google.colab.kernel.invokeFunction('convertToInteractive',\n",
              "                                                     [key], {});\n",
              "          if (!dataTable) return;\n",
              "\n",
              "          const docLinkHtml = 'Like what you see? Visit the ' +\n",
              "            '<a target=\"_blank\" href=https://colab.research.google.com/notebooks/data_table.ipynb>data table notebook</a>'\n",
              "            + ' to learn more about interactive tables.';\n",
              "          element.innerHTML = '';\n",
              "          dataTable['output_type'] = 'display_data';\n",
              "          await google.colab.output.renderOutput(dataTable, element);\n",
              "          const docLink = document.createElement('div');\n",
              "          docLink.innerHTML = docLinkHtml;\n",
              "          element.appendChild(docLink);\n",
              "        }\n",
              "      </script>\n",
              "    </div>\n",
              "  </div>\n",
              "  "
            ]
          },
          "metadata": {},
          "execution_count": 5
        }
      ]
    },
    {
      "cell_type": "markdown",
      "source": [
        "# **КОНЕЦ.**"
      ],
      "metadata": {
        "id": "6sRgvAcs_9Vc"
      }
    },
    {
      "cell_type": "markdown",
      "source": [
        "_____________________________________________________________________________"
      ],
      "metadata": {
        "id": "Cks6CsMkAAjP"
      }
    },
    {
      "cell_type": "markdown",
      "source": [
        "# **ОБРАБОТКА_ДАННЫХ**"
      ],
      "metadata": {
        "id": "x9onwtOWB2xd"
      }
    },
    {
      "cell_type": "markdown",
      "source": [
        "# **НАЧАЛО:**"
      ],
      "metadata": {
        "id": "0CMH9ukNCC_s"
      }
    },
    {
      "cell_type": "code",
      "source": [
        "df.date_time = pd.to_datetime(df.date_time) # перевод столбца в datetime"
      ],
      "metadata": {
        "id": "91tRT2xD_61o"
      },
      "execution_count": null,
      "outputs": []
    },
    {
      "cell_type": "code",
      "source": [
        "df.weather_main = pd.Categorical(df.weather_main).codes.astype('int')"
      ],
      "metadata": {
        "id": "xDsQlNOEBbMN"
      },
      "execution_count": null,
      "outputs": []
    },
    {
      "cell_type": "code",
      "source": [
        "df.weather_description = pd.Categorical(df.weather_description).codes.astype('int')"
      ],
      "metadata": {
        "id": "2BUD5PlRBbMT"
      },
      "execution_count": null,
      "outputs": []
    },
    {
      "cell_type": "code",
      "source": [
        "df['hour'] = df.date_time.dt.hour #делаем столбец с часами"
      ],
      "metadata": {
        "id": "sq020m2i_61u"
      },
      "execution_count": null,
      "outputs": []
    },
    {
      "cell_type": "code",
      "source": [
        "df['month'] = df.date_time.dt.month #делаем столбец с месяцами"
      ],
      "metadata": {
        "id": "HXLaAfUe_61u"
      },
      "execution_count": null,
      "outputs": []
    },
    {
      "cell_type": "code",
      "source": [
        "df.drop(['holiday'],axis=1,inplace=True)"
      ],
      "metadata": {
        "id": "M8HUh9FMD1is"
      },
      "execution_count": null,
      "outputs": []
    },
    {
      "cell_type": "code",
      "source": [
        "#df.drop(['holiday','rain_1h','snow_1h'],axis=1,inplace=True)"
      ],
      "metadata": {
        "id": "h1cgYFWWAVdc"
      },
      "execution_count": null,
      "outputs": []
    },
    {
      "cell_type": "code",
      "source": [
        "df = df.reindex(columns=['temp',\t'clouds_all',\t'rain_1h', 'snow_1h', 'weather_main',\t'weather_description',\t'month',\t'hour', 'traffic_volume',\t'date_time'])"
      ],
      "metadata": {
        "id": "LEP4qUcgAn9P"
      },
      "execution_count": null,
      "outputs": []
    },
    {
      "cell_type": "code",
      "source": [
        "df.dtypes"
      ],
      "metadata": {
        "colab": {
          "base_uri": "https://localhost:8080/"
        },
        "id": "qPWyDyxaCary",
        "outputId": "b07c7210-99ee-4ff2-e71c-cb13e4ec7797"
      },
      "execution_count": null,
      "outputs": [
        {
          "output_type": "execute_result",
          "data": {
            "text/plain": [
              "temp                          float64\n",
              "clouds_all                      int64\n",
              "rain_1h                       float64\n",
              "snow_1h                       float64\n",
              "weather_main                    int64\n",
              "weather_description             int64\n",
              "month                           int64\n",
              "hour                            int64\n",
              "traffic_volume                  int64\n",
              "date_time              datetime64[ns]\n",
              "dtype: object"
            ]
          },
          "metadata": {},
          "execution_count": 14
        }
      ]
    },
    {
      "cell_type": "code",
      "source": [
        "df.tail(4)"
      ],
      "metadata": {
        "colab": {
          "base_uri": "https://localhost:8080/",
          "height": 175
        },
        "id": "4il_qEyABJg5",
        "outputId": "aef7222a-d18a-46d7-b291-4970d111e10f"
      },
      "execution_count": null,
      "outputs": [
        {
          "output_type": "execute_result",
          "data": {
            "text/plain": [
              "         temp  clouds_all  rain_1h  snow_1h  weather_main  \\\n",
              "48200  282.76          90      0.0      0.0             1   \n",
              "48201  282.73          90      0.0      0.0            10   \n",
              "48202  282.09          90      0.0      0.0             1   \n",
              "48203  282.12          90      0.0      0.0             1   \n",
              "\n",
              "       weather_description  month  hour  traffic_volume           date_time  \n",
              "48200                   19      9    20            2781 2018-09-30 20:00:00  \n",
              "48201                   21      9    21            2159 2018-09-30 21:00:00  \n",
              "48202                   19      9    22            1450 2018-09-30 22:00:00  \n",
              "48203                   19      9    23             954 2018-09-30 23:00:00  "
            ],
            "text/html": [
              "\n",
              "  <div id=\"df-df5bbc9c-77b3-4609-a74a-ff931770fb22\">\n",
              "    <div class=\"colab-df-container\">\n",
              "      <div>\n",
              "<style scoped>\n",
              "    .dataframe tbody tr th:only-of-type {\n",
              "        vertical-align: middle;\n",
              "    }\n",
              "\n",
              "    .dataframe tbody tr th {\n",
              "        vertical-align: top;\n",
              "    }\n",
              "\n",
              "    .dataframe thead th {\n",
              "        text-align: right;\n",
              "    }\n",
              "</style>\n",
              "<table border=\"1\" class=\"dataframe\">\n",
              "  <thead>\n",
              "    <tr style=\"text-align: right;\">\n",
              "      <th></th>\n",
              "      <th>temp</th>\n",
              "      <th>clouds_all</th>\n",
              "      <th>rain_1h</th>\n",
              "      <th>snow_1h</th>\n",
              "      <th>weather_main</th>\n",
              "      <th>weather_description</th>\n",
              "      <th>month</th>\n",
              "      <th>hour</th>\n",
              "      <th>traffic_volume</th>\n",
              "      <th>date_time</th>\n",
              "    </tr>\n",
              "  </thead>\n",
              "  <tbody>\n",
              "    <tr>\n",
              "      <th>48200</th>\n",
              "      <td>282.76</td>\n",
              "      <td>90</td>\n",
              "      <td>0.0</td>\n",
              "      <td>0.0</td>\n",
              "      <td>1</td>\n",
              "      <td>19</td>\n",
              "      <td>9</td>\n",
              "      <td>20</td>\n",
              "      <td>2781</td>\n",
              "      <td>2018-09-30 20:00:00</td>\n",
              "    </tr>\n",
              "    <tr>\n",
              "      <th>48201</th>\n",
              "      <td>282.73</td>\n",
              "      <td>90</td>\n",
              "      <td>0.0</td>\n",
              "      <td>0.0</td>\n",
              "      <td>10</td>\n",
              "      <td>21</td>\n",
              "      <td>9</td>\n",
              "      <td>21</td>\n",
              "      <td>2159</td>\n",
              "      <td>2018-09-30 21:00:00</td>\n",
              "    </tr>\n",
              "    <tr>\n",
              "      <th>48202</th>\n",
              "      <td>282.09</td>\n",
              "      <td>90</td>\n",
              "      <td>0.0</td>\n",
              "      <td>0.0</td>\n",
              "      <td>1</td>\n",
              "      <td>19</td>\n",
              "      <td>9</td>\n",
              "      <td>22</td>\n",
              "      <td>1450</td>\n",
              "      <td>2018-09-30 22:00:00</td>\n",
              "    </tr>\n",
              "    <tr>\n",
              "      <th>48203</th>\n",
              "      <td>282.12</td>\n",
              "      <td>90</td>\n",
              "      <td>0.0</td>\n",
              "      <td>0.0</td>\n",
              "      <td>1</td>\n",
              "      <td>19</td>\n",
              "      <td>9</td>\n",
              "      <td>23</td>\n",
              "      <td>954</td>\n",
              "      <td>2018-09-30 23:00:00</td>\n",
              "    </tr>\n",
              "  </tbody>\n",
              "</table>\n",
              "</div>\n",
              "      <button class=\"colab-df-convert\" onclick=\"convertToInteractive('df-df5bbc9c-77b3-4609-a74a-ff931770fb22')\"\n",
              "              title=\"Convert this dataframe to an interactive table.\"\n",
              "              style=\"display:none;\">\n",
              "        \n",
              "  <svg xmlns=\"http://www.w3.org/2000/svg\" height=\"24px\"viewBox=\"0 0 24 24\"\n",
              "       width=\"24px\">\n",
              "    <path d=\"M0 0h24v24H0V0z\" fill=\"none\"/>\n",
              "    <path d=\"M18.56 5.44l.94 2.06.94-2.06 2.06-.94-2.06-.94-.94-2.06-.94 2.06-2.06.94zm-11 1L8.5 8.5l.94-2.06 2.06-.94-2.06-.94L8.5 2.5l-.94 2.06-2.06.94zm10 10l.94 2.06.94-2.06 2.06-.94-2.06-.94-.94-2.06-.94 2.06-2.06.94z\"/><path d=\"M17.41 7.96l-1.37-1.37c-.4-.4-.92-.59-1.43-.59-.52 0-1.04.2-1.43.59L10.3 9.45l-7.72 7.72c-.78.78-.78 2.05 0 2.83L4 21.41c.39.39.9.59 1.41.59.51 0 1.02-.2 1.41-.59l7.78-7.78 2.81-2.81c.8-.78.8-2.07 0-2.86zM5.41 20L4 18.59l7.72-7.72 1.47 1.35L5.41 20z\"/>\n",
              "  </svg>\n",
              "      </button>\n",
              "      \n",
              "  <style>\n",
              "    .colab-df-container {\n",
              "      display:flex;\n",
              "      flex-wrap:wrap;\n",
              "      gap: 12px;\n",
              "    }\n",
              "\n",
              "    .colab-df-convert {\n",
              "      background-color: #E8F0FE;\n",
              "      border: none;\n",
              "      border-radius: 50%;\n",
              "      cursor: pointer;\n",
              "      display: none;\n",
              "      fill: #1967D2;\n",
              "      height: 32px;\n",
              "      padding: 0 0 0 0;\n",
              "      width: 32px;\n",
              "    }\n",
              "\n",
              "    .colab-df-convert:hover {\n",
              "      background-color: #E2EBFA;\n",
              "      box-shadow: 0px 1px 2px rgba(60, 64, 67, 0.3), 0px 1px 3px 1px rgba(60, 64, 67, 0.15);\n",
              "      fill: #174EA6;\n",
              "    }\n",
              "\n",
              "    [theme=dark] .colab-df-convert {\n",
              "      background-color: #3B4455;\n",
              "      fill: #D2E3FC;\n",
              "    }\n",
              "\n",
              "    [theme=dark] .colab-df-convert:hover {\n",
              "      background-color: #434B5C;\n",
              "      box-shadow: 0px 1px 3px 1px rgba(0, 0, 0, 0.15);\n",
              "      filter: drop-shadow(0px 1px 2px rgba(0, 0, 0, 0.3));\n",
              "      fill: #FFFFFF;\n",
              "    }\n",
              "  </style>\n",
              "\n",
              "      <script>\n",
              "        const buttonEl =\n",
              "          document.querySelector('#df-df5bbc9c-77b3-4609-a74a-ff931770fb22 button.colab-df-convert');\n",
              "        buttonEl.style.display =\n",
              "          google.colab.kernel.accessAllowed ? 'block' : 'none';\n",
              "\n",
              "        async function convertToInteractive(key) {\n",
              "          const element = document.querySelector('#df-df5bbc9c-77b3-4609-a74a-ff931770fb22');\n",
              "          const dataTable =\n",
              "            await google.colab.kernel.invokeFunction('convertToInteractive',\n",
              "                                                     [key], {});\n",
              "          if (!dataTable) return;\n",
              "\n",
              "          const docLinkHtml = 'Like what you see? Visit the ' +\n",
              "            '<a target=\"_blank\" href=https://colab.research.google.com/notebooks/data_table.ipynb>data table notebook</a>'\n",
              "            + ' to learn more about interactive tables.';\n",
              "          element.innerHTML = '';\n",
              "          dataTable['output_type'] = 'display_data';\n",
              "          await google.colab.output.renderOutput(dataTable, element);\n",
              "          const docLink = document.createElement('div');\n",
              "          docLink.innerHTML = docLinkHtml;\n",
              "          element.appendChild(docLink);\n",
              "        }\n",
              "      </script>\n",
              "    </div>\n",
              "  </div>\n",
              "  "
            ]
          },
          "metadata": {},
          "execution_count": 15
        }
      ]
    },
    {
      "cell_type": "code",
      "source": [
        "df.to_csv('metro_trffic_очищен.csv')"
      ],
      "metadata": {
        "id": "BqTuRdzCBsLr"
      },
      "execution_count": null,
      "outputs": []
    },
    {
      "cell_type": "markdown",
      "source": [
        "# **КОНЕЦ.**"
      ],
      "metadata": {
        "id": "u-Cn5_RhCKTv"
      }
    },
    {
      "cell_type": "markdown",
      "source": [
        "_______________________________________________"
      ],
      "metadata": {
        "id": "R_PQ3NVh6VOT"
      }
    },
    {
      "cell_type": "code",
      "source": [
        "df.traffic_volume.mean() # среднее"
      ],
      "metadata": {
        "colab": {
          "base_uri": "https://localhost:8080/"
        },
        "id": "YGxtzM1J5WX4",
        "outputId": "24de9437-85d5-4737-bd16-258e9d94a547"
      },
      "execution_count": null,
      "outputs": [
        {
          "output_type": "execute_result",
          "data": {
            "text/plain": [
              "3259.8183553232097"
            ]
          },
          "metadata": {},
          "execution_count": 17
        }
      ]
    },
    {
      "cell_type": "code",
      "source": [
        "print(df.var()['traffic_volume']) # дисперсия"
      ],
      "metadata": {
        "colab": {
          "base_uri": "https://localhost:8080/"
        },
        "id": "S0WvPd-c6smq",
        "outputId": "27ecca63-4617-40c7-f537-4ffa81247a2f"
      },
      "execution_count": null,
      "outputs": [
        {
          "output_type": "stream",
          "name": "stdout",
          "text": [
            "3947615.3237665403\n"
          ]
        },
        {
          "output_type": "stream",
          "name": "stderr",
          "text": [
            "/usr/local/lib/python3.7/dist-packages/ipykernel_launcher.py:1: FutureWarning: Dropping of nuisance columns in DataFrame reductions (with 'numeric_only=None') is deprecated; in a future version this will raise TypeError.  Select only valid columns before calling the reduction.\n",
            "  \"\"\"Entry point for launching an IPython kernel.\n"
          ]
        }
      ]
    },
    {
      "cell_type": "code",
      "source": [
        "df.traffic_volume.hist()"
      ],
      "metadata": {
        "id": "9wQ4vPqx5tqS"
      },
      "execution_count": null,
      "outputs": []
    },
    {
      "cell_type": "markdown",
      "source": [
        "_________________________________________"
      ],
      "metadata": {
        "id": "p0POD0ZI6iE9"
      }
    },
    {
      "cell_type": "markdown",
      "source": [
        "# **ОБУЧЕНИЕ**"
      ],
      "metadata": {
        "id": "XCuboBIEDeE6"
      }
    },
    {
      "cell_type": "markdown",
      "source": [
        "# **НАЧАЛО:**"
      ],
      "metadata": {
        "id": "AApX_Iy1EJGb"
      }
    },
    {
      "cell_type": "code",
      "source": [
        "df.shape"
      ],
      "metadata": {
        "colab": {
          "base_uri": "https://localhost:8080/"
        },
        "id": "6f1TAagQPCGu",
        "outputId": "55353de4-1c74-4b73-a947-585c0433b94d"
      },
      "execution_count": null,
      "outputs": [
        {
          "output_type": "execute_result",
          "data": {
            "text/plain": [
              "(48204, 10)"
            ]
          },
          "metadata": {},
          "execution_count": 102
        }
      ]
    },
    {
      "cell_type": "code",
      "source": [
        "array = df.iloc[:,:9].values"
      ],
      "metadata": {
        "id": "KMXx0V5IPyWU"
      },
      "execution_count": null,
      "outputs": []
    },
    {
      "cell_type": "code",
      "source": [
        "array"
      ],
      "metadata": {
        "colab": {
          "base_uri": "https://localhost:8080/"
        },
        "id": "iQ97b6s-GbZP",
        "outputId": "9c0936f3-2648-4723-b5de-be12f46b110d"
      },
      "execution_count": null,
      "outputs": [
        {
          "output_type": "execute_result",
          "data": {
            "text/plain": [
              "array([[ 288.28,   40.  ,    0.  , ...,   10.  ,    9.  , 5545.  ],\n",
              "       [ 289.36,   75.  ,    0.  , ...,   10.  ,   10.  , 4516.  ],\n",
              "       [ 289.58,   90.  ,    0.  , ...,   10.  ,   11.  , 4767.  ],\n",
              "       ...,\n",
              "       [ 282.73,   90.  ,    0.  , ...,    9.  ,   21.  , 2159.  ],\n",
              "       [ 282.09,   90.  ,    0.  , ...,    9.  ,   22.  , 1450.  ],\n",
              "       [ 282.12,   90.  ,    0.  , ...,    9.  ,   23.  ,  954.  ]])"
            ]
          },
          "metadata": {},
          "execution_count": 200
        }
      ]
    },
    {
      "cell_type": "code",
      "source": [
        "X=array[:,0:8]\n",
        "Y=array[:,8]"
      ],
      "metadata": {
        "id": "6VCwS8mPQHWv"
      },
      "execution_count": null,
      "outputs": []
    },
    {
      "cell_type": "code",
      "source": [
        "X"
      ],
      "metadata": {
        "colab": {
          "base_uri": "https://localhost:8080/"
        },
        "id": "pSn97a_UHVqr",
        "outputId": "989d22c7-a876-4d40-c376-cad038523581"
      },
      "execution_count": null,
      "outputs": [
        {
          "output_type": "execute_result",
          "data": {
            "text/plain": [
              "array([[288.28,  40.  ,   0.  , ...,  24.  ,  10.  ,   9.  ],\n",
              "       [289.36,  75.  ,   0.  , ...,   2.  ,  10.  ,  10.  ],\n",
              "       [289.58,  90.  ,   0.  , ...,  19.  ,  10.  ,  11.  ],\n",
              "       ...,\n",
              "       [282.73,  90.  ,   0.  , ...,  21.  ,   9.  ,  21.  ],\n",
              "       [282.09,  90.  ,   0.  , ...,  19.  ,   9.  ,  22.  ],\n",
              "       [282.12,  90.  ,   0.  , ...,  19.  ,   9.  ,  23.  ]])"
            ]
          },
          "metadata": {},
          "execution_count": 193
        }
      ]
    },
    {
      "cell_type": "code",
      "source": [
        "Y"
      ],
      "metadata": {
        "colab": {
          "base_uri": "https://localhost:8080/"
        },
        "id": "gvYRS7oJHW44",
        "outputId": "95804fca-d43e-421f-9204-a610adfe54fd"
      },
      "execution_count": null,
      "outputs": [
        {
          "output_type": "execute_result",
          "data": {
            "text/plain": [
              "array([5545., 4516., 4767., ..., 2159., 1450.,  954.])"
            ]
          },
          "metadata": {},
          "execution_count": 194
        }
      ]
    },
    {
      "cell_type": "code",
      "source": [
        "df.dtypes"
      ],
      "metadata": {
        "colab": {
          "base_uri": "https://localhost:8080/"
        },
        "id": "fP5Z4UtO7-5j",
        "outputId": "fca8531b-3329-4610-91e6-e8fd7a70354f"
      },
      "execution_count": null,
      "outputs": [
        {
          "output_type": "execute_result",
          "data": {
            "text/plain": [
              "temp                          float64\n",
              "clouds_all                      int64\n",
              "rain_1h                       float64\n",
              "snow_1h                       float64\n",
              "weather_main                    int64\n",
              "weather_description             int64\n",
              "month                           int64\n",
              "hour                            int64\n",
              "traffic_volume                  int64\n",
              "date_time              datetime64[ns]\n",
              "dtype: object"
            ]
          },
          "metadata": {},
          "execution_count": 23
        }
      ]
    },
    {
      "cell_type": "code",
      "source": [
        "df_date_time = df[['date_time','traffic_volume']].set_index('date_time')\n",
        "df_date_time"
      ],
      "metadata": {
        "id": "rNxdVHC38OeI"
      },
      "execution_count": null,
      "outputs": []
    },
    {
      "cell_type": "code",
      "source": [
        "df_date_time.hist() # ubisoft\n",
        "plt.show()"
      ],
      "metadata": {
        "colab": {
          "base_uri": "https://localhost:8080/",
          "height": 447
        },
        "id": "c7qMu7dF5-qe",
        "outputId": "b3c75de9-11f8-4c5b-8608-a4f9b2711ef8"
      },
      "execution_count": null,
      "outputs": [
        {
          "output_type": "error",
          "ename": "NameError",
          "evalue": "ignored",
          "traceback": [
            "\u001b[0;31m---------------------------------------------------------------------------\u001b[0m",
            "\u001b[0;31mNameError\u001b[0m                                 Traceback (most recent call last)",
            "\u001b[0;32m<ipython-input-31-dcb652015fdc>\u001b[0m in \u001b[0;36m<module>\u001b[0;34m()\u001b[0m\n\u001b[1;32m      1\u001b[0m \u001b[0mdf_date_time\u001b[0m\u001b[0;34m.\u001b[0m\u001b[0mhist\u001b[0m\u001b[0;34m(\u001b[0m\u001b[0;34m)\u001b[0m \u001b[0;31m# ubisoft\u001b[0m\u001b[0;34m\u001b[0m\u001b[0;34m\u001b[0m\u001b[0m\n\u001b[0;32m----> 2\u001b[0;31m \u001b[0mplt\u001b[0m\u001b[0;34m.\u001b[0m\u001b[0mshow\u001b[0m\u001b[0;34m(\u001b[0m\u001b[0;34m)\u001b[0m\u001b[0;34m\u001b[0m\u001b[0;34m\u001b[0m\u001b[0m\n\u001b[0m",
            "\u001b[0;31mNameError\u001b[0m: name 'plt' is not defined"
          ]
        },
        {
          "output_type": "display_data",
          "data": {
            "text/plain": [
              "<Figure size 432x288 with 1 Axes>"
            ],
            "image/png": "[encoded data removed]"
          },
          "metadata": {
            "needs_background": "light"
          }
        }
      ]
    },
    {
      "cell_type": "markdown",
      "source": [
        "Линейная регрессия"
      ],
      "metadata": {
        "id": "I1hqVn7pjiS9"
      }
    },
    {
      "cell_type": "code",
      "source": [
        "kfold=KFold(n_splits= 3, random_state = 7, shuffle=True)"
      ],
      "metadata": {
        "id": "KptHjd8RQ77e"
      },
      "execution_count": null,
      "outputs": []
    },
    {
      "cell_type": "code",
      "source": [
        "scoring = 'neg_mean_squared_error' # название метрики качества, которую Вы будете использовать для оценки качества моделей\n",
        "                                   # (здесь средняя квадратичная оценка, взятая с отрицательным знаком)"
      ],
      "metadata": {
        "id": "uDowjUlARDTf"
      },
      "execution_count": null,
      "outputs": []
    },
    {
      "cell_type": "code",
      "source": [
        "from sklearn.metrics import r2_score, mean_absolute_error, mean_squared_error"
      ],
      "metadata": {
        "id": "tbCI1n6BhiUX"
      },
      "execution_count": null,
      "outputs": []
    },
    {
      "cell_type": "code",
      "source": [
        "model=LinearRegression()"
      ],
      "metadata": {
        "id": "honXJez8RRBH"
      },
      "execution_count": null,
      "outputs": []
    },
    {
      "cell_type": "code",
      "source": [
        "results=cross_val_score(model, X, Y, cv=kfold, scoring=scoring)\n",
        "                  # model - способ обработки данных (линейная регрессия)\n",
        "                  # cv=kfold - на сколько частей (фолдов) разбита обучающая выборка\n",
        "                  # scoring - метод оценки ошибки"
      ],
      "metadata": {
        "id": "vgTUjXlnRVD_"
      },
      "execution_count": null,
      "outputs": []
    },
    {
      "cell_type": "code",
      "source": [
        "results.mean() # чем меньше, тем лучше"
      ],
      "metadata": {
        "colab": {
          "base_uri": "https://localhost:8080/"
        },
        "id": "Frd9MYnuRc14",
        "outputId": "a996a394-7f07-4721-cccf-127b5a95615b"
      },
      "execution_count": null,
      "outputs": [
        {
          "output_type": "execute_result",
          "data": {
            "text/plain": [
              "-7181277.08281551"
            ]
          },
          "metadata": {},
          "execution_count": 29
        }
      ]
    },
    {
      "cell_type": "code",
      "source": [
        "results.std() # чем меньше, тем лучше"
      ],
      "metadata": {
        "colab": {
          "base_uri": "https://localhost:8080/"
        },
        "id": "l-wn2VoQRfXx",
        "outputId": "55855b1f-1db6-465c-ef37-c26f04662fa2"
      },
      "execution_count": null,
      "outputs": [
        {
          "output_type": "execute_result",
          "data": {
            "text/plain": [
              "5355236.910801108"
            ]
          },
          "metadata": {},
          "execution_count": 30
        }
      ]
    },
    {
      "cell_type": "markdown",
      "source": [
        "# **Гребневая регрессия**"
      ],
      "metadata": {
        "id": "dpLzsv3Gjbdn"
      }
    },
    {
      "cell_type": "code",
      "source": [
        "model=Ridge()"
      ],
      "metadata": {
        "id": "-2kRQPxbRsMu"
      },
      "execution_count": null,
      "outputs": []
    },
    {
      "cell_type": "code",
      "source": [
        "results=cross_val_score(model, X, Y, cv=kfold, scoring=scoring)"
      ],
      "metadata": {
        "id": "twmuZ6d6RsMw"
      },
      "execution_count": null,
      "outputs": []
    },
    {
      "cell_type": "code",
      "source": [
        "results.mean() # чем меньше, тем лучше"
      ],
      "metadata": {
        "colab": {
          "base_uri": "https://localhost:8080/"
        },
        "outputId": "74f661f9-bd30-417f-c445-246c1b9b97ef",
        "id": "i8jWf8vMRsMw"
      },
      "execution_count": null,
      "outputs": [
        {
          "output_type": "execute_result",
          "data": {
            "text/plain": [
              "-7181040.907412779"
            ]
          },
          "metadata": {},
          "execution_count": 65
        }
      ]
    },
    {
      "cell_type": "code",
      "source": [
        "results.std() # чем меньше, тем лучше"
      ],
      "metadata": {
        "colab": {
          "base_uri": "https://localhost:8080/"
        },
        "outputId": "8129d879-c901-415d-9d0b-1a7f46b7b4f0",
        "id": "ucFFH9sCRsMy"
      },
      "execution_count": null,
      "outputs": [
        {
          "output_type": "execute_result",
          "data": {
            "text/plain": [
              "5355053.481736231"
            ]
          },
          "metadata": {},
          "execution_count": 66
        }
      ]
    },
    {
      "cell_type": "code",
      "source": [
        "model=Lasso()"
      ],
      "metadata": {
        "id": "ZLk9oShAR7lw"
      },
      "execution_count": null,
      "outputs": []
    },
    {
      "cell_type": "code",
      "source": [
        "results=cross_val_score(model, X, Y, cv=kfold, scoring=scoring)"
      ],
      "metadata": {
        "id": "9tcuvkk9R7lx"
      },
      "execution_count": null,
      "outputs": []
    },
    {
      "cell_type": "code",
      "source": [
        "results.mean() # чем меньше, тем лучше"
      ],
      "metadata": {
        "colab": {
          "base_uri": "https://localhost:8080/"
        },
        "outputId": "e2ea677d-ef95-49cf-a353-27099b0604bd",
        "id": "60muq7K2R7ly"
      },
      "execution_count": null,
      "outputs": [
        {
          "output_type": "execute_result",
          "data": {
            "text/plain": [
              "-7013465.850677772"
            ]
          },
          "metadata": {},
          "execution_count": 69
        }
      ]
    },
    {
      "cell_type": "code",
      "source": [
        "results.std() # чем меньше, тем лучше"
      ],
      "metadata": {
        "colab": {
          "base_uri": "https://localhost:8080/"
        },
        "outputId": "b0916775-bf52-40fb-e30f-4837f1b546da",
        "id": "CySiTjcER7lz"
      },
      "execution_count": null,
      "outputs": [
        {
          "output_type": "execute_result",
          "data": {
            "text/plain": [
              "5118270.041466958"
            ]
          },
          "metadata": {},
          "execution_count": 70
        }
      ]
    },
    {
      "cell_type": "markdown",
      "source": [
        "____________________________________________________"
      ],
      "metadata": {
        "id": "4hhjALaouQpX"
      }
    },
    {
      "cell_type": "markdown",
      "source": [
        "# **__ВСТАВКА__**"
      ],
      "metadata": {
        "id": "hT_bVEoAuUT_"
      }
    },
    {
      "cell_type": "code",
      "source": [
        "df_c=read_csv('metro_tr_очищен3.csv')"
      ],
      "metadata": {
        "id": "OhLTtWlP4w76"
      },
      "execution_count": null,
      "outputs": []
    },
    {
      "cell_type": "code",
      "source": [
        "df_c = df_c.set_index('Unnamed: 0')"
      ],
      "metadata": {
        "id": "hjIh_0_o5LjC"
      },
      "execution_count": null,
      "outputs": []
    },
    {
      "cell_type": "code",
      "source": [
        "import seaborn as sns"
      ],
      "metadata": {
        "id": "hTkgTbw-AJic"
      },
      "execution_count": null,
      "outputs": []
    },
    {
      "cell_type": "code",
      "source": [
        "fig=plt.figure(figsize=(8,6))\n",
        "sns.heatmap(df_c.corr(), annot = True)\n",
        "plt.show()"
      ],
      "metadata": {
        "colab": {
          "base_uri": "https://localhost:8080/",
          "height": 470
        },
        "id": "7AzYIJFYAECQ",
        "outputId": "3520d03b-a0f1-4de6-b34c-51a3e5479a03"
      },
      "execution_count": null,
      "outputs": [
        {
          "output_type": "display_data",
          "data": {
            "text/plain": [
              "<Figure size 576x432 with 2 Axes>"
            ],
            "image/png": "[encoded data removed]"
          },
          "metadata": {
            "needs_background": "light"
          }
        }
      ]
    },
    {
      "cell_type": "code",
      "source": [
        "df_c"
      ],
      "metadata": {
        "id": "XUlIhII95ka7"
      },
      "execution_count": null,
      "outputs": []
    },
    {
      "cell_type": "code",
      "source": [
        "array = df_c.iloc[:,:7].values"
      ],
      "metadata": {
        "id": "Zrn-Hbvd5BCt"
      },
      "execution_count": null,
      "outputs": []
    },
    {
      "cell_type": "code",
      "source": [
        "array"
      ],
      "metadata": {
        "colab": {
          "base_uri": "https://localhost:8080/"
        },
        "outputId": "0f0a4341-e172-43cc-8823-8839ac2363ce",
        "id": "8koS9JLm5BCt"
      },
      "execution_count": null,
      "outputs": [
        {
          "output_type": "execute_result",
          "data": {
            "text/plain": [
              "array([[ 5.500e-01, -2.400e-01, -5.700e-01, ...,  1.030e+00, -3.500e-01,\n",
              "         5.545e+03],\n",
              "       [ 6.400e-01,  6.600e-01, -5.700e-01, ...,  1.030e+00, -2.000e-01,\n",
              "         4.516e+03],\n",
              "       [ 6.500e-01,  1.040e+00, -5.700e-01, ...,  1.030e+00, -6.000e-02,\n",
              "         4.767e+03],\n",
              "       ...,\n",
              "       [ 1.200e-01,  1.040e+00,  2.670e+00, ...,  7.300e-01,  1.380e+00,\n",
              "         2.159e+03],\n",
              "       [ 6.000e-02,  1.040e+00, -5.700e-01, ...,  7.300e-01,  1.530e+00,\n",
              "         1.450e+03],\n",
              "       [ 7.000e-02,  1.040e+00, -5.700e-01, ...,  7.300e-01,  1.670e+00,\n",
              "         9.540e+02]])"
            ]
          },
          "metadata": {},
          "execution_count": 196
        }
      ]
    },
    {
      "cell_type": "code",
      "source": [
        "X=array[:,:6]\n",
        "Y=array[:,6]"
      ],
      "metadata": {
        "id": "TAOgH_Ud5BCt"
      },
      "execution_count": null,
      "outputs": []
    },
    {
      "cell_type": "code",
      "source": [
        "X"
      ],
      "metadata": {
        "colab": {
          "base_uri": "https://localhost:8080/"
        },
        "outputId": "03aec93b-2e88-4428-95e7-2c6249946e72",
        "id": "Lhxq4xtw5BCu"
      },
      "execution_count": null,
      "outputs": [
        {
          "output_type": "execute_result",
          "data": {
            "text/plain": [
              "array([[ 0.55, -0.24, -0.57,  0.83,  1.03, -0.35],\n",
              "       [ 0.64,  0.66, -0.57, -1.62,  1.03, -0.2 ],\n",
              "       [ 0.65,  1.04, -0.57,  0.27,  1.03, -0.06],\n",
              "       ...,\n",
              "       [ 0.12,  1.04,  2.67,  0.5 ,  0.73,  1.38],\n",
              "       [ 0.06,  1.04, -0.57,  0.27,  0.73,  1.53],\n",
              "       [ 0.07,  1.04, -0.57,  0.27,  0.73,  1.67]])"
            ]
          },
          "metadata": {},
          "execution_count": 198
        }
      ]
    },
    {
      "cell_type": "code",
      "source": [
        "Y"
      ],
      "metadata": {
        "colab": {
          "base_uri": "https://localhost:8080/"
        },
        "outputId": "b5c3eb01-6938-4400-ed31-044e1a25d7e6",
        "id": "iRPRmzeq5BCu"
      },
      "execution_count": null,
      "outputs": [
        {
          "output_type": "execute_result",
          "data": {
            "text/plain": [
              "array([5545., 4516., 4767., ..., 2159., 1450.,  954.])"
            ]
          },
          "metadata": {},
          "execution_count": 178
        }
      ]
    },
    {
      "cell_type": "code",
      "source": [
        "from sklearn.model_selection import train_test_split"
      ],
      "metadata": {
        "id": "g_kv3mNju1qY"
      },
      "execution_count": null,
      "outputs": []
    },
    {
      "cell_type": "code",
      "source": [
        "X_train, X_test, Y_train, Y_test = train_test_split( X, Y,test_size = 0.3 , random_state = 1 )"
      ],
      "metadata": {
        "id": "rmguNf2muUDx"
      },
      "execution_count": null,
      "outputs": []
    },
    {
      "cell_type": "code",
      "source": [
        "from sklearn.datasets import make_regression\n",
        "from sklearn.linear_model import Ridge\n",
        "from sklearn.linear_model import ridge_regression"
      ],
      "metadata": {
        "id": "9MAwTwLCvIM6"
      },
      "execution_count": null,
      "outputs": []
    },
    {
      "cell_type": "code",
      "source": [
        "model = Ridge(alpha=0.1)  # alpha — величина регуляризации"
      ],
      "metadata": {
        "id": "DmXYxXh5u4lj"
      },
      "execution_count": null,
      "outputs": []
    },
    {
      "cell_type": "code",
      "source": [
        "model.fit(X_train, Y_train)"
      ],
      "metadata": {
        "colab": {
          "base_uri": "https://localhost:8080/"
        },
        "id": "ZsiFGT3pxQdG",
        "outputId": "47cc571b-0d43-4e96-a1eb-3efbba7742d5"
      },
      "execution_count": null,
      "outputs": [
        {
          "output_type": "execute_result",
          "data": {
            "text/plain": [
              "Ridge(alpha=0.1)"
            ]
          },
          "metadata": {},
          "execution_count": 217
        }
      ]
    },
    {
      "cell_type": "code",
      "source": [
        "X_pred = model.predict(X_test)"
      ],
      "metadata": {
        "id": "XycVFx8Qxyka"
      },
      "execution_count": null,
      "outputs": []
    },
    {
      "cell_type": "code",
      "source": [
        "from sklearn.metrics import r2_score, mean_absolute_error, mean_squared_error"
      ],
      "metadata": {
        "id": "yQs7aLloyOrM"
      },
      "execution_count": null,
      "outputs": []
    },
    {
      "cell_type": "code",
      "source": [
        "RMSE =mean_squared_error(Y_test, X_pred)**(1/2)\n",
        "RMSE # похоже, что точная"
      ],
      "metadata": {
        "colab": {
          "base_uri": "https://localhost:8080/"
        },
        "id": "SflYG6soyo5I",
        "outputId": "f1167262-ca76-43bb-ec50-9cfe50d8d5be"
      },
      "execution_count": null,
      "outputs": [
        {
          "output_type": "execute_result",
          "data": {
            "text/plain": [
              "1846.1183489898478"
            ]
          },
          "metadata": {},
          "execution_count": 208
        }
      ]
    },
    {
      "cell_type": "code",
      "source": [
        "Y_test.shape, X_pred.shape"
      ],
      "metadata": {
        "colab": {
          "base_uri": "https://localhost:8080/"
        },
        "id": "ahGNTrNXz5Ne",
        "outputId": "a796aa05-7af4-427c-89c4-2132a0666af8"
      },
      "execution_count": null,
      "outputs": [
        {
          "output_type": "execute_result",
          "data": {
            "text/plain": [
              "((14462,), (14462,))"
            ]
          },
          "metadata": {},
          "execution_count": 146
        }
      ]
    },
    {
      "cell_type": "code",
      "source": [
        "r2_score(Y_test, X_pred)"
      ],
      "metadata": {
        "colab": {
          "base_uri": "https://localhost:8080/"
        },
        "id": "CQgqCuY7zadd",
        "outputId": "3af355ce-3b56-4730-d284-44e06446ba43"
      },
      "execution_count": null,
      "outputs": [
        {
          "output_type": "execute_result",
          "data": {
            "text/plain": [
              "0.1478119308927851"
            ]
          },
          "metadata": {},
          "execution_count": 219
        }
      ]
    },
    {
      "cell_type": "code",
      "source": [
        "import matplotlib.pyplot as plt"
      ],
      "metadata": {
        "id": "mSAQ1Gkx30cy"
      },
      "execution_count": null,
      "outputs": []
    },
    {
      "cell_type": "code",
      "source": [
        "plt.scatter(Y_test, X_pred)"
      ],
      "metadata": {
        "colab": {
          "base_uri": "https://localhost:8080/",
          "height": 283
        },
        "id": "tfwxVgNG3obs",
        "outputId": "8fa7f86e-2c45-46f4-aa8a-f7913886a88f"
      },
      "execution_count": null,
      "outputs": [
        {
          "output_type": "execute_result",
          "data": {
            "text/plain": [
              "<matplotlib.collections.PathCollection at 0x7efd1e86eed0>"
            ]
          },
          "metadata": {},
          "execution_count": 189
        },
        {
          "output_type": "display_data",
          "data": {
            "text/plain": [
              "<Figure size 432x288 with 1 Axes>"
            ],
            "image/png": "[encoded data removed]"
          },
          "metadata": {
            "needs_background": "light"
          }
        }
      ]
    },
    {
      "cell_type": "markdown",
      "source": [
        "________________________________________________________________________"
      ],
      "metadata": {
        "id": "FCoKfD6CuSF6"
      }
    },
    {
      "cell_type": "markdown",
      "source": [
        "# **Эластичная сеть**"
      ],
      "metadata": {
        "id": "IavZ1kmxsliq"
      }
    },
    {
      "cell_type": "code",
      "source": [
        "model=ElasticNet()"
      ],
      "metadata": {
        "id": "DyQaMbLZSHWl"
      },
      "execution_count": null,
      "outputs": []
    },
    {
      "cell_type": "code",
      "source": [
        "results=cross_val_score(model, X, Y, cv=kfold, scoring=scoring)"
      ],
      "metadata": {
        "id": "AStqjoLpSHWm"
      },
      "execution_count": null,
      "outputs": []
    },
    {
      "cell_type": "code",
      "source": [
        "results.mean() # чем меньше, тем лучше"
      ],
      "metadata": {
        "colab": {
          "base_uri": "https://localhost:8080/"
        },
        "outputId": "640ac57d-ca79-4bb9-ffa8-24cd7fa6501f",
        "id": "4q4C54gGSHWp"
      },
      "execution_count": null,
      "outputs": [
        {
          "output_type": "execute_result",
          "data": {
            "text/plain": [
              "-3448324.225586146"
            ]
          },
          "metadata": {},
          "execution_count": 222
        }
      ]
    },
    {
      "cell_type": "code",
      "source": [
        "results.std() # чем меньше, тем лучше"
      ],
      "metadata": {
        "colab": {
          "base_uri": "https://localhost:8080/"
        },
        "outputId": "37067f67-6dc4-458a-8014-19adb3b5799e",
        "id": "f2fyfMd6SHWq"
      },
      "execution_count": null,
      "outputs": [
        {
          "output_type": "execute_result",
          "data": {
            "text/plain": [
              "43364.46452142037"
            ]
          },
          "metadata": {},
          "execution_count": 223
        }
      ]
    },
    {
      "cell_type": "code",
      "source": [],
      "metadata": {
        "id": "OQjpbx82tLF8"
      },
      "execution_count": null,
      "outputs": []
    },
    {
      "cell_type": "markdown",
      "source": [
        "# **ЗАДАНИЕ 11. НЕЛИНЕЙНЫЕ МОДЕЛИ ДЛЯ РЕГРЕССИИ. ВЫБОР ЛУЧШЕЙ МОДЕЛИ ДЛЯ РЕГРЕССИИ. ПОСТРОЕНИЕ ПРОГРАММНОГО КОНВЕЕРА**\n",
        "\n",
        "Постройте нелинейные модели для регрессии (модель ближайшего соседа, модель решающего дерева, модель опорных векторов), оцените их качество, сравните с линейными моделями, выберите лучшую модель. Создайте программный конвеер для подготовки данных и моделирования, а также программный конвеер для отбора признаков и моделирования. Оцените целесообразность создания программного конвеера.\n",
        "Постарайтесь максимально автоматизировать все вычисления, использовать существующие модули среды программирования Python.\n"
      ],
      "metadata": {
        "id": "bVxJuNcCSi-z"
      }
    },
    {
      "cell_type": "markdown",
      "source": [
        "**1. Укажите путь к рабочей папке, где хранятся данные, с помощью функции chdir() из модуля os.**\n",
        "\n",
        "**2. Загрузите данные файла housing.csv с помощью функции read_csv(filename, delim_whitespace=True, names=names) из модуля pandas. Названия столбцов укажите следующими: names = ['CRIM', 'ZN', 'INDUS', 'CHAS', 'NOX', 'RM', 'AGE', 'DIS', 'RAD', 'TAX', 'PTRATIO','B', 'LSTAT', 'MEDV']. Посмотрите на первые 5 наблюдений с помощью функции head().**"
      ],
      "metadata": {
        "id": "AtKQ3i7B_PnB"
      }
    },
    {
      "cell_type": "code",
      "source": [
        "import os\n",
        "from pandas import read_csv\n",
        "from sklearn.model_selection import KFold\n",
        "from sklearn.model_selection import cross_val_score\n",
        "from sklearn.neighbors import KNeighborsRegressor\n",
        "from sklearn.tree import DecisionTreeRegressor\n",
        "from sklearn.svm import SVR\n",
        "from matplotlib import pyplot\n",
        "from sklearn.linear_model import LinearRegression\n",
        "from sklearn.linear_model import Ridge\n",
        "from sklearn.linear_model import Lasso\n",
        "from sklearn.linear_model import ElasticNet\n",
        "from sklearn.preprocessing import StandardScaler\n",
        "from sklearn.pipeline import Pipeline\n",
        "from sklearn.pipeline import FeatureUnion\n",
        "from sklearn.decomposition import PCA\n",
        "from sklearn.feature_selection import SelectKBest"
      ],
      "metadata": {
        "id": "BiUV0_0aSlUC"
      },
      "execution_count": null,
      "outputs": []
    },
    {
      "cell_type": "code",
      "source": [
        "os.chdir('/content/gdrive/MyDrive/Colab Notebooks/PDA-200')"
      ],
      "metadata": {
        "id": "ogDgF-7JU59b"
      },
      "execution_count": null,
      "outputs": []
    },
    {
      "cell_type": "code",
      "source": [
        "dataframe=read_csv('housing.csv', delim_whitespace=True, names=['CRIM', 'ZN', 'INDUS', 'CHAS', 'NOX', 'RM', 'AGE', 'DIS', 'RAD', 'TAX', 'PTRATIO','B', 'LSTAT', 'MEDV'])\n",
        "dataframe.head()"
      ],
      "metadata": {
        "colab": {
          "base_uri": "https://localhost:8080/",
          "height": 206
        },
        "outputId": "696a0969-193a-40a7-c5d0-d42970ef0246",
        "id": "fhSoV_1QVOxo"
      },
      "execution_count": null,
      "outputs": [
        {
          "output_type": "execute_result",
          "data": {
            "text/plain": [
              "      CRIM    ZN  INDUS  CHAS    NOX     RM   AGE     DIS  RAD    TAX  \\\n",
              "0  0.00632  18.0   2.31     0  0.538  6.575  65.2  4.0900    1  296.0   \n",
              "1  0.02731   0.0   7.07     0  0.469  6.421  78.9  4.9671    2  242.0   \n",
              "2  0.02729   0.0   7.07     0  0.469  7.185  61.1  4.9671    2  242.0   \n",
              "3  0.03237   0.0   2.18     0  0.458  6.998  45.8  6.0622    3  222.0   \n",
              "4  0.06905   0.0   2.18     0  0.458  7.147  54.2  6.0622    3  222.0   \n",
              "\n",
              "   PTRATIO       B  LSTAT  MEDV  \n",
              "0     15.3  396.90   4.98  24.0  \n",
              "1     17.8  396.90   9.14  21.6  \n",
              "2     17.8  392.83   4.03  34.7  \n",
              "3     18.7  394.63   2.94  33.4  \n",
              "4     18.7  396.90   5.33  36.2  "
            ],
            "text/html": [
              "\n",
              "  <div id=\"df-e0f90b0b-bc27-4cfd-9a58-c0e781a47c97\">\n",
              "    <div class=\"colab-df-container\">\n",
              "      <div>\n",
              "<style scoped>\n",
              "    .dataframe tbody tr th:only-of-type {\n",
              "        vertical-align: middle;\n",
              "    }\n",
              "\n",
              "    .dataframe tbody tr th {\n",
              "        vertical-align: top;\n",
              "    }\n",
              "\n",
              "    .dataframe thead th {\n",
              "        text-align: right;\n",
              "    }\n",
              "</style>\n",
              "<table border=\"1\" class=\"dataframe\">\n",
              "  <thead>\n",
              "    <tr style=\"text-align: right;\">\n",
              "      <th></th>\n",
              "      <th>CRIM</th>\n",
              "      <th>ZN</th>\n",
              "      <th>INDUS</th>\n",
              "      <th>CHAS</th>\n",
              "      <th>NOX</th>\n",
              "      <th>RM</th>\n",
              "      <th>AGE</th>\n",
              "      <th>DIS</th>\n",
              "      <th>RAD</th>\n",
              "      <th>TAX</th>\n",
              "      <th>PTRATIO</th>\n",
              "      <th>B</th>\n",
              "      <th>LSTAT</th>\n",
              "      <th>MEDV</th>\n",
              "    </tr>\n",
              "  </thead>\n",
              "  <tbody>\n",
              "    <tr>\n",
              "      <th>0</th>\n",
              "      <td>0.00632</td>\n",
              "      <td>18.0</td>\n",
              "      <td>2.31</td>\n",
              "      <td>0</td>\n",
              "      <td>0.538</td>\n",
              "      <td>6.575</td>\n",
              "      <td>65.2</td>\n",
              "      <td>4.0900</td>\n",
              "      <td>1</td>\n",
              "      <td>296.0</td>\n",
              "      <td>15.3</td>\n",
              "      <td>396.90</td>\n",
              "      <td>4.98</td>\n",
              "      <td>24.0</td>\n",
              "    </tr>\n",
              "    <tr>\n",
              "      <th>1</th>\n",
              "      <td>0.02731</td>\n",
              "      <td>0.0</td>\n",
              "      <td>7.07</td>\n",
              "      <td>0</td>\n",
              "      <td>0.469</td>\n",
              "      <td>6.421</td>\n",
              "      <td>78.9</td>\n",
              "      <td>4.9671</td>\n",
              "      <td>2</td>\n",
              "      <td>242.0</td>\n",
              "      <td>17.8</td>\n",
              "      <td>396.90</td>\n",
              "      <td>9.14</td>\n",
              "      <td>21.6</td>\n",
              "    </tr>\n",
              "    <tr>\n",
              "      <th>2</th>\n",
              "      <td>0.02729</td>\n",
              "      <td>0.0</td>\n",
              "      <td>7.07</td>\n",
              "      <td>0</td>\n",
              "      <td>0.469</td>\n",
              "      <td>7.185</td>\n",
              "      <td>61.1</td>\n",
              "      <td>4.9671</td>\n",
              "      <td>2</td>\n",
              "      <td>242.0</td>\n",
              "      <td>17.8</td>\n",
              "      <td>392.83</td>\n",
              "      <td>4.03</td>\n",
              "      <td>34.7</td>\n",
              "    </tr>\n",
              "    <tr>\n",
              "      <th>3</th>\n",
              "      <td>0.03237</td>\n",
              "      <td>0.0</td>\n",
              "      <td>2.18</td>\n",
              "      <td>0</td>\n",
              "      <td>0.458</td>\n",
              "      <td>6.998</td>\n",
              "      <td>45.8</td>\n",
              "      <td>6.0622</td>\n",
              "      <td>3</td>\n",
              "      <td>222.0</td>\n",
              "      <td>18.7</td>\n",
              "      <td>394.63</td>\n",
              "      <td>2.94</td>\n",
              "      <td>33.4</td>\n",
              "    </tr>\n",
              "    <tr>\n",
              "      <th>4</th>\n",
              "      <td>0.06905</td>\n",
              "      <td>0.0</td>\n",
              "      <td>2.18</td>\n",
              "      <td>0</td>\n",
              "      <td>0.458</td>\n",
              "      <td>7.147</td>\n",
              "      <td>54.2</td>\n",
              "      <td>6.0622</td>\n",
              "      <td>3</td>\n",
              "      <td>222.0</td>\n",
              "      <td>18.7</td>\n",
              "      <td>396.90</td>\n",
              "      <td>5.33</td>\n",
              "      <td>36.2</td>\n",
              "    </tr>\n",
              "  </tbody>\n",
              "</table>\n",
              "</div>\n",
              "      <button class=\"colab-df-convert\" onclick=\"convertToInteractive('df-e0f90b0b-bc27-4cfd-9a58-c0e781a47c97')\"\n",
              "              title=\"Convert this dataframe to an interactive table.\"\n",
              "              style=\"display:none;\">\n",
              "        \n",
              "  <svg xmlns=\"http://www.w3.org/2000/svg\" height=\"24px\"viewBox=\"0 0 24 24\"\n",
              "       width=\"24px\">\n",
              "    <path d=\"M0 0h24v24H0V0z\" fill=\"none\"/>\n",
              "    <path d=\"M18.56 5.44l.94 2.06.94-2.06 2.06-.94-2.06-.94-.94-2.06-.94 2.06-2.06.94zm-11 1L8.5 8.5l.94-2.06 2.06-.94-2.06-.94L8.5 2.5l-.94 2.06-2.06.94zm10 10l.94 2.06.94-2.06 2.06-.94-2.06-.94-.94-2.06-.94 2.06-2.06.94z\"/><path d=\"M17.41 7.96l-1.37-1.37c-.4-.4-.92-.59-1.43-.59-.52 0-1.04.2-1.43.59L10.3 9.45l-7.72 7.72c-.78.78-.78 2.05 0 2.83L4 21.41c.39.39.9.59 1.41.59.51 0 1.02-.2 1.41-.59l7.78-7.78 2.81-2.81c.8-.78.8-2.07 0-2.86zM5.41 20L4 18.59l7.72-7.72 1.47 1.35L5.41 20z\"/>\n",
              "  </svg>\n",
              "      </button>\n",
              "      \n",
              "  <style>\n",
              "    .colab-df-container {\n",
              "      display:flex;\n",
              "      flex-wrap:wrap;\n",
              "      gap: 12px;\n",
              "    }\n",
              "\n",
              "    .colab-df-convert {\n",
              "      background-color: #E8F0FE;\n",
              "      border: none;\n",
              "      border-radius: 50%;\n",
              "      cursor: pointer;\n",
              "      display: none;\n",
              "      fill: #1967D2;\n",
              "      height: 32px;\n",
              "      padding: 0 0 0 0;\n",
              "      width: 32px;\n",
              "    }\n",
              "\n",
              "    .colab-df-convert:hover {\n",
              "      background-color: #E2EBFA;\n",
              "      box-shadow: 0px 1px 2px rgba(60, 64, 67, 0.3), 0px 1px 3px 1px rgba(60, 64, 67, 0.15);\n",
              "      fill: #174EA6;\n",
              "    }\n",
              "\n",
              "    [theme=dark] .colab-df-convert {\n",
              "      background-color: #3B4455;\n",
              "      fill: #D2E3FC;\n",
              "    }\n",
              "\n",
              "    [theme=dark] .colab-df-convert:hover {\n",
              "      background-color: #434B5C;\n",
              "      box-shadow: 0px 1px 3px 1px rgba(0, 0, 0, 0.15);\n",
              "      filter: drop-shadow(0px 1px 2px rgba(0, 0, 0, 0.3));\n",
              "      fill: #FFFFFF;\n",
              "    }\n",
              "  </style>\n",
              "\n",
              "      <script>\n",
              "        const buttonEl =\n",
              "          document.querySelector('#df-e0f90b0b-bc27-4cfd-9a58-c0e781a47c97 button.colab-df-convert');\n",
              "        buttonEl.style.display =\n",
              "          google.colab.kernel.accessAllowed ? 'block' : 'none';\n",
              "\n",
              "        async function convertToInteractive(key) {\n",
              "          const element = document.querySelector('#df-e0f90b0b-bc27-4cfd-9a58-c0e781a47c97');\n",
              "          const dataTable =\n",
              "            await google.colab.kernel.invokeFunction('convertToInteractive',\n",
              "                                                     [key], {});\n",
              "          if (!dataTable) return;\n",
              "\n",
              "          const docLinkHtml = 'Like what you see? Visit the ' +\n",
              "            '<a target=\"_blank\" href=https://colab.research.google.com/notebooks/data_table.ipynb>data table notebook</a>'\n",
              "            + ' to learn more about interactive tables.';\n",
              "          element.innerHTML = '';\n",
              "          dataTable['output_type'] = 'display_data';\n",
              "          await google.colab.output.renderOutput(dataTable, element);\n",
              "          const docLink = document.createElement('div');\n",
              "          docLink.innerHTML = docLinkHtml;\n",
              "          element.appendChild(docLink);\n",
              "        }\n",
              "      </script>\n",
              "    </div>\n",
              "  </div>\n",
              "  "
            ]
          },
          "metadata": {},
          "execution_count": 77
        }
      ]
    },
    {
      "cell_type": "markdown",
      "source": [
        "**3. Сохраните в переменную array значения признаков, обратившись к атрибуту values.**\n",
        "\n",
        "**4. Выделите в переменной array часть, которая относится к факторным признакам, назовите ее X, и часть, которая относится к результативному признаку, - Y. Прокомментируйте содержимое переменных X и Y.**"
      ],
      "metadata": {
        "id": "a11BtFLs_nHF"
      }
    },
    {
      "cell_type": "code",
      "source": [
        "array = dataframe.values"
      ],
      "metadata": {
        "id": "-UJ81oPsVOxq"
      },
      "execution_count": null,
      "outputs": []
    },
    {
      "cell_type": "code",
      "source": [
        "X=array[:,0:13]\n",
        "Y=array[:,13]"
      ],
      "metadata": {
        "id": "itWAEDP2VOxr"
      },
      "execution_count": null,
      "outputs": []
    },
    {
      "cell_type": "markdown",
      "source": [
        "**5. Задайте разбиение на фолды с помощью функции KFold(n_splits = n_splits, random_state = random_state, shuffle = True) из модуля sklearn.model_selection. Результат запишите в переменную kfold. На вход данной функции подайте следующую информацию: 1) количество частей, на которые должна разбиваться выборка (n_splits), - пусть 10; 2) счетчик случайных чисел (random_state) – пусть 7; 3) необходимость перемешивания данных выборки, задав параметр shuffle=True.**\n",
        "\n",
        "**6. В переменную scoring запишите название метрики качества, которую Вы будете использовать для оценки качества моделей. Пусть это будет средняя квадратичная оценка, взятая с отрицательным знаком, - 'neg_mean_squared_error'.**\n",
        "\n",
        "**7. Постройте модель ближайшего соседа, воспользовавшись функцией KNeighborsRegressor() из модуля sklearn.neighbors. Результат запишите в переменную model.**\n",
        "\n",
        "**8. Проведите кросс-валидацию, воспользовавшись функцией cross_val_score(model, X, Y, cv=kfold, scoring=scoring) из модуля sklearn.model_selection. Результат запишите в переменную results.**\n",
        "\n",
        "**9. Выведите на экран среднюю величину средней квадратичной ошибки (MSE), взятую с отрицательным знаком, и стандартное отклонение полученных оценок, воспользовавшись, соответственно, функциями mean() и std(). Прокомментируйте полученный результат.**"
      ],
      "metadata": {
        "id": "KKRwFQps_37V"
      }
    },
    {
      "cell_type": "code",
      "source": [
        "kfold=KFold(n_splits= 10, random_state = 7, shuffle=True)"
      ],
      "metadata": {
        "id": "6hn581U2VOxr"
      },
      "execution_count": null,
      "outputs": []
    },
    {
      "cell_type": "code",
      "source": [
        "scoring = 'neg_mean_squared_error'"
      ],
      "metadata": {
        "id": "o3aJuxCkVOxs"
      },
      "execution_count": null,
      "outputs": []
    },
    {
      "cell_type": "code",
      "source": [
        "model=KNeighborsRegressor()"
      ],
      "metadata": {
        "id": "t46ni1ZPVVOj"
      },
      "execution_count": null,
      "outputs": []
    },
    {
      "cell_type": "code",
      "source": [
        "results=cross_val_score(model, X, Y, cv=kfold, scoring=scoring)"
      ],
      "metadata": {
        "id": "mEK8JSxya9PO"
      },
      "execution_count": null,
      "outputs": []
    },
    {
      "cell_type": "code",
      "source": [
        "results.mean()"
      ],
      "metadata": {
        "colab": {
          "base_uri": "https://localhost:8080/"
        },
        "id": "eVZvrCiQbEsf",
        "outputId": "1e583370-110d-4798-ba3e-a22359ff091f"
      },
      "execution_count": null,
      "outputs": [
        {
          "output_type": "execute_result",
          "data": {
            "text/plain": [
              "-38.852320266666666"
            ]
          },
          "metadata": {},
          "execution_count": 84
        }
      ]
    },
    {
      "cell_type": "code",
      "source": [
        "results.std()"
      ],
      "metadata": {
        "colab": {
          "base_uri": "https://localhost:8080/"
        },
        "id": "JIAh3botbGt8",
        "outputId": "8b5580ad-e977-446e-8771-420a32a3c437"
      },
      "execution_count": null,
      "outputs": [
        {
          "output_type": "execute_result",
          "data": {
            "text/plain": [
              "14.660692658624528"
            ]
          },
          "metadata": {},
          "execution_count": 85
        }
      ]
    },
    {
      "cell_type": "markdown",
      "source": [
        "**10. Постройте модель решающего дерева, воспользовавшись функцией DecisionTreeRegressor() из модуля sklearn.tree. Результат запишите в переменную model.**\n",
        "\n",
        "**11. Проведите кросс-валидацию, воспользовавшись функцией cross_val_score(model, X, Y, cv=kfold, scoring=scoring) из модуля sklearn.model_selection. Результат запишите в переменную results.**\n",
        "\n",
        "**12. Выведите на экран среднюю величину средней квадратичной ошибки (MSE), взятую с отрицательным знаком, и стандартное отклонение полученных оценок, воспользовавшись, соответственно, функциями mean() и std(). Прокомментируйте полученный результат.**"
      ],
      "metadata": {
        "id": "ABoTE8bqAW30"
      }
    },
    {
      "cell_type": "code",
      "source": [
        "model=DecisionTreeRegressor()"
      ],
      "metadata": {
        "id": "XzdXFEBdblT9"
      },
      "execution_count": null,
      "outputs": []
    },
    {
      "cell_type": "code",
      "source": [
        "results=cross_val_score(model, X, Y, cv=kfold, scoring=scoring)"
      ],
      "metadata": {
        "id": "L1s0xsUGblUA"
      },
      "execution_count": null,
      "outputs": []
    },
    {
      "cell_type": "code",
      "source": [
        "results.mean()"
      ],
      "metadata": {
        "colab": {
          "base_uri": "https://localhost:8080/"
        },
        "outputId": "932cf06e-1dbf-4cb3-e111-21ce352f7e9f",
        "id": "TBYzv2cwblUB"
      },
      "execution_count": null,
      "outputs": [
        {
          "output_type": "execute_result",
          "data": {
            "text/plain": [
              "-21.067121960784316"
            ]
          },
          "metadata": {},
          "execution_count": 47
        }
      ]
    },
    {
      "cell_type": "code",
      "source": [
        "results.std()"
      ],
      "metadata": {
        "colab": {
          "base_uri": "https://localhost:8080/"
        },
        "outputId": "e0fe48ae-0bc9-47ef-fb65-f76814958f3c",
        "id": "ZuMCAajLblUC"
      },
      "execution_count": null,
      "outputs": [
        {
          "output_type": "execute_result",
          "data": {
            "text/plain": [
              "9.44746919014808"
            ]
          },
          "metadata": {},
          "execution_count": 48
        }
      ]
    },
    {
      "cell_type": "markdown",
      "source": [
        "**13. Постройте модель опорных векторов, воспользовавшись функцией SVR(gamma='auto') из модуля sklearn.svm. Результат запишите в переменную model.**\n",
        "\n",
        "**14. Проведите кросс-валидацию, воспользовавшись функцией cross_val_score(model, X, Y, cv=kfold, scoring=scoring) из модуля sklearn.model_selection. Результат запишите в переменную results.**\n",
        "\n",
        "**15. Выведите на экран среднюю величину средней квадратичной ошибки (MSE), взятую с отрицательным знаком, и стандартное отклонение полученных оценок, воспользовавшись, соответственно, функциями mean() и std(). Прокомментируйте полученный результат.**"
      ],
      "metadata": {
        "id": "1k7eV0hPCTBv"
      }
    },
    {
      "cell_type": "code",
      "source": [
        "model=SVR(gamma='auto')"
      ],
      "metadata": {
        "id": "NzTDXWojc09M"
      },
      "execution_count": null,
      "outputs": []
    },
    {
      "cell_type": "code",
      "source": [
        "results=cross_val_score(model, X, Y, cv=kfold, scoring=scoring)"
      ],
      "metadata": {
        "id": "sOlePrwSc09N"
      },
      "execution_count": null,
      "outputs": []
    },
    {
      "cell_type": "code",
      "source": [
        "results.mean()"
      ],
      "metadata": {
        "colab": {
          "base_uri": "https://localhost:8080/"
        },
        "outputId": "3da1001d-8ddd-46a5-9ad6-50f840be04f9",
        "id": "nml8fUBjc09N"
      },
      "execution_count": null,
      "outputs": [
        {
          "output_type": "execute_result",
          "data": {
            "text/plain": [
              "-83.73272794073159"
            ]
          },
          "metadata": {},
          "execution_count": 51
        }
      ]
    },
    {
      "cell_type": "code",
      "source": [
        "results.std()"
      ],
      "metadata": {
        "colab": {
          "base_uri": "https://localhost:8080/"
        },
        "outputId": "be083f35-0eef-4d57-db3f-adb95eb54aa7",
        "id": "KP2vKDdtc09P"
      },
      "execution_count": null,
      "outputs": [
        {
          "output_type": "execute_result",
          "data": {
            "text/plain": [
              "26.79488794617123"
            ]
          },
          "metadata": {},
          "execution_count": 52
        }
      ]
    },
    {
      "cell_type": "markdown",
      "source": [
        "# **Раздел 2. Выбор лучшего алгоритма машинного обучения для задачи регрессии**\n",
        "\n",
        "16. Создайте пустой список и запишите его в переменную models.\n",
        "\n",
        "**17. Добавьте с помощью функции append() в список models набор из кортежей, первый элемент которого содержит название модели, а второй – функцию для создания соответствующей модели. Включите все линейные и нелинейные модели для регрессии, рассмотренные в заданиях 10 и 11. Можно при этом воспользоваться следующими сокращениями:**\n",
        "\n",
        "- LinRegr – стандартная линейная регрессия – LinearRegression().\n",
        "\n",
        "- Ridge – гребневая регрессия – Ridge().\n",
        "\n",
        "- Lasso – лассо регрессия – Lasso().\n",
        "\n",
        "- ElasticNet – эластичная сеть – ElasticNet().\n",
        "\n",
        "- KNN – модель ближайшего соседа – KNeighborsRegressor().\n",
        "\n",
        "- DTree – модель решающего дерева – DecisionTreeRegressor().\n",
        "\n",
        "- SVM – метод опорных векторов – SVR().\n",
        "\n",
        "**18. Создайте пустые списки results и names.**\n",
        "\n",
        "**19. Задайте критерий оценки качества моделей регрессии в переменной scoring. Пусть – средняя квадратичная оценка, взятая с отрицательным знаком, - 'neg_mean_squared_error'.**\n",
        "\n",
        "**20. С помощью функции for, обращаясь к имени и объекту модели, которые содержатся в кортежах списка models, выполните следующее:**\n",
        "\n",
        "**a. Задайте разбиение выборки на фолды с помощью функции KFold(n_splits=10, random_state=7, shuffle=True). Результат запишите в переменную kfold.**\n",
        "\n",
        "**b. Проведите кросс-валидацию, воспользовавшись функцией cross_val_score(model, X, Y, cv=kfold, scoring=scoring). Результат запишите в переменную cv_results.**\n",
        "\n",
        "**c. Добавьте полученные результаты (cv_results) в список results, воспользовавшись функцией append().**\n",
        "\n",
        "**d. Добавьте в список names имя рассмотренной модели, воспользовавшись функцией append().**\n",
        "\n",
        "**e. С помощью функции print() выведите на экран список названий моделей с соответствующими значениями средней квадратичной оценки, взятой с отрицательным знаком (функция mean()), и стандартного отклонения (функция std()), рассчитанными на кросс-валидации.**"
      ],
      "metadata": {
        "id": "q4KqbYE0DNWg"
      }
    },
    {
      "cell_type": "code",
      "source": [
        "models=[]"
      ],
      "metadata": {
        "id": "doaYmybgdA1_"
      },
      "execution_count": null,
      "outputs": []
    },
    {
      "cell_type": "code",
      "source": [
        "models.append(('LinRegr',LinearRegression()))"
      ],
      "metadata": {
        "id": "dch0Lh0-dBrl"
      },
      "execution_count": null,
      "outputs": []
    },
    {
      "cell_type": "code",
      "source": [
        "models.append(('Ridge',Ridge()))"
      ],
      "metadata": {
        "id": "Tc3p--2HdQZX"
      },
      "execution_count": null,
      "outputs": []
    },
    {
      "cell_type": "code",
      "source": [
        "models.append(('Lasso',Lasso()))"
      ],
      "metadata": {
        "id": "8D7d_9bKdWwH"
      },
      "execution_count": null,
      "outputs": []
    },
    {
      "cell_type": "code",
      "source": [
        "models.append(('ElasticNet',ElasticNet()))"
      ],
      "metadata": {
        "id": "3lARRP6Kddfk"
      },
      "execution_count": null,
      "outputs": []
    },
    {
      "cell_type": "code",
      "source": [
        "models.append(('KNN',KNeighborsRegressor()))"
      ],
      "metadata": {
        "id": "Z7kAbQ64djMM"
      },
      "execution_count": null,
      "outputs": []
    },
    {
      "cell_type": "code",
      "source": [
        "models.append(('DTree',DecisionTreeRegressor()))"
      ],
      "metadata": {
        "id": "OZaOs3R1dqDE"
      },
      "execution_count": null,
      "outputs": []
    },
    {
      "cell_type": "code",
      "source": [
        "models.append(('SVM',SVR()))"
      ],
      "metadata": {
        "id": "0D7qZ4CGdwTS"
      },
      "execution_count": null,
      "outputs": []
    },
    {
      "cell_type": "code",
      "source": [
        "models"
      ],
      "metadata": {
        "colab": {
          "base_uri": "https://localhost:8080/"
        },
        "id": "bqmiwsyBd2Th",
        "outputId": "cc565c52-f780-46de-947c-a0e1315d701d"
      },
      "execution_count": null,
      "outputs": [
        {
          "output_type": "execute_result",
          "data": {
            "text/plain": [
              "[('Ridge', Ridge()),\n",
              " ('LinRegr', LinearRegression()),\n",
              " ('Lasso', Lasso()),\n",
              " ('ElasticNet', ElasticNet()),\n",
              " ('KNN', KNeighborsRegressor()),\n",
              " ('DTree', DecisionTreeRegressor()),\n",
              " ('SVM', SVR())]"
            ]
          },
          "metadata": {},
          "execution_count": 61
        }
      ]
    },
    {
      "cell_type": "code",
      "source": [
        "results =[]\n",
        "names=[]"
      ],
      "metadata": {
        "id": "iy1hJXQPd3V0"
      },
      "execution_count": null,
      "outputs": []
    },
    {
      "cell_type": "code",
      "source": [
        "scoring='neg_mean_squared_error'"
      ],
      "metadata": {
        "id": "Vz8dhEfUeM4a"
      },
      "execution_count": null,
      "outputs": []
    },
    {
      "cell_type": "markdown",
      "source": [
        "**21. Изобразите результаты предыдущих расчетов в виде ящика с усами, воспользовавшись следующими функциями из модуля matplotlib.pyplot: figure(), suptitle(), add_subplot(111), boxplot(), set_xticklabels(), show().**"
      ],
      "metadata": {
        "id": "OInvZHM0FoEX"
      }
    },
    {
      "cell_type": "markdown",
      "source": [
        "**22. Выберите лучшую модель. Обоснуйте свой выбор.**"
      ],
      "metadata": {
        "id": "6Te8n7xmF1Cn"
      }
    },
    {
      "cell_type": "code",
      "source": [
        "for name, model in models:\n",
        "  kfold=KFold(n_splits=10, random_state=7, shuffle=True)\n",
        "  cv_results=cross_val_score(model, X, Y, cv=kfold, scoring=scoring)\n",
        "  results.append(cv_results)\n",
        "  names.append(name)\n",
        "  print(name,cv_results.mean(),cv_results.std())"
      ],
      "metadata": {
        "colab": {
          "base_uri": "https://localhost:8080/"
        },
        "id": "kvNXM_a5HV6N",
        "outputId": "d86199e1-fc62-4851-a497-d7e073fa51ef"
      },
      "execution_count": null,
      "outputs": [
        {
          "output_type": "stream",
          "name": "stdout",
          "text": [
            "Ridge -23.88989018505344 11.407334196736706\n",
            "LinRegr -23.746501811313365 11.143430110698096\n",
            "Lasso -28.74589007585154 12.001844539883205\n",
            "ElasticNet -27.908420360231055 11.484450217983516\n",
            "KNN -38.852320266666666 14.660692658624528\n",
            "DTree -21.934539607843135 9.635008579404511\n",
            "SVM -67.64140705473743 26.524654546583477\n"
          ]
        }
      ]
    },
    {
      "cell_type": "code",
      "source": [
        "fig=pyplot.figure()\n",
        "fig.suptitle('Сравнение моделей')\n",
        "ax=fig.add_subplot(111)\n",
        "pyplot.boxplot(results)\n",
        "ax.set_xticklabels(names)\n",
        "pyplot.show()"
      ],
      "metadata": {
        "colab": {
          "base_uri": "https://localhost:8080/",
          "height": 294
        },
        "id": "jacLaPY1IvbL",
        "outputId": "509d6561-d33d-4074-cb5a-4ae2b491e08b"
      },
      "execution_count": null,
      "outputs": [
        {
          "output_type": "display_data",
          "data": {
            "text/plain": [
              "<Figure size 432x288 with 1 Axes>"
            ],
            "image/png": "[encoded data removed]"
          },
          "metadata": {
            "needs_background": "light"
          }
        }
      ]
    },
    {
      "cell_type": "markdown",
      "source": [
        "# **Раздел 3. Создание пайплайна (программного конвеера) для подготовки данных и моделирования**\n",
        "\n",
        "**23. Создайте пустой список в переменной estimators.**\n",
        "\n",
        "**24. Добавьте в него кортеж, в котором содержится название операции подготовки данных, пусть стандартизация ('standardize'), и соответствующая функция StandardScaler() из модуля sklearn.preprocessing.**\n",
        "\n",
        "**25. Также добавьте в список кортеж с названием лучшей модели для регрессии, выбранной в п. 20, и соответствующую ей функцию.**\n",
        "\n",
        "**26. На основе созданного списка создайте программный конвеер с помощью функции Pipeline() из модуля sklearn.pipeline. Результат запишите в переменную model.**\n",
        "\n",
        "**27. Задайте разбиение на фолды с помощью функции KFold(n_splits = n_splits, random_state = random_state, shuffle = True) из модуля sklearn.model_selection. Результат запишите в переменную kfold. На вход данной функции подайте следующую информацию: 1) количество частей, на которые должна разбиваться выборка (n_splits), - пусть 10; 2) счетчик случайных чисел (random_state) – пусть 7; 3) необходимость перемешивания данных выборки, задав параметр shuffle=True.**\n",
        "\n",
        "**28. Проведите кросс-валидацию, воспользовавшись функцией cross_val_score(model, X, Y, cv=kfold, scoring=scoring) из модуля sklearn.model_selection. На вход подайте созданный программный конвеер. Результат запишите в переменную results.**\n",
        "\n",
        "**29. Выведите на экран среднюю величину средней квадратичной ошибки (MSE), взятую с отрицательным знаком, и стандартное отклонение полученных оценок, воспользовавшись, соответственно, функциями mean() и std(). Прокомментируйте полученный результат.**"
      ],
      "metadata": {
        "id": "bfkYyPEyF8ZN"
      }
    },
    {
      "cell_type": "code",
      "source": [
        "# стандартизация данных, а потом разбивка плохо сказываются на модели, конвеер позволяеи избежать утечки стандартизируя\n",
        "# данные после разбивки"
      ],
      "metadata": {
        "id": "7mF_weOnHWfm"
      },
      "execution_count": null,
      "outputs": []
    },
    {
      "cell_type": "code",
      "source": [
        "estimators=[]"
      ],
      "metadata": {
        "id": "r993yJOZfu3j"
      },
      "execution_count": null,
      "outputs": []
    },
    {
      "cell_type": "code",
      "source": [
        "estimators.append(('standardize',StandardScaler())) # функция выполняющая стандартизацию"
      ],
      "metadata": {
        "id": "5kLAWTrkfv24"
      },
      "execution_count": null,
      "outputs": []
    },
    {
      "cell_type": "code",
      "source": [
        "estimators.append(('DTree',DecisionTreeRegressor()))"
      ],
      "metadata": {
        "id": "ca0mAl-Gf-kg"
      },
      "execution_count": null,
      "outputs": []
    },
    {
      "cell_type": "code",
      "source": [
        "# т.е. сначала стандартизируем данные обучающей выборки, потом обучит, затем стандартизирует данные на контрольной выборке,\n",
        "# а потом проверит"
      ],
      "metadata": {
        "id": "IR5vwIgvJygu"
      },
      "execution_count": null,
      "outputs": []
    },
    {
      "cell_type": "code",
      "source": [
        "model=Pipeline(estimators)"
      ],
      "metadata": {
        "id": "G57HkuIEgViy"
      },
      "execution_count": null,
      "outputs": []
    },
    {
      "cell_type": "code",
      "source": [
        "kfold=KFold(n_splits = 10, random_state = 7, shuffle = True)"
      ],
      "metadata": {
        "id": "BF56QV7sgdfy"
      },
      "execution_count": null,
      "outputs": []
    },
    {
      "cell_type": "code",
      "source": [
        "results=cross_val_score(model, X, Y, cv=kfold, scoring=scoring)"
      ],
      "metadata": {
        "id": "UmZgs7a7gmJC"
      },
      "execution_count": null,
      "outputs": []
    },
    {
      "cell_type": "code",
      "source": [
        "results.mean()"
      ],
      "metadata": {
        "colab": {
          "base_uri": "https://localhost:8080/"
        },
        "id": "vF3NhYYjgx67",
        "outputId": "fcf2ac42-6798-4c16-c0a2-e9a935e3f6c2"
      },
      "execution_count": null,
      "outputs": [
        {
          "output_type": "execute_result",
          "data": {
            "text/plain": [
              "-21.112361960784316"
            ]
          },
          "metadata": {},
          "execution_count": 64
        }
      ]
    },
    {
      "cell_type": "code",
      "source": [
        "results.std()"
      ],
      "metadata": {
        "colab": {
          "base_uri": "https://localhost:8080/"
        },
        "id": "oIWFYGcig0Eb",
        "outputId": "f266aed5-aac0-4b40-b896-eed028939145"
      },
      "execution_count": null,
      "outputs": [
        {
          "output_type": "execute_result",
          "data": {
            "text/plain": [
              "9.698027772659461"
            ]
          },
          "metadata": {},
          "execution_count": 65
        }
      ]
    },
    {
      "cell_type": "markdown",
      "source": [
        "**30. Сделайте вывод о целесообразности создания программного конвеера.**\n",
        "\n",
        "Дерево решений без конвеера имеет значение -21.9, а в конвеере -21.1, т.е. в конвеере результат улучшился"
      ],
      "metadata": {
        "id": "p4DS3atsKtyM"
      }
    },
    {
      "cell_type": "markdown",
      "source": [
        "# **Раздел 4. Создание пайплайна (программного конвеера) для отбора признаков и моделирования**\n",
        "\n",
        "**31. Создайте пустой список в переменной features. В нем в дальнейшем будут содержаться отобранные признаки.**\n",
        "\n",
        "**32. С помощью функции append() добавьте в него кортеж, в котором содержится название метода главных компонент ('pca') и соответствующая функция PCA(n_components=4) из модуля sklearn.decomposition.**\n",
        "\n",
        "**33. Также добавьте в список кортеж с названием 'select_best' и соответствующую ей функцию SelectKBest(k=6) из модуля sklearn.feature_selection для отбора 6 лучших признаков.**\n",
        "\n",
        "**34. На основе созданного списка создайте программный конвеер для отбора признаков с помощью функции FeatureUnion() из модуля sklearn.pipeline. Результат запишите в переменную feature_union.**\n",
        "\n",
        "**35. Создайте пустой список в переменной estimators.**\n",
        "\n",
        "**36. С помощью функции append() добавьте в него кортеж, в котором содержится название 'feature_union' и созданный ранее конвеер для отбора признаков.**\n",
        "\n",
        "**37. Также добавьте в список кортеж с названием линейной регрессии ('LinRegr') и соответствующую ей функцию LinearRegression().**\n",
        "\n",
        "**38. На основе созданного списка создайте программный конвеер с помощью функции Pipeline() из модуля sklearn.pipeline. Результат запишите в переменную model.**\n",
        "\n",
        "**39. Задайте разбиение на фолды с помощью функции KFold(n_splits = n_splits, random_state = random_state, shuffle = True) из модуля sklearn.model_selection. Результат запишите в переменную kfold. На вход данной функции подайте следующую информацию: 1) количество частей, на которые должна разбиваться выборка (n_splits), - пусть 10; 2) счетчик случайных чисел (random_state) – пусть 7; 3) необходимость перемешивания данных выборки, задав параметр shuffle = True.**\n",
        "\n",
        "**40. Проведите кросс-валидацию, воспользовавшись функцией cross_val_score(model, X, Y, cv = kfold, scoring = scoring)  из модуля sklearn.model_selection. На вход подайте созданный программный конвеер. Результат запишите в переменную results.**\n",
        "\n",
        "**41. Выведите на экран среднюю величину средней квадратичной ошибки (MSE), взятую с отрицательным знаком, и стандартное отклонение полученных оценок, воспользовавшись, соответственно, функциями mean() и std(). Прокомментируйте полученный результат.**\n",
        "\n",
        "**42. Сделайте вывод о целесообразности создания программного **"
      ],
      "metadata": {
        "id": "2rbTOHDkLiei"
      }
    },
    {
      "cell_type": "code",
      "source": [
        "features=[]"
      ],
      "metadata": {
        "id": "-7i3ruMGg4En"
      },
      "execution_count": null,
      "outputs": []
    },
    {
      "cell_type": "code",
      "source": [
        "features.append(('pca',PCA(n_components=4)))\n",
        "# добавляем метод главных компонентов, который сжимает пространство признаков до = 4."
      ],
      "metadata": {
        "id": "cKl0fLxMh2Sd"
      },
      "execution_count": null,
      "outputs": []
    },
    {
      "cell_type": "code",
      "source": [
        "features.append(('select_best',SelectKBest(k=6)))\n",
        "# отбирает на основе статистических процедур 6 лучших признаков"
      ],
      "metadata": {
        "id": "_94PP69MiSrn"
      },
      "execution_count": null,
      "outputs": []
    },
    {
      "cell_type": "markdown",
      "source": [
        "**выше добавили методы отбора признаков для исключения утечки данных**"
      ],
      "metadata": {
        "id": "jS9LvKrsN8zu"
      }
    },
    {
      "cell_type": "code",
      "source": [
        "feature_union=FeatureUnion(features)"
      ],
      "metadata": {
        "id": "6p3Jwgqmijg4"
      },
      "execution_count": null,
      "outputs": []
    },
    {
      "cell_type": "code",
      "source": [
        "estimators=[]"
      ],
      "metadata": {
        "id": "YrRySP5Ui0Mv"
      },
      "execution_count": null,
      "outputs": []
    },
    {
      "cell_type": "code",
      "source": [
        "estimators.append(('feature_union',feature_union))"
      ],
      "metadata": {
        "id": "gWwJsnJ1i1FI"
      },
      "execution_count": null,
      "outputs": []
    },
    {
      "cell_type": "code",
      "source": [
        "estimators.append(('LinRegr',LinearRegression()))"
      ],
      "metadata": {
        "id": "NZxaZ5RKjH7Q"
      },
      "execution_count": null,
      "outputs": []
    },
    {
      "cell_type": "code",
      "source": [
        "model=Pipeline(estimators)"
      ],
      "metadata": {
        "id": "T6yLSmnyjdI3"
      },
      "execution_count": null,
      "outputs": []
    },
    {
      "cell_type": "code",
      "source": [
        "kfold=KFold(n_splits = 10, random_state = 7, shuffle = True)"
      ],
      "metadata": {
        "id": "iZn1ap-vjkiX"
      },
      "execution_count": null,
      "outputs": []
    },
    {
      "cell_type": "code",
      "source": [
        "results=cross_val_score(model, X, Y, cv = kfold, scoring = scoring)"
      ],
      "metadata": {
        "id": "dE5UF07wjs8x"
      },
      "execution_count": null,
      "outputs": []
    },
    {
      "cell_type": "code",
      "source": [
        "results.mean()"
      ],
      "metadata": {
        "id": "FOq4ze34jveH",
        "outputId": "902096f6-f454-4136-b047-0039d1bda3d1",
        "colab": {
          "base_uri": "https://localhost:8080/"
        }
      },
      "execution_count": null,
      "outputs": [
        {
          "output_type": "execute_result",
          "data": {
            "text/plain": [
              "-29.052082888799056"
            ]
          },
          "metadata": {},
          "execution_count": 77
        }
      ]
    },
    {
      "cell_type": "code",
      "source": [
        "results.std()"
      ],
      "metadata": {
        "id": "Nfs4Q1shjx9V",
        "outputId": "dc700feb-25f3-4067-dd7c-8e9728e29e35",
        "colab": {
          "base_uri": "https://localhost:8080/"
        }
      },
      "execution_count": null,
      "outputs": [
        {
          "output_type": "execute_result",
          "data": {
            "text/plain": [
              "12.930344160014172"
            ]
          },
          "metadata": {},
          "execution_count": 78
        }
      ]
    },
    {
      "cell_type": "code",
      "source": [],
      "metadata": {
        "id": "34lI9u7ij0fW"
      },
      "execution_count": null,
      "outputs": []
    }
  ]
}