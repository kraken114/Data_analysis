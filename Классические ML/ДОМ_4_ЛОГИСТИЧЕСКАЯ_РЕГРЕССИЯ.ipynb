{
  "nbformat": 4,
  "nbformat_minor": 0,
  "metadata": {
    "colab": {
      "provenance": []
    },
    "kernelspec": {
      "name": "python3",
      "display_name": "Python 3"
    },
    "language_info": {
      "name": "python"
    }
  },
  "cells": [
    {
      "cell_type": "code",
      "source": [],
      "metadata": {
        "id": "b2sqjUWSMSB7"
      },
      "execution_count": null,
      "outputs": []
    },
    {
      "cell_type": "code",
      "execution_count": null,
      "metadata": {
        "colab": {
          "base_uri": "https://localhost:8080/"
        },
        "id": "kVfTBgdONjI3",
        "outputId": "3e98940d-fc4a-4f39-ea37-1f5a3d97ca63"
      },
      "outputs": [
        {
          "output_type": "stream",
          "name": "stdout",
          "text": [
            "Drive already mounted at /content/gdrive; to attempt to forcibly remount, call drive.mount(\"/content/gdrive\", force_remount=True).\n"
          ]
        }
      ],
      "source": [
        "from google.colab import drive\n",
        "drive.mount('/content/gdrive')"
      ]
    },
    {
      "cell_type": "code",
      "source": [
        "import os\n",
        "import numpy as np\n",
        "import pandas as pd\n",
        "from pandas import read_csv\n",
        "from sklearn.model_selection import KFold\n",
        "from sklearn.model_selection import cross_val_score\n",
        "from sklearn.linear_model import LogisticRegression\n",
        "from sklearn.discriminant_analysis import LinearDiscriminantAnalysis\n",
        "from sklearn.svm import SVC"
      ],
      "metadata": {
        "id": "1Hwk-t9otZDE"
      },
      "execution_count": null,
      "outputs": []
    },
    {
      "cell_type": "code",
      "source": [
        "os.chdir('/content/gdrive/MyDrive/Colab Notebooks/наборы данных')"
      ],
      "metadata": {
        "id": "5T8t3BqxOj-3"
      },
      "execution_count": null,
      "outputs": []
    },
    {
      "cell_type": "code",
      "source": [
        "filename='metro_tr_очищен3.csv'\n",
        "#names=['area A','perimeter P','compactness','length of ker',\n",
        "#       'width of ker', 'asymmetry coeff', 'length of ker groove','class']\n",
        "df=read_csv(filename)#,sep='\\t', error_bad_lines=False,names=names)"
      ],
      "metadata": {
        "id": "iA149PaCaZtU"
      },
      "execution_count": null,
      "outputs": []
    },
    {
      "cell_type": "code",
      "source": [
        "df.dtypes"
      ],
      "metadata": {
        "colab": {
          "base_uri": "https://localhost:8080/"
        },
        "id": "MAutz2zzmoP-",
        "outputId": "8de5d73a-5a85-4a92-bf85-3124056881f4"
      },
      "execution_count": null,
      "outputs": [
        {
          "output_type": "execute_result",
          "data": {
            "text/plain": [
              "Unnamed: 0               int64\n",
              "temp                   float64\n",
              "clouds_all             float64\n",
              "weather_main           float64\n",
              "weather_description    float64\n",
              "month                  float64\n",
              "hour                   float64\n",
              "end                      int64\n",
              "dtype: object"
            ]
          },
          "metadata": {},
          "execution_count": 8
        }
      ]
    },
    {
      "cell_type": "markdown",
      "source": [
        "_________________________________________________________________________"
      ],
      "metadata": {
        "id": "8xo8Y6xqZtX5"
      }
    },
    {
      "cell_type": "markdown",
      "source": [
        "# **ЛОГИСТИЧЕСКАЯ РЕГРЕССИЯ**"
      ],
      "metadata": {
        "id": "3X-OUJdSZh4h"
      }
    },
    {
      "cell_type": "code",
      "source": [
        "df.sample(4)"
      ],
      "metadata": {
        "colab": {
          "base_uri": "https://localhost:8080/",
          "height": 175
        },
        "id": "FJLCgiHjaEjf",
        "outputId": "0678561b-ea84-4802-a1f2-ba94f0069182"
      },
      "execution_count": null,
      "outputs": [
        {
          "output_type": "execute_result",
          "data": {
            "text/plain": [
              "       Unnamed: 0  holiday     temp  rain_1h  snow_1h  clouds_all  \\\n",
              "27584       27584        7  285.949      0.0      0.0          88   \n",
              "22287       22287        7  275.410      0.0      0.0          90   \n",
              "28445       28445        7  274.090      0.0      0.0          90   \n",
              "31573       31573        7  276.220      0.0      0.0           1   \n",
              "\n",
              "       weather_main  weather_description  month  hour  traffic_volume  \\\n",
              "27584             1                   19     10    16            6087   \n",
              "22287             1                   19      4    23             982   \n",
              "28445             8                   16     11     2             474   \n",
              "31573             0                   27      3    22            2816   \n",
              "\n",
              "                date_time  \n",
              "27584 2016-10-25 16:00:00  \n",
              "22287 2016-04-06 23:00:00  \n",
              "28445 2016-11-25 02:00:00  \n",
              "31573 2017-03-07 22:00:00  "
            ],
            "text/html": [
              "\n",
              "  <div id=\"df-042fd61c-8731-4c9f-abc7-60dc04913cf3\">\n",
              "    <div class=\"colab-df-container\">\n",
              "      <div>\n",
              "<style scoped>\n",
              "    .dataframe tbody tr th:only-of-type {\n",
              "        vertical-align: middle;\n",
              "    }\n",
              "\n",
              "    .dataframe tbody tr th {\n",
              "        vertical-align: top;\n",
              "    }\n",
              "\n",
              "    .dataframe thead th {\n",
              "        text-align: right;\n",
              "    }\n",
              "</style>\n",
              "<table border=\"1\" class=\"dataframe\">\n",
              "  <thead>\n",
              "    <tr style=\"text-align: right;\">\n",
              "      <th></th>\n",
              "      <th>Unnamed: 0</th>\n",
              "      <th>holiday</th>\n",
              "      <th>temp</th>\n",
              "      <th>rain_1h</th>\n",
              "      <th>snow_1h</th>\n",
              "      <th>clouds_all</th>\n",
              "      <th>weather_main</th>\n",
              "      <th>weather_description</th>\n",
              "      <th>month</th>\n",
              "      <th>hour</th>\n",
              "      <th>traffic_volume</th>\n",
              "      <th>date_time</th>\n",
              "    </tr>\n",
              "  </thead>\n",
              "  <tbody>\n",
              "    <tr>\n",
              "      <th>27584</th>\n",
              "      <td>27584</td>\n",
              "      <td>7</td>\n",
              "      <td>285.949</td>\n",
              "      <td>0.0</td>\n",
              "      <td>0.0</td>\n",
              "      <td>88</td>\n",
              "      <td>1</td>\n",
              "      <td>19</td>\n",
              "      <td>10</td>\n",
              "      <td>16</td>\n",
              "      <td>6087</td>\n",
              "      <td>2016-10-25 16:00:00</td>\n",
              "    </tr>\n",
              "    <tr>\n",
              "      <th>22287</th>\n",
              "      <td>22287</td>\n",
              "      <td>7</td>\n",
              "      <td>275.410</td>\n",
              "      <td>0.0</td>\n",
              "      <td>0.0</td>\n",
              "      <td>90</td>\n",
              "      <td>1</td>\n",
              "      <td>19</td>\n",
              "      <td>4</td>\n",
              "      <td>23</td>\n",
              "      <td>982</td>\n",
              "      <td>2016-04-06 23:00:00</td>\n",
              "    </tr>\n",
              "    <tr>\n",
              "      <th>28445</th>\n",
              "      <td>28445</td>\n",
              "      <td>7</td>\n",
              "      <td>274.090</td>\n",
              "      <td>0.0</td>\n",
              "      <td>0.0</td>\n",
              "      <td>90</td>\n",
              "      <td>8</td>\n",
              "      <td>16</td>\n",
              "      <td>11</td>\n",
              "      <td>2</td>\n",
              "      <td>474</td>\n",
              "      <td>2016-11-25 02:00:00</td>\n",
              "    </tr>\n",
              "    <tr>\n",
              "      <th>31573</th>\n",
              "      <td>31573</td>\n",
              "      <td>7</td>\n",
              "      <td>276.220</td>\n",
              "      <td>0.0</td>\n",
              "      <td>0.0</td>\n",
              "      <td>1</td>\n",
              "      <td>0</td>\n",
              "      <td>27</td>\n",
              "      <td>3</td>\n",
              "      <td>22</td>\n",
              "      <td>2816</td>\n",
              "      <td>2017-03-07 22:00:00</td>\n",
              "    </tr>\n",
              "  </tbody>\n",
              "</table>\n",
              "</div>\n",
              "      <button class=\"colab-df-convert\" onclick=\"convertToInteractive('df-042fd61c-8731-4c9f-abc7-60dc04913cf3')\"\n",
              "              title=\"Convert this dataframe to an interactive table.\"\n",
              "              style=\"display:none;\">\n",
              "        \n",
              "  <svg xmlns=\"http://www.w3.org/2000/svg\" height=\"24px\"viewBox=\"0 0 24 24\"\n",
              "       width=\"24px\">\n",
              "    <path d=\"M0 0h24v24H0V0z\" fill=\"none\"/>\n",
              "    <path d=\"M18.56 5.44l.94 2.06.94-2.06 2.06-.94-2.06-.94-.94-2.06-.94 2.06-2.06.94zm-11 1L8.5 8.5l.94-2.06 2.06-.94-2.06-.94L8.5 2.5l-.94 2.06-2.06.94zm10 10l.94 2.06.94-2.06 2.06-.94-2.06-.94-.94-2.06-.94 2.06-2.06.94z\"/><path d=\"M17.41 7.96l-1.37-1.37c-.4-.4-.92-.59-1.43-.59-.52 0-1.04.2-1.43.59L10.3 9.45l-7.72 7.72c-.78.78-.78 2.05 0 2.83L4 21.41c.39.39.9.59 1.41.59.51 0 1.02-.2 1.41-.59l7.78-7.78 2.81-2.81c.8-.78.8-2.07 0-2.86zM5.41 20L4 18.59l7.72-7.72 1.47 1.35L5.41 20z\"/>\n",
              "  </svg>\n",
              "      </button>\n",
              "      \n",
              "  <style>\n",
              "    .colab-df-container {\n",
              "      display:flex;\n",
              "      flex-wrap:wrap;\n",
              "      gap: 12px;\n",
              "    }\n",
              "\n",
              "    .colab-df-convert {\n",
              "      background-color: #E8F0FE;\n",
              "      border: none;\n",
              "      border-radius: 50%;\n",
              "      cursor: pointer;\n",
              "      display: none;\n",
              "      fill: #1967D2;\n",
              "      height: 32px;\n",
              "      padding: 0 0 0 0;\n",
              "      width: 32px;\n",
              "    }\n",
              "\n",
              "    .colab-df-convert:hover {\n",
              "      background-color: #E2EBFA;\n",
              "      box-shadow: 0px 1px 2px rgba(60, 64, 67, 0.3), 0px 1px 3px 1px rgba(60, 64, 67, 0.15);\n",
              "      fill: #174EA6;\n",
              "    }\n",
              "\n",
              "    [theme=dark] .colab-df-convert {\n",
              "      background-color: #3B4455;\n",
              "      fill: #D2E3FC;\n",
              "    }\n",
              "\n",
              "    [theme=dark] .colab-df-convert:hover {\n",
              "      background-color: #434B5C;\n",
              "      box-shadow: 0px 1px 3px 1px rgba(0, 0, 0, 0.15);\n",
              "      filter: drop-shadow(0px 1px 2px rgba(0, 0, 0, 0.3));\n",
              "      fill: #FFFFFF;\n",
              "    }\n",
              "  </style>\n",
              "\n",
              "      <script>\n",
              "        const buttonEl =\n",
              "          document.querySelector('#df-042fd61c-8731-4c9f-abc7-60dc04913cf3 button.colab-df-convert');\n",
              "        buttonEl.style.display =\n",
              "          google.colab.kernel.accessAllowed ? 'block' : 'none';\n",
              "\n",
              "        async function convertToInteractive(key) {\n",
              "          const element = document.querySelector('#df-042fd61c-8731-4c9f-abc7-60dc04913cf3');\n",
              "          const dataTable =\n",
              "            await google.colab.kernel.invokeFunction('convertToInteractive',\n",
              "                                                     [key], {});\n",
              "          if (!dataTable) return;\n",
              "\n",
              "          const docLinkHtml = 'Like what you see? Visit the ' +\n",
              "            '<a target=\"_blank\" href=https://colab.research.google.com/notebooks/data_table.ipynb>data table notebook</a>'\n",
              "            + ' to learn more about interactive tables.';\n",
              "          element.innerHTML = '';\n",
              "          dataTable['output_type'] = 'display_data';\n",
              "          await google.colab.output.renderOutput(dataTable, element);\n",
              "          const docLink = document.createElement('div');\n",
              "          docLink.innerHTML = docLinkHtml;\n",
              "          element.appendChild(docLink);\n",
              "        }\n",
              "      </script>\n",
              "    </div>\n",
              "  </div>\n",
              "  "
            ]
          },
          "metadata": {},
          "execution_count": 8
        }
      ]
    },
    {
      "cell_type": "code",
      "source": [
        "df.set_index('Unnamed: 0',inplace=True)"
      ],
      "metadata": {
        "id": "SGl6Xoq2NKfj"
      },
      "execution_count": null,
      "outputs": []
    },
    {
      "cell_type": "code",
      "source": [
        "df"
      ],
      "metadata": {
        "colab": {
          "base_uri": "https://localhost:8080/",
          "height": 455
        },
        "id": "AP7zKtcZSORi",
        "outputId": "8b524941-a2b4-4e24-a60b-44d7ac2eb887"
      },
      "execution_count": null,
      "outputs": [
        {
          "output_type": "execute_result",
          "data": {
            "text/plain": [
              "            temp  clouds_all  weather_main  weather_description  month  hour  \\\n",
              "Unnamed: 0                                                                     \n",
              "0           0.55       -0.24         -0.57                 0.83   1.03 -0.35   \n",
              "1           0.64        0.66         -0.57                -1.62   1.03 -0.20   \n",
              "2           0.65        1.04         -0.57                 0.27   1.03 -0.06   \n",
              "3           0.70        1.04         -0.57                 0.27   1.03  0.09   \n",
              "4           0.78        0.66         -0.57                -1.62   1.03  0.23   \n",
              "...          ...         ...           ...                  ...    ...   ...   \n",
              "48189       0.17        0.66         -0.57                -1.62   0.73  1.10   \n",
              "48190       0.12        1.04         -0.57                 0.27   0.73  1.24   \n",
              "48191       0.12        1.04          2.67                 0.50   0.73  1.38   \n",
              "48192       0.06        1.04         -0.57                 0.27   0.73  1.53   \n",
              "48193       0.07        1.04         -0.57                 0.27   0.73  1.67   \n",
              "\n",
              "             end  \n",
              "Unnamed: 0        \n",
              "0           5545  \n",
              "1           4516  \n",
              "2           4767  \n",
              "3           5026  \n",
              "4           4918  \n",
              "...          ...  \n",
              "48189       3543  \n",
              "48190       2781  \n",
              "48191       2159  \n",
              "48192       1450  \n",
              "48193        954  \n",
              "\n",
              "[48194 rows x 7 columns]"
            ],
            "text/html": [
              "\n",
              "  <div id=\"df-496148f3-9d58-4a24-b796-f1152293914f\">\n",
              "    <div class=\"colab-df-container\">\n",
              "      <div>\n",
              "<style scoped>\n",
              "    .dataframe tbody tr th:only-of-type {\n",
              "        vertical-align: middle;\n",
              "    }\n",
              "\n",
              "    .dataframe tbody tr th {\n",
              "        vertical-align: top;\n",
              "    }\n",
              "\n",
              "    .dataframe thead th {\n",
              "        text-align: right;\n",
              "    }\n",
              "</style>\n",
              "<table border=\"1\" class=\"dataframe\">\n",
              "  <thead>\n",
              "    <tr style=\"text-align: right;\">\n",
              "      <th></th>\n",
              "      <th>temp</th>\n",
              "      <th>clouds_all</th>\n",
              "      <th>weather_main</th>\n",
              "      <th>weather_description</th>\n",
              "      <th>month</th>\n",
              "      <th>hour</th>\n",
              "      <th>end</th>\n",
              "    </tr>\n",
              "    <tr>\n",
              "      <th>Unnamed: 0</th>\n",
              "      <th></th>\n",
              "      <th></th>\n",
              "      <th></th>\n",
              "      <th></th>\n",
              "      <th></th>\n",
              "      <th></th>\n",
              "      <th></th>\n",
              "    </tr>\n",
              "  </thead>\n",
              "  <tbody>\n",
              "    <tr>\n",
              "      <th>0</th>\n",
              "      <td>0.55</td>\n",
              "      <td>-0.24</td>\n",
              "      <td>-0.57</td>\n",
              "      <td>0.83</td>\n",
              "      <td>1.03</td>\n",
              "      <td>-0.35</td>\n",
              "      <td>5545</td>\n",
              "    </tr>\n",
              "    <tr>\n",
              "      <th>1</th>\n",
              "      <td>0.64</td>\n",
              "      <td>0.66</td>\n",
              "      <td>-0.57</td>\n",
              "      <td>-1.62</td>\n",
              "      <td>1.03</td>\n",
              "      <td>-0.20</td>\n",
              "      <td>4516</td>\n",
              "    </tr>\n",
              "    <tr>\n",
              "      <th>2</th>\n",
              "      <td>0.65</td>\n",
              "      <td>1.04</td>\n",
              "      <td>-0.57</td>\n",
              "      <td>0.27</td>\n",
              "      <td>1.03</td>\n",
              "      <td>-0.06</td>\n",
              "      <td>4767</td>\n",
              "    </tr>\n",
              "    <tr>\n",
              "      <th>3</th>\n",
              "      <td>0.70</td>\n",
              "      <td>1.04</td>\n",
              "      <td>-0.57</td>\n",
              "      <td>0.27</td>\n",
              "      <td>1.03</td>\n",
              "      <td>0.09</td>\n",
              "      <td>5026</td>\n",
              "    </tr>\n",
              "    <tr>\n",
              "      <th>4</th>\n",
              "      <td>0.78</td>\n",
              "      <td>0.66</td>\n",
              "      <td>-0.57</td>\n",
              "      <td>-1.62</td>\n",
              "      <td>1.03</td>\n",
              "      <td>0.23</td>\n",
              "      <td>4918</td>\n",
              "    </tr>\n",
              "    <tr>\n",
              "      <th>...</th>\n",
              "      <td>...</td>\n",
              "      <td>...</td>\n",
              "      <td>...</td>\n",
              "      <td>...</td>\n",
              "      <td>...</td>\n",
              "      <td>...</td>\n",
              "      <td>...</td>\n",
              "    </tr>\n",
              "    <tr>\n",
              "      <th>48189</th>\n",
              "      <td>0.17</td>\n",
              "      <td>0.66</td>\n",
              "      <td>-0.57</td>\n",
              "      <td>-1.62</td>\n",
              "      <td>0.73</td>\n",
              "      <td>1.10</td>\n",
              "      <td>3543</td>\n",
              "    </tr>\n",
              "    <tr>\n",
              "      <th>48190</th>\n",
              "      <td>0.12</td>\n",
              "      <td>1.04</td>\n",
              "      <td>-0.57</td>\n",
              "      <td>0.27</td>\n",
              "      <td>0.73</td>\n",
              "      <td>1.24</td>\n",
              "      <td>2781</td>\n",
              "    </tr>\n",
              "    <tr>\n",
              "      <th>48191</th>\n",
              "      <td>0.12</td>\n",
              "      <td>1.04</td>\n",
              "      <td>2.67</td>\n",
              "      <td>0.50</td>\n",
              "      <td>0.73</td>\n",
              "      <td>1.38</td>\n",
              "      <td>2159</td>\n",
              "    </tr>\n",
              "    <tr>\n",
              "      <th>48192</th>\n",
              "      <td>0.06</td>\n",
              "      <td>1.04</td>\n",
              "      <td>-0.57</td>\n",
              "      <td>0.27</td>\n",
              "      <td>0.73</td>\n",
              "      <td>1.53</td>\n",
              "      <td>1450</td>\n",
              "    </tr>\n",
              "    <tr>\n",
              "      <th>48193</th>\n",
              "      <td>0.07</td>\n",
              "      <td>1.04</td>\n",
              "      <td>-0.57</td>\n",
              "      <td>0.27</td>\n",
              "      <td>0.73</td>\n",
              "      <td>1.67</td>\n",
              "      <td>954</td>\n",
              "    </tr>\n",
              "  </tbody>\n",
              "</table>\n",
              "<p>48194 rows × 7 columns</p>\n",
              "</div>\n",
              "      <button class=\"colab-df-convert\" onclick=\"convertToInteractive('df-496148f3-9d58-4a24-b796-f1152293914f')\"\n",
              "              title=\"Convert this dataframe to an interactive table.\"\n",
              "              style=\"display:none;\">\n",
              "        \n",
              "  <svg xmlns=\"http://www.w3.org/2000/svg\" height=\"24px\"viewBox=\"0 0 24 24\"\n",
              "       width=\"24px\">\n",
              "    <path d=\"M0 0h24v24H0V0z\" fill=\"none\"/>\n",
              "    <path d=\"M18.56 5.44l.94 2.06.94-2.06 2.06-.94-2.06-.94-.94-2.06-.94 2.06-2.06.94zm-11 1L8.5 8.5l.94-2.06 2.06-.94-2.06-.94L8.5 2.5l-.94 2.06-2.06.94zm10 10l.94 2.06.94-2.06 2.06-.94-2.06-.94-.94-2.06-.94 2.06-2.06.94z\"/><path d=\"M17.41 7.96l-1.37-1.37c-.4-.4-.92-.59-1.43-.59-.52 0-1.04.2-1.43.59L10.3 9.45l-7.72 7.72c-.78.78-.78 2.05 0 2.83L4 21.41c.39.39.9.59 1.41.59.51 0 1.02-.2 1.41-.59l7.78-7.78 2.81-2.81c.8-.78.8-2.07 0-2.86zM5.41 20L4 18.59l7.72-7.72 1.47 1.35L5.41 20z\"/>\n",
              "  </svg>\n",
              "      </button>\n",
              "      \n",
              "  <style>\n",
              "    .colab-df-container {\n",
              "      display:flex;\n",
              "      flex-wrap:wrap;\n",
              "      gap: 12px;\n",
              "    }\n",
              "\n",
              "    .colab-df-convert {\n",
              "      background-color: #E8F0FE;\n",
              "      border: none;\n",
              "      border-radius: 50%;\n",
              "      cursor: pointer;\n",
              "      display: none;\n",
              "      fill: #1967D2;\n",
              "      height: 32px;\n",
              "      padding: 0 0 0 0;\n",
              "      width: 32px;\n",
              "    }\n",
              "\n",
              "    .colab-df-convert:hover {\n",
              "      background-color: #E2EBFA;\n",
              "      box-shadow: 0px 1px 2px rgba(60, 64, 67, 0.3), 0px 1px 3px 1px rgba(60, 64, 67, 0.15);\n",
              "      fill: #174EA6;\n",
              "    }\n",
              "\n",
              "    [theme=dark] .colab-df-convert {\n",
              "      background-color: #3B4455;\n",
              "      fill: #D2E3FC;\n",
              "    }\n",
              "\n",
              "    [theme=dark] .colab-df-convert:hover {\n",
              "      background-color: #434B5C;\n",
              "      box-shadow: 0px 1px 3px 1px rgba(0, 0, 0, 0.15);\n",
              "      filter: drop-shadow(0px 1px 2px rgba(0, 0, 0, 0.3));\n",
              "      fill: #FFFFFF;\n",
              "    }\n",
              "  </style>\n",
              "\n",
              "      <script>\n",
              "        const buttonEl =\n",
              "          document.querySelector('#df-496148f3-9d58-4a24-b796-f1152293914f button.colab-df-convert');\n",
              "        buttonEl.style.display =\n",
              "          google.colab.kernel.accessAllowed ? 'block' : 'none';\n",
              "\n",
              "        async function convertToInteractive(key) {\n",
              "          const element = document.querySelector('#df-496148f3-9d58-4a24-b796-f1152293914f');\n",
              "          const dataTable =\n",
              "            await google.colab.kernel.invokeFunction('convertToInteractive',\n",
              "                                                     [key], {});\n",
              "          if (!dataTable) return;\n",
              "\n",
              "          const docLinkHtml = 'Like what you see? Visit the ' +\n",
              "            '<a target=\"_blank\" href=https://colab.research.google.com/notebooks/data_table.ipynb>data table notebook</a>'\n",
              "            + ' to learn more about interactive tables.';\n",
              "          element.innerHTML = '';\n",
              "          dataTable['output_type'] = 'display_data';\n",
              "          await google.colab.output.renderOutput(dataTable, element);\n",
              "          const docLink = document.createElement('div');\n",
              "          docLink.innerHTML = docLinkHtml;\n",
              "          element.appendChild(docLink);\n",
              "        }\n",
              "      </script>\n",
              "    </div>\n",
              "  </div>\n",
              "  "
            ]
          },
          "metadata": {},
          "execution_count": 10
        }
      ]
    },
    {
      "cell_type": "code",
      "source": [
        "pd.set_option('precision', 2)"
      ],
      "metadata": {
        "id": "tj7d_tApcI9L"
      },
      "execution_count": null,
      "outputs": []
    },
    {
      "cell_type": "code",
      "source": [
        "df"
      ],
      "metadata": {
        "colab": {
          "base_uri": "https://localhost:8080/",
          "height": 455
        },
        "id": "qHf3CyD1OKSY",
        "outputId": "e7078e25-7630-42ca-af6b-8f9abe13783f"
      },
      "execution_count": null,
      "outputs": [
        {
          "output_type": "execute_result",
          "data": {
            "text/plain": [
              "            temp  clouds_all  weather_main  weather_description  month  hour  \\\n",
              "Unnamed: 0                                                                     \n",
              "0           0.55       -0.24         -0.57                 0.83   1.03 -0.35   \n",
              "1           0.64        0.66         -0.57                -1.62   1.03 -0.20   \n",
              "2           0.65        1.04         -0.57                 0.27   1.03 -0.06   \n",
              "3           0.70        1.04         -0.57                 0.27   1.03  0.09   \n",
              "4           0.78        0.66         -0.57                -1.62   1.03  0.23   \n",
              "...          ...         ...           ...                  ...    ...   ...   \n",
              "48189       0.17        0.66         -0.57                -1.62   0.73  1.10   \n",
              "48190       0.12        1.04         -0.57                 0.27   0.73  1.24   \n",
              "48191       0.12        1.04          2.67                 0.50   0.73  1.38   \n",
              "48192       0.06        1.04         -0.57                 0.27   0.73  1.53   \n",
              "48193       0.07        1.04         -0.57                 0.27   0.73  1.67   \n",
              "\n",
              "             end  \n",
              "Unnamed: 0        \n",
              "0           5545  \n",
              "1           4516  \n",
              "2           4767  \n",
              "3           5026  \n",
              "4           4918  \n",
              "...          ...  \n",
              "48189       3543  \n",
              "48190       2781  \n",
              "48191       2159  \n",
              "48192       1450  \n",
              "48193        954  \n",
              "\n",
              "[48194 rows x 7 columns]"
            ],
            "text/html": [
              "\n",
              "  <div id=\"df-e260227b-7fe4-410c-b9ac-a7056d491686\">\n",
              "    <div class=\"colab-df-container\">\n",
              "      <div>\n",
              "<style scoped>\n",
              "    .dataframe tbody tr th:only-of-type {\n",
              "        vertical-align: middle;\n",
              "    }\n",
              "\n",
              "    .dataframe tbody tr th {\n",
              "        vertical-align: top;\n",
              "    }\n",
              "\n",
              "    .dataframe thead th {\n",
              "        text-align: right;\n",
              "    }\n",
              "</style>\n",
              "<table border=\"1\" class=\"dataframe\">\n",
              "  <thead>\n",
              "    <tr style=\"text-align: right;\">\n",
              "      <th></th>\n",
              "      <th>temp</th>\n",
              "      <th>clouds_all</th>\n",
              "      <th>weather_main</th>\n",
              "      <th>weather_description</th>\n",
              "      <th>month</th>\n",
              "      <th>hour</th>\n",
              "      <th>end</th>\n",
              "    </tr>\n",
              "    <tr>\n",
              "      <th>Unnamed: 0</th>\n",
              "      <th></th>\n",
              "      <th></th>\n",
              "      <th></th>\n",
              "      <th></th>\n",
              "      <th></th>\n",
              "      <th></th>\n",
              "      <th></th>\n",
              "    </tr>\n",
              "  </thead>\n",
              "  <tbody>\n",
              "    <tr>\n",
              "      <th>0</th>\n",
              "      <td>0.55</td>\n",
              "      <td>-0.24</td>\n",
              "      <td>-0.57</td>\n",
              "      <td>0.83</td>\n",
              "      <td>1.03</td>\n",
              "      <td>-0.35</td>\n",
              "      <td>5545</td>\n",
              "    </tr>\n",
              "    <tr>\n",
              "      <th>1</th>\n",
              "      <td>0.64</td>\n",
              "      <td>0.66</td>\n",
              "      <td>-0.57</td>\n",
              "      <td>-1.62</td>\n",
              "      <td>1.03</td>\n",
              "      <td>-0.20</td>\n",
              "      <td>4516</td>\n",
              "    </tr>\n",
              "    <tr>\n",
              "      <th>2</th>\n",
              "      <td>0.65</td>\n",
              "      <td>1.04</td>\n",
              "      <td>-0.57</td>\n",
              "      <td>0.27</td>\n",
              "      <td>1.03</td>\n",
              "      <td>-0.06</td>\n",
              "      <td>4767</td>\n",
              "    </tr>\n",
              "    <tr>\n",
              "      <th>3</th>\n",
              "      <td>0.70</td>\n",
              "      <td>1.04</td>\n",
              "      <td>-0.57</td>\n",
              "      <td>0.27</td>\n",
              "      <td>1.03</td>\n",
              "      <td>0.09</td>\n",
              "      <td>5026</td>\n",
              "    </tr>\n",
              "    <tr>\n",
              "      <th>4</th>\n",
              "      <td>0.78</td>\n",
              "      <td>0.66</td>\n",
              "      <td>-0.57</td>\n",
              "      <td>-1.62</td>\n",
              "      <td>1.03</td>\n",
              "      <td>0.23</td>\n",
              "      <td>4918</td>\n",
              "    </tr>\n",
              "    <tr>\n",
              "      <th>...</th>\n",
              "      <td>...</td>\n",
              "      <td>...</td>\n",
              "      <td>...</td>\n",
              "      <td>...</td>\n",
              "      <td>...</td>\n",
              "      <td>...</td>\n",
              "      <td>...</td>\n",
              "    </tr>\n",
              "    <tr>\n",
              "      <th>48189</th>\n",
              "      <td>0.17</td>\n",
              "      <td>0.66</td>\n",
              "      <td>-0.57</td>\n",
              "      <td>-1.62</td>\n",
              "      <td>0.73</td>\n",
              "      <td>1.10</td>\n",
              "      <td>3543</td>\n",
              "    </tr>\n",
              "    <tr>\n",
              "      <th>48190</th>\n",
              "      <td>0.12</td>\n",
              "      <td>1.04</td>\n",
              "      <td>-0.57</td>\n",
              "      <td>0.27</td>\n",
              "      <td>0.73</td>\n",
              "      <td>1.24</td>\n",
              "      <td>2781</td>\n",
              "    </tr>\n",
              "    <tr>\n",
              "      <th>48191</th>\n",
              "      <td>0.12</td>\n",
              "      <td>1.04</td>\n",
              "      <td>2.67</td>\n",
              "      <td>0.50</td>\n",
              "      <td>0.73</td>\n",
              "      <td>1.38</td>\n",
              "      <td>2159</td>\n",
              "    </tr>\n",
              "    <tr>\n",
              "      <th>48192</th>\n",
              "      <td>0.06</td>\n",
              "      <td>1.04</td>\n",
              "      <td>-0.57</td>\n",
              "      <td>0.27</td>\n",
              "      <td>0.73</td>\n",
              "      <td>1.53</td>\n",
              "      <td>1450</td>\n",
              "    </tr>\n",
              "    <tr>\n",
              "      <th>48193</th>\n",
              "      <td>0.07</td>\n",
              "      <td>1.04</td>\n",
              "      <td>-0.57</td>\n",
              "      <td>0.27</td>\n",
              "      <td>0.73</td>\n",
              "      <td>1.67</td>\n",
              "      <td>954</td>\n",
              "    </tr>\n",
              "  </tbody>\n",
              "</table>\n",
              "<p>48194 rows × 7 columns</p>\n",
              "</div>\n",
              "      <button class=\"colab-df-convert\" onclick=\"convertToInteractive('df-e260227b-7fe4-410c-b9ac-a7056d491686')\"\n",
              "              title=\"Convert this dataframe to an interactive table.\"\n",
              "              style=\"display:none;\">\n",
              "        \n",
              "  <svg xmlns=\"http://www.w3.org/2000/svg\" height=\"24px\"viewBox=\"0 0 24 24\"\n",
              "       width=\"24px\">\n",
              "    <path d=\"M0 0h24v24H0V0z\" fill=\"none\"/>\n",
              "    <path d=\"M18.56 5.44l.94 2.06.94-2.06 2.06-.94-2.06-.94-.94-2.06-.94 2.06-2.06.94zm-11 1L8.5 8.5l.94-2.06 2.06-.94-2.06-.94L8.5 2.5l-.94 2.06-2.06.94zm10 10l.94 2.06.94-2.06 2.06-.94-2.06-.94-.94-2.06-.94 2.06-2.06.94z\"/><path d=\"M17.41 7.96l-1.37-1.37c-.4-.4-.92-.59-1.43-.59-.52 0-1.04.2-1.43.59L10.3 9.45l-7.72 7.72c-.78.78-.78 2.05 0 2.83L4 21.41c.39.39.9.59 1.41.59.51 0 1.02-.2 1.41-.59l7.78-7.78 2.81-2.81c.8-.78.8-2.07 0-2.86zM5.41 20L4 18.59l7.72-7.72 1.47 1.35L5.41 20z\"/>\n",
              "  </svg>\n",
              "      </button>\n",
              "      \n",
              "  <style>\n",
              "    .colab-df-container {\n",
              "      display:flex;\n",
              "      flex-wrap:wrap;\n",
              "      gap: 12px;\n",
              "    }\n",
              "\n",
              "    .colab-df-convert {\n",
              "      background-color: #E8F0FE;\n",
              "      border: none;\n",
              "      border-radius: 50%;\n",
              "      cursor: pointer;\n",
              "      display: none;\n",
              "      fill: #1967D2;\n",
              "      height: 32px;\n",
              "      padding: 0 0 0 0;\n",
              "      width: 32px;\n",
              "    }\n",
              "\n",
              "    .colab-df-convert:hover {\n",
              "      background-color: #E2EBFA;\n",
              "      box-shadow: 0px 1px 2px rgba(60, 64, 67, 0.3), 0px 1px 3px 1px rgba(60, 64, 67, 0.15);\n",
              "      fill: #174EA6;\n",
              "    }\n",
              "\n",
              "    [theme=dark] .colab-df-convert {\n",
              "      background-color: #3B4455;\n",
              "      fill: #D2E3FC;\n",
              "    }\n",
              "\n",
              "    [theme=dark] .colab-df-convert:hover {\n",
              "      background-color: #434B5C;\n",
              "      box-shadow: 0px 1px 3px 1px rgba(0, 0, 0, 0.15);\n",
              "      filter: drop-shadow(0px 1px 2px rgba(0, 0, 0, 0.3));\n",
              "      fill: #FFFFFF;\n",
              "    }\n",
              "  </style>\n",
              "\n",
              "      <script>\n",
              "        const buttonEl =\n",
              "          document.querySelector('#df-e260227b-7fe4-410c-b9ac-a7056d491686 button.colab-df-convert');\n",
              "        buttonEl.style.display =\n",
              "          google.colab.kernel.accessAllowed ? 'block' : 'none';\n",
              "\n",
              "        async function convertToInteractive(key) {\n",
              "          const element = document.querySelector('#df-e260227b-7fe4-410c-b9ac-a7056d491686');\n",
              "          const dataTable =\n",
              "            await google.colab.kernel.invokeFunction('convertToInteractive',\n",
              "                                                     [key], {});\n",
              "          if (!dataTable) return;\n",
              "\n",
              "          const docLinkHtml = 'Like what you see? Visit the ' +\n",
              "            '<a target=\"_blank\" href=https://colab.research.google.com/notebooks/data_table.ipynb>data table notebook</a>'\n",
              "            + ' to learn more about interactive tables.';\n",
              "          element.innerHTML = '';\n",
              "          dataTable['output_type'] = 'display_data';\n",
              "          await google.colab.output.renderOutput(dataTable, element);\n",
              "          const docLink = document.createElement('div');\n",
              "          docLink.innerHTML = docLinkHtml;\n",
              "          element.appendChild(docLink);\n",
              "        }\n",
              "      </script>\n",
              "    </div>\n",
              "  </div>\n",
              "  "
            ]
          },
          "metadata": {},
          "execution_count": 39
        }
      ]
    },
    {
      "cell_type": "code",
      "source": [
        "X = df.iloc[:1000,:6].values\n",
        "X"
      ],
      "metadata": {
        "colab": {
          "base_uri": "https://localhost:8080/"
        },
        "id": "-Y1Jht97R3CI",
        "outputId": "85411547-80f7-4ffc-8c70-f8841190f485"
      },
      "execution_count": null,
      "outputs": [
        {
          "output_type": "execute_result",
          "data": {
            "text/plain": [
              "array([[ 0.55, -0.24, -0.57,  0.83,  1.03, -0.35],\n",
              "       [ 0.64,  0.66, -0.57, -1.62,  1.03, -0.2 ],\n",
              "       [ 0.65,  1.04, -0.57,  0.27,  1.03, -0.06],\n",
              "       ...,\n",
              "       [-0.35,  1.04, -0.57,  0.27,  1.32,  1.67],\n",
              "       [-0.35,  1.04, -0.57,  0.27,  1.32, -1.64],\n",
              "       [-0.36,  1.04, -0.57,  0.27,  1.32, -1.5 ]])"
            ]
          },
          "metadata": {},
          "execution_count": 45
        }
      ]
    },
    {
      "cell_type": "code",
      "source": [
        "Y = df.iloc[:1000,6].values\n",
        "Y"
      ],
      "metadata": {
        "colab": {
          "base_uri": "https://localhost:8080/"
        },
        "id": "RFp0Zpru52tp",
        "outputId": "bbc7adb1-e811-4da1-d8ce-f6f2b1d49661"
      },
      "execution_count": null,
      "outputs": [
        {
          "output_type": "execute_result",
          "data": {
            "text/plain": [
              "array([5545, 4516, 4767, 5026, 4918, 5181, 5584, 6015, 5791, 4770, 3539,\n",
              "       2784, 2361, 1529,  963,  506,  321,  273,  367,  814, 2718, 5673,\n",
              "       6511, 5471, 5097, 4887, 5337, 5692, 6137, 4623, 3591, 2898, 2637,\n",
              "       1777, 1015,  598,  369,  312,  367,  835, 2726, 5689, 6990, 5985,\n",
              "       5309, 4603, 4884, 5104, 5178, 5501, 5713, 6292, 6057, 4907, 3503,\n",
              "       3037, 2822, 1992, 1166,  627,  388,  368, 2489, 5537, 6628, 5534,\n",
              "       5403, 4770, 5217, 5870, 5967, 6108, 6128, 6069, 6169, 5384, 4063,\n",
              "       3364, 2971, 2450, 1832, 1231,  718,  545,  411,  688, 1352, 2072,\n",
              "       3342, 4258, 4861, 5191, 5669, 5074, 5025, 5153, 5024, 4779, 4362,\n",
              "       3860, 3160, 2992, 3202, 1941, 1233,  323,  312,  627, 1508, 1539,\n",
              "       2232, 4568, 4624, 4529, 5139, 6640, 6589, 4429, 4329, 3833, 4015,\n",
              "       3382, 2815, 2110, 1555,  959,  455,  336,  265,  314,  779, 2571,\n",
              "       5563, 6676, 5966, 4832, 4395, 4411, 4648, 4602, 5125, 5502, 5979,\n",
              "       5663, 4259, 3069, 2378, 2030, 1400,  917,  515,  302,  251,  798,\n",
              "       2678, 5733, 6449, 5765, 5599, 4534, 4691, 5067, 5030, 5300, 5777,\n",
              "       6349, 6127, 4460, 3418, 2775, 2306, 1846,  947,  494,  332,  261,\n",
              "        361, 5875, 6793, 6793, 6283, 6283, 5680, 5680, 4632, 4887, 5030,\n",
              "       5067, 5227, 5610, 6286, 4775, 3340, 3013, 2603, 1910, 1037,  347,\n",
              "        350,  850, 2791, 5809, 6798, 6304, 5291, 4638, 5557, 5818, 6272,\n",
              "       5944, 4949, 3511, 3039, 2679, 2094, 1284,  630,  410,  331,  372,\n",
              "        739, 2561, 5586, 6992, 5860, 5230, 4864, 5146, 5526, 5383, 5758,\n",
              "       5889, 6057, 6028, 5257, 1897, 1335,  769,  570,  413,  399,  740,\n",
              "       1420, 2220, 3479, 4546, 4579, 4438, 4623, 4440, 4495, 4483, 4591,\n",
              "       4477, 4221, 3672, 3015, 2769, 2875, 1931, 1309,  870,  654,  364,\n",
              "        262,  505,  861, 1132, 1797, 2685, 2685, 2685, 3370, 3370, 3662,\n",
              "       3662, 4076, 4076, 4076, 4128, 4128, 4128, 4358, 4358, 4358, 4342,\n",
              "       4342, 4234, 4271, 4271, 4080, 3453, 2718, 2439, 1819, 1002, 1002,\n",
              "        542,  542,  303,  239,  335,  335,  810,  810, 2606, 2606, 5714,\n",
              "       6798, 6114, 5094, 4473, 4529, 4823, 4872, 5238, 5584, 6246, 5957,\n",
              "       4535, 3234, 2677, 2077, 1380,  927,  500,  324,  257,  354,  769,\n",
              "       2769, 5789, 7055, 6408, 5254, 4547, 4784, 5015, 5057, 5430, 5813,\n",
              "       6496, 6429, 5142, 3311, 2777, 2331, 1767, 1093,  554,  333,  267,\n",
              "        358,  777, 2732, 5637, 5564, 6274, 5403, 5403, 4680, 4642, 4979,\n",
              "       4851, 4291, 4714, 6723, 6180, 4843, 3435, 2921, 2763, 1930, 1160,\n",
              "        654,  374,  301,  397,  794, 2564, 5358, 6441, 5536, 5256, 4619,\n",
              "       5107, 5147, 5283, 5704, 5887, 6307, 5953, 4519, 3427, 2921, 2649,\n",
              "       2005, 1177,  699,  436,  353,  353,  399,  720,  720,  720,  720,\n",
              "       2370, 2370, 5162, 5162, 5162, 5777, 5777, 5235, 5235, 5235, 4606,\n",
              "       4606, 4328, 4282, 4489, 4908, 5620, 5849, 5849, 4945, 4619, 4479,\n",
              "       3804, 2908, 2942, 3077, 3077, 2051, 2051, 2051, 1270, 1270,  773,\n",
              "        773,  589,  432,  432,  401,  401,  401,  759,  759,  759, 1313,\n",
              "       1313, 1313, 1824, 1824, 1824, 2787, 2787, 2787, 3713, 3713, 3713,\n",
              "       3713, 3815, 3815, 3815, 3815, 4339, 4339, 4339, 4613, 4613, 4613,\n",
              "       4613, 4507, 4452, 4636, 4810, 5125, 4337, 3644, 3107, 2929, 2865,\n",
              "       2340, 1372, 1928, 1928, 4695, 4335, 1583,  959,  498,  306,  259,\n",
              "        324,  806, 2622, 5456, 4324, 4378, 4639, 4546, 5006, 5361, 6101,\n",
              "       5781, 4272, 3091, 2434, 1984, 1383,  959,  511,  346,  253,  349,\n",
              "        807, 2669, 5210, 6083, 5790, 5484, 4407, 4725, 4826, 4945, 5065,\n",
              "       5618, 6094, 5844, 4649, 3180, 2963, 2450, 1613, 1021,  580,  580,\n",
              "        298,  261,  408,  408,  793,  793, 2643, 2643, 2643, 5593, 5593,\n",
              "       5593, 5593, 5722, 5722, 5607, 5607, 5607, 5607, 5492, 5492, 5492,\n",
              "       4542, 4720, 4720, 4982, 4982, 4982, 5032, 5032, 5032, 5212, 5212,\n",
              "       5661, 5661, 5661, 5812, 5855, 5855, 4416, 4416, 3118, 2877, 2877,\n",
              "       2498, 1701, 1028,  578,  354,  272,  370,  809,  809, 2641, 4957,\n",
              "       6036, 6036, 5309, 4438, 4723, 4879, 5062, 5450, 5450, 5450, 5450,\n",
              "       5888, 5888, 5888, 5888, 5888, 6473, 6473, 6473, 6488, 6488, 6488,\n",
              "       5351, 5351, 5351, 5351, 3500, 3500, 3500, 2856, 2856, 2856, 2587,\n",
              "       2587, 2587, 1979, 1284,  665,  665,  665,  432,  432,  326,  326,\n",
              "        326,  380,  380,  380,  380,  705,  705,  705,  705,  705, 2430,\n",
              "       2430, 2430, 2430, 5426, 5426, 5426, 6499, 6499, 5856, 5856, 5856,\n",
              "       5234, 5234, 5234, 4695, 4695, 4695, 4695, 5341, 5341, 5341, 5341,\n",
              "       5943, 5943, 5874, 5879, 5879, 6060, 6348, 5955, 5341, 4144, 3249,\n",
              "       3017, 2765, 1894, 1159,  822,  641,  411,  468,  723, 1415, 2191,\n",
              "       3185, 4076, 4522, 6012, 5975, 5307, 4678, 4405, 4403, 4311, 4198,\n",
              "       3475, 3078, 2931, 2941, 2240, 1564,  795,  447,  443,  330,  453,\n",
              "        755,  953, 1650, 2442, 3230, 3575, 4139, 3892, 3989, 4294, 4521,\n",
              "       4280, 3945, 3169, 2772, 2213, 1570, 1065,  530,  331,  270,  316,\n",
              "        799, 2513, 5503, 6642, 6195, 5246, 4460, 4580, 4771, 4836, 5138,\n",
              "       5606, 6120, 5985, 4418, 3089, 2636, 2117, 1437,  920,  600,  393,\n",
              "        298,  352,  762, 2519, 5478, 6728, 5972, 5280, 4626, 4947, 5125,\n",
              "       5130, 5394, 5837, 6222, 5992, 4578, 3246, 2834, 2578, 1979, 1326,\n",
              "        541,  346,  265,  338,  765, 2611, 5577, 6908, 6079, 5309, 4567,\n",
              "       4804, 5041, 5051, 5274, 5936, 6128, 5821, 4040, 2711, 2690, 2539,\n",
              "       1925, 1471,  716,  453,  324,  390,  775, 2572, 5595, 6852, 5892,\n",
              "       5327, 4756, 5073, 5286, 5189, 5495, 5713, 6317, 6306, 4867, 3501,\n",
              "       3110, 2727, 1825, 1222,  611,  441,  331,  365,  708, 2379, 5236,\n",
              "       6509, 5723, 5239, 4723, 5330, 5403, 5446, 5669, 6093, 6323, 5856,\n",
              "       4987, 3681, 2902, 2929, 2728, 1693, 1166,  724,  568,  343,  383,\n",
              "        703, 1229, 2057, 3246, 4390, 4573, 4269, 4833, 4442, 4397, 4314,\n",
              "       4413, 4125, 4004, 3404, 2777, 2579, 2552, 1952, 2125,  730,  730,\n",
              "        345,  223,  488,  710, 1165, 2067, 2067, 2911, 3527, 3765, 4063,\n",
              "       4043, 4200, 4105, 4015, 3620, 3652, 2837, 2446, 1950, 1451,  999,\n",
              "       1720, 1299,  304,  412,  753, 2562, 5658, 6877, 5981, 4999, 4408,\n",
              "       4575, 4710, 4648, 4968, 6124, 6134, 4265, 2415, 1963, 1454,  938,\n",
              "        537,  313,  256,  356,  788, 2565, 5330, 6181, 6182, 5720, 4612,\n",
              "       4666, 5022, 5490, 5973, 6201, 5453, 3921, 3921, 2835, 2835, 2450,\n",
              "       2450, 2078, 2078, 2078, 1671, 1671, 1671, 1472, 1472,  792,  792,\n",
              "        792,  811,  811,  671,  671,  671,  671,  474,  474,  474,  790,\n",
              "        790, 2619, 2619, 5788, 5788, 5788, 7088, 7088, 6264, 6264, 5230,\n",
              "       4567, 4769, 5011, 4889, 5367, 5678, 5678, 6267, 6267, 6267, 6267,\n",
              "       6057, 6057, 4883, 2927, 2594, 2347, 1544, 1219,  783,  357])"
            ]
          },
          "metadata": {},
          "execution_count": 46
        }
      ]
    },
    {
      "cell_type": "code",
      "source": [
        "Y = df.iloc[:,7].values\n",
        "Y"
      ],
      "metadata": {
        "id": "B3Kx3mvi6bps"
      },
      "execution_count": null,
      "outputs": []
    },
    {
      "cell_type": "code",
      "source": [
        "pd.set_option('precision', 2)"
      ],
      "metadata": {
        "id": "I-X5v3KhcL96"
      },
      "execution_count": null,
      "outputs": []
    },
    {
      "cell_type": "code",
      "source": [
        "X = array[:,0:6] # факторные признаки, т.е. параметры объекта\n",
        "Y = array[:,10] # результативные признак, т.е. сам объект\n",
        "# это обучение с учителем х - это данные, y - это ответ"
      ],
      "metadata": {
        "id": "hk4htyL46Bsl"
      },
      "execution_count": null,
      "outputs": []
    },
    {
      "cell_type": "code",
      "source": [
        "X"
      ],
      "metadata": {
        "colab": {
          "base_uri": "https://localhost:8080/"
        },
        "id": "Dd7crAh7aiqk",
        "outputId": "de6fc426-68b1-4042-c271-6e1dfade28bb"
      },
      "execution_count": null,
      "outputs": [
        {
          "output_type": "execute_result",
          "data": {
            "text/plain": [
              "array([5545, 4516, 4767, ..., 2159, 1450,  954])"
            ]
          },
          "metadata": {},
          "execution_count": 44
        }
      ]
    },
    {
      "cell_type": "code",
      "source": [
        "Y"
      ],
      "metadata": {
        "colab": {
          "base_uri": "https://localhost:8080/"
        },
        "id": "JiZZvpz2dcYv",
        "outputId": "79774116-ff4e-4100-cc86-81fdfd3a6dfc"
      },
      "execution_count": null,
      "outputs": [
        {
          "output_type": "execute_result",
          "data": {
            "text/plain": [
              "array([5545, 4516, 4767, ..., 2159, 1450,  954])"
            ]
          },
          "metadata": {},
          "execution_count": 45
        }
      ]
    },
    {
      "cell_type": "markdown",
      "source": [
        "**5. Задайте разбиение на фолды с помощью функции KFold(n_splits= n_splits, random_state = random_state, shuffle=True) из модуля sklearn.model_selection. Результат запишите в переменную kfold. На вход данной функции подайте следующую информацию: 1) количество частей, на которые должна разбиваться выборка (n_splits), - пусть 10; 2) счетчик случайных чисел (random_state) – пусть 7; 3) необходимость перемешивания данных выборки при каждой оценке, задав параметр shuffle=True.**"
      ],
      "metadata": {
        "id": "uLb3q7AMqSOx"
      }
    },
    {
      "cell_type": "code",
      "source": [
        "kfold=KFold(n_splits=10,random_state=7,shuffle=True)"
      ],
      "metadata": {
        "id": "IoSiCEgWqFLH"
      },
      "execution_count": null,
      "outputs": []
    },
    {
      "cell_type": "markdown",
      "source": [
        "**6. Постройте модель логистической регрессии, воспользовавшись функцией LogisticRegression(solver='liblinear') из модуля sklearn.linear_model. Результат запишите в переменную model.**"
      ],
      "metadata": {
        "id": "AACk4Iw0qYU9"
      }
    },
    {
      "cell_type": "code",
      "source": [
        "model=LogisticRegression(solver='liblinear')"
      ],
      "metadata": {
        "id": "CS8wFySjqdia"
      },
      "execution_count": null,
      "outputs": []
    },
    {
      "cell_type": "code",
      "source": [
        "from sklearn.metrics import r2_score, mean_absolute_error, mean_squared_error"
      ],
      "metadata": {
        "id": "yjCAcmim8lGK"
      },
      "execution_count": null,
      "outputs": []
    },
    {
      "cell_type": "code",
      "source": [
        "r2 = model.score(X, Y)\n",
        "r2"
      ],
      "metadata": {
        "colab": {
          "base_uri": "https://localhost:8080/"
        },
        "id": "3T4b8anQ7dK1",
        "outputId": "7a2153fe-6b0b-42f9-8a80-e193306a6d87"
      },
      "execution_count": null,
      "outputs": [
        {
          "output_type": "execute_result",
          "data": {
            "text/plain": [
              "0.0825"
            ]
          },
          "metadata": {},
          "execution_count": 32
        }
      ]
    },
    {
      "cell_type": "markdown",
      "source": [
        "**7. Проведите кросс-валидацию, воспользовавшись функцией cross_val_score(model, X, Y, cv=kfold) из модуля sklearn.model_selection. Результат запишите в переменную results.**"
      ],
      "metadata": {
        "id": "AUC-SavLqeGj"
      }
    },
    {
      "cell_type": "code",
      "source": [
        "results=cross_val_score(model, X, Y, cv=kfold) # cv - это количество раз разбивки данных на обучающий и тестовый наборы,обучение на них, тестирование и вывод обобщенного лучшего варианта"
      ],
      "metadata": {
        "id": "-yZMrqlHqjgG"
      },
      "execution_count": null,
      "outputs": []
    },
    {
      "cell_type": "markdown",
      "source": [
        "**8. Выведите на экран среднюю долю правильных ответов (accuracy) и стандартное отклонение полученных оценок, воспользовавшись функциями mean() и std() соответственно.**"
      ],
      "metadata": {
        "id": "CXekZgkqqj4W"
      }
    },
    {
      "cell_type": "code",
      "source": [
        "results.mean()"
      ],
      "metadata": {
        "colab": {
          "base_uri": "https://localhost:8080/"
        },
        "id": "Mpy9kr7lqts4",
        "outputId": "fab151c0-68b8-4916-ffaf-316eda146f16"
      },
      "execution_count": null,
      "outputs": [
        {
          "output_type": "execute_result",
          "data": {
            "text/plain": [
              "0.0"
            ]
          },
          "metadata": {},
          "execution_count": 27
        }
      ]
    },
    {
      "cell_type": "code",
      "source": [
        "results.std()"
      ],
      "metadata": {
        "colab": {
          "base_uri": "https://localhost:8080/"
        },
        "id": "vuQvFrgS0Lps",
        "outputId": "386f887e-89ae-4fa3-d5fb-8cddca19d268"
      },
      "execution_count": null,
      "outputs": [
        {
          "output_type": "execute_result",
          "data": {
            "text/plain": [
              "0.0"
            ]
          },
          "metadata": {},
          "execution_count": 28
        }
      ]
    },
    {
      "cell_type": "markdown",
      "source": [
        "**9. Обучите модель на всех данных с помощью функции fit().**\n",
        "\n",
        "**10. Выведите на экран свободный член и значения коэффициентов регрессии при факторных признаках, которая разделяет классы, обратившись, соответственно, к атрибутам intercept_shape и coef_shape. Запишите математически уравнение регрессии.**"
      ],
      "metadata": {
        "id": "r2Q1dkfLquEb"
      }
    },
    {
      "cell_type": "code",
      "source": [
        "model.fit(X,Y)"
      ],
      "metadata": {
        "colab": {
          "base_uri": "https://localhost:8080/"
        },
        "id": "R-AixqHDq2Qb",
        "outputId": "5be2fcaf-69de-4b0c-ed0a-35176c8f8bec"
      },
      "execution_count": null,
      "outputs": [
        {
          "output_type": "execute_result",
          "data": {
            "text/plain": [
              "LogisticRegression(solver='liblinear')"
            ]
          },
          "metadata": {},
          "execution_count": 51
        }
      ]
    },
    {
      "cell_type": "code",
      "source": [
        "model.intercept_.shape"
      ],
      "metadata": {
        "colab": {
          "base_uri": "https://localhost:8080/"
        },
        "id": "UZ98TJPb118J",
        "outputId": "85d5f963-1582-4323-d4fa-681c459352da"
      },
      "execution_count": null,
      "outputs": [
        {
          "output_type": "execute_result",
          "data": {
            "text/plain": [
              "(361,)"
            ]
          },
          "metadata": {},
          "execution_count": 37
        }
      ]
    },
    {
      "cell_type": "code",
      "source": [
        "model.coef_.shape"
      ],
      "metadata": {
        "colab": {
          "base_uri": "https://localhost:8080/"
        },
        "id": "b1u4tlk-0o7S",
        "outputId": "e37b2b23-86a2-4fbd-d99f-64a4ea623fb5"
      },
      "execution_count": null,
      "outputs": [
        {
          "output_type": "execute_result",
          "data": {
            "text/plain": [
              "(361, 6)"
            ]
          },
          "metadata": {},
          "execution_count": 38
        }
      ]
    },
    {
      "cell_type": "code",
      "source": [
        "model.intercept_"
      ],
      "metadata": {
        "id": "PkI1nDTX2PsE"
      },
      "execution_count": null,
      "outputs": []
    },
    {
      "cell_type": "code",
      "source": [
        "model.coef_"
      ],
      "metadata": {
        "colab": {
          "base_uri": "https://localhost:8080/"
        },
        "id": "WnBTBPV02SO9",
        "outputId": "7ba553b4-8d88-47d3-905d-c54fb91e24c9"
      },
      "execution_count": null,
      "outputs": [
        {
          "output_type": "execute_result",
          "data": {
            "text/plain": [
              "array([[-0.09215357, -0.13779438,  0.70995886, -0.27453013, -2.3129607 ,\n",
              "        -0.35520618],\n",
              "       [-0.25673659, -0.48205037,  0.58262395,  0.19028012, -2.30778032,\n",
              "        -0.29022275],\n",
              "       [-0.18092964, -0.48465823,  0.58042261,  0.18821208, -2.30963647,\n",
              "        -0.30162586],\n",
              "       ...,\n",
              "       [-0.16853099, -0.50187038,  0.58074669,  0.19162756, -2.29270411,\n",
              "        -0.11743893],\n",
              "       [-0.3230572 , -0.13671787,  0.43541526, -0.35501619, -2.33106322,\n",
              "        -0.13978621],\n",
              "       [-0.42912686, -0.57190129,  0.63532449, -0.37329277, -2.28375072,\n",
              "        -0.10095889]])"
            ]
          },
          "metadata": {},
          "execution_count": 40
        }
      ]
    },
    {
      "cell_type": "markdown",
      "source": [
        "**11. Произвольно задайте значения факторных признаков для двух новых наблюдений. Поместите их в переменную x_new. Например, np.array([[0,136,42,34,136,43,2,32],[0,137,40,35,168,43.1,2.288,33]]).**\n",
        "\n",
        "**12. По обученной модели дайте прогноз классов для новых наблюдений, воспользовавшись функцией predict().**\n"
      ],
      "metadata": {
        "id": "WCte2ctPq3mH"
      }
    },
    {
      "cell_type": "code",
      "source": [
        "Y_pred = model.predict(X)\n",
        "# подставляем наши данные в обученную модель и смотрим что\n",
        "# исходя из параметров пациенты скорей всего заболеют, т.е.\n",
        "# их можно отнести к группе риска"
      ],
      "metadata": {
        "id": "8Ps8NB2n2y4H"
      },
      "execution_count": null,
      "outputs": []
    },
    {
      "cell_type": "code",
      "source": [
        "Y_pred"
      ],
      "metadata": {
        "colab": {
          "base_uri": "https://localhost:8080/"
        },
        "id": "0zL37iWqi4zE",
        "outputId": "2b7c06fe-b43b-4007-e30f-ab63fe44f539"
      },
      "execution_count": null,
      "outputs": [
        {
          "output_type": "execute_result",
          "data": {
            "text/plain": [
              "array([5713,  627, 5450, 5888, 5450, 5713, 5713, 5713, 4770, 4770, 6057,\n",
              "       5713, 5713, 5713, 5713,  367,  367,  324,  367,  324,  324,  769,\n",
              "        769,  367, 5713, 5713, 5713, 5713, 5713, 4770, 6057, 2929, 5713,\n",
              "       5713, 5713,  367,  367,  367,  367,  367,  367,  367,  367,  367,\n",
              "        367, 5713, 5713, 5713, 5713, 5713, 5713, 4770, 4770, 5713, 5713,\n",
              "       5713, 5888, 5888, 5888,  627,  367,  367,  627,  730,  730, 5330,\n",
              "        627,  627, 5330, 5330, 5030, 5330, 2777, 2450, 2450, 2450, 2450,\n",
              "       2450, 1671, 2450, 2450,  432,  432,  730,  432,  411,  265,  265,\n",
              "        265,  265, 2929, 2929, 5669, 5067, 5067, 5067, 2450, 2450, 2450,\n",
              "       2450, 2450, 2450, 2450, 1671,  432,  730,  730,  380,  730, 5330,\n",
              "        411,  411, 5403, 5330, 5330, 5330, 5330, 5330, 2450, 2450, 2450,\n",
              "       2450, 1671, 2450, 1671, 2929,  411,  411,  265,  265,  265,  265,\n",
              "        411,  411,  411,  411, 2929, 2929, 4887, 5713, 5713, 5713, 5713,\n",
              "       2450, 2450, 2929, 1693, 1693,  959,  959,  324,  324,  324,  411,\n",
              "        324,  324,  627, 5330, 5330, 5330, 5330, 5030, 5030, 5888, 5888,\n",
              "       5888, 5888, 5888, 5888, 2450, 2450, 2450, 2450,  432,  432,  432,\n",
              "        432, 5330,  705,  432, 4695, 3713, 4695, 3713, 5330, 4887, 5030,\n",
              "       5030, 5330, 2777, 5330, 1284, 1284, 1284, 1284, 2450, 2450,  324,\n",
              "        432,  705,  324,  265,  265,  265,  411,  265, 5330, 6128, 5030,\n",
              "       6057, 2450, 2450, 2450, 2450, 2450, 2450,  432,  432,  432,  432,\n",
              "       2430,  432,  627,  627, 5330, 5330, 5403, 5067, 5669, 5669, 5030,\n",
              "       5030, 5030, 2450, 2929, 2450,  324,  265,  265,  411,  265,  265,\n",
              "        265,  705, 5341, 5856, 2929, 4887, 4887, 5713, 5713, 5713, 5713,\n",
              "       5713, 5713, 2929, 5584, 1671, 2450, 2450,  432,  432,  432,  432,\n",
              "        730,  730,  730,  730, 5593, 5403, 5593, 5403, 5403, 5593, 5403,\n",
              "       5593, 5593, 4695, 6057, 5888, 5888, 5888, 5888, 5888, 5888, 5888,\n",
              "       5888, 5888, 5888, 5351, 5351, 5351, 5351, 5351, 2051, 2051, 1671,\n",
              "        671,  432,  432,  432,  671,  432,  671,  432,  671,  432,  671,\n",
              "        671,  671, 5341, 5341, 5330, 5330, 5713, 5713, 5713, 4770, 2929,\n",
              "       2929, 6057, 1671, 2450, 2929, 1671,  411,  324,  324,  324,  324,\n",
              "        265,  265,  411,  411,  411, 1166, 4770, 5713, 5713, 5450, 5450,\n",
              "       5450, 5888, 5888, 5351, 2450, 2450, 2450, 2450,  432,  627,  432,\n",
              "        432,  627,  432,  432,  627,  627, 5593, 5607,  627,  627, 5713,\n",
              "       5713, 5713, 5713, 5713, 5713, 5713, 2450, 2450, 2450, 2929, 2929,\n",
              "        627,  324,  705,  705,  432,  705,  627,  730, 5330, 5607, 5450,\n",
              "       5450, 5888, 4460, 5888, 5888, 5888, 5888, 1284, 5888, 5351, 2450,\n",
              "       2450, 2450,  432,  671,  432,  671,  671,  432,  671,  705,  432,\n",
              "        671, 2430,  705,  671, 2430,  671,  671,  705,  671, 4695, 4695,\n",
              "       5341, 5341, 5330, 5330, 5330, 5341, 5341, 5888, 5341, 5351, 2450,\n",
              "       1671, 2450, 2051, 1671, 1671, 2051, 2051, 1671,  705,  671,  432,\n",
              "        705,  432,  432,  671,  671,  432,  705,  705,  671,  432,  705,\n",
              "        671,  432,  705,  705,  432,  705,  705, 3713, 4695, 3713, 4613,\n",
              "       3713, 4613, 3713, 4613, 5593, 4613, 4613, 3713, 5888, 4613, 4613,\n",
              "       4613, 4695, 5330, 5030, 1284, 6057, 2450, 2450, 2929, 2929, 2051,\n",
              "       1671,  671, 4695, 5341, 6057, 1671, 2450, 2450,  432,  432,  324,\n",
              "        432,  806,  806,  806, 5330, 5713, 5450, 4770, 5450, 5450, 5713,\n",
              "       5713, 4770, 6057, 5713, 5713, 1671, 2450,  432,  432,  627,  627,\n",
              "        411,  411,  627,  324,  411,  627, 5330,  627, 4460, 5888, 5888,\n",
              "       5593, 5888, 5888, 5888, 5888, 2450, 2450, 2450, 2450,  432,  432,\n",
              "        432,  432,  432,  432, 5593, 5593, 5593, 5607, 5593, 5593, 5593,\n",
              "       5593, 5593, 5607, 5593, 3713, 5607, 5607, 5593, 3713, 5607, 5593,\n",
              "       5607, 5888, 5888, 5888, 5888, 5888, 5888, 5888, 5888, 5888, 5888,\n",
              "       5888, 5888, 5888, 5888, 5888, 5888, 5888, 5888, 5888, 5888, 5351,\n",
              "       6057, 5351, 5351,  665, 5593, 5593, 5593, 5593,  432, 5593, 5593,\n",
              "       5593,  432, 5593, 5607, 5888, 5888, 5888, 5888, 5888, 5888, 5888,\n",
              "       5888, 5888, 5888, 5888, 5888, 5888, 5888, 5888, 5351, 5351, 5888,\n",
              "       5888, 5351, 5351, 5351, 5888, 5351, 5351, 5351, 5351, 1671, 5351,\n",
              "       5351, 2450, 2450, 2450,  705,  671,  432,  432,  705,  705,  671,\n",
              "        432,  705,  671,  432,  432,  705,  671,  671,  432,  432,  705,\n",
              "        671,  671, 5593,  705,  671,  671, 4695,  671, 5341, 5341, 5341,\n",
              "       5341, 5341, 4695, 5341, 5341, 5341, 4695, 5341, 4695, 5341, 5341,\n",
              "       5341, 4695, 4695, 4695, 5341, 5341, 2450, 2450, 2450, 2450, 2450,\n",
              "       1671, 2450, 2450,  730,  730,  411,  411,  265,  265,  265,  411,\n",
              "        411, 5330,  265, 5330, 5330, 5330, 5330, 5330, 2450, 2450, 2450,\n",
              "       2450, 2450, 2450, 2929, 2929,  411,  730,  730,  730,  730,  705,\n",
              "        705,  411,  265,  265,  265,  265, 2929, 5669, 5669, 6267, 6267,\n",
              "       1671, 1671, 1671, 1671, 1671, 1671, 1671,  671,  705,  671,  705,\n",
              "        730,  730,  265,  265,  265,  411, 5330, 5330, 4695, 5330, 5330,\n",
              "       5330, 2450, 2450, 2450, 2450, 2450, 1671, 1671, 2929,  411,  411,\n",
              "        411,  265,  705,  411,  411,  265,  411,  411, 5403, 5330, 5330,\n",
              "       5330, 5330, 5330, 2450, 2450, 1671, 1671, 2450, 1671, 2450, 2450,\n",
              "        324,  265,  265,  265,  265,  265,  265,  265,  411,  411, 2929,\n",
              "       2929, 2929, 5669, 2929, 2929, 2450, 2929, 2929, 2929, 2929, 1693,\n",
              "       1693, 1693,  324,  265,  265,  265,  265,  265,  265,  265,  411,\n",
              "        265,  265, 2929, 2929, 2929, 5713, 5713, 5713, 2929, 2929, 2450,\n",
              "       2450, 2450, 2450, 1671,  730,  705,  324,  432,  432,  730,  730,\n",
              "       5330, 5403,  324, 5330, 5330, 5403, 6267, 5713, 2450, 2450, 2450,\n",
              "       2450, 2450, 2929, 2929, 1693, 2450,  411,  705,  705,  411,  411,\n",
              "        265,  411,  411, 5856, 6267, 6267, 6267, 6267, 6267, 5856, 2450,\n",
              "       6267, 6267, 1671, 2450, 2450, 2450, 2450, 2450,  730,  730,  730,\n",
              "        730,  730,  730,  730, 5330, 5341, 4695, 5330, 5330, 5330, 5330,\n",
              "       5330, 5330, 5330, 2450, 2450, 2450, 2450, 2450, 2450, 2450, 2051,\n",
              "        730,  432,  671,  411,  671,  411,  411,  265, 5330, 5330, 5330,\n",
              "       5330, 5330, 5330, 5330, 2450, 2450, 2450, 2450, 2450, 2450, 2450,\n",
              "        324,  730,  730, 5330, 5330, 5330, 5330, 5330, 5330, 5330, 5330,\n",
              "       5341, 5330, 5330, 5330, 5341, 5341, 1671, 5341, 1671, 5341, 1671,\n",
              "       5341, 1671, 1671, 2051, 1671, 1671, 1671, 1671, 2051,  705,  671,\n",
              "        671,  671,  671,  671,  671,  671,  671,  671,  671,  671,  671,\n",
              "        671,  671,  671,  671,  671,  705,  705,  671,  671,  705, 5330,\n",
              "       5330, 5330, 5330, 5330, 5341, 5341, 6267, 5341, 5341, 6267, 6267,\n",
              "       5341, 5341, 5341, 2450, 2450, 2450, 1671, 2450,  730,  730])"
            ]
          },
          "metadata": {},
          "execution_count": 53
        }
      ]
    },
    {
      "cell_type": "code",
      "source": [
        "Y"
      ],
      "metadata": {
        "colab": {
          "base_uri": "https://localhost:8080/"
        },
        "id": "MZERygo2jQuU",
        "outputId": "f74f7c97-b0fc-49fc-87c5-2b1458f8e2d0"
      },
      "execution_count": null,
      "outputs": [
        {
          "output_type": "execute_result",
          "data": {
            "text/plain": [
              "array([5545, 4516, 4767, 5026, 4918, 5181, 5584, 6015, 5791, 4770, 3539,\n",
              "       2784, 2361, 1529,  963,  506,  321,  273,  367,  814, 2718, 5673,\n",
              "       6511, 5471, 5097, 4887, 5337, 5692, 6137, 4623, 3591, 2898, 2637,\n",
              "       1777, 1015,  598,  369,  312,  367,  835, 2726, 5689, 6990, 5985,\n",
              "       5309, 4603, 4884, 5104, 5178, 5501, 5713, 6292, 6057, 4907, 3503,\n",
              "       3037, 2822, 1992, 1166,  627,  388,  368, 2489, 5537, 6628, 5534,\n",
              "       5403, 4770, 5217, 5870, 5967, 6108, 6128, 6069, 6169, 5384, 4063,\n",
              "       3364, 2971, 2450, 1832, 1231,  718,  545,  411,  688, 1352, 2072,\n",
              "       3342, 4258, 4861, 5191, 5669, 5074, 5025, 5153, 5024, 4779, 4362,\n",
              "       3860, 3160, 2992, 3202, 1941, 1233,  323,  312,  627, 1508, 1539,\n",
              "       2232, 4568, 4624, 4529, 5139, 6640, 6589, 4429, 4329, 3833, 4015,\n",
              "       3382, 2815, 2110, 1555,  959,  455,  336,  265,  314,  779, 2571,\n",
              "       5563, 6676, 5966, 4832, 4395, 4411, 4648, 4602, 5125, 5502, 5979,\n",
              "       5663, 4259, 3069, 2378, 2030, 1400,  917,  515,  302,  251,  798,\n",
              "       2678, 5733, 6449, 5765, 5599, 4534, 4691, 5067, 5030, 5300, 5777,\n",
              "       6349, 6127, 4460, 3418, 2775, 2306, 1846,  947,  494,  332,  261,\n",
              "        361, 5875, 6793, 6793, 6283, 6283, 5680, 5680, 4632, 4887, 5030,\n",
              "       5067, 5227, 5610, 6286, 4775, 3340, 3013, 2603, 1910, 1037,  347,\n",
              "        350,  850, 2791, 5809, 6798, 6304, 5291, 4638, 5557, 5818, 6272,\n",
              "       5944, 4949, 3511, 3039, 2679, 2094, 1284,  630,  410,  331,  372,\n",
              "        739, 2561, 5586, 6992, 5860, 5230, 4864, 5146, 5526, 5383, 5758,\n",
              "       5889, 6057, 6028, 5257, 1897, 1335,  769,  570,  413,  399,  740,\n",
              "       1420, 2220, 3479, 4546, 4579, 4438, 4623, 4440, 4495, 4483, 4591,\n",
              "       4477, 4221, 3672, 3015, 2769, 2875, 1931, 1309,  870,  654,  364,\n",
              "        262,  505,  861, 1132, 1797, 2685, 2685, 2685, 3370, 3370, 3662,\n",
              "       3662, 4076, 4076, 4076, 4128, 4128, 4128, 4358, 4358, 4358, 4342,\n",
              "       4342, 4234, 4271, 4271, 4080, 3453, 2718, 2439, 1819, 1002, 1002,\n",
              "        542,  542,  303,  239,  335,  335,  810,  810, 2606, 2606, 5714,\n",
              "       6798, 6114, 5094, 4473, 4529, 4823, 4872, 5238, 5584, 6246, 5957,\n",
              "       4535, 3234, 2677, 2077, 1380,  927,  500,  324,  257,  354,  769,\n",
              "       2769, 5789, 7055, 6408, 5254, 4547, 4784, 5015, 5057, 5430, 5813,\n",
              "       6496, 6429, 5142, 3311, 2777, 2331, 1767, 1093,  554,  333,  267,\n",
              "        358,  777, 2732, 5637, 5564, 6274, 5403, 5403, 4680, 4642, 4979,\n",
              "       4851, 4291, 4714, 6723, 6180, 4843, 3435, 2921, 2763, 1930, 1160,\n",
              "        654,  374,  301,  397,  794, 2564, 5358, 6441, 5536, 5256, 4619,\n",
              "       5107, 5147, 5283, 5704, 5887, 6307, 5953, 4519, 3427, 2921, 2649,\n",
              "       2005, 1177,  699,  436,  353,  353,  399,  720,  720,  720,  720,\n",
              "       2370, 2370, 5162, 5162, 5162, 5777, 5777, 5235, 5235, 5235, 4606,\n",
              "       4606, 4328, 4282, 4489, 4908, 5620, 5849, 5849, 4945, 4619, 4479,\n",
              "       3804, 2908, 2942, 3077, 3077, 2051, 2051, 2051, 1270, 1270,  773,\n",
              "        773,  589,  432,  432,  401,  401,  401,  759,  759,  759, 1313,\n",
              "       1313, 1313, 1824, 1824, 1824, 2787, 2787, 2787, 3713, 3713, 3713,\n",
              "       3713, 3815, 3815, 3815, 3815, 4339, 4339, 4339, 4613, 4613, 4613,\n",
              "       4613, 4507, 4452, 4636, 4810, 5125, 4337, 3644, 3107, 2929, 2865,\n",
              "       2340, 1372, 1928, 1928, 4695, 4335, 1583,  959,  498,  306,  259,\n",
              "        324,  806, 2622, 5456, 4324, 4378, 4639, 4546, 5006, 5361, 6101,\n",
              "       5781, 4272, 3091, 2434, 1984, 1383,  959,  511,  346,  253,  349,\n",
              "        807, 2669, 5210, 6083, 5790, 5484, 4407, 4725, 4826, 4945, 5065,\n",
              "       5618, 6094, 5844, 4649, 3180, 2963, 2450, 1613, 1021,  580,  580,\n",
              "        298,  261,  408,  408,  793,  793, 2643, 2643, 2643, 5593, 5593,\n",
              "       5593, 5593, 5722, 5722, 5607, 5607, 5607, 5607, 5492, 5492, 5492,\n",
              "       4542, 4720, 4720, 4982, 4982, 4982, 5032, 5032, 5032, 5212, 5212,\n",
              "       5661, 5661, 5661, 5812, 5855, 5855, 4416, 4416, 3118, 2877, 2877,\n",
              "       2498, 1701, 1028,  578,  354,  272,  370,  809,  809, 2641, 4957,\n",
              "       6036, 6036, 5309, 4438, 4723, 4879, 5062, 5450, 5450, 5450, 5450,\n",
              "       5888, 5888, 5888, 5888, 5888, 6473, 6473, 6473, 6488, 6488, 6488,\n",
              "       5351, 5351, 5351, 5351, 3500, 3500, 3500, 2856, 2856, 2856, 2587,\n",
              "       2587, 2587, 1979, 1284,  665,  665,  665,  432,  432,  326,  326,\n",
              "        326,  380,  380,  380,  380,  705,  705,  705,  705,  705, 2430,\n",
              "       2430, 2430, 2430, 5426, 5426, 5426, 6499, 6499, 5856, 5856, 5856,\n",
              "       5234, 5234, 5234, 4695, 4695, 4695, 4695, 5341, 5341, 5341, 5341,\n",
              "       5943, 5943, 5874, 5879, 5879, 6060, 6348, 5955, 5341, 4144, 3249,\n",
              "       3017, 2765, 1894, 1159,  822,  641,  411,  468,  723, 1415, 2191,\n",
              "       3185, 4076, 4522, 6012, 5975, 5307, 4678, 4405, 4403, 4311, 4198,\n",
              "       3475, 3078, 2931, 2941, 2240, 1564,  795,  447,  443,  330,  453,\n",
              "        755,  953, 1650, 2442, 3230, 3575, 4139, 3892, 3989, 4294, 4521,\n",
              "       4280, 3945, 3169, 2772, 2213, 1570, 1065,  530,  331,  270,  316,\n",
              "        799, 2513, 5503, 6642, 6195, 5246, 4460, 4580, 4771, 4836, 5138,\n",
              "       5606, 6120, 5985, 4418, 3089, 2636, 2117, 1437,  920,  600,  393,\n",
              "        298,  352,  762, 2519, 5478, 6728, 5972, 5280, 4626, 4947, 5125,\n",
              "       5130, 5394, 5837, 6222, 5992, 4578, 3246, 2834, 2578, 1979, 1326,\n",
              "        541,  346,  265,  338,  765, 2611, 5577, 6908, 6079, 5309, 4567,\n",
              "       4804, 5041, 5051, 5274, 5936, 6128, 5821, 4040, 2711, 2690, 2539,\n",
              "       1925, 1471,  716,  453,  324,  390,  775, 2572, 5595, 6852, 5892,\n",
              "       5327, 4756, 5073, 5286, 5189, 5495, 5713, 6317, 6306, 4867, 3501,\n",
              "       3110, 2727, 1825, 1222,  611,  441,  331,  365,  708, 2379, 5236,\n",
              "       6509, 5723, 5239, 4723, 5330, 5403, 5446, 5669, 6093, 6323, 5856,\n",
              "       4987, 3681, 2902, 2929, 2728, 1693, 1166,  724,  568,  343,  383,\n",
              "        703, 1229, 2057, 3246, 4390, 4573, 4269, 4833, 4442, 4397, 4314,\n",
              "       4413, 4125, 4004, 3404, 2777, 2579, 2552, 1952, 2125,  730,  730,\n",
              "        345,  223,  488,  710, 1165, 2067, 2067, 2911, 3527, 3765, 4063,\n",
              "       4043, 4200, 4105, 4015, 3620, 3652, 2837, 2446, 1950, 1451,  999,\n",
              "       1720, 1299,  304,  412,  753, 2562, 5658, 6877, 5981, 4999, 4408,\n",
              "       4575, 4710, 4648, 4968, 6124, 6134, 4265, 2415, 1963, 1454,  938,\n",
              "        537,  313,  256,  356,  788, 2565, 5330, 6181, 6182, 5720, 4612,\n",
              "       4666, 5022, 5490, 5973, 6201, 5453, 3921, 3921, 2835, 2835, 2450,\n",
              "       2450, 2078, 2078, 2078, 1671, 1671, 1671, 1472, 1472,  792,  792,\n",
              "        792,  811,  811,  671,  671,  671,  671,  474,  474,  474,  790,\n",
              "        790, 2619, 2619, 5788, 5788, 5788, 7088, 7088, 6264, 6264, 5230,\n",
              "       4567, 4769, 5011, 4889, 5367, 5678, 5678, 6267, 6267, 6267, 6267,\n",
              "       6057, 6057, 4883, 2927, 2594, 2347, 1544, 1219,  783,  357])"
            ]
          },
          "metadata": {},
          "execution_count": 54
        }
      ]
    },
    {
      "cell_type": "code",
      "source": [
        "from sklearn.metrics import r2_score, mean_absolute_error, mean_squared_error\n",
        "R2=r2_score(Y, Y_pred)\n",
        "R2"
      ],
      "metadata": {
        "colab": {
          "base_uri": "https://localhost:8080/"
        },
        "id": "S4U85g7zgg_m",
        "outputId": "ae797a6e-e495-4463-af6c-79ae90f3a2e4"
      },
      "execution_count": null,
      "outputs": [
        {
          "output_type": "execute_result",
          "data": {
            "text/plain": [
              "-0.03994768116315717"
            ]
          },
          "metadata": {},
          "execution_count": 55
        }
      ]
    },
    {
      "cell_type": "markdown",
      "source": [
        "**вводим конкретные данные:**"
      ],
      "metadata": {
        "id": "gBXh5qyAkKd0"
      }
    },
    {
      "cell_type": "code",
      "source": [
        "x_new=np.array([[14.88,14.57,0.88,5.55,3.33,1.02,4.96\t],[11.23,12.88,0.85,5.14,2.79,4.33,5.00\t]])\n",
        "# это данные 2-х пациентов щас проверим заболеют или нет"
      ],
      "metadata": {
        "id": "6BgOPbAfq_o_"
      },
      "execution_count": null,
      "outputs": []
    },
    {
      "cell_type": "code",
      "source": [
        "model.predict(x_new) # сюда заносим конкретные данные и смотрим прогноз"
      ],
      "metadata": {
        "colab": {
          "base_uri": "https://localhost:8080/"
        },
        "id": "d96PpvpJgAd1",
        "outputId": "e69e6bc4-ef02-4b56-e24d-2dff25164230"
      },
      "execution_count": null,
      "outputs": [
        {
          "output_type": "execute_result",
          "data": {
            "text/plain": [
              "array([1., 3.])"
            ]
          },
          "metadata": {},
          "execution_count": 54
        }
      ]
    },
    {
      "cell_type": "markdown",
      "source": [
        "**13. По обученной модели дайте прогноз вероятности классов для новых наблюдений, воспользовавшись функцией predict_proba().**"
      ],
      "metadata": {
        "id": "pNOQ3aucrAP2"
      }
    },
    {
      "cell_type": "code",
      "source": [
        "model.predict_proba(x_new)\n",
        "# нулевой столбец - это нулевой класс\n",
        "# первый столбец - это первый класс\n",
        "# первая строка - это первые данные (здесь с вероятностью 96% относится к 1-ому типу)\n",
        "# вторая строка = это вторые данные (здесь с вероятностью 83% относится к 3-ему типу)"
      ],
      "metadata": {
        "colab": {
          "base_uri": "https://localhost:8080/"
        },
        "id": "c1PzYyw4rEom",
        "outputId": "e17ce810-3fda-4033-f2a5-a7248040e5b0"
      },
      "execution_count": null,
      "outputs": [
        {
          "output_type": "execute_result",
          "data": {
            "text/plain": [
              "array([[0.95628385, 0.0423319 , 0.00138425],\n",
              "       [0.1642972 , 0.00303227, 0.83267053]])"
            ]
          },
          "metadata": {},
          "execution_count": 55
        }
      ]
    },
    {
      "cell_type": "markdown",
      "source": [
        "# **ЛОГИСТИЧЕСКАЯ РЕГРЕССИЯ (на стандартизированных данных)**"
      ],
      "metadata": {
        "id": "LP41KIAmJkMy"
      }
    },
    {
      "cell_type": "markdown",
      "source": [
        "________________________________________________________________________________"
      ],
      "metadata": {
        "id": "R2D6YlxHLXx4"
      }
    },
    {
      "cell_type": "markdown",
      "source": [
        "# **НАЧАЛО**\n",
        "# **стандартизируем, удаляем выбросы:**"
      ],
      "metadata": {
        "id": "TKBk7ID_MBpF"
      }
    },
    {
      "cell_type": "markdown",
      "source": [
        "1. Масштабируем\n",
        "2. Стандартизируем\n",
        "3. Заменяем выбросы на NaN (больше 3-х стандартных отклонений)\n",
        "4. NaN были заменены на соседнее число **Текст, выделенный полужирным шрифтом**"
      ],
      "metadata": {
        "id": "YsyijO9qLb-c"
      }
    },
    {
      "cell_type": "markdown",
      "source": [
        "DataFrame.values Pandas DataFrame.values возвращает Numpy-представление данного DataFrame.\n",
        "Используйте атрибут DataFrame.values чтобы возвратить пустое представление данного DataFrame."
      ],
      "metadata": {
        "id": "JpXzUDnAQsI1"
      }
    },
    {
      "cell_type": "code",
      "source": [
        "X.shape"
      ],
      "metadata": {
        "colab": {
          "base_uri": "https://localhost:8080/"
        },
        "id": "vrHyScpFgr4c",
        "outputId": "f34c4655-e5c4-47e7-bfee-5add9c334446"
      },
      "execution_count": null,
      "outputs": [
        {
          "output_type": "execute_result",
          "data": {
            "text/plain": [
              "(210, 7)"
            ]
          },
          "metadata": {},
          "execution_count": 57
        }
      ]
    },
    {
      "cell_type": "markdown",
      "source": [
        "**масштабирование:**"
      ],
      "metadata": {
        "id": "fUxXmel8SSdn"
      }
    },
    {
      "cell_type": "code",
      "source": [
        "from sklearn.preprocessing import MinMaxScaler"
      ],
      "metadata": {
        "id": "bUPDhIHVKHm2"
      },
      "execution_count": null,
      "outputs": []
    },
    {
      "cell_type": "code",
      "source": [
        "from pandas.core.apply import FrameApply\n",
        "scaler=MinMaxScaler(feature_range=(0,1))"
      ],
      "metadata": {
        "id": "YadkjtW2RKvs"
      },
      "execution_count": null,
      "outputs": []
    },
    {
      "cell_type": "code",
      "source": [
        "rescaledX=scaler.fit_transform(X)\n",
        "rescaledX"
      ],
      "metadata": {
        "id": "9L0X88KJTz-h"
      },
      "execution_count": null,
      "outputs": []
    },
    {
      "cell_type": "code",
      "source": [
        "from numpy import set_printoptions"
      ],
      "metadata": {
        "id": "0Mi6MG06KQ1E"
      },
      "execution_count": null,
      "outputs": []
    },
    {
      "cell_type": "code",
      "source": [
        "set_printoptions(precision=4)"
      ],
      "metadata": {
        "id": "TPdfoeXmVnEI"
      },
      "execution_count": null,
      "outputs": []
    },
    {
      "cell_type": "code",
      "source": [
        "rescaledX"
      ],
      "metadata": {
        "id": "6fE57QgQVu2F"
      },
      "execution_count": null,
      "outputs": []
    },
    {
      "cell_type": "code",
      "source": [
        "from sklearn.preprocessing import StandardScaler"
      ],
      "metadata": {
        "id": "9ihM7_n0KimH"
      },
      "execution_count": null,
      "outputs": []
    },
    {
      "cell_type": "code",
      "source": [
        "scaler=StandardScaler().fit(X) # создаем объект и обучаем"
      ],
      "metadata": {
        "id": "f3bs1c3-V8CY"
      },
      "execution_count": null,
      "outputs": []
    },
    {
      "cell_type": "code",
      "source": [
        "rescaledX=scaler.transform(X) # преобразуем данные"
      ],
      "metadata": {
        "id": "yW6JOKyLWEfv"
      },
      "execution_count": null,
      "outputs": []
    },
    {
      "cell_type": "code",
      "source": [
        "rescaledX[:5,:]"
      ],
      "metadata": {
        "id": "de4yVwAOXUec"
      },
      "execution_count": null,
      "outputs": []
    },
    {
      "cell_type": "code",
      "source": [
        "import pandas as pd\n",
        "fg = pd.DataFrame(rescaledX)\n",
        "fg.head(15)"
      ],
      "metadata": {
        "id": "mdAuAonu24Kw"
      },
      "execution_count": null,
      "outputs": []
    },
    {
      "cell_type": "code",
      "source": [
        "import numpy as np"
      ],
      "metadata": {
        "id": "dh49U8BP_c6p"
      },
      "execution_count": null,
      "outputs": []
    },
    {
      "cell_type": "markdown",
      "source": [
        "**цикл который меняет выбросы (значения превышающие 3 стандартных отклонения) на NaN во всех столбцах:**"
      ],
      "metadata": {
        "id": "R7PMilLBCXCQ"
      }
    },
    {
      "cell_type": "code",
      "source": [
        "for i in fg:\n",
        "    fg[i] = np.where((fg[i] > 3) | (fg[i] < -3), np.nan, fg[i])\n",
        "fg.head(15)"
      ],
      "metadata": {
        "id": "nRTwgDUqAaFM"
      },
      "execution_count": null,
      "outputs": []
    },
    {
      "cell_type": "code",
      "source": [
        "fgY = pd.DataFrame(Y)\n",
        "fgY.head(5)"
      ],
      "metadata": {
        "id": "o6MLKHhkhS2q"
      },
      "execution_count": null,
      "outputs": []
    },
    {
      "cell_type": "code",
      "source": [
        "fg['end'] = fgY"
      ],
      "metadata": {
        "id": "JjV6YgxoifTL"
      },
      "execution_count": null,
      "outputs": []
    },
    {
      "cell_type": "code",
      "source": [
        "fg.head(5)"
      ],
      "metadata": {
        "id": "DIAsqSkXl5WJ"
      },
      "execution_count": null,
      "outputs": []
    },
    {
      "cell_type": "code",
      "source": [
        "fg_groupby = fg.sort_values(by=['end',3]) # упорядочиваем данные по результирующим признакаам"
      ],
      "metadata": {
        "id": "22-Y-JfDix9x"
      },
      "execution_count": null,
      "outputs": []
    },
    {
      "cell_type": "code",
      "source": [
        "fg_groupby.isna().sum()"
      ],
      "metadata": {
        "id": "6oGKvYh9mhq0"
      },
      "execution_count": null,
      "outputs": []
    },
    {
      "cell_type": "code",
      "source": [
        "fg_groupby['end'].value_counts()"
      ],
      "metadata": {
        "id": "Fl6uhp2ynwJn"
      },
      "execution_count": null,
      "outputs": []
    },
    {
      "cell_type": "code",
      "source": [
        "fg_groupby.head(20)"
      ],
      "metadata": {
        "id": "TxjUE-oQnOGz"
      },
      "execution_count": null,
      "outputs": []
    },
    {
      "cell_type": "code",
      "source": [
        "fg_groupby = fg_groupby.fillna(method ='pad') # заменяем NaN на предыдущее значение в столбце\n",
        "# методы Значение параметра метода: {‘pad’, ‘ffill’,‘backfill’, ‘bfill’, None}, default None\n",
        "#pad/ffill: использование предыдущий Не пропущенное значение, чтобы заполнить пропущенное значение\n",
        "#backfill/bfill: использование следующий Заполните пропущенное значение не пропущенным значением\n",
        "#None: Укажите значение для замены отсутствующего значения (по умолчанию это так)"
      ],
      "metadata": {
        "id": "lPADn_3xqV3u"
      },
      "execution_count": null,
      "outputs": []
    },
    {
      "cell_type": "code",
      "source": [
        "df"
      ],
      "metadata": {
        "colab": {
          "base_uri": "https://localhost:8080/",
          "height": 423
        },
        "id": "QEzcVLhXYyM3",
        "outputId": "0b5c29bf-a4a7-4c7f-a32f-32b39ddf48dc"
      },
      "execution_count": null,
      "outputs": [
        {
          "output_type": "execute_result",
          "data": {
            "text/plain": [
              "     area_A  perimeter_P  compactness  length_of_ker  width_of_ker  asymmetry_coeff  \\\n",
              "0     15.26        14.84         0.87           5.76          3.31             2.22   \n",
              "1     14.88        14.57         0.88           5.55          3.33             1.02   \n",
              "2     14.29        14.09         0.91           5.29          3.34             2.70   \n",
              "3     13.84        13.94         0.90           5.32          3.38             2.26   \n",
              "4     16.14        14.99         0.90           5.66          3.56             1.35   \n",
              "..      ...          ...          ...            ...           ...              ...   \n",
              "205   12.19        13.20         0.88           5.14          2.98             3.63   \n",
              "206   11.23        12.88         0.85           5.14          2.79             4.33   \n",
              "207   13.20        13.66         0.89           5.24          3.23             8.31   \n",
              "208   11.84        13.21         0.85           5.17          2.84             3.60   \n",
              "209   12.30        13.34         0.87           5.24          2.97             5.64   \n",
              "\n",
              "     length_of_ker_groove  class class_name  \n",
              "0                    5.22      1       Кама  \n",
              "1                    4.96      1       Кама  \n",
              "2                    4.83      1       Кама  \n",
              "3                    4.80      1       Кама  \n",
              "4                    5.17      1       Кама  \n",
              "..                    ...    ...        ...  \n",
              "205                  4.87      3  Канадская  \n",
              "206                  5.00      3  Канадская  \n",
              "207                  5.06      3  Канадская  \n",
              "208                  5.04      3  Канадская  \n",
              "209                  5.06      3  Канадская  \n",
              "\n",
              "[210 rows x 9 columns]"
            ],
            "text/html": [
              "\n",
              "  <div id=\"df-5f9434ca-6f89-429d-bca0-ed2714b5f962\">\n",
              "    <div class=\"colab-df-container\">\n",
              "      <div>\n",
              "<style scoped>\n",
              "    .dataframe tbody tr th:only-of-type {\n",
              "        vertical-align: middle;\n",
              "    }\n",
              "\n",
              "    .dataframe tbody tr th {\n",
              "        vertical-align: top;\n",
              "    }\n",
              "\n",
              "    .dataframe thead th {\n",
              "        text-align: right;\n",
              "    }\n",
              "</style>\n",
              "<table border=\"1\" class=\"dataframe\">\n",
              "  <thead>\n",
              "    <tr style=\"text-align: right;\">\n",
              "      <th></th>\n",
              "      <th>area_A</th>\n",
              "      <th>perimeter_P</th>\n",
              "      <th>compactness</th>\n",
              "      <th>length_of_ker</th>\n",
              "      <th>width_of_ker</th>\n",
              "      <th>asymmetry_coeff</th>\n",
              "      <th>length_of_ker_groove</th>\n",
              "      <th>class</th>\n",
              "      <th>class_name</th>\n",
              "    </tr>\n",
              "  </thead>\n",
              "  <tbody>\n",
              "    <tr>\n",
              "      <th>0</th>\n",
              "      <td>15.26</td>\n",
              "      <td>14.84</td>\n",
              "      <td>0.87</td>\n",
              "      <td>5.76</td>\n",
              "      <td>3.31</td>\n",
              "      <td>2.22</td>\n",
              "      <td>5.22</td>\n",
              "      <td>1</td>\n",
              "      <td>Кама</td>\n",
              "    </tr>\n",
              "    <tr>\n",
              "      <th>1</th>\n",
              "      <td>14.88</td>\n",
              "      <td>14.57</td>\n",
              "      <td>0.88</td>\n",
              "      <td>5.55</td>\n",
              "      <td>3.33</td>\n",
              "      <td>1.02</td>\n",
              "      <td>4.96</td>\n",
              "      <td>1</td>\n",
              "      <td>Кама</td>\n",
              "    </tr>\n",
              "    <tr>\n",
              "      <th>2</th>\n",
              "      <td>14.29</td>\n",
              "      <td>14.09</td>\n",
              "      <td>0.91</td>\n",
              "      <td>5.29</td>\n",
              "      <td>3.34</td>\n",
              "      <td>2.70</td>\n",
              "      <td>4.83</td>\n",
              "      <td>1</td>\n",
              "      <td>Кама</td>\n",
              "    </tr>\n",
              "    <tr>\n",
              "      <th>3</th>\n",
              "      <td>13.84</td>\n",
              "      <td>13.94</td>\n",
              "      <td>0.90</td>\n",
              "      <td>5.32</td>\n",
              "      <td>3.38</td>\n",
              "      <td>2.26</td>\n",
              "      <td>4.80</td>\n",
              "      <td>1</td>\n",
              "      <td>Кама</td>\n",
              "    </tr>\n",
              "    <tr>\n",
              "      <th>4</th>\n",
              "      <td>16.14</td>\n",
              "      <td>14.99</td>\n",
              "      <td>0.90</td>\n",
              "      <td>5.66</td>\n",
              "      <td>3.56</td>\n",
              "      <td>1.35</td>\n",
              "      <td>5.17</td>\n",
              "      <td>1</td>\n",
              "      <td>Кама</td>\n",
              "    </tr>\n",
              "    <tr>\n",
              "      <th>...</th>\n",
              "      <td>...</td>\n",
              "      <td>...</td>\n",
              "      <td>...</td>\n",
              "      <td>...</td>\n",
              "      <td>...</td>\n",
              "      <td>...</td>\n",
              "      <td>...</td>\n",
              "      <td>...</td>\n",
              "      <td>...</td>\n",
              "    </tr>\n",
              "    <tr>\n",
              "      <th>205</th>\n",
              "      <td>12.19</td>\n",
              "      <td>13.20</td>\n",
              "      <td>0.88</td>\n",
              "      <td>5.14</td>\n",
              "      <td>2.98</td>\n",
              "      <td>3.63</td>\n",
              "      <td>4.87</td>\n",
              "      <td>3</td>\n",
              "      <td>Канадская</td>\n",
              "    </tr>\n",
              "    <tr>\n",
              "      <th>206</th>\n",
              "      <td>11.23</td>\n",
              "      <td>12.88</td>\n",
              "      <td>0.85</td>\n",
              "      <td>5.14</td>\n",
              "      <td>2.79</td>\n",
              "      <td>4.33</td>\n",
              "      <td>5.00</td>\n",
              "      <td>3</td>\n",
              "      <td>Канадская</td>\n",
              "    </tr>\n",
              "    <tr>\n",
              "      <th>207</th>\n",
              "      <td>13.20</td>\n",
              "      <td>13.66</td>\n",
              "      <td>0.89</td>\n",
              "      <td>5.24</td>\n",
              "      <td>3.23</td>\n",
              "      <td>8.31</td>\n",
              "      <td>5.06</td>\n",
              "      <td>3</td>\n",
              "      <td>Канадская</td>\n",
              "    </tr>\n",
              "    <tr>\n",
              "      <th>208</th>\n",
              "      <td>11.84</td>\n",
              "      <td>13.21</td>\n",
              "      <td>0.85</td>\n",
              "      <td>5.17</td>\n",
              "      <td>2.84</td>\n",
              "      <td>3.60</td>\n",
              "      <td>5.04</td>\n",
              "      <td>3</td>\n",
              "      <td>Канадская</td>\n",
              "    </tr>\n",
              "    <tr>\n",
              "      <th>209</th>\n",
              "      <td>12.30</td>\n",
              "      <td>13.34</td>\n",
              "      <td>0.87</td>\n",
              "      <td>5.24</td>\n",
              "      <td>2.97</td>\n",
              "      <td>5.64</td>\n",
              "      <td>5.06</td>\n",
              "      <td>3</td>\n",
              "      <td>Канадская</td>\n",
              "    </tr>\n",
              "  </tbody>\n",
              "</table>\n",
              "<p>210 rows × 9 columns</p>\n",
              "</div>\n",
              "      <button class=\"colab-df-convert\" onclick=\"convertToInteractive('df-5f9434ca-6f89-429d-bca0-ed2714b5f962')\"\n",
              "              title=\"Convert this dataframe to an interactive table.\"\n",
              "              style=\"display:none;\">\n",
              "        \n",
              "  <svg xmlns=\"http://www.w3.org/2000/svg\" height=\"24px\"viewBox=\"0 0 24 24\"\n",
              "       width=\"24px\">\n",
              "    <path d=\"M0 0h24v24H0V0z\" fill=\"none\"/>\n",
              "    <path d=\"M18.56 5.44l.94 2.06.94-2.06 2.06-.94-2.06-.94-.94-2.06-.94 2.06-2.06.94zm-11 1L8.5 8.5l.94-2.06 2.06-.94-2.06-.94L8.5 2.5l-.94 2.06-2.06.94zm10 10l.94 2.06.94-2.06 2.06-.94-2.06-.94-.94-2.06-.94 2.06-2.06.94z\"/><path d=\"M17.41 7.96l-1.37-1.37c-.4-.4-.92-.59-1.43-.59-.52 0-1.04.2-1.43.59L10.3 9.45l-7.72 7.72c-.78.78-.78 2.05 0 2.83L4 21.41c.39.39.9.59 1.41.59.51 0 1.02-.2 1.41-.59l7.78-7.78 2.81-2.81c.8-.78.8-2.07 0-2.86zM5.41 20L4 18.59l7.72-7.72 1.47 1.35L5.41 20z\"/>\n",
              "  </svg>\n",
              "      </button>\n",
              "      \n",
              "  <style>\n",
              "    .colab-df-container {\n",
              "      display:flex;\n",
              "      flex-wrap:wrap;\n",
              "      gap: 12px;\n",
              "    }\n",
              "\n",
              "    .colab-df-convert {\n",
              "      background-color: #E8F0FE;\n",
              "      border: none;\n",
              "      border-radius: 50%;\n",
              "      cursor: pointer;\n",
              "      display: none;\n",
              "      fill: #1967D2;\n",
              "      height: 32px;\n",
              "      padding: 0 0 0 0;\n",
              "      width: 32px;\n",
              "    }\n",
              "\n",
              "    .colab-df-convert:hover {\n",
              "      background-color: #E2EBFA;\n",
              "      box-shadow: 0px 1px 2px rgba(60, 64, 67, 0.3), 0px 1px 3px 1px rgba(60, 64, 67, 0.15);\n",
              "      fill: #174EA6;\n",
              "    }\n",
              "\n",
              "    [theme=dark] .colab-df-convert {\n",
              "      background-color: #3B4455;\n",
              "      fill: #D2E3FC;\n",
              "    }\n",
              "\n",
              "    [theme=dark] .colab-df-convert:hover {\n",
              "      background-color: #434B5C;\n",
              "      box-shadow: 0px 1px 3px 1px rgba(0, 0, 0, 0.15);\n",
              "      filter: drop-shadow(0px 1px 2px rgba(0, 0, 0, 0.3));\n",
              "      fill: #FFFFFF;\n",
              "    }\n",
              "  </style>\n",
              "\n",
              "      <script>\n",
              "        const buttonEl =\n",
              "          document.querySelector('#df-5f9434ca-6f89-429d-bca0-ed2714b5f962 button.colab-df-convert');\n",
              "        buttonEl.style.display =\n",
              "          google.colab.kernel.accessAllowed ? 'block' : 'none';\n",
              "\n",
              "        async function convertToInteractive(key) {\n",
              "          const element = document.querySelector('#df-5f9434ca-6f89-429d-bca0-ed2714b5f962');\n",
              "          const dataTable =\n",
              "            await google.colab.kernel.invokeFunction('convertToInteractive',\n",
              "                                                     [key], {});\n",
              "          if (!dataTable) return;\n",
              "\n",
              "          const docLinkHtml = 'Like what you see? Visit the ' +\n",
              "            '<a target=\"_blank\" href=https://colab.research.google.com/notebooks/data_table.ipynb>data table notebook</a>'\n",
              "            + ' to learn more about interactive tables.';\n",
              "          element.innerHTML = '';\n",
              "          dataTable['output_type'] = 'display_data';\n",
              "          await google.colab.output.renderOutput(dataTable, element);\n",
              "          const docLink = document.createElement('div');\n",
              "          docLink.innerHTML = docLinkHtml;\n",
              "          element.appendChild(docLink);\n",
              "        }\n",
              "      </script>\n",
              "    </div>\n",
              "  </div>\n",
              "  "
            ]
          },
          "metadata": {},
          "execution_count": 124
        }
      ]
    },
    {
      "cell_type": "code",
      "source": [
        "fg_groupby.head(5)"
      ],
      "metadata": {
        "colab": {
          "base_uri": "https://localhost:8080/",
          "height": 206
        },
        "id": "R1BMknwCsh65",
        "outputId": "fd941a8b-68ca-4db8-fc42-22a6d3878aac"
      },
      "execution_count": null,
      "outputs": [
        {
          "output_type": "execute_result",
          "data": {
            "text/plain": [
              "      0         1         2     3     4     5     6  end\n",
              "0  0.14  2.15e-01  6.06e-05  0.30  0.14 -0.99 -0.38  1.0\n",
              "1  0.01  8.22e-03  4.29e-01 -0.17  0.20 -1.79 -0.92  1.0\n",
              "2 -0.19 -3.60e-01  1.44e+00 -0.76  0.21 -0.67 -1.19  1.0\n",
              "3 -0.35 -4.75e-01  1.04e+00 -0.69  0.32 -0.96 -1.23  1.0\n",
              "4  0.45  3.31e-01  1.37e+00  0.07  0.81 -1.56 -0.48  1.0"
            ],
            "text/html": [
              "\n",
              "  <div id=\"df-16f3a83f-021f-427a-abce-4bfd77414bc1\">\n",
              "    <div class=\"colab-df-container\">\n",
              "      <div>\n",
              "<style scoped>\n",
              "    .dataframe tbody tr th:only-of-type {\n",
              "        vertical-align: middle;\n",
              "    }\n",
              "\n",
              "    .dataframe tbody tr th {\n",
              "        vertical-align: top;\n",
              "    }\n",
              "\n",
              "    .dataframe thead th {\n",
              "        text-align: right;\n",
              "    }\n",
              "</style>\n",
              "<table border=\"1\" class=\"dataframe\">\n",
              "  <thead>\n",
              "    <tr style=\"text-align: right;\">\n",
              "      <th></th>\n",
              "      <th>0</th>\n",
              "      <th>1</th>\n",
              "      <th>2</th>\n",
              "      <th>3</th>\n",
              "      <th>4</th>\n",
              "      <th>5</th>\n",
              "      <th>6</th>\n",
              "      <th>end</th>\n",
              "    </tr>\n",
              "  </thead>\n",
              "  <tbody>\n",
              "    <tr>\n",
              "      <th>0</th>\n",
              "      <td>0.14</td>\n",
              "      <td>2.15e-01</td>\n",
              "      <td>6.06e-05</td>\n",
              "      <td>0.30</td>\n",
              "      <td>0.14</td>\n",
              "      <td>-0.99</td>\n",
              "      <td>-0.38</td>\n",
              "      <td>1.0</td>\n",
              "    </tr>\n",
              "    <tr>\n",
              "      <th>1</th>\n",
              "      <td>0.01</td>\n",
              "      <td>8.22e-03</td>\n",
              "      <td>4.29e-01</td>\n",
              "      <td>-0.17</td>\n",
              "      <td>0.20</td>\n",
              "      <td>-1.79</td>\n",
              "      <td>-0.92</td>\n",
              "      <td>1.0</td>\n",
              "    </tr>\n",
              "    <tr>\n",
              "      <th>2</th>\n",
              "      <td>-0.19</td>\n",
              "      <td>-3.60e-01</td>\n",
              "      <td>1.44e+00</td>\n",
              "      <td>-0.76</td>\n",
              "      <td>0.21</td>\n",
              "      <td>-0.67</td>\n",
              "      <td>-1.19</td>\n",
              "      <td>1.0</td>\n",
              "    </tr>\n",
              "    <tr>\n",
              "      <th>3</th>\n",
              "      <td>-0.35</td>\n",
              "      <td>-4.75e-01</td>\n",
              "      <td>1.04e+00</td>\n",
              "      <td>-0.69</td>\n",
              "      <td>0.32</td>\n",
              "      <td>-0.96</td>\n",
              "      <td>-1.23</td>\n",
              "      <td>1.0</td>\n",
              "    </tr>\n",
              "    <tr>\n",
              "      <th>4</th>\n",
              "      <td>0.45</td>\n",
              "      <td>3.31e-01</td>\n",
              "      <td>1.37e+00</td>\n",
              "      <td>0.07</td>\n",
              "      <td>0.81</td>\n",
              "      <td>-1.56</td>\n",
              "      <td>-0.48</td>\n",
              "      <td>1.0</td>\n",
              "    </tr>\n",
              "  </tbody>\n",
              "</table>\n",
              "</div>\n",
              "      <button class=\"colab-df-convert\" onclick=\"convertToInteractive('df-16f3a83f-021f-427a-abce-4bfd77414bc1')\"\n",
              "              title=\"Convert this dataframe to an interactive table.\"\n",
              "              style=\"display:none;\">\n",
              "        \n",
              "  <svg xmlns=\"http://www.w3.org/2000/svg\" height=\"24px\"viewBox=\"0 0 24 24\"\n",
              "       width=\"24px\">\n",
              "    <path d=\"M0 0h24v24H0V0z\" fill=\"none\"/>\n",
              "    <path d=\"M18.56 5.44l.94 2.06.94-2.06 2.06-.94-2.06-.94-.94-2.06-.94 2.06-2.06.94zm-11 1L8.5 8.5l.94-2.06 2.06-.94-2.06-.94L8.5 2.5l-.94 2.06-2.06.94zm10 10l.94 2.06.94-2.06 2.06-.94-2.06-.94-.94-2.06-.94 2.06-2.06.94z\"/><path d=\"M17.41 7.96l-1.37-1.37c-.4-.4-.92-.59-1.43-.59-.52 0-1.04.2-1.43.59L10.3 9.45l-7.72 7.72c-.78.78-.78 2.05 0 2.83L4 21.41c.39.39.9.59 1.41.59.51 0 1.02-.2 1.41-.59l7.78-7.78 2.81-2.81c.8-.78.8-2.07 0-2.86zM5.41 20L4 18.59l7.72-7.72 1.47 1.35L5.41 20z\"/>\n",
              "  </svg>\n",
              "      </button>\n",
              "      \n",
              "  <style>\n",
              "    .colab-df-container {\n",
              "      display:flex;\n",
              "      flex-wrap:wrap;\n",
              "      gap: 12px;\n",
              "    }\n",
              "\n",
              "    .colab-df-convert {\n",
              "      background-color: #E8F0FE;\n",
              "      border: none;\n",
              "      border-radius: 50%;\n",
              "      cursor: pointer;\n",
              "      display: none;\n",
              "      fill: #1967D2;\n",
              "      height: 32px;\n",
              "      padding: 0 0 0 0;\n",
              "      width: 32px;\n",
              "    }\n",
              "\n",
              "    .colab-df-convert:hover {\n",
              "      background-color: #E2EBFA;\n",
              "      box-shadow: 0px 1px 2px rgba(60, 64, 67, 0.3), 0px 1px 3px 1px rgba(60, 64, 67, 0.15);\n",
              "      fill: #174EA6;\n",
              "    }\n",
              "\n",
              "    [theme=dark] .colab-df-convert {\n",
              "      background-color: #3B4455;\n",
              "      fill: #D2E3FC;\n",
              "    }\n",
              "\n",
              "    [theme=dark] .colab-df-convert:hover {\n",
              "      background-color: #434B5C;\n",
              "      box-shadow: 0px 1px 3px 1px rgba(0, 0, 0, 0.15);\n",
              "      filter: drop-shadow(0px 1px 2px rgba(0, 0, 0, 0.3));\n",
              "      fill: #FFFFFF;\n",
              "    }\n",
              "  </style>\n",
              "\n",
              "      <script>\n",
              "        const buttonEl =\n",
              "          document.querySelector('#df-16f3a83f-021f-427a-abce-4bfd77414bc1 button.colab-df-convert');\n",
              "        buttonEl.style.display =\n",
              "          google.colab.kernel.accessAllowed ? 'block' : 'none';\n",
              "\n",
              "        async function convertToInteractive(key) {\n",
              "          const element = document.querySelector('#df-16f3a83f-021f-427a-abce-4bfd77414bc1');\n",
              "          const dataTable =\n",
              "            await google.colab.kernel.invokeFunction('convertToInteractive',\n",
              "                                                     [key], {});\n",
              "          if (!dataTable) return;\n",
              "\n",
              "          const docLinkHtml = 'Like what you see? Visit the ' +\n",
              "            '<a target=\"_blank\" href=https://colab.research.google.com/notebooks/data_table.ipynb>data table notebook</a>'\n",
              "            + ' to learn more about interactive tables.';\n",
              "          element.innerHTML = '';\n",
              "          dataTable['output_type'] = 'display_data';\n",
              "          await google.colab.output.renderOutput(dataTable, element);\n",
              "          const docLink = document.createElement('div');\n",
              "          docLink.innerHTML = docLinkHtml;\n",
              "          element.appendChild(docLink);\n",
              "        }\n",
              "      </script>\n",
              "    </div>\n",
              "  </div>\n",
              "  "
            ]
          },
          "metadata": {},
          "execution_count": 95
        }
      ]
    },
    {
      "cell_type": "code",
      "source": [
        "fg_groupby.isna().sum()"
      ],
      "metadata": {
        "id": "AzO7WQmeLQWU"
      },
      "execution_count": null,
      "outputs": []
    },
    {
      "cell_type": "code",
      "source": [
        "fg_groupby = fg_groupby.sort_index()"
      ],
      "metadata": {
        "id": "-2iaF646NfVB"
      },
      "execution_count": null,
      "outputs": []
    },
    {
      "cell_type": "code",
      "source": [
        "fg_groupby['end'] = fg_groupby['end'].astype('int')"
      ],
      "metadata": {
        "id": "gaOrnkzEN7Hp"
      },
      "execution_count": null,
      "outputs": []
    },
    {
      "cell_type": "code",
      "source": [
        "fg_groupby.dtypes"
      ],
      "metadata": {
        "colab": {
          "base_uri": "https://localhost:8080/"
        },
        "id": "7s6vj4ioOjx_",
        "outputId": "eba27ae0-f0e8-4fff-c0b9-f04835442a98"
      },
      "execution_count": null,
      "outputs": [
        {
          "output_type": "execute_result",
          "data": {
            "text/plain": [
              "0      float64\n",
              "1      float64\n",
              "2      float64\n",
              "3      float64\n",
              "4      float64\n",
              "5      float64\n",
              "6      float64\n",
              "end      int64\n",
              "dtype: object"
            ]
          },
          "metadata": {},
          "execution_count": 98
        }
      ]
    }
  ]
}