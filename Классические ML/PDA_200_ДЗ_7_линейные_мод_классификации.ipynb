{
  "nbformat": 4,
  "nbformat_minor": 0,
  "metadata": {
    "colab": {
      "provenance": []
    },
    "kernelspec": {
      "name": "python3",
      "display_name": "Python 3"
    },
    "language_info": {
      "name": "python"
    }
  },
  "cells": [
    {
      "cell_type": "code",
      "source": [
        "!pip install pingouin"
      ],
      "metadata": {
        "colab": {
          "base_uri": "https://localhost:8080/",
          "height": 1000
        },
        "id": "nn7nOEKivjob",
        "outputId": "64525fcb-aec7-42b6-faf5-eb287fcfdf19"
      },
      "execution_count": null,
      "outputs": [
        {
          "output_type": "stream",
          "name": "stdout",
          "text": [
            "Collecting pingouin\n",
            "  Downloading pingouin-0.5.1.tar.gz (183 kB)\n",
            "\u001b[?25l\r\u001b[K     |█▉                              | 10 kB 21.1 MB/s eta 0:00:01\r\u001b[K     |███▋                            | 20 kB 25.2 MB/s eta 0:00:01\r\u001b[K     |█████▍                          | 30 kB 30.6 MB/s eta 0:00:01\r\u001b[K     |███████▏                        | 40 kB 17.4 MB/s eta 0:00:01\r\u001b[K     |█████████                       | 51 kB 14.3 MB/s eta 0:00:01\r\u001b[K     |██████████▊                     | 61 kB 16.3 MB/s eta 0:00:01\r\u001b[K     |████████████▌                   | 71 kB 14.1 MB/s eta 0:00:01\r\u001b[K     |██████████████▎                 | 81 kB 15.3 MB/s eta 0:00:01\r\u001b[K     |████████████████                | 92 kB 16.9 MB/s eta 0:00:01\r\u001b[K     |██████████████████              | 102 kB 14.1 MB/s eta 0:00:01\r\u001b[K     |███████████████████▊            | 112 kB 14.1 MB/s eta 0:00:01\r\u001b[K     |█████████████████████▌          | 122 kB 14.1 MB/s eta 0:00:01\r\u001b[K     |███████████████████████▎        | 133 kB 14.1 MB/s eta 0:00:01\r\u001b[K     |█████████████████████████       | 143 kB 14.1 MB/s eta 0:00:01\r\u001b[K     |██████████████████████████▉     | 153 kB 14.1 MB/s eta 0:00:01\r\u001b[K     |████████████████████████████▋   | 163 kB 14.1 MB/s eta 0:00:01\r\u001b[K     |██████████████████████████████▍ | 174 kB 14.1 MB/s eta 0:00:01\r\u001b[K     |████████████████████████████████| 183 kB 14.1 MB/s \n",
            "\u001b[?25hRequirement already satisfied: numpy>=1.19 in /usr/local/lib/python3.7/dist-packages (from pingouin) (1.21.6)\n",
            "Collecting scipy>=1.7\n",
            "  Downloading scipy-1.7.3-cp37-cp37m-manylinux_2_12_x86_64.manylinux2010_x86_64.whl (38.1 MB)\n",
            "\u001b[K     |████████████████████████████████| 38.1 MB 374 kB/s \n",
            "\u001b[?25hRequirement already satisfied: pandas>=1.0 in /usr/local/lib/python3.7/dist-packages (from pingouin) (1.3.5)\n",
            "Requirement already satisfied: matplotlib>=3.0.2 in /usr/local/lib/python3.7/dist-packages (from pingouin) (3.2.2)\n",
            "Requirement already satisfied: seaborn>=0.11 in /usr/local/lib/python3.7/dist-packages (from pingouin) (0.11.2)\n",
            "Collecting statsmodels>=0.13\n",
            "  Downloading statsmodels-0.13.2-cp37-cp37m-manylinux_2_17_x86_64.manylinux2014_x86_64.whl (9.8 MB)\n",
            "\u001b[K     |████████████████████████████████| 9.8 MB 54.9 MB/s \n",
            "\u001b[?25hRequirement already satisfied: scikit-learn in /usr/local/lib/python3.7/dist-packages (from pingouin) (1.0.2)\n",
            "Collecting pandas_flavor>=0.2.0\n",
            "  Downloading pandas_flavor-0.3.0-py3-none-any.whl (6.3 kB)\n",
            "Collecting outdated\n",
            "  Downloading outdated-0.2.1-py3-none-any.whl (7.5 kB)\n",
            "Requirement already satisfied: tabulate in /usr/local/lib/python3.7/dist-packages (from pingouin) (0.8.9)\n",
            "Requirement already satisfied: cycler>=0.10 in /usr/local/lib/python3.7/dist-packages (from matplotlib>=3.0.2->pingouin) (0.11.0)\n",
            "Requirement already satisfied: pyparsing!=2.0.4,!=2.1.2,!=2.1.6,>=2.0.1 in /usr/local/lib/python3.7/dist-packages (from matplotlib>=3.0.2->pingouin) (3.0.8)\n",
            "Requirement already satisfied: kiwisolver>=1.0.1 in /usr/local/lib/python3.7/dist-packages (from matplotlib>=3.0.2->pingouin) (1.4.2)\n",
            "Requirement already satisfied: python-dateutil>=2.1 in /usr/local/lib/python3.7/dist-packages (from matplotlib>=3.0.2->pingouin) (2.8.2)\n",
            "Requirement already satisfied: typing-extensions in /usr/local/lib/python3.7/dist-packages (from kiwisolver>=1.0.1->matplotlib>=3.0.2->pingouin) (4.2.0)\n",
            "Requirement already satisfied: pytz>=2017.3 in /usr/local/lib/python3.7/dist-packages (from pandas>=1.0->pingouin) (2022.1)\n",
            "Requirement already satisfied: xarray in /usr/local/lib/python3.7/dist-packages (from pandas_flavor>=0.2.0->pingouin) (0.18.2)\n",
            "Collecting pandas_flavor>=0.2.0\n",
            "  Downloading pandas_flavor-0.2.0-py2.py3-none-any.whl (6.6 kB)\n",
            "Requirement already satisfied: six>=1.5 in /usr/local/lib/python3.7/dist-packages (from python-dateutil>=2.1->matplotlib>=3.0.2->pingouin) (1.15.0)\n",
            "Requirement already satisfied: patsy>=0.5.2 in /usr/local/lib/python3.7/dist-packages (from statsmodels>=0.13->pingouin) (0.5.2)\n",
            "Requirement already satisfied: packaging>=21.3 in /usr/local/lib/python3.7/dist-packages (from statsmodels>=0.13->pingouin) (21.3)\n",
            "Collecting littleutils\n",
            "  Downloading littleutils-0.2.2.tar.gz (6.6 kB)\n",
            "Requirement already satisfied: requests in /usr/local/lib/python3.7/dist-packages (from outdated->pingouin) (2.23.0)\n",
            "Requirement already satisfied: idna<3,>=2.5 in /usr/local/lib/python3.7/dist-packages (from requests->outdated->pingouin) (2.10)\n",
            "Requirement already satisfied: chardet<4,>=3.0.2 in /usr/local/lib/python3.7/dist-packages (from requests->outdated->pingouin) (3.0.4)\n",
            "Requirement already satisfied: urllib3!=1.25.0,!=1.25.1,<1.26,>=1.21.1 in /usr/local/lib/python3.7/dist-packages (from requests->outdated->pingouin) (1.24.3)\n",
            "Requirement already satisfied: certifi>=2017.4.17 in /usr/local/lib/python3.7/dist-packages (from requests->outdated->pingouin) (2021.10.8)\n",
            "Requirement already satisfied: joblib>=0.11 in /usr/local/lib/python3.7/dist-packages (from scikit-learn->pingouin) (1.1.0)\n",
            "Requirement already satisfied: threadpoolctl>=2.0.0 in /usr/local/lib/python3.7/dist-packages (from scikit-learn->pingouin) (3.1.0)\n",
            "Requirement already satisfied: setuptools>=40.4 in /usr/local/lib/python3.7/dist-packages (from xarray->pandas_flavor>=0.2.0->pingouin) (57.4.0)\n",
            "Building wheels for collected packages: pingouin, littleutils\n",
            "  Building wheel for pingouin (setup.py) ... \u001b[?25l\u001b[?25hdone\n",
            "  Created wheel for pingouin: filename=pingouin-0.5.1-py3-none-any.whl size=194002 sha256=51b7821141f3ebbd2beff0946053dd5df5da19c4804c50d808eb5056ed50b01d\n",
            "  Stored in directory: /root/.cache/pip/wheels/74/a7/b6/5b5f03b0395fdada1f45d3aed76e7da48873a02805545ef652\n",
            "  Building wheel for littleutils (setup.py) ... \u001b[?25l\u001b[?25hdone\n",
            "  Created wheel for littleutils: filename=littleutils-0.2.2-py3-none-any.whl size=7048 sha256=b9e9f9df1ba15c7cc2c21073c59082f1fa91a1d03556f08b5067b3f54a725b6c\n",
            "  Stored in directory: /root/.cache/pip/wheels/d6/64/cd/32819b511a488e4993f2fab909a95330289c3f4e0f6ef4676d\n",
            "Successfully built pingouin littleutils\n",
            "Installing collected packages: scipy, littleutils, statsmodels, pandas-flavor, outdated, pingouin\n",
            "  Attempting uninstall: scipy\n",
            "    Found existing installation: scipy 1.4.1\n",
            "    Uninstalling scipy-1.4.1:\n",
            "      Successfully uninstalled scipy-1.4.1\n",
            "  Attempting uninstall: statsmodels\n",
            "    Found existing installation: statsmodels 0.10.2\n",
            "    Uninstalling statsmodels-0.10.2:\n",
            "      Successfully uninstalled statsmodels-0.10.2\n",
            "\u001b[31mERROR: pip's dependency resolver does not currently take into account all the packages that are installed. This behaviour is the source of the following dependency conflicts.\n",
            "albumentations 0.1.12 requires imgaug<0.2.7,>=0.2.5, but you have imgaug 0.2.9 which is incompatible.\u001b[0m\n",
            "Successfully installed littleutils-0.2.2 outdated-0.2.1 pandas-flavor-0.2.0 pingouin-0.5.1 scipy-1.7.3 statsmodels-0.13.2\n"
          ]
        },
        {
          "output_type": "display_data",
          "data": {
            "application/vnd.colab-display-data+json": {
              "pip_warning": {
                "packages": [
                  "scipy"
                ]
              }
            }
          },
          "metadata": {}
        }
      ]
    },
    {
      "cell_type": "code",
      "source": [],
      "metadata": {
        "id": "qDCZ2miqWoSm"
      },
      "execution_count": null,
      "outputs": []
    },
    {
      "cell_type": "code",
      "source": [
        "exit() #!!!"
      ],
      "metadata": {
        "id": "fPgj8-m-DgZk"
      },
      "execution_count": null,
      "outputs": []
    },
    {
      "cell_type": "markdown",
      "source": [
        "**exit()** - это перезапустит среду выполнения без удаления файлов **и pingouin пойдет**. Время выполнения начнется автоматически. И если вы нажмете «Run all», запуск не прерывается и работает до конца."
      ],
      "metadata": {
        "id": "iiC1RnZeDgZk"
      }
    },
    {
      "cell_type": "code",
      "source": [
        "from google.colab import drive\n",
        "drive.mount('/content/gdrive')\n",
        "\n",
        "import os\n",
        "import numpy as np\n",
        "import pandas as pd\n",
        "from pandas import read_csv\n",
        "from sklearn.model_selection import KFold\n",
        "from sklearn.model_selection import cross_val_score\n",
        "from sklearn.linear_model import LogisticRegression\n",
        "from sklearn.discriminant_analysis import LinearDiscriminantAnalysis\n",
        "from sklearn.svm import SVC\n",
        "import pingouin as pg"
      ],
      "metadata": {
        "colab": {
          "base_uri": "https://localhost:8080/"
        },
        "id": "1Hwk-t9otZDE",
        "outputId": "bf874a74-7fae-493b-c167-af92378aff2d"
      },
      "execution_count": null,
      "outputs": [
        {
          "output_type": "stream",
          "name": "stdout",
          "text": [
            "Drive already mounted at /content/gdrive; to attempt to forcibly remount, call drive.mount(\"/content/gdrive\", force_remount=True).\n"
          ]
        }
      ]
    },
    {
      "cell_type": "markdown",
      "source": [
        "# **ЗАДАНИЕ 7. ЛИНЕЙНЫЕ МОДЕЛИ ДЛЯ КЛАССИФИКАЦИИ**"
      ],
      "metadata": {
        "id": "A0hFYqqhpnGN"
      }
    },
    {
      "cell_type": "markdown",
      "source": [
        "Постройте линейные модели для классификации (логистическая регрессия, линейный метод опорных векторов, линейный дискриминантный анализ), оцените их качество, дайте прогноз класса для нового наблюдения.\n",
        "Постарайтесь максимально автоматизировать все вычисления, использовать существующие модули среды программирования Python."
      ],
      "metadata": {
        "id": "JLRl46_9prl0"
      }
    },
    {
      "cell_type": "markdown",
      "source": [
        "# **Методика выполнения задания:**"
      ],
      "metadata": {
        "id": "N4Vz79woptlG"
      }
    },
    {
      "cell_type": "markdown",
      "source": [
        "# **Раздел 1. Логистическая регрессия (функция)(в основном для 2-х классов) используется**"
      ],
      "metadata": {
        "id": "HudWp20Kpzdy"
      }
    },
    {
      "cell_type": "markdown",
      "source": [
        "**1. Укажите путь к рабочей папке, где хранятся данные, с помощью функции chdir() из модуля os.**"
      ],
      "metadata": {
        "id": "_yOLUBrdp44O"
      }
    },
    {
      "cell_type": "markdown",
      "source": [
        "**2. Загрузите данные файла pima-indians-diabetes.data.csv с помощью функции read_csv() из модуля pandas. Названия столбцов укажите следующими: names = ['preg', 'plas', 'pres', 'skin', 'test', 'mass', 'pedi', 'age', 'class']. Посмотрите на первые 5 наблюдений с помощью функции head().**"
      ],
      "metadata": {
        "id": "-pQbGZS2p9kV"
      }
    },
    {
      "cell_type": "markdown",
      "source": [
        "**3. Сохраните в переменную array значения признаков, обратившись к атрибуту values.**"
      ],
      "metadata": {
        "id": "n4PcavcnqFlg"
      }
    },
    {
      "cell_type": "markdown",
      "source": [
        "**4. Выделите в переменной array часть, которая относится к факторным признакам, назовите ее X, и часть, которая относится к результативному признаку, - Y. Прокомментируйте содержимое переменных X и Y.**\n"
      ],
      "metadata": {
        "id": "7-imIw9ZqLTP"
      }
    },
    {
      "cell_type": "code",
      "source": [
        "os.chdir('/content/gdrive/MyDrive/Colab Notebooks/PDA-200/')"
      ],
      "metadata": {
        "id": "I04-LRZzy5OO"
      },
      "execution_count": null,
      "outputs": []
    },
    {
      "cell_type": "code",
      "source": [
        "filename='pima-indians-diabetes.data.csv'\n",
        "names=['preg','plas','pres','skin','test','mass','pedi','age','class']\n",
        "data=read_csv(filename,names=names)\n",
        "data.head(10)"
      ],
      "metadata": {
        "colab": {
          "base_uri": "https://localhost:8080/",
          "height": 363
        },
        "id": "HLtGvao_zk-a",
        "outputId": "e00209e4-258e-44a6-960b-4cbd7c862a87"
      },
      "execution_count": null,
      "outputs": [
        {
          "output_type": "execute_result",
          "data": {
            "text/plain": [
              "   preg  plas  pres  skin  test  mass   pedi  age  class\n",
              "0     6   148    72    35     0  33.6  0.627   50      1\n",
              "1     1    85    66    29     0  26.6  0.351   31      0\n",
              "2     8   183    64     0     0  23.3  0.672   32      1\n",
              "3     1    89    66    23    94  28.1  0.167   21      0\n",
              "4     0   137    40    35   168  43.1  2.288   33      1\n",
              "5     5   116    74     0     0  25.6  0.201   30      0\n",
              "6     3    78    50    32    88  31.0  0.248   26      1\n",
              "7    10   115     0     0     0  35.3  0.134   29      0\n",
              "8     2   197    70    45   543  30.5  0.158   53      1\n",
              "9     8   125    96     0     0   0.0  0.232   54      1"
            ],
            "text/html": [
              "\n",
              "  <div id=\"df-6a3b7ea5-3b73-4b04-b9ea-2958ef7b81f8\">\n",
              "    <div class=\"colab-df-container\">\n",
              "      <div>\n",
              "<style scoped>\n",
              "    .dataframe tbody tr th:only-of-type {\n",
              "        vertical-align: middle;\n",
              "    }\n",
              "\n",
              "    .dataframe tbody tr th {\n",
              "        vertical-align: top;\n",
              "    }\n",
              "\n",
              "    .dataframe thead th {\n",
              "        text-align: right;\n",
              "    }\n",
              "</style>\n",
              "<table border=\"1\" class=\"dataframe\">\n",
              "  <thead>\n",
              "    <tr style=\"text-align: right;\">\n",
              "      <th></th>\n",
              "      <th>preg</th>\n",
              "      <th>plas</th>\n",
              "      <th>pres</th>\n",
              "      <th>skin</th>\n",
              "      <th>test</th>\n",
              "      <th>mass</th>\n",
              "      <th>pedi</th>\n",
              "      <th>age</th>\n",
              "      <th>class</th>\n",
              "    </tr>\n",
              "  </thead>\n",
              "  <tbody>\n",
              "    <tr>\n",
              "      <th>0</th>\n",
              "      <td>6</td>\n",
              "      <td>148</td>\n",
              "      <td>72</td>\n",
              "      <td>35</td>\n",
              "      <td>0</td>\n",
              "      <td>33.6</td>\n",
              "      <td>0.627</td>\n",
              "      <td>50</td>\n",
              "      <td>1</td>\n",
              "    </tr>\n",
              "    <tr>\n",
              "      <th>1</th>\n",
              "      <td>1</td>\n",
              "      <td>85</td>\n",
              "      <td>66</td>\n",
              "      <td>29</td>\n",
              "      <td>0</td>\n",
              "      <td>26.6</td>\n",
              "      <td>0.351</td>\n",
              "      <td>31</td>\n",
              "      <td>0</td>\n",
              "    </tr>\n",
              "    <tr>\n",
              "      <th>2</th>\n",
              "      <td>8</td>\n",
              "      <td>183</td>\n",
              "      <td>64</td>\n",
              "      <td>0</td>\n",
              "      <td>0</td>\n",
              "      <td>23.3</td>\n",
              "      <td>0.672</td>\n",
              "      <td>32</td>\n",
              "      <td>1</td>\n",
              "    </tr>\n",
              "    <tr>\n",
              "      <th>3</th>\n",
              "      <td>1</td>\n",
              "      <td>89</td>\n",
              "      <td>66</td>\n",
              "      <td>23</td>\n",
              "      <td>94</td>\n",
              "      <td>28.1</td>\n",
              "      <td>0.167</td>\n",
              "      <td>21</td>\n",
              "      <td>0</td>\n",
              "    </tr>\n",
              "    <tr>\n",
              "      <th>4</th>\n",
              "      <td>0</td>\n",
              "      <td>137</td>\n",
              "      <td>40</td>\n",
              "      <td>35</td>\n",
              "      <td>168</td>\n",
              "      <td>43.1</td>\n",
              "      <td>2.288</td>\n",
              "      <td>33</td>\n",
              "      <td>1</td>\n",
              "    </tr>\n",
              "    <tr>\n",
              "      <th>5</th>\n",
              "      <td>5</td>\n",
              "      <td>116</td>\n",
              "      <td>74</td>\n",
              "      <td>0</td>\n",
              "      <td>0</td>\n",
              "      <td>25.6</td>\n",
              "      <td>0.201</td>\n",
              "      <td>30</td>\n",
              "      <td>0</td>\n",
              "    </tr>\n",
              "    <tr>\n",
              "      <th>6</th>\n",
              "      <td>3</td>\n",
              "      <td>78</td>\n",
              "      <td>50</td>\n",
              "      <td>32</td>\n",
              "      <td>88</td>\n",
              "      <td>31.0</td>\n",
              "      <td>0.248</td>\n",
              "      <td>26</td>\n",
              "      <td>1</td>\n",
              "    </tr>\n",
              "    <tr>\n",
              "      <th>7</th>\n",
              "      <td>10</td>\n",
              "      <td>115</td>\n",
              "      <td>0</td>\n",
              "      <td>0</td>\n",
              "      <td>0</td>\n",
              "      <td>35.3</td>\n",
              "      <td>0.134</td>\n",
              "      <td>29</td>\n",
              "      <td>0</td>\n",
              "    </tr>\n",
              "    <tr>\n",
              "      <th>8</th>\n",
              "      <td>2</td>\n",
              "      <td>197</td>\n",
              "      <td>70</td>\n",
              "      <td>45</td>\n",
              "      <td>543</td>\n",
              "      <td>30.5</td>\n",
              "      <td>0.158</td>\n",
              "      <td>53</td>\n",
              "      <td>1</td>\n",
              "    </tr>\n",
              "    <tr>\n",
              "      <th>9</th>\n",
              "      <td>8</td>\n",
              "      <td>125</td>\n",
              "      <td>96</td>\n",
              "      <td>0</td>\n",
              "      <td>0</td>\n",
              "      <td>0.0</td>\n",
              "      <td>0.232</td>\n",
              "      <td>54</td>\n",
              "      <td>1</td>\n",
              "    </tr>\n",
              "  </tbody>\n",
              "</table>\n",
              "</div>\n",
              "      <button class=\"colab-df-convert\" onclick=\"convertToInteractive('df-6a3b7ea5-3b73-4b04-b9ea-2958ef7b81f8')\"\n",
              "              title=\"Convert this dataframe to an interactive table.\"\n",
              "              style=\"display:none;\">\n",
              "        \n",
              "  <svg xmlns=\"http://www.w3.org/2000/svg\" height=\"24px\"viewBox=\"0 0 24 24\"\n",
              "       width=\"24px\">\n",
              "    <path d=\"M0 0h24v24H0V0z\" fill=\"none\"/>\n",
              "    <path d=\"M18.56 5.44l.94 2.06.94-2.06 2.06-.94-2.06-.94-.94-2.06-.94 2.06-2.06.94zm-11 1L8.5 8.5l.94-2.06 2.06-.94-2.06-.94L8.5 2.5l-.94 2.06-2.06.94zm10 10l.94 2.06.94-2.06 2.06-.94-2.06-.94-.94-2.06-.94 2.06-2.06.94z\"/><path d=\"M17.41 7.96l-1.37-1.37c-.4-.4-.92-.59-1.43-.59-.52 0-1.04.2-1.43.59L10.3 9.45l-7.72 7.72c-.78.78-.78 2.05 0 2.83L4 21.41c.39.39.9.59 1.41.59.51 0 1.02-.2 1.41-.59l7.78-7.78 2.81-2.81c.8-.78.8-2.07 0-2.86zM5.41 20L4 18.59l7.72-7.72 1.47 1.35L5.41 20z\"/>\n",
              "  </svg>\n",
              "      </button>\n",
              "      \n",
              "  <style>\n",
              "    .colab-df-container {\n",
              "      display:flex;\n",
              "      flex-wrap:wrap;\n",
              "      gap: 12px;\n",
              "    }\n",
              "\n",
              "    .colab-df-convert {\n",
              "      background-color: #E8F0FE;\n",
              "      border: none;\n",
              "      border-radius: 50%;\n",
              "      cursor: pointer;\n",
              "      display: none;\n",
              "      fill: #1967D2;\n",
              "      height: 32px;\n",
              "      padding: 0 0 0 0;\n",
              "      width: 32px;\n",
              "    }\n",
              "\n",
              "    .colab-df-convert:hover {\n",
              "      background-color: #E2EBFA;\n",
              "      box-shadow: 0px 1px 2px rgba(60, 64, 67, 0.3), 0px 1px 3px 1px rgba(60, 64, 67, 0.15);\n",
              "      fill: #174EA6;\n",
              "    }\n",
              "\n",
              "    [theme=dark] .colab-df-convert {\n",
              "      background-color: #3B4455;\n",
              "      fill: #D2E3FC;\n",
              "    }\n",
              "\n",
              "    [theme=dark] .colab-df-convert:hover {\n",
              "      background-color: #434B5C;\n",
              "      box-shadow: 0px 1px 3px 1px rgba(0, 0, 0, 0.15);\n",
              "      filter: drop-shadow(0px 1px 2px rgba(0, 0, 0, 0.3));\n",
              "      fill: #FFFFFF;\n",
              "    }\n",
              "  </style>\n",
              "\n",
              "      <script>\n",
              "        const buttonEl =\n",
              "          document.querySelector('#df-6a3b7ea5-3b73-4b04-b9ea-2958ef7b81f8 button.colab-df-convert');\n",
              "        buttonEl.style.display =\n",
              "          google.colab.kernel.accessAllowed ? 'block' : 'none';\n",
              "\n",
              "        async function convertToInteractive(key) {\n",
              "          const element = document.querySelector('#df-6a3b7ea5-3b73-4b04-b9ea-2958ef7b81f8');\n",
              "          const dataTable =\n",
              "            await google.colab.kernel.invokeFunction('convertToInteractive',\n",
              "                                                     [key], {});\n",
              "          if (!dataTable) return;\n",
              "\n",
              "          const docLinkHtml = 'Like what you see? Visit the ' +\n",
              "            '<a target=\"_blank\" href=https://colab.research.google.com/notebooks/data_table.ipynb>data table notebook</a>'\n",
              "            + ' to learn more about interactive tables.';\n",
              "          element.innerHTML = '';\n",
              "          dataTable['output_type'] = 'display_data';\n",
              "          await google.colab.output.renderOutput(dataTable, element);\n",
              "          const docLink = document.createElement('div');\n",
              "          docLink.innerHTML = docLinkHtml;\n",
              "          element.appendChild(docLink);\n",
              "        }\n",
              "      </script>\n",
              "    </div>\n",
              "  </div>\n",
              "  "
            ]
          },
          "metadata": {},
          "execution_count": 4
        }
      ]
    },
    {
      "cell_type": "code",
      "source": [
        "array = data.values\n",
        "array"
      ],
      "metadata": {
        "colab": {
          "base_uri": "https://localhost:8080/"
        },
        "id": "RFp0Zpru52tp",
        "outputId": "6f8c5414-6a02-4b8f-ec66-bc65ff7af5d8"
      },
      "execution_count": null,
      "outputs": [
        {
          "output_type": "execute_result",
          "data": {
            "text/plain": [
              "array([[  6.   , 148.   ,  72.   , ...,   0.627,  50.   ,   1.   ],\n",
              "       [  1.   ,  85.   ,  66.   , ...,   0.351,  31.   ,   0.   ],\n",
              "       [  8.   , 183.   ,  64.   , ...,   0.672,  32.   ,   1.   ],\n",
              "       ...,\n",
              "       [  5.   , 121.   ,  72.   , ...,   0.245,  30.   ,   0.   ],\n",
              "       [  1.   , 126.   ,  60.   , ...,   0.349,  47.   ,   1.   ],\n",
              "       [  1.   ,  93.   ,  70.   , ...,   0.315,  23.   ,   0.   ]])"
            ]
          },
          "metadata": {},
          "execution_count": 5
        }
      ]
    },
    {
      "cell_type": "code",
      "source": [
        "X = array[:,0:8] # факторные признаки, т.е. параметры объекта\n",
        "Y = array[:,8] # результативные признак, т.е. сам объект\n",
        "# это обучение с учителем х - это данные, y - это ответ"
      ],
      "metadata": {
        "id": "hk4htyL46Bsl"
      },
      "execution_count": null,
      "outputs": []
    },
    {
      "cell_type": "markdown",
      "source": [
        "**5. Задайте разбиение на фолды с помощью функции KFold(n_splits= n_splits, random_state = random_state, shuffle=True) из модуля sklearn.model_selection. Результат запишите в переменную kfold. На вход данной функции подайте следующую информацию: 1) количество частей, на которые должна разбиваться выборка (n_splits), - пусть 10; 2) счетчик случайных чисел (random_state) – пусть 7; 3) необходимость перемешивания данных выборки при каждой оценке, задав параметр shuffle=True.**"
      ],
      "metadata": {
        "id": "uLb3q7AMqSOx"
      }
    },
    {
      "cell_type": "code",
      "source": [
        "kfold=KFold(n_splits=10,random_state=7,shuffle=True)"
      ],
      "metadata": {
        "id": "IoSiCEgWqFLH"
      },
      "execution_count": null,
      "outputs": []
    },
    {
      "cell_type": "markdown",
      "source": [
        "**6. Постройте модель логистической регрессии, воспользовавшись функцией LogisticRegression(solver='liblinear') из модуля sklearn.linear_model. Результат запишите в переменную model.**"
      ],
      "metadata": {
        "id": "AACk4Iw0qYU9"
      }
    },
    {
      "cell_type": "code",
      "source": [
        "model=LogisticRegression(solver='liblinear')"
      ],
      "metadata": {
        "id": "CS8wFySjqdia"
      },
      "execution_count": null,
      "outputs": []
    },
    {
      "cell_type": "markdown",
      "source": [
        "**7. Проведите кросс-валидацию, воспользовавшись функцией cross_val_score(model, X, Y, cv=kfold) из модуля sklearn.model_selection. Результат запишите в переменную results.**"
      ],
      "metadata": {
        "id": "AUC-SavLqeGj"
      }
    },
    {
      "cell_type": "code",
      "source": [
        "results=cross_val_score(model, X, Y, cv=kfold)"
      ],
      "metadata": {
        "id": "-yZMrqlHqjgG"
      },
      "execution_count": null,
      "outputs": []
    },
    {
      "cell_type": "markdown",
      "source": [
        "**8. Выведите на экран среднюю долю правильных ответов (accuracy) и стандартное отклонение полученных оценок, воспользовавшись функциями mean() и std() соответственно.**"
      ],
      "metadata": {
        "id": "CXekZgkqqj4W"
      }
    },
    {
      "cell_type": "code",
      "source": [
        "results.mean()"
      ],
      "metadata": {
        "colab": {
          "base_uri": "https://localhost:8080/"
        },
        "id": "Mpy9kr7lqts4",
        "outputId": "b7a40b7d-0cf7-4aa0-c5d0-30c1d33d2b2b"
      },
      "execution_count": null,
      "outputs": [
        {
          "output_type": "execute_result",
          "data": {
            "text/plain": [
              "0.7708646616541353"
            ]
          },
          "metadata": {},
          "execution_count": 10
        }
      ]
    },
    {
      "cell_type": "code",
      "source": [
        "results.std()"
      ],
      "metadata": {
        "colab": {
          "base_uri": "https://localhost:8080/"
        },
        "id": "vuQvFrgS0Lps",
        "outputId": "c85818c4-ab49-4886-c2be-4422f1e9803d"
      },
      "execution_count": null,
      "outputs": [
        {
          "output_type": "execute_result",
          "data": {
            "text/plain": [
              "0.05090500786917546"
            ]
          },
          "metadata": {},
          "execution_count": 11
        }
      ]
    },
    {
      "cell_type": "markdown",
      "source": [
        "**9. Обучите модель на всех данных с помощью функции fit().**\n",
        "\n",
        "**10. Выведите на экран свободный член и значения коэффициентов регрессии при факторных признаках, которая разделяет классы, обратившись, соответственно, к атрибутам intercept_shape и coef_shape. Запишите математически уравнение регрессии.**"
      ],
      "metadata": {
        "id": "r2Q1dkfLquEb"
      }
    },
    {
      "cell_type": "code",
      "source": [
        "model.fit(X,Y)"
      ],
      "metadata": {
        "colab": {
          "base_uri": "https://localhost:8080/"
        },
        "id": "R-AixqHDq2Qb",
        "outputId": "1adceaf9-5fb1-4f5c-b760-e82960a6b0d5"
      },
      "execution_count": null,
      "outputs": [
        {
          "output_type": "execute_result",
          "data": {
            "text/plain": [
              "LogisticRegression(solver='liblinear')"
            ]
          },
          "metadata": {},
          "execution_count": 12
        }
      ]
    },
    {
      "cell_type": "code",
      "source": [
        "model.intercept_.shape"
      ],
      "metadata": {
        "colab": {
          "base_uri": "https://localhost:8080/"
        },
        "id": "UZ98TJPb118J",
        "outputId": "e8842ed5-a079-4660-8ac2-68357e958426"
      },
      "execution_count": null,
      "outputs": [
        {
          "output_type": "execute_result",
          "data": {
            "text/plain": [
              "(1,)"
            ]
          },
          "metadata": {},
          "execution_count": 19
        }
      ]
    },
    {
      "cell_type": "code",
      "source": [
        "model.coef_.shape"
      ],
      "metadata": {
        "colab": {
          "base_uri": "https://localhost:8080/"
        },
        "id": "b1u4tlk-0o7S",
        "outputId": "f695a42d-49e8-4ef6-a9f1-44453de6d7e9"
      },
      "execution_count": null,
      "outputs": [
        {
          "output_type": "execute_result",
          "data": {
            "text/plain": [
              "(1, 8)"
            ]
          },
          "metadata": {},
          "execution_count": 20
        }
      ]
    },
    {
      "cell_type": "code",
      "source": [
        "model.intercept_"
      ],
      "metadata": {
        "colab": {
          "base_uri": "https://localhost:8080/"
        },
        "id": "PkI1nDTX2PsE",
        "outputId": "762e59b5-8e0d-499e-b597-cec747822a0c"
      },
      "execution_count": null,
      "outputs": [
        {
          "output_type": "execute_result",
          "data": {
            "text/plain": [
              "array([-5.89182337])"
            ]
          },
          "metadata": {},
          "execution_count": 21
        }
      ]
    },
    {
      "cell_type": "code",
      "source": [
        "model.coef_"
      ],
      "metadata": {
        "colab": {
          "base_uri": "https://localhost:8080/"
        },
        "id": "WnBTBPV02SO9",
        "outputId": "b75ea745-a1d5-4d9a-c03e-4db18d6cea5a"
      },
      "execution_count": null,
      "outputs": [
        {
          "output_type": "execute_result",
          "data": {
            "text/plain": [
              "array([[ 1.17051909e-01,  2.83882398e-02, -1.68895484e-02,\n",
              "         7.55589576e-04, -6.42808920e-04,  5.97634539e-02,\n",
              "         6.77607988e-01,  7.24042917e-03]])"
            ]
          },
          "metadata": {},
          "execution_count": 22
        }
      ]
    },
    {
      "cell_type": "markdown",
      "source": [
        "**11. Произвольно задайте значения факторных признаков для двух новых наблюдений. Поместите их в переменную x_new. Например, np.array([[0,136,42,34,136,43,2,32],[0,137,40,35,168,43.1,2.288,33]]).**\n",
        "\n",
        "**12. По обученной модели дайте прогноз классов для новых наблюдений, воспользовавшись функцией predict().**\n"
      ],
      "metadata": {
        "id": "WCte2ctPq3mH"
      }
    },
    {
      "cell_type": "code",
      "source": [
        "x_new=np.array([[0,136,42,34,136,43,2,32],[0,137,40,35,168,43.1,2.288,33]])\n",
        "# это данные 2-х пациентов щас проверим заболеют или нет"
      ],
      "metadata": {
        "id": "6BgOPbAfq_o_"
      },
      "execution_count": null,
      "outputs": []
    },
    {
      "cell_type": "code",
      "source": [
        "model.predict(x_new)\n",
        "# подставляем наши данные в обученную модель и смотрим что\n",
        "# исходя из параметров пациенты скорей всего заболеют, т.е.\n",
        "# их можно отнести к группе риска"
      ],
      "metadata": {
        "colab": {
          "base_uri": "https://localhost:8080/"
        },
        "id": "8Ps8NB2n2y4H",
        "outputId": "b02b01c2-aa1b-47e5-cf9f-4b65a0a07088"
      },
      "execution_count": null,
      "outputs": [
        {
          "output_type": "execute_result",
          "data": {
            "text/plain": [
              "array([1., 1.])"
            ]
          },
          "metadata": {},
          "execution_count": 24
        }
      ]
    },
    {
      "cell_type": "markdown",
      "source": [
        "**13. По обученной модели дайте прогноз вероятности классов для новых наблюдений, воспользовавшись функцией predict_proba().**"
      ],
      "metadata": {
        "id": "pNOQ3aucrAP2"
      }
    },
    {
      "cell_type": "code",
      "source": [
        "model.predict_proba(x_new)\n",
        "# нулевой столбец - это нулевой класс\n",
        "# первый столбец - это первый класс\n",
        "\n",
        "# делаем вывод:\n",
        "# вероятность, что пациент не заболеет 20%,\n",
        "# а то, что заболеет 80%"
      ],
      "metadata": {
        "colab": {
          "base_uri": "https://localhost:8080/"
        },
        "id": "c1PzYyw4rEom",
        "outputId": "d2e51548-02e8-4de8-83b6-00ea1d16571e"
      },
      "execution_count": null,
      "outputs": [
        {
          "output_type": "execute_result",
          "data": {
            "text/plain": [
              "array([[0.20511568, 0.79488432],\n",
              "       [0.16723613, 0.83276387]])"
            ]
          },
          "metadata": {},
          "execution_count": 26
        }
      ]
    },
    {
      "cell_type": "markdown",
      "source": [
        "# **Раздел 2. Линейный метод опорных векторов**"
      ],
      "metadata": {
        "id": "X_1qWxZerFR0"
      }
    },
    {
      "cell_type": "markdown",
      "source": [
        "**14. Постройте модель линейного метода опорных векторов, воспользовавшись функцией SVC(kernel='linear') из модуля sklearn.svm. Результат запишите в переменную model.**\n",
        "\n",
        "**15. Проведите кросс-валидацию, воспользовавшись функцией cross_val_score(model, X, Y, cv=kfold) из модуля sklearn.model_selection. Результат запишите в переменную results.**  \n",
        "\n",
        "**16. Выведите на экран среднюю долю правильных ответов (accuracy) и стандартное отклонение полученных оценок, воспользовавшись функциями mean() и std() соответственно.**\n"
      ],
      "metadata": {
        "id": "8yBVFmv4rIhq"
      }
    },
    {
      "cell_type": "code",
      "source": [
        "model=SVC(kernel='linear')"
      ],
      "metadata": {
        "id": "sC-HpsGXrS20"
      },
      "execution_count": null,
      "outputs": []
    },
    {
      "cell_type": "code",
      "source": [
        "kfold=KFold(n_splits=10,random_state=7,shuffle=True)"
      ],
      "metadata": {
        "id": "thNXz1fmpRxF"
      },
      "execution_count": null,
      "outputs": []
    },
    {
      "cell_type": "code",
      "source": [
        "results=cross_val_score(model, X, Y, cv=kfold)"
      ],
      "metadata": {
        "id": "5uMbxPoA7fyL"
      },
      "execution_count": null,
      "outputs": []
    },
    {
      "cell_type": "code",
      "source": [
        "results.mean(),results.std()"
      ],
      "metadata": {
        "colab": {
          "base_uri": "https://localhost:8080/"
        },
        "id": "4QmyMwYo8FF3",
        "outputId": "6a83b1de-4710-4ddb-89c8-a4ec5de1cbea"
      },
      "execution_count": null,
      "outputs": [
        {
          "output_type": "execute_result",
          "data": {
            "text/plain": [
              "(0.7708133971291866, 0.03832392703883875)"
            ]
          },
          "metadata": {},
          "execution_count": 32
        }
      ]
    },
    {
      "cell_type": "markdown",
      "source": [
        "**17. Обучите модель на всех данных с помощью функции fit().**\n",
        "\n",
        "**18. Выведите на экран свободный член и значения коэффициентов регрессии при факторных признаках, которая разделяет классы, обратившись, соответственно, к атрибутам intercept_ и coef_. Запишите**"
      ],
      "metadata": {
        "id": "6_awRu6jrTXC"
      }
    },
    {
      "cell_type": "code",
      "source": [
        "model.fit(X,Y)"
      ],
      "metadata": {
        "colab": {
          "base_uri": "https://localhost:8080/"
        },
        "id": "yMGcK_cxrdi6",
        "outputId": "630c0741-f1a6-4c62-83a4-b88973678125"
      },
      "execution_count": null,
      "outputs": [
        {
          "output_type": "execute_result",
          "data": {
            "text/plain": [
              "SVC(kernel='linear')"
            ]
          },
          "metadata": {},
          "execution_count": 33
        }
      ]
    },
    {
      "cell_type": "code",
      "source": [
        "model.intercept_.shape"
      ],
      "metadata": {
        "colab": {
          "base_uri": "https://localhost:8080/"
        },
        "outputId": "3b1d6c58-7428-4c1a-cee7-4eda2df1f0ef",
        "id": "dh5id9KK8h6i"
      },
      "execution_count": null,
      "outputs": [
        {
          "output_type": "execute_result",
          "data": {
            "text/plain": [
              "(1,)"
            ]
          },
          "metadata": {},
          "execution_count": 34
        }
      ]
    },
    {
      "cell_type": "code",
      "source": [
        "model.coef_.shape"
      ],
      "metadata": {
        "colab": {
          "base_uri": "https://localhost:8080/"
        },
        "outputId": "074fff0c-5f03-4c29-fd9c-18544b3b1a26",
        "id": "jBf8twdH8h6j"
      },
      "execution_count": null,
      "outputs": [
        {
          "output_type": "execute_result",
          "data": {
            "text/plain": [
              "(1, 8)"
            ]
          },
          "metadata": {},
          "execution_count": 35
        }
      ]
    },
    {
      "cell_type": "code",
      "source": [
        "model.intercept_"
      ],
      "metadata": {
        "colab": {
          "base_uri": "https://localhost:8080/"
        },
        "outputId": "0aa24f27-6f1a-4b6e-f031-c12ca729ef37",
        "id": "EHjCnnTy8h6j"
      },
      "execution_count": null,
      "outputs": [
        {
          "output_type": "execute_result",
          "data": {
            "text/plain": [
              "array([-6.74057169])"
            ]
          },
          "metadata": {},
          "execution_count": 36
        }
      ]
    },
    {
      "cell_type": "code",
      "source": [
        "model.coef_"
      ],
      "metadata": {
        "colab": {
          "base_uri": "https://localhost:8080/"
        },
        "outputId": "7a22cec1-888c-4b8b-fe87-aee322a54cac",
        "id": "oxF5SL1x8h6j"
      },
      "execution_count": null,
      "outputs": [
        {
          "output_type": "execute_result",
          "data": {
            "text/plain": [
              "array([[ 9.14678567e-02,  3.00464508e-02, -1.09048360e-02,\n",
              "        -4.81644395e-03, -4.21237445e-04,  7.33942693e-02,\n",
              "         7.15044864e-01,  7.26113767e-03]])"
            ]
          },
          "metadata": {},
          "execution_count": 37
        }
      ]
    },
    {
      "cell_type": "markdown",
      "source": [
        "**19. По обученной модели дайте прогноз классов для новых наблюдений, заданных в п. 11, воспользовавшись функцией predict().**\n"
      ],
      "metadata": {
        "id": "KJM1C68Ird8Y"
      }
    },
    {
      "cell_type": "code",
      "source": [
        "x_new=np.array([[0,136,42,34,136,43,2,32],[0,137,40,35,168,43.1,2.288,33]])\n",
        "model.predict(x_new)"
      ],
      "metadata": {
        "colab": {
          "base_uri": "https://localhost:8080/"
        },
        "id": "PHhKvygtrjKC",
        "outputId": "b324a8d0-a0b4-4058-caf2-1b97ade6fe44"
      },
      "execution_count": null,
      "outputs": [
        {
          "output_type": "execute_result",
          "data": {
            "text/plain": [
              "array([1., 1.])"
            ]
          },
          "metadata": {},
          "execution_count": 39
        }
      ]
    },
    {
      "cell_type": "markdown",
      "source": [
        "**20. В методе опорных векторов смените ядро с 'linear' на 'rbf'. Метод станет нелинейным. Обучите новую модель и дайте прогноз классов для новых наблюдений, заданных в п. 11.**\n"
      ],
      "metadata": {
        "id": "k6e6mqHDrjjb"
      }
    },
    {
      "cell_type": "code",
      "source": [
        "model=SVC(kernel='rbf')"
      ],
      "metadata": {
        "id": "W7Phn_mi9TeQ"
      },
      "execution_count": null,
      "outputs": []
    },
    {
      "cell_type": "code",
      "source": [
        "results=cross_val_score(model, X, Y, cv=kfold)"
      ],
      "metadata": {
        "id": "NBTxczhB9TeR"
      },
      "execution_count": null,
      "outputs": []
    },
    {
      "cell_type": "code",
      "source": [
        "results.mean(),results.std()"
      ],
      "metadata": {
        "colab": {
          "base_uri": "https://localhost:8080/"
        },
        "outputId": "2493872f-cc93-4aec-cde2-ede6c944e476",
        "id": "_xVzLIXm9TeR"
      },
      "execution_count": null,
      "outputs": [
        {
          "output_type": "execute_result",
          "data": {
            "text/plain": [
              "(0.760457963089542, 0.03471186731025681)"
            ]
          },
          "metadata": {},
          "execution_count": 42
        }
      ]
    },
    {
      "cell_type": "code",
      "source": [
        "model.fit(X,Y)"
      ],
      "metadata": {
        "colab": {
          "base_uri": "https://localhost:8080/"
        },
        "id": "FaQ3AmFL9xYO",
        "outputId": "c0f4e21e-11aa-4a0b-fccc-2280a21a5bd5"
      },
      "execution_count": null,
      "outputs": [
        {
          "output_type": "execute_result",
          "data": {
            "text/plain": [
              "SVC()"
            ]
          },
          "metadata": {},
          "execution_count": 43
        }
      ]
    },
    {
      "cell_type": "code",
      "source": [
        "model.predict(x_new)"
      ],
      "metadata": {
        "colab": {
          "base_uri": "https://localhost:8080/"
        },
        "id": "t5pWF7vt9nli",
        "outputId": "b2460c9b-9b22-408b-ec71-03c0f5d9fbd8"
      },
      "execution_count": null,
      "outputs": [
        {
          "output_type": "execute_result",
          "data": {
            "text/plain": [
              "array([0., 0.])"
            ]
          },
          "metadata": {},
          "execution_count": 44
        }
      ]
    },
    {
      "cell_type": "markdown",
      "source": [
        "# **Раздел 3. Линейный дискриминантный анализ**"
      ],
      "metadata": {
        "id": "iLDYZA_Qro00"
      }
    },
    {
      "cell_type": "markdown",
      "source": [
        "![7.jpg](data:image/jpeg;base64,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)"
      ],
      "metadata": {
        "id": "YSntTkrssGcg"
      }
    },
    {
      "cell_type": "markdown",
      "source": [
        "суть дискриминантного метода - снижение размерности"
      ],
      "metadata": {
        "id": "TZsBf0qYs7nd"
      }
    },
    {
      "cell_type": "markdown",
      "source": [
        "**21. Проверьте многомерную нормальность закона распределения дискриминантных переменных с помощью функции multivariate_normality(X, alpha=.05) из модуля pingouin, который удобно сокращенно называть pg. В функции реализован Henze-Zirkler Multivariate Normality Test. Прокомментируйте результат.**"
      ],
      "metadata": {
        "id": "KUxfWq6UrsZ_"
      }
    },
    {
      "cell_type": "code",
      "source": [
        "pg.multivariate_normality(X, alpha=.05) # распределено ненормально, фигово"
      ],
      "metadata": {
        "colab": {
          "base_uri": "https://localhost:8080/"
        },
        "id": "H5TbNQjQrv16",
        "outputId": "e76ae5f5-5f30-4a1d-fd73-0e3af4120b80"
      },
      "execution_count": null,
      "outputs": [
        {
          "output_type": "execute_result",
          "data": {
            "text/plain": [
              "HZResults(hz=4.180486027411805, pval=0.0, normal=False)"
            ]
          },
          "metadata": {},
          "execution_count": 51
        }
      ]
    },
    {
      "cell_type": "markdown",
      "source": [
        "**22. Проверьте нормальность распределения каждого из признаков из набора данных, воспользовавшись функцией normality(dataframe) из модуля pingouin. В функции реализован тест Шапиро-Уилка. Прокомментируйте результат. Можно ли добиться многомерной нормальности распределения дискриминантных переменных?**\n"
      ],
      "metadata": {
        "id": "K3ZEH7TlrwbI"
      }
    },
    {
      "cell_type": "code",
      "source": [
        "pg.normality(data) # все признаки ненормальные, фигово"
      ],
      "metadata": {
        "colab": {
          "base_uri": "https://localhost:8080/",
          "height": 331
        },
        "id": "hsUGKCIUr0NL",
        "outputId": "da22ccae-4833-4bcf-a5a2-ac9b7ed08886"
      },
      "execution_count": null,
      "outputs": [
        {
          "output_type": "execute_result",
          "data": {
            "text/plain": [
              "              W          pval  normal\n",
              "preg   0.904278  1.608089e-21   False\n",
              "plas   0.970104  1.986761e-11   False\n",
              "pres   0.818921  1.584007e-28   False\n",
              "skin   0.904627  1.751576e-21   False\n",
              "test   0.722021  7.915248e-34   False\n",
              "mass   0.949989  1.840562e-15   False\n",
              "pedi   0.836519  2.477697e-27   False\n",
              "age    0.874766  2.401947e-24   False\n",
              "class  0.602510  1.292262e-38   False"
            ],
            "text/html": [
              "\n",
              "  <div id=\"df-a7b9e58f-d9f6-4ede-8658-730349764ce3\">\n",
              "    <div class=\"colab-df-container\">\n",
              "      <div>\n",
              "<style scoped>\n",
              "    .dataframe tbody tr th:only-of-type {\n",
              "        vertical-align: middle;\n",
              "    }\n",
              "\n",
              "    .dataframe tbody tr th {\n",
              "        vertical-align: top;\n",
              "    }\n",
              "\n",
              "    .dataframe thead th {\n",
              "        text-align: right;\n",
              "    }\n",
              "</style>\n",
              "<table border=\"1\" class=\"dataframe\">\n",
              "  <thead>\n",
              "    <tr style=\"text-align: right;\">\n",
              "      <th></th>\n",
              "      <th>W</th>\n",
              "      <th>pval</th>\n",
              "      <th>normal</th>\n",
              "    </tr>\n",
              "  </thead>\n",
              "  <tbody>\n",
              "    <tr>\n",
              "      <th>preg</th>\n",
              "      <td>0.904278</td>\n",
              "      <td>1.608089e-21</td>\n",
              "      <td>False</td>\n",
              "    </tr>\n",
              "    <tr>\n",
              "      <th>plas</th>\n",
              "      <td>0.970104</td>\n",
              "      <td>1.986761e-11</td>\n",
              "      <td>False</td>\n",
              "    </tr>\n",
              "    <tr>\n",
              "      <th>pres</th>\n",
              "      <td>0.818921</td>\n",
              "      <td>1.584007e-28</td>\n",
              "      <td>False</td>\n",
              "    </tr>\n",
              "    <tr>\n",
              "      <th>skin</th>\n",
              "      <td>0.904627</td>\n",
              "      <td>1.751576e-21</td>\n",
              "      <td>False</td>\n",
              "    </tr>\n",
              "    <tr>\n",
              "      <th>test</th>\n",
              "      <td>0.722021</td>\n",
              "      <td>7.915248e-34</td>\n",
              "      <td>False</td>\n",
              "    </tr>\n",
              "    <tr>\n",
              "      <th>mass</th>\n",
              "      <td>0.949989</td>\n",
              "      <td>1.840562e-15</td>\n",
              "      <td>False</td>\n",
              "    </tr>\n",
              "    <tr>\n",
              "      <th>pedi</th>\n",
              "      <td>0.836519</td>\n",
              "      <td>2.477697e-27</td>\n",
              "      <td>False</td>\n",
              "    </tr>\n",
              "    <tr>\n",
              "      <th>age</th>\n",
              "      <td>0.874766</td>\n",
              "      <td>2.401947e-24</td>\n",
              "      <td>False</td>\n",
              "    </tr>\n",
              "    <tr>\n",
              "      <th>class</th>\n",
              "      <td>0.602510</td>\n",
              "      <td>1.292262e-38</td>\n",
              "      <td>False</td>\n",
              "    </tr>\n",
              "  </tbody>\n",
              "</table>\n",
              "</div>\n",
              "      <button class=\"colab-df-convert\" onclick=\"convertToInteractive('df-a7b9e58f-d9f6-4ede-8658-730349764ce3')\"\n",
              "              title=\"Convert this dataframe to an interactive table.\"\n",
              "              style=\"display:none;\">\n",
              "        \n",
              "  <svg xmlns=\"http://www.w3.org/2000/svg\" height=\"24px\"viewBox=\"0 0 24 24\"\n",
              "       width=\"24px\">\n",
              "    <path d=\"M0 0h24v24H0V0z\" fill=\"none\"/>\n",
              "    <path d=\"M18.56 5.44l.94 2.06.94-2.06 2.06-.94-2.06-.94-.94-2.06-.94 2.06-2.06.94zm-11 1L8.5 8.5l.94-2.06 2.06-.94-2.06-.94L8.5 2.5l-.94 2.06-2.06.94zm10 10l.94 2.06.94-2.06 2.06-.94-2.06-.94-.94-2.06-.94 2.06-2.06.94z\"/><path d=\"M17.41 7.96l-1.37-1.37c-.4-.4-.92-.59-1.43-.59-.52 0-1.04.2-1.43.59L10.3 9.45l-7.72 7.72c-.78.78-.78 2.05 0 2.83L4 21.41c.39.39.9.59 1.41.59.51 0 1.02-.2 1.41-.59l7.78-7.78 2.81-2.81c.8-.78.8-2.07 0-2.86zM5.41 20L4 18.59l7.72-7.72 1.47 1.35L5.41 20z\"/>\n",
              "  </svg>\n",
              "      </button>\n",
              "      \n",
              "  <style>\n",
              "    .colab-df-container {\n",
              "      display:flex;\n",
              "      flex-wrap:wrap;\n",
              "      gap: 12px;\n",
              "    }\n",
              "\n",
              "    .colab-df-convert {\n",
              "      background-color: #E8F0FE;\n",
              "      border: none;\n",
              "      border-radius: 50%;\n",
              "      cursor: pointer;\n",
              "      display: none;\n",
              "      fill: #1967D2;\n",
              "      height: 32px;\n",
              "      padding: 0 0 0 0;\n",
              "      width: 32px;\n",
              "    }\n",
              "\n",
              "    .colab-df-convert:hover {\n",
              "      background-color: #E2EBFA;\n",
              "      box-shadow: 0px 1px 2px rgba(60, 64, 67, 0.3), 0px 1px 3px 1px rgba(60, 64, 67, 0.15);\n",
              "      fill: #174EA6;\n",
              "    }\n",
              "\n",
              "    [theme=dark] .colab-df-convert {\n",
              "      background-color: #3B4455;\n",
              "      fill: #D2E3FC;\n",
              "    }\n",
              "\n",
              "    [theme=dark] .colab-df-convert:hover {\n",
              "      background-color: #434B5C;\n",
              "      box-shadow: 0px 1px 3px 1px rgba(0, 0, 0, 0.15);\n",
              "      filter: drop-shadow(0px 1px 2px rgba(0, 0, 0, 0.3));\n",
              "      fill: #FFFFFF;\n",
              "    }\n",
              "  </style>\n",
              "\n",
              "      <script>\n",
              "        const buttonEl =\n",
              "          document.querySelector('#df-a7b9e58f-d9f6-4ede-8658-730349764ce3 button.colab-df-convert');\n",
              "        buttonEl.style.display =\n",
              "          google.colab.kernel.accessAllowed ? 'block' : 'none';\n",
              "\n",
              "        async function convertToInteractive(key) {\n",
              "          const element = document.querySelector('#df-a7b9e58f-d9f6-4ede-8658-730349764ce3');\n",
              "          const dataTable =\n",
              "            await google.colab.kernel.invokeFunction('convertToInteractive',\n",
              "                                                     [key], {});\n",
              "          if (!dataTable) return;\n",
              "\n",
              "          const docLinkHtml = 'Like what you see? Visit the ' +\n",
              "            '<a target=\"_blank\" href=https://colab.research.google.com/notebooks/data_table.ipynb>data table notebook</a>'\n",
              "            + ' to learn more about interactive tables.';\n",
              "          element.innerHTML = '';\n",
              "          dataTable['output_type'] = 'display_data';\n",
              "          await google.colab.output.renderOutput(dataTable, element);\n",
              "          const docLink = document.createElement('div');\n",
              "          docLink.innerHTML = docLinkHtml;\n",
              "          element.appendChild(docLink);\n",
              "        }\n",
              "      </script>\n",
              "    </div>\n",
              "  </div>\n",
              "  "
            ]
          },
          "metadata": {},
          "execution_count": 53
        }
      ]
    },
    {
      "cell_type": "markdown",
      "source": [
        "**23. Проверьте приблизительное равенство между ковариационными матрицами для каждого класса на основе критерия M Бокса, воспользовавшись функцией box_m(dataframe, dvs=['preg', 'plas', 'pres', 'skin', 'test', 'mass', 'pedi', 'age'], group='class') из модуля pingouin. Прокомментируйте результат.**"
      ],
      "metadata": {
        "id": "fz2c3Pc9r0qg"
      }
    },
    {
      "cell_type": "code",
      "source": [
        "pg.box_m(data, dvs=['preg', 'plas', 'pres', 'skin', 'test', 'mass', 'pedi', 'age'], group='class')\n",
        "# опять фигово"
      ],
      "metadata": {
        "colab": {
          "base_uri": "https://localhost:8080/",
          "height": 81
        },
        "id": "Y6fz4SUjr6Vw",
        "outputId": "0c0a3af7-1a48-485a-d06a-0b6e862e7c29"
      },
      "execution_count": null,
      "outputs": [
        {
          "output_type": "execute_result",
          "data": {
            "text/plain": [
              "           Chi2    df          pval  equal_cov\n",
              "box  226.706491  36.0  1.642145e-29      False"
            ],
            "text/html": [
              "\n",
              "  <div id=\"df-3deaf11d-9379-40aa-90fa-bcab46e81e0c\">\n",
              "    <div class=\"colab-df-container\">\n",
              "      <div>\n",
              "<style scoped>\n",
              "    .dataframe tbody tr th:only-of-type {\n",
              "        vertical-align: middle;\n",
              "    }\n",
              "\n",
              "    .dataframe tbody tr th {\n",
              "        vertical-align: top;\n",
              "    }\n",
              "\n",
              "    .dataframe thead th {\n",
              "        text-align: right;\n",
              "    }\n",
              "</style>\n",
              "<table border=\"1\" class=\"dataframe\">\n",
              "  <thead>\n",
              "    <tr style=\"text-align: right;\">\n",
              "      <th></th>\n",
              "      <th>Chi2</th>\n",
              "      <th>df</th>\n",
              "      <th>pval</th>\n",
              "      <th>equal_cov</th>\n",
              "    </tr>\n",
              "  </thead>\n",
              "  <tbody>\n",
              "    <tr>\n",
              "      <th>box</th>\n",
              "      <td>226.706491</td>\n",
              "      <td>36.0</td>\n",
              "      <td>1.642145e-29</td>\n",
              "      <td>False</td>\n",
              "    </tr>\n",
              "  </tbody>\n",
              "</table>\n",
              "</div>\n",
              "      <button class=\"colab-df-convert\" onclick=\"convertToInteractive('df-3deaf11d-9379-40aa-90fa-bcab46e81e0c')\"\n",
              "              title=\"Convert this dataframe to an interactive table.\"\n",
              "              style=\"display:none;\">\n",
              "        \n",
              "  <svg xmlns=\"http://www.w3.org/2000/svg\" height=\"24px\"viewBox=\"0 0 24 24\"\n",
              "       width=\"24px\">\n",
              "    <path d=\"M0 0h24v24H0V0z\" fill=\"none\"/>\n",
              "    <path d=\"M18.56 5.44l.94 2.06.94-2.06 2.06-.94-2.06-.94-.94-2.06-.94 2.06-2.06.94zm-11 1L8.5 8.5l.94-2.06 2.06-.94-2.06-.94L8.5 2.5l-.94 2.06-2.06.94zm10 10l.94 2.06.94-2.06 2.06-.94-2.06-.94-.94-2.06-.94 2.06-2.06.94z\"/><path d=\"M17.41 7.96l-1.37-1.37c-.4-.4-.92-.59-1.43-.59-.52 0-1.04.2-1.43.59L10.3 9.45l-7.72 7.72c-.78.78-.78 2.05 0 2.83L4 21.41c.39.39.9.59 1.41.59.51 0 1.02-.2 1.41-.59l7.78-7.78 2.81-2.81c.8-.78.8-2.07 0-2.86zM5.41 20L4 18.59l7.72-7.72 1.47 1.35L5.41 20z\"/>\n",
              "  </svg>\n",
              "      </button>\n",
              "      \n",
              "  <style>\n",
              "    .colab-df-container {\n",
              "      display:flex;\n",
              "      flex-wrap:wrap;\n",
              "      gap: 12px;\n",
              "    }\n",
              "\n",
              "    .colab-df-convert {\n",
              "      background-color: #E8F0FE;\n",
              "      border: none;\n",
              "      border-radius: 50%;\n",
              "      cursor: pointer;\n",
              "      display: none;\n",
              "      fill: #1967D2;\n",
              "      height: 32px;\n",
              "      padding: 0 0 0 0;\n",
              "      width: 32px;\n",
              "    }\n",
              "\n",
              "    .colab-df-convert:hover {\n",
              "      background-color: #E2EBFA;\n",
              "      box-shadow: 0px 1px 2px rgba(60, 64, 67, 0.3), 0px 1px 3px 1px rgba(60, 64, 67, 0.15);\n",
              "      fill: #174EA6;\n",
              "    }\n",
              "\n",
              "    [theme=dark] .colab-df-convert {\n",
              "      background-color: #3B4455;\n",
              "      fill: #D2E3FC;\n",
              "    }\n",
              "\n",
              "    [theme=dark] .colab-df-convert:hover {\n",
              "      background-color: #434B5C;\n",
              "      box-shadow: 0px 1px 3px 1px rgba(0, 0, 0, 0.15);\n",
              "      filter: drop-shadow(0px 1px 2px rgba(0, 0, 0, 0.3));\n",
              "      fill: #FFFFFF;\n",
              "    }\n",
              "  </style>\n",
              "\n",
              "      <script>\n",
              "        const buttonEl =\n",
              "          document.querySelector('#df-3deaf11d-9379-40aa-90fa-bcab46e81e0c button.colab-df-convert');\n",
              "        buttonEl.style.display =\n",
              "          google.colab.kernel.accessAllowed ? 'block' : 'none';\n",
              "\n",
              "        async function convertToInteractive(key) {\n",
              "          const element = document.querySelector('#df-3deaf11d-9379-40aa-90fa-bcab46e81e0c');\n",
              "          const dataTable =\n",
              "            await google.colab.kernel.invokeFunction('convertToInteractive',\n",
              "                                                     [key], {});\n",
              "          if (!dataTable) return;\n",
              "\n",
              "          const docLinkHtml = 'Like what you see? Visit the ' +\n",
              "            '<a target=\"_blank\" href=https://colab.research.google.com/notebooks/data_table.ipynb>data table notebook</a>'\n",
              "            + ' to learn more about interactive tables.';\n",
              "          element.innerHTML = '';\n",
              "          dataTable['output_type'] = 'display_data';\n",
              "          await google.colab.output.renderOutput(dataTable, element);\n",
              "          const docLink = document.createElement('div');\n",
              "          docLink.innerHTML = docLinkHtml;\n",
              "          element.appendChild(docLink);\n",
              "        }\n",
              "      </script>\n",
              "    </div>\n",
              "  </div>\n",
              "  "
            ]
          },
          "metadata": {},
          "execution_count": 54
        }
      ]
    },
    {
      "cell_type": "markdown",
      "source": [
        "**24. Проверьте линейную независимость дискриминантных переменных на основе коэффициента корреляции Пирсона, воспользовавшись функцией pairwise_corr(dataframe, columns=['preg', 'plas', 'pres', 'skin', 'test', 'mass', 'pedi', 'age'], method='pearson') из модуля pingouin. Прокомментируйте результат.**"
      ],
      "metadata": {
        "id": "6LRpZ-_Br6w8"
      }
    },
    {
      "cell_type": "code",
      "source": [
        "# p-unc - это p-value"
      ],
      "metadata": {
        "id": "J4wgWXSuBiih"
      },
      "execution_count": null,
      "outputs": []
    },
    {
      "cell_type": "code",
      "source": [
        "pg.pairwise_corr(data, columns=['preg', 'plas', 'pres', 'skin', 'test', 'mass', 'pedi', 'age'], method='pearson')"
      ],
      "metadata": {
        "colab": {
          "base_uri": "https://localhost:8080/",
          "height": 926
        },
        "id": "nMoGn9fPr_6g",
        "outputId": "0cb6138f-76ce-4d62-c032-c49a327ec7dc"
      },
      "execution_count": null,
      "outputs": [
        {
          "output_type": "execute_result",
          "data": {
            "text/plain": [
              "       X     Y   method alternative    n         r           CI95%  \\\n",
              "0   preg  plas  pearson   two-sided  768  0.129459     [0.06, 0.2]   \n",
              "1   preg  pres  pearson   two-sided  768  0.141282    [0.07, 0.21]   \n",
              "2   preg  skin  pearson   two-sided  768 -0.081672  [-0.15, -0.01]   \n",
              "3   preg  test  pearson   two-sided  768 -0.073535   [-0.14, -0.0]   \n",
              "4   preg  mass  pearson   two-sided  768  0.017683   [-0.05, 0.09]   \n",
              "5   preg  pedi  pearson   two-sided  768 -0.033523    [-0.1, 0.04]   \n",
              "6   preg   age  pearson   two-sided  768  0.544341    [0.49, 0.59]   \n",
              "7   plas  pres  pearson   two-sided  768  0.152590    [0.08, 0.22]   \n",
              "8   plas  skin  pearson   two-sided  768  0.057328   [-0.01, 0.13]   \n",
              "9   plas  test  pearson   two-sided  768  0.331357    [0.27, 0.39]   \n",
              "10  plas  mass  pearson   two-sided  768  0.221071    [0.15, 0.29]   \n",
              "11  plas  pedi  pearson   two-sided  768  0.137337    [0.07, 0.21]   \n",
              "12  plas   age  pearson   two-sided  768  0.263514     [0.2, 0.33]   \n",
              "13  pres  skin  pearson   two-sided  768  0.207371    [0.14, 0.27]   \n",
              "14  pres  test  pearson   two-sided  768  0.088933    [0.02, 0.16]   \n",
              "15  pres  mass  pearson   two-sided  768  0.281805    [0.22, 0.35]   \n",
              "16  pres  pedi  pearson   two-sided  768  0.041265   [-0.03, 0.11]   \n",
              "17  pres   age  pearson   two-sided  768  0.239528    [0.17, 0.31]   \n",
              "18  skin  test  pearson   two-sided  768  0.436783    [0.38, 0.49]   \n",
              "19  skin  mass  pearson   two-sided  768  0.392573    [0.33, 0.45]   \n",
              "20  skin  pedi  pearson   two-sided  768  0.183928    [0.11, 0.25]   \n",
              "21  skin   age  pearson   two-sided  768 -0.113970  [-0.18, -0.04]   \n",
              "22  test  mass  pearson   two-sided  768  0.197859    [0.13, 0.26]   \n",
              "23  test  pedi  pearson   two-sided  768  0.185071    [0.12, 0.25]   \n",
              "24  test   age  pearson   two-sided  768 -0.042163   [-0.11, 0.03]   \n",
              "25  mass  pedi  pearson   two-sided  768  0.140647    [0.07, 0.21]   \n",
              "26  mass   age  pearson   two-sided  768  0.036242   [-0.03, 0.11]   \n",
              "27  pedi   age  pearson   two-sided  768  0.033561    [-0.04, 0.1]   \n",
              "\n",
              "           p-unc       BF10     power  \n",
              "0   3.219491e-04     28.791  0.949814  \n",
              "1   8.541846e-05    100.059  0.975945  \n",
              "2   2.360795e-02      0.583  0.619944  \n",
              "3   4.162094e-02      0.359  0.531407  \n",
              "4   6.246376e-01      0.051  0.077839  \n",
              "5   3.535346e-01      0.069  0.152973  \n",
              "6   1.862813e-60   9.03e+56  1.000000  \n",
              "7   2.169507e-05    366.214  0.989169  \n",
              "8   1.124141e-01      0.159  0.355230  \n",
              "9   3.882624e-21  8.929e+17  1.000000  \n",
              "10  5.891413e-10  9.293e+06  0.999990  \n",
              "11  1.345878e-04     65.209  0.968913  \n",
              "12  1.150112e-13  3.936e+10  1.000000  \n",
              "13  6.606687e-09   8.86e+05  0.999944  \n",
              "14  1.368350e-02      0.939  0.694191  \n",
              "15  1.737888e-15  2.415e+12  1.000000  \n",
              "16  2.533744e-01      0.087  0.207803  \n",
              "17  1.752051e-11  2.869e+08  0.999999  \n",
              "18  4.043577e-37  5.944e+33  1.000000  \n",
              "19  1.054876e-29  2.645e+26  1.000000  \n",
              "20  2.856179e-07  2.316e+04  0.999286  \n",
              "21  1.558278e-03      6.673  0.886463  \n",
              "22  3.219695e-08  1.908e+05  0.999834  \n",
              "23  2.402264e-07  2.737e+04  0.999363  \n",
              "24  2.431822e-01      0.089  0.214909  \n",
              "25  9.197970e-05     93.315  0.974912  \n",
              "26  3.158330e-01      0.075  0.170892  \n",
              "27  3.529797e-01       0.07  0.153217  "
            ],
            "text/html": [
              "\n",
              "  <div id=\"df-432ae88f-c403-42e3-bc79-7708129e4a1c\">\n",
              "    <div class=\"colab-df-container\">\n",
              "      <div>\n",
              "<style scoped>\n",
              "    .dataframe tbody tr th:only-of-type {\n",
              "        vertical-align: middle;\n",
              "    }\n",
              "\n",
              "    .dataframe tbody tr th {\n",
              "        vertical-align: top;\n",
              "    }\n",
              "\n",
              "    .dataframe thead th {\n",
              "        text-align: right;\n",
              "    }\n",
              "</style>\n",
              "<table border=\"1\" class=\"dataframe\">\n",
              "  <thead>\n",
              "    <tr style=\"text-align: right;\">\n",
              "      <th></th>\n",
              "      <th>X</th>\n",
              "      <th>Y</th>\n",
              "      <th>method</th>\n",
              "      <th>alternative</th>\n",
              "      <th>n</th>\n",
              "      <th>r</th>\n",
              "      <th>CI95%</th>\n",
              "      <th>p-unc</th>\n",
              "      <th>BF10</th>\n",
              "      <th>power</th>\n",
              "    </tr>\n",
              "  </thead>\n",
              "  <tbody>\n",
              "    <tr>\n",
              "      <th>0</th>\n",
              "      <td>preg</td>\n",
              "      <td>plas</td>\n",
              "      <td>pearson</td>\n",
              "      <td>two-sided</td>\n",
              "      <td>768</td>\n",
              "      <td>0.129459</td>\n",
              "      <td>[0.06, 0.2]</td>\n",
              "      <td>3.219491e-04</td>\n",
              "      <td>28.791</td>\n",
              "      <td>0.949814</td>\n",
              "    </tr>\n",
              "    <tr>\n",
              "      <th>1</th>\n",
              "      <td>preg</td>\n",
              "      <td>pres</td>\n",
              "      <td>pearson</td>\n",
              "      <td>two-sided</td>\n",
              "      <td>768</td>\n",
              "      <td>0.141282</td>\n",
              "      <td>[0.07, 0.21]</td>\n",
              "      <td>8.541846e-05</td>\n",
              "      <td>100.059</td>\n",
              "      <td>0.975945</td>\n",
              "    </tr>\n",
              "    <tr>\n",
              "      <th>2</th>\n",
              "      <td>preg</td>\n",
              "      <td>skin</td>\n",
              "      <td>pearson</td>\n",
              "      <td>two-sided</td>\n",
              "      <td>768</td>\n",
              "      <td>-0.081672</td>\n",
              "      <td>[-0.15, -0.01]</td>\n",
              "      <td>2.360795e-02</td>\n",
              "      <td>0.583</td>\n",
              "      <td>0.619944</td>\n",
              "    </tr>\n",
              "    <tr>\n",
              "      <th>3</th>\n",
              "      <td>preg</td>\n",
              "      <td>test</td>\n",
              "      <td>pearson</td>\n",
              "      <td>two-sided</td>\n",
              "      <td>768</td>\n",
              "      <td>-0.073535</td>\n",
              "      <td>[-0.14, -0.0]</td>\n",
              "      <td>4.162094e-02</td>\n",
              "      <td>0.359</td>\n",
              "      <td>0.531407</td>\n",
              "    </tr>\n",
              "    <tr>\n",
              "      <th>4</th>\n",
              "      <td>preg</td>\n",
              "      <td>mass</td>\n",
              "      <td>pearson</td>\n",
              "      <td>two-sided</td>\n",
              "      <td>768</td>\n",
              "      <td>0.017683</td>\n",
              "      <td>[-0.05, 0.09]</td>\n",
              "      <td>6.246376e-01</td>\n",
              "      <td>0.051</td>\n",
              "      <td>0.077839</td>\n",
              "    </tr>\n",
              "    <tr>\n",
              "      <th>5</th>\n",
              "      <td>preg</td>\n",
              "      <td>pedi</td>\n",
              "      <td>pearson</td>\n",
              "      <td>two-sided</td>\n",
              "      <td>768</td>\n",
              "      <td>-0.033523</td>\n",
              "      <td>[-0.1, 0.04]</td>\n",
              "      <td>3.535346e-01</td>\n",
              "      <td>0.069</td>\n",
              "      <td>0.152973</td>\n",
              "    </tr>\n",
              "    <tr>\n",
              "      <th>6</th>\n",
              "      <td>preg</td>\n",
              "      <td>age</td>\n",
              "      <td>pearson</td>\n",
              "      <td>two-sided</td>\n",
              "      <td>768</td>\n",
              "      <td>0.544341</td>\n",
              "      <td>[0.49, 0.59]</td>\n",
              "      <td>1.862813e-60</td>\n",
              "      <td>9.03e+56</td>\n",
              "      <td>1.000000</td>\n",
              "    </tr>\n",
              "    <tr>\n",
              "      <th>7</th>\n",
              "      <td>plas</td>\n",
              "      <td>pres</td>\n",
              "      <td>pearson</td>\n",
              "      <td>two-sided</td>\n",
              "      <td>768</td>\n",
              "      <td>0.152590</td>\n",
              "      <td>[0.08, 0.22]</td>\n",
              "      <td>2.169507e-05</td>\n",
              "      <td>366.214</td>\n",
              "      <td>0.989169</td>\n",
              "    </tr>\n",
              "    <tr>\n",
              "      <th>8</th>\n",
              "      <td>plas</td>\n",
              "      <td>skin</td>\n",
              "      <td>pearson</td>\n",
              "      <td>two-sided</td>\n",
              "      <td>768</td>\n",
              "      <td>0.057328</td>\n",
              "      <td>[-0.01, 0.13]</td>\n",
              "      <td>1.124141e-01</td>\n",
              "      <td>0.159</td>\n",
              "      <td>0.355230</td>\n",
              "    </tr>\n",
              "    <tr>\n",
              "      <th>9</th>\n",
              "      <td>plas</td>\n",
              "      <td>test</td>\n",
              "      <td>pearson</td>\n",
              "      <td>two-sided</td>\n",
              "      <td>768</td>\n",
              "      <td>0.331357</td>\n",
              "      <td>[0.27, 0.39]</td>\n",
              "      <td>3.882624e-21</td>\n",
              "      <td>8.929e+17</td>\n",
              "      <td>1.000000</td>\n",
              "    </tr>\n",
              "    <tr>\n",
              "      <th>10</th>\n",
              "      <td>plas</td>\n",
              "      <td>mass</td>\n",
              "      <td>pearson</td>\n",
              "      <td>two-sided</td>\n",
              "      <td>768</td>\n",
              "      <td>0.221071</td>\n",
              "      <td>[0.15, 0.29]</td>\n",
              "      <td>5.891413e-10</td>\n",
              "      <td>9.293e+06</td>\n",
              "      <td>0.999990</td>\n",
              "    </tr>\n",
              "    <tr>\n",
              "      <th>11</th>\n",
              "      <td>plas</td>\n",
              "      <td>pedi</td>\n",
              "      <td>pearson</td>\n",
              "      <td>two-sided</td>\n",
              "      <td>768</td>\n",
              "      <td>0.137337</td>\n",
              "      <td>[0.07, 0.21]</td>\n",
              "      <td>1.345878e-04</td>\n",
              "      <td>65.209</td>\n",
              "      <td>0.968913</td>\n",
              "    </tr>\n",
              "    <tr>\n",
              "      <th>12</th>\n",
              "      <td>plas</td>\n",
              "      <td>age</td>\n",
              "      <td>pearson</td>\n",
              "      <td>two-sided</td>\n",
              "      <td>768</td>\n",
              "      <td>0.263514</td>\n",
              "      <td>[0.2, 0.33]</td>\n",
              "      <td>1.150112e-13</td>\n",
              "      <td>3.936e+10</td>\n",
              "      <td>1.000000</td>\n",
              "    </tr>\n",
              "    <tr>\n",
              "      <th>13</th>\n",
              "      <td>pres</td>\n",
              "      <td>skin</td>\n",
              "      <td>pearson</td>\n",
              "      <td>two-sided</td>\n",
              "      <td>768</td>\n",
              "      <td>0.207371</td>\n",
              "      <td>[0.14, 0.27]</td>\n",
              "      <td>6.606687e-09</td>\n",
              "      <td>8.86e+05</td>\n",
              "      <td>0.999944</td>\n",
              "    </tr>\n",
              "    <tr>\n",
              "      <th>14</th>\n",
              "      <td>pres</td>\n",
              "      <td>test</td>\n",
              "      <td>pearson</td>\n",
              "      <td>two-sided</td>\n",
              "      <td>768</td>\n",
              "      <td>0.088933</td>\n",
              "      <td>[0.02, 0.16]</td>\n",
              "      <td>1.368350e-02</td>\n",
              "      <td>0.939</td>\n",
              "      <td>0.694191</td>\n",
              "    </tr>\n",
              "    <tr>\n",
              "      <th>15</th>\n",
              "      <td>pres</td>\n",
              "      <td>mass</td>\n",
              "      <td>pearson</td>\n",
              "      <td>two-sided</td>\n",
              "      <td>768</td>\n",
              "      <td>0.281805</td>\n",
              "      <td>[0.22, 0.35]</td>\n",
              "      <td>1.737888e-15</td>\n",
              "      <td>2.415e+12</td>\n",
              "      <td>1.000000</td>\n",
              "    </tr>\n",
              "    <tr>\n",
              "      <th>16</th>\n",
              "      <td>pres</td>\n",
              "      <td>pedi</td>\n",
              "      <td>pearson</td>\n",
              "      <td>two-sided</td>\n",
              "      <td>768</td>\n",
              "      <td>0.041265</td>\n",
              "      <td>[-0.03, 0.11]</td>\n",
              "      <td>2.533744e-01</td>\n",
              "      <td>0.087</td>\n",
              "      <td>0.207803</td>\n",
              "    </tr>\n",
              "    <tr>\n",
              "      <th>17</th>\n",
              "      <td>pres</td>\n",
              "      <td>age</td>\n",
              "      <td>pearson</td>\n",
              "      <td>two-sided</td>\n",
              "      <td>768</td>\n",
              "      <td>0.239528</td>\n",
              "      <td>[0.17, 0.31]</td>\n",
              "      <td>1.752051e-11</td>\n",
              "      <td>2.869e+08</td>\n",
              "      <td>0.999999</td>\n",
              "    </tr>\n",
              "    <tr>\n",
              "      <th>18</th>\n",
              "      <td>skin</td>\n",
              "      <td>test</td>\n",
              "      <td>pearson</td>\n",
              "      <td>two-sided</td>\n",
              "      <td>768</td>\n",
              "      <td>0.436783</td>\n",
              "      <td>[0.38, 0.49]</td>\n",
              "      <td>4.043577e-37</td>\n",
              "      <td>5.944e+33</td>\n",
              "      <td>1.000000</td>\n",
              "    </tr>\n",
              "    <tr>\n",
              "      <th>19</th>\n",
              "      <td>skin</td>\n",
              "      <td>mass</td>\n",
              "      <td>pearson</td>\n",
              "      <td>two-sided</td>\n",
              "      <td>768</td>\n",
              "      <td>0.392573</td>\n",
              "      <td>[0.33, 0.45]</td>\n",
              "      <td>1.054876e-29</td>\n",
              "      <td>2.645e+26</td>\n",
              "      <td>1.000000</td>\n",
              "    </tr>\n",
              "    <tr>\n",
              "      <th>20</th>\n",
              "      <td>skin</td>\n",
              "      <td>pedi</td>\n",
              "      <td>pearson</td>\n",
              "      <td>two-sided</td>\n",
              "      <td>768</td>\n",
              "      <td>0.183928</td>\n",
              "      <td>[0.11, 0.25]</td>\n",
              "      <td>2.856179e-07</td>\n",
              "      <td>2.316e+04</td>\n",
              "      <td>0.999286</td>\n",
              "    </tr>\n",
              "    <tr>\n",
              "      <th>21</th>\n",
              "      <td>skin</td>\n",
              "      <td>age</td>\n",
              "      <td>pearson</td>\n",
              "      <td>two-sided</td>\n",
              "      <td>768</td>\n",
              "      <td>-0.113970</td>\n",
              "      <td>[-0.18, -0.04]</td>\n",
              "      <td>1.558278e-03</td>\n",
              "      <td>6.673</td>\n",
              "      <td>0.886463</td>\n",
              "    </tr>\n",
              "    <tr>\n",
              "      <th>22</th>\n",
              "      <td>test</td>\n",
              "      <td>mass</td>\n",
              "      <td>pearson</td>\n",
              "      <td>two-sided</td>\n",
              "      <td>768</td>\n",
              "      <td>0.197859</td>\n",
              "      <td>[0.13, 0.26]</td>\n",
              "      <td>3.219695e-08</td>\n",
              "      <td>1.908e+05</td>\n",
              "      <td>0.999834</td>\n",
              "    </tr>\n",
              "    <tr>\n",
              "      <th>23</th>\n",
              "      <td>test</td>\n",
              "      <td>pedi</td>\n",
              "      <td>pearson</td>\n",
              "      <td>two-sided</td>\n",
              "      <td>768</td>\n",
              "      <td>0.185071</td>\n",
              "      <td>[0.12, 0.25]</td>\n",
              "      <td>2.402264e-07</td>\n",
              "      <td>2.737e+04</td>\n",
              "      <td>0.999363</td>\n",
              "    </tr>\n",
              "    <tr>\n",
              "      <th>24</th>\n",
              "      <td>test</td>\n",
              "      <td>age</td>\n",
              "      <td>pearson</td>\n",
              "      <td>two-sided</td>\n",
              "      <td>768</td>\n",
              "      <td>-0.042163</td>\n",
              "      <td>[-0.11, 0.03]</td>\n",
              "      <td>2.431822e-01</td>\n",
              "      <td>0.089</td>\n",
              "      <td>0.214909</td>\n",
              "    </tr>\n",
              "    <tr>\n",
              "      <th>25</th>\n",
              "      <td>mass</td>\n",
              "      <td>pedi</td>\n",
              "      <td>pearson</td>\n",
              "      <td>two-sided</td>\n",
              "      <td>768</td>\n",
              "      <td>0.140647</td>\n",
              "      <td>[0.07, 0.21]</td>\n",
              "      <td>9.197970e-05</td>\n",
              "      <td>93.315</td>\n",
              "      <td>0.974912</td>\n",
              "    </tr>\n",
              "    <tr>\n",
              "      <th>26</th>\n",
              "      <td>mass</td>\n",
              "      <td>age</td>\n",
              "      <td>pearson</td>\n",
              "      <td>two-sided</td>\n",
              "      <td>768</td>\n",
              "      <td>0.036242</td>\n",
              "      <td>[-0.03, 0.11]</td>\n",
              "      <td>3.158330e-01</td>\n",
              "      <td>0.075</td>\n",
              "      <td>0.170892</td>\n",
              "    </tr>\n",
              "    <tr>\n",
              "      <th>27</th>\n",
              "      <td>pedi</td>\n",
              "      <td>age</td>\n",
              "      <td>pearson</td>\n",
              "      <td>two-sided</td>\n",
              "      <td>768</td>\n",
              "      <td>0.033561</td>\n",
              "      <td>[-0.04, 0.1]</td>\n",
              "      <td>3.529797e-01</td>\n",
              "      <td>0.07</td>\n",
              "      <td>0.153217</td>\n",
              "    </tr>\n",
              "  </tbody>\n",
              "</table>\n",
              "</div>\n",
              "      <button class=\"colab-df-convert\" onclick=\"convertToInteractive('df-432ae88f-c403-42e3-bc79-7708129e4a1c')\"\n",
              "              title=\"Convert this dataframe to an interactive table.\"\n",
              "              style=\"display:none;\">\n",
              "        \n",
              "  <svg xmlns=\"http://www.w3.org/2000/svg\" height=\"24px\"viewBox=\"0 0 24 24\"\n",
              "       width=\"24px\">\n",
              "    <path d=\"M0 0h24v24H0V0z\" fill=\"none\"/>\n",
              "    <path d=\"M18.56 5.44l.94 2.06.94-2.06 2.06-.94-2.06-.94-.94-2.06-.94 2.06-2.06.94zm-11 1L8.5 8.5l.94-2.06 2.06-.94-2.06-.94L8.5 2.5l-.94 2.06-2.06.94zm10 10l.94 2.06.94-2.06 2.06-.94-2.06-.94-.94-2.06-.94 2.06-2.06.94z\"/><path d=\"M17.41 7.96l-1.37-1.37c-.4-.4-.92-.59-1.43-.59-.52 0-1.04.2-1.43.59L10.3 9.45l-7.72 7.72c-.78.78-.78 2.05 0 2.83L4 21.41c.39.39.9.59 1.41.59.51 0 1.02-.2 1.41-.59l7.78-7.78 2.81-2.81c.8-.78.8-2.07 0-2.86zM5.41 20L4 18.59l7.72-7.72 1.47 1.35L5.41 20z\"/>\n",
              "  </svg>\n",
              "      </button>\n",
              "      \n",
              "  <style>\n",
              "    .colab-df-container {\n",
              "      display:flex;\n",
              "      flex-wrap:wrap;\n",
              "      gap: 12px;\n",
              "    }\n",
              "\n",
              "    .colab-df-convert {\n",
              "      background-color: #E8F0FE;\n",
              "      border: none;\n",
              "      border-radius: 50%;\n",
              "      cursor: pointer;\n",
              "      display: none;\n",
              "      fill: #1967D2;\n",
              "      height: 32px;\n",
              "      padding: 0 0 0 0;\n",
              "      width: 32px;\n",
              "    }\n",
              "\n",
              "    .colab-df-convert:hover {\n",
              "      background-color: #E2EBFA;\n",
              "      box-shadow: 0px 1px 2px rgba(60, 64, 67, 0.3), 0px 1px 3px 1px rgba(60, 64, 67, 0.15);\n",
              "      fill: #174EA6;\n",
              "    }\n",
              "\n",
              "    [theme=dark] .colab-df-convert {\n",
              "      background-color: #3B4455;\n",
              "      fill: #D2E3FC;\n",
              "    }\n",
              "\n",
              "    [theme=dark] .colab-df-convert:hover {\n",
              "      background-color: #434B5C;\n",
              "      box-shadow: 0px 1px 3px 1px rgba(0, 0, 0, 0.15);\n",
              "      filter: drop-shadow(0px 1px 2px rgba(0, 0, 0, 0.3));\n",
              "      fill: #FFFFFF;\n",
              "    }\n",
              "  </style>\n",
              "\n",
              "      <script>\n",
              "        const buttonEl =\n",
              "          document.querySelector('#df-432ae88f-c403-42e3-bc79-7708129e4a1c button.colab-df-convert');\n",
              "        buttonEl.style.display =\n",
              "          google.colab.kernel.accessAllowed ? 'block' : 'none';\n",
              "\n",
              "        async function convertToInteractive(key) {\n",
              "          const element = document.querySelector('#df-432ae88f-c403-42e3-bc79-7708129e4a1c');\n",
              "          const dataTable =\n",
              "            await google.colab.kernel.invokeFunction('convertToInteractive',\n",
              "                                                     [key], {});\n",
              "          if (!dataTable) return;\n",
              "\n",
              "          const docLinkHtml = 'Like what you see? Visit the ' +\n",
              "            '<a target=\"_blank\" href=https://colab.research.google.com/notebooks/data_table.ipynb>data table notebook</a>'\n",
              "            + ' to learn more about interactive tables.';\n",
              "          element.innerHTML = '';\n",
              "          dataTable['output_type'] = 'display_data';\n",
              "          await google.colab.output.renderOutput(dataTable, element);\n",
              "          const docLink = document.createElement('div');\n",
              "          docLink.innerHTML = docLinkHtml;\n",
              "          element.appendChild(docLink);\n",
              "        }\n",
              "      </script>\n",
              "    </div>\n",
              "  </div>\n",
              "  "
            ]
          },
          "metadata": {},
          "execution_count": 56
        }
      ]
    },
    {
      "cell_type": "markdown",
      "source": [
        "**26. Несмотря на вывод в п.25, с целью знакомства с возможностями модуля sklearn, постройте модель линейного дискриминантного анализа, воспользовавшись функцией LinearDiscriminantAnalysis() из модуля sklearn.discriminant_analysis. Результат запишите в переменную model.**\n",
        "\n",
        "**27. Проведите кросс-валидацию, воспользовавшись функцией cross_val_score(model, X, Y, cv=kfold) из модуля sklearn.model_selection. Результат запишите в переменную results.**  \n",
        "\n",
        "**28. Выведите на экран среднюю долю правильных ответов (accuracy) и стандартное отклонение полученных оценок, воспользовавшись, соответственно, функциями mean() и std().**\n"
      ],
      "metadata": {
        "id": "9ckZX4wrsASA"
      }
    },
    {
      "cell_type": "code",
      "source": [
        "model=LinearDiscriminantAnalysis()"
      ],
      "metadata": {
        "id": "mEsWxsUKB5d_"
      },
      "execution_count": null,
      "outputs": []
    },
    {
      "cell_type": "code",
      "source": [
        "results=cross_val_score(model, X, Y, cv=kfold)"
      ],
      "metadata": {
        "id": "BKn6nXjXB5eB"
      },
      "execution_count": null,
      "outputs": []
    },
    {
      "cell_type": "code",
      "source": [
        "results.mean(),results.std()"
      ],
      "metadata": {
        "colab": {
          "base_uri": "https://localhost:8080/"
        },
        "id": "IcFF1EgzCHVC",
        "outputId": "4e584828-f277-4d01-f020-de9c25b3e4a6"
      },
      "execution_count": null,
      "outputs": [
        {
          "output_type": "execute_result",
          "data": {
            "text/plain": [
              "(0.7669685577580315, 0.04796563054016723)"
            ]
          },
          "metadata": {},
          "execution_count": 59
        }
      ]
    },
    {
      "cell_type": "markdown",
      "source": [
        "**29. Обучите модель на всех данных с помощью функции fit().**\n",
        "\n",
        "**30. По обученной модели дайте прогноз классов для новых наблюдений, заданных в п. 11, воспользовавшись функцией predict().**"
      ],
      "metadata": {
        "id": "51c0m3eXsNlK"
      }
    },
    {
      "cell_type": "code",
      "source": [
        "model.fit(X,Y)"
      ],
      "metadata": {
        "colab": {
          "base_uri": "https://localhost:8080/"
        },
        "id": "rkegufHxsUbW",
        "outputId": "d959c256-7a6c-4929-d4fa-d49a8b013ba4"
      },
      "execution_count": null,
      "outputs": [
        {
          "output_type": "execute_result",
          "data": {
            "text/plain": [
              "LinearDiscriminantAnalysis()"
            ]
          },
          "metadata": {},
          "execution_count": 60
        }
      ]
    },
    {
      "cell_type": "code",
      "source": [
        "model.predict(x_new)"
      ],
      "metadata": {
        "colab": {
          "base_uri": "https://localhost:8080/"
        },
        "id": "ftb_VJljCbLr",
        "outputId": "ce7b79bb-e586-46a5-96f8-b397c569a3d3"
      },
      "execution_count": null,
      "outputs": [
        {
          "output_type": "execute_result",
          "data": {
            "text/plain": [
              "array([1., 1.])"
            ]
          },
          "metadata": {},
          "execution_count": 61
        }
      ]
    },
    {
      "cell_type": "markdown",
      "source": [
        "**31. По обученной модели дайте прогноз вероятности классов для новых наблюдений, воспользовавшись функцией predict_proba().**"
      ],
      "metadata": {
        "id": "lYdXo8t-sVSc"
      }
    },
    {
      "cell_type": "code",
      "source": [
        "model.predict_proba(x_new)"
      ],
      "metadata": {
        "colab": {
          "base_uri": "https://localhost:8080/"
        },
        "id": "rZ7iiCXssbsI",
        "outputId": "36e3b9fc-07d7-4764-dadf-9a8258c2fbc0"
      },
      "execution_count": null,
      "outputs": [
        {
          "output_type": "execute_result",
          "data": {
            "text/plain": [
              "array([[0.13996295, 0.86003705],\n",
              "       [0.10537183, 0.89462817]])"
            ]
          },
          "metadata": {},
          "execution_count": 62
        }
      ]
    },
    {
      "cell_type": "markdown",
      "source": [
        "**32. Рассчитайте значения дискриминантных функций, обратившись к функции transform(X). Выведите на экран первые 5 наблюдений.**"
      ],
      "metadata": {
        "id": "3zXMHzsrscG-"
      }
    },
    {
      "cell_type": "code",
      "source": [
        "model.transform(X)[0:5] # он сжал 8 признаков к 1 компоненте"
      ],
      "metadata": {
        "colab": {
          "base_uri": "https://localhost:8080/"
        },
        "id": "u3v5gt5Tsh1O",
        "outputId": "a4812f38-cc2e-4808-ea24-9a5fe8bdf192"
      },
      "execution_count": null,
      "outputs": [
        {
          "output_type": "execute_result",
          "data": {
            "text/plain": [
              "array([[ 1.38024702],\n",
              "       [-1.56452399],\n",
              "       [ 1.76618515],\n",
              "       [-1.69058752],\n",
              "       [ 2.20726804]])"
            ]
          },
          "metadata": {},
          "execution_count": 65
        }
      ]
    },
    {
      "cell_type": "markdown",
      "source": [
        "**33. Убедитесь в том, что функция fit_transform(X,Y) дает тот же результат. Выведите на экран первые 5 наблюдений.**\n"
      ],
      "metadata": {
        "id": "-QM349hcsiuC"
      }
    },
    {
      "cell_type": "code",
      "source": [
        "model.fit_transform(X,Y)[0:5]"
      ],
      "metadata": {
        "colab": {
          "base_uri": "https://localhost:8080/"
        },
        "id": "p1abqsLmslUd",
        "outputId": "d6064f08-7bfb-4358-b654-fb0c7422a703"
      },
      "execution_count": null,
      "outputs": [
        {
          "output_type": "execute_result",
          "data": {
            "text/plain": [
              "array([[ 1.38024702],\n",
              "       [-1.56452399],\n",
              "       [ 1.76618515],\n",
              "       [-1.69058752],\n",
              "       [ 2.20726804]])"
            ]
          },
          "metadata": {},
          "execution_count": 66
        }
      ]
    },
    {
      "cell_type": "markdown",
      "source": [
        "**34. Какому методу прогнозирования Вы доверяете больше? Какой прогноз примете в качестве окончательного?**"
      ],
      "metadata": {
        "id": "u6wOF4yGslvG"
      }
    },
    {
      "cell_type": "code",
      "source": [
        "# Логистическая регрессия (функция)"
      ],
      "metadata": {
        "id": "1anoxZPgsqld"
      },
      "execution_count": null,
      "outputs": []
    }
  ]
}