{
  "nbformat": 4,
  "nbformat_minor": 0,
  "metadata": {
    "colab": {
      "provenance": []
    },
    "kernelspec": {
      "name": "python3",
      "display_name": "Python 3"
    },
    "language_info": {
      "name": "python"
    }
  },
  "cells": [
    {
      "cell_type": "markdown",
      "source": [
        "_________________________________________________"
      ],
      "metadata": {
        "id": "0q_nPgyPz7s3"
      }
    },
    {
      "cell_type": "markdown",
      "source": [
        "# **Загружаем данные**"
      ],
      "metadata": {
        "id": "GeA2jkKqzwwD"
      }
    },
    {
      "cell_type": "code",
      "execution_count": null,
      "metadata": {
        "colab": {
          "base_uri": "https://localhost:8080/"
        },
        "id": "l0wrs8AxShPW",
        "outputId": "b7c1f809-c40f-4977-ea5c-4c4dc1566299"
      },
      "outputs": [
        {
          "output_type": "stream",
          "name": "stdout",
          "text": [
            "Mounted at /content/gdrive\n"
          ]
        }
      ],
      "source": [
        "from google.colab import drive\n",
        "drive.mount('/content/gdrive')"
      ]
    },
    {
      "cell_type": "code",
      "source": [
        "import os\n",
        "import pandas as pd\n",
        "import numpy as np\n",
        "from pandas import read_csv"
      ],
      "metadata": {
        "id": "-iIv6GB9TAA8"
      },
      "execution_count": null,
      "outputs": []
    },
    {
      "cell_type": "code",
      "source": [
        "os.chdir('/content/gdrive/MyDrive/Colab Notebooks/УЛИТКА/Классификация/Сегментация_клиентов')"
      ],
      "metadata": {
        "id": "4OLo3qrNrhrf"
      },
      "execution_count": null,
      "outputs": []
    },
    {
      "cell_type": "code",
      "source": [
        "filename='Train_cleared.csv'\n",
        "df=read_csv(filename)"
      ],
      "metadata": {
        "id": "EIuUmIaDAqXr"
      },
      "execution_count": null,
      "outputs": []
    },
    {
      "cell_type": "code",
      "source": [
        "df=df.filter(regex='^(?!.*Unnamed).*$')"
      ],
      "metadata": {
        "id": "UgJnQPX3AqXr"
      },
      "execution_count": null,
      "outputs": []
    },
    {
      "cell_type": "code",
      "source": [
        "df = df.dropna()"
      ],
      "metadata": {
        "id": "xNi8jb8Y1C2o"
      },
      "execution_count": null,
      "outputs": []
    },
    {
      "cell_type": "code",
      "source": [
        "array = df.values"
      ],
      "metadata": {
        "id": "y0pdRJmVDYVn"
      },
      "execution_count": null,
      "outputs": []
    },
    {
      "cell_type": "code",
      "source": [
        "X=array[:,0:9]\n",
        "Y=array[:,9]"
      ],
      "metadata": {
        "id": "wPFFXaJZDhSx"
      },
      "execution_count": null,
      "outputs": []
    },
    {
      "cell_type": "markdown",
      "source": [
        "______________________________________________________________"
      ],
      "metadata": {
        "id": "wvoONvB9z5HQ"
      }
    },
    {
      "cell_type": "markdown",
      "source": [
        "# **Пробуем_учить**"
      ],
      "metadata": {
        "id": "G7TTwXoW0bl5"
      }
    },
    {
      "cell_type": "code",
      "source": [
        "from sklearn.feature_selection import SelectKBest\n",
        "from sklearn.feature_selection import f_classif\n",
        "from sklearn.model_selection import KFold\n",
        "from sklearn.model_selection import cross_val_score\n",
        "from sklearn.linear_model import LogisticRegression"
      ],
      "metadata": {
        "id": "Zj_XioHh0_-n"
      },
      "execution_count": null,
      "outputs": []
    },
    {
      "cell_type": "code",
      "source": [
        "lst_1 = list(range(1,8))\n",
        "lst"
      ],
      "metadata": {
        "colab": {
          "base_uri": "https://localhost:8080/"
        },
        "id": "MQRlZAc91KLJ",
        "outputId": "b62deffa-8c0f-4ead-f308-64e81193001c"
      },
      "execution_count": null,
      "outputs": [
        {
          "output_type": "execute_result",
          "data": {
            "text/plain": [
              "[1, 2, 3, 4, 5, 6, 7]"
            ]
          },
          "metadata": {},
          "execution_count": 57
        }
      ]
    },
    {
      "cell_type": "code",
      "source": [
        "lst_2 = list(range(2,8))"
      ],
      "metadata": {
        "id": "fvZ4NcwB7X-2"
      },
      "execution_count": null,
      "outputs": []
    },
    {
      "cell_type": "code",
      "source": [
        "k = []"
      ],
      "metadata": {
        "id": "gHDeW2fj2I_9"
      },
      "execution_count": null,
      "outputs": []
    },
    {
      "cell_type": "code",
      "source": [],
      "metadata": {
        "id": "xAlUA4cKCS4s"
      },
      "execution_count": null,
      "outputs": []
    },
    {
      "cell_type": "code",
      "source": [
        "# логистическая_регрессия\n",
        "from sklearn.linear_model import LogisticRegression\n",
        "model=LogisticRegression(solver='liblinear')    # максимальное значение: n_splits: 2 KBest: 7 0.477418735270886\n",
        "for i in lst_2:\n",
        "   kfold=KFold(n_splits=i,random_state=7,shuffle=True)\n",
        "   for j in lst_1:\n",
        "      test=SelectKBest(score_func=f_classif, k=j)\n",
        "      fit=test.fit(X,Y)\n",
        "      features=fit.transform(X)\n",
        "      results=cross_val_score(model, features, Y, cv=kfold)\n",
        "      res = results.mean()\n",
        "      k.append(res)\n",
        "      print(f'n_splits: {i} KBest: {j} {res}')\n",
        "   print(f'i {i} max: {max(k)}')"
      ],
      "metadata": {
        "id": "F9xkhRALzrht"
      },
      "execution_count": null,
      "outputs": []
    },
    {
      "cell_type": "code",
      "source": [
        "# метод опорных векторов\n",
        "from sklearn.svm import SVC\n",
        "model=SVC(kernel='linear')  # максимальное значение: n_splits: 2 KBest: 7 0.48236936538791936\n",
        "for i in lst_2:\n",
        "   kfold=KFold(n_splits=i,random_state=7,shuffle=True)\n",
        "   for j in lst_1:\n",
        "      test=SelectKBest(score_func=f_classif, k=j)\n",
        "      fit=test.fit(X,Y)\n",
        "      features=fit.transform(X)\n",
        "      results=cross_val_score(model, features, Y, cv=kfold)\n",
        "      res = results.mean()\n",
        "      k.append(res)\n",
        "      print(f'n_splits: {i} KBest: {j} {res}')\n",
        "   print(f'i {i} max: {max(k)}')"
      ],
      "metadata": {
        "id": "Mpy9kr7lqts4"
      },
      "execution_count": null,
      "outputs": []
    },
    {
      "cell_type": "code",
      "source": [
        "# метод опорных векторов (c_другим_ядром)\n",
        "from sklearn.svm import SVC\n",
        "model=SVC(kernel='rbf')  # максимальное значение: попробовать\n",
        "for i in lst_2:\n",
        "   kfold=KFold(n_splits=i,random_state=7,shuffle=True)\n",
        "   for j in lst_1:\n",
        "      test=SelectKBest(score_func=f_classif, k=j)\n",
        "      fit=test.fit(X,Y)\n",
        "      features=fit.transform(X)\n",
        "      results=cross_val_score(model, features, Y, cv=kfold)\n",
        "      res = results.mean()\n",
        "      k.append(res)\n",
        "      print(f'n_splits: {i} KBest: {j} {res}')\n",
        "   print(f'i {i} max: {max(k)}')"
      ],
      "metadata": {
        "id": "Xk9dRrkZCQlU"
      },
      "execution_count": null,
      "outputs": []
    },
    {
      "cell_type": "code",
      "source": [
        "# линейно-дискриминантный анализ\n",
        "from sklearn.discriminant_analysis import LinearDiscriminantAnalysis\n",
        "model=LinearDiscriminantAnalysis()  # максимальное значение: n_splits: 3 KBest: 7 0.48027002159918825\n",
        "for i in lst_2:\n",
        "   kfold=KFold(n_splits=i,random_state=7,shuffle=True)\n",
        "   for j in lst_1:\n",
        "      test=SelectKBest(score_func=f_classif, k=j)\n",
        "      fit=test.fit(X,Y)\n",
        "      features=fit.transform(X)\n",
        "      results=cross_val_score(model, features, Y, cv=kfold)\n",
        "      res = results.mean()\n",
        "      k.append(res)\n",
        "      print(f'n_splits: {i} KBest: {j} {res}')\n",
        "   print(f'i {i} max: {max(k)}')"
      ],
      "metadata": {
        "id": "uuR7-fLqEmRW"
      },
      "execution_count": null,
      "outputs": []
    },
    {
      "cell_type": "markdown",
      "source": [
        "__________________________________"
      ],
      "metadata": {
        "id": "JhKF5ub1HCTF"
      }
    },
    {
      "cell_type": "code",
      "source": [
        "# нелинейные"
      ],
      "metadata": {
        "id": "cWBOb-bCR7V6"
      },
      "execution_count": null,
      "outputs": []
    },
    {
      "cell_type": "code",
      "source": [
        "k = []"
      ],
      "metadata": {
        "id": "nDdQYdlfFagR"
      },
      "execution_count": null,
      "outputs": []
    },
    {
      "cell_type": "code",
      "source": [
        "# kNN\n",
        "from sklearn.neighbors import KNeighborsClassifier\n",
        "model=KNeighborsClassifier()  # максимальное значение: n_splits: 6 KBest: 6 0.4691647543132691\n",
        "for i in lst_2:\n",
        "   kfold=KFold(n_splits=i,random_state=7,shuffle=True)\n",
        "   for j in lst_1:\n",
        "      test=SelectKBest(score_func=f_classif, k=j)\n",
        "      fit=test.fit(X,Y)\n",
        "      features=fit.transform(X)\n",
        "      results=cross_val_score(model, features, Y, cv=kfold)\n",
        "      res = results.mean()\n",
        "      k.append(res)\n",
        "      print(f'n_splits: {i} KBest: {j} {res}')\n",
        "   print(f'i {i} max: {max(k)}')"
      ],
      "metadata": {
        "id": "M-RmRy1_R-6t"
      },
      "execution_count": null,
      "outputs": []
    },
    {
      "cell_type": "code",
      "source": [
        "# наивный байесовский классификатор\n",
        "from sklearn.naive_bayes import GaussianNB\n",
        "model=GaussianNB()  # максимальное значение: n_splits: 2 KBest: 7 0.4657165296361569\n",
        "for i in lst_2:\n",
        "   kfold=KFold(n_splits=i,random_state=7,shuffle=True)\n",
        "   for j in lst_1:\n",
        "      test=SelectKBest(score_func=f_classif, k=j)\n",
        "      fit=test.fit(X,Y)\n",
        "      features=fit.transform(X)\n",
        "      results=cross_val_score(model, features, Y, cv=kfold)\n",
        "      res = results.mean()\n",
        "      k.append(res)\n",
        "      print(f'n_splits: {i} KBest: {j} {res}')\n",
        "   print(f'i {i} max: {max(k)}')"
      ],
      "metadata": {
        "id": "8RL-V2Q2FwWU"
      },
      "execution_count": null,
      "outputs": []
    },
    {
      "cell_type": "code",
      "source": [
        "# модель решающего дерева\n",
        "from sklearn.tree import DecisionTreeClassifier\n",
        "model=DecisionTreeClassifier()  # максимальное значение: n_splits: 3 KBest: 4 0.46961564684158646\n",
        "for i in lst_2:\n",
        "   kfold=KFold(n_splits=i,random_state=7,shuffle=True)\n",
        "   for j in lst_1:\n",
        "      test=SelectKBest(score_func=f_classif, k=j)\n",
        "      fit=test.fit(X,Y)\n",
        "      features=fit.transform(X)\n",
        "      results=cross_val_score(model, features, Y, cv=kfold)\n",
        "      res = results.mean()\n",
        "      k.append(res)\n",
        "      print(f'n_splits: {i} KBest: {j} {res}')\n",
        "   print(f'i {i} max: {max(k)}')"
      ],
      "metadata": {
        "id": "pHqJANnOGMx3"
      },
      "execution_count": null,
      "outputs": []
    },
    {
      "cell_type": "markdown",
      "source": [
        "____________________________________________"
      ],
      "metadata": {
        "id": "uWUi-G_1G_mC"
      }
    },
    {
      "cell_type": "code",
      "source": [
        "# ансамбли"
      ],
      "metadata": {
        "id": "JECNSHZaWUSa"
      },
      "execution_count": null,
      "outputs": []
    },
    {
      "cell_type": "code",
      "source": [
        "k = []"
      ],
      "metadata": {
        "id": "T9glmcQ3Hlal"
      },
      "execution_count": null,
      "outputs": []
    },
    {
      "cell_type": "code",
      "source": [
        "n = list(range(10,300,20))"
      ],
      "metadata": {
        "colab": {
          "base_uri": "https://localhost:8080/"
        },
        "id": "3uJseK3-Ho0J",
        "outputId": "b9750116-9d66-4e61-aa63-3cc94aaf51e9"
      },
      "execution_count": null,
      "outputs": [
        {
          "output_type": "execute_result",
          "data": {
            "text/plain": [
              "[10, 30, 50, 70, 90, 110, 130, 150, 170, 190, 210, 230]"
            ]
          },
          "metadata": {},
          "execution_count": 89
        }
      ]
    },
    {
      "cell_type": "code",
      "source": [
        "# BaggingClassifier (на основе модели решающего дерева)\n",
        "from sklearn.ensemble import BaggingClassifier\n",
        "\n",
        "cart=DecisionTreeClassifier()\n",
        "for r in n:\n",
        " model=BaggingClassifier(base_estimator=cart, n_estimators = r, random_state=7)\n",
        " for i in lst_2:\n",
        "   kfold=KFold(n_splits=i,random_state=7,shuffle=True)\n",
        "   for j in lst_1:\n",
        "      test=SelectKBest(score_func=f_classif, k=j)\n",
        "      fit=test.fit(X,Y)\n",
        "      features=fit.transform(X)\n",
        "      results=cross_val_score(model, features, Y, cv=kfold)\n",
        "      res = results.mean()\n",
        "      k.append(res)\n",
        "      print(f'n_splits: {i} KBest: {j} {res}')\n",
        "   print(f'i {i} max: {max(k)}')"
      ],
      "metadata": {
        "id": "Om4KSsLVWXcF"
      },
      "execution_count": null,
      "outputs": []
    },
    {
      "cell_type": "markdown",
      "source": [
        "import itertools\n",
        "\n",
        "for i, j in itertools.product(range(x), range(y)):"
      ],
      "metadata": {
        "id": "ExbWcyoETeH7"
      }
    },
    {
      "cell_type": "code",
      "source": [
        "# GradientBoostingClassifier\n",
        "from sklearn.ensemble import GradientBoostingClassifier\n",
        "for r in n:\n",
        " model=GradientBoostingClassifier(n_estimators = r, random_state = 4)\n",
        " for i in lst_2:\n",
        "   kfold=KFold(n_splits=i,random_state=7,shuffle=True)\n",
        "   for j in lst_1:\n",
        "      test=SelectKBest(score_func=f_classif, k=j)\n",
        "      fit=test.fit(X,Y)\n",
        "      features=fit.transform(X)\n",
        "      results=cross_val_score(model, features, Y, cv=kfold)\n",
        "      res = results.mean()\n",
        "      k.append(res)\n",
        "      print(f'n_estimators: {r} n_splits: {i} KBest: {j} {res}')\n",
        "   print(f'i {i} max: {max(k)}')\n",
        "# закончили на: n_estimators: 170 n_splits: 5 KBest: 1 0.4006001500375094\n",
        "# максимальное значение: n_estimators: 70 n_splits: 7 KBest: 6 0.5408862390706545"
      ],
      "metadata": {
        "id": "0Z1h8lTEJ1af"
      },
      "execution_count": null,
      "outputs": []
    }
  ]
}