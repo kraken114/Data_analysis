{
  "nbformat": 4,
  "nbformat_minor": 0,
  "metadata": {
    "kernelspec": {
      "display_name": "Python 3",
      "language": "python",
      "name": "python3"
    },
    "language_info": {
      "codemirror_mode": {
        "name": "ipython",
        "version": 3
      },
      "file_extension": ".py",
      "mimetype": "text/x-python",
      "name": "python",
      "nbconvert_exporter": "python",
      "pygments_lexer": "ipython3",
      "version": "3.8.3"
    },
    "colab": {
      "provenance": []
    }
  },
  "cells": [
    {
      "cell_type": "markdown",
      "metadata": {
        "id": "2GlgEEBEz51l"
      },
      "source": [
        "В [датасете](https://raw.githubusercontent.com/dm-fedorov/pandas_basic/master/data/football.csv) присутствуют различные данные о футболистах, среди которых:\n",
        "\n",
        "- Имя (Name),\n",
        "- Возраст (Age),\n",
        "- Национальность (Nationality),\n",
        "- Клуб, за который они играют (Club),\n",
        "- Стоимость (Value),\n",
        "- Годовая заработная плата (Wage),\n",
        "- Позиция, на которой они играют (Position),\n",
        "- Различные игровые характеристики (Crossing, Finishing, HeadingAccuracy, ShortPassing, Volleys, Dribbling, Curve, FKAccuracy, LongPassing, BallControl, Acceleration, SprintSpeed, Agility, Reactions, Balance, ShotPower, Jumping, Stamina, Strength, LongShots, Aggression, Interceptions, Positioning, Vision, Penalties, Composure, Marking, StandingTackle, SlidingTackle, GKDiving, GKHandling, GKKicking, GKPositioning, GKReflexes),\n",
        "- Также присутствует системная колонка с номером строки.\n",
        "\n",
        "Полное описание всех полей находится в файле по [ссылке](https://github.com/dm-fedorov/pandas_basic/blob/master/data/football_about.txt).\n",
        "\n",
        "Данные содержат в себе информацию о 12897 футболистах и их характеристиках."
      ]
    },
    {
      "cell_type": "markdown",
      "metadata": {
        "id": "tjZdbQ_Wz51m"
      },
      "source": [
        "```Python\n",
        "pd.read_csv('Полный_путь_к_файлу/название_файла.csv')\n",
        "```\n",
        "\n",
        "Функция возвращает `DataFrame` (таблицу), однако затем принимает ещё много важных параметров, среди которых:\n",
        "\n",
        "- `sep` — разделитель данных, по умолчанию `','`;\n",
        "- `decimal` — разделитель числа на целую и дробную часть, по умолчанию `'.'`;\n",
        "- `names` — список с названиями колонок, не обязательный параметр;\n",
        "- `skiprows` — если файл содержит системную информацию, можно просто её пропустить.\n",
        "\n",
        "Дополнительные параметры можно посмотреть в [официальной документации](https://pandas.pydata.org/pandas-docs/stable/reference/api/pandas.read_csv.html)."
      ]
    },
    {
      "cell_type": "markdown",
      "metadata": {
        "id": "ssN297I_z51n"
      },
      "source": [
        "Часто после чтения данных с помощью `read_csv()` хочется убедиться в правильности чтения или, к примеру, посмотреть, что лежит в наборе данных.\n",
        "\n",
        "Для этого используются методы `.head()` или `.tail()`, которые показывают первые или последние 5 строк таблицы. Количество строк можно менять параметром `n`, передаваемым в функцию.\n",
        "\n",
        "Посмотрим, как они работают, на примере уже запомнившегося нам набора данных о футболистах:"
      ]
    },
    {
      "cell_type": "code",
      "metadata": {
        "id": "jv3owsguz51o",
        "colab": {
          "base_uri": "https://localhost:8080/",
          "height": 374
        },
        "outputId": "dd1ee105-f9b0-4046-90d8-da82bec9e54e"
      },
      "source": [
        "import pandas as pd\n",
        "\n",
        "url = \"https://raw.githubusercontent.com/dm-fedorov/pandas_basic/master/data/football.csv\"\n",
        "\n",
        "football = pd.read_csv(url)\n",
        "football.head()"
      ],
      "execution_count": null,
      "outputs": [
        {
          "output_type": "execute_result",
          "data": {
            "text/html": [
              "\n",
              "  <div id=\"df-7395e309-3696-440f-8156-d0f442513ff5\">\n",
              "    <div class=\"colab-df-container\">\n",
              "      <div>\n",
              "<style scoped>\n",
              "    .dataframe tbody tr th:only-of-type {\n",
              "        vertical-align: middle;\n",
              "    }\n",
              "\n",
              "    .dataframe tbody tr th {\n",
              "        vertical-align: top;\n",
              "    }\n",
              "\n",
              "    .dataframe thead th {\n",
              "        text-align: right;\n",
              "    }\n",
              "</style>\n",
              "<table border=\"1\" class=\"dataframe\">\n",
              "  <thead>\n",
              "    <tr style=\"text-align: right;\">\n",
              "      <th></th>\n",
              "      <th>Unnamed: 0</th>\n",
              "      <th>Name</th>\n",
              "      <th>Age</th>\n",
              "      <th>Nationality</th>\n",
              "      <th>Club</th>\n",
              "      <th>Value</th>\n",
              "      <th>Wage</th>\n",
              "      <th>Position</th>\n",
              "      <th>Crossing</th>\n",
              "      <th>Finishing</th>\n",
              "      <th>HeadingAccuracy</th>\n",
              "      <th>ShortPassing</th>\n",
              "      <th>Volleys</th>\n",
              "      <th>Dribbling</th>\n",
              "      <th>Curve</th>\n",
              "      <th>FKAccuracy</th>\n",
              "      <th>LongPassing</th>\n",
              "      <th>BallControl</th>\n",
              "      <th>Acceleration</th>\n",
              "      <th>SprintSpeed</th>\n",
              "      <th>Agility</th>\n",
              "      <th>Reactions</th>\n",
              "      <th>Balance</th>\n",
              "      <th>ShotPower</th>\n",
              "      <th>Jumping</th>\n",
              "      <th>Stamina</th>\n",
              "      <th>Strength</th>\n",
              "      <th>LongShots</th>\n",
              "      <th>Aggression</th>\n",
              "      <th>Interceptions</th>\n",
              "      <th>Positioning</th>\n",
              "      <th>Vision</th>\n",
              "      <th>Penalties</th>\n",
              "      <th>Composure</th>\n",
              "      <th>Marking</th>\n",
              "      <th>StandingTackle</th>\n",
              "      <th>SlidingTackle</th>\n",
              "      <th>GKDiving</th>\n",
              "      <th>GKHandling</th>\n",
              "      <th>GKKicking</th>\n",
              "      <th>GKPositioning</th>\n",
              "      <th>GKReflexes</th>\n",
              "    </tr>\n",
              "  </thead>\n",
              "  <tbody>\n",
              "    <tr>\n",
              "      <th>0</th>\n",
              "      <td>0</td>\n",
              "      <td>L. Messi</td>\n",
              "      <td>31</td>\n",
              "      <td>Argentina</td>\n",
              "      <td>FC Barcelona</td>\n",
              "      <td>110500000</td>\n",
              "      <td>565000</td>\n",
              "      <td>RF</td>\n",
              "      <td>84</td>\n",
              "      <td>95</td>\n",
              "      <td>70</td>\n",
              "      <td>90</td>\n",
              "      <td>86</td>\n",
              "      <td>97</td>\n",
              "      <td>93</td>\n",
              "      <td>94</td>\n",
              "      <td>87</td>\n",
              "      <td>96</td>\n",
              "      <td>91</td>\n",
              "      <td>86</td>\n",
              "      <td>91</td>\n",
              "      <td>95</td>\n",
              "      <td>95</td>\n",
              "      <td>85</td>\n",
              "      <td>68</td>\n",
              "      <td>72</td>\n",
              "      <td>59</td>\n",
              "      <td>94</td>\n",
              "      <td>48</td>\n",
              "      <td>22</td>\n",
              "      <td>94</td>\n",
              "      <td>94</td>\n",
              "      <td>75</td>\n",
              "      <td>96</td>\n",
              "      <td>33</td>\n",
              "      <td>28</td>\n",
              "      <td>26</td>\n",
              "      <td>6</td>\n",
              "      <td>11</td>\n",
              "      <td>15</td>\n",
              "      <td>14</td>\n",
              "      <td>8</td>\n",
              "    </tr>\n",
              "    <tr>\n",
              "      <th>1</th>\n",
              "      <td>1</td>\n",
              "      <td>Cristiano Ronaldo</td>\n",
              "      <td>33</td>\n",
              "      <td>Portugal</td>\n",
              "      <td>Juventus</td>\n",
              "      <td>77000000</td>\n",
              "      <td>405000</td>\n",
              "      <td>ST</td>\n",
              "      <td>84</td>\n",
              "      <td>94</td>\n",
              "      <td>89</td>\n",
              "      <td>81</td>\n",
              "      <td>87</td>\n",
              "      <td>88</td>\n",
              "      <td>81</td>\n",
              "      <td>76</td>\n",
              "      <td>77</td>\n",
              "      <td>94</td>\n",
              "      <td>89</td>\n",
              "      <td>91</td>\n",
              "      <td>87</td>\n",
              "      <td>96</td>\n",
              "      <td>70</td>\n",
              "      <td>95</td>\n",
              "      <td>95</td>\n",
              "      <td>88</td>\n",
              "      <td>79</td>\n",
              "      <td>93</td>\n",
              "      <td>63</td>\n",
              "      <td>29</td>\n",
              "      <td>95</td>\n",
              "      <td>82</td>\n",
              "      <td>85</td>\n",
              "      <td>95</td>\n",
              "      <td>28</td>\n",
              "      <td>31</td>\n",
              "      <td>23</td>\n",
              "      <td>7</td>\n",
              "      <td>11</td>\n",
              "      <td>15</td>\n",
              "      <td>14</td>\n",
              "      <td>11</td>\n",
              "    </tr>\n",
              "    <tr>\n",
              "      <th>2</th>\n",
              "      <td>2</td>\n",
              "      <td>Neymar Jr</td>\n",
              "      <td>26</td>\n",
              "      <td>Brazil</td>\n",
              "      <td>Paris Saint-Germain</td>\n",
              "      <td>118500000</td>\n",
              "      <td>290000</td>\n",
              "      <td>LW</td>\n",
              "      <td>79</td>\n",
              "      <td>87</td>\n",
              "      <td>62</td>\n",
              "      <td>84</td>\n",
              "      <td>84</td>\n",
              "      <td>96</td>\n",
              "      <td>88</td>\n",
              "      <td>87</td>\n",
              "      <td>78</td>\n",
              "      <td>95</td>\n",
              "      <td>94</td>\n",
              "      <td>90</td>\n",
              "      <td>96</td>\n",
              "      <td>94</td>\n",
              "      <td>84</td>\n",
              "      <td>80</td>\n",
              "      <td>61</td>\n",
              "      <td>81</td>\n",
              "      <td>49</td>\n",
              "      <td>82</td>\n",
              "      <td>56</td>\n",
              "      <td>36</td>\n",
              "      <td>89</td>\n",
              "      <td>87</td>\n",
              "      <td>81</td>\n",
              "      <td>94</td>\n",
              "      <td>27</td>\n",
              "      <td>24</td>\n",
              "      <td>33</td>\n",
              "      <td>9</td>\n",
              "      <td>9</td>\n",
              "      <td>15</td>\n",
              "      <td>15</td>\n",
              "      <td>11</td>\n",
              "    </tr>\n",
              "    <tr>\n",
              "      <th>3</th>\n",
              "      <td>3</td>\n",
              "      <td>De Gea</td>\n",
              "      <td>27</td>\n",
              "      <td>Spain</td>\n",
              "      <td>Manchester United</td>\n",
              "      <td>72000000</td>\n",
              "      <td>260000</td>\n",
              "      <td>GK</td>\n",
              "      <td>17</td>\n",
              "      <td>13</td>\n",
              "      <td>21</td>\n",
              "      <td>50</td>\n",
              "      <td>13</td>\n",
              "      <td>18</td>\n",
              "      <td>21</td>\n",
              "      <td>19</td>\n",
              "      <td>51</td>\n",
              "      <td>42</td>\n",
              "      <td>57</td>\n",
              "      <td>58</td>\n",
              "      <td>60</td>\n",
              "      <td>90</td>\n",
              "      <td>43</td>\n",
              "      <td>31</td>\n",
              "      <td>67</td>\n",
              "      <td>43</td>\n",
              "      <td>64</td>\n",
              "      <td>12</td>\n",
              "      <td>38</td>\n",
              "      <td>30</td>\n",
              "      <td>12</td>\n",
              "      <td>68</td>\n",
              "      <td>40</td>\n",
              "      <td>68</td>\n",
              "      <td>15</td>\n",
              "      <td>21</td>\n",
              "      <td>13</td>\n",
              "      <td>90</td>\n",
              "      <td>85</td>\n",
              "      <td>87</td>\n",
              "      <td>88</td>\n",
              "      <td>94</td>\n",
              "    </tr>\n",
              "    <tr>\n",
              "      <th>4</th>\n",
              "      <td>4</td>\n",
              "      <td>K. De Bruyne</td>\n",
              "      <td>27</td>\n",
              "      <td>Belgium</td>\n",
              "      <td>Manchester City</td>\n",
              "      <td>102000000</td>\n",
              "      <td>355000</td>\n",
              "      <td>RCM</td>\n",
              "      <td>93</td>\n",
              "      <td>82</td>\n",
              "      <td>55</td>\n",
              "      <td>92</td>\n",
              "      <td>82</td>\n",
              "      <td>86</td>\n",
              "      <td>85</td>\n",
              "      <td>83</td>\n",
              "      <td>91</td>\n",
              "      <td>91</td>\n",
              "      <td>78</td>\n",
              "      <td>76</td>\n",
              "      <td>79</td>\n",
              "      <td>91</td>\n",
              "      <td>77</td>\n",
              "      <td>91</td>\n",
              "      <td>63</td>\n",
              "      <td>90</td>\n",
              "      <td>75</td>\n",
              "      <td>91</td>\n",
              "      <td>76</td>\n",
              "      <td>61</td>\n",
              "      <td>87</td>\n",
              "      <td>94</td>\n",
              "      <td>79</td>\n",
              "      <td>88</td>\n",
              "      <td>68</td>\n",
              "      <td>58</td>\n",
              "      <td>51</td>\n",
              "      <td>15</td>\n",
              "      <td>13</td>\n",
              "      <td>5</td>\n",
              "      <td>10</td>\n",
              "      <td>13</td>\n",
              "    </tr>\n",
              "  </tbody>\n",
              "</table>\n",
              "</div>\n",
              "      <button class=\"colab-df-convert\" onclick=\"convertToInteractive('df-7395e309-3696-440f-8156-d0f442513ff5')\"\n",
              "              title=\"Convert this dataframe to an interactive table.\"\n",
              "              style=\"display:none;\">\n",
              "        \n",
              "  <svg xmlns=\"http://www.w3.org/2000/svg\" height=\"24px\"viewBox=\"0 0 24 24\"\n",
              "       width=\"24px\">\n",
              "    <path d=\"M0 0h24v24H0V0z\" fill=\"none\"/>\n",
              "    <path d=\"M18.56 5.44l.94 2.06.94-2.06 2.06-.94-2.06-.94-.94-2.06-.94 2.06-2.06.94zm-11 1L8.5 8.5l.94-2.06 2.06-.94-2.06-.94L8.5 2.5l-.94 2.06-2.06.94zm10 10l.94 2.06.94-2.06 2.06-.94-2.06-.94-.94-2.06-.94 2.06-2.06.94z\"/><path d=\"M17.41 7.96l-1.37-1.37c-.4-.4-.92-.59-1.43-.59-.52 0-1.04.2-1.43.59L10.3 9.45l-7.72 7.72c-.78.78-.78 2.05 0 2.83L4 21.41c.39.39.9.59 1.41.59.51 0 1.02-.2 1.41-.59l7.78-7.78 2.81-2.81c.8-.78.8-2.07 0-2.86zM5.41 20L4 18.59l7.72-7.72 1.47 1.35L5.41 20z\"/>\n",
              "  </svg>\n",
              "      </button>\n",
              "      \n",
              "  <style>\n",
              "    .colab-df-container {\n",
              "      display:flex;\n",
              "      flex-wrap:wrap;\n",
              "      gap: 12px;\n",
              "    }\n",
              "\n",
              "    .colab-df-convert {\n",
              "      background-color: #E8F0FE;\n",
              "      border: none;\n",
              "      border-radius: 50%;\n",
              "      cursor: pointer;\n",
              "      display: none;\n",
              "      fill: #1967D2;\n",
              "      height: 32px;\n",
              "      padding: 0 0 0 0;\n",
              "      width: 32px;\n",
              "    }\n",
              "\n",
              "    .colab-df-convert:hover {\n",
              "      background-color: #E2EBFA;\n",
              "      box-shadow: 0px 1px 2px rgba(60, 64, 67, 0.3), 0px 1px 3px 1px rgba(60, 64, 67, 0.15);\n",
              "      fill: #174EA6;\n",
              "    }\n",
              "\n",
              "    [theme=dark] .colab-df-convert {\n",
              "      background-color: #3B4455;\n",
              "      fill: #D2E3FC;\n",
              "    }\n",
              "\n",
              "    [theme=dark] .colab-df-convert:hover {\n",
              "      background-color: #434B5C;\n",
              "      box-shadow: 0px 1px 3px 1px rgba(0, 0, 0, 0.15);\n",
              "      filter: drop-shadow(0px 1px 2px rgba(0, 0, 0, 0.3));\n",
              "      fill: #FFFFFF;\n",
              "    }\n",
              "  </style>\n",
              "\n",
              "      <script>\n",
              "        const buttonEl =\n",
              "          document.querySelector('#df-7395e309-3696-440f-8156-d0f442513ff5 button.colab-df-convert');\n",
              "        buttonEl.style.display =\n",
              "          google.colab.kernel.accessAllowed ? 'block' : 'none';\n",
              "\n",
              "        async function convertToInteractive(key) {\n",
              "          const element = document.querySelector('#df-7395e309-3696-440f-8156-d0f442513ff5');\n",
              "          const dataTable =\n",
              "            await google.colab.kernel.invokeFunction('convertToInteractive',\n",
              "                                                     [key], {});\n",
              "          if (!dataTable) return;\n",
              "\n",
              "          const docLinkHtml = 'Like what you see? Visit the ' +\n",
              "            '<a target=\"_blank\" href=https://colab.research.google.com/notebooks/data_table.ipynb>data table notebook</a>'\n",
              "            + ' to learn more about interactive tables.';\n",
              "          element.innerHTML = '';\n",
              "          dataTable['output_type'] = 'display_data';\n",
              "          await google.colab.output.renderOutput(dataTable, element);\n",
              "          const docLink = document.createElement('div');\n",
              "          docLink.innerHTML = docLinkHtml;\n",
              "          element.appendChild(docLink);\n",
              "        }\n",
              "      </script>\n",
              "    </div>\n",
              "  </div>\n",
              "  "
            ],
            "text/plain": [
              "   Unnamed: 0               Name  Age  ... GKKicking GKPositioning  GKReflexes\n",
              "0           0           L. Messi   31  ...        15            14           8\n",
              "1           1  Cristiano Ronaldo   33  ...        15            14          11\n",
              "2           2          Neymar Jr   26  ...        15            15          11\n",
              "3           3             De Gea   27  ...        87            88          94\n",
              "4           4       K. De Bruyne   27  ...         5            10          13\n",
              "\n",
              "[5 rows x 42 columns]"
            ]
          },
          "metadata": {},
          "execution_count": 2
        }
      ]
    },
    {
      "cell_type": "code",
      "metadata": {
        "id": "psHG7n9-z51p"
      },
      "source": [
        "import pandas as pd\n",
        "\n",
        "football = pd.read_csv(url)\n",
        "football.info()"
      ],
      "execution_count": null,
      "outputs": []
    },
    {
      "cell_type": "markdown",
      "metadata": {
        "id": "wzvnJ_x0z51q"
      },
      "source": [
        "Метод `describe` показывает основные статистические характеристики данных по каждому числовому признаку (типы `int64` и `float64`): число непропущенных значений, среднее, стандартное отклонение, диапазон, медиану, `0.25` и `0.75` квартили."
      ]
    },
    {
      "cell_type": "code",
      "metadata": {
        "id": "xuvJXXb1z51r"
      },
      "source": [
        "import pandas as pd\n",
        "\n",
        "football = pd.read_csv(url)\n",
        "football.describe()"
      ],
      "execution_count": null,
      "outputs": []
    },
    {
      "cell_type": "markdown",
      "metadata": {
        "id": "uencChPkz51r"
      },
      "source": [
        "Здесь для каждого числового (`int64`) столбца показано число непустых значений (`count`), среднее (`mean`), стандартное отклонение (`std`), минимум и максимум (`min` и `max`), `25%` и `75%` квартили и медиана (`50%`).\n",
        "\n",
        "Чтобы посмотреть статистику по нечисловым признакам (например, по строчным (`object`) или булевым (`bool`) данным), нужно явно указать интересующие нас типы в параметре `include` метода `describe`:"
      ]
    },
    {
      "cell_type": "code",
      "metadata": {
        "id": "EqanAjOkz51s"
      },
      "source": [
        "football.describe(include=['object'])"
      ],
      "execution_count": null,
      "outputs": []
    },
    {
      "cell_type": "markdown",
      "metadata": {
        "id": "K8hqKuDSz51t"
      },
      "source": [
        "Здесь для каждой колонки с типом `object` (строчные данные) выводится количество непустых строк, уникальных значений, самое частое значение (`top`) и частота этого значения (`freq`)."
      ]
    },
    {
      "cell_type": "markdown",
      "metadata": {
        "id": "nL9VfLzqz51t"
      },
      "source": [
        "Для вычисления отдельных статистических параметров `DataFrame` можно использовать не только метод `.describe()`, но и отдельные методы для каждого параметра:"
      ]
    },
    {
      "cell_type": "markdown",
      "metadata": {
        "id": "ULebrwnGz51t"
      },
      "source": [
        "|Метод   | Статистический параметр  |\n",
        "|---|---|\n",
        "|.max()|Максимум  |\n",
        "|.min()|Минимум   |\n",
        "|.mean()|Среднее значение   |\n",
        "|.sum()| Сумма  |\n",
        "|.count()|Количество непустых элементов   |\n",
        "|.std()|Стандартное отклонение   |\n"
      ]
    },
    {
      "cell_type": "markdown",
      "metadata": {
        "id": "3U3S-cV_z51u"
      },
      "source": [
        "Если один из этих методов применить ко всему `DataFrame`, то в результате его работы будет получен объект типа `Series`. В случае применения метода к отдельному столбцу, результатом вычислений станет число (среднее значение элементов столбца, минимум, максимум и т.п.).\n",
        "\n",
        "В каждый метод можно передать некоторые параметры, среди которых:\n",
        "\n",
        "- `axis` — определяет, подсчитывать максимум по строкам (1) или по столбцам (0) (по умолчанию 0);\n",
        "- `numeric_only` — определяет, вычислять параметры только по числовым столбцам/строкам или нет (`True/False`). Если передать `False` в методы `.mean()` или `.std()`, компилятор выдаст ошибку.\n",
        "\n",
        "Пример применения:"
      ]
    },
    {
      "cell_type": "code",
      "metadata": {
        "id": "9cWBTcDqz51u",
        "colab": {
          "base_uri": "https://localhost:8080/",
          "height": 363
        },
        "outputId": "a6e4ade8-9080-40ac-fffa-37461854bbaa"
      },
      "source": [
        "df = pd.DataFrame([[i, i + 1.2, i + 2, 'hi'] for i in range(10)], columns=['foo', 'bar', 'baz', 'foobar'])\n",
        "df"
      ],
      "execution_count": null,
      "outputs": [
        {
          "output_type": "execute_result",
          "data": {
            "text/html": [
              "\n",
              "  <div id=\"df-b79211cf-c20a-4408-8181-688c2c6fe484\">\n",
              "    <div class=\"colab-df-container\">\n",
              "      <div>\n",
              "<style scoped>\n",
              "    .dataframe tbody tr th:only-of-type {\n",
              "        vertical-align: middle;\n",
              "    }\n",
              "\n",
              "    .dataframe tbody tr th {\n",
              "        vertical-align: top;\n",
              "    }\n",
              "\n",
              "    .dataframe thead th {\n",
              "        text-align: right;\n",
              "    }\n",
              "</style>\n",
              "<table border=\"1\" class=\"dataframe\">\n",
              "  <thead>\n",
              "    <tr style=\"text-align: right;\">\n",
              "      <th></th>\n",
              "      <th>foo</th>\n",
              "      <th>bar</th>\n",
              "      <th>baz</th>\n",
              "      <th>foobar</th>\n",
              "    </tr>\n",
              "  </thead>\n",
              "  <tbody>\n",
              "    <tr>\n",
              "      <th>0</th>\n",
              "      <td>0</td>\n",
              "      <td>1.2</td>\n",
              "      <td>2</td>\n",
              "      <td>hi</td>\n",
              "    </tr>\n",
              "    <tr>\n",
              "      <th>1</th>\n",
              "      <td>1</td>\n",
              "      <td>2.2</td>\n",
              "      <td>3</td>\n",
              "      <td>hi</td>\n",
              "    </tr>\n",
              "    <tr>\n",
              "      <th>2</th>\n",
              "      <td>2</td>\n",
              "      <td>3.2</td>\n",
              "      <td>4</td>\n",
              "      <td>hi</td>\n",
              "    </tr>\n",
              "    <tr>\n",
              "      <th>3</th>\n",
              "      <td>3</td>\n",
              "      <td>4.2</td>\n",
              "      <td>5</td>\n",
              "      <td>hi</td>\n",
              "    </tr>\n",
              "    <tr>\n",
              "      <th>4</th>\n",
              "      <td>4</td>\n",
              "      <td>5.2</td>\n",
              "      <td>6</td>\n",
              "      <td>hi</td>\n",
              "    </tr>\n",
              "    <tr>\n",
              "      <th>5</th>\n",
              "      <td>5</td>\n",
              "      <td>6.2</td>\n",
              "      <td>7</td>\n",
              "      <td>hi</td>\n",
              "    </tr>\n",
              "    <tr>\n",
              "      <th>6</th>\n",
              "      <td>6</td>\n",
              "      <td>7.2</td>\n",
              "      <td>8</td>\n",
              "      <td>hi</td>\n",
              "    </tr>\n",
              "    <tr>\n",
              "      <th>7</th>\n",
              "      <td>7</td>\n",
              "      <td>8.2</td>\n",
              "      <td>9</td>\n",
              "      <td>hi</td>\n",
              "    </tr>\n",
              "    <tr>\n",
              "      <th>8</th>\n",
              "      <td>8</td>\n",
              "      <td>9.2</td>\n",
              "      <td>10</td>\n",
              "      <td>hi</td>\n",
              "    </tr>\n",
              "    <tr>\n",
              "      <th>9</th>\n",
              "      <td>9</td>\n",
              "      <td>10.2</td>\n",
              "      <td>11</td>\n",
              "      <td>hi</td>\n",
              "    </tr>\n",
              "  </tbody>\n",
              "</table>\n",
              "</div>\n",
              "      <button class=\"colab-df-convert\" onclick=\"convertToInteractive('df-b79211cf-c20a-4408-8181-688c2c6fe484')\"\n",
              "              title=\"Convert this dataframe to an interactive table.\"\n",
              "              style=\"display:none;\">\n",
              "        \n",
              "  <svg xmlns=\"http://www.w3.org/2000/svg\" height=\"24px\"viewBox=\"0 0 24 24\"\n",
              "       width=\"24px\">\n",
              "    <path d=\"M0 0h24v24H0V0z\" fill=\"none\"/>\n",
              "    <path d=\"M18.56 5.44l.94 2.06.94-2.06 2.06-.94-2.06-.94-.94-2.06-.94 2.06-2.06.94zm-11 1L8.5 8.5l.94-2.06 2.06-.94-2.06-.94L8.5 2.5l-.94 2.06-2.06.94zm10 10l.94 2.06.94-2.06 2.06-.94-2.06-.94-.94-2.06-.94 2.06-2.06.94z\"/><path d=\"M17.41 7.96l-1.37-1.37c-.4-.4-.92-.59-1.43-.59-.52 0-1.04.2-1.43.59L10.3 9.45l-7.72 7.72c-.78.78-.78 2.05 0 2.83L4 21.41c.39.39.9.59 1.41.59.51 0 1.02-.2 1.41-.59l7.78-7.78 2.81-2.81c.8-.78.8-2.07 0-2.86zM5.41 20L4 18.59l7.72-7.72 1.47 1.35L5.41 20z\"/>\n",
              "  </svg>\n",
              "      </button>\n",
              "      \n",
              "  <style>\n",
              "    .colab-df-container {\n",
              "      display:flex;\n",
              "      flex-wrap:wrap;\n",
              "      gap: 12px;\n",
              "    }\n",
              "\n",
              "    .colab-df-convert {\n",
              "      background-color: #E8F0FE;\n",
              "      border: none;\n",
              "      border-radius: 50%;\n",
              "      cursor: pointer;\n",
              "      display: none;\n",
              "      fill: #1967D2;\n",
              "      height: 32px;\n",
              "      padding: 0 0 0 0;\n",
              "      width: 32px;\n",
              "    }\n",
              "\n",
              "    .colab-df-convert:hover {\n",
              "      background-color: #E2EBFA;\n",
              "      box-shadow: 0px 1px 2px rgba(60, 64, 67, 0.3), 0px 1px 3px 1px rgba(60, 64, 67, 0.15);\n",
              "      fill: #174EA6;\n",
              "    }\n",
              "\n",
              "    [theme=dark] .colab-df-convert {\n",
              "      background-color: #3B4455;\n",
              "      fill: #D2E3FC;\n",
              "    }\n",
              "\n",
              "    [theme=dark] .colab-df-convert:hover {\n",
              "      background-color: #434B5C;\n",
              "      box-shadow: 0px 1px 3px 1px rgba(0, 0, 0, 0.15);\n",
              "      filter: drop-shadow(0px 1px 2px rgba(0, 0, 0, 0.3));\n",
              "      fill: #FFFFFF;\n",
              "    }\n",
              "  </style>\n",
              "\n",
              "      <script>\n",
              "        const buttonEl =\n",
              "          document.querySelector('#df-b79211cf-c20a-4408-8181-688c2c6fe484 button.colab-df-convert');\n",
              "        buttonEl.style.display =\n",
              "          google.colab.kernel.accessAllowed ? 'block' : 'none';\n",
              "\n",
              "        async function convertToInteractive(key) {\n",
              "          const element = document.querySelector('#df-b79211cf-c20a-4408-8181-688c2c6fe484');\n",
              "          const dataTable =\n",
              "            await google.colab.kernel.invokeFunction('convertToInteractive',\n",
              "                                                     [key], {});\n",
              "          if (!dataTable) return;\n",
              "\n",
              "          const docLinkHtml = 'Like what you see? Visit the ' +\n",
              "            '<a target=\"_blank\" href=https://colab.research.google.com/notebooks/data_table.ipynb>data table notebook</a>'\n",
              "            + ' to learn more about interactive tables.';\n",
              "          element.innerHTML = '';\n",
              "          dataTable['output_type'] = 'display_data';\n",
              "          await google.colab.output.renderOutput(dataTable, element);\n",
              "          const docLink = document.createElement('div');\n",
              "          docLink.innerHTML = docLinkHtml;\n",
              "          element.appendChild(docLink);\n",
              "        }\n",
              "      </script>\n",
              "    </div>\n",
              "  </div>\n",
              "  "
            ],
            "text/plain": [
              "   foo   bar  baz foobar\n",
              "0    0   1.2    2     hi\n",
              "1    1   2.2    3     hi\n",
              "2    2   3.2    4     hi\n",
              "3    3   4.2    5     hi\n",
              "4    4   5.2    6     hi\n",
              "5    5   6.2    7     hi\n",
              "6    6   7.2    8     hi\n",
              "7    7   8.2    9     hi\n",
              "8    8   9.2   10     hi\n",
              "9    9  10.2   11     hi"
            ]
          },
          "metadata": {},
          "execution_count": 4
        }
      ]
    },
    {
      "cell_type": "code",
      "metadata": {
        "id": "zr6jmoSwz51u"
      },
      "source": [
        "df.mean()"
      ],
      "execution_count": null,
      "outputs": []
    },
    {
      "cell_type": "markdown",
      "metadata": {
        "id": "mxGFL33Zz51v"
      },
      "source": [
        "Здесь вычисляется среднее по столбцам (так как не передан параметр `axis`), причем только по числовым столбцам, так как метод `.mean()` не может применяться к столбцам с другим типом.\n",
        "\n",
        "Доступ к колонке можно получить разными способами: `df['column_name']` или `df.column_name`.\n",
        "\n",
        "Например, так:"
      ]
    },
    {
      "cell_type": "code",
      "metadata": {
        "id": "JtdVOcMqz51v"
      },
      "source": [
        "df = pd.DataFrame([[i, i + 1.2, i + 2, 'hi'] for i in range(10)],\n",
        "                  columns=['foo', 'bar', 'baz', 'foobar'])\n",
        "df['foo']"
      ],
      "execution_count": null,
      "outputs": []
    },
    {
      "cell_type": "code",
      "metadata": {
        "id": "wll_f1vMz51v"
      },
      "source": [
        "df.foo"
      ],
      "execution_count": null,
      "outputs": []
    },
    {
      "cell_type": "markdown",
      "metadata": {
        "id": "DASJg59Az51v"
      },
      "source": [
        "Как мы помним, колонки в `DataFrame` представляют собой `Series`, поэтому к ним можно применять методы `.max()`, `.std()` и другие."
      ]
    },
    {
      "cell_type": "code",
      "metadata": {
        "id": "Neh8E76Qz51w"
      },
      "source": [
        "df = pd.DataFrame([[i, i + 1.2, i + 2, 'hi'] for i in range(10)],\n",
        "                  columns=['foo', 'bar', 'baz', 'foobar'])\n",
        "df.bar.mean()"
      ],
      "execution_count": null,
      "outputs": []
    },
    {
      "cell_type": "code",
      "source": [
        "import pandas as pd\n",
        "import numpy as np\n",
        "url = \"https://raw.githubusercontent.com/dm-fedorov/pandas_basic/master/data/football.csv\"\n",
        "df = pd.read_csv(url)\n",
        "df.head(2)"
      ],
      "metadata": {
        "colab": {
          "base_uri": "https://localhost:8080/",
          "height": 228
        },
        "id": "MFWlXxmqHabK",
        "outputId": "8434ef4a-2c44-406e-8a83-fa6f80a9c44d"
      },
      "execution_count": null,
      "outputs": [
        {
          "output_type": "execute_result",
          "data": {
            "text/html": [
              "\n",
              "  <div id=\"df-19e70fff-2abf-43e1-818c-6631e2203b35\">\n",
              "    <div class=\"colab-df-container\">\n",
              "      <div>\n",
              "<style scoped>\n",
              "    .dataframe tbody tr th:only-of-type {\n",
              "        vertical-align: middle;\n",
              "    }\n",
              "\n",
              "    .dataframe tbody tr th {\n",
              "        vertical-align: top;\n",
              "    }\n",
              "\n",
              "    .dataframe thead th {\n",
              "        text-align: right;\n",
              "    }\n",
              "</style>\n",
              "<table border=\"1\" class=\"dataframe\">\n",
              "  <thead>\n",
              "    <tr style=\"text-align: right;\">\n",
              "      <th></th>\n",
              "      <th>Unnamed: 0</th>\n",
              "      <th>Name</th>\n",
              "      <th>Age</th>\n",
              "      <th>Nationality</th>\n",
              "      <th>Club</th>\n",
              "      <th>Value</th>\n",
              "      <th>Wage</th>\n",
              "      <th>Position</th>\n",
              "      <th>Crossing</th>\n",
              "      <th>Finishing</th>\n",
              "      <th>HeadingAccuracy</th>\n",
              "      <th>ShortPassing</th>\n",
              "      <th>Volleys</th>\n",
              "      <th>Dribbling</th>\n",
              "      <th>Curve</th>\n",
              "      <th>FKAccuracy</th>\n",
              "      <th>LongPassing</th>\n",
              "      <th>BallControl</th>\n",
              "      <th>Acceleration</th>\n",
              "      <th>SprintSpeed</th>\n",
              "      <th>Agility</th>\n",
              "      <th>Reactions</th>\n",
              "      <th>Balance</th>\n",
              "      <th>ShotPower</th>\n",
              "      <th>Jumping</th>\n",
              "      <th>Stamina</th>\n",
              "      <th>Strength</th>\n",
              "      <th>LongShots</th>\n",
              "      <th>Aggression</th>\n",
              "      <th>Interceptions</th>\n",
              "      <th>Positioning</th>\n",
              "      <th>Vision</th>\n",
              "      <th>Penalties</th>\n",
              "      <th>Composure</th>\n",
              "      <th>Marking</th>\n",
              "      <th>StandingTackle</th>\n",
              "      <th>SlidingTackle</th>\n",
              "      <th>GKDiving</th>\n",
              "      <th>GKHandling</th>\n",
              "      <th>GKKicking</th>\n",
              "      <th>GKPositioning</th>\n",
              "      <th>GKReflexes</th>\n",
              "    </tr>\n",
              "  </thead>\n",
              "  <tbody>\n",
              "    <tr>\n",
              "      <th>0</th>\n",
              "      <td>0</td>\n",
              "      <td>L. Messi</td>\n",
              "      <td>31</td>\n",
              "      <td>Argentina</td>\n",
              "      <td>FC Barcelona</td>\n",
              "      <td>110500000</td>\n",
              "      <td>565000</td>\n",
              "      <td>RF</td>\n",
              "      <td>84</td>\n",
              "      <td>95</td>\n",
              "      <td>70</td>\n",
              "      <td>90</td>\n",
              "      <td>86</td>\n",
              "      <td>97</td>\n",
              "      <td>93</td>\n",
              "      <td>94</td>\n",
              "      <td>87</td>\n",
              "      <td>96</td>\n",
              "      <td>91</td>\n",
              "      <td>86</td>\n",
              "      <td>91</td>\n",
              "      <td>95</td>\n",
              "      <td>95</td>\n",
              "      <td>85</td>\n",
              "      <td>68</td>\n",
              "      <td>72</td>\n",
              "      <td>59</td>\n",
              "      <td>94</td>\n",
              "      <td>48</td>\n",
              "      <td>22</td>\n",
              "      <td>94</td>\n",
              "      <td>94</td>\n",
              "      <td>75</td>\n",
              "      <td>96</td>\n",
              "      <td>33</td>\n",
              "      <td>28</td>\n",
              "      <td>26</td>\n",
              "      <td>6</td>\n",
              "      <td>11</td>\n",
              "      <td>15</td>\n",
              "      <td>14</td>\n",
              "      <td>8</td>\n",
              "    </tr>\n",
              "    <tr>\n",
              "      <th>1</th>\n",
              "      <td>1</td>\n",
              "      <td>Cristiano Ronaldo</td>\n",
              "      <td>33</td>\n",
              "      <td>Portugal</td>\n",
              "      <td>Juventus</td>\n",
              "      <td>77000000</td>\n",
              "      <td>405000</td>\n",
              "      <td>ST</td>\n",
              "      <td>84</td>\n",
              "      <td>94</td>\n",
              "      <td>89</td>\n",
              "      <td>81</td>\n",
              "      <td>87</td>\n",
              "      <td>88</td>\n",
              "      <td>81</td>\n",
              "      <td>76</td>\n",
              "      <td>77</td>\n",
              "      <td>94</td>\n",
              "      <td>89</td>\n",
              "      <td>91</td>\n",
              "      <td>87</td>\n",
              "      <td>96</td>\n",
              "      <td>70</td>\n",
              "      <td>95</td>\n",
              "      <td>95</td>\n",
              "      <td>88</td>\n",
              "      <td>79</td>\n",
              "      <td>93</td>\n",
              "      <td>63</td>\n",
              "      <td>29</td>\n",
              "      <td>95</td>\n",
              "      <td>82</td>\n",
              "      <td>85</td>\n",
              "      <td>95</td>\n",
              "      <td>28</td>\n",
              "      <td>31</td>\n",
              "      <td>23</td>\n",
              "      <td>7</td>\n",
              "      <td>11</td>\n",
              "      <td>15</td>\n",
              "      <td>14</td>\n",
              "      <td>11</td>\n",
              "    </tr>\n",
              "  </tbody>\n",
              "</table>\n",
              "</div>\n",
              "      <button class=\"colab-df-convert\" onclick=\"convertToInteractive('df-19e70fff-2abf-43e1-818c-6631e2203b35')\"\n",
              "              title=\"Convert this dataframe to an interactive table.\"\n",
              "              style=\"display:none;\">\n",
              "        \n",
              "  <svg xmlns=\"http://www.w3.org/2000/svg\" height=\"24px\"viewBox=\"0 0 24 24\"\n",
              "       width=\"24px\">\n",
              "    <path d=\"M0 0h24v24H0V0z\" fill=\"none\"/>\n",
              "    <path d=\"M18.56 5.44l.94 2.06.94-2.06 2.06-.94-2.06-.94-.94-2.06-.94 2.06-2.06.94zm-11 1L8.5 8.5l.94-2.06 2.06-.94-2.06-.94L8.5 2.5l-.94 2.06-2.06.94zm10 10l.94 2.06.94-2.06 2.06-.94-2.06-.94-.94-2.06-.94 2.06-2.06.94z\"/><path d=\"M17.41 7.96l-1.37-1.37c-.4-.4-.92-.59-1.43-.59-.52 0-1.04.2-1.43.59L10.3 9.45l-7.72 7.72c-.78.78-.78 2.05 0 2.83L4 21.41c.39.39.9.59 1.41.59.51 0 1.02-.2 1.41-.59l7.78-7.78 2.81-2.81c.8-.78.8-2.07 0-2.86zM5.41 20L4 18.59l7.72-7.72 1.47 1.35L5.41 20z\"/>\n",
              "  </svg>\n",
              "      </button>\n",
              "      \n",
              "  <style>\n",
              "    .colab-df-container {\n",
              "      display:flex;\n",
              "      flex-wrap:wrap;\n",
              "      gap: 12px;\n",
              "    }\n",
              "\n",
              "    .colab-df-convert {\n",
              "      background-color: #E8F0FE;\n",
              "      border: none;\n",
              "      border-radius: 50%;\n",
              "      cursor: pointer;\n",
              "      display: none;\n",
              "      fill: #1967D2;\n",
              "      height: 32px;\n",
              "      padding: 0 0 0 0;\n",
              "      width: 32px;\n",
              "    }\n",
              "\n",
              "    .colab-df-convert:hover {\n",
              "      background-color: #E2EBFA;\n",
              "      box-shadow: 0px 1px 2px rgba(60, 64, 67, 0.3), 0px 1px 3px 1px rgba(60, 64, 67, 0.15);\n",
              "      fill: #174EA6;\n",
              "    }\n",
              "\n",
              "    [theme=dark] .colab-df-convert {\n",
              "      background-color: #3B4455;\n",
              "      fill: #D2E3FC;\n",
              "    }\n",
              "\n",
              "    [theme=dark] .colab-df-convert:hover {\n",
              "      background-color: #434B5C;\n",
              "      box-shadow: 0px 1px 3px 1px rgba(0, 0, 0, 0.15);\n",
              "      filter: drop-shadow(0px 1px 2px rgba(0, 0, 0, 0.3));\n",
              "      fill: #FFFFFF;\n",
              "    }\n",
              "  </style>\n",
              "\n",
              "      <script>\n",
              "        const buttonEl =\n",
              "          document.querySelector('#df-19e70fff-2abf-43e1-818c-6631e2203b35 button.colab-df-convert');\n",
              "        buttonEl.style.display =\n",
              "          google.colab.kernel.accessAllowed ? 'block' : 'none';\n",
              "\n",
              "        async function convertToInteractive(key) {\n",
              "          const element = document.querySelector('#df-19e70fff-2abf-43e1-818c-6631e2203b35');\n",
              "          const dataTable =\n",
              "            await google.colab.kernel.invokeFunction('convertToInteractive',\n",
              "                                                     [key], {});\n",
              "          if (!dataTable) return;\n",
              "\n",
              "          const docLinkHtml = 'Like what you see? Visit the ' +\n",
              "            '<a target=\"_blank\" href=https://colab.research.google.com/notebooks/data_table.ipynb>data table notebook</a>'\n",
              "            + ' to learn more about interactive tables.';\n",
              "          element.innerHTML = '';\n",
              "          dataTable['output_type'] = 'display_data';\n",
              "          await google.colab.output.renderOutput(dataTable, element);\n",
              "          const docLink = document.createElement('div');\n",
              "          docLink.innerHTML = docLinkHtml;\n",
              "          element.appendChild(docLink);\n",
              "        }\n",
              "      </script>\n",
              "    </div>\n",
              "  </div>\n",
              "  "
            ],
            "text/plain": [
              "   Unnamed: 0               Name  Age  ... GKKicking GKPositioning  GKReflexes\n",
              "0           0           L. Messi   31  ...        15            14           8\n",
              "1           1  Cristiano Ronaldo   33  ...        15            14          11\n",
              "\n",
              "[2 rows x 42 columns]"
            ]
          },
          "metadata": {},
          "execution_count": 1
        }
      ]
    },
    {
      "cell_type": "markdown",
      "metadata": {
        "id": "ohH7dkOzz51w"
      },
      "source": [
        "Для следующего блока задач потребуется открыть уже известный набор данных о футболистах.\n",
        "\n",
        "### Задание 1\n",
        "\n",
        "Чему равен средний возраст (`Age`), футболистов в наборе данных, округлённый до целого?"
      ]
    },
    {
      "cell_type": "code",
      "metadata": {
        "id": "qqt7v21fz51w",
        "colab": {
          "base_uri": "https://localhost:8080/"
        },
        "outputId": "d2a3f353-963b-447c-e047-6611186e555b"
      },
      "source": [
        "np.around(df['Age'].mean())"
      ],
      "execution_count": null,
      "outputs": [
        {
          "output_type": "execute_result",
          "data": {
            "text/plain": [
              "25.0"
            ]
          },
          "metadata": {},
          "execution_count": 2
        }
      ]
    },
    {
      "cell_type": "markdown",
      "metadata": {
        "id": "GHIxuKfgz51w"
      },
      "source": [
        "### Задание 2\n",
        "\n",
        "Каково количество непустых строк в колонке `Composure` (Хладнокровие) набора данных о футболистах?\n"
      ]
    },
    {
      "cell_type": "code",
      "metadata": {
        "id": "KlwU8dwZz51w",
        "colab": {
          "base_uri": "https://localhost:8080/"
        },
        "outputId": "49c11e7c-8873-4d33-cae4-e8c42ba8d504"
      },
      "source": [
        "df['Composure'].count()"
      ],
      "execution_count": null,
      "outputs": [
        {
          "output_type": "execute_result",
          "data": {
            "text/plain": [
              "12897"
            ]
          },
          "metadata": {},
          "execution_count": 27
        }
      ]
    },
    {
      "cell_type": "markdown",
      "metadata": {
        "id": "erkk4LVxz51w"
      },
      "source": [
        "### Задание 3\n",
        "\n",
        "Каково в наборе данных о футболистах стандартное отклонение параметра коротких пасов (`ShortPassing`), округлённое до второго знака после запятой?"
      ]
    },
    {
      "cell_type": "code",
      "metadata": {
        "id": "aUQ-AVEBz51x",
        "colab": {
          "base_uri": "https://localhost:8080/"
        },
        "outputId": "ef1dfc63-9c3d-41e2-de91-a7f04356c9f4"
      },
      "source": [
        "round(df['ShortPassing'].std(),2)"
      ],
      "execution_count": null,
      "outputs": [
        {
          "output_type": "execute_result",
          "data": {
            "text/plain": [
              "14.74"
            ]
          },
          "metadata": {},
          "execution_count": 36
        }
      ]
    },
    {
      "cell_type": "markdown",
      "metadata": {
        "id": "dVICeH0zz51x"
      },
      "source": [
        "### Задание 4\n",
        "\n",
        "Какова сумма заработных плат за год (`Wage`) в наборе данных о футболистах?"
      ]
    },
    {
      "cell_type": "code",
      "metadata": {
        "id": "Kya4nu52z51x",
        "colab": {
          "base_uri": "https://localhost:8080/"
        },
        "outputId": "93ed43cc-9a6c-427a-cefc-827478cd1500"
      },
      "source": [
        "i = df['Wage'].sum()\n",
        "print(f'Сумма заработных плат за год = {i}')"
      ],
      "execution_count": null,
      "outputs": [
        {
          "output_type": "stream",
          "name": "stdout",
          "text": [
            "Сумма заработных плат за год = 96954000\n"
          ]
        }
      ]
    },
    {
      "cell_type": "markdown",
      "metadata": {
        "id": "Fg9Ej-Odz51x"
      },
      "source": [
        "### Задание 5\n",
        "\n",
        "Какова минимальная стоимость футболиста (`Value`) в наборе данных о футболистах?"
      ]
    },
    {
      "cell_type": "code",
      "metadata": {
        "id": "Fk8LPkDBz51x",
        "colab": {
          "base_uri": "https://localhost:8080/"
        },
        "outputId": "70c44aec-6e19-4538-a972-008de4cc0519"
      },
      "source": [
        "i = df['Value'].min()\n",
        "print(f'минимальная стоимость футболиста = {i}')"
      ],
      "execution_count": null,
      "outputs": [
        {
          "output_type": "stream",
          "name": "stdout",
          "text": [
            "минимальная стоимость футболиста = 0\n"
          ]
        },
        {
          "output_type": "execute_result",
          "data": {
            "text/plain": [
              "0"
            ]
          },
          "metadata": {},
          "execution_count": 39
        }
      ]
    },
    {
      "cell_type": "markdown",
      "metadata": {
        "id": "hvlbRKyRz51x"
      },
      "source": [
        "Часто возникает необходимость выбрать данные из `DataFrame` по определённому условию. Например, если в уже известном нам наборе данных о футболистах мы хотим выбрать только тех, у кого возраст больше 20 лет, используется следующий код:"
      ]
    },
    {
      "cell_type": "code",
      "metadata": {
        "id": "6mnIh3Vvz51x"
      },
      "source": [
        "import pandas as pd\n",
        "\n",
        "url = \"https://raw.githubusercontent.com/dm-fedorov/pandas_basic/master/data/football.csv\"\n",
        "df = pd.read_csv(url)"
      ],
      "execution_count": null,
      "outputs": []
    },
    {
      "cell_type": "code",
      "metadata": {
        "id": "b63-vNRUz51x"
      },
      "source": [
        "football[football.Age > 20]"
      ],
      "execution_count": null,
      "outputs": []
    },
    {
      "cell_type": "markdown",
      "metadata": {
        "id": "Z4dYE0-Hz51x"
      },
      "source": [
        "Синтаксис этой конструкции достаточно прост. Внутри квадратных скобок передается список из `True` или `False`, который показывает, какие строки `DataFrame` нужно оставить, а какие убрать. Этот список генерируется сравнением `Series` `football.Age` с 20.\n",
        "\n",
        "Можно для фильтрации использовать и методы получения статистических параметров. Например, если нам нужны только те футболисты, возраст которых больше среднего возраста футболистов, можно использовать следующую конструкцию:"
      ]
    },
    {
      "cell_type": "code",
      "metadata": {
        "id": "GnqBv0uGz51y"
      },
      "source": [
        "football[football.Age > football.Age.mean()]"
      ],
      "execution_count": null,
      "outputs": []
    },
    {
      "cell_type": "markdown",
      "metadata": {
        "id": "2EAh4aZNz51y"
      },
      "source": [
        "Условия можно и комбинировать, используя операторы `&` (логическое и) и `|` (логическое или). Условия при этом заключаются в скобки. Например, если мы хотим получить только тех футболистов, у которых возраст меньше среднего, или игроков `'FC Barcelona'`:"
      ]
    },
    {
      "cell_type": "code",
      "metadata": {
        "id": "FoOUzBUQz51y"
      },
      "source": [
        "football[(football.Age < football.Age.mean())|\n",
        "         (football.Club == 'FC Barcelona')]"
      ],
      "execution_count": null,
      "outputs": []
    },
    {
      "cell_type": "markdown",
      "metadata": {
        "id": "N3Qk27zFz51y"
      },
      "source": [
        "Статистические параметры можно посчитать и по отфильтрованному `DataFrame`, например среднюю заработную плату футболистов с возрастом меньше среднего и из `'FC Barcelona'`:"
      ]
    },
    {
      "cell_type": "code",
      "metadata": {
        "id": "SHgPwZzjz51y"
      },
      "source": [
        "football[(football.Age < football.Age.mean())&\n",
        "         (football.Club == 'FC Barcelona')].Wage.mean()"
      ],
      "execution_count": null,
      "outputs": []
    },
    {
      "cell_type": "markdown",
      "metadata": {
        "id": "0R6CQ0V_z51y"
      },
      "source": [
        "Здесь мы получили среднюю заработную плату за год футболистов с возрастом ниже среднего или из клуба FC Barcelona."
      ]
    },
    {
      "cell_type": "code",
      "source": [
        "df.sample(2)"
      ],
      "metadata": {
        "colab": {
          "base_uri": "https://localhost:8080/",
          "height": 228
        },
        "id": "Hveqv8Xa3oHz",
        "outputId": "ba30d154-bca1-47e3-804d-106ccc6b2de4"
      },
      "execution_count": null,
      "outputs": [
        {
          "output_type": "execute_result",
          "data": {
            "text/html": [
              "\n",
              "  <div id=\"df-cec3f9cd-67f1-440e-864d-8f6cbd1e435e\">\n",
              "    <div class=\"colab-df-container\">\n",
              "      <div>\n",
              "<style scoped>\n",
              "    .dataframe tbody tr th:only-of-type {\n",
              "        vertical-align: middle;\n",
              "    }\n",
              "\n",
              "    .dataframe tbody tr th {\n",
              "        vertical-align: top;\n",
              "    }\n",
              "\n",
              "    .dataframe thead th {\n",
              "        text-align: right;\n",
              "    }\n",
              "</style>\n",
              "<table border=\"1\" class=\"dataframe\">\n",
              "  <thead>\n",
              "    <tr style=\"text-align: right;\">\n",
              "      <th></th>\n",
              "      <th>Unnamed: 0</th>\n",
              "      <th>Name</th>\n",
              "      <th>Age</th>\n",
              "      <th>Nationality</th>\n",
              "      <th>Club</th>\n",
              "      <th>Value</th>\n",
              "      <th>Wage</th>\n",
              "      <th>Position</th>\n",
              "      <th>Crossing</th>\n",
              "      <th>Finishing</th>\n",
              "      <th>HeadingAccuracy</th>\n",
              "      <th>ShortPassing</th>\n",
              "      <th>Volleys</th>\n",
              "      <th>Dribbling</th>\n",
              "      <th>Curve</th>\n",
              "      <th>FKAccuracy</th>\n",
              "      <th>LongPassing</th>\n",
              "      <th>BallControl</th>\n",
              "      <th>Acceleration</th>\n",
              "      <th>SprintSpeed</th>\n",
              "      <th>Agility</th>\n",
              "      <th>Reactions</th>\n",
              "      <th>Balance</th>\n",
              "      <th>ShotPower</th>\n",
              "      <th>Jumping</th>\n",
              "      <th>Stamina</th>\n",
              "      <th>Strength</th>\n",
              "      <th>LongShots</th>\n",
              "      <th>Aggression</th>\n",
              "      <th>Interceptions</th>\n",
              "      <th>Positioning</th>\n",
              "      <th>Vision</th>\n",
              "      <th>Penalties</th>\n",
              "      <th>Composure</th>\n",
              "      <th>Marking</th>\n",
              "      <th>StandingTackle</th>\n",
              "      <th>SlidingTackle</th>\n",
              "      <th>GKDiving</th>\n",
              "      <th>GKHandling</th>\n",
              "      <th>GKKicking</th>\n",
              "      <th>GKPositioning</th>\n",
              "      <th>GKReflexes</th>\n",
              "    </tr>\n",
              "  </thead>\n",
              "  <tbody>\n",
              "    <tr>\n",
              "      <th>5106</th>\n",
              "      <td>5264</td>\n",
              "      <td>F. Beltrán</td>\n",
              "      <td>20</td>\n",
              "      <td>Mexico</td>\n",
              "      <td>Guadalajara</td>\n",
              "      <td>875000</td>\n",
              "      <td>7000</td>\n",
              "      <td>CM</td>\n",
              "      <td>53</td>\n",
              "      <td>51</td>\n",
              "      <td>50</td>\n",
              "      <td>68</td>\n",
              "      <td>52</td>\n",
              "      <td>65</td>\n",
              "      <td>58</td>\n",
              "      <td>53</td>\n",
              "      <td>66</td>\n",
              "      <td>69</td>\n",
              "      <td>70</td>\n",
              "      <td>74</td>\n",
              "      <td>75</td>\n",
              "      <td>63</td>\n",
              "      <td>91</td>\n",
              "      <td>62</td>\n",
              "      <td>51</td>\n",
              "      <td>59</td>\n",
              "      <td>65</td>\n",
              "      <td>60</td>\n",
              "      <td>57</td>\n",
              "      <td>56</td>\n",
              "      <td>53</td>\n",
              "      <td>67</td>\n",
              "      <td>56</td>\n",
              "      <td>66</td>\n",
              "      <td>61</td>\n",
              "      <td>57</td>\n",
              "      <td>55</td>\n",
              "      <td>10</td>\n",
              "      <td>13</td>\n",
              "      <td>8</td>\n",
              "      <td>10</td>\n",
              "      <td>10</td>\n",
              "    </tr>\n",
              "    <tr>\n",
              "      <th>9886</th>\n",
              "      <td>10091</td>\n",
              "      <td>T. Ivanof</td>\n",
              "      <td>20</td>\n",
              "      <td>Belgium</td>\n",
              "      <td>KV Kortrijk</td>\n",
              "      <td>325000</td>\n",
              "      <td>2000</td>\n",
              "      <td>CAM</td>\n",
              "      <td>58</td>\n",
              "      <td>48</td>\n",
              "      <td>40</td>\n",
              "      <td>60</td>\n",
              "      <td>47</td>\n",
              "      <td>64</td>\n",
              "      <td>52</td>\n",
              "      <td>60</td>\n",
              "      <td>51</td>\n",
              "      <td>66</td>\n",
              "      <td>76</td>\n",
              "      <td>62</td>\n",
              "      <td>70</td>\n",
              "      <td>58</td>\n",
              "      <td>80</td>\n",
              "      <td>51</td>\n",
              "      <td>72</td>\n",
              "      <td>51</td>\n",
              "      <td>45</td>\n",
              "      <td>46</td>\n",
              "      <td>47</td>\n",
              "      <td>28</td>\n",
              "      <td>46</td>\n",
              "      <td>57</td>\n",
              "      <td>44</td>\n",
              "      <td>56</td>\n",
              "      <td>21</td>\n",
              "      <td>28</td>\n",
              "      <td>39</td>\n",
              "      <td>10</td>\n",
              "      <td>10</td>\n",
              "      <td>14</td>\n",
              "      <td>7</td>\n",
              "      <td>5</td>\n",
              "    </tr>\n",
              "  </tbody>\n",
              "</table>\n",
              "</div>\n",
              "      <button class=\"colab-df-convert\" onclick=\"convertToInteractive('df-cec3f9cd-67f1-440e-864d-8f6cbd1e435e')\"\n",
              "              title=\"Convert this dataframe to an interactive table.\"\n",
              "              style=\"display:none;\">\n",
              "        \n",
              "  <svg xmlns=\"http://www.w3.org/2000/svg\" height=\"24px\"viewBox=\"0 0 24 24\"\n",
              "       width=\"24px\">\n",
              "    <path d=\"M0 0h24v24H0V0z\" fill=\"none\"/>\n",
              "    <path d=\"M18.56 5.44l.94 2.06.94-2.06 2.06-.94-2.06-.94-.94-2.06-.94 2.06-2.06.94zm-11 1L8.5 8.5l.94-2.06 2.06-.94-2.06-.94L8.5 2.5l-.94 2.06-2.06.94zm10 10l.94 2.06.94-2.06 2.06-.94-2.06-.94-.94-2.06-.94 2.06-2.06.94z\"/><path d=\"M17.41 7.96l-1.37-1.37c-.4-.4-.92-.59-1.43-.59-.52 0-1.04.2-1.43.59L10.3 9.45l-7.72 7.72c-.78.78-.78 2.05 0 2.83L4 21.41c.39.39.9.59 1.41.59.51 0 1.02-.2 1.41-.59l7.78-7.78 2.81-2.81c.8-.78.8-2.07 0-2.86zM5.41 20L4 18.59l7.72-7.72 1.47 1.35L5.41 20z\"/>\n",
              "  </svg>\n",
              "      </button>\n",
              "      \n",
              "  <style>\n",
              "    .colab-df-container {\n",
              "      display:flex;\n",
              "      flex-wrap:wrap;\n",
              "      gap: 12px;\n",
              "    }\n",
              "\n",
              "    .colab-df-convert {\n",
              "      background-color: #E8F0FE;\n",
              "      border: none;\n",
              "      border-radius: 50%;\n",
              "      cursor: pointer;\n",
              "      display: none;\n",
              "      fill: #1967D2;\n",
              "      height: 32px;\n",
              "      padding: 0 0 0 0;\n",
              "      width: 32px;\n",
              "    }\n",
              "\n",
              "    .colab-df-convert:hover {\n",
              "      background-color: #E2EBFA;\n",
              "      box-shadow: 0px 1px 2px rgba(60, 64, 67, 0.3), 0px 1px 3px 1px rgba(60, 64, 67, 0.15);\n",
              "      fill: #174EA6;\n",
              "    }\n",
              "\n",
              "    [theme=dark] .colab-df-convert {\n",
              "      background-color: #3B4455;\n",
              "      fill: #D2E3FC;\n",
              "    }\n",
              "\n",
              "    [theme=dark] .colab-df-convert:hover {\n",
              "      background-color: #434B5C;\n",
              "      box-shadow: 0px 1px 3px 1px rgba(0, 0, 0, 0.15);\n",
              "      filter: drop-shadow(0px 1px 2px rgba(0, 0, 0, 0.3));\n",
              "      fill: #FFFFFF;\n",
              "    }\n",
              "  </style>\n",
              "\n",
              "      <script>\n",
              "        const buttonEl =\n",
              "          document.querySelector('#df-cec3f9cd-67f1-440e-864d-8f6cbd1e435e button.colab-df-convert');\n",
              "        buttonEl.style.display =\n",
              "          google.colab.kernel.accessAllowed ? 'block' : 'none';\n",
              "\n",
              "        async function convertToInteractive(key) {\n",
              "          const element = document.querySelector('#df-cec3f9cd-67f1-440e-864d-8f6cbd1e435e');\n",
              "          const dataTable =\n",
              "            await google.colab.kernel.invokeFunction('convertToInteractive',\n",
              "                                                     [key], {});\n",
              "          if (!dataTable) return;\n",
              "\n",
              "          const docLinkHtml = 'Like what you see? Visit the ' +\n",
              "            '<a target=\"_blank\" href=https://colab.research.google.com/notebooks/data_table.ipynb>data table notebook</a>'\n",
              "            + ' to learn more about interactive tables.';\n",
              "          element.innerHTML = '';\n",
              "          dataTable['output_type'] = 'display_data';\n",
              "          await google.colab.output.renderOutput(dataTable, element);\n",
              "          const docLink = document.createElement('div');\n",
              "          docLink.innerHTML = docLinkHtml;\n",
              "          element.appendChild(docLink);\n",
              "        }\n",
              "      </script>\n",
              "    </div>\n",
              "  </div>\n",
              "  "
            ],
            "text/plain": [
              "      Unnamed: 0        Name  Age  ... GKKicking GKPositioning  GKReflexes\n",
              "5106        5264  F. Beltrán   20  ...         8            10          10\n",
              "9886       10091   T. Ivanof   20  ...        14             7           5\n",
              "\n",
              "[2 rows x 42 columns]"
            ]
          },
          "metadata": {},
          "execution_count": 2
        }
      ]
    },
    {
      "cell_type": "markdown",
      "metadata": {
        "id": "A1nir-Ddz51y"
      },
      "source": [
        "### Задание 1\n",
        "Какова средняя скорость (`SprintSpeed`) футболистов, зарплата (`Wage`) которых выше среднего? Ответ округлите до сотых."
      ]
    },
    {
      "cell_type": "code",
      "metadata": {
        "id": "Rfx5eUJQz51z",
        "colab": {
          "base_uri": "https://localhost:8080/"
        },
        "outputId": "366cf798-7b45-4d1a-bed2-427e14c22870"
      },
      "source": [
        "np.around(df[df.Wage > df.Wage.mean()].SprintSpeed.mean(),2)"
      ],
      "execution_count": null,
      "outputs": [
        {
          "output_type": "execute_result",
          "data": {
            "text/plain": [
              "67.57"
            ]
          },
          "metadata": {},
          "execution_count": 58
        }
      ]
    },
    {
      "cell_type": "markdown",
      "metadata": {
        "id": "ZcI4iASPz51z"
      },
      "source": [
        "### Задание 2\n",
        "\n",
        "Какова средняя скорость (`SprintSpeed`) футболистов, зарплата (`Wage`) которых ниже среднего? Ответ округлите до сотых."
      ]
    },
    {
      "cell_type": "code",
      "metadata": {
        "id": "LTh6W-7ez51z",
        "colab": {
          "base_uri": "https://localhost:8080/"
        },
        "outputId": "7ef68502-5d81-4d5d-a6d4-a935db40c7b3"
      },
      "source": [
        "np.around(df[df.Wage < df.Wage.mean()].SprintSpeed.mean(),2)"
      ],
      "execution_count": null,
      "outputs": [
        {
          "output_type": "execute_result",
          "data": {
            "text/plain": [
              "62.41"
            ]
          },
          "metadata": {},
          "execution_count": 59
        }
      ]
    },
    {
      "cell_type": "markdown",
      "metadata": {
        "id": "nPnX70gEz51z"
      },
      "source": [
        "### Задание 3\n",
        "\n",
        "Какую позицию (`Position`) занимает футболист с самой высокой зарплатой (`Wage`)?"
      ]
    },
    {
      "cell_type": "code",
      "metadata": {
        "id": "TRK1AJhFz51z",
        "colab": {
          "base_uri": "https://localhost:8080/"
        },
        "outputId": "74bce799-cafb-4fbe-c837-161c0a01bdfb"
      },
      "source": [
        "i = df[df.Wage == df.Wage.max()].Position\n",
        "print(f'Человек с самой большой ЗП находится на позиции: {i}')"
      ],
      "execution_count": null,
      "outputs": [
        {
          "output_type": "stream",
          "name": "stdout",
          "text": [
            "Человек с самой большой ЗП находится на позиции: 0    RF\n",
            "Name: Position, dtype: object\n"
          ]
        }
      ]
    },
    {
      "cell_type": "code",
      "source": [
        "df[df.Wage == df.Wage.max()].index"
      ],
      "metadata": {
        "colab": {
          "base_uri": "https://localhost:8080/"
        },
        "id": "owVRp3crA0Ji",
        "outputId": "dd6b2d96-767e-44f5-ca76-b192b7c8afb0"
      },
      "execution_count": null,
      "outputs": [
        {
          "output_type": "execute_result",
          "data": {
            "text/plain": [
              "Int64Index([0], dtype='int64')"
            ]
          },
          "metadata": {},
          "execution_count": 61
        }
      ]
    },
    {
      "cell_type": "markdown",
      "metadata": {
        "id": "ry0FYpqQz51z"
      },
      "source": [
        "### Задание 4\n",
        "\n",
        "Сколько пенальти (`Penalties`) забили бразильские (`Nationality, Brazil`) футболисты за период, данные о котором представлены в датасете?"
      ]
    },
    {
      "cell_type": "code",
      "metadata": {
        "id": "LiP4yNEqz51z",
        "colab": {
          "base_uri": "https://localhost:8080/"
        },
        "outputId": "797d6bc4-45e5-48e8-e93a-c44ccb20603a"
      },
      "source": [
        "df[df['Nationality'] == 'Brazil'].Penalties.sum()"
      ],
      "execution_count": null,
      "outputs": [
        {
          "output_type": "execute_result",
          "data": {
            "text/plain": [
              "22789"
            ]
          },
          "metadata": {},
          "execution_count": 62
        }
      ]
    },
    {
      "cell_type": "markdown",
      "metadata": {
        "id": "FsMpk3Hpz51z"
      },
      "source": [
        "### Задание 5\n",
        "\n",
        "Укажите средний возраст (`Age`) игроков, у которых точность удара головой `(HeadingAccuracy) > 50`. Ответ округлите до сотых."
      ]
    },
    {
      "cell_type": "code",
      "metadata": {
        "id": "lJ4ITnHPz51z",
        "colab": {
          "base_uri": "https://localhost:8080/"
        },
        "outputId": "4ea16483-4a0b-47d2-88fb-7465bf9640b4"
      },
      "source": [
        "np.around(df[df.HeadingAccuracy > 50].Age.mean(),2)"
      ],
      "execution_count": null,
      "outputs": [
        {
          "output_type": "execute_result",
          "data": {
            "text/plain": [
              "25.59"
            ]
          },
          "metadata": {},
          "execution_count": 63
        }
      ]
    },
    {
      "cell_type": "markdown",
      "metadata": {
        "id": "lWqv-Klcz510"
      },
      "source": [
        "### Задание 6\n",
        "\n",
        "Укажите возраст (`Age`) самого молодого игрока, у которого хладнокровие (`Composure`) и реакция (`Reactions`) превышают 90% от максимального значения, представленного в датасете."
      ]
    },
    {
      "cell_type": "code",
      "source": [
        "df[(df.Composure > df.Composure.max()*0.9) & (df.Reactions > df.Reactions.max()*0.9)].Age.min()"
      ],
      "metadata": {
        "colab": {
          "base_uri": "https://localhost:8080/"
        },
        "id": "Pb4y_5VhCNNp",
        "outputId": "5c9d6399-43e1-422f-c3fe-10377af8d6f8"
      },
      "execution_count": null,
      "outputs": [
        {
          "output_type": "execute_result",
          "data": {
            "text/plain": [
              "24"
            ]
          },
          "metadata": {},
          "execution_count": 64
        }
      ]
    },
    {
      "cell_type": "markdown",
      "metadata": {
        "id": "_Yl_fhDXz510"
      },
      "source": [
        "### Задание 7\n",
        "\n",
        "Определите, насколько средняя реакция (`Reactions`) самых взрослых игроков (т.е. игроков, чей возраст (`Age`) равен максимальному) больше средней реакции самых молодых игроков. Ответ округлите до сотых."
      ]
    },
    {
      "cell_type": "code",
      "metadata": {
        "id": "RpzerQcxz510",
        "colab": {
          "base_uri": "https://localhost:8080/"
        },
        "outputId": "74baefc6-1d38-480b-dcc8-1746fc73173c"
      },
      "source": [
        "np.around((df[df.Age == df.Age.max()].Reactions.mean() - df[df.Age == df.Age.min()].Reactions.mean()),2)"
      ],
      "execution_count": null,
      "outputs": [
        {
          "output_type": "execute_result",
          "data": {
            "text/plain": [
              "22.64"
            ]
          },
          "metadata": {},
          "execution_count": 65
        }
      ]
    },
    {
      "cell_type": "markdown",
      "metadata": {
        "id": "pMjaWkbBz510"
      },
      "source": [
        "### Задание 8\n",
        "\n",
        "Из какой страны (`Nationality`) происходит больше всего игроков, чья стоимость (`Value`) превышает среднее значение?"
      ]
    },
    {
      "cell_type": "code",
      "source": [
        "df[df.Value > df.Value.mean()].Nationality.value_counts().head(1)"
      ],
      "metadata": {
        "colab": {
          "base_uri": "https://localhost:8080/"
        },
        "id": "809vI1TnRC8j",
        "outputId": "b9eb24ba-be43-491a-ab26-692d10342fc7"
      },
      "execution_count": null,
      "outputs": [
        {
          "output_type": "execute_result",
          "data": {
            "text/plain": [
              "Spain    211\n",
              "Name: Nationality, dtype: int64"
            ]
          },
          "metadata": {},
          "execution_count": 66
        }
      ]
    },
    {
      "cell_type": "code",
      "source": [
        "df[df.Value > df.Value.mean()].Nationality.value_counts().index[0]"
      ],
      "metadata": {
        "colab": {
          "base_uri": "https://localhost:8080/",
          "height": 35
        },
        "id": "MqXvWbohq4AD",
        "outputId": "46fd50d6-f5e4-4a3c-c695-84f1d7bf8312"
      },
      "execution_count": null,
      "outputs": [
        {
          "output_type": "execute_result",
          "data": {
            "application/vnd.google.colaboratory.intrinsic+json": {
              "type": "string"
            },
            "text/plain": [
              "'Spain'"
            ]
          },
          "metadata": {},
          "execution_count": 8
        }
      ]
    },
    {
      "cell_type": "code",
      "source": [
        "df[df.Value > df.Value.mean()].Nationality.describe().top"
      ],
      "metadata": {
        "colab": {
          "base_uri": "https://localhost:8080/",
          "height": 35
        },
        "id": "9sUPFqVTtvHk",
        "outputId": "634522dc-2e0b-4813-e64e-8556e766439d"
      },
      "execution_count": null,
      "outputs": [
        {
          "output_type": "execute_result",
          "data": {
            "application/vnd.google.colaboratory.intrinsic+json": {
              "type": "string"
            },
            "text/plain": [
              "'Spain'"
            ]
          },
          "metadata": {},
          "execution_count": 12
        }
      ]
    },
    {
      "cell_type": "markdown",
      "metadata": {
        "id": "o54AJeOGz510"
      },
      "source": [
        "### Задание 9\n",
        "\n",
        "Определите, во сколько раз средняя зарплата (`Wage`) голкипера (`Position, GK`) с максимальным значением показателя \"Рефлексы\" (`GKReflexes`) выше средней зарплаты голкипера с максимальным значением показателя \"Владение мячом\" (`GKHandling`). Ответ округлите до сотых."
      ]
    },
    {
      "cell_type": "code",
      "source": [
        "i = df[(df.Position == 'GK') & (df.GKReflexes == df.GKReflexes.max())].Wage.mean()\n",
        "g = df[(df.Position == 'GK') & (df.GKHandling == df.GKHandling.max())].Wage.mean()\n",
        "s = {'1-й голкипер': i, '2-й голкипер': g, 'Во сколько раз': round(i/g,2)}\n",
        "f = pd.DataFrame(s,index = ['Результат'])\n",
        "print(f)"
      ],
      "metadata": {
        "colab": {
          "base_uri": "https://localhost:8080/"
        },
        "id": "h47G5IS6KUuW",
        "outputId": "2537fef1-34e8-4f67-ccc0-6bd668d649e6"
      },
      "execution_count": null,
      "outputs": [
        {
          "output_type": "stream",
          "name": "stdout",
          "text": [
            "           1-й голкипер  2-й голкипер  Во сколько раз\n",
            "Результат      260000.0       94000.0            2.77\n"
          ]
        }
      ]
    },
    {
      "cell_type": "markdown",
      "metadata": {
        "id": "jq8SGA68z510"
      },
      "source": [
        "### Задание 10\n",
        "\n",
        "Определите, во сколько раз средняя сила удара (`ShotPower`) самых агрессивных игроков (игроков с максимальным значением показателя \"Агрессивность\" (`Aggression`)) выше силы удара игроков с минимальной агрессией. Ответ округлите до сотых."
      ]
    },
    {
      "cell_type": "code",
      "source": [
        "i = df[df.Aggression == df.Aggression.max()].ShotPower.mean()\n",
        "j = df[df.Aggression == df.Aggression.min()].ShotPower.mean()\n",
        "s = {'Максимально агрессивный': i, 'Минимально агрессивный': j, 'Во сколько раз': round(i/j,2)}\n",
        "f = pd.DataFrame(s,index = ['Результат'])\n",
        "print(f)"
      ],
      "metadata": {
        "colab": {
          "base_uri": "https://localhost:8080/"
        },
        "id": "zDplULB6Nx06",
        "outputId": "3f3a2241-3493-46ef-9e6a-62fe524723bb"
      },
      "execution_count": null,
      "outputs": [
        {
          "output_type": "stream",
          "name": "stdout",
          "text": [
            "           Максимально агрессивный  Минимально агрессивный  Во сколько раз\n",
            "Результат                     63.0               30.333333            2.08\n"
          ]
        }
      ]
    }
  ]
}