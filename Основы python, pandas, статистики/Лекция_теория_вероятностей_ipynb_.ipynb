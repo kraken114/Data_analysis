{
  "nbformat": 4,
  "nbformat_minor": 0,
  "metadata": {
    "colab": {
      "provenance": [],
      "collapsed_sections": [
        "u4qRx-ajZFDW",
        "JDudF6lifJkC",
        "GZcZWiOLsjCc",
        "MpbPi2i6ww0p",
        "1Ae24pxB7Wqn",
        "EoWnlO9Y7ZmQ",
        "o4AFxCahCtCR",
        "Yv8Z7jZNDd19",
        "3SqEwM-BDl5u",
        "p40u4Bz67daM",
        "FTQxCoyGKvjm",
        "Olb3hnRbLJbu",
        "Js0sPdRnLe7S",
        "vaKIIb41OGWc",
        "et-MgBmAL7Yp",
        "GEVwHvv5PxX6"
      ]
    },
    "kernelspec": {
      "name": "python3",
      "display_name": "Python 3"
    },
    "language_info": {
      "name": "python"
    }
  },
  "cells": [
    {
      "cell_type": "markdown",
      "source": [
        "# Основы статистики. Нормальное распределение. Правило трех сигм."
      ],
      "metadata": {
        "id": "MB-3rHw27lLV"
      }
    },
    {
      "cell_type": "markdown",
      "source": [
        "## Что такое вероятность?"
      ],
      "metadata": {
        "id": "f7clCzUt7wXu"
      }
    },
    {
      "cell_type": "code",
      "source": [
        "import pandas as pd\n",
        "import numpy as np"
      ],
      "metadata": {
        "id": "sYwpn4_jWaZM"
      },
      "execution_count": null,
      "outputs": []
    },
    {
      "cell_type": "code",
      "source": [
        "import random\n",
        "\n",
        "EXPERIMENTS_NUMBER = 10\n",
        "\n",
        "# Достаем из \"коробки\" предметы разного цвета, какова вероятность вытащить красный предмет?\n",
        "box = ['red', 'red', 'green', 'blue', 'blue', 'blue']\n",
        "results = []\n",
        "\n",
        "# Проводим несколько испытаний\n",
        "for _ in range(EXPERIMENTS_NUMBER):\n",
        "  results.append(random.choice(box))\n",
        "count_of_reds = sum(list(map(lambda x: x == 'red', results)))\n",
        "\n",
        "# Отношение числа \"благоприятных исходов\" к их общему количеству\n",
        "count_of_reds / len(results)"
      ],
      "metadata": {
        "id": "EoiDyQ-d70UQ",
        "colab": {
          "base_uri": "https://localhost:8080/"
        },
        "outputId": "8d28a38a-44ca-4fef-c131-9d932102fbe3"
      },
      "execution_count": null,
      "outputs": [
        {
          "output_type": "execute_result",
          "data": {
            "text/plain": [
              "0.3"
            ]
          },
          "metadata": {},
          "execution_count": 3
        }
      ]
    },
    {
      "cell_type": "code",
      "source": [
        "2 / 6"
      ],
      "metadata": {
        "colab": {
          "base_uri": "https://localhost:8080/"
        },
        "id": "jT4xNFC3_5Fx",
        "outputId": "cf84357b-9737-404b-a957-45cb204a7adb"
      },
      "execution_count": null,
      "outputs": [
        {
          "output_type": "execute_result",
          "data": {
            "text/plain": [
              "0.3333333333333333"
            ]
          },
          "metadata": {},
          "execution_count": 20
        }
      ]
    },
    {
      "cell_type": "markdown",
      "source": [
        "Вероятность — это частота благоприятных исходов или степень нашей уверенности в том, что событие случится?"
      ],
      "metadata": {
        "id": "QpTu0POMAC7F"
      }
    },
    {
      "cell_type": "markdown",
      "source": [
        "  ## Вероятность и случайная величина\n"
      ],
      "metadata": {
        "id": "7YEPtYjmI4HI"
      }
    },
    {
      "cell_type": "code",
      "source": [
        "# Представим, что в нашей \"коробке\" теперь находятся не цвета, а числа\n",
        "EXPERIMENTS_NUMBER = 1000\n",
        "\n",
        "box = [3, 3, 5, 4, 4, 4]\n",
        "results = []\n",
        "\n",
        "# Проводим несколько испытаний\n",
        "for _ in range(EXPERIMENTS_NUMBER):\n",
        "  results.append(random.choice(box))\n",
        "\n",
        "results[:10]"
      ],
      "metadata": {
        "colab": {
          "base_uri": "https://localhost:8080/"
        },
        "id": "FpCBAT-NJJfT",
        "outputId": "e2f7a5b9-2ff1-47d7-cac5-8c52d163c543"
      },
      "execution_count": null,
      "outputs": [
        {
          "output_type": "execute_result",
          "data": {
            "text/plain": [
              "[4, 4, 4, 3, 3, 3, 4, 3, 4, 5]"
            ]
          },
          "metadata": {},
          "execution_count": 7
        }
      ]
    },
    {
      "cell_type": "code",
      "source": [
        "print(f'Количество 3: {results.count(3)}. Вероятность получить 3 = {results.count(3) / len(results)}')\n",
        "print(f'Количество 4: {results.count(4)}. Вероятность получить 4 = {results.count(4) / len(results)}')\n",
        "print(f'Количество 5: {results.count(5)}. Вероятность получить 5 = {results.count(5) / len(results)}')"
      ],
      "metadata": {
        "colab": {
          "base_uri": "https://localhost:8080/"
        },
        "id": "i4Q2bP9fJtzP",
        "outputId": "8c8a4ce0-3bd2-4078-8104-4df3f2eb1a43"
      },
      "execution_count": null,
      "outputs": [
        {
          "output_type": "stream",
          "name": "stdout",
          "text": [
            "Количество 3: 334. Вероятность получить 3 = 0.334\n",
            "Количество 4: 498. Вероятность получить 4 = 0.498\n",
            "Количество 5: 168. Вероятность получить 5 = 0.168\n"
          ]
        }
      ]
    },
    {
      "cell_type": "code",
      "source": [
        "import matplotlib.pyplot as plt\n",
        "plt.hist(results)"
      ],
      "metadata": {
        "colab": {
          "base_uri": "https://localhost:8080/",
          "height": 317
        },
        "id": "ricP7UA0Kd9e",
        "outputId": "198138de-faf0-4c91-d635-5ce6da92bb07"
      },
      "execution_count": null,
      "outputs": [
        {
          "output_type": "execute_result",
          "data": {
            "text/plain": [
              "(array([322.,   0.,   0.,   0.,   0., 493.,   0.,   0.,   0., 185.]),\n",
              " array([3. , 3.2, 3.4, 3.6, 3.8, 4. , 4.2, 4.4, 4.6, 4.8, 5. ]),\n",
              " <a list of 10 Patch objects>)"
            ]
          },
          "metadata": {},
          "execution_count": 6
        },
        {
          "output_type": "display_data",
          "data": {
            "image/png": "[encoded data removed]",
            "text/plain": [
              "<Figure size 432x288 with 1 Axes>"
            ]
          },
          "metadata": {
            "needs_background": "light"
          }
        }
      ]
    },
    {
      "cell_type": "code",
      "source": [
        "pd.Series(results, name='experiment_results')"
      ],
      "metadata": {
        "colab": {
          "base_uri": "https://localhost:8080/"
        },
        "id": "22FXRAp4WRQ3",
        "outputId": "a943861f-f15a-48f1-8a33-6efc4f7da75e"
      },
      "execution_count": null,
      "outputs": [
        {
          "output_type": "execute_result",
          "data": {
            "text/plain": [
              "0      4\n",
              "1      4\n",
              "2      4\n",
              "3      3\n",
              "4      3\n",
              "      ..\n",
              "995    5\n",
              "996    4\n",
              "997    4\n",
              "998    4\n",
              "999    4\n",
              "Name: experiment_results, Length: 1000, dtype: int64"
            ]
          },
          "metadata": {},
          "execution_count": 11
        }
      ]
    },
    {
      "cell_type": "code",
      "source": [
        "# Создаем Pandas Series из списка результатов, так будет удобнее работать\n",
        "exp_results = pd.Series(results, name='experiment_results')\n",
        "# Получаем количества уникальных значений\n",
        "print(exp_results.value_counts())\n",
        "exp_probabilities = exp_results.value_counts() / len(results)\n",
        "print(exp_probabilities)\n",
        "plt.bar(height=exp_probabilities, x=exp_probabilities.index)"
      ],
      "metadata": {
        "colab": {
          "base_uri": "https://localhost:8080/",
          "height": 421
        },
        "id": "YxmWa4bJNHym",
        "outputId": "33de0d96-2dc3-4818-f6a6-d64a5cf53f96"
      },
      "execution_count": null,
      "outputs": [
        {
          "output_type": "stream",
          "name": "stdout",
          "text": [
            "4    511\n",
            "3    332\n",
            "5    157\n",
            "Name: experiment_results, dtype: int64\n",
            "4    0.511\n",
            "3    0.332\n",
            "5    0.157\n",
            "Name: experiment_results, dtype: float64\n"
          ]
        },
        {
          "output_type": "execute_result",
          "data": {
            "text/plain": [
              "<BarContainer object of 3 artists>"
            ]
          },
          "metadata": {},
          "execution_count": 12
        },
        {
          "output_type": "display_data",
          "data": {
            "image/png": "[encoded data removed]",
            "text/plain": [
              "<Figure size 432x288 with 1 Axes>"
            ]
          },
          "metadata": {
            "needs_background": "light"
          }
        }
      ]
    },
    {
      "cell_type": "markdown",
      "source": [
        "Обратите внимение, что вероятность получить значения, отличные от 3, 4 и 5 равна 0. Сумма всех вероятностей равна 1 (мы указали все исходы нашего эксперимента)."
      ],
      "metadata": {
        "id": "2najDdGeLtEb"
      }
    },
    {
      "cell_type": "markdown",
      "source": [
        "## Какие бывают данные и как с ними работать?"
      ],
      "metadata": {
        "id": "41dqbyFkQ13B"
      }
    },
    {
      "cell_type": "markdown",
      "source": [
        "![data-types[1].jpg](data:image/jpeg;base64,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)"
      ],
      "metadata": {
        "id": "gPcKu9AoS0mf"
      }
    },
    {
      "cell_type": "markdown",
      "source": [
        "URL: https://datstat.ru/tipyi-dannyih-v-statistike/"
      ],
      "metadata": {
        "id": "ao-m5Ri0TvRm"
      }
    },
    {
      "cell_type": "markdown",
      "source": [
        "### Количественные непрерывные данные"
      ],
      "metadata": {
        "id": "qa0sKaXeUgxj"
      }
    },
    {
      "cell_type": "code",
      "source": [
        "import pandas as pd\n",
        "df_cars = pd.read_csv('https://raw.githubusercontent.com/mwaskom/seaborn-data/master/mpg.csv')\n",
        "df_cars.head(1)"
      ],
      "metadata": {
        "colab": {
          "base_uri": "https://localhost:8080/",
          "height": 81
        },
        "id": "awABArIvQQd_",
        "outputId": "7e0cd886-a2ad-4fe1-a9b4-09aa5e78655f"
      },
      "execution_count": null,
      "outputs": [
        {
          "output_type": "execute_result",
          "data": {
            "text/html": [
              "\n",
              "  <div id=\"df-5f74d9fd-3abb-4646-9dfc-46027d347efb\">\n",
              "    <div class=\"colab-df-container\">\n",
              "      <div>\n",
              "<style scoped>\n",
              "    .dataframe tbody tr th:only-of-type {\n",
              "        vertical-align: middle;\n",
              "    }\n",
              "\n",
              "    .dataframe tbody tr th {\n",
              "        vertical-align: top;\n",
              "    }\n",
              "\n",
              "    .dataframe thead th {\n",
              "        text-align: right;\n",
              "    }\n",
              "</style>\n",
              "<table border=\"1\" class=\"dataframe\">\n",
              "  <thead>\n",
              "    <tr style=\"text-align: right;\">\n",
              "      <th></th>\n",
              "      <th>mpg</th>\n",
              "      <th>cylinders</th>\n",
              "      <th>displacement</th>\n",
              "      <th>horsepower</th>\n",
              "      <th>weight</th>\n",
              "      <th>acceleration</th>\n",
              "      <th>model_year</th>\n",
              "      <th>origin</th>\n",
              "      <th>name</th>\n",
              "    </tr>\n",
              "  </thead>\n",
              "  <tbody>\n",
              "    <tr>\n",
              "      <th>0</th>\n",
              "      <td>18.0</td>\n",
              "      <td>8</td>\n",
              "      <td>307.0</td>\n",
              "      <td>130.0</td>\n",
              "      <td>3504</td>\n",
              "      <td>12.0</td>\n",
              "      <td>70</td>\n",
              "      <td>usa</td>\n",
              "      <td>chevrolet chevelle malibu</td>\n",
              "    </tr>\n",
              "  </tbody>\n",
              "</table>\n",
              "</div>\n",
              "      <button class=\"colab-df-convert\" onclick=\"convertToInteractive('df-5f74d9fd-3abb-4646-9dfc-46027d347efb')\"\n",
              "              title=\"Convert this dataframe to an interactive table.\"\n",
              "              style=\"display:none;\">\n",
              "        \n",
              "  <svg xmlns=\"http://www.w3.org/2000/svg\" height=\"24px\"viewBox=\"0 0 24 24\"\n",
              "       width=\"24px\">\n",
              "    <path d=\"M0 0h24v24H0V0z\" fill=\"none\"/>\n",
              "    <path d=\"M18.56 5.44l.94 2.06.94-2.06 2.06-.94-2.06-.94-.94-2.06-.94 2.06-2.06.94zm-11 1L8.5 8.5l.94-2.06 2.06-.94-2.06-.94L8.5 2.5l-.94 2.06-2.06.94zm10 10l.94 2.06.94-2.06 2.06-.94-2.06-.94-.94-2.06-.94 2.06-2.06.94z\"/><path d=\"M17.41 7.96l-1.37-1.37c-.4-.4-.92-.59-1.43-.59-.52 0-1.04.2-1.43.59L10.3 9.45l-7.72 7.72c-.78.78-.78 2.05 0 2.83L4 21.41c.39.39.9.59 1.41.59.51 0 1.02-.2 1.41-.59l7.78-7.78 2.81-2.81c.8-.78.8-2.07 0-2.86zM5.41 20L4 18.59l7.72-7.72 1.47 1.35L5.41 20z\"/>\n",
              "  </svg>\n",
              "      </button>\n",
              "      \n",
              "  <style>\n",
              "    .colab-df-container {\n",
              "      display:flex;\n",
              "      flex-wrap:wrap;\n",
              "      gap: 12px;\n",
              "    }\n",
              "\n",
              "    .colab-df-convert {\n",
              "      background-color: #E8F0FE;\n",
              "      border: none;\n",
              "      border-radius: 50%;\n",
              "      cursor: pointer;\n",
              "      display: none;\n",
              "      fill: #1967D2;\n",
              "      height: 32px;\n",
              "      padding: 0 0 0 0;\n",
              "      width: 32px;\n",
              "    }\n",
              "\n",
              "    .colab-df-convert:hover {\n",
              "      background-color: #E2EBFA;\n",
              "      box-shadow: 0px 1px 2px rgba(60, 64, 67, 0.3), 0px 1px 3px 1px rgba(60, 64, 67, 0.15);\n",
              "      fill: #174EA6;\n",
              "    }\n",
              "\n",
              "    [theme=dark] .colab-df-convert {\n",
              "      background-color: #3B4455;\n",
              "      fill: #D2E3FC;\n",
              "    }\n",
              "\n",
              "    [theme=dark] .colab-df-convert:hover {\n",
              "      background-color: #434B5C;\n",
              "      box-shadow: 0px 1px 3px 1px rgba(0, 0, 0, 0.15);\n",
              "      filter: drop-shadow(0px 1px 2px rgba(0, 0, 0, 0.3));\n",
              "      fill: #FFFFFF;\n",
              "    }\n",
              "  </style>\n",
              "\n",
              "      <script>\n",
              "        const buttonEl =\n",
              "          document.querySelector('#df-5f74d9fd-3abb-4646-9dfc-46027d347efb button.colab-df-convert');\n",
              "        buttonEl.style.display =\n",
              "          google.colab.kernel.accessAllowed ? 'block' : 'none';\n",
              "\n",
              "        async function convertToInteractive(key) {\n",
              "          const element = document.querySelector('#df-5f74d9fd-3abb-4646-9dfc-46027d347efb');\n",
              "          const dataTable =\n",
              "            await google.colab.kernel.invokeFunction('convertToInteractive',\n",
              "                                                     [key], {});\n",
              "          if (!dataTable) return;\n",
              "\n",
              "          const docLinkHtml = 'Like what you see? Visit the ' +\n",
              "            '<a target=\"_blank\" href=https://colab.research.google.com/notebooks/data_table.ipynb>data table notebook</a>'\n",
              "            + ' to learn more about interactive tables.';\n",
              "          element.innerHTML = '';\n",
              "          dataTable['output_type'] = 'display_data';\n",
              "          await google.colab.output.renderOutput(dataTable, element);\n",
              "          const docLink = document.createElement('div');\n",
              "          docLink.innerHTML = docLinkHtml;\n",
              "          element.appendChild(docLink);\n",
              "        }\n",
              "      </script>\n",
              "    </div>\n",
              "  </div>\n",
              "  "
            ],
            "text/plain": [
              "    mpg  cylinders  displacement  ...  model_year  origin                       name\n",
              "0  18.0          8         307.0  ...          70     usa  chevrolet chevelle malibu\n",
              "\n",
              "[1 rows x 9 columns]"
            ]
          },
          "metadata": {},
          "execution_count": 2
        }
      ]
    },
    {
      "cell_type": "code",
      "source": [
        "df_cars.displacement.mean()"
      ],
      "metadata": {
        "colab": {
          "base_uri": "https://localhost:8080/"
        },
        "id": "b7bPlNmzLCZ3",
        "outputId": "98800aba-4893-44bc-dae2-f117f957ba97"
      },
      "execution_count": null,
      "outputs": [
        {
          "output_type": "execute_result",
          "data": {
            "text/plain": [
              "193.42587939698493"
            ]
          },
          "metadata": {},
          "execution_count": 5
        }
      ]
    },
    {
      "cell_type": "code",
      "source": [
        "df_cars.displacement.median()"
      ],
      "metadata": {
        "colab": {
          "base_uri": "https://localhost:8080/"
        },
        "id": "QV04D-yzLX8T",
        "outputId": "01e5e81d-b8a5-4d0c-bbf8-465e068e0c73"
      },
      "execution_count": null,
      "outputs": [
        {
          "output_type": "execute_result",
          "data": {
            "text/plain": [
              "148.5"
            ]
          },
          "metadata": {},
          "execution_count": 6
        }
      ]
    },
    {
      "cell_type": "code",
      "source": [
        "df_cars.displacement.mode()"
      ],
      "metadata": {
        "colab": {
          "base_uri": "https://localhost:8080/"
        },
        "id": "KNwk64g6LMhF",
        "outputId": "8e411154-5328-4a1a-9a27-95a89c776a20"
      },
      "execution_count": null,
      "outputs": [
        {
          "output_type": "execute_result",
          "data": {
            "text/plain": [
              "0    97.0\n",
              "dtype: float64"
            ]
          },
          "metadata": {},
          "execution_count": 7
        }
      ]
    },
    {
      "cell_type": "markdown",
      "source": [
        "Примерами количественных непрерывных данных являются: mpg (расход топлива),  displacement (объем двигателя), horsepower (мощность двигателя), weight (вес в кг), acceleration (ускорение). Наиболее часто используется float для хранения таких данных."
      ],
      "metadata": {
        "id": "YrLpf_XhX3Oy"
      }
    },
    {
      "cell_type": "markdown",
      "source": [
        "### Количественные дискретные данные"
      ],
      "metadata": {
        "id": "u4qRx-ajZFDW"
      }
    },
    {
      "cell_type": "markdown",
      "source": [
        "Эти данные определены только среди целочисленных значений. В данном датасете примерами таких данных являются cylinders (количество цилиндров) и model_year (год выпуска модели). Часто используется для обозначения количества объектов. Наиболее часто используется тип int для таких данных."
      ],
      "metadata": {
        "id": "MkGgKGVNZLX1"
      }
    },
    {
      "cell_type": "markdown",
      "source": [
        "![798[1].jpg](data:image/jpeg;base64,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)"
      ],
      "metadata": {
        "id": "eotHY2QhaJFC"
      }
    },
    {
      "cell_type": "markdown",
      "source": [
        "Обратите внимание, если исходные дискретные данные имеют тип float, то возможно есть ошибка и/или пропущенные значения."
      ],
      "metadata": {
        "id": "iFsYPh_2axe0"
      }
    },
    {
      "cell_type": "code",
      "source": [
        "df_cars_wrong = df_cars.copy()\n",
        "df_cars_wrong.loc[12, 'cylinders'] = None\n",
        "df_cars_wrong.loc[8, 'cylinders'] = 7.5"
      ],
      "metadata": {
        "id": "xATFF9E7ZK2e"
      },
      "execution_count": null,
      "outputs": []
    },
    {
      "cell_type": "code",
      "source": [
        "df_cars_wrong.head(13)"
      ],
      "metadata": {
        "id": "dSZFIYcHXwYE"
      },
      "execution_count": null,
      "outputs": []
    },
    {
      "cell_type": "code",
      "source": [
        "# Проверим значения 'cylinders' на наличие пропусков\n",
        "df_cars_wrong['cylinders'].isna().sum()"
      ],
      "metadata": {
        "colab": {
          "base_uri": "https://localhost:8080/"
        },
        "id": "UuZDBbLjc4yQ",
        "outputId": "d69028bb-6f27-4038-91b2-2b63d69a2d0d"
      },
      "execution_count": null,
      "outputs": [
        {
          "output_type": "execute_result",
          "data": {
            "text/plain": [
              "1"
            ]
          },
          "metadata": {},
          "execution_count": 4
        }
      ]
    },
    {
      "cell_type": "code",
      "source": [
        "# Посмотрим на строку с пропущенным значением\n",
        "df_cars_wrong[df_cars_wrong['cylinders'].isna()]"
      ],
      "metadata": {
        "colab": {
          "base_uri": "https://localhost:8080/",
          "height": 81
        },
        "id": "Mvl7mO15dKDm",
        "outputId": "7dd21853-fa0b-4188-8f2f-be02f3ca7987"
      },
      "execution_count": null,
      "outputs": [
        {
          "output_type": "execute_result",
          "data": {
            "text/html": [
              "\n",
              "  <div id=\"df-ea5e0df2-527a-43a9-90ec-eed50f0fc2ed\">\n",
              "    <div class=\"colab-df-container\">\n",
              "      <div>\n",
              "<style scoped>\n",
              "    .dataframe tbody tr th:only-of-type {\n",
              "        vertical-align: middle;\n",
              "    }\n",
              "\n",
              "    .dataframe tbody tr th {\n",
              "        vertical-align: top;\n",
              "    }\n",
              "\n",
              "    .dataframe thead th {\n",
              "        text-align: right;\n",
              "    }\n",
              "</style>\n",
              "<table border=\"1\" class=\"dataframe\">\n",
              "  <thead>\n",
              "    <tr style=\"text-align: right;\">\n",
              "      <th></th>\n",
              "      <th>mpg</th>\n",
              "      <th>cylinders</th>\n",
              "      <th>displacement</th>\n",
              "      <th>horsepower</th>\n",
              "      <th>weight</th>\n",
              "      <th>acceleration</th>\n",
              "      <th>model_year</th>\n",
              "      <th>origin</th>\n",
              "      <th>name</th>\n",
              "    </tr>\n",
              "  </thead>\n",
              "  <tbody>\n",
              "    <tr>\n",
              "      <th>12</th>\n",
              "      <td>15.0</td>\n",
              "      <td>NaN</td>\n",
              "      <td>400.0</td>\n",
              "      <td>150.0</td>\n",
              "      <td>3761</td>\n",
              "      <td>9.5</td>\n",
              "      <td>70</td>\n",
              "      <td>usa</td>\n",
              "      <td>chevrolet monte carlo</td>\n",
              "    </tr>\n",
              "  </tbody>\n",
              "</table>\n",
              "</div>\n",
              "      <button class=\"colab-df-convert\" onclick=\"convertToInteractive('df-ea5e0df2-527a-43a9-90ec-eed50f0fc2ed')\"\n",
              "              title=\"Convert this dataframe to an interactive table.\"\n",
              "              style=\"display:none;\">\n",
              "        \n",
              "  <svg xmlns=\"http://www.w3.org/2000/svg\" height=\"24px\"viewBox=\"0 0 24 24\"\n",
              "       width=\"24px\">\n",
              "    <path d=\"M0 0h24v24H0V0z\" fill=\"none\"/>\n",
              "    <path d=\"M18.56 5.44l.94 2.06.94-2.06 2.06-.94-2.06-.94-.94-2.06-.94 2.06-2.06.94zm-11 1L8.5 8.5l.94-2.06 2.06-.94-2.06-.94L8.5 2.5l-.94 2.06-2.06.94zm10 10l.94 2.06.94-2.06 2.06-.94-2.06-.94-.94-2.06-.94 2.06-2.06.94z\"/><path d=\"M17.41 7.96l-1.37-1.37c-.4-.4-.92-.59-1.43-.59-.52 0-1.04.2-1.43.59L10.3 9.45l-7.72 7.72c-.78.78-.78 2.05 0 2.83L4 21.41c.39.39.9.59 1.41.59.51 0 1.02-.2 1.41-.59l7.78-7.78 2.81-2.81c.8-.78.8-2.07 0-2.86zM5.41 20L4 18.59l7.72-7.72 1.47 1.35L5.41 20z\"/>\n",
              "  </svg>\n",
              "      </button>\n",
              "      \n",
              "  <style>\n",
              "    .colab-df-container {\n",
              "      display:flex;\n",
              "      flex-wrap:wrap;\n",
              "      gap: 12px;\n",
              "    }\n",
              "\n",
              "    .colab-df-convert {\n",
              "      background-color: #E8F0FE;\n",
              "      border: none;\n",
              "      border-radius: 50%;\n",
              "      cursor: pointer;\n",
              "      display: none;\n",
              "      fill: #1967D2;\n",
              "      height: 32px;\n",
              "      padding: 0 0 0 0;\n",
              "      width: 32px;\n",
              "    }\n",
              "\n",
              "    .colab-df-convert:hover {\n",
              "      background-color: #E2EBFA;\n",
              "      box-shadow: 0px 1px 2px rgba(60, 64, 67, 0.3), 0px 1px 3px 1px rgba(60, 64, 67, 0.15);\n",
              "      fill: #174EA6;\n",
              "    }\n",
              "\n",
              "    [theme=dark] .colab-df-convert {\n",
              "      background-color: #3B4455;\n",
              "      fill: #D2E3FC;\n",
              "    }\n",
              "\n",
              "    [theme=dark] .colab-df-convert:hover {\n",
              "      background-color: #434B5C;\n",
              "      box-shadow: 0px 1px 3px 1px rgba(0, 0, 0, 0.15);\n",
              "      filter: drop-shadow(0px 1px 2px rgba(0, 0, 0, 0.3));\n",
              "      fill: #FFFFFF;\n",
              "    }\n",
              "  </style>\n",
              "\n",
              "      <script>\n",
              "        const buttonEl =\n",
              "          document.querySelector('#df-ea5e0df2-527a-43a9-90ec-eed50f0fc2ed button.colab-df-convert');\n",
              "        buttonEl.style.display =\n",
              "          google.colab.kernel.accessAllowed ? 'block' : 'none';\n",
              "\n",
              "        async function convertToInteractive(key) {\n",
              "          const element = document.querySelector('#df-ea5e0df2-527a-43a9-90ec-eed50f0fc2ed');\n",
              "          const dataTable =\n",
              "            await google.colab.kernel.invokeFunction('convertToInteractive',\n",
              "                                                     [key], {});\n",
              "          if (!dataTable) return;\n",
              "\n",
              "          const docLinkHtml = 'Like what you see? Visit the ' +\n",
              "            '<a target=\"_blank\" href=https://colab.research.google.com/notebooks/data_table.ipynb>data table notebook</a>'\n",
              "            + ' to learn more about interactive tables.';\n",
              "          element.innerHTML = '';\n",
              "          dataTable['output_type'] = 'display_data';\n",
              "          await google.colab.output.renderOutput(dataTable, element);\n",
              "          const docLink = document.createElement('div');\n",
              "          docLink.innerHTML = docLinkHtml;\n",
              "          element.appendChild(docLink);\n",
              "        }\n",
              "      </script>\n",
              "    </div>\n",
              "  </div>\n",
              "  "
            ],
            "text/plain": [
              "     mpg  cylinders  displacement  ...  model_year  origin                   name\n",
              "12  15.0        NaN         400.0  ...          70     usa  chevrolet monte carlo\n",
              "\n",
              "[1 rows x 9 columns]"
            ]
          },
          "metadata": {},
          "execution_count": 5
        }
      ]
    },
    {
      "cell_type": "code",
      "source": [
        "# Один из способов проверки на дробные значения\n",
        "all(round(df_cars_wrong['cylinders']) == df_cars_wrong['cylinders'])"
      ],
      "metadata": {
        "colab": {
          "base_uri": "https://localhost:8080/"
        },
        "id": "moWoNZ2OdXKb",
        "outputId": "36aebc6c-b320-4a5b-be66-d525dbbb2a88"
      },
      "execution_count": null,
      "outputs": [
        {
          "output_type": "execute_result",
          "data": {
            "text/plain": [
              "False"
            ]
          },
          "metadata": {},
          "execution_count": 6
        }
      ]
    },
    {
      "cell_type": "code",
      "source": [
        "all(round(df_cars['cylinders']) == df_cars['cylinders'])"
      ],
      "metadata": {
        "id": "Th7UxRjedhLP"
      },
      "execution_count": null,
      "outputs": []
    },
    {
      "cell_type": "markdown",
      "source": [
        "### Качественные порядковые данные"
      ],
      "metadata": {
        "id": "JDudF6lifJkC"
      }
    },
    {
      "cell_type": "markdown",
      "source": [
        "Используются в тех случаях, когда мы не можем напрямую измерить величину, но можем понять, какое из этих значений больше или меньше и указать порядок этих значений. Примерами таких величин могут служить школьные оценки, оценка сервиса по шкале от \"плохо\" до \"отлично\", уровень пакета услуг от \"бюджетного\" до \"VIP\", тяжесть состояния пациента  и др."
      ],
      "metadata": {
        "id": "ktnAx7RIyoYz"
      }
    },
    {
      "cell_type": "code",
      "source": [
        "# Пример такой переменной можно найти в другом открытом датасете\n",
        "df_titanic = pd.read_csv('https://raw.githubusercontent.com/mwaskom/seaborn-data/master/titanic.csv')\n",
        "df_titanic"
      ],
      "metadata": {
        "colab": {
          "base_uri": "https://localhost:8080/",
          "height": 423
        },
        "id": "hbZWAvpdd0Js",
        "outputId": "6530b94e-c9df-45b0-f30d-0ddc330ced33"
      },
      "execution_count": null,
      "outputs": [
        {
          "output_type": "execute_result",
          "data": {
            "text/html": [
              "\n",
              "  <div id=\"df-a8ef1d5d-1448-4c99-b82a-7064151191c4\">\n",
              "    <div class=\"colab-df-container\">\n",
              "      <div>\n",
              "<style scoped>\n",
              "    .dataframe tbody tr th:only-of-type {\n",
              "        vertical-align: middle;\n",
              "    }\n",
              "\n",
              "    .dataframe tbody tr th {\n",
              "        vertical-align: top;\n",
              "    }\n",
              "\n",
              "    .dataframe thead th {\n",
              "        text-align: right;\n",
              "    }\n",
              "</style>\n",
              "<table border=\"1\" class=\"dataframe\">\n",
              "  <thead>\n",
              "    <tr style=\"text-align: right;\">\n",
              "      <th></th>\n",
              "      <th>survived</th>\n",
              "      <th>pclass</th>\n",
              "      <th>sex</th>\n",
              "      <th>age</th>\n",
              "      <th>sibsp</th>\n",
              "      <th>parch</th>\n",
              "      <th>fare</th>\n",
              "      <th>embarked</th>\n",
              "      <th>class</th>\n",
              "      <th>who</th>\n",
              "      <th>adult_male</th>\n",
              "      <th>deck</th>\n",
              "      <th>embark_town</th>\n",
              "      <th>alive</th>\n",
              "      <th>alone</th>\n",
              "    </tr>\n",
              "  </thead>\n",
              "  <tbody>\n",
              "    <tr>\n",
              "      <th>0</th>\n",
              "      <td>0</td>\n",
              "      <td>3</td>\n",
              "      <td>male</td>\n",
              "      <td>22.0</td>\n",
              "      <td>1</td>\n",
              "      <td>0</td>\n",
              "      <td>7.2500</td>\n",
              "      <td>S</td>\n",
              "      <td>Third</td>\n",
              "      <td>man</td>\n",
              "      <td>True</td>\n",
              "      <td>NaN</td>\n",
              "      <td>Southampton</td>\n",
              "      <td>no</td>\n",
              "      <td>False</td>\n",
              "    </tr>\n",
              "    <tr>\n",
              "      <th>1</th>\n",
              "      <td>1</td>\n",
              "      <td>1</td>\n",
              "      <td>female</td>\n",
              "      <td>38.0</td>\n",
              "      <td>1</td>\n",
              "      <td>0</td>\n",
              "      <td>71.2833</td>\n",
              "      <td>C</td>\n",
              "      <td>First</td>\n",
              "      <td>woman</td>\n",
              "      <td>False</td>\n",
              "      <td>C</td>\n",
              "      <td>Cherbourg</td>\n",
              "      <td>yes</td>\n",
              "      <td>False</td>\n",
              "    </tr>\n",
              "    <tr>\n",
              "      <th>2</th>\n",
              "      <td>1</td>\n",
              "      <td>3</td>\n",
              "      <td>female</td>\n",
              "      <td>26.0</td>\n",
              "      <td>0</td>\n",
              "      <td>0</td>\n",
              "      <td>7.9250</td>\n",
              "      <td>S</td>\n",
              "      <td>Third</td>\n",
              "      <td>woman</td>\n",
              "      <td>False</td>\n",
              "      <td>NaN</td>\n",
              "      <td>Southampton</td>\n",
              "      <td>yes</td>\n",
              "      <td>True</td>\n",
              "    </tr>\n",
              "    <tr>\n",
              "      <th>3</th>\n",
              "      <td>1</td>\n",
              "      <td>1</td>\n",
              "      <td>female</td>\n",
              "      <td>35.0</td>\n",
              "      <td>1</td>\n",
              "      <td>0</td>\n",
              "      <td>53.1000</td>\n",
              "      <td>S</td>\n",
              "      <td>First</td>\n",
              "      <td>woman</td>\n",
              "      <td>False</td>\n",
              "      <td>C</td>\n",
              "      <td>Southampton</td>\n",
              "      <td>yes</td>\n",
              "      <td>False</td>\n",
              "    </tr>\n",
              "    <tr>\n",
              "      <th>4</th>\n",
              "      <td>0</td>\n",
              "      <td>3</td>\n",
              "      <td>male</td>\n",
              "      <td>35.0</td>\n",
              "      <td>0</td>\n",
              "      <td>0</td>\n",
              "      <td>8.0500</td>\n",
              "      <td>S</td>\n",
              "      <td>Third</td>\n",
              "      <td>man</td>\n",
              "      <td>True</td>\n",
              "      <td>NaN</td>\n",
              "      <td>Southampton</td>\n",
              "      <td>no</td>\n",
              "      <td>True</td>\n",
              "    </tr>\n",
              "    <tr>\n",
              "      <th>...</th>\n",
              "      <td>...</td>\n",
              "      <td>...</td>\n",
              "      <td>...</td>\n",
              "      <td>...</td>\n",
              "      <td>...</td>\n",
              "      <td>...</td>\n",
              "      <td>...</td>\n",
              "      <td>...</td>\n",
              "      <td>...</td>\n",
              "      <td>...</td>\n",
              "      <td>...</td>\n",
              "      <td>...</td>\n",
              "      <td>...</td>\n",
              "      <td>...</td>\n",
              "      <td>...</td>\n",
              "    </tr>\n",
              "    <tr>\n",
              "      <th>886</th>\n",
              "      <td>0</td>\n",
              "      <td>2</td>\n",
              "      <td>male</td>\n",
              "      <td>27.0</td>\n",
              "      <td>0</td>\n",
              "      <td>0</td>\n",
              "      <td>13.0000</td>\n",
              "      <td>S</td>\n",
              "      <td>Second</td>\n",
              "      <td>man</td>\n",
              "      <td>True</td>\n",
              "      <td>NaN</td>\n",
              "      <td>Southampton</td>\n",
              "      <td>no</td>\n",
              "      <td>True</td>\n",
              "    </tr>\n",
              "    <tr>\n",
              "      <th>887</th>\n",
              "      <td>1</td>\n",
              "      <td>1</td>\n",
              "      <td>female</td>\n",
              "      <td>19.0</td>\n",
              "      <td>0</td>\n",
              "      <td>0</td>\n",
              "      <td>30.0000</td>\n",
              "      <td>S</td>\n",
              "      <td>First</td>\n",
              "      <td>woman</td>\n",
              "      <td>False</td>\n",
              "      <td>B</td>\n",
              "      <td>Southampton</td>\n",
              "      <td>yes</td>\n",
              "      <td>True</td>\n",
              "    </tr>\n",
              "    <tr>\n",
              "      <th>888</th>\n",
              "      <td>0</td>\n",
              "      <td>3</td>\n",
              "      <td>female</td>\n",
              "      <td>NaN</td>\n",
              "      <td>1</td>\n",
              "      <td>2</td>\n",
              "      <td>23.4500</td>\n",
              "      <td>S</td>\n",
              "      <td>Third</td>\n",
              "      <td>woman</td>\n",
              "      <td>False</td>\n",
              "      <td>NaN</td>\n",
              "      <td>Southampton</td>\n",
              "      <td>no</td>\n",
              "      <td>False</td>\n",
              "    </tr>\n",
              "    <tr>\n",
              "      <th>889</th>\n",
              "      <td>1</td>\n",
              "      <td>1</td>\n",
              "      <td>male</td>\n",
              "      <td>26.0</td>\n",
              "      <td>0</td>\n",
              "      <td>0</td>\n",
              "      <td>30.0000</td>\n",
              "      <td>C</td>\n",
              "      <td>First</td>\n",
              "      <td>man</td>\n",
              "      <td>True</td>\n",
              "      <td>C</td>\n",
              "      <td>Cherbourg</td>\n",
              "      <td>yes</td>\n",
              "      <td>True</td>\n",
              "    </tr>\n",
              "    <tr>\n",
              "      <th>890</th>\n",
              "      <td>0</td>\n",
              "      <td>3</td>\n",
              "      <td>male</td>\n",
              "      <td>32.0</td>\n",
              "      <td>0</td>\n",
              "      <td>0</td>\n",
              "      <td>7.7500</td>\n",
              "      <td>Q</td>\n",
              "      <td>Third</td>\n",
              "      <td>man</td>\n",
              "      <td>True</td>\n",
              "      <td>NaN</td>\n",
              "      <td>Queenstown</td>\n",
              "      <td>no</td>\n",
              "      <td>True</td>\n",
              "    </tr>\n",
              "  </tbody>\n",
              "</table>\n",
              "<p>891 rows × 15 columns</p>\n",
              "</div>\n",
              "      <button class=\"colab-df-convert\" onclick=\"convertToInteractive('df-a8ef1d5d-1448-4c99-b82a-7064151191c4')\"\n",
              "              title=\"Convert this dataframe to an interactive table.\"\n",
              "              style=\"display:none;\">\n",
              "        \n",
              "  <svg xmlns=\"http://www.w3.org/2000/svg\" height=\"24px\"viewBox=\"0 0 24 24\"\n",
              "       width=\"24px\">\n",
              "    <path d=\"M0 0h24v24H0V0z\" fill=\"none\"/>\n",
              "    <path d=\"M18.56 5.44l.94 2.06.94-2.06 2.06-.94-2.06-.94-.94-2.06-.94 2.06-2.06.94zm-11 1L8.5 8.5l.94-2.06 2.06-.94-2.06-.94L8.5 2.5l-.94 2.06-2.06.94zm10 10l.94 2.06.94-2.06 2.06-.94-2.06-.94-.94-2.06-.94 2.06-2.06.94z\"/><path d=\"M17.41 7.96l-1.37-1.37c-.4-.4-.92-.59-1.43-.59-.52 0-1.04.2-1.43.59L10.3 9.45l-7.72 7.72c-.78.78-.78 2.05 0 2.83L4 21.41c.39.39.9.59 1.41.59.51 0 1.02-.2 1.41-.59l7.78-7.78 2.81-2.81c.8-.78.8-2.07 0-2.86zM5.41 20L4 18.59l7.72-7.72 1.47 1.35L5.41 20z\"/>\n",
              "  </svg>\n",
              "      </button>\n",
              "      \n",
              "  <style>\n",
              "    .colab-df-container {\n",
              "      display:flex;\n",
              "      flex-wrap:wrap;\n",
              "      gap: 12px;\n",
              "    }\n",
              "\n",
              "    .colab-df-convert {\n",
              "      background-color: #E8F0FE;\n",
              "      border: none;\n",
              "      border-radius: 50%;\n",
              "      cursor: pointer;\n",
              "      display: none;\n",
              "      fill: #1967D2;\n",
              "      height: 32px;\n",
              "      padding: 0 0 0 0;\n",
              "      width: 32px;\n",
              "    }\n",
              "\n",
              "    .colab-df-convert:hover {\n",
              "      background-color: #E2EBFA;\n",
              "      box-shadow: 0px 1px 2px rgba(60, 64, 67, 0.3), 0px 1px 3px 1px rgba(60, 64, 67, 0.15);\n",
              "      fill: #174EA6;\n",
              "    }\n",
              "\n",
              "    [theme=dark] .colab-df-convert {\n",
              "      background-color: #3B4455;\n",
              "      fill: #D2E3FC;\n",
              "    }\n",
              "\n",
              "    [theme=dark] .colab-df-convert:hover {\n",
              "      background-color: #434B5C;\n",
              "      box-shadow: 0px 1px 3px 1px rgba(0, 0, 0, 0.15);\n",
              "      filter: drop-shadow(0px 1px 2px rgba(0, 0, 0, 0.3));\n",
              "      fill: #FFFFFF;\n",
              "    }\n",
              "  </style>\n",
              "\n",
              "      <script>\n",
              "        const buttonEl =\n",
              "          document.querySelector('#df-a8ef1d5d-1448-4c99-b82a-7064151191c4 button.colab-df-convert');\n",
              "        buttonEl.style.display =\n",
              "          google.colab.kernel.accessAllowed ? 'block' : 'none';\n",
              "\n",
              "        async function convertToInteractive(key) {\n",
              "          const element = document.querySelector('#df-a8ef1d5d-1448-4c99-b82a-7064151191c4');\n",
              "          const dataTable =\n",
              "            await google.colab.kernel.invokeFunction('convertToInteractive',\n",
              "                                                     [key], {});\n",
              "          if (!dataTable) return;\n",
              "\n",
              "          const docLinkHtml = 'Like what you see? Visit the ' +\n",
              "            '<a target=\"_blank\" href=https://colab.research.google.com/notebooks/data_table.ipynb>data table notebook</a>'\n",
              "            + ' to learn more about interactive tables.';\n",
              "          element.innerHTML = '';\n",
              "          dataTable['output_type'] = 'display_data';\n",
              "          await google.colab.output.renderOutput(dataTable, element);\n",
              "          const docLink = document.createElement('div');\n",
              "          docLink.innerHTML = docLinkHtml;\n",
              "          element.appendChild(docLink);\n",
              "        }\n",
              "      </script>\n",
              "    </div>\n",
              "  </div>\n",
              "  "
            ],
            "text/plain": [
              "     survived  pclass     sex   age  ...  deck  embark_town  alive  alone\n",
              "0           0       3    male  22.0  ...   NaN  Southampton     no  False\n",
              "1           1       1  female  38.0  ...     C    Cherbourg    yes  False\n",
              "2           1       3  female  26.0  ...   NaN  Southampton    yes   True\n",
              "3           1       1  female  35.0  ...     C  Southampton    yes  False\n",
              "4           0       3    male  35.0  ...   NaN  Southampton     no   True\n",
              "..        ...     ...     ...   ...  ...   ...          ...    ...    ...\n",
              "886         0       2    male  27.0  ...   NaN  Southampton     no   True\n",
              "887         1       1  female  19.0  ...     B  Southampton    yes   True\n",
              "888         0       3  female   NaN  ...   NaN  Southampton     no  False\n",
              "889         1       1    male  26.0  ...     C    Cherbourg    yes   True\n",
              "890         0       3    male  32.0  ...   NaN   Queenstown     no   True\n",
              "\n",
              "[891 rows x 15 columns]"
            ]
          },
          "metadata": {},
          "execution_count": 23
        }
      ]
    },
    {
      "cell_type": "markdown",
      "source": [
        "В данном случае примером качественной порядковой переменной является 'class' (то, каким классом следовал пассажир от First - самый дорогой до Third - самый бюджетный). В датафрейме есть также числовая разметка для этих данных - 'pclass'. Представим, что 'pclass' отсутствует и мы имеем только серия 'class'. Выполним разметку самостоятельно"
      ],
      "metadata": {
        "id": "1O3CKrT_3w5l"
      }
    },
    {
      "cell_type": "code",
      "source": [
        "# Получим все уникальные значения в серии\n",
        "df_titanic['class'].unique()"
      ],
      "metadata": {
        "colab": {
          "base_uri": "https://localhost:8080/"
        },
        "id": "0WsCM1Ao3wbW",
        "outputId": "d2f7c3a3-b5dc-4eb4-c647-a7410b779d5a"
      },
      "execution_count": null,
      "outputs": [
        {
          "output_type": "execute_result",
          "data": {
            "text/plain": [
              "array(['Third', 'First', 'Second'], dtype=object)"
            ]
          },
          "metadata": {},
          "execution_count": 24
        }
      ]
    },
    {
      "cell_type": "code",
      "source": [
        "# Словарь для разметки переменной: ключи - значения в серии, значения словария - числовые метки, которые мы планируем присвоить\n",
        "titanic_class_dict = {\n",
        "    'First': 1,\n",
        "    'Second': 2,\n",
        "    'Third': 3,\n",
        "}\n",
        "df_titanic['class_copy'] = df_titanic['class'].map(titanic_class_dict)\n",
        "df_titanic[['class','class_copy']]"
      ],
      "metadata": {
        "id": "JJgAx04R3tkT"
      },
      "execution_count": null,
      "outputs": []
    },
    {
      "cell_type": "markdown",
      "source": [
        "![Распределение_отзывов.png](data:image/png;base64,iVBORw0KGgoAAAANSUhEUgAABNgAAANeCAMAAAGAIXOTAAAAAXNSR0IArs4c6QAAAARnQU1BAACxjwv8YQUAAAD8UExURf/78P+nUAAAAAAqeNT78NR+KAAAKCsqKCtUeKrRyAAqUKrR8AAAUKr78ABUoCt+yFWn8P/RyNSnUCsAAIDR8P/7oFUAAKpUAP/7yKp+UCsqUICnyIAqAP/RoIBUUCsqAKpUKNSneFUqKFV+oNTR8P/ReIBUKFVUKAAqKFVUeNR+UFUqAFWnyFV+yCtUoNTRyNT7oNTRoKp+KNSnoCsAKKqneCtUUIB+oKqnoIBUAKr7yKrReIDRyFV+eKqnyKp+eKqnUIDRoICnoP///9nZ2QBAwACA/1VUUCsAUFUAUCsqeCt+oCtUKNSnyCt+eKp+oIAqUIBUeNTReAAAAOo+8PYAAABUdFJOU///////////////////////////////////////////////////////////////////////////////////////////////////////////////AFP3ctEAAAAJcEhZcwAAFxEAABcRAcom8z8AAEnySURBVHhe7d0LY9tGtq5pqCRRiS3JsqkLY8txnESOe9ttHffVPXt39pnI2Zlzes7c/v+PmbWqFogCCIoAQ5QL0PskFgHiwmJx8SPAC1AAX5yzy3Zuw/RhueLKnc6K4vSwcK44vijcwf6NDF35VsnAa3dYFDMZcTLi/5zpH+dkObmUxWS+2aEr9svp/pprv/CZDl3pEjq3XtOHtuJ08aI4lSFXzJ4XH07lRmRdH++KA72VNwu93hXPiuK53vLsOz/nuZPlPr4IDXn6lbXtyN+8/P+tX7ferW/lzruPL2TuY1c816tH6083hX8c83T4RB4DG87UXR6sNXU27Uuz1tTZtC/NWlNn0740a02dTfvSrDV1Nu1Ls9bU2bQvzVpTZ9O+NGtNnU370qw1dTbtS7PWeM+Lg0XxjQzYtC8ttCqQbZfwemrTvjRrlvc2435bsmlfmrWmzqZ9adaaOps2rF/b2VRlramzacP6r1a0bRNrTANt28Qa00DbNrHGNKxr241zCV9PrTENa9p24fb2rw/0fQybNixrTMO4HtML7a2KTRuWNaahpd9endiAZ9OGZY1paGnb7YENeDZtWNaYhpa2XdplYNOGZY1paOs3uwxs2rCsMQ1t/ZZxvfm3Z5ds2rCsMQ0tbTvIud9qbNqwrDENLW0LD6m7OnXFaW5t++Tzbe7c7Oxc2mgTB2WNaYjaVj4FMs6Q49/CpbFpw7LGNKy27br+oY1NG5Y1pqGl3q7tMrBpw7LGNLS0rc6mDcsa09DStpxf6+ts2rCsMQ0ja1vO2+RZbyMpp5/N62uWTRuWNaZhbduKw/Ban9fraZHxY5r1c8EuA5s2LGtMw7p6W7Jpw7LGNIysbS/tMrBpw7LGNLQ9F3iexqwxDSOrt7ldBjZtWNaYhnVtc4t831NN+9muNaZhZPVWZ9OGZY1poG2bWGMaaNsm1pgG2raJNaaBtm1ijWlY3zan3/rJs22HF/4VNc9+e59vv5Vs2rCsMQ192maLNNnU38PW1EDbNrE1NdC2TWxNDbRtE1tTw8Tb1s6WafjVpnZyb9v0ky2bpmyRbuzrnE02tZP7+0128W3al2YNGrv6e3RL9bfHSu3Xtjt8ZAM719qK+uexm7TfaQCDccWxv9zzfzPjCqe/g97r+StmAA/H2YUNfCHH80P9HF+PBXBVuDdOj+bg3JlPLfe8cPszuf7MFYtwrAb7I8k7v3anupiTLSU3uyzcgStOwmKay+7fdbNKho6dzOjkj6xBb7AHN5cVXBbF36Rtr4r59c2NXusPKKHHipi5xQtt20yz1p290ht8o5/U+eV0MT28g2/bY2mpzKcN0uk3e/5CW+qK2aUefULXPFof5N+dHtciR6fyT9+2zFmSryN1YM2poW2bWXNqaNtm1pwa2raZNaeGtm1mzanJsG1vdNugeJtvv+nraYZtCwfUyrjfFG3bzJpTk6Rt9v5+k031rDk1adpmHyg02FTPmlND26wxDTbVs+bU0DZrTINN9aw5NbTNGtNgUz1rzlKy19N+bdMDTeh/PKaTaNuro3AZ5NW223+Ey4DH1BrTYFO90JrPtd9i59W28OlYKbfHNP7IPK+21Q+Mm1fb3HfhMsjsMf1K/+hRnFVebfv0Sf4sH9i82naccYZc1z4ZyattHzNum6t9GpNX23SLspJZ22pomzWmwaZ6oTXz2vfV8mrby4zrLedtJN+28Hov19Bv1pgGmyrcCB7T+jET8mqb89+vKGXWbzV5ta1+OK7M+u1fdullVm85b7/l3LZwYTKrtxd26WXZb5m/p5rpe9FLtM0a02BTPWtODW2zxjTYVM+aU0PbrDENNtWz5tTQNmtMg031rDk1tM0a02BTPWtOwGeUQd+26bfU6bedtM0WabCJvwdt2w5t2w5t286DbFu72pclKza1Yau2HWzftnY2tWGbtr2XfzbtSwsNGr36m033WzPvE7us67PiNerHDt2gdr6apfa21d4IB5DETeGujl1xmN/zz81u3I2Ttu3VPlABAGzBH0hiS7rsYxt+YLTPro4Ld6qdEDqx/HMl/8LVN+5cLvX/PT2ahw7qBrA7K+Z+zjCXzn+mQ/66J8sh+6OTC11RdHu6EnEt/85l4sGhXnW5L/M8Kxc9u/MHgfMjc/2jIzJauH0/7K/TNfqbLq5mxeXp9fFcdiu1DUPx3ebO56cX0pAncpPFwh28k2G9unDHl07Gb/a1mYUerOTqzBUyOSyrX2rW5fb9wtJibfvXb2Tk4N2PugoZev/xhb9ajzTyB+s2vb09/5NYuzWd9/tifirdtud8t4VF5Y88NHqsjHCN3MK5jshmRzGXzQ4/LNf5bvNrtG7TW9Q2fAHSgi34+6J04LD8tngCyxvGF/ddcSnlLIGzKPT0Fejk0euT8KHRaTEL3y+P34jbaIwz9+P7pIMBmzBG1isb0W011isb0W011isb0W011isb0W011isb0W011isb0W011isb0W011isb0W011isb0W011isrDvRYtvqWzEH4WJhuq/F91KT7781uo9+WpC98N3VAr9VYr2xEt9VYr2xEt9VYr2w0nW5b8+26dmu+U0i33Y9uK9FtW6HbtkK3bYVu28qg3XZ+KH9cMSvOCv0+AN1Wp12y6lq/6nJYnErHhfOPTGifdAfd9hD3SXdebc6tOdOloNtqrFc8um1Fl267u+erVnRbjfXKRnRbjfVKUDtIWR3dVmO94h269f1Gt9VYr3jX8/XfzKTbaqxXvOPijlfSum4vCYu36/qNbquxXvFk+8N6zenJQPeLa6ff1w/X2Pzjt/NuizZ39Xu7h/FXnum2Gt9Jpn4E1zq6rcZ6pcRLQl2HbjuWaqPb6jpW21p0W431ije7odoaunTbkTui2+q6dBvvt60g20o77zZeSVd06bbvznkHpIFsKw3ZbbpP6tgn7dRtz6p3xfW3+7wD0q3bbqyL2tBtNdYr3uySV9KGLt12H7qtxnrFtB8dUdFtNdYrnvvtt7X9RrfVWK94bLet6NJtvCm+olO2/Xl9uNFtNdYrnmy10W11HbpNeu07sq2uQ7d9+vTLJ6u2H3SP9Kr23V2bf/x2n20VZ+cTqb4pPpl+20G38ZXnDXpW2wq6rcZ6ZSO6rcZ6ZSO6rcZ6ZSO6rcZ6ZSO6rcZ6ZSO6rcZ6ZSO6rcZ6ZSO6rcZ6ZSO6rcZ6pV15nCMdtPnHb9huu5Z/cbe5zxPRr9tsoZoHeWioHLLNTjrXjS3zheXQbbb2bmyZL4xu2wrdthW6bSt021botq3QbVsZXbf1sa697WzDsBu7hU6277YX/kS4WXdbv56wy0627jbZN9XPnHt1m7PLTtpnXnPnhpu53e99kgLZ8m82dfND93mvij7PjoNepzK854g7qfToNNF97ptiz4Y66dFt+u4iACB7ewdFOGsl+tBX2tMbGzgu3N5hsXf0/+kUdLDVSYoBAAAADMuJtT853UQXtsEHxvV6n7lB+syd2fDD4rvNSd340rmWf+dzrSEZOtFrQkXJ/3vu7Mad24zFwleZK27dyVU0V/nHX6eDZ37u5ZQnssiFDMlwuK4o/K3p8NXspU4JzTm7cyc3cqUu8Eyv1DX6lemI3qj8vQxz63U6Gg/Jf6ENAwndtnfsb08H/f/Xx9fH5bBvi/x/dXaz7/ToP2+WT2uZ9KO/42FhP787KS5P/R2QrnVn+kDob38v3MJfGf7429Mhv5Dc1qX+Mtgff8n9oCvxc537VYRbu5rJyg5l398vI4+oHp5fBotwnQyWS4U/flV+hkGEbtPbdfuv/Y0XTlp47rvtkX/838kfuc++22TwUkbKbvN/3styfmFru96rWfEH7UB3tueKt3rvtcYO3v0oM+iQzuvef3yhi+utabfdSinbKvSpPz+9lkuZGG7Gd5vcsDRGrggzytRC1q3XheV0jWHozi/7B5k+DHuS6v9H2gq5LL6VP77b5MaLj74J8p92240OzD9cn5ZPUv/3R7nUheVCpp+7rwupyAN9jsn9++jkrvxRO6twz3UG/yTV/1/p7YVb89V2pFc7nV0vZOJLGdbBxzKD7zYZ+5su4p+7mhg+WPU6valzv0a/bvnvVNugk5PT+9ObtD648c+7MJzCYXnDwCjNJaD00Iov5sVVymfO6Emk6i+H9Kz8eg5EdHMl//bptn4u5Zn56FlRvK+epPZ1uN1b833DdrnM7LukC1sAim7bCt22FbptK3TbVui2rdBtW6HbtkK3bYVu2wrdthW6bSt021botq3QbVuh27ZCt22FbtsK3bYVum0r67pNrv/mbVG8+kEGw1cjbAGotdXmioPiyWGxkIHwe2hbAGpdt719pKc8jD8ntQWg1nSb9lWj2qZzmonfz63NtgOy7R5rs22FLQBFt22FbtsK3bYVum0rD7Hb7JiB3dgyDQ+y2+yIdp3YMg102wa2TAPdtoEt00C3bWDLNNBtG9gyDXTbBrZMA922gS3TQLdtYMs00G0b2DINdNsGtkwD3baBLdNAt21gyzTQbRvYMg102wa2TMOabtNf3Z+GY1HredKVLTABQ1abK2avT6b5OemA3eav39ff4jr/i1y5tCXG7/d327rPSZ0ecUSmyb+F0x/NU201a5+kK2yBCaDbtrLrbrvQ5+Y6tsAE7LrbThaPbKiFLTABVNtWdt5tR0evbHCVLTABO39J8KdPW8MWmICdd9vtLU/SBlumYX03NdkCE7D7bjuxyxa2wATQbVvZfbZ9vrWhVbbABOy829xJ2G1vYwtMwK677aI4WX/+P1tgAnZebW9/ObahVbbABOz+JaEIB5BuYwtMwO6fpPecpNMWmICdd9snuq3JlmloPifd2n15W2ACdt5t/1rpxootMAEDZJu9B3LoHvERjGfLNNSr61U1qiF3Gn/gZwtMwM6rrXp39+Zkuj/D3XW3LT59+hSG9Je3Z8V5/GWG6fwM9/d3W/2zA8m29WyJCdj5k/R2/RsgdFus1m2Czd0GW6Yh7raLwv2mZxZpZwtMwK67jX3SVbZMQ+1J+sj9xNuUDbZMQzPb1rMFJmDX3ba4OyfbGmyZhnq3FftkW4Mt01B/kv7fN+vPmWULTMCuu+3i6O2RDa6yBSZg9y8JfLzcZMs01KuN77etsGUa1ndTky0wAXTbVnbebfv3dKMtMAE7zzb2SVfYMg316gpnkm1nC0zAAN22/hv2tsAE7P5JyjeOmmyZhnq3sd22wpZpaFTbklzPz3CVLdOwrtoWBT/D9WyZhnXVJt3W/Bkun5MuNbLsuNCz7SvpNp0m//gOSItmtfFK2mDLNNSrzTnepmywZRrq3TY/CccPb2MLTMCuu21RnKz/jZ8tMAE7r7aDk/p4zBaYgJ13231sgQnYfbfd04u2wATQbVvZebd9tss2tsAE7LrbLh799psNrrIFJoAn6VZ2Xm2837bClmmg2zawZRrq3WaXrWyBCaDatrL7l4Sfv7WBVbbABOy+2+55KbUFJmDX3aZv6drgKltgAnZeba9nNtDCFpiAHXebfuxCtTXYMg21bnp6vPwuw430oEzjIxhbpqFWbZ/m5Q8jb/wHfvwMt1u2VRb6lOVnuP27beVnuLbE+P3+brtnr6DJlpiAAattlS0wAXTbVui2rdBtW6HbtkK3bYVu2wrdthW6bSt021botq3QbVuh27ZCt22FbtsK3bYVum0rdNtW6LatDNtt126/+OZtUbz6wY/aAhMwbLfppIPiyaH/tJ5uq7mn244LV35WqqO2wAQM221PpN6ianPu80T06jZbpu6+z0lfyjSyzZZpuKfbGmyBCaDbtpJBt/3aiy30heXQbbb2Tui2Et22gS3QQLdtYAs00G0b2AINdNsGtkAD3baBLdBAt21gCzTQbRvYAg102wa2QAPdtoEt0EC3bWALNNBtG9gCDXTbBrZAA922gS3QQLdtYAs09Os2u+ykVx/b+3kd2S10YjfQMJVus4U6SdNt7s6fxckWaKDb1tEP/oQt0DBgt/ViC3UyjW5zdtmQycx2Pxu6PEn16OLruu2h8j0D4KHp8Rt8f8yRrq7d+sNQr1p/7OVVvVo8mHsPBVcXjjnSzWl4Ve/mL3qa9+7O7PJLWn8qnlU9us02hjrq1W0ZVNti/YHwW/ToNlfcc/CqFX26rc96AQAAAHxpst+TxY72+OzJ3o//LdNecVEcu2KfjtzoRHcvpdv0bRXfbR8K90+6bZPXzh0UenR9+d9328KPoZMe75QAAAAAAAAAAJCEM32+ZbsTdrt8yvCAOPckDFy546K4cU5/QzPXInhcXPticO68KN7ppX7zM1x3cuVO9VLPTinLiD+GAV2TXJytjvhZFlVV6/X+Qm7f357/XqndsrQmkHmcO9QhXe6NDnxYzucnyyqFTvUDIp7RN/5Cr4vuX7WIV9636u76a2RxuWGb51Lvqp8aGvrSD72XIT9grRdRw6tO86TXfLvtT+g8bzmfb6NMie/WlZ9yKe2+lqlyB+QOVf0wLrViu5T7cFrs+S4OE/RO+sdIOspfpfdYSJ+Wf//6F/9wHviSsock1NdyZDlLRKcomenpT9KB+nBWtxy62Hd7qH+90rdCVuxHbXJ4fOZhRvnjC6uasV5s4f5Fi4jovpV3V0k1tRSbLPJMr5v7Vfi7X13pVQ2vrdgPnEhD/IzaOcveiOariq1qY63Ywslnq7s3Msu+kDvl3N1c7lTo4ut/am+E3rdO1x6vFZveYSmQv/1sxbZ/6M7m7smV7+pqpJol4h+kQJ7Wf/+sK69uuVZsOqM0LIrFw+Wjooe2Nn5GLaxafgbx/YsWEdF9K++ukmI712nefpisN3D3USeENvm7VF3pVQ2vrVg498qdWonoSv2VIpqvKraqjWVUarvFV7WXh5GJik3vnz4YxXf+3lkX+N6XZ66SWati8w6WD8iJ1pfM75+gvtiWI9UstTKIik0c6YqXt1wrNk8a54NBrvPBEJzpjSj/UMgTXottOaMuXCXb8v6ViwTVfSvvrt25k+V900yUhW1MV2lDMrMNrRZbbcX+Ornvvthk/doTZV1X85W9KitbtjGs0JItZH919x6G0AVJLB/HpZvycZLsDAPTcrhyjx+2L1psAB6YN+65/JUNAr9xtHjl/GkTvnFvR7pJibxJlV2FTZlD2ahdyAal1t11uZ0K7Mpb90iqS3bLLp+EAnMHWm++8IDdsbLyF1en65LN7zcDLXodcey7sHX2Jly0b7M5O5LZ7g22ZumFgYxyzXa5e/2KrYvh2oqRo9iQDMWGZCg2JEOxIRmKDclQbEiGYkMyFBuSodiQDMWGZCg2JEOxIRmKDclQbEiGYkMyFBuSodiQDMWGZCg2JNOr2OYf7v7kiuJqVjzTX1i5F3fz02rUUGxYo2+yfTcrf9G37nejFBvW6P0yenW6qdiG+5EZxqzn70YvHxWv3Un1Mvq+4GUU3bGDgGQoNiRDsSEZig3JUGxIhmJ7EH4djN1AJxTbQ/Drr/81EIoNDRQbkqHYkAzFhmQoNiRDsSEZig3JUGxIhmJDMhQbkqHYkAzFhmQoNiQzxmLTM+g/sjPW66n4woWe6zY6AyTFlp+xJtvlWXH9i5tJkV3pefud/z8MBxRbfsZZbDd6Ylt1xY+UR2SMxXY98xdacPMzKbyi2JNrZLBw536K0tdYWzkykUOx+bqwGtkZKi0/Y91m24hiyw/FhmTyLrbFvHijb2tsgWLLT/bFJp65F36sF4otP9m/jH6+vZX/baQHii0/uRfbhXv0m+j/Ukqx5WcEOwgv3b9sqA+KLT/5J5tnHxj0QLHlh2JDMiN4Gb3sX2mCYssPyYZkRpBsnw5+tKE+KLb8ZF9sTl9Gt/gUgWLLT+7FtqDYpiP/l9Fnzv1gg31QbPlhBwHJZF9sx/p3i3c/KLb8ZL/N9s1vr5ybU2xTkP8229y5WVGsn74GxZafcbyMkmyTkH2yuUe3t+/Cz6lKToLOnevPqfTC/7pK/tloiWLLT/4vo617B1Jhm843amtGPrIvtrZv6l77N3m1uq5O1/4iXtjKkYksik3rwmqkqeV9tnDVk+XBPTjWx1iMYwdhCxRbfrIvNk0xn1w9UWz5ybvYFlJkH49ePbbRPii2/ORdbBfHfieTb31MQ+Yvo87vZFJs05D7NtvHI+eOeBmdhtyLrXjndxD4uGoKci+2i+Pi8EnhD/nRD8WWn+yTbX5cuL/6Dbd+KLb85F5sCz3SB8f6mIbsk40fKU9H9sV2e3v5NYfMmoYRJNt2KLb8UGxIJv9ie+XcFjujFFuGci+2hf9G+Jy90SnIPtn0ZwX6M4O+KLb8sM2GZLJ/GXWf3dkd3/qYhNyL7eJY39Tl8AuTkH2yffIayeY34vw3xmUCP3gZixEk24qbH/z3dzm57djkX2xtZ3gJXxYXnNx2TLIvtuc2UOMrS79Ree/JbW3dyEUWxaaFYTWywu+IlkHWA6WWn9yTzRfb8lWzB4otP9kXm7p34hoUW36yL7b5+8sTPq6ahux3EPybuhwMcBKyTzb/1u0WPxyl2PKTfbJprfG70WkYww7CVr94odjyM4Zkiz7x7I5iy0/2xXb06ujo6BUvo1OQ/cvo3bx+qPCuKLb8ZF9st+IffHlyEsawg7AVii0/2W+zcQDn6aDYkEz+22x61g0+rpqE7IvtUD9A0C/j9kSx5WccL6P8umoSsk+2S/fLX90WG24UW37yLrZy92BBsk1B5sl26X6QuuErRtOQ/cto4arfgpau/EG0OLnt2GT+Mqq7oqrxMqq/gCl/KMrvRkcj/2RrE343Kv84ue2Y5FBsvi6sRrrxxcbJbcdmnMnWAcWWH4oNyVBsSIZiQzIUG5Kh2JAMxYZkKDYkQ7EhGYoNyVBsSIZiQzIUG5Kh2JAMxYZkKDYkQ7EhGYoNyVBsSIZiQzJjLrZ5OB7l1ax45n9t9eJuzvlGczbiYvM/Kj1v/n7UTxIUW37G/jJa/TqZYsveiIvtxj0u9HVz+TL63o8aii0/7CAgGYoNyVBsSIZiU4N1Qr9emDqKTVFsSVBsimJLgmJTFFsSFJui2JKg2BTFlgTFpii2JCg2RbElQbEpii0Jik1RbElQbIpiS4JiUxRbEhSbotiSoNgUxZYExaYotiQoNjVgsQ3H2j4iFJsasNjscueGKzar5UFY43cufbEtXumpcA3Ftq0BS2I6xaYnG/W/6/OmX2zDsZvYuQkVW/2Ho8MVm7PLTvqs2fVZc68HbpRrtstOvnSyAWvsfJsNAAAAD9jVaVHsLfdDduo7N8R6b2SlAzV44Zy+BbB70tw7d24jD1x0tKSdqnamd6hxLLHd8isfhD5HHrIb2W0+k4r4YOO7E9Y8TLFpFGtUDGKoYrse6tkxLpf+rRob2bFBik0eODfYQzdMsfmDig70Cg0AAAAAAAAAGXnm3w61EWBA7sRfXD8pbmY6Gj4Ik4u9Y31fXi+uZEyv2/1nbnhYLNOkpqzYwgc/x8Wev5QJh2c6w+1/zok//D57/kNQPZVXmWyadYf7UbJdnheXUnAacMDuLLTigBQoNgAAAIzdLn4aDwAAAAAAAAAAAAAABhR+7eHcvo0nc2g3/MjGMX1fvNjcQIdFRX6k2GwoMSk2vbjkZ8MPR1VsTn/ZNvej/6aJ80gPeO3NiuKlH3ivRxtVxzK3jyb9dZws4+fRAf3lpU5YHQmzXC8j1IrtSi/8r4XdH2XUbllbE+gcpzqgy4Ub19sMS/hVvNFL/VlxGdISlcsZr/ytXup10f1bLuKV9626u2HtMincB3Gha/P3WOihut/pgK47vlLZqC697DTvSnpN13yqf57ocuXxVav5fBvDQ7Jso1+13L6270TugNxo1Q/jUi82eehl1PrvtNn72kfhOi22wJeLkodTHkntfh2rj1SzNIvtma6rXFl1y8urqvVHV8pyZWEtJz+pFZsNrRRbuH/VImp536q769yLu0tt6UqxyQM91xb7Z4+w+xGu9GyCXFl1mueLTUalKdKA/7ZcdTxfVWxVG2vFduP7L0yTuUamVmz+N+I6JB0SikHvpAh9KR0Qnl7CzyN/nxRPf5LO8A+NPgIH4TGvj1SzVKyu/BP0r3+xh7O6Zd/FfkhvNfz1D5esWB6lQ53Rt923Rx6v8q5oYVUz1ottef/KRVR135Z3V12GB3ql2J7OZWWysPaC3v3qyqBqeLxiP3AsKw39pp2z7I1oPr/axt2qFZs/UnjUD+MSHiEld8W5f1/evcB6P1yj97YqNr3wj+Jr/zT3xfZMxufuiS5UG1nOUpHHQxyF07f51wxfbOUtV49Z6FptiB7aW8ltXmspaNulPUFcbNWM8hDakLY43L9oEVXdt6jYZFRbFuY7OlgWm5LXtkNfw3I7x9GVQdXweMVC7seeO7aqlCX8lSqaz8/buFs2YNdpH0b9MC5xsb1yp/ZckufM4vnPcuWy2PRZpD1e9l24RrtOXnf+/tmS7cA5WcOdLhSPVLNU/OMRSBv+9rN/OKtbjotNZ9SGVa/BMllaoZOlPeW2S1xs5Yy1YrP7Fy2iqvsWFVtx907ryZZ2B36yb85TnWCN17tUXRnExVatWEjISm+EYtNmLUslmi8utrKNoQXhOiFXR/0wLnGxSYf5YpOwfyzFohOs9+W59L74qDNUxea+1kDSl6b3xWtLtgN90j2RibWRaJaKPV5K90gXssV9EN1yrdge6Ta0PwKMtOLtC71O084e0tlB8e4PP/oZ/cpOazNqEdjLaHn/qkVUdd+Wd/c/Zdjm1DqQe+FLITTZ6lVXoY2srgyqhscrFlpg53LnpCky93/383nRfMtii9roZ9SGadf7FVd3b2RqxXZgnSaDwp5v5URVvSrYFVI//vJIH32pL5lfZtJ/8Ug1y8reqJJBT1YcBuSWq8esDCd5Susmj9ByLGkL1Zk+77UCfWGVMzaKze5fuYi/8fI2fWvs7oYrZG1hIDylli+juspwrDd9LY+u9KqGxysWcj/8E9I3xb/U24RoPhuSlVVtrBWbjMltLu/eyMTFJnfDnqHfOPfcx7j1vuyeH7mZPpWqYjt/5mZf6+AbN/tRrvb1VXZmY2Q5S2uxFR/n7sPdtc68vOW42GZ3r9zzMOMr34q42PwGnywiO4RvdRZfWOWM9WKr7l9YpFTet+ruSive6n0LtyGzxsX2lZ/lW3nt18valSIqtmjFIgSvdkmoTFnIXy+W84V1hellG+vFFh6v8u49EL4Lkgj1UrM8gFr1eE3K6j1+2Ci2AVFsdV+02AAAAMbt5dzpLrG+narvMXzj3ure8+KV//AF2KEb/TzpieyuhTeRrmb+6NiFe3E31Knb8aDt6bv6YdBJzV0/0cOvF8Oc9RoP21N3ru8361sTvsCk0vzJyrXwgF3aO5IqOzzWDzgoNgxu+RpKsWFAVlbhIhSYDDe22fQ1FmhlNdLFhXtcvDuWndLHhe5+LvdG3/tR49zdQAZcs13u3gjXPOQDaDXSydO5f0ft5VzqS7S+z0axxUa45lyKrYvh2oqRo9iQDMWGZCg2JEOxIRmKDclQbEiGYkMyFBuSodiQDMWGZCg2JEOxIRmKDclQbEiGYkMyFBuSodiQDMWGZCg2JEOxIRmKDclQbEiGYkMyFBuSodiQDMWGZCg2JEOxIRmKDclQbEiGYkMyFBuSodiQDMWGZCg2JEOxIRmKDclQbEiGYkMy/YrNTm5bnmUj8Uk3MHK9iq08ua2dzbb95LYUG9bo/TK6t788M9q6E6XZqoG6vsWmJ7e1k/OtOQUkxYY1ehabP7ktxYat9H4ZLdzGYqPc0KLn+UatrDZts1FsaNGz2OzktuXZbFOf3BYj1+9l1E5uy/ts2Eb/bbZNKDasQbEhGYoNyVBsSIZiQzIUG5Kh2JAMxYZkKDYkQ7EhGYrtQfh1MHYDnVBsD4JVxhDsFrqg2B6EX/9rIBQbmig2JEOxIRmKDclQbEiGYkMyFBuSodiQDMWGZCg2JEOxIRmKDclQbEiGYkMyFBuSodiQDMWGZCg2JEOxIRmKDclQbEiGYkMyFBuSodiQDMWGZCg2JEOxIZkxFpueEeakKC7lwp9DyF8U13K5PHUVxZajERbb1WlR7M2knsLo/EwGz4sbGdVrDcWWoZG+jF64YjH73n2QQV1U6k9LsKw/QbFlaKTFNj8t9vQ83cfhTHycb3QUxlls80c2wMltx2SMxbbwL5+eVJcu2vYySrllJ4di08KwGuliIbsD4vC48HsF63YQKLbsjLDY9C0PXWAuf+Vlk7c+RmOkOwgbUWwZotiQDMWGZCg2JEOxIZnciy3seh7bWHcUW4byLrZvTl9Wb+D2QrFlKPNk+x9F8Z17bCN9UGwZyj3Z9O/yk9AeKLYMsc2GZHIvtqe3n29vP/9oY91RbBnKvdi+Pzo6enX03Ma6o9gylP/L6G/iDzbWHcWWodyLrXjm3ttQLxRbhrIvtqJ4F31zqDOKLUP57yDc3n50X9lYdxRbhvLfZuOtj8kYwcvoVii2DJFsSCb/ZLvoX2mCYssQxYZkKDYkwzYbksm92PggfkLyfxl9+rMN9EKxZSj7YpPX0IstPq+i2DKUe7FdPZEdhD09vEI/FFuGst9BOJFi22KHlGLLUO7Fdn0mlXZIsk1C7sW2cP+cvdHDNfdEsWUo+x2ExZF7y/fZpiH7YlMX/d/WpdgylP0OAp8gTEf2xaaba+yNTgPFhmSyL7Zfbim2qci92P7820/O/Z8U2yTkXmzen1zv38RTbBnKvtj+TXZG/2jDPVBsGcq92PbcQbFwZzbWHcWWoex3EHRv9IZttknIvtj01EGNYtO3eaUG7ZQunOFlNPJ/GX1x+zqcrKrkT27rwsmq5N/8rLgrz11VrYZiy1D2OwjPJLBWD6p74Zan4dNF287KZ6tGPrIvtvZ3dOen5QlGOd/oeGS/zSbBtvpBvB7SmWIbndyLre2nfOHktpteRim37ORQbFoYViMr/vxJ1X7NZye3Lc9my8ltRyP3Ymt5GQ1X8dbH+GS/zdb/5wcexZYhig3JZF9sX9/e3vY/1AfFlqPsi023z/w2WT8UW4ZyLzaPb+pOQ97F9r/k37dH/wwjvVBsGcq72C5PFu7tb/P7c68VxZah3IvtWr83ybE+piH3YuOnfBOSd7FdnR3q5+sk2zTkXWwL9/U7J9ts1cdQXVFsGcq72GRf9JVjb3Qqci+24KlddkexZSj3YrvwnyCwgzAJuRfb9elidrch99pQbBnKvdguTwpX3Oi3cPuh2DKUfbKdF/MD3mebhtyL7cadXO2/I9kmIfdiKxYHxbtHNtwDxZah3Ivt29/UH2ysO4otQ7kX2/dHr9xR76OzUWxZyv5ldJtP4QXFliGKDcnkXmxPbz8eb/OLF4otQ7kXGyfdmJD8X0a3Q7FliGJDMhQbkqHYkEz2xfZa9g/e23APFFuGci+2G/e4eFk/gHMnFFuGci+2a39oen5dNQm5Fxu/G52Q3IvtUI9cOtcfj/ZDsWUo+x2Ed7KDwPfZpiH7YtsSxZah7IvNPfrOn6mqJ4otQ7kX2/WHK1fssTc6CbkX2+WJ7IqyNzoNFBuSyb7Y+D7bdORebC2nExL+jTetQ9mY4wwvo5H/y6gNRKS8/Cn4whgntx2NMRbbXw70fI+L2ff+7Hy6KCe3HYVxbrNpse25F3fzY4k5Ged8o6OQfbF9vXq+0VBsHie3HZMxvozWim3tyyjllp0cik0Lw2pkxfdri+1QXlt1r4CT245G7sVWzE+Ki5WpPtnmspi8bPLWx2jk/jLqXx0POT7bJIxim42Pq6Yh+2Tzr5Ak2yTkXmx+y6za7u+MYstQ9sW2JYotQ9kX2zN3fPGVDfdAsWUo92K7mcnegb6V1hPFlqHci+36XIrthr3RSci92Pw3dSm2aci92A739WW0/Ci0O4otQ9nvIPAj5enIvti2RLFlKPttNgk2fvAyESNItr3+H1ZRbFkaQbFt8TE8xZalERTbYf+DL1BsWRrDNlv1lcjuKLYM5V5sT29toCeKLUO5F9v3R4pTQE5C/i+jnNx2MrLfQXi2zVkQKLYsZV9s+oHVFnsIFFuG8t9BuL396Pp/e5Jiy1D+22x8XDUZI3gZ3QrFliGSDclkX2ytx/rYjGLLEMWGZCg2JDOObTbONzoJuRfb09vbz7fP2EGYhNyLTcrt048LPhudhOyLzb+M2nAPFFuGci82fzBA/6cfii1D2e8gcDDA6ci92K71mDKcAnIaci+2C/e3Tz9xcttpyH4HYfG9e8732aYh72IrPz/4f8NFDxRbhvIuNr/FViz41sc05F1sF252UBz6c2r0RLFlKPdttu/cv7vHNlzxB2yzU7pwhpfRyH4HITphbSmc3LY8my0ntx2NvIvtz58+/XW2ctrucHLb8jR8uqgMl6OGYstQ3sUWvmDUfnJbf7I0zjc6Jtm/jLai2EZpvMW26WWUcstODsWmhWE10pEWW3k2W05uOxrjLTbe+hidcb6MbkaxZYhiQzIUG5Kh2JAMxYZkKDYkQ7EhGYoNyVBsSIZiQzIUG5Kh2JAMxYZkKDYkQ7EhGYoNyVBsSIZiQzIUG5Kh2JAMxYZkKDYkQ7EhGYoNyVBsSIZiQzIUG5Kh2JAMxYZkKDYkQ7EhGYoNyVBsSIZiQzIUG5Kh2JAMxYZkKDYkQ7EhGYoNyYy42PRsG/6sG6/cDzr+jXvLSTeyNuJiu7ETLLsXd/PToriaFc+q1VBsGRpxsV35E8jrGfkk5KS8JNb8aYY8ii1DIy42fzJSK7DqVJCGYsvQiIvNnRR3l08otvEYcbGp6qy2FFv+xltsvrquTtduszn3GXkZsNjsFjYL2169zR+F3U/3vmBvdBTG/DL6JryxxvtsYzHybba1KLYMUWxIhmJDMhQbkqHYkAzFJn4dkN0EBMUmfs2jFyaPYhMUWxoUm6DY0qDYBMWWBsUmKLY0KDZBsaVBsQmKLQ2KTVBsaVBsgmJLg2ITFFsaFJug2NKg2ATFlgbFJii2NCg2QbGlQbEJii0Nik1QbGlQbIJiS4NiExRbGhSboNjSoNgExZYGxSYotjQoNkGxpUGxCYotDYpNUGxpUGyCYkuDYhMUWxoUm6DY0qDYBMWWBsUmKLY0KDZBsaVBsYkhi20w1vYxodjEkMVmAzs3XLFZMQ/B2r5zFJui2Gqs7TtHsalRFpvdwu5Nqdjis25QbFuj2DqonU+IYtsaxdZB7Uxp0y+24dgt7N50iq1+DkiKbXt2C7tHsYle/eucDXTRb8122UmvB26Ea+7ZzfZIdkGxKYotknexNbfZgDWsRn6P+tltrYyBFVYiv0vt7LYAAAAAAADo79A598iGd21evie9SwtpcPnByq7d7OIN0hb61uuJDT9k0r137txGdkqqYohim58N1eDiu528G7/q6rQo9gaq49G5PLOBnfrLwfLTtl3SB00fvd27+cF/ID2MC4rNG+rFo/pod4fqX1DYsQGLbT7I82N0bgbbnKDYluZDbRePxdx/Y+Bav16yY2HNgxTbgC+jwxXbwn2woYftemYDAxik2GQHoRhoB2GoYlsM1d6RudC98kH2GsUgxTbkWx8DFdul72QbAQAAAAAAAAAAAAAAAAAAADKgP2Zwf7QRYEDuX/LnbqhvrQOVvWN/ob8MmJ+H31Rp1Mmg/vrw8kwv3Kk/ggTf8MfvU/5iT2rKik1/MHonhbUstkP9rdVB+M0VsL0re/2sii38TknyTGmxhUT79JOMAL/D6stoeVQSqbc7n2xabM799jPJht8p/JBcD5NRvoxq+cnL5vJl9GIWDtlCsuH3eqcvlz/IgH8PRHYN9FJeXJfFVlzLXzHI76HxcN1dS7wBSVBsSIZiAwAAAAAAAAAAAAAAAAAAAAAAAAAAAAAAAAAAAAAA6GRPj3sc2T+wCZPlzwRjZkdffW1XA5iOhx1s3vGJTQEwET7YntzZ2EPgg+3M3+Onz/w5PGYcfByYlhBsNhJcyTW2FeNDwE6/WCy+OZKx2fMXfuRaJ1XKcHj57SsdCzOJeD5Zqa77tHj6nc70vNoLXLz+XiNmdvTDj+GKG584y22pi3ASPj0t1fopq2vxN97cBg3BZiO+QXb/VxYXtfss/OwRv541d6p4+UaviVcXGr9UtmJlxuZ2dPkQNGfUW7ae9x3h59Mr2x6/1eZE6o9b+6P7+idt/ts/PPbzNDrS843wHe4nlo5+qB6DZoGsnzNo7XG1sqKllg4IZRJ6wq+x7JTKyvqi1fjHY92jpfM1HgTff37Zl98vJ97/AGC37gs2C41QA9/54UCmtpb+Xu1568+j1xJskRA69ae7rx+7ysqvXIlOWjulZS1+6r3BFhaK1mvC9MZ9Fo32h/la79SFP7ObKZ9GjcDyS7fN2BpsLTO2PKfWPH6tzSmtPG4tj26tf3zBdA82ETqlpUDWzLnU2uOtK1pq7QB/M+X9KKNmqW19y9XY47Hu0Wp5EHz/6bK+9X7ivQ8Adu6eYCufXfoohBL56se74pkOlIURHkjbkQ3Phtn7g7vio38UdS57iMt9Xf9Au/3Hd8XLMLfM4kvtkVy1+JOfqIVdPo18y5ZPMy2tdVPa1tKq+UQKq2pZvO0+hyL296Z6XrfdKd95j76WOV/rmu0JosvsS/9ET5XWGcNUfzPlc6V1xtAcna2ar/Xxa70V0/q4qfqj++c3f/H3NtwHGwgdsOSXWJlYNqj9htrmjIS76BuxnHNti4O2DigX0m2mRr2vW1/UmPB4lAObHwS/QpkoLbYp9z0AGIDv8NZg04u3+iBoXUTVd/OXv/293N+qnk0irtBliZcPsYmKIGRJuXBR3H76Vq8Izwudtv+PMK9fhY74la+f4tXW0so3M/IhnjNevO0+R+2vJrfcqfBUiYQu1jnDPS6fKu0zLp9IjedKTGfU9cX8uvXKxuO3pjlB6+O2HK4eIBHWM/ujH6ktF1RLN3q5um7lhtrmjESdu1y+fUVLLR3g+V5tC5X29dlq1L2Pls4XK/v7+H/T18jQ0/c+ABjAumD7d62Is2X26ENfPncjtdKvzRMeWttlrUopKpZq4fAWfsnXqI+v/yYzyMxhGf2rtbd2SstaWoUqtu2QyuribfdZb6v5NGu7UyuF7DvJd2d4Aq19qvgZuwSbzqi3HPML++bUH7/2WzGtj5uqPbqerWf2Xkd8B1R0FX4J3/XNiXpn2m+obc5IW4+3r2ippQM8a/1qabSvL3pY7320Wh6E5XyP/sMv374gBrQm2JQUwLIu/GyhIvx1Vhy10vcTygrzK5H1Lssk8Ffbwn74LMwRrqqeF7qu/QP/VzfIZAU6txb1mimta2m1fHrE2hZvu896W82nWdudWl7G4t5aLt02Y9zG5UJtM+p1tp9WrdzPKKRFvt3rFi75mZqPm4rbW1muMzRSb3wRduDOqr6r9bJfQtbZfkNtc0bCXfSDyznXtjjw14i4A4R/PL36Laxbnw7YlWWwhYmNftTrGg+CVb1/CyPcetuCGND6YNMrq7qoqkKVRVAvfT93RNfQFmyRsggi/nmhq9o/uLNb1eV1ybKoW6a0riWKq0r8RFpqXbzlPutttQdbRDukscLjk2bnBJbrleOT8gq7mWUXr8wo10XNqR4Ka07t8WtbeKntcVPxo+v7YvaiKF76DNNZoo4M7y2uCbaPfqKup/WGWuestPb4uhYHbR0QmiY57CfW7/+a9dlqKtKMjg+Cn00m+nE/070PAHbPF2xLXYRHqqqLovi35YMf9kRUXPrqxle9ZzOVD7HxRfC/l3N9FTKn/PBx9l5vz9+yDugTpGqLDmlRr53SshZ/452CrXXxlvvs2x+mVevxVzbvlCWApwvrWlfp8o0Zy6eAPShRFzdmFFFzqvmqnokfv9WFI6uPm6o9uovoI+JH/vH0HVDRW/RLVMEWsXvTckNr5iy19vi6FgdtHeCX9S0LD0TjVtrW51cT86vs9CAsq94PhIn3PgAYuagIpqPTndLnU/kJY6DPtdWARZ7k0Zpc4WJnHniw2XBAsI0JwYZ7PNxgAwAAAAAAAABgJ/w3l0U42oD/kowK38wqv+9k39NqjAJAlg4tpa7C5WHt6wI38/Bdgb3wgVxjFADyduUTbXE9+0WPWmdHowhXLgcaowCQL/3J074/ZKkMzV7c6eGc7Lca9qsQv13XGAWAvC3+VN+99HumBBuAcauHVRjrtysaPlgAgM4sPXbt0A6LcXGpm2PlmH1M0OvDA2snAHS3cjzW3ZC08kJWlSecsK23xvc7GqN1cv3d2IywzXRzGpRGEtpmC5BcjbNbbWBEaHMSdHMSBBuAySHYAEwOwQZgcgg2AJNDsAGYHIINwOQQbAAmh2ADMDkEG4DJIdgATA7BBmByCDYAk0OwAZgcgg3A5BBsACaHYAMwOQQbgMkh2ABMDsEGYHIINgCTQ7ABmByCDcDkEGwAJodgAzA5BBuAySHYAEwOwQZgcgg2AJNDsAGYHIINwOQQbAAmh2ADMDkEG4DJIdgATA7BBmByCDYAk0OwAZgcgg3A5BBsACaHYAMwOcMF2zNZtfrgxxbXYWz/oMNonVxvjQWALjQ1LEB269BS6spf3szdmY7tudm5XNw/2kCwAehnsGArXbnT5d+Oow0EG4B+Bg22PVn7/mMZkF3NJ+EqvyF3/2gTwQagn6G32BZ/0t1Lgg1AQkMHm4XV/fuejdEGaaL3GQA2sbwY7MOD4xO9vLjUzTE+PACQzmDBpmnlhayS3U3PdjXvH62T662xANCFpoYFSK4INgD9EGwAJodgAzA5BBuAySHYAEwOwQZgcgg2AJNDsAGYHIINwOQQbAAmh2ADMDkEGzANv46SNX7XCDZgGiQl/mtkCDYA9yPYIgQbMA0EW4RgA6aBYIsQbMA0EGwRgg2YBoItQrAB00CwRQg2YBoItgjBBkwDwRYh2IBpINgiBBswDQRbhGADpoFgixBswDQQbBGCDZgGgi1CsAHTQLBFCDZgGgi2CMEGTAPBFiHYgGkg2CIEGzANBFuEYAOmgWCLEGzANBBsEYINmAaCLUKwAdNAsEUINmAaCLYIwQZMA8EWIdiAaSDYIgQbMA0EW4RgA6aBYIsMGGwv38yde/vDgR9ZXMstqX0b/+ZVNXFltEYWssYCWItgi2hqWIDs1p5zH368K57NQ5TdzPcPohu6crMXfuJp22gdwQZ0QLBFhgq2i0t3Fg9c2WhwaBtush33ZHW0gWADOiDYIoNtsZX23PGJj7dgdi7XVQHmI60x2iRLWWMBrEWwRTQ1LECG8PIyRNWhjzcfcJJhBBuwcwRbZNBgO1x+VrDUlmQEG/D7EWyR4YJN4mr2vhq26Lrynw+UAWbXN0YbpIneZwDrjTPYrPE7ZHkxULDJzudjGxQ3c/dIRuOPQSX01o3WaRMBbMAWW2SoYJMkW/JbYeFbbe/LPU2+xwbsFsEW0dSwAMkVwQZ0QLBFCDZgGgi2CMEGTAPBFiHYgGkg2CL9g+3i+6PKc/+122ERbEAHBFukX7BdXH51oL+OevSb+UPr55i7RbABHRBskb5bbDf/h2yjPZtX370dHsEGdECwRXoH2/8M22gv3zn3rwSba4JgAzog2CL9gk13RYunt8HHfzgno4Mj2IAOCLZI3y226AhEKhyzY1hyM9ZYAGsRbBFNDQuQXBFsQAcEW6R/sLHFBuSIYItoaliAdPXyjXMfDu7uCv0vAYIN6IBgi2wRbGLxnfOHIUqCYAM6INgi2wWbejZ3j17Y8KAINqADgi3SP9h4jw3IEcEW0dSwAOnq6e3n2/L/H+26IRFsQAcEW6R/sC2+td+JKn4rCmSCYIv0DzZ/dA89kDdH9wAyQrBF+gebd3GZ4t21gGADOiDYIgQbMA0EW2SLYNMfwX+8PP5afwjPhwdAJgi2SP9g4+seQI4ItoimhgVIrgg2oAOCLbJVsD2b67aaPzhbAgQb0AHBFtki2G7ms/f+w4ObuTuz64ZEsAEdEGyR/sG2uJ6d26eiN3PeYwMyQbBF+gebzzSCDcgMwRbpH2zFods/KHdFn9h1QyLYgA4ItsgWwVZcvJOlVJpDsskNWWMBrEWwRTQ1LED6W/z5k/h54M9GCTagA4It0j/Yal/Qnf1t+CN8yM1YYwGsRbBFNDUsQDq6uJz9ohtq4q98eADkgmCLbBNsyzSLBgdEsAEdEGwRgg2YBoItsk2wyTLi+d/Dlz4Gp00EsAHBFtHUsADp6ek3/hejNjYggg3ogGCLbBlsHz99+nRrG29DhxvBBnRAsEW2CbbvNM6O9M+pXTMobSKADQi2iKaGBUhHi+vlD6kOkyQbwQZ0QLBF+gdb509FX/5j7tzbH+zru4tv9MxW5diG0RqCDeiAYIv0D7biqtxOWyyHWuw59+HHOz0m5b7G1ZWbvfBjYYn7R+sINqADgi2yRbCF99jU7L1ds+ri0g5CGQb0iCA6Zvux9482yA1ZYwGsRbBFNDUsQPqQndCOR/bY009Nq8TyGXb/aBPBBnRAsEW2CLY+p997eemjimADhkawRfoHW+3oHvd/h+3QWVARbMDQCLaIpoYFyI5JXFXvwZWJZRl2/2iDT1DxGcB64ww2a/wOWV4MtMV26Grvwl35lIs/Br1ntE5uxlIYwFpssUU0NSxAOtIvr21e5Gbug8/zW2F8jw0YFMEW0dSwAOkozSE9IgQb0AHBFiHYgGkg2CLbBJssY2bnduWQ5HassQDWItgimhoWIF09vf18G/5/xjkPgFwQbJEtgq2y+HboM1Qpgg3ogGCL9Au2i0v9PsbiH7KU+pAg1gg2oBOCLaKpYQHSgf/gYM8fiqO4K57ZNzkGRrABHRBskf7BFn0qesN7bEAuCLZIv2BbXM/O9Z+NEmxANgi2SL9gk93Q04OLS/cv/+baIbuiQDYItkjPYCsu3skSJT48ALJBsEU0NSxAckWwAR0QbJFtgm3xn7+pn46OeI8NyAXBFtki2A6dm+mxOOZu9n91PD7470KwAR0QbJH+wXZxqZ+KXoVTtIQTtgyLYAM6INgi2wSb7n/u6TEh0xzog2ADOiDYIv2DTbbTTg9CpvE9NiAbBFtki2Ar9jTP/CFyOWwRkAuCLbJNsCVGsAEdEGyR/sHW4/R7uyE3Y40FsBbBFtHUsADpI83HBgHBBnRAsEUINmAaCLYIwQZMA8EW6R9svMcG5Ihgi2hqWIB0VZ3M5fbzj3bdkAg2oAOCLbJFsKVGsAEdEGwRgg2YBoItQrAB00CwRbYMtqd//vRzivfXFMEGdECwRbYJtkNZKEhxygOCDeiCYItoaliAdHWlRyxSd8uhQRFsQAcEW6R/sEXfzU3zNV2CDeiAYIv0D7bF9fK4uXtuP8F5qgg2oAOCLdI/2PxPD/72y6e//pTmhwcEG9AFwRbZIthko+3193M3e/4iyWlFCTagC4Itsl2w6Tc9Xn///AdOmAzkgmCLbBFs5bc9/vbTPMn3PeSmrLEA1iLYIpoaFiAd+dPvhdO4cDIXIBsEW2SbYJM0C1/04OseQDYItgjBBkwDwRbZJthkmdKmYNsr34VbXNsS9s23xTevnHu7/PShMVojC1ljAaxFsEU0NSxAOlp8+4euH4Y+my9/Tnoz3z+IbujKzV7c6fTwm6zGaB3BBnRAsEX6B1vX/c+buXv0H9dlsF0tf66gDm3DTbbjdHpjtIFgAzog2CJbBdvXt6UNhy5aJtVy/9WfO74KMB9pjdEmWcoaC2Atgi2iqWEB0lGf99iWkXVoc8rCcgXBBuwcwRbR1LAA6ajPR6FVZJXakoxgA34/gi2SJtiq6AqHcCsDzK5vjDZIE73PANYbZ7BZ43fI8qJvsInF/9Icuvh/XoTR9ZZJpZ8kPPYfky4/Bn2/frROmwhgA7bYIlsEm4SU32ZbvHG1jzpbRJtgL9/MnXv7vtzT5HtswG4RbJH+weZ/KxrwW1EgGwRbpH+wLa6jYGt5r3/nCDagA4It0j/YdFd09tUvn/76D7ksI25IBBvQAcEW2SLYZKPtP/UIukdpjjNJsAFdEGyRrYKtKJ5++vmgSHTGZIIN6IBgi2wTbP4QuscnF5dtX6fdPYIN6IBgi2wRbFfuiX1Ll9PvAdkg2CL9g81nWgi2Pj9C2B7BBnRAsEX6B9tCT5gcIq31p507R7ABHRBskf7Bpsn29p/z2S9vOGEykA+CLbJFsEm0PTuS5db8AmrnCDagA4It0j/YLr4/qjznPTYgDwRbpH+wLb79Tb1yz+Vv59Mf/A4EG9ABwRbpH2wmze9EFcEGdECwRbYOtjRf9VAEG9ABwRbZItie3t7efvzT8sR6gyPYgA4Itkj/YAsnc5l9SLQjSrABnRBskf7BlhzBBnRAsEX6B1uf0+/thNyMNRbAWgRbRFPDAqSrl2+c+3CgS6XZ1iPYgA4ItsgWwSYW3zl/1qkkCDagA4Itsl2wqWdz92jj+fd2gWADOiDYIv2DjffYgBwRbBFNDQuQrp7efr4t/09xdHCCDeiAYIv0D7bFnz9Vfua3okAeCLZI/2BjVxTIEcEW0dSwAOko3Y9EDcEGdECwRQg2YBoItshWwfb1bZDmxKIEG9ABwRbZJthkmRIncwEyQbBFNDUsQPpLs1dKsAEdEGyRrYLt9StZzLnZexsfFsEGdECwRbYItpu5238sC728drNzu25IBBvQAcEW6R9si+tlnKU57wHBBnRAsEX6B1v0xhrvsQHZINgi/YOtOCz3QGWfNMV5Dwg2oAOCLbJFsBUv38lSKs0h2eSGrLEA1iLYIpoaFiC5ItiADgi2SL9ga7yp9mzOe2xAJgi2SM8ttis3+8E+CH09T/RNNoIN6IBgi/QMNn+2Azc7Kw67pdre8uOFxTevnHtbpuKG0RqCDeiAYIv0DTb1Un8t2uWEyc9ko86CTTb1XtzpFacdRusINqADgi2yTbAVF5cdfnJwM3eP/uPagu3Qfi6/CFfcP9pAsAEdEGyRfsFWO7KHuvfDg7tlUlWJ5TPs/tEmuRlrLIC1CLaIpoYFyAAINiAVgi1CsAHTQLBF0gTbMrHsivtHG6SJ3mcA640z2KzxO2R5kSTY9HPP9/5j0uXHoPeM1mkTAWzAFlskVbDxPTZgWARbZNhg2wmCDeiAYIsQbMA0EGwRgg2YBoItQrAB00CwRQg2YBoItgjBBkwDwRYh2IBpINgiBBswDQRbhGADpoFgixBswDQQbBGCDZgGgi1CsAHTQLBFCDZgGgi2CMEGTAPBFiHYgGkg2CIEGzANBFuEYAOmgWCLEGzANBBsEYINmAaCLUKwAdNAsEUINmAaCLYIwQZMA8EWIdiAaSDYIgQbMA0EW4RgA6aBYIsQbMA0EGwRgg2YBoItQrAB00CwRQg2YBoItgjBBkwDwRYh2IBpINgiBBswDQRbhGADpoFgixBswDQQbBGCDZgGgi1CsAHTQLBFCDZgGgi2CMEGTAPBFiHYgGkg2CIEGzANBFskWbBdXMpNqf0DHV1cx2PN0Rq52hoLYC2CLaKpYQEyrEN3akPqZu7O9HLPzc5XR+sINqADgi2SKtgW17Nfvndu9iFskl2VMRcGGqN1BBvQAcEWSRVsexJqL+6K13N3fOL3PJ+E6w9177Mx2kCwAR0QbJFUwbZ01ZJkBBvwuxFskeTBFqKr566osgYDaEWwmTIxLEAGdeh3QZcfE/T88MCzVgNoQ7AFlheJttj25uHWbFez8f2OxmiNXG0tBrAWwRbR1LAAyRXBBnRAsEUINmAaCLYIwQZMA8EWIdiAaSDYIgQbMA0EW+RhB5v06/hY24E6qQ3Li9EYrpwfdLD5nBgfaz1QI6VheTEaw1XzQw826+DxINiwBsEWIdhGhmDDGgRbhGAbGYINaxBsEYJtZAg2rEGwRQi2kSHYsAbBFiHYRoZgwxoEW4RgGxmCDWsQbBGCbWQINqxBsEUItpEh2LAGwRYh2EaGYMMaBFuEYBsZgg1rEGwRgm1kCDasQbBFCLaRIdiwBsEWIdhGhmDDGgRbhGAbGYINaxBsEYJtZAg2rEGwRQi2kSHYsAbBFiHYRoZgwxoEW4RgGxmCDWsQbBGCbWQINqxBsEUItpEh2LAGwRYh2EaGYMMaBFuEYBsZgg1rEGwRgm1kCDasQbBFCLaRIdiwBsEWIdhGhmDDGgRbhGAbGYINaxBsEYJtZAg2rEGwRQi2kSHYsAbBFiHYRkbaPD7W3xiUdLQVyWgMVxsE28hoToyPdTiGJP1sRTIaw5UGwTYyVG8S0uYxsh4fDWmydfiuEWwjQ/UmQWkkMVxpEGwjQ/UmQWkkMVxpZBNsi2tpitg/sCuWtInDoHqTGK56h0NpJDFcaWhqWIB8UTdzd6aXe2527q+oEGwxqjcJSiOJ4Uojl2C7cqeNgSWCLTbO6h0ja/14jLDN0mR7Lu5aJsEmO6JPwtDhys7oGIPNORvYuRG2ecgmj7HNNrBz4ywNey7uGsE2iBE+48YZErS5Ms7SsOfirkmbR7ArCgD95P7hAckGoK+7LILtnq97AAAAAAAAAAAAAAAAAEN7+Y+5c29/GNt3V/bKH4Dkb/HNqzH28Ji6WI20kDGIPec+/HhXPJuP62t50t7RPOuu3OyF7+HmD1XyNqYuFiMtZAzj4jL8jKIaGIGbuXv0H8uf7Oau/Elx9SPjERhXF4tRFjKGt+eOT2xwFEYTE/cdNCFvo0ripbEVMob08nJsG/AE2+DGGGzjK2TskuxpeGGj/XAUv3utt5lgG9z4gm0chYwkpHxn7214RMbzrBvle2xqZA0eaSFjGIfu+LENjsqInnVX/gk3uk9FRxZsYy1kDKLcv1Oj2p4Y07NupN9jG1WwjbaQAQAAAAAAAAAAAAAAAAAAAAAAAAAAAAAAAAAAAABAJhav3+nxDZ9zkl4AE3Ho3Nv3P95pvDl3SrYBGL3FtTu9s2ENudm5XNzMnV7oeQ7CCQ78UcHdh5B65Skvwzl9w9jFuzDny3/4bb8XOgwAX0bjZHph9Gbu860MNkmwR4/v7l6+CYnWEmw3c78WCcQPB3fFy3chHwHgS2ie6SSEVj3YZJ5wElSZqvm1GmyL63BNKUwBgC+j3Nk0bVtsElNLGmB7Nix8sIl/+bllwXf+akGwAfhi9D02GxR75XtsjS22lq262q7ooZ9D1yV7on6XlGAD8AWFT0UllvRT0fCG2+p7bLMXMsN3YUOsJdjkb0jAR4+L4uUbttgAfHGvv/efZf7dp5qIT9vrI85/Kjr7KpyjvC3Y7OL192G2q/pHEgCQkcW1bbsBwFQQbAAAAAAAAAAAAAAAAAAAYKyK4v8HVZQfaoz6snsAAAAASUVORK5CYII=)"
      ],
      "metadata": {
        "id": "JvqRH8D26nnI"
      }
    },
    {
      "cell_type": "markdown",
      "source": [
        "### Качественные бинарные данные"
      ],
      "metadata": {
        "id": "GZcZWiOLsjCc"
      }
    },
    {
      "cell_type": "markdown",
      "source": [
        "Бинарные данные имеют только 2 альтернативных варианта: выжил ли пассажир Титаника или нет (alive и его размеченный аналог survived) мужской или женский пол (sex), пассажир - взрослый мужчина или нет (adult_male), был ли пассажир один или с семьей (alone). Может быть закодирован как pd.Categorical, bool или как int c двумя возможными значениями: 0 или 1."
      ],
      "metadata": {
        "id": "4ajUDfWvs3YR"
      }
    },
    {
      "cell_type": "code",
      "source": [
        "df_titanic"
      ],
      "metadata": {
        "colab": {
          "base_uri": "https://localhost:8080/",
          "height": 423
        },
        "id": "T-VMIsJj6xS-",
        "outputId": "e9136c2b-8e68-4380-e4b2-e6a580753761"
      },
      "execution_count": null,
      "outputs": [
        {
          "output_type": "execute_result",
          "data": {
            "text/html": [
              "\n",
              "  <div id=\"df-87838b21-ef9c-494b-a82e-e5dc1b2a9735\">\n",
              "    <div class=\"colab-df-container\">\n",
              "      <div>\n",
              "<style scoped>\n",
              "    .dataframe tbody tr th:only-of-type {\n",
              "        vertical-align: middle;\n",
              "    }\n",
              "\n",
              "    .dataframe tbody tr th {\n",
              "        vertical-align: top;\n",
              "    }\n",
              "\n",
              "    .dataframe thead th {\n",
              "        text-align: right;\n",
              "    }\n",
              "</style>\n",
              "<table border=\"1\" class=\"dataframe\">\n",
              "  <thead>\n",
              "    <tr style=\"text-align: right;\">\n",
              "      <th></th>\n",
              "      <th>survived</th>\n",
              "      <th>pclass</th>\n",
              "      <th>sex</th>\n",
              "      <th>age</th>\n",
              "      <th>sibsp</th>\n",
              "      <th>parch</th>\n",
              "      <th>fare</th>\n",
              "      <th>embarked</th>\n",
              "      <th>class</th>\n",
              "      <th>who</th>\n",
              "      <th>adult_male</th>\n",
              "      <th>deck</th>\n",
              "      <th>embark_town</th>\n",
              "      <th>alive</th>\n",
              "      <th>alone</th>\n",
              "      <th>class_copy</th>\n",
              "    </tr>\n",
              "  </thead>\n",
              "  <tbody>\n",
              "    <tr>\n",
              "      <th>0</th>\n",
              "      <td>0</td>\n",
              "      <td>3</td>\n",
              "      <td>male</td>\n",
              "      <td>22.0</td>\n",
              "      <td>1</td>\n",
              "      <td>0</td>\n",
              "      <td>7.2500</td>\n",
              "      <td>S</td>\n",
              "      <td>Third</td>\n",
              "      <td>man</td>\n",
              "      <td>True</td>\n",
              "      <td>NaN</td>\n",
              "      <td>Southampton</td>\n",
              "      <td>no</td>\n",
              "      <td>False</td>\n",
              "      <td>3</td>\n",
              "    </tr>\n",
              "    <tr>\n",
              "      <th>1</th>\n",
              "      <td>1</td>\n",
              "      <td>1</td>\n",
              "      <td>female</td>\n",
              "      <td>38.0</td>\n",
              "      <td>1</td>\n",
              "      <td>0</td>\n",
              "      <td>71.2833</td>\n",
              "      <td>C</td>\n",
              "      <td>First</td>\n",
              "      <td>woman</td>\n",
              "      <td>False</td>\n",
              "      <td>C</td>\n",
              "      <td>Cherbourg</td>\n",
              "      <td>yes</td>\n",
              "      <td>False</td>\n",
              "      <td>1</td>\n",
              "    </tr>\n",
              "    <tr>\n",
              "      <th>2</th>\n",
              "      <td>1</td>\n",
              "      <td>3</td>\n",
              "      <td>female</td>\n",
              "      <td>26.0</td>\n",
              "      <td>0</td>\n",
              "      <td>0</td>\n",
              "      <td>7.9250</td>\n",
              "      <td>S</td>\n",
              "      <td>Third</td>\n",
              "      <td>woman</td>\n",
              "      <td>False</td>\n",
              "      <td>NaN</td>\n",
              "      <td>Southampton</td>\n",
              "      <td>yes</td>\n",
              "      <td>True</td>\n",
              "      <td>3</td>\n",
              "    </tr>\n",
              "    <tr>\n",
              "      <th>3</th>\n",
              "      <td>1</td>\n",
              "      <td>1</td>\n",
              "      <td>female</td>\n",
              "      <td>35.0</td>\n",
              "      <td>1</td>\n",
              "      <td>0</td>\n",
              "      <td>53.1000</td>\n",
              "      <td>S</td>\n",
              "      <td>First</td>\n",
              "      <td>woman</td>\n",
              "      <td>False</td>\n",
              "      <td>C</td>\n",
              "      <td>Southampton</td>\n",
              "      <td>yes</td>\n",
              "      <td>False</td>\n",
              "      <td>1</td>\n",
              "    </tr>\n",
              "    <tr>\n",
              "      <th>4</th>\n",
              "      <td>0</td>\n",
              "      <td>3</td>\n",
              "      <td>male</td>\n",
              "      <td>35.0</td>\n",
              "      <td>0</td>\n",
              "      <td>0</td>\n",
              "      <td>8.0500</td>\n",
              "      <td>S</td>\n",
              "      <td>Third</td>\n",
              "      <td>man</td>\n",
              "      <td>True</td>\n",
              "      <td>NaN</td>\n",
              "      <td>Southampton</td>\n",
              "      <td>no</td>\n",
              "      <td>True</td>\n",
              "      <td>3</td>\n",
              "    </tr>\n",
              "    <tr>\n",
              "      <th>...</th>\n",
              "      <td>...</td>\n",
              "      <td>...</td>\n",
              "      <td>...</td>\n",
              "      <td>...</td>\n",
              "      <td>...</td>\n",
              "      <td>...</td>\n",
              "      <td>...</td>\n",
              "      <td>...</td>\n",
              "      <td>...</td>\n",
              "      <td>...</td>\n",
              "      <td>...</td>\n",
              "      <td>...</td>\n",
              "      <td>...</td>\n",
              "      <td>...</td>\n",
              "      <td>...</td>\n",
              "      <td>...</td>\n",
              "    </tr>\n",
              "    <tr>\n",
              "      <th>886</th>\n",
              "      <td>0</td>\n",
              "      <td>2</td>\n",
              "      <td>male</td>\n",
              "      <td>27.0</td>\n",
              "      <td>0</td>\n",
              "      <td>0</td>\n",
              "      <td>13.0000</td>\n",
              "      <td>S</td>\n",
              "      <td>Second</td>\n",
              "      <td>man</td>\n",
              "      <td>True</td>\n",
              "      <td>NaN</td>\n",
              "      <td>Southampton</td>\n",
              "      <td>no</td>\n",
              "      <td>True</td>\n",
              "      <td>2</td>\n",
              "    </tr>\n",
              "    <tr>\n",
              "      <th>887</th>\n",
              "      <td>1</td>\n",
              "      <td>1</td>\n",
              "      <td>female</td>\n",
              "      <td>19.0</td>\n",
              "      <td>0</td>\n",
              "      <td>0</td>\n",
              "      <td>30.0000</td>\n",
              "      <td>S</td>\n",
              "      <td>First</td>\n",
              "      <td>woman</td>\n",
              "      <td>False</td>\n",
              "      <td>B</td>\n",
              "      <td>Southampton</td>\n",
              "      <td>yes</td>\n",
              "      <td>True</td>\n",
              "      <td>1</td>\n",
              "    </tr>\n",
              "    <tr>\n",
              "      <th>888</th>\n",
              "      <td>0</td>\n",
              "      <td>3</td>\n",
              "      <td>female</td>\n",
              "      <td>NaN</td>\n",
              "      <td>1</td>\n",
              "      <td>2</td>\n",
              "      <td>23.4500</td>\n",
              "      <td>S</td>\n",
              "      <td>Third</td>\n",
              "      <td>woman</td>\n",
              "      <td>False</td>\n",
              "      <td>NaN</td>\n",
              "      <td>Southampton</td>\n",
              "      <td>no</td>\n",
              "      <td>False</td>\n",
              "      <td>3</td>\n",
              "    </tr>\n",
              "    <tr>\n",
              "      <th>889</th>\n",
              "      <td>1</td>\n",
              "      <td>1</td>\n",
              "      <td>male</td>\n",
              "      <td>26.0</td>\n",
              "      <td>0</td>\n",
              "      <td>0</td>\n",
              "      <td>30.0000</td>\n",
              "      <td>C</td>\n",
              "      <td>First</td>\n",
              "      <td>man</td>\n",
              "      <td>True</td>\n",
              "      <td>C</td>\n",
              "      <td>Cherbourg</td>\n",
              "      <td>yes</td>\n",
              "      <td>True</td>\n",
              "      <td>1</td>\n",
              "    </tr>\n",
              "    <tr>\n",
              "      <th>890</th>\n",
              "      <td>0</td>\n",
              "      <td>3</td>\n",
              "      <td>male</td>\n",
              "      <td>32.0</td>\n",
              "      <td>0</td>\n",
              "      <td>0</td>\n",
              "      <td>7.7500</td>\n",
              "      <td>Q</td>\n",
              "      <td>Third</td>\n",
              "      <td>man</td>\n",
              "      <td>True</td>\n",
              "      <td>NaN</td>\n",
              "      <td>Queenstown</td>\n",
              "      <td>no</td>\n",
              "      <td>True</td>\n",
              "      <td>3</td>\n",
              "    </tr>\n",
              "  </tbody>\n",
              "</table>\n",
              "<p>891 rows × 16 columns</p>\n",
              "</div>\n",
              "      <button class=\"colab-df-convert\" onclick=\"convertToInteractive('df-87838b21-ef9c-494b-a82e-e5dc1b2a9735')\"\n",
              "              title=\"Convert this dataframe to an interactive table.\"\n",
              "              style=\"display:none;\">\n",
              "        \n",
              "  <svg xmlns=\"http://www.w3.org/2000/svg\" height=\"24px\"viewBox=\"0 0 24 24\"\n",
              "       width=\"24px\">\n",
              "    <path d=\"M0 0h24v24H0V0z\" fill=\"none\"/>\n",
              "    <path d=\"M18.56 5.44l.94 2.06.94-2.06 2.06-.94-2.06-.94-.94-2.06-.94 2.06-2.06.94zm-11 1L8.5 8.5l.94-2.06 2.06-.94-2.06-.94L8.5 2.5l-.94 2.06-2.06.94zm10 10l.94 2.06.94-2.06 2.06-.94-2.06-.94-.94-2.06-.94 2.06-2.06.94z\"/><path d=\"M17.41 7.96l-1.37-1.37c-.4-.4-.92-.59-1.43-.59-.52 0-1.04.2-1.43.59L10.3 9.45l-7.72 7.72c-.78.78-.78 2.05 0 2.83L4 21.41c.39.39.9.59 1.41.59.51 0 1.02-.2 1.41-.59l7.78-7.78 2.81-2.81c.8-.78.8-2.07 0-2.86zM5.41 20L4 18.59l7.72-7.72 1.47 1.35L5.41 20z\"/>\n",
              "  </svg>\n",
              "      </button>\n",
              "      \n",
              "  <style>\n",
              "    .colab-df-container {\n",
              "      display:flex;\n",
              "      flex-wrap:wrap;\n",
              "      gap: 12px;\n",
              "    }\n",
              "\n",
              "    .colab-df-convert {\n",
              "      background-color: #E8F0FE;\n",
              "      border: none;\n",
              "      border-radius: 50%;\n",
              "      cursor: pointer;\n",
              "      display: none;\n",
              "      fill: #1967D2;\n",
              "      height: 32px;\n",
              "      padding: 0 0 0 0;\n",
              "      width: 32px;\n",
              "    }\n",
              "\n",
              "    .colab-df-convert:hover {\n",
              "      background-color: #E2EBFA;\n",
              "      box-shadow: 0px 1px 2px rgba(60, 64, 67, 0.3), 0px 1px 3px 1px rgba(60, 64, 67, 0.15);\n",
              "      fill: #174EA6;\n",
              "    }\n",
              "\n",
              "    [theme=dark] .colab-df-convert {\n",
              "      background-color: #3B4455;\n",
              "      fill: #D2E3FC;\n",
              "    }\n",
              "\n",
              "    [theme=dark] .colab-df-convert:hover {\n",
              "      background-color: #434B5C;\n",
              "      box-shadow: 0px 1px 3px 1px rgba(0, 0, 0, 0.15);\n",
              "      filter: drop-shadow(0px 1px 2px rgba(0, 0, 0, 0.3));\n",
              "      fill: #FFFFFF;\n",
              "    }\n",
              "  </style>\n",
              "\n",
              "      <script>\n",
              "        const buttonEl =\n",
              "          document.querySelector('#df-87838b21-ef9c-494b-a82e-e5dc1b2a9735 button.colab-df-convert');\n",
              "        buttonEl.style.display =\n",
              "          google.colab.kernel.accessAllowed ? 'block' : 'none';\n",
              "\n",
              "        async function convertToInteractive(key) {\n",
              "          const element = document.querySelector('#df-87838b21-ef9c-494b-a82e-e5dc1b2a9735');\n",
              "          const dataTable =\n",
              "            await google.colab.kernel.invokeFunction('convertToInteractive',\n",
              "                                                     [key], {});\n",
              "          if (!dataTable) return;\n",
              "\n",
              "          const docLinkHtml = 'Like what you see? Visit the ' +\n",
              "            '<a target=\"_blank\" href=https://colab.research.google.com/notebooks/data_table.ipynb>data table notebook</a>'\n",
              "            + ' to learn more about interactive tables.';\n",
              "          element.innerHTML = '';\n",
              "          dataTable['output_type'] = 'display_data';\n",
              "          await google.colab.output.renderOutput(dataTable, element);\n",
              "          const docLink = document.createElement('div');\n",
              "          docLink.innerHTML = docLinkHtml;\n",
              "          element.appendChild(docLink);\n",
              "        }\n",
              "      </script>\n",
              "    </div>\n",
              "  </div>\n",
              "  "
            ],
            "text/plain": [
              "     survived  pclass     sex   age  ...  embark_town  alive  alone class_copy\n",
              "0           0       3    male  22.0  ...  Southampton     no  False          3\n",
              "1           1       1  female  38.0  ...    Cherbourg    yes  False          1\n",
              "2           1       3  female  26.0  ...  Southampton    yes   True          3\n",
              "3           1       1  female  35.0  ...  Southampton    yes  False          1\n",
              "4           0       3    male  35.0  ...  Southampton     no   True          3\n",
              "..        ...     ...     ...   ...  ...          ...    ...    ...        ...\n",
              "886         0       2    male  27.0  ...  Southampton     no   True          2\n",
              "887         1       1  female  19.0  ...  Southampton    yes   True          1\n",
              "888         0       3  female   NaN  ...  Southampton     no  False          3\n",
              "889         1       1    male  26.0  ...    Cherbourg    yes   True          1\n",
              "890         0       3    male  32.0  ...   Queenstown     no   True          3\n",
              "\n",
              "[891 rows x 16 columns]"
            ]
          },
          "metadata": {},
          "execution_count": 26
        }
      ]
    },
    {
      "cell_type": "code",
      "source": [
        "# Используем pd.Categorical, чтобы автоматически присвоить коды для переменных\n",
        "alive_categories = pd.Categorical(df_titanic['alive'])\n",
        "alive_categories"
      ],
      "metadata": {
        "colab": {
          "base_uri": "https://localhost:8080/"
        },
        "id": "z5qCsOBUvkP9",
        "outputId": "7205889f-486a-40e4-8159-2a6d84f843dd"
      },
      "execution_count": null,
      "outputs": [
        {
          "output_type": "execute_result",
          "data": {
            "text/plain": [
              "['no', 'yes', 'yes', 'yes', 'no', ..., 'no', 'yes', 'no', 'yes', 'no']\n",
              "Length: 891\n",
              "Categories (2, object): ['no', 'yes']"
            ]
          },
          "metadata": {},
          "execution_count": 27
        }
      ]
    },
    {
      "cell_type": "code",
      "source": [
        "alive_categories.codes[:20]"
      ],
      "metadata": {
        "colab": {
          "base_uri": "https://localhost:8080/"
        },
        "id": "ER-9km_TwCbT",
        "outputId": "4e9c8610-b2e9-49c2-aee5-99f4148b69b1"
      },
      "execution_count": null,
      "outputs": [
        {
          "output_type": "execute_result",
          "data": {
            "text/plain": [
              "array([0, 1, 1, 1, 0, 0, 0, 0, 1, 1, 1, 1, 0, 0, 0, 1, 0, 1, 0, 1],\n",
              "      dtype=int8)"
            ]
          },
          "metadata": {},
          "execution_count": 28
        }
      ]
    },
    {
      "cell_type": "code",
      "source": [
        "# Бинарные данные как bool значение\n",
        "alive_bool = (alive_categories == 'yes')\n",
        "alive_bool[:20]"
      ],
      "metadata": {
        "colab": {
          "base_uri": "https://localhost:8080/"
        },
        "id": "BLmreE5KwLXh",
        "outputId": "7c1e7d4f-15dd-4338-b6f6-65c125038f67"
      },
      "execution_count": null,
      "outputs": [
        {
          "output_type": "execute_result",
          "data": {
            "text/plain": [
              "array([False,  True,  True,  True, False, False, False, False,  True,\n",
              "        True,  True,  True, False, False, False,  True, False,  True,\n",
              "       False,  True])"
            ]
          },
          "metadata": {},
          "execution_count": 29
        }
      ]
    },
    {
      "cell_type": "code",
      "source": [
        "# alive_bool теперь можно перевести в int\n",
        "alive_bool.astype(int)[:20]"
      ],
      "metadata": {
        "colab": {
          "base_uri": "https://localhost:8080/"
        },
        "id": "FhegQDvhwZF6",
        "outputId": "1ff50472-ce8d-4df8-e982-d4b2b2245075"
      },
      "execution_count": null,
      "outputs": [
        {
          "output_type": "execute_result",
          "data": {
            "text/plain": [
              "array([0, 1, 1, 1, 0, 0, 0, 0, 1, 1, 1, 1, 0, 0, 0, 1, 0, 1, 0, 1])"
            ]
          },
          "metadata": {},
          "execution_count": 30
        }
      ]
    },
    {
      "cell_type": "markdown",
      "source": [
        "### Качественные номинальные данные"
      ],
      "metadata": {
        "id": "MpbPi2i6ww0p"
      }
    },
    {
      "cell_type": "markdown",
      "source": [
        "Представляют собой категории, которые не поддаются измерению или сравнению. Примерами могут служить embarked и embark_town (город отправления), who (взрослый мужчина, взрослая женщина или ребенок), deck (палуба)."
      ],
      "metadata": {
        "id": "D6F6wENZxdsF"
      }
    },
    {
      "cell_type": "code",
      "source": [
        "df_titanic"
      ],
      "metadata": {
        "colab": {
          "base_uri": "https://localhost:8080/",
          "height": 423
        },
        "id": "f2NsICrjxjrH",
        "outputId": "75ba04cd-c883-4291-c081-0bf7bf19dddc"
      },
      "execution_count": null,
      "outputs": [
        {
          "output_type": "execute_result",
          "data": {
            "text/html": [
              "\n",
              "  <div id=\"df-d27bfb2d-3ca2-4fb2-a7a7-0f7f985918fc\">\n",
              "    <div class=\"colab-df-container\">\n",
              "      <div>\n",
              "<style scoped>\n",
              "    .dataframe tbody tr th:only-of-type {\n",
              "        vertical-align: middle;\n",
              "    }\n",
              "\n",
              "    .dataframe tbody tr th {\n",
              "        vertical-align: top;\n",
              "    }\n",
              "\n",
              "    .dataframe thead th {\n",
              "        text-align: right;\n",
              "    }\n",
              "</style>\n",
              "<table border=\"1\" class=\"dataframe\">\n",
              "  <thead>\n",
              "    <tr style=\"text-align: right;\">\n",
              "      <th></th>\n",
              "      <th>survived</th>\n",
              "      <th>pclass</th>\n",
              "      <th>sex</th>\n",
              "      <th>age</th>\n",
              "      <th>sibsp</th>\n",
              "      <th>parch</th>\n",
              "      <th>fare</th>\n",
              "      <th>embarked</th>\n",
              "      <th>class</th>\n",
              "      <th>who</th>\n",
              "      <th>adult_male</th>\n",
              "      <th>deck</th>\n",
              "      <th>embark_town</th>\n",
              "      <th>alive</th>\n",
              "      <th>alone</th>\n",
              "      <th>class_copy</th>\n",
              "    </tr>\n",
              "  </thead>\n",
              "  <tbody>\n",
              "    <tr>\n",
              "      <th>0</th>\n",
              "      <td>0</td>\n",
              "      <td>3</td>\n",
              "      <td>male</td>\n",
              "      <td>22.0</td>\n",
              "      <td>1</td>\n",
              "      <td>0</td>\n",
              "      <td>7.2500</td>\n",
              "      <td>S</td>\n",
              "      <td>Third</td>\n",
              "      <td>man</td>\n",
              "      <td>True</td>\n",
              "      <td>NaN</td>\n",
              "      <td>Southampton</td>\n",
              "      <td>no</td>\n",
              "      <td>False</td>\n",
              "      <td>3</td>\n",
              "    </tr>\n",
              "    <tr>\n",
              "      <th>1</th>\n",
              "      <td>1</td>\n",
              "      <td>1</td>\n",
              "      <td>female</td>\n",
              "      <td>38.0</td>\n",
              "      <td>1</td>\n",
              "      <td>0</td>\n",
              "      <td>71.2833</td>\n",
              "      <td>C</td>\n",
              "      <td>First</td>\n",
              "      <td>woman</td>\n",
              "      <td>False</td>\n",
              "      <td>C</td>\n",
              "      <td>Cherbourg</td>\n",
              "      <td>yes</td>\n",
              "      <td>False</td>\n",
              "      <td>1</td>\n",
              "    </tr>\n",
              "    <tr>\n",
              "      <th>2</th>\n",
              "      <td>1</td>\n",
              "      <td>3</td>\n",
              "      <td>female</td>\n",
              "      <td>26.0</td>\n",
              "      <td>0</td>\n",
              "      <td>0</td>\n",
              "      <td>7.9250</td>\n",
              "      <td>S</td>\n",
              "      <td>Third</td>\n",
              "      <td>woman</td>\n",
              "      <td>False</td>\n",
              "      <td>NaN</td>\n",
              "      <td>Southampton</td>\n",
              "      <td>yes</td>\n",
              "      <td>True</td>\n",
              "      <td>3</td>\n",
              "    </tr>\n",
              "    <tr>\n",
              "      <th>3</th>\n",
              "      <td>1</td>\n",
              "      <td>1</td>\n",
              "      <td>female</td>\n",
              "      <td>35.0</td>\n",
              "      <td>1</td>\n",
              "      <td>0</td>\n",
              "      <td>53.1000</td>\n",
              "      <td>S</td>\n",
              "      <td>First</td>\n",
              "      <td>woman</td>\n",
              "      <td>False</td>\n",
              "      <td>C</td>\n",
              "      <td>Southampton</td>\n",
              "      <td>yes</td>\n",
              "      <td>False</td>\n",
              "      <td>1</td>\n",
              "    </tr>\n",
              "    <tr>\n",
              "      <th>4</th>\n",
              "      <td>0</td>\n",
              "      <td>3</td>\n",
              "      <td>male</td>\n",
              "      <td>35.0</td>\n",
              "      <td>0</td>\n",
              "      <td>0</td>\n",
              "      <td>8.0500</td>\n",
              "      <td>S</td>\n",
              "      <td>Third</td>\n",
              "      <td>man</td>\n",
              "      <td>True</td>\n",
              "      <td>NaN</td>\n",
              "      <td>Southampton</td>\n",
              "      <td>no</td>\n",
              "      <td>True</td>\n",
              "      <td>3</td>\n",
              "    </tr>\n",
              "    <tr>\n",
              "      <th>...</th>\n",
              "      <td>...</td>\n",
              "      <td>...</td>\n",
              "      <td>...</td>\n",
              "      <td>...</td>\n",
              "      <td>...</td>\n",
              "      <td>...</td>\n",
              "      <td>...</td>\n",
              "      <td>...</td>\n",
              "      <td>...</td>\n",
              "      <td>...</td>\n",
              "      <td>...</td>\n",
              "      <td>...</td>\n",
              "      <td>...</td>\n",
              "      <td>...</td>\n",
              "      <td>...</td>\n",
              "      <td>...</td>\n",
              "    </tr>\n",
              "    <tr>\n",
              "      <th>886</th>\n",
              "      <td>0</td>\n",
              "      <td>2</td>\n",
              "      <td>male</td>\n",
              "      <td>27.0</td>\n",
              "      <td>0</td>\n",
              "      <td>0</td>\n",
              "      <td>13.0000</td>\n",
              "      <td>S</td>\n",
              "      <td>Second</td>\n",
              "      <td>man</td>\n",
              "      <td>True</td>\n",
              "      <td>NaN</td>\n",
              "      <td>Southampton</td>\n",
              "      <td>no</td>\n",
              "      <td>True</td>\n",
              "      <td>2</td>\n",
              "    </tr>\n",
              "    <tr>\n",
              "      <th>887</th>\n",
              "      <td>1</td>\n",
              "      <td>1</td>\n",
              "      <td>female</td>\n",
              "      <td>19.0</td>\n",
              "      <td>0</td>\n",
              "      <td>0</td>\n",
              "      <td>30.0000</td>\n",
              "      <td>S</td>\n",
              "      <td>First</td>\n",
              "      <td>woman</td>\n",
              "      <td>False</td>\n",
              "      <td>B</td>\n",
              "      <td>Southampton</td>\n",
              "      <td>yes</td>\n",
              "      <td>True</td>\n",
              "      <td>1</td>\n",
              "    </tr>\n",
              "    <tr>\n",
              "      <th>888</th>\n",
              "      <td>0</td>\n",
              "      <td>3</td>\n",
              "      <td>female</td>\n",
              "      <td>NaN</td>\n",
              "      <td>1</td>\n",
              "      <td>2</td>\n",
              "      <td>23.4500</td>\n",
              "      <td>S</td>\n",
              "      <td>Third</td>\n",
              "      <td>woman</td>\n",
              "      <td>False</td>\n",
              "      <td>NaN</td>\n",
              "      <td>Southampton</td>\n",
              "      <td>no</td>\n",
              "      <td>False</td>\n",
              "      <td>3</td>\n",
              "    </tr>\n",
              "    <tr>\n",
              "      <th>889</th>\n",
              "      <td>1</td>\n",
              "      <td>1</td>\n",
              "      <td>male</td>\n",
              "      <td>26.0</td>\n",
              "      <td>0</td>\n",
              "      <td>0</td>\n",
              "      <td>30.0000</td>\n",
              "      <td>C</td>\n",
              "      <td>First</td>\n",
              "      <td>man</td>\n",
              "      <td>True</td>\n",
              "      <td>C</td>\n",
              "      <td>Cherbourg</td>\n",
              "      <td>yes</td>\n",
              "      <td>True</td>\n",
              "      <td>1</td>\n",
              "    </tr>\n",
              "    <tr>\n",
              "      <th>890</th>\n",
              "      <td>0</td>\n",
              "      <td>3</td>\n",
              "      <td>male</td>\n",
              "      <td>32.0</td>\n",
              "      <td>0</td>\n",
              "      <td>0</td>\n",
              "      <td>7.7500</td>\n",
              "      <td>Q</td>\n",
              "      <td>Third</td>\n",
              "      <td>man</td>\n",
              "      <td>True</td>\n",
              "      <td>NaN</td>\n",
              "      <td>Queenstown</td>\n",
              "      <td>no</td>\n",
              "      <td>True</td>\n",
              "      <td>3</td>\n",
              "    </tr>\n",
              "  </tbody>\n",
              "</table>\n",
              "<p>891 rows × 16 columns</p>\n",
              "</div>\n",
              "      <button class=\"colab-df-convert\" onclick=\"convertToInteractive('df-d27bfb2d-3ca2-4fb2-a7a7-0f7f985918fc')\"\n",
              "              title=\"Convert this dataframe to an interactive table.\"\n",
              "              style=\"display:none;\">\n",
              "        \n",
              "  <svg xmlns=\"http://www.w3.org/2000/svg\" height=\"24px\"viewBox=\"0 0 24 24\"\n",
              "       width=\"24px\">\n",
              "    <path d=\"M0 0h24v24H0V0z\" fill=\"none\"/>\n",
              "    <path d=\"M18.56 5.44l.94 2.06.94-2.06 2.06-.94-2.06-.94-.94-2.06-.94 2.06-2.06.94zm-11 1L8.5 8.5l.94-2.06 2.06-.94-2.06-.94L8.5 2.5l-.94 2.06-2.06.94zm10 10l.94 2.06.94-2.06 2.06-.94-2.06-.94-.94-2.06-.94 2.06-2.06.94z\"/><path d=\"M17.41 7.96l-1.37-1.37c-.4-.4-.92-.59-1.43-.59-.52 0-1.04.2-1.43.59L10.3 9.45l-7.72 7.72c-.78.78-.78 2.05 0 2.83L4 21.41c.39.39.9.59 1.41.59.51 0 1.02-.2 1.41-.59l7.78-7.78 2.81-2.81c.8-.78.8-2.07 0-2.86zM5.41 20L4 18.59l7.72-7.72 1.47 1.35L5.41 20z\"/>\n",
              "  </svg>\n",
              "      </button>\n",
              "      \n",
              "  <style>\n",
              "    .colab-df-container {\n",
              "      display:flex;\n",
              "      flex-wrap:wrap;\n",
              "      gap: 12px;\n",
              "    }\n",
              "\n",
              "    .colab-df-convert {\n",
              "      background-color: #E8F0FE;\n",
              "      border: none;\n",
              "      border-radius: 50%;\n",
              "      cursor: pointer;\n",
              "      display: none;\n",
              "      fill: #1967D2;\n",
              "      height: 32px;\n",
              "      padding: 0 0 0 0;\n",
              "      width: 32px;\n",
              "    }\n",
              "\n",
              "    .colab-df-convert:hover {\n",
              "      background-color: #E2EBFA;\n",
              "      box-shadow: 0px 1px 2px rgba(60, 64, 67, 0.3), 0px 1px 3px 1px rgba(60, 64, 67, 0.15);\n",
              "      fill: #174EA6;\n",
              "    }\n",
              "\n",
              "    [theme=dark] .colab-df-convert {\n",
              "      background-color: #3B4455;\n",
              "      fill: #D2E3FC;\n",
              "    }\n",
              "\n",
              "    [theme=dark] .colab-df-convert:hover {\n",
              "      background-color: #434B5C;\n",
              "      box-shadow: 0px 1px 3px 1px rgba(0, 0, 0, 0.15);\n",
              "      filter: drop-shadow(0px 1px 2px rgba(0, 0, 0, 0.3));\n",
              "      fill: #FFFFFF;\n",
              "    }\n",
              "  </style>\n",
              "\n",
              "      <script>\n",
              "        const buttonEl =\n",
              "          document.querySelector('#df-d27bfb2d-3ca2-4fb2-a7a7-0f7f985918fc button.colab-df-convert');\n",
              "        buttonEl.style.display =\n",
              "          google.colab.kernel.accessAllowed ? 'block' : 'none';\n",
              "\n",
              "        async function convertToInteractive(key) {\n",
              "          const element = document.querySelector('#df-d27bfb2d-3ca2-4fb2-a7a7-0f7f985918fc');\n",
              "          const dataTable =\n",
              "            await google.colab.kernel.invokeFunction('convertToInteractive',\n",
              "                                                     [key], {});\n",
              "          if (!dataTable) return;\n",
              "\n",
              "          const docLinkHtml = 'Like what you see? Visit the ' +\n",
              "            '<a target=\"_blank\" href=https://colab.research.google.com/notebooks/data_table.ipynb>data table notebook</a>'\n",
              "            + ' to learn more about interactive tables.';\n",
              "          element.innerHTML = '';\n",
              "          dataTable['output_type'] = 'display_data';\n",
              "          await google.colab.output.renderOutput(dataTable, element);\n",
              "          const docLink = document.createElement('div');\n",
              "          docLink.innerHTML = docLinkHtml;\n",
              "          element.appendChild(docLink);\n",
              "        }\n",
              "      </script>\n",
              "    </div>\n",
              "  </div>\n",
              "  "
            ],
            "text/plain": [
              "     survived  pclass     sex   age  ...  embark_town  alive  alone class_copy\n",
              "0           0       3    male  22.0  ...  Southampton     no  False          3\n",
              "1           1       1  female  38.0  ...    Cherbourg    yes  False          1\n",
              "2           1       3  female  26.0  ...  Southampton    yes   True          3\n",
              "3           1       1  female  35.0  ...  Southampton    yes  False          1\n",
              "4           0       3    male  35.0  ...  Southampton     no   True          3\n",
              "..        ...     ...     ...   ...  ...          ...    ...    ...        ...\n",
              "886         0       2    male  27.0  ...  Southampton     no   True          2\n",
              "887         1       1  female  19.0  ...  Southampton    yes   True          1\n",
              "888         0       3  female   NaN  ...  Southampton     no  False          3\n",
              "889         1       1    male  26.0  ...    Cherbourg    yes   True          1\n",
              "890         0       3    male  32.0  ...   Queenstown     no   True          3\n",
              "\n",
              "[891 rows x 16 columns]"
            ]
          },
          "metadata": {},
          "execution_count": 31
        }
      ]
    },
    {
      "cell_type": "code",
      "source": [
        "# Способ закодировать номаниальные данные №1: Представить как несколько бинарных данных\n",
        "# One-hot encoding\n",
        "\n",
        "# Простой способ\n",
        "pd.get_dummies(df_titanic, columns=['embark_town'])"
      ],
      "metadata": {
        "colab": {
          "base_uri": "https://localhost:8080/",
          "height": 424
        },
        "id": "ydL8ogPOyZrY",
        "outputId": "039087d1-bfec-45a6-c148-1f1babbbb34d"
      },
      "execution_count": null,
      "outputs": [
        {
          "output_type": "execute_result",
          "data": {
            "text/html": [
              "<div>\n",
              "<style scoped>\n",
              "    .dataframe tbody tr th:only-of-type {\n",
              "        vertical-align: middle;\n",
              "    }\n",
              "\n",
              "    .dataframe tbody tr th {\n",
              "        vertical-align: top;\n",
              "    }\n",
              "\n",
              "    .dataframe thead th {\n",
              "        text-align: right;\n",
              "    }\n",
              "</style>\n",
              "<table border=\"1\" class=\"dataframe\">\n",
              "  <thead>\n",
              "    <tr style=\"text-align: right;\">\n",
              "      <th></th>\n",
              "      <th>survived</th>\n",
              "      <th>pclass</th>\n",
              "      <th>sex</th>\n",
              "      <th>age</th>\n",
              "      <th>sibsp</th>\n",
              "      <th>parch</th>\n",
              "      <th>fare</th>\n",
              "      <th>embarked</th>\n",
              "      <th>class</th>\n",
              "      <th>who</th>\n",
              "      <th>adult_male</th>\n",
              "      <th>deck</th>\n",
              "      <th>alive</th>\n",
              "      <th>alone</th>\n",
              "      <th>embark_town_Cherbourg</th>\n",
              "      <th>embark_town_Queenstown</th>\n",
              "      <th>embark_town_Southampton</th>\n",
              "    </tr>\n",
              "  </thead>\n",
              "  <tbody>\n",
              "    <tr>\n",
              "      <th>0</th>\n",
              "      <td>0</td>\n",
              "      <td>3</td>\n",
              "      <td>male</td>\n",
              "      <td>22.0</td>\n",
              "      <td>1</td>\n",
              "      <td>0</td>\n",
              "      <td>7.2500</td>\n",
              "      <td>S</td>\n",
              "      <td>Third</td>\n",
              "      <td>man</td>\n",
              "      <td>True</td>\n",
              "      <td>NaN</td>\n",
              "      <td>no</td>\n",
              "      <td>False</td>\n",
              "      <td>0</td>\n",
              "      <td>0</td>\n",
              "      <td>1</td>\n",
              "    </tr>\n",
              "    <tr>\n",
              "      <th>1</th>\n",
              "      <td>1</td>\n",
              "      <td>1</td>\n",
              "      <td>female</td>\n",
              "      <td>38.0</td>\n",
              "      <td>1</td>\n",
              "      <td>0</td>\n",
              "      <td>71.2833</td>\n",
              "      <td>C</td>\n",
              "      <td>First</td>\n",
              "      <td>woman</td>\n",
              "      <td>False</td>\n",
              "      <td>C</td>\n",
              "      <td>yes</td>\n",
              "      <td>False</td>\n",
              "      <td>1</td>\n",
              "      <td>0</td>\n",
              "      <td>0</td>\n",
              "    </tr>\n",
              "    <tr>\n",
              "      <th>2</th>\n",
              "      <td>1</td>\n",
              "      <td>3</td>\n",
              "      <td>female</td>\n",
              "      <td>26.0</td>\n",
              "      <td>0</td>\n",
              "      <td>0</td>\n",
              "      <td>7.9250</td>\n",
              "      <td>S</td>\n",
              "      <td>Third</td>\n",
              "      <td>woman</td>\n",
              "      <td>False</td>\n",
              "      <td>NaN</td>\n",
              "      <td>yes</td>\n",
              "      <td>True</td>\n",
              "      <td>0</td>\n",
              "      <td>0</td>\n",
              "      <td>1</td>\n",
              "    </tr>\n",
              "    <tr>\n",
              "      <th>3</th>\n",
              "      <td>1</td>\n",
              "      <td>1</td>\n",
              "      <td>female</td>\n",
              "      <td>35.0</td>\n",
              "      <td>1</td>\n",
              "      <td>0</td>\n",
              "      <td>53.1000</td>\n",
              "      <td>S</td>\n",
              "      <td>First</td>\n",
              "      <td>woman</td>\n",
              "      <td>False</td>\n",
              "      <td>C</td>\n",
              "      <td>yes</td>\n",
              "      <td>False</td>\n",
              "      <td>0</td>\n",
              "      <td>0</td>\n",
              "      <td>1</td>\n",
              "    </tr>\n",
              "    <tr>\n",
              "      <th>4</th>\n",
              "      <td>0</td>\n",
              "      <td>3</td>\n",
              "      <td>male</td>\n",
              "      <td>35.0</td>\n",
              "      <td>0</td>\n",
              "      <td>0</td>\n",
              "      <td>8.0500</td>\n",
              "      <td>S</td>\n",
              "      <td>Third</td>\n",
              "      <td>man</td>\n",
              "      <td>True</td>\n",
              "      <td>NaN</td>\n",
              "      <td>no</td>\n",
              "      <td>True</td>\n",
              "      <td>0</td>\n",
              "      <td>0</td>\n",
              "      <td>1</td>\n",
              "    </tr>\n",
              "    <tr>\n",
              "      <th>...</th>\n",
              "      <td>...</td>\n",
              "      <td>...</td>\n",
              "      <td>...</td>\n",
              "      <td>...</td>\n",
              "      <td>...</td>\n",
              "      <td>...</td>\n",
              "      <td>...</td>\n",
              "      <td>...</td>\n",
              "      <td>...</td>\n",
              "      <td>...</td>\n",
              "      <td>...</td>\n",
              "      <td>...</td>\n",
              "      <td>...</td>\n",
              "      <td>...</td>\n",
              "      <td>...</td>\n",
              "      <td>...</td>\n",
              "      <td>...</td>\n",
              "    </tr>\n",
              "    <tr>\n",
              "      <th>886</th>\n",
              "      <td>0</td>\n",
              "      <td>2</td>\n",
              "      <td>male</td>\n",
              "      <td>27.0</td>\n",
              "      <td>0</td>\n",
              "      <td>0</td>\n",
              "      <td>13.0000</td>\n",
              "      <td>S</td>\n",
              "      <td>Second</td>\n",
              "      <td>man</td>\n",
              "      <td>True</td>\n",
              "      <td>NaN</td>\n",
              "      <td>no</td>\n",
              "      <td>True</td>\n",
              "      <td>0</td>\n",
              "      <td>0</td>\n",
              "      <td>1</td>\n",
              "    </tr>\n",
              "    <tr>\n",
              "      <th>887</th>\n",
              "      <td>1</td>\n",
              "      <td>1</td>\n",
              "      <td>female</td>\n",
              "      <td>19.0</td>\n",
              "      <td>0</td>\n",
              "      <td>0</td>\n",
              "      <td>30.0000</td>\n",
              "      <td>S</td>\n",
              "      <td>First</td>\n",
              "      <td>woman</td>\n",
              "      <td>False</td>\n",
              "      <td>B</td>\n",
              "      <td>yes</td>\n",
              "      <td>True</td>\n",
              "      <td>0</td>\n",
              "      <td>0</td>\n",
              "      <td>1</td>\n",
              "    </tr>\n",
              "    <tr>\n",
              "      <th>888</th>\n",
              "      <td>0</td>\n",
              "      <td>3</td>\n",
              "      <td>female</td>\n",
              "      <td>NaN</td>\n",
              "      <td>1</td>\n",
              "      <td>2</td>\n",
              "      <td>23.4500</td>\n",
              "      <td>S</td>\n",
              "      <td>Third</td>\n",
              "      <td>woman</td>\n",
              "      <td>False</td>\n",
              "      <td>NaN</td>\n",
              "      <td>no</td>\n",
              "      <td>False</td>\n",
              "      <td>0</td>\n",
              "      <td>0</td>\n",
              "      <td>1</td>\n",
              "    </tr>\n",
              "    <tr>\n",
              "      <th>889</th>\n",
              "      <td>1</td>\n",
              "      <td>1</td>\n",
              "      <td>male</td>\n",
              "      <td>26.0</td>\n",
              "      <td>0</td>\n",
              "      <td>0</td>\n",
              "      <td>30.0000</td>\n",
              "      <td>C</td>\n",
              "      <td>First</td>\n",
              "      <td>man</td>\n",
              "      <td>True</td>\n",
              "      <td>C</td>\n",
              "      <td>yes</td>\n",
              "      <td>True</td>\n",
              "      <td>1</td>\n",
              "      <td>0</td>\n",
              "      <td>0</td>\n",
              "    </tr>\n",
              "    <tr>\n",
              "      <th>890</th>\n",
              "      <td>0</td>\n",
              "      <td>3</td>\n",
              "      <td>male</td>\n",
              "      <td>32.0</td>\n",
              "      <td>0</td>\n",
              "      <td>0</td>\n",
              "      <td>7.7500</td>\n",
              "      <td>Q</td>\n",
              "      <td>Third</td>\n",
              "      <td>man</td>\n",
              "      <td>True</td>\n",
              "      <td>NaN</td>\n",
              "      <td>no</td>\n",
              "      <td>True</td>\n",
              "      <td>0</td>\n",
              "      <td>1</td>\n",
              "      <td>0</td>\n",
              "    </tr>\n",
              "  </tbody>\n",
              "</table>\n",
              "<p>891 rows × 17 columns</p>\n",
              "</div>"
            ],
            "text/plain": [
              "     survived  pclass  ... embark_town_Queenstown  embark_town_Southampton\n",
              "0           0       3  ...                      0                        1\n",
              "1           1       1  ...                      0                        0\n",
              "2           1       3  ...                      0                        1\n",
              "3           1       1  ...                      0                        1\n",
              "4           0       3  ...                      0                        1\n",
              "..        ...     ...  ...                    ...                      ...\n",
              "886         0       2  ...                      0                        1\n",
              "887         1       1  ...                      0                        1\n",
              "888         0       3  ...                      0                        1\n",
              "889         1       1  ...                      0                        0\n",
              "890         0       3  ...                      1                        0\n",
              "\n",
              "[891 rows x 17 columns]"
            ]
          },
          "metadata": {},
          "execution_count": 25
        }
      ]
    },
    {
      "cell_type": "code",
      "source": [
        "# # Способ, позволяющий также учитывать и новые переменные\n",
        "# from sklearn.preprocessing import OneHotEncoder\n",
        "# import numpy as np\n",
        "\n",
        "# # Создаем кодировщик\n",
        "# encoder = OneHotEncoder(handle_unknown=\"ignore\")\n",
        "# encoder.fit(df_titanic[['embark_town']])\n",
        "\n",
        "# # Применяем преобразование из кодировщика\n",
        "# encoded_array = encoder.transform(df_titanic[['embark_town']]).toarray()\n",
        "# encoder_categories = encoder.categories_\n",
        "# one_hot_features = pd.DataFrame(\n",
        "#     data=encoded_array,\n",
        "#     columns=encoder_categories[0],\n",
        "#     index=df_titanic.index,\n",
        "# )\n",
        "# one_hot_features"
      ],
      "metadata": {
        "colab": {
          "base_uri": "https://localhost:8080/",
          "height": 424
        },
        "id": "uaDAOpVo05tk",
        "outputId": "d1d6fac1-b71d-435a-f380-57d3134a872e"
      },
      "execution_count": null,
      "outputs": [
        {
          "output_type": "execute_result",
          "data": {
            "text/html": [
              "<div>\n",
              "<style scoped>\n",
              "    .dataframe tbody tr th:only-of-type {\n",
              "        vertical-align: middle;\n",
              "    }\n",
              "\n",
              "    .dataframe tbody tr th {\n",
              "        vertical-align: top;\n",
              "    }\n",
              "\n",
              "    .dataframe thead th {\n",
              "        text-align: right;\n",
              "    }\n",
              "</style>\n",
              "<table border=\"1\" class=\"dataframe\">\n",
              "  <thead>\n",
              "    <tr style=\"text-align: right;\">\n",
              "      <th></th>\n",
              "      <th>Cherbourg</th>\n",
              "      <th>Queenstown</th>\n",
              "      <th>Southampton</th>\n",
              "      <th>NaN</th>\n",
              "    </tr>\n",
              "  </thead>\n",
              "  <tbody>\n",
              "    <tr>\n",
              "      <th>0</th>\n",
              "      <td>0.0</td>\n",
              "      <td>0.0</td>\n",
              "      <td>1.0</td>\n",
              "      <td>0.0</td>\n",
              "    </tr>\n",
              "    <tr>\n",
              "      <th>1</th>\n",
              "      <td>1.0</td>\n",
              "      <td>0.0</td>\n",
              "      <td>0.0</td>\n",
              "      <td>0.0</td>\n",
              "    </tr>\n",
              "    <tr>\n",
              "      <th>2</th>\n",
              "      <td>0.0</td>\n",
              "      <td>0.0</td>\n",
              "      <td>1.0</td>\n",
              "      <td>0.0</td>\n",
              "    </tr>\n",
              "    <tr>\n",
              "      <th>3</th>\n",
              "      <td>0.0</td>\n",
              "      <td>0.0</td>\n",
              "      <td>1.0</td>\n",
              "      <td>0.0</td>\n",
              "    </tr>\n",
              "    <tr>\n",
              "      <th>4</th>\n",
              "      <td>0.0</td>\n",
              "      <td>0.0</td>\n",
              "      <td>1.0</td>\n",
              "      <td>0.0</td>\n",
              "    </tr>\n",
              "    <tr>\n",
              "      <th>...</th>\n",
              "      <td>...</td>\n",
              "      <td>...</td>\n",
              "      <td>...</td>\n",
              "      <td>...</td>\n",
              "    </tr>\n",
              "    <tr>\n",
              "      <th>886</th>\n",
              "      <td>0.0</td>\n",
              "      <td>0.0</td>\n",
              "      <td>1.0</td>\n",
              "      <td>0.0</td>\n",
              "    </tr>\n",
              "    <tr>\n",
              "      <th>887</th>\n",
              "      <td>0.0</td>\n",
              "      <td>0.0</td>\n",
              "      <td>1.0</td>\n",
              "      <td>0.0</td>\n",
              "    </tr>\n",
              "    <tr>\n",
              "      <th>888</th>\n",
              "      <td>0.0</td>\n",
              "      <td>0.0</td>\n",
              "      <td>1.0</td>\n",
              "      <td>0.0</td>\n",
              "    </tr>\n",
              "    <tr>\n",
              "      <th>889</th>\n",
              "      <td>1.0</td>\n",
              "      <td>0.0</td>\n",
              "      <td>0.0</td>\n",
              "      <td>0.0</td>\n",
              "    </tr>\n",
              "    <tr>\n",
              "      <th>890</th>\n",
              "      <td>0.0</td>\n",
              "      <td>1.0</td>\n",
              "      <td>0.0</td>\n",
              "      <td>0.0</td>\n",
              "    </tr>\n",
              "  </tbody>\n",
              "</table>\n",
              "<p>891 rows × 4 columns</p>\n",
              "</div>"
            ],
            "text/plain": [
              "     Cherbourg  Queenstown  Southampton  NaN\n",
              "0          0.0         0.0          1.0  0.0\n",
              "1          1.0         0.0          0.0  0.0\n",
              "2          0.0         0.0          1.0  0.0\n",
              "3          0.0         0.0          1.0  0.0\n",
              "4          0.0         0.0          1.0  0.0\n",
              "..         ...         ...          ...  ...\n",
              "886        0.0         0.0          1.0  0.0\n",
              "887        0.0         0.0          1.0  0.0\n",
              "888        0.0         0.0          1.0  0.0\n",
              "889        1.0         0.0          0.0  0.0\n",
              "890        0.0         1.0          0.0  0.0\n",
              "\n",
              "[891 rows x 4 columns]"
            ]
          },
          "metadata": {},
          "execution_count": 46
        }
      ]
    },
    {
      "cell_type": "code",
      "source": [
        "# df_titanic.join(one_hot_features, how='inner')"
      ],
      "metadata": {
        "colab": {
          "base_uri": "https://localhost:8080/",
          "height": 424
        },
        "id": "sA5YxT2O3ie6",
        "outputId": "2600ebe9-5aa3-40e6-faaa-8205e55cbe6b"
      },
      "execution_count": null,
      "outputs": [
        {
          "output_type": "execute_result",
          "data": {
            "text/html": [
              "<div>\n",
              "<style scoped>\n",
              "    .dataframe tbody tr th:only-of-type {\n",
              "        vertical-align: middle;\n",
              "    }\n",
              "\n",
              "    .dataframe tbody tr th {\n",
              "        vertical-align: top;\n",
              "    }\n",
              "\n",
              "    .dataframe thead th {\n",
              "        text-align: right;\n",
              "    }\n",
              "</style>\n",
              "<table border=\"1\" class=\"dataframe\">\n",
              "  <thead>\n",
              "    <tr style=\"text-align: right;\">\n",
              "      <th></th>\n",
              "      <th>survived</th>\n",
              "      <th>pclass</th>\n",
              "      <th>sex</th>\n",
              "      <th>age</th>\n",
              "      <th>sibsp</th>\n",
              "      <th>parch</th>\n",
              "      <th>fare</th>\n",
              "      <th>embarked</th>\n",
              "      <th>class</th>\n",
              "      <th>who</th>\n",
              "      <th>adult_male</th>\n",
              "      <th>deck</th>\n",
              "      <th>embark_town</th>\n",
              "      <th>alive</th>\n",
              "      <th>alone</th>\n",
              "      <th>Cherbourg</th>\n",
              "      <th>Queenstown</th>\n",
              "      <th>Southampton</th>\n",
              "      <th>NaN</th>\n",
              "    </tr>\n",
              "  </thead>\n",
              "  <tbody>\n",
              "    <tr>\n",
              "      <th>0</th>\n",
              "      <td>0</td>\n",
              "      <td>3</td>\n",
              "      <td>male</td>\n",
              "      <td>22.0</td>\n",
              "      <td>1</td>\n",
              "      <td>0</td>\n",
              "      <td>7.2500</td>\n",
              "      <td>S</td>\n",
              "      <td>Third</td>\n",
              "      <td>man</td>\n",
              "      <td>True</td>\n",
              "      <td>NaN</td>\n",
              "      <td>Southampton</td>\n",
              "      <td>no</td>\n",
              "      <td>False</td>\n",
              "      <td>0.0</td>\n",
              "      <td>0.0</td>\n",
              "      <td>1.0</td>\n",
              "      <td>0.0</td>\n",
              "    </tr>\n",
              "    <tr>\n",
              "      <th>1</th>\n",
              "      <td>1</td>\n",
              "      <td>1</td>\n",
              "      <td>female</td>\n",
              "      <td>38.0</td>\n",
              "      <td>1</td>\n",
              "      <td>0</td>\n",
              "      <td>71.2833</td>\n",
              "      <td>C</td>\n",
              "      <td>First</td>\n",
              "      <td>woman</td>\n",
              "      <td>False</td>\n",
              "      <td>C</td>\n",
              "      <td>Cherbourg</td>\n",
              "      <td>yes</td>\n",
              "      <td>False</td>\n",
              "      <td>1.0</td>\n",
              "      <td>0.0</td>\n",
              "      <td>0.0</td>\n",
              "      <td>0.0</td>\n",
              "    </tr>\n",
              "    <tr>\n",
              "      <th>2</th>\n",
              "      <td>1</td>\n",
              "      <td>3</td>\n",
              "      <td>female</td>\n",
              "      <td>26.0</td>\n",
              "      <td>0</td>\n",
              "      <td>0</td>\n",
              "      <td>7.9250</td>\n",
              "      <td>S</td>\n",
              "      <td>Third</td>\n",
              "      <td>woman</td>\n",
              "      <td>False</td>\n",
              "      <td>NaN</td>\n",
              "      <td>Southampton</td>\n",
              "      <td>yes</td>\n",
              "      <td>True</td>\n",
              "      <td>0.0</td>\n",
              "      <td>0.0</td>\n",
              "      <td>1.0</td>\n",
              "      <td>0.0</td>\n",
              "    </tr>\n",
              "    <tr>\n",
              "      <th>3</th>\n",
              "      <td>1</td>\n",
              "      <td>1</td>\n",
              "      <td>female</td>\n",
              "      <td>35.0</td>\n",
              "      <td>1</td>\n",
              "      <td>0</td>\n",
              "      <td>53.1000</td>\n",
              "      <td>S</td>\n",
              "      <td>First</td>\n",
              "      <td>woman</td>\n",
              "      <td>False</td>\n",
              "      <td>C</td>\n",
              "      <td>Southampton</td>\n",
              "      <td>yes</td>\n",
              "      <td>False</td>\n",
              "      <td>0.0</td>\n",
              "      <td>0.0</td>\n",
              "      <td>1.0</td>\n",
              "      <td>0.0</td>\n",
              "    </tr>\n",
              "    <tr>\n",
              "      <th>4</th>\n",
              "      <td>0</td>\n",
              "      <td>3</td>\n",
              "      <td>male</td>\n",
              "      <td>35.0</td>\n",
              "      <td>0</td>\n",
              "      <td>0</td>\n",
              "      <td>8.0500</td>\n",
              "      <td>S</td>\n",
              "      <td>Third</td>\n",
              "      <td>man</td>\n",
              "      <td>True</td>\n",
              "      <td>NaN</td>\n",
              "      <td>Southampton</td>\n",
              "      <td>no</td>\n",
              "      <td>True</td>\n",
              "      <td>0.0</td>\n",
              "      <td>0.0</td>\n",
              "      <td>1.0</td>\n",
              "      <td>0.0</td>\n",
              "    </tr>\n",
              "    <tr>\n",
              "      <th>...</th>\n",
              "      <td>...</td>\n",
              "      <td>...</td>\n",
              "      <td>...</td>\n",
              "      <td>...</td>\n",
              "      <td>...</td>\n",
              "      <td>...</td>\n",
              "      <td>...</td>\n",
              "      <td>...</td>\n",
              "      <td>...</td>\n",
              "      <td>...</td>\n",
              "      <td>...</td>\n",
              "      <td>...</td>\n",
              "      <td>...</td>\n",
              "      <td>...</td>\n",
              "      <td>...</td>\n",
              "      <td>...</td>\n",
              "      <td>...</td>\n",
              "      <td>...</td>\n",
              "      <td>...</td>\n",
              "    </tr>\n",
              "    <tr>\n",
              "      <th>886</th>\n",
              "      <td>0</td>\n",
              "      <td>2</td>\n",
              "      <td>male</td>\n",
              "      <td>27.0</td>\n",
              "      <td>0</td>\n",
              "      <td>0</td>\n",
              "      <td>13.0000</td>\n",
              "      <td>S</td>\n",
              "      <td>Second</td>\n",
              "      <td>man</td>\n",
              "      <td>True</td>\n",
              "      <td>NaN</td>\n",
              "      <td>Southampton</td>\n",
              "      <td>no</td>\n",
              "      <td>True</td>\n",
              "      <td>0.0</td>\n",
              "      <td>0.0</td>\n",
              "      <td>1.0</td>\n",
              "      <td>0.0</td>\n",
              "    </tr>\n",
              "    <tr>\n",
              "      <th>887</th>\n",
              "      <td>1</td>\n",
              "      <td>1</td>\n",
              "      <td>female</td>\n",
              "      <td>19.0</td>\n",
              "      <td>0</td>\n",
              "      <td>0</td>\n",
              "      <td>30.0000</td>\n",
              "      <td>S</td>\n",
              "      <td>First</td>\n",
              "      <td>woman</td>\n",
              "      <td>False</td>\n",
              "      <td>B</td>\n",
              "      <td>Southampton</td>\n",
              "      <td>yes</td>\n",
              "      <td>True</td>\n",
              "      <td>0.0</td>\n",
              "      <td>0.0</td>\n",
              "      <td>1.0</td>\n",
              "      <td>0.0</td>\n",
              "    </tr>\n",
              "    <tr>\n",
              "      <th>888</th>\n",
              "      <td>0</td>\n",
              "      <td>3</td>\n",
              "      <td>female</td>\n",
              "      <td>NaN</td>\n",
              "      <td>1</td>\n",
              "      <td>2</td>\n",
              "      <td>23.4500</td>\n",
              "      <td>S</td>\n",
              "      <td>Third</td>\n",
              "      <td>woman</td>\n",
              "      <td>False</td>\n",
              "      <td>NaN</td>\n",
              "      <td>Southampton</td>\n",
              "      <td>no</td>\n",
              "      <td>False</td>\n",
              "      <td>0.0</td>\n",
              "      <td>0.0</td>\n",
              "      <td>1.0</td>\n",
              "      <td>0.0</td>\n",
              "    </tr>\n",
              "    <tr>\n",
              "      <th>889</th>\n",
              "      <td>1</td>\n",
              "      <td>1</td>\n",
              "      <td>male</td>\n",
              "      <td>26.0</td>\n",
              "      <td>0</td>\n",
              "      <td>0</td>\n",
              "      <td>30.0000</td>\n",
              "      <td>C</td>\n",
              "      <td>First</td>\n",
              "      <td>man</td>\n",
              "      <td>True</td>\n",
              "      <td>C</td>\n",
              "      <td>Cherbourg</td>\n",
              "      <td>yes</td>\n",
              "      <td>True</td>\n",
              "      <td>1.0</td>\n",
              "      <td>0.0</td>\n",
              "      <td>0.0</td>\n",
              "      <td>0.0</td>\n",
              "    </tr>\n",
              "    <tr>\n",
              "      <th>890</th>\n",
              "      <td>0</td>\n",
              "      <td>3</td>\n",
              "      <td>male</td>\n",
              "      <td>32.0</td>\n",
              "      <td>0</td>\n",
              "      <td>0</td>\n",
              "      <td>7.7500</td>\n",
              "      <td>Q</td>\n",
              "      <td>Third</td>\n",
              "      <td>man</td>\n",
              "      <td>True</td>\n",
              "      <td>NaN</td>\n",
              "      <td>Queenstown</td>\n",
              "      <td>no</td>\n",
              "      <td>True</td>\n",
              "      <td>0.0</td>\n",
              "      <td>1.0</td>\n",
              "      <td>0.0</td>\n",
              "      <td>0.0</td>\n",
              "    </tr>\n",
              "  </tbody>\n",
              "</table>\n",
              "<p>891 rows × 19 columns</p>\n",
              "</div>"
            ],
            "text/plain": [
              "     survived  pclass     sex   age  ...  Cherbourg  Queenstown  Southampton  NaN\n",
              "0           0       3    male  22.0  ...        0.0         0.0          1.0  0.0\n",
              "1           1       1  female  38.0  ...        1.0         0.0          0.0  0.0\n",
              "2           1       3  female  26.0  ...        0.0         0.0          1.0  0.0\n",
              "3           1       1  female  35.0  ...        0.0         0.0          1.0  0.0\n",
              "4           0       3    male  35.0  ...        0.0         0.0          1.0  0.0\n",
              "..        ...     ...     ...   ...  ...        ...         ...          ...  ...\n",
              "886         0       2    male  27.0  ...        0.0         0.0          1.0  0.0\n",
              "887         1       1  female  19.0  ...        0.0         0.0          1.0  0.0\n",
              "888         0       3  female   NaN  ...        0.0         0.0          1.0  0.0\n",
              "889         1       1    male  26.0  ...        1.0         0.0          0.0  0.0\n",
              "890         0       3    male  32.0  ...        0.0         1.0          0.0  0.0\n",
              "\n",
              "[891 rows x 19 columns]"
            ]
          },
          "metadata": {},
          "execution_count": 47
        }
      ]
    },
    {
      "cell_type": "code",
      "source": [
        "# encoder.inverse_transform(one_hot_features)[:20]"
      ],
      "metadata": {
        "colab": {
          "base_uri": "https://localhost:8080/"
        },
        "id": "0_ZykFdy32uj",
        "outputId": "87dec834-7fa7-4d78-8579-fa9bfd81c28e"
      },
      "execution_count": null,
      "outputs": [
        {
          "output_type": "execute_result",
          "data": {
            "text/plain": [
              "array([['Southampton'],\n",
              "       ['Cherbourg'],\n",
              "       ['Southampton'],\n",
              "       ['Southampton'],\n",
              "       ['Southampton'],\n",
              "       ['Queenstown'],\n",
              "       ['Southampton'],\n",
              "       ['Southampton'],\n",
              "       ['Southampton'],\n",
              "       ['Cherbourg'],\n",
              "       ['Southampton'],\n",
              "       ['Southampton'],\n",
              "       ['Southampton'],\n",
              "       ['Southampton'],\n",
              "       ['Southampton'],\n",
              "       ['Southampton'],\n",
              "       ['Queenstown'],\n",
              "       ['Southampton'],\n",
              "       ['Southampton'],\n",
              "       ['Cherbourg']], dtype=object)"
            ]
          },
          "metadata": {},
          "execution_count": 66
        }
      ]
    },
    {
      "cell_type": "code",
      "source": [
        "# Способ закодировать номаниальные данные №2: Присвоить номинальным данным уникальный код\n",
        "# Label encoding\n",
        "pd.Categorical(df_titanic['embark_town'])[:20]"
      ],
      "metadata": {
        "colab": {
          "base_uri": "https://localhost:8080/"
        },
        "id": "aBVgmXn84FXx",
        "outputId": "eb646913-aadc-4817-a101-18e91df82619"
      },
      "execution_count": null,
      "outputs": [
        {
          "output_type": "execute_result",
          "data": {
            "text/plain": [
              "['Southampton', 'Cherbourg', 'Southampton', 'Southampton', 'Southampton', ..., 'Southampton', 'Queenstown', 'Southampton', 'Southampton', 'Cherbourg']\n",
              "Length: 20\n",
              "Categories (3, object): ['Cherbourg', 'Queenstown', 'Southampton']"
            ]
          },
          "metadata": {},
          "execution_count": 68
        }
      ]
    },
    {
      "cell_type": "code",
      "source": [
        "pd.Categorical(df_titanic['embark_town'])[:20].codes"
      ],
      "metadata": {
        "colab": {
          "base_uri": "https://localhost:8080/"
        },
        "id": "bNVX0kGM3n7T",
        "outputId": "abe5bcee-3da3-469f-93d6-04224ef1bf48"
      },
      "execution_count": null,
      "outputs": [
        {
          "output_type": "execute_result",
          "data": {
            "text/plain": [
              "array([2, 0, 2, 2, 2, 1, 2, 2, 2, 0, 2, 2, 2, 2, 2, 2, 1, 2, 2, 0],\n",
              "      dtype=int8)"
            ]
          },
          "metadata": {},
          "execution_count": 32
        }
      ]
    },
    {
      "cell_type": "code",
      "source": [
        "# # Тоже самое, но при помощи библиотеки sklearn\n",
        "# from sklearn.preprocessing import LabelEncoder\n",
        "\n",
        "# # Создаем кодировщик\n",
        "# label_encoder = LabelEncoder()\n",
        "# # fit_transform позволяет сразу и \"подогнать\" кодировщик и получить закодированные значения\n",
        "# label_encoded_embark = label_encoder.fit_transform(df_titanic['embark_town'])\n",
        "# label_encoded_embark[:20]"
      ],
      "metadata": {
        "id": "86pk1Iwp5lWl"
      },
      "execution_count": null,
      "outputs": []
    },
    {
      "cell_type": "code",
      "source": [
        "# Обратное преобразование из меток в текстовые значения\n",
        "# label_encoder.inverse_transform(label_encoded_embark)[:20]"
      ],
      "metadata": {
        "id": "wvD_MQfp7Ayp"
      },
      "execution_count": null,
      "outputs": []
    },
    {
      "cell_type": "markdown",
      "source": [
        "## Описательные статистики"
      ],
      "metadata": {
        "id": "MieXTn6uzgxE"
      }
    },
    {
      "cell_type": "markdown",
      "source": [
        "### Меры центральной тенденции"
      ],
      "metadata": {
        "id": "1Ae24pxB7Wqn"
      }
    },
    {
      "cell_type": "markdown",
      "source": [
        "#### Среднее арифметическое"
      ],
      "metadata": {
        "id": "EoWnlO9Y7ZmQ"
      }
    },
    {
      "cell_type": "code",
      "source": [
        "df_titanic['age'].dropna().hist()"
      ],
      "metadata": {
        "colab": {
          "base_uri": "https://localhost:8080/",
          "height": 284
        },
        "id": "Bf2DU6mt7l9t",
        "outputId": "09f09d8b-8897-47c7-898c-917c97bc75e7"
      },
      "execution_count": null,
      "outputs": [
        {
          "output_type": "execute_result",
          "data": {
            "text/plain": [
              "<matplotlib.axes._subplots.AxesSubplot at 0x7f8e6edc11d0>"
            ]
          },
          "metadata": {},
          "execution_count": 78
        },
        {
          "output_type": "display_data",
          "data": {
            "image/png": "[encoded data removed]",
            "text/plain": [
              "<Figure size 432x288 with 1 Axes>"
            ]
          },
          "metadata": {
            "needs_background": "light"
          }
        }
      ]
    },
    {
      "cell_type": "code",
      "source": [
        "df_titanic['age'].mean()"
      ],
      "metadata": {
        "colab": {
          "base_uri": "https://localhost:8080/"
        },
        "id": "rprI6XnQCpfM",
        "outputId": "07a46fb6-8c34-4174-9f03-4f0954c5bbec"
      },
      "execution_count": null,
      "outputs": [
        {
          "output_type": "execute_result",
          "data": {
            "text/plain": [
              "29.69911764705882"
            ]
          },
          "metadata": {},
          "execution_count": 79
        }
      ]
    },
    {
      "cell_type": "markdown",
      "source": [
        "#### Среднее усеченное значение"
      ],
      "metadata": {
        "id": "o4AFxCahCtCR"
      }
    },
    {
      "cell_type": "code",
      "source": [
        "from scipy.stats import trim_mean\n",
        "trim_mean(df_titanic['age'].dropna(), 0.1)"
      ],
      "metadata": {
        "colab": {
          "base_uri": "https://localhost:8080/"
        },
        "id": "MgGxL-8ODHhR",
        "outputId": "38d213e3-efc7-4c37-8537-698a38f27a11"
      },
      "execution_count": null,
      "outputs": [
        {
          "output_type": "execute_result",
          "data": {
            "text/plain": [
              "29.26923076923077"
            ]
          },
          "metadata": {},
          "execution_count": 83
        }
      ]
    },
    {
      "cell_type": "markdown",
      "source": [
        "#### Медиана"
      ],
      "metadata": {
        "id": "Yv8Z7jZNDd19"
      }
    },
    {
      "cell_type": "code",
      "source": [
        "df_titanic['age'].median()"
      ],
      "metadata": {
        "colab": {
          "base_uri": "https://localhost:8080/"
        },
        "id": "vAgh-IB5DgRv",
        "outputId": "93ac3696-7533-4816-fe9d-ed802d092c06"
      },
      "execution_count": null,
      "outputs": [
        {
          "output_type": "execute_result",
          "data": {
            "text/plain": [
              "28.0"
            ]
          },
          "metadata": {},
          "execution_count": 85
        }
      ]
    },
    {
      "cell_type": "markdown",
      "source": [
        "#### Мода"
      ],
      "metadata": {
        "id": "3SqEwM-BDl5u"
      }
    },
    {
      "cell_type": "code",
      "source": [
        "df_titanic['age'].mode()"
      ],
      "metadata": {
        "colab": {
          "base_uri": "https://localhost:8080/"
        },
        "id": "vD0-cJASDn2c",
        "outputId": "918b9d9c-eb78-4c52-d2a3-33280cb66f84"
      },
      "execution_count": null,
      "outputs": [
        {
          "output_type": "execute_result",
          "data": {
            "text/plain": [
              "0    24.0\n",
              "dtype: float64"
            ]
          },
          "metadata": {},
          "execution_count": 86
        }
      ]
    },
    {
      "cell_type": "markdown",
      "source": [
        "Робастность - устойчивость к выбросам. Выбросы - экстремальные значения в выборке: очень большие или очень маленькие"
      ],
      "metadata": {
        "id": "iWReLPa_ENwS"
      }
    },
    {
      "cell_type": "code",
      "source": [
        "import numpy as np\n",
        "\n",
        "no_outlier_data = np.random.normal(3, 2, size=100)\n",
        "no_outlier_data"
      ],
      "metadata": {
        "colab": {
          "base_uri": "https://localhost:8080/"
        },
        "id": "mXJPICmkH51s",
        "outputId": "a99ee866-e246-4711-f822-67786efbc870"
      },
      "execution_count": null,
      "outputs": [
        {
          "output_type": "execute_result",
          "data": {
            "text/plain": [
              "array([ 2.662931  ,  7.95043363,  0.80981604,  3.78325192,  5.79635793,\n",
              "        2.7190432 ,  2.75473646,  4.11301403,  4.40243843,  6.51431928,\n",
              "        4.94850777,  4.47277995,  6.98643195,  5.71577003,  3.89281346,\n",
              "        1.67249157,  4.2651603 ,  3.38243969,  5.64296996,  1.17087776,\n",
              "        2.5455387 ,  5.02143121,  0.01923633,  2.31246099,  4.4910369 ,\n",
              "        2.22302371,  2.60136214,  3.16875548,  6.92908165,  1.85610742,\n",
              "        3.27111702,  3.09761401,  1.03266506, -0.51318101,  3.55826917,\n",
              "        3.99789753,  4.27082591,  1.66994367,  0.61869604, -1.0375911 ,\n",
              "        0.7989774 ,  1.48657262,  3.69578683,  4.03185141,  0.18562811,\n",
              "        1.67061317,  6.56610746, -1.12908777, -0.06795735,  4.49594753,\n",
              "        2.11197952,  1.29614748,  4.00887207,  5.68948504,  2.98182508,\n",
              "        5.07371829,  2.40518091, -0.6496816 ,  2.18430232,  5.45485687,\n",
              "        1.88491179,  1.08286109,  4.83513538,  9.39250717,  3.73152505,\n",
              "        2.48901035,  4.69683033,  2.45744505,  3.54354076,  0.17608103,\n",
              "        6.13405065,  4.63189794,  3.87926867,  1.79055282,  3.06801493,\n",
              "        4.66050558,  3.81362616,  3.13975479,  2.13758886,  0.8475883 ,\n",
              "        2.92068843,  2.75296912,  3.72797638,  1.03229819,  1.52191869,\n",
              "        3.27954439,  5.44606719,  4.59144272,  2.72850934,  2.84469255,\n",
              "        1.8068726 , -1.92125135,  5.41755608,  3.75930596,  4.3305914 ,\n",
              "        4.25129337,  1.19405859,  3.97798289,  3.63810984,  1.8417223 ])"
            ]
          },
          "metadata": {},
          "execution_count": 7
        }
      ]
    },
    {
      "cell_type": "code",
      "source": [
        "outlier_data = np.append(no_outlier_data, 1000000)"
      ],
      "metadata": {
        "id": "NE9JlezNIUU1"
      },
      "execution_count": null,
      "outputs": []
    },
    {
      "cell_type": "code",
      "source": [
        "import seaborn as sns\n",
        "sns.distplot(no_outlier_data)"
      ],
      "metadata": {
        "colab": {
          "base_uri": "https://localhost:8080/",
          "height": 340
        },
        "id": "FVYxiP27Ihup",
        "outputId": "aabdfeef-87de-47be-bbe6-d4016e93192a"
      },
      "execution_count": null,
      "outputs": [
        {
          "output_type": "stream",
          "name": "stderr",
          "text": [
            "/usr/local/lib/python3.7/dist-packages/seaborn/distributions.py:2619: FutureWarning: `distplot` is a deprecated function and will be removed in a future version. Please adapt your code to use either `displot` (a figure-level function with similar flexibility) or `histplot` (an axes-level function for histograms).\n",
            "  warnings.warn(msg, FutureWarning)\n"
          ]
        },
        {
          "output_type": "execute_result",
          "data": {
            "text/plain": [
              "<matplotlib.axes._subplots.AxesSubplot at 0x7fc11329be50>"
            ]
          },
          "metadata": {},
          "execution_count": 12
        },
        {
          "output_type": "display_data",
          "data": {
            "image/png": "[encoded data removed]",
            "text/plain": [
              "<Figure size 432x288 with 1 Axes>"
            ]
          },
          "metadata": {
            "needs_background": "light"
          }
        }
      ]
    },
    {
      "cell_type": "code",
      "source": [
        "import seaborn as sns\n",
        "sns.distplot(outlier_data)"
      ],
      "metadata": {
        "colab": {
          "base_uri": "https://localhost:8080/",
          "height": 190
        },
        "id": "5AgAJc-lIsRx",
        "outputId": "dd9b6e7b-eb21-4335-ff4d-be9fd053a065"
      },
      "execution_count": null,
      "outputs": [
        {
          "output_type": "error",
          "ename": "NameError",
          "evalue": "ignored",
          "traceback": [
            "\u001b[0;31m---------------------------------------------------------------------------\u001b[0m",
            "\u001b[0;31mNameError\u001b[0m                                 Traceback (most recent call last)",
            "\u001b[0;32m<ipython-input-1-2f2273396472>\u001b[0m in \u001b[0;36m<module>\u001b[0;34m()\u001b[0m\n\u001b[1;32m      1\u001b[0m \u001b[0;32mimport\u001b[0m \u001b[0mseaborn\u001b[0m \u001b[0;32mas\u001b[0m \u001b[0msns\u001b[0m\u001b[0;34m\u001b[0m\u001b[0;34m\u001b[0m\u001b[0m\n\u001b[0;32m----> 2\u001b[0;31m \u001b[0msns\u001b[0m\u001b[0;34m.\u001b[0m\u001b[0mdistplot\u001b[0m\u001b[0;34m(\u001b[0m\u001b[0moutlier_data\u001b[0m\u001b[0;34m)\u001b[0m\u001b[0;34m\u001b[0m\u001b[0;34m\u001b[0m\u001b[0m\n\u001b[0m",
            "\u001b[0;31mNameError\u001b[0m: name 'outlier_data' is not defined"
          ]
        }
      ]
    },
    {
      "cell_type": "code",
      "source": [
        "from scipy.stats import trim_mean, mode\n",
        "print(f'Mean: no outlier {no_outlier_data.mean()}; outlier {outlier_data.mean()}')\n",
        "print(f'Trim mean 95%: no outlier {trim_mean(no_outlier_data, 0.05)}; outlier {trim_mean(outlier_data, 0.05)}')\n",
        "print(f'Median: no outlier {np.median(no_outlier_data)}; outlier {np.median(outlier_data)}')\n",
        "print(f'Mode: no outlier {mode(no_outlier_data)[0]}; outlier {mode(outlier_data)[0]}')"
      ],
      "metadata": {
        "colab": {
          "base_uri": "https://localhost:8080/"
        },
        "id": "Tn6qah0MIyi8",
        "outputId": "7a9982c8-41bd-4d5e-c4ca-2d4f3c88f1ed"
      },
      "execution_count": null,
      "outputs": [
        {
          "output_type": "stream",
          "name": "stdout",
          "text": [
            "Mean: no outlier 3.146170459655133; outlier 9904.105119266986\n",
            "Trim mean 95%: no outlier 3.133814188148551; outlier 3.1715316966065\n",
            "Median: no outlier 3.154255133097898; outlier 3.168755480291609\n",
            "Mode: no outlier [-1.92125135]; outlier [-1.92125135]\n"
          ]
        }
      ]
    },
    {
      "cell_type": "markdown",
      "source": [
        "### Меры вариабельности признака"
      ],
      "metadata": {
        "id": "p40u4Bz67daM"
      }
    },
    {
      "cell_type": "markdown",
      "source": [
        "#### Размах"
      ],
      "metadata": {
        "id": "FTQxCoyGKvjm"
      }
    },
    {
      "cell_type": "code",
      "source": [
        "df_titanic['age'].max() - df_titanic['age'].min()"
      ],
      "metadata": {
        "colab": {
          "base_uri": "https://localhost:8080/",
          "height": 171
        },
        "id": "JhgrfCdFKyPa",
        "outputId": "d62dd679-cc43-469c-d549-6b5ffa8c967b"
      },
      "execution_count": null,
      "outputs": [
        {
          "output_type": "error",
          "ename": "NameError",
          "evalue": "ignored",
          "traceback": [
            "\u001b[0;31m---------------------------------------------------------------------------\u001b[0m",
            "\u001b[0;31mNameError\u001b[0m                                 Traceback (most recent call last)",
            "\u001b[0;32m<ipython-input-1-33eb03b7920e>\u001b[0m in \u001b[0;36m<module>\u001b[0;34m()\u001b[0m\n\u001b[0;32m----> 1\u001b[0;31m \u001b[0mdf_titanic\u001b[0m\u001b[0;34m[\u001b[0m\u001b[0;34m'age'\u001b[0m\u001b[0;34m]\u001b[0m\u001b[0;34m.\u001b[0m\u001b[0mmax\u001b[0m\u001b[0;34m(\u001b[0m\u001b[0;34m)\u001b[0m \u001b[0;34m-\u001b[0m \u001b[0mdf_titanic\u001b[0m\u001b[0;34m[\u001b[0m\u001b[0;34m'age'\u001b[0m\u001b[0;34m]\u001b[0m\u001b[0;34m.\u001b[0m\u001b[0mmin\u001b[0m\u001b[0;34m(\u001b[0m\u001b[0;34m)\u001b[0m\u001b[0;34m\u001b[0m\u001b[0;34m\u001b[0m\u001b[0m\n\u001b[0m",
            "\u001b[0;31mNameError\u001b[0m: name 'df_titanic' is not defined"
          ]
        }
      ]
    },
    {
      "cell_type": "markdown",
      "source": [
        "#### Дисперсия"
      ],
      "metadata": {
        "id": "Olb3hnRbLJbu"
      }
    },
    {
      "cell_type": "code",
      "source": [
        "df_titanic['age'].var()"
      ],
      "metadata": {
        "id": "3Dxzvk_oLNOd"
      },
      "execution_count": null,
      "outputs": []
    },
    {
      "cell_type": "markdown",
      "source": [
        "#### Стандартное отклонение"
      ],
      "metadata": {
        "id": "Js0sPdRnLe7S"
      }
    },
    {
      "cell_type": "code",
      "source": [
        "df_titanic['age'].std()"
      ],
      "metadata": {
        "id": "ebUpPbrSLhKL"
      },
      "execution_count": null,
      "outputs": []
    },
    {
      "cell_type": "markdown",
      "source": [
        "#### Коэффициент вариации"
      ],
      "metadata": {
        "id": "vaKIIb41OGWc"
      }
    },
    {
      "cell_type": "code",
      "source": [
        "from scipy.stats import variation\n",
        "variation(df_titanic['age'].dropna())"
      ],
      "metadata": {
        "colab": {
          "base_uri": "https://localhost:8080/",
          "height": 189
        },
        "id": "O2-z_h1IOKRh",
        "outputId": "91c8c4fa-a85e-4aa9-fde2-de5758aeb753"
      },
      "execution_count": null,
      "outputs": [
        {
          "output_type": "error",
          "ename": "NameError",
          "evalue": "ignored",
          "traceback": [
            "\u001b[0;31m---------------------------------------------------------------------------\u001b[0m",
            "\u001b[0;31mNameError\u001b[0m                                 Traceback (most recent call last)",
            "\u001b[0;32m<ipython-input-2-3d28bac3d691>\u001b[0m in \u001b[0;36m<module>\u001b[0;34m()\u001b[0m\n\u001b[1;32m      1\u001b[0m \u001b[0;32mfrom\u001b[0m \u001b[0mscipy\u001b[0m\u001b[0;34m.\u001b[0m\u001b[0mstats\u001b[0m \u001b[0;32mimport\u001b[0m \u001b[0mvariation\u001b[0m\u001b[0;34m\u001b[0m\u001b[0;34m\u001b[0m\u001b[0m\n\u001b[0;32m----> 2\u001b[0;31m \u001b[0mvariation\u001b[0m\u001b[0;34m(\u001b[0m\u001b[0mdf_titanic\u001b[0m\u001b[0;34m[\u001b[0m\u001b[0;34m'age'\u001b[0m\u001b[0;34m]\u001b[0m\u001b[0;34m.\u001b[0m\u001b[0mdropna\u001b[0m\u001b[0;34m(\u001b[0m\u001b[0;34m)\u001b[0m\u001b[0;34m)\u001b[0m\u001b[0;34m\u001b[0m\u001b[0;34m\u001b[0m\u001b[0m\n\u001b[0m",
            "\u001b[0;31mNameError\u001b[0m: name 'df_titanic' is not defined"
          ]
        }
      ]
    },
    {
      "cell_type": "markdown",
      "source": [
        "#### Квантили и межквартильный интервал"
      ],
      "metadata": {
        "id": "et-MgBmAL7Yp"
      }
    },
    {
      "cell_type": "markdown",
      "source": [
        "Квантиль — значение, которое заданная случайная величина не превышает с фиксированной вероятностью. Или то значение, которое больше, чем определенное количество значений в выборке"
      ],
      "metadata": {
        "id": "hjnED_ohMAOG"
      }
    },
    {
      "cell_type": "code",
      "source": [
        "# Примеры квантилей\n",
        "print(f'Медиана {df_titanic[\"age\"].quantile(0.5)}') # Больше 50% выборки\n",
        "print(f'Нижний квартиль {df_titanic[\"age\"].quantile(0.25)}') # Больше 25% выборки\n",
        "print(f'Верхний квартиль {df_titanic[\"age\"].quantile(0.75)}') # Больше 75% выборки\n",
        "# Децили - квантили кратные 10%\n",
        "print(f'Первый дециль {df_titanic[\"age\"].quantile(0.1)}') # Больше 10% выборки\n",
        "print(f'Девятый дециль {df_titanic[\"age\"].quantile(0.9)}') # Больше 10% выборки\n",
        "# Процентили - квантили, кратные 1%\n",
        "print(f'Пятый процентиль {df_titanic[\"age\"].quantile(0.05)}') # Больше 5% выборки\n",
        "print(f'Девяносто пятый процентиль {df_titanic[\"age\"].quantile(0.95)}') # Больше 95% выборки"
      ],
      "metadata": {
        "id": "BGx47HDkLeaI"
      },
      "execution_count": null,
      "outputs": []
    },
    {
      "cell_type": "code",
      "source": [
        "IQR = df_titanic[\"age\"].quantile(0.75) - df_titanic[\"age\"].quantile(0.25)\n",
        "IQR"
      ],
      "metadata": {
        "id": "5WywDXf3N4UR"
      },
      "execution_count": null,
      "outputs": []
    },
    {
      "cell_type": "code",
      "source": [
        "# Выброс - значение, выходящее за тройной межквартильный интервал\n",
        "# Вот как правильно его найти\n",
        "print(f'Нижняя граница IQR3 {df_titanic[\"age\"].quantile(0.25) - IQR * 1.5 }')\n",
        "print(f'Верхняя граница IQR3 {df_titanic[\"age\"].quantile(0.75) + IQR * 1.5 }')"
      ],
      "metadata": {
        "id": "2KqsmLNCQMHC"
      },
      "execution_count": null,
      "outputs": []
    },
    {
      "cell_type": "code",
      "source": [
        "# Основные базовые статистики в одном методе\n",
        "df_titanic[\"age\"].describe()"
      ],
      "metadata": {
        "id": "gz8kFVMOP577"
      },
      "execution_count": null,
      "outputs": []
    },
    {
      "cell_type": "markdown",
      "source": [
        "### Более компактные способы визуализации распределения данных"
      ],
      "metadata": {
        "id": "GEVwHvv5PxX6"
      }
    },
    {
      "cell_type": "code",
      "source": [
        "# Диаграмма \"Ящик с усами\"\n",
        "import seaborn as sns\n",
        "sns.boxplot(data=df_titanic, y='age') # x='alive')"
      ],
      "metadata": {
        "colab": {
          "base_uri": "https://localhost:8080/",
          "height": 200
        },
        "id": "68XBRIGuPkRv",
        "outputId": "30427047-8ca2-46d7-e48d-56d5aa4b27fb"
      },
      "execution_count": null,
      "outputs": [
        {
          "output_type": "error",
          "ename": "NameError",
          "evalue": "ignored",
          "traceback": [
            "\u001b[0;31m---------------------------------------------------------------------------\u001b[0m",
            "\u001b[0;31mNameError\u001b[0m                                 Traceback (most recent call last)",
            "\u001b[0;32m<ipython-input-1-ee97590ea253>\u001b[0m in \u001b[0;36m<module>\u001b[0;34m()\u001b[0m\n\u001b[1;32m      1\u001b[0m \u001b[0;31m# Диаграмма \"Ящик с усами\"\u001b[0m\u001b[0;34m\u001b[0m\u001b[0;34m\u001b[0m\u001b[0;34m\u001b[0m\u001b[0m\n\u001b[1;32m      2\u001b[0m \u001b[0;32mimport\u001b[0m \u001b[0mseaborn\u001b[0m \u001b[0;32mas\u001b[0m \u001b[0msns\u001b[0m\u001b[0;34m\u001b[0m\u001b[0;34m\u001b[0m\u001b[0m\n\u001b[0;32m----> 3\u001b[0;31m \u001b[0msns\u001b[0m\u001b[0;34m.\u001b[0m\u001b[0mboxplot\u001b[0m\u001b[0;34m(\u001b[0m\u001b[0mdata\u001b[0m\u001b[0;34m=\u001b[0m\u001b[0mdf_titanic\u001b[0m\u001b[0;34m,\u001b[0m \u001b[0my\u001b[0m\u001b[0;34m=\u001b[0m\u001b[0;34m'age'\u001b[0m\u001b[0;34m)\u001b[0m \u001b[0;31m# x='alive')\u001b[0m\u001b[0;34m\u001b[0m\u001b[0;34m\u001b[0m\u001b[0m\n\u001b[0m",
            "\u001b[0;31mNameError\u001b[0m: name 'df_titanic' is not defined"
          ]
        }
      ]
    },
    {
      "cell_type": "code",
      "source": [
        "# \"Скрипичная диаграмма\"\n",
        "sns.violinplot(data=df_titanic, y='age', x='alive')"
      ],
      "metadata": {
        "id": "SeSTIInvSSMh"
      },
      "execution_count": null,
      "outputs": []
    },
    {
      "cell_type": "markdown",
      "source": [
        "Нежелательно добавлять больше 2 \"ящиков с усами\" на один график"
      ],
      "metadata": {
        "id": "UCnKu7rbTKVr"
      }
    },
    {
      "cell_type": "markdown",
      "source": [
        "## Генеральная совокупность и выборка"
      ],
      "metadata": {
        "id": "s5TF9XunTH4K"
      }
    },
    {
      "cell_type": "markdown",
      "source": [
        "Генеральная совокупность - общая совокупность объектов, подлежащих измерению.\n",
        "Выборка - часть генеральной совокупности, доступная измерению."
      ],
      "metadata": {
        "id": "VmeHiSWjS6cU"
      }
    },
    {
      "cell_type": "code",
      "source": [
        "import numpy as np\n",
        "import pandas as pd\n",
        "# Создадим свою \"генеральную совокупность\"\n",
        "df_general = pd.DataFrame(data=np.random.normal(70, 5, size=1000), columns=['weight'])\n",
        "df_general"
      ],
      "metadata": {
        "colab": {
          "base_uri": "https://localhost:8080/",
          "height": 423
        },
        "id": "A9gP0njMRxKn",
        "outputId": "96b50473-52f1-41b9-dd02-f500444079ab"
      },
      "execution_count": null,
      "outputs": [
        {
          "output_type": "execute_result",
          "data": {
            "text/html": [
              "\n",
              "  <div id=\"df-c265e8e5-b84b-410c-9218-5e39ecaf9392\">\n",
              "    <div class=\"colab-df-container\">\n",
              "      <div>\n",
              "<style scoped>\n",
              "    .dataframe tbody tr th:only-of-type {\n",
              "        vertical-align: middle;\n",
              "    }\n",
              "\n",
              "    .dataframe tbody tr th {\n",
              "        vertical-align: top;\n",
              "    }\n",
              "\n",
              "    .dataframe thead th {\n",
              "        text-align: right;\n",
              "    }\n",
              "</style>\n",
              "<table border=\"1\" class=\"dataframe\">\n",
              "  <thead>\n",
              "    <tr style=\"text-align: right;\">\n",
              "      <th></th>\n",
              "      <th>weight</th>\n",
              "    </tr>\n",
              "  </thead>\n",
              "  <tbody>\n",
              "    <tr>\n",
              "      <th>0</th>\n",
              "      <td>71.807498</td>\n",
              "    </tr>\n",
              "    <tr>\n",
              "      <th>1</th>\n",
              "      <td>72.950764</td>\n",
              "    </tr>\n",
              "    <tr>\n",
              "      <th>2</th>\n",
              "      <td>73.510829</td>\n",
              "    </tr>\n",
              "    <tr>\n",
              "      <th>3</th>\n",
              "      <td>64.485900</td>\n",
              "    </tr>\n",
              "    <tr>\n",
              "      <th>4</th>\n",
              "      <td>75.501599</td>\n",
              "    </tr>\n",
              "    <tr>\n",
              "      <th>...</th>\n",
              "      <td>...</td>\n",
              "    </tr>\n",
              "    <tr>\n",
              "      <th>995</th>\n",
              "      <td>69.625677</td>\n",
              "    </tr>\n",
              "    <tr>\n",
              "      <th>996</th>\n",
              "      <td>70.925449</td>\n",
              "    </tr>\n",
              "    <tr>\n",
              "      <th>997</th>\n",
              "      <td>63.043469</td>\n",
              "    </tr>\n",
              "    <tr>\n",
              "      <th>998</th>\n",
              "      <td>72.401165</td>\n",
              "    </tr>\n",
              "    <tr>\n",
              "      <th>999</th>\n",
              "      <td>70.413220</td>\n",
              "    </tr>\n",
              "  </tbody>\n",
              "</table>\n",
              "<p>1000 rows × 1 columns</p>\n",
              "</div>\n",
              "      <button class=\"colab-df-convert\" onclick=\"convertToInteractive('df-c265e8e5-b84b-410c-9218-5e39ecaf9392')\"\n",
              "              title=\"Convert this dataframe to an interactive table.\"\n",
              "              style=\"display:none;\">\n",
              "        \n",
              "  <svg xmlns=\"http://www.w3.org/2000/svg\" height=\"24px\"viewBox=\"0 0 24 24\"\n",
              "       width=\"24px\">\n",
              "    <path d=\"M0 0h24v24H0V0z\" fill=\"none\"/>\n",
              "    <path d=\"M18.56 5.44l.94 2.06.94-2.06 2.06-.94-2.06-.94-.94-2.06-.94 2.06-2.06.94zm-11 1L8.5 8.5l.94-2.06 2.06-.94-2.06-.94L8.5 2.5l-.94 2.06-2.06.94zm10 10l.94 2.06.94-2.06 2.06-.94-2.06-.94-.94-2.06-.94 2.06-2.06.94z\"/><path d=\"M17.41 7.96l-1.37-1.37c-.4-.4-.92-.59-1.43-.59-.52 0-1.04.2-1.43.59L10.3 9.45l-7.72 7.72c-.78.78-.78 2.05 0 2.83L4 21.41c.39.39.9.59 1.41.59.51 0 1.02-.2 1.41-.59l7.78-7.78 2.81-2.81c.8-.78.8-2.07 0-2.86zM5.41 20L4 18.59l7.72-7.72 1.47 1.35L5.41 20z\"/>\n",
              "  </svg>\n",
              "      </button>\n",
              "      \n",
              "  <style>\n",
              "    .colab-df-container {\n",
              "      display:flex;\n",
              "      flex-wrap:wrap;\n",
              "      gap: 12px;\n",
              "    }\n",
              "\n",
              "    .colab-df-convert {\n",
              "      background-color: #E8F0FE;\n",
              "      border: none;\n",
              "      border-radius: 50%;\n",
              "      cursor: pointer;\n",
              "      display: none;\n",
              "      fill: #1967D2;\n",
              "      height: 32px;\n",
              "      padding: 0 0 0 0;\n",
              "      width: 32px;\n",
              "    }\n",
              "\n",
              "    .colab-df-convert:hover {\n",
              "      background-color: #E2EBFA;\n",
              "      box-shadow: 0px 1px 2px rgba(60, 64, 67, 0.3), 0px 1px 3px 1px rgba(60, 64, 67, 0.15);\n",
              "      fill: #174EA6;\n",
              "    }\n",
              "\n",
              "    [theme=dark] .colab-df-convert {\n",
              "      background-color: #3B4455;\n",
              "      fill: #D2E3FC;\n",
              "    }\n",
              "\n",
              "    [theme=dark] .colab-df-convert:hover {\n",
              "      background-color: #434B5C;\n",
              "      box-shadow: 0px 1px 3px 1px rgba(0, 0, 0, 0.15);\n",
              "      filter: drop-shadow(0px 1px 2px rgba(0, 0, 0, 0.3));\n",
              "      fill: #FFFFFF;\n",
              "    }\n",
              "  </style>\n",
              "\n",
              "      <script>\n",
              "        const buttonEl =\n",
              "          document.querySelector('#df-c265e8e5-b84b-410c-9218-5e39ecaf9392 button.colab-df-convert');\n",
              "        buttonEl.style.display =\n",
              "          google.colab.kernel.accessAllowed ? 'block' : 'none';\n",
              "\n",
              "        async function convertToInteractive(key) {\n",
              "          const element = document.querySelector('#df-c265e8e5-b84b-410c-9218-5e39ecaf9392');\n",
              "          const dataTable =\n",
              "            await google.colab.kernel.invokeFunction('convertToInteractive',\n",
              "                                                     [key], {});\n",
              "          if (!dataTable) return;\n",
              "\n",
              "          const docLinkHtml = 'Like what you see? Visit the ' +\n",
              "            '<a target=\"_blank\" href=https://colab.research.google.com/notebooks/data_table.ipynb>data table notebook</a>'\n",
              "            + ' to learn more about interactive tables.';\n",
              "          element.innerHTML = '';\n",
              "          dataTable['output_type'] = 'display_data';\n",
              "          await google.colab.output.renderOutput(dataTable, element);\n",
              "          const docLink = document.createElement('div');\n",
              "          docLink.innerHTML = docLinkHtml;\n",
              "          element.appendChild(docLink);\n",
              "        }\n",
              "      </script>\n",
              "    </div>\n",
              "  </div>\n",
              "  "
            ],
            "text/plain": [
              "        weight\n",
              "0    71.807498\n",
              "1    72.950764\n",
              "2    73.510829\n",
              "3    64.485900\n",
              "4    75.501599\n",
              "..         ...\n",
              "995  69.625677\n",
              "996  70.925449\n",
              "997  63.043469\n",
              "998  72.401165\n",
              "999  70.413220\n",
              "\n",
              "[1000 rows x 1 columns]"
            ]
          },
          "metadata": {},
          "execution_count": 34
        }
      ]
    },
    {
      "cell_type": "code",
      "source": [
        "df_general.describe()"
      ],
      "metadata": {
        "colab": {
          "base_uri": "https://localhost:8080/",
          "height": 300
        },
        "id": "f3IZNNMfLInC",
        "outputId": "14c31982-0be0-494e-e155-71eade54321a"
      },
      "execution_count": null,
      "outputs": [
        {
          "output_type": "execute_result",
          "data": {
            "text/html": [
              "\n",
              "  <div id=\"df-0f16d09e-41fe-4231-9dfb-bb91a2765e72\">\n",
              "    <div class=\"colab-df-container\">\n",
              "      <div>\n",
              "<style scoped>\n",
              "    .dataframe tbody tr th:only-of-type {\n",
              "        vertical-align: middle;\n",
              "    }\n",
              "\n",
              "    .dataframe tbody tr th {\n",
              "        vertical-align: top;\n",
              "    }\n",
              "\n",
              "    .dataframe thead th {\n",
              "        text-align: right;\n",
              "    }\n",
              "</style>\n",
              "<table border=\"1\" class=\"dataframe\">\n",
              "  <thead>\n",
              "    <tr style=\"text-align: right;\">\n",
              "      <th></th>\n",
              "      <th>weight</th>\n",
              "    </tr>\n",
              "  </thead>\n",
              "  <tbody>\n",
              "    <tr>\n",
              "      <th>count</th>\n",
              "      <td>1000.000000</td>\n",
              "    </tr>\n",
              "    <tr>\n",
              "      <th>mean</th>\n",
              "      <td>69.584350</td>\n",
              "    </tr>\n",
              "    <tr>\n",
              "      <th>std</th>\n",
              "      <td>5.096136</td>\n",
              "    </tr>\n",
              "    <tr>\n",
              "      <th>min</th>\n",
              "      <td>52.713809</td>\n",
              "    </tr>\n",
              "    <tr>\n",
              "      <th>25%</th>\n",
              "      <td>66.183133</td>\n",
              "    </tr>\n",
              "    <tr>\n",
              "      <th>50%</th>\n",
              "      <td>69.744852</td>\n",
              "    </tr>\n",
              "    <tr>\n",
              "      <th>75%</th>\n",
              "      <td>73.221072</td>\n",
              "    </tr>\n",
              "    <tr>\n",
              "      <th>max</th>\n",
              "      <td>84.000739</td>\n",
              "    </tr>\n",
              "  </tbody>\n",
              "</table>\n",
              "</div>\n",
              "      <button class=\"colab-df-convert\" onclick=\"convertToInteractive('df-0f16d09e-41fe-4231-9dfb-bb91a2765e72')\"\n",
              "              title=\"Convert this dataframe to an interactive table.\"\n",
              "              style=\"display:none;\">\n",
              "        \n",
              "  <svg xmlns=\"http://www.w3.org/2000/svg\" height=\"24px\"viewBox=\"0 0 24 24\"\n",
              "       width=\"24px\">\n",
              "    <path d=\"M0 0h24v24H0V0z\" fill=\"none\"/>\n",
              "    <path d=\"M18.56 5.44l.94 2.06.94-2.06 2.06-.94-2.06-.94-.94-2.06-.94 2.06-2.06.94zm-11 1L8.5 8.5l.94-2.06 2.06-.94-2.06-.94L8.5 2.5l-.94 2.06-2.06.94zm10 10l.94 2.06.94-2.06 2.06-.94-2.06-.94-.94-2.06-.94 2.06-2.06.94z\"/><path d=\"M17.41 7.96l-1.37-1.37c-.4-.4-.92-.59-1.43-.59-.52 0-1.04.2-1.43.59L10.3 9.45l-7.72 7.72c-.78.78-.78 2.05 0 2.83L4 21.41c.39.39.9.59 1.41.59.51 0 1.02-.2 1.41-.59l7.78-7.78 2.81-2.81c.8-.78.8-2.07 0-2.86zM5.41 20L4 18.59l7.72-7.72 1.47 1.35L5.41 20z\"/>\n",
              "  </svg>\n",
              "      </button>\n",
              "      \n",
              "  <style>\n",
              "    .colab-df-container {\n",
              "      display:flex;\n",
              "      flex-wrap:wrap;\n",
              "      gap: 12px;\n",
              "    }\n",
              "\n",
              "    .colab-df-convert {\n",
              "      background-color: #E8F0FE;\n",
              "      border: none;\n",
              "      border-radius: 50%;\n",
              "      cursor: pointer;\n",
              "      display: none;\n",
              "      fill: #1967D2;\n",
              "      height: 32px;\n",
              "      padding: 0 0 0 0;\n",
              "      width: 32px;\n",
              "    }\n",
              "\n",
              "    .colab-df-convert:hover {\n",
              "      background-color: #E2EBFA;\n",
              "      box-shadow: 0px 1px 2px rgba(60, 64, 67, 0.3), 0px 1px 3px 1px rgba(60, 64, 67, 0.15);\n",
              "      fill: #174EA6;\n",
              "    }\n",
              "\n",
              "    [theme=dark] .colab-df-convert {\n",
              "      background-color: #3B4455;\n",
              "      fill: #D2E3FC;\n",
              "    }\n",
              "\n",
              "    [theme=dark] .colab-df-convert:hover {\n",
              "      background-color: #434B5C;\n",
              "      box-shadow: 0px 1px 3px 1px rgba(0, 0, 0, 0.15);\n",
              "      filter: drop-shadow(0px 1px 2px rgba(0, 0, 0, 0.3));\n",
              "      fill: #FFFFFF;\n",
              "    }\n",
              "  </style>\n",
              "\n",
              "      <script>\n",
              "        const buttonEl =\n",
              "          document.querySelector('#df-0f16d09e-41fe-4231-9dfb-bb91a2765e72 button.colab-df-convert');\n",
              "        buttonEl.style.display =\n",
              "          google.colab.kernel.accessAllowed ? 'block' : 'none';\n",
              "\n",
              "        async function convertToInteractive(key) {\n",
              "          const element = document.querySelector('#df-0f16d09e-41fe-4231-9dfb-bb91a2765e72');\n",
              "          const dataTable =\n",
              "            await google.colab.kernel.invokeFunction('convertToInteractive',\n",
              "                                                     [key], {});\n",
              "          if (!dataTable) return;\n",
              "\n",
              "          const docLinkHtml = 'Like what you see? Visit the ' +\n",
              "            '<a target=\"_blank\" href=https://colab.research.google.com/notebooks/data_table.ipynb>data table notebook</a>'\n",
              "            + ' to learn more about interactive tables.';\n",
              "          element.innerHTML = '';\n",
              "          dataTable['output_type'] = 'display_data';\n",
              "          await google.colab.output.renderOutput(dataTable, element);\n",
              "          const docLink = document.createElement('div');\n",
              "          docLink.innerHTML = docLinkHtml;\n",
              "          element.appendChild(docLink);\n",
              "        }\n",
              "      </script>\n",
              "    </div>\n",
              "  </div>\n",
              "  "
            ],
            "text/plain": [
              "            weight\n",
              "count  1000.000000\n",
              "mean     69.584350\n",
              "std       5.096136\n",
              "min      52.713809\n",
              "25%      66.183133\n",
              "50%      69.744852\n",
              "75%      73.221072\n",
              "max      84.000739"
            ]
          },
          "metadata": {},
          "execution_count": 35
        }
      ]
    },
    {
      "cell_type": "code",
      "source": [
        "# По умолчанию pandas рассчитывает стандартное отклонение для выборки, будем рассчитывать его для генеральной совокупности\n",
        "df_general.std(ddof=0) # Количество степеней свободы N-ddof, для генеральной совокупности ddof=0"
      ],
      "metadata": {
        "colab": {
          "base_uri": "https://localhost:8080/"
        },
        "id": "sCARx8dUVNzq",
        "outputId": "31cbbdb5-c9fb-4b9d-d2a6-d726fc26f970"
      },
      "execution_count": null,
      "outputs": [
        {
          "output_type": "execute_result",
          "data": {
            "text/plain": [
              "weight    5.093587\n",
              "dtype: float64"
            ]
          },
          "metadata": {},
          "execution_count": 36
        }
      ]
    },
    {
      "cell_type": "code",
      "source": [
        "# Проведем несколько экспериментов на выборках и попытаемся получить среднее значение\n",
        "N_EXPERIMENTS = 1000\n",
        "SAMPLE_SIZE = 10\n",
        "df_means = pd.DataFrame()\n",
        "for experiment_num in range(N_EXPERIMENTS):\n",
        "  df_mean_tmp = df_general.sample(SAMPLE_SIZE).mean()\n",
        "\n",
        "  df_mean_tmp.index = [experiment_num]\n",
        "  df_means = pd.concat([df_means, df_mean_tmp])\n",
        "df_means.columns = ['sample_means']\n",
        "df_means"
      ],
      "metadata": {
        "colab": {
          "base_uri": "https://localhost:8080/",
          "height": 423
        },
        "id": "fhGiNyAZKuH1",
        "outputId": "214d7974-5fd1-4813-b7d7-6c0091d41f93"
      },
      "execution_count": null,
      "outputs": [
        {
          "output_type": "execute_result",
          "data": {
            "text/html": [
              "\n",
              "  <div id=\"df-4febc781-f804-4a5e-b09b-51f5d3ceb787\">\n",
              "    <div class=\"colab-df-container\">\n",
              "      <div>\n",
              "<style scoped>\n",
              "    .dataframe tbody tr th:only-of-type {\n",
              "        vertical-align: middle;\n",
              "    }\n",
              "\n",
              "    .dataframe tbody tr th {\n",
              "        vertical-align: top;\n",
              "    }\n",
              "\n",
              "    .dataframe thead th {\n",
              "        text-align: right;\n",
              "    }\n",
              "</style>\n",
              "<table border=\"1\" class=\"dataframe\">\n",
              "  <thead>\n",
              "    <tr style=\"text-align: right;\">\n",
              "      <th></th>\n",
              "      <th>sample_means</th>\n",
              "    </tr>\n",
              "  </thead>\n",
              "  <tbody>\n",
              "    <tr>\n",
              "      <th>0</th>\n",
              "      <td>71.353660</td>\n",
              "    </tr>\n",
              "    <tr>\n",
              "      <th>1</th>\n",
              "      <td>70.052629</td>\n",
              "    </tr>\n",
              "    <tr>\n",
              "      <th>2</th>\n",
              "      <td>69.288296</td>\n",
              "    </tr>\n",
              "    <tr>\n",
              "      <th>3</th>\n",
              "      <td>69.448594</td>\n",
              "    </tr>\n",
              "    <tr>\n",
              "      <th>4</th>\n",
              "      <td>69.140788</td>\n",
              "    </tr>\n",
              "    <tr>\n",
              "      <th>...</th>\n",
              "      <td>...</td>\n",
              "    </tr>\n",
              "    <tr>\n",
              "      <th>995</th>\n",
              "      <td>68.611797</td>\n",
              "    </tr>\n",
              "    <tr>\n",
              "      <th>996</th>\n",
              "      <td>71.565045</td>\n",
              "    </tr>\n",
              "    <tr>\n",
              "      <th>997</th>\n",
              "      <td>69.562928</td>\n",
              "    </tr>\n",
              "    <tr>\n",
              "      <th>998</th>\n",
              "      <td>70.070978</td>\n",
              "    </tr>\n",
              "    <tr>\n",
              "      <th>999</th>\n",
              "      <td>70.577582</td>\n",
              "    </tr>\n",
              "  </tbody>\n",
              "</table>\n",
              "<p>1000 rows × 1 columns</p>\n",
              "</div>\n",
              "      <button class=\"colab-df-convert\" onclick=\"convertToInteractive('df-4febc781-f804-4a5e-b09b-51f5d3ceb787')\"\n",
              "              title=\"Convert this dataframe to an interactive table.\"\n",
              "              style=\"display:none;\">\n",
              "        \n",
              "  <svg xmlns=\"http://www.w3.org/2000/svg\" height=\"24px\"viewBox=\"0 0 24 24\"\n",
              "       width=\"24px\">\n",
              "    <path d=\"M0 0h24v24H0V0z\" fill=\"none\"/>\n",
              "    <path d=\"M18.56 5.44l.94 2.06.94-2.06 2.06-.94-2.06-.94-.94-2.06-.94 2.06-2.06.94zm-11 1L8.5 8.5l.94-2.06 2.06-.94-2.06-.94L8.5 2.5l-.94 2.06-2.06.94zm10 10l.94 2.06.94-2.06 2.06-.94-2.06-.94-.94-2.06-.94 2.06-2.06.94z\"/><path d=\"M17.41 7.96l-1.37-1.37c-.4-.4-.92-.59-1.43-.59-.52 0-1.04.2-1.43.59L10.3 9.45l-7.72 7.72c-.78.78-.78 2.05 0 2.83L4 21.41c.39.39.9.59 1.41.59.51 0 1.02-.2 1.41-.59l7.78-7.78 2.81-2.81c.8-.78.8-2.07 0-2.86zM5.41 20L4 18.59l7.72-7.72 1.47 1.35L5.41 20z\"/>\n",
              "  </svg>\n",
              "      </button>\n",
              "      \n",
              "  <style>\n",
              "    .colab-df-container {\n",
              "      display:flex;\n",
              "      flex-wrap:wrap;\n",
              "      gap: 12px;\n",
              "    }\n",
              "\n",
              "    .colab-df-convert {\n",
              "      background-color: #E8F0FE;\n",
              "      border: none;\n",
              "      border-radius: 50%;\n",
              "      cursor: pointer;\n",
              "      display: none;\n",
              "      fill: #1967D2;\n",
              "      height: 32px;\n",
              "      padding: 0 0 0 0;\n",
              "      width: 32px;\n",
              "    }\n",
              "\n",
              "    .colab-df-convert:hover {\n",
              "      background-color: #E2EBFA;\n",
              "      box-shadow: 0px 1px 2px rgba(60, 64, 67, 0.3), 0px 1px 3px 1px rgba(60, 64, 67, 0.15);\n",
              "      fill: #174EA6;\n",
              "    }\n",
              "\n",
              "    [theme=dark] .colab-df-convert {\n",
              "      background-color: #3B4455;\n",
              "      fill: #D2E3FC;\n",
              "    }\n",
              "\n",
              "    [theme=dark] .colab-df-convert:hover {\n",
              "      background-color: #434B5C;\n",
              "      box-shadow: 0px 1px 3px 1px rgba(0, 0, 0, 0.15);\n",
              "      filter: drop-shadow(0px 1px 2px rgba(0, 0, 0, 0.3));\n",
              "      fill: #FFFFFF;\n",
              "    }\n",
              "  </style>\n",
              "\n",
              "      <script>\n",
              "        const buttonEl =\n",
              "          document.querySelector('#df-4febc781-f804-4a5e-b09b-51f5d3ceb787 button.colab-df-convert');\n",
              "        buttonEl.style.display =\n",
              "          google.colab.kernel.accessAllowed ? 'block' : 'none';\n",
              "\n",
              "        async function convertToInteractive(key) {\n",
              "          const element = document.querySelector('#df-4febc781-f804-4a5e-b09b-51f5d3ceb787');\n",
              "          const dataTable =\n",
              "            await google.colab.kernel.invokeFunction('convertToInteractive',\n",
              "                                                     [key], {});\n",
              "          if (!dataTable) return;\n",
              "\n",
              "          const docLinkHtml = 'Like what you see? Visit the ' +\n",
              "            '<a target=\"_blank\" href=https://colab.research.google.com/notebooks/data_table.ipynb>data table notebook</a>'\n",
              "            + ' to learn more about interactive tables.';\n",
              "          element.innerHTML = '';\n",
              "          dataTable['output_type'] = 'display_data';\n",
              "          await google.colab.output.renderOutput(dataTable, element);\n",
              "          const docLink = document.createElement('div');\n",
              "          docLink.innerHTML = docLinkHtml;\n",
              "          element.appendChild(docLink);\n",
              "        }\n",
              "      </script>\n",
              "    </div>\n",
              "  </div>\n",
              "  "
            ],
            "text/plain": [
              "     sample_means\n",
              "0       71.353660\n",
              "1       70.052629\n",
              "2       69.288296\n",
              "3       69.448594\n",
              "4       69.140788\n",
              "..            ...\n",
              "995     68.611797\n",
              "996     71.565045\n",
              "997     69.562928\n",
              "998     70.070978\n",
              "999     70.577582\n",
              "\n",
              "[1000 rows x 1 columns]"
            ]
          },
          "metadata": {},
          "execution_count": 37
        }
      ]
    },
    {
      "cell_type": "code",
      "source": [
        "df_means.hist()"
      ],
      "metadata": {
        "colab": {
          "base_uri": "https://localhost:8080/",
          "height": 316
        },
        "id": "o0MBNtAlXOMu",
        "outputId": "4bab45f2-2124-42ea-906f-82e0948c47b6"
      },
      "execution_count": null,
      "outputs": [
        {
          "output_type": "execute_result",
          "data": {
            "text/plain": [
              "array([[<matplotlib.axes._subplots.AxesSubplot object at 0x7fb542054a50>]],\n",
              "      dtype=object)"
            ]
          },
          "metadata": {},
          "execution_count": 38
        },
        {
          "output_type": "display_data",
          "data": {
            "image/png": "[encoded data removed]",
            "text/plain": [
              "<Figure size 432x288 with 1 Axes>"
            ]
          },
          "metadata": {
            "needs_background": "light"
          }
        }
      ]
    },
    {
      "cell_type": "markdown",
      "source": [
        "Можно дать интервальную оценку среднего значения в выборке. Эта оценка называется стандартной ошибкой среднего значения"
      ],
      "metadata": {
        "id": "o3NugyUhXz1z"
      }
    },
    {
      "cell_type": "markdown",
      "source": [
        "### Стандартная ошибка как интервальная оценка среднего значения"
      ],
      "metadata": {
        "id": "qB43UDXeYbVQ"
      }
    },
    {
      "cell_type": "code",
      "source": [
        "df_general.sample(100).sem()"
      ],
      "metadata": {
        "colab": {
          "base_uri": "https://localhost:8080/"
        },
        "id": "UdiKxYHXYf_s",
        "outputId": "9e8c163b-4375-46fd-8a0c-f2261a2502d4"
      },
      "execution_count": null,
      "outputs": [
        {
          "output_type": "execute_result",
          "data": {
            "text/plain": [
              "weight    0.510691\n",
              "dtype: float64"
            ]
          },
          "metadata": {},
          "execution_count": 39
        }
      ]
    },
    {
      "cell_type": "markdown",
      "source": [
        "Но сколько же % значений попадет попадет в интервал [mean - std; mean + std] или [mean - sem; mean + sem]?"
      ],
      "metadata": {
        "id": "lwUZTkNNb4-t"
      }
    },
    {
      "cell_type": "markdown",
      "source": [
        "## Нормальное распределение случайной величины"
      ],
      "metadata": {
        "id": "hkmf6rgBjFsU"
      }
    },
    {
      "cell_type": "markdown",
      "source": [
        "![1_IZ2II2HYKeoMrdLU5jW6Dw[1].png](data:image/png;base64,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)"
      ],
      "metadata": {
        "id": "NM_eilpUja-m"
      }
    },
    {
      "cell_type": "markdown",
      "source": [
        "У данного распределения есть 2 параметра - среднее значение и стандартное отклонение."
      ],
      "metadata": {
        "id": "CvV8zmZNjm8Q"
      }
    },
    {
      "cell_type": "markdown",
      "source": [
        "![bellformula-56b749555f9b5829f8380dc8[1].jpg](data:image/jpeg;base64,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)"
      ],
      "metadata": {
        "id": "7E-Z7KyLj62u"
      }
    },
    {
      "cell_type": "code",
      "source": [
        "import numpy as np\n",
        "# Правило трех сигм на реальном примере\n",
        "normal_sample = np.array(np.random.normal(170, 10, 1000), dtype='int')\n",
        "normal_sample[:10]"
      ],
      "metadata": {
        "id": "l68P28RBXyPD",
        "colab": {
          "base_uri": "https://localhost:8080/"
        },
        "outputId": "6b518c06-9a86-49c7-bbf5-29d0193d0463"
      },
      "execution_count": null,
      "outputs": [
        {
          "output_type": "execute_result",
          "data": {
            "text/plain": [
              "array([182, 167, 176, 185, 167, 152, 175, 167, 163, 172])"
            ]
          },
          "metadata": {},
          "execution_count": 3
        }
      ]
    },
    {
      "cell_type": "code",
      "source": [
        "sigma_count = 2\n",
        "sample_mean = normal_sample.mean()\n",
        "sample_std = normal_sample.std()\n",
        "selection_condition_less = normal_sample < (sample_mean + sigma_count * sample_std)\n",
        "selection_condition_greater = normal_sample > (sample_mean - sigma_count * sample_std)\n",
        "selection_condition = selection_condition_less & selection_condition_greater\n",
        "selection_condition[:10]"
      ],
      "metadata": {
        "colab": {
          "base_uri": "https://localhost:8080/"
        },
        "id": "wOxg8zBCfKJh",
        "outputId": "9f25dfc5-4725-4888-f98e-22dcd33dd67f"
      },
      "execution_count": null,
      "outputs": [
        {
          "output_type": "execute_result",
          "data": {
            "text/plain": [
              "array([ True,  True,  True,  True,  True,  True,  True,  True,  True,\n",
              "        True])"
            ]
          },
          "metadata": {},
          "execution_count": 4
        }
      ]
    },
    {
      "cell_type": "code",
      "source": [
        "selection_condition.sum() / len(selection_condition)"
      ],
      "metadata": {
        "colab": {
          "base_uri": "https://localhost:8080/"
        },
        "id": "LeO5dTBsf-oG",
        "outputId": "414b6c1d-edf3-4586-a03f-422eb35a60a5"
      },
      "execution_count": null,
      "outputs": [
        {
          "output_type": "execute_result",
          "data": {
            "text/plain": [
              "0.965"
            ]
          },
          "metadata": {},
          "execution_count": 5
        }
      ]
    },
    {
      "cell_type": "code",
      "source": [
        "# Интервалы для значений sigma можно получить и более быстрым путем при помощи scipy\n",
        "from scipy.stats import norm # Импортируем нужное нам распределение\n",
        "norm.interval(0.95, loc=sample_mean, scale=sample_std)"
      ],
      "metadata": {
        "colab": {
          "base_uri": "https://localhost:8080/"
        },
        "id": "-qXzXR6Kr1Sm",
        "outputId": "b1c3f38e-220b-4054-ce71-edb619628196"
      },
      "execution_count": null,
      "outputs": [
        {
          "output_type": "execute_result",
          "data": {
            "text/plain": [
              "(149.59038222121245, 188.68161777878754)"
            ]
          },
          "metadata": {},
          "execution_count": 35
        }
      ]
    },
    {
      "cell_type": "markdown",
      "source": [
        "Одним из свойств нормального распределения является то, что среднее арифметическое значение, медиана и мода равны."
      ],
      "metadata": {
        "id": "qxoAKJHRj_57"
      }
    },
    {
      "cell_type": "code",
      "source": [
        "from scipy.stats import mode\n",
        "print(f'mean: {normal_sample.mean()}')\n",
        "print(f'median: {np.median(normal_sample)}')\n",
        "print(f'mode: {mode(normal_sample)}')"
      ],
      "metadata": {
        "colab": {
          "base_uri": "https://localhost:8080/"
        },
        "id": "UhM719ISg6wU",
        "outputId": "963f86ca-f15a-4329-cca0-4c200853ae03"
      },
      "execution_count": null,
      "outputs": [
        {
          "output_type": "stream",
          "name": "stdout",
          "text": [
            "mean: 169.136\n",
            "median: 169.0\n",
            "mode: ModeResult(mode=array([171]), count=array([49]))\n"
          ]
        }
      ]
    },
    {
      "cell_type": "markdown",
      "source": [
        "Также нормальное распределение имеет коэффициент ассиметрии равный 0, а также коэффициент эксцесса, равный 0 (в определении Фишера)."
      ],
      "metadata": {
        "id": "2y5HQ8-ZnwEq"
      }
    },
    {
      "cell_type": "markdown",
      "source": [
        "### Коэффициент ассиметрии"
      ],
      "metadata": {
        "id": "hA6e3yA9oTqo"
      }
    },
    {
      "cell_type": "markdown",
      "source": [
        "Коэффициент ассиметрии показывает степень ассиметрии данного распределения. Для положительного коэффициента правый хвост будет длиннее левого, для отрицательного - левый хвост будет длиннее правого"
      ],
      "metadata": {
        "id": "lKEW2r4GoZqZ"
      }
    },
    {
      "cell_type": "code",
      "source": [
        "import numpy as np\n",
        "from scipy.stats import skew\n",
        "import seaborn as sns\n",
        "\n",
        "# Создадим выборку из случайных чисел, выбранных из бета-распределения\n",
        "# Распределение с данными параметрами имеет длинный правый хвост\n",
        "positive_skew = np.random.beta(2, 10, size=1000)\n",
        "sns.displot(positive_skew)"
      ],
      "metadata": {
        "colab": {
          "base_uri": "https://localhost:8080/",
          "height": 387
        },
        "id": "tdk3YPCZo4AZ",
        "outputId": "0fa3f86c-bfac-4c92-e23d-c9ea82facbeb"
      },
      "execution_count": null,
      "outputs": [
        {
          "output_type": "execute_result",
          "data": {
            "text/plain": [
              "<seaborn.axisgrid.FacetGrid at 0x7f7d3be3fe50>"
            ]
          },
          "metadata": {},
          "execution_count": 29
        },
        {
          "output_type": "display_data",
          "data": {
            "image/png": "[encoded data removed]",
            "text/plain": [
              "<Figure size 360x360 with 1 Axes>"
            ]
          },
          "metadata": {
            "needs_background": "light"
          }
        }
      ]
    },
    {
      "cell_type": "code",
      "source": [
        "# Коэффициент ассиметрии +\n",
        "skew(positive_skew)"
      ],
      "metadata": {
        "colab": {
          "base_uri": "https://localhost:8080/"
        },
        "id": "jPZF0xRYpUAH",
        "outputId": "1d527c95-07d9-4cdf-d1fa-7828d69c50f4"
      },
      "execution_count": null,
      "outputs": [
        {
          "output_type": "execute_result",
          "data": {
            "text/plain": [
              "0.7591955305470433"
            ]
          },
          "metadata": {},
          "execution_count": 30
        }
      ]
    },
    {
      "cell_type": "code",
      "source": [
        "# Создадим выборку из нормального распределения\n",
        "no_skew = np.random.normal(10, 5, size=1000)\n",
        "sns.displot(no_skew)"
      ],
      "metadata": {
        "colab": {
          "base_uri": "https://localhost:8080/",
          "height": 387
        },
        "id": "tMLlEXxfp7Uc",
        "outputId": "57e2e2b1-192e-4f37-cce9-36e3e6b2fafe"
      },
      "execution_count": null,
      "outputs": [
        {
          "output_type": "execute_result",
          "data": {
            "text/plain": [
              "<seaborn.axisgrid.FacetGrid at 0x7f7d32ddac90>"
            ]
          },
          "metadata": {},
          "execution_count": 31
        },
        {
          "output_type": "display_data",
          "data": {
            "image/png": "[encoded data removed]",
            "text/plain": [
              "<Figure size 360x360 with 1 Axes>"
            ]
          },
          "metadata": {
            "needs_background": "light"
          }
        }
      ]
    },
    {
      "cell_type": "code",
      "source": [
        "# Коэффициент ассиметрии близок к 0\n",
        "skew(no_skew)"
      ],
      "metadata": {
        "colab": {
          "base_uri": "https://localhost:8080/"
        },
        "id": "G2Qz6bDuoZKx",
        "outputId": "c80493cc-d425-4872-94c1-e2db241a93ea"
      },
      "execution_count": null,
      "outputs": [
        {
          "output_type": "execute_result",
          "data": {
            "text/plain": [
              "0.03888037607860801"
            ]
          },
          "metadata": {},
          "execution_count": 32
        }
      ]
    },
    {
      "cell_type": "code",
      "source": [
        "# Создадим выборку из случайных чисел, выбранных из бета-распределения\n",
        "# Распределение с данными параметрами имеет длинный левый хвост\n",
        "negative_skew = np.random.beta(10, 2, size=1000)\n",
        "sns.displot(negative_skew)"
      ],
      "metadata": {
        "colab": {
          "base_uri": "https://localhost:8080/",
          "height": 387
        },
        "id": "GvaHhaYpqNQp",
        "outputId": "f6b8f660-aaa2-47ff-a2e3-7fc127b973a2"
      },
      "execution_count": null,
      "outputs": [
        {
          "output_type": "execute_result",
          "data": {
            "text/plain": [
              "<seaborn.axisgrid.FacetGrid at 0x7f7d32d13d90>"
            ]
          },
          "metadata": {},
          "execution_count": 33
        },
        {
          "output_type": "display_data",
          "data": {
            "image/png": "[encoded data removed]",
            "text/plain": [
              "<Figure size 360x360 with 1 Axes>"
            ]
          },
          "metadata": {
            "needs_background": "light"
          }
        }
      ]
    },
    {
      "cell_type": "code",
      "source": [
        "# Коэффициент ассиметрии отрицательный\n",
        "skew(negative_skew)"
      ],
      "metadata": {
        "colab": {
          "base_uri": "https://localhost:8080/"
        },
        "id": "3-fUPiyEqYT4",
        "outputId": "6ab77823-d775-4f9f-d045-00cdb0a2eb3c"
      },
      "execution_count": null,
      "outputs": [
        {
          "output_type": "execute_result",
          "data": {
            "text/plain": [
              "-0.8247346144248554"
            ]
          },
          "metadata": {},
          "execution_count": 34
        }
      ]
    },
    {
      "cell_type": "markdown",
      "source": [
        "### Коэффициент эксцесса"
      ],
      "metadata": {
        "id": "Gp1ibEc_qexu"
      }
    },
    {
      "cell_type": "markdown",
      "source": [
        "Данный коэффициент описывает то, насколько выражен пик распределения случайной величины."
      ],
      "metadata": {
        "id": "fDabqalrqkVr"
      }
    },
    {
      "cell_type": "code",
      "source": [
        "from scipy.stats import kurtosis\n",
        "normal_0_1 = np.random.normal(size=1000)\n",
        "# Нормальное распределение N(0, 1)\n",
        "sns.displot(normal_0_1)"
      ],
      "metadata": {
        "colab": {
          "base_uri": "https://localhost:8080/",
          "height": 386
        },
        "id": "zCcNLlO0qjbn",
        "outputId": "e182afab-5aaa-4807-8119-f3ce78dc775b"
      },
      "execution_count": null,
      "outputs": [
        {
          "output_type": "execute_result",
          "data": {
            "text/plain": [
              "<seaborn.axisgrid.FacetGrid at 0x7f1673c5a990>"
            ]
          },
          "metadata": {},
          "execution_count": 54
        },
        {
          "output_type": "display_data",
          "data": {
            "image/png": "[encoded data removed]",
            "text/plain": [
              "<Figure size 360x360 with 1 Axes>"
            ]
          },
          "metadata": {
            "needs_background": "light"
          }
        }
      ]
    },
    {
      "cell_type": "code",
      "source": [
        "# Коэффициент эксцесса близок к 0\n",
        "kurtosis(normal_0_1)"
      ],
      "metadata": {
        "colab": {
          "base_uri": "https://localhost:8080/"
        },
        "id": "RhlLukZKvAXx",
        "outputId": "3feac35b-605d-4ef2-9ef1-e1638c94e6ec"
      },
      "execution_count": null,
      "outputs": [
        {
          "output_type": "execute_result",
          "data": {
            "text/plain": [
              "0.03828058195377482"
            ]
          },
          "metadata": {},
          "execution_count": 55
        }
      ]
    },
    {
      "cell_type": "code",
      "source": [
        "# Распределение t-Стьюдента, о нем подробнее чуть ниже по тексту\n",
        "t_student = np.random.standard_t(3, size=1000)\n",
        "\n",
        "sns.displot(t_student)"
      ],
      "metadata": {
        "colab": {
          "base_uri": "https://localhost:8080/",
          "height": 386
        },
        "id": "usPEyqftwRwh",
        "outputId": "67ff3e66-f045-4eef-eea4-53d7b84de98d"
      },
      "execution_count": null,
      "outputs": [
        {
          "output_type": "execute_result",
          "data": {
            "text/plain": [
              "<seaborn.axisgrid.FacetGrid at 0x7f1673a6b490>"
            ]
          },
          "metadata": {},
          "execution_count": 58
        },
        {
          "output_type": "display_data",
          "data": {
            "image/png": "[encoded data removed]",
            "text/plain": [
              "<Figure size 360x360 with 1 Axes>"
            ]
          },
          "metadata": {
            "needs_background": "light"
          }
        }
      ]
    },
    {
      "cell_type": "code",
      "source": [
        "# Коэффициент эксцесса значительно больше нуля\n",
        "kurtosis(t_student)"
      ],
      "metadata": {
        "colab": {
          "base_uri": "https://localhost:8080/"
        },
        "id": "Vzdy_Q9hxNbs",
        "outputId": "178b52cc-1651-4139-d570-f8631c28d4d5"
      },
      "execution_count": null,
      "outputs": [
        {
          "output_type": "execute_result",
          "data": {
            "text/plain": [
              "8.552707484369757"
            ]
          },
          "metadata": {},
          "execution_count": 59
        }
      ]
    },
    {
      "cell_type": "code",
      "source": [
        "# Равномерное распределение как яркий пример распределения без явного пика\n",
        "uniform = np.random.uniform(1, 6, size=1000)\n",
        "\n",
        "sns.displot(uniform)"
      ],
      "metadata": {
        "colab": {
          "base_uri": "https://localhost:8080/",
          "height": 386
        },
        "id": "tcIcrtinxUie",
        "outputId": "731b86d8-3282-4006-fccf-25c6c339070e"
      },
      "execution_count": null,
      "outputs": [
        {
          "output_type": "execute_result",
          "data": {
            "text/plain": [
              "<seaborn.axisgrid.FacetGrid at 0x7f167394c690>"
            ]
          },
          "metadata": {},
          "execution_count": 60
        },
        {
          "output_type": "display_data",
          "data": {
            "image/png": "[encoded data removed]",
            "text/plain": [
              "<Figure size 360x360 with 1 Axes>"
            ]
          },
          "metadata": {
            "needs_background": "light"
          }
        }
      ]
    },
    {
      "cell_type": "code",
      "source": [
        "# Коэффициент эксцесса отрицательный\n",
        "kurtosis(uniform)"
      ],
      "metadata": {
        "colab": {
          "base_uri": "https://localhost:8080/"
        },
        "id": "UOPAMurPxqV1",
        "outputId": "42b04cb8-5e3e-4e8e-db88-e332edb947e0"
      },
      "execution_count": null,
      "outputs": [
        {
          "output_type": "execute_result",
          "data": {
            "text/plain": [
              "-1.1737133246137061"
            ]
          },
          "metadata": {},
          "execution_count": 61
        }
      ]
    },
    {
      "cell_type": "markdown",
      "source": [
        "### Как понять, насколько мое значение в выборке сильно отличается от среднего и сравнить со значением из другой выборки?"
      ],
      "metadata": {
        "id": "wrqe68mRlZ3K"
      }
    },
    {
      "cell_type": "markdown",
      "source": [
        "Мы можем использовать стандартизированную оценку (Z-оценка)."
      ],
      "metadata": {
        "id": "fgjxGow1l3_9"
      }
    },
    {
      "cell_type": "markdown",
      "source": [
        "![Z-score-formula[1].jpg](data:image/jpeg;base64,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)"
      ],
      "metadata": {
        "id": "PBVdiOIkmEwU"
      }
    },
    {
      "cell_type": "code",
      "source": [
        "our_value = 181\n",
        "z_score = (our_value - normal_sample.mean()) / normal_sample.std()\n",
        "z_score"
      ],
      "metadata": {
        "id": "W6sZu186l3dO"
      },
      "execution_count": null,
      "outputs": []
    },
    {
      "cell_type": "code",
      "source": [
        "# Мы можем перевести весь датасет в z-оценки, используя zscore из модуля scipy\n",
        "from scipy.stats import zscore\n",
        "zscore(normal_sample, ddof=1)[:10] # Задаем значение степеней свободы, т.к. по умолчанию оно равно 0"
      ],
      "metadata": {
        "colab": {
          "base_uri": "https://localhost:8080/"
        },
        "id": "NjgYem_Sk7wk",
        "outputId": "90cd7a81-1265-4f81-a155-9e468767b638"
      },
      "execution_count": null,
      "outputs": [
        {
          "output_type": "execute_result",
          "data": {
            "text/plain": [
              "array([-0.01363077,  0.6879529 , -0.21408325,  0.78817914,  1.38953658,\n",
              "        1.08885786, -0.01363077, -2.01815555,  0.98863162, -0.51476196])"
            ]
          },
          "metadata": {},
          "execution_count": 27
        }
      ]
    },
    {
      "cell_type": "markdown",
      "source": [
        "### Доверительнй интервал"
      ],
      "metadata": {
        "id": "MiXfbW5yp-4t"
      }
    },
    {
      "cell_type": "markdown",
      "source": [
        "Если мы хотим понять, в какой интервал попадает попадает 95% (99%) средних значений в выборках при повторных измерениях мы используем доверительные интервалы."
      ],
      "metadata": {
        "id": "jClmk5acqILl"
      }
    },
    {
      "cell_type": "code",
      "source": [
        "from scipy.stats import sem\n",
        "# Во-первых нам необходимо рассчитать стандартную ошибку среднего значения (SEM)\n",
        "sample_sem = sem(normal_sample)\n",
        "sample_sem"
      ],
      "metadata": {
        "colab": {
          "base_uri": "https://localhost:8080/"
        },
        "id": "v-lm3Q17qCQF",
        "outputId": "00bf2371-1f3c-4b17-c42d-506a879be9e0"
      },
      "execution_count": null,
      "outputs": [
        {
          "output_type": "execute_result",
          "data": {
            "text/plain": [
              "0.3155139506472781"
            ]
          },
          "metadata": {},
          "execution_count": 32
        }
      ]
    },
    {
      "cell_type": "code",
      "source": [
        "# Затем, мы можем использовать нормальное распределение из scipy и найти доверительный интервал для 95% или 99%\n",
        "from scipy.stats import norm\n",
        "norm.interval(0.95, loc=sample_mean, scale=sample_sem)"
      ],
      "metadata": {
        "colab": {
          "base_uri": "https://localhost:8080/"
        },
        "id": "8CQfFYGbpkkT",
        "outputId": "d640cb46-4bee-4a6e-a300-801a6a390694"
      },
      "execution_count": null,
      "outputs": [
        {
          "output_type": "execute_result",
          "data": {
            "text/plain": [
              "(168.51760402011138, 169.7543959798886)"
            ]
          },
          "metadata": {},
          "execution_count": 39
        }
      ]
    },
    {
      "cell_type": "code",
      "source": [],
      "metadata": {
        "id": "tLVMmqXE__Dg"
      },
      "execution_count": null,
      "outputs": []
    },
    {
      "cell_type": "markdown",
      "source": [
        "## Распределение Стьюдента"
      ],
      "metadata": {
        "id": "4faCndkH3cu9"
      }
    },
    {
      "cell_type": "markdown",
      "source": [
        "Распределение Стьюдента имеет форму, похожую на нормальное распределение, но с \"более тяжелыми хвостами\". Уильям Госсет впервые опубликовал работы, связанные с этим распределением в журнале \"Биометрика\" под псевдонимом \"Стьюдент\". Уильям Госсет работал в пивоваренной компании Гинесс, и наработки по анализу распределений в малых выборках являлись коммерческой тайной, что побудило Госсета опубликоваться под псевдонимом, а не под реальным именем."
      ],
      "metadata": {
        "id": "MPUKoIwf3gYd"
      }
    },
    {
      "cell_type": "code",
      "source": [
        "import numpy as np\n",
        "import seaborn as sns\n",
        "# В данном распределении есть только один параметр - количество степеней свободы\n",
        "sns.displot(np.random.standard_t(15, size=1000))"
      ],
      "metadata": {
        "colab": {
          "base_uri": "https://localhost:8080/",
          "height": 387
        },
        "id": "cwF0tk2TAA7s",
        "outputId": "367778bb-5414-4af8-b97a-3cc57bd264d9"
      },
      "execution_count": null,
      "outputs": [
        {
          "output_type": "execute_result",
          "data": {
            "text/plain": [
              "<seaborn.axisgrid.FacetGrid at 0x7fb52a831e50>"
            ]
          },
          "metadata": {},
          "execution_count": 49
        },
        {
          "output_type": "display_data",
          "data": {
            "image/png": "[encoded data removed]",
            "text/plain": [
              "<Figure size 360x360 with 1 Axes>"
            ]
          },
          "metadata": {
            "needs_background": "light"
          }
        }
      ]
    },
    {
      "cell_type": "markdown",
      "source": [
        "Данное распределение используется для интервальных оценок (например, чтобы рассчитать доверительный интервал) на малых выборках до 30 наблюдений."
      ],
      "metadata": {
        "id": "5KXHQPJT66a1"
      }
    },
    {
      "cell_type": "code",
      "source": [
        "# Импортируем распределение t-Стьюдента и рассчитаем доверительный интервал\n",
        "from scipy.stats import t\n",
        "sample_sem = sem(normal_sample)\n",
        "n = len(normal_sample)\n",
        "degree_of_freedom = n - 1\n",
        "t.interval(0.95, degree_of_freedom, loc=sample_mean, scale=sample_sem) # Помимо прочего, необходимо указать параметр df - количество степене свободы"
      ],
      "metadata": {
        "colab": {
          "base_uri": "https://localhost:8080/",
          "height": 244
        },
        "id": "9kYei24Y3UWd",
        "outputId": "62df4304-1056-4224-c316-79c4ae6a1613"
      },
      "execution_count": null,
      "outputs": [
        {
          "output_type": "error",
          "ename": "NameError",
          "evalue": "ignored",
          "traceback": [
            "\u001b[0;31m---------------------------------------------------------------------------\u001b[0m",
            "\u001b[0;31mNameError\u001b[0m                                 Traceback (most recent call last)",
            "\u001b[0;32m<ipython-input-1-27e0ad0182c9>\u001b[0m in \u001b[0;36m<module>\u001b[0;34m()\u001b[0m\n\u001b[1;32m      1\u001b[0m \u001b[0;31m# Импортируем распределение t-Стьюдента и рассчитаем доверительный интервал\u001b[0m\u001b[0;34m\u001b[0m\u001b[0;34m\u001b[0m\u001b[0;34m\u001b[0m\u001b[0m\n\u001b[1;32m      2\u001b[0m \u001b[0;32mfrom\u001b[0m \u001b[0mscipy\u001b[0m\u001b[0;34m.\u001b[0m\u001b[0mstats\u001b[0m \u001b[0;32mimport\u001b[0m \u001b[0mt\u001b[0m\u001b[0;34m\u001b[0m\u001b[0;34m\u001b[0m\u001b[0m\n\u001b[0;32m----> 3\u001b[0;31m \u001b[0msample_sem\u001b[0m \u001b[0;34m=\u001b[0m \u001b[0msem\u001b[0m\u001b[0;34m(\u001b[0m\u001b[0mnormal_sample\u001b[0m\u001b[0;34m)\u001b[0m\u001b[0;34m\u001b[0m\u001b[0;34m\u001b[0m\u001b[0m\n\u001b[0m\u001b[1;32m      4\u001b[0m \u001b[0mn\u001b[0m \u001b[0;34m=\u001b[0m \u001b[0mlen\u001b[0m\u001b[0;34m(\u001b[0m\u001b[0mnormal_sample\u001b[0m\u001b[0;34m)\u001b[0m\u001b[0;34m\u001b[0m\u001b[0;34m\u001b[0m\u001b[0m\n\u001b[1;32m      5\u001b[0m \u001b[0mdegree_of_freedom\u001b[0m \u001b[0;34m=\u001b[0m \u001b[0mn\u001b[0m \u001b[0;34m-\u001b[0m \u001b[0;36m1\u001b[0m\u001b[0;34m\u001b[0m\u001b[0;34m\u001b[0m\u001b[0m\n",
            "\u001b[0;31mNameError\u001b[0m: name 'sem' is not defined"
          ]
        }
      ]
    },
    {
      "cell_type": "markdown",
      "source": [
        "### Статистические тесты на соответствие нормальному распределению"
      ],
      "metadata": {
        "id": "WbnF6I6Z-c3y"
      }
    },
    {
      "cell_type": "markdown",
      "source": [
        "#### Тест Шапиро-Уилка"
      ],
      "metadata": {
        "id": "HHSbqt7--iQ4"
      }
    },
    {
      "cell_type": "markdown",
      "source": [
        "Тест на соответствие распределения нормальному распределению для малых выборок (n < 5000)."
      ],
      "metadata": {
        "id": "8osZt2UY-0Dh"
      }
    },
    {
      "cell_type": "markdown",
      "source": [
        "Проведение статистических тестов предполагает постановку гипотез.\n",
        "*   H0-гипотеза (\"нулевая гипотеза\") - гипотеза, которая принимается в том случае, если результаты теста статистически не значимы. Зачастую, это гипотеза об отсутствии взаимосвязи между наблюдаемыми явлениями. Для теста Шапиро-Уилка H0-гипотеза состоит в том, что распределение соответствует норальному закону.\n",
        "*   H1-гипотеза (\"альтернативная гипотеза\"). Принимается в том случае, если результаты теста статистически значимы. Для теста Шапиро-Уилка H1-гипотеза гласит, что имеются отличия от нормального распределения."
      ],
      "metadata": {
        "id": "ywWik7Xw_4pX"
      }
    },
    {
      "cell_type": "markdown",
      "source": [
        "#### Что такое \"статистическая значимость\" и как ее определелить?"
      ],
      "metadata": {
        "id": "CiE3yP48EJwD"
      }
    },
    {
      "cell_type": "markdown",
      "source": [
        "Перед тем, как провести статистический тест мы должны определиться с тем, какая вероятность ошибки для нас допустима. Вероятность нашей ошибки отображается понятием \"p-уровень значимости\".\n",
        "<br>\n",
        "**p-уровень значимости (p-value)** - вероятность случайного отклонения H0-гипотезы в том случае, когда она на самом деле верна (ошибка первого рода).\n",
        "<br>\n",
        "Наиболее популярными пороговыми значениями являются p<0.05 (с вероятностью α=0.95 мы верно отказываемся от H0-гипотезы), p<0.01 (α=0.99) и p<0.001 (α=0.999)."
      ],
      "metadata": {
        "id": "NplW9mr6ERFJ"
      }
    },
    {
      "cell_type": "markdown",
      "source": [
        "Внимание: тест Шапиро-Уилка для выборок больше n > 5000 может давать неверные значения p-value [Тест Шапиро-Уилка](https://docs.scipy.org/doc/scipy/reference/generated/scipy.stats.shapiro.html)"
      ],
      "metadata": {
        "id": "PCHHyBONkCIJ"
      }
    },
    {
      "cell_type": "code",
      "source": [
        "from scipy.stats import shapiro\n",
        "shapiro(np.random.normal(80, 5, size=1000))"
      ],
      "metadata": {
        "colab": {
          "base_uri": "https://localhost:8080/"
        },
        "id": "QGmpjDEDIgvz",
        "outputId": "65959a0e-1abf-4dc8-f0c1-7cc1e8a7ab53"
      },
      "execution_count": null,
      "outputs": [
        {
          "output_type": "execute_result",
          "data": {
            "text/plain": [
              "(0.998193621635437, 0.373388409614563)"
            ]
          },
          "metadata": {},
          "execution_count": 53
        }
      ]
    },
    {
      "cell_type": "markdown",
      "source": [
        "### Тест Лилиефорса"
      ],
      "metadata": {
        "id": "0ge5vk9skRom"
      }
    },
    {
      "cell_type": "markdown",
      "source": [
        "Это модификация теста Колмогорова-Смирнова на соответствие выборки нормальному распределению. В отличие от теста Колмогорова-Смирнова для теста Лилиефорса не обязательно знать среднее значение и стандартное отклонение в генеральной совокупности.\n",
        "\n",
        "*   H0-гипотеза: распределение в выборке соответствует нормальному\n",
        "*   H1-гипотеза: распределение в выборке отличается от нормального\n",
        "\n"
      ],
      "metadata": {
        "id": "NxPiwpzrkbah"
      }
    },
    {
      "cell_type": "code",
      "source": [
        "from statsmodels.stats.diagnostic import lilliefors\n",
        "lilliefors(np.random.normal(80, 5, size=900), 'norm')"
      ],
      "metadata": {
        "colab": {
          "base_uri": "https://localhost:8080/"
        },
        "id": "DtqHUSHxlxCI",
        "outputId": "f4405a3a-99ec-4f10-8027-4970a4adbfe7"
      },
      "execution_count": null,
      "outputs": [
        {
          "output_type": "execute_result",
          "data": {
            "text/plain": [
              "(0.028794352524704192, 0.07514954609931455)"
            ]
          },
          "metadata": {},
          "execution_count": 33
        }
      ]
    }
  ]
}