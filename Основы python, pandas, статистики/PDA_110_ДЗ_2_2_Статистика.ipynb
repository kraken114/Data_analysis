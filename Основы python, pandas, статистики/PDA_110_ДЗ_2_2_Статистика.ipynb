{
  "nbformat": 4,
  "nbformat_minor": 0,
  "metadata": {
    "colab": {
      "provenance": []
    },
    "kernelspec": {
      "name": "python3",
      "display_name": "Python 3"
    },
    "language_info": {
      "name": "python"
    }
  },
  "cells": [
    {
      "cell_type": "code",
      "source": [
        "import pandas as pd\n",
        "import numpy as np\n",
        "from scipy.stats import skew\n",
        "import seaborn as sns\n",
        "from scipy.stats import kurtosis"
      ],
      "metadata": {
        "id": "mffY3bRlXrS6"
      },
      "execution_count": null,
      "outputs": []
    },
    {
      "cell_type": "markdown",
      "source": [
        "https://drive.google.com/file/d/11BKUvXC_tInntNtDrb50DOoIi88FzDcM/view?usp=sharing"
      ],
      "metadata": {
        "id": "0QgF-3KmSIyE"
      }
    },
    {
      "cell_type": "code",
      "execution_count": null,
      "metadata": {
        "id": "xwPdaK7qWU1w"
      },
      "outputs": [],
      "source": [
        "df = pd.read_csv('/content/avocado_prices.csv')"
      ]
    },
    {
      "cell_type": "code",
      "source": [
        "print(df.columns)\n",
        "print(df.dtypes)\n",
        "print(df.type.value_counts())\n",
        "print(df.shape)\n",
        "print(df.info)\n",
        "print(df.describe())"
      ],
      "metadata": {
        "colab": {
          "base_uri": "https://localhost:8080/"
        },
        "id": "8zEwRIvCZ0mg",
        "outputId": "d08dcdfa-95d9-4734-f576-7772aac57639"
      },
      "execution_count": null,
      "outputs": [
        {
          "output_type": "stream",
          "name": "stdout",
          "text": [
            "Index(['date', 'region', 'type', 'averageprice', 'total_bags', 'small_bags',\n",
            "       'large_bags', 'xlarge_bags'],\n",
            "      dtype='object')\n",
            "date             object\n",
            "region           object\n",
            "type             object\n",
            "averageprice    float64\n",
            "total_bags      float64\n",
            "small_bags      float64\n",
            "large_bags      float64\n",
            "xlarge_bags     float64\n",
            "dtype: object\n",
            "conventional    648\n",
            "organic         648\n",
            "Name: type, dtype: int64\n",
            "(1296, 8)\n",
            "<bound method DataFrame.info of             date            region  ... large_bags  xlarge_bags\n",
            "0     2018-03-25            Albany  ...    4270.53       380.00\n",
            "1     2018-03-18            Albany  ...    3721.31       500.00\n",
            "2     2018-03-11            Albany  ...    3033.09       291.11\n",
            "3     2018-03-04            Albany  ...    5941.45       283.33\n",
            "4     2018-02-25            Albany  ...    3702.49       310.00\n",
            "...          ...               ...  ...        ...          ...\n",
            "1291  2018-02-04  WestTexNewMexico  ...     431.85         0.00\n",
            "1292  2018-01-28  WestTexNewMexico  ...     324.80         0.00\n",
            "1293  2018-01-21  WestTexNewMexico  ...      42.31         0.00\n",
            "1294  2018-01-14  WestTexNewMexico  ...      50.00         0.00\n",
            "1295  2018-01-07  WestTexNewMexico  ...      26.01         0.00\n",
            "\n",
            "[1296 rows x 8 columns]>\n",
            "       averageprice    total_bags    small_bags    large_bags    xlarge_bags\n",
            "count   1296.000000  1.296000e+03  1.296000e+03  1.296000e+03    1296.000000\n",
            "mean       1.347531  3.792716e+05  2.783498e+05  9.535802e+04    5563.728295\n",
            "std        0.305858  1.478037e+06  1.075358e+06  4.084757e+05   25818.259882\n",
            "min        0.560000  9.884500e+02  2.844300e+02  0.000000e+00       0.000000\n",
            "25%        1.130000  1.186428e+04  9.071682e+03  5.208825e+02       0.000000\n",
            "50%        1.345000  6.943189e+04  5.072951e+04  8.543130e+03       0.000000\n",
            "75%        1.560000  1.771608e+05  1.261619e+05  3.984985e+04     842.070000\n",
            "max        2.300000  1.937313e+07  1.338459e+07  5.719097e+06  309467.530000\n"
          ]
        }
      ]
    },
    {
      "cell_type": "code",
      "source": [
        "df.sample(4)"
      ],
      "metadata": {
        "colab": {
          "base_uri": "https://localhost:8080/",
          "height": 175
        },
        "id": "cg8J3Je9aSdb",
        "outputId": "6a69fa36-b07d-4ca9-fdc6-1b74a88c9d66"
      },
      "execution_count": null,
      "outputs": [
        {
          "output_type": "execute_result",
          "data": {
            "text/html": [
              "\n",
              "  <div id=\"df-355dd0c4-ce39-4da7-85c1-5344073ae428\">\n",
              "    <div class=\"colab-df-container\">\n",
              "      <div>\n",
              "<style scoped>\n",
              "    .dataframe tbody tr th:only-of-type {\n",
              "        vertical-align: middle;\n",
              "    }\n",
              "\n",
              "    .dataframe tbody tr th {\n",
              "        vertical-align: top;\n",
              "    }\n",
              "\n",
              "    .dataframe thead th {\n",
              "        text-align: right;\n",
              "    }\n",
              "</style>\n",
              "<table border=\"1\" class=\"dataframe\">\n",
              "  <thead>\n",
              "    <tr style=\"text-align: right;\">\n",
              "      <th></th>\n",
              "      <th>date</th>\n",
              "      <th>region</th>\n",
              "      <th>type</th>\n",
              "      <th>averageprice</th>\n",
              "      <th>total_bags</th>\n",
              "      <th>small_bags</th>\n",
              "      <th>large_bags</th>\n",
              "      <th>xlarge_bags</th>\n",
              "    </tr>\n",
              "  </thead>\n",
              "  <tbody>\n",
              "    <tr>\n",
              "      <th>134</th>\n",
              "      <td>2018-03-11</td>\n",
              "      <td>DallasFtWorth</td>\n",
              "      <td>conventional</td>\n",
              "      <td>0.87</td>\n",
              "      <td>448420.94</td>\n",
              "      <td>329344.14</td>\n",
              "      <td>100310.59</td>\n",
              "      <td>18766.21</td>\n",
              "    </tr>\n",
              "    <tr>\n",
              "      <th>235</th>\n",
              "      <td>2018-02-04</td>\n",
              "      <td>Indianapolis</td>\n",
              "      <td>conventional</td>\n",
              "      <td>0.79</td>\n",
              "      <td>123090.81</td>\n",
              "      <td>95765.52</td>\n",
              "      <td>25974.12</td>\n",
              "      <td>1351.17</td>\n",
              "    </tr>\n",
              "    <tr>\n",
              "      <th>415</th>\n",
              "      <td>2018-02-04</td>\n",
              "      <td>Pittsburgh</td>\n",
              "      <td>conventional</td>\n",
              "      <td>0.98</td>\n",
              "      <td>91263.98</td>\n",
              "      <td>38743.07</td>\n",
              "      <td>52514.24</td>\n",
              "      <td>6.67</td>\n",
              "    </tr>\n",
              "    <tr>\n",
              "      <th>1205</th>\n",
              "      <td>2018-02-18</td>\n",
              "      <td>Southeast</td>\n",
              "      <td>organic</td>\n",
              "      <td>1.50</td>\n",
              "      <td>81771.29</td>\n",
              "      <td>70925.90</td>\n",
              "      <td>10845.39</td>\n",
              "      <td>0.00</td>\n",
              "    </tr>\n",
              "  </tbody>\n",
              "</table>\n",
              "</div>\n",
              "      <button class=\"colab-df-convert\" onclick=\"convertToInteractive('df-355dd0c4-ce39-4da7-85c1-5344073ae428')\"\n",
              "              title=\"Convert this dataframe to an interactive table.\"\n",
              "              style=\"display:none;\">\n",
              "        \n",
              "  <svg xmlns=\"http://www.w3.org/2000/svg\" height=\"24px\"viewBox=\"0 0 24 24\"\n",
              "       width=\"24px\">\n",
              "    <path d=\"M0 0h24v24H0V0z\" fill=\"none\"/>\n",
              "    <path d=\"M18.56 5.44l.94 2.06.94-2.06 2.06-.94-2.06-.94-.94-2.06-.94 2.06-2.06.94zm-11 1L8.5 8.5l.94-2.06 2.06-.94-2.06-.94L8.5 2.5l-.94 2.06-2.06.94zm10 10l.94 2.06.94-2.06 2.06-.94-2.06-.94-.94-2.06-.94 2.06-2.06.94z\"/><path d=\"M17.41 7.96l-1.37-1.37c-.4-.4-.92-.59-1.43-.59-.52 0-1.04.2-1.43.59L10.3 9.45l-7.72 7.72c-.78.78-.78 2.05 0 2.83L4 21.41c.39.39.9.59 1.41.59.51 0 1.02-.2 1.41-.59l7.78-7.78 2.81-2.81c.8-.78.8-2.07 0-2.86zM5.41 20L4 18.59l7.72-7.72 1.47 1.35L5.41 20z\"/>\n",
              "  </svg>\n",
              "      </button>\n",
              "      \n",
              "  <style>\n",
              "    .colab-df-container {\n",
              "      display:flex;\n",
              "      flex-wrap:wrap;\n",
              "      gap: 12px;\n",
              "    }\n",
              "\n",
              "    .colab-df-convert {\n",
              "      background-color: #E8F0FE;\n",
              "      border: none;\n",
              "      border-radius: 50%;\n",
              "      cursor: pointer;\n",
              "      display: none;\n",
              "      fill: #1967D2;\n",
              "      height: 32px;\n",
              "      padding: 0 0 0 0;\n",
              "      width: 32px;\n",
              "    }\n",
              "\n",
              "    .colab-df-convert:hover {\n",
              "      background-color: #E2EBFA;\n",
              "      box-shadow: 0px 1px 2px rgba(60, 64, 67, 0.3), 0px 1px 3px 1px rgba(60, 64, 67, 0.15);\n",
              "      fill: #174EA6;\n",
              "    }\n",
              "\n",
              "    [theme=dark] .colab-df-convert {\n",
              "      background-color: #3B4455;\n",
              "      fill: #D2E3FC;\n",
              "    }\n",
              "\n",
              "    [theme=dark] .colab-df-convert:hover {\n",
              "      background-color: #434B5C;\n",
              "      box-shadow: 0px 1px 3px 1px rgba(0, 0, 0, 0.15);\n",
              "      filter: drop-shadow(0px 1px 2px rgba(0, 0, 0, 0.3));\n",
              "      fill: #FFFFFF;\n",
              "    }\n",
              "  </style>\n",
              "\n",
              "      <script>\n",
              "        const buttonEl =\n",
              "          document.querySelector('#df-355dd0c4-ce39-4da7-85c1-5344073ae428 button.colab-df-convert');\n",
              "        buttonEl.style.display =\n",
              "          google.colab.kernel.accessAllowed ? 'block' : 'none';\n",
              "\n",
              "        async function convertToInteractive(key) {\n",
              "          const element = document.querySelector('#df-355dd0c4-ce39-4da7-85c1-5344073ae428');\n",
              "          const dataTable =\n",
              "            await google.colab.kernel.invokeFunction('convertToInteractive',\n",
              "                                                     [key], {});\n",
              "          if (!dataTable) return;\n",
              "\n",
              "          const docLinkHtml = 'Like what you see? Visit the ' +\n",
              "            '<a target=\"_blank\" href=https://colab.research.google.com/notebooks/data_table.ipynb>data table notebook</a>'\n",
              "            + ' to learn more about interactive tables.';\n",
              "          element.innerHTML = '';\n",
              "          dataTable['output_type'] = 'display_data';\n",
              "          await google.colab.output.renderOutput(dataTable, element);\n",
              "          const docLink = document.createElement('div');\n",
              "          docLink.innerHTML = docLinkHtml;\n",
              "          element.appendChild(docLink);\n",
              "        }\n",
              "      </script>\n",
              "    </div>\n",
              "  </div>\n",
              "  "
            ],
            "text/plain": [
              "            date         region  ... large_bags  xlarge_bags\n",
              "134   2018-03-11  DallasFtWorth  ...  100310.59     18766.21\n",
              "235   2018-02-04   Indianapolis  ...   25974.12      1351.17\n",
              "415   2018-02-04     Pittsburgh  ...   52514.24         6.67\n",
              "1205  2018-02-18      Southeast  ...   10845.39         0.00\n",
              "\n",
              "[4 rows x 8 columns]"
            ]
          },
          "metadata": {},
          "execution_count": 94
        }
      ]
    },
    {
      "cell_type": "markdown",
      "source": [
        "**Задание 1** Проверьте данные на наличие пропусков и некорректных значений. Всегда ли total_bags равен сумме всех типов упаковки?"
      ],
      "metadata": {
        "id": "VtnDXL_pkJUw"
      }
    },
    {
      "cell_type": "code",
      "source": [
        "df.isna().sum() # проверка на наличие пропусков, их нет"
      ],
      "metadata": {
        "colab": {
          "base_uri": "https://localhost:8080/"
        },
        "id": "r9TFWgVWVzTn",
        "outputId": "7381816a-418f-45bc-fba6-e1bbbd176607"
      },
      "execution_count": null,
      "outputs": [
        {
          "output_type": "execute_result",
          "data": {
            "text/plain": [
              "date            0\n",
              "region          0\n",
              "type            0\n",
              "averageprice    0\n",
              "total_bags      0\n",
              "small_bags      0\n",
              "large_bags      0\n",
              "xlarge_bags     0\n",
              "dtype: int64"
            ]
          },
          "metadata": {},
          "execution_count": 95
        }
      ]
    },
    {
      "cell_type": "code",
      "source": [
        "df['Сравнение'] = df.small_bags + df.large_bags + df.xlarge_bags - df.total_bags # создаем столбец в котором будет результат операций\n",
        "df['Сравнение'].value_counts().reset_index() # считаем количество несоответствий"
      ],
      "metadata": {
        "colab": {
          "base_uri": "https://localhost:8080/",
          "height": 895
        },
        "id": "-FVeFOcMPzdP",
        "outputId": "d2b64c73-8e41-495e-999c-c43ee7cfd5ed"
      },
      "execution_count": null,
      "outputs": [
        {
          "output_type": "execute_result",
          "data": {
            "text/html": [
              "\n",
              "  <div id=\"df-086b304f-4552-48d1-ae35-7c08e6e7d944\">\n",
              "    <div class=\"colab-df-container\">\n",
              "      <div>\n",
              "<style scoped>\n",
              "    .dataframe tbody tr th:only-of-type {\n",
              "        vertical-align: middle;\n",
              "    }\n",
              "\n",
              "    .dataframe tbody tr th {\n",
              "        vertical-align: top;\n",
              "    }\n",
              "\n",
              "    .dataframe thead th {\n",
              "        text-align: right;\n",
              "    }\n",
              "</style>\n",
              "<table border=\"1\" class=\"dataframe\">\n",
              "  <thead>\n",
              "    <tr style=\"text-align: right;\">\n",
              "      <th></th>\n",
              "      <th>index</th>\n",
              "      <th>Сравнение</th>\n",
              "    </tr>\n",
              "  </thead>\n",
              "  <tbody>\n",
              "    <tr>\n",
              "      <th>0</th>\n",
              "      <td>0.000000e+00</td>\n",
              "      <td>988</td>\n",
              "    </tr>\n",
              "    <tr>\n",
              "      <th>1</th>\n",
              "      <td>1.455192e-11</td>\n",
              "      <td>35</td>\n",
              "    </tr>\n",
              "    <tr>\n",
              "      <th>2</th>\n",
              "      <td>-2.910383e-11</td>\n",
              "      <td>33</td>\n",
              "    </tr>\n",
              "    <tr>\n",
              "      <th>3</th>\n",
              "      <td>-1.455192e-11</td>\n",
              "      <td>24</td>\n",
              "    </tr>\n",
              "    <tr>\n",
              "      <th>4</th>\n",
              "      <td>2.910383e-11</td>\n",
              "      <td>23</td>\n",
              "    </tr>\n",
              "    <tr>\n",
              "      <th>5</th>\n",
              "      <td>3.637979e-12</td>\n",
              "      <td>19</td>\n",
              "    </tr>\n",
              "    <tr>\n",
              "      <th>6</th>\n",
              "      <td>-1.818989e-12</td>\n",
              "      <td>17</td>\n",
              "    </tr>\n",
              "    <tr>\n",
              "      <th>7</th>\n",
              "      <td>9.094947e-13</td>\n",
              "      <td>17</td>\n",
              "    </tr>\n",
              "    <tr>\n",
              "      <th>8</th>\n",
              "      <td>-3.637979e-12</td>\n",
              "      <td>16</td>\n",
              "    </tr>\n",
              "    <tr>\n",
              "      <th>9</th>\n",
              "      <td>-9.094947e-13</td>\n",
              "      <td>15</td>\n",
              "    </tr>\n",
              "    <tr>\n",
              "      <th>10</th>\n",
              "      <td>1.818989e-12</td>\n",
              "      <td>12</td>\n",
              "    </tr>\n",
              "    <tr>\n",
              "      <th>11</th>\n",
              "      <td>-2.328306e-10</td>\n",
              "      <td>12</td>\n",
              "    </tr>\n",
              "    <tr>\n",
              "      <th>12</th>\n",
              "      <td>-1.164153e-10</td>\n",
              "      <td>11</td>\n",
              "    </tr>\n",
              "    <tr>\n",
              "      <th>13</th>\n",
              "      <td>-5.820766e-11</td>\n",
              "      <td>11</td>\n",
              "    </tr>\n",
              "    <tr>\n",
              "      <th>14</th>\n",
              "      <td>2.328306e-10</td>\n",
              "      <td>9</td>\n",
              "    </tr>\n",
              "    <tr>\n",
              "      <th>15</th>\n",
              "      <td>7.275958e-12</td>\n",
              "      <td>9</td>\n",
              "    </tr>\n",
              "    <tr>\n",
              "      <th>16</th>\n",
              "      <td>-7.275958e-12</td>\n",
              "      <td>7</td>\n",
              "    </tr>\n",
              "    <tr>\n",
              "      <th>17</th>\n",
              "      <td>4.547474e-13</td>\n",
              "      <td>7</td>\n",
              "    </tr>\n",
              "    <tr>\n",
              "      <th>18</th>\n",
              "      <td>1.164153e-10</td>\n",
              "      <td>6</td>\n",
              "    </tr>\n",
              "    <tr>\n",
              "      <th>19</th>\n",
              "      <td>5.820766e-11</td>\n",
              "      <td>6</td>\n",
              "    </tr>\n",
              "    <tr>\n",
              "      <th>20</th>\n",
              "      <td>-4.656613e-10</td>\n",
              "      <td>5</td>\n",
              "    </tr>\n",
              "    <tr>\n",
              "      <th>21</th>\n",
              "      <td>4.656613e-10</td>\n",
              "      <td>4</td>\n",
              "    </tr>\n",
              "    <tr>\n",
              "      <th>22</th>\n",
              "      <td>-4.547474e-13</td>\n",
              "      <td>4</td>\n",
              "    </tr>\n",
              "    <tr>\n",
              "      <th>23</th>\n",
              "      <td>2.273737e-13</td>\n",
              "      <td>2</td>\n",
              "    </tr>\n",
              "    <tr>\n",
              "      <th>24</th>\n",
              "      <td>-2.273737e-13</td>\n",
              "      <td>2</td>\n",
              "    </tr>\n",
              "    <tr>\n",
              "      <th>25</th>\n",
              "      <td>-1.862645e-09</td>\n",
              "      <td>1</td>\n",
              "    </tr>\n",
              "    <tr>\n",
              "      <th>26</th>\n",
              "      <td>1.862645e-09</td>\n",
              "      <td>1</td>\n",
              "    </tr>\n",
              "  </tbody>\n",
              "</table>\n",
              "</div>\n",
              "      <button class=\"colab-df-convert\" onclick=\"convertToInteractive('df-086b304f-4552-48d1-ae35-7c08e6e7d944')\"\n",
              "              title=\"Convert this dataframe to an interactive table.\"\n",
              "              style=\"display:none;\">\n",
              "        \n",
              "  <svg xmlns=\"http://www.w3.org/2000/svg\" height=\"24px\"viewBox=\"0 0 24 24\"\n",
              "       width=\"24px\">\n",
              "    <path d=\"M0 0h24v24H0V0z\" fill=\"none\"/>\n",
              "    <path d=\"M18.56 5.44l.94 2.06.94-2.06 2.06-.94-2.06-.94-.94-2.06-.94 2.06-2.06.94zm-11 1L8.5 8.5l.94-2.06 2.06-.94-2.06-.94L8.5 2.5l-.94 2.06-2.06.94zm10 10l.94 2.06.94-2.06 2.06-.94-2.06-.94-.94-2.06-.94 2.06-2.06.94z\"/><path d=\"M17.41 7.96l-1.37-1.37c-.4-.4-.92-.59-1.43-.59-.52 0-1.04.2-1.43.59L10.3 9.45l-7.72 7.72c-.78.78-.78 2.05 0 2.83L4 21.41c.39.39.9.59 1.41.59.51 0 1.02-.2 1.41-.59l7.78-7.78 2.81-2.81c.8-.78.8-2.07 0-2.86zM5.41 20L4 18.59l7.72-7.72 1.47 1.35L5.41 20z\"/>\n",
              "  </svg>\n",
              "      </button>\n",
              "      \n",
              "  <style>\n",
              "    .colab-df-container {\n",
              "      display:flex;\n",
              "      flex-wrap:wrap;\n",
              "      gap: 12px;\n",
              "    }\n",
              "\n",
              "    .colab-df-convert {\n",
              "      background-color: #E8F0FE;\n",
              "      border: none;\n",
              "      border-radius: 50%;\n",
              "      cursor: pointer;\n",
              "      display: none;\n",
              "      fill: #1967D2;\n",
              "      height: 32px;\n",
              "      padding: 0 0 0 0;\n",
              "      width: 32px;\n",
              "    }\n",
              "\n",
              "    .colab-df-convert:hover {\n",
              "      background-color: #E2EBFA;\n",
              "      box-shadow: 0px 1px 2px rgba(60, 64, 67, 0.3), 0px 1px 3px 1px rgba(60, 64, 67, 0.15);\n",
              "      fill: #174EA6;\n",
              "    }\n",
              "\n",
              "    [theme=dark] .colab-df-convert {\n",
              "      background-color: #3B4455;\n",
              "      fill: #D2E3FC;\n",
              "    }\n",
              "\n",
              "    [theme=dark] .colab-df-convert:hover {\n",
              "      background-color: #434B5C;\n",
              "      box-shadow: 0px 1px 3px 1px rgba(0, 0, 0, 0.15);\n",
              "      filter: drop-shadow(0px 1px 2px rgba(0, 0, 0, 0.3));\n",
              "      fill: #FFFFFF;\n",
              "    }\n",
              "  </style>\n",
              "\n",
              "      <script>\n",
              "        const buttonEl =\n",
              "          document.querySelector('#df-086b304f-4552-48d1-ae35-7c08e6e7d944 button.colab-df-convert');\n",
              "        buttonEl.style.display =\n",
              "          google.colab.kernel.accessAllowed ? 'block' : 'none';\n",
              "\n",
              "        async function convertToInteractive(key) {\n",
              "          const element = document.querySelector('#df-086b304f-4552-48d1-ae35-7c08e6e7d944');\n",
              "          const dataTable =\n",
              "            await google.colab.kernel.invokeFunction('convertToInteractive',\n",
              "                                                     [key], {});\n",
              "          if (!dataTable) return;\n",
              "\n",
              "          const docLinkHtml = 'Like what you see? Visit the ' +\n",
              "            '<a target=\"_blank\" href=https://colab.research.google.com/notebooks/data_table.ipynb>data table notebook</a>'\n",
              "            + ' to learn more about interactive tables.';\n",
              "          element.innerHTML = '';\n",
              "          dataTable['output_type'] = 'display_data';\n",
              "          await google.colab.output.renderOutput(dataTable, element);\n",
              "          const docLink = document.createElement('div');\n",
              "          docLink.innerHTML = docLinkHtml;\n",
              "          element.appendChild(docLink);\n",
              "        }\n",
              "      </script>\n",
              "    </div>\n",
              "  </div>\n",
              "  "
            ],
            "text/plain": [
              "           index  Сравнение\n",
              "0   0.000000e+00        988\n",
              "1   1.455192e-11         35\n",
              "2  -2.910383e-11         33\n",
              "3  -1.455192e-11         24\n",
              "4   2.910383e-11         23\n",
              "5   3.637979e-12         19\n",
              "6  -1.818989e-12         17\n",
              "7   9.094947e-13         17\n",
              "8  -3.637979e-12         16\n",
              "9  -9.094947e-13         15\n",
              "10  1.818989e-12         12\n",
              "11 -2.328306e-10         12\n",
              "12 -1.164153e-10         11\n",
              "13 -5.820766e-11         11\n",
              "14  2.328306e-10          9\n",
              "15  7.275958e-12          9\n",
              "16 -7.275958e-12          7\n",
              "17  4.547474e-13          7\n",
              "18  1.164153e-10          6\n",
              "19  5.820766e-11          6\n",
              "20 -4.656613e-10          5\n",
              "21  4.656613e-10          4\n",
              "22 -4.547474e-13          4\n",
              "23  2.273737e-13          2\n",
              "24 -2.273737e-13          2\n",
              "25 -1.862645e-09          1\n",
              "26  1.862645e-09          1"
            ]
          },
          "metadata": {},
          "execution_count": 96
        }
      ]
    },
    {
      "cell_type": "code",
      "source": [
        "lst2 = list(df['Сравнение'].value_counts().reset_index()['Сравнение'])\n",
        "import matplotlib.pyplot as plt\n",
        "%matplotlib inline\n",
        "plt.title('Без округления')\n",
        "plt.pie(lst2)\n",
        "plt.show()"
      ],
      "metadata": {
        "colab": {
          "base_uri": "https://localhost:8080/",
          "height": 264
        },
        "id": "ezimTO6NBTte",
        "outputId": "7cab763d-9ffb-46a2-a808-60c38c694b58"
      },
      "execution_count": null,
      "outputs": [
        {
          "output_type": "display_data",
          "data": {
            "image/png": "[encoded data removed]",
            "text/plain": [
              "<Figure size 432x288 with 1 Axes>"
            ]
          },
          "metadata": {}
        }
      ]
    },
    {
      "cell_type": "code",
      "source": [
        "print(df[df['Сравнение'] != 0]['Сравнение'].count()) # количество строк с погрешностью\n",
        "proc = int(np.around(df[df['Сравнение'] != 0]['Сравнение'].count()*100/df['Сравнение'].count()))\n",
        "print(f'{proc}% данных полуучились с какой-то набегающей погрешность')"
      ],
      "metadata": {
        "colab": {
          "base_uri": "https://localhost:8080/"
        },
        "id": "CjcKrpTRIeCy",
        "outputId": "d03eee3a-8f9c-4b57-8228-4ba719acecd8"
      },
      "execution_count": null,
      "outputs": [
        {
          "output_type": "stream",
          "name": "stdout",
          "text": [
            "308\n",
            "24% данных полуучились с какой-то набегающей погрешность\n"
          ]
        }
      ]
    },
    {
      "cell_type": "code",
      "source": [
        "round(df['Сравнение'],4).value_counts().reset_index() # если округлить до четвертого знака(к примеру), зеачит, если пренебречь какой-то\n",
        "                                                      # погрешностью, то данные будут сходиться, причем все\n"
      ],
      "metadata": {
        "colab": {
          "base_uri": "https://localhost:8080/",
          "height": 81
        },
        "id": "Ca9siNqSPtMn",
        "outputId": "9b7b5570-cca7-4357-e62c-81a7a58204e4"
      },
      "execution_count": null,
      "outputs": [
        {
          "output_type": "execute_result",
          "data": {
            "text/html": [
              "\n",
              "  <div id=\"df-71b3e512-d2cb-4f7a-9722-8c21b82bd630\">\n",
              "    <div class=\"colab-df-container\">\n",
              "      <div>\n",
              "<style scoped>\n",
              "    .dataframe tbody tr th:only-of-type {\n",
              "        vertical-align: middle;\n",
              "    }\n",
              "\n",
              "    .dataframe tbody tr th {\n",
              "        vertical-align: top;\n",
              "    }\n",
              "\n",
              "    .dataframe thead th {\n",
              "        text-align: right;\n",
              "    }\n",
              "</style>\n",
              "<table border=\"1\" class=\"dataframe\">\n",
              "  <thead>\n",
              "    <tr style=\"text-align: right;\">\n",
              "      <th></th>\n",
              "      <th>index</th>\n",
              "      <th>Сравнение</th>\n",
              "    </tr>\n",
              "  </thead>\n",
              "  <tbody>\n",
              "    <tr>\n",
              "      <th>0</th>\n",
              "      <td>-0.0</td>\n",
              "      <td>1296</td>\n",
              "    </tr>\n",
              "  </tbody>\n",
              "</table>\n",
              "</div>\n",
              "      <button class=\"colab-df-convert\" onclick=\"convertToInteractive('df-71b3e512-d2cb-4f7a-9722-8c21b82bd630')\"\n",
              "              title=\"Convert this dataframe to an interactive table.\"\n",
              "              style=\"display:none;\">\n",
              "        \n",
              "  <svg xmlns=\"http://www.w3.org/2000/svg\" height=\"24px\"viewBox=\"0 0 24 24\"\n",
              "       width=\"24px\">\n",
              "    <path d=\"M0 0h24v24H0V0z\" fill=\"none\"/>\n",
              "    <path d=\"M18.56 5.44l.94 2.06.94-2.06 2.06-.94-2.06-.94-.94-2.06-.94 2.06-2.06.94zm-11 1L8.5 8.5l.94-2.06 2.06-.94-2.06-.94L8.5 2.5l-.94 2.06-2.06.94zm10 10l.94 2.06.94-2.06 2.06-.94-2.06-.94-.94-2.06-.94 2.06-2.06.94z\"/><path d=\"M17.41 7.96l-1.37-1.37c-.4-.4-.92-.59-1.43-.59-.52 0-1.04.2-1.43.59L10.3 9.45l-7.72 7.72c-.78.78-.78 2.05 0 2.83L4 21.41c.39.39.9.59 1.41.59.51 0 1.02-.2 1.41-.59l7.78-7.78 2.81-2.81c.8-.78.8-2.07 0-2.86zM5.41 20L4 18.59l7.72-7.72 1.47 1.35L5.41 20z\"/>\n",
              "  </svg>\n",
              "      </button>\n",
              "      \n",
              "  <style>\n",
              "    .colab-df-container {\n",
              "      display:flex;\n",
              "      flex-wrap:wrap;\n",
              "      gap: 12px;\n",
              "    }\n",
              "\n",
              "    .colab-df-convert {\n",
              "      background-color: #E8F0FE;\n",
              "      border: none;\n",
              "      border-radius: 50%;\n",
              "      cursor: pointer;\n",
              "      display: none;\n",
              "      fill: #1967D2;\n",
              "      height: 32px;\n",
              "      padding: 0 0 0 0;\n",
              "      width: 32px;\n",
              "    }\n",
              "\n",
              "    .colab-df-convert:hover {\n",
              "      background-color: #E2EBFA;\n",
              "      box-shadow: 0px 1px 2px rgba(60, 64, 67, 0.3), 0px 1px 3px 1px rgba(60, 64, 67, 0.15);\n",
              "      fill: #174EA6;\n",
              "    }\n",
              "\n",
              "    [theme=dark] .colab-df-convert {\n",
              "      background-color: #3B4455;\n",
              "      fill: #D2E3FC;\n",
              "    }\n",
              "\n",
              "    [theme=dark] .colab-df-convert:hover {\n",
              "      background-color: #434B5C;\n",
              "      box-shadow: 0px 1px 3px 1px rgba(0, 0, 0, 0.15);\n",
              "      filter: drop-shadow(0px 1px 2px rgba(0, 0, 0, 0.3));\n",
              "      fill: #FFFFFF;\n",
              "    }\n",
              "  </style>\n",
              "\n",
              "      <script>\n",
              "        const buttonEl =\n",
              "          document.querySelector('#df-71b3e512-d2cb-4f7a-9722-8c21b82bd630 button.colab-df-convert');\n",
              "        buttonEl.style.display =\n",
              "          google.colab.kernel.accessAllowed ? 'block' : 'none';\n",
              "\n",
              "        async function convertToInteractive(key) {\n",
              "          const element = document.querySelector('#df-71b3e512-d2cb-4f7a-9722-8c21b82bd630');\n",
              "          const dataTable =\n",
              "            await google.colab.kernel.invokeFunction('convertToInteractive',\n",
              "                                                     [key], {});\n",
              "          if (!dataTable) return;\n",
              "\n",
              "          const docLinkHtml = 'Like what you see? Visit the ' +\n",
              "            '<a target=\"_blank\" href=https://colab.research.google.com/notebooks/data_table.ipynb>data table notebook</a>'\n",
              "            + ' to learn more about interactive tables.';\n",
              "          element.innerHTML = '';\n",
              "          dataTable['output_type'] = 'display_data';\n",
              "          await google.colab.output.renderOutput(dataTable, element);\n",
              "          const docLink = document.createElement('div');\n",
              "          docLink.innerHTML = docLinkHtml;\n",
              "          element.appendChild(docLink);\n",
              "        }\n",
              "      </script>\n",
              "    </div>\n",
              "  </div>\n",
              "  "
            ],
            "text/plain": [
              "   index  Сравнение\n",
              "0   -0.0       1296"
            ]
          },
          "metadata": {},
          "execution_count": 99
        }
      ]
    },
    {
      "cell_type": "code",
      "source": [
        "np.allclose(df.small_bags + df.large_bags + df.xlarge_bags, df.total_bags)"
      ],
      "metadata": {
        "colab": {
          "base_uri": "https://localhost:8080/"
        },
        "id": "yBrtSkwPesj6",
        "outputId": "82605b19-6ebb-4a99-bc3f-9dc48fa007bd"
      },
      "execution_count": null,
      "outputs": [
        {
          "output_type": "execute_result",
          "data": {
            "text/plain": [
              "True"
            ]
          },
          "metadata": {},
          "execution_count": 100
        }
      ]
    },
    {
      "cell_type": "code",
      "source": [
        "del df['Сравнение']\n",
        "#df.head(3)"
      ],
      "metadata": {
        "id": "gtnKnvPR4x-D"
      },
      "execution_count": null,
      "outputs": []
    },
    {
      "cell_type": "markdown",
      "source": [
        "**Задание 2** Как можно разметить признаки region и type (перевести текстовые обозначения в числовые коды)? Создайте новые признаки с разметкой с типом данных int.\n"
      ],
      "metadata": {
        "id": "le0BnuRTlt0b"
      }
    },
    {
      "cell_type": "markdown",
      "source": [
        "столбец  ***type***"
      ],
      "metadata": {
        "id": "g38jKo3aBfDT"
      }
    },
    {
      "cell_type": "code",
      "source": [
        "print(df.type.unique())\n",
        "print(df.type.nunique())\n",
        "df__=df.copy()\n",
        "type_categories = pd.Categorical(df__['type']) # 1\n",
        "type_categories.codes  # 2\n",
        "type_bool = (type_categories == 'conventional') # 3\n",
        "# с map\n",
        "classes_map = {'conventional':1,'organic':0}\n",
        "df__['type_map'] = df['type'].map(classes_map).astype(int)"
      ],
      "metadata": {
        "colab": {
          "base_uri": "https://localhost:8080/"
        },
        "id": "-IAdiqzRmdQb",
        "outputId": "46fedecf-dc6b-4a50-b50e-807fa4a82ccf"
      },
      "execution_count": null,
      "outputs": [
        {
          "output_type": "stream",
          "name": "stdout",
          "text": [
            "['conventional' 'organic']\n",
            "2\n"
          ]
        }
      ]
    },
    {
      "cell_type": "code",
      "source": [
        "df__['type_bool'] = type_bool.astype(int) # 4\n",
        "df__.sample(6)"
      ],
      "metadata": {
        "colab": {
          "base_uri": "https://localhost:8080/",
          "height": 237
        },
        "id": "j4XDMgAH_pRZ",
        "outputId": "5222a682-3703-4618-b6fa-a38fc86664c0"
      },
      "execution_count": null,
      "outputs": [
        {
          "output_type": "execute_result",
          "data": {
            "text/html": [
              "\n",
              "  <div id=\"df-e28cdd1b-2323-49e5-bb7a-86545347461d\">\n",
              "    <div class=\"colab-df-container\">\n",
              "      <div>\n",
              "<style scoped>\n",
              "    .dataframe tbody tr th:only-of-type {\n",
              "        vertical-align: middle;\n",
              "    }\n",
              "\n",
              "    .dataframe tbody tr th {\n",
              "        vertical-align: top;\n",
              "    }\n",
              "\n",
              "    .dataframe thead th {\n",
              "        text-align: right;\n",
              "    }\n",
              "</style>\n",
              "<table border=\"1\" class=\"dataframe\">\n",
              "  <thead>\n",
              "    <tr style=\"text-align: right;\">\n",
              "      <th></th>\n",
              "      <th>date</th>\n",
              "      <th>region</th>\n",
              "      <th>type</th>\n",
              "      <th>averageprice</th>\n",
              "      <th>total_bags</th>\n",
              "      <th>small_bags</th>\n",
              "      <th>large_bags</th>\n",
              "      <th>xlarge_bags</th>\n",
              "      <th>type_map</th>\n",
              "      <th>type_bool</th>\n",
              "    </tr>\n",
              "  </thead>\n",
              "  <tbody>\n",
              "    <tr>\n",
              "      <th>82</th>\n",
              "      <td>2018-01-14</td>\n",
              "      <td>California</td>\n",
              "      <td>conventional</td>\n",
              "      <td>1.27</td>\n",
              "      <td>1320848.92</td>\n",
              "      <td>1226559.09</td>\n",
              "      <td>25390.97</td>\n",
              "      <td>68898.86</td>\n",
              "      <td>1</td>\n",
              "      <td>1</td>\n",
              "    </tr>\n",
              "    <tr>\n",
              "      <th>700</th>\n",
              "      <td>2018-02-25</td>\n",
              "      <td>Boston</td>\n",
              "      <td>organic</td>\n",
              "      <td>1.79</td>\n",
              "      <td>29141.59</td>\n",
              "      <td>25069.34</td>\n",
              "      <td>4072.25</td>\n",
              "      <td>0.00</td>\n",
              "      <td>0</td>\n",
              "      <td>0</td>\n",
              "    </tr>\n",
              "    <tr>\n",
              "      <th>469</th>\n",
              "      <td>2018-03-18</td>\n",
              "      <td>Roanoke</td>\n",
              "      <td>conventional</td>\n",
              "      <td>0.97</td>\n",
              "      <td>109600.18</td>\n",
              "      <td>86740.75</td>\n",
              "      <td>22179.43</td>\n",
              "      <td>680.00</td>\n",
              "      <td>1</td>\n",
              "      <td>1</td>\n",
              "    </tr>\n",
              "    <tr>\n",
              "      <th>1163</th>\n",
              "      <td>2018-01-07</td>\n",
              "      <td>SanFrancisco</td>\n",
              "      <td>organic</td>\n",
              "      <td>2.30</td>\n",
              "      <td>1943.34</td>\n",
              "      <td>1943.34</td>\n",
              "      <td>0.00</td>\n",
              "      <td>0.00</td>\n",
              "      <td>0</td>\n",
              "      <td>0</td>\n",
              "    </tr>\n",
              "    <tr>\n",
              "      <th>1143</th>\n",
              "      <td>2018-03-04</td>\n",
              "      <td>SanDiego</td>\n",
              "      <td>organic</td>\n",
              "      <td>1.65</td>\n",
              "      <td>12938.12</td>\n",
              "      <td>12934.79</td>\n",
              "      <td>3.33</td>\n",
              "      <td>0.00</td>\n",
              "      <td>0</td>\n",
              "      <td>0</td>\n",
              "    </tr>\n",
              "    <tr>\n",
              "      <th>695</th>\n",
              "      <td>2018-01-07</td>\n",
              "      <td>Boise</td>\n",
              "      <td>organic</td>\n",
              "      <td>1.77</td>\n",
              "      <td>1562.22</td>\n",
              "      <td>552.06</td>\n",
              "      <td>1010.16</td>\n",
              "      <td>0.00</td>\n",
              "      <td>0</td>\n",
              "      <td>0</td>\n",
              "    </tr>\n",
              "  </tbody>\n",
              "</table>\n",
              "</div>\n",
              "      <button class=\"colab-df-convert\" onclick=\"convertToInteractive('df-e28cdd1b-2323-49e5-bb7a-86545347461d')\"\n",
              "              title=\"Convert this dataframe to an interactive table.\"\n",
              "              style=\"display:none;\">\n",
              "        \n",
              "  <svg xmlns=\"http://www.w3.org/2000/svg\" height=\"24px\"viewBox=\"0 0 24 24\"\n",
              "       width=\"24px\">\n",
              "    <path d=\"M0 0h24v24H0V0z\" fill=\"none\"/>\n",
              "    <path d=\"M18.56 5.44l.94 2.06.94-2.06 2.06-.94-2.06-.94-.94-2.06-.94 2.06-2.06.94zm-11 1L8.5 8.5l.94-2.06 2.06-.94-2.06-.94L8.5 2.5l-.94 2.06-2.06.94zm10 10l.94 2.06.94-2.06 2.06-.94-2.06-.94-.94-2.06-.94 2.06-2.06.94z\"/><path d=\"M17.41 7.96l-1.37-1.37c-.4-.4-.92-.59-1.43-.59-.52 0-1.04.2-1.43.59L10.3 9.45l-7.72 7.72c-.78.78-.78 2.05 0 2.83L4 21.41c.39.39.9.59 1.41.59.51 0 1.02-.2 1.41-.59l7.78-7.78 2.81-2.81c.8-.78.8-2.07 0-2.86zM5.41 20L4 18.59l7.72-7.72 1.47 1.35L5.41 20z\"/>\n",
              "  </svg>\n",
              "      </button>\n",
              "      \n",
              "  <style>\n",
              "    .colab-df-container {\n",
              "      display:flex;\n",
              "      flex-wrap:wrap;\n",
              "      gap: 12px;\n",
              "    }\n",
              "\n",
              "    .colab-df-convert {\n",
              "      background-color: #E8F0FE;\n",
              "      border: none;\n",
              "      border-radius: 50%;\n",
              "      cursor: pointer;\n",
              "      display: none;\n",
              "      fill: #1967D2;\n",
              "      height: 32px;\n",
              "      padding: 0 0 0 0;\n",
              "      width: 32px;\n",
              "    }\n",
              "\n",
              "    .colab-df-convert:hover {\n",
              "      background-color: #E2EBFA;\n",
              "      box-shadow: 0px 1px 2px rgba(60, 64, 67, 0.3), 0px 1px 3px 1px rgba(60, 64, 67, 0.15);\n",
              "      fill: #174EA6;\n",
              "    }\n",
              "\n",
              "    [theme=dark] .colab-df-convert {\n",
              "      background-color: #3B4455;\n",
              "      fill: #D2E3FC;\n",
              "    }\n",
              "\n",
              "    [theme=dark] .colab-df-convert:hover {\n",
              "      background-color: #434B5C;\n",
              "      box-shadow: 0px 1px 3px 1px rgba(0, 0, 0, 0.15);\n",
              "      filter: drop-shadow(0px 1px 2px rgba(0, 0, 0, 0.3));\n",
              "      fill: #FFFFFF;\n",
              "    }\n",
              "  </style>\n",
              "\n",
              "      <script>\n",
              "        const buttonEl =\n",
              "          document.querySelector('#df-e28cdd1b-2323-49e5-bb7a-86545347461d button.colab-df-convert');\n",
              "        buttonEl.style.display =\n",
              "          google.colab.kernel.accessAllowed ? 'block' : 'none';\n",
              "\n",
              "        async function convertToInteractive(key) {\n",
              "          const element = document.querySelector('#df-e28cdd1b-2323-49e5-bb7a-86545347461d');\n",
              "          const dataTable =\n",
              "            await google.colab.kernel.invokeFunction('convertToInteractive',\n",
              "                                                     [key], {});\n",
              "          if (!dataTable) return;\n",
              "\n",
              "          const docLinkHtml = 'Like what you see? Visit the ' +\n",
              "            '<a target=\"_blank\" href=https://colab.research.google.com/notebooks/data_table.ipynb>data table notebook</a>'\n",
              "            + ' to learn more about interactive tables.';\n",
              "          element.innerHTML = '';\n",
              "          dataTable['output_type'] = 'display_data';\n",
              "          await google.colab.output.renderOutput(dataTable, element);\n",
              "          const docLink = document.createElement('div');\n",
              "          docLink.innerHTML = docLinkHtml;\n",
              "          element.appendChild(docLink);\n",
              "        }\n",
              "      </script>\n",
              "    </div>\n",
              "  </div>\n",
              "  "
            ],
            "text/plain": [
              "            date        region          type  ...  xlarge_bags  type_map  type_bool\n",
              "82    2018-01-14    California  conventional  ...     68898.86         1          1\n",
              "700   2018-02-25        Boston       organic  ...         0.00         0          0\n",
              "469   2018-03-18       Roanoke  conventional  ...       680.00         1          1\n",
              "1163  2018-01-07  SanFrancisco       organic  ...         0.00         0          0\n",
              "1143  2018-03-04      SanDiego       organic  ...         0.00         0          0\n",
              "695   2018-01-07         Boise       organic  ...         0.00         0          0\n",
              "\n",
              "[6 rows x 10 columns]"
            ]
          },
          "metadata": {},
          "execution_count": 103
        }
      ]
    },
    {
      "cell_type": "markdown",
      "source": [
        "столбец  ***region***"
      ],
      "metadata": {
        "id": "h-qob4KCBvAq"
      }
    },
    {
      "cell_type": "code",
      "source": [
        "df_ = df.copy()\n",
        "df_ = pd.get_dummies(df_, columns=['region']) # region похожи на качественные номинальные данные, но получается громоздко, попробую закодировать лучше как качественные порядковые (ниже)\n",
        "df_.sample(2)"
      ],
      "metadata": {
        "colab": {
          "base_uri": "https://localhost:8080/",
          "height": 210
        },
        "id": "B9Z5OdjbDWTp",
        "outputId": "8bd1acd3-83c8-40a4-bceb-078e57c308a6"
      },
      "execution_count": null,
      "outputs": [
        {
          "output_type": "execute_result",
          "data": {
            "text/html": [
              "\n",
              "  <div id=\"df-9e8ddd68-66a6-41a9-9bf1-479e17771a3c\">\n",
              "    <div class=\"colab-df-container\">\n",
              "      <div>\n",
              "<style scoped>\n",
              "    .dataframe tbody tr th:only-of-type {\n",
              "        vertical-align: middle;\n",
              "    }\n",
              "\n",
              "    .dataframe tbody tr th {\n",
              "        vertical-align: top;\n",
              "    }\n",
              "\n",
              "    .dataframe thead th {\n",
              "        text-align: right;\n",
              "    }\n",
              "</style>\n",
              "<table border=\"1\" class=\"dataframe\">\n",
              "  <thead>\n",
              "    <tr style=\"text-align: right;\">\n",
              "      <th></th>\n",
              "      <th>date</th>\n",
              "      <th>type</th>\n",
              "      <th>averageprice</th>\n",
              "      <th>total_bags</th>\n",
              "      <th>small_bags</th>\n",
              "      <th>large_bags</th>\n",
              "      <th>xlarge_bags</th>\n",
              "      <th>region_Albany</th>\n",
              "      <th>region_Atlanta</th>\n",
              "      <th>region_BaltimoreWashington</th>\n",
              "      <th>region_Boise</th>\n",
              "      <th>region_Boston</th>\n",
              "      <th>region_BuffaloRochester</th>\n",
              "      <th>region_California</th>\n",
              "      <th>region_Charlotte</th>\n",
              "      <th>region_Chicago</th>\n",
              "      <th>region_CincinnatiDayton</th>\n",
              "      <th>region_Columbus</th>\n",
              "      <th>region_DallasFtWorth</th>\n",
              "      <th>region_Denver</th>\n",
              "      <th>region_Detroit</th>\n",
              "      <th>region_GrandRapids</th>\n",
              "      <th>region_GreatLakes</th>\n",
              "      <th>region_HarrisburgScranton</th>\n",
              "      <th>region_HartfordSpringfield</th>\n",
              "      <th>region_Houston</th>\n",
              "      <th>region_Indianapolis</th>\n",
              "      <th>region_Jacksonville</th>\n",
              "      <th>region_LasVegas</th>\n",
              "      <th>region_LosAngeles</th>\n",
              "      <th>region_Louisville</th>\n",
              "      <th>region_MiamiFtLauderdale</th>\n",
              "      <th>region_Midsouth</th>\n",
              "      <th>region_Nashville</th>\n",
              "      <th>region_NewOrleansMobile</th>\n",
              "      <th>region_NewYork</th>\n",
              "      <th>region_Northeast</th>\n",
              "      <th>region_NorthernNewEngland</th>\n",
              "      <th>region_Orlando</th>\n",
              "      <th>region_Philadelphia</th>\n",
              "      <th>region_PhoenixTucson</th>\n",
              "      <th>region_Pittsburgh</th>\n",
              "      <th>region_Plains</th>\n",
              "      <th>region_Portland</th>\n",
              "      <th>region_RaleighGreensboro</th>\n",
              "      <th>region_RichmondNorfolk</th>\n",
              "      <th>region_Roanoke</th>\n",
              "      <th>region_Sacramento</th>\n",
              "      <th>region_SanDiego</th>\n",
              "      <th>region_SanFrancisco</th>\n",
              "      <th>region_Seattle</th>\n",
              "      <th>region_SouthCarolina</th>\n",
              "      <th>region_SouthCentral</th>\n",
              "      <th>region_Southeast</th>\n",
              "      <th>region_Spokane</th>\n",
              "      <th>region_StLouis</th>\n",
              "      <th>region_Syracuse</th>\n",
              "      <th>region_Tampa</th>\n",
              "      <th>region_TotalUS</th>\n",
              "      <th>region_West</th>\n",
              "      <th>region_WestTexNewMexico</th>\n",
              "    </tr>\n",
              "  </thead>\n",
              "  <tbody>\n",
              "    <tr>\n",
              "      <th>42</th>\n",
              "      <td>2018-02-11</td>\n",
              "      <td>conventional</td>\n",
              "      <td>1.14</td>\n",
              "      <td>31422.41</td>\n",
              "      <td>19862.62</td>\n",
              "      <td>11540.14</td>\n",
              "      <td>19.65</td>\n",
              "      <td>0</td>\n",
              "      <td>0</td>\n",
              "      <td>0</td>\n",
              "      <td>1</td>\n",
              "      <td>0</td>\n",
              "      <td>0</td>\n",
              "      <td>0</td>\n",
              "      <td>0</td>\n",
              "      <td>0</td>\n",
              "      <td>0</td>\n",
              "      <td>0</td>\n",
              "      <td>0</td>\n",
              "      <td>0</td>\n",
              "      <td>0</td>\n",
              "      <td>0</td>\n",
              "      <td>0</td>\n",
              "      <td>0</td>\n",
              "      <td>0</td>\n",
              "      <td>0</td>\n",
              "      <td>0</td>\n",
              "      <td>0</td>\n",
              "      <td>0</td>\n",
              "      <td>0</td>\n",
              "      <td>0</td>\n",
              "      <td>0</td>\n",
              "      <td>0</td>\n",
              "      <td>0</td>\n",
              "      <td>0</td>\n",
              "      <td>0</td>\n",
              "      <td>0</td>\n",
              "      <td>0</td>\n",
              "      <td>0</td>\n",
              "      <td>0</td>\n",
              "      <td>0</td>\n",
              "      <td>0</td>\n",
              "      <td>0</td>\n",
              "      <td>0</td>\n",
              "      <td>0</td>\n",
              "      <td>0</td>\n",
              "      <td>0</td>\n",
              "      <td>0</td>\n",
              "      <td>0</td>\n",
              "      <td>0</td>\n",
              "      <td>0</td>\n",
              "      <td>0</td>\n",
              "      <td>0</td>\n",
              "      <td>0</td>\n",
              "      <td>0</td>\n",
              "      <td>0</td>\n",
              "      <td>0</td>\n",
              "      <td>0</td>\n",
              "      <td>0</td>\n",
              "      <td>0</td>\n",
              "      <td>0</td>\n",
              "    </tr>\n",
              "    <tr>\n",
              "      <th>408</th>\n",
              "      <td>2018-03-25</td>\n",
              "      <td>conventional</td>\n",
              "      <td>1.28</td>\n",
              "      <td>73360.50</td>\n",
              "      <td>39142.16</td>\n",
              "      <td>34191.67</td>\n",
              "      <td>26.67</td>\n",
              "      <td>0</td>\n",
              "      <td>0</td>\n",
              "      <td>0</td>\n",
              "      <td>0</td>\n",
              "      <td>0</td>\n",
              "      <td>0</td>\n",
              "      <td>0</td>\n",
              "      <td>0</td>\n",
              "      <td>0</td>\n",
              "      <td>0</td>\n",
              "      <td>0</td>\n",
              "      <td>0</td>\n",
              "      <td>0</td>\n",
              "      <td>0</td>\n",
              "      <td>0</td>\n",
              "      <td>0</td>\n",
              "      <td>0</td>\n",
              "      <td>0</td>\n",
              "      <td>0</td>\n",
              "      <td>0</td>\n",
              "      <td>0</td>\n",
              "      <td>0</td>\n",
              "      <td>0</td>\n",
              "      <td>0</td>\n",
              "      <td>0</td>\n",
              "      <td>0</td>\n",
              "      <td>0</td>\n",
              "      <td>0</td>\n",
              "      <td>0</td>\n",
              "      <td>0</td>\n",
              "      <td>0</td>\n",
              "      <td>0</td>\n",
              "      <td>0</td>\n",
              "      <td>0</td>\n",
              "      <td>1</td>\n",
              "      <td>0</td>\n",
              "      <td>0</td>\n",
              "      <td>0</td>\n",
              "      <td>0</td>\n",
              "      <td>0</td>\n",
              "      <td>0</td>\n",
              "      <td>0</td>\n",
              "      <td>0</td>\n",
              "      <td>0</td>\n",
              "      <td>0</td>\n",
              "      <td>0</td>\n",
              "      <td>0</td>\n",
              "      <td>0</td>\n",
              "      <td>0</td>\n",
              "      <td>0</td>\n",
              "      <td>0</td>\n",
              "      <td>0</td>\n",
              "      <td>0</td>\n",
              "      <td>0</td>\n",
              "    </tr>\n",
              "  </tbody>\n",
              "</table>\n",
              "</div>\n",
              "      <button class=\"colab-df-convert\" onclick=\"convertToInteractive('df-9e8ddd68-66a6-41a9-9bf1-479e17771a3c')\"\n",
              "              title=\"Convert this dataframe to an interactive table.\"\n",
              "              style=\"display:none;\">\n",
              "        \n",
              "  <svg xmlns=\"http://www.w3.org/2000/svg\" height=\"24px\"viewBox=\"0 0 24 24\"\n",
              "       width=\"24px\">\n",
              "    <path d=\"M0 0h24v24H0V0z\" fill=\"none\"/>\n",
              "    <path d=\"M18.56 5.44l.94 2.06.94-2.06 2.06-.94-2.06-.94-.94-2.06-.94 2.06-2.06.94zm-11 1L8.5 8.5l.94-2.06 2.06-.94-2.06-.94L8.5 2.5l-.94 2.06-2.06.94zm10 10l.94 2.06.94-2.06 2.06-.94-2.06-.94-.94-2.06-.94 2.06-2.06.94z\"/><path d=\"M17.41 7.96l-1.37-1.37c-.4-.4-.92-.59-1.43-.59-.52 0-1.04.2-1.43.59L10.3 9.45l-7.72 7.72c-.78.78-.78 2.05 0 2.83L4 21.41c.39.39.9.59 1.41.59.51 0 1.02-.2 1.41-.59l7.78-7.78 2.81-2.81c.8-.78.8-2.07 0-2.86zM5.41 20L4 18.59l7.72-7.72 1.47 1.35L5.41 20z\"/>\n",
              "  </svg>\n",
              "      </button>\n",
              "      \n",
              "  <style>\n",
              "    .colab-df-container {\n",
              "      display:flex;\n",
              "      flex-wrap:wrap;\n",
              "      gap: 12px;\n",
              "    }\n",
              "\n",
              "    .colab-df-convert {\n",
              "      background-color: #E8F0FE;\n",
              "      border: none;\n",
              "      border-radius: 50%;\n",
              "      cursor: pointer;\n",
              "      display: none;\n",
              "      fill: #1967D2;\n",
              "      height: 32px;\n",
              "      padding: 0 0 0 0;\n",
              "      width: 32px;\n",
              "    }\n",
              "\n",
              "    .colab-df-convert:hover {\n",
              "      background-color: #E2EBFA;\n",
              "      box-shadow: 0px 1px 2px rgba(60, 64, 67, 0.3), 0px 1px 3px 1px rgba(60, 64, 67, 0.15);\n",
              "      fill: #174EA6;\n",
              "    }\n",
              "\n",
              "    [theme=dark] .colab-df-convert {\n",
              "      background-color: #3B4455;\n",
              "      fill: #D2E3FC;\n",
              "    }\n",
              "\n",
              "    [theme=dark] .colab-df-convert:hover {\n",
              "      background-color: #434B5C;\n",
              "      box-shadow: 0px 1px 3px 1px rgba(0, 0, 0, 0.15);\n",
              "      filter: drop-shadow(0px 1px 2px rgba(0, 0, 0, 0.3));\n",
              "      fill: #FFFFFF;\n",
              "    }\n",
              "  </style>\n",
              "\n",
              "      <script>\n",
              "        const buttonEl =\n",
              "          document.querySelector('#df-9e8ddd68-66a6-41a9-9bf1-479e17771a3c button.colab-df-convert');\n",
              "        buttonEl.style.display =\n",
              "          google.colab.kernel.accessAllowed ? 'block' : 'none';\n",
              "\n",
              "        async function convertToInteractive(key) {\n",
              "          const element = document.querySelector('#df-9e8ddd68-66a6-41a9-9bf1-479e17771a3c');\n",
              "          const dataTable =\n",
              "            await google.colab.kernel.invokeFunction('convertToInteractive',\n",
              "                                                     [key], {});\n",
              "          if (!dataTable) return;\n",
              "\n",
              "          const docLinkHtml = 'Like what you see? Visit the ' +\n",
              "            '<a target=\"_blank\" href=https://colab.research.google.com/notebooks/data_table.ipynb>data table notebook</a>'\n",
              "            + ' to learn more about interactive tables.';\n",
              "          element.innerHTML = '';\n",
              "          dataTable['output_type'] = 'display_data';\n",
              "          await google.colab.output.renderOutput(dataTable, element);\n",
              "          const docLink = document.createElement('div');\n",
              "          docLink.innerHTML = docLinkHtml;\n",
              "          element.appendChild(docLink);\n",
              "        }\n",
              "      </script>\n",
              "    </div>\n",
              "  </div>\n",
              "  "
            ],
            "text/plain": [
              "           date          type  ...  region_West  region_WestTexNewMexico\n",
              "42   2018-02-11  conventional  ...            0                        0\n",
              "408  2018-03-25  conventional  ...            0                        0\n",
              "\n",
              "[2 rows x 61 columns]"
            ]
          },
          "metadata": {},
          "execution_count": 104
        }
      ]
    },
    {
      "cell_type": "code",
      "source": [
        "import numpy as np\n",
        "df_2 = df.copy() # 1\n",
        "print(df_2.region.nunique(),df_2.region.unique())\n",
        "i = pd.Series(np.arange(1,55),df_2.region.unique()) # 2\n",
        "df_2['region_copy'] = df_2['region'].map(i) # 3\n",
        "df_2.sample(frac=0.02)"
      ],
      "metadata": {
        "colab": {
          "base_uri": "https://localhost:8080/",
          "height": 1000
        },
        "id": "EbJmM1DuFTGJ",
        "outputId": "dfe4ebce-2ba8-46b3-b82f-40e9bf35abdb"
      },
      "execution_count": null,
      "outputs": [
        {
          "output_type": "stream",
          "name": "stdout",
          "text": [
            "54 ['Albany' 'Atlanta' 'BaltimoreWashington' 'Boise' 'Boston'\n",
            " 'BuffaloRochester' 'California' 'Charlotte' 'Chicago' 'CincinnatiDayton'\n",
            " 'Columbus' 'DallasFtWorth' 'Denver' 'Detroit' 'GrandRapids' 'GreatLakes'\n",
            " 'HarrisburgScranton' 'HartfordSpringfield' 'Houston' 'Indianapolis'\n",
            " 'Jacksonville' 'LasVegas' 'LosAngeles' 'Louisville' 'MiamiFtLauderdale'\n",
            " 'Midsouth' 'Nashville' 'NewOrleansMobile' 'NewYork' 'Northeast'\n",
            " 'NorthernNewEngland' 'Orlando' 'Philadelphia' 'PhoenixTucson'\n",
            " 'Pittsburgh' 'Plains' 'Portland' 'RaleighGreensboro' 'RichmondNorfolk'\n",
            " 'Roanoke' 'Sacramento' 'SanDiego' 'SanFrancisco' 'Seattle'\n",
            " 'SouthCarolina' 'SouthCentral' 'Southeast' 'Spokane' 'StLouis' 'Syracuse'\n",
            " 'Tampa' 'TotalUS' 'West' 'WestTexNewMexico']\n"
          ]
        },
        {
          "output_type": "execute_result",
          "data": {
            "text/html": [
              "\n",
              "  <div id=\"df-bc63fd92-8cc9-48bd-83be-39f7a6b24fbc\">\n",
              "    <div class=\"colab-df-container\">\n",
              "      <div>\n",
              "<style scoped>\n",
              "    .dataframe tbody tr th:only-of-type {\n",
              "        vertical-align: middle;\n",
              "    }\n",
              "\n",
              "    .dataframe tbody tr th {\n",
              "        vertical-align: top;\n",
              "    }\n",
              "\n",
              "    .dataframe thead th {\n",
              "        text-align: right;\n",
              "    }\n",
              "</style>\n",
              "<table border=\"1\" class=\"dataframe\">\n",
              "  <thead>\n",
              "    <tr style=\"text-align: right;\">\n",
              "      <th></th>\n",
              "      <th>date</th>\n",
              "      <th>region</th>\n",
              "      <th>type</th>\n",
              "      <th>averageprice</th>\n",
              "      <th>total_bags</th>\n",
              "      <th>small_bags</th>\n",
              "      <th>large_bags</th>\n",
              "      <th>xlarge_bags</th>\n",
              "      <th>region_copy</th>\n",
              "    </tr>\n",
              "  </thead>\n",
              "  <tbody>\n",
              "    <tr>\n",
              "      <th>9</th>\n",
              "      <td>2018-01-21</td>\n",
              "      <td>Albany</td>\n",
              "      <td>conventional</td>\n",
              "      <td>1.69</td>\n",
              "      <td>15453.32</td>\n",
              "      <td>10023.79</td>\n",
              "      <td>5429.53</td>\n",
              "      <td>0.00</td>\n",
              "      <td>1</td>\n",
              "    </tr>\n",
              "    <tr>\n",
              "      <th>1123</th>\n",
              "      <td>2018-02-04</td>\n",
              "      <td>Roanoke</td>\n",
              "      <td>organic</td>\n",
              "      <td>1.53</td>\n",
              "      <td>6019.62</td>\n",
              "      <td>5345.21</td>\n",
              "      <td>674.41</td>\n",
              "      <td>0.00</td>\n",
              "      <td>40</td>\n",
              "    </tr>\n",
              "    <tr>\n",
              "      <th>248</th>\n",
              "      <td>2018-01-28</td>\n",
              "      <td>Jacksonville</td>\n",
              "      <td>conventional</td>\n",
              "      <td>1.33</td>\n",
              "      <td>73860.30</td>\n",
              "      <td>40095.88</td>\n",
              "      <td>33517.75</td>\n",
              "      <td>246.67</td>\n",
              "      <td>21</td>\n",
              "    </tr>\n",
              "    <tr>\n",
              "      <th>383</th>\n",
              "      <td>2018-01-07</td>\n",
              "      <td>Orlando</td>\n",
              "      <td>conventional</td>\n",
              "      <td>1.19</td>\n",
              "      <td>106570.54</td>\n",
              "      <td>65277.02</td>\n",
              "      <td>41293.52</td>\n",
              "      <td>0.00</td>\n",
              "      <td>32</td>\n",
              "    </tr>\n",
              "    <tr>\n",
              "      <th>137</th>\n",
              "      <td>2018-02-18</td>\n",
              "      <td>DallasFtWorth</td>\n",
              "      <td>conventional</td>\n",
              "      <td>0.77</td>\n",
              "      <td>385700.18</td>\n",
              "      <td>268220.80</td>\n",
              "      <td>102051.19</td>\n",
              "      <td>15428.19</td>\n",
              "      <td>12</td>\n",
              "    </tr>\n",
              "    <tr>\n",
              "      <th>908</th>\n",
              "      <td>2018-01-28</td>\n",
              "      <td>LasVegas</td>\n",
              "      <td>organic</td>\n",
              "      <td>1.78</td>\n",
              "      <td>5556.17</td>\n",
              "      <td>5538.46</td>\n",
              "      <td>17.71</td>\n",
              "      <td>0.00</td>\n",
              "      <td>22</td>\n",
              "    </tr>\n",
              "    <tr>\n",
              "      <th>605</th>\n",
              "      <td>2018-02-18</td>\n",
              "      <td>Tampa</td>\n",
              "      <td>conventional</td>\n",
              "      <td>1.33</td>\n",
              "      <td>132156.48</td>\n",
              "      <td>82223.49</td>\n",
              "      <td>49809.66</td>\n",
              "      <td>123.33</td>\n",
              "      <td>51</td>\n",
              "    </tr>\n",
              "    <tr>\n",
              "      <th>1048</th>\n",
              "      <td>2018-02-25</td>\n",
              "      <td>PhoenixTucson</td>\n",
              "      <td>organic</td>\n",
              "      <td>1.60</td>\n",
              "      <td>11046.50</td>\n",
              "      <td>11031.95</td>\n",
              "      <td>14.55</td>\n",
              "      <td>0.00</td>\n",
              "      <td>34</td>\n",
              "    </tr>\n",
              "    <tr>\n",
              "      <th>1150</th>\n",
              "      <td>2018-01-14</td>\n",
              "      <td>SanDiego</td>\n",
              "      <td>organic</td>\n",
              "      <td>1.81</td>\n",
              "      <td>4145.52</td>\n",
              "      <td>4145.52</td>\n",
              "      <td>0.00</td>\n",
              "      <td>0.00</td>\n",
              "      <td>42</td>\n",
              "    </tr>\n",
              "    <tr>\n",
              "      <th>195</th>\n",
              "      <td>2018-03-04</td>\n",
              "      <td>HarrisburgScranton</td>\n",
              "      <td>conventional</td>\n",
              "      <td>1.21</td>\n",
              "      <td>93104.77</td>\n",
              "      <td>82676.57</td>\n",
              "      <td>8658.20</td>\n",
              "      <td>1770.00</td>\n",
              "      <td>17</td>\n",
              "    </tr>\n",
              "    <tr>\n",
              "      <th>367</th>\n",
              "      <td>2018-02-04</td>\n",
              "      <td>NorthernNewEngland</td>\n",
              "      <td>conventional</td>\n",
              "      <td>1.06</td>\n",
              "      <td>68242.80</td>\n",
              "      <td>34218.15</td>\n",
              "      <td>33787.99</td>\n",
              "      <td>236.66</td>\n",
              "      <td>31</td>\n",
              "    </tr>\n",
              "    <tr>\n",
              "      <th>629</th>\n",
              "      <td>2018-02-18</td>\n",
              "      <td>West</td>\n",
              "      <td>conventional</td>\n",
              "      <td>0.98</td>\n",
              "      <td>2518538.16</td>\n",
              "      <td>1311830.11</td>\n",
              "      <td>1187897.07</td>\n",
              "      <td>18810.98</td>\n",
              "      <td>53</td>\n",
              "    </tr>\n",
              "    <tr>\n",
              "      <th>642</th>\n",
              "      <td>2018-02-11</td>\n",
              "      <td>WestTexNewMexico</td>\n",
              "      <td>conventional</td>\n",
              "      <td>0.75</td>\n",
              "      <td>330820.27</td>\n",
              "      <td>113338.76</td>\n",
              "      <td>215753.74</td>\n",
              "      <td>1727.77</td>\n",
              "      <td>54</td>\n",
              "    </tr>\n",
              "    <tr>\n",
              "      <th>20</th>\n",
              "      <td>2018-01-28</td>\n",
              "      <td>Atlanta</td>\n",
              "      <td>conventional</td>\n",
              "      <td>1.08</td>\n",
              "      <td>253098.64</td>\n",
              "      <td>165156.60</td>\n",
              "      <td>83774.26</td>\n",
              "      <td>4167.78</td>\n",
              "      <td>2</td>\n",
              "    </tr>\n",
              "    <tr>\n",
              "      <th>176</th>\n",
              "      <td>2018-01-28</td>\n",
              "      <td>GrandRapids</td>\n",
              "      <td>conventional</td>\n",
              "      <td>1.55</td>\n",
              "      <td>42820.78</td>\n",
              "      <td>31880.77</td>\n",
              "      <td>1661.64</td>\n",
              "      <td>9278.37</td>\n",
              "      <td>15</td>\n",
              "    </tr>\n",
              "    <tr>\n",
              "      <th>492</th>\n",
              "      <td>2018-03-25</td>\n",
              "      <td>SanDiego</td>\n",
              "      <td>conventional</td>\n",
              "      <td>1.10</td>\n",
              "      <td>177795.10</td>\n",
              "      <td>168263.27</td>\n",
              "      <td>7442.94</td>\n",
              "      <td>2088.89</td>\n",
              "      <td>42</td>\n",
              "    </tr>\n",
              "    <tr>\n",
              "      <th>1211</th>\n",
              "      <td>2018-01-07</td>\n",
              "      <td>Southeast</td>\n",
              "      <td>organic</td>\n",
              "      <td>1.40</td>\n",
              "      <td>85271.19</td>\n",
              "      <td>78886.47</td>\n",
              "      <td>6384.72</td>\n",
              "      <td>0.00</td>\n",
              "      <td>47</td>\n",
              "    </tr>\n",
              "    <tr>\n",
              "      <th>794</th>\n",
              "      <td>2018-03-11</td>\n",
              "      <td>Denver</td>\n",
              "      <td>organic</td>\n",
              "      <td>1.59</td>\n",
              "      <td>23865.57</td>\n",
              "      <td>23032.03</td>\n",
              "      <td>833.54</td>\n",
              "      <td>0.00</td>\n",
              "      <td>13</td>\n",
              "    </tr>\n",
              "    <tr>\n",
              "      <th>995</th>\n",
              "      <td>2018-01-07</td>\n",
              "      <td>NewYork</td>\n",
              "      <td>organic</td>\n",
              "      <td>1.97</td>\n",
              "      <td>57180.39</td>\n",
              "      <td>57180.39</td>\n",
              "      <td>0.00</td>\n",
              "      <td>0.00</td>\n",
              "      <td>29</td>\n",
              "    </tr>\n",
              "    <tr>\n",
              "      <th>1099</th>\n",
              "      <td>2018-02-04</td>\n",
              "      <td>RaleighGreensboro</td>\n",
              "      <td>organic</td>\n",
              "      <td>2.25</td>\n",
              "      <td>9226.43</td>\n",
              "      <td>9000.42</td>\n",
              "      <td>226.01</td>\n",
              "      <td>0.00</td>\n",
              "      <td>38</td>\n",
              "    </tr>\n",
              "    <tr>\n",
              "      <th>1146</th>\n",
              "      <td>2018-02-11</td>\n",
              "      <td>SanDiego</td>\n",
              "      <td>organic</td>\n",
              "      <td>1.88</td>\n",
              "      <td>9172.77</td>\n",
              "      <td>9172.77</td>\n",
              "      <td>0.00</td>\n",
              "      <td>0.00</td>\n",
              "      <td>42</td>\n",
              "    </tr>\n",
              "    <tr>\n",
              "      <th>213</th>\n",
              "      <td>2018-01-21</td>\n",
              "      <td>HartfordSpringfield</td>\n",
              "      <td>conventional</td>\n",
              "      <td>1.18</td>\n",
              "      <td>58602.05</td>\n",
              "      <td>56135.81</td>\n",
              "      <td>2459.57</td>\n",
              "      <td>6.67</td>\n",
              "      <td>18</td>\n",
              "    </tr>\n",
              "    <tr>\n",
              "      <th>1252</th>\n",
              "      <td>2018-02-25</td>\n",
              "      <td>Tampa</td>\n",
              "      <td>organic</td>\n",
              "      <td>1.37</td>\n",
              "      <td>8394.92</td>\n",
              "      <td>7895.92</td>\n",
              "      <td>499.00</td>\n",
              "      <td>0.00</td>\n",
              "      <td>51</td>\n",
              "    </tr>\n",
              "    <tr>\n",
              "      <th>826</th>\n",
              "      <td>2018-01-14</td>\n",
              "      <td>GrandRapids</td>\n",
              "      <td>organic</td>\n",
              "      <td>1.32</td>\n",
              "      <td>8774.62</td>\n",
              "      <td>8744.72</td>\n",
              "      <td>29.90</td>\n",
              "      <td>0.00</td>\n",
              "      <td>15</td>\n",
              "    </tr>\n",
              "    <tr>\n",
              "      <th>818</th>\n",
              "      <td>2018-03-11</td>\n",
              "      <td>GrandRapids</td>\n",
              "      <td>organic</td>\n",
              "      <td>1.32</td>\n",
              "      <td>7143.57</td>\n",
              "      <td>7143.57</td>\n",
              "      <td>0.00</td>\n",
              "      <td>0.00</td>\n",
              "      <td>15</td>\n",
              "    </tr>\n",
              "    <tr>\n",
              "      <th>112</th>\n",
              "      <td>2018-02-25</td>\n",
              "      <td>CincinnatiDayton</td>\n",
              "      <td>conventional</td>\n",
              "      <td>1.03</td>\n",
              "      <td>163554.38</td>\n",
              "      <td>135219.03</td>\n",
              "      <td>24337.13</td>\n",
              "      <td>3998.22</td>\n",
              "      <td>10</td>\n",
              "    </tr>\n",
              "  </tbody>\n",
              "</table>\n",
              "</div>\n",
              "      <button class=\"colab-df-convert\" onclick=\"convertToInteractive('df-bc63fd92-8cc9-48bd-83be-39f7a6b24fbc')\"\n",
              "              title=\"Convert this dataframe to an interactive table.\"\n",
              "              style=\"display:none;\">\n",
              "        \n",
              "  <svg xmlns=\"http://www.w3.org/2000/svg\" height=\"24px\"viewBox=\"0 0 24 24\"\n",
              "       width=\"24px\">\n",
              "    <path d=\"M0 0h24v24H0V0z\" fill=\"none\"/>\n",
              "    <path d=\"M18.56 5.44l.94 2.06.94-2.06 2.06-.94-2.06-.94-.94-2.06-.94 2.06-2.06.94zm-11 1L8.5 8.5l.94-2.06 2.06-.94-2.06-.94L8.5 2.5l-.94 2.06-2.06.94zm10 10l.94 2.06.94-2.06 2.06-.94-2.06-.94-.94-2.06-.94 2.06-2.06.94z\"/><path d=\"M17.41 7.96l-1.37-1.37c-.4-.4-.92-.59-1.43-.59-.52 0-1.04.2-1.43.59L10.3 9.45l-7.72 7.72c-.78.78-.78 2.05 0 2.83L4 21.41c.39.39.9.59 1.41.59.51 0 1.02-.2 1.41-.59l7.78-7.78 2.81-2.81c.8-.78.8-2.07 0-2.86zM5.41 20L4 18.59l7.72-7.72 1.47 1.35L5.41 20z\"/>\n",
              "  </svg>\n",
              "      </button>\n",
              "      \n",
              "  <style>\n",
              "    .colab-df-container {\n",
              "      display:flex;\n",
              "      flex-wrap:wrap;\n",
              "      gap: 12px;\n",
              "    }\n",
              "\n",
              "    .colab-df-convert {\n",
              "      background-color: #E8F0FE;\n",
              "      border: none;\n",
              "      border-radius: 50%;\n",
              "      cursor: pointer;\n",
              "      display: none;\n",
              "      fill: #1967D2;\n",
              "      height: 32px;\n",
              "      padding: 0 0 0 0;\n",
              "      width: 32px;\n",
              "    }\n",
              "\n",
              "    .colab-df-convert:hover {\n",
              "      background-color: #E2EBFA;\n",
              "      box-shadow: 0px 1px 2px rgba(60, 64, 67, 0.3), 0px 1px 3px 1px rgba(60, 64, 67, 0.15);\n",
              "      fill: #174EA6;\n",
              "    }\n",
              "\n",
              "    [theme=dark] .colab-df-convert {\n",
              "      background-color: #3B4455;\n",
              "      fill: #D2E3FC;\n",
              "    }\n",
              "\n",
              "    [theme=dark] .colab-df-convert:hover {\n",
              "      background-color: #434B5C;\n",
              "      box-shadow: 0px 1px 3px 1px rgba(0, 0, 0, 0.15);\n",
              "      filter: drop-shadow(0px 1px 2px rgba(0, 0, 0, 0.3));\n",
              "      fill: #FFFFFF;\n",
              "    }\n",
              "  </style>\n",
              "\n",
              "      <script>\n",
              "        const buttonEl =\n",
              "          document.querySelector('#df-bc63fd92-8cc9-48bd-83be-39f7a6b24fbc button.colab-df-convert');\n",
              "        buttonEl.style.display =\n",
              "          google.colab.kernel.accessAllowed ? 'block' : 'none';\n",
              "\n",
              "        async function convertToInteractive(key) {\n",
              "          const element = document.querySelector('#df-bc63fd92-8cc9-48bd-83be-39f7a6b24fbc');\n",
              "          const dataTable =\n",
              "            await google.colab.kernel.invokeFunction('convertToInteractive',\n",
              "                                                     [key], {});\n",
              "          if (!dataTable) return;\n",
              "\n",
              "          const docLinkHtml = 'Like what you see? Visit the ' +\n",
              "            '<a target=\"_blank\" href=https://colab.research.google.com/notebooks/data_table.ipynb>data table notebook</a>'\n",
              "            + ' to learn more about interactive tables.';\n",
              "          element.innerHTML = '';\n",
              "          dataTable['output_type'] = 'display_data';\n",
              "          await google.colab.output.renderOutput(dataTable, element);\n",
              "          const docLink = document.createElement('div');\n",
              "          docLink.innerHTML = docLinkHtml;\n",
              "          element.appendChild(docLink);\n",
              "        }\n",
              "      </script>\n",
              "    </div>\n",
              "  </div>\n",
              "  "
            ],
            "text/plain": [
              "            date               region  ... xlarge_bags  region_copy\n",
              "9     2018-01-21               Albany  ...        0.00            1\n",
              "1123  2018-02-04              Roanoke  ...        0.00           40\n",
              "248   2018-01-28         Jacksonville  ...      246.67           21\n",
              "383   2018-01-07              Orlando  ...        0.00           32\n",
              "137   2018-02-18        DallasFtWorth  ...    15428.19           12\n",
              "908   2018-01-28             LasVegas  ...        0.00           22\n",
              "605   2018-02-18                Tampa  ...      123.33           51\n",
              "1048  2018-02-25        PhoenixTucson  ...        0.00           34\n",
              "1150  2018-01-14             SanDiego  ...        0.00           42\n",
              "195   2018-03-04   HarrisburgScranton  ...     1770.00           17\n",
              "367   2018-02-04   NorthernNewEngland  ...      236.66           31\n",
              "629   2018-02-18                 West  ...    18810.98           53\n",
              "642   2018-02-11     WestTexNewMexico  ...     1727.77           54\n",
              "20    2018-01-28              Atlanta  ...     4167.78            2\n",
              "176   2018-01-28          GrandRapids  ...     9278.37           15\n",
              "492   2018-03-25             SanDiego  ...     2088.89           42\n",
              "1211  2018-01-07            Southeast  ...        0.00           47\n",
              "794   2018-03-11               Denver  ...        0.00           13\n",
              "995   2018-01-07              NewYork  ...        0.00           29\n",
              "1099  2018-02-04    RaleighGreensboro  ...        0.00           38\n",
              "1146  2018-02-11             SanDiego  ...        0.00           42\n",
              "213   2018-01-21  HartfordSpringfield  ...        6.67           18\n",
              "1252  2018-02-25                Tampa  ...        0.00           51\n",
              "826   2018-01-14          GrandRapids  ...        0.00           15\n",
              "818   2018-03-11          GrandRapids  ...        0.00           15\n",
              "112   2018-02-25     CincinnatiDayton  ...     3998.22           10\n",
              "\n",
              "[26 rows x 9 columns]"
            ]
          },
          "metadata": {},
          "execution_count": 105
        }
      ]
    },
    {
      "cell_type": "code",
      "source": [
        "df_2.dtypes"
      ],
      "metadata": {
        "colab": {
          "base_uri": "https://localhost:8080/"
        },
        "id": "cfEvM2OaKbkK",
        "outputId": "0578a425-2b9e-4b66-f03a-c5d160d6ae52"
      },
      "execution_count": null,
      "outputs": [
        {
          "output_type": "execute_result",
          "data": {
            "text/plain": [
              "date             object\n",
              "region           object\n",
              "type             object\n",
              "averageprice    float64\n",
              "total_bags      float64\n",
              "small_bags      float64\n",
              "large_bags      float64\n",
              "xlarge_bags     float64\n",
              "region_copy       int64\n",
              "dtype: object"
            ]
          },
          "metadata": {},
          "execution_count": 106
        }
      ]
    },
    {
      "cell_type": "markdown",
      "source": [
        "**Задание 3** Рассчитайте базовые статистики для признака averageprice, оцените известные Вам меры центральной тенденции и вариабельности признака. Как Вы считаете, какие из них лучше всего подойдут для описания этого признака?\n"
      ],
      "metadata": {
        "id": "tHwyVMldJTim"
      }
    },
    {
      "cell_type": "code",
      "source": [
        "df.sample(2)"
      ],
      "metadata": {
        "colab": {
          "base_uri": "https://localhost:8080/",
          "height": 112
        },
        "id": "P2Z76r1wJgnH",
        "outputId": "ed053123-9cda-4590-cba3-fb06d0dd0720"
      },
      "execution_count": null,
      "outputs": [
        {
          "output_type": "execute_result",
          "data": {
            "text/html": [
              "\n",
              "  <div id=\"df-88101202-12b2-45ea-8884-1a7f5d937763\">\n",
              "    <div class=\"colab-df-container\">\n",
              "      <div>\n",
              "<style scoped>\n",
              "    .dataframe tbody tr th:only-of-type {\n",
              "        vertical-align: middle;\n",
              "    }\n",
              "\n",
              "    .dataframe tbody tr th {\n",
              "        vertical-align: top;\n",
              "    }\n",
              "\n",
              "    .dataframe thead th {\n",
              "        text-align: right;\n",
              "    }\n",
              "</style>\n",
              "<table border=\"1\" class=\"dataframe\">\n",
              "  <thead>\n",
              "    <tr style=\"text-align: right;\">\n",
              "      <th></th>\n",
              "      <th>date</th>\n",
              "      <th>region</th>\n",
              "      <th>type</th>\n",
              "      <th>averageprice</th>\n",
              "      <th>total_bags</th>\n",
              "      <th>small_bags</th>\n",
              "      <th>large_bags</th>\n",
              "      <th>xlarge_bags</th>\n",
              "    </tr>\n",
              "  </thead>\n",
              "  <tbody>\n",
              "    <tr>\n",
              "      <th>329</th>\n",
              "      <td>2018-02-18</td>\n",
              "      <td>NewOrleansMobile</td>\n",
              "      <td>conventional</td>\n",
              "      <td>1.02</td>\n",
              "      <td>106870.51</td>\n",
              "      <td>94229.99</td>\n",
              "      <td>12303.85</td>\n",
              "      <td>336.67</td>\n",
              "    </tr>\n",
              "    <tr>\n",
              "      <th>1018</th>\n",
              "      <td>2018-01-14</td>\n",
              "      <td>NorthernNewEngland</td>\n",
              "      <td>organic</td>\n",
              "      <td>1.46</td>\n",
              "      <td>22419.20</td>\n",
              "      <td>22419.20</td>\n",
              "      <td>0.00</td>\n",
              "      <td>0.00</td>\n",
              "    </tr>\n",
              "  </tbody>\n",
              "</table>\n",
              "</div>\n",
              "      <button class=\"colab-df-convert\" onclick=\"convertToInteractive('df-88101202-12b2-45ea-8884-1a7f5d937763')\"\n",
              "              title=\"Convert this dataframe to an interactive table.\"\n",
              "              style=\"display:none;\">\n",
              "        \n",
              "  <svg xmlns=\"http://www.w3.org/2000/svg\" height=\"24px\"viewBox=\"0 0 24 24\"\n",
              "       width=\"24px\">\n",
              "    <path d=\"M0 0h24v24H0V0z\" fill=\"none\"/>\n",
              "    <path d=\"M18.56 5.44l.94 2.06.94-2.06 2.06-.94-2.06-.94-.94-2.06-.94 2.06-2.06.94zm-11 1L8.5 8.5l.94-2.06 2.06-.94-2.06-.94L8.5 2.5l-.94 2.06-2.06.94zm10 10l.94 2.06.94-2.06 2.06-.94-2.06-.94-.94-2.06-.94 2.06-2.06.94z\"/><path d=\"M17.41 7.96l-1.37-1.37c-.4-.4-.92-.59-1.43-.59-.52 0-1.04.2-1.43.59L10.3 9.45l-7.72 7.72c-.78.78-.78 2.05 0 2.83L4 21.41c.39.39.9.59 1.41.59.51 0 1.02-.2 1.41-.59l7.78-7.78 2.81-2.81c.8-.78.8-2.07 0-2.86zM5.41 20L4 18.59l7.72-7.72 1.47 1.35L5.41 20z\"/>\n",
              "  </svg>\n",
              "      </button>\n",
              "      \n",
              "  <style>\n",
              "    .colab-df-container {\n",
              "      display:flex;\n",
              "      flex-wrap:wrap;\n",
              "      gap: 12px;\n",
              "    }\n",
              "\n",
              "    .colab-df-convert {\n",
              "      background-color: #E8F0FE;\n",
              "      border: none;\n",
              "      border-radius: 50%;\n",
              "      cursor: pointer;\n",
              "      display: none;\n",
              "      fill: #1967D2;\n",
              "      height: 32px;\n",
              "      padding: 0 0 0 0;\n",
              "      width: 32px;\n",
              "    }\n",
              "\n",
              "    .colab-df-convert:hover {\n",
              "      background-color: #E2EBFA;\n",
              "      box-shadow: 0px 1px 2px rgba(60, 64, 67, 0.3), 0px 1px 3px 1px rgba(60, 64, 67, 0.15);\n",
              "      fill: #174EA6;\n",
              "    }\n",
              "\n",
              "    [theme=dark] .colab-df-convert {\n",
              "      background-color: #3B4455;\n",
              "      fill: #D2E3FC;\n",
              "    }\n",
              "\n",
              "    [theme=dark] .colab-df-convert:hover {\n",
              "      background-color: #434B5C;\n",
              "      box-shadow: 0px 1px 3px 1px rgba(0, 0, 0, 0.15);\n",
              "      filter: drop-shadow(0px 1px 2px rgba(0, 0, 0, 0.3));\n",
              "      fill: #FFFFFF;\n",
              "    }\n",
              "  </style>\n",
              "\n",
              "      <script>\n",
              "        const buttonEl =\n",
              "          document.querySelector('#df-88101202-12b2-45ea-8884-1a7f5d937763 button.colab-df-convert');\n",
              "        buttonEl.style.display =\n",
              "          google.colab.kernel.accessAllowed ? 'block' : 'none';\n",
              "\n",
              "        async function convertToInteractive(key) {\n",
              "          const element = document.querySelector('#df-88101202-12b2-45ea-8884-1a7f5d937763');\n",
              "          const dataTable =\n",
              "            await google.colab.kernel.invokeFunction('convertToInteractive',\n",
              "                                                     [key], {});\n",
              "          if (!dataTable) return;\n",
              "\n",
              "          const docLinkHtml = 'Like what you see? Visit the ' +\n",
              "            '<a target=\"_blank\" href=https://colab.research.google.com/notebooks/data_table.ipynb>data table notebook</a>'\n",
              "            + ' to learn more about interactive tables.';\n",
              "          element.innerHTML = '';\n",
              "          dataTable['output_type'] = 'display_data';\n",
              "          await google.colab.output.renderOutput(dataTable, element);\n",
              "          const docLink = document.createElement('div');\n",
              "          docLink.innerHTML = docLinkHtml;\n",
              "          element.appendChild(docLink);\n",
              "        }\n",
              "      </script>\n",
              "    </div>\n",
              "  </div>\n",
              "  "
            ],
            "text/plain": [
              "            date              region  ... large_bags  xlarge_bags\n",
              "329   2018-02-18    NewOrleansMobile  ...   12303.85       336.67\n",
              "1018  2018-01-14  NorthernNewEngland  ...       0.00         0.00\n",
              "\n",
              "[2 rows x 8 columns]"
            ]
          },
          "metadata": {},
          "execution_count": 110
        }
      ]
    },
    {
      "cell_type": "code",
      "source": [
        "df.averageprice.describe()"
      ],
      "metadata": {
        "colab": {
          "base_uri": "https://localhost:8080/"
        },
        "id": "VkXWh7Rik_ci",
        "outputId": "241e1fca-a519-47c9-9959-ca5924161eeb"
      },
      "execution_count": null,
      "outputs": [
        {
          "output_type": "execute_result",
          "data": {
            "text/plain": [
              "count    1296.000000\n",
              "mean        1.347531\n",
              "std         0.305858\n",
              "min         0.560000\n",
              "25%         1.130000\n",
              "50%         1.345000\n",
              "75%         1.560000\n",
              "max         2.300000\n",
              "Name: averageprice, dtype: float64"
            ]
          },
          "metadata": {},
          "execution_count": 113
        }
      ]
    },
    {
      "cell_type": "code",
      "source": [
        "df['averageprice'].hist()"
      ],
      "metadata": {
        "colab": {
          "base_uri": "https://localhost:8080/",
          "height": 282
        },
        "id": "VhmtjDK-PI7H",
        "outputId": "de70cf66-aa2d-4c05-bb34-fe09d3934cb8"
      },
      "execution_count": null,
      "outputs": [
        {
          "output_type": "execute_result",
          "data": {
            "text/plain": [
              "<matplotlib.axes._subplots.AxesSubplot at 0x7ffa3d6cced0>"
            ]
          },
          "metadata": {},
          "execution_count": 48
        },
        {
          "output_type": "display_data",
          "data": {
            "image/png": "[encoded data removed]",
            "text/plain": [
              "<Figure size 432x288 with 1 Axes>"
            ]
          },
          "metadata": {
            "needs_background": "light"
          }
        }
      ]
    },
    {
      "cell_type": "code",
      "source": [
        "from scipy.stats import trim_mean # усеченное среднее арифметическое, концы в воду"
      ],
      "metadata": {
        "colab": {
          "base_uri": "https://localhost:8080/"
        },
        "id": "CWhjVLsXQSEg",
        "outputId": "33bc403d-ef38-48b5-a280-bca515d86682"
      },
      "execution_count": null,
      "outputs": [
        {
          "output_type": "execute_result",
          "data": {
            "text/plain": [
              "1.3450770547945208"
            ]
          },
          "metadata": {},
          "execution_count": 115
        }
      ]
    },
    {
      "cell_type": "code",
      "source": [
        "df['averageprice'].median()"
      ],
      "metadata": {
        "colab": {
          "base_uri": "https://localhost:8080/"
        },
        "id": "Wo7fnz5HRFro",
        "outputId": "42519b9c-272d-484b-a230-fa653af96f94"
      },
      "execution_count": null,
      "outputs": [
        {
          "output_type": "execute_result",
          "data": {
            "text/plain": [
              "1.3450000000000002"
            ]
          },
          "metadata": {},
          "execution_count": 116
        }
      ]
    },
    {
      "cell_type": "code",
      "source": [
        "print(df['averageprice'].mode())\n",
        "print(df['averageprice'].value_counts().head(3))# проверка правильности моды, сошлось, 2 числа встречаются чаще всего"
      ],
      "metadata": {
        "colab": {
          "base_uri": "https://localhost:8080/"
        },
        "id": "abdbwUbGR3I2",
        "outputId": "dd1cc159-062a-4694-bbd3-883e2d126376"
      },
      "execution_count": null,
      "outputs": [
        {
          "output_type": "stream",
          "name": "stdout",
          "text": [
            "0    1.36\n",
            "1    1.43\n",
            "dtype: float64\n",
            "1.36    25\n",
            "1.43    25\n",
            "1.41    22\n",
            "Name: averageprice, dtype: int64\n"
          ]
        }
      ]
    },
    {
      "cell_type": "code",
      "source": [
        "import seaborn as sns\n",
        "sns.distplot(df['averageprice'])"
      ],
      "metadata": {
        "colab": {
          "base_uri": "https://localhost:8080/",
          "height": 352
        },
        "id": "YgYzhpRPX6DQ",
        "outputId": "3881c8d7-1774-49c2-af1f-48ebbca222e0"
      },
      "execution_count": null,
      "outputs": [
        {
          "output_type": "stream",
          "name": "stderr",
          "text": [
            "/usr/local/lib/python3.7/dist-packages/seaborn/distributions.py:2619: FutureWarning: `distplot` is a deprecated function and will be removed in a future version. Please adapt your code to use either `displot` (a figure-level function with similar flexibility) or `histplot` (an axes-level function for histograms).\n",
            "  warnings.warn(msg, FutureWarning)\n"
          ]
        },
        {
          "output_type": "execute_result",
          "data": {
            "text/plain": [
              "<matplotlib.axes._subplots.AxesSubplot at 0x7f1ec3926290>"
            ]
          },
          "metadata": {},
          "execution_count": 245
        },
        {
          "output_type": "display_data",
          "data": {
            "image/png": "[encoded data removed]",
            "text/plain": [
              "<Figure size 432x288 with 1 Axes>"
            ]
          },
          "metadata": {
            "needs_background": "light"
          }
        }
      ]
    },
    {
      "cell_type": "markdown",
      "source": [
        "***Меры вариабельности признака***"
      ],
      "metadata": {
        "id": "XVfAzCBCYeIv"
      }
    },
    {
      "cell_type": "code",
      "source": [
        "df['averageprice'].max() - df['averageprice'].min() # размах(диапазон)"
      ],
      "metadata": {
        "colab": {
          "base_uri": "https://localhost:8080/"
        },
        "id": "TBVhjbhrYhj6",
        "outputId": "aa3f1e0a-ab6e-4a3f-9464-b662c737fdab"
      },
      "execution_count": null,
      "outputs": [
        {
          "output_type": "execute_result",
          "data": {
            "text/plain": [
              "1.7399999999999998"
            ]
          },
          "metadata": {},
          "execution_count": 54
        }
      ]
    },
    {
      "cell_type": "code",
      "source": [
        "df['averageprice'].var() # дисперсия"
      ],
      "metadata": {
        "colab": {
          "base_uri": "https://localhost:8080/"
        },
        "id": "TeFapsDsY_Jq",
        "outputId": "18c9c4dd-57de-480d-e391-5c8e9bfb2656"
      },
      "execution_count": null,
      "outputs": [
        {
          "output_type": "execute_result",
          "data": {
            "text/plain": [
              "0.09354895657562344"
            ]
          },
          "metadata": {},
          "execution_count": 242
        }
      ]
    },
    {
      "cell_type": "code",
      "source": [
        "df['averageprice'].mean()  # среднее значение"
      ],
      "metadata": {
        "colab": {
          "base_uri": "https://localhost:8080/"
        },
        "id": "s0Bm5jioXXvt",
        "outputId": "5e1a0eb2-033a-4fe2-ed31-3ee98f7306fe"
      },
      "execution_count": null,
      "outputs": [
        {
          "output_type": "execute_result",
          "data": {
            "text/plain": [
              "1.347530864197531"
            ]
          },
          "metadata": {},
          "execution_count": 55
        }
      ]
    },
    {
      "cell_type": "code",
      "source": [
        "df['averageprice'].std() # стандартное отклнение(отклонение от среднего)"
      ],
      "metadata": {
        "colab": {
          "base_uri": "https://localhost:8080/"
        },
        "id": "dSAWo0IefoSU",
        "outputId": "b6c089bc-0f9b-408e-cdbb-739ab472d686"
      },
      "execution_count": null,
      "outputs": [
        {
          "output_type": "execute_result",
          "data": {
            "text/plain": [
              "0.3058577391135026"
            ]
          },
          "metadata": {},
          "execution_count": 56
        }
      ]
    },
    {
      "cell_type": "code",
      "source": [
        "from scipy.stats import variation   # коэффициент вариации\n",
        "variation(df['averageprice'].dropna())"
      ],
      "metadata": {
        "colab": {
          "base_uri": "https://localhost:8080/"
        },
        "id": "ZwEJJgLhgL9B",
        "outputId": "85ca1eac-58c8-4d3e-ad33-6e9c3d9d36f8"
      },
      "execution_count": null,
      "outputs": [
        {
          "output_type": "execute_result",
          "data": {
            "text/plain": [
              "0.22688884076385007"
            ]
          },
          "metadata": {},
          "execution_count": 57
        }
      ]
    },
    {
      "cell_type": "code",
      "source": [
        "from scipy.stats import trim_mean\n",
        "trim_mean(df['averageprice'].dropna(),0.05) # обрубаем выбросы по 2.5% с каждой стороны"
      ],
      "metadata": {
        "colab": {
          "base_uri": "https://localhost:8080/"
        },
        "id": "qyxhThmtN3ap",
        "outputId": "ac1530da-e1ca-43dd-bd70-c327fd241c23"
      },
      "execution_count": null,
      "outputs": [
        {
          "output_type": "execute_result",
          "data": {
            "text/plain": [
              "1.3450770547945208"
            ]
          },
          "metadata": {},
          "execution_count": 58
        }
      ]
    },
    {
      "cell_type": "code",
      "source": [
        "# Примеры квантилей всяких\n",
        "print(f'Медиана {df[\"averageprice\"].quantile(0.5)}') # Больше 50% выборки\n",
        "print(f'Нижний квартиль {df[\"averageprice\"].quantile(0.25)}') # Меньше 25% выборки\n",
        "print(f'Верхний квартиль {df[\"averageprice\"].quantile(0.75)}') # Больше 75% выборки\n",
        "# Децили - квантили кратные 10%\n",
        "print(f'Первый дециль {df[\"averageprice\"].quantile(0.1)}') # Меньше 10% выборки\n",
        "print(f'Девятый дециль {df[\"averageprice\"].quantile(0.9)}') # Больше 10% выборки\n",
        "# Процентили - квантили, кратные 1%\n",
        "print(f'Пятый процентиль {df[\"averageprice\"].quantile(0.05)}') # Меньше 5% выборки\n",
        "print(f'Девяносто пятый процентиль {df[\"averageprice\"].quantile(0.95)}') # Больше 95% выборки"
      ],
      "metadata": {
        "colab": {
          "base_uri": "https://localhost:8080/"
        },
        "id": "RLU-DsLhg43G",
        "outputId": "8b9f349c-16a4-4e3f-842f-81cc1f907407"
      },
      "execution_count": null,
      "outputs": [
        {
          "output_type": "stream",
          "name": "stdout",
          "text": [
            "Медиана 1.3450000000000002\n",
            "Нижний квартиль 1.13\n",
            "Верхний квартиль 1.56\n",
            "Первый дециль 0.97\n",
            "Девятый дециль 1.75\n",
            "Пятый процентиль 0.86\n",
            "Девяносто пятый процентиль 1.86\n"
          ]
        }
      ]
    },
    {
      "cell_type": "markdown",
      "source": [
        "***детектор аномалий:***"
      ],
      "metadata": {
        "id": "HbIPbSWWi3SF"
      }
    },
    {
      "cell_type": "code",
      "source": [
        "iqr = df[\"averageprice\"].quantile(0.75) - df[\"averageprice\"].quantile(0.25)\n",
        "iqr"
      ],
      "metadata": {
        "colab": {
          "base_uri": "https://localhost:8080/"
        },
        "id": "LFdPRTtgi1rn",
        "outputId": "e5a91018-0c42-4520-8fea-7e7f1f97d606"
      },
      "execution_count": null,
      "outputs": [
        {
          "output_type": "execute_result",
          "data": {
            "text/plain": [
              "0.43000000000000016"
            ]
          },
          "metadata": {},
          "execution_count": 60
        }
      ]
    },
    {
      "cell_type": "code",
      "source": [
        "df[\"averageprice\"].quantile(0.25)-iqr*1.5 #границы тройного межквартильного интервала(нижняя), все,что ниже - выброс"
      ],
      "metadata": {
        "colab": {
          "base_uri": "https://localhost:8080/"
        },
        "id": "6ZIjz4ZTjLLE",
        "outputId": "ffff539c-0d3d-46a6-c214-f17a770376a1"
      },
      "execution_count": null,
      "outputs": [
        {
          "output_type": "execute_result",
          "data": {
            "text/plain": [
              "0.48499999999999965"
            ]
          },
          "metadata": {},
          "execution_count": 61
        }
      ]
    },
    {
      "cell_type": "code",
      "source": [
        "df[\"averageprice\"].quantile(0.75)+iqr*1.5 #границы тройного межквартильного интервала(верхняя), все,что выше - выброс"
      ],
      "metadata": {
        "colab": {
          "base_uri": "https://localhost:8080/"
        },
        "id": "g8QO1H5Fj5VA",
        "outputId": "d810241c-13bd-4e3a-82ef-2a49af109ee5"
      },
      "execution_count": null,
      "outputs": [
        {
          "output_type": "execute_result",
          "data": {
            "text/plain": [
              "2.205"
            ]
          },
          "metadata": {},
          "execution_count": 62
        }
      ]
    },
    {
      "cell_type": "markdown",
      "source": [
        "**Задание 4** Постройте гистограмму распределения для averageprice для всего датасета, оцените форму этого распределения, рассчитайте коэффициенты эксцесса и асимметрии. Постройте также диаграмму «Ящик с усами» и скрипичную диаграмму для обычной стоимости авокадо и стоимости авокадо с меткой «натуральный». Проведите аналогичный анализ для Бостона.\n"
      ],
      "metadata": {
        "id": "2OACpoZ1Lh8L"
      }
    },
    {
      "cell_type": "code",
      "source": [
        "df['averageprice'].hist() #гистограмма распределения"
      ],
      "metadata": {
        "colab": {
          "base_uri": "https://localhost:8080/",
          "height": 282
        },
        "id": "vOHtE0lMLhCG",
        "outputId": "21356d68-3d33-4d61-99ab-2e7a53c67349"
      },
      "execution_count": null,
      "outputs": [
        {
          "output_type": "execute_result",
          "data": {
            "text/plain": [
              "<matplotlib.axes._subplots.AxesSubplot at 0x7ffa3d0a5fd0>"
            ]
          },
          "metadata": {},
          "execution_count": 63
        },
        {
          "output_type": "display_data",
          "data": {
            "image/png": "[encoded data removed]",
            "text/plain": [
              "<Figure size 432x288 with 1 Axes>"
            ]
          },
          "metadata": {
            "needs_background": "light"
          }
        }
      ]
    },
    {
      "cell_type": "code",
      "source": [
        "# Коэффициент ассиметрии +\n",
        "skew(df['averageprice'])"
      ],
      "metadata": {
        "colab": {
          "base_uri": "https://localhost:8080/"
        },
        "id": "iAln6pCfDNMV",
        "outputId": "a75fb75e-a383-4365-ff38-720d1913ebcf"
      },
      "execution_count": null,
      "outputs": [
        {
          "output_type": "execute_result",
          "data": {
            "text/plain": [
              "0.13553501093453496"
            ]
          },
          "metadata": {},
          "execution_count": 5
        }
      ]
    },
    {
      "cell_type": "code",
      "source": [
        "# Простейшим критерием симметрии является равенство средней, моды и медианы\n",
        "#print(df['averageprice'].mean())\n",
        "#print(df['averageprice'].mode())\n",
        "#print(df['averageprice'].median())\n",
        "# довольно симметричненько, но можно было и лучше\n",
        "np.sum((df['averageprice'].mean()+df['averageprice'].mode()+df['averageprice'].median())/3)/2 # вот это наверно реальный коэффициент ассиметрии, с учетом того,\n",
        "                                                                                              # что моды 2 штуки (т.е. 2 равных пиковых значения), а при расчете\n",
        "                                                                                              # с помощью skew учитывается только один, наверно)"
      ],
      "metadata": {
        "colab": {
          "base_uri": "https://localhost:8080/"
        },
        "id": "88r9LCEHGTNB",
        "outputId": "ecc9b2c6-80e9-4789-d26d-c4a4d915f033"
      },
      "execution_count": null,
      "outputs": [
        {
          "output_type": "execute_result",
          "data": {
            "text/plain": [
              "1.3625102880658435"
            ]
          },
          "metadata": {},
          "execution_count": 5
        }
      ]
    },
    {
      "cell_type": "code",
      "source": [
        "# Коэффициент эксцесса близок к 0\n",
        "kurtosis(df['averageprice'])"
      ],
      "metadata": {
        "colab": {
          "base_uri": "https://localhost:8080/"
        },
        "id": "U0Cv0Ci4DxGq",
        "outputId": "18e337c2-4e3a-4fb5-c4e7-5695208def6c"
      },
      "execution_count": null,
      "outputs": [
        {
          "output_type": "execute_result",
          "data": {
            "text/plain": [
              "-0.2075551178154389"
            ]
          },
          "metadata": {},
          "execution_count": 6
        }
      ]
    },
    {
      "cell_type": "code",
      "source": [
        "import seaborn as sns\n",
        "sns.displot(df['averageprice'])"
      ],
      "metadata": {
        "colab": {
          "base_uri": "https://localhost:8080/",
          "height": 386
        },
        "id": "aJG5mEF_EyOf",
        "outputId": "889f0f74-2fe8-4063-acfa-db13e26cf0ca"
      },
      "execution_count": null,
      "outputs": [
        {
          "output_type": "execute_result",
          "data": {
            "text/plain": [
              "<seaborn.axisgrid.FacetGrid at 0x7ffa3d09ff10>"
            ]
          },
          "metadata": {},
          "execution_count": 64
        },
        {
          "output_type": "display_data",
          "data": {
            "image/png": "[encoded data removed]",
            "text/plain": [
              "<Figure size 360x360 with 1 Axes>"
            ]
          },
          "metadata": {
            "needs_background": "light"
          }
        }
      ]
    },
    {
      "cell_type": "code",
      "source": [
        "import seaborn as sns\n",
        "sns.boxplot(data=df, y='averageprice') # «Ящик с усами» для обычной стоимости авокадо"
      ],
      "metadata": {
        "colab": {
          "base_uri": "https://localhost:8080/",
          "height": 270
        },
        "id": "qeKL_scyeSEE",
        "outputId": "4dcffc29-9bcf-4045-d8ee-b55221176571"
      },
      "execution_count": null,
      "outputs": [
        {
          "output_type": "execute_result",
          "data": {
            "text/plain": [
              "<matplotlib.axes._subplots.AxesSubplot at 0x7fb1cbd10a10>"
            ]
          },
          "metadata": {},
          "execution_count": 12
        },
        {
          "output_type": "display_data",
          "data": {
            "image/png": "[encoded data removed]",
            "text/plain": [
              "<Figure size 432x288 with 1 Axes>"
            ]
          },
          "metadata": {
            "needs_background": "light"
          }
        }
      ]
    },
    {
      "cell_type": "code",
      "source": [
        "sns.violinplot(data=df, y='averageprice') # скрипичная диаграмма для обычной стоимости авокадо"
      ],
      "metadata": {
        "colab": {
          "base_uri": "https://localhost:8080/",
          "height": 270
        },
        "id": "FlXuqHzagTAM",
        "outputId": "e1a81198-1562-4d53-f824-adf1fadc001b"
      },
      "execution_count": null,
      "outputs": [
        {
          "output_type": "execute_result",
          "data": {
            "text/plain": [
              "<matplotlib.axes._subplots.AxesSubplot at 0x7f61548bbd90>"
            ]
          },
          "metadata": {},
          "execution_count": 10
        },
        {
          "output_type": "display_data",
          "data": {
            "image/png": "[encoded data removed]",
            "text/plain": [
              "<Figure size 432x288 with 1 Axes>"
            ]
          },
          "metadata": {
            "needs_background": "light"
          }
        }
      ]
    },
    {
      "cell_type": "code",
      "source": [
        "df1 = df[df['type'] == 'conventional']['averageprice'] # «Ящик с усами» для стоимости авокадо с меткой «натуральный»\n",
        "sns.boxplot(data=df, y=df1)"
      ],
      "metadata": {
        "colab": {
          "base_uri": "https://localhost:8080/",
          "height": 270
        },
        "id": "Hr1TB7-BfsL6",
        "outputId": "42d25563-5f30-42ab-d4ee-030bdf68d911"
      },
      "execution_count": null,
      "outputs": [
        {
          "output_type": "execute_result",
          "data": {
            "text/plain": [
              "<matplotlib.axes._subplots.AxesSubplot at 0x7fb1c6d4ee90>"
            ]
          },
          "metadata": {},
          "execution_count": 14
        },
        {
          "output_type": "display_data",
          "data": {
            "image/png": "[encoded data removed]",
            "text/plain": [
              "<Figure size 432x288 with 1 Axes>"
            ]
          },
          "metadata": {
            "needs_background": "light"
          }
        }
      ]
    },
    {
      "cell_type": "code",
      "source": [
        "sns.violinplot(data=df, y=df1)  # скрипичная диаграмма для стоимости авокадо с меткой «натуральный»"
      ],
      "metadata": {
        "colab": {
          "base_uri": "https://localhost:8080/",
          "height": 270
        },
        "id": "FY5EUg1GgwHG",
        "outputId": "a4459487-c42b-47cb-f5b0-0e5159d5cfc0"
      },
      "execution_count": null,
      "outputs": [
        {
          "output_type": "execute_result",
          "data": {
            "text/plain": [
              "<matplotlib.axes._subplots.AxesSubplot at 0x7fb1c6cb24d0>"
            ]
          },
          "metadata": {},
          "execution_count": 15
        },
        {
          "output_type": "display_data",
          "data": {
            "image/png": "[encoded data removed]",
            "text/plain": [
              "<Figure size 432x288 with 1 Axes>"
            ]
          },
          "metadata": {
            "needs_background": "light"
          }
        }
      ]
    },
    {
      "cell_type": "code",
      "source": [
        "df[df.region == 'Boston'].averageprice.hist()"
      ],
      "metadata": {
        "colab": {
          "base_uri": "https://localhost:8080/",
          "height": 283
        },
        "id": "WvBBBKcyor_u",
        "outputId": "aff5ec9f-97c9-47cf-d535-fc5a2c9eb875"
      },
      "execution_count": null,
      "outputs": [
        {
          "output_type": "execute_result",
          "data": {
            "text/plain": [
              "<matplotlib.axes._subplots.AxesSubplot at 0x7fb1c48dea50>"
            ]
          },
          "metadata": {},
          "execution_count": 24
        },
        {
          "output_type": "display_data",
          "data": {
            "image/png": "[encoded data removed]",
            "text/plain": [
              "<Figure size 432x288 with 1 Axes>"
            ]
          },
          "metadata": {
            "needs_background": "light"
          }
        }
      ]
    },
    {
      "cell_type": "code",
      "source": [
        "skew(df[df.region == 'Boston'].averageprice)"
      ],
      "metadata": {
        "colab": {
          "base_uri": "https://localhost:8080/"
        },
        "id": "AUZlXE3pk1lk",
        "outputId": "39458e95-3a52-417a-eb94-edaabef738a5"
      },
      "execution_count": null,
      "outputs": [
        {
          "output_type": "execute_result",
          "data": {
            "text/plain": [
              "-0.20085738442684087"
            ]
          },
          "metadata": {},
          "execution_count": 25
        }
      ]
    },
    {
      "cell_type": "code",
      "source": [
        "kurtosis(df[df.region == 'Boston'].averageprice)"
      ],
      "metadata": {
        "colab": {
          "base_uri": "https://localhost:8080/"
        },
        "id": "i702uZvmlCDD",
        "outputId": "a2500207-05f9-4c9f-a2e5-9aaceef8b34f"
      },
      "execution_count": null,
      "outputs": [
        {
          "output_type": "execute_result",
          "data": {
            "text/plain": [
              "-1.4953229099280285"
            ]
          },
          "metadata": {},
          "execution_count": 28
        }
      ]
    },
    {
      "cell_type": "code",
      "source": [
        "i = df[df.region == 'Boston']['averageprice'] # «Ящик с усами» для стоимости авокадо в Бостоне\n",
        "import seaborn as sns\n",
        "sns.boxplot(data=df, y='averageprice')"
      ],
      "metadata": {
        "colab": {
          "base_uri": "https://localhost:8080/",
          "height": 270
        },
        "id": "iCYrjaAWiKSv",
        "outputId": "f2a7382e-0120-44b2-8e80-a5d7d07ee9bb"
      },
      "execution_count": null,
      "outputs": [
        {
          "output_type": "execute_result",
          "data": {
            "text/plain": [
              "<matplotlib.axes._subplots.AxesSubplot at 0x7fb1c4c25810>"
            ]
          },
          "metadata": {},
          "execution_count": 16
        },
        {
          "output_type": "display_data",
          "data": {
            "image/png": "[encoded data removed]",
            "text/plain": [
              "<Figure size 432x288 with 1 Axes>"
            ]
          },
          "metadata": {
            "needs_background": "light"
          }
        }
      ]
    },
    {
      "cell_type": "code",
      "source": [
        "sns.violinplot(data=df, y=i) # скрипичная диаграмма для стоимости авокадо в Бостоне"
      ],
      "metadata": {
        "colab": {
          "base_uri": "https://localhost:8080/",
          "height": 270
        },
        "id": "EB_EZbWsi8jd",
        "outputId": "1d7fa12e-fe04-432b-a2c2-f4cf5e068d08"
      },
      "execution_count": null,
      "outputs": [
        {
          "output_type": "execute_result",
          "data": {
            "text/plain": [
              "<matplotlib.axes._subplots.AxesSubplot at 0x7fb1c4ba8990>"
            ]
          },
          "metadata": {},
          "execution_count": 18
        },
        {
          "output_type": "display_data",
          "data": {
            "image/png": "[encoded data removed]",
            "text/plain": [
              "<Figure size 432x288 with 1 Axes>"
            ]
          },
          "metadata": {
            "needs_background": "light"
          }
        }
      ]
    },
    {
      "cell_type": "code",
      "source": [
        "j = df[(df.region == 'Boston') & (df['type'] == 'conventional')]['averageprice'] # «Ящик с усами» для стоимости авокадо с меткой «натуральный» в Бостоне\n",
        "import seaborn as sns\n",
        "sns.boxplot(data=df, y=j)"
      ],
      "metadata": {
        "colab": {
          "base_uri": "https://localhost:8080/",
          "height": 270
        },
        "id": "-hTjyvpgirTw",
        "outputId": "9c8c86ec-cafd-4538-f289-09110ce9b20d"
      },
      "execution_count": null,
      "outputs": [
        {
          "output_type": "execute_result",
          "data": {
            "text/plain": [
              "<matplotlib.axes._subplots.AxesSubplot at 0x7fb1c4a0acd0>"
            ]
          },
          "metadata": {},
          "execution_count": 22
        },
        {
          "output_type": "display_data",
          "data": {
            "image/png": "[encoded data removed]",
            "text/plain": [
              "<Figure size 432x288 with 1 Axes>"
            ]
          },
          "metadata": {
            "needs_background": "light"
          }
        }
      ]
    },
    {
      "cell_type": "code",
      "source": [
        "sns.violinplot(data=df, y=j) # скрипичная диаграмма для стоимости авокадо с меткой «натуральный» в Бостоне"
      ],
      "metadata": {
        "colab": {
          "base_uri": "https://localhost:8080/",
          "height": 270
        },
        "id": "xvUl-t78kbJL",
        "outputId": "12f8438d-fb7e-4ba2-9b8d-64c0b4067b7b"
      },
      "execution_count": null,
      "outputs": [
        {
          "output_type": "execute_result",
          "data": {
            "text/plain": [
              "<matplotlib.axes._subplots.AxesSubplot at 0x7fb1c494ba50>"
            ]
          },
          "metadata": {},
          "execution_count": 23
        },
        {
          "output_type": "display_data",
          "data": {
            "image/png": "[encoded data removed]",
            "text/plain": [
              "<Figure size 432x288 with 1 Axes>"
            ]
          },
          "metadata": {
            "needs_background": "light"
          }
        }
      ]
    },
    {
      "cell_type": "markdown",
      "source": [
        "**Задание 5** * Рассчитайте z-оценку для средней цены «натурального» авокадо в Бостоне 2018-03-25 относительно среза по Бостону. Переведите полученную z-оценку в стоимость авокадо, но уже для Чикаго.   \n"
      ],
      "metadata": {
        "id": "W9p7vM8CqawA"
      }
    },
    {
      "cell_type": "code",
      "source": [
        "df.columns"
      ],
      "metadata": {
        "colab": {
          "base_uri": "https://localhost:8080/"
        },
        "id": "HudCBDZQnxWp",
        "outputId": "f438b25c-e479-480f-9a3d-6efa47a2ed77"
      },
      "execution_count": null,
      "outputs": [
        {
          "output_type": "execute_result",
          "data": {
            "text/plain": [
              "Index(['date', 'region', 'type', 'averageprice', 'total_bags', 'small_bags',\n",
              "       'large_bags', 'xlarge_bags'],\n",
              "      dtype='object')"
            ]
          },
          "metadata": {},
          "execution_count": 18
        }
      ]
    },
    {
      "cell_type": "code",
      "source": [
        "boston_m = df[(df.region == 'Boston') & (df['type'] == 'conventional') & (df['date'] == '2018-03-25')]['averageprice'].mean()\n",
        "boston = df[df.region == 'Boston']['averageprice'].mean()/df[df.region == 'Boston']['averageprice'].std()\n",
        "print(df[df.region == 'Boston']['averageprice'].mean())\n",
        "print(df[df.region == 'Boston']['averageprice'].std())\n",
        "print(boston_m)\n",
        "print(boston)\n",
        "Z_boston = (boston_m - df[df.region == 'Boston']['averageprice'].mean())/df[df.region == 'Boston']['averageprice'].std()\n",
        "print(f'Z-оценка по Бостону: {Z_boston}')\n",
        "# если я правильно понял, то z-оценка меньше 1 находится в пределах стандартного отклонения, т.е. z-оценка будет на расстоянии\n",
        "# 0.26(std)*0.7(z-оценка) = 0.182 от среднего значения, т.е. значение находится в пределах 68.27% выборки, которые являются типичными\n",
        "# слева от среднего значения"
      ],
      "metadata": {
        "colab": {
          "base_uri": "https://localhost:8080/",
          "height": 241
        },
        "id": "x2ryuqsZocB8",
        "outputId": "6e1eac96-92d7-4794-9a95-25c01b837a37"
      },
      "execution_count": null,
      "outputs": [
        {
          "output_type": "error",
          "ename": "NameError",
          "evalue": "ignored",
          "traceback": [
            "\u001b[0;31m---------------------------------------------------------------------------\u001b[0m",
            "\u001b[0;31mNameError\u001b[0m                                 Traceback (most recent call last)",
            "\u001b[0;32m<ipython-input-1-b4dc4c057493>\u001b[0m in \u001b[0;36m<module>\u001b[0;34m()\u001b[0m\n\u001b[0;32m----> 1\u001b[0;31m \u001b[0mboston_m\u001b[0m \u001b[0;34m=\u001b[0m \u001b[0mdf\u001b[0m\u001b[0;34m[\u001b[0m\u001b[0;34m(\u001b[0m\u001b[0mdf\u001b[0m\u001b[0;34m.\u001b[0m\u001b[0mregion\u001b[0m \u001b[0;34m==\u001b[0m \u001b[0;34m'Boston'\u001b[0m\u001b[0;34m)\u001b[0m \u001b[0;34m&\u001b[0m \u001b[0;34m(\u001b[0m\u001b[0mdf\u001b[0m\u001b[0;34m[\u001b[0m\u001b[0;34m'type'\u001b[0m\u001b[0;34m]\u001b[0m \u001b[0;34m==\u001b[0m \u001b[0;34m'conventional'\u001b[0m\u001b[0;34m)\u001b[0m \u001b[0;34m&\u001b[0m \u001b[0;34m(\u001b[0m\u001b[0mdf\u001b[0m\u001b[0;34m[\u001b[0m\u001b[0;34m'date'\u001b[0m\u001b[0;34m]\u001b[0m \u001b[0;34m==\u001b[0m \u001b[0;34m'2018-03-25'\u001b[0m\u001b[0;34m)\u001b[0m\u001b[0;34m]\u001b[0m\u001b[0;34m[\u001b[0m\u001b[0;34m'averageprice'\u001b[0m\u001b[0;34m]\u001b[0m\u001b[0;34m.\u001b[0m\u001b[0mmean\u001b[0m\u001b[0;34m(\u001b[0m\u001b[0;34m)\u001b[0m\u001b[0;34m\u001b[0m\u001b[0;34m\u001b[0m\u001b[0m\n\u001b[0m\u001b[1;32m      2\u001b[0m \u001b[0mboston\u001b[0m \u001b[0;34m=\u001b[0m \u001b[0mdf\u001b[0m\u001b[0;34m[\u001b[0m\u001b[0mdf\u001b[0m\u001b[0;34m.\u001b[0m\u001b[0mregion\u001b[0m \u001b[0;34m==\u001b[0m \u001b[0;34m'Boston'\u001b[0m\u001b[0;34m]\u001b[0m\u001b[0;34m[\u001b[0m\u001b[0;34m'averageprice'\u001b[0m\u001b[0;34m]\u001b[0m\u001b[0;34m.\u001b[0m\u001b[0mmean\u001b[0m\u001b[0;34m(\u001b[0m\u001b[0;34m)\u001b[0m\u001b[0;34m/\u001b[0m\u001b[0mdf\u001b[0m\u001b[0;34m[\u001b[0m\u001b[0mdf\u001b[0m\u001b[0;34m.\u001b[0m\u001b[0mregion\u001b[0m \u001b[0;34m==\u001b[0m \u001b[0;34m'Boston'\u001b[0m\u001b[0;34m]\u001b[0m\u001b[0;34m[\u001b[0m\u001b[0;34m'averageprice'\u001b[0m\u001b[0;34m]\u001b[0m\u001b[0;34m.\u001b[0m\u001b[0mstd\u001b[0m\u001b[0;34m(\u001b[0m\u001b[0;34m)\u001b[0m\u001b[0;34m\u001b[0m\u001b[0;34m\u001b[0m\u001b[0m\n\u001b[1;32m      3\u001b[0m \u001b[0mprint\u001b[0m\u001b[0;34m(\u001b[0m\u001b[0mdf\u001b[0m\u001b[0;34m[\u001b[0m\u001b[0mdf\u001b[0m\u001b[0;34m.\u001b[0m\u001b[0mregion\u001b[0m \u001b[0;34m==\u001b[0m \u001b[0;34m'Boston'\u001b[0m\u001b[0;34m]\u001b[0m\u001b[0;34m[\u001b[0m\u001b[0;34m'averageprice'\u001b[0m\u001b[0;34m]\u001b[0m\u001b[0;34m.\u001b[0m\u001b[0mmean\u001b[0m\u001b[0;34m(\u001b[0m\u001b[0;34m)\u001b[0m\u001b[0;34m)\u001b[0m\u001b[0;34m\u001b[0m\u001b[0;34m\u001b[0m\u001b[0m\n\u001b[1;32m      4\u001b[0m \u001b[0mprint\u001b[0m\u001b[0;34m(\u001b[0m\u001b[0mdf\u001b[0m\u001b[0;34m[\u001b[0m\u001b[0mdf\u001b[0m\u001b[0;34m.\u001b[0m\u001b[0mregion\u001b[0m \u001b[0;34m==\u001b[0m \u001b[0;34m'Boston'\u001b[0m\u001b[0;34m]\u001b[0m\u001b[0;34m[\u001b[0m\u001b[0;34m'averageprice'\u001b[0m\u001b[0;34m]\u001b[0m\u001b[0;34m.\u001b[0m\u001b[0mstd\u001b[0m\u001b[0;34m(\u001b[0m\u001b[0;34m)\u001b[0m\u001b[0;34m)\u001b[0m\u001b[0;34m\u001b[0m\u001b[0;34m\u001b[0m\u001b[0m\n\u001b[1;32m      5\u001b[0m \u001b[0mprint\u001b[0m\u001b[0;34m(\u001b[0m\u001b[0mboston_m\u001b[0m\u001b[0;34m)\u001b[0m\u001b[0;34m\u001b[0m\u001b[0;34m\u001b[0m\u001b[0m\n",
            "\u001b[0;31mNameError\u001b[0m: name 'df' is not defined"
          ]
        }
      ]
    },
    {
      "cell_type": "code",
      "source": [
        "m = df[df.region == 'Chicago']['averageprice'].mean()\n",
        "s = df[df.region == 'Chicago']['averageprice'].std()\n",
        "(boston_m - m)/s"
      ],
      "metadata": {
        "colab": {
          "base_uri": "https://localhost:8080/"
        },
        "id": "2oiWTswaKTOX",
        "outputId": "03ecac34-b154-42d8-ecc8-d9c09d73a6e0"
      },
      "execution_count": null,
      "outputs": [
        {
          "output_type": "execute_result",
          "data": {
            "text/plain": [
              "-0.8579914483355531"
            ]
          },
          "metadata": {},
          "execution_count": 25
        }
      ]
    },
    {
      "cell_type": "code",
      "source": [
        "df[df.region == 'Boston']['averageprice'].hist()"
      ],
      "metadata": {
        "colab": {
          "base_uri": "https://localhost:8080/",
          "height": 283
        },
        "id": "xzkCy-WGLO_t",
        "outputId": "5c2b90e6-f616-4378-b14d-d1495196bf3a"
      },
      "execution_count": null,
      "outputs": [
        {
          "output_type": "execute_result",
          "data": {
            "text/plain": [
              "<matplotlib.axes._subplots.AxesSubplot at 0x7f11a6abfbd0>"
            ]
          },
          "metadata": {},
          "execution_count": 28
        },
        {
          "output_type": "display_data",
          "data": {
            "image/png": "[encoded data removed]",
            "text/plain": [
              "<Figure size 432x288 with 1 Axes>"
            ]
          },
          "metadata": {
            "needs_background": "light"
          }
        }
      ]
    },
    {
      "cell_type": "code",
      "source": [
        "j = df[df.region == 'Boston']['averageprice']\n",
        "import seaborn as sns\n",
        "sns.violinplot(data=df, y=j)\n",
        "# две моды, поэтому гитара поручилась"
      ],
      "metadata": {
        "colab": {
          "base_uri": "https://localhost:8080/",
          "height": 270
        },
        "id": "-obcHZSbrr5i",
        "outputId": "70dac322-7658-4ab7-ec01-93b347fe4fe9"
      },
      "execution_count": null,
      "outputs": [
        {
          "output_type": "execute_result",
          "data": {
            "text/plain": [
              "<matplotlib.axes._subplots.AxesSubplot at 0x7fcf6b97b2d0>"
            ]
          },
          "metadata": {},
          "execution_count": 10
        },
        {
          "output_type": "display_data",
          "data": {
            "image/png": "[encoded data removed]",
            "text/plain": [
              "<Figure size 432x288 with 1 Axes>"
            ]
          },
          "metadata": {
            "needs_background": "light"
          }
        }
      ]
    },
    {
      "cell_type": "code",
      "source": [
        "i = df[(df.region == 'Boston') & (df.date =='2018-03-25') & (df['type'] == 'conventional')].averageprice.mean()\n",
        "(i - df[df.region == 'Boston'].averageprice.mean()) / df[df.region == 'Boston'].averageprice.std()"
      ],
      "metadata": {
        "colab": {
          "base_uri": "https://localhost:8080/"
        },
        "id": "vfk00NQwqZko",
        "outputId": "558ef176-2668-472e-9926-a2711e4a8923"
      },
      "execution_count": null,
      "outputs": [
        {
          "output_type": "execute_result",
          "data": {
            "text/plain": [
              "-0.707661330561785"
            ]
          },
          "metadata": {},
          "execution_count": 27
        }
      ]
    },
    {
      "cell_type": "markdown",
      "source": [
        "6. ** Используйте известные вам статистические тесты, чтобы оценить соответствует ли закону нормального распределения средняя стоимость авокадо в Бостоне за указанный период.\n"
      ],
      "metadata": {
        "id": "YH5XZGNnsups"
      }
    },
    {
      "cell_type": "code",
      "source": [
        "Boston_st_price = df[(df.region == 'Boston') & (df['date'] == '2018-03-25')]\n",
        "Boston_st_price.averageprice.hist()"
      ],
      "metadata": {
        "colab": {
          "base_uri": "https://localhost:8080/",
          "height": 283
        },
        "id": "JmmSP8zLsvmb",
        "outputId": "c198ee38-15b3-4c66-d4f0-c4b281361aaf"
      },
      "execution_count": null,
      "outputs": [
        {
          "output_type": "execute_result",
          "data": {
            "text/plain": [
              "<matplotlib.axes._subplots.AxesSubplot at 0x7fe95824f850>"
            ]
          },
          "metadata": {},
          "execution_count": 5
        },
        {
          "output_type": "display_data",
          "data": {
            "image/png": "[encoded data removed]",
            "text/plain": [
              "<Figure size 432x288 with 1 Axes>"
            ]
          },
          "metadata": {
            "needs_background": "light"
          }
        }
      ]
    },
    {
      "cell_type": "code",
      "source": [
        "Boston_st_price.shape"
      ],
      "metadata": {
        "colab": {
          "base_uri": "https://localhost:8080/"
        },
        "id": "7tvJ8uTzTxru",
        "outputId": "c255faae-14b5-48b4-9dd1-8fc4b13ee8f6"
      },
      "execution_count": null,
      "outputs": [
        {
          "output_type": "execute_result",
          "data": {
            "text/plain": [
              "(2, 8)"
            ]
          },
          "metadata": {},
          "execution_count": 14
        }
      ]
    },
    {
      "cell_type": "code",
      "source": [
        "# Коэффициент ассиметрии +\n",
        "skew(Boston_st_price.averageprice) # график симметричен"
      ],
      "metadata": {
        "colab": {
          "base_uri": "https://localhost:8080/"
        },
        "id": "pe5Vck0iUa2x",
        "outputId": "ad62b3a0-4157-4b18-b330-3b0b9de8a8a3"
      },
      "execution_count": null,
      "outputs": [
        {
          "output_type": "execute_result",
          "data": {
            "text/plain": [
              "0.0"
            ]
          },
          "metadata": {},
          "execution_count": 7
        }
      ]
    },
    {
      "cell_type": "code",
      "source": [
        "# Коэффициент эксцесса близок к 0\n",
        "kurtosis(Boston_st_price.averageprice) # имеет минимально возможное значение эксцесса"
      ],
      "metadata": {
        "colab": {
          "base_uri": "https://localhost:8080/"
        },
        "id": "6L98wVjOURMC",
        "outputId": "e229e3b0-4fe2-4bee-d401-ad9fff2ad9ff"
      },
      "execution_count": null,
      "outputs": [
        {
          "output_type": "execute_result",
          "data": {
            "text/plain": [
              "-2.0"
            ]
          },
          "metadata": {},
          "execution_count": 9
        }
      ]
    },
    {
      "cell_type": "code",
      "source": [
        "Boston_st_price.averageprice.mean()"
      ],
      "metadata": {
        "colab": {
          "base_uri": "https://localhost:8080/"
        },
        "id": "cgYeCN5lfleh",
        "outputId": "87b856a8-8658-4635-804d-769e05afdd3e"
      },
      "execution_count": null,
      "outputs": [
        {
          "output_type": "execute_result",
          "data": {
            "text/plain": [
              "1.565"
            ]
          },
          "metadata": {},
          "execution_count": 10
        }
      ]
    }
  ]
}