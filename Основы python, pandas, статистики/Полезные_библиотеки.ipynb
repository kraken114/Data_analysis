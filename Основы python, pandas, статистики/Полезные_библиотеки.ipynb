{
  "nbformat": 4,
  "nbformat_minor": 0,
  "metadata": {
    "colab": {
      "provenance": []
    },
    "kernelspec": {
      "name": "python3",
      "display_name": "Python 3"
    },
    "language_info": {
      "name": "python"
    },
    "widgets": {
      "application/vnd.jupyter.widget-state+json": {
        "9d29a75d801f48f2ae580d6d0f5841e2": {
          "model_module": "@jupyter-widgets/controls",
          "model_name": "HBoxModel",
          "model_module_version": "1.5.0",
          "state": {
            "_view_name": "HBoxView",
            "_dom_classes": [],
            "_model_name": "HBoxModel",
            "_view_module": "@jupyter-widgets/controls",
            "_model_module_version": "1.5.0",
            "_view_count": null,
            "_view_module_version": "1.5.0",
            "box_style": "",
            "layout": "IPY_MODEL_f9c7dbc59f684520b9b6bb0a4457f8d6",
            "_model_module": "@jupyter-widgets/controls",
            "children": [
              "IPY_MODEL_5a5128e789cf4cbc9ad20ac7a18b0ee5",
              "IPY_MODEL_695a4ab8bc8142929b2898bb79e35f31",
              "IPY_MODEL_cacc3c6b5c234d33ba6217bda9aef5c1"
            ]
          }
        },
        "f9c7dbc59f684520b9b6bb0a4457f8d6": {
          "model_module": "@jupyter-widgets/base",
          "model_name": "LayoutModel",
          "model_module_version": "1.2.0",
          "state": {
            "_view_name": "LayoutView",
            "grid_template_rows": null,
            "right": null,
            "justify_content": null,
            "_view_module": "@jupyter-widgets/base",
            "overflow": null,
            "_model_module_version": "1.2.0",
            "_view_count": null,
            "flex_flow": null,
            "width": null,
            "min_width": null,
            "border": null,
            "align_items": null,
            "bottom": null,
            "_model_module": "@jupyter-widgets/base",
            "top": null,
            "grid_column": null,
            "overflow_y": null,
            "overflow_x": null,
            "grid_auto_flow": null,
            "grid_area": null,
            "grid_template_columns": null,
            "flex": null,
            "_model_name": "LayoutModel",
            "justify_items": null,
            "grid_row": null,
            "max_height": null,
            "align_content": null,
            "visibility": null,
            "align_self": null,
            "height": null,
            "min_height": null,
            "padding": null,
            "grid_auto_rows": null,
            "grid_gap": null,
            "max_width": null,
            "order": null,
            "_view_module_version": "1.2.0",
            "grid_template_areas": null,
            "object_position": null,
            "object_fit": null,
            "grid_auto_columns": null,
            "margin": null,
            "display": null,
            "left": null
          }
        },
        "5a5128e789cf4cbc9ad20ac7a18b0ee5": {
          "model_module": "@jupyter-widgets/controls",
          "model_name": "HTMLModel",
          "model_module_version": "1.5.0",
          "state": {
            "_view_name": "HTMLView",
            "style": "IPY_MODEL_52f4947d81f1437085d2be3305254242",
            "_dom_classes": [],
            "description": "",
            "_model_name": "HTMLModel",
            "placeholder": "​",
            "_view_module": "@jupyter-widgets/controls",
            "_model_module_version": "1.5.0",
            "value": "Сложнейшая кросс-проверка: 100%",
            "_view_count": null,
            "_view_module_version": "1.5.0",
            "description_tooltip": null,
            "_model_module": "@jupyter-widgets/controls",
            "layout": "IPY_MODEL_bb72c20c89a14a779112b46fa8671b2b"
          }
        },
        "695a4ab8bc8142929b2898bb79e35f31": {
          "model_module": "@jupyter-widgets/controls",
          "model_name": "FloatProgressModel",
          "model_module_version": "1.5.0",
          "state": {
            "_view_name": "ProgressView",
            "style": "IPY_MODEL_69675f78c1c848329a030ebe943efb37",
            "_dom_classes": [],
            "description": "",
            "_model_name": "FloatProgressModel",
            "bar_style": "success",
            "max": 5,
            "_view_module": "@jupyter-widgets/controls",
            "_model_module_version": "1.5.0",
            "value": 5,
            "_view_count": null,
            "_view_module_version": "1.5.0",
            "orientation": "horizontal",
            "min": 0,
            "description_tooltip": null,
            "_model_module": "@jupyter-widgets/controls",
            "layout": "IPY_MODEL_98644e3075e24a6f807d8b1896422092"
          }
        },
        "cacc3c6b5c234d33ba6217bda9aef5c1": {
          "model_module": "@jupyter-widgets/controls",
          "model_name": "HTMLModel",
          "model_module_version": "1.5.0",
          "state": {
            "_view_name": "HTMLView",
            "style": "IPY_MODEL_242a6ebcccc34392a8fa82c1c99db280",
            "_dom_classes": [],
            "description": "",
            "_model_name": "HTMLModel",
            "placeholder": "​",
            "_view_module": "@jupyter-widgets/controls",
            "_model_module_version": "1.5.0",
            "value": " 5/5 [00:05&lt;00:00,  1.01s/it]",
            "_view_count": null,
            "_view_module_version": "1.5.0",
            "description_tooltip": null,
            "_model_module": "@jupyter-widgets/controls",
            "layout": "IPY_MODEL_e405df5c71fb45d4b83af876d8abf4ca"
          }
        },
        "52f4947d81f1437085d2be3305254242": {
          "model_module": "@jupyter-widgets/controls",
          "model_name": "DescriptionStyleModel",
          "model_module_version": "1.5.0",
          "state": {
            "_view_name": "StyleView",
            "_model_name": "DescriptionStyleModel",
            "description_width": "",
            "_view_module": "@jupyter-widgets/base",
            "_model_module_version": "1.5.0",
            "_view_count": null,
            "_view_module_version": "1.2.0",
            "_model_module": "@jupyter-widgets/controls"
          }
        },
        "bb72c20c89a14a779112b46fa8671b2b": {
          "model_module": "@jupyter-widgets/base",
          "model_name": "LayoutModel",
          "model_module_version": "1.2.0",
          "state": {
            "_view_name": "LayoutView",
            "grid_template_rows": null,
            "right": null,
            "justify_content": null,
            "_view_module": "@jupyter-widgets/base",
            "overflow": null,
            "_model_module_version": "1.2.0",
            "_view_count": null,
            "flex_flow": null,
            "width": null,
            "min_width": null,
            "border": null,
            "align_items": null,
            "bottom": null,
            "_model_module": "@jupyter-widgets/base",
            "top": null,
            "grid_column": null,
            "overflow_y": null,
            "overflow_x": null,
            "grid_auto_flow": null,
            "grid_area": null,
            "grid_template_columns": null,
            "flex": null,
            "_model_name": "LayoutModel",
            "justify_items": null,
            "grid_row": null,
            "max_height": null,
            "align_content": null,
            "visibility": null,
            "align_self": null,
            "height": null,
            "min_height": null,
            "padding": null,
            "grid_auto_rows": null,
            "grid_gap": null,
            "max_width": null,
            "order": null,
            "_view_module_version": "1.2.0",
            "grid_template_areas": null,
            "object_position": null,
            "object_fit": null,
            "grid_auto_columns": null,
            "margin": null,
            "display": null,
            "left": null
          }
        },
        "69675f78c1c848329a030ebe943efb37": {
          "model_module": "@jupyter-widgets/controls",
          "model_name": "ProgressStyleModel",
          "model_module_version": "1.5.0",
          "state": {
            "_view_name": "StyleView",
            "_model_name": "ProgressStyleModel",
            "description_width": "",
            "_view_module": "@jupyter-widgets/base",
            "_model_module_version": "1.5.0",
            "_view_count": null,
            "_view_module_version": "1.2.0",
            "bar_color": null,
            "_model_module": "@jupyter-widgets/controls"
          }
        },
        "98644e3075e24a6f807d8b1896422092": {
          "model_module": "@jupyter-widgets/base",
          "model_name": "LayoutModel",
          "model_module_version": "1.2.0",
          "state": {
            "_view_name": "LayoutView",
            "grid_template_rows": null,
            "right": null,
            "justify_content": null,
            "_view_module": "@jupyter-widgets/base",
            "overflow": null,
            "_model_module_version": "1.2.0",
            "_view_count": null,
            "flex_flow": null,
            "width": null,
            "min_width": null,
            "border": null,
            "align_items": null,
            "bottom": null,
            "_model_module": "@jupyter-widgets/base",
            "top": null,
            "grid_column": null,
            "overflow_y": null,
            "overflow_x": null,
            "grid_auto_flow": null,
            "grid_area": null,
            "grid_template_columns": null,
            "flex": null,
            "_model_name": "LayoutModel",
            "justify_items": null,
            "grid_row": null,
            "max_height": null,
            "align_content": null,
            "visibility": null,
            "align_self": null,
            "height": null,
            "min_height": null,
            "padding": null,
            "grid_auto_rows": null,
            "grid_gap": null,
            "max_width": null,
            "order": null,
            "_view_module_version": "1.2.0",
            "grid_template_areas": null,
            "object_position": null,
            "object_fit": null,
            "grid_auto_columns": null,
            "margin": null,
            "display": null,
            "left": null
          }
        },
        "242a6ebcccc34392a8fa82c1c99db280": {
          "model_module": "@jupyter-widgets/controls",
          "model_name": "DescriptionStyleModel",
          "model_module_version": "1.5.0",
          "state": {
            "_view_name": "StyleView",
            "_model_name": "DescriptionStyleModel",
            "description_width": "",
            "_view_module": "@jupyter-widgets/base",
            "_model_module_version": "1.5.0",
            "_view_count": null,
            "_view_module_version": "1.2.0",
            "_model_module": "@jupyter-widgets/controls"
          }
        },
        "e405df5c71fb45d4b83af876d8abf4ca": {
          "model_module": "@jupyter-widgets/base",
          "model_name": "LayoutModel",
          "model_module_version": "1.2.0",
          "state": {
            "_view_name": "LayoutView",
            "grid_template_rows": null,
            "right": null,
            "justify_content": null,
            "_view_module": "@jupyter-widgets/base",
            "overflow": null,
            "_model_module_version": "1.2.0",
            "_view_count": null,
            "flex_flow": null,
            "width": null,
            "min_width": null,
            "border": null,
            "align_items": null,
            "bottom": null,
            "_model_module": "@jupyter-widgets/base",
            "top": null,
            "grid_column": null,
            "overflow_y": null,
            "overflow_x": null,
            "grid_auto_flow": null,
            "grid_area": null,
            "grid_template_columns": null,
            "flex": null,
            "_model_name": "LayoutModel",
            "justify_items": null,
            "grid_row": null,
            "max_height": null,
            "align_content": null,
            "visibility": null,
            "align_self": null,
            "height": null,
            "min_height": null,
            "padding": null,
            "grid_auto_rows": null,
            "grid_gap": null,
            "max_width": null,
            "order": null,
            "_view_module_version": "1.2.0",
            "grid_template_areas": null,
            "object_position": null,
            "object_fit": null,
            "grid_auto_columns": null,
            "margin": null,
            "display": null,
            "left": null
          }
        },
        "a2b2e173ede9409da8cee3c72a04a911": {
          "model_module": "@jupyter-widgets/controls",
          "model_name": "HBoxModel",
          "model_module_version": "1.5.0",
          "state": {
            "_view_name": "HBoxView",
            "_dom_classes": [],
            "_model_name": "HBoxModel",
            "_view_module": "@jupyter-widgets/controls",
            "_model_module_version": "1.5.0",
            "_view_count": null,
            "_view_module_version": "1.5.0",
            "box_style": "",
            "layout": "IPY_MODEL_44641f06fcaa4cb187967da5e18050dd",
            "_model_module": "@jupyter-widgets/controls",
            "children": [
              "IPY_MODEL_729da27f87ef49cfbbc756566aac136e",
              "IPY_MODEL_b229fa3178d140998b5fcdb0837df4a0",
              "IPY_MODEL_74bcfcf7257d400d8a351e9edacb0674"
            ]
          }
        },
        "44641f06fcaa4cb187967da5e18050dd": {
          "model_module": "@jupyter-widgets/base",
          "model_name": "LayoutModel",
          "model_module_version": "1.2.0",
          "state": {
            "_view_name": "LayoutView",
            "grid_template_rows": null,
            "right": null,
            "justify_content": null,
            "_view_module": "@jupyter-widgets/base",
            "overflow": null,
            "_model_module_version": "1.2.0",
            "_view_count": null,
            "flex_flow": null,
            "width": null,
            "min_width": null,
            "border": null,
            "align_items": null,
            "bottom": null,
            "_model_module": "@jupyter-widgets/base",
            "top": null,
            "grid_column": null,
            "overflow_y": null,
            "overflow_x": null,
            "grid_auto_flow": null,
            "grid_area": null,
            "grid_template_columns": null,
            "flex": null,
            "_model_name": "LayoutModel",
            "justify_items": null,
            "grid_row": null,
            "max_height": null,
            "align_content": null,
            "visibility": null,
            "align_self": null,
            "height": null,
            "min_height": null,
            "padding": null,
            "grid_auto_rows": null,
            "grid_gap": null,
            "max_width": null,
            "order": null,
            "_view_module_version": "1.2.0",
            "grid_template_areas": null,
            "object_position": null,
            "object_fit": null,
            "grid_auto_columns": null,
            "margin": null,
            "display": null,
            "left": null
          }
        },
        "729da27f87ef49cfbbc756566aac136e": {
          "model_module": "@jupyter-widgets/controls",
          "model_name": "HTMLModel",
          "model_module_version": "1.5.0",
          "state": {
            "_view_name": "HTMLView",
            "style": "IPY_MODEL_bb3ffa7bf515466dbfbb489f64f1835d",
            "_dom_classes": [],
            "description": "",
            "_model_name": "HTMLModel",
            "placeholder": "​",
            "_view_module": "@jupyter-widgets/controls",
            "_model_module_version": "1.5.0",
            "value": "Сложный рассчет при помощи progress_apply: 100%",
            "_view_count": null,
            "_view_module_version": "1.5.0",
            "description_tooltip": null,
            "_model_module": "@jupyter-widgets/controls",
            "layout": "IPY_MODEL_410196cfd0844931a74c0358d1ade64c"
          }
        },
        "b229fa3178d140998b5fcdb0837df4a0": {
          "model_module": "@jupyter-widgets/controls",
          "model_name": "FloatProgressModel",
          "model_module_version": "1.5.0",
          "state": {
            "_view_name": "ProgressView",
            "style": "IPY_MODEL_2706f0bef91f4fe99cb44b4ddbceda20",
            "_dom_classes": [],
            "description": "",
            "_model_name": "FloatProgressModel",
            "bar_style": "success",
            "max": 1,
            "_view_module": "@jupyter-widgets/controls",
            "_model_module_version": "1.5.0",
            "value": 1,
            "_view_count": null,
            "_view_module_version": "1.5.0",
            "orientation": "horizontal",
            "min": 0,
            "description_tooltip": null,
            "_model_module": "@jupyter-widgets/controls",
            "layout": "IPY_MODEL_a847d68d140d43c9b9afc26039349f65"
          }
        },
        "74bcfcf7257d400d8a351e9edacb0674": {
          "model_module": "@jupyter-widgets/controls",
          "model_name": "HTMLModel",
          "model_module_version": "1.5.0",
          "state": {
            "_view_name": "HTMLView",
            "style": "IPY_MODEL_2746aba4342b4e21b0fd2e474edaa242",
            "_dom_classes": [],
            "description": "",
            "_model_name": "HTMLModel",
            "placeholder": "​",
            "_view_module": "@jupyter-widgets/controls",
            "_model_module_version": "1.5.0",
            "value": " 1/1 [00:00&lt;00:00,  3.07it/s]",
            "_view_count": null,
            "_view_module_version": "1.5.0",
            "description_tooltip": null,
            "_model_module": "@jupyter-widgets/controls",
            "layout": "IPY_MODEL_21962edbc60642a28861af7b98f9780a"
          }
        },
        "bb3ffa7bf515466dbfbb489f64f1835d": {
          "model_module": "@jupyter-widgets/controls",
          "model_name": "DescriptionStyleModel",
          "model_module_version": "1.5.0",
          "state": {
            "_view_name": "StyleView",
            "_model_name": "DescriptionStyleModel",
            "description_width": "",
            "_view_module": "@jupyter-widgets/base",
            "_model_module_version": "1.5.0",
            "_view_count": null,
            "_view_module_version": "1.2.0",
            "_model_module": "@jupyter-widgets/controls"
          }
        },
        "410196cfd0844931a74c0358d1ade64c": {
          "model_module": "@jupyter-widgets/base",
          "model_name": "LayoutModel",
          "model_module_version": "1.2.0",
          "state": {
            "_view_name": "LayoutView",
            "grid_template_rows": null,
            "right": null,
            "justify_content": null,
            "_view_module": "@jupyter-widgets/base",
            "overflow": null,
            "_model_module_version": "1.2.0",
            "_view_count": null,
            "flex_flow": null,
            "width": null,
            "min_width": null,
            "border": null,
            "align_items": null,
            "bottom": null,
            "_model_module": "@jupyter-widgets/base",
            "top": null,
            "grid_column": null,
            "overflow_y": null,
            "overflow_x": null,
            "grid_auto_flow": null,
            "grid_area": null,
            "grid_template_columns": null,
            "flex": null,
            "_model_name": "LayoutModel",
            "justify_items": null,
            "grid_row": null,
            "max_height": null,
            "align_content": null,
            "visibility": null,
            "align_self": null,
            "height": null,
            "min_height": null,
            "padding": null,
            "grid_auto_rows": null,
            "grid_gap": null,
            "max_width": null,
            "order": null,
            "_view_module_version": "1.2.0",
            "grid_template_areas": null,
            "object_position": null,
            "object_fit": null,
            "grid_auto_columns": null,
            "margin": null,
            "display": null,
            "left": null
          }
        },
        "2706f0bef91f4fe99cb44b4ddbceda20": {
          "model_module": "@jupyter-widgets/controls",
          "model_name": "ProgressStyleModel",
          "model_module_version": "1.5.0",
          "state": {
            "_view_name": "StyleView",
            "_model_name": "ProgressStyleModel",
            "description_width": "",
            "_view_module": "@jupyter-widgets/base",
            "_model_module_version": "1.5.0",
            "_view_count": null,
            "_view_module_version": "1.2.0",
            "bar_color": null,
            "_model_module": "@jupyter-widgets/controls"
          }
        },
        "a847d68d140d43c9b9afc26039349f65": {
          "model_module": "@jupyter-widgets/base",
          "model_name": "LayoutModel",
          "model_module_version": "1.2.0",
          "state": {
            "_view_name": "LayoutView",
            "grid_template_rows": null,
            "right": null,
            "justify_content": null,
            "_view_module": "@jupyter-widgets/base",
            "overflow": null,
            "_model_module_version": "1.2.0",
            "_view_count": null,
            "flex_flow": null,
            "width": null,
            "min_width": null,
            "border": null,
            "align_items": null,
            "bottom": null,
            "_model_module": "@jupyter-widgets/base",
            "top": null,
            "grid_column": null,
            "overflow_y": null,
            "overflow_x": null,
            "grid_auto_flow": null,
            "grid_area": null,
            "grid_template_columns": null,
            "flex": null,
            "_model_name": "LayoutModel",
            "justify_items": null,
            "grid_row": null,
            "max_height": null,
            "align_content": null,
            "visibility": null,
            "align_self": null,
            "height": null,
            "min_height": null,
            "padding": null,
            "grid_auto_rows": null,
            "grid_gap": null,
            "max_width": null,
            "order": null,
            "_view_module_version": "1.2.0",
            "grid_template_areas": null,
            "object_position": null,
            "object_fit": null,
            "grid_auto_columns": null,
            "margin": null,
            "display": null,
            "left": null
          }
        },
        "2746aba4342b4e21b0fd2e474edaa242": {
          "model_module": "@jupyter-widgets/controls",
          "model_name": "DescriptionStyleModel",
          "model_module_version": "1.5.0",
          "state": {
            "_view_name": "StyleView",
            "_model_name": "DescriptionStyleModel",
            "description_width": "",
            "_view_module": "@jupyter-widgets/base",
            "_model_module_version": "1.5.0",
            "_view_count": null,
            "_view_module_version": "1.2.0",
            "_model_module": "@jupyter-widgets/controls"
          }
        },
        "21962edbc60642a28861af7b98f9780a": {
          "model_module": "@jupyter-widgets/base",
          "model_name": "LayoutModel",
          "model_module_version": "1.2.0",
          "state": {
            "_view_name": "LayoutView",
            "grid_template_rows": null,
            "right": null,
            "justify_content": null,
            "_view_module": "@jupyter-widgets/base",
            "overflow": null,
            "_model_module_version": "1.2.0",
            "_view_count": null,
            "flex_flow": null,
            "width": null,
            "min_width": null,
            "border": null,
            "align_items": null,
            "bottom": null,
            "_model_module": "@jupyter-widgets/base",
            "top": null,
            "grid_column": null,
            "overflow_y": null,
            "overflow_x": null,
            "grid_auto_flow": null,
            "grid_area": null,
            "grid_template_columns": null,
            "flex": null,
            "_model_name": "LayoutModel",
            "justify_items": null,
            "grid_row": null,
            "max_height": null,
            "align_content": null,
            "visibility": null,
            "align_self": null,
            "height": null,
            "min_height": null,
            "padding": null,
            "grid_auto_rows": null,
            "grid_gap": null,
            "max_width": null,
            "order": null,
            "_view_module_version": "1.2.0",
            "grid_template_areas": null,
            "object_position": null,
            "object_fit": null,
            "grid_auto_columns": null,
            "margin": null,
            "display": null,
            "left": null
          }
        }
      }
    }
  },
  "cells": [
    {
      "cell_type": "markdown",
      "source": [
        "# Полезные библиотеки для работы с данными"
      ],
      "metadata": {
        "id": "kF81FihmFMjY"
      }
    },
    {
      "cell_type": "markdown",
      "source": [
        "## Оповещение о выполнении скрипта через telepot"
      ],
      "metadata": {
        "id": "DvcOCKHNFRVR"
      }
    },
    {
      "cell_type": "markdown",
      "source": [
        "Во многих учебных примерах процесс подготовки данных и обучения моделей происходит достаточно быстро. На практике обучение или подготовка данных может занимать несколько часов, а иногд даже несколько дней! Хотелось бы добавить оповещения о завершении работы скрипта, чтобы можно было сразу оценить метрики и запустить новый эксперимент."
      ],
      "metadata": {
        "id": "d9vVnidUFdX8"
      }
    },
    {
      "cell_type": "markdown",
      "source": [
        "Мы можем добавить оповещения через телеграм при помощи библиотеки telepot."
      ],
      "metadata": {
        "id": "pz0D381VJLoB"
      }
    },
    {
      "cell_type": "code",
      "source": [
        "pip install telepot"
      ],
      "metadata": {
        "colab": {
          "base_uri": "https://localhost:8080/"
        },
        "id": "qzMggb0LFRAz",
        "outputId": "a800ecd4-402c-464e-ca0e-ca5512bce867"
      },
      "execution_count": null,
      "outputs": [
        {
          "output_type": "stream",
          "name": "stdout",
          "text": [
            "Collecting telepot\n",
            "  Downloading telepot-12.7.tar.gz (73 kB)\n",
            "\u001b[?25l\r\u001b[K     |████▌                           | 10 kB 22.0 MB/s eta 0:00:01\r\u001b[K     |█████████                       | 20 kB 14.4 MB/s eta 0:00:01\r\u001b[K     |█████████████▍                  | 30 kB 10.7 MB/s eta 0:00:01\r\u001b[K     |██████████████████              | 40 kB 9.4 MB/s eta 0:00:01\r\u001b[K     |██████████████████████▍         | 51 kB 5.1 MB/s eta 0:00:01\r\u001b[K     |██████████████████████████▉     | 61 kB 5.3 MB/s eta 0:00:01\r\u001b[K     |███████████████████████████████▍| 71 kB 5.7 MB/s eta 0:00:01\r\u001b[K     |████████████████████████████████| 73 kB 1.1 MB/s \n",
            "\u001b[?25hRequirement already satisfied: urllib3>=1.9.1 in /usr/local/lib/python3.7/dist-packages (from telepot) (1.24.3)\n",
            "Collecting aiohttp>=3.0.0\n",
            "  Downloading aiohttp-3.8.1-cp37-cp37m-manylinux_2_5_x86_64.manylinux1_x86_64.manylinux_2_12_x86_64.manylinux2010_x86_64.whl (1.1 MB)\n",
            "\u001b[K     |████████████████████████████████| 1.1 MB 10.8 MB/s \n",
            "\u001b[?25hCollecting yarl<2.0,>=1.0\n",
            "  Downloading yarl-1.7.2-cp37-cp37m-manylinux_2_5_x86_64.manylinux1_x86_64.manylinux_2_12_x86_64.manylinux2010_x86_64.whl (271 kB)\n",
            "\u001b[K     |████████████████████████████████| 271 kB 51.4 MB/s \n",
            "\u001b[?25hRequirement already satisfied: attrs>=17.3.0 in /usr/local/lib/python3.7/dist-packages (from aiohttp>=3.0.0->telepot) (21.4.0)\n",
            "Requirement already satisfied: charset-normalizer<3.0,>=2.0 in /usr/local/lib/python3.7/dist-packages (from aiohttp>=3.0.0->telepot) (2.0.11)\n",
            "Collecting aiosignal>=1.1.2\n",
            "  Downloading aiosignal-1.2.0-py3-none-any.whl (8.2 kB)\n",
            "Requirement already satisfied: typing-extensions>=3.7.4 in /usr/local/lib/python3.7/dist-packages (from aiohttp>=3.0.0->telepot) (3.10.0.2)\n",
            "Collecting asynctest==0.13.0\n",
            "  Downloading asynctest-0.13.0-py3-none-any.whl (26 kB)\n",
            "Collecting async-timeout<5.0,>=4.0.0a3\n",
            "  Downloading async_timeout-4.0.2-py3-none-any.whl (5.8 kB)\n",
            "Collecting frozenlist>=1.1.1\n",
            "  Downloading frozenlist-1.3.0-cp37-cp37m-manylinux_2_5_x86_64.manylinux1_x86_64.manylinux_2_17_x86_64.manylinux2014_x86_64.whl (144 kB)\n",
            "\u001b[K     |████████████████████████████████| 144 kB 57.0 MB/s \n",
            "\u001b[?25hCollecting multidict<7.0,>=4.5\n",
            "  Downloading multidict-6.0.2-cp37-cp37m-manylinux_2_17_x86_64.manylinux2014_x86_64.whl (94 kB)\n",
            "\u001b[K     |████████████████████████████████| 94 kB 3.6 MB/s \n",
            "\u001b[?25hRequirement already satisfied: idna>=2.0 in /usr/local/lib/python3.7/dist-packages (from yarl<2.0,>=1.0->aiohttp>=3.0.0->telepot) (2.10)\n",
            "Building wheels for collected packages: telepot\n",
            "  Building wheel for telepot (setup.py) ... \u001b[?25l\u001b[?25hdone\n",
            "  Created wheel for telepot: filename=telepot-12.7-py3-none-any.whl size=57961 sha256=edaeced1718b30e67d8fe338b903e8327452957598576fe98fb77b2f39d058d5\n",
            "  Stored in directory: /root/.cache/pip/wheels/59/4d/ea/8781198a69408b6c37d47d902d7bbe5541969eddf5290e6b2e\n",
            "Successfully built telepot\n",
            "Installing collected packages: multidict, frozenlist, yarl, asynctest, async-timeout, aiosignal, aiohttp, telepot\n",
            "Successfully installed aiohttp-3.8.1 aiosignal-1.2.0 async-timeout-4.0.2 asynctest-0.13.0 frozenlist-1.3.0 multidict-6.0.2 telepot-12.7 yarl-1.7.2\n"
          ]
        }
      ]
    },
    {
      "cell_type": "code",
      "source": [
        "import telepot"
      ],
      "metadata": {
        "id": "hq0obp9CJ75r"
      },
      "execution_count": null,
      "outputs": []
    },
    {
      "cell_type": "code",
      "source": [
        "model_result_bot = telepot.Bot('Место для секретного ID бота')\n",
        "model_result_bot"
      ],
      "metadata": {
        "colab": {
          "base_uri": "https://localhost:8080/"
        },
        "id": "6PEkx_zrKAhX",
        "outputId": "d1c49455-959a-4c65-905f-27b01029dac1"
      },
      "execution_count": null,
      "outputs": [
        {
          "output_type": "execute_result",
          "data": {
            "text/plain": [
              "<telepot.Bot at 0x7f2c9d4e9c90>"
            ]
          },
          "metadata": {},
          "execution_count": 25
        }
      ]
    },
    {
      "cell_type": "code",
      "source": [
        "model_result_bot.getUpdates()"
      ],
      "metadata": {
        "id": "CYfPw1TMKb0f"
      },
      "execution_count": null,
      "outputs": []
    },
    {
      "cell_type": "code",
      "source": [
        "from time import sleep\n",
        "def dummy_prepare_split():\n",
        "  sleep(10)\n",
        "\n",
        "def dummy_train_model():\n",
        "  sleep(10)\n",
        "\n",
        "def dummy_estimate_metrics():\n",
        "  return {\n",
        "      'R^2': 0.999,\n",
        "      'MSE': 0.04,\n",
        "      'MAE': 0.2,\n",
        "  }"
      ],
      "metadata": {
        "id": "7m8hmvsVK3GY"
      },
      "execution_count": null,
      "outputs": []
    },
    {
      "cell_type": "code",
      "source": [
        "MY_USER_ID = 9999999 # Нужно ввести свой из ячейки model_result_bot.getUpdates()\n",
        "\n",
        "def dummy_experiment(my_bot):\n",
        "  dummy_prepare_split()\n",
        "  my_bot.sendMessage(MY_USER_ID, 'Сплит готов!')\n",
        "  dummy_train_model()\n",
        "  my_bot.sendMessage(MY_USER_ID, 'Я обучился!')\n",
        "  current_metrics = dummy_estimate_metrics()\n",
        "  my_bot.sendMessage(MY_USER_ID, f'Получили метрики {current_metrics}')"
      ],
      "metadata": {
        "id": "1QQNKcSjNIQF"
      },
      "execution_count": null,
      "outputs": []
    },
    {
      "cell_type": "code",
      "source": [
        "try:\n",
        "  dummy_experiment(model_result_bot)\n",
        "except:\n",
        "  model_result_bot.sendMessage(MY_USER_ID, 'Что-то пошло не так!')"
      ],
      "metadata": {
        "id": "3sqwflgYKvUL"
      },
      "execution_count": null,
      "outputs": []
    },
    {
      "cell_type": "markdown",
      "source": [
        "## Добавляем прогресс-бар при помощи tqdm"
      ],
      "metadata": {
        "id": "Lq9ACDkRTfk_"
      }
    },
    {
      "cell_type": "markdown",
      "source": [
        "Часто нужно не только знать, что скрипт уже по факту завершил свою работу, но и прогнозируемый срок выполнения и текущий этап. Это позволяет лучше распределять свое внимание и давать более точную оценку времени выполнения на каждую задачу."
      ],
      "metadata": {
        "id": "n4yoCbNYTlEs"
      }
    },
    {
      "cell_type": "markdown",
      "source": [
        "В нашем текущем скрипте мы можем использовать cell-magic %%time (функции, предусмотренные jupyter-notebook или google collab), для того, чтобы узнать сколько заняло выполнение скрипта в ячейке. Предположим, у нас есть какой-то продолжительный процесс, который мы запускаем в цикле (например, [кросс-проверка](http://datascientist.one/cross-validation/), об этом подробнее в следующем курсе)."
      ],
      "metadata": {
        "id": "BtVK_I-SXccR"
      }
    },
    {
      "cell_type": "code",
      "source": [
        "from time import sleep\n",
        "def dummy_crossval(n_iterations, time_to_spend):\n",
        "  '''Функция, которая имитирует сложные вычисления'''\n",
        "  for i in range(n_iterations):\n",
        "    sleep(time_to_spend)"
      ],
      "metadata": {
        "id": "DgUVtYTcYmuU"
      },
      "execution_count": null,
      "outputs": []
    },
    {
      "cell_type": "code",
      "source": [
        "%%time\n",
        "dummy_crossval(5, 1)"
      ],
      "metadata": {
        "colab": {
          "base_uri": "https://localhost:8080/"
        },
        "id": "qF9WnTgXY_Jb",
        "outputId": "6cb49906-54d2-49f7-b8eb-c39e93d597f3"
      },
      "execution_count": null,
      "outputs": [
        {
          "output_type": "stream",
          "name": "stdout",
          "text": [
            "CPU times: user 24.1 ms, sys: 6.34 ms, total: 30.5 ms\n",
            "Wall time: 5.01 s\n"
          ]
        }
      ]
    },
    {
      "cell_type": "markdown",
      "source": [
        "Но мы хотим видеть прогресс выполнения и время, оставшееся до завершения работы скрипта. Мы можем воспользоваться библиотекой tqdm для отображения прогресс-бара"
      ],
      "metadata": {
        "id": "tJ-fLsBpZlwh"
      }
    },
    {
      "cell_type": "code",
      "source": [
        "from tqdm import tqdm\n",
        "def dummy_crossval(n_iterations, time_to_spend):\n",
        "  '''Функция, которая имитирует сложные вычисления'''\n",
        "  for i in tqdm(range(n_iterations)): # Добавляем наш range объект как параметр tqdm\n",
        "    sleep(time_to_spend)"
      ],
      "metadata": {
        "id": "qRx0RxgpZlLq"
      },
      "execution_count": null,
      "outputs": []
    },
    {
      "cell_type": "code",
      "source": [
        "dummy_crossval(5, 2)"
      ],
      "metadata": {
        "colab": {
          "base_uri": "https://localhost:8080/"
        },
        "id": "i2cFYfcIacmN",
        "outputId": "a28a1476-0234-4ddf-b5fc-cc8bd7d63c43"
      },
      "execution_count": null,
      "outputs": [
        {
          "output_type": "stream",
          "name": "stderr",
          "text": [
            "100%|██████████| 5/5 [00:10<00:00,  2.00s/it]\n"
          ]
        }
      ]
    },
    {
      "cell_type": "markdown",
      "source": [
        "Мы также можем добавить описание к нашему прогресс-бару"
      ],
      "metadata": {
        "id": "Iu0oiyQ0dDnQ"
      }
    },
    {
      "cell_type": "code",
      "source": [
        "from tqdm import tqdm\n",
        "def dummy_crossval(n_iterations, time_to_spend):\n",
        "  '''Функция, которая имитирует сложные вычисления'''\n",
        "  for i in tqdm(\n",
        "      range(n_iterations),\n",
        "      desc='Сложнейшая кросс-проверка',\n",
        "      ):\n",
        "    sleep(time_to_spend)"
      ],
      "metadata": {
        "id": "FVxQe-9-dIwG"
      },
      "execution_count": null,
      "outputs": []
    },
    {
      "cell_type": "code",
      "source": [
        "dummy_crossval(5, 2)"
      ],
      "metadata": {
        "colab": {
          "base_uri": "https://localhost:8080/"
        },
        "id": "b49p1Zs8dRN-",
        "outputId": "a7479fef-1eed-4af4-f012-6cb2713611b6"
      },
      "execution_count": null,
      "outputs": [
        {
          "output_type": "stream",
          "name": "stderr",
          "text": [
            "Сложнейшая кросс-проверка: 100%|██████████| 5/5 [00:10<00:00,  2.00s/it]\n"
          ]
        }
      ]
    },
    {
      "cell_type": "markdown",
      "source": [
        "Но что произойдет, если в самом коде будет какой-либо стандартный вывод, либо будут появляться предупреждения?"
      ],
      "metadata": {
        "id": "cCGdV2hFdVkD"
      }
    },
    {
      "cell_type": "code",
      "source": [
        "from tqdm import tqdm\n",
        "def dummy_crossval_print(n_iterations, time_to_spend):\n",
        "  '''Функция, которая имитирует сложные вычисления'''\n",
        "  for i in tqdm(\n",
        "      range(n_iterations),\n",
        "      desc='Сложнейшая кросс-проверка',\n",
        "      ):\n",
        "    sleep(time_to_spend)\n",
        "    print(i)"
      ],
      "metadata": {
        "id": "qF_8D90idlu4"
      },
      "execution_count": null,
      "outputs": []
    },
    {
      "cell_type": "code",
      "source": [
        "dummy_crossval_print(5, 1)"
      ],
      "metadata": {
        "colab": {
          "base_uri": "https://localhost:8080/"
        },
        "id": "NKLgufVwdrB7",
        "outputId": "87c461ae-51a4-4419-e8d4-eae9cfa9d534"
      },
      "execution_count": null,
      "outputs": [
        {
          "output_type": "stream",
          "name": "stderr",
          "text": [
            "Сложнейшая кросс-проверка:  20%|██        | 1/5 [00:01<00:04,  1.00s/it]"
          ]
        },
        {
          "output_type": "stream",
          "name": "stdout",
          "text": [
            "0\n"
          ]
        },
        {
          "output_type": "stream",
          "name": "stderr",
          "text": [
            "\rСложнейшая кросс-проверка:  40%|████      | 2/5 [00:02<00:03,  1.00s/it]"
          ]
        },
        {
          "output_type": "stream",
          "name": "stdout",
          "text": [
            "1\n"
          ]
        },
        {
          "output_type": "stream",
          "name": "stderr",
          "text": [
            "\rСложнейшая кросс-проверка:  60%|██████    | 3/5 [00:03<00:02,  1.00s/it]"
          ]
        },
        {
          "output_type": "stream",
          "name": "stdout",
          "text": [
            "2\n"
          ]
        },
        {
          "output_type": "stream",
          "name": "stderr",
          "text": [
            "\rСложнейшая кросс-проверка:  80%|████████  | 4/5 [00:04<00:01,  1.00s/it]"
          ]
        },
        {
          "output_type": "stream",
          "name": "stdout",
          "text": [
            "3\n"
          ]
        },
        {
          "output_type": "stream",
          "name": "stderr",
          "text": [
            "Сложнейшая кросс-проверка: 100%|██████████| 5/5 [00:05<00:00,  1.00s/it]"
          ]
        },
        {
          "output_type": "stream",
          "name": "stdout",
          "text": [
            "4\n"
          ]
        },
        {
          "output_type": "stream",
          "name": "stderr",
          "text": [
            "\n"
          ]
        }
      ]
    },
    {
      "cell_type": "markdown",
      "source": [
        "Прогресс-бар вывелся несколько раз. В tqdm есть поддержка jupyter-notebook, которая позволяет выводить более красивый прогресс-бар. При такой реализации решается проблема построчного вывода прогресс-бара."
      ],
      "metadata": {
        "id": "zpwKzHJCdyqM"
      }
    },
    {
      "cell_type": "code",
      "source": [
        "from tqdm.notebook import tqdm\n",
        "def dummy_crossval_print(n_iterations, time_to_spend):\n",
        "  '''Функция, которая имитирует сложные вычисления'''\n",
        "  for i in tqdm(\n",
        "      range(n_iterations),\n",
        "      desc='Сложнейшая кросс-проверка',\n",
        "      ):\n",
        "    sleep(time_to_spend)\n",
        "    print(i)"
      ],
      "metadata": {
        "id": "hvCy4-FveU6j"
      },
      "execution_count": null,
      "outputs": []
    },
    {
      "cell_type": "code",
      "source": [
        "dummy_crossval_print(5, 1)"
      ],
      "metadata": {
        "colab": {
          "base_uri": "https://localhost:8080/",
          "height": 141,
          "referenced_widgets": [
            "9d29a75d801f48f2ae580d6d0f5841e2",
            "f9c7dbc59f684520b9b6bb0a4457f8d6",
            "5a5128e789cf4cbc9ad20ac7a18b0ee5",
            "695a4ab8bc8142929b2898bb79e35f31",
            "cacc3c6b5c234d33ba6217bda9aef5c1",
            "52f4947d81f1437085d2be3305254242",
            "bb72c20c89a14a779112b46fa8671b2b",
            "69675f78c1c848329a030ebe943efb37",
            "98644e3075e24a6f807d8b1896422092",
            "242a6ebcccc34392a8fa82c1c99db280",
            "e405df5c71fb45d4b83af876d8abf4ca"
          ]
        },
        "id": "W5yYbws9ecK6",
        "outputId": "2d49d813-307a-48aa-f11e-85fc69c22478"
      },
      "execution_count": null,
      "outputs": [
        {
          "output_type": "display_data",
          "data": {
            "application/vnd.jupyter.widget-view+json": {
              "model_id": "9d29a75d801f48f2ae580d6d0f5841e2",
              "version_minor": 0,
              "version_major": 2
            },
            "text/plain": [
              "Сложнейшая кросс-проверка:   0%|          | 0/5 [00:00<?, ?it/s]"
            ]
          },
          "metadata": {}
        },
        {
          "output_type": "stream",
          "name": "stdout",
          "text": [
            "0\n",
            "1\n",
            "2\n",
            "3\n",
            "4\n"
          ]
        }
      ]
    },
    {
      "cell_type": "markdown",
      "source": [
        "Еще одним плюсом такого прогресс-бара явялется цветовая индикация: <br>\n",
        "Синий - скрипт выполняется; <br>\n",
        "Зеленый - скрипт выполнен; <br>\n",
        "Красный - скрипт завершен с ошибкой."
      ],
      "metadata": {
        "id": "fwNQsC9ge-aI"
      }
    },
    {
      "cell_type": "markdown",
      "source": [
        "При работе с pandas редко используются циклы, чаще всего для сложных вычислений спользуется метод *apply*, который позволяет применять свои функции к сериям и датафреймам"
      ],
      "metadata": {
        "id": "qbsPBQ7EfY2V"
      }
    },
    {
      "cell_type": "code",
      "source": [
        "import pandas as pd\n",
        "import numpy as np\n",
        "df_random_normal = pd.DataFrame(\n",
        "    {\n",
        "        'values': np.random.normal(170, 10, size=10000000),\n",
        "    }\n",
        ")\n",
        "df_random_normal.head(2)"
      ],
      "metadata": {
        "colab": {
          "base_uri": "https://localhost:8080/",
          "height": 112
        },
        "id": "q1j1K548gJdc",
        "outputId": "73b6e92f-51a0-4087-ca02-0f1640e86d26"
      },
      "execution_count": null,
      "outputs": [
        {
          "output_type": "execute_result",
          "data": {
            "text/html": [
              "\n",
              "  <div id=\"df-58938f3e-bdd6-498a-bdb1-7cb45232ae8c\">\n",
              "    <div class=\"colab-df-container\">\n",
              "      <div>\n",
              "<style scoped>\n",
              "    .dataframe tbody tr th:only-of-type {\n",
              "        vertical-align: middle;\n",
              "    }\n",
              "\n",
              "    .dataframe tbody tr th {\n",
              "        vertical-align: top;\n",
              "    }\n",
              "\n",
              "    .dataframe thead th {\n",
              "        text-align: right;\n",
              "    }\n",
              "</style>\n",
              "<table border=\"1\" class=\"dataframe\">\n",
              "  <thead>\n",
              "    <tr style=\"text-align: right;\">\n",
              "      <th></th>\n",
              "      <th>values</th>\n",
              "    </tr>\n",
              "  </thead>\n",
              "  <tbody>\n",
              "    <tr>\n",
              "      <th>0</th>\n",
              "      <td>182.146032</td>\n",
              "    </tr>\n",
              "    <tr>\n",
              "      <th>1</th>\n",
              "      <td>180.121760</td>\n",
              "    </tr>\n",
              "  </tbody>\n",
              "</table>\n",
              "</div>\n",
              "      <button class=\"colab-df-convert\" onclick=\"convertToInteractive('df-58938f3e-bdd6-498a-bdb1-7cb45232ae8c')\"\n",
              "              title=\"Convert this dataframe to an interactive table.\"\n",
              "              style=\"display:none;\">\n",
              "        \n",
              "  <svg xmlns=\"http://www.w3.org/2000/svg\" height=\"24px\"viewBox=\"0 0 24 24\"\n",
              "       width=\"24px\">\n",
              "    <path d=\"M0 0h24v24H0V0z\" fill=\"none\"/>\n",
              "    <path d=\"M18.56 5.44l.94 2.06.94-2.06 2.06-.94-2.06-.94-.94-2.06-.94 2.06-2.06.94zm-11 1L8.5 8.5l.94-2.06 2.06-.94-2.06-.94L8.5 2.5l-.94 2.06-2.06.94zm10 10l.94 2.06.94-2.06 2.06-.94-2.06-.94-.94-2.06-.94 2.06-2.06.94z\"/><path d=\"M17.41 7.96l-1.37-1.37c-.4-.4-.92-.59-1.43-.59-.52 0-1.04.2-1.43.59L10.3 9.45l-7.72 7.72c-.78.78-.78 2.05 0 2.83L4 21.41c.39.39.9.59 1.41.59.51 0 1.02-.2 1.41-.59l7.78-7.78 2.81-2.81c.8-.78.8-2.07 0-2.86zM5.41 20L4 18.59l7.72-7.72 1.47 1.35L5.41 20z\"/>\n",
              "  </svg>\n",
              "      </button>\n",
              "      \n",
              "  <style>\n",
              "    .colab-df-container {\n",
              "      display:flex;\n",
              "      flex-wrap:wrap;\n",
              "      gap: 12px;\n",
              "    }\n",
              "\n",
              "    .colab-df-convert {\n",
              "      background-color: #E8F0FE;\n",
              "      border: none;\n",
              "      border-radius: 50%;\n",
              "      cursor: pointer;\n",
              "      display: none;\n",
              "      fill: #1967D2;\n",
              "      height: 32px;\n",
              "      padding: 0 0 0 0;\n",
              "      width: 32px;\n",
              "    }\n",
              "\n",
              "    .colab-df-convert:hover {\n",
              "      background-color: #E2EBFA;\n",
              "      box-shadow: 0px 1px 2px rgba(60, 64, 67, 0.3), 0px 1px 3px 1px rgba(60, 64, 67, 0.15);\n",
              "      fill: #174EA6;\n",
              "    }\n",
              "\n",
              "    [theme=dark] .colab-df-convert {\n",
              "      background-color: #3B4455;\n",
              "      fill: #D2E3FC;\n",
              "    }\n",
              "\n",
              "    [theme=dark] .colab-df-convert:hover {\n",
              "      background-color: #434B5C;\n",
              "      box-shadow: 0px 1px 3px 1px rgba(0, 0, 0, 0.15);\n",
              "      filter: drop-shadow(0px 1px 2px rgba(0, 0, 0, 0.3));\n",
              "      fill: #FFFFFF;\n",
              "    }\n",
              "  </style>\n",
              "\n",
              "      <script>\n",
              "        const buttonEl =\n",
              "          document.querySelector('#df-58938f3e-bdd6-498a-bdb1-7cb45232ae8c button.colab-df-convert');\n",
              "        buttonEl.style.display =\n",
              "          google.colab.kernel.accessAllowed ? 'block' : 'none';\n",
              "\n",
              "        async function convertToInteractive(key) {\n",
              "          const element = document.querySelector('#df-58938f3e-bdd6-498a-bdb1-7cb45232ae8c');\n",
              "          const dataTable =\n",
              "            await google.colab.kernel.invokeFunction('convertToInteractive',\n",
              "                                                     [key], {});\n",
              "          if (!dataTable) return;\n",
              "\n",
              "          const docLinkHtml = 'Like what you see? Visit the ' +\n",
              "            '<a target=\"_blank\" href=https://colab.research.google.com/notebooks/data_table.ipynb>data table notebook</a>'\n",
              "            + ' to learn more about interactive tables.';\n",
              "          element.innerHTML = '';\n",
              "          dataTable['output_type'] = 'display_data';\n",
              "          await google.colab.output.renderOutput(dataTable, element);\n",
              "          const docLink = document.createElement('div');\n",
              "          docLink.innerHTML = docLinkHtml;\n",
              "          element.appendChild(docLink);\n",
              "        }\n",
              "      </script>\n",
              "    </div>\n",
              "  </div>\n",
              "  "
            ],
            "text/plain": [
              "       values\n",
              "0  182.146032\n",
              "1  180.121760"
            ]
          },
          "metadata": {},
          "execution_count": 40
        }
      ]
    },
    {
      "cell_type": "code",
      "source": [
        "df_random_normal.apply(lambda x: (x - 100) / (x / 100)**2).head(3)"
      ],
      "metadata": {
        "colab": {
          "base_uri": "https://localhost:8080/",
          "height": 143
        },
        "id": "L7-KqVgeghU7",
        "outputId": "a666566b-bace-45bf-f79e-a7bc1074774d"
      },
      "execution_count": null,
      "outputs": [
        {
          "output_type": "execute_result",
          "data": {
            "text/html": [
              "\n",
              "  <div id=\"df-fde797da-929f-4caf-b3ea-f1f78f6f039b\">\n",
              "    <div class=\"colab-df-container\">\n",
              "      <div>\n",
              "<style scoped>\n",
              "    .dataframe tbody tr th:only-of-type {\n",
              "        vertical-align: middle;\n",
              "    }\n",
              "\n",
              "    .dataframe tbody tr th {\n",
              "        vertical-align: top;\n",
              "    }\n",
              "\n",
              "    .dataframe thead th {\n",
              "        text-align: right;\n",
              "    }\n",
              "</style>\n",
              "<table border=\"1\" class=\"dataframe\">\n",
              "  <thead>\n",
              "    <tr style=\"text-align: right;\">\n",
              "      <th></th>\n",
              "      <th>values</th>\n",
              "    </tr>\n",
              "  </thead>\n",
              "  <tbody>\n",
              "    <tr>\n",
              "      <th>0</th>\n",
              "      <td>24.759802</td>\n",
              "    </tr>\n",
              "    <tr>\n",
              "      <th>1</th>\n",
              "      <td>24.695517</td>\n",
              "    </tr>\n",
              "    <tr>\n",
              "      <th>2</th>\n",
              "      <td>23.429717</td>\n",
              "    </tr>\n",
              "  </tbody>\n",
              "</table>\n",
              "</div>\n",
              "      <button class=\"colab-df-convert\" onclick=\"convertToInteractive('df-fde797da-929f-4caf-b3ea-f1f78f6f039b')\"\n",
              "              title=\"Convert this dataframe to an interactive table.\"\n",
              "              style=\"display:none;\">\n",
              "        \n",
              "  <svg xmlns=\"http://www.w3.org/2000/svg\" height=\"24px\"viewBox=\"0 0 24 24\"\n",
              "       width=\"24px\">\n",
              "    <path d=\"M0 0h24v24H0V0z\" fill=\"none\"/>\n",
              "    <path d=\"M18.56 5.44l.94 2.06.94-2.06 2.06-.94-2.06-.94-.94-2.06-.94 2.06-2.06.94zm-11 1L8.5 8.5l.94-2.06 2.06-.94-2.06-.94L8.5 2.5l-.94 2.06-2.06.94zm10 10l.94 2.06.94-2.06 2.06-.94-2.06-.94-.94-2.06-.94 2.06-2.06.94z\"/><path d=\"M17.41 7.96l-1.37-1.37c-.4-.4-.92-.59-1.43-.59-.52 0-1.04.2-1.43.59L10.3 9.45l-7.72 7.72c-.78.78-.78 2.05 0 2.83L4 21.41c.39.39.9.59 1.41.59.51 0 1.02-.2 1.41-.59l7.78-7.78 2.81-2.81c.8-.78.8-2.07 0-2.86zM5.41 20L4 18.59l7.72-7.72 1.47 1.35L5.41 20z\"/>\n",
              "  </svg>\n",
              "      </button>\n",
              "      \n",
              "  <style>\n",
              "    .colab-df-container {\n",
              "      display:flex;\n",
              "      flex-wrap:wrap;\n",
              "      gap: 12px;\n",
              "    }\n",
              "\n",
              "    .colab-df-convert {\n",
              "      background-color: #E8F0FE;\n",
              "      border: none;\n",
              "      border-radius: 50%;\n",
              "      cursor: pointer;\n",
              "      display: none;\n",
              "      fill: #1967D2;\n",
              "      height: 32px;\n",
              "      padding: 0 0 0 0;\n",
              "      width: 32px;\n",
              "    }\n",
              "\n",
              "    .colab-df-convert:hover {\n",
              "      background-color: #E2EBFA;\n",
              "      box-shadow: 0px 1px 2px rgba(60, 64, 67, 0.3), 0px 1px 3px 1px rgba(60, 64, 67, 0.15);\n",
              "      fill: #174EA6;\n",
              "    }\n",
              "\n",
              "    [theme=dark] .colab-df-convert {\n",
              "      background-color: #3B4455;\n",
              "      fill: #D2E3FC;\n",
              "    }\n",
              "\n",
              "    [theme=dark] .colab-df-convert:hover {\n",
              "      background-color: #434B5C;\n",
              "      box-shadow: 0px 1px 3px 1px rgba(0, 0, 0, 0.15);\n",
              "      filter: drop-shadow(0px 1px 2px rgba(0, 0, 0, 0.3));\n",
              "      fill: #FFFFFF;\n",
              "    }\n",
              "  </style>\n",
              "\n",
              "      <script>\n",
              "        const buttonEl =\n",
              "          document.querySelector('#df-fde797da-929f-4caf-b3ea-f1f78f6f039b button.colab-df-convert');\n",
              "        buttonEl.style.display =\n",
              "          google.colab.kernel.accessAllowed ? 'block' : 'none';\n",
              "\n",
              "        async function convertToInteractive(key) {\n",
              "          const element = document.querySelector('#df-fde797da-929f-4caf-b3ea-f1f78f6f039b');\n",
              "          const dataTable =\n",
              "            await google.colab.kernel.invokeFunction('convertToInteractive',\n",
              "                                                     [key], {});\n",
              "          if (!dataTable) return;\n",
              "\n",
              "          const docLinkHtml = 'Like what you see? Visit the ' +\n",
              "            '<a target=\"_blank\" href=https://colab.research.google.com/notebooks/data_table.ipynb>data table notebook</a>'\n",
              "            + ' to learn more about interactive tables.';\n",
              "          element.innerHTML = '';\n",
              "          dataTable['output_type'] = 'display_data';\n",
              "          await google.colab.output.renderOutput(dataTable, element);\n",
              "          const docLink = document.createElement('div');\n",
              "          docLink.innerHTML = docLinkHtml;\n",
              "          element.appendChild(docLink);\n",
              "        }\n",
              "      </script>\n",
              "    </div>\n",
              "  </div>\n",
              "  "
            ],
            "text/plain": [
              "      values\n",
              "0  24.759802\n",
              "1  24.695517\n",
              "2  23.429717"
            ]
          },
          "metadata": {},
          "execution_count": 41
        }
      ]
    },
    {
      "cell_type": "markdown",
      "source": [
        "Применить прогресс-бар для метода apply можно таким способом"
      ],
      "metadata": {
        "id": "OLDgM6l6g8IO"
      }
    },
    {
      "cell_type": "code",
      "source": [
        "# Этот метод преобразует объекты в pandas для того, чтобы добавить\n",
        "# прогресс бар\n",
        "tqdm.pandas(desc='Сложный рассчет при помощи progress_apply')\n",
        "df_random_normal.progress_apply(\n",
        "    lambda x: (x - 100) / (x / 100)**2\n",
        ").head(3)"
      ],
      "metadata": {
        "colab": {
          "base_uri": "https://localhost:8080/",
          "height": 175,
          "referenced_widgets": [
            "a2b2e173ede9409da8cee3c72a04a911",
            "44641f06fcaa4cb187967da5e18050dd",
            "729da27f87ef49cfbbc756566aac136e",
            "b229fa3178d140998b5fcdb0837df4a0",
            "74bcfcf7257d400d8a351e9edacb0674",
            "bb3ffa7bf515466dbfbb489f64f1835d",
            "410196cfd0844931a74c0358d1ade64c",
            "2706f0bef91f4fe99cb44b4ddbceda20",
            "a847d68d140d43c9b9afc26039349f65",
            "2746aba4342b4e21b0fd2e474edaa242",
            "21962edbc60642a28861af7b98f9780a"
          ]
        },
        "id": "pGlnRHPahCfx",
        "outputId": "f2d9d330-616e-4e44-83ff-c48d13c2c0ba"
      },
      "execution_count": null,
      "outputs": [
        {
          "output_type": "display_data",
          "data": {
            "application/vnd.jupyter.widget-view+json": {
              "model_id": "a2b2e173ede9409da8cee3c72a04a911",
              "version_minor": 0,
              "version_major": 2
            },
            "text/plain": [
              "Сложный рассчет при помощи progress_apply:   0%|          | 0/1 [00:00<?, ?it/s]"
            ]
          },
          "metadata": {}
        },
        {
          "output_type": "execute_result",
          "data": {
            "text/html": [
              "\n",
              "  <div id=\"df-dd69af32-d705-48d8-8884-2b4a9fc0a358\">\n",
              "    <div class=\"colab-df-container\">\n",
              "      <div>\n",
              "<style scoped>\n",
              "    .dataframe tbody tr th:only-of-type {\n",
              "        vertical-align: middle;\n",
              "    }\n",
              "\n",
              "    .dataframe tbody tr th {\n",
              "        vertical-align: top;\n",
              "    }\n",
              "\n",
              "    .dataframe thead th {\n",
              "        text-align: right;\n",
              "    }\n",
              "</style>\n",
              "<table border=\"1\" class=\"dataframe\">\n",
              "  <thead>\n",
              "    <tr style=\"text-align: right;\">\n",
              "      <th></th>\n",
              "      <th>values</th>\n",
              "    </tr>\n",
              "  </thead>\n",
              "  <tbody>\n",
              "    <tr>\n",
              "      <th>0</th>\n",
              "      <td>24.759802</td>\n",
              "    </tr>\n",
              "    <tr>\n",
              "      <th>1</th>\n",
              "      <td>24.695517</td>\n",
              "    </tr>\n",
              "    <tr>\n",
              "      <th>2</th>\n",
              "      <td>23.429717</td>\n",
              "    </tr>\n",
              "  </tbody>\n",
              "</table>\n",
              "</div>\n",
              "      <button class=\"colab-df-convert\" onclick=\"convertToInteractive('df-dd69af32-d705-48d8-8884-2b4a9fc0a358')\"\n",
              "              title=\"Convert this dataframe to an interactive table.\"\n",
              "              style=\"display:none;\">\n",
              "        \n",
              "  <svg xmlns=\"http://www.w3.org/2000/svg\" height=\"24px\"viewBox=\"0 0 24 24\"\n",
              "       width=\"24px\">\n",
              "    <path d=\"M0 0h24v24H0V0z\" fill=\"none\"/>\n",
              "    <path d=\"M18.56 5.44l.94 2.06.94-2.06 2.06-.94-2.06-.94-.94-2.06-.94 2.06-2.06.94zm-11 1L8.5 8.5l.94-2.06 2.06-.94-2.06-.94L8.5 2.5l-.94 2.06-2.06.94zm10 10l.94 2.06.94-2.06 2.06-.94-2.06-.94-.94-2.06-.94 2.06-2.06.94z\"/><path d=\"M17.41 7.96l-1.37-1.37c-.4-.4-.92-.59-1.43-.59-.52 0-1.04.2-1.43.59L10.3 9.45l-7.72 7.72c-.78.78-.78 2.05 0 2.83L4 21.41c.39.39.9.59 1.41.59.51 0 1.02-.2 1.41-.59l7.78-7.78 2.81-2.81c.8-.78.8-2.07 0-2.86zM5.41 20L4 18.59l7.72-7.72 1.47 1.35L5.41 20z\"/>\n",
              "  </svg>\n",
              "      </button>\n",
              "      \n",
              "  <style>\n",
              "    .colab-df-container {\n",
              "      display:flex;\n",
              "      flex-wrap:wrap;\n",
              "      gap: 12px;\n",
              "    }\n",
              "\n",
              "    .colab-df-convert {\n",
              "      background-color: #E8F0FE;\n",
              "      border: none;\n",
              "      border-radius: 50%;\n",
              "      cursor: pointer;\n",
              "      display: none;\n",
              "      fill: #1967D2;\n",
              "      height: 32px;\n",
              "      padding: 0 0 0 0;\n",
              "      width: 32px;\n",
              "    }\n",
              "\n",
              "    .colab-df-convert:hover {\n",
              "      background-color: #E2EBFA;\n",
              "      box-shadow: 0px 1px 2px rgba(60, 64, 67, 0.3), 0px 1px 3px 1px rgba(60, 64, 67, 0.15);\n",
              "      fill: #174EA6;\n",
              "    }\n",
              "\n",
              "    [theme=dark] .colab-df-convert {\n",
              "      background-color: #3B4455;\n",
              "      fill: #D2E3FC;\n",
              "    }\n",
              "\n",
              "    [theme=dark] .colab-df-convert:hover {\n",
              "      background-color: #434B5C;\n",
              "      box-shadow: 0px 1px 3px 1px rgba(0, 0, 0, 0.15);\n",
              "      filter: drop-shadow(0px 1px 2px rgba(0, 0, 0, 0.3));\n",
              "      fill: #FFFFFF;\n",
              "    }\n",
              "  </style>\n",
              "\n",
              "      <script>\n",
              "        const buttonEl =\n",
              "          document.querySelector('#df-dd69af32-d705-48d8-8884-2b4a9fc0a358 button.colab-df-convert');\n",
              "        buttonEl.style.display =\n",
              "          google.colab.kernel.accessAllowed ? 'block' : 'none';\n",
              "\n",
              "        async function convertToInteractive(key) {\n",
              "          const element = document.querySelector('#df-dd69af32-d705-48d8-8884-2b4a9fc0a358');\n",
              "          const dataTable =\n",
              "            await google.colab.kernel.invokeFunction('convertToInteractive',\n",
              "                                                     [key], {});\n",
              "          if (!dataTable) return;\n",
              "\n",
              "          const docLinkHtml = 'Like what you see? Visit the ' +\n",
              "            '<a target=\"_blank\" href=https://colab.research.google.com/notebooks/data_table.ipynb>data table notebook</a>'\n",
              "            + ' to learn more about interactive tables.';\n",
              "          element.innerHTML = '';\n",
              "          dataTable['output_type'] = 'display_data';\n",
              "          await google.colab.output.renderOutput(dataTable, element);\n",
              "          const docLink = document.createElement('div');\n",
              "          docLink.innerHTML = docLinkHtml;\n",
              "          element.appendChild(docLink);\n",
              "        }\n",
              "      </script>\n",
              "    </div>\n",
              "  </div>\n",
              "  "
            ],
            "text/plain": [
              "      values\n",
              "0  24.759802\n",
              "1  24.695517\n",
              "2  23.429717"
            ]
          },
          "metadata": {},
          "execution_count": 47
        }
      ]
    },
    {
      "cell_type": "markdown",
      "source": [
        "##Валидация и тестирование данных при помощи pandera"
      ],
      "metadata": {
        "id": "4pxg0EShiHA8"
      }
    },
    {
      "cell_type": "markdown",
      "source": [
        "Как аналитика вас будет интересовать качество исходных данных. От качества исходных данных напрямую зависит качество наших выводов: \"Garbage in = garbage out\" (\"Мусор на входе = мусор на выходе\"). <br>\n",
        "![garbage[1].jpg](data:image/jpeg;base64,/9j/4AAQSkZJRgABAQAAAQABAAD/4gxYSUNDX1BST0ZJTEUAAQEAAAxITGlubwIQAABtbnRyUkdCIFhZWiAHzgACAAkABgAxAABhY3NwTVNGVAAAAABJRUMgc1JHQgAAAAAAAAAAAAAAAAAA9tYAAQAAAADTLUhQICAAAAAAAAAAAAAAAAAAAAAAAAAAAAAAAAAAAAAAAAAAAAAAAAAAAAAAAAAAAAAAABFjcHJ0AAABUAAAADNkZXNjAAABhAAAAGx3dHB0AAAB8AAAABRia3B0AAACBAAAABRyWFlaAAACGAAAABRnWFlaAAACLAAAABRiWFlaAAACQAAAABRkbW5kAAACVAAAAHBkbWRkAAACxAAAAIh2dWVkAAADTAAAAIZ2aWV3AAAD1AAAACRsdW1pAAAD+AAAABRtZWFzAAAEDAAAACR0ZWNoAAAEMAAAAAxyVFJDAAAEPAAACAxnVFJDAAAEPAAACAxiVFJDAAAEPAAACAx0ZXh0AAAAAENvcHlyaWdodCAoYykgMTk5OCBIZXdsZXR0LVBhY2thcmQgQ29tcGFueQAAZGVzYwAAAAAAAAASc1JHQiBJRUM2MTk2Ni0yLjEAAAAAAAAAAAAAABJzUkdCIElFQzYxOTY2LTIuMQAAAAAAAAAAAAAAAAAAAAAAAAAAAAAAAAAAAAAAAAAAAAAAAAAAAAAAAAAAAAAAAAAAWFlaIAAAAAAAAPNRAAEAAAABFsxYWVogAAAAAAAAAAAAAAAAAAAAAFhZWiAAAAAAAABvogAAOPUAAAOQWFlaIAAAAAAAAGKZAAC3hQAAGNpYWVogAAAAAAAAJKAAAA+EAAC2z2Rlc2MAAAAAAAAAFklFQyBodHRwOi8vd3d3LmllYy5jaAAAAAAAAAAAAAAAFklFQyBodHRwOi8vd3d3LmllYy5jaAAAAAAAAAAAAAAAAAAAAAAAAAAAAAAAAAAAAAAAAAAAAAAAAAAAAAAAAAAAAABkZXNjAAAAAAAAAC5JRUMgNjE5NjYtMi4xIERlZmF1bHQgUkdCIGNvbG91ciBzcGFjZSAtIHNSR0IAAAAAAAAAAAAAAC5JRUMgNjE5NjYtMi4xIERlZmF1bHQgUkdCIGNvbG91ciBzcGFjZSAtIHNSR0IAAAAAAAAAAAAAAAAAAAAAAAAAAAAAZGVzYwAAAAAAAAAsUmVmZXJlbmNlIFZpZXdpbmcgQ29uZGl0aW9uIGluIElFQzYxOTY2LTIuMQAAAAAAAAAAAAAALFJlZmVyZW5jZSBWaWV3aW5nIENvbmRpdGlvbiBpbiBJRUM2MTk2Ni0yLjEAAAAAAAAAAAAAAAAAAAAAAAAAAAAAAAAAAHZpZXcAAAAAABOk/gAUXy4AEM8UAAPtzAAEEwsAA1yeAAAAAVhZWiAAAAAAAEwJVgBQAAAAVx/nbWVhcwAAAAAAAAABAAAAAAAAAAAAAAAAAAAAAAAAAo8AAAACc2lnIAAAAABDUlQgY3VydgAAAAAAAAQAAAAABQAKAA8AFAAZAB4AIwAoAC0AMgA3ADsAQABFAEoATwBUAFkAXgBjAGgAbQByAHcAfACBAIYAiwCQAJUAmgCfAKQAqQCuALIAtwC8AMEAxgDLANAA1QDbAOAA5QDrAPAA9gD7AQEBBwENARMBGQEfASUBKwEyATgBPgFFAUwBUgFZAWABZwFuAXUBfAGDAYsBkgGaAaEBqQGxAbkBwQHJAdEB2QHhAekB8gH6AgMCDAIUAh0CJgIvAjgCQQJLAlQCXQJnAnECegKEAo4CmAKiAqwCtgLBAssC1QLgAusC9QMAAwsDFgMhAy0DOANDA08DWgNmA3IDfgOKA5YDogOuA7oDxwPTA+AD7AP5BAYEEwQgBC0EOwRIBFUEYwRxBH4EjASaBKgEtgTEBNME4QTwBP4FDQUcBSsFOgVJBVgFZwV3BYYFlgWmBbUFxQXVBeUF9gYGBhYGJwY3BkgGWQZqBnsGjAadBq8GwAbRBuMG9QcHBxkHKwc9B08HYQd0B4YHmQesB78H0gflB/gICwgfCDIIRghaCG4IggiWCKoIvgjSCOcI+wkQCSUJOglPCWQJeQmPCaQJugnPCeUJ+woRCicKPQpUCmoKgQqYCq4KxQrcCvMLCwsiCzkLUQtpC4ALmAuwC8gL4Qv5DBIMKgxDDFwMdQyODKcMwAzZDPMNDQ0mDUANWg10DY4NqQ3DDd4N+A4TDi4OSQ5kDn8Omw62DtIO7g8JDyUPQQ9eD3oPlg+zD88P7BAJECYQQxBhEH4QmxC5ENcQ9RETETERTxFtEYwRqhHJEegSBxImEkUSZBKEEqMSwxLjEwMTIxNDE2MTgxOkE8UT5RQGFCcUSRRqFIsUrRTOFPAVEhU0FVYVeBWbFb0V4BYDFiYWSRZsFo8WshbWFvoXHRdBF2UXiReuF9IX9xgbGEAYZRiKGK8Y1Rj6GSAZRRlrGZEZtxndGgQaKhpRGncanhrFGuwbFBs7G2MbihuyG9ocAhwqHFIcexyjHMwc9R0eHUcdcB2ZHcMd7B4WHkAeah6UHr4e6R8THz4faR+UH78f6iAVIEEgbCCYIMQg8CEcIUghdSGhIc4h+yInIlUigiKvIt0jCiM4I2YjlCPCI/AkHyRNJHwkqyTaJQklOCVoJZclxyX3JicmVyaHJrcm6CcYJ0kneierJ9woDSg/KHEooijUKQYpOClrKZ0p0CoCKjUqaCqbKs8rAis2K2krnSvRLAUsOSxuLKIs1y0MLUEtdi2rLeEuFi5MLoIuty7uLyQvWi+RL8cv/jA1MGwwpDDbMRIxSjGCMbox8jIqMmMymzLUMw0zRjN/M7gz8TQrNGU0njTYNRM1TTWHNcI1/TY3NnI2rjbpNyQ3YDecN9c4FDhQOIw4yDkFOUI5fzm8Ofk6Njp0OrI67zstO2s7qjvoPCc8ZTykPOM9Ij1hPaE94D4gPmA+oD7gPyE/YT+iP+JAI0BkQKZA50EpQWpBrEHuQjBCckK1QvdDOkN9Q8BEA0RHRIpEzkUSRVVFmkXeRiJGZ0arRvBHNUd7R8BIBUhLSJFI10kdSWNJqUnwSjdKfUrESwxLU0uaS+JMKkxyTLpNAk1KTZNN3E4lTm5Ot08AT0lPk0/dUCdQcVC7UQZRUFGbUeZSMVJ8UsdTE1NfU6pT9lRCVI9U21UoVXVVwlYPVlxWqVb3V0RXklfgWC9YfVjLWRpZaVm4WgdaVlqmWvVbRVuVW+VcNVyGXNZdJ114XcleGl5sXr1fD19hX7NgBWBXYKpg/GFPYaJh9WJJYpxi8GNDY5dj62RAZJRk6WU9ZZJl52Y9ZpJm6Gc9Z5Nn6Wg/aJZo7GlDaZpp8WpIap9q92tPa6dr/2xXbK9tCG1gbbluEm5rbsRvHm94b9FwK3CGcOBxOnGVcfByS3KmcwFzXXO4dBR0cHTMdSh1hXXhdj52m3b4d1Z3s3gReG54zHkqeYl553pGeqV7BHtje8J8IXyBfOF9QX2hfgF+Yn7CfyN/hH/lgEeAqIEKgWuBzYIwgpKC9INXg7qEHYSAhOOFR4Wrhg6GcobXhzuHn4gEiGmIzokziZmJ/opkisqLMIuWi/yMY4zKjTGNmI3/jmaOzo82j56QBpBukNaRP5GokhGSepLjk02TtpQglIqU9JVflcmWNJaflwqXdZfgmEyYuJkkmZCZ/JpomtWbQpuvnByciZz3nWSd0p5Anq6fHZ+Ln/qgaaDYoUehtqImopajBqN2o+akVqTHpTilqaYapoum/adup+CoUqjEqTepqaocqo+rAqt1q+msXKzQrUStuK4trqGvFq+LsACwdbDqsWCx1rJLssKzOLOutCW0nLUTtYq2AbZ5tvC3aLfguFm40blKucK6O7q1uy67p7whvJu9Fb2Pvgq+hL7/v3q/9cBwwOzBZ8Hjwl/C28NYw9TEUcTOxUvFyMZGxsPHQce/yD3IvMk6ybnKOMq3yzbLtsw1zLXNNc21zjbOts83z7jQOdC60TzRvtI/0sHTRNPG1EnUy9VO1dHWVdbY11zX4Nhk2OjZbNnx2nba+9uA3AXcit0Q3ZbeHN6i3ynfr+A24L3hROHM4lPi2+Nj4+vkc+T85YTmDeaW5x/nqegy6LzpRunQ6lvq5etw6/vshu0R7ZzuKO6070DvzPBY8OXxcvH/8ozzGfOn9DT0wvVQ9d72bfb794r4Gfio+Tj5x/pX+uf7d/wH/Jj9Kf26/kv+3P9t////2wCEAAcHBwcHBwgICAgLCwoLCxAODQ0OEBgREhESERgkFhoWFhoWJCAmHx0fJiA5LScnLTlCNzQ3Qk9HR09kX2SDg7ABBwcHBwcHCAgICAsLCgsLEA4NDQ4QGBESERIRGCQWGhYWGhYkICYfHR8mIDktJyctOUI3NDdCT0dHT2RfZIODsP/CABEIAZ0CbAMBIgACEQEDEQH/xAA1AAEAAQUBAQEAAAAAAAAAAAAABQMEBgcIAgEJAQEBAQEBAQEAAAAAAAAAAAAAAQIDBAUG/9oADAMBAAIQAxAAAADpEAAAAAAAAAAAAAAAAAAHz7HyAAAAAAAAAAAAAAAAAAAAAAIgl3K5eqHLnRKTTxy0dUOVy9UNZWCbccrl6ocs9Sp9av00dauTN6GfmhjfLlcvVDUu2kOdYFeqHK+em6wgEfIR8gAAAAFv8LkBZ0iRRwkVnRJJGiSfI4kkaJIty4R3svnz6AAAAAAMWynFjiDtDi/riXROQ4xt43FwH35wGdc51q3NrMr526P5wXX3XfHvUUZBYSWrbOZux+VO4ZdZ8q96/n+d78k780HU5sbAtoRyN31wJ3wcabi07s83pXxjNbAAI+Qj5AAAAGPnJcZ6iZrvtg+cXPIuE5t7mvFXrVZzjq7t/Q0c9bDxLug1/wAc938Hmxbjqy+rX2l+qeVTXU5kXSkce9s/n/1ybNFgAAAADFspxY4g25qPvKXjvbGS80HcfBHfHA5sPId45nTnDo/nA01sOI7IjWMJunVtc9dr8G94Hr8/u9uB46r0v0vzRWKR25IqXJeiOQ+vLOJ6tLfEau6TnlgAEfIR8gAAANB784nXZ+HX0VGU9McHd41yJheaR8sxu2Qyey/0NvnQyaQ7o4X7oWI4P7w4PjZd7uSXrM+VuqeVjFcyw2lLA9yc99L2AgAAAADFspH577I6VS8g7L6FmKs+BP0HxU5gkujRiuC7/wDJyT2RAT6Pn0cU5D1rrted5bfOeDkDsCDTQe2cmmT8+e3EyvHH3rW2OcthbLvycCAR8hHyAAABjXGvSkCstQ3UT8/+utW5RLrX3lXs6KFjQ2+dSnOPdHKHV6xHB/fHJB1DN8hjsXlbcuCmG7Mx/fhwd3jyPvI2eEAAAAAAAAAAAAAAAAAAAAAAj5CPkAAAAAAAAAAAAAAAAAAAAAAAAAAAAAtaJIPn0AAAAAAAAj5CPkAAAAAAAAARhJrG9PoAAAAAAAAAAAAAAB5PVOPtYuq1lW3i3xX5h9ua5lglOXaCFls2oAAAAAACPkI+QAAAAAACwtoq1YmQs+R9xrreZi6wzLZrYv3XOZ5sm+fQAAAAAAAAAAAABi+UYfLi0hM2mfVVwDA8U6+TbkjrDOed2ljdCNYrbHx2P78cryrV+0OfcJQAAAAI+Qj5AAAAAAFI15FZJQ5+m8ivHPvbjshqvNMZ2pO62yPEpVLLKe3Gf9YBlluZDHUAAAAAAAAAAAWEW0Vjshx6VK+Bxq5jgOR1N98OnYeA7Xcl5gFx08myNeWlz2+ZmGx9f7A8XuC7AAAAAj5CPkAAAAABiXiM47noGhgUu1sHtvG+2L3OUYPvpm+R6gy/tyzzxg9t0+VX2vrbZPLWSDn6gAAAAAAAAAAGrdoac49afzHsl8XpvrarY+rzSsjgtJcioZBgfWbYxPFqHo44JtLHNs9/FJ5RgMJx7bZae27y9FQAAAAEfIR8gAAAAIqVxmXXleCqfN9sjNWHn0caeQ4hHb55fG2uZ61E5dojI++LHEcqvfV4cpz2Ch+c2c1NccfVtETQAAAAAAAAA+GJ6qzvVHm75TRpSPPbJ8W8bzkFrYX3XlL692LbduWpcwxnI50p7bwHYHx+sbAQupfVx6Sn9PZJ9TntNaXfHYAAAEfIR8gAAAAUdZ5zqrj0j7jHcj4drfIY/wCJkcbFVO3ORmImd7cdFzGWY43f5DCZt495Jjc3pjxTZ8xzrs/9B59s3mAZ9y39EoAAAAAAADz6hpcPxSRr8N/atGe9vnwa8urXqlPersrMt15lmJ8Wqctsq3Hrsyd0TJcNSdxikf6eeaw9bGfTz6jzvAM/8/QJQAAI+Qj5AAAAAgMDnsZ8vWwmKM37PPjNGatO0py2Gxe2xFhac5reAyWG49Jjbuibrz9dv6p+xOJl3jBp/wCp5q/SnJXXXHcyOewAAAAAAAGPZDHy6YzmpPGC2ee432xJxmKS28YrivRNvhzTmMXiXPp0BrfPfm8aFo06Tc58haOsythY1bnrLYWBZ7x6BKAABHyEfIAAAAGprLMb7GoPGNmwPfFvf4tinTnNYR0AxeWZvePNnPe05DXG/wDWed8b2brO6938HV1mchrO1smez+J+4eWrkZ0AAAAAAAABofZml4Dpy6Vp6EmrdmaGn8N9fGDzPA9vezzat2BN+fk+77kcvXjliB6Z0FncD7kZBuCucrzBz3plOP5BjQKAABHyEfIAAAAGGQea8u6x01W0dI6m1cG8Yh1xhv2Po/V8eW4zvHXvy/XHbNr5Jz3prVfX+oM60d6+1Jt4lZpI7t7nPozOawmwAAAAAAAAOacT94V1883H+Lu5h/mSWtsVSmL4xiWkcezra26uTul7df3s1SdIChJ281ZSXzBpOmck8+udAAAAj5CPkAAAACF5e6N4+6csghPF/rlG2uVWyxPiSt9qfiToYuT7a5g2e1tDENk4o6QfyQEFf1K+det8c5dLYgSgAAAAAAAAcpa83LqTWIylXsLmp8oLLj3a/UubarbtZH0VzJ0XuyWHzGmCdx2P8c9Ru0tc76md/jPQAAACPkI+QAAAAMe437d4uuYXzXttYofKP2y592f1mT+R/m3ztLVWfOm/4qph+8y+D4BQ57n8Xu7WTf3QOttk40CgAAAAAAAAah576d5Z1i1srijVm9l8ffPmMhsLu556t+idDbt7c5LWu08R6tM3Hqx8+/vUnK/ZNxlYz0AAAAj5CPkAAAABx52Hylc4PF38XqWtOvTXx9+fC9u4+c52DzGwk63vAT1P18dLYpsfXfm9F7Y1q149kTlOpjqAAAAAAAAABBcYd08SXOO/KtHWaHx8bp+agVrdiz27NB7o3MviLy27c9MWWYYLwsh2xxZ3BLXE2AAABHyEfIAAAADnjofUKc1RklH7x98+7ZpS9F83Vt8iTyLE5fOuhvFO39PGE05vHT3PVvP4psPnnrgTqAAAAAAAAAA5G655qudMUrinc0aEtZtWj35Xyyi6MN2xi+Sbxsf57dJj+m91ah52j3Hwv3Fz1ICaAAAAj5CPkAAAABiOXWRwzYS0dvlTtZJNx/mp4Xy+zhA+8jjrN73kHkHXFLBs+xCNP7EwHN+WuwxnYAAAAAAAAADR+8NNnNtxb2uudxleH5FqWHqUoLlfyDnD5OQU9rGaeLKh1n3TmzsH53DO3+M+1ePS/E2AAABHyEfIAAAAD59+HFcBluG3Hu+iZDWb2FyigtDM8QyivPm8ps5dkOPznaUoGYh40flURk3DXYD59z1AAAAAAAAAAaa3LpOb5v8AHjxvn7yXFZNyyy0uLTSlKQtySOVYJ7rYcfrSrplNxj8XJkfYfG/YXPpdjOwAAAI+Qj5AAAAAA44w3LcJaXdl91wzP3bX2pYe7emZF7hLitgeMSstMsioGqnrNtWbSxelhz7AAAAAAAAAANIbv08ct06lLWPUpF0pMijY8t7TtvNt7Ttvtnv3TuEkaEjEJtjqjnvoTPQJQAAAI+Qj5AAAAAfPo4twvM8Ms8+RjJ/EFRJulD/Lqc+QXmy7pKaX8xByKWXQfOvXrWyRjYAAAAAAAAACKlRwXFZvgqe6fqnvLz6+NPnz7Hq58V0qX8Pc2SsH6t16d3dzL01mhKAAABHyEfIAAAAAHNujOxuNU8/fPrWafn34U+fF+/fl8lC8orJepTizx21xD2FLsYZ0AAAAAAAAAABzPorvXjExjx7p6z9+Pq1ryRpXnEeKtKb9vNI9eqWQY6ZH2doXfSBYAAABHyEfIAAAAAFrwR+gPKZp315+6z4eQq1Z1mFp3liv314W+6Hz1nXrozRG7866IFyAAAAAAAAAAAxvJByFrj9A6Nfn387/APhwDV75M8B+e/i8C3vd14cUbi3szr59LAAAAAI+Q+fQAAAABa3Q5H1f+g9rX5+fP0AHAMh3cZ4Ose/y8CeO/lcBVu+ambo7e/tKFgAAAAH/xAA9EAABBAIBAgMFBQUHBQEBAAABAgMEBQAGEQcSEyEwEBQxNkAWFyIyVRUgQVFUIyQzNUJQViU0U2BhUkP/2gAIAQEAAQkA/wBmjTvHnTIgb/8ATa7yu7r/ANOrvK7uv9t3C1k0et2NjEz77Nw/l99m4fyZ627WHUF5Gp7XXbVAMmGq6lOwKmfLZz77Nw/l99m4fy++zcP5dLt3udwNmLMdTN7u9OnQI9aPvs3D+X32bh/JHWvcCoDiI6p6JHeXm8dSomthcOCZPV/bpJ5K4vWDbYx+OkdSa/ae2K97N66obJrmyzKyEPvs3D+X32bh/LSerEa7W1CtcB58xm0dWdopb+yrYo++zcP5ffZuH8unvUjYNnujCnj9yu8ru69KZeVde8GJMqLsFRNeDLEz2P39TCdLUiX9q6D+v+1dB/XjaqEkAT39jp4rhafl/aug/r/tXQf1/wBq6D+vFhFXFEtDv2roP6/7V0H9f9q6D+vg2MOxbU5EemXtVXveBJlfaug/r29nonVhCZ8eXEk8hiR63Un5Ju/ZrWs69M1OpW/WdR9Yj6xeFmLnRic+zsS4oXs3y9b+zpvrdHP06rkSq77Ha1+lQKasqvEVDideP83qM6cxI87caqPJa+x2tfpX2P1r9K3TYWNYoH5GKVJspg716lodFXU0VMmu6g9Pq2ypVrrIlbYSqWyZmR1a9Y/tWlgTiOrPzxZZ0Xr4Nje2DU2L1J6e1kipXPr2mnFtOocQrXZXvdLBeOb/APOV7nR+jqbOmfXNhfY7Wv0qJQU1e740OD+5XeV3dei4sNtrWrN82A7DsUqSg6tYKrtgrZHitOoeaQ62c6sEja3spKax2CeivrkfdHvP9Cx0m3hD7SzC3PpxttxePS4UTYtRvtWEc2rMONInymIjGDpLvCgCITddLqOmyIExBUeT5xOlu5zYzEpiH90e8/0PSvXLbWaaZFtWutZI3HKOjs9inCBWoutB2mgimXPiaxtdprMwPQ3aS1i3NbHmxVer1J+Sbv2a/wBRdUq9Zq2HbLfdoG3XfjxW+keoPVrLtvOZ2b5et/ZoO/a1TapXQZk5nqbqT7rbLdjnXj/N6jNCs4lPtdbOmufelp36lQ7PUbIl9VZI66rH7CrUZprCJOyVraxkoD3V/JP/AHD+dI7Jc7VGQ4erPzxZZ0Odaav7EuL6m7jBq6VyG2pCStaUpGuxjGpoDWb/APOV7nSzcaHXql5ixmfelp36lWWUW2gszoi/3K7yu7r0d2v2aChlylnWKT7S3jVd4ljEXXT5UNR6W2pstShl53OrPzY9nR/53ifude/yUWar8yVGNf4aM3H5dsMPxOav8uU/t61/OWdGvnRrN6bZc1W2DxUAFKAzout9epnxvW6k/JN37K/pDdWVbFnsS7fXti0yShyQjp31Os5dnGqLPNiSBrlsfZS9Ndhva1ixhorukm0xrCG+trOvH+b1GU1TKvLJiuiD7nts/wDF0t1S01NmzRYo66IUKevVmgqCdqrSfZK/7Z/JP/cP50V5RrClnOrPzxZZQ0FzfvusVLM+NLhS3okzOkWpU9ggXDzvwzf/AJyvc1zRLvZ4y5MBH3PbZ/4tNrpNJrNbXSR+5XeV3dej1xumHWYFSnOiuvJdefvHR1T100uwuSUjolbvs3b9aV51Z+bHsobybr1iiwgq++Dbf/P0t2uz2eunyLJede/yUWar8yVGNf4aM3H5dsMPxOQ+q20QorEVl5rq9ti3W0l+OsuMMrOda/nLNC2OLq1+iylI3Tqs7fQV11czV1kq1msRIzWsUjFDTxYTY9XqT8k3fs0z5Uo864rYGuRkc0qpCbaCY2bB8sWfs6V/I9T7evH+b1GdLvnmm9vWmtkz9bjrYRRzTXW8GVzClty4bEls7BaRqmqlyZC3j4j7hTnTytRX6rWpSOrPzxZZ0K+YbHOretGnvDPSell+mk2RoPvpUFJCknf/AJyvc6If5HI/frvK7uvQUoJSVHN8sWrParSSw7pnUprUaowG4e97y3uSIfMWitX6W1iT2DEe8eKw9nVn5sezptUQLzaY8Gez91unfptDrdVrjLzVcxnXv8lFmq/MlRjX+GjNx+XbDD8TlF021OZS1sl6vHS7UEkKFahIQlKU51r+cs0PXIm03ya2W7uuru6pcLh50UtYzFrJr5A9bqT8k3fsidUtogV7EGK/c7Bd7I8l6xf6XaLZTLKJdyUbKAnXLYD2U/UfZaOvYroUn73dx/rOk+33O0qtf2m914/zeozpd8803tnxG5sR+M6Nx06x1WyUw8nXurGw0UcRXE7X1AutsSGH86c6PIv7BqdKZZabYaQ02nqz88WWdCvmGxzqnrH2goVvIxJKVBQOg7NG2GiZcbzf/nK9yg3i+1qMqNXP/e7uP9Z0333YdivDEsJH7ld5Xd16G+2fuGr2rqHqSrfvraPCRg6Ka92Al6d0Vpm4Ulxh6VHchyXWHB0m2F2513sfzqz82PZ0f+d4n7nXv8lFmq/MlRjX+GjNx+XbDD8Tmt39GzQVLblp9pKD9WizYc5BciSOtfzlnRr50azrRrS50Fm4aNbMer58aUy5Q20a6rI8yMr1Z8CJZxHocxr7tNI/Rfu00j9Fg6nrtSf7jXJQhA4Ql9hqSy6w8n7tNI/Rfu00j9F+7TSP0Wn1mj14vGshXOqUGwOtPWkCBouq1MtqbBq/bJhxZiC3IZsOkOrTnS6EVfSnVqt1LxYbZaZT2tN5ZaNq1vMcmz6yp1TXqB9x+rgPMtyGXGXUnpppP6LUa/T0DbrdZDm6BqVhKely6r7tNI/Rfu00j9FrtP1ujke8Vtd+5XeV3deh1XpdivRDhVjXS3Sbaku35drG9m9dPLyfs06TWxOl1Ls+sznY86P1D0jYLrYXZcKN030m/otpjzp8b29XtattiTVCuZoOnW0QruukvREDhCRmzxnZlJMjsg9Mdt/o/ux27+j+7Hbv6PpNQ2Wv0s2NYtdUtMvr7ZvfIEfplpV/Q7O3Nnxr+rbuKeZXuY/0u2tt5xCInSyvuNfr3q2zjf7dXeV3df8Ap1d5Xd1/6dXeV3df71JmoY/g1fR3XC0Sh5pf5V/Q13ld3X0RUEjkl62SyT+GLeRZaefES4hY5Sr/AGGVKbitlSjHtmZCuxsPOuqPCFGIlXKiXmWkzlnC4/EIWyuosm5bY7z9BXeV3dfQTLRmIsIVjE1L7fekOh13kLXLitojrIEZpntUgGPOfgvo/HDlNSGUrSfrpMxiIkFxf7dhJ/8A6SGBbAEriw48FJCSX0j8ouL2WgOIZQqVImp8ZZgJdsoncjGPfYDxX2wb5pxhJeDdpAA8nm3W3RyhXq13ld3XrSLaGwstqcFzGcPY0V1DLzgfecBZZQlAEqaWGVOJRa3k9SxjL62JDb6y/AkvMB5Ir50ytI5bauIa+O9xNtBUeA6lQUOQfq9jUAlrux59pLPig1M+Y662nusNkpqs8Py7jqlBjrLMJhdq7aRS4E6+W1qLchCY7TTHhwnbKyk1y2kPB+dNMhpCG018RDSCoIlJiS2m2j6td5Xd16qvynLF1tM17vLsv3d8JbNbNWYy3Zz03eaGEXEF5fUv9pyhFZjzXnXy0720zcKTHR7yiS2+QDHlOW73vbsQopHJU208B9pyHCayomn3tcf6y2UiZIUyov0sBMMFwQq3xKaUyk3+vF+Y4FuK9zrw5Ckt1OyMQFIQoxdzoOeFqrZosIj78JCmbuMpMmxMSS2hpDrSJV+we/ud1+ULSw/D61d5Xd16s1wR4y3TjEJibKLjgtamG28gozcapx+C24gzddCC4+hxM+AVoWhFVt8JtPZKxrb6N1vtZMoWL0Nj9mpi+9wpIZtMVPENpRyVfx+O4uagfeQZZH1VraJijwUZEZHKpEg2s5UtPgNhuyRDbbZWm3ga/dKJfl2HTuldJWzaMdPoHILk2DrFHAX3lLDjiOBHZbs4TpMZ0CFHdbHYHapmO5LaWrTGW2XnkIT6td5Xd16ilBIJJm2Kp7pZZCFM1zIJIfckTxJWlVtEeS40/ljqevWSluItH+nNe27yzYMdP61odzsquqKisADLLcp5tJU5jUuusO0lu2qkSILyUqVXseEy2c1VKU1rYA+ptLBuFHUrmPN8Z8uvpfll1J4N1YSkx1CCuvq9ys+x6TMk6i66EqVLjV0arbUHDYyZEYPSUrb299XHhQq6NuNq0CHBBuKZZbkuyLC3UgoiXEGUieG2fE1RpbUySFetXeV3depsFuW/7syqHLaabPCJcnjlS1WdlsCpqW6lcLXtkeBVYyXNRdbdKzKmJjxongs5Pun6ko8YxtqnynUswIQqNxsWQXZDT1hFT4K3X7O7C0OKsWeyahx2IdWSU1qAfqXV+G2teXDxkPrkqUxNQ2gp7lynZB7WjEhw4CC4cmXo8RCE5Xz25CinumpQ02S7jVBGmJ/vRrUwYVm8w603ZxikKazcl+/QOY6odcsylJfVrVDXRJCJBk1zEaNJW+h3xm//ANJdQrySr067yu7r07uUuNHLYMlSWnAlSzYICfiGXLJXa8pLsOtQEowXnirV3GG4JLYLZsWEO8MJMjXIQZXLdRr0itZjhx1KbFlPkM3th9+SVxzUVPvSQ287rtNCgRXWxKp2m4bQY8TxUf8A6Cgr4H6aayXIj6AqzZUxGMIuw4jiSrxXY8cMgKSowfHBW5JdrWGeSpx14xQRFZi2k5pXbLTXzY62gM3h1MItSGEt3ARUJQk++vrYKRkCD73M7FGNTxltMkpn1xbBeadRGs7eMIzkqLrd9WyUyG7SvkKditlz067yu7r09riPPORnkO3SXpD5cYXFhqV2hbjba0J8NBdqVLH4pT8KMyOF49ZTGeG4grrYPLSJTfiR5Ecp5kzRDv1Q28sbgreZQ0qbJdkNpT265WJeeQ8vGqaOhRdQbBqdXBT0d6XW3VukOxrGii7DTyh71MSQoAj6VR7QSctrtxKHUx88ZVo8t0uph9qe5OLckDkNiCmU4sLVgDSgO4PRWHCShSjWpb8J1ENqO8AEo3evntqSomG0HWkg41AUiIVAUDSxLWvGQrwsspKUMK7sqLZgrWO+Lcw5TnhNLhu+GspJ9Ku8ru69KZMaiNlSs2S/f7A2S1EWvhRcU0qNzhlSu4BOVyXAOXguOwsHuS5BQhXeSEVKn0qbR7kXI6yxlq1LauF++piRC662ebKMtmOPLVm1NtoGEqSEk5dTENJ7ua+0jIi93fGnMTEnwVwHeUhCj9JIHDSssSClYx1qQ1YOqYSxZKQgdpatisH8CbN8khsGTIdcAOGO58SY9cFfjORmAwOVGylshlxKww9FfdLjav2whDQQjNajuPvF7HHPDbObNa+FEkAqrDazHP7oapcSkSHZSom1x5CwgmosES2fI+jXeV3deldkdo5zZEJdjqytkyGUoS8E2oHktC7JsoBDf7UfUjgIbdff58ww6o9pUxWlABBb4YQOVbNIhFgLcFe4yw4HO+XZofQGkZrkZbccLWJ0jwmFHN0tiGUgLqTczCEJTXWMGkYCC7A2OM+tK21R3kPtJWk/RzSlEdZJfUF8482G5BcShukhTEB1o2FWzGhtpSlHa2oFIU5Ha81GKpl9sFtRl8rDTSSVNNKW6vZ7tEFhQ7oUywblh1ppVomQEBSdcuPdGks8z9lWw0Voa2Keu1cYZZSl+LVx0gLgvGY4qQ8qynf9RjJZVpTZDoV4vo13ld3XpX7gBSObBtC2lcphRY7x92fSzrTSHUkmxhNsyVgYx4ZBQpLamELQO8JbR/aKxEpb54aEx0stgFW33aSTEQaW6eYBbkNsyw9JSW3Kq9SYwHFnszKSI7jM0/ta4IUl+wRXtFtlyLwWlSJBqJzjt8pppzVvEbhkPOfR3jxbhuIBcnBkkEsxFTGg93RhIp5KQtdgUzIXejI9Q+7wSLCtjxmlyZixtPhS1txk09vD7y4XlyzK/wBU3TZU592a65Kkv104NhqSluSwZSTHvFn8IbTsXgrCV4qc54632MkrelOBtSuFwmEAFT5kSlOZ09cD8Nh30q7yu7r0tglEyvImWl8pZGPVUtSeUCosSpPgPm5jKXJHaEVMnwy4ctGoVOguyXImziY2GXFw7BpuIOxU1MqWy4mMZGpya4LmTGIVgklyOpuX4da6JJEe/CwDjl+y+y406pqe80hTbeNJdnTEHJUlUdlTasp3+ywZfOa0Uphhf0mzMOO/iTjdbPmze1SDWJUyGAbNstRi2BTWoCi2opnRpA/NY00fYYb8Z5x7peGAVRJE7Tthj89jUNm/qpSEPpY2KS443EQ5D1OLM5dsI2xasqmeW6hyUtSlKbYcTHbSR3KK0JQlJxqSyg+QtJq1N9gxt51LHAHTNrjWYrvpV3ld3Xoq/KrNiTIaLiuyhrZDq1SpCXIjyXQ+HZ0gRZaVpyBYsOsoW4HHGgnuSrZtFdvXW5KJ8nRbiCj+yyTC2SIeEsUt5aNBQlJiWsq8cVHbRJ6fQHYDzrQn1kiEtUeapxT7ywEBhhCVg8uFrnzLD7DXm3lnNW66lOMvq8VhKU0rPgV0UfSXTaxBdKRVONSEeQCUZIhtOD8sqgjLUVjLSLYVYU42dLuoq4T5ly/foS/ySV+C6PI71bBdm2xHMB5bchL/ABrG4qsE+FKG6yqu3o3yxJa8kqVj7wR+LubeW6AVFbiwoqSX3OQFqW2+fCICOmfylC9Ku8ru69K8W23YtIcEdpAR5AsIWOMm0seQlSFNvUUhhKjHel3M2GtDDuRHW3IjB8R0oI8zYIYbYcfWLO0U/NmBGavdmif95LdbexJ8REhw9T4gblMy2lJPYlIxcksL+PiKWkrOJfcb8gXHO1zlS47yVux0pFYeK+J9IoBSSDke0fpdps2JK2JIcAUFJdSB8e9tzuSTJZJ7gvL2RAaXKaaYbnzWeA3IhzbuPFL5nRUS7Cc64oL0K0XAanMZqmlrfkonzF7hoguWUO1eWceTSy3IktCnitXccMtaeQC1KdxxX8VJipdmyGY6E6VCFfQxY3pV3ld3XpdQ2nm6F+RGRrd6LCAyCpDgIxa0gY+hKkd6c2eHFer1vTEWNkWVtmBLh7Lel1LTUm72O7FWtiUumrZFgpDaGpesXFY+G342pac61FdNq7uWnXcOQ6/GS5LShJSD4vmScM5XAGIklae0o70JWCRQRXbW1YabRBT4cSOn6Q5v6FCzcWnIG12FeOG1t9R5Th5cYj9Q4pTw5k3qMHHC0sSLNE1iShjOxxntU4jTbKpfV2SzvaKMR2na9et3GzohsICWLu1Rwl2DI2tuAAqcxeTtK2uOWnZVrr6I81bUBxFHKWQjw2tafSAXEx9YbfSkPuU+sxK+Ql7v1pZXE9Ku8ru69LcAFUzwONWcqqsJCmHGOoxjNgSGI/UGI6od4+3EBporSbjcIdtGKVKt1pdUyppqreaYlhTuVFJr9vBQ5LRaqd1q9SiqXG2iRMQlMypZ2JgpAMNWxUr6FsSXdu0almBc2pmrr5KHFI4TVSV/lQ1SSUkHGdRekqCi9qtEioc8ZZqyVxm1H6Q5vFnHRbuo4ejVtghb7Dr9VKZUlyMrh8Bxa2PEV8VoEx1rjsC7R50AKHvToV3tlU2QTy67B2a0g+TT+s75MkTmo0hE8Rp8ENPMxKasTYvQlRZcGsCQ1Hzwo8dwcsy+91XkIbQ8YKUmRIaYbWU5prLiqdhbifRrvK7uvS3BaG6Z5Sy8uulyZTLipNHKSrtQ4sutBaHmnXkISngeI1+bGrctkghyc08tS1JYvbOKnsYkouZaXxILlf1EnRwEODUdnh3h48LcdfrLBgvJZq9erpMcOtOP0sZp7tYSwxXRyoBLyFd/cEVzTau9RU5KS0Wu1VekpiMfSH4ZviCjZbDO5xPJGR7edE8mnYl4ppbhkJes6h9t5oMg1zjkNKRPg1zf9qwpmvr3paWQVa5HUpREidFTBkrbC9bCjbsEFpxYjMJyeyXLeKEibTOoeSuAglL6XGlLcbQVBTLc+4qoMQJkqj3Ll7eQYjIispYYQ2PSrvK7uvS6jcr1iYE4tawonBYSUFJ8R7YXX2C0thEunmNgSMejVL70ZaHmKqLLTJJdZqEe9qYW8zQ+8xlPMqc1uWhClnOO0EHOm7jqX3CMcdLq1IIgQkvOz46Fe7SYTriQwttC1ocDjTTQfA7bWZVQUhSpGlSvtHtLY7EgJAA+l6jMhvYXlY8SzyUY32vrAWHUoSopSvhXHw8xnergDlKlD/Wp1z/yLWVHzOsJBsEEqgyCppoKyVIaYcMo4vqFBQ2vux7d/BcdXEjztmtZoJOOPvOq5WvpTVGwvC6fTrvK7uvS3lvxdelpxbXK3By66gHtWgMFaC4kqBBzng4l51H5XDJeU4XO9ufMbSUofXZziCC+pZJJ50Ja2CF4y8lXcrFzY1O0645lntNSqIpsuL3OuiMiO3Hm7hPeBDBemyZSyp5zozVr4dsPpurUEtTosgJWx3jFII8k48OD5Z3LB/N4is71DA4pXlim3OByClQPnlUpaJrJSalzvYayxCl+Ikm4rGYkzxEiR4bXBS20jx0+RcjBv4norE4Ni+fTrvK7uvS2COJVa+2cmMqanzGgHmPPk4vu7SM71pJ4wOr/AI54nP8AAOgfwC+7zAXz/IZpUlxMrsJaUCySM2CMuyiraJ9yCHXGpCnEsNqIGKYW4nySpjszpXF8DVo6vpusMUOV8RYxoq7vLHnO1Sk8u/lzjCPLkexJBUkHFtKUlB5dju9/whxnWnm1kUrTfuLBIdYbecdCcvYbbUZTqkSn2XlAlMVLQR4iRKPkTnSaEiJQokenXeV3deksBSSCNtYMXYrEAOnljjtdWFEAY5+bOP4c+aTx7IQ5dxxpYKvwhtajwE6kgiwaQcbjpSzwF2MTuilXNvFZiyg44p1tpbpPehtLTXBV2eJKZbzTYIr6KKz9N1Ojl+mWQGieQQZCh4v4sVwpJ4xPmABi0KR5EE58cZlIcbSlRZUFLHCisOu9qM1h3mEhvEKDanF5cNNPtL7Mm+CyHUoQ2soaTwXFd6kg5o7Aj61WgD0q7yu7r0+ozRZvnVYtaiwQQnjzILo8wc4/lh/+4TkNzwpCV4VgnuSphKD3KXlK8v8AaLDjeMrDsQKGLSj3TwjmywUODlZltMt9iEYp7jhKsqWxIuIKMhJ8GK02PptsiIl081vJDZa7kJU+lX+rG/NBGJBB8it4qJ7h7G1FKvLEuueJwlSXVNI5J1pSv2e0tOcq5WFKdSjhSRl824xYOoJ72kNAcRI5lTIzWa8x7vTwWfTrvK7uvT6uV6kS4chIecWCUAHyXj4JSk424Wwo8LUk+YJzk408oIOMSnVAoyrf4nR28jOqRFShIfUt1nzNwz4kJ5IxxSlvdig52IIHdp0NyVsULsSn4D6a0Y8aBIbAvYyodnKYOPhRIJxvy5GKH4jnHOdowpH8M7TiSUHnDJbUjgjTJXvFZ28yPMDPC7kHNkgK94Q9wsht9XiCndLtvDOU6gmtjenXeV3den1fiFcCO6gFXBPIWDzi/NsYPh5ntzs/+kZ5gZGcCFDnIb6Gp8ZwKiu98VlwY8tfcUhUltRaVxlhFLEqQopZKQorcPTZffsKfp1DlJGdRIZibPKQcd5588aSe8849HfaUVFHA+PJ9hPkcA5GceXHHT13liQglwBRAGdoHwNhHaLTpWZ5Di3F8UZ7bWJlOv8A6ZGA9Ou8ru69PqFE95oJYAVynk8LJ8+M4KmuQAec4P8AH2k+YwjzxHCFoUMol+LUxScUjuWeMcQfDKQL+E22yuU4HmghY4zpmQL5H1HV2MW7hEntKe485wpJxD7q2ygkx1AKX29p/lxyeBlXRCVHddfxmlYZcUF5JpWlrIazSorsR6WheKQoFKsLZSoA5YpAJTxbttsynkpTUKCbGMo5RHvrIavTrvK7uvTv2ErppyOJrfgyH2jhSQOeGX/C8+2V4boC0NqQUgc5xgSSeBn7Allhp7GKIrb5Up+sfaBKRqylqp4vOBKuVJAIUpKhl20JMdxsqkI7f49OFgX7OD6frKyDCYdwq4HOctmNzkQnxOMMVh1ntbx+AfFUEpZhJacCnQz4Co6SzgQV8cp8NJ44FG2EuOnlCQ6gJWXWu08HJKOEnkbS2G5xUkViSZrAzXSf2PBB9Ou8ru69OShK47qVDa44j7BObATwpQTktpLKgBkBhMpSQRNrQPMD3VR/hT1jbjyCsujtSkEhhPxSSwClQAo0BuI1wC0oq8RAWggEjLCM2pDnAnJKHnEZoSim+iEYk8pB+n6woBp0Ygd6SM5Wy4pOMKUl0EBhPj9vhuutyGADnL/b/g1sx1pZZW0XwPiQpDnnlVH7GlvIWqW17uhPKpawg/ifsEuJKedmaD0UOhOsxffLiIxzTRTHgx2ifSrvK7uvTc/IrN9SUbPN5DwUkBScW94qB3ZXu8Dju8WWoFK2vFbH+lT7aVJcCo8pmQylXcVpI4JPiKH4TWl1ptlDuPSSy4PDU7NR+bibJQv/AFbDGDE0qTnTuI7IuELbS1z2Dn6frAnmqbzvIPKSpXeSo4hXavkZDCHeCCWh2lJLipDYBQrxXz5qXHcC2+SXJJcKUpyKrwUJCVK5I4S5LlOR2C2Vh5wEKJlvMyYC2lDQWArY43ORiPCRx6dd5Xd16bv+GrN/7jsswqzxvwFJSU9oORCkntVkb3hKQOXUcrDq0qfZ8+6LGkeCrhCORyCssPKdkJbQUSHC0hJx2Q+gjysbDtSlAxuYVEBebQwhTbbyD0gj/wB7kuYPp+sjhRWsgYTnPB5xR4HOV8xSVpQcQ/5fgLwWsHtIBONoe/gAHGVckSr9TaEthtV1IKuUlN287+fGZai0oqybLfUntzRFPIt21tpre4w2SselXeV3dem7/hrzf3e/Y5gwq8s7uRjbgbcBOQZAcQRytaSj4POErB47iD54ZCy2EAwpKGXgtapGwMsKPhOp2xaVELLls08rvJXKQlCVnLCzW6ktJzpXKQwtaTifgPp+s5QK1nCefPCcJ/DlWuOkOB4zX0x0hbDip7xH4SqS5x3d5mSuPJ1NhIH5lKeLygTiyUqxDwbUD2sS1HzUiU6V50mrxMnqcJbSEISkenXeV3dem9/hLzeh27LNwnAeTi+AeciRC0y0ptTlj2EoXjlp3/hKf2mtv4oF6pPCfBVZocSeQpfepSsCufI5HdaQeVrTIbWjzVJWO48DpTVFccSFI+n6zwfE1wPhKfyYfLOQU5/PCrywLwq5znCcQfPHPPIjIcV3qwRh2BYySR3kJzorEURKk+pXeV3dem4O5ChnUNhyNt09pZXg+OL+POIlyWxwl110urLjmAj44Vc5yMPGNnyw/myLG8XlRwMFIPk4eVEZ0oY7KBhax9PstQi1qX4ihbRm4Ux5hvCcH5c/jh+Ps8/YlBUeMWz4QSTkZLZC/ExsNuJ7Wg+6hLXZys/wGdFpiF1cmNx6dd5Xd16nV3W1/tQWjQV/EYR5jFew+fs5znEpUs8DAkp8sbhh1CVctthCm0AznVdoAz8PiJ5zRm4yNcrQyfp1DkEZ1CgGBskpAQcQfLAT54cPsSkqxAKFA486HEpTgUQDkGQGD+PH3wpalAhzuPGdH7ER7BcT1K7yu7r1OqMAStbf7MUfM4T8MWfw85z7ef8A4PPIvaD5h7tLqiMW+oNgDGHU+7KUcdfK/iQQo+WdLZyHNfjt931HW2F2W0GQ2g4g4fInOcHJPAxtgk+Y8AIR3cchXPOJPsWUcZwlWJbH8M0GWuFscEpLKu5pCvTrvK7uvUvoKbGukR1ia34MuS0AcV5pwHOc+OJaK+MLQbHnhJA5GA84B3fHFd6PIKUFHGgoHOjdiOZcZX1Oz61B2GA7GkDadddorSTEKQO04fj5ZxiD2q5yGWFBKubBzzAQlxKmlcKSg8k4s+WcZyRlNXybJ1LDDWrdM3mJLE2WWkeG2lHp13ld3XqKHckpzqJoMuplPWEVtSVA8HD+T2HIyA4e04zCR2kqMztKuwYfy/FGKUUngYSTgUP45GhqfKUtjpfQ2kGwckOsfU7Hp1XftLMhjZOmtrTvLLKHobzCylxotKwoIwFSTynA8sfHFqccPKsQkjnyKFL8gI9ROkH+zjxtGu5Ce4ROm+kSayUZkxAAHqV3ld3Xq3VSxaVz8N4bd05sqVa32EOMOo5Ck9pGcYnlKgQW7F0J7VYHmgtTikrPJJSEfDFAlWJbUoHyRDeUQQ30v1Rh2IZk6MzGZYQEto+qIB8iHteoJCu56n+y2s/oP2V1j9A+yur/AKB9ldX/AED7K6v+gfZbWP0AavrI+FC1UVLH+DXBCAOAngeqG20rU4lHqrbbdSUOIXrOtuHldH9ldX/QPspq/wDx/wCymrf8f+yerf8AH/snq3/H/spq3/H/ALKav/x/7Kav+gDVtZHwoRruvp+FMywxHR2Mter/AP/EACkRAAICAQQCAQMEAwAAAAAAAAABAhEDECEwMRJBIBMiQAQyQmFQUmD/2gAIAQMBAT8A/wAVWtaVpWtaUV+Uz0LRD0YhHsZ64/RZYxFi0fAzsRYh6MQu9Hwo9jPWrEbC0fBZYjb4WX8L4/WrFotH/wA1uSlWwla/CbaVtCfkU1+AuxTwwxNVc5H03/Ls6Jbb+h58cXXsjLyV82GWKL8snoyL6knJftYoqI7fRLLCH7iGVT65UrKa2oUa7I/Qrebs8cPaZnlH/UyYPNpxVMhFwik+VRa3PH2Y1i/lOjxwS6ZkcIxaoyQjku4n6bDLGm31y4lch1RJOyMb7opX2ZG1J77EsmSWRJCzPzUJLkW7Qkkif9CTv0OKXRltRVMzZZRVIjmnjgnLcjJSimuSFJFjdkp+Ip2x43NocMMHFVuZ8EFlUxS44VdljZJ0PJZTlEhhxqDlMyYceXBsKsaURO+JK2kZFS2PKZ9SfQ1JoUZIx5XFtMfdmZ+TR7FxV9g5TTPqTRcpChKxTcWiUvPccqxuIuiPEnTJSbGeVHmn7PLYuxyb0qhcTntQ2WeaIy/scrFKlWjRHjlk3o8tjJ0Q8nNC2QhChZNULrinLxFOyTJuVmJOke9ErJR8SPHKO96WvZaRF+Q14NV7Jrxa8fYlNoaXvvjyRs6LXs+wUvQ47WRXlDyIymxp/wAhJLrjk/R4pjgeBGFEtiMfJdn3L2J2+NuirHjPAWMqkLd0tkVKPscn7F1xy7+CMnRjdEnaId8cuhfB9EX9x5Wh98khaon0IfRHjfx9HsR75JdC1sbsvahMXIhaWOQhPflq9b0aKEyPb5Gq0utGtEy+TH+4lVvXfWtyPJlik0PSzvRoXrkTofeiRQ1pQuSbbGUUNFDI8r+a5H1olo9VzVpvesYqRJJOlysQ2J3otx4/FX+BRRRdfgNWUULYbb+f/8QAKBEAAgIBBAEEAgIDAAAAAAAAAAECEQMSITAxEAQTIEEiQAUyUXGA/9oACAECAQE/AP8AhiyMWzZMaV7foWhKxrSOmtv0H0RjvY56SSciMZixSY1pdc1WJ6USk5CjJEccpE4OPK3Rrtt2RlJ7mqV7kVYorsWXQmLJ7ly5ZzV6UzW7pGuRHcUUyD0mbPryaOXM3pIKWrdiloQ8y+0RyWtjG7h3uNQUVb7HjSg5I345OkyetzshsrHlr6IZYsxyuVMhFO7fQ8cJzWnv/I002uSTcj25EYSfYsCa3PbjFbEckY3H7Mr9VPJNqVRR/GZM08eSOW3vsSg+OcndDhJijL7I4WyGCES1B2z1uXM3FYX2YMvqsfq4RbuL7NLabXVjVcUnUWzDcmKKIxSJUSnDonhU6aMnp9cdJ6bH7EKG9h98TleRkYqkRghpUOUIkorImexpMHptGTWxSsnxNWqIQUCJ/o0z+1sLGpSFcbQo19lq0Sdj4ljSdi8PUTjbFFwoat2LZUWqolxqOwken06tzM8UYMq22h34vkirKIVqVkYYlBNmbRKf4jcumWWJj472XhNobk2b+KGkXtxwdJlm48k6PyFb7GijofGt0J0WzVRqsjuS/EuxquNC2NRqNRF7jQ5/RQ+NeWrRujC7ZkOmN8a7+DTRGW4/6jE+RfBqzGhkh8a+DEtxdE+VeLZafiPfiQ+W/h9ElzLxp8R78SQ1yJ2JGmyvCWxJDXIxdC8WJmobJckT78pikOQ/1HyJUPxfwfKr+b5L3+b5bYvH15cmhNvvlTvwvLdGu9uayyyyyuZOixMsse4lXz//xAA9EAACAQIDBAgDBQcFAQEAAAABAgADERIhMQQQMEETIjJAQlFhsSBEcQVDcpOUFCNSgZGSsjNQYGKhU+H/2gAIAQEACj8A/wBmwjZhTOK+vSX9rf8ADvDs3s//AA7w7N7P/tqdNs9LEgYXE2P8qbH+VNkNPmBTmaEJUUi1mg6Shs71FvpdRebH+VNj/Kmx/lSiP2cJg6NcOsoFa9FnfGl5sf5U2P8AKmx/lQYnpI5+pF4tX7QHIi6rKCfgSbO/40nQ7d/892zGhSCWxpNj/Kmx/lQUdrc2BGSNu2XodmrlExU5sf5U2P8AKmzikEv1Et8Ph2b2fhU6TWvYkCUnc6AMN9Om48JIBlL+4Sl/cJSv+ISmjjkWEpf3CUv7hKX9wimiRcPytKX9wlL+4Sl/cItVFNiVN85TpPYHCSBKX9wlG583EpVLfwMG9uP8vu2Y1KuxU8T4BiJIlqFYY0EPQ1UzWfJ1f8d1CpVZXu7ICTnNl/KWUqAe2IIoW9vO0+WeLVpO7BkYXBymy/lLNl/LWC+A06K3tiMapWr1ALsbkljKNau9MNUNVA5xSjs20UOuOipgY5hq0KkCtXoJUZfItOVP2lKug2S4FRQ0p7NU2YFytNAMcKsrAgjIia0U9p800o1nFQ5ugM2X8pZRotzZEAPw+HZvZ+Dkqkn6CXpUz0VL8AhRRtCBz/1Jzl0dQwPod3ggeuylgC2HJYn5oiWVwf8AVEVqLAWJqAQUhXJCWcNpL1azhEBNrkyn+aJgr0NlKuAbwxDSrIHQ9KNDE/NEFOq+04wA2KfJ0oHrlC9i2HJZhpDUq+KAI5AqK2YIl6dVAw43y+6ka9DY0D0+dwI42emMNJTrClarlSB/hnydX/HciV6YbGspl3YKo3fLPBToUnYux/DKUWsKJAcjkTMxtkuOmB/pu+6b2n3je8zpO1MfRJyp+0VB+yQVK+1AouEwkk6CZCgh/qJ800SlUNQkAylA9CqLow5j4fDs3s/BFyhRF/jJhp9MKhDfQXl2oVWpk+qmY61PErbvBPuKvweKrPm6c5CfdHd8nS/x3/J0p8tVgCfs7XMyvDltLBON8vupEV6K1QmE841AnsVFiulXJKs12Kr/AI7lNGsCVi4KVdHP0B3fLPAa1YkLFgBruhSZHa54933Te0+8b3mtepOVP2hqVaaY3AYLlCK1FyjqTexE6XaqTkCjyTd800UoptFlq1Cnhf4fDs3s/B/erUNaAimTTpQCjthLj8fOfuKlE1N3ggFZFZQfxQTE1KuEXd4qs+bpzkJ90dwFOjTCL9BBmwmbIpP8xPk6Ud6Youlk1u0NLZ6yFapeM7VHAyE/00Fz5njfL7vkqUXpjtSRul6dLYddZ8hU/wAN3hf33/LPPG3tvLDZq5qPLCnWQn6XzgK1aYdbeRiqopNqbTtOSP5mWFWitVh6sJyp+0+Tl6e3OWP44U2eupQgmy4jLgi4M+aafeH4/Ds3s/AyAmOiatkj1C1Q1GaNRfZ8VvXFOtSqA284LvSVj/MXnggq0GpVCVMpRaKVGxMBu8VWfN05yE+6O6malXZabufUiUriZKABPk6UqU6Zou96et1jmgwvRdtWEpDpUxUiRmX4/wAvuWmlGkKaG3IR67KLCwsIKeyUKnZfV5psVX/HcEoUQQosIJj6AU8E+WeeNvbfdaiFZjov1qdRYm1UUULTR+pgAgo7MGxCikH7BQqWqBrgkwKiABQOQE5U/afJz99sQNVDLEGHHQVadQeRAnzTQIjG5ygmOkE+Hw7N7PwOiqdAwptexxQ4q9TrNNp/vlfpVpkpdoQ9Jyp5aGE1NkYUi51aeCfcVfg8VWfN05yE+6O7ZVddkpAg1VuDhmx/mrKdZAbFqbBgD/KfJ0p8tVmeyIQV/wCkam9OopxKbG0BR0ByPGFWhVGF0OhEoShKNKBR5AWganUUo6nmDkRKEoShE2YVbY8PO0TaHprhQtyEpUa9I3WoPgSop1uAY9AkkkU4a5XnViovkotupVq9S2J2lPZ3dcLMvMQNTqKVZTzBlCJs9Oo2JlXmZSq16rYnc8zKEoSnQq2sWX4fDs3s/AD7N26v4oEQUbU/xbwdmfDaYdjr/wCcD0ikCUFpVAT8AqGiaheAU6W0IzG85CXqVEIUQQQTBUfasYgej+zU0gSiKFRZ1K9IoYpUMbENCgNQuh/2/wAOzez/APDvDs3s/wDw7w7N7P8A71eKjRT9D3Lw7N7P3MFRqbxVEB/2LIQwAQkyxMNocSDPuPh2b2fuBJhAM6vkJqDLZ6Q4L5iajv4UGCFKY0tzl/WXgULe5hGE3uJlaHqHTznRMdbwXgPG8Ozez8YYgbETE50EbETe0yEvaBQxsFhu+VobgXtCwbIjymH0O6475kCZcQiiO0x0AiEk6Awv/wB5bGLmHBbnFpjyENY1DYMOUNRahGg0ig2BMurmxHG8Ozez8bNnhx63gpr4cR5QVGTyMKU2hIGYAgxA3zgCgaQhk+85GE0gDdzpFFpdVFx3zJGtCqDWEYicJhWqG5mYmvfGITShxegjYxklxaJ+z4uzqYoBGWUyXIy60iDxvDs3s/F0EudYemLrYekNlpWYCAqMyCc4UqJkLTT0jGp6CZuLktEaq/ZtFRRmSISTpL4+9g1GGQluYvzM6npLZRaFTzEZzCQOUVmH8UWmnmBYQVTzJ0mBbZeULmq1/pNAON4dm9n4lgJdBkYDUIzEJsIoQixvOix6qDCwnSSm7+oBgpUhFLLox1hXEIWNHn5wDvQvoBDU62sso5S1a4sRERBqH1Igx+K0eo/KMES5w+cqux0yg2am3IiKxfPHKYI1UnSBtr8R8+P4dm9n4md8yIQ55zWdQjMWlLC/Iai8uvkDHNQDtRqgqaASoah5kREXXBEpNTyLSnV2UHrgamXRRdvQzme89kEwnkBymV85ZTlLsczedTmZczUWELoTcASmtKl2ABnLiDpEBhCtqbw49VlxV3A8Tw7N7Pw7GopEJzvcwX5CFUBuLQXAmCxylzaAVIaldFuAdJTSsSR1RAB5zqVDnaFDfKX6TJvrMVjeCX7vZmRgD9RMVUG5aZX0gb0mE+ULiNc841RPWYb6Awh3cBmEGMkG984WxjUzlyhUotsowNND0aaC8qUKoJJZTKtUKblSSQZ1guY9eH4dm9n4eFKVy4lluBaAtMzq0BMLEeUdAsYVP4oCCljGWiM7EwqMPIzs6ky4VjlCLm+HleNUqO+Y8hKlDCLFQTG2mixAOLl3cgoDcwipfO8vaNCQNbwW8oizHUvqIFE6XZsXVA5S3pLgLDcndoDaDFLvMm4fh2b2fhZCYadQkCXQ6bjaXvpBeJghJAgWphOGfvf4hu15jfY3gCjWYhMx3XlNbzq+UueYMH1tBuOe8MAszU6TVbNMpylrAwgE6z9+c7QK18oC3PheHZvZ+Hmt8MIXzMVh5xRABDGhvNBFDYu1LqYCL2G7SWJaMKB1mKoRmpguNRLgjumglxnBADzAgUg5m0BEC3gawl/US7EZCDpHyCx3uc1ENFzkQYFUDtnnBWQ81OYhszXYCKhAztMQGSgwqFqgMRCyspNuF4dm9n4d9YANQYGSAKDkNyjOAiES7EZmYjKj0ydfKWQEG0CAZAExgTo3KXop/SAG2QExOwvcwrTZZjtp3SxYS8UBpipsb5S5tMKwlKY0hWiMoPoYM+yYlULmFi0h5gQM1LMxgsYDyhXGYTcwDK5mSteeEjheHZvZ+F1VWXZjaDEJZwbQm5mE8ozVbFlEwKOzFZz5QdIVOsNVn5gxEW+hGc6lTS0bKXJFlgAOpOs0M6oFpYYrCaqD3TJRMNIPe8KqBqISyjKDqjMGAGOq6XQyofxzGBzBjqrnQmLjvaBnYZsJh2ZnMHRg6jWEsdL7rtNYBlM2LcLw7N7PweUZmJyEK/wqY2HmksDqYpuNYCI9Pq9kLDWAm0oR5XjXp2uWygqJbMX0jptFrgkQAU81DRaa25TEecAgv5wkXzzgAxia0UP/AJ3Qs1tBAGTJhuBMwEnVRaPVpDyiK5qZB2lJ/owizKkCDaZqb5xaZXTOUhVoA3QkXMz8p1uQlpmISYcxqZzfheHZvZ+F1SJly3AzIDJYyOXA9Ipbo1vnLwYUFzeWRqhtaFwRa0wIdQYDSrHIgy5lyd2suTD/AKgzn3FP/HutqFauejgIOm4QdFbMGOt2NmWVBnYZmNhC3I1MLOz84rBs2TmJanTNsAJi0atMG40xQiqna8vh7TACdm/C8Ozez8K9VChWDpkUB135wAqRhI1lVbCxW8Zj6xP3ku1QjP1MYA6GOVq6UiY9bYQSUF+wJmJnvOUyDXNp2aSD+g7rpWaB8PJoBAGEXomEyYmw5wjOJY8miU9oXs4IlUW5xB+GGkvM2iU3OeNRnGrURo0OKMDGQ3hIFit5lfheHZvZ+GUGPSM3qDCB6mBstMUwEHs3ii654ZytnKbsPMiCrSap/pjlGqgR0tEQMLFXIE2aiFGdMEQsAxFwIf6Q3+kUZXsRFL5gTwjuuIpXbEIKT81hrIMzaHO/LSGw5wix5QkCGmfQx38rmPaFsXMmI61ads+V4EdMwxGREph78oXe98VotMeXOErzZprp/wDkKlrk34Xh2b2fhWEsxbqNFZbXU3hxE5G0IbmJzmXLKZnS0ZRCat73MBH0nWBsbiFKlM3YrHNPQ3aKVw53MLNaxgRfMw3HOXZnAn3anuutVjDLCYw7XMKBl6v4pana1WHCXAEHRmnfFfnEyPnAy8iJpM2AnWA65irfNy0Jek3Xw5QkgatAXA0WWodOth6XllQADheHZvZ+FoBDe8bq+sp3/i5wI6jlzgVWFmEFPo2IX1lgExXhuGtYzRbzrAzV5fLrQpRL5FYzUl+9cxUQjkIagJ1OkRSo7AgFGkha3LKZAd17bmX9Jh9Ze28kQiN/WEmWl8IEGQzilwSLRCahzmAf9YzH1MyogNw/Ds3s/C8MzVjM/MQWG8iHH5xgDyjW03ZYpmwmre8zqLyMZypyMNJTC5MyzTu2Tky8sOfAIzmiidWB6dTO3kZbKW3clA4fh2b2fhaoZ2arDdYfEd3UxTllLX0+ojYkNpzy35u7927DmZ2mZPxWIGUvec4blBeXynYbSN1YbHdnWXh+HZvZ+FcSwasxE56/FceUvfSG8tieDIQ9rUTNhcXgsTkJeduoB/UzRAe7di535brb81FhLwhfP1l8KjOCYrjODECQZeama0FPD8Ozez8Ptsfjy5wZ5wD1gADZzUTMmdm+cJN8ju1rp7zRQO7aUWMzDfBc/AZmTLXUTI7smYzryxZxOxRUcPw7N7Pw8mxTLeMxb4NJkZYkzK0tLnCZbCZcmXC1VY937VJh/US2B5nwDedgAbtJcGZjlMsYmeAcPw7N7Pw8qRMvfgg2cTJlmUyZTCDeX7xqJ2gp3aw4fP49DvuQCRBixT7wTWmM+H4dm9n4d8FItwtDPBuzgJORmvecmUDfdZlvw/wTFbTdllbdkZcMDLTIVBMuhXh+HZvZ+HctRcf+TRzuHqDMBme/tC9p1vKEgTwzOZiWtL2niHeNKm67e0y5fWXIAA/FuyEJFur+KH0lhygsdJbcJk08YmlFeH4dm9n4dwVIlhj3fWW5/wAhMrEj0G5db5wEHIAcgIAOUFjnLC2ky3ZkTMNPGveNKo3E31G403GQHmTzmNdAfOFhCMXZvyg+gOkCg6Zy+I5jylmEuszEzBlsTy4RAL8Pw7N7Pw+W7OdYazCSdfQQFDmT/wBRLHn9JYgy7EZjygWZk/8AssecBFpbzmRmTCXwMpPePvBLTPdY9kQkA2X6+csoyAgJ5Tr85a5zMzYCDFLsd3Xmjzlw/Ds3s/D5btd91ObX5ARetmVtp6QXmEOf6Qw25zEwhJnWtnMpewnId41qD4MxpAVK2F/KAiZzlnLwXAtLS5mZGQlpiOKWYoL8Pw7N7Pw+U5jflzlxq34ROvq0+u69ph891xCSc5mZ1Zm5XvH3g+ABmyBMxKerYQiG8YQnfff2Hmg4fh2b2fh8p4vgJNsTSzA5wE+cBi2gB35ify3ZWB7wcaV04nVEGGZTIVOJ4dm9n4eon8J+A2Mux4FrbsmQd4vjUw9RyDwdZ1fPdnbPcLitxPDs3s/EyqABzw8pkN2VxeZdAvecKuSw4Oky8t2RO7/VPE8Ozez8SxpWec+DlLWM6wF9+JqaAd56pokE8bV5qOH4dm9n4l1ZCDOzVYf0PDy38h3m2JbBgMxGwI5CMeY+EX5iZE8pb4S7nkI1NkN8M0FuH4dm9n4mojPsrXd2/h+HOWsN2nwkkxlpMozPekD2OF+cavS5FFjIQeYtvIhO8mVGHoplQD1UzwkAEcXw7N7PxQUqrhN4a1EsbYBCp32Il4CTLA/Ax/lAWx9XGIEUch3sGbBUPm+z029xPsz9LSn2Z+lpT7M/S0p9mfpaU+zP0tKfZn6WlPs39LSmy0/w0lEAH04yh2tiYDM20vxldTqGFxPs5j67NTM+zP0lKfZf6SlPsv8ASUp9l/pKU+y/0lKfZf6SlPsv9JSn2X+kpT7N/S0psA+mz04lNRyRQo43/9k=)"
      ],
      "metadata": {
        "id": "d3k6aUZxiQaM"
      }
    },
    {
      "cell_type": "markdown",
      "source": [
        "В python есть возможность \"из коробки\" ввалидировать данные. Например, в самом простом варианте можно использовать оператор *assert*."
      ],
      "metadata": {
        "id": "KUiI-oLIm_sx"
      }
    },
    {
      "cell_type": "markdown",
      "source": [
        "Пример с данными: [videogamesales](https://www.kaggle.com/gregorut/videogamesales)"
      ],
      "metadata": {
        "id": "gta-pwCnpCHQ"
      }
    },
    {
      "cell_type": "code",
      "source": [
        "df_sales = pd.read_csv('vgsales.csv.zip', compression='zip')\n",
        "df_sales"
      ],
      "metadata": {
        "colab": {
          "base_uri": "https://localhost:8080/",
          "height": 423
        },
        "id": "g6ICD9lOnuDe",
        "outputId": "0cfd3dcd-42b3-470e-87c4-3c94ee6145ac"
      },
      "execution_count": null,
      "outputs": [
        {
          "output_type": "execute_result",
          "data": {
            "text/html": [
              "\n",
              "  <div id=\"df-f17ee14f-77c8-4dc4-9b78-f10404c1b96d\">\n",
              "    <div class=\"colab-df-container\">\n",
              "      <div>\n",
              "<style scoped>\n",
              "    .dataframe tbody tr th:only-of-type {\n",
              "        vertical-align: middle;\n",
              "    }\n",
              "\n",
              "    .dataframe tbody tr th {\n",
              "        vertical-align: top;\n",
              "    }\n",
              "\n",
              "    .dataframe thead th {\n",
              "        text-align: right;\n",
              "    }\n",
              "</style>\n",
              "<table border=\"1\" class=\"dataframe\">\n",
              "  <thead>\n",
              "    <tr style=\"text-align: right;\">\n",
              "      <th></th>\n",
              "      <th>Rank</th>\n",
              "      <th>Name</th>\n",
              "      <th>Platform</th>\n",
              "      <th>Year</th>\n",
              "      <th>Genre</th>\n",
              "      <th>Publisher</th>\n",
              "      <th>NA_Sales</th>\n",
              "      <th>EU_Sales</th>\n",
              "      <th>JP_Sales</th>\n",
              "      <th>Other_Sales</th>\n",
              "      <th>Global_Sales</th>\n",
              "    </tr>\n",
              "  </thead>\n",
              "  <tbody>\n",
              "    <tr>\n",
              "      <th>0</th>\n",
              "      <td>1</td>\n",
              "      <td>Wii Sports</td>\n",
              "      <td>Wii</td>\n",
              "      <td>2006.0</td>\n",
              "      <td>Sports</td>\n",
              "      <td>Nintendo</td>\n",
              "      <td>41.49</td>\n",
              "      <td>29.02</td>\n",
              "      <td>3.77</td>\n",
              "      <td>8.46</td>\n",
              "      <td>82.74</td>\n",
              "    </tr>\n",
              "    <tr>\n",
              "      <th>1</th>\n",
              "      <td>2</td>\n",
              "      <td>Super Mario Bros.</td>\n",
              "      <td>NES</td>\n",
              "      <td>1985.0</td>\n",
              "      <td>Platform</td>\n",
              "      <td>Nintendo</td>\n",
              "      <td>29.08</td>\n",
              "      <td>3.58</td>\n",
              "      <td>6.81</td>\n",
              "      <td>0.77</td>\n",
              "      <td>40.24</td>\n",
              "    </tr>\n",
              "    <tr>\n",
              "      <th>2</th>\n",
              "      <td>3</td>\n",
              "      <td>Mario Kart Wii</td>\n",
              "      <td>Wii</td>\n",
              "      <td>2008.0</td>\n",
              "      <td>Racing</td>\n",
              "      <td>Nintendo</td>\n",
              "      <td>15.85</td>\n",
              "      <td>12.88</td>\n",
              "      <td>3.79</td>\n",
              "      <td>3.31</td>\n",
              "      <td>35.82</td>\n",
              "    </tr>\n",
              "    <tr>\n",
              "      <th>3</th>\n",
              "      <td>4</td>\n",
              "      <td>Wii Sports Resort</td>\n",
              "      <td>Wii</td>\n",
              "      <td>2009.0</td>\n",
              "      <td>Sports</td>\n",
              "      <td>Nintendo</td>\n",
              "      <td>15.75</td>\n",
              "      <td>11.01</td>\n",
              "      <td>3.28</td>\n",
              "      <td>2.96</td>\n",
              "      <td>33.00</td>\n",
              "    </tr>\n",
              "    <tr>\n",
              "      <th>4</th>\n",
              "      <td>5</td>\n",
              "      <td>Pokemon Red/Pokemon Blue</td>\n",
              "      <td>GB</td>\n",
              "      <td>1996.0</td>\n",
              "      <td>Role-Playing</td>\n",
              "      <td>Nintendo</td>\n",
              "      <td>11.27</td>\n",
              "      <td>8.89</td>\n",
              "      <td>10.22</td>\n",
              "      <td>1.00</td>\n",
              "      <td>31.37</td>\n",
              "    </tr>\n",
              "    <tr>\n",
              "      <th>...</th>\n",
              "      <td>...</td>\n",
              "      <td>...</td>\n",
              "      <td>...</td>\n",
              "      <td>...</td>\n",
              "      <td>...</td>\n",
              "      <td>...</td>\n",
              "      <td>...</td>\n",
              "      <td>...</td>\n",
              "      <td>...</td>\n",
              "      <td>...</td>\n",
              "      <td>...</td>\n",
              "    </tr>\n",
              "    <tr>\n",
              "      <th>16593</th>\n",
              "      <td>16596</td>\n",
              "      <td>Woody Woodpecker in Crazy Castle 5</td>\n",
              "      <td>GBA</td>\n",
              "      <td>2002.0</td>\n",
              "      <td>Platform</td>\n",
              "      <td>Kemco</td>\n",
              "      <td>0.01</td>\n",
              "      <td>0.00</td>\n",
              "      <td>0.00</td>\n",
              "      <td>0.00</td>\n",
              "      <td>0.01</td>\n",
              "    </tr>\n",
              "    <tr>\n",
              "      <th>16594</th>\n",
              "      <td>16597</td>\n",
              "      <td>Men in Black II: Alien Escape</td>\n",
              "      <td>GC</td>\n",
              "      <td>2003.0</td>\n",
              "      <td>Shooter</td>\n",
              "      <td>Infogrames</td>\n",
              "      <td>0.01</td>\n",
              "      <td>0.00</td>\n",
              "      <td>0.00</td>\n",
              "      <td>0.00</td>\n",
              "      <td>0.01</td>\n",
              "    </tr>\n",
              "    <tr>\n",
              "      <th>16595</th>\n",
              "      <td>16598</td>\n",
              "      <td>SCORE International Baja 1000: The Official Game</td>\n",
              "      <td>PS2</td>\n",
              "      <td>2008.0</td>\n",
              "      <td>Racing</td>\n",
              "      <td>Activision</td>\n",
              "      <td>0.00</td>\n",
              "      <td>0.00</td>\n",
              "      <td>0.00</td>\n",
              "      <td>0.00</td>\n",
              "      <td>0.01</td>\n",
              "    </tr>\n",
              "    <tr>\n",
              "      <th>16596</th>\n",
              "      <td>16599</td>\n",
              "      <td>Know How 2</td>\n",
              "      <td>DS</td>\n",
              "      <td>2010.0</td>\n",
              "      <td>Puzzle</td>\n",
              "      <td>7G//AMES</td>\n",
              "      <td>0.00</td>\n",
              "      <td>0.01</td>\n",
              "      <td>0.00</td>\n",
              "      <td>0.00</td>\n",
              "      <td>0.01</td>\n",
              "    </tr>\n",
              "    <tr>\n",
              "      <th>16597</th>\n",
              "      <td>16600</td>\n",
              "      <td>Spirits &amp; Spells</td>\n",
              "      <td>GBA</td>\n",
              "      <td>2003.0</td>\n",
              "      <td>Platform</td>\n",
              "      <td>Wanadoo</td>\n",
              "      <td>0.01</td>\n",
              "      <td>0.00</td>\n",
              "      <td>0.00</td>\n",
              "      <td>0.00</td>\n",
              "      <td>0.01</td>\n",
              "    </tr>\n",
              "  </tbody>\n",
              "</table>\n",
              "<p>16598 rows × 11 columns</p>\n",
              "</div>\n",
              "      <button class=\"colab-df-convert\" onclick=\"convertToInteractive('df-f17ee14f-77c8-4dc4-9b78-f10404c1b96d')\"\n",
              "              title=\"Convert this dataframe to an interactive table.\"\n",
              "              style=\"display:none;\">\n",
              "        \n",
              "  <svg xmlns=\"http://www.w3.org/2000/svg\" height=\"24px\"viewBox=\"0 0 24 24\"\n",
              "       width=\"24px\">\n",
              "    <path d=\"M0 0h24v24H0V0z\" fill=\"none\"/>\n",
              "    <path d=\"M18.56 5.44l.94 2.06.94-2.06 2.06-.94-2.06-.94-.94-2.06-.94 2.06-2.06.94zm-11 1L8.5 8.5l.94-2.06 2.06-.94-2.06-.94L8.5 2.5l-.94 2.06-2.06.94zm10 10l.94 2.06.94-2.06 2.06-.94-2.06-.94-.94-2.06-.94 2.06-2.06.94z\"/><path d=\"M17.41 7.96l-1.37-1.37c-.4-.4-.92-.59-1.43-.59-.52 0-1.04.2-1.43.59L10.3 9.45l-7.72 7.72c-.78.78-.78 2.05 0 2.83L4 21.41c.39.39.9.59 1.41.59.51 0 1.02-.2 1.41-.59l7.78-7.78 2.81-2.81c.8-.78.8-2.07 0-2.86zM5.41 20L4 18.59l7.72-7.72 1.47 1.35L5.41 20z\"/>\n",
              "  </svg>\n",
              "      </button>\n",
              "      \n",
              "  <style>\n",
              "    .colab-df-container {\n",
              "      display:flex;\n",
              "      flex-wrap:wrap;\n",
              "      gap: 12px;\n",
              "    }\n",
              "\n",
              "    .colab-df-convert {\n",
              "      background-color: #E8F0FE;\n",
              "      border: none;\n",
              "      border-radius: 50%;\n",
              "      cursor: pointer;\n",
              "      display: none;\n",
              "      fill: #1967D2;\n",
              "      height: 32px;\n",
              "      padding: 0 0 0 0;\n",
              "      width: 32px;\n",
              "    }\n",
              "\n",
              "    .colab-df-convert:hover {\n",
              "      background-color: #E2EBFA;\n",
              "      box-shadow: 0px 1px 2px rgba(60, 64, 67, 0.3), 0px 1px 3px 1px rgba(60, 64, 67, 0.15);\n",
              "      fill: #174EA6;\n",
              "    }\n",
              "\n",
              "    [theme=dark] .colab-df-convert {\n",
              "      background-color: #3B4455;\n",
              "      fill: #D2E3FC;\n",
              "    }\n",
              "\n",
              "    [theme=dark] .colab-df-convert:hover {\n",
              "      background-color: #434B5C;\n",
              "      box-shadow: 0px 1px 3px 1px rgba(0, 0, 0, 0.15);\n",
              "      filter: drop-shadow(0px 1px 2px rgba(0, 0, 0, 0.3));\n",
              "      fill: #FFFFFF;\n",
              "    }\n",
              "  </style>\n",
              "\n",
              "      <script>\n",
              "        const buttonEl =\n",
              "          document.querySelector('#df-f17ee14f-77c8-4dc4-9b78-f10404c1b96d button.colab-df-convert');\n",
              "        buttonEl.style.display =\n",
              "          google.colab.kernel.accessAllowed ? 'block' : 'none';\n",
              "\n",
              "        async function convertToInteractive(key) {\n",
              "          const element = document.querySelector('#df-f17ee14f-77c8-4dc4-9b78-f10404c1b96d');\n",
              "          const dataTable =\n",
              "            await google.colab.kernel.invokeFunction('convertToInteractive',\n",
              "                                                     [key], {});\n",
              "          if (!dataTable) return;\n",
              "\n",
              "          const docLinkHtml = 'Like what you see? Visit the ' +\n",
              "            '<a target=\"_blank\" href=https://colab.research.google.com/notebooks/data_table.ipynb>data table notebook</a>'\n",
              "            + ' to learn more about interactive tables.';\n",
              "          element.innerHTML = '';\n",
              "          dataTable['output_type'] = 'display_data';\n",
              "          await google.colab.output.renderOutput(dataTable, element);\n",
              "          const docLink = document.createElement('div');\n",
              "          docLink.innerHTML = docLinkHtml;\n",
              "          element.appendChild(docLink);\n",
              "        }\n",
              "      </script>\n",
              "    </div>\n",
              "  </div>\n",
              "  "
            ],
            "text/plain": [
              "        Rank  ... Global_Sales\n",
              "0          1  ...        82.74\n",
              "1          2  ...        40.24\n",
              "2          3  ...        35.82\n",
              "3          4  ...        33.00\n",
              "4          5  ...        31.37\n",
              "...      ...  ...          ...\n",
              "16593  16596  ...         0.01\n",
              "16594  16597  ...         0.01\n",
              "16595  16598  ...         0.01\n",
              "16596  16599  ...         0.01\n",
              "16597  16600  ...         0.01\n",
              "\n",
              "[16598 rows x 11 columns]"
            ]
          },
          "metadata": {},
          "execution_count": 84
        }
      ]
    },
    {
      "cell_type": "code",
      "source": [
        "df_sales.info()"
      ],
      "metadata": {
        "colab": {
          "base_uri": "https://localhost:8080/"
        },
        "id": "neVHAsrPszj_",
        "outputId": "e2f4f1e5-66b5-4bbd-9ccd-7bcbf6f40f27"
      },
      "execution_count": null,
      "outputs": [
        {
          "output_type": "stream",
          "name": "stdout",
          "text": [
            "<class 'pandas.core.frame.DataFrame'>\n",
            "RangeIndex: 16598 entries, 0 to 16597\n",
            "Data columns (total 11 columns):\n",
            " #   Column        Non-Null Count  Dtype  \n",
            "---  ------        --------------  -----  \n",
            " 0   Rank          16598 non-null  int64  \n",
            " 1   Name          16598 non-null  object \n",
            " 2   Platform      16598 non-null  object \n",
            " 3   Year          16327 non-null  float64\n",
            " 4   Genre         16598 non-null  object \n",
            " 5   Publisher     16540 non-null  object \n",
            " 6   NA_Sales      16598 non-null  float64\n",
            " 7   EU_Sales      16598 non-null  float64\n",
            " 8   JP_Sales      16598 non-null  float64\n",
            " 9   Other_Sales   16598 non-null  float64\n",
            " 10  Global_Sales  16598 non-null  float64\n",
            "dtypes: float64(6), int64(1), object(4)\n",
            "memory usage: 1.4+ MB\n"
          ]
        }
      ]
    },
    {
      "cell_type": "code",
      "source": [
        "# assert выдаст AssertionError, если его условие будет ложным\n",
        "assert df_sales['Rank'].isna().sum() == 0, 'Пропущены ранги' # Пройдет проверку\n",
        "assert df_sales['Year'].isna().sum() == 0, 'Пропущен год' # Выдаст AssertionError"
      ],
      "metadata": {
        "colab": {
          "base_uri": "https://localhost:8080/",
          "height": 208
        },
        "id": "AaBshJ0xshUL",
        "outputId": "2328cc3b-a06e-44bd-e934-057685c82a44"
      },
      "execution_count": null,
      "outputs": [
        {
          "output_type": "error",
          "ename": "AssertionError",
          "evalue": "ignored",
          "traceback": [
            "\u001b[0;31m---------------------------------------------------------------------------\u001b[0m",
            "\u001b[0;31mAssertionError\u001b[0m                            Traceback (most recent call last)",
            "\u001b[0;32m<ipython-input-61-882a925b2f62>\u001b[0m in \u001b[0;36m<module>\u001b[0;34m()\u001b[0m\n\u001b[1;32m      1\u001b[0m \u001b[0;31m# assert выдаст AssertionError, если его условие будет ложным\u001b[0m\u001b[0;34m\u001b[0m\u001b[0;34m\u001b[0m\u001b[0;34m\u001b[0m\u001b[0m\n\u001b[1;32m      2\u001b[0m \u001b[0;32massert\u001b[0m \u001b[0mdf_sales\u001b[0m\u001b[0;34m[\u001b[0m\u001b[0;34m'Rank'\u001b[0m\u001b[0;34m]\u001b[0m\u001b[0;34m.\u001b[0m\u001b[0misna\u001b[0m\u001b[0;34m(\u001b[0m\u001b[0;34m)\u001b[0m\u001b[0;34m.\u001b[0m\u001b[0msum\u001b[0m\u001b[0;34m(\u001b[0m\u001b[0;34m)\u001b[0m \u001b[0;34m==\u001b[0m \u001b[0;36m0\u001b[0m\u001b[0;34m,\u001b[0m \u001b[0;34m'Пропущены ранги'\u001b[0m \u001b[0;31m# Пройдет проверку\u001b[0m\u001b[0;34m\u001b[0m\u001b[0;34m\u001b[0m\u001b[0m\n\u001b[0;32m----> 3\u001b[0;31m \u001b[0;32massert\u001b[0m \u001b[0mdf_sales\u001b[0m\u001b[0;34m[\u001b[0m\u001b[0;34m'Year'\u001b[0m\u001b[0;34m]\u001b[0m\u001b[0;34m.\u001b[0m\u001b[0misna\u001b[0m\u001b[0;34m(\u001b[0m\u001b[0;34m)\u001b[0m\u001b[0;34m.\u001b[0m\u001b[0msum\u001b[0m\u001b[0;34m(\u001b[0m\u001b[0;34m)\u001b[0m \u001b[0;34m==\u001b[0m \u001b[0;36m0\u001b[0m\u001b[0;34m,\u001b[0m \u001b[0;34m'Пропущен год'\u001b[0m \u001b[0;31m# Выдаст AssertionError\u001b[0m\u001b[0;34m\u001b[0m\u001b[0;34m\u001b[0m\u001b[0m\n\u001b[0m",
            "\u001b[0;31mAssertionError\u001b[0m: Пропущен год"
          ]
        }
      ]
    },
    {
      "cell_type": "markdown",
      "source": [
        "Однако для более сложных задач можно использовать специальные библиотеки для валидации данных, например pandera."
      ],
      "metadata": {
        "id": "RRn2k-tKtYru"
      }
    },
    {
      "cell_type": "code",
      "source": [
        "pip install pandera"
      ],
      "metadata": {
        "colab": {
          "base_uri": "https://localhost:8080/"
        },
        "id": "52yMv26YkAzM",
        "outputId": "c37796bb-c21d-43ba-82cc-be20f75eb1ad"
      },
      "execution_count": null,
      "outputs": [
        {
          "output_type": "stream",
          "name": "stdout",
          "text": [
            "Collecting pandera\n",
            "  Downloading pandera-0.8.1-py3-none-any.whl (191 kB)\n",
            "\u001b[?25l\r\u001b[K     |█▊                              | 10 kB 13.9 MB/s eta 0:00:01\r\u001b[K     |███▍                            | 20 kB 16.3 MB/s eta 0:00:01\r\u001b[K     |█████▏                          | 30 kB 19.5 MB/s eta 0:00:01\r\u001b[K     |██████▉                         | 40 kB 22.0 MB/s eta 0:00:01\r\u001b[K     |████████▌                       | 51 kB 8.0 MB/s eta 0:00:01\r\u001b[K     |██████████▎                     | 61 kB 7.7 MB/s eta 0:00:01\r\u001b[K     |████████████                    | 71 kB 6.2 MB/s eta 0:00:01\r\u001b[K     |█████████████▊                  | 81 kB 6.9 MB/s eta 0:00:01\r\u001b[K     |███████████████▍                | 92 kB 5.9 MB/s eta 0:00:01\r\u001b[K     |█████████████████               | 102 kB 6.3 MB/s eta 0:00:01\r\u001b[K     |██████████████████▉             | 112 kB 6.3 MB/s eta 0:00:01\r\u001b[K     |████████████████████▌           | 122 kB 6.3 MB/s eta 0:00:01\r\u001b[K     |██████████████████████▎         | 133 kB 6.3 MB/s eta 0:00:01\r\u001b[K     |████████████████████████        | 143 kB 6.3 MB/s eta 0:00:01\r\u001b[K     |█████████████████████████▋      | 153 kB 6.3 MB/s eta 0:00:01\r\u001b[K     |███████████████████████████▍    | 163 kB 6.3 MB/s eta 0:00:01\r\u001b[K     |█████████████████████████████   | 174 kB 6.3 MB/s eta 0:00:01\r\u001b[K     |██████████████████████████████▉ | 184 kB 6.3 MB/s eta 0:00:01\r\u001b[K     |████████████████████████████████| 191 kB 6.3 MB/s \n",
            "\u001b[?25hRequirement already satisfied: packaging>=20.0 in /usr/local/lib/python3.7/dist-packages (from pandera) (21.3)\n",
            "Requirement already satisfied: wrapt in /usr/local/lib/python3.7/dist-packages (from pandera) (1.13.3)\n",
            "Requirement already satisfied: numpy>=1.9.0 in /usr/local/lib/python3.7/dist-packages (from pandera) (1.19.5)\n",
            "Requirement already satisfied: typing-extensions>=3.7.4.3 in /usr/local/lib/python3.7/dist-packages (from pandera) (3.10.0.2)\n",
            "Collecting typing-inspect>=0.6.0\n",
            "  Downloading typing_inspect-0.7.1-py3-none-any.whl (8.4 kB)\n",
            "Requirement already satisfied: pyarrow in /usr/local/lib/python3.7/dist-packages (from pandera) (6.0.1)\n",
            "Requirement already satisfied: pandas>=1.0 in /usr/local/lib/python3.7/dist-packages (from pandera) (1.3.5)\n",
            "Requirement already satisfied: pyparsing!=3.0.5,>=2.0.2 in /usr/local/lib/python3.7/dist-packages (from packaging>=20.0->pandera) (3.0.7)\n",
            "Requirement already satisfied: python-dateutil>=2.7.3 in /usr/local/lib/python3.7/dist-packages (from pandas>=1.0->pandera) (2.8.2)\n",
            "Requirement already satisfied: pytz>=2017.3 in /usr/local/lib/python3.7/dist-packages (from pandas>=1.0->pandera) (2018.9)\n",
            "Requirement already satisfied: six>=1.5 in /usr/local/lib/python3.7/dist-packages (from python-dateutil>=2.7.3->pandas>=1.0->pandera) (1.15.0)\n",
            "Collecting mypy-extensions>=0.3.0\n",
            "  Downloading mypy_extensions-0.4.3-py2.py3-none-any.whl (4.5 kB)\n",
            "Installing collected packages: mypy-extensions, typing-inspect, pandera\n",
            "Successfully installed mypy-extensions-0.4.3 pandera-0.8.1 typing-inspect-0.7.1\n"
          ]
        }
      ]
    },
    {
      "cell_type": "code",
      "source": [],
      "metadata": {
        "id": "gFO7EvfLvenL"
      },
      "execution_count": null,
      "outputs": []
    },
    {
      "cell_type": "code",
      "source": [
        "import pandera as pa\n",
        "\n",
        "# Для валидации мы создаем схему для проверки датафрейма по типам значений\n",
        "\n",
        "sales_types_scheme = pa.DataFrameSchema(\n",
        "    {\n",
        "        'Rank': pa.Column('int'),\n",
        "        'Name': pa.Column('str'),\n",
        "        'Platform': pa.Column('str'),\n",
        "        'Year': pa.Column('int'), # Эта проверка выдаст ошибку\n",
        "        'Genre': pa.Column('str'),\n",
        "        'Publisher': pa.Column('str'), # Эта проверка тоже выдаст ошибку\n",
        "        'NA_Sales': pa.Column('float'),\n",
        "        'EU_Sales': pa.Column('float'),\n",
        "        'JP_Sales': pa.Column('float'),\n",
        "        'Other_Sales': pa.Column('float'),\n",
        "        'Global_Sales': pa.Column('float'),\n",
        "    },\n",
        "\n",
        ")\n",
        "\n",
        "# Вызываем метод validate для проверки исходного датафрейма\n",
        "sales_types_scheme.validate(df_sales)"
      ],
      "metadata": {
        "colab": {
          "base_uri": "https://localhost:8080/",
          "height": 583
        },
        "id": "C2ClIMhsiP5E",
        "outputId": "affb9465-9f76-4cb0-bcdd-f984afebb7fa"
      },
      "execution_count": null,
      "outputs": [
        {
          "output_type": "error",
          "ename": "SchemaError",
          "evalue": "ignored",
          "traceback": [
            "\u001b[0;31m---------------------------------------------------------------------------\u001b[0m",
            "\u001b[0;31mSchemaError\u001b[0m                               Traceback (most recent call last)",
            "\u001b[0;32m<ipython-input-94-13fe5dffa881>\u001b[0m in \u001b[0;36m<module>\u001b[0;34m()\u001b[0m\n\u001b[1;32m     21\u001b[0m \u001b[0;34m\u001b[0m\u001b[0m\n\u001b[1;32m     22\u001b[0m \u001b[0;31m# Вызываем метод validate для проверки исходного датафрейма\u001b[0m\u001b[0;34m\u001b[0m\u001b[0;34m\u001b[0m\u001b[0;34m\u001b[0m\u001b[0m\n\u001b[0;32m---> 23\u001b[0;31m \u001b[0msales_types_scheme\u001b[0m\u001b[0;34m.\u001b[0m\u001b[0mvalidate\u001b[0m\u001b[0;34m(\u001b[0m\u001b[0mdf_sales\u001b[0m\u001b[0;34m)\u001b[0m\u001b[0;34m\u001b[0m\u001b[0;34m\u001b[0m\u001b[0m\n\u001b[0m",
            "\u001b[0;32m/usr/local/lib/python3.7/dist-packages/pandera/schemas.py\u001b[0m in \u001b[0;36mvalidate\u001b[0;34m(self, check_obj, head, tail, sample, random_state, lazy, inplace)\u001b[0m\n\u001b[1;32m    508\u001b[0m             \u001b[0mrandom_state\u001b[0m\u001b[0;34m=\u001b[0m\u001b[0mrandom_state\u001b[0m\u001b[0;34m,\u001b[0m\u001b[0;34m\u001b[0m\u001b[0;34m\u001b[0m\u001b[0m\n\u001b[1;32m    509\u001b[0m             \u001b[0mlazy\u001b[0m\u001b[0;34m=\u001b[0m\u001b[0mlazy\u001b[0m\u001b[0;34m,\u001b[0m\u001b[0;34m\u001b[0m\u001b[0;34m\u001b[0m\u001b[0m\n\u001b[0;32m--> 510\u001b[0;31m             \u001b[0minplace\u001b[0m\u001b[0;34m=\u001b[0m\u001b[0minplace\u001b[0m\u001b[0;34m,\u001b[0m\u001b[0;34m\u001b[0m\u001b[0;34m\u001b[0m\u001b[0m\n\u001b[0m\u001b[1;32m    511\u001b[0m         )\n\u001b[1;32m    512\u001b[0m \u001b[0;34m\u001b[0m\u001b[0m\n",
            "\u001b[0;32m/usr/local/lib/python3.7/dist-packages/pandera/schemas.py\u001b[0m in \u001b[0;36m_validate\u001b[0;34m(self, check_obj, head, tail, sample, random_state, lazy, inplace)\u001b[0m\n\u001b[1;32m    675\u001b[0m                 \u001b[0mcheck_results\u001b[0m\u001b[0;34m.\u001b[0m\u001b[0mappend\u001b[0m\u001b[0;34m(\u001b[0m\u001b[0mcheck_utils\u001b[0m\u001b[0;34m.\u001b[0m\u001b[0mis_table\u001b[0m\u001b[0;34m(\u001b[0m\u001b[0mresult\u001b[0m\u001b[0;34m)\u001b[0m\u001b[0;34m)\u001b[0m\u001b[0;34m\u001b[0m\u001b[0;34m\u001b[0m\u001b[0m\n\u001b[1;32m    676\u001b[0m             \u001b[0;32mexcept\u001b[0m \u001b[0merrors\u001b[0m\u001b[0;34m.\u001b[0m\u001b[0mSchemaError\u001b[0m \u001b[0;32mas\u001b[0m \u001b[0merr\u001b[0m\u001b[0;34m:\u001b[0m\u001b[0;34m\u001b[0m\u001b[0;34m\u001b[0m\u001b[0m\n\u001b[0;32m--> 677\u001b[0;31m                 \u001b[0merror_handler\u001b[0m\u001b[0;34m.\u001b[0m\u001b[0mcollect_error\u001b[0m\u001b[0;34m(\u001b[0m\u001b[0;34m\"schema_component_check\"\u001b[0m\u001b[0;34m,\u001b[0m \u001b[0merr\u001b[0m\u001b[0;34m)\u001b[0m\u001b[0;34m\u001b[0m\u001b[0;34m\u001b[0m\u001b[0m\n\u001b[0m\u001b[1;32m    678\u001b[0m             \u001b[0;32mexcept\u001b[0m \u001b[0merrors\u001b[0m\u001b[0;34m.\u001b[0m\u001b[0mSchemaErrors\u001b[0m \u001b[0;32mas\u001b[0m \u001b[0merr\u001b[0m\u001b[0;34m:\u001b[0m\u001b[0;34m\u001b[0m\u001b[0;34m\u001b[0m\u001b[0m\n\u001b[1;32m    679\u001b[0m                 \u001b[0;32mfor\u001b[0m \u001b[0mschema_error_dict\u001b[0m \u001b[0;32min\u001b[0m \u001b[0merr\u001b[0m\u001b[0;34m.\u001b[0m\u001b[0mschema_errors\u001b[0m\u001b[0;34m:\u001b[0m\u001b[0;34m\u001b[0m\u001b[0;34m\u001b[0m\u001b[0m\n",
            "\u001b[0;32m/usr/local/lib/python3.7/dist-packages/pandera/error_handlers.py\u001b[0m in \u001b[0;36mcollect_error\u001b[0;34m(self, reason_code, schema_error, original_exc)\u001b[0m\n\u001b[1;32m     30\u001b[0m         \"\"\"\n\u001b[1;32m     31\u001b[0m         \u001b[0;32mif\u001b[0m \u001b[0;32mnot\u001b[0m \u001b[0mself\u001b[0m\u001b[0;34m.\u001b[0m\u001b[0m_lazy\u001b[0m\u001b[0;34m:\u001b[0m\u001b[0;34m\u001b[0m\u001b[0;34m\u001b[0m\u001b[0m\n\u001b[0;32m---> 32\u001b[0;31m             \u001b[0;32mraise\u001b[0m \u001b[0mschema_error\u001b[0m \u001b[0;32mfrom\u001b[0m \u001b[0moriginal_exc\u001b[0m\u001b[0;34m\u001b[0m\u001b[0;34m\u001b[0m\u001b[0m\n\u001b[0m\u001b[1;32m     33\u001b[0m \u001b[0;34m\u001b[0m\u001b[0m\n\u001b[1;32m     34\u001b[0m         \u001b[0;31m# delete data of validated object from SchemaError object to prevent\u001b[0m\u001b[0;34m\u001b[0m\u001b[0;34m\u001b[0m\u001b[0;34m\u001b[0m\u001b[0m\n",
            "\u001b[0;32m/usr/local/lib/python3.7/dist-packages/pandera/schemas.py\u001b[0m in \u001b[0;36m_validate\u001b[0;34m(self, check_obj, head, tail, sample, random_state, lazy, inplace)\u001b[0m\n\u001b[1;32m    671\u001b[0m                     \u001b[0mlazy\u001b[0m\u001b[0;34m=\u001b[0m\u001b[0mlazy\u001b[0m\u001b[0;34m,\u001b[0m\u001b[0;34m\u001b[0m\u001b[0;34m\u001b[0m\u001b[0m\n\u001b[1;32m    672\u001b[0m                     \u001b[0;31m# don't make a copy of the data\u001b[0m\u001b[0;34m\u001b[0m\u001b[0;34m\u001b[0m\u001b[0;34m\u001b[0m\u001b[0m\n\u001b[0;32m--> 673\u001b[0;31m                     \u001b[0minplace\u001b[0m\u001b[0;34m=\u001b[0m\u001b[0;32mTrue\u001b[0m\u001b[0;34m,\u001b[0m\u001b[0;34m\u001b[0m\u001b[0;34m\u001b[0m\u001b[0m\n\u001b[0m\u001b[1;32m    674\u001b[0m                 )\n\u001b[1;32m    675\u001b[0m                 \u001b[0mcheck_results\u001b[0m\u001b[0;34m.\u001b[0m\u001b[0mappend\u001b[0m\u001b[0;34m(\u001b[0m\u001b[0mcheck_utils\u001b[0m\u001b[0;34m.\u001b[0m\u001b[0mis_table\u001b[0m\u001b[0;34m(\u001b[0m\u001b[0mresult\u001b[0m\u001b[0;34m)\u001b[0m\u001b[0;34m)\u001b[0m\u001b[0;34m\u001b[0m\u001b[0;34m\u001b[0m\u001b[0m\n",
            "\u001b[0;32m/usr/local/lib/python3.7/dist-packages/pandera/schemas.py\u001b[0m in \u001b[0;36m__call__\u001b[0;34m(self, check_obj, head, tail, sample, random_state, lazy, inplace)\u001b[0m\n\u001b[1;32m   2003\u001b[0m         \u001b[0;34m\"\"\"Alias for ``validate`` method.\"\"\"\u001b[0m\u001b[0;34m\u001b[0m\u001b[0;34m\u001b[0m\u001b[0m\n\u001b[1;32m   2004\u001b[0m         return self.validate(\n\u001b[0;32m-> 2005\u001b[0;31m             \u001b[0mcheck_obj\u001b[0m\u001b[0;34m,\u001b[0m \u001b[0mhead\u001b[0m\u001b[0;34m,\u001b[0m \u001b[0mtail\u001b[0m\u001b[0;34m,\u001b[0m \u001b[0msample\u001b[0m\u001b[0;34m,\u001b[0m \u001b[0mrandom_state\u001b[0m\u001b[0;34m,\u001b[0m \u001b[0mlazy\u001b[0m\u001b[0;34m,\u001b[0m \u001b[0minplace\u001b[0m\u001b[0;34m\u001b[0m\u001b[0;34m\u001b[0m\u001b[0m\n\u001b[0m\u001b[1;32m   2006\u001b[0m         )\n\u001b[1;32m   2007\u001b[0m \u001b[0;34m\u001b[0m\u001b[0m\n",
            "\u001b[0;32m/usr/local/lib/python3.7/dist-packages/pandera/schema_components.py\u001b[0m in \u001b[0;36mvalidate\u001b[0;34m(self, check_obj, head, tail, sample, random_state, lazy, inplace)\u001b[0m\n\u001b[1;32m    221\u001b[0m                     )\n\u001b[1;32m    222\u001b[0m             \u001b[0;32melse\u001b[0m\u001b[0;34m:\u001b[0m\u001b[0;34m\u001b[0m\u001b[0;34m\u001b[0m\u001b[0m\n\u001b[0;32m--> 223\u001b[0;31m                 \u001b[0mvalidate_column\u001b[0m\u001b[0;34m(\u001b[0m\u001b[0mcheck_obj\u001b[0m\u001b[0;34m,\u001b[0m \u001b[0mcolumn_name\u001b[0m\u001b[0;34m)\u001b[0m\u001b[0;34m\u001b[0m\u001b[0;34m\u001b[0m\u001b[0m\n\u001b[0m\u001b[1;32m    224\u001b[0m \u001b[0;34m\u001b[0m\u001b[0m\n\u001b[1;32m    225\u001b[0m         \u001b[0;32mreturn\u001b[0m \u001b[0mcheck_obj\u001b[0m\u001b[0;34m\u001b[0m\u001b[0;34m\u001b[0m\u001b[0m\n",
            "\u001b[0;32m/usr/local/lib/python3.7/dist-packages/pandera/schema_components.py\u001b[0m in \u001b[0;36mvalidate_column\u001b[0;34m(check_obj, column_name)\u001b[0m\n\u001b[1;32m    201\u001b[0m                 \u001b[0mrandom_state\u001b[0m\u001b[0;34m,\u001b[0m\u001b[0;34m\u001b[0m\u001b[0;34m\u001b[0m\u001b[0m\n\u001b[1;32m    202\u001b[0m                 \u001b[0mlazy\u001b[0m\u001b[0;34m,\u001b[0m\u001b[0;34m\u001b[0m\u001b[0;34m\u001b[0m\u001b[0m\n\u001b[0;32m--> 203\u001b[0;31m                 \u001b[0minplace\u001b[0m\u001b[0;34m=\u001b[0m\u001b[0minplace\u001b[0m\u001b[0;34m,\u001b[0m\u001b[0;34m\u001b[0m\u001b[0;34m\u001b[0m\u001b[0m\n\u001b[0m\u001b[1;32m    204\u001b[0m             )\n\u001b[1;32m    205\u001b[0m \u001b[0;34m\u001b[0m\u001b[0m\n",
            "\u001b[0;32m/usr/local/lib/python3.7/dist-packages/pandera/schemas.py\u001b[0m in \u001b[0;36mvalidate\u001b[0;34m(self, check_obj, head, tail, sample, random_state, lazy, inplace)\u001b[0m\n\u001b[1;32m   1893\u001b[0m                             \u001b[0mseries\u001b[0m\u001b[0;34m[\u001b[0m\u001b[0mnulls\u001b[0m\u001b[0;34m]\u001b[0m\u001b[0;34m,\u001b[0m \u001b[0mignore_na\u001b[0m\u001b[0;34m=\u001b[0m\u001b[0;32mFalse\u001b[0m\u001b[0;34m\u001b[0m\u001b[0;34m\u001b[0m\u001b[0m\n\u001b[1;32m   1894\u001b[0m                         ),\n\u001b[0;32m-> 1895\u001b[0;31m                         \u001b[0mcheck\u001b[0m\u001b[0;34m=\u001b[0m\u001b[0;34m\"not_nullable\"\u001b[0m\u001b[0;34m,\u001b[0m\u001b[0;34m\u001b[0m\u001b[0;34m\u001b[0m\u001b[0m\n\u001b[0m\u001b[1;32m   1896\u001b[0m                     ),\n\u001b[1;32m   1897\u001b[0m                 )\n",
            "\u001b[0;32m/usr/local/lib/python3.7/dist-packages/pandera/error_handlers.py\u001b[0m in \u001b[0;36mcollect_error\u001b[0;34m(self, reason_code, schema_error, original_exc)\u001b[0m\n\u001b[1;32m     30\u001b[0m         \"\"\"\n\u001b[1;32m     31\u001b[0m         \u001b[0;32mif\u001b[0m \u001b[0;32mnot\u001b[0m \u001b[0mself\u001b[0m\u001b[0;34m.\u001b[0m\u001b[0m_lazy\u001b[0m\u001b[0;34m:\u001b[0m\u001b[0;34m\u001b[0m\u001b[0;34m\u001b[0m\u001b[0m\n\u001b[0;32m---> 32\u001b[0;31m             \u001b[0;32mraise\u001b[0m \u001b[0mschema_error\u001b[0m \u001b[0;32mfrom\u001b[0m \u001b[0moriginal_exc\u001b[0m\u001b[0;34m\u001b[0m\u001b[0;34m\u001b[0m\u001b[0m\n\u001b[0m\u001b[1;32m     33\u001b[0m \u001b[0;34m\u001b[0m\u001b[0m\n\u001b[1;32m     34\u001b[0m         \u001b[0;31m# delete data of validated object from SchemaError object to prevent\u001b[0m\u001b[0;34m\u001b[0m\u001b[0;34m\u001b[0m\u001b[0;34m\u001b[0m\u001b[0m\n",
            "\u001b[0;31mSchemaError\u001b[0m: non-nullable series 'Year' contains null values:\n179     NaN\n377     NaN\n431     NaN\n470     NaN\n607     NaN\n         ..\n16307   NaN\n16327   NaN\n16366   NaN\n16427   NaN\n16493   NaN\nName: Year, Length: 271, dtype: float64"
          ]
        }
      ]
    },
    {
      "cell_type": "markdown",
      "source": [
        "Обратите внимание, что в результате проверки мы получили не просто ошибку, но и информацию в каких строках есть недопустимые значения и их общее количество. В pandera есть помимо проверок на тип данных еще множество интересных проверок, которые позволяют убедиться в то, что наши данные корректны."
      ],
      "metadata": {
        "id": "0nSdn2mqyeHw"
      }
    },
    {
      "cell_type": "code",
      "source": [
        "# Добавим более сложные проверки для наших данных\n",
        "sales_names = ['NA_Sales', 'EU_Sales', 'JP_Sales', 'Other_Sales']\n",
        "sales_types_scheme = pa.DataFrameSchema(\n",
        "    {\n",
        "        'Rank': pa.Column(\n",
        "            'int',\n",
        "            pa.Check(lambda x: x <= x.shift(-1).fillna(x)), # Ранги идут в порядке возрастания\n",
        "        ),\n",
        "        'Name': pa.Column('str'),\n",
        "        'Platform': pa.Column('str'),\n",
        "        # 'Year': pa.Column('int'), # Эта проверка выдаст ошибку\n",
        "        'Genre': pa.Column('str'),\n",
        "        # 'Publisher': pa.Column('str'), # Эта проверка тоже выдаст ошибку\n",
        "        'NA_Sales': pa.Column('float', pa.Check.ge(0)), # Значение больше или равно 0\n",
        "        'EU_Sales': pa.Column('float', pa.Check.ge(0)),\n",
        "        'JP_Sales': pa.Column('float', pa.Check.ge(0)),\n",
        "        'Other_Sales': pa.Column('float', pa.Check.ge(0)),\n",
        "        'Global_Sales': pa.Column('float', pa.Check.ge(0)),\n",
        "    },\n",
        "    checks = pa.Check( # Проверка на уровне датафрейма\n",
        "        lambda x: x['Global_Sales'] == x[sales_names].sum(axis=1) # Проверка, что Global_Sales - сумма столбцов со всеми продажами\n",
        "        # Спойлер: это не всегда так\n",
        "    ),\n",
        ")\n",
        "\n",
        "# Вызываем метод validate для проверки исходного датафрейма\n",
        "sales_types_scheme.validate(df_sales)"
      ],
      "metadata": {
        "colab": {
          "base_uri": "https://localhost:8080/",
          "height": 1000
        },
        "id": "CfaDGYTIvRRO",
        "outputId": "4e85aae8-0442-471c-a4bd-f22cf8626bba"
      },
      "execution_count": null,
      "outputs": [
        {
          "output_type": "error",
          "ename": "SchemaError",
          "evalue": "ignored",
          "traceback": [
            "\u001b[0;31m---------------------------------------------------------------------------\u001b[0m",
            "\u001b[0;31mSchemaError\u001b[0m                               Traceback (most recent call last)",
            "\u001b[0;32m<ipython-input-155-084d1bd3ed39>\u001b[0m in \u001b[0;36m<module>\u001b[0;34m()\u001b[0m\n\u001b[1;32m     24\u001b[0m \u001b[0;34m\u001b[0m\u001b[0m\n\u001b[1;32m     25\u001b[0m \u001b[0;31m# Вызываем метод validate для проверки исходного датафрейма\u001b[0m\u001b[0;34m\u001b[0m\u001b[0;34m\u001b[0m\u001b[0;34m\u001b[0m\u001b[0m\n\u001b[0;32m---> 26\u001b[0;31m \u001b[0msales_types_scheme\u001b[0m\u001b[0;34m.\u001b[0m\u001b[0mvalidate\u001b[0m\u001b[0;34m(\u001b[0m\u001b[0mdf_sales\u001b[0m\u001b[0;34m)\u001b[0m\u001b[0;34m\u001b[0m\u001b[0;34m\u001b[0m\u001b[0m\n\u001b[0m",
            "\u001b[0;32m/usr/local/lib/python3.7/dist-packages/pandera/schemas.py\u001b[0m in \u001b[0;36mvalidate\u001b[0;34m(self, check_obj, head, tail, sample, random_state, lazy, inplace)\u001b[0m\n\u001b[1;32m    508\u001b[0m             \u001b[0mrandom_state\u001b[0m\u001b[0;34m=\u001b[0m\u001b[0mrandom_state\u001b[0m\u001b[0;34m,\u001b[0m\u001b[0;34m\u001b[0m\u001b[0;34m\u001b[0m\u001b[0m\n\u001b[1;32m    509\u001b[0m             \u001b[0mlazy\u001b[0m\u001b[0;34m=\u001b[0m\u001b[0mlazy\u001b[0m\u001b[0;34m,\u001b[0m\u001b[0;34m\u001b[0m\u001b[0;34m\u001b[0m\u001b[0m\n\u001b[0;32m--> 510\u001b[0;31m             \u001b[0minplace\u001b[0m\u001b[0;34m=\u001b[0m\u001b[0minplace\u001b[0m\u001b[0;34m,\u001b[0m\u001b[0;34m\u001b[0m\u001b[0;34m\u001b[0m\u001b[0m\n\u001b[0m\u001b[1;32m    511\u001b[0m         )\n\u001b[1;32m    512\u001b[0m \u001b[0;34m\u001b[0m\u001b[0m\n",
            "\u001b[0;32m/usr/local/lib/python3.7/dist-packages/pandera/schemas.py\u001b[0m in \u001b[0;36m_validate\u001b[0;34m(self, check_obj, head, tail, sample, random_state, lazy, inplace)\u001b[0m\n\u001b[1;32m    691\u001b[0m                 )\n\u001b[1;32m    692\u001b[0m             \u001b[0;32mexcept\u001b[0m \u001b[0merrors\u001b[0m\u001b[0;34m.\u001b[0m\u001b[0mSchemaError\u001b[0m \u001b[0;32mas\u001b[0m \u001b[0merr\u001b[0m\u001b[0;34m:\u001b[0m\u001b[0;34m\u001b[0m\u001b[0;34m\u001b[0m\u001b[0m\n\u001b[0;32m--> 693\u001b[0;31m                 \u001b[0merror_handler\u001b[0m\u001b[0;34m.\u001b[0m\u001b[0mcollect_error\u001b[0m\u001b[0;34m(\u001b[0m\u001b[0;34m\"dataframe_check\"\u001b[0m\u001b[0;34m,\u001b[0m \u001b[0merr\u001b[0m\u001b[0;34m)\u001b[0m\u001b[0;34m\u001b[0m\u001b[0;34m\u001b[0m\u001b[0m\n\u001b[0m\u001b[1;32m    694\u001b[0m \u001b[0;34m\u001b[0m\u001b[0m\n\u001b[1;32m    695\u001b[0m         \u001b[0;32mif\u001b[0m \u001b[0mself\u001b[0m\u001b[0;34m.\u001b[0m\u001b[0munique\u001b[0m\u001b[0;34m:\u001b[0m\u001b[0;34m\u001b[0m\u001b[0;34m\u001b[0m\u001b[0m\n",
            "\u001b[0;32m/usr/local/lib/python3.7/dist-packages/pandera/error_handlers.py\u001b[0m in \u001b[0;36mcollect_error\u001b[0;34m(self, reason_code, schema_error, original_exc)\u001b[0m\n\u001b[1;32m     30\u001b[0m         \"\"\"\n\u001b[1;32m     31\u001b[0m         \u001b[0;32mif\u001b[0m \u001b[0;32mnot\u001b[0m \u001b[0mself\u001b[0m\u001b[0;34m.\u001b[0m\u001b[0m_lazy\u001b[0m\u001b[0;34m:\u001b[0m\u001b[0;34m\u001b[0m\u001b[0;34m\u001b[0m\u001b[0m\n\u001b[0;32m---> 32\u001b[0;31m             \u001b[0;32mraise\u001b[0m \u001b[0mschema_error\u001b[0m \u001b[0;32mfrom\u001b[0m \u001b[0moriginal_exc\u001b[0m\u001b[0;34m\u001b[0m\u001b[0;34m\u001b[0m\u001b[0m\n\u001b[0m\u001b[1;32m     33\u001b[0m \u001b[0;34m\u001b[0m\u001b[0m\n\u001b[1;32m     34\u001b[0m         \u001b[0;31m# delete data of validated object from SchemaError object to prevent\u001b[0m\u001b[0;34m\u001b[0m\u001b[0;34m\u001b[0m\u001b[0;34m\u001b[0m\u001b[0m\n",
            "\u001b[0;32m/usr/local/lib/python3.7/dist-packages/pandera/schemas.py\u001b[0m in \u001b[0;36m_validate\u001b[0;34m(self, check_obj, head, tail, sample, random_state, lazy, inplace)\u001b[0m\n\u001b[1;32m    687\u001b[0m                 check_results.append(\n\u001b[1;32m    688\u001b[0m                     _handle_check_results(\n\u001b[0;32m--> 689\u001b[0;31m                         \u001b[0mself\u001b[0m\u001b[0;34m,\u001b[0m \u001b[0mcheck_index\u001b[0m\u001b[0;34m,\u001b[0m \u001b[0mcheck\u001b[0m\u001b[0;34m,\u001b[0m \u001b[0mdf_to_validate\u001b[0m\u001b[0;34m\u001b[0m\u001b[0;34m\u001b[0m\u001b[0m\n\u001b[0m\u001b[1;32m    690\u001b[0m                     )\n\u001b[1;32m    691\u001b[0m                 )\n",
            "\u001b[0;32m/usr/local/lib/python3.7/dist-packages/pandera/schemas.py\u001b[0m in \u001b[0;36m_handle_check_results\u001b[0;34m(schema, check_index, check, check_obj, *check_args)\u001b[0m\n\u001b[1;32m   2358\u001b[0m             \u001b[0mcheck\u001b[0m\u001b[0;34m=\u001b[0m\u001b[0mcheck\u001b[0m\u001b[0;34m,\u001b[0m\u001b[0;34m\u001b[0m\u001b[0;34m\u001b[0m\u001b[0m\n\u001b[1;32m   2359\u001b[0m             \u001b[0mcheck_index\u001b[0m\u001b[0;34m=\u001b[0m\u001b[0mcheck_index\u001b[0m\u001b[0;34m,\u001b[0m\u001b[0;34m\u001b[0m\u001b[0;34m\u001b[0m\u001b[0m\n\u001b[0;32m-> 2360\u001b[0;31m             \u001b[0mcheck_output\u001b[0m\u001b[0;34m=\u001b[0m\u001b[0mcheck_result\u001b[0m\u001b[0;34m.\u001b[0m\u001b[0mcheck_output\u001b[0m\u001b[0;34m,\u001b[0m\u001b[0;34m\u001b[0m\u001b[0;34m\u001b[0m\u001b[0m\n\u001b[0m\u001b[1;32m   2361\u001b[0m         )\n\u001b[1;32m   2362\u001b[0m     \u001b[0;32mreturn\u001b[0m \u001b[0mcheck_result\u001b[0m\u001b[0;34m.\u001b[0m\u001b[0mcheck_passed\u001b[0m\u001b[0;34m\u001b[0m\u001b[0;34m\u001b[0m\u001b[0m\n",
            "\u001b[0;31mSchemaError\u001b[0m: <Schema DataFrameSchema(\n    columns={\n        'Rank': <Schema Column(name=Rank, type=DataType(int64))>\n        'Name': <Schema Column(name=Name, type=DataType(str))>\n        'Platform': <Schema Column(name=Platform, type=DataType(str))>\n        'Genre': <Schema Column(name=Genre, type=DataType(str))>\n        'NA_Sales': <Schema Column(name=NA_Sales, type=DataType(float64))>\n        'EU_Sales': <Schema Column(name=EU_Sales, type=DataType(float64))>\n        'JP_Sales': <Schema Column(name=JP_Sales, type=DataType(float64))>\n        'Other_Sales': <Schema Column(name=Other_Sales, type=DataType(float64))>\n        'Global_Sales': <Schema Column(name=Global_Sales, type=DataType(float64))>\n    },\n    checks=[\n        <Check <lambda>>\n    ],\n    coerce=False,\n    dtype=None,\n    index=None,\n    strict=False\n    name=None,\n    ordered=False\n)> failed element-wise validator 0:\n<Check <lambda>>\nfailure cases:\n           column  index failure_case\n0            Rank      0            1\n1            Rank      2            3\n2            Rank      4            5\n3            Rank      5            6\n4            Rank      6            7\n..            ...    ...          ...\n105  Global_Sales      7        29.02\n106  Global_Sales      8        28.62\n107  Global_Sales     10        24.76\n108  Global_Sales     11        23.42\n109  Global_Sales     12         23.1\n\n[110 rows x 3 columns]"
          ]
        }
      ]
    },
    {
      "cell_type": "markdown",
      "source": [
        "После того, как мы познакомились с тем, как проводить основные проверки, мы можем создать такую схему данных, которую хотим получить в результате препроцессинга."
      ],
      "metadata": {
        "id": "aIProfJgIMhg"
      }
    },
    {
      "cell_type": "code",
      "source": [
        "# Ожидаемая схема после препроцессинга\n",
        "sales_names = ['NA_Sales', 'EU_Sales', 'JP_Sales', 'Other_Sales']\n",
        "sales_result_scheme = pa.DataFrameSchema(\n",
        "    {\n",
        "        'Rank': pa.Column(\n",
        "            'int',\n",
        "            pa.Check(lambda x: x <= x.shift(-1).fillna(x)), # Ранги идут в порядке возрастания\n",
        "        ),\n",
        "        'Name': pa.Column('category'), # Переведем эти колонки в категории\n",
        "        'Platform': pa.Column('category'),\n",
        "        'Year': pa.Column('int', pa.Check.in_range(1900, 2023)), # Год в пределах от 1900 года до 2023\n",
        "        'Genre': pa.Column('category'),\n",
        "        'Publisher': pa.Column('category'),\n",
        "        'NA_Sales': pa.Column('float', pa.Check.ge(0)), # Значение больше или равно 0\n",
        "        'EU_Sales': pa.Column('float', pa.Check.ge(0)),\n",
        "        'JP_Sales': pa.Column('float', pa.Check.ge(0)),\n",
        "        'Other_Sales': pa.Column('float', pa.Check.ge(0)),\n",
        "        'Global_Sales': pa.Column('float', pa.Check.ge(0)),\n",
        "    },\n",
        "    checks = pa.Check(\n",
        "        lambda x: x['Global_Sales'] == x[sales_names].sum(axis=1) # Проверка, что Global_Sales - сумма столбцов со всеми продажами\n",
        "\n",
        "    ),\n",
        ")"
      ],
      "metadata": {
        "id": "cpUQT4sVIbgA"
      },
      "execution_count": null,
      "outputs": []
    },
    {
      "cell_type": "markdown",
      "source": [
        "### Препроцессинг данных"
      ],
      "metadata": {
        "id": "X1evEcP6JH9P"
      }
    },
    {
      "cell_type": "markdown",
      "source": [
        "Для дальнейшего анализа нам требуется подготовить данные. Этот этап называется препроцессингом. Мы выявили основные проблемы в нашем датасете:\n",
        "\n",
        "1.   Неверные типы данных\n",
        "2.   Пропущенные значения в Year и Publisher\n",
        "3.   Общие продажи не равны сумме продажам по странам"
      ],
      "metadata": {
        "id": "DTKHjY74JLwU"
      }
    },
    {
      "cell_type": "code",
      "source": [
        "# Создадим отдельную функцию для препроцессинга\n",
        "\n",
        "# При помощи этого декоратора мы проверяем данные на выходе из этой функции\n",
        "@pa.check_output(sales_result_scheme)\n",
        "def preprocess_data(raw_df, categroy_columns, integer_columns, dropna_subset):\n",
        "    sales_names = ['NA_Sales', 'EU_Sales', 'JP_Sales', 'Other_Sales']\n",
        "    # Создадим копию датафрейма, чтобы не изменять сырой датафрейм\n",
        "    df = raw_df.copy()\n",
        "    df.dropna(subset=dropna_subset, inplace=True)\n",
        "    df[categroy_columns] = df[categroy_columns].astype('category')\n",
        "    df[integer_columns] = df[integer_columns].astype('int')\n",
        "\n",
        "    # Преобразуем общие продажи в новую колонку\n",
        "    df['Global_Sales'] = df[sales_names].sum(axis=1)\n",
        "    return df"
      ],
      "metadata": {
        "id": "q-b-u58gJLMU"
      },
      "execution_count": null,
      "outputs": []
    },
    {
      "cell_type": "code",
      "source": [
        "preprocess_data(\n",
        "    df_sales,\n",
        "    ['Platform', 'Name','Genre', 'Publisher'],\n",
        "    ['Year'],\n",
        "    ['Year', 'Publisher'],\n",
        "    )"
      ],
      "metadata": {
        "colab": {
          "base_uri": "https://localhost:8080/",
          "height": 423
        },
        "id": "LLdiqeLRLKaj",
        "outputId": "2ec7cb66-5a52-456a-e1ae-c4b1089a96d3"
      },
      "execution_count": null,
      "outputs": [
        {
          "output_type": "execute_result",
          "data": {
            "text/html": [
              "\n",
              "  <div id=\"df-1ea7a107-dce5-448b-ab29-51e873f85545\">\n",
              "    <div class=\"colab-df-container\">\n",
              "      <div>\n",
              "<style scoped>\n",
              "    .dataframe tbody tr th:only-of-type {\n",
              "        vertical-align: middle;\n",
              "    }\n",
              "\n",
              "    .dataframe tbody tr th {\n",
              "        vertical-align: top;\n",
              "    }\n",
              "\n",
              "    .dataframe thead th {\n",
              "        text-align: right;\n",
              "    }\n",
              "</style>\n",
              "<table border=\"1\" class=\"dataframe\">\n",
              "  <thead>\n",
              "    <tr style=\"text-align: right;\">\n",
              "      <th></th>\n",
              "      <th>Rank</th>\n",
              "      <th>Name</th>\n",
              "      <th>Platform</th>\n",
              "      <th>Year</th>\n",
              "      <th>Genre</th>\n",
              "      <th>Publisher</th>\n",
              "      <th>NA_Sales</th>\n",
              "      <th>EU_Sales</th>\n",
              "      <th>JP_Sales</th>\n",
              "      <th>Other_Sales</th>\n",
              "      <th>Global_Sales</th>\n",
              "    </tr>\n",
              "  </thead>\n",
              "  <tbody>\n",
              "    <tr>\n",
              "      <th>0</th>\n",
              "      <td>1</td>\n",
              "      <td>Wii Sports</td>\n",
              "      <td>Wii</td>\n",
              "      <td>2006</td>\n",
              "      <td>Sports</td>\n",
              "      <td>Nintendo</td>\n",
              "      <td>41.49</td>\n",
              "      <td>29.02</td>\n",
              "      <td>3.77</td>\n",
              "      <td>8.46</td>\n",
              "      <td>82.74</td>\n",
              "    </tr>\n",
              "    <tr>\n",
              "      <th>1</th>\n",
              "      <td>2</td>\n",
              "      <td>Super Mario Bros.</td>\n",
              "      <td>NES</td>\n",
              "      <td>1985</td>\n",
              "      <td>Platform</td>\n",
              "      <td>Nintendo</td>\n",
              "      <td>29.08</td>\n",
              "      <td>3.58</td>\n",
              "      <td>6.81</td>\n",
              "      <td>0.77</td>\n",
              "      <td>40.24</td>\n",
              "    </tr>\n",
              "    <tr>\n",
              "      <th>2</th>\n",
              "      <td>3</td>\n",
              "      <td>Mario Kart Wii</td>\n",
              "      <td>Wii</td>\n",
              "      <td>2008</td>\n",
              "      <td>Racing</td>\n",
              "      <td>Nintendo</td>\n",
              "      <td>15.85</td>\n",
              "      <td>12.88</td>\n",
              "      <td>3.79</td>\n",
              "      <td>3.31</td>\n",
              "      <td>35.83</td>\n",
              "    </tr>\n",
              "    <tr>\n",
              "      <th>3</th>\n",
              "      <td>4</td>\n",
              "      <td>Wii Sports Resort</td>\n",
              "      <td>Wii</td>\n",
              "      <td>2009</td>\n",
              "      <td>Sports</td>\n",
              "      <td>Nintendo</td>\n",
              "      <td>15.75</td>\n",
              "      <td>11.01</td>\n",
              "      <td>3.28</td>\n",
              "      <td>2.96</td>\n",
              "      <td>33.00</td>\n",
              "    </tr>\n",
              "    <tr>\n",
              "      <th>4</th>\n",
              "      <td>5</td>\n",
              "      <td>Pokemon Red/Pokemon Blue</td>\n",
              "      <td>GB</td>\n",
              "      <td>1996</td>\n",
              "      <td>Role-Playing</td>\n",
              "      <td>Nintendo</td>\n",
              "      <td>11.27</td>\n",
              "      <td>8.89</td>\n",
              "      <td>10.22</td>\n",
              "      <td>1.00</td>\n",
              "      <td>31.38</td>\n",
              "    </tr>\n",
              "    <tr>\n",
              "      <th>...</th>\n",
              "      <td>...</td>\n",
              "      <td>...</td>\n",
              "      <td>...</td>\n",
              "      <td>...</td>\n",
              "      <td>...</td>\n",
              "      <td>...</td>\n",
              "      <td>...</td>\n",
              "      <td>...</td>\n",
              "      <td>...</td>\n",
              "      <td>...</td>\n",
              "      <td>...</td>\n",
              "    </tr>\n",
              "    <tr>\n",
              "      <th>16593</th>\n",
              "      <td>16596</td>\n",
              "      <td>Woody Woodpecker in Crazy Castle 5</td>\n",
              "      <td>GBA</td>\n",
              "      <td>2002</td>\n",
              "      <td>Platform</td>\n",
              "      <td>Kemco</td>\n",
              "      <td>0.01</td>\n",
              "      <td>0.00</td>\n",
              "      <td>0.00</td>\n",
              "      <td>0.00</td>\n",
              "      <td>0.01</td>\n",
              "    </tr>\n",
              "    <tr>\n",
              "      <th>16594</th>\n",
              "      <td>16597</td>\n",
              "      <td>Men in Black II: Alien Escape</td>\n",
              "      <td>GC</td>\n",
              "      <td>2003</td>\n",
              "      <td>Shooter</td>\n",
              "      <td>Infogrames</td>\n",
              "      <td>0.01</td>\n",
              "      <td>0.00</td>\n",
              "      <td>0.00</td>\n",
              "      <td>0.00</td>\n",
              "      <td>0.01</td>\n",
              "    </tr>\n",
              "    <tr>\n",
              "      <th>16595</th>\n",
              "      <td>16598</td>\n",
              "      <td>SCORE International Baja 1000: The Official Game</td>\n",
              "      <td>PS2</td>\n",
              "      <td>2008</td>\n",
              "      <td>Racing</td>\n",
              "      <td>Activision</td>\n",
              "      <td>0.00</td>\n",
              "      <td>0.00</td>\n",
              "      <td>0.00</td>\n",
              "      <td>0.00</td>\n",
              "      <td>0.00</td>\n",
              "    </tr>\n",
              "    <tr>\n",
              "      <th>16596</th>\n",
              "      <td>16599</td>\n",
              "      <td>Know How 2</td>\n",
              "      <td>DS</td>\n",
              "      <td>2010</td>\n",
              "      <td>Puzzle</td>\n",
              "      <td>7G//AMES</td>\n",
              "      <td>0.00</td>\n",
              "      <td>0.01</td>\n",
              "      <td>0.00</td>\n",
              "      <td>0.00</td>\n",
              "      <td>0.01</td>\n",
              "    </tr>\n",
              "    <tr>\n",
              "      <th>16597</th>\n",
              "      <td>16600</td>\n",
              "      <td>Spirits &amp; Spells</td>\n",
              "      <td>GBA</td>\n",
              "      <td>2003</td>\n",
              "      <td>Platform</td>\n",
              "      <td>Wanadoo</td>\n",
              "      <td>0.01</td>\n",
              "      <td>0.00</td>\n",
              "      <td>0.00</td>\n",
              "      <td>0.00</td>\n",
              "      <td>0.01</td>\n",
              "    </tr>\n",
              "  </tbody>\n",
              "</table>\n",
              "<p>16291 rows × 11 columns</p>\n",
              "</div>\n",
              "      <button class=\"colab-df-convert\" onclick=\"convertToInteractive('df-1ea7a107-dce5-448b-ab29-51e873f85545')\"\n",
              "              title=\"Convert this dataframe to an interactive table.\"\n",
              "              style=\"display:none;\">\n",
              "        \n",
              "  <svg xmlns=\"http://www.w3.org/2000/svg\" height=\"24px\"viewBox=\"0 0 24 24\"\n",
              "       width=\"24px\">\n",
              "    <path d=\"M0 0h24v24H0V0z\" fill=\"none\"/>\n",
              "    <path d=\"M18.56 5.44l.94 2.06.94-2.06 2.06-.94-2.06-.94-.94-2.06-.94 2.06-2.06.94zm-11 1L8.5 8.5l.94-2.06 2.06-.94-2.06-.94L8.5 2.5l-.94 2.06-2.06.94zm10 10l.94 2.06.94-2.06 2.06-.94-2.06-.94-.94-2.06-.94 2.06-2.06.94z\"/><path d=\"M17.41 7.96l-1.37-1.37c-.4-.4-.92-.59-1.43-.59-.52 0-1.04.2-1.43.59L10.3 9.45l-7.72 7.72c-.78.78-.78 2.05 0 2.83L4 21.41c.39.39.9.59 1.41.59.51 0 1.02-.2 1.41-.59l7.78-7.78 2.81-2.81c.8-.78.8-2.07 0-2.86zM5.41 20L4 18.59l7.72-7.72 1.47 1.35L5.41 20z\"/>\n",
              "  </svg>\n",
              "      </button>\n",
              "      \n",
              "  <style>\n",
              "    .colab-df-container {\n",
              "      display:flex;\n",
              "      flex-wrap:wrap;\n",
              "      gap: 12px;\n",
              "    }\n",
              "\n",
              "    .colab-df-convert {\n",
              "      background-color: #E8F0FE;\n",
              "      border: none;\n",
              "      border-radius: 50%;\n",
              "      cursor: pointer;\n",
              "      display: none;\n",
              "      fill: #1967D2;\n",
              "      height: 32px;\n",
              "      padding: 0 0 0 0;\n",
              "      width: 32px;\n",
              "    }\n",
              "\n",
              "    .colab-df-convert:hover {\n",
              "      background-color: #E2EBFA;\n",
              "      box-shadow: 0px 1px 2px rgba(60, 64, 67, 0.3), 0px 1px 3px 1px rgba(60, 64, 67, 0.15);\n",
              "      fill: #174EA6;\n",
              "    }\n",
              "\n",
              "    [theme=dark] .colab-df-convert {\n",
              "      background-color: #3B4455;\n",
              "      fill: #D2E3FC;\n",
              "    }\n",
              "\n",
              "    [theme=dark] .colab-df-convert:hover {\n",
              "      background-color: #434B5C;\n",
              "      box-shadow: 0px 1px 3px 1px rgba(0, 0, 0, 0.15);\n",
              "      filter: drop-shadow(0px 1px 2px rgba(0, 0, 0, 0.3));\n",
              "      fill: #FFFFFF;\n",
              "    }\n",
              "  </style>\n",
              "\n",
              "      <script>\n",
              "        const buttonEl =\n",
              "          document.querySelector('#df-1ea7a107-dce5-448b-ab29-51e873f85545 button.colab-df-convert');\n",
              "        buttonEl.style.display =\n",
              "          google.colab.kernel.accessAllowed ? 'block' : 'none';\n",
              "\n",
              "        async function convertToInteractive(key) {\n",
              "          const element = document.querySelector('#df-1ea7a107-dce5-448b-ab29-51e873f85545');\n",
              "          const dataTable =\n",
              "            await google.colab.kernel.invokeFunction('convertToInteractive',\n",
              "                                                     [key], {});\n",
              "          if (!dataTable) return;\n",
              "\n",
              "          const docLinkHtml = 'Like what you see? Visit the ' +\n",
              "            '<a target=\"_blank\" href=https://colab.research.google.com/notebooks/data_table.ipynb>data table notebook</a>'\n",
              "            + ' to learn more about interactive tables.';\n",
              "          element.innerHTML = '';\n",
              "          dataTable['output_type'] = 'display_data';\n",
              "          await google.colab.output.renderOutput(dataTable, element);\n",
              "          const docLink = document.createElement('div');\n",
              "          docLink.innerHTML = docLinkHtml;\n",
              "          element.appendChild(docLink);\n",
              "        }\n",
              "      </script>\n",
              "    </div>\n",
              "  </div>\n",
              "  "
            ],
            "text/plain": [
              "        Rank  ... Global_Sales\n",
              "0          1  ...        82.74\n",
              "1          2  ...        40.24\n",
              "2          3  ...        35.83\n",
              "3          4  ...        33.00\n",
              "4          5  ...        31.38\n",
              "...      ...  ...          ...\n",
              "16593  16596  ...         0.01\n",
              "16594  16597  ...         0.01\n",
              "16595  16598  ...         0.00\n",
              "16596  16599  ...         0.01\n",
              "16597  16600  ...         0.01\n",
              "\n",
              "[16291 rows x 11 columns]"
            ]
          },
          "metadata": {},
          "execution_count": 170
        }
      ]
    }
  ]
}