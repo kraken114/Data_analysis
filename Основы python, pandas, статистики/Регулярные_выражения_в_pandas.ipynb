{
  "cells": [
    {
      "cell_type": "markdown",
      "metadata": {
        "id": "ujY2VDqpB-9R"
      },
      "source": [
        "# Регулярные выражения в Python и pandas"
      ]
    },
    {
      "cell_type": "markdown",
      "metadata": {
        "id": "sTBZldJbB-9U"
      },
      "source": [
        "<a href=\"https://colab.research.google.com/github/dm-fedorov/pandas_basic/blob/master/кейсы%20по%20анализу%20данных/Регулярные_выражения_в_pandas.ipynb\" target=\"_blank\"><img align=\"left\" src=\"https://colab.research.google.com/assets/colab-badge.svg\" alt=\"Open in Colab\" title=\"Open and Execute in Google Colaboratory\"></a>"
      ]
    },
    {
      "cell_type": "markdown",
      "metadata": {
        "id": "Ggp3BB8PB-9V"
      },
      "source": [
        "> Отрывок из прекрасной книги *Дейтел Пол, Дейтел Харви. Python: Искусственный интеллект, большие данные и облачные вычисления*."
      ]
    },
    {
      "cell_type": "markdown",
      "metadata": {
        "id": "NfPwbVY7B-9V"
      },
      "source": [
        "Строка с регулярным выражением описывает шаблон для поиска совпадений в других строках."
      ]
    },
    {
      "cell_type": "markdown",
      "metadata": {
        "id": "adw4WEKGB-9V"
      },
      "source": [
        "На веб-сайтах:\n",
        "- https://regex101.com\n",
        "- http://www.regexlib.com\n",
        "- https://www.regular-expressions.info\n",
        "\n",
        "имеются репозитории готовых регулярных выражений.\n",
        "\n",
        "> см. официальный документ [Regular Expression HOWTO](https://docs.python.org/3/howto/regex.html#regex-howto)"
      ]
    },
    {
      "cell_type": "code",
      "execution_count": null,
      "metadata": {
        "id": "7TVt0GbsB-9W"
      },
      "outputs": [],
      "source": [
        "# импортируем модуль для работы с регулярными выражениями: https://docs.python.org/3/library/re.html\n",
        "import re"
      ]
    },
    {
      "cell_type": "markdown",
      "metadata": {
        "id": "AqTwedoCB-9X"
      },
      "source": [
        "Одна из простейших функций регулярных выражений [`fullmatch`](https://docs.python.org/3/library/re.html#re.fullmatch) проверяет, совпадает ли шаблон, заданный первым аргументом, со всей строкой, заданной вторым аргументом."
      ]
    },
    {
      "cell_type": "markdown",
      "metadata": {
        "id": "tAikA0pNB-9X"
      },
      "source": [
        "Начнем с проверки совпадений для литеральных символов, то есть символов, которые совпадают сами с собой:"
      ]
    },
    {
      "cell_type": "code",
      "execution_count": null,
      "metadata": {
        "id": "HrbCyruAB-9Y"
      },
      "outputs": [],
      "source": [
        "pattern = '02215'"
      ]
    },
    {
      "cell_type": "code",
      "execution_count": null,
      "metadata": {
        "id": "swXsC5xFB-9Y",
        "outputId": "0c4cf034-17c5-4b86-ed28-46b6fe4f1ef7"
      },
      "outputs": [
        {
          "data": {
            "text/plain": [
              "'Match'"
            ]
          },
          "execution_count": 3,
          "metadata": {},
          "output_type": "execute_result"
        }
      ],
      "source": [
        "# тернарный if\n",
        "'Match' if re.fullmatch(pattern, '02215') else 'No match'"
      ]
    },
    {
      "cell_type": "code",
      "execution_count": null,
      "metadata": {
        "id": "ClvYLWXhB-9Z",
        "outputId": "a1622385-4670-4ed2-fddd-d9cfd8b63a04"
      },
      "outputs": [
        {
          "data": {
            "text/plain": [
              "'No match'"
            ]
          },
          "execution_count": 4,
          "metadata": {},
          "output_type": "execute_result"
        }
      ],
      "source": [
        "'Match' if re.fullmatch(pattern, '51220') else 'No match'"
      ]
    },
    {
      "cell_type": "markdown",
      "metadata": {
        "id": "VO0nmPH8B-9Z"
      },
      "source": [
        "Первым аргументом функции является регулярное выражение — шаблон, для которого проверяется совпадение в строке. Любая строка может быть регулярным выражением. Значение переменной `pattern` `'02215'` состоит из цифровых литералов, которые совпадают только сами с собой в заданном порядке. Во втором аргументе передается строка, с которой должен полностью совпасть шаблон.\n",
        "\n",
        "Если шаблон из первого аргумента совпадает со строкой из второго аргумента, `fullmatch` возвращает объект с текстом совпадения, который интерпретируется как `True`.\n",
        "\n",
        "Во фрагменте второй аргумент содержит те же цифры, но эти цифры следуют в другом порядке. Таким образом, совпадения нет, а `fullmatch` возвращает `None`, что интерпретируется как `False`."
      ]
    },
    {
      "cell_type": "markdown",
      "metadata": {
        "id": "ayJtG23tB-9Z"
      },
      "source": [
        "Регулярные выражения обычно содержат различные специальные символы, которые называются метасимволами:\n",
        "\n",
        "`[] {} () \\ * + ^ $ ? . |`"
      ]
    },
    {
      "cell_type": "markdown",
      "metadata": {
        "id": "pzyktzuYB-9Z"
      },
      "source": [
        "С метасимвола `\\` начинается каждый из предварительно определенных *символьных классов*, каждый из которых совпадает с символом из конкретного набора.\n",
        "\n",
        "Проверим, что почтовый код состоит из пяти цифр:"
      ]
    },
    {
      "cell_type": "code",
      "execution_count": null,
      "metadata": {
        "id": "kEc80OIkB-9a",
        "outputId": "ca0caf14-a485-4dd5-ad55-992cfa982269"
      },
      "outputs": [
        {
          "data": {
            "text/plain": [
              "'Valid'"
            ]
          },
          "execution_count": 5,
          "metadata": {},
          "output_type": "execute_result"
        }
      ],
      "source": [
        "'Valid' if re.fullmatch(r'\\d{5}', '02215') else 'Invalid'"
      ]
    },
    {
      "cell_type": "code",
      "execution_count": null,
      "metadata": {
        "id": "4MrrJjo4B-9a",
        "outputId": "3a353347-a072-4dba-aab9-3a97385521a9"
      },
      "outputs": [
        {
          "data": {
            "text/plain": [
              "'Invalid'"
            ]
          },
          "execution_count": 6,
          "metadata": {},
          "output_type": "execute_result"
        }
      ],
      "source": [
        "'Valid' if re.fullmatch(r'\\d{5}', '9876') else 'Invalid'"
      ]
    },
    {
      "cell_type": "markdown",
      "metadata": {
        "id": "2-cD4LnCB-9a"
      },
      "source": [
        "В регулярном выражении `\\d{5}` `\\d` является символьным классом, представляющим цифру `(0–9)`.\n",
        "\n",
        "*Символьный класс* — служебная последовательность в регулярном выражении, совпадающая с одним символом. Чтобы совпадение могло состоять из нескольких символов, за символьным классом следует указать *квантификатор*.\n",
        "\n",
        "Квантификатор `{5}` повторяет `\\d` пять раз, как если бы мы использовали запись `\\d\\d\\d\\d\\d` для совпадения с пятью последовательными цифрами.\n",
        "\n",
        "Во фрагменте `fullmatch` возвращает `None`, потому что `'9876'` совпадает только с четырьмя последовательными цифровыми символами."
      ]
    },
    {
      "cell_type": "markdown",
      "metadata": {
        "id": "2dNrr2HWB-9a"
      },
      "source": [
        "Ниже перечислены некоторые предопределенные символьные классы и группы символов, с которыми они совпадают.\n",
        "\n",
        "- `\\d` Любая цифра `(0–9)`\n",
        "- `\\D` Любой символ, кроме цифр\n",
        "- `\\s` Любой символ-пропуск (пробелы, табуляции, новые строки)\n",
        "- `\\S` Любой символ, кроме пропусков\n",
        "- `\\w` Любой символ слова (также называемый алфавитно-цифровым символом) — то есть любая буква верхнего или нижнего регистра, любая цифра или символ подчеркивания\n",
        "- `\\W` Любой символ, кроме символов слов\n",
        "\n",
        "Чтобы любой метасимвол совпадал со своим литеральным значением, поставьте перед ним символ `\\` (обратный слеш). Например, `\\\\` совпадает с обратным слешем `( \\ )`, а `\\$` совпадает со знаком `$`."
      ]
    },
    {
      "cell_type": "markdown",
      "metadata": {
        "id": "h0aoDUr5B-9a"
      },
      "source": [
        "Квадратные скобки `[]` определяют *пользовательский символьный класс*, совпадающий с одним символом. Так, `[aeiou]` совпадает с гласной буквой нижнего регистра, `[A-Z]` — с буквой верхнего регистра, `[a-z]` — с буквой нижнего регистра и `[a-zA-Z]` — с любой буквой нижнего (верхнего) регистра.\n",
        "\n",
        "Выполним простую проверку имени — последовательности букв без пробелов или знаков препинания. Проверим, что последовательность начинается с буквы верхнего регистра `( A–Z )`, а за ней следует *произвольное количество* букв нижнего регистра `( a–z )`:"
      ]
    },
    {
      "cell_type": "code",
      "execution_count": null,
      "metadata": {
        "id": "9If8vK3LB-9a",
        "outputId": "8e151f72-c325-4d2b-968c-403abe4a2f70"
      },
      "outputs": [
        {
          "data": {
            "text/plain": [
              "'Valid'"
            ]
          },
          "execution_count": 7,
          "metadata": {},
          "output_type": "execute_result"
        }
      ],
      "source": [
        "'Valid' if re.fullmatch('[A-Z][a-z]*', 'Wally') else 'Invalid'"
      ]
    },
    {
      "cell_type": "code",
      "execution_count": null,
      "metadata": {
        "id": "ewgT0k0wB-9a",
        "outputId": "7de22d31-6428-4ebd-e474-ed415fd86094"
      },
      "outputs": [
        {
          "data": {
            "text/plain": [
              "'Invalid'"
            ]
          },
          "execution_count": 8,
          "metadata": {},
          "output_type": "execute_result"
        }
      ],
      "source": [
        "'Valid' if re.fullmatch('[A-Z][a-z]*', 'eva') else 'Invalid'"
      ]
    },
    {
      "cell_type": "markdown",
      "metadata": {
        "id": "oOzRoTjpB-9b"
      },
      "source": [
        "Имя может содержать неизвестное заранее количество букв.\n",
        "\n",
        "Квантификатор `*` совпадает с *нулем и более вхождениями* подвыражения, находящегося слева (в данном случае `[a-z]`). Таким образом, `[A-Z][a-z]*` совпадает с буквой верхнего регистра, за которой следует нуль и более букв нижнего регистра (например, `'Amanda'` , `'Bo'` и даже `'E'`).\n",
        "\n",
        "Если пользовательский символьный класс начинается с символа `^` (крышка), то класс совпадает с любым символом, который не подходит под определение из класса. Таким образом, `[^a-z]` совпадает с любым символом, который не является буквой нижнего регистра:"
      ]
    },
    {
      "cell_type": "code",
      "execution_count": null,
      "metadata": {
        "id": "lPRhcAHmB-9b",
        "outputId": "0f4245b9-4873-46f3-9916-873785351398"
      },
      "outputs": [
        {
          "data": {
            "text/plain": [
              "'Match'"
            ]
          },
          "execution_count": 9,
          "metadata": {},
          "output_type": "execute_result"
        }
      ],
      "source": [
        "'Match' if re.fullmatch('[^a-z]', 'A') else 'No match'"
      ]
    },
    {
      "cell_type": "code",
      "execution_count": null,
      "metadata": {
        "id": "7FcCilMQB-9b",
        "outputId": "7025848d-902a-41af-c82b-1c9ad33e7a76"
      },
      "outputs": [
        {
          "data": {
            "text/plain": [
              "'No match'"
            ]
          },
          "execution_count": 10,
          "metadata": {},
          "output_type": "execute_result"
        }
      ],
      "source": [
        "'Match' if re.fullmatch('[^a-z]', 'a') else 'No match'"
      ]
    },
    {
      "cell_type": "markdown",
      "metadata": {
        "id": "UmdONBd-B-9b"
      },
      "source": [
        "Метасимволы в пользовательском символьном классе интерпретируются как литеральные символы, то есть как сами символы, не имеющие специального смысла.\n",
        "\n",
        "Таким образом, символьный класс `[*+$]` совпадает с одним из символов `*` , `+` или `$`:"
      ]
    },
    {
      "cell_type": "code",
      "execution_count": null,
      "metadata": {
        "id": "teW_BT3XB-9b",
        "outputId": "9dc5a199-b176-4bbf-93d5-5eb8bea428a0"
      },
      "outputs": [
        {
          "data": {
            "text/plain": [
              "'Match'"
            ]
          },
          "execution_count": 11,
          "metadata": {},
          "output_type": "execute_result"
        }
      ],
      "source": [
        "'Match' if re.fullmatch('[*+$]', '*') else 'No match'"
      ]
    },
    {
      "cell_type": "code",
      "execution_count": null,
      "metadata": {
        "id": "ShRb4i5rB-9b",
        "outputId": "299e7ab3-ce55-4c40-f786-0aedcc6887ef"
      },
      "outputs": [
        {
          "data": {
            "text/plain": [
              "'No match'"
            ]
          },
          "execution_count": 12,
          "metadata": {},
          "output_type": "execute_result"
        }
      ],
      "source": [
        "'Match' if re.fullmatch('[*+$]', '!') else 'No match'"
      ]
    },
    {
      "cell_type": "markdown",
      "metadata": {
        "id": "MAsp66_TB-9c"
      },
      "source": [
        "Для того чтобы имя содержало хотя бы одну букву нижнего регистра, квантификатор `*` во фрагменте можно заменить знаком `+`, который совпадает по крайней мере с одним вхождением подвыражения:"
      ]
    },
    {
      "cell_type": "code",
      "execution_count": null,
      "metadata": {
        "id": "cpRTln8rB-9c",
        "outputId": "9c8071b9-421b-4681-95ca-90689425e465"
      },
      "outputs": [
        {
          "data": {
            "text/plain": [
              "'Valid'"
            ]
          },
          "execution_count": 13,
          "metadata": {},
          "output_type": "execute_result"
        }
      ],
      "source": [
        "'Valid' if re.fullmatch('[A-Z][a-z]+', 'Wally') else 'Invalid'"
      ]
    },
    {
      "cell_type": "code",
      "execution_count": null,
      "metadata": {
        "id": "4iT9z01vB-9c",
        "outputId": "b9ca7946-dce2-419f-d929-90b5152fab01"
      },
      "outputs": [
        {
          "data": {
            "text/plain": [
              "'Invalid'"
            ]
          },
          "execution_count": 14,
          "metadata": {},
          "output_type": "execute_result"
        }
      ],
      "source": [
        "'Valid' if re.fullmatch('[A-Z][a-z]+', 'E') else 'Invalid'"
      ]
    },
    {
      "cell_type": "markdown",
      "metadata": {
        "id": "4triexYcB-9c"
      },
      "source": [
        "Квантификаторы `*` и `+` являются максимальными (*\"жадными\"*) — они совпадают с максимально возможным количеством символов.\n",
        "\n",
        "Таким образом, регулярные выражения `[A-Z][a-z]+` совпадают с именами `'Al'` , `'Eva'` , `'Samantha'` , `'Benjamin'` и любыми другими словами, начинающимися с буквы верхнего регистра, за которой следует хотя бы одна буква нижнего регистра."
      ]
    },
    {
      "cell_type": "markdown",
      "metadata": {
        "id": "JGjvg_I5B-9c"
      },
      "source": [
        "Квантификатор `?` совпадает *с нулем или одним вхождением* подвыражения:"
      ]
    },
    {
      "cell_type": "code",
      "execution_count": null,
      "metadata": {
        "id": "rfXlkEOJB-9c",
        "outputId": "3d167912-bddb-48ad-b038-b5461ade8337"
      },
      "outputs": [
        {
          "data": {
            "text/plain": [
              "'Match'"
            ]
          },
          "execution_count": 15,
          "metadata": {},
          "output_type": "execute_result"
        }
      ],
      "source": [
        "'Match' if re.fullmatch('labell?ed', 'labelled') else 'No match'"
      ]
    },
    {
      "cell_type": "code",
      "execution_count": null,
      "metadata": {
        "id": "3QoXmKgAB-9c",
        "outputId": "db25452a-a7eb-4fa6-c5ec-fbf72cd788ab"
      },
      "outputs": [
        {
          "data": {
            "text/plain": [
              "'Match'"
            ]
          },
          "execution_count": 16,
          "metadata": {},
          "output_type": "execute_result"
        }
      ],
      "source": [
        "'Match' if re.fullmatch('labell?ed', 'labeled') else 'No match'"
      ]
    },
    {
      "cell_type": "code",
      "execution_count": null,
      "metadata": {
        "id": "Se9UzpTpB-9d",
        "outputId": "8c5cb455-474d-4d97-c0ae-72e057e01418"
      },
      "outputs": [
        {
          "data": {
            "text/plain": [
              "'No match'"
            ]
          },
          "execution_count": 17,
          "metadata": {},
          "output_type": "execute_result"
        }
      ],
      "source": [
        "'Match' if re.fullmatch('labell?ed', 'labellled') else 'No match'"
      ]
    },
    {
      "cell_type": "markdown",
      "metadata": {
        "id": "LxGlqkKwB-9d"
      },
      "source": [
        "Регулярное выражение `labell?ed` совпадает со словами `labelled` и `labeled` , но не с ошибочно написанным словом `labellled`. В каждом из приведенных выше фрагментов первые пять литеральных символов регулярного выражения `( label )` совпадают с первыми пятью символами второго аргумента. Часть `l?` означает, что оставшимся литеральным символам `ed` может предшествовать нуль или один символ `l` .\n",
        "\n",
        "Квантификатор `{n,}` совпадает *не менее чем* с `n` вхождениями подвыражения. Следующее регулярное выражение совпадает со строками, содержащими не менее трех цифр:"
      ]
    },
    {
      "cell_type": "code",
      "execution_count": null,
      "metadata": {
        "id": "gYzEsX0EB-9d",
        "outputId": "92b17b28-c482-4206-fa04-de0ee960dda5"
      },
      "outputs": [
        {
          "data": {
            "text/plain": [
              "'Match'"
            ]
          },
          "execution_count": 18,
          "metadata": {},
          "output_type": "execute_result"
        }
      ],
      "source": [
        "'Match' if re.fullmatch(r'\\d{3,}', '123') else 'No match'"
      ]
    },
    {
      "cell_type": "code",
      "execution_count": null,
      "metadata": {
        "id": "PrWns3nzB-9d",
        "outputId": "2e77c838-1e3e-424e-aae1-8e7b94d79e73"
      },
      "outputs": [
        {
          "data": {
            "text/plain": [
              "'Match'"
            ]
          },
          "execution_count": 19,
          "metadata": {},
          "output_type": "execute_result"
        }
      ],
      "source": [
        "'Match' if re.fullmatch(r'\\d{3,}', '1234567890') else 'No match'"
      ]
    },
    {
      "cell_type": "code",
      "execution_count": null,
      "metadata": {
        "id": "LcRU_ancB-9d",
        "outputId": "8d97d19c-f514-47aa-d3b6-4495cb447d5d"
      },
      "outputs": [
        {
          "data": {
            "text/plain": [
              "'No match'"
            ]
          },
          "execution_count": 20,
          "metadata": {},
          "output_type": "execute_result"
        }
      ],
      "source": [
        "'Match' if re.fullmatch(r'\\d{3,}', '12') else 'No match'"
      ]
    },
    {
      "cell_type": "markdown",
      "metadata": {
        "id": "4hU8NglEB-9h"
      },
      "source": [
        "Чтобы совпадение включало от `n` до `m` (включительно) вхождений, используйте квантификатор `{n,m}`. Следующее регулярное выражение совпадает со строками, содержащими от `3` до `6` цифр:"
      ]
    },
    {
      "cell_type": "code",
      "execution_count": null,
      "metadata": {
        "id": "C8X5nc2MB-9h",
        "outputId": "748eea71-674b-4819-c7a8-728a9933b585"
      },
      "outputs": [
        {
          "data": {
            "text/plain": [
              "'Match'"
            ]
          },
          "execution_count": 21,
          "metadata": {},
          "output_type": "execute_result"
        }
      ],
      "source": [
        "'Match' if re.fullmatch(r'\\d{3,6}', '123') else 'No match'"
      ]
    },
    {
      "cell_type": "code",
      "execution_count": null,
      "metadata": {
        "id": "7h2PNctRB-9h",
        "outputId": "170367fb-2575-44e0-fa6b-7b585abfa15c"
      },
      "outputs": [
        {
          "data": {
            "text/plain": [
              "'Match'"
            ]
          },
          "execution_count": 22,
          "metadata": {},
          "output_type": "execute_result"
        }
      ],
      "source": [
        "'Match' if re.fullmatch(r'\\d{3,6}', '123456') else 'No match'"
      ]
    },
    {
      "cell_type": "code",
      "execution_count": null,
      "metadata": {
        "id": "j6fYrms4B-9h",
        "outputId": "6a531dfb-854a-4368-cc8b-d2e339b21e95"
      },
      "outputs": [
        {
          "data": {
            "text/plain": [
              "'No match'"
            ]
          },
          "execution_count": 23,
          "metadata": {},
          "output_type": "execute_result"
        }
      ],
      "source": [
        "'Match' if re.fullmatch(r'\\d{3,6}', '1234567') else 'No match'"
      ]
    },
    {
      "cell_type": "code",
      "execution_count": null,
      "metadata": {
        "id": "hUFf0x9wB-9h",
        "outputId": "f7410a97-1873-4348-bb62-1b326d9d1a12"
      },
      "outputs": [
        {
          "data": {
            "text/plain": [
              "'No match'"
            ]
          },
          "execution_count": 24,
          "metadata": {},
          "output_type": "execute_result"
        }
      ],
      "source": [
        "'Match' if re.fullmatch(r'\\d{3,6}', '12') else 'No match'"
      ]
    },
    {
      "cell_type": "markdown",
      "metadata": {
        "id": "4Fi8uUOBB-9i"
      },
      "source": [
        "Модуль `re` предоставляет функцию [`sub`](https://docs.python.org/3/library/re.html#re.sub) для замены совпадений шаблона в строке, а также функцию [`split`](https://docs.python.org/3/library/re.html#re.Pattern.split) для разбиения строки на фрагменты на основании шаблонов."
      ]
    },
    {
      "cell_type": "markdown",
      "metadata": {
        "id": "Oj6O7sxAB-9i"
      },
      "source": [
        "По умолчанию функция `sub` модуля `re` заменяет все вхождения шаблона заданным текстом.\n",
        "\n",
        "Преобразуем строку, разделенную табуляциями, в формат с разделением запятыми:"
      ]
    },
    {
      "cell_type": "code",
      "execution_count": null,
      "metadata": {
        "id": "ppugwQp2B-9i"
      },
      "outputs": [],
      "source": [
        "import re"
      ]
    },
    {
      "cell_type": "code",
      "execution_count": null,
      "metadata": {
        "id": "xLpN8TYSB-9i",
        "outputId": "a6375f3d-d65b-4af4-834d-ed188f2dee6e"
      },
      "outputs": [
        {
          "data": {
            "text/plain": [
              "'1, 2, 3, 4'"
            ]
          },
          "execution_count": 26,
          "metadata": {},
          "output_type": "execute_result"
        }
      ],
      "source": [
        "re.sub(r'\\t', ', ', '1\\t2\\t3\\t4')"
      ]
    },
    {
      "cell_type": "markdown",
      "metadata": {
        "id": "84Zu4QZDB-9i"
      },
      "source": [
        "Функция `sub` получает три обязательных аргумента:\n",
        "\n",
        "- шаблон для поиска (символ табуляции `'\\t'`);\n",
        "- текст замены ( `', '` );\n",
        "- строка, в которой ведется поиск ( `'1\\t2\\t3\\t4'` ),\n",
        "\n",
        "и возвращает новую строку.\n",
        "\n",
        "Ключевой аргумент `count` может использоваться для определения максимального количества замен:"
      ]
    },
    {
      "cell_type": "code",
      "execution_count": null,
      "metadata": {
        "id": "MNPsUrALB-9i",
        "outputId": "28d1e514-70a7-4682-f8ca-f54b95399bd6"
      },
      "outputs": [
        {
          "data": {
            "text/plain": [
              "'1, 2, 3\\t4'"
            ]
          },
          "execution_count": 27,
          "metadata": {},
          "output_type": "execute_result"
        }
      ],
      "source": [
        "re.sub(r'\\t', ', ', '1\\t2\\t3\\t4', count=2)"
      ]
    },
    {
      "cell_type": "markdown",
      "metadata": {
        "id": "rNl4wqYTB-9i"
      },
      "source": [
        "Функция `split` разбивает строку на лексемы, используя регулярное выражение для определения ограничителя, и возвращает список строк.\n",
        "\n",
        "Разобьем строку по запятым, за которыми следует `0` или более пропусков — для обозначения пропусков используется символьный класс `\\s` , а `*` обозначает `0` и более вхождений предшествующего подвыражения:"
      ]
    },
    {
      "cell_type": "code",
      "execution_count": null,
      "metadata": {
        "id": "_DFxOo1FB-9j",
        "outputId": "709d5348-acc0-4d11-ac71-138636d4f24a"
      },
      "outputs": [
        {
          "data": {
            "text/plain": [
              "['1', '2', '3', '4', '5', '6', '7', '8']"
            ]
          },
          "execution_count": 28,
          "metadata": {},
          "output_type": "execute_result"
        }
      ],
      "source": [
        "re.split(r',\\s*', '1, 2, 3,4,        5,6,7,8')"
      ]
    },
    {
      "cell_type": "markdown",
      "metadata": {
        "id": "OK69SzfrB-9j"
      },
      "source": [
        "Ключевой аргумент `maxsplit` задает максимальное количество разбиений:"
      ]
    },
    {
      "cell_type": "code",
      "execution_count": null,
      "metadata": {
        "id": "cvDjQ_0RB-9j",
        "outputId": "b32b9e5f-cf1d-48a4-b121-b150fcd76868"
      },
      "outputs": [
        {
          "data": {
            "text/plain": [
              "['1', '2', '3', '4,            5,6,7,8']"
            ]
          },
          "execution_count": 29,
          "metadata": {},
          "output_type": "execute_result"
        }
      ],
      "source": [
        "re.split(r',\\s*', '1,   2, 3,4,            5,6,7,8', maxsplit=3)"
      ]
    },
    {
      "cell_type": "markdown",
      "metadata": {
        "id": "C1F0fNJIB-9j"
      },
      "source": [
        "В данном случае после трех разбиений четвертая строка содержит остаток исходной строки."
      ]
    },
    {
      "cell_type": "markdown",
      "metadata": {
        "id": "CkqPD-qTB-9j"
      },
      "source": [
        "Ранее мы использовали функцию `fullmatch` для определения того, совпала ли вся строка с регулярным выражением. Но существует и ряд других функций поиска совпадений.\n",
        "\n",
        "Функция [`search`](https://docs.python.org/3/library/re.html#re.Pattern.search) ищет в строке *первое вхождение подстроки*, совпадающей с регулярным выражением, и *возвращает объект совпадения* (типа [`SRE_Match`](https://docs.python.org/3/library/re.html#match-objects)), содержащий подстроку с совпадением.\n",
        "\n",
        "Метод [`group`](https://docs.python.org/3/library/re.html#re.Match.group) объекта совпадения возвращает эту подстроку:"
      ]
    },
    {
      "cell_type": "code",
      "execution_count": null,
      "metadata": {
        "id": "2Asb4UWIB-9j"
      },
      "outputs": [],
      "source": [
        "import re"
      ]
    },
    {
      "cell_type": "code",
      "execution_count": null,
      "metadata": {
        "id": "XaczSzHFB-9j"
      },
      "outputs": [],
      "source": [
        "result = re.search('Python', 'Python is fun')"
      ]
    },
    {
      "cell_type": "code",
      "execution_count": null,
      "metadata": {
        "id": "F4zFz8vhB-9k",
        "outputId": "da933c8d-c0e8-4932-bab4-29556d8baa7b"
      },
      "outputs": [
        {
          "data": {
            "text/plain": [
              "'Python'"
            ]
          },
          "execution_count": 32,
          "metadata": {},
          "output_type": "execute_result"
        }
      ],
      "source": [
        "result.group() if result else 'not found'"
      ]
    },
    {
      "cell_type": "markdown",
      "metadata": {
        "id": "9uxmSGqQB-9k"
      },
      "source": [
        "Функция [`match`](https://docs.python.org/3/library/re.html#re.Pattern.match) ищет совпадение только от начала строки."
      ]
    },
    {
      "cell_type": "markdown",
      "metadata": {
        "id": "3SzwIjTtB-9k"
      },
      "source": [
        "Метасимвол `^` в начале регулярного выражения (и не в квадратных скобках) — якорь, указывающий, что *выражение совпадает только от начала строки*:"
      ]
    },
    {
      "cell_type": "code",
      "execution_count": null,
      "metadata": {
        "id": "e0O5dW5oB-9k"
      },
      "outputs": [],
      "source": [
        "result = re.search('^Python', 'Python is fun')"
      ]
    },
    {
      "cell_type": "code",
      "execution_count": null,
      "metadata": {
        "id": "axTr-7g3B-9k",
        "outputId": "e6255c1b-82a1-45de-bc9e-e1be55ab9047"
      },
      "outputs": [
        {
          "data": {
            "text/plain": [
              "'Python'"
            ]
          },
          "execution_count": 34,
          "metadata": {},
          "output_type": "execute_result"
        }
      ],
      "source": [
        "result.group() if result else 'not found'"
      ]
    },
    {
      "cell_type": "code",
      "execution_count": null,
      "metadata": {
        "id": "ihNcsjzAB-9k"
      },
      "outputs": [],
      "source": [
        "result = re.search('^fun', 'Python is fun')"
      ]
    },
    {
      "cell_type": "code",
      "execution_count": null,
      "metadata": {
        "id": "CqMG42peB-9k",
        "outputId": "accad2d1-2780-4510-cc4f-a8187d41c5d2"
      },
      "outputs": [
        {
          "data": {
            "text/plain": [
              "'not found'"
            ]
          },
          "execution_count": 36,
          "metadata": {},
          "output_type": "execute_result"
        }
      ],
      "source": [
        "result.group() if result else 'not found'"
      ]
    },
    {
      "cell_type": "markdown",
      "metadata": {
        "id": "9QGphGcQB-9k"
      },
      "source": [
        "Аналогичным образом символ `$` в конце регулярного выражения является якорем, указывающим, что *выражение совпадает только в конце строки*:"
      ]
    },
    {
      "cell_type": "code",
      "execution_count": null,
      "metadata": {
        "id": "s1n8K4OAB-9l"
      },
      "outputs": [],
      "source": [
        "result = re.search('Python$', 'Python is fun')"
      ]
    },
    {
      "cell_type": "code",
      "execution_count": null,
      "metadata": {
        "id": "snLHcptCB-9l",
        "outputId": "ef0eda5a-7536-439e-b956-4ccd79463a67"
      },
      "outputs": [
        {
          "data": {
            "text/plain": [
              "'not found'"
            ]
          },
          "execution_count": 38,
          "metadata": {},
          "output_type": "execute_result"
        }
      ],
      "source": [
        "result.group() if result else 'not found'"
      ]
    },
    {
      "cell_type": "code",
      "execution_count": null,
      "metadata": {
        "id": "oertAmbSB-9l"
      },
      "outputs": [],
      "source": [
        "result = re.search('fun$', 'Python is fun')"
      ]
    },
    {
      "cell_type": "code",
      "execution_count": null,
      "metadata": {
        "id": "m_2ObbRrB-9l",
        "outputId": "995e1255-6235-4ef7-cb41-248d2b45d710"
      },
      "outputs": [
        {
          "data": {
            "text/plain": [
              "'fun'"
            ]
          },
          "execution_count": 40,
          "metadata": {},
          "output_type": "execute_result"
        }
      ],
      "source": [
        "result.group() if result else 'not found'"
      ]
    },
    {
      "cell_type": "markdown",
      "metadata": {
        "id": "3Io2JMKjB-9l"
      },
      "source": [
        "Функция [`findall`](https://docs.python.org/3/library/re.html#re.Pattern.findall) находит все совпадающие подстроки и возвращает список совпадений.\n",
        "\n",
        "Для примера извлечем все телефонные номера в строке, полагая, что телефонные номера записываются в форме `###-###-####` :"
      ]
    },
    {
      "cell_type": "code",
      "execution_count": null,
      "metadata": {
        "id": "_updG8IuB-9l"
      },
      "outputs": [],
      "source": [
        "contact = 'Wally White, Home: 555-555-1234, Work: 555-555-4321'"
      ]
    },
    {
      "cell_type": "code",
      "execution_count": null,
      "metadata": {
        "id": "Z7xjQ2rGB-9l",
        "outputId": "431b75f4-5bcb-4ad1-df26-5b8623a1e06f"
      },
      "outputs": [
        {
          "data": {
            "text/plain": [
              "['555-555-1234', '555-555-4321']"
            ]
          },
          "execution_count": 42,
          "metadata": {},
          "output_type": "execute_result"
        }
      ],
      "source": [
        "re.findall(r'\\d{3}-\\d{3}-\\d{4}', contact)"
      ]
    },
    {
      "cell_type": "markdown",
      "metadata": {
        "id": "jhDURLkaB-9m"
      },
      "source": [
        "Функция [`finditer`](https://docs.python.org/3/library/re.html#re.finditer) работает аналогично `findall` , но возвращает итерируемый объект, содержащий объекты совпадений, с отложенным вычислением.\n",
        "\n",
        "При большом количестве совпадений использование `finditer` позволит сэкономить память, потому что она возвращает по одному совпадению, тогда как `findall` возвращает все совпадения сразу:"
      ]
    },
    {
      "cell_type": "code",
      "execution_count": null,
      "metadata": {
        "id": "lWneKKYlB-9m",
        "outputId": "2e025514-5140-47a3-e3f0-e1cf4d88ab65"
      },
      "outputs": [
        {
          "name": "stdout",
          "output_type": "stream",
          "text": [
            "555-555-1234\n",
            "555-555-4321\n"
          ]
        }
      ],
      "source": [
        "for phone in re.finditer(r'\\d{3}-\\d{3}-\\d{4}', contact):\n",
        "    print(phone.group())"
      ]
    },
    {
      "cell_type": "markdown",
      "metadata": {
        "id": "yugip1BAB-9m"
      },
      "source": [
        "Метасимволы `(` и `)` (круглые скобки) используются *для сохранения подстрок в совпадениях*.\n",
        "\n",
        "Для примера сохраним отдельно имя и адрес электронной почты в тексте строки:"
      ]
    },
    {
      "cell_type": "code",
      "execution_count": null,
      "metadata": {
        "id": "8DSs9UmGB-9m"
      },
      "outputs": [],
      "source": [
        "text = 'Charlie Cyan, e-mail: demo1@deitel.com'"
      ]
    },
    {
      "cell_type": "code",
      "execution_count": null,
      "metadata": {
        "id": "V7p0qHqEB-9m"
      },
      "outputs": [],
      "source": [
        "pattern = r'([A-Z][a-z]+ [A-Z][a-z]+), e-mail: (\\w+@\\w+\\.\\w{3})'"
      ]
    },
    {
      "cell_type": "code",
      "execution_count": null,
      "metadata": {
        "id": "7w15Rm7lB-9m"
      },
      "outputs": [],
      "source": [
        "result = re.search(pattern, text)"
      ]
    },
    {
      "cell_type": "markdown",
      "metadata": {
        "id": "dXf8GErRB-9m"
      },
      "source": [
        "Регулярное выражение задает две *сохраняемые подстроки*, заключенные в метасимволы `(` и `)` . Эти метасимволы не влияют на то, в каком месте текста строки будет найдено совпадение шаблона, — функция `match` возвращает объект совпадения только в том случае, если совпадение всего шаблона будет найдено в тексте строки.\n",
        "\n",
        "Рассмотрим регулярное выражение по частям:"
      ]
    },
    {
      "cell_type": "markdown",
      "metadata": {
        "id": "CXbZjAoGB-9m"
      },
      "source": [
        "- `'([A-Z][a-z]+ [A-Z][a-z]+)'` совпадает с двумя словами, разделенными пробелом. Каждое слово должно начинаться с буквы верхнего регистра.\n",
        "-  `', e-mail: '` содержит литеральные символы, которые совпадают сами с собой.\n",
        "-  `(\\w+@\\w+\\.\\w{3})` совпадает с простым адресом электронной почты, состоящим из одного или нескольких алфавитно-цифровых символов ( `\\w+` ), символа `@` , одного или нескольких алфавитно-цифровых символов ( `\\w+` ), точки ( `\\.` ) и трех алфавитно-цифровых символов ( `\\w{3}` ). Перед точкой ставится символ `\\` , потому что точка ( `.` ) в регулярных выражениях является метасимволом, совпадающим с одним символом."
      ]
    },
    {
      "cell_type": "markdown",
      "metadata": {
        "id": "RFcoUKLKB-9m"
      },
      "source": [
        "Метод `groups` объекта совпадения возвращает кортеж совпавших подстрок:"
      ]
    },
    {
      "cell_type": "code",
      "execution_count": null,
      "metadata": {
        "id": "bLW0skapB-9n",
        "outputId": "f043cdae-83c8-4947-abd6-e0b968a4d965"
      },
      "outputs": [
        {
          "data": {
            "text/plain": [
              "('Charlie Cyan', 'demo1@deitel.com')"
            ]
          },
          "execution_count": 47,
          "metadata": {},
          "output_type": "execute_result"
        }
      ],
      "source": [
        "result.groups()"
      ]
    },
    {
      "cell_type": "markdown",
      "metadata": {
        "id": "Tyvk1mSYB-9n"
      },
      "source": [
        "Вы можете обратиться к каждой сохраненной строке, передав целое число методу `group` .\n",
        "\n",
        "Нумерация сохраненных подстрок начинается с `1` (в отличие от индексов списков, которые начинаются с `0`):"
      ]
    },
    {
      "cell_type": "code",
      "execution_count": null,
      "metadata": {
        "id": "iOyDmKXOB-9n",
        "outputId": "5e94fad2-cec6-485d-8e8a-d3c8b4b76a74"
      },
      "outputs": [
        {
          "data": {
            "text/plain": [
              "'Charlie Cyan'"
            ]
          },
          "execution_count": 48,
          "metadata": {},
          "output_type": "execute_result"
        }
      ],
      "source": [
        "result.group(1)"
      ]
    },
    {
      "cell_type": "code",
      "execution_count": null,
      "metadata": {
        "id": "a1zDTr5TB-9n",
        "outputId": "ea7b384f-8b9f-4c8a-8ee5-7b6b464364fe"
      },
      "outputs": [
        {
          "data": {
            "text/plain": [
              "'demo1@deitel.com'"
            ]
          },
          "execution_count": 49,
          "metadata": {},
          "output_type": "execute_result"
        }
      ],
      "source": [
        "result.group(2)"
      ]
    },
    {
      "cell_type": "markdown",
      "metadata": {
        "id": "6gncUMR8B-9n"
      },
      "source": [
        "Рассмотрим использование регулярных выражений в процессе очистки данных.\n",
        "\n",
        "Начнем с создания коллекции `Series` почтовых кодов, состоящих из пяти цифр, на базе словаря пар \"название-города/почтовый-код-из-5-цифр\". Мы намеренно указали ошибочный индекс для Майами:"
      ]
    },
    {
      "cell_type": "code",
      "execution_count": null,
      "metadata": {
        "id": "Q7DSPUQ0B-9n"
      },
      "outputs": [],
      "source": [
        "# импортируем pandas\n",
        "import pandas as pd"
      ]
    },
    {
      "cell_type": "code",
      "execution_count": null,
      "metadata": {
        "id": "O4679f3QB-9n"
      },
      "outputs": [],
      "source": [
        "zips = pd.Series({'Boston': '02215',\n",
        "                  'Miami': '3310'})"
      ]
    },
    {
      "cell_type": "code",
      "execution_count": null,
      "metadata": {
        "id": "c3xHFp3RB-9n",
        "outputId": "90167e29-d34c-442a-aab8-6fc95d2b5626"
      },
      "outputs": [
        {
          "data": {
            "text/plain": [
              "Boston    02215\n",
              "Miami      3310\n",
              "dtype: object"
            ]
          },
          "execution_count": 52,
          "metadata": {},
          "output_type": "execute_result"
        }
      ],
      "source": [
        "zips"
      ]
    },
    {
      "cell_type": "markdown",
      "metadata": {
        "id": "f50fRKYBB-9o"
      },
      "source": [
        "Для проверки данных можно воспользоваться регулярными выражениями с *pandas*.\n",
        "\n",
        "Атрибут `str` коллекции `Series` предоставляет средства обработки строк и различные методы регулярных выражений. Чтобы проверить правильность каждого отдельного почтового кода, воспользуемся методом `match` атрибута `str` :"
      ]
    },
    {
      "cell_type": "code",
      "execution_count": null,
      "metadata": {
        "id": "U0TR1YomB-9o",
        "outputId": "512f2234-61d9-438a-9250-c197907f29b3"
      },
      "outputs": [
        {
          "data": {
            "text/plain": [
              "Boston     True\n",
              "Miami     False\n",
              "dtype: bool"
            ]
          },
          "execution_count": 53,
          "metadata": {},
          "output_type": "execute_result"
        }
      ],
      "source": [
        "zips.str.match(r'\\d{5}')"
      ]
    },
    {
      "cell_type": "markdown",
      "metadata": {
        "id": "tid1WxqVB-9o"
      },
      "source": [
        "Метод `match` применяет регулярное выражение `\\d{5}` к каждому элементу `Series` , чтобы убедиться в том, что элемент состоит ровно из пяти цифр.\n",
        "\n",
        "Явно перебирать все почтовые коды в цикле не нужно — [`match`](https://pandas.pydata.org/docs/reference/api/pandas.Series.str.match.html) сделает это за вас. Метод возвращает новую коллекцию `Series` , содержащую значение `True` для каждого действительного элемента.\n",
        "\n",
        "В данном случае почтовый код Майами проверку не прошел, поэтому его элемент равен `False` ."
      ]
    },
    {
      "cell_type": "markdown",
      "metadata": {
        "id": "2w8o1imJB-9o"
      },
      "source": [
        "Иногда вместо того, чтобы проверять на совпадение шаблона всю строку, требуется узнать, содержит ли значение подстроку, совпадающую с шаблоном.\n",
        "\n",
        "В этом случае следует использовать метод [`contains`](https://pandas.pydata.org/docs/reference/api/pandas.Series.str.contains.html) вместо `match` .\n",
        "\n",
        "Создадим коллекцию `Series` строк, каждая из которых содержит название города в США, штата и почтовый код, а затем определим, содержит ли каждая строку подстроку, совпадающую с шаблоном `' [A-Z]{2} '` (пробел, за которым следуют две буквы верхнего регистра, и еще один пробел):"
      ]
    },
    {
      "cell_type": "code",
      "execution_count": null,
      "metadata": {
        "id": "K7ifCQR8B-9o"
      },
      "outputs": [],
      "source": [
        "cities = pd.Series(['Boston, MA 02215',\n",
        "                    'Miami, FL 33101'])"
      ]
    },
    {
      "cell_type": "code",
      "execution_count": null,
      "metadata": {
        "id": "kK-dIft0B-9o",
        "outputId": "fdba487d-f2e2-47fc-c99c-4b81db08c5dd"
      },
      "outputs": [
        {
          "data": {
            "text/plain": [
              "0    Boston, MA 02215\n",
              "1     Miami, FL 33101\n",
              "dtype: object"
            ]
          },
          "execution_count": 55,
          "metadata": {},
          "output_type": "execute_result"
        }
      ],
      "source": [
        "cities"
      ]
    },
    {
      "cell_type": "code",
      "execution_count": null,
      "metadata": {
        "id": "Rmi6Kp6QB-9o",
        "outputId": "69ff7fa8-2a27-4fde-d647-e06a1b5b7202"
      },
      "outputs": [
        {
          "data": {
            "text/plain": [
              "0    True\n",
              "1    True\n",
              "dtype: bool"
            ]
          },
          "execution_count": 56,
          "metadata": {},
          "output_type": "execute_result"
        }
      ],
      "source": [
        "cities.str.contains(r' [A-Z]{2} ')"
      ]
    },
    {
      "cell_type": "code",
      "execution_count": null,
      "metadata": {
        "id": "NpSbW63mB-9p",
        "outputId": "10c494ea-ab6e-40cb-d0eb-5007ec2ba92b"
      },
      "outputs": [
        {
          "data": {
            "text/plain": [
              "0    False\n",
              "1    False\n",
              "dtype: bool"
            ]
          },
          "execution_count": 57,
          "metadata": {},
          "output_type": "execute_result"
        }
      ],
      "source": [
        "cities.str.match(r' [A-Z]{2} ')"
      ]
    },
    {
      "cell_type": "markdown",
      "metadata": {
        "id": "flmMP7NSB-9p"
      },
      "source": [
        "От очистки данных перейдем к первичной обработке данных в другой формат.\n",
        "\n",
        "Возьмем простой пример: допустим, приложение работает с телефонными номерами в формате `###-###-####` , с разделением групп цифр дефисами. При этом телефонные номера были предоставлены в виде строк из десяти цифр без дефисов.\n",
        "\n",
        "Создадим коллекцию `DataFrame` :"
      ]
    },
    {
      "cell_type": "code",
      "execution_count": null,
      "metadata": {
        "id": "GjLmbH_9B-9p"
      },
      "outputs": [],
      "source": [
        "contacts = [['Mike Green', 'demo1@deitel.com', '5555555555'],\n",
        "            ['Sue Brown', 'demo2@deitel.com', '5555551234']]"
      ]
    },
    {
      "cell_type": "code",
      "execution_count": null,
      "metadata": {
        "id": "0pYVMpjdB-9p",
        "outputId": "20f074d8-8318-4b0d-8e9b-f1f5f5f3263d"
      },
      "outputs": [
        {
          "data": {
            "text/plain": [
              "[['Mike Green', 'demo1@deitel.com', '5555555555'],\n",
              " ['Sue Brown', 'demo2@deitel.com', '5555551234']]"
            ]
          },
          "execution_count": 59,
          "metadata": {},
          "output_type": "execute_result"
        }
      ],
      "source": [
        "contacts"
      ]
    },
    {
      "cell_type": "code",
      "execution_count": null,
      "metadata": {
        "id": "8bD8i0KAB-9p"
      },
      "outputs": [],
      "source": [
        "contactsdf = pd.DataFrame(contacts,\n",
        "                          columns=['Name', 'Email', 'Phone'])"
      ]
    },
    {
      "cell_type": "code",
      "execution_count": null,
      "metadata": {
        "id": "MHeyQXlYB-9p",
        "outputId": "902b7a93-ff3f-4397-d765-c189d8ef95a1"
      },
      "outputs": [
        {
          "data": {
            "text/html": [
              "<div>\n",
              "<style scoped>\n",
              "    .dataframe tbody tr th:only-of-type {\n",
              "        vertical-align: middle;\n",
              "    }\n",
              "\n",
              "    .dataframe tbody tr th {\n",
              "        vertical-align: top;\n",
              "    }\n",
              "\n",
              "    .dataframe thead th {\n",
              "        text-align: right;\n",
              "    }\n",
              "</style>\n",
              "<table border=\"1\" class=\"dataframe\">\n",
              "  <thead>\n",
              "    <tr style=\"text-align: right;\">\n",
              "      <th></th>\n",
              "      <th>Name</th>\n",
              "      <th>Email</th>\n",
              "      <th>Phone</th>\n",
              "    </tr>\n",
              "  </thead>\n",
              "  <tbody>\n",
              "    <tr>\n",
              "      <th>0</th>\n",
              "      <td>Mike Green</td>\n",
              "      <td>demo1@deitel.com</td>\n",
              "      <td>5555555555</td>\n",
              "    </tr>\n",
              "    <tr>\n",
              "      <th>1</th>\n",
              "      <td>Sue Brown</td>\n",
              "      <td>demo2@deitel.com</td>\n",
              "      <td>5555551234</td>\n",
              "    </tr>\n",
              "  </tbody>\n",
              "</table>\n",
              "</div>"
            ],
            "text/plain": [
              "         Name             Email       Phone\n",
              "0  Mike Green  demo1@deitel.com  5555555555\n",
              "1   Sue Brown  demo2@deitel.com  5555551234"
            ]
          },
          "execution_count": 61,
          "metadata": {},
          "output_type": "execute_result"
        }
      ],
      "source": [
        "contactsdf"
      ]
    },
    {
      "cell_type": "markdown",
      "metadata": {
        "id": "BUDryTxdB-9p"
      },
      "source": [
        "Теперь произведем первичную обработку данных с применением программирования в функциональном стиле.\n",
        "\n",
        "Телефонные номера можно перевести в правильный формат вызовом метода `map` коллекции `Series` для столбца `'Phone'` коллекции `DataFrame` .\n",
        "\n",
        "Аргументом метода `map` является функция, которая получает значение и возвращает отображенное (преобразованное) значение. Функция `get_formatted_phone` отображает десять последовательных цифр в формат `###-###-####` :"
      ]
    },
    {
      "cell_type": "code",
      "execution_count": null,
      "metadata": {
        "id": "4lpRsz8EB-9p"
      },
      "outputs": [],
      "source": [
        "import re"
      ]
    },
    {
      "cell_type": "code",
      "execution_count": null,
      "metadata": {
        "id": "34KF7_CUB-9q"
      },
      "outputs": [],
      "source": [
        "def get_formatted_phone(value):\n",
        "    result = re.fullmatch(r'(\\d{3})(\\d{3})(\\d{4})', value)\n",
        "    return '-'.join(result.groups()) if result else value"
      ]
    },
    {
      "cell_type": "markdown",
      "metadata": {
        "id": "aFjtU5nxB-9q"
      },
      "source": [
        "Регулярное выражение в первой команде блока совпадает только с первыми десятью последовательно идущими цифрами. Оно сохраняет подстроки, которые содержат первые три цифры, следующие три цифры и последние четыре цифры. Команда `return` работает следующим образом:\n",
        "- Если результат равен `None` , то значение просто возвращается в неизменном виде.\n",
        "- В противном случае вызывается метод `result.groups()` для получения кортежа, содержащего сохраненные подстроки. Кортеж передается методу `join` строк для выполнения конкатенации элементов, с разделением элементов символом `'-'` для формирования преобразованного телефонного номера.\n",
        "\n",
        "Метод `map` коллекции `Series` создает новую коллекцию `Series` , которая содержит результаты вызова ее функции-аргумента для каждого значения в столбце.\n",
        "\n",
        "Фрагмент выводит результаты, включающие имя и тип столбца:"
      ]
    },
    {
      "cell_type": "code",
      "execution_count": null,
      "metadata": {
        "id": "t4vmgrxxB-9q"
      },
      "outputs": [],
      "source": [
        "formatted_phone = contactsdf['Phone'].map(get_formatted_phone)"
      ]
    },
    {
      "cell_type": "code",
      "execution_count": null,
      "metadata": {
        "id": "pfe2AgVnB-9q",
        "outputId": "d5c67c44-72d8-496c-ec3a-f98f7b258f2e"
      },
      "outputs": [
        {
          "data": {
            "text/plain": [
              "0    555-555-5555\n",
              "1    555-555-1234\n",
              "Name: Phone, dtype: object"
            ]
          },
          "execution_count": 65,
          "metadata": {},
          "output_type": "execute_result"
        }
      ],
      "source": [
        "formatted_phone"
      ]
    },
    {
      "cell_type": "markdown",
      "metadata": {
        "id": "Om51giATB-9q"
      },
      "source": [
        "Убедившись в том, что данные имеют правильный формат, можно обновить их в исходной коллекции `DataFrame` , присвоив новую коллекцию `Series` столбцу `'Phone'` :"
      ]
    },
    {
      "cell_type": "code",
      "execution_count": null,
      "metadata": {
        "id": "K4IId3DpB-9q"
      },
      "outputs": [],
      "source": [
        "contactsdf['Phone'] = formatted_phone"
      ]
    },
    {
      "cell_type": "code",
      "execution_count": null,
      "metadata": {
        "id": "mnX_ZP-wB-9r",
        "outputId": "ac91cacc-925e-41bb-cf75-9fff83fa8453"
      },
      "outputs": [
        {
          "data": {
            "text/html": [
              "<div>\n",
              "<style scoped>\n",
              "    .dataframe tbody tr th:only-of-type {\n",
              "        vertical-align: middle;\n",
              "    }\n",
              "\n",
              "    .dataframe tbody tr th {\n",
              "        vertical-align: top;\n",
              "    }\n",
              "\n",
              "    .dataframe thead th {\n",
              "        text-align: right;\n",
              "    }\n",
              "</style>\n",
              "<table border=\"1\" class=\"dataframe\">\n",
              "  <thead>\n",
              "    <tr style=\"text-align: right;\">\n",
              "      <th></th>\n",
              "      <th>Name</th>\n",
              "      <th>Email</th>\n",
              "      <th>Phone</th>\n",
              "    </tr>\n",
              "  </thead>\n",
              "  <tbody>\n",
              "    <tr>\n",
              "      <th>0</th>\n",
              "      <td>Mike Green</td>\n",
              "      <td>demo1@deitel.com</td>\n",
              "      <td>555-555-5555</td>\n",
              "    </tr>\n",
              "    <tr>\n",
              "      <th>1</th>\n",
              "      <td>Sue Brown</td>\n",
              "      <td>demo2@deitel.com</td>\n",
              "      <td>555-555-1234</td>\n",
              "    </tr>\n",
              "  </tbody>\n",
              "</table>\n",
              "</div>"
            ],
            "text/plain": [
              "         Name             Email         Phone\n",
              "0  Mike Green  demo1@deitel.com  555-555-5555\n",
              "1   Sue Brown  demo2@deitel.com  555-555-1234"
            ]
          },
          "execution_count": 67,
          "metadata": {},
          "output_type": "execute_result"
        }
      ],
      "source": [
        "contactsdf"
      ]
    },
    {
      "cell_type": "markdown",
      "metadata": {
        "id": "SmQyl5f-B-9r"
      },
      "source": [
        "## Задания\n",
        "\n",
        "1. Реализуйте с использованием регулярных выражений функцию `get_url_count`, которая принимает на вход имя HTML-файла, расположенного в сети Интернет, и возвращает количество URL-адресов веб-сайтов, начинающихся с префиксов `http://` или `https://`\n",
        "\n",
        "```Python\n",
        ">>> get_url_count('https://dfedorov.spb.ru/python3/')\n",
        "19\n",
        "```"
      ]
    },
    {
      "cell_type": "markdown",
      "metadata": {
        "id": "lZMNEmQ0B-9r"
      },
      "source": [
        "<a href=\"https://t.me/init_python\"><img src=\"https://dfedorov.spb.ru/pandas/logo-telegram.png\" width=\"35\" height=\"35\" alt=\"telegram\" align=\"left\"></a>"
      ]
    },
    {
      "cell_type": "markdown",
      "metadata": {
        "id": "dabZrQBNB-9r"
      },
      "source": [
        "## Дополнительная литература\n",
        "\n",
        "- [Регулярные выражения для сетевых инженеров](https://pyneng.readthedocs.io/ru/latest/book/Part_III.html)"
      ]
    },
    {
      "cell_type": "code",
      "execution_count": null,
      "metadata": {
        "id": "9luGKpnrB-9r"
      },
      "outputs": [],
      "source": []
    }
  ],
  "metadata": {
    "kernelspec": {
      "display_name": "Python 3",
      "language": "python",
      "name": "python3"
    },
    "language_info": {
      "codemirror_mode": {
        "name": "ipython",
        "version": 3
      },
      "file_extension": ".py",
      "mimetype": "text/x-python",
      "name": "python",
      "nbconvert_exporter": "python",
      "pygments_lexer": "ipython3",
      "version": "3.8.2"
    },
    "colab": {
      "provenance": []
    }
  },
  "nbformat": 4,
  "nbformat_minor": 0
}