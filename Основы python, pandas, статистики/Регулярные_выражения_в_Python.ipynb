{
  "nbformat": 4,
  "nbformat_minor": 0,
  "metadata": {
    "kernelspec": {
      "display_name": "Python 3",
      "language": "python",
      "name": "python3"
    },
    "language_info": {
      "codemirror_mode": {
        "name": "ipython",
        "version": 3
      },
      "file_extension": ".py",
      "mimetype": "text/x-python",
      "name": "python",
      "nbconvert_exporter": "python",
      "pygments_lexer": "ipython3",
      "version": "3.8.2"
    },
    "colab": {
      "provenance": []
    }
  },
  "cells": [
    {
      "cell_type": "markdown",
      "metadata": {
        "id": "js0HFYKmH7_D"
      },
      "source": [
        "# Регулярные выражения в Python"
      ]
    },
    {
      "cell_type": "markdown",
      "metadata": {
        "id": "HR0vJuj7H7_V"
      },
      "source": [
        "> Отрывок из прекрасной книги *Дейтел Пол, Дейтел Харви. Python: Искусственный интеллект, большие данные и облачные вычисления*."
      ]
    },
    {
      "cell_type": "markdown",
      "metadata": {
        "id": "wqvXu1u3H7_j"
      },
      "source": [
        "Строка с регулярным выражением описывает шаблон для поиска совпадений в других строках."
      ]
    },
    {
      "cell_type": "markdown",
      "metadata": {
        "id": "kViYAis9H7_j"
      },
      "source": [
        "На веб-сайтах:\n",
        "- https://regex101.com\n",
        "- http://www.regexlib.com\n",
        "- https://www.regular-expressions.info\n",
        "\n",
        "имеются репозитории готовых регулярных выражений.\n",
        "\n",
        "> см. официальный документ [Regular Expression HOWTO](https://docs.python.org/3/howto/regex.html#regex-howto)"
      ]
    },
    {
      "cell_type": "code",
      "metadata": {
        "id": "4SoDHcwHH7_k"
      },
      "source": [
        "# импортируем модуль для работы с регулярными выражениями: https://docs.python.org/3/library/re.html\n",
        "import re"
      ],
      "execution_count": null,
      "outputs": []
    },
    {
      "cell_type": "markdown",
      "metadata": {
        "id": "8D7_ZnU-H7_n"
      },
      "source": [
        "Одна из простейших функций регулярных выражений [`fullmatch`](https://docs.python.org/3/library/re.html#re.fullmatch) проверяет, совпадает ли шаблон, заданный первым аргументом, со всей строкой, заданной вторым аргументом."
      ]
    },
    {
      "cell_type": "markdown",
      "metadata": {
        "id": "IbHb54chH7_p"
      },
      "source": [
        "Начнем с проверки совпадений для литеральных символов, то есть символов, которые совпадают сами с собой:"
      ]
    },
    {
      "cell_type": "code",
      "metadata": {
        "id": "ixTaBGdXH7_q"
      },
      "source": [
        "pattern = '02215'"
      ],
      "execution_count": null,
      "outputs": []
    },
    {
      "cell_type": "code",
      "metadata": {
        "id": "bXBWUNkoH7_r",
        "outputId": "26ce3e95-bc02-4609-ee6d-fda4132cfcc0",
        "colab": {
          "base_uri": "https://localhost:8080/",
          "height": 35
        }
      },
      "source": [
        "# тернарный if\n",
        "'Match' if re.fullmatch(pattern, '02215') else 'No match'"
      ],
      "execution_count": null,
      "outputs": [
        {
          "output_type": "execute_result",
          "data": {
            "text/plain": [
              "'Match'"
            ],
            "application/vnd.google.colaboratory.intrinsic+json": {
              "type": "string"
            }
          },
          "metadata": {},
          "execution_count": 3
        }
      ]
    },
    {
      "cell_type": "code",
      "metadata": {
        "id": "Jr9KzO5iH7_s",
        "outputId": "491a404a-fd5c-4ce2-80b1-b4dacb256714",
        "colab": {
          "base_uri": "https://localhost:8080/",
          "height": 35
        }
      },
      "source": [
        "'Match' if re.fullmatch(pattern, '51220') else 'No match'"
      ],
      "execution_count": null,
      "outputs": [
        {
          "output_type": "execute_result",
          "data": {
            "text/plain": [
              "'No match'"
            ],
            "application/vnd.google.colaboratory.intrinsic+json": {
              "type": "string"
            }
          },
          "metadata": {},
          "execution_count": 4
        }
      ]
    },
    {
      "cell_type": "markdown",
      "metadata": {
        "id": "wsgBURzqH7_t"
      },
      "source": [
        "Первым аргументом функции является регулярное выражение — шаблон, для которого проверяется совпадение в строке. Любая строка может быть регулярным выражением. Значение переменной `pattern` `'02215'` состоит из цифровых литералов, которые совпадают только сами с собой в заданном порядке. Во втором аргументе передается строка, с которой должен полностью совпасть шаблон.\n",
        "\n",
        "Если шаблон из первого аргумента совпадает со строкой из второго аргумента, `fullmatch` возвращает объект с текстом совпадения, который интерпретируется как `True`.\n",
        "\n",
        "Во фрагменте второй аргумент содержит те же цифры, но эти цифры следуют в другом порядке. Таким образом, совпадения нет, а `fullmatch` возвращает `None`, что интерпретируется как `False`."
      ]
    },
    {
      "cell_type": "markdown",
      "metadata": {
        "id": "hjGhs-86H7_t"
      },
      "source": [
        "Регулярные выражения обычно содержат различные специальные символы, которые называются метасимволами:\n",
        "\n",
        "`[] {} () \\ * + ^ $ ? . |`"
      ]
    },
    {
      "cell_type": "markdown",
      "metadata": {
        "id": "K1jFMqmyH7_t"
      },
      "source": [
        "С метасимвола `\\` начинается каждый из предварительно определенных *символьных классов*, каждый из которых совпадает с символом из конкретного набора.\n",
        "\n",
        "Проверим, что почтовый код состоит из пяти цифр:"
      ]
    },
    {
      "cell_type": "code",
      "metadata": {
        "id": "KKD16-LXH7_u",
        "outputId": "d888aa0d-3c9d-4ee0-8bc0-549037e0c50d",
        "colab": {
          "base_uri": "https://localhost:8080/",
          "height": 35
        }
      },
      "source": [
        "'Valid' if re.fullmatch(r'\\d{5}', '02215') else 'Invalid'"
      ],
      "execution_count": null,
      "outputs": [
        {
          "output_type": "execute_result",
          "data": {
            "text/plain": [
              "'Valid'"
            ],
            "application/vnd.google.colaboratory.intrinsic+json": {
              "type": "string"
            }
          },
          "metadata": {},
          "execution_count": 5
        }
      ]
    },
    {
      "cell_type": "code",
      "metadata": {
        "id": "7WTOJBWbH7_u",
        "outputId": "310d41af-5a41-43d7-acd1-16da521c04cf",
        "colab": {
          "base_uri": "https://localhost:8080/",
          "height": 35
        }
      },
      "source": [
        "'Valid' if re.fullmatch(r'\\d{5}', '9876') else 'Invalid'"
      ],
      "execution_count": null,
      "outputs": [
        {
          "output_type": "execute_result",
          "data": {
            "text/plain": [
              "'Invalid'"
            ],
            "application/vnd.google.colaboratory.intrinsic+json": {
              "type": "string"
            }
          },
          "metadata": {},
          "execution_count": 6
        }
      ]
    },
    {
      "cell_type": "markdown",
      "metadata": {
        "id": "zpnzdc9LH7_u"
      },
      "source": [
        "В регулярном выражении `\\d{5}` `\\d` является символьным классом, представляющим цифру `(0–9)`.\n",
        "\n",
        "*Символьный класс* — служебная последовательность в регулярном выражении, совпадающая с одним символом. Чтобы совпадение могло состоять из нескольких символов, за символьным классом следует указать *квантификатор*.\n",
        "\n",
        "Квантификатор `{5}` повторяет `\\d` пять раз, как если бы мы использовали запись `\\d\\d\\d\\d\\d` для совпадения с пятью последовательными цифрами.\n",
        "\n",
        "Во фрагменте `fullmatch` возвращает `None`, потому что `'9876'` совпадает только с четырьмя последовательными цифровыми символами."
      ]
    },
    {
      "cell_type": "markdown",
      "metadata": {
        "id": "2RyUUEzuH7_v"
      },
      "source": [
        "Ниже перечислены некоторые предопределенные символьные классы и группы символов, с которыми они совпадают.\n",
        "\n",
        "- `\\d` Любая цифра `(0–9)`\n",
        "- `\\D` Любой символ, кроме цифр\n",
        "- `\\s` Любой символ-пропуск (пробелы, табуляции, новые строки)\n",
        "- `\\S` Любой символ, кроме пропусков\n",
        "- `\\w` Любой символ слова (также называемый алфавитно-цифровым символом) — то есть любая буква верхнего или нижнего регистра, любая цифра или символ подчеркивания\n",
        "- `\\W` Любой символ, кроме символов слов\n",
        "\n",
        "Чтобы любой метасимвол совпадал со своим литеральным значением, поставьте перед ним символ `\\` (обратный слеш). Например, `\\\\` совпадает с обратным слешем `( \\ )`, а `\\$` совпадает со знаком `$`."
      ]
    },
    {
      "cell_type": "markdown",
      "metadata": {
        "id": "ssI2BudMH7_x"
      },
      "source": [
        "Квадратные скобки `[]` определяют *пользовательский символьный класс*, совпадающий с одним символом. Так, `[aeiou]` совпадает с гласной буквой нижнего регистра, `[A-Z]` — с буквой верхнего регистра, `[a-z]` — с буквой нижнего регистра и `[a-zA-Z]` — с любой буквой нижнего (верхнего) регистра.\n",
        "\n",
        "Выполним простую проверку имени — последовательности букв без пробелов или знаков препинания. Проверим, что последовательность начинается с буквы верхнего регистра `( A–Z )`, а за ней следует *произвольное количество* букв нижнего регистра `( a–z )`:"
      ]
    },
    {
      "cell_type": "code",
      "metadata": {
        "id": "QwNekSo2H7_y",
        "outputId": "b697718d-4941-4f26-8ab1-527f08e91c0d",
        "colab": {
          "base_uri": "https://localhost:8080/",
          "height": 35
        }
      },
      "source": [
        "'Valid' if re.fullmatch('[A-Z][a-z]*', 'Wally') else 'Invalid'"
      ],
      "execution_count": null,
      "outputs": [
        {
          "output_type": "execute_result",
          "data": {
            "text/plain": [
              "'Valid'"
            ],
            "application/vnd.google.colaboratory.intrinsic+json": {
              "type": "string"
            }
          },
          "metadata": {},
          "execution_count": 7
        }
      ]
    },
    {
      "cell_type": "code",
      "source": [
        "'Valid' if re.fullmatch('[A-Z][a-z]*', 'Wa') else 'Invalid'"
      ],
      "metadata": {
        "colab": {
          "base_uri": "https://localhost:8080/",
          "height": 35
        },
        "id": "a2FY744LaJOw",
        "outputId": "0237fd4c-cb32-4e4d-dad7-fdba7ef85e01"
      },
      "execution_count": null,
      "outputs": [
        {
          "output_type": "execute_result",
          "data": {
            "text/plain": [
              "'Valid'"
            ],
            "application/vnd.google.colaboratory.intrinsic+json": {
              "type": "string"
            }
          },
          "metadata": {},
          "execution_count": 9
        }
      ]
    },
    {
      "cell_type": "code",
      "metadata": {
        "id": "k5KeIYYaH7_y",
        "outputId": "5c889040-ac63-41c2-aa91-021805624b81",
        "colab": {
          "base_uri": "https://localhost:8080/",
          "height": 35
        }
      },
      "source": [
        "'Valid' if re.fullmatch('[A-Z][a-z]*', 'eva') else 'Invalid'"
      ],
      "execution_count": null,
      "outputs": [
        {
          "output_type": "execute_result",
          "data": {
            "text/plain": [
              "'Invalid'"
            ],
            "application/vnd.google.colaboratory.intrinsic+json": {
              "type": "string"
            }
          },
          "metadata": {},
          "execution_count": 10
        }
      ]
    },
    {
      "cell_type": "markdown",
      "metadata": {
        "id": "fGgJTKUoH7_y"
      },
      "source": [
        "Имя может содержать неизвестное заранее количество букв.\n",
        "\n",
        "Квантификатор `*` совпадает с *нулем и более вхождениями* подвыражения, находящегося слева (в данном случае `[a-z]`). Таким образом, `[A-Z][a-z]*` совпадает с буквой верхнего регистра, за которой следует нуль и более букв нижнего регистра (например, `'Amanda'` , `'Bo'` и даже `'E'`).\n",
        "\n",
        "Если пользовательский символьный класс начинается с символа `^` (крышка), то класс совпадает с любым символом, который не подходит под определение из класса. Таким образом, `[^a-z]` совпадает с любым символом, который не является буквой нижнего регистра:"
      ]
    },
    {
      "cell_type": "code",
      "metadata": {
        "id": "eV4di8jUH7_y",
        "outputId": "a06ff27f-8eba-48da-c00e-c516f75609f1",
        "colab": {
          "base_uri": "https://localhost:8080/",
          "height": 35
        }
      },
      "source": [
        "'Match' if re.fullmatch('[^a-z]', 'A') else 'No match'"
      ],
      "execution_count": null,
      "outputs": [
        {
          "output_type": "execute_result",
          "data": {
            "text/plain": [
              "'Match'"
            ],
            "application/vnd.google.colaboratory.intrinsic+json": {
              "type": "string"
            }
          },
          "metadata": {},
          "execution_count": 11
        }
      ]
    },
    {
      "cell_type": "code",
      "metadata": {
        "id": "wtIsXekGH7_z",
        "outputId": "8a386fac-c927-408c-9075-a4c5e31977c3",
        "colab": {
          "base_uri": "https://localhost:8080/",
          "height": 35
        }
      },
      "source": [
        "'Match' if re.fullmatch('[^a-z]', 'a') else 'No match'"
      ],
      "execution_count": null,
      "outputs": [
        {
          "output_type": "execute_result",
          "data": {
            "text/plain": [
              "'No match'"
            ],
            "application/vnd.google.colaboratory.intrinsic+json": {
              "type": "string"
            }
          },
          "metadata": {},
          "execution_count": 12
        }
      ]
    },
    {
      "cell_type": "markdown",
      "metadata": {
        "id": "BrxDtWqGH7_0"
      },
      "source": [
        "Метасимволы в пользовательском символьном классе интерпретируются как литеральные символы, то есть как сами символы, не имеющие специального смысла.\n",
        "\n",
        "Таким образом, символьный класс `[*+$]` совпадает с одним из символов `*` , `+` или `$`:"
      ]
    },
    {
      "cell_type": "code",
      "metadata": {
        "id": "JKsmsbF2H8AW",
        "outputId": "26823553-a543-44b0-b50b-63ac2c83dc06",
        "colab": {
          "base_uri": "https://localhost:8080/",
          "height": 35
        }
      },
      "source": [
        "'Match' if re.fullmatch('[*+$]', '*') else 'No match'"
      ],
      "execution_count": null,
      "outputs": [
        {
          "output_type": "execute_result",
          "data": {
            "text/plain": [
              "'Match'"
            ],
            "application/vnd.google.colaboratory.intrinsic+json": {
              "type": "string"
            }
          },
          "metadata": {},
          "execution_count": 13
        }
      ]
    },
    {
      "cell_type": "code",
      "metadata": {
        "id": "TnSqjZVrH8AX",
        "outputId": "5000127e-6cf0-4c12-e085-8daa5d06560e",
        "colab": {
          "base_uri": "https://localhost:8080/",
          "height": 35
        }
      },
      "source": [
        "'Match' if re.fullmatch('[*+$]', '!') else 'No match'"
      ],
      "execution_count": null,
      "outputs": [
        {
          "output_type": "execute_result",
          "data": {
            "text/plain": [
              "'No match'"
            ],
            "application/vnd.google.colaboratory.intrinsic+json": {
              "type": "string"
            }
          },
          "metadata": {},
          "execution_count": 14
        }
      ]
    },
    {
      "cell_type": "markdown",
      "metadata": {
        "id": "E3LQHQOMH8AX"
      },
      "source": [
        "Для того чтобы имя содержало хотя бы одну букву нижнего регистра, квантификатор `*` во фрагменте можно заменить знаком `+`, который совпадает по крайней мере с одним вхождением подвыражения:"
      ]
    },
    {
      "cell_type": "code",
      "metadata": {
        "id": "Xs2m887wH8AX",
        "outputId": "8ac46678-130a-4037-9d9d-1338ca7040ea",
        "colab": {
          "base_uri": "https://localhost:8080/",
          "height": 35
        }
      },
      "source": [
        "'Valid' if re.fullmatch('[A-Z][a-z]+', 'Wally') else 'Invalid'"
      ],
      "execution_count": null,
      "outputs": [
        {
          "output_type": "execute_result",
          "data": {
            "text/plain": [
              "'Valid'"
            ],
            "application/vnd.google.colaboratory.intrinsic+json": {
              "type": "string"
            }
          },
          "metadata": {},
          "execution_count": 15
        }
      ]
    },
    {
      "cell_type": "code",
      "source": [
        "'Valid' if re.fullmatch('[A-Z][a-z]+', 'Wa') else 'Invalid'"
      ],
      "metadata": {
        "colab": {
          "base_uri": "https://localhost:8080/",
          "height": 35
        },
        "id": "rHGwmSBraoHi",
        "outputId": "edbb2540-39d0-48bf-f32e-70fb51bbca9b"
      },
      "execution_count": null,
      "outputs": [
        {
          "output_type": "execute_result",
          "data": {
            "text/plain": [
              "'Valid'"
            ],
            "application/vnd.google.colaboratory.intrinsic+json": {
              "type": "string"
            }
          },
          "metadata": {},
          "execution_count": 16
        }
      ]
    },
    {
      "cell_type": "code",
      "metadata": {
        "id": "d48R72kaH8AY",
        "outputId": "8ae3afec-e8fb-44ac-a7bf-2a88d0e92fe0",
        "colab": {
          "base_uri": "https://localhost:8080/",
          "height": 35
        }
      },
      "source": [
        "'Valid' if re.fullmatch('[A-Z][a-z]+', 'E') else 'Invalid'"
      ],
      "execution_count": null,
      "outputs": [
        {
          "output_type": "execute_result",
          "data": {
            "text/plain": [
              "'Invalid'"
            ],
            "application/vnd.google.colaboratory.intrinsic+json": {
              "type": "string"
            }
          },
          "metadata": {},
          "execution_count": 17
        }
      ]
    },
    {
      "cell_type": "markdown",
      "metadata": {
        "id": "owgma0SjH8AY"
      },
      "source": [
        "Квантификаторы `*` и `+` являются максимальными (*\"жадными\"*) — они совпадают с максимально возможным количеством символов.\n",
        "\n",
        "Таким образом, регулярные выражения `[A-Z][a-z]+` совпадают с именами `'Al'` , `'Eva'` , `'Samantha'` , `'Benjamin'` и любыми другими словами, начинающимися с буквы верхнего регистра, за которой следует хотя бы одна буква нижнего регистра."
      ]
    },
    {
      "cell_type": "markdown",
      "metadata": {
        "id": "DNux7ZgNH8AY"
      },
      "source": [
        "Квантификатор `?` совпадает *с нулем или одним вхождением* подвыражения:"
      ]
    },
    {
      "cell_type": "code",
      "metadata": {
        "id": "Mary7sHdH8AY",
        "outputId": "6670c131-c5fe-4625-cc41-3422b557736b",
        "colab": {
          "base_uri": "https://localhost:8080/",
          "height": 35
        }
      },
      "source": [
        "'Match' if re.fullmatch('labell?ed', 'labelled') else 'No match'"
      ],
      "execution_count": null,
      "outputs": [
        {
          "output_type": "execute_result",
          "data": {
            "text/plain": [
              "'Match'"
            ],
            "application/vnd.google.colaboratory.intrinsic+json": {
              "type": "string"
            }
          },
          "metadata": {},
          "execution_count": 18
        }
      ]
    },
    {
      "cell_type": "code",
      "metadata": {
        "id": "GlhPdUtJH8AY",
        "outputId": "48dcebbe-5b86-4ac3-a980-7eadc15a0516",
        "colab": {
          "base_uri": "https://localhost:8080/",
          "height": 35
        }
      },
      "source": [
        "'Match' if re.fullmatch('labell?ed', 'labeled') else 'No match'"
      ],
      "execution_count": null,
      "outputs": [
        {
          "output_type": "execute_result",
          "data": {
            "text/plain": [
              "'Match'"
            ],
            "application/vnd.google.colaboratory.intrinsic+json": {
              "type": "string"
            }
          },
          "metadata": {},
          "execution_count": 19
        }
      ]
    },
    {
      "cell_type": "code",
      "metadata": {
        "id": "Rej8XchLH8AY",
        "outputId": "6738ae64-12cb-4f56-ed87-43a2e8d55fcd",
        "colab": {
          "base_uri": "https://localhost:8080/",
          "height": 35
        }
      },
      "source": [
        "'Match' if re.fullmatch('labell?ed', 'labellled') else 'No match'"
      ],
      "execution_count": null,
      "outputs": [
        {
          "output_type": "execute_result",
          "data": {
            "text/plain": [
              "'No match'"
            ],
            "application/vnd.google.colaboratory.intrinsic+json": {
              "type": "string"
            }
          },
          "metadata": {},
          "execution_count": 20
        }
      ]
    },
    {
      "cell_type": "markdown",
      "metadata": {
        "id": "z43kBYkAH8AZ"
      },
      "source": [
        "Регулярное выражение `labell?ed` совпадает со словами `labelled` и `labeled` , но не с ошибочно написанным словом `labellled`. В каждом из приведенных выше фрагментов первые пять литеральных символов регулярного выражения `( label )` совпадают с первыми пятью символами второго аргумента. Часть `l?` означает, что оставшимся литеральным символам `ed` может предшествовать нуль или один символ `l` .\n",
        "\n",
        "Квантификатор `{n,}` совпадает *не менее чем* с `n` вхождениями подвыражения. Следующее регулярное выражение совпадает со строками, содержащими не менее трех цифр:"
      ]
    },
    {
      "cell_type": "code",
      "metadata": {
        "id": "Dc-P8VJRH8AZ",
        "outputId": "52a4ae0d-f87c-4d08-aba2-adae827cff87"
      },
      "source": [
        "'Match' if re.fullmatch(r'\\d{3,}', '123') else 'No match'"
      ],
      "execution_count": null,
      "outputs": [
        {
          "data": {
            "text/plain": [
              "'Match'"
            ]
          },
          "execution_count": 18,
          "metadata": {},
          "output_type": "execute_result"
        }
      ]
    },
    {
      "cell_type": "code",
      "metadata": {
        "id": "QacbU8gPH8AZ",
        "outputId": "9859baa5-2928-47ba-cd7f-51dc7ab2c6fd"
      },
      "source": [
        "'Match' if re.fullmatch(r'\\d{3,}', '1234567890') else 'No match'"
      ],
      "execution_count": null,
      "outputs": [
        {
          "data": {
            "text/plain": [
              "'Match'"
            ]
          },
          "execution_count": 19,
          "metadata": {},
          "output_type": "execute_result"
        }
      ]
    },
    {
      "cell_type": "code",
      "metadata": {
        "id": "LVkUPyRsH8AZ",
        "outputId": "5c067049-bb65-49b4-f786-8068d36ce532"
      },
      "source": [
        "'Match' if re.fullmatch(r'\\d{3,}', '12') else 'No match'"
      ],
      "execution_count": null,
      "outputs": [
        {
          "data": {
            "text/plain": [
              "'No match'"
            ]
          },
          "execution_count": 20,
          "metadata": {},
          "output_type": "execute_result"
        }
      ]
    },
    {
      "cell_type": "markdown",
      "metadata": {
        "id": "Wa2RyHwFH8AZ"
      },
      "source": [
        "Чтобы совпадение включало от `n` до `m` (включительно) вхождений, используйте квантификатор `{n,m}`. Следующее регулярное выражение совпадает со строками, содержащими от `3` до `6` цифр:"
      ]
    },
    {
      "cell_type": "code",
      "metadata": {
        "id": "ZIvkXx5PH8AZ",
        "outputId": "02b0b291-66af-4381-f505-55c0280e3977"
      },
      "source": [
        "'Match' if re.fullmatch(r'\\d{3,6}', '123') else 'No match'"
      ],
      "execution_count": null,
      "outputs": [
        {
          "data": {
            "text/plain": [
              "'Match'"
            ]
          },
          "execution_count": 21,
          "metadata": {},
          "output_type": "execute_result"
        }
      ]
    },
    {
      "cell_type": "code",
      "metadata": {
        "id": "0NUnv5-zH8Aa",
        "outputId": "4e1e8479-5502-4d32-fc1d-116c2380c377"
      },
      "source": [
        "'Match' if re.fullmatch(r'\\d{3,6}', '123456') else 'No match'"
      ],
      "execution_count": null,
      "outputs": [
        {
          "data": {
            "text/plain": [
              "'Match'"
            ]
          },
          "execution_count": 22,
          "metadata": {},
          "output_type": "execute_result"
        }
      ]
    },
    {
      "cell_type": "code",
      "metadata": {
        "id": "-6xS8loNH8Ac",
        "outputId": "5d307087-d215-4aa1-8ec6-650843046637"
      },
      "source": [
        "'Match' if re.fullmatch(r'\\d{3,6}', '1234567') else 'No match'"
      ],
      "execution_count": null,
      "outputs": [
        {
          "data": {
            "text/plain": [
              "'No match'"
            ]
          },
          "execution_count": 23,
          "metadata": {},
          "output_type": "execute_result"
        }
      ]
    },
    {
      "cell_type": "code",
      "metadata": {
        "id": "2hyp0Oc6H8Ac",
        "outputId": "9b50c522-4733-4b10-b2e6-02b456f5a6f6"
      },
      "source": [
        "'Match' if re.fullmatch(r'\\d{3,6}', '12') else 'No match'"
      ],
      "execution_count": null,
      "outputs": [
        {
          "data": {
            "text/plain": [
              "'No match'"
            ]
          },
          "execution_count": 24,
          "metadata": {},
          "output_type": "execute_result"
        }
      ]
    },
    {
      "cell_type": "markdown",
      "metadata": {
        "id": "2L9cZTK9H8Ac"
      },
      "source": [
        "Модуль `re` предоставляет функцию [`sub`](https://docs.python.org/3/library/re.html#re.sub) для замены совпадений шаблона в строке, а также функцию [`split`](https://docs.python.org/3/library/re.html#re.Pattern.split) для разбиения строки на фрагменты на основании шаблонов."
      ]
    },
    {
      "cell_type": "markdown",
      "metadata": {
        "id": "EpHukC8RH8Ac"
      },
      "source": [
        "По умолчанию функция `sub` модуля `re` заменяет все вхождения шаблона заданным текстом.\n",
        "\n",
        "Преобразуем строку, разделенную табуляциями, в формат с разделением запятыми:"
      ]
    },
    {
      "cell_type": "code",
      "metadata": {
        "id": "S2o0ZG1YH8Ac"
      },
      "source": [
        "import re"
      ],
      "execution_count": null,
      "outputs": []
    },
    {
      "cell_type": "code",
      "metadata": {
        "id": "m-STSnfzH8Ac",
        "outputId": "c8eb57a4-c245-4a2c-939f-1693dccdcc5e",
        "colab": {
          "base_uri": "https://localhost:8080/",
          "height": 35
        }
      },
      "source": [
        "re.sub(r'\\t', ', ', '1\\t2\\t3\\t4')"
      ],
      "execution_count": null,
      "outputs": [
        {
          "output_type": "execute_result",
          "data": {
            "text/plain": [
              "'1, 2, 3, 4'"
            ],
            "application/vnd.google.colaboratory.intrinsic+json": {
              "type": "string"
            }
          },
          "metadata": {},
          "execution_count": 22
        }
      ]
    },
    {
      "cell_type": "markdown",
      "metadata": {
        "id": "aRCBZ4WEH8Ac"
      },
      "source": [
        "Функция `sub` получает три обязательных аргумента:\n",
        "\n",
        "- шаблон для поиска (символ табуляции `'\\t'`);\n",
        "- текст замены ( `', '` );\n",
        "- строка, в которой ведется поиск ( `'1\\t2\\t3\\t4'` ),\n",
        "\n",
        "и возвращает новую строку.\n",
        "\n",
        "Ключевой аргумент `count` может использоваться для определения максимального количества замен:"
      ]
    },
    {
      "cell_type": "code",
      "metadata": {
        "id": "17tffg-3H8Ad",
        "outputId": "a6ec4952-519e-4fa1-8a8e-dd480ac3cf8a",
        "colab": {
          "base_uri": "https://localhost:8080/",
          "height": 35
        }
      },
      "source": [
        "re.sub(r'\\t', ', ', '1\\t2\\t3\\t4', count=2)"
      ],
      "execution_count": null,
      "outputs": [
        {
          "output_type": "execute_result",
          "data": {
            "text/plain": [
              "'1, 2, 3\\t4'"
            ],
            "application/vnd.google.colaboratory.intrinsic+json": {
              "type": "string"
            }
          },
          "metadata": {},
          "execution_count": 23
        }
      ]
    },
    {
      "cell_type": "markdown",
      "metadata": {
        "id": "gptQ289oH8Ad"
      },
      "source": [
        "Функция `split` разбивает строку на лексемы, используя регулярное выражение для определения ограничителя, и возвращает список строк.\n",
        "\n",
        "Разобьем строку по запятым, за которыми следует `0` или более пропусков — для обозначения пропусков используется символьный класс `\\s` , а `*` обозначает `0` и более вхождений предшествующего подвыражения:"
      ]
    },
    {
      "cell_type": "code",
      "source": [
        "'1, 2, 3,4,        5,6,7,8'.split(\",        \")"
      ],
      "metadata": {
        "colab": {
          "base_uri": "https://localhost:8080/"
        },
        "id": "nFYDx3Ksb0uo",
        "outputId": "2d5fa7bd-1925-4e34-da2f-086b3ea8c41b"
      },
      "execution_count": null,
      "outputs": [
        {
          "output_type": "execute_result",
          "data": {
            "text/plain": [
              "['1, 2, 3,4', '5,6,7,8']"
            ]
          },
          "metadata": {},
          "execution_count": 27
        }
      ]
    },
    {
      "cell_type": "code",
      "metadata": {
        "id": "seNpZafsH8Ad",
        "outputId": "d5952480-e89e-4849-dd73-00d8426597e5",
        "colab": {
          "base_uri": "https://localhost:8080/"
        }
      },
      "source": [
        "re.split(r',\\s*', '1, 2, 3,4,        5,6,7,8')"
      ],
      "execution_count": null,
      "outputs": [
        {
          "output_type": "execute_result",
          "data": {
            "text/plain": [
              "['1', '2', '3', '4', '5', '6', '7', '8']"
            ]
          },
          "metadata": {},
          "execution_count": 28
        }
      ]
    },
    {
      "cell_type": "markdown",
      "metadata": {
        "id": "D5wZ5ktAH8Ad"
      },
      "source": [
        "Ключевой аргумент `maxsplit` задает максимальное количество разбиений:"
      ]
    },
    {
      "cell_type": "code",
      "metadata": {
        "id": "NmSdR0F8H8Ad",
        "outputId": "e4ec9404-fa90-4ef5-ef63-79d8407dcda3"
      },
      "source": [
        "re.split(r',\\s*', '1,   2, 3,4,            5,6,7,8', maxsplit=3)"
      ],
      "execution_count": null,
      "outputs": [
        {
          "data": {
            "text/plain": [
              "['1', '2', '3', '4,            5,6,7,8']"
            ]
          },
          "execution_count": 29,
          "metadata": {},
          "output_type": "execute_result"
        }
      ]
    },
    {
      "cell_type": "markdown",
      "metadata": {
        "id": "P8PB7OboH8Ad"
      },
      "source": [
        "В данном случае после трех разбиений четвертая строка содержит остаток исходной строки."
      ]
    },
    {
      "cell_type": "markdown",
      "metadata": {
        "id": "AD2kVRy_H8Ad"
      },
      "source": [
        "Ранее мы использовали функцию `fullmatch` для определения того, совпала ли вся строка с регулярным выражением. Но существует и ряд других функций поиска совпадений.\n",
        "\n",
        "Функция [`search`](https://docs.python.org/3/library/re.html#re.Pattern.search) ищет в строке *первое вхождение подстроки*, совпадающей с регулярным выражением, и *возвращает объект совпадения* (типа [`SRE_Match`](https://docs.python.org/3/library/re.html#match-objects)), содержащий подстроку с совпадением.\n",
        "\n",
        "Метод [`group`](https://docs.python.org/3/library/re.html#re.Match.group) объекта совпадения возвращает эту подстроку:"
      ]
    },
    {
      "cell_type": "code",
      "metadata": {
        "id": "AJvqc4QtH8Ae"
      },
      "source": [
        "import re"
      ],
      "execution_count": null,
      "outputs": []
    },
    {
      "cell_type": "code",
      "metadata": {
        "id": "WOzoaIBMH8Ae"
      },
      "source": [
        "result = re.search('Python', 'Python is fun')"
      ],
      "execution_count": null,
      "outputs": []
    },
    {
      "cell_type": "code",
      "metadata": {
        "id": "C66xEoaXH8Ae",
        "outputId": "69dbb982-433c-45f6-c3bb-da715b65482c",
        "colab": {
          "base_uri": "https://localhost:8080/",
          "height": 35
        }
      },
      "source": [
        "result.group() if result else 'not found'"
      ],
      "execution_count": null,
      "outputs": [
        {
          "output_type": "execute_result",
          "data": {
            "text/plain": [
              "'Python'"
            ],
            "application/vnd.google.colaboratory.intrinsic+json": {
              "type": "string"
            }
          },
          "metadata": {},
          "execution_count": 31
        }
      ]
    },
    {
      "cell_type": "markdown",
      "metadata": {
        "id": "I3BPVonGH8Ae"
      },
      "source": [
        "Функция [`match`](https://docs.python.org/3/library/re.html#re.Pattern.match) ищет совпадение только от начала строки."
      ]
    },
    {
      "cell_type": "markdown",
      "metadata": {
        "id": "lOEVY1n5H8Ae"
      },
      "source": [
        "Метасимвол `^` в начале регулярного выражения (и не в квадратных скобках) — якорь, указывающий, что *выражение совпадает только от начала строки*:"
      ]
    },
    {
      "cell_type": "code",
      "metadata": {
        "id": "OmSreJagH8Ae"
      },
      "source": [
        "result = re.search('^Python', 'Python is fun')"
      ],
      "execution_count": null,
      "outputs": []
    },
    {
      "cell_type": "code",
      "metadata": {
        "id": "IW5hYNxCH8Ae",
        "outputId": "d9844da5-ec1a-42fe-d91f-b4d23d302a8e",
        "colab": {
          "base_uri": "https://localhost:8080/",
          "height": 35
        }
      },
      "source": [
        "result.group() if result else 'not found'"
      ],
      "execution_count": null,
      "outputs": [
        {
          "output_type": "execute_result",
          "data": {
            "text/plain": [
              "'Python'"
            ],
            "application/vnd.google.colaboratory.intrinsic+json": {
              "type": "string"
            }
          },
          "metadata": {},
          "execution_count": 33
        }
      ]
    },
    {
      "cell_type": "code",
      "metadata": {
        "id": "ZHOfI9zYH8Ae"
      },
      "source": [
        "result = re.search('fun', 'Python is fun')"
      ],
      "execution_count": null,
      "outputs": []
    },
    {
      "cell_type": "code",
      "metadata": {
        "id": "eFJf2Sr7H8Af",
        "outputId": "6e3fc887-0257-42e0-9108-e11177795b88",
        "colab": {
          "base_uri": "https://localhost:8080/",
          "height": 35
        }
      },
      "source": [
        "result.group() if result else 'not found'"
      ],
      "execution_count": null,
      "outputs": [
        {
          "output_type": "execute_result",
          "data": {
            "text/plain": [
              "'fun'"
            ],
            "application/vnd.google.colaboratory.intrinsic+json": {
              "type": "string"
            }
          },
          "metadata": {},
          "execution_count": 37
        }
      ]
    },
    {
      "cell_type": "markdown",
      "metadata": {
        "id": "0PFThi3nH8Af"
      },
      "source": [
        "Аналогичным образом символ `$` в конце регулярного выражения является якорем, указывающим, что *выражение совпадает только в конце строки*:"
      ]
    },
    {
      "cell_type": "code",
      "metadata": {
        "id": "lGvKjUzXH8Af"
      },
      "source": [
        "result = re.search('Python$', 'Python is fun')"
      ],
      "execution_count": null,
      "outputs": []
    },
    {
      "cell_type": "code",
      "metadata": {
        "id": "WSCsWxmhH8Af",
        "outputId": "3e8632da-4669-423d-8b26-1eb04835460c",
        "colab": {
          "base_uri": "https://localhost:8080/",
          "height": 35
        }
      },
      "source": [
        "result.group() if result else 'not found'"
      ],
      "execution_count": null,
      "outputs": [
        {
          "output_type": "execute_result",
          "data": {
            "text/plain": [
              "'not found'"
            ],
            "application/vnd.google.colaboratory.intrinsic+json": {
              "type": "string"
            }
          },
          "metadata": {},
          "execution_count": 39
        }
      ]
    },
    {
      "cell_type": "code",
      "metadata": {
        "id": "yoSU8Y-HH8Af"
      },
      "source": [
        "result = re.search('fun$', 'Python is fun')"
      ],
      "execution_count": null,
      "outputs": []
    },
    {
      "cell_type": "code",
      "metadata": {
        "id": "jeWVfDVBH8Af",
        "outputId": "3de604a8-9bf1-4643-d3fc-2d427c83b2f8",
        "colab": {
          "base_uri": "https://localhost:8080/",
          "height": 35
        }
      },
      "source": [
        "result.group() if result else 'not found'"
      ],
      "execution_count": null,
      "outputs": [
        {
          "output_type": "execute_result",
          "data": {
            "text/plain": [
              "'fun'"
            ],
            "application/vnd.google.colaboratory.intrinsic+json": {
              "type": "string"
            }
          },
          "metadata": {},
          "execution_count": 41
        }
      ]
    },
    {
      "cell_type": "markdown",
      "metadata": {
        "id": "cmlasB3NH8Af"
      },
      "source": [
        "Функция [`findall`](https://docs.python.org/3/library/re.html#re.Pattern.findall) находит все совпадающие подстроки и возвращает список совпадений.\n",
        "\n",
        "Для примера извлечем все телефонные номера в строке, полагая, что телефонные номера записываются в форме `###-###-####` :"
      ]
    },
    {
      "cell_type": "code",
      "metadata": {
        "id": "91IjRdWQH8Af"
      },
      "source": [
        "contact = 'Wally White, Home: 555-555-1234, Work: 555-555-4321'"
      ],
      "execution_count": null,
      "outputs": []
    },
    {
      "cell_type": "code",
      "metadata": {
        "id": "0TPTGp5wH8Ag",
        "outputId": "70366a5a-094e-4461-abb5-58bbf1aa581c",
        "colab": {
          "base_uri": "https://localhost:8080/"
        }
      },
      "source": [
        "re.findall(r'\\d{3}-\\d{3}-\\d{4}', contact)"
      ],
      "execution_count": null,
      "outputs": [
        {
          "output_type": "execute_result",
          "data": {
            "text/plain": [
              "['555-555-1234', '555-555-4321']"
            ]
          },
          "metadata": {},
          "execution_count": 43
        }
      ]
    },
    {
      "cell_type": "markdown",
      "metadata": {
        "id": "O62ab5HpH8Ag"
      },
      "source": [
        "Функция [`finditer`](https://docs.python.org/3/library/re.html#re.finditer) работает аналогично `findall` , но возвращает итерируемый объект, содержащий объекты совпадений, с отложенным вычислением.\n",
        "\n",
        "При большом количестве совпадений использование `finditer` позволит сэкономить память, потому что она возвращает по одному совпадению, тогда как `findall` возвращает все совпадения сразу:"
      ]
    },
    {
      "cell_type": "code",
      "metadata": {
        "id": "WRTd6tKwH8Ak",
        "outputId": "ceee231f-66dc-41f0-e089-ab904ba133d0"
      },
      "source": [
        "for phone in re.finditer(r'\\d{3}-\\d{3}-\\d{4}', contact):\n",
        "    print(phone.group())"
      ],
      "execution_count": null,
      "outputs": [
        {
          "name": "stdout",
          "output_type": "stream",
          "text": [
            "555-555-1234\n",
            "555-555-4321\n"
          ]
        }
      ]
    },
    {
      "cell_type": "markdown",
      "metadata": {
        "id": "ij1H2oGJH8Ak"
      },
      "source": [
        "Метасимволы `(` и `)` (круглые скобки) используются *для сохранения подстрок в совпадениях*.\n",
        "\n",
        "Для примера сохраним отдельно имя и адрес электронной почты в тексте строки:"
      ]
    },
    {
      "cell_type": "code",
      "metadata": {
        "id": "exVwZwJpH8Ak"
      },
      "source": [
        "text = 'Charlie Cyan, e-mail: demo1@deitel.com'"
      ],
      "execution_count": null,
      "outputs": []
    },
    {
      "cell_type": "code",
      "metadata": {
        "id": "N9XlIrtGH8Ak"
      },
      "source": [
        "pattern = r'([A-Z][a-z]+ [A-Z][a-z]+), e-mail: (\\w+@\\w+\\.\\w{3})'"
      ],
      "execution_count": null,
      "outputs": []
    },
    {
      "cell_type": "code",
      "metadata": {
        "id": "-3l7GYlmH8Ak"
      },
      "source": [
        "result = re.search(pattern, text)"
      ],
      "execution_count": null,
      "outputs": []
    },
    {
      "cell_type": "markdown",
      "metadata": {
        "id": "fRMmFVqFH8Ak"
      },
      "source": [
        "Регулярное выражение задает две *сохраняемые подстроки*, заключенные в метасимволы `(` и `)` . Эти метасимволы не влияют на то, в каком месте текста строки будет найдено совпадение шаблона, — функция `match` возвращает объект совпадения только в том случае, если совпадение всего шаблона будет найдено в тексте строки.\n",
        "\n",
        "Рассмотрим регулярное выражение по частям:"
      ]
    },
    {
      "cell_type": "markdown",
      "metadata": {
        "id": "1Z7DJWaVH8Al"
      },
      "source": [
        "- `'([A-Z][a-z]+ [A-Z][a-z]+)'` совпадает с двумя словами, разделенными пробелом. Каждое слово должно начинаться с буквы верхнего регистра.\n",
        "-  `', e-mail: '` содержит литеральные символы, которые совпадают сами с собой.\n",
        "-  `(\\w+@\\w+\\.\\w{3})` совпадает с простым адресом электронной почты, состоящим из одного или нескольких алфавитно-цифровых символов ( `\\w+` ), символа `@` , одного или нескольких алфавитно-цифровых символов ( `\\w+` ), точки ( `\\.` ) и трех алфавитно-цифровых символов ( `\\w{3}` ). Перед точкой ставится символ `\\` , потому что точка ( `.` ) в регулярных выражениях является метасимволом, совпадающим с одним символом."
      ]
    },
    {
      "cell_type": "markdown",
      "metadata": {
        "id": "k7O-1v2FH8Al"
      },
      "source": [
        "Метод `groups` объекта совпадения возвращает кортеж совпавших подстрок:"
      ]
    },
    {
      "cell_type": "code",
      "metadata": {
        "id": "q2g0kp_rH8Al",
        "outputId": "f420d0b7-0657-4486-c1af-f84609b42f06",
        "colab": {
          "base_uri": "https://localhost:8080/"
        }
      },
      "source": [
        "result.groups()"
      ],
      "execution_count": null,
      "outputs": [
        {
          "output_type": "execute_result",
          "data": {
            "text/plain": [
              "('Charlie Cyan', 'demo1@deitel.com')"
            ]
          },
          "metadata": {},
          "execution_count": 47
        }
      ]
    },
    {
      "cell_type": "markdown",
      "metadata": {
        "id": "67A2C0_YH8Al"
      },
      "source": [
        "Вы можете обратиться к каждой сохраненной строке, передав целое число методу `group` .\n",
        "\n",
        "Нумерация сохраненных подстрок начинается с `1` (в отличие от индексов списков, которые начинаются с `0`):"
      ]
    },
    {
      "cell_type": "code",
      "metadata": {
        "id": "bcv3jRYjH8Al",
        "outputId": "fc28d410-6d3f-4166-939c-8841be5ac7ae",
        "colab": {
          "base_uri": "https://localhost:8080/",
          "height": 35
        }
      },
      "source": [
        "result.group(1)"
      ],
      "execution_count": null,
      "outputs": [
        {
          "output_type": "execute_result",
          "data": {
            "text/plain": [
              "'Charlie Cyan'"
            ],
            "application/vnd.google.colaboratory.intrinsic+json": {
              "type": "string"
            }
          },
          "metadata": {},
          "execution_count": 48
        }
      ]
    },
    {
      "cell_type": "code",
      "metadata": {
        "id": "wuHkIQVLH8Al",
        "outputId": "6740718e-9ca3-4ca8-9ef4-f338a9b3b61f",
        "colab": {
          "base_uri": "https://localhost:8080/",
          "height": 35
        }
      },
      "source": [
        "result.group(2)"
      ],
      "execution_count": null,
      "outputs": [
        {
          "output_type": "execute_result",
          "data": {
            "text/plain": [
              "'demo1@deitel.com'"
            ],
            "application/vnd.google.colaboratory.intrinsic+json": {
              "type": "string"
            }
          },
          "metadata": {},
          "execution_count": 49
        }
      ]
    },
    {
      "cell_type": "code",
      "metadata": {
        "id": "Rv8QsuSGH8Ar"
      },
      "source": [],
      "execution_count": null,
      "outputs": []
    }
  ]
}