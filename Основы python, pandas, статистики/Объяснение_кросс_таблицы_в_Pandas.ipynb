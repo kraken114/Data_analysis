{
  "cells": [
    {
      "cell_type": "markdown",
      "metadata": {
        "id": "ioJp0vUbFxDM"
      },
      "source": [
        "# Объяснение кросс-таблицы в Pandas\n",
        "\n",
        "<a href=\"https://t.me/init_python\"><img src=\"https://dfedorov.spb.ru/pandas/logo-telegram.png\" width=\"35\" height=\"35\" alt=\"telegram\" align=\"left\"></a>"
      ]
    },
    {
      "cell_type": "markdown",
      "metadata": {
        "id": "zv_wnt7zFxDP"
      },
      "source": [
        "<a href=\"https://colab.research.google.com/github/dm-fedorov/pandas_basic/blob/master/быстрое%20введение%20в%20pandas/Объяснение%20кросс-таблицы%20в%20Pandas.ipynb\"><img align=\"left\" src=\"https://colab.research.google.com/assets/colab-badge.svg\" alt=\"Open in Colab\" title=\"Open and Execute in Google Colaboratory\" target=\"_blank\"></a>"
      ]
    },
    {
      "cell_type": "markdown",
      "metadata": {
        "id": "R9cCfij3FxDP"
      },
      "source": [
        "# Введение\n",
        "\n",
        "Pandas предлагает несколько вариантов группировки и обобщения данных, но такое разнообразие вариантов может быть как благословением, так и проклятием. Все эти подходы являются мощными инструментами анализа данных, но не всегда понятно, использовать ли [`groupby`](https://pandas.pydata.org/pandas-docs/stable/reference/api/pandas.DataFrame.groupby.html), [`pivot_table`](https://pandas.pydata.org/pandas-docs/stable/reference/api/pandas.pivot_table.html) или [`crosstab`](https://pandas.pydata.org/pandas-docs/stable/reference/api/pandas.crosstab.html) для построения сводной таблицы.\n",
        "\n",
        "Поскольку я [ранее рассматривал `pivot_tables`](https://dfedorov.spb.ru/pandas/%D0%A1%D0%B2%D0%BE%D0%B4%D0%BD%D0%B0%D1%8F%20%D1%82%D0%B0%D0%B1%D0%BB%D0%B8%D1%86%D0%B0%20%D0%B2%20pandas.html), в этой статье будет обсуждаться функция `crosstab`, объяснено ее использование и показано, как ее можно использовать для быстрого суммирования данных.\n",
        "\n",
        "> оригинал статьи Криса по [ссылке](https://pbpython.com/pandas-crosstab.html)"
      ]
    },
    {
      "cell_type": "markdown",
      "metadata": {
        "id": "Q4MciLp_FxDQ"
      },
      "source": [
        "## Обзор\n",
        "\n",
        "Функция [`crosstab`](https://pandas.pydata.org/pandas-docs/stable/reference/api/pandas.crosstab.html) создает таблицу кросс-табуляции, которая может показать частоту, с которой появляются определенные группы данных.\n",
        "\n",
        "В качестве быстрого примера в следующей таблице показано количество двух- или четырехдверных автомобилей, произведенных различными автопроизводителями:\n",
        "\n",
        "<img src=\"https://github.com/dm-fedorov/pandas_basic/blob/master/pic/cross_tab.jpg?raw=true\" alt=\"cross_tab\" width=\"250\"/>\n",
        "\n",
        "В таблице видно, что набор данных содержит `32` автомобиля `Toyota`, из которых `18` четырехдверные и `14` двухдверные. Это относительно простая для интерпретации таблица, которая иллюстрирует, почему данный подход может стать мощным способом обобщения больших наборов данных.\n",
        "\n",
        "Pandas упрощает этот процесс и позволяет настраивать таблицы несколькими способами. В оставшейся части статьи я расскажу, как создавать и настраивать эти таблицы.\n",
        "\n",
        "Давайте начнем с импорта всех необходимых модулей:"
      ]
    },
    {
      "cell_type": "code",
      "execution_count": null,
      "metadata": {
        "id": "48BQ2YzuFxDQ"
      },
      "outputs": [],
      "source": [
        "import pandas as pd\n",
        "import seaborn as sns\n",
        "sns.set_style('whitegrid')\n",
        "\n",
        "%matplotlib inline"
      ]
    },
    {
      "cell_type": "markdown",
      "metadata": {
        "id": "N9cdLqgUFxDR"
      },
      "source": [
        "Теперь прочитаем [набор данных об автомобилях](https://archive.ics.uci.edu/ml/datasets/automobile) из репозитория машинного обучения UCI и внесем для ясности некоторые изменения в наименование меток.\n",
        "\n",
        "> Этот набор данных из автомобильного ежегодника Уорда 1985 года состоит из трех типов записей: (а) спецификация автомобиля с точки зрения различных характеристик, (б) присвоенный ему рейтинг страхового риска, (в) его нормализованные потери при использовании по сравнению с другими автомобилями."
      ]
    },
    {
      "cell_type": "code",
      "execution_count": null,
      "metadata": {
        "id": "emiwpIdAFxDS"
      },
      "outputs": [],
      "source": [
        "# Определим заголовки:\n",
        "headers = [\"symboling\", \"normalized_losses\", \"make\", \"fuel_type\", \"aspiration\",\n",
        "           \"num_doors\", \"body_style\", \"drive_wheels\", \"engine_location\",\n",
        "           \"wheel_base\", \"length\", \"width\", \"height\", \"curb_weight\",\n",
        "           \"engine_type\", \"num_cylinders\", \"engine_size\", \"fuel_system\",\n",
        "           \"bore\", \"stroke\", \"compression_ratio\", \"horsepower\", \"peak_rpm\",\n",
        "           \"city_mpg\", \"highway_mpg\", \"price\"]"
      ]
    },
    {
      "cell_type": "code",
      "execution_count": null,
      "metadata": {
        "id": "pP7_wsT9FxDS"
      },
      "outputs": [],
      "source": [
        "# Прочитаем CSV-файл и преобразуем \"?\" в NaN:\n",
        "df_raw = pd.read_csv(\"https://github.com/dm-fedorov/pandas_basic/blob/master/%D0%B1%D1%8B%D1%81%D1%82%D1%80%D0%BE%D0%B5%20%D0%B2%D0%B2%D0%B5%D0%B4%D0%B5%D0%BD%D0%B8%D0%B5%20%D0%B2%20pandas/data/imports-85.data?raw=true\",\n",
        "                     header=None,\n",
        "                     names=headers,\n",
        "                     na_values=\"?\")\n",
        "df_raw.head()"
      ]
    },
    {
      "cell_type": "code",
      "execution_count": null,
      "metadata": {
        "id": "aYdkOHWBFxDS"
      },
      "outputs": [],
      "source": [
        "# Быстро взглянем на все значения в данных:\n",
        "df_raw.describe()"
      ]
    },
    {
      "cell_type": "code",
      "execution_count": null,
      "metadata": {
        "id": "K2kDseDuFxDT"
      },
      "outputs": [],
      "source": [
        "# Определим список моделей, которые хотим рассмотреть:\n",
        "models = [\"toyota\",\"nissan\",\"mazda\", \"honda\", \"mitsubishi\", \"subaru\", \"volkswagen\", \"volvo\"]"
      ]
    },
    {
      "cell_type": "code",
      "execution_count": null,
      "metadata": {
        "id": "Uf0TlB1NFxDT"
      },
      "outputs": [],
      "source": [
        "# Создадим копию данных только с 8 ведущими производителями:\n",
        "df = df_raw[df_raw.make.isin(models)].copy()\n",
        "df.head()"
      ]
    },
    {
      "cell_type": "markdown",
      "metadata": {
        "id": "sTNuG5moFxDT"
      },
      "source": [
        "В этом примере я хотел сократить таблицу, поэтому включил только 8 моделей, перечисленных выше.\n",
        "\n",
        "В качестве первого примера давайте воспользуемся `crosstab`, чтобы посмотреть, сколько различных стилей кузова изготовили эти автопроизводители в 1985 году (год, который содержится в этом наборе данных):"
      ]
    },
    {
      "cell_type": "code",
      "execution_count": null,
      "metadata": {
        "id": "e-MaU8n5FxDT"
      },
      "outputs": [],
      "source": [
        "pd.crosstab(df.make, df.body_style)"
      ]
    },
    {
      "cell_type": "markdown",
      "metadata": {
        "id": "QTAh6z45FxDU"
      },
      "source": [
        "Функция `crosstab` может работать с массивами `numpy`, т.е. с `series` или столбцами во фрейме данных.\n",
        "\n",
        "В этом примере я передаю `df.make` для индекса кросс-таблицы и `df.body_style` для столбцов кросс-таблицы. Pandas подсчитывает количество вхождений каждой комбинации. Например, в этом наборе данных `Volvo` производит 8 седанов и 3 универсала.\n",
        "\n",
        "Прежде чем мы пойдем дальше, более опытные читатели могут задаться вопросом, почему мы используем именно `crosstab`. Я кратко коснусь этого, показав два альтернативных подхода.\n",
        "\n",
        "Во-первых, мы можем использовать `groupby`, а затем `unstack`, чтобы получить те же результаты:"
      ]
    },
    {
      "cell_type": "code",
      "execution_count": null,
      "metadata": {
        "id": "Qq8n_FX2FxDU"
      },
      "outputs": [],
      "source": [
        "df.groupby(['make', 'body_style'])['body_style'].count().unstack().fillna(0)"
      ]
    },
    {
      "cell_type": "markdown",
      "metadata": {
        "id": "xSdgJROVFxDU"
      },
      "source": [
        "Вывод для этого примера очень похож на кросс-таблицу, но потребовалось несколько дополнительных шагов, чтобы его правильно отформатировать.\n",
        "\n",
        "Также можно сделать что-то подобное с помощью `pivot_table`:"
      ]
    },
    {
      "cell_type": "code",
      "execution_count": null,
      "metadata": {
        "id": "bDXiGhO6FxDU"
      },
      "outputs": [],
      "source": [
        "df.pivot_table(index='make',\n",
        "               columns='body_style',\n",
        "               aggfunc={'body_style':len},\n",
        "               fill_value=0)"
      ]
    },
    {
      "cell_type": "markdown",
      "metadata": {
        "id": "WK6Ui40AFxDU"
      },
      "source": [
        "Обязательно прочтите мою [статью о pivot_tables](https://dfedorov.spb.ru/pandas/%D0%A1%D0%B2%D0%BE%D0%B4%D0%BD%D0%B0%D1%8F%20%D1%82%D0%B0%D0%B1%D0%BB%D0%B8%D1%86%D0%B0%20%D0%B2%20pandas.html), если хотите понять, как это работает.\n",
        "\n",
        "По-прежнему остается вопрос, зачем вообще использовать функцию `crosstab`?\n",
        "\n",
        "Короткий ответ заключается в том, что он предоставляет несколько удобных функций для упрощения форматирования и обобщения данных.\n",
        "\n",
        "Более длинный ответ: бывает сложно запомнить все шаги для самостоятельного выполнения.\n",
        "\n",
        "> По моему опыту, важно знать о вариантах и использовать тот, который наиболее естественным образом вытекает из анализа.\n",
        "\n",
        "У меня был опыт, когда я пытался написать решение на основе `pivot_table`, а затем быстро получил то, что хотел, используя `crosstab`.\n",
        "\n",
        "Самое замечательное в pandas то, что после того, как данные помещены во фрейм, все манипуляции представляют собой 1 строку кода, поэтому вы можете экспериментировать."
      ]
    },
    {
      "cell_type": "markdown",
      "metadata": {
        "id": "J586QpgiFxDU"
      },
      "source": [
        "## Углубляемся в кросс-таблицу\n",
        "\n",
        "Одна из распространенных потребностей в кросс-таблице - это включение промежуточных итогов.\n",
        "\n",
        "Мы можем добавить их с помощью ключевого слова `margins`:"
      ]
    },
    {
      "cell_type": "code",
      "execution_count": null,
      "metadata": {
        "id": "Ci7UIO9pFxDU"
      },
      "outputs": [],
      "source": [
        "pd.crosstab(df.make,\n",
        "            df.num_doors,\n",
        "            margins=True,\n",
        "            margins_name=\"Total\")"
      ]
    },
    {
      "cell_type": "markdown",
      "metadata": {
        "id": "Q2m7ujz9FxDV"
      },
      "source": [
        "Ключевое слово `margins` указало pandas добавлять `Total` (итог) для каждой строки, а также итог внизу.\n",
        "\n",
        "Я также передал значение в `margins_name` при вызове функции, потому что хотел обозначить результаты `Total` вместо значения по умолчанию `All`.\n",
        "\n",
        "Во всех этих примерах подсчитывались отдельные случаи комбинаций данных.\n",
        "\n",
        "`crosstab` позволяет указывать значения для агрегирования. Чтобы проиллюстрировать это, мы можем рассчитать среднюю снаряженную массу автомобилей по типу кузова и производителю:"
      ]
    },
    {
      "cell_type": "code",
      "execution_count": null,
      "metadata": {
        "id": "q9oVPffyFxDV"
      },
      "outputs": [],
      "source": [
        "pd.crosstab(df.make,\n",
        "            df.body_style,\n",
        "            values=df.curb_weight,\n",
        "            aggfunc='mean').round(0)"
      ]
    },
    {
      "cell_type": "markdown",
      "metadata": {
        "id": "tMS3nhOHFxDV"
      },
      "source": [
        "Используя `aggfunc='mean'` и `values=df.curb_weight`, мы говорим pandas применить функцию `mean` к весу снаряжения для всех комбинаций данных. Под капотом pandas группирует все значения вместе по `make` и `body_style`, а затем вычисляет среднее значение. В тех областях, где нет машины с такими значениями, отображается `NaN`. В этом примере я также округляю результаты.\n",
        "\n",
        "Мы видели, как подсчитывать значения и определять средние значения. Однако есть еще один распространенный случай суммирования данных, когда мы хотим понять, сколько процентов от общего числа составляет каждая комбинация. Это можно сделать с помощью параметра `normalize`:"
      ]
    },
    {
      "cell_type": "code",
      "execution_count": null,
      "metadata": {
        "id": "kTyQmHRpFxDV"
      },
      "outputs": [],
      "source": [
        "pd.crosstab(df.make,\n",
        "            df.body_style,\n",
        "            normalize=True)"
      ]
    },
    {
      "cell_type": "markdown",
      "metadata": {
        "id": "b-ds1vGLFxDV"
      },
      "source": [
        "Эта таблица показывает нам, что `2.3%` от общей численности населения составляют хардтопы `Toyota`, а `6.25%` - седаны `Volvo`.\n",
        "\n",
        "Параметр `normalize` еще умнее, т.к. он позволяет выполнять сводку отдельно для столбцов или строк.\n",
        "\n",
        "Например, если мы хотим увидеть, как стили корпуса распределяются по маркам:"
      ]
    },
    {
      "cell_type": "code",
      "execution_count": null,
      "metadata": {
        "id": "6hqSNnK2FxDV"
      },
      "outputs": [],
      "source": [
        "pd.crosstab(df.make,\n",
        "            df.body_style,\n",
        "            normalize='columns')"
      ]
    },
    {
      "cell_type": "markdown",
      "metadata": {
        "id": "nF4QBXT4FxDV"
      },
      "source": [
        "Взглянув только на колонку кабриолетов, можно увидеть, что `50%` автомобилей с откидным верхом производится `Toyota`, а остальные `50%` - `Volkswagen`.\n",
        "\n",
        "Мы можем сделать то же самое по строкам:"
      ]
    },
    {
      "cell_type": "code",
      "execution_count": null,
      "metadata": {
        "id": "53AD0_ehFxDV"
      },
      "outputs": [],
      "source": [
        "pd.crosstab(df.make,\n",
        "            df.body_style,\n",
        "            normalize='index')"
      ]
    },
    {
      "cell_type": "markdown",
      "metadata": {
        "id": "p_7EzTT6FxDV"
      },
      "source": [
        "Это представление данных показывает, что из автомобилей `Mitsubishi` в этом наборе данных `69.23%` - это хэтчбеки, а оставшаяся часть (`30.77%`) - седаны.\n",
        "\n",
        "Я надеюсь, вы согласитесь с тем, что эти приемы могут быть полезны во многих видах анализа.\n",
        "\n",
        "## Группировка\n",
        "\n",
        "Одна из наиболее полезных особенностей кросс-таблицы заключается в том, что вы можете передавать несколько столбцов фрейма данных, а pandas выполняет всю группировку за вас.\n",
        "\n",
        "Например, если мы хотим увидеть, как данные распределяются по переднему приводу (`fwd`) и заднему приводу (`rwd`), мы можем включить столбец `drive_wheels`, включив его в список допустимых столбцов во втором аргументе `crosstab`:"
      ]
    },
    {
      "cell_type": "code",
      "execution_count": null,
      "metadata": {
        "id": "UPr5q3VGFxDW"
      },
      "outputs": [],
      "source": [
        "pd.crosstab(df.make,\n",
        "            [df.body_style, df.drive_wheels])"
      ]
    },
    {
      "cell_type": "markdown",
      "metadata": {
        "id": "QjONXUunFxDW"
      },
      "source": [
        "То же самое можно сделать и с индексом:"
      ]
    },
    {
      "cell_type": "code",
      "execution_count": null,
      "metadata": {
        "id": "3m5M3iXOFxDW"
      },
      "outputs": [],
      "source": [
        "pd.crosstab([df.make, df.num_doors],\n",
        "            [df.body_style, df.drive_wheels],\n",
        "            rownames=['Auto Manufacturer', \"Doors\"],\n",
        "            colnames=['Body Style', \"Drive Type\"],\n",
        "            dropna=False)"
      ]
    },
    {
      "cell_type": "markdown",
      "metadata": {
        "id": "wK_K1hvdFxDW"
      },
      "source": [
        "Я ввел пару дополнительных параметров для управления способом отображения вывода.\n",
        "\n",
        "Во-первых, я задал определенные `rownames` и `colnames`, которые хочу включить в вывод. Это чисто для целей отображения, но может быть полезно, если имена столбцов во фрейме данных не конкретны.\n",
        "\n",
        "Затем я использовал `dropna=False` в конце вызова функции. Причина, по которой я это включил, состоит в том, что я хотел убедиться, что включены все строки и столбцы, даже если в них все нули. Если бы я не включил его, то последний `Volvo`, двухдверный ряд, был бы исключен из таблицы.\n",
        "\n",
        "Я хочу сделать последнее замечание по поводу этой таблицы. Она содержит много информации и может быть слишком трудной для интерпретации. Вот тут-то и приходит на помощь искусство науки о данных (или любого анализа), и вам нужно определить лучший способ представления данных.\n",
        "\n",
        "Приведу еще несколько примеров с различными параметрами:"
      ]
    },
    {
      "cell_type": "code",
      "execution_count": null,
      "metadata": {
        "id": "Gsd7HuZvFxDW"
      },
      "outputs": [],
      "source": [
        "# Вы также можете использовать функции агрегирования при группировке:\n",
        "pd.crosstab(df.make,\n",
        "            [df.body_style, df.drive_wheels],\n",
        "            values=df.curb_weight,\n",
        "            aggfunc='mean').fillna('-')"
      ]
    },
    {
      "cell_type": "code",
      "execution_count": null,
      "metadata": {
        "id": "wSPTVLsTFxDW"
      },
      "outputs": [],
      "source": [
        "# Вы можете использовать промежуточные итоги (margins) при группировке:\n",
        "pd.crosstab(df.make,\n",
        "            [df.body_style, df.drive_wheels],\n",
        "            values=df.curb_weight,\n",
        "            aggfunc='mean',\n",
        "            margins=True,\n",
        "            margins_name='Average').fillna('-').round(0)"
      ]
    },
    {
      "cell_type": "markdown",
      "metadata": {
        "id": "B_fHDjVvFxDW"
      },
      "source": [
        "Перейдем к заключительной части статьи."
      ]
    },
    {
      "cell_type": "markdown",
      "metadata": {
        "id": "b3bJF2K-FxDW"
      },
      "source": [
        "## Визуализация\n",
        "\n",
        "В последнем примере я соберу все воедино, показав, как выходные данные кросс-таблицы могут быть переданы на тепловую карту `Seaborn`, чтобы визуально обобщить данные.\n",
        "\n",
        "В одной из наших кросс-таблиц мы получили 240 значений. Это слишком много, чтобы быстро анализировать, но если мы используем тепловую карту, то сможем легко интерпретировать данные.\n",
        "\n",
        "К счастью, `Seaborn` позволяет взять результат кросс-таблицы и визуализировать его:"
      ]
    },
    {
      "cell_type": "code",
      "execution_count": null,
      "metadata": {
        "id": "ofTTXiSIFxDW"
      },
      "outputs": [],
      "source": [
        "sns.heatmap(pd.crosstab([df.make, df.num_doors],\n",
        "                        [df.body_style, df.drive_wheels]),\n",
        "            cmap=\"YlGnBu\",\n",
        "            annot=True,\n",
        "            cbar=False);"
      ]
    },
    {
      "cell_type": "markdown",
      "metadata": {
        "id": "dlFBUTaRFxDX"
      },
      "source": [
        "Одним из действительно полезных аспектов этого подхода является то, что `Seaborn` сворачивает сгруппированные имена столбцов и строк, чтобы их было легче читать."
      ]
    },
    {
      "cell_type": "markdown",
      "metadata": {
        "id": "754dAmBRFxDa"
      },
      "source": [
        "## Шпаргалка\n",
        "\n",
        "Чтобы собрать все воедино, вот памятка, показывающая, как использовать все компоненты функции `crosstab`.\n",
        "\n",
        "Вы можете скачать PDF-версию по [ссылке](https://dfedorov.spb.ru/pandas/cheatsheet/crosstab_cheatsheet.pdf).\n",
        "\n",
        "![](https://github.com/dm-fedorov/pandas_basic/blob/master/pic/crosstab_cheatsheet.png?raw=true)"
      ]
    },
    {
      "cell_type": "markdown",
      "metadata": {
        "id": "AeJPo7yyFxDa"
      },
      "source": [
        "# Заключение\n",
        "\n",
        "Функция `crosstab` - полезный инструмент для обобщения данных. Функциональность пересекается с некоторыми другими инструментами pandas, но занимает полезное место в вашем наборе инструментов для анализа данных. Прочитав эту статью, вы сможете использовать ее в своем собственном анализе данных."
      ]
    },
    {
      "cell_type": "markdown",
      "metadata": {
        "id": "9WjyWzIpFxDb"
      },
      "source": [
        "<a href=\"https://t.me/init_python\"><img src=\"https://dfedorov.spb.ru/pandas/logo-telegram.png\" width=\"35\" height=\"35\" alt=\"telegram\" align=\"left\"></a>"
      ]
    },
    {
      "cell_type": "code",
      "execution_count": null,
      "metadata": {
        "id": "p19EAK0AFxDb"
      },
      "outputs": [],
      "source": []
    }
  ],
  "metadata": {
    "kernelspec": {
      "display_name": "Python 3",
      "language": "python",
      "name": "python3"
    },
    "language_info": {
      "codemirror_mode": {
        "name": "ipython",
        "version": 3
      },
      "file_extension": ".py",
      "mimetype": "text/x-python",
      "name": "python",
      "nbconvert_exporter": "python",
      "pygments_lexer": "ipython3",
      "version": "3.8.3"
    },
    "colab": {
      "provenance": []
    }
  },
  "nbformat": 4,
  "nbformat_minor": 0
}