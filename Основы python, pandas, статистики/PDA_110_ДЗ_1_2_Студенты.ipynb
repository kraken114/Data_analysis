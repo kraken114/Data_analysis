{
  "nbformat": 4,
  "nbformat_minor": 0,
  "metadata": {
    "kernelspec": {
      "display_name": "Python 3",
      "language": "python",
      "name": "python3"
    },
    "language_info": {
      "codemirror_mode": {
        "name": "ipython",
        "version": 3
      },
      "file_extension": ".py",
      "mimetype": "text/x-python",
      "name": "python",
      "nbconvert_exporter": "python",
      "pygments_lexer": "ipython3",
      "version": "3.8.3"
    },
    "colab": {
      "provenance": []
    }
  },
  "cells": [
    {
      "cell_type": "markdown",
      "metadata": {
        "id": "xdkJdV6e81e5"
      },
      "source": [
        "В [файле](https://raw.githubusercontent.com/dm-fedorov/python_basic/master/data/students.stat) следующие поля:\n",
        "    \n",
        "- *gender* — пол абитуриента;\n",
        "- *race/ethnicity* — национальность (зашифрована в виде значений \"Group A\", \"Group B\" и т.д.);\n",
        "- *parental level of education* — уровень образования родителей;\n",
        "- *lunch* — насколько качественно пообедал абитуриент перед тестом;\n",
        "- *test preparation course* — закончил ли абитуриент подготовительные курсы;\n",
        "- *math score* — оценка по математике;\n",
        "- *reading score* — оценка по чтению;\n",
        "- *writing score* — оценка по письму."
      ]
    },
    {
      "cell_type": "code",
      "metadata": {
        "id": "SbHuuB6Z81e-"
      },
      "source": [
        "import pandas as pd\n",
        "import numpy as np"
      ],
      "execution_count": null,
      "outputs": []
    },
    {
      "cell_type": "code",
      "metadata": {
        "id": "YWUbQ5rV81fA",
        "colab": {
          "base_uri": "https://localhost:8080/",
          "height": 424
        },
        "outputId": "4b982a3c-d7fa-478e-f393-8b7a5496d160"
      },
      "source": [
        "df = pd.read_csv(\"https://raw.githubusercontent.com/dm-fedorov/python_basic/master/data/students.stat\")\n",
        "df = df.rename(columns = lambda x: x.replace(' ','_'))\n",
        "df"
      ],
      "execution_count": null,
      "outputs": [
        {
          "output_type": "execute_result",
          "data": {
            "text/html": [
              "\n",
              "  <div id=\"df-89904279-0113-44bd-a76d-6028cf39f9fd\">\n",
              "    <div class=\"colab-df-container\">\n",
              "      <div>\n",
              "<style scoped>\n",
              "    .dataframe tbody tr th:only-of-type {\n",
              "        vertical-align: middle;\n",
              "    }\n",
              "\n",
              "    .dataframe tbody tr th {\n",
              "        vertical-align: top;\n",
              "    }\n",
              "\n",
              "    .dataframe thead th {\n",
              "        text-align: right;\n",
              "    }\n",
              "</style>\n",
              "<table border=\"1\" class=\"dataframe\">\n",
              "  <thead>\n",
              "    <tr style=\"text-align: right;\">\n",
              "      <th></th>\n",
              "      <th>gender</th>\n",
              "      <th>race/ethnicity</th>\n",
              "      <th>parental_level_of_education</th>\n",
              "      <th>lunch</th>\n",
              "      <th>test_preparation_course</th>\n",
              "      <th>math_score</th>\n",
              "      <th>reading_score</th>\n",
              "      <th>writing_score</th>\n",
              "    </tr>\n",
              "  </thead>\n",
              "  <tbody>\n",
              "    <tr>\n",
              "      <th>0</th>\n",
              "      <td>female</td>\n",
              "      <td>group B</td>\n",
              "      <td>bachelor's degree</td>\n",
              "      <td>standard</td>\n",
              "      <td>none</td>\n",
              "      <td>72</td>\n",
              "      <td>72</td>\n",
              "      <td>74</td>\n",
              "    </tr>\n",
              "    <tr>\n",
              "      <th>1</th>\n",
              "      <td>female</td>\n",
              "      <td>group C</td>\n",
              "      <td>some college</td>\n",
              "      <td>standard</td>\n",
              "      <td>completed</td>\n",
              "      <td>69</td>\n",
              "      <td>90</td>\n",
              "      <td>88</td>\n",
              "    </tr>\n",
              "    <tr>\n",
              "      <th>2</th>\n",
              "      <td>female</td>\n",
              "      <td>group B</td>\n",
              "      <td>master's degree</td>\n",
              "      <td>standard</td>\n",
              "      <td>none</td>\n",
              "      <td>90</td>\n",
              "      <td>95</td>\n",
              "      <td>93</td>\n",
              "    </tr>\n",
              "    <tr>\n",
              "      <th>3</th>\n",
              "      <td>male</td>\n",
              "      <td>group A</td>\n",
              "      <td>associate's degree</td>\n",
              "      <td>free/reduced</td>\n",
              "      <td>none</td>\n",
              "      <td>47</td>\n",
              "      <td>57</td>\n",
              "      <td>44</td>\n",
              "    </tr>\n",
              "    <tr>\n",
              "      <th>4</th>\n",
              "      <td>male</td>\n",
              "      <td>group C</td>\n",
              "      <td>some college</td>\n",
              "      <td>standard</td>\n",
              "      <td>none</td>\n",
              "      <td>76</td>\n",
              "      <td>78</td>\n",
              "      <td>75</td>\n",
              "    </tr>\n",
              "    <tr>\n",
              "      <th>...</th>\n",
              "      <td>...</td>\n",
              "      <td>...</td>\n",
              "      <td>...</td>\n",
              "      <td>...</td>\n",
              "      <td>...</td>\n",
              "      <td>...</td>\n",
              "      <td>...</td>\n",
              "      <td>...</td>\n",
              "    </tr>\n",
              "    <tr>\n",
              "      <th>995</th>\n",
              "      <td>female</td>\n",
              "      <td>group E</td>\n",
              "      <td>master's degree</td>\n",
              "      <td>standard</td>\n",
              "      <td>completed</td>\n",
              "      <td>88</td>\n",
              "      <td>99</td>\n",
              "      <td>95</td>\n",
              "    </tr>\n",
              "    <tr>\n",
              "      <th>996</th>\n",
              "      <td>male</td>\n",
              "      <td>group C</td>\n",
              "      <td>high school</td>\n",
              "      <td>free/reduced</td>\n",
              "      <td>none</td>\n",
              "      <td>62</td>\n",
              "      <td>55</td>\n",
              "      <td>55</td>\n",
              "    </tr>\n",
              "    <tr>\n",
              "      <th>997</th>\n",
              "      <td>female</td>\n",
              "      <td>group C</td>\n",
              "      <td>high school</td>\n",
              "      <td>free/reduced</td>\n",
              "      <td>completed</td>\n",
              "      <td>59</td>\n",
              "      <td>71</td>\n",
              "      <td>65</td>\n",
              "    </tr>\n",
              "    <tr>\n",
              "      <th>998</th>\n",
              "      <td>female</td>\n",
              "      <td>group D</td>\n",
              "      <td>some college</td>\n",
              "      <td>standard</td>\n",
              "      <td>completed</td>\n",
              "      <td>68</td>\n",
              "      <td>78</td>\n",
              "      <td>77</td>\n",
              "    </tr>\n",
              "    <tr>\n",
              "      <th>999</th>\n",
              "      <td>female</td>\n",
              "      <td>group D</td>\n",
              "      <td>some college</td>\n",
              "      <td>free/reduced</td>\n",
              "      <td>none</td>\n",
              "      <td>77</td>\n",
              "      <td>86</td>\n",
              "      <td>86</td>\n",
              "    </tr>\n",
              "  </tbody>\n",
              "</table>\n",
              "<p>1000 rows × 8 columns</p>\n",
              "</div>\n",
              "      <button class=\"colab-df-convert\" onclick=\"convertToInteractive('df-89904279-0113-44bd-a76d-6028cf39f9fd')\"\n",
              "              title=\"Convert this dataframe to an interactive table.\"\n",
              "              style=\"display:none;\">\n",
              "        \n",
              "  <svg xmlns=\"http://www.w3.org/2000/svg\" height=\"24px\"viewBox=\"0 0 24 24\"\n",
              "       width=\"24px\">\n",
              "    <path d=\"M0 0h24v24H0V0z\" fill=\"none\"/>\n",
              "    <path d=\"M18.56 5.44l.94 2.06.94-2.06 2.06-.94-2.06-.94-.94-2.06-.94 2.06-2.06.94zm-11 1L8.5 8.5l.94-2.06 2.06-.94-2.06-.94L8.5 2.5l-.94 2.06-2.06.94zm10 10l.94 2.06.94-2.06 2.06-.94-2.06-.94-.94-2.06-.94 2.06-2.06.94z\"/><path d=\"M17.41 7.96l-1.37-1.37c-.4-.4-.92-.59-1.43-.59-.52 0-1.04.2-1.43.59L10.3 9.45l-7.72 7.72c-.78.78-.78 2.05 0 2.83L4 21.41c.39.39.9.59 1.41.59.51 0 1.02-.2 1.41-.59l7.78-7.78 2.81-2.81c.8-.78.8-2.07 0-2.86zM5.41 20L4 18.59l7.72-7.72 1.47 1.35L5.41 20z\"/>\n",
              "  </svg>\n",
              "      </button>\n",
              "      \n",
              "  <style>\n",
              "    .colab-df-container {\n",
              "      display:flex;\n",
              "      flex-wrap:wrap;\n",
              "      gap: 12px;\n",
              "    }\n",
              "\n",
              "    .colab-df-convert {\n",
              "      background-color: #E8F0FE;\n",
              "      border: none;\n",
              "      border-radius: 50%;\n",
              "      cursor: pointer;\n",
              "      display: none;\n",
              "      fill: #1967D2;\n",
              "      height: 32px;\n",
              "      padding: 0 0 0 0;\n",
              "      width: 32px;\n",
              "    }\n",
              "\n",
              "    .colab-df-convert:hover {\n",
              "      background-color: #E2EBFA;\n",
              "      box-shadow: 0px 1px 2px rgba(60, 64, 67, 0.3), 0px 1px 3px 1px rgba(60, 64, 67, 0.15);\n",
              "      fill: #174EA6;\n",
              "    }\n",
              "\n",
              "    [theme=dark] .colab-df-convert {\n",
              "      background-color: #3B4455;\n",
              "      fill: #D2E3FC;\n",
              "    }\n",
              "\n",
              "    [theme=dark] .colab-df-convert:hover {\n",
              "      background-color: #434B5C;\n",
              "      box-shadow: 0px 1px 3px 1px rgba(0, 0, 0, 0.15);\n",
              "      filter: drop-shadow(0px 1px 2px rgba(0, 0, 0, 0.3));\n",
              "      fill: #FFFFFF;\n",
              "    }\n",
              "  </style>\n",
              "\n",
              "      <script>\n",
              "        const buttonEl =\n",
              "          document.querySelector('#df-89904279-0113-44bd-a76d-6028cf39f9fd button.colab-df-convert');\n",
              "        buttonEl.style.display =\n",
              "          google.colab.kernel.accessAllowed ? 'block' : 'none';\n",
              "\n",
              "        async function convertToInteractive(key) {\n",
              "          const element = document.querySelector('#df-89904279-0113-44bd-a76d-6028cf39f9fd');\n",
              "          const dataTable =\n",
              "            await google.colab.kernel.invokeFunction('convertToInteractive',\n",
              "                                                     [key], {});\n",
              "          if (!dataTable) return;\n",
              "\n",
              "          const docLinkHtml = 'Like what you see? Visit the ' +\n",
              "            '<a target=\"_blank\" href=https://colab.research.google.com/notebooks/data_table.ipynb>data table notebook</a>'\n",
              "            + ' to learn more about interactive tables.';\n",
              "          element.innerHTML = '';\n",
              "          dataTable['output_type'] = 'display_data';\n",
              "          await google.colab.output.renderOutput(dataTable, element);\n",
              "          const docLink = document.createElement('div');\n",
              "          docLink.innerHTML = docLinkHtml;\n",
              "          element.appendChild(docLink);\n",
              "        }\n",
              "      </script>\n",
              "    </div>\n",
              "  </div>\n",
              "  "
            ],
            "text/plain": [
              "     gender race/ethnicity  ... reading_score writing_score\n",
              "0    female        group B  ...            72            74\n",
              "1    female        group C  ...            90            88\n",
              "2    female        group B  ...            95            93\n",
              "3      male        group A  ...            57            44\n",
              "4      male        group C  ...            78            75\n",
              "..      ...            ...  ...           ...           ...\n",
              "995  female        group E  ...            99            95\n",
              "996    male        group C  ...            55            55\n",
              "997  female        group C  ...            71            65\n",
              "998  female        group D  ...            78            77\n",
              "999  female        group D  ...            86            86\n",
              "\n",
              "[1000 rows x 8 columns]"
            ]
          },
          "metadata": {},
          "execution_count": 3
        }
      ]
    },
    {
      "cell_type": "markdown",
      "metadata": {
        "id": "n_zoe5no81fB"
      },
      "source": [
        "## Задание 0\n",
        "\n",
        "Считаем девочек и мальчиков."
      ]
    },
    {
      "cell_type": "code",
      "metadata": {
        "id": "R1Wpb9yc81fC",
        "colab": {
          "base_uri": "https://localhost:8080/"
        },
        "outputId": "c109ec0b-0d0a-4091-9231-cdfc65191106"
      },
      "source": [
        "df['gender'].value_counts()"
      ],
      "execution_count": null,
      "outputs": [
        {
          "output_type": "execute_result",
          "data": {
            "text/plain": [
              "female    518\n",
              "male      482\n",
              "Name: gender, dtype: int64"
            ]
          },
          "metadata": {},
          "execution_count": 82
        }
      ]
    },
    {
      "cell_type": "code",
      "source": [
        "i = df[df.gender == 'female'].gender.count()\n",
        "j = df[df.gender == 'male'].gender.count()\n",
        "k = {'Мальчик': j, 'Девочка': i}\n",
        "s = pd.DataFrame(k, index=['Всего'])\n",
        "print(s)"
      ],
      "metadata": {
        "colab": {
          "base_uri": "https://localhost:8080/"
        },
        "id": "VxB7ZZ7Pyu6f",
        "outputId": "5f171e84-bd71-453e-f858-00794875c2f1"
      },
      "execution_count": null,
      "outputs": [
        {
          "output_type": "stream",
          "name": "stdout",
          "text": [
            "       Мальчик  Девочка\n",
            "Всего      482      518\n"
          ]
        }
      ]
    },
    {
      "cell_type": "markdown",
      "metadata": {
        "id": "PiestQ9m81fC"
      },
      "source": [
        "## Задание 1\n",
        "\n",
        "У скольких абитуриентов родители имеют диплом бакалавра (bachelor's degree)?\n",
        "\n",
        "Ответ в виде целого числа."
      ]
    },
    {
      "cell_type": "code",
      "metadata": {
        "id": "HMu6Xm1S81fC",
        "colab": {
          "base_uri": "https://localhost:8080/"
        },
        "outputId": "ae1769b0-ea08-4acc-f81e-3a20ca403a22"
      },
      "source": [
        "df[df['parental_level_of_education'] == \"bachelor's degree\"].gender.count()"
      ],
      "execution_count": null,
      "outputs": [
        {
          "output_type": "execute_result",
          "data": {
            "text/plain": [
              "118"
            ]
          },
          "metadata": {},
          "execution_count": 84
        }
      ]
    },
    {
      "cell_type": "markdown",
      "metadata": {
        "id": "cRlFR5-881fD"
      },
      "source": [
        "## Задание 2\n",
        "\n",
        "Сколько разных вариантов значений встречается в столбце \"parental level of education\"?\n",
        "\n",
        "Ответ в виде целого числа."
      ]
    },
    {
      "cell_type": "code",
      "metadata": {
        "id": "GdSHlOg881fD",
        "colab": {
          "base_uri": "https://localhost:8080/"
        },
        "outputId": "0a1231ad-d2dd-41d8-8424-5113716109ba"
      },
      "source": [
        "df.parental_level_of_education.value_counts().count()"
      ],
      "execution_count": null,
      "outputs": [
        {
          "output_type": "execute_result",
          "data": {
            "text/plain": [
              "6"
            ]
          },
          "metadata": {},
          "execution_count": 85
        }
      ]
    },
    {
      "cell_type": "markdown",
      "metadata": {
        "id": "6AoG2FQG81fE"
      },
      "source": [
        "## Задание 3\n",
        "\n",
        "Сколько процентов абитуриентов полноценно пообедали перед экзаменом? (У скольких процентов абитуриентов значение столбца \"lunch\" = \"standard\").\n",
        "\n",
        "Ответ в виде десятичной дроби."
      ]
    },
    {
      "cell_type": "code",
      "source": [
        "i = df[df[\"lunch\"] == \"standard\"].lunch.count()*100/df.lunch.count()\n",
        "print(f'{i}%')\n"
      ],
      "metadata": {
        "colab": {
          "base_uri": "https://localhost:8080/"
        },
        "id": "uyZ9IczdzAoU",
        "outputId": "b982dccf-adf9-43f1-dce6-fe333b1182c7"
      },
      "execution_count": null,
      "outputs": [
        {
          "output_type": "stream",
          "name": "stdout",
          "text": [
            "64.5%\n"
          ]
        }
      ]
    },
    {
      "cell_type": "markdown",
      "metadata": {
        "id": "uZhH9-kc81fE"
      },
      "source": [
        "## Задание 4\n",
        "\n",
        "Сколько абитуриентов относится к этнической группе \"group C\"?\n",
        "\n",
        "Ответ в виде целого числа."
      ]
    },
    {
      "cell_type": "code",
      "source": [
        "df[df['race/ethnicity'] == \"group C\"]['race/ethnicity'].count()"
      ],
      "metadata": {
        "colab": {
          "base_uri": "https://localhost:8080/"
        },
        "id": "_sYrwEee0R2V",
        "outputId": "99b17af0-a585-4003-d7e5-1bcacb56a08f"
      },
      "execution_count": null,
      "outputs": [
        {
          "output_type": "execute_result",
          "data": {
            "text/plain": [
              "319"
            ]
          },
          "metadata": {},
          "execution_count": 87
        }
      ]
    },
    {
      "cell_type": "markdown",
      "metadata": {
        "id": "_u0JHh4g81fF"
      },
      "source": [
        "### Задание 5\n",
        "\n",
        "Сколько разных этнических групп встречается в файле?\n",
        "\n",
        "Ответ в виде целого числа."
      ]
    },
    {
      "cell_type": "code",
      "source": [
        "df['race/ethnicity'].value_counts().count()"
      ],
      "metadata": {
        "colab": {
          "base_uri": "https://localhost:8080/"
        },
        "id": "I2qu3g051rx_",
        "outputId": "8a7b35d0-c4ab-4858-8350-6deb99e1a3d0"
      },
      "execution_count": null,
      "outputs": [
        {
          "output_type": "execute_result",
          "data": {
            "text/plain": [
              "5"
            ]
          },
          "metadata": {},
          "execution_count": 88
        }
      ]
    },
    {
      "cell_type": "markdown",
      "metadata": {
        "id": "11bFER0d81fF"
      },
      "source": [
        "### Задание 6\n",
        "\n",
        "Вычислите средний балл абитуриентов на экзамене по чтению (reading score).\n",
        "\n",
        "Ответ в виде одного числа."
      ]
    },
    {
      "cell_type": "code",
      "source": [
        "df.reading_score.mean()"
      ],
      "metadata": {
        "colab": {
          "base_uri": "https://localhost:8080/"
        },
        "id": "OwI8j7e72IIp",
        "outputId": "931abb3d-b0cf-4145-d49e-19dd8b77a9ca"
      },
      "execution_count": null,
      "outputs": [
        {
          "output_type": "execute_result",
          "data": {
            "text/plain": [
              "69.169"
            ]
          },
          "metadata": {},
          "execution_count": 89
        }
      ]
    },
    {
      "cell_type": "markdown",
      "metadata": {
        "id": "WkCYZQxD81fG"
      },
      "source": [
        "### Задание 7\n",
        "\n",
        "Сколько абитуриентов получили на экзамене по чтению (reading score) оценку ниже среднего?\n"
      ]
    },
    {
      "cell_type": "code",
      "metadata": {
        "id": "c3-sdh2Z81fG",
        "colab": {
          "base_uri": "https://localhost:8080/"
        },
        "outputId": "86fa49c2-e9be-4c41-bc68-cf5235b3c350"
      },
      "source": [
        "print(f'{df[df.reading_score < df.reading_score.mean()].reading_score.count()} шт.)')"
      ],
      "execution_count": null,
      "outputs": [
        {
          "output_type": "stream",
          "name": "stdout",
          "text": [
            "487 шт.)\n"
          ]
        }
      ]
    },
    {
      "cell_type": "markdown",
      "metadata": {
        "id": "-NdD7YSp81fG"
      },
      "source": [
        "### Задание 8\n",
        "\n",
        "Какой средний балл на экзамене по чтению (reading score) получили девочки?\n",
        "\n",
        "Ответ округлите до трёх знаков после запятой."
      ]
    },
    {
      "cell_type": "code",
      "metadata": {
        "id": "CueHv6xN81fG",
        "colab": {
          "base_uri": "https://localhost:8080/"
        },
        "outputId": "00ab3e94-9743-42c3-9c6f-d4d2377d6736"
      },
      "source": [
        "round(df[df.gender == 'female'].reading_score.mean(),3)"
      ],
      "execution_count": null,
      "outputs": [
        {
          "output_type": "execute_result",
          "data": {
            "text/plain": [
              "72.608"
            ]
          },
          "metadata": {},
          "execution_count": 91
        }
      ]
    },
    {
      "cell_type": "markdown",
      "metadata": {
        "id": "T6tPVoIW81fH"
      },
      "source": [
        "### Задание 9\n",
        "\n",
        "Сколько абитуриентов получили на экзамене по письму (writing score) оценку выше 90?"
      ]
    },
    {
      "cell_type": "code",
      "metadata": {
        "id": "0YZqsGkX81fH",
        "colab": {
          "base_uri": "https://localhost:8080/"
        },
        "outputId": "0461edf4-4e57-416f-819a-23ee7e581fa9"
      },
      "source": [
        "df[df.reading_score > 90].reading_score.count()"
      ],
      "execution_count": null,
      "outputs": [
        {
          "output_type": "execute_result",
          "data": {
            "text/plain": [
              "62"
            ]
          },
          "metadata": {},
          "execution_count": 92
        }
      ]
    },
    {
      "cell_type": "markdown",
      "metadata": {
        "id": "3OrnQLav81fH"
      },
      "source": [
        "### Задание 10\n",
        "\n",
        "Сколько процентов абитуриентов, получивших на экзамене по письму (writing score) оценку более 90, хорошо пообедали перед экзаменом (lunch = standard)?\n",
        "\n",
        "Ответ округлите до одного знака после запятой."
      ]
    },
    {
      "cell_type": "code",
      "metadata": {
        "id": "XPsbTEVg81fH",
        "colab": {
          "base_uri": "https://localhost:8080/"
        },
        "outputId": "c9c3e6a9-c77e-4b86-8543-af0ce677df6d"
      },
      "source": [
        "i = df[(df.reading_score > 90) & (df[\"lunch\"] == \"standard\")].reading_score.count()*100/df.reading_score.count()\n",
        "print(f'{round(i,1)} %')"
      ],
      "execution_count": null,
      "outputs": [
        {
          "output_type": "stream",
          "name": "stdout",
          "text": [
            "5.4 %\n"
          ]
        }
      ]
    },
    {
      "cell_type": "markdown",
      "metadata": {
        "id": "TQXAdq7z81fH"
      },
      "source": [
        "### Задание 11\n",
        "\n",
        "Сколько мальчиков хорошо пообедали перед экзаменом (lunch = standard)?\n",
        "\n",
        "Ответ в виде одного числа."
      ]
    },
    {
      "cell_type": "code",
      "metadata": {
        "id": "KkYxnKH481fH",
        "colab": {
          "base_uri": "https://localhost:8080/"
        },
        "outputId": "f7b34f91-2a74-4c73-9fae-3ab146944bf1"
      },
      "source": [
        "df[(df.gender == 'male') & (df[\"lunch\"] == \"standard\")].gender.count()"
      ],
      "execution_count": null,
      "outputs": [
        {
          "output_type": "execute_result",
          "data": {
            "text/plain": [
              "316"
            ]
          },
          "metadata": {},
          "execution_count": 94
        }
      ]
    },
    {
      "cell_type": "markdown",
      "metadata": {
        "id": "CDJLaTIa81fH"
      },
      "source": [
        "### Задание 12\n",
        "\n",
        "Сколько мальчиков закончили подготовительные курсы (test preparation course = completed)?\n",
        "\n",
        "Ответ в виде одного числа."
      ]
    },
    {
      "cell_type": "code",
      "metadata": {
        "id": "FMHkqLsZ81fI",
        "colab": {
          "base_uri": "https://localhost:8080/"
        },
        "outputId": "608ecaf3-e7bb-4938-c115-f45173976aef"
      },
      "source": [
        "df[(df.gender == 'male') & (df.test_preparation_course == \"completed\")].gender.count()"
      ],
      "execution_count": null,
      "outputs": [
        {
          "output_type": "execute_result",
          "data": {
            "text/plain": [
              "174"
            ]
          },
          "metadata": {},
          "execution_count": 95
        }
      ]
    },
    {
      "cell_type": "markdown",
      "metadata": {
        "id": "6wBUK0C-81fI"
      },
      "source": [
        "### Задание 13\n",
        "\n",
        "У скольких девочек родители имеют степень магистра (parental level of education = master's degree)?\n",
        "\n",
        "Ответ в виде одного числа."
      ]
    },
    {
      "cell_type": "code",
      "metadata": {
        "id": "I1z__6Up81fI",
        "colab": {
          "base_uri": "https://localhost:8080/"
        },
        "outputId": "910fac53-ebcd-46f4-85e7-de655c23a46f"
      },
      "source": [
        "df[(df.gender == 'female') & (df.parental_level_of_education == \"master's degree\")].gender.count()"
      ],
      "execution_count": null,
      "outputs": [
        {
          "output_type": "execute_result",
          "data": {
            "text/plain": [
              "36"
            ]
          },
          "metadata": {},
          "execution_count": 96
        }
      ]
    },
    {
      "cell_type": "markdown",
      "metadata": {
        "id": "iQ2M9Tst81fI"
      },
      "source": [
        "### Задание 14\n",
        "\n",
        "Сколько абитуриентов, относящихся к этнической группе С, закончили подготовительные курсы?\n",
        "\n",
        "Ответ введите в виде одного числа."
      ]
    },
    {
      "cell_type": "code",
      "metadata": {
        "id": "1hAfKul681fJ",
        "colab": {
          "base_uri": "https://localhost:8080/"
        },
        "outputId": "f964817b-9c1e-4b70-c29d-376d8e2a8a7b"
      },
      "source": [
        "df[(df['race/ethnicity'] == 'group C') & (df.test_preparation_course == \"completed\")].test_preparation_course.count()"
      ],
      "execution_count": null,
      "outputs": [
        {
          "output_type": "execute_result",
          "data": {
            "text/plain": [
              "117"
            ]
          },
          "metadata": {},
          "execution_count": 97
        }
      ]
    },
    {
      "cell_type": "markdown",
      "metadata": {
        "id": "gUGRdn6f81fJ"
      },
      "source": [
        "### Задание 15\n",
        "\n",
        "Сколько девочек, родители которых имеют степень магистра, набрали по математике больше 90 баллов?\n",
        "\n",
        "Ответ введите в виде одного числа."
      ]
    },
    {
      "cell_type": "code",
      "metadata": {
        "id": "6mGYOQBc81fJ",
        "colab": {
          "base_uri": "https://localhost:8080/"
        },
        "outputId": "71fa4172-d3e6-4c2f-f604-99342360c596"
      },
      "source": [
        "df[(df.gender == 'female') & (df.parental_level_of_education == \"master's degree\") & (df.math_score > 90)].gender.count()"
      ],
      "execution_count": null,
      "outputs": [
        {
          "output_type": "execute_result",
          "data": {
            "text/plain": [
              "2"
            ]
          },
          "metadata": {},
          "execution_count": 98
        }
      ]
    }
  ]
}