{
  "nbformat": 4,
  "nbformat_minor": 0,
  "metadata": {
    "colab": {
      "provenance": []
    },
    "kernelspec": {
      "name": "python3",
      "display_name": "Python 3"
    },
    "language_info": {
      "name": "python"
    }
  },
  "cells": [
    {
      "cell_type": "code",
      "execution_count": null,
      "metadata": {
        "id": "FoLpuhN8derz"
      },
      "outputs": [],
      "source": [
        "import pandas as pd\n",
        "avoc = pd.read_csv(\"/content/drive/MyDrive/avocado_prices.csv\")"
      ]
    },
    {
      "cell_type": "code",
      "source": [
        "avoc\n"
      ],
      "metadata": {
        "colab": {
          "base_uri": "https://localhost:8080/",
          "height": 423
        },
        "id": "JLAtokmJd6nR",
        "outputId": "c9aad138-3c2c-4b81-bc8a-51acdeba8c21"
      },
      "execution_count": null,
      "outputs": [
        {
          "output_type": "execute_result",
          "data": {
            "text/html": [
              "\n",
              "  <div id=\"df-01fdb778-c41a-4258-adf5-beed25733b6b\">\n",
              "    <div class=\"colab-df-container\">\n",
              "      <div>\n",
              "<style scoped>\n",
              "    .dataframe tbody tr th:only-of-type {\n",
              "        vertical-align: middle;\n",
              "    }\n",
              "\n",
              "    .dataframe tbody tr th {\n",
              "        vertical-align: top;\n",
              "    }\n",
              "\n",
              "    .dataframe thead th {\n",
              "        text-align: right;\n",
              "    }\n",
              "</style>\n",
              "<table border=\"1\" class=\"dataframe\">\n",
              "  <thead>\n",
              "    <tr style=\"text-align: right;\">\n",
              "      <th></th>\n",
              "      <th>date</th>\n",
              "      <th>region</th>\n",
              "      <th>type</th>\n",
              "      <th>averageprice</th>\n",
              "      <th>total_bags</th>\n",
              "      <th>small_bags</th>\n",
              "      <th>large_bags</th>\n",
              "      <th>xlarge_bags</th>\n",
              "    </tr>\n",
              "  </thead>\n",
              "  <tbody>\n",
              "    <tr>\n",
              "      <th>0</th>\n",
              "      <td>2018-03-25</td>\n",
              "      <td>Albany</td>\n",
              "      <td>conventional</td>\n",
              "      <td>1.57</td>\n",
              "      <td>23924.33</td>\n",
              "      <td>19273.80</td>\n",
              "      <td>4270.53</td>\n",
              "      <td>380.00</td>\n",
              "    </tr>\n",
              "    <tr>\n",
              "      <th>1</th>\n",
              "      <td>2018-03-18</td>\n",
              "      <td>Albany</td>\n",
              "      <td>conventional</td>\n",
              "      <td>1.35</td>\n",
              "      <td>30977.21</td>\n",
              "      <td>26755.90</td>\n",
              "      <td>3721.31</td>\n",
              "      <td>500.00</td>\n",
              "    </tr>\n",
              "    <tr>\n",
              "      <th>2</th>\n",
              "      <td>2018-03-11</td>\n",
              "      <td>Albany</td>\n",
              "      <td>conventional</td>\n",
              "      <td>1.12</td>\n",
              "      <td>17804.72</td>\n",
              "      <td>14480.52</td>\n",
              "      <td>3033.09</td>\n",
              "      <td>291.11</td>\n",
              "    </tr>\n",
              "    <tr>\n",
              "      <th>3</th>\n",
              "      <td>2018-03-04</td>\n",
              "      <td>Albany</td>\n",
              "      <td>conventional</td>\n",
              "      <td>1.08</td>\n",
              "      <td>22353.29</td>\n",
              "      <td>16128.51</td>\n",
              "      <td>5941.45</td>\n",
              "      <td>283.33</td>\n",
              "    </tr>\n",
              "    <tr>\n",
              "      <th>4</th>\n",
              "      <td>2018-02-25</td>\n",
              "      <td>Albany</td>\n",
              "      <td>conventional</td>\n",
              "      <td>1.28</td>\n",
              "      <td>34138.80</td>\n",
              "      <td>30126.31</td>\n",
              "      <td>3702.49</td>\n",
              "      <td>310.00</td>\n",
              "    </tr>\n",
              "    <tr>\n",
              "      <th>...</th>\n",
              "      <td>...</td>\n",
              "      <td>...</td>\n",
              "      <td>...</td>\n",
              "      <td>...</td>\n",
              "      <td>...</td>\n",
              "      <td>...</td>\n",
              "      <td>...</td>\n",
              "      <td>...</td>\n",
              "    </tr>\n",
              "    <tr>\n",
              "      <th>1291</th>\n",
              "      <td>2018-02-04</td>\n",
              "      <td>WestTexNewMexico</td>\n",
              "      <td>organic</td>\n",
              "      <td>1.63</td>\n",
              "      <td>13498.67</td>\n",
              "      <td>13066.82</td>\n",
              "      <td>431.85</td>\n",
              "      <td>0.00</td>\n",
              "    </tr>\n",
              "    <tr>\n",
              "      <th>1292</th>\n",
              "      <td>2018-01-28</td>\n",
              "      <td>WestTexNewMexico</td>\n",
              "      <td>organic</td>\n",
              "      <td>1.71</td>\n",
              "      <td>9264.84</td>\n",
              "      <td>8940.04</td>\n",
              "      <td>324.80</td>\n",
              "      <td>0.00</td>\n",
              "    </tr>\n",
              "    <tr>\n",
              "      <th>1293</th>\n",
              "      <td>2018-01-21</td>\n",
              "      <td>WestTexNewMexico</td>\n",
              "      <td>organic</td>\n",
              "      <td>1.87</td>\n",
              "      <td>9394.11</td>\n",
              "      <td>9351.80</td>\n",
              "      <td>42.31</td>\n",
              "      <td>0.00</td>\n",
              "    </tr>\n",
              "    <tr>\n",
              "      <th>1294</th>\n",
              "      <td>2018-01-14</td>\n",
              "      <td>WestTexNewMexico</td>\n",
              "      <td>organic</td>\n",
              "      <td>1.93</td>\n",
              "      <td>10969.54</td>\n",
              "      <td>10919.54</td>\n",
              "      <td>50.00</td>\n",
              "      <td>0.00</td>\n",
              "    </tr>\n",
              "    <tr>\n",
              "      <th>1295</th>\n",
              "      <td>2018-01-07</td>\n",
              "      <td>WestTexNewMexico</td>\n",
              "      <td>organic</td>\n",
              "      <td>1.62</td>\n",
              "      <td>12014.15</td>\n",
              "      <td>11988.14</td>\n",
              "      <td>26.01</td>\n",
              "      <td>0.00</td>\n",
              "    </tr>\n",
              "  </tbody>\n",
              "</table>\n",
              "<p>1296 rows × 8 columns</p>\n",
              "</div>\n",
              "      <button class=\"colab-df-convert\" onclick=\"convertToInteractive('df-01fdb778-c41a-4258-adf5-beed25733b6b')\"\n",
              "              title=\"Convert this dataframe to an interactive table.\"\n",
              "              style=\"display:none;\">\n",
              "        \n",
              "  <svg xmlns=\"http://www.w3.org/2000/svg\" height=\"24px\"viewBox=\"0 0 24 24\"\n",
              "       width=\"24px\">\n",
              "    <path d=\"M0 0h24v24H0V0z\" fill=\"none\"/>\n",
              "    <path d=\"M18.56 5.44l.94 2.06.94-2.06 2.06-.94-2.06-.94-.94-2.06-.94 2.06-2.06.94zm-11 1L8.5 8.5l.94-2.06 2.06-.94-2.06-.94L8.5 2.5l-.94 2.06-2.06.94zm10 10l.94 2.06.94-2.06 2.06-.94-2.06-.94-.94-2.06-.94 2.06-2.06.94z\"/><path d=\"M17.41 7.96l-1.37-1.37c-.4-.4-.92-.59-1.43-.59-.52 0-1.04.2-1.43.59L10.3 9.45l-7.72 7.72c-.78.78-.78 2.05 0 2.83L4 21.41c.39.39.9.59 1.41.59.51 0 1.02-.2 1.41-.59l7.78-7.78 2.81-2.81c.8-.78.8-2.07 0-2.86zM5.41 20L4 18.59l7.72-7.72 1.47 1.35L5.41 20z\"/>\n",
              "  </svg>\n",
              "      </button>\n",
              "      \n",
              "  <style>\n",
              "    .colab-df-container {\n",
              "      display:flex;\n",
              "      flex-wrap:wrap;\n",
              "      gap: 12px;\n",
              "    }\n",
              "\n",
              "    .colab-df-convert {\n",
              "      background-color: #E8F0FE;\n",
              "      border: none;\n",
              "      border-radius: 50%;\n",
              "      cursor: pointer;\n",
              "      display: none;\n",
              "      fill: #1967D2;\n",
              "      height: 32px;\n",
              "      padding: 0 0 0 0;\n",
              "      width: 32px;\n",
              "    }\n",
              "\n",
              "    .colab-df-convert:hover {\n",
              "      background-color: #E2EBFA;\n",
              "      box-shadow: 0px 1px 2px rgba(60, 64, 67, 0.3), 0px 1px 3px 1px rgba(60, 64, 67, 0.15);\n",
              "      fill: #174EA6;\n",
              "    }\n",
              "\n",
              "    [theme=dark] .colab-df-convert {\n",
              "      background-color: #3B4455;\n",
              "      fill: #D2E3FC;\n",
              "    }\n",
              "\n",
              "    [theme=dark] .colab-df-convert:hover {\n",
              "      background-color: #434B5C;\n",
              "      box-shadow: 0px 1px 3px 1px rgba(0, 0, 0, 0.15);\n",
              "      filter: drop-shadow(0px 1px 2px rgba(0, 0, 0, 0.3));\n",
              "      fill: #FFFFFF;\n",
              "    }\n",
              "  </style>\n",
              "\n",
              "      <script>\n",
              "        const buttonEl =\n",
              "          document.querySelector('#df-01fdb778-c41a-4258-adf5-beed25733b6b button.colab-df-convert');\n",
              "        buttonEl.style.display =\n",
              "          google.colab.kernel.accessAllowed ? 'block' : 'none';\n",
              "\n",
              "        async function convertToInteractive(key) {\n",
              "          const element = document.querySelector('#df-01fdb778-c41a-4258-adf5-beed25733b6b');\n",
              "          const dataTable =\n",
              "            await google.colab.kernel.invokeFunction('convertToInteractive',\n",
              "                                                     [key], {});\n",
              "          if (!dataTable) return;\n",
              "\n",
              "          const docLinkHtml = 'Like what you see? Visit the ' +\n",
              "            '<a target=\"_blank\" href=https://colab.research.google.com/notebooks/data_table.ipynb>data table notebook</a>'\n",
              "            + ' to learn more about interactive tables.';\n",
              "          element.innerHTML = '';\n",
              "          dataTable['output_type'] = 'display_data';\n",
              "          await google.colab.output.renderOutput(dataTable, element);\n",
              "          const docLink = document.createElement('div');\n",
              "          docLink.innerHTML = docLinkHtml;\n",
              "          element.appendChild(docLink);\n",
              "        }\n",
              "      </script>\n",
              "    </div>\n",
              "  </div>\n",
              "  "
            ],
            "text/plain": [
              "            date            region  ... large_bags  xlarge_bags\n",
              "0     2018-03-25            Albany  ...    4270.53       380.00\n",
              "1     2018-03-18            Albany  ...    3721.31       500.00\n",
              "2     2018-03-11            Albany  ...    3033.09       291.11\n",
              "3     2018-03-04            Albany  ...    5941.45       283.33\n",
              "4     2018-02-25            Albany  ...    3702.49       310.00\n",
              "...          ...               ...  ...        ...          ...\n",
              "1291  2018-02-04  WestTexNewMexico  ...     431.85         0.00\n",
              "1292  2018-01-28  WestTexNewMexico  ...     324.80         0.00\n",
              "1293  2018-01-21  WestTexNewMexico  ...      42.31         0.00\n",
              "1294  2018-01-14  WestTexNewMexico  ...      50.00         0.00\n",
              "1295  2018-01-07  WestTexNewMexico  ...      26.01         0.00\n",
              "\n",
              "[1296 rows x 8 columns]"
            ]
          },
          "metadata": {},
          "execution_count": 133
        }
      ]
    },
    {
      "cell_type": "code",
      "source": [
        "avoc.info()"
      ],
      "metadata": {
        "colab": {
          "base_uri": "https://localhost:8080/"
        },
        "id": "PYNm_Need7VI",
        "outputId": "ce47ac22-517b-4df0-9798-95ca2dea72cc"
      },
      "execution_count": null,
      "outputs": [
        {
          "output_type": "stream",
          "name": "stdout",
          "text": [
            "<class 'pandas.core.frame.DataFrame'>\n",
            "RangeIndex: 1296 entries, 0 to 1295\n",
            "Data columns (total 8 columns):\n",
            " #   Column        Non-Null Count  Dtype  \n",
            "---  ------        --------------  -----  \n",
            " 0   date          1296 non-null   object \n",
            " 1   region        1296 non-null   object \n",
            " 2   type          1296 non-null   object \n",
            " 3   averageprice  1296 non-null   float64\n",
            " 4   total_bags    1296 non-null   float64\n",
            " 5   small_bags    1296 non-null   float64\n",
            " 6   large_bags    1296 non-null   float64\n",
            " 7   xlarge_bags   1296 non-null   float64\n",
            "dtypes: float64(5), object(3)\n",
            "memory usage: 81.1+ KB\n"
          ]
        }
      ]
    },
    {
      "cell_type": "code",
      "source": [
        "avoc.region.value_counts()"
      ],
      "metadata": {
        "colab": {
          "base_uri": "https://localhost:8080/"
        },
        "id": "sjEXodenJ5ws",
        "outputId": "e928f6ce-dd1e-4e76-f434-7cfa8ac257f6"
      },
      "execution_count": null,
      "outputs": [
        {
          "output_type": "execute_result",
          "data": {
            "text/plain": [
              "Sacramento             24\n",
              "StLouis                24\n",
              "Albany                 24\n",
              "Roanoke                24\n",
              "Detroit                24\n",
              "NewYork                24\n",
              "TotalUS                24\n",
              "BaltimoreWashington    24\n",
              "BuffaloRochester       24\n",
              "HarrisburgScranton     24\n",
              "WestTexNewMexico       24\n",
              "Spokane                24\n",
              "Portland               24\n",
              "Atlanta                24\n",
              "Jacksonville           24\n",
              "Orlando                24\n",
              "CincinnatiDayton       24\n",
              "PhoenixTucson          24\n",
              "SouthCarolina          24\n",
              "NorthernNewEngland     24\n",
              "Charlotte              24\n",
              "MiamiFtLauderdale      24\n",
              "Columbus               24\n",
              "Tampa                  24\n",
              "Denver                 24\n",
              "Boston                 24\n",
              "Midsouth               24\n",
              "LasVegas               24\n",
              "NewOrleansMobile       24\n",
              "Plains                 24\n",
              "Houston                24\n",
              "DallasFtWorth          24\n",
              "Indianapolis           24\n",
              "SanFrancisco           24\n",
              "LosAngeles             24\n",
              "SanDiego               24\n",
              "RichmondNorfolk        24\n",
              "Boise                  24\n",
              "Nashville              24\n",
              "GreatLakes             24\n",
              "HartfordSpringfield    24\n",
              "SouthCentral           24\n",
              "Northeast              24\n",
              "Chicago                24\n",
              "Pittsburgh             24\n",
              "Seattle                24\n",
              "GrandRapids            24\n",
              "Southeast              24\n",
              "Philadelphia           24\n",
              "Louisville             24\n",
              "West                   24\n",
              "Syracuse               24\n",
              "California             24\n",
              "RaleighGreensboro      24\n",
              "Name: region, dtype: int64"
            ]
          },
          "metadata": {},
          "execution_count": 135
        }
      ]
    },
    {
      "cell_type": "code",
      "source": [
        "avoc['type'].value_counts()"
      ],
      "metadata": {
        "colab": {
          "base_uri": "https://localhost:8080/"
        },
        "id": "KUKjbLkuK6Zb",
        "outputId": "2ba793a5-3a0e-4f70-8f1f-eaedf39679e1"
      },
      "execution_count": null,
      "outputs": [
        {
          "output_type": "execute_result",
          "data": {
            "text/plain": [
              "conventional    648\n",
              "organic         648\n",
              "Name: type, dtype: int64"
            ]
          },
          "metadata": {},
          "execution_count": 136
        }
      ]
    },
    {
      "cell_type": "code",
      "source": [
        "avoc.describe(include=['object'])"
      ],
      "metadata": {
        "colab": {
          "base_uri": "https://localhost:8080/",
          "height": 175
        },
        "id": "B2mBUu5pgaky",
        "outputId": "576d6540-0989-4d3a-dd4d-c4898e0e22c6"
      },
      "execution_count": null,
      "outputs": [
        {
          "output_type": "execute_result",
          "data": {
            "text/html": [
              "\n",
              "  <div id=\"df-77b35cb2-8aaa-40c6-85a3-f868645bcc11\">\n",
              "    <div class=\"colab-df-container\">\n",
              "      <div>\n",
              "<style scoped>\n",
              "    .dataframe tbody tr th:only-of-type {\n",
              "        vertical-align: middle;\n",
              "    }\n",
              "\n",
              "    .dataframe tbody tr th {\n",
              "        vertical-align: top;\n",
              "    }\n",
              "\n",
              "    .dataframe thead th {\n",
              "        text-align: right;\n",
              "    }\n",
              "</style>\n",
              "<table border=\"1\" class=\"dataframe\">\n",
              "  <thead>\n",
              "    <tr style=\"text-align: right;\">\n",
              "      <th></th>\n",
              "      <th>date</th>\n",
              "      <th>region</th>\n",
              "      <th>type</th>\n",
              "    </tr>\n",
              "  </thead>\n",
              "  <tbody>\n",
              "    <tr>\n",
              "      <th>count</th>\n",
              "      <td>1296</td>\n",
              "      <td>1296</td>\n",
              "      <td>1296</td>\n",
              "    </tr>\n",
              "    <tr>\n",
              "      <th>unique</th>\n",
              "      <td>12</td>\n",
              "      <td>54</td>\n",
              "      <td>2</td>\n",
              "    </tr>\n",
              "    <tr>\n",
              "      <th>top</th>\n",
              "      <td>2018-02-18</td>\n",
              "      <td>Sacramento</td>\n",
              "      <td>conventional</td>\n",
              "    </tr>\n",
              "    <tr>\n",
              "      <th>freq</th>\n",
              "      <td>108</td>\n",
              "      <td>24</td>\n",
              "      <td>648</td>\n",
              "    </tr>\n",
              "  </tbody>\n",
              "</table>\n",
              "</div>\n",
              "      <button class=\"colab-df-convert\" onclick=\"convertToInteractive('df-77b35cb2-8aaa-40c6-85a3-f868645bcc11')\"\n",
              "              title=\"Convert this dataframe to an interactive table.\"\n",
              "              style=\"display:none;\">\n",
              "        \n",
              "  <svg xmlns=\"http://www.w3.org/2000/svg\" height=\"24px\"viewBox=\"0 0 24 24\"\n",
              "       width=\"24px\">\n",
              "    <path d=\"M0 0h24v24H0V0z\" fill=\"none\"/>\n",
              "    <path d=\"M18.56 5.44l.94 2.06.94-2.06 2.06-.94-2.06-.94-.94-2.06-.94 2.06-2.06.94zm-11 1L8.5 8.5l.94-2.06 2.06-.94-2.06-.94L8.5 2.5l-.94 2.06-2.06.94zm10 10l.94 2.06.94-2.06 2.06-.94-2.06-.94-.94-2.06-.94 2.06-2.06.94z\"/><path d=\"M17.41 7.96l-1.37-1.37c-.4-.4-.92-.59-1.43-.59-.52 0-1.04.2-1.43.59L10.3 9.45l-7.72 7.72c-.78.78-.78 2.05 0 2.83L4 21.41c.39.39.9.59 1.41.59.51 0 1.02-.2 1.41-.59l7.78-7.78 2.81-2.81c.8-.78.8-2.07 0-2.86zM5.41 20L4 18.59l7.72-7.72 1.47 1.35L5.41 20z\"/>\n",
              "  </svg>\n",
              "      </button>\n",
              "      \n",
              "  <style>\n",
              "    .colab-df-container {\n",
              "      display:flex;\n",
              "      flex-wrap:wrap;\n",
              "      gap: 12px;\n",
              "    }\n",
              "\n",
              "    .colab-df-convert {\n",
              "      background-color: #E8F0FE;\n",
              "      border: none;\n",
              "      border-radius: 50%;\n",
              "      cursor: pointer;\n",
              "      display: none;\n",
              "      fill: #1967D2;\n",
              "      height: 32px;\n",
              "      padding: 0 0 0 0;\n",
              "      width: 32px;\n",
              "    }\n",
              "\n",
              "    .colab-df-convert:hover {\n",
              "      background-color: #E2EBFA;\n",
              "      box-shadow: 0px 1px 2px rgba(60, 64, 67, 0.3), 0px 1px 3px 1px rgba(60, 64, 67, 0.15);\n",
              "      fill: #174EA6;\n",
              "    }\n",
              "\n",
              "    [theme=dark] .colab-df-convert {\n",
              "      background-color: #3B4455;\n",
              "      fill: #D2E3FC;\n",
              "    }\n",
              "\n",
              "    [theme=dark] .colab-df-convert:hover {\n",
              "      background-color: #434B5C;\n",
              "      box-shadow: 0px 1px 3px 1px rgba(0, 0, 0, 0.15);\n",
              "      filter: drop-shadow(0px 1px 2px rgba(0, 0, 0, 0.3));\n",
              "      fill: #FFFFFF;\n",
              "    }\n",
              "  </style>\n",
              "\n",
              "      <script>\n",
              "        const buttonEl =\n",
              "          document.querySelector('#df-77b35cb2-8aaa-40c6-85a3-f868645bcc11 button.colab-df-convert');\n",
              "        buttonEl.style.display =\n",
              "          google.colab.kernel.accessAllowed ? 'block' : 'none';\n",
              "\n",
              "        async function convertToInteractive(key) {\n",
              "          const element = document.querySelector('#df-77b35cb2-8aaa-40c6-85a3-f868645bcc11');\n",
              "          const dataTable =\n",
              "            await google.colab.kernel.invokeFunction('convertToInteractive',\n",
              "                                                     [key], {});\n",
              "          if (!dataTable) return;\n",
              "\n",
              "          const docLinkHtml = 'Like what you see? Visit the ' +\n",
              "            '<a target=\"_blank\" href=https://colab.research.google.com/notebooks/data_table.ipynb>data table notebook</a>'\n",
              "            + ' to learn more about interactive tables.';\n",
              "          element.innerHTML = '';\n",
              "          dataTable['output_type'] = 'display_data';\n",
              "          await google.colab.output.renderOutput(dataTable, element);\n",
              "          const docLink = document.createElement('div');\n",
              "          docLink.innerHTML = docLinkHtml;\n",
              "          element.appendChild(docLink);\n",
              "        }\n",
              "      </script>\n",
              "    </div>\n",
              "  </div>\n",
              "  "
            ],
            "text/plain": [
              "              date      region          type\n",
              "count         1296        1296          1296\n",
              "unique          12          54             2\n",
              "top     2018-02-18  Sacramento  conventional\n",
              "freq           108          24           648"
            ]
          },
          "metadata": {},
          "execution_count": 18
        }
      ]
    },
    {
      "cell_type": "code",
      "source": [
        "avoc.describe()"
      ],
      "metadata": {
        "colab": {
          "base_uri": "https://localhost:8080/",
          "height": 300
        },
        "id": "YhfmwBTIhD5L",
        "outputId": "1ee415d3-93e3-4fa7-e4b0-bb1b271ed47e"
      },
      "execution_count": null,
      "outputs": [
        {
          "output_type": "execute_result",
          "data": {
            "text/html": [
              "\n",
              "  <div id=\"df-cdc265bc-9e06-425b-856c-06a9c8bbb250\">\n",
              "    <div class=\"colab-df-container\">\n",
              "      <div>\n",
              "<style scoped>\n",
              "    .dataframe tbody tr th:only-of-type {\n",
              "        vertical-align: middle;\n",
              "    }\n",
              "\n",
              "    .dataframe tbody tr th {\n",
              "        vertical-align: top;\n",
              "    }\n",
              "\n",
              "    .dataframe thead th {\n",
              "        text-align: right;\n",
              "    }\n",
              "</style>\n",
              "<table border=\"1\" class=\"dataframe\">\n",
              "  <thead>\n",
              "    <tr style=\"text-align: right;\">\n",
              "      <th></th>\n",
              "      <th>averageprice</th>\n",
              "      <th>total_bags</th>\n",
              "      <th>small_bags</th>\n",
              "      <th>large_bags</th>\n",
              "      <th>xlarge_bags</th>\n",
              "    </tr>\n",
              "  </thead>\n",
              "  <tbody>\n",
              "    <tr>\n",
              "      <th>count</th>\n",
              "      <td>1296.000000</td>\n",
              "      <td>1.296000e+03</td>\n",
              "      <td>1.296000e+03</td>\n",
              "      <td>1.296000e+03</td>\n",
              "      <td>1296.000000</td>\n",
              "    </tr>\n",
              "    <tr>\n",
              "      <th>mean</th>\n",
              "      <td>1.347531</td>\n",
              "      <td>3.792716e+05</td>\n",
              "      <td>2.783498e+05</td>\n",
              "      <td>9.535802e+04</td>\n",
              "      <td>5563.728295</td>\n",
              "    </tr>\n",
              "    <tr>\n",
              "      <th>std</th>\n",
              "      <td>0.305858</td>\n",
              "      <td>1.478037e+06</td>\n",
              "      <td>1.075358e+06</td>\n",
              "      <td>4.084757e+05</td>\n",
              "      <td>25818.259882</td>\n",
              "    </tr>\n",
              "    <tr>\n",
              "      <th>min</th>\n",
              "      <td>0.560000</td>\n",
              "      <td>9.884500e+02</td>\n",
              "      <td>2.844300e+02</td>\n",
              "      <td>0.000000e+00</td>\n",
              "      <td>0.000000</td>\n",
              "    </tr>\n",
              "    <tr>\n",
              "      <th>25%</th>\n",
              "      <td>1.130000</td>\n",
              "      <td>1.186428e+04</td>\n",
              "      <td>9.071682e+03</td>\n",
              "      <td>5.208825e+02</td>\n",
              "      <td>0.000000</td>\n",
              "    </tr>\n",
              "    <tr>\n",
              "      <th>50%</th>\n",
              "      <td>1.345000</td>\n",
              "      <td>6.943189e+04</td>\n",
              "      <td>5.072951e+04</td>\n",
              "      <td>8.543130e+03</td>\n",
              "      <td>0.000000</td>\n",
              "    </tr>\n",
              "    <tr>\n",
              "      <th>75%</th>\n",
              "      <td>1.560000</td>\n",
              "      <td>1.771608e+05</td>\n",
              "      <td>1.261619e+05</td>\n",
              "      <td>3.984985e+04</td>\n",
              "      <td>842.070000</td>\n",
              "    </tr>\n",
              "    <tr>\n",
              "      <th>max</th>\n",
              "      <td>2.300000</td>\n",
              "      <td>1.937313e+07</td>\n",
              "      <td>1.338459e+07</td>\n",
              "      <td>5.719097e+06</td>\n",
              "      <td>309467.530000</td>\n",
              "    </tr>\n",
              "  </tbody>\n",
              "</table>\n",
              "</div>\n",
              "      <button class=\"colab-df-convert\" onclick=\"convertToInteractive('df-cdc265bc-9e06-425b-856c-06a9c8bbb250')\"\n",
              "              title=\"Convert this dataframe to an interactive table.\"\n",
              "              style=\"display:none;\">\n",
              "        \n",
              "  <svg xmlns=\"http://www.w3.org/2000/svg\" height=\"24px\"viewBox=\"0 0 24 24\"\n",
              "       width=\"24px\">\n",
              "    <path d=\"M0 0h24v24H0V0z\" fill=\"none\"/>\n",
              "    <path d=\"M18.56 5.44l.94 2.06.94-2.06 2.06-.94-2.06-.94-.94-2.06-.94 2.06-2.06.94zm-11 1L8.5 8.5l.94-2.06 2.06-.94-2.06-.94L8.5 2.5l-.94 2.06-2.06.94zm10 10l.94 2.06.94-2.06 2.06-.94-2.06-.94-.94-2.06-.94 2.06-2.06.94z\"/><path d=\"M17.41 7.96l-1.37-1.37c-.4-.4-.92-.59-1.43-.59-.52 0-1.04.2-1.43.59L10.3 9.45l-7.72 7.72c-.78.78-.78 2.05 0 2.83L4 21.41c.39.39.9.59 1.41.59.51 0 1.02-.2 1.41-.59l7.78-7.78 2.81-2.81c.8-.78.8-2.07 0-2.86zM5.41 20L4 18.59l7.72-7.72 1.47 1.35L5.41 20z\"/>\n",
              "  </svg>\n",
              "      </button>\n",
              "      \n",
              "  <style>\n",
              "    .colab-df-container {\n",
              "      display:flex;\n",
              "      flex-wrap:wrap;\n",
              "      gap: 12px;\n",
              "    }\n",
              "\n",
              "    .colab-df-convert {\n",
              "      background-color: #E8F0FE;\n",
              "      border: none;\n",
              "      border-radius: 50%;\n",
              "      cursor: pointer;\n",
              "      display: none;\n",
              "      fill: #1967D2;\n",
              "      height: 32px;\n",
              "      padding: 0 0 0 0;\n",
              "      width: 32px;\n",
              "    }\n",
              "\n",
              "    .colab-df-convert:hover {\n",
              "      background-color: #E2EBFA;\n",
              "      box-shadow: 0px 1px 2px rgba(60, 64, 67, 0.3), 0px 1px 3px 1px rgba(60, 64, 67, 0.15);\n",
              "      fill: #174EA6;\n",
              "    }\n",
              "\n",
              "    [theme=dark] .colab-df-convert {\n",
              "      background-color: #3B4455;\n",
              "      fill: #D2E3FC;\n",
              "    }\n",
              "\n",
              "    [theme=dark] .colab-df-convert:hover {\n",
              "      background-color: #434B5C;\n",
              "      box-shadow: 0px 1px 3px 1px rgba(0, 0, 0, 0.15);\n",
              "      filter: drop-shadow(0px 1px 2px rgba(0, 0, 0, 0.3));\n",
              "      fill: #FFFFFF;\n",
              "    }\n",
              "  </style>\n",
              "\n",
              "      <script>\n",
              "        const buttonEl =\n",
              "          document.querySelector('#df-cdc265bc-9e06-425b-856c-06a9c8bbb250 button.colab-df-convert');\n",
              "        buttonEl.style.display =\n",
              "          google.colab.kernel.accessAllowed ? 'block' : 'none';\n",
              "\n",
              "        async function convertToInteractive(key) {\n",
              "          const element = document.querySelector('#df-cdc265bc-9e06-425b-856c-06a9c8bbb250');\n",
              "          const dataTable =\n",
              "            await google.colab.kernel.invokeFunction('convertToInteractive',\n",
              "                                                     [key], {});\n",
              "          if (!dataTable) return;\n",
              "\n",
              "          const docLinkHtml = 'Like what you see? Visit the ' +\n",
              "            '<a target=\"_blank\" href=https://colab.research.google.com/notebooks/data_table.ipynb>data table notebook</a>'\n",
              "            + ' to learn more about interactive tables.';\n",
              "          element.innerHTML = '';\n",
              "          dataTable['output_type'] = 'display_data';\n",
              "          await google.colab.output.renderOutput(dataTable, element);\n",
              "          const docLink = document.createElement('div');\n",
              "          docLink.innerHTML = docLinkHtml;\n",
              "          element.appendChild(docLink);\n",
              "        }\n",
              "      </script>\n",
              "    </div>\n",
              "  </div>\n",
              "  "
            ],
            "text/plain": [
              "       averageprice    total_bags    small_bags    large_bags    xlarge_bags\n",
              "count   1296.000000  1.296000e+03  1.296000e+03  1.296000e+03    1296.000000\n",
              "mean       1.347531  3.792716e+05  2.783498e+05  9.535802e+04    5563.728295\n",
              "std        0.305858  1.478037e+06  1.075358e+06  4.084757e+05   25818.259882\n",
              "min        0.560000  9.884500e+02  2.844300e+02  0.000000e+00       0.000000\n",
              "25%        1.130000  1.186428e+04  9.071682e+03  5.208825e+02       0.000000\n",
              "50%        1.345000  6.943189e+04  5.072951e+04  8.543130e+03       0.000000\n",
              "75%        1.560000  1.771608e+05  1.261619e+05  3.984985e+04     842.070000\n",
              "max        2.300000  1.937313e+07  1.338459e+07  5.719097e+06  309467.530000"
            ]
          },
          "metadata": {},
          "execution_count": 19
        }
      ]
    },
    {
      "cell_type": "code",
      "source": [
        "print(\"Вот столько раз total_bags не равно сумме коробок разных размеров: \",\n",
        "      sum(avoc.total_bags-(avoc.small_bags+avoc.large_bags+avoc.xlarge_bags)>0.001)\n",
        "      )"
      ],
      "metadata": {
        "colab": {
          "base_uri": "https://localhost:8080/"
        },
        "id": "OEKtZhTyhSGu",
        "outputId": "c7d0538c-b9a2-4e52-b684-64afea688604"
      },
      "execution_count": null,
      "outputs": [
        {
          "output_type": "stream",
          "name": "stdout",
          "text": [
            "Вот столько раз total_bags не равно сумме коробок разных размеров:  0\n"
          ]
        }
      ]
    },
    {
      "cell_type": "code",
      "source": [
        "region_categ=pd.Categorical(avoc.region).codes\n",
        "avoc.insert(1, 'code_reg', region_categ)"
      ],
      "metadata": {
        "id": "GX_EueVpnYjP"
      },
      "execution_count": null,
      "outputs": []
    },
    {
      "cell_type": "code",
      "source": [
        "type_categ=pd.Categorical(avoc['type']).codes\n",
        "avoc.insert(4, 'type_categ', type_categ)"
      ],
      "metadata": {
        "id": "ylaMZhBjM61Q"
      },
      "execution_count": null,
      "outputs": []
    },
    {
      "cell_type": "code",
      "source": [
        "avoc"
      ],
      "metadata": {
        "colab": {
          "base_uri": "https://localhost:8080/",
          "height": 424
        },
        "id": "ecAAH486MpxZ",
        "outputId": "e9090102-f92e-42e0-9d67-c4ad71a7cfda"
      },
      "execution_count": null,
      "outputs": [
        {
          "output_type": "execute_result",
          "data": {
            "text/html": [
              "\n",
              "  <div id=\"df-4a4811dc-1c22-43e6-ae54-73df1e212b4c\">\n",
              "    <div class=\"colab-df-container\">\n",
              "      <div>\n",
              "<style scoped>\n",
              "    .dataframe tbody tr th:only-of-type {\n",
              "        vertical-align: middle;\n",
              "    }\n",
              "\n",
              "    .dataframe tbody tr th {\n",
              "        vertical-align: top;\n",
              "    }\n",
              "\n",
              "    .dataframe thead th {\n",
              "        text-align: right;\n",
              "    }\n",
              "</style>\n",
              "<table border=\"1\" class=\"dataframe\">\n",
              "  <thead>\n",
              "    <tr style=\"text-align: right;\">\n",
              "      <th></th>\n",
              "      <th>date</th>\n",
              "      <th>code_reg</th>\n",
              "      <th>region</th>\n",
              "      <th>type</th>\n",
              "      <th>type_categ</th>\n",
              "      <th>averageprice</th>\n",
              "      <th>total_bags</th>\n",
              "      <th>small_bags</th>\n",
              "      <th>large_bags</th>\n",
              "      <th>xlarge_bags</th>\n",
              "    </tr>\n",
              "  </thead>\n",
              "  <tbody>\n",
              "    <tr>\n",
              "      <th>0</th>\n",
              "      <td>2018-03-25</td>\n",
              "      <td>0</td>\n",
              "      <td>Albany</td>\n",
              "      <td>conventional</td>\n",
              "      <td>0</td>\n",
              "      <td>1.57</td>\n",
              "      <td>23924.33</td>\n",
              "      <td>19273.80</td>\n",
              "      <td>4270.53</td>\n",
              "      <td>380.00</td>\n",
              "    </tr>\n",
              "    <tr>\n",
              "      <th>1</th>\n",
              "      <td>2018-03-18</td>\n",
              "      <td>0</td>\n",
              "      <td>Albany</td>\n",
              "      <td>conventional</td>\n",
              "      <td>0</td>\n",
              "      <td>1.35</td>\n",
              "      <td>30977.21</td>\n",
              "      <td>26755.90</td>\n",
              "      <td>3721.31</td>\n",
              "      <td>500.00</td>\n",
              "    </tr>\n",
              "    <tr>\n",
              "      <th>2</th>\n",
              "      <td>2018-03-11</td>\n",
              "      <td>0</td>\n",
              "      <td>Albany</td>\n",
              "      <td>conventional</td>\n",
              "      <td>0</td>\n",
              "      <td>1.12</td>\n",
              "      <td>17804.72</td>\n",
              "      <td>14480.52</td>\n",
              "      <td>3033.09</td>\n",
              "      <td>291.11</td>\n",
              "    </tr>\n",
              "    <tr>\n",
              "      <th>3</th>\n",
              "      <td>2018-03-04</td>\n",
              "      <td>0</td>\n",
              "      <td>Albany</td>\n",
              "      <td>conventional</td>\n",
              "      <td>0</td>\n",
              "      <td>1.08</td>\n",
              "      <td>22353.29</td>\n",
              "      <td>16128.51</td>\n",
              "      <td>5941.45</td>\n",
              "      <td>283.33</td>\n",
              "    </tr>\n",
              "    <tr>\n",
              "      <th>4</th>\n",
              "      <td>2018-02-25</td>\n",
              "      <td>0</td>\n",
              "      <td>Albany</td>\n",
              "      <td>conventional</td>\n",
              "      <td>0</td>\n",
              "      <td>1.28</td>\n",
              "      <td>34138.80</td>\n",
              "      <td>30126.31</td>\n",
              "      <td>3702.49</td>\n",
              "      <td>310.00</td>\n",
              "    </tr>\n",
              "    <tr>\n",
              "      <th>...</th>\n",
              "      <td>...</td>\n",
              "      <td>...</td>\n",
              "      <td>...</td>\n",
              "      <td>...</td>\n",
              "      <td>...</td>\n",
              "      <td>...</td>\n",
              "      <td>...</td>\n",
              "      <td>...</td>\n",
              "      <td>...</td>\n",
              "      <td>...</td>\n",
              "    </tr>\n",
              "    <tr>\n",
              "      <th>1291</th>\n",
              "      <td>2018-02-04</td>\n",
              "      <td>53</td>\n",
              "      <td>WestTexNewMexico</td>\n",
              "      <td>organic</td>\n",
              "      <td>1</td>\n",
              "      <td>1.63</td>\n",
              "      <td>13498.67</td>\n",
              "      <td>13066.82</td>\n",
              "      <td>431.85</td>\n",
              "      <td>0.00</td>\n",
              "    </tr>\n",
              "    <tr>\n",
              "      <th>1292</th>\n",
              "      <td>2018-01-28</td>\n",
              "      <td>53</td>\n",
              "      <td>WestTexNewMexico</td>\n",
              "      <td>organic</td>\n",
              "      <td>1</td>\n",
              "      <td>1.71</td>\n",
              "      <td>9264.84</td>\n",
              "      <td>8940.04</td>\n",
              "      <td>324.80</td>\n",
              "      <td>0.00</td>\n",
              "    </tr>\n",
              "    <tr>\n",
              "      <th>1293</th>\n",
              "      <td>2018-01-21</td>\n",
              "      <td>53</td>\n",
              "      <td>WestTexNewMexico</td>\n",
              "      <td>organic</td>\n",
              "      <td>1</td>\n",
              "      <td>1.87</td>\n",
              "      <td>9394.11</td>\n",
              "      <td>9351.80</td>\n",
              "      <td>42.31</td>\n",
              "      <td>0.00</td>\n",
              "    </tr>\n",
              "    <tr>\n",
              "      <th>1294</th>\n",
              "      <td>2018-01-14</td>\n",
              "      <td>53</td>\n",
              "      <td>WestTexNewMexico</td>\n",
              "      <td>organic</td>\n",
              "      <td>1</td>\n",
              "      <td>1.93</td>\n",
              "      <td>10969.54</td>\n",
              "      <td>10919.54</td>\n",
              "      <td>50.00</td>\n",
              "      <td>0.00</td>\n",
              "    </tr>\n",
              "    <tr>\n",
              "      <th>1295</th>\n",
              "      <td>2018-01-07</td>\n",
              "      <td>53</td>\n",
              "      <td>WestTexNewMexico</td>\n",
              "      <td>organic</td>\n",
              "      <td>1</td>\n",
              "      <td>1.62</td>\n",
              "      <td>12014.15</td>\n",
              "      <td>11988.14</td>\n",
              "      <td>26.01</td>\n",
              "      <td>0.00</td>\n",
              "    </tr>\n",
              "  </tbody>\n",
              "</table>\n",
              "<p>1296 rows × 10 columns</p>\n",
              "</div>\n",
              "      <button class=\"colab-df-convert\" onclick=\"convertToInteractive('df-4a4811dc-1c22-43e6-ae54-73df1e212b4c')\"\n",
              "              title=\"Convert this dataframe to an interactive table.\"\n",
              "              style=\"display:none;\">\n",
              "        \n",
              "  <svg xmlns=\"http://www.w3.org/2000/svg\" height=\"24px\"viewBox=\"0 0 24 24\"\n",
              "       width=\"24px\">\n",
              "    <path d=\"M0 0h24v24H0V0z\" fill=\"none\"/>\n",
              "    <path d=\"M18.56 5.44l.94 2.06.94-2.06 2.06-.94-2.06-.94-.94-2.06-.94 2.06-2.06.94zm-11 1L8.5 8.5l.94-2.06 2.06-.94-2.06-.94L8.5 2.5l-.94 2.06-2.06.94zm10 10l.94 2.06.94-2.06 2.06-.94-2.06-.94-.94-2.06-.94 2.06-2.06.94z\"/><path d=\"M17.41 7.96l-1.37-1.37c-.4-.4-.92-.59-1.43-.59-.52 0-1.04.2-1.43.59L10.3 9.45l-7.72 7.72c-.78.78-.78 2.05 0 2.83L4 21.41c.39.39.9.59 1.41.59.51 0 1.02-.2 1.41-.59l7.78-7.78 2.81-2.81c.8-.78.8-2.07 0-2.86zM5.41 20L4 18.59l7.72-7.72 1.47 1.35L5.41 20z\"/>\n",
              "  </svg>\n",
              "      </button>\n",
              "      \n",
              "  <style>\n",
              "    .colab-df-container {\n",
              "      display:flex;\n",
              "      flex-wrap:wrap;\n",
              "      gap: 12px;\n",
              "    }\n",
              "\n",
              "    .colab-df-convert {\n",
              "      background-color: #E8F0FE;\n",
              "      border: none;\n",
              "      border-radius: 50%;\n",
              "      cursor: pointer;\n",
              "      display: none;\n",
              "      fill: #1967D2;\n",
              "      height: 32px;\n",
              "      padding: 0 0 0 0;\n",
              "      width: 32px;\n",
              "    }\n",
              "\n",
              "    .colab-df-convert:hover {\n",
              "      background-color: #E2EBFA;\n",
              "      box-shadow: 0px 1px 2px rgba(60, 64, 67, 0.3), 0px 1px 3px 1px rgba(60, 64, 67, 0.15);\n",
              "      fill: #174EA6;\n",
              "    }\n",
              "\n",
              "    [theme=dark] .colab-df-convert {\n",
              "      background-color: #3B4455;\n",
              "      fill: #D2E3FC;\n",
              "    }\n",
              "\n",
              "    [theme=dark] .colab-df-convert:hover {\n",
              "      background-color: #434B5C;\n",
              "      box-shadow: 0px 1px 3px 1px rgba(0, 0, 0, 0.15);\n",
              "      filter: drop-shadow(0px 1px 2px rgba(0, 0, 0, 0.3));\n",
              "      fill: #FFFFFF;\n",
              "    }\n",
              "  </style>\n",
              "\n",
              "      <script>\n",
              "        const buttonEl =\n",
              "          document.querySelector('#df-4a4811dc-1c22-43e6-ae54-73df1e212b4c button.colab-df-convert');\n",
              "        buttonEl.style.display =\n",
              "          google.colab.kernel.accessAllowed ? 'block' : 'none';\n",
              "\n",
              "        async function convertToInteractive(key) {\n",
              "          const element = document.querySelector('#df-4a4811dc-1c22-43e6-ae54-73df1e212b4c');\n",
              "          const dataTable =\n",
              "            await google.colab.kernel.invokeFunction('convertToInteractive',\n",
              "                                                     [key], {});\n",
              "          if (!dataTable) return;\n",
              "\n",
              "          const docLinkHtml = 'Like what you see? Visit the ' +\n",
              "            '<a target=\"_blank\" href=https://colab.research.google.com/notebooks/data_table.ipynb>data table notebook</a>'\n",
              "            + ' to learn more about interactive tables.';\n",
              "          element.innerHTML = '';\n",
              "          dataTable['output_type'] = 'display_data';\n",
              "          await google.colab.output.renderOutput(dataTable, element);\n",
              "          const docLink = document.createElement('div');\n",
              "          docLink.innerHTML = docLinkHtml;\n",
              "          element.appendChild(docLink);\n",
              "        }\n",
              "      </script>\n",
              "    </div>\n",
              "  </div>\n",
              "  "
            ],
            "text/plain": [
              "            date  code_reg  ... large_bags xlarge_bags\n",
              "0     2018-03-25         0  ...    4270.53      380.00\n",
              "1     2018-03-18         0  ...    3721.31      500.00\n",
              "2     2018-03-11         0  ...    3033.09      291.11\n",
              "3     2018-03-04         0  ...    5941.45      283.33\n",
              "4     2018-02-25         0  ...    3702.49      310.00\n",
              "...          ...       ...  ...        ...         ...\n",
              "1291  2018-02-04        53  ...     431.85        0.00\n",
              "1292  2018-01-28        53  ...     324.80        0.00\n",
              "1293  2018-01-21        53  ...      42.31        0.00\n",
              "1294  2018-01-14        53  ...      50.00        0.00\n",
              "1295  2018-01-07        53  ...      26.01        0.00\n",
              "\n",
              "[1296 rows x 10 columns]"
            ]
          },
          "metadata": {},
          "execution_count": 7
        }
      ]
    },
    {
      "cell_type": "code",
      "source": [
        "avoc.region.value_counts()"
      ],
      "metadata": {
        "colab": {
          "base_uri": "https://localhost:8080/"
        },
        "id": "t6WiiekznvUk",
        "outputId": "7776c08b-2f5f-4419-ebaf-dd5b9f58a5c7"
      },
      "execution_count": null,
      "outputs": [
        {
          "output_type": "execute_result",
          "data": {
            "text/plain": [
              "0    1272\n",
              "1      24\n",
              "Name: region, dtype: int64"
            ]
          },
          "metadata": {},
          "execution_count": 57
        }
      ]
    },
    {
      "cell_type": "code",
      "source": [
        "avoc['type'].value_counts()"
      ],
      "metadata": {
        "colab": {
          "base_uri": "https://localhost:8080/"
        },
        "id": "B8UBdI7zoJ39",
        "outputId": "48722a89-5945-4faa-96a6-de8cff79cc89"
      },
      "execution_count": null,
      "outputs": [
        {
          "output_type": "execute_result",
          "data": {
            "text/plain": [
              "1    648\n",
              "0    648\n",
              "Name: type, dtype: int64"
            ]
          },
          "metadata": {},
          "execution_count": 60
        }
      ]
    },
    {
      "cell_type": "code",
      "source": [
        "avoc.info()"
      ],
      "metadata": {
        "colab": {
          "base_uri": "https://localhost:8080/"
        },
        "id": "4NmbpSi0oOOj",
        "outputId": "bde27e5d-8df7-4c7e-ddb3-a53d970fbefb"
      },
      "execution_count": null,
      "outputs": [
        {
          "output_type": "stream",
          "name": "stdout",
          "text": [
            "<class 'pandas.core.frame.DataFrame'>\n",
            "RangeIndex: 1296 entries, 0 to 1295\n",
            "Data columns (total 8 columns):\n",
            " #   Column        Non-Null Count  Dtype  \n",
            "---  ------        --------------  -----  \n",
            " 0   date          1296 non-null   object \n",
            " 1   region        1296 non-null   uint8  \n",
            " 2   type          1296 non-null   uint8  \n",
            " 3   averageprice  1296 non-null   float64\n",
            " 4   total_bags    1296 non-null   float64\n",
            " 5   small_bags    1296 non-null   float64\n",
            " 6   large_bags    1296 non-null   float64\n",
            " 7   xlarge_bags   1296 non-null   float64\n",
            "dtypes: float64(5), object(1), uint8(2)\n",
            "memory usage: 63.4+ KB\n"
          ]
        }
      ]
    },
    {
      "cell_type": "code",
      "source": [
        "avoc.averageprice.describe()"
      ],
      "metadata": {
        "colab": {
          "base_uri": "https://localhost:8080/"
        },
        "id": "NGhoQg6Yomck",
        "outputId": "31c03774-9962-4d0e-cd00-b749b335a589"
      },
      "execution_count": null,
      "outputs": [
        {
          "output_type": "execute_result",
          "data": {
            "text/plain": [
              "count    1296.000000\n",
              "mean        1.347531\n",
              "std         0.305858\n",
              "min         0.560000\n",
              "25%         1.130000\n",
              "50%         1.345000\n",
              "75%         1.560000\n",
              "max         2.300000\n",
              "Name: averageprice, dtype: float64"
            ]
          },
          "metadata": {},
          "execution_count": 66
        }
      ]
    },
    {
      "cell_type": "code",
      "source": [
        "from scipy.stats import shapiro"
      ],
      "metadata": {
        "id": "F_xs1zLjpsc9"
      },
      "execution_count": null,
      "outputs": []
    },
    {
      "cell_type": "markdown",
      "source": [
        "Проверяем распределение на соотвествие нормальному при помощи коэффициентов асимметрии и эксцесса, по тесту Шапиро-Уилка (ркрит=0,01) и при помощи гистограммы:\n",
        "\n",
        "---\n",
        "\n"
      ],
      "metadata": {
        "id": "we4bxnjGroC7"
      }
    },
    {
      "cell_type": "code",
      "source": [
        "print('Асимметрия: ', round(stats.skew(avoc.averageprice),2))\n",
        "print('Эксцесс: ', round(stats.kurtosis(avoc.averageprice),2))"
      ],
      "metadata": {
        "colab": {
          "base_uri": "https://localhost:8080/"
        },
        "id": "mVWjjIjPrB8V",
        "outputId": "d114e00d-9c07-4f50-abcf-b049d02324cb"
      },
      "execution_count": null,
      "outputs": [
        {
          "output_type": "stream",
          "name": "stdout",
          "text": [
            "Асимметрия:  0.14\n",
            "Эксцесс:  -0.21\n"
          ]
        }
      ]
    },
    {
      "cell_type": "code",
      "source": [
        "print(\"Лучше медиану и квартили\") if shapiro(avoc.averageprice)[1]<0.01 else print(\"Лучше среднее и СКО\")"
      ],
      "metadata": {
        "colab": {
          "base_uri": "https://localhost:8080/"
        },
        "id": "v9qE2y4-ptnr",
        "outputId": "c2eee19e-56cb-4fab-d286-8a04fea7992e"
      },
      "execution_count": null,
      "outputs": [
        {
          "output_type": "stream",
          "name": "stdout",
          "text": [
            "Лучше среднее и СКО\n"
          ]
        }
      ]
    },
    {
      "cell_type": "markdown",
      "source": [
        "Проверим по гистограмме распределения:"
      ],
      "metadata": {
        "id": "dWj07Pn-r6IN"
      }
    },
    {
      "cell_type": "code",
      "source": [
        "avoc.averageprice.hist()"
      ],
      "metadata": {
        "colab": {
          "base_uri": "https://localhost:8080/",
          "height": 283
        },
        "id": "8_13kB_Jq5vF",
        "outputId": "98692e4d-a165-43d6-9472-e1d56290c01e"
      },
      "execution_count": null,
      "outputs": [
        {
          "output_type": "execute_result",
          "data": {
            "text/plain": [
              "<matplotlib.axes._subplots.AxesSubplot at 0x7ffa8dcad310>"
            ]
          },
          "metadata": {},
          "execution_count": 91
        },
        {
          "output_type": "display_data",
          "data": {
            "image/png": "[encoded data removed]",
            "text/plain": [
              "<Figure size 432x288 with 1 Axes>"
            ]
          },
          "metadata": {
            "needs_background": "light"
          }
        }
      ]
    },
    {
      "cell_type": "markdown",
      "source": [
        "Резюме: с учетом того, что асимметрия и эксцессс по модулю меньше единицы, по критерию Шапиру-Уилка нет отклонения нулевой гипотезы на высоком уровне статистической значимости, а среднее практически не отличается от медианы, распределение признаём нормальным.\n",
        "Рекомендации по представлению центральной тенденции и дисперсии: среднее и и СКО"
      ],
      "metadata": {
        "id": "yvGk-oCV60Ku"
      }
    },
    {
      "cell_type": "code",
      "source": [
        "avoc"
      ],
      "metadata": {
        "colab": {
          "base_uri": "https://localhost:8080/",
          "height": 423
        },
        "id": "9WyPDZx39oLl",
        "outputId": "24c28058-05d2-42e1-e4a0-b58160fc8bb3"
      },
      "execution_count": null,
      "outputs": [
        {
          "output_type": "execute_result",
          "data": {
            "text/html": [
              "\n",
              "  <div id=\"df-650dcb81-f621-4881-ad5b-14b92ba5cdf0\">\n",
              "    <div class=\"colab-df-container\">\n",
              "      <div>\n",
              "<style scoped>\n",
              "    .dataframe tbody tr th:only-of-type {\n",
              "        vertical-align: middle;\n",
              "    }\n",
              "\n",
              "    .dataframe tbody tr th {\n",
              "        vertical-align: top;\n",
              "    }\n",
              "\n",
              "    .dataframe thead th {\n",
              "        text-align: right;\n",
              "    }\n",
              "</style>\n",
              "<table border=\"1\" class=\"dataframe\">\n",
              "  <thead>\n",
              "    <tr style=\"text-align: right;\">\n",
              "      <th></th>\n",
              "      <th>date</th>\n",
              "      <th>region</th>\n",
              "      <th>type</th>\n",
              "      <th>averageprice</th>\n",
              "      <th>total_bags</th>\n",
              "      <th>small_bags</th>\n",
              "      <th>large_bags</th>\n",
              "      <th>xlarge_bags</th>\n",
              "    </tr>\n",
              "  </thead>\n",
              "  <tbody>\n",
              "    <tr>\n",
              "      <th>0</th>\n",
              "      <td>2018-03-25</td>\n",
              "      <td>0</td>\n",
              "      <td>1</td>\n",
              "      <td>1.57</td>\n",
              "      <td>23924.33</td>\n",
              "      <td>19273.80</td>\n",
              "      <td>4270.53</td>\n",
              "      <td>380.00</td>\n",
              "    </tr>\n",
              "    <tr>\n",
              "      <th>1</th>\n",
              "      <td>2018-03-18</td>\n",
              "      <td>0</td>\n",
              "      <td>1</td>\n",
              "      <td>1.35</td>\n",
              "      <td>30977.21</td>\n",
              "      <td>26755.90</td>\n",
              "      <td>3721.31</td>\n",
              "      <td>500.00</td>\n",
              "    </tr>\n",
              "    <tr>\n",
              "      <th>2</th>\n",
              "      <td>2018-03-11</td>\n",
              "      <td>0</td>\n",
              "      <td>1</td>\n",
              "      <td>1.12</td>\n",
              "      <td>17804.72</td>\n",
              "      <td>14480.52</td>\n",
              "      <td>3033.09</td>\n",
              "      <td>291.11</td>\n",
              "    </tr>\n",
              "    <tr>\n",
              "      <th>3</th>\n",
              "      <td>2018-03-04</td>\n",
              "      <td>0</td>\n",
              "      <td>1</td>\n",
              "      <td>1.08</td>\n",
              "      <td>22353.29</td>\n",
              "      <td>16128.51</td>\n",
              "      <td>5941.45</td>\n",
              "      <td>283.33</td>\n",
              "    </tr>\n",
              "    <tr>\n",
              "      <th>4</th>\n",
              "      <td>2018-02-25</td>\n",
              "      <td>0</td>\n",
              "      <td>1</td>\n",
              "      <td>1.28</td>\n",
              "      <td>34138.80</td>\n",
              "      <td>30126.31</td>\n",
              "      <td>3702.49</td>\n",
              "      <td>310.00</td>\n",
              "    </tr>\n",
              "    <tr>\n",
              "      <th>...</th>\n",
              "      <td>...</td>\n",
              "      <td>...</td>\n",
              "      <td>...</td>\n",
              "      <td>...</td>\n",
              "      <td>...</td>\n",
              "      <td>...</td>\n",
              "      <td>...</td>\n",
              "      <td>...</td>\n",
              "    </tr>\n",
              "    <tr>\n",
              "      <th>1291</th>\n",
              "      <td>2018-02-04</td>\n",
              "      <td>1</td>\n",
              "      <td>0</td>\n",
              "      <td>1.63</td>\n",
              "      <td>13498.67</td>\n",
              "      <td>13066.82</td>\n",
              "      <td>431.85</td>\n",
              "      <td>0.00</td>\n",
              "    </tr>\n",
              "    <tr>\n",
              "      <th>1292</th>\n",
              "      <td>2018-01-28</td>\n",
              "      <td>1</td>\n",
              "      <td>0</td>\n",
              "      <td>1.71</td>\n",
              "      <td>9264.84</td>\n",
              "      <td>8940.04</td>\n",
              "      <td>324.80</td>\n",
              "      <td>0.00</td>\n",
              "    </tr>\n",
              "    <tr>\n",
              "      <th>1293</th>\n",
              "      <td>2018-01-21</td>\n",
              "      <td>1</td>\n",
              "      <td>0</td>\n",
              "      <td>1.87</td>\n",
              "      <td>9394.11</td>\n",
              "      <td>9351.80</td>\n",
              "      <td>42.31</td>\n",
              "      <td>0.00</td>\n",
              "    </tr>\n",
              "    <tr>\n",
              "      <th>1294</th>\n",
              "      <td>2018-01-14</td>\n",
              "      <td>1</td>\n",
              "      <td>0</td>\n",
              "      <td>1.93</td>\n",
              "      <td>10969.54</td>\n",
              "      <td>10919.54</td>\n",
              "      <td>50.00</td>\n",
              "      <td>0.00</td>\n",
              "    </tr>\n",
              "    <tr>\n",
              "      <th>1295</th>\n",
              "      <td>2018-01-07</td>\n",
              "      <td>1</td>\n",
              "      <td>0</td>\n",
              "      <td>1.62</td>\n",
              "      <td>12014.15</td>\n",
              "      <td>11988.14</td>\n",
              "      <td>26.01</td>\n",
              "      <td>0.00</td>\n",
              "    </tr>\n",
              "  </tbody>\n",
              "</table>\n",
              "<p>1296 rows × 8 columns</p>\n",
              "</div>\n",
              "      <button class=\"colab-df-convert\" onclick=\"convertToInteractive('df-650dcb81-f621-4881-ad5b-14b92ba5cdf0')\"\n",
              "              title=\"Convert this dataframe to an interactive table.\"\n",
              "              style=\"display:none;\">\n",
              "        \n",
              "  <svg xmlns=\"http://www.w3.org/2000/svg\" height=\"24px\"viewBox=\"0 0 24 24\"\n",
              "       width=\"24px\">\n",
              "    <path d=\"M0 0h24v24H0V0z\" fill=\"none\"/>\n",
              "    <path d=\"M18.56 5.44l.94 2.06.94-2.06 2.06-.94-2.06-.94-.94-2.06-.94 2.06-2.06.94zm-11 1L8.5 8.5l.94-2.06 2.06-.94-2.06-.94L8.5 2.5l-.94 2.06-2.06.94zm10 10l.94 2.06.94-2.06 2.06-.94-2.06-.94-.94-2.06-.94 2.06-2.06.94z\"/><path d=\"M17.41 7.96l-1.37-1.37c-.4-.4-.92-.59-1.43-.59-.52 0-1.04.2-1.43.59L10.3 9.45l-7.72 7.72c-.78.78-.78 2.05 0 2.83L4 21.41c.39.39.9.59 1.41.59.51 0 1.02-.2 1.41-.59l7.78-7.78 2.81-2.81c.8-.78.8-2.07 0-2.86zM5.41 20L4 18.59l7.72-7.72 1.47 1.35L5.41 20z\"/>\n",
              "  </svg>\n",
              "      </button>\n",
              "      \n",
              "  <style>\n",
              "    .colab-df-container {\n",
              "      display:flex;\n",
              "      flex-wrap:wrap;\n",
              "      gap: 12px;\n",
              "    }\n",
              "\n",
              "    .colab-df-convert {\n",
              "      background-color: #E8F0FE;\n",
              "      border: none;\n",
              "      border-radius: 50%;\n",
              "      cursor: pointer;\n",
              "      display: none;\n",
              "      fill: #1967D2;\n",
              "      height: 32px;\n",
              "      padding: 0 0 0 0;\n",
              "      width: 32px;\n",
              "    }\n",
              "\n",
              "    .colab-df-convert:hover {\n",
              "      background-color: #E2EBFA;\n",
              "      box-shadow: 0px 1px 2px rgba(60, 64, 67, 0.3), 0px 1px 3px 1px rgba(60, 64, 67, 0.15);\n",
              "      fill: #174EA6;\n",
              "    }\n",
              "\n",
              "    [theme=dark] .colab-df-convert {\n",
              "      background-color: #3B4455;\n",
              "      fill: #D2E3FC;\n",
              "    }\n",
              "\n",
              "    [theme=dark] .colab-df-convert:hover {\n",
              "      background-color: #434B5C;\n",
              "      box-shadow: 0px 1px 3px 1px rgba(0, 0, 0, 0.15);\n",
              "      filter: drop-shadow(0px 1px 2px rgba(0, 0, 0, 0.3));\n",
              "      fill: #FFFFFF;\n",
              "    }\n",
              "  </style>\n",
              "\n",
              "      <script>\n",
              "        const buttonEl =\n",
              "          document.querySelector('#df-650dcb81-f621-4881-ad5b-14b92ba5cdf0 button.colab-df-convert');\n",
              "        buttonEl.style.display =\n",
              "          google.colab.kernel.accessAllowed ? 'block' : 'none';\n",
              "\n",
              "        async function convertToInteractive(key) {\n",
              "          const element = document.querySelector('#df-650dcb81-f621-4881-ad5b-14b92ba5cdf0');\n",
              "          const dataTable =\n",
              "            await google.colab.kernel.invokeFunction('convertToInteractive',\n",
              "                                                     [key], {});\n",
              "          if (!dataTable) return;\n",
              "\n",
              "          const docLinkHtml = 'Like what you see? Visit the ' +\n",
              "            '<a target=\"_blank\" href=https://colab.research.google.com/notebooks/data_table.ipynb>data table notebook</a>'\n",
              "            + ' to learn more about interactive tables.';\n",
              "          element.innerHTML = '';\n",
              "          dataTable['output_type'] = 'display_data';\n",
              "          await google.colab.output.renderOutput(dataTable, element);\n",
              "          const docLink = document.createElement('div');\n",
              "          docLink.innerHTML = docLinkHtml;\n",
              "          element.appendChild(docLink);\n",
              "        }\n",
              "      </script>\n",
              "    </div>\n",
              "  </div>\n",
              "  "
            ],
            "text/plain": [
              "            date  region  type  ...  small_bags  large_bags  xlarge_bags\n",
              "0     2018-03-25       0     1  ...    19273.80     4270.53       380.00\n",
              "1     2018-03-18       0     1  ...    26755.90     3721.31       500.00\n",
              "2     2018-03-11       0     1  ...    14480.52     3033.09       291.11\n",
              "3     2018-03-04       0     1  ...    16128.51     5941.45       283.33\n",
              "4     2018-02-25       0     1  ...    30126.31     3702.49       310.00\n",
              "...          ...     ...   ...  ...         ...         ...          ...\n",
              "1291  2018-02-04       1     0  ...    13066.82      431.85         0.00\n",
              "1292  2018-01-28       1     0  ...     8940.04      324.80         0.00\n",
              "1293  2018-01-21       1     0  ...     9351.80       42.31         0.00\n",
              "1294  2018-01-14       1     0  ...    10919.54       50.00         0.00\n",
              "1295  2018-01-07       1     0  ...    11988.14       26.01         0.00\n",
              "\n",
              "[1296 rows x 8 columns]"
            ]
          },
          "metadata": {},
          "execution_count": 104
        }
      ]
    },
    {
      "cell_type": "code",
      "source": [
        "import matplotlib.pyplot as plt"
      ],
      "metadata": {
        "id": "LXR_vyFi7M0X"
      },
      "execution_count": null,
      "outputs": []
    },
    {
      "cell_type": "code",
      "source": [
        "fig1, ax1 = plt.subplots()\n",
        "ax1.set_title('Сравнение стоимости обычной и натуральной авокадины  - ящик с усами')\n",
        "ax1.boxplot([avoc.averageprice[avoc.type_categ==1],avoc.averageprice[avoc.type_categ==0]], labels=['Organic','Conventional'])\n",
        "fig2, axs2 = plt.subplots(nrows=1, ncols=2)\n",
        "axs2[1].set_title('Conventional', fontsize=10)\n",
        "axs2[1].violinplot(avoc.averageprice[avoc.type_categ==0], points=20, widths=0.3,\n",
        "                     showmeans=True, showextrema=True, showmedians=True)\n",
        "axs2[0].set_title('Organic', fontsize=10)\n",
        "axs2[0].violinplot(avoc.averageprice[avoc.type_categ==1], points=20, widths=0.3,\n",
        "                     showmeans=True, showextrema=True, showmedians=True)\n",
        "fig2.suptitle(\"Сравнение стоимсоти обычной и натуральной авокадины - скрипка\")\n",
        "plt.show()"
      ],
      "metadata": {
        "colab": {
          "base_uri": "https://localhost:8080/",
          "height": 558
        },
        "id": "hXyTSpPB7oZe",
        "outputId": "6280d2b7-a694-4a1f-c7c5-092a717c3e52"
      },
      "execution_count": null,
      "outputs": [
        {
          "output_type": "display_data",
          "data": {
            "image/png": "[encoded data removed]",
            "text/plain": [
              "<Figure size 432x288 with 1 Axes>"
            ]
          },
          "metadata": {
            "needs_background": "light"
          }
        },
        {
          "output_type": "display_data",
          "data": {
            "image/png": "[encoded data removed]",
            "text/plain": [
              "<Figure size 432x288 with 2 Axes>"
            ]
          },
          "metadata": {
            "needs_background": "light"
          }
        }
      ]
    },
    {
      "cell_type": "code",
      "source": [
        "fig3, ax3 = plt.subplots()\n",
        "ax3.boxplot([avoc.averageprice,avoc.averageprice[avoc.type_categ==1]], labels=['По всей выборке', 'Organic'])\n",
        "fig4, axs2 = plt.subplots(nrows=1, ncols=2)\n",
        "axs2[1].set_title('Organic', fontsize=10)\n",
        "axs2[1].violinplot(avoc.averageprice[avoc.type_categ==1], points=20, widths=0.3,\n",
        "                     showmeans=True, showextrema=True, showmedians=True)\n",
        "axs2[0].set_title('По всей выборке', fontsize=10)\n",
        "axs2[0].violinplot(avoc.averageprice, points=20, widths=0.3,\n",
        "                     showmeans=True, showextrema=True, showmedians=True)\n",
        "plt.show()"
      ],
      "metadata": {
        "colab": {
          "base_uri": "https://localhost:8080/",
          "height": 582
        },
        "id": "rr4ZIV0aA-3U",
        "outputId": "7e02a438-feed-40b3-cf3b-e75c87ab9eae"
      },
      "execution_count": null,
      "outputs": [
        {
          "output_type": "stream",
          "name": "stderr",
          "text": [
            "/usr/local/lib/python3.7/dist-packages/numpy/core/_asarray.py:83: VisibleDeprecationWarning: Creating an ndarray from ragged nested sequences (which is a list-or-tuple of lists-or-tuples-or ndarrays with different lengths or shapes) is deprecated. If you meant to do this, you must specify 'dtype=object' when creating the ndarray\n",
            "  return array(a, dtype, copy=False, order=order)\n"
          ]
        },
        {
          "output_type": "display_data",
          "data": {
            "image/png": "[encoded data removed]",
            "text/plain": [
              "<Figure size 432x288 with 1 Axes>"
            ]
          },
          "metadata": {
            "needs_background": "light"
          }
        },
        {
          "output_type": "display_data",
          "data": {
            "image/png": "[encoded data removed]",
            "text/plain": [
              "<Figure size 432x288 with 2 Axes>"
            ]
          },
          "metadata": {
            "needs_background": "light"
          }
        }
      ]
    },
    {
      "cell_type": "code",
      "source": [
        "fig3, ax3 = plt.subplots()\n",
        "ax3.boxplot([avoc.averageprice,avoc.averageprice[avoc.region=='Boston']], labels=['По всей выборке', 'Boston'])\n",
        "fig4, axs2 = plt.subplots(nrows=1, ncols=2)\n",
        "axs2[1].set_title('Boston', fontsize=10)\n",
        "axs2[1].violinplot(avoc.averageprice[avoc.region=='Boston'], points=20, widths=0.3,\n",
        "                     showmeans=True, showextrema=True, showmedians=True)\n",
        "axs2[0].set_title('По всей выборке', fontsize=10)\n",
        "axs2[0].violinplot(avoc.averageprice, points=20, widths=0.3,\n",
        "                     showmeans=True, showextrema=True, showmedians=True)\n",
        "plt.show()"
      ],
      "metadata": {
        "colab": {
          "base_uri": "https://localhost:8080/",
          "height": 582
        },
        "id": "WZODL2MbJtsJ",
        "outputId": "b883918e-bdb5-45e6-8d14-2884364bcb55"
      },
      "execution_count": null,
      "outputs": [
        {
          "output_type": "stream",
          "name": "stderr",
          "text": [
            "/usr/local/lib/python3.7/dist-packages/numpy/core/_asarray.py:83: VisibleDeprecationWarning: Creating an ndarray from ragged nested sequences (which is a list-or-tuple of lists-or-tuples-or ndarrays with different lengths or shapes) is deprecated. If you meant to do this, you must specify 'dtype=object' when creating the ndarray\n",
            "  return array(a, dtype, copy=False, order=order)\n"
          ]
        },
        {
          "output_type": "display_data",
          "data": {
            "image/png": "[encoded data removed]",
            "text/plain": [
              "<Figure size 432x288 with 1 Axes>"
            ]
          },
          "metadata": {
            "needs_background": "light"
          }
        },
        {
          "output_type": "display_data",
          "data": {
            "image/png": "[encoded data removed]",
            "text/plain": [
              "<Figure size 432x288 with 2 Axes>"
            ]
          },
          "metadata": {
            "needs_background": "light"
          }
        }
      ]
    },
    {
      "cell_type": "code",
      "source": [
        "from scipy.stats import zscore"
      ],
      "metadata": {
        "id": "RguAbZ5IN1Ij"
      },
      "execution_count": null,
      "outputs": []
    },
    {
      "cell_type": "markdown",
      "source": [
        "Рассчитайте z-оценку для средней цены «натурального» авокадо в Бостоне 2018-03-25 относительно среза по Бостону. Переведите полученную z-оценку в стоимость авокадо, но уже для Чикаго."
      ],
      "metadata": {
        "id": "NB8Y96E3Rl3_"
      }
    },
    {
      "cell_type": "markdown",
      "source": [
        "**Вторая часть задания понята следующим образом.\n",
        "Полученное единичное значение для Бостона, 2018-03-25 использовано для получения абсолютного значения с использованием среднего и СКО от Чикаго**"
      ],
      "metadata": {
        "id": "ck8DkLSKV8Y8"
      }
    },
    {
      "cell_type": "code",
      "source": [
        "boston_df=avoc.loc[avoc.region=='Boston'].loc[:,'date':'averageprice']\n",
        "boston_df['z_csore']=(zscore(boston_df.averageprice, ddof=1))\n",
        "z_boston=(\n",
        "    boston_df\n",
        "            .query(\"type_categ==1 \\\n",
        "                  and date=='2018-03-25'\")\n",
        "            .z_csore\n",
        " )\n",
        "z_boston"
      ],
      "metadata": {
        "colab": {
          "base_uri": "https://localhost:8080/"
        },
        "id": "Tf_MoS75OIZY",
        "outputId": "35f5ad82-f13e-4095-fb57-bb7b7e5c03ca"
      },
      "execution_count": null,
      "outputs": [
        {
          "output_type": "execute_result",
          "data": {
            "text/plain": [
              "696    0.619204\n",
              "Name: z_csore, dtype: float64"
            ]
          },
          "metadata": {},
          "execution_count": 168
        }
      ]
    },
    {
      "cell_type": "code",
      "source": [
        "chicago_mean=avoc.query(\"region=='Chicago'\").averageprice.mean()\n",
        "chicago_std=avoc.query(\"region=='Chicago'\").averageprice.std()"
      ],
      "metadata": {
        "id": "MxDxEdlNSt6M"
      },
      "execution_count": null,
      "outputs": []
    },
    {
      "cell_type": "code",
      "source": [
        "round(z_boston.iloc[0]*chicago_std+chicago_mean,2)"
      ],
      "metadata": {
        "colab": {
          "base_uri": "https://localhost:8080/"
        },
        "id": "xC0Ji1fDXVcW",
        "outputId": "cca1f63b-4367-4c81-ce43-646865b039ef"
      },
      "execution_count": null,
      "outputs": [
        {
          "output_type": "execute_result",
          "data": {
            "text/plain": [
              "1.69"
            ]
          },
          "metadata": {},
          "execution_count": 180
        }
      ]
    },
    {
      "cell_type": "markdown",
      "source": [
        "Используйте известные вам статистические тесты, чтобы оценить соответствует ли закону нормального распределения средняя стоимость авокадо в Бостоне за указанный период."
      ],
      "metadata": {
        "id": "y2zdWw_1Yub9"
      }
    },
    {
      "cell_type": "markdown",
      "source": [
        "Задание понято следующим образом.\n",
        "**Проведена оценка соответствия распределения нормальному по всем покупкам в Бостоне, т.к. за указанный период 2018-03-25 есть только одно значение, да и среднее значение - это тоже одно значение**"
      ],
      "metadata": {
        "id": "FatDdhHvYvcc"
      }
    },
    {
      "cell_type": "code",
      "source": [
        "shapiro(boston_df.averageprice)"
      ],
      "metadata": {
        "colab": {
          "base_uri": "https://localhost:8080/"
        },
        "id": "LG65FhFKYZw1",
        "outputId": "185d851a-d687-4aee-e0a0-cbd54d5f3a1d"
      },
      "execution_count": null,
      "outputs": [
        {
          "output_type": "execute_result",
          "data": {
            "text/plain": [
              "(0.889596700668335, 0.01303890161216259)"
            ]
          },
          "metadata": {},
          "execution_count": 184
        }
      ]
    },
    {
      "cell_type": "markdown",
      "source": [
        "Интерпретация: р-уровень от 0,01 до 0,05. В зависимости от принятого критического уровня можно либо сказать, что отличается, либо нет.\n",
        "Лучше смотреть по гистограмме, асимметрии и эксцессу"
      ],
      "metadata": {
        "id": "TXnI-K3DZTDM"
      }
    },
    {
      "cell_type": "code",
      "source": [
        "boston_df.averageprice.hist()"
      ],
      "metadata": {
        "colab": {
          "base_uri": "https://localhost:8080/",
          "height": 283
        },
        "id": "UypHkNtaZlI8",
        "outputId": "c1faee7d-3540-488e-959f-6b48aeb6cb54"
      },
      "execution_count": null,
      "outputs": [
        {
          "output_type": "execute_result",
          "data": {
            "text/plain": [
              "<matplotlib.axes._subplots.AxesSubplot at 0x7ffa8d2d5410>"
            ]
          },
          "metadata": {},
          "execution_count": 185
        },
        {
          "output_type": "display_data",
          "data": {
            "image/png": "[encoded data removed]",
            "text/plain": [
              "<Figure size 432x288 with 1 Axes>"
            ]
          },
          "metadata": {
            "needs_background": "light"
          }
        }
      ]
    },
    {
      "cell_type": "code",
      "source": [
        "print('Асимметрия: ', round(stats.skew(boston_df.averageprice),2))\n",
        "print('Эксцесс: ', round(stats.kurtosis(boston_df.averageprice),2))"
      ],
      "metadata": {
        "colab": {
          "base_uri": "https://localhost:8080/"
        },
        "id": "zJouWZABZwqj",
        "outputId": "fb7a2a0e-14fa-4316-8ecf-e0072d39b5e8"
      },
      "execution_count": null,
      "outputs": [
        {
          "output_type": "stream",
          "name": "stdout",
          "text": [
            "Асимметрия:  -0.2\n",
            "Эксцесс:  -1.5\n"
          ]
        }
      ]
    },
    {
      "cell_type": "markdown",
      "source": [
        "**Резюме: распределение не соответсвует нормальному**"
      ],
      "metadata": {
        "id": "F8oJ1_lEZ0Fz"
      }
    }
  ]
}