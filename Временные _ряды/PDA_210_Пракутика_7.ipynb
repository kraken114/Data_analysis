{
  "nbformat": 4,
  "nbformat_minor": 0,
  "metadata": {
    "colab": {
      "provenance": []
    },
    "kernelspec": {
      "name": "python3",
      "display_name": "Python 3"
    },
    "language_info": {
      "name": "python"
    }
  },
  "cells": [
    {
      "cell_type": "markdown",
      "source": [
        "# **ЗАДАНИЕ 7. ПОСТРОЕНИЕ МОДЕЛИ АВТОРЕГРЕССИИ**\n",
        "Рассчитайте коэффициенты автокорреляции для временного ряда цен на материал 3. На их основе определите порядок авторегрессии и постройте соответствующую модель. Рассчитайте показатели точности и адекватности построенной модели. Дайте точечный и интервальный прогнозы на 1 год вперёд по построенной модели.\n",
        "Постарайтесь максимально автоматизировать все вычисления, использовать существующие модули среды программирования Python.\n"
      ],
      "metadata": {
        "id": "jgq1k8dyXKfg"
      }
    },
    {
      "cell_type": "code",
      "execution_count": null,
      "metadata": {
        "id": "NvTmvFMFXGJR"
      },
      "outputs": [],
      "source": [
        "!pip install --upgrade xlrd # для чтения exel файлов"
      ]
    },
    {
      "cell_type": "code",
      "source": [
        "!pip install statsmodels --upgrade"
      ],
      "metadata": {
        "id": "yByb9ethaBAD"
      },
      "execution_count": null,
      "outputs": []
    },
    {
      "cell_type": "code",
      "source": [
        "from statsmodels.tsa.ar_model import AutoReg, ar_select_order"
      ],
      "metadata": {
        "id": "zGyAo6mAZtke"
      },
      "execution_count": null,
      "outputs": []
    },
    {
      "cell_type": "code",
      "source": [
        "import os\n",
        "import pandas as pd\n",
        "import numpy as np\n",
        "from sklearn.metrics import r2_score, mean_absolute_error, mean_squared_error\n",
        "from math import sqrt\n",
        "from statsmodels.graphics.gofplots import qqplot\n",
        "import matplotlib.pyplot as plt\n",
        "from pandas.plotting import autocorrelation_plot\n",
        "import scipy.stats\n",
        "from sklearn.linear_model import LinearRegression"
      ],
      "metadata": {
        "id": "cLPl87rHX7m_"
      },
      "execution_count": null,
      "outputs": []
    },
    {
      "cell_type": "code",
      "source": [
        "from google.colab import drive\n",
        "drive.mount('/content/gdrive')"
      ],
      "metadata": {
        "colab": {
          "base_uri": "https://localhost:8080/"
        },
        "id": "vbbJtIklaai8",
        "outputId": "19c19337-6be5-433a-abce-1d188f88cec6"
      },
      "execution_count": null,
      "outputs": [
        {
          "output_type": "stream",
          "name": "stdout",
          "text": [
            "Mounted at /content/gdrive\n"
          ]
        }
      ]
    },
    {
      "cell_type": "markdown",
      "source": [
        "**1.\tПрочитайте данные по ценам на материал 3 и приведите их к виду, пригодному для дальнейшего анализа (см. пп.1-10 Задания 1).**"
      ],
      "metadata": {
        "id": "2p9lmt65Hw78"
      }
    },
    {
      "cell_type": "code",
      "source": [
        "os.chdir('/content/gdrive/MyDrive/Colab Notebooks/PDA-210')"
      ],
      "metadata": {
        "id": "F79nMFe5aSlQ"
      },
      "execution_count": null,
      "outputs": []
    },
    {
      "cell_type": "code",
      "source": [
        "df=pd.read_excel('data.xls', sheet_name='Material 3')\n",
        "df.head()"
      ],
      "metadata": {
        "id": "yILggnMwj9RH"
      },
      "execution_count": null,
      "outputs": []
    },
    {
      "cell_type": "code",
      "source": [],
      "metadata": {
        "id": "m9--nIK_HrbH"
      },
      "execution_count": null,
      "outputs": []
    },
    {
      "cell_type": "code",
      "source": [
        "df = df.iloc[0:2,2:].T.rename(columns={0: 'Date', 1: 'Value'}).set_index('Date')\n",
        "df.dtypes\n",
        "#iloc[0:2,2:]                             - нарезал нужные строки и столбцы\n",
        "#.T                                       - поверхул всё, т.е. транспонировал\n",
        "#.rename(columns={0: 'Date', 1: 'Value'}) - поменял названия столбцов\n",
        "# .set_index('Date')                      - сделал столбец с датами индексом"
      ],
      "metadata": {
        "colab": {
          "base_uri": "https://localhost:8080/"
        },
        "id": "v5ntXnWAF9-A",
        "outputId": "706db180-6c66-4466-d07d-a984f2b59336"
      },
      "execution_count": null,
      "outputs": [
        {
          "output_type": "execute_result",
          "data": {
            "text/plain": [
              "Value    object\n",
              "dtype: object"
            ]
          },
          "metadata": {},
          "execution_count": 8
        }
      ]
    },
    {
      "cell_type": "code",
      "source": [
        "df['Value'] = df['Value'].astype(float)"
      ],
      "metadata": {
        "id": "Pgfb1N3OwB_e"
      },
      "execution_count": null,
      "outputs": []
    },
    {
      "cell_type": "code",
      "source": [
        "df.dtypes"
      ],
      "metadata": {
        "colab": {
          "base_uri": "https://localhost:8080/"
        },
        "outputId": "d1641900-8cda-40d7-abff-38f0292a2442",
        "id": "3-k0iJ4BwB_e"
      },
      "execution_count": null,
      "outputs": [
        {
          "output_type": "execute_result",
          "data": {
            "text/plain": [
              "Value    float64\n",
              "dtype: object"
            ]
          },
          "metadata": {},
          "execution_count": 10
        }
      ]
    },
    {
      "cell_type": "code",
      "source": [
        "df.sample(4)"
      ],
      "metadata": {
        "colab": {
          "base_uri": "https://localhost:8080/",
          "height": 206
        },
        "id": "bHNA232PwNv2",
        "outputId": "85eb680d-e867-4163-9986-7447c3b40619"
      },
      "execution_count": null,
      "outputs": [
        {
          "output_type": "execute_result",
          "data": {
            "text/plain": [
              "            Value\n",
              "Date             \n",
              "2010-07-01  10.14\n",
              "2009-04-01  10.10\n",
              "2007-10-01  10.04\n",
              "2007-06-01  10.03"
            ],
            "text/html": [
              "\n",
              "  <div id=\"df-bac66cb4-785a-46fa-9c52-e7a20a60b505\">\n",
              "    <div class=\"colab-df-container\">\n",
              "      <div>\n",
              "<style scoped>\n",
              "    .dataframe tbody tr th:only-of-type {\n",
              "        vertical-align: middle;\n",
              "    }\n",
              "\n",
              "    .dataframe tbody tr th {\n",
              "        vertical-align: top;\n",
              "    }\n",
              "\n",
              "    .dataframe thead th {\n",
              "        text-align: right;\n",
              "    }\n",
              "</style>\n",
              "<table border=\"1\" class=\"dataframe\">\n",
              "  <thead>\n",
              "    <tr style=\"text-align: right;\">\n",
              "      <th></th>\n",
              "      <th>Value</th>\n",
              "    </tr>\n",
              "    <tr>\n",
              "      <th>Date</th>\n",
              "      <th></th>\n",
              "    </tr>\n",
              "  </thead>\n",
              "  <tbody>\n",
              "    <tr>\n",
              "      <th>2010-07-01</th>\n",
              "      <td>10.14</td>\n",
              "    </tr>\n",
              "    <tr>\n",
              "      <th>2009-04-01</th>\n",
              "      <td>10.10</td>\n",
              "    </tr>\n",
              "    <tr>\n",
              "      <th>2007-10-01</th>\n",
              "      <td>10.04</td>\n",
              "    </tr>\n",
              "    <tr>\n",
              "      <th>2007-06-01</th>\n",
              "      <td>10.03</td>\n",
              "    </tr>\n",
              "  </tbody>\n",
              "</table>\n",
              "</div>\n",
              "      <button class=\"colab-df-convert\" onclick=\"convertToInteractive('df-bac66cb4-785a-46fa-9c52-e7a20a60b505')\"\n",
              "              title=\"Convert this dataframe to an interactive table.\"\n",
              "              style=\"display:none;\">\n",
              "        \n",
              "  <svg xmlns=\"http://www.w3.org/2000/svg\" height=\"24px\"viewBox=\"0 0 24 24\"\n",
              "       width=\"24px\">\n",
              "    <path d=\"M0 0h24v24H0V0z\" fill=\"none\"/>\n",
              "    <path d=\"M18.56 5.44l.94 2.06.94-2.06 2.06-.94-2.06-.94-.94-2.06-.94 2.06-2.06.94zm-11 1L8.5 8.5l.94-2.06 2.06-.94-2.06-.94L8.5 2.5l-.94 2.06-2.06.94zm10 10l.94 2.06.94-2.06 2.06-.94-2.06-.94-.94-2.06-.94 2.06-2.06.94z\"/><path d=\"M17.41 7.96l-1.37-1.37c-.4-.4-.92-.59-1.43-.59-.52 0-1.04.2-1.43.59L10.3 9.45l-7.72 7.72c-.78.78-.78 2.05 0 2.83L4 21.41c.39.39.9.59 1.41.59.51 0 1.02-.2 1.41-.59l7.78-7.78 2.81-2.81c.8-.78.8-2.07 0-2.86zM5.41 20L4 18.59l7.72-7.72 1.47 1.35L5.41 20z\"/>\n",
              "  </svg>\n",
              "      </button>\n",
              "      \n",
              "  <style>\n",
              "    .colab-df-container {\n",
              "      display:flex;\n",
              "      flex-wrap:wrap;\n",
              "      gap: 12px;\n",
              "    }\n",
              "\n",
              "    .colab-df-convert {\n",
              "      background-color: #E8F0FE;\n",
              "      border: none;\n",
              "      border-radius: 50%;\n",
              "      cursor: pointer;\n",
              "      display: none;\n",
              "      fill: #1967D2;\n",
              "      height: 32px;\n",
              "      padding: 0 0 0 0;\n",
              "      width: 32px;\n",
              "    }\n",
              "\n",
              "    .colab-df-convert:hover {\n",
              "      background-color: #E2EBFA;\n",
              "      box-shadow: 0px 1px 2px rgba(60, 64, 67, 0.3), 0px 1px 3px 1px rgba(60, 64, 67, 0.15);\n",
              "      fill: #174EA6;\n",
              "    }\n",
              "\n",
              "    [theme=dark] .colab-df-convert {\n",
              "      background-color: #3B4455;\n",
              "      fill: #D2E3FC;\n",
              "    }\n",
              "\n",
              "    [theme=dark] .colab-df-convert:hover {\n",
              "      background-color: #434B5C;\n",
              "      box-shadow: 0px 1px 3px 1px rgba(0, 0, 0, 0.15);\n",
              "      filter: drop-shadow(0px 1px 2px rgba(0, 0, 0, 0.3));\n",
              "      fill: #FFFFFF;\n",
              "    }\n",
              "  </style>\n",
              "\n",
              "      <script>\n",
              "        const buttonEl =\n",
              "          document.querySelector('#df-bac66cb4-785a-46fa-9c52-e7a20a60b505 button.colab-df-convert');\n",
              "        buttonEl.style.display =\n",
              "          google.colab.kernel.accessAllowed ? 'block' : 'none';\n",
              "\n",
              "        async function convertToInteractive(key) {\n",
              "          const element = document.querySelector('#df-bac66cb4-785a-46fa-9c52-e7a20a60b505');\n",
              "          const dataTable =\n",
              "            await google.colab.kernel.invokeFunction('convertToInteractive',\n",
              "                                                     [key], {});\n",
              "          if (!dataTable) return;\n",
              "\n",
              "          const docLinkHtml = 'Like what you see? Visit the ' +\n",
              "            '<a target=\"_blank\" href=https://colab.research.google.com/notebooks/data_table.ipynb>data table notebook</a>'\n",
              "            + ' to learn more about interactive tables.';\n",
              "          element.innerHTML = '';\n",
              "          dataTable['output_type'] = 'display_data';\n",
              "          await google.colab.output.renderOutput(dataTable, element);\n",
              "          const docLink = document.createElement('div');\n",
              "          docLink.innerHTML = docLinkHtml;\n",
              "          element.appendChild(docLink);\n",
              "        }\n",
              "      </script>\n",
              "    </div>\n",
              "  </div>\n",
              "  "
            ]
          },
          "metadata": {},
          "execution_count": 11
        }
      ]
    },
    {
      "cell_type": "code",
      "source": [
        "df.shape"
      ],
      "metadata": {
        "colab": {
          "base_uri": "https://localhost:8080/"
        },
        "id": "Pb-0TdzM5ZTo",
        "outputId": "81402682-ef2e-4d26-daea-3c31936cab46"
      },
      "execution_count": null,
      "outputs": [
        {
          "output_type": "execute_result",
          "data": {
            "text/plain": [
              "(48, 2)"
            ]
          },
          "metadata": {},
          "execution_count": 64
        }
      ]
    },
    {
      "cell_type": "markdown",
      "source": [
        "**2.\tУбедитесь в том, что Вы работаете с объектом Series, а не DataFrame. Превратить таблицу с одним столбцом целевых значений в объект Series можно с помощью функции squeeze(). Дайте ему название series.**"
      ],
      "metadata": {
        "id": "6vKvXi321JDh"
      }
    },
    {
      "cell_type": "code",
      "source": [
        "series=df.squeeze()\n",
        "type(series)"
      ],
      "metadata": {
        "colab": {
          "base_uri": "https://localhost:8080/"
        },
        "id": "xiF-7LwFjrbr",
        "outputId": "48ae7a4f-684b-419b-c9ec-a3ffcd29069b"
      },
      "execution_count": null,
      "outputs": [
        {
          "output_type": "execute_result",
          "data": {
            "text/plain": [
              "pandas.core.series.Series"
            ]
          },
          "metadata": {},
          "execution_count": 12
        }
      ]
    },
    {
      "cell_type": "markdown",
      "source": [
        "**3.\tПосмотрите на динамику временного ряда с помощью функций plot() и show() из модуля matplotlib.pyplot. Прокомментируйте результат.**"
      ],
      "metadata": {
        "id": "CoMO9Al6Iet4"
      }
    },
    {
      "cell_type": "code",
      "source": [
        "series.plot()\n",
        "plt.show()"
      ],
      "metadata": {
        "colab": {
          "base_uri": "https://localhost:8080/",
          "height": 291
        },
        "id": "zmap0tAtbTx4",
        "outputId": "0533fc62-09bc-4c15-969f-80b09d15f0a5"
      },
      "execution_count": null,
      "outputs": [
        {
          "output_type": "display_data",
          "data": {
            "text/plain": [
              "<Figure size 432x288 with 1 Axes>"
            ],
            "image/png": "[encoded data removed]"
          },
          "metadata": {
            "needs_background": "light"
          }
        }
      ]
    },
    {
      "cell_type": "markdown",
      "source": [
        "**4.\tРассчитайте максимальную величину лага (max_tau), как 4-ую часть объема выборки. Выведите результат на экран.**"
      ],
      "metadata": {
        "id": "wFuGj8zgJAnm"
      }
    },
    {
      "cell_type": "code",
      "source": [
        "max_tau=int(len(series)/4)\n",
        "max_tau"
      ],
      "metadata": {
        "colab": {
          "base_uri": "https://localhost:8080/"
        },
        "id": "Wfd4glfTbjdt",
        "outputId": "58098581-335a-4d4f-88ba-bd27296cc8ca"
      },
      "execution_count": null,
      "outputs": [
        {
          "output_type": "execute_result",
          "data": {
            "text/plain": [
              "12"
            ]
          },
          "metadata": {},
          "execution_count": 14
        }
      ]
    },
    {
      "cell_type": "markdown",
      "source": [
        "**5.\tПо ряду цен постройте коррелограмму. Воспользуйтесь функцией autocorrelation_plot() из модуля pandas.plotting.**"
      ],
      "metadata": {
        "id": "XmsjjeEwKtuu"
      }
    },
    {
      "cell_type": "code",
      "source": [
        "fig, ax = plt.subplots(figsize = (10, 6))\n",
        "\n",
        "autocorrelation_plot(series, ax = ax, marker = '.')\n",
        "ax.xaxis.set_major_locator(plt.MultipleLocator(1))\n",
        "ax.set_xlim(0, max_tau)\n",
        "\n",
        "plt.show()"
      ],
      "metadata": {
        "colab": {
          "base_uri": "https://localhost:8080/",
          "height": 388
        },
        "id": "PCgC2DY1b2O1",
        "outputId": "74459805-0feb-4da3-aa25-e243d45111ba"
      },
      "execution_count": null,
      "outputs": [
        {
          "output_type": "display_data",
          "data": {
            "text/plain": [
              "<Figure size 720x432 with 1 Axes>"
            ],
            "image/png": "[encoded data removed]"
          },
          "metadata": {
            "needs_background": "light"
          }
        }
      ]
    },
    {
      "cell_type": "markdown",
      "source": [
        "**6.\tДля всех значений лага от 1 до max_tau и коэффициентов автокорреляции, вычисленных с помощью функции autocorr(lag=i), по модулю больших 0,8, выведите на экран лаг и значение коэффициента автокорреляции.**"
      ],
      "metadata": {
        "id": "Y5YbhhfiLMUB"
      }
    },
    {
      "cell_type": "code",
      "source": [
        "for i in range(1,max_tau+1):\n",
        "  if series.autocorr(lag=i)>=0.8 or series.autocorr(lag=i)<=-0.8:\n",
        "    print('tau=',i, 'r=',series.autocorr(lag=i))"
      ],
      "metadata": {
        "colab": {
          "base_uri": "https://localhost:8080/"
        },
        "id": "9lp9a3ovcwjk",
        "outputId": "0947cec3-154e-4ea3-9e5a-feda624137bd"
      },
      "execution_count": null,
      "outputs": [
        {
          "output_type": "stream",
          "name": "stdout",
          "text": [
            "tau= 1 r= 0.8959886302192371\n",
            "tau= 2 r= 0.9190976529054086\n",
            "tau= 3 r= 0.8593969349232327\n",
            "tau= 4 r= 0.8398604496481589\n",
            "tau= 5 r= 0.8369255995982671\n",
            "tau= 6 r= 0.8104791098026918\n"
          ]
        }
      ]
    },
    {
      "cell_type": "markdown",
      "source": [
        "**7.\tПостройте таблицу данных на основе значений цены на материал 3, воспользовавшись функцией DataFrame() из модуля pandas, результат поместите в переменную values.**"
      ],
      "metadata": {
        "id": "6lhOItoxP2bf"
      }
    },
    {
      "cell_type": "code",
      "source": [
        "values=pd.DataFrame(series.values)"
      ],
      "metadata": {
        "id": "5CPuH9JMdk9s"
      },
      "execution_count": null,
      "outputs": []
    },
    {
      "cell_type": "markdown",
      "source": [
        "**8.\tПоместите в переменную dataframe исходный ряд и сдвинутый на x шагов, где x соответствует лагам из п. 6, воспользовавшись функцией concat([values.shift(x), values], axis=1) из модуля pandas.**"
      ],
      "metadata": {
        "id": "EruDsAI8RCSH"
      }
    },
    {
      "cell_type": "code",
      "source": [
        "dataframe =pd.concat([values.shift(6),values.shift(5),values.shift(4),values.shift(3),values.shift(2),values.shift(1), values], axis=1)"
      ],
      "metadata": {
        "id": "RrBMxZrWeXBH"
      },
      "execution_count": null,
      "outputs": []
    },
    {
      "cell_type": "markdown",
      "source": [
        "**9.\tДайте полученным столбцам названия 't' и 't-x', воспользовавшись следующей командой: df.columns = [ 't-x', 't']. Выведите на экран первые 10 значений, воспользовавшись функцией head().**"
      ],
      "metadata": {
        "id": "5QaS6V7URIhH"
      }
    },
    {
      "cell_type": "code",
      "source": [
        "dataframe.columns = [ 't-6','t-5','t-4','t-3','t-2','t-1', 't']"
      ],
      "metadata": {
        "id": "W4QJ-NsLewlU"
      },
      "execution_count": null,
      "outputs": []
    },
    {
      "cell_type": "code",
      "source": [
        "dataframe.head(10)"
      ],
      "metadata": {
        "colab": {
          "base_uri": "https://localhost:8080/",
          "height": 363
        },
        "id": "DSf_FwL-fCJs",
        "outputId": "5724fba2-cd5d-42c8-f074-5584e7d35245"
      },
      "execution_count": null,
      "outputs": [
        {
          "output_type": "execute_result",
          "data": {
            "text/plain": [
              "     t-6    t-5    t-4    t-3    t-2    t-1      t\n",
              "0    NaN    NaN    NaN    NaN    NaN    NaN  10.07\n",
              "1    NaN    NaN    NaN    NaN    NaN  10.07  10.04\n",
              "2    NaN    NaN    NaN    NaN  10.07  10.04  10.05\n",
              "3    NaN    NaN    NaN  10.07  10.04  10.05  10.05\n",
              "4    NaN    NaN  10.07  10.04  10.05  10.05  10.03\n",
              "5    NaN  10.07  10.04  10.05  10.05  10.03  10.03\n",
              "6  10.07  10.04  10.05  10.05  10.03  10.03  10.06\n",
              "7  10.04  10.05  10.05  10.03  10.03  10.06  10.03\n",
              "8  10.05  10.05  10.03  10.03  10.06  10.03  10.05\n",
              "9  10.05  10.03  10.03  10.06  10.03  10.05  10.04"
            ],
            "text/html": [
              "\n",
              "  <div id=\"df-ff41e1fc-bc66-41d5-a16a-457586798697\">\n",
              "    <div class=\"colab-df-container\">\n",
              "      <div>\n",
              "<style scoped>\n",
              "    .dataframe tbody tr th:only-of-type {\n",
              "        vertical-align: middle;\n",
              "    }\n",
              "\n",
              "    .dataframe tbody tr th {\n",
              "        vertical-align: top;\n",
              "    }\n",
              "\n",
              "    .dataframe thead th {\n",
              "        text-align: right;\n",
              "    }\n",
              "</style>\n",
              "<table border=\"1\" class=\"dataframe\">\n",
              "  <thead>\n",
              "    <tr style=\"text-align: right;\">\n",
              "      <th></th>\n",
              "      <th>t-6</th>\n",
              "      <th>t-5</th>\n",
              "      <th>t-4</th>\n",
              "      <th>t-3</th>\n",
              "      <th>t-2</th>\n",
              "      <th>t-1</th>\n",
              "      <th>t</th>\n",
              "    </tr>\n",
              "  </thead>\n",
              "  <tbody>\n",
              "    <tr>\n",
              "      <th>0</th>\n",
              "      <td>NaN</td>\n",
              "      <td>NaN</td>\n",
              "      <td>NaN</td>\n",
              "      <td>NaN</td>\n",
              "      <td>NaN</td>\n",
              "      <td>NaN</td>\n",
              "      <td>10.07</td>\n",
              "    </tr>\n",
              "    <tr>\n",
              "      <th>1</th>\n",
              "      <td>NaN</td>\n",
              "      <td>NaN</td>\n",
              "      <td>NaN</td>\n",
              "      <td>NaN</td>\n",
              "      <td>NaN</td>\n",
              "      <td>10.07</td>\n",
              "      <td>10.04</td>\n",
              "    </tr>\n",
              "    <tr>\n",
              "      <th>2</th>\n",
              "      <td>NaN</td>\n",
              "      <td>NaN</td>\n",
              "      <td>NaN</td>\n",
              "      <td>NaN</td>\n",
              "      <td>10.07</td>\n",
              "      <td>10.04</td>\n",
              "      <td>10.05</td>\n",
              "    </tr>\n",
              "    <tr>\n",
              "      <th>3</th>\n",
              "      <td>NaN</td>\n",
              "      <td>NaN</td>\n",
              "      <td>NaN</td>\n",
              "      <td>10.07</td>\n",
              "      <td>10.04</td>\n",
              "      <td>10.05</td>\n",
              "      <td>10.05</td>\n",
              "    </tr>\n",
              "    <tr>\n",
              "      <th>4</th>\n",
              "      <td>NaN</td>\n",
              "      <td>NaN</td>\n",
              "      <td>10.07</td>\n",
              "      <td>10.04</td>\n",
              "      <td>10.05</td>\n",
              "      <td>10.05</td>\n",
              "      <td>10.03</td>\n",
              "    </tr>\n",
              "    <tr>\n",
              "      <th>5</th>\n",
              "      <td>NaN</td>\n",
              "      <td>10.07</td>\n",
              "      <td>10.04</td>\n",
              "      <td>10.05</td>\n",
              "      <td>10.05</td>\n",
              "      <td>10.03</td>\n",
              "      <td>10.03</td>\n",
              "    </tr>\n",
              "    <tr>\n",
              "      <th>6</th>\n",
              "      <td>10.07</td>\n",
              "      <td>10.04</td>\n",
              "      <td>10.05</td>\n",
              "      <td>10.05</td>\n",
              "      <td>10.03</td>\n",
              "      <td>10.03</td>\n",
              "      <td>10.06</td>\n",
              "    </tr>\n",
              "    <tr>\n",
              "      <th>7</th>\n",
              "      <td>10.04</td>\n",
              "      <td>10.05</td>\n",
              "      <td>10.05</td>\n",
              "      <td>10.03</td>\n",
              "      <td>10.03</td>\n",
              "      <td>10.06</td>\n",
              "      <td>10.03</td>\n",
              "    </tr>\n",
              "    <tr>\n",
              "      <th>8</th>\n",
              "      <td>10.05</td>\n",
              "      <td>10.05</td>\n",
              "      <td>10.03</td>\n",
              "      <td>10.03</td>\n",
              "      <td>10.06</td>\n",
              "      <td>10.03</td>\n",
              "      <td>10.05</td>\n",
              "    </tr>\n",
              "    <tr>\n",
              "      <th>9</th>\n",
              "      <td>10.05</td>\n",
              "      <td>10.03</td>\n",
              "      <td>10.03</td>\n",
              "      <td>10.06</td>\n",
              "      <td>10.03</td>\n",
              "      <td>10.05</td>\n",
              "      <td>10.04</td>\n",
              "    </tr>\n",
              "  </tbody>\n",
              "</table>\n",
              "</div>\n",
              "      <button class=\"colab-df-convert\" onclick=\"convertToInteractive('df-ff41e1fc-bc66-41d5-a16a-457586798697')\"\n",
              "              title=\"Convert this dataframe to an interactive table.\"\n",
              "              style=\"display:none;\">\n",
              "        \n",
              "  <svg xmlns=\"http://www.w3.org/2000/svg\" height=\"24px\"viewBox=\"0 0 24 24\"\n",
              "       width=\"24px\">\n",
              "    <path d=\"M0 0h24v24H0V0z\" fill=\"none\"/>\n",
              "    <path d=\"M18.56 5.44l.94 2.06.94-2.06 2.06-.94-2.06-.94-.94-2.06-.94 2.06-2.06.94zm-11 1L8.5 8.5l.94-2.06 2.06-.94-2.06-.94L8.5 2.5l-.94 2.06-2.06.94zm10 10l.94 2.06.94-2.06 2.06-.94-2.06-.94-.94-2.06-.94 2.06-2.06.94z\"/><path d=\"M17.41 7.96l-1.37-1.37c-.4-.4-.92-.59-1.43-.59-.52 0-1.04.2-1.43.59L10.3 9.45l-7.72 7.72c-.78.78-.78 2.05 0 2.83L4 21.41c.39.39.9.59 1.41.59.51 0 1.02-.2 1.41-.59l7.78-7.78 2.81-2.81c.8-.78.8-2.07 0-2.86zM5.41 20L4 18.59l7.72-7.72 1.47 1.35L5.41 20z\"/>\n",
              "  </svg>\n",
              "      </button>\n",
              "      \n",
              "  <style>\n",
              "    .colab-df-container {\n",
              "      display:flex;\n",
              "      flex-wrap:wrap;\n",
              "      gap: 12px;\n",
              "    }\n",
              "\n",
              "    .colab-df-convert {\n",
              "      background-color: #E8F0FE;\n",
              "      border: none;\n",
              "      border-radius: 50%;\n",
              "      cursor: pointer;\n",
              "      display: none;\n",
              "      fill: #1967D2;\n",
              "      height: 32px;\n",
              "      padding: 0 0 0 0;\n",
              "      width: 32px;\n",
              "    }\n",
              "\n",
              "    .colab-df-convert:hover {\n",
              "      background-color: #E2EBFA;\n",
              "      box-shadow: 0px 1px 2px rgba(60, 64, 67, 0.3), 0px 1px 3px 1px rgba(60, 64, 67, 0.15);\n",
              "      fill: #174EA6;\n",
              "    }\n",
              "\n",
              "    [theme=dark] .colab-df-convert {\n",
              "      background-color: #3B4455;\n",
              "      fill: #D2E3FC;\n",
              "    }\n",
              "\n",
              "    [theme=dark] .colab-df-convert:hover {\n",
              "      background-color: #434B5C;\n",
              "      box-shadow: 0px 1px 3px 1px rgba(0, 0, 0, 0.15);\n",
              "      filter: drop-shadow(0px 1px 2px rgba(0, 0, 0, 0.3));\n",
              "      fill: #FFFFFF;\n",
              "    }\n",
              "  </style>\n",
              "\n",
              "      <script>\n",
              "        const buttonEl =\n",
              "          document.querySelector('#df-ff41e1fc-bc66-41d5-a16a-457586798697 button.colab-df-convert');\n",
              "        buttonEl.style.display =\n",
              "          google.colab.kernel.accessAllowed ? 'block' : 'none';\n",
              "\n",
              "        async function convertToInteractive(key) {\n",
              "          const element = document.querySelector('#df-ff41e1fc-bc66-41d5-a16a-457586798697');\n",
              "          const dataTable =\n",
              "            await google.colab.kernel.invokeFunction('convertToInteractive',\n",
              "                                                     [key], {});\n",
              "          if (!dataTable) return;\n",
              "\n",
              "          const docLinkHtml = 'Like what you see? Visit the ' +\n",
              "            '<a target=\"_blank\" href=https://colab.research.google.com/notebooks/data_table.ipynb>data table notebook</a>'\n",
              "            + ' to learn more about interactive tables.';\n",
              "          element.innerHTML = '';\n",
              "          dataTable['output_type'] = 'display_data';\n",
              "          await google.colab.output.renderOutput(dataTable, element);\n",
              "          const docLink = document.createElement('div');\n",
              "          docLink.innerHTML = docLinkHtml;\n",
              "          element.appendChild(docLink);\n",
              "        }\n",
              "      </script>\n",
              "    </div>\n",
              "  </div>\n",
              "  "
            ]
          },
          "metadata": {},
          "execution_count": 20
        }
      ]
    },
    {
      "cell_type": "markdown",
      "source": [
        "**10.\tСоздайте переменную array, в которую запишите значения переменных таблицы dataframe, обратившись к параметру values.**"
      ],
      "metadata": {
        "id": "Q0adrCvARVfp"
      }
    },
    {
      "cell_type": "code",
      "source": [
        "array=dataframe.values"
      ],
      "metadata": {
        "id": "8HnzZptCfDoB"
      },
      "execution_count": null,
      "outputs": []
    },
    {
      "cell_type": "code",
      "source": [
        "array"
      ],
      "metadata": {
        "colab": {
          "base_uri": "https://localhost:8080/"
        },
        "id": "1lLGX2BP2HB8",
        "outputId": "9f4608bb-2a7b-4887-b403-d2d4758c3852"
      },
      "execution_count": null,
      "outputs": [
        {
          "output_type": "execute_result",
          "data": {
            "text/plain": [
              "array([[  nan,   nan,   nan,   nan,   nan,   nan, 10.07],\n",
              "       [  nan,   nan,   nan,   nan,   nan, 10.07, 10.04],\n",
              "       [  nan,   nan,   nan,   nan, 10.07, 10.04, 10.05],\n",
              "       [  nan,   nan,   nan, 10.07, 10.04, 10.05, 10.05],\n",
              "       [  nan,   nan, 10.07, 10.04, 10.05, 10.05, 10.03],\n",
              "       [  nan, 10.07, 10.04, 10.05, 10.05, 10.03, 10.03],\n",
              "       [10.07, 10.04, 10.05, 10.05, 10.03, 10.03, 10.06],\n",
              "       [10.04, 10.05, 10.05, 10.03, 10.03, 10.06, 10.03],\n",
              "       [10.05, 10.05, 10.03, 10.03, 10.06, 10.03, 10.05],\n",
              "       [10.05, 10.03, 10.03, 10.06, 10.03, 10.05, 10.04],\n",
              "       [10.03, 10.03, 10.06, 10.03, 10.05, 10.04, 10.02],\n",
              "       [10.03, 10.06, 10.03, 10.05, 10.04, 10.02, 10.03],\n",
              "       [10.06, 10.03, 10.05, 10.04, 10.02, 10.03, 10.01],\n",
              "       [10.03, 10.05, 10.04, 10.02, 10.03, 10.01, 10.05],\n",
              "       [10.05, 10.04, 10.02, 10.03, 10.01, 10.05, 10.02],\n",
              "       [10.04, 10.02, 10.03, 10.01, 10.05, 10.02, 10.05],\n",
              "       [10.02, 10.03, 10.01, 10.05, 10.02, 10.05, 10.02],\n",
              "       [10.03, 10.01, 10.05, 10.02, 10.05, 10.02, 10.06],\n",
              "       [10.01, 10.05, 10.02, 10.05, 10.02, 10.06, 10.07],\n",
              "       [10.05, 10.02, 10.05, 10.02, 10.06, 10.07, 10.08],\n",
              "       [10.02, 10.05, 10.02, 10.06, 10.07, 10.08, 10.09],\n",
              "       [10.05, 10.02, 10.06, 10.07, 10.08, 10.09, 10.06],\n",
              "       [10.02, 10.06, 10.07, 10.08, 10.09, 10.06, 10.07],\n",
              "       [10.06, 10.07, 10.08, 10.09, 10.06, 10.07, 10.1 ],\n",
              "       [10.07, 10.08, 10.09, 10.06, 10.07, 10.1 , 10.1 ],\n",
              "       [10.08, 10.09, 10.06, 10.07, 10.1 , 10.1 , 10.12],\n",
              "       [10.09, 10.06, 10.07, 10.1 , 10.1 , 10.12, 10.13],\n",
              "       [10.06, 10.07, 10.1 , 10.1 , 10.12, 10.13, 10.1 ],\n",
              "       [10.07, 10.1 , 10.1 , 10.12, 10.13, 10.1 , 10.14],\n",
              "       [10.1 , 10.1 , 10.12, 10.13, 10.1 , 10.14, 10.09],\n",
              "       [10.1 , 10.12, 10.13, 10.1 , 10.14, 10.09, 10.12],\n",
              "       [10.12, 10.13, 10.1 , 10.14, 10.09, 10.12, 10.13],\n",
              "       [10.13, 10.1 , 10.14, 10.09, 10.12, 10.13, 10.14],\n",
              "       [10.1 , 10.14, 10.09, 10.12, 10.13, 10.14, 10.16],\n",
              "       [10.14, 10.09, 10.12, 10.13, 10.14, 10.16, 10.16],\n",
              "       [10.09, 10.12, 10.13, 10.14, 10.16, 10.16, 10.15],\n",
              "       [10.12, 10.13, 10.14, 10.16, 10.16, 10.15, 10.15],\n",
              "       [10.13, 10.14, 10.16, 10.16, 10.15, 10.15, 10.15],\n",
              "       [10.14, 10.16, 10.16, 10.15, 10.15, 10.15, 10.18],\n",
              "       [10.16, 10.16, 10.15, 10.15, 10.15, 10.18, 10.18],\n",
              "       [10.16, 10.15, 10.15, 10.15, 10.18, 10.18, 10.16],\n",
              "       [10.15, 10.15, 10.15, 10.18, 10.18, 10.16, 10.17],\n",
              "       [10.15, 10.15, 10.18, 10.18, 10.16, 10.17, 10.14],\n",
              "       [10.15, 10.18, 10.18, 10.16, 10.17, 10.14, 10.16],\n",
              "       [10.18, 10.18, 10.16, 10.17, 10.14, 10.16, 10.12],\n",
              "       [10.18, 10.16, 10.17, 10.14, 10.16, 10.12, 10.14],\n",
              "       [10.16, 10.17, 10.14, 10.16, 10.12, 10.14, 10.12],\n",
              "       [10.17, 10.14, 10.16, 10.12, 10.14, 10.12, 10.15]])"
            ]
          },
          "metadata": {},
          "execution_count": 24
        }
      ]
    },
    {
      "cell_type": "markdown",
      "source": [
        "**11.\tРазделите исходные данные на тестовый набор (12 последних наблюдений) и обучающий набор (оставшиеся наблюдения). Для этого создайте переменные x_train и y_train, содержащие данные обучающей выборки и переменные x_test и y_test с данными тестовой выборки. Выведите на экран объем обучающей и тестовой выборки.**"
      ],
      "metadata": {
        "id": "V72y0vWRRjSd"
      }
    },
    {
      "cell_type": "code",
      "source": [
        "x_train =array[6:36,0:6]\n",
        "y_train=array[6:36,6]\n",
        "x_test =array[36:48,0:6]\n",
        "y_test =array[36:48,6]"
      ],
      "metadata": {
        "id": "wDBVcwbyfjnU"
      },
      "execution_count": null,
      "outputs": []
    },
    {
      "cell_type": "code",
      "source": [
        "x_train"
      ],
      "metadata": {
        "id": "wWIU5KQl2i53"
      },
      "execution_count": null,
      "outputs": []
    },
    {
      "cell_type": "markdown",
      "source": [
        "**12.\tСоздайте модель линейной регрессии, воспользовавшись функцией LinearRegression() из модуля sklearn.linear_model. Обучите на обучающей выборке модель линейной регрессии, воспользовавшись функцией fit(). Результат запишите в переменную model.**"
      ],
      "metadata": {
        "id": "ZFxBUy6HRnuD"
      }
    },
    {
      "cell_type": "code",
      "source": [
        "model=LinearRegression().fit(x_train,y_train)"
      ],
      "metadata": {
        "id": "ONJ7G8MYhcIT"
      },
      "execution_count": null,
      "outputs": []
    },
    {
      "cell_type": "markdown",
      "source": [
        "**13.\tВыведите на экран свободный член модели линейной регрессии, обратившись к ее параметру intercept_.**"
      ],
      "metadata": {
        "id": "93SzHSTtRtNA"
      }
    },
    {
      "cell_type": "code",
      "source": [
        "model.intercept_"
      ],
      "metadata": {
        "colab": {
          "base_uri": "https://localhost:8080/"
        },
        "id": "OOSyHOVehrMy",
        "outputId": "c68bed57-6e22-45f4-e1d7-9391108ec53c"
      },
      "execution_count": null,
      "outputs": [
        {
          "output_type": "execute_result",
          "data": {
            "text/plain": [
              "-1.1305838135582906"
            ]
          },
          "metadata": {},
          "execution_count": 28
        }
      ]
    },
    {
      "cell_type": "markdown",
      "source": [
        "**14.\tВыведите на экран коэффициенты при независимых переменных в модели линейной регрессии, обратившись к ее параметру coef_.**"
      ],
      "metadata": {
        "id": "MSztw4rVRx9Q"
      }
    },
    {
      "cell_type": "code",
      "source": [
        "model.coef_"
      ],
      "metadata": {
        "colab": {
          "base_uri": "https://localhost:8080/"
        },
        "id": "11tGul98hsjW",
        "outputId": "5e2e06c6-f38a-45c0-c325-a96a2fa6211b"
      },
      "execution_count": null,
      "outputs": [
        {
          "output_type": "execute_result",
          "data": {
            "text/plain": [
              "array([ 0.28957294,  0.30568777, -0.33216294, -0.06657351,  0.67201834,\n",
              "        0.24478978])"
            ]
          },
          "metadata": {},
          "execution_count": 29
        }
      ]
    },
    {
      "cell_type": "markdown",
      "source": [
        "**15.\tНайдите расчетные значения результативного признака по модели линейной регрессии на тестовом наборе и запишите их в переменную y_pred. Выведите на экран полученный результат.**"
      ],
      "metadata": {
        "id": "7sEUNiELR2eI"
      }
    },
    {
      "cell_type": "code",
      "source": [
        "y_pred=model.predict(x_test)\n",
        "y_pred"
      ],
      "metadata": {
        "colab": {
          "base_uri": "https://localhost:8080/"
        },
        "id": "kKw7w2CNhypI",
        "outputId": "c009e456-1a17-4cbb-fd0c-4236e652ae1a"
      },
      "execution_count": null,
      "outputs": [
        {
          "output_type": "execute_result",
          "data": {
            "text/plain": [
              "array([10.16431481, 10.15690398, 10.1665792 , 10.18303598, 10.20013965,\n",
              "       10.19035092, 10.16939356, 10.17927216, 10.17867211, 10.17488271,\n",
              "       10.15879661, 10.15708596])"
            ]
          },
          "metadata": {},
          "execution_count": 30
        }
      ]
    },
    {
      "cell_type": "markdown",
      "source": [
        "**16.\tОцените точность модели на тестовой выборке на основе средней квадратичной ошибки (MSE), воспользовавшись функцией mean_squared_error(y_test, y_pred) из модуля sklearn.metrics. Запишите результат.**"
      ],
      "metadata": {
        "id": "YHpQRYV8R9si"
      }
    },
    {
      "cell_type": "code",
      "source": [
        "MSE=mean_squared_error(y_test, y_pred)\n",
        "MSE"
      ],
      "metadata": {
        "colab": {
          "base_uri": "https://localhost:8080/"
        },
        "id": "Bz7N9XJhiMFk",
        "outputId": "5da2a866-6db5-4605-aed4-90e16db0b588"
      },
      "execution_count": null,
      "outputs": [
        {
          "output_type": "execute_result",
          "data": {
            "text/plain": [
              "0.0008264392588580527"
            ]
          },
          "metadata": {},
          "execution_count": 31
        }
      ]
    },
    {
      "cell_type": "code",
      "source": [
        "r2_score(y_test, y_pred)"
      ],
      "metadata": {
        "colab": {
          "base_uri": "https://localhost:8080/"
        },
        "id": "GlRavAzpiX6e",
        "outputId": "e36522f4-33b1-42e0-87a0-41944d3a3b7d"
      },
      "execution_count": null,
      "outputs": [
        {
          "output_type": "execute_result",
          "data": {
            "text/plain": [
              "-1.271130787701499"
            ]
          },
          "metadata": {},
          "execution_count": 32
        }
      ]
    },
    {
      "cell_type": "markdown",
      "source": [
        "# **СТРОИМ МОДЕЛЬ НА ВСЕХ ДАННЫХ**"
      ],
      "metadata": {
        "id": "nJ7A9dkdUqho"
      }
    },
    {
      "cell_type": "markdown",
      "source": [
        "**19.\tПостройте на всех данных лучшую модель.**"
      ],
      "metadata": {
        "id": "UNyh9DbRSVGL"
      }
    },
    {
      "cell_type": "code",
      "source": [
        "x=array[6:48,0:6]\n",
        "y=array[6:48,6]"
      ],
      "metadata": {
        "id": "Cip1auO3jQ51"
      },
      "execution_count": null,
      "outputs": []
    },
    {
      "cell_type": "code",
      "source": [
        "model=LinearRegression().fit(x,y)"
      ],
      "metadata": {
        "id": "Qs_vossvjkKT"
      },
      "execution_count": null,
      "outputs": []
    },
    {
      "cell_type": "code",
      "source": [
        "model.intercept_"
      ],
      "metadata": {
        "colab": {
          "base_uri": "https://localhost:8080/"
        },
        "outputId": "e909faf9-a9c6-4e87-8955-1bcb017d40db",
        "id": "HNBucv9cjkKU"
      },
      "execution_count": null,
      "outputs": [
        {
          "output_type": "execute_result",
          "data": {
            "text/plain": [
              "0.5453373690949501"
            ]
          },
          "metadata": {},
          "execution_count": 35
        }
      ]
    },
    {
      "cell_type": "code",
      "source": [
        "model.coef_"
      ],
      "metadata": {
        "colab": {
          "base_uri": "https://localhost:8080/"
        },
        "outputId": "e415649f-49d2-49a2-ca71-e52d5539958e",
        "id": "-TLmiub3jkKV"
      },
      "execution_count": null,
      "outputs": [
        {
          "output_type": "execute_result",
          "data": {
            "text/plain": [
              "array([ 0.07860707,  0.25185438, -0.24411278, -0.1826131 ,  0.68145948,\n",
              "        0.36131217])"
            ]
          },
          "metadata": {},
          "execution_count": 36
        }
      ]
    },
    {
      "cell_type": "code",
      "source": [
        "y_pred=model.predict(x)"
      ],
      "metadata": {
        "id": "EVzEotdbj8dl"
      },
      "execution_count": null,
      "outputs": []
    },
    {
      "cell_type": "markdown",
      "source": [
        "**20.\tОцените точность модели для всех данных с помощью следующих показателей: коэффициента детерминации, MAE, MSE, RMSE. Соответствующие функции приведены в задании 4. Прокомментируйте полученные результаты.**"
      ],
      "metadata": {
        "id": "h9YaQUYEVO33"
      }
    },
    {
      "cell_type": "code",
      "source": [
        "R2=r2_score(y,y_pred)\n",
        "R2"
      ],
      "metadata": {
        "colab": {
          "base_uri": "https://localhost:8080/"
        },
        "id": "YMZYV6Irjw9N",
        "outputId": "9339eade-2ba1-4459-811b-f459bc6b6fee"
      },
      "execution_count": null,
      "outputs": [
        {
          "output_type": "execute_result",
          "data": {
            "text/plain": [
              "0.8794182876013034"
            ]
          },
          "metadata": {},
          "execution_count": 38
        }
      ]
    },
    {
      "cell_type": "code",
      "source": [
        "MAE=mean_absolute_error(y,y_pred)\n",
        "MAE"
      ],
      "metadata": {
        "colab": {
          "base_uri": "https://localhost:8080/"
        },
        "id": "VoCIH_5ykS7-",
        "outputId": "7bd782ea-d832-49a5-99ef-e04a5f6a8e3b"
      },
      "execution_count": null,
      "outputs": [
        {
          "output_type": "execute_result",
          "data": {
            "text/plain": [
              "0.015211336689007584"
            ]
          },
          "metadata": {},
          "execution_count": 39
        }
      ]
    },
    {
      "cell_type": "code",
      "source": [
        "MSE=mean_squared_error(y,y_pred)\n",
        "MSE"
      ],
      "metadata": {
        "colab": {
          "base_uri": "https://localhost:8080/"
        },
        "id": "BF7WWjxXkfhC",
        "outputId": "745c2fb5-aa8d-49ba-e6fe-ca7fbb93aad9"
      },
      "execution_count": null,
      "outputs": [
        {
          "output_type": "execute_result",
          "data": {
            "text/plain": [
              "0.00030772261604604015"
            ]
          },
          "metadata": {},
          "execution_count": 40
        }
      ]
    },
    {
      "cell_type": "code",
      "source": [
        "RMSE=sqrt(MSE)\n",
        "RMSE"
      ],
      "metadata": {
        "colab": {
          "base_uri": "https://localhost:8080/"
        },
        "id": "FxeRTuwPkpdL",
        "outputId": "984d6e83-2bd6-4f35-d963-5d73e16f6b59"
      },
      "execution_count": null,
      "outputs": [
        {
          "output_type": "execute_result",
          "data": {
            "text/plain": [
              "0.017542024285869637"
            ]
          },
          "metadata": {},
          "execution_count": 41
        }
      ]
    },
    {
      "cell_type": "code",
      "source": [
        "len(y_pred)"
      ],
      "metadata": {
        "colab": {
          "base_uri": "https://localhost:8080/"
        },
        "id": "gHneqLXXlmgZ",
        "outputId": "0aa49c9a-ce9d-4fa2-b705-72fd1adb840f"
      },
      "execution_count": null,
      "outputs": [
        {
          "output_type": "execute_result",
          "data": {
            "text/plain": [
              "42"
            ]
          },
          "metadata": {},
          "execution_count": 42
        }
      ]
    },
    {
      "cell_type": "code",
      "source": [
        "y=df.Value[6:48]"
      ],
      "metadata": {
        "id": "MIIoWgjSkxE5"
      },
      "execution_count": null,
      "outputs": []
    },
    {
      "cell_type": "markdown",
      "source": [
        "**21.\tРассчитайте ошибки модели для всех данных. Поместите столбец ошибок 'Error' в таблицу исходных данных. Выведите на экран первые 5 наблюдений.**"
      ],
      "metadata": {
        "id": "qeCU-9r7VhqU"
      }
    },
    {
      "cell_type": "code",
      "source": [
        "df['Error']=y-y_pred\n",
        "df.head(10)"
      ],
      "metadata": {
        "colab": {
          "base_uri": "https://localhost:8080/",
          "height": 394
        },
        "id": "AF-YR7s1lG8A",
        "outputId": "633cab08-4267-471a-aacf-6d697eaca1b2"
      },
      "execution_count": null,
      "outputs": [
        {
          "output_type": "execute_result",
          "data": {
            "text/plain": [
              "            Value     Error\n",
              "Date                       \n",
              "2007-01-01  10.07       NaN\n",
              "2007-02-01  10.04       NaN\n",
              "2007-03-01  10.05       NaN\n",
              "2007-04-01  10.05       NaN\n",
              "2007-05-01  10.03       NaN\n",
              "2007-06-01  10.03       NaN\n",
              "2007-07-01  10.06  0.024067\n",
              "2007-08-01  10.03 -0.020585\n",
              "2007-09-01  10.05 -0.015858\n",
              "2007-10-01  10.04 -0.002125"
            ],
            "text/html": [
              "\n",
              "  <div id=\"df-57f05431-1867-4b08-8496-270f7f9ae20b\">\n",
              "    <div class=\"colab-df-container\">\n",
              "      <div>\n",
              "<style scoped>\n",
              "    .dataframe tbody tr th:only-of-type {\n",
              "        vertical-align: middle;\n",
              "    }\n",
              "\n",
              "    .dataframe tbody tr th {\n",
              "        vertical-align: top;\n",
              "    }\n",
              "\n",
              "    .dataframe thead th {\n",
              "        text-align: right;\n",
              "    }\n",
              "</style>\n",
              "<table border=\"1\" class=\"dataframe\">\n",
              "  <thead>\n",
              "    <tr style=\"text-align: right;\">\n",
              "      <th></th>\n",
              "      <th>Value</th>\n",
              "      <th>Error</th>\n",
              "    </tr>\n",
              "    <tr>\n",
              "      <th>Date</th>\n",
              "      <th></th>\n",
              "      <th></th>\n",
              "    </tr>\n",
              "  </thead>\n",
              "  <tbody>\n",
              "    <tr>\n",
              "      <th>2007-01-01</th>\n",
              "      <td>10.07</td>\n",
              "      <td>NaN</td>\n",
              "    </tr>\n",
              "    <tr>\n",
              "      <th>2007-02-01</th>\n",
              "      <td>10.04</td>\n",
              "      <td>NaN</td>\n",
              "    </tr>\n",
              "    <tr>\n",
              "      <th>2007-03-01</th>\n",
              "      <td>10.05</td>\n",
              "      <td>NaN</td>\n",
              "    </tr>\n",
              "    <tr>\n",
              "      <th>2007-04-01</th>\n",
              "      <td>10.05</td>\n",
              "      <td>NaN</td>\n",
              "    </tr>\n",
              "    <tr>\n",
              "      <th>2007-05-01</th>\n",
              "      <td>10.03</td>\n",
              "      <td>NaN</td>\n",
              "    </tr>\n",
              "    <tr>\n",
              "      <th>2007-06-01</th>\n",
              "      <td>10.03</td>\n",
              "      <td>NaN</td>\n",
              "    </tr>\n",
              "    <tr>\n",
              "      <th>2007-07-01</th>\n",
              "      <td>10.06</td>\n",
              "      <td>0.024067</td>\n",
              "    </tr>\n",
              "    <tr>\n",
              "      <th>2007-08-01</th>\n",
              "      <td>10.03</td>\n",
              "      <td>-0.020585</td>\n",
              "    </tr>\n",
              "    <tr>\n",
              "      <th>2007-09-01</th>\n",
              "      <td>10.05</td>\n",
              "      <td>-0.015858</td>\n",
              "    </tr>\n",
              "    <tr>\n",
              "      <th>2007-10-01</th>\n",
              "      <td>10.04</td>\n",
              "      <td>-0.002125</td>\n",
              "    </tr>\n",
              "  </tbody>\n",
              "</table>\n",
              "</div>\n",
              "      <button class=\"colab-df-convert\" onclick=\"convertToInteractive('df-57f05431-1867-4b08-8496-270f7f9ae20b')\"\n",
              "              title=\"Convert this dataframe to an interactive table.\"\n",
              "              style=\"display:none;\">\n",
              "        \n",
              "  <svg xmlns=\"http://www.w3.org/2000/svg\" height=\"24px\"viewBox=\"0 0 24 24\"\n",
              "       width=\"24px\">\n",
              "    <path d=\"M0 0h24v24H0V0z\" fill=\"none\"/>\n",
              "    <path d=\"M18.56 5.44l.94 2.06.94-2.06 2.06-.94-2.06-.94-.94-2.06-.94 2.06-2.06.94zm-11 1L8.5 8.5l.94-2.06 2.06-.94-2.06-.94L8.5 2.5l-.94 2.06-2.06.94zm10 10l.94 2.06.94-2.06 2.06-.94-2.06-.94-.94-2.06-.94 2.06-2.06.94z\"/><path d=\"M17.41 7.96l-1.37-1.37c-.4-.4-.92-.59-1.43-.59-.52 0-1.04.2-1.43.59L10.3 9.45l-7.72 7.72c-.78.78-.78 2.05 0 2.83L4 21.41c.39.39.9.59 1.41.59.51 0 1.02-.2 1.41-.59l7.78-7.78 2.81-2.81c.8-.78.8-2.07 0-2.86zM5.41 20L4 18.59l7.72-7.72 1.47 1.35L5.41 20z\"/>\n",
              "  </svg>\n",
              "      </button>\n",
              "      \n",
              "  <style>\n",
              "    .colab-df-container {\n",
              "      display:flex;\n",
              "      flex-wrap:wrap;\n",
              "      gap: 12px;\n",
              "    }\n",
              "\n",
              "    .colab-df-convert {\n",
              "      background-color: #E8F0FE;\n",
              "      border: none;\n",
              "      border-radius: 50%;\n",
              "      cursor: pointer;\n",
              "      display: none;\n",
              "      fill: #1967D2;\n",
              "      height: 32px;\n",
              "      padding: 0 0 0 0;\n",
              "      width: 32px;\n",
              "    }\n",
              "\n",
              "    .colab-df-convert:hover {\n",
              "      background-color: #E2EBFA;\n",
              "      box-shadow: 0px 1px 2px rgba(60, 64, 67, 0.3), 0px 1px 3px 1px rgba(60, 64, 67, 0.15);\n",
              "      fill: #174EA6;\n",
              "    }\n",
              "\n",
              "    [theme=dark] .colab-df-convert {\n",
              "      background-color: #3B4455;\n",
              "      fill: #D2E3FC;\n",
              "    }\n",
              "\n",
              "    [theme=dark] .colab-df-convert:hover {\n",
              "      background-color: #434B5C;\n",
              "      box-shadow: 0px 1px 3px 1px rgba(0, 0, 0, 0.15);\n",
              "      filter: drop-shadow(0px 1px 2px rgba(0, 0, 0, 0.3));\n",
              "      fill: #FFFFFF;\n",
              "    }\n",
              "  </style>\n",
              "\n",
              "      <script>\n",
              "        const buttonEl =\n",
              "          document.querySelector('#df-57f05431-1867-4b08-8496-270f7f9ae20b button.colab-df-convert');\n",
              "        buttonEl.style.display =\n",
              "          google.colab.kernel.accessAllowed ? 'block' : 'none';\n",
              "\n",
              "        async function convertToInteractive(key) {\n",
              "          const element = document.querySelector('#df-57f05431-1867-4b08-8496-270f7f9ae20b');\n",
              "          const dataTable =\n",
              "            await google.colab.kernel.invokeFunction('convertToInteractive',\n",
              "                                                     [key], {});\n",
              "          if (!dataTable) return;\n",
              "\n",
              "          const docLinkHtml = 'Like what you see? Visit the ' +\n",
              "            '<a target=\"_blank\" href=https://colab.research.google.com/notebooks/data_table.ipynb>data table notebook</a>'\n",
              "            + ' to learn more about interactive tables.';\n",
              "          element.innerHTML = '';\n",
              "          dataTable['output_type'] = 'display_data';\n",
              "          await google.colab.output.renderOutput(dataTable, element);\n",
              "          const docLink = document.createElement('div');\n",
              "          docLink.innerHTML = docLinkHtml;\n",
              "          element.appendChild(docLink);\n",
              "        }\n",
              "      </script>\n",
              "    </div>\n",
              "  </div>\n",
              "  "
            ]
          },
          "metadata": {},
          "execution_count": 44
        }
      ]
    },
    {
      "cell_type": "code",
      "source": [
        "err=df['Error'][6:48]\n",
        "err.head()"
      ],
      "metadata": {
        "colab": {
          "base_uri": "https://localhost:8080/"
        },
        "id": "7AddhyZ6lR4e",
        "outputId": "77cdc627-87db-41d0-d54a-37c75d8f55bb"
      },
      "execution_count": null,
      "outputs": [
        {
          "output_type": "execute_result",
          "data": {
            "text/plain": [
              "Date\n",
              "2007-07-01    0.024067\n",
              "2007-08-01   -0.020585\n",
              "2007-09-01   -0.015858\n",
              "2007-10-01   -0.002125\n",
              "2007-11-01   -0.028724\n",
              "Name: Error, dtype: float64"
            ]
          },
          "metadata": {},
          "execution_count": 45
        }
      ]
    },
    {
      "cell_type": "markdown",
      "source": [
        "**22.\tПостройте линейный график ошибок, воспользовавшись функцией plot() и командой pyplot.show() из модуля matplotlib. Прокомментируйте результат.**"
      ],
      "metadata": {
        "id": "Akc3xm6kV7dN"
      }
    },
    {
      "cell_type": "code",
      "source": [
        "err.plot()\n",
        "plt.show()"
      ],
      "metadata": {
        "colab": {
          "base_uri": "https://localhost:8080/",
          "height": 293
        },
        "id": "Jo1hWmKJmDBT",
        "outputId": "2f9497b4-4355-4d8e-a348-fe29eea2637d"
      },
      "execution_count": null,
      "outputs": [
        {
          "output_type": "display_data",
          "data": {
            "text/plain": [
              "<Figure size 432x288 with 1 Axes>"
            ],
            "image/png": "[encoded data removed]"
          },
          "metadata": {
            "needs_background": "light"
          }
        }
      ]
    },
    {
      "cell_type": "markdown",
      "source": [
        "**23.\tВыведите на экран описательные статистики ошибок, воспользовавшись функцией describe(). Прокомментируйте результат.**"
      ],
      "metadata": {
        "id": "gFZgHACiWDzv"
      }
    },
    {
      "cell_type": "code",
      "source": [
        "err.describe()"
      ],
      "metadata": {
        "colab": {
          "base_uri": "https://localhost:8080/"
        },
        "id": "BKjYf0XVmIGX",
        "outputId": "9e5a789d-ef48-4166-e132-aa94b12774e8"
      },
      "execution_count": null,
      "outputs": [
        {
          "output_type": "execute_result",
          "data": {
            "text/plain": [
              "count    4.200000e+01\n",
              "mean     5.075305e-16\n",
              "std      1.775466e-02\n",
              "min     -3.300461e-02\n",
              "25%     -1.589665e-02\n",
              "50%     -8.859810e-04\n",
              "75%      1.386714e-02\n",
              "max      3.702900e-02\n",
              "Name: Error, dtype: float64"
            ]
          },
          "metadata": {},
          "execution_count": 47
        }
      ]
    },
    {
      "cell_type": "markdown",
      "source": [
        "**24.\tПостройте для ошибок гистограмму на основе функции hist(), ядерную оценку плотности на основе функции plot(kind='kde'), Q-Q график на основе функции qqplot() из модуля statsmodels.graphics.gofplots, а также функцией show() из matplotlib.pyplot. Прокомментируйте результат.**"
      ],
      "metadata": {
        "id": "OaC6QIhtWQYi"
      }
    },
    {
      "cell_type": "code",
      "source": [
        "err.hist()\n",
        "plt.show()"
      ],
      "metadata": {
        "colab": {
          "base_uri": "https://localhost:8080/",
          "height": 265
        },
        "id": "YtyjtU72mSq0",
        "outputId": "dcc49222-a278-4335-8712-0c37e84f32c0"
      },
      "execution_count": null,
      "outputs": [
        {
          "output_type": "display_data",
          "data": {
            "text/plain": [
              "<Figure size 432x288 with 1 Axes>"
            ],
            "image/png": "[encoded data removed]"
          },
          "metadata": {
            "needs_background": "light"
          }
        }
      ]
    },
    {
      "cell_type": "code",
      "source": [
        "err.plot(kind='kde')\n",
        "plt.show()"
      ],
      "metadata": {
        "colab": {
          "base_uri": "https://localhost:8080/",
          "height": 265
        },
        "id": "5gJn23XTmeDp",
        "outputId": "7e068fb6-b715-4ae6-d2fe-ba0c28d63059"
      },
      "execution_count": null,
      "outputs": [
        {
          "output_type": "display_data",
          "data": {
            "text/plain": [
              "<Figure size 432x288 with 1 Axes>"
            ],
            "image/png": "[encoded data removed]"
          },
          "metadata": {
            "needs_background": "light"
          }
        }
      ]
    },
    {
      "cell_type": "code",
      "source": [
        "qqplot(err,line='r')\n",
        "plt.show()"
      ],
      "metadata": {
        "colab": {
          "base_uri": "https://localhost:8080/",
          "height": 281
        },
        "id": "-CEk9Ytammi1",
        "outputId": "ac14df56-1935-4a3d-e971-00839dc6664a"
      },
      "execution_count": null,
      "outputs": [
        {
          "output_type": "display_data",
          "data": {
            "text/plain": [
              "<Figure size 432x288 with 1 Axes>"
            ],
            "image/png": "[encoded data removed]"
          },
          "metadata": {
            "needs_background": "light"
          }
        }
      ]
    },
    {
      "cell_type": "markdown",
      "source": [
        "**25.\tПостройте для ошибок коррелограмму, воспользовавшись функцией autocorrelation_plot() из модуля pandas.plotting. Прокомментируйте результат.**"
      ],
      "metadata": {
        "id": "SpTarHUkWYfV"
      }
    },
    {
      "cell_type": "code",
      "source": [
        "autocorrelation_plot(err)\n",
        "plt.show()"
      ],
      "metadata": {
        "colab": {
          "base_uri": "https://localhost:8080/",
          "height": 283
        },
        "id": "dZ5C88YJmz6w",
        "outputId": "52690f98-d008-4191-8bc8-728ca723d707"
      },
      "execution_count": null,
      "outputs": [
        {
          "output_type": "display_data",
          "data": {
            "text/plain": [
              "<Figure size 432x288 with 1 Axes>"
            ],
            "image/png": "[encoded data removed]"
          },
          "metadata": {
            "needs_background": "light"
          }
        }
      ]
    },
    {
      "cell_type": "markdown",
      "source": [
        "**26.\tРассчитайте среднее квадратичное отклонение, воспользовавшись функцией sem() из модуля scipy.stats. Запишите результат в переменную sigma и выведите его на экран.**"
      ],
      "metadata": {
        "id": "PFQeMseDWoDW"
      }
    },
    {
      "cell_type": "code",
      "source": [
        "y.shape"
      ],
      "metadata": {
        "id": "tAl-AUr-6Ohx"
      },
      "execution_count": null,
      "outputs": []
    },
    {
      "cell_type": "code",
      "source": [
        "sigma =scipy.stats.sem(y)\n",
        "sigma"
      ],
      "metadata": {
        "colab": {
          "base_uri": "https://localhost:8080/"
        },
        "id": "BsO9Weh7nD5m",
        "outputId": "87b444d1-6cb4-444d-cf4d-77b9c5ea5af2"
      },
      "execution_count": null,
      "outputs": [
        {
          "output_type": "execute_result",
          "data": {
            "text/plain": [
              "0.00788945595667382"
            ]
          },
          "metadata": {},
          "execution_count": 52
        }
      ]
    },
    {
      "cell_type": "markdown",
      "source": [
        "**27.\tРассчитайте двусторонний t критерий Стьюдента для существующего объема выборки и 95% достоверности результата (confidence). Воспользуйтесь функцией t.ppf((1 + confidence) / 2., len(y)-1) из модуля scipy.stats. Запишите результат в переменную tstu и выведите его на экран.**"
      ],
      "metadata": {
        "id": "WsdhYsEvWsO9"
      }
    },
    {
      "cell_type": "code",
      "source": [
        "confidence=0.95"
      ],
      "metadata": {
        "id": "8Are5d6Kndfs"
      },
      "execution_count": null,
      "outputs": []
    },
    {
      "cell_type": "code",
      "source": [
        "tstu=scipy.stats.t.ppf((1 + confidence) / 2., len(y)-1)\n",
        "tstu"
      ],
      "metadata": {
        "colab": {
          "base_uri": "https://localhost:8080/"
        },
        "id": "ufP6PvHUnnCo",
        "outputId": "f2551702-fc61-410a-a5b3-80dbc4541ef7"
      },
      "execution_count": null,
      "outputs": [
        {
          "output_type": "execute_result",
          "data": {
            "text/plain": [
              "2.0195409639828936"
            ]
          },
          "metadata": {},
          "execution_count": 54
        }
      ]
    },
    {
      "cell_type": "markdown",
      "source": [
        "**28.\tВозьмите в качестве факторов на прогнозном интервале с 49 по 60 наблюдения (x_new) значения факторов тестового набора (x_test).**"
      ],
      "metadata": {
        "id": "AW9AvSQHW4ag"
      }
    },
    {
      "cell_type": "code",
      "source": [
        "x_new=x_test\n",
        "x_new"
      ],
      "metadata": {
        "id": "y2JKUGV-ntMX",
        "colab": {
          "base_uri": "https://localhost:8080/"
        },
        "outputId": "74090ec9-4a15-469a-c3d0-fdc57ba391e8"
      },
      "execution_count": null,
      "outputs": [
        {
          "output_type": "execute_result",
          "data": {
            "text/plain": [
              "array([[10.12, 10.13, 10.14, 10.16, 10.16, 10.15],\n",
              "       [10.13, 10.14, 10.16, 10.16, 10.15, 10.15],\n",
              "       [10.14, 10.16, 10.16, 10.15, 10.15, 10.15],\n",
              "       [10.16, 10.16, 10.15, 10.15, 10.15, 10.18],\n",
              "       [10.16, 10.15, 10.15, 10.15, 10.18, 10.18],\n",
              "       [10.15, 10.15, 10.15, 10.18, 10.18, 10.16],\n",
              "       [10.15, 10.15, 10.18, 10.18, 10.16, 10.17],\n",
              "       [10.15, 10.18, 10.18, 10.16, 10.17, 10.14],\n",
              "       [10.18, 10.18, 10.16, 10.17, 10.14, 10.16],\n",
              "       [10.18, 10.16, 10.17, 10.14, 10.16, 10.12],\n",
              "       [10.16, 10.17, 10.14, 10.16, 10.12, 10.14],\n",
              "       [10.17, 10.14, 10.16, 10.12, 10.14, 10.12]])"
            ]
          },
          "metadata": {},
          "execution_count": 55
        }
      ]
    },
    {
      "cell_type": "markdown",
      "source": [
        "**29.\tНайдите прогнозные значения цены на материал 3 на год вперед (точечный прогноз), воспользовавшись функцией predict() модели линейной регрессии. Запишите результат в переменную y_new и выведите его на экран.**"
      ],
      "metadata": {
        "id": "llZI0vvBXSA8"
      }
    },
    {
      "cell_type": "code",
      "source": [
        "y_new=model.predict(x_new)\n",
        "y_new"
      ],
      "metadata": {
        "colab": {
          "base_uri": "https://localhost:8080/"
        },
        "id": "5BXlZV_RomAT",
        "outputId": "017d61fa-cd88-48a0-9507-e36b9add5f32"
      },
      "execution_count": null,
      "outputs": [
        {
          "output_type": "execute_result",
          "data": {
            "text/plain": [
              "array([10.15241992, 10.14402769, 10.15167698, 10.16652961, 10.18445485,\n",
              "       10.17096415, 10.15362469, 10.16080782, 10.15300461, 10.15018149,\n",
              "       10.13476688, 10.13682254])"
            ]
          },
          "metadata": {},
          "execution_count": 56
        }
      ]
    },
    {
      "cell_type": "markdown",
      "source": [
        "**30.\tРассчитайте верхнюю границу прогнозного интервала, воспользовавшись формулой: y_up=y_new+tstu*sigma. Выведите результат на экран.**"
      ],
      "metadata": {
        "id": "LK6Kb6MNXZFo"
      }
    },
    {
      "cell_type": "code",
      "source": [
        "y_up=y_new+tstu*sigma\n",
        "y_up"
      ],
      "metadata": {
        "colab": {
          "base_uri": "https://localhost:8080/"
        },
        "id": "snXdwC7XouFy",
        "outputId": "c1f7bbac-eb6f-4b6e-cee0-8586750ca4a5"
      },
      "execution_count": null,
      "outputs": [
        {
          "output_type": "execute_result",
          "data": {
            "text/plain": [
              "array([10.168353  , 10.15996077, 10.16761006, 10.18246269, 10.20038793,\n",
              "       10.18689722, 10.16955777, 10.1767409 , 10.16893769, 10.16611457,\n",
              "       10.15069996, 10.15275561])"
            ]
          },
          "metadata": {},
          "execution_count": 58
        }
      ]
    },
    {
      "cell_type": "markdown",
      "source": [
        "**31.\tРассчитайте нижнюю границу прогнозного интервала, воспользовавшись формулой: y_down=y_new-tstu*sigma. Выведите результат на экран.**"
      ],
      "metadata": {
        "id": "FUMO7TC3XdM4"
      }
    },
    {
      "cell_type": "code",
      "source": [
        "y_down=y_new-tstu*sigma\n",
        "y_down"
      ],
      "metadata": {
        "colab": {
          "base_uri": "https://localhost:8080/"
        },
        "id": "0zEkBUwPo4ed",
        "outputId": "eb847ee6-00fa-469d-a37f-2e1a4140fb8c"
      },
      "execution_count": null,
      "outputs": [
        {
          "output_type": "execute_result",
          "data": {
            "text/plain": [
              "array([10.13648684, 10.12809461, 10.1357439 , 10.15059653, 10.16852177,\n",
              "       10.15503107, 10.13769161, 10.14487474, 10.13707153, 10.13424841,\n",
              "       10.1188338 , 10.12088946])"
            ]
          },
          "metadata": {},
          "execution_count": 59
        }
      ]
    },
    {
      "cell_type": "markdown",
      "source": [
        "**32.\tСгенерируйте номера наблюдений для выборки и прогнозного интервала. Поместите их в переменные 't' и 't_new' соответственно. Они вам понадобятся при построении диаграммы.**"
      ],
      "metadata": {
        "id": "GTPiPtQgXyip"
      }
    },
    {
      "cell_type": "code",
      "source": [
        "t=np.arange(1,43)\n",
        "t"
      ],
      "metadata": {
        "colab": {
          "base_uri": "https://localhost:8080/"
        },
        "id": "nLmiMmtNo9dY",
        "outputId": "25e89d83-f5ce-4a7c-e898-c14afafe2894"
      },
      "execution_count": null,
      "outputs": [
        {
          "output_type": "execute_result",
          "data": {
            "text/plain": [
              "array([ 1,  2,  3,  4,  5,  6,  7,  8,  9, 10, 11, 12, 13, 14, 15, 16, 17,\n",
              "       18, 19, 20, 21, 22, 23, 24, 25, 26, 27, 28, 29, 30, 31, 32, 33, 34,\n",
              "       35, 36, 37, 38, 39, 40, 41, 42])"
            ]
          },
          "metadata": {},
          "execution_count": 60
        }
      ]
    },
    {
      "cell_type": "code",
      "source": [
        "t_new=np.arange(43,55)\n",
        "t_new"
      ],
      "metadata": {
        "colab": {
          "base_uri": "https://localhost:8080/"
        },
        "id": "QQXGMybEpPxl",
        "outputId": "62a43451-eee5-4907-d007-9437e75d3830"
      },
      "execution_count": null,
      "outputs": [
        {
          "output_type": "execute_result",
          "data": {
            "text/plain": [
              "array([43, 44, 45, 46, 47, 48, 49, 50, 51, 52, 53, 54])"
            ]
          },
          "metadata": {},
          "execution_count": 61
        }
      ]
    },
    {
      "cell_type": "code",
      "source": [
        "t_new=t_new.reshape(-1,1)"
      ],
      "metadata": {
        "id": "51HHE0BRpdQp"
      },
      "execution_count": null,
      "outputs": []
    },
    {
      "cell_type": "markdown",
      "source": [
        "**33.\tНанесите на одну диаграмму фактические значения, значения по модели, точечный и интервальный прогнозы, воспользовавшись функциями figure(), scatter(), plot(), xlabel(), ylabel(), legend() и show() из модуля matplotlib.pyplot.**"
      ],
      "metadata": {
        "id": "DNcLq5wvX-tg"
      }
    },
    {
      "cell_type": "code",
      "source": [
        "plt.figure(figsize=(15,10))\n",
        "\n",
        "plt.scatter(t,y)\n",
        "\n",
        "plt.plot(t,y_pred)\n",
        "plt.plot(t_new,y_new)\n",
        "plt.plot(t_new,y_up)\n",
        "plt.plot(t_new,y_down)\n",
        "\n",
        "plt.xlabel('Номера наблюдений')\n",
        "plt.ylabel('Цена на материал 3')\n",
        "plt.legend(['Модель авторегрессии','Прогноз','Верхняя граница дов.интервала','Нижняя граница дов.интервала'])\n",
        "\n",
        "plt.show()"
      ],
      "metadata": {
        "colab": {
          "base_uri": "https://localhost:8080/",
          "height": 606
        },
        "id": "P3TjBA-6po5E",
        "outputId": "8df476b1-1148-4c5e-a19c-f09edd0fc53b"
      },
      "execution_count": null,
      "outputs": [
        {
          "output_type": "display_data",
          "data": {
            "text/plain": [
              "<Figure size 1080x720 with 1 Axes>"
            ],
            "image/png": "[encoded data removed]"
          },
          "metadata": {
            "needs_background": "light"
          }
        }
      ]
    },
    {
      "cell_type": "markdown",
      "source": [
        "# **7.1. Построение модели авторегрессии с помощью функции AutoReg**"
      ],
      "metadata": {
        "id": "6EKNpo64YLil"
      }
    },
    {
      "cell_type": "markdown",
      "source": [
        "**34.\tВытащите значения переменной series, обратившись к параметру values. Результат запишите в переменную X.**"
      ],
      "metadata": {
        "id": "y-HjvDSdYU4K"
      }
    },
    {
      "cell_type": "code",
      "source": [
        "X=series.values"
      ],
      "metadata": {
        "id": "Wm09V1fbv29x"
      },
      "execution_count": null,
      "outputs": []
    },
    {
      "cell_type": "markdown",
      "source": [
        "**35.\tРазделите выборку на обучающую и тестовую (12 последних наблюдений). Результат запишите в переменные train и test.**"
      ],
      "metadata": {
        "id": "Lj6HgHpnYaoB"
      }
    },
    {
      "cell_type": "code",
      "source": [
        "train, test = X[0:len(X)-12], X[len(X)-12:]"
      ],
      "metadata": {
        "id": "ArazEa53v6MJ"
      },
      "execution_count": null,
      "outputs": []
    },
    {
      "cell_type": "markdown",
      "source": [
        "# **СТАТИЧЕСКАЯ МОДЕЛЬ АВТОРЕГРЕССИИ**"
      ],
      "metadata": {
        "id": "bwCazamgdDRN"
      }
    },
    {
      "cell_type": "markdown",
      "source": [
        "**36.\tПостройте статическую модель авторегрессии. Воспользуйтесь функцией AutoReg(data, lags=lags,old_names=False) из модуля statsmodels.tsa.ar_model, чтобы автоматизировать процесс построения авторегрессии. Результат запишите в переменную model. Используйте тот же порядок авторегрессии, что и ранее.**"
      ],
      "metadata": {
        "id": "ftJVTxKBYifu"
      }
    },
    {
      "cell_type": "code",
      "source": [
        "model=AutoReg(train, lags=6,old_names=False)"
      ],
      "metadata": {
        "id": "zbXuRjwqwYjU"
      },
      "execution_count": null,
      "outputs": []
    },
    {
      "cell_type": "markdown",
      "source": [
        "**37.\tОбучите созданную модель, воспользовавшись функцией fit(). Результат запишите в переменную model_fit.**"
      ],
      "metadata": {
        "id": "-c53LZ8lYrUB"
      }
    },
    {
      "cell_type": "code",
      "source": [
        "model_fit=model.fit()"
      ],
      "metadata": {
        "id": "p-ej7eYCwjdL"
      },
      "execution_count": null,
      "outputs": []
    },
    {
      "cell_type": "markdown",
      "source": [
        "**38.\tВыведите на экран коэффициенты модели, обратившись к параметру модели params.**"
      ],
      "metadata": {
        "id": "ioU9h8YhYyjS"
      }
    },
    {
      "cell_type": "code",
      "source": [
        "model_fit.params"
      ],
      "metadata": {
        "colab": {
          "base_uri": "https://localhost:8080/"
        },
        "id": "eZHYA9QKwu3U",
        "outputId": "58215bd5-b069-41ad-e13a-824a25480845"
      },
      "execution_count": null,
      "outputs": [
        {
          "output_type": "execute_result",
          "data": {
            "text/plain": [
              "array([-1.13058381,  0.24478978,  0.67201834, -0.06657351, -0.33216294,\n",
              "        0.30568777,  0.28957294])"
            ]
          },
          "metadata": {},
          "execution_count": 73
        }
      ]
    },
    {
      "cell_type": "markdown",
      "source": [
        "**39.\t Сделайте прогноз по модели для тестовой выборки, воспользовавшись функцией predict(start=start, end=end, dynamic=False). Результат запишите в переменную predictions.**"
      ],
      "metadata": {
        "id": "cu1lACG7ZJbp"
      }
    },
    {
      "cell_type": "code",
      "source": [
        "predictions=model_fit.predict(start=len(train), end=len(train)+len(test)-1, dynamic=False)\n",
        "predictions"
      ],
      "metadata": {
        "id": "qSdplDpswxUH",
        "colab": {
          "base_uri": "https://localhost:8080/"
        },
        "outputId": "132934d5-c5ce-4ca3-e97c-353bb3d0f212"
      },
      "execution_count": null,
      "outputs": [
        {
          "output_type": "execute_result",
          "data": {
            "text/plain": [
              "array([10.16431481, 10.1604081 , 10.17874681, 10.18877065, 10.1959967 ,\n",
              "       10.20605869, 10.20956998, 10.21785539, 10.22754769, 10.23702378,\n",
              "       10.24930723, 10.25927188])"
            ]
          },
          "metadata": {},
          "execution_count": 74
        }
      ]
    },
    {
      "cell_type": "markdown",
      "source": [
        "**40.\tВыведите на экран для каждого наблюдения из тестового набора его прогнозное (predictions) и фактическое значение (test), воспользовавшись циклом for и функцией print().**"
      ],
      "metadata": {
        "id": "yaLNVD9QZPfj"
      }
    },
    {
      "cell_type": "code",
      "source": [
        "for i in range(len(predictions)):\n",
        "  print('predicted=%f, expected=%f' %(predictions[i], test[i]))"
      ],
      "metadata": {
        "colab": {
          "base_uri": "https://localhost:8080/"
        },
        "id": "IbklzemWxXEF",
        "outputId": "7c64f252-211d-4739-b353-dc029acae50e"
      },
      "execution_count": null,
      "outputs": [
        {
          "output_type": "stream",
          "name": "stdout",
          "text": [
            "predicted=10.164315, expected=10.150000\n",
            "predicted=10.160408, expected=10.150000\n",
            "predicted=10.178747, expected=10.180000\n",
            "predicted=10.188771, expected=10.180000\n",
            "predicted=10.195997, expected=10.160000\n",
            "predicted=10.206059, expected=10.170000\n",
            "predicted=10.209570, expected=10.140000\n",
            "predicted=10.217855, expected=10.160000\n",
            "predicted=10.227548, expected=10.120000\n",
            "predicted=10.237024, expected=10.140000\n",
            "predicted=10.249307, expected=10.120000\n",
            "predicted=10.259272, expected=10.150000\n"
          ]
        }
      ]
    },
    {
      "cell_type": "markdown",
      "source": [
        "**41.\tВыведите на экран значение RMSE на тестовом наборе, воспользовавшись функцией sqrt() из модуля math и функцией mean_squared_error(test, predictions) из модуля sklearn.metrics.**"
      ],
      "metadata": {
        "id": "50JihuzRZygd"
      }
    },
    {
      "cell_type": "code",
      "source": [
        "RMSE =sqrt(mean_squared_error(test,predictions))\n",
        "RMSE"
      ],
      "metadata": {
        "colab": {
          "base_uri": "https://localhost:8080/"
        },
        "id": "Bh_4W3TEyR5f",
        "outputId": "13599eac-6d39-4448-e45a-e6b3ce215197"
      },
      "execution_count": null,
      "outputs": [
        {
          "output_type": "execute_result",
          "data": {
            "text/plain": [
              "0.07118975750556977"
            ]
          },
          "metadata": {},
          "execution_count": 76
        }
      ]
    },
    {
      "cell_type": "code",
      "source": [
        "R2=r2_score(test,predictions)\n",
        "R2"
      ],
      "metadata": {
        "colab": {
          "base_uri": "https://localhost:8080/"
        },
        "id": "Bt7MfBNpZ8iw",
        "outputId": "83757f21-c6e1-4665-f2cc-287633bf00d1"
      },
      "execution_count": null,
      "outputs": [
        {
          "output_type": "execute_result",
          "data": {
            "text/plain": [
              "-12.927277607119402"
            ]
          },
          "metadata": {},
          "execution_count": 77
        }
      ]
    },
    {
      "cell_type": "markdown",
      "source": [
        "**42.\tНанесите на одну диаграмму фактические и прогнозные значения для тестового набора, воспользовавшись функциями plot() и show() из модуля matplotlib.pyplot. Прогноз изобразите красным цветом, указав атрибут color='red' в функции plot().**"
      ],
      "metadata": {
        "id": "VhKnIUNOaaw-"
      }
    },
    {
      "cell_type": "code",
      "source": [
        "plt.plot(test)\n",
        "plt.plot(predictions, color='red')\n",
        "plt.show()"
      ],
      "metadata": {
        "colab": {
          "base_uri": "https://localhost:8080/",
          "height": 265
        },
        "id": "61loHDVeybT3",
        "outputId": "c63a8d64-90c6-4ad3-8fe3-899f342333e7"
      },
      "execution_count": null,
      "outputs": [
        {
          "output_type": "display_data",
          "data": {
            "text/plain": [
              "<Figure size 432x288 with 1 Axes>"
            ],
            "image/png": "[encoded data removed]"
          },
          "metadata": {
            "needs_background": "light"
          }
        }
      ]
    },
    {
      "cell_type": "markdown",
      "source": [
        "# **ДИНАМИЧЕСКАЯ МОДЕЛЬ АВТОРЕГРЕССИИ**"
      ],
      "metadata": {
        "id": "Ag_3oFqgdRl-"
      }
    },
    {
      "cell_type": "markdown",
      "source": [
        "**43.\t Постройте динамическую модель авторегрессии. Проведите пересчет значений по модели при условии поступления на каждом шаге нового наблюдения из тестового набора. Расчет ведите на основе найденных в ходе обучения коэффициентов модели и последних наблюдений в количестве, равном лагу. Выведите на экран для каждого наблюдения из тестового набора его прогнозное и фактическое значение. Это потребует выполнения следующего кода:**"
      ],
      "metadata": {
        "id": "73ZYO4hGapxQ"
      }
    },
    {
      "cell_type": "code",
      "source": [
        "# split dataset\n",
        "X = series.values\n",
        "train, test = X[0:len(X)-12], X[len(X)-12:]\n",
        "# train autoregression\n",
        "window = 6\n",
        "model = AutoReg(train, lags=6,old_names=False)\n",
        "model_fit = model.fit()\n",
        "coef = model_fit.params\n",
        "# walk forward over time steps in test\n",
        "history = train[len(train)-window:]\n",
        "history = [history[i] for i in range(len(history))]\n",
        "predictions = list()\n",
        "for t in range(len(test)):\n",
        "\tlength = len(history)\n",
        "\tlag = [history[i] for i in range(length-window,length)]\n",
        "\tyhat = coef[0]\n",
        "\tfor d in range(window):\n",
        "\t\tyhat += coef[d+1] * lag[window-d-1]\n",
        "\tobs = test[t]\n",
        "\tpredictions.append(yhat)\n",
        "\thistory.append(obs)\n",
        "\tprint('predicted=%f, expected=%f' % (yhat, obs))"
      ],
      "metadata": {
        "colab": {
          "base_uri": "https://localhost:8080/"
        },
        "id": "NAWwqy1PytUS",
        "outputId": "0802708f-5f02-4554-dc37-bb3cdc68f7db"
      },
      "execution_count": null,
      "outputs": [
        {
          "output_type": "stream",
          "name": "stdout",
          "text": [
            "predicted=10.164315, expected=10.150000\n",
            "predicted=10.156904, expected=10.150000\n",
            "predicted=10.166579, expected=10.180000\n",
            "predicted=10.183036, expected=10.180000\n",
            "predicted=10.200140, expected=10.160000\n",
            "predicted=10.190351, expected=10.170000\n",
            "predicted=10.169394, expected=10.140000\n",
            "predicted=10.179272, expected=10.160000\n",
            "predicted=10.178672, expected=10.120000\n",
            "predicted=10.174883, expected=10.140000\n",
            "predicted=10.158797, expected=10.120000\n",
            "predicted=10.157086, expected=10.150000\n"
          ]
        }
      ]
    },
    {
      "cell_type": "markdown",
      "source": [
        "**44.\tРассчитайте значение RMSE на тестовом наборе, воспользовавшись функцией sqrt() из модуля math и функцией mean_squared_error(test, predictions) из модуля sklearn.metrics.**"
      ],
      "metadata": {
        "id": "Rwk8zZfQbmIx"
      }
    },
    {
      "cell_type": "code",
      "source": [
        "RMSE =sqrt(mean_squared_error(test,predictions))\n",
        "RMSE"
      ],
      "metadata": {
        "colab": {
          "base_uri": "https://localhost:8080/"
        },
        "outputId": "0945a4d5-a950-4983-e8d3-ca71416575b8",
        "id": "hZMTze8Mzg25"
      },
      "execution_count": null,
      "outputs": [
        {
          "output_type": "execute_result",
          "data": {
            "text/plain": [
              "0.0287478565959798"
            ]
          },
          "metadata": {},
          "execution_count": 80
        }
      ]
    },
    {
      "cell_type": "markdown",
      "source": [
        "**45.\tНанесите на одну диаграмму фактические и прогнозные значения для тестового набора, воспользовавшись функциями plot() и show() из модуля matplotlib.pyplot. Прогноз изобразите красным цветом, указав атрибут color='red' в функции plot().**"
      ],
      "metadata": {
        "id": "getfpT2ybthO"
      }
    },
    {
      "cell_type": "code",
      "source": [
        "plt.plot(test)\n",
        "plt.plot(predictions, color='red')\n",
        "plt.show()"
      ],
      "metadata": {
        "colab": {
          "base_uri": "https://localhost:8080/",
          "height": 265
        },
        "outputId": "a0701cf4-fc2a-43ca-9b44-0f060d8ff9b6",
        "id": "Hw3yo70szg3D"
      },
      "execution_count": null,
      "outputs": [
        {
          "output_type": "display_data",
          "data": {
            "text/plain": [
              "<Figure size 432x288 with 1 Axes>"
            ],
            "image/png": "[encoded data removed]"
          },
          "metadata": {
            "needs_background": "light"
          }
        }
      ]
    },
    {
      "cell_type": "markdown",
      "source": [
        "# **ОПРЕДЕЛЯЕМ ОПТИМАЛЬНЫЙ ПО КРИТЕРИЮ BIC ПОРЯДОК АВТОРЕГРЕССИИ**"
      ],
      "metadata": {
        "id": "TIA5tz7AdpFq"
      }
    },
    {
      "cell_type": "markdown",
      "source": [
        "**46.\t Воспользуйтесь функцией ar_select_order(data, maxlag=max_tau) из модуля statsmodels.tsa.ar_model, чтобы определить оптимальный по критерию BIC порядок авторегрессии. Результат запишите в переменную modelp.**"
      ],
      "metadata": {
        "id": "sgHhadl9b797"
      }
    },
    {
      "cell_type": "code",
      "source": [
        "modelp=ar_select_order(train, maxlag=max_tau)"
      ],
      "metadata": {
        "id": "uQDxf5mh0DpY"
      },
      "execution_count": null,
      "outputs": []
    },
    {
      "cell_type": "markdown",
      "source": [
        "**47.\tВыведите на экран порядок авторегрессии, обратившись к параметру ar_lags.**"
      ],
      "metadata": {
        "id": "-8ouY-ZDcOsE"
      }
    },
    {
      "cell_type": "code",
      "source": [
        "lags=modelp.ar_lags\n",
        "lags"
      ],
      "metadata": {
        "colab": {
          "base_uri": "https://localhost:8080/"
        },
        "id": "AfHyUuHO0MX6",
        "outputId": "e3e64d43-bec2-484d-8230-88c1e1c223e9"
      },
      "execution_count": null,
      "outputs": [
        {
          "output_type": "execute_result",
          "data": {
            "text/plain": [
              "[1, 2]"
            ]
          },
          "metadata": {},
          "execution_count": 83
        }
      ]
    },
    {
      "cell_type": "markdown",
      "source": [
        "**48. Постройте статическую и динамическую модель авторегрессии с оптимальным лагом. Прокомментируйте полученный результат.**"
      ],
      "metadata": {
        "id": "1KxBgTYAcfY-"
      }
    },
    {
      "cell_type": "code",
      "source": [
        "model=AutoReg(train, lags=lags,old_names=False)"
      ],
      "metadata": {
        "id": "iQdSfI-s0q2n"
      },
      "execution_count": null,
      "outputs": []
    },
    {
      "cell_type": "code",
      "source": [
        "model_fit=model.fit()"
      ],
      "metadata": {
        "id": "d_n8rVCh0q2o"
      },
      "execution_count": null,
      "outputs": []
    },
    {
      "cell_type": "code",
      "source": [
        "model_fit.params"
      ],
      "metadata": {
        "colab": {
          "base_uri": "https://localhost:8080/"
        },
        "outputId": "d23225e5-afd9-47d9-c8ec-672101080e8c",
        "id": "DOvaVfVi0q2o"
      },
      "execution_count": null,
      "outputs": [
        {
          "output_type": "execute_result",
          "data": {
            "text/plain": [
              "array([-0.15743569,  0.41955524,  0.59655133])"
            ]
          },
          "metadata": {},
          "execution_count": 86
        }
      ]
    },
    {
      "cell_type": "code",
      "source": [
        "predictions=model_fit.predict(start=len(train), end=len(train)+len(test)-1, dynamic=False)"
      ],
      "metadata": {
        "id": "eWqMTEkG0q2o"
      },
      "execution_count": null,
      "outputs": []
    },
    {
      "cell_type": "code",
      "source": [
        "for i in range(len(predictions)):\n",
        "  print('predicted=%f, expected=%f' %(predictions[i], test[i]))"
      ],
      "metadata": {
        "colab": {
          "base_uri": "https://localhost:8080/"
        },
        "outputId": "cab1b5de-faf9-40e4-b149-ceb7a3958dc6",
        "id": "fu64vYSp0q2o"
      },
      "execution_count": null,
      "outputs": [
        {
          "output_type": "stream",
          "name": "stdout",
          "text": [
            "predicted=10.162012, expected=10.150000\n",
            "predicted=10.161086, expected=10.150000\n",
            "predicted=10.167863, expected=10.180000\n",
            "predicted=10.170154, expected=10.180000\n",
            "predicted=10.175158, expected=10.160000\n",
            "predicted=10.178624, expected=10.170000\n",
            "predicted=10.183063, expected=10.140000\n",
            "predicted=10.186993, expected=10.160000\n",
            "predicted=10.191291, expected=10.120000\n",
            "predicted=10.195438, expected=10.140000\n",
            "predicted=10.199742, expected=10.120000\n",
            "predicted=10.204022, expected=10.150000\n"
          ]
        }
      ]
    },
    {
      "cell_type": "code",
      "source": [
        "RMSE =sqrt(mean_squared_error(test,predictions))\n",
        "RMSE"
      ],
      "metadata": {
        "colab": {
          "base_uri": "https://localhost:8080/"
        },
        "outputId": "50812099-9123-4f87-f279-97544416ff21",
        "id": "o3438fmb0q2o"
      },
      "execution_count": null,
      "outputs": [
        {
          "output_type": "execute_result",
          "data": {
            "text/plain": [
              "0.04166487551247743"
            ]
          },
          "metadata": {},
          "execution_count": 89
        }
      ]
    },
    {
      "cell_type": "code",
      "source": [
        "plt.plot(test)\n",
        "plt.plot(predictions, color='red')\n",
        "plt.show()"
      ],
      "metadata": {
        "colab": {
          "base_uri": "https://localhost:8080/",
          "height": 265
        },
        "outputId": "43269065-af4a-42ae-967f-3d1db860de14",
        "id": "81OaSE0J0q2o"
      },
      "execution_count": null,
      "outputs": [
        {
          "output_type": "display_data",
          "data": {
            "text/plain": [
              "<Figure size 432x288 with 1 Axes>"
            ],
            "image/png": "[encoded data removed]"
          },
          "metadata": {
            "needs_background": "light"
          }
        }
      ]
    },
    {
      "cell_type": "code",
      "source": [
        "# split dataset\n",
        "X = series.values\n",
        "train, test = X[0:len(X)-12], X[len(X)-12:]\n",
        "# train autoregression\n",
        "window = 2\n",
        "model = AutoReg(train, lags=lags,old_names=False)\n",
        "model_fit = model.fit()\n",
        "coef = model_fit.params\n",
        "# walk forward over time steps in test\n",
        "history = train[len(train)-window:]\n",
        "history = [history[i] for i in range(len(history))]\n",
        "predictions = list()\n",
        "for t in range(len(test)):\n",
        "\tlength = len(history)\n",
        "\tlag = [history[i] for i in range(length-window,length)]\n",
        "\tyhat = coef[0]\n",
        "\tfor d in range(window):\n",
        "\t\tyhat += coef[d+1] * lag[window-d-1]\n",
        "\tobs = test[t]\n",
        "\tpredictions.append(yhat)\n",
        "\thistory.append(obs)\n",
        "\tprint('predicted=%f, expected=%f' % (yhat, obs))"
      ],
      "metadata": {
        "colab": {
          "base_uri": "https://localhost:8080/"
        },
        "outputId": "1a4670b2-839e-4451-fcaa-dfc329d412dd",
        "id": "BwlDDjNm0q2p"
      },
      "execution_count": null,
      "outputs": [
        {
          "output_type": "stream",
          "name": "stdout",
          "text": [
            "predicted=10.162012, expected=10.150000\n",
            "predicted=10.156046, expected=10.150000\n",
            "predicted=10.156046, expected=10.180000\n",
            "predicted=10.168633, expected=10.180000\n",
            "predicted=10.186529, expected=10.160000\n",
            "predicted=10.178138, expected=10.170000\n",
            "predicted=10.170403, expected=10.140000\n",
            "predicted=10.163782, expected=10.160000\n",
            "predicted=10.154276, expected=10.120000\n",
            "predicted=10.149425, expected=10.140000\n",
            "predicted=10.133954, expected=10.120000\n",
            "predicted=10.137494, expected=10.150000\n"
          ]
        }
      ]
    },
    {
      "cell_type": "code",
      "source": [
        "RMSE =sqrt(mean_squared_error(test,predictions))\n",
        "RMSE"
      ],
      "metadata": {
        "colab": {
          "base_uri": "https://localhost:8080/"
        },
        "outputId": "29bf5201-7293-4446-8e00-eb3917eb243b",
        "id": "Drk0nCD30q2p"
      },
      "execution_count": null,
      "outputs": [
        {
          "output_type": "execute_result",
          "data": {
            "text/plain": [
              "0.018724522424567777"
            ]
          },
          "metadata": {},
          "execution_count": 92
        }
      ]
    },
    {
      "cell_type": "code",
      "source": [
        "plt.plot(test)\n",
        "plt.plot(predictions, color='red')\n",
        "plt.show()"
      ],
      "metadata": {
        "colab": {
          "base_uri": "https://localhost:8080/",
          "height": 265
        },
        "outputId": "5e1dd4c5-c5e4-4163-ef42-00dc7d657e5e",
        "id": "lVH1pTyH0q2p"
      },
      "execution_count": null,
      "outputs": [
        {
          "output_type": "display_data",
          "data": {
            "text/plain": [
              "<Figure size 432x288 with 1 Axes>"
            ],
            "image/png": "[encoded data removed]"
          },
          "metadata": {
            "needs_background": "light"
          }
        }
      ]
    }
  ]
}