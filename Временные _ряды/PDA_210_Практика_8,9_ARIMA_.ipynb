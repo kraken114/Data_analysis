{
  "nbformat": 4,
  "nbformat_minor": 0,
  "metadata": {
    "colab": {
      "provenance": []
    },
    "kernelspec": {
      "name": "python3",
      "display_name": "Python 3"
    },
    "language_info": {
      "name": "python"
    }
  },
  "cells": [
    {
      "cell_type": "markdown",
      "source": [
        "# **ЗАДАНИЕ 8. ПОСТРОЕНИЕ МОДЕЛИ ARIMA**\n",
        "Постройте модель ARIMA для временного ряда цен на материал 3. Рассчитайте показатели точности и адекватности построенной модели. Дайте точечный и интервальный прогнозы на 1 год вперёд по построенной модели.\n",
        "Постарайтесь максимально автоматизировать все вычисления, использовать существующие модули среды программирования Python."
      ],
      "metadata": {
        "id": "mJwlSDu2dtIL"
      }
    },
    {
      "cell_type": "code",
      "execution_count": null,
      "metadata": {
        "colab": {
          "base_uri": "https://localhost:8080/",
          "height": 294
        },
        "id": "4N26aquvdpkP",
        "outputId": "ce0df964-6f4e-448b-e071-4edeeb3b1a58"
      },
      "outputs": [
        {
          "output_type": "stream",
          "name": "stdout",
          "text": [
            "Looking in indexes: https://pypi.org/simple, https://us-python.pkg.dev/colab-wheels/public/simple/\n",
            "Requirement already satisfied: xlrd in /usr/local/lib/python3.7/dist-packages (1.1.0)\n",
            "Collecting xlrd\n",
            "  Downloading xlrd-2.0.1-py2.py3-none-any.whl (96 kB)\n",
            "\u001b[K     |████████████████████████████████| 96 kB 4.4 MB/s \n",
            "\u001b[?25hInstalling collected packages: xlrd\n",
            "  Attempting uninstall: xlrd\n",
            "    Found existing installation: xlrd 1.1.0\n",
            "    Uninstalling xlrd-1.1.0:\n",
            "      Successfully uninstalled xlrd-1.1.0\n",
            "Successfully installed xlrd-2.0.1\n"
          ]
        },
        {
          "output_type": "display_data",
          "data": {
            "application/vnd.colab-display-data+json": {
              "pip_warning": {
                "packages": [
                  "xlrd"
                ]
              }
            }
          },
          "metadata": {}
        }
      ],
      "source": [
        "!pip install --upgrade xlrd"
      ]
    },
    {
      "cell_type": "code",
      "source": [
        "!pip install statsmodels --upgrade"
      ],
      "metadata": {
        "colab": {
          "base_uri": "https://localhost:8080/"
        },
        "id": "qVsGsTRdeCCe",
        "outputId": "40c661ba-54cd-4862-d180-4c5f3034ff7a"
      },
      "execution_count": null,
      "outputs": [
        {
          "output_type": "stream",
          "name": "stdout",
          "text": [
            "Looking in indexes: https://pypi.org/simple, https://us-python.pkg.dev/colab-wheels/public/simple/\n",
            "Requirement already satisfied: statsmodels in /usr/local/lib/python3.7/dist-packages (0.12.2)\n",
            "Collecting statsmodels\n",
            "  Downloading statsmodels-0.13.2-cp37-cp37m-manylinux_2_17_x86_64.manylinux2014_x86_64.whl (9.8 MB)\n",
            "\u001b[K     |████████████████████████████████| 9.8 MB 9.1 MB/s \n",
            "\u001b[?25hRequirement already satisfied: packaging>=21.3 in /usr/local/lib/python3.7/dist-packages (from statsmodels) (21.3)\n",
            "Requirement already satisfied: scipy>=1.3 in /usr/local/lib/python3.7/dist-packages (from statsmodels) (1.7.3)\n",
            "Requirement already satisfied: patsy>=0.5.2 in /usr/local/lib/python3.7/dist-packages (from statsmodels) (0.5.2)\n",
            "Requirement already satisfied: pandas>=0.25 in /usr/local/lib/python3.7/dist-packages (from statsmodels) (1.3.5)\n",
            "Requirement already satisfied: numpy>=1.17 in /usr/local/lib/python3.7/dist-packages (from statsmodels) (1.21.6)\n",
            "Requirement already satisfied: pyparsing!=3.0.5,>=2.0.2 in /usr/local/lib/python3.7/dist-packages (from packaging>=21.3->statsmodels) (3.0.9)\n",
            "Requirement already satisfied: pytz>=2017.3 in /usr/local/lib/python3.7/dist-packages (from pandas>=0.25->statsmodels) (2022.2.1)\n",
            "Requirement already satisfied: python-dateutil>=2.7.3 in /usr/local/lib/python3.7/dist-packages (from pandas>=0.25->statsmodels) (2.8.2)\n",
            "Requirement already satisfied: six in /usr/local/lib/python3.7/dist-packages (from patsy>=0.5.2->statsmodels) (1.15.0)\n",
            "Installing collected packages: statsmodels\n",
            "  Attempting uninstall: statsmodels\n",
            "    Found existing installation: statsmodels 0.12.2\n",
            "    Uninstalling statsmodels-0.12.2:\n",
            "      Successfully uninstalled statsmodels-0.12.2\n",
            "Successfully installed statsmodels-0.13.2\n"
          ]
        }
      ]
    },
    {
      "cell_type": "code",
      "source": [
        "import os\n",
        "import pandas as pd\n",
        "import numpy as np\n",
        "from sklearn.metrics import r2_score, mean_absolute_error, mean_squared_error\n",
        "from math import sqrt\n",
        "from statsmodels.graphics.gofplots import qqplot\n",
        "import matplotlib.pyplot as plt\n",
        "from pandas.plotting import autocorrelation_plot\n",
        "import scipy.stats\n",
        "from sklearn.linear_model import LinearRegression\n",
        "from statsmodels.graphics.tsaplots import plot_acf, plot_pacf\n",
        "from statsmodels.tsa.ar_model import AutoReg, ar_select_order\n",
        "from statsmodels.tsa.arima.model import ARIMA\n",
        "from statsmodels.tsa.stattools import adfuller\n",
        "from statsmodels.tsa.seasonal import seasonal_decompose\n",
        "from scipy.stats import boxcox\n",
        "import warnings"
      ],
      "metadata": {
        "id": "9ap9hfZeeWRb"
      },
      "execution_count": null,
      "outputs": []
    },
    {
      "cell_type": "markdown",
      "source": [
        "**3. Прочитайте данные по ценам на материал 3 и приведите их к виду, пригодному для дальнейшего анализа (см. пп.1-10 Задания 1).**\n",
        "**2. Убедитесь в том, что Вы работаете с объектом Series, а не DataFrame. Превратить таблицу с одним столбцом целевых значений в объект Series можно с помощью функции squeeze(). Дайте ему название series.**"
      ],
      "metadata": {
        "id": "uuFkLQZ716QJ"
      }
    },
    {
      "cell_type": "code",
      "source": [
        "from google.colab import drive\n",
        "drive.mount('/content/gdrive')"
      ],
      "metadata": {
        "colab": {
          "base_uri": "https://localhost:8080/",
          "height": 346
        },
        "id": "syxAh5ztgJFb",
        "outputId": "6301685b-fba5-4f96-e52e-1fff104e0181"
      },
      "execution_count": null,
      "outputs": [
        {
          "output_type": "error",
          "ename": "MessageError",
          "evalue": "ignored",
          "traceback": [
            "\u001b[0;31m---------------------------------------------------------------------------\u001b[0m",
            "\u001b[0;31mMessageError\u001b[0m                              Traceback (most recent call last)",
            "\u001b[0;32m<ipython-input-1-4996ee3d8d09>\u001b[0m in \u001b[0;36m<module>\u001b[0;34m\u001b[0m\n\u001b[1;32m      1\u001b[0m \u001b[0;32mfrom\u001b[0m \u001b[0mgoogle\u001b[0m\u001b[0;34m.\u001b[0m\u001b[0mcolab\u001b[0m \u001b[0;32mimport\u001b[0m \u001b[0mdrive\u001b[0m\u001b[0;34m\u001b[0m\u001b[0;34m\u001b[0m\u001b[0m\n\u001b[0;32m----> 2\u001b[0;31m \u001b[0mdrive\u001b[0m\u001b[0;34m.\u001b[0m\u001b[0mmount\u001b[0m\u001b[0;34m(\u001b[0m\u001b[0;34m'/content/gdrive'\u001b[0m\u001b[0;34m)\u001b[0m\u001b[0;34m\u001b[0m\u001b[0;34m\u001b[0m\u001b[0m\n\u001b[0m",
            "\u001b[0;32m/usr/local/lib/python3.7/dist-packages/google/colab/drive.py\u001b[0m in \u001b[0;36mmount\u001b[0;34m(mountpoint, force_remount, timeout_ms)\u001b[0m\n\u001b[1;32m    103\u001b[0m       \u001b[0mforce_remount\u001b[0m\u001b[0;34m=\u001b[0m\u001b[0mforce_remount\u001b[0m\u001b[0;34m,\u001b[0m\u001b[0;34m\u001b[0m\u001b[0;34m\u001b[0m\u001b[0m\n\u001b[1;32m    104\u001b[0m       \u001b[0mtimeout_ms\u001b[0m\u001b[0;34m=\u001b[0m\u001b[0mtimeout_ms\u001b[0m\u001b[0;34m,\u001b[0m\u001b[0;34m\u001b[0m\u001b[0;34m\u001b[0m\u001b[0m\n\u001b[0;32m--> 105\u001b[0;31m       ephemeral=True)\n\u001b[0m\u001b[1;32m    106\u001b[0m \u001b[0;34m\u001b[0m\u001b[0m\n\u001b[1;32m    107\u001b[0m \u001b[0;34m\u001b[0m\u001b[0m\n",
            "\u001b[0;32m/usr/local/lib/python3.7/dist-packages/google/colab/drive.py\u001b[0m in \u001b[0;36m_mount\u001b[0;34m(mountpoint, force_remount, timeout_ms, ephemeral)\u001b[0m\n\u001b[1;32m    118\u001b[0m   \u001b[0;32mif\u001b[0m \u001b[0mephemeral\u001b[0m\u001b[0;34m:\u001b[0m\u001b[0;34m\u001b[0m\u001b[0;34m\u001b[0m\u001b[0m\n\u001b[1;32m    119\u001b[0m     _message.blocking_request(\n\u001b[0;32m--> 120\u001b[0;31m         'request_auth', request={'authType': 'dfs_ephemeral'}, timeout_sec=None)\n\u001b[0m\u001b[1;32m    121\u001b[0m \u001b[0;34m\u001b[0m\u001b[0m\n\u001b[1;32m    122\u001b[0m   \u001b[0mmountpoint\u001b[0m \u001b[0;34m=\u001b[0m \u001b[0m_os\u001b[0m\u001b[0;34m.\u001b[0m\u001b[0mpath\u001b[0m\u001b[0;34m.\u001b[0m\u001b[0mexpanduser\u001b[0m\u001b[0;34m(\u001b[0m\u001b[0mmountpoint\u001b[0m\u001b[0;34m)\u001b[0m\u001b[0;34m\u001b[0m\u001b[0;34m\u001b[0m\u001b[0m\n",
            "\u001b[0;32m/usr/local/lib/python3.7/dist-packages/google/colab/_message.py\u001b[0m in \u001b[0;36mblocking_request\u001b[0;34m(request_type, request, timeout_sec, parent)\u001b[0m\n\u001b[1;32m    169\u001b[0m   request_id = send_request(\n\u001b[1;32m    170\u001b[0m       request_type, request, parent=parent, expect_reply=True)\n\u001b[0;32m--> 171\u001b[0;31m   \u001b[0;32mreturn\u001b[0m \u001b[0mread_reply_from_input\u001b[0m\u001b[0;34m(\u001b[0m\u001b[0mrequest_id\u001b[0m\u001b[0;34m,\u001b[0m \u001b[0mtimeout_sec\u001b[0m\u001b[0;34m)\u001b[0m\u001b[0;34m\u001b[0m\u001b[0;34m\u001b[0m\u001b[0m\n\u001b[0m",
            "\u001b[0;32m/usr/local/lib/python3.7/dist-packages/google/colab/_message.py\u001b[0m in \u001b[0;36mread_reply_from_input\u001b[0;34m(message_id, timeout_sec)\u001b[0m\n\u001b[1;32m    100\u001b[0m         reply.get('colab_msg_id') == message_id):\n\u001b[1;32m    101\u001b[0m       \u001b[0;32mif\u001b[0m \u001b[0;34m'error'\u001b[0m \u001b[0;32min\u001b[0m \u001b[0mreply\u001b[0m\u001b[0;34m:\u001b[0m\u001b[0;34m\u001b[0m\u001b[0;34m\u001b[0m\u001b[0m\n\u001b[0;32m--> 102\u001b[0;31m         \u001b[0;32mraise\u001b[0m \u001b[0mMessageError\u001b[0m\u001b[0;34m(\u001b[0m\u001b[0mreply\u001b[0m\u001b[0;34m[\u001b[0m\u001b[0;34m'error'\u001b[0m\u001b[0;34m]\u001b[0m\u001b[0;34m)\u001b[0m\u001b[0;34m\u001b[0m\u001b[0;34m\u001b[0m\u001b[0m\n\u001b[0m\u001b[1;32m    103\u001b[0m       \u001b[0;32mreturn\u001b[0m \u001b[0mreply\u001b[0m\u001b[0;34m.\u001b[0m\u001b[0mget\u001b[0m\u001b[0;34m(\u001b[0m\u001b[0;34m'data'\u001b[0m\u001b[0;34m,\u001b[0m \u001b[0;32mNone\u001b[0m\u001b[0;34m)\u001b[0m\u001b[0;34m\u001b[0m\u001b[0;34m\u001b[0m\u001b[0m\n\u001b[1;32m    104\u001b[0m \u001b[0;34m\u001b[0m\u001b[0m\n",
            "\u001b[0;31mMessageError\u001b[0m: Error: credential propagation was unsuccessful"
          ]
        }
      ]
    },
    {
      "cell_type": "code",
      "source": [
        "os.chdir('/content/gdrive/MyDrive/Colab Notebooks/PDA-210')"
      ],
      "metadata": {
        "id": "U1_R8-G3gPf7"
      },
      "execution_count": null,
      "outputs": []
    },
    {
      "cell_type": "code",
      "source": [
        "data=pd.read_excel('data.xls', sheet_name='Material 3')\n",
        "data.head()"
      ],
      "metadata": {
        "id": "yILggnMwj9RH"
      },
      "execution_count": null,
      "outputs": []
    },
    {
      "cell_type": "code",
      "source": [
        "dates =data.loc[data.index==0].values[0,2:]\n",
        "val =data.loc[data.index==1].values[0,2:]"
      ],
      "metadata": {
        "id": "U8Ju-IcrkDGU"
      },
      "execution_count": null,
      "outputs": []
    },
    {
      "cell_type": "code",
      "source": [
        "data={'Date':dates,'Value':val}"
      ],
      "metadata": {
        "id": "uxzdckCQk3hY"
      },
      "execution_count": null,
      "outputs": []
    },
    {
      "cell_type": "code",
      "source": [
        "df=pd.DataFrame(data)\n",
        "df.head()"
      ],
      "metadata": {
        "colab": {
          "base_uri": "https://localhost:8080/",
          "height": 206
        },
        "id": "Bio5og8TlJZR",
        "outputId": "7d043317-a526-4add-ac82-740a2d626cd5"
      },
      "execution_count": null,
      "outputs": [
        {
          "output_type": "execute_result",
          "data": {
            "text/plain": [
              "        Date  Value\n",
              "0 2007-01-01  10.07\n",
              "1 2007-02-01  10.04\n",
              "2 2007-03-01  10.05\n",
              "3 2007-04-01  10.05\n",
              "4 2007-05-01  10.03"
            ],
            "text/html": [
              "\n",
              "  <div id=\"df-90dad8c4-392f-4e0d-90cf-371aaae2d64d\">\n",
              "    <div class=\"colab-df-container\">\n",
              "      <div>\n",
              "<style scoped>\n",
              "    .dataframe tbody tr th:only-of-type {\n",
              "        vertical-align: middle;\n",
              "    }\n",
              "\n",
              "    .dataframe tbody tr th {\n",
              "        vertical-align: top;\n",
              "    }\n",
              "\n",
              "    .dataframe thead th {\n",
              "        text-align: right;\n",
              "    }\n",
              "</style>\n",
              "<table border=\"1\" class=\"dataframe\">\n",
              "  <thead>\n",
              "    <tr style=\"text-align: right;\">\n",
              "      <th></th>\n",
              "      <th>Date</th>\n",
              "      <th>Value</th>\n",
              "    </tr>\n",
              "  </thead>\n",
              "  <tbody>\n",
              "    <tr>\n",
              "      <th>0</th>\n",
              "      <td>2007-01-01</td>\n",
              "      <td>10.07</td>\n",
              "    </tr>\n",
              "    <tr>\n",
              "      <th>1</th>\n",
              "      <td>2007-02-01</td>\n",
              "      <td>10.04</td>\n",
              "    </tr>\n",
              "    <tr>\n",
              "      <th>2</th>\n",
              "      <td>2007-03-01</td>\n",
              "      <td>10.05</td>\n",
              "    </tr>\n",
              "    <tr>\n",
              "      <th>3</th>\n",
              "      <td>2007-04-01</td>\n",
              "      <td>10.05</td>\n",
              "    </tr>\n",
              "    <tr>\n",
              "      <th>4</th>\n",
              "      <td>2007-05-01</td>\n",
              "      <td>10.03</td>\n",
              "    </tr>\n",
              "  </tbody>\n",
              "</table>\n",
              "</div>\n",
              "      <button class=\"colab-df-convert\" onclick=\"convertToInteractive('df-90dad8c4-392f-4e0d-90cf-371aaae2d64d')\"\n",
              "              title=\"Convert this dataframe to an interactive table.\"\n",
              "              style=\"display:none;\">\n",
              "        \n",
              "  <svg xmlns=\"http://www.w3.org/2000/svg\" height=\"24px\"viewBox=\"0 0 24 24\"\n",
              "       width=\"24px\">\n",
              "    <path d=\"M0 0h24v24H0V0z\" fill=\"none\"/>\n",
              "    <path d=\"M18.56 5.44l.94 2.06.94-2.06 2.06-.94-2.06-.94-.94-2.06-.94 2.06-2.06.94zm-11 1L8.5 8.5l.94-2.06 2.06-.94-2.06-.94L8.5 2.5l-.94 2.06-2.06.94zm10 10l.94 2.06.94-2.06 2.06-.94-2.06-.94-.94-2.06-.94 2.06-2.06.94z\"/><path d=\"M17.41 7.96l-1.37-1.37c-.4-.4-.92-.59-1.43-.59-.52 0-1.04.2-1.43.59L10.3 9.45l-7.72 7.72c-.78.78-.78 2.05 0 2.83L4 21.41c.39.39.9.59 1.41.59.51 0 1.02-.2 1.41-.59l7.78-7.78 2.81-2.81c.8-.78.8-2.07 0-2.86zM5.41 20L4 18.59l7.72-7.72 1.47 1.35L5.41 20z\"/>\n",
              "  </svg>\n",
              "      </button>\n",
              "      \n",
              "  <style>\n",
              "    .colab-df-container {\n",
              "      display:flex;\n",
              "      flex-wrap:wrap;\n",
              "      gap: 12px;\n",
              "    }\n",
              "\n",
              "    .colab-df-convert {\n",
              "      background-color: #E8F0FE;\n",
              "      border: none;\n",
              "      border-radius: 50%;\n",
              "      cursor: pointer;\n",
              "      display: none;\n",
              "      fill: #1967D2;\n",
              "      height: 32px;\n",
              "      padding: 0 0 0 0;\n",
              "      width: 32px;\n",
              "    }\n",
              "\n",
              "    .colab-df-convert:hover {\n",
              "      background-color: #E2EBFA;\n",
              "      box-shadow: 0px 1px 2px rgba(60, 64, 67, 0.3), 0px 1px 3px 1px rgba(60, 64, 67, 0.15);\n",
              "      fill: #174EA6;\n",
              "    }\n",
              "\n",
              "    [theme=dark] .colab-df-convert {\n",
              "      background-color: #3B4455;\n",
              "      fill: #D2E3FC;\n",
              "    }\n",
              "\n",
              "    [theme=dark] .colab-df-convert:hover {\n",
              "      background-color: #434B5C;\n",
              "      box-shadow: 0px 1px 3px 1px rgba(0, 0, 0, 0.15);\n",
              "      filter: drop-shadow(0px 1px 2px rgba(0, 0, 0, 0.3));\n",
              "      fill: #FFFFFF;\n",
              "    }\n",
              "  </style>\n",
              "\n",
              "      <script>\n",
              "        const buttonEl =\n",
              "          document.querySelector('#df-90dad8c4-392f-4e0d-90cf-371aaae2d64d button.colab-df-convert');\n",
              "        buttonEl.style.display =\n",
              "          google.colab.kernel.accessAllowed ? 'block' : 'none';\n",
              "\n",
              "        async function convertToInteractive(key) {\n",
              "          const element = document.querySelector('#df-90dad8c4-392f-4e0d-90cf-371aaae2d64d');\n",
              "          const dataTable =\n",
              "            await google.colab.kernel.invokeFunction('convertToInteractive',\n",
              "                                                     [key], {});\n",
              "          if (!dataTable) return;\n",
              "\n",
              "          const docLinkHtml = 'Like what you see? Visit the ' +\n",
              "            '<a target=\"_blank\" href=https://colab.research.google.com/notebooks/data_table.ipynb>data table notebook</a>'\n",
              "            + ' to learn more about interactive tables.';\n",
              "          element.innerHTML = '';\n",
              "          dataTable['output_type'] = 'display_data';\n",
              "          await google.colab.output.renderOutput(dataTable, element);\n",
              "          const docLink = document.createElement('div');\n",
              "          docLink.innerHTML = docLinkHtml;\n",
              "          element.appendChild(docLink);\n",
              "        }\n",
              "      </script>\n",
              "    </div>\n",
              "  </div>\n",
              "  "
            ]
          },
          "metadata": {},
          "execution_count": 8
        }
      ]
    },
    {
      "cell_type": "code",
      "source": [
        "df=df.set_index('Date')\n",
        "df.head()"
      ],
      "metadata": {
        "id": "WEFaxDXTlSjZ"
      },
      "execution_count": null,
      "outputs": []
    },
    {
      "cell_type": "code",
      "source": [
        "df.shape"
      ],
      "metadata": {
        "colab": {
          "base_uri": "https://localhost:8080/"
        },
        "id": "wij57Mv8DJRQ",
        "outputId": "fda0c147-961d-405d-8195-3c79d55f1f3e"
      },
      "execution_count": null,
      "outputs": [
        {
          "output_type": "execute_result",
          "data": {
            "text/plain": [
              "(48, 1)"
            ]
          },
          "metadata": {},
          "execution_count": 10
        }
      ]
    },
    {
      "cell_type": "code",
      "source": [
        "df.info()"
      ],
      "metadata": {
        "colab": {
          "base_uri": "https://localhost:8080/"
        },
        "id": "3mB6C2BZlu7f",
        "outputId": "b33be2ae-9fd3-483a-bca5-8f5902fec3e0"
      },
      "execution_count": null,
      "outputs": [
        {
          "output_type": "stream",
          "name": "stdout",
          "text": [
            "<class 'pandas.core.frame.DataFrame'>\n",
            "DatetimeIndex: 48 entries, 2007-01-01 to 2010-12-01\n",
            "Data columns (total 1 columns):\n",
            " #   Column  Non-Null Count  Dtype \n",
            "---  ------  --------------  ----- \n",
            " 0   Value   48 non-null     object\n",
            "dtypes: object(1)\n",
            "memory usage: 768.0+ bytes\n"
          ]
        }
      ]
    },
    {
      "cell_type": "code",
      "source": [
        "df.Value = df.Value.astype(float)"
      ],
      "metadata": {
        "id": "xtp2amqRlzoB"
      },
      "execution_count": null,
      "outputs": []
    },
    {
      "cell_type": "code",
      "source": [
        "df.info()"
      ],
      "metadata": {
        "colab": {
          "base_uri": "https://localhost:8080/"
        },
        "id": "M_UEy39fmE1k",
        "outputId": "e772e486-14a9-4d45-8747-21e01081a324"
      },
      "execution_count": null,
      "outputs": [
        {
          "output_type": "stream",
          "name": "stdout",
          "text": [
            "<class 'pandas.core.frame.DataFrame'>\n",
            "DatetimeIndex: 48 entries, 2007-01-01 to 2010-12-01\n",
            "Data columns (total 1 columns):\n",
            " #   Column  Non-Null Count  Dtype  \n",
            "---  ------  --------------  -----  \n",
            " 0   Value   48 non-null     float64\n",
            "dtypes: float64(1)\n",
            "memory usage: 768.0 bytes\n"
          ]
        }
      ]
    },
    {
      "cell_type": "code",
      "source": [
        "series=df.squeeze()\n",
        "type(series)"
      ],
      "metadata": {
        "colab": {
          "base_uri": "https://localhost:8080/"
        },
        "id": "CLj-YohGbFvs",
        "outputId": "8a8d26d0-a76b-4c6a-e489-becd2cb7fc2f"
      },
      "execution_count": null,
      "outputs": [
        {
          "output_type": "execute_result",
          "data": {
            "text/plain": [
              "pandas.core.series.Series"
            ]
          },
          "metadata": {},
          "execution_count": 14
        }
      ]
    },
    {
      "cell_type": "code",
      "source": [
        "series.plot()\n",
        "plt.show()\n",
        "# сезонности здесь нет, т.к. нет ежегодных колетаний, но тренд есть, ряд не стационарен"
      ],
      "metadata": {
        "colab": {
          "base_uri": "https://localhost:8080/",
          "height": 291
        },
        "id": "zmap0tAtbTx4",
        "outputId": "6dddbce7-2d6c-40d3-e99a-0fa4db0edb24"
      },
      "execution_count": null,
      "outputs": [
        {
          "output_type": "display_data",
          "data": {
            "text/plain": [
              "<Figure size 432x288 with 1 Axes>"
            ],
            "image/png": "[encoded data removed]"
          },
          "metadata": {
            "needs_background": "light"
          }
        }
      ]
    },
    {
      "cell_type": "markdown",
      "source": [
        "**4. Проверьте свою гипотезу с помощью расширенного теста Дики-Фуллера, воспользовавшись функцией adfuller() из модуля statsmodels.tsa.stattools. Прокомментируйте результат.**"
      ],
      "metadata": {
        "id": "k1-_iAyY2VG-"
      }
    },
    {
      "cell_type": "code",
      "source": [
        "adfuller(series)\n",
        "# p-value - это второе число (0.83369), H0(нулевая гипотеза) - рядне не стационарен\n",
        "# p-value > 0.05, поэтому Н0 мы не отвергаем, т.е. ряд не стационарен"
      ],
      "metadata": {
        "colab": {
          "base_uri": "https://localhost:8080/"
        },
        "id": "eB1B5yYdhMsT",
        "outputId": "4b8e77da-5a6d-4b59-9101-d06d3c3ab75a"
      },
      "execution_count": null,
      "outputs": [
        {
          "output_type": "execute_result",
          "data": {
            "text/plain": [
              "(-0.7488118918662352,\n",
              " 0.833697945875383,\n",
              " 1,\n",
              " 46,\n",
              " {'1%': -3.5812576580093696,\n",
              "  '5%': -2.9267849124681518,\n",
              "  '10%': -2.6015409829867675},\n",
              " -186.0406304537649)"
            ]
          },
          "metadata": {},
          "execution_count": 16
        }
      ]
    },
    {
      "cell_type": "markdown",
      "source": [
        "0.83>0.05, поэтому H0 не отвергаем - ряд нестационарный."
      ],
      "metadata": {
        "id": "d4aKuulhhfJ0"
      }
    },
    {
      "cell_type": "markdown",
      "source": [
        "**5. Проведите декомпозицию временного ряда на основе аддитивной модели, воспользовавшись функцией seasonal_decompose() из модуля statsmodels.tsa.seasonal. Результат представьте графически с помощью функций plot() и show() из модуля matplotlib.pyplot.**"
      ],
      "metadata": {
        "id": "TvbppINY5Sf9"
      }
    },
    {
      "cell_type": "code",
      "source": [
        "result=seasonal_decompose(series, model='additive', period=1)"
      ],
      "metadata": {
        "id": "JSyYfiQNhRs6"
      },
      "execution_count": null,
      "outputs": []
    },
    {
      "cell_type": "code",
      "source": [
        "result.plot() # 1.Исходный ряд, 2.Тренд, 3. Сезонность, 4. Ошибка\n",
        "plt.show()"
      ],
      "metadata": {
        "colab": {
          "base_uri": "https://localhost:8080/",
          "height": 297
        },
        "id": "myHrowsUh74j",
        "outputId": "1696e517-8134-4615-fe6b-6008c2395607"
      },
      "execution_count": null,
      "outputs": [
        {
          "output_type": "display_data",
          "data": {
            "text/plain": [
              "<Figure size 432x288 with 4 Axes>"
            ],
            "image/png": "[encoded data removed]"
          },
          "metadata": {
            "needs_background": "light"
          }
        }
      ]
    },
    {
      "cell_type": "markdown",
      "source": [
        "**6. Избавьтесь от тренда во временном ряду путем дифференцирования, в ходе которого строится новый ряд, в котором значение на текущем временном шаге рассчитывается, как разность между исходным наблюдением и наблюдением на предыдущем временном шаге: value(t) = observation(t) - observation(t - 1). Для этого возьмите значения временного ряда, обратившись к параметру values. Создайте список diff, в который поместите разность между исходным наблюдением и наблюдением на предыдущем временном шаге. Результат представьте графически с помощью функций plot() и show() из модуля matplotlib.pyplot. Прокомментируйте полученный результат.**"
      ],
      "metadata": {
        "id": "6dPFzPCe6JNB"
      }
    },
    {
      "cell_type": "code",
      "source": [
        "X=series.values"
      ],
      "metadata": {
        "id": "MXZo2Mwzh-uR"
      },
      "execution_count": null,
      "outputs": []
    },
    {
      "cell_type": "code",
      "source": [
        "diff =list()"
      ],
      "metadata": {
        "id": "oXmoTgkcijxj"
      },
      "execution_count": null,
      "outputs": []
    },
    {
      "cell_type": "code",
      "source": [
        "for i in range(1,len(X)):\n",
        "  value=X[i]-X[i-1]\n",
        "  diff.append(value)"
      ],
      "metadata": {
        "id": "ojGzA84OioAV"
      },
      "execution_count": null,
      "outputs": []
    },
    {
      "cell_type": "code",
      "source": [
        "plt.plot(diff) # ряд уже похож на стационарный, т.е. колебания вдоль горизогтальной оси, тренд ушел\n",
        "plt.show()     # проверим гипотезу о стационарнрсти ряда!!!"
      ],
      "metadata": {
        "colab": {
          "base_uri": "https://localhost:8080/",
          "height": 265
        },
        "id": "DvWZ0nMojDsL",
        "outputId": "a47dcaa9-ff06-4313-e970-c4abb2ddb249"
      },
      "execution_count": null,
      "outputs": [
        {
          "output_type": "display_data",
          "data": {
            "text/plain": [
              "<Figure size 432x288 with 1 Axes>"
            ],
            "image/png": "[encoded data removed]"
          },
          "metadata": {
            "needs_background": "light"
          }
        }
      ]
    },
    {
      "cell_type": "markdown",
      "source": [
        "**7. Проверьте полученный ряд diff на стационарность с помощью расширенного теста Дики-Фуллера, воспользовавшись функцией adfuller() из модуля statsmodels.tsa.stattools. Прокомментируйте результат.**"
      ],
      "metadata": {
        "id": "OFprPm4n7Msi"
      }
    },
    {
      "cell_type": "code",
      "source": [
        "adfuller(diff) # значение p-value оченнь мало, поэтому Н0 о том что ряд не стационарен - отвергаем"
      ],
      "metadata": {
        "colab": {
          "base_uri": "https://localhost:8080/"
        },
        "id": "lTjremCJjH0A",
        "outputId": "7140312c-9611-4ac0-f79b-74be377ee40a"
      },
      "execution_count": null,
      "outputs": [
        {
          "output_type": "execute_result",
          "data": {
            "text/plain": [
              "(-13.364738195818124,\n",
              " 5.34106984458732e-25,\n",
              " 0,\n",
              " 46,\n",
              " {'1%': -3.5812576580093696,\n",
              "  '5%': -2.9267849124681518,\n",
              "  '10%': -2.6015409829867675},\n",
              " -179.75567388655162)"
            ]
          },
          "metadata": {},
          "execution_count": 28
        }
      ]
    },
    {
      "cell_type": "markdown",
      "source": [
        "# **Ряд diff стационарный, d=1.**"
      ],
      "metadata": {
        "id": "HeAEuBaVjmYc"
      }
    },
    {
      "cell_type": "markdown",
      "source": [
        "**8. Если ряд не стационарный найдите вторую разность, путем дифференцирования ряда diff так же, как это описано в п. 6. Проверьте полученный ряд diff2 на стационарность так же, как это описано в п. 7. Если надо, повторите эти шаги. Остановитесь, когда ряд окажется стационарным. Сделайте предположение о d - порядке разности (дискретной производной) в модели ARIMA.**"
      ],
      "metadata": {
        "id": "_EyBTrfK7s-z"
      }
    },
    {
      "cell_type": "code",
      "source": [
        "# т.е. проделываем тоже самое с теми же числами второй раз и трнтий раз, пока модель не станет стационарной"
      ],
      "metadata": {
        "id": "uqRDsLNl8NHy"
      },
      "execution_count": null,
      "outputs": []
    },
    {
      "cell_type": "markdown",
      "source": [
        "**9. На основе стационарного ряда постройте коррелограмму, воспользовавшись функцией autocorrelation_plot() из модуля pandas.plotting и функцией show() из модуля matplotlib.pyplot. Сделайте предположение о p - порядке авторегрессионной составляющей в модели ARIMA.**"
      ],
      "metadata": {
        "id": "AM0DVCax73oO"
      }
    },
    {
      "cell_type": "code",
      "source": [
        "fig, ax = plt.subplots(figsize = (10, 6))\n",
        "\n",
        "autocorrelation_plot(diff, ax = ax, marker = '.')\n",
        "ax.xaxis.set_major_locator(plt.MultipleLocator(1))\n",
        "ax.set_xlim(0, len(diff))\n",
        "\n",
        "plt.show()\n",
        "# сплошная линия -  это уровень значимости одна сотая (0.01)\n",
        "#пунктирная линия -  это уровень значимости пять сотых (0.05)\n",
        "# присутствует автокорреляция при  тау = 1\n",
        "# чаще всего берут уровень значимости 0.05"
      ],
      "metadata": {
        "colab": {
          "base_uri": "https://localhost:8080/",
          "height": 388
        },
        "id": "5h9rTw2ijZu1",
        "outputId": "e5d2cad9-5a48-48bf-bc9a-d128818cf10e"
      },
      "execution_count": null,
      "outputs": [
        {
          "output_type": "display_data",
          "data": {
            "text/plain": [
              "<Figure size 720x432 with 1 Axes>"
            ],
            "image/png": "[encoded data removed]"
          },
          "metadata": {
            "needs_background": "light"
          }
        }
      ]
    },
    {
      "cell_type": "markdown",
      "source": [
        "**10. На основе стационарного ряда постройте коррелограмму, воспользовавшись функцией plot_acf() из модуля statsmodels.graphics.tsaplots и функцией show() из модуля matplotlib.pyplot. Убедитесь в том, что получен такой же результат, что и в п.9.**"
      ],
      "metadata": {
        "id": "R4ByZDoA-NPo"
      }
    },
    {
      "cell_type": "code",
      "source": [
        "# количество лагов взяли 12 (произвольно)"
      ],
      "metadata": {
        "id": "9dVingIk-URT"
      },
      "execution_count": null,
      "outputs": []
    },
    {
      "cell_type": "code",
      "source": [
        "plot_acf(diff, lags=12)\n",
        "plt.show()\n",
        "# автокорреляция наблюдается на шаге 1 и на грани на  шаге 2, поэтому\n",
        "# наша гипотеза p = 1 и 2"
      ],
      "metadata": {
        "colab": {
          "base_uri": "https://localhost:8080/",
          "height": 281
        },
        "id": "GRAE4maXkg87",
        "outputId": "5bfb38b1-d9f0-4e3b-d84a-94c876c85d08"
      },
      "execution_count": null,
      "outputs": [
        {
          "output_type": "display_data",
          "data": {
            "text/plain": [
              "<Figure size 432x288 with 1 Axes>"
            ],
            "image/png": "[encoded data removed]"
          },
          "metadata": {
            "needs_background": "light"
          }
        }
      ]
    },
    {
      "cell_type": "markdown",
      "source": [
        "**11. На основе стационарного ряда постройте частную автокорреляционную функцию, воспользовавшись функцией plot_pacf() из модуля statsmodels.graphics.tsaplots и функцией show() из модуля matplotlib.pyplot. Сделайте предположение о p - порядке авторегрессионной составляющей в модели ARIMA.**"
      ],
      "metadata": {
        "id": "3iTs7Ndd_NnB"
      }
    },
    {
      "cell_type": "code",
      "source": [
        "plot_pacf(diff, lags=12)\n",
        "plt.show()"
      ],
      "metadata": {
        "colab": {
          "base_uri": "https://localhost:8080/",
          "height": 336
        },
        "id": "WLKSelsUk8rb",
        "outputId": "b456e10d-6e5e-4fe5-f9af-46008e6879a2"
      },
      "execution_count": null,
      "outputs": [
        {
          "output_type": "stream",
          "name": "stderr",
          "text": [
            "/usr/local/lib/python3.7/dist-packages/statsmodels/graphics/tsaplots.py:353: FutureWarning: The default method 'yw' can produce PACF values outside of the [-1,1] interval. After 0.13, the default will change tounadjusted Yule-Walker ('ywm'). You can use this method now by setting method='ywm'.\n",
            "  FutureWarning,\n"
          ]
        },
        {
          "output_type": "display_data",
          "data": {
            "text/plain": [
              "<Figure size 432x288 with 1 Axes>"
            ],
            "image/png": "[encoded data removed]"
          },
          "metadata": {
            "needs_background": "light"
          }
        }
      ]
    },
    {
      "cell_type": "markdown",
      "source": [
        "# **Рассмотреть p=1**"
      ],
      "metadata": {
        "id": "YY9SnXBDlEsb"
      }
    },
    {
      "cell_type": "markdown",
      "source": [
        "**12. Рассчитайте максимальную величину лага (max_tau), как 4-ую часть объема выборки. Выведите результат на экран.**"
      ],
      "metadata": {
        "id": "QJKnidwo_gxT"
      }
    },
    {
      "cell_type": "code",
      "source": [
        "max_tau=int(len(diff)/4)\n",
        "max_tau\n",
        "# выходит от одного пикового значения до другого 11 зарубок"
      ],
      "metadata": {
        "colab": {
          "base_uri": "https://localhost:8080/"
        },
        "id": "t45lQFMllBCp",
        "outputId": "7a5df119-9871-4e04-802b-542bfa06057a"
      },
      "execution_count": null,
      "outputs": [
        {
          "output_type": "execute_result",
          "data": {
            "text/plain": [
              "11"
            ]
          },
          "metadata": {},
          "execution_count": 33
        }
      ]
    },
    {
      "cell_type": "markdown",
      "source": [
        "**13. Воспользуйтесь функцией ar_select_order() из модуля statsmodels.tsa.ar_model, чтобы определить оптимальный по критерию BIC порядок авторегрессии для стационарного ряда. Выведите результат на экран.**"
      ],
      "metadata": {
        "id": "-YenIWksAApr"
      }
    },
    {
      "cell_type": "code",
      "source": [
        "modelp=ar_select_order(diff, maxlag=max_tau,old_names=False)"
      ],
      "metadata": {
        "id": "Ihu6_dy-laG4"
      },
      "execution_count": null,
      "outputs": []
    },
    {
      "cell_type": "code",
      "source": [
        "modelp.ar_lags\n",
        "# здесь тоже 1, значит p надо брать p = 1"
      ],
      "metadata": {
        "colab": {
          "base_uri": "https://localhost:8080/"
        },
        "id": "dI4wGYCCltjV",
        "outputId": "b8134ee0-d0ed-4814-c0ec-8546e75c605c"
      },
      "execution_count": null,
      "outputs": [
        {
          "output_type": "execute_result",
          "data": {
            "text/plain": [
              "[1]"
            ]
          },
          "metadata": {},
          "execution_count": 35
        }
      ]
    },
    {
      "cell_type": "markdown",
      "source": [
        "# **это d наверно**"
      ],
      "metadata": {
        "id": "DrXsYv2lEm92"
      }
    },
    {
      "cell_type": "markdown",
      "source": [
        "**14. По стационарному ряду постройте модель авторегрессии, порядок которой определен в п. 13. Способы построения авторегрессия смотрите в задании 7. Предпочтительно воспользоваться функцией AutoReg из модуля statsmodels.tsa.ar_model. Выведите на экран коэффициенты модели, расчетные и фактические значения для тестового набора, показатель качества RMSE и диаграмму с фактическими и расчетными значениями для тестовой выборки. Что Вы можете сказать о качестве построенной модели?**"
      ],
      "metadata": {
        "id": "u04n8Dc2BER5"
      }
    },
    {
      "cell_type": "code",
      "source": [
        "X=diff"
      ],
      "metadata": {
        "id": "Wm09V1fbv29x"
      },
      "execution_count": null,
      "outputs": []
    },
    {
      "cell_type": "code",
      "source": [
        "train, test = X[0:len(X)-12], X[len(X)-12:]"
      ],
      "metadata": {
        "id": "ArazEa53v6MJ"
      },
      "execution_count": null,
      "outputs": []
    },
    {
      "cell_type": "code",
      "source": [
        "model=AutoReg(train, lags=1,old_names=False) # т.е. строим авторегрессию строим первого порядка"
      ],
      "metadata": {
        "id": "zbXuRjwqwYjU"
      },
      "execution_count": null,
      "outputs": []
    },
    {
      "cell_type": "code",
      "source": [
        "model_fit=model.fit()"
      ],
      "metadata": {
        "id": "p-ej7eYCwjdL"
      },
      "execution_count": null,
      "outputs": []
    },
    {
      "cell_type": "code",
      "source": [
        "model_fit.params"
      ],
      "metadata": {
        "colab": {
          "base_uri": "https://localhost:8080/"
        },
        "id": "eZHYA9QKwu3U",
        "outputId": "5720060f-7fd4-45e2-8d0c-2ee67897b5f0"
      },
      "execution_count": null,
      "outputs": [
        {
          "output_type": "execute_result",
          "data": {
            "text/plain": [
              "array([ 0.00478465, -0.58531056])"
            ]
          },
          "metadata": {},
          "execution_count": 40
        }
      ]
    },
    {
      "cell_type": "code",
      "source": [
        "predictions=model_fit.predict(start=len(train), end=len(train)+len(test)-1, dynamic=False)"
      ],
      "metadata": {
        "id": "qSdplDpswxUH"
      },
      "execution_count": null,
      "outputs": []
    },
    {
      "cell_type": "code",
      "source": [
        "for i in range(len(predictions)): # распечатываем прогнозное и фактическое значения\n",
        "  print('predicted=%f, expected=%f' %(predictions[i], test[i]))"
      ],
      "metadata": {
        "colab": {
          "base_uri": "https://localhost:8080/"
        },
        "id": "IbklzemWxXEF",
        "outputId": "0c89d19a-f4f9-415b-c2b7-1854d134161b"
      },
      "execution_count": null,
      "outputs": [
        {
          "output_type": "stream",
          "name": "stdout",
          "text": [
            "predicted=0.010638, expected=0.000000\n",
            "predicted=-0.001442, expected=0.000000\n",
            "predicted=0.005629, expected=0.030000\n",
            "predicted=0.001490, expected=0.000000\n",
            "predicted=0.003912, expected=-0.020000\n",
            "predicted=0.002495, expected=0.010000\n",
            "predicted=0.003324, expected=-0.030000\n",
            "predicted=0.002839, expected=0.020000\n",
            "predicted=0.003123, expected=-0.040000\n",
            "predicted=0.002957, expected=0.020000\n",
            "predicted=0.003054, expected=-0.020000\n",
            "predicted=0.002997, expected=0.030000\n"
          ]
        }
      ]
    },
    {
      "cell_type": "markdown",
      "source": [
        "**15. Ошибки построенной модели можно найти, обратившись к ее параметру resid. Запишите результат в переменную err и выведите его на экран.**"
      ],
      "metadata": {
        "id": "B9HVfT2-BmjX"
      }
    },
    {
      "cell_type": "code",
      "source": [
        "RMSE =sqrt(mean_squared_error(test,predictions))\n",
        "RMSE # похоже, что точная"
      ],
      "metadata": {
        "colab": {
          "base_uri": "https://localhost:8080/"
        },
        "id": "Bh_4W3TEyR5f",
        "outputId": "31796937-fff2-43d0-de1e-edf3b94314b8"
      },
      "execution_count": null,
      "outputs": [
        {
          "output_type": "execute_result",
          "data": {
            "text/plain": [
              "0.022648243235347545"
            ]
          },
          "metadata": {},
          "execution_count": 43
        }
      ]
    },
    {
      "cell_type": "code",
      "source": [
        "plt.plot(test)\n",
        "plt.plot(predictions, color='red')\n",
        "plt.show()"
      ],
      "metadata": {
        "colab": {
          "base_uri": "https://localhost:8080/",
          "height": 265
        },
        "id": "61loHDVeybT3",
        "outputId": "cec842c5-f98b-422e-fc8c-66a5a68c0235"
      },
      "execution_count": null,
      "outputs": [
        {
          "output_type": "display_data",
          "data": {
            "text/plain": [
              "<Figure size 432x288 with 1 Axes>"
            ],
            "image/png": "[encoded data removed]"
          },
          "metadata": {
            "needs_background": "light"
          }
        }
      ]
    },
    {
      "cell_type": "markdown",
      "source": [
        "**16. По ряду ошибок постройте корреляционную и частную автокорреляционную функцию. Воспользуйтесь соответственно функциями plot_acf() и plot_pacf() из модуля statsmodels.graphics.tsaplots и функцией show() из модуля matplotlib.pyplot. Сделайте предположение о q - порядке скользящего среднего в модели ARIMA.**"
      ],
      "metadata": {
        "id": "uN98o__jCfI5"
      }
    },
    {
      "cell_type": "code",
      "source": [
        "err=model_fit.resid\n",
        "err"
      ],
      "metadata": {
        "colab": {
          "base_uri": "https://localhost:8080/"
        },
        "id": "IQFS3SlBnHq0",
        "outputId": "eb7ddd53-f5cb-46fb-e7b0-006d2b4b4e69"
      },
      "execution_count": null,
      "outputs": [
        {
          "output_type": "execute_result",
          "data": {
            "text/plain": [
              "array([-0.01234396,  0.00106846, -0.02478465, -0.01649086,  0.02521535,\n",
              "       -0.01722533, -0.00234396, -0.00307843, -0.03063775, -0.00649086,\n",
              "       -0.01893154,  0.02350914, -0.01137222,  0.00765604, -0.01722533,\n",
              "        0.01765604,  0.02862778,  0.01106846,  0.01106846, -0.02893154,\n",
              "       -0.01234396,  0.03106846,  0.01277467,  0.01521535,  0.01692157,\n",
              "       -0.02893154,  0.01765604, -0.03137222, -0.00405017,  0.02277467,\n",
              "        0.01106846,  0.02106846,  0.00692157, -0.01478465])"
            ]
          },
          "metadata": {},
          "execution_count": 45
        }
      ]
    },
    {
      "cell_type": "code",
      "source": [
        "plot_acf(err,lags=12)\n",
        "plt.show()"
      ],
      "metadata": {
        "colab": {
          "base_uri": "https://localhost:8080/",
          "height": 281
        },
        "id": "uiUxTnHLnOfX",
        "outputId": "55c3c602-2f79-4c84-a208-ca0fa8c6f7f1"
      },
      "execution_count": null,
      "outputs": [
        {
          "output_type": "display_data",
          "data": {
            "text/plain": [
              "<Figure size 432x288 with 1 Axes>"
            ],
            "image/png": "[encoded data removed]"
          },
          "metadata": {
            "needs_background": "light"
          }
        }
      ]
    },
    {
      "cell_type": "code",
      "source": [
        "plot_pacf(err,lags=12)\n",
        "plt.show()"
      ],
      "metadata": {
        "colab": {
          "base_uri": "https://localhost:8080/",
          "height": 336
        },
        "id": "xs0U-Xyrnb9N",
        "outputId": "2bdcf99d-847e-47fe-9aab-542e22394e55"
      },
      "execution_count": null,
      "outputs": [
        {
          "output_type": "stream",
          "name": "stderr",
          "text": [
            "/usr/local/lib/python3.7/dist-packages/statsmodels/graphics/tsaplots.py:353: FutureWarning: The default method 'yw' can produce PACF values outside of the [-1,1] interval. After 0.13, the default will change tounadjusted Yule-Walker ('ywm'). You can use this method now by setting method='ywm'.\n",
            "  FutureWarning,\n"
          ]
        },
        {
          "output_type": "display_data",
          "data": {
            "text/plain": [
              "<Figure size 432x288 with 1 Axes>"
            ],
            "image/png": "[encoded data removed]"
          },
          "metadata": {
            "needs_background": "light"
          }
        }
      ]
    },
    {
      "cell_type": "markdown",
      "source": [
        "# **q=4?**"
      ],
      "metadata": {
        "id": "8e1eek2fnr60"
      }
    },
    {
      "cell_type": "markdown",
      "source": [
        "**17. Воспользуйтесь функцией ar_select_order() из модуля statsmodels.tsa.ar_model, чтобы определить оптимальный по критерию BIC порядок q для ряда ошибок. Прокомментируйте результат.**"
      ],
      "metadata": {
        "id": "6vPknjOwDolo"
      }
    },
    {
      "cell_type": "code",
      "source": [
        "modelq=ar_select_order(err, maxlag=max_tau,old_names=False)"
      ],
      "metadata": {
        "id": "1Dclvr2DnnjS"
      },
      "execution_count": null,
      "outputs": []
    },
    {
      "cell_type": "code",
      "source": [
        "fg = modelq.ar_lags"
      ],
      "metadata": {
        "id": "NT9msIh0n_xD"
      },
      "execution_count": null,
      "outputs": []
    },
    {
      "cell_type": "code",
      "source": [
        "fg"
      ],
      "metadata": {
        "id": "xDqGKtZkLIia"
      },
      "execution_count": null,
      "outputs": []
    },
    {
      "cell_type": "markdown",
      "source": [
        "# **q=0 (он говорит)**"
      ],
      "metadata": {
        "id": "jXniDTXQoEmT"
      }
    },
    {
      "cell_type": "markdown",
      "source": [
        "# **p, d, q = 1, 1, 0 (4)**"
      ],
      "metadata": {
        "id": "cbZbNoUloOYD"
      }
    },
    {
      "cell_type": "markdown",
      "source": [
        "**19. Оцените коэффициенты одной из моделей, воспользовавшись функцией ARIMA() из модуля statsmodels.tsa.arima_model. Обучите ее с помощью функции fit(). Выведите на экран описательные статистики по обученной модели с помощью функции summary(). Посмотрите на ошибки модели, обратившись к параметру resid. Постройте для них линейный график и функцию плотности распределения, воспользовавшись функциями plot() и show() из модуля matplotlib.pyplot. Выведите для ошибок описательные статистики, воспользовавшись функцией describe(). Прокомментируйте результат.**"
      ],
      "metadata": {
        "id": "cDEkMhezGSvA"
      }
    },
    {
      "cell_type": "code",
      "source": [
        "model=ARIMA(series, order=(1,1,0))"
      ],
      "metadata": {
        "colab": {
          "base_uri": "https://localhost:8080/"
        },
        "id": "e6YVZh87oCPv",
        "outputId": "60ff0f02-9ea7-4d0b-ac6a-c57d2cf0fbf7"
      },
      "execution_count": null,
      "outputs": [
        {
          "output_type": "stream",
          "name": "stderr",
          "text": [
            "/usr/local/lib/python3.7/dist-packages/statsmodels/tsa/base/tsa_model.py:471: ValueWarning: No frequency information was provided, so inferred frequency MS will be used.\n",
            "  self._init_dates(dates, freq)\n",
            "/usr/local/lib/python3.7/dist-packages/statsmodels/tsa/base/tsa_model.py:471: ValueWarning: No frequency information was provided, so inferred frequency MS will be used.\n",
            "  self._init_dates(dates, freq)\n",
            "/usr/local/lib/python3.7/dist-packages/statsmodels/tsa/base/tsa_model.py:471: ValueWarning: No frequency information was provided, so inferred frequency MS will be used.\n",
            "  self._init_dates(dates, freq)\n"
          ]
        }
      ]
    },
    {
      "cell_type": "code",
      "source": [
        "model_fit=model.fit()"
      ],
      "metadata": {
        "id": "XGtT6OtapRME"
      },
      "execution_count": null,
      "outputs": []
    },
    {
      "cell_type": "code",
      "source": [
        "print(model_fit.summary())"
      ],
      "metadata": {
        "colab": {
          "base_uri": "https://localhost:8080/"
        },
        "id": "5Jt0EcmRpUMs",
        "outputId": "b3bfc8b4-8657-4f18-98d8-d114811883a3"
      },
      "execution_count": null,
      "outputs": [
        {
          "output_type": "stream",
          "name": "stdout",
          "text": [
            "                               SARIMAX Results                                \n",
            "==============================================================================\n",
            "Dep. Variable:                  Value   No. Observations:                   48\n",
            "Model:                 ARIMA(1, 1, 0)   Log Likelihood                 119.761\n",
            "Date:                Sat, 10 Sep 2022   AIC                           -235.523\n",
            "Time:                        06:54:09   BIC                           -231.822\n",
            "Sample:                    01-01-2007   HQIC                          -234.130\n",
            "                         - 12-01-2010                                         \n",
            "Covariance Type:                  opg                                         \n",
            "==============================================================================\n",
            "                 coef    std err          z      P>|z|      [0.025      0.975]\n",
            "------------------------------------------------------------------------------\n",
            "ar.L1         -0.5944      0.132     -4.513      0.000      -0.853      -0.336\n",
            "sigma2         0.0004      0.000      3.161      0.002       0.000       0.001\n",
            "===================================================================================\n",
            "Ljung-Box (L1) (Q):                   0.01   Jarque-Bera (JB):                 2.82\n",
            "Prob(Q):                              0.90   Prob(JB):                         0.24\n",
            "Heteroskedasticity (H):               1.08   Skew:                             0.04\n",
            "Prob(H) (two-sided):                  0.88   Kurtosis:                         1.80\n",
            "===================================================================================\n",
            "\n",
            "Warnings:\n",
            "[1] Covariance matrix calculated using the outer product of gradients (complex-step).\n"
          ]
        }
      ]
    },
    {
      "cell_type": "code",
      "source": [
        "residuals=pd.DataFrame(model_fit.resid) # вытаскиваем ошибки"
      ],
      "metadata": {
        "id": "eOB3LavcpdMB"
      },
      "execution_count": null,
      "outputs": []
    },
    {
      "cell_type": "code",
      "source": [
        "residuals.plot()\n",
        "plt.show()"
      ],
      "metadata": {
        "colab": {
          "base_uri": "https://localhost:8080/",
          "height": 291
        },
        "id": "9klTKMB6qWUe",
        "outputId": "72731bb8-96bc-47d0-a298-2feef12092fb"
      },
      "execution_count": null,
      "outputs": [
        {
          "output_type": "display_data",
          "data": {
            "text/plain": [
              "<Figure size 432x288 with 1 Axes>"
            ],
            "image/png": "[encoded data removed]"
          },
          "metadata": {
            "needs_background": "light"
          }
        }
      ]
    },
    {
      "cell_type": "code",
      "source": [
        "residuals.plot(kind='kde') # график распределения ошибок\n",
        "plt.show()"
      ],
      "metadata": {
        "colab": {
          "base_uri": "https://localhost:8080/",
          "height": 265
        },
        "id": "-83CJyX4qZL4",
        "outputId": "2b136027-d4fb-413c-a839-f9785827624a"
      },
      "execution_count": null,
      "outputs": [
        {
          "output_type": "display_data",
          "data": {
            "text/plain": [
              "<Figure size 432x288 with 1 Axes>"
            ],
            "image/png": "[encoded data removed]"
          },
          "metadata": {
            "needs_background": "light"
          }
        }
      ]
    },
    {
      "cell_type": "code",
      "source": [
        "residuals.describe()"
      ],
      "metadata": {
        "colab": {
          "base_uri": "https://localhost:8080/",
          "height": 300
        },
        "id": "Yji8Un4PqxeL",
        "outputId": "0e4f7825-7d03-498a-d574-8ab12738db42"
      },
      "execution_count": null,
      "outputs": [
        {
          "output_type": "execute_result",
          "data": {
            "text/plain": [
              "               0\n",
              "count  48.000000\n",
              "mean    0.212077\n",
              "std     1.453265\n",
              "min    -0.030000\n",
              "25%    -0.011958\n",
              "50%     0.001084\n",
              "75%     0.018584\n",
              "max    10.070000"
            ],
            "text/html": [
              "\n",
              "  <div id=\"df-02b923a0-7114-4897-b2ba-fa198c228e51\">\n",
              "    <div class=\"colab-df-container\">\n",
              "      <div>\n",
              "<style scoped>\n",
              "    .dataframe tbody tr th:only-of-type {\n",
              "        vertical-align: middle;\n",
              "    }\n",
              "\n",
              "    .dataframe tbody tr th {\n",
              "        vertical-align: top;\n",
              "    }\n",
              "\n",
              "    .dataframe thead th {\n",
              "        text-align: right;\n",
              "    }\n",
              "</style>\n",
              "<table border=\"1\" class=\"dataframe\">\n",
              "  <thead>\n",
              "    <tr style=\"text-align: right;\">\n",
              "      <th></th>\n",
              "      <th>0</th>\n",
              "    </tr>\n",
              "  </thead>\n",
              "  <tbody>\n",
              "    <tr>\n",
              "      <th>count</th>\n",
              "      <td>48.000000</td>\n",
              "    </tr>\n",
              "    <tr>\n",
              "      <th>mean</th>\n",
              "      <td>0.212077</td>\n",
              "    </tr>\n",
              "    <tr>\n",
              "      <th>std</th>\n",
              "      <td>1.453265</td>\n",
              "    </tr>\n",
              "    <tr>\n",
              "      <th>min</th>\n",
              "      <td>-0.030000</td>\n",
              "    </tr>\n",
              "    <tr>\n",
              "      <th>25%</th>\n",
              "      <td>-0.011958</td>\n",
              "    </tr>\n",
              "    <tr>\n",
              "      <th>50%</th>\n",
              "      <td>0.001084</td>\n",
              "    </tr>\n",
              "    <tr>\n",
              "      <th>75%</th>\n",
              "      <td>0.018584</td>\n",
              "    </tr>\n",
              "    <tr>\n",
              "      <th>max</th>\n",
              "      <td>10.070000</td>\n",
              "    </tr>\n",
              "  </tbody>\n",
              "</table>\n",
              "</div>\n",
              "      <button class=\"colab-df-convert\" onclick=\"convertToInteractive('df-02b923a0-7114-4897-b2ba-fa198c228e51')\"\n",
              "              title=\"Convert this dataframe to an interactive table.\"\n",
              "              style=\"display:none;\">\n",
              "        \n",
              "  <svg xmlns=\"http://www.w3.org/2000/svg\" height=\"24px\"viewBox=\"0 0 24 24\"\n",
              "       width=\"24px\">\n",
              "    <path d=\"M0 0h24v24H0V0z\" fill=\"none\"/>\n",
              "    <path d=\"M18.56 5.44l.94 2.06.94-2.06 2.06-.94-2.06-.94-.94-2.06-.94 2.06-2.06.94zm-11 1L8.5 8.5l.94-2.06 2.06-.94-2.06-.94L8.5 2.5l-.94 2.06-2.06.94zm10 10l.94 2.06.94-2.06 2.06-.94-2.06-.94-.94-2.06-.94 2.06-2.06.94z\"/><path d=\"M17.41 7.96l-1.37-1.37c-.4-.4-.92-.59-1.43-.59-.52 0-1.04.2-1.43.59L10.3 9.45l-7.72 7.72c-.78.78-.78 2.05 0 2.83L4 21.41c.39.39.9.59 1.41.59.51 0 1.02-.2 1.41-.59l7.78-7.78 2.81-2.81c.8-.78.8-2.07 0-2.86zM5.41 20L4 18.59l7.72-7.72 1.47 1.35L5.41 20z\"/>\n",
              "  </svg>\n",
              "      </button>\n",
              "      \n",
              "  <style>\n",
              "    .colab-df-container {\n",
              "      display:flex;\n",
              "      flex-wrap:wrap;\n",
              "      gap: 12px;\n",
              "    }\n",
              "\n",
              "    .colab-df-convert {\n",
              "      background-color: #E8F0FE;\n",
              "      border: none;\n",
              "      border-radius: 50%;\n",
              "      cursor: pointer;\n",
              "      display: none;\n",
              "      fill: #1967D2;\n",
              "      height: 32px;\n",
              "      padding: 0 0 0 0;\n",
              "      width: 32px;\n",
              "    }\n",
              "\n",
              "    .colab-df-convert:hover {\n",
              "      background-color: #E2EBFA;\n",
              "      box-shadow: 0px 1px 2px rgba(60, 64, 67, 0.3), 0px 1px 3px 1px rgba(60, 64, 67, 0.15);\n",
              "      fill: #174EA6;\n",
              "    }\n",
              "\n",
              "    [theme=dark] .colab-df-convert {\n",
              "      background-color: #3B4455;\n",
              "      fill: #D2E3FC;\n",
              "    }\n",
              "\n",
              "    [theme=dark] .colab-df-convert:hover {\n",
              "      background-color: #434B5C;\n",
              "      box-shadow: 0px 1px 3px 1px rgba(0, 0, 0, 0.15);\n",
              "      filter: drop-shadow(0px 1px 2px rgba(0, 0, 0, 0.3));\n",
              "      fill: #FFFFFF;\n",
              "    }\n",
              "  </style>\n",
              "\n",
              "      <script>\n",
              "        const buttonEl =\n",
              "          document.querySelector('#df-02b923a0-7114-4897-b2ba-fa198c228e51 button.colab-df-convert');\n",
              "        buttonEl.style.display =\n",
              "          google.colab.kernel.accessAllowed ? 'block' : 'none';\n",
              "\n",
              "        async function convertToInteractive(key) {\n",
              "          const element = document.querySelector('#df-02b923a0-7114-4897-b2ba-fa198c228e51');\n",
              "          const dataTable =\n",
              "            await google.colab.kernel.invokeFunction('convertToInteractive',\n",
              "                                                     [key], {});\n",
              "          if (!dataTable) return;\n",
              "\n",
              "          const docLinkHtml = 'Like what you see? Visit the ' +\n",
              "            '<a target=\"_blank\" href=https://colab.research.google.com/notebooks/data_table.ipynb>data table notebook</a>'\n",
              "            + ' to learn more about interactive tables.';\n",
              "          element.innerHTML = '';\n",
              "          dataTable['output_type'] = 'display_data';\n",
              "          await google.colab.output.renderOutput(dataTable, element);\n",
              "          const docLink = document.createElement('div');\n",
              "          docLink.innerHTML = docLinkHtml;\n",
              "          element.appendChild(docLink);\n",
              "        }\n",
              "      </script>\n",
              "    </div>\n",
              "  </div>\n",
              "  "
            ]
          },
          "metadata": {},
          "execution_count": 59
        }
      ]
    },
    {
      "cell_type": "markdown",
      "source": [
        "**20. Проведите поиск по сетке (Grid Search) оптимальных с точки зрения критерия RMSE параметров p, d, q модели ARIMA. Выведите на экран лучший результат.**"
      ],
      "metadata": {
        "id": "uQPoxVMbIBZv"
      }
    },
    {
      "cell_type": "code",
      "source": [
        "# grid search ARIMA parameters for time series\n",
        "# evaluate an ARIMA model for a given order (p,d,q)\n",
        "def evaluate_arima_model(X, arima_order):\n",
        "\t# prepare training dataset\n",
        "\ttrain_size = int(len(X) * 0.66)\n",
        "\ttrain, test = X[0:train_size], X[train_size:]\n",
        "\thistory = [x for x in train]\n",
        "\t# make predictions\n",
        "\tpredictions = list()\n",
        "\tfor t in range(len(test)):\n",
        "\t\tmodel = ARIMA(history, order=arima_order)\n",
        "\t\tmodel_fit = model.fit(disp=0)\n",
        "\t\tyhat = model_fit.forecast()[0]\n",
        "\t\tpredictions.append(yhat)\n",
        "\t\thistory.append(test[t])\n",
        "\t# calculate out of sample error\n",
        "\trmse = sqrt(mean_squared_error(test, predictions))\n",
        "\treturn rmse\n",
        "\n",
        "# evaluate combinations of p, d and q values for an ARIMA model\n",
        "def evaluate_models(dataset, p_values, d_values, q_values):\n",
        "\tdataset = dataset.astype('float32')\n",
        "\tbest_score, best_cfg = float(\"inf\"), None\n",
        "\tfor p in p_values:\n",
        "\t\tfor d in d_values:\n",
        "\t\t\tfor q in q_values:\n",
        "\t\t\t\torder = (p,d,q)\n",
        "\t\t\t\ttry:\n",
        "\t\t\t\t\trmse = evaluate_arima_model(dataset, order)\n",
        "\t\t\t\t\tif rmse < best_score:\n",
        "\t\t\t\t\t\tbest_score, best_cfg = rmse, order\n",
        "\t\t\t\t\tprint('ARIMA%s RMSE=%.3f' % (order,rmse))\n",
        "\t\t\t\texcept:\n",
        "\t\t\t\t\tcontinue\n",
        "\tprint('Best ARIMA%s RMSE=%.3f' % (best_cfg, best_score))\n",
        "\n",
        "# evaluate parameters\n",
        "p_values = [0, 1, 2, 4, 5]\n",
        "d_values = [0, 1, 2, 3]\n",
        "q_values = [0, 1, 2, 3, 4]\n",
        "warnings.filterwarnings(\"ignore\")\n",
        "evaluate_models(series.values, p_values, d_values, q_values)"
      ],
      "metadata": {
        "colab": {
          "base_uri": "https://localhost:8080/"
        },
        "id": "sfZ3hd5NqzWm",
        "outputId": "baea25c2-07f7-4f5b-90e4-018452cc7df5"
      },
      "execution_count": null,
      "outputs": [
        {
          "output_type": "stream",
          "name": "stdout",
          "text": [
            "Best ARIMANone RMSE=inf\n"
          ]
        }
      ]
    },
    {
      "cell_type": "code",
      "source": [
        "model=ARIMA(series, order=(1,1,4))"
      ],
      "metadata": {
        "id": "jT38vQdRsuOF"
      },
      "execution_count": null,
      "outputs": []
    },
    {
      "cell_type": "code",
      "source": [
        "model_fit=model.fit()"
      ],
      "metadata": {
        "id": "hwPKWTbQsuOL"
      },
      "execution_count": null,
      "outputs": []
    },
    {
      "cell_type": "code",
      "source": [
        "print(model_fit.summary()) #  чем больше  Log Likelihood, тем лучше\n",
        "# P>|z|(хначимы ли коэффициенты), если меньше 0.05, то значимы, это хорошо"
      ],
      "metadata": {
        "colab": {
          "base_uri": "https://localhost:8080/"
        },
        "outputId": "1cfd7ec5-de6b-41a1-b6a8-9cbfb4680bdf",
        "id": "bfuP9clhsuOP"
      },
      "execution_count": null,
      "outputs": [
        {
          "output_type": "stream",
          "name": "stdout",
          "text": [
            "                               SARIMAX Results                                \n",
            "==============================================================================\n",
            "Dep. Variable:                  Value   No. Observations:                   48\n",
            "Model:                 ARIMA(1, 1, 4)   Log Likelihood                 123.348\n",
            "Date:                Sat, 10 Sep 2022   AIC                           -234.696\n",
            "Time:                        06:55:51   BIC                           -223.595\n",
            "Sample:                    01-01-2007   HQIC                          -230.518\n",
            "                         - 12-01-2010                                         \n",
            "Covariance Type:                  opg                                         \n",
            "==============================================================================\n",
            "                 coef    std err          z      P>|z|      [0.025      0.975]\n",
            "------------------------------------------------------------------------------\n",
            "ar.L1          0.6193      0.348      1.781      0.075      -0.062       1.301\n",
            "ma.L1         -1.2607      0.294     -4.290      0.000      -1.837      -0.685\n",
            "ma.L2          0.9621      0.258      3.733      0.000       0.457       1.467\n",
            "ma.L3         -0.8270      0.252     -3.288      0.001      -1.320      -0.334\n",
            "ma.L4          0.4988      0.183      2.728      0.006       0.140       0.857\n",
            "sigma2         0.0003   9.39e-05      3.175      0.001       0.000       0.000\n",
            "===================================================================================\n",
            "Ljung-Box (L1) (Q):                   0.10   Jarque-Bera (JB):                 1.55\n",
            "Prob(Q):                              0.76   Prob(JB):                         0.46\n",
            "Heteroskedasticity (H):               1.09   Skew:                             0.14\n",
            "Prob(H) (two-sided):                  0.87   Kurtosis:                         2.15\n",
            "===================================================================================\n",
            "\n",
            "Warnings:\n",
            "[1] Covariance matrix calculated using the outer product of gradients (complex-step).\n"
          ]
        }
      ]
    },
    {
      "cell_type": "code",
      "source": [
        "residuals=pd.DataFrame(model_fit.resid)"
      ],
      "metadata": {
        "id": "ZLEDOvPJsuOR"
      },
      "execution_count": null,
      "outputs": []
    },
    {
      "cell_type": "code",
      "source": [
        "residuals.plot()\n",
        "plt.show()"
      ],
      "metadata": {
        "colab": {
          "base_uri": "https://localhost:8080/",
          "height": 291
        },
        "outputId": "c58adc8c-1a8d-4af9-cc17-bc738d27a99c",
        "id": "T9SVmVL9suOU"
      },
      "execution_count": null,
      "outputs": [
        {
          "output_type": "display_data",
          "data": {
            "text/plain": [
              "<Figure size 432x288 with 1 Axes>"
            ],
            "image/png": "[encoded data removed]"
          },
          "metadata": {
            "needs_background": "light"
          }
        }
      ]
    },
    {
      "cell_type": "code",
      "source": [
        "residuals.plot(kind='kde')\n",
        "plt.show()"
      ],
      "metadata": {
        "colab": {
          "base_uri": "https://localhost:8080/",
          "height": 265
        },
        "outputId": "a629e8d1-9275-46b2-f13f-4262a5ab5fe6",
        "id": "DwYWUvX7suOW"
      },
      "execution_count": null,
      "outputs": [
        {
          "output_type": "display_data",
          "data": {
            "text/plain": [
              "<Figure size 432x288 with 1 Axes>"
            ],
            "image/png": "[encoded data removed]"
          },
          "metadata": {
            "needs_background": "light"
          }
        }
      ]
    },
    {
      "cell_type": "code",
      "source": [
        "residuals.describe()"
      ],
      "metadata": {
        "colab": {
          "base_uri": "https://localhost:8080/",
          "height": 300
        },
        "outputId": "53750206-d0a9-48c6-c85a-f948aad56105",
        "id": "9cFpFpZ2suOX"
      },
      "execution_count": null,
      "outputs": [
        {
          "output_type": "execute_result",
          "data": {
            "text/plain": [
              "               0\n",
              "count  48.000000\n",
              "mean    0.210759\n",
              "std     1.453444\n",
              "min    -0.034366\n",
              "25%    -0.010378\n",
              "50%    -0.002093\n",
              "75%     0.015341\n",
              "max    10.070000"
            ],
            "text/html": [
              "\n",
              "  <div id=\"df-af932915-898b-43fd-b23e-646e073ff424\">\n",
              "    <div class=\"colab-df-container\">\n",
              "      <div>\n",
              "<style scoped>\n",
              "    .dataframe tbody tr th:only-of-type {\n",
              "        vertical-align: middle;\n",
              "    }\n",
              "\n",
              "    .dataframe tbody tr th {\n",
              "        vertical-align: top;\n",
              "    }\n",
              "\n",
              "    .dataframe thead th {\n",
              "        text-align: right;\n",
              "    }\n",
              "</style>\n",
              "<table border=\"1\" class=\"dataframe\">\n",
              "  <thead>\n",
              "    <tr style=\"text-align: right;\">\n",
              "      <th></th>\n",
              "      <th>0</th>\n",
              "    </tr>\n",
              "  </thead>\n",
              "  <tbody>\n",
              "    <tr>\n",
              "      <th>count</th>\n",
              "      <td>48.000000</td>\n",
              "    </tr>\n",
              "    <tr>\n",
              "      <th>mean</th>\n",
              "      <td>0.210759</td>\n",
              "    </tr>\n",
              "    <tr>\n",
              "      <th>std</th>\n",
              "      <td>1.453444</td>\n",
              "    </tr>\n",
              "    <tr>\n",
              "      <th>min</th>\n",
              "      <td>-0.034366</td>\n",
              "    </tr>\n",
              "    <tr>\n",
              "      <th>25%</th>\n",
              "      <td>-0.010378</td>\n",
              "    </tr>\n",
              "    <tr>\n",
              "      <th>50%</th>\n",
              "      <td>-0.002093</td>\n",
              "    </tr>\n",
              "    <tr>\n",
              "      <th>75%</th>\n",
              "      <td>0.015341</td>\n",
              "    </tr>\n",
              "    <tr>\n",
              "      <th>max</th>\n",
              "      <td>10.070000</td>\n",
              "    </tr>\n",
              "  </tbody>\n",
              "</table>\n",
              "</div>\n",
              "      <button class=\"colab-df-convert\" onclick=\"convertToInteractive('df-af932915-898b-43fd-b23e-646e073ff424')\"\n",
              "              title=\"Convert this dataframe to an interactive table.\"\n",
              "              style=\"display:none;\">\n",
              "        \n",
              "  <svg xmlns=\"http://www.w3.org/2000/svg\" height=\"24px\"viewBox=\"0 0 24 24\"\n",
              "       width=\"24px\">\n",
              "    <path d=\"M0 0h24v24H0V0z\" fill=\"none\"/>\n",
              "    <path d=\"M18.56 5.44l.94 2.06.94-2.06 2.06-.94-2.06-.94-.94-2.06-.94 2.06-2.06.94zm-11 1L8.5 8.5l.94-2.06 2.06-.94-2.06-.94L8.5 2.5l-.94 2.06-2.06.94zm10 10l.94 2.06.94-2.06 2.06-.94-2.06-.94-.94-2.06-.94 2.06-2.06.94z\"/><path d=\"M17.41 7.96l-1.37-1.37c-.4-.4-.92-.59-1.43-.59-.52 0-1.04.2-1.43.59L10.3 9.45l-7.72 7.72c-.78.78-.78 2.05 0 2.83L4 21.41c.39.39.9.59 1.41.59.51 0 1.02-.2 1.41-.59l7.78-7.78 2.81-2.81c.8-.78.8-2.07 0-2.86zM5.41 20L4 18.59l7.72-7.72 1.47 1.35L5.41 20z\"/>\n",
              "  </svg>\n",
              "      </button>\n",
              "      \n",
              "  <style>\n",
              "    .colab-df-container {\n",
              "      display:flex;\n",
              "      flex-wrap:wrap;\n",
              "      gap: 12px;\n",
              "    }\n",
              "\n",
              "    .colab-df-convert {\n",
              "      background-color: #E8F0FE;\n",
              "      border: none;\n",
              "      border-radius: 50%;\n",
              "      cursor: pointer;\n",
              "      display: none;\n",
              "      fill: #1967D2;\n",
              "      height: 32px;\n",
              "      padding: 0 0 0 0;\n",
              "      width: 32px;\n",
              "    }\n",
              "\n",
              "    .colab-df-convert:hover {\n",
              "      background-color: #E2EBFA;\n",
              "      box-shadow: 0px 1px 2px rgba(60, 64, 67, 0.3), 0px 1px 3px 1px rgba(60, 64, 67, 0.15);\n",
              "      fill: #174EA6;\n",
              "    }\n",
              "\n",
              "    [theme=dark] .colab-df-convert {\n",
              "      background-color: #3B4455;\n",
              "      fill: #D2E3FC;\n",
              "    }\n",
              "\n",
              "    [theme=dark] .colab-df-convert:hover {\n",
              "      background-color: #434B5C;\n",
              "      box-shadow: 0px 1px 3px 1px rgba(0, 0, 0, 0.15);\n",
              "      filter: drop-shadow(0px 1px 2px rgba(0, 0, 0, 0.3));\n",
              "      fill: #FFFFFF;\n",
              "    }\n",
              "  </style>\n",
              "\n",
              "      <script>\n",
              "        const buttonEl =\n",
              "          document.querySelector('#df-af932915-898b-43fd-b23e-646e073ff424 button.colab-df-convert');\n",
              "        buttonEl.style.display =\n",
              "          google.colab.kernel.accessAllowed ? 'block' : 'none';\n",
              "\n",
              "        async function convertToInteractive(key) {\n",
              "          const element = document.querySelector('#df-af932915-898b-43fd-b23e-646e073ff424');\n",
              "          const dataTable =\n",
              "            await google.colab.kernel.invokeFunction('convertToInteractive',\n",
              "                                                     [key], {});\n",
              "          if (!dataTable) return;\n",
              "\n",
              "          const docLinkHtml = 'Like what you see? Visit the ' +\n",
              "            '<a target=\"_blank\" href=https://colab.research.google.com/notebooks/data_table.ipynb>data table notebook</a>'\n",
              "            + ' to learn more about interactive tables.';\n",
              "          element.innerHTML = '';\n",
              "          dataTable['output_type'] = 'display_data';\n",
              "          await google.colab.output.renderOutput(dataTable, element);\n",
              "          const docLink = document.createElement('div');\n",
              "          docLink.innerHTML = docLinkHtml;\n",
              "          element.appendChild(docLink);\n",
              "        }\n",
              "      </script>\n",
              "    </div>\n",
              "  </div>\n",
              "  "
            ]
          },
          "metadata": {},
          "execution_count": 67
        }
      ]
    },
    {
      "cell_type": "code",
      "source": [
        "model_fit.forecast(12)"
      ],
      "metadata": {
        "colab": {
          "base_uri": "https://localhost:8080/"
        },
        "id": "t_9dfckgtVl-",
        "outputId": "e2b78447-d5d6-4ca3-f0c9-98a93e80059b"
      },
      "execution_count": null,
      "outputs": [
        {
          "output_type": "execute_result",
          "data": {
            "text/plain": [
              "2011-01-01    10.128888\n",
              "2011-02-01    10.133517\n",
              "2011-03-01    10.120320\n",
              "2011-04-01    10.121392\n",
              "2011-05-01    10.122056\n",
              "2011-06-01    10.122467\n",
              "2011-07-01    10.122721\n",
              "2011-08-01    10.122879\n",
              "2011-09-01    10.122976\n",
              "2011-10-01    10.123037\n",
              "2011-11-01    10.123074\n",
              "2011-12-01    10.123097\n",
              "Freq: MS, Name: predicted_mean, dtype: float64"
            ]
          },
          "metadata": {},
          "execution_count": 68
        }
      ]
    },
    {
      "cell_type": "markdown",
      "source": [
        "# **Прогноз на следующий год:**"
      ],
      "metadata": {
        "id": "29hGMs4bKOy1"
      }
    },
    {
      "cell_type": "code",
      "source": [
        "model_fit.forecast(12)"
      ],
      "metadata": {
        "colab": {
          "base_uri": "https://localhost:8080/"
        },
        "id": "m6x9KOtjKOD2",
        "outputId": "7fbd7bd9-0c61-4ad4-82f4-9eee158fc61d"
      },
      "execution_count": null,
      "outputs": [
        {
          "output_type": "execute_result",
          "data": {
            "text/plain": [
              "2011-01-01    10.128888\n",
              "2011-02-01    10.133517\n",
              "2011-03-01    10.120320\n",
              "2011-04-01    10.121392\n",
              "2011-05-01    10.122056\n",
              "2011-06-01    10.122467\n",
              "2011-07-01    10.122721\n",
              "2011-08-01    10.122879\n",
              "2011-09-01    10.122976\n",
              "2011-10-01    10.123037\n",
              "2011-11-01    10.123074\n",
              "2011-12-01    10.123097\n",
              "Freq: MS, Name: predicted_mean, dtype: float64"
            ]
          },
          "metadata": {},
          "execution_count": 69
        }
      ]
    },
    {
      "cell_type": "code",
      "source": [],
      "metadata": {
        "id": "uFhu-iiyQWPS"
      },
      "execution_count": null,
      "outputs": []
    },
    {
      "cell_type": "code",
      "source": [
        "# Определите p, d и q в диапазоне 0-2\n",
        "p = d = q = range(0, 4)\n",
        "# Сгенерируйте различные комбинации p, q и q\n",
        "pdq = list(itertools.product(p, d, q))\n",
        "# Сгенерируйте комбинации сезонных параметров p, q и q\n",
        "seasonal_pdq = [(x[0], x[1], x[2], 12) for x in list(itertools.product(p, d, q))]\n",
        "print('Examples of parameter combinations for Seasonal ARIMA...')\n",
        "print('SARIMAX: {} x {}'.format(pdq[1], seasonal_pdq[1]))\n",
        "print('SARIMAX: {} x {}'.format(pdq[1], seasonal_pdq[2]))\n",
        "print('SARIMAX: {} x {}'.format(pdq[2], seasonal_pdq[3]))\n",
        "print('SARIMAX: {} x {}'.format(pdq[2], seasonal_pdq[4]))"
      ],
      "metadata": {
        "id": "-xdZRoHZPSoq"
      },
      "execution_count": null,
      "outputs": []
    },
    {
      "cell_type": "code",
      "source": [],
      "metadata": {
        "id": "d8v3exmwPSl2"
      },
      "execution_count": null,
      "outputs": []
    },
    {
      "cell_type": "code",
      "source": [],
      "metadata": {
        "id": "wMkhddi1PSiv"
      },
      "execution_count": null,
      "outputs": []
    },
    {
      "cell_type": "code",
      "source": [],
      "metadata": {
        "id": "gAPlyELMPSgE"
      },
      "execution_count": null,
      "outputs": []
    },
    {
      "cell_type": "code",
      "source": [],
      "metadata": {
        "id": "uuS2wEcXPSdw"
      },
      "execution_count": null,
      "outputs": []
    },
    {
      "cell_type": "code",
      "source": [],
      "metadata": {
        "id": "bGbpFqFwPSak"
      },
      "execution_count": null,
      "outputs": []
    },
    {
      "cell_type": "code",
      "source": [],
      "metadata": {
        "id": "C70OCsf6PSXS"
      },
      "execution_count": null,
      "outputs": []
    },
    {
      "cell_type": "code",
      "source": [],
      "metadata": {
        "id": "Q0LJG5d-PSMo"
      },
      "execution_count": null,
      "outputs": []
    },
    {
      "cell_type": "markdown",
      "source": [
        "# Задание 9"
      ],
      "metadata": {
        "id": "mtTPG3bXyC3e"
      }
    },
    {
      "cell_type": "code",
      "source": [
        "import os\n",
        "import pandas as pd\n",
        "import numpy as np\n",
        "from sklearn.metrics import mean_squared_error\n",
        "from math import sqrt\n",
        "import matplotlib.pyplot as plt\n",
        "from statsmodels.tsa.api import SimpleExpSmoothing\n",
        "from statsmodels.tsa.holtwinters import Holt\n",
        "import scipy\n",
        "from scipy.optimize import differential_evolution, minimize"
      ],
      "metadata": {
        "id": "uV_gYqHFuMN7"
      },
      "execution_count": null,
      "outputs": []
    },
    {
      "cell_type": "code",
      "source": [
        "os.chdir('/content/gdrive/MyDrive/Colab_data/data_TS/')"
      ],
      "metadata": {
        "id": "hxaojw6my-7U",
        "colab": {
          "base_uri": "https://localhost:8080/",
          "height": 171
        },
        "outputId": "9bce80ce-9374-4a6c-fb10-e629e9cc615c"
      },
      "execution_count": null,
      "outputs": [
        {
          "output_type": "error",
          "ename": "FileNotFoundError",
          "evalue": "ignored",
          "traceback": [
            "\u001b[0;31m---------------------------------------------------------------------------\u001b[0m",
            "\u001b[0;31mFileNotFoundError\u001b[0m                         Traceback (most recent call last)",
            "\u001b[0;32m<ipython-input-79-e4786180591e>\u001b[0m in \u001b[0;36m<module>\u001b[0;34m()\u001b[0m\n\u001b[0;32m----> 1\u001b[0;31m \u001b[0mos\u001b[0m\u001b[0;34m.\u001b[0m\u001b[0mchdir\u001b[0m\u001b[0;34m(\u001b[0m\u001b[0;34m'/content/gdrive/MyDrive/Colab_data/data_TS/'\u001b[0m\u001b[0;34m)\u001b[0m\u001b[0;34m\u001b[0m\u001b[0;34m\u001b[0m\u001b[0m\n\u001b[0m",
            "\u001b[0;31mFileNotFoundError\u001b[0m: [Errno 2] No such file or directory: '/content/gdrive/MyDrive/Colab_data/data_TS/'"
          ]
        }
      ]
    },
    {
      "cell_type": "code",
      "source": [
        "data=pd.read_excel('data.xls', sheet_name='Income')\n",
        "data.head()"
      ],
      "metadata": {
        "id": "vO3HqB9-zmRz"
      },
      "execution_count": null,
      "outputs": []
    },
    {
      "cell_type": "code",
      "source": [
        "dates =data.loc[data.index==0].values[0,2:]\n",
        "val =data.loc[data.index==1].values[0,2:]"
      ],
      "metadata": {
        "id": "VGBSdbTrzmR0"
      },
      "execution_count": null,
      "outputs": []
    },
    {
      "cell_type": "code",
      "source": [
        "data={'Date':dates,'Value':val}"
      ],
      "metadata": {
        "id": "LgMdPglszmR1"
      },
      "execution_count": null,
      "outputs": []
    },
    {
      "cell_type": "code",
      "source": [
        "df=pd.DataFrame(data)\n",
        "df.head()"
      ],
      "metadata": {
        "id": "OQr_zWbOzmR2"
      },
      "execution_count": null,
      "outputs": []
    },
    {
      "cell_type": "code",
      "source": [
        "df=df.set_index('Date')\n",
        "df.head()"
      ],
      "metadata": {
        "id": "yuFuvCrozmR3"
      },
      "execution_count": null,
      "outputs": []
    },
    {
      "cell_type": "code",
      "source": [
        "df.info()"
      ],
      "metadata": {
        "id": "7rXkoOjSzmR3"
      },
      "execution_count": null,
      "outputs": []
    },
    {
      "cell_type": "code",
      "source": [
        "df.Value = df.Value.astype(float)"
      ],
      "metadata": {
        "id": "JPD05plEzmR4"
      },
      "execution_count": null,
      "outputs": []
    },
    {
      "cell_type": "code",
      "source": [
        "df.info()"
      ],
      "metadata": {
        "id": "PnteejTozmR5"
      },
      "execution_count": null,
      "outputs": []
    },
    {
      "cell_type": "code",
      "source": [
        "alpha=0.99"
      ],
      "metadata": {
        "id": "D1SqjNHzzyx9"
      },
      "execution_count": null,
      "outputs": []
    },
    {
      "cell_type": "code",
      "source": [
        "df['t']=np.array([i for i in range(1,len(df)+1)])"
      ],
      "metadata": {
        "id": "dOZlVo5_0MPy"
      },
      "execution_count": null,
      "outputs": []
    },
    {
      "cell_type": "code",
      "source": [
        "df['v']=np.array([alpha*(1-alpha)**(len(df)-i) for i in range(1,len(df)+1)])"
      ],
      "metadata": {
        "id": "W_8ymgP20cq-"
      },
      "execution_count": null,
      "outputs": []
    },
    {
      "cell_type": "code",
      "source": [
        "b=(np.sum(df['t']*df['v']*df['Value'])-np.sum(df['t']*df['v'])*np.sum(df['Value']*df['v']))/(np.sum(np.power(df['t'],2)*df['v'])-np.power(np.sum(df['t']*df['v']),2))"
      ],
      "metadata": {
        "id": "gUiQHYcn1EdW"
      },
      "execution_count": null,
      "outputs": []
    },
    {
      "cell_type": "code",
      "source": [
        "a=np.sum(df['Value']*df['v'])-b*np.sum(df['t']*df['v'])"
      ],
      "metadata": {
        "id": "FcjwSQ_C2208"
      },
      "execution_count": null,
      "outputs": []
    },
    {
      "cell_type": "code",
      "source": [
        "print(a,b)"
      ],
      "metadata": {
        "id": "Ql5dk-BY3MRO"
      },
      "execution_count": null,
      "outputs": []
    },
    {
      "cell_type": "code",
      "source": [
        "fig, ax = plt.subplots(figsize = (16, 10))\n",
        "\n",
        "ax.plot(df['Value'], label = 'Доходы населения')\n",
        "ax.plot(a + b * pd.Series(np.array([i for i in range(1, len(df) + 13)]), pd.date_range(start='2007-01', end='2011-12', freq = 'MS')), label = 'МНК с дисконтированием', linestyle = '--')\n",
        "\n",
        "ax.grid(which = 'major', axis = 'x', linestyle = '-', linewidth = '0.5', color = 'black')\n",
        "\n",
        "ax.minorticks_on()\n",
        "\n",
        "ax.grid(which = 'minor', axis = 'x', linestyle = ':', linewidth = '0.5', color = 'black')\n",
        "\n",
        "ax.set_axisbelow(True)\n",
        "\n",
        "ax.legend()\n",
        "\n",
        "plt.title('Прогноз на 12 месяцев по модели МНК с дисконтированием')\n",
        "\n",
        "plt.show()"
      ],
      "metadata": {
        "id": "AOFiqVqT3Oir"
      },
      "execution_count": null,
      "outputs": []
    },
    {
      "cell_type": "code",
      "source": [
        "span=10"
      ],
      "metadata": {
        "id": "qwvEfSVf4Yc8"
      },
      "execution_count": null,
      "outputs": []
    },
    {
      "cell_type": "code",
      "source": [
        "alfa=2/(span+1)\n",
        "alfa"
      ],
      "metadata": {
        "id": "_nc_Gnr24ykk"
      },
      "execution_count": null,
      "outputs": []
    },
    {
      "cell_type": "code",
      "source": [
        "ema=df['Value'].ewm(span=span).mean()\n",
        "ema.head()"
      ],
      "metadata": {
        "id": "5YVBshwj4-uG"
      },
      "execution_count": null,
      "outputs": []
    },
    {
      "cell_type": "code",
      "source": [
        "fig, ax = plt.subplots(figsize = (16, 10))\n",
        "\n",
        "ax.plot(df['Value'], label = 'Доходы населения')\n",
        "ax.plot(a + b * pd.Series(np.array([i for i in range(1, len(df) + 13)]), pd.date_range(start='2007-01', end='2011-12', freq = 'MS')), label = 'МНК с дисконтированием', linestyle = '--')\n",
        "ax.plot(ema,label='Модель Брауна (модель экспоненциального сглаживания)')\n",
        "\n",
        "ax.grid(which = 'major', axis = 'x', linestyle = '-', linewidth = '0.5', color = 'black')\n",
        "\n",
        "ax.minorticks_on()\n",
        "\n",
        "ax.grid(which = 'minor', axis = 'x', linestyle = ':', linewidth = '0.5', color = 'black')\n",
        "\n",
        "ax.set_axisbelow(True)\n",
        "\n",
        "ax.legend()\n",
        "\n",
        "plt.title('Прогноз на 12 месяцев по модели МНК с дисконтированием и модели Брауна')\n",
        "\n",
        "plt.show()"
      ],
      "metadata": {
        "id": "lewwlxt55bAI"
      },
      "execution_count": null,
      "outputs": []
    },
    {
      "cell_type": "code",
      "source": [
        "span=3"
      ],
      "metadata": {
        "id": "qke9Atgi6UeV"
      },
      "execution_count": null,
      "outputs": []
    },
    {
      "cell_type": "code",
      "source": [
        "alfa=2/(span+1)\n",
        "alfa"
      ],
      "metadata": {
        "id": "0KvU4D5w6UeW"
      },
      "execution_count": null,
      "outputs": []
    },
    {
      "cell_type": "code",
      "source": [
        "ema=df['Value'].ewm(span=span).mean()\n",
        "ema.head()"
      ],
      "metadata": {
        "id": "DJwXk6Ww6UeX"
      },
      "execution_count": null,
      "outputs": []
    },
    {
      "cell_type": "code",
      "source": [
        "fig, ax = plt.subplots(figsize = (16, 10))\n",
        "\n",
        "ax.plot(df['Value'], label = 'Доходы населения')\n",
        "ax.plot(a + b * pd.Series(np.array([i for i in range(1, len(df) + 13)]), pd.date_range(start='2007-01', end='2011-12', freq = 'MS')), label = 'МНК с дисконтированием', linestyle = '--')\n",
        "ax.plot(ema,label='Модель Брауна (модель экспоненциального сглаживания)')\n",
        "\n",
        "ax.grid(which = 'major', axis = 'x', linestyle = '-', linewidth = '0.5', color = 'black')\n",
        "\n",
        "ax.minorticks_on()\n",
        "\n",
        "ax.grid(which = 'minor', axis = 'x', linestyle = ':', linewidth = '0.5', color = 'black')\n",
        "\n",
        "ax.set_axisbelow(True)\n",
        "\n",
        "ax.legend()\n",
        "\n",
        "plt.title('Прогноз на 12 месяцев по модели МНК с дисконтированием и модели Брауна')\n",
        "\n",
        "plt.show()"
      ],
      "metadata": {
        "id": "RiY4_jMa6UeX"
      },
      "execution_count": null,
      "outputs": []
    },
    {
      "cell_type": "code",
      "source": [
        "model=SimpleExpSmoothing(df['Value'], initialization_method='estimated').fit()"
      ],
      "metadata": {
        "id": "jh0tfAvH61IG"
      },
      "execution_count": null,
      "outputs": []
    },
    {
      "cell_type": "code",
      "source": [
        "model.params_formatted"
      ],
      "metadata": {
        "id": "Vxx9jftF7GUm"
      },
      "execution_count": null,
      "outputs": []
    },
    {
      "cell_type": "code",
      "source": [
        "y_pred=model.fittedvalues\n",
        "y_pred.head()"
      ],
      "metadata": {
        "id": "HzjAibxQ7K5E"
      },
      "execution_count": null,
      "outputs": []
    },
    {
      "cell_type": "code",
      "source": [
        "y=df['Value']\n",
        "y.head()"
      ],
      "metadata": {
        "id": "ALpw-xpY7eBp"
      },
      "execution_count": null,
      "outputs": []
    },
    {
      "cell_type": "code",
      "source": [
        "MSE=mean_squared_error(y, y_pred)\n",
        "MSE"
      ],
      "metadata": {
        "id": "K4Ae0BoI7qJP"
      },
      "execution_count": null,
      "outputs": []
    },
    {
      "cell_type": "code",
      "source": [
        "RMSE=sqrt(MSE)\n",
        "RMSE"
      ],
      "metadata": {
        "id": "eMnYCn5-7yzj"
      },
      "execution_count": null,
      "outputs": []
    },
    {
      "cell_type": "code",
      "source": [
        "model.predict(start=48, end=59)"
      ],
      "metadata": {
        "id": "0MfBgrJ377Nf"
      },
      "execution_count": null,
      "outputs": []
    },
    {
      "cell_type": "code",
      "source": [
        "model.forecast(12)"
      ],
      "metadata": {
        "id": "iqCQ5ddx8Tj1"
      },
      "execution_count": null,
      "outputs": []
    },
    {
      "cell_type": "code",
      "source": [
        "fig, ax = plt.subplots(figsize = (16, 10))\n",
        "\n",
        "ax.plot(df['Value'], label = 'Доходы населения')\n",
        "ax.plot(a + b * pd.Series(np.array([i for i in range(1, len(df) + 13)]), pd.date_range(start='2007-01', end='2011-12', freq = 'MS')), label = 'МНК с дисконтированием', linestyle = '--')\n",
        "ax.plot(ema,label='Модель Брауна (модель экспоненциального сглаживания)')\n",
        "ax.plot(model.predict(start=48, end=59), label='Прогноз по модели Брауна')\n",
        "\n",
        "ax.grid(which = 'major', axis = 'x', linestyle = '-', linewidth = '0.5', color = 'black')\n",
        "\n",
        "ax.minorticks_on()\n",
        "\n",
        "ax.grid(which = 'minor', axis = 'x', linestyle = ':', linewidth = '0.5', color = 'black')\n",
        "\n",
        "ax.set_axisbelow(True)\n",
        "\n",
        "ax.legend()\n",
        "\n",
        "plt.title('Прогноз на 12 месяцев по модели МНК с дисконтированием и модели Брауна')\n",
        "\n",
        "plt.show()"
      ],
      "metadata": {
        "id": "cXIFDFCF8WG8"
      },
      "execution_count": null,
      "outputs": []
    },
    {
      "cell_type": "code",
      "source": [
        "model=Holt(df['Value'], initialization_method=\"estimated\").fit()"
      ],
      "metadata": {
        "id": "ifUhJ35qiiT8"
      },
      "execution_count": null,
      "outputs": []
    },
    {
      "cell_type": "code",
      "source": [
        "y_pred=model.fittedvalues\n",
        "y_pred.head()"
      ],
      "metadata": {
        "id": "vjoKaCQii1qy"
      },
      "execution_count": null,
      "outputs": []
    },
    {
      "cell_type": "code",
      "source": [
        "y=df['Value']\n",
        "y.head()"
      ],
      "metadata": {
        "id": "T5Obm_phjC2i"
      },
      "execution_count": null,
      "outputs": []
    },
    {
      "cell_type": "code",
      "source": [
        "MSE=mean_squared_error(y, y_pred)\n",
        "MSE"
      ],
      "metadata": {
        "id": "4Y_7aVdIjTOf"
      },
      "execution_count": null,
      "outputs": []
    },
    {
      "cell_type": "code",
      "source": [
        "RMSE=sqrt(MSE)\n",
        "RMSE"
      ],
      "metadata": {
        "id": "0cZpF0Fgjcxw"
      },
      "execution_count": null,
      "outputs": []
    },
    {
      "cell_type": "code",
      "source": [
        "model.predict(start=48, end=59)"
      ],
      "metadata": {
        "id": "WKuKefYKjjzE"
      },
      "execution_count": null,
      "outputs": []
    },
    {
      "cell_type": "code",
      "source": [
        "y_new=model.forecast(12)\n",
        "y_new"
      ],
      "metadata": {
        "id": "rUUVnfzkj6lu"
      },
      "execution_count": null,
      "outputs": []
    },
    {
      "cell_type": "code",
      "source": [
        "np.save('income_new.npy',model.forecast(12))"
      ],
      "metadata": {
        "id": "66xtaCTwj9X3"
      },
      "execution_count": null,
      "outputs": []
    },
    {
      "cell_type": "code",
      "source": [
        "fig, ax = plt.subplots(figsize = (16, 10))\n",
        "\n",
        "ax.plot(df['Value'], label = 'Доходы населения')\n",
        "ax.plot(y_pred, label = 'Модель Хольта')\n",
        "ax.plot(model.forecast(12), label = 'Прогноз по модели Хольта')\n",
        "\n",
        "ax.grid(which = 'major', axis = 'x', linestyle = '-', linewidth = '0.5', color = 'black')\n",
        "\n",
        "ax.minorticks_on()\n",
        "\n",
        "ax.grid(which = 'minor', axis = 'x', linestyle = ':', linewidth = '0.5', color = 'black')\n",
        "\n",
        "ax.set_axisbelow(True)\n",
        "\n",
        "ax.legend()\n",
        "\n",
        "plt.title('Прогноз на 12 месяцев по модели Хольта')\n",
        "\n",
        "plt.show()"
      ],
      "metadata": {
        "id": "WbxMFa51kfz-"
      },
      "execution_count": null,
      "outputs": []
    },
    {
      "cell_type": "code",
      "source": [
        "sigma=scipy.stats.sem(y)\n",
        "sigma"
      ],
      "metadata": {
        "id": "TjSi6US8lmVO"
      },
      "execution_count": null,
      "outputs": []
    },
    {
      "cell_type": "code",
      "source": [
        "conf=0.95"
      ],
      "metadata": {
        "id": "Ju38nyMOlym2"
      },
      "execution_count": null,
      "outputs": []
    },
    {
      "cell_type": "code",
      "source": [
        "tstu=scipy.stats.t.ppf((1+conf)/2.,len(y)-1)\n",
        "tstu"
      ],
      "metadata": {
        "id": "W7dH3zpll4gf"
      },
      "execution_count": null,
      "outputs": []
    },
    {
      "cell_type": "code",
      "source": [
        "y_up=y_new+tstu*sigma\n",
        "y_up"
      ],
      "metadata": {
        "id": "cyRp133SmKyU"
      },
      "execution_count": null,
      "outputs": []
    },
    {
      "cell_type": "code",
      "source": [
        "np.save('income_up.npy',y_up)"
      ],
      "metadata": {
        "id": "pfwixdDDmdL2"
      },
      "execution_count": null,
      "outputs": []
    },
    {
      "cell_type": "code",
      "source": [
        "y_down=y_new-tstu*sigma\n",
        "y_down"
      ],
      "metadata": {
        "id": "VCtx6alYmva_"
      },
      "execution_count": null,
      "outputs": []
    },
    {
      "cell_type": "code",
      "source": [
        "np.save('income_down.npy',y_down)"
      ],
      "metadata": {
        "id": "3ILrLMvum08T"
      },
      "execution_count": null,
      "outputs": []
    },
    {
      "cell_type": "code",
      "source": [
        "fig, ax = plt.subplots(figsize = (16, 10))\n",
        "\n",
        "ax.plot(df['Value'], label = 'Доходы населения')\n",
        "ax.plot(y_pred, label = 'Модель Хольта')\n",
        "ax.plot(model.forecast(12), label = 'Прогноз по модели Хольта')\n",
        "ax.plot(y_up, label = 'Верхняя граница прогнозного интервала')\n",
        "ax.plot(y_down, label = 'Нижняя граница прогнозного интервала')\n",
        "\n",
        "ax.grid(which = 'major', axis = 'x', linestyle = '-', linewidth = '0.5', color = 'black')\n",
        "\n",
        "ax.minorticks_on()\n",
        "\n",
        "ax.grid(which = 'minor', axis = 'x', linestyle = ':', linewidth = '0.5', color = 'black')\n",
        "\n",
        "ax.set_axisbelow(True)\n",
        "\n",
        "ax.legend()\n",
        "\n",
        "plt.title('Прогноз на 12 месяцев по модели Хольта')\n",
        "\n",
        "plt.show()"
      ],
      "metadata": {
        "id": "EKcLR8MNnEgn"
      },
      "execution_count": null,
      "outputs": []
    }
  ]
}