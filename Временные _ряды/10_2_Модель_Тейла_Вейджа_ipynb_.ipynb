{
  "nbformat": 4,
  "nbformat_minor": 0,
  "metadata": {
    "colab": {
      "provenance": []
    },
    "kernelspec": {
      "name": "python3",
      "display_name": "Python 3"
    },
    "language_info": {
      "name": "python"
    }
  },
  "cells": [
    {
      "cell_type": "markdown",
      "source": [
        "**Модель Тейла-Вейджа (аддитивная, учитывает тренд и сезонность)**"
      ],
      "metadata": {
        "id": "Z2OJnlxAdwes"
      }
    },
    {
      "cell_type": "code",
      "execution_count": null,
      "metadata": {
        "colab": {
          "base_uri": "https://localhost:8080/"
        },
        "id": "5QuRt4kVnynS",
        "outputId": "8eae55c8-2237-4666-bcf2-86664d176bb2"
      },
      "outputs": [
        {
          "output_type": "stream",
          "name": "stdout",
          "text": [
            "Looking in indexes: https://pypi.org/simple, https://us-python.pkg.dev/colab-wheels/public/simple/\n",
            "Requirement already satisfied: xlrd in /usr/local/lib/python3.7/dist-packages (2.0.1)\n"
          ]
        }
      ],
      "source": [
        "!pip install --upgrade xlrd"
      ]
    },
    {
      "cell_type": "code",
      "source": [
        "!pip install statsmodels --upgrade"
      ],
      "metadata": {
        "colab": {
          "base_uri": "https://localhost:8080/"
        },
        "id": "_HhcFdUaos2J",
        "outputId": "4adb45df-ecc5-48c5-f251-6420da1945c4"
      },
      "execution_count": null,
      "outputs": [
        {
          "output_type": "stream",
          "name": "stdout",
          "text": [
            "Looking in indexes: https://pypi.org/simple, https://us-python.pkg.dev/colab-wheels/public/simple/\n",
            "Requirement already satisfied: statsmodels in /usr/local/lib/python3.7/dist-packages (0.12.2)\n",
            "Collecting statsmodels\n",
            "  Downloading statsmodels-0.13.2-cp37-cp37m-manylinux_2_17_x86_64.manylinux2014_x86_64.whl (9.8 MB)\n",
            "\u001b[K     |████████████████████████████████| 9.8 MB 3.2 MB/s \n",
            "\u001b[?25hRequirement already satisfied: pandas>=0.25 in /usr/local/lib/python3.7/dist-packages (from statsmodels) (1.3.5)\n",
            "Requirement already satisfied: scipy>=1.3 in /usr/local/lib/python3.7/dist-packages (from statsmodels) (1.7.3)\n",
            "Requirement already satisfied: patsy>=0.5.2 in /usr/local/lib/python3.7/dist-packages (from statsmodels) (0.5.2)\n",
            "Requirement already satisfied: numpy>=1.17 in /usr/local/lib/python3.7/dist-packages (from statsmodels) (1.21.6)\n",
            "Requirement already satisfied: packaging>=21.3 in /usr/local/lib/python3.7/dist-packages (from statsmodels) (21.3)\n",
            "Requirement already satisfied: pyparsing!=3.0.5,>=2.0.2 in /usr/local/lib/python3.7/dist-packages (from packaging>=21.3->statsmodels) (3.0.9)\n",
            "Requirement already satisfied: python-dateutil>=2.7.3 in /usr/local/lib/python3.7/dist-packages (from pandas>=0.25->statsmodels) (2.8.2)\n",
            "Requirement already satisfied: pytz>=2017.3 in /usr/local/lib/python3.7/dist-packages (from pandas>=0.25->statsmodels) (2022.2.1)\n",
            "Requirement already satisfied: six in /usr/local/lib/python3.7/dist-packages (from patsy>=0.5.2->statsmodels) (1.15.0)\n",
            "Installing collected packages: statsmodels\n",
            "  Attempting uninstall: statsmodels\n",
            "    Found existing installation: statsmodels 0.12.2\n",
            "    Uninstalling statsmodels-0.12.2:\n",
            "      Successfully uninstalled statsmodels-0.12.2\n",
            "Successfully installed statsmodels-0.13.2\n"
          ]
        }
      ]
    },
    {
      "cell_type": "code",
      "source": [
        "import os\n",
        "import pandas as pd\n",
        "import numpy as np\n",
        "from sklearn.metrics import mean_squared_error\n",
        "from math import sqrt\n",
        "import matplotlib.pyplot as plt\n",
        "from statsmodels.tsa.holtwinters import ExponentialSmoothing\n",
        "from scipy.optimize import differential_evolution, minimize\n",
        "import scipy"
      ],
      "metadata": {
        "id": "ojq_e2vOo2tL"
      },
      "execution_count": null,
      "outputs": []
    },
    {
      "cell_type": "code",
      "source": [
        "from google.colab import drive\n",
        "drive.mount('/content/gdrive')"
      ],
      "metadata": {
        "colab": {
          "base_uri": "https://localhost:8080/"
        },
        "id": "z-6zyz_ep2Fj",
        "outputId": "100788fe-868e-480c-bd04-b03db5f4dec5"
      },
      "execution_count": null,
      "outputs": [
        {
          "output_type": "stream",
          "name": "stdout",
          "text": [
            "Mounted at /content/gdrive\n"
          ]
        }
      ]
    },
    {
      "cell_type": "code",
      "source": [
        "os.chdir('/content/gdrive/MyDrive/Colab Notebooks/PDA-210')"
      ],
      "metadata": {
        "id": "U1_R8-G3gPf7"
      },
      "execution_count": null,
      "outputs": []
    },
    {
      "cell_type": "code",
      "source": [
        "data=pd.read_excel('data.xls', sheet_name='Prices')\n",
        "data.head()"
      ],
      "metadata": {
        "colab": {
          "base_uri": "https://localhost:8080/",
          "height": 332
        },
        "id": "yILggnMwj9RH",
        "outputId": "d4154c04-0801-4efb-934a-cc2ee9cf8574"
      },
      "execution_count": null,
      "outputs": [
        {
          "output_type": "execute_result",
          "data": {
            "text/plain": [
              "      Unnamed: 0  Unnamed: 1 Рыночные цены на продукцию (руб.)  \\\n",
              "0            NaN         NaN               2007-01-01 00:00:00   \n",
              "1  № организации         1.0                             61.75   \n",
              "2            NaN         2.0                             153.4   \n",
              "3            NaN         3.0                            105.94   \n",
              "4            NaN         4.0                            150.03   \n",
              "\n",
              "            Unnamed: 3           Unnamed: 4           Unnamed: 5  \\\n",
              "0  2007-02-01 00:00:00  2007-03-01 00:00:00  2007-04-01 00:00:00   \n",
              "1                58.66                52.67                42.45   \n",
              "2                149.4               144.16               135.57   \n",
              "3               103.88                97.72                88.95   \n",
              "4               155.82               151.17               141.74   \n",
              "\n",
              "            Unnamed: 6           Unnamed: 7           Unnamed: 8  \\\n",
              "0  2007-05-01 00:00:00  2007-06-01 00:00:00  2007-07-01 00:00:00   \n",
              "1                41.96                 39.6                38.81   \n",
              "2               132.99                131.5               130.85   \n",
              "3                87.24                83.96                83.27   \n",
              "4               149.15               146.48               148.33   \n",
              "\n",
              "            Unnamed: 9  ...          Unnamed: 40          Unnamed: 41  \\\n",
              "0  2007-08-01 00:00:00  ...  2010-03-01 00:00:00  2010-04-01 00:00:00   \n",
              "1                55.68  ...                80.53                75.52   \n",
              "2                136.7  ...               171.73               167.74   \n",
              "3                 89.8  ...               126.25               119.78   \n",
              "4               153.19  ...               198.09               194.57   \n",
              "\n",
              "           Unnamed: 42          Unnamed: 43          Unnamed: 44  \\\n",
              "0  2010-05-01 00:00:00  2010-06-01 00:00:00  2010-07-01 00:00:00   \n",
              "1                71.61                65.58                65.41   \n",
              "2               162.16               156.61               158.25   \n",
              "3               115.19               110.53               110.12   \n",
              "4               188.31               184.41               183.69   \n",
              "\n",
              "           Unnamed: 45          Unnamed: 46          Unnamed: 47  \\\n",
              "0  2010-08-01 00:00:00  2010-09-01 00:00:00  2010-10-01 00:00:00   \n",
              "1                67.65                66.87                 71.7   \n",
              "2               160.48               156.98               163.53   \n",
              "3               112.93               111.69               115.19   \n",
              "4               187.48               184.97               189.35   \n",
              "\n",
              "           Unnamed: 48          Unnamed: 49  \n",
              "0  2010-11-01 00:00:00  2010-12-01 00:00:00  \n",
              "1                76.25                82.23  \n",
              "2               168.33               175.26  \n",
              "3                122.9               128.68  \n",
              "4               205.11               210.82  \n",
              "\n",
              "[5 rows x 50 columns]"
            ],
            "text/html": [
              "\n",
              "  <div id=\"df-0eb33d77-f3f8-43ba-8e8a-7de65f0c66c9\">\n",
              "    <div class=\"colab-df-container\">\n",
              "      <div>\n",
              "<style scoped>\n",
              "    .dataframe tbody tr th:only-of-type {\n",
              "        vertical-align: middle;\n",
              "    }\n",
              "\n",
              "    .dataframe tbody tr th {\n",
              "        vertical-align: top;\n",
              "    }\n",
              "\n",
              "    .dataframe thead th {\n",
              "        text-align: right;\n",
              "    }\n",
              "</style>\n",
              "<table border=\"1\" class=\"dataframe\">\n",
              "  <thead>\n",
              "    <tr style=\"text-align: right;\">\n",
              "      <th></th>\n",
              "      <th>Unnamed: 0</th>\n",
              "      <th>Unnamed: 1</th>\n",
              "      <th>Рыночные цены на продукцию (руб.)</th>\n",
              "      <th>Unnamed: 3</th>\n",
              "      <th>Unnamed: 4</th>\n",
              "      <th>Unnamed: 5</th>\n",
              "      <th>Unnamed: 6</th>\n",
              "      <th>Unnamed: 7</th>\n",
              "      <th>Unnamed: 8</th>\n",
              "      <th>Unnamed: 9</th>\n",
              "      <th>...</th>\n",
              "      <th>Unnamed: 40</th>\n",
              "      <th>Unnamed: 41</th>\n",
              "      <th>Unnamed: 42</th>\n",
              "      <th>Unnamed: 43</th>\n",
              "      <th>Unnamed: 44</th>\n",
              "      <th>Unnamed: 45</th>\n",
              "      <th>Unnamed: 46</th>\n",
              "      <th>Unnamed: 47</th>\n",
              "      <th>Unnamed: 48</th>\n",
              "      <th>Unnamed: 49</th>\n",
              "    </tr>\n",
              "  </thead>\n",
              "  <tbody>\n",
              "    <tr>\n",
              "      <th>0</th>\n",
              "      <td>NaN</td>\n",
              "      <td>NaN</td>\n",
              "      <td>2007-01-01 00:00:00</td>\n",
              "      <td>2007-02-01 00:00:00</td>\n",
              "      <td>2007-03-01 00:00:00</td>\n",
              "      <td>2007-04-01 00:00:00</td>\n",
              "      <td>2007-05-01 00:00:00</td>\n",
              "      <td>2007-06-01 00:00:00</td>\n",
              "      <td>2007-07-01 00:00:00</td>\n",
              "      <td>2007-08-01 00:00:00</td>\n",
              "      <td>...</td>\n",
              "      <td>2010-03-01 00:00:00</td>\n",
              "      <td>2010-04-01 00:00:00</td>\n",
              "      <td>2010-05-01 00:00:00</td>\n",
              "      <td>2010-06-01 00:00:00</td>\n",
              "      <td>2010-07-01 00:00:00</td>\n",
              "      <td>2010-08-01 00:00:00</td>\n",
              "      <td>2010-09-01 00:00:00</td>\n",
              "      <td>2010-10-01 00:00:00</td>\n",
              "      <td>2010-11-01 00:00:00</td>\n",
              "      <td>2010-12-01 00:00:00</td>\n",
              "    </tr>\n",
              "    <tr>\n",
              "      <th>1</th>\n",
              "      <td>№ организации</td>\n",
              "      <td>1.0</td>\n",
              "      <td>61.75</td>\n",
              "      <td>58.66</td>\n",
              "      <td>52.67</td>\n",
              "      <td>42.45</td>\n",
              "      <td>41.96</td>\n",
              "      <td>39.6</td>\n",
              "      <td>38.81</td>\n",
              "      <td>55.68</td>\n",
              "      <td>...</td>\n",
              "      <td>80.53</td>\n",
              "      <td>75.52</td>\n",
              "      <td>71.61</td>\n",
              "      <td>65.58</td>\n",
              "      <td>65.41</td>\n",
              "      <td>67.65</td>\n",
              "      <td>66.87</td>\n",
              "      <td>71.7</td>\n",
              "      <td>76.25</td>\n",
              "      <td>82.23</td>\n",
              "    </tr>\n",
              "    <tr>\n",
              "      <th>2</th>\n",
              "      <td>NaN</td>\n",
              "      <td>2.0</td>\n",
              "      <td>153.4</td>\n",
              "      <td>149.4</td>\n",
              "      <td>144.16</td>\n",
              "      <td>135.57</td>\n",
              "      <td>132.99</td>\n",
              "      <td>131.5</td>\n",
              "      <td>130.85</td>\n",
              "      <td>136.7</td>\n",
              "      <td>...</td>\n",
              "      <td>171.73</td>\n",
              "      <td>167.74</td>\n",
              "      <td>162.16</td>\n",
              "      <td>156.61</td>\n",
              "      <td>158.25</td>\n",
              "      <td>160.48</td>\n",
              "      <td>156.98</td>\n",
              "      <td>163.53</td>\n",
              "      <td>168.33</td>\n",
              "      <td>175.26</td>\n",
              "    </tr>\n",
              "    <tr>\n",
              "      <th>3</th>\n",
              "      <td>NaN</td>\n",
              "      <td>3.0</td>\n",
              "      <td>105.94</td>\n",
              "      <td>103.88</td>\n",
              "      <td>97.72</td>\n",
              "      <td>88.95</td>\n",
              "      <td>87.24</td>\n",
              "      <td>83.96</td>\n",
              "      <td>83.27</td>\n",
              "      <td>89.8</td>\n",
              "      <td>...</td>\n",
              "      <td>126.25</td>\n",
              "      <td>119.78</td>\n",
              "      <td>115.19</td>\n",
              "      <td>110.53</td>\n",
              "      <td>110.12</td>\n",
              "      <td>112.93</td>\n",
              "      <td>111.69</td>\n",
              "      <td>115.19</td>\n",
              "      <td>122.9</td>\n",
              "      <td>128.68</td>\n",
              "    </tr>\n",
              "    <tr>\n",
              "      <th>4</th>\n",
              "      <td>NaN</td>\n",
              "      <td>4.0</td>\n",
              "      <td>150.03</td>\n",
              "      <td>155.82</td>\n",
              "      <td>151.17</td>\n",
              "      <td>141.74</td>\n",
              "      <td>149.15</td>\n",
              "      <td>146.48</td>\n",
              "      <td>148.33</td>\n",
              "      <td>153.19</td>\n",
              "      <td>...</td>\n",
              "      <td>198.09</td>\n",
              "      <td>194.57</td>\n",
              "      <td>188.31</td>\n",
              "      <td>184.41</td>\n",
              "      <td>183.69</td>\n",
              "      <td>187.48</td>\n",
              "      <td>184.97</td>\n",
              "      <td>189.35</td>\n",
              "      <td>205.11</td>\n",
              "      <td>210.82</td>\n",
              "    </tr>\n",
              "  </tbody>\n",
              "</table>\n",
              "<p>5 rows × 50 columns</p>\n",
              "</div>\n",
              "      <button class=\"colab-df-convert\" onclick=\"convertToInteractive('df-0eb33d77-f3f8-43ba-8e8a-7de65f0c66c9')\"\n",
              "              title=\"Convert this dataframe to an interactive table.\"\n",
              "              style=\"display:none;\">\n",
              "        \n",
              "  <svg xmlns=\"http://www.w3.org/2000/svg\" height=\"24px\"viewBox=\"0 0 24 24\"\n",
              "       width=\"24px\">\n",
              "    <path d=\"M0 0h24v24H0V0z\" fill=\"none\"/>\n",
              "    <path d=\"M18.56 5.44l.94 2.06.94-2.06 2.06-.94-2.06-.94-.94-2.06-.94 2.06-2.06.94zm-11 1L8.5 8.5l.94-2.06 2.06-.94-2.06-.94L8.5 2.5l-.94 2.06-2.06.94zm10 10l.94 2.06.94-2.06 2.06-.94-2.06-.94-.94-2.06-.94 2.06-2.06.94z\"/><path d=\"M17.41 7.96l-1.37-1.37c-.4-.4-.92-.59-1.43-.59-.52 0-1.04.2-1.43.59L10.3 9.45l-7.72 7.72c-.78.78-.78 2.05 0 2.83L4 21.41c.39.39.9.59 1.41.59.51 0 1.02-.2 1.41-.59l7.78-7.78 2.81-2.81c.8-.78.8-2.07 0-2.86zM5.41 20L4 18.59l7.72-7.72 1.47 1.35L5.41 20z\"/>\n",
              "  </svg>\n",
              "      </button>\n",
              "      \n",
              "  <style>\n",
              "    .colab-df-container {\n",
              "      display:flex;\n",
              "      flex-wrap:wrap;\n",
              "      gap: 12px;\n",
              "    }\n",
              "\n",
              "    .colab-df-convert {\n",
              "      background-color: #E8F0FE;\n",
              "      border: none;\n",
              "      border-radius: 50%;\n",
              "      cursor: pointer;\n",
              "      display: none;\n",
              "      fill: #1967D2;\n",
              "      height: 32px;\n",
              "      padding: 0 0 0 0;\n",
              "      width: 32px;\n",
              "    }\n",
              "\n",
              "    .colab-df-convert:hover {\n",
              "      background-color: #E2EBFA;\n",
              "      box-shadow: 0px 1px 2px rgba(60, 64, 67, 0.3), 0px 1px 3px 1px rgba(60, 64, 67, 0.15);\n",
              "      fill: #174EA6;\n",
              "    }\n",
              "\n",
              "    [theme=dark] .colab-df-convert {\n",
              "      background-color: #3B4455;\n",
              "      fill: #D2E3FC;\n",
              "    }\n",
              "\n",
              "    [theme=dark] .colab-df-convert:hover {\n",
              "      background-color: #434B5C;\n",
              "      box-shadow: 0px 1px 3px 1px rgba(0, 0, 0, 0.15);\n",
              "      filter: drop-shadow(0px 1px 2px rgba(0, 0, 0, 0.3));\n",
              "      fill: #FFFFFF;\n",
              "    }\n",
              "  </style>\n",
              "\n",
              "      <script>\n",
              "        const buttonEl =\n",
              "          document.querySelector('#df-0eb33d77-f3f8-43ba-8e8a-7de65f0c66c9 button.colab-df-convert');\n",
              "        buttonEl.style.display =\n",
              "          google.colab.kernel.accessAllowed ? 'block' : 'none';\n",
              "\n",
              "        async function convertToInteractive(key) {\n",
              "          const element = document.querySelector('#df-0eb33d77-f3f8-43ba-8e8a-7de65f0c66c9');\n",
              "          const dataTable =\n",
              "            await google.colab.kernel.invokeFunction('convertToInteractive',\n",
              "                                                     [key], {});\n",
              "          if (!dataTable) return;\n",
              "\n",
              "          const docLinkHtml = 'Like what you see? Visit the ' +\n",
              "            '<a target=\"_blank\" href=https://colab.research.google.com/notebooks/data_table.ipynb>data table notebook</a>'\n",
              "            + ' to learn more about interactive tables.';\n",
              "          element.innerHTML = '';\n",
              "          dataTable['output_type'] = 'display_data';\n",
              "          await google.colab.output.renderOutput(dataTable, element);\n",
              "          const docLink = document.createElement('div');\n",
              "          docLink.innerHTML = docLinkHtml;\n",
              "          element.appendChild(docLink);\n",
              "        }\n",
              "      </script>\n",
              "    </div>\n",
              "  </div>\n",
              "  "
            ]
          },
          "metadata": {},
          "execution_count": 8
        }
      ]
    },
    {
      "cell_type": "code",
      "source": [
        "dates =data.loc[data.index==0].values[0,2:]\n",
        "val =data.loc[data.index==1].values[0,2:]"
      ],
      "metadata": {
        "id": "U8Ju-IcrkDGU"
      },
      "execution_count": null,
      "outputs": []
    },
    {
      "cell_type": "code",
      "source": [
        "data={'Date':dates,'Value':val}"
      ],
      "metadata": {
        "id": "uxzdckCQk3hY"
      },
      "execution_count": null,
      "outputs": []
    },
    {
      "cell_type": "code",
      "source": [
        "df=pd.DataFrame(data)\n",
        "df.head()"
      ],
      "metadata": {
        "colab": {
          "base_uri": "https://localhost:8080/",
          "height": 206
        },
        "id": "Bio5og8TlJZR",
        "outputId": "d5daf3b1-fb3d-4048-b99b-9b1e0fdd8f9c"
      },
      "execution_count": null,
      "outputs": [
        {
          "output_type": "execute_result",
          "data": {
            "text/plain": [
              "        Date  Value\n",
              "0 2007-01-01  61.75\n",
              "1 2007-02-01  58.66\n",
              "2 2007-03-01  52.67\n",
              "3 2007-04-01  42.45\n",
              "4 2007-05-01  41.96"
            ],
            "text/html": [
              "\n",
              "  <div id=\"df-11fd3b57-0690-4f47-8ee2-63d367c68dd6\">\n",
              "    <div class=\"colab-df-container\">\n",
              "      <div>\n",
              "<style scoped>\n",
              "    .dataframe tbody tr th:only-of-type {\n",
              "        vertical-align: middle;\n",
              "    }\n",
              "\n",
              "    .dataframe tbody tr th {\n",
              "        vertical-align: top;\n",
              "    }\n",
              "\n",
              "    .dataframe thead th {\n",
              "        text-align: right;\n",
              "    }\n",
              "</style>\n",
              "<table border=\"1\" class=\"dataframe\">\n",
              "  <thead>\n",
              "    <tr style=\"text-align: right;\">\n",
              "      <th></th>\n",
              "      <th>Date</th>\n",
              "      <th>Value</th>\n",
              "    </tr>\n",
              "  </thead>\n",
              "  <tbody>\n",
              "    <tr>\n",
              "      <th>0</th>\n",
              "      <td>2007-01-01</td>\n",
              "      <td>61.75</td>\n",
              "    </tr>\n",
              "    <tr>\n",
              "      <th>1</th>\n",
              "      <td>2007-02-01</td>\n",
              "      <td>58.66</td>\n",
              "    </tr>\n",
              "    <tr>\n",
              "      <th>2</th>\n",
              "      <td>2007-03-01</td>\n",
              "      <td>52.67</td>\n",
              "    </tr>\n",
              "    <tr>\n",
              "      <th>3</th>\n",
              "      <td>2007-04-01</td>\n",
              "      <td>42.45</td>\n",
              "    </tr>\n",
              "    <tr>\n",
              "      <th>4</th>\n",
              "      <td>2007-05-01</td>\n",
              "      <td>41.96</td>\n",
              "    </tr>\n",
              "  </tbody>\n",
              "</table>\n",
              "</div>\n",
              "      <button class=\"colab-df-convert\" onclick=\"convertToInteractive('df-11fd3b57-0690-4f47-8ee2-63d367c68dd6')\"\n",
              "              title=\"Convert this dataframe to an interactive table.\"\n",
              "              style=\"display:none;\">\n",
              "        \n",
              "  <svg xmlns=\"http://www.w3.org/2000/svg\" height=\"24px\"viewBox=\"0 0 24 24\"\n",
              "       width=\"24px\">\n",
              "    <path d=\"M0 0h24v24H0V0z\" fill=\"none\"/>\n",
              "    <path d=\"M18.56 5.44l.94 2.06.94-2.06 2.06-.94-2.06-.94-.94-2.06-.94 2.06-2.06.94zm-11 1L8.5 8.5l.94-2.06 2.06-.94-2.06-.94L8.5 2.5l-.94 2.06-2.06.94zm10 10l.94 2.06.94-2.06 2.06-.94-2.06-.94-.94-2.06-.94 2.06-2.06.94z\"/><path d=\"M17.41 7.96l-1.37-1.37c-.4-.4-.92-.59-1.43-.59-.52 0-1.04.2-1.43.59L10.3 9.45l-7.72 7.72c-.78.78-.78 2.05 0 2.83L4 21.41c.39.39.9.59 1.41.59.51 0 1.02-.2 1.41-.59l7.78-7.78 2.81-2.81c.8-.78.8-2.07 0-2.86zM5.41 20L4 18.59l7.72-7.72 1.47 1.35L5.41 20z\"/>\n",
              "  </svg>\n",
              "      </button>\n",
              "      \n",
              "  <style>\n",
              "    .colab-df-container {\n",
              "      display:flex;\n",
              "      flex-wrap:wrap;\n",
              "      gap: 12px;\n",
              "    }\n",
              "\n",
              "    .colab-df-convert {\n",
              "      background-color: #E8F0FE;\n",
              "      border: none;\n",
              "      border-radius: 50%;\n",
              "      cursor: pointer;\n",
              "      display: none;\n",
              "      fill: #1967D2;\n",
              "      height: 32px;\n",
              "      padding: 0 0 0 0;\n",
              "      width: 32px;\n",
              "    }\n",
              "\n",
              "    .colab-df-convert:hover {\n",
              "      background-color: #E2EBFA;\n",
              "      box-shadow: 0px 1px 2px rgba(60, 64, 67, 0.3), 0px 1px 3px 1px rgba(60, 64, 67, 0.15);\n",
              "      fill: #174EA6;\n",
              "    }\n",
              "\n",
              "    [theme=dark] .colab-df-convert {\n",
              "      background-color: #3B4455;\n",
              "      fill: #D2E3FC;\n",
              "    }\n",
              "\n",
              "    [theme=dark] .colab-df-convert:hover {\n",
              "      background-color: #434B5C;\n",
              "      box-shadow: 0px 1px 3px 1px rgba(0, 0, 0, 0.15);\n",
              "      filter: drop-shadow(0px 1px 2px rgba(0, 0, 0, 0.3));\n",
              "      fill: #FFFFFF;\n",
              "    }\n",
              "  </style>\n",
              "\n",
              "      <script>\n",
              "        const buttonEl =\n",
              "          document.querySelector('#df-11fd3b57-0690-4f47-8ee2-63d367c68dd6 button.colab-df-convert');\n",
              "        buttonEl.style.display =\n",
              "          google.colab.kernel.accessAllowed ? 'block' : 'none';\n",
              "\n",
              "        async function convertToInteractive(key) {\n",
              "          const element = document.querySelector('#df-11fd3b57-0690-4f47-8ee2-63d367c68dd6');\n",
              "          const dataTable =\n",
              "            await google.colab.kernel.invokeFunction('convertToInteractive',\n",
              "                                                     [key], {});\n",
              "          if (!dataTable) return;\n",
              "\n",
              "          const docLinkHtml = 'Like what you see? Visit the ' +\n",
              "            '<a target=\"_blank\" href=https://colab.research.google.com/notebooks/data_table.ipynb>data table notebook</a>'\n",
              "            + ' to learn more about interactive tables.';\n",
              "          element.innerHTML = '';\n",
              "          dataTable['output_type'] = 'display_data';\n",
              "          await google.colab.output.renderOutput(dataTable, element);\n",
              "          const docLink = document.createElement('div');\n",
              "          docLink.innerHTML = docLinkHtml;\n",
              "          element.appendChild(docLink);\n",
              "        }\n",
              "      </script>\n",
              "    </div>\n",
              "  </div>\n",
              "  "
            ]
          },
          "metadata": {},
          "execution_count": 11
        }
      ]
    },
    {
      "cell_type": "code",
      "source": [
        "df=df.set_index('Date')\n",
        "df.head()"
      ],
      "metadata": {
        "colab": {
          "base_uri": "https://localhost:8080/",
          "height": 238
        },
        "id": "WEFaxDXTlSjZ",
        "outputId": "5740d3dd-3701-42b5-b1ee-5cd83dd6829e"
      },
      "execution_count": null,
      "outputs": [
        {
          "output_type": "execute_result",
          "data": {
            "text/plain": [
              "            Value\n",
              "Date             \n",
              "2007-01-01  61.75\n",
              "2007-02-01  58.66\n",
              "2007-03-01  52.67\n",
              "2007-04-01  42.45\n",
              "2007-05-01  41.96"
            ],
            "text/html": [
              "\n",
              "  <div id=\"df-07694e40-fea6-4193-8c67-575e63479691\">\n",
              "    <div class=\"colab-df-container\">\n",
              "      <div>\n",
              "<style scoped>\n",
              "    .dataframe tbody tr th:only-of-type {\n",
              "        vertical-align: middle;\n",
              "    }\n",
              "\n",
              "    .dataframe tbody tr th {\n",
              "        vertical-align: top;\n",
              "    }\n",
              "\n",
              "    .dataframe thead th {\n",
              "        text-align: right;\n",
              "    }\n",
              "</style>\n",
              "<table border=\"1\" class=\"dataframe\">\n",
              "  <thead>\n",
              "    <tr style=\"text-align: right;\">\n",
              "      <th></th>\n",
              "      <th>Value</th>\n",
              "    </tr>\n",
              "    <tr>\n",
              "      <th>Date</th>\n",
              "      <th></th>\n",
              "    </tr>\n",
              "  </thead>\n",
              "  <tbody>\n",
              "    <tr>\n",
              "      <th>2007-01-01</th>\n",
              "      <td>61.75</td>\n",
              "    </tr>\n",
              "    <tr>\n",
              "      <th>2007-02-01</th>\n",
              "      <td>58.66</td>\n",
              "    </tr>\n",
              "    <tr>\n",
              "      <th>2007-03-01</th>\n",
              "      <td>52.67</td>\n",
              "    </tr>\n",
              "    <tr>\n",
              "      <th>2007-04-01</th>\n",
              "      <td>42.45</td>\n",
              "    </tr>\n",
              "    <tr>\n",
              "      <th>2007-05-01</th>\n",
              "      <td>41.96</td>\n",
              "    </tr>\n",
              "  </tbody>\n",
              "</table>\n",
              "</div>\n",
              "      <button class=\"colab-df-convert\" onclick=\"convertToInteractive('df-07694e40-fea6-4193-8c67-575e63479691')\"\n",
              "              title=\"Convert this dataframe to an interactive table.\"\n",
              "              style=\"display:none;\">\n",
              "        \n",
              "  <svg xmlns=\"http://www.w3.org/2000/svg\" height=\"24px\"viewBox=\"0 0 24 24\"\n",
              "       width=\"24px\">\n",
              "    <path d=\"M0 0h24v24H0V0z\" fill=\"none\"/>\n",
              "    <path d=\"M18.56 5.44l.94 2.06.94-2.06 2.06-.94-2.06-.94-.94-2.06-.94 2.06-2.06.94zm-11 1L8.5 8.5l.94-2.06 2.06-.94-2.06-.94L8.5 2.5l-.94 2.06-2.06.94zm10 10l.94 2.06.94-2.06 2.06-.94-2.06-.94-.94-2.06-.94 2.06-2.06.94z\"/><path d=\"M17.41 7.96l-1.37-1.37c-.4-.4-.92-.59-1.43-.59-.52 0-1.04.2-1.43.59L10.3 9.45l-7.72 7.72c-.78.78-.78 2.05 0 2.83L4 21.41c.39.39.9.59 1.41.59.51 0 1.02-.2 1.41-.59l7.78-7.78 2.81-2.81c.8-.78.8-2.07 0-2.86zM5.41 20L4 18.59l7.72-7.72 1.47 1.35L5.41 20z\"/>\n",
              "  </svg>\n",
              "      </button>\n",
              "      \n",
              "  <style>\n",
              "    .colab-df-container {\n",
              "      display:flex;\n",
              "      flex-wrap:wrap;\n",
              "      gap: 12px;\n",
              "    }\n",
              "\n",
              "    .colab-df-convert {\n",
              "      background-color: #E8F0FE;\n",
              "      border: none;\n",
              "      border-radius: 50%;\n",
              "      cursor: pointer;\n",
              "      display: none;\n",
              "      fill: #1967D2;\n",
              "      height: 32px;\n",
              "      padding: 0 0 0 0;\n",
              "      width: 32px;\n",
              "    }\n",
              "\n",
              "    .colab-df-convert:hover {\n",
              "      background-color: #E2EBFA;\n",
              "      box-shadow: 0px 1px 2px rgba(60, 64, 67, 0.3), 0px 1px 3px 1px rgba(60, 64, 67, 0.15);\n",
              "      fill: #174EA6;\n",
              "    }\n",
              "\n",
              "    [theme=dark] .colab-df-convert {\n",
              "      background-color: #3B4455;\n",
              "      fill: #D2E3FC;\n",
              "    }\n",
              "\n",
              "    [theme=dark] .colab-df-convert:hover {\n",
              "      background-color: #434B5C;\n",
              "      box-shadow: 0px 1px 3px 1px rgba(0, 0, 0, 0.15);\n",
              "      filter: drop-shadow(0px 1px 2px rgba(0, 0, 0, 0.3));\n",
              "      fill: #FFFFFF;\n",
              "    }\n",
              "  </style>\n",
              "\n",
              "      <script>\n",
              "        const buttonEl =\n",
              "          document.querySelector('#df-07694e40-fea6-4193-8c67-575e63479691 button.colab-df-convert');\n",
              "        buttonEl.style.display =\n",
              "          google.colab.kernel.accessAllowed ? 'block' : 'none';\n",
              "\n",
              "        async function convertToInteractive(key) {\n",
              "          const element = document.querySelector('#df-07694e40-fea6-4193-8c67-575e63479691');\n",
              "          const dataTable =\n",
              "            await google.colab.kernel.invokeFunction('convertToInteractive',\n",
              "                                                     [key], {});\n",
              "          if (!dataTable) return;\n",
              "\n",
              "          const docLinkHtml = 'Like what you see? Visit the ' +\n",
              "            '<a target=\"_blank\" href=https://colab.research.google.com/notebooks/data_table.ipynb>data table notebook</a>'\n",
              "            + ' to learn more about interactive tables.';\n",
              "          element.innerHTML = '';\n",
              "          dataTable['output_type'] = 'display_data';\n",
              "          await google.colab.output.renderOutput(dataTable, element);\n",
              "          const docLink = document.createElement('div');\n",
              "          docLink.innerHTML = docLinkHtml;\n",
              "          element.appendChild(docLink);\n",
              "        }\n",
              "      </script>\n",
              "    </div>\n",
              "  </div>\n",
              "  "
            ]
          },
          "metadata": {},
          "execution_count": 12
        }
      ]
    },
    {
      "cell_type": "code",
      "source": [
        "df.info()"
      ],
      "metadata": {
        "id": "3mB6C2BZlu7f"
      },
      "execution_count": null,
      "outputs": []
    },
    {
      "cell_type": "code",
      "source": [
        "df.Value = df.Value.astype(float)"
      ],
      "metadata": {
        "id": "xtp2amqRlzoB"
      },
      "execution_count": null,
      "outputs": []
    },
    {
      "cell_type": "code",
      "source": [
        "df.info()"
      ],
      "metadata": {
        "colab": {
          "base_uri": "https://localhost:8080/"
        },
        "id": "M_UEy39fmE1k",
        "outputId": "827247a6-f63e-42f8-9b26-107db40a2adc"
      },
      "execution_count": null,
      "outputs": [
        {
          "output_type": "stream",
          "name": "stdout",
          "text": [
            "<class 'pandas.core.frame.DataFrame'>\n",
            "DatetimeIndex: 48 entries, 2007-01-01 to 2010-12-01\n",
            "Data columns (total 1 columns):\n",
            " #   Column  Non-Null Count  Dtype  \n",
            "---  ------  --------------  -----  \n",
            " 0   Value   48 non-null     float64\n",
            "dtypes: float64(1)\n",
            "memory usage: 768.0 bytes\n"
          ]
        }
      ]
    },
    {
      "cell_type": "code",
      "source": [
        "model=ExponentialSmoothing(df['Value'],seasonal='multiplicative',initialization_method=\"estimated\").fit()"
      ],
      "metadata": {
        "colab": {
          "base_uri": "https://localhost:8080/"
        },
        "id": "mkSZwHKuqkZW",
        "outputId": "4b6e86de-7e7f-40eb-ab83-0ebcaa5e5f44"
      },
      "execution_count": null,
      "outputs": [
        {
          "output_type": "stream",
          "name": "stderr",
          "text": [
            "/usr/local/lib/python3.7/dist-packages/statsmodels/tsa/base/tsa_model.py:471: ValueWarning: No frequency information was provided, so inferred frequency MS will be used.\n",
            "  self._init_dates(dates, freq)\n"
          ]
        }
      ]
    },
    {
      "cell_type": "code",
      "source": [
        "y_pred=model.fittedvalues\n",
        "y_pred.head()"
      ],
      "metadata": {
        "colab": {
          "base_uri": "https://localhost:8080/"
        },
        "id": "NZ3HOAPjq1Vl",
        "outputId": "63b469f2-dedd-4257-e09c-121004c24729"
      },
      "execution_count": null,
      "outputs": [
        {
          "output_type": "execute_result",
          "data": {
            "text/plain": [
              "Date\n",
              "2007-01-01    61.684373\n",
              "2007-02-01    60.666002\n",
              "2007-03-01    55.188169\n",
              "2007-04-01    49.090046\n",
              "2007-05-01    39.494569\n",
              "dtype: float64"
            ]
          },
          "metadata": {},
          "execution_count": 16
        }
      ]
    },
    {
      "cell_type": "code",
      "source": [
        "y=df['Value']\n",
        "y.head()"
      ],
      "metadata": {
        "colab": {
          "base_uri": "https://localhost:8080/"
        },
        "id": "4heE5qZaq_hS",
        "outputId": "7554f3c0-834d-4668-bbd5-467c7a0e202b"
      },
      "execution_count": null,
      "outputs": [
        {
          "output_type": "execute_result",
          "data": {
            "text/plain": [
              "Date\n",
              "2007-01-01    61.75\n",
              "2007-02-01    58.66\n",
              "2007-03-01    52.67\n",
              "2007-04-01    42.45\n",
              "2007-05-01    41.96\n",
              "Name: Value, dtype: float64"
            ]
          },
          "metadata": {},
          "execution_count": 17
        }
      ]
    },
    {
      "cell_type": "code",
      "source": [
        "MSE=mean_squared_error(y, y_pred)\n",
        "MSE"
      ],
      "metadata": {
        "colab": {
          "base_uri": "https://localhost:8080/"
        },
        "id": "K4Ae0BoI7qJP",
        "outputId": "7ec81a3c-beb7-47b2-ac7a-b4b747b0ff88"
      },
      "execution_count": null,
      "outputs": [
        {
          "output_type": "execute_result",
          "data": {
            "text/plain": [
              "8.328777250270774"
            ]
          },
          "metadata": {},
          "execution_count": 18
        }
      ]
    },
    {
      "cell_type": "code",
      "source": [
        "RMSE=sqrt(MSE)\n",
        "RMSE"
      ],
      "metadata": {
        "colab": {
          "base_uri": "https://localhost:8080/"
        },
        "id": "eMnYCn5-7yzj",
        "outputId": "07496e03-41cf-4401-b122-796ea1077737"
      },
      "execution_count": null,
      "outputs": [
        {
          "output_type": "execute_result",
          "data": {
            "text/plain": [
              "2.885962101322672"
            ]
          },
          "metadata": {},
          "execution_count": 19
        }
      ]
    },
    {
      "cell_type": "code",
      "source": [
        "y_new=model.predict(start=48, end=59)\n",
        "y_new"
      ],
      "metadata": {
        "colab": {
          "base_uri": "https://localhost:8080/"
        },
        "id": "0MfBgrJ377Nf",
        "outputId": "ecd9975c-dc76-4a91-90df-ee29d056d3c5"
      },
      "execution_count": null,
      "outputs": [
        {
          "output_type": "execute_result",
          "data": {
            "text/plain": [
              "2011-01-01    79.363852\n",
              "2011-02-01    77.973308\n",
              "2011-03-01    73.278014\n",
              "2011-04-01    68.192748\n",
              "2011-05-01    63.128282\n",
              "2011-06-01    58.985814\n",
              "2011-07-01    59.495124\n",
              "2011-08-01    65.139421\n",
              "2011-09-01    67.286467\n",
              "2011-10-01    73.898654\n",
              "2011-11-01    77.512462\n",
              "2011-12-01    82.184528\n",
              "Freq: MS, dtype: float64"
            ]
          },
          "metadata": {},
          "execution_count": 20
        }
      ]
    },
    {
      "cell_type": "code",
      "source": [
        "y_new=model.forecast(12)\n",
        "y_new"
      ],
      "metadata": {
        "colab": {
          "base_uri": "https://localhost:8080/"
        },
        "id": "iqCQ5ddx8Tj1",
        "outputId": "52019457-9097-4004-ea15-2a4b82ed0dd7"
      },
      "execution_count": null,
      "outputs": [
        {
          "output_type": "execute_result",
          "data": {
            "text/plain": [
              "2011-01-01    79.363852\n",
              "2011-02-01    77.973308\n",
              "2011-03-01    73.278014\n",
              "2011-04-01    68.192748\n",
              "2011-05-01    63.128282\n",
              "2011-06-01    58.985814\n",
              "2011-07-01    59.495124\n",
              "2011-08-01    65.139421\n",
              "2011-09-01    67.286467\n",
              "2011-10-01    73.898654\n",
              "2011-11-01    77.512462\n",
              "2011-12-01    82.184528\n",
              "Freq: MS, dtype: float64"
            ]
          },
          "metadata": {},
          "execution_count": 21
        }
      ]
    },
    {
      "cell_type": "code",
      "source": [
        "np.save('prices_new.npy',y_new)"
      ],
      "metadata": {
        "id": "i-AtEOuctD4W"
      },
      "execution_count": null,
      "outputs": []
    },
    {
      "cell_type": "code",
      "source": [
        "sigma=scipy.stats.sem(y)\n",
        "sigma"
      ],
      "metadata": {
        "colab": {
          "base_uri": "https://localhost:8080/"
        },
        "id": "TjSi6US8lmVO",
        "outputId": "0379e5e3-63ed-46ab-c7ce-0720826c8b01"
      },
      "execution_count": null,
      "outputs": [
        {
          "output_type": "execute_result",
          "data": {
            "text/plain": [
              "1.585150526992775"
            ]
          },
          "metadata": {},
          "execution_count": 23
        }
      ]
    },
    {
      "cell_type": "code",
      "source": [
        "conf=0.95"
      ],
      "metadata": {
        "id": "Ju38nyMOlym2"
      },
      "execution_count": null,
      "outputs": []
    },
    {
      "cell_type": "code",
      "source": [
        "tstu=scipy.stats.t.ppf((1+conf)/2.,len(y)-1)\n",
        "tstu"
      ],
      "metadata": {
        "colab": {
          "base_uri": "https://localhost:8080/"
        },
        "id": "W7dH3zpll4gf",
        "outputId": "70f2cddb-4840-4ae1-bbe4-5e98816f1f60"
      },
      "execution_count": null,
      "outputs": [
        {
          "output_type": "execute_result",
          "data": {
            "text/plain": [
              "2.0117405104757546"
            ]
          },
          "metadata": {},
          "execution_count": 25
        }
      ]
    },
    {
      "cell_type": "code",
      "source": [
        "y_up=y_new+tstu*sigma\n",
        "y_up"
      ],
      "metadata": {
        "colab": {
          "base_uri": "https://localhost:8080/"
        },
        "id": "cyRp133SmKyU",
        "outputId": "5ee8ea16-66c6-4308-f4eb-e96f43f06011"
      },
      "execution_count": null,
      "outputs": [
        {
          "output_type": "execute_result",
          "data": {
            "text/plain": [
              "2011-01-01    82.552763\n",
              "2011-02-01    81.162219\n",
              "2011-03-01    76.466925\n",
              "2011-04-01    71.381659\n",
              "2011-05-01    66.317194\n",
              "2011-06-01    62.174725\n",
              "2011-07-01    62.684036\n",
              "2011-08-01    68.328333\n",
              "2011-09-01    70.475378\n",
              "2011-10-01    77.087566\n",
              "2011-11-01    80.701373\n",
              "2011-12-01    85.373439\n",
              "Freq: MS, dtype: float64"
            ]
          },
          "metadata": {},
          "execution_count": 26
        }
      ]
    },
    {
      "cell_type": "code",
      "source": [
        "np.save('prices_up.npy',y_up)"
      ],
      "metadata": {
        "id": "pfwixdDDmdL2"
      },
      "execution_count": null,
      "outputs": []
    },
    {
      "cell_type": "code",
      "source": [
        "y_down=y_new-tstu*sigma\n",
        "y_down"
      ],
      "metadata": {
        "colab": {
          "base_uri": "https://localhost:8080/"
        },
        "id": "VCtx6alYmva_",
        "outputId": "1ae37960-b21c-4cdd-d057-bba4008a8214"
      },
      "execution_count": null,
      "outputs": [
        {
          "output_type": "execute_result",
          "data": {
            "text/plain": [
              "2011-01-01    76.174940\n",
              "2011-02-01    74.784396\n",
              "2011-03-01    70.089102\n",
              "2011-04-01    65.003836\n",
              "2011-05-01    59.939371\n",
              "2011-06-01    55.796902\n",
              "2011-07-01    56.306213\n",
              "2011-08-01    61.950510\n",
              "2011-09-01    64.097555\n",
              "2011-10-01    70.709743\n",
              "2011-11-01    74.323550\n",
              "2011-12-01    78.995616\n",
              "Freq: MS, dtype: float64"
            ]
          },
          "metadata": {},
          "execution_count": 28
        }
      ]
    },
    {
      "cell_type": "code",
      "source": [
        "np.save('prices_down.npy',y_down)"
      ],
      "metadata": {
        "id": "3ILrLMvum08T"
      },
      "execution_count": null,
      "outputs": []
    },
    {
      "cell_type": "code",
      "source": [
        "fig, ax = plt.subplots(figsize = (16, 10))\n",
        "\n",
        "ax.plot(df['Value'], label = 'Цена на продукцию')\n",
        "ax.plot(y_pred, label = 'Модель Хольта-Уинтерса')\n",
        "ax.plot(y_new, label = 'Прогноз по модели Хольта-Уинтерса')\n",
        "ax.plot(y_up, label = 'Верхняя граница прогнозного интервала')\n",
        "ax.plot(y_down, label = 'Нижняя граница прогнозного интервала')\n",
        "\n",
        "ax.grid(which = 'major', axis = 'x', linestyle = '-', linewidth = '0.5', color = 'black')\n",
        "\n",
        "ax.minorticks_on()\n",
        "\n",
        "ax.grid(which = 'minor', axis = 'x', linestyle = ':', linewidth = '0.5', color = 'black')\n",
        "\n",
        "ax.set_axisbelow(True)\n",
        "\n",
        "ax.legend()\n",
        "\n",
        "plt.title('Прогноз на 12 месяцев по модели Хольта-Уинтерса')\n",
        "\n",
        "plt.show()"
      ],
      "metadata": {
        "colab": {
          "base_uri": "https://localhost:8080/",
          "height": 607
        },
        "id": "EKcLR8MNnEgn",
        "outputId": "84cf117e-ae52-4cd3-e698-21592ecf4f04"
      },
      "execution_count": null,
      "outputs": [
        {
          "output_type": "display_data",
          "data": {
            "text/plain": [
              "<Figure size 1152x720 with 1 Axes>"
            ],
            "image/png": "[encoded data removed]"
          },
          "metadata": {
            "needs_background": "light"
          }
        }
      ]
    },
    {
      "cell_type": "code",
      "source": [
        "model=ExponentialSmoothing(df['Value'],seasonal='additive',initialization_method=\"estimated\").fit()"
      ],
      "metadata": {
        "colab": {
          "base_uri": "https://localhost:8080/"
        },
        "outputId": "0c294054-d4a7-4736-8e32-4f9f0d33c9c6",
        "id": "M_afpqZpuVa_"
      },
      "execution_count": null,
      "outputs": [
        {
          "output_type": "stream",
          "name": "stderr",
          "text": [
            "/usr/local/lib/python3.7/dist-packages/statsmodels/tsa/base/tsa_model.py:471: ValueWarning: No frequency information was provided, so inferred frequency MS will be used.\n",
            "  self._init_dates(dates, freq)\n"
          ]
        }
      ]
    },
    {
      "cell_type": "code",
      "source": [
        "y_pred=model.fittedvalues\n",
        "y_pred.head()"
      ],
      "metadata": {
        "colab": {
          "base_uri": "https://localhost:8080/"
        },
        "outputId": "d3c7ffc2-d167-4e5b-f515-2ab7dec216f8",
        "id": "aNS6hayquVbC"
      },
      "execution_count": null,
      "outputs": [
        {
          "output_type": "execute_result",
          "data": {
            "text/plain": [
              "Date\n",
              "2007-01-01    61.577323\n",
              "2007-02-01    60.282603\n",
              "2007-03-01    54.208451\n",
              "2007-04-01    47.822938\n",
              "2007-05-01    38.445345\n",
              "dtype: float64"
            ]
          },
          "metadata": {},
          "execution_count": 32
        }
      ]
    },
    {
      "cell_type": "code",
      "source": [
        "y=df['Value']\n",
        "y.head()"
      ],
      "metadata": {
        "colab": {
          "base_uri": "https://localhost:8080/"
        },
        "outputId": "11e71695-2061-43d2-ebb2-941835c29874",
        "id": "dAKdS847uVbD"
      },
      "execution_count": null,
      "outputs": [
        {
          "output_type": "execute_result",
          "data": {
            "text/plain": [
              "Date\n",
              "2007-01-01    61.75\n",
              "2007-02-01    58.66\n",
              "2007-03-01    52.67\n",
              "2007-04-01    42.45\n",
              "2007-05-01    41.96\n",
              "Name: Value, dtype: float64"
            ]
          },
          "metadata": {},
          "execution_count": 33
        }
      ]
    },
    {
      "cell_type": "code",
      "source": [
        "MSE=mean_squared_error(y, y_pred)\n",
        "MSE"
      ],
      "metadata": {
        "colab": {
          "base_uri": "https://localhost:8080/"
        },
        "outputId": "b1ae77f4-3804-4d66-edde-b67c0247d625",
        "id": "T7QL8PC5uVbF"
      },
      "execution_count": null,
      "outputs": [
        {
          "output_type": "execute_result",
          "data": {
            "text/plain": [
              "6.945072785510576"
            ]
          },
          "metadata": {},
          "execution_count": 34
        }
      ]
    },
    {
      "cell_type": "code",
      "source": [
        "RMSE=sqrt(MSE)\n",
        "RMSE"
      ],
      "metadata": {
        "colab": {
          "base_uri": "https://localhost:8080/"
        },
        "outputId": "6bef033d-aaeb-4634-9367-c3b4a6194b11",
        "id": "P_j2-Zy1uVbH"
      },
      "execution_count": null,
      "outputs": [
        {
          "output_type": "execute_result",
          "data": {
            "text/plain": [
              "2.6353506001119804"
            ]
          },
          "metadata": {},
          "execution_count": 35
        }
      ]
    },
    {
      "cell_type": "code",
      "source": [
        "y_new=model.predict(start=48, end=59)\n",
        "y_new"
      ],
      "metadata": {
        "colab": {
          "base_uri": "https://localhost:8080/"
        },
        "outputId": "56e5e404-aab1-4c7f-c1aa-0660bac21545",
        "id": "FYCINsNtuVbI"
      },
      "execution_count": null,
      "outputs": [
        {
          "output_type": "execute_result",
          "data": {
            "text/plain": [
              "2011-01-01    79.143596\n",
              "2011-02-01    77.692631\n",
              "2011-03-01    73.086670\n",
              "2011-04-01    68.093204\n",
              "2011-05-01    63.577243\n",
              "2011-06-01    59.908777\n",
              "2011-07-01    60.205308\n",
              "2011-08-01    66.449347\n",
              "2011-09-01    68.413385\n",
              "2011-10-01    74.522420\n",
              "2011-11-01    77.776455\n",
              "2011-12-01    82.057992\n",
              "Freq: MS, dtype: float64"
            ]
          },
          "metadata": {},
          "execution_count": 36
        }
      ]
    },
    {
      "cell_type": "code",
      "source": [
        "y_new=model.forecast(12)\n",
        "y_new"
      ],
      "metadata": {
        "colab": {
          "base_uri": "https://localhost:8080/"
        },
        "outputId": "3eda7412-e2a5-4ab0-d690-58361ae38e30",
        "id": "YWO985n1uVbK"
      },
      "execution_count": null,
      "outputs": [
        {
          "output_type": "execute_result",
          "data": {
            "text/plain": [
              "2011-01-01    79.143596\n",
              "2011-02-01    77.692631\n",
              "2011-03-01    73.086670\n",
              "2011-04-01    68.093204\n",
              "2011-05-01    63.577243\n",
              "2011-06-01    59.908777\n",
              "2011-07-01    60.205308\n",
              "2011-08-01    66.449347\n",
              "2011-09-01    68.413385\n",
              "2011-10-01    74.522420\n",
              "2011-11-01    77.776455\n",
              "2011-12-01    82.057992\n",
              "Freq: MS, dtype: float64"
            ]
          },
          "metadata": {},
          "execution_count": 37
        }
      ]
    },
    {
      "cell_type": "code",
      "source": [
        "np.save('prices_new.npy',y_new)"
      ],
      "metadata": {
        "id": "N4zPTM0KuVbL"
      },
      "execution_count": null,
      "outputs": []
    },
    {
      "cell_type": "code",
      "source": [
        "sigma=scipy.stats.sem(y)\n",
        "sigma"
      ],
      "metadata": {
        "colab": {
          "base_uri": "https://localhost:8080/"
        },
        "outputId": "64b1b381-05f7-4ebe-8c54-5fcf05434193",
        "id": "bZ3M1fN2uVbM"
      },
      "execution_count": null,
      "outputs": [
        {
          "output_type": "execute_result",
          "data": {
            "text/plain": [
              "1.585150526992775"
            ]
          },
          "metadata": {},
          "execution_count": 39
        }
      ]
    },
    {
      "cell_type": "code",
      "source": [
        "conf=0.95"
      ],
      "metadata": {
        "id": "IRP9W-rquVbO"
      },
      "execution_count": null,
      "outputs": []
    },
    {
      "cell_type": "code",
      "source": [
        "tstu=scipy.stats.t.ppf((1+conf)/2.,len(y)-1)\n",
        "tstu"
      ],
      "metadata": {
        "colab": {
          "base_uri": "https://localhost:8080/"
        },
        "outputId": "19d3fee5-ce13-48ef-fe50-3007a10e8c1d",
        "id": "R9I9fyAKuVbP"
      },
      "execution_count": null,
      "outputs": [
        {
          "output_type": "execute_result",
          "data": {
            "text/plain": [
              "2.0117405104757546"
            ]
          },
          "metadata": {},
          "execution_count": 41
        }
      ]
    },
    {
      "cell_type": "code",
      "source": [
        "y_up=y_new+tstu*sigma\n",
        "y_up"
      ],
      "metadata": {
        "colab": {
          "base_uri": "https://localhost:8080/"
        },
        "outputId": "abc686ca-d41f-4326-fb5c-ffd104c753eb",
        "id": "wZ6d_4ttuVbP"
      },
      "execution_count": null,
      "outputs": [
        {
          "output_type": "execute_result",
          "data": {
            "text/plain": [
              "2011-01-01    82.332508\n",
              "2011-02-01    80.881543\n",
              "2011-03-01    76.275581\n",
              "2011-04-01    71.282116\n",
              "2011-05-01    66.766154\n",
              "2011-06-01    63.097688\n",
              "2011-07-01    63.394220\n",
              "2011-08-01    69.638259\n",
              "2011-09-01    71.602296\n",
              "2011-10-01    77.711332\n",
              "2011-11-01    80.965367\n",
              "2011-12-01    85.246903\n",
              "Freq: MS, dtype: float64"
            ]
          },
          "metadata": {},
          "execution_count": 42
        }
      ]
    },
    {
      "cell_type": "code",
      "source": [
        "np.save('prices_up.npy',y_up)"
      ],
      "metadata": {
        "id": "4d51ZOk1uVbQ"
      },
      "execution_count": null,
      "outputs": []
    },
    {
      "cell_type": "code",
      "source": [
        "y_down=y_new-tstu*sigma\n",
        "y_down"
      ],
      "metadata": {
        "colab": {
          "base_uri": "https://localhost:8080/"
        },
        "outputId": "f185c054-a440-4bc7-9f84-f8ccabd10ffa",
        "id": "bZo8rivruVbU"
      },
      "execution_count": null,
      "outputs": [
        {
          "output_type": "execute_result",
          "data": {
            "text/plain": [
              "2011-01-01    75.954684\n",
              "2011-02-01    74.503720\n",
              "2011-03-01    69.897758\n",
              "2011-04-01    64.904293\n",
              "2011-05-01    60.388331\n",
              "2011-06-01    56.719865\n",
              "2011-07-01    57.016396\n",
              "2011-08-01    63.260436\n",
              "2011-09-01    65.224473\n",
              "2011-10-01    71.333509\n",
              "2011-11-01    74.587544\n",
              "2011-12-01    78.869080\n",
              "Freq: MS, dtype: float64"
            ]
          },
          "metadata": {},
          "execution_count": 44
        }
      ]
    },
    {
      "cell_type": "code",
      "source": [
        "np.save('prices_down.npy',y_down)"
      ],
      "metadata": {
        "id": "-wOWUp3nuVbU"
      },
      "execution_count": null,
      "outputs": []
    },
    {
      "cell_type": "code",
      "source": [
        "fig, ax = plt.subplots(figsize = (16, 10))\n",
        "\n",
        "ax.plot(df['Value'], label = 'Цена на продукцию')\n",
        "ax.plot(y_pred, label = 'Модель Тейла-Вейджа')\n",
        "ax.plot(y_new, label = 'Прогноз по модели Тейла-Вейджа')\n",
        "ax.plot(y_up, label = 'Верхняя граница прогнозного интервала')\n",
        "ax.plot(y_down, label = 'Нижняя граница прогнозного интервала')\n",
        "\n",
        "ax.grid(which = 'major', axis = 'x', linestyle = '-', linewidth = '0.5', color = 'black')\n",
        "\n",
        "ax.minorticks_on()\n",
        "\n",
        "ax.grid(which = 'minor', axis = 'x', linestyle = ':', linewidth = '0.5', color = 'black')\n",
        "\n",
        "ax.set_axisbelow(True)\n",
        "\n",
        "ax.legend()\n",
        "\n",
        "plt.title('Прогноз на 12 месяцев по модели Тейла-Вейджа')\n",
        "\n",
        "plt.show()"
      ],
      "metadata": {
        "colab": {
          "base_uri": "https://localhost:8080/",
          "height": 607
        },
        "outputId": "dfca4cb6-f0ae-467b-c4b2-4b9abaaaaba6",
        "id": "qsDZywzcuVbU"
      },
      "execution_count": null,
      "outputs": [
        {
          "output_type": "display_data",
          "data": {
            "text/plain": [
              "<Figure size 1152x720 with 1 Axes>"
            ],
            "image/png": "[encoded data removed]"
          },
          "metadata": {
            "needs_background": "light"
          }
        }
      ]
    }
  ]
}