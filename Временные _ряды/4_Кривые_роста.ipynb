{
  "nbformat": 4,
  "nbformat_minor": 0,
  "metadata": {
    "colab": {
      "provenance": []
    },
    "kernelspec": {
      "name": "python3",
      "display_name": "Python 3"
    },
    "language_info": {
      "name": "python"
    }
  },
  "cells": [
    {
      "cell_type": "markdown",
      "source": [
        "# **ЗАДАНИЕ 4. МОДЕЛИРОВАНИЕ ТРЕНДА НА ОСНОВЕ КРИВЫХ РОСТА**\n",
        "\n",
        "Постройте модель тренда, описывающую ряд данных по ценам на материал 1. Рассчитайте показатели точности и адекватности построенной модели. Дайте точечный и интервальный прогнозы на 1 год вперёд по построенной модели.\n",
        "Постарайтесь максимально автоматизировать все вычисления, использовать существующие модули среды программирования Python.\n"
      ],
      "metadata": {
        "id": "h_Ay2a-UO3tT"
      }
    },
    {
      "cell_type": "code",
      "execution_count": null,
      "metadata": {
        "colab": {
          "base_uri": "https://localhost:8080/"
        },
        "id": "q6AjU7lMo-IH",
        "outputId": "bc706892-2fec-48c5-e99f-f2b22e8d4b6c"
      },
      "outputs": [
        {
          "output_type": "stream",
          "name": "stdout",
          "text": [
            "Requirement already satisfied: xlrd in /usr/local/lib/python3.7/dist-packages (1.1.0)\n",
            "Collecting xlrd\n",
            "  Downloading xlrd-2.0.1-py2.py3-none-any.whl (96 kB)\n",
            "\u001b[K     |████████████████████████████████| 96 kB 2.1 MB/s \n",
            "\u001b[?25hInstalling collected packages: xlrd\n",
            "  Attempting uninstall: xlrd\n",
            "    Found existing installation: xlrd 1.1.0\n",
            "    Uninstalling xlrd-1.1.0:\n",
            "      Successfully uninstalled xlrd-1.1.0\n",
            "Successfully installed xlrd-2.0.1\n"
          ]
        }
      ],
      "source": [
        "!pip install --upgrade xlrd"
      ]
    },
    {
      "cell_type": "code",
      "source": [
        "import os\n",
        "import pandas as pd\n",
        "import numpy as np\n",
        "from sklearn.metrics import r2_score, mean_absolute_error, mean_squared_error\n",
        "from scipy.stats import linregress\n",
        "from sklearn.linear_model import LinearRegression\n",
        "from math import sqrt\n",
        "from pandas import concat\n",
        "from statsmodels.graphics.gofplots import qqplot\n",
        "import matplotlib.pyplot as plt\n",
        "from statsmodels.stats.stattools import durbin_watson\n",
        "from pandas.plotting import autocorrelation_plot\n",
        "import scipy.stats\n",
        "import seaborn as sns\n",
        "from scipy.stats import t as student"
      ],
      "metadata": {
        "id": "8nqz5zE3pkUY",
        "colab": {
          "base_uri": "https://localhost:8080/"
        },
        "outputId": "6cf8e0cb-7ab2-4611-9f19-eeab33daca75"
      },
      "execution_count": null,
      "outputs": [
        {
          "output_type": "stream",
          "name": "stderr",
          "text": [
            "/usr/local/lib/python3.7/dist-packages/statsmodels/tools/_testing.py:19: FutureWarning: pandas.util.testing is deprecated. Use the functions in the public API at pandas.testing instead.\n",
            "  import pandas.util.testing as tm\n"
          ]
        }
      ]
    },
    {
      "cell_type": "code",
      "source": [
        "from google.colab import drive\n",
        "drive.mount('/content/gdrive')"
      ],
      "metadata": {
        "colab": {
          "base_uri": "https://localhost:8080/"
        },
        "id": "SOeUnX29ryWn",
        "outputId": "0c997be1-cb50-4ca2-a052-4cea52e75ac3"
      },
      "execution_count": null,
      "outputs": [
        {
          "output_type": "stream",
          "name": "stdout",
          "text": [
            "Drive already mounted at /content/gdrive; to attempt to forcibly remount, call drive.mount(\"/content/gdrive\", force_remount=True).\n"
          ]
        }
      ]
    },
    {
      "cell_type": "code",
      "source": [
        "os.chdir('/content/gdrive/MyDrive/Colab Notebooks/PDA-210')"
      ],
      "metadata": {
        "id": "wKZi6yG-rsG8"
      },
      "execution_count": null,
      "outputs": []
    },
    {
      "cell_type": "markdown",
      "source": [
        "**1.\tПрочитайте данные по ценам на материал 1 и приведите их к виду, пригодному для дальнейшего анализа (см. пп.1-10 Задания 1).**"
      ],
      "metadata": {
        "id": "VopcR8CpQ2Cb"
      }
    },
    {
      "cell_type": "code",
      "source": [
        "data=pd.read_excel('data.xls', sheet_name='Material 1')\n",
        "data.head()"
      ],
      "metadata": {
        "id": "yILggnMwj9RH"
      },
      "execution_count": null,
      "outputs": []
    },
    {
      "cell_type": "code",
      "source": [
        "my_data = data.iloc[0:2,2:].T.rename(columns={0: 'Date', 1: 'Value'}).set_index('Date')\n",
        "my_data.dtypes\n",
        "#iloc[0:2,2:]                             - нарезал нужные строки и столбцы\n",
        "#.T                                       - поверхул всё, т.е. транспонировал\n",
        "#.rename(columns={0: 'Date', 1: 'Value'}) - поменял названия столбцов\n",
        "# .set_index('Date')                      - сделал столбец с датами индексом"
      ],
      "metadata": {
        "colab": {
          "base_uri": "https://localhost:8080/"
        },
        "id": "v5ntXnWAF9-A",
        "outputId": "4efebf25-a1d1-41ef-a537-8ee957074ea3"
      },
      "execution_count": null,
      "outputs": [
        {
          "output_type": "execute_result",
          "data": {
            "text/plain": [
              "Value    object\n",
              "dtype: object"
            ]
          },
          "metadata": {},
          "execution_count": 8
        }
      ]
    },
    {
      "cell_type": "code",
      "source": [
        "my_data['Value'] = my_data['Value'].astype(float)"
      ],
      "metadata": {
        "id": "Pgfb1N3OwB_e"
      },
      "execution_count": null,
      "outputs": []
    },
    {
      "cell_type": "code",
      "source": [
        "my_data.info()"
      ],
      "metadata": {
        "colab": {
          "base_uri": "https://localhost:8080/"
        },
        "outputId": "726ea733-3cb0-4f6d-db54-0cd334aa96a4",
        "id": "3-k0iJ4BwB_e"
      },
      "execution_count": null,
      "outputs": [
        {
          "output_type": "stream",
          "name": "stdout",
          "text": [
            "<class 'pandas.core.frame.DataFrame'>\n",
            "DatetimeIndex: 48 entries, 2007-01-01 to 2010-12-01\n",
            "Data columns (total 1 columns):\n",
            " #   Column  Non-Null Count  Dtype  \n",
            "---  ------  --------------  -----  \n",
            " 0   Value   48 non-null     float64\n",
            "dtypes: float64(1)\n",
            "memory usage: 768.0 bytes\n"
          ]
        }
      ]
    },
    {
      "cell_type": "code",
      "source": [
        "my_data.sample(4)"
      ],
      "metadata": {
        "colab": {
          "base_uri": "https://localhost:8080/",
          "height": 206
        },
        "id": "bHNA232PwNv2",
        "outputId": "fb607ab1-2fda-40c1-f90b-de89d19ec28e"
      },
      "execution_count": null,
      "outputs": [
        {
          "output_type": "execute_result",
          "data": {
            "text/plain": [
              "            Value\n",
              "Date             \n",
              "2007-02-01  23.89\n",
              "2010-10-01  45.18\n",
              "2010-02-01  39.68\n",
              "2009-12-01  37.74"
            ],
            "text/html": [
              "\n",
              "  <div id=\"df-0a9145ee-9a95-4043-9213-9db9bb4ec87b\">\n",
              "    <div class=\"colab-df-container\">\n",
              "      <div>\n",
              "<style scoped>\n",
              "    .dataframe tbody tr th:only-of-type {\n",
              "        vertical-align: middle;\n",
              "    }\n",
              "\n",
              "    .dataframe tbody tr th {\n",
              "        vertical-align: top;\n",
              "    }\n",
              "\n",
              "    .dataframe thead th {\n",
              "        text-align: right;\n",
              "    }\n",
              "</style>\n",
              "<table border=\"1\" class=\"dataframe\">\n",
              "  <thead>\n",
              "    <tr style=\"text-align: right;\">\n",
              "      <th></th>\n",
              "      <th>Value</th>\n",
              "    </tr>\n",
              "    <tr>\n",
              "      <th>Date</th>\n",
              "      <th></th>\n",
              "    </tr>\n",
              "  </thead>\n",
              "  <tbody>\n",
              "    <tr>\n",
              "      <th>2007-02-01</th>\n",
              "      <td>23.89</td>\n",
              "    </tr>\n",
              "    <tr>\n",
              "      <th>2010-10-01</th>\n",
              "      <td>45.18</td>\n",
              "    </tr>\n",
              "    <tr>\n",
              "      <th>2010-02-01</th>\n",
              "      <td>39.68</td>\n",
              "    </tr>\n",
              "    <tr>\n",
              "      <th>2009-12-01</th>\n",
              "      <td>37.74</td>\n",
              "    </tr>\n",
              "  </tbody>\n",
              "</table>\n",
              "</div>\n",
              "      <button class=\"colab-df-convert\" onclick=\"convertToInteractive('df-0a9145ee-9a95-4043-9213-9db9bb4ec87b')\"\n",
              "              title=\"Convert this dataframe to an interactive table.\"\n",
              "              style=\"display:none;\">\n",
              "        \n",
              "  <svg xmlns=\"http://www.w3.org/2000/svg\" height=\"24px\"viewBox=\"0 0 24 24\"\n",
              "       width=\"24px\">\n",
              "    <path d=\"M0 0h24v24H0V0z\" fill=\"none\"/>\n",
              "    <path d=\"M18.56 5.44l.94 2.06.94-2.06 2.06-.94-2.06-.94-.94-2.06-.94 2.06-2.06.94zm-11 1L8.5 8.5l.94-2.06 2.06-.94-2.06-.94L8.5 2.5l-.94 2.06-2.06.94zm10 10l.94 2.06.94-2.06 2.06-.94-2.06-.94-.94-2.06-.94 2.06-2.06.94z\"/><path d=\"M17.41 7.96l-1.37-1.37c-.4-.4-.92-.59-1.43-.59-.52 0-1.04.2-1.43.59L10.3 9.45l-7.72 7.72c-.78.78-.78 2.05 0 2.83L4 21.41c.39.39.9.59 1.41.59.51 0 1.02-.2 1.41-.59l7.78-7.78 2.81-2.81c.8-.78.8-2.07 0-2.86zM5.41 20L4 18.59l7.72-7.72 1.47 1.35L5.41 20z\"/>\n",
              "  </svg>\n",
              "      </button>\n",
              "      \n",
              "  <style>\n",
              "    .colab-df-container {\n",
              "      display:flex;\n",
              "      flex-wrap:wrap;\n",
              "      gap: 12px;\n",
              "    }\n",
              "\n",
              "    .colab-df-convert {\n",
              "      background-color: #E8F0FE;\n",
              "      border: none;\n",
              "      border-radius: 50%;\n",
              "      cursor: pointer;\n",
              "      display: none;\n",
              "      fill: #1967D2;\n",
              "      height: 32px;\n",
              "      padding: 0 0 0 0;\n",
              "      width: 32px;\n",
              "    }\n",
              "\n",
              "    .colab-df-convert:hover {\n",
              "      background-color: #E2EBFA;\n",
              "      box-shadow: 0px 1px 2px rgba(60, 64, 67, 0.3), 0px 1px 3px 1px rgba(60, 64, 67, 0.15);\n",
              "      fill: #174EA6;\n",
              "    }\n",
              "\n",
              "    [theme=dark] .colab-df-convert {\n",
              "      background-color: #3B4455;\n",
              "      fill: #D2E3FC;\n",
              "    }\n",
              "\n",
              "    [theme=dark] .colab-df-convert:hover {\n",
              "      background-color: #434B5C;\n",
              "      box-shadow: 0px 1px 3px 1px rgba(0, 0, 0, 0.15);\n",
              "      filter: drop-shadow(0px 1px 2px rgba(0, 0, 0, 0.3));\n",
              "      fill: #FFFFFF;\n",
              "    }\n",
              "  </style>\n",
              "\n",
              "      <script>\n",
              "        const buttonEl =\n",
              "          document.querySelector('#df-0a9145ee-9a95-4043-9213-9db9bb4ec87b button.colab-df-convert');\n",
              "        buttonEl.style.display =\n",
              "          google.colab.kernel.accessAllowed ? 'block' : 'none';\n",
              "\n",
              "        async function convertToInteractive(key) {\n",
              "          const element = document.querySelector('#df-0a9145ee-9a95-4043-9213-9db9bb4ec87b');\n",
              "          const dataTable =\n",
              "            await google.colab.kernel.invokeFunction('convertToInteractive',\n",
              "                                                     [key], {});\n",
              "          if (!dataTable) return;\n",
              "\n",
              "          const docLinkHtml = 'Like what you see? Visit the ' +\n",
              "            '<a target=\"_blank\" href=https://colab.research.google.com/notebooks/data_table.ipynb>data table notebook</a>'\n",
              "            + ' to learn more about interactive tables.';\n",
              "          element.innerHTML = '';\n",
              "          dataTable['output_type'] = 'display_data';\n",
              "          await google.colab.output.renderOutput(dataTable, element);\n",
              "          const docLink = document.createElement('div');\n",
              "          docLink.innerHTML = docLinkHtml;\n",
              "          element.appendChild(docLink);\n",
              "        }\n",
              "      </script>\n",
              "    </div>\n",
              "  </div>\n",
              "  "
            ]
          },
          "metadata": {},
          "execution_count": 12
        }
      ]
    },
    {
      "cell_type": "markdown",
      "source": [
        "**2.\tУбедитесь в том, что Вы работаете с объектом Series, а не DataFrame. Превратить таблицу с одним столбцом целевых значений в объект Series можно с помощью функции squeeze(). Дайте ему название series.**"
      ],
      "metadata": {
        "id": "k5lIvF1zQxWj"
      }
    },
    {
      "cell_type": "code",
      "source": [
        "series=my_data.squeeze()\n",
        "series"
      ],
      "metadata": {
        "id": "DI5siwPtseNH"
      },
      "execution_count": null,
      "outputs": []
    },
    {
      "cell_type": "markdown",
      "source": [
        "**3.\tПосмотрите на возможность построения линейного тренда визуально с помощью функции regplot(x=x, y=y, data= data) из модуля seaborn. В качестве x возьмите номера наблюдений, а y – значения цены на материал 1. Прокомментируйте результат.**"
      ],
      "metadata": {
        "id": "B8qktm0WW4TD"
      }
    },
    {
      "cell_type": "code",
      "source": [
        "y=series.values"
      ],
      "metadata": {
        "id": "gt0fBDwKU-bc"
      },
      "execution_count": null,
      "outputs": []
    },
    {
      "cell_type": "code",
      "source": [
        "t=np.arange(1,len(y)+1)\n"
      ],
      "metadata": {
        "id": "XhCKTp9gsz_D"
      },
      "execution_count": null,
      "outputs": []
    },
    {
      "cell_type": "code",
      "source": [
        "sns.regplot(x=t, y=y, data=series)\n",
        "# синий диапазон - это граица случайных колебаний"
      ],
      "metadata": {
        "colab": {
          "base_uri": "https://localhost:8080/",
          "height": 284
        },
        "id": "k2EH2gsss85f",
        "outputId": "080ec304-0d72-4aa1-e196-0bfab59f03f9"
      },
      "execution_count": null,
      "outputs": [
        {
          "output_type": "execute_result",
          "data": {
            "text/plain": [
              "<matplotlib.axes._subplots.AxesSubplot at 0x7fe0e12b2590>"
            ]
          },
          "metadata": {},
          "execution_count": 24
        },
        {
          "output_type": "display_data",
          "data": {
            "text/plain": [
              "<Figure size 432x288 with 1 Axes>"
            ],
            "image/png": "[encoded data removed]"
          },
          "metadata": {
            "needs_background": "light"
          }
        }
      ]
    },
    {
      "cell_type": "markdown",
      "source": [
        "**4.\tРазделите исходные данные на обучающий и тестовый набор в пропорции 80%:20%. Для этого создайте переменную y, в которую запишите значения временного ряда, обратившись к параметру values. Затем создайте переменную train, содержащую обучающую выборку, которая составляет 80% от количества наблюдений, и переменную test, содержащую тестовый набор из 20% выборки. Выведите на экран объем обучающей и тестовой выборки.**"
      ],
      "metadata": {
        "id": "UcTaOREqXFmw"
      }
    },
    {
      "cell_type": "code",
      "source": [
        "y=series.values"
      ],
      "metadata": {
        "id": "VIbkqIrdska0"
      },
      "execution_count": null,
      "outputs": []
    },
    {
      "cell_type": "code",
      "source": [
        "train_size=int(len(y)*0.8)\n",
        "train_size"
      ],
      "metadata": {
        "colab": {
          "base_uri": "https://localhost:8080/"
        },
        "id": "jWqc7Nkotp4H",
        "outputId": "e31eabea-b59d-43a8-aa98-761efed738a2"
      },
      "execution_count": null,
      "outputs": [
        {
          "output_type": "execute_result",
          "data": {
            "text/plain": [
              "38"
            ]
          },
          "metadata": {},
          "execution_count": 131
        }
      ]
    },
    {
      "cell_type": "code",
      "source": [
        "# разбиваем данные в соотношении 80% к 20% - это для оси Y (т.е. получаем 2 набора данных)\n",
        "y_train, y_test=y[0:train_size], y[train_size:len(y)]"
      ],
      "metadata": {
        "id": "3PAUGs8Rtznu"
      },
      "execution_count": null,
      "outputs": []
    },
    {
      "cell_type": "code",
      "source": [
        "# y_train - это ось Y для графика тренировки, это набор данных обучающе выборки"
      ],
      "metadata": {
        "id": "ujtjftW5dmbO"
      },
      "execution_count": null,
      "outputs": []
    },
    {
      "cell_type": "markdown",
      "source": [
        "**6.\tПоместите в переменную t_train номера наблюдений обучающего набора, воспользовавшись функцией arange() из модуля numpy. Выведите на экран содержимое t_train.**"
      ],
      "metadata": {
        "id": "9q1b__daYQEB"
      }
    },
    {
      "cell_type": "code",
      "source": [
        "x_train =np.arange(1, len(y_train)+1) # это ось X для графика тренировки"
      ],
      "metadata": {
        "id": "ZJEJR5x9uQUH"
      },
      "execution_count": null,
      "outputs": []
    },
    {
      "cell_type": "code",
      "source": [
        "x_train"
      ],
      "metadata": {
        "colab": {
          "base_uri": "https://localhost:8080/"
        },
        "id": "BgJyBuang7rp",
        "outputId": "f271ae17-5db5-48c7-ceb9-21919c29ccf9"
      },
      "execution_count": null,
      "outputs": [
        {
          "output_type": "execute_result",
          "data": {
            "text/plain": [
              "array([ 1,  2,  3,  4,  5,  6,  7,  8,  9, 10, 11, 12, 13, 14, 15, 16, 17,\n",
              "       18, 19, 20, 21, 22, 23, 24, 25, 26, 27, 28, 29, 30, 31, 32, 33, 34,\n",
              "       35, 36, 37, 38])"
            ]
          },
          "metadata": {},
          "execution_count": 135
        }
      ]
    },
    {
      "cell_type": "code",
      "source": [
        "y_train"
      ],
      "metadata": {
        "colab": {
          "base_uri": "https://localhost:8080/"
        },
        "id": "v2ITRCqsg8sl",
        "outputId": "302779fe-1bb2-4288-9a2f-0fe2cee3d24f"
      },
      "execution_count": null,
      "outputs": [
        {
          "output_type": "execute_result",
          "data": {
            "text/plain": [
              "array([26.45, 23.89, 25.95, 30.03, 28.96, 25.58, 25.96, 30.56, 29.67,\n",
              "       30.46, 28.6 , 31.73, 28.  , 33.99, 27.87, 34.49, 32.22, 34.56,\n",
              "       29.87, 31.09, 30.06, 34.21, 31.57, 31.18, 33.85, 38.27, 35.92,\n",
              "       34.01, 36.  , 36.2 , 37.5 , 39.62, 39.51, 35.49, 39.69, 37.74,\n",
              "       36.08, 39.68])"
            ]
          },
          "metadata": {},
          "execution_count": 136
        }
      ]
    },
    {
      "cell_type": "code",
      "source": [
        "len(x_train),len(y_train)"
      ],
      "metadata": {
        "colab": {
          "base_uri": "https://localhost:8080/"
        },
        "id": "DMox2o39gw5p",
        "outputId": "cd1c50a3-f582-42ed-9794-3d84ae9101a9"
      },
      "execution_count": null,
      "outputs": [
        {
          "output_type": "execute_result",
          "data": {
            "text/plain": [
              "(38, 38)"
            ]
          },
          "metadata": {},
          "execution_count": 137
        }
      ]
    },
    {
      "cell_type": "code",
      "source": [
        "plt.scatter(x_train,y_train)\n",
        "#plt.scatter((0,38),coef)\n",
        "plt.show()"
      ],
      "metadata": {
        "colab": {
          "base_uri": "https://localhost:8080/",
          "height": 265
        },
        "id": "2tMGkQa7cdto",
        "outputId": "753161fa-12f0-43d5-bf2a-7dfee3733498"
      },
      "execution_count": null,
      "outputs": [
        {
          "output_type": "display_data",
          "data": {
            "text/plain": [
              "<Figure size 432x288 with 1 Axes>"
            ],
            "image/png": "[encoded data removed]"
          },
          "metadata": {
            "needs_background": "light"
          }
        }
      ]
    },
    {
      "cell_type": "markdown",
      "source": [
        "**7.\tНа основе переменной t_train, которая выступает в качестве факторного признака, и переменной y_train с ценами на материал 1 из обучающего набора в качестве результативного признака обучите полином первой степени, воспользовавшись функцией polyfit() из модуля numpy. Результат запишите в переменную coef. Выведите на экран полученные коэффициенты модели.**"
      ],
      "metadata": {
        "id": "F8EylUWLYh3X"
      }
    },
    {
      "cell_type": "markdown",
      "source": [
        "Метод, который работает позади метода полифита, называется обычным методом наименьших квадратов."
      ],
      "metadata": {
        "id": "m5nS9kK3jpEZ"
      }
    },
    {
      "cell_type": "code",
      "source": [
        "coef=np.polyfit(x_train,y_train, deg=1)\n",
        "coef # первое число - значение при факторе, второе - свободный член"
      ],
      "metadata": {
        "colab": {
          "base_uri": "https://localhost:8080/"
        },
        "id": "fP-fanXjuX5v",
        "outputId": "22a5d614-1ae2-4aa9-cae2-9fceae8e9dbd"
      },
      "execution_count": null,
      "outputs": [
        {
          "output_type": "execute_result",
          "data": {
            "text/plain": [
              "array([ 0.35096728, 25.69587482])"
            ]
          },
          "metadata": {},
          "execution_count": 139
        }
      ]
    },
    {
      "cell_type": "markdown",
      "source": [
        "# **____________________ВСТАВКА___________________________**"
      ],
      "metadata": {
        "id": "cJZgqVS-n45o"
      }
    },
    {
      "cell_type": "markdown",
      "source": [
        "**РАЗЪЯСНЕНИЕ:** значения coef - это значения свободных членов для уравнения прямой\n",
        "\n",
        "**у = 0.35096728 * х + 25.69587482**"
      ],
      "metadata": {
        "id": "miH-CEeUkjR1"
      }
    },
    {
      "cell_type": "markdown",
      "source": [
        "**в уравнении у = 0.35096728 * х + 25.69587482 находим Y через X методом numpy**"
      ],
      "metadata": {
        "id": "zCa3HocDl4K9"
      }
    },
    {
      "cell_type": "code",
      "source": [
        "predict = np.poly1d(coef)\n",
        "x_value = 38\n",
        "predict(x_test)"
      ],
      "metadata": {
        "colab": {
          "base_uri": "https://localhost:8080/"
        },
        "id": "_dSqc2QLl91T",
        "outputId": "78414dea-026e-45c3-ca51-143065700808"
      },
      "execution_count": null,
      "outputs": [
        {
          "output_type": "execute_result",
          "data": {
            "text/plain": [
              "array([39.38359886, 39.73456615, 40.08553343, 40.43650071, 40.78746799,\n",
              "       41.13843528, 41.48940256, 41.84036984, 42.19133713, 42.54230441])"
            ]
          },
          "metadata": {},
          "execution_count": 140
        }
      ]
    },
    {
      "cell_type": "markdown",
      "source": [
        "**Шаг 6: точность модели**"
      ],
      "metadata": {
        "id": "R3QVqejBoqwR"
      }
    },
    {
      "cell_type": "markdown",
      "source": [
        "Мы также можем проверить точность модели, дает ли она правильные результаты или нет. Точность модели можно рассчитать с помощью R-квадрата (R2). Значение R-квадрата (R2) находится между 0 и 1. Результат, близкий к 1, показывает, что точность модели высока. Итак, проверим точность приведенной выше модели. Мы импортируем другую библиотеку, sklearn, как показано ниже:"
      ],
      "metadata": {
        "id": "aGxHRIXwo4KP"
      }
    },
    {
      "cell_type": "code",
      "source": [
        "x_test=np.arange(len(y_train)+1, len(y)+1)\n",
        "x_test"
      ],
      "metadata": {
        "colab": {
          "base_uri": "https://localhost:8080/"
        },
        "id": "mg0H8HpsqblS",
        "outputId": "a99934af-26b8-4e3e-b99e-27f3fda0c776"
      },
      "execution_count": null,
      "outputs": [
        {
          "output_type": "execute_result",
          "data": {
            "text/plain": [
              "array([39, 40, 41, 42, 43, 44, 45, 46, 47, 48])"
            ]
          },
          "metadata": {},
          "execution_count": 141
        }
      ]
    },
    {
      "cell_type": "code",
      "source": [
        "y_test"
      ],
      "metadata": {
        "colab": {
          "base_uri": "https://localhost:8080/"
        },
        "id": "FlwOyEABqls-",
        "outputId": "24f013c8-eff7-437b-b279-046c334b2c84"
      },
      "execution_count": null,
      "outputs": [
        {
          "output_type": "execute_result",
          "data": {
            "text/plain": [
              "array([37.36, 39.21, 39.43, 43.5 , 40.75, 42.84, 38.01, 45.18, 42.49,\n",
              "       44.2 ])"
            ]
          },
          "metadata": {},
          "execution_count": 142
        }
      ]
    },
    {
      "cell_type": "code",
      "source": [
        "len(x_test),len(y_test)"
      ],
      "metadata": {
        "colab": {
          "base_uri": "https://localhost:8080/"
        },
        "id": "xCdDDterqsyy",
        "outputId": "50721779-208b-4c0f-a207-95c5f03bce03"
      },
      "execution_count": null,
      "outputs": [
        {
          "output_type": "execute_result",
          "data": {
            "text/plain": [
              "(10, 10)"
            ]
          },
          "metadata": {},
          "execution_count": 143
        }
      ]
    },
    {
      "cell_type": "code",
      "source": [
        "from sklearn.metrics import r2_score # получилось, но предсказывает фигово\n",
        "r2_score(y_test,predict(x_test))"
      ],
      "metadata": {
        "colab": {
          "base_uri": "https://localhost:8080/"
        },
        "id": "TYEjKhcroxL4",
        "outputId": "1ad6c9f8-912f-4599-e364-0b7b660cbae7"
      },
      "execution_count": null,
      "outputs": [
        {
          "output_type": "execute_result",
          "data": {
            "text/plain": [
              "0.35174996430045324"
            ]
          },
          "metadata": {},
          "execution_count": 144
        }
      ]
    },
    {
      "cell_type": "markdown",
      "source": [
        "**Шаг 7: Построение модели**\n",
        "\n",
        "Построение графика — это метод визуального просмотра линии, подобранной модели, на точках данных. Это дает четкое изображение модели."
      ],
      "metadata": {
        "id": "E7J8JZcouZxX"
      }
    },
    {
      "cell_type": "code",
      "source": [
        "i = 1,38 # это крайние значения x_train"
      ],
      "metadata": {
        "id": "JVCAFARMvaFi"
      },
      "execution_count": null,
      "outputs": []
    },
    {
      "cell_type": "code",
      "source": [
        "plt.scatter(x_train,y_train)\n",
        "plt.plot(i,predict(i),c='g')\n",
        "plt.show()\n",
        "# i - это крайние значения x_train, predict(i) - пропускаем i через уравнение y(уравнение прямой, см. выше) с коэффициентами найденными с помощью полинома первой степени coef"
      ],
      "metadata": {
        "colab": {
          "base_uri": "https://localhost:8080/",
          "height": 265
        },
        "id": "QLqHF6_VugIX",
        "outputId": "84a97044-7bff-4333-f10e-4fe0d7b48899"
      },
      "execution_count": null,
      "outputs": [
        {
          "output_type": "display_data",
          "data": {
            "text/plain": [
              "<Figure size 432x288 with 1 Axes>"
            ],
            "image/png": "[encoded data removed]"
          },
          "metadata": {
            "needs_background": "light"
          }
        }
      ]
    },
    {
      "cell_type": "markdown",
      "source": [
        "# **____________________КОНЕЦ___________________________**"
      ],
      "metadata": {
        "id": "4uywz012oNsR"
      }
    },
    {
      "cell_type": "markdown",
      "source": [
        "**8.\tПоместите в переменную t_test номера наблюдений тестового набора, воспользовавшись функцией arange() из модуля numpy. Выведите на экран содержимое t_ test.**"
      ],
      "metadata": {
        "id": "SrCOq3WrZood"
      }
    },
    {
      "cell_type": "code",
      "source": [
        "x_test=np.arange(len(y_train)+1, len(y)+1)\n",
        "x_test"
      ],
      "metadata": {
        "colab": {
          "base_uri": "https://localhost:8080/"
        },
        "id": "nUiC9a9Eux7D",
        "outputId": "ff3df0e8-f255-49d4-f1b1-d839f8377ec5"
      },
      "execution_count": null,
      "outputs": [
        {
          "output_type": "execute_result",
          "data": {
            "text/plain": [
              "array([39, 40, 41, 42, 43, 44, 45, 46, 47, 48])"
            ]
          },
          "metadata": {},
          "execution_count": 147
        }
      ]
    },
    {
      "cell_type": "markdown",
      "source": [
        "**9.\tНайдите расчетные значения цены на материал 1 по модели линейного тренда, воспользовавшись найденными коэффициентами: coef[0] – коэффициент при факторном признаке, coef[1] – свободный член. Выведите на экран полученный результат.**"
      ],
      "metadata": {
        "id": "SUUegiziZyn4"
      }
    },
    {
      "cell_type": "markdown",
      "source": [
        "**МОДЕЛЬ ЛИНЕЙНОГО ТРЕНДА**"
      ],
      "metadata": {
        "id": "iE3XZdns-wGe"
      }
    },
    {
      "cell_type": "code",
      "source": [
        "predict = np.poly1d(coef) # это метод, что нашел я\n",
        "y_pred = predict(x_test) # вставили значения по оси Х в наше уравнение и получили значение Y тестовой выборки\n",
        "y_pred"
      ],
      "metadata": {
        "colab": {
          "base_uri": "https://localhost:8080/"
        },
        "id": "U1GHjaEE2l6c",
        "outputId": "dd92e1f9-d8ae-4bdf-ba95-e7b97869f92c"
      },
      "execution_count": null,
      "outputs": [
        {
          "output_type": "execute_result",
          "data": {
            "text/plain": [
              "array([39.38359886, 39.73456615, 40.08553343, 40.43650071, 40.78746799,\n",
              "       41.13843528, 41.48940256, 41.84036984, 42.19133713, 42.54230441])"
            ]
          },
          "metadata": {},
          "execution_count": 148
        }
      ]
    },
    {
      "cell_type": "code",
      "source": [
        "y_pred=coef[0]*x_test+coef[1] #\n",
        "y_pred"
      ],
      "metadata": {
        "colab": {
          "base_uri": "https://localhost:8080/"
        },
        "id": "dyinDxBwvLh7",
        "outputId": "5873b3f3-6c1f-4f31-93a7-a26f9f42cdcc"
      },
      "execution_count": null,
      "outputs": [
        {
          "output_type": "execute_result",
          "data": {
            "text/plain": [
              "array([39.38359886, 39.73456615, 40.08553343, 40.43650071, 40.78746799,\n",
              "       41.13843528, 41.48940256, 41.84036984, 42.19133713, 42.54230441])"
            ]
          },
          "metadata": {},
          "execution_count": 150
        }
      ]
    },
    {
      "cell_type": "markdown",
      "source": [
        "**10.\tОцените точность модели на тестовой выборке на основе коэффициента детерминации, воспользовавшись функцией r2_score(y_test, y_pred) из модуля sklearn.metrics. Запишите результат.**"
      ],
      "metadata": {
        "id": "xjjpg4Oi-YOI"
      }
    },
    {
      "cell_type": "code",
      "source": [
        "R2=r2_score(y_test,y_pred) # значение плохое\n",
        "R2"
      ],
      "metadata": {
        "colab": {
          "base_uri": "https://localhost:8080/"
        },
        "id": "zHuNmPlovhD-",
        "outputId": "ac6da49d-421a-4de5-bd4c-9002756a226e"
      },
      "execution_count": null,
      "outputs": [
        {
          "output_type": "execute_result",
          "data": {
            "text/plain": [
              "0.35174996430045324"
            ]
          },
          "metadata": {},
          "execution_count": 151
        }
      ]
    },
    {
      "cell_type": "markdown",
      "source": [
        "**11.\tАналогично найдите расчетные значения цены на материал 1 по модели линейного тренда с помощью функции linregress(t_train, y_train) из модуля scipy.stats. Рассчитайте коэффициент детерминации для тестового набора. Сравните полученный результат с предыдущим из п.9.**"
      ],
      "metadata": {
        "id": "JL4zUvLL-fno"
      }
    },
    {
      "cell_type": "markdown",
      "source": [
        "**МОДЕЛЬ ЛИНЕЙНОГО ТРЕНДА**"
      ],
      "metadata": {
        "id": "TgZusw-4-79N"
      }
    },
    {
      "cell_type": "code",
      "source": [
        "coef=linregress(x_train, y_train)\n",
        "coef"
      ],
      "metadata": {
        "colab": {
          "base_uri": "https://localhost:8080/"
        },
        "id": "wi0Xt-Ufv0Io",
        "outputId": "4e72e7af-9579-4366-8b68-152e2c8a7ec2"
      },
      "execution_count": null,
      "outputs": [
        {
          "output_type": "execute_result",
          "data": {
            "text/plain": [
              "LinregressResult(slope=0.3509672830725461, intercept=25.69587482219062, rvalue=0.8844672231847377, pvalue=1.790821115944336e-13, stderr=0.030858907019685272)"
            ]
          },
          "metadata": {},
          "execution_count": 152
        }
      ]
    },
    {
      "cell_type": "code",
      "source": [
        "y_pred=coef[0]*x_test+coef[1]\n",
        "y_pred"
      ],
      "metadata": {
        "colab": {
          "base_uri": "https://localhost:8080/"
        },
        "outputId": "f28affc4-f2b7-4409-d525-1ae14c367532",
        "id": "kIIq1YZ1wW7V"
      },
      "execution_count": null,
      "outputs": [
        {
          "output_type": "execute_result",
          "data": {
            "text/plain": [
              "array([39.38359886, 39.73456615, 40.08553343, 40.43650071, 40.78746799,\n",
              "       41.13843528, 41.48940256, 41.84036984, 42.19133713, 42.54230441])"
            ]
          },
          "metadata": {},
          "execution_count": 154
        }
      ]
    },
    {
      "cell_type": "code",
      "source": [
        "R2=r2_score(y_test,y_pred)\n",
        "R2"
      ],
      "metadata": {
        "colab": {
          "base_uri": "https://localhost:8080/"
        },
        "outputId": "656d1b35-b1ca-4425-a8a1-5d41c96169e1",
        "id": "LoIZlJk4wW7X"
      },
      "execution_count": null,
      "outputs": [
        {
          "output_type": "execute_result",
          "data": {
            "text/plain": [
              "0.351749964300451"
            ]
          },
          "metadata": {},
          "execution_count": 155
        }
      ]
    },
    {
      "cell_type": "markdown",
      "source": [
        "**12.\tОбучите на обучающем наборе данных модель линейного тренда на основе функций LinearRegression().fit() из модуля sklearn.linear_model. Выведите на экран полученные коэффициенты модели, воспользовавшись параметром coef_ для вывода коэффициента при номере наблюдения и параметром intercept_ - для свободного члена. Не забудьте перед этим превратить строку в переменной t_train в столбец, воспользовавшись функцией reshape(-1,1).**"
      ],
      "metadata": {
        "id": "z26j_i7BAhdG"
      }
    },
    {
      "cell_type": "markdown",
      "source": [
        "**МОДЕЛЬ ЛИНЕЙНОЙ РЕГРЕССИИ**"
      ],
      "metadata": {
        "id": "cRyunOGkCsMQ"
      }
    },
    {
      "cell_type": "code",
      "source": [
        "x_train=x_train.reshape(-1,1)"
      ],
      "metadata": {
        "id": "ukygboaUwoEP"
      },
      "execution_count": null,
      "outputs": []
    },
    {
      "cell_type": "code",
      "source": [
        "model=LinearRegression().fit(x_train, y_train)"
      ],
      "metadata": {
        "id": "SOEywjKswsaW"
      },
      "execution_count": null,
      "outputs": []
    },
    {
      "cell_type": "code",
      "source": [
        "model.coef_ # см. п.7,  проще говоря (коэффициент при номере наблюдения) это значение 'a' в\n",
        "            # в формуле у = aх — b\n"
      ],
      "metadata": {
        "colab": {
          "base_uri": "https://localhost:8080/"
        },
        "id": "f53fX750w5MG",
        "outputId": "4361ed84-b8bf-48f7-f888-5ba286b1fecd"
      },
      "execution_count": null,
      "outputs": [
        {
          "output_type": "execute_result",
          "data": {
            "text/plain": [
              "array([0.35096728])"
            ]
          },
          "metadata": {},
          "execution_count": 125
        }
      ]
    },
    {
      "cell_type": "code",
      "source": [
        "model.intercept_ # см. п.7,  проще говоря (коэффициент при номере наблюдения) это значение 'b' в\n",
        "                 # в формуле у = aх — b"
      ],
      "metadata": {
        "colab": {
          "base_uri": "https://localhost:8080/"
        },
        "id": "Vaw2xMhow7RW",
        "outputId": "7022de4b-704a-448c-cb08-cd3daf8106c2"
      },
      "execution_count": null,
      "outputs": [
        {
          "output_type": "execute_result",
          "data": {
            "text/plain": [
              "25.695874822190618"
            ]
          },
          "metadata": {},
          "execution_count": 126
        }
      ]
    },
    {
      "cell_type": "markdown",
      "source": [
        "**получим: у = 0.35096728 * х — 25.69587482**"
      ],
      "metadata": {
        "id": "wttSoskKCSKC"
      }
    },
    {
      "cell_type": "markdown",
      "source": [
        "**13.\tНайдите расчетные значения цены на материал 1 для тестового набора данных по модели линейного тренда, воспользовавшись функцией predict(). Выведите на экран полученный результат. Не забудьте перед этим превратить строку в переменной t_test в столбец, воспользовавшись функцией reshape(-1,1).**"
      ],
      "metadata": {
        "id": "9Nvv4GVoDMp3"
      }
    },
    {
      "cell_type": "code",
      "source": [
        "t_test =x_test.reshape(-1,1)"
      ],
      "metadata": {
        "id": "kNxA8Kevw-ig"
      },
      "execution_count": null,
      "outputs": []
    },
    {
      "cell_type": "code",
      "source": [
        "y_pred=model.predict(t_test)\n",
        "y_pred"
      ],
      "metadata": {
        "colab": {
          "base_uri": "https://localhost:8080/"
        },
        "id": "x-eLddwTxTqg",
        "outputId": "15f605d1-5a93-4272-c756-25976f7112b6"
      },
      "execution_count": null,
      "outputs": [
        {
          "output_type": "execute_result",
          "data": {
            "text/plain": [
              "array([39.38359886, 39.73456615, 40.08553343, 40.43650071, 40.78746799,\n",
              "       41.13843528, 41.48940256, 41.84036984, 42.19133713, 42.54230441])"
            ]
          },
          "metadata": {},
          "execution_count": 157
        }
      ]
    },
    {
      "cell_type": "markdown",
      "source": [
        "**14.\tОцените точность модели на тестовой выборке на основе коэффициента детерминации, воспользовавшись функцией r2_score(y_test, y_pred) из модуля sklearn.metrics. Сравните результат с полученными ранее.**"
      ],
      "metadata": {
        "id": "XP8YxZoPECe7"
      }
    },
    {
      "cell_type": "code",
      "source": [
        "R2=r2_score(y_test, y_pred)\n",
        "R2"
      ],
      "metadata": {
        "colab": {
          "base_uri": "https://localhost:8080/"
        },
        "id": "e6mEXWX7xaYJ",
        "outputId": "963573a5-c032-4f49-dd03-40b833604529"
      },
      "execution_count": null,
      "outputs": [
        {
          "output_type": "execute_result",
          "data": {
            "text/plain": [
              "0.3517499643004516"
            ]
          },
          "metadata": {},
          "execution_count": 158
        }
      ]
    },
    {
      "cell_type": "markdown",
      "source": [
        "**15.\tОцените точность модели на тестовой выборке на основе средней абсолютной ошибки (MAE), воспользовавшись функцией mean_absolute_error(y_test, y_pred) из модуля sklearn.metrics.**"
      ],
      "metadata": {
        "id": "d8_W-N69EPKJ"
      }
    },
    {
      "cell_type": "code",
      "source": [
        "MAE=mean_absolute_error(y_test, y_pred)\n",
        "MAE"
      ],
      "metadata": {
        "colab": {
          "base_uri": "https://localhost:8080/"
        },
        "id": "zZG1SwLvxmZQ",
        "outputId": "23492ec6-c593-48fd-a0bd-fa7b50fb06de"
      },
      "execution_count": null,
      "outputs": [
        {
          "output_type": "execute_result",
          "data": {
            "text/plain": [
              "1.6781621621621639"
            ]
          },
          "metadata": {},
          "execution_count": 161
        }
      ]
    },
    {
      "cell_type": "markdown",
      "source": [
        "**16.\tОцените точность модели на тестовой выборке на основе средней квадратичной ошибки (MSE), воспользовавшись функцией mean_squared_error(y_test, y_pred) из модуля sklearn.metrics.**"
      ],
      "metadata": {
        "id": "kzZVb1dKEk9-"
      }
    },
    {
      "cell_type": "code",
      "source": [
        "MSE=mean_squared_error(y_test, y_pred)\n",
        "MSE"
      ],
      "metadata": {
        "colab": {
          "base_uri": "https://localhost:8080/"
        },
        "id": "XX3NeQroxx-j",
        "outputId": "2c8ed0c3-69df-4530-bdf6-6d531fa7d536"
      },
      "execution_count": null,
      "outputs": [
        {
          "output_type": "execute_result",
          "data": {
            "text/plain": [
              "4.317812626034734"
            ]
          },
          "metadata": {},
          "execution_count": 164
        }
      ]
    },
    {
      "cell_type": "markdown",
      "source": [
        "**17.\tОцените точность модели на тестовой выборке на основе корня квадратного из среднеквадратичной ошибки (RMSE) для всех сделанных прогнозов, воспользовавшись функцией sqrt() из модуля math и функцией mean_squared_error(y_test, y_pred) из модуля sklearn.metrics.**"
      ],
      "metadata": {
        "id": "MZssyq-dE6I9"
      }
    },
    {
      "cell_type": "code",
      "source": [
        "RMSE=sqrt(MSE)\n",
        "RMSE"
      ],
      "metadata": {
        "colab": {
          "base_uri": "https://localhost:8080/"
        },
        "id": "Oz1EbiQpx6iZ",
        "outputId": "2da163e5-2090-44f4-ef79-1473ccfb8d53"
      },
      "execution_count": null,
      "outputs": [
        {
          "output_type": "execute_result",
          "data": {
            "text/plain": [
              "2.077934702062299"
            ]
          },
          "metadata": {},
          "execution_count": 165
        }
      ]
    },
    {
      "cell_type": "markdown",
      "source": [
        "**18.\tРассчитайте прогнозные значения на тестовой выборке по базовой модели, которая в качестве прогноза выдает прошлое значение. Результат запишите в переменную y_pred.**"
      ],
      "metadata": {
        "id": "sAWe5pyNFI8V"
      }
    },
    {
      "cell_type": "code",
      "source": [
        "y_pred=y[len(y_train)-1:len(y)-1]\n",
        "y_pred"
      ],
      "metadata": {
        "colab": {
          "base_uri": "https://localhost:8080/"
        },
        "id": "WN_3oFRFyGKv",
        "outputId": "143fbc4f-396d-4e28-d3e2-001b1ac70882"
      },
      "execution_count": null,
      "outputs": [
        {
          "output_type": "execute_result",
          "data": {
            "text/plain": [
              "array([39.68, 37.36, 39.21, 39.43, 43.5 , 40.75, 42.84, 38.01, 45.18,\n",
              "       42.49])"
            ]
          },
          "metadata": {},
          "execution_count": 166
        }
      ]
    },
    {
      "cell_type": "code",
      "source": [
        "MSE=mean_squared_error(y_test, y_pred) # ошибка увеличилась\n",
        "MSE"
      ],
      "metadata": {
        "colab": {
          "base_uri": "https://localhost:8080/"
        },
        "outputId": "8e24ab9a-3348-45e2-dc6b-b35ec95587e5",
        "id": "bdLMv5IcyoR6"
      },
      "execution_count": null,
      "outputs": [
        {
          "output_type": "execute_result",
          "data": {
            "text/plain": [
              "12.22468000000001"
            ]
          },
          "metadata": {},
          "execution_count": 167
        }
      ]
    },
    {
      "cell_type": "markdown",
      "source": [
        "**19.\tОцените точность базовой модели на тестовой выборке на основе средней квадратичной ошибки (MSE), воспользовавшись функцией mean_squared_error(y_test, y_pred) из модуля sklearn.metrics. Сравните результат с аналогичным показателем линейного тренда.**"
      ],
      "metadata": {
        "id": "D_PQ9caVFjGW"
      }
    },
    {
      "cell_type": "markdown",
      "source": [
        "**ОБУЧАЕМ НА ВСЕХ ДАННЫХ ЛУЧШУЮ МОДЕЛЬ**"
      ],
      "metadata": {
        "id": "eUQxOj0mGPjO"
      }
    },
    {
      "cell_type": "code",
      "source": [
        "t=np.arange(1,len(y)+1) #\n",
        "t"
      ],
      "metadata": {
        "colab": {
          "base_uri": "https://localhost:8080/"
        },
        "id": "-gv1_6kfFtzw",
        "outputId": "2d94ead1-0fed-451a-a65e-396d465fcabb"
      },
      "execution_count": null,
      "outputs": [
        {
          "output_type": "execute_result",
          "data": {
            "text/plain": [
              "array([ 1,  2,  3,  4,  5,  6,  7,  8,  9, 10, 11, 12, 13, 14, 15, 16, 17,\n",
              "       18, 19, 20, 21, 22, 23, 24, 25, 26, 27, 28, 29, 30, 31, 32, 33, 34,\n",
              "       35, 36, 37, 38, 39, 40, 41, 42, 43, 44, 45, 46, 47, 48])"
            ]
          },
          "metadata": {},
          "execution_count": 177
        }
      ]
    },
    {
      "cell_type": "code",
      "source": [
        "t=t.reshape(-1,1) # превращаем строчку в столбец\n",
        "t"
      ],
      "metadata": {
        "id": "YUx_LGyjy6eW"
      },
      "execution_count": null,
      "outputs": []
    },
    {
      "cell_type": "markdown",
      "source": [
        "**20.\tОбучите на всех данных лучшую модель. Запишите ее уравнение.**"
      ],
      "metadata": {
        "id": "tSfBnb_qJ1r9"
      }
    },
    {
      "cell_type": "code",
      "source": [
        "model=LinearRegression().fit(t,y) # создаем объект и обучаем"
      ],
      "metadata": {
        "id": "Oqv33lEsy-Yy"
      },
      "execution_count": null,
      "outputs": []
    },
    {
      "cell_type": "code",
      "source": [
        "model.coef_"
      ],
      "metadata": {
        "colab": {
          "base_uri": "https://localhost:8080/"
        },
        "id": "7TaUCENgzGZ8",
        "outputId": "058af8ba-9e3b-49df-ec2e-e2d8216ab6a3"
      },
      "execution_count": null,
      "outputs": [
        {
          "output_type": "execute_result",
          "data": {
            "text/plain": [
              "array([0.36008142])"
            ]
          },
          "metadata": {},
          "execution_count": 186
        }
      ]
    },
    {
      "cell_type": "code",
      "source": [
        "model.intercept_"
      ],
      "metadata": {
        "colab": {
          "base_uri": "https://localhost:8080/"
        },
        "id": "8Ih5NG2gzMFj",
        "outputId": "f653358d-aabf-4f94-a6ee-40403d51c6fb"
      },
      "execution_count": null,
      "outputs": [
        {
          "output_type": "execute_result",
          "data": {
            "text/plain": [
              "25.542171985815607"
            ]
          },
          "metadata": {},
          "execution_count": 187
        }
      ]
    },
    {
      "cell_type": "code",
      "source": [
        "y_pred=model.predict(t) # обученная на наших данных модель спрогнозировала ниши данные\n",
        "                        # по уравнению y=ax-b, где a = model.coef_ и b = model.intercept_\n",
        "y_pred"
      ],
      "metadata": {
        "colab": {
          "base_uri": "https://localhost:8080/"
        },
        "id": "sEFm3mOkzOX5",
        "outputId": "8b1dfaeb-50da-479f-a4ee-74059ef24493"
      },
      "execution_count": null,
      "outputs": [
        {
          "output_type": "execute_result",
          "data": {
            "text/plain": [
              "array([25.9022534 , 26.26233482, 26.62241623, 26.98249765, 27.34257906,\n",
              "       27.70266048, 28.06274189, 28.42282331, 28.78290473, 29.14298614,\n",
              "       29.50306756, 29.86314897, 30.22323039, 30.5833118 , 30.94339322,\n",
              "       31.30347463, 31.66355605, 32.02363747, 32.38371888, 32.7438003 ,\n",
              "       33.10388171, 33.46396313, 33.82404454, 34.18412596, 34.54420737,\n",
              "       34.90428879, 35.26437021, 35.62445162, 35.98453304, 36.34461445,\n",
              "       36.70469587, 37.06477728, 37.4248587 , 37.78494011, 38.14502153,\n",
              "       38.50510295, 38.86518436, 39.22526578, 39.58534719, 39.94542861,\n",
              "       40.30551002, 40.66559144, 41.02567285, 41.38575427, 41.74583569,\n",
              "       42.1059171 , 42.46599852, 42.82607993])"
            ]
          },
          "metadata": {},
          "execution_count": 193
        }
      ]
    },
    {
      "cell_type": "markdown",
      "source": [
        "**21.\tНайдите расчетные значения по модели для всех данных. Рассчитайте ошибки модели для всех данных. Поместите столбец ошибок 'Error' в таблицу исходных данных. Выведите на экран первые 5 наблюдений.**"
      ],
      "metadata": {
        "id": "mgwOlquaJ6QW"
      }
    },
    {
      "cell_type": "code",
      "source": [
        "my_data['Error']=y-y_pred # добавляем столбец в котором выводим разницу между фактическим значением и расчетным\n",
        "my_data.sample(10)"
      ],
      "metadata": {
        "colab": {
          "base_uri": "https://localhost:8080/",
          "height": 394
        },
        "id": "lL5EHNYmzeDG",
        "outputId": "5f57108d-f44e-47a0-abce-6353be4a7833"
      },
      "execution_count": null,
      "outputs": [
        {
          "output_type": "execute_result",
          "data": {
            "text/plain": [
              "            Value     Error\n",
              "Date                       \n",
              "2007-12-01  31.73  1.866851\n",
              "2008-04-01  34.49  3.186525\n",
              "2010-08-01  42.84  1.454246\n",
              "2009-10-01  35.49 -2.294940\n",
              "2010-04-01  39.21 -0.735429\n",
              "2009-07-01  37.50  0.795304\n",
              "2008-06-01  34.56  2.536363\n",
              "2007-01-01  26.45  0.547747\n",
              "2009-12-01  37.74 -0.765103\n",
              "2007-11-01  28.60 -0.903068"
            ],
            "text/html": [
              "\n",
              "  <div id=\"df-4f7e84ef-e88f-41fe-8e82-0732f4763c71\">\n",
              "    <div class=\"colab-df-container\">\n",
              "      <div>\n",
              "<style scoped>\n",
              "    .dataframe tbody tr th:only-of-type {\n",
              "        vertical-align: middle;\n",
              "    }\n",
              "\n",
              "    .dataframe tbody tr th {\n",
              "        vertical-align: top;\n",
              "    }\n",
              "\n",
              "    .dataframe thead th {\n",
              "        text-align: right;\n",
              "    }\n",
              "</style>\n",
              "<table border=\"1\" class=\"dataframe\">\n",
              "  <thead>\n",
              "    <tr style=\"text-align: right;\">\n",
              "      <th></th>\n",
              "      <th>Value</th>\n",
              "      <th>Error</th>\n",
              "    </tr>\n",
              "    <tr>\n",
              "      <th>Date</th>\n",
              "      <th></th>\n",
              "      <th></th>\n",
              "    </tr>\n",
              "  </thead>\n",
              "  <tbody>\n",
              "    <tr>\n",
              "      <th>2007-12-01</th>\n",
              "      <td>31.73</td>\n",
              "      <td>1.866851</td>\n",
              "    </tr>\n",
              "    <tr>\n",
              "      <th>2008-04-01</th>\n",
              "      <td>34.49</td>\n",
              "      <td>3.186525</td>\n",
              "    </tr>\n",
              "    <tr>\n",
              "      <th>2010-08-01</th>\n",
              "      <td>42.84</td>\n",
              "      <td>1.454246</td>\n",
              "    </tr>\n",
              "    <tr>\n",
              "      <th>2009-10-01</th>\n",
              "      <td>35.49</td>\n",
              "      <td>-2.294940</td>\n",
              "    </tr>\n",
              "    <tr>\n",
              "      <th>2010-04-01</th>\n",
              "      <td>39.21</td>\n",
              "      <td>-0.735429</td>\n",
              "    </tr>\n",
              "    <tr>\n",
              "      <th>2009-07-01</th>\n",
              "      <td>37.50</td>\n",
              "      <td>0.795304</td>\n",
              "    </tr>\n",
              "    <tr>\n",
              "      <th>2008-06-01</th>\n",
              "      <td>34.56</td>\n",
              "      <td>2.536363</td>\n",
              "    </tr>\n",
              "    <tr>\n",
              "      <th>2007-01-01</th>\n",
              "      <td>26.45</td>\n",
              "      <td>0.547747</td>\n",
              "    </tr>\n",
              "    <tr>\n",
              "      <th>2009-12-01</th>\n",
              "      <td>37.74</td>\n",
              "      <td>-0.765103</td>\n",
              "    </tr>\n",
              "    <tr>\n",
              "      <th>2007-11-01</th>\n",
              "      <td>28.60</td>\n",
              "      <td>-0.903068</td>\n",
              "    </tr>\n",
              "  </tbody>\n",
              "</table>\n",
              "</div>\n",
              "      <button class=\"colab-df-convert\" onclick=\"convertToInteractive('df-4f7e84ef-e88f-41fe-8e82-0732f4763c71')\"\n",
              "              title=\"Convert this dataframe to an interactive table.\"\n",
              "              style=\"display:none;\">\n",
              "        \n",
              "  <svg xmlns=\"http://www.w3.org/2000/svg\" height=\"24px\"viewBox=\"0 0 24 24\"\n",
              "       width=\"24px\">\n",
              "    <path d=\"M0 0h24v24H0V0z\" fill=\"none\"/>\n",
              "    <path d=\"M18.56 5.44l.94 2.06.94-2.06 2.06-.94-2.06-.94-.94-2.06-.94 2.06-2.06.94zm-11 1L8.5 8.5l.94-2.06 2.06-.94-2.06-.94L8.5 2.5l-.94 2.06-2.06.94zm10 10l.94 2.06.94-2.06 2.06-.94-2.06-.94-.94-2.06-.94 2.06-2.06.94z\"/><path d=\"M17.41 7.96l-1.37-1.37c-.4-.4-.92-.59-1.43-.59-.52 0-1.04.2-1.43.59L10.3 9.45l-7.72 7.72c-.78.78-.78 2.05 0 2.83L4 21.41c.39.39.9.59 1.41.59.51 0 1.02-.2 1.41-.59l7.78-7.78 2.81-2.81c.8-.78.8-2.07 0-2.86zM5.41 20L4 18.59l7.72-7.72 1.47 1.35L5.41 20z\"/>\n",
              "  </svg>\n",
              "      </button>\n",
              "      \n",
              "  <style>\n",
              "    .colab-df-container {\n",
              "      display:flex;\n",
              "      flex-wrap:wrap;\n",
              "      gap: 12px;\n",
              "    }\n",
              "\n",
              "    .colab-df-convert {\n",
              "      background-color: #E8F0FE;\n",
              "      border: none;\n",
              "      border-radius: 50%;\n",
              "      cursor: pointer;\n",
              "      display: none;\n",
              "      fill: #1967D2;\n",
              "      height: 32px;\n",
              "      padding: 0 0 0 0;\n",
              "      width: 32px;\n",
              "    }\n",
              "\n",
              "    .colab-df-convert:hover {\n",
              "      background-color: #E2EBFA;\n",
              "      box-shadow: 0px 1px 2px rgba(60, 64, 67, 0.3), 0px 1px 3px 1px rgba(60, 64, 67, 0.15);\n",
              "      fill: #174EA6;\n",
              "    }\n",
              "\n",
              "    [theme=dark] .colab-df-convert {\n",
              "      background-color: #3B4455;\n",
              "      fill: #D2E3FC;\n",
              "    }\n",
              "\n",
              "    [theme=dark] .colab-df-convert:hover {\n",
              "      background-color: #434B5C;\n",
              "      box-shadow: 0px 1px 3px 1px rgba(0, 0, 0, 0.15);\n",
              "      filter: drop-shadow(0px 1px 2px rgba(0, 0, 0, 0.3));\n",
              "      fill: #FFFFFF;\n",
              "    }\n",
              "  </style>\n",
              "\n",
              "      <script>\n",
              "        const buttonEl =\n",
              "          document.querySelector('#df-4f7e84ef-e88f-41fe-8e82-0732f4763c71 button.colab-df-convert');\n",
              "        buttonEl.style.display =\n",
              "          google.colab.kernel.accessAllowed ? 'block' : 'none';\n",
              "\n",
              "        async function convertToInteractive(key) {\n",
              "          const element = document.querySelector('#df-4f7e84ef-e88f-41fe-8e82-0732f4763c71');\n",
              "          const dataTable =\n",
              "            await google.colab.kernel.invokeFunction('convertToInteractive',\n",
              "                                                     [key], {});\n",
              "          if (!dataTable) return;\n",
              "\n",
              "          const docLinkHtml = 'Like what you see? Visit the ' +\n",
              "            '<a target=\"_blank\" href=https://colab.research.google.com/notebooks/data_table.ipynb>data table notebook</a>'\n",
              "            + ' to learn more about interactive tables.';\n",
              "          element.innerHTML = '';\n",
              "          dataTable['output_type'] = 'display_data';\n",
              "          await google.colab.output.renderOutput(dataTable, element);\n",
              "          const docLink = document.createElement('div');\n",
              "          docLink.innerHTML = docLinkHtml;\n",
              "          element.appendChild(docLink);\n",
              "        }\n",
              "      </script>\n",
              "    </div>\n",
              "  </div>\n",
              "  "
            ]
          },
          "metadata": {},
          "execution_count": 194
        }
      ]
    },
    {
      "cell_type": "markdown",
      "source": [
        "**22.\tПостройте линейный график ошибок, воспользовавшись функцией plot() и командой pyplot.show() из модуля matplotlib. Прокомментируйте результат.**"
      ],
      "metadata": {
        "id": "3TEIF7IBJ_DX"
      }
    },
    {
      "cell_type": "code",
      "source": [
        "my_data.Error.plot() # график говорит о том что среднее = 0 , это хорошо\n",
        "plt.show()"
      ],
      "metadata": {
        "colab": {
          "base_uri": "https://localhost:8080/",
          "height": 291
        },
        "id": "xeb2-m7Wzvkp",
        "outputId": "c26f56ae-7ebc-48ad-c15a-91ef978bc8d4"
      },
      "execution_count": null,
      "outputs": [
        {
          "output_type": "display_data",
          "data": {
            "text/plain": [
              "<Figure size 432x288 with 1 Axes>"
            ],
            "image/png": "[encoded data removed]"
          },
          "metadata": {
            "needs_background": "light"
          }
        }
      ]
    },
    {
      "cell_type": "markdown",
      "source": [
        "**23.\tВыведите на экран описательные статистики ошибок, воспользовавшись функцией describe(). Прокомментируйте результат.**"
      ],
      "metadata": {
        "id": "HBQAEFUgKSit"
      }
    },
    {
      "cell_type": "code",
      "source": [
        "my_data.Error.describe()"
      ],
      "metadata": {
        "colab": {
          "base_uri": "https://localhost:8080/"
        },
        "id": "qTx6FA-d0Eet",
        "outputId": "02e9f827-9e6b-43bf-8666-de3669c49c09"
      },
      "execution_count": null,
      "outputs": [
        {
          "output_type": "execute_result",
          "data": {
            "text/plain": [
              "count    4.800000e+01\n",
              "mean    -2.146431e-15\n",
              "std      2.056806e+00\n",
              "min     -3.735836e+00\n",
              "25%     -2.107722e+00\n",
              "50%      1.973422e-02\n",
              "75%      1.563089e+00\n",
              "max      3.406688e+00\n",
              "Name: Error, dtype: float64"
            ]
          },
          "metadata": {},
          "execution_count": 197
        }
      ]
    },
    {
      "cell_type": "markdown",
      "source": [
        "**24.\tПостройте для ошибок гистограмму на основе функции hist(), ядерную оценку плотности на основе функции plot(kind='kde'), Q-Q график на основе функции qqplot() из модуля statsmodels.graphics.gofplots, а также функцией show() из matplotlib.pyplot. Прокомментируйте результат.**"
      ],
      "metadata": {
        "id": "O2DC3lMuKYjl"
      }
    },
    {
      "cell_type": "code",
      "source": [
        "my_data.Error.hist()\n",
        "plt.show()"
      ],
      "metadata": {
        "id": "g506_QWp0SJW"
      },
      "execution_count": null,
      "outputs": []
    },
    {
      "cell_type": "code",
      "source": [
        "my_data.Error.plot(kind='kde')\n",
        "plt.show()"
      ],
      "metadata": {
        "colab": {
          "base_uri": "https://localhost:8080/",
          "height": 265
        },
        "id": "lBHgW5S30gdx",
        "outputId": "97585f71-4a02-428c-dee7-a04e57a75a74"
      },
      "execution_count": null,
      "outputs": [
        {
          "output_type": "display_data",
          "data": {
            "text/plain": [
              "<Figure size 432x288 with 1 Axes>"
            ],
            "image/png": "[encoded data removed]"
          },
          "metadata": {
            "needs_background": "light"
          }
        }
      ]
    },
    {
      "cell_type": "markdown",
      "source": [
        "# **график квантиля квантиля**"
      ],
      "metadata": {
        "id": "_nJqfaqMMmko"
      }
    },
    {
      "cell_type": "markdown",
      "source": [
        "**здесь прямая соответствует норманому распределению и чем ближе значения ряда расположены к этой прямой тем они нормальней**"
      ],
      "metadata": {
        "id": "lRhvUAVvMsz5"
      }
    },
    {
      "cell_type": "code",
      "source": [
        "# !!!!!!!! qqplot(price_1,price_2) - этот пример показывает, что можно на одном графике вывести два ряда данных\n",
        "# например данные за 2007 и 2011 годы и посмотреть соотвествуют ли эти данные в целом нормальному распределению"
      ],
      "metadata": {
        "id": "2oFaNGn-NF9J"
      },
      "execution_count": null,
      "outputs": []
    },
    {
      "cell_type": "code",
      "source": [
        "qqplot(my_data.Error, line='r') #\n",
        "plt.show()"
      ],
      "metadata": {
        "colab": {
          "base_uri": "https://localhost:8080/",
          "height": 279
        },
        "id": "FXktVizg0vfA",
        "outputId": "6e53b2b6-e2e3-4de9-9815-5d68c82db1c1"
      },
      "execution_count": null,
      "outputs": [
        {
          "output_type": "display_data",
          "data": {
            "text/plain": [
              "<Figure size 432x288 with 1 Axes>"
            ],
            "image/png": "[encoded data removed]"
          },
          "metadata": {
            "needs_background": "light"
          }
        }
      ]
    },
    {
      "cell_type": "markdown",
      "source": [
        "**25.\tОцените адекватность модели линейного тренда на основе теста Дарбина-Уотсона, воспользовавшись функцией durbin_watson() из модуля statsmodels.stats.stattools применительно к остаткам модели. Прокомментируйте результат.**\n",
        "\n",
        "\n",
        "**теста Дарбина-Уотсона** - определяет наличие автокорреляции в остатках"
      ],
      "metadata": {
        "id": "bdnNib6ON0Ob"
      }
    },
    {
      "cell_type": "code",
      "source": [
        "d=durbin_watson(my_data.Error)\n",
        "d"
      ],
      "metadata": {
        "colab": {
          "base_uri": "https://localhost:8080/"
        },
        "id": "yI0abQI_0-UX",
        "outputId": "f0c1609b-4c99-49ab-8c0a-231075f8806c"
      },
      "execution_count": null,
      "outputs": [
        {
          "output_type": "execute_result",
          "data": {
            "text/plain": [
              "2.4215967803259413"
            ]
          },
          "metadata": {},
          "execution_count": 204
        }
      ]
    },
    {
      "cell_type": "markdown",
      "source": [
        "**модель адекватная**"
      ],
      "metadata": {
        "id": "7U1eSf1rO1QL"
      }
    },
    {
      "cell_type": "markdown",
      "source": [
        "вывод: **ИДЕАЛЬНО**, т.е. нет автокорреляции, т.к. близко к 2, если бы было 0, то положительная автокорреляция, если 4 - то отрицательная"
      ],
      "metadata": {
        "id": "LJ4OdAVJOSYJ"
      }
    },
    {
      "cell_type": "markdown",
      "source": [
        "**но все же недостаточно, попали в зону неопределенности**"
      ],
      "metadata": {
        "id": "7L8FHUZtPAxV"
      }
    },
    {
      "cell_type": "markdown",
      "source": [
        "**если d > 2, то нужно:**"
      ],
      "metadata": {
        "id": "8GbnRwkyPJ3I"
      }
    },
    {
      "cell_type": "code",
      "source": [
        "4-d"
      ],
      "metadata": {
        "colab": {
          "base_uri": "https://localhost:8080/"
        },
        "id": "76QixWsM1P4M",
        "outputId": "29c6d145-431c-4a9b-97ff-d7884bfa6317"
      },
      "execution_count": null,
      "outputs": [
        {
          "output_type": "execute_result",
          "data": {
            "text/plain": [
              "1.5784032196740587"
            ]
          },
          "metadata": {},
          "execution_count": 206
        }
      ]
    },
    {
      "cell_type": "markdown",
      "source": [
        "dl=1.5, du=1.59"
      ],
      "metadata": {
        "id": "PPTjCvvu1jFG"
      }
    },
    {
      "cell_type": "markdown",
      "source": [
        "**26.\tПостройте для ошибок линейного тренда коррелограмму, воспользовавшись функцией autocorrelation_plot() из модуля pandas.plotting. Прокомментируйте результат.**"
      ],
      "metadata": {
        "id": "U8Ru7-2ISvs5"
      }
    },
    {
      "cell_type": "code",
      "source": [
        "autocorrelation_plot(my_data.Error) # а здесь модель адекватная\n",
        "plt.show()"
      ],
      "metadata": {
        "colab": {
          "base_uri": "https://localhost:8080/",
          "height": 283
        },
        "id": "gLN3pEsk1hjM",
        "outputId": "29fb72d4-7084-4e8f-d4d0-6dd8f6585b27"
      },
      "execution_count": null,
      "outputs": [
        {
          "output_type": "display_data",
          "data": {
            "text/plain": [
              "<Figure size 432x288 with 1 Axes>"
            ],
            "image/png": "[encoded data removed]"
          },
          "metadata": {
            "needs_background": "light"
          }
        }
      ]
    },
    {
      "cell_type": "markdown",
      "source": [
        "**27.\tРассчитайте среднее квадратичное отклонение, воспользовавшись функцией sem() из модуля scipy.stats. Запишите результат в переменную sigma и выведите его на экран.**"
      ],
      "metadata": {
        "id": "AJBHQtI1TKXY"
      }
    },
    {
      "cell_type": "code",
      "source": [
        "sigma =scipy.stats.sem(y)\n",
        "sigma"
      ],
      "metadata": {
        "colab": {
          "base_uri": "https://localhost:8080/"
        },
        "id": "d-EYF4E51-hO",
        "outputId": "6e057572-c2fe-424f-917d-a8510f62ea27"
      },
      "execution_count": null,
      "outputs": [
        {
          "output_type": "execute_result",
          "data": {
            "text/plain": [
              "0.7858586031149843"
            ]
          },
          "metadata": {},
          "execution_count": 208
        }
      ]
    },
    {
      "cell_type": "markdown",
      "source": [
        "**28.\tРассчитайте двусторонний t критерий Стьюдента для существующего объема выборки и 95% достоверности результата (confidence). Воспользуйтесь функцией t.ppf((1 + confidence) / 2., len(y)-1) из модуля scipy.stats. Запишите результат в переменную tstu и выведите его на экран.**"
      ],
      "metadata": {
        "id": "4TimFwjnTXFn"
      }
    },
    {
      "cell_type": "markdown",
      "source": [
        "**t-критерий стюдента**"
      ],
      "metadata": {
        "id": "U2w2iL9yTn2p"
      }
    },
    {
      "cell_type": "code",
      "source": [
        "confidence=0.95\n",
        "tstu =scipy.stats.t.ppf((1+confidence)/2.,len(y)-1)\n",
        "tstu"
      ],
      "metadata": {
        "colab": {
          "base_uri": "https://localhost:8080/"
        },
        "id": "zh7sxv-Y2YdK",
        "outputId": "8c3e37ba-4193-49de-d94d-049d1515eb6f"
      },
      "execution_count": null,
      "outputs": [
        {
          "output_type": "execute_result",
          "data": {
            "text/plain": [
              "2.0117405104757546"
            ]
          },
          "metadata": {},
          "execution_count": 209
        }
      ]
    },
    {
      "cell_type": "markdown",
      "source": [
        "# **Выполняем прогноз для последующих 12 месяцев**"
      ],
      "metadata": {
        "id": "g0UnzgnEUYTk"
      }
    },
    {
      "cell_type": "markdown",
      "source": [
        "**29.\tСгенерируйте номера наблюдений для прогнозного интервала, равного 12 месяцев. Запишите результат в переменную t_new и выведите его на экран.**"
      ],
      "metadata": {
        "id": "WcRkLu8aT78O"
      }
    },
    {
      "cell_type": "code",
      "source": [
        "t_new =np.arange(len(y)+1, len(y)+13)\n",
        "t_new"
      ],
      "metadata": {
        "colab": {
          "base_uri": "https://localhost:8080/"
        },
        "id": "8IvMwCaU27oL",
        "outputId": "cab1260e-fa6f-447f-9c8f-64b08d2b6e28"
      },
      "execution_count": null,
      "outputs": [
        {
          "output_type": "execute_result",
          "data": {
            "text/plain": [
              "array([49, 50, 51, 52, 53, 54, 55, 56, 57, 58, 59, 60])"
            ]
          },
          "metadata": {},
          "execution_count": 217
        }
      ]
    },
    {
      "cell_type": "code",
      "source": [
        "t_new =t_new.reshape(-1,1)"
      ],
      "metadata": {
        "id": "-UjMA5MC3IcF"
      },
      "execution_count": null,
      "outputs": []
    },
    {
      "cell_type": "markdown",
      "source": [
        "**30.\tНайдите прогнозные значения цены на материал 1 на год вперед (точечный прогноз). Запишите результат в переменную y_new и выведите его на экран.**"
      ],
      "metadata": {
        "id": "7zgPq58gUvVX"
      }
    },
    {
      "cell_type": "code",
      "source": [
        "y_new =model.predict(t_new) # model - эту модель мы\n",
        "y_new"
      ],
      "metadata": {
        "colab": {
          "base_uri": "https://localhost:8080/"
        },
        "id": "ASazf-EQ3Ph6",
        "outputId": "c6c43de8-636b-4564-ea7d-3be453253adf"
      },
      "execution_count": null,
      "outputs": [
        {
          "output_type": "execute_result",
          "data": {
            "text/plain": [
              "array([43.18616135, 43.54624276, 43.90632418, 44.26640559, 44.62648701,\n",
              "       44.98656843, 45.34664984, 45.70673126, 46.06681267, 46.42689409,\n",
              "       46.7869755 , 47.14705692])"
            ]
          },
          "metadata": {},
          "execution_count": 219
        }
      ]
    },
    {
      "cell_type": "markdown",
      "source": [
        "**31.\tРассчитайте верхнюю границу прогнозного интервала**, воспользовавшись формулой: y_up=y_new+tstu* igma.Выведите результат на экран."
      ],
      "metadata": {
        "id": "JjPyFek6VpLI"
      }
    },
    {
      "cell_type": "code",
      "source": [
        "y_up=y_new+tstu*sigma # выисляем верхнюю границу = значение + t критерий * на СКО(среднеквадрати́чное отклоне́ние )\n",
        "y_up"
      ],
      "metadata": {
        "colab": {
          "base_uri": "https://localhost:8080/"
        },
        "id": "sd_TbFmd3ai7",
        "outputId": "de0ab622-81cd-4be8-bcdd-f4fb21332862"
      },
      "execution_count": null,
      "outputs": [
        {
          "output_type": "execute_result",
          "data": {
            "text/plain": [
              "array([44.76710493, 45.12718635, 45.48726777, 45.84734918, 46.2074306 ,\n",
              "       46.56751201, 46.92759343, 47.28767484, 47.64775626, 48.00783767,\n",
              "       48.36791909, 48.72800051])"
            ]
          },
          "metadata": {},
          "execution_count": 225
        }
      ]
    },
    {
      "cell_type": "markdown",
      "source": [
        "**32.\tРассчитайте нижнюю границу прогнозного интервала**, воспользовавшись формулой: y_down=y_new-tstu*sigma. Выведите результат на экран."
      ],
      "metadata": {
        "id": "QLA_qGG6WCol"
      }
    },
    {
      "cell_type": "code",
      "source": [
        "y_down=y_new-tstu*sigma # выисляем верхнюю границу = значение - t критерий * на СКО(среднеквадрати́чное отклоне́ние )\n",
        "y_down"
      ],
      "metadata": {
        "colab": {
          "base_uri": "https://localhost:8080/"
        },
        "id": "tuaajzCp3l4a",
        "outputId": "9b21d12b-cabf-4c7f-a472-3bf844965c96"
      },
      "execution_count": null,
      "outputs": [
        {
          "output_type": "execute_result",
          "data": {
            "text/plain": [
              "array([41.60521776, 41.96529918, 42.32538059, 42.68546201, 43.04554342,\n",
              "       43.40562484, 43.76570625, 44.12578767, 44.48586908, 44.8459505 ,\n",
              "       45.20603192, 45.56611333])"
            ]
          },
          "metadata": {},
          "execution_count": 224
        }
      ]
    },
    {
      "cell_type": "markdown",
      "source": [
        "**33.\tНанесите на одну диаграмму фактические значения, значения по модели, точечный и интервальный прогнозы, воспользовавшись функциями figure(), scatter(), plot(), xlabel(), ylabel(), legend() и show() из модуля matplotlib.pyplot.**"
      ],
      "metadata": {
        "id": "m25bJVFXWJ4r"
      }
    },
    {
      "cell_type": "code",
      "source": [
        "plt.figure(figsize=(15,10))\n",
        "\n",
        "plt.scatter(t,y)\n",
        "\n",
        "plt.plot(t, y_pred)\n",
        "plt.plot(t_new, y_new)\n",
        "plt.plot(t_new, y_up)\n",
        "plt.plot(t_new, y_down)\n",
        "\n",
        "plt.xlabel('Номер наблюдения')\n",
        "plt.ylabel('Цена на материал 1')\n",
        "plt.legend(['модель регрессии', 'прогноз', 'верхняя граница дов.интервала', 'нижняя граница дов.интервала'])\n",
        "\n",
        "plt.show()"
      ],
      "metadata": {
        "colab": {
          "base_uri": "https://localhost:8080/",
          "height": 606
        },
        "id": "Y6IZSgbK3p8f",
        "outputId": "8f933f2e-d48d-4286-9f58-23cb16c38346"
      },
      "execution_count": null,
      "outputs": [
        {
          "output_type": "display_data",
          "data": {
            "text/plain": [
              "<Figure size 1080x720 with 1 Axes>"
            ],
            "image/png": "[encoded data removed]"
          },
          "metadata": {
            "needs_background": "light"
          }
        }
      ]
    },
    {
      "cell_type": "markdown",
      "source": [
        "**зеленое и красное - это границы прогнозного интервала, с вероятностью 95 % прогнозируемое значение попадет сюда**"
      ],
      "metadata": {
        "id": "RP-NZxvfX38W"
      }
    },
    {
      "cell_type": "code",
      "source": [],
      "metadata": {
        "id": "pQ-JusHb4683"
      },
      "execution_count": null,
      "outputs": []
    }
  ]
}