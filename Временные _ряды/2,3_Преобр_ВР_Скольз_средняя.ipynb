{
  "cells": [
    {
      "cell_type": "markdown",
      "source": [
        "# **ЗАДАНИЕ 2. ПРЕОБРАЗОВАНИЕ И АНАЛИЗ ДИНАМИКИ ВРЕМЕННОГО РЯДА**\n",
        "\n",
        "Измените частоту представления данных по ценам на материал 1 в большую и в меньшую сторону, воспользуйтесь основными аналитическими характеристиками динамики для анализа и прогнозирования временного ряда.\n",
        "Постарайтесь максимально автоматизировать все вычисления, использовать существующие модули среды программирования Python.\n"
      ],
      "metadata": {
        "id": "k34Z_SHBu5ex"
      }
    },
    {
      "cell_type": "markdown",
      "source": [
        "**Методика выполнения задания:**"
      ],
      "metadata": {
        "id": "N5z5b0iUvD-j"
      }
    },
    {
      "cell_type": "markdown",
      "source": [
        "# **Раздел 1. Изменение частоты представления данных и интерполяция**\n",
        "\n",
        "**1.\tПрочитайте данные по ценам на материал 1 и приведите их к виду, пригодному для дальнейшего анализа (см. пп.1-10 Задания 1).**\n",
        "\n"
      ],
      "metadata": {
        "id": "61k1Ft7_vHlT"
      }
    },
    {
      "cell_type": "code",
      "execution_count": null,
      "metadata": {
        "colab": {
          "base_uri": "https://localhost:8080/"
        },
        "id": "ROFA9EqYI6E8",
        "outputId": "d1d5bcdf-d869-4e9d-e7a7-3628d7702fba"
      },
      "outputs": [
        {
          "output_type": "stream",
          "name": "stdout",
          "text": [
            "Mounted at /content/gdrive\n"
          ]
        }
      ],
      "source": [
        "from google.colab import drive\n",
        "drive.mount('/content/gdrive')"
      ]
    },
    {
      "cell_type": "code",
      "execution_count": null,
      "metadata": {
        "id": "lpPfyt1YKIum"
      },
      "outputs": [],
      "source": [
        "!pip install --upgrade xlrd"
      ]
    },
    {
      "cell_type": "code",
      "execution_count": null,
      "metadata": {
        "id": "QfxDXt8_JOgf"
      },
      "outputs": [],
      "source": [
        "import os\n",
        "import pandas as pd\n",
        "from pandas import concat\n",
        "import matplotlib.pyplot as plt"
      ]
    },
    {
      "cell_type": "code",
      "execution_count": null,
      "metadata": {
        "id": "YhaAt-OuJqkW"
      },
      "outputs": [],
      "source": [
        "os.chdir('/content/gdrive/MyDrive/Colab Notebooks/PDA-210')"
      ]
    },
    {
      "cell_type": "code",
      "execution_count": null,
      "metadata": {
        "id": "yILggnMwj9RH"
      },
      "outputs": [],
      "source": [
        "data=pd.read_excel('data.xls', sheet_name='Material 1')\n",
        "data.head()"
      ]
    },
    {
      "cell_type": "code",
      "source": [
        "my_data = data.iloc[0:2,2:].T.rename(columns={0: 'Date', 1: 'Value'}).set_index('Date')\n",
        "my_data.dtypes\n",
        "#iloc[0:2,2:]                             - нарезал нужные строки и столбцы\n",
        "#.T                                       - поверхул всё, т.е. транспонировал\n",
        "#.rename(columns={0: 'Date', 1: 'Value'}) - поменял названия столбцов\n",
        "# .set_index('Date')                      - сделал столбец с датами индексом"
      ],
      "metadata": {
        "colab": {
          "base_uri": "https://localhost:8080/"
        },
        "id": "v5ntXnWAF9-A",
        "outputId": "f20b53b4-16e8-48ac-c6eb-88b811f006c0"
      },
      "execution_count": null,
      "outputs": [
        {
          "output_type": "execute_result",
          "data": {
            "text/plain": [
              "Value    object\n",
              "dtype: object"
            ]
          },
          "metadata": {},
          "execution_count": 6
        }
      ]
    },
    {
      "cell_type": "code",
      "source": [
        "my_data.shape[0]"
      ],
      "metadata": {
        "colab": {
          "base_uri": "https://localhost:8080/"
        },
        "id": "l3CQdNxvlpaG",
        "outputId": "52fb0705-863e-48a2-90af-bfe69a75b2fc"
      },
      "execution_count": null,
      "outputs": [
        {
          "output_type": "execute_result",
          "data": {
            "text/plain": [
              "48"
            ]
          },
          "metadata": {},
          "execution_count": 7
        }
      ]
    },
    {
      "cell_type": "code",
      "source": [
        "my_data.info()"
      ],
      "metadata": {
        "id": "oETfItfKwB_e"
      },
      "execution_count": null,
      "outputs": []
    },
    {
      "cell_type": "code",
      "source": [
        "my_data['Value'] = my_data['Value'].astype(float)"
      ],
      "metadata": {
        "id": "Pgfb1N3OwB_e"
      },
      "execution_count": null,
      "outputs": []
    },
    {
      "cell_type": "code",
      "source": [
        "my_data.info()"
      ],
      "metadata": {
        "id": "3-k0iJ4BwB_e"
      },
      "execution_count": null,
      "outputs": []
    },
    {
      "cell_type": "code",
      "source": [
        "my_data.sample(4)"
      ],
      "metadata": {
        "colab": {
          "base_uri": "https://localhost:8080/",
          "height": 206
        },
        "id": "bHNA232PwNv2",
        "outputId": "a255c626-e740-47b4-e480-149d2d137e36"
      },
      "execution_count": null,
      "outputs": [
        {
          "output_type": "execute_result",
          "data": {
            "text/plain": [
              "            Value\n",
              "Date             \n",
              "2007-04-01  30.03\n",
              "2007-06-01  25.58\n",
              "2008-11-01  31.57\n",
              "2007-05-01  28.96"
            ],
            "text/html": [
              "\n",
              "  <div id=\"df-8981020a-2e10-4470-93d3-df9676086db6\">\n",
              "    <div class=\"colab-df-container\">\n",
              "      <div>\n",
              "<style scoped>\n",
              "    .dataframe tbody tr th:only-of-type {\n",
              "        vertical-align: middle;\n",
              "    }\n",
              "\n",
              "    .dataframe tbody tr th {\n",
              "        vertical-align: top;\n",
              "    }\n",
              "\n",
              "    .dataframe thead th {\n",
              "        text-align: right;\n",
              "    }\n",
              "</style>\n",
              "<table border=\"1\" class=\"dataframe\">\n",
              "  <thead>\n",
              "    <tr style=\"text-align: right;\">\n",
              "      <th></th>\n",
              "      <th>Value</th>\n",
              "    </tr>\n",
              "    <tr>\n",
              "      <th>Date</th>\n",
              "      <th></th>\n",
              "    </tr>\n",
              "  </thead>\n",
              "  <tbody>\n",
              "    <tr>\n",
              "      <th>2007-04-01</th>\n",
              "      <td>30.03</td>\n",
              "    </tr>\n",
              "    <tr>\n",
              "      <th>2007-06-01</th>\n",
              "      <td>25.58</td>\n",
              "    </tr>\n",
              "    <tr>\n",
              "      <th>2008-11-01</th>\n",
              "      <td>31.57</td>\n",
              "    </tr>\n",
              "    <tr>\n",
              "      <th>2007-05-01</th>\n",
              "      <td>28.96</td>\n",
              "    </tr>\n",
              "  </tbody>\n",
              "</table>\n",
              "</div>\n",
              "      <button class=\"colab-df-convert\" onclick=\"convertToInteractive('df-8981020a-2e10-4470-93d3-df9676086db6')\"\n",
              "              title=\"Convert this dataframe to an interactive table.\"\n",
              "              style=\"display:none;\">\n",
              "        \n",
              "  <svg xmlns=\"http://www.w3.org/2000/svg\" height=\"24px\"viewBox=\"0 0 24 24\"\n",
              "       width=\"24px\">\n",
              "    <path d=\"M0 0h24v24H0V0z\" fill=\"none\"/>\n",
              "    <path d=\"M18.56 5.44l.94 2.06.94-2.06 2.06-.94-2.06-.94-.94-2.06-.94 2.06-2.06.94zm-11 1L8.5 8.5l.94-2.06 2.06-.94-2.06-.94L8.5 2.5l-.94 2.06-2.06.94zm10 10l.94 2.06.94-2.06 2.06-.94-2.06-.94-.94-2.06-.94 2.06-2.06.94z\"/><path d=\"M17.41 7.96l-1.37-1.37c-.4-.4-.92-.59-1.43-.59-.52 0-1.04.2-1.43.59L10.3 9.45l-7.72 7.72c-.78.78-.78 2.05 0 2.83L4 21.41c.39.39.9.59 1.41.59.51 0 1.02-.2 1.41-.59l7.78-7.78 2.81-2.81c.8-.78.8-2.07 0-2.86zM5.41 20L4 18.59l7.72-7.72 1.47 1.35L5.41 20z\"/>\n",
              "  </svg>\n",
              "      </button>\n",
              "      \n",
              "  <style>\n",
              "    .colab-df-container {\n",
              "      display:flex;\n",
              "      flex-wrap:wrap;\n",
              "      gap: 12px;\n",
              "    }\n",
              "\n",
              "    .colab-df-convert {\n",
              "      background-color: #E8F0FE;\n",
              "      border: none;\n",
              "      border-radius: 50%;\n",
              "      cursor: pointer;\n",
              "      display: none;\n",
              "      fill: #1967D2;\n",
              "      height: 32px;\n",
              "      padding: 0 0 0 0;\n",
              "      width: 32px;\n",
              "    }\n",
              "\n",
              "    .colab-df-convert:hover {\n",
              "      background-color: #E2EBFA;\n",
              "      box-shadow: 0px 1px 2px rgba(60, 64, 67, 0.3), 0px 1px 3px 1px rgba(60, 64, 67, 0.15);\n",
              "      fill: #174EA6;\n",
              "    }\n",
              "\n",
              "    [theme=dark] .colab-df-convert {\n",
              "      background-color: #3B4455;\n",
              "      fill: #D2E3FC;\n",
              "    }\n",
              "\n",
              "    [theme=dark] .colab-df-convert:hover {\n",
              "      background-color: #434B5C;\n",
              "      box-shadow: 0px 1px 3px 1px rgba(0, 0, 0, 0.15);\n",
              "      filter: drop-shadow(0px 1px 2px rgba(0, 0, 0, 0.3));\n",
              "      fill: #FFFFFF;\n",
              "    }\n",
              "  </style>\n",
              "\n",
              "      <script>\n",
              "        const buttonEl =\n",
              "          document.querySelector('#df-8981020a-2e10-4470-93d3-df9676086db6 button.colab-df-convert');\n",
              "        buttonEl.style.display =\n",
              "          google.colab.kernel.accessAllowed ? 'block' : 'none';\n",
              "\n",
              "        async function convertToInteractive(key) {\n",
              "          const element = document.querySelector('#df-8981020a-2e10-4470-93d3-df9676086db6');\n",
              "          const dataTable =\n",
              "            await google.colab.kernel.invokeFunction('convertToInteractive',\n",
              "                                                     [key], {});\n",
              "          if (!dataTable) return;\n",
              "\n",
              "          const docLinkHtml = 'Like what you see? Visit the ' +\n",
              "            '<a target=\"_blank\" href=https://colab.research.google.com/notebooks/data_table.ipynb>data table notebook</a>'\n",
              "            + ' to learn more about interactive tables.';\n",
              "          element.innerHTML = '';\n",
              "          dataTable['output_type'] = 'display_data';\n",
              "          await google.colab.output.renderOutput(dataTable, element);\n",
              "          const docLink = document.createElement('div');\n",
              "          docLink.innerHTML = docLinkHtml;\n",
              "          element.appendChild(docLink);\n",
              "        }\n",
              "      </script>\n",
              "    </div>\n",
              "  </div>\n",
              "  "
            ]
          },
          "metadata": {},
          "execution_count": 11
        }
      ]
    },
    {
      "cell_type": "code",
      "source": [
        "my_data.shape"
      ],
      "metadata": {
        "colab": {
          "base_uri": "https://localhost:8080/"
        },
        "id": "EWrfDCye0PWQ",
        "outputId": "61e01bec-98a2-4703-c2e1-d658a41907ed"
      },
      "execution_count": null,
      "outputs": [
        {
          "output_type": "execute_result",
          "data": {
            "text/plain": [
              "(48, 1)"
            ]
          },
          "metadata": {},
          "execution_count": 12
        }
      ]
    },
    {
      "cell_type": "markdown",
      "source": [
        "**2.\tУбедитесь в том, что Вы работаете с объектом Series, а не DataFrame. Превратить таблицу с одним столбцом целевых значений в объект Series можно с помощью функции squeeze().**"
      ],
      "metadata": {
        "id": "51v-wbc-yEXA"
      }
    },
    {
      "cell_type": "code",
      "execution_count": null,
      "metadata": {
        "id": "Owo74onWLCg2",
        "colab": {
          "base_uri": "https://localhost:8080/"
        },
        "outputId": "82156188-a9dd-497d-ddd2-0a9a5b249ffc"
      },
      "outputs": [
        {
          "output_type": "execute_result",
          "data": {
            "text/plain": [
              "Date\n",
              "2007-01-01    26.45\n",
              "2007-02-01    23.89\n",
              "2007-03-01    25.95\n",
              "2007-04-01    30.03\n",
              "2007-05-01    28.96\n",
              "Name: Value, dtype: float64"
            ]
          },
          "metadata": {},
          "execution_count": 13
        }
      ],
      "source": [
        "series=my_data.squeeze() # переводим DataFrame в Series для дальнейшей работы\n",
        "series.head(5)"
      ]
    },
    {
      "cell_type": "markdown",
      "source": [
        "**3.\tПерейдите к дневной разбивке данных, воспользовавшись функцией resample('D').mean(). Результат запишите в переменную upsampled. Выведите на экран первые 32 наблюдения, воспользовавшись функцией head(). Прокомментируйте результат.**"
      ],
      "metadata": {
        "id": "fTy8j0aIyASb"
      }
    },
    {
      "cell_type": "code",
      "execution_count": null,
      "metadata": {
        "id": "9CiBT7EXLQeb"
      },
      "outputs": [],
      "source": [
        "upsampled=series.resample('D').mean() # переход от помесечной разбивки к разбивке по дням"
      ]
    },
    {
      "cell_type": "code",
      "execution_count": null,
      "metadata": {
        "id": "y1JbYQMPLvcW"
      },
      "outputs": [],
      "source": [
        "upsampled.head(32)"
      ]
    },
    {
      "cell_type": "code",
      "source": [],
      "metadata": {
        "id": "wmKsaVxAHLsP"
      },
      "execution_count": null,
      "outputs": []
    },
    {
      "cell_type": "code",
      "source": [
        "upsampled.shape"
      ],
      "metadata": {
        "colab": {
          "base_uri": "https://localhost:8080/"
        },
        "id": "AnYFfeND0UfD",
        "outputId": "650e1c3b-bca9-46b2-f7df-2defb62e9541"
      },
      "execution_count": null,
      "outputs": [
        {
          "output_type": "execute_result",
          "data": {
            "text/plain": [
              "(1431,)"
            ]
          },
          "metadata": {},
          "execution_count": 16
        }
      ]
    },
    {
      "cell_type": "markdown",
      "source": [
        "**4.\tПроведите интерполяцию данных на основе полинома 1-ой степени, воспользовавшись функцией interpolate(method='linear'). Результат запишите в переменную interpolated. Выведите на экран первые 32 наблюдения, воспользовавшись функцией head(). Каким будет значение цены 7 января 2007 года?**"
      ],
      "metadata": {
        "id": "lG3gmc5G1dhT"
      }
    },
    {
      "cell_type": "markdown",
      "source": [
        "**Интерполя́ция** (от лат. inter–polis — «разглаженный, подновлённый, обновлённый; преобразованный») — в вычислительной математике нахождение неизвестных промежуточных значений некоторой функции, по имеющемуся дискретному набору её известных значений, определенным способом."
      ],
      "metadata": {
        "id": "kDA3OWhS1TWX"
      }
    },
    {
      "cell_type": "markdown",
      "source": [
        "**полином_1(первого)_порядка**"
      ],
      "metadata": {
        "id": "ILsV8NlL8YaG"
      }
    },
    {
      "cell_type": "code",
      "execution_count": null,
      "metadata": {
        "id": "jmnPvKFuLyay"
      },
      "outputs": [],
      "source": [
        "interpolated=upsampled.interpolate(method='linear') # в качестве метода интерполяции используем линейную регрессию"
      ]
    },
    {
      "cell_type": "code",
      "execution_count": null,
      "metadata": {
        "colab": {
          "base_uri": "https://localhost:8080/"
        },
        "id": "HI58bMGOMR79",
        "outputId": "228a8470-8591-4dde-cb91-9b24ebde13b6"
      },
      "outputs": [
        {
          "output_type": "execute_result",
          "data": {
            "text/plain": [
              "Date\n",
              "2007-01-01    26.450000\n",
              "2007-01-02    26.367419\n",
              "2007-01-03    26.284839\n",
              "2007-01-04    26.202258\n",
              "2007-01-05    26.119677\n",
              "2007-01-06    26.037097\n",
              "2007-01-07    25.954516\n",
              "2007-01-08    25.871935\n",
              "2007-01-09    25.789355\n",
              "2007-01-10    25.706774\n",
              "2007-01-11    25.624194\n",
              "2007-01-12    25.541613\n",
              "2007-01-13    25.459032\n",
              "2007-01-14    25.376452\n",
              "2007-01-15    25.293871\n",
              "2007-01-16    25.211290\n",
              "2007-01-17    25.128710\n",
              "2007-01-18    25.046129\n",
              "2007-01-19    24.963548\n",
              "2007-01-20    24.880968\n",
              "2007-01-21    24.798387\n",
              "2007-01-22    24.715806\n",
              "2007-01-23    24.633226\n",
              "2007-01-24    24.550645\n",
              "2007-01-25    24.468065\n",
              "2007-01-26    24.385484\n",
              "2007-01-27    24.302903\n",
              "2007-01-28    24.220323\n",
              "2007-01-29    24.137742\n",
              "2007-01-30    24.055161\n",
              "2007-01-31    23.972581\n",
              "2007-02-01    23.890000\n",
              "Freq: D, Name: Value, dtype: float64"
            ]
          },
          "metadata": {},
          "execution_count": 18
        }
      ],
      "source": [
        "interpolated.head(32)"
      ]
    },
    {
      "cell_type": "markdown",
      "source": [
        "**5.\tПостройте для интерполированного ряда линейный график, воспользовавшись функцией plot(), а также функцией show() из модуля matplotlib.pyplot. Прокомментируйте результат.**"
      ],
      "metadata": {
        "id": "QAMv58uq8EL8"
      }
    },
    {
      "cell_type": "code",
      "execution_count": null,
      "metadata": {
        "colab": {
          "base_uri": "https://localhost:8080/",
          "height": 291
        },
        "id": "csGDzo-2MUV7",
        "outputId": "82f9ed1f-773b-44d6-f390-aac83cd4d3a3"
      },
      "outputs": [
        {
          "output_type": "display_data",
          "data": {
            "text/plain": [
              "<Figure size 432x288 with 1 Axes>"
            ],
            "image/png": "[encoded data removed]"
          },
          "metadata": {
            "needs_background": "light"
          }
        }
      ],
      "source": [
        "interpolated.plot()\n",
        "plt.show()"
      ]
    },
    {
      "cell_type": "markdown",
      "source": [
        "**6.\tПроведите интерполяцию данных на основе полинома 2-ой степени, воспользовавшись функцией interpolate(method='spline', order=2). Результат запишите в переменную interpolated. Выведите на экран первые 32 наблюдения, воспользовавшись функцией head(). Каким будет значение цены 7 января 2007 года?**"
      ],
      "metadata": {
        "id": "J4qu6Z0r8I4F"
      }
    },
    {
      "cell_type": "markdown",
      "source": [
        "**полином_2(второго)_порядка**"
      ],
      "metadata": {
        "id": "bGNot1Q48iI7"
      }
    },
    {
      "cell_type": "code",
      "execution_count": null,
      "metadata": {
        "id": "Ma4_pqwJMsZo"
      },
      "outputs": [],
      "source": [
        "interpolated=upsampled.interpolate(method='spline', order=2)"
      ]
    },
    {
      "cell_type": "code",
      "execution_count": null,
      "metadata": {
        "colab": {
          "base_uri": "https://localhost:8080/"
        },
        "id": "WmfqxqVnNDAX",
        "outputId": "e4a2265d-5701-4ed1-a076-894a3427bcf5"
      },
      "outputs": [
        {
          "output_type": "execute_result",
          "data": {
            "text/plain": [
              "Date\n",
              "2007-01-01    26.450000\n",
              "2007-01-02    26.309284\n",
              "2007-01-03    26.131431\n",
              "2007-01-04    25.959820\n",
              "2007-01-05    25.794453\n",
              "2007-01-06    25.635327\n",
              "2007-01-07    25.482445\n",
              "2007-01-08    25.335805\n",
              "2007-01-09    25.195408\n",
              "2007-01-10    25.061254\n",
              "2007-01-11    24.933342\n",
              "2007-01-12    24.811673\n",
              "2007-01-13    24.696247\n",
              "2007-01-14    24.587063\n",
              "2007-01-15    24.484122\n",
              "2007-01-16    24.387424\n",
              "2007-01-17    24.296968\n",
              "2007-01-18    24.212755\n",
              "2007-01-19    24.134785\n",
              "2007-01-20    24.063057\n",
              "2007-01-21    23.997573\n",
              "2007-01-22    23.938330\n",
              "2007-01-23    23.885331\n",
              "2007-01-24    23.838574\n",
              "2007-01-25    23.798060\n",
              "2007-01-26    23.763788\n",
              "2007-01-27    23.735759\n",
              "2007-01-28    23.713973\n",
              "2007-01-29    23.698430\n",
              "2007-01-30    23.689129\n",
              "2007-01-31    23.686071\n",
              "2007-02-01    23.890000\n",
              "Freq: D, Name: Value, dtype: float64"
            ]
          },
          "metadata": {},
          "execution_count": 35
        }
      ],
      "source": [
        "interpolated.head(32)"
      ]
    },
    {
      "cell_type": "code",
      "execution_count": null,
      "metadata": {
        "colab": {
          "base_uri": "https://localhost:8080/",
          "height": 291
        },
        "id": "pJnD4bS1NI28",
        "outputId": "d9ce97cf-e433-4337-cd0a-44048e61f8df"
      },
      "outputs": [
        {
          "output_type": "display_data",
          "data": {
            "text/plain": [
              "<Figure size 432x288 with 1 Axes>"
            ],
            "image/png": "[encoded data removed]"
          },
          "metadata": {
            "needs_background": "light"
          }
        }
      ],
      "source": [
        "interpolated.plot()\n",
        "plt.show()"
      ]
    },
    {
      "cell_type": "markdown",
      "source": [
        "**8.\tПерейдите к квартальной разбивке данных для 2007 года, воспользовавшись функцией resample('Q'). Результат запишите в переменную resample. Для каждого квартала найдите среднеквартальное значение цены на материал 1, воспользовавшись функцией mean(). Результат запишите в переменную q_mean. Выведите на экран первые 5 наблюдений, воспользовавшись функцией head(). Прокомментируйте результат.**"
      ],
      "metadata": {
        "id": "jbU8tgwS8zdc"
      }
    },
    {
      "cell_type": "code",
      "execution_count": null,
      "metadata": {
        "id": "ooQ1fRQUNiDI"
      },
      "outputs": [],
      "source": [
        "q_mean=series.resample('Q').mean() # переходим к таблице по кварталам"
      ]
    },
    {
      "cell_type": "code",
      "execution_count": null,
      "metadata": {
        "colab": {
          "base_uri": "https://localhost:8080/"
        },
        "id": "l6X1Tha9NsGJ",
        "outputId": "de4b053d-065d-4ab2-dd39-b30b3fc22784"
      },
      "outputs": [
        {
          "output_type": "execute_result",
          "data": {
            "text/plain": [
              "Date\n",
              "2007-03-31    25.430000\n",
              "2007-06-30    28.190000\n",
              "2007-09-30    28.730000\n",
              "2007-12-31    30.263333\n",
              "2008-03-31    29.953333\n",
              "Freq: Q-DEC, Name: Value, dtype: float64"
            ]
          },
          "metadata": {},
          "execution_count": 23
        }
      ],
      "source": [
        "q_mean.head()"
      ]
    },
    {
      "cell_type": "markdown",
      "source": [
        "**9.\tПостройте для преобразованного ряда линейный график, воспользовавшись функцией plot(), а также функцией show() из модуля matplotlib.pyplot. Что вы можете сказать о наблюдаемой тенденции?**"
      ],
      "metadata": {
        "id": "8mJcjc6H9lJm"
      }
    },
    {
      "cell_type": "code",
      "execution_count": null,
      "metadata": {
        "colab": {
          "base_uri": "https://localhost:8080/",
          "height": 279
        },
        "id": "r90sEDTzNxgS",
        "outputId": "e5899116-b5d4-4968-92ba-5acad446a0e7"
      },
      "outputs": [
        {
          "output_type": "display_data",
          "data": {
            "text/plain": [
              "<Figure size 432x288 with 1 Axes>"
            ],
            "image/png": "[encoded data removed]"
          },
          "metadata": {
            "needs_background": "light"
          }
        }
      ],
      "source": [
        "q_mean.plot()\n",
        "plt.show()"
      ]
    },
    {
      "cell_type": "markdown",
      "source": [
        "**10. Перейдите к годовой разбивке данных, воспользовавшись функцией resample('A'). Результат запишите в переменную resample. Для каждого года найдите среднегодовое значение цены на материал 1, воспользовавшись функцией mean(). Результат запишите в переменную y_mean. Выведите на экран первые 5 наблюдений, воспользовавшись функцией head().**"
      ],
      "metadata": {
        "id": "viUlYpOY9qEC"
      }
    },
    {
      "cell_type": "code",
      "execution_count": null,
      "metadata": {
        "id": "fk0CeFG1N-MM"
      },
      "outputs": [],
      "source": [
        "y_mean=series.resample('A').mean()"
      ]
    },
    {
      "cell_type": "code",
      "execution_count": null,
      "metadata": {
        "colab": {
          "base_uri": "https://localhost:8080/"
        },
        "id": "bNiJgwRROSmI",
        "outputId": "02b62c33-d60c-4a2a-8630-c327d0105a4b"
      },
      "outputs": [
        {
          "output_type": "execute_result",
          "data": {
            "text/plain": [
              "Date\n",
              "2007-12-31    28.153333\n",
              "2008-12-31    31.592500\n",
              "2009-12-31    36.983333\n",
              "2010-12-31    40.727500\n",
              "Freq: A-DEC, Name: Value, dtype: float64"
            ]
          },
          "metadata": {},
          "execution_count": 26
        }
      ],
      "source": [
        "y_mean"
      ]
    },
    {
      "cell_type": "markdown",
      "source": [
        "**11. Постройте для преобразованного ряда линейный график, воспользовавшись функцией plot(), а также функцией show() из модуля matplotlib.pyplot.**"
      ],
      "metadata": {
        "id": "BbwzgJdL99Oz"
      }
    },
    {
      "cell_type": "code",
      "execution_count": null,
      "metadata": {
        "colab": {
          "base_uri": "https://localhost:8080/",
          "height": 279
        },
        "id": "d7lDBPCdOfjv",
        "outputId": "6ffde9ab-82b9-45fd-c532-651690059d04"
      },
      "outputs": [
        {
          "output_type": "display_data",
          "data": {
            "text/plain": [
              "<Figure size 432x288 with 1 Axes>"
            ],
            "image/png": "[encoded data removed]"
          },
          "metadata": {
            "needs_background": "light"
          }
        }
      ],
      "source": [
        "y_mean.plot()\n",
        "plt.show()"
      ]
    },
    {
      "cell_type": "markdown",
      "source": [
        "\n",
        "# **Раздел 2. Анализ динамики и прогнозирование временного ряда**"
      ],
      "metadata": {
        "id": "dO5pvtXm-F59"
      }
    },
    {
      "cell_type": "markdown",
      "source": [
        "**12.\t Постройте таблицу данных на основе значений среднегодовой цены на материал 1 (y_mean.values), воспользовавшись функцией DataFrame() из модуля pandas, результат запишите в переменную values.**"
      ],
      "metadata": {
        "id": "Lw1Ke3AfDWWo"
      }
    },
    {
      "cell_type": "code",
      "source": [
        "y_mean=series.resample('A').mean() # выводим значения по годам\n",
        "y_mean"
      ],
      "metadata": {
        "colab": {
          "base_uri": "https://localhost:8080/"
        },
        "id": "t43sKk9-WZJR",
        "outputId": "f9a0f76c-1834-4c82-e468-90d3d08cd599"
      },
      "execution_count": null,
      "outputs": [
        {
          "output_type": "execute_result",
          "data": {
            "text/plain": [
              "Date\n",
              "2007-12-31    28.153333\n",
              "2008-12-31    31.592500\n",
              "2009-12-31    36.983333\n",
              "2010-12-31    40.727500\n",
              "Freq: A-DEC, Name: Value, dtype: float64"
            ]
          },
          "metadata": {},
          "execution_count": 28
        }
      ]
    },
    {
      "cell_type": "code",
      "execution_count": null,
      "metadata": {
        "id": "1U2NXdlgOmwi",
        "colab": {
          "base_uri": "https://localhost:8080/",
          "height": 175
        },
        "outputId": "16cdafda-4384-4f2e-e847-4ada3a81a453"
      },
      "outputs": [
        {
          "output_type": "execute_result",
          "data": {
            "text/plain": [
              "           0\n",
              "0  28.153333\n",
              "1  31.592500\n",
              "2  36.983333\n",
              "3  40.727500"
            ],
            "text/html": [
              "\n",
              "  <div id=\"df-e122c465-fc24-463d-904e-c072369d75ce\">\n",
              "    <div class=\"colab-df-container\">\n",
              "      <div>\n",
              "<style scoped>\n",
              "    .dataframe tbody tr th:only-of-type {\n",
              "        vertical-align: middle;\n",
              "    }\n",
              "\n",
              "    .dataframe tbody tr th {\n",
              "        vertical-align: top;\n",
              "    }\n",
              "\n",
              "    .dataframe thead th {\n",
              "        text-align: right;\n",
              "    }\n",
              "</style>\n",
              "<table border=\"1\" class=\"dataframe\">\n",
              "  <thead>\n",
              "    <tr style=\"text-align: right;\">\n",
              "      <th></th>\n",
              "      <th>0</th>\n",
              "    </tr>\n",
              "  </thead>\n",
              "  <tbody>\n",
              "    <tr>\n",
              "      <th>0</th>\n",
              "      <td>28.153333</td>\n",
              "    </tr>\n",
              "    <tr>\n",
              "      <th>1</th>\n",
              "      <td>31.592500</td>\n",
              "    </tr>\n",
              "    <tr>\n",
              "      <th>2</th>\n",
              "      <td>36.983333</td>\n",
              "    </tr>\n",
              "    <tr>\n",
              "      <th>3</th>\n",
              "      <td>40.727500</td>\n",
              "    </tr>\n",
              "  </tbody>\n",
              "</table>\n",
              "</div>\n",
              "      <button class=\"colab-df-convert\" onclick=\"convertToInteractive('df-e122c465-fc24-463d-904e-c072369d75ce')\"\n",
              "              title=\"Convert this dataframe to an interactive table.\"\n",
              "              style=\"display:none;\">\n",
              "        \n",
              "  <svg xmlns=\"http://www.w3.org/2000/svg\" height=\"24px\"viewBox=\"0 0 24 24\"\n",
              "       width=\"24px\">\n",
              "    <path d=\"M0 0h24v24H0V0z\" fill=\"none\"/>\n",
              "    <path d=\"M18.56 5.44l.94 2.06.94-2.06 2.06-.94-2.06-.94-.94-2.06-.94 2.06-2.06.94zm-11 1L8.5 8.5l.94-2.06 2.06-.94-2.06-.94L8.5 2.5l-.94 2.06-2.06.94zm10 10l.94 2.06.94-2.06 2.06-.94-2.06-.94-.94-2.06-.94 2.06-2.06.94z\"/><path d=\"M17.41 7.96l-1.37-1.37c-.4-.4-.92-.59-1.43-.59-.52 0-1.04.2-1.43.59L10.3 9.45l-7.72 7.72c-.78.78-.78 2.05 0 2.83L4 21.41c.39.39.9.59 1.41.59.51 0 1.02-.2 1.41-.59l7.78-7.78 2.81-2.81c.8-.78.8-2.07 0-2.86zM5.41 20L4 18.59l7.72-7.72 1.47 1.35L5.41 20z\"/>\n",
              "  </svg>\n",
              "      </button>\n",
              "      \n",
              "  <style>\n",
              "    .colab-df-container {\n",
              "      display:flex;\n",
              "      flex-wrap:wrap;\n",
              "      gap: 12px;\n",
              "    }\n",
              "\n",
              "    .colab-df-convert {\n",
              "      background-color: #E8F0FE;\n",
              "      border: none;\n",
              "      border-radius: 50%;\n",
              "      cursor: pointer;\n",
              "      display: none;\n",
              "      fill: #1967D2;\n",
              "      height: 32px;\n",
              "      padding: 0 0 0 0;\n",
              "      width: 32px;\n",
              "    }\n",
              "\n",
              "    .colab-df-convert:hover {\n",
              "      background-color: #E2EBFA;\n",
              "      box-shadow: 0px 1px 2px rgba(60, 64, 67, 0.3), 0px 1px 3px 1px rgba(60, 64, 67, 0.15);\n",
              "      fill: #174EA6;\n",
              "    }\n",
              "\n",
              "    [theme=dark] .colab-df-convert {\n",
              "      background-color: #3B4455;\n",
              "      fill: #D2E3FC;\n",
              "    }\n",
              "\n",
              "    [theme=dark] .colab-df-convert:hover {\n",
              "      background-color: #434B5C;\n",
              "      box-shadow: 0px 1px 3px 1px rgba(0, 0, 0, 0.15);\n",
              "      filter: drop-shadow(0px 1px 2px rgba(0, 0, 0, 0.3));\n",
              "      fill: #FFFFFF;\n",
              "    }\n",
              "  </style>\n",
              "\n",
              "      <script>\n",
              "        const buttonEl =\n",
              "          document.querySelector('#df-e122c465-fc24-463d-904e-c072369d75ce button.colab-df-convert');\n",
              "        buttonEl.style.display =\n",
              "          google.colab.kernel.accessAllowed ? 'block' : 'none';\n",
              "\n",
              "        async function convertToInteractive(key) {\n",
              "          const element = document.querySelector('#df-e122c465-fc24-463d-904e-c072369d75ce');\n",
              "          const dataTable =\n",
              "            await google.colab.kernel.invokeFunction('convertToInteractive',\n",
              "                                                     [key], {});\n",
              "          if (!dataTable) return;\n",
              "\n",
              "          const docLinkHtml = 'Like what you see? Visit the ' +\n",
              "            '<a target=\"_blank\" href=https://colab.research.google.com/notebooks/data_table.ipynb>data table notebook</a>'\n",
              "            + ' to learn more about interactive tables.';\n",
              "          element.innerHTML = '';\n",
              "          dataTable['output_type'] = 'display_data';\n",
              "          await google.colab.output.renderOutput(dataTable, element);\n",
              "          const docLink = document.createElement('div');\n",
              "          docLink.innerHTML = docLinkHtml;\n",
              "          element.appendChild(docLink);\n",
              "        }\n",
              "      </script>\n",
              "    </div>\n",
              "  </div>\n",
              "  "
            ]
          },
          "metadata": {},
          "execution_count": 29
        }
      ],
      "source": [
        "values=pd.DataFrame(y_mean.values)\n",
        "values"
      ]
    },
    {
      "cell_type": "markdown",
      "source": [
        "**13.\tПоместите в переменную df исходный ряд и сдвинутый на 1 шаг, воспользовавшись функцией concat([values.shift(1), values], axis=1) из модуля pandas. Дайте полученным столбцам названия 't' и 't+1', воспользовавшись следующей командой: df.columns = ['t', 't+1']. Выведите на экран первые 5 значений, воспользовавшись функцией head().**"
      ],
      "metadata": {
        "id": "k_2ShjiDdtDK"
      }
    },
    {
      "cell_type": "code",
      "execution_count": null,
      "metadata": {
        "id": "7rqZ5uUtPLsp"
      },
      "outputs": [],
      "source": [
        "df=concat([values.shift(1), values], axis=1) # создаем столбец со смещением на единицу"
      ]
    },
    {
      "cell_type": "code",
      "execution_count": null,
      "metadata": {
        "id": "_qRHzP48PjBo"
      },
      "outputs": [],
      "source": [
        "df.columns = ['t-1', 't']"
      ]
    },
    {
      "cell_type": "markdown",
      "source": [
        "**14.\t Рассчитайте на основе полученной таблицы среднегодовых значений цены на материал 1основные показатели динамики за 4 года. Необходимые при этом формулы приведены в таблице ниже.**"
      ],
      "metadata": {
        "id": "ltLn7yNHd-FB"
      }
    },
    {
      "cell_type": "markdown",
      "source": [
        "![image.png](data:image/png;base64,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)"
      ],
      "metadata": {
        "id": "XOaZ69ScdV-l"
      }
    },
    {
      "cell_type": "markdown",
      "source": [
        "**Абсолютный прирост** - от последующего значения отнимаем предыдущее и получаем прирост, если получаем отрицательное значение, то убыль.\n",
        "\n",
        "**Темп роста** - если Темп роста = 100%, то рост неизменим.\n",
        "                 Средний темп роста показывает сколько в среднем процентов последующий уровень составляет от предыдущего.\n",
        "\n",
        "**Темп прироста** - показывает на сколько изменился последующий уровень по-сравнению с базой или предыдущим уровнем"
      ],
      "metadata": {
        "id": "HdxVZrJJgbYZ"
      }
    },
    {
      "cell_type": "markdown",
      "source": [
        "**Цепной** - каждый последующий уровень сравнивается с предыдущим\n",
        "\n",
        "**Базисный** - все расчеты происходят от одной базы (одного значения)\n",
        "\n",
        "**Средий** -\n",
        "из последнего значения вычесть первое и разделить на n-1, где n - количество элементов ряда"
      ],
      "metadata": {
        "id": "TtfsN5l4eAqV"
      }
    },
    {
      "cell_type": "markdown",
      "source": [
        "**14.1.\tПоместите в таблицу данных df столбцы с вычисленными значениями следующих показателей:**\n",
        "\n",
        "1)\tабсолютный цепной прирост (Delta_t),\n",
        "\n",
        "2)\tабсолютный базисный прирост (Delta_0),\n",
        "\n",
        "3)\tцепной темп роста (Temp_t),\n",
        "\n",
        "4)\tбазисный темп роста (Temp_0),\n",
        "\n",
        "5)\tцепной темп прироста (TDelta_t),\n",
        "\n",
        "6)\tбазисный темп прироста (TDelta_0).\n",
        "\n",
        "В качестве базисного периода возьмите 2007 год. Выведите на экран полученный результат.\n"
      ],
      "metadata": {
        "id": "wv6j7dzL0p62"
      }
    },
    {
      "cell_type": "code",
      "execution_count": null,
      "metadata": {
        "colab": {
          "base_uri": "https://localhost:8080/",
          "height": 175
        },
        "id": "GXsvc2vEPsUo",
        "outputId": "0ae81f13-9482-4ea6-e4f4-38e647fd7021"
      },
      "outputs": [
        {
          "output_type": "execute_result",
          "data": {
            "text/plain": [
              "         t-1          t\n",
              "0        NaN  28.153333\n",
              "1  28.153333  31.592500\n",
              "2  31.592500  36.983333\n",
              "3  36.983333  40.727500"
            ],
            "text/html": [
              "\n",
              "  <div id=\"df-0104acab-4b3c-4d6e-9878-549b5a3efb8e\">\n",
              "    <div class=\"colab-df-container\">\n",
              "      <div>\n",
              "<style scoped>\n",
              "    .dataframe tbody tr th:only-of-type {\n",
              "        vertical-align: middle;\n",
              "    }\n",
              "\n",
              "    .dataframe tbody tr th {\n",
              "        vertical-align: top;\n",
              "    }\n",
              "\n",
              "    .dataframe thead th {\n",
              "        text-align: right;\n",
              "    }\n",
              "</style>\n",
              "<table border=\"1\" class=\"dataframe\">\n",
              "  <thead>\n",
              "    <tr style=\"text-align: right;\">\n",
              "      <th></th>\n",
              "      <th>t-1</th>\n",
              "      <th>t</th>\n",
              "    </tr>\n",
              "  </thead>\n",
              "  <tbody>\n",
              "    <tr>\n",
              "      <th>0</th>\n",
              "      <td>NaN</td>\n",
              "      <td>28.153333</td>\n",
              "    </tr>\n",
              "    <tr>\n",
              "      <th>1</th>\n",
              "      <td>28.153333</td>\n",
              "      <td>31.592500</td>\n",
              "    </tr>\n",
              "    <tr>\n",
              "      <th>2</th>\n",
              "      <td>31.592500</td>\n",
              "      <td>36.983333</td>\n",
              "    </tr>\n",
              "    <tr>\n",
              "      <th>3</th>\n",
              "      <td>36.983333</td>\n",
              "      <td>40.727500</td>\n",
              "    </tr>\n",
              "  </tbody>\n",
              "</table>\n",
              "</div>\n",
              "      <button class=\"colab-df-convert\" onclick=\"convertToInteractive('df-0104acab-4b3c-4d6e-9878-549b5a3efb8e')\"\n",
              "              title=\"Convert this dataframe to an interactive table.\"\n",
              "              style=\"display:none;\">\n",
              "        \n",
              "  <svg xmlns=\"http://www.w3.org/2000/svg\" height=\"24px\"viewBox=\"0 0 24 24\"\n",
              "       width=\"24px\">\n",
              "    <path d=\"M0 0h24v24H0V0z\" fill=\"none\"/>\n",
              "    <path d=\"M18.56 5.44l.94 2.06.94-2.06 2.06-.94-2.06-.94-.94-2.06-.94 2.06-2.06.94zm-11 1L8.5 8.5l.94-2.06 2.06-.94-2.06-.94L8.5 2.5l-.94 2.06-2.06.94zm10 10l.94 2.06.94-2.06 2.06-.94-2.06-.94-.94-2.06-.94 2.06-2.06.94z\"/><path d=\"M17.41 7.96l-1.37-1.37c-.4-.4-.92-.59-1.43-.59-.52 0-1.04.2-1.43.59L10.3 9.45l-7.72 7.72c-.78.78-.78 2.05 0 2.83L4 21.41c.39.39.9.59 1.41.59.51 0 1.02-.2 1.41-.59l7.78-7.78 2.81-2.81c.8-.78.8-2.07 0-2.86zM5.41 20L4 18.59l7.72-7.72 1.47 1.35L5.41 20z\"/>\n",
              "  </svg>\n",
              "      </button>\n",
              "      \n",
              "  <style>\n",
              "    .colab-df-container {\n",
              "      display:flex;\n",
              "      flex-wrap:wrap;\n",
              "      gap: 12px;\n",
              "    }\n",
              "\n",
              "    .colab-df-convert {\n",
              "      background-color: #E8F0FE;\n",
              "      border: none;\n",
              "      border-radius: 50%;\n",
              "      cursor: pointer;\n",
              "      display: none;\n",
              "      fill: #1967D2;\n",
              "      height: 32px;\n",
              "      padding: 0 0 0 0;\n",
              "      width: 32px;\n",
              "    }\n",
              "\n",
              "    .colab-df-convert:hover {\n",
              "      background-color: #E2EBFA;\n",
              "      box-shadow: 0px 1px 2px rgba(60, 64, 67, 0.3), 0px 1px 3px 1px rgba(60, 64, 67, 0.15);\n",
              "      fill: #174EA6;\n",
              "    }\n",
              "\n",
              "    [theme=dark] .colab-df-convert {\n",
              "      background-color: #3B4455;\n",
              "      fill: #D2E3FC;\n",
              "    }\n",
              "\n",
              "    [theme=dark] .colab-df-convert:hover {\n",
              "      background-color: #434B5C;\n",
              "      box-shadow: 0px 1px 3px 1px rgba(0, 0, 0, 0.15);\n",
              "      filter: drop-shadow(0px 1px 2px rgba(0, 0, 0, 0.3));\n",
              "      fill: #FFFFFF;\n",
              "    }\n",
              "  </style>\n",
              "\n",
              "      <script>\n",
              "        const buttonEl =\n",
              "          document.querySelector('#df-0104acab-4b3c-4d6e-9878-549b5a3efb8e button.colab-df-convert');\n",
              "        buttonEl.style.display =\n",
              "          google.colab.kernel.accessAllowed ? 'block' : 'none';\n",
              "\n",
              "        async function convertToInteractive(key) {\n",
              "          const element = document.querySelector('#df-0104acab-4b3c-4d6e-9878-549b5a3efb8e');\n",
              "          const dataTable =\n",
              "            await google.colab.kernel.invokeFunction('convertToInteractive',\n",
              "                                                     [key], {});\n",
              "          if (!dataTable) return;\n",
              "\n",
              "          const docLinkHtml = 'Like what you see? Visit the ' +\n",
              "            '<a target=\"_blank\" href=https://colab.research.google.com/notebooks/data_table.ipynb>data table notebook</a>'\n",
              "            + ' to learn more about interactive tables.';\n",
              "          element.innerHTML = '';\n",
              "          dataTable['output_type'] = 'display_data';\n",
              "          await google.colab.output.renderOutput(dataTable, element);\n",
              "          const docLink = document.createElement('div');\n",
              "          docLink.innerHTML = docLinkHtml;\n",
              "          element.appendChild(docLink);\n",
              "        }\n",
              "      </script>\n",
              "    </div>\n",
              "  </div>\n",
              "  "
            ]
          },
          "metadata": {},
          "execution_count": 32
        }
      ],
      "source": [
        "df.head()"
      ]
    },
    {
      "cell_type": "code",
      "source": [
        "df['t'][0] # это база для абсолютного базисного прироста"
      ],
      "metadata": {
        "colab": {
          "base_uri": "https://localhost:8080/"
        },
        "id": "ox9TGRvtubUr",
        "outputId": "09ee788d-573c-450a-c3e9-c31174584550"
      },
      "execution_count": null,
      "outputs": [
        {
          "output_type": "execute_result",
          "data": {
            "text/plain": [
              "28.153333333333336"
            ]
          },
          "metadata": {},
          "execution_count": 34
        }
      ]
    },
    {
      "cell_type": "code",
      "execution_count": null,
      "metadata": {
        "id": "BAvcptHyPtch"
      },
      "outputs": [],
      "source": [
        "df['Delta_t']=df['t']-df['t-1'] # абсолютный цепной прирост (Delta_t)"
      ]
    },
    {
      "cell_type": "code",
      "source": [
        "df['Delta_0']=df['t']-df['t'][0] # абсолютный базисный прирост (Delta_0),"
      ],
      "metadata": {
        "id": "e6zYzTP6uIUr"
      },
      "execution_count": null,
      "outputs": []
    },
    {
      "cell_type": "code",
      "source": [
        "df['Temp_t']=df['t']/df['t-1'] # цепной темп роста (Temp_t)"
      ],
      "metadata": {
        "id": "DQn68zLnuIRv"
      },
      "execution_count": null,
      "outputs": []
    },
    {
      "cell_type": "code",
      "source": [
        "df['Temp_0']=df['t']/df['t'][0] # базисный темп роста (Temp_0)"
      ],
      "metadata": {
        "id": "sXrjY2DVwYSj"
      },
      "execution_count": null,
      "outputs": []
    },
    {
      "cell_type": "code",
      "source": [
        "df['TDelta_t'] = df['Temp_t'] - 1 # цепной темп прироста (TDelta_t)"
      ],
      "metadata": {
        "id": "JZewpmQZuIOe"
      },
      "execution_count": null,
      "outputs": []
    },
    {
      "cell_type": "code",
      "source": [
        "df['TDelta_0'] = df['Temp_0'] - 1 # базисный темп прироста (TDelta_0)\n",
        "df.head()"
      ],
      "metadata": {
        "colab": {
          "base_uri": "https://localhost:8080/",
          "height": 175
        },
        "id": "KexTjng7uILa",
        "outputId": "2503c42c-4574-4211-e6f7-fb02ed9f6216"
      },
      "execution_count": null,
      "outputs": [
        {
          "output_type": "execute_result",
          "data": {
            "text/plain": [
              "         t-1          t   Delta_t    Delta_0    Temp_t    Temp_0  TDelta_t  \\\n",
              "0        NaN  28.153333       NaN   0.000000       NaN  1.000000       NaN   \n",
              "1  28.153333  31.592500  3.439167   3.439167  1.122158  1.122158  0.122158   \n",
              "2  31.592500  36.983333  5.390833   8.830000  1.170636  1.313640  0.170636   \n",
              "3  36.983333  40.727500  3.744167  12.574167  1.101239  1.446632  0.101239   \n",
              "\n",
              "   TDelta_0  \n",
              "0  0.000000  \n",
              "1  0.122158  \n",
              "2  0.313640  \n",
              "3  0.446632  "
            ],
            "text/html": [
              "\n",
              "  <div id=\"df-f578df7a-c7fd-4933-9f80-04fe437433e6\">\n",
              "    <div class=\"colab-df-container\">\n",
              "      <div>\n",
              "<style scoped>\n",
              "    .dataframe tbody tr th:only-of-type {\n",
              "        vertical-align: middle;\n",
              "    }\n",
              "\n",
              "    .dataframe tbody tr th {\n",
              "        vertical-align: top;\n",
              "    }\n",
              "\n",
              "    .dataframe thead th {\n",
              "        text-align: right;\n",
              "    }\n",
              "</style>\n",
              "<table border=\"1\" class=\"dataframe\">\n",
              "  <thead>\n",
              "    <tr style=\"text-align: right;\">\n",
              "      <th></th>\n",
              "      <th>t-1</th>\n",
              "      <th>t</th>\n",
              "      <th>Delta_t</th>\n",
              "      <th>Delta_0</th>\n",
              "      <th>Temp_t</th>\n",
              "      <th>Temp_0</th>\n",
              "      <th>TDelta_t</th>\n",
              "      <th>TDelta_0</th>\n",
              "    </tr>\n",
              "  </thead>\n",
              "  <tbody>\n",
              "    <tr>\n",
              "      <th>0</th>\n",
              "      <td>NaN</td>\n",
              "      <td>28.153333</td>\n",
              "      <td>NaN</td>\n",
              "      <td>0.000000</td>\n",
              "      <td>NaN</td>\n",
              "      <td>1.000000</td>\n",
              "      <td>NaN</td>\n",
              "      <td>0.000000</td>\n",
              "    </tr>\n",
              "    <tr>\n",
              "      <th>1</th>\n",
              "      <td>28.153333</td>\n",
              "      <td>31.592500</td>\n",
              "      <td>3.439167</td>\n",
              "      <td>3.439167</td>\n",
              "      <td>1.122158</td>\n",
              "      <td>1.122158</td>\n",
              "      <td>0.122158</td>\n",
              "      <td>0.122158</td>\n",
              "    </tr>\n",
              "    <tr>\n",
              "      <th>2</th>\n",
              "      <td>31.592500</td>\n",
              "      <td>36.983333</td>\n",
              "      <td>5.390833</td>\n",
              "      <td>8.830000</td>\n",
              "      <td>1.170636</td>\n",
              "      <td>1.313640</td>\n",
              "      <td>0.170636</td>\n",
              "      <td>0.313640</td>\n",
              "    </tr>\n",
              "    <tr>\n",
              "      <th>3</th>\n",
              "      <td>36.983333</td>\n",
              "      <td>40.727500</td>\n",
              "      <td>3.744167</td>\n",
              "      <td>12.574167</td>\n",
              "      <td>1.101239</td>\n",
              "      <td>1.446632</td>\n",
              "      <td>0.101239</td>\n",
              "      <td>0.446632</td>\n",
              "    </tr>\n",
              "  </tbody>\n",
              "</table>\n",
              "</div>\n",
              "      <button class=\"colab-df-convert\" onclick=\"convertToInteractive('df-f578df7a-c7fd-4933-9f80-04fe437433e6')\"\n",
              "              title=\"Convert this dataframe to an interactive table.\"\n",
              "              style=\"display:none;\">\n",
              "        \n",
              "  <svg xmlns=\"http://www.w3.org/2000/svg\" height=\"24px\"viewBox=\"0 0 24 24\"\n",
              "       width=\"24px\">\n",
              "    <path d=\"M0 0h24v24H0V0z\" fill=\"none\"/>\n",
              "    <path d=\"M18.56 5.44l.94 2.06.94-2.06 2.06-.94-2.06-.94-.94-2.06-.94 2.06-2.06.94zm-11 1L8.5 8.5l.94-2.06 2.06-.94-2.06-.94L8.5 2.5l-.94 2.06-2.06.94zm10 10l.94 2.06.94-2.06 2.06-.94-2.06-.94-.94-2.06-.94 2.06-2.06.94z\"/><path d=\"M17.41 7.96l-1.37-1.37c-.4-.4-.92-.59-1.43-.59-.52 0-1.04.2-1.43.59L10.3 9.45l-7.72 7.72c-.78.78-.78 2.05 0 2.83L4 21.41c.39.39.9.59 1.41.59.51 0 1.02-.2 1.41-.59l7.78-7.78 2.81-2.81c.8-.78.8-2.07 0-2.86zM5.41 20L4 18.59l7.72-7.72 1.47 1.35L5.41 20z\"/>\n",
              "  </svg>\n",
              "      </button>\n",
              "      \n",
              "  <style>\n",
              "    .colab-df-container {\n",
              "      display:flex;\n",
              "      flex-wrap:wrap;\n",
              "      gap: 12px;\n",
              "    }\n",
              "\n",
              "    .colab-df-convert {\n",
              "      background-color: #E8F0FE;\n",
              "      border: none;\n",
              "      border-radius: 50%;\n",
              "      cursor: pointer;\n",
              "      display: none;\n",
              "      fill: #1967D2;\n",
              "      height: 32px;\n",
              "      padding: 0 0 0 0;\n",
              "      width: 32px;\n",
              "    }\n",
              "\n",
              "    .colab-df-convert:hover {\n",
              "      background-color: #E2EBFA;\n",
              "      box-shadow: 0px 1px 2px rgba(60, 64, 67, 0.3), 0px 1px 3px 1px rgba(60, 64, 67, 0.15);\n",
              "      fill: #174EA6;\n",
              "    }\n",
              "\n",
              "    [theme=dark] .colab-df-convert {\n",
              "      background-color: #3B4455;\n",
              "      fill: #D2E3FC;\n",
              "    }\n",
              "\n",
              "    [theme=dark] .colab-df-convert:hover {\n",
              "      background-color: #434B5C;\n",
              "      box-shadow: 0px 1px 3px 1px rgba(0, 0, 0, 0.15);\n",
              "      filter: drop-shadow(0px 1px 2px rgba(0, 0, 0, 0.3));\n",
              "      fill: #FFFFFF;\n",
              "    }\n",
              "  </style>\n",
              "\n",
              "      <script>\n",
              "        const buttonEl =\n",
              "          document.querySelector('#df-f578df7a-c7fd-4933-9f80-04fe437433e6 button.colab-df-convert');\n",
              "        buttonEl.style.display =\n",
              "          google.colab.kernel.accessAllowed ? 'block' : 'none';\n",
              "\n",
              "        async function convertToInteractive(key) {\n",
              "          const element = document.querySelector('#df-f578df7a-c7fd-4933-9f80-04fe437433e6');\n",
              "          const dataTable =\n",
              "            await google.colab.kernel.invokeFunction('convertToInteractive',\n",
              "                                                     [key], {});\n",
              "          if (!dataTable) return;\n",
              "\n",
              "          const docLinkHtml = 'Like what you see? Visit the ' +\n",
              "            '<a target=\"_blank\" href=https://colab.research.google.com/notebooks/data_table.ipynb>data table notebook</a>'\n",
              "            + ' to learn more about interactive tables.';\n",
              "          element.innerHTML = '';\n",
              "          dataTable['output_type'] = 'display_data';\n",
              "          await google.colab.output.renderOutput(dataTable, element);\n",
              "          const docLink = document.createElement('div');\n",
              "          docLink.innerHTML = docLinkHtml;\n",
              "          element.appendChild(docLink);\n",
              "        }\n",
              "      </script>\n",
              "    </div>\n",
              "  </div>\n",
              "  "
            ]
          },
          "metadata": {},
          "execution_count": 50
        }
      ]
    },
    {
      "cell_type": "code",
      "source": [
        "df['Delta_t'].plot()\n",
        "plt.show()"
      ],
      "metadata": {
        "colab": {
          "base_uri": "https://localhost:8080/",
          "height": 265
        },
        "id": "v_W1--LhUjPo",
        "outputId": "b604cd11-0630-4f7a-823d-74125ace4e10"
      },
      "execution_count": null,
      "outputs": [
        {
          "output_type": "display_data",
          "data": {
            "text/plain": [
              "<Figure size 432x288 with 1 Axes>"
            ],
            "image/png": "[encoded data removed]"
          },
          "metadata": {
            "needs_background": "light"
          }
        }
      ]
    },
    {
      "cell_type": "code",
      "source": [
        "df['Temp_t'].plot()\n",
        "plt.show()"
      ],
      "metadata": {
        "colab": {
          "base_uri": "https://localhost:8080/",
          "height": 265
        },
        "id": "j68xxnU_Uv-O",
        "outputId": "1289e354-cf17-4b08-86ab-ffcf193c2cd2"
      },
      "execution_count": null,
      "outputs": [
        {
          "output_type": "display_data",
          "data": {
            "text/plain": [
              "<Figure size 432x288 with 1 Axes>"
            ],
            "image/png": "[encoded data removed]"
          },
          "metadata": {
            "needs_background": "light"
          }
        }
      ]
    },
    {
      "cell_type": "markdown",
      "source": [
        "**14.2.\tРассчитайте за 4 года средний абсолютный прирост (AvgDelta), средний темп роста (AvgTemp), средний темп прироста (AvgTDelta). Для нахождения первого и последнего значения временного ряда воспользуйтесь методом iloc[]. Прокомментируйте результат.**"
      ],
      "metadata": {
        "id": "O5IrnpbC3A8j"
      }
    },
    {
      "cell_type": "code",
      "source": [
        "df"
      ],
      "metadata": {
        "colab": {
          "base_uri": "https://localhost:8080/",
          "height": 175
        },
        "id": "6arQEmBl2-YG",
        "outputId": "7835a281-e5de-45cc-e069-39e322fc4631"
      },
      "execution_count": null,
      "outputs": [
        {
          "output_type": "execute_result",
          "data": {
            "text/plain": [
              "         t-1          t   Delta_t    Delta_0    Temp_t    Temp_0  TDelta_t  \\\n",
              "0        NaN  28.153333       NaN   0.000000       NaN  1.000000       NaN   \n",
              "1  28.153333  31.592500  3.439167   3.439167  1.122158  1.122158  0.122158   \n",
              "2  31.592500  36.983333  5.390833   8.830000  1.170636  1.313640  0.170636   \n",
              "3  36.983333  40.727500  3.744167  12.574167  1.101239  1.446632  0.101239   \n",
              "\n",
              "   TDelta_0  \n",
              "0  0.000000  \n",
              "1  0.122158  \n",
              "2  0.313640  \n",
              "3  0.446632  "
            ],
            "text/html": [
              "\n",
              "  <div id=\"df-5152e02a-3098-471b-9db6-1d070e94c49a\">\n",
              "    <div class=\"colab-df-container\">\n",
              "      <div>\n",
              "<style scoped>\n",
              "    .dataframe tbody tr th:only-of-type {\n",
              "        vertical-align: middle;\n",
              "    }\n",
              "\n",
              "    .dataframe tbody tr th {\n",
              "        vertical-align: top;\n",
              "    }\n",
              "\n",
              "    .dataframe thead th {\n",
              "        text-align: right;\n",
              "    }\n",
              "</style>\n",
              "<table border=\"1\" class=\"dataframe\">\n",
              "  <thead>\n",
              "    <tr style=\"text-align: right;\">\n",
              "      <th></th>\n",
              "      <th>t-1</th>\n",
              "      <th>t</th>\n",
              "      <th>Delta_t</th>\n",
              "      <th>Delta_0</th>\n",
              "      <th>Temp_t</th>\n",
              "      <th>Temp_0</th>\n",
              "      <th>TDelta_t</th>\n",
              "      <th>TDelta_0</th>\n",
              "    </tr>\n",
              "  </thead>\n",
              "  <tbody>\n",
              "    <tr>\n",
              "      <th>0</th>\n",
              "      <td>NaN</td>\n",
              "      <td>28.153333</td>\n",
              "      <td>NaN</td>\n",
              "      <td>0.000000</td>\n",
              "      <td>NaN</td>\n",
              "      <td>1.000000</td>\n",
              "      <td>NaN</td>\n",
              "      <td>0.000000</td>\n",
              "    </tr>\n",
              "    <tr>\n",
              "      <th>1</th>\n",
              "      <td>28.153333</td>\n",
              "      <td>31.592500</td>\n",
              "      <td>3.439167</td>\n",
              "      <td>3.439167</td>\n",
              "      <td>1.122158</td>\n",
              "      <td>1.122158</td>\n",
              "      <td>0.122158</td>\n",
              "      <td>0.122158</td>\n",
              "    </tr>\n",
              "    <tr>\n",
              "      <th>2</th>\n",
              "      <td>31.592500</td>\n",
              "      <td>36.983333</td>\n",
              "      <td>5.390833</td>\n",
              "      <td>8.830000</td>\n",
              "      <td>1.170636</td>\n",
              "      <td>1.313640</td>\n",
              "      <td>0.170636</td>\n",
              "      <td>0.313640</td>\n",
              "    </tr>\n",
              "    <tr>\n",
              "      <th>3</th>\n",
              "      <td>36.983333</td>\n",
              "      <td>40.727500</td>\n",
              "      <td>3.744167</td>\n",
              "      <td>12.574167</td>\n",
              "      <td>1.101239</td>\n",
              "      <td>1.446632</td>\n",
              "      <td>0.101239</td>\n",
              "      <td>0.446632</td>\n",
              "    </tr>\n",
              "  </tbody>\n",
              "</table>\n",
              "</div>\n",
              "      <button class=\"colab-df-convert\" onclick=\"convertToInteractive('df-5152e02a-3098-471b-9db6-1d070e94c49a')\"\n",
              "              title=\"Convert this dataframe to an interactive table.\"\n",
              "              style=\"display:none;\">\n",
              "        \n",
              "  <svg xmlns=\"http://www.w3.org/2000/svg\" height=\"24px\"viewBox=\"0 0 24 24\"\n",
              "       width=\"24px\">\n",
              "    <path d=\"M0 0h24v24H0V0z\" fill=\"none\"/>\n",
              "    <path d=\"M18.56 5.44l.94 2.06.94-2.06 2.06-.94-2.06-.94-.94-2.06-.94 2.06-2.06.94zm-11 1L8.5 8.5l.94-2.06 2.06-.94-2.06-.94L8.5 2.5l-.94 2.06-2.06.94zm10 10l.94 2.06.94-2.06 2.06-.94-2.06-.94-.94-2.06-.94 2.06-2.06.94z\"/><path d=\"M17.41 7.96l-1.37-1.37c-.4-.4-.92-.59-1.43-.59-.52 0-1.04.2-1.43.59L10.3 9.45l-7.72 7.72c-.78.78-.78 2.05 0 2.83L4 21.41c.39.39.9.59 1.41.59.51 0 1.02-.2 1.41-.59l7.78-7.78 2.81-2.81c.8-.78.8-2.07 0-2.86zM5.41 20L4 18.59l7.72-7.72 1.47 1.35L5.41 20z\"/>\n",
              "  </svg>\n",
              "      </button>\n",
              "      \n",
              "  <style>\n",
              "    .colab-df-container {\n",
              "      display:flex;\n",
              "      flex-wrap:wrap;\n",
              "      gap: 12px;\n",
              "    }\n",
              "\n",
              "    .colab-df-convert {\n",
              "      background-color: #E8F0FE;\n",
              "      border: none;\n",
              "      border-radius: 50%;\n",
              "      cursor: pointer;\n",
              "      display: none;\n",
              "      fill: #1967D2;\n",
              "      height: 32px;\n",
              "      padding: 0 0 0 0;\n",
              "      width: 32px;\n",
              "    }\n",
              "\n",
              "    .colab-df-convert:hover {\n",
              "      background-color: #E2EBFA;\n",
              "      box-shadow: 0px 1px 2px rgba(60, 64, 67, 0.3), 0px 1px 3px 1px rgba(60, 64, 67, 0.15);\n",
              "      fill: #174EA6;\n",
              "    }\n",
              "\n",
              "    [theme=dark] .colab-df-convert {\n",
              "      background-color: #3B4455;\n",
              "      fill: #D2E3FC;\n",
              "    }\n",
              "\n",
              "    [theme=dark] .colab-df-convert:hover {\n",
              "      background-color: #434B5C;\n",
              "      box-shadow: 0px 1px 3px 1px rgba(0, 0, 0, 0.15);\n",
              "      filter: drop-shadow(0px 1px 2px rgba(0, 0, 0, 0.3));\n",
              "      fill: #FFFFFF;\n",
              "    }\n",
              "  </style>\n",
              "\n",
              "      <script>\n",
              "        const buttonEl =\n",
              "          document.querySelector('#df-5152e02a-3098-471b-9db6-1d070e94c49a button.colab-df-convert');\n",
              "        buttonEl.style.display =\n",
              "          google.colab.kernel.accessAllowed ? 'block' : 'none';\n",
              "\n",
              "        async function convertToInteractive(key) {\n",
              "          const element = document.querySelector('#df-5152e02a-3098-471b-9db6-1d070e94c49a');\n",
              "          const dataTable =\n",
              "            await google.colab.kernel.invokeFunction('convertToInteractive',\n",
              "                                                     [key], {});\n",
              "          if (!dataTable) return;\n",
              "\n",
              "          const docLinkHtml = 'Like what you see? Visit the ' +\n",
              "            '<a target=\"_blank\" href=https://colab.research.google.com/notebooks/data_table.ipynb>data table notebook</a>'\n",
              "            + ' to learn more about interactive tables.';\n",
              "          element.innerHTML = '';\n",
              "          dataTable['output_type'] = 'display_data';\n",
              "          await google.colab.output.renderOutput(dataTable, element);\n",
              "          const docLink = document.createElement('div');\n",
              "          docLink.innerHTML = docLinkHtml;\n",
              "          element.appendChild(docLink);\n",
              "        }\n",
              "      </script>\n",
              "    </div>\n",
              "  </div>\n",
              "  "
            ]
          },
          "metadata": {},
          "execution_count": 52
        }
      ]
    },
    {
      "cell_type": "code",
      "source": [
        "i_1 = df.iloc[0,1]\n",
        "i_n = df.iloc[-1,1]\n",
        "i_1,i_n"
      ],
      "metadata": {
        "colab": {
          "base_uri": "https://localhost:8080/"
        },
        "id": "kwB7lAHL2-VI",
        "outputId": "97adac0f-f9ca-4e99-bdec-66123312972a"
      },
      "execution_count": null,
      "outputs": [
        {
          "output_type": "execute_result",
          "data": {
            "text/plain": [
              "(28.153333333333336, 40.7275)"
            ]
          },
          "metadata": {},
          "execution_count": 152
        }
      ]
    },
    {
      "cell_type": "code",
      "source": [
        "AvgDelta = (i_n - i_1)/(len(df.t)-1) # средний абсолютный прирост\n",
        "AvgDelta"
      ],
      "metadata": {
        "colab": {
          "base_uri": "https://localhost:8080/"
        },
        "id": "YD1x7Tp-2-Sc",
        "outputId": "12795204-e546-4b49-8480-63fbf5982443"
      },
      "execution_count": null,
      "outputs": [
        {
          "output_type": "execute_result",
          "data": {
            "text/plain": [
              "4.191388888888888"
            ]
          },
          "metadata": {},
          "execution_count": 147
        }
      ]
    },
    {
      "cell_type": "code",
      "source": [
        "AvgTemp = ((i_n/i_1)**(1/(len(df.t)-1))) # средний темп роста\n",
        "AvgTemp"
      ],
      "metadata": {
        "colab": {
          "base_uri": "https://localhost:8080/"
        },
        "id": "SfBZ8Ej72-O2",
        "outputId": "e9c39bea-fff8-46c0-d355-4db287befc6a"
      },
      "execution_count": null,
      "outputs": [
        {
          "output_type": "execute_result",
          "data": {
            "text/plain": [
              "1.1309740580674148"
            ]
          },
          "metadata": {},
          "execution_count": 154
        }
      ]
    },
    {
      "cell_type": "code",
      "source": [
        "AvgTDelta = AvgTemp - 1 # средний темп прироста\n",
        "AvgTDelta"
      ],
      "metadata": {
        "colab": {
          "base_uri": "https://localhost:8080/"
        },
        "id": "EJalyXXN2-Lp",
        "outputId": "ec32bc2a-9ffa-41b1-8439-2b5274162387"
      },
      "execution_count": null,
      "outputs": [
        {
          "output_type": "execute_result",
          "data": {
            "text/plain": [
              "0.1309740580674148"
            ]
          },
          "metadata": {},
          "execution_count": 156
        }
      ]
    },
    {
      "cell_type": "markdown",
      "source": [
        "**15.\t Спрогнозируйте среднюю цену на материал 1 для 2011 года на основе среднего абсолютного прироста или среднего темпа роста в зависимости от характера динамики абсолютного цепного прироста и цепного темпа роста. Необходимые для этого формулы приведены ниже.**"
      ],
      "metadata": {
        "id": "fNVcb-4H7dMV"
      }
    },
    {
      "cell_type": "code",
      "execution_count": null,
      "metadata": {
        "colab": {
          "base_uri": "https://localhost:8080/"
        },
        "id": "khMRQX8ZWjNf",
        "outputId": "8e4bbd59-6e19-43e1-9c66-cab106a0b3e1"
      },
      "outputs": [
        {
          "output_type": "execute_result",
          "data": {
            "text/plain": [
              "44.91888888888889"
            ]
          },
          "metadata": {},
          "execution_count": 157
        }
      ],
      "source": [
        "predict=i_n+AvgDelta # прогноз на январь 2011 года\n",
        "predict"
      ]
    },
    {
      "cell_type": "code",
      "execution_count": null,
      "metadata": {
        "colab": {
          "base_uri": "https://localhost:8080/"
        },
        "id": "oa0CdZoyXLL9",
        "outputId": "6fe84fe2-ee87-4a1e-c985-094db4d63fd1"
      },
      "outputs": [
        {
          "output_type": "execute_result",
          "data": {
            "text/plain": [
              "49.110277777777775"
            ]
          },
          "metadata": {},
          "execution_count": 158
        }
      ],
      "source": [
        "predict=i_n+2*AvgDelta\n",
        "predict"
      ]
    },
    {
      "cell_type": "markdown",
      "metadata": {
        "id": "oBbKRj2SYN_Q"
      },
      "source": [
        "# **ЗАДАНИЕ 3. СГЛАЖИВАНИЕ ВРЕМЕННОГО РЯДА**\n",
        "На основе методов простой и взвешенной скользящих средних для цен на материал 1 выявите тренд и дайте прогноз на год вперед.\n",
        "Постарайтесь максимально автоматизировать все вычисления, использовать существующие модули среды программирования Python.\n"
      ]
    },
    {
      "cell_type": "markdown",
      "source": [
        "Методика выполнения задания:\n",
        "\n",
        "# **Раздел 1. Простая скользящая средняя с фиксированным окном**\n"
      ],
      "metadata": {
        "id": "w-brJpwM96GX"
      }
    },
    {
      "cell_type": "markdown",
      "source": [
        "**1.\tПрочитайте данные по ценам на материал 1 и приведите их к виду, пригодному для дальнейшего анализа (см. пп.1-10 Задания 1).**"
      ],
      "metadata": {
        "id": "Fjo8ZwJH_AR6"
      }
    },
    {
      "cell_type": "code",
      "execution_count": null,
      "metadata": {
        "colab": {
          "base_uri": "https://localhost:8080/"
        },
        "outputId": "15884959-a846-4474-ff10-1cd3ae38f453",
        "id": "Oh7aXsFs-8e6"
      },
      "outputs": [
        {
          "output_type": "stream",
          "name": "stdout",
          "text": [
            "Mounted at /content/gdrive\n"
          ]
        }
      ],
      "source": [
        "from google.colab import drive\n",
        "drive.mount('/content/gdrive')"
      ]
    },
    {
      "cell_type": "code",
      "execution_count": null,
      "metadata": {
        "id": "C3VFzjz5-8e7"
      },
      "outputs": [],
      "source": [
        "!pip install --upgrade xlrd"
      ]
    },
    {
      "cell_type": "code",
      "execution_count": null,
      "metadata": {
        "id": "vddAryLj-8e7"
      },
      "outputs": [],
      "source": [
        "os.chdir('/content/gdrive/MyDrive/Colab Notebooks/PDA-210')"
      ]
    },
    {
      "cell_type": "code",
      "execution_count": null,
      "metadata": {
        "id": "toQJMT70-8e7"
      },
      "outputs": [],
      "source": [
        "data=pd.read_excel('data.xls', sheet_name='Material 1')\n",
        "data.head()"
      ]
    },
    {
      "cell_type": "code",
      "source": [
        "my_data = data.iloc[0:2,2:].T.rename(columns={0: 'Date', 1: 'Value'}).set_index('Date')\n",
        "my_data.dtypes\n",
        "#iloc[0:2,2:]                             - нарезал нужные строки и столбцы\n",
        "#.T                                       - поверхул всё, т.е. транспонировал\n",
        "#.rename(columns={0: 'Date', 1: 'Value'}) - поменял названия столбцов\n",
        "# .set_index('Date')                      - сделал столбец с датами индексом"
      ],
      "metadata": {
        "colab": {
          "base_uri": "https://localhost:8080/"
        },
        "outputId": "c1e3bf41-e625-4f8a-d7c3-faff945c4ce4",
        "id": "86Iv-Fbr-8e7"
      },
      "execution_count": null,
      "outputs": [
        {
          "output_type": "execute_result",
          "data": {
            "text/plain": [
              "Value    object\n",
              "dtype: object"
            ]
          },
          "metadata": {},
          "execution_count": 7
        }
      ]
    },
    {
      "cell_type": "code",
      "source": [
        "my_data['Value'] = my_data['Value'].astype(float)"
      ],
      "metadata": {
        "id": "vJuPJ9gg-8e7"
      },
      "execution_count": null,
      "outputs": []
    },
    {
      "cell_type": "code",
      "execution_count": null,
      "metadata": {
        "id": "ei-EvkCjYSBt"
      },
      "outputs": [],
      "source": [
        "import os\n",
        "import pandas as pd\n",
        "import matplotlib.pyplot as plt\n",
        "from math import sqrt\n",
        "from sklearn.metrics import mean_squared_error\n",
        "import numpy as np\n",
        "from pandas import DataFrame\n",
        "from pandas import concat"
      ]
    },
    {
      "cell_type": "code",
      "source": [
        "my_data.sample(4)"
      ],
      "metadata": {
        "colab": {
          "base_uri": "https://localhost:8080/",
          "height": 206
        },
        "outputId": "32ea6150-5843-427a-8aa1-f465558c35ff",
        "id": "2W2ZfTKb-8e8"
      },
      "execution_count": null,
      "outputs": [
        {
          "output_type": "execute_result",
          "data": {
            "text/plain": [
              "            Value\n",
              "Date             \n",
              "2008-12-01  31.18\n",
              "2007-09-01  29.67\n",
              "2008-05-01  32.22\n",
              "2007-05-01  28.96"
            ],
            "text/html": [
              "\n",
              "  <div id=\"df-d5a13eb5-9f49-4245-9fb2-e801db221fb5\">\n",
              "    <div class=\"colab-df-container\">\n",
              "      <div>\n",
              "<style scoped>\n",
              "    .dataframe tbody tr th:only-of-type {\n",
              "        vertical-align: middle;\n",
              "    }\n",
              "\n",
              "    .dataframe tbody tr th {\n",
              "        vertical-align: top;\n",
              "    }\n",
              "\n",
              "    .dataframe thead th {\n",
              "        text-align: right;\n",
              "    }\n",
              "</style>\n",
              "<table border=\"1\" class=\"dataframe\">\n",
              "  <thead>\n",
              "    <tr style=\"text-align: right;\">\n",
              "      <th></th>\n",
              "      <th>Value</th>\n",
              "    </tr>\n",
              "    <tr>\n",
              "      <th>Date</th>\n",
              "      <th></th>\n",
              "    </tr>\n",
              "  </thead>\n",
              "  <tbody>\n",
              "    <tr>\n",
              "      <th>2008-12-01</th>\n",
              "      <td>31.18</td>\n",
              "    </tr>\n",
              "    <tr>\n",
              "      <th>2007-09-01</th>\n",
              "      <td>29.67</td>\n",
              "    </tr>\n",
              "    <tr>\n",
              "      <th>2008-05-01</th>\n",
              "      <td>32.22</td>\n",
              "    </tr>\n",
              "    <tr>\n",
              "      <th>2007-05-01</th>\n",
              "      <td>28.96</td>\n",
              "    </tr>\n",
              "  </tbody>\n",
              "</table>\n",
              "</div>\n",
              "      <button class=\"colab-df-convert\" onclick=\"convertToInteractive('df-d5a13eb5-9f49-4245-9fb2-e801db221fb5')\"\n",
              "              title=\"Convert this dataframe to an interactive table.\"\n",
              "              style=\"display:none;\">\n",
              "        \n",
              "  <svg xmlns=\"http://www.w3.org/2000/svg\" height=\"24px\"viewBox=\"0 0 24 24\"\n",
              "       width=\"24px\">\n",
              "    <path d=\"M0 0h24v24H0V0z\" fill=\"none\"/>\n",
              "    <path d=\"M18.56 5.44l.94 2.06.94-2.06 2.06-.94-2.06-.94-.94-2.06-.94 2.06-2.06.94zm-11 1L8.5 8.5l.94-2.06 2.06-.94-2.06-.94L8.5 2.5l-.94 2.06-2.06.94zm10 10l.94 2.06.94-2.06 2.06-.94-2.06-.94-.94-2.06-.94 2.06-2.06.94z\"/><path d=\"M17.41 7.96l-1.37-1.37c-.4-.4-.92-.59-1.43-.59-.52 0-1.04.2-1.43.59L10.3 9.45l-7.72 7.72c-.78.78-.78 2.05 0 2.83L4 21.41c.39.39.9.59 1.41.59.51 0 1.02-.2 1.41-.59l7.78-7.78 2.81-2.81c.8-.78.8-2.07 0-2.86zM5.41 20L4 18.59l7.72-7.72 1.47 1.35L5.41 20z\"/>\n",
              "  </svg>\n",
              "      </button>\n",
              "      \n",
              "  <style>\n",
              "    .colab-df-container {\n",
              "      display:flex;\n",
              "      flex-wrap:wrap;\n",
              "      gap: 12px;\n",
              "    }\n",
              "\n",
              "    .colab-df-convert {\n",
              "      background-color: #E8F0FE;\n",
              "      border: none;\n",
              "      border-radius: 50%;\n",
              "      cursor: pointer;\n",
              "      display: none;\n",
              "      fill: #1967D2;\n",
              "      height: 32px;\n",
              "      padding: 0 0 0 0;\n",
              "      width: 32px;\n",
              "    }\n",
              "\n",
              "    .colab-df-convert:hover {\n",
              "      background-color: #E2EBFA;\n",
              "      box-shadow: 0px 1px 2px rgba(60, 64, 67, 0.3), 0px 1px 3px 1px rgba(60, 64, 67, 0.15);\n",
              "      fill: #174EA6;\n",
              "    }\n",
              "\n",
              "    [theme=dark] .colab-df-convert {\n",
              "      background-color: #3B4455;\n",
              "      fill: #D2E3FC;\n",
              "    }\n",
              "\n",
              "    [theme=dark] .colab-df-convert:hover {\n",
              "      background-color: #434B5C;\n",
              "      box-shadow: 0px 1px 3px 1px rgba(0, 0, 0, 0.15);\n",
              "      filter: drop-shadow(0px 1px 2px rgba(0, 0, 0, 0.3));\n",
              "      fill: #FFFFFF;\n",
              "    }\n",
              "  </style>\n",
              "\n",
              "      <script>\n",
              "        const buttonEl =\n",
              "          document.querySelector('#df-d5a13eb5-9f49-4245-9fb2-e801db221fb5 button.colab-df-convert');\n",
              "        buttonEl.style.display =\n",
              "          google.colab.kernel.accessAllowed ? 'block' : 'none';\n",
              "\n",
              "        async function convertToInteractive(key) {\n",
              "          const element = document.querySelector('#df-d5a13eb5-9f49-4245-9fb2-e801db221fb5');\n",
              "          const dataTable =\n",
              "            await google.colab.kernel.invokeFunction('convertToInteractive',\n",
              "                                                     [key], {});\n",
              "          if (!dataTable) return;\n",
              "\n",
              "          const docLinkHtml = 'Like what you see? Visit the ' +\n",
              "            '<a target=\"_blank\" href=https://colab.research.google.com/notebooks/data_table.ipynb>data table notebook</a>'\n",
              "            + ' to learn more about interactive tables.';\n",
              "          element.innerHTML = '';\n",
              "          dataTable['output_type'] = 'display_data';\n",
              "          await google.colab.output.renderOutput(dataTable, element);\n",
              "          const docLink = document.createElement('div');\n",
              "          docLink.innerHTML = docLinkHtml;\n",
              "          element.appendChild(docLink);\n",
              "        }\n",
              "      </script>\n",
              "    </div>\n",
              "  </div>\n",
              "  "
            ]
          },
          "metadata": {},
          "execution_count": 46
        }
      ]
    },
    {
      "cell_type": "markdown",
      "source": [
        "**3.\tПреобразуйте набор данных о цене на материал 1 с помощью простой скользящей средней с размером окна 3 месяца. Воспользуйтесь набором функций rolling(window=3).mean(). Результат запишите в переменную rolling_mean.** **В данном случае преобразованное значение в момент времени (t) вычисляется, как среднее значение для предыдущих 3 наблюдений** (t-2, t-1, t): obs(t) =1/3*(obs(t - 2) + obs(t - 1) + obs(t))."
      ],
      "metadata": {
        "id": "3UZJyIrX_Uip"
      }
    },
    {
      "cell_type": "code",
      "source": [
        "series=my_data.squeeze() # переводим DataFrame в Series для дальнейшей работы\n",
        "series.head(5)"
      ],
      "metadata": {
        "colab": {
          "base_uri": "https://localhost:8080/"
        },
        "id": "rlNTsWH2S0ho",
        "outputId": "83fa647c-96ff-4a60-a204-5edab2278a56"
      },
      "execution_count": null,
      "outputs": [
        {
          "output_type": "execute_result",
          "data": {
            "text/plain": [
              "Date\n",
              "2007-01-01    26.45\n",
              "2007-02-01    23.89\n",
              "2007-03-01    25.95\n",
              "2007-04-01    30.03\n",
              "2007-05-01    28.96\n",
              "Name: Value, dtype: float64"
            ]
          },
          "metadata": {},
          "execution_count": 47
        }
      ]
    },
    {
      "cell_type": "code",
      "source": [
        "# сглаживание нужно для поиска тренда"
      ],
      "metadata": {
        "id": "VM8UAD7QSOiO"
      },
      "execution_count": null,
      "outputs": []
    },
    {
      "cell_type": "code",
      "execution_count": null,
      "metadata": {
        "id": "aQLUcBcCeDgb"
      },
      "outputs": [],
      "source": [
        "rolling_mean=series.rolling(window=3).mean()\n",
        "# расшфровка: из 3-х(окно) значений делает 1(берет среднее от 3-х) и записывает вместо 3-го,\n",
        "# смещается на 1 строку вниз, опять берет 3 значения ...., так выравнивается ряд"
      ]
    },
    {
      "cell_type": "code",
      "execution_count": null,
      "metadata": {
        "colab": {
          "base_uri": "https://localhost:8080/"
        },
        "id": "kI_V1mDAfEF_",
        "outputId": "1f823691-112f-45b7-c4bc-76ac2778509e"
      },
      "outputs": [
        {
          "output_type": "execute_result",
          "data": {
            "text/plain": [
              "Date\n",
              "2007-01-01          NaN\n",
              "2007-02-01          NaN\n",
              "2007-03-01    25.430000\n",
              "2007-04-01    26.623333\n",
              "2007-05-01    28.313333\n",
              "2007-06-01    28.190000\n",
              "2007-07-01    26.833333\n",
              "2007-08-01    27.366667\n",
              "2007-09-01    28.730000\n",
              "2007-10-01    30.230000\n",
              "Name: Value, dtype: float64"
            ]
          },
          "metadata": {},
          "execution_count": 49
        }
      ],
      "source": [
        "rolling_mean.head(10)"
      ]
    },
    {
      "cell_type": "markdown",
      "source": [
        "**4.\tПоместите на одну диаграмму линейный график исходных данных (series) и преобразованных данных (rolling_mean), воспользовавшись функцией plot(), а также функцией show() из модуля matplotlib.pyplot. График скользящей средней изобразите красным цветом, для этого в функции plot() задайте параметр color='red'. Прокомментируйте результат.**"
      ],
      "metadata": {
        "id": "jb_fHYBCUfo3"
      }
    },
    {
      "cell_type": "code",
      "execution_count": null,
      "metadata": {
        "colab": {
          "base_uri": "https://localhost:8080/",
          "height": 475
        },
        "id": "9APYx-nVfHTe",
        "outputId": "1f37dcd5-81e8-486d-f188-0f06c9819107"
      },
      "outputs": [
        {
          "output_type": "error",
          "ename": "NameError",
          "evalue": "ignored",
          "traceback": [
            "\u001b[0;31m---------------------------------------------------------------------------\u001b[0m",
            "\u001b[0;31mNameError\u001b[0m                                 Traceback (most recent call last)",
            "\u001b[0;32m<ipython-input-44-f539a0d8c6f8>\u001b[0m in \u001b[0;36m<module>\u001b[0;34m\u001b[0m\n\u001b[1;32m      1\u001b[0m \u001b[0mseries\u001b[0m\u001b[0;34m.\u001b[0m\u001b[0mplot\u001b[0m\u001b[0;34m(\u001b[0m\u001b[0;34m)\u001b[0m\u001b[0;34m\u001b[0m\u001b[0;34m\u001b[0m\u001b[0m\n\u001b[0;32m----> 2\u001b[0;31m \u001b[0mrolling_mean\u001b[0m\u001b[0;34m.\u001b[0m\u001b[0mplot\u001b[0m\u001b[0;34m(\u001b[0m\u001b[0mcolor\u001b[0m\u001b[0;34m=\u001b[0m\u001b[0;34m'red'\u001b[0m\u001b[0;34m)\u001b[0m\u001b[0;34m\u001b[0m\u001b[0;34m\u001b[0m\u001b[0m\n\u001b[0m\u001b[1;32m      3\u001b[0m \u001b[0mplt\u001b[0m\u001b[0;34m.\u001b[0m\u001b[0mshow\u001b[0m\u001b[0;34m(\u001b[0m\u001b[0;34m)\u001b[0m\u001b[0;34m\u001b[0m\u001b[0;34m\u001b[0m\u001b[0m\n",
            "\u001b[0;31mNameError\u001b[0m: name 'rolling_mean' is not defined"
          ]
        },
        {
          "output_type": "display_data",
          "data": {
            "text/plain": [
              "<Figure size 432x288 with 1 Axes>"
            ],
            "image/png": "[encoded data removed]"
          },
          "metadata": {
            "needs_background": "light"
          }
        }
      ],
      "source": [
        "series.plot()\n",
        "rolling_mean.plot(color='red')\n",
        "plt.show()"
      ]
    },
    {
      "cell_type": "markdown",
      "source": [
        "**5.\tПроделайте то же самое для ширины окна 5 месяцев. Сравните результаты. Какую ширину окна Вы выберете?**"
      ],
      "metadata": {
        "id": "Ioe0R1XeUkay"
      }
    },
    {
      "cell_type": "code",
      "execution_count": null,
      "metadata": {
        "id": "Al9z_IbGfsHv"
      },
      "outputs": [],
      "source": [
        "rolling_mean=series.rolling(window=5).mean()"
      ]
    },
    {
      "cell_type": "code",
      "execution_count": null,
      "metadata": {
        "colab": {
          "base_uri": "https://localhost:8080/"
        },
        "id": "3y7LjabcfsHw",
        "outputId": "3ec0ff20-3298-4b5d-8cca-8d465a3b467f"
      },
      "outputs": [
        {
          "output_type": "execute_result",
          "data": {
            "text/plain": [
              "Date\n",
              "2007-01-01       NaN\n",
              "2007-02-01       NaN\n",
              "2007-03-01       NaN\n",
              "2007-04-01       NaN\n",
              "2007-05-01    27.056\n",
              "2007-06-01    26.882\n",
              "2007-07-01    27.296\n",
              "2007-08-01    28.218\n",
              "2007-09-01    28.146\n",
              "2007-10-01    28.446\n",
              "Name: Value, dtype: float64"
            ]
          },
          "metadata": {},
          "execution_count": 21
        }
      ],
      "source": [
        "rolling_mean.head(10)"
      ]
    },
    {
      "cell_type": "code",
      "execution_count": null,
      "metadata": {
        "colab": {
          "base_uri": "https://localhost:8080/",
          "height": 291
        },
        "id": "XyKKCgf2fsHx",
        "outputId": "c7a498db-f10b-4c37-b93f-402f7a835c0c"
      },
      "outputs": [
        {
          "output_type": "display_data",
          "data": {
            "text/plain": [
              "<Figure size 432x288 with 1 Axes>"
            ],
            "image/png": "[encoded data removed]"
          },
          "metadata": {
            "needs_background": "light"
          }
        }
      ],
      "source": [
        "series.plot()\n",
        "rolling_mean.plot(color='red')\n",
        "plt.show()"
      ]
    },
    {
      "cell_type": "markdown",
      "source": [
        "**6.\tВоспользуйтесь моделью простой скользящей средней с выбранной Вами шириной окна для прогнозирования значений временного ряда в пошаговом режиме. При этом прогнозируемое и ожидаемое значение печатается на каждом временном шаге. Это потребует выполнения следующих действий:**"
      ],
      "metadata": {
        "id": "L7ghebNCU5PR"
      }
    },
    {
      "cell_type": "markdown",
      "source": [
        "**6.1.\tЗапишите в переменную X значения временного ряда, обратившись к атрибуту values.**"
      ],
      "metadata": {
        "id": "m8LpLfALU8ZF"
      }
    },
    {
      "cell_type": "code",
      "execution_count": null,
      "metadata": {
        "id": "lUen7Ci9gEC6"
      },
      "outputs": [],
      "source": [
        "X=series.values"
      ]
    },
    {
      "cell_type": "markdown",
      "source": [
        "**6.2.\tВ переменной window задайте выбранную Вами ширину окна.**"
      ],
      "metadata": {
        "id": "AEiXX20gVDPt"
      }
    },
    {
      "cell_type": "code",
      "execution_count": null,
      "metadata": {
        "id": "vl1A1I-WgfPc"
      },
      "outputs": [],
      "source": [
        "window =3"
      ]
    },
    {
      "cell_type": "code",
      "source": [
        "X"
      ],
      "metadata": {
        "colab": {
          "base_uri": "https://localhost:8080/"
        },
        "id": "yCaZAPUq9bDI",
        "outputId": "6af8767d-3d59-4f50-b674-76479fce1084"
      },
      "execution_count": null,
      "outputs": [
        {
          "output_type": "execute_result",
          "data": {
            "text/plain": [
              "array([26.45, 23.89, 25.95, 30.03, 28.96, 25.58, 25.96, 30.56, 29.67,\n",
              "       30.46, 28.6 , 31.73, 28.  , 33.99, 27.87, 34.49, 32.22, 34.56,\n",
              "       29.87, 31.09, 30.06, 34.21, 31.57, 31.18, 33.85, 38.27, 35.92,\n",
              "       34.01, 36.  , 36.2 , 37.5 , 39.62, 39.51, 35.49, 39.69, 37.74,\n",
              "       36.08, 39.68, 37.36, 39.21, 39.43, 43.5 , 40.75, 42.84, 38.01,\n",
              "       45.18, 42.49, 44.2 ])"
            ]
          },
          "metadata": {},
          "execution_count": 57
        }
      ]
    },
    {
      "cell_type": "markdown",
      "source": [
        "**6.3.\tВ переменную history поместите список значений временного ряда в пределах ширины окна, создав его методом спискового включения [X[i] for i in range(window)].**"
      ],
      "metadata": {
        "id": "LRURHCR8VGgy"
      }
    },
    {
      "cell_type": "code",
      "execution_count": null,
      "metadata": {
        "id": "OXPJo7KYgiJq",
        "colab": {
          "base_uri": "https://localhost:8080/"
        },
        "outputId": "5852a41e-0fe1-447c-a0ab-a45613a211f4"
      },
      "outputs": [
        {
          "output_type": "execute_result",
          "data": {
            "text/plain": [
              "[26.45, 23.89, 25.95]"
            ]
          },
          "metadata": {},
          "execution_count": 61
        }
      ],
      "source": [
        "history =[X[i] for i in range(window)]\n",
        "history"
      ]
    },
    {
      "cell_type": "markdown",
      "source": [
        "**6.4.\tВ переменную test поместите список значений временного ряда в интервале от окончания ширины окна до длины временного ряда, создав его методом спискового включения [X[i] for i in range(window, len(X))].**"
      ],
      "metadata": {
        "id": "S9XqBUZwVhtz"
      }
    },
    {
      "cell_type": "code",
      "execution_count": null,
      "metadata": {
        "id": "xQ9Fst_-g3UZ"
      },
      "outputs": [],
      "source": [
        "test =[X[i] for i in range(window, len(X))]"
      ]
    },
    {
      "cell_type": "code",
      "source": [
        "test"
      ],
      "metadata": {
        "id": "8naky2_h9zDT"
      },
      "execution_count": null,
      "outputs": []
    },
    {
      "cell_type": "markdown",
      "source": [
        "**6.5.\tСоздайте пустой список с помощью функции list() и запишите его в переменную predictions.**"
      ],
      "metadata": {
        "id": "tDyZCGPRWMBk"
      }
    },
    {
      "cell_type": "code",
      "execution_count": null,
      "metadata": {
        "id": "d0WohGGehEW6"
      },
      "outputs": [],
      "source": [
        "predictions=list()"
      ]
    },
    {
      "cell_type": "markdown",
      "source": [
        "**6.6.\tПеребирайте временные периоды t тестового набора range(len(test)) с помощью цикла for и для каждого наблюдения выполняйте следующие действия:**\n",
        "\n",
        "**6.6.1.\tС помощью функции len() определите длину исторических данных (history) и результат запишите в переменную length.**\n",
        "\n",
        "**6.6.2.\tСоздайте список значений временного ряда для расчета скользящей средней с помощью метода спискового включения [history[i] for i in range(length-window,length)]. Найдите среднее значение списка с помощью функции mean(). Результат запишите в переменную yhat.**\n",
        "\n",
        "**6.6.3.\tНаблюдаемое на данном шаге значение test[t] запишите в переменную obs.**\n",
        "\n",
        "**6.6.4.\tВ список predictions добавьте найденный прогноз с помощью функции append(yhat).**\n",
        "\n",
        "**6.6.5.\tВ список history добавьте новое наблюдаемое значение с помощью функции append(obs).**\n",
        "\n",
        "**6.6.6.\tВыведите на экран прогнозное и наблюдаемое на каждом шаге значение временного ряда с помощью функции print('predicted=%f, expected=%f' % (yhat, obs)).**\n"
      ],
      "metadata": {
        "id": "OHjVhrxOWWhi"
      }
    },
    {
      "cell_type": "code",
      "execution_count": null,
      "metadata": {
        "colab": {
          "base_uri": "https://localhost:8080/"
        },
        "id": "GW3VYwAzhKfa",
        "outputId": "e5ead6b2-e97d-49ea-d46e-86b84970920b"
      },
      "outputs": [
        {
          "output_type": "stream",
          "name": "stdout",
          "text": [
            "predicted=25.430000, expected=30.030000\n",
            "predicted=26.623333, expected=28.960000\n",
            "predicted=28.313333, expected=25.580000\n",
            "predicted=28.190000, expected=25.960000\n",
            "predicted=26.833333, expected=30.560000\n",
            "predicted=27.366667, expected=29.670000\n",
            "predicted=28.730000, expected=30.460000\n",
            "predicted=30.230000, expected=28.600000\n",
            "predicted=29.576667, expected=31.730000\n",
            "predicted=30.263333, expected=28.000000\n",
            "predicted=29.443333, expected=33.990000\n",
            "predicted=31.240000, expected=27.870000\n",
            "predicted=29.953333, expected=34.490000\n",
            "predicted=32.116667, expected=32.220000\n",
            "predicted=31.526667, expected=34.560000\n",
            "predicted=33.756667, expected=29.870000\n",
            "predicted=32.216667, expected=31.090000\n",
            "predicted=31.840000, expected=30.060000\n",
            "predicted=30.340000, expected=34.210000\n",
            "predicted=31.786667, expected=31.570000\n",
            "predicted=31.946667, expected=31.180000\n",
            "predicted=32.320000, expected=33.850000\n",
            "predicted=32.200000, expected=38.270000\n",
            "predicted=34.433333, expected=35.920000\n",
            "predicted=36.013333, expected=34.010000\n",
            "predicted=36.066667, expected=36.000000\n",
            "predicted=35.310000, expected=36.200000\n",
            "predicted=35.403333, expected=37.500000\n",
            "predicted=36.566667, expected=39.620000\n",
            "predicted=37.773333, expected=39.510000\n",
            "predicted=38.876667, expected=35.490000\n",
            "predicted=38.206667, expected=39.690000\n",
            "predicted=38.230000, expected=37.740000\n",
            "predicted=37.640000, expected=36.080000\n",
            "predicted=37.836667, expected=39.680000\n",
            "predicted=37.833333, expected=37.360000\n",
            "predicted=37.706667, expected=39.210000\n",
            "predicted=38.750000, expected=39.430000\n",
            "predicted=38.666667, expected=43.500000\n",
            "predicted=40.713333, expected=40.750000\n",
            "predicted=41.226667, expected=42.840000\n",
            "predicted=42.363333, expected=38.010000\n",
            "predicted=40.533333, expected=45.180000\n",
            "predicted=42.010000, expected=42.490000\n",
            "predicted=41.893333, expected=44.200000\n"
          ]
        }
      ],
      "source": [
        "# делаем прогноз пошагово, т.е. по 3-ем делаем прогноз (см. в predicted), а фактическое значение см. в expected,\n",
        "# затем смещаемся и опять ....\n",
        "for t in range(len(test)):\n",
        "  length=len(history)\n",
        "  yhat=np.mean([history[i] for i in range(length-window,length)])\n",
        "  obs=test[t]\n",
        "  predictions.append(yhat)\n",
        "  history.append(obs)\n",
        "  print('predicted=%f, expected=%f' % (yhat, obs))"
      ]
    },
    {
      "cell_type": "markdown",
      "source": [
        "**7.\tРассчитайте и выведите на экран корень квадратный из среднеквадратичной ошибки (RMSE) для всех сделанных прогнозов, воспользовавшись функцией sqrt() из модуля math для извлечения корня квадратного и функцией mean_squared_error(test, predictions) из модуля sklearn.metrics для нахождения средней квадратичной ошибки. Прокомментируйте результат.**"
      ],
      "metadata": {
        "id": "N9DsSQb_YNFr"
      }
    },
    {
      "cell_type": "code",
      "execution_count": null,
      "metadata": {
        "id": "Kqe53uWHiijq",
        "colab": {
          "base_uri": "https://localhost:8080/"
        },
        "outputId": "2773e991-c71f-40b9-af6e-83244f5be42e"
      },
      "outputs": [
        {
          "output_type": "execute_result",
          "data": {
            "text/plain": [
              "2.7011623469705337"
            ]
          },
          "metadata": {},
          "execution_count": 33
        }
      ],
      "source": [
        "RMSE=sqrt(mean_squared_error(test, predictions)) # неплохо, по-сравнению со значениями 40, 37,38 - 2.7 -маленькое значение\n",
        "# и увидел бог, что это хорошо\n",
        "RMSE"
      ]
    },
    {
      "cell_type": "markdown",
      "source": [
        "**8.\tПоместите на одну диаграмму линейный график исходных данных (test) и спрогнозированных данных (predictions), воспользовавшись функцией plot(), а также функцией show() из модуля matplotlib.pyplot. Прогнозный график изобразите красным цветом, задав в функции plot() параметр color='red'. Прокомментируйте результат.**"
      ],
      "metadata": {
        "id": "X-0IjXPqehCd"
      }
    },
    {
      "cell_type": "code",
      "execution_count": null,
      "metadata": {
        "colab": {
          "base_uri": "https://localhost:8080/",
          "height": 265
        },
        "id": "183eURAAiwwP",
        "outputId": "de648e89-1bec-4307-f6ac-47310be8f580"
      },
      "outputs": [
        {
          "output_type": "display_data",
          "data": {
            "text/plain": [
              "<Figure size 432x288 with 1 Axes>"
            ],
            "image/png": "[encoded data removed]"
          },
          "metadata": {
            "needs_background": "light"
          }
        }
      ],
      "source": [
        "plt.plot(test) # фактические значения\n",
        "plt.plot(predictions, color='red') # прогнозные значения, которые определялись на\n",
        "                                   # каждом шаге сучетом поступающей информации\n",
        "plt.show()"
      ]
    },
    {
      "cell_type": "markdown",
      "source": [
        "# **Раздел 2. Простая скользящая средняя с расширяющимся окном**\n",
        "\n",
        "**9.\tНайдите простую среднюю для расширяющегося окна, воспользовавшись сочетанием функций expanding().mean(). Результат запишите в переменную exp_mean. Выведите на экран первые 10 наблюдений, воспользовавшись функцией head(). Прокомментируйте результат.**\n"
      ],
      "metadata": {
        "id": "0NgEC_U5emeP"
      }
    },
    {
      "cell_type": "code",
      "execution_count": null,
      "metadata": {
        "id": "c0ZxWKhcjIyw"
      },
      "outputs": [],
      "source": [
        "exp_mean=series.expanding().mean()"
      ]
    },
    {
      "cell_type": "code",
      "execution_count": null,
      "metadata": {
        "id": "wTERL4Sqje5k",
        "colab": {
          "base_uri": "https://localhost:8080/"
        },
        "outputId": "3a706270-bd90-4a1d-eae5-6c7691b529d6"
      },
      "outputs": [
        {
          "output_type": "execute_result",
          "data": {
            "text/plain": [
              "Date\n",
              "2007-01-01    26.450000\n",
              "2007-02-01    25.170000\n",
              "2007-03-01    25.430000\n",
              "2007-04-01    26.580000\n",
              "2007-05-01    27.056000\n",
              "2007-06-01    26.810000\n",
              "2007-07-01    26.688571\n",
              "2007-08-01    27.172500\n",
              "2007-09-01    27.450000\n",
              "2007-10-01    27.751000\n",
              "Name: Value, dtype: float64"
            ]
          },
          "metadata": {},
          "execution_count": 37
        }
      ],
      "source": [
        "exp_mean.head(10)"
      ]
    },
    {
      "cell_type": "markdown",
      "source": [
        "**10.\tПоместите на одну диаграмму линейный график исходных данных (series) и преобразованных данных (expanding_mean), воспользовавшись функцией plot(), а также функцией show() из модуля matplotlib.pyplot. График преобразованных данных изобразите красным цветом, задав в функции plot() параметр color='red'. Прокомментируйте результат.**"
      ],
      "metadata": {
        "id": "ktFtJSAihvqI"
      }
    },
    {
      "cell_type": "code",
      "execution_count": null,
      "metadata": {
        "id": "qdPPc9yalcJb",
        "colab": {
          "base_uri": "https://localhost:8080/",
          "height": 291
        },
        "outputId": "41edbbbd-0562-48ca-e181-4b17b16f4978"
      },
      "outputs": [
        {
          "output_type": "display_data",
          "data": {
            "text/plain": [
              "<Figure size 432x288 with 1 Axes>"
            ],
            "image/png": "[encoded data removed]"
          },
          "metadata": {
            "needs_background": "light"
          }
        }
      ],
      "source": [
        "series.plot()\n",
        "exp_mean.plot()\n",
        "plt.show()"
      ]
    },
    {
      "cell_type": "markdown",
      "source": [
        "# **Раздел 3. Взвешенная скользящая средняя с фиксированным окном**\n",
        "\n",
        "**11.\t Задайте веса в линейно возрастающем порядке. Пусть ширина окна равна 5. Сначала сгенерируйте 5 целых чисел от 1 до 6 не включительно с помощью функции arange() из модуля numpy. Результат запишите в переменную fig. Нормируйте полученные числа путем их деления на сумму списка, найденную с помощью функции sum(). Запишите полученный результат в переменную weights и выведите ее содержимое на экран.**\n"
      ],
      "metadata": {
        "id": "lcPF-tQJh-i2"
      }
    },
    {
      "cell_type": "markdown",
      "source": [
        "# **!!!!!!!!!!! создаем_свои_веса**"
      ],
      "metadata": {
        "id": "hvGR8IP5wK0K"
      }
    },
    {
      "cell_type": "code",
      "source": [
        "fig=np.arange(1,6)\n",
        "fig"
      ],
      "metadata": {
        "colab": {
          "base_uri": "https://localhost:8080/"
        },
        "id": "ef_3mXouqF7_",
        "outputId": "3fa0852f-3d3f-4ee4-e6cb-9a1067dc8705"
      },
      "execution_count": null,
      "outputs": [
        {
          "output_type": "execute_result",
          "data": {
            "text/plain": [
              "array([1, 2, 3, 4, 5])"
            ]
          },
          "metadata": {},
          "execution_count": 40
        }
      ]
    },
    {
      "cell_type": "code",
      "source": [
        "# пояснеие: эти веса не самрегулируются, а задаются мной"
      ],
      "metadata": {
        "id": "FwSRU061iiM7"
      },
      "execution_count": null,
      "outputs": []
    },
    {
      "cell_type": "code",
      "source": [
        "weights = fig/fig.sum() # здесь получаем чтобы веса в сумме давали единицу\n",
        "weights"
      ],
      "metadata": {
        "colab": {
          "base_uri": "https://localhost:8080/"
        },
        "id": "G4LO8VACqSwt",
        "outputId": "55fa2389-e1cf-43a4-c0f2-89a7ffe74fa3"
      },
      "execution_count": null,
      "outputs": [
        {
          "output_type": "execute_result",
          "data": {
            "text/plain": [
              "array([0.06666667, 0.13333333, 0.2       , 0.26666667, 0.33333333])"
            ]
          },
          "metadata": {},
          "execution_count": 46
        }
      ]
    },
    {
      "cell_type": "code",
      "source": [
        "# пояснение: количество весов weights и ширина окна rolling(5) д.б. равны, т.к. первый вес умножается на первое\n",
        "# значение окна потом прибавляется второй вес умноженный на второе значение окна и т.д., итоговая сумма будет\n",
        "# нашим значением"
      ],
      "metadata": {
        "id": "p3WxXjzFj12J"
      },
      "execution_count": null,
      "outputs": []
    },
    {
      "cell_type": "markdown",
      "source": [
        "**12.\t Далее вычислите взвешенную скользящую среднюю, воспользовавшись функцией rolling(5), чтобы задать скользящее окно, и написанной вами lambda функцией для вычисления средней взвешенной, применить которую к данным можно с помощью функции  apply(lambda series: np.dot(series,weights, raw=True). Последние наблюдения имеют большие веса, чем первые, в соответствии с заданным правилом. Результат запишите в переменную wma51. Выведите на экран первые 10 наблюдений, воспользовавшись функцией head(). Прокомментируйте результат.**"
      ],
      "metadata": {
        "id": "M9gt83Ldluii"
      }
    },
    {
      "cell_type": "code",
      "source": [
        "# здесь получаем ряд выравнивания с использованием весов(заданных)\n",
        "wma51=series.rolling(5).apply(lambda x: np.dot(x,weights), raw=True)\n",
        "wma51.head(10)"
      ],
      "metadata": {
        "colab": {
          "base_uri": "https://localhost:8080/"
        },
        "id": "OpjKkJyMqaBq",
        "outputId": "a87edf4f-8491-4846-a99c-1037935f888f"
      },
      "execution_count": null,
      "outputs": [
        {
          "output_type": "execute_result",
          "data": {
            "text/plain": [
              "Date\n",
              "2007-01-01          NaN\n",
              "2007-02-01          NaN\n",
              "2007-03-01          NaN\n",
              "2007-04-01          NaN\n",
              "2007-05-01    26.341714\n",
              "2007-06-01    29.172000\n",
              "2007-07-01    28.683143\n",
              "2007-08-01    26.060857\n",
              "2007-09-01    26.831714\n",
              "2007-10-01    29.113143\n",
              "Name: Value, dtype: float64"
            ]
          },
          "metadata": {},
          "execution_count": 68
        }
      ]
    },
    {
      "cell_type": "markdown",
      "source": [
        "**13.\t Найдите простую скользящую среднюю для такой же ширины окна, воспользовавшись сочетанием функций rolling(5).mean(). Результат запишите в переменную sma5.**"
      ],
      "metadata": {
        "id": "dF3OA0NBmKbU"
      }
    },
    {
      "cell_type": "code",
      "source": [
        "sma5=series.rolling(5).mean() # простая скользящая средняя без весов\n",
        "sma5"
      ],
      "metadata": {
        "id": "VvqtAF9rqxLs",
        "colab": {
          "base_uri": "https://localhost:8080/"
        },
        "outputId": "544147a3-2583-402c-da0c-eab3a9539f5b"
      },
      "execution_count": null,
      "outputs": [
        {
          "output_type": "execute_result",
          "data": {
            "text/plain": [
              "Date\n",
              "2007-01-01       NaN\n",
              "2007-02-01       NaN\n",
              "2007-03-01       NaN\n",
              "2007-04-01       NaN\n",
              "2007-05-01    27.056\n",
              "2007-06-01    26.882\n",
              "2007-07-01    27.296\n",
              "2007-08-01    28.218\n",
              "2007-09-01    28.146\n",
              "2007-10-01    28.446\n",
              "2007-11-01    29.050\n",
              "2007-12-01    30.204\n",
              "2008-01-01    29.692\n",
              "2008-02-01    30.556\n",
              "2008-03-01    30.038\n",
              "2008-04-01    31.216\n",
              "2008-05-01    31.314\n",
              "2008-06-01    32.626\n",
              "2008-07-01    31.802\n",
              "2008-08-01    32.446\n",
              "2008-09-01    31.560\n",
              "2008-10-01    31.958\n",
              "2008-11-01    31.360\n",
              "2008-12-01    31.622\n",
              "2009-01-01    32.174\n",
              "2009-02-01    33.816\n",
              "2009-03-01    34.158\n",
              "2009-04-01    34.646\n",
              "2009-05-01    35.610\n",
              "2009-06-01    36.080\n",
              "2009-07-01    35.926\n",
              "2009-08-01    36.666\n",
              "2009-09-01    37.766\n",
              "2009-10-01    37.664\n",
              "2009-11-01    38.362\n",
              "2009-12-01    38.410\n",
              "2010-01-01    37.702\n",
              "2010-02-01    37.736\n",
              "2010-03-01    38.110\n",
              "2010-04-01    38.014\n",
              "2010-05-01    38.352\n",
              "2010-06-01    39.836\n",
              "2010-07-01    40.050\n",
              "2010-08-01    41.146\n",
              "2010-09-01    40.906\n",
              "2010-10-01    42.056\n",
              "2010-11-01    41.854\n",
              "2010-12-01    42.544\n",
              "Name: Value, dtype: float64"
            ]
          },
          "metadata": {},
          "execution_count": 75
        }
      ]
    },
    {
      "cell_type": "markdown",
      "source": [
        "**14.\tПоместите на одну диаграмму линейный график исходных данных (series) и преобразованных на основе простой (sma5) и взвешенной скользящей средней (wma51) для ширины окна 5, воспользовавшись функцией figure(figsize = (12,6)), plot(data, label=label), а также функцией show() из модуля matplotlib.pyplot. Подпишите оси с помощью функций xlabel(\"Date\") и ylabel(\"Price\") из модуля matplotlib.pyplot. Создайте легенду с помощью функции legend() из модуля matplotlib.pyplot. Прокомментируйте результат.**"
      ],
      "metadata": {
        "id": "kpoTozWumWGj"
      }
    },
    {
      "cell_type": "code",
      "source": [
        "plt.figure(figsize = (12,6))\n",
        "\n",
        "plt.plot(series, label='Price')\n",
        "plt.plot(sma5, label='5-Day SMA')\n",
        "plt.plot(wma51, label='5-Day WMA')\n",
        "\n",
        "plt.xlabel(\"Date\")\n",
        "plt.ylabel(\"Price\")\n",
        "\n",
        "plt.legend()\n",
        "plt.show()"
      ],
      "metadata": {
        "colab": {
          "base_uri": "https://localhost:8080/",
          "height": 388
        },
        "id": "FOEQfxeVrnf4",
        "outputId": "68e7e169-a680-4ab9-f623-0c888b194113"
      },
      "execution_count": null,
      "outputs": [
        {
          "output_type": "display_data",
          "data": {
            "text/plain": [
              "<Figure size 864x432 with 1 Axes>"
            ],
            "image/png": "[encoded data removed]"
          },
          "metadata": {
            "needs_background": "light"
          }
        }
      ]
    },
    {
      "cell_type": "markdown",
      "source": [
        "**15.\t Измените веса в формуле взвешенной скользящей средней. Воспользуйтесь весами для сглаживания по полиномам 2-го или 3-го порядка для ширины окна, равной 5: [-3/35,12/35,17/35,12/35,-3/35] . Создайте список весов с помощью функции array из модуля numpy. Результат запишите в переменную weights.**"
      ],
      "metadata": {
        "id": "pFESk-MpnaTg"
      }
    },
    {
      "cell_type": "markdown",
      "source": [
        "Если мы берем **полиномы 2-го или 3-го** порядка, то существует **таблица** для задания ширины окна."
      ],
      "metadata": {
        "id": "F1uqqUC0ngJL"
      }
    },
    {
      "cell_type": "markdown",
      "source": [
        "![Таблица_ВЕСОВ_для_скользящей_средней.jpg](data:image/jpeg;base64,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)"
      ],
      "metadata": {
        "id": "xEyL4wa8vllZ"
      }
    },
    {
      "cell_type": "code",
      "source": [
        "weights=np.array([-3/35,12/35,17/35,12/35,-3/35])\n",
        "weights"
      ],
      "metadata": {
        "colab": {
          "base_uri": "https://localhost:8080/"
        },
        "id": "Wr4J9BTVsYzW",
        "outputId": "4df9253e-d7d2-4ba9-b628-c9144d444f25"
      },
      "execution_count": null,
      "outputs": [
        {
          "output_type": "execute_result",
          "data": {
            "text/plain": [
              "array([-0.08571429,  0.34285714,  0.48571429,  0.34285714, -0.08571429])"
            ]
          },
          "metadata": {},
          "execution_count": 72
        }
      ]
    },
    {
      "cell_type": "markdown",
      "source": [
        "**16.\tВоспользуйтесь приемом, описанным в п. 12, для нахождения взвешенной скользящей средней. Результат запишите в переменную wma52. Выведите на экран первые 10 значений с помощью функции head(). Сравните их с предыдущим результатом. Прокомментируйте результат.**"
      ],
      "metadata": {
        "id": "-Y4GDjIXtqM9"
      }
    },
    {
      "cell_type": "code",
      "source": [
        "wma52=series.rolling(5).apply(lambda x: np.dot(x,weights), raw=True)\n",
        "wma52.head(10)"
      ],
      "metadata": {
        "colab": {
          "base_uri": "https://localhost:8080/"
        },
        "id": "EacGE6nxsunU",
        "outputId": "cc400c2b-d479-4b70-82e9-68047320e245"
      },
      "execution_count": null,
      "outputs": [
        {
          "output_type": "execute_result",
          "data": {
            "text/plain": [
              "Date\n",
              "2007-01-01          NaN\n",
              "2007-02-01          NaN\n",
              "2007-03-01          NaN\n",
              "2007-04-01          NaN\n",
              "2007-05-01    26.341714\n",
              "2007-06-01    29.172000\n",
              "2007-07-01    28.683143\n",
              "2007-08-01    26.060857\n",
              "2007-09-01    26.831714\n",
              "2007-10-01    29.113143\n",
              "Name: Value, dtype: float64"
            ]
          },
          "metadata": {},
          "execution_count": 73
        }
      ]
    },
    {
      "cell_type": "markdown",
      "source": [
        "**17.\t Поместите на одну диаграмму линейный график исходных данных (series) и преобразованных на основе простой (sma5) и двух версий взвешенной скользящей средней для ширины окна 5 (wma51, wma52), воспользовавшись функцией figure(figsize = (12,6)), plot(data, label=label), а также функцией show() из модуля matplotlib.pyplot. Подпишите оси с помощью функций xlabel(\"Date\") и ylabel(\"Price\") из модуля matplotlib.pyplot. Создайте легенду с помощью функции legend() из модуля matplotlib.pyplot. Прокомментируйте результат.**"
      ],
      "metadata": {
        "id": "GU84uO_Rtvd-"
      }
    },
    {
      "cell_type": "code",
      "source": [
        "plt.figure(figsize = (12,6))\n",
        "\n",
        "plt.plot(series, label='Price')\n",
        "plt.plot(wma51, label='5-Day WMA1')\n",
        "plt.plot(wma52, label='5-Day WMA2') # зеленая более подходящая она с каким-то сдвигом более всего угадывает\n",
        "plt.plot(sma5, label='5-Day SMA')   # зеленая более других угадывает амплтьуду, поэтому лучше она\n",
        "\n",
        "plt.xlabel(\"Date\")\n",
        "plt.ylabel(\"Price\")\n",
        "\n",
        "plt.legend()\n",
        "plt.show()"
      ],
      "metadata": {
        "colab": {
          "base_uri": "https://localhost:8080/",
          "height": 388
        },
        "outputId": "45b9fcf0-08a2-4b6d-ee21-f76a272745c1",
        "id": "UvZa8Y5UtN6c"
      },
      "execution_count": null,
      "outputs": [
        {
          "output_type": "display_data",
          "data": {
            "text/plain": [
              "<Figure size 864x432 with 1 Axes>"
            ],
            "image/png": "[encoded data removed]"
          },
          "metadata": {
            "needs_background": "light"
          }
        }
      ]
    },
    {
      "cell_type": "code",
      "source": [
        "X = series.values\n",
        "weights=[-3/35,12/35,17/35,12/35,-3/35]*10\n",
        "window = 5\n",
        "history = [X[i] for i in range(window)]\n",
        "test = [X[i] for i in range(window, len(X))]\n",
        "predictions = list()\n",
        "# walk forward over time steps in test\n",
        "for t in range(len(test)):\n",
        "\tlength = len(history)\n",
        "\tyhat = np.sum([history[i]*weights[i] for i in range(length-window,length)])\n",
        "\tobs = test[t]\n",
        "\tpredictions.append(yhat)\n",
        "\thistory.append(obs)\n",
        "\tprint('predicted=%f, expected=%f' % (yhat, obs))\n",
        "rmse = sqrt(mean_squared_error(test, predictions))\n",
        "print('Test RMSE: %.3f' % rmse)\n",
        "# plot\n",
        "plt.plot(test)\n",
        "#plt.plot(predictions, color='red')\n",
        "plt.show()"
      ],
      "metadata": {
        "colab": {
          "base_uri": "https://localhost:8080/",
          "height": 1000
        },
        "id": "b8W_KIcltz27",
        "outputId": "a35caf21-f896-4d65-8444-1379a7556c5f"
      },
      "execution_count": null,
      "outputs": [
        {
          "output_type": "stream",
          "name": "stdout",
          "text": [
            "predicted=26.341714, expected=25.580000\n",
            "predicted=26.416286, expected=25.960000\n",
            "predicted=27.126000, expected=30.560000\n",
            "predicted=29.365143, expected=29.670000\n",
            "predicted=29.241714, expected=30.460000\n",
            "predicted=29.113143, expected=28.600000\n",
            "predicted=28.854286, expected=31.730000\n",
            "predicted=30.832571, expected=28.000000\n",
            "predicted=29.589143, expected=33.990000\n",
            "predicted=31.070286, expected=27.870000\n",
            "predicted=31.292286, expected=34.490000\n",
            "predicted=30.787429, expected=32.220000\n",
            "predicted=30.955429, expected=34.560000\n",
            "predicted=34.141714, expected=29.870000\n",
            "predicted=32.729143, expected=31.090000\n",
            "predicted=32.453143, expected=30.060000\n",
            "predicted=32.832857, expected=34.210000\n",
            "predicted=33.515143, expected=31.570000\n",
            "predicted=32.062857, expected=31.180000\n",
            "predicted=32.512000, expected=33.850000\n",
            "predicted=32.275429, expected=38.270000\n",
            "predicted=31.571714, expected=35.920000\n",
            "predicted=32.158000, expected=34.010000\n",
            "predicted=33.343143, expected=36.000000\n",
            "predicted=34.995714, expected=36.200000\n",
            "predicted=34.794286, expected=37.500000\n",
            "predicted=34.860286, expected=39.620000\n",
            "predicted=36.128857, expected=39.510000\n",
            "predicted=38.800286, expected=35.490000\n",
            "predicted=38.625429, expected=39.690000\n",
            "predicted=38.326286, expected=37.740000\n",
            "predicted=38.305714, expected=36.080000\n",
            "predicted=37.092000, expected=39.680000\n",
            "predicted=37.174571, expected=37.360000\n",
            "predicted=37.815714, expected=39.210000\n",
            "predicted=37.856857, expected=39.430000\n",
            "predicted=37.712000, expected=43.500000\n",
            "predicted=40.256000, expected=40.750000\n",
            "predicted=40.775714, expected=42.840000\n",
            "predicted=42.654571, expected=38.010000\n",
            "predicted=42.757429, expected=45.180000\n",
            "predicted=42.264571, expected=42.490000\n",
            "predicted=41.918286, expected=44.200000\n",
            "Test RMSE: 2.762\n"
          ]
        },
        {
          "output_type": "display_data",
          "data": {
            "text/plain": [
              "<Figure size 432x288 with 1 Axes>"
            ],
            "image/png": "[encoded data removed]"
          },
          "metadata": {
            "needs_background": "light"
          }
        }
      ]
    },
    {
      "cell_type": "code",
      "source": [],
      "metadata": {
        "id": "JQCRNBHUt1eU"
      },
      "execution_count": null,
      "outputs": []
    }
  ],
  "metadata": {
    "colab": {
      "provenance": []
    },
    "kernelspec": {
      "display_name": "Python 3",
      "name": "python3"
    },
    "language_info": {
      "name": "python"
    }
  },
  "nbformat": 4,
  "nbformat_minor": 0
}