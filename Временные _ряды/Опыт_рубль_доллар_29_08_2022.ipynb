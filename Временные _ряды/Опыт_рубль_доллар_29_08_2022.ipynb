{
  "nbformat": 4,
  "nbformat_minor": 0,
  "metadata": {
    "colab": {
      "provenance": []
    },
    "kernelspec": {
      "name": "python3",
      "display_name": "Python 3"
    },
    "language_info": {
      "name": "python"
    }
  },
  "cells": [
    {
      "cell_type": "markdown",
      "source": [
        "**5,6 Тренд-сезонная модель**"
      ],
      "metadata": {
        "id": "h-HdK5T8z0Q4"
      }
    },
    {
      "cell_type": "code",
      "execution_count": null,
      "metadata": {
        "colab": {
          "base_uri": "https://localhost:8080/"
        },
        "id": "24kE2sE9o6wl",
        "outputId": "a7ffeb96-b287-48ee-b4c5-e7a8e4eef6bc"
      },
      "outputs": [
        {
          "output_type": "stream",
          "name": "stdout",
          "text": [
            "Mounted at /content/gdrive\n"
          ]
        }
      ],
      "source": [
        "from google.colab import drive\n",
        "drive.mount('/content/gdrive')"
      ]
    },
    {
      "cell_type": "code",
      "execution_count": null,
      "metadata": {
        "id": "QfxDXt8_JOgf"
      },
      "outputs": [],
      "source": [
        "import os\n",
        "import pandas as pd\n",
        "import numpy as np\n",
        "from sklearn.metrics import r2_score, mean_absolute_error, mean_squared_error\n",
        "from scipy.stats import linregress\n",
        "from math import sqrt\n",
        "from statsmodels.graphics.gofplots import qqplot\n",
        "import matplotlib.pyplot as plt\n",
        "from statsmodels.stats.stattools import durbin_watson\n",
        "from pandas.plotting import autocorrelation_plot\n",
        "import scipy.stats\n",
        "import seaborn as sns\n",
        "from scipy.stats import t as student\n",
        "from pandas import Grouper\n",
        "from statsmodels.tsa.seasonal import seasonal_decompose"
      ]
    },
    {
      "cell_type": "code",
      "execution_count": null,
      "metadata": {
        "id": "YhaAt-OuJqkW"
      },
      "outputs": [],
      "source": [
        "os.chdir('/content/gdrive/MyDrive/Colab Notebooks/DOM/')"
      ]
    },
    {
      "cell_type": "code",
      "execution_count": null,
      "metadata": {
        "id": "yILggnMwj9RH",
        "colab": {
          "base_uri": "https://localhost:8080/",
          "height": 206
        },
        "outputId": "55fab195-d8b4-4586-ce8e-e33793dca409"
      },
      "outputs": [
        {
          "output_type": "execute_result",
          "data": {
            "text/plain": [
              "          Date    Price     Open     High      Low Change %\n",
              "0  Apr 14 2022  80.9957  79.8675  82.3836  79.8563    1.41%\n",
              "1  Apr 13 2022  79.8675  79.6800  80.2965  79.4078    0.24%\n",
              "2  Apr 12 2022  79.6800  79.0650  80.2549  78.6952    0.78%\n",
              "3  Apr 11 2022  79.0650  76.0800  81.2950  76.0800    3.92%\n",
              "4  Apr 08 2022  76.0800  75.7500  76.2590  71.3993    0.44%"
            ],
            "text/html": [
              "\n",
              "  <div id=\"df-d4e32e99-1150-4c1a-a2d4-b8952a5aeb94\">\n",
              "    <div class=\"colab-df-container\">\n",
              "      <div>\n",
              "<style scoped>\n",
              "    .dataframe tbody tr th:only-of-type {\n",
              "        vertical-align: middle;\n",
              "    }\n",
              "\n",
              "    .dataframe tbody tr th {\n",
              "        vertical-align: top;\n",
              "    }\n",
              "\n",
              "    .dataframe thead th {\n",
              "        text-align: right;\n",
              "    }\n",
              "</style>\n",
              "<table border=\"1\" class=\"dataframe\">\n",
              "  <thead>\n",
              "    <tr style=\"text-align: right;\">\n",
              "      <th></th>\n",
              "      <th>Date</th>\n",
              "      <th>Price</th>\n",
              "      <th>Open</th>\n",
              "      <th>High</th>\n",
              "      <th>Low</th>\n",
              "      <th>Change %</th>\n",
              "    </tr>\n",
              "  </thead>\n",
              "  <tbody>\n",
              "    <tr>\n",
              "      <th>0</th>\n",
              "      <td>Apr 14 2022</td>\n",
              "      <td>80.9957</td>\n",
              "      <td>79.8675</td>\n",
              "      <td>82.3836</td>\n",
              "      <td>79.8563</td>\n",
              "      <td>1.41%</td>\n",
              "    </tr>\n",
              "    <tr>\n",
              "      <th>1</th>\n",
              "      <td>Apr 13 2022</td>\n",
              "      <td>79.8675</td>\n",
              "      <td>79.6800</td>\n",
              "      <td>80.2965</td>\n",
              "      <td>79.4078</td>\n",
              "      <td>0.24%</td>\n",
              "    </tr>\n",
              "    <tr>\n",
              "      <th>2</th>\n",
              "      <td>Apr 12 2022</td>\n",
              "      <td>79.6800</td>\n",
              "      <td>79.0650</td>\n",
              "      <td>80.2549</td>\n",
              "      <td>78.6952</td>\n",
              "      <td>0.78%</td>\n",
              "    </tr>\n",
              "    <tr>\n",
              "      <th>3</th>\n",
              "      <td>Apr 11 2022</td>\n",
              "      <td>79.0650</td>\n",
              "      <td>76.0800</td>\n",
              "      <td>81.2950</td>\n",
              "      <td>76.0800</td>\n",
              "      <td>3.92%</td>\n",
              "    </tr>\n",
              "    <tr>\n",
              "      <th>4</th>\n",
              "      <td>Apr 08 2022</td>\n",
              "      <td>76.0800</td>\n",
              "      <td>75.7500</td>\n",
              "      <td>76.2590</td>\n",
              "      <td>71.3993</td>\n",
              "      <td>0.44%</td>\n",
              "    </tr>\n",
              "  </tbody>\n",
              "</table>\n",
              "</div>\n",
              "      <button class=\"colab-df-convert\" onclick=\"convertToInteractive('df-d4e32e99-1150-4c1a-a2d4-b8952a5aeb94')\"\n",
              "              title=\"Convert this dataframe to an interactive table.\"\n",
              "              style=\"display:none;\">\n",
              "        \n",
              "  <svg xmlns=\"http://www.w3.org/2000/svg\" height=\"24px\"viewBox=\"0 0 24 24\"\n",
              "       width=\"24px\">\n",
              "    <path d=\"M0 0h24v24H0V0z\" fill=\"none\"/>\n",
              "    <path d=\"M18.56 5.44l.94 2.06.94-2.06 2.06-.94-2.06-.94-.94-2.06-.94 2.06-2.06.94zm-11 1L8.5 8.5l.94-2.06 2.06-.94-2.06-.94L8.5 2.5l-.94 2.06-2.06.94zm10 10l.94 2.06.94-2.06 2.06-.94-2.06-.94-.94-2.06-.94 2.06-2.06.94z\"/><path d=\"M17.41 7.96l-1.37-1.37c-.4-.4-.92-.59-1.43-.59-.52 0-1.04.2-1.43.59L10.3 9.45l-7.72 7.72c-.78.78-.78 2.05 0 2.83L4 21.41c.39.39.9.59 1.41.59.51 0 1.02-.2 1.41-.59l7.78-7.78 2.81-2.81c.8-.78.8-2.07 0-2.86zM5.41 20L4 18.59l7.72-7.72 1.47 1.35L5.41 20z\"/>\n",
              "  </svg>\n",
              "      </button>\n",
              "      \n",
              "  <style>\n",
              "    .colab-df-container {\n",
              "      display:flex;\n",
              "      flex-wrap:wrap;\n",
              "      gap: 12px;\n",
              "    }\n",
              "\n",
              "    .colab-df-convert {\n",
              "      background-color: #E8F0FE;\n",
              "      border: none;\n",
              "      border-radius: 50%;\n",
              "      cursor: pointer;\n",
              "      display: none;\n",
              "      fill: #1967D2;\n",
              "      height: 32px;\n",
              "      padding: 0 0 0 0;\n",
              "      width: 32px;\n",
              "    }\n",
              "\n",
              "    .colab-df-convert:hover {\n",
              "      background-color: #E2EBFA;\n",
              "      box-shadow: 0px 1px 2px rgba(60, 64, 67, 0.3), 0px 1px 3px 1px rgba(60, 64, 67, 0.15);\n",
              "      fill: #174EA6;\n",
              "    }\n",
              "\n",
              "    [theme=dark] .colab-df-convert {\n",
              "      background-color: #3B4455;\n",
              "      fill: #D2E3FC;\n",
              "    }\n",
              "\n",
              "    [theme=dark] .colab-df-convert:hover {\n",
              "      background-color: #434B5C;\n",
              "      box-shadow: 0px 1px 3px 1px rgba(0, 0, 0, 0.15);\n",
              "      filter: drop-shadow(0px 1px 2px rgba(0, 0, 0, 0.3));\n",
              "      fill: #FFFFFF;\n",
              "    }\n",
              "  </style>\n",
              "\n",
              "      <script>\n",
              "        const buttonEl =\n",
              "          document.querySelector('#df-d4e32e99-1150-4c1a-a2d4-b8952a5aeb94 button.colab-df-convert');\n",
              "        buttonEl.style.display =\n",
              "          google.colab.kernel.accessAllowed ? 'block' : 'none';\n",
              "\n",
              "        async function convertToInteractive(key) {\n",
              "          const element = document.querySelector('#df-d4e32e99-1150-4c1a-a2d4-b8952a5aeb94');\n",
              "          const dataTable =\n",
              "            await google.colab.kernel.invokeFunction('convertToInteractive',\n",
              "                                                     [key], {});\n",
              "          if (!dataTable) return;\n",
              "\n",
              "          const docLinkHtml = 'Like what you see? Visit the ' +\n",
              "            '<a target=\"_blank\" href=https://colab.research.google.com/notebooks/data_table.ipynb>data table notebook</a>'\n",
              "            + ' to learn more about interactive tables.';\n",
              "          element.innerHTML = '';\n",
              "          dataTable['output_type'] = 'display_data';\n",
              "          await google.colab.output.renderOutput(dataTable, element);\n",
              "          const docLink = document.createElement('div');\n",
              "          docLink.innerHTML = docLinkHtml;\n",
              "          element.appendChild(docLink);\n",
              "        }\n",
              "      </script>\n",
              "    </div>\n",
              "  </div>\n",
              "  "
            ]
          },
          "metadata": {},
          "execution_count": 4
        }
      ],
      "source": [
        "data=pd.read_csv('USD_RUB.csv')\n",
        "data.head()"
      ]
    },
    {
      "cell_type": "code",
      "source": [
        "data.dtypes"
      ],
      "metadata": {
        "id": "TZX4BYGmswQZ"
      },
      "execution_count": null,
      "outputs": []
    },
    {
      "cell_type": "code",
      "source": [
        "data['Date'] = pd.to_datetime(data['Date'])"
      ],
      "metadata": {
        "id": "-alvNob0q8YH"
      },
      "execution_count": null,
      "outputs": []
    },
    {
      "cell_type": "code",
      "source": [
        "data = data.iloc[:,0:2].set_index('Date')"
      ],
      "metadata": {
        "id": "LEPqsT4qrCN0"
      },
      "execution_count": null,
      "outputs": []
    },
    {
      "cell_type": "code",
      "source": [
        "data.head(2)"
      ],
      "metadata": {
        "id": "QXmvXp7Wrmrd"
      },
      "execution_count": null,
      "outputs": []
    },
    {
      "cell_type": "code",
      "source": [
        "series = data.squeeze()\n",
        "series.head(5)"
      ],
      "metadata": {
        "id": "J2rSANaQrmox",
        "colab": {
          "base_uri": "https://localhost:8080/"
        },
        "outputId": "9dd2a553-f9cc-454d-9f79-b9e1d8c39262"
      },
      "execution_count": null,
      "outputs": [
        {
          "output_type": "execute_result",
          "data": {
            "text/plain": [
              "Date\n",
              "2022-04-14    80.9957\n",
              "2022-04-13    79.8675\n",
              "2022-04-12    79.6800\n",
              "2022-04-11    79.0650\n",
              "2022-04-08    76.0800\n",
              "Name: Price, dtype: float64"
            ]
          },
          "metadata": {},
          "execution_count": 8
        }
      ]
    },
    {
      "cell_type": "code",
      "source": [
        "series_month = series.resample('M').mean()"
      ],
      "metadata": {
        "id": "O2GYIry1rmlf"
      },
      "execution_count": null,
      "outputs": []
    },
    {
      "cell_type": "code",
      "source": [
        "series_month.tail()"
      ],
      "metadata": {
        "id": "oUWUQ3RxufH7"
      },
      "execution_count": null,
      "outputs": []
    },
    {
      "cell_type": "code",
      "source": [
        "series_month.plot()"
      ],
      "metadata": {
        "id": "CLjfKB5Hu_BR"
      },
      "execution_count": null,
      "outputs": []
    },
    {
      "cell_type": "code",
      "source": [
        "series_year = series.resample('Y').mean()"
      ],
      "metadata": {
        "id": "4cZIAvw9vtr2"
      },
      "execution_count": null,
      "outputs": []
    },
    {
      "cell_type": "code",
      "source": [
        "series_year.tail()"
      ],
      "metadata": {
        "id": "3WcBZYwCvtr3"
      },
      "execution_count": null,
      "outputs": []
    },
    {
      "cell_type": "code",
      "source": [
        "series_year.plot()"
      ],
      "metadata": {
        "id": "63oiLQRavtr3"
      },
      "execution_count": null,
      "outputs": []
    },
    {
      "cell_type": "code",
      "source": [
        "series_month.shape"
      ],
      "metadata": {
        "id": "twN4x-CQAmCX",
        "colab": {
          "base_uri": "https://localhost:8080/"
        },
        "outputId": "394f5198-c29f-4252-a02c-f63f32883329"
      },
      "execution_count": null,
      "outputs": [
        {
          "output_type": "execute_result",
          "data": {
            "text/plain": [
              "(248,)"
            ]
          },
          "metadata": {},
          "execution_count": 11
        }
      ]
    },
    {
      "cell_type": "code",
      "source": [
        "y = series_month.values\n",
        "y"
      ],
      "metadata": {
        "id": "LsiVaujWAl9T"
      },
      "execution_count": null,
      "outputs": []
    },
    {
      "cell_type": "code",
      "source": [
        "x = np.arange(1,len(y)+1)"
      ],
      "metadata": {
        "id": "djmh_UQhAl5P"
      },
      "execution_count": null,
      "outputs": []
    },
    {
      "cell_type": "code",
      "source": [
        "sns.regplot(x=x,y=y,data=series_month)"
      ],
      "metadata": {
        "id": "HXDjxmPyAl1p",
        "colab": {
          "base_uri": "https://localhost:8080/",
          "height": 282
        },
        "outputId": "e8581071-77cb-41e5-edf0-dcd401b01f34"
      },
      "execution_count": null,
      "outputs": [
        {
          "output_type": "execute_result",
          "data": {
            "text/plain": [
              "<matplotlib.axes._subplots.AxesSubplot at 0x7f5675f17bd0>"
            ]
          },
          "metadata": {},
          "execution_count": 14
        },
        {
          "output_type": "display_data",
          "data": {
            "text/plain": [
              "<Figure size 432x288 with 1 Axes>"
            ],
            "image/png": "[encoded data removed]"
          },
          "metadata": {
            "needs_background": "light"
          }
        }
      ]
    },
    {
      "cell_type": "code",
      "source": [
        "autocorrelation_plot(y)\n",
        "plt.show()"
      ],
      "metadata": {
        "id": "IvkikgCZAlt3",
        "colab": {
          "base_uri": "https://localhost:8080/",
          "height": 283
        },
        "outputId": "ef60ab28-3d49-4f51-a666-da326bf8bd16"
      },
      "execution_count": null,
      "outputs": [
        {
          "output_type": "display_data",
          "data": {
            "text/plain": [
              "<Figure size 432x288 with 1 Axes>"
            ],
            "image/png": "[encoded data removed]"
          },
          "metadata": {
            "needs_background": "light"
          }
        }
      ]
    },
    {
      "cell_type": "code",
      "source": [
        "fig, ax = plt.subplots(figsize = (18, 6)) # лаг сезонности похоже = 12\n",
        "\n",
        "autocorrelation_plot(y, ax = ax, marker = '.')\n",
        "ax.xaxis.set_major_locator(plt.MultipleLocator(6))\n",
        "ax.set_xlim(0, 248)\n",
        "\n",
        "plt.show()"
      ],
      "metadata": {
        "colab": {
          "base_uri": "https://localhost:8080/",
          "height": 388
        },
        "id": "Ulz3a3KL5cQm",
        "outputId": "985191c0-0276-4d75-a748-ab2c1d57c804"
      },
      "execution_count": null,
      "outputs": [
        {
          "output_type": "display_data",
          "data": {
            "text/plain": [
              "<Figure size 1296x432 with 1 Axes>"
            ],
            "image/png": "[encoded data removed]"
          },
          "metadata": {
            "needs_background": "light"
          }
        }
      ]
    },
    {
      "cell_type": "code",
      "source": [
        "series_month = series_month[4:]"
      ],
      "metadata": {
        "id": "ySC1yfh8R_Mq"
      },
      "execution_count": null,
      "outputs": []
    },
    {
      "cell_type": "code",
      "source": [
        "train_size=180"
      ],
      "metadata": {
        "id": "rRH7yUa-lG8O"
      },
      "execution_count": null,
      "outputs": []
    },
    {
      "cell_type": "code",
      "source": [
        "y_train, y_test = y[0:train_size], y[train_size:len(y)-8]"
      ],
      "metadata": {
        "id": "x016Xhrylcyo"
      },
      "execution_count": null,
      "outputs": []
    },
    {
      "cell_type": "code",
      "source": [
        "len(y_train)"
      ],
      "metadata": {
        "colab": {
          "base_uri": "https://localhost:8080/"
        },
        "id": "2OEcfS7ilvUs",
        "outputId": "f35f0358-9f44-46f8-b866-5f9403654e66"
      },
      "execution_count": null,
      "outputs": [
        {
          "output_type": "execute_result",
          "data": {
            "text/plain": [
              "180"
            ]
          },
          "metadata": {},
          "execution_count": 132
        }
      ]
    },
    {
      "cell_type": "code",
      "source": [
        "len(y_test)"
      ],
      "metadata": {
        "colab": {
          "base_uri": "https://localhost:8080/"
        },
        "id": "kSWUQHu9lzLD",
        "outputId": "34f10e57-3a98-47be-e695-c54e663ada8e"
      },
      "execution_count": null,
      "outputs": [
        {
          "output_type": "execute_result",
          "data": {
            "text/plain": [
              "60"
            ]
          },
          "metadata": {},
          "execution_count": 96
        }
      ]
    },
    {
      "cell_type": "code",
      "source": [
        "series_train = series_month[0:train_size]\n",
        "series_train.head()"
      ],
      "metadata": {
        "id": "Np9plNUl5cLF"
      },
      "execution_count": null,
      "outputs": []
    },
    {
      "cell_type": "markdown",
      "source": [
        "**1. Сглаживаем ряд (окно = 12 (месяцы))**"
      ],
      "metadata": {
        "id": "G8EIPUfk-TrY"
      }
    },
    {
      "cell_type": "code",
      "source": [
        "rolling_mean=series_train.rolling(window=12).mean() # окно=12, т.к. лаг сезонности = 12\n",
        "rolling_mean.head(20)"
      ],
      "metadata": {
        "id": "YKYy9M5l5cID"
      },
      "execution_count": null,
      "outputs": []
    },
    {
      "cell_type": "code",
      "source": [
        "series_month.plot()\n",
        "rolling_mean.plot(color='red') # первых нет потому что окно =12, выпадают, а последних нет, т.к. они ушли в тестовый набор\n",
        "plt.show()"
      ],
      "metadata": {
        "id": "tHu_TweP5cEp",
        "colab": {
          "base_uri": "https://localhost:8080/",
          "height": 279
        },
        "outputId": "2754a666-3845-4576-d4ef-7f8812b8ce5e"
      },
      "execution_count": null,
      "outputs": [
        {
          "output_type": "display_data",
          "data": {
            "text/plain": [
              "<Figure size 432x288 with 1 Axes>"
            ],
            "image/png": "[encoded data removed]"
          },
          "metadata": {
            "needs_background": "light"
          }
        }
      ]
    },
    {
      "cell_type": "markdown",
      "source": [
        "**2. Удаляем тренд и получаем сезонност + случайность**"
      ],
      "metadata": {
        "id": "Yn4ow15sAIA2"
      }
    },
    {
      "cell_type": "code",
      "source": [
        "X=y_train-rolling_mean # СОДЕРЖИТ СЕЗОННОСТЬ И СЛУЧАЙНОСТЬ\n",
        "X.head(20)"
      ],
      "metadata": {
        "id": "rPMxAB3R5b-1"
      },
      "execution_count": null,
      "outputs": []
    },
    {
      "cell_type": "code",
      "source": [
        "series_month.plot()\n",
        "X.plot(color='red') # первых нет потому что окно =12, выпадают, а последних нет, т.к. они ушли в тестовый набор\n",
        "plt.show()"
      ],
      "metadata": {
        "id": "QmPgmg2iSlzA"
      },
      "execution_count": null,
      "outputs": []
    },
    {
      "cell_type": "markdown",
      "source": [
        "**3. ЧИСТИМ ОТ СЛУЧАЙНЫХ ЗНАЧЕНИЙ, очищаем сезонную составляющую**"
      ],
      "metadata": {
        "id": "eAZyjolrAwSn"
      }
    },
    {
      "cell_type": "code",
      "source": [
        "groups=X.groupby(Grouper(freq='A'))\n",
        "groups.mean()"
      ],
      "metadata": {
        "id": "Y5ABN6pL5b7q"
      },
      "execution_count": null,
      "outputs": []
    },
    {
      "cell_type": "code",
      "source": [
        "years=pd.DataFrame()"
      ],
      "metadata": {
        "id": "4zJ1zi-A5b4d"
      },
      "execution_count": null,
      "outputs": []
    },
    {
      "cell_type": "code",
      "source": [
        "for name, group in groups:\n",
        "#  print(name.year)\n",
        "#  print(group.values)\n",
        "  years[name.year]=group.values"
      ],
      "metadata": {
        "id": "CaRtL5ZVot7j"
      },
      "execution_count": null,
      "outputs": []
    },
    {
      "cell_type": "code",
      "source": [
        "years"
      ],
      "metadata": {
        "colab": {
          "base_uri": "https://localhost:8080/",
          "height": 426
        },
        "id": "236Zq-swVLtl",
        "outputId": "2fc4d99c-428c-4f11-ef78-7710bac03d17"
      },
      "execution_count": null,
      "outputs": [
        {
          "output_type": "execute_result",
          "data": {
            "text/plain": [
              "        2002      2003      2004      2005      2006      2007      2008  \\\n",
              "0        NaN  0.164704  0.164004  0.487474  0.055475 -0.271041 -0.108297   \n",
              "1        NaN  0.157078 -0.040104  0.366418  0.213508 -0.007202 -0.367609   \n",
              "2        NaN  0.245973 -0.128825 -0.046001  0.415546 -0.129711 -0.590680   \n",
              "3        NaN  0.266548 -0.304204 -0.637277  0.457854 -0.279348 -0.279425   \n",
              "4        NaN  0.284075 -0.734428 -0.488059  0.079967  0.010128 -0.206219   \n",
              "5        NaN  0.184896 -0.931220 -0.447831  0.059308 -0.080345 -0.000747   \n",
              "6        NaN  0.065629 -0.798836 -0.732357 -0.128980 -0.168083 -0.597493   \n",
              "7        NaN -0.080437 -0.517571 -0.509958 -0.300622 -0.348480 -0.673722   \n",
              "8        NaN -0.271995 -0.130205 -0.289455 -0.666055 -0.229164 -0.482956   \n",
              "9        NaN -0.583383  0.000602  0.318294 -0.577180  0.017933 -0.702016   \n",
              "10       NaN -0.530440  0.150198  0.476346 -0.483759 -0.181201 -1.222134   \n",
              "11  0.198238 -0.321173  0.419891  0.180158 -0.422665  0.060919 -0.638795   \n",
              "\n",
              "        2009      2010      2011      2012      2013      2014       2015  \\\n",
              "0  -0.155385 -0.405789  0.407786  1.264442  0.412565  0.392719  -3.072601   \n",
              "1   0.055489 -1.722145 -0.004835  1.699363  0.138881 -0.517284  -2.536276   \n",
              "2   0.004858 -1.820612  0.779138  1.245092  0.229116 -0.267425   0.896384   \n",
              "3   0.066423 -0.357863  0.679051  1.806100 -0.567755 -0.524167   9.471456   \n",
              "4   2.901301 -0.371307  0.177793  1.318588 -1.090724  0.101161  16.006719   \n",
              "5   6.343577 -0.161666 -0.380794 -0.631914 -1.058628  1.473241  14.167369   \n",
              "6   4.439775 -0.655557 -0.987733 -1.432810 -0.473233  2.112608   8.303948   \n",
              "7   2.737469 -0.922458 -1.238373 -1.568395 -0.058951  1.404676  -1.483204   \n",
              "8   0.610381  0.459895 -1.339848 -0.134403 -0.131961  0.115127  -6.079147   \n",
              "9  -0.481643  1.128230 -1.396288  1.716938  0.785556 -1.094395  -3.931373   \n",
              "10 -0.145679  0.293861 -1.448968  1.346855  1.086614 -1.874181  -2.560399   \n",
              "11  0.062154  0.009541 -0.579103  0.887800  1.166935 -2.398532   4.412380   \n",
              "\n",
              "         2016  \n",
              "0    4.493659  \n",
              "1   -0.254702  \n",
              "2    0.837012  \n",
              "3    4.872555  \n",
              "4   10.332526  \n",
              "5    9.740637  \n",
              "6    1.737538  \n",
              "7   -1.519032  \n",
              "8   -1.878435  \n",
              "9   -2.758822  \n",
              "10  -3.282070  \n",
              "11  -2.072487  "
            ],
            "text/html": [
              "\n",
              "  <div id=\"df-885c4a8d-85b2-41ef-9364-696a3ac2dbd1\">\n",
              "    <div class=\"colab-df-container\">\n",
              "      <div>\n",
              "<style scoped>\n",
              "    .dataframe tbody tr th:only-of-type {\n",
              "        vertical-align: middle;\n",
              "    }\n",
              "\n",
              "    .dataframe tbody tr th {\n",
              "        vertical-align: top;\n",
              "    }\n",
              "\n",
              "    .dataframe thead th {\n",
              "        text-align: right;\n",
              "    }\n",
              "</style>\n",
              "<table border=\"1\" class=\"dataframe\">\n",
              "  <thead>\n",
              "    <tr style=\"text-align: right;\">\n",
              "      <th></th>\n",
              "      <th>2002</th>\n",
              "      <th>2003</th>\n",
              "      <th>2004</th>\n",
              "      <th>2005</th>\n",
              "      <th>2006</th>\n",
              "      <th>2007</th>\n",
              "      <th>2008</th>\n",
              "      <th>2009</th>\n",
              "      <th>2010</th>\n",
              "      <th>2011</th>\n",
              "      <th>2012</th>\n",
              "      <th>2013</th>\n",
              "      <th>2014</th>\n",
              "      <th>2015</th>\n",
              "      <th>2016</th>\n",
              "    </tr>\n",
              "  </thead>\n",
              "  <tbody>\n",
              "    <tr>\n",
              "      <th>0</th>\n",
              "      <td>NaN</td>\n",
              "      <td>0.164704</td>\n",
              "      <td>0.164004</td>\n",
              "      <td>0.487474</td>\n",
              "      <td>0.055475</td>\n",
              "      <td>-0.271041</td>\n",
              "      <td>-0.108297</td>\n",
              "      <td>-0.155385</td>\n",
              "      <td>-0.405789</td>\n",
              "      <td>0.407786</td>\n",
              "      <td>1.264442</td>\n",
              "      <td>0.412565</td>\n",
              "      <td>0.392719</td>\n",
              "      <td>-3.072601</td>\n",
              "      <td>4.493659</td>\n",
              "    </tr>\n",
              "    <tr>\n",
              "      <th>1</th>\n",
              "      <td>NaN</td>\n",
              "      <td>0.157078</td>\n",
              "      <td>-0.040104</td>\n",
              "      <td>0.366418</td>\n",
              "      <td>0.213508</td>\n",
              "      <td>-0.007202</td>\n",
              "      <td>-0.367609</td>\n",
              "      <td>0.055489</td>\n",
              "      <td>-1.722145</td>\n",
              "      <td>-0.004835</td>\n",
              "      <td>1.699363</td>\n",
              "      <td>0.138881</td>\n",
              "      <td>-0.517284</td>\n",
              "      <td>-2.536276</td>\n",
              "      <td>-0.254702</td>\n",
              "    </tr>\n",
              "    <tr>\n",
              "      <th>2</th>\n",
              "      <td>NaN</td>\n",
              "      <td>0.245973</td>\n",
              "      <td>-0.128825</td>\n",
              "      <td>-0.046001</td>\n",
              "      <td>0.415546</td>\n",
              "      <td>-0.129711</td>\n",
              "      <td>-0.590680</td>\n",
              "      <td>0.004858</td>\n",
              "      <td>-1.820612</td>\n",
              "      <td>0.779138</td>\n",
              "      <td>1.245092</td>\n",
              "      <td>0.229116</td>\n",
              "      <td>-0.267425</td>\n",
              "      <td>0.896384</td>\n",
              "      <td>0.837012</td>\n",
              "    </tr>\n",
              "    <tr>\n",
              "      <th>3</th>\n",
              "      <td>NaN</td>\n",
              "      <td>0.266548</td>\n",
              "      <td>-0.304204</td>\n",
              "      <td>-0.637277</td>\n",
              "      <td>0.457854</td>\n",
              "      <td>-0.279348</td>\n",
              "      <td>-0.279425</td>\n",
              "      <td>0.066423</td>\n",
              "      <td>-0.357863</td>\n",
              "      <td>0.679051</td>\n",
              "      <td>1.806100</td>\n",
              "      <td>-0.567755</td>\n",
              "      <td>-0.524167</td>\n",
              "      <td>9.471456</td>\n",
              "      <td>4.872555</td>\n",
              "    </tr>\n",
              "    <tr>\n",
              "      <th>4</th>\n",
              "      <td>NaN</td>\n",
              "      <td>0.284075</td>\n",
              "      <td>-0.734428</td>\n",
              "      <td>-0.488059</td>\n",
              "      <td>0.079967</td>\n",
              "      <td>0.010128</td>\n",
              "      <td>-0.206219</td>\n",
              "      <td>2.901301</td>\n",
              "      <td>-0.371307</td>\n",
              "      <td>0.177793</td>\n",
              "      <td>1.318588</td>\n",
              "      <td>-1.090724</td>\n",
              "      <td>0.101161</td>\n",
              "      <td>16.006719</td>\n",
              "      <td>10.332526</td>\n",
              "    </tr>\n",
              "    <tr>\n",
              "      <th>5</th>\n",
              "      <td>NaN</td>\n",
              "      <td>0.184896</td>\n",
              "      <td>-0.931220</td>\n",
              "      <td>-0.447831</td>\n",
              "      <td>0.059308</td>\n",
              "      <td>-0.080345</td>\n",
              "      <td>-0.000747</td>\n",
              "      <td>6.343577</td>\n",
              "      <td>-0.161666</td>\n",
              "      <td>-0.380794</td>\n",
              "      <td>-0.631914</td>\n",
              "      <td>-1.058628</td>\n",
              "      <td>1.473241</td>\n",
              "      <td>14.167369</td>\n",
              "      <td>9.740637</td>\n",
              "    </tr>\n",
              "    <tr>\n",
              "      <th>6</th>\n",
              "      <td>NaN</td>\n",
              "      <td>0.065629</td>\n",
              "      <td>-0.798836</td>\n",
              "      <td>-0.732357</td>\n",
              "      <td>-0.128980</td>\n",
              "      <td>-0.168083</td>\n",
              "      <td>-0.597493</td>\n",
              "      <td>4.439775</td>\n",
              "      <td>-0.655557</td>\n",
              "      <td>-0.987733</td>\n",
              "      <td>-1.432810</td>\n",
              "      <td>-0.473233</td>\n",
              "      <td>2.112608</td>\n",
              "      <td>8.303948</td>\n",
              "      <td>1.737538</td>\n",
              "    </tr>\n",
              "    <tr>\n",
              "      <th>7</th>\n",
              "      <td>NaN</td>\n",
              "      <td>-0.080437</td>\n",
              "      <td>-0.517571</td>\n",
              "      <td>-0.509958</td>\n",
              "      <td>-0.300622</td>\n",
              "      <td>-0.348480</td>\n",
              "      <td>-0.673722</td>\n",
              "      <td>2.737469</td>\n",
              "      <td>-0.922458</td>\n",
              "      <td>-1.238373</td>\n",
              "      <td>-1.568395</td>\n",
              "      <td>-0.058951</td>\n",
              "      <td>1.404676</td>\n",
              "      <td>-1.483204</td>\n",
              "      <td>-1.519032</td>\n",
              "    </tr>\n",
              "    <tr>\n",
              "      <th>8</th>\n",
              "      <td>NaN</td>\n",
              "      <td>-0.271995</td>\n",
              "      <td>-0.130205</td>\n",
              "      <td>-0.289455</td>\n",
              "      <td>-0.666055</td>\n",
              "      <td>-0.229164</td>\n",
              "      <td>-0.482956</td>\n",
              "      <td>0.610381</td>\n",
              "      <td>0.459895</td>\n",
              "      <td>-1.339848</td>\n",
              "      <td>-0.134403</td>\n",
              "      <td>-0.131961</td>\n",
              "      <td>0.115127</td>\n",
              "      <td>-6.079147</td>\n",
              "      <td>-1.878435</td>\n",
              "    </tr>\n",
              "    <tr>\n",
              "      <th>9</th>\n",
              "      <td>NaN</td>\n",
              "      <td>-0.583383</td>\n",
              "      <td>0.000602</td>\n",
              "      <td>0.318294</td>\n",
              "      <td>-0.577180</td>\n",
              "      <td>0.017933</td>\n",
              "      <td>-0.702016</td>\n",
              "      <td>-0.481643</td>\n",
              "      <td>1.128230</td>\n",
              "      <td>-1.396288</td>\n",
              "      <td>1.716938</td>\n",
              "      <td>0.785556</td>\n",
              "      <td>-1.094395</td>\n",
              "      <td>-3.931373</td>\n",
              "      <td>-2.758822</td>\n",
              "    </tr>\n",
              "    <tr>\n",
              "      <th>10</th>\n",
              "      <td>NaN</td>\n",
              "      <td>-0.530440</td>\n",
              "      <td>0.150198</td>\n",
              "      <td>0.476346</td>\n",
              "      <td>-0.483759</td>\n",
              "      <td>-0.181201</td>\n",
              "      <td>-1.222134</td>\n",
              "      <td>-0.145679</td>\n",
              "      <td>0.293861</td>\n",
              "      <td>-1.448968</td>\n",
              "      <td>1.346855</td>\n",
              "      <td>1.086614</td>\n",
              "      <td>-1.874181</td>\n",
              "      <td>-2.560399</td>\n",
              "      <td>-3.282070</td>\n",
              "    </tr>\n",
              "    <tr>\n",
              "      <th>11</th>\n",
              "      <td>0.198238</td>\n",
              "      <td>-0.321173</td>\n",
              "      <td>0.419891</td>\n",
              "      <td>0.180158</td>\n",
              "      <td>-0.422665</td>\n",
              "      <td>0.060919</td>\n",
              "      <td>-0.638795</td>\n",
              "      <td>0.062154</td>\n",
              "      <td>0.009541</td>\n",
              "      <td>-0.579103</td>\n",
              "      <td>0.887800</td>\n",
              "      <td>1.166935</td>\n",
              "      <td>-2.398532</td>\n",
              "      <td>4.412380</td>\n",
              "      <td>-2.072487</td>\n",
              "    </tr>\n",
              "  </tbody>\n",
              "</table>\n",
              "</div>\n",
              "      <button class=\"colab-df-convert\" onclick=\"convertToInteractive('df-885c4a8d-85b2-41ef-9364-696a3ac2dbd1')\"\n",
              "              title=\"Convert this dataframe to an interactive table.\"\n",
              "              style=\"display:none;\">\n",
              "        \n",
              "  <svg xmlns=\"http://www.w3.org/2000/svg\" height=\"24px\"viewBox=\"0 0 24 24\"\n",
              "       width=\"24px\">\n",
              "    <path d=\"M0 0h24v24H0V0z\" fill=\"none\"/>\n",
              "    <path d=\"M18.56 5.44l.94 2.06.94-2.06 2.06-.94-2.06-.94-.94-2.06-.94 2.06-2.06.94zm-11 1L8.5 8.5l.94-2.06 2.06-.94-2.06-.94L8.5 2.5l-.94 2.06-2.06.94zm10 10l.94 2.06.94-2.06 2.06-.94-2.06-.94-.94-2.06-.94 2.06-2.06.94z\"/><path d=\"M17.41 7.96l-1.37-1.37c-.4-.4-.92-.59-1.43-.59-.52 0-1.04.2-1.43.59L10.3 9.45l-7.72 7.72c-.78.78-.78 2.05 0 2.83L4 21.41c.39.39.9.59 1.41.59.51 0 1.02-.2 1.41-.59l7.78-7.78 2.81-2.81c.8-.78.8-2.07 0-2.86zM5.41 20L4 18.59l7.72-7.72 1.47 1.35L5.41 20z\"/>\n",
              "  </svg>\n",
              "      </button>\n",
              "      \n",
              "  <style>\n",
              "    .colab-df-container {\n",
              "      display:flex;\n",
              "      flex-wrap:wrap;\n",
              "      gap: 12px;\n",
              "    }\n",
              "\n",
              "    .colab-df-convert {\n",
              "      background-color: #E8F0FE;\n",
              "      border: none;\n",
              "      border-radius: 50%;\n",
              "      cursor: pointer;\n",
              "      display: none;\n",
              "      fill: #1967D2;\n",
              "      height: 32px;\n",
              "      padding: 0 0 0 0;\n",
              "      width: 32px;\n",
              "    }\n",
              "\n",
              "    .colab-df-convert:hover {\n",
              "      background-color: #E2EBFA;\n",
              "      box-shadow: 0px 1px 2px rgba(60, 64, 67, 0.3), 0px 1px 3px 1px rgba(60, 64, 67, 0.15);\n",
              "      fill: #174EA6;\n",
              "    }\n",
              "\n",
              "    [theme=dark] .colab-df-convert {\n",
              "      background-color: #3B4455;\n",
              "      fill: #D2E3FC;\n",
              "    }\n",
              "\n",
              "    [theme=dark] .colab-df-convert:hover {\n",
              "      background-color: #434B5C;\n",
              "      box-shadow: 0px 1px 3px 1px rgba(0, 0, 0, 0.15);\n",
              "      filter: drop-shadow(0px 1px 2px rgba(0, 0, 0, 0.3));\n",
              "      fill: #FFFFFF;\n",
              "    }\n",
              "  </style>\n",
              "\n",
              "      <script>\n",
              "        const buttonEl =\n",
              "          document.querySelector('#df-885c4a8d-85b2-41ef-9364-696a3ac2dbd1 button.colab-df-convert');\n",
              "        buttonEl.style.display =\n",
              "          google.colab.kernel.accessAllowed ? 'block' : 'none';\n",
              "\n",
              "        async function convertToInteractive(key) {\n",
              "          const element = document.querySelector('#df-885c4a8d-85b2-41ef-9364-696a3ac2dbd1');\n",
              "          const dataTable =\n",
              "            await google.colab.kernel.invokeFunction('convertToInteractive',\n",
              "                                                     [key], {});\n",
              "          if (!dataTable) return;\n",
              "\n",
              "          const docLinkHtml = 'Like what you see? Visit the ' +\n",
              "            '<a target=\"_blank\" href=https://colab.research.google.com/notebooks/data_table.ipynb>data table notebook</a>'\n",
              "            + ' to learn more about interactive tables.';\n",
              "          element.innerHTML = '';\n",
              "          dataTable['output_type'] = 'display_data';\n",
              "          await google.colab.output.renderOutput(dataTable, element);\n",
              "          const docLink = document.createElement('div');\n",
              "          docLink.innerHTML = docLinkHtml;\n",
              "          element.appendChild(docLink);\n",
              "        }\n",
              "      </script>\n",
              "    </div>\n",
              "  </div>\n",
              "  "
            ]
          },
          "metadata": {},
          "execution_count": 117
        }
      ]
    },
    {
      "cell_type": "markdown",
      "source": [
        "--------------------------------------------------------------------------------\n",
        "**таблица для y_test(проверка_чтобы_в_году_было_по_12_месяцев)**"
      ],
      "metadata": {
        "id": "foIrPRkNmwm1"
      }
    },
    {
      "cell_type": "code",
      "source": [
        "dfg = series_month[train_size:len(y)-8]"
      ],
      "metadata": {
        "id": "qRhUzmKTocYk"
      },
      "execution_count": null,
      "outputs": []
    },
    {
      "cell_type": "code",
      "source": [
        "dfg"
      ],
      "metadata": {
        "id": "958umbpereNi"
      },
      "execution_count": null,
      "outputs": []
    },
    {
      "cell_type": "code",
      "source": [
        "groups_test=dfg.groupby(Grouper(freq='A'))\n",
        "groups_test.mean()"
      ],
      "metadata": {
        "colab": {
          "base_uri": "https://localhost:8080/"
        },
        "id": "M_m1-iEVnEmz",
        "outputId": "817d58db-7934-4b0b-a37e-51ccd4849791"
      },
      "execution_count": null,
      "outputs": [
        {
          "output_type": "execute_result",
          "data": {
            "text/plain": [
              "Date\n",
              "2017-12-31    58.310673\n",
              "2018-12-31    62.789153\n",
              "2019-12-31    64.675954\n",
              "2020-12-31    72.288089\n",
              "2021-12-31    73.700482\n",
              "Freq: A-DEC, Name: Price, dtype: float64"
            ]
          },
          "metadata": {},
          "execution_count": 109
        }
      ]
    },
    {
      "cell_type": "code",
      "source": [
        "years=pd.DataFrame()"
      ],
      "metadata": {
        "id": "mn-eCSDHnEm4"
      },
      "execution_count": null,
      "outputs": []
    },
    {
      "cell_type": "code",
      "source": [
        "for name, group in groups_test:\n",
        "#  print(name.year)\n",
        "#  print(group.values)\n",
        "  years[name.year]=group.values"
      ],
      "metadata": {
        "id": "qBsxfLipnEm4"
      },
      "execution_count": null,
      "outputs": []
    },
    {
      "cell_type": "code",
      "source": [
        "years"
      ],
      "metadata": {
        "colab": {
          "base_uri": "https://localhost:8080/",
          "height": 426
        },
        "id": "mhOr4iuypH-O",
        "outputId": "32b2af3f-01d0-4979-db0f-388b23ef89e7"
      },
      "execution_count": null,
      "outputs": [
        {
          "output_type": "execute_result",
          "data": {
            "text/plain": [
              "         2017       2018       2019       2020       2021\n",
              "0   59.825852  56.559295  66.543795  61.956055  74.398379\n",
              "1   58.411747  56.871011  65.851305  64.102300  74.393690\n",
              "2   57.790468  57.129590  65.100775  74.614948  74.533941\n",
              "3   56.499175  60.926277  64.550555  75.016773  76.062345\n",
              "4   56.967400  62.254862  64.912019  72.546879  73.895960\n",
              "5   58.134624  62.796367  64.052647  69.298860  72.600886\n",
              "6   59.669338  62.820277  63.244409  71.591795  73.969391\n",
              "7   59.442370  66.481791  65.837477  73.800143  73.586986\n",
              "8   57.677767  67.630110  64.931605  76.088477  72.884777\n",
              "9   57.745205  65.862413  64.325348  77.633136  71.295476\n",
              "10  58.997300  66.558952  63.889615  76.746795  72.938305\n",
              "11  58.566829  67.578890  62.871900  74.060909  73.845641"
            ],
            "text/html": [
              "\n",
              "  <div id=\"df-7f999053-9bb2-48c5-a1a7-e36b0a8253a8\">\n",
              "    <div class=\"colab-df-container\">\n",
              "      <div>\n",
              "<style scoped>\n",
              "    .dataframe tbody tr th:only-of-type {\n",
              "        vertical-align: middle;\n",
              "    }\n",
              "\n",
              "    .dataframe tbody tr th {\n",
              "        vertical-align: top;\n",
              "    }\n",
              "\n",
              "    .dataframe thead th {\n",
              "        text-align: right;\n",
              "    }\n",
              "</style>\n",
              "<table border=\"1\" class=\"dataframe\">\n",
              "  <thead>\n",
              "    <tr style=\"text-align: right;\">\n",
              "      <th></th>\n",
              "      <th>2017</th>\n",
              "      <th>2018</th>\n",
              "      <th>2019</th>\n",
              "      <th>2020</th>\n",
              "      <th>2021</th>\n",
              "    </tr>\n",
              "  </thead>\n",
              "  <tbody>\n",
              "    <tr>\n",
              "      <th>0</th>\n",
              "      <td>59.825852</td>\n",
              "      <td>56.559295</td>\n",
              "      <td>66.543795</td>\n",
              "      <td>61.956055</td>\n",
              "      <td>74.398379</td>\n",
              "    </tr>\n",
              "    <tr>\n",
              "      <th>1</th>\n",
              "      <td>58.411747</td>\n",
              "      <td>56.871011</td>\n",
              "      <td>65.851305</td>\n",
              "      <td>64.102300</td>\n",
              "      <td>74.393690</td>\n",
              "    </tr>\n",
              "    <tr>\n",
              "      <th>2</th>\n",
              "      <td>57.790468</td>\n",
              "      <td>57.129590</td>\n",
              "      <td>65.100775</td>\n",
              "      <td>74.614948</td>\n",
              "      <td>74.533941</td>\n",
              "    </tr>\n",
              "    <tr>\n",
              "      <th>3</th>\n",
              "      <td>56.499175</td>\n",
              "      <td>60.926277</td>\n",
              "      <td>64.550555</td>\n",
              "      <td>75.016773</td>\n",
              "      <td>76.062345</td>\n",
              "    </tr>\n",
              "    <tr>\n",
              "      <th>4</th>\n",
              "      <td>56.967400</td>\n",
              "      <td>62.254862</td>\n",
              "      <td>64.912019</td>\n",
              "      <td>72.546879</td>\n",
              "      <td>73.895960</td>\n",
              "    </tr>\n",
              "    <tr>\n",
              "      <th>5</th>\n",
              "      <td>58.134624</td>\n",
              "      <td>62.796367</td>\n",
              "      <td>64.052647</td>\n",
              "      <td>69.298860</td>\n",
              "      <td>72.600886</td>\n",
              "    </tr>\n",
              "    <tr>\n",
              "      <th>6</th>\n",
              "      <td>59.669338</td>\n",
              "      <td>62.820277</td>\n",
              "      <td>63.244409</td>\n",
              "      <td>71.591795</td>\n",
              "      <td>73.969391</td>\n",
              "    </tr>\n",
              "    <tr>\n",
              "      <th>7</th>\n",
              "      <td>59.442370</td>\n",
              "      <td>66.481791</td>\n",
              "      <td>65.837477</td>\n",
              "      <td>73.800143</td>\n",
              "      <td>73.586986</td>\n",
              "    </tr>\n",
              "    <tr>\n",
              "      <th>8</th>\n",
              "      <td>57.677767</td>\n",
              "      <td>67.630110</td>\n",
              "      <td>64.931605</td>\n",
              "      <td>76.088477</td>\n",
              "      <td>72.884777</td>\n",
              "    </tr>\n",
              "    <tr>\n",
              "      <th>9</th>\n",
              "      <td>57.745205</td>\n",
              "      <td>65.862413</td>\n",
              "      <td>64.325348</td>\n",
              "      <td>77.633136</td>\n",
              "      <td>71.295476</td>\n",
              "    </tr>\n",
              "    <tr>\n",
              "      <th>10</th>\n",
              "      <td>58.997300</td>\n",
              "      <td>66.558952</td>\n",
              "      <td>63.889615</td>\n",
              "      <td>76.746795</td>\n",
              "      <td>72.938305</td>\n",
              "    </tr>\n",
              "    <tr>\n",
              "      <th>11</th>\n",
              "      <td>58.566829</td>\n",
              "      <td>67.578890</td>\n",
              "      <td>62.871900</td>\n",
              "      <td>74.060909</td>\n",
              "      <td>73.845641</td>\n",
              "    </tr>\n",
              "  </tbody>\n",
              "</table>\n",
              "</div>\n",
              "      <button class=\"colab-df-convert\" onclick=\"convertToInteractive('df-7f999053-9bb2-48c5-a1a7-e36b0a8253a8')\"\n",
              "              title=\"Convert this dataframe to an interactive table.\"\n",
              "              style=\"display:none;\">\n",
              "        \n",
              "  <svg xmlns=\"http://www.w3.org/2000/svg\" height=\"24px\"viewBox=\"0 0 24 24\"\n",
              "       width=\"24px\">\n",
              "    <path d=\"M0 0h24v24H0V0z\" fill=\"none\"/>\n",
              "    <path d=\"M18.56 5.44l.94 2.06.94-2.06 2.06-.94-2.06-.94-.94-2.06-.94 2.06-2.06.94zm-11 1L8.5 8.5l.94-2.06 2.06-.94-2.06-.94L8.5 2.5l-.94 2.06-2.06.94zm10 10l.94 2.06.94-2.06 2.06-.94-2.06-.94-.94-2.06-.94 2.06-2.06.94z\"/><path d=\"M17.41 7.96l-1.37-1.37c-.4-.4-.92-.59-1.43-.59-.52 0-1.04.2-1.43.59L10.3 9.45l-7.72 7.72c-.78.78-.78 2.05 0 2.83L4 21.41c.39.39.9.59 1.41.59.51 0 1.02-.2 1.41-.59l7.78-7.78 2.81-2.81c.8-.78.8-2.07 0-2.86zM5.41 20L4 18.59l7.72-7.72 1.47 1.35L5.41 20z\"/>\n",
              "  </svg>\n",
              "      </button>\n",
              "      \n",
              "  <style>\n",
              "    .colab-df-container {\n",
              "      display:flex;\n",
              "      flex-wrap:wrap;\n",
              "      gap: 12px;\n",
              "    }\n",
              "\n",
              "    .colab-df-convert {\n",
              "      background-color: #E8F0FE;\n",
              "      border: none;\n",
              "      border-radius: 50%;\n",
              "      cursor: pointer;\n",
              "      display: none;\n",
              "      fill: #1967D2;\n",
              "      height: 32px;\n",
              "      padding: 0 0 0 0;\n",
              "      width: 32px;\n",
              "    }\n",
              "\n",
              "    .colab-df-convert:hover {\n",
              "      background-color: #E2EBFA;\n",
              "      box-shadow: 0px 1px 2px rgba(60, 64, 67, 0.3), 0px 1px 3px 1px rgba(60, 64, 67, 0.15);\n",
              "      fill: #174EA6;\n",
              "    }\n",
              "\n",
              "    [theme=dark] .colab-df-convert {\n",
              "      background-color: #3B4455;\n",
              "      fill: #D2E3FC;\n",
              "    }\n",
              "\n",
              "    [theme=dark] .colab-df-convert:hover {\n",
              "      background-color: #434B5C;\n",
              "      box-shadow: 0px 1px 3px 1px rgba(0, 0, 0, 0.15);\n",
              "      filter: drop-shadow(0px 1px 2px rgba(0, 0, 0, 0.3));\n",
              "      fill: #FFFFFF;\n",
              "    }\n",
              "  </style>\n",
              "\n",
              "      <script>\n",
              "        const buttonEl =\n",
              "          document.querySelector('#df-7f999053-9bb2-48c5-a1a7-e36b0a8253a8 button.colab-df-convert');\n",
              "        buttonEl.style.display =\n",
              "          google.colab.kernel.accessAllowed ? 'block' : 'none';\n",
              "\n",
              "        async function convertToInteractive(key) {\n",
              "          const element = document.querySelector('#df-7f999053-9bb2-48c5-a1a7-e36b0a8253a8');\n",
              "          const dataTable =\n",
              "            await google.colab.kernel.invokeFunction('convertToInteractive',\n",
              "                                                     [key], {});\n",
              "          if (!dataTable) return;\n",
              "\n",
              "          const docLinkHtml = 'Like what you see? Visit the ' +\n",
              "            '<a target=\"_blank\" href=https://colab.research.google.com/notebooks/data_table.ipynb>data table notebook</a>'\n",
              "            + ' to learn more about interactive tables.';\n",
              "          element.innerHTML = '';\n",
              "          dataTable['output_type'] = 'display_data';\n",
              "          await google.colab.output.renderOutput(dataTable, element);\n",
              "          const docLink = document.createElement('div');\n",
              "          docLink.innerHTML = docLinkHtml;\n",
              "          element.appendChild(docLink);\n",
              "        }\n",
              "      </script>\n",
              "    </div>\n",
              "  </div>\n",
              "  "
            ]
          },
          "metadata": {},
          "execution_count": 113
        }
      ]
    },
    {
      "cell_type": "markdown",
      "source": [
        "--------------------------------------------------------------------------------"
      ],
      "metadata": {
        "id": "46tqUCzYph9M"
      }
    },
    {
      "cell_type": "code",
      "source": [
        "years['mean']=years.mean(axis=1) # делает столбец в который выводится среднее в строке, т.е. за 3 года\n",
        "years.shape"
      ],
      "metadata": {
        "id": "DEP4LDu2pEG4",
        "colab": {
          "base_uri": "https://localhost:8080/"
        },
        "outputId": "ef9b8653-3777-46a3-ee64-5ac8bc7df76d"
      },
      "execution_count": null,
      "outputs": [
        {
          "output_type": "execute_result",
          "data": {
            "text/plain": [
              "(12, 16)"
            ]
          },
          "metadata": {},
          "execution_count": 118
        }
      ]
    },
    {
      "cell_type": "markdown",
      "source": [
        "**4. КОРРЕКТИРУЕМ СЕЗОННЫЙ КОЭФФИЦИЕНТ**"
      ],
      "metadata": {
        "id": "xGrQ4oKS2Mzt"
      }
    },
    {
      "cell_type": "code",
      "source": [
        "k = years['mean'].mean() # поправочный коэффициент"
      ],
      "metadata": {
        "id": "TP1GahoK5bxb"
      },
      "execution_count": null,
      "outputs": []
    },
    {
      "cell_type": "code",
      "source": [
        "k"
      ],
      "metadata": {
        "id": "LCXvlEGI5bt5",
        "colab": {
          "base_uri": "https://localhost:8080/"
        },
        "outputId": "9f756b75-86fd-4f4f-fd32-11e60ec7c7a4"
      },
      "execution_count": null,
      "outputs": [
        {
          "output_type": "execute_result",
          "data": {
            "text/plain": [
              "0.32186338824716326"
            ]
          },
          "metadata": {},
          "execution_count": 120
        }
      ]
    },
    {
      "cell_type": "code",
      "source": [
        "years['S'] = years['mean'] - k # скорректированный сезонный коэффициент"
      ],
      "metadata": {
        "id": "GbvYyJMl2XVk"
      },
      "execution_count": null,
      "outputs": []
    },
    {
      "cell_type": "code",
      "source": [
        "s=years['S']"
      ],
      "metadata": {
        "id": "xhyIImgA4EmJ"
      },
      "execution_count": null,
      "outputs": []
    },
    {
      "cell_type": "code",
      "source": [
        "sez=pd.concat([s for i in range(15)], ignore_index = True)\n",
        "sez.index=series_train.index\n",
        "sez # ряд с сезонными составляющими"
      ],
      "metadata": {
        "colab": {
          "base_uri": "https://localhost:8080/"
        },
        "id": "pgGtMeqb4K98",
        "outputId": "a48261ab-ad65-419d-f58c-1edfb463bcbb"
      },
      "execution_count": null,
      "outputs": [
        {
          "output_type": "execute_result",
          "data": {
            "text/plain": [
              "Date\n",
              "2002-01-31   -0.048312\n",
              "2002-02-28   -0.523251\n",
              "2002-03-31   -0.202587\n",
              "2002-04-30    0.725990\n",
              "2002-05-31    1.701102\n",
              "                ...   \n",
              "2016-08-31   -0.684653\n",
              "2016-09-30   -1.068165\n",
              "2016-10-31   -0.861688\n",
              "2016-11-30   -0.920075\n",
              "2016-12-31   -0.257513\n",
              "Freq: M, Name: S, Length: 180, dtype: float64"
            ]
          },
          "metadata": {},
          "execution_count": 123
        }
      ]
    },
    {
      "cell_type": "code",
      "source": [
        "sez.plot(color='red')\n",
        "plt.show()"
      ],
      "metadata": {
        "colab": {
          "base_uri": "https://localhost:8080/",
          "height": 279
        },
        "id": "I7dtHBUj7MeH",
        "outputId": "d24d01ed-5bfe-4b14-8407-39c6e2ccd59c"
      },
      "execution_count": null,
      "outputs": [
        {
          "output_type": "display_data",
          "data": {
            "text/plain": [
              "<Figure size 432x288 with 1 Axes>"
            ],
            "image/png": "[encoded data removed]"
          },
          "metadata": {
            "needs_background": "light"
          }
        }
      ]
    },
    {
      "cell_type": "code",
      "source": [
        "y_des=y_train - sez # вычлили сезонную составляющую\n",
        "y_des # это ряд по которому можно строить тренд (т.е. ряд с сезонной составляющей"
      ],
      "metadata": {
        "id": "6rKo-Nzx7rgO"
      },
      "execution_count": null,
      "outputs": []
    },
    {
      "cell_type": "code",
      "source": [
        "y_des.plot(color='red')\n",
        "plt.show()"
      ],
      "metadata": {
        "colab": {
          "base_uri": "https://localhost:8080/",
          "height": 279
        },
        "id": "xUy9ROk48fjy",
        "outputId": "66fa9fde-2436-4eb9-de6f-2791f63340aa"
      },
      "execution_count": null,
      "outputs": [
        {
          "output_type": "display_data",
          "data": {
            "text/plain": [
              "<Figure size 432x288 with 1 Axes>"
            ],
            "image/png": "[encoded data removed]"
          },
          "metadata": {
            "needs_background": "light"
          }
        }
      ]
    },
    {
      "cell_type": "code",
      "source": [
        "x_train = np.arange(1, len(y_des)+1)\n",
        "x_train"
      ],
      "metadata": {
        "colab": {
          "base_uri": "https://localhost:8080/"
        },
        "id": "xhHnDCEsrKTq",
        "outputId": "d1fba351-3bea-4fcd-bc25-000feead5a1b"
      },
      "execution_count": null,
      "outputs": [
        {
          "output_type": "execute_result",
          "data": {
            "text/plain": [
              "array([  1,   2,   3,   4,   5,   6,   7,   8,   9,  10,  11,  12,  13,\n",
              "        14,  15,  16,  17,  18,  19,  20,  21,  22,  23,  24,  25,  26,\n",
              "        27,  28,  29,  30,  31,  32,  33,  34,  35,  36,  37,  38,  39,\n",
              "        40,  41,  42,  43,  44,  45,  46,  47,  48,  49,  50,  51,  52,\n",
              "        53,  54,  55,  56,  57,  58,  59,  60,  61,  62,  63,  64,  65,\n",
              "        66,  67,  68,  69,  70,  71,  72,  73,  74,  75,  76,  77,  78,\n",
              "        79,  80,  81,  82,  83,  84,  85,  86,  87,  88,  89,  90,  91,\n",
              "        92,  93,  94,  95,  96,  97,  98,  99, 100, 101, 102, 103, 104,\n",
              "       105, 106, 107, 108, 109, 110, 111, 112, 113, 114, 115, 116, 117,\n",
              "       118, 119, 120, 121, 122, 123, 124, 125, 126, 127, 128, 129, 130,\n",
              "       131, 132, 133, 134, 135, 136, 137, 138, 139, 140, 141, 142, 143,\n",
              "       144, 145, 146, 147, 148, 149, 150, 151, 152, 153, 154, 155, 156,\n",
              "       157, 158, 159, 160, 161, 162, 163, 164, 165, 166, 167, 168, 169,\n",
              "       170, 171, 172, 173, 174, 175, 176, 177, 178, 179, 180])"
            ]
          },
          "metadata": {},
          "execution_count": 127
        }
      ]
    },
    {
      "cell_type": "code",
      "source": [
        "plt.scatter(x_train,y_des)\n",
        "plt.show()"
      ],
      "metadata": {
        "colab": {
          "base_uri": "https://localhost:8080/",
          "height": 265
        },
        "id": "ce1Y7nlqUrD3",
        "outputId": "5775b16f-ad1c-4bcb-aeb6-60bc468963ba"
      },
      "execution_count": null,
      "outputs": [
        {
          "output_type": "display_data",
          "data": {
            "text/plain": [
              "<Figure size 432x288 with 1 Axes>"
            ],
            "image/png": "[encoded data removed]"
          },
          "metadata": {
            "needs_background": "light"
          }
        }
      ]
    },
    {
      "cell_type": "code",
      "source": [
        "coef=np.polyfit(x_train, y_des, deg=1) # коэффициенты тренда\n",
        "coef"
      ],
      "metadata": {
        "colab": {
          "base_uri": "https://localhost:8080/"
        },
        "id": "TYmWxdf89UfB",
        "outputId": "cfd87330-f4c3-4d10-eb12-f0d642cc8276"
      },
      "execution_count": null,
      "outputs": [
        {
          "output_type": "execute_result",
          "data": {
            "text/plain": [
              "array([ 0.13667797, 21.42501739])"
            ]
          },
          "metadata": {},
          "execution_count": 134
        }
      ]
    },
    {
      "cell_type": "code",
      "source": [
        "t_test = np.arange(train_size+1,len(y)-7)\n",
        "t_test"
      ],
      "metadata": {
        "id": "CsDkLXbQ9op5"
      },
      "execution_count": null,
      "outputs": []
    },
    {
      "cell_type": "code",
      "source": [
        "sss = sez=pd.concat([s for i in range(5)], ignore_index = True)"
      ],
      "metadata": {
        "id": "dSMBKlgz9w_D"
      },
      "execution_count": null,
      "outputs": []
    },
    {
      "cell_type": "markdown",
      "source": [
        "Прогноз:"
      ],
      "metadata": {
        "id": "b0ekERDJ_f-J"
      }
    },
    {
      "cell_type": "code",
      "source": [
        "y_pred=coef[0]*t_test+coef[1]+sez # s- это сезонная составляющая, а остальные 2(тренд+случайная) уже включены, на них обучали\n",
        "y_pred"
      ],
      "metadata": {
        "id": "rOsRP5xj9xCI"
      },
      "execution_count": null,
      "outputs": []
    },
    {
      "cell_type": "code",
      "source": [
        "R2=r2_score(y_test, y_pred)\n",
        "R2"
      ],
      "metadata": {
        "colab": {
          "base_uri": "https://localhost:8080/"
        },
        "id": "t2KfzPKC9w8I",
        "outputId": "ff7accbe-b0bd-455a-c494-0f4ac00e2360"
      },
      "execution_count": null,
      "outputs": [
        {
          "output_type": "execute_result",
          "data": {
            "text/plain": [
              "-5.626863408486599"
            ]
          },
          "metadata": {},
          "execution_count": 147
        }
      ]
    },
    {
      "cell_type": "code",
      "source": [
        "MSE=mean_squared_error(y_test, y_pred)\n",
        "MSE"
      ],
      "metadata": {
        "colab": {
          "base_uri": "https://localhost:8080/"
        },
        "id": "OR8C-LtN9w2v",
        "outputId": "74d1fa22-3264-46f2-9c49-3feeee5cc265"
      },
      "execution_count": null,
      "outputs": [
        {
          "output_type": "execute_result",
          "data": {
            "text/plain": [
              "263.11494652252276"
            ]
          },
          "metadata": {},
          "execution_count": 148
        }
      ]
    },
    {
      "cell_type": "code",
      "source": [
        "y_pred=y[len(y_train)-1:len(y)-9]\n",
        "y_pred"
      ],
      "metadata": {
        "colab": {
          "base_uri": "https://localhost:8080/"
        },
        "id": "_Sz4UMEu9wgj",
        "outputId": "fc806d06-c74d-4223-d7c9-2c74527358b2"
      },
      "execution_count": null,
      "outputs": [
        {
          "output_type": "execute_result",
          "data": {
            "text/plain": [
              "array([64.92097391, 64.37561818, 62.61248571, 64.43285714, 61.92169091,\n",
              "       59.82585238, 58.41174737, 57.79046818, 56.499175  , 56.9674    ,\n",
              "       58.13462381, 59.6693381 , 59.44236957, 57.67776667, 57.74520455,\n",
              "       58.9973    , 58.56682857, 56.559295  , 56.87101053, 57.12959048,\n",
              "       60.92627727, 62.2548619 , 62.79636667, 62.82027727, 66.4817913 ,\n",
              "       67.63011   , 65.86241304, 66.55895238, 67.57889048, 66.543795  ,\n",
              "       65.851305  , 65.100775  , 64.55055455, 64.91201905, 64.05264737,\n",
              "       63.2444087 , 65.83747727, 64.93160476, 64.32534783, 63.889615  ,\n",
              "       62.8719    , 61.956055  , 64.1023    , 74.61494762, 75.01677273,\n",
              "       72.54687895, 69.29886   , 71.59179545, 73.80014286, 76.08847727,\n",
              "       77.63313636, 76.746795  , 74.06090909, 74.39837895, 74.39369   ,\n",
              "       74.53394091, 76.06234545, 73.89596   , 72.60088636, 73.96939091])"
            ]
          },
          "metadata": {},
          "execution_count": 149
        }
      ]
    },
    {
      "cell_type": "code",
      "source": [
        "MSE=mean_squared_error(y_test, y_pred)\n",
        "MSE"
      ],
      "metadata": {
        "colab": {
          "base_uri": "https://localhost:8080/"
        },
        "id": "OBo7bR-fCClX",
        "outputId": "34ffd592-2174-432a-b837-089f4ab7c7a2"
      },
      "execution_count": null,
      "outputs": [
        {
          "output_type": "execute_result",
          "data": {
            "text/plain": [
              "10.013983818043041"
            ]
          },
          "metadata": {},
          "execution_count": 95
        }
      ]
    },
    {
      "cell_type": "code",
      "source": [
        "R2=r2_score(y_test, y_pred) # хороший результат\n",
        "R2"
      ],
      "metadata": {
        "colab": {
          "base_uri": "https://localhost:8080/"
        },
        "id": "JmLqn7tJCQhk",
        "outputId": "ad4fd666-f959-422a-e9ab-c3eb1ccd60a8"
      },
      "execution_count": null,
      "outputs": [
        {
          "output_type": "execute_result",
          "data": {
            "text/plain": [
              "0.7527897896865889"
            ]
          },
          "metadata": {},
          "execution_count": 96
        }
      ]
    }
  ]
}