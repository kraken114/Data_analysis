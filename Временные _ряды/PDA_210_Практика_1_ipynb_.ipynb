{
  "nbformat": 4,
  "nbformat_minor": 0,
  "metadata": {
    "colab": {
      "provenance": []
    },
    "kernelspec": {
      "name": "python3",
      "display_name": "Python 3"
    },
    "language_info": {
      "name": "python"
    }
  },
  "cells": [
    {
      "cell_type": "markdown",
      "source": [
        "# **ЗАДАНИЕ 1. ПЕРВИЧНЫЙ АНАЛИЗ ВРЕМЕННОГО РЯДА С ИСПОЛЬЗОВАНИЕМ ОПИСАТЕЛЬНЫХ СТАТИСТИК И ВИЗУАЛИЗАЦИИ**"
      ],
      "metadata": {
        "id": "AmSFrgenieoP"
      }
    },
    {
      "cell_type": "markdown",
      "source": [
        "Проведите первичный анализ данных по ценам на материал 1 с использованием описательных статистик и визуализации, выявите неоднородность данных с помощью коэффициентов дифференциации и коэффициента фондов.\n",
        "Постарайтесь максимально автоматизировать все вычисления, использовать существующие модули среды программирования Python.\n"
      ],
      "metadata": {
        "id": "J4HGQvCPPGhu"
      }
    },
    {
      "cell_type": "code",
      "execution_count": null,
      "metadata": {
        "colab": {
          "base_uri": "https://localhost:8080/"
        },
        "id": "49rHQ4W1idoL",
        "outputId": "a98c32f8-c270-4707-cbca-2cf7e3fdb62f"
      },
      "outputs": [
        {
          "output_type": "stream",
          "name": "stdout",
          "text": [
            "Looking in indexes: https://pypi.org/simple, https://us-python.pkg.dev/colab-wheels/public/simple/\n",
            "Requirement already satisfied: xlrd in /usr/local/lib/python3.7/dist-packages (1.1.0)\n",
            "Collecting xlrd\n",
            "  Downloading xlrd-2.0.1-py2.py3-none-any.whl (96 kB)\n",
            "\u001b[K     |████████████████████████████████| 96 kB 3.1 MB/s \n",
            "\u001b[?25hInstalling collected packages: xlrd\n",
            "  Attempting uninstall: xlrd\n",
            "    Found existing installation: xlrd 1.1.0\n",
            "    Uninstalling xlrd-1.1.0:\n",
            "      Successfully uninstalled xlrd-1.1.0\n",
            "Successfully installed xlrd-2.0.1\n"
          ]
        }
      ],
      "source": [
        "!pip install --upgrade xlrd # установка модуля для EXELевских файлов"
      ]
    },
    {
      "cell_type": "code",
      "source": [
        "import os\n",
        "import pandas as pd\n",
        "import numpy as np\n",
        "from pandas import DataFrame\n",
        "from pandas import Grouper\n",
        "import matplotlib.pyplot as plt"
      ],
      "metadata": {
        "id": "epPEIDp1ipuv"
      },
      "execution_count": null,
      "outputs": []
    },
    {
      "cell_type": "code",
      "source": [
        "from google.colab import drive\n",
        "drive.mount('/content/gdrive')"
      ],
      "metadata": {
        "colab": {
          "base_uri": "https://localhost:8080/"
        },
        "id": "LtQRcjPJjme_",
        "outputId": "f8d34d78-88f8-4b05-bc17-0647e5412a76"
      },
      "execution_count": null,
      "outputs": [
        {
          "output_type": "stream",
          "name": "stdout",
          "text": [
            "Mounted at /content/gdrive\n"
          ]
        }
      ]
    },
    {
      "cell_type": "markdown",
      "source": [
        "**Методика выполнения задания:**\n",
        "# **Раздел 1. Загрузка данных и первичный анализ с использованием описательных статистик**\n"
      ],
      "metadata": {
        "id": "QiCbR06JPMkg"
      }
    },
    {
      "cell_type": "markdown",
      "source": [
        "**1.\tУкажите путь к рабочей папке, где хранятся данные, с помощью функции chdir() из модуля os.**\n",
        "\n",
        "**2.\tЗагрузите данные с помощью функции read_excel('data.xls', sheet_name='Material 1') из модуля pandas. Результат запишите в переменную data. Посмотрите на первые 5 наблюдений с помощью функции head().**\n",
        "\n",
        "**3.\tПоместите в переменную dates значения дат. Для этого с помощью метода loc укажите номер интересующей строки и с помощью метода values задайте координаты интересующих значений.**\n",
        "\n",
        "**4.\tПоместите в переменную val значения цен на материал 1 своего варианта. Для этого с помощью метода loc укажите номер интересующей строки и с помощью метода values задайте координаты интересующих значений.**\n",
        "\n",
        "**5.\tСоздайте на основе переменных dates и val словарь с кодами Date и Value и поместите его в переменную data.**\n",
        "\n",
        "**6.\tСоздайте на основе переменной data таблицу данных с помощью функции DataFrame() из модуля pandas. Результат присвойте переменной df. Посмотрите на первые 5 наблюдений с помощью функции head().**\n",
        "\n",
        "**7.\tСделайте индексом столбец Date с помощью функции set_index('Date'). Результат присвойте переменной df. Посмотрите на первые 10 наблюдений с помощью функции head().**\n",
        "\n",
        "**8.\tПосмотрите на объем выборки с помощью атрибута size.**\n",
        "\n",
        "**9.\tВыведите на экран общую информацию о содержимом df с помощью функции info(). Прокомментируйте результат.**\n",
        "\n",
        "**10.\t Убедитесь в том, что данные представлены в числовом формате. Если это не так, то обратитесь к значениям ряда Value и измените их тип с помощью функции astype(float). После этого убедитесь, что формат данных изменился с помощью функции info().**\n",
        "\n",
        "**11.\t Выведите на экран данные за 2007 год в помесячной разбивке, обратившись к таблице данных по соответствующему индексу с помощью метода loc. Прокомментируйте результат.**\n",
        "\n",
        "**12.\t Установите точность вывода результатов до 2-х знаков после запятой с помощью функции set_option('precision', 2) из модуля pandas.**\n",
        "\n",
        "**13.\t Выведите на экран описательные статистики, воспользовавшись функцией describe(). Прокомментируйте результат.**\n"
      ],
      "metadata": {
        "id": "mANHhFBTPUeD"
      }
    },
    {
      "cell_type": "code",
      "source": [
        "os.chdir('/content/gdrive/MyDrive/Colab Notebooks/PDA-210')"
      ],
      "metadata": {
        "id": "f5aOWfiOjXYM"
      },
      "execution_count": null,
      "outputs": []
    },
    {
      "cell_type": "code",
      "source": [
        "data=pd.read_excel('data.xls', sheet_name='Material 1')\n",
        "data.head()"
      ],
      "metadata": {
        "colab": {
          "base_uri": "https://localhost:8080/",
          "height": 384
        },
        "id": "yILggnMwj9RH",
        "outputId": "fb9e1d6b-fe2b-488e-aa2a-f53c80b458c3"
      },
      "execution_count": null,
      "outputs": [
        {
          "output_type": "execute_result",
          "data": {
            "text/plain": [
              "      Unnamed: 0  Unnamed: 1 Рыночные цены на материал 1 (руб.)  \\\n",
              "0            NaN         NaN                2007-01-01 00:00:00   \n",
              "1  № организации         1.0                              26.45   \n",
              "2            NaN         2.0                              26.09   \n",
              "3            NaN         3.0                              22.05   \n",
              "4            NaN         4.0                              20.41   \n",
              "\n",
              "            Unnamed: 3           Unnamed: 4           Unnamed: 5  \\\n",
              "0  2007-02-01 00:00:00  2007-03-01 00:00:00  2007-04-01 00:00:00   \n",
              "1                23.89                25.95                30.03   \n",
              "2                20.66                 22.6                25.05   \n",
              "3                23.15                28.22                21.55   \n",
              "4                28.39                17.74                18.46   \n",
              "\n",
              "            Unnamed: 6           Unnamed: 7           Unnamed: 8  \\\n",
              "0  2007-05-01 00:00:00  2007-06-01 00:00:00  2007-07-01 00:00:00   \n",
              "1                28.96                25.58                25.96   \n",
              "2                27.59                20.49                27.39   \n",
              "3                21.57                28.58                31.42   \n",
              "4                20.47                28.93                27.89   \n",
              "\n",
              "            Unnamed: 9  ...          Unnamed: 40          Unnamed: 41  \\\n",
              "0  2007-08-01 00:00:00  ...  2010-03-01 00:00:00  2010-04-01 00:00:00   \n",
              "1                30.56  ...                37.36                39.21   \n",
              "2                28.52  ...                39.54                42.38   \n",
              "3                28.11  ...                40.17                47.99   \n",
              "4                20.68  ...                68.39                73.93   \n",
              "\n",
              "           Unnamed: 42          Unnamed: 43          Unnamed: 44  \\\n",
              "0  2010-05-01 00:00:00  2010-06-01 00:00:00  2010-07-01 00:00:00   \n",
              "1                39.43                 43.5                40.75   \n",
              "2                 37.5                41.29                44.96   \n",
              "3                47.92                46.25                 47.3   \n",
              "4                63.97                75.59                70.98   \n",
              "\n",
              "           Unnamed: 45          Unnamed: 46          Unnamed: 47  \\\n",
              "0  2010-08-01 00:00:00  2010-09-01 00:00:00  2010-10-01 00:00:00   \n",
              "1                42.84                38.01                45.18   \n",
              "2                45.39                42.49                45.77   \n",
              "3                 48.9                 51.2                43.96   \n",
              "4                78.28                78.98                71.27   \n",
              "\n",
              "           Unnamed: 48          Unnamed: 49  \n",
              "0  2010-11-01 00:00:00  2010-12-01 00:00:00  \n",
              "1                42.49                 44.2  \n",
              "2                46.94                40.83  \n",
              "3                49.22                51.38  \n",
              "4                81.34                85.73  \n",
              "\n",
              "[5 rows x 50 columns]"
            ],
            "text/html": [
              "\n",
              "  <div id=\"df-e12118ee-fec5-49dd-8e31-5ddd68eed72f\">\n",
              "    <div class=\"colab-df-container\">\n",
              "      <div>\n",
              "<style scoped>\n",
              "    .dataframe tbody tr th:only-of-type {\n",
              "        vertical-align: middle;\n",
              "    }\n",
              "\n",
              "    .dataframe tbody tr th {\n",
              "        vertical-align: top;\n",
              "    }\n",
              "\n",
              "    .dataframe thead th {\n",
              "        text-align: right;\n",
              "    }\n",
              "</style>\n",
              "<table border=\"1\" class=\"dataframe\">\n",
              "  <thead>\n",
              "    <tr style=\"text-align: right;\">\n",
              "      <th></th>\n",
              "      <th>Unnamed: 0</th>\n",
              "      <th>Unnamed: 1</th>\n",
              "      <th>Рыночные цены на материал 1 (руб.)</th>\n",
              "      <th>Unnamed: 3</th>\n",
              "      <th>Unnamed: 4</th>\n",
              "      <th>Unnamed: 5</th>\n",
              "      <th>Unnamed: 6</th>\n",
              "      <th>Unnamed: 7</th>\n",
              "      <th>Unnamed: 8</th>\n",
              "      <th>Unnamed: 9</th>\n",
              "      <th>...</th>\n",
              "      <th>Unnamed: 40</th>\n",
              "      <th>Unnamed: 41</th>\n",
              "      <th>Unnamed: 42</th>\n",
              "      <th>Unnamed: 43</th>\n",
              "      <th>Unnamed: 44</th>\n",
              "      <th>Unnamed: 45</th>\n",
              "      <th>Unnamed: 46</th>\n",
              "      <th>Unnamed: 47</th>\n",
              "      <th>Unnamed: 48</th>\n",
              "      <th>Unnamed: 49</th>\n",
              "    </tr>\n",
              "  </thead>\n",
              "  <tbody>\n",
              "    <tr>\n",
              "      <th>0</th>\n",
              "      <td>NaN</td>\n",
              "      <td>NaN</td>\n",
              "      <td>2007-01-01 00:00:00</td>\n",
              "      <td>2007-02-01 00:00:00</td>\n",
              "      <td>2007-03-01 00:00:00</td>\n",
              "      <td>2007-04-01 00:00:00</td>\n",
              "      <td>2007-05-01 00:00:00</td>\n",
              "      <td>2007-06-01 00:00:00</td>\n",
              "      <td>2007-07-01 00:00:00</td>\n",
              "      <td>2007-08-01 00:00:00</td>\n",
              "      <td>...</td>\n",
              "      <td>2010-03-01 00:00:00</td>\n",
              "      <td>2010-04-01 00:00:00</td>\n",
              "      <td>2010-05-01 00:00:00</td>\n",
              "      <td>2010-06-01 00:00:00</td>\n",
              "      <td>2010-07-01 00:00:00</td>\n",
              "      <td>2010-08-01 00:00:00</td>\n",
              "      <td>2010-09-01 00:00:00</td>\n",
              "      <td>2010-10-01 00:00:00</td>\n",
              "      <td>2010-11-01 00:00:00</td>\n",
              "      <td>2010-12-01 00:00:00</td>\n",
              "    </tr>\n",
              "    <tr>\n",
              "      <th>1</th>\n",
              "      <td>№ организации</td>\n",
              "      <td>1.0</td>\n",
              "      <td>26.45</td>\n",
              "      <td>23.89</td>\n",
              "      <td>25.95</td>\n",
              "      <td>30.03</td>\n",
              "      <td>28.96</td>\n",
              "      <td>25.58</td>\n",
              "      <td>25.96</td>\n",
              "      <td>30.56</td>\n",
              "      <td>...</td>\n",
              "      <td>37.36</td>\n",
              "      <td>39.21</td>\n",
              "      <td>39.43</td>\n",
              "      <td>43.5</td>\n",
              "      <td>40.75</td>\n",
              "      <td>42.84</td>\n",
              "      <td>38.01</td>\n",
              "      <td>45.18</td>\n",
              "      <td>42.49</td>\n",
              "      <td>44.2</td>\n",
              "    </tr>\n",
              "    <tr>\n",
              "      <th>2</th>\n",
              "      <td>NaN</td>\n",
              "      <td>2.0</td>\n",
              "      <td>26.09</td>\n",
              "      <td>20.66</td>\n",
              "      <td>22.6</td>\n",
              "      <td>25.05</td>\n",
              "      <td>27.59</td>\n",
              "      <td>20.49</td>\n",
              "      <td>27.39</td>\n",
              "      <td>28.52</td>\n",
              "      <td>...</td>\n",
              "      <td>39.54</td>\n",
              "      <td>42.38</td>\n",
              "      <td>37.5</td>\n",
              "      <td>41.29</td>\n",
              "      <td>44.96</td>\n",
              "      <td>45.39</td>\n",
              "      <td>42.49</td>\n",
              "      <td>45.77</td>\n",
              "      <td>46.94</td>\n",
              "      <td>40.83</td>\n",
              "    </tr>\n",
              "    <tr>\n",
              "      <th>3</th>\n",
              "      <td>NaN</td>\n",
              "      <td>3.0</td>\n",
              "      <td>22.05</td>\n",
              "      <td>23.15</td>\n",
              "      <td>28.22</td>\n",
              "      <td>21.55</td>\n",
              "      <td>21.57</td>\n",
              "      <td>28.58</td>\n",
              "      <td>31.42</td>\n",
              "      <td>28.11</td>\n",
              "      <td>...</td>\n",
              "      <td>40.17</td>\n",
              "      <td>47.99</td>\n",
              "      <td>47.92</td>\n",
              "      <td>46.25</td>\n",
              "      <td>47.3</td>\n",
              "      <td>48.9</td>\n",
              "      <td>51.2</td>\n",
              "      <td>43.96</td>\n",
              "      <td>49.22</td>\n",
              "      <td>51.38</td>\n",
              "    </tr>\n",
              "    <tr>\n",
              "      <th>4</th>\n",
              "      <td>NaN</td>\n",
              "      <td>4.0</td>\n",
              "      <td>20.41</td>\n",
              "      <td>28.39</td>\n",
              "      <td>17.74</td>\n",
              "      <td>18.46</td>\n",
              "      <td>20.47</td>\n",
              "      <td>28.93</td>\n",
              "      <td>27.89</td>\n",
              "      <td>20.68</td>\n",
              "      <td>...</td>\n",
              "      <td>68.39</td>\n",
              "      <td>73.93</td>\n",
              "      <td>63.97</td>\n",
              "      <td>75.59</td>\n",
              "      <td>70.98</td>\n",
              "      <td>78.28</td>\n",
              "      <td>78.98</td>\n",
              "      <td>71.27</td>\n",
              "      <td>81.34</td>\n",
              "      <td>85.73</td>\n",
              "    </tr>\n",
              "  </tbody>\n",
              "</table>\n",
              "<p>5 rows × 50 columns</p>\n",
              "</div>\n",
              "      <button class=\"colab-df-convert\" onclick=\"convertToInteractive('df-e12118ee-fec5-49dd-8e31-5ddd68eed72f')\"\n",
              "              title=\"Convert this dataframe to an interactive table.\"\n",
              "              style=\"display:none;\">\n",
              "        \n",
              "  <svg xmlns=\"http://www.w3.org/2000/svg\" height=\"24px\"viewBox=\"0 0 24 24\"\n",
              "       width=\"24px\">\n",
              "    <path d=\"M0 0h24v24H0V0z\" fill=\"none\"/>\n",
              "    <path d=\"M18.56 5.44l.94 2.06.94-2.06 2.06-.94-2.06-.94-.94-2.06-.94 2.06-2.06.94zm-11 1L8.5 8.5l.94-2.06 2.06-.94-2.06-.94L8.5 2.5l-.94 2.06-2.06.94zm10 10l.94 2.06.94-2.06 2.06-.94-2.06-.94-.94-2.06-.94 2.06-2.06.94z\"/><path d=\"M17.41 7.96l-1.37-1.37c-.4-.4-.92-.59-1.43-.59-.52 0-1.04.2-1.43.59L10.3 9.45l-7.72 7.72c-.78.78-.78 2.05 0 2.83L4 21.41c.39.39.9.59 1.41.59.51 0 1.02-.2 1.41-.59l7.78-7.78 2.81-2.81c.8-.78.8-2.07 0-2.86zM5.41 20L4 18.59l7.72-7.72 1.47 1.35L5.41 20z\"/>\n",
              "  </svg>\n",
              "      </button>\n",
              "      \n",
              "  <style>\n",
              "    .colab-df-container {\n",
              "      display:flex;\n",
              "      flex-wrap:wrap;\n",
              "      gap: 12px;\n",
              "    }\n",
              "\n",
              "    .colab-df-convert {\n",
              "      background-color: #E8F0FE;\n",
              "      border: none;\n",
              "      border-radius: 50%;\n",
              "      cursor: pointer;\n",
              "      display: none;\n",
              "      fill: #1967D2;\n",
              "      height: 32px;\n",
              "      padding: 0 0 0 0;\n",
              "      width: 32px;\n",
              "    }\n",
              "\n",
              "    .colab-df-convert:hover {\n",
              "      background-color: #E2EBFA;\n",
              "      box-shadow: 0px 1px 2px rgba(60, 64, 67, 0.3), 0px 1px 3px 1px rgba(60, 64, 67, 0.15);\n",
              "      fill: #174EA6;\n",
              "    }\n",
              "\n",
              "    [theme=dark] .colab-df-convert {\n",
              "      background-color: #3B4455;\n",
              "      fill: #D2E3FC;\n",
              "    }\n",
              "\n",
              "    [theme=dark] .colab-df-convert:hover {\n",
              "      background-color: #434B5C;\n",
              "      box-shadow: 0px 1px 3px 1px rgba(0, 0, 0, 0.15);\n",
              "      filter: drop-shadow(0px 1px 2px rgba(0, 0, 0, 0.3));\n",
              "      fill: #FFFFFF;\n",
              "    }\n",
              "  </style>\n",
              "\n",
              "      <script>\n",
              "        const buttonEl =\n",
              "          document.querySelector('#df-e12118ee-fec5-49dd-8e31-5ddd68eed72f button.colab-df-convert');\n",
              "        buttonEl.style.display =\n",
              "          google.colab.kernel.accessAllowed ? 'block' : 'none';\n",
              "\n",
              "        async function convertToInteractive(key) {\n",
              "          const element = document.querySelector('#df-e12118ee-fec5-49dd-8e31-5ddd68eed72f');\n",
              "          const dataTable =\n",
              "            await google.colab.kernel.invokeFunction('convertToInteractive',\n",
              "                                                     [key], {});\n",
              "          if (!dataTable) return;\n",
              "\n",
              "          const docLinkHtml = 'Like what you see? Visit the ' +\n",
              "            '<a target=\"_blank\" href=https://colab.research.google.com/notebooks/data_table.ipynb>data table notebook</a>'\n",
              "            + ' to learn more about interactive tables.';\n",
              "          element.innerHTML = '';\n",
              "          dataTable['output_type'] = 'display_data';\n",
              "          await google.colab.output.renderOutput(dataTable, element);\n",
              "          const docLink = document.createElement('div');\n",
              "          docLink.innerHTML = docLinkHtml;\n",
              "          element.appendChild(docLink);\n",
              "        }\n",
              "      </script>\n",
              "    </div>\n",
              "  </div>\n",
              "  "
            ]
          },
          "metadata": {},
          "execution_count": 5
        }
      ]
    },
    {
      "cell_type": "code",
      "source": [
        "data.loc[data.index==0]"
      ],
      "metadata": {
        "colab": {
          "base_uri": "https://localhost:8080/",
          "height": 241
        },
        "id": "b0uwGOWRIhmm",
        "outputId": "84a4df50-67a5-4e1c-c21b-8588cd0d9d18"
      },
      "execution_count": null,
      "outputs": [
        {
          "output_type": "execute_result",
          "data": {
            "text/plain": [
              "  Unnamed: 0  Unnamed: 1 Рыночные цены на материал 1 (руб.)  \\\n",
              "0        NaN         NaN                2007-01-01 00:00:00   \n",
              "\n",
              "            Unnamed: 3           Unnamed: 4           Unnamed: 5  \\\n",
              "0  2007-02-01 00:00:00  2007-03-01 00:00:00  2007-04-01 00:00:00   \n",
              "\n",
              "            Unnamed: 6           Unnamed: 7           Unnamed: 8  \\\n",
              "0  2007-05-01 00:00:00  2007-06-01 00:00:00  2007-07-01 00:00:00   \n",
              "\n",
              "            Unnamed: 9  ...          Unnamed: 40          Unnamed: 41  \\\n",
              "0  2007-08-01 00:00:00  ...  2010-03-01 00:00:00  2010-04-01 00:00:00   \n",
              "\n",
              "           Unnamed: 42          Unnamed: 43          Unnamed: 44  \\\n",
              "0  2010-05-01 00:00:00  2010-06-01 00:00:00  2010-07-01 00:00:00   \n",
              "\n",
              "           Unnamed: 45          Unnamed: 46          Unnamed: 47  \\\n",
              "0  2010-08-01 00:00:00  2010-09-01 00:00:00  2010-10-01 00:00:00   \n",
              "\n",
              "           Unnamed: 48          Unnamed: 49  \n",
              "0  2010-11-01 00:00:00  2010-12-01 00:00:00  \n",
              "\n",
              "[1 rows x 50 columns]"
            ],
            "text/html": [
              "\n",
              "  <div id=\"df-cd2dfb2b-b5f3-4b1e-a685-52c675d59561\">\n",
              "    <div class=\"colab-df-container\">\n",
              "      <div>\n",
              "<style scoped>\n",
              "    .dataframe tbody tr th:only-of-type {\n",
              "        vertical-align: middle;\n",
              "    }\n",
              "\n",
              "    .dataframe tbody tr th {\n",
              "        vertical-align: top;\n",
              "    }\n",
              "\n",
              "    .dataframe thead th {\n",
              "        text-align: right;\n",
              "    }\n",
              "</style>\n",
              "<table border=\"1\" class=\"dataframe\">\n",
              "  <thead>\n",
              "    <tr style=\"text-align: right;\">\n",
              "      <th></th>\n",
              "      <th>Unnamed: 0</th>\n",
              "      <th>Unnamed: 1</th>\n",
              "      <th>Рыночные цены на материал 1 (руб.)</th>\n",
              "      <th>Unnamed: 3</th>\n",
              "      <th>Unnamed: 4</th>\n",
              "      <th>Unnamed: 5</th>\n",
              "      <th>Unnamed: 6</th>\n",
              "      <th>Unnamed: 7</th>\n",
              "      <th>Unnamed: 8</th>\n",
              "      <th>Unnamed: 9</th>\n",
              "      <th>...</th>\n",
              "      <th>Unnamed: 40</th>\n",
              "      <th>Unnamed: 41</th>\n",
              "      <th>Unnamed: 42</th>\n",
              "      <th>Unnamed: 43</th>\n",
              "      <th>Unnamed: 44</th>\n",
              "      <th>Unnamed: 45</th>\n",
              "      <th>Unnamed: 46</th>\n",
              "      <th>Unnamed: 47</th>\n",
              "      <th>Unnamed: 48</th>\n",
              "      <th>Unnamed: 49</th>\n",
              "    </tr>\n",
              "  </thead>\n",
              "  <tbody>\n",
              "    <tr>\n",
              "      <th>0</th>\n",
              "      <td>NaN</td>\n",
              "      <td>NaN</td>\n",
              "      <td>2007-01-01 00:00:00</td>\n",
              "      <td>2007-02-01 00:00:00</td>\n",
              "      <td>2007-03-01 00:00:00</td>\n",
              "      <td>2007-04-01 00:00:00</td>\n",
              "      <td>2007-05-01 00:00:00</td>\n",
              "      <td>2007-06-01 00:00:00</td>\n",
              "      <td>2007-07-01 00:00:00</td>\n",
              "      <td>2007-08-01 00:00:00</td>\n",
              "      <td>...</td>\n",
              "      <td>2010-03-01 00:00:00</td>\n",
              "      <td>2010-04-01 00:00:00</td>\n",
              "      <td>2010-05-01 00:00:00</td>\n",
              "      <td>2010-06-01 00:00:00</td>\n",
              "      <td>2010-07-01 00:00:00</td>\n",
              "      <td>2010-08-01 00:00:00</td>\n",
              "      <td>2010-09-01 00:00:00</td>\n",
              "      <td>2010-10-01 00:00:00</td>\n",
              "      <td>2010-11-01 00:00:00</td>\n",
              "      <td>2010-12-01 00:00:00</td>\n",
              "    </tr>\n",
              "  </tbody>\n",
              "</table>\n",
              "<p>1 rows × 50 columns</p>\n",
              "</div>\n",
              "      <button class=\"colab-df-convert\" onclick=\"convertToInteractive('df-cd2dfb2b-b5f3-4b1e-a685-52c675d59561')\"\n",
              "              title=\"Convert this dataframe to an interactive table.\"\n",
              "              style=\"display:none;\">\n",
              "        \n",
              "  <svg xmlns=\"http://www.w3.org/2000/svg\" height=\"24px\"viewBox=\"0 0 24 24\"\n",
              "       width=\"24px\">\n",
              "    <path d=\"M0 0h24v24H0V0z\" fill=\"none\"/>\n",
              "    <path d=\"M18.56 5.44l.94 2.06.94-2.06 2.06-.94-2.06-.94-.94-2.06-.94 2.06-2.06.94zm-11 1L8.5 8.5l.94-2.06 2.06-.94-2.06-.94L8.5 2.5l-.94 2.06-2.06.94zm10 10l.94 2.06.94-2.06 2.06-.94-2.06-.94-.94-2.06-.94 2.06-2.06.94z\"/><path d=\"M17.41 7.96l-1.37-1.37c-.4-.4-.92-.59-1.43-.59-.52 0-1.04.2-1.43.59L10.3 9.45l-7.72 7.72c-.78.78-.78 2.05 0 2.83L4 21.41c.39.39.9.59 1.41.59.51 0 1.02-.2 1.41-.59l7.78-7.78 2.81-2.81c.8-.78.8-2.07 0-2.86zM5.41 20L4 18.59l7.72-7.72 1.47 1.35L5.41 20z\"/>\n",
              "  </svg>\n",
              "      </button>\n",
              "      \n",
              "  <style>\n",
              "    .colab-df-container {\n",
              "      display:flex;\n",
              "      flex-wrap:wrap;\n",
              "      gap: 12px;\n",
              "    }\n",
              "\n",
              "    .colab-df-convert {\n",
              "      background-color: #E8F0FE;\n",
              "      border: none;\n",
              "      border-radius: 50%;\n",
              "      cursor: pointer;\n",
              "      display: none;\n",
              "      fill: #1967D2;\n",
              "      height: 32px;\n",
              "      padding: 0 0 0 0;\n",
              "      width: 32px;\n",
              "    }\n",
              "\n",
              "    .colab-df-convert:hover {\n",
              "      background-color: #E2EBFA;\n",
              "      box-shadow: 0px 1px 2px rgba(60, 64, 67, 0.3), 0px 1px 3px 1px rgba(60, 64, 67, 0.15);\n",
              "      fill: #174EA6;\n",
              "    }\n",
              "\n",
              "    [theme=dark] .colab-df-convert {\n",
              "      background-color: #3B4455;\n",
              "      fill: #D2E3FC;\n",
              "    }\n",
              "\n",
              "    [theme=dark] .colab-df-convert:hover {\n",
              "      background-color: #434B5C;\n",
              "      box-shadow: 0px 1px 3px 1px rgba(0, 0, 0, 0.15);\n",
              "      filter: drop-shadow(0px 1px 2px rgba(0, 0, 0, 0.3));\n",
              "      fill: #FFFFFF;\n",
              "    }\n",
              "  </style>\n",
              "\n",
              "      <script>\n",
              "        const buttonEl =\n",
              "          document.querySelector('#df-cd2dfb2b-b5f3-4b1e-a685-52c675d59561 button.colab-df-convert');\n",
              "        buttonEl.style.display =\n",
              "          google.colab.kernel.accessAllowed ? 'block' : 'none';\n",
              "\n",
              "        async function convertToInteractive(key) {\n",
              "          const element = document.querySelector('#df-cd2dfb2b-b5f3-4b1e-a685-52c675d59561');\n",
              "          const dataTable =\n",
              "            await google.colab.kernel.invokeFunction('convertToInteractive',\n",
              "                                                     [key], {});\n",
              "          if (!dataTable) return;\n",
              "\n",
              "          const docLinkHtml = 'Like what you see? Visit the ' +\n",
              "            '<a target=\"_blank\" href=https://colab.research.google.com/notebooks/data_table.ipynb>data table notebook</a>'\n",
              "            + ' to learn more about interactive tables.';\n",
              "          element.innerHTML = '';\n",
              "          dataTable['output_type'] = 'display_data';\n",
              "          await google.colab.output.renderOutput(dataTable, element);\n",
              "          const docLink = document.createElement('div');\n",
              "          docLink.innerHTML = docLinkHtml;\n",
              "          element.appendChild(docLink);\n",
              "        }\n",
              "      </script>\n",
              "    </div>\n",
              "  </div>\n",
              "  "
            ]
          },
          "metadata": {},
          "execution_count": 6
        }
      ]
    },
    {
      "cell_type": "code",
      "source": [
        "my_data = data.iloc[0:2,2:].T.rename(columns={0: 'Date', 1: 'Value'}).set_index('Date')\n",
        "my_data.dtypes\n",
        "#iloc[0:2,2:]                             - нарезал нужные строки и столбцы\n",
        "#.T                                       - поверхул всё, т.е. транспонировал\n",
        "#.rename(columns={0: 'Date', 1: 'Value'}) - поменял названия столбцов\n",
        "# .set_index('Date')                      - сделал столбец с датами индексом"
      ],
      "metadata": {
        "colab": {
          "base_uri": "https://localhost:8080/"
        },
        "id": "v5ntXnWAF9-A",
        "outputId": "e161eaf4-b7b5-4e7e-a45f-118ea86833aa"
      },
      "execution_count": null,
      "outputs": [
        {
          "output_type": "execute_result",
          "data": {
            "text/plain": [
              "Value    object\n",
              "dtype: object"
            ]
          },
          "metadata": {},
          "execution_count": 7
        }
      ]
    },
    {
      "cell_type": "code",
      "source": [
        "my_data.shape[0]"
      ],
      "metadata": {
        "colab": {
          "base_uri": "https://localhost:8080/"
        },
        "id": "l3CQdNxvlpaG",
        "outputId": "0d49dccc-7320-483e-b395-7d9214cb109b"
      },
      "execution_count": null,
      "outputs": [
        {
          "output_type": "execute_result",
          "data": {
            "text/plain": [
              "48"
            ]
          },
          "metadata": {},
          "execution_count": 8
        }
      ]
    },
    {
      "cell_type": "code",
      "source": [
        "my_data.info()"
      ],
      "metadata": {
        "colab": {
          "base_uri": "https://localhost:8080/"
        },
        "id": "3mB6C2BZlu7f",
        "outputId": "5c6f1914-5e9f-4270-a76a-9e252037ef9a"
      },
      "execution_count": null,
      "outputs": [
        {
          "output_type": "stream",
          "name": "stdout",
          "text": [
            "<class 'pandas.core.frame.DataFrame'>\n",
            "DatetimeIndex: 48 entries, 2007-01-01 to 2010-12-01\n",
            "Data columns (total 1 columns):\n",
            " #   Column  Non-Null Count  Dtype \n",
            "---  ------  --------------  ----- \n",
            " 0   Value   48 non-null     object\n",
            "dtypes: object(1)\n",
            "memory usage: 768.0+ bytes\n"
          ]
        }
      ]
    },
    {
      "cell_type": "code",
      "source": [
        "my_data['Value'] = my_data['Value'].astype(float)"
      ],
      "metadata": {
        "id": "xtp2amqRlzoB"
      },
      "execution_count": null,
      "outputs": []
    },
    {
      "cell_type": "code",
      "source": [
        "my_data.info()"
      ],
      "metadata": {
        "colab": {
          "base_uri": "https://localhost:8080/"
        },
        "id": "M_UEy39fmE1k",
        "outputId": "d674c53b-5a17-4ffa-a087-9de5d7c318fe"
      },
      "execution_count": null,
      "outputs": [
        {
          "output_type": "stream",
          "name": "stdout",
          "text": [
            "<class 'pandas.core.frame.DataFrame'>\n",
            "DatetimeIndex: 48 entries, 2007-01-01 to 2010-12-01\n",
            "Data columns (total 1 columns):\n",
            " #   Column  Non-Null Count  Dtype  \n",
            "---  ------  --------------  -----  \n",
            " 0   Value   48 non-null     float64\n",
            "dtypes: float64(1)\n",
            "memory usage: 768.0 bytes\n"
          ]
        }
      ]
    },
    {
      "cell_type": "code",
      "source": [
        "my_data.loc['2007']"
      ],
      "metadata": {
        "colab": {
          "base_uri": "https://localhost:8080/",
          "height": 457
        },
        "id": "CtLVYCbbmHJu",
        "outputId": "600b4373-5f3a-4f7f-d5c0-e26d348f3456"
      },
      "execution_count": null,
      "outputs": [
        {
          "output_type": "execute_result",
          "data": {
            "text/plain": [
              "            Value\n",
              "Date             \n",
              "2007-01-01  26.45\n",
              "2007-02-01  23.89\n",
              "2007-03-01  25.95\n",
              "2007-04-01  30.03\n",
              "2007-05-01  28.96\n",
              "2007-06-01  25.58\n",
              "2007-07-01  25.96\n",
              "2007-08-01  30.56\n",
              "2007-09-01  29.67\n",
              "2007-10-01  30.46\n",
              "2007-11-01  28.60\n",
              "2007-12-01  31.73"
            ],
            "text/html": [
              "\n",
              "  <div id=\"df-9266450c-3287-4f5f-ad5b-944dd374ec0e\">\n",
              "    <div class=\"colab-df-container\">\n",
              "      <div>\n",
              "<style scoped>\n",
              "    .dataframe tbody tr th:only-of-type {\n",
              "        vertical-align: middle;\n",
              "    }\n",
              "\n",
              "    .dataframe tbody tr th {\n",
              "        vertical-align: top;\n",
              "    }\n",
              "\n",
              "    .dataframe thead th {\n",
              "        text-align: right;\n",
              "    }\n",
              "</style>\n",
              "<table border=\"1\" class=\"dataframe\">\n",
              "  <thead>\n",
              "    <tr style=\"text-align: right;\">\n",
              "      <th></th>\n",
              "      <th>Value</th>\n",
              "    </tr>\n",
              "    <tr>\n",
              "      <th>Date</th>\n",
              "      <th></th>\n",
              "    </tr>\n",
              "  </thead>\n",
              "  <tbody>\n",
              "    <tr>\n",
              "      <th>2007-01-01</th>\n",
              "      <td>26.45</td>\n",
              "    </tr>\n",
              "    <tr>\n",
              "      <th>2007-02-01</th>\n",
              "      <td>23.89</td>\n",
              "    </tr>\n",
              "    <tr>\n",
              "      <th>2007-03-01</th>\n",
              "      <td>25.95</td>\n",
              "    </tr>\n",
              "    <tr>\n",
              "      <th>2007-04-01</th>\n",
              "      <td>30.03</td>\n",
              "    </tr>\n",
              "    <tr>\n",
              "      <th>2007-05-01</th>\n",
              "      <td>28.96</td>\n",
              "    </tr>\n",
              "    <tr>\n",
              "      <th>2007-06-01</th>\n",
              "      <td>25.58</td>\n",
              "    </tr>\n",
              "    <tr>\n",
              "      <th>2007-07-01</th>\n",
              "      <td>25.96</td>\n",
              "    </tr>\n",
              "    <tr>\n",
              "      <th>2007-08-01</th>\n",
              "      <td>30.56</td>\n",
              "    </tr>\n",
              "    <tr>\n",
              "      <th>2007-09-01</th>\n",
              "      <td>29.67</td>\n",
              "    </tr>\n",
              "    <tr>\n",
              "      <th>2007-10-01</th>\n",
              "      <td>30.46</td>\n",
              "    </tr>\n",
              "    <tr>\n",
              "      <th>2007-11-01</th>\n",
              "      <td>28.60</td>\n",
              "    </tr>\n",
              "    <tr>\n",
              "      <th>2007-12-01</th>\n",
              "      <td>31.73</td>\n",
              "    </tr>\n",
              "  </tbody>\n",
              "</table>\n",
              "</div>\n",
              "      <button class=\"colab-df-convert\" onclick=\"convertToInteractive('df-9266450c-3287-4f5f-ad5b-944dd374ec0e')\"\n",
              "              title=\"Convert this dataframe to an interactive table.\"\n",
              "              style=\"display:none;\">\n",
              "        \n",
              "  <svg xmlns=\"http://www.w3.org/2000/svg\" height=\"24px\"viewBox=\"0 0 24 24\"\n",
              "       width=\"24px\">\n",
              "    <path d=\"M0 0h24v24H0V0z\" fill=\"none\"/>\n",
              "    <path d=\"M18.56 5.44l.94 2.06.94-2.06 2.06-.94-2.06-.94-.94-2.06-.94 2.06-2.06.94zm-11 1L8.5 8.5l.94-2.06 2.06-.94-2.06-.94L8.5 2.5l-.94 2.06-2.06.94zm10 10l.94 2.06.94-2.06 2.06-.94-2.06-.94-.94-2.06-.94 2.06-2.06.94z\"/><path d=\"M17.41 7.96l-1.37-1.37c-.4-.4-.92-.59-1.43-.59-.52 0-1.04.2-1.43.59L10.3 9.45l-7.72 7.72c-.78.78-.78 2.05 0 2.83L4 21.41c.39.39.9.59 1.41.59.51 0 1.02-.2 1.41-.59l7.78-7.78 2.81-2.81c.8-.78.8-2.07 0-2.86zM5.41 20L4 18.59l7.72-7.72 1.47 1.35L5.41 20z\"/>\n",
              "  </svg>\n",
              "      </button>\n",
              "      \n",
              "  <style>\n",
              "    .colab-df-container {\n",
              "      display:flex;\n",
              "      flex-wrap:wrap;\n",
              "      gap: 12px;\n",
              "    }\n",
              "\n",
              "    .colab-df-convert {\n",
              "      background-color: #E8F0FE;\n",
              "      border: none;\n",
              "      border-radius: 50%;\n",
              "      cursor: pointer;\n",
              "      display: none;\n",
              "      fill: #1967D2;\n",
              "      height: 32px;\n",
              "      padding: 0 0 0 0;\n",
              "      width: 32px;\n",
              "    }\n",
              "\n",
              "    .colab-df-convert:hover {\n",
              "      background-color: #E2EBFA;\n",
              "      box-shadow: 0px 1px 2px rgba(60, 64, 67, 0.3), 0px 1px 3px 1px rgba(60, 64, 67, 0.15);\n",
              "      fill: #174EA6;\n",
              "    }\n",
              "\n",
              "    [theme=dark] .colab-df-convert {\n",
              "      background-color: #3B4455;\n",
              "      fill: #D2E3FC;\n",
              "    }\n",
              "\n",
              "    [theme=dark] .colab-df-convert:hover {\n",
              "      background-color: #434B5C;\n",
              "      box-shadow: 0px 1px 3px 1px rgba(0, 0, 0, 0.15);\n",
              "      filter: drop-shadow(0px 1px 2px rgba(0, 0, 0, 0.3));\n",
              "      fill: #FFFFFF;\n",
              "    }\n",
              "  </style>\n",
              "\n",
              "      <script>\n",
              "        const buttonEl =\n",
              "          document.querySelector('#df-9266450c-3287-4f5f-ad5b-944dd374ec0e button.colab-df-convert');\n",
              "        buttonEl.style.display =\n",
              "          google.colab.kernel.accessAllowed ? 'block' : 'none';\n",
              "\n",
              "        async function convertToInteractive(key) {\n",
              "          const element = document.querySelector('#df-9266450c-3287-4f5f-ad5b-944dd374ec0e');\n",
              "          const dataTable =\n",
              "            await google.colab.kernel.invokeFunction('convertToInteractive',\n",
              "                                                     [key], {});\n",
              "          if (!dataTable) return;\n",
              "\n",
              "          const docLinkHtml = 'Like what you see? Visit the ' +\n",
              "            '<a target=\"_blank\" href=https://colab.research.google.com/notebooks/data_table.ipynb>data table notebook</a>'\n",
              "            + ' to learn more about interactive tables.';\n",
              "          element.innerHTML = '';\n",
              "          dataTable['output_type'] = 'display_data';\n",
              "          await google.colab.output.renderOutput(dataTable, element);\n",
              "          const docLink = document.createElement('div');\n",
              "          docLink.innerHTML = docLinkHtml;\n",
              "          element.appendChild(docLink);\n",
              "        }\n",
              "      </script>\n",
              "    </div>\n",
              "  </div>\n",
              "  "
            ]
          },
          "metadata": {},
          "execution_count": 12
        }
      ]
    },
    {
      "cell_type": "code",
      "source": [
        "pd.set_option('precision', 2)"
      ],
      "metadata": {
        "id": "hC9eUGYGmVKi"
      },
      "execution_count": null,
      "outputs": []
    },
    {
      "cell_type": "code",
      "source": [
        "my_data.describe()"
      ],
      "metadata": {
        "colab": {
          "base_uri": "https://localhost:8080/",
          "height": 301
        },
        "id": "zGsaKtxQmjcn",
        "outputId": "116e9eef-6e18-4bff-e04d-46cb7ed188cd"
      },
      "execution_count": null,
      "outputs": [
        {
          "output_type": "execute_result",
          "data": {
            "text/plain": [
              "       Value\n",
              "count  48.00\n",
              "mean   34.36\n",
              "std     5.44\n",
              "min    23.89\n",
              "25%    30.05\n",
              "50%    34.35\n",
              "75%    38.51\n",
              "max    45.18"
            ],
            "text/html": [
              "\n",
              "  <div id=\"df-46bc4414-1eeb-4aab-8422-f73e4574aa4d\">\n",
              "    <div class=\"colab-df-container\">\n",
              "      <div>\n",
              "<style scoped>\n",
              "    .dataframe tbody tr th:only-of-type {\n",
              "        vertical-align: middle;\n",
              "    }\n",
              "\n",
              "    .dataframe tbody tr th {\n",
              "        vertical-align: top;\n",
              "    }\n",
              "\n",
              "    .dataframe thead th {\n",
              "        text-align: right;\n",
              "    }\n",
              "</style>\n",
              "<table border=\"1\" class=\"dataframe\">\n",
              "  <thead>\n",
              "    <tr style=\"text-align: right;\">\n",
              "      <th></th>\n",
              "      <th>Value</th>\n",
              "    </tr>\n",
              "  </thead>\n",
              "  <tbody>\n",
              "    <tr>\n",
              "      <th>count</th>\n",
              "      <td>48.00</td>\n",
              "    </tr>\n",
              "    <tr>\n",
              "      <th>mean</th>\n",
              "      <td>34.36</td>\n",
              "    </tr>\n",
              "    <tr>\n",
              "      <th>std</th>\n",
              "      <td>5.44</td>\n",
              "    </tr>\n",
              "    <tr>\n",
              "      <th>min</th>\n",
              "      <td>23.89</td>\n",
              "    </tr>\n",
              "    <tr>\n",
              "      <th>25%</th>\n",
              "      <td>30.05</td>\n",
              "    </tr>\n",
              "    <tr>\n",
              "      <th>50%</th>\n",
              "      <td>34.35</td>\n",
              "    </tr>\n",
              "    <tr>\n",
              "      <th>75%</th>\n",
              "      <td>38.51</td>\n",
              "    </tr>\n",
              "    <tr>\n",
              "      <th>max</th>\n",
              "      <td>45.18</td>\n",
              "    </tr>\n",
              "  </tbody>\n",
              "</table>\n",
              "</div>\n",
              "      <button class=\"colab-df-convert\" onclick=\"convertToInteractive('df-46bc4414-1eeb-4aab-8422-f73e4574aa4d')\"\n",
              "              title=\"Convert this dataframe to an interactive table.\"\n",
              "              style=\"display:none;\">\n",
              "        \n",
              "  <svg xmlns=\"http://www.w3.org/2000/svg\" height=\"24px\"viewBox=\"0 0 24 24\"\n",
              "       width=\"24px\">\n",
              "    <path d=\"M0 0h24v24H0V0z\" fill=\"none\"/>\n",
              "    <path d=\"M18.56 5.44l.94 2.06.94-2.06 2.06-.94-2.06-.94-.94-2.06-.94 2.06-2.06.94zm-11 1L8.5 8.5l.94-2.06 2.06-.94-2.06-.94L8.5 2.5l-.94 2.06-2.06.94zm10 10l.94 2.06.94-2.06 2.06-.94-2.06-.94-.94-2.06-.94 2.06-2.06.94z\"/><path d=\"M17.41 7.96l-1.37-1.37c-.4-.4-.92-.59-1.43-.59-.52 0-1.04.2-1.43.59L10.3 9.45l-7.72 7.72c-.78.78-.78 2.05 0 2.83L4 21.41c.39.39.9.59 1.41.59.51 0 1.02-.2 1.41-.59l7.78-7.78 2.81-2.81c.8-.78.8-2.07 0-2.86zM5.41 20L4 18.59l7.72-7.72 1.47 1.35L5.41 20z\"/>\n",
              "  </svg>\n",
              "      </button>\n",
              "      \n",
              "  <style>\n",
              "    .colab-df-container {\n",
              "      display:flex;\n",
              "      flex-wrap:wrap;\n",
              "      gap: 12px;\n",
              "    }\n",
              "\n",
              "    .colab-df-convert {\n",
              "      background-color: #E8F0FE;\n",
              "      border: none;\n",
              "      border-radius: 50%;\n",
              "      cursor: pointer;\n",
              "      display: none;\n",
              "      fill: #1967D2;\n",
              "      height: 32px;\n",
              "      padding: 0 0 0 0;\n",
              "      width: 32px;\n",
              "    }\n",
              "\n",
              "    .colab-df-convert:hover {\n",
              "      background-color: #E2EBFA;\n",
              "      box-shadow: 0px 1px 2px rgba(60, 64, 67, 0.3), 0px 1px 3px 1px rgba(60, 64, 67, 0.15);\n",
              "      fill: #174EA6;\n",
              "    }\n",
              "\n",
              "    [theme=dark] .colab-df-convert {\n",
              "      background-color: #3B4455;\n",
              "      fill: #D2E3FC;\n",
              "    }\n",
              "\n",
              "    [theme=dark] .colab-df-convert:hover {\n",
              "      background-color: #434B5C;\n",
              "      box-shadow: 0px 1px 3px 1px rgba(0, 0, 0, 0.15);\n",
              "      filter: drop-shadow(0px 1px 2px rgba(0, 0, 0, 0.3));\n",
              "      fill: #FFFFFF;\n",
              "    }\n",
              "  </style>\n",
              "\n",
              "      <script>\n",
              "        const buttonEl =\n",
              "          document.querySelector('#df-46bc4414-1eeb-4aab-8422-f73e4574aa4d button.colab-df-convert');\n",
              "        buttonEl.style.display =\n",
              "          google.colab.kernel.accessAllowed ? 'block' : 'none';\n",
              "\n",
              "        async function convertToInteractive(key) {\n",
              "          const element = document.querySelector('#df-46bc4414-1eeb-4aab-8422-f73e4574aa4d');\n",
              "          const dataTable =\n",
              "            await google.colab.kernel.invokeFunction('convertToInteractive',\n",
              "                                                     [key], {});\n",
              "          if (!dataTable) return;\n",
              "\n",
              "          const docLinkHtml = 'Like what you see? Visit the ' +\n",
              "            '<a target=\"_blank\" href=https://colab.research.google.com/notebooks/data_table.ipynb>data table notebook</a>'\n",
              "            + ' to learn more about interactive tables.';\n",
              "          element.innerHTML = '';\n",
              "          dataTable['output_type'] = 'display_data';\n",
              "          await google.colab.output.renderOutput(dataTable, element);\n",
              "          const docLink = document.createElement('div');\n",
              "          docLink.innerHTML = docLinkHtml;\n",
              "          element.appendChild(docLink);\n",
              "        }\n",
              "      </script>\n",
              "    </div>\n",
              "  </div>\n",
              "  "
            ]
          },
          "metadata": {},
          "execution_count": 14
        }
      ]
    },
    {
      "cell_type": "markdown",
      "source": [
        "**14.\t Рассчитайте коэффициенты дифференциации:**"
      ],
      "metadata": {
        "id": "iZ9aVM9yRoEx"
      }
    },
    {
      "cell_type": "markdown",
      "source": [
        "***Коэффициенты дифференциации*** – децильный (K_D), квартильный (K_Q) – показывают, во сколько раз нижняя граница 10% (25%) лучших превосходит верхнюю границу 10% (25%) худших значений измеряемого признака.\n",
        "\n",
        "K_D=D_9/D_1\n",
        "\n",
        "K_Q=Q_3/Q_1\n",
        "\n",
        "Воспользуйтесь функцией quantile() для вычисления необходимых квантилей.\n"
      ],
      "metadata": {
        "id": "6M0v-GyUSHNL"
      }
    },
    {
      "cell_type": "code",
      "source": [
        "d1=my_data.quantile(0.1) # нижний квантиль\n",
        "d1"
      ],
      "metadata": {
        "colab": {
          "base_uri": "https://localhost:8080/"
        },
        "id": "EUzcILB9mrVM",
        "outputId": "efc7b0cd-ed29-405b-bcfa-940d9f1a182a"
      },
      "execution_count": null,
      "outputs": [
        {
          "output_type": "execute_result",
          "data": {
            "text/plain": [
              "Value    27.44\n",
              "Name: 0.1, dtype: float64"
            ]
          },
          "metadata": {},
          "execution_count": 15
        }
      ]
    },
    {
      "cell_type": "code",
      "source": [
        "d9=my_data.quantile(0.9) # верхний квантиль\n",
        "d9"
      ],
      "metadata": {
        "colab": {
          "base_uri": "https://localhost:8080/"
        },
        "id": "TEMVpzoDnsNr",
        "outputId": "89b63a75-24c3-4e1b-cfe8-f7d2f798f207"
      },
      "execution_count": null,
      "outputs": [
        {
          "output_type": "execute_result",
          "data": {
            "text/plain": [
              "Value    41.27\n",
              "Name: 0.9, dtype: float64"
            ]
          },
          "metadata": {},
          "execution_count": 17
        }
      ]
    },
    {
      "cell_type": "code",
      "source": [
        "kd=d9/d1 # коэффициент дифференциации\n",
        "kd"
      ],
      "metadata": {
        "colab": {
          "base_uri": "https://localhost:8080/"
        },
        "id": "MMUV8N7qn0S2",
        "outputId": "4790a9b6-9967-46be-cfba-985ee24b3b0a"
      },
      "execution_count": null,
      "outputs": [
        {
          "output_type": "execute_result",
          "data": {
            "text/plain": [
              "Value    1.5\n",
              "dtype: float64"
            ]
          },
          "metadata": {},
          "execution_count": 18
        }
      ]
    },
    {
      "cell_type": "code",
      "source": [
        "q1=my_data.quantile(0.25)\n",
        "q1"
      ],
      "metadata": {
        "colab": {
          "base_uri": "https://localhost:8080/"
        },
        "outputId": "862d1681-1521-4d66-884f-a0547d9fea2d",
        "id": "wr3QsYEqoHiP"
      },
      "execution_count": null,
      "outputs": [
        {
          "output_type": "execute_result",
          "data": {
            "text/plain": [
              "Value    30.05\n",
              "Name: 0.25, dtype: float64"
            ]
          },
          "metadata": {},
          "execution_count": 19
        }
      ]
    },
    {
      "cell_type": "code",
      "source": [
        "q3=my_data.quantile(0.75)\n",
        "q3"
      ],
      "metadata": {
        "colab": {
          "base_uri": "https://localhost:8080/"
        },
        "outputId": "82878699-6293-44e8-a00b-e2bc7e7f53b9",
        "id": "pcXwPgy3oHiP"
      },
      "execution_count": null,
      "outputs": [
        {
          "output_type": "execute_result",
          "data": {
            "text/plain": [
              "Value    38.51\n",
              "Name: 0.75, dtype: float64"
            ]
          },
          "metadata": {},
          "execution_count": 20
        }
      ]
    },
    {
      "cell_type": "code",
      "source": [
        "kd=q3/q1\n",
        "kd"
      ],
      "metadata": {
        "colab": {
          "base_uri": "https://localhost:8080/"
        },
        "outputId": "34735338-d5c0-4209-eba9-dafd3bf90216",
        "id": "Vs9HqtScoHiP"
      },
      "execution_count": null,
      "outputs": [
        {
          "output_type": "execute_result",
          "data": {
            "text/plain": [
              "Value    1.28\n",
              "dtype: float64"
            ]
          },
          "metadata": {},
          "execution_count": 21
        }
      ]
    },
    {
      "cell_type": "markdown",
      "source": [
        "**15. Рассчитайте коэффициент фондов.**\n",
        "\n",
        "***Коэффициент фондов (K_F)*** – показывает, во сколько раз среднее самых больших значений (x ̅_2, рассчитанное по 10% верхнего диапазона) больше среднего самых малых значений (x ̅_1, рассчитанное по 10% нижнего диапазона).\n",
        "\n",
        "K_F=x ̅_2/x ̅_1\n"
      ],
      "metadata": {
        "id": "XbfTIEWQSyKY"
      }
    },
    {
      "cell_type": "code",
      "source": [
        "#Коэффициент фондов:\n",
        "mu=my_data['Value'][my_data['Value']>=my_data['Value'].quantile(0.9)].mean()\n",
        "mu # нашли среднее значение для 10% наибольших данных"
      ],
      "metadata": {
        "colab": {
          "base_uri": "https://localhost:8080/"
        },
        "id": "hJuEZkDt4Tvs",
        "outputId": "2a302c6d-dc48-4458-ea69-27e7e4dda79d"
      },
      "execution_count": null,
      "outputs": [
        {
          "output_type": "execute_result",
          "data": {
            "text/plain": [
              "43.64200000000001"
            ]
          },
          "metadata": {},
          "execution_count": 68
        }
      ]
    },
    {
      "cell_type": "code",
      "source": [
        "ml=my_data['Value'][my_data['Value']<=my_data['Value'].quantile(0.1)].mean()\n",
        "ml # нашли среднее значение для 10% наименьших данных\n"
      ],
      "metadata": {
        "colab": {
          "base_uri": "https://localhost:8080/"
        },
        "id": "3As7s8-74_5i",
        "outputId": "7cefbe08-a69a-47dd-bb69-3a2e844e7bf3"
      },
      "execution_count": null,
      "outputs": [
        {
          "output_type": "execute_result",
          "data": {
            "text/plain": [
              "25.566000000000003"
            ]
          },
          "metadata": {},
          "execution_count": 69
        }
      ]
    },
    {
      "cell_type": "code",
      "source": [
        "kf=mu/ml # коэффициент фондов\n",
        "kf"
      ],
      "metadata": {
        "colab": {
          "base_uri": "https://localhost:8080/"
        },
        "id": "LFDn-7uh5OCb",
        "outputId": "2e58af59-644f-455c-f170-5706b91bdc27"
      },
      "execution_count": null,
      "outputs": [
        {
          "output_type": "execute_result",
          "data": {
            "text/plain": [
              "1.7070327779081595"
            ]
          },
          "metadata": {},
          "execution_count": 70
        }
      ]
    },
    {
      "cell_type": "code",
      "source": [
        "array=data.values"
      ],
      "metadata": {
        "id": "TZLzfoA3vFWU"
      },
      "execution_count": null,
      "outputs": []
    },
    {
      "cell_type": "code",
      "source": [
        "X = my_data.values[:,0]"
      ],
      "metadata": {
        "id": "bE3-U1FIvfIl"
      },
      "execution_count": null,
      "outputs": []
    },
    {
      "cell_type": "code",
      "source": [
        "X.sort() # сортируем данные от меньшего к большему\n",
        "X"
      ],
      "metadata": {
        "colab": {
          "base_uri": "https://localhost:8080/"
        },
        "id": "u2PnTX-ovu8q",
        "outputId": "84ed8d35-8031-4724-c700-7bbbd96945b9"
      },
      "execution_count": null,
      "outputs": [
        {
          "output_type": "execute_result",
          "data": {
            "text/plain": [
              "array([23.89, 25.58, 25.95, 25.96, 26.45, 27.87, 28.  , 28.6 , 28.96,\n",
              "       29.67, 29.87, 30.03, 30.06, 30.46, 30.56, 31.09, 31.18, 31.57,\n",
              "       31.73, 32.22, 33.85, 33.99, 34.01, 34.21, 34.49, 34.56, 35.49,\n",
              "       35.92, 36.  , 36.08, 36.2 , 37.36, 37.5 , 37.74, 38.01, 38.27,\n",
              "       39.21, 39.43, 39.51, 39.62, 39.68, 39.69, 40.75, 42.49, 42.84,\n",
              "       43.5 , 44.2 , 45.18])"
            ]
          },
          "metadata": {},
          "execution_count": 17
        }
      ]
    },
    {
      "cell_type": "code",
      "source": [
        "first = int(len(X)*0.1) # расшифровка: нашли сколько значений составляют 10% данных\n",
        "first"
      ],
      "metadata": {
        "colab": {
          "base_uri": "https://localhost:8080/"
        },
        "id": "Fe_p4S1Mv6h4",
        "outputId": "1b4bf80c-004e-402f-d2d1-1f3784b4383c"
      },
      "execution_count": null,
      "outputs": [
        {
          "output_type": "execute_result",
          "data": {
            "text/plain": [
              "4"
            ]
          },
          "metadata": {},
          "execution_count": 18
        }
      ]
    },
    {
      "cell_type": "code",
      "source": [
        "lust = int(len(X)*0.9) # расшифровка: нашли сколько значений составляют 90% данных\n",
        "lust"
      ],
      "metadata": {
        "colab": {
          "base_uri": "https://localhost:8080/"
        },
        "id": "pq8fgatMwONl",
        "outputId": "3f3e25b4-ac9f-4946-bcc2-b8b133f87e23"
      },
      "execution_count": null,
      "outputs": [
        {
          "output_type": "execute_result",
          "data": {
            "text/plain": [
              "43"
            ]
          },
          "metadata": {},
          "execution_count": 19
        }
      ]
    },
    {
      "cell_type": "code",
      "source": [
        "first10 = X[0:first] # выводим 10% минимальных значений\n",
        "first10"
      ],
      "metadata": {
        "colab": {
          "base_uri": "https://localhost:8080/"
        },
        "id": "tdPYnIDjxANU",
        "outputId": "f83f3353-8d00-41eb-eed4-e6ca62460ae5"
      },
      "execution_count": null,
      "outputs": [
        {
          "output_type": "execute_result",
          "data": {
            "text/plain": [
              "array([23.89, 25.58, 25.95, 25.96])"
            ]
          },
          "metadata": {},
          "execution_count": 20
        }
      ]
    },
    {
      "cell_type": "code",
      "source": [
        "lust10 = X[lust:len(X)] # выводим 10% максимальных значений\n",
        "lust10"
      ],
      "metadata": {
        "colab": {
          "base_uri": "https://localhost:8080/"
        },
        "id": "PB-SwXeWxIjc",
        "outputId": "90081526-4d97-47be-8a84-1f7ad79fd6b7"
      },
      "execution_count": null,
      "outputs": [
        {
          "output_type": "execute_result",
          "data": {
            "text/plain": [
              "array([42.49, 42.84, 43.5 , 44.2 , 45.18])"
            ]
          },
          "metadata": {},
          "execution_count": 21
        }
      ]
    },
    {
      "cell_type": "markdown",
      "source": [
        "# **Раздел 2. Первичный анализ данных с использованием визуализации**"
      ],
      "metadata": {
        "id": "ZKD1WLmNXcGn"
      }
    },
    {
      "cell_type": "markdown",
      "source": [
        "**15.\t Постройте линейный график, воспользовавшись функцией plot() и функцией show() из модуля matplotlib.pyplot. Прокомментируйте результат.**\n",
        "\n",
        "**16.\t Попробуйте изменить стиль графика, задав функцию plot(style='k.'), чтобы получить точечный график, и функцию plot(style='k--'), чтобы получить пунктирную линию.**"
      ],
      "metadata": {
        "id": "fjjuwCCiXcGs"
      }
    },
    {
      "cell_type": "code",
      "source": [
        "my_data.plot()\n",
        "plt.show()"
      ],
      "metadata": {
        "colab": {
          "base_uri": "https://localhost:8080/",
          "height": 291
        },
        "id": "4oSk6rL8qJVv",
        "outputId": "1ceb5363-dbce-4221-d9b7-0c4687566fb4"
      },
      "execution_count": null,
      "outputs": [
        {
          "output_type": "display_data",
          "data": {
            "text/plain": [
              "<Figure size 432x288 with 1 Axes>"
            ],
            "image/png": "[encoded data removed]"
          },
          "metadata": {
            "needs_background": "light"
          }
        }
      ]
    },
    {
      "cell_type": "code",
      "source": [
        "my_data.plot(style='k.')\n",
        "plt.show()"
      ],
      "metadata": {
        "colab": {
          "base_uri": "https://localhost:8080/",
          "height": 291
        },
        "outputId": "5e67b257-21c6-4679-cca3-b75c646ef9db",
        "id": "R5bKM8a_qqnu"
      },
      "execution_count": null,
      "outputs": [
        {
          "output_type": "display_data",
          "data": {
            "text/plain": [
              "<Figure size 432x288 with 1 Axes>"
            ],
            "image/png": "[encoded data removed]"
          },
          "metadata": {
            "needs_background": "light"
          }
        }
      ]
    },
    {
      "cell_type": "code",
      "source": [
        "my_data.plot(style='k--')\n",
        "plt.show()"
      ],
      "metadata": {
        "colab": {
          "base_uri": "https://localhost:8080/",
          "height": 291
        },
        "outputId": "a48ca0a3-32a2-4040-9870-d41ac1b174ae",
        "id": "Fb1Z0ECxqy4d"
      },
      "execution_count": null,
      "outputs": [
        {
          "output_type": "display_data",
          "data": {
            "text/plain": [
              "<Figure size 432x288 with 1 Axes>"
            ],
            "image/png": "[encoded data removed]"
          },
          "metadata": {
            "needs_background": "light"
          }
        }
      ]
    },
    {
      "cell_type": "markdown",
      "source": [
        "**17.\t Превратите объект DataFrame в переменной df в объект Series с помощью функции squeeze(). Результат запишите в переменную series.**\n",
        "\n",
        "**18.\t Постройте сгруппированные по годам линейные графики. Это потребует выполнения следующих действий:**\n",
        "\n",
        "**18.1.\tУбедитесь в том, что Вы работаете с объектом Series, а не DataFrame. Превратить таблицу с одним столбцом целевых значений в объект Series можно с помощью функции squeeze()**\n",
        "\n",
        "**18.2.\tИмпортируйте функции DataFrame и Grouper из модуля pandas.**\n",
        "\n",
        "**18.3.\tСгруппируйте временной ряд по годам с помощью функции groupby(Grouper(freq='A')) и поместите результат в переменную groups.**\n",
        "\n",
        "**18.4.\tСоздайте пустую таблицу данных с помощью функции DataFrame() и поместите результат в переменную years.**\n",
        "\n",
        "**18.5.\tС помощью команды for, перебирая период (name) и данные (group), содержащиеся в переменной groups, создайте в таблице данных years столбцы для каждого года (name.year), заполненные соответствующими данными о ценах на материал 1 (group.values).**\n",
        "\n",
        "**18.6.\tПостройте линейные графики друг под другом для всех годов, воспользовавшись функцией plot(subplots=True, legend=True) и функцией show() из модуля matplotlib.pyplot. Настроить график можно с помощью модуля matplotlib.**\n"
      ],
      "metadata": {
        "id": "v3fY9uVRdSrt"
      }
    },
    {
      "cell_type": "code",
      "source": [
        "series=my_data.squeeze() # превращаем DataFrame в Series\n",
        "# type(series)\n",
        "series.sample(4)"
      ],
      "metadata": {
        "colab": {
          "base_uri": "https://localhost:8080/"
        },
        "id": "8TWXI-dsrNSp",
        "outputId": "ff470b39-2ba0-4955-8b9c-59001585c007"
      },
      "execution_count": null,
      "outputs": [
        {
          "output_type": "execute_result",
          "data": {
            "text/plain": [
              "Date\n",
              "2010-06-01    39.69\n",
              "2010-04-01    39.62\n",
              "2008-07-01    31.73\n",
              "2007-09-01    28.96\n",
              "Name: Value, dtype: float64"
            ]
          },
          "metadata": {},
          "execution_count": 24
        }
      ]
    },
    {
      "cell_type": "code",
      "source": [
        "series"
      ],
      "metadata": {
        "colab": {
          "base_uri": "https://localhost:8080/"
        },
        "id": "zKOOwj6QZwRm",
        "outputId": "31f8b199-bbcd-48d3-b7c2-e3996a4f80e6"
      },
      "execution_count": null,
      "outputs": [
        {
          "output_type": "execute_result",
          "data": {
            "text/plain": [
              "Date\n",
              "2007-01-01    23.89\n",
              "2007-02-01    25.58\n",
              "2007-03-01    25.95\n",
              "2007-04-01    25.96\n",
              "2007-05-01    26.45\n",
              "2007-06-01    27.87\n",
              "2007-07-01    28.00\n",
              "2007-08-01    28.60\n",
              "2007-09-01    28.96\n",
              "2007-10-01    29.67\n",
              "2007-11-01    29.87\n",
              "2007-12-01    30.03\n",
              "2008-01-01    30.06\n",
              "2008-02-01    30.46\n",
              "2008-03-01    30.56\n",
              "2008-04-01    31.09\n",
              "2008-05-01    31.18\n",
              "2008-06-01    31.57\n",
              "2008-07-01    31.73\n",
              "2008-08-01    32.22\n",
              "2008-09-01    33.85\n",
              "2008-10-01    33.99\n",
              "2008-11-01    34.01\n",
              "2008-12-01    34.21\n",
              "2009-01-01    34.49\n",
              "2009-02-01    34.56\n",
              "2009-03-01    35.49\n",
              "2009-04-01    35.92\n",
              "2009-05-01    36.00\n",
              "2009-06-01    36.08\n",
              "2009-07-01    36.20\n",
              "2009-08-01    37.36\n",
              "2009-09-01    37.50\n",
              "2009-10-01    37.74\n",
              "2009-11-01    38.01\n",
              "2009-12-01    38.27\n",
              "2010-01-01    39.21\n",
              "2010-02-01    39.43\n",
              "2010-03-01    39.51\n",
              "2010-04-01    39.62\n",
              "2010-05-01    39.68\n",
              "2010-06-01    39.69\n",
              "2010-07-01    40.75\n",
              "2010-08-01    42.49\n",
              "2010-09-01    42.84\n",
              "2010-10-01    43.50\n",
              "2010-11-01    44.20\n",
              "2010-12-01    45.18\n",
              "Name: Value, dtype: float64"
            ]
          },
          "metadata": {},
          "execution_count": 25
        }
      ]
    },
    {
      "cell_type": "code",
      "source": [
        "# группируем по годам\n",
        "groups=series.groupby(Grouper(freq='A')) # 'A' - значит разбтвка по годам"
      ],
      "metadata": {
        "id": "kLKlaBTFr8DQ"
      },
      "execution_count": null,
      "outputs": []
    },
    {
      "cell_type": "code",
      "source": [
        "groups"
      ],
      "metadata": {
        "colab": {
          "base_uri": "https://localhost:8080/"
        },
        "id": "4ojEZsLRMA8s",
        "outputId": "da74db63-f076-4e7f-85b1-accf83394876"
      },
      "execution_count": null,
      "outputs": [
        {
          "output_type": "execute_result",
          "data": {
            "text/plain": [
              "<pandas.core.groupby.generic.SeriesGroupBy object at 0x7fdcfb3a1f90>"
            ]
          },
          "metadata": {},
          "execution_count": 30
        }
      ]
    },
    {
      "cell_type": "code",
      "source": [
        "years=DataFrame() # создаем пустой DataFrame"
      ],
      "metadata": {
        "id": "2fqzxi1zsPVw"
      },
      "execution_count": null,
      "outputs": []
    },
    {
      "cell_type": "markdown",
      "source": [
        "# **!!! Разбиваем с помощью for данные по годам и строим график**"
      ],
      "metadata": {
        "id": "ML9aAWwr6lYU"
      }
    },
    {
      "cell_type": "code",
      "source": [
        "for i, j in groups: # выводим графики для данных по годам\n",
        "  years[i.year]=j.values\n",
        "years.plot(subplots=True, legend=True)\n",
        "plt.show()"
      ],
      "metadata": {
        "colab": {
          "base_uri": "https://localhost:8080/",
          "height": 267
        },
        "id": "8WAnlZZeem3V",
        "outputId": "0a469d5f-2ff9-4c36-91c3-62e47bd2273b"
      },
      "execution_count": null,
      "outputs": [
        {
          "output_type": "display_data",
          "data": {
            "text/plain": [
              "<Figure size 432x288 with 4 Axes>"
            ],
            "image/png": "[encoded data removed]"
          },
          "metadata": {
            "needs_background": "light"
          }
        }
      ]
    },
    {
      "cell_type": "code",
      "source": [
        "for name, group in groups:\n",
        "  years[name.year]=group.values\n",
        "years.plot(subplots=True, legend=True)\n",
        "plt.show()"
      ],
      "metadata": {
        "colab": {
          "base_uri": "https://localhost:8080/",
          "height": 267
        },
        "id": "C_mt46UtsaFp",
        "outputId": "fe2bde46-6edc-4d72-c179-00915d777528"
      },
      "execution_count": null,
      "outputs": [
        {
          "output_type": "display_data",
          "data": {
            "text/plain": [
              "<Figure size 432x288 with 4 Axes>"
            ],
            "image/png": "[encoded data removed]"
          },
          "metadata": {
            "needs_background": "light"
          }
        }
      ]
    },
    {
      "cell_type": "markdown",
      "source": [
        "**19.\t Постройте гистограмму для временного ряда, воспользовавшись функцией hist() и функцией show() из модуля matplotlib.pyplot. Прокомментируйте результат.**"
      ],
      "metadata": {
        "id": "ByJUaIl8gqgo"
      }
    },
    {
      "cell_type": "code",
      "source": [
        "my_data.hist()\n",
        "plt.show()"
      ],
      "metadata": {
        "colab": {
          "base_uri": "https://localhost:8080/",
          "height": 281
        },
        "id": "ORCnK9g-s6qW",
        "outputId": "8f91e4c9-821e-4367-d3b5-160efbc73543"
      },
      "execution_count": null,
      "outputs": [
        {
          "output_type": "display_data",
          "data": {
            "text/plain": [
              "<Figure size 432x288 with 1 Axes>"
            ],
            "image/png": "[encoded data removed]"
          },
          "metadata": {
            "needs_background": "light"
          }
        }
      ]
    },
    {
      "cell_type": "markdown",
      "source": [
        "**20.\t Постройте ядерную функцию плотности, воспользовавшись функцией plot(kind='kde') и функцией show() из модуля matplotlib.pyplot. Прокомментируйте результат.**"
      ],
      "metadata": {
        "id": "33ehTJh1gvKB"
      }
    },
    {
      "cell_type": "code",
      "source": [
        "my_data.plot(kind='kde')\n",
        "plt.show()"
      ],
      "metadata": {
        "colab": {
          "base_uri": "https://localhost:8080/",
          "height": 267
        },
        "id": "BO6RlSObtkWf",
        "outputId": "c512e808-1fe8-4b49-cebd-e6e03757e6ca"
      },
      "execution_count": null,
      "outputs": [
        {
          "output_type": "display_data",
          "data": {
            "text/plain": [
              "<Figure size 432x288 with 1 Axes>"
            ],
            "image/png": "[encoded data removed]"
          },
          "metadata": {
            "needs_background": "light"
          }
        }
      ]
    },
    {
      "cell_type": "markdown",
      "source": [
        "**21.\t Постройте ящики с усами с разбивкой по годам, воспользовавшись функцией boxplot(), примененной к содержимому переменной years, и функцией show() из модуля matplotlib.pyplot. Прокомментируйте результат.**"
      ],
      "metadata": {
        "id": "tw405PU7g1-o"
      }
    },
    {
      "cell_type": "code",
      "source": [
        "years.boxplot()\n",
        "plt.show()"
      ],
      "metadata": {
        "colab": {
          "base_uri": "https://localhost:8080/",
          "height": 265
        },
        "id": "Mw3cd9xDtvca",
        "outputId": "3a0bea57-f1f6-49e0-9f14-3d5123b17d3e"
      },
      "execution_count": null,
      "outputs": [
        {
          "output_type": "display_data",
          "data": {
            "text/plain": [
              "<Figure size 432x288 with 1 Axes>"
            ],
            "image/png": "[encoded data removed]"
          },
          "metadata": {
            "needs_background": "light"
          }
        }
      ]
    },
    {
      "cell_type": "markdown",
      "source": [
        "**22.\t Постройте тепловую карту с разбивкой по годам, воспользовавшись функцией matshow(years.T, interpolation=None, aspect='auto') из модуля matplotlib.pyplot, примененной к транспонированному содержимому переменной years, и функцией show() из модуля matplotlib.pyplot. Прокомментируйте результат.**"
      ],
      "metadata": {
        "id": "bcAOTdlIg_NB"
      }
    },
    {
      "cell_type": "code",
      "source": [
        "plt.matshow(years.T, interpolation=None, aspect='auto')\n",
        "\n",
        "plt.show()"
      ],
      "metadata": {
        "colab": {
          "base_uri": "https://localhost:8080/",
          "height": 275
        },
        "id": "u6Xg_XdUuCdu",
        "outputId": "44498e45-e51b-4bc8-e6be-2ea9a7d3b0ca"
      },
      "execution_count": null,
      "outputs": [
        {
          "output_type": "display_data",
          "data": {
            "text/plain": [
              "<Figure size 864x288 with 1 Axes>"
            ],
            "image/png": "[encoded data removed]"
          },
          "metadata": {
            "needs_background": "light"
          }
        }
      ]
    },
    {
      "cell_type": "code",
      "source": [],
      "metadata": {
        "id": "KB7Ja_Xtu4ko"
      },
      "execution_count": null,
      "outputs": []
    }
  ]
}