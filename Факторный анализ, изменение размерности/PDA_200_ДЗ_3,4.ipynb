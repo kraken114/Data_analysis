{
  "nbformat": 4,
  "nbformat_minor": 0,
  "metadata": {
    "colab": {
      "provenance": []
    },
    "kernelspec": {
      "name": "python3",
      "display_name": "Python 3"
    },
    "language_info": {
      "name": "python"
    }
  },
  "cells": [
    {
      "cell_type": "markdown",
      "source": [
        "# **ЗАДАНИЕ 3. ПРЕДВАРИТЕЛЬНАЯ ОБРАБОТКА ДАННЫХ И ОТБОР ПРИЗНАКОВ**"
      ],
      "metadata": {
        "id": "5x1E57P7lCdy"
      }
    },
    {
      "cell_type": "markdown",
      "source": [
        "На основе данных о диабете индейцев пима проведите предварительную обработку данных и отбор признаков.\n",
        "Постарайтесь максимально автоматизировать все вычисления, использовать существующие модули среды программирования Python.\n"
      ],
      "metadata": {
        "id": "k_1-14eDbqmW"
      }
    },
    {
      "cell_type": "code",
      "execution_count": null,
      "metadata": {
        "id": "dfzgTehh_oZ7"
      },
      "outputs": [],
      "source": [
        "from google.colab import drive"
      ]
    },
    {
      "cell_type": "code",
      "source": [
        "drive.mount('/content/gdrive')"
      ],
      "metadata": {
        "id": "ByQhF-mt_1fH",
        "colab": {
          "base_uri": "https://localhost:8080/"
        },
        "outputId": "9157ba12-9dc0-40c5-c2af-decd24ed7367"
      },
      "execution_count": null,
      "outputs": [
        {
          "output_type": "stream",
          "name": "stdout",
          "text": [
            "Mounted at /content/gdrive\n"
          ]
        }
      ]
    },
    {
      "cell_type": "code",
      "source": [
        "import os"
      ],
      "metadata": {
        "id": "aKdYwD4w_-B7"
      },
      "execution_count": null,
      "outputs": []
    },
    {
      "cell_type": "code",
      "source": [
        "from pandas import read_csv"
      ],
      "metadata": {
        "id": "pwhugvw6Aad9"
      },
      "execution_count": null,
      "outputs": []
    },
    {
      "cell_type": "code",
      "source": [
        "from numpy import set_printoptions"
      ],
      "metadata": {
        "id": "wQJB6oxfAe0M"
      },
      "execution_count": null,
      "outputs": []
    },
    {
      "cell_type": "code",
      "source": [
        "from sklearn.preprocessing import MinMaxScaler # масштабирует в интервал от 0 до 1"
      ],
      "metadata": {
        "id": "ejqIbxjuAqJz"
      },
      "execution_count": null,
      "outputs": []
    },
    {
      "cell_type": "code",
      "source": [
        "from sklearn.preprocessing import StandardScaler"
      ],
      "metadata": {
        "id": "5DLFtrCsA7EW"
      },
      "execution_count": null,
      "outputs": []
    },
    {
      "cell_type": "code",
      "source": [
        "from sklearn.preprocessing import Normalizer"
      ],
      "metadata": {
        "id": "DtFjw6wNBD1O"
      },
      "execution_count": null,
      "outputs": []
    },
    {
      "cell_type": "code",
      "source": [
        "from sklearn.preprocessing import Binarizer"
      ],
      "metadata": {
        "id": "DrbFdtLSBLB2"
      },
      "execution_count": null,
      "outputs": []
    },
    {
      "cell_type": "code",
      "source": [
        "from sklearn.feature_selection import SelectKBest"
      ],
      "metadata": {
        "id": "plIUUbo9BPSW"
      },
      "execution_count": null,
      "outputs": []
    },
    {
      "cell_type": "code",
      "source": [
        "from sklearn.feature_selection import f_classif"
      ],
      "metadata": {
        "id": "m5-Sq3J2BlJG"
      },
      "execution_count": null,
      "outputs": []
    },
    {
      "cell_type": "code",
      "source": [
        "from sklearn.feature_selection import RFE"
      ],
      "metadata": {
        "id": "dH4EY67FBtT5"
      },
      "execution_count": null,
      "outputs": []
    },
    {
      "cell_type": "code",
      "source": [
        "from sklearn.linear_model import LogisticRegression"
      ],
      "metadata": {
        "id": "BNPFdg3SBvUi"
      },
      "execution_count": null,
      "outputs": []
    },
    {
      "cell_type": "code",
      "source": [
        "from sklearn.decomposition import PCA"
      ],
      "metadata": {
        "id": "tuFomwIMCPql"
      },
      "execution_count": null,
      "outputs": []
    },
    {
      "cell_type": "code",
      "source": [
        "from sklearn.ensemble import ExtraTreesClassifier"
      ],
      "metadata": {
        "id": "WhbozRWcCUf5"
      },
      "execution_count": null,
      "outputs": []
    },
    {
      "cell_type": "code",
      "source": [
        "os.chdir('/content/gdrive/MyDrive/Colab Notebooks/наборы данных/')"
      ],
      "metadata": {
        "id": "7ppcdwIACr88"
      },
      "execution_count": null,
      "outputs": []
    },
    {
      "cell_type": "markdown",
      "source": [
        "**Методика выполнения задания:**"
      ],
      "metadata": {
        "id": "3yZ7k0xDbv8W"
      }
    },
    {
      "cell_type": "markdown",
      "source": [
        "# **Раздел 1. Предварительная обработка данных**"
      ],
      "metadata": {
        "id": "6UlQ5e4pbyhq"
      }
    },
    {
      "cell_type": "markdown",
      "source": [
        "**ДАТАСЕТ С ГРИБАМИ**"
      ],
      "metadata": {
        "id": "slnE5tdirpl3"
      }
    },
    {
      "cell_type": "markdown",
      "source": [
        "**1.Укажите путь к рабочей папке, где хранятся данные, с помощью функции chdir() из модуля os.**\n",
        "\n",
        "**2. Загрузите данные файла pima-indians-diabetes.data.csv с помощью функции read_csv() из модуля pandas. Посмотрите на первые 5 наблюдений с помощью функции head().**"
      ],
      "metadata": {
        "id": "gffYo0wRb3k7"
      }
    },
    {
      "cell_type": "code",
      "source": [
        "filename='agaricus-lepiota.data'\n",
        "names=['class', 'cap_shape', 'cap_surface','cap_color', 'bruises', 'odor', 'gill_attachment',\n",
        "'gill_spacing', 'gill_size', 'gill_color', 'stalk_shape',\n",
        "'stalk_root', 'stalk_surface_above_ring',\n",
        "'stalk_surface_below_ring', 'stalk_color_above_ring',\n",
        "'stalk_color_below_ring', 'veil_type', 'veil_color',\n",
        "'ring_number', 'ring_type', 'spore_print_color',\n",
        "'population', 'habitat']\n",
        "df=read_csv(filename,names=names)\n",
        "df\n",
        "# p - отравлен, e - здоров"
      ],
      "metadata": {
        "colab": {
          "base_uri": "https://localhost:8080/",
          "height": 488
        },
        "id": "GBo7DWPEDJuX",
        "outputId": "8ba4950d-2f89-439d-ea2f-ac614e41cb8e"
      },
      "execution_count": null,
      "outputs": [
        {
          "output_type": "execute_result",
          "data": {
            "text/plain": [
              "     class cap_shape cap_surface cap_color bruises odor gill_attachment  \\\n",
              "0        p         x           s         n       t    p               f   \n",
              "1        e         x           s         y       t    a               f   \n",
              "2        e         b           s         w       t    l               f   \n",
              "3        p         x           y         w       t    p               f   \n",
              "4        e         x           s         g       f    n               f   \n",
              "...    ...       ...         ...       ...     ...  ...             ...   \n",
              "8119     e         k           s         n       f    n               a   \n",
              "8120     e         x           s         n       f    n               a   \n",
              "8121     e         f           s         n       f    n               a   \n",
              "8122     p         k           y         n       f    y               f   \n",
              "8123     e         x           s         n       f    n               a   \n",
              "\n",
              "     gill_spacing gill_size gill_color  ... stalk_surface_below_ring  \\\n",
              "0               c         n          k  ...                        s   \n",
              "1               c         b          k  ...                        s   \n",
              "2               c         b          n  ...                        s   \n",
              "3               c         n          n  ...                        s   \n",
              "4               w         b          k  ...                        s   \n",
              "...           ...       ...        ...  ...                      ...   \n",
              "8119            c         b          y  ...                        s   \n",
              "8120            c         b          y  ...                        s   \n",
              "8121            c         b          n  ...                        s   \n",
              "8122            c         n          b  ...                        k   \n",
              "8123            c         b          y  ...                        s   \n",
              "\n",
              "     stalk_color_above_ring stalk_color_below_ring veil_type veil_color  \\\n",
              "0                         w                      w         p          w   \n",
              "1                         w                      w         p          w   \n",
              "2                         w                      w         p          w   \n",
              "3                         w                      w         p          w   \n",
              "4                         w                      w         p          w   \n",
              "...                     ...                    ...       ...        ...   \n",
              "8119                      o                      o         p          o   \n",
              "8120                      o                      o         p          n   \n",
              "8121                      o                      o         p          o   \n",
              "8122                      w                      w         p          w   \n",
              "8123                      o                      o         p          o   \n",
              "\n",
              "     ring_number ring_type spore_print_color population habitat  \n",
              "0              o         p                 k          s       u  \n",
              "1              o         p                 n          n       g  \n",
              "2              o         p                 n          n       m  \n",
              "3              o         p                 k          s       u  \n",
              "4              o         e                 n          a       g  \n",
              "...          ...       ...               ...        ...     ...  \n",
              "8119           o         p                 b          c       l  \n",
              "8120           o         p                 b          v       l  \n",
              "8121           o         p                 b          c       l  \n",
              "8122           o         e                 w          v       l  \n",
              "8123           o         p                 o          c       l  \n",
              "\n",
              "[8124 rows x 23 columns]"
            ],
            "text/html": [
              "\n",
              "  <div id=\"df-a7601a99-8e87-47fc-9d05-a5d73b3ad3eb\">\n",
              "    <div class=\"colab-df-container\">\n",
              "      <div>\n",
              "<style scoped>\n",
              "    .dataframe tbody tr th:only-of-type {\n",
              "        vertical-align: middle;\n",
              "    }\n",
              "\n",
              "    .dataframe tbody tr th {\n",
              "        vertical-align: top;\n",
              "    }\n",
              "\n",
              "    .dataframe thead th {\n",
              "        text-align: right;\n",
              "    }\n",
              "</style>\n",
              "<table border=\"1\" class=\"dataframe\">\n",
              "  <thead>\n",
              "    <tr style=\"text-align: right;\">\n",
              "      <th></th>\n",
              "      <th>class</th>\n",
              "      <th>cap_shape</th>\n",
              "      <th>cap_surface</th>\n",
              "      <th>cap_color</th>\n",
              "      <th>bruises</th>\n",
              "      <th>odor</th>\n",
              "      <th>gill_attachment</th>\n",
              "      <th>gill_spacing</th>\n",
              "      <th>gill_size</th>\n",
              "      <th>gill_color</th>\n",
              "      <th>...</th>\n",
              "      <th>stalk_surface_below_ring</th>\n",
              "      <th>stalk_color_above_ring</th>\n",
              "      <th>stalk_color_below_ring</th>\n",
              "      <th>veil_type</th>\n",
              "      <th>veil_color</th>\n",
              "      <th>ring_number</th>\n",
              "      <th>ring_type</th>\n",
              "      <th>spore_print_color</th>\n",
              "      <th>population</th>\n",
              "      <th>habitat</th>\n",
              "    </tr>\n",
              "  </thead>\n",
              "  <tbody>\n",
              "    <tr>\n",
              "      <th>0</th>\n",
              "      <td>p</td>\n",
              "      <td>x</td>\n",
              "      <td>s</td>\n",
              "      <td>n</td>\n",
              "      <td>t</td>\n",
              "      <td>p</td>\n",
              "      <td>f</td>\n",
              "      <td>c</td>\n",
              "      <td>n</td>\n",
              "      <td>k</td>\n",
              "      <td>...</td>\n",
              "      <td>s</td>\n",
              "      <td>w</td>\n",
              "      <td>w</td>\n",
              "      <td>p</td>\n",
              "      <td>w</td>\n",
              "      <td>o</td>\n",
              "      <td>p</td>\n",
              "      <td>k</td>\n",
              "      <td>s</td>\n",
              "      <td>u</td>\n",
              "    </tr>\n",
              "    <tr>\n",
              "      <th>1</th>\n",
              "      <td>e</td>\n",
              "      <td>x</td>\n",
              "      <td>s</td>\n",
              "      <td>y</td>\n",
              "      <td>t</td>\n",
              "      <td>a</td>\n",
              "      <td>f</td>\n",
              "      <td>c</td>\n",
              "      <td>b</td>\n",
              "      <td>k</td>\n",
              "      <td>...</td>\n",
              "      <td>s</td>\n",
              "      <td>w</td>\n",
              "      <td>w</td>\n",
              "      <td>p</td>\n",
              "      <td>w</td>\n",
              "      <td>o</td>\n",
              "      <td>p</td>\n",
              "      <td>n</td>\n",
              "      <td>n</td>\n",
              "      <td>g</td>\n",
              "    </tr>\n",
              "    <tr>\n",
              "      <th>2</th>\n",
              "      <td>e</td>\n",
              "      <td>b</td>\n",
              "      <td>s</td>\n",
              "      <td>w</td>\n",
              "      <td>t</td>\n",
              "      <td>l</td>\n",
              "      <td>f</td>\n",
              "      <td>c</td>\n",
              "      <td>b</td>\n",
              "      <td>n</td>\n",
              "      <td>...</td>\n",
              "      <td>s</td>\n",
              "      <td>w</td>\n",
              "      <td>w</td>\n",
              "      <td>p</td>\n",
              "      <td>w</td>\n",
              "      <td>o</td>\n",
              "      <td>p</td>\n",
              "      <td>n</td>\n",
              "      <td>n</td>\n",
              "      <td>m</td>\n",
              "    </tr>\n",
              "    <tr>\n",
              "      <th>3</th>\n",
              "      <td>p</td>\n",
              "      <td>x</td>\n",
              "      <td>y</td>\n",
              "      <td>w</td>\n",
              "      <td>t</td>\n",
              "      <td>p</td>\n",
              "      <td>f</td>\n",
              "      <td>c</td>\n",
              "      <td>n</td>\n",
              "      <td>n</td>\n",
              "      <td>...</td>\n",
              "      <td>s</td>\n",
              "      <td>w</td>\n",
              "      <td>w</td>\n",
              "      <td>p</td>\n",
              "      <td>w</td>\n",
              "      <td>o</td>\n",
              "      <td>p</td>\n",
              "      <td>k</td>\n",
              "      <td>s</td>\n",
              "      <td>u</td>\n",
              "    </tr>\n",
              "    <tr>\n",
              "      <th>4</th>\n",
              "      <td>e</td>\n",
              "      <td>x</td>\n",
              "      <td>s</td>\n",
              "      <td>g</td>\n",
              "      <td>f</td>\n",
              "      <td>n</td>\n",
              "      <td>f</td>\n",
              "      <td>w</td>\n",
              "      <td>b</td>\n",
              "      <td>k</td>\n",
              "      <td>...</td>\n",
              "      <td>s</td>\n",
              "      <td>w</td>\n",
              "      <td>w</td>\n",
              "      <td>p</td>\n",
              "      <td>w</td>\n",
              "      <td>o</td>\n",
              "      <td>e</td>\n",
              "      <td>n</td>\n",
              "      <td>a</td>\n",
              "      <td>g</td>\n",
              "    </tr>\n",
              "    <tr>\n",
              "      <th>...</th>\n",
              "      <td>...</td>\n",
              "      <td>...</td>\n",
              "      <td>...</td>\n",
              "      <td>...</td>\n",
              "      <td>...</td>\n",
              "      <td>...</td>\n",
              "      <td>...</td>\n",
              "      <td>...</td>\n",
              "      <td>...</td>\n",
              "      <td>...</td>\n",
              "      <td>...</td>\n",
              "      <td>...</td>\n",
              "      <td>...</td>\n",
              "      <td>...</td>\n",
              "      <td>...</td>\n",
              "      <td>...</td>\n",
              "      <td>...</td>\n",
              "      <td>...</td>\n",
              "      <td>...</td>\n",
              "      <td>...</td>\n",
              "      <td>...</td>\n",
              "    </tr>\n",
              "    <tr>\n",
              "      <th>8119</th>\n",
              "      <td>e</td>\n",
              "      <td>k</td>\n",
              "      <td>s</td>\n",
              "      <td>n</td>\n",
              "      <td>f</td>\n",
              "      <td>n</td>\n",
              "      <td>a</td>\n",
              "      <td>c</td>\n",
              "      <td>b</td>\n",
              "      <td>y</td>\n",
              "      <td>...</td>\n",
              "      <td>s</td>\n",
              "      <td>o</td>\n",
              "      <td>o</td>\n",
              "      <td>p</td>\n",
              "      <td>o</td>\n",
              "      <td>o</td>\n",
              "      <td>p</td>\n",
              "      <td>b</td>\n",
              "      <td>c</td>\n",
              "      <td>l</td>\n",
              "    </tr>\n",
              "    <tr>\n",
              "      <th>8120</th>\n",
              "      <td>e</td>\n",
              "      <td>x</td>\n",
              "      <td>s</td>\n",
              "      <td>n</td>\n",
              "      <td>f</td>\n",
              "      <td>n</td>\n",
              "      <td>a</td>\n",
              "      <td>c</td>\n",
              "      <td>b</td>\n",
              "      <td>y</td>\n",
              "      <td>...</td>\n",
              "      <td>s</td>\n",
              "      <td>o</td>\n",
              "      <td>o</td>\n",
              "      <td>p</td>\n",
              "      <td>n</td>\n",
              "      <td>o</td>\n",
              "      <td>p</td>\n",
              "      <td>b</td>\n",
              "      <td>v</td>\n",
              "      <td>l</td>\n",
              "    </tr>\n",
              "    <tr>\n",
              "      <th>8121</th>\n",
              "      <td>e</td>\n",
              "      <td>f</td>\n",
              "      <td>s</td>\n",
              "      <td>n</td>\n",
              "      <td>f</td>\n",
              "      <td>n</td>\n",
              "      <td>a</td>\n",
              "      <td>c</td>\n",
              "      <td>b</td>\n",
              "      <td>n</td>\n",
              "      <td>...</td>\n",
              "      <td>s</td>\n",
              "      <td>o</td>\n",
              "      <td>o</td>\n",
              "      <td>p</td>\n",
              "      <td>o</td>\n",
              "      <td>o</td>\n",
              "      <td>p</td>\n",
              "      <td>b</td>\n",
              "      <td>c</td>\n",
              "      <td>l</td>\n",
              "    </tr>\n",
              "    <tr>\n",
              "      <th>8122</th>\n",
              "      <td>p</td>\n",
              "      <td>k</td>\n",
              "      <td>y</td>\n",
              "      <td>n</td>\n",
              "      <td>f</td>\n",
              "      <td>y</td>\n",
              "      <td>f</td>\n",
              "      <td>c</td>\n",
              "      <td>n</td>\n",
              "      <td>b</td>\n",
              "      <td>...</td>\n",
              "      <td>k</td>\n",
              "      <td>w</td>\n",
              "      <td>w</td>\n",
              "      <td>p</td>\n",
              "      <td>w</td>\n",
              "      <td>o</td>\n",
              "      <td>e</td>\n",
              "      <td>w</td>\n",
              "      <td>v</td>\n",
              "      <td>l</td>\n",
              "    </tr>\n",
              "    <tr>\n",
              "      <th>8123</th>\n",
              "      <td>e</td>\n",
              "      <td>x</td>\n",
              "      <td>s</td>\n",
              "      <td>n</td>\n",
              "      <td>f</td>\n",
              "      <td>n</td>\n",
              "      <td>a</td>\n",
              "      <td>c</td>\n",
              "      <td>b</td>\n",
              "      <td>y</td>\n",
              "      <td>...</td>\n",
              "      <td>s</td>\n",
              "      <td>o</td>\n",
              "      <td>o</td>\n",
              "      <td>p</td>\n",
              "      <td>o</td>\n",
              "      <td>o</td>\n",
              "      <td>p</td>\n",
              "      <td>o</td>\n",
              "      <td>c</td>\n",
              "      <td>l</td>\n",
              "    </tr>\n",
              "  </tbody>\n",
              "</table>\n",
              "<p>8124 rows × 23 columns</p>\n",
              "</div>\n",
              "      <button class=\"colab-df-convert\" onclick=\"convertToInteractive('df-a7601a99-8e87-47fc-9d05-a5d73b3ad3eb')\"\n",
              "              title=\"Convert this dataframe to an interactive table.\"\n",
              "              style=\"display:none;\">\n",
              "        \n",
              "  <svg xmlns=\"http://www.w3.org/2000/svg\" height=\"24px\"viewBox=\"0 0 24 24\"\n",
              "       width=\"24px\">\n",
              "    <path d=\"M0 0h24v24H0V0z\" fill=\"none\"/>\n",
              "    <path d=\"M18.56 5.44l.94 2.06.94-2.06 2.06-.94-2.06-.94-.94-2.06-.94 2.06-2.06.94zm-11 1L8.5 8.5l.94-2.06 2.06-.94-2.06-.94L8.5 2.5l-.94 2.06-2.06.94zm10 10l.94 2.06.94-2.06 2.06-.94-2.06-.94-.94-2.06-.94 2.06-2.06.94z\"/><path d=\"M17.41 7.96l-1.37-1.37c-.4-.4-.92-.59-1.43-.59-.52 0-1.04.2-1.43.59L10.3 9.45l-7.72 7.72c-.78.78-.78 2.05 0 2.83L4 21.41c.39.39.9.59 1.41.59.51 0 1.02-.2 1.41-.59l7.78-7.78 2.81-2.81c.8-.78.8-2.07 0-2.86zM5.41 20L4 18.59l7.72-7.72 1.47 1.35L5.41 20z\"/>\n",
              "  </svg>\n",
              "      </button>\n",
              "      \n",
              "  <style>\n",
              "    .colab-df-container {\n",
              "      display:flex;\n",
              "      flex-wrap:wrap;\n",
              "      gap: 12px;\n",
              "    }\n",
              "\n",
              "    .colab-df-convert {\n",
              "      background-color: #E8F0FE;\n",
              "      border: none;\n",
              "      border-radius: 50%;\n",
              "      cursor: pointer;\n",
              "      display: none;\n",
              "      fill: #1967D2;\n",
              "      height: 32px;\n",
              "      padding: 0 0 0 0;\n",
              "      width: 32px;\n",
              "    }\n",
              "\n",
              "    .colab-df-convert:hover {\n",
              "      background-color: #E2EBFA;\n",
              "      box-shadow: 0px 1px 2px rgba(60, 64, 67, 0.3), 0px 1px 3px 1px rgba(60, 64, 67, 0.15);\n",
              "      fill: #174EA6;\n",
              "    }\n",
              "\n",
              "    [theme=dark] .colab-df-convert {\n",
              "      background-color: #3B4455;\n",
              "      fill: #D2E3FC;\n",
              "    }\n",
              "\n",
              "    [theme=dark] .colab-df-convert:hover {\n",
              "      background-color: #434B5C;\n",
              "      box-shadow: 0px 1px 3px 1px rgba(0, 0, 0, 0.15);\n",
              "      filter: drop-shadow(0px 1px 2px rgba(0, 0, 0, 0.3));\n",
              "      fill: #FFFFFF;\n",
              "    }\n",
              "  </style>\n",
              "\n",
              "      <script>\n",
              "        const buttonEl =\n",
              "          document.querySelector('#df-a7601a99-8e87-47fc-9d05-a5d73b3ad3eb button.colab-df-convert');\n",
              "        buttonEl.style.display =\n",
              "          google.colab.kernel.accessAllowed ? 'block' : 'none';\n",
              "\n",
              "        async function convertToInteractive(key) {\n",
              "          const element = document.querySelector('#df-a7601a99-8e87-47fc-9d05-a5d73b3ad3eb');\n",
              "          const dataTable =\n",
              "            await google.colab.kernel.invokeFunction('convertToInteractive',\n",
              "                                                     [key], {});\n",
              "          if (!dataTable) return;\n",
              "\n",
              "          const docLinkHtml = 'Like what you see? Visit the ' +\n",
              "            '<a target=\"_blank\" href=https://colab.research.google.com/notebooks/data_table.ipynb>data table notebook</a>'\n",
              "            + ' to learn more about interactive tables.';\n",
              "          element.innerHTML = '';\n",
              "          dataTable['output_type'] = 'display_data';\n",
              "          await google.colab.output.renderOutput(dataTable, element);\n",
              "          const docLink = document.createElement('div');\n",
              "          docLink.innerHTML = docLinkHtml;\n",
              "          element.appendChild(docLink);\n",
              "        }\n",
              "      </script>\n",
              "    </div>\n",
              "  </div>\n",
              "  "
            ]
          },
          "metadata": {},
          "execution_count": 116
        }
      ]
    },
    {
      "cell_type": "code",
      "source": [
        "from sklearn.preprocessing import LabelEncoder\n",
        "le=LabelEncoder()\n",
        "for i in df.columns:\n",
        "    df[i]=le.fit_transform(df[i])\n",
        "df\n",
        "# 1 - отравлен, 0 - здоров"
      ],
      "metadata": {
        "colab": {
          "base_uri": "https://localhost:8080/",
          "height": 488
        },
        "id": "u7WHkS6t1MdF",
        "outputId": "7cc56f9a-e7c5-4543-b1cc-96f17c619c31"
      },
      "execution_count": null,
      "outputs": [
        {
          "output_type": "execute_result",
          "data": {
            "text/plain": [
              "      class  cap_shape  cap_surface  cap_color  bruises  odor  \\\n",
              "0         1          5            2          4        1     6   \n",
              "1         0          5            2          9        1     0   \n",
              "2         0          0            2          8        1     3   \n",
              "3         1          5            3          8        1     6   \n",
              "4         0          5            2          3        0     5   \n",
              "...     ...        ...          ...        ...      ...   ...   \n",
              "8119      0          3            2          4        0     5   \n",
              "8120      0          5            2          4        0     5   \n",
              "8121      0          2            2          4        0     5   \n",
              "8122      1          3            3          4        0     8   \n",
              "8123      0          5            2          4        0     5   \n",
              "\n",
              "      gill_attachment  gill_spacing  gill_size  gill_color  ...  \\\n",
              "0                   1             0          1           4  ...   \n",
              "1                   1             0          0           4  ...   \n",
              "2                   1             0          0           5  ...   \n",
              "3                   1             0          1           5  ...   \n",
              "4                   1             1          0           4  ...   \n",
              "...               ...           ...        ...         ...  ...   \n",
              "8119                0             0          0          11  ...   \n",
              "8120                0             0          0          11  ...   \n",
              "8121                0             0          0           5  ...   \n",
              "8122                1             0          1           0  ...   \n",
              "8123                0             0          0          11  ...   \n",
              "\n",
              "      stalk_surface_below_ring  stalk_color_above_ring  \\\n",
              "0                            2                       7   \n",
              "1                            2                       7   \n",
              "2                            2                       7   \n",
              "3                            2                       7   \n",
              "4                            2                       7   \n",
              "...                        ...                     ...   \n",
              "8119                         2                       5   \n",
              "8120                         2                       5   \n",
              "8121                         2                       5   \n",
              "8122                         1                       7   \n",
              "8123                         2                       5   \n",
              "\n",
              "      stalk_color_below_ring  veil_type  veil_color  ring_number  ring_type  \\\n",
              "0                          7          0           2            1          4   \n",
              "1                          7          0           2            1          4   \n",
              "2                          7          0           2            1          4   \n",
              "3                          7          0           2            1          4   \n",
              "4                          7          0           2            1          0   \n",
              "...                      ...        ...         ...          ...        ...   \n",
              "8119                       5          0           1            1          4   \n",
              "8120                       5          0           0            1          4   \n",
              "8121                       5          0           1            1          4   \n",
              "8122                       7          0           2            1          0   \n",
              "8123                       5          0           1            1          4   \n",
              "\n",
              "      spore_print_color  population  habitat  \n",
              "0                     2           3        5  \n",
              "1                     3           2        1  \n",
              "2                     3           2        3  \n",
              "3                     2           3        5  \n",
              "4                     3           0        1  \n",
              "...                 ...         ...      ...  \n",
              "8119                  0           1        2  \n",
              "8120                  0           4        2  \n",
              "8121                  0           1        2  \n",
              "8122                  7           4        2  \n",
              "8123                  4           1        2  \n",
              "\n",
              "[8124 rows x 23 columns]"
            ],
            "text/html": [
              "\n",
              "  <div id=\"df-288806f7-1dab-4ea7-9e2c-131d91fc13fe\">\n",
              "    <div class=\"colab-df-container\">\n",
              "      <div>\n",
              "<style scoped>\n",
              "    .dataframe tbody tr th:only-of-type {\n",
              "        vertical-align: middle;\n",
              "    }\n",
              "\n",
              "    .dataframe tbody tr th {\n",
              "        vertical-align: top;\n",
              "    }\n",
              "\n",
              "    .dataframe thead th {\n",
              "        text-align: right;\n",
              "    }\n",
              "</style>\n",
              "<table border=\"1\" class=\"dataframe\">\n",
              "  <thead>\n",
              "    <tr style=\"text-align: right;\">\n",
              "      <th></th>\n",
              "      <th>class</th>\n",
              "      <th>cap_shape</th>\n",
              "      <th>cap_surface</th>\n",
              "      <th>cap_color</th>\n",
              "      <th>bruises</th>\n",
              "      <th>odor</th>\n",
              "      <th>gill_attachment</th>\n",
              "      <th>gill_spacing</th>\n",
              "      <th>gill_size</th>\n",
              "      <th>gill_color</th>\n",
              "      <th>...</th>\n",
              "      <th>stalk_surface_below_ring</th>\n",
              "      <th>stalk_color_above_ring</th>\n",
              "      <th>stalk_color_below_ring</th>\n",
              "      <th>veil_type</th>\n",
              "      <th>veil_color</th>\n",
              "      <th>ring_number</th>\n",
              "      <th>ring_type</th>\n",
              "      <th>spore_print_color</th>\n",
              "      <th>population</th>\n",
              "      <th>habitat</th>\n",
              "    </tr>\n",
              "  </thead>\n",
              "  <tbody>\n",
              "    <tr>\n",
              "      <th>0</th>\n",
              "      <td>1</td>\n",
              "      <td>5</td>\n",
              "      <td>2</td>\n",
              "      <td>4</td>\n",
              "      <td>1</td>\n",
              "      <td>6</td>\n",
              "      <td>1</td>\n",
              "      <td>0</td>\n",
              "      <td>1</td>\n",
              "      <td>4</td>\n",
              "      <td>...</td>\n",
              "      <td>2</td>\n",
              "      <td>7</td>\n",
              "      <td>7</td>\n",
              "      <td>0</td>\n",
              "      <td>2</td>\n",
              "      <td>1</td>\n",
              "      <td>4</td>\n",
              "      <td>2</td>\n",
              "      <td>3</td>\n",
              "      <td>5</td>\n",
              "    </tr>\n",
              "    <tr>\n",
              "      <th>1</th>\n",
              "      <td>0</td>\n",
              "      <td>5</td>\n",
              "      <td>2</td>\n",
              "      <td>9</td>\n",
              "      <td>1</td>\n",
              "      <td>0</td>\n",
              "      <td>1</td>\n",
              "      <td>0</td>\n",
              "      <td>0</td>\n",
              "      <td>4</td>\n",
              "      <td>...</td>\n",
              "      <td>2</td>\n",
              "      <td>7</td>\n",
              "      <td>7</td>\n",
              "      <td>0</td>\n",
              "      <td>2</td>\n",
              "      <td>1</td>\n",
              "      <td>4</td>\n",
              "      <td>3</td>\n",
              "      <td>2</td>\n",
              "      <td>1</td>\n",
              "    </tr>\n",
              "    <tr>\n",
              "      <th>2</th>\n",
              "      <td>0</td>\n",
              "      <td>0</td>\n",
              "      <td>2</td>\n",
              "      <td>8</td>\n",
              "      <td>1</td>\n",
              "      <td>3</td>\n",
              "      <td>1</td>\n",
              "      <td>0</td>\n",
              "      <td>0</td>\n",
              "      <td>5</td>\n",
              "      <td>...</td>\n",
              "      <td>2</td>\n",
              "      <td>7</td>\n",
              "      <td>7</td>\n",
              "      <td>0</td>\n",
              "      <td>2</td>\n",
              "      <td>1</td>\n",
              "      <td>4</td>\n",
              "      <td>3</td>\n",
              "      <td>2</td>\n",
              "      <td>3</td>\n",
              "    </tr>\n",
              "    <tr>\n",
              "      <th>3</th>\n",
              "      <td>1</td>\n",
              "      <td>5</td>\n",
              "      <td>3</td>\n",
              "      <td>8</td>\n",
              "      <td>1</td>\n",
              "      <td>6</td>\n",
              "      <td>1</td>\n",
              "      <td>0</td>\n",
              "      <td>1</td>\n",
              "      <td>5</td>\n",
              "      <td>...</td>\n",
              "      <td>2</td>\n",
              "      <td>7</td>\n",
              "      <td>7</td>\n",
              "      <td>0</td>\n",
              "      <td>2</td>\n",
              "      <td>1</td>\n",
              "      <td>4</td>\n",
              "      <td>2</td>\n",
              "      <td>3</td>\n",
              "      <td>5</td>\n",
              "    </tr>\n",
              "    <tr>\n",
              "      <th>4</th>\n",
              "      <td>0</td>\n",
              "      <td>5</td>\n",
              "      <td>2</td>\n",
              "      <td>3</td>\n",
              "      <td>0</td>\n",
              "      <td>5</td>\n",
              "      <td>1</td>\n",
              "      <td>1</td>\n",
              "      <td>0</td>\n",
              "      <td>4</td>\n",
              "      <td>...</td>\n",
              "      <td>2</td>\n",
              "      <td>7</td>\n",
              "      <td>7</td>\n",
              "      <td>0</td>\n",
              "      <td>2</td>\n",
              "      <td>1</td>\n",
              "      <td>0</td>\n",
              "      <td>3</td>\n",
              "      <td>0</td>\n",
              "      <td>1</td>\n",
              "    </tr>\n",
              "    <tr>\n",
              "      <th>...</th>\n",
              "      <td>...</td>\n",
              "      <td>...</td>\n",
              "      <td>...</td>\n",
              "      <td>...</td>\n",
              "      <td>...</td>\n",
              "      <td>...</td>\n",
              "      <td>...</td>\n",
              "      <td>...</td>\n",
              "      <td>...</td>\n",
              "      <td>...</td>\n",
              "      <td>...</td>\n",
              "      <td>...</td>\n",
              "      <td>...</td>\n",
              "      <td>...</td>\n",
              "      <td>...</td>\n",
              "      <td>...</td>\n",
              "      <td>...</td>\n",
              "      <td>...</td>\n",
              "      <td>...</td>\n",
              "      <td>...</td>\n",
              "      <td>...</td>\n",
              "    </tr>\n",
              "    <tr>\n",
              "      <th>8119</th>\n",
              "      <td>0</td>\n",
              "      <td>3</td>\n",
              "      <td>2</td>\n",
              "      <td>4</td>\n",
              "      <td>0</td>\n",
              "      <td>5</td>\n",
              "      <td>0</td>\n",
              "      <td>0</td>\n",
              "      <td>0</td>\n",
              "      <td>11</td>\n",
              "      <td>...</td>\n",
              "      <td>2</td>\n",
              "      <td>5</td>\n",
              "      <td>5</td>\n",
              "      <td>0</td>\n",
              "      <td>1</td>\n",
              "      <td>1</td>\n",
              "      <td>4</td>\n",
              "      <td>0</td>\n",
              "      <td>1</td>\n",
              "      <td>2</td>\n",
              "    </tr>\n",
              "    <tr>\n",
              "      <th>8120</th>\n",
              "      <td>0</td>\n",
              "      <td>5</td>\n",
              "      <td>2</td>\n",
              "      <td>4</td>\n",
              "      <td>0</td>\n",
              "      <td>5</td>\n",
              "      <td>0</td>\n",
              "      <td>0</td>\n",
              "      <td>0</td>\n",
              "      <td>11</td>\n",
              "      <td>...</td>\n",
              "      <td>2</td>\n",
              "      <td>5</td>\n",
              "      <td>5</td>\n",
              "      <td>0</td>\n",
              "      <td>0</td>\n",
              "      <td>1</td>\n",
              "      <td>4</td>\n",
              "      <td>0</td>\n",
              "      <td>4</td>\n",
              "      <td>2</td>\n",
              "    </tr>\n",
              "    <tr>\n",
              "      <th>8121</th>\n",
              "      <td>0</td>\n",
              "      <td>2</td>\n",
              "      <td>2</td>\n",
              "      <td>4</td>\n",
              "      <td>0</td>\n",
              "      <td>5</td>\n",
              "      <td>0</td>\n",
              "      <td>0</td>\n",
              "      <td>0</td>\n",
              "      <td>5</td>\n",
              "      <td>...</td>\n",
              "      <td>2</td>\n",
              "      <td>5</td>\n",
              "      <td>5</td>\n",
              "      <td>0</td>\n",
              "      <td>1</td>\n",
              "      <td>1</td>\n",
              "      <td>4</td>\n",
              "      <td>0</td>\n",
              "      <td>1</td>\n",
              "      <td>2</td>\n",
              "    </tr>\n",
              "    <tr>\n",
              "      <th>8122</th>\n",
              "      <td>1</td>\n",
              "      <td>3</td>\n",
              "      <td>3</td>\n",
              "      <td>4</td>\n",
              "      <td>0</td>\n",
              "      <td>8</td>\n",
              "      <td>1</td>\n",
              "      <td>0</td>\n",
              "      <td>1</td>\n",
              "      <td>0</td>\n",
              "      <td>...</td>\n",
              "      <td>1</td>\n",
              "      <td>7</td>\n",
              "      <td>7</td>\n",
              "      <td>0</td>\n",
              "      <td>2</td>\n",
              "      <td>1</td>\n",
              "      <td>0</td>\n",
              "      <td>7</td>\n",
              "      <td>4</td>\n",
              "      <td>2</td>\n",
              "    </tr>\n",
              "    <tr>\n",
              "      <th>8123</th>\n",
              "      <td>0</td>\n",
              "      <td>5</td>\n",
              "      <td>2</td>\n",
              "      <td>4</td>\n",
              "      <td>0</td>\n",
              "      <td>5</td>\n",
              "      <td>0</td>\n",
              "      <td>0</td>\n",
              "      <td>0</td>\n",
              "      <td>11</td>\n",
              "      <td>...</td>\n",
              "      <td>2</td>\n",
              "      <td>5</td>\n",
              "      <td>5</td>\n",
              "      <td>0</td>\n",
              "      <td>1</td>\n",
              "      <td>1</td>\n",
              "      <td>4</td>\n",
              "      <td>4</td>\n",
              "      <td>1</td>\n",
              "      <td>2</td>\n",
              "    </tr>\n",
              "  </tbody>\n",
              "</table>\n",
              "<p>8124 rows × 23 columns</p>\n",
              "</div>\n",
              "      <button class=\"colab-df-convert\" onclick=\"convertToInteractive('df-288806f7-1dab-4ea7-9e2c-131d91fc13fe')\"\n",
              "              title=\"Convert this dataframe to an interactive table.\"\n",
              "              style=\"display:none;\">\n",
              "        \n",
              "  <svg xmlns=\"http://www.w3.org/2000/svg\" height=\"24px\"viewBox=\"0 0 24 24\"\n",
              "       width=\"24px\">\n",
              "    <path d=\"M0 0h24v24H0V0z\" fill=\"none\"/>\n",
              "    <path d=\"M18.56 5.44l.94 2.06.94-2.06 2.06-.94-2.06-.94-.94-2.06-.94 2.06-2.06.94zm-11 1L8.5 8.5l.94-2.06 2.06-.94-2.06-.94L8.5 2.5l-.94 2.06-2.06.94zm10 10l.94 2.06.94-2.06 2.06-.94-2.06-.94-.94-2.06-.94 2.06-2.06.94z\"/><path d=\"M17.41 7.96l-1.37-1.37c-.4-.4-.92-.59-1.43-.59-.52 0-1.04.2-1.43.59L10.3 9.45l-7.72 7.72c-.78.78-.78 2.05 0 2.83L4 21.41c.39.39.9.59 1.41.59.51 0 1.02-.2 1.41-.59l7.78-7.78 2.81-2.81c.8-.78.8-2.07 0-2.86zM5.41 20L4 18.59l7.72-7.72 1.47 1.35L5.41 20z\"/>\n",
              "  </svg>\n",
              "      </button>\n",
              "      \n",
              "  <style>\n",
              "    .colab-df-container {\n",
              "      display:flex;\n",
              "      flex-wrap:wrap;\n",
              "      gap: 12px;\n",
              "    }\n",
              "\n",
              "    .colab-df-convert {\n",
              "      background-color: #E8F0FE;\n",
              "      border: none;\n",
              "      border-radius: 50%;\n",
              "      cursor: pointer;\n",
              "      display: none;\n",
              "      fill: #1967D2;\n",
              "      height: 32px;\n",
              "      padding: 0 0 0 0;\n",
              "      width: 32px;\n",
              "    }\n",
              "\n",
              "    .colab-df-convert:hover {\n",
              "      background-color: #E2EBFA;\n",
              "      box-shadow: 0px 1px 2px rgba(60, 64, 67, 0.3), 0px 1px 3px 1px rgba(60, 64, 67, 0.15);\n",
              "      fill: #174EA6;\n",
              "    }\n",
              "\n",
              "    [theme=dark] .colab-df-convert {\n",
              "      background-color: #3B4455;\n",
              "      fill: #D2E3FC;\n",
              "    }\n",
              "\n",
              "    [theme=dark] .colab-df-convert:hover {\n",
              "      background-color: #434B5C;\n",
              "      box-shadow: 0px 1px 3px 1px rgba(0, 0, 0, 0.15);\n",
              "      filter: drop-shadow(0px 1px 2px rgba(0, 0, 0, 0.3));\n",
              "      fill: #FFFFFF;\n",
              "    }\n",
              "  </style>\n",
              "\n",
              "      <script>\n",
              "        const buttonEl =\n",
              "          document.querySelector('#df-288806f7-1dab-4ea7-9e2c-131d91fc13fe button.colab-df-convert');\n",
              "        buttonEl.style.display =\n",
              "          google.colab.kernel.accessAllowed ? 'block' : 'none';\n",
              "\n",
              "        async function convertToInteractive(key) {\n",
              "          const element = document.querySelector('#df-288806f7-1dab-4ea7-9e2c-131d91fc13fe');\n",
              "          const dataTable =\n",
              "            await google.colab.kernel.invokeFunction('convertToInteractive',\n",
              "                                                     [key], {});\n",
              "          if (!dataTable) return;\n",
              "\n",
              "          const docLinkHtml = 'Like what you see? Visit the ' +\n",
              "            '<a target=\"_blank\" href=https://colab.research.google.com/notebooks/data_table.ipynb>data table notebook</a>'\n",
              "            + ' to learn more about interactive tables.';\n",
              "          element.innerHTML = '';\n",
              "          dataTable['output_type'] = 'display_data';\n",
              "          await google.colab.output.renderOutput(dataTable, element);\n",
              "          const docLink = document.createElement('div');\n",
              "          docLink.innerHTML = docLinkHtml;\n",
              "          element.appendChild(docLink);\n",
              "        }\n",
              "      </script>\n",
              "    </div>\n",
              "  </div>\n",
              "  "
            ]
          },
          "metadata": {},
          "execution_count": 100
        }
      ]
    },
    {
      "cell_type": "code",
      "source": [
        "df.dtypes"
      ],
      "metadata": {
        "colab": {
          "base_uri": "https://localhost:8080/"
        },
        "id": "-JXV5oFg1sFx",
        "outputId": "191dc2a3-1f7e-4369-c511-0ffe9a42a5f6"
      },
      "execution_count": null,
      "outputs": [
        {
          "output_type": "execute_result",
          "data": {
            "text/plain": [
              "class                       int64\n",
              "cap_shape                   int64\n",
              "cap_surface                 int64\n",
              "cap_color                   int64\n",
              "bruises                     int64\n",
              "odor                        int64\n",
              "gill_attachment             int64\n",
              "gill_spacing                int64\n",
              "gill_size                   int64\n",
              "gill_color                  int64\n",
              "stalk_shape                 int64\n",
              "stalk_root                  int64\n",
              "stalk_surface_above_ring    int64\n",
              "stalk_surface_below_ring    int64\n",
              "stalk_color_above_ring      int64\n",
              "stalk_color_below_ring      int64\n",
              "veil_type                   int64\n",
              "veil_color                  int64\n",
              "ring_number                 int64\n",
              "ring_type                   int64\n",
              "spore_print_color           int64\n",
              "population                  int64\n",
              "habitat                     int64\n",
              "dtype: object"
            ]
          },
          "metadata": {},
          "execution_count": 41
        }
      ]
    },
    {
      "cell_type": "markdown",
      "source": [
        "**3. Сохраните в переменную array значения признаков, обратившись к атрибуту values.**"
      ],
      "metadata": {
        "id": "HkgZl8plcCaC"
      }
    },
    {
      "cell_type": "code",
      "source": [
        "array = df.values\n",
        "array"
      ],
      "metadata": {
        "id": "y0pdRJmVDYVn",
        "colab": {
          "base_uri": "https://localhost:8080/"
        },
        "outputId": "d10c5d87-be68-44a3-cd6e-d819ac79c7fa"
      },
      "execution_count": null,
      "outputs": [
        {
          "output_type": "execute_result",
          "data": {
            "text/plain": [
              "array([[1, 5, 2, ..., 2, 3, 5],\n",
              "       [0, 5, 2, ..., 3, 2, 1],\n",
              "       [0, 0, 2, ..., 3, 2, 3],\n",
              "       ...,\n",
              "       [0, 2, 2, ..., 0, 1, 2],\n",
              "       [1, 3, 3, ..., 7, 4, 2],\n",
              "       [0, 5, 2, ..., 4, 1, 2]])"
            ]
          },
          "metadata": {},
          "execution_count": 42
        }
      ]
    },
    {
      "cell_type": "markdown",
      "source": [
        "**4. Выделите в переменной array часть, которая относится к факторным**\n",
        "\n",
        " **признакам, назовите ее X, и часть, которая относится к результативному**\n",
        "\n",
        "**признаку, - Y. Прокомментируйте содержимое переменных X и Y.**"
      ],
      "metadata": {
        "id": "h5IRPFPTcU_U"
      }
    },
    {
      "cell_type": "code",
      "source": [
        "X = array[:,1:] # факторные признаки, т.е. параметры объекта\n",
        "Y = array[:,0] # результативные признак, т.е. сам объект\n",
        "# это обучение с учителем х - это данные, y - это ответ"
      ],
      "metadata": {
        "id": "wPFFXaJZDhSx"
      },
      "execution_count": null,
      "outputs": []
    },
    {
      "cell_type": "code",
      "source": [
        "Y"
      ],
      "metadata": {
        "colab": {
          "base_uri": "https://localhost:8080/"
        },
        "id": "am8hYKEksDFB",
        "outputId": "ff7430c1-c78b-4646-a7c2-becf396c22ae"
      },
      "execution_count": null,
      "outputs": [
        {
          "output_type": "execute_result",
          "data": {
            "text/plain": [
              "array([1, 0, 0, ..., 0, 1, 0])"
            ]
          },
          "metadata": {},
          "execution_count": 26
        }
      ]
    },
    {
      "cell_type": "markdown",
      "source": [
        "**5. Проведите масштабирование факторных признаков на отрезок [0,1]. Для этого сначала создайте соответствующий объект с помощью функции MinMaxScaler() из модуля sklearn.preprocessing. Потом обучите его на факторных признаках и преобразуйте данные с помощью функции fit_transform().**"
      ],
      "metadata": {
        "id": "b4LOgi9AdMNM"
      }
    },
    {
      "cell_type": "code",
      "source": [
        "from pandas.core.apply import FrameApply\n",
        "scaler=MinMaxScaler(feature_range=(0,1)) # feature_range=(0,1) - можно не писать, по умолчанию берется\n",
        "# создали функцию масштабирования данных в (0,1) и загнали ее в переменную scaler"
      ],
      "metadata": {
        "id": "ftZrGUwNEJbW"
      },
      "execution_count": null,
      "outputs": []
    },
    {
      "cell_type": "code",
      "source": [
        "rescaledX=scaler.fit_transform(X)\n",
        "# все наборы признаков масштабировали в от 0 до 1 и записали в переменную rescaledX"
      ],
      "metadata": {
        "id": "4BtKsVEaEjkm"
      },
      "execution_count": null,
      "outputs": []
    },
    {
      "cell_type": "code",
      "source": [
        "rescaledX[0:5,:] # просмотр данных"
      ],
      "metadata": {
        "colab": {
          "base_uri": "https://localhost:8080/"
        },
        "id": "giCbw9VVEt--",
        "outputId": "cffb4e04-13fe-4e9c-c404-5b95ee481401"
      },
      "execution_count": null,
      "outputs": [
        {
          "output_type": "execute_result",
          "data": {
            "text/plain": [
              "array([[1.        , 0.66666667, 0.44444444, 1.        , 0.75      ,\n",
              "        1.        , 0.        , 1.        , 0.36363636, 0.        ,\n",
              "        0.75      , 0.66666667, 0.66666667, 0.875     , 0.875     ,\n",
              "        0.        , 0.66666667, 0.5       , 1.        , 0.25      ,\n",
              "        0.6       , 0.83333333],\n",
              "       [1.        , 0.66666667, 1.        , 1.        , 0.        ,\n",
              "        1.        , 0.        , 0.        , 0.36363636, 0.        ,\n",
              "        0.5       , 0.66666667, 0.66666667, 0.875     , 0.875     ,\n",
              "        0.        , 0.66666667, 0.5       , 1.        , 0.375     ,\n",
              "        0.4       , 0.16666667],\n",
              "       [0.        , 0.66666667, 0.88888889, 1.        , 0.375     ,\n",
              "        1.        , 0.        , 0.        , 0.45454545, 0.        ,\n",
              "        0.5       , 0.66666667, 0.66666667, 0.875     , 0.875     ,\n",
              "        0.        , 0.66666667, 0.5       , 1.        , 0.375     ,\n",
              "        0.4       , 0.5       ],\n",
              "       [1.        , 1.        , 0.88888889, 1.        , 0.75      ,\n",
              "        1.        , 0.        , 1.        , 0.45454545, 0.        ,\n",
              "        0.75      , 0.66666667, 0.66666667, 0.875     , 0.875     ,\n",
              "        0.        , 0.66666667, 0.5       , 1.        , 0.25      ,\n",
              "        0.6       , 0.83333333],\n",
              "       [1.        , 0.66666667, 0.33333333, 0.        , 0.625     ,\n",
              "        1.        , 1.        , 0.        , 0.36363636, 1.        ,\n",
              "        0.75      , 0.66666667, 0.66666667, 0.875     , 0.875     ,\n",
              "        0.        , 0.66666667, 0.5       , 0.        , 0.375     ,\n",
              "        0.        , 0.16666667]])"
            ]
          },
          "metadata": {},
          "execution_count": 46
        }
      ]
    },
    {
      "cell_type": "markdown",
      "source": [
        "**6. Установите формат представления данных вида 3 знака после запятой, воспользовавшись функцией set_printoptions() из модуля numpy.**"
      ],
      "metadata": {
        "id": "hvQdrxnmfgqf"
      }
    },
    {
      "cell_type": "code",
      "source": [
        "set_printoptions(precision=3) # округляем данные до 3-х знаков после запятой"
      ],
      "metadata": {
        "id": "aN7Q7kPiE--F"
      },
      "execution_count": null,
      "outputs": []
    },
    {
      "cell_type": "markdown",
      "source": [
        "**7. Выведите на экран первые 5 строк преобразованных данных.**"
      ],
      "metadata": {
        "id": "g5P5_BS1f5r3"
      }
    },
    {
      "cell_type": "code",
      "source": [
        "rescaledX[0:5,:]"
      ],
      "metadata": {
        "colab": {
          "base_uri": "https://localhost:8080/"
        },
        "id": "dEc8Bz89FDHh",
        "outputId": "942b2c8a-ae48-4ff4-e93b-93d02c07d484"
      },
      "execution_count": null,
      "outputs": [
        {
          "output_type": "execute_result",
          "data": {
            "text/plain": [
              "array([[1.   , 0.667, 0.444, 1.   , 0.75 , 1.   , 0.   , 1.   , 0.364,\n",
              "        0.   , 0.75 , 0.667, 0.667, 0.875, 0.875, 0.   , 0.667, 0.5  ,\n",
              "        1.   , 0.25 , 0.6  , 0.833],\n",
              "       [1.   , 0.667, 1.   , 1.   , 0.   , 1.   , 0.   , 0.   , 0.364,\n",
              "        0.   , 0.5  , 0.667, 0.667, 0.875, 0.875, 0.   , 0.667, 0.5  ,\n",
              "        1.   , 0.375, 0.4  , 0.167],\n",
              "       [0.   , 0.667, 0.889, 1.   , 0.375, 1.   , 0.   , 0.   , 0.455,\n",
              "        0.   , 0.5  , 0.667, 0.667, 0.875, 0.875, 0.   , 0.667, 0.5  ,\n",
              "        1.   , 0.375, 0.4  , 0.5  ],\n",
              "       [1.   , 1.   , 0.889, 1.   , 0.75 , 1.   , 0.   , 1.   , 0.455,\n",
              "        0.   , 0.75 , 0.667, 0.667, 0.875, 0.875, 0.   , 0.667, 0.5  ,\n",
              "        1.   , 0.25 , 0.6  , 0.833],\n",
              "       [1.   , 0.667, 0.333, 0.   , 0.625, 1.   , 1.   , 0.   , 0.364,\n",
              "        1.   , 0.75 , 0.667, 0.667, 0.875, 0.875, 0.   , 0.667, 0.5  ,\n",
              "        0.   , 0.375, 0.   , 0.167]])"
            ]
          },
          "metadata": {},
          "execution_count": 51
        }
      ]
    },
    {
      "cell_type": "markdown",
      "source": [
        "**8. Проведите стандартизацию факторных признаков. Для этого сначала создайте соответствующий объект с помощью функции StandardScaler() из модуля sklearn.preprocessing. Потом обучите его на факторных признаках с помощью функции fit() и преобразуйте данные с помощью функции transform(). Выведите на экран первые 5 строк преобразованных**"
      ],
      "metadata": {
        "id": "9S_JdMJhgejQ"
      }
    },
    {
      "cell_type": "markdown",
      "source": [
        "факторные признаки - это свойства объекта, унас X"
      ],
      "metadata": {
        "id": "PPQhb6-Rgpfp"
      }
    },
    {
      "cell_type": "markdown",
      "source": [
        "!!!грубо говоря приводим данные к виду, когда среднее =0, а стандартное отклонение = 1\n",
        "\n",
        "**Т.е. масштаб у всех признаков одинаковый**"
      ],
      "metadata": {
        "id": "jixjzXaXi-V0"
      }
    },
    {
      "cell_type": "code",
      "source": [
        "scaler=StandardScaler().fit(X) # создали объект и обучили его"
      ],
      "metadata": {
        "id": "1zmleKA3Fb6d"
      },
      "execution_count": null,
      "outputs": []
    },
    {
      "cell_type": "code",
      "source": [
        "rescaledX=scaler.transform(X) # делаем среднее =0, а стандартное отклонение = 1"
      ],
      "metadata": {
        "id": "TL939CYMFu1y"
      },
      "execution_count": null,
      "outputs": []
    },
    {
      "cell_type": "code",
      "source": [
        "rescaledX[0:5,:] # форэкзампел"
      ],
      "metadata": {
        "colab": {
          "base_uri": "https://localhost:8080/"
        },
        "id": "rQKgwgp2F7SG",
        "outputId": "b142f660-15fa-4ee4-df79-cd6c710bad1a"
      },
      "execution_count": null,
      "outputs": [
        {
          "output_type": "execute_result",
          "data": {
            "text/plain": [
              "array([[ 1.03 ,  0.14 , -0.198,  1.186,  0.882,  0.163, -0.439,  1.495,\n",
              "        -0.229, -1.145,  1.781,  0.684,  0.586,  0.622,  0.632,  0.   ,\n",
              "         0.142, -0.256,  0.948, -0.67 , -0.514,  2.03 ],\n",
              "       [ 1.03 ,  0.14 ,  1.766,  1.186, -1.97 ,  0.163, -0.439, -0.669,\n",
              "        -0.229, -1.145,  0.839,  0.684,  0.586,  0.622,  0.632,  0.   ,\n",
              "         0.142, -0.256,  0.948, -0.25 , -1.313, -0.296],\n",
              "       [-2.087,  0.14 ,  1.373,  1.186, -0.544,  0.163, -0.439, -0.669,\n",
              "         0.053, -1.145,  0.839,  0.684,  0.586,  0.622,  0.632,  0.   ,\n",
              "         0.142, -0.256,  0.948, -0.25 , -1.313,  0.867],\n",
              "       [ 1.03 ,  0.953,  1.373,  1.186,  0.882,  0.163, -0.439,  1.495,\n",
              "         0.053, -1.145,  1.781,  0.684,  0.586,  0.622,  0.632,  0.   ,\n",
              "         0.142, -0.256,  0.948, -0.67 , -0.514,  2.03 ],\n",
              "       [ 1.03 ,  0.14 , -0.591, -0.843,  0.407,  0.163,  2.279, -0.669,\n",
              "        -0.229,  0.874,  1.781,  0.684,  0.586,  0.622,  0.632,  0.   ,\n",
              "         0.142, -0.256, -1.272, -0.25 , -2.911, -0.296]])"
            ]
          },
          "metadata": {},
          "execution_count": 54
        }
      ]
    },
    {
      "cell_type": "markdown",
      "source": [
        "**9. Проведите нормализацию факторных признаков. Для этого сначала создайте соответствующий объект с помощью функции Normalizer() из модуля sklearn.preprocessing. Потом обучите его на факторных признаках с помощью функции fit() и преобразуйте данные с помощью функции transform(). Выведите на экран первые 5 строк преобразованных данных.**\n"
      ],
      "metadata": {
        "id": "W028AWtnkOtp"
      }
    },
    {
      "cell_type": "markdown",
      "source": [
        "отступление:\n",
        "\n",
        "**Нормализация** подразумевает изменение диапазонов в данных без изменения формы распределения,\n",
        "\n",
        "**Стандартизация** изменяет форму распределения данных (приводится к нормальному распределению)."
      ],
      "metadata": {
        "id": "EDh30tvqoy6j"
      }
    },
    {
      "cell_type": "markdown",
      "source": [
        "# **простое объяснение:**\n",
        "Обычно достаточно **нормализовать** данные. Например, в глубоком обучении (Deep Learning) требуется перевести цвета изображений RGB из диапазона 0-255 к диапазону 0-1. А вот **стандартизацию** стоит применять при использование алгоритмов, которые основываются на измерении расстояний, например, *k ближайших соседей или метод опорных векторов* (SVM)."
      ],
      "metadata": {
        "id": "pz1LWKRPqX53"
      }
    },
    {
      "cell_type": "code",
      "source": [
        "scaler=Normalizer().fit(X) # создаем объект, обучаем"
      ],
      "metadata": {
        "id": "lK3iRskhF7z0"
      },
      "execution_count": null,
      "outputs": []
    },
    {
      "cell_type": "code",
      "source": [
        "normalizedX=scaler.transform(X) #  делает данные нормализованными"
      ],
      "metadata": {
        "id": "x2NzLulMGJXZ"
      },
      "execution_count": null,
      "outputs": []
    },
    {
      "cell_type": "code",
      "source": [
        "normalizedX[0:5,:]"
      ],
      "metadata": {
        "colab": {
          "base_uri": "https://localhost:8080/"
        },
        "id": "XH_qC1WBGVOg",
        "outputId": "fdca3fe6-c692-4ff2-ad6f-728a340e7f23"
      },
      "execution_count": null,
      "outputs": [
        {
          "output_type": "execute_result",
          "data": {
            "text/plain": [
              "array([[0.302, 0.121, 0.242, 0.06 , 0.362, 0.06 , 0.   , 0.06 , 0.242,\n",
              "        0.   , 0.181, 0.121, 0.121, 0.423, 0.423, 0.   , 0.121, 0.06 ,\n",
              "        0.242, 0.121, 0.181, 0.302],\n",
              "       [0.303, 0.121, 0.545, 0.061, 0.   , 0.061, 0.   , 0.   , 0.242,\n",
              "        0.   , 0.121, 0.121, 0.121, 0.424, 0.424, 0.   , 0.121, 0.061,\n",
              "        0.242, 0.182, 0.121, 0.061],\n",
              "       [0.   , 0.125, 0.499, 0.062, 0.187, 0.062, 0.   , 0.   , 0.312,\n",
              "        0.   , 0.125, 0.125, 0.125, 0.437, 0.437, 0.   , 0.125, 0.062,\n",
              "        0.25 , 0.187, 0.125, 0.187],\n",
              "       [0.273, 0.164, 0.436, 0.055, 0.327, 0.055, 0.   , 0.055, 0.273,\n",
              "        0.   , 0.164, 0.109, 0.109, 0.382, 0.382, 0.   , 0.109, 0.055,\n",
              "        0.218, 0.109, 0.164, 0.273],\n",
              "       [0.343, 0.137, 0.206, 0.   , 0.343, 0.069, 0.069, 0.   , 0.275,\n",
              "        0.069, 0.206, 0.137, 0.137, 0.481, 0.481, 0.   , 0.137, 0.069,\n",
              "        0.   , 0.206, 0.   , 0.069]])"
            ]
          },
          "metadata": {},
          "execution_count": 57
        }
      ]
    },
    {
      "cell_type": "markdown",
      "source": [
        "**10. Проведите бинарное кодирование факторных признаков так, чтобы значение признака, большее 0, стало равным 1. Для этого сначала создайте соответствующий объект с помощью функции Binarizer(threshold=0.0) из модуля sklearn.preprocessing. Потом обучите его на факторных признаках с помощью функции fit() и преобразуйте данные с помощью функции transform(). Выведите на экран первые 5 строк преобразованных данных.**\n"
      ],
      "metadata": {
        "id": "G50NNNjlsrqW"
      }
    },
    {
      "cell_type": "code",
      "source": [
        "binarizer=Binarizer(threshold=0.0).fit(X) # создаем и обучаем объект"
      ],
      "metadata": {
        "id": "fc30365bGabL"
      },
      "execution_count": null,
      "outputs": []
    },
    {
      "cell_type": "code",
      "source": [
        "binaryX=binarizer.transform(X) # преобразуем в бинарный вид"
      ],
      "metadata": {
        "id": "fMtKXcIUG1Xr"
      },
      "execution_count": null,
      "outputs": []
    },
    {
      "cell_type": "code",
      "source": [
        "binaryX[0:5,:]"
      ],
      "metadata": {
        "colab": {
          "base_uri": "https://localhost:8080/"
        },
        "id": "99_pH_YaHAzL",
        "outputId": "30cec2b7-4bbd-4228-e5aa-be5ba4b89950"
      },
      "execution_count": null,
      "outputs": [
        {
          "output_type": "execute_result",
          "data": {
            "text/plain": [
              "array([[1, 1, 1, 1, 1, 1, 0, 1, 1, 0, 1, 1, 1, 1, 1, 0, 1, 1, 1, 1, 1, 1],\n",
              "       [1, 1, 1, 1, 0, 1, 0, 0, 1, 0, 1, 1, 1, 1, 1, 0, 1, 1, 1, 1, 1, 1],\n",
              "       [0, 1, 1, 1, 1, 1, 0, 0, 1, 0, 1, 1, 1, 1, 1, 0, 1, 1, 1, 1, 1, 1],\n",
              "       [1, 1, 1, 1, 1, 1, 0, 1, 1, 0, 1, 1, 1, 1, 1, 0, 1, 1, 1, 1, 1, 1],\n",
              "       [1, 1, 1, 0, 1, 1, 1, 0, 1, 1, 1, 1, 1, 1, 1, 0, 1, 1, 0, 1, 0, 1]])"
            ]
          },
          "metadata": {},
          "execution_count": 64
        }
      ]
    },
    {
      "cell_type": "markdown",
      "source": [
        "# **Раздел 2. Отбор признаков**"
      ],
      "metadata": {
        "id": "ZUAsBA4CtNyE"
      }
    },
    {
      "cell_type": "markdown",
      "source": [
        "**11. Проведите отбор 4 наиболее значимых признаков на основе F-критерия в дисперсионном анализе. Для этого сначала создайте соответствующий объект с помощью функции SelectKBest(score_func=f_classif, k=4) из модуля sklearn.feature_selection. Потом обучите его на переменных X и Y с помощью функции fit(). Выведите на экран значения F-критерия для всех признаков, обратившись**"
      ],
      "metadata": {
        "id": "BKMkRRpyvMIQ"
      }
    },
    {
      "cell_type": "markdown",
      "source": [
        "Проще говоря:\n",
        "**f-критерий** - сравнивает 2 объекта по одному признаку (столбцу) и чем этот критерий выше, тем больше различие признаков\n",
        "\n",
        "т.е. в этом задании мы из 8 признаков выбираеи 4 признака, которые будут иметь максимальный f-критерий, находим 4 признака, которые **max** будут различать объекты"
      ],
      "metadata": {
        "id": "PHiFRyouvXSp"
      }
    },
    {
      "cell_type": "code",
      "source": [
        "test=SelectKBest(score_func=f_classif, k=4) # создание объекта"
      ],
      "metadata": {
        "id": "XXJTsoslHDwJ"
      },
      "execution_count": null,
      "outputs": []
    },
    {
      "cell_type": "code",
      "source": [
        "fit=test.fit(X,Y) # обучаем объект"
      ],
      "metadata": {
        "id": "QeDfoHOrH9u_",
        "colab": {
          "base_uri": "https://localhost:8080/"
        },
        "outputId": "1a63cf75-e781-498f-cdb4-730252aef6af"
      },
      "execution_count": null,
      "outputs": [
        {
          "output_type": "stream",
          "name": "stderr",
          "text": [
            "/usr/local/lib/python3.7/dist-packages/sklearn/feature_selection/_univariate_selection.py:112: UserWarning: Features [15] are constant.\n",
            "  warnings.warn(\"Features %s are constant.\" % constant_features_idx, UserWarning)\n",
            "/usr/local/lib/python3.7/dist-packages/sklearn/feature_selection/_univariate_selection.py:113: RuntimeWarning: invalid value encountered in true_divide\n",
            "  f = msb / msw\n"
          ]
        }
      ]
    },
    {
      "cell_type": "code",
      "source": [
        "fit.scores_ # выводим f-критерии, чем тольше значение, тем больше различие признаков"
      ],
      "metadata": {
        "colab": {
          "base_uri": "https://localhost:8080/"
        },
        "id": "qwVqNtgRIMie",
        "outputId": "5f485582-ca45-4d71-e6ba-892e8bf951c4"
      },
      "execution_count": null,
      "outputs": [
        {
          "output_type": "execute_result",
          "data": {
            "text/plain": [
              "array([  22.836,  267.135,    8.008, 2729.51 ,   71.711,  137.879,\n",
              "       1121.972, 3343.7  , 3182.113,   85.422, 1365.373, 1023.905,\n",
              "        796.236,  197.308,  178.712,      nan,  174.781,  391.207,\n",
              "       1658.306,  247.491,  795.563,  402.053])"
            ]
          },
          "metadata": {},
          "execution_count": 67
        }
      ]
    },
    {
      "cell_type": "markdown",
      "source": [
        "**12. Преобразуйте факторные признаки с помощью функции transform(). Выведите на экран первые 5 строк преобразованных данных.**\n"
      ],
      "metadata": {
        "id": "6MgN9M3D7hLU"
      }
    },
    {
      "cell_type": "code",
      "source": [
        "features=fit.transform(X) # вытаскивает из набора те признаки для которых f-критерии максимальные,\n",
        "                          # ранее мы задали их 4 штуки"
      ],
      "metadata": {
        "id": "q_Drm9xhINk_"
      },
      "execution_count": null,
      "outputs": []
    },
    {
      "cell_type": "code",
      "source": [
        "features[0:5,:]"
      ],
      "metadata": {
        "colab": {
          "base_uri": "https://localhost:8080/"
        },
        "id": "LSq1MCJlIhjT",
        "outputId": "28aa2e7a-c07e-4df9-b1ea-942935928fe4"
      },
      "execution_count": null,
      "outputs": [
        {
          "output_type": "execute_result",
          "data": {
            "text/plain": [
              "array([[1, 1, 4, 4],\n",
              "       [1, 0, 4, 4],\n",
              "       [1, 0, 5, 4],\n",
              "       [1, 1, 5, 4],\n",
              "       [0, 0, 4, 0]])"
            ]
          },
          "metadata": {},
          "execution_count": 72
        }
      ]
    },
    {
      "cell_type": "markdown",
      "source": [
        "**13. Проводите рекурсивное исключение наименее значимых признаков до тех пор, пока не останется 3 признака. Отбор осуществляйте на основе модели логистической регрессии. Сначала создайте модель с помощью функции LogisticRegression() из модуля sklearn.linear_model.**\n"
      ],
      "metadata": {
        "id": "W41bJXL48sVn"
      }
    },
    {
      "cell_type": "code",
      "source": [
        "model=LogisticRegression(solver='liblinear') # алгоритм оптимизации(создание объекта для модели регрессии)"
      ],
      "metadata": {
        "id": "bRWfW_sCIlOG"
      },
      "execution_count": null,
      "outputs": []
    },
    {
      "cell_type": "markdown",
      "source": [
        "**14. Затем с помощью функции RFE() из модуля sklearn.feature_selection создайте объект для рекурсивного исключения признаков, подав ему на вход созданную модель логистической регрессии и количество отбираемых признаков (n_features_to_select=3).**\n"
      ],
      "metadata": {
        "id": "6Sspib1R9T4t"
      }
    },
    {
      "cell_type": "code",
      "source": [
        "rfe=RFE(model,n_features_to_select=4)"
      ],
      "metadata": {
        "id": "H01kf1EMJIFy"
      },
      "execution_count": null,
      "outputs": []
    },
    {
      "cell_type": "markdown",
      "source": [
        "**15. Обучите созданный объект на переменных X и Y с помощью функции fit().**\n"
      ],
      "metadata": {
        "id": "se9wdxp--EQ2"
      }
    },
    {
      "cell_type": "code",
      "source": [
        "fit=rfe.fit(X,Y)"
      ],
      "metadata": {
        "id": "OmhI-CGeJdYN"
      },
      "execution_count": null,
      "outputs": []
    },
    {
      "cell_type": "markdown",
      "source": [
        "**16. Выведите на экран число отобранных признаков, обратившись к параметру n_features_.**\n"
      ],
      "metadata": {
        "id": "XNfPTl8F_DVU"
      }
    },
    {
      "cell_type": "code",
      "source": [
        "fit.n_features_"
      ],
      "metadata": {
        "colab": {
          "base_uri": "https://localhost:8080/"
        },
        "id": "Ay6f8rpxJn2L",
        "outputId": "8d1e901d-1505-4f8d-88d3-633a7f389164"
      },
      "execution_count": null,
      "outputs": [
        {
          "output_type": "execute_result",
          "data": {
            "text/plain": [
              "4"
            ]
          },
          "metadata": {},
          "execution_count": 79
        }
      ]
    },
    {
      "cell_type": "markdown",
      "source": [
        "**17. Выведите на экран логическое указание на отобранные признаки из всего набора, обратившись к параметру support_.**"
      ],
      "metadata": {
        "id": "ileZ60ag_Omp"
      }
    },
    {
      "cell_type": "code",
      "source": [
        "fit.support_ # определяет 3 наиболее значимых признака в бинарной форме"
      ],
      "metadata": {
        "colab": {
          "base_uri": "https://localhost:8080/"
        },
        "id": "bePTzMqsJuRD",
        "outputId": "55e18857-805b-4b91-9706-5f9c1fff2222"
      },
      "execution_count": null,
      "outputs": [
        {
          "output_type": "execute_result",
          "data": {
            "text/plain": [
              "array([False, False, False, False, False, False,  True,  True, False,\n",
              "       False, False,  True, False, False, False, False,  True, False,\n",
              "       False, False, False, False])"
            ]
          },
          "metadata": {},
          "execution_count": 80
        }
      ]
    },
    {
      "cell_type": "markdown",
      "source": [
        "**18. Выведите на экран ранги признаков, обратившись к параметру ranking_.**\n"
      ],
      "metadata": {
        "id": "oaN_MbY-_jwu"
      }
    },
    {
      "cell_type": "code",
      "source": [
        "fit.ranking_ # указывает признаки по значимости"
      ],
      "metadata": {
        "colab": {
          "base_uri": "https://localhost:8080/"
        },
        "id": "voWIDhPsJvhK",
        "outputId": "e71b64e5-a020-4ba6-8bc3-bc28317db795"
      },
      "execution_count": null,
      "outputs": [
        {
          "output_type": "execute_result",
          "data": {
            "text/plain": [
              "array([16,  8, 15,  7,  4,  2,  1,  1, 13, 18,  3,  1, 11, 12, 17, 19,  1,\n",
              "        5,  6, 10,  9, 14])"
            ]
          },
          "metadata": {},
          "execution_count": 81
        }
      ]
    },
    {
      "cell_type": "markdown",
      "source": [
        "**19. Проведите отбор 3-х главных компонент. Для этого сначала создайте соответствующий объект с помощью функции PCA(n_components=3) из модуля sklearn.decomposition.**\n"
      ],
      "metadata": {
        "id": "pc7rrvvY__6z"
      }
    },
    {
      "cell_type": "code",
      "source": [
        "rfe.fit_transform(X,Y) # выводим 3 главных признака, т.е. признааки в которых f-критерий максимален"
      ],
      "metadata": {
        "colab": {
          "base_uri": "https://localhost:8080/"
        },
        "id": "29RlaEgmJ4l2",
        "outputId": "dbbfd1f7-6456-4875-ffd9-cc97713e90cb"
      },
      "execution_count": null,
      "outputs": [
        {
          "output_type": "execute_result",
          "data": {
            "text/plain": [
              "array([[0, 1, 2, 2],\n",
              "       [0, 0, 2, 2],\n",
              "       [0, 0, 2, 2],\n",
              "       ...,\n",
              "       [0, 0, 2, 1],\n",
              "       [0, 1, 2, 2],\n",
              "       [0, 0, 2, 1]])"
            ]
          },
          "metadata": {},
          "execution_count": 82
        }
      ]
    },
    {
      "cell_type": "code",
      "source": [
        "pca=PCA(n_components=3) # создаем объект"
      ],
      "metadata": {
        "id": "lFmw1BYnKGpQ"
      },
      "execution_count": null,
      "outputs": []
    },
    {
      "cell_type": "markdown",
      "source": [
        "**20. Обучите его на факторных признаках с помощью функции fit().**\n"
      ],
      "metadata": {
        "id": "WssxjJNZCEbm"
      }
    },
    {
      "cell_type": "code",
      "source": [
        "fit=pca.fit(X)"
      ],
      "metadata": {
        "id": "F5B9Jfw6Ky8q"
      },
      "execution_count": null,
      "outputs": []
    },
    {
      "cell_type": "markdown",
      "source": [
        "**21. Выведите на экран долю объясненной 3-мя компонентами дисперсии, обратившись к параметру explained_variance_ratio_.**\n"
      ],
      "metadata": {
        "id": "EUCh42L_Cerc"
      }
    },
    {
      "cell_type": "markdown",
      "source": [
        "**!!!** сначала идут компоненты с наибольшой диспперсией"
      ],
      "metadata": {
        "id": "OJgfhpvUCh-q"
      }
    },
    {
      "cell_type": "code",
      "source": [
        "fit.explained_variance_ratio_ # вывод: основная первая компонента, ее достаточно"
      ],
      "metadata": {
        "colab": {
          "base_uri": "https://localhost:8080/"
        },
        "id": "9JTe1tHsLGKq",
        "outputId": "7faf2d58-be4c-4dd0-90e6-b34f4cc0f1ec"
      },
      "execution_count": null,
      "outputs": [
        {
          "output_type": "execute_result",
          "data": {
            "text/plain": [
              "array([0.338, 0.166, 0.123])"
            ]
          },
          "metadata": {},
          "execution_count": 85
        }
      ]
    },
    {
      "cell_type": "markdown",
      "source": [
        "**22. Выведите на экран главные компонентные нагрузки, обратившись к параметру components_.**\n"
      ],
      "metadata": {
        "id": "qThhiLGqDUhl"
      }
    },
    {
      "cell_type": "markdown",
      "source": [
        "**компонентные нагрузки** - это коэффициент корреляции между признаками и главными компонентами(ответами)"
      ],
      "metadata": {
        "id": "lfVVruK6EChe"
      }
    },
    {
      "cell_type": "code",
      "source": [
        "fit.components_"
      ],
      "metadata": {
        "colab": {
          "base_uri": "https://localhost:8080/"
        },
        "id": "3hpyi_RXLLo4",
        "outputId": "f7b974f3-40a5-444f-d2c3-374815cfa4e6"
      },
      "execution_count": null,
      "outputs": [
        {
          "output_type": "execute_result",
          "data": {
            "text/plain": [
              "array([[-0.005,  0.064, -0.194, -0.063,  0.207,  0.003, -0.003,  0.073,\n",
              "        -0.767,  0.04 , -0.114, -0.023, -0.03 ,  0.086,  0.088, -0.   ,\n",
              "         0.004,  0.003, -0.325,  0.411, -0.014,  0.104],\n",
              "       [ 0.008, -0.002,  0.623, -0.044, -0.458,  0.006, -0.007, -0.018,\n",
              "        -0.464, -0.074,  0.07 , -0.063, -0.066, -0.165, -0.151,  0.   ,\n",
              "         0.007, -0.019, -0.053, -0.323,  0.006,  0.086],\n",
              "       [ 0.084, -0.047, -0.495, -0.024, -0.044, -0.003, -0.056, -0.033,\n",
              "        -0.114,  0.009, -0.135, -0.039, -0.044, -0.546, -0.546, -0.   ,\n",
              "        -0.004, -0.021, -0.028, -0.217,  0.224, -0.099]])"
            ]
          },
          "metadata": {},
          "execution_count": 86
        }
      ]
    },
    {
      "cell_type": "code",
      "source": [
        "pca.fit_transform(X) # переводит среднее в 0? штоли"
      ],
      "metadata": {
        "colab": {
          "base_uri": "https://localhost:8080/"
        },
        "id": "avUIdsduLZDB",
        "outputId": "a99c43aa-e4b0-491a-cb9b-cd3dca167678"
      },
      "execution_count": null,
      "outputs": [
        {
          "output_type": "execute_result",
          "data": {
            "text/plain": [
              "array([[ 0.228, -0.345, -1.424],\n",
              "       [-1.937,  4.797, -3.512],\n",
              "       [-1.654,  2.464, -3.881],\n",
              "       ...,\n",
              "       [-1.861,  0.47 ,  1.19 ],\n",
              "       [ 7.293, -1.252, -1.242],\n",
              "       [-4.836, -3.584, -0.113]])"
            ]
          },
          "metadata": {},
          "execution_count": 87
        }
      ]
    },
    {
      "cell_type": "markdown",
      "source": [
        "**23. Примените классификатор дополнительных деревьев для отбора признаков, воспользовавшись встроенным в них механизмом расчета критериев информативности при поиске, по какому признаку осуществлять разбиение. Для этого сначала создайте соответствующий объект с помощью функции ExtraTreesClassifier(n_estimators=100) из модуля sklearn.ensemble.**"
      ],
      "metadata": {
        "id": "xOlXkz8cGR2j"
      }
    },
    {
      "cell_type": "code",
      "source": [
        "model=ExtraTreesClassifier(n_estimators=100)"
      ],
      "metadata": {
        "id": "G8K53cd7MIIn"
      },
      "execution_count": null,
      "outputs": []
    },
    {
      "cell_type": "markdown",
      "source": [
        "**24. Обучите его на переменных X и Y с помощью функции fit().**\n"
      ],
      "metadata": {
        "id": "Xp4WD2GIG7Wu"
      }
    },
    {
      "cell_type": "code",
      "source": [
        "model.fit(X,Y)"
      ],
      "metadata": {
        "colab": {
          "base_uri": "https://localhost:8080/"
        },
        "id": "HIcWtZMuMarT",
        "outputId": "e340cafb-0145-4480-9e09-c26141510246"
      },
      "execution_count": null,
      "outputs": [
        {
          "output_type": "execute_result",
          "data": {
            "text/plain": [
              "ExtraTreesClassifier()"
            ]
          },
          "metadata": {},
          "execution_count": 89
        }
      ]
    },
    {
      "cell_type": "markdown",
      "source": [
        "**25. Выведите на экран значения критерия информативности для каждого признака, обратившись к параметру feature_importances_.**\n"
      ],
      "metadata": {
        "id": "V1UDbZM_Htsw"
      }
    },
    {
      "cell_type": "code",
      "source": [
        "model.feature_importances_"
      ],
      "metadata": {
        "colab": {
          "base_uri": "https://localhost:8080/"
        },
        "id": "RsgzU8yWMgK5",
        "outputId": "9141d005-8451-4bd1-a0a2-1f84be2366f8"
      },
      "execution_count": null,
      "outputs": [
        {
          "output_type": "execute_result",
          "data": {
            "text/plain": [
              "array([0.005, 0.018, 0.012, 0.101, 0.118, 0.003, 0.048, 0.137, 0.064,\n",
              "       0.051, 0.068, 0.049, 0.044, 0.015, 0.015, 0.   , 0.004, 0.019,\n",
              "       0.095, 0.053, 0.047, 0.034])"
            ]
          },
          "metadata": {},
          "execution_count": 91
        }
      ]
    },
    {
      "cell_type": "markdown",
      "source": [
        "# **ЗАДАНИЕ 4. ФАКТОРНЫЙ АНАЛИЗ**"
      ],
      "metadata": {
        "id": "2XyQd3XSWJ2L"
      }
    },
    {
      "cell_type": "markdown",
      "source": [
        "На основе данных о поведении самцов корюшки проведите факторный анализ.\n",
        "Постарайтесь максимально автоматизировать все вычисления, использовать существующие модули среды программирования Python."
      ],
      "metadata": {
        "id": "qyXzkFa-cuYT"
      }
    },
    {
      "cell_type": "code",
      "source": [
        "!pip install factor_analyzer"
      ],
      "metadata": {
        "colab": {
          "base_uri": "https://localhost:8080/"
        },
        "id": "4_NjLHWpYUfs",
        "outputId": "8fe8db36-a57d-499a-84c4-9238a121158e"
      },
      "execution_count": null,
      "outputs": [
        {
          "output_type": "stream",
          "name": "stdout",
          "text": [
            "Collecting factor_analyzer\n",
            "  Downloading factor_analyzer-0.4.0.tar.gz (41 kB)\n",
            "\u001b[?25l\r\u001b[K     |███████▉                        | 10 kB 16.5 MB/s eta 0:00:01\r\u001b[K     |███████████████▊                | 20 kB 16.0 MB/s eta 0:00:01\r\u001b[K     |███████████████████████▋        | 30 kB 7.1 MB/s eta 0:00:01\r\u001b[K     |███████████████████████████████▌| 40 kB 4.6 MB/s eta 0:00:01\r\u001b[K     |████████████████████████████████| 41 kB 348 kB/s \n",
            "\u001b[?25hRequirement already satisfied: pandas in /usr/local/lib/python3.7/dist-packages (from factor_analyzer) (1.3.5)\n",
            "Requirement already satisfied: scipy in /usr/local/lib/python3.7/dist-packages (from factor_analyzer) (1.4.1)\n",
            "Requirement already satisfied: numpy in /usr/local/lib/python3.7/dist-packages (from factor_analyzer) (1.21.5)\n",
            "Requirement already satisfied: scikit-learn in /usr/local/lib/python3.7/dist-packages (from factor_analyzer) (1.0.2)\n",
            "Requirement already satisfied: pytz>=2017.3 in /usr/local/lib/python3.7/dist-packages (from pandas->factor_analyzer) (2018.9)\n",
            "Requirement already satisfied: python-dateutil>=2.7.3 in /usr/local/lib/python3.7/dist-packages (from pandas->factor_analyzer) (2.8.2)\n",
            "Requirement already satisfied: six>=1.5 in /usr/local/lib/python3.7/dist-packages (from python-dateutil>=2.7.3->pandas->factor_analyzer) (1.15.0)\n",
            "Requirement already satisfied: joblib>=0.11 in /usr/local/lib/python3.7/dist-packages (from scikit-learn->factor_analyzer) (1.1.0)\n",
            "Requirement already satisfied: threadpoolctl>=2.0.0 in /usr/local/lib/python3.7/dist-packages (from scikit-learn->factor_analyzer) (3.1.0)\n",
            "Building wheels for collected packages: factor-analyzer\n",
            "  Building wheel for factor-analyzer (setup.py) ... \u001b[?25l\u001b[?25hdone\n",
            "  Created wheel for factor-analyzer: filename=factor_analyzer-0.4.0-py3-none-any.whl size=41455 sha256=0c9e19a55d3c2bdedd3ce5e38c86fe8664bb1d59f1757a42a35aee9dd4a48574\n",
            "  Stored in directory: /root/.cache/pip/wheels/ac/00/37/1f0e8a5039f9e9f207c4405bbce0796f07701eb377bfc6cc76\n",
            "Successfully built factor-analyzer\n",
            "Installing collected packages: factor-analyzer\n",
            "Successfully installed factor-analyzer-0.4.0\n"
          ]
        }
      ]
    },
    {
      "cell_type": "markdown",
      "source": [
        "**2 метода понижения размерности:**\n",
        "1. компонентный метод и\n",
        "2. факторный анализ\n",
        "\n",
        "!!! сначала применяем 1., а потом 2."
      ],
      "metadata": {
        "id": "IixJ2Bt3rWO2"
      }
    },
    {
      "cell_type": "code",
      "source": [
        "import os\n",
        "import pandas as pd\n",
        "from pandas.plotting import scatter_matrix\n",
        "from sklearn import preprocessing\n",
        "from sklearn.decomposition import PCA\n",
        "from sklearn.decomposition import FactorAnalysis\n",
        "from factor_analyzer import FactorAnalyzer\n",
        "from factor_analyzer import factor_analyzer\n",
        "from factor_analyzer.factor_analyzer import calculate_bartlett_sphericity\n",
        "from factor_analyzer.factor_analyzer import calculate_kmo\n",
        "import matplotlib.pyplot as plt"
      ],
      "metadata": {
        "id": "EZFcnDz0MmOB"
      },
      "execution_count": null,
      "outputs": []
    },
    {
      "cell_type": "markdown",
      "source": [
        "**Методика выполнения задания:**"
      ],
      "metadata": {
        "id": "dhVxUAFdc2JO"
      }
    },
    {
      "cell_type": "markdown",
      "source": [
        "# **Раздел 1. Предварительный анализ данных**"
      ],
      "metadata": {
        "id": "_CxBXZCjc4EE"
      }
    },
    {
      "cell_type": "markdown",
      "source": [
        "**1. Укажите путь к рабочей папке, где хранятся данные, с помощью функции chdir() из модуля os.**\n"
      ],
      "metadata": {
        "id": "biynr6rXuX2z"
      }
    },
    {
      "cell_type": "code",
      "source": [
        "os.chdir('/content/gdrive/MyDrive/Colab Notebooks/PDA-200')"
      ],
      "metadata": {
        "id": "vOb9TT00Yxks"
      },
      "execution_count": null,
      "outputs": []
    },
    {
      "cell_type": "markdown",
      "source": [
        "**2. Загрузите данные файла stickleback.csv с помощью функции read_csv() из модуля pandas. Посмотрите на первые 5 наблюдений с помощью функции head().**"
      ],
      "metadata": {
        "id": "9X5X6nTAue5D"
      }
    },
    {
      "cell_type": "code",
      "source": [
        "df=pd.read_csv('stickleback.csv',sep=';',decimal=',')\n",
        "df.head()"
      ],
      "metadata": {
        "colab": {
          "base_uri": "https://localhost:8080/",
          "height": 287
        },
        "id": "62_a-pQhY4ON",
        "outputId": "c43a659e-61a2-44ef-e76d-47fd4b383003"
      },
      "execution_count": null,
      "outputs": [
        {
          "output_type": "execute_result",
          "data": {
            "text/plain": [
              "   LUNGES  BITES  ZIGZAGS  NEST  SPINES  DNEST   BOUT  Unnamed: 7  Unnamed: 8  \\\n",
              "0    79.0   25.0      0.0   0.0    15.0    0.0   45.0         NaN         NaN   \n",
              "1   136.0   58.0      6.0   0.0    15.0    0.0  148.0         NaN         NaN   \n",
              "2   115.0   30.0      2.0   1.0     9.0    5.0   29.0         NaN         NaN   \n",
              "3   129.0  139.0     16.0   0.0    22.0    0.0   69.0         NaN         NaN   \n",
              "4   120.0   58.0     15.0  15.0    14.0   82.0    9.0         NaN         NaN   \n",
              "\n",
              "   Unnamed: 9  Unnamed: 10  Unnamed: 11  Unnamed: 12  Unnamed: 13  \\\n",
              "0         NaN          NaN          NaN          NaN          NaN   \n",
              "1         NaN          NaN          NaN          NaN          NaN   \n",
              "2         NaN          NaN          NaN          NaN          NaN   \n",
              "3         NaN          NaN          NaN          NaN          NaN   \n",
              "4         NaN          NaN          NaN          NaN          NaN   \n",
              "\n",
              "   Unnamed: 14  Unnamed: 15  Unnamed: 16  Unnamed: 17  Unnamed: 18  \n",
              "0          NaN          NaN          NaN          NaN          NaN  \n",
              "1          NaN          NaN          NaN          NaN          NaN  \n",
              "2          NaN          NaN          NaN          NaN          NaN  \n",
              "3          NaN          NaN          NaN          NaN          NaN  \n",
              "4          NaN          NaN          NaN          NaN          NaN  "
            ],
            "text/html": [
              "\n",
              "  <div id=\"df-3eaa9960-5abd-41e8-a800-6b38fbbd676e\">\n",
              "    <div class=\"colab-df-container\">\n",
              "      <div>\n",
              "<style scoped>\n",
              "    .dataframe tbody tr th:only-of-type {\n",
              "        vertical-align: middle;\n",
              "    }\n",
              "\n",
              "    .dataframe tbody tr th {\n",
              "        vertical-align: top;\n",
              "    }\n",
              "\n",
              "    .dataframe thead th {\n",
              "        text-align: right;\n",
              "    }\n",
              "</style>\n",
              "<table border=\"1\" class=\"dataframe\">\n",
              "  <thead>\n",
              "    <tr style=\"text-align: right;\">\n",
              "      <th></th>\n",
              "      <th>LUNGES</th>\n",
              "      <th>BITES</th>\n",
              "      <th>ZIGZAGS</th>\n",
              "      <th>NEST</th>\n",
              "      <th>SPINES</th>\n",
              "      <th>DNEST</th>\n",
              "      <th>BOUT</th>\n",
              "      <th>Unnamed: 7</th>\n",
              "      <th>Unnamed: 8</th>\n",
              "      <th>Unnamed: 9</th>\n",
              "      <th>Unnamed: 10</th>\n",
              "      <th>Unnamed: 11</th>\n",
              "      <th>Unnamed: 12</th>\n",
              "      <th>Unnamed: 13</th>\n",
              "      <th>Unnamed: 14</th>\n",
              "      <th>Unnamed: 15</th>\n",
              "      <th>Unnamed: 16</th>\n",
              "      <th>Unnamed: 17</th>\n",
              "      <th>Unnamed: 18</th>\n",
              "    </tr>\n",
              "  </thead>\n",
              "  <tbody>\n",
              "    <tr>\n",
              "      <th>0</th>\n",
              "      <td>79.0</td>\n",
              "      <td>25.0</td>\n",
              "      <td>0.0</td>\n",
              "      <td>0.0</td>\n",
              "      <td>15.0</td>\n",
              "      <td>0.0</td>\n",
              "      <td>45.0</td>\n",
              "      <td>NaN</td>\n",
              "      <td>NaN</td>\n",
              "      <td>NaN</td>\n",
              "      <td>NaN</td>\n",
              "      <td>NaN</td>\n",
              "      <td>NaN</td>\n",
              "      <td>NaN</td>\n",
              "      <td>NaN</td>\n",
              "      <td>NaN</td>\n",
              "      <td>NaN</td>\n",
              "      <td>NaN</td>\n",
              "      <td>NaN</td>\n",
              "    </tr>\n",
              "    <tr>\n",
              "      <th>1</th>\n",
              "      <td>136.0</td>\n",
              "      <td>58.0</td>\n",
              "      <td>6.0</td>\n",
              "      <td>0.0</td>\n",
              "      <td>15.0</td>\n",
              "      <td>0.0</td>\n",
              "      <td>148.0</td>\n",
              "      <td>NaN</td>\n",
              "      <td>NaN</td>\n",
              "      <td>NaN</td>\n",
              "      <td>NaN</td>\n",
              "      <td>NaN</td>\n",
              "      <td>NaN</td>\n",
              "      <td>NaN</td>\n",
              "      <td>NaN</td>\n",
              "      <td>NaN</td>\n",
              "      <td>NaN</td>\n",
              "      <td>NaN</td>\n",
              "      <td>NaN</td>\n",
              "    </tr>\n",
              "    <tr>\n",
              "      <th>2</th>\n",
              "      <td>115.0</td>\n",
              "      <td>30.0</td>\n",
              "      <td>2.0</td>\n",
              "      <td>1.0</td>\n",
              "      <td>9.0</td>\n",
              "      <td>5.0</td>\n",
              "      <td>29.0</td>\n",
              "      <td>NaN</td>\n",
              "      <td>NaN</td>\n",
              "      <td>NaN</td>\n",
              "      <td>NaN</td>\n",
              "      <td>NaN</td>\n",
              "      <td>NaN</td>\n",
              "      <td>NaN</td>\n",
              "      <td>NaN</td>\n",
              "      <td>NaN</td>\n",
              "      <td>NaN</td>\n",
              "      <td>NaN</td>\n",
              "      <td>NaN</td>\n",
              "    </tr>\n",
              "    <tr>\n",
              "      <th>3</th>\n",
              "      <td>129.0</td>\n",
              "      <td>139.0</td>\n",
              "      <td>16.0</td>\n",
              "      <td>0.0</td>\n",
              "      <td>22.0</td>\n",
              "      <td>0.0</td>\n",
              "      <td>69.0</td>\n",
              "      <td>NaN</td>\n",
              "      <td>NaN</td>\n",
              "      <td>NaN</td>\n",
              "      <td>NaN</td>\n",
              "      <td>NaN</td>\n",
              "      <td>NaN</td>\n",
              "      <td>NaN</td>\n",
              "      <td>NaN</td>\n",
              "      <td>NaN</td>\n",
              "      <td>NaN</td>\n",
              "      <td>NaN</td>\n",
              "      <td>NaN</td>\n",
              "    </tr>\n",
              "    <tr>\n",
              "      <th>4</th>\n",
              "      <td>120.0</td>\n",
              "      <td>58.0</td>\n",
              "      <td>15.0</td>\n",
              "      <td>15.0</td>\n",
              "      <td>14.0</td>\n",
              "      <td>82.0</td>\n",
              "      <td>9.0</td>\n",
              "      <td>NaN</td>\n",
              "      <td>NaN</td>\n",
              "      <td>NaN</td>\n",
              "      <td>NaN</td>\n",
              "      <td>NaN</td>\n",
              "      <td>NaN</td>\n",
              "      <td>NaN</td>\n",
              "      <td>NaN</td>\n",
              "      <td>NaN</td>\n",
              "      <td>NaN</td>\n",
              "      <td>NaN</td>\n",
              "      <td>NaN</td>\n",
              "    </tr>\n",
              "  </tbody>\n",
              "</table>\n",
              "</div>\n",
              "      <button class=\"colab-df-convert\" onclick=\"convertToInteractive('df-3eaa9960-5abd-41e8-a800-6b38fbbd676e')\"\n",
              "              title=\"Convert this dataframe to an interactive table.\"\n",
              "              style=\"display:none;\">\n",
              "        \n",
              "  <svg xmlns=\"http://www.w3.org/2000/svg\" height=\"24px\"viewBox=\"0 0 24 24\"\n",
              "       width=\"24px\">\n",
              "    <path d=\"M0 0h24v24H0V0z\" fill=\"none\"/>\n",
              "    <path d=\"M18.56 5.44l.94 2.06.94-2.06 2.06-.94-2.06-.94-.94-2.06-.94 2.06-2.06.94zm-11 1L8.5 8.5l.94-2.06 2.06-.94-2.06-.94L8.5 2.5l-.94 2.06-2.06.94zm10 10l.94 2.06.94-2.06 2.06-.94-2.06-.94-.94-2.06-.94 2.06-2.06.94z\"/><path d=\"M17.41 7.96l-1.37-1.37c-.4-.4-.92-.59-1.43-.59-.52 0-1.04.2-1.43.59L10.3 9.45l-7.72 7.72c-.78.78-.78 2.05 0 2.83L4 21.41c.39.39.9.59 1.41.59.51 0 1.02-.2 1.41-.59l7.78-7.78 2.81-2.81c.8-.78.8-2.07 0-2.86zM5.41 20L4 18.59l7.72-7.72 1.47 1.35L5.41 20z\"/>\n",
              "  </svg>\n",
              "      </button>\n",
              "      \n",
              "  <style>\n",
              "    .colab-df-container {\n",
              "      display:flex;\n",
              "      flex-wrap:wrap;\n",
              "      gap: 12px;\n",
              "    }\n",
              "\n",
              "    .colab-df-convert {\n",
              "      background-color: #E8F0FE;\n",
              "      border: none;\n",
              "      border-radius: 50%;\n",
              "      cursor: pointer;\n",
              "      display: none;\n",
              "      fill: #1967D2;\n",
              "      height: 32px;\n",
              "      padding: 0 0 0 0;\n",
              "      width: 32px;\n",
              "    }\n",
              "\n",
              "    .colab-df-convert:hover {\n",
              "      background-color: #E2EBFA;\n",
              "      box-shadow: 0px 1px 2px rgba(60, 64, 67, 0.3), 0px 1px 3px 1px rgba(60, 64, 67, 0.15);\n",
              "      fill: #174EA6;\n",
              "    }\n",
              "\n",
              "    [theme=dark] .colab-df-convert {\n",
              "      background-color: #3B4455;\n",
              "      fill: #D2E3FC;\n",
              "    }\n",
              "\n",
              "    [theme=dark] .colab-df-convert:hover {\n",
              "      background-color: #434B5C;\n",
              "      box-shadow: 0px 1px 3px 1px rgba(0, 0, 0, 0.15);\n",
              "      filter: drop-shadow(0px 1px 2px rgba(0, 0, 0, 0.3));\n",
              "      fill: #FFFFFF;\n",
              "    }\n",
              "  </style>\n",
              "\n",
              "      <script>\n",
              "        const buttonEl =\n",
              "          document.querySelector('#df-3eaa9960-5abd-41e8-a800-6b38fbbd676e button.colab-df-convert');\n",
              "        buttonEl.style.display =\n",
              "          google.colab.kernel.accessAllowed ? 'block' : 'none';\n",
              "\n",
              "        async function convertToInteractive(key) {\n",
              "          const element = document.querySelector('#df-3eaa9960-5abd-41e8-a800-6b38fbbd676e');\n",
              "          const dataTable =\n",
              "            await google.colab.kernel.invokeFunction('convertToInteractive',\n",
              "                                                     [key], {});\n",
              "          if (!dataTable) return;\n",
              "\n",
              "          const docLinkHtml = 'Like what you see? Visit the ' +\n",
              "            '<a target=\"_blank\" href=https://colab.research.google.com/notebooks/data_table.ipynb>data table notebook</a>'\n",
              "            + ' to learn more about interactive tables.';\n",
              "          element.innerHTML = '';\n",
              "          dataTable['output_type'] = 'display_data';\n",
              "          await google.colab.output.renderOutput(dataTable, element);\n",
              "          const docLink = document.createElement('div');\n",
              "          docLink.innerHTML = docLinkHtml;\n",
              "          element.appendChild(docLink);\n",
              "        }\n",
              "      </script>\n",
              "    </div>\n",
              "  </div>\n",
              "  "
            ]
          },
          "metadata": {},
          "execution_count": 8
        }
      ]
    },
    {
      "cell_type": "markdown",
      "source": [
        "**3. Очистите данные от шума с помощью функции filter(regex='^(?!.*Unnamed).*$'). Посмотрите на первые 5 наблюдений с помощью функции head().**"
      ],
      "metadata": {
        "id": "EFVV8H5XuolV"
      }
    },
    {
      "cell_type": "code",
      "source": [
        "df=df.filter(regex='^(?!.*Unnamed).*$') # очистка от столбцов 'unnamed'\n",
        "df.head()"
      ],
      "metadata": {
        "colab": {
          "base_uri": "https://localhost:8080/",
          "height": 206
        },
        "id": "_-Z8k1SZZWsy",
        "outputId": "48e6a5d6-f463-415d-9c65-c0c8a98c4403"
      },
      "execution_count": null,
      "outputs": [
        {
          "output_type": "execute_result",
          "data": {
            "text/plain": [
              "   LUNGES  BITES  ZIGZAGS  NEST  SPINES  DNEST   BOUT\n",
              "0    79.0   25.0      0.0   0.0    15.0    0.0   45.0\n",
              "1   136.0   58.0      6.0   0.0    15.0    0.0  148.0\n",
              "2   115.0   30.0      2.0   1.0     9.0    5.0   29.0\n",
              "3   129.0  139.0     16.0   0.0    22.0    0.0   69.0\n",
              "4   120.0   58.0     15.0  15.0    14.0   82.0    9.0"
            ],
            "text/html": [
              "\n",
              "  <div id=\"df-9c8742f6-5f90-49be-be0b-e9cce21e5c46\">\n",
              "    <div class=\"colab-df-container\">\n",
              "      <div>\n",
              "<style scoped>\n",
              "    .dataframe tbody tr th:only-of-type {\n",
              "        vertical-align: middle;\n",
              "    }\n",
              "\n",
              "    .dataframe tbody tr th {\n",
              "        vertical-align: top;\n",
              "    }\n",
              "\n",
              "    .dataframe thead th {\n",
              "        text-align: right;\n",
              "    }\n",
              "</style>\n",
              "<table border=\"1\" class=\"dataframe\">\n",
              "  <thead>\n",
              "    <tr style=\"text-align: right;\">\n",
              "      <th></th>\n",
              "      <th>LUNGES</th>\n",
              "      <th>BITES</th>\n",
              "      <th>ZIGZAGS</th>\n",
              "      <th>NEST</th>\n",
              "      <th>SPINES</th>\n",
              "      <th>DNEST</th>\n",
              "      <th>BOUT</th>\n",
              "    </tr>\n",
              "  </thead>\n",
              "  <tbody>\n",
              "    <tr>\n",
              "      <th>0</th>\n",
              "      <td>79.0</td>\n",
              "      <td>25.0</td>\n",
              "      <td>0.0</td>\n",
              "      <td>0.0</td>\n",
              "      <td>15.0</td>\n",
              "      <td>0.0</td>\n",
              "      <td>45.0</td>\n",
              "    </tr>\n",
              "    <tr>\n",
              "      <th>1</th>\n",
              "      <td>136.0</td>\n",
              "      <td>58.0</td>\n",
              "      <td>6.0</td>\n",
              "      <td>0.0</td>\n",
              "      <td>15.0</td>\n",
              "      <td>0.0</td>\n",
              "      <td>148.0</td>\n",
              "    </tr>\n",
              "    <tr>\n",
              "      <th>2</th>\n",
              "      <td>115.0</td>\n",
              "      <td>30.0</td>\n",
              "      <td>2.0</td>\n",
              "      <td>1.0</td>\n",
              "      <td>9.0</td>\n",
              "      <td>5.0</td>\n",
              "      <td>29.0</td>\n",
              "    </tr>\n",
              "    <tr>\n",
              "      <th>3</th>\n",
              "      <td>129.0</td>\n",
              "      <td>139.0</td>\n",
              "      <td>16.0</td>\n",
              "      <td>0.0</td>\n",
              "      <td>22.0</td>\n",
              "      <td>0.0</td>\n",
              "      <td>69.0</td>\n",
              "    </tr>\n",
              "    <tr>\n",
              "      <th>4</th>\n",
              "      <td>120.0</td>\n",
              "      <td>58.0</td>\n",
              "      <td>15.0</td>\n",
              "      <td>15.0</td>\n",
              "      <td>14.0</td>\n",
              "      <td>82.0</td>\n",
              "      <td>9.0</td>\n",
              "    </tr>\n",
              "  </tbody>\n",
              "</table>\n",
              "</div>\n",
              "      <button class=\"colab-df-convert\" onclick=\"convertToInteractive('df-9c8742f6-5f90-49be-be0b-e9cce21e5c46')\"\n",
              "              title=\"Convert this dataframe to an interactive table.\"\n",
              "              style=\"display:none;\">\n",
              "        \n",
              "  <svg xmlns=\"http://www.w3.org/2000/svg\" height=\"24px\"viewBox=\"0 0 24 24\"\n",
              "       width=\"24px\">\n",
              "    <path d=\"M0 0h24v24H0V0z\" fill=\"none\"/>\n",
              "    <path d=\"M18.56 5.44l.94 2.06.94-2.06 2.06-.94-2.06-.94-.94-2.06-.94 2.06-2.06.94zm-11 1L8.5 8.5l.94-2.06 2.06-.94-2.06-.94L8.5 2.5l-.94 2.06-2.06.94zm10 10l.94 2.06.94-2.06 2.06-.94-2.06-.94-.94-2.06-.94 2.06-2.06.94z\"/><path d=\"M17.41 7.96l-1.37-1.37c-.4-.4-.92-.59-1.43-.59-.52 0-1.04.2-1.43.59L10.3 9.45l-7.72 7.72c-.78.78-.78 2.05 0 2.83L4 21.41c.39.39.9.59 1.41.59.51 0 1.02-.2 1.41-.59l7.78-7.78 2.81-2.81c.8-.78.8-2.07 0-2.86zM5.41 20L4 18.59l7.72-7.72 1.47 1.35L5.41 20z\"/>\n",
              "  </svg>\n",
              "      </button>\n",
              "      \n",
              "  <style>\n",
              "    .colab-df-container {\n",
              "      display:flex;\n",
              "      flex-wrap:wrap;\n",
              "      gap: 12px;\n",
              "    }\n",
              "\n",
              "    .colab-df-convert {\n",
              "      background-color: #E8F0FE;\n",
              "      border: none;\n",
              "      border-radius: 50%;\n",
              "      cursor: pointer;\n",
              "      display: none;\n",
              "      fill: #1967D2;\n",
              "      height: 32px;\n",
              "      padding: 0 0 0 0;\n",
              "      width: 32px;\n",
              "    }\n",
              "\n",
              "    .colab-df-convert:hover {\n",
              "      background-color: #E2EBFA;\n",
              "      box-shadow: 0px 1px 2px rgba(60, 64, 67, 0.3), 0px 1px 3px 1px rgba(60, 64, 67, 0.15);\n",
              "      fill: #174EA6;\n",
              "    }\n",
              "\n",
              "    [theme=dark] .colab-df-convert {\n",
              "      background-color: #3B4455;\n",
              "      fill: #D2E3FC;\n",
              "    }\n",
              "\n",
              "    [theme=dark] .colab-df-convert:hover {\n",
              "      background-color: #434B5C;\n",
              "      box-shadow: 0px 1px 3px 1px rgba(0, 0, 0, 0.15);\n",
              "      filter: drop-shadow(0px 1px 2px rgba(0, 0, 0, 0.3));\n",
              "      fill: #FFFFFF;\n",
              "    }\n",
              "  </style>\n",
              "\n",
              "      <script>\n",
              "        const buttonEl =\n",
              "          document.querySelector('#df-9c8742f6-5f90-49be-be0b-e9cce21e5c46 button.colab-df-convert');\n",
              "        buttonEl.style.display =\n",
              "          google.colab.kernel.accessAllowed ? 'block' : 'none';\n",
              "\n",
              "        async function convertToInteractive(key) {\n",
              "          const element = document.querySelector('#df-9c8742f6-5f90-49be-be0b-e9cce21e5c46');\n",
              "          const dataTable =\n",
              "            await google.colab.kernel.invokeFunction('convertToInteractive',\n",
              "                                                     [key], {});\n",
              "          if (!dataTable) return;\n",
              "\n",
              "          const docLinkHtml = 'Like what you see? Visit the ' +\n",
              "            '<a target=\"_blank\" href=https://colab.research.google.com/notebooks/data_table.ipynb>data table notebook</a>'\n",
              "            + ' to learn more about interactive tables.';\n",
              "          element.innerHTML = '';\n",
              "          dataTable['output_type'] = 'display_data';\n",
              "          await google.colab.output.renderOutput(dataTable, element);\n",
              "          const docLink = document.createElement('div');\n",
              "          docLink.innerHTML = docLinkHtml;\n",
              "          element.appendChild(docLink);\n",
              "        }\n",
              "      </script>\n",
              "    </div>\n",
              "  </div>\n",
              "  "
            ]
          },
          "metadata": {},
          "execution_count": 9
        }
      ]
    },
    {
      "cell_type": "markdown",
      "source": [
        "**4. Посмотрите на описательные статистики с помощью функции describe(). Прокомментируйте результат.**"
      ],
      "metadata": {
        "id": "fedq3lL2veRK"
      }
    },
    {
      "cell_type": "code",
      "source": [
        "df.describe()"
      ],
      "metadata": {
        "colab": {
          "base_uri": "https://localhost:8080/",
          "height": 300
        },
        "id": "oADtxu_1ZoDe",
        "outputId": "b0649ef4-b1df-4fca-a9d7-60bc86d5cb27"
      },
      "execution_count": null,
      "outputs": [
        {
          "output_type": "execute_result",
          "data": {
            "text/plain": [
              "           LUNGES       BITES    ZIGZAGS       NEST     SPINES       DNEST  \\\n",
              "count   54.000000   54.000000  54.000000  54.000000  54.000000   54.000000   \n",
              "mean   131.185185   69.055556   7.277778   1.425926  18.425926   34.259259   \n",
              "std     50.771064   43.428283   6.693891   3.000641   8.712606   56.491170   \n",
              "min     41.000000    3.000000   0.000000   0.000000   5.000000    0.000000   \n",
              "25%     99.000000   34.250000   2.250000   0.000000  14.000000    0.000000   \n",
              "50%    127.000000   60.000000   5.000000   0.000000  16.000000    0.000000   \n",
              "75%    156.750000   84.250000  10.750000   1.000000  24.750000   73.000000   \n",
              "max    277.000000  175.000000  26.000000  15.000000  46.000000  199.000000   \n",
              "\n",
              "             BOUT  \n",
              "count   54.000000  \n",
              "mean    89.314815  \n",
              "std     98.679742  \n",
              "min      6.000000  \n",
              "25%     23.500000  \n",
              "50%     45.000000  \n",
              "75%    125.000000  \n",
              "max    306.000000  "
            ],
            "text/html": [
              "\n",
              "  <div id=\"df-d04a8314-03de-49bf-a808-ea62951b1da8\">\n",
              "    <div class=\"colab-df-container\">\n",
              "      <div>\n",
              "<style scoped>\n",
              "    .dataframe tbody tr th:only-of-type {\n",
              "        vertical-align: middle;\n",
              "    }\n",
              "\n",
              "    .dataframe tbody tr th {\n",
              "        vertical-align: top;\n",
              "    }\n",
              "\n",
              "    .dataframe thead th {\n",
              "        text-align: right;\n",
              "    }\n",
              "</style>\n",
              "<table border=\"1\" class=\"dataframe\">\n",
              "  <thead>\n",
              "    <tr style=\"text-align: right;\">\n",
              "      <th></th>\n",
              "      <th>LUNGES</th>\n",
              "      <th>BITES</th>\n",
              "      <th>ZIGZAGS</th>\n",
              "      <th>NEST</th>\n",
              "      <th>SPINES</th>\n",
              "      <th>DNEST</th>\n",
              "      <th>BOUT</th>\n",
              "    </tr>\n",
              "  </thead>\n",
              "  <tbody>\n",
              "    <tr>\n",
              "      <th>count</th>\n",
              "      <td>54.000000</td>\n",
              "      <td>54.000000</td>\n",
              "      <td>54.000000</td>\n",
              "      <td>54.000000</td>\n",
              "      <td>54.000000</td>\n",
              "      <td>54.000000</td>\n",
              "      <td>54.000000</td>\n",
              "    </tr>\n",
              "    <tr>\n",
              "      <th>mean</th>\n",
              "      <td>131.185185</td>\n",
              "      <td>69.055556</td>\n",
              "      <td>7.277778</td>\n",
              "      <td>1.425926</td>\n",
              "      <td>18.425926</td>\n",
              "      <td>34.259259</td>\n",
              "      <td>89.314815</td>\n",
              "    </tr>\n",
              "    <tr>\n",
              "      <th>std</th>\n",
              "      <td>50.771064</td>\n",
              "      <td>43.428283</td>\n",
              "      <td>6.693891</td>\n",
              "      <td>3.000641</td>\n",
              "      <td>8.712606</td>\n",
              "      <td>56.491170</td>\n",
              "      <td>98.679742</td>\n",
              "    </tr>\n",
              "    <tr>\n",
              "      <th>min</th>\n",
              "      <td>41.000000</td>\n",
              "      <td>3.000000</td>\n",
              "      <td>0.000000</td>\n",
              "      <td>0.000000</td>\n",
              "      <td>5.000000</td>\n",
              "      <td>0.000000</td>\n",
              "      <td>6.000000</td>\n",
              "    </tr>\n",
              "    <tr>\n",
              "      <th>25%</th>\n",
              "      <td>99.000000</td>\n",
              "      <td>34.250000</td>\n",
              "      <td>2.250000</td>\n",
              "      <td>0.000000</td>\n",
              "      <td>14.000000</td>\n",
              "      <td>0.000000</td>\n",
              "      <td>23.500000</td>\n",
              "    </tr>\n",
              "    <tr>\n",
              "      <th>50%</th>\n",
              "      <td>127.000000</td>\n",
              "      <td>60.000000</td>\n",
              "      <td>5.000000</td>\n",
              "      <td>0.000000</td>\n",
              "      <td>16.000000</td>\n",
              "      <td>0.000000</td>\n",
              "      <td>45.000000</td>\n",
              "    </tr>\n",
              "    <tr>\n",
              "      <th>75%</th>\n",
              "      <td>156.750000</td>\n",
              "      <td>84.250000</td>\n",
              "      <td>10.750000</td>\n",
              "      <td>1.000000</td>\n",
              "      <td>24.750000</td>\n",
              "      <td>73.000000</td>\n",
              "      <td>125.000000</td>\n",
              "    </tr>\n",
              "    <tr>\n",
              "      <th>max</th>\n",
              "      <td>277.000000</td>\n",
              "      <td>175.000000</td>\n",
              "      <td>26.000000</td>\n",
              "      <td>15.000000</td>\n",
              "      <td>46.000000</td>\n",
              "      <td>199.000000</td>\n",
              "      <td>306.000000</td>\n",
              "    </tr>\n",
              "  </tbody>\n",
              "</table>\n",
              "</div>\n",
              "      <button class=\"colab-df-convert\" onclick=\"convertToInteractive('df-d04a8314-03de-49bf-a808-ea62951b1da8')\"\n",
              "              title=\"Convert this dataframe to an interactive table.\"\n",
              "              style=\"display:none;\">\n",
              "        \n",
              "  <svg xmlns=\"http://www.w3.org/2000/svg\" height=\"24px\"viewBox=\"0 0 24 24\"\n",
              "       width=\"24px\">\n",
              "    <path d=\"M0 0h24v24H0V0z\" fill=\"none\"/>\n",
              "    <path d=\"M18.56 5.44l.94 2.06.94-2.06 2.06-.94-2.06-.94-.94-2.06-.94 2.06-2.06.94zm-11 1L8.5 8.5l.94-2.06 2.06-.94-2.06-.94L8.5 2.5l-.94 2.06-2.06.94zm10 10l.94 2.06.94-2.06 2.06-.94-2.06-.94-.94-2.06-.94 2.06-2.06.94z\"/><path d=\"M17.41 7.96l-1.37-1.37c-.4-.4-.92-.59-1.43-.59-.52 0-1.04.2-1.43.59L10.3 9.45l-7.72 7.72c-.78.78-.78 2.05 0 2.83L4 21.41c.39.39.9.59 1.41.59.51 0 1.02-.2 1.41-.59l7.78-7.78 2.81-2.81c.8-.78.8-2.07 0-2.86zM5.41 20L4 18.59l7.72-7.72 1.47 1.35L5.41 20z\"/>\n",
              "  </svg>\n",
              "      </button>\n",
              "      \n",
              "  <style>\n",
              "    .colab-df-container {\n",
              "      display:flex;\n",
              "      flex-wrap:wrap;\n",
              "      gap: 12px;\n",
              "    }\n",
              "\n",
              "    .colab-df-convert {\n",
              "      background-color: #E8F0FE;\n",
              "      border: none;\n",
              "      border-radius: 50%;\n",
              "      cursor: pointer;\n",
              "      display: none;\n",
              "      fill: #1967D2;\n",
              "      height: 32px;\n",
              "      padding: 0 0 0 0;\n",
              "      width: 32px;\n",
              "    }\n",
              "\n",
              "    .colab-df-convert:hover {\n",
              "      background-color: #E2EBFA;\n",
              "      box-shadow: 0px 1px 2px rgba(60, 64, 67, 0.3), 0px 1px 3px 1px rgba(60, 64, 67, 0.15);\n",
              "      fill: #174EA6;\n",
              "    }\n",
              "\n",
              "    [theme=dark] .colab-df-convert {\n",
              "      background-color: #3B4455;\n",
              "      fill: #D2E3FC;\n",
              "    }\n",
              "\n",
              "    [theme=dark] .colab-df-convert:hover {\n",
              "      background-color: #434B5C;\n",
              "      box-shadow: 0px 1px 3px 1px rgba(0, 0, 0, 0.15);\n",
              "      filter: drop-shadow(0px 1px 2px rgba(0, 0, 0, 0.3));\n",
              "      fill: #FFFFFF;\n",
              "    }\n",
              "  </style>\n",
              "\n",
              "      <script>\n",
              "        const buttonEl =\n",
              "          document.querySelector('#df-d04a8314-03de-49bf-a808-ea62951b1da8 button.colab-df-convert');\n",
              "        buttonEl.style.display =\n",
              "          google.colab.kernel.accessAllowed ? 'block' : 'none';\n",
              "\n",
              "        async function convertToInteractive(key) {\n",
              "          const element = document.querySelector('#df-d04a8314-03de-49bf-a808-ea62951b1da8');\n",
              "          const dataTable =\n",
              "            await google.colab.kernel.invokeFunction('convertToInteractive',\n",
              "                                                     [key], {});\n",
              "          if (!dataTable) return;\n",
              "\n",
              "          const docLinkHtml = 'Like what you see? Visit the ' +\n",
              "            '<a target=\"_blank\" href=https://colab.research.google.com/notebooks/data_table.ipynb>data table notebook</a>'\n",
              "            + ' to learn more about interactive tables.';\n",
              "          element.innerHTML = '';\n",
              "          dataTable['output_type'] = 'display_data';\n",
              "          await google.colab.output.renderOutput(dataTable, element);\n",
              "          const docLink = document.createElement('div');\n",
              "          docLink.innerHTML = docLinkHtml;\n",
              "          element.appendChild(docLink);\n",
              "        }\n",
              "      </script>\n",
              "    </div>\n",
              "  </div>\n",
              "  "
            ]
          },
          "metadata": {},
          "execution_count": 10
        }
      ]
    },
    {
      "cell_type": "code",
      "source": [
        "df.info()"
      ],
      "metadata": {
        "colab": {
          "base_uri": "https://localhost:8080/"
        },
        "id": "aAaCqmSjZuuw",
        "outputId": "81b7fe34-fe31-468e-f4ad-7febd2a4e951"
      },
      "execution_count": null,
      "outputs": [
        {
          "output_type": "stream",
          "name": "stdout",
          "text": [
            "<class 'pandas.core.frame.DataFrame'>\n",
            "RangeIndex: 54 entries, 0 to 53\n",
            "Data columns (total 7 columns):\n",
            " #   Column   Non-Null Count  Dtype  \n",
            "---  ------   --------------  -----  \n",
            " 0   LUNGES   54 non-null     float64\n",
            " 1   BITES    54 non-null     float64\n",
            " 2   ZIGZAGS  54 non-null     float64\n",
            " 3   NEST     54 non-null     float64\n",
            " 4   SPINES   54 non-null     float64\n",
            " 5   DNEST    54 non-null     float64\n",
            " 6   BOUT     54 non-null     float64\n",
            "dtypes: float64(7)\n",
            "memory usage: 3.1 KB\n"
          ]
        }
      ]
    },
    {
      "cell_type": "markdown",
      "source": [
        "**5. Выведите на экран корреляционную матрицу с помощью функции corr(). Прокомментируйте результат.**"
      ],
      "metadata": {
        "id": "_0zVrYejwCBO"
      }
    },
    {
      "cell_type": "code",
      "source": [
        "import seaborn as sns\n",
        "fig=plt.figure(figsize=(6,4))\n",
        "sns.heatmap(df.corr(), annot = True)\n",
        "plt.show()"
      ],
      "metadata": {
        "colab": {
          "base_uri": "https://localhost:8080/",
          "height": 269
        },
        "id": "MWht8Wj8Z7tz",
        "outputId": "83162ad3-2213-461b-a56c-4c186fd9730e"
      },
      "execution_count": null,
      "outputs": [
        {
          "output_type": "display_data",
          "data": {
            "text/plain": [
              "<Figure size 432x288 with 2 Axes>"
            ],
            "image/png": "[encoded data removed]"
          },
          "metadata": {
            "needs_background": "light"
          }
        }
      ]
    },
    {
      "cell_type": "markdown",
      "source": [
        "**6. Выведите на экран диаграмму рассеяния с помощью функции scatter_matrix() из модуля pandas.plotting. Сделайте вывод о нормальности распределения признаков, о наличии взаимосвязей между ними.**"
      ],
      "metadata": {
        "id": "pAMfGuhuwuG2"
      }
    },
    {
      "cell_type": "code",
      "source": [
        "scatter_matrix(df,figsize=(10,8));"
      ],
      "metadata": {
        "colab": {
          "base_uri": "https://localhost:8080/",
          "height": 502
        },
        "id": "VjWSUDwNasRw",
        "outputId": "bb3f36c3-3a06-437a-f9f5-6aa515c075d2"
      },
      "execution_count": null,
      "outputs": [
        {
          "output_type": "display_data",
          "data": {
            "text/plain": [
              "<Figure size 720x576 with 49 Axes>"
            ],
            "image/png": "[encoded data removed]"
          },
          "metadata": {
            "needs_background": "light"
          }
        }
      ]
    },
    {
      "cell_type": "markdown",
      "source": [
        "**7. Рассчитайте критерий сферичности Бартлетта с помощью функции calculate_bartlett_sphericity() из модуля factor_analyzer пакета factor_analyzer. Сделайте вывод о надежности отличия корреляционной матрицы от единичной.**"
      ],
      "metadata": {
        "id": "P02TglJ8xAm4"
      }
    },
    {
      "cell_type": "markdown",
      "source": [
        "факторный анализ возможен если:\n",
        "1. наблюдается высокая корреляция"
      ],
      "metadata": {
        "id": "Y2vAf-jFxKAX"
      }
    },
    {
      "cell_type": "code",
      "source": [
        "# находит хи квадрат и p-value\n",
        "chi,p_value=calculate_bartlett_sphericity(df)\n",
        "chi,p_value\n",
        "\n",
        "# p-value - очень мал, поэтому нулевую гипотезу о равенстве нашей матрицы и единичной\n",
        "# мы отвергаем и это говорит о том что наша матрица сильно отличается от нулевой\n",
        "# значит признаки всетаки взаимосвязаны"
      ],
      "metadata": {
        "colab": {
          "base_uri": "https://localhost:8080/"
        },
        "id": "ccLs_1wHa9pW",
        "outputId": "6f910714-3c73-44a6-855e-ec1b79df8320"
      },
      "execution_count": null,
      "outputs": [
        {
          "output_type": "execute_result",
          "data": {
            "text/plain": [
              "(85.17614839099767, 1.0820712955339398e-09)"
            ]
          },
          "metadata": {},
          "execution_count": 22
        }
      ]
    },
    {
      "cell_type": "markdown",
      "source": [
        "**8. Рассчитайте меру адекватности выборки Кайзера-Мейера-Олкина индивидуально для каждой переменной (kmo_all) и в целом для модели (kmo_model) с помощью функции calculate_kmo() из модуля factor_analyzer пакета factor_analyzer. Прокомментируйте результат.**"
      ],
      "metadata": {
        "id": "aJzp5oN2zxyt"
      }
    },
    {
      "cell_type": "code",
      "source": [
        "kmo_all, kmo_model = calculate_kmo(df)"
      ],
      "metadata": {
        "id": "_Kbh_SuGcjJj"
      },
      "execution_count": null,
      "outputs": []
    },
    {
      "cell_type": "markdown",
      "source": [],
      "metadata": {
        "id": "9ykKhMfpz6FB"
      }
    },
    {
      "cell_type": "code",
      "source": [
        "kmo_model"
      ],
      "metadata": {
        "colab": {
          "base_uri": "https://localhost:8080/"
        },
        "id": "ugO0Uasxc_KR",
        "outputId": "64d82fc8-ad41-47f9-dcea-cd37ab975679"
      },
      "execution_count": null,
      "outputs": [
        {
          "output_type": "execute_result",
          "data": {
            "text/plain": [
              "0.5267816347722194"
            ]
          },
          "metadata": {},
          "execution_count": 24
        }
      ]
    },
    {
      "cell_type": "code",
      "source": [
        "kmo_all # метод позволяет отбросить наименее значимые признаки\n",
        "# что больше 0.5, то подходит"
      ],
      "metadata": {
        "colab": {
          "base_uri": "https://localhost:8080/"
        },
        "id": "iK0a-l9Jc_ub",
        "outputId": "f58c4125-a872-46bc-9323-6a5fa312916b"
      },
      "execution_count": null,
      "outputs": [
        {
          "output_type": "execute_result",
          "data": {
            "text/plain": [
              "array([0.49517671, 0.48565545, 0.53685554, 0.57271819, 0.33768629,\n",
              "       0.61639292, 0.76130941])"
            ]
          },
          "metadata": {},
          "execution_count": 25
        }
      ]
    },
    {
      "cell_type": "markdown",
      "source": [
        "# **Раздел 2. Выделение первоначальных факторов методом главных компонент**\n"
      ],
      "metadata": {
        "id": "2jgbX91O0njm"
      }
    },
    {
      "cell_type": "markdown",
      "source": [
        "**9. Стандартизируйте переменные с помощью функции scale() из модуля preprocessing пакета sklearn. Посмотрите на первые 5 наблюдений.**"
      ],
      "metadata": {
        "id": "lKJmm1uU0v2_"
      }
    },
    {
      "cell_type": "code",
      "source": [
        "df_scaled=preprocessing.scale(df)"
      ],
      "metadata": {
        "id": "TPZSIskHdEzl"
      },
      "execution_count": null,
      "outputs": []
    },
    {
      "cell_type": "code",
      "source": [
        "df_scaled[0:5,:]"
      ],
      "metadata": {
        "colab": {
          "base_uri": "https://localhost:8080/"
        },
        "id": "NL1pu3PidmAy",
        "outputId": "e3601201-0893-46c9-df66-448a2d3ee98c"
      },
      "execution_count": null,
      "outputs": [
        {
          "output_type": "execute_result",
          "data": {
            "text/plain": [
              "array([[-1.03750432, -1.02396939, -1.09743575, -0.47966932, -0.39690707,\n",
              "        -0.61214787, -0.4532939 ],\n",
              "       [ 0.09572432, -0.25696079, -0.19267956, -0.47966932, -0.39690707,\n",
              "        -0.61214787,  0.60028766],\n",
              "       [-0.32178097, -0.90775596, -0.79585035, -0.14327785, -1.09203081,\n",
              "        -0.52280737, -0.61695706],\n",
              "       [-0.04344411,  1.62569667,  1.31524742, -0.47966932,  0.41407062,\n",
              "        -0.61214787, -0.20779917],\n",
              "       [-0.22237495, -0.25696079,  1.16445472,  4.56620276, -0.51276103,\n",
              "         0.85303633, -0.82153601]])"
            ]
          },
          "metadata": {},
          "execution_count": 27
        }
      ]
    },
    {
      "cell_type": "markdown",
      "source": [
        "**10. Создайте объект метода главных компонент с помощью функции PCA(). Задайте при этом число компонент, равное числу признаков.**"
      ],
      "metadata": {
        "id": "y_h3cOKG0-gD"
      }
    },
    {
      "cell_type": "code",
      "source": [
        "pca=PCA(n_components=7)"
      ],
      "metadata": {
        "id": "RFkwKvT7dujj"
      },
      "execution_count": null,
      "outputs": []
    },
    {
      "cell_type": "markdown",
      "source": [
        "**11. Обучите объект на стандартизированных данных, воспользовавшись функцией fit().**"
      ],
      "metadata": {
        "id": "_SQnepOO1IiW"
      }
    },
    {
      "cell_type": "code",
      "source": [
        "pca.fit(df_scaled)"
      ],
      "metadata": {
        "colab": {
          "base_uri": "https://localhost:8080/"
        },
        "id": "yqVNsLxMd-Gu",
        "outputId": "6e061efe-f450-4800-b888-a139ec15dd4b"
      },
      "execution_count": null,
      "outputs": [
        {
          "output_type": "execute_result",
          "data": {
            "text/plain": [
              "PCA(n_components=7)"
            ]
          },
          "metadata": {},
          "execution_count": 29
        }
      ]
    },
    {
      "cell_type": "markdown",
      "source": [
        "**12. Попробуйте отобрать компоненты, используя критерий Кайзера. Собственные числа можно вывести на экран, обратившись к параметру explained_variance_. Прокомментируйте результат.**"
      ],
      "metadata": {
        "id": "79y-0n1U1Q1F"
      }
    },
    {
      "cell_type": "code",
      "source": [
        "pca.explained_variance_ # все > 1, поэтому можно оставить"
      ],
      "metadata": {
        "colab": {
          "base_uri": "https://localhost:8080/"
        },
        "id": "-o40tHzkeGXP",
        "outputId": "346b961f-dbc4-499c-b938-ea20c6f66e0a"
      },
      "execution_count": null,
      "outputs": [
        {
          "output_type": "execute_result",
          "data": {
            "text/plain": [
              "array([2.33131423, 1.48167964, 0.99758804, 0.90279779, 0.76745194,\n",
              "       0.41244602, 0.2387978 ])"
            ]
          },
          "metadata": {},
          "execution_count": 30
        }
      ]
    },
    {
      "cell_type": "markdown",
      "source": [
        "**13. Воспользуйтесь методом определения числа факторов на основе суммарной доли объясненной дисперсии. Объясненную дисперсию можно вывести на экран, обратившись к параметру explained_variance_ratio_. Прокомментируйте результат.**"
      ],
      "metadata": {
        "id": "savgnXae1tPg"
      }
    },
    {
      "cell_type": "code",
      "source": [
        "pca.explained_variance_ratio_\n",
        "# возьмем первые 3 фактора,  которые охватывают гдето 65% факторов"
      ],
      "metadata": {
        "colab": {
          "base_uri": "https://localhost:8080/"
        },
        "id": "fh_1uOw8eVbM",
        "outputId": "abbaf841-922e-45cf-a276-c92526e0066f"
      },
      "execution_count": null,
      "outputs": [
        {
          "output_type": "execute_result",
          "data": {
            "text/plain": [
              "array([0.32687739, 0.20774873, 0.13987346, 0.12658276, 0.1076057 ,\n",
              "       0.05782973, 0.03348223])"
            ]
          },
          "metadata": {},
          "execution_count": 31
        }
      ]
    },
    {
      "cell_type": "markdown",
      "source": [
        "# **Раздел 3. Факторный анализ**"
      ],
      "metadata": {
        "id": "n51PnQ0V3Mcx"
      }
    },
    {
      "cell_type": "code",
      "source": [
        "pca=PCA(n_components=3) # блок можно не делать\n",
        "pca.fit(df_scaled)"
      ],
      "metadata": {
        "colab": {
          "base_uri": "https://localhost:8080/"
        },
        "id": "qRw3sn8j2seD",
        "outputId": "e085ca25-c16d-4631-cdb9-4179496ed28b"
      },
      "execution_count": null,
      "outputs": [
        {
          "output_type": "execute_result",
          "data": {
            "text/plain": [
              "PCA(n_components=3)"
            ]
          },
          "metadata": {},
          "execution_count": 32
        }
      ]
    },
    {
      "cell_type": "markdown",
      "source": [
        "**15. Создайте модель для проведения факторного анализа, воспользовавшись функцией FactorAnalyzer() из пакета factor_analyzer.**"
      ],
      "metadata": {
        "id": "EFHIDXq63OUq"
      }
    },
    {
      "cell_type": "code",
      "source": [
        "fa=FactorAnalyzer()"
      ],
      "metadata": {
        "id": "ZVcpEouFe2-C"
      },
      "execution_count": null,
      "outputs": []
    },
    {
      "cell_type": "markdown",
      "source": [
        "**16. Обучите модель на стандартизированных данных, воспользовавшись функцией fit().**\n"
      ],
      "metadata": {
        "id": "u2rbL2WI3sOq"
      }
    },
    {
      "cell_type": "code",
      "source": [
        "fa.fit(df_scaled)"
      ],
      "metadata": {
        "id": "O8CDZEeefZYi",
        "colab": {
          "base_uri": "https://localhost:8080/"
        },
        "outputId": "6ca5338a-b8c7-4f50-c12e-4e6231ac2574"
      },
      "execution_count": null,
      "outputs": [
        {
          "output_type": "execute_result",
          "data": {
            "text/plain": [
              "FactorAnalyzer(rotation_kwargs={})"
            ]
          },
          "metadata": {},
          "execution_count": 34
        }
      ]
    },
    {
      "cell_type": "markdown",
      "source": [
        "**17. На основе созданной модели вычислите собственные числа (eigen_values) и собственные вектора (vectors), обратившись к функции get_eigenvalues().**\n"
      ],
      "metadata": {
        "id": "eXFtgHG-30IS"
      }
    },
    {
      "cell_type": "code",
      "source": [
        "pd.DataFrame(fa.components_,columns=df.columns)"
      ],
      "metadata": {
        "id": "mLu0rgw64TGy"
      },
      "execution_count": null,
      "outputs": []
    },
    {
      "cell_type": "markdown",
      "source": [
        "**18. Воспользуйтесь правилом Кайзера для определения числа факторов. Запишите предполагаемое число факторов.**"
      ],
      "metadata": {
        "id": "pLkhWJX7g2Ua"
      }
    },
    {
      "cell_type": "code",
      "source": [
        "eigen_values,vectors=fa.get_eigenvalues()\n",
        "eigen_values"
      ],
      "metadata": {
        "id": "LWwr-iyrgFp0",
        "colab": {
          "base_uri": "https://localhost:8080/"
        },
        "outputId": "651cd1cd-305d-44bc-891a-d9146d2913e5"
      },
      "execution_count": null,
      "outputs": [
        {
          "output_type": "execute_result",
          "data": {
            "text/plain": [
              "array([2.28814174, 1.45424113, 0.97911419, 0.88607931, 0.75323987,\n",
              "       0.40480813, 0.23437562])"
            ]
          },
          "metadata": {},
          "execution_count": 39
        }
      ]
    },
    {
      "cell_type": "markdown",
      "source": [
        "**19.Воспользуйтесь методом Кеттелла для определения числа факторов. Для этого постройте каменистую осыпь, обратившись к функциям scatter(range(1,df_scaled.shape[1]+1),eigen_values), plot(range(1,df_scaled.shape[1]+1),eigen_values), title('Scree Plot'), xlabel('Factors'), ylabel('Eigenvalue'), grid() и show() из модуля matplotlib.pyplot, к которому удобно обращаться через сокращенное имя plt. Сделайте предположение о возможном числе факторов.**"
      ],
      "metadata": {
        "id": "3TDmsxWIgrnd"
      }
    },
    {
      "cell_type": "code",
      "source": [
        "plt.scatter(range(1,df_scaled.shape[1]+1),eigen_values)\n",
        "plt.plot(range(1,df_scaled.shape[1]+1),eigen_values)\n",
        "plt.title('Scree Plot')\n",
        "plt.xlabel('Factors')\n",
        "plt.ylabel('Eigenvalue')\n",
        "plt.grid()\n",
        "plt.show()"
      ],
      "metadata": {
        "colab": {
          "base_uri": "https://localhost:8080/",
          "height": 295
        },
        "id": "x2SaxofigOdp",
        "outputId": "5f13f233-3983-47ef-d604-f100478f4a17"
      },
      "execution_count": null,
      "outputs": [
        {
          "output_type": "display_data",
          "data": {
            "text/plain": [
              "<Figure size 432x288 with 1 Axes>"
            ],
            "image/png": "[encoded data removed]"
          },
          "metadata": {
            "needs_background": "light"
          }
        }
      ]
    },
    {
      "cell_type": "code",
      "source": [
        "fa.set_params(n_factors= 3, rotation='varimax')"
      ],
      "metadata": {
        "colab": {
          "base_uri": "https://localhost:8080/"
        },
        "id": "ntxKjJN7hCPi",
        "outputId": "c9343c69-1992-47f2-c9fd-1451c4e18a97"
      },
      "execution_count": null,
      "outputs": [
        {
          "output_type": "execute_result",
          "data": {
            "text/plain": [
              "FactorAnalyzer(rotation='varimax', rotation_kwargs={})"
            ]
          },
          "metadata": {},
          "execution_count": 93
        }
      ]
    },
    {
      "cell_type": "code",
      "source": [
        "fa.fit(df_scaled)"
      ],
      "metadata": {
        "colab": {
          "base_uri": "https://localhost:8080/"
        },
        "id": "ExCZUm7NhlDX",
        "outputId": "cac76775-337f-4ea1-b11d-221940f3e5af"
      },
      "execution_count": null,
      "outputs": [
        {
          "output_type": "execute_result",
          "data": {
            "text/plain": [
              "FactorAnalyzer(rotation='varimax', rotation_kwargs={})"
            ]
          },
          "metadata": {},
          "execution_count": 94
        }
      ]
    },
    {
      "cell_type": "markdown",
      "source": [
        "**26. Рассчитайте значения факторов на основе стандартизированных данных, воспользовавшись функцией fit_transform(). Результат представьте в виде таблицы, в названии столбцов которой содержится указание на номер фактора. Выведите на экран первые 5 строк.**"
      ],
      "metadata": {
        "id": "Z4kxD0eC6wiB"
      }
    },
    {
      "cell_type": "markdown",
      "source": [
        "# ***!!! Факторный анализ применяем когда хотим изменить размерность, когда много признаков***"
      ],
      "metadata": {
        "id": "BGeV5ZTw7Zm5"
      }
    },
    {
      "cell_type": "code",
      "source": [
        "loadings=pd.DataFrame(fa.loadings_,columns=['factor_1','factor_2','factor_3'],index=df.columns)\n",
        "loadings\n",
        "# расчет значений 3-х факторов"
      ],
      "metadata": {
        "colab": {
          "base_uri": "https://localhost:8080/",
          "height": 268
        },
        "id": "wi1e4wE6h2HR",
        "outputId": "f95ba259-192c-426f-84ae-bb821a220e8f"
      },
      "execution_count": null,
      "outputs": [
        {
          "output_type": "execute_result",
          "data": {
            "text/plain": [
              "         factor_1  factor_2  factor_3\n",
              "LUNGES   0.020596  0.923369 -0.088005\n",
              "BITES    0.025510  0.725449  0.506470\n",
              "ZIGZAGS  0.333253 -0.025142  0.102150\n",
              "NEST     1.098768  0.294280 -0.207674\n",
              "SPINES  -0.023654 -0.002614  0.569932\n",
              "DNEST    0.514111 -0.028053 -0.123253\n",
              "BOUT    -0.322658  0.140623 -0.098515"
            ],
            "text/html": [
              "\n",
              "  <div id=\"df-e1b264e4-a6d3-4ad6-a2d3-304c90bf47b6\">\n",
              "    <div class=\"colab-df-container\">\n",
              "      <div>\n",
              "<style scoped>\n",
              "    .dataframe tbody tr th:only-of-type {\n",
              "        vertical-align: middle;\n",
              "    }\n",
              "\n",
              "    .dataframe tbody tr th {\n",
              "        vertical-align: top;\n",
              "    }\n",
              "\n",
              "    .dataframe thead th {\n",
              "        text-align: right;\n",
              "    }\n",
              "</style>\n",
              "<table border=\"1\" class=\"dataframe\">\n",
              "  <thead>\n",
              "    <tr style=\"text-align: right;\">\n",
              "      <th></th>\n",
              "      <th>factor_1</th>\n",
              "      <th>factor_2</th>\n",
              "      <th>factor_3</th>\n",
              "    </tr>\n",
              "  </thead>\n",
              "  <tbody>\n",
              "    <tr>\n",
              "      <th>LUNGES</th>\n",
              "      <td>0.020596</td>\n",
              "      <td>0.923369</td>\n",
              "      <td>-0.088005</td>\n",
              "    </tr>\n",
              "    <tr>\n",
              "      <th>BITES</th>\n",
              "      <td>0.025510</td>\n",
              "      <td>0.725449</td>\n",
              "      <td>0.506470</td>\n",
              "    </tr>\n",
              "    <tr>\n",
              "      <th>ZIGZAGS</th>\n",
              "      <td>0.333253</td>\n",
              "      <td>-0.025142</td>\n",
              "      <td>0.102150</td>\n",
              "    </tr>\n",
              "    <tr>\n",
              "      <th>NEST</th>\n",
              "      <td>1.098768</td>\n",
              "      <td>0.294280</td>\n",
              "      <td>-0.207674</td>\n",
              "    </tr>\n",
              "    <tr>\n",
              "      <th>SPINES</th>\n",
              "      <td>-0.023654</td>\n",
              "      <td>-0.002614</td>\n",
              "      <td>0.569932</td>\n",
              "    </tr>\n",
              "    <tr>\n",
              "      <th>DNEST</th>\n",
              "      <td>0.514111</td>\n",
              "      <td>-0.028053</td>\n",
              "      <td>-0.123253</td>\n",
              "    </tr>\n",
              "    <tr>\n",
              "      <th>BOUT</th>\n",
              "      <td>-0.322658</td>\n",
              "      <td>0.140623</td>\n",
              "      <td>-0.098515</td>\n",
              "    </tr>\n",
              "  </tbody>\n",
              "</table>\n",
              "</div>\n",
              "      <button class=\"colab-df-convert\" onclick=\"convertToInteractive('df-e1b264e4-a6d3-4ad6-a2d3-304c90bf47b6')\"\n",
              "              title=\"Convert this dataframe to an interactive table.\"\n",
              "              style=\"display:none;\">\n",
              "        \n",
              "  <svg xmlns=\"http://www.w3.org/2000/svg\" height=\"24px\"viewBox=\"0 0 24 24\"\n",
              "       width=\"24px\">\n",
              "    <path d=\"M0 0h24v24H0V0z\" fill=\"none\"/>\n",
              "    <path d=\"M18.56 5.44l.94 2.06.94-2.06 2.06-.94-2.06-.94-.94-2.06-.94 2.06-2.06.94zm-11 1L8.5 8.5l.94-2.06 2.06-.94-2.06-.94L8.5 2.5l-.94 2.06-2.06.94zm10 10l.94 2.06.94-2.06 2.06-.94-2.06-.94-.94-2.06-.94 2.06-2.06.94z\"/><path d=\"M17.41 7.96l-1.37-1.37c-.4-.4-.92-.59-1.43-.59-.52 0-1.04.2-1.43.59L10.3 9.45l-7.72 7.72c-.78.78-.78 2.05 0 2.83L4 21.41c.39.39.9.59 1.41.59.51 0 1.02-.2 1.41-.59l7.78-7.78 2.81-2.81c.8-.78.8-2.07 0-2.86zM5.41 20L4 18.59l7.72-7.72 1.47 1.35L5.41 20z\"/>\n",
              "  </svg>\n",
              "      </button>\n",
              "      \n",
              "  <style>\n",
              "    .colab-df-container {\n",
              "      display:flex;\n",
              "      flex-wrap:wrap;\n",
              "      gap: 12px;\n",
              "    }\n",
              "\n",
              "    .colab-df-convert {\n",
              "      background-color: #E8F0FE;\n",
              "      border: none;\n",
              "      border-radius: 50%;\n",
              "      cursor: pointer;\n",
              "      display: none;\n",
              "      fill: #1967D2;\n",
              "      height: 32px;\n",
              "      padding: 0 0 0 0;\n",
              "      width: 32px;\n",
              "    }\n",
              "\n",
              "    .colab-df-convert:hover {\n",
              "      background-color: #E2EBFA;\n",
              "      box-shadow: 0px 1px 2px rgba(60, 64, 67, 0.3), 0px 1px 3px 1px rgba(60, 64, 67, 0.15);\n",
              "      fill: #174EA6;\n",
              "    }\n",
              "\n",
              "    [theme=dark] .colab-df-convert {\n",
              "      background-color: #3B4455;\n",
              "      fill: #D2E3FC;\n",
              "    }\n",
              "\n",
              "    [theme=dark] .colab-df-convert:hover {\n",
              "      background-color: #434B5C;\n",
              "      box-shadow: 0px 1px 3px 1px rgba(0, 0, 0, 0.15);\n",
              "      filter: drop-shadow(0px 1px 2px rgba(0, 0, 0, 0.3));\n",
              "      fill: #FFFFFF;\n",
              "    }\n",
              "  </style>\n",
              "\n",
              "      <script>\n",
              "        const buttonEl =\n",
              "          document.querySelector('#df-e1b264e4-a6d3-4ad6-a2d3-304c90bf47b6 button.colab-df-convert');\n",
              "        buttonEl.style.display =\n",
              "          google.colab.kernel.accessAllowed ? 'block' : 'none';\n",
              "\n",
              "        async function convertToInteractive(key) {\n",
              "          const element = document.querySelector('#df-e1b264e4-a6d3-4ad6-a2d3-304c90bf47b6');\n",
              "          const dataTable =\n",
              "            await google.colab.kernel.invokeFunction('convertToInteractive',\n",
              "                                                     [key], {});\n",
              "          if (!dataTable) return;\n",
              "\n",
              "          const docLinkHtml = 'Like what you see? Visit the ' +\n",
              "            '<a target=\"_blank\" href=https://colab.research.google.com/notebooks/data_table.ipynb>data table notebook</a>'\n",
              "            + ' to learn more about interactive tables.';\n",
              "          element.innerHTML = '';\n",
              "          dataTable['output_type'] = 'display_data';\n",
              "          await google.colab.output.renderOutput(dataTable, element);\n",
              "          const docLink = document.createElement('div');\n",
              "          docLink.innerHTML = docLinkHtml;\n",
              "          element.appendChild(docLink);\n",
              "        }\n",
              "      </script>\n",
              "    </div>\n",
              "  </div>\n",
              "  "
            ]
          },
          "metadata": {},
          "execution_count": 98
        }
      ]
    },
    {
      "cell_type": "code",
      "source": [
        "fa.set_params(n_factors= 2, rotation='varimax')"
      ],
      "metadata": {
        "colab": {
          "base_uri": "https://localhost:8080/"
        },
        "outputId": "855a4dfc-9fa9-4190-ec01-a2d4b91e94d2",
        "id": "rNASjthpi7vU"
      },
      "execution_count": null,
      "outputs": [
        {
          "output_type": "execute_result",
          "data": {
            "text/plain": [
              "FactorAnalyzer(n_factors=2, rotation='varimax', rotation_kwargs={})"
            ]
          },
          "metadata": {},
          "execution_count": 96
        }
      ]
    },
    {
      "cell_type": "code",
      "source": [
        "fa.fit(df_scaled)"
      ],
      "metadata": {
        "colab": {
          "base_uri": "https://localhost:8080/"
        },
        "outputId": "150f553b-20fa-49d8-8724-d23a5fc56142",
        "id": "_H0JLb4vi7vV"
      },
      "execution_count": null,
      "outputs": [
        {
          "output_type": "execute_result",
          "data": {
            "text/plain": [
              "FactorAnalyzer(n_factors=2, rotation='varimax', rotation_kwargs={})"
            ]
          },
          "metadata": {},
          "execution_count": 97
        }
      ]
    },
    {
      "cell_type": "code",
      "source": [
        "loadings=pd.DataFrame(fa.loadings_,columns=['factor_1','factor_2'],index=df.columns)\n",
        "loadings"
      ],
      "metadata": {
        "colab": {
          "base_uri": "https://localhost:8080/",
          "height": 269
        },
        "outputId": "e32f1b2d-1141-4973-fffb-379b67488bf1",
        "id": "fs8lsP9Si7vV"
      },
      "execution_count": null,
      "outputs": [
        {
          "output_type": "execute_result",
          "data": {
            "text/plain": [
              "         factor_1  factor_2\n",
              "LUNGES   0.623123 -0.242540\n",
              "BITES    1.007741 -0.128163\n",
              "ZIGZAGS  0.000196  0.355506\n",
              "NEST    -0.015454  0.894196\n",
              "SPINES   0.294315  0.018574\n",
              "DNEST   -0.155512  0.536576\n",
              "BOUT     0.099458 -0.384636"
            ],
            "text/html": [
              "\n",
              "  <div id=\"df-0e755fa3-7255-4b0d-88cc-e0ab27917f25\">\n",
              "    <div class=\"colab-df-container\">\n",
              "      <div>\n",
              "<style scoped>\n",
              "    .dataframe tbody tr th:only-of-type {\n",
              "        vertical-align: middle;\n",
              "    }\n",
              "\n",
              "    .dataframe tbody tr th {\n",
              "        vertical-align: top;\n",
              "    }\n",
              "\n",
              "    .dataframe thead th {\n",
              "        text-align: right;\n",
              "    }\n",
              "</style>\n",
              "<table border=\"1\" class=\"dataframe\">\n",
              "  <thead>\n",
              "    <tr style=\"text-align: right;\">\n",
              "      <th></th>\n",
              "      <th>factor_1</th>\n",
              "      <th>factor_2</th>\n",
              "    </tr>\n",
              "  </thead>\n",
              "  <tbody>\n",
              "    <tr>\n",
              "      <th>LUNGES</th>\n",
              "      <td>0.623123</td>\n",
              "      <td>-0.242540</td>\n",
              "    </tr>\n",
              "    <tr>\n",
              "      <th>BITES</th>\n",
              "      <td>1.007741</td>\n",
              "      <td>-0.128163</td>\n",
              "    </tr>\n",
              "    <tr>\n",
              "      <th>ZIGZAGS</th>\n",
              "      <td>0.000196</td>\n",
              "      <td>0.355506</td>\n",
              "    </tr>\n",
              "    <tr>\n",
              "      <th>NEST</th>\n",
              "      <td>-0.015454</td>\n",
              "      <td>0.894196</td>\n",
              "    </tr>\n",
              "    <tr>\n",
              "      <th>SPINES</th>\n",
              "      <td>0.294315</td>\n",
              "      <td>0.018574</td>\n",
              "    </tr>\n",
              "    <tr>\n",
              "      <th>DNEST</th>\n",
              "      <td>-0.155512</td>\n",
              "      <td>0.536576</td>\n",
              "    </tr>\n",
              "    <tr>\n",
              "      <th>BOUT</th>\n",
              "      <td>0.099458</td>\n",
              "      <td>-0.384636</td>\n",
              "    </tr>\n",
              "  </tbody>\n",
              "</table>\n",
              "</div>\n",
              "      <button class=\"colab-df-convert\" onclick=\"convertToInteractive('df-0e755fa3-7255-4b0d-88cc-e0ab27917f25')\"\n",
              "              title=\"Convert this dataframe to an interactive table.\"\n",
              "              style=\"display:none;\">\n",
              "        \n",
              "  <svg xmlns=\"http://www.w3.org/2000/svg\" height=\"24px\"viewBox=\"0 0 24 24\"\n",
              "       width=\"24px\">\n",
              "    <path d=\"M0 0h24v24H0V0z\" fill=\"none\"/>\n",
              "    <path d=\"M18.56 5.44l.94 2.06.94-2.06 2.06-.94-2.06-.94-.94-2.06-.94 2.06-2.06.94zm-11 1L8.5 8.5l.94-2.06 2.06-.94-2.06-.94L8.5 2.5l-.94 2.06-2.06.94zm10 10l.94 2.06.94-2.06 2.06-.94-2.06-.94-.94-2.06-.94 2.06-2.06.94z\"/><path d=\"M17.41 7.96l-1.37-1.37c-.4-.4-.92-.59-1.43-.59-.52 0-1.04.2-1.43.59L10.3 9.45l-7.72 7.72c-.78.78-.78 2.05 0 2.83L4 21.41c.39.39.9.59 1.41.59.51 0 1.02-.2 1.41-.59l7.78-7.78 2.81-2.81c.8-.78.8-2.07 0-2.86zM5.41 20L4 18.59l7.72-7.72 1.47 1.35L5.41 20z\"/>\n",
              "  </svg>\n",
              "      </button>\n",
              "      \n",
              "  <style>\n",
              "    .colab-df-container {\n",
              "      display:flex;\n",
              "      flex-wrap:wrap;\n",
              "      gap: 12px;\n",
              "    }\n",
              "\n",
              "    .colab-df-convert {\n",
              "      background-color: #E8F0FE;\n",
              "      border: none;\n",
              "      border-radius: 50%;\n",
              "      cursor: pointer;\n",
              "      display: none;\n",
              "      fill: #1967D2;\n",
              "      height: 32px;\n",
              "      padding: 0 0 0 0;\n",
              "      width: 32px;\n",
              "    }\n",
              "\n",
              "    .colab-df-convert:hover {\n",
              "      background-color: #E2EBFA;\n",
              "      box-shadow: 0px 1px 2px rgba(60, 64, 67, 0.3), 0px 1px 3px 1px rgba(60, 64, 67, 0.15);\n",
              "      fill: #174EA6;\n",
              "    }\n",
              "\n",
              "    [theme=dark] .colab-df-convert {\n",
              "      background-color: #3B4455;\n",
              "      fill: #D2E3FC;\n",
              "    }\n",
              "\n",
              "    [theme=dark] .colab-df-convert:hover {\n",
              "      background-color: #434B5C;\n",
              "      box-shadow: 0px 1px 3px 1px rgba(0, 0, 0, 0.15);\n",
              "      filter: drop-shadow(0px 1px 2px rgba(0, 0, 0, 0.3));\n",
              "      fill: #FFFFFF;\n",
              "    }\n",
              "  </style>\n",
              "\n",
              "      <script>\n",
              "        const buttonEl =\n",
              "          document.querySelector('#df-0e755fa3-7255-4b0d-88cc-e0ab27917f25 button.colab-df-convert');\n",
              "        buttonEl.style.display =\n",
              "          google.colab.kernel.accessAllowed ? 'block' : 'none';\n",
              "\n",
              "        async function convertToInteractive(key) {\n",
              "          const element = document.querySelector('#df-0e755fa3-7255-4b0d-88cc-e0ab27917f25');\n",
              "          const dataTable =\n",
              "            await google.colab.kernel.invokeFunction('convertToInteractive',\n",
              "                                                     [key], {});\n",
              "          if (!dataTable) return;\n",
              "\n",
              "          const docLinkHtml = 'Like what you see? Visit the ' +\n",
              "            '<a target=\"_blank\" href=https://colab.research.google.com/notebooks/data_table.ipynb>data table notebook</a>'\n",
              "            + ' to learn more about interactive tables.';\n",
              "          element.innerHTML = '';\n",
              "          dataTable['output_type'] = 'display_data';\n",
              "          await google.colab.output.renderOutput(dataTable, element);\n",
              "          const docLink = document.createElement('div');\n",
              "          docLink.innerHTML = docLinkHtml;\n",
              "          element.appendChild(docLink);\n",
              "        }\n",
              "      </script>\n",
              "    </div>\n",
              "  </div>\n",
              "  "
            ]
          },
          "metadata": {},
          "execution_count": 99
        }
      ]
    },
    {
      "cell_type": "code",
      "source": [
        "fa.get_communalities()"
      ],
      "metadata": {
        "colab": {
          "base_uri": "https://localhost:8080/"
        },
        "id": "vdQqHxJpjJGq",
        "outputId": "bbabe447-2617-48f2-ace6-eb08a863b7e2"
      },
      "execution_count": null,
      "outputs": [
        {
          "output_type": "execute_result",
          "data": {
            "text/plain": [
              "array([0.447, 1.032, 0.126, 0.8  , 0.087, 0.312, 0.158])"
            ]
          },
          "metadata": {},
          "execution_count": 100
        }
      ]
    },
    {
      "cell_type": "code",
      "source": [
        "fa.get_uniquenesses()"
      ],
      "metadata": {
        "colab": {
          "base_uri": "https://localhost:8080/"
        },
        "id": "rK8xwdnQj6iO",
        "outputId": "2629e849-9012-4f91-f5df-e8dbcc55d7f2"
      },
      "execution_count": null,
      "outputs": [
        {
          "output_type": "execute_result",
          "data": {
            "text/plain": [
              "array([ 0.553, -0.032,  0.874,  0.2  ,  0.913,  0.688,  0.842])"
            ]
          },
          "metadata": {},
          "execution_count": 101
        }
      ]
    },
    {
      "cell_type": "code",
      "source": [
        "fa.get_communalities()+fa.get_uniquenesses()"
      ],
      "metadata": {
        "colab": {
          "base_uri": "https://localhost:8080/"
        },
        "id": "Cq2r01BRkGaw",
        "outputId": "5d551ac1-9dc7-4ece-f465-88d743f8672f"
      },
      "execution_count": null,
      "outputs": [
        {
          "output_type": "execute_result",
          "data": {
            "text/plain": [
              "array([1., 1., 1., 1., 1., 1., 1.])"
            ]
          },
          "metadata": {},
          "execution_count": 102
        }
      ]
    },
    {
      "cell_type": "code",
      "source": [
        "var=pd.DataFrame(fa.get_factor_variance(),columns=['factor_1','factor_2'],index=['SS Loadings', 'Proportion Var', 'Cumulative Var'])\n",
        "var"
      ],
      "metadata": {
        "colab": {
          "base_uri": "https://localhost:8080/",
          "height": 143
        },
        "id": "l1Z8oVtZkLNT",
        "outputId": "c2b1310c-3fe7-4f18-9439-9f1f12274965"
      },
      "execution_count": null,
      "outputs": [
        {
          "output_type": "execute_result",
          "data": {
            "text/plain": [
              "                factor_1  factor_2\n",
              "SS Loadings     1.524760  1.437427\n",
              "Proportion Var  0.217823  0.205347\n",
              "Cumulative Var  0.217823  0.423170"
            ],
            "text/html": [
              "\n",
              "  <div id=\"df-c8e476fb-c77a-4443-9962-27c080eb9199\">\n",
              "    <div class=\"colab-df-container\">\n",
              "      <div>\n",
              "<style scoped>\n",
              "    .dataframe tbody tr th:only-of-type {\n",
              "        vertical-align: middle;\n",
              "    }\n",
              "\n",
              "    .dataframe tbody tr th {\n",
              "        vertical-align: top;\n",
              "    }\n",
              "\n",
              "    .dataframe thead th {\n",
              "        text-align: right;\n",
              "    }\n",
              "</style>\n",
              "<table border=\"1\" class=\"dataframe\">\n",
              "  <thead>\n",
              "    <tr style=\"text-align: right;\">\n",
              "      <th></th>\n",
              "      <th>factor_1</th>\n",
              "      <th>factor_2</th>\n",
              "    </tr>\n",
              "  </thead>\n",
              "  <tbody>\n",
              "    <tr>\n",
              "      <th>SS Loadings</th>\n",
              "      <td>1.524760</td>\n",
              "      <td>1.437427</td>\n",
              "    </tr>\n",
              "    <tr>\n",
              "      <th>Proportion Var</th>\n",
              "      <td>0.217823</td>\n",
              "      <td>0.205347</td>\n",
              "    </tr>\n",
              "    <tr>\n",
              "      <th>Cumulative Var</th>\n",
              "      <td>0.217823</td>\n",
              "      <td>0.423170</td>\n",
              "    </tr>\n",
              "  </tbody>\n",
              "</table>\n",
              "</div>\n",
              "      <button class=\"colab-df-convert\" onclick=\"convertToInteractive('df-c8e476fb-c77a-4443-9962-27c080eb9199')\"\n",
              "              title=\"Convert this dataframe to an interactive table.\"\n",
              "              style=\"display:none;\">\n",
              "        \n",
              "  <svg xmlns=\"http://www.w3.org/2000/svg\" height=\"24px\"viewBox=\"0 0 24 24\"\n",
              "       width=\"24px\">\n",
              "    <path d=\"M0 0h24v24H0V0z\" fill=\"none\"/>\n",
              "    <path d=\"M18.56 5.44l.94 2.06.94-2.06 2.06-.94-2.06-.94-.94-2.06-.94 2.06-2.06.94zm-11 1L8.5 8.5l.94-2.06 2.06-.94-2.06-.94L8.5 2.5l-.94 2.06-2.06.94zm10 10l.94 2.06.94-2.06 2.06-.94-2.06-.94-.94-2.06-.94 2.06-2.06.94z\"/><path d=\"M17.41 7.96l-1.37-1.37c-.4-.4-.92-.59-1.43-.59-.52 0-1.04.2-1.43.59L10.3 9.45l-7.72 7.72c-.78.78-.78 2.05 0 2.83L4 21.41c.39.39.9.59 1.41.59.51 0 1.02-.2 1.41-.59l7.78-7.78 2.81-2.81c.8-.78.8-2.07 0-2.86zM5.41 20L4 18.59l7.72-7.72 1.47 1.35L5.41 20z\"/>\n",
              "  </svg>\n",
              "      </button>\n",
              "      \n",
              "  <style>\n",
              "    .colab-df-container {\n",
              "      display:flex;\n",
              "      flex-wrap:wrap;\n",
              "      gap: 12px;\n",
              "    }\n",
              "\n",
              "    .colab-df-convert {\n",
              "      background-color: #E8F0FE;\n",
              "      border: none;\n",
              "      border-radius: 50%;\n",
              "      cursor: pointer;\n",
              "      display: none;\n",
              "      fill: #1967D2;\n",
              "      height: 32px;\n",
              "      padding: 0 0 0 0;\n",
              "      width: 32px;\n",
              "    }\n",
              "\n",
              "    .colab-df-convert:hover {\n",
              "      background-color: #E2EBFA;\n",
              "      box-shadow: 0px 1px 2px rgba(60, 64, 67, 0.3), 0px 1px 3px 1px rgba(60, 64, 67, 0.15);\n",
              "      fill: #174EA6;\n",
              "    }\n",
              "\n",
              "    [theme=dark] .colab-df-convert {\n",
              "      background-color: #3B4455;\n",
              "      fill: #D2E3FC;\n",
              "    }\n",
              "\n",
              "    [theme=dark] .colab-df-convert:hover {\n",
              "      background-color: #434B5C;\n",
              "      box-shadow: 0px 1px 3px 1px rgba(0, 0, 0, 0.15);\n",
              "      filter: drop-shadow(0px 1px 2px rgba(0, 0, 0, 0.3));\n",
              "      fill: #FFFFFF;\n",
              "    }\n",
              "  </style>\n",
              "\n",
              "      <script>\n",
              "        const buttonEl =\n",
              "          document.querySelector('#df-c8e476fb-c77a-4443-9962-27c080eb9199 button.colab-df-convert');\n",
              "        buttonEl.style.display =\n",
              "          google.colab.kernel.accessAllowed ? 'block' : 'none';\n",
              "\n",
              "        async function convertToInteractive(key) {\n",
              "          const element = document.querySelector('#df-c8e476fb-c77a-4443-9962-27c080eb9199');\n",
              "          const dataTable =\n",
              "            await google.colab.kernel.invokeFunction('convertToInteractive',\n",
              "                                                     [key], {});\n",
              "          if (!dataTable) return;\n",
              "\n",
              "          const docLinkHtml = 'Like what you see? Visit the ' +\n",
              "            '<a target=\"_blank\" href=https://colab.research.google.com/notebooks/data_table.ipynb>data table notebook</a>'\n",
              "            + ' to learn more about interactive tables.';\n",
              "          element.innerHTML = '';\n",
              "          dataTable['output_type'] = 'display_data';\n",
              "          await google.colab.output.renderOutput(dataTable, element);\n",
              "          const docLink = document.createElement('div');\n",
              "          docLink.innerHTML = docLinkHtml;\n",
              "          element.appendChild(docLink);\n",
              "        }\n",
              "      </script>\n",
              "    </div>\n",
              "  </div>\n",
              "  "
            ]
          },
          "metadata": {},
          "execution_count": 103
        }
      ]
    },
    {
      "cell_type": "code",
      "source": [
        "scores=pd.DataFrame(fa.fit_transform(df_scaled),columns=['factor_1','factor_2'])\n",
        "scores.head()"
      ],
      "metadata": {
        "colab": {
          "base_uri": "https://localhost:8080/",
          "height": 206
        },
        "id": "v9hJ0SzLk0nf",
        "outputId": "5d1aa1b5-6e31-4125-8ed9-fa7f1e6a059f"
      },
      "execution_count": null,
      "outputs": [
        {
          "output_type": "execute_result",
          "data": {
            "text/plain": [
              "   factor_1  factor_2\n",
              "0 -1.056267 -0.414067\n",
              "1 -0.312892 -0.554501\n",
              "2 -0.914928 -0.217825\n",
              "3  1.815168 -0.179745\n",
              "4  0.413355  3.843151"
            ],
            "text/html": [
              "\n",
              "  <div id=\"df-5da554c3-9e4a-44a9-9a6d-fd3026e28b1a\">\n",
              "    <div class=\"colab-df-container\">\n",
              "      <div>\n",
              "<style scoped>\n",
              "    .dataframe tbody tr th:only-of-type {\n",
              "        vertical-align: middle;\n",
              "    }\n",
              "\n",
              "    .dataframe tbody tr th {\n",
              "        vertical-align: top;\n",
              "    }\n",
              "\n",
              "    .dataframe thead th {\n",
              "        text-align: right;\n",
              "    }\n",
              "</style>\n",
              "<table border=\"1\" class=\"dataframe\">\n",
              "  <thead>\n",
              "    <tr style=\"text-align: right;\">\n",
              "      <th></th>\n",
              "      <th>factor_1</th>\n",
              "      <th>factor_2</th>\n",
              "    </tr>\n",
              "  </thead>\n",
              "  <tbody>\n",
              "    <tr>\n",
              "      <th>0</th>\n",
              "      <td>-1.056267</td>\n",
              "      <td>-0.414067</td>\n",
              "    </tr>\n",
              "    <tr>\n",
              "      <th>1</th>\n",
              "      <td>-0.312892</td>\n",
              "      <td>-0.554501</td>\n",
              "    </tr>\n",
              "    <tr>\n",
              "      <th>2</th>\n",
              "      <td>-0.914928</td>\n",
              "      <td>-0.217825</td>\n",
              "    </tr>\n",
              "    <tr>\n",
              "      <th>3</th>\n",
              "      <td>1.815168</td>\n",
              "      <td>-0.179745</td>\n",
              "    </tr>\n",
              "    <tr>\n",
              "      <th>4</th>\n",
              "      <td>0.413355</td>\n",
              "      <td>3.843151</td>\n",
              "    </tr>\n",
              "  </tbody>\n",
              "</table>\n",
              "</div>\n",
              "      <button class=\"colab-df-convert\" onclick=\"convertToInteractive('df-5da554c3-9e4a-44a9-9a6d-fd3026e28b1a')\"\n",
              "              title=\"Convert this dataframe to an interactive table.\"\n",
              "              style=\"display:none;\">\n",
              "        \n",
              "  <svg xmlns=\"http://www.w3.org/2000/svg\" height=\"24px\"viewBox=\"0 0 24 24\"\n",
              "       width=\"24px\">\n",
              "    <path d=\"M0 0h24v24H0V0z\" fill=\"none\"/>\n",
              "    <path d=\"M18.56 5.44l.94 2.06.94-2.06 2.06-.94-2.06-.94-.94-2.06-.94 2.06-2.06.94zm-11 1L8.5 8.5l.94-2.06 2.06-.94-2.06-.94L8.5 2.5l-.94 2.06-2.06.94zm10 10l.94 2.06.94-2.06 2.06-.94-2.06-.94-.94-2.06-.94 2.06-2.06.94z\"/><path d=\"M17.41 7.96l-1.37-1.37c-.4-.4-.92-.59-1.43-.59-.52 0-1.04.2-1.43.59L10.3 9.45l-7.72 7.72c-.78.78-.78 2.05 0 2.83L4 21.41c.39.39.9.59 1.41.59.51 0 1.02-.2 1.41-.59l7.78-7.78 2.81-2.81c.8-.78.8-2.07 0-2.86zM5.41 20L4 18.59l7.72-7.72 1.47 1.35L5.41 20z\"/>\n",
              "  </svg>\n",
              "      </button>\n",
              "      \n",
              "  <style>\n",
              "    .colab-df-container {\n",
              "      display:flex;\n",
              "      flex-wrap:wrap;\n",
              "      gap: 12px;\n",
              "    }\n",
              "\n",
              "    .colab-df-convert {\n",
              "      background-color: #E8F0FE;\n",
              "      border: none;\n",
              "      border-radius: 50%;\n",
              "      cursor: pointer;\n",
              "      display: none;\n",
              "      fill: #1967D2;\n",
              "      height: 32px;\n",
              "      padding: 0 0 0 0;\n",
              "      width: 32px;\n",
              "    }\n",
              "\n",
              "    .colab-df-convert:hover {\n",
              "      background-color: #E2EBFA;\n",
              "      box-shadow: 0px 1px 2px rgba(60, 64, 67, 0.3), 0px 1px 3px 1px rgba(60, 64, 67, 0.15);\n",
              "      fill: #174EA6;\n",
              "    }\n",
              "\n",
              "    [theme=dark] .colab-df-convert {\n",
              "      background-color: #3B4455;\n",
              "      fill: #D2E3FC;\n",
              "    }\n",
              "\n",
              "    [theme=dark] .colab-df-convert:hover {\n",
              "      background-color: #434B5C;\n",
              "      box-shadow: 0px 1px 3px 1px rgba(0, 0, 0, 0.15);\n",
              "      filter: drop-shadow(0px 1px 2px rgba(0, 0, 0, 0.3));\n",
              "      fill: #FFFFFF;\n",
              "    }\n",
              "  </style>\n",
              "\n",
              "      <script>\n",
              "        const buttonEl =\n",
              "          document.querySelector('#df-5da554c3-9e4a-44a9-9a6d-fd3026e28b1a button.colab-df-convert');\n",
              "        buttonEl.style.display =\n",
              "          google.colab.kernel.accessAllowed ? 'block' : 'none';\n",
              "\n",
              "        async function convertToInteractive(key) {\n",
              "          const element = document.querySelector('#df-5da554c3-9e4a-44a9-9a6d-fd3026e28b1a');\n",
              "          const dataTable =\n",
              "            await google.colab.kernel.invokeFunction('convertToInteractive',\n",
              "                                                     [key], {});\n",
              "          if (!dataTable) return;\n",
              "\n",
              "          const docLinkHtml = 'Like what you see? Visit the ' +\n",
              "            '<a target=\"_blank\" href=https://colab.research.google.com/notebooks/data_table.ipynb>data table notebook</a>'\n",
              "            + ' to learn more about interactive tables.';\n",
              "          element.innerHTML = '';\n",
              "          dataTable['output_type'] = 'display_data';\n",
              "          await google.colab.output.renderOutput(dataTable, element);\n",
              "          const docLink = document.createElement('div');\n",
              "          docLink.innerHTML = docLinkHtml;\n",
              "          element.appendChild(docLink);\n",
              "        }\n",
              "      </script>\n",
              "    </div>\n",
              "  </div>\n",
              "  "
            ]
          },
          "metadata": {},
          "execution_count": 104
        }
      ]
    },
    {
      "cell_type": "code",
      "source": [
        "scores.corr()"
      ],
      "metadata": {
        "colab": {
          "base_uri": "https://localhost:8080/",
          "height": 112
        },
        "id": "pId2Td3vldMo",
        "outputId": "5693be07-82d6-4a98-8e08-7317c219bd16"
      },
      "execution_count": null,
      "outputs": [
        {
          "output_type": "execute_result",
          "data": {
            "text/plain": [
              "          factor_1  factor_2\n",
              "factor_1  1.000000 -0.004571\n",
              "factor_2 -0.004571  1.000000"
            ],
            "text/html": [
              "\n",
              "  <div id=\"df-87193c06-fc67-40ff-ab77-6c7acd60815e\">\n",
              "    <div class=\"colab-df-container\">\n",
              "      <div>\n",
              "<style scoped>\n",
              "    .dataframe tbody tr th:only-of-type {\n",
              "        vertical-align: middle;\n",
              "    }\n",
              "\n",
              "    .dataframe tbody tr th {\n",
              "        vertical-align: top;\n",
              "    }\n",
              "\n",
              "    .dataframe thead th {\n",
              "        text-align: right;\n",
              "    }\n",
              "</style>\n",
              "<table border=\"1\" class=\"dataframe\">\n",
              "  <thead>\n",
              "    <tr style=\"text-align: right;\">\n",
              "      <th></th>\n",
              "      <th>factor_1</th>\n",
              "      <th>factor_2</th>\n",
              "    </tr>\n",
              "  </thead>\n",
              "  <tbody>\n",
              "    <tr>\n",
              "      <th>factor_1</th>\n",
              "      <td>1.000000</td>\n",
              "      <td>-0.004571</td>\n",
              "    </tr>\n",
              "    <tr>\n",
              "      <th>factor_2</th>\n",
              "      <td>-0.004571</td>\n",
              "      <td>1.000000</td>\n",
              "    </tr>\n",
              "  </tbody>\n",
              "</table>\n",
              "</div>\n",
              "      <button class=\"colab-df-convert\" onclick=\"convertToInteractive('df-87193c06-fc67-40ff-ab77-6c7acd60815e')\"\n",
              "              title=\"Convert this dataframe to an interactive table.\"\n",
              "              style=\"display:none;\">\n",
              "        \n",
              "  <svg xmlns=\"http://www.w3.org/2000/svg\" height=\"24px\"viewBox=\"0 0 24 24\"\n",
              "       width=\"24px\">\n",
              "    <path d=\"M0 0h24v24H0V0z\" fill=\"none\"/>\n",
              "    <path d=\"M18.56 5.44l.94 2.06.94-2.06 2.06-.94-2.06-.94-.94-2.06-.94 2.06-2.06.94zm-11 1L8.5 8.5l.94-2.06 2.06-.94-2.06-.94L8.5 2.5l-.94 2.06-2.06.94zm10 10l.94 2.06.94-2.06 2.06-.94-2.06-.94-.94-2.06-.94 2.06-2.06.94z\"/><path d=\"M17.41 7.96l-1.37-1.37c-.4-.4-.92-.59-1.43-.59-.52 0-1.04.2-1.43.59L10.3 9.45l-7.72 7.72c-.78.78-.78 2.05 0 2.83L4 21.41c.39.39.9.59 1.41.59.51 0 1.02-.2 1.41-.59l7.78-7.78 2.81-2.81c.8-.78.8-2.07 0-2.86zM5.41 20L4 18.59l7.72-7.72 1.47 1.35L5.41 20z\"/>\n",
              "  </svg>\n",
              "      </button>\n",
              "      \n",
              "  <style>\n",
              "    .colab-df-container {\n",
              "      display:flex;\n",
              "      flex-wrap:wrap;\n",
              "      gap: 12px;\n",
              "    }\n",
              "\n",
              "    .colab-df-convert {\n",
              "      background-color: #E8F0FE;\n",
              "      border: none;\n",
              "      border-radius: 50%;\n",
              "      cursor: pointer;\n",
              "      display: none;\n",
              "      fill: #1967D2;\n",
              "      height: 32px;\n",
              "      padding: 0 0 0 0;\n",
              "      width: 32px;\n",
              "    }\n",
              "\n",
              "    .colab-df-convert:hover {\n",
              "      background-color: #E2EBFA;\n",
              "      box-shadow: 0px 1px 2px rgba(60, 64, 67, 0.3), 0px 1px 3px 1px rgba(60, 64, 67, 0.15);\n",
              "      fill: #174EA6;\n",
              "    }\n",
              "\n",
              "    [theme=dark] .colab-df-convert {\n",
              "      background-color: #3B4455;\n",
              "      fill: #D2E3FC;\n",
              "    }\n",
              "\n",
              "    [theme=dark] .colab-df-convert:hover {\n",
              "      background-color: #434B5C;\n",
              "      box-shadow: 0px 1px 3px 1px rgba(0, 0, 0, 0.15);\n",
              "      filter: drop-shadow(0px 1px 2px rgba(0, 0, 0, 0.3));\n",
              "      fill: #FFFFFF;\n",
              "    }\n",
              "  </style>\n",
              "\n",
              "      <script>\n",
              "        const buttonEl =\n",
              "          document.querySelector('#df-87193c06-fc67-40ff-ab77-6c7acd60815e button.colab-df-convert');\n",
              "        buttonEl.style.display =\n",
              "          google.colab.kernel.accessAllowed ? 'block' : 'none';\n",
              "\n",
              "        async function convertToInteractive(key) {\n",
              "          const element = document.querySelector('#df-87193c06-fc67-40ff-ab77-6c7acd60815e');\n",
              "          const dataTable =\n",
              "            await google.colab.kernel.invokeFunction('convertToInteractive',\n",
              "                                                     [key], {});\n",
              "          if (!dataTable) return;\n",
              "\n",
              "          const docLinkHtml = 'Like what you see? Visit the ' +\n",
              "            '<a target=\"_blank\" href=https://colab.research.google.com/notebooks/data_table.ipynb>data table notebook</a>'\n",
              "            + ' to learn more about interactive tables.';\n",
              "          element.innerHTML = '';\n",
              "          dataTable['output_type'] = 'display_data';\n",
              "          await google.colab.output.renderOutput(dataTable, element);\n",
              "          const docLink = document.createElement('div');\n",
              "          docLink.innerHTML = docLinkHtml;\n",
              "          element.appendChild(docLink);\n",
              "        }\n",
              "      </script>\n",
              "    </div>\n",
              "  </div>\n",
              "  "
            ]
          },
          "metadata": {},
          "execution_count": 105
        }
      ]
    },
    {
      "cell_type": "code",
      "source": [],
      "metadata": {
        "id": "5xrQgt5plo1W"
      },
      "execution_count": null,
      "outputs": []
    }
  ]
}