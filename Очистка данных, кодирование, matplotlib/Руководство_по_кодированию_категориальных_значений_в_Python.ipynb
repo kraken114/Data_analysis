{
  "cells": [
    {
      "cell_type": "markdown",
      "metadata": {
        "id": "2OrtPH4-JTN0"
      },
      "source": [
        "# Руководство по кодированию категориальных значений в Python\n",
        "\n",
        "<a href=\"https://t.me/init_python\"><img src=\"https://dfedorov.spb.ru/pandas/logo-telegram.png\" width=\"35\" height=\"35\" alt=\"telegram\" align=\"left\"></a>"
      ]
    },
    {
      "cell_type": "markdown",
      "metadata": {
        "id": "6DJaGbKaJTN3"
      },
      "source": [
        "<a href=\"https://colab.research.google.com/github/dm-fedorov/pandas_basic/blob/master/быстрое%20введение%20в%20pandas/Руководство%20по%20кодированию%20категориальных%20значений%20в%20Python.ipynb\"><img align=\"left\" src=\"https://colab.research.google.com/assets/colab-badge.svg\" alt=\"Open in Colab\" title=\"Open and Execute in Google Colaboratory\" target=\"_blank\"></a>"
      ]
    },
    {
      "cell_type": "markdown",
      "metadata": {
        "id": "f7vl6gjIJTN3"
      },
      "source": [
        "# Введение\n",
        "\n",
        "Часто наборы данных содержат категориальные переменные.\n",
        "\n",
        "> дополнительно см. статью [Использование типа данных категории в pandas](https://dfedorov.spb.ru/pandas/%D0%98%D1%81%D0%BF%D0%BE%D0%BB%D1%8C%D0%B7%D0%BE%D0%B2%D0%B0%D0%BD%D0%B8%D0%B5%20%D1%82%D0%B8%D0%BF%D0%B0%20%D0%B4%D0%B0%D0%BD%D0%BD%D1%8B%D1%85%20%D0%BA%D0%B0%D1%82%D0%B5%D0%B3%D0%BE%D1%80%D0%B8%D0%B8%20%D0%B2%20pandas.html).\n",
        "\n",
        "Эти переменные обычно хранятся в виде текстовых значений, которые представляют различные характеристики. Некоторые примеры включают цвет (\"Красный\", \"Желтый\", \"Синий\"), размер (\"Маленький\", \"Средний\", \"Большой\") или географические обозначения (\"Штат\" или \"Страна\").\n",
        "\n",
        "Многие алгоритмы машинного обучения поддерживают категориальные значения без дополнительных манипуляций, но есть множество алгоритмов, которые этого не делают. Следовательно, перед аналитиком стоит задача выяснить, как *преобразовать эти текстовые атрибуты в числовые значения* для дальнейшей обработки.\n",
        "\n",
        "> Оригинал статьи Криса по [ссылке](https://pbpython.com/categorical-encoding.html)"
      ]
    },
    {
      "cell_type": "markdown",
      "metadata": {
        "id": "abBgrkHBJTN4"
      },
      "source": [
        "Как и во многих других аспектах здесь нет однозначного ответа. Каждый подход имеет свои плюсы/минусы и может повлиять на результат анализа. К счастью, инструменты *Python*, такие как *pandas* и *scikit-learn*, предоставляют несколько методик. Эта статья является обзором популярных (и более сложных) подходов в надежде, что это поможет другим применить рассмотренные методы к своим задачам."
      ]
    },
    {
      "cell_type": "markdown",
      "metadata": {
        "id": "SWBUHrraJTN4"
      },
      "source": [
        "# Набор данных\n",
        "\n",
        "Для этой статьи мне удалось найти хороший набор данных в [репозитории машинного обучения UCI](https://archive.ics.uci.edu/ml/index.php). Этот [автомобильный набор данных](https://archive.ics.uci.edu/ml/datasets/automobile) включает хорошее сочетание категориальных, а также непрерывных значений и служит полезным примером. Поскольку понимание предметной области является важным аспектом при принятии решения о том, как кодировать различные категориальные значения, этот набор данных является хорошим примером.\n",
        "\n",
        "Прежде чем мы начнем кодировать значения, нам нужно произвести небольшую очистку.\n",
        "\n",
        "К счастью, в *pandas* это делается просто:"
      ]
    },
    {
      "cell_type": "code",
      "execution_count": null,
      "metadata": {
        "id": "L8VvxExTJTN5"
      },
      "outputs": [],
      "source": [
        "import pandas as pd\n",
        "import numpy as np\n",
        "\n",
        "# Определите заголовки, так как данные их не содержат\n",
        "headers = [\"symboling\", \"normalized_losses\", \"make\", \"fuel_type\", \"aspiration\",\n",
        "           \"num_doors\", \"body_style\", \"drive_wheels\", \"engine_location\",\n",
        "           \"wheel_base\", \"length\", \"width\", \"height\", \"curb_weight\",\n",
        "           \"engine_type\", \"num_cylinders\", \"engine_size\", \"fuel_system\",\n",
        "           \"bore\", \"stroke\", \"compression_ratio\", \"horsepower\", \"peak_rpm\",\n",
        "           \"city_mpg\", \"highway_mpg\", \"price\"]"
      ]
    },
    {
      "cell_type": "code",
      "execution_count": null,
      "metadata": {
        "id": "V4yO6BH4JTN5"
      },
      "outputs": [],
      "source": [
        "# Прочтите CSV-файл и преобразуйте \"?\" в NaN\n",
        "df = pd.read_csv(\"https://github.com/dm-fedorov/pandas_basic/blob/master/%D0%B1%D1%8B%D1%81%D1%82%D1%80%D0%BE%D0%B5%20%D0%B2%D0%B2%D0%B5%D0%B4%D0%B5%D0%BD%D0%B8%D0%B5%20%D0%B2%20pandas/data/imports-85.data?raw=True\",\n",
        "                  header=None, names=headers, na_values=\"?\" )\n",
        "df.head()"
      ]
    },
    {
      "cell_type": "markdown",
      "metadata": {
        "id": "p6nwnYmbJTN6"
      },
      "source": [
        "Посмотрим, какие типы данных у нас есть:"
      ]
    },
    {
      "cell_type": "code",
      "execution_count": null,
      "metadata": {
        "id": "SeVJTUBOJTN6"
      },
      "outputs": [],
      "source": [
        "df.dtypes"
      ]
    },
    {
      "cell_type": "markdown",
      "metadata": {
        "id": "lYb3bh3PJTN7"
      },
      "source": [
        "Поскольку в этой статье мы сосредоточимся только на кодировании категориальных переменных, мы собираемся включить в наш фрейм данных только столбцы типа `object`.\n",
        "\n",
        "> дополнительно см. статью [Обзор типов данных Pandas]((https://dfedorov.spb.ru/pandas/%D0%9E%D0%B1%D0%B7%D0%BE%D1%80%20%D1%82%D0%B8%D0%BF%D0%BE%D0%B2%20%D0%B4%D0%B0%D0%BD%D0%BD%D1%8B%D1%85%20pandas.html))\n",
        "\n",
        "В *pandas* есть полезная функция [`select_dtypes`](https://pandas.pydata.org/pandas-docs/stable/reference/api/pandas.DataFrame.select_dtypes.html), которую можно использовать для создания нового фрейма данных, содержащего только столбцы типа `object`:"
      ]
    },
    {
      "cell_type": "code",
      "execution_count": null,
      "metadata": {
        "id": "Ga5tdiwWJTN7"
      },
      "outputs": [],
      "source": [
        "obj_df = df.select_dtypes(include=['object']).copy()"
      ]
    },
    {
      "cell_type": "code",
      "execution_count": null,
      "metadata": {
        "id": "zQukaRMsJTN7"
      },
      "outputs": [],
      "source": [
        "obj_df.head()"
      ]
    },
    {
      "cell_type": "markdown",
      "metadata": {
        "id": "RAKSyJqVJTN7"
      },
      "source": [
        "Прежде чем идти дальше, в данных есть пара нулевых значений, которые необходимо очистить:"
      ]
    },
    {
      "cell_type": "code",
      "execution_count": null,
      "metadata": {
        "id": "pYQxS_MwJTN7"
      },
      "outputs": [],
      "source": [
        "obj_df[obj_df.isnull().any(axis=1)]"
      ]
    },
    {
      "cell_type": "markdown",
      "metadata": {
        "id": "hl3HOGJeJTN8"
      },
      "source": [
        "Для простоты заполните значение числом `four` (так как это наиболее распространенное значение):"
      ]
    },
    {
      "cell_type": "code",
      "execution_count": null,
      "metadata": {
        "id": "A7QiwPuLJTN8"
      },
      "outputs": [],
      "source": [
        "obj_df[\"num_doors\"].value_counts()"
      ]
    },
    {
      "cell_type": "code",
      "execution_count": null,
      "metadata": {
        "id": "HK1WAEQiJTN8"
      },
      "outputs": [],
      "source": [
        "obj_df = obj_df.fillna({\"num_doors\": \"four\"})"
      ]
    },
    {
      "cell_type": "code",
      "execution_count": null,
      "metadata": {
        "id": "t3Hix_9BJTN8"
      },
      "outputs": [],
      "source": [
        "obj_df[obj_df.isnull().any(axis=1)]"
      ]
    },
    {
      "cell_type": "code",
      "execution_count": null,
      "metadata": {
        "id": "Qtzs30tOJTN8"
      },
      "outputs": [],
      "source": [
        "obj_df.head()"
      ]
    },
    {
      "cell_type": "markdown",
      "metadata": {
        "id": "HE7YV_rrJTN8"
      },
      "source": [
        "Теперь, когда данные не имеют нулевых значений, можем рассмотреть варианты кодирования категориальных значений."
      ]
    },
    {
      "cell_type": "markdown",
      "metadata": {
        "id": "dtOH8nP4JTN8"
      },
      "source": [
        "## Подход №1 - Найти и заменить\n",
        "\n",
        "Прежде чем мы перейдем к более \"стандартным\" подходам кодирования категориальных данных, этот набор данных включает один потенциальный подход, который я называю *\"найти и заменить\"*.\n",
        "\n",
        "Есть два столбца данных, значения которых представляют собой слова, используемые для представления чисел. В частности, количество цилиндров в двигателе (`num_cylinders`) и количество дверей в машине (`num_doors`). *Pandas* позволяет нам напрямую заменять текстовые значения их числовыми эквивалентами, используя `replace`.\n",
        "\n",
        "Мы уже видели, что данные `num_doors` включают только `2` или `4` двери. Количество цилиндров включает всего `7` значений, которые легко переводятся в действительные числа:"
      ]
    },
    {
      "cell_type": "code",
      "execution_count": null,
      "metadata": {
        "id": "tOJDjpqEJTN9"
      },
      "outputs": [],
      "source": [
        "obj_df[\"num_cylinders\"].value_counts()"
      ]
    },
    {
      "cell_type": "markdown",
      "metadata": {
        "id": "1CTLHwHoJTN9"
      },
      "source": [
        "Если вы просмотрите [документацию по `replace`](https://pandas.pydata.org/pandas-docs/stable/reference/api/pandas.DataFrame.replace.html), то увидите, что это мощная функция с множеством параметров.\n",
        "\n",
        "Для наших целей мы создадим словарь сопоставления (*mapping*), содержащий столбец для обработки (ключ словаря), а также словарь значений для замены.\n",
        "\n",
        "Вот полный словарь для очистки столбцов `num_doors` и `num_cylinders`:"
      ]
    },
    {
      "cell_type": "code",
      "execution_count": null,
      "metadata": {
        "id": "3wJpOn1GJTN9"
      },
      "outputs": [],
      "source": [
        "cleanup_nums = {\"num_doors\":     {\"four\": 4, \"two\": 2},\n",
        "                \"num_cylinders\": {\"four\": 4, \"six\": 6, \"five\": 5, \"eight\": 8,\n",
        "                                  \"two\": 2, \"twelve\": 12, \"three\":3 }}"
      ]
    },
    {
      "cell_type": "markdown",
      "metadata": {
        "id": "G3QAiMy9JTN9"
      },
      "source": [
        "Чтобы преобразовать столбцы в числа с помощью `replace`:"
      ]
    },
    {
      "cell_type": "code",
      "execution_count": null,
      "metadata": {
        "id": "mvPH32_9JTN9"
      },
      "outputs": [],
      "source": [
        "obj_df = obj_df.replace(cleanup_nums)"
      ]
    },
    {
      "cell_type": "code",
      "execution_count": null,
      "metadata": {
        "id": "h_q_I44sJTN9"
      },
      "outputs": [],
      "source": [
        "obj_df.head()"
      ]
    },
    {
      "cell_type": "markdown",
      "metadata": {
        "id": "ZJBxcHt7JTN9"
      },
      "source": [
        "Хорошим преимуществом этого подхода является то, что *pandas* \"знает\" типы значений в столбцах, поэтому теперь объект имеет тип `int64`:"
      ]
    },
    {
      "cell_type": "code",
      "execution_count": null,
      "metadata": {
        "id": "bxHhwG4MJTN9"
      },
      "outputs": [],
      "source": [
        "obj_df.dtypes"
      ]
    },
    {
      "cell_type": "markdown",
      "metadata": {
        "id": "-KOtLwunJTN9"
      },
      "source": [
        "Хотя данный подход может работать только в определенных случаях, это очень полезная демонстрация того, как преобразовать текстовые значения в числовые, когда есть \"легкая\" интерпретация данных человеком. Представленная концепция также полезна для более общей очистки данных.\n",
        "\n",
        "## Подход № 2 - Кодирование метки\n",
        "\n",
        "Другой подход к кодированию категориальных значений заключается в использовании метода, называемого кодированием меток (`label encoding`).\n",
        "\n",
        "Кодирование метки - это простое преобразование каждого значения в столбце в число. Например, столбец `body_style` содержит `5` разных значений. Мы могли бы закодировать это так:\n",
        "\n",
        "- `кабриолет (convertible) -> 0`\n",
        "- `\"жесткий верх\" (hardtop) -> 1`\n",
        "- `хэтчбек (hatchback) -> 2`\n",
        "- `седан (sedan) -> 3`\n",
        "- `\"вэгон\" (wagon) -> 4`\n",
        "\n",
        "Прием, который вы можете использовать в *pandas*, - это преобразовать столбец в категорию, а затем использовать эти значения категории для кодирования метки:"
      ]
    },
    {
      "cell_type": "code",
      "execution_count": null,
      "metadata": {
        "id": "u3indffLJTN9"
      },
      "outputs": [],
      "source": [
        "obj_df[\"body_style\"].value_counts()"
      ]
    },
    {
      "cell_type": "code",
      "execution_count": null,
      "metadata": {
        "id": "vTpQQEPBJTN-"
      },
      "outputs": [],
      "source": [
        "obj_df[\"body_style\"] = obj_df[\"body_style\"].astype('category')"
      ]
    },
    {
      "cell_type": "code",
      "execution_count": null,
      "metadata": {
        "id": "qNaTcBHAJTN-"
      },
      "outputs": [],
      "source": [
        "obj_df.dtypes"
      ]
    },
    {
      "cell_type": "markdown",
      "metadata": {
        "id": "eYvBRErVJTN-"
      },
      "source": [
        "Затем вы можете назначить закодированную переменную новому столбцу с помощью метода доступа (*accessor*) `cat.codes`:"
      ]
    },
    {
      "cell_type": "code",
      "execution_count": null,
      "metadata": {
        "id": "p_pxPh-FJTN-"
      },
      "outputs": [],
      "source": [
        "obj_df[\"body_style_cat\"] = obj_df[\"body_style\"].cat.codes\n",
        "obj_df.head()"
      ]
    },
    {
      "cell_type": "code",
      "execution_count": null,
      "metadata": {
        "id": "bx23qS2tJTN-"
      },
      "outputs": [],
      "source": [
        "obj_df.dtypes"
      ]
    },
    {
      "cell_type": "markdown",
      "metadata": {
        "id": "hn9kHlegJTN-"
      },
      "source": [
        "Приятным аспектом этого подхода является то, что вы получаете [преимущества категорий *pandas*](https://dfedorov.spb.ru/pandas/%D0%98%D1%81%D0%BF%D0%BE%D0%BB%D1%8C%D0%B7%D0%BE%D0%B2%D0%B0%D0%BD%D0%B8%D0%B5%20%D1%82%D0%B8%D0%BF%D0%B0%20%D0%B4%D0%B0%D0%BD%D0%BD%D1%8B%D1%85%20%D0%BA%D0%B0%D1%82%D0%B5%D0%B3%D0%BE%D1%80%D0%B8%D0%B8%20%D0%B2%20pandas.html) (компактный размер данных, возможность упорядочивания, поддержка построения графиков), но их можно легко преобразовать в числовые значения для дальнейшего анализа."
      ]
    },
    {
      "cell_type": "markdown",
      "metadata": {
        "id": "djYuJEm8JTN-"
      },
      "source": [
        "## Подход № 3 - Унитарное кодирование (One Hot Encoding)\n",
        "\n",
        "Кодирование меток имеет тот недостаток, что числовые значения могут быть \"неверно интерпретированы\" алгоритмами. Например, значение `0` очевидно меньше значения `4`, но действительно ли это соответствует набору данных в реальной жизни? Имеет ли универсал в `4` раза больший вес, чем у кабриолета? В этом примере я так не думаю.\n",
        "\n",
        "Общий альтернативный подход называется *унитарным кодированием* (*One Hot Encoding*). Основная стратегия состоит в том, чтобы преобразовать значение каждой категории в новый столбец и присвоить столбцу значение `1` или `0` (*Истина / Ложь*). Это дает преимущество в том, что значение не взвешивается неправильно, но имеет обратную сторону добавления дополнительных столбцов в набор данных.\n",
        "\n",
        "*Pandas* поддерживает эту возможность с помощью [`get_dummies`](https://pandas.pydata.org/pandas-docs/stable/reference/api/pandas.get_dummies.html). Эта функция названа так, потому что она создает фиктивные (*dummy*) / индикаторные переменные (`1` или `0`).\n",
        "\n",
        "Надеюсь, простой пример прояснит это. Мы можем посмотреть на столбец `drive_wheels`, где у нас есть значения `4wd`, `fwd` или `rwd`.\n",
        "\n",
        "Используя `get_dummies`, мы можем преобразовать их в три столбца с `1` или `0`, соответствующими правильному значению:"
      ]
    },
    {
      "cell_type": "code",
      "execution_count": null,
      "metadata": {
        "id": "jjLNHOxjJTN-"
      },
      "outputs": [],
      "source": [
        "pd.get_dummies(obj_df, columns=[\"drive_wheels\"]).head()"
      ]
    },
    {
      "cell_type": "markdown",
      "metadata": {
        "id": "Z3kMdDFlJTOC"
      },
      "source": [
        "Новый набор данных содержит три новых столбца:\n",
        "\n",
        "- `drive_wheels_4wd`\n",
        "- `drive_wheels_rwd`\n",
        "- `drive_wheels_fwd`\n",
        "\n",
        "Эта мощная функция, потому что вы можете передать столько столбцов категорий, сколько захотите, и выбрать, как обозначить столбцы с помощью префикса.\n",
        "\n",
        "Правильное присвоение имен немного упростит дальнейший анализ:"
      ]
    },
    {
      "cell_type": "code",
      "execution_count": null,
      "metadata": {
        "id": "i1y0RC9eJTOC"
      },
      "outputs": [],
      "source": [
        "pd.get_dummies(obj_df, columns=[\"body_style\", \"drive_wheels\"], prefix=[\"body\", \"drive\"]).head()"
      ]
    },
    {
      "cell_type": "markdown",
      "metadata": {
        "id": "3c_Ew9ZLJTOD"
      },
      "source": [
        "Другая концепция, о которой следует помнить, заключается в том, что `get_dummies` возвращает полный фрейм данных (*dataframe*), поэтому вам нужно будет отфильтровать объекты с помощью `select_dtypes` перед проведением итогового анализа.\n",
        "\n",
        "> Унитарное кодирование очень полезно, но оно может увеличить количество столбцов, если у вас много уникальных значений в столбце.\n",
        "\n",
        "## Подход №4 - Пользовательское двоичное кодирование\n",
        "\n",
        "В зависимости от набора данных вы можете использовать некоторую комбинацию кодирования меток и унитарного кодирования для создания двоичного столбца, который соответствует вашим потребностям.\n",
        "\n",
        "В этом конкретном наборе данных есть столбец с именем `engine_type`, который содержит несколько разных значений:"
      ]
    },
    {
      "cell_type": "code",
      "execution_count": null,
      "metadata": {
        "id": "vtugF8mOJTOD"
      },
      "outputs": [],
      "source": [
        "obj_df[\"engine_type\"].value_counts()"
      ]
    },
    {
      "cell_type": "markdown",
      "metadata": {
        "id": "ltUqVS0NJTOD"
      },
      "source": [
        "Возможно, нас волнует, оснащен ли двигатель верхним распредвалом (*Overhead Cam, OHC*) или нет.\n",
        "\n",
        "Другими словами, разные версии *OHC* одинаковы для этого анализа. Если это так, то мы могли бы использовать метод доступа (*accessor*) `str` и `np.where` (функциональная замена условия) для создания нового столбца, который указывает, есть ли в автомобиле двигатель OHC:"
      ]
    },
    {
      "cell_type": "code",
      "execution_count": null,
      "metadata": {
        "id": "1TPEV-CRJTOD"
      },
      "outputs": [],
      "source": [
        "obj_df[\"OHC_Code\"] = np.where(obj_df[\"engine_type\"].str.contains(\"ohc\"), 1, 0)"
      ]
    },
    {
      "cell_type": "markdown",
      "metadata": {
        "id": "CArhZoRuJTOD"
      },
      "source": [
        "Это удобная функция, но иногда я забываю о синтаксисе, поэтому вот график, показывающий, что мы делаем:\n",
        "\n",
        "![](https://github.com/dm-fedorov/pandas_basic/blob/master/pic/np-where-2.png?raw=True)\n",
        "\n",
        "Результирующий фрейм данных выглядит следующим образом (показывает только подмножество столбцов):"
      ]
    },
    {
      "cell_type": "code",
      "execution_count": null,
      "metadata": {
        "id": "6NsU2LDRJTOD"
      },
      "outputs": [],
      "source": [
        "obj_df[[\"make\", \"engine_type\", \"OHC_Code\"]].head()"
      ]
    },
    {
      "cell_type": "markdown",
      "metadata": {
        "id": "7xe-L-0VJTOD"
      },
      "source": [
        "Это подход подчеркивает, насколько важно знание предметной области для эффективного решения проблемы.\n",
        "\n",
        "## scikit-Learn\n",
        "\n",
        "В дополнение к подходу *pandas*, *scikit-learn* предоставляет [аналогичную функциональность](https://scikit-learn.org/stable/modules/preprocessing.html#encoding-categorical-features). Лично я считаю, что использование *pandas* проще для понимания, но подход *scikit* является оптимальным, когда вы пытаетесь построить прогнозную модель.\n",
        "\n",
        "Например, если мы хотим выполнить кодирование меток для марки автомобиля (*make*), нам нужно создать экземпляр объекта `OrdinalEncoder` и произвести `fit_transform` данных:"
      ]
    },
    {
      "cell_type": "code",
      "execution_count": null,
      "metadata": {
        "id": "pICLOUC7JTOD"
      },
      "outputs": [],
      "source": [
        "from sklearn.preprocessing import OrdinalEncoder\n",
        "\n",
        "ord_enc = OrdinalEncoder()"
      ]
    },
    {
      "cell_type": "code",
      "execution_count": null,
      "metadata": {
        "id": "PRBjhGiTJTOD"
      },
      "outputs": [],
      "source": [
        "obj_df[\"make_code\"] = ord_enc.fit_transform(obj_df[[\"make\"]])"
      ]
    },
    {
      "cell_type": "code",
      "execution_count": null,
      "metadata": {
        "id": "3FsBmw4-JTOE"
      },
      "outputs": [],
      "source": [
        "obj_df[[\"make\", \"make_code\"]].head(11)"
      ]
    },
    {
      "cell_type": "markdown",
      "metadata": {
        "id": "gQxuIoiQJTOE"
      },
      "source": [
        "*scikit-learn* также поддерживает двоичное кодирование с помощью `OneHotEncoder`.\n",
        "\n",
        "Мы используем тот же процесс, что и выше, для преобразования данных, но процесс создания фрейма данных (*DataFrame*) добавляет пару дополнительных шагов."
      ]
    },
    {
      "cell_type": "code",
      "execution_count": null,
      "metadata": {
        "id": "80AoKY_gJTOE"
      },
      "outputs": [],
      "source": [
        "from sklearn.preprocessing import OneHotEncoder"
      ]
    },
    {
      "cell_type": "code",
      "execution_count": null,
      "metadata": {
        "id": "Ogr3SlZhJTOE"
      },
      "outputs": [],
      "source": [
        "oe_style = OneHotEncoder()"
      ]
    },
    {
      "cell_type": "code",
      "execution_count": null,
      "metadata": {
        "id": "FCtlsFREJTOE"
      },
      "outputs": [],
      "source": [
        "oe_results = oe_style.fit_transform(obj_df[[\"body_style\"]])"
      ]
    },
    {
      "cell_type": "markdown",
      "metadata": {
        "id": "c4Se1LTBJTOE"
      },
      "source": [
        "Результатом является массив, который необходимо преобразовать во фрейм данных:"
      ]
    },
    {
      "cell_type": "code",
      "execution_count": null,
      "metadata": {
        "id": "vzCAY0INJTOE"
      },
      "outputs": [],
      "source": [
        "oe_results.toarray()"
      ]
    },
    {
      "cell_type": "code",
      "execution_count": null,
      "metadata": {
        "id": "LLVNrEqcJTOF"
      },
      "outputs": [],
      "source": [
        "pd.DataFrame(oe_results.toarray(), columns=oe_style.categories_).head()"
      ]
    },
    {
      "cell_type": "markdown",
      "metadata": {
        "id": "Irw8S9yUJTOF"
      },
      "source": [
        "Следующим шагом будет присоединение этих данных обратно к исходному фрейму.\n",
        "\n",
        "Вот пример:"
      ]
    },
    {
      "cell_type": "code",
      "execution_count": null,
      "metadata": {
        "id": "hhIVG36PJTOF"
      },
      "outputs": [],
      "source": [
        "obj_df = obj_df.join(pd.DataFrame(oe_results.toarray(), columns=oe_style.categories_))\n",
        "obj_df.head()"
      ]
    },
    {
      "cell_type": "markdown",
      "metadata": {
        "id": "eXWeUnhaJTOF"
      },
      "source": [
        "Ключевым моментом является то, что вам нужно использовать `toarray()` для преобразования результатов в формат, который можно преобразовать во фрейм данных.\n",
        "\n",
        "## Продвинутые подходы\n",
        "\n",
        "Есть еще более продвинутые алгоритмы категориального кодирования. У меня нет опыта работы с ними, но, чтобы завершить это руководство, я захотел их включить. В [этой статье](http://www.willmcginnis.com/2015/11/29/beyond-one-hot-an-exploration-of-categorical-variables/) содержится дополнительная техническая информация.\n",
        "\n",
        "Другой приятный аспект заключается в том, что автор статьи создал пакет для *scikit-learn* под названием [`category_encoders`](https://github.com/scikit-learn-contrib/category_encoders), который реализует многие из этих подходов. Это очень хороший инструмент, позволяющий взглянуть на проблему с другой точки зрения."
      ]
    },
    {
      "cell_type": "code",
      "execution_count": null,
      "metadata": {
        "id": "u0m_OkyuJTOF"
      },
      "outputs": [],
      "source": [
        "#!pip3 install category_encoders"
      ]
    },
    {
      "cell_type": "markdown",
      "metadata": {
        "id": "f3U_aLCpJTOF"
      },
      "source": [
        "В первом примере мы попробуем выполнить [кодирование обратной разницы](https://contrib.scikit-learn.org/category_encoders/backward_difference.html) (*Backward Difference encoding*).\n",
        "\n",
        "Сначала мы получаем чистый фрейм данных и настраиваем `BackwardDifferenceEncoder`:"
      ]
    },
    {
      "cell_type": "code",
      "execution_count": null,
      "metadata": {
        "id": "rUdfwoFNJTOF"
      },
      "outputs": [],
      "source": [
        "import category_encoders as ce"
      ]
    },
    {
      "cell_type": "code",
      "execution_count": null,
      "metadata": {
        "id": "r_gB4BoIJTOF"
      },
      "outputs": [],
      "source": [
        "# Получите новый чистый фрейм данных\n",
        "obj_df = df.select_dtypes(include=['object']).copy()"
      ]
    },
    {
      "cell_type": "code",
      "execution_count": null,
      "metadata": {
        "id": "9Ur9TWqkJTOF"
      },
      "outputs": [],
      "source": [
        "# Укажите столбцы для кодирования, затем выполните fit и transform\n",
        "encoder = ce.BackwardDifferenceEncoder(cols=[\"engine_type\"])"
      ]
    },
    {
      "cell_type": "code",
      "execution_count": null,
      "metadata": {
        "id": "64IL82J5JTOG"
      },
      "outputs": [],
      "source": [
        "encoder.fit(obj_df, verbose=1)\n",
        "\n",
        "# https://stackoverflow.com/questions/63589556/getting-is-categorical-is-deprecated-error-while-using-jamessteinencoder"
      ]
    },
    {
      "cell_type": "code",
      "execution_count": null,
      "metadata": {
        "id": "9W63jtElJTOG"
      },
      "outputs": [],
      "source": [
        "encoder.fit_transform(obj_df, verbose=1).iloc[:,8:14].head()"
      ]
    },
    {
      "cell_type": "markdown",
      "metadata": {
        "id": "dPoZn6wHJTOG"
      },
      "source": [
        "Интересно то, что результат не соответствует стандартным единицам и нулям, которые мы видели в предыдущих примерах кодирования.\n",
        "\n",
        "Если мы попробуем [полиномиальное кодирование](https://contrib.scikit-learn.org/category_encoders/polynomial.html) (*polynomial encoding*), то получим другое распределение значений, используемых для кодирования столбцов:"
      ]
    },
    {
      "cell_type": "code",
      "execution_count": null,
      "metadata": {
        "id": "m_vzO6DlJTOG"
      },
      "outputs": [],
      "source": [
        "encoder = ce.PolynomialEncoder(cols=[\"engine_type\"])"
      ]
    },
    {
      "cell_type": "code",
      "execution_count": null,
      "metadata": {
        "id": "ZmkJgESnJTOG"
      },
      "outputs": [],
      "source": [
        "encoder.fit_transform(obj_df, verbose=1).iloc[:,8:14].head()"
      ]
    },
    {
      "cell_type": "markdown",
      "metadata": {
        "id": "Q6zuOXOZJTOG"
      },
      "source": [
        "В этот пакет включено несколько различных алгоритмов, и лучший способ изучить их - попробовать их и посмотреть, поможет ли это повысить точность вашего анализа."
      ]
    },
    {
      "cell_type": "markdown",
      "metadata": {
        "id": "vmUzjU4VJTOG"
      },
      "source": [
        "## Конвейеры scikit-learn\n",
        "\n",
        "Цель этого раздела показать, как интегрировать особенности функций кодирования *scikit-learn* в простой конвейер (*pipeline*) построения модели.\n",
        "\n",
        "Как упоминалось выше, категориальные кодировщики *scikit-learn* позволяют включать преобразование в ваши конвейеры, что позволяет упростить процесс построения модели и избежать некоторых ошибок. Я рекомендую [это видео](https://www.dataschool.io/encoding-categorical-features-in-python/) в качестве хорошего вступления. Оно послужило основой для изложенного ниже подхода.\n",
        "\n",
        "Вот очень быстрый пример того, как включить `OneHotEncoder` и `OrdinalEncoder` в конвейер и использовать `cross_val_score` для анализа результатов:"
      ]
    },
    {
      "cell_type": "code",
      "execution_count": null,
      "metadata": {
        "id": "7uMi-1yWJTOG"
      },
      "outputs": [],
      "source": [
        "from sklearn.compose import make_column_transformer\n",
        "from sklearn.linear_model import LinearRegression\n",
        "from sklearn.pipeline import make_pipeline\n",
        "from sklearn.model_selection import cross_val_score\n",
        "\n",
        "# для целей этого анализа используйте только небольшой набор признаков\n",
        "feature_cols = [\n",
        "    'fuel_type', 'make', 'aspiration', 'highway_mpg',\n",
        "    'city_mpg', 'curb_weight', 'drive_wheels'\n",
        "]\n",
        "\n",
        "# Удалите пустые строки с ценами\n",
        "df_ml = df.dropna(subset=['price'])\n",
        "\n",
        "X = df_ml[feature_cols]\n",
        "y = df_ml['price']"
      ]
    },
    {
      "cell_type": "markdown",
      "metadata": {
        "id": "y65I8lG5JTOH"
      },
      "source": [
        "Теперь, когда у нас есть данные, давайте создадим преобразователь (transformer) столбцов:"
      ]
    },
    {
      "cell_type": "code",
      "execution_count": null,
      "metadata": {
        "id": "4DAGq9DiJTOH"
      },
      "outputs": [],
      "source": [
        "column_trans = make_column_transformer((OneHotEncoder(handle_unknown='ignore'),\n",
        "                                        ['fuel_type', 'make', 'drive_wheels']),\n",
        "                                      (OrdinalEncoder(), ['aspiration']),\n",
        "                                      remainder='passthrough')"
      ]
    },
    {
      "cell_type": "markdown",
      "metadata": {
        "id": "7a2veibiJTOH"
      },
      "source": [
        "В этом примере показано, как применять разные типы кодировщиков для определенных столбцов.\n",
        "\n",
        "Используем аргумент `restder='passthrough'` для передачи всех числовых значений через конвейер без каких-либо изменений.\n",
        "\n",
        "Для модели мы используем простую линейную регрессию, а затем создаем конвейер:"
      ]
    },
    {
      "cell_type": "code",
      "execution_count": null,
      "metadata": {
        "id": "n0jA0HaSJTOH"
      },
      "outputs": [],
      "source": [
        "linreg = LinearRegression()\n",
        "pipe = make_pipeline(column_trans, linreg)"
      ]
    },
    {
      "cell_type": "markdown",
      "metadata": {
        "id": "M9TSDElwJTOH"
      },
      "source": [
        "Выполните перекрестную проверку (*cross validation*) `10` раз, используя *отрицательную среднюю абсолютную ошибку* (`neg_mean_absolute_error`) в качестве функции оценки.\n",
        "\n",
        "Наконец, возьмите среднее из `10` значений, чтобы увидеть величину ошибки:"
      ]
    },
    {
      "cell_type": "code",
      "execution_count": null,
      "metadata": {
        "id": "D8c2R2UaJTOH"
      },
      "outputs": [],
      "source": [
        "cross_val_score(pipe, X, y, cv=10, scoring='neg_mean_absolute_error').mean().round(2)"
      ]
    },
    {
      "cell_type": "markdown",
      "metadata": {
        "id": "8cwmHm2zJTOH"
      },
      "source": [
        "Очевидно, что здесь можно провести гораздо больше анализа, но это сделано для того, чтобы проиллюстрировать, как использовать функции *scikit-learn* в более реалистичном конвейере анализа."
      ]
    },
    {
      "cell_type": "markdown",
      "metadata": {
        "id": "7eBpEwe1JTOH"
      },
      "source": [
        "# Заключение\n",
        "\n",
        "Кодирование категориальных переменных - важный шаг в процессе анализа данных. Поскольку существует несколько подходов к кодированию переменных, важно понимать различные варианты и способы их реализации в ваших собственных наборах данных. В экосистеме науки о данных *Python* есть много полезных подходов к решению этих проблем. Я призываю вас помнить об этих идеях в следующий раз, когда вы обнаружите, что анализируете категориальные переменные."
      ]
    },
    {
      "cell_type": "markdown",
      "metadata": {
        "id": "lKtBCtsfJTOH"
      },
      "source": [
        "<a href=\"https://t.me/init_python\"><img src=\"https://dfedorov.spb.ru/pandas/logo-telegram.png\" width=\"35\" height=\"35\" alt=\"telegram\" align=\"left\"></a>"
      ]
    },
    {
      "cell_type": "code",
      "execution_count": null,
      "metadata": {
        "id": "VJiTeoaLJTOI"
      },
      "outputs": [],
      "source": []
    }
  ],
  "metadata": {
    "kernelspec": {
      "display_name": "Python 3",
      "language": "python",
      "name": "python3"
    },
    "language_info": {
      "codemirror_mode": {
        "name": "ipython",
        "version": 3
      },
      "file_extension": ".py",
      "mimetype": "text/x-python",
      "name": "python",
      "nbconvert_exporter": "python",
      "pygments_lexer": "ipython3",
      "version": "3.8.3"
    },
    "colab": {
      "provenance": []
    }
  },
  "nbformat": 4,
  "nbformat_minor": 0
}