{
  "cells": [
    {
      "cell_type": "markdown",
      "metadata": {
        "id": "JsHHS-ByUXfd"
      },
      "source": [
        "<a href=\"https://colab.research.google.com/github/dm-fedorov/pandas_basic/blob/master/%D0%A2%D0%B5%D0%BF%D0%BB%D0%B8%D1%86%D0%B0/7.%20%D0%90%D0%B2%D0%B0%D1%80%D0%B8%D0%B9%D0%BD%D1%8B%D0%B5%20%D0%B4%D0%BE%D0%BC%D0%B0.ipynb\" target=\"_blank\"><img align=\"left\" src=\"https://colab.research.google.com/assets/colab-badge.svg\" alt=\"Open in Colab\" title=\"Open and Execute in Google Colaboratory\"></a>"
      ]
    },
    {
      "cell_type": "markdown",
      "metadata": {
        "id": "YVcdXVSmUXfg"
      },
      "source": [
        "- `address` - Населенный пункт (наименование)\n",
        "- `houseguid` - Адрес дома\n",
        "- `cadastral_number` - Глобальный уникальный идентификатор дома\n",
        "- `stage` - Дата постановки на кадастровый учет\n",
        "- `built_year` - Стадия жизненного цикла\n",
        "- `exploitation_start_year` - Год постройки\n",
        "- `project_type` - Год ввода в эксплуатацию\n",
        "- `house_type` - Серия, тип постройки здания\n",
        "- `floor_count_max` - Тип дома\n",
        "- `floor_count_min` - Наибольшее количество этажей, ед.\n",
        "- `entrance_count` - Наименьшее количество этажей, ед.\n",
        "- `residents_count` - Количество подъездов, ед.\n",
        "- `area_total` - Количество проживающих, чел.\n",
        "- `area_residential` - Общая площадь дома, всего, кв. м\n",
        "- `area_non_residential` - Общая площадь жилых помещений, кв. м\n",
        "- `area_common_property` - Общая площадь помещений, входящих в состав общего имущества, кв.м\n",
        "- `area_land` - Площадь земельного участка, входящего в состав общего имущества в многоквартирном доме, кв.м\n",
        "- `monument_status` - Наличие статуса памятника архитектуры\n",
        "- `monument_document_date` - Дата документа о признании дома памятником архитектуры\n",
        "- `monument_document_number` - Номер документа о признании дома памятником архитектуры\n",
        "- `deterioration_total` - Общая степень износа здания\n",
        "- `determined_date` - Дата, на которую установлен износ здания\n",
        "- `floor_type` - Тип перекрытий\n",
        "- `wall_material` - материал стен\n",
        "- `alarm_reason` - Материал несущих стен\n",
        "- `alarm_reason_other` - Причина признания дома аварийным\n",
        "- `alarm_document_number` - Причина признания дома аварийным (другое)\n",
        "- `alarm_has_file` - Номер решения органа местного самоуправления/органа исполнительной власти субъекта РФ о признании многоквартирного дома аварийным\n",
        "- `exp_name` - Файл решения\n",
        "- `exp_document_number` - Наименование специализированной организации, проводившей обследование многоквартирного дома\n",
        "- `exp_document_date` - Номер экспертного заключения, проведенного специализированной организацией\n",
        "- `exp_has_file` - Дата экспертного заключения\n",
        "- `commission_document_number` - Файл экспертного заключения\n",
        "- `commission_document_date` - Номер заключения межведомственной комиссии\n",
        "- `commission_has_file` - Дата заключения\n",
        "- `further_use` - Файл заключения\n",
        "- `decision_deadline_date` - Дальнейшее использование\n",
        "- `planned_resettlement_date` - Срок для принятия собственниками помещений дома решения о сносе или реконструкции\n",
        "- `actual_resettlement_date` - Планируемая дата завершения расселения\n",
        "- `planned_rooms_count` - Фактическая дата завершения расселения\n",
        "- `planned_rooms_square` - Количество помещений, подлежащих расселению, ед.\n",
        "- `planned_ppl_count` - Площадь помещений, подлежащих расселению, кв.м\n",
        "- `planned_demolition_date` - Количество граждан, подлежащих расселению, чел.\n",
        "- `resettled_rooms_count` - Планируемая дата сноса\n",
        "- `resettled_rooms_square` - Количество расселенных помещений, ед.\n",
        "- `resettled_ppl_count` - Площадь расселенных помещений, кв.м\n",
        "- `empty_rooms_count` - Количество постоянно проживающих членов семьи в расселенных помещениях, чел.\n",
        "- `empty_rooms_square` - Количество пустующих помещений, ед.\n",
        "- `redemption_amount` - Площадь пустующих помещений, кв.м\n",
        "- `planned_providing_area_square` - Общая сумма необходимого финансирования, тыс.руб.\n",
        "- `alarm_document_date` - Площадь помещений, планируемая для предоставления, кв.м\n",
        "- `year_alarm_document` - Дата решения"
      ]
    },
    {
      "cell_type": "code",
      "execution_count": null,
      "metadata": {
        "id": "AiKbXFT6UXfi",
        "colab": {
          "base_uri": "https://localhost:8080/",
          "height": 298
        },
        "outputId": "da82b61c-ecf7-47d0-927e-06ebab868768"
      },
      "outputs": [
        {
          "output_type": "execute_result",
          "data": {
            "text/html": [
              "\n",
              "  <div id=\"df-0fd6a628-1766-4276-8e93-b275aae5f6e1\">\n",
              "    <div class=\"colab-df-container\">\n",
              "      <div>\n",
              "<style scoped>\n",
              "    .dataframe tbody tr th:only-of-type {\n",
              "        vertical-align: middle;\n",
              "    }\n",
              "\n",
              "    .dataframe tbody tr th {\n",
              "        vertical-align: top;\n",
              "    }\n",
              "\n",
              "    .dataframe thead th {\n",
              "        text-align: right;\n",
              "    }\n",
              "</style>\n",
              "<table border=\"1\" class=\"dataframe\">\n",
              "  <thead>\n",
              "    <tr style=\"text-align: right;\">\n",
              "      <th></th>\n",
              "      <th>formalname_region</th>\n",
              "      <th>formalname_city</th>\n",
              "      <th>address</th>\n",
              "      <th>cadastral_registration_date</th>\n",
              "      <th>stage</th>\n",
              "      <th>built_year</th>\n",
              "      <th>exploitation_start_year</th>\n",
              "      <th>project_type</th>\n",
              "      <th>house_type</th>\n",
              "      <th>floor_count_max</th>\n",
              "      <th>floor_count_min</th>\n",
              "      <th>entrance_count</th>\n",
              "      <th>residents_count</th>\n",
              "      <th>area_total</th>\n",
              "      <th>area_residential</th>\n",
              "      <th>area_non_residential</th>\n",
              "      <th>area_common_property</th>\n",
              "      <th>area_land</th>\n",
              "      <th>monument_status</th>\n",
              "      <th>monument_document_date</th>\n",
              "      <th>monument_document_number</th>\n",
              "      <th>deterioration_total</th>\n",
              "      <th>determined_date</th>\n",
              "      <th>floor_type</th>\n",
              "      <th>wall_material</th>\n",
              "      <th>alarm_reason</th>\n",
              "      <th>alarm_reason_other</th>\n",
              "      <th>alarm_document_number</th>\n",
              "      <th>alarm_has_file</th>\n",
              "      <th>exp_name</th>\n",
              "      <th>exp_document_number</th>\n",
              "      <th>exp_document_date</th>\n",
              "      <th>exp_has_file</th>\n",
              "      <th>commission_document_number</th>\n",
              "      <th>commission_document_date</th>\n",
              "      <th>commission_has_file</th>\n",
              "      <th>further_use</th>\n",
              "      <th>decision_deadline_date</th>\n",
              "      <th>planned_resettlement_date</th>\n",
              "      <th>actual_resettlement_date</th>\n",
              "      <th>planned_rooms_count</th>\n",
              "      <th>planned_rooms_square</th>\n",
              "      <th>planned_ppl_count</th>\n",
              "      <th>planned_demolition_date</th>\n",
              "      <th>resettled_rooms_count</th>\n",
              "      <th>resettled_rooms_square</th>\n",
              "      <th>resettled_ppl_count</th>\n",
              "      <th>empty_rooms_count</th>\n",
              "      <th>empty_rooms_square</th>\n",
              "      <th>redemption_amount</th>\n",
              "      <th>planned_providing_area_square</th>\n",
              "      <th>alarm_document_date</th>\n",
              "      <th>year_alarm_document</th>\n",
              "      <th>date_alarm</th>\n",
              "    </tr>\n",
              "  </thead>\n",
              "  <tbody>\n",
              "    <tr>\n",
              "      <th>725</th>\n",
              "      <td>Коми</td>\n",
              "      <td>Печора</td>\n",
              "      <td>Респ. Коми, г. Печора, ул. Портовая, д. 4</td>\n",
              "      <td>NaN</td>\n",
              "      <td>Эксплуатируемый</td>\n",
              "      <td>1977.0</td>\n",
              "      <td>1977.0</td>\n",
              "      <td>NaN</td>\n",
              "      <td>Многоквартирный дом</td>\n",
              "      <td>2.0</td>\n",
              "      <td>2.0</td>\n",
              "      <td>3.0</td>\n",
              "      <td>4.0</td>\n",
              "      <td>851</td>\n",
              "      <td>851</td>\n",
              "      <td>NaN</td>\n",
              "      <td>NaN</td>\n",
              "      <td>NaN</td>\n",
              "      <td>Не заполнено</td>\n",
              "      <td>NaN</td>\n",
              "      <td>NaN</td>\n",
              "      <td>NaN</td>\n",
              "      <td>NaN</td>\n",
              "      <td>NaN</td>\n",
              "      <td>NaN</td>\n",
              "      <td>Физический износ</td>\n",
              "      <td>NaN</td>\n",
              "      <td>42</td>\n",
              "      <td>Не имеется</td>\n",
              "      <td>NaN</td>\n",
              "      <td>NaN</td>\n",
              "      <td>NaN</td>\n",
              "      <td>Не имеется</td>\n",
              "      <td>NaN</td>\n",
              "      <td>NaN</td>\n",
              "      <td>Не имеется</td>\n",
              "      <td>Снос</td>\n",
              "      <td>NaN</td>\n",
              "      <td>31.12.2018</td>\n",
              "      <td>NaN</td>\n",
              "      <td>NaN</td>\n",
              "      <td>NaN</td>\n",
              "      <td>NaN</td>\n",
              "      <td>31.12.2019</td>\n",
              "      <td>3.0</td>\n",
              "      <td>61,5</td>\n",
              "      <td>4.0</td>\n",
              "      <td>NaN</td>\n",
              "      <td>NaN</td>\n",
              "      <td>3126234,46</td>\n",
              "      <td>61,5</td>\n",
              "      <td>30.03.2009</td>\n",
              "      <td>2009</td>\n",
              "      <td>32.0</td>\n",
              "    </tr>\n",
              "    <tr>\n",
              "      <th>1318</th>\n",
              "      <td>Коми</td>\n",
              "      <td>Усинск</td>\n",
              "      <td>Респ. Коми, г. Усинск, ул. Нефтяников, д. 14</td>\n",
              "      <td>NaN</td>\n",
              "      <td>Эксплуатируемый</td>\n",
              "      <td>1974.0</td>\n",
              "      <td>1974.0</td>\n",
              "      <td>NaN</td>\n",
              "      <td>Многоквартирный дом</td>\n",
              "      <td>2.0</td>\n",
              "      <td>2.0</td>\n",
              "      <td>2.0</td>\n",
              "      <td>28.0</td>\n",
              "      <td>536,5</td>\n",
              "      <td>393,3</td>\n",
              "      <td>NaN</td>\n",
              "      <td>NaN</td>\n",
              "      <td>NaN</td>\n",
              "      <td>Не имеется</td>\n",
              "      <td>NaN</td>\n",
              "      <td>NaN</td>\n",
              "      <td>60</td>\n",
              "      <td>23.12.2012</td>\n",
              "      <td>Деревянные</td>\n",
              "      <td>Деревянные</td>\n",
              "      <td>Физический износ</td>\n",
              "      <td>NaN</td>\n",
              "      <td>б/н</td>\n",
              "      <td>Имеется</td>\n",
              "      <td>NaN</td>\n",
              "      <td>NaN</td>\n",
              "      <td>NaN</td>\n",
              "      <td>Не имеется</td>\n",
              "      <td>б/н</td>\n",
              "      <td>24.12.2012</td>\n",
              "      <td>Имеется</td>\n",
              "      <td>Снос</td>\n",
              "      <td>NaN</td>\n",
              "      <td>31.12.2021</td>\n",
              "      <td>NaN</td>\n",
              "      <td>20.0</td>\n",
              "      <td>393,3</td>\n",
              "      <td>20.0</td>\n",
              "      <td>31.12.2021</td>\n",
              "      <td>NaN</td>\n",
              "      <td>NaN</td>\n",
              "      <td>NaN</td>\n",
              "      <td>NaN</td>\n",
              "      <td>NaN</td>\n",
              "      <td>21987,24</td>\n",
              "      <td>393,3</td>\n",
              "      <td>24.12.2012</td>\n",
              "      <td>2012</td>\n",
              "      <td>38.0</td>\n",
              "    </tr>\n",
              "  </tbody>\n",
              "</table>\n",
              "</div>\n",
              "      <button class=\"colab-df-convert\" onclick=\"convertToInteractive('df-0fd6a628-1766-4276-8e93-b275aae5f6e1')\"\n",
              "              title=\"Convert this dataframe to an interactive table.\"\n",
              "              style=\"display:none;\">\n",
              "        \n",
              "  <svg xmlns=\"http://www.w3.org/2000/svg\" height=\"24px\"viewBox=\"0 0 24 24\"\n",
              "       width=\"24px\">\n",
              "    <path d=\"M0 0h24v24H0V0z\" fill=\"none\"/>\n",
              "    <path d=\"M18.56 5.44l.94 2.06.94-2.06 2.06-.94-2.06-.94-.94-2.06-.94 2.06-2.06.94zm-11 1L8.5 8.5l.94-2.06 2.06-.94-2.06-.94L8.5 2.5l-.94 2.06-2.06.94zm10 10l.94 2.06.94-2.06 2.06-.94-2.06-.94-.94-2.06-.94 2.06-2.06.94z\"/><path d=\"M17.41 7.96l-1.37-1.37c-.4-.4-.92-.59-1.43-.59-.52 0-1.04.2-1.43.59L10.3 9.45l-7.72 7.72c-.78.78-.78 2.05 0 2.83L4 21.41c.39.39.9.59 1.41.59.51 0 1.02-.2 1.41-.59l7.78-7.78 2.81-2.81c.8-.78.8-2.07 0-2.86zM5.41 20L4 18.59l7.72-7.72 1.47 1.35L5.41 20z\"/>\n",
              "  </svg>\n",
              "      </button>\n",
              "      \n",
              "  <style>\n",
              "    .colab-df-container {\n",
              "      display:flex;\n",
              "      flex-wrap:wrap;\n",
              "      gap: 12px;\n",
              "    }\n",
              "\n",
              "    .colab-df-convert {\n",
              "      background-color: #E8F0FE;\n",
              "      border: none;\n",
              "      border-radius: 50%;\n",
              "      cursor: pointer;\n",
              "      display: none;\n",
              "      fill: #1967D2;\n",
              "      height: 32px;\n",
              "      padding: 0 0 0 0;\n",
              "      width: 32px;\n",
              "    }\n",
              "\n",
              "    .colab-df-convert:hover {\n",
              "      background-color: #E2EBFA;\n",
              "      box-shadow: 0px 1px 2px rgba(60, 64, 67, 0.3), 0px 1px 3px 1px rgba(60, 64, 67, 0.15);\n",
              "      fill: #174EA6;\n",
              "    }\n",
              "\n",
              "    [theme=dark] .colab-df-convert {\n",
              "      background-color: #3B4455;\n",
              "      fill: #D2E3FC;\n",
              "    }\n",
              "\n",
              "    [theme=dark] .colab-df-convert:hover {\n",
              "      background-color: #434B5C;\n",
              "      box-shadow: 0px 1px 3px 1px rgba(0, 0, 0, 0.15);\n",
              "      filter: drop-shadow(0px 1px 2px rgba(0, 0, 0, 0.3));\n",
              "      fill: #FFFFFF;\n",
              "    }\n",
              "  </style>\n",
              "\n",
              "      <script>\n",
              "        const buttonEl =\n",
              "          document.querySelector('#df-0fd6a628-1766-4276-8e93-b275aae5f6e1 button.colab-df-convert');\n",
              "        buttonEl.style.display =\n",
              "          google.colab.kernel.accessAllowed ? 'block' : 'none';\n",
              "\n",
              "        async function convertToInteractive(key) {\n",
              "          const element = document.querySelector('#df-0fd6a628-1766-4276-8e93-b275aae5f6e1');\n",
              "          const dataTable =\n",
              "            await google.colab.kernel.invokeFunction('convertToInteractive',\n",
              "                                                     [key], {});\n",
              "          if (!dataTable) return;\n",
              "\n",
              "          const docLinkHtml = 'Like what you see? Visit the ' +\n",
              "            '<a target=\"_blank\" href=https://colab.research.google.com/notebooks/data_table.ipynb>data table notebook</a>'\n",
              "            + ' to learn more about interactive tables.';\n",
              "          element.innerHTML = '';\n",
              "          dataTable['output_type'] = 'display_data';\n",
              "          await google.colab.output.renderOutput(dataTable, element);\n",
              "          const docLink = document.createElement('div');\n",
              "          docLink.innerHTML = docLinkHtml;\n",
              "          element.appendChild(docLink);\n",
              "        }\n",
              "      </script>\n",
              "    </div>\n",
              "  </div>\n",
              "  "
            ],
            "text/plain": [
              "     formalname_region formalname_city  ... year_alarm_document date_alarm\n",
              "725               Коми          Печора  ...                2009       32.0\n",
              "1318              Коми          Усинск  ...                2012       38.0\n",
              "\n",
              "[2 rows x 54 columns]"
            ]
          },
          "metadata": {},
          "execution_count": 1
        }
      ],
      "source": [
        "import pandas as pd\n",
        "\n",
        "url = \"https://raw.githubusercontent.com/dm-fedorov/pandas_basic/master/data/houses.csv\"\n",
        "df = pd.read_csv(url)\n",
        "df.sample(2)"
      ]
    },
    {
      "cell_type": "code",
      "source": [
        "df.shape"
      ],
      "metadata": {
        "colab": {
          "base_uri": "https://localhost:8080/"
        },
        "id": "S3yJ4_eZviwe",
        "outputId": "58eb6343-f8f6-4cba-8261-4ec451cc0087"
      },
      "execution_count": null,
      "outputs": [
        {
          "output_type": "execute_result",
          "data": {
            "text/plain": [
              "(4295, 54)"
            ]
          },
          "metadata": {},
          "execution_count": 2
        }
      ]
    },
    {
      "cell_type": "code",
      "source": [
        "df.alarm_has_file.unique()"
      ],
      "metadata": {
        "colab": {
          "base_uri": "https://localhost:8080/"
        },
        "id": "TspXnNKiV7Dw",
        "outputId": "730f0f61-6f8a-4ca0-e424-20f47dfc2c25"
      },
      "execution_count": null,
      "outputs": [
        {
          "output_type": "execute_result",
          "data": {
            "text/plain": [
              "array(['Не имеется', 'Имеется'], dtype=object)"
            ]
          },
          "metadata": {},
          "execution_count": 3
        }
      ]
    },
    {
      "cell_type": "markdown",
      "metadata": {
        "id": "xpm9qdYEUXfj"
      },
      "source": [
        "### Определите\n",
        "\n",
        "**Сколько домов признано аварийными по регионам?**"
      ]
    },
    {
      "cell_type": "code",
      "execution_count": null,
      "metadata": {
        "id": "TB7sIoELUXfk",
        "colab": {
          "base_uri": "https://localhost:8080/",
          "height": 206
        },
        "outputId": "d027d98d-d448-4d30-8f7c-ea7dff1dde64"
      },
      "outputs": [
        {
          "output_type": "execute_result",
          "data": {
            "text/html": [
              "\n",
              "  <div id=\"df-a606c05b-4ca8-45f7-9bfd-ad70be141717\">\n",
              "    <div class=\"colab-df-container\">\n",
              "      <div>\n",
              "<style scoped>\n",
              "    .dataframe tbody tr th:only-of-type {\n",
              "        vertical-align: middle;\n",
              "    }\n",
              "\n",
              "    .dataframe tbody tr th {\n",
              "        vertical-align: top;\n",
              "    }\n",
              "\n",
              "    .dataframe thead tr th {\n",
              "        text-align: left;\n",
              "    }\n",
              "\n",
              "    .dataframe thead tr:last-of-type th {\n",
              "        text-align: right;\n",
              "    }\n",
              "</style>\n",
              "<table border=\"1\" class=\"dataframe\">\n",
              "  <thead>\n",
              "    <tr>\n",
              "      <th></th>\n",
              "      <th>alarm_document_number</th>\n",
              "    </tr>\n",
              "    <tr>\n",
              "      <th>alarm_has_file</th>\n",
              "      <th>Имеется</th>\n",
              "    </tr>\n",
              "    <tr>\n",
              "      <th>formalname_region</th>\n",
              "      <th></th>\n",
              "    </tr>\n",
              "  </thead>\n",
              "  <tbody>\n",
              "    <tr>\n",
              "      <th>Вологодская</th>\n",
              "      <td>726</td>\n",
              "    </tr>\n",
              "    <tr>\n",
              "      <th>Забайкальский</th>\n",
              "      <td>462</td>\n",
              "    </tr>\n",
              "    <tr>\n",
              "      <th>Коми</th>\n",
              "      <td>794</td>\n",
              "    </tr>\n",
              "  </tbody>\n",
              "</table>\n",
              "</div>\n",
              "      <button class=\"colab-df-convert\" onclick=\"convertToInteractive('df-a606c05b-4ca8-45f7-9bfd-ad70be141717')\"\n",
              "              title=\"Convert this dataframe to an interactive table.\"\n",
              "              style=\"display:none;\">\n",
              "        \n",
              "  <svg xmlns=\"http://www.w3.org/2000/svg\" height=\"24px\"viewBox=\"0 0 24 24\"\n",
              "       width=\"24px\">\n",
              "    <path d=\"M0 0h24v24H0V0z\" fill=\"none\"/>\n",
              "    <path d=\"M18.56 5.44l.94 2.06.94-2.06 2.06-.94-2.06-.94-.94-2.06-.94 2.06-2.06.94zm-11 1L8.5 8.5l.94-2.06 2.06-.94-2.06-.94L8.5 2.5l-.94 2.06-2.06.94zm10 10l.94 2.06.94-2.06 2.06-.94-2.06-.94-.94-2.06-.94 2.06-2.06.94z\"/><path d=\"M17.41 7.96l-1.37-1.37c-.4-.4-.92-.59-1.43-.59-.52 0-1.04.2-1.43.59L10.3 9.45l-7.72 7.72c-.78.78-.78 2.05 0 2.83L4 21.41c.39.39.9.59 1.41.59.51 0 1.02-.2 1.41-.59l7.78-7.78 2.81-2.81c.8-.78.8-2.07 0-2.86zM5.41 20L4 18.59l7.72-7.72 1.47 1.35L5.41 20z\"/>\n",
              "  </svg>\n",
              "      </button>\n",
              "      \n",
              "  <style>\n",
              "    .colab-df-container {\n",
              "      display:flex;\n",
              "      flex-wrap:wrap;\n",
              "      gap: 12px;\n",
              "    }\n",
              "\n",
              "    .colab-df-convert {\n",
              "      background-color: #E8F0FE;\n",
              "      border: none;\n",
              "      border-radius: 50%;\n",
              "      cursor: pointer;\n",
              "      display: none;\n",
              "      fill: #1967D2;\n",
              "      height: 32px;\n",
              "      padding: 0 0 0 0;\n",
              "      width: 32px;\n",
              "    }\n",
              "\n",
              "    .colab-df-convert:hover {\n",
              "      background-color: #E2EBFA;\n",
              "      box-shadow: 0px 1px 2px rgba(60, 64, 67, 0.3), 0px 1px 3px 1px rgba(60, 64, 67, 0.15);\n",
              "      fill: #174EA6;\n",
              "    }\n",
              "\n",
              "    [theme=dark] .colab-df-convert {\n",
              "      background-color: #3B4455;\n",
              "      fill: #D2E3FC;\n",
              "    }\n",
              "\n",
              "    [theme=dark] .colab-df-convert:hover {\n",
              "      background-color: #434B5C;\n",
              "      box-shadow: 0px 1px 3px 1px rgba(0, 0, 0, 0.15);\n",
              "      filter: drop-shadow(0px 1px 2px rgba(0, 0, 0, 0.3));\n",
              "      fill: #FFFFFF;\n",
              "    }\n",
              "  </style>\n",
              "\n",
              "      <script>\n",
              "        const buttonEl =\n",
              "          document.querySelector('#df-a606c05b-4ca8-45f7-9bfd-ad70be141717 button.colab-df-convert');\n",
              "        buttonEl.style.display =\n",
              "          google.colab.kernel.accessAllowed ? 'block' : 'none';\n",
              "\n",
              "        async function convertToInteractive(key) {\n",
              "          const element = document.querySelector('#df-a606c05b-4ca8-45f7-9bfd-ad70be141717');\n",
              "          const dataTable =\n",
              "            await google.colab.kernel.invokeFunction('convertToInteractive',\n",
              "                                                     [key], {});\n",
              "          if (!dataTable) return;\n",
              "\n",
              "          const docLinkHtml = 'Like what you see? Visit the ' +\n",
              "            '<a target=\"_blank\" href=https://colab.research.google.com/notebooks/data_table.ipynb>data table notebook</a>'\n",
              "            + ' to learn more about interactive tables.';\n",
              "          element.innerHTML = '';\n",
              "          dataTable['output_type'] = 'display_data';\n",
              "          await google.colab.output.renderOutput(dataTable, element);\n",
              "          const docLink = document.createElement('div');\n",
              "          docLink.innerHTML = docLinkHtml;\n",
              "          element.appendChild(docLink);\n",
              "        }\n",
              "      </script>\n",
              "    </div>\n",
              "  </div>\n",
              "  "
            ],
            "text/plain": [
              "                  alarm_document_number\n",
              "alarm_has_file                  Имеется\n",
              "formalname_region                      \n",
              "Вологодская                         726\n",
              "Забайкальский                       462\n",
              "Коми                                794"
            ]
          },
          "metadata": {},
          "execution_count": 4
        }
      ],
      "source": [
        "df[df.alarm_has_file == 'Имеется'].pivot_table(index='formalname_region',\n",
        "                                               columns='alarm_has_file',\n",
        "                                               aggfunc={'alarm_document_number':'count'}\n",
        "                                               )\n",
        ""
      ]
    },
    {
      "cell_type": "code",
      "source": [
        "pd.crosstab(df.formalname_region, df.alarm_has_file).iloc[:,0]"
      ],
      "metadata": {
        "colab": {
          "base_uri": "https://localhost:8080/"
        },
        "id": "sndyi29FYZ-V",
        "outputId": "c5757b1f-178d-4312-e383-bf52edbc4959"
      },
      "execution_count": null,
      "outputs": [
        {
          "output_type": "execute_result",
          "data": {
            "text/plain": [
              "formalname_region\n",
              "Вологодская      726\n",
              "Забайкальский    462\n",
              "Коми             794\n",
              "Name: Имеется, dtype: int64"
            ]
          },
          "metadata": {},
          "execution_count": 5
        }
      ]
    },
    {
      "cell_type": "markdown",
      "metadata": {
        "id": "Exqv7DbpUXfk"
      },
      "source": [
        "**Сколько домов с 2010 года признано аварийными по городам?**"
      ]
    },
    {
      "cell_type": "code",
      "source": [
        "df_2010 = df[df.alarm_has_file == 'Имеется']\n",
        "df_2010.shape"
      ],
      "metadata": {
        "colab": {
          "base_uri": "https://localhost:8080/"
        },
        "id": "QonGLdW1yRVu",
        "outputId": "f32894c7-7141-4da1-a7c3-412a9375109c"
      },
      "execution_count": null,
      "outputs": [
        {
          "output_type": "execute_result",
          "data": {
            "text/plain": [
              "(1982, 54)"
            ]
          },
          "metadata": {},
          "execution_count": 6
        }
      ]
    },
    {
      "cell_type": "code",
      "source": [
        "df_2010['determined_date_year'] = df_2010.determined_date.astype('datetime64[ns]').dt.year"
      ],
      "metadata": {
        "id": "L3hE9ILCyt7Q",
        "colab": {
          "base_uri": "https://localhost:8080/"
        },
        "outputId": "c566e0dc-8431-4419-d612-65f239c3f523"
      },
      "execution_count": null,
      "outputs": [
        {
          "output_type": "stream",
          "name": "stderr",
          "text": [
            "/usr/local/lib/python3.7/dist-packages/ipykernel_launcher.py:1: SettingWithCopyWarning: \n",
            "A value is trying to be set on a copy of a slice from a DataFrame.\n",
            "Try using .loc[row_indexer,col_indexer] = value instead\n",
            "\n",
            "See the caveats in the documentation: https://pandas.pydata.org/pandas-docs/stable/user_guide/indexing.html#returning-a-view-versus-a-copy\n",
            "  \"\"\"Entry point for launching an IPython kernel.\n"
          ]
        }
      ]
    },
    {
      "cell_type": "code",
      "source": [
        "df_2010[df_2010['determined_date_year']>2009].shape[0]"
      ],
      "metadata": {
        "colab": {
          "base_uri": "https://localhost:8080/"
        },
        "id": "sXyDqQw60FdM",
        "outputId": "a7f4b923-e438-42a3-e637-4ab25edacb6a"
      },
      "execution_count": null,
      "outputs": [
        {
          "output_type": "execute_result",
          "data": {
            "text/plain": [
              "840"
            ]
          },
          "metadata": {},
          "execution_count": 8
        }
      ]
    },
    {
      "cell_type": "markdown",
      "metadata": {
        "id": "7GXO8D-5UXfl"
      },
      "source": [
        "**Какая доля домов признана аварийными из-за пожара?**"
      ]
    },
    {
      "cell_type": "code",
      "source": [
        "df.alarm_reason.unique()"
      ],
      "metadata": {
        "colab": {
          "base_uri": "https://localhost:8080/"
        },
        "id": "Bm2F_Z064X9I",
        "outputId": "08fd9f83-bfa7-4295-dc68-d842f7761eb6"
      },
      "execution_count": null,
      "outputs": [
        {
          "output_type": "execute_result",
          "data": {
            "text/plain": [
              "array(['Физический износ', 'Иная', nan, 'Пожар'], dtype=object)"
            ]
          },
          "metadata": {},
          "execution_count": 9
        }
      ]
    },
    {
      "cell_type": "code",
      "source": [
        "import numpy as np\n",
        "i = np.around(df.alarm_reason.value_counts(normalize=True)*100)\n",
        "j = i.values[:-1]\n",
        "i"
      ],
      "metadata": {
        "colab": {
          "base_uri": "https://localhost:8080/"
        },
        "id": "rCOcSg7x49tV",
        "outputId": "a90f81c2-05fa-40a0-ef1d-1ee3b37e6535"
      },
      "execution_count": null,
      "outputs": [
        {
          "output_type": "execute_result",
          "data": {
            "text/plain": [
              "Физический износ    97.0\n",
              "Пожар                3.0\n",
              "Иная                 0.0\n",
              "Name: alarm_reason, dtype: float64"
            ]
          },
          "metadata": {},
          "execution_count": 10
        }
      ]
    },
    {
      "cell_type": "code",
      "source": [
        "import matplotlib.pyplot as plt\n",
        "import seaborn as sns\n",
        "plt.figure(figsize=(8,8))\n",
        "labels = ['Физический износ','Пожар']\n",
        "explode = (0,0.2)\n",
        "sns.set()\n",
        "plt.title('Причины аварийности\\nдомов',fontsize=25)\n",
        "plt.pie(j,labels = labels,autopct='%1.1f%%',explode=explode)\n",
        "plt.show()"
      ],
      "metadata": {
        "colab": {
          "base_uri": "https://localhost:8080/",
          "height": 519
        },
        "id": "2XBGkhZI9KPU",
        "outputId": "ee5ad7c2-e19c-4c0d-b4c3-6efa2c31a8b7"
      },
      "execution_count": null,
      "outputs": [
        {
          "output_type": "display_data",
          "data": {
            "image/png": "[encoded data removed]",
            "text/plain": [
              "<Figure size 576x576 with 1 Axes>"
            ]
          },
          "metadata": {}
        }
      ]
    },
    {
      "cell_type": "markdown",
      "metadata": {
        "id": "BqhkR4Z4UXfm"
      },
      "source": [
        "**Сколько домов признавалось аварийными по годам?**"
      ]
    },
    {
      "cell_type": "code",
      "execution_count": null,
      "metadata": {
        "id": "vMfWXGSFUXfm"
      },
      "outputs": [],
      "source": [
        "df['determined_date'] = pd.to_datetime(df['determined_date'])"
      ]
    },
    {
      "cell_type": "code",
      "source": [
        "df['determined_date'].dt.year.unique()"
      ],
      "metadata": {
        "colab": {
          "base_uri": "https://localhost:8080/"
        },
        "id": "v08IaKULOV5S",
        "outputId": "4c61c2de-60a3-4e24-896e-4e69b494d7d2"
      },
      "execution_count": null,
      "outputs": [
        {
          "output_type": "execute_result",
          "data": {
            "text/plain": [
              "array([2010.,   nan, 2003., 2008., 2009., 2017., 2015., 2014., 2007.,\n",
              "       1993., 1998., 2018., 2002., 2016., 2019., 1995., 2013., 2011.,\n",
              "       2006., 2005., 1994., 2004., 2000., 1990., 1996., 2001., 1997.,\n",
              "       1969., 1987., 1966., 2012., 1991., 1989., 1979., 1978., 1988.,\n",
              "       1986., 1999., 1967., 1981., 1973., 1992., 1963., 1982., 1984.,\n",
              "       1968., 1976., 1980.])"
            ]
          },
          "metadata": {},
          "execution_count": 354
        }
      ]
    },
    {
      "cell_type": "code",
      "source": [
        "i = df[df.alarm_has_file == 'Имеется'].determined_date.dt.year.dropna()\n",
        "#j = i.determined_date.dt.year.dropna()\n",
        "i"
      ],
      "metadata": {
        "colab": {
          "base_uri": "https://localhost:8080/"
        },
        "id": "LfML0F1eUKWA",
        "outputId": "1d7bb0c7-e0ca-4085-d271-0b231b2a174f"
      },
      "execution_count": null,
      "outputs": [
        {
          "output_type": "execute_result",
          "data": {
            "text/plain": [
              "5       2010.0\n",
              "6       2010.0\n",
              "9       2010.0\n",
              "12      2010.0\n",
              "14      2010.0\n",
              "         ...  \n",
              "4289    2017.0\n",
              "4290    2018.0\n",
              "4291    2015.0\n",
              "4292    2016.0\n",
              "4293    2018.0\n",
              "Name: determined_date, Length: 1201, dtype: float64"
            ]
          },
          "metadata": {},
          "execution_count": 386
        }
      ]
    },
    {
      "cell_type": "code",
      "source": [
        "df['1111'] = pd.Timestamp.now().year - i"
      ],
      "metadata": {
        "id": "H_HxxQ3JPB3J"
      },
      "execution_count": null,
      "outputs": []
    },
    {
      "cell_type": "code",
      "source": [
        "df[df['1111'] < 0]\n",
        "# все дома, которые признаны аварийными, уже устарели, независимо\n",
        "# от причины признания их аварийными"
      ],
      "metadata": {
        "colab": {
          "base_uri": "https://localhost:8080/",
          "height": 113
        },
        "id": "JLR6qZaSauzh",
        "outputId": "c94642cf-90c4-44a1-9bc9-d3e98a980e17"
      },
      "execution_count": null,
      "outputs": [
        {
          "output_type": "execute_result",
          "data": {
            "text/html": [
              "\n",
              "  <div id=\"df-ab32060f-ab1b-46c9-97d1-aaefaed03366\">\n",
              "    <div class=\"colab-df-container\">\n",
              "      <div>\n",
              "<style scoped>\n",
              "    .dataframe tbody tr th:only-of-type {\n",
              "        vertical-align: middle;\n",
              "    }\n",
              "\n",
              "    .dataframe tbody tr th {\n",
              "        vertical-align: top;\n",
              "    }\n",
              "\n",
              "    .dataframe thead th {\n",
              "        text-align: right;\n",
              "    }\n",
              "</style>\n",
              "<table border=\"1\" class=\"dataframe\">\n",
              "  <thead>\n",
              "    <tr style=\"text-align: right;\">\n",
              "      <th></th>\n",
              "      <th>formalname_region</th>\n",
              "      <th>formalname_city</th>\n",
              "      <th>address</th>\n",
              "      <th>cadastral_registration_date</th>\n",
              "      <th>stage</th>\n",
              "      <th>built_year</th>\n",
              "      <th>exploitation_start_year</th>\n",
              "      <th>project_type</th>\n",
              "      <th>house_type</th>\n",
              "      <th>floor_count_max</th>\n",
              "      <th>floor_count_min</th>\n",
              "      <th>entrance_count</th>\n",
              "      <th>residents_count</th>\n",
              "      <th>area_total</th>\n",
              "      <th>area_residential</th>\n",
              "      <th>area_non_residential</th>\n",
              "      <th>area_common_property</th>\n",
              "      <th>area_land</th>\n",
              "      <th>monument_status</th>\n",
              "      <th>monument_document_date</th>\n",
              "      <th>monument_document_number</th>\n",
              "      <th>deterioration_total</th>\n",
              "      <th>determined_date</th>\n",
              "      <th>floor_type</th>\n",
              "      <th>wall_material</th>\n",
              "      <th>alarm_reason</th>\n",
              "      <th>alarm_reason_other</th>\n",
              "      <th>alarm_document_number</th>\n",
              "      <th>alarm_has_file</th>\n",
              "      <th>exp_name</th>\n",
              "      <th>exp_document_number</th>\n",
              "      <th>exp_document_date</th>\n",
              "      <th>exp_has_file</th>\n",
              "      <th>commission_document_number</th>\n",
              "      <th>commission_document_date</th>\n",
              "      <th>commission_has_file</th>\n",
              "      <th>further_use</th>\n",
              "      <th>decision_deadline_date</th>\n",
              "      <th>planned_resettlement_date</th>\n",
              "      <th>actual_resettlement_date</th>\n",
              "      <th>planned_rooms_count</th>\n",
              "      <th>planned_rooms_square</th>\n",
              "      <th>planned_ppl_count</th>\n",
              "      <th>planned_demolition_date</th>\n",
              "      <th>resettled_rooms_count</th>\n",
              "      <th>resettled_rooms_square</th>\n",
              "      <th>resettled_ppl_count</th>\n",
              "      <th>empty_rooms_count</th>\n",
              "      <th>empty_rooms_square</th>\n",
              "      <th>redemption_amount</th>\n",
              "      <th>planned_providing_area_square</th>\n",
              "      <th>alarm_document_date</th>\n",
              "      <th>year_alarm_document</th>\n",
              "      <th>date_alarm</th>\n",
              "      <th>1111</th>\n",
              "    </tr>\n",
              "  </thead>\n",
              "  <tbody>\n",
              "  </tbody>\n",
              "</table>\n",
              "</div>\n",
              "      <button class=\"colab-df-convert\" onclick=\"convertToInteractive('df-ab32060f-ab1b-46c9-97d1-aaefaed03366')\"\n",
              "              title=\"Convert this dataframe to an interactive table.\"\n",
              "              style=\"display:none;\">\n",
              "        \n",
              "  <svg xmlns=\"http://www.w3.org/2000/svg\" height=\"24px\"viewBox=\"0 0 24 24\"\n",
              "       width=\"24px\">\n",
              "    <path d=\"M0 0h24v24H0V0z\" fill=\"none\"/>\n",
              "    <path d=\"M18.56 5.44l.94 2.06.94-2.06 2.06-.94-2.06-.94-.94-2.06-.94 2.06-2.06.94zm-11 1L8.5 8.5l.94-2.06 2.06-.94-2.06-.94L8.5 2.5l-.94 2.06-2.06.94zm10 10l.94 2.06.94-2.06 2.06-.94-2.06-.94-.94-2.06-.94 2.06-2.06.94z\"/><path d=\"M17.41 7.96l-1.37-1.37c-.4-.4-.92-.59-1.43-.59-.52 0-1.04.2-1.43.59L10.3 9.45l-7.72 7.72c-.78.78-.78 2.05 0 2.83L4 21.41c.39.39.9.59 1.41.59.51 0 1.02-.2 1.41-.59l7.78-7.78 2.81-2.81c.8-.78.8-2.07 0-2.86zM5.41 20L4 18.59l7.72-7.72 1.47 1.35L5.41 20z\"/>\n",
              "  </svg>\n",
              "      </button>\n",
              "      \n",
              "  <style>\n",
              "    .colab-df-container {\n",
              "      display:flex;\n",
              "      flex-wrap:wrap;\n",
              "      gap: 12px;\n",
              "    }\n",
              "\n",
              "    .colab-df-convert {\n",
              "      background-color: #E8F0FE;\n",
              "      border: none;\n",
              "      border-radius: 50%;\n",
              "      cursor: pointer;\n",
              "      display: none;\n",
              "      fill: #1967D2;\n",
              "      height: 32px;\n",
              "      padding: 0 0 0 0;\n",
              "      width: 32px;\n",
              "    }\n",
              "\n",
              "    .colab-df-convert:hover {\n",
              "      background-color: #E2EBFA;\n",
              "      box-shadow: 0px 1px 2px rgba(60, 64, 67, 0.3), 0px 1px 3px 1px rgba(60, 64, 67, 0.15);\n",
              "      fill: #174EA6;\n",
              "    }\n",
              "\n",
              "    [theme=dark] .colab-df-convert {\n",
              "      background-color: #3B4455;\n",
              "      fill: #D2E3FC;\n",
              "    }\n",
              "\n",
              "    [theme=dark] .colab-df-convert:hover {\n",
              "      background-color: #434B5C;\n",
              "      box-shadow: 0px 1px 3px 1px rgba(0, 0, 0, 0.15);\n",
              "      filter: drop-shadow(0px 1px 2px rgba(0, 0, 0, 0.3));\n",
              "      fill: #FFFFFF;\n",
              "    }\n",
              "  </style>\n",
              "\n",
              "      <script>\n",
              "        const buttonEl =\n",
              "          document.querySelector('#df-ab32060f-ab1b-46c9-97d1-aaefaed03366 button.colab-df-convert');\n",
              "        buttonEl.style.display =\n",
              "          google.colab.kernel.accessAllowed ? 'block' : 'none';\n",
              "\n",
              "        async function convertToInteractive(key) {\n",
              "          const element = document.querySelector('#df-ab32060f-ab1b-46c9-97d1-aaefaed03366');\n",
              "          const dataTable =\n",
              "            await google.colab.kernel.invokeFunction('convertToInteractive',\n",
              "                                                     [key], {});\n",
              "          if (!dataTable) return;\n",
              "\n",
              "          const docLinkHtml = 'Like what you see? Visit the ' +\n",
              "            '<a target=\"_blank\" href=https://colab.research.google.com/notebooks/data_table.ipynb>data table notebook</a>'\n",
              "            + ' to learn more about interactive tables.';\n",
              "          element.innerHTML = '';\n",
              "          dataTable['output_type'] = 'display_data';\n",
              "          await google.colab.output.renderOutput(dataTable, element);\n",
              "          const docLink = document.createElement('div');\n",
              "          docLink.innerHTML = docLinkHtml;\n",
              "          element.appendChild(docLink);\n",
              "        }\n",
              "      </script>\n",
              "    </div>\n",
              "  </div>\n",
              "  "
            ],
            "text/plain": [
              "Empty DataFrame\n",
              "Columns: [formalname_region, formalname_city, address, cadastral_registration_date, stage, built_year, exploitation_start_year, project_type, house_type, floor_count_max, floor_count_min, entrance_count, residents_count, area_total, area_residential, area_non_residential, area_common_property, area_land, monument_status, monument_document_date, monument_document_number, deterioration_total, determined_date, floor_type, wall_material, alarm_reason, alarm_reason_other, alarm_document_number, alarm_has_file, exp_name, exp_document_number, exp_document_date, exp_has_file, commission_document_number, commission_document_date, commission_has_file, further_use, decision_deadline_date, planned_resettlement_date, actual_resettlement_date, planned_rooms_count, planned_rooms_square, planned_ppl_count, planned_demolition_date, resettled_rooms_count, resettled_rooms_square, resettled_ppl_count, empty_rooms_count, empty_rooms_square, redemption_amount, planned_providing_area_square, alarm_document_date, year_alarm_document, date_alarm, 1111]\n",
              "Index: []"
            ]
          },
          "metadata": {},
          "execution_count": 391
        }
      ]
    }
  ],
  "metadata": {
    "kernelspec": {
      "display_name": "Python 3",
      "language": "python",
      "name": "python3"
    },
    "language_info": {
      "codemirror_mode": {
        "name": "ipython",
        "version": 3
      },
      "file_extension": ".py",
      "mimetype": "text/x-python",
      "name": "python",
      "nbconvert_exporter": "python",
      "pygments_lexer": "ipython3",
      "version": "3.7.3"
    },
    "colab": {
      "provenance": []
    }
  },
  "nbformat": 4,
  "nbformat_minor": 0
}