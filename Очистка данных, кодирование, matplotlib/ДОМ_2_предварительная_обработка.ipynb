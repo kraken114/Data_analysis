{
  "nbformat": 4,
  "nbformat_minor": 0,
  "metadata": {
    "colab": {
      "provenance": []
    },
    "kernelspec": {
      "name": "python3",
      "display_name": "Python 3"
    },
    "language_info": {
      "name": "python"
    }
  },
  "cells": [
    {
      "cell_type": "markdown",
      "source": [
        "**переводим в категориальные данные массово:**"
      ],
      "metadata": {
        "id": "V-17WuKmttP2"
      }
    },
    {
      "cell_type": "code",
      "source": [
        "from sklearn.preprocessing import LabelEncoder\n",
        "le=LabelEncoder()\n",
        "for i in df.columns:\n",
        "    df[i]=le.fit_transform(df[i])\n",
        "df\n",
        "# 0 - отравлен, 1 - здоров"
      ],
      "metadata": {
        "id": "ClXQQEv9trQw"
      },
      "execution_count": null,
      "outputs": []
    },
    {
      "cell_type": "markdown",
      "source": [
        "**переводим 'object' в число**"
      ],
      "metadata": {
        "id": "v4NK4oIhIQua"
      }
    },
    {
      "cell_type": "code",
      "source": [
        "# степень угрозы переводим в цифры от 0 до 3, чем больше число, тем выше угроза\n",
        "df['endangered_code']=np.where(df['endangered']=='least_concern',1,\n",
        "                     (np.where(df['endangered']=='vulnerable',2,3)))"
      ],
      "metadata": {
        "id": "-yXA4n4qIYTg"
      },
      "execution_count": null,
      "outputs": []
    },
    {
      "cell_type": "code",
      "source": [
        "# количество ног переводим в цифры, 2 -две ноги, 3 - три ноги\n",
        "df['specie_code']=np.where(df['specie']=='two_toed',2,3)"
      ],
      "metadata": {
        "id": "AWswQSepJ0Vc"
      },
      "execution_count": null,
      "outputs": []
    },
    {
      "cell_type": "code",
      "source": [
        "# пеевод подвида ленивца в цифры от 1 до 6\n",
        "df['sub_specie_code']=np.where(df['sub_specie']=='Hoffman’s two-toed sloth',1,\n",
        "                (np.where(df['sub_specie']=='Linnaeus’s two-toed sloth',2,\n",
        "                (np.where(df['sub_specie']=='Pale-throated sloth',3,\n",
        "                (np.where(df['sub_specie']=='Brown-throated sloth',4,\n",
        "                (np.where(df['sub_specie']=='Maned three-toed sloth',5,6)))))))))"
      ],
      "metadata": {
        "id": "up78pSKsKrCD"
      },
      "execution_count": null,
      "outputs": []
    },
    {
      "cell_type": "markdown",
      "source": [
        "# **ГОТОВЫЕ ДЛЯ МОДЕЛИ ДАНННЫЕ**"
      ],
      "metadata": {
        "id": "q1wN_7pClggW"
      }
    },
    {
      "cell_type": "code",
      "execution_count": null,
      "metadata": {
        "colab": {
          "base_uri": "https://localhost:8080/"
        },
        "id": "kVfTBgdONjI3",
        "outputId": "87ec85bb-afc4-4df9-ddea-712c8be6cfd7"
      },
      "outputs": [
        {
          "output_type": "stream",
          "name": "stdout",
          "text": [
            "Mounted at /content/gdrive\n"
          ]
        }
      ],
      "source": [
        "from google.colab import drive\n",
        "drive.mount('/content/gdrive')"
      ]
    },
    {
      "cell_type": "code",
      "source": [
        "import os\n",
        "import pandas as pd\n",
        "import numpy as np\n",
        "from pandas import read_csv\n",
        "from sklearn.model_selection import KFold\n",
        "from sklearn.model_selection import cross_val_score\n",
        "from sklearn.linear_model import LinearRegression\n",
        "from sklearn.linear_model import Ridge\n",
        "from sklearn.linear_model import Lasso\n",
        "from sklearn.linear_model import ElasticNet"
      ],
      "metadata": {
        "id": "UkG4NuHKNupe"
      },
      "execution_count": null,
      "outputs": []
    },
    {
      "cell_type": "code",
      "source": [
        "os.chdir('/content/gdrive/MyDrive/Colab Notebooks/наборы данных')"
      ],
      "metadata": {
        "id": "5T8t3BqxOj-3"
      },
      "execution_count": null,
      "outputs": []
    },
    {
      "cell_type": "code",
      "source": [
        "filename='Metro_Interstate_Traffic_Volume.csv'\n",
        "#names=['area A','perimeter P','compactness','length of ker',\n",
        "#       'width of ker', 'asymmetry coeff', 'length of ker groove','class']\n",
        "df=read_csv(filename)#,sep='\\t', error_bad_lines=False,names=names)"
      ],
      "metadata": {
        "id": "iA149PaCaZtU"
      },
      "execution_count": null,
      "outputs": []
    },
    {
      "cell_type": "code",
      "source": [
        "#df=df.rename(columns=lambda x: x.replace(' ','_'))"
      ],
      "metadata": {
        "id": "c7Z2gilq8564"
      },
      "execution_count": null,
      "outputs": []
    },
    {
      "cell_type": "code",
      "source": [
        "df.head(4)"
      ],
      "metadata": {
        "colab": {
          "base_uri": "https://localhost:8080/",
          "height": 175
        },
        "id": "tK-ttVDI0TRo",
        "outputId": "cdc14185-2a93-4958-f1ae-e9e2d9d8c901"
      },
      "execution_count": null,
      "outputs": [
        {
          "output_type": "execute_result",
          "data": {
            "text/plain": [
              "  holiday    temp  rain_1h  snow_1h  clouds_all weather_main  \\\n",
              "0    None  288.28      0.0      0.0          40       Clouds   \n",
              "1    None  289.36      0.0      0.0          75       Clouds   \n",
              "2    None  289.58      0.0      0.0          90       Clouds   \n",
              "3    None  290.13      0.0      0.0          90       Clouds   \n",
              "\n",
              "  weather_description            date_time  traffic_volume  \n",
              "0    scattered clouds  2012-10-02 09:00:00            5545  \n",
              "1       broken clouds  2012-10-02 10:00:00            4516  \n",
              "2     overcast clouds  2012-10-02 11:00:00            4767  \n",
              "3     overcast clouds  2012-10-02 12:00:00            5026  "
            ],
            "text/html": [
              "\n",
              "  <div id=\"df-4afd5149-7508-4afd-b1d4-3e0c27620f01\">\n",
              "    <div class=\"colab-df-container\">\n",
              "      <div>\n",
              "<style scoped>\n",
              "    .dataframe tbody tr th:only-of-type {\n",
              "        vertical-align: middle;\n",
              "    }\n",
              "\n",
              "    .dataframe tbody tr th {\n",
              "        vertical-align: top;\n",
              "    }\n",
              "\n",
              "    .dataframe thead th {\n",
              "        text-align: right;\n",
              "    }\n",
              "</style>\n",
              "<table border=\"1\" class=\"dataframe\">\n",
              "  <thead>\n",
              "    <tr style=\"text-align: right;\">\n",
              "      <th></th>\n",
              "      <th>holiday</th>\n",
              "      <th>temp</th>\n",
              "      <th>rain_1h</th>\n",
              "      <th>snow_1h</th>\n",
              "      <th>clouds_all</th>\n",
              "      <th>weather_main</th>\n",
              "      <th>weather_description</th>\n",
              "      <th>date_time</th>\n",
              "      <th>traffic_volume</th>\n",
              "    </tr>\n",
              "  </thead>\n",
              "  <tbody>\n",
              "    <tr>\n",
              "      <th>0</th>\n",
              "      <td>None</td>\n",
              "      <td>288.28</td>\n",
              "      <td>0.0</td>\n",
              "      <td>0.0</td>\n",
              "      <td>40</td>\n",
              "      <td>Clouds</td>\n",
              "      <td>scattered clouds</td>\n",
              "      <td>2012-10-02 09:00:00</td>\n",
              "      <td>5545</td>\n",
              "    </tr>\n",
              "    <tr>\n",
              "      <th>1</th>\n",
              "      <td>None</td>\n",
              "      <td>289.36</td>\n",
              "      <td>0.0</td>\n",
              "      <td>0.0</td>\n",
              "      <td>75</td>\n",
              "      <td>Clouds</td>\n",
              "      <td>broken clouds</td>\n",
              "      <td>2012-10-02 10:00:00</td>\n",
              "      <td>4516</td>\n",
              "    </tr>\n",
              "    <tr>\n",
              "      <th>2</th>\n",
              "      <td>None</td>\n",
              "      <td>289.58</td>\n",
              "      <td>0.0</td>\n",
              "      <td>0.0</td>\n",
              "      <td>90</td>\n",
              "      <td>Clouds</td>\n",
              "      <td>overcast clouds</td>\n",
              "      <td>2012-10-02 11:00:00</td>\n",
              "      <td>4767</td>\n",
              "    </tr>\n",
              "    <tr>\n",
              "      <th>3</th>\n",
              "      <td>None</td>\n",
              "      <td>290.13</td>\n",
              "      <td>0.0</td>\n",
              "      <td>0.0</td>\n",
              "      <td>90</td>\n",
              "      <td>Clouds</td>\n",
              "      <td>overcast clouds</td>\n",
              "      <td>2012-10-02 12:00:00</td>\n",
              "      <td>5026</td>\n",
              "    </tr>\n",
              "  </tbody>\n",
              "</table>\n",
              "</div>\n",
              "      <button class=\"colab-df-convert\" onclick=\"convertToInteractive('df-4afd5149-7508-4afd-b1d4-3e0c27620f01')\"\n",
              "              title=\"Convert this dataframe to an interactive table.\"\n",
              "              style=\"display:none;\">\n",
              "        \n",
              "  <svg xmlns=\"http://www.w3.org/2000/svg\" height=\"24px\"viewBox=\"0 0 24 24\"\n",
              "       width=\"24px\">\n",
              "    <path d=\"M0 0h24v24H0V0z\" fill=\"none\"/>\n",
              "    <path d=\"M18.56 5.44l.94 2.06.94-2.06 2.06-.94-2.06-.94-.94-2.06-.94 2.06-2.06.94zm-11 1L8.5 8.5l.94-2.06 2.06-.94-2.06-.94L8.5 2.5l-.94 2.06-2.06.94zm10 10l.94 2.06.94-2.06 2.06-.94-2.06-.94-.94-2.06-.94 2.06-2.06.94z\"/><path d=\"M17.41 7.96l-1.37-1.37c-.4-.4-.92-.59-1.43-.59-.52 0-1.04.2-1.43.59L10.3 9.45l-7.72 7.72c-.78.78-.78 2.05 0 2.83L4 21.41c.39.39.9.59 1.41.59.51 0 1.02-.2 1.41-.59l7.78-7.78 2.81-2.81c.8-.78.8-2.07 0-2.86zM5.41 20L4 18.59l7.72-7.72 1.47 1.35L5.41 20z\"/>\n",
              "  </svg>\n",
              "      </button>\n",
              "      \n",
              "  <style>\n",
              "    .colab-df-container {\n",
              "      display:flex;\n",
              "      flex-wrap:wrap;\n",
              "      gap: 12px;\n",
              "    }\n",
              "\n",
              "    .colab-df-convert {\n",
              "      background-color: #E8F0FE;\n",
              "      border: none;\n",
              "      border-radius: 50%;\n",
              "      cursor: pointer;\n",
              "      display: none;\n",
              "      fill: #1967D2;\n",
              "      height: 32px;\n",
              "      padding: 0 0 0 0;\n",
              "      width: 32px;\n",
              "    }\n",
              "\n",
              "    .colab-df-convert:hover {\n",
              "      background-color: #E2EBFA;\n",
              "      box-shadow: 0px 1px 2px rgba(60, 64, 67, 0.3), 0px 1px 3px 1px rgba(60, 64, 67, 0.15);\n",
              "      fill: #174EA6;\n",
              "    }\n",
              "\n",
              "    [theme=dark] .colab-df-convert {\n",
              "      background-color: #3B4455;\n",
              "      fill: #D2E3FC;\n",
              "    }\n",
              "\n",
              "    [theme=dark] .colab-df-convert:hover {\n",
              "      background-color: #434B5C;\n",
              "      box-shadow: 0px 1px 3px 1px rgba(0, 0, 0, 0.15);\n",
              "      filter: drop-shadow(0px 1px 2px rgba(0, 0, 0, 0.3));\n",
              "      fill: #FFFFFF;\n",
              "    }\n",
              "  </style>\n",
              "\n",
              "      <script>\n",
              "        const buttonEl =\n",
              "          document.querySelector('#df-4afd5149-7508-4afd-b1d4-3e0c27620f01 button.colab-df-convert');\n",
              "        buttonEl.style.display =\n",
              "          google.colab.kernel.accessAllowed ? 'block' : 'none';\n",
              "\n",
              "        async function convertToInteractive(key) {\n",
              "          const element = document.querySelector('#df-4afd5149-7508-4afd-b1d4-3e0c27620f01');\n",
              "          const dataTable =\n",
              "            await google.colab.kernel.invokeFunction('convertToInteractive',\n",
              "                                                     [key], {});\n",
              "          if (!dataTable) return;\n",
              "\n",
              "          const docLinkHtml = 'Like what you see? Visit the ' +\n",
              "            '<a target=\"_blank\" href=https://colab.research.google.com/notebooks/data_table.ipynb>data table notebook</a>'\n",
              "            + ' to learn more about interactive tables.';\n",
              "          element.innerHTML = '';\n",
              "          dataTable['output_type'] = 'display_data';\n",
              "          await google.colab.output.renderOutput(dataTable, element);\n",
              "          const docLink = document.createElement('div');\n",
              "          docLink.innerHTML = docLinkHtml;\n",
              "          element.appendChild(docLink);\n",
              "        }\n",
              "      </script>\n",
              "    </div>\n",
              "  </div>\n",
              "  "
            ]
          },
          "metadata": {},
          "execution_count": 6
        }
      ]
    },
    {
      "cell_type": "markdown",
      "source": [
        "# 1. **ИЩЕМ и ЧИСТИМ от NaN**"
      ],
      "metadata": {
        "id": "1cKrbjU78CuN"
      }
    },
    {
      "cell_type": "code",
      "source": [
        "df.isna().sum()"
      ],
      "metadata": {
        "id": "fad8rs6b9BsH"
      },
      "execution_count": null,
      "outputs": []
    },
    {
      "cell_type": "markdown",
      "source": [
        "# **2. МЕНЯЕМ ТИПЫ ДАННЫХ**"
      ],
      "metadata": {
        "id": "1q0-9d35-HaF"
      }
    },
    {
      "cell_type": "code",
      "source": [
        "df.holiday.value_counts()"
      ],
      "metadata": {
        "id": "RHgaspsD04Z5"
      },
      "execution_count": null,
      "outputs": []
    },
    {
      "cell_type": "markdown",
      "source": [
        "_________________________________________"
      ],
      "metadata": {
        "id": "p0POD0ZI6iE9"
      }
    },
    {
      "cell_type": "markdown",
      "source": [
        "**для_справок:**"
      ],
      "metadata": {
        "id": "vTzohtUzGGjG"
      }
    },
    {
      "cell_type": "markdown",
      "source": [
        "перевод данных в формате **object в** формат **int**(значение прсваивается произвольно):"
      ],
      "metadata": {
        "id": "19hnMQXB6n0q"
      }
    },
    {
      "cell_type": "code",
      "source": [
        "df.holiday = pd.Categorical(df.holiday).codes.astype('int')"
      ],
      "metadata": {
        "id": "Tx3fVNBB06TW"
      },
      "execution_count": null,
      "outputs": []
    },
    {
      "cell_type": "markdown",
      "source": [
        "____________________________________________"
      ],
      "metadata": {
        "id": "bZQgV_jV6lBO"
      }
    },
    {
      "cell_type": "markdown",
      "source": [
        "**для_справок:**"
      ],
      "metadata": {
        "id": "5Bbgc0cSEO1S"
      }
    },
    {
      "cell_type": "code",
      "source": [
        "ser = pd.Series(['Geeks', 11, 22.7, 33])\n",
        "ser"
      ],
      "metadata": {
        "colab": {
          "base_uri": "https://localhost:8080/"
        },
        "id": "UB-Z05boBfv8",
        "outputId": "9edc9e36-6bd5-4bbf-a57d-4bc5e7c8b6f6"
      },
      "execution_count": null,
      "outputs": [
        {
          "output_type": "execute_result",
          "data": {
            "text/plain": [
              "0    Geeks\n",
              "1       11\n",
              "2     22.7\n",
              "3       33\n",
              "dtype: object"
            ]
          },
          "metadata": {},
          "execution_count": 58
        }
      ]
    },
    {
      "cell_type": "code",
      "source": [
        "ser = pd.Series(['Geeks', 11, 22.7, 33])\n",
        "\n",
        "pd.to_numeric(ser, downcast ='signed') #- при использовании downcast = 'Signed' все значения будут преобразованы в целое число(все значения д.б. числовыми).\n",
        "pd.to_numeric(ser, errors ='ignore') #- Использование ошибок = «игнорировать». Он будет игнорировать все нечисловые значения.\n",
        "pd.to_numeric(ser, errors ='coerce') #- Использование ошибок = 'принуждение'. Он заменит все нечисловые значения на NaN.\n",
        "pd.to_numeric(df['pass_info'].str.replace('\\D', ''), errors='coerce') # удалит все пробелы в столбце и если в число ктото случайно впечатал буквы, то они\n",
        "                                                                      # исчезнут и останется чистое число"
      ],
      "metadata": {
        "id": "ni7FHaxpAJPe"
      },
      "execution_count": null,
      "outputs": []
    },
    {
      "cell_type": "markdown",
      "source": [
        "![1.jpg](data:image/jpeg;base64,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)"
      ],
      "metadata": {
        "id": "4wPL4beTAXoU"
      }
    },
    {
      "cell_type": "markdown",
      "source": [
        "_______________________________________________________________________________"
      ],
      "metadata": {
        "id": "3_k_TXNBDQrB"
      }
    },
    {
      "cell_type": "markdown",
      "source": [
        "**для_справок:**"
      ],
      "metadata": {
        "id": "E_Is1I9uF-2O"
      }
    },
    {
      "cell_type": "markdown",
      "source": [
        "**конкретную строку меняем на конкретное число:**"
      ],
      "metadata": {
        "id": "4Rid24EUFVtx"
      }
    },
    {
      "cell_type": "code",
      "source": [
        "df['class_name']=np.where(df['class']==1,'Кама',\n",
        "                (np.where(df['class']==2,'Роза','Канадская')))"
      ],
      "metadata": {
        "id": "5su7fQRFFfXW"
      },
      "execution_count": null,
      "outputs": []
    },
    {
      "cell_type": "markdown",
      "source": [
        "_______________________________________________________________"
      ],
      "metadata": {
        "id": "obn-ZKZwFTyF"
      }
    },
    {
      "cell_type": "code",
      "source": [
        "#df.holiday = df.holiday.astype('int')"
      ],
      "metadata": {
        "id": "n7FIxS0U2VYy"
      },
      "execution_count": null,
      "outputs": []
    },
    {
      "cell_type": "code",
      "source": [
        "df.dtypes"
      ],
      "metadata": {
        "id": "GAnrOG0l4SN9"
      },
      "execution_count": null,
      "outputs": []
    },
    {
      "cell_type": "code",
      "source": [
        "df.head(4)"
      ],
      "metadata": {
        "colab": {
          "base_uri": "https://localhost:8080/",
          "height": 175
        },
        "id": "fub6HESKE-ub",
        "outputId": "bbadbc6e-e380-4b9f-c4e9-40352e812566"
      },
      "execution_count": null,
      "outputs": [
        {
          "output_type": "execute_result",
          "data": {
            "text/plain": [
              "   holiday    temp  rain_1h  snow_1h  clouds_all  weather_main  \\\n",
              "0        7  288.28      0.0      0.0          40             1   \n",
              "1        7  289.36      0.0      0.0          75             1   \n",
              "2        7  289.58      0.0      0.0          90             1   \n",
              "3        7  290.13      0.0      0.0          90             1   \n",
              "\n",
              "   weather_description           date_time  traffic_volume  month  hour  \n",
              "0                   24 2012-10-02 09:00:00            5545     10     9  \n",
              "1                    2 2012-10-02 10:00:00            4516     10    10  \n",
              "2                   19 2012-10-02 11:00:00            4767     10    11  \n",
              "3                   19 2012-10-02 12:00:00            5026     10    12  "
            ],
            "text/html": [
              "\n",
              "  <div id=\"df-a4db0f83-63f3-4988-aa77-916037efead3\">\n",
              "    <div class=\"colab-df-container\">\n",
              "      <div>\n",
              "<style scoped>\n",
              "    .dataframe tbody tr th:only-of-type {\n",
              "        vertical-align: middle;\n",
              "    }\n",
              "\n",
              "    .dataframe tbody tr th {\n",
              "        vertical-align: top;\n",
              "    }\n",
              "\n",
              "    .dataframe thead th {\n",
              "        text-align: right;\n",
              "    }\n",
              "</style>\n",
              "<table border=\"1\" class=\"dataframe\">\n",
              "  <thead>\n",
              "    <tr style=\"text-align: right;\">\n",
              "      <th></th>\n",
              "      <th>holiday</th>\n",
              "      <th>temp</th>\n",
              "      <th>rain_1h</th>\n",
              "      <th>snow_1h</th>\n",
              "      <th>clouds_all</th>\n",
              "      <th>weather_main</th>\n",
              "      <th>weather_description</th>\n",
              "      <th>date_time</th>\n",
              "      <th>traffic_volume</th>\n",
              "      <th>month</th>\n",
              "      <th>hour</th>\n",
              "    </tr>\n",
              "  </thead>\n",
              "  <tbody>\n",
              "    <tr>\n",
              "      <th>0</th>\n",
              "      <td>7</td>\n",
              "      <td>288.28</td>\n",
              "      <td>0.0</td>\n",
              "      <td>0.0</td>\n",
              "      <td>40</td>\n",
              "      <td>1</td>\n",
              "      <td>24</td>\n",
              "      <td>2012-10-02 09:00:00</td>\n",
              "      <td>5545</td>\n",
              "      <td>10</td>\n",
              "      <td>9</td>\n",
              "    </tr>\n",
              "    <tr>\n",
              "      <th>1</th>\n",
              "      <td>7</td>\n",
              "      <td>289.36</td>\n",
              "      <td>0.0</td>\n",
              "      <td>0.0</td>\n",
              "      <td>75</td>\n",
              "      <td>1</td>\n",
              "      <td>2</td>\n",
              "      <td>2012-10-02 10:00:00</td>\n",
              "      <td>4516</td>\n",
              "      <td>10</td>\n",
              "      <td>10</td>\n",
              "    </tr>\n",
              "    <tr>\n",
              "      <th>2</th>\n",
              "      <td>7</td>\n",
              "      <td>289.58</td>\n",
              "      <td>0.0</td>\n",
              "      <td>0.0</td>\n",
              "      <td>90</td>\n",
              "      <td>1</td>\n",
              "      <td>19</td>\n",
              "      <td>2012-10-02 11:00:00</td>\n",
              "      <td>4767</td>\n",
              "      <td>10</td>\n",
              "      <td>11</td>\n",
              "    </tr>\n",
              "    <tr>\n",
              "      <th>3</th>\n",
              "      <td>7</td>\n",
              "      <td>290.13</td>\n",
              "      <td>0.0</td>\n",
              "      <td>0.0</td>\n",
              "      <td>90</td>\n",
              "      <td>1</td>\n",
              "      <td>19</td>\n",
              "      <td>2012-10-02 12:00:00</td>\n",
              "      <td>5026</td>\n",
              "      <td>10</td>\n",
              "      <td>12</td>\n",
              "    </tr>\n",
              "  </tbody>\n",
              "</table>\n",
              "</div>\n",
              "      <button class=\"colab-df-convert\" onclick=\"convertToInteractive('df-a4db0f83-63f3-4988-aa77-916037efead3')\"\n",
              "              title=\"Convert this dataframe to an interactive table.\"\n",
              "              style=\"display:none;\">\n",
              "        \n",
              "  <svg xmlns=\"http://www.w3.org/2000/svg\" height=\"24px\"viewBox=\"0 0 24 24\"\n",
              "       width=\"24px\">\n",
              "    <path d=\"M0 0h24v24H0V0z\" fill=\"none\"/>\n",
              "    <path d=\"M18.56 5.44l.94 2.06.94-2.06 2.06-.94-2.06-.94-.94-2.06-.94 2.06-2.06.94zm-11 1L8.5 8.5l.94-2.06 2.06-.94-2.06-.94L8.5 2.5l-.94 2.06-2.06.94zm10 10l.94 2.06.94-2.06 2.06-.94-2.06-.94-.94-2.06-.94 2.06-2.06.94z\"/><path d=\"M17.41 7.96l-1.37-1.37c-.4-.4-.92-.59-1.43-.59-.52 0-1.04.2-1.43.59L10.3 9.45l-7.72 7.72c-.78.78-.78 2.05 0 2.83L4 21.41c.39.39.9.59 1.41.59.51 0 1.02-.2 1.41-.59l7.78-7.78 2.81-2.81c.8-.78.8-2.07 0-2.86zM5.41 20L4 18.59l7.72-7.72 1.47 1.35L5.41 20z\"/>\n",
              "  </svg>\n",
              "      </button>\n",
              "      \n",
              "  <style>\n",
              "    .colab-df-container {\n",
              "      display:flex;\n",
              "      flex-wrap:wrap;\n",
              "      gap: 12px;\n",
              "    }\n",
              "\n",
              "    .colab-df-convert {\n",
              "      background-color: #E8F0FE;\n",
              "      border: none;\n",
              "      border-radius: 50%;\n",
              "      cursor: pointer;\n",
              "      display: none;\n",
              "      fill: #1967D2;\n",
              "      height: 32px;\n",
              "      padding: 0 0 0 0;\n",
              "      width: 32px;\n",
              "    }\n",
              "\n",
              "    .colab-df-convert:hover {\n",
              "      background-color: #E2EBFA;\n",
              "      box-shadow: 0px 1px 2px rgba(60, 64, 67, 0.3), 0px 1px 3px 1px rgba(60, 64, 67, 0.15);\n",
              "      fill: #174EA6;\n",
              "    }\n",
              "\n",
              "    [theme=dark] .colab-df-convert {\n",
              "      background-color: #3B4455;\n",
              "      fill: #D2E3FC;\n",
              "    }\n",
              "\n",
              "    [theme=dark] .colab-df-convert:hover {\n",
              "      background-color: #434B5C;\n",
              "      box-shadow: 0px 1px 3px 1px rgba(0, 0, 0, 0.15);\n",
              "      filter: drop-shadow(0px 1px 2px rgba(0, 0, 0, 0.3));\n",
              "      fill: #FFFFFF;\n",
              "    }\n",
              "  </style>\n",
              "\n",
              "      <script>\n",
              "        const buttonEl =\n",
              "          document.querySelector('#df-a4db0f83-63f3-4988-aa77-916037efead3 button.colab-df-convert');\n",
              "        buttonEl.style.display =\n",
              "          google.colab.kernel.accessAllowed ? 'block' : 'none';\n",
              "\n",
              "        async function convertToInteractive(key) {\n",
              "          const element = document.querySelector('#df-a4db0f83-63f3-4988-aa77-916037efead3');\n",
              "          const dataTable =\n",
              "            await google.colab.kernel.invokeFunction('convertToInteractive',\n",
              "                                                     [key], {});\n",
              "          if (!dataTable) return;\n",
              "\n",
              "          const docLinkHtml = 'Like what you see? Visit the ' +\n",
              "            '<a target=\"_blank\" href=https://colab.research.google.com/notebooks/data_table.ipynb>data table notebook</a>'\n",
              "            + ' to learn more about interactive tables.';\n",
              "          element.innerHTML = '';\n",
              "          dataTable['output_type'] = 'display_data';\n",
              "          await google.colab.output.renderOutput(dataTable, element);\n",
              "          const docLink = document.createElement('div');\n",
              "          docLink.innerHTML = docLinkHtml;\n",
              "          element.appendChild(docLink);\n",
              "        }\n",
              "      </script>\n",
              "    </div>\n",
              "  </div>\n",
              "  "
            ]
          },
          "metadata": {},
          "execution_count": 84
        }
      ]
    },
    {
      "cell_type": "code",
      "source": [
        "df.weather_description.value_counts()"
      ],
      "metadata": {
        "id": "-I0-nlrR06Q1"
      },
      "execution_count": null,
      "outputs": []
    },
    {
      "cell_type": "code",
      "source": [
        "df.weather_main = pd.Categorical(df.weather_main).codes.astype('int')"
      ],
      "metadata": {
        "id": "3eb-OpUKG_TF"
      },
      "execution_count": null,
      "outputs": []
    },
    {
      "cell_type": "code",
      "source": [
        "df.weather_description = pd.Categorical(df.weather_description).codes.astype('int')"
      ],
      "metadata": {
        "id": "LtX-MczB057V"
      },
      "execution_count": null,
      "outputs": []
    },
    {
      "cell_type": "markdown",
      "source": [
        "___________________________________________________________"
      ],
      "metadata": {
        "id": "Z1TU5B2KIS_Y"
      }
    },
    {
      "cell_type": "markdown",
      "source": [
        "данные **Дата-Time:**"
      ],
      "metadata": {
        "id": "zHGA1PrKIpZH"
      }
    },
    {
      "cell_type": "code",
      "source": [
        "pd.Series.dt.year   # возвращает год даты и времени\n",
        "pd.Series.dt.month  # возвращает месяц даты и времени\n",
        "pd.Series.dt.day    # возвращает день даты и времени\n",
        "pd.Series.dt.hour   # возвращает час даты и времени\n",
        "pd.Series.dt.minute # возвращает минуты даты и времени"
      ],
      "metadata": {
        "id": "8ScA9QdOIUn1"
      },
      "execution_count": null,
      "outputs": []
    },
    {
      "cell_type": "code",
      "source": [
        "df.date_time = pd.to_datetime(df.date_time) # перевод столбца в datetime"
      ],
      "metadata": {
        "id": "4Ubt7JpL054h"
      },
      "execution_count": null,
      "outputs": []
    },
    {
      "cell_type": "code",
      "source": [
        "df['hour'] = df.date_time.dt.hour #делаем столбец с часами"
      ],
      "metadata": {
        "id": "rtT8kEM7KFfn"
      },
      "execution_count": null,
      "outputs": []
    },
    {
      "cell_type": "code",
      "source": [
        "df['month'] = df.date_time.dt.month #делаем столбец с месяцами"
      ],
      "metadata": {
        "id": "DkBa89bSLBJX"
      },
      "execution_count": null,
      "outputs": []
    },
    {
      "cell_type": "markdown",
      "source": [
        "______________________________________________________"
      ],
      "metadata": {
        "id": "a_XDmv17I_cy"
      }
    },
    {
      "cell_type": "markdown",
      "source": [],
      "metadata": {
        "id": "J3xpIcvyP1Ho"
      }
    },
    {
      "cell_type": "markdown",
      "source": [
        "# **3. МЕНЯЕМ ПОРЯДОК СТОЛБЦОВ**"
      ],
      "metadata": {
        "id": "lu1oxvZmP1aT"
      }
    },
    {
      "cell_type": "markdown",
      "source": [
        "Меняем **порядок столбцов:**"
      ],
      "metadata": {
        "id": "qxkWQq73NHel"
      }
    },
    {
      "cell_type": "code",
      "source": [
        "df = df.reindex(columns=['holiday',\t'temp',\t'rain_1h',\t'snow_1h',\t'clouds_all',\t'weather_main',\t'weather_description',\t'month',\t'hour', 'traffic_volume',\t'date_time'])"
      ],
      "metadata": {
        "id": "ghQVWT8305yc"
      },
      "execution_count": null,
      "outputs": []
    },
    {
      "cell_type": "markdown",
      "source": [
        "__________________________________________________________________"
      ],
      "metadata": {
        "id": "7uSJk7p0OH6S"
      }
    },
    {
      "cell_type": "markdown",
      "source": [
        "# **4. ЗАПИСЫВАЕМ ПОДГОТОВЛЕННЫЕ ДАННЫЕ В ФАЙЛ**"
      ],
      "metadata": {
        "id": "x8Hq_CT-P4lE"
      }
    },
    {
      "cell_type": "code",
      "source": [
        "df.to_csv('metro_trffic_очищен.csv')"
      ],
      "metadata": {
        "id": "xuoKkb0dPhw2"
      },
      "execution_count": null,
      "outputs": []
    },
    {
      "cell_type": "markdown",
      "source": [
        "______________________________________________________________"
      ],
      "metadata": {
        "id": "VVFXddpGUiAG"
      }
    },
    {
      "cell_type": "code",
      "source": [
        "df.dtypes"
      ],
      "metadata": {
        "id": "TDpkejshksKU"
      },
      "execution_count": null,
      "outputs": []
    },
    {
      "cell_type": "code",
      "source": [
        "df.rain_1h.value_counts()"
      ],
      "metadata": {
        "id": "iubZoF0nj0X_"
      },
      "execution_count": null,
      "outputs": []
    },
    {
      "cell_type": "markdown",
      "source": [
        "# **СМОТРИМ ВЫБРОСЫ, удаляем выбросы**"
      ],
      "metadata": {
        "id": "oV4Dc8OJUzYZ"
      }
    },
    {
      "cell_type": "code",
      "source": [
        "import matplotlib.pyplot as plt\n",
        "df.plot(kind='box', subplots=True, layout=(4,4), sharex=False, sharey=False, figsize=(8,8))\n",
        "plt.show()\n",
        "# ящик с усами 2 вершины не ловит"
      ],
      "metadata": {
        "colab": {
          "base_uri": "https://localhost:8080/",
          "height": 371
        },
        "id": "ntDnVCLyUAKI",
        "outputId": "4f4d1990-b25b-47fc-b84f-c237cf4a751a"
      },
      "execution_count": null,
      "outputs": [
        {
          "output_type": "display_data",
          "data": {
            "text/plain": [
              "<Figure size 576x576 with 16 Axes>"
            ],
            "image/png": "[encoded data removed]"
          },
          "metadata": {
            "needs_background": "light"
          }
        }
      ]
    },
    {
      "cell_type": "code",
      "source": [
        "plt.figure(figsize=(15,10))\n",
        "\n",
        "plt.hist(df['temp'], alpha = 0.5, label='b')\n",
        "plt.hist(df['clouds_all'], alpha = 0.5, label='b')\n",
        "#plt.hist(df['holiday'], alpha = 0.5, label='b')\n",
        "plt.hist(df['weather_description'], alpha = 0.5, label='b')\n",
        "plt.hist(df['month'], alpha = 0.5, label='b')\n",
        "plt.hist(df['hour'], alpha = 0.5, label='b')\n",
        "\n",
        "plt.show()"
      ],
      "metadata": {
        "colab": {
          "base_uri": "https://localhost:8080/",
          "height": 592
        },
        "id": "GZsocXS-azv3",
        "outputId": "8871744a-6aad-44fc-b99d-51b1cd7dae6b"
      },
      "execution_count": null,
      "outputs": [
        {
          "output_type": "display_data",
          "data": {
            "text/plain": [
              "<Figure size 1080x720 with 1 Axes>"
            ],
            "image/png": "[encoded data removed]"
          },
          "metadata": {
            "needs_background": "light"
          }
        }
      ]
    },
    {
      "cell_type": "code",
      "source": [
        "df.drop('holiday',axis=1,inplace=True)"
      ],
      "metadata": {
        "id": "lSsc5i9kX34L"
      },
      "execution_count": null,
      "outputs": []
    },
    {
      "cell_type": "code",
      "source": [
        "df.sample(5)"
      ],
      "metadata": {
        "colab": {
          "base_uri": "https://localhost:8080/",
          "height": 206
        },
        "id": "x0nyrt4jQ4mc",
        "outputId": "f7fbdb3e-ea26-43c7-9914-70fc80f5c25a"
      },
      "execution_count": null,
      "outputs": [
        {
          "output_type": "execute_result",
          "data": {
            "text/plain": [
              "         temp  rain_1h  snow_1h  clouds_all  weather_main  \\\n",
              "328    277.91      0.0      0.0           1             0   \n",
              "19511  282.35      0.0      0.0          90             5   \n",
              "30212  272.75      0.0      0.0           1             3   \n",
              "5716   280.27      0.0      0.0           1             0   \n",
              "34811  286.22      0.0      0.0           1             0   \n",
              "\n",
              "       weather_description  month  hour  traffic_volume           date_time  \n",
              "328                     27     10     3             354 2012-10-16 03:00:00  \n",
              "19511                   17     11    17            5743 2015-11-16 17:00:00  \n",
              "30212                    5      1     3             486 2017-01-19 03:00:00  \n",
              "5716                    27      5    15            6084 2013-05-03 15:00:00  \n",
              "34811                   27      6     0            1751 2017-06-25 00:00:00  "
            ],
            "text/html": [
              "\n",
              "  <div id=\"df-7e2ca50a-8d15-489f-ab6d-3484df076b5a\">\n",
              "    <div class=\"colab-df-container\">\n",
              "      <div>\n",
              "<style scoped>\n",
              "    .dataframe tbody tr th:only-of-type {\n",
              "        vertical-align: middle;\n",
              "    }\n",
              "\n",
              "    .dataframe tbody tr th {\n",
              "        vertical-align: top;\n",
              "    }\n",
              "\n",
              "    .dataframe thead th {\n",
              "        text-align: right;\n",
              "    }\n",
              "</style>\n",
              "<table border=\"1\" class=\"dataframe\">\n",
              "  <thead>\n",
              "    <tr style=\"text-align: right;\">\n",
              "      <th></th>\n",
              "      <th>temp</th>\n",
              "      <th>rain_1h</th>\n",
              "      <th>snow_1h</th>\n",
              "      <th>clouds_all</th>\n",
              "      <th>weather_main</th>\n",
              "      <th>weather_description</th>\n",
              "      <th>month</th>\n",
              "      <th>hour</th>\n",
              "      <th>traffic_volume</th>\n",
              "      <th>date_time</th>\n",
              "    </tr>\n",
              "  </thead>\n",
              "  <tbody>\n",
              "    <tr>\n",
              "      <th>328</th>\n",
              "      <td>277.91</td>\n",
              "      <td>0.0</td>\n",
              "      <td>0.0</td>\n",
              "      <td>1</td>\n",
              "      <td>0</td>\n",
              "      <td>27</td>\n",
              "      <td>10</td>\n",
              "      <td>3</td>\n",
              "      <td>354</td>\n",
              "      <td>2012-10-16 03:00:00</td>\n",
              "    </tr>\n",
              "    <tr>\n",
              "      <th>19511</th>\n",
              "      <td>282.35</td>\n",
              "      <td>0.0</td>\n",
              "      <td>0.0</td>\n",
              "      <td>90</td>\n",
              "      <td>5</td>\n",
              "      <td>17</td>\n",
              "      <td>11</td>\n",
              "      <td>17</td>\n",
              "      <td>5743</td>\n",
              "      <td>2015-11-16 17:00:00</td>\n",
              "    </tr>\n",
              "    <tr>\n",
              "      <th>30212</th>\n",
              "      <td>272.75</td>\n",
              "      <td>0.0</td>\n",
              "      <td>0.0</td>\n",
              "      <td>1</td>\n",
              "      <td>3</td>\n",
              "      <td>5</td>\n",
              "      <td>1</td>\n",
              "      <td>3</td>\n",
              "      <td>486</td>\n",
              "      <td>2017-01-19 03:00:00</td>\n",
              "    </tr>\n",
              "    <tr>\n",
              "      <th>5716</th>\n",
              "      <td>280.27</td>\n",
              "      <td>0.0</td>\n",
              "      <td>0.0</td>\n",
              "      <td>1</td>\n",
              "      <td>0</td>\n",
              "      <td>27</td>\n",
              "      <td>5</td>\n",
              "      <td>15</td>\n",
              "      <td>6084</td>\n",
              "      <td>2013-05-03 15:00:00</td>\n",
              "    </tr>\n",
              "    <tr>\n",
              "      <th>34811</th>\n",
              "      <td>286.22</td>\n",
              "      <td>0.0</td>\n",
              "      <td>0.0</td>\n",
              "      <td>1</td>\n",
              "      <td>0</td>\n",
              "      <td>27</td>\n",
              "      <td>6</td>\n",
              "      <td>0</td>\n",
              "      <td>1751</td>\n",
              "      <td>2017-06-25 00:00:00</td>\n",
              "    </tr>\n",
              "  </tbody>\n",
              "</table>\n",
              "</div>\n",
              "      <button class=\"colab-df-convert\" onclick=\"convertToInteractive('df-7e2ca50a-8d15-489f-ab6d-3484df076b5a')\"\n",
              "              title=\"Convert this dataframe to an interactive table.\"\n",
              "              style=\"display:none;\">\n",
              "        \n",
              "  <svg xmlns=\"http://www.w3.org/2000/svg\" height=\"24px\"viewBox=\"0 0 24 24\"\n",
              "       width=\"24px\">\n",
              "    <path d=\"M0 0h24v24H0V0z\" fill=\"none\"/>\n",
              "    <path d=\"M18.56 5.44l.94 2.06.94-2.06 2.06-.94-2.06-.94-.94-2.06-.94 2.06-2.06.94zm-11 1L8.5 8.5l.94-2.06 2.06-.94-2.06-.94L8.5 2.5l-.94 2.06-2.06.94zm10 10l.94 2.06.94-2.06 2.06-.94-2.06-.94-.94-2.06-.94 2.06-2.06.94z\"/><path d=\"M17.41 7.96l-1.37-1.37c-.4-.4-.92-.59-1.43-.59-.52 0-1.04.2-1.43.59L10.3 9.45l-7.72 7.72c-.78.78-.78 2.05 0 2.83L4 21.41c.39.39.9.59 1.41.59.51 0 1.02-.2 1.41-.59l7.78-7.78 2.81-2.81c.8-.78.8-2.07 0-2.86zM5.41 20L4 18.59l7.72-7.72 1.47 1.35L5.41 20z\"/>\n",
              "  </svg>\n",
              "      </button>\n",
              "      \n",
              "  <style>\n",
              "    .colab-df-container {\n",
              "      display:flex;\n",
              "      flex-wrap:wrap;\n",
              "      gap: 12px;\n",
              "    }\n",
              "\n",
              "    .colab-df-convert {\n",
              "      background-color: #E8F0FE;\n",
              "      border: none;\n",
              "      border-radius: 50%;\n",
              "      cursor: pointer;\n",
              "      display: none;\n",
              "      fill: #1967D2;\n",
              "      height: 32px;\n",
              "      padding: 0 0 0 0;\n",
              "      width: 32px;\n",
              "    }\n",
              "\n",
              "    .colab-df-convert:hover {\n",
              "      background-color: #E2EBFA;\n",
              "      box-shadow: 0px 1px 2px rgba(60, 64, 67, 0.3), 0px 1px 3px 1px rgba(60, 64, 67, 0.15);\n",
              "      fill: #174EA6;\n",
              "    }\n",
              "\n",
              "    [theme=dark] .colab-df-convert {\n",
              "      background-color: #3B4455;\n",
              "      fill: #D2E3FC;\n",
              "    }\n",
              "\n",
              "    [theme=dark] .colab-df-convert:hover {\n",
              "      background-color: #434B5C;\n",
              "      box-shadow: 0px 1px 3px 1px rgba(0, 0, 0, 0.15);\n",
              "      filter: drop-shadow(0px 1px 2px rgba(0, 0, 0, 0.3));\n",
              "      fill: #FFFFFF;\n",
              "    }\n",
              "  </style>\n",
              "\n",
              "      <script>\n",
              "        const buttonEl =\n",
              "          document.querySelector('#df-7e2ca50a-8d15-489f-ab6d-3484df076b5a button.colab-df-convert');\n",
              "        buttonEl.style.display =\n",
              "          google.colab.kernel.accessAllowed ? 'block' : 'none';\n",
              "\n",
              "        async function convertToInteractive(key) {\n",
              "          const element = document.querySelector('#df-7e2ca50a-8d15-489f-ab6d-3484df076b5a');\n",
              "          const dataTable =\n",
              "            await google.colab.kernel.invokeFunction('convertToInteractive',\n",
              "                                                     [key], {});\n",
              "          if (!dataTable) return;\n",
              "\n",
              "          const docLinkHtml = 'Like what you see? Visit the ' +\n",
              "            '<a target=\"_blank\" href=https://colab.research.google.com/notebooks/data_table.ipynb>data table notebook</a>'\n",
              "            + ' to learn more about interactive tables.';\n",
              "          element.innerHTML = '';\n",
              "          dataTable['output_type'] = 'display_data';\n",
              "          await google.colab.output.renderOutput(dataTable, element);\n",
              "          const docLink = document.createElement('div');\n",
              "          docLink.innerHTML = docLinkHtml;\n",
              "          element.appendChild(docLink);\n",
              "        }\n",
              "      </script>\n",
              "    </div>\n",
              "  </div>\n",
              "  "
            ]
          },
          "metadata": {},
          "execution_count": 79
        }
      ]
    },
    {
      "cell_type": "code",
      "source": [
        "df.temp.hist()"
      ],
      "metadata": {
        "colab": {
          "base_uri": "https://localhost:8080/",
          "height": 283
        },
        "id": "aOp0iVGYRE5V",
        "outputId": "49781b11-4e08-4f97-fbc7-1642afe1ca67"
      },
      "execution_count": null,
      "outputs": [
        {
          "output_type": "execute_result",
          "data": {
            "text/plain": [
              "<matplotlib.axes._subplots.AxesSubplot at 0x7f1317900c90>"
            ]
          },
          "metadata": {},
          "execution_count": 81
        },
        {
          "output_type": "display_data",
          "data": {
            "text/plain": [
              "<Figure size 432x288 with 1 Axes>"
            ],
            "image/png": "[encoded data removed]"
          },
          "metadata": {
            "needs_background": "light"
          }
        }
      ]
    },
    {
      "cell_type": "markdown",
      "source": [
        "___________________________________________________"
      ],
      "metadata": {
        "id": "Gw8DlcSId6g5"
      }
    },
    {
      "cell_type": "markdown",
      "source": [
        "# **Ищем пределы за которыми выбросы**"
      ],
      "metadata": {
        "id": "XpRuH6dfd-MI"
      }
    },
    {
      "cell_type": "markdown",
      "source": [
        "# **НАЧАЛО**"
      ],
      "metadata": {
        "id": "ajdg1cT3hAw2"
      }
    },
    {
      "cell_type": "markdown",
      "source": [
        "![2.jpg](data:image/jpeg;base64,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)"
      ],
      "metadata": {
        "id": "s2m0jGQ_foWH"
      }
    },
    {
      "cell_type": "code",
      "source": [],
      "metadata": {
        "id": "FgKU5uJNd469"
      },
      "execution_count": null,
      "outputs": []
    },
    {
      "cell_type": "code",
      "source": [
        "i = df.temp.quantile(0.25)\n",
        "i"
      ],
      "metadata": {
        "colab": {
          "base_uri": "https://localhost:8080/"
        },
        "outputId": "9b2b94ed-0ae6-4c81-ff8f-1825cb1e2af3",
        "id": "3DbSBoF_fxOs"
      },
      "execution_count": null,
      "outputs": [
        {
          "output_type": "execute_result",
          "data": {
            "text/plain": [
              "272.16"
            ]
          },
          "metadata": {},
          "execution_count": 41
        }
      ]
    },
    {
      "cell_type": "code",
      "source": [
        "j = df.temp.quantile(0.75)\n",
        "j"
      ],
      "metadata": {
        "colab": {
          "base_uri": "https://localhost:8080/"
        },
        "outputId": "e5d507ef-f118-47bb-d8ef-70acf298f2e6",
        "id": "bpI93AchfxOs"
      },
      "execution_count": null,
      "outputs": [
        {
          "output_type": "execute_result",
          "data": {
            "text/plain": [
              "291.806"
            ]
          },
          "metadata": {},
          "execution_count": 42
        }
      ]
    },
    {
      "cell_type": "code",
      "source": [
        "(j-i)*1.5"
      ],
      "metadata": {
        "colab": {
          "base_uri": "https://localhost:8080/"
        },
        "outputId": "8fc15d08-4e2f-4f8e-c014-31a7d5d8cdd9",
        "id": "WI09GkS-fxOs"
      },
      "execution_count": null,
      "outputs": [
        {
          "output_type": "execute_result",
          "data": {
            "text/plain": [
              "29.468999999999937"
            ]
          },
          "metadata": {},
          "execution_count": 58
        }
      ]
    },
    {
      "cell_type": "code",
      "source": [
        "df.temp.hist()"
      ],
      "metadata": {
        "colab": {
          "base_uri": "https://localhost:8080/",
          "height": 283
        },
        "outputId": "ab1bc993-0066-427f-a652-ca49f3d8f8d7",
        "id": "By0vUMwSfxOt"
      },
      "execution_count": null,
      "outputs": [
        {
          "output_type": "execute_result",
          "data": {
            "text/plain": [
              "<matplotlib.axes._subplots.AxesSubplot at 0x7f1318120d10>"
            ]
          },
          "metadata": {},
          "execution_count": 64
        },
        {
          "output_type": "display_data",
          "data": {
            "text/plain": [
              "<Figure size 432x288 with 1 Axes>"
            ],
            "image/png": "[encoded data removed]"
          },
          "metadata": {
            "needs_background": "light"
          }
        }
      ]
    },
    {
      "cell_type": "code",
      "source": [
        "d = df[(df.temp > i) & (df.temp < j)]"
      ],
      "metadata": {
        "id": "-vbpFe8qfxOt"
      },
      "execution_count": null,
      "outputs": []
    },
    {
      "cell_type": "code",
      "source": [
        "d.temp.hist()"
      ],
      "metadata": {
        "colab": {
          "base_uri": "https://localhost:8080/",
          "height": 285
        },
        "outputId": "9f033086-0387-481f-c733-b89fcb4c5069",
        "id": "n9ydr24AfxOt"
      },
      "execution_count": null,
      "outputs": [
        {
          "output_type": "execute_result",
          "data": {
            "text/plain": [
              "<matplotlib.axes._subplots.AxesSubplot at 0x7f13183e34d0>"
            ]
          },
          "metadata": {},
          "execution_count": 63
        },
        {
          "output_type": "display_data",
          "data": {
            "text/plain": [
              "<Figure size 432x288 with 1 Axes>"
            ],
            "image/png": "[encoded data removed]"
          },
          "metadata": {
            "needs_background": "light"
          }
        }
      ]
    },
    {
      "cell_type": "code",
      "source": [
        "df = df[(df.temp > i-(j-i)*1.5) & (df.temp < j+(j-i)*1.5)]"
      ],
      "metadata": {
        "id": "5T_J7mhzfxOt"
      },
      "execution_count": null,
      "outputs": []
    },
    {
      "cell_type": "code",
      "source": [
        "df.shape"
      ],
      "metadata": {
        "colab": {
          "base_uri": "https://localhost:8080/"
        },
        "id": "7UG_nQ9E5ad9",
        "outputId": "e3d65186-17bb-4b5e-e58b-c2ebf5d7d4c8"
      },
      "execution_count": null,
      "outputs": [
        {
          "output_type": "execute_result",
          "data": {
            "text/plain": [
              "(48204, 11)"
            ]
          },
          "metadata": {},
          "execution_count": 45
        }
      ]
    },
    {
      "cell_type": "code",
      "source": [
        "df.shape"
      ],
      "metadata": {
        "colab": {
          "base_uri": "https://localhost:8080/"
        },
        "outputId": "c36f4d78-7566-412a-ec38-00ed00dab0f4",
        "id": "u7tDIBVdfxOt"
      },
      "execution_count": null,
      "outputs": [
        {
          "output_type": "execute_result",
          "data": {
            "text/plain": [
              "(48194, 10)"
            ]
          },
          "metadata": {},
          "execution_count": 95
        }
      ]
    },
    {
      "cell_type": "code",
      "source": [
        "df.temp.hist()"
      ],
      "metadata": {
        "colab": {
          "base_uri": "https://localhost:8080/",
          "height": 283
        },
        "id": "hP_QjhlVgtLq",
        "outputId": "32646104-4e0d-42d7-8ceb-2dacb82a507d"
      },
      "execution_count": null,
      "outputs": [
        {
          "output_type": "execute_result",
          "data": {
            "text/plain": [
              "<matplotlib.axes._subplots.AxesSubplot at 0x7f1317a480d0>"
            ]
          },
          "metadata": {},
          "execution_count": 96
        },
        {
          "output_type": "display_data",
          "data": {
            "text/plain": [
              "<Figure size 432x288 with 1 Axes>"
            ],
            "image/png": "[encoded data removed]"
          },
          "metadata": {
            "needs_background": "light"
          }
        }
      ]
    },
    {
      "cell_type": "markdown",
      "source": [
        "# **КОНЕЦ**"
      ],
      "metadata": {
        "id": "m2XYiYVghDu7"
      }
    },
    {
      "cell_type": "markdown",
      "source": [
        "___________________________________________________________"
      ],
      "metadata": {
        "id": "KO7PG-3Ad8Pd"
      }
    },
    {
      "cell_type": "code",
      "source": [
        "plt.figure(figsize=(15,10))\n",
        "\n",
        "plt.hist(df['temp'], alpha = 0.5, label='b')\n",
        "plt.hist(df['clouds_all'], alpha = 0.5, label='b')\n",
        "#plt.hist(df['holiday'], alpha = 0.5, label='b')\n",
        "plt.hist(df['weather_description'], alpha = 0.5, label='b')\n",
        "plt.hist(df['month'], alpha = 0.5, label='b')\n",
        "plt.hist(df['hour'], alpha = 0.5, label='b')\n",
        "\n",
        "plt.show()"
      ],
      "metadata": {
        "colab": {
          "base_uri": "https://localhost:8080/",
          "height": 592
        },
        "id": "l3mgd12QhNZb",
        "outputId": "d8c9d232-e128-4dd1-b1a7-79ef8cfacf6b"
      },
      "execution_count": null,
      "outputs": [
        {
          "output_type": "display_data",
          "data": {
            "text/plain": [
              "<Figure size 1080x720 with 1 Axes>"
            ],
            "image/png": "[encoded data removed]"
          },
          "metadata": {
            "needs_background": "light"
          }
        }
      ]
    },
    {
      "cell_type": "code",
      "source": [
        "df.head()"
      ],
      "metadata": {
        "colab": {
          "base_uri": "https://localhost:8080/",
          "height": 206
        },
        "id": "XoTiGg6whkxt",
        "outputId": "bdf36bea-7a80-4eed-c46c-4724bd90a501"
      },
      "execution_count": null,
      "outputs": [
        {
          "output_type": "execute_result",
          "data": {
            "text/plain": [
              "     temp  rain_1h  snow_1h  clouds_all  weather_main  weather_description  \\\n",
              "0  288.28      0.0      0.0          40             1                   24   \n",
              "1  289.36      0.0      0.0          75             1                    2   \n",
              "2  289.58      0.0      0.0          90             1                   19   \n",
              "3  290.13      0.0      0.0          90             1                   19   \n",
              "4  291.14      0.0      0.0          75             1                    2   \n",
              "\n",
              "   month  hour  traffic_volume           date_time  \n",
              "0     10     9            5545 2012-10-02 09:00:00  \n",
              "1     10    10            4516 2012-10-02 10:00:00  \n",
              "2     10    11            4767 2012-10-02 11:00:00  \n",
              "3     10    12            5026 2012-10-02 12:00:00  \n",
              "4     10    13            4918 2012-10-02 13:00:00  "
            ],
            "text/html": [
              "\n",
              "  <div id=\"df-227cb50b-0d7a-4f56-9c5e-b54fdee4d5d7\">\n",
              "    <div class=\"colab-df-container\">\n",
              "      <div>\n",
              "<style scoped>\n",
              "    .dataframe tbody tr th:only-of-type {\n",
              "        vertical-align: middle;\n",
              "    }\n",
              "\n",
              "    .dataframe tbody tr th {\n",
              "        vertical-align: top;\n",
              "    }\n",
              "\n",
              "    .dataframe thead th {\n",
              "        text-align: right;\n",
              "    }\n",
              "</style>\n",
              "<table border=\"1\" class=\"dataframe\">\n",
              "  <thead>\n",
              "    <tr style=\"text-align: right;\">\n",
              "      <th></th>\n",
              "      <th>temp</th>\n",
              "      <th>rain_1h</th>\n",
              "      <th>snow_1h</th>\n",
              "      <th>clouds_all</th>\n",
              "      <th>weather_main</th>\n",
              "      <th>weather_description</th>\n",
              "      <th>month</th>\n",
              "      <th>hour</th>\n",
              "      <th>traffic_volume</th>\n",
              "      <th>date_time</th>\n",
              "    </tr>\n",
              "  </thead>\n",
              "  <tbody>\n",
              "    <tr>\n",
              "      <th>0</th>\n",
              "      <td>288.28</td>\n",
              "      <td>0.0</td>\n",
              "      <td>0.0</td>\n",
              "      <td>40</td>\n",
              "      <td>1</td>\n",
              "      <td>24</td>\n",
              "      <td>10</td>\n",
              "      <td>9</td>\n",
              "      <td>5545</td>\n",
              "      <td>2012-10-02 09:00:00</td>\n",
              "    </tr>\n",
              "    <tr>\n",
              "      <th>1</th>\n",
              "      <td>289.36</td>\n",
              "      <td>0.0</td>\n",
              "      <td>0.0</td>\n",
              "      <td>75</td>\n",
              "      <td>1</td>\n",
              "      <td>2</td>\n",
              "      <td>10</td>\n",
              "      <td>10</td>\n",
              "      <td>4516</td>\n",
              "      <td>2012-10-02 10:00:00</td>\n",
              "    </tr>\n",
              "    <tr>\n",
              "      <th>2</th>\n",
              "      <td>289.58</td>\n",
              "      <td>0.0</td>\n",
              "      <td>0.0</td>\n",
              "      <td>90</td>\n",
              "      <td>1</td>\n",
              "      <td>19</td>\n",
              "      <td>10</td>\n",
              "      <td>11</td>\n",
              "      <td>4767</td>\n",
              "      <td>2012-10-02 11:00:00</td>\n",
              "    </tr>\n",
              "    <tr>\n",
              "      <th>3</th>\n",
              "      <td>290.13</td>\n",
              "      <td>0.0</td>\n",
              "      <td>0.0</td>\n",
              "      <td>90</td>\n",
              "      <td>1</td>\n",
              "      <td>19</td>\n",
              "      <td>10</td>\n",
              "      <td>12</td>\n",
              "      <td>5026</td>\n",
              "      <td>2012-10-02 12:00:00</td>\n",
              "    </tr>\n",
              "    <tr>\n",
              "      <th>4</th>\n",
              "      <td>291.14</td>\n",
              "      <td>0.0</td>\n",
              "      <td>0.0</td>\n",
              "      <td>75</td>\n",
              "      <td>1</td>\n",
              "      <td>2</td>\n",
              "      <td>10</td>\n",
              "      <td>13</td>\n",
              "      <td>4918</td>\n",
              "      <td>2012-10-02 13:00:00</td>\n",
              "    </tr>\n",
              "  </tbody>\n",
              "</table>\n",
              "</div>\n",
              "      <button class=\"colab-df-convert\" onclick=\"convertToInteractive('df-227cb50b-0d7a-4f56-9c5e-b54fdee4d5d7')\"\n",
              "              title=\"Convert this dataframe to an interactive table.\"\n",
              "              style=\"display:none;\">\n",
              "        \n",
              "  <svg xmlns=\"http://www.w3.org/2000/svg\" height=\"24px\"viewBox=\"0 0 24 24\"\n",
              "       width=\"24px\">\n",
              "    <path d=\"M0 0h24v24H0V0z\" fill=\"none\"/>\n",
              "    <path d=\"M18.56 5.44l.94 2.06.94-2.06 2.06-.94-2.06-.94-.94-2.06-.94 2.06-2.06.94zm-11 1L8.5 8.5l.94-2.06 2.06-.94-2.06-.94L8.5 2.5l-.94 2.06-2.06.94zm10 10l.94 2.06.94-2.06 2.06-.94-2.06-.94-.94-2.06-.94 2.06-2.06.94z\"/><path d=\"M17.41 7.96l-1.37-1.37c-.4-.4-.92-.59-1.43-.59-.52 0-1.04.2-1.43.59L10.3 9.45l-7.72 7.72c-.78.78-.78 2.05 0 2.83L4 21.41c.39.39.9.59 1.41.59.51 0 1.02-.2 1.41-.59l7.78-7.78 2.81-2.81c.8-.78.8-2.07 0-2.86zM5.41 20L4 18.59l7.72-7.72 1.47 1.35L5.41 20z\"/>\n",
              "  </svg>\n",
              "      </button>\n",
              "      \n",
              "  <style>\n",
              "    .colab-df-container {\n",
              "      display:flex;\n",
              "      flex-wrap:wrap;\n",
              "      gap: 12px;\n",
              "    }\n",
              "\n",
              "    .colab-df-convert {\n",
              "      background-color: #E8F0FE;\n",
              "      border: none;\n",
              "      border-radius: 50%;\n",
              "      cursor: pointer;\n",
              "      display: none;\n",
              "      fill: #1967D2;\n",
              "      height: 32px;\n",
              "      padding: 0 0 0 0;\n",
              "      width: 32px;\n",
              "    }\n",
              "\n",
              "    .colab-df-convert:hover {\n",
              "      background-color: #E2EBFA;\n",
              "      box-shadow: 0px 1px 2px rgba(60, 64, 67, 0.3), 0px 1px 3px 1px rgba(60, 64, 67, 0.15);\n",
              "      fill: #174EA6;\n",
              "    }\n",
              "\n",
              "    [theme=dark] .colab-df-convert {\n",
              "      background-color: #3B4455;\n",
              "      fill: #D2E3FC;\n",
              "    }\n",
              "\n",
              "    [theme=dark] .colab-df-convert:hover {\n",
              "      background-color: #434B5C;\n",
              "      box-shadow: 0px 1px 3px 1px rgba(0, 0, 0, 0.15);\n",
              "      filter: drop-shadow(0px 1px 2px rgba(0, 0, 0, 0.3));\n",
              "      fill: #FFFFFF;\n",
              "    }\n",
              "  </style>\n",
              "\n",
              "      <script>\n",
              "        const buttonEl =\n",
              "          document.querySelector('#df-227cb50b-0d7a-4f56-9c5e-b54fdee4d5d7 button.colab-df-convert');\n",
              "        buttonEl.style.display =\n",
              "          google.colab.kernel.accessAllowed ? 'block' : 'none';\n",
              "\n",
              "        async function convertToInteractive(key) {\n",
              "          const element = document.querySelector('#df-227cb50b-0d7a-4f56-9c5e-b54fdee4d5d7');\n",
              "          const dataTable =\n",
              "            await google.colab.kernel.invokeFunction('convertToInteractive',\n",
              "                                                     [key], {});\n",
              "          if (!dataTable) return;\n",
              "\n",
              "          const docLinkHtml = 'Like what you see? Visit the ' +\n",
              "            '<a target=\"_blank\" href=https://colab.research.google.com/notebooks/data_table.ipynb>data table notebook</a>'\n",
              "            + ' to learn more about interactive tables.';\n",
              "          element.innerHTML = '';\n",
              "          dataTable['output_type'] = 'display_data';\n",
              "          await google.colab.output.renderOutput(dataTable, element);\n",
              "          const docLink = document.createElement('div');\n",
              "          docLink.innerHTML = docLinkHtml;\n",
              "          element.appendChild(docLink);\n",
              "        }\n",
              "      </script>\n",
              "    </div>\n",
              "  </div>\n",
              "  "
            ]
          },
          "metadata": {},
          "execution_count": 90
        }
      ]
    },
    {
      "cell_type": "code",
      "source": [
        "df.rain_1h.value_counts()"
      ],
      "metadata": {
        "colab": {
          "base_uri": "https://localhost:8080/"
        },
        "id": "vI9itx7cl7vP",
        "outputId": "949bfed4-077c-4fae-d24e-808361710af2"
      },
      "execution_count": null,
      "outputs": [
        {
          "output_type": "execute_result",
          "data": {
            "text/plain": [
              "0.00    44727\n",
              "0.25      948\n",
              "0.51      256\n",
              "1.02      123\n",
              "0.30      121\n",
              "        ...  \n",
              "1.28        1\n",
              "1.47        1\n",
              "4.66        1\n",
              "2.08        1\n",
              "2.35        1\n",
              "Name: rain_1h, Length: 372, dtype: int64"
            ]
          },
          "metadata": {},
          "execution_count": 125
        }
      ]
    },
    {
      "cell_type": "code",
      "source": [
        "df.snow_1h\t.value_counts()"
      ],
      "metadata": {
        "colab": {
          "base_uri": "https://localhost:8080/"
        },
        "id": "LlQ83Jxel8Th",
        "outputId": "9c7a78e6-affb-4eb5-8472-778f1387601d"
      },
      "execution_count": null,
      "outputs": [
        {
          "output_type": "execute_result",
          "data": {
            "text/plain": [
              "0.00    48131\n",
              "0.05       14\n",
              "0.06       12\n",
              "0.51        6\n",
              "0.25        6\n",
              "0.13        6\n",
              "0.10        6\n",
              "0.32        5\n",
              "0.17        3\n",
              "0.44        2\n",
              "0.08        2\n",
              "0.21        1\n",
              "Name: snow_1h, dtype: int64"
            ]
          },
          "metadata": {},
          "execution_count": 126
        }
      ]
    },
    {
      "cell_type": "code",
      "source": [
        "df.drop(['rain_1h','snow_1h'],axis=1,inplace=True)"
      ],
      "metadata": {
        "id": "0-uJJTgdmQiX"
      },
      "execution_count": null,
      "outputs": []
    },
    {
      "cell_type": "code",
      "source": [
        "df.sample(10)"
      ],
      "metadata": {
        "colab": {
          "base_uri": "https://localhost:8080/",
          "height": 363
        },
        "id": "E5Y7secRmhNX",
        "outputId": "c88586f6-b5f8-442e-cb33-0057de39598f"
      },
      "execution_count": null,
      "outputs": [
        {
          "output_type": "execute_result",
          "data": {
            "text/plain": [
              "         temp  clouds_all  weather_main  weather_description  month  hour  \\\n",
              "46585  292.68           1             5                   17      8     2   \n",
              "36888  290.68           1             0                   27      9     6   \n",
              "9682   270.50          20             5                   17     11     3   \n",
              "4774   267.64           1             0                   27      4     8   \n",
              "20509  273.67          90             8                   16      1    15   \n",
              "37797  286.44          90             2                   11     10    17   \n",
              "38328  281.15           1             0                   27     10     2   \n",
              "34320  285.09           1             0                   27      6     6   \n",
              "37368  304.15           1             0                   27      9    14   \n",
              "35816  291.37           1             0                   27      7     3   \n",
              "\n",
              "       traffic_volume           date_time  \n",
              "46585             374 2018-08-10 02:00:00  \n",
              "36888            1128 2017-09-04 06:00:00  \n",
              "9682              346 2013-11-07 03:00:00  \n",
              "4774             6410 2013-04-04 08:00:00  \n",
              "20509            5548 2016-01-08 15:00:00  \n",
              "37797            5655 2017-10-06 17:00:00  \n",
              "38328             268 2017-10-26 02:00:00  \n",
              "34320            5395 2017-06-07 06:00:00  \n",
              "37368            5481 2017-09-22 14:00:00  \n",
              "35816             372 2017-07-31 03:00:00  "
            ],
            "text/html": [
              "\n",
              "  <div id=\"df-0c5c6eb4-0a2d-403e-87af-68af4df473f6\">\n",
              "    <div class=\"colab-df-container\">\n",
              "      <div>\n",
              "<style scoped>\n",
              "    .dataframe tbody tr th:only-of-type {\n",
              "        vertical-align: middle;\n",
              "    }\n",
              "\n",
              "    .dataframe tbody tr th {\n",
              "        vertical-align: top;\n",
              "    }\n",
              "\n",
              "    .dataframe thead th {\n",
              "        text-align: right;\n",
              "    }\n",
              "</style>\n",
              "<table border=\"1\" class=\"dataframe\">\n",
              "  <thead>\n",
              "    <tr style=\"text-align: right;\">\n",
              "      <th></th>\n",
              "      <th>temp</th>\n",
              "      <th>clouds_all</th>\n",
              "      <th>weather_main</th>\n",
              "      <th>weather_description</th>\n",
              "      <th>month</th>\n",
              "      <th>hour</th>\n",
              "      <th>traffic_volume</th>\n",
              "      <th>date_time</th>\n",
              "    </tr>\n",
              "  </thead>\n",
              "  <tbody>\n",
              "    <tr>\n",
              "      <th>46585</th>\n",
              "      <td>292.68</td>\n",
              "      <td>1</td>\n",
              "      <td>5</td>\n",
              "      <td>17</td>\n",
              "      <td>8</td>\n",
              "      <td>2</td>\n",
              "      <td>374</td>\n",
              "      <td>2018-08-10 02:00:00</td>\n",
              "    </tr>\n",
              "    <tr>\n",
              "      <th>36888</th>\n",
              "      <td>290.68</td>\n",
              "      <td>1</td>\n",
              "      <td>0</td>\n",
              "      <td>27</td>\n",
              "      <td>9</td>\n",
              "      <td>6</td>\n",
              "      <td>1128</td>\n",
              "      <td>2017-09-04 06:00:00</td>\n",
              "    </tr>\n",
              "    <tr>\n",
              "      <th>9682</th>\n",
              "      <td>270.50</td>\n",
              "      <td>20</td>\n",
              "      <td>5</td>\n",
              "      <td>17</td>\n",
              "      <td>11</td>\n",
              "      <td>3</td>\n",
              "      <td>346</td>\n",
              "      <td>2013-11-07 03:00:00</td>\n",
              "    </tr>\n",
              "    <tr>\n",
              "      <th>4774</th>\n",
              "      <td>267.64</td>\n",
              "      <td>1</td>\n",
              "      <td>0</td>\n",
              "      <td>27</td>\n",
              "      <td>4</td>\n",
              "      <td>8</td>\n",
              "      <td>6410</td>\n",
              "      <td>2013-04-04 08:00:00</td>\n",
              "    </tr>\n",
              "    <tr>\n",
              "      <th>20509</th>\n",
              "      <td>273.67</td>\n",
              "      <td>90</td>\n",
              "      <td>8</td>\n",
              "      <td>16</td>\n",
              "      <td>1</td>\n",
              "      <td>15</td>\n",
              "      <td>5548</td>\n",
              "      <td>2016-01-08 15:00:00</td>\n",
              "    </tr>\n",
              "    <tr>\n",
              "      <th>37797</th>\n",
              "      <td>286.44</td>\n",
              "      <td>90</td>\n",
              "      <td>2</td>\n",
              "      <td>11</td>\n",
              "      <td>10</td>\n",
              "      <td>17</td>\n",
              "      <td>5655</td>\n",
              "      <td>2017-10-06 17:00:00</td>\n",
              "    </tr>\n",
              "    <tr>\n",
              "      <th>38328</th>\n",
              "      <td>281.15</td>\n",
              "      <td>1</td>\n",
              "      <td>0</td>\n",
              "      <td>27</td>\n",
              "      <td>10</td>\n",
              "      <td>2</td>\n",
              "      <td>268</td>\n",
              "      <td>2017-10-26 02:00:00</td>\n",
              "    </tr>\n",
              "    <tr>\n",
              "      <th>34320</th>\n",
              "      <td>285.09</td>\n",
              "      <td>1</td>\n",
              "      <td>0</td>\n",
              "      <td>27</td>\n",
              "      <td>6</td>\n",
              "      <td>6</td>\n",
              "      <td>5395</td>\n",
              "      <td>2017-06-07 06:00:00</td>\n",
              "    </tr>\n",
              "    <tr>\n",
              "      <th>37368</th>\n",
              "      <td>304.15</td>\n",
              "      <td>1</td>\n",
              "      <td>0</td>\n",
              "      <td>27</td>\n",
              "      <td>9</td>\n",
              "      <td>14</td>\n",
              "      <td>5481</td>\n",
              "      <td>2017-09-22 14:00:00</td>\n",
              "    </tr>\n",
              "    <tr>\n",
              "      <th>35816</th>\n",
              "      <td>291.37</td>\n",
              "      <td>1</td>\n",
              "      <td>0</td>\n",
              "      <td>27</td>\n",
              "      <td>7</td>\n",
              "      <td>3</td>\n",
              "      <td>372</td>\n",
              "      <td>2017-07-31 03:00:00</td>\n",
              "    </tr>\n",
              "  </tbody>\n",
              "</table>\n",
              "</div>\n",
              "      <button class=\"colab-df-convert\" onclick=\"convertToInteractive('df-0c5c6eb4-0a2d-403e-87af-68af4df473f6')\"\n",
              "              title=\"Convert this dataframe to an interactive table.\"\n",
              "              style=\"display:none;\">\n",
              "        \n",
              "  <svg xmlns=\"http://www.w3.org/2000/svg\" height=\"24px\"viewBox=\"0 0 24 24\"\n",
              "       width=\"24px\">\n",
              "    <path d=\"M0 0h24v24H0V0z\" fill=\"none\"/>\n",
              "    <path d=\"M18.56 5.44l.94 2.06.94-2.06 2.06-.94-2.06-.94-.94-2.06-.94 2.06-2.06.94zm-11 1L8.5 8.5l.94-2.06 2.06-.94-2.06-.94L8.5 2.5l-.94 2.06-2.06.94zm10 10l.94 2.06.94-2.06 2.06-.94-2.06-.94-.94-2.06-.94 2.06-2.06.94z\"/><path d=\"M17.41 7.96l-1.37-1.37c-.4-.4-.92-.59-1.43-.59-.52 0-1.04.2-1.43.59L10.3 9.45l-7.72 7.72c-.78.78-.78 2.05 0 2.83L4 21.41c.39.39.9.59 1.41.59.51 0 1.02-.2 1.41-.59l7.78-7.78 2.81-2.81c.8-.78.8-2.07 0-2.86zM5.41 20L4 18.59l7.72-7.72 1.47 1.35L5.41 20z\"/>\n",
              "  </svg>\n",
              "      </button>\n",
              "      \n",
              "  <style>\n",
              "    .colab-df-container {\n",
              "      display:flex;\n",
              "      flex-wrap:wrap;\n",
              "      gap: 12px;\n",
              "    }\n",
              "\n",
              "    .colab-df-convert {\n",
              "      background-color: #E8F0FE;\n",
              "      border: none;\n",
              "      border-radius: 50%;\n",
              "      cursor: pointer;\n",
              "      display: none;\n",
              "      fill: #1967D2;\n",
              "      height: 32px;\n",
              "      padding: 0 0 0 0;\n",
              "      width: 32px;\n",
              "    }\n",
              "\n",
              "    .colab-df-convert:hover {\n",
              "      background-color: #E2EBFA;\n",
              "      box-shadow: 0px 1px 2px rgba(60, 64, 67, 0.3), 0px 1px 3px 1px rgba(60, 64, 67, 0.15);\n",
              "      fill: #174EA6;\n",
              "    }\n",
              "\n",
              "    [theme=dark] .colab-df-convert {\n",
              "      background-color: #3B4455;\n",
              "      fill: #D2E3FC;\n",
              "    }\n",
              "\n",
              "    [theme=dark] .colab-df-convert:hover {\n",
              "      background-color: #434B5C;\n",
              "      box-shadow: 0px 1px 3px 1px rgba(0, 0, 0, 0.15);\n",
              "      filter: drop-shadow(0px 1px 2px rgba(0, 0, 0, 0.3));\n",
              "      fill: #FFFFFF;\n",
              "    }\n",
              "  </style>\n",
              "\n",
              "      <script>\n",
              "        const buttonEl =\n",
              "          document.querySelector('#df-0c5c6eb4-0a2d-403e-87af-68af4df473f6 button.colab-df-convert');\n",
              "        buttonEl.style.display =\n",
              "          google.colab.kernel.accessAllowed ? 'block' : 'none';\n",
              "\n",
              "        async function convertToInteractive(key) {\n",
              "          const element = document.querySelector('#df-0c5c6eb4-0a2d-403e-87af-68af4df473f6');\n",
              "          const dataTable =\n",
              "            await google.colab.kernel.invokeFunction('convertToInteractive',\n",
              "                                                     [key], {});\n",
              "          if (!dataTable) return;\n",
              "\n",
              "          const docLinkHtml = 'Like what you see? Visit the ' +\n",
              "            '<a target=\"_blank\" href=https://colab.research.google.com/notebooks/data_table.ipynb>data table notebook</a>'\n",
              "            + ' to learn more about interactive tables.';\n",
              "          element.innerHTML = '';\n",
              "          dataTable['output_type'] = 'display_data';\n",
              "          await google.colab.output.renderOutput(dataTable, element);\n",
              "          const docLink = document.createElement('div');\n",
              "          docLink.innerHTML = docLinkHtml;\n",
              "          element.appendChild(docLink);\n",
              "        }\n",
              "      </script>\n",
              "    </div>\n",
              "  </div>\n",
              "  "
            ]
          },
          "metadata": {},
          "execution_count": 131
        }
      ]
    },
    {
      "cell_type": "code",
      "source": [
        "df.hour.hist()"
      ],
      "metadata": {
        "colab": {
          "base_uri": "https://localhost:8080/",
          "height": 283
        },
        "id": "47UpqxB3m2f0",
        "outputId": "5b89c855-bfdb-4bcc-d8a7-740a078962ac"
      },
      "execution_count": null,
      "outputs": [
        {
          "output_type": "execute_result",
          "data": {
            "text/plain": [
              "<matplotlib.axes._subplots.AxesSubplot at 0x7f13176ce050>"
            ]
          },
          "metadata": {},
          "execution_count": 156
        },
        {
          "output_type": "display_data",
          "data": {
            "text/plain": [
              "<Figure size 432x288 with 1 Axes>"
            ],
            "image/png": "[encoded data removed]"
          },
          "metadata": {
            "needs_background": "light"
          }
        }
      ]
    },
    {
      "cell_type": "code",
      "source": [
        "df.shape"
      ],
      "metadata": {
        "colab": {
          "base_uri": "https://localhost:8080/"
        },
        "id": "1crUaQmooRM-",
        "outputId": "c763c3bd-f09e-4e02-e1b5-e03b88299023"
      },
      "execution_count": null,
      "outputs": [
        {
          "output_type": "execute_result",
          "data": {
            "text/plain": [
              "(48194, 8)"
            ]
          },
          "metadata": {},
          "execution_count": 138
        }
      ]
    },
    {
      "cell_type": "code",
      "source": [
        "df.clouds_all.value_counts()"
      ],
      "metadata": {
        "id": "O8G0HeydiqVY"
      },
      "execution_count": null,
      "outputs": []
    },
    {
      "cell_type": "code",
      "source": [
        "df.tail(6)"
      ],
      "metadata": {
        "colab": {
          "base_uri": "https://localhost:8080/",
          "height": 237
        },
        "id": "3m6Pfx-GkfdC",
        "outputId": "b3cbafa5-957c-40a0-c199-27e08de34bb2"
      },
      "execution_count": null,
      "outputs": [
        {
          "output_type": "execute_result",
          "data": {
            "text/plain": [
              "         temp  clouds_all  weather_main  weather_description  month  hour  \\\n",
              "48198  284.20          75             6                   13      9    18   \n",
              "48199  283.45          75             1                    2      9    19   \n",
              "48200  282.76          90             1                   19      9    20   \n",
              "48201  282.73          90            10                   21      9    21   \n",
              "48202  282.09          90             1                   19      9    22   \n",
              "48203  282.12          90             1                   19      9    23   \n",
              "\n",
              "       traffic_volume           date_time  \n",
              "48198            3947 2018-09-30 18:00:00  \n",
              "48199            3543 2018-09-30 19:00:00  \n",
              "48200            2781 2018-09-30 20:00:00  \n",
              "48201            2159 2018-09-30 21:00:00  \n",
              "48202            1450 2018-09-30 22:00:00  \n",
              "48203             954 2018-09-30 23:00:00  "
            ],
            "text/html": [
              "\n",
              "  <div id=\"df-562522a9-f4c6-412d-8a63-da0b87c2c785\">\n",
              "    <div class=\"colab-df-container\">\n",
              "      <div>\n",
              "<style scoped>\n",
              "    .dataframe tbody tr th:only-of-type {\n",
              "        vertical-align: middle;\n",
              "    }\n",
              "\n",
              "    .dataframe tbody tr th {\n",
              "        vertical-align: top;\n",
              "    }\n",
              "\n",
              "    .dataframe thead th {\n",
              "        text-align: right;\n",
              "    }\n",
              "</style>\n",
              "<table border=\"1\" class=\"dataframe\">\n",
              "  <thead>\n",
              "    <tr style=\"text-align: right;\">\n",
              "      <th></th>\n",
              "      <th>temp</th>\n",
              "      <th>clouds_all</th>\n",
              "      <th>weather_main</th>\n",
              "      <th>weather_description</th>\n",
              "      <th>month</th>\n",
              "      <th>hour</th>\n",
              "      <th>traffic_volume</th>\n",
              "      <th>date_time</th>\n",
              "    </tr>\n",
              "  </thead>\n",
              "  <tbody>\n",
              "    <tr>\n",
              "      <th>48198</th>\n",
              "      <td>284.20</td>\n",
              "      <td>75</td>\n",
              "      <td>6</td>\n",
              "      <td>13</td>\n",
              "      <td>9</td>\n",
              "      <td>18</td>\n",
              "      <td>3947</td>\n",
              "      <td>2018-09-30 18:00:00</td>\n",
              "    </tr>\n",
              "    <tr>\n",
              "      <th>48199</th>\n",
              "      <td>283.45</td>\n",
              "      <td>75</td>\n",
              "      <td>1</td>\n",
              "      <td>2</td>\n",
              "      <td>9</td>\n",
              "      <td>19</td>\n",
              "      <td>3543</td>\n",
              "      <td>2018-09-30 19:00:00</td>\n",
              "    </tr>\n",
              "    <tr>\n",
              "      <th>48200</th>\n",
              "      <td>282.76</td>\n",
              "      <td>90</td>\n",
              "      <td>1</td>\n",
              "      <td>19</td>\n",
              "      <td>9</td>\n",
              "      <td>20</td>\n",
              "      <td>2781</td>\n",
              "      <td>2018-09-30 20:00:00</td>\n",
              "    </tr>\n",
              "    <tr>\n",
              "      <th>48201</th>\n",
              "      <td>282.73</td>\n",
              "      <td>90</td>\n",
              "      <td>10</td>\n",
              "      <td>21</td>\n",
              "      <td>9</td>\n",
              "      <td>21</td>\n",
              "      <td>2159</td>\n",
              "      <td>2018-09-30 21:00:00</td>\n",
              "    </tr>\n",
              "    <tr>\n",
              "      <th>48202</th>\n",
              "      <td>282.09</td>\n",
              "      <td>90</td>\n",
              "      <td>1</td>\n",
              "      <td>19</td>\n",
              "      <td>9</td>\n",
              "      <td>22</td>\n",
              "      <td>1450</td>\n",
              "      <td>2018-09-30 22:00:00</td>\n",
              "    </tr>\n",
              "    <tr>\n",
              "      <th>48203</th>\n",
              "      <td>282.12</td>\n",
              "      <td>90</td>\n",
              "      <td>1</td>\n",
              "      <td>19</td>\n",
              "      <td>9</td>\n",
              "      <td>23</td>\n",
              "      <td>954</td>\n",
              "      <td>2018-09-30 23:00:00</td>\n",
              "    </tr>\n",
              "  </tbody>\n",
              "</table>\n",
              "</div>\n",
              "      <button class=\"colab-df-convert\" onclick=\"convertToInteractive('df-562522a9-f4c6-412d-8a63-da0b87c2c785')\"\n",
              "              title=\"Convert this dataframe to an interactive table.\"\n",
              "              style=\"display:none;\">\n",
              "        \n",
              "  <svg xmlns=\"http://www.w3.org/2000/svg\" height=\"24px\"viewBox=\"0 0 24 24\"\n",
              "       width=\"24px\">\n",
              "    <path d=\"M0 0h24v24H0V0z\" fill=\"none\"/>\n",
              "    <path d=\"M18.56 5.44l.94 2.06.94-2.06 2.06-.94-2.06-.94-.94-2.06-.94 2.06-2.06.94zm-11 1L8.5 8.5l.94-2.06 2.06-.94-2.06-.94L8.5 2.5l-.94 2.06-2.06.94zm10 10l.94 2.06.94-2.06 2.06-.94-2.06-.94-.94-2.06-.94 2.06-2.06.94z\"/><path d=\"M17.41 7.96l-1.37-1.37c-.4-.4-.92-.59-1.43-.59-.52 0-1.04.2-1.43.59L10.3 9.45l-7.72 7.72c-.78.78-.78 2.05 0 2.83L4 21.41c.39.39.9.59 1.41.59.51 0 1.02-.2 1.41-.59l7.78-7.78 2.81-2.81c.8-.78.8-2.07 0-2.86zM5.41 20L4 18.59l7.72-7.72 1.47 1.35L5.41 20z\"/>\n",
              "  </svg>\n",
              "      </button>\n",
              "      \n",
              "  <style>\n",
              "    .colab-df-container {\n",
              "      display:flex;\n",
              "      flex-wrap:wrap;\n",
              "      gap: 12px;\n",
              "    }\n",
              "\n",
              "    .colab-df-convert {\n",
              "      background-color: #E8F0FE;\n",
              "      border: none;\n",
              "      border-radius: 50%;\n",
              "      cursor: pointer;\n",
              "      display: none;\n",
              "      fill: #1967D2;\n",
              "      height: 32px;\n",
              "      padding: 0 0 0 0;\n",
              "      width: 32px;\n",
              "    }\n",
              "\n",
              "    .colab-df-convert:hover {\n",
              "      background-color: #E2EBFA;\n",
              "      box-shadow: 0px 1px 2px rgba(60, 64, 67, 0.3), 0px 1px 3px 1px rgba(60, 64, 67, 0.15);\n",
              "      fill: #174EA6;\n",
              "    }\n",
              "\n",
              "    [theme=dark] .colab-df-convert {\n",
              "      background-color: #3B4455;\n",
              "      fill: #D2E3FC;\n",
              "    }\n",
              "\n",
              "    [theme=dark] .colab-df-convert:hover {\n",
              "      background-color: #434B5C;\n",
              "      box-shadow: 0px 1px 3px 1px rgba(0, 0, 0, 0.15);\n",
              "      filter: drop-shadow(0px 1px 2px rgba(0, 0, 0, 0.3));\n",
              "      fill: #FFFFFF;\n",
              "    }\n",
              "  </style>\n",
              "\n",
              "      <script>\n",
              "        const buttonEl =\n",
              "          document.querySelector('#df-562522a9-f4c6-412d-8a63-da0b87c2c785 button.colab-df-convert');\n",
              "        buttonEl.style.display =\n",
              "          google.colab.kernel.accessAllowed ? 'block' : 'none';\n",
              "\n",
              "        async function convertToInteractive(key) {\n",
              "          const element = document.querySelector('#df-562522a9-f4c6-412d-8a63-da0b87c2c785');\n",
              "          const dataTable =\n",
              "            await google.colab.kernel.invokeFunction('convertToInteractive',\n",
              "                                                     [key], {});\n",
              "          if (!dataTable) return;\n",
              "\n",
              "          const docLinkHtml = 'Like what you see? Visit the ' +\n",
              "            '<a target=\"_blank\" href=https://colab.research.google.com/notebooks/data_table.ipynb>data table notebook</a>'\n",
              "            + ' to learn more about interactive tables.';\n",
              "          element.innerHTML = '';\n",
              "          dataTable['output_type'] = 'display_data';\n",
              "          await google.colab.output.renderOutput(dataTable, element);\n",
              "          const docLink = document.createElement('div');\n",
              "          docLink.innerHTML = docLinkHtml;\n",
              "          element.appendChild(docLink);\n",
              "        }\n",
              "      </script>\n",
              "    </div>\n",
              "  </div>\n",
              "  "
            ]
          },
          "metadata": {},
          "execution_count": 158
        }
      ]
    },
    {
      "cell_type": "code",
      "source": [
        "plt.figure(figsize=(15,10))\n",
        "\n",
        "plt.hist(df['temp'], alpha = 0.5, label='temp')\n",
        "plt.hist(df['clouds_all'], alpha = 0.5, label='clouds_all')\n",
        "plt.hist(df['weather_main'], alpha = 0.5, label='weather_main')\n",
        "plt.hist(df['weather_description'], alpha = 0.5, label='weather_description')\n",
        "plt.hist(df['month'], alpha = 0.5, label='month')\n",
        "plt.hist(df['hour'], alpha = 0.5, label='hour')\n",
        "\n",
        "plt.show()"
      ],
      "metadata": {
        "colab": {
          "base_uri": "https://localhost:8080/",
          "height": 592
        },
        "id": "wQsMfUqAqBCS",
        "outputId": "905bf183-fde2-493a-8402-7786eea63898"
      },
      "execution_count": null,
      "outputs": [
        {
          "output_type": "display_data",
          "data": {
            "text/plain": [
              "<Figure size 1080x720 with 1 Axes>"
            ],
            "image/png": "[encoded data removed]"
          },
          "metadata": {
            "needs_background": "light"
          }
        }
      ]
    },
    {
      "cell_type": "code",
      "source": [
        "df.to_csv('metro_tr_очищен2.csv')"
      ],
      "metadata": {
        "id": "-z7HKlYCque1"
      },
      "execution_count": null,
      "outputs": []
    }
  ]
}